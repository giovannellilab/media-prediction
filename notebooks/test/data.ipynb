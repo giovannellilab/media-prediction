{
 "cells": [
  {
   "cell_type": "markdown",
   "id": "fa5e3387",
   "metadata": {},
   "source": [
    "\n",
    "### **Media Prediction**\n",
    "\n",
    "**Media/Culture Information**\n",
    "\n",
    "1.1 MediaDive | Provides media IDs, components/annotations, associated taxa, and other relevant information\n",
    "\n",
    "1.2 BacDive | Provides culture/isolation info, metabolic annotations (including ec), and more (1.1)\n",
    "\n",
    "**Taxa to EC**\n",
    "\n",
    "2.1 UniProtKB (species) | Queries UniProtKB for ec numbers from an input of species names (1.1)\n",
    "\n",
    "2.2 UniProtKB (taxon_id) | Queries UniProtKB for ec numbers from an input of NCBI taxon_id's (1.2)\n",
    "\n",
    "2.3 Final taxa2ec dataframe | Formatting identifiers and associated ec numbers (1.2, 2.1, 2.3)\n",
    "\n",
    "**Media to EC**\n",
    "\n",
    "3.1 UniProtKB (KEGG CPD) | Queries UniProtKB for ec numbers from an input of KEGG compounds (1.1)\n",
    "\n",
    "\n",
    "\n",
    "*Search terms: \"final dataframe\", \"#SAVE\", \"To-do\", ...*"
   ]
  },
  {
   "cell_type": "code",
   "execution_count": 1,
   "id": "cb12e0f5-e382-4285-9135-ed4830b965b6",
   "metadata": {},
   "outputs": [],
   "source": [
    "import pandas as pd\n",
    "from tqdm import tqdm\n",
    "from io import StringIO\n",
    "\n",
    "# OS for reading/saving\n",
    "import os\n",
    "DATA_DIR = '~/Desktop/code/data/test/'\n",
    "\n",
    "# Requests for querying databases\n",
    "import requests\n",
    "import re\n",
    "from requests.adapters import HTTPAdapter, Retry"
   ]
  },
  {
   "cell_type": "markdown",
   "id": "7bbcd7f8-0407-4504-b6e6-0e3e08f0b8a3",
   "metadata": {},
   "source": [
    "### [1.1] MediaDive\n",
    "\n",
    "Returns all information (media id's, components, component id's, characteristics, associated taxa information, etc.) used for subsequent analyses."
   ]
  },
  {
   "cell_type": "code",
   "execution_count": 2,
   "id": "45467e3d-7884-4de4-a3d3-2203c906f9bc",
   "metadata": {
    "tags": []
   },
   "outputs": [],
   "source": [
    "import modules.mediadive as md"
   ]
  },
  {
   "cell_type": "markdown",
   "id": "3b8f586a-93e2-4bfa-a682-ec7bce57e2d4",
   "metadata": {},
   "source": [
    "Retrieve all MediaDive info"
   ]
  },
  {
   "cell_type": "code",
   "execution_count": 3,
   "id": "c627549b",
   "metadata": {},
   "outputs": [],
   "source": [
    "# Retrieve all available media from MediaDive\n",
    "md_media_df = md.get_media()\n",
    "md_media_df.to_csv(os.path.join(DATA_DIR,\"mediadive\", \"mediadive-media.csv\"), index=False) #SAVE"
   ]
  },
  {
   "cell_type": "code",
   "execution_count": 4,
   "id": "6bed5189-f7e0-472b-9613-f63b312ec6b7",
   "metadata": {
    "tags": []
   },
   "outputs": [
    {
     "name": "stderr",
     "output_type": "stream",
     "text": [
      "100%|██████████| 3315/3315 [07:47<00:00,  7.09it/s]\n",
      "100%|██████████| 3315/3315 [07:35<00:00,  7.27it/s]\n"
     ]
    }
   ],
   "source": [
    "# Create media_id_list\n",
    "md_media_df = md_media_df.rename(columns={\"id\": \"media_id\"})\n",
    "media_id_list = md_media_df[\"media_id\"].astype(str).unique()\n",
    "\n",
    "# Use media_id_list to retrieve media composition information\n",
    "md_comp_df = md.get_composition(media_id_list)\n",
    "\n",
    "# Use media_id_list to retrieve media-associated strain information\n",
    "md_strains_df = md.get_strains(media_id_list)\n",
    "\n",
    "md_comp_df.to_csv(os.path.join(DATA_DIR, \"mediadive\",\"mediadive-media-comp.csv\"), sep=\";\", index=False) #SAVE\n",
    "md_strains_df.to_csv(os.path.join(DATA_DIR, \"mediadive\", \"mediadive-media-strains.csv\"), sep=\";\", index=False) #SAVE"
   ]
  },
  {
   "cell_type": "markdown",
   "id": "165af5ea-1b99-4a18-a5fa-7dd22ecbabce",
   "metadata": {},
   "source": [
    "Merge MediaDive outputs"
   ]
  },
  {
   "cell_type": "code",
   "execution_count": 7,
   "id": "0d84b4d1-b926-4cd0-8152-86b98c5a435b",
   "metadata": {},
   "outputs": [],
   "source": [
    "# Merge media composition and strains info\n",
    "md_df = pd.merge(left=md_comp_df, right=md_strains_df, on=\"media_id\", how=\"outer\", indicator=True)\n",
    "\n",
    "# Merge media information with original dataframe\n",
    "md_df = pd.merge(left=md_media_df, right=md_df, on=\"media_id\", how=\"left\", indicator=False)\n",
    "\n",
    "# Add extra column indicating the source of the data\n",
    "md_df = md_df.rename(columns={\"_merge\": \"merge_source\"})\n",
    "md_df[\"merge_source\"] = md_df[\"merge_source\"].cat.rename_categories({\"right_only\": \"composition_only\", \"left_only\": \"strains_only\"})\n",
    "\n",
    "md_df.to_csv(os.path.join(DATA_DIR,\"mediadive\",\"mediadive-all.csv\"), sep=\";\", index=False) #SAVE"
   ]
  },
  {
   "cell_type": "markdown",
   "id": "daa03cd1-a32c-409c-866c-ffdd277096de",
   "metadata": {},
   "source": [
    "**MediaDive final dataframe**"
   ]
  },
  {
   "cell_type": "code",
   "execution_count": 8,
   "id": "982299b4-d83f-41ac-9417-4d1a1389f879",
   "metadata": {
    "tags": []
   },
   "outputs": [
    {
     "data": {
      "text/html": [
       "<div>\n",
       "<style scoped>\n",
       "    .dataframe tbody tr th:only-of-type {\n",
       "        vertical-align: middle;\n",
       "    }\n",
       "\n",
       "    .dataframe tbody tr th {\n",
       "        vertical-align: top;\n",
       "    }\n",
       "\n",
       "    .dataframe thead th {\n",
       "        text-align: right;\n",
       "    }\n",
       "</style>\n",
       "<table border=\"1\" class=\"dataframe\">\n",
       "  <thead>\n",
       "    <tr style=\"text-align: right;\">\n",
       "      <th></th>\n",
       "      <th>media_id</th>\n",
       "      <th>name</th>\n",
       "      <th>complex_medium</th>\n",
       "      <th>source</th>\n",
       "      <th>link</th>\n",
       "      <th>min_pH</th>\n",
       "      <th>max_pH</th>\n",
       "      <th>reference</th>\n",
       "      <th>description</th>\n",
       "      <th>components</th>\n",
       "      <th>component_ids</th>\n",
       "      <th>strain_id</th>\n",
       "      <th>species</th>\n",
       "      <th>ccno</th>\n",
       "      <th>bacdive_id</th>\n",
       "      <th>merge_source</th>\n",
       "    </tr>\n",
       "  </thead>\n",
       "  <tbody>\n",
       "    <tr>\n",
       "      <th>0</th>\n",
       "      <td>1</td>\n",
       "      <td>NUTRIENT AGAR</td>\n",
       "      <td>1</td>\n",
       "      <td>DSMZ</td>\n",
       "      <td>https://www.dsmz.de/microorganisms/medium/pdf/...</td>\n",
       "      <td>7.0</td>\n",
       "      <td>7.0</td>\n",
       "      <td>NaN</td>\n",
       "      <td>NaN</td>\n",
       "      <td>NaN</td>\n",
       "      <td>NaN</td>\n",
       "      <td>NaN</td>\n",
       "      <td>NaN</td>\n",
       "      <td>NaN</td>\n",
       "      <td>NaN</td>\n",
       "      <td>NaN</td>\n",
       "    </tr>\n",
       "    <tr>\n",
       "      <th>1</th>\n",
       "      <td>1a</td>\n",
       "      <td>REACTIVATION WITH LIQUID MEDIUM 1</td>\n",
       "      <td>1</td>\n",
       "      <td>DSMZ</td>\n",
       "      <td>https://www.dsmz.de/microorganisms/medium/pdf/...</td>\n",
       "      <td>7.0</td>\n",
       "      <td>7.0</td>\n",
       "      <td>NaN</td>\n",
       "      <td>NaN</td>\n",
       "      <td>['Peptone', 'Meat extract', 'Agar', 'Distilled...</td>\n",
       "      <td>[1, 2, 3, 4]</td>\n",
       "      <td>29.0</td>\n",
       "      <td>Comamonas testosteroni</td>\n",
       "      <td>DSM 38</td>\n",
       "      <td>2912.0</td>\n",
       "      <td>both</td>\n",
       "    </tr>\n",
       "    <tr>\n",
       "      <th>2</th>\n",
       "      <td>1a</td>\n",
       "      <td>REACTIVATION WITH LIQUID MEDIUM 1</td>\n",
       "      <td>1</td>\n",
       "      <td>DSMZ</td>\n",
       "      <td>https://www.dsmz.de/microorganisms/medium/pdf/...</td>\n",
       "      <td>7.0</td>\n",
       "      <td>7.0</td>\n",
       "      <td>NaN</td>\n",
       "      <td>NaN</td>\n",
       "      <td>['Peptone', 'Meat extract', 'Agar', 'Distilled...</td>\n",
       "      <td>[1, 2, 3, 4]</td>\n",
       "      <td>30.0</td>\n",
       "      <td>Delftia acidovorans</td>\n",
       "      <td>DSM 39</td>\n",
       "      <td>2941.0</td>\n",
       "      <td>both</td>\n",
       "    </tr>\n",
       "    <tr>\n",
       "      <th>3</th>\n",
       "      <td>1a</td>\n",
       "      <td>REACTIVATION WITH LIQUID MEDIUM 1</td>\n",
       "      <td>1</td>\n",
       "      <td>DSMZ</td>\n",
       "      <td>https://www.dsmz.de/microorganisms/medium/pdf/...</td>\n",
       "      <td>7.0</td>\n",
       "      <td>7.0</td>\n",
       "      <td>NaN</td>\n",
       "      <td>NaN</td>\n",
       "      <td>['Peptone', 'Meat extract', 'Agar', 'Distilled...</td>\n",
       "      <td>[1, 2, 3, 4]</td>\n",
       "      <td>39.0</td>\n",
       "      <td>Acidovorax delafieldii</td>\n",
       "      <td>DSM 64</td>\n",
       "      <td>2885.0</td>\n",
       "      <td>both</td>\n",
       "    </tr>\n",
       "    <tr>\n",
       "      <th>4</th>\n",
       "      <td>1a</td>\n",
       "      <td>REACTIVATION WITH LIQUID MEDIUM 1</td>\n",
       "      <td>1</td>\n",
       "      <td>DSMZ</td>\n",
       "      <td>https://www.dsmz.de/microorganisms/medium/pdf/...</td>\n",
       "      <td>7.0</td>\n",
       "      <td>7.0</td>\n",
       "      <td>NaN</td>\n",
       "      <td>NaN</td>\n",
       "      <td>['Peptone', 'Meat extract', 'Agar', 'Distilled...</td>\n",
       "      <td>[1, 2, 3, 4]</td>\n",
       "      <td>52.0</td>\n",
       "      <td>Pseudomonas putida</td>\n",
       "      <td>DSM 84</td>\n",
       "      <td>12895.0</td>\n",
       "      <td>both</td>\n",
       "    </tr>\n",
       "  </tbody>\n",
       "</table>\n",
       "</div>"
      ],
      "text/plain": [
       "  media_id                               name  complex_medium source  \\\n",
       "0        1                      NUTRIENT AGAR               1   DSMZ   \n",
       "1       1a  REACTIVATION WITH LIQUID MEDIUM 1               1   DSMZ   \n",
       "2       1a  REACTIVATION WITH LIQUID MEDIUM 1               1   DSMZ   \n",
       "3       1a  REACTIVATION WITH LIQUID MEDIUM 1               1   DSMZ   \n",
       "4       1a  REACTIVATION WITH LIQUID MEDIUM 1               1   DSMZ   \n",
       "\n",
       "                                                link  min_pH  max_pH  \\\n",
       "0  https://www.dsmz.de/microorganisms/medium/pdf/...     7.0     7.0   \n",
       "1  https://www.dsmz.de/microorganisms/medium/pdf/...     7.0     7.0   \n",
       "2  https://www.dsmz.de/microorganisms/medium/pdf/...     7.0     7.0   \n",
       "3  https://www.dsmz.de/microorganisms/medium/pdf/...     7.0     7.0   \n",
       "4  https://www.dsmz.de/microorganisms/medium/pdf/...     7.0     7.0   \n",
       "\n",
       "  reference description                                         components  \\\n",
       "0       NaN         NaN                                                NaN   \n",
       "1       NaN         NaN  ['Peptone', 'Meat extract', 'Agar', 'Distilled...   \n",
       "2       NaN         NaN  ['Peptone', 'Meat extract', 'Agar', 'Distilled...   \n",
       "3       NaN         NaN  ['Peptone', 'Meat extract', 'Agar', 'Distilled...   \n",
       "4       NaN         NaN  ['Peptone', 'Meat extract', 'Agar', 'Distilled...   \n",
       "\n",
       "  component_ids  strain_id                 species    ccno  bacdive_id  \\\n",
       "0           NaN        NaN                     NaN     NaN         NaN   \n",
       "1  [1, 2, 3, 4]       29.0  Comamonas testosteroni  DSM 38      2912.0   \n",
       "2  [1, 2, 3, 4]       30.0     Delftia acidovorans  DSM 39      2941.0   \n",
       "3  [1, 2, 3, 4]       39.0  Acidovorax delafieldii  DSM 64      2885.0   \n",
       "4  [1, 2, 3, 4]       52.0      Pseudomonas putida  DSM 84     12895.0   \n",
       "\n",
       "  merge_source  \n",
       "0          NaN  \n",
       "1         both  \n",
       "2         both  \n",
       "3         both  \n",
       "4         both  "
      ]
     },
     "execution_count": 8,
     "metadata": {},
     "output_type": "execute_result"
    }
   ],
   "source": [
    "md_df = pd.read_csv(os.path.join(DATA_DIR,\"mediadive\",\"mediadive-all.csv\"), sep = ';')\n",
    "md_df.head()"
   ]
  },
  {
   "cell_type": "markdown",
   "id": "3cb6f57d-a201-4ca5-99f7-5cbaf9bd09a9",
   "metadata": {},
   "source": [
    "### [1.2] BacDive\n",
    "\n",
    "Returns ec numbers, environmental info, metabolite data, taxonomic information, culturing info, and more from an input of bacdive_id's"
   ]
  },
  {
   "cell_type": "code",
   "execution_count": 9,
   "id": "2c967ce9-5eea-41f2-898b-5f16b38f17a9",
   "metadata": {
    "tags": []
   },
   "outputs": [],
   "source": [
    "import bacdive\n",
    "import modules.bacdive as bd"
   ]
  },
  {
   "cell_type": "markdown",
   "id": "09de1c39-34a6-486e-bc8d-6bca303ddbf0",
   "metadata": {},
   "source": [
    "Initialize BacDive, prepare IDs"
   ]
  },
  {
   "cell_type": "code",
   "execution_count": 10,
   "id": "52fd7ec8-7a40-469a-91eb-788817d1f540",
   "metadata": {
    "tags": []
   },
   "outputs": [
    {
     "data": {
      "text/plain": [
       "13735"
      ]
     },
     "execution_count": 10,
     "metadata": {},
     "output_type": "execute_result"
    }
   ],
   "source": [
    "# Retrieve bacdive_id's from the 'md_df' MediaDive table\n",
    "md_df = pd.read_csv(os.path.join(DATA_DIR, \"mediadive\", \"mediadive-all.csv\"), sep=\";\")\n",
    "bd_id_list = md_df[\"bacdive_id\"].dropna().astype(int).astype(str).unique()\n",
    "len(bd_id_list)"
   ]
  },
  {
   "cell_type": "markdown",
   "id": "6580575f-4f1d-4f47-8326-f03e6fd3ddf9",
   "metadata": {},
   "source": [
    "Retrieval of BacDive info"
   ]
  },
  {
   "cell_type": "code",
   "execution_count": 11,
   "id": "40ede006-bc53-4d41-9a97-06afa2779d02",
   "metadata": {
    "tags": []
   },
   "outputs": [
    {
     "name": "stdout",
     "output_type": "stream",
     "text": [
      "-- Authentication successful --\n"
     ]
    },
    {
     "name": "stderr",
     "output_type": "stream",
     "text": [
      "100%|██████████| 138/138 [03:01<00:00,  1.32s/it]\n"
     ]
    }
   ],
   "source": [
    "# Initialize client\n",
    "client = bacdive.BacdiveClient('wjlowe03@gmail.com', 'UNINA_Bacdive')\n",
    "\n",
    "step = 100\n",
    "bacdive_df = []\n",
    "\n",
    "for idx_start in tqdm(range(0, len(bd_id_list), step)): #status bar\n",
    "    id_list = \";\".join(bd_id_list[idx_start:idx_start+step]) \n",
    "    bacdive_df.append(bd.taxon2ec(id_list=id_list, client=client))\n",
    "\n",
    "bacdive_df = pd.concat(bacdive_df, axis=0, ignore_index=True)\n",
    "bacdive_df = bacdive_df.drop(\"reference\", axis=1)\n",
    "\n",
    "bacdive_df.to_csv(os.path.join(DATA_DIR, \"bacdive\", \"bacdive-all.csv\"), index=False) #SAVE"
   ]
  },
  {
   "cell_type": "markdown",
   "id": "4b1f1dcc-bd51-4dbc-ba18-869dc6343471",
   "metadata": {},
   "source": [
    "**BacDive final dataframe**"
   ]
  },
  {
   "cell_type": "code",
   "execution_count": 12,
   "id": "84ab60b8-9433-4dd6-8697-49657145214a",
   "metadata": {},
   "outputs": [
    {
     "data": {
      "text/html": [
       "<div>\n",
       "<style scoped>\n",
       "    .dataframe tbody tr th:only-of-type {\n",
       "        vertical-align: middle;\n",
       "    }\n",
       "\n",
       "    .dataframe tbody tr th {\n",
       "        vertical-align: top;\n",
       "    }\n",
       "\n",
       "    .dataframe thead th {\n",
       "        text-align: right;\n",
       "    }\n",
       "</style>\n",
       "<table border=\"1\" class=\"dataframe\">\n",
       "  <thead>\n",
       "    <tr style=\"text-align: right;\">\n",
       "      <th></th>\n",
       "      <th>general_@ref</th>\n",
       "      <th>bacdive_id</th>\n",
       "      <th>dsmz_id</th>\n",
       "      <th>general_keywords</th>\n",
       "      <th>general_description</th>\n",
       "      <th>taxon_id</th>\n",
       "      <th>ncbi_tax_id_matching_level</th>\n",
       "      <th>strain_history_@ref</th>\n",
       "      <th>strain_history_history</th>\n",
       "      <th>general_doi</th>\n",
       "      <th>...</th>\n",
       "      <th>api_id32sta_beta_gur</th>\n",
       "      <th>physiology_and_metabolism_murein</th>\n",
       "      <th>physiology_and_metabolism_api_list</th>\n",
       "      <th>isolation_enrichment_culture</th>\n",
       "      <th>isolation_enrichment_culture_temperature</th>\n",
       "      <th>multicellular_morphology_complex_color</th>\n",
       "      <th>api_list_beta_hem</th>\n",
       "      <th>metabolite_tests_citrate_test</th>\n",
       "      <th>compound_production_excreted</th>\n",
       "      <th>isolation_enrichment_culture_duration</th>\n",
       "    </tr>\n",
       "  </thead>\n",
       "  <tbody>\n",
       "    <tr>\n",
       "      <th>0</th>\n",
       "      <td>21113</td>\n",
       "      <td>24370</td>\n",
       "      <td>11532.0</td>\n",
       "      <td>['Bacteria', 'human pathogen']</td>\n",
       "      <td>Pseudomonas fluorescens PWD34 is a human patho...</td>\n",
       "      <td>294</td>\n",
       "      <td>species</td>\n",
       "      <td>21113.0</td>\n",
       "      <td>&lt;- W. Duetz, RIVM, Bilthoven; PWD34</td>\n",
       "      <td>10.13145/bacdive24370.20240510.9</td>\n",
       "      <td>...</td>\n",
       "      <td>NaN</td>\n",
       "      <td>NaN</td>\n",
       "      <td>NaN</td>\n",
       "      <td>NaN</td>\n",
       "      <td>NaN</td>\n",
       "      <td>NaN</td>\n",
       "      <td>NaN</td>\n",
       "      <td>NaN</td>\n",
       "      <td>NaN</td>\n",
       "      <td>NaN</td>\n",
       "    </tr>\n",
       "    <tr>\n",
       "      <th>1</th>\n",
       "      <td>21111</td>\n",
       "      <td>24368</td>\n",
       "      <td>304.0</td>\n",
       "      <td>Bacteria</td>\n",
       "      <td>Pseudomonas sp. DSM 304 is a bacterium of the ...</td>\n",
       "      <td>306</td>\n",
       "      <td>species</td>\n",
       "      <td>21111.0</td>\n",
       "      <td>&lt;- IMG, 1591 (&lt;i&gt;P. fluorescens&lt;/i&gt;) &lt;- H. Stolp</td>\n",
       "      <td>10.13145/bacdive24368.20240510.9</td>\n",
       "      <td>...</td>\n",
       "      <td>NaN</td>\n",
       "      <td>NaN</td>\n",
       "      <td>NaN</td>\n",
       "      <td>NaN</td>\n",
       "      <td>NaN</td>\n",
       "      <td>NaN</td>\n",
       "      <td>NaN</td>\n",
       "      <td>NaN</td>\n",
       "      <td>NaN</td>\n",
       "      <td>NaN</td>\n",
       "    </tr>\n",
       "    <tr>\n",
       "      <th>2</th>\n",
       "      <td>20542</td>\n",
       "      <td>23995</td>\n",
       "      <td>30059.0</td>\n",
       "      <td>Bacteria</td>\n",
       "      <td>Lelliottia amnigena 21824 is a bacterium that ...</td>\n",
       "      <td>61646</td>\n",
       "      <td>species</td>\n",
       "      <td>20542.0</td>\n",
       "      <td>&lt;- Bakteriologisches Institut der Sueddeutsche...</td>\n",
       "      <td>10.13145/bacdive23995.20240510.9</td>\n",
       "      <td>...</td>\n",
       "      <td>NaN</td>\n",
       "      <td>NaN</td>\n",
       "      <td>NaN</td>\n",
       "      <td>NaN</td>\n",
       "      <td>NaN</td>\n",
       "      <td>NaN</td>\n",
       "      <td>NaN</td>\n",
       "      <td>NaN</td>\n",
       "      <td>NaN</td>\n",
       "      <td>NaN</td>\n",
       "    </tr>\n",
       "    <tr>\n",
       "      <th>3</th>\n",
       "      <td>1479</td>\n",
       "      <td>17621</td>\n",
       "      <td>3849.0</td>\n",
       "      <td>['16S sequence', 'Bacteria', 'plant pathogen']</td>\n",
       "      <td>Xanthomonas citri subsp. malvacearum XM13 is a...</td>\n",
       "      <td>346</td>\n",
       "      <td>species</td>\n",
       "      <td>NaN</td>\n",
       "      <td>NaN</td>\n",
       "      <td>10.13145/bacdive17621.20240510.9</td>\n",
       "      <td>...</td>\n",
       "      <td>NaN</td>\n",
       "      <td>NaN</td>\n",
       "      <td>NaN</td>\n",
       "      <td>NaN</td>\n",
       "      <td>NaN</td>\n",
       "      <td>NaN</td>\n",
       "      <td>NaN</td>\n",
       "      <td>NaN</td>\n",
       "      <td>NaN</td>\n",
       "      <td>NaN</td>\n",
       "    </tr>\n",
       "    <tr>\n",
       "      <th>4</th>\n",
       "      <td>1480</td>\n",
       "      <td>17596</td>\n",
       "      <td>3850.0</td>\n",
       "      <td>['genome sequence', 'Bacteria', 'obligate aero...</td>\n",
       "      <td>Xanthomonas campestris DSM 3850 is an obligate...</td>\n",
       "      <td>339</td>\n",
       "      <td>species</td>\n",
       "      <td>NaN</td>\n",
       "      <td>NaN</td>\n",
       "      <td>10.13145/bacdive17596.20240510.9</td>\n",
       "      <td>...</td>\n",
       "      <td>NaN</td>\n",
       "      <td>NaN</td>\n",
       "      <td>NaN</td>\n",
       "      <td>NaN</td>\n",
       "      <td>NaN</td>\n",
       "      <td>NaN</td>\n",
       "      <td>NaN</td>\n",
       "      <td>NaN</td>\n",
       "      <td>NaN</td>\n",
       "      <td>NaN</td>\n",
       "    </tr>\n",
       "  </tbody>\n",
       "</table>\n",
       "<p>5 rows × 838 columns</p>\n",
       "</div>"
      ],
      "text/plain": [
       "   general_@ref  bacdive_id  dsmz_id  \\\n",
       "0         21113       24370  11532.0   \n",
       "1         21111       24368    304.0   \n",
       "2         20542       23995  30059.0   \n",
       "3          1479       17621   3849.0   \n",
       "4          1480       17596   3850.0   \n",
       "\n",
       "                                    general_keywords  \\\n",
       "0                     ['Bacteria', 'human pathogen']   \n",
       "1                                           Bacteria   \n",
       "2                                           Bacteria   \n",
       "3     ['16S sequence', 'Bacteria', 'plant pathogen']   \n",
       "4  ['genome sequence', 'Bacteria', 'obligate aero...   \n",
       "\n",
       "                                 general_description taxon_id  \\\n",
       "0  Pseudomonas fluorescens PWD34 is a human patho...      294   \n",
       "1  Pseudomonas sp. DSM 304 is a bacterium of the ...      306   \n",
       "2  Lelliottia amnigena 21824 is a bacterium that ...    61646   \n",
       "3  Xanthomonas citri subsp. malvacearum XM13 is a...      346   \n",
       "4  Xanthomonas campestris DSM 3850 is an obligate...      339   \n",
       "\n",
       "  ncbi_tax_id_matching_level  strain_history_@ref  \\\n",
       "0                    species              21113.0   \n",
       "1                    species              21111.0   \n",
       "2                    species              20542.0   \n",
       "3                    species                  NaN   \n",
       "4                    species                  NaN   \n",
       "\n",
       "                              strain_history_history  \\\n",
       "0                <- W. Duetz, RIVM, Bilthoven; PWD34   \n",
       "1   <- IMG, 1591 (<i>P. fluorescens</i>) <- H. Stolp   \n",
       "2  <- Bakteriologisches Institut der Sueddeutsche...   \n",
       "3                                                NaN   \n",
       "4                                                NaN   \n",
       "\n",
       "                        general_doi  ...  api_id32sta_beta_gur  \\\n",
       "0  10.13145/bacdive24370.20240510.9  ...                   NaN   \n",
       "1  10.13145/bacdive24368.20240510.9  ...                   NaN   \n",
       "2  10.13145/bacdive23995.20240510.9  ...                   NaN   \n",
       "3  10.13145/bacdive17621.20240510.9  ...                   NaN   \n",
       "4  10.13145/bacdive17596.20240510.9  ...                   NaN   \n",
       "\n",
       "  physiology_and_metabolism_murein physiology_and_metabolism_api_list  \\\n",
       "0                              NaN                                NaN   \n",
       "1                              NaN                                NaN   \n",
       "2                              NaN                                NaN   \n",
       "3                              NaN                                NaN   \n",
       "4                              NaN                                NaN   \n",
       "\n",
       "  isolation_enrichment_culture isolation_enrichment_culture_temperature  \\\n",
       "0                          NaN                                      NaN   \n",
       "1                          NaN                                      NaN   \n",
       "2                          NaN                                      NaN   \n",
       "3                          NaN                                      NaN   \n",
       "4                          NaN                                      NaN   \n",
       "\n",
       "  multicellular_morphology_complex_color api_list_beta_hem  \\\n",
       "0                                    NaN               NaN   \n",
       "1                                    NaN               NaN   \n",
       "2                                    NaN               NaN   \n",
       "3                                    NaN               NaN   \n",
       "4                                    NaN               NaN   \n",
       "\n",
       "  metabolite_tests_citrate_test compound_production_excreted  \\\n",
       "0                           NaN                          NaN   \n",
       "1                           NaN                          NaN   \n",
       "2                           NaN                          NaN   \n",
       "3                           NaN                          NaN   \n",
       "4                           NaN                          NaN   \n",
       "\n",
       "  isolation_enrichment_culture_duration  \n",
       "0                                   NaN  \n",
       "1                                   NaN  \n",
       "2                                   NaN  \n",
       "3                                   NaN  \n",
       "4                                   NaN  \n",
       "\n",
       "[5 rows x 838 columns]"
      ]
     },
     "execution_count": 12,
     "metadata": {},
     "output_type": "execute_result"
    }
   ],
   "source": [
    "bacdive_df = pd.read_csv(os.path.join(DATA_DIR, 'bacdive', 'bacdive-all.csv'), low_memory=False)\n",
    "bacdive_df.head()"
   ]
  },
  {
   "cell_type": "markdown",
   "id": "e6245c2c-255f-47ca-80ac-fdda620297f0",
   "metadata": {},
   "source": [
    "### [2.1] UniProtKB taxa2ec (species name)\n",
    "\n",
    "Returns ec numbers and identifier information from UniProtKB for an input of species (MediaDive)"
   ]
  },
  {
   "cell_type": "code",
   "execution_count": 13,
   "id": "259a910e-8bc2-4935-a8cd-bdc9ba78690a",
   "metadata": {
    "tags": []
   },
   "outputs": [],
   "source": [
    "import modules.uniprotkb as uni"
   ]
  },
  {
   "cell_type": "markdown",
   "id": "90aebcb8-85b9-4788-b7fd-7b68c6530af2",
   "metadata": {},
   "source": [
    "Format species name from the 'md_df' MediaDive dataframe for querying UniProtKB"
   ]
  },
  {
   "cell_type": "code",
   "execution_count": 14,
   "id": "efddda9d-ec34-42c9-b1f0-992137d07048",
   "metadata": {
    "tags": []
   },
   "outputs": [
    {
     "data": {
      "text/plain": [
       "12391"
      ]
     },
     "execution_count": 14,
     "metadata": {},
     "output_type": "execute_result"
    }
   ],
   "source": [
    "species_df = md_df.copy()\n",
    "species_df['species'] = species_df['species'].replace(' ','+', regex=True)\n",
    "species_list = set(species_df['species'].to_list())\n",
    "len(species_list)"
   ]
  },
  {
   "cell_type": "markdown",
   "id": "0ee17041-3222-49b3-b3fd-ab4fd127939d",
   "metadata": {
    "tags": []
   },
   "source": [
    "Retrieval of UniProtKB info"
   ]
  },
  {
   "cell_type": "code",
   "execution_count": 15,
   "id": "a2d4b2af-4bb6-4547-b08d-18ffea49822f",
   "metadata": {
    "tags": []
   },
   "outputs": [
    {
     "name": "stderr",
     "output_type": "stream",
     "text": [
      "Processing species:  48%|████▊     | 5911/12391 [14:55<14:24,  7.50it/s]  "
     ]
    },
    {
     "name": "stdout",
     "output_type": "stream",
     "text": [
      "HTTP error occurred for Protocrea+illino&euml;nsis: 400 Client Error: Bad Request for url: https://rest.uniprot.org/uniprotkb/search?fields=accession%2Cec%2Corganism_name%2Corganism_id%2Ccc_cofactor%2Cid&format=tsv&size=500&query=%28organism_name%3AProtocrea+illino&euml;nsis%29+AND+%28ec%3A*%29+AND+%28reviewed%3Atrue%29\n"
     ]
    },
    {
     "name": "stderr",
     "output_type": "stream",
     "text": [
      "Processing species:  75%|███████▌  | 9331/12391 [22:57<05:11,  9.83it/s]  "
     ]
    },
    {
     "name": "stdout",
     "output_type": "stream",
     "text": [
      "HTTP error occurred for Sphingobacterium+composti+[homonym]: 400 Client Error: Bad Request for url: https://rest.uniprot.org/uniprotkb/search?fields=accession%2Cec%2Corganism_name%2Corganism_id%2Ccc_cofactor%2Cid&format=tsv&size=500&query=%28organism_name%3ASphingobacterium+composti+%5Bhomonym%5D%29+AND+%28ec%3A*%29+AND+%28reviewed%3Atrue%29\n"
     ]
    },
    {
     "name": "stderr",
     "output_type": "stream",
     "text": [
      "Processing species: 100%|██████████| 12391/12391 [30:42<00:00,  6.73it/s] \n"
     ]
    },
    {
     "name": "stdout",
     "output_type": "stream",
     "text": [
      "10660 species with no data\n"
     ]
    }
   ],
   "source": [
    "# Import and run function to retrieve ec's associated with each species\n",
    "    # Note: currently, script only checks reviewed entries (SwissProt), and ignores 1000's of tREMBL entries\n",
    "    # Errors represent where species are totally absent, whereas non-reviewed entries show as 'x species with no data'\n",
    "    \n",
    "uniprot_df = uni.species2ec(species_list)\n",
    "uniprot_df.to_csv(os.path.join(DATA_DIR, \"uniprot\", \"uniprot-all.csv\"), index=False) #SAVE"
   ]
  },
  {
   "cell_type": "markdown",
   "id": "b5dd2f4e-4134-4e48-8edd-506b73aa1bc6",
   "metadata": {},
   "source": [
    "**UniProtKB (MediaDive species name) final dataframe**"
   ]
  },
  {
   "cell_type": "code",
   "execution_count": 17,
   "id": "a2c0684d-7297-4306-b51e-3ad78762f1d8",
   "metadata": {},
   "outputs": [],
   "source": [
    "uniprot_df = pd.read_csv(os.path.join(DATA_DIR, \"uniprot\", \"uniprot-all.csv\"))"
   ]
  },
  {
   "cell_type": "markdown",
   "id": "9b8c20a9",
   "metadata": {},
   "source": [
    "### [2.2] UniProtKB taxa2ec (taxon_id)\n",
    "\n",
    "Combined approach: uses NCBI taxon_id's (species level) from BacDive to query UniProtKB"
   ]
  },
  {
   "cell_type": "code",
   "execution_count": 18,
   "id": "3c17f287",
   "metadata": {},
   "outputs": [],
   "source": [
    "import modules.uniprotkb as uni"
   ]
  },
  {
   "cell_type": "markdown",
   "id": "75464367",
   "metadata": {},
   "source": [
    "Format taxon_id's to query UniProtKB"
   ]
  },
  {
   "cell_type": "code",
   "execution_count": 19,
   "id": "317f0d36",
   "metadata": {},
   "outputs": [
    {
     "data": {
      "text/plain": [
       "2053"
      ]
     },
     "execution_count": 19,
     "metadata": {},
     "output_type": "execute_result"
    }
   ],
   "source": [
    "import ast \n",
    "\n",
    "bacdive_df = pd.read_csv(os.path.join(DATA_DIR, \"bacdive\", \"bacdive-all.csv\"), low_memory=False)\n",
    "taxon_id = bacdive_df['taxon_id'].to_list()\n",
    "\n",
    "# Some NCBI IDs are nested dictionaries, this should extract the ID at the species OR strain level:\n",
    "data = taxon_id\n",
    "tax_ids = []\n",
    "\n",
    "# Loop to extract NCBI tax ids\n",
    "for item in data:\n",
    "    if isinstance(item, str) and item.startswith('[') and item.endswith(']'):\n",
    "        # Parse the string representation of the list of dictionaries\n",
    "        try:\n",
    "            dicts = ast.literal_eval(item)\n",
    "            for d in dicts:\n",
    "                if d['Matching level'] == 'species':\n",
    "                    tax_ids.append(d['NCBI tax id'])\n",
    "        except (ValueError, SyntaxError):\n",
    "            # Handle cases where the string is not a valid list of dictionaries\n",
    "            continue\n",
    "\n",
    "len(tax_ids)"
   ]
  },
  {
   "cell_type": "markdown",
   "id": "357d124a",
   "metadata": {},
   "source": [
    "Retrieval of UniProtKB info"
   ]
  },
  {
   "cell_type": "code",
   "execution_count": 21,
   "id": "59c005d5",
   "metadata": {},
   "outputs": [
    {
     "name": "stderr",
     "output_type": "stream",
     "text": [
      "Processing species: 100%|██████████| 2053/2053 [29:56<00:00,  1.14it/s] \n"
     ]
    },
    {
     "name": "stdout",
     "output_type": "stream",
     "text": [
      "503 species with no data\n"
     ]
    }
   ],
   "source": [
    "ncbi_df = uni.taxon2ec(tax_ids)\n",
    "ncbi_df['ec_uniprot'] = ncbi_df['ec_uniprot'].str.split('; ').explode('ec_uniprot')\n",
    "\n",
    "ncbi_df.to_csv(os.path.join(DATA_DIR, 'ncbi-ec.csv'), index=False) #SAVE"
   ]
  },
  {
   "cell_type": "markdown",
   "id": "8463ceea",
   "metadata": {},
   "source": [
    "**UniProtKB (NCBI taxon IDs) final dataframe**"
   ]
  },
  {
   "cell_type": "code",
   "execution_count": 22,
   "id": "7df3dcd7",
   "metadata": {},
   "outputs": [
    {
     "data": {
      "text/html": [
       "<div>\n",
       "<style scoped>\n",
       "    .dataframe tbody tr th:only-of-type {\n",
       "        vertical-align: middle;\n",
       "    }\n",
       "\n",
       "    .dataframe tbody tr th {\n",
       "        vertical-align: top;\n",
       "    }\n",
       "\n",
       "    .dataframe thead th {\n",
       "        text-align: right;\n",
       "    }\n",
       "</style>\n",
       "<table border=\"1\" class=\"dataframe\">\n",
       "  <thead>\n",
       "    <tr style=\"text-align: right;\">\n",
       "      <th></th>\n",
       "      <th>species</th>\n",
       "      <th>ec_uniprot</th>\n",
       "    </tr>\n",
       "  </thead>\n",
       "  <tbody>\n",
       "    <tr>\n",
       "      <th>0</th>\n",
       "      <td>231455</td>\n",
       "      <td>5.6.2.2</td>\n",
       "    </tr>\n",
       "    <tr>\n",
       "      <th>1</th>\n",
       "      <td>231455</td>\n",
       "      <td>2.7.7.6</td>\n",
       "    </tr>\n",
       "    <tr>\n",
       "      <th>2</th>\n",
       "      <td>33050</td>\n",
       "      <td>2.6.1.-</td>\n",
       "    </tr>\n",
       "    <tr>\n",
       "      <th>3</th>\n",
       "      <td>33050</td>\n",
       "      <td>3.1.1.87</td>\n",
       "    </tr>\n",
       "    <tr>\n",
       "      <th>4</th>\n",
       "      <td>33050</td>\n",
       "      <td>2.7.1.25</td>\n",
       "    </tr>\n",
       "  </tbody>\n",
       "</table>\n",
       "</div>"
      ],
      "text/plain": [
       "   species ec_uniprot\n",
       "0   231455    5.6.2.2\n",
       "1   231455    2.7.7.6\n",
       "2    33050    2.6.1.-\n",
       "3    33050   3.1.1.87\n",
       "4    33050   2.7.1.25"
      ]
     },
     "execution_count": 22,
     "metadata": {},
     "output_type": "execute_result"
    }
   ],
   "source": [
    "ncbi_df = pd.read_csv(os.path.join(DATA_DIR, 'ncbi-ec.csv'))\n",
    "ncbi_df.head()"
   ]
  },
  {
   "cell_type": "markdown",
   "id": "e55b2b0b-5c13-4a55-9d9e-ec871955a50e",
   "metadata": {
    "tags": []
   },
   "source": [
    "### [2.3] Formatting final taxa2ec table"
   ]
  },
  {
   "cell_type": "markdown",
   "id": "5db41f0a-f9b1-4c31-9d91-9d3c3b455c86",
   "metadata": {},
   "source": [
    "Reformat outputs from [1.2-2.2]"
   ]
  },
  {
   "cell_type": "code",
   "execution_count": 23,
   "id": "c09225cb-8d85-4b7a-8024-2b178850b840",
   "metadata": {
    "tags": []
   },
   "outputs": [],
   "source": [
    "bacdive_df = pd.read_csv(os.path.join(DATA_DIR, 'bacdive', 'bacdive-all.csv'), low_memory=False)\n",
    "uniprot_df = pd.read_csv(os.path.join(DATA_DIR, 'uniprot', 'uniprot-all.csv'))\n",
    "ncbi_df = pd.read_csv(os.path.join(DATA_DIR, 'ncbi-ec.csv'))\n",
    "\n",
    "# BacDive taxa2ec (grouped by bacdive_id)\n",
    "bacdive_ec = bacdive_df[['bacdive_id','taxon_id','type_strain','ec']].copy()\n",
    "bacdive_ec['ec'] = bacdive_ec['ec'].str.replace(\"'\", \"\")\n",
    "bacdive_ec = bacdive_ec.rename(columns={'ec': 'ec_bacdive'})\n",
    "\n",
    "# UniProtKB taxa2ec (grouped by species name)\n",
    "uniprot_ec = uniprot_df.copy()\n",
    "uniprot_ec['species'] = uniprot_ec['species'].replace(r'\\+',' ', regex=True)\n",
    "uniprot_ec['ec_uniprot'] = uniprot_ec['ec_uniprot'].str.replace(\";\", \",\")\n",
    "uniprot_ec = uniprot_ec.groupby(\"species\", as_index=False)[\"ec_uniprot\"].apply(lambda x: \"[%s]\" % ', '.join(x))\n",
    "\n",
    "# NCBI taxa2ec (grouped by taxon_id)\n",
    "ncbi_ec = ncbi_df.astype(str).copy()\n",
    "ncbi_ec = ncbi_ec.rename(columns={'species': 'taxon_id', 'ec_uniprot': 'ec_ncbi'})\n",
    "ncbi_ec = ncbi_ec.groupby(\"taxon_id\", as_index=False)[\"ec_ncbi\"].apply(lambda x: \"[%s]\" % ', '.join(x))"
   ]
  },
  {
   "cell_type": "markdown",
   "id": "a6a48845-388d-4f3d-ba76-3e44029c4010",
   "metadata": {},
   "source": [
    "Merge 'md_df' MediaDive dataframe with formatted outputs"
   ]
  },
  {
   "cell_type": "code",
   "execution_count": 24,
   "id": "ddcefc0b-dfab-4960-9426-d2d808a8f08e",
   "metadata": {
    "tags": []
   },
   "outputs": [
    {
     "data": {
      "text/html": [
       "<div>\n",
       "<style scoped>\n",
       "    .dataframe tbody tr th:only-of-type {\n",
       "        vertical-align: middle;\n",
       "    }\n",
       "\n",
       "    .dataframe tbody tr th {\n",
       "        vertical-align: top;\n",
       "    }\n",
       "\n",
       "    .dataframe thead th {\n",
       "        text-align: right;\n",
       "    }\n",
       "</style>\n",
       "<table border=\"1\" class=\"dataframe\">\n",
       "  <thead>\n",
       "    <tr style=\"text-align: right;\">\n",
       "      <th></th>\n",
       "      <th>media_id</th>\n",
       "      <th>name</th>\n",
       "      <th>complex_medium</th>\n",
       "      <th>source</th>\n",
       "      <th>link</th>\n",
       "      <th>min_pH</th>\n",
       "      <th>max_pH</th>\n",
       "      <th>reference</th>\n",
       "      <th>description</th>\n",
       "      <th>components</th>\n",
       "      <th>...</th>\n",
       "      <th>strain_id</th>\n",
       "      <th>species</th>\n",
       "      <th>ccno</th>\n",
       "      <th>bacdive_id</th>\n",
       "      <th>merge_source</th>\n",
       "      <th>ec_uniprot</th>\n",
       "      <th>taxon_id</th>\n",
       "      <th>type_strain</th>\n",
       "      <th>ec_bacdive</th>\n",
       "      <th>ec_ncbi</th>\n",
       "    </tr>\n",
       "  </thead>\n",
       "  <tbody>\n",
       "    <tr>\n",
       "      <th>0</th>\n",
       "      <td>1</td>\n",
       "      <td>NUTRIENT AGAR</td>\n",
       "      <td>1</td>\n",
       "      <td>DSMZ</td>\n",
       "      <td>https://www.dsmz.de/microorganisms/medium/pdf/...</td>\n",
       "      <td>7.0</td>\n",
       "      <td>7.0</td>\n",
       "      <td>NaN</td>\n",
       "      <td>NaN</td>\n",
       "      <td>NaN</td>\n",
       "      <td>...</td>\n",
       "      <td>NaN</td>\n",
       "      <td>NaN</td>\n",
       "      <td>NaN</td>\n",
       "      <td>NaN</td>\n",
       "      <td>NaN</td>\n",
       "      <td>NaN</td>\n",
       "      <td>NaN</td>\n",
       "      <td>NaN</td>\n",
       "      <td>NaN</td>\n",
       "      <td>NaN</td>\n",
       "    </tr>\n",
       "    <tr>\n",
       "      <th>1</th>\n",
       "      <td>1a</td>\n",
       "      <td>REACTIVATION WITH LIQUID MEDIUM 1</td>\n",
       "      <td>1</td>\n",
       "      <td>DSMZ</td>\n",
       "      <td>https://www.dsmz.de/microorganisms/medium/pdf/...</td>\n",
       "      <td>7.0</td>\n",
       "      <td>7.0</td>\n",
       "      <td>NaN</td>\n",
       "      <td>NaN</td>\n",
       "      <td>['Peptone', 'Meat extract', 'Agar', 'Distilled...</td>\n",
       "      <td>...</td>\n",
       "      <td>29.0</td>\n",
       "      <td>Comamonas testosteroni</td>\n",
       "      <td>DSM 38</td>\n",
       "      <td>2912.0</td>\n",
       "      <td>both</td>\n",
       "      <td>[2.6.1.1, 4.1.1.12, 1.13.11.74, 1.13.11.76, 1....</td>\n",
       "      <td>285</td>\n",
       "      <td>no</td>\n",
       "      <td>[1.9.3.1, 3.2.1.21, 3.5.1.5, 3.5.3.6]</td>\n",
       "      <td>[4.2.1.3, 4.2.1.99, 6.3.2.10, 2.3.1.241, 5.6.2...</td>\n",
       "    </tr>\n",
       "    <tr>\n",
       "      <th>2</th>\n",
       "      <td>1a</td>\n",
       "      <td>REACTIVATION WITH LIQUID MEDIUM 1</td>\n",
       "      <td>1</td>\n",
       "      <td>DSMZ</td>\n",
       "      <td>https://www.dsmz.de/microorganisms/medium/pdf/...</td>\n",
       "      <td>7.0</td>\n",
       "      <td>7.0</td>\n",
       "      <td>NaN</td>\n",
       "      <td>NaN</td>\n",
       "      <td>['Peptone', 'Meat extract', 'Agar', 'Distilled...</td>\n",
       "      <td>...</td>\n",
       "      <td>30.0</td>\n",
       "      <td>Delftia acidovorans</td>\n",
       "      <td>DSM 39</td>\n",
       "      <td>2941.0</td>\n",
       "      <td>both</td>\n",
       "      <td>[1.14.11.43, 1.14.11.44, 3.1.1.75, 2.4.2.1, 2....</td>\n",
       "      <td>[{'NCBI tax id': 1218107, 'Matching level': 's...</td>\n",
       "      <td>yes</td>\n",
       "      <td>[1.9.3.1, 3.2.1.21, 3.5.1.5, 3.5.3.6]</td>\n",
       "      <td>NaN</td>\n",
       "    </tr>\n",
       "    <tr>\n",
       "      <th>3</th>\n",
       "      <td>1a</td>\n",
       "      <td>REACTIVATION WITH LIQUID MEDIUM 1</td>\n",
       "      <td>1</td>\n",
       "      <td>DSMZ</td>\n",
       "      <td>https://www.dsmz.de/microorganisms/medium/pdf/...</td>\n",
       "      <td>7.0</td>\n",
       "      <td>7.0</td>\n",
       "      <td>NaN</td>\n",
       "      <td>NaN</td>\n",
       "      <td>['Peptone', 'Meat extract', 'Agar', 'Distilled...</td>\n",
       "      <td>...</td>\n",
       "      <td>39.0</td>\n",
       "      <td>Acidovorax delafieldii</td>\n",
       "      <td>DSM 64</td>\n",
       "      <td>2885.0</td>\n",
       "      <td>both</td>\n",
       "      <td>[1.1.1.37]</td>\n",
       "      <td>47920</td>\n",
       "      <td>yes</td>\n",
       "      <td>[3.2.1.51, 3.2.1.24, 3.2.1.52, 3.2.1.21, 3.2.1...</td>\n",
       "      <td>NaN</td>\n",
       "    </tr>\n",
       "    <tr>\n",
       "      <th>4</th>\n",
       "      <td>1a</td>\n",
       "      <td>REACTIVATION WITH LIQUID MEDIUM 1</td>\n",
       "      <td>1</td>\n",
       "      <td>DSMZ</td>\n",
       "      <td>https://www.dsmz.de/microorganisms/medium/pdf/...</td>\n",
       "      <td>7.0</td>\n",
       "      <td>7.0</td>\n",
       "      <td>NaN</td>\n",
       "      <td>NaN</td>\n",
       "      <td>['Peptone', 'Meat extract', 'Agar', 'Distilled...</td>\n",
       "      <td>...</td>\n",
       "      <td>52.0</td>\n",
       "      <td>Pseudomonas putida</td>\n",
       "      <td>DSM 84</td>\n",
       "      <td>12895.0</td>\n",
       "      <td>both</td>\n",
       "      <td>[5.1.1.10, 5.3.3.1, 1.18.1.3, 1.2.98.1, 1.18.1...</td>\n",
       "      <td>303</td>\n",
       "      <td>no</td>\n",
       "      <td>[3.2.1.21, 3.5.1.5, 3.5.3.6]</td>\n",
       "      <td>[2.7.7.23, 2.7.1.25, 2.7.7.4, 3.1.11.5, 5.6.2....</td>\n",
       "    </tr>\n",
       "  </tbody>\n",
       "</table>\n",
       "<p>5 rows × 21 columns</p>\n",
       "</div>"
      ],
      "text/plain": [
       "  media_id                               name  complex_medium source  \\\n",
       "0        1                      NUTRIENT AGAR               1   DSMZ   \n",
       "1       1a  REACTIVATION WITH LIQUID MEDIUM 1               1   DSMZ   \n",
       "2       1a  REACTIVATION WITH LIQUID MEDIUM 1               1   DSMZ   \n",
       "3       1a  REACTIVATION WITH LIQUID MEDIUM 1               1   DSMZ   \n",
       "4       1a  REACTIVATION WITH LIQUID MEDIUM 1               1   DSMZ   \n",
       "\n",
       "                                                link  min_pH  max_pH  \\\n",
       "0  https://www.dsmz.de/microorganisms/medium/pdf/...     7.0     7.0   \n",
       "1  https://www.dsmz.de/microorganisms/medium/pdf/...     7.0     7.0   \n",
       "2  https://www.dsmz.de/microorganisms/medium/pdf/...     7.0     7.0   \n",
       "3  https://www.dsmz.de/microorganisms/medium/pdf/...     7.0     7.0   \n",
       "4  https://www.dsmz.de/microorganisms/medium/pdf/...     7.0     7.0   \n",
       "\n",
       "  reference description                                         components  \\\n",
       "0       NaN         NaN                                                NaN   \n",
       "1       NaN         NaN  ['Peptone', 'Meat extract', 'Agar', 'Distilled...   \n",
       "2       NaN         NaN  ['Peptone', 'Meat extract', 'Agar', 'Distilled...   \n",
       "3       NaN         NaN  ['Peptone', 'Meat extract', 'Agar', 'Distilled...   \n",
       "4       NaN         NaN  ['Peptone', 'Meat extract', 'Agar', 'Distilled...   \n",
       "\n",
       "   ... strain_id                 species    ccno bacdive_id  merge_source  \\\n",
       "0  ...       NaN                     NaN     NaN        NaN           NaN   \n",
       "1  ...      29.0  Comamonas testosteroni  DSM 38     2912.0          both   \n",
       "2  ...      30.0     Delftia acidovorans  DSM 39     2941.0          both   \n",
       "3  ...      39.0  Acidovorax delafieldii  DSM 64     2885.0          both   \n",
       "4  ...      52.0      Pseudomonas putida  DSM 84    12895.0          both   \n",
       "\n",
       "                                          ec_uniprot  \\\n",
       "0                                                NaN   \n",
       "1  [2.6.1.1, 4.1.1.12, 1.13.11.74, 1.13.11.76, 1....   \n",
       "2  [1.14.11.43, 1.14.11.44, 3.1.1.75, 2.4.2.1, 2....   \n",
       "3                                         [1.1.1.37]   \n",
       "4  [5.1.1.10, 5.3.3.1, 1.18.1.3, 1.2.98.1, 1.18.1...   \n",
       "\n",
       "                                            taxon_id type_strain  \\\n",
       "0                                                NaN         NaN   \n",
       "1                                                285          no   \n",
       "2  [{'NCBI tax id': 1218107, 'Matching level': 's...         yes   \n",
       "3                                              47920         yes   \n",
       "4                                                303          no   \n",
       "\n",
       "                                          ec_bacdive  \\\n",
       "0                                                NaN   \n",
       "1              [1.9.3.1, 3.2.1.21, 3.5.1.5, 3.5.3.6]   \n",
       "2              [1.9.3.1, 3.2.1.21, 3.5.1.5, 3.5.3.6]   \n",
       "3  [3.2.1.51, 3.2.1.24, 3.2.1.52, 3.2.1.21, 3.2.1...   \n",
       "4                       [3.2.1.21, 3.5.1.5, 3.5.3.6]   \n",
       "\n",
       "                                             ec_ncbi  \n",
       "0                                                NaN  \n",
       "1  [4.2.1.3, 4.2.1.99, 6.3.2.10, 2.3.1.241, 5.6.2...  \n",
       "2                                                NaN  \n",
       "3                                                NaN  \n",
       "4  [2.7.7.23, 2.7.1.25, 2.7.7.4, 3.1.11.5, 5.6.2....  \n",
       "\n",
       "[5 rows x 21 columns]"
      ]
     },
     "execution_count": 24,
     "metadata": {},
     "output_type": "execute_result"
    }
   ],
   "source": [
    "media_df = md_df.copy()\n",
    "\n",
    "# Completing merge in multiple steps since we're merging on different columns\n",
    "merged1 = pd.merge(left = media_df, right = uniprot_ec, on = 'species', how = 'left')\n",
    "merged2 = pd.merge(left = merged1, right = bacdive_ec, on = 'bacdive_id', how = 'left')\n",
    "merged3 = pd.merge(left = merged2, right = ncbi_ec, on = 'taxon_id', how = 'left')\n",
    "\n",
    "merged3.head()"
   ]
  },
  {
   "cell_type": "markdown",
   "id": "c88a5529-32fe-4992-b100-87475c8d6ba9",
   "metadata": {},
   "source": [
    "**taxa2ec final dataframe**"
   ]
  },
  {
   "cell_type": "code",
   "execution_count": 25,
   "id": "49917b5b",
   "metadata": {},
   "outputs": [
    {
     "data": {
      "text/html": [
       "<div>\n",
       "<style scoped>\n",
       "    .dataframe tbody tr th:only-of-type {\n",
       "        vertical-align: middle;\n",
       "    }\n",
       "\n",
       "    .dataframe tbody tr th {\n",
       "        vertical-align: top;\n",
       "    }\n",
       "\n",
       "    .dataframe thead th {\n",
       "        text-align: right;\n",
       "    }\n",
       "</style>\n",
       "<table border=\"1\" class=\"dataframe\">\n",
       "  <thead>\n",
       "    <tr style=\"text-align: right;\">\n",
       "      <th></th>\n",
       "      <th>media_id</th>\n",
       "      <th>species</th>\n",
       "      <th>taxon_id</th>\n",
       "      <th>source</th>\n",
       "      <th>ec</th>\n",
       "    </tr>\n",
       "  </thead>\n",
       "  <tbody>\n",
       "    <tr>\n",
       "      <th>1</th>\n",
       "      <td>1a</td>\n",
       "      <td>Comamonas testosteroni</td>\n",
       "      <td>285</td>\n",
       "      <td>uniprot</td>\n",
       "      <td>2.6.1.1</td>\n",
       "    </tr>\n",
       "    <tr>\n",
       "      <th>1</th>\n",
       "      <td>1a</td>\n",
       "      <td>Comamonas testosteroni</td>\n",
       "      <td>285</td>\n",
       "      <td>uniprot</td>\n",
       "      <td>4.1.1.12</td>\n",
       "    </tr>\n",
       "    <tr>\n",
       "      <th>1</th>\n",
       "      <td>1a</td>\n",
       "      <td>Comamonas testosteroni</td>\n",
       "      <td>285</td>\n",
       "      <td>uniprot</td>\n",
       "      <td>1.13.11.74</td>\n",
       "    </tr>\n",
       "    <tr>\n",
       "      <th>1</th>\n",
       "      <td>1a</td>\n",
       "      <td>Comamonas testosteroni</td>\n",
       "      <td>285</td>\n",
       "      <td>uniprot</td>\n",
       "      <td>1.13.11.76</td>\n",
       "    </tr>\n",
       "    <tr>\n",
       "      <th>1</th>\n",
       "      <td>1a</td>\n",
       "      <td>Comamonas testosteroni</td>\n",
       "      <td>285</td>\n",
       "      <td>uniprot</td>\n",
       "      <td>1.14.13.23</td>\n",
       "    </tr>\n",
       "    <tr>\n",
       "      <th>...</th>\n",
       "      <td>...</td>\n",
       "      <td>...</td>\n",
       "      <td>...</td>\n",
       "      <td>...</td>\n",
       "      <td>...</td>\n",
       "    </tr>\n",
       "    <tr>\n",
       "      <th>92484</th>\n",
       "      <td>J1236</td>\n",
       "      <td>Thermus thermophilus</td>\n",
       "      <td>274</td>\n",
       "      <td>ncbi</td>\n",
       "      <td>6.1.1.16</td>\n",
       "    </tr>\n",
       "    <tr>\n",
       "      <th>92484</th>\n",
       "      <td>J1236</td>\n",
       "      <td>Thermus thermophilus</td>\n",
       "      <td>274</td>\n",
       "      <td>ncbi</td>\n",
       "      <td>2.5.1.145</td>\n",
       "    </tr>\n",
       "    <tr>\n",
       "      <th>92484</th>\n",
       "      <td>J1236</td>\n",
       "      <td>Thermus thermophilus</td>\n",
       "      <td>274</td>\n",
       "      <td>ncbi</td>\n",
       "      <td>1.1.1.37</td>\n",
       "    </tr>\n",
       "    <tr>\n",
       "      <th>92484</th>\n",
       "      <td>J1236</td>\n",
       "      <td>Thermus thermophilus</td>\n",
       "      <td>274</td>\n",
       "      <td>ncbi</td>\n",
       "      <td>5.2.1.8</td>\n",
       "    </tr>\n",
       "    <tr>\n",
       "      <th>92484</th>\n",
       "      <td>J1236</td>\n",
       "      <td>Thermus thermophilus</td>\n",
       "      <td>274</td>\n",
       "      <td>ncbi</td>\n",
       "      <td>1.5.1.7</td>\n",
       "    </tr>\n",
       "  </tbody>\n",
       "</table>\n",
       "<p>4369545 rows × 5 columns</p>\n",
       "</div>"
      ],
      "text/plain": [
       "      media_id                 species taxon_id   source          ec\n",
       "1           1a  Comamonas testosteroni      285  uniprot     2.6.1.1\n",
       "1           1a  Comamonas testosteroni      285  uniprot    4.1.1.12\n",
       "1           1a  Comamonas testosteroni      285  uniprot  1.13.11.74\n",
       "1           1a  Comamonas testosteroni      285  uniprot  1.13.11.76\n",
       "1           1a  Comamonas testosteroni      285  uniprot  1.14.13.23\n",
       "...        ...                     ...      ...      ...         ...\n",
       "92484    J1236    Thermus thermophilus      274     ncbi    6.1.1.16\n",
       "92484    J1236    Thermus thermophilus      274     ncbi   2.5.1.145\n",
       "92484    J1236    Thermus thermophilus      274     ncbi    1.1.1.37\n",
       "92484    J1236    Thermus thermophilus      274     ncbi     5.2.1.8\n",
       "92484    J1236    Thermus thermophilus      274     ncbi     1.5.1.7\n",
       "\n",
       "[4369545 rows x 5 columns]"
      ]
     },
     "execution_count": 25,
     "metadata": {},
     "output_type": "execute_result"
    }
   ],
   "source": [
    "final_df = merged3[[\"media_id\", \"species\", \"taxon_id\", \"ec_uniprot\", \"ec_bacdive\",\"ec_ncbi\"]].copy()\n",
    "\n",
    "# Melt ec columns and attribute ec source\n",
    "final_df = final_df.melt(\n",
    "    id_vars=[\"media_id\", \"species\", \"taxon_id\"],\n",
    "    value_vars=[\"ec_uniprot\", \"ec_bacdive\", \"ec_ncbi\"],\n",
    "    value_name=\"ec\",\n",
    "    var_name=\"source\"\n",
    ")\n",
    "\n",
    "# Format source and ec columns\n",
    "final_df[\"source\"] = final_df[\"source\"].str.replace(\"ec_\", \"\")\n",
    "final_df['ec'] = final_df['ec'].astype(str).copy()\n",
    "final_df[\"ec\"] = final_df[\"ec\"].str.replace(\"[\", \"\").str.replace(\"]\", \"\")\n",
    "final_df['ec'] = final_df['ec'].str.split(', ')\n",
    "final_df = final_df.explode('ec')\n",
    "\n",
    "# Remove rows with nan 'ec' values\n",
    "final_df = final_df.copy()\n",
    "substring = 'nan'\n",
    "filter = final_df['ec'].str.contains(substring) # create filter\n",
    "final_df = final_df[~filter]\n",
    "\n",
    "final_df.to_csv(os.path.join(DATA_DIR, \"taxa2ec-final.csv\"), index=False) #SAVE\n",
    "final_df"
   ]
  },
  {
   "cell_type": "markdown",
   "id": "80c2276d-c2ff-4861-8a58-b76b76ebeae0",
   "metadata": {},
   "source": [
    "### [3.1] KEGG media2ec (CPD)\n",
    "\n",
    "Returns ec numbers from KEGG for an input of CPDs (MediaDive)"
   ]
  },
  {
   "cell_type": "code",
   "execution_count": 26,
   "id": "083a6d52",
   "metadata": {},
   "outputs": [],
   "source": [
    "from Bio.KEGG import REST\n",
    "import modules.mediadive as md\n",
    "import modules.kegg as kegg"
   ]
  },
  {
   "cell_type": "markdown",
   "id": "57bb5900-e897-41f8-9c2b-83f6063a0963",
   "metadata": {
    "tags": []
   },
   "source": [
    "Retrieve KEGG and ChEBI compound IDs from an input of MediaDive 'component_ids'"
   ]
  },
  {
   "cell_type": "code",
   "execution_count": 27,
   "id": "86ab954a-ec32-44e7-b2ec-c1ab3c73320e",
   "metadata": {
    "tags": []
   },
   "outputs": [],
   "source": [
    "# Retrieve 'component_ids' from the 'md_df' MediaDive dataframe\n",
    "md_df = pd.read_csv(os.path.join(DATA_DIR,\"mediadive\",\"mediadive-all.csv\"), sep = ';')\n",
    "\n",
    "comps_df = md_df[['media_id','components','component_ids']].copy()\n",
    "comps_df['media_id'] = comps_df['media_id'].drop_duplicates()\n",
    "comps_df = comps_df.dropna()\n",
    "\n",
    "# Extract the component_ids into a list\n",
    "comps_df['component_ids'] = comps_df['component_ids'].astype(str)\n",
    "\n",
    "def extract_ids(comps_df, component_ids):\n",
    "    id_set = set()  # Use a set to avoid duplicate IDs\n",
    "    for ids in comps_df['component_ids']:\n",
    "        id_list = eval(ids)  # Convert the string representation of the list to an actual list\n",
    "        id_set.update(id_list)\n",
    "    return list(id_set)\n",
    "\n",
    "# Extract IDs\n",
    "id_list = extract_ids(comps_df, 'ids')"
   ]
  },
  {
   "cell_type": "markdown",
   "id": "67e3da91",
   "metadata": {},
   "source": [
    "Retrieve associated ECs for each compound"
   ]
  },
  {
   "cell_type": "code",
   "execution_count": 28,
   "id": "8784ba21",
   "metadata": {},
   "outputs": [
    {
     "name": "stderr",
     "output_type": "stream",
     "text": [
      "100%|██████████| 763/763 [01:45<00:00,  7.26it/s]\n"
     ]
    },
    {
     "name": "stdout",
     "output_type": "stream",
     "text": [
      "HTTP error occurred for C00293: 404 Client Error: Not Found for url: https://rest.kegg.jp/get/compound:C00293\n",
      "HTTP error occurred for C00382: 404 Client Error: Not Found for url: https://rest.kegg.jp/get/compound:C00382\n"
     ]
    }
   ],
   "source": [
    "# Retrieve compound IDs from component IDs (MediaDive)\n",
    "compound_df = md.get_compounds(id_list)\n",
    "\n",
    "# Making 'cpd_list' using the KEGG compound IDs\n",
    "cpd_df = compound_df['KEGG cpd'].dropna().copy()\n",
    "cpd_list = cpd_df.to_list()\n",
    "\n",
    "# Retrieve ECs from CPDs\n",
    "cpd2ec_df = kegg.compound2ec(cpd_list) # HTTP errors = no ECs associated with this compound on KEGG\n",
    "\n",
    "# Merge dataframes with component_id, compound, and ec information\n",
    "cpd_merge = pd.merge(left=compound_df, right=cpd2ec_df, on=\"KEGG cpd\", how=\"outer\")\n",
    "cpd_merge = cpd_merge.drop_duplicates()\n",
    "\n",
    "cpd_merge.to_csv(os.path.join(DATA_DIR,\"kegg\",\"kegg-compound-ec.csv\"), index=False) #SAVE"
   ]
  },
  {
   "cell_type": "markdown",
   "id": "dc94a8a9-c8ef-4a50-b8bd-db2c6601aa88",
   "metadata": {},
   "source": [
    "Format final table for media2ec"
   ]
  },
  {
   "cell_type": "markdown",
   "id": "b07e540b",
   "metadata": {},
   "source": [
    "**media2ec final dataframe**"
   ]
  },
  {
   "cell_type": "code",
   "execution_count": 29,
   "id": "22dc6e2d",
   "metadata": {},
   "outputs": [
    {
     "data": {
      "text/html": [
       "<div>\n",
       "<style scoped>\n",
       "    .dataframe tbody tr th:only-of-type {\n",
       "        vertical-align: middle;\n",
       "    }\n",
       "\n",
       "    .dataframe tbody tr th {\n",
       "        vertical-align: top;\n",
       "    }\n",
       "\n",
       "    .dataframe thead th {\n",
       "        text-align: right;\n",
       "    }\n",
       "</style>\n",
       "<table border=\"1\" class=\"dataframe\">\n",
       "  <thead>\n",
       "    <tr style=\"text-align: right;\">\n",
       "      <th></th>\n",
       "      <th>media_id</th>\n",
       "      <th>taxon_id</th>\n",
       "      <th>component_id</th>\n",
       "      <th>KEGG cpd</th>\n",
       "      <th>Enzyme</th>\n",
       "    </tr>\n",
       "  </thead>\n",
       "  <tbody>\n",
       "    <tr>\n",
       "      <th>5</th>\n",
       "      <td>J597</td>\n",
       "      <td>[{'NCBI tax id': 1226664, 'Matching level': 's...</td>\n",
       "      <td>4</td>\n",
       "      <td>C00001</td>\n",
       "      <td>1.1.1.1         1.1.1.22        1.1.1.23      ...</td>\n",
       "    </tr>\n",
       "    <tr>\n",
       "      <th>15</th>\n",
       "      <td>J97</td>\n",
       "      <td>[{'NCBI tax id': 104101, 'Matching level': 'sp...</td>\n",
       "      <td>37</td>\n",
       "      <td>C12486</td>\n",
       "      <td>1.14.-.-</td>\n",
       "    </tr>\n",
       "    <tr>\n",
       "      <th>16</th>\n",
       "      <td>J709</td>\n",
       "      <td>104098</td>\n",
       "      <td>199</td>\n",
       "      <td>C00369</td>\n",
       "      <td>2.4.1.1         2.4.1.18        2.4.1.19      ...</td>\n",
       "    </tr>\n",
       "    <tr>\n",
       "      <th>25</th>\n",
       "      <td>J709</td>\n",
       "      <td>[{'NCBI tax id': 610245, 'Matching level': 'sp...</td>\n",
       "      <td>199</td>\n",
       "      <td>C00369</td>\n",
       "      <td>2.4.1.1         2.4.1.18        2.4.1.19      ...</td>\n",
       "    </tr>\n",
       "    <tr>\n",
       "      <th>36</th>\n",
       "      <td>J97</td>\n",
       "      <td>[{'NCBI tax id': 1123227, 'Matching level': 's...</td>\n",
       "      <td>4</td>\n",
       "      <td>C00001</td>\n",
       "      <td>1.1.1.1         1.1.1.22        1.1.1.23      ...</td>\n",
       "    </tr>\n",
       "  </tbody>\n",
       "</table>\n",
       "</div>"
      ],
      "text/plain": [
       "   media_id                                           taxon_id component_id  \\\n",
       "5      J597  [{'NCBI tax id': 1226664, 'Matching level': 's...            4   \n",
       "15      J97  [{'NCBI tax id': 104101, 'Matching level': 'sp...           37   \n",
       "16     J709                                             104098          199   \n",
       "25     J709  [{'NCBI tax id': 610245, 'Matching level': 'sp...          199   \n",
       "36      J97  [{'NCBI tax id': 1123227, 'Matching level': 's...            4   \n",
       "\n",
       "   KEGG cpd                                             Enzyme  \n",
       "5    C00001  1.1.1.1         1.1.1.22        1.1.1.23      ...  \n",
       "15   C12486                                           1.14.-.-  \n",
       "16   C00369  2.4.1.1         2.4.1.18        2.4.1.19      ...  \n",
       "25   C00369  2.4.1.1         2.4.1.18        2.4.1.19      ...  \n",
       "36   C00001  1.1.1.1         1.1.1.22        1.1.1.23      ...  "
      ]
     },
     "execution_count": 29,
     "metadata": {},
     "output_type": "execute_result"
    }
   ],
   "source": [
    "# Explode md_df on component_id\n",
    "component_df = md_df.copy()\n",
    "component_df['component_ids'] = md_df['component_ids'].str.strip('[]')\n",
    "component_df['component_ids'] = component_df['component_ids'].str.split(', ').explode('component_ids')\n",
    "component_df = component_df.rename(columns={'component_ids': 'component_id'})\n",
    "\n",
    "# Merge md_df with media2ec (KEGG), remove NaN 'KEGG cpd' values\n",
    "cpd_merge['component_id'] = cpd_merge['component_id'].astype(str)\n",
    "comp_comp = pd.merge(left=component_df, right=cpd_merge, on='component_id', how='outer')\n",
    "kegg2ec = comp_comp.loc[comp_comp['KEGG cpd'].notnull()].copy()\n",
    "kegg2ec = kegg2ec.loc[kegg2ec['Enzyme'].notnull()]\n",
    "\n",
    "#NOTE: not all 'component id's' have an associated 'KEGG compound', and not all 'KEGG compound's' have an associated 'Enzyme'...this means our final table has a loss of data from our original input\n",
    "    #Can try to remedy the data loss by splitting complex media components into their simpler forms\n",
    "\n",
    "# Load and format taxon_id's from bacdive dataframe\n",
    "taxon_df = pd.read_csv(os.path.join(DATA_DIR,\"bacdive\",\"bacdive-all.csv\"), low_memory=False)\n",
    "taxon_df = taxon_df[['bacdive_id','taxon_id']]\n",
    "\n",
    "# Merge taxon_id's to kegg2ec table\n",
    "media_final = pd.merge(left=kegg2ec, right=taxon_df, on='bacdive_id', how='outer')\n",
    "\n",
    "media_final = media_final[['media_id','taxon_id','component_id','KEGG cpd','Enzyme']].copy()\n",
    "media_final = media_final.dropna(subset='Enzyme')\n",
    "\n",
    "media_final.to_csv(os.path.join(DATA_DIR, \"media2ec-final.csv\"), index=False) #SAVE\n",
    "media_final.head()\n",
    "    #Two different model inputs: one with component id's, one with enzymes"
   ]
  },
  {
   "cell_type": "markdown",
   "id": "aa6383cc",
   "metadata": {},
   "source": [
    "**media2ec final dataframe (exploded)**"
   ]
  },
  {
   "cell_type": "code",
   "execution_count": 31,
   "id": "9255db54",
   "metadata": {},
   "outputs": [
    {
     "data": {
      "text/html": [
       "<div>\n",
       "<style scoped>\n",
       "    .dataframe tbody tr th:only-of-type {\n",
       "        vertical-align: middle;\n",
       "    }\n",
       "\n",
       "    .dataframe tbody tr th {\n",
       "        vertical-align: top;\n",
       "    }\n",
       "\n",
       "    .dataframe thead th {\n",
       "        text-align: right;\n",
       "    }\n",
       "</style>\n",
       "<table border=\"1\" class=\"dataframe\">\n",
       "  <thead>\n",
       "    <tr style=\"text-align: right;\">\n",
       "      <th></th>\n",
       "      <th>media_id</th>\n",
       "      <th>taxon_id</th>\n",
       "      <th>component_id</th>\n",
       "      <th>KEGG cpd</th>\n",
       "      <th>ec_KEGG</th>\n",
       "    </tr>\n",
       "  </thead>\n",
       "  <tbody>\n",
       "    <tr>\n",
       "      <th>0</th>\n",
       "      <td>J597</td>\n",
       "      <td>[{'NCBI tax id': 1226664, 'Matching level': 's...</td>\n",
       "      <td>4</td>\n",
       "      <td>C00001</td>\n",
       "      <td>1.1.1.1</td>\n",
       "    </tr>\n",
       "    <tr>\n",
       "      <th>1</th>\n",
       "      <td>J597</td>\n",
       "      <td>[{'NCBI tax id': 1226664, 'Matching level': 's...</td>\n",
       "      <td>4</td>\n",
       "      <td>C00001</td>\n",
       "      <td>1.1.1.22</td>\n",
       "    </tr>\n",
       "    <tr>\n",
       "      <th>2</th>\n",
       "      <td>J597</td>\n",
       "      <td>[{'NCBI tax id': 1226664, 'Matching level': 's...</td>\n",
       "      <td>4</td>\n",
       "      <td>C00001</td>\n",
       "      <td>1.1.1.23</td>\n",
       "    </tr>\n",
       "    <tr>\n",
       "      <th>3</th>\n",
       "      <td>J597</td>\n",
       "      <td>[{'NCBI tax id': 1226664, 'Matching level': 's...</td>\n",
       "      <td>4</td>\n",
       "      <td>C00001</td>\n",
       "      <td>1.1.1.115</td>\n",
       "    </tr>\n",
       "    <tr>\n",
       "      <th>4</th>\n",
       "      <td>J97</td>\n",
       "      <td>[{'NCBI tax id': 104101, 'Matching level': 'sp...</td>\n",
       "      <td>37</td>\n",
       "      <td>C12486</td>\n",
       "      <td>1.14.-.-</td>\n",
       "    </tr>\n",
       "  </tbody>\n",
       "</table>\n",
       "</div>"
      ],
      "text/plain": [
       "  media_id                                           taxon_id  component_id  \\\n",
       "0     J597  [{'NCBI tax id': 1226664, 'Matching level': 's...             4   \n",
       "1     J597  [{'NCBI tax id': 1226664, 'Matching level': 's...             4   \n",
       "2     J597  [{'NCBI tax id': 1226664, 'Matching level': 's...             4   \n",
       "3     J597  [{'NCBI tax id': 1226664, 'Matching level': 's...             4   \n",
       "4      J97  [{'NCBI tax id': 104101, 'Matching level': 'sp...            37   \n",
       "\n",
       "  KEGG cpd    ec_KEGG  \n",
       "0   C00001    1.1.1.1  \n",
       "1   C00001   1.1.1.22  \n",
       "2   C00001   1.1.1.23  \n",
       "3   C00001  1.1.1.115  \n",
       "4   C12486   1.14.-.-  "
      ]
     },
     "execution_count": 31,
     "metadata": {},
     "output_type": "execute_result"
    }
   ],
   "source": [
    "media_final = pd.read_csv(os.path.join(DATA_DIR, \"media2ec-final.csv\"))\n",
    "\n",
    "# Function to split the column by 6-9 spaces (variable delimitation...idk why)\n",
    "def split_and_clean(value):\n",
    "    # Split the string based on 6 to 9 spaces\n",
    "    split_values = re.split(r'\\s{6,9}', value)\n",
    "    # Remove any remaining spaces from the split values\n",
    "    split_values = [v.strip() for v in split_values]\n",
    "    return split_values\n",
    "\n",
    "# Split and Explode\n",
    "media_final['split_column'] = media_final['Enzyme'].apply(split_and_clean).copy()\n",
    "media_split = media_final.explode('split_column').reset_index(drop=True)\n",
    "media_split = media_split.drop(columns=['Enzyme'])\n",
    "media_split = media_split.rename(columns={'split_column': 'ec_KEGG'})\n",
    "\n",
    "media_split['ec_KEGG'] = media_split['ec_KEGG'].dropna()\n",
    "media_split.to_csv(os.path.join(DATA_DIR, \"media2ec-explode.csv\"), index=False) #SAVE\n",
    "media_split.head()"
   ]
  },
  {
   "cell_type": "markdown",
   "id": "7bc6d232",
   "metadata": {},
   "source": [
    "**To-do**\n",
    "\n",
    "- Implement ChEBI media2ec (massive dataset, figure out how to reduce/manage)\n",
    "\n",
    "- Normalize ECs for comparison (proportion of dataset rather than raw counts)"
   ]
  }
 ],
 "metadata": {
  "kernelspec": {
   "display_name": "media",
   "language": "python",
   "name": "media"
  },
  "language_info": {
   "codemirror_mode": {
    "name": "ipython",
    "version": 3
   },
   "file_extension": ".py",
   "mimetype": "text/x-python",
   "name": "python",
   "nbconvert_exporter": "python",
   "pygments_lexer": "ipython3",
   "version": "3.12.3"
  }
 },
 "nbformat": 4,
 "nbformat_minor": 5
}
