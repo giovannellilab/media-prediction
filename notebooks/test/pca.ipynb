{
 "cells": [
  {
   "cell_type": "markdown",
   "metadata": {},
   "source": [
    "# taxa2ec PCA"
   ]
  },
  {
   "cell_type": "markdown",
   "metadata": {},
   "source": [
    "Load and format taxa2ec-final.csv"
   ]
  },
  {
   "cell_type": "code",
   "execution_count": 2,
   "metadata": {},
   "outputs": [
    {
     "data": {
      "text/html": [
       "<div>\n",
       "<style scoped>\n",
       "    .dataframe tbody tr th:only-of-type {\n",
       "        vertical-align: middle;\n",
       "    }\n",
       "\n",
       "    .dataframe tbody tr th {\n",
       "        vertical-align: top;\n",
       "    }\n",
       "\n",
       "    .dataframe thead th {\n",
       "        text-align: right;\n",
       "    }\n",
       "</style>\n",
       "<table border=\"1\" class=\"dataframe\">\n",
       "  <thead>\n",
       "    <tr style=\"text-align: right;\">\n",
       "      <th>ec</th>\n",
       "      <th>taxon_id</th>\n",
       "      <th>media_id</th>\n",
       "      <th>1.1.1.1</th>\n",
       "      <th>1.1.1.103</th>\n",
       "      <th>1.1.1.11</th>\n",
       "      <th>1.1.1.119</th>\n",
       "      <th>1.1.1.14</th>\n",
       "      <th>1.1.1.18</th>\n",
       "      <th>1.1.1.2</th>\n",
       "      <th>1.1.1.22</th>\n",
       "      <th>...</th>\n",
       "      <th>3.5.2.10</th>\n",
       "      <th>3.5.2.6</th>\n",
       "      <th>3.5.3.1</th>\n",
       "      <th>3.5.3.3</th>\n",
       "      <th>3.5.5.1</th>\n",
       "      <th>4.1.1.73</th>\n",
       "      <th>4.2.1.32</th>\n",
       "      <th>4.4.1.1</th>\n",
       "      <th>6.2.1.57</th>\n",
       "      <th>6.3.1.20</th>\n",
       "    </tr>\n",
       "  </thead>\n",
       "  <tbody>\n",
       "    <tr>\n",
       "      <th>0</th>\n",
       "      <td>1004166</td>\n",
       "      <td>1a</td>\n",
       "      <td>0.0</td>\n",
       "      <td>0.0</td>\n",
       "      <td>0.0</td>\n",
       "      <td>0.0</td>\n",
       "      <td>0.0</td>\n",
       "      <td>0.0</td>\n",
       "      <td>0.0</td>\n",
       "      <td>0.0</td>\n",
       "      <td>...</td>\n",
       "      <td>0.0</td>\n",
       "      <td>0.0</td>\n",
       "      <td>0.0</td>\n",
       "      <td>0.0</td>\n",
       "      <td>0.0</td>\n",
       "      <td>0.0</td>\n",
       "      <td>0.0</td>\n",
       "      <td>0.0</td>\n",
       "      <td>0.0</td>\n",
       "      <td>0.0</td>\n",
       "    </tr>\n",
       "    <tr>\n",
       "      <th>1</th>\n",
       "      <td>1004261</td>\n",
       "      <td>J181</td>\n",
       "      <td>0.0</td>\n",
       "      <td>0.0</td>\n",
       "      <td>0.0</td>\n",
       "      <td>0.0</td>\n",
       "      <td>0.0</td>\n",
       "      <td>0.0</td>\n",
       "      <td>0.0</td>\n",
       "      <td>0.0</td>\n",
       "      <td>...</td>\n",
       "      <td>0.0</td>\n",
       "      <td>0.0</td>\n",
       "      <td>0.0</td>\n",
       "      <td>0.0</td>\n",
       "      <td>0.0</td>\n",
       "      <td>0.0</td>\n",
       "      <td>0.0</td>\n",
       "      <td>0.0</td>\n",
       "      <td>0.0</td>\n",
       "      <td>0.0</td>\n",
       "    </tr>\n",
       "    <tr>\n",
       "      <th>2</th>\n",
       "      <td>1004261</td>\n",
       "      <td>J455</td>\n",
       "      <td>0.0</td>\n",
       "      <td>0.0</td>\n",
       "      <td>0.0</td>\n",
       "      <td>0.0</td>\n",
       "      <td>0.0</td>\n",
       "      <td>0.0</td>\n",
       "      <td>0.0</td>\n",
       "      <td>0.0</td>\n",
       "      <td>...</td>\n",
       "      <td>0.0</td>\n",
       "      <td>0.0</td>\n",
       "      <td>0.0</td>\n",
       "      <td>0.0</td>\n",
       "      <td>0.0</td>\n",
       "      <td>0.0</td>\n",
       "      <td>0.0</td>\n",
       "      <td>0.0</td>\n",
       "      <td>0.0</td>\n",
       "      <td>0.0</td>\n",
       "    </tr>\n",
       "    <tr>\n",
       "      <th>3</th>\n",
       "      <td>1005925</td>\n",
       "      <td>J118</td>\n",
       "      <td>0.0</td>\n",
       "      <td>0.0</td>\n",
       "      <td>0.0</td>\n",
       "      <td>0.0</td>\n",
       "      <td>0.0</td>\n",
       "      <td>0.0</td>\n",
       "      <td>0.0</td>\n",
       "      <td>0.0</td>\n",
       "      <td>...</td>\n",
       "      <td>0.0</td>\n",
       "      <td>0.0</td>\n",
       "      <td>0.0</td>\n",
       "      <td>0.0</td>\n",
       "      <td>0.0</td>\n",
       "      <td>0.0</td>\n",
       "      <td>0.0</td>\n",
       "      <td>0.0</td>\n",
       "      <td>0.0</td>\n",
       "      <td>0.0</td>\n",
       "    </tr>\n",
       "    <tr>\n",
       "      <th>4</th>\n",
       "      <td>1005926</td>\n",
       "      <td>J118</td>\n",
       "      <td>0.0</td>\n",
       "      <td>0.0</td>\n",
       "      <td>0.0</td>\n",
       "      <td>0.0</td>\n",
       "      <td>0.0</td>\n",
       "      <td>0.0</td>\n",
       "      <td>0.0</td>\n",
       "      <td>0.0</td>\n",
       "      <td>...</td>\n",
       "      <td>0.0</td>\n",
       "      <td>0.0</td>\n",
       "      <td>0.0</td>\n",
       "      <td>0.0</td>\n",
       "      <td>0.0</td>\n",
       "      <td>0.0</td>\n",
       "      <td>0.0</td>\n",
       "      <td>0.0</td>\n",
       "      <td>0.0</td>\n",
       "      <td>0.0</td>\n",
       "    </tr>\n",
       "  </tbody>\n",
       "</table>\n",
       "<p>5 rows × 196 columns</p>\n",
       "</div>"
      ],
      "text/plain": [
       "ec taxon_id media_id  1.1.1.1  1.1.1.103  1.1.1.11  1.1.1.119  1.1.1.14  \\\n",
       "0   1004166       1a      0.0        0.0       0.0        0.0       0.0   \n",
       "1   1004261     J181      0.0        0.0       0.0        0.0       0.0   \n",
       "2   1004261     J455      0.0        0.0       0.0        0.0       0.0   \n",
       "3   1005925     J118      0.0        0.0       0.0        0.0       0.0   \n",
       "4   1005926     J118      0.0        0.0       0.0        0.0       0.0   \n",
       "\n",
       "ec  1.1.1.18  1.1.1.2  1.1.1.22  ...  3.5.2.10  3.5.2.6  3.5.3.1  3.5.3.3  \\\n",
       "0        0.0      0.0       0.0  ...       0.0      0.0      0.0      0.0   \n",
       "1        0.0      0.0       0.0  ...       0.0      0.0      0.0      0.0   \n",
       "2        0.0      0.0       0.0  ...       0.0      0.0      0.0      0.0   \n",
       "3        0.0      0.0       0.0  ...       0.0      0.0      0.0      0.0   \n",
       "4        0.0      0.0       0.0  ...       0.0      0.0      0.0      0.0   \n",
       "\n",
       "ec  3.5.5.1  4.1.1.73  4.2.1.32  4.4.1.1  6.2.1.57  6.3.1.20  \n",
       "0       0.0       0.0       0.0      0.0       0.0       0.0  \n",
       "1       0.0       0.0       0.0      0.0       0.0       0.0  \n",
       "2       0.0       0.0       0.0      0.0       0.0       0.0  \n",
       "3       0.0       0.0       0.0      0.0       0.0       0.0  \n",
       "4       0.0       0.0       0.0      0.0       0.0       0.0  \n",
       "\n",
       "[5 rows x 196 columns]"
      ]
     },
     "execution_count": 2,
     "metadata": {},
     "output_type": "execute_result"
    }
   ],
   "source": [
    "import pandas as pd\n",
    "import os\n",
    "DATA_DIR = \"~/Desktop/code/data/\"\n",
    "\n",
    "data_df = pd.read_csv(os.path.join(DATA_DIR, \"ec-taxa-media-overlap.csv\"), low_memory=False)\n",
    "\n",
    "filter = data_df[\"ec\"].str.contains(\"-\")\n",
    "data_df = data_df[~filter]\n",
    "\n",
    "data_df = data_df[[\"taxon_id\", \"media_id\", \"ec\"]]\\\n",
    "    .value_counts()\\\n",
    "    .reset_index()\n",
    "\n",
    "data_df = data_df.pivot(\n",
    "    index=[\"taxon_id\", \"media_id\"],\n",
    "    columns=\"ec\",\n",
    "    values=\"count\"\n",
    ")\n",
    "data_df = data_df.fillna(0.0).reset_index()\n",
    "data_df.head()"
   ]
  },
  {
   "cell_type": "markdown",
   "metadata": {},
   "source": [
    "Further formatting for PCA"
   ]
  },
  {
   "cell_type": "code",
   "execution_count": 4,
   "metadata": {},
   "outputs": [
    {
     "data": {
      "text/plain": [
       "(7220, 2)"
      ]
     },
     "execution_count": 4,
     "metadata": {},
     "output_type": "execute_result"
    }
   ],
   "source": [
    "from sklearn.decomposition import PCA\n",
    "from sklearn.cluster import KMeans\n",
    "import numpy as np\n",
    " \n",
    "#Load Data\n",
    "data = data_df.drop([\"taxon_id\", \"media_id\"], axis=1)\n",
    "pca = PCA(2)\n",
    " \n",
    "#Transform the data\n",
    "df = pca.fit_transform(data)\n",
    " \n",
    "df.shape"
   ]
  },
  {
   "cell_type": "markdown",
   "metadata": {},
   "source": [
    "Clustering using KMeans"
   ]
  },
  {
   "cell_type": "code",
   "execution_count": 13,
   "metadata": {},
   "outputs": [
    {
     "name": "stdout",
     "output_type": "stream",
     "text": [
      "[0 0 0 ... 0 0 0]\n"
     ]
    }
   ],
   "source": [
    "#Import required module\n",
    "from sklearn.cluster import KMeans\n",
    " \n",
    "#Initialize the class object\n",
    "kmeans = KMeans(n_clusters= 4)\n",
    " \n",
    "#predict the labels of clusters.\n",
    "label = kmeans.fit_predict(df)\n",
    " \n",
    "print(label)"
   ]
  },
  {
   "cell_type": "markdown",
   "metadata": {},
   "source": [
    "Plotting the PCA"
   ]
  },
  {
   "cell_type": "code",
   "execution_count": 15,
   "metadata": {},
   "outputs": [
    {
     "data": {
      "image/png": "[encoded data removed]",
      "text/plain": [
       "<Figure size 640x480 with 1 Axes>"
      ]
     },
     "metadata": {},
     "output_type": "display_data"
    }
   ],
   "source": [
    "#Getting unique labels\n",
    "u_labels = np.unique(label)\n",
    " \n",
    "#plotting the results:\n",
    "for i in u_labels:\n",
    "    plt.scatter(df[label == i , 0] , df[label == i , 1] , label = i)\n",
    "\n",
    "plt.title(\"taxa2ec PCA\")\n",
    "plt.xlabel(\"PC1\")\n",
    "plt.ylabel(\"PC2\")\n",
    "plt.legend()\n",
    "\n",
    "plt.show() #ADD hover data "
   ]
  }
 ],
 "metadata": {
  "kernelspec": {
   "display_name": "media",
   "language": "python",
   "name": "python3"
  },
  "language_info": {
   "codemirror_mode": {
    "name": "ipython",
    "version": 3
   },
   "file_extension": ".py",
   "mimetype": "text/x-python",
   "name": "python",
   "nbconvert_exporter": "python",
   "pygments_lexer": "ipython3",
   "version": "3.12.3"
  }
 },
 "nbformat": 4,
 "nbformat_minor": 2
}
