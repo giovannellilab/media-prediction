{
 "cells": [
  {
   "cell_type": "code",
   "execution_count": 27,
   "metadata": {},
   "outputs": [],
   "source": [
    "# Add higher directory to python modules path\n",
    "\n",
    "import sys\n",
    "\n",
    "sys.path.append(\"..\")"
   ]
  },
  {
   "cell_type": "code",
   "execution_count": 28,
   "metadata": {},
   "outputs": [],
   "source": [
    "import os\n",
    "\n",
    "import pandas as pd\n",
    "\n",
    "import plotly.express as px\n",
    "\n",
    "from sklearn.cluster import HDBSCAN, AgglomerativeClustering\n",
    "\n",
    "import umap"
   ]
  },
  {
   "cell_type": "code",
   "execution_count": 29,
   "metadata": {},
   "outputs": [],
   "source": [
    "DATA_DIR = \"../data/\"\n",
    "CLUSTER_FILE = \"ml_input-taxa2component-donato.csv\"\n",
    "\n",
    "RANDOM_SEED = 666\n",
    "\n",
    "# UMAP parameters\n",
    "UMAP_METRIC = \"euclidean\"\n",
    "UMAP_SEED = 42"
   ]
  },
  {
   "cell_type": "code",
   "execution_count": 30,
   "metadata": {},
   "outputs": [
    {
     "data": {
      "text/html": [
       "<div>\n",
       "<style scoped>\n",
       "    .dataframe tbody tr th:only-of-type {\n",
       "        vertical-align: middle;\n",
       "    }\n",
       "\n",
       "    .dataframe tbody tr th {\n",
       "        vertical-align: top;\n",
       "    }\n",
       "\n",
       "    .dataframe thead th {\n",
       "        text-align: right;\n",
       "    }\n",
       "</style>\n",
       "<table border=\"1\" class=\"dataframe\">\n",
       "  <thead>\n",
       "    <tr style=\"text-align: right;\">\n",
       "      <th></th>\n",
       "      <th>Components</th>\n",
       "      <th>taxon_id</th>\n",
       "      <th>media_id</th>\n",
       "      <th>(NH 4 ) 2 SO 4</th>\n",
       "      <th>(NH 4 ) acetate or Na-pyruvate</th>\n",
       "      <th>0.1 N H 2 SO 4</th>\n",
       "      <th>0.1M Tris/HCl at pH 7.5</th>\n",
       "      <th>Allen’s trace element solution (see medium 88)</th>\n",
       "      <th>Artificial sea water</th>\n",
       "      <th>Ca(NO 3 ) 2</th>\n",
       "      <th>...</th>\n",
       "      <th>Trace element SL-11</th>\n",
       "      <th>Trace element SL-6</th>\n",
       "      <th>Trace element Wolfe's</th>\n",
       "      <th>Trypticase peptone</th>\n",
       "      <th>Tryptone</th>\n",
       "      <th>Vitamin solution 141</th>\n",
       "      <th>Vitamin solution 1412</th>\n",
       "      <th>Vitamin solution 603</th>\n",
       "      <th>VOSO 4 x 5 H 2 O solution (0.01% w/v)</th>\n",
       "      <th>Yeast Extract</th>\n",
       "    </tr>\n",
       "  </thead>\n",
       "  <tbody>\n",
       "    <tr>\n",
       "      <th>0</th>\n",
       "      <td>0</td>\n",
       "      <td>536350</td>\n",
       "      <td>709</td>\n",
       "      <td>1</td>\n",
       "      <td>0</td>\n",
       "      <td>0</td>\n",
       "      <td>0</td>\n",
       "      <td>0</td>\n",
       "      <td>0</td>\n",
       "      <td>0</td>\n",
       "      <td>...</td>\n",
       "      <td>0</td>\n",
       "      <td>0</td>\n",
       "      <td>0</td>\n",
       "      <td>0</td>\n",
       "      <td>0</td>\n",
       "      <td>0</td>\n",
       "      <td>0</td>\n",
       "      <td>0</td>\n",
       "      <td>0</td>\n",
       "      <td>1</td>\n",
       "    </tr>\n",
       "    <tr>\n",
       "      <th>1</th>\n",
       "      <td>1</td>\n",
       "      <td>5240</td>\n",
       "      <td>269</td>\n",
       "      <td>1</td>\n",
       "      <td>0</td>\n",
       "      <td>0</td>\n",
       "      <td>0</td>\n",
       "      <td>0</td>\n",
       "      <td>0</td>\n",
       "      <td>0</td>\n",
       "      <td>...</td>\n",
       "      <td>0</td>\n",
       "      <td>0</td>\n",
       "      <td>0</td>\n",
       "      <td>0</td>\n",
       "      <td>0</td>\n",
       "      <td>0</td>\n",
       "      <td>0</td>\n",
       "      <td>0</td>\n",
       "      <td>0</td>\n",
       "      <td>1</td>\n",
       "    </tr>\n",
       "    <tr>\n",
       "      <th>2</th>\n",
       "      <td>2</td>\n",
       "      <td>330590</td>\n",
       "      <td>150a</td>\n",
       "      <td>1</td>\n",
       "      <td>0</td>\n",
       "      <td>0</td>\n",
       "      <td>0</td>\n",
       "      <td>0</td>\n",
       "      <td>0</td>\n",
       "      <td>1</td>\n",
       "      <td>...</td>\n",
       "      <td>0</td>\n",
       "      <td>0</td>\n",
       "      <td>0</td>\n",
       "      <td>0</td>\n",
       "      <td>0</td>\n",
       "      <td>0</td>\n",
       "      <td>0</td>\n",
       "      <td>0</td>\n",
       "      <td>0</td>\n",
       "      <td>0</td>\n",
       "    </tr>\n",
       "    <tr>\n",
       "      <th>3</th>\n",
       "      <td>3</td>\n",
       "      <td>9200</td>\n",
       "      <td>882</td>\n",
       "      <td>1</td>\n",
       "      <td>0</td>\n",
       "      <td>1</td>\n",
       "      <td>0</td>\n",
       "      <td>0</td>\n",
       "      <td>0</td>\n",
       "      <td>0</td>\n",
       "      <td>...</td>\n",
       "      <td>0</td>\n",
       "      <td>0</td>\n",
       "      <td>0</td>\n",
       "      <td>0</td>\n",
       "      <td>0</td>\n",
       "      <td>0</td>\n",
       "      <td>0</td>\n",
       "      <td>0</td>\n",
       "      <td>0</td>\n",
       "      <td>0</td>\n",
       "    </tr>\n",
       "    <tr>\n",
       "      <th>4</th>\n",
       "      <td>4</td>\n",
       "      <td>6497460</td>\n",
       "      <td>104a</td>\n",
       "      <td>0</td>\n",
       "      <td>0</td>\n",
       "      <td>0</td>\n",
       "      <td>0</td>\n",
       "      <td>0</td>\n",
       "      <td>0</td>\n",
       "      <td>0</td>\n",
       "      <td>...</td>\n",
       "      <td>0</td>\n",
       "      <td>0</td>\n",
       "      <td>0</td>\n",
       "      <td>1</td>\n",
       "      <td>0</td>\n",
       "      <td>0</td>\n",
       "      <td>0</td>\n",
       "      <td>0</td>\n",
       "      <td>0</td>\n",
       "      <td>1</td>\n",
       "    </tr>\n",
       "  </tbody>\n",
       "</table>\n",
       "<p>5 rows × 94 columns</p>\n",
       "</div>"
      ],
      "text/plain": [
       "   Components taxon_id media_id  (NH 4 ) 2 SO 4  \\\n",
       "0           0   536350      709               1   \n",
       "1           1     5240      269               1   \n",
       "2           2   330590     150a               1   \n",
       "3           3     9200      882               1   \n",
       "4           4  6497460     104a               0   \n",
       "\n",
       "   (NH 4 ) acetate or Na-pyruvate  0.1 N H 2 SO 4  0.1M Tris/HCl at pH 7.5  \\\n",
       "0                               0               0                        0   \n",
       "1                               0               0                        0   \n",
       "2                               0               0                        0   \n",
       "3                               0               1                        0   \n",
       "4                               0               0                        0   \n",
       "\n",
       "   Allen’s trace element solution (see medium 88)  Artificial sea water  \\\n",
       "0                                               0                     0   \n",
       "1                                               0                     0   \n",
       "2                                               0                     0   \n",
       "3                                               0                     0   \n",
       "4                                               0                     0   \n",
       "\n",
       "   Ca(NO 3 ) 2  ...  Trace element SL-11  Trace element SL-6  \\\n",
       "0            0  ...                    0                   0   \n",
       "1            0  ...                    0                   0   \n",
       "2            1  ...                    0                   0   \n",
       "3            0  ...                    0                   0   \n",
       "4            0  ...                    0                   0   \n",
       "\n",
       "   Trace element Wolfe's  Trypticase peptone  Tryptone  Vitamin solution 141  \\\n",
       "0                      0                   0         0                     0   \n",
       "1                      0                   0         0                     0   \n",
       "2                      0                   0         0                     0   \n",
       "3                      0                   0         0                     0   \n",
       "4                      0                   1         0                     0   \n",
       "\n",
       "   Vitamin solution 1412  Vitamin solution 603  \\\n",
       "0                      0                     0   \n",
       "1                      0                     0   \n",
       "2                      0                     0   \n",
       "3                      0                     0   \n",
       "4                      0                     0   \n",
       "\n",
       "   VOSO 4 x 5 H 2 O solution (0.01% w/v)  Yeast Extract  \n",
       "0                                      0              1  \n",
       "1                                      0              1  \n",
       "2                                      0              0  \n",
       "3                                      0              0  \n",
       "4                                      0              1  \n",
       "\n",
       "[5 rows x 94 columns]"
      ]
     },
     "execution_count": 30,
     "metadata": {},
     "output_type": "execute_result"
    }
   ],
   "source": [
    "data_df = pd.read_csv(\n",
    "    os.path.join(\n",
    "        DATA_DIR,\n",
    "        \"ml\",\n",
    "        CLUSTER_FILE\n",
    "    )\n",
    ")\n",
    "\n",
    "# WARNING: This preprocessing should be done in previous steps!\n",
    "data_df = data_df.rename(columns={\"Media ID\": \"media_id\"})\n",
    "data_df[\"taxon_id\"] = data_df[\"taxon_id\"].astype(str).str.replace(\".0\", \"0\")\n",
    "\n",
    "data_df.head()"
   ]
  },
  {
   "cell_type": "code",
   "execution_count": 31,
   "metadata": {},
   "outputs": [
    {
     "data": {
      "text/html": [
       "<div>\n",
       "<style scoped>\n",
       "    .dataframe tbody tr th:only-of-type {\n",
       "        vertical-align: middle;\n",
       "    }\n",
       "\n",
       "    .dataframe tbody tr th {\n",
       "        vertical-align: top;\n",
       "    }\n",
       "\n",
       "    .dataframe thead th {\n",
       "        text-align: right;\n",
       "    }\n",
       "</style>\n",
       "<table border=\"1\" class=\"dataframe\">\n",
       "  <thead>\n",
       "    <tr style=\"text-align: right;\">\n",
       "      <th></th>\n",
       "      <th>(NH 4 ) 2 SO 4</th>\n",
       "      <th>(NH 4 ) acetate or Na-pyruvate</th>\n",
       "      <th>0.1 N H 2 SO 4</th>\n",
       "      <th>0.1M Tris/HCl at pH 7.5</th>\n",
       "      <th>Allen’s trace element solution (see medium 88)</th>\n",
       "      <th>Artificial sea water</th>\n",
       "      <th>Ca(NO 3 ) 2</th>\n",
       "      <th>CaCl 2 x 2 H 2 O</th>\n",
       "      <th>CaCl2</th>\n",
       "      <th>Casamino acids (BD BBL)</th>\n",
       "      <th>...</th>\n",
       "      <th>Trace element SL-11</th>\n",
       "      <th>Trace element SL-6</th>\n",
       "      <th>Trace element Wolfe's</th>\n",
       "      <th>Trypticase peptone</th>\n",
       "      <th>Tryptone</th>\n",
       "      <th>Vitamin solution 141</th>\n",
       "      <th>Vitamin solution 1412</th>\n",
       "      <th>Vitamin solution 603</th>\n",
       "      <th>VOSO 4 x 5 H 2 O solution (0.01% w/v)</th>\n",
       "      <th>Yeast Extract</th>\n",
       "    </tr>\n",
       "  </thead>\n",
       "  <tbody>\n",
       "    <tr>\n",
       "      <th>0</th>\n",
       "      <td>1</td>\n",
       "      <td>0</td>\n",
       "      <td>0</td>\n",
       "      <td>0</td>\n",
       "      <td>0</td>\n",
       "      <td>0</td>\n",
       "      <td>0</td>\n",
       "      <td>0</td>\n",
       "      <td>0</td>\n",
       "      <td>0</td>\n",
       "      <td>...</td>\n",
       "      <td>0</td>\n",
       "      <td>0</td>\n",
       "      <td>0</td>\n",
       "      <td>0</td>\n",
       "      <td>0</td>\n",
       "      <td>0</td>\n",
       "      <td>0</td>\n",
       "      <td>0</td>\n",
       "      <td>0</td>\n",
       "      <td>1</td>\n",
       "    </tr>\n",
       "    <tr>\n",
       "      <th>1</th>\n",
       "      <td>1</td>\n",
       "      <td>0</td>\n",
       "      <td>0</td>\n",
       "      <td>0</td>\n",
       "      <td>0</td>\n",
       "      <td>0</td>\n",
       "      <td>0</td>\n",
       "      <td>0</td>\n",
       "      <td>0</td>\n",
       "      <td>0</td>\n",
       "      <td>...</td>\n",
       "      <td>0</td>\n",
       "      <td>0</td>\n",
       "      <td>0</td>\n",
       "      <td>0</td>\n",
       "      <td>0</td>\n",
       "      <td>0</td>\n",
       "      <td>0</td>\n",
       "      <td>0</td>\n",
       "      <td>0</td>\n",
       "      <td>1</td>\n",
       "    </tr>\n",
       "    <tr>\n",
       "      <th>2</th>\n",
       "      <td>1</td>\n",
       "      <td>0</td>\n",
       "      <td>0</td>\n",
       "      <td>0</td>\n",
       "      <td>0</td>\n",
       "      <td>0</td>\n",
       "      <td>1</td>\n",
       "      <td>0</td>\n",
       "      <td>0</td>\n",
       "      <td>0</td>\n",
       "      <td>...</td>\n",
       "      <td>0</td>\n",
       "      <td>0</td>\n",
       "      <td>0</td>\n",
       "      <td>0</td>\n",
       "      <td>0</td>\n",
       "      <td>0</td>\n",
       "      <td>0</td>\n",
       "      <td>0</td>\n",
       "      <td>0</td>\n",
       "      <td>0</td>\n",
       "    </tr>\n",
       "    <tr>\n",
       "      <th>3</th>\n",
       "      <td>1</td>\n",
       "      <td>0</td>\n",
       "      <td>1</td>\n",
       "      <td>0</td>\n",
       "      <td>0</td>\n",
       "      <td>0</td>\n",
       "      <td>0</td>\n",
       "      <td>1</td>\n",
       "      <td>0</td>\n",
       "      <td>0</td>\n",
       "      <td>...</td>\n",
       "      <td>0</td>\n",
       "      <td>0</td>\n",
       "      <td>0</td>\n",
       "      <td>0</td>\n",
       "      <td>0</td>\n",
       "      <td>0</td>\n",
       "      <td>0</td>\n",
       "      <td>0</td>\n",
       "      <td>0</td>\n",
       "      <td>0</td>\n",
       "    </tr>\n",
       "    <tr>\n",
       "      <th>4</th>\n",
       "      <td>0</td>\n",
       "      <td>0</td>\n",
       "      <td>0</td>\n",
       "      <td>0</td>\n",
       "      <td>0</td>\n",
       "      <td>0</td>\n",
       "      <td>0</td>\n",
       "      <td>0</td>\n",
       "      <td>0</td>\n",
       "      <td>0</td>\n",
       "      <td>...</td>\n",
       "      <td>0</td>\n",
       "      <td>0</td>\n",
       "      <td>0</td>\n",
       "      <td>1</td>\n",
       "      <td>0</td>\n",
       "      <td>0</td>\n",
       "      <td>0</td>\n",
       "      <td>0</td>\n",
       "      <td>0</td>\n",
       "      <td>1</td>\n",
       "    </tr>\n",
       "  </tbody>\n",
       "</table>\n",
       "<p>5 rows × 91 columns</p>\n",
       "</div>"
      ],
      "text/plain": [
       "   (NH 4 ) 2 SO 4  (NH 4 ) acetate or Na-pyruvate  0.1 N H 2 SO 4  \\\n",
       "0               1                               0               0   \n",
       "1               1                               0               0   \n",
       "2               1                               0               0   \n",
       "3               1                               0               1   \n",
       "4               0                               0               0   \n",
       "\n",
       "   0.1M Tris/HCl at pH 7.5  Allen’s trace element solution (see medium 88)  \\\n",
       "0                        0                                               0   \n",
       "1                        0                                               0   \n",
       "2                        0                                               0   \n",
       "3                        0                                               0   \n",
       "4                        0                                               0   \n",
       "\n",
       "   Artificial sea water  Ca(NO 3 ) 2  CaCl 2 x 2 H 2 O  CaCl2  \\\n",
       "0                     0            0                 0      0   \n",
       "1                     0            0                 0      0   \n",
       "2                     0            1                 0      0   \n",
       "3                     0            0                 1      0   \n",
       "4                     0            0                 0      0   \n",
       "\n",
       "   Casamino acids (BD BBL)  ...  Trace element SL-11  Trace element SL-6  \\\n",
       "0                        0  ...                    0                   0   \n",
       "1                        0  ...                    0                   0   \n",
       "2                        0  ...                    0                   0   \n",
       "3                        0  ...                    0                   0   \n",
       "4                        0  ...                    0                   0   \n",
       "\n",
       "   Trace element Wolfe's  Trypticase peptone  Tryptone  Vitamin solution 141  \\\n",
       "0                      0                   0         0                     0   \n",
       "1                      0                   0         0                     0   \n",
       "2                      0                   0         0                     0   \n",
       "3                      0                   0         0                     0   \n",
       "4                      0                   1         0                     0   \n",
       "\n",
       "   Vitamin solution 1412  Vitamin solution 603  \\\n",
       "0                      0                     0   \n",
       "1                      0                     0   \n",
       "2                      0                     0   \n",
       "3                      0                     0   \n",
       "4                      0                     0   \n",
       "\n",
       "   VOSO 4 x 5 H 2 O solution (0.01% w/v)  Yeast Extract  \n",
       "0                                      0              1  \n",
       "1                                      0              1  \n",
       "2                                      0              0  \n",
       "3                                      0              0  \n",
       "4                                      0              1  \n",
       "\n",
       "[5 rows x 91 columns]"
      ]
     },
     "execution_count": 31,
     "metadata": {},
     "output_type": "execute_result"
    }
   ],
   "source": [
    "X_train = data_df.drop([\"Components\", \"taxon_id\", \"media_id\"], axis=1)\n",
    "X_train.head()"
   ]
  },
  {
   "cell_type": "markdown",
   "metadata": {},
   "source": [
    "## 1. Predict taxon from media components"
   ]
  },
  {
   "cell_type": "markdown",
   "metadata": {},
   "source": [
    "### Using binary data"
   ]
  },
  {
   "cell_type": "code",
   "execution_count": 32,
   "metadata": {},
   "outputs": [],
   "source": [
    "# Add cluster label\n",
    "cluster = AgglomerativeClustering(\n",
    "    n_clusters=3,\n",
    "    linkage=\"ward\"\n",
    ")\n",
    "reduced_df_binary = X_train.copy()\n",
    "reduced_df_binary[\"Cluster\"] = cluster.fit_predict(reduced_df_binary)\n",
    "reduced_df_binary[\"Cluster\"] = reduced_df_binary[\"Cluster\"].astype(str)"
   ]
  },
  {
   "cell_type": "code",
   "execution_count": 33,
   "metadata": {},
   "outputs": [
    {
     "data": {
      "text/html": [
       "<div>\n",
       "<style scoped>\n",
       "    .dataframe tbody tr th:only-of-type {\n",
       "        vertical-align: middle;\n",
       "    }\n",
       "\n",
       "    .dataframe tbody tr th {\n",
       "        vertical-align: top;\n",
       "    }\n",
       "\n",
       "    .dataframe thead th {\n",
       "        text-align: right;\n",
       "    }\n",
       "</style>\n",
       "<table border=\"1\" class=\"dataframe\">\n",
       "  <thead>\n",
       "    <tr style=\"text-align: right;\">\n",
       "      <th></th>\n",
       "      <th>(NH 4 ) 2 SO 4</th>\n",
       "      <th>(NH 4 ) acetate or Na-pyruvate</th>\n",
       "      <th>0.1 N H 2 SO 4</th>\n",
       "      <th>0.1M Tris/HCl at pH 7.5</th>\n",
       "      <th>Allen’s trace element solution (see medium 88)</th>\n",
       "      <th>Artificial sea water</th>\n",
       "      <th>Ca(NO 3 ) 2</th>\n",
       "      <th>CaCl 2 x 2 H 2 O</th>\n",
       "      <th>CaCl2</th>\n",
       "      <th>Casamino acids (BD BBL)</th>\n",
       "      <th>...</th>\n",
       "      <th>Trypticase peptone</th>\n",
       "      <th>Tryptone</th>\n",
       "      <th>Vitamin solution 141</th>\n",
       "      <th>Vitamin solution 1412</th>\n",
       "      <th>Vitamin solution 603</th>\n",
       "      <th>VOSO 4 x 5 H 2 O solution (0.01% w/v)</th>\n",
       "      <th>Yeast Extract</th>\n",
       "      <th>Cluster</th>\n",
       "      <th>taxon_id</th>\n",
       "      <th>media_id</th>\n",
       "    </tr>\n",
       "  </thead>\n",
       "  <tbody>\n",
       "    <tr>\n",
       "      <th>0</th>\n",
       "      <td>1</td>\n",
       "      <td>0</td>\n",
       "      <td>0</td>\n",
       "      <td>0</td>\n",
       "      <td>0</td>\n",
       "      <td>0</td>\n",
       "      <td>0</td>\n",
       "      <td>0</td>\n",
       "      <td>0</td>\n",
       "      <td>0</td>\n",
       "      <td>...</td>\n",
       "      <td>0</td>\n",
       "      <td>0</td>\n",
       "      <td>0</td>\n",
       "      <td>0</td>\n",
       "      <td>0</td>\n",
       "      <td>0</td>\n",
       "      <td>1</td>\n",
       "      <td>2</td>\n",
       "      <td>536350</td>\n",
       "      <td>709</td>\n",
       "    </tr>\n",
       "    <tr>\n",
       "      <th>1</th>\n",
       "      <td>1</td>\n",
       "      <td>0</td>\n",
       "      <td>0</td>\n",
       "      <td>0</td>\n",
       "      <td>0</td>\n",
       "      <td>0</td>\n",
       "      <td>0</td>\n",
       "      <td>0</td>\n",
       "      <td>0</td>\n",
       "      <td>0</td>\n",
       "      <td>...</td>\n",
       "      <td>0</td>\n",
       "      <td>0</td>\n",
       "      <td>0</td>\n",
       "      <td>0</td>\n",
       "      <td>0</td>\n",
       "      <td>0</td>\n",
       "      <td>1</td>\n",
       "      <td>2</td>\n",
       "      <td>5240</td>\n",
       "      <td>269</td>\n",
       "    </tr>\n",
       "    <tr>\n",
       "      <th>2</th>\n",
       "      <td>1</td>\n",
       "      <td>0</td>\n",
       "      <td>0</td>\n",
       "      <td>0</td>\n",
       "      <td>0</td>\n",
       "      <td>0</td>\n",
       "      <td>1</td>\n",
       "      <td>0</td>\n",
       "      <td>0</td>\n",
       "      <td>0</td>\n",
       "      <td>...</td>\n",
       "      <td>0</td>\n",
       "      <td>0</td>\n",
       "      <td>0</td>\n",
       "      <td>0</td>\n",
       "      <td>0</td>\n",
       "      <td>0</td>\n",
       "      <td>0</td>\n",
       "      <td>2</td>\n",
       "      <td>330590</td>\n",
       "      <td>150a</td>\n",
       "    </tr>\n",
       "    <tr>\n",
       "      <th>3</th>\n",
       "      <td>1</td>\n",
       "      <td>0</td>\n",
       "      <td>1</td>\n",
       "      <td>0</td>\n",
       "      <td>0</td>\n",
       "      <td>0</td>\n",
       "      <td>0</td>\n",
       "      <td>1</td>\n",
       "      <td>0</td>\n",
       "      <td>0</td>\n",
       "      <td>...</td>\n",
       "      <td>0</td>\n",
       "      <td>0</td>\n",
       "      <td>0</td>\n",
       "      <td>0</td>\n",
       "      <td>0</td>\n",
       "      <td>0</td>\n",
       "      <td>0</td>\n",
       "      <td>2</td>\n",
       "      <td>9200</td>\n",
       "      <td>882</td>\n",
       "    </tr>\n",
       "    <tr>\n",
       "      <th>4</th>\n",
       "      <td>0</td>\n",
       "      <td>0</td>\n",
       "      <td>0</td>\n",
       "      <td>0</td>\n",
       "      <td>0</td>\n",
       "      <td>0</td>\n",
       "      <td>0</td>\n",
       "      <td>0</td>\n",
       "      <td>0</td>\n",
       "      <td>0</td>\n",
       "      <td>...</td>\n",
       "      <td>1</td>\n",
       "      <td>0</td>\n",
       "      <td>0</td>\n",
       "      <td>0</td>\n",
       "      <td>0</td>\n",
       "      <td>0</td>\n",
       "      <td>1</td>\n",
       "      <td>2</td>\n",
       "      <td>6497460</td>\n",
       "      <td>104a</td>\n",
       "    </tr>\n",
       "  </tbody>\n",
       "</table>\n",
       "<p>5 rows × 94 columns</p>\n",
       "</div>"
      ],
      "text/plain": [
       "   (NH 4 ) 2 SO 4  (NH 4 ) acetate or Na-pyruvate  0.1 N H 2 SO 4  \\\n",
       "0               1                               0               0   \n",
       "1               1                               0               0   \n",
       "2               1                               0               0   \n",
       "3               1                               0               1   \n",
       "4               0                               0               0   \n",
       "\n",
       "   0.1M Tris/HCl at pH 7.5  Allen’s trace element solution (see medium 88)  \\\n",
       "0                        0                                               0   \n",
       "1                        0                                               0   \n",
       "2                        0                                               0   \n",
       "3                        0                                               0   \n",
       "4                        0                                               0   \n",
       "\n",
       "   Artificial sea water  Ca(NO 3 ) 2  CaCl 2 x 2 H 2 O  CaCl2  \\\n",
       "0                     0            0                 0      0   \n",
       "1                     0            0                 0      0   \n",
       "2                     0            1                 0      0   \n",
       "3                     0            0                 1      0   \n",
       "4                     0            0                 0      0   \n",
       "\n",
       "   Casamino acids (BD BBL)  ...  Trypticase peptone  Tryptone  \\\n",
       "0                        0  ...                   0         0   \n",
       "1                        0  ...                   0         0   \n",
       "2                        0  ...                   0         0   \n",
       "3                        0  ...                   0         0   \n",
       "4                        0  ...                   1         0   \n",
       "\n",
       "   Vitamin solution 141  Vitamin solution 1412  Vitamin solution 603  \\\n",
       "0                     0                      0                     0   \n",
       "1                     0                      0                     0   \n",
       "2                     0                      0                     0   \n",
       "3                     0                      0                     0   \n",
       "4                     0                      0                     0   \n",
       "\n",
       "   VOSO 4 x 5 H 2 O solution (0.01% w/v)  Yeast Extract  Cluster  taxon_id  \\\n",
       "0                                      0              1        2    536350   \n",
       "1                                      0              1        2      5240   \n",
       "2                                      0              0        2    330590   \n",
       "3                                      0              0        2      9200   \n",
       "4                                      0              1        2   6497460   \n",
       "\n",
       "   media_id  \n",
       "0       709  \n",
       "1       269  \n",
       "2      150a  \n",
       "3       882  \n",
       "4      104a  \n",
       "\n",
       "[5 rows x 94 columns]"
      ]
     },
     "execution_count": 33,
     "metadata": {},
     "output_type": "execute_result"
    }
   ],
   "source": [
    "# Add ID columns\n",
    "reduced_df_binary[[\"taxon_id\", \"media_id\"]] = \\\n",
    "    data_df[[\"taxon_id\", \"media_id\"]].values\n",
    "\n",
    "reduced_df_binary.head()"
   ]
  },
  {
   "cell_type": "markdown",
   "metadata": {},
   "source": [
    "### Using continuous data"
   ]
  },
  {
   "cell_type": "markdown",
   "metadata": {},
   "source": [
    "#### Map binary features to a continuous embedding space using UMAP (or another algorithm)"
   ]
  },
  {
   "cell_type": "code",
   "execution_count": 34,
   "metadata": {},
   "outputs": [],
   "source": [
    "reducer = umap.UMAP(\n",
    "    metric=UMAP_METRIC,\n",
    "    n_components=4,\n",
    "    n_epochs=5000,\n",
    "    random_state=UMAP_SEED,\n",
    "    n_jobs=1\n",
    ")\n",
    "\n",
    "reduced_df = reducer.fit_transform(X_train)\n",
    "reduced_df = pd.DataFrame(\n",
    "    reduced_df,\n",
    "    columns=[f\"Component {i+1}\" for i in range(reduced_df.shape[1])]\n",
    ")"
   ]
  },
  {
   "cell_type": "markdown",
   "metadata": {},
   "source": [
    "#### Perform the clustering"
   ]
  },
  {
   "cell_type": "code",
   "execution_count": 35,
   "metadata": {},
   "outputs": [],
   "source": [
    "# Add cluster label\n",
    "cluster = HDBSCAN(\n",
    "    min_cluster_size=10,\n",
    "    min_samples=None,\n",
    "    metric=UMAP_METRIC,\n",
    "    n_jobs=-1\n",
    ")\n",
    "reduced_df[\"Cluster\"] = cluster.fit_predict(reduced_df)\n",
    "reduced_df[\"Cluster\"] = reduced_df[\"Cluster\"].astype(str)"
   ]
  },
  {
   "cell_type": "code",
   "execution_count": 36,
   "metadata": {},
   "outputs": [
    {
     "data": {
      "text/html": [
       "<div>\n",
       "<style scoped>\n",
       "    .dataframe tbody tr th:only-of-type {\n",
       "        vertical-align: middle;\n",
       "    }\n",
       "\n",
       "    .dataframe tbody tr th {\n",
       "        vertical-align: top;\n",
       "    }\n",
       "\n",
       "    .dataframe thead th {\n",
       "        text-align: right;\n",
       "    }\n",
       "</style>\n",
       "<table border=\"1\" class=\"dataframe\">\n",
       "  <thead>\n",
       "    <tr style=\"text-align: right;\">\n",
       "      <th></th>\n",
       "      <th>Component 1</th>\n",
       "      <th>Component 2</th>\n",
       "      <th>Component 3</th>\n",
       "      <th>Component 4</th>\n",
       "      <th>Cluster</th>\n",
       "      <th>taxon_id</th>\n",
       "      <th>media_id</th>\n",
       "    </tr>\n",
       "  </thead>\n",
       "  <tbody>\n",
       "    <tr>\n",
       "      <th>0</th>\n",
       "      <td>-0.351901</td>\n",
       "      <td>2.414721</td>\n",
       "      <td>-15.072645</td>\n",
       "      <td>49.442924</td>\n",
       "      <td>0</td>\n",
       "      <td>536350</td>\n",
       "      <td>709</td>\n",
       "    </tr>\n",
       "    <tr>\n",
       "      <th>1</th>\n",
       "      <td>-0.144096</td>\n",
       "      <td>2.163689</td>\n",
       "      <td>-14.829208</td>\n",
       "      <td>49.196720</td>\n",
       "      <td>0</td>\n",
       "      <td>5240</td>\n",
       "      <td>269</td>\n",
       "    </tr>\n",
       "    <tr>\n",
       "      <th>2</th>\n",
       "      <td>-0.147368</td>\n",
       "      <td>2.694492</td>\n",
       "      <td>-14.889048</td>\n",
       "      <td>48.937775</td>\n",
       "      <td>0</td>\n",
       "      <td>330590</td>\n",
       "      <td>150a</td>\n",
       "    </tr>\n",
       "    <tr>\n",
       "      <th>3</th>\n",
       "      <td>0.426770</td>\n",
       "      <td>10.763753</td>\n",
       "      <td>-10.557870</td>\n",
       "      <td>45.669064</td>\n",
       "      <td>1</td>\n",
       "      <td>9200</td>\n",
       "      <td>882</td>\n",
       "    </tr>\n",
       "    <tr>\n",
       "      <th>4</th>\n",
       "      <td>1.114709</td>\n",
       "      <td>3.485331</td>\n",
       "      <td>-14.437037</td>\n",
       "      <td>49.309772</td>\n",
       "      <td>0</td>\n",
       "      <td>6497460</td>\n",
       "      <td>104a</td>\n",
       "    </tr>\n",
       "  </tbody>\n",
       "</table>\n",
       "</div>"
      ],
      "text/plain": [
       "   Component 1  Component 2  Component 3  Component 4 Cluster taxon_id  \\\n",
       "0    -0.351901     2.414721   -15.072645    49.442924       0   536350   \n",
       "1    -0.144096     2.163689   -14.829208    49.196720       0     5240   \n",
       "2    -0.147368     2.694492   -14.889048    48.937775       0   330590   \n",
       "3     0.426770    10.763753   -10.557870    45.669064       1     9200   \n",
       "4     1.114709     3.485331   -14.437037    49.309772       0  6497460   \n",
       "\n",
       "  media_id  \n",
       "0      709  \n",
       "1      269  \n",
       "2     150a  \n",
       "3      882  \n",
       "4     104a  "
      ]
     },
     "execution_count": 36,
     "metadata": {},
     "output_type": "execute_result"
    }
   ],
   "source": [
    "# Add ID columns\n",
    "reduced_df[[\"taxon_id\", \"media_id\"]] = \\\n",
    "    data_df[[\"taxon_id\", \"media_id\"]].values\n",
    "\n",
    "reduced_df.head()"
   ]
  },
  {
   "cell_type": "markdown",
   "metadata": {},
   "source": [
    "#### Visualise the results"
   ]
  },
  {
   "cell_type": "code",
   "execution_count": 37,
   "metadata": {},
   "outputs": [
    {
     "data": {
      "application/vnd.plotly.v1+json": {
       "config": {
        "plotlyServerURL": "https://plot.ly"
       },
       "data": [
        {
         "customdata": [
          [
           "536350",
           "709"
          ],
          [
           "5240",
           "269"
          ],
          [
           "330590",
           "150a"
          ],
          [
           "9200",
           "882"
          ],
          [
           "6497460",
           "104a"
          ],
          [
           "841560",
           "519"
          ],
          [
           "14540",
           "259"
          ],
          [
           "6930750",
           "1211"
          ],
          [
           "9790",
           "172"
          ],
          [
           "11080",
           "87"
          ],
          [
           "9820",
           "669"
          ],
          [
           "295280",
           "172"
          ],
          [
           "9990",
           "172"
          ],
          [
           "709930",
           "172"
          ],
          [
           "26980",
           "370"
          ],
          [
           "1217340",
           "370"
          ],
          [
           "27240",
           "607"
          ],
          [
           "340920",
           "743"
          ],
          [
           "542590",
           "897"
          ],
          [
           "1143760",
           "897"
          ],
          [
           "1786060",
           "882"
          ],
          [
           "1800",
           "882"
          ],
          [
           "452480",
           "79"
          ],
          [
           "10260",
           "172"
          ],
          [
           "10280",
           "172"
          ],
          [
           "10060",
           "172"
          ],
          [
           "2770",
           "256"
          ],
          [
           "22080",
           "120"
          ],
          [
           "22090",
           "120"
          ],
          [
           "22150",
           "120"
          ],
          [
           "6749720",
           "1042"
          ],
          [
           "9810",
           "172"
          ],
          [
           "1190",
           "607"
          ],
          [
           "22610",
           "377"
          ],
          [
           "539530",
           "377"
          ],
          [
           "22620",
           "377"
          ],
          [
           "10710",
           "25"
          ],
          [
           "22800",
           "377"
          ],
          [
           "22850",
           "182"
          ],
          [
           "22850",
           "88"
          ],
          [
           "22870",
           "182"
          ],
          [
           "22870",
           "88"
          ],
          [
           "1119550",
           "182"
          ],
          [
           "1119550",
           "88"
          ],
          [
           "503390",
           "398"
          ],
          [
           "903230",
           "377"
          ],
          [
           "391000",
           "688"
          ],
          [
           "5259180",
           "573"
          ],
          [
           "5259170",
           "573"
          ],
          [
           "10310",
           "573"
          ],
          [
           "27360",
           "607"
          ],
          [
           "3370970",
           "1042"
          ]
         ],
         "hovertemplate": "Component 1=%{x}<br>Component 2=%{y}<br>Component 3=%{z}<br>taxon_id=%{customdata[0]}<br>media_id=%{customdata[1]}<br>Component 4=%{marker.color}<extra></extra>",
         "legendgroup": "",
         "marker": {
          "color": [
           49.44292449951172,
           49.196720123291016,
           48.937774658203125,
           45.669063568115234,
           49.30977249145508,
           49.738582611083984,
           49.85569763183594,
           49.97017288208008,
           49.44425582885742,
           49.866661071777344,
           50.06325149536133,
           49.9089469909668,
           49.522438049316406,
           49.56499481201172,
           49.962860107421875,
           49.57456588745117,
           49.54154586791992,
           49.44868087768555,
           63.09379196166992,
           63.231239318847656,
           46.05741500854492,
           45.98839569091797,
           49.247474670410156,
           50.1525764465332,
           49.66318130493164,
           49.882198333740234,
           49.282127380371094,
           50.182212829589844,
           50.03159713745117,
           49.937870025634766,
           49.269317626953125,
           49.45742416381836,
           49.499244689941406,
           63.60639572143555,
           63.47781753540039,
           63.441062927246094,
           49.854618072509766,
           63.39405822753906,
           45.7021369934082,
           45.84465789794922,
           45.76741409301758,
           45.88035202026367,
           46.06931686401367,
           45.99289321899414,
           45.590049743652344,
           63.24341583251953,
           49.83235549926758,
           50.22370529174805,
           50.30241775512695,
           50.30913543701172,
           49.326751708984375,
           49.424415588378906
          ],
          "coloraxis": "coloraxis",
          "symbol": "circle"
         },
         "mode": "markers",
         "name": "",
         "scene": "scene",
         "showlegend": false,
         "type": "scatter3d",
         "x": [
          -0.3519006371498108,
          -0.14409565925598145,
          -0.14736828207969666,
          0.42676955461502075,
          1.1147085428237915,
          0.26911357045173645,
          0.6400226354598999,
          0.9887933135032654,
          0.02036208286881447,
          -0.3437272012233734,
          0.06853695213794708,
          -0.4309634268283844,
          -0.6173580288887024,
          -0.11102443933486938,
          0.24192388355731964,
          0.5255618691444397,
          1.7051880359649658,
          -0.02279520593583584,
          -44.4325065612793,
          -44.35897445678711,
          0.3623482286930084,
          0.37611594796180725,
          0.859896719455719,
          -0.04787247255444527,
          -0.0018299906514585018,
          -0.3786521553993225,
          1.3905383348464966,
          1.272737979888916,
          1.0611746311187744,
          1.1681135892868042,
          1.1753405332565308,
          -0.3093236982822418,
          1.8104914426803589,
          -44.39122009277344,
          -44.58005142211914,
          -44.46262741088867,
          0.19654251635074615,
          -44.243675231933594,
          0.14466562867164612,
          0.6299365758895874,
          0.6218633055686951,
          0.17653919756412506,
          0.6260362863540649,
          0.3978149890899658,
          0.5846757888793945,
          -44.588443756103516,
          0.5671669244766235,
          0.6845454573631287,
          0.8761837482452393,
          0.8213822841644287,
          1.6259808540344238,
          1.3713157176971436
         ],
         "y": [
          2.4147214889526367,
          2.163688898086548,
          2.6944921016693115,
          10.763752937316895,
          3.485330581665039,
          2.649339199066162,
          3.034925699234009,
          3.5215959548950195,
          1.7311056852340698,
          1.8330780267715454,
          2.1573703289031982,
          1.719488263130188,
          2.0961713790893555,
          2.100625991821289,
          2.465721607208252,
          2.1732542514801025,
          4.0190253257751465,
          2.93021559715271,
          46.613468170166016,
          46.6870002746582,
          10.54024887084961,
          10.8524751663208,
          2.928626775741577,
          1.8676040172576904,
          1.9327194690704346,
          2.173898696899414,
          3.556845188140869,
          3.6453301906585693,
          3.8068578243255615,
          3.629871368408203,
          3.1475558280944824,
          1.6334259510040283,
          3.8967552185058594,
          46.654754638671875,
          46.46592330932617,
          46.58334732055664,
          1.6285793781280518,
          46.80229949951172,
          10.627216339111328,
          10.521263122558594,
          10.569352149963379,
          11.038148880004883,
          11.018125534057617,
          10.805926322937012,
          10.9428129196167,
          46.4575309753418,
          3.0066914558410645,
          3.119833469390869,
          2.9431278705596924,
          3.2286136150360107,
          4.058498382568359,
          3.2069296836853027
         ],
         "z": [
          -15.07264518737793,
          -14.829208374023438,
          -14.889047622680664,
          -10.557869911193848,
          -14.437036514282227,
          -13.396206855773926,
          -14.163131713867188,
          -12.845349311828613,
          -14.462200164794922,
          -14.329093933105469,
          -14.279019355773926,
          -14.80234432220459,
          -14.514810562133789,
          -14.42049789428711,
          -14.831807136535645,
          -14.608561515808105,
          -14.52534008026123,
          -14.705000877380371,
          -43.81539535522461,
          -43.74186325073242,
          -10.83202075958252,
          -10.558366775512695,
          -14.63948917388916,
          -14.756773948669434,
          -15.039115905761719,
          -14.772970199584961,
          -14.73022747039795,
          -12.72972297668457,
          -12.667152404785156,
          -12.533210754394531,
          -15.086917877197266,
          -14.747505187988281,
          -14.746935844421387,
          -43.77410888671875,
          -43.96294021606445,
          -43.845516204833984,
          -14.679264068603516,
          -43.626564025878906,
          -10.808626174926758,
          -10.600484848022461,
          -10.991195678710938,
          -10.884435653686523,
          -10.767049789428711,
          -11.09263801574707,
          -10.881229400634766,
          -43.97133255004883,
          -13.176616668701172,
          -14.104964256286621,
          -14.166913986206055,
          -14.003445625305176,
          -14.69072151184082,
          -14.929839134216309
         ]
        }
       ],
       "layout": {
        "coloraxis": {
         "colorbar": {
          "title": {
           "text": "Component 4"
          }
         },
         "colorscale": [
          [
           0,
           "#0d0887"
          ],
          [
           0.1111111111111111,
           "#46039f"
          ],
          [
           0.2222222222222222,
           "#7201a8"
          ],
          [
           0.3333333333333333,
           "#9c179e"
          ],
          [
           0.4444444444444444,
           "#bd3786"
          ],
          [
           0.5555555555555556,
           "#d8576b"
          ],
          [
           0.6666666666666666,
           "#ed7953"
          ],
          [
           0.7777777777777778,
           "#fb9f3a"
          ],
          [
           0.8888888888888888,
           "#fdca26"
          ],
          [
           1,
           "#f0f921"
          ]
         ]
        },
        "legend": {
         "tracegroupgap": 0
        },
        "margin": {
         "t": 60
        },
        "scene": {
         "domain": {
          "x": [
           0,
           1
          ],
          "y": [
           0,
           1
          ]
         },
         "xaxis": {
          "title": {
           "text": "Component 1"
          }
         },
         "yaxis": {
          "title": {
           "text": "Component 2"
          }
         },
         "zaxis": {
          "title": {
           "text": "Component 3"
          }
         }
        },
        "template": {
         "data": {
          "bar": [
           {
            "error_x": {
             "color": "#2a3f5f"
            },
            "error_y": {
             "color": "#2a3f5f"
            },
            "marker": {
             "line": {
              "color": "white",
              "width": 0.5
             },
             "pattern": {
              "fillmode": "overlay",
              "size": 10,
              "solidity": 0.2
             }
            },
            "type": "bar"
           }
          ],
          "barpolar": [
           {
            "marker": {
             "line": {
              "color": "white",
              "width": 0.5
             },
             "pattern": {
              "fillmode": "overlay",
              "size": 10,
              "solidity": 0.2
             }
            },
            "type": "barpolar"
           }
          ],
          "carpet": [
           {
            "aaxis": {
             "endlinecolor": "#2a3f5f",
             "gridcolor": "#C8D4E3",
             "linecolor": "#C8D4E3",
             "minorgridcolor": "#C8D4E3",
             "startlinecolor": "#2a3f5f"
            },
            "baxis": {
             "endlinecolor": "#2a3f5f",
             "gridcolor": "#C8D4E3",
             "linecolor": "#C8D4E3",
             "minorgridcolor": "#C8D4E3",
             "startlinecolor": "#2a3f5f"
            },
            "type": "carpet"
           }
          ],
          "choropleth": [
           {
            "colorbar": {
             "outlinewidth": 0,
             "ticks": ""
            },
            "type": "choropleth"
           }
          ],
          "contour": [
           {
            "colorbar": {
             "outlinewidth": 0,
             "ticks": ""
            },
            "colorscale": [
             [
              0,
              "#0d0887"
             ],
             [
              0.1111111111111111,
              "#46039f"
             ],
             [
              0.2222222222222222,
              "#7201a8"
             ],
             [
              0.3333333333333333,
              "#9c179e"
             ],
             [
              0.4444444444444444,
              "#bd3786"
             ],
             [
              0.5555555555555556,
              "#d8576b"
             ],
             [
              0.6666666666666666,
              "#ed7953"
             ],
             [
              0.7777777777777778,
              "#fb9f3a"
             ],
             [
              0.8888888888888888,
              "#fdca26"
             ],
             [
              1,
              "#f0f921"
             ]
            ],
            "type": "contour"
           }
          ],
          "contourcarpet": [
           {
            "colorbar": {
             "outlinewidth": 0,
             "ticks": ""
            },
            "type": "contourcarpet"
           }
          ],
          "heatmap": [
           {
            "colorbar": {
             "outlinewidth": 0,
             "ticks": ""
            },
            "colorscale": [
             [
              0,
              "#0d0887"
             ],
             [
              0.1111111111111111,
              "#46039f"
             ],
             [
              0.2222222222222222,
              "#7201a8"
             ],
             [
              0.3333333333333333,
              "#9c179e"
             ],
             [
              0.4444444444444444,
              "#bd3786"
             ],
             [
              0.5555555555555556,
              "#d8576b"
             ],
             [
              0.6666666666666666,
              "#ed7953"
             ],
             [
              0.7777777777777778,
              "#fb9f3a"
             ],
             [
              0.8888888888888888,
              "#fdca26"
             ],
             [
              1,
              "#f0f921"
             ]
            ],
            "type": "heatmap"
           }
          ],
          "heatmapgl": [
           {
            "colorbar": {
             "outlinewidth": 0,
             "ticks": ""
            },
            "colorscale": [
             [
              0,
              "#0d0887"
             ],
             [
              0.1111111111111111,
              "#46039f"
             ],
             [
              0.2222222222222222,
              "#7201a8"
             ],
             [
              0.3333333333333333,
              "#9c179e"
             ],
             [
              0.4444444444444444,
              "#bd3786"
             ],
             [
              0.5555555555555556,
              "#d8576b"
             ],
             [
              0.6666666666666666,
              "#ed7953"
             ],
             [
              0.7777777777777778,
              "#fb9f3a"
             ],
             [
              0.8888888888888888,
              "#fdca26"
             ],
             [
              1,
              "#f0f921"
             ]
            ],
            "type": "heatmapgl"
           }
          ],
          "histogram": [
           {
            "marker": {
             "pattern": {
              "fillmode": "overlay",
              "size": 10,
              "solidity": 0.2
             }
            },
            "type": "histogram"
           }
          ],
          "histogram2d": [
           {
            "colorbar": {
             "outlinewidth": 0,
             "ticks": ""
            },
            "colorscale": [
             [
              0,
              "#0d0887"
             ],
             [
              0.1111111111111111,
              "#46039f"
             ],
             [
              0.2222222222222222,
              "#7201a8"
             ],
             [
              0.3333333333333333,
              "#9c179e"
             ],
             [
              0.4444444444444444,
              "#bd3786"
             ],
             [
              0.5555555555555556,
              "#d8576b"
             ],
             [
              0.6666666666666666,
              "#ed7953"
             ],
             [
              0.7777777777777778,
              "#fb9f3a"
             ],
             [
              0.8888888888888888,
              "#fdca26"
             ],
             [
              1,
              "#f0f921"
             ]
            ],
            "type": "histogram2d"
           }
          ],
          "histogram2dcontour": [
           {
            "colorbar": {
             "outlinewidth": 0,
             "ticks": ""
            },
            "colorscale": [
             [
              0,
              "#0d0887"
             ],
             [
              0.1111111111111111,
              "#46039f"
             ],
             [
              0.2222222222222222,
              "#7201a8"
             ],
             [
              0.3333333333333333,
              "#9c179e"
             ],
             [
              0.4444444444444444,
              "#bd3786"
             ],
             [
              0.5555555555555556,
              "#d8576b"
             ],
             [
              0.6666666666666666,
              "#ed7953"
             ],
             [
              0.7777777777777778,
              "#fb9f3a"
             ],
             [
              0.8888888888888888,
              "#fdca26"
             ],
             [
              1,
              "#f0f921"
             ]
            ],
            "type": "histogram2dcontour"
           }
          ],
          "mesh3d": [
           {
            "colorbar": {
             "outlinewidth": 0,
             "ticks": ""
            },
            "type": "mesh3d"
           }
          ],
          "parcoords": [
           {
            "line": {
             "colorbar": {
              "outlinewidth": 0,
              "ticks": ""
             }
            },
            "type": "parcoords"
           }
          ],
          "pie": [
           {
            "automargin": true,
            "type": "pie"
           }
          ],
          "scatter": [
           {
            "fillpattern": {
             "fillmode": "overlay",
             "size": 10,
             "solidity": 0.2
            },
            "type": "scatter"
           }
          ],
          "scatter3d": [
           {
            "line": {
             "colorbar": {
              "outlinewidth": 0,
              "ticks": ""
             }
            },
            "marker": {
             "colorbar": {
              "outlinewidth": 0,
              "ticks": ""
             }
            },
            "type": "scatter3d"
           }
          ],
          "scattercarpet": [
           {
            "marker": {
             "colorbar": {
              "outlinewidth": 0,
              "ticks": ""
             }
            },
            "type": "scattercarpet"
           }
          ],
          "scattergeo": [
           {
            "marker": {
             "colorbar": {
              "outlinewidth": 0,
              "ticks": ""
             }
            },
            "type": "scattergeo"
           }
          ],
          "scattergl": [
           {
            "marker": {
             "colorbar": {
              "outlinewidth": 0,
              "ticks": ""
             }
            },
            "type": "scattergl"
           }
          ],
          "scattermapbox": [
           {
            "marker": {
             "colorbar": {
              "outlinewidth": 0,
              "ticks": ""
             }
            },
            "type": "scattermapbox"
           }
          ],
          "scatterpolar": [
           {
            "marker": {
             "colorbar": {
              "outlinewidth": 0,
              "ticks": ""
             }
            },
            "type": "scatterpolar"
           }
          ],
          "scatterpolargl": [
           {
            "marker": {
             "colorbar": {
              "outlinewidth": 0,
              "ticks": ""
             }
            },
            "type": "scatterpolargl"
           }
          ],
          "scatterternary": [
           {
            "marker": {
             "colorbar": {
              "outlinewidth": 0,
              "ticks": ""
             }
            },
            "type": "scatterternary"
           }
          ],
          "surface": [
           {
            "colorbar": {
             "outlinewidth": 0,
             "ticks": ""
            },
            "colorscale": [
             [
              0,
              "#0d0887"
             ],
             [
              0.1111111111111111,
              "#46039f"
             ],
             [
              0.2222222222222222,
              "#7201a8"
             ],
             [
              0.3333333333333333,
              "#9c179e"
             ],
             [
              0.4444444444444444,
              "#bd3786"
             ],
             [
              0.5555555555555556,
              "#d8576b"
             ],
             [
              0.6666666666666666,
              "#ed7953"
             ],
             [
              0.7777777777777778,
              "#fb9f3a"
             ],
             [
              0.8888888888888888,
              "#fdca26"
             ],
             [
              1,
              "#f0f921"
             ]
            ],
            "type": "surface"
           }
          ],
          "table": [
           {
            "cells": {
             "fill": {
              "color": "#EBF0F8"
             },
             "line": {
              "color": "white"
             }
            },
            "header": {
             "fill": {
              "color": "#C8D4E3"
             },
             "line": {
              "color": "white"
             }
            },
            "type": "table"
           }
          ]
         },
         "layout": {
          "annotationdefaults": {
           "arrowcolor": "#2a3f5f",
           "arrowhead": 0,
           "arrowwidth": 1
          },
          "autotypenumbers": "strict",
          "coloraxis": {
           "colorbar": {
            "outlinewidth": 0,
            "ticks": ""
           }
          },
          "colorscale": {
           "diverging": [
            [
             0,
             "#8e0152"
            ],
            [
             0.1,
             "#c51b7d"
            ],
            [
             0.2,
             "#de77ae"
            ],
            [
             0.3,
             "#f1b6da"
            ],
            [
             0.4,
             "#fde0ef"
            ],
            [
             0.5,
             "#f7f7f7"
            ],
            [
             0.6,
             "#e6f5d0"
            ],
            [
             0.7,
             "#b8e186"
            ],
            [
             0.8,
             "#7fbc41"
            ],
            [
             0.9,
             "#4d9221"
            ],
            [
             1,
             "#276419"
            ]
           ],
           "sequential": [
            [
             0,
             "#0d0887"
            ],
            [
             0.1111111111111111,
             "#46039f"
            ],
            [
             0.2222222222222222,
             "#7201a8"
            ],
            [
             0.3333333333333333,
             "#9c179e"
            ],
            [
             0.4444444444444444,
             "#bd3786"
            ],
            [
             0.5555555555555556,
             "#d8576b"
            ],
            [
             0.6666666666666666,
             "#ed7953"
            ],
            [
             0.7777777777777778,
             "#fb9f3a"
            ],
            [
             0.8888888888888888,
             "#fdca26"
            ],
            [
             1,
             "#f0f921"
            ]
           ],
           "sequentialminus": [
            [
             0,
             "#0d0887"
            ],
            [
             0.1111111111111111,
             "#46039f"
            ],
            [
             0.2222222222222222,
             "#7201a8"
            ],
            [
             0.3333333333333333,
             "#9c179e"
            ],
            [
             0.4444444444444444,
             "#bd3786"
            ],
            [
             0.5555555555555556,
             "#d8576b"
            ],
            [
             0.6666666666666666,
             "#ed7953"
            ],
            [
             0.7777777777777778,
             "#fb9f3a"
            ],
            [
             0.8888888888888888,
             "#fdca26"
            ],
            [
             1,
             "#f0f921"
            ]
           ]
          },
          "colorway": [
           "#636efa",
           "#EF553B",
           "#00cc96",
           "#ab63fa",
           "#FFA15A",
           "#19d3f3",
           "#FF6692",
           "#B6E880",
           "#FF97FF",
           "#FECB52"
          ],
          "font": {
           "color": "#2a3f5f"
          },
          "geo": {
           "bgcolor": "white",
           "lakecolor": "white",
           "landcolor": "white",
           "showlakes": true,
           "showland": true,
           "subunitcolor": "#C8D4E3"
          },
          "hoverlabel": {
           "align": "left"
          },
          "hovermode": "closest",
          "mapbox": {
           "style": "light"
          },
          "paper_bgcolor": "white",
          "plot_bgcolor": "white",
          "polar": {
           "angularaxis": {
            "gridcolor": "#EBF0F8",
            "linecolor": "#EBF0F8",
            "ticks": ""
           },
           "bgcolor": "white",
           "radialaxis": {
            "gridcolor": "#EBF0F8",
            "linecolor": "#EBF0F8",
            "ticks": ""
           }
          },
          "scene": {
           "xaxis": {
            "backgroundcolor": "white",
            "gridcolor": "#DFE8F3",
            "gridwidth": 2,
            "linecolor": "#EBF0F8",
            "showbackground": true,
            "ticks": "",
            "zerolinecolor": "#EBF0F8"
           },
           "yaxis": {
            "backgroundcolor": "white",
            "gridcolor": "#DFE8F3",
            "gridwidth": 2,
            "linecolor": "#EBF0F8",
            "showbackground": true,
            "ticks": "",
            "zerolinecolor": "#EBF0F8"
           },
           "zaxis": {
            "backgroundcolor": "white",
            "gridcolor": "#DFE8F3",
            "gridwidth": 2,
            "linecolor": "#EBF0F8",
            "showbackground": true,
            "ticks": "",
            "zerolinecolor": "#EBF0F8"
           }
          },
          "shapedefaults": {
           "line": {
            "color": "#2a3f5f"
           }
          },
          "ternary": {
           "aaxis": {
            "gridcolor": "#DFE8F3",
            "linecolor": "#A2B1C6",
            "ticks": ""
           },
           "baxis": {
            "gridcolor": "#DFE8F3",
            "linecolor": "#A2B1C6",
            "ticks": ""
           },
           "bgcolor": "white",
           "caxis": {
            "gridcolor": "#DFE8F3",
            "linecolor": "#A2B1C6",
            "ticks": ""
           }
          },
          "title": {
           "x": 0.05
          },
          "xaxis": {
           "automargin": true,
           "gridcolor": "#EBF0F8",
           "linecolor": "#EBF0F8",
           "ticks": "",
           "title": {
            "standoff": 15
           },
           "zerolinecolor": "#EBF0F8",
           "zerolinewidth": 2
          },
          "yaxis": {
           "automargin": true,
           "gridcolor": "#EBF0F8",
           "linecolor": "#EBF0F8",
           "ticks": "",
           "title": {
            "standoff": 15
           },
           "zerolinecolor": "#EBF0F8",
           "zerolinewidth": 2
          }
         }
        }
       }
      }
     },
     "metadata": {},
     "output_type": "display_data"
    }
   ],
   "source": [
    "fig = px.scatter_3d(\n",
    "    data_frame=reduced_df,\n",
    "    x=\"Component 1\",\n",
    "    y=\"Component 2\",\n",
    "    z=\"Component 3\",\n",
    "    color=\"Component 4\",\n",
    "    hover_data=[\n",
    "        \"taxon_id\",\n",
    "        \"media_id\"\n",
    "    ],\n",
    "    template=\"plotly_white\"\n",
    ")\n",
    "fig.show()"
   ]
  },
  {
   "cell_type": "code",
   "execution_count": 38,
   "metadata": {},
   "outputs": [
    {
     "data": {
      "application/vnd.plotly.v1+json": {
       "config": {
        "plotlyServerURL": "https://plot.ly"
       },
       "data": [
        {
         "customdata": [
          [
           "536350",
           "709"
          ],
          [
           "5240",
           "269"
          ],
          [
           "330590",
           "150a"
          ],
          [
           "6497460",
           "104a"
          ],
          [
           "841560",
           "519"
          ],
          [
           "14540",
           "259"
          ],
          [
           "6930750",
           "1211"
          ],
          [
           "9790",
           "172"
          ],
          [
           "11080",
           "87"
          ],
          [
           "9820",
           "669"
          ],
          [
           "295280",
           "172"
          ],
          [
           "9990",
           "172"
          ],
          [
           "709930",
           "172"
          ],
          [
           "26980",
           "370"
          ],
          [
           "1217340",
           "370"
          ],
          [
           "27240",
           "607"
          ],
          [
           "340920",
           "743"
          ],
          [
           "452480",
           "79"
          ],
          [
           "10260",
           "172"
          ],
          [
           "10280",
           "172"
          ],
          [
           "10060",
           "172"
          ],
          [
           "2770",
           "256"
          ],
          [
           "22080",
           "120"
          ],
          [
           "22090",
           "120"
          ],
          [
           "22150",
           "120"
          ],
          [
           "6749720",
           "1042"
          ],
          [
           "9810",
           "172"
          ],
          [
           "1190",
           "607"
          ],
          [
           "10710",
           "25"
          ],
          [
           "391000",
           "688"
          ],
          [
           "5259180",
           "573"
          ],
          [
           "5259170",
           "573"
          ],
          [
           "10310",
           "573"
          ],
          [
           "27360",
           "607"
          ],
          [
           "3370970",
           "1042"
          ]
         ],
         "hovertemplate": "Cluster=0<br>Component 1=%{x}<br>Component 2=%{y}<br>Component 3=%{z}<br>taxon_id=%{customdata[0]}<br>media_id=%{customdata[1]}<extra></extra>",
         "legendgroup": "0",
         "marker": {
          "color": "rgb(102, 197, 204)",
          "symbol": "circle"
         },
         "mode": "markers",
         "name": "0",
         "scene": "scene",
         "showlegend": true,
         "type": "scatter3d",
         "x": [
          -0.3519006371498108,
          -0.14409565925598145,
          -0.14736828207969666,
          1.1147085428237915,
          0.26911357045173645,
          0.6400226354598999,
          0.9887933135032654,
          0.02036208286881447,
          -0.3437272012233734,
          0.06853695213794708,
          -0.4309634268283844,
          -0.6173580288887024,
          -0.11102443933486938,
          0.24192388355731964,
          0.5255618691444397,
          1.7051880359649658,
          -0.02279520593583584,
          0.859896719455719,
          -0.04787247255444527,
          -0.0018299906514585018,
          -0.3786521553993225,
          1.3905383348464966,
          1.272737979888916,
          1.0611746311187744,
          1.1681135892868042,
          1.1753405332565308,
          -0.3093236982822418,
          1.8104914426803589,
          0.19654251635074615,
          0.5671669244766235,
          0.6845454573631287,
          0.8761837482452393,
          0.8213822841644287,
          1.6259808540344238,
          1.3713157176971436
         ],
         "y": [
          2.4147214889526367,
          2.163688898086548,
          2.6944921016693115,
          3.485330581665039,
          2.649339199066162,
          3.034925699234009,
          3.5215959548950195,
          1.7311056852340698,
          1.8330780267715454,
          2.1573703289031982,
          1.719488263130188,
          2.0961713790893555,
          2.100625991821289,
          2.465721607208252,
          2.1732542514801025,
          4.0190253257751465,
          2.93021559715271,
          2.928626775741577,
          1.8676040172576904,
          1.9327194690704346,
          2.173898696899414,
          3.556845188140869,
          3.6453301906585693,
          3.8068578243255615,
          3.629871368408203,
          3.1475558280944824,
          1.6334259510040283,
          3.8967552185058594,
          1.6285793781280518,
          3.0066914558410645,
          3.119833469390869,
          2.9431278705596924,
          3.2286136150360107,
          4.058498382568359,
          3.2069296836853027
         ],
         "z": [
          -15.07264518737793,
          -14.829208374023438,
          -14.889047622680664,
          -14.437036514282227,
          -13.396206855773926,
          -14.163131713867188,
          -12.845349311828613,
          -14.462200164794922,
          -14.329093933105469,
          -14.279019355773926,
          -14.80234432220459,
          -14.514810562133789,
          -14.42049789428711,
          -14.831807136535645,
          -14.608561515808105,
          -14.52534008026123,
          -14.705000877380371,
          -14.63948917388916,
          -14.756773948669434,
          -15.039115905761719,
          -14.772970199584961,
          -14.73022747039795,
          -12.72972297668457,
          -12.667152404785156,
          -12.533210754394531,
          -15.086917877197266,
          -14.747505187988281,
          -14.746935844421387,
          -14.679264068603516,
          -13.176616668701172,
          -14.104964256286621,
          -14.166913986206055,
          -14.003445625305176,
          -14.69072151184082,
          -14.929839134216309
         ]
        },
        {
         "customdata": [
          [
           "9200",
           "882"
          ],
          [
           "1786060",
           "882"
          ],
          [
           "1800",
           "882"
          ],
          [
           "22850",
           "182"
          ],
          [
           "22850",
           "88"
          ],
          [
           "22870",
           "182"
          ],
          [
           "22870",
           "88"
          ],
          [
           "1119550",
           "182"
          ],
          [
           "1119550",
           "88"
          ],
          [
           "503390",
           "398"
          ]
         ],
         "hovertemplate": "Cluster=1<br>Component 1=%{x}<br>Component 2=%{y}<br>Component 3=%{z}<br>taxon_id=%{customdata[0]}<br>media_id=%{customdata[1]}<extra></extra>",
         "legendgroup": "1",
         "marker": {
          "color": "rgb(246, 207, 113)",
          "symbol": "circle"
         },
         "mode": "markers",
         "name": "1",
         "scene": "scene",
         "showlegend": true,
         "type": "scatter3d",
         "x": [
          0.42676955461502075,
          0.3623482286930084,
          0.37611594796180725,
          0.14466562867164612,
          0.6299365758895874,
          0.6218633055686951,
          0.17653919756412506,
          0.6260362863540649,
          0.3978149890899658,
          0.5846757888793945
         ],
         "y": [
          10.763752937316895,
          10.54024887084961,
          10.8524751663208,
          10.627216339111328,
          10.521263122558594,
          10.569352149963379,
          11.038148880004883,
          11.018125534057617,
          10.805926322937012,
          10.9428129196167
         ],
         "z": [
          -10.557869911193848,
          -10.83202075958252,
          -10.558366775512695,
          -10.808626174926758,
          -10.600484848022461,
          -10.991195678710938,
          -10.884435653686523,
          -10.767049789428711,
          -11.09263801574707,
          -10.881229400634766
         ]
        },
        {
         "customdata": [
          [
           "542590",
           "897"
          ],
          [
           "1143760",
           "897"
          ],
          [
           "22610",
           "377"
          ],
          [
           "539530",
           "377"
          ],
          [
           "22620",
           "377"
          ],
          [
           "22800",
           "377"
          ],
          [
           "903230",
           "377"
          ]
         ],
         "hovertemplate": "Cluster=-1<br>Component 1=%{x}<br>Component 2=%{y}<br>Component 3=%{z}<br>taxon_id=%{customdata[0]}<br>media_id=%{customdata[1]}<extra></extra>",
         "legendgroup": "-1",
         "marker": {
          "color": "rgb(248, 156, 116)",
          "symbol": "circle"
         },
         "mode": "markers",
         "name": "-1",
         "scene": "scene",
         "showlegend": true,
         "type": "scatter3d",
         "x": [
          -44.4325065612793,
          -44.35897445678711,
          -44.39122009277344,
          -44.58005142211914,
          -44.46262741088867,
          -44.243675231933594,
          -44.588443756103516
         ],
         "y": [
          46.613468170166016,
          46.6870002746582,
          46.654754638671875,
          46.46592330932617,
          46.58334732055664,
          46.80229949951172,
          46.4575309753418
         ],
         "z": [
          -43.81539535522461,
          -43.74186325073242,
          -43.77410888671875,
          -43.96294021606445,
          -43.845516204833984,
          -43.626564025878906,
          -43.97133255004883
         ]
        }
       ],
       "layout": {
        "legend": {
         "title": {
          "text": "Cluster"
         },
         "tracegroupgap": 0
        },
        "margin": {
         "t": 60
        },
        "scene": {
         "domain": {
          "x": [
           0,
           1
          ],
          "y": [
           0,
           1
          ]
         },
         "xaxis": {
          "title": {
           "text": "Component 1"
          }
         },
         "yaxis": {
          "title": {
           "text": "Component 2"
          }
         },
         "zaxis": {
          "title": {
           "text": "Component 3"
          }
         }
        },
        "template": {
         "data": {
          "bar": [
           {
            "error_x": {
             "color": "#2a3f5f"
            },
            "error_y": {
             "color": "#2a3f5f"
            },
            "marker": {
             "line": {
              "color": "white",
              "width": 0.5
             },
             "pattern": {
              "fillmode": "overlay",
              "size": 10,
              "solidity": 0.2
             }
            },
            "type": "bar"
           }
          ],
          "barpolar": [
           {
            "marker": {
             "line": {
              "color": "white",
              "width": 0.5
             },
             "pattern": {
              "fillmode": "overlay",
              "size": 10,
              "solidity": 0.2
             }
            },
            "type": "barpolar"
           }
          ],
          "carpet": [
           {
            "aaxis": {
             "endlinecolor": "#2a3f5f",
             "gridcolor": "#C8D4E3",
             "linecolor": "#C8D4E3",
             "minorgridcolor": "#C8D4E3",
             "startlinecolor": "#2a3f5f"
            },
            "baxis": {
             "endlinecolor": "#2a3f5f",
             "gridcolor": "#C8D4E3",
             "linecolor": "#C8D4E3",
             "minorgridcolor": "#C8D4E3",
             "startlinecolor": "#2a3f5f"
            },
            "type": "carpet"
           }
          ],
          "choropleth": [
           {
            "colorbar": {
             "outlinewidth": 0,
             "ticks": ""
            },
            "type": "choropleth"
           }
          ],
          "contour": [
           {
            "colorbar": {
             "outlinewidth": 0,
             "ticks": ""
            },
            "colorscale": [
             [
              0,
              "#0d0887"
             ],
             [
              0.1111111111111111,
              "#46039f"
             ],
             [
              0.2222222222222222,
              "#7201a8"
             ],
             [
              0.3333333333333333,
              "#9c179e"
             ],
             [
              0.4444444444444444,
              "#bd3786"
             ],
             [
              0.5555555555555556,
              "#d8576b"
             ],
             [
              0.6666666666666666,
              "#ed7953"
             ],
             [
              0.7777777777777778,
              "#fb9f3a"
             ],
             [
              0.8888888888888888,
              "#fdca26"
             ],
             [
              1,
              "#f0f921"
             ]
            ],
            "type": "contour"
           }
          ],
          "contourcarpet": [
           {
            "colorbar": {
             "outlinewidth": 0,
             "ticks": ""
            },
            "type": "contourcarpet"
           }
          ],
          "heatmap": [
           {
            "colorbar": {
             "outlinewidth": 0,
             "ticks": ""
            },
            "colorscale": [
             [
              0,
              "#0d0887"
             ],
             [
              0.1111111111111111,
              "#46039f"
             ],
             [
              0.2222222222222222,
              "#7201a8"
             ],
             [
              0.3333333333333333,
              "#9c179e"
             ],
             [
              0.4444444444444444,
              "#bd3786"
             ],
             [
              0.5555555555555556,
              "#d8576b"
             ],
             [
              0.6666666666666666,
              "#ed7953"
             ],
             [
              0.7777777777777778,
              "#fb9f3a"
             ],
             [
              0.8888888888888888,
              "#fdca26"
             ],
             [
              1,
              "#f0f921"
             ]
            ],
            "type": "heatmap"
           }
          ],
          "heatmapgl": [
           {
            "colorbar": {
             "outlinewidth": 0,
             "ticks": ""
            },
            "colorscale": [
             [
              0,
              "#0d0887"
             ],
             [
              0.1111111111111111,
              "#46039f"
             ],
             [
              0.2222222222222222,
              "#7201a8"
             ],
             [
              0.3333333333333333,
              "#9c179e"
             ],
             [
              0.4444444444444444,
              "#bd3786"
             ],
             [
              0.5555555555555556,
              "#d8576b"
             ],
             [
              0.6666666666666666,
              "#ed7953"
             ],
             [
              0.7777777777777778,
              "#fb9f3a"
             ],
             [
              0.8888888888888888,
              "#fdca26"
             ],
             [
              1,
              "#f0f921"
             ]
            ],
            "type": "heatmapgl"
           }
          ],
          "histogram": [
           {
            "marker": {
             "pattern": {
              "fillmode": "overlay",
              "size": 10,
              "solidity": 0.2
             }
            },
            "type": "histogram"
           }
          ],
          "histogram2d": [
           {
            "colorbar": {
             "outlinewidth": 0,
             "ticks": ""
            },
            "colorscale": [
             [
              0,
              "#0d0887"
             ],
             [
              0.1111111111111111,
              "#46039f"
             ],
             [
              0.2222222222222222,
              "#7201a8"
             ],
             [
              0.3333333333333333,
              "#9c179e"
             ],
             [
              0.4444444444444444,
              "#bd3786"
             ],
             [
              0.5555555555555556,
              "#d8576b"
             ],
             [
              0.6666666666666666,
              "#ed7953"
             ],
             [
              0.7777777777777778,
              "#fb9f3a"
             ],
             [
              0.8888888888888888,
              "#fdca26"
             ],
             [
              1,
              "#f0f921"
             ]
            ],
            "type": "histogram2d"
           }
          ],
          "histogram2dcontour": [
           {
            "colorbar": {
             "outlinewidth": 0,
             "ticks": ""
            },
            "colorscale": [
             [
              0,
              "#0d0887"
             ],
             [
              0.1111111111111111,
              "#46039f"
             ],
             [
              0.2222222222222222,
              "#7201a8"
             ],
             [
              0.3333333333333333,
              "#9c179e"
             ],
             [
              0.4444444444444444,
              "#bd3786"
             ],
             [
              0.5555555555555556,
              "#d8576b"
             ],
             [
              0.6666666666666666,
              "#ed7953"
             ],
             [
              0.7777777777777778,
              "#fb9f3a"
             ],
             [
              0.8888888888888888,
              "#fdca26"
             ],
             [
              1,
              "#f0f921"
             ]
            ],
            "type": "histogram2dcontour"
           }
          ],
          "mesh3d": [
           {
            "colorbar": {
             "outlinewidth": 0,
             "ticks": ""
            },
            "type": "mesh3d"
           }
          ],
          "parcoords": [
           {
            "line": {
             "colorbar": {
              "outlinewidth": 0,
              "ticks": ""
             }
            },
            "type": "parcoords"
           }
          ],
          "pie": [
           {
            "automargin": true,
            "type": "pie"
           }
          ],
          "scatter": [
           {
            "fillpattern": {
             "fillmode": "overlay",
             "size": 10,
             "solidity": 0.2
            },
            "type": "scatter"
           }
          ],
          "scatter3d": [
           {
            "line": {
             "colorbar": {
              "outlinewidth": 0,
              "ticks": ""
             }
            },
            "marker": {
             "colorbar": {
              "outlinewidth": 0,
              "ticks": ""
             }
            },
            "type": "scatter3d"
           }
          ],
          "scattercarpet": [
           {
            "marker": {
             "colorbar": {
              "outlinewidth": 0,
              "ticks": ""
             }
            },
            "type": "scattercarpet"
           }
          ],
          "scattergeo": [
           {
            "marker": {
             "colorbar": {
              "outlinewidth": 0,
              "ticks": ""
             }
            },
            "type": "scattergeo"
           }
          ],
          "scattergl": [
           {
            "marker": {
             "colorbar": {
              "outlinewidth": 0,
              "ticks": ""
             }
            },
            "type": "scattergl"
           }
          ],
          "scattermapbox": [
           {
            "marker": {
             "colorbar": {
              "outlinewidth": 0,
              "ticks": ""
             }
            },
            "type": "scattermapbox"
           }
          ],
          "scatterpolar": [
           {
            "marker": {
             "colorbar": {
              "outlinewidth": 0,
              "ticks": ""
             }
            },
            "type": "scatterpolar"
           }
          ],
          "scatterpolargl": [
           {
            "marker": {
             "colorbar": {
              "outlinewidth": 0,
              "ticks": ""
             }
            },
            "type": "scatterpolargl"
           }
          ],
          "scatterternary": [
           {
            "marker": {
             "colorbar": {
              "outlinewidth": 0,
              "ticks": ""
             }
            },
            "type": "scatterternary"
           }
          ],
          "surface": [
           {
            "colorbar": {
             "outlinewidth": 0,
             "ticks": ""
            },
            "colorscale": [
             [
              0,
              "#0d0887"
             ],
             [
              0.1111111111111111,
              "#46039f"
             ],
             [
              0.2222222222222222,
              "#7201a8"
             ],
             [
              0.3333333333333333,
              "#9c179e"
             ],
             [
              0.4444444444444444,
              "#bd3786"
             ],
             [
              0.5555555555555556,
              "#d8576b"
             ],
             [
              0.6666666666666666,
              "#ed7953"
             ],
             [
              0.7777777777777778,
              "#fb9f3a"
             ],
             [
              0.8888888888888888,
              "#fdca26"
             ],
             [
              1,
              "#f0f921"
             ]
            ],
            "type": "surface"
           }
          ],
          "table": [
           {
            "cells": {
             "fill": {
              "color": "#EBF0F8"
             },
             "line": {
              "color": "white"
             }
            },
            "header": {
             "fill": {
              "color": "#C8D4E3"
             },
             "line": {
              "color": "white"
             }
            },
            "type": "table"
           }
          ]
         },
         "layout": {
          "annotationdefaults": {
           "arrowcolor": "#2a3f5f",
           "arrowhead": 0,
           "arrowwidth": 1
          },
          "autotypenumbers": "strict",
          "coloraxis": {
           "colorbar": {
            "outlinewidth": 0,
            "ticks": ""
           }
          },
          "colorscale": {
           "diverging": [
            [
             0,
             "#8e0152"
            ],
            [
             0.1,
             "#c51b7d"
            ],
            [
             0.2,
             "#de77ae"
            ],
            [
             0.3,
             "#f1b6da"
            ],
            [
             0.4,
             "#fde0ef"
            ],
            [
             0.5,
             "#f7f7f7"
            ],
            [
             0.6,
             "#e6f5d0"
            ],
            [
             0.7,
             "#b8e186"
            ],
            [
             0.8,
             "#7fbc41"
            ],
            [
             0.9,
             "#4d9221"
            ],
            [
             1,
             "#276419"
            ]
           ],
           "sequential": [
            [
             0,
             "#0d0887"
            ],
            [
             0.1111111111111111,
             "#46039f"
            ],
            [
             0.2222222222222222,
             "#7201a8"
            ],
            [
             0.3333333333333333,
             "#9c179e"
            ],
            [
             0.4444444444444444,
             "#bd3786"
            ],
            [
             0.5555555555555556,
             "#d8576b"
            ],
            [
             0.6666666666666666,
             "#ed7953"
            ],
            [
             0.7777777777777778,
             "#fb9f3a"
            ],
            [
             0.8888888888888888,
             "#fdca26"
            ],
            [
             1,
             "#f0f921"
            ]
           ],
           "sequentialminus": [
            [
             0,
             "#0d0887"
            ],
            [
             0.1111111111111111,
             "#46039f"
            ],
            [
             0.2222222222222222,
             "#7201a8"
            ],
            [
             0.3333333333333333,
             "#9c179e"
            ],
            [
             0.4444444444444444,
             "#bd3786"
            ],
            [
             0.5555555555555556,
             "#d8576b"
            ],
            [
             0.6666666666666666,
             "#ed7953"
            ],
            [
             0.7777777777777778,
             "#fb9f3a"
            ],
            [
             0.8888888888888888,
             "#fdca26"
            ],
            [
             1,
             "#f0f921"
            ]
           ]
          },
          "colorway": [
           "#636efa",
           "#EF553B",
           "#00cc96",
           "#ab63fa",
           "#FFA15A",
           "#19d3f3",
           "#FF6692",
           "#B6E880",
           "#FF97FF",
           "#FECB52"
          ],
          "font": {
           "color": "#2a3f5f"
          },
          "geo": {
           "bgcolor": "white",
           "lakecolor": "white",
           "landcolor": "white",
           "showlakes": true,
           "showland": true,
           "subunitcolor": "#C8D4E3"
          },
          "hoverlabel": {
           "align": "left"
          },
          "hovermode": "closest",
          "mapbox": {
           "style": "light"
          },
          "paper_bgcolor": "white",
          "plot_bgcolor": "white",
          "polar": {
           "angularaxis": {
            "gridcolor": "#EBF0F8",
            "linecolor": "#EBF0F8",
            "ticks": ""
           },
           "bgcolor": "white",
           "radialaxis": {
            "gridcolor": "#EBF0F8",
            "linecolor": "#EBF0F8",
            "ticks": ""
           }
          },
          "scene": {
           "xaxis": {
            "backgroundcolor": "white",
            "gridcolor": "#DFE8F3",
            "gridwidth": 2,
            "linecolor": "#EBF0F8",
            "showbackground": true,
            "ticks": "",
            "zerolinecolor": "#EBF0F8"
           },
           "yaxis": {
            "backgroundcolor": "white",
            "gridcolor": "#DFE8F3",
            "gridwidth": 2,
            "linecolor": "#EBF0F8",
            "showbackground": true,
            "ticks": "",
            "zerolinecolor": "#EBF0F8"
           },
           "zaxis": {
            "backgroundcolor": "white",
            "gridcolor": "#DFE8F3",
            "gridwidth": 2,
            "linecolor": "#EBF0F8",
            "showbackground": true,
            "ticks": "",
            "zerolinecolor": "#EBF0F8"
           }
          },
          "shapedefaults": {
           "line": {
            "color": "#2a3f5f"
           }
          },
          "ternary": {
           "aaxis": {
            "gridcolor": "#DFE8F3",
            "linecolor": "#A2B1C6",
            "ticks": ""
           },
           "baxis": {
            "gridcolor": "#DFE8F3",
            "linecolor": "#A2B1C6",
            "ticks": ""
           },
           "bgcolor": "white",
           "caxis": {
            "gridcolor": "#DFE8F3",
            "linecolor": "#A2B1C6",
            "ticks": ""
           }
          },
          "title": {
           "x": 0.05
          },
          "xaxis": {
           "automargin": true,
           "gridcolor": "#EBF0F8",
           "linecolor": "#EBF0F8",
           "ticks": "",
           "title": {
            "standoff": 15
           },
           "zerolinecolor": "#EBF0F8",
           "zerolinewidth": 2
          },
          "yaxis": {
           "automargin": true,
           "gridcolor": "#EBF0F8",
           "linecolor": "#EBF0F8",
           "ticks": "",
           "title": {
            "standoff": 15
           },
           "zerolinecolor": "#EBF0F8",
           "zerolinewidth": 2
          }
         }
        }
       }
      }
     },
     "metadata": {},
     "output_type": "display_data"
    }
   ],
   "source": [
    "fig = px.scatter_3d(\n",
    "    data_frame=reduced_df,\n",
    "    x=\"Component 1\",\n",
    "    y=\"Component 2\",\n",
    "    z=\"Component 3\",\n",
    "    color=\"Cluster\",\n",
    "    color_discrete_sequence=px.colors.qualitative.Pastel,\n",
    "    hover_data=[\n",
    "        \"taxon_id\",\n",
    "        \"media_id\"\n",
    "    ],\n",
    "    template=\"plotly_white\"\n",
    ")\n",
    "fig.show()"
   ]
  },
  {
   "cell_type": "markdown",
   "metadata": {},
   "source": [
    "### Compare both approaches"
   ]
  },
  {
   "cell_type": "code",
   "execution_count": 39,
   "metadata": {},
   "outputs": [],
   "source": [
    "reduced_df_merged = pd.merge(\n",
    "    left=reduced_df_binary[[\"taxon_id\", \"media_id\", \"Cluster\"]]\\\n",
    "        .rename(columns={\"Cluster\": \"cluster_bin\"}),\n",
    "    right=reduced_df[[\"taxon_id\", \"media_id\", \"Cluster\"]]\\\n",
    "        .rename(columns={\"Cluster\": \"cluster_con\"}),\n",
    "    on=[\"taxon_id\", \"media_id\"],\n",
    "    how=\"left\"\n",
    ")"
   ]
  },
  {
   "cell_type": "code",
   "execution_count": 40,
   "metadata": {},
   "outputs": [],
   "source": [
    "# Choose approach and save clusterd categories for further ML\n",
    "reduced_df_merged = reduced_df_merged\\\n",
    "    .rename(columns={\"cluster_con\": \"media_id_cluster\"})\\\n",
    "    .drop(\"cluster_bin\", axis=1)\n",
    "\n",
    "reduced_df_merged.to_csv(\n",
    "    os.path.join(\n",
    "        DATA_DIR,\n",
    "        \"ml\",\n",
    "        f\"{os.path.splitext(CLUSTER_FILE)[0]}_media_cluster.csv\"\n",
    "    )\n",
    ")"
   ]
  },
  {
   "cell_type": "markdown",
   "metadata": {},
   "source": [
    "## 2. Predict media from taxon's EC numbers"
   ]
  },
  {
   "cell_type": "markdown",
   "metadata": {},
   "source": [
    "### Data preprocessing (should already be stored in a table)"
   ]
  },
  {
   "cell_type": "code",
   "execution_count": 41,
   "metadata": {},
   "outputs": [
    {
     "data": {
      "text/html": [
       "<div>\n",
       "<style scoped>\n",
       "    .dataframe tbody tr th:only-of-type {\n",
       "        vertical-align: middle;\n",
       "    }\n",
       "\n",
       "    .dataframe tbody tr th {\n",
       "        vertical-align: top;\n",
       "    }\n",
       "\n",
       "    .dataframe thead th {\n",
       "        text-align: right;\n",
       "    }\n",
       "</style>\n",
       "<table border=\"1\" class=\"dataframe\">\n",
       "  <thead>\n",
       "    <tr style=\"text-align: right;\">\n",
       "      <th></th>\n",
       "      <th>dsmz_id</th>\n",
       "      <th>taxon_id</th>\n",
       "      <th>organism_name</th>\n",
       "      <th>media_name</th>\n",
       "      <th>genus</th>\n",
       "      <th>media_code</th>\n",
       "    </tr>\n",
       "  </thead>\n",
       "  <tbody>\n",
       "    <tr>\n",
       "      <th>0</th>\n",
       "      <td>6268</td>\n",
       "      <td>nan</td>\n",
       "      <td>NaN</td>\n",
       "      <td>Substrate for DSM 6268</td>\n",
       "      <td>NaN</td>\n",
       "      <td>8044</td>\n",
       "    </tr>\n",
       "    <tr>\n",
       "      <th>1</th>\n",
       "      <td>9849</td>\n",
       "      <td>46125</td>\n",
       "      <td>Abiotrophia defectiva</td>\n",
       "      <td>PYG-MEDIUM (modified)</td>\n",
       "      <td>Abiotrophia</td>\n",
       "      <td>8611</td>\n",
       "    </tr>\n",
       "    <tr>\n",
       "      <th>2</th>\n",
       "      <td>14247</td>\n",
       "      <td>291968</td>\n",
       "      <td>Acaricomes phytoseiuli</td>\n",
       "      <td>TRYPTICASE SOY Yeast extract medium</td>\n",
       "      <td>Acaricomes</td>\n",
       "      <td>880</td>\n",
       "    </tr>\n",
       "    <tr>\n",
       "      <th>3</th>\n",
       "      <td>23669</td>\n",
       "      <td>nan</td>\n",
       "      <td>Acetatifactor muris</td>\n",
       "      <td>For DSM 23669</td>\n",
       "      <td>Acetatifactor</td>\n",
       "      <td>5114</td>\n",
       "    </tr>\n",
       "    <tr>\n",
       "      <th>4</th>\n",
       "      <td>5522</td>\n",
       "      <td>2382</td>\n",
       "      <td>Acetitomaculum ruminis</td>\n",
       "      <td>ACETITOMACULUM medium | METHANOBACTERIUM medium</td>\n",
       "      <td>Acetitomaculum</td>\n",
       "      <td>7890</td>\n",
       "    </tr>\n",
       "    <tr>\n",
       "      <th>...</th>\n",
       "      <td>...</td>\n",
       "      <td>...</td>\n",
       "      <td>...</td>\n",
       "      <td>...</td>\n",
       "      <td>...</td>\n",
       "      <td>...</td>\n",
       "    </tr>\n",
       "    <tr>\n",
       "      <th>8623</th>\n",
       "      <td>473</td>\n",
       "      <td>120045</td>\n",
       "      <td>Zymomonas mobilis subsp. mobilis</td>\n",
       "      <td>ZYMOMONAS medium</td>\n",
       "      <td>Zymomonas</td>\n",
       "      <td>7701</td>\n",
       "    </tr>\n",
       "    <tr>\n",
       "      <th>8624</th>\n",
       "      <td>22645</td>\n",
       "      <td>120044</td>\n",
       "      <td>Zymomonas mobilis subsp. pomaceae</td>\n",
       "      <td>ZYMOMONAS medium</td>\n",
       "      <td>Zymomonas</td>\n",
       "      <td>4683</td>\n",
       "    </tr>\n",
       "    <tr>\n",
       "      <th>8625</th>\n",
       "      <td>7201</td>\n",
       "      <td>86958</td>\n",
       "      <td>Zymophilus paucivorans</td>\n",
       "      <td>MEDIUM 58 MODIFIED FOR DSM 7201</td>\n",
       "      <td>Zymophilus</td>\n",
       "      <td>8275</td>\n",
       "    </tr>\n",
       "    <tr>\n",
       "      <th>8626</th>\n",
       "      <td>20765</td>\n",
       "      <td>86959</td>\n",
       "      <td>Zymophilus raffinosivorans</td>\n",
       "      <td>MEDIUM 58 MODIFIED FOR DSM 20765</td>\n",
       "      <td>Zymophilus</td>\n",
       "      <td>3910</td>\n",
       "    </tr>\n",
       "    <tr>\n",
       "      <th>8627</th>\n",
       "      <td>14454</td>\n",
       "      <td>nan</td>\n",
       "      <td>unclassified bacterium</td>\n",
       "      <td>For DSM 14454</td>\n",
       "      <td>unclassified</td>\n",
       "      <td>939</td>\n",
       "    </tr>\n",
       "  </tbody>\n",
       "</table>\n",
       "<p>8628 rows × 6 columns</p>\n",
       "</div>"
      ],
      "text/plain": [
       "     dsmz_id taxon_id                      organism_name  \\\n",
       "0       6268      nan                                NaN   \n",
       "1       9849    46125              Abiotrophia defectiva   \n",
       "2      14247   291968             Acaricomes phytoseiuli   \n",
       "3      23669      nan                Acetatifactor muris   \n",
       "4       5522     2382             Acetitomaculum ruminis   \n",
       "...      ...      ...                                ...   \n",
       "8623     473   120045   Zymomonas mobilis subsp. mobilis   \n",
       "8624   22645   120044  Zymomonas mobilis subsp. pomaceae   \n",
       "8625    7201    86958             Zymophilus paucivorans   \n",
       "8626   20765    86959         Zymophilus raffinosivorans   \n",
       "8627   14454      nan             unclassified bacterium   \n",
       "\n",
       "                                           media_name           genus  \\\n",
       "0                              Substrate for DSM 6268             NaN   \n",
       "1                               PYG-MEDIUM (modified)     Abiotrophia   \n",
       "2                 TRYPTICASE SOY Yeast extract medium      Acaricomes   \n",
       "3                                       For DSM 23669   Acetatifactor   \n",
       "4     ACETITOMACULUM medium | METHANOBACTERIUM medium  Acetitomaculum   \n",
       "...                                               ...             ...   \n",
       "8623                                 ZYMOMONAS medium       Zymomonas   \n",
       "8624                                 ZYMOMONAS medium       Zymomonas   \n",
       "8625                  MEDIUM 58 MODIFIED FOR DSM 7201      Zymophilus   \n",
       "8626                 MEDIUM 58 MODIFIED FOR DSM 20765      Zymophilus   \n",
       "8627                                    For DSM 14454    unclassified   \n",
       "\n",
       "      media_code  \n",
       "0           8044  \n",
       "1           8611  \n",
       "2            880  \n",
       "3           5114  \n",
       "4           7890  \n",
       "...          ...  \n",
       "8623        7701  \n",
       "8624        4683  \n",
       "8625        8275  \n",
       "8626        3910  \n",
       "8627         939  \n",
       "\n",
       "[8628 rows x 6 columns]"
      ]
     },
     "execution_count": 41,
     "metadata": {},
     "output_type": "execute_result"
    }
   ],
   "source": [
    "komodo_df = pd.read_csv(\n",
    "    os.path.join(\n",
    "        DATA_DIR,\n",
    "        \"komodo\",\n",
    "        \"komodo_taxa.txt\"\n",
    "    ),\n",
    "    sep=\"\\t\"\n",
    ")\n",
    "\n",
    "# Transform taxon_id column to string for plotting\n",
    "komodo_df[\"taxon_id\"] = komodo_df[\"taxon_id\"].astype(str).str.replace(\".0\", \"\")\n",
    "\n",
    "# Add genus column\n",
    "komodo_df[\"genus\"] = komodo_df[\"organism_name\"].str.split(\" \").str[0]\n",
    "\n",
    "# Get media column as a category\n",
    "komodo_df[\"dsmz_id\"] = komodo_df[\"dsmz_id\"].astype(\"category\")\n",
    "komodo_df[\"media_code\"] = komodo_df[\"dsmz_id\"].cat.codes\n",
    "\n",
    "komodo_df"
   ]
  },
  {
   "cell_type": "code",
   "execution_count": 42,
   "metadata": {},
   "outputs": [
    {
     "data": {
      "text/html": [
       "<div>\n",
       "<style scoped>\n",
       "    .dataframe tbody tr th:only-of-type {\n",
       "        vertical-align: middle;\n",
       "    }\n",
       "\n",
       "    .dataframe tbody tr th {\n",
       "        vertical-align: top;\n",
       "    }\n",
       "\n",
       "    .dataframe thead th {\n",
       "        text-align: right;\n",
       "    }\n",
       "</style>\n",
       "<table border=\"1\" class=\"dataframe\">\n",
       "  <thead>\n",
       "    <tr style=\"text-align: right;\">\n",
       "      <th></th>\n",
       "      <th>entryType</th>\n",
       "      <th>primaryAccession</th>\n",
       "      <th>uniProtkbId</th>\n",
       "      <th>taxon_id</th>\n",
       "      <th>fullName</th>\n",
       "      <th>ec_numbers</th>\n",
       "    </tr>\n",
       "  </thead>\n",
       "  <tbody>\n",
       "    <tr>\n",
       "      <th>1</th>\n",
       "      <td>UniProtKB unreviewed (TrEMBL)</td>\n",
       "      <td>A0A929MPR1</td>\n",
       "      <td>A0A929MPR1_ABIDE</td>\n",
       "      <td>46125</td>\n",
       "      <td>CTP synthase</td>\n",
       "      <td>6.3.4.2</td>\n",
       "    </tr>\n",
       "    <tr>\n",
       "      <th>3</th>\n",
       "      <td>UniProtKB unreviewed (TrEMBL)</td>\n",
       "      <td>A0A929QT52</td>\n",
       "      <td>A0A929QT52_ABIDE</td>\n",
       "      <td>46125</td>\n",
       "      <td>Aspartate-semialdehyde dehydrogenase</td>\n",
       "      <td>1.2.1.11</td>\n",
       "    </tr>\n",
       "    <tr>\n",
       "      <th>5</th>\n",
       "      <td>UniProtKB unreviewed (TrEMBL)</td>\n",
       "      <td>A0A929MMJ5</td>\n",
       "      <td>A0A929MMJ5_ABIDE</td>\n",
       "      <td>46125</td>\n",
       "      <td>Dihydroorotate dehydrogenase</td>\n",
       "      <td>1.3.-.-</td>\n",
       "    </tr>\n",
       "    <tr>\n",
       "      <th>6</th>\n",
       "      <td>UniProtKB unreviewed (TrEMBL)</td>\n",
       "      <td>A0A929MMW4</td>\n",
       "      <td>A0A929MMW4_ABIDE</td>\n",
       "      <td>46125</td>\n",
       "      <td>Glycerol-3-phosphate dehydrogenase [NAD(P)+]</td>\n",
       "      <td>1.1.1.94</td>\n",
       "    </tr>\n",
       "    <tr>\n",
       "      <th>7</th>\n",
       "      <td>UniProtKB unreviewed (TrEMBL)</td>\n",
       "      <td>A0A929MMY6</td>\n",
       "      <td>A0A929MMY6_ABIDE</td>\n",
       "      <td>46125</td>\n",
       "      <td>Lipid II isoglutaminyl synthase (glutamine-hyd...</td>\n",
       "      <td>6.3.5.13</td>\n",
       "    </tr>\n",
       "    <tr>\n",
       "      <th>...</th>\n",
       "      <td>...</td>\n",
       "      <td>...</td>\n",
       "      <td>...</td>\n",
       "      <td>...</td>\n",
       "      <td>...</td>\n",
       "      <td>...</td>\n",
       "    </tr>\n",
       "    <tr>\n",
       "      <th>8467</th>\n",
       "      <td>UniProtKB unreviewed (TrEMBL)</td>\n",
       "      <td>A0A1H9CYL9</td>\n",
       "      <td>A0A1H9CYL9_9GAMM</td>\n",
       "      <td>355243</td>\n",
       "      <td>Lipoyl synthase</td>\n",
       "      <td>2.8.1.8</td>\n",
       "    </tr>\n",
       "    <tr>\n",
       "      <th>8468</th>\n",
       "      <td>UniProtKB unreviewed (TrEMBL)</td>\n",
       "      <td>A0A1H9CZ15</td>\n",
       "      <td>A0A1H9CZ15_9GAMM</td>\n",
       "      <td>355243</td>\n",
       "      <td>Serine hydroxymethyltransferase</td>\n",
       "      <td>2.1.2.1</td>\n",
       "    </tr>\n",
       "    <tr>\n",
       "      <th>8470</th>\n",
       "      <td>UniProtKB unreviewed (TrEMBL)</td>\n",
       "      <td>A0A1H9D344</td>\n",
       "      <td>A0A1H9D344_9GAMM</td>\n",
       "      <td>355243</td>\n",
       "      <td>NAD-dependent protein deacylase</td>\n",
       "      <td>2.3.1.286</td>\n",
       "    </tr>\n",
       "    <tr>\n",
       "      <th>8471</th>\n",
       "      <td>UniProtKB unreviewed (TrEMBL)</td>\n",
       "      <td>B5A820</td>\n",
       "      <td>B5A820_AMYAL</td>\n",
       "      <td>76020</td>\n",
       "      <td>DNA topoisomerase (ATP-hydrolyzing)</td>\n",
       "      <td>5.6.2.2</td>\n",
       "    </tr>\n",
       "    <tr>\n",
       "      <th>8474</th>\n",
       "      <td>UniProtKB unreviewed (TrEMBL)</td>\n",
       "      <td>B5A821</td>\n",
       "      <td>B5A821_9PSEU</td>\n",
       "      <td>102226</td>\n",
       "      <td>DNA topoisomerase (ATP-hydrolyzing)</td>\n",
       "      <td>5.6.2.2</td>\n",
       "    </tr>\n",
       "  </tbody>\n",
       "</table>\n",
       "<p>5760 rows × 6 columns</p>\n",
       "</div>"
      ],
      "text/plain": [
       "                          entryType primaryAccession       uniProtkbId  \\\n",
       "1     UniProtKB unreviewed (TrEMBL)       A0A929MPR1  A0A929MPR1_ABIDE   \n",
       "3     UniProtKB unreviewed (TrEMBL)       A0A929QT52  A0A929QT52_ABIDE   \n",
       "5     UniProtKB unreviewed (TrEMBL)       A0A929MMJ5  A0A929MMJ5_ABIDE   \n",
       "6     UniProtKB unreviewed (TrEMBL)       A0A929MMW4  A0A929MMW4_ABIDE   \n",
       "7     UniProtKB unreviewed (TrEMBL)       A0A929MMY6  A0A929MMY6_ABIDE   \n",
       "...                             ...              ...               ...   \n",
       "8467  UniProtKB unreviewed (TrEMBL)       A0A1H9CYL9  A0A1H9CYL9_9GAMM   \n",
       "8468  UniProtKB unreviewed (TrEMBL)       A0A1H9CZ15  A0A1H9CZ15_9GAMM   \n",
       "8470  UniProtKB unreviewed (TrEMBL)       A0A1H9D344  A0A1H9D344_9GAMM   \n",
       "8471  UniProtKB unreviewed (TrEMBL)           B5A820      B5A820_AMYAL   \n",
       "8474  UniProtKB unreviewed (TrEMBL)           B5A821      B5A821_9PSEU   \n",
       "\n",
       "     taxon_id                                           fullName ec_numbers  \n",
       "1       46125                                       CTP synthase    6.3.4.2  \n",
       "3       46125               Aspartate-semialdehyde dehydrogenase   1.2.1.11  \n",
       "5       46125                       Dihydroorotate dehydrogenase    1.3.-.-  \n",
       "6       46125       Glycerol-3-phosphate dehydrogenase [NAD(P)+]   1.1.1.94  \n",
       "7       46125  Lipid II isoglutaminyl synthase (glutamine-hyd...   6.3.5.13  \n",
       "...       ...                                                ...        ...  \n",
       "8467   355243                                    Lipoyl synthase    2.8.1.8  \n",
       "8468   355243                    Serine hydroxymethyltransferase    2.1.2.1  \n",
       "8470   355243                    NAD-dependent protein deacylase  2.3.1.286  \n",
       "8471    76020                DNA topoisomerase (ATP-hydrolyzing)    5.6.2.2  \n",
       "8474   102226                DNA topoisomerase (ATP-hydrolyzing)    5.6.2.2  \n",
       "\n",
       "[5760 rows x 6 columns]"
      ]
     },
     "execution_count": 42,
     "metadata": {},
     "output_type": "execute_result"
    }
   ],
   "source": [
    "uniprot_df = pd.read_csv(\n",
    "    os.path.join(\n",
    "        DATA_DIR,\n",
    "        \"uniprot\",\n",
    "        \"komodo_taxon_to_uniprot_ec.csv\"\n",
    "    )\n",
    ")\n",
    "\n",
    "uniprot_df[\"taxonId\"] = uniprot_df[\"taxonId\"].astype(str)\n",
    "uniprot_df = uniprot_df.rename(columns={\n",
    "    \"taxonId\": \"taxon_id\",\n",
    "    \"ecNumbers\": \"ec_numbers\"\n",
    "})\n",
    "\n",
    "# Drop all data points that do not contain an EC number\n",
    "uniprot_df = uniprot_df.dropna(subset=\"ec_numbers\")\n",
    "uniprot_df"
   ]
  },
  {
   "cell_type": "code",
   "execution_count": 43,
   "metadata": {},
   "outputs": [
    {
     "data": {
      "text/html": [
       "<div>\n",
       "<style scoped>\n",
       "    .dataframe tbody tr th:only-of-type {\n",
       "        vertical-align: middle;\n",
       "    }\n",
       "\n",
       "    .dataframe tbody tr th {\n",
       "        vertical-align: top;\n",
       "    }\n",
       "\n",
       "    .dataframe thead th {\n",
       "        text-align: right;\n",
       "    }\n",
       "</style>\n",
       "<table border=\"1\" class=\"dataframe\">\n",
       "  <thead>\n",
       "    <tr style=\"text-align: right;\">\n",
       "      <th>ec_numbers</th>\n",
       "      <th>taxon_id</th>\n",
       "      <th>media_code</th>\n",
       "      <th>1.-.-.-</th>\n",
       "      <th>1.1.-.-</th>\n",
       "      <th>1.1.1.100</th>\n",
       "      <th>1.1.1.133</th>\n",
       "      <th>1.1.1.135</th>\n",
       "      <th>1.1.1.205</th>\n",
       "      <th>1.1.1.25</th>\n",
       "      <th>1.1.1.262</th>\n",
       "      <th>...</th>\n",
       "      <th>7.2.1.1</th>\n",
       "      <th>7.2.2.14</th>\n",
       "      <th>7.2.2.6</th>\n",
       "      <th>7.2.2.7</th>\n",
       "      <th>7.2.3.1</th>\n",
       "      <th>7.3.2.1</th>\n",
       "      <th>7.3.2.2</th>\n",
       "      <th>7.4.2.5</th>\n",
       "      <th>7.4.2.8</th>\n",
       "      <th>7.6.2.-</th>\n",
       "    </tr>\n",
       "  </thead>\n",
       "  <tbody>\n",
       "    <tr>\n",
       "      <th>0</th>\n",
       "      <td>100469</td>\n",
       "      <td>1377</td>\n",
       "      <td>0.0</td>\n",
       "      <td>0.0</td>\n",
       "      <td>0.0</td>\n",
       "      <td>0.0</td>\n",
       "      <td>0.0</td>\n",
       "      <td>0.0</td>\n",
       "      <td>0.0</td>\n",
       "      <td>0.0</td>\n",
       "      <td>...</td>\n",
       "      <td>0.0</td>\n",
       "      <td>0.0</td>\n",
       "      <td>0.0</td>\n",
       "      <td>0.0</td>\n",
       "      <td>0.0</td>\n",
       "      <td>0.0</td>\n",
       "      <td>0.0</td>\n",
       "      <td>0.0</td>\n",
       "      <td>0.0</td>\n",
       "      <td>0.0</td>\n",
       "    </tr>\n",
       "    <tr>\n",
       "      <th>1</th>\n",
       "      <td>102226</td>\n",
       "      <td>7013</td>\n",
       "      <td>0.0</td>\n",
       "      <td>0.0</td>\n",
       "      <td>0.0</td>\n",
       "      <td>0.0</td>\n",
       "      <td>0.0</td>\n",
       "      <td>0.0</td>\n",
       "      <td>0.0</td>\n",
       "      <td>0.0</td>\n",
       "      <td>...</td>\n",
       "      <td>0.0</td>\n",
       "      <td>0.0</td>\n",
       "      <td>0.0</td>\n",
       "      <td>0.0</td>\n",
       "      <td>0.0</td>\n",
       "      <td>0.0</td>\n",
       "      <td>0.0</td>\n",
       "      <td>0.0</td>\n",
       "      <td>0.0</td>\n",
       "      <td>0.0</td>\n",
       "    </tr>\n",
       "    <tr>\n",
       "      <th>2</th>\n",
       "      <td>1034</td>\n",
       "      <td>8324</td>\n",
       "      <td>0.0</td>\n",
       "      <td>0.0</td>\n",
       "      <td>0.0</td>\n",
       "      <td>0.0</td>\n",
       "      <td>0.0</td>\n",
       "      <td>0.0</td>\n",
       "      <td>0.0</td>\n",
       "      <td>0.0</td>\n",
       "      <td>...</td>\n",
       "      <td>0.0</td>\n",
       "      <td>0.0</td>\n",
       "      <td>0.0</td>\n",
       "      <td>0.0</td>\n",
       "      <td>0.0</td>\n",
       "      <td>0.0</td>\n",
       "      <td>0.0</td>\n",
       "      <td>0.0</td>\n",
       "      <td>0.0</td>\n",
       "      <td>0.0</td>\n",
       "    </tr>\n",
       "    <tr>\n",
       "      <th>3</th>\n",
       "      <td>1035</td>\n",
       "      <td>8327</td>\n",
       "      <td>0.0</td>\n",
       "      <td>0.0</td>\n",
       "      <td>0.0</td>\n",
       "      <td>0.0</td>\n",
       "      <td>0.0</td>\n",
       "      <td>0.0</td>\n",
       "      <td>0.0</td>\n",
       "      <td>0.0</td>\n",
       "      <td>...</td>\n",
       "      <td>0.0</td>\n",
       "      <td>0.0</td>\n",
       "      <td>0.0</td>\n",
       "      <td>0.0</td>\n",
       "      <td>0.0</td>\n",
       "      <td>0.0</td>\n",
       "      <td>0.0</td>\n",
       "      <td>0.0</td>\n",
       "      <td>0.0</td>\n",
       "      <td>0.0</td>\n",
       "    </tr>\n",
       "    <tr>\n",
       "      <th>4</th>\n",
       "      <td>103621</td>\n",
       "      <td>1319</td>\n",
       "      <td>0.0</td>\n",
       "      <td>0.0</td>\n",
       "      <td>0.0</td>\n",
       "      <td>0.0</td>\n",
       "      <td>0.0</td>\n",
       "      <td>0.0</td>\n",
       "      <td>0.0</td>\n",
       "      <td>0.0</td>\n",
       "      <td>...</td>\n",
       "      <td>0.0</td>\n",
       "      <td>0.0</td>\n",
       "      <td>0.0</td>\n",
       "      <td>0.0</td>\n",
       "      <td>0.0</td>\n",
       "      <td>0.0</td>\n",
       "      <td>0.0</td>\n",
       "      <td>0.0</td>\n",
       "      <td>0.0</td>\n",
       "      <td>0.0</td>\n",
       "    </tr>\n",
       "    <tr>\n",
       "      <th>...</th>\n",
       "      <td>...</td>\n",
       "      <td>...</td>\n",
       "      <td>...</td>\n",
       "      <td>...</td>\n",
       "      <td>...</td>\n",
       "      <td>...</td>\n",
       "      <td>...</td>\n",
       "      <td>...</td>\n",
       "      <td>...</td>\n",
       "      <td>...</td>\n",
       "      <td>...</td>\n",
       "      <td>...</td>\n",
       "      <td>...</td>\n",
       "      <td>...</td>\n",
       "      <td>...</td>\n",
       "      <td>...</td>\n",
       "      <td>...</td>\n",
       "      <td>...</td>\n",
       "      <td>...</td>\n",
       "      <td>...</td>\n",
       "      <td>...</td>\n",
       "    </tr>\n",
       "    <tr>\n",
       "      <th>382</th>\n",
       "      <td>94136</td>\n",
       "      <td>7818</td>\n",
       "      <td>0.0</td>\n",
       "      <td>0.0</td>\n",
       "      <td>0.0</td>\n",
       "      <td>0.0</td>\n",
       "      <td>0.0</td>\n",
       "      <td>0.0</td>\n",
       "      <td>0.0</td>\n",
       "      <td>0.0</td>\n",
       "      <td>...</td>\n",
       "      <td>0.0</td>\n",
       "      <td>0.0</td>\n",
       "      <td>0.0</td>\n",
       "      <td>0.0</td>\n",
       "      <td>0.0</td>\n",
       "      <td>0.0</td>\n",
       "      <td>0.0</td>\n",
       "      <td>0.0</td>\n",
       "      <td>0.0</td>\n",
       "      <td>0.0</td>\n",
       "    </tr>\n",
       "    <tr>\n",
       "      <th>383</th>\n",
       "      <td>95160</td>\n",
       "      <td>7096</td>\n",
       "      <td>0.0</td>\n",
       "      <td>0.0</td>\n",
       "      <td>0.0</td>\n",
       "      <td>0.0</td>\n",
       "      <td>0.0</td>\n",
       "      <td>0.0</td>\n",
       "      <td>0.0</td>\n",
       "      <td>0.0</td>\n",
       "      <td>...</td>\n",
       "      <td>0.0</td>\n",
       "      <td>0.0</td>\n",
       "      <td>1.0</td>\n",
       "      <td>0.0</td>\n",
       "      <td>0.0</td>\n",
       "      <td>0.0</td>\n",
       "      <td>0.0</td>\n",
       "      <td>0.0</td>\n",
       "      <td>0.0</td>\n",
       "      <td>0.0</td>\n",
       "    </tr>\n",
       "    <tr>\n",
       "      <th>384</th>\n",
       "      <td>96473</td>\n",
       "      <td>495</td>\n",
       "      <td>0.0</td>\n",
       "      <td>0.0</td>\n",
       "      <td>0.0</td>\n",
       "      <td>0.0</td>\n",
       "      <td>0.0</td>\n",
       "      <td>0.0</td>\n",
       "      <td>0.0</td>\n",
       "      <td>0.0</td>\n",
       "      <td>...</td>\n",
       "      <td>0.0</td>\n",
       "      <td>0.0</td>\n",
       "      <td>0.0</td>\n",
       "      <td>0.0</td>\n",
       "      <td>0.0</td>\n",
       "      <td>0.0</td>\n",
       "      <td>0.0</td>\n",
       "      <td>0.0</td>\n",
       "      <td>0.0</td>\n",
       "      <td>0.0</td>\n",
       "    </tr>\n",
       "    <tr>\n",
       "      <th>385</th>\n",
       "      <td>990712</td>\n",
       "      <td>5276</td>\n",
       "      <td>0.0</td>\n",
       "      <td>0.0</td>\n",
       "      <td>0.0</td>\n",
       "      <td>0.0</td>\n",
       "      <td>0.0</td>\n",
       "      <td>0.0</td>\n",
       "      <td>1.0</td>\n",
       "      <td>0.0</td>\n",
       "      <td>...</td>\n",
       "      <td>0.0</td>\n",
       "      <td>0.0</td>\n",
       "      <td>0.0</td>\n",
       "      <td>0.0</td>\n",
       "      <td>0.0</td>\n",
       "      <td>0.0</td>\n",
       "      <td>0.0</td>\n",
       "      <td>0.0</td>\n",
       "      <td>0.0</td>\n",
       "      <td>0.0</td>\n",
       "    </tr>\n",
       "    <tr>\n",
       "      <th>386</th>\n",
       "      <td>99907</td>\n",
       "      <td>609</td>\n",
       "      <td>0.0</td>\n",
       "      <td>0.0</td>\n",
       "      <td>0.0</td>\n",
       "      <td>0.0</td>\n",
       "      <td>0.0</td>\n",
       "      <td>0.0</td>\n",
       "      <td>0.0</td>\n",
       "      <td>0.0</td>\n",
       "      <td>...</td>\n",
       "      <td>0.0</td>\n",
       "      <td>0.0</td>\n",
       "      <td>0.0</td>\n",
       "      <td>0.0</td>\n",
       "      <td>0.0</td>\n",
       "      <td>0.0</td>\n",
       "      <td>0.0</td>\n",
       "      <td>0.0</td>\n",
       "      <td>0.0</td>\n",
       "      <td>0.0</td>\n",
       "    </tr>\n",
       "  </tbody>\n",
       "</table>\n",
       "<p>387 rows × 600 columns</p>\n",
       "</div>"
      ],
      "text/plain": [
       "ec_numbers taxon_id  media_code  1.-.-.-  1.1.-.-  1.1.1.100  1.1.1.133  \\\n",
       "0            100469        1377      0.0      0.0        0.0        0.0   \n",
       "1            102226        7013      0.0      0.0        0.0        0.0   \n",
       "2              1034        8324      0.0      0.0        0.0        0.0   \n",
       "3              1035        8327      0.0      0.0        0.0        0.0   \n",
       "4            103621        1319      0.0      0.0        0.0        0.0   \n",
       "..              ...         ...      ...      ...        ...        ...   \n",
       "382           94136        7818      0.0      0.0        0.0        0.0   \n",
       "383           95160        7096      0.0      0.0        0.0        0.0   \n",
       "384           96473         495      0.0      0.0        0.0        0.0   \n",
       "385          990712        5276      0.0      0.0        0.0        0.0   \n",
       "386           99907         609      0.0      0.0        0.0        0.0   \n",
       "\n",
       "ec_numbers  1.1.1.135  1.1.1.205  1.1.1.25  1.1.1.262  ...  7.2.1.1  7.2.2.14  \\\n",
       "0                 0.0        0.0       0.0        0.0  ...      0.0       0.0   \n",
       "1                 0.0        0.0       0.0        0.0  ...      0.0       0.0   \n",
       "2                 0.0        0.0       0.0        0.0  ...      0.0       0.0   \n",
       "3                 0.0        0.0       0.0        0.0  ...      0.0       0.0   \n",
       "4                 0.0        0.0       0.0        0.0  ...      0.0       0.0   \n",
       "..                ...        ...       ...        ...  ...      ...       ...   \n",
       "382               0.0        0.0       0.0        0.0  ...      0.0       0.0   \n",
       "383               0.0        0.0       0.0        0.0  ...      0.0       0.0   \n",
       "384               0.0        0.0       0.0        0.0  ...      0.0       0.0   \n",
       "385               0.0        0.0       1.0        0.0  ...      0.0       0.0   \n",
       "386               0.0        0.0       0.0        0.0  ...      0.0       0.0   \n",
       "\n",
       "ec_numbers  7.2.2.6  7.2.2.7  7.2.3.1  7.3.2.1  7.3.2.2  7.4.2.5  7.4.2.8  \\\n",
       "0               0.0      0.0      0.0      0.0      0.0      0.0      0.0   \n",
       "1               0.0      0.0      0.0      0.0      0.0      0.0      0.0   \n",
       "2               0.0      0.0      0.0      0.0      0.0      0.0      0.0   \n",
       "3               0.0      0.0      0.0      0.0      0.0      0.0      0.0   \n",
       "4               0.0      0.0      0.0      0.0      0.0      0.0      0.0   \n",
       "..              ...      ...      ...      ...      ...      ...      ...   \n",
       "382             0.0      0.0      0.0      0.0      0.0      0.0      0.0   \n",
       "383             1.0      0.0      0.0      0.0      0.0      0.0      0.0   \n",
       "384             0.0      0.0      0.0      0.0      0.0      0.0      0.0   \n",
       "385             0.0      0.0      0.0      0.0      0.0      0.0      0.0   \n",
       "386             0.0      0.0      0.0      0.0      0.0      0.0      0.0   \n",
       "\n",
       "ec_numbers  7.6.2.-  \n",
       "0               0.0  \n",
       "1               0.0  \n",
       "2               0.0  \n",
       "3               0.0  \n",
       "4               0.0  \n",
       "..              ...  \n",
       "382             0.0  \n",
       "383             0.0  \n",
       "384             0.0  \n",
       "385             0.0  \n",
       "386             0.0  \n",
       "\n",
       "[387 rows x 600 columns]"
      ]
     },
     "execution_count": 43,
     "metadata": {},
     "output_type": "execute_result"
    }
   ],
   "source": [
    "data_df = pd.merge(\n",
    "    left=komodo_df,\n",
    "    right=uniprot_df,\n",
    "    on=\"taxon_id\",\n",
    "    how=\"inner\"\n",
    ")\n",
    "\n",
    "# Explode EC numbers\n",
    "data_df[\"ec_numbers\"] = data_df[\"ec_numbers\"].str.split(\"|\")\n",
    "data_df = data_df.explode(\"ec_numbers\")\n",
    "\n",
    "data_df = data_df[[\"taxon_id\", \"media_code\", \"ec_numbers\"]]\\\n",
    "    .value_counts()\\\n",
    "    .reset_index()\n",
    "\n",
    "data_df = data_df.pivot(\n",
    "    index=[\"taxon_id\", \"media_code\"],\n",
    "    columns=\"ec_numbers\",\n",
    "    values=\"count\"\n",
    ")\n",
    "data_df = data_df.fillna(0.0).reset_index()\n",
    "data_df"
   ]
  },
  {
   "cell_type": "markdown",
   "metadata": {},
   "source": [
    "### Strategy for splitting"
   ]
  },
  {
   "cell_type": "code",
   "execution_count": null,
   "metadata": {},
   "outputs": [],
   "source": [
    "from sklearn.model_selection import train_test_split\n",
    "\n",
    "# TODO: check correct split!\n",
    "X_train, X_test, y_train, y_test = train_test_split(\n",
    "    data_df.drop([\"taxon_id\", \"media_code\"], axis=1),\n",
    "    data_df[\"media_code\"],\n",
    "    test_size=0.2,\n",
    "    random_state=RANDOM_SEED\n",
    ")"
   ]
  },
  {
   "cell_type": "markdown",
   "metadata": {},
   "source": [
    "### Clustering"
   ]
  },
  {
   "cell_type": "code",
   "execution_count": null,
   "metadata": {},
   "outputs": [],
   "source": [
    "reducer = umap.UMAP(\n",
    "    metric=UMAP_METRIC,\n",
    "    n_components=4,\n",
    "    n_epochs=5000,\n",
    "    random_state=UMAP_SEED,\n",
    "    n_jobs=1\n",
    ")\n",
    "\n",
    "reduced_df = reducer.fit_transform(X_train)\n",
    "reduced_df = pd.DataFrame(\n",
    "    reduced_df,\n",
    "    columns=[f\"Component {i+1}\" for i in range(reduced_df.shape[1])]\n",
    ")"
   ]
  },
  {
   "cell_type": "markdown",
   "metadata": {},
   "source": [
    "#### Map binary features to a continuous embedding space using UMAP (or another algorithm)"
   ]
  },
  {
   "cell_type": "markdown",
   "metadata": {},
   "source": [
    "### Classifier"
   ]
  },
  {
   "cell_type": "code",
   "execution_count": null,
   "metadata": {},
   "outputs": [
    {
     "data": {
      "text/html": [
       "<style>#sk-container-id-3 {\n",
       "  /* Definition of color scheme common for light and dark mode */\n",
       "  --sklearn-color-text: black;\n",
       "  --sklearn-color-line: gray;\n",
       "  /* Definition of color scheme for unfitted estimators */\n",
       "  --sklearn-color-unfitted-level-0: #fff5e6;\n",
       "  --sklearn-color-unfitted-level-1: #f6e4d2;\n",
       "  --sklearn-color-unfitted-level-2: #ffe0b3;\n",
       "  --sklearn-color-unfitted-level-3: chocolate;\n",
       "  /* Definition of color scheme for fitted estimators */\n",
       "  --sklearn-color-fitted-level-0: #f0f8ff;\n",
       "  --sklearn-color-fitted-level-1: #d4ebff;\n",
       "  --sklearn-color-fitted-level-2: #b3dbfd;\n",
       "  --sklearn-color-fitted-level-3: cornflowerblue;\n",
       "\n",
       "  /* Specific color for light theme */\n",
       "  --sklearn-color-text-on-default-background: var(--sg-text-color, var(--theme-code-foreground, var(--jp-content-font-color1, black)));\n",
       "  --sklearn-color-background: var(--sg-background-color, var(--theme-background, var(--jp-layout-color0, white)));\n",
       "  --sklearn-color-border-box: var(--sg-text-color, var(--theme-code-foreground, var(--jp-content-font-color1, black)));\n",
       "  --sklearn-color-icon: #696969;\n",
       "\n",
       "  @media (prefers-color-scheme: dark) {\n",
       "    /* Redefinition of color scheme for dark theme */\n",
       "    --sklearn-color-text-on-default-background: var(--sg-text-color, var(--theme-code-foreground, var(--jp-content-font-color1, white)));\n",
       "    --sklearn-color-background: var(--sg-background-color, var(--theme-background, var(--jp-layout-color0, #111)));\n",
       "    --sklearn-color-border-box: var(--sg-text-color, var(--theme-code-foreground, var(--jp-content-font-color1, white)));\n",
       "    --sklearn-color-icon: #878787;\n",
       "  }\n",
       "}\n",
       "\n",
       "#sk-container-id-3 {\n",
       "  color: var(--sklearn-color-text);\n",
       "}\n",
       "\n",
       "#sk-container-id-3 pre {\n",
       "  padding: 0;\n",
       "}\n",
       "\n",
       "#sk-container-id-3 input.sk-hidden--visually {\n",
       "  border: 0;\n",
       "  clip: rect(1px 1px 1px 1px);\n",
       "  clip: rect(1px, 1px, 1px, 1px);\n",
       "  height: 1px;\n",
       "  margin: -1px;\n",
       "  overflow: hidden;\n",
       "  padding: 0;\n",
       "  position: absolute;\n",
       "  width: 1px;\n",
       "}\n",
       "\n",
       "#sk-container-id-3 div.sk-dashed-wrapped {\n",
       "  border: 1px dashed var(--sklearn-color-line);\n",
       "  margin: 0 0.4em 0.5em 0.4em;\n",
       "  box-sizing: border-box;\n",
       "  padding-bottom: 0.4em;\n",
       "  background-color: var(--sklearn-color-background);\n",
       "}\n",
       "\n",
       "#sk-container-id-3 div.sk-container {\n",
       "  /* jupyter's `normalize.less` sets `[hidden] { display: none; }`\n",
       "     but bootstrap.min.css set `[hidden] { display: none !important; }`\n",
       "     so we also need the `!important` here to be able to override the\n",
       "     default hidden behavior on the sphinx rendered scikit-learn.org.\n",
       "     See: https://github.com/scikit-learn/scikit-learn/issues/21755 */\n",
       "  display: inline-block !important;\n",
       "  position: relative;\n",
       "}\n",
       "\n",
       "#sk-container-id-3 div.sk-text-repr-fallback {\n",
       "  display: none;\n",
       "}\n",
       "\n",
       "div.sk-parallel-item,\n",
       "div.sk-serial,\n",
       "div.sk-item {\n",
       "  /* draw centered vertical line to link estimators */\n",
       "  background-image: linear-gradient(var(--sklearn-color-text-on-default-background), var(--sklearn-color-text-on-default-background));\n",
       "  background-size: 2px 100%;\n",
       "  background-repeat: no-repeat;\n",
       "  background-position: center center;\n",
       "}\n",
       "\n",
       "/* Parallel-specific style estimator block */\n",
       "\n",
       "#sk-container-id-3 div.sk-parallel-item::after {\n",
       "  content: \"\";\n",
       "  width: 100%;\n",
       "  border-bottom: 2px solid var(--sklearn-color-text-on-default-background);\n",
       "  flex-grow: 1;\n",
       "}\n",
       "\n",
       "#sk-container-id-3 div.sk-parallel {\n",
       "  display: flex;\n",
       "  align-items: stretch;\n",
       "  justify-content: center;\n",
       "  background-color: var(--sklearn-color-background);\n",
       "  position: relative;\n",
       "}\n",
       "\n",
       "#sk-container-id-3 div.sk-parallel-item {\n",
       "  display: flex;\n",
       "  flex-direction: column;\n",
       "}\n",
       "\n",
       "#sk-container-id-3 div.sk-parallel-item:first-child::after {\n",
       "  align-self: flex-end;\n",
       "  width: 50%;\n",
       "}\n",
       "\n",
       "#sk-container-id-3 div.sk-parallel-item:last-child::after {\n",
       "  align-self: flex-start;\n",
       "  width: 50%;\n",
       "}\n",
       "\n",
       "#sk-container-id-3 div.sk-parallel-item:only-child::after {\n",
       "  width: 0;\n",
       "}\n",
       "\n",
       "/* Serial-specific style estimator block */\n",
       "\n",
       "#sk-container-id-3 div.sk-serial {\n",
       "  display: flex;\n",
       "  flex-direction: column;\n",
       "  align-items: center;\n",
       "  background-color: var(--sklearn-color-background);\n",
       "  padding-right: 1em;\n",
       "  padding-left: 1em;\n",
       "}\n",
       "\n",
       "\n",
       "/* Toggleable style: style used for estimator/Pipeline/ColumnTransformer box that is\n",
       "clickable and can be expanded/collapsed.\n",
       "- Pipeline and ColumnTransformer use this feature and define the default style\n",
       "- Estimators will overwrite some part of the style using the `sk-estimator` class\n",
       "*/\n",
       "\n",
       "/* Pipeline and ColumnTransformer style (default) */\n",
       "\n",
       "#sk-container-id-3 div.sk-toggleable {\n",
       "  /* Default theme specific background. It is overwritten whether we have a\n",
       "  specific estimator or a Pipeline/ColumnTransformer */\n",
       "  background-color: var(--sklearn-color-background);\n",
       "}\n",
       "\n",
       "/* Toggleable label */\n",
       "#sk-container-id-3 label.sk-toggleable__label {\n",
       "  cursor: pointer;\n",
       "  display: block;\n",
       "  width: 100%;\n",
       "  margin-bottom: 0;\n",
       "  padding: 0.5em;\n",
       "  box-sizing: border-box;\n",
       "  text-align: center;\n",
       "}\n",
       "\n",
       "#sk-container-id-3 label.sk-toggleable__label-arrow:before {\n",
       "  /* Arrow on the left of the label */\n",
       "  content: \"▸\";\n",
       "  float: left;\n",
       "  margin-right: 0.25em;\n",
       "  color: var(--sklearn-color-icon);\n",
       "}\n",
       "\n",
       "#sk-container-id-3 label.sk-toggleable__label-arrow:hover:before {\n",
       "  color: var(--sklearn-color-text);\n",
       "}\n",
       "\n",
       "/* Toggleable content - dropdown */\n",
       "\n",
       "#sk-container-id-3 div.sk-toggleable__content {\n",
       "  max-height: 0;\n",
       "  max-width: 0;\n",
       "  overflow: hidden;\n",
       "  text-align: left;\n",
       "  /* unfitted */\n",
       "  background-color: var(--sklearn-color-unfitted-level-0);\n",
       "}\n",
       "\n",
       "#sk-container-id-3 div.sk-toggleable__content.fitted {\n",
       "  /* fitted */\n",
       "  background-color: var(--sklearn-color-fitted-level-0);\n",
       "}\n",
       "\n",
       "#sk-container-id-3 div.sk-toggleable__content pre {\n",
       "  margin: 0.2em;\n",
       "  border-radius: 0.25em;\n",
       "  color: var(--sklearn-color-text);\n",
       "  /* unfitted */\n",
       "  background-color: var(--sklearn-color-unfitted-level-0);\n",
       "}\n",
       "\n",
       "#sk-container-id-3 div.sk-toggleable__content.fitted pre {\n",
       "  /* unfitted */\n",
       "  background-color: var(--sklearn-color-fitted-level-0);\n",
       "}\n",
       "\n",
       "#sk-container-id-3 input.sk-toggleable__control:checked~div.sk-toggleable__content {\n",
       "  /* Expand drop-down */\n",
       "  max-height: 200px;\n",
       "  max-width: 100%;\n",
       "  overflow: auto;\n",
       "}\n",
       "\n",
       "#sk-container-id-3 input.sk-toggleable__control:checked~label.sk-toggleable__label-arrow:before {\n",
       "  content: \"▾\";\n",
       "}\n",
       "\n",
       "/* Pipeline/ColumnTransformer-specific style */\n",
       "\n",
       "#sk-container-id-3 div.sk-label input.sk-toggleable__control:checked~label.sk-toggleable__label {\n",
       "  color: var(--sklearn-color-text);\n",
       "  background-color: var(--sklearn-color-unfitted-level-2);\n",
       "}\n",
       "\n",
       "#sk-container-id-3 div.sk-label.fitted input.sk-toggleable__control:checked~label.sk-toggleable__label {\n",
       "  background-color: var(--sklearn-color-fitted-level-2);\n",
       "}\n",
       "\n",
       "/* Estimator-specific style */\n",
       "\n",
       "/* Colorize estimator box */\n",
       "#sk-container-id-3 div.sk-estimator input.sk-toggleable__control:checked~label.sk-toggleable__label {\n",
       "  /* unfitted */\n",
       "  background-color: var(--sklearn-color-unfitted-level-2);\n",
       "}\n",
       "\n",
       "#sk-container-id-3 div.sk-estimator.fitted input.sk-toggleable__control:checked~label.sk-toggleable__label {\n",
       "  /* fitted */\n",
       "  background-color: var(--sklearn-color-fitted-level-2);\n",
       "}\n",
       "\n",
       "#sk-container-id-3 div.sk-label label.sk-toggleable__label,\n",
       "#sk-container-id-3 div.sk-label label {\n",
       "  /* The background is the default theme color */\n",
       "  color: var(--sklearn-color-text-on-default-background);\n",
       "}\n",
       "\n",
       "/* On hover, darken the color of the background */\n",
       "#sk-container-id-3 div.sk-label:hover label.sk-toggleable__label {\n",
       "  color: var(--sklearn-color-text);\n",
       "  background-color: var(--sklearn-color-unfitted-level-2);\n",
       "}\n",
       "\n",
       "/* Label box, darken color on hover, fitted */\n",
       "#sk-container-id-3 div.sk-label.fitted:hover label.sk-toggleable__label.fitted {\n",
       "  color: var(--sklearn-color-text);\n",
       "  background-color: var(--sklearn-color-fitted-level-2);\n",
       "}\n",
       "\n",
       "/* Estimator label */\n",
       "\n",
       "#sk-container-id-3 div.sk-label label {\n",
       "  font-family: monospace;\n",
       "  font-weight: bold;\n",
       "  display: inline-block;\n",
       "  line-height: 1.2em;\n",
       "}\n",
       "\n",
       "#sk-container-id-3 div.sk-label-container {\n",
       "  text-align: center;\n",
       "}\n",
       "\n",
       "/* Estimator-specific */\n",
       "#sk-container-id-3 div.sk-estimator {\n",
       "  font-family: monospace;\n",
       "  border: 1px dotted var(--sklearn-color-border-box);\n",
       "  border-radius: 0.25em;\n",
       "  box-sizing: border-box;\n",
       "  margin-bottom: 0.5em;\n",
       "  /* unfitted */\n",
       "  background-color: var(--sklearn-color-unfitted-level-0);\n",
       "}\n",
       "\n",
       "#sk-container-id-3 div.sk-estimator.fitted {\n",
       "  /* fitted */\n",
       "  background-color: var(--sklearn-color-fitted-level-0);\n",
       "}\n",
       "\n",
       "/* on hover */\n",
       "#sk-container-id-3 div.sk-estimator:hover {\n",
       "  /* unfitted */\n",
       "  background-color: var(--sklearn-color-unfitted-level-2);\n",
       "}\n",
       "\n",
       "#sk-container-id-3 div.sk-estimator.fitted:hover {\n",
       "  /* fitted */\n",
       "  background-color: var(--sklearn-color-fitted-level-2);\n",
       "}\n",
       "\n",
       "/* Specification for estimator info (e.g. \"i\" and \"?\") */\n",
       "\n",
       "/* Common style for \"i\" and \"?\" */\n",
       "\n",
       ".sk-estimator-doc-link,\n",
       "a:link.sk-estimator-doc-link,\n",
       "a:visited.sk-estimator-doc-link {\n",
       "  float: right;\n",
       "  font-size: smaller;\n",
       "  line-height: 1em;\n",
       "  font-family: monospace;\n",
       "  background-color: var(--sklearn-color-background);\n",
       "  border-radius: 1em;\n",
       "  height: 1em;\n",
       "  width: 1em;\n",
       "  text-decoration: none !important;\n",
       "  margin-left: 1ex;\n",
       "  /* unfitted */\n",
       "  border: var(--sklearn-color-unfitted-level-1) 1pt solid;\n",
       "  color: var(--sklearn-color-unfitted-level-1);\n",
       "}\n",
       "\n",
       ".sk-estimator-doc-link.fitted,\n",
       "a:link.sk-estimator-doc-link.fitted,\n",
       "a:visited.sk-estimator-doc-link.fitted {\n",
       "  /* fitted */\n",
       "  border: var(--sklearn-color-fitted-level-1) 1pt solid;\n",
       "  color: var(--sklearn-color-fitted-level-1);\n",
       "}\n",
       "\n",
       "/* On hover */\n",
       "div.sk-estimator:hover .sk-estimator-doc-link:hover,\n",
       ".sk-estimator-doc-link:hover,\n",
       "div.sk-label-container:hover .sk-estimator-doc-link:hover,\n",
       ".sk-estimator-doc-link:hover {\n",
       "  /* unfitted */\n",
       "  background-color: var(--sklearn-color-unfitted-level-3);\n",
       "  color: var(--sklearn-color-background);\n",
       "  text-decoration: none;\n",
       "}\n",
       "\n",
       "div.sk-estimator.fitted:hover .sk-estimator-doc-link.fitted:hover,\n",
       ".sk-estimator-doc-link.fitted:hover,\n",
       "div.sk-label-container:hover .sk-estimator-doc-link.fitted:hover,\n",
       ".sk-estimator-doc-link.fitted:hover {\n",
       "  /* fitted */\n",
       "  background-color: var(--sklearn-color-fitted-level-3);\n",
       "  color: var(--sklearn-color-background);\n",
       "  text-decoration: none;\n",
       "}\n",
       "\n",
       "/* Span, style for the box shown on hovering the info icon */\n",
       ".sk-estimator-doc-link span {\n",
       "  display: none;\n",
       "  z-index: 9999;\n",
       "  position: relative;\n",
       "  font-weight: normal;\n",
       "  right: .2ex;\n",
       "  padding: .5ex;\n",
       "  margin: .5ex;\n",
       "  width: min-content;\n",
       "  min-width: 20ex;\n",
       "  max-width: 50ex;\n",
       "  color: var(--sklearn-color-text);\n",
       "  box-shadow: 2pt 2pt 4pt #999;\n",
       "  /* unfitted */\n",
       "  background: var(--sklearn-color-unfitted-level-0);\n",
       "  border: .5pt solid var(--sklearn-color-unfitted-level-3);\n",
       "}\n",
       "\n",
       ".sk-estimator-doc-link.fitted span {\n",
       "  /* fitted */\n",
       "  background: var(--sklearn-color-fitted-level-0);\n",
       "  border: var(--sklearn-color-fitted-level-3);\n",
       "}\n",
       "\n",
       ".sk-estimator-doc-link:hover span {\n",
       "  display: block;\n",
       "}\n",
       "\n",
       "/* \"?\"-specific style due to the `<a>` HTML tag */\n",
       "\n",
       "#sk-container-id-3 a.estimator_doc_link {\n",
       "  float: right;\n",
       "  font-size: 1rem;\n",
       "  line-height: 1em;\n",
       "  font-family: monospace;\n",
       "  background-color: var(--sklearn-color-background);\n",
       "  border-radius: 1rem;\n",
       "  height: 1rem;\n",
       "  width: 1rem;\n",
       "  text-decoration: none;\n",
       "  /* unfitted */\n",
       "  color: var(--sklearn-color-unfitted-level-1);\n",
       "  border: var(--sklearn-color-unfitted-level-1) 1pt solid;\n",
       "}\n",
       "\n",
       "#sk-container-id-3 a.estimator_doc_link.fitted {\n",
       "  /* fitted */\n",
       "  border: var(--sklearn-color-fitted-level-1) 1pt solid;\n",
       "  color: var(--sklearn-color-fitted-level-1);\n",
       "}\n",
       "\n",
       "/* On hover */\n",
       "#sk-container-id-3 a.estimator_doc_link:hover {\n",
       "  /* unfitted */\n",
       "  background-color: var(--sklearn-color-unfitted-level-3);\n",
       "  color: var(--sklearn-color-background);\n",
       "  text-decoration: none;\n",
       "}\n",
       "\n",
       "#sk-container-id-3 a.estimator_doc_link.fitted:hover {\n",
       "  /* fitted */\n",
       "  background-color: var(--sklearn-color-fitted-level-3);\n",
       "}\n",
       "</style><div id=\"sk-container-id-3\" class=\"sk-top-container\"><div class=\"sk-text-repr-fallback\"><pre>RandomForestClassifier(n_jobs=-1, random_state=666)</pre><b>In a Jupyter environment, please rerun this cell to show the HTML representation or trust the notebook. <br />On GitHub, the HTML representation is unable to render, please try loading this page with nbviewer.org.</b></div><div class=\"sk-container\" hidden><div class=\"sk-item\"><div class=\"sk-estimator fitted sk-toggleable\"><input class=\"sk-toggleable__control sk-hidden--visually\" id=\"sk-estimator-id-3\" type=\"checkbox\" checked><label for=\"sk-estimator-id-3\" class=\"sk-toggleable__label fitted sk-toggleable__label-arrow fitted\">&nbsp;&nbsp;RandomForestClassifier<a class=\"sk-estimator-doc-link fitted\" rel=\"noreferrer\" target=\"_blank\" href=\"https://scikit-learn.org/1.4/modules/generated/sklearn.ensemble.RandomForestClassifier.html\">?<span>Documentation for RandomForestClassifier</span></a><span class=\"sk-estimator-doc-link fitted\">i<span>Fitted</span></span></label><div class=\"sk-toggleable__content fitted\"><pre>RandomForestClassifier(n_jobs=-1, random_state=666)</pre></div> </div></div></div></div>"
      ],
      "text/plain": [
       "RandomForestClassifier(n_jobs=-1, random_state=666)"
      ]
     },
     "metadata": {},
     "output_type": "display_data"
    }
   ],
   "source": [
    "from sklearn.ensemble import RandomForestClassifier\n",
    "from sklearn.metrics import classification_report\n",
    "\n",
    "\n",
    "model = RandomForestClassifier(\n",
    "    n_estimators=100,\n",
    "    n_jobs=-1,\n",
    "    random_state=RANDOM_SEED\n",
    ")\n",
    "model.fit(X_train, y_train)"
   ]
  },
  {
   "cell_type": "code",
   "execution_count": null,
   "metadata": {},
   "outputs": [
    {
     "name": "stdout",
     "output_type": "stream",
     "text": [
      "              precision    recall  f1-score   support\n",
      "\n",
      "         126       0.00      0.00      0.00       1.0\n",
      "         283       0.00      0.00      0.00       1.0\n",
      "         284       0.00      0.00      0.00       0.0\n",
      "         329       0.00      0.00      0.00       0.0\n",
      "         357       0.00      0.00      0.00       1.0\n",
      "         385       0.00      0.00      0.00       0.0\n",
      "         450       0.00      0.00      0.00       1.0\n",
      "         609       0.00      0.00      0.00       0.0\n",
      "         879       0.00      0.00      0.00       1.0\n",
      "         893       0.00      0.00      0.00       0.0\n",
      "         903       0.00      0.00      0.00       1.0\n",
      "         984       0.00      0.00      0.00       0.0\n",
      "         988       0.00      0.00      0.00       0.0\n",
      "         990       0.00      0.00      0.00       1.0\n",
      "        1121       0.00      0.00      0.00       0.0\n",
      "        1224       0.00      0.00      0.00       0.0\n",
      "        1226       0.00      0.00      0.00       1.0\n",
      "        1247       0.00      0.00      0.00       1.0\n",
      "        1294       0.00      0.00      0.00       1.0\n",
      "        1318       0.00      0.00      0.00       1.0\n",
      "        1319       0.00      0.00      0.00       0.0\n",
      "        1320       0.00      0.00      0.00       1.0\n",
      "        1377       0.00      0.00      0.00       1.0\n",
      "        1385       0.00      0.00      0.00       1.0\n",
      "        1429       0.00      0.00      0.00       0.0\n",
      "        1431       0.00      0.00      0.00       0.0\n",
      "        1604       0.00      0.00      0.00       0.0\n",
      "        1639       0.00      0.00      0.00       0.0\n",
      "        1743       0.00      0.00      0.00       0.0\n",
      "        1832       0.00      0.00      0.00       0.0\n",
      "        1833       0.00      0.00      0.00       1.0\n",
      "        1920       0.00      0.00      0.00       1.0\n",
      "        2076       0.00      0.00      0.00       0.0\n",
      "        2106       0.00      0.00      0.00       0.0\n",
      "        2118       0.00      0.00      0.00       1.0\n",
      "        2152       0.00      0.00      0.00       1.0\n",
      "        2162       0.00      0.00      0.00       0.0\n",
      "        2166       0.00      0.00      0.00       0.0\n",
      "        2199       0.00      0.00      0.00       0.0\n",
      "        2200       0.00      0.00      0.00       1.0\n",
      "        2263       0.00      0.00      0.00       0.0\n",
      "        2270       0.00      0.00      0.00       0.0\n",
      "        2321       0.00      0.00      0.00       0.0\n",
      "        2389       0.00      0.00      0.00       1.0\n",
      "        2396       0.00      0.00      0.00       1.0\n",
      "        2542       0.00      0.00      0.00       0.0\n",
      "        2792       0.00      0.00      0.00       0.0\n",
      "        2831       0.00      0.00      0.00       1.0\n",
      "        2961       0.00      0.00      0.00       1.0\n",
      "        2963       0.00      0.00      0.00       1.0\n",
      "        2964       0.00      0.00      0.00       1.0\n",
      "        3083       0.00      0.00      0.00       1.0\n",
      "        3087       0.00      0.00      0.00       1.0\n",
      "        3130       0.00      0.00      0.00       1.0\n",
      "        3131       0.00      0.00      0.00       1.0\n",
      "        3338       0.00      0.00      0.00       1.0\n",
      "        3354       0.00      0.00      0.00       0.0\n",
      "        3450       0.00      0.00      0.00       1.0\n",
      "        3458       0.00      0.00      0.00       0.0\n",
      "        3460       0.00      0.00      0.00       0.0\n",
      "        3704       0.00      0.00      0.00       0.0\n",
      "        3968       0.00      0.00      0.00       1.0\n",
      "        4048       0.00      0.00      0.00       0.0\n",
      "        4165       0.00      0.00      0.00       0.0\n",
      "        4419       0.00      0.00      0.00       1.0\n",
      "        4437       0.00      0.00      0.00       1.0\n",
      "        4497       0.00      0.00      0.00       0.0\n",
      "        4498       0.00      0.00      0.00       0.0\n",
      "        4527       0.00      0.00      0.00       0.0\n",
      "        4530       0.00      0.00      0.00       0.0\n",
      "        4612       0.00      0.00      0.00       1.0\n",
      "        4613       0.00      0.00      0.00       0.0\n",
      "        4802       0.00      0.00      0.00       1.0\n",
      "        4809       0.00      0.00      0.00       1.0\n",
      "        4849       0.00      0.00      0.00       1.0\n",
      "        4851       0.00      0.00      0.00       0.0\n",
      "        4997       0.00      0.00      0.00       0.0\n",
      "        5011       0.00      0.00      0.00       0.0\n",
      "        5027       0.00      0.00      0.00       1.0\n",
      "        5034       0.00      0.00      0.00       1.0\n",
      "        5375       0.00      0.00      0.00       1.0\n",
      "        5469       0.00      0.00      0.00       0.0\n",
      "        5513       0.00      0.00      0.00       1.0\n",
      "        5590       0.00      0.00      0.00       1.0\n",
      "        5603       0.00      0.00      0.00       1.0\n",
      "        5638       0.00      0.00      0.00       1.0\n",
      "        5684       0.00      0.00      0.00       1.0\n",
      "        5806       0.00      0.00      0.00       1.0\n",
      "        5808       0.00      0.00      0.00       1.0\n",
      "        6108       0.00      0.00      0.00       0.0\n",
      "        6496       0.00      0.00      0.00       1.0\n",
      "        6513       0.00      0.00      0.00       0.0\n",
      "        6556       0.00      0.00      0.00       1.0\n",
      "        6561       0.00      0.00      0.00       0.0\n",
      "        6631       0.00      0.00      0.00       0.0\n",
      "        6633       0.00      0.00      0.00       1.0\n",
      "        6676       0.00      0.00      0.00       1.0\n",
      "        6712       0.00      0.00      0.00       1.0\n",
      "        6723       0.00      0.00      0.00       0.0\n",
      "        6738       0.00      0.00      0.00       1.0\n",
      "        6789       0.00      0.00      0.00       1.0\n",
      "        6849       0.00      0.00      0.00       1.0\n",
      "        6855       0.00      0.00      0.00       1.0\n",
      "        6856       0.00      0.00      0.00       1.0\n",
      "        6956       0.00      0.00      0.00       0.0\n",
      "        7056       0.00      0.00      0.00       1.0\n",
      "        7134       0.00      0.00      0.00       0.0\n",
      "        7197       0.00      0.00      0.00       0.0\n",
      "        7230       0.00      0.00      0.00       0.0\n",
      "        7461       0.00      0.00      0.00       1.0\n",
      "        7466       0.00      0.00      0.00       0.0\n",
      "        7522       0.00      0.00      0.00       1.0\n",
      "        7539       0.00      0.00      0.00       1.0\n",
      "        7604       0.00      0.00      0.00       1.0\n",
      "        7626       0.00      0.00      0.00       1.0\n",
      "        7629       0.00      0.00      0.00       0.0\n",
      "        7637       0.00      0.00      0.00       0.0\n",
      "        7658       0.00      0.00      0.00       1.0\n",
      "        7663       0.00      0.00      0.00       1.0\n",
      "        7715       0.00      0.00      0.00       1.0\n",
      "        7735       0.00      0.00      0.00       0.0\n",
      "        7736       0.00      0.00      0.00       0.0\n",
      "        7897       0.00      0.00      0.00       1.0\n",
      "        8016       0.00      0.00      0.00       1.0\n",
      "        8087       0.00      0.00      0.00       1.0\n",
      "        8104       0.00      0.00      0.00       0.0\n",
      "        8122       0.00      0.00      0.00       1.0\n",
      "        8153       0.00      0.00      0.00       1.0\n",
      "        8305       0.00      0.00      0.00       1.0\n",
      "        8323       0.00      0.00      0.00       1.0\n",
      "        8327       0.00      0.00      0.00       1.0\n",
      "        8328       0.00      0.00      0.00       1.0\n",
      "        8355       0.00      0.00      0.00       0.0\n",
      "        8372       0.00      0.00      0.00       1.0\n",
      "        8447       0.00      0.00      0.00       0.0\n",
      "        8530       0.00      0.00      0.00       0.0\n",
      "        8611       0.00      0.00      0.00       1.0\n",
      "\n",
      "    accuracy                           0.00      78.0\n",
      "   macro avg       0.00      0.00      0.00      78.0\n",
      "weighted avg       0.00      0.00      0.00      78.0\n",
      "\n"
     ]
    },
    {
     "name": "stderr",
     "output_type": "stream",
     "text": [
      "/Users/filiberto/miniforge3/envs/phd-media/lib/python3.12/site-packages/sklearn/metrics/_classification.py:1509: UndefinedMetricWarning:\n",
      "\n",
      "Precision is ill-defined and being set to 0.0 in labels with no predicted samples. Use `zero_division` parameter to control this behavior.\n",
      "\n",
      "/Users/filiberto/miniforge3/envs/phd-media/lib/python3.12/site-packages/sklearn/metrics/_classification.py:1509: UndefinedMetricWarning:\n",
      "\n",
      "Recall is ill-defined and being set to 0.0 in labels with no true samples. Use `zero_division` parameter to control this behavior.\n",
      "\n",
      "/Users/filiberto/miniforge3/envs/phd-media/lib/python3.12/site-packages/sklearn/metrics/_classification.py:1509: UndefinedMetricWarning:\n",
      "\n",
      "Precision is ill-defined and being set to 0.0 in labels with no predicted samples. Use `zero_division` parameter to control this behavior.\n",
      "\n",
      "/Users/filiberto/miniforge3/envs/phd-media/lib/python3.12/site-packages/sklearn/metrics/_classification.py:1509: UndefinedMetricWarning:\n",
      "\n",
      "Recall is ill-defined and being set to 0.0 in labels with no true samples. Use `zero_division` parameter to control this behavior.\n",
      "\n",
      "/Users/filiberto/miniforge3/envs/phd-media/lib/python3.12/site-packages/sklearn/metrics/_classification.py:1509: UndefinedMetricWarning:\n",
      "\n",
      "Precision is ill-defined and being set to 0.0 in labels with no predicted samples. Use `zero_division` parameter to control this behavior.\n",
      "\n",
      "/Users/filiberto/miniforge3/envs/phd-media/lib/python3.12/site-packages/sklearn/metrics/_classification.py:1509: UndefinedMetricWarning:\n",
      "\n",
      "Recall is ill-defined and being set to 0.0 in labels with no true samples. Use `zero_division` parameter to control this behavior.\n",
      "\n"
     ]
    }
   ],
   "source": [
    "y_pred = model.predict(X_test)\n",
    "\n",
    "report = classification_report(\n",
    "    y_true=y_test,\n",
    "    y_pred=y_pred,\n",
    "    zero_division=\"warn\"\n",
    ")\n",
    "\n",
    "print(report)"
   ]
  },
  {
   "cell_type": "code",
   "execution_count": null,
   "metadata": {},
   "outputs": [],
   "source": []
  },
  {
   "cell_type": "code",
   "execution_count": null,
   "metadata": {},
   "outputs": [],
   "source": []
  },
  {
   "cell_type": "code",
   "execution_count": null,
   "metadata": {},
   "outputs": [],
   "source": []
  },
  {
   "cell_type": "markdown",
   "metadata": {},
   "source": [
    "### TODO\n",
    "\n",
    "* **How to standardise and integrate homologs:**\n",
    "    * [Homology database](https://www.ncbi.nlm.nih.gov/guide/homology/)\n",
    "    * BLASTP (local; all vs all)\n",
    "    * Sequence 100% identity + BLASTP\n",
    "    * Sequence non-100% identity + BLASTP\n",
    "    * UMAP + NN\n",
    "\n",
    "**IMPORTANT** We need the standardisation to have a matrix of genes x media instead of genomes x media"
   ]
  },
  {
   "cell_type": "code",
   "execution_count": null,
   "metadata": {},
   "outputs": [],
   "source": []
  },
  {
   "cell_type": "code",
   "execution_count": null,
   "metadata": {},
   "outputs": [],
   "source": []
  },
  {
   "cell_type": "code",
   "execution_count": null,
   "metadata": {},
   "outputs": [],
   "source": []
  }
 ],
 "metadata": {
  "kernelspec": {
   "display_name": "phd-media",
   "language": "python",
   "name": "python3"
  },
  "language_info": {
   "codemirror_mode": {
    "name": "ipython",
    "version": 3
   },
   "file_extension": ".py",
   "mimetype": "text/x-python",
   "name": "python",
   "nbconvert_exporter": "python",
   "pygments_lexer": "ipython3",
   "version": "3.12.2"
  }
 },
 "nbformat": 4,
 "nbformat_minor": 2
}
