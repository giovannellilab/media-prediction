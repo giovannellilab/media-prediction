{
 "cells": [
  {
   "cell_type": "markdown",
   "metadata": {},
   "source": [
    "# Predict media from taxa"
   ]
  },
  {
   "cell_type": "code",
   "execution_count": 1,
   "metadata": {
    "tags": []
   },
   "outputs": [],
   "source": [
    "import pandas as pd\n",
    "from matplotlib import pyplot as plt\n",
    "import plotly.express as px\n",
    "from sklearn.cluster import KMeans\n",
    "import umap\n",
    "\n",
    "import os\n",
    "DATA_DIR = \"~/Desktop/code/data/\""
   ]
  },
  {
   "cell_type": "code",
   "execution_count": 2,
   "metadata": {
    "tags": []
   },
   "outputs": [
    {
     "data": {
      "text/html": [
       "<div>\n",
       "<style scoped>\n",
       "    .dataframe tbody tr th:only-of-type {\n",
       "        vertical-align: middle;\n",
       "    }\n",
       "\n",
       "    .dataframe tbody tr th {\n",
       "        vertical-align: top;\n",
       "    }\n",
       "\n",
       "    .dataframe thead th {\n",
       "        text-align: right;\n",
       "    }\n",
       "</style>\n",
       "<table border=\"1\" class=\"dataframe\">\n",
       "  <thead>\n",
       "    <tr style=\"text-align: right;\">\n",
       "      <th>component_id</th>\n",
       "      <th>taxon_id</th>\n",
       "      <th>media_id</th>\n",
       "      <th>4</th>\n",
       "      <th>18</th>\n",
       "      <th>33</th>\n",
       "      <th>37</th>\n",
       "      <th>46</th>\n",
       "      <th>47</th>\n",
       "      <th>56</th>\n",
       "      <th>60</th>\n",
       "      <th>...</th>\n",
       "      <th>337</th>\n",
       "      <th>430</th>\n",
       "      <th>497</th>\n",
       "      <th>498</th>\n",
       "      <th>506</th>\n",
       "      <th>616</th>\n",
       "      <th>688</th>\n",
       "      <th>754</th>\n",
       "      <th>1353</th>\n",
       "      <th>1359</th>\n",
       "    </tr>\n",
       "  </thead>\n",
       "  <tbody>\n",
       "    <tr>\n",
       "      <th>0</th>\n",
       "      <td>100</td>\n",
       "      <td>J349</td>\n",
       "      <td>0.0</td>\n",
       "      <td>0.0</td>\n",
       "      <td>0.0</td>\n",
       "      <td>0.0</td>\n",
       "      <td>0.0</td>\n",
       "      <td>0.0</td>\n",
       "      <td>0.0</td>\n",
       "      <td>0.0</td>\n",
       "      <td>...</td>\n",
       "      <td>0.0</td>\n",
       "      <td>0.0</td>\n",
       "      <td>0.0</td>\n",
       "      <td>0.0</td>\n",
       "      <td>0.0</td>\n",
       "      <td>0.0</td>\n",
       "      <td>0.0</td>\n",
       "      <td>0.0</td>\n",
       "      <td>0.0</td>\n",
       "      <td>0.0</td>\n",
       "    </tr>\n",
       "    <tr>\n",
       "      <th>1</th>\n",
       "      <td>1003997</td>\n",
       "      <td>J1052</td>\n",
       "      <td>4.0</td>\n",
       "      <td>0.0</td>\n",
       "      <td>0.0</td>\n",
       "      <td>0.0</td>\n",
       "      <td>0.0</td>\n",
       "      <td>0.0</td>\n",
       "      <td>0.0</td>\n",
       "      <td>0.0</td>\n",
       "      <td>...</td>\n",
       "      <td>0.0</td>\n",
       "      <td>0.0</td>\n",
       "      <td>0.0</td>\n",
       "      <td>0.0</td>\n",
       "      <td>0.0</td>\n",
       "      <td>0.0</td>\n",
       "      <td>0.0</td>\n",
       "      <td>0.0</td>\n",
       "      <td>0.0</td>\n",
       "      <td>0.0</td>\n",
       "    </tr>\n",
       "    <tr>\n",
       "      <th>2</th>\n",
       "      <td>100468</td>\n",
       "      <td>J13</td>\n",
       "      <td>4.0</td>\n",
       "      <td>0.0</td>\n",
       "      <td>0.0</td>\n",
       "      <td>0.0</td>\n",
       "      <td>0.0</td>\n",
       "      <td>0.0</td>\n",
       "      <td>0.0</td>\n",
       "      <td>0.0</td>\n",
       "      <td>...</td>\n",
       "      <td>0.0</td>\n",
       "      <td>0.0</td>\n",
       "      <td>0.0</td>\n",
       "      <td>0.0</td>\n",
       "      <td>0.0</td>\n",
       "      <td>0.0</td>\n",
       "      <td>0.0</td>\n",
       "      <td>0.0</td>\n",
       "      <td>0.0</td>\n",
       "      <td>0.0</td>\n",
       "    </tr>\n",
       "    <tr>\n",
       "      <th>3</th>\n",
       "      <td>1005740</td>\n",
       "      <td>J940</td>\n",
       "      <td>0.0</td>\n",
       "      <td>0.0</td>\n",
       "      <td>0.0</td>\n",
       "      <td>1.0</td>\n",
       "      <td>0.0</td>\n",
       "      <td>0.0</td>\n",
       "      <td>0.0</td>\n",
       "      <td>0.0</td>\n",
       "      <td>...</td>\n",
       "      <td>0.0</td>\n",
       "      <td>0.0</td>\n",
       "      <td>0.0</td>\n",
       "      <td>0.0</td>\n",
       "      <td>0.0</td>\n",
       "      <td>0.0</td>\n",
       "      <td>0.0</td>\n",
       "      <td>0.0</td>\n",
       "      <td>0.0</td>\n",
       "      <td>0.0</td>\n",
       "    </tr>\n",
       "    <tr>\n",
       "      <th>4</th>\n",
       "      <td>1005944</td>\n",
       "      <td>J346</td>\n",
       "      <td>0.0</td>\n",
       "      <td>0.0</td>\n",
       "      <td>0.0</td>\n",
       "      <td>0.0</td>\n",
       "      <td>0.0</td>\n",
       "      <td>0.0</td>\n",
       "      <td>0.0</td>\n",
       "      <td>0.0</td>\n",
       "      <td>...</td>\n",
       "      <td>0.0</td>\n",
       "      <td>0.0</td>\n",
       "      <td>0.0</td>\n",
       "      <td>0.0</td>\n",
       "      <td>0.0</td>\n",
       "      <td>0.0</td>\n",
       "      <td>0.0</td>\n",
       "      <td>0.0</td>\n",
       "      <td>0.0</td>\n",
       "      <td>0.0</td>\n",
       "    </tr>\n",
       "  </tbody>\n",
       "</table>\n",
       "<p>5 rows × 47 columns</p>\n",
       "</div>"
      ],
      "text/plain": [
       "component_id taxon_id media_id    4   18   33   37   46   47   56   60  ...  \\\n",
       "0                 100     J349  0.0  0.0  0.0  0.0  0.0  0.0  0.0  0.0  ...   \n",
       "1             1003997    J1052  4.0  0.0  0.0  0.0  0.0  0.0  0.0  0.0  ...   \n",
       "2              100468      J13  4.0  0.0  0.0  0.0  0.0  0.0  0.0  0.0  ...   \n",
       "3             1005740     J940  0.0  0.0  0.0  1.0  0.0  0.0  0.0  0.0  ...   \n",
       "4             1005944     J346  0.0  0.0  0.0  0.0  0.0  0.0  0.0  0.0  ...   \n",
       "\n",
       "component_id  337  430  497  498  506  616  688  754  1353  1359  \n",
       "0             0.0  0.0  0.0  0.0  0.0  0.0  0.0  0.0   0.0   0.0  \n",
       "1             0.0  0.0  0.0  0.0  0.0  0.0  0.0  0.0   0.0   0.0  \n",
       "2             0.0  0.0  0.0  0.0  0.0  0.0  0.0  0.0   0.0   0.0  \n",
       "3             0.0  0.0  0.0  0.0  0.0  0.0  0.0  0.0   0.0   0.0  \n",
       "4             0.0  0.0  0.0  0.0  0.0  0.0  0.0  0.0   0.0   0.0  \n",
       "\n",
       "[5 rows x 47 columns]"
      ]
     },
     "execution_count": 2,
     "metadata": {},
     "output_type": "execute_result"
    }
   ],
   "source": [
    "data_df = pd.read_csv(os.path.join(DATA_DIR, \"media2ec-explode.csv\"), low_memory=False)\n",
    "\n",
    "data_df = data_df.dropna(subset='component_id', how='any')\n",
    "data_df['component_id'] = data_df['component_id'].astype(int)\n",
    "\n",
    "data_df = data_df[[\"taxon_id\", \"media_id\", \"component_id\"]]\\\n",
    "    .value_counts()\\\n",
    "    .reset_index()\n",
    "\n",
    "data_df = data_df.pivot(\n",
    "    index=[\"taxon_id\", \"media_id\"],\n",
    "    columns=\"component_id\",\n",
    "    values=\"count\"\n",
    ")\n",
    "data_df = data_df.fillna(0.0).reset_index()\n",
    "data_df.head()"
   ]
  },
  {
   "cell_type": "markdown",
   "metadata": {},
   "source": [
    "## Model"
   ]
  },
  {
   "cell_type": "markdown",
   "metadata": {},
   "source": [
    "### Strategy for splitting"
   ]
  },
  {
   "cell_type": "code",
   "execution_count": 3,
   "metadata": {},
   "outputs": [],
   "source": [
    "TARGET_VAR = \"media_id\"\n",
    "RANDOM_SEED = 666\n",
    "UMAP_METRIC = \"euclidean\"\n",
    "UMAP_SEED = 42"
   ]
  },
  {
   "cell_type": "code",
   "execution_count": 4,
   "metadata": {},
   "outputs": [],
   "source": [
    "from sklearn.model_selection import train_test_split\n",
    "\n",
    "X_train, X_test, y_train, y_test = train_test_split(\n",
    "    data_df.drop([\"taxon_id\", \"media_id\"], axis=1),\n",
    "    data_df[TARGET_VAR],\n",
    "    test_size=0.2,\n",
    "    random_state=RANDOM_SEED\n",
    ")"
   ]
  },
  {
   "cell_type": "markdown",
   "metadata": {},
   "source": [
    "### Dimensionality reduction"
   ]
  },
  {
   "cell_type": "code",
   "execution_count": 5,
   "metadata": {},
   "outputs": [
    {
     "data": {
      "text/html": [
       "<div>\n",
       "<style scoped>\n",
       "    .dataframe tbody tr th:only-of-type {\n",
       "        vertical-align: middle;\n",
       "    }\n",
       "\n",
       "    .dataframe tbody tr th {\n",
       "        vertical-align: top;\n",
       "    }\n",
       "\n",
       "    .dataframe thead th {\n",
       "        text-align: right;\n",
       "    }\n",
       "</style>\n",
       "<table border=\"1\" class=\"dataframe\">\n",
       "  <thead>\n",
       "    <tr style=\"text-align: right;\">\n",
       "      <th></th>\n",
       "      <th>Component 1</th>\n",
       "      <th>Component 2</th>\n",
       "      <th>Component 3</th>\n",
       "      <th>Component 4</th>\n",
       "      <th>Component 5</th>\n",
       "    </tr>\n",
       "  </thead>\n",
       "  <tbody>\n",
       "    <tr>\n",
       "      <th>0</th>\n",
       "      <td>17.562004</td>\n",
       "      <td>3.846345</td>\n",
       "      <td>15.447453</td>\n",
       "      <td>9.840640</td>\n",
       "      <td>2.074880</td>\n",
       "    </tr>\n",
       "    <tr>\n",
       "      <th>1</th>\n",
       "      <td>12.171132</td>\n",
       "      <td>-4.933949</td>\n",
       "      <td>-0.648737</td>\n",
       "      <td>8.836231</td>\n",
       "      <td>3.086252</td>\n",
       "    </tr>\n",
       "    <tr>\n",
       "      <th>2</th>\n",
       "      <td>8.962107</td>\n",
       "      <td>3.972637</td>\n",
       "      <td>6.885884</td>\n",
       "      <td>1.353348</td>\n",
       "      <td>4.090684</td>\n",
       "    </tr>\n",
       "    <tr>\n",
       "      <th>3</th>\n",
       "      <td>1.656117</td>\n",
       "      <td>16.308117</td>\n",
       "      <td>4.628855</td>\n",
       "      <td>5.379225</td>\n",
       "      <td>5.739601</td>\n",
       "    </tr>\n",
       "    <tr>\n",
       "      <th>4</th>\n",
       "      <td>8.840848</td>\n",
       "      <td>3.840206</td>\n",
       "      <td>6.932928</td>\n",
       "      <td>1.204266</td>\n",
       "      <td>4.028773</td>\n",
       "    </tr>\n",
       "  </tbody>\n",
       "</table>\n",
       "</div>"
      ],
      "text/plain": [
       "   Component 1  Component 2  Component 3  Component 4  Component 5\n",
       "0    17.562004     3.846345    15.447453     9.840640     2.074880\n",
       "1    12.171132    -4.933949    -0.648737     8.836231     3.086252\n",
       "2     8.962107     3.972637     6.885884     1.353348     4.090684\n",
       "3     1.656117    16.308117     4.628855     5.379225     5.739601\n",
       "4     8.840848     3.840206     6.932928     1.204266     4.028773"
      ]
     },
     "execution_count": 5,
     "metadata": {},
     "output_type": "execute_result"
    }
   ],
   "source": [
    "# Define the pipeline\n",
    "reducer = umap.UMAP(\n",
    "        metric=\"euclidean\",\n",
    "        n_epochs=500,\n",
    "        random_state=RANDOM_SEED,\n",
    "        n_jobs=1,\n",
    "        n_neighbors=5,\n",
    "        n_components=5,\n",
    "        min_dist=0.4\n",
    "    )\n",
    "\n",
    "reduced = reducer.fit_transform(X_train)\n",
    "reduced_df = pd.DataFrame(reduced, columns=[f\"Component {i+1}\" for i in range(reduced.shape[1])])\n",
    "\n",
    "reduced_df.head()"
   ]
  },
  {
   "cell_type": "markdown",
   "metadata": {},
   "source": [
    "### Clustering"
   ]
  },
  {
   "cell_type": "code",
   "execution_count": 6,
   "metadata": {},
   "outputs": [
    {
     "name": "stderr",
     "output_type": "stream",
     "text": [
      "c:\\Users\\jakel\\anaconda3\\envs\\media\\Lib\\site-packages\\sklearn\\cluster\\_kmeans.py:1426: UserWarning: KMeans is known to have a memory leak on Windows with MKL, when there are less chunks than available threads. You can avoid it by setting the environment variable OMP_NUM_THREADS=11.\n",
      "  warnings.warn(\n",
      "c:\\Users\\jakel\\anaconda3\\envs\\media\\Lib\\site-packages\\sklearn\\cluster\\_kmeans.py:1426: UserWarning: KMeans is known to have a memory leak on Windows with MKL, when there are less chunks than available threads. You can avoid it by setting the environment variable OMP_NUM_THREADS=11.\n",
      "  warnings.warn(\n",
      "c:\\Users\\jakel\\anaconda3\\envs\\media\\Lib\\site-packages\\sklearn\\cluster\\_kmeans.py:1426: UserWarning: KMeans is known to have a memory leak on Windows with MKL, when there are less chunks than available threads. You can avoid it by setting the environment variable OMP_NUM_THREADS=11.\n",
      "  warnings.warn(\n",
      "c:\\Users\\jakel\\anaconda3\\envs\\media\\Lib\\site-packages\\sklearn\\cluster\\_kmeans.py:1426: UserWarning: KMeans is known to have a memory leak on Windows with MKL, when there are less chunks than available threads. You can avoid it by setting the environment variable OMP_NUM_THREADS=11.\n",
      "  warnings.warn(\n",
      "c:\\Users\\jakel\\anaconda3\\envs\\media\\Lib\\site-packages\\sklearn\\cluster\\_kmeans.py:1426: UserWarning: KMeans is known to have a memory leak on Windows with MKL, when there are less chunks than available threads. You can avoid it by setting the environment variable OMP_NUM_THREADS=11.\n",
      "  warnings.warn(\n",
      "c:\\Users\\jakel\\anaconda3\\envs\\media\\Lib\\site-packages\\sklearn\\cluster\\_kmeans.py:1426: UserWarning: KMeans is known to have a memory leak on Windows with MKL, when there are less chunks than available threads. You can avoid it by setting the environment variable OMP_NUM_THREADS=11.\n",
      "  warnings.warn(\n",
      "c:\\Users\\jakel\\anaconda3\\envs\\media\\Lib\\site-packages\\sklearn\\cluster\\_kmeans.py:1426: UserWarning: KMeans is known to have a memory leak on Windows with MKL, when there are less chunks than available threads. You can avoid it by setting the environment variable OMP_NUM_THREADS=11.\n",
      "  warnings.warn(\n",
      "c:\\Users\\jakel\\anaconda3\\envs\\media\\Lib\\site-packages\\sklearn\\cluster\\_kmeans.py:1426: UserWarning: KMeans is known to have a memory leak on Windows with MKL, when there are less chunks than available threads. You can avoid it by setting the environment variable OMP_NUM_THREADS=11.\n",
      "  warnings.warn(\n",
      "c:\\Users\\jakel\\anaconda3\\envs\\media\\Lib\\site-packages\\sklearn\\cluster\\_kmeans.py:1426: UserWarning: KMeans is known to have a memory leak on Windows with MKL, when there are less chunks than available threads. You can avoid it by setting the environment variable OMP_NUM_THREADS=11.\n",
      "  warnings.warn(\n",
      "c:\\Users\\jakel\\anaconda3\\envs\\media\\Lib\\site-packages\\sklearn\\cluster\\_kmeans.py:1426: UserWarning: KMeans is known to have a memory leak on Windows with MKL, when there are less chunks than available threads. You can avoid it by setting the environment variable OMP_NUM_THREADS=11.\n",
      "  warnings.warn(\n",
      "c:\\Users\\jakel\\anaconda3\\envs\\media\\Lib\\site-packages\\sklearn\\cluster\\_kmeans.py:1426: UserWarning: KMeans is known to have a memory leak on Windows with MKL, when there are less chunks than available threads. You can avoid it by setting the environment variable OMP_NUM_THREADS=11.\n",
      "  warnings.warn(\n",
      "c:\\Users\\jakel\\anaconda3\\envs\\media\\Lib\\site-packages\\sklearn\\cluster\\_kmeans.py:1426: UserWarning: KMeans is known to have a memory leak on Windows with MKL, when there are less chunks than available threads. You can avoid it by setting the environment variable OMP_NUM_THREADS=11.\n",
      "  warnings.warn(\n",
      "c:\\Users\\jakel\\anaconda3\\envs\\media\\Lib\\site-packages\\sklearn\\cluster\\_kmeans.py:1426: UserWarning: KMeans is known to have a memory leak on Windows with MKL, when there are less chunks than available threads. You can avoid it by setting the environment variable OMP_NUM_THREADS=11.\n",
      "  warnings.warn(\n",
      "c:\\Users\\jakel\\anaconda3\\envs\\media\\Lib\\site-packages\\sklearn\\cluster\\_kmeans.py:1426: UserWarning: KMeans is known to have a memory leak on Windows with MKL, when there are less chunks than available threads. You can avoid it by setting the environment variable OMP_NUM_THREADS=11.\n",
      "  warnings.warn(\n",
      "c:\\Users\\jakel\\anaconda3\\envs\\media\\Lib\\site-packages\\sklearn\\cluster\\_kmeans.py:1426: UserWarning: KMeans is known to have a memory leak on Windows with MKL, when there are less chunks than available threads. You can avoid it by setting the environment variable OMP_NUM_THREADS=11.\n",
      "  warnings.warn(\n",
      "c:\\Users\\jakel\\anaconda3\\envs\\media\\Lib\\site-packages\\sklearn\\cluster\\_kmeans.py:1426: UserWarning: KMeans is known to have a memory leak on Windows with MKL, when there are less chunks than available threads. You can avoid it by setting the environment variable OMP_NUM_THREADS=11.\n",
      "  warnings.warn(\n",
      "c:\\Users\\jakel\\anaconda3\\envs\\media\\Lib\\site-packages\\sklearn\\cluster\\_kmeans.py:1426: UserWarning: KMeans is known to have a memory leak on Windows with MKL, when there are less chunks than available threads. You can avoid it by setting the environment variable OMP_NUM_THREADS=11.\n",
      "  warnings.warn(\n"
     ]
    },
    {
     "name": "stdout",
     "output_type": "stream",
     "text": [
      "15 clusters returns a maximum Silhouette Coefficient of 0.7919903993606567\n"
     ]
    },
    {
     "name": "stderr",
     "output_type": "stream",
     "text": [
      "c:\\Users\\jakel\\anaconda3\\envs\\media\\Lib\\site-packages\\sklearn\\cluster\\_kmeans.py:1426: UserWarning: KMeans is known to have a memory leak on Windows with MKL, when there are less chunks than available threads. You can avoid it by setting the environment variable OMP_NUM_THREADS=11.\n",
      "  warnings.warn(\n"
     ]
    }
   ],
   "source": [
    "# Silhouette coefficient method\n",
    "from sklearn.metrics import silhouette_score\n",
    "\n",
    "# Set variables\n",
    "X = reduced\n",
    "y = TARGET_VAR\n",
    "clusters = []\n",
    "\n",
    "# Test a range of clusters for their silhouette coefficients\n",
    "for n_cluster in range(2, 20):\n",
    "    kmeans = KMeans(n_clusters=n_cluster).fit(X)\n",
    "    label = kmeans.labels_\n",
    "    sil_coeff = silhouette_score(X, label, metric='euclidean')\n",
    "    clusters.append({'n_clusters': n_cluster, 'coefficient': sil_coeff})\n",
    "\n",
    "# Select the maximum coefficient\n",
    "clusters = pd.DataFrame(clusters)\n",
    "c = clusters.iloc[clusters[\"coefficient\"].argmax()][\"n_clusters\"]\n",
    "s = clusters[\"coefficient\"].max()\n",
    "n = int(c)\n",
    "\n",
    "print(\"{} clusters returns a maximum Silhouette Coefficient of {}\".format(n, s))"
   ]
  },
  {
   "cell_type": "code",
   "execution_count": 7,
   "metadata": {},
   "outputs": [
    {
     "name": "stderr",
     "output_type": "stream",
     "text": [
      "c:\\Users\\jakel\\anaconda3\\envs\\media\\Lib\\site-packages\\sklearn\\cluster\\_kmeans.py:1426: UserWarning: KMeans is known to have a memory leak on Windows with MKL, when there are less chunks than available threads. You can avoid it by setting the environment variable OMP_NUM_THREADS=11.\n",
      "  warnings.warn(\n"
     ]
    }
   ],
   "source": [
    "cluster = KMeans(\n",
    "    n_clusters=n,\n",
    "    random_state=RANDOM_SEED\n",
    ")\n",
    "reduced_df[\"Cluster\"] = cluster.fit_predict(reduced_df.values)\n",
    "reduced_df[\"Cluster\"] = reduced_df[\"Cluster\"].astype(str)"
   ]
  },
  {
   "cell_type": "code",
   "execution_count": 8,
   "metadata": {},
   "outputs": [
    {
     "data": {
      "text/html": [
       "<div>\n",
       "<style scoped>\n",
       "    .dataframe tbody tr th:only-of-type {\n",
       "        vertical-align: middle;\n",
       "    }\n",
       "\n",
       "    .dataframe tbody tr th {\n",
       "        vertical-align: top;\n",
       "    }\n",
       "\n",
       "    .dataframe thead th {\n",
       "        text-align: right;\n",
       "    }\n",
       "</style>\n",
       "<table border=\"1\" class=\"dataframe\">\n",
       "  <thead>\n",
       "    <tr style=\"text-align: right;\">\n",
       "      <th></th>\n",
       "      <th>Component 1</th>\n",
       "      <th>Component 2</th>\n",
       "      <th>Component 3</th>\n",
       "      <th>Component 4</th>\n",
       "      <th>Component 5</th>\n",
       "      <th>Cluster</th>\n",
       "      <th>taxon_id</th>\n",
       "      <th>media_id</th>\n",
       "    </tr>\n",
       "  </thead>\n",
       "  <tbody>\n",
       "    <tr>\n",
       "      <th>0</th>\n",
       "      <td>17.562004</td>\n",
       "      <td>3.846345</td>\n",
       "      <td>15.447453</td>\n",
       "      <td>9.840640</td>\n",
       "      <td>2.074880</td>\n",
       "      <td>3</td>\n",
       "      <td>[{'NCBI tax id': 2666142, 'Matching level': 's...</td>\n",
       "      <td>J574</td>\n",
       "    </tr>\n",
       "    <tr>\n",
       "      <th>1</th>\n",
       "      <td>12.171132</td>\n",
       "      <td>-4.933949</td>\n",
       "      <td>-0.648737</td>\n",
       "      <td>8.836231</td>\n",
       "      <td>3.086252</td>\n",
       "      <td>4</td>\n",
       "      <td>160826</td>\n",
       "      <td>621a</td>\n",
       "    </tr>\n",
       "    <tr>\n",
       "      <th>2</th>\n",
       "      <td>8.962107</td>\n",
       "      <td>3.972637</td>\n",
       "      <td>6.885884</td>\n",
       "      <td>1.353348</td>\n",
       "      <td>4.090684</td>\n",
       "      <td>11</td>\n",
       "      <td>392717</td>\n",
       "      <td>J118</td>\n",
       "    </tr>\n",
       "    <tr>\n",
       "      <th>3</th>\n",
       "      <td>1.656117</td>\n",
       "      <td>16.308117</td>\n",
       "      <td>4.628855</td>\n",
       "      <td>5.379225</td>\n",
       "      <td>5.739601</td>\n",
       "      <td>1</td>\n",
       "      <td>2662397</td>\n",
       "      <td>J42</td>\n",
       "    </tr>\n",
       "    <tr>\n",
       "      <th>4</th>\n",
       "      <td>8.840848</td>\n",
       "      <td>3.840206</td>\n",
       "      <td>6.932928</td>\n",
       "      <td>1.204266</td>\n",
       "      <td>4.028773</td>\n",
       "      <td>11</td>\n",
       "      <td>296745</td>\n",
       "      <td>J557</td>\n",
       "    </tr>\n",
       "    <tr>\n",
       "      <th>...</th>\n",
       "      <td>...</td>\n",
       "      <td>...</td>\n",
       "      <td>...</td>\n",
       "      <td>...</td>\n",
       "      <td>...</td>\n",
       "      <td>...</td>\n",
       "      <td>...</td>\n",
       "      <td>...</td>\n",
       "    </tr>\n",
       "    <tr>\n",
       "      <th>2601</th>\n",
       "      <td>12.453756</td>\n",
       "      <td>-4.993497</td>\n",
       "      <td>-0.468073</td>\n",
       "      <td>9.109997</td>\n",
       "      <td>2.908635</td>\n",
       "      <td>4</td>\n",
       "      <td>1096779</td>\n",
       "      <td>J25</td>\n",
       "    </tr>\n",
       "    <tr>\n",
       "      <th>2602</th>\n",
       "      <td>8.499832</td>\n",
       "      <td>3.416436</td>\n",
       "      <td>6.854227</td>\n",
       "      <td>1.232787</td>\n",
       "      <td>4.018574</td>\n",
       "      <td>11</td>\n",
       "      <td>[{'NCBI tax id': 1423716, 'Matching level': 's...</td>\n",
       "      <td>J13</td>\n",
       "    </tr>\n",
       "    <tr>\n",
       "      <th>2603</th>\n",
       "      <td>10.311670</td>\n",
       "      <td>-0.674405</td>\n",
       "      <td>3.239191</td>\n",
       "      <td>7.071715</td>\n",
       "      <td>2.459418</td>\n",
       "      <td>4</td>\n",
       "      <td>43767</td>\n",
       "      <td>J22</td>\n",
       "    </tr>\n",
       "    <tr>\n",
       "      <th>2604</th>\n",
       "      <td>8.556709</td>\n",
       "      <td>3.473586</td>\n",
       "      <td>6.973616</td>\n",
       "      <td>1.144478</td>\n",
       "      <td>4.097568</td>\n",
       "      <td>11</td>\n",
       "      <td>426114</td>\n",
       "      <td>35a</td>\n",
       "    </tr>\n",
       "    <tr>\n",
       "      <th>2605</th>\n",
       "      <td>1.804779</td>\n",
       "      <td>16.138361</td>\n",
       "      <td>5.682637</td>\n",
       "      <td>5.625610</td>\n",
       "      <td>4.789271</td>\n",
       "      <td>1</td>\n",
       "      <td>634765</td>\n",
       "      <td>514c</td>\n",
       "    </tr>\n",
       "  </tbody>\n",
       "</table>\n",
       "<p>2606 rows × 8 columns</p>\n",
       "</div>"
      ],
      "text/plain": [
       "      Component 1  Component 2  Component 3  Component 4  Component 5 Cluster  \\\n",
       "0       17.562004     3.846345    15.447453     9.840640     2.074880       3   \n",
       "1       12.171132    -4.933949    -0.648737     8.836231     3.086252       4   \n",
       "2        8.962107     3.972637     6.885884     1.353348     4.090684      11   \n",
       "3        1.656117    16.308117     4.628855     5.379225     5.739601       1   \n",
       "4        8.840848     3.840206     6.932928     1.204266     4.028773      11   \n",
       "...           ...          ...          ...          ...          ...     ...   \n",
       "2601    12.453756    -4.993497    -0.468073     9.109997     2.908635       4   \n",
       "2602     8.499832     3.416436     6.854227     1.232787     4.018574      11   \n",
       "2603    10.311670    -0.674405     3.239191     7.071715     2.459418       4   \n",
       "2604     8.556709     3.473586     6.973616     1.144478     4.097568      11   \n",
       "2605     1.804779    16.138361     5.682637     5.625610     4.789271       1   \n",
       "\n",
       "                                               taxon_id media_id  \n",
       "0     [{'NCBI tax id': 2666142, 'Matching level': 's...     J574  \n",
       "1                                                160826     621a  \n",
       "2                                                392717     J118  \n",
       "3                                               2662397      J42  \n",
       "4                                                296745     J557  \n",
       "...                                                 ...      ...  \n",
       "2601                                            1096779      J25  \n",
       "2602  [{'NCBI tax id': 1423716, 'Matching level': 's...      J13  \n",
       "2603                                              43767      J22  \n",
       "2604                                             426114      35a  \n",
       "2605                                             634765     514c  \n",
       "\n",
       "[2606 rows x 8 columns]"
      ]
     },
     "execution_count": 8,
     "metadata": {},
     "output_type": "execute_result"
    }
   ],
   "source": [
    "# Add ID columns\n",
    "reduced_df[[\"taxon_id\", \"media_id\"]] = \\\n",
    "    data_df.loc[X_train.index, [\"taxon_id\", \"media_id\"]].values\n",
    "\n",
    "reduced_df"
   ]
  },
  {
   "cell_type": "code",
   "execution_count": 9,
   "metadata": {},
   "outputs": [],
   "source": [
    "reduced_df.to_csv(os.path.join(DATA_DIR, \"comp-model.csv\"), index=False)"
   ]
  },
  {
   "cell_type": "markdown",
   "metadata": {},
   "source": [
    "#### Visualise the results"
   ]
  },
  {
   "cell_type": "code",
   "execution_count": 10,
   "metadata": {},
   "outputs": [
    {
     "data": {
      "application/vnd.plotly.v1+json": {
       "config": {
        "plotlyServerURL": "https://plot.ly"
       },
       "data": [
        {
         "customdata": [
          [
           "[{'NCBI tax id': 2666142, 'Matching level': 'species'}, {'NCBI tax id': 2253, 'Matching level': 'species'}]",
           "J574"
          ],
          [
           "[{'NCBI tax id': 1315969, 'Matching level': 'strain'}, {'NCBI tax id': 442, 'Matching level': 'species'}]",
           "J598"
          ],
          [
           "855",
           "J14"
          ],
          [
           "214014",
           "J14"
          ],
          [
           "[{'NCBI tax id': 76122, 'Matching level': 'species'}, {'NCBI tax id': 626522, 'Matching level': 'strain'}]",
           "J677"
          ],
          [
           "2656650",
           "J475"
          ],
          [
           "1429915",
           "J574"
          ],
          [
           "53442",
           "J14"
          ],
          [
           "1849278",
           "J612"
          ],
          [
           "610244",
           "J709"
          ],
          [
           "[{'NCBI tax id': 1120949, 'Matching level': 'strain'}, {'NCBI tax id': 113565, 'Matching level': 'species'}]",
           "J42"
          ],
          [
           "2665642",
           "J569"
          ],
          [
           "2584944",
           "J14"
          ],
          [
           "423605",
           "J661"
          ],
          [
           "[{'NCBI tax id': 1123374, 'Matching level': 'strain'}, {'NCBI tax id': 412896, 'Matching level': 'species'}]",
           "J544"
          ],
          [
           "1890",
           "J42"
          ],
          [
           "58340",
           "J42"
          ],
          [
           "51669",
           "J509"
          ],
          [
           "1783498",
           "J528"
          ],
          [
           "306540",
           "J596"
          ],
          [
           "[{'NCBI tax id': 1220586, 'Matching level': 'strain'}, {'NCBI tax id': 360185, 'Matching level': 'species'}]",
           "J652"
          ],
          [
           "2652282",
           "J14"
          ],
          [
           "1871022",
           "J14"
          ],
          [
           "104098",
           "J709"
          ],
          [
           "2494234",
           "J677"
          ],
          [
           "1076588",
           "J493"
          ],
          [
           "660517",
           "J574"
          ],
          [
           "217067",
           "J631"
          ],
          [
           "1682",
           "J19"
          ],
          [
           "452979",
           "J43"
          ],
          [
           "225325",
           "J486"
          ],
          [
           "859243",
           "J778"
          ],
          [
           "100884",
           "J14"
          ],
          [
           "[{'NCBI tax id': 649762, 'Matching level': 'strain'}, {'NCBI tax id': 89014, 'Matching level': 'species'}]",
           "J675"
          ],
          [
           "[{'NCBI tax id': 411477, 'Matching level': 'strain'}, {'NCBI tax id': 46503, 'Matching level': 'species'}]",
           "J14"
          ],
          [
           "1792174",
           "J475"
          ],
          [
           "[{'NCBI tax id': 1453497, 'Matching level': 'strain'}, {'NCBI tax id': 688066, 'Matching level': 'species'}]",
           "J755"
          ],
          [
           "1423",
           "J475"
          ],
          [
           "1472416",
           "J14"
          ],
          [
           "459472",
           "J582"
          ],
          [
           "229731",
           "J574"
          ],
          [
           "418199",
           "J21"
          ],
          [
           "651822",
           "J14"
          ],
          [
           "437897",
           "J14"
          ],
          [
           "374513",
           "J569"
          ],
          [
           "665118",
           "J601"
          ],
          [
           "1960",
           "J42"
          ],
          [
           "879970",
           "J786"
          ],
          [
           "1177728",
           "J14"
          ],
          [
           "1267",
           "J14"
          ],
          [
           "2108523",
           "J677"
          ],
          [
           "765201",
           "J569"
          ],
          [
           "438856",
           "J524"
          ],
          [
           "2650157",
           "J14"
          ],
          [
           "[{'NCBI tax id': 1120969, 'Matching level': 'strain'}, {'NCBI tax id': 561965, 'Matching level': 'species'}]",
           "J535"
          ],
          [
           "503834",
           "J678"
          ],
          [
           "376806",
           "J14"
          ],
          [
           "231447",
           "J553"
          ],
          [
           "1872699",
           "J574"
          ],
          [
           "568899",
           "J732"
          ],
          [
           "411567",
           "J676"
          ],
          [
           "[{'NCBI tax id': 860, 'Matching level': 'species'}, {'NCBI tax id': 546275, 'Matching level': 'strain'}]",
           "J14"
          ],
          [
           "[{'NCBI tax id': 1223517, 'Matching level': 'strain'}, {'NCBI tax id': 395387, 'Matching level': 'species'}]",
           "J591"
          ],
          [
           "435",
           "J597"
          ],
          [
           "992288",
           "J488"
          ],
          [
           "110479",
           "J709"
          ],
          [
           "[{'NCBI tax id': 1294260, 'Matching level': 'strain'}, {'NCBI tax id': 421624, 'Matching level': 'species'}]",
           "J747"
          ],
          [
           "438",
           "J597"
          ],
          [
           "489911",
           "J776"
          ],
          [
           "442",
           "J598"
          ],
          [
           "38308",
           "J710"
          ],
          [
           "[{'NCBI tax id': 1076594, 'Matching level': 'species'}, {'NCBI tax id': 1236501, 'Matching level': 'strain'}]",
           "J710"
          ],
          [
           "[{'NCBI tax id': 28131, 'Matching level': 'species'}, {'NCBI tax id': 1122984, 'Matching level': 'strain'}]",
           "J14"
          ],
          [
           "[{'NCBI tax id': 168695, 'Matching level': 'species'}, {'NCBI tax id': 369723, 'Matching level': 'strain'}]",
           "J720"
          ],
          [
           "[{'NCBI tax id': 762983, 'Matching level': 'strain'}, {'NCBI tax id': 626938, 'Matching level': 'species'}]",
           "J655"
          ],
          [
           "66424",
           "J42"
          ],
          [
           "[{'NCBI tax id': 468556, 'Matching level': 'strain'}, {'NCBI tax id': 1121721, 'Matching level': 'species'}]",
           "J505"
          ],
          [
           "197614",
           "J14"
          ],
          [
           "[{'NCBI tax id': 1218111, 'Matching level': 'strain'}, {'NCBI tax id': 996, 'Matching level': 'species'}]",
           "J739"
          ],
          [
           "1912090",
           "J14"
          ],
          [
           "440",
           "J597"
          ],
          [
           "544580",
           "J14"
          ],
          [
           "91915",
           "J710"
          ],
          [
           "[{'NCBI tax id': 879567, 'Matching level': 'species'}, {'NCBI tax id': 1322246, 'Matching level': 'strain'}]",
           "J565"
          ],
          [
           "[{'NCBI tax id': 220990, 'Matching level': 'species'}, {'NCBI tax id': 1307925, 'Matching level': 'strain'}]",
           "J709"
          ],
          [
           "869886",
           "J574"
          ],
          [
           "[{'NCBI tax id': 1088869, 'Matching level': 'strain'}, {'NCBI tax id': 479935, 'Matching level': 'species'}]",
           "J746"
          ],
          [
           "[{'NCBI tax id': 857293, 'Matching level': 'strain'}, {'NCBI tax id': 515264, 'Matching level': 'species'}]",
           "J684"
          ],
          [
           "[{'NCBI tax id': 610245, 'Matching level': 'species'}, {'NCBI tax id': 1236502, 'Matching level': 'strain'}]",
           "J709"
          ],
          [
           "29571",
           "J607"
          ],
          [
           "438",
           "J598"
          ],
          [
           "1526114",
           "J574"
          ],
          [
           "686226",
           "J586"
          ]
         ],
         "hovertemplate": "Cluster=3<br>Component 1=%{x}<br>Component 2=%{y}<br>taxon_id=%{customdata[0]}<br>media_id=%{customdata[1]}<extra></extra>",
         "legendgroup": "3",
         "marker": {
          "color": "#636efa",
          "opacity": 0.3,
          "symbol": "circle"
         },
         "mode": "markers",
         "name": "3",
         "showlegend": true,
         "type": "scattergl",
         "x": [
          17.56200408935547,
          17.52434539794922,
          17.68610382080078,
          17.67356300354004,
          17.495615005493164,
          17.535898208618164,
          17.72153091430664,
          17.63881492614746,
          17.59027671813965,
          17.555374145507812,
          17.508216857910156,
          17.79022979736328,
          17.77562141418457,
          17.459453582763672,
          17.64248275756836,
          17.374841690063477,
          17.324474334716797,
          17.5859375,
          17.578691482543945,
          17.481847763061523,
          17.531129837036133,
          17.416595458984375,
          17.34697151184082,
          17.422863006591797,
          17.33783721923828,
          17.250892639160156,
          17.29646873474121,
          17.365882873535156,
          17.433897018432617,
          17.5247859954834,
          17.672409057617188,
          17.497501373291016,
          17.81247901916504,
          17.36425018310547,
          17.598684310913086,
          17.438247680664062,
          17.422033309936523,
          17.468420028686523,
          17.52018165588379,
          17.504899978637695,
          17.505544662475586,
          17.618032455444336,
          17.393739700317383,
          17.620040893554688,
          17.633024215698242,
          17.678009033203125,
          17.46221923828125,
          17.6408634185791,
          17.47466468811035,
          17.579078674316406,
          17.601367950439453,
          17.72167205810547,
          17.41553497314453,
          17.5069580078125,
          17.808303833007812,
          17.49610137939453,
          17.41239356994629,
          17.699047088623047,
          17.59797477722168,
          17.56117820739746,
          17.71710205078125,
          17.57817840576172,
          17.672700881958008,
          17.415477752685547,
          17.583810806274414,
          17.610868453979492,
          17.743087768554688,
          17.689416885375977,
          17.737382888793945,
          17.78943634033203,
          17.618627548217773,
          17.65509796142578,
          17.73822784423828,
          17.644657135009766,
          17.632944107055664,
          17.812820434570312,
          17.55573081970215,
          17.689437866210938,
          17.489303588867188,
          17.593358993530273,
          17.399993896484375,
          17.85440444946289,
          17.75682830810547,
          17.477832794189453,
          17.655168533325195,
          17.508075714111328,
          17.722936630249023,
          17.403404235839844,
          17.616512298583984,
          17.626697540283203,
          17.42229652404785,
          17.310239791870117,
          17.653005599975586
         ],
         "xaxis": "x",
         "y": [
          3.8463454246520996,
          3.863349676132202,
          3.6838760375976562,
          3.7330429553985596,
          3.6904547214508057,
          3.703270435333252,
          3.873324155807495,
          3.805345058441162,
          3.812382936477661,
          3.667546033859253,
          3.8036797046661377,
          3.773360252380371,
          3.6676712036132812,
          3.615891933441162,
          4.046658039093018,
          3.9943442344665527,
          3.8331243991851807,
          3.5446791648864746,
          3.6914939880371094,
          3.632833480834961,
          3.891841411590576,
          3.749349594116211,
          3.7451648712158203,
          3.842141628265381,
          3.8759725093841553,
          3.7605278491973877,
          3.6344945430755615,
          3.7614786624908447,
          3.786174774169922,
          3.9480483531951904,
          3.7697741985321045,
          3.905251979827881,
          3.9064157009124756,
          3.839918375015259,
          3.757234573364258,
          3.881798505783081,
          3.72635555267334,
          3.6725001335144043,
          3.674901247024536,
          3.710082769393921,
          3.8676795959472656,
          3.9266016483306885,
          3.961318254470825,
          4.001676082611084,
          3.888946533203125,
          3.6545660495758057,
          3.653656244277954,
          3.7754786014556885,
          3.8559985160827637,
          4.0856614112854,
          3.7750508785247803,
          3.697380542755127,
          3.8819620609283447,
          3.6274654865264893,
          3.9388060569763184,
          3.853135824203491,
          3.705681562423706,
          3.8668947219848633,
          3.798516273498535,
          4.0045857429504395,
          3.5563933849334717,
          3.9668385982513428,
          3.8043124675750732,
          3.9623777866363525,
          3.8331494331359863,
          3.793011426925659,
          3.8841500282287598,
          3.7198214530944824,
          3.840919017791748,
          3.5989487171173096,
          3.9390273094177246,
          3.6086392402648926,
          3.8908493518829346,
          4.055870532989502,
          3.937875509262085,
          3.638823986053467,
          3.6156108379364014,
          3.977722406387329,
          3.6719889640808105,
          3.62500262260437,
          3.8480546474456787,
          3.800447940826416,
          3.671367883682251,
          3.768608808517456,
          3.7204177379608154,
          3.8141353130340576,
          3.570858955383301,
          3.850261688232422,
          3.720879554748535,
          3.726466178894043,
          3.7398459911346436,
          3.6515750885009766,
          3.7424397468566895
         ],
         "yaxis": "y"
        },
        {
         "customdata": [
          [
           "160826",
           "621a"
          ],
          [
           "285476",
           "J42"
          ],
          [
           "[{'NCBI tax id': 362976, 'Matching level': 'strain'}, {'NCBI tax id': 293091, 'Matching level': 'species'}]",
           "J457"
          ],
          [
           "619730",
           "J26"
          ],
          [
           "1883445",
           "J346"
          ],
          [
           "1789224",
           "J27"
          ],
          [
           "1923",
           "J42"
          ],
          [
           "1537377",
           "J346"
          ],
          [
           "[{'NCBI tax id': 915438, 'Matching level': 'strain'}, {'NCBI tax id': 185293, 'Matching level': 'species'}]",
           "J282"
          ],
          [
           "1823",
           "J43"
          ],
          [
           "2725666",
           "J346"
          ],
          [
           "1406",
           "J22"
          ],
          [
           "33940",
           "J443"
          ],
          [
           "[{'NCBI tax id': 378753, 'Matching level': 'strain'}, {'NCBI tax id': 72000, 'Matching level': 'species'}]",
           "J22"
          ],
          [
           "215803",
           "J341"
          ],
          [
           "884688",
           "J972"
          ],
          [
           "[{'NCBI tax id': 1401, 'Matching level': 'species'}, {'NCBI tax id': 1349780, 'Matching level': 'strain'}]",
           "J22"
          ],
          [
           "2292257",
           "J346"
          ],
          [
           "920",
           "J1321"
          ],
          [
           "[{'NCBI tax id': 2779354, 'Matching level': 'species'}, {'NCBI tax id': 2049027, 'Matching level': 'species'}]",
           "J1130"
          ],
          [
           "180435",
           "J27"
          ],
          [
           "588898",
           "J306"
          ],
          [
           "649756",
           "J465"
          ],
          [
           "[{'NCBI tax id': 573063, 'Matching level': 'strain'}, {'NCBI tax id': 67760, 'Matching level': 'species'}]",
           "J232"
          ],
          [
           "1718",
           "J475"
          ],
          [
           "285467",
           "J43"
          ],
          [
           "169435",
           "J1130"
          ],
          [
           "638849",
           "J469"
          ],
          [
           "37915",
           "J26"
          ],
          [
           "521392",
           "J26"
          ],
          [
           "186479",
           "J1037"
          ],
          [
           "[{'NCBI tax id': 1089454, 'Matching level': 'strain'}, {'NCBI tax id': 2055, 'Matching level': 'species'}]",
           "J43"
          ],
          [
           "58346",
           "J42"
          ],
          [
           "1478223",
           "J346"
          ],
          [
           "[{'NCBI tax id': 293647, 'Matching level': 'species'}, {'NCBI tax id': 1300159, 'Matching level': 'strain'}]",
           "J436"
          ],
          [
           "[{'NCBI tax id': 1123513, 'Matching level': 'strain'}, {'NCBI tax id': 28885, 'Matching level': 'species'}]",
           "J128"
          ],
          [
           "391",
           "J254"
          ],
          [
           "39478",
           "J42"
          ],
          [
           "1929293",
           "J22"
          ],
          [
           "315405",
           "J141"
          ],
          [
           "1783359",
           "J346"
          ],
          [
           "285459",
           "J42"
          ],
          [
           "529",
           "J22"
          ],
          [
           "1679497",
           "J346"
          ],
          [
           "29581",
           "J26"
          ],
          [
           "1523247",
           "J26"
          ],
          [
           "[{'NCBI tax id': 1206721, 'Matching level': 'strain'}, {'NCBI tax id': 209252, 'Matching level': 'species'}]",
           "J43"
          ],
          [
           "2217661",
           "J1247"
          ],
          [
           "1873459",
           "535a"
          ],
          [
           "1775537",
           "J22"
          ],
          [
           "1701086",
           "J42"
          ],
          [
           "1275",
           "J22"
          ],
          [
           "67330",
           "J42"
          ],
          [
           "645597",
           "535b"
          ],
          [
           "386892",
           "J26"
          ],
          [
           "189966",
           "J346"
          ],
          [
           "2171622",
           "J26"
          ],
          [
           "83682",
           "J43"
          ],
          [
           "[{'NCBI tax id': 1294021, 'Matching level': 'strain'}, {'NCBI tax id': 90730, 'Matching level': 'species'}]",
           "J395"
          ],
          [
           "767452",
           "J28"
          ],
          [
           "552903",
           "J26"
          ],
          [
           "659014",
           "J27"
          ],
          [
           "67294",
           "J43"
          ],
          [
           "[{'NCBI tax id': 208602, 'Matching level': 'species'}, {'NCBI tax id': 1210090, 'Matching level': 'strain'}]",
           "J43"
          ],
          [
           "1871614",
           "J27"
          ],
          [
           "213224",
           "J416"
          ],
          [
           "1462994",
           "J27"
          ],
          [
           "2181",
           "J251"
          ],
          [
           "[{'NCBI tax id': 1123290, 'Matching level': 'strain'}, {'NCBI tax id': 1571, 'Matching level': 'species'}]",
           "J22"
          ],
          [
           "33910",
           "J42"
          ],
          [
           "402289",
           "J26"
          ],
          [
           "175570",
           "J42"
          ],
          [
           "1869344",
           "J475"
          ],
          [
           "1521118",
           "J28"
          ],
          [
           "1270",
           "J475"
          ],
          [
           "2025489",
           "J28"
          ],
          [
           "180197",
           "J346"
          ],
          [
           "84292",
           "J26"
          ],
          [
           "1431962",
           "J1019"
          ],
          [
           "66887",
           "J42"
          ],
          [
           "1773489",
           "J1115"
          ],
          [
           "1908224",
           "514c"
          ],
          [
           "35749",
           "J280"
          ],
          [
           "2152829",
           "J893"
          ],
          [
           "1069220",
           "J386"
          ],
          [
           "[{'NCBI tax id': 572545, 'Matching level': 'strain'}, {'NCBI tax id': 1515, 'Matching level': 'species'}]",
           "J221"
          ],
          [
           "1818690",
           "J22"
          ],
          [
           "449461",
           "J26"
          ],
          [
           "341202",
           "J43"
          ],
          [
           "2541726",
           "J28"
          ],
          [
           "673",
           "J22"
          ],
          [
           "1871054",
           "J443"
          ],
          [
           "35755",
           "215b"
          ],
          [
           "155322",
           "J475"
          ],
          [
           "[{'NCBI tax id': 59841, 'Matching level': 'species'}, {'NCBI tax id': 1220566, 'Matching level': 'strain'}]",
           "J22"
          ],
          [
           "[{'NCBI tax id': 53317, 'Matching level': 'species'}, {'NCBI tax id': 1219059, 'Matching level': 'strain'}]",
           "J27"
          ],
          [
           "1462999",
           "J346"
          ],
          [
           "[{'NCBI tax id': 98672, 'Matching level': 'species'}, {'NCBI tax id': 1216973, 'Matching level': 'strain'}]",
           "J28"
          ],
          [
           "272239",
           "J26"
          ],
          [
           "405551",
           "J351"
          ],
          [
           "[{'NCBI tax id': 1123519, 'Matching level': 'strain'}, {'NCBI tax id': 203192, 'Matching level': 'species'}, {'NCBI tax id': 1211807, 'Matching level': 'species'}, {'NCBI tax id': 316, 'Matching level': 'species'}]",
           "J22"
          ],
          [
           "1052017",
           "J26"
          ],
          [
           "1460634",
           "J181"
          ],
          [
           "1411118",
           "J346"
          ],
          [
           "2609964",
           "J27"
          ],
          [
           "47885",
           "J22"
          ],
          [
           "46162",
           "J271"
          ],
          [
           "85698",
           "J22"
          ],
          [
           "2070686",
           "J282"
          ],
          [
           "1818",
           "J43"
          ],
          [
           "183408",
           "J43"
          ],
          [
           "321662",
           "514f"
          ],
          [
           "1707394",
           "J321"
          ],
          [
           "655607",
           "J823"
          ],
          [
           "69368",
           "J26"
          ],
          [
           "1096779",
           "J25"
          ],
          [
           "43767",
           "J22"
          ]
         ],
         "hovertemplate": "Cluster=4<br>Component 1=%{x}<br>Component 2=%{y}<br>taxon_id=%{customdata[0]}<br>media_id=%{customdata[1]}<extra></extra>",
         "legendgroup": "4",
         "marker": {
          "color": "#EF553B",
          "opacity": 0.3,
          "symbol": "circle"
         },
         "mode": "markers",
         "name": "4",
         "showlegend": true,
         "type": "scattergl",
         "x": [
          12.17113208770752,
          12.080842971801758,
          12.302760124206543,
          12.426881790161133,
          10.403236389160156,
          12.40182113647461,
          12.360018730163574,
          12.14555835723877,
          12.416361808776855,
          10.321715354919434,
          12.396341323852539,
          11.944540977478027,
          12.168709754943848,
          12.293731689453125,
          12.185227394104004,
          12.46280288696289,
          12.488110542297363,
          12.162610054016113,
          12.16375732421875,
          12.2295560836792,
          12.271851539611816,
          12.34233570098877,
          12.128576278686523,
          12.468832015991211,
          12.654186248779297,
          12.32225227355957,
          12.300381660461426,
          12.233161926269531,
          10.33006477355957,
          12.357505798339844,
          10.320513725280762,
          12.28938102722168,
          12.839225769042969,
          12.045181274414062,
          12.206344604492188,
          12.425942420959473,
          12.27585220336914,
          12.382245063781738,
          12.486824989318848,
          12.216471672058105,
          12.290541648864746,
          12.516040802001953,
          12.855276107788086,
          12.431396484375,
          12.128195762634277,
          12.456096649169922,
          12.500757217407227,
          12.31677532196045,
          12.188082695007324,
          12.681562423706055,
          12.201629638671875,
          12.051432609558105,
          12.381114959716797,
          12.46182632446289,
          12.388657569885254,
          12.0681791305542,
          12.132615089416504,
          12.453119277954102,
          12.196581840515137,
          12.333390235900879,
          12.25071907043457,
          12.183454513549805,
          12.460135459899902,
          12.18835735321045,
          12.37065601348877,
          12.400344848632812,
          12.398574829101562,
          12.182591438293457,
          12.246404647827148,
          12.300226211547852,
          12.620124816894531,
          12.616039276123047,
          12.409685134887695,
          12.375748634338379,
          10.290942192077637,
          12.33615779876709,
          12.130785942077637,
          12.36036205291748,
          12.417037963867188,
          12.317497253417969,
          12.098368644714355,
          12.198856353759766,
          12.079285621643066,
          12.23473072052002,
          12.25202751159668,
          12.5709810256958,
          12.165794372558594,
          12.458999633789062,
          12.50589370727539,
          12.092501640319824,
          12.251116752624512,
          12.35185718536377,
          12.34735107421875,
          12.452054023742676,
          12.146566390991211,
          12.430742263793945,
          12.328195571899414,
          12.280977249145508,
          10.318245887756348,
          12.284259796142578,
          12.394396781921387,
          12.338207244873047,
          12.52724838256836,
          12.203141212463379,
          12.302892684936523,
          10.305645942687988,
          10.319280624389648,
          12.427427291870117,
          12.312860488891602,
          12.324162483215332,
          12.323101043701172,
          12.332486152648926,
          12.141596794128418,
          12.662572860717773,
          12.418624877929688,
          12.453756332397461,
          10.311670303344727
         ],
         "xaxis": "x",
         "y": [
          -4.9339494705200195,
          -4.79852819442749,
          -5.196161270141602,
          -5.085479736328125,
          -0.6795401573181152,
          -5.018377780914307,
          -5.288485050201416,
          -4.838565349578857,
          -5.277364730834961,
          -0.7665605545043945,
          -5.17631196975708,
          -4.357218265533447,
          -5.3083295822143555,
          -5.265046119689941,
          -5.379095077514648,
          -5.384467601776123,
          -5.126290321350098,
          -4.848992824554443,
          -4.86899995803833,
          -5.3086113929748535,
          -5.181874752044678,
          -5.0549821853637695,
          -5.15032434463501,
          -5.202613353729248,
          -4.9040913581848145,
          -5.207309722900391,
          -4.941018581390381,
          -5.131998538970947,
          -0.7531157732009888,
          -5.1784586906433105,
          -0.6888362169265747,
          -5.22299861907959,
          -4.812053680419922,
          -4.598327159881592,
          -5.201405048370361,
          -5.053475856781006,
          -5.269011974334717,
          -5.1897783279418945,
          -5.2118706703186035,
          -5.018739700317383,
          -4.838491439819336,
          -5.264089107513428,
          -4.806107521057129,
          -4.940261363983154,
          -5.013209819793701,
          -5.180760860443115,
          -5.168703079223633,
          -5.066905975341797,
          -5.3062872886657715,
          -4.960159778594971,
          -5.261765003204346,
          -4.586065769195557,
          -5.187592506408691,
          -5.075281620025635,
          -5.228710651397705,
          -4.641088485717773,
          -5.119582176208496,
          -5.338151454925537,
          -5.160709381103516,
          -5.242617130279541,
          -5.344424247741699,
          -5.05027437210083,
          -5.217828273773193,
          -5.408858776092529,
          -5.134110927581787,
          -5.174355983734131,
          -4.94447660446167,
          -4.958294868469238,
          -5.286582946777344,
          -5.144155979156494,
          -4.91847038269043,
          -4.970703601837158,
          -5.045349597930908,
          -4.9962615966796875,
          -0.43563732504844666,
          -5.241788387298584,
          -5.3345947265625,
          -5.144024848937988,
          -5.211325645446777,
          -5.2282843589782715,
          -4.880582809448242,
          -4.925825595855713,
          -5.106392860412598,
          -5.02473783493042,
          -5.197779655456543,
          -5.064536094665527,
          -5.033772945404053,
          -4.9518232345581055,
          -4.9415974617004395,
          -5.054542541503906,
          -4.937308311462402,
          -4.826410293579102,
          -4.713952541351318,
          -4.976616382598877,
          -5.104012966156006,
          -5.195828437805176,
          -4.869939804077148,
          -4.921180248260498,
          -0.735345184803009,
          -4.8626556396484375,
          -4.8187432289123535,
          -4.976813316345215,
          -4.880008697509766,
          -4.947697639465332,
          -4.92132043838501,
          -0.5171310901641846,
          -0.7403520941734314,
          -5.242699146270752,
          -4.860812664031982,
          -5.037661075592041,
          -4.965913772583008,
          -5.029329299926758,
          -5.336010456085205,
          -5.080451011657715,
          -5.065093994140625,
          -4.993496894836426,
          -0.6744048595428467
         ],
         "yaxis": "y"
        },
        {
         "customdata": [
          [
           "392717",
           "J118"
          ],
          [
           "296745",
           "J557"
          ],
          [
           "1272",
           "J26"
          ],
          [
           "[{'NCBI tax id': 40216, 'Matching level': 'species'}, {'NCBI tax id': 981334, 'Matching level': 'strain'}]",
           "J70"
          ],
          [
           "651",
           "J12"
          ],
          [
           "67386",
           "J42"
          ],
          [
           "381665",
           "J475"
          ],
          [
           "1433535",
           "J41"
          ],
          [
           "1841",
           "J26"
          ],
          [
           "392015",
           "J101"
          ],
          [
           "274",
           "J41"
          ],
          [
           "1929",
           "J50"
          ],
          [
           "80877",
           "J28"
          ],
          [
           "1245458",
           "J306"
          ],
          [
           "543629",
           "J57"
          ],
          [
           "512350",
           "J42"
          ],
          [
           "1051899",
           "J346"
          ],
          [
           "67297",
           "J42"
          ],
          [
           "2172015",
           "J43"
          ],
          [
           "33905",
           "J14"
          ],
          [
           "44935",
           "J118"
          ],
          [
           "79270",
           "480c"
          ],
          [
           "[{'NCBI tax id': 1230458, 'Matching level': 'strain'}, {'NCBI tax id': 160846, 'Matching level': 'species'}]",
           "J168"
          ],
          [
           "1872504",
           "J118"
          ],
          [
           "477696",
           "J187"
          ],
          [
           "29429",
           "J79"
          ],
          [
           "[{'NCBI tax id': 1121314, 'Matching level': 'strain'}, {'NCBI tax id': 94869, 'Matching level': 'species'}]",
           "104b"
          ],
          [
           "262208",
           "J28"
          ],
          [
           "1679",
           "J14"
          ],
          [
           "[{'NCBI tax id': 256035, 'Matching level': 'species'}, {'NCBI tax id': 1121926, 'Matching level': 'strain'}]",
           "J51"
          ],
          [
           "53430",
           "J43"
          ],
          [
           "[{'NCBI tax id': 1123316, 'Matching level': 'strain'}, {'NCBI tax id': 1314, 'Matching level': 'species'}]",
           "J27"
          ],
          [
           "[{'NCBI tax id': 667129, 'Matching level': 'strain'}, {'NCBI tax id': 618, 'Matching level': 'species'}]",
           "J12"
          ],
          [
           "1707096",
           "J475"
          ],
          [
           "645",
           "J7"
          ],
          [
           "[{'NCBI tax id': 665571, 'Matching level': 'strain'}, {'NCBI tax id': 154, 'Matching level': 'species'}]",
           "509a"
          ],
          [
           "728",
           "429b"
          ],
          [
           "[{'NCBI tax id': 1123270, 'Matching level': 'strain'}, {'NCBI tax id': 279369, 'Matching level': 'species'}]",
           "514c"
          ],
          [
           "1470356",
           "104b"
          ],
          [
           "33964",
           "J13"
          ],
          [
           "1519",
           "104b"
          ],
          [
           "[{'NCBI tax id': 1307944, 'Matching level': 'strain'}, {'NCBI tax id': 318683, 'Matching level': 'species'}]",
           "J598"
          ],
          [
           "1903",
           "J43"
          ],
          [
           "28127",
           "J14"
          ],
          [
           "545",
           "J12"
          ],
          [
           "36835",
           "1203a"
          ],
          [
           "1736",
           "J14"
          ],
          [
           "1571",
           "J22"
          ],
          [
           "[{'NCBI tax id': 286803, 'Matching level': 'species'}, {'NCBI tax id': 1123280, 'Matching level': 'strain'}]",
           "104b"
          ],
          [
           "351659",
           "535b"
          ],
          [
           "[{'NCBI tax id': 96563, 'Matching level': 'strain'}, {'NCBI tax id': 316, 'Matching level': 'species'}]",
           "1a"
          ],
          [
           "481146",
           "J710"
          ],
          [
           "598653",
           "J42"
          ],
          [
           "[{'NCBI tax id': 1307455, 'Matching level': 'strain'}, {'NCBI tax id': 84632, 'Matching level': 'species'}]",
           "J42"
          ],
          [
           "318434",
           "J28"
          ],
          [
           "97478",
           "J13"
          ],
          [
           "2548456",
           "J42"
          ],
          [
           "[{'NCBI tax id': 1161097, 'Matching level': 'strain'}, {'NCBI tax id': 57171, 'Matching level': 'species'}]",
           "J26"
          ],
          [
           "1260955",
           "J43"
          ],
          [
           "33898",
           "J51"
          ],
          [
           "[{'NCBI tax id': 13656, 'Matching level': 'species'}, {'NCBI tax id': 1219056, 'Matching level': 'strain'}]",
           "J222"
          ],
          [
           "[{'NCBI tax id': 44470, 'Matching level': 'species'}, {'NCBI tax id': 1227497, 'Matching level': 'strain'}]",
           "J167"
          ],
          [
           "[{'NCBI tax id': 1120934, 'Matching level': 'strain'}, {'NCBI tax id': 155975, 'Matching level': 'species'}]",
           "J43"
          ],
          [
           "363867",
           "J26"
          ],
          [
           "559628",
           "J26"
          ],
          [
           "291370",
           "J50"
          ],
          [
           "1871328",
           "J22"
          ],
          [
           "2094151",
           "J1130"
          ],
          [
           "[{'NCBI tax id': 1121128, 'Matching level': 'strain'}, {'NCBI tax id': 501571, 'Matching level': 'species'}]",
           "104b"
          ],
          [
           "61646",
           "J22"
          ],
          [
           "51288",
           "J22"
          ],
          [
           "228414",
           "J168"
          ],
          [
           "2309",
           "J204"
          ],
          [
           "1776118",
           "J346"
          ],
          [
           "53442",
           "1203a"
          ],
          [
           "446682",
           "J568"
          ],
          [
           "2282397",
           "J346"
          ],
          [
           "1347891",
           "J43"
          ],
          [
           "58172",
           "J181"
          ],
          [
           "45242",
           "J156"
          ],
          [
           "690879",
           "J873"
          ],
          [
           "349094",
           "11b"
          ],
          [
           "66370",
           "J42"
          ],
          [
           "1297750",
           "J674"
          ],
          [
           "895",
           "195c"
          ],
          [
           "86175",
           "J27"
          ],
          [
           "[{'NCBI tax id': 2061, 'Matching level': 'species'}, {'NCBI tax id': 521096, 'Matching level': 'strain'}]",
           "J43"
          ],
          [
           "1071983",
           "J119"
          ],
          [
           "47716",
           "J42"
          ],
          [
           "2056245",
           "J27"
          ],
          [
           "244566",
           "1a"
          ],
          [
           "1695",
           "J84"
          ],
          [
           "2567944",
           "J475"
          ],
          [
           "1460644",
           "J118"
          ],
          [
           "68243",
           "J66"
          ],
          [
           "47884",
           "J22"
          ],
          [
           "[{'NCBI tax id': 1348662, 'Matching level': 'strain'}, {'NCBI tax id': 42817, 'Matching level': 'species'}]",
           "J28"
          ],
          [
           "[{'NCBI tax id': 412687, 'Matching level': 'species'}, {'NCBI tax id': 1386089, 'Matching level': 'strain'}]",
           "J26"
          ],
          [
           "1118466",
           "J22"
          ],
          [
           "160826",
           "J304"
          ],
          [
           "2707005",
           "J28"
          ],
          [
           "66885",
           "J45"
          ],
          [
           "1987063",
           "J70"
          ],
          [
           "1889238",
           "J346"
          ],
          [
           "[{'NCBI tax id': 1684, 'Matching level': 'species'}, {'NCBI tax id': 1437594, 'Matching level': 'strain'}]",
           "J13"
          ],
          [
           "747302",
           "1a"
          ],
          [
           "28227",
           "1076b"
          ],
          [
           "[{'NCBI tax id': 40542, 'Matching level': 'species'}, {'NCBI tax id': 523794, 'Matching level': 'strain'}]",
           "J460"
          ],
          [
           "1628085",
           "104c"
          ],
          [
           "1484053",
           "J118"
          ],
          [
           "634765",
           "J118"
          ],
          [
           "28220",
           "J191"
          ],
          [
           "555573",
           "J787"
          ],
          [
           "283877",
           "J26"
          ],
          [
           "[{'NCBI tax id': 427072, 'Matching level': 'species'}, {'NCBI tax id': 1121087, 'Matching level': 'strain'}]",
           "1081a"
          ],
          [
           "254161",
           "J118"
          ],
          [
           "[{'NCBI tax id': 1306177, 'Matching level': 'strain'}, {'NCBI tax id': 67331, 'Matching level': 'species'}]",
           "J42"
          ],
          [
           "575192",
           "J104"
          ],
          [
           "1036677",
           "120a"
          ],
          [
           "1619308",
           "J26"
          ],
          [
           "[{'NCBI tax id': 765177, 'Matching level': 'strain'}, {'NCBI tax id': 2275, 'Matching level': 'species'}]",
           "J187"
          ],
          [
           "644768",
           "J118"
          ],
          [
           "[{'NCBI tax id': 1122936, 'Matching level': 'strain'}, {'NCBI tax id': 758, 'Matching level': 'species'}]",
           "J70"
          ],
          [
           "1289170",
           "J26"
          ],
          [
           "1124761",
           "J51"
          ],
          [
           "1225341",
           "J1028"
          ],
          [
           "648",
           "J7"
          ],
          [
           "60548",
           "J156"
          ],
          [
           "354243",
           "J302"
          ],
          [
           "67576",
           "514a"
          ],
          [
           "[{'NCBI tax id': 111804, 'Matching level': 'species'}, {'NCBI tax id': 1399798, 'Matching level': 'strain'}]",
           "J43"
          ],
          [
           "418643",
           "J475"
          ],
          [
           "29529",
           "J22"
          ],
          [
           "1841",
           "J40"
          ],
          [
           "[{'NCBI tax id': 817, 'Matching level': 'species'}, {'NCBI tax id': 272559, 'Matching level': 'strain'}]",
           "1203a"
          ],
          [
           "1972704",
           "514d"
          ],
          [
           "1281486",
           "J27"
          ],
          [
           "33881",
           "J22"
          ],
          [
           "1869227",
           "110a"
          ],
          [
           "193384",
           "J443"
          ],
          [
           "755307",
           "J574"
          ],
          [
           "[{'NCBI tax id': 1321609, 'Matching level': 'strain'}, {'NCBI tax id': 436515, 'Matching level': 'species'}]",
           "J27"
          ],
          [
           "1907",
           "J42"
          ],
          [
           "1263637",
           "J720"
          ],
          [
           "[{'NCBI tax id': 1589, 'Matching level': 'species'}, {'NCBI tax id': 1423791, 'Matching level': 'strain'}]",
           "J13"
          ],
          [
           "1042953",
           "J1061"
          ],
          [
           "1128619",
           "J75"
          ],
          [
           "[{'NCBI tax id': 1216362, 'Matching level': 'strain'}, {'NCBI tax id': 1583098, 'Matching level': 'species'}]",
           "J14"
          ],
          [
           "1274988",
           "J42"
          ],
          [
           "1605",
           "J13"
          ],
          [
           "745119",
           "104b"
          ],
          [
           "257277",
           "J43"
          ],
          [
           "1637102",
           "J43"
          ],
          [
           "[{'NCBI tax id': 1210079, 'Matching level': 'strain'}, {'NCBI tax id': 352869, 'Matching level': 'species'}]",
           "J43"
          ],
          [
           "41986",
           "J22"
          ],
          [
           "237373",
           "J118"
          ],
          [
           "134602",
           "J58"
          ],
          [
           "38307",
           "J598"
          ],
          [
           "1644118",
           "J276"
          ],
          [
           "161920",
           "J43"
          ],
          [
           "310297",
           "J14"
          ],
          [
           "2530382",
           "J42"
          ],
          [
           "502683",
           "J118"
          ],
          [
           "2173034",
           "J1190"
          ],
          [
           "2024855",
           "514a"
          ],
          [
           "36823",
           "J43"
          ],
          [
           "538379",
           "457b"
          ],
          [
           "[{'NCBI tax id': 762967, 'Matching level': 'strain'}, {'NCBI tax id': 437898, 'Matching level': 'species'}]",
           "J14"
          ],
          [
           "714",
           "J156"
          ],
          [
           "86186",
           "J22"
          ],
          [
           "2675101",
           "J346"
          ],
          [
           "[{'NCBI tax id': 626929, 'Matching level': 'species'}, {'NCBI tax id': 762984, 'Matching level': 'strain'}]",
           "J655"
          ],
          [
           "1870820",
           "J475"
          ],
          [
           "185642",
           "J386"
          ],
          [
           "610244",
           "J710"
          ],
          [
           "1579",
           "J13"
          ],
          [
           "58314",
           "J194"
          ],
          [
           "[{'NCBI tax id': 444157, 'Matching level': 'strain'}, {'NCBI tax id': 70771, 'Matching level': 'species'}]",
           "J195"
          ],
          [
           "86180",
           "830c"
          ],
          [
           "67304",
           "J66"
          ],
          [
           "46541",
           "343a"
          ],
          [
           "[{'NCBI tax id': 1579, 'Matching level': 'species'}, {'NCBI tax id': 1423717, 'Matching level': 'strain'}]",
           "J13"
          ],
          [
           "110479",
           "J710"
          ],
          [
           "[{'NCBI tax id': 33059, 'Matching level': 'species'}, {'NCBI tax id': 637389, 'Matching level': 'strain'}]",
           "150a"
          ],
          [
           "66424",
           "J58"
          ],
          [
           "78345",
           "J13"
          ],
          [
           "1549646",
           "J26"
          ],
          [
           "166793",
           "J26"
          ],
          [
           "1872573",
           "J321"
          ],
          [
           "2203724",
           "J853"
          ],
          [
           "1396819",
           "830c"
          ],
          [
           "371193",
           "J443"
          ],
          [
           "76760",
           "J12"
          ],
          [
           "88874",
           "92a"
          ],
          [
           "2070688",
           "1203a"
          ],
          [
           "398554",
           "J43"
          ],
          [
           "587636",
           "J26"
          ],
          [
           "404403",
           "J489"
          ],
          [
           "368002",
           "1a"
          ],
          [
           "[{'NCBI tax id': 649747, 'Matching level': 'strain'}, {'NCBI tax id': 1391, 'Matching level': 'species'}]",
           "J22"
          ],
          [
           "2800120",
           "J43"
          ],
          [
           "33038",
           "J14"
          ],
          [
           "170861",
           "120a"
          ],
          [
           "1479025",
           "J26"
          ],
          [
           "[{'NCBI tax id': 314319, 'Matching level': 'species'}, {'NCBI tax id': 1236540, 'Matching level': 'strain'}, {'NCBI tax id': 1408473, 'Matching level': 'strain'}]",
           "J512"
          ],
          [
           "1679",
           "J84"
          ],
          [
           "1530",
           "J14"
          ],
          [
           "[{'NCBI tax id': 931537, 'Matching level': 'species'}, {'NCBI tax id': 1223546, 'Matching level': 'strain'}]",
           "J43"
          ],
          [
           "29491",
           "J22"
          ],
          [
           "1445657",
           "J118"
          ],
          [
           "38290",
           "J256"
          ],
          [
           "182262",
           "J118"
          ],
          [
           "1886",
           "J42"
          ],
          [
           "282402",
           "J14"
          ],
          [
           "823",
           "1203a"
          ],
          [
           "1734926",
           "J14"
          ],
          [
           "399969",
           "J12"
          ],
          [
           "[{'NCBI tax id': 1298595, 'Matching level': 'strain'}, {'NCBI tax id': 423477, 'Matching level': 'species'}]",
           "J14"
          ],
          [
           "1833",
           "465d"
          ],
          [
           "1966350",
           "141c"
          ],
          [
           "363863",
           "J26"
          ],
          [
           "33014",
           "J75"
          ],
          [
           "[{'NCBI tax id': 81858, 'Matching level': 'species'}, {'NCBI tax id': 1335622, 'Matching level': 'strain'}]",
           "J386"
          ],
          [
           "[{'NCBI tax id': 537007, 'Matching level': 'strain'}, {'NCBI tax id': 1322, 'Matching level': 'species'}]",
           "J676"
          ],
          [
           "507754",
           "J593"
          ],
          [
           "36805",
           "J26"
          ],
          [
           "29405",
           "J211"
          ],
          [
           "1176243",
           "514b"
          ],
          [
           "319947",
           "J42"
          ],
          [
           "45399",
           "J50"
          ],
          [
           "660522",
           "J574"
          ],
          [
           "66867",
           "J43"
          ],
          [
           "232444",
           "J256"
          ],
          [
           "384",
           "J254"
          ],
          [
           "1233114",
           "J346"
          ],
          [
           "414286",
           "J377"
          ],
          [
           "1818700",
           "J22"
          ],
          [
           "356851",
           "J61"
          ],
          [
           "[{'NCBI tax id': 1122248, 'Matching level': 'strain'}, {'NCBI tax id': 29557, 'Matching level': 'species'}]",
           "1076b"
          ],
          [
           "[{'NCBI tax id': 742742, 'Matching level': 'strain'}, {'NCBI tax id': 626935, 'Matching level': 'species'}]",
           "J14"
          ],
          [
           "1080221",
           "J118"
          ],
          [
           "2094",
           "1076b"
          ],
          [
           "[{'NCBI tax id': 315405, 'Matching level': 'species'}, {'NCBI tax id': 1258574, 'Matching level': 'strain'}]",
           "J14"
          ],
          [
           "1818829",
           "J22"
          ],
          [
           "333384",
           "J42"
          ],
          [
           "96773",
           "830c"
          ],
          [
           "1195763",
           "514c"
          ],
          [
           "1303811",
           "J28"
          ],
          [
           "672",
           "J7"
          ],
          [
           "[{'NCBI tax id': 1091038, 'Matching level': 'strain'}, {'NCBI tax id': 1308, 'Matching level': 'species'}]",
           "J282"
          ],
          [
           "1553429",
           "J346"
          ],
          [
           "191287",
           "1076b"
          ],
          [
           "[{'NCBI tax id': 626084, 'Matching level': 'species'}, {'NCBI tax id': 1223489, 'Matching level': 'strain'}]",
           "J43"
          ],
          [
           "2209",
           "120a"
          ],
          [
           "913829",
           "J915"
          ],
          [
           "[{'NCBI tax id': 1201293, 'Matching level': 'strain'}, {'NCBI tax id': 428031, 'Matching level': 'species'}]",
           "J118"
          ],
          [
           "39693",
           "J26"
          ],
          [
           "[{'NCBI tax id': 220343, 'Matching level': 'species'}, {'NCBI tax id': 1121271, 'Matching level': 'strain'}]",
           "J429"
          ],
          [
           "42895",
           "J27"
          ],
          [
           "39692",
           "J386"
          ],
          [
           "644790",
           "J791"
          ],
          [
           "106590",
           "J27"
          ],
          [
           "[{'NCBI tax id': 591019, 'Matching level': 'strain'}, {'NCBI tax id': 84599, 'Matching level': 'species'}]",
           "J244"
          ],
          [
           "[{'NCBI tax id': 1307950, 'Matching level': 'strain'}, {'NCBI tax id': 586239, 'Matching level': 'species'}]",
           "J598"
          ],
          [
           "218206",
           "195c"
          ],
          [
           "1681",
           "J84"
          ],
          [
           "[{'NCBI tax id': 1121109, 'Matching level': 'strain'}, {'NCBI tax id': 1693, 'Matching level': 'species'}]",
           "J14"
          ],
          [
           "2652278",
           "215c"
          ],
          [
           "981384",
           "J118"
          ],
          [
           "1508770",
           "J22"
          ],
          [
           "1537398",
           "J346"
          ],
          [
           "2125",
           "1076b"
          ],
          [
           "1027633",
           "J28"
          ],
          [
           "88874",
           "429b"
          ],
          [
           "1495200",
           "J346"
          ],
          [
           "[{'NCBI tax id': 1437602, 'Matching level': 'strain'}, {'NCBI tax id': 78344, 'Matching level': 'subspecies'}]",
           "J14"
          ],
          [
           "[{'NCBI tax id': 64178, 'Matching level': 'species'}, {'NCBI tax id': 450452, 'Matching level': 'strain'}]",
           "1831a"
          ],
          [
           "1968277",
           "J346"
          ],
          [
           "1172190",
           "113a"
          ],
          [
           "1579330",
           "J475"
          ],
          [
           "237446",
           "J13"
          ],
          [
           "1185415",
           "J61"
          ],
          [
           "146923",
           "J50"
          ],
          [
           "[{'NCBI tax id': 676, 'Matching level': 'species'}, {'NCBI tax id': 1219074, 'Matching level': 'strain'}]",
           "J12"
          ],
          [
           "2981778",
           "104c"
          ],
          [
           "82346",
           "J26"
          ],
          [
           "442341",
           "J118"
          ],
          [
           "36813",
           "J386"
          ],
          [
           "250",
           "J12"
          ],
          [
           "1801",
           "J26"
          ],
          [
           "797535",
           "J27"
          ],
          [
           "35703",
           "1a"
          ],
          [
           "1506",
           "104c"
          ],
          [
           "1818815",
           "J26"
          ],
          [
           "1396",
           "J475"
          ],
          [
           "[{'NCBI tax id': 1219017, 'Matching level': 'strain'}, {'NCBI tax id': 132919, 'Matching level': 'species'}]",
           "J43"
          ],
          [
           "94868",
           "104b"
          ],
          [
           "[{'NCBI tax id': 664638, 'Matching level': 'species'}, {'NCBI tax id': 1238186, 'Matching level': 'strain'}]",
           "J26"
          ],
          [
           "[{'NCBI tax id': 1512, 'Matching level': 'species'}, {'NCBI tax id': 411472, 'Matching level': 'strain'}]",
           "J13"
          ],
          [
           "556325",
           "J569"
          ],
          [
           "268404",
           "J346"
          ],
          [
           "231447",
           "195b"
          ],
          [
           "550",
           "J12"
          ],
          [
           "2547960",
           "J26"
          ],
          [
           "2528593",
           "104b"
          ],
          [
           "1901",
           "J50"
          ],
          [
           "[{'NCBI tax id': 396504, 'Matching level': 'species'}, {'NCBI tax id': 1121337, 'Matching level': 'strain'}]",
           "104b"
          ],
          [
           "418759",
           "J569"
          ],
          [
           "83684",
           "J2"
          ],
          [
           "[{'NCBI tax id': 1121305, 'Matching level': 'strain'}, {'NCBI tax id': 179628, 'Matching level': 'species'}]",
           "104c"
          ],
          [
           "40837",
           "J22"
          ],
          [
           "977983",
           "J75"
          ],
          [
           "1886637",
           "1a"
          ],
          [
           "1818727",
           "J43"
          ],
          [
           "615",
           "1a"
          ],
          [
           "1987061",
           "J27"
          ],
          [
           "200450",
           "1a"
          ],
          [
           "1694",
           "J19"
          ],
          [
           "626935",
           "J282"
          ],
          [
           "42236",
           "J42"
          ],
          [
           "160689",
           "J52"
          ],
          [
           "181675",
           "J13"
          ],
          [
           "1652495",
           "535a"
          ],
          [
           "348826",
           "J166"
          ],
          [
           "33967",
           "J84"
          ],
          [
           "[{'NCBI tax id': 189540, 'Matching level': 'species'}, {'NCBI tax id': 1210093, 'Matching level': 'strain'}]",
           "J43"
          ],
          [
           "67382",
           "J58"
          ],
          [
           "29348",
           "J13"
          ],
          [
           "[{'NCBI tax id': 89053, 'Matching level': 'species'}, {'NCBI tax id': 1220574, 'Matching level': 'strain'}]",
           "J43"
          ],
          [
           "1523248",
           "J104"
          ],
          [
           "860221",
           "J28"
          ],
          [
           "[{'NCBI tax id': 46632, 'Matching level': 'species'}, {'NCBI tax id': 1122961, 'Matching level': 'strain'}]",
           "J233"
          ],
          [
           "28444",
           "J52"
          ],
          [
           "[{'NCBI tax id': 1123231, 'Matching level': 'strain'}, {'NCBI tax id': 148453, 'Matching level': 'species'}]",
           "514b"
          ],
          [
           "1869227",
           "193a"
          ],
          [
           "363865",
           "J346"
          ],
          [
           "472",
           "J27"
          ],
          [
           "1036778",
           "1a"
          ],
          [
           "1008308",
           "J874"
          ],
          [
           "86669",
           "1a"
          ],
          [
           "1387982",
           "J26"
          ],
          [
           "1333662",
           "J118"
          ],
          [
           "1637102",
           "J26"
          ],
          [
           "1872642",
           "J25"
          ],
          [
           "[{'NCBI tax id': 1121957, 'Matching level': 'strain'}, {'NCBI tax id': 223903, 'Matching level': 'species'}]",
           "937a"
          ],
          [
           "1871045",
           "J22"
          ],
          [
           "294",
           "220a"
          ],
          [
           "1968279",
           "J346"
          ],
          [
           "1476",
           "J22"
          ],
          [
           "1274986",
           "J66"
          ],
          [
           "2045",
           "J26"
          ],
          [
           "1179782",
           "J156"
          ],
          [
           "1007511",
           "J346"
          ],
          [
           "68183",
           "J42"
          ],
          [
           "1891311",
           "1058b"
          ],
          [
           "2751153",
           "J14"
          ],
          [
           "2714855",
           "J1019"
          ],
          [
           "659444",
           "J443"
          ],
          [
           "889300",
           "J75"
          ],
          [
           "[{'NCBI tax id': 71453, 'Matching level': 'species'}, {'NCBI tax id': 1223494, 'Matching level': 'strain'}]",
           "J156"
          ],
          [
           "51364",
           "1076b"
          ],
          [
           "54063",
           "514b"
          ],
          [
           "[{'NCBI tax id': 882090, 'Matching level': 'strain'}, {'NCBI tax id': 263906, 'Matching level': 'species'}]",
           "J424"
          ],
          [
           "171194",
           "J118"
          ],
          [
           "173856",
           "J43"
          ],
          [
           "1932",
           "J66"
          ],
          [
           "1818793",
           "J346"
          ],
          [
           "1685378",
           "J118"
          ],
          [
           "1598",
           "J13"
          ],
          [
           "1144548",
           "J61"
          ],
          [
           "1614",
           "J21"
          ],
          [
           "1813877",
           "J346"
          ],
          [
           "67310",
           "J42"
          ],
          [
           "2767929",
           "J13"
          ],
          [
           "2082189",
           "141a"
          ],
          [
           "[{'NCBI tax id': 945692, 'Matching level': 'species'}, {'NCBI tax id': 644548, 'Matching level': 'strain'}]",
           "J43"
          ],
          [
           "79909",
           "J42"
          ],
          [
           "74706",
           "J27"
          ],
          [
           "282078",
           "J28"
          ],
          [
           "221126",
           "J118"
          ],
          [
           "36773",
           "1a"
          ],
          [
           "285518",
           "J43"
          ],
          [
           "570012",
           "1a"
          ],
          [
           "12915",
           "J175"
          ],
          [
           "1748",
           "J14"
          ],
          [
           "1045501",
           "J45"
          ],
          [
           "2044859",
           "J346"
          ],
          [
           "1517589",
           "J346"
          ],
          [
           "33897",
           "J58"
          ],
          [
           "81037",
           "J118"
          ],
          [
           "2779357",
           "J282"
          ],
          [
           "[{'NCBI tax id': 37916, 'Matching level': 'species'}, {'NCBI tax id': 1303685, 'Matching level': 'strain'}]",
           "J26"
          ],
          [
           "189685",
           "J118"
          ],
          [
           "269144",
           "J26"
          ],
          [
           "1286180",
           "J26"
          ],
          [
           "[{'NCBI tax id': 266130, 'Matching level': 'species'}, {'NCBI tax id': 1305857, 'Matching level': 'strain'}]",
           "J346"
          ],
          [
           "1642",
           "J28"
          ],
          [
           "488533",
           "J41"
          ],
          [
           "67344",
           "J42"
          ],
          [
           "2099376",
           "195c"
          ],
          [
           "[{'NCBI tax id': 1435463, 'Matching level': 'strain'}, {'NCBI tax id': 212365, 'Matching level': 'species'}]",
           "J13"
          ],
          [
           "224999",
           "J370"
          ],
          [
           "[{'NCBI tax id': 33034, 'Matching level': 'species'}, {'NCBI tax id': 525919, 'Matching level': 'strain'}]",
           "J84"
          ],
          [
           "203192",
           "J22"
          ],
          [
           "52699",
           "J43"
          ],
          [
           "33904",
           "J42"
          ],
          [
           "2030913",
           "J43"
          ],
          [
           "[{'NCBI tax id': 1122228, 'Matching level': 'strain'}, {'NCBI tax id': 356828, 'Matching level': 'species'}]",
           "J83"
          ],
          [
           "306",
           "220a"
          ],
          [
           "1772",
           "J386"
          ],
          [
           "1528",
           "J13"
          ],
          [
           "689",
           "514f"
          ],
          [
           "453304",
           "J26"
          ],
          [
           "1864947",
           "J346"
          ],
          [
           "2747817",
           "J574"
          ],
          [
           "390269",
           "J43"
          ],
          [
           "2025315",
           "J346"
          ],
          [
           "29354",
           "J14"
          ],
          [
           "1818745",
           "J22"
          ],
          [
           "47770",
           "J84"
          ],
          [
           "169480",
           "J28"
          ],
          [
           "82380",
           "J26"
          ],
          [
           "[{'NCBI tax id': 1111730, 'Matching level': 'strain'}, {'NCBI tax id': 271155, 'Matching level': 'species'}]",
           "J75"
          ],
          [
           "[{'NCBI tax id': 1365954, 'Matching level': 'strain'}, {'NCBI tax id': 302912, 'Matching level': 'subspecies'}]",
           "J84"
          ],
          [
           "68264",
           "J50"
          ],
          [
           "285557",
           "J66"
          ],
          [
           "[{'NCBI tax id': 866499, 'Matching level': 'strain'}, {'NCBI tax id': 508460, 'Matching level': 'species'}]",
           "J641"
          ],
          [
           "288019",
           "J118"
          ],
          [
           "1894971",
           "J61"
          ],
          [
           "338188",
           "J14"
          ],
          [
           "1477018",
           "J346"
          ],
          [
           "670863",
           "J1001"
          ],
          [
           "317015",
           "J41"
          ],
          [
           "32001",
           "J12"
          ],
          [
           "1274986",
           "J45"
          ],
          [
           "1177732",
           "J14"
          ],
          [
           "1520",
           "110a"
          ],
          [
           "1298601",
           "J22"
          ],
          [
           "1804",
           "J386"
          ],
          [
           "1526575",
           "J118"
          ],
          [
           "1624",
           "J84"
          ],
          [
           "1331682",
           "J475"
          ],
          [
           "656",
           "J7"
          ],
          [
           "29488",
           "1a"
          ],
          [
           "867916",
           "J236"
          ],
          [
           "566022",
           "J26"
          ],
          [
           "69220",
           "J12"
          ],
          [
           "556890",
           "J26"
          ],
          [
           "571177",
           "195c"
          ],
          [
           "191770",
           "J596"
          ],
          [
           "368002",
           "J22"
          ],
          [
           "100468",
           "J13"
          ],
          [
           "1286186",
           "J746"
          ],
          [
           "1285924",
           "J275"
          ],
          [
           "1882438",
           "J346"
          ],
          [
           "147207",
           "J14"
          ],
          [
           "284582",
           "J532"
          ],
          [
           "[{'NCBI tax id': 36738, 'Matching level': 'species'}, {'NCBI tax id': 1227456, 'Matching level': 'strain'}]",
           "J169"
          ],
          [
           "84031",
           "J13"
          ],
          [
           "2615203",
           "J346"
          ],
          [
           "306",
           "J22"
          ],
          [
           "[{'NCBI tax id': 263908, 'Matching level': 'species'}, {'NCBI tax id': 1077974, 'Matching level': 'strain'}]",
           "J43"
          ],
          [
           "173560",
           "J43"
          ],
          [
           "[{'NCBI tax id': 1750, 'Matching level': 'species'}, {'NCBI tax id': 1218109, 'Matching level': 'strain'}]",
           "J14"
          ],
          [
           "1912891",
           "J12"
          ],
          [
           "2487275",
           "J58"
          ],
          [
           "67304",
           "J50"
          ],
          [
           "[{'NCBI tax id': 1226664, 'Matching level': 'strain'}, {'NCBI tax id': 438, 'Matching level': 'species'}]",
           "J597"
          ],
          [
           "285554",
           "J66"
          ],
          [
           "1721088",
           "J1117"
          ],
          [
           "70586",
           "830a"
          ],
          [
           "1785",
           "215b"
          ],
          [
           "1679091",
           "J1207"
          ],
          [
           "256034",
           "J51"
          ],
          [
           "39482",
           "J1130"
          ],
          [
           "411570",
           "J84"
          ],
          [
           "312168",
           "J454"
          ],
          [
           "370408",
           "J628"
          ],
          [
           "[{'NCBI tax id': 43671, 'Matching level': 'species'}, {'NCBI tax id': 862422, 'Matching level': 'strain'}]",
           "J28"
          ],
          [
           "2962567",
           "J346"
          ],
          [
           "1215385",
           "J443"
          ],
          [
           "46189",
           "J202"
          ],
          [
           "1366656",
           "J100"
          ],
          [
           "1508388",
           "J118"
          ],
          [
           "2751",
           "J16"
          ],
          [
           "[{'NCBI tax id': 1088883, 'Matching level': 'strain'}, {'NCBI tax id': 622488, 'Matching level': 'species'}]",
           "429c"
          ],
          [
           "[{'NCBI tax id': 37636, 'Matching level': 'species'}, {'NCBI tax id': 1123391, 'Matching level': 'strain'}]",
           "J276"
          ],
          [
           "[{'NCBI tax id': 170674, 'Matching level': 'species'}, {'NCBI tax id': 1123494, 'Matching level': 'strain'}]",
           "514f"
          ],
          [
           "2586643",
           "J280"
          ],
          [
           "1589",
           "J68"
          ],
          [
           "648796",
           "J262"
          ],
          [
           "317",
           "54a"
          ],
          [
           "[{'NCBI tax id': 1305625, 'Matching level': 'strain'}, {'NCBI tax id': 49897, 'Matching level': 'species'}]",
           "J26"
          ],
          [
           "453575",
           "1a"
          ],
          [
           "200378",
           "J43"
          ],
          [
           "488",
           "J14"
          ],
          [
           "1494462",
           "J27"
          ],
          [
           "[{'NCBI tax id': 1000570, 'Matching level': 'strain'}, {'NCBI tax id': 1328, 'Matching level': 'species'}]",
           "J27"
          ],
          [
           "435",
           "J709"
          ],
          [
           "2108",
           "1076b"
          ],
          [
           "335017",
           "J254"
          ],
          [
           "1840331",
           "J118"
          ],
          [
           "1623218",
           "J346"
          ],
          [
           "1686286",
           "535a"
          ],
          [
           "[{'NCBI tax id': 638, 'Matching level': 'species'}, {'NCBI tax id': 1121018, 'Matching level': 'strain'}]",
           "535a"
          ],
          [
           "2724944",
           "J26"
          ],
          [
           "490575",
           "J26"
          ],
          [
           "2594883",
           "J443"
          ],
          [
           "1608613",
           "J346"
          ],
          [
           "1920175",
           "J118"
          ],
          [
           "1734049",
           "898b"
          ],
          [
           "33883",
           "J26"
          ],
          [
           "639313",
           "J28"
          ],
          [
           "[{'NCBI tax id': 1348635, 'Matching level': 'strain'}, {'NCBI tax id': 685, 'Matching level': 'species'}]",
           "J118"
          ],
          [
           "1298609",
           "J118"
          ],
          [
           "[{'NCBI tax id': 1219038, 'Matching level': 'strain'}, {'NCBI tax id': 28212, 'Matching level': 'species'}]",
           "J12"
          ],
          [
           "47850",
           "J61"
          ],
          [
           "159",
           "1203a"
          ],
          [
           "2652292",
           "J14"
          ],
          [
           "220670",
           "11b"
          ],
          [
           "2585118",
           "J14"
          ],
          [
           "363840",
           "830c"
          ],
          [
           "172827",
           "86a"
          ],
          [
           "36807",
           "J26"
          ],
          [
           "29370",
           "1203a"
          ],
          [
           "1671023",
           "J256"
          ],
          [
           "1490",
           "104b"
          ],
          [
           "909613",
           "J43"
          ],
          [
           "1267",
           "J13"
          ],
          [
           "1811224",
           "J346"
          ],
          [
           "[{'NCBI tax id': 1300163, 'Matching level': 'strain'}, {'NCBI tax id': 2162, 'Matching level': 'species'}]",
           "J242"
          ],
          [
           "[{'NCBI tax id': 1206737, 'Matching level': 'strain'}, {'NCBI tax id': 228601, 'Matching level': 'species'}]",
           "J26"
          ],
          [
           "258",
           "J12"
          ],
          [
           "1233460",
           "J346"
          ],
          [
           "[{'NCBI tax id': 638302, 'Matching level': 'strain'}, {'NCBI tax id': 135080, 'Matching level': 'species'}]",
           "J14"
          ],
          [
           "529505",
           "514a"
          ],
          [
           "1229971",
           "830c"
          ],
          [
           "29571",
           "514b"
          ],
          [
           "649756",
           "J1130"
          ],
          [
           "645",
           "1a"
          ],
          [
           "1913577",
           "J118"
          ],
          [
           "330835",
           "J346"
          ],
          [
           "818",
           "1203a"
          ],
          [
           "869892",
           "J574"
          ],
          [
           "152260",
           "87a"
          ],
          [
           "191390",
           "1a"
          ],
          [
           "74348",
           "621a"
          ],
          [
           "[{'NCBI tax id': 49283, 'Matching level': 'species'}, {'NCBI tax id': 1349794, 'Matching level': 'strain'}]",
           "J22"
          ],
          [
           "1176697",
           "J950"
          ],
          [
           "246796",
           "J443"
          ],
          [
           "1330025",
           "J561"
          ],
          [
           "[{'NCBI tax id': 910996, 'Matching level': 'strain'}, {'NCBI tax id': 569, 'Matching level': 'species'}]",
           "J12"
          ],
          [
           "62140",
           "J129"
          ],
          [
           "489912",
           "J776"
          ],
          [
           "1636086",
           "J74"
          ],
          [
           "1514948",
           "J118"
          ],
          [
           "1080712",
           "119b"
          ],
          [
           "1393",
           "J28"
          ],
          [
           "2293570",
           "J475"
          ],
          [
           "589403",
           "J43"
          ],
          [
           "2004704",
           "J1007"
          ],
          [
           "[{'NCBI tax id': 1305868, 'Matching level': 'strain'}, {'NCBI tax id': 156981, 'Matching level': 'species'}]",
           "J28"
          ],
          [
           "2059302",
           "J346"
          ],
          [
           "[{'NCBI tax id': 340467, 'Matching level': 'species'}, {'NCBI tax id': 1121394, 'Matching level': 'strain'}]",
           "J577"
          ],
          [
           "[{'NCBI tax id': 191630, 'Matching level': 'species'}, {'NCBI tax id': 1305626, 'Matching level': 'strain'}]",
           "J52"
          ],
          [
           "[{'NCBI tax id': 108150, 'Matching level': 'species'}, {'NCBI tax id': 580331, 'Matching level': 'strain'}]",
           "J825"
          ],
          [
           "553468",
           "J457"
          ],
          [
           "[{'NCBI tax id': 131540, 'Matching level': 'species'}, {'NCBI tax id': 1123514, 'Matching level': 'strain'}]",
           "142a"
          ],
          [
           "671278",
           "514c"
          ],
          [
           "1078050",
           "503d"
          ],
          [
           "1031224",
           "J346"
          ],
          [
           "678",
           "J22"
          ],
          [
           "1818774",
           "J28"
          ],
          [
           "158877",
           "J27"
          ],
          [
           "715028",
           "J968"
          ],
          [
           "[{'NCBI tax id': 1227467, 'Matching level': 'strain'}, {'NCBI tax id': 29283, 'Matching level': 'species'}, {'NCBI tax id': 1227468, 'Matching level': 'strain'}]",
           "J169"
          ],
          [
           "103725",
           "J50"
          ],
          [
           "157225",
           "J599"
          ],
          [
           "1470561",
           "514a"
          ],
          [
           "3046383",
           "666a"
          ],
          [
           "506594",
           "J26"
          ],
          [
           "1165507",
           "J118"
          ],
          [
           "2070451",
           "J346"
          ],
          [
           "[{'NCBI tax id': 316068, 'Matching level': 'species'}, {'NCBI tax id': 649349, 'Matching level': 'strain'}]",
           "J27"
          ],
          [
           "1712515",
           "110a"
          ],
          [
           "46680",
           "465a"
          ],
          [
           "2215",
           "120a"
          ],
          [
           "1750603",
           "J28"
          ],
          [
           "1604",
           "J84"
          ],
          [
           "46680",
           "J12"
          ],
          [
           "1249630",
           "11b"
          ],
          [
           "285569",
           "J66"
          ],
          [
           "1261639",
           "J14"
          ],
          [
           "1507512",
           "104b"
          ],
          [
           "3060934",
           "J346"
          ],
          [
           "1630162",
           "J13"
          ],
          [
           "364197",
           "J27"
          ],
          [
           "322509",
           "J43"
          ],
          [
           "262898",
           "J26"
          ],
          [
           "1429073",
           "J118"
          ],
          [
           "762211",
           "J291"
          ],
          [
           "[{'NCBI tax id': 381852, 'Matching level': 'species'}, {'NCBI tax id': 1227461, 'Matching level': 'strain'}]",
           "J168"
          ],
          [
           "659",
           "246a"
          ],
          [
           "[{'NCBI tax id': 1122995, 'Matching level': 'strain'}, {'NCBI tax id': 1747, 'Matching level': 'species'}]",
           "J84"
          ],
          [
           "1667",
           "J28"
          ],
          [
           "31954",
           "J13"
          ],
          [
           "1880",
           "J61"
          ],
          [
           "2017485",
           "J28"
          ],
          [
           "1156395",
           "1210a"
          ],
          [
           "1853311",
           "514f"
          ],
          [
           "566",
           "J22"
          ],
          [
           "31872",
           "503b"
          ],
          [
           "334852",
           "J346"
          ],
          [
           "[{'NCBI tax id': 1888, 'Matching level': 'species'}, {'NCBI tax id': 67257, 'Matching level': 'subspecies'}]",
           "J43"
          ],
          [
           "[{'NCBI tax id': 186189, 'Matching level': 'species'}, {'NCBI tax id': 446471, 'Matching level': 'strain'}]",
           "J26"
          ],
          [
           "1298612",
           "J26"
          ],
          [
           "82367",
           "J22"
          ],
          [
           "1530195",
           "J26"
          ],
          [
           "[{'NCBI tax id': 484882, 'Matching level': 'species'}, {'NCBI tax id': 1123062, 'Matching level': 'strain'}]",
           "J346"
          ],
          [
           "[{'NCBI tax id': 416586, 'Matching level': 'species'}, {'NCBI tax id': 1123250, 'Matching level': 'strain'}]",
           "J705"
          ],
          [
           "[{'NCBI tax id': 33050, 'Matching level': 'species'}, {'NCBI tax id': 1219047, 'Matching level': 'strain'}]",
           "1a"
          ],
          [
           "294",
           "1a"
          ],
          [
           "46172",
           "J42"
          ],
          [
           "591373",
           "1076b"
          ],
          [
           "2033",
           "J26"
          ],
          [
           "1926871",
           "J346"
          ],
          [
           "1825660",
           "J1034"
          ],
          [
           "1805714",
           "110a"
          ],
          [
           "1591",
           "11b"
          ],
          [
           "[{'NCBI tax id': 264463, 'Matching level': 'species'}, {'NCBI tax id': 1120996, 'Matching level': 'strain'}]",
           "104c"
          ],
          [
           "636",
           "J12"
          ],
          [
           "1821",
           "J43"
          ],
          [
           "55212",
           "1a"
          ],
          [
           "718192",
           "J118"
          ],
          [
           "239498",
           "J43"
          ],
          [
           "[{'NCBI tax id': 983594, 'Matching level': 'strain'}, {'NCBI tax id': 292, 'Matching level': 'species'}]",
           "J12"
          ],
          [
           "1823",
           "J57"
          ],
          [
           "66875",
           "J45"
          ],
          [
           "[{'NCBI tax id': 2006, 'Matching level': 'species'}, {'NCBI tax id': 469371, 'Matching level': 'strain'}]",
           "J42"
          ],
          [
           "217159",
           "104c"
          ],
          [
           "1535",
           "110a"
          ],
          [
           "2587862",
           "514f"
          ],
          [
           "1727",
           "535a"
          ],
          [
           "1783356",
           "J346"
          ],
          [
           "1603258",
           "J43"
          ],
          [
           "640633",
           "J118"
          ],
          [
           "31954",
           "J14"
          ],
          [
           "1254",
           "J509"
          ],
          [
           "[{'NCBI tax id': 983920, 'Matching level': 'strain'}, {'NCBI tax id': 378548, 'Matching level': 'species'}]",
           "1a"
          ],
          [
           "1465523",
           "J13"
          ],
          [
           "68174",
           "J58"
          ],
          [
           "[{'NCBI tax id': 585528, 'Matching level': 'strain'}, {'NCBI tax id': 2702, 'Matching level': 'species'}]",
           "J14"
          ],
          [
           "297584",
           "J42"
          ],
          [
           "1498",
           "J13"
          ],
          [
           "28044",
           "J42"
          ],
          [
           "[{'NCBI tax id': 716541, 'Matching level': 'strain'}, {'NCBI tax id': 550, 'Matching level': 'species'}]",
           "J22"
          ],
          [
           "1411316",
           "J74"
          ],
          [
           "2764322",
           "J14"
          ],
          [
           "2038731",
           "J386"
          ],
          [
           "520767",
           "104c"
          ],
          [
           "930197",
           "J22"
          ],
          [
           "371601",
           "1203a"
          ],
          [
           "399969",
           "1a"
          ],
          [
           "1465509",
           "J13"
          ],
          [
           "[{'NCBI tax id': 997349, 'Matching level': 'strain'}, {'NCBI tax id': 138595, 'Matching level': 'species'}]",
           "J14"
          ],
          [
           "[{'NCBI tax id': 1163730, 'Matching level': 'strain'}, {'NCBI tax id': 683846, 'Matching level': 'species'}]",
           "J935"
          ],
          [
           "67263",
           "J43"
          ],
          [
           "[{'NCBI tax id': 1258, 'Matching level': 'species'}, {'NCBI tax id': 573058, 'Matching level': 'strain'}]",
           "J14"
          ],
          [
           "41200",
           "11b"
          ],
          [
           "1751",
           "J14"
          ],
          [
           "650367",
           "J13"
          ],
          [
           "1625",
           "J418"
          ],
          [
           "47864",
           "J50"
          ],
          [
           "139021",
           "J26"
          ],
          [
           "1805431",
           "J156"
          ],
          [
           "1352348",
           "J118"
          ],
          [
           "1849278",
           "104b"
          ],
          [
           "[{'NCBI tax id': 71452, 'Matching level': 'species'}, {'NCBI tax id': 1218093, 'Matching level': 'strain'}]",
           "J156"
          ],
          [
           "235986",
           "J42"
          ],
          [
           "479117",
           "J26"
          ],
          [
           "1775",
           "J386"
          ],
          [
           "[{'NCBI tax id': 40682, 'Matching level': 'species'}, {'NCBI tax id': 1219048, 'Matching level': 'strain'}]",
           "J75"
          ],
          [
           "[{'NCBI tax id': 768672, 'Matching level': 'strain'}, {'NCBI tax id': 94694, 'Matching level': 'species'}]",
           "J187"
          ],
          [
           "[{'NCBI tax id': 1748, 'Matching level': 'species'}, {'NCBI tax id': 1171373, 'Matching level': 'strain'}]",
           "J84"
          ],
          [
           "1434701",
           "J346"
          ],
          [
           "[{'NCBI tax id': 264574, 'Matching level': 'species'}, {'NCBI tax id': 1279015, 'Matching level': 'strain'}]",
           "514f"
          ],
          [
           "2746",
           "514b"
          ],
          [
           "[{'NCBI tax id': 701521, 'Matching level': 'strain'}, {'NCBI tax id': 187452, 'Matching level': 'species'}]",
           "J111"
          ],
          [
           "[{'NCBI tax id': 1123227, 'Matching level': 'strain'}, {'NCBI tax id': 231053, 'Matching level': 'species'}]",
           "J97"
          ],
          [
           "[{'NCBI tax id': 29361, 'Matching level': 'species'}, {'NCBI tax id': 500632, 'Matching level': 'strain'}]",
           "104c"
          ],
          [
           "265606",
           "514a"
          ],
          [
           "889282",
           "9a"
          ],
          [
           "[{'NCBI tax id': 67365, 'Matching level': 'species'}, {'NCBI tax id': 1331668, 'Matching level': 'strain'}]",
           "J42"
          ],
          [
           "81499",
           "J346"
          ],
          [
           "539813",
           "J443"
          ],
          [
           "979627",
           "104c"
          ],
          [
           "[{'NCBI tax id': 28025, 'Matching level': 'species'}, {'NCBI tax id': 703613, 'Matching level': 'strain'}]",
           "J13"
          ],
          [
           "1272",
           "J475"
          ],
          [
           "[{'NCBI tax id': 51665, 'Matching level': 'species'}, {'NCBI tax id': 1120952, 'Matching level': 'strain'}]",
           "J17"
          ],
          [
           "84632",
           "J42"
          ],
          [
           "615",
           "J27"
          ],
          [
           "175631",
           "J167"
          ],
          [
           "[{'NCBI tax id': 1087479, 'Matching level': 'strain'}, {'NCBI tax id': 2751, 'Matching level': 'species'}]",
           "J28"
          ],
          [
           "2171585",
           "J172"
          ],
          [
           "208442",
           "J43"
          ],
          [
           "568899",
           "J377"
          ],
          [
           "1523160",
           "J43"
          ],
          [
           "559626",
           "J51"
          ],
          [
           "339861",
           "104b"
          ],
          [
           "2105",
           "1076b"
          ],
          [
           "37635",
           "514a"
          ],
          [
           "59406",
           "830c"
          ],
          [
           "234835",
           "J26"
          ],
          [
           "[{'NCBI tax id': 1223541, 'Matching level': 'strain'}, {'NCBI tax id': 40516, 'Matching level': 'species'}]",
           "J43"
          ],
          [
           "[{'NCBI tax id': 37925, 'Matching level': 'species'}, {'NCBI tax id': 1111738, 'Matching level': 'strain'}]",
           "J48"
          ],
          [
           "415221",
           "J736"
          ],
          [
           "285461",
           "J42"
          ],
          [
           "1775170",
           "J118"
          ],
          [
           "1888209",
           "J118"
          ],
          [
           "[{'NCBI tax id': 1351, 'Matching level': 'species'}, {'NCBI tax id': 1169286, 'Matching level': 'strain'}]",
           "J156"
          ],
          [
           "681158",
           "J42"
          ],
          [
           "1818711",
           "J26"
          ],
          [
           "1905692",
           "J27"
          ],
          [
           "[{'NCBI tax id': 1210096, 'Matching level': 'strain'}, {'NCBI tax id': 257274, 'Matching level': 'species'}]",
           "J43"
          ],
          [
           "[{'NCBI tax id': 1871086, 'Matching level': 'species'}, {'NCBI tax id': 288, 'Matching level': 'species'}]",
           "J118"
          ],
          [
           "650366",
           "J84"
          ],
          [
           "239",
           "J74"
          ],
          [
           "[{'NCBI tax id': 399550, 'Matching level': 'strain'}, {'NCBI tax id': 2280, 'Matching level': 'species'}]",
           "J151"
          ],
          [
           "1737",
           "J14"
          ],
          [
           "[{'NCBI tax id': 40542, 'Matching level': 'species'}, {'NCBI tax id': 523794, 'Matching level': 'strain'}]",
           "J14"
          ],
          [
           "420998",
           "J118"
          ],
          [
           "2548456",
           "J81"
          ],
          [
           "58119",
           "J58"
          ],
          [
           "133534",
           "J758"
          ],
          [
           "1680",
           "J84"
          ],
          [
           "1465516",
           "J13"
          ],
          [
           "[{'NCBI tax id': 29361, 'Matching level': 'species'}, {'NCBI tax id': 500632, 'Matching level': 'strain'}]",
           "J465"
          ],
          [
           "927787",
           "J118"
          ],
          [
           "146923",
           "J58"
          ],
          [
           "29347",
           "J14"
          ],
          [
           "103725",
           "J42"
          ],
          [
           "2047966",
           "J118"
          ],
          [
           "2599401",
           "J43"
          ],
          [
           "158877",
           "J12"
          ],
          [
           "32002",
           "J12"
          ],
          [
           "157782",
           "J12"
          ],
          [
           "1230341",
           "J1015"
          ],
          [
           "28104",
           "J254"
          ],
          [
           "418647",
           "830c"
          ],
          [
           "[{'NCBI tax id': 644, 'Matching level': 'species'}, {'NCBI tax id': 380703, 'Matching level': 'strain'}]",
           "J12"
          ],
          [
           "436231",
           "J26"
          ],
          [
           "1820002",
           "J22"
          ],
          [
           "1118455",
           "J22"
          ],
          [
           "340345",
           "J66"
          ],
          [
           "1690",
           "J13"
          ],
          [
           "[{'NCBI tax id': 402650, 'Matching level': 'species'}, {'NCBI tax id': 1120948, 'Matching level': 'strain'}]",
           "J43"
          ],
          [
           "1912855",
           "104b"
          ],
          [
           "1752076",
           "J27"
          ],
          [
           "53407",
           "J156"
          ],
          [
           "247",
           "J12"
          ],
          [
           "[{'NCBI tax id': 1121326, 'Matching level': 'strain'}, {'NCBI tax id': 33954, 'Matching level': 'species'}]",
           "104b"
          ],
          [
           "545",
           "J22"
          ],
          [
           "1541440",
           "J118"
          ],
          [
           "[{'NCBI tax id': 279572, 'Matching level': 'species'}, {'NCBI tax id': 1120959, 'Matching level': 'strain'}]",
           "J26"
          ],
          [
           "508451",
           "J13"
          ],
          [
           "1249",
           "J13"
          ],
          [
           "42055",
           "J605"
          ],
          [
           "1364935",
           "J574"
          ],
          [
           "[{'NCBI tax id': 985, 'Matching level': 'species'}, {'NCBI tax id': 269798, 'Matching level': 'strain'}]",
           "J155"
          ],
          [
           "2052480",
           "J167"
          ],
          [
           "1296415",
           "J118"
          ],
          [
           "1973259",
           "88c"
          ],
          [
           "650364",
           "J84"
          ],
          [
           "615",
           "J12"
          ],
          [
           "889282",
           "J436"
          ],
          [
           "[{'NCBI tax id': 358681, 'Matching level': 'strain'}, {'NCBI tax id': 1393, 'Matching level': 'species'}]",
           "J22"
          ],
          [
           "1076124",
           "J51"
          ],
          [
           "1161202",
           "J346"
          ],
          [
           "2220096",
           "514d"
          ],
          [
           "33946",
           "J22"
          ],
          [
           "24",
           "J22"
          ],
          [
           "147206",
           "J14"
          ],
          [
           "66871",
           "J42"
          ],
          [
           "1805470",
           "110a"
          ],
          [
           "1924",
           "J42"
          ],
          [
           "2675388",
           "J346"
          ],
          [
           "285351",
           "J28"
          ],
          [
           "53408",
           "220a"
          ],
          [
           "306",
           "J27"
          ],
          [
           "2066",
           "J42"
          ],
          [
           "1582439",
           "J1198"
          ],
          [
           "[{'NCBI tax id': 398514, 'Matching level': 'strain'}, {'NCBI tax id': 1681, 'Matching level': 'species'}]",
           "J13"
          ],
          [
           "861298",
           "514c"
          ],
          [
           "43667",
           "J26"
          ],
          [
           "37626",
           "195a"
          ],
          [
           "29408",
           "J192"
          ],
          [
           "[{'NCBI tax id': 525260, 'Matching level': 'strain'}, {'NCBI tax id': 38284, 'Matching level': 'species'}]",
           "J256"
          ],
          [
           "1818701",
           "J26"
          ],
          [
           "1869227",
           "968b"
          ],
          [
           "371601",
           "J14"
          ],
          [
           "1695",
           "J14"
          ],
          [
           "1768108",
           "J346"
          ],
          [
           "57909",
           "J346"
          ],
          [
           "1111760",
           "J75"
          ],
          [
           "1903694",
           "J27"
          ],
          [
           "[{'NCBI tax id': 101564, 'Matching level': 'species'}, {'NCBI tax id': 1215093, 'Matching level': 'strain'}]",
           "J22"
          ],
          [
           "29379",
           "J12"
          ],
          [
           "[{'NCBI tax id': 400061, 'Matching level': 'species'}, {'NCBI tax id': 1122928, 'Matching level': 'strain'}]",
           "830c"
          ],
          [
           "643747",
           "514b"
          ],
          [
           "1301084",
           "J42"
          ],
          [
           "2008450",
           "J75"
          ],
          [
           "1052260",
           "J26"
          ],
          [
           "1485217",
           "J346"
          ],
          [
           "29446",
           "J22"
          ],
          [
           "2608981",
           "J992"
          ],
          [
           "512762",
           "J346"
          ],
          [
           "1874361",
           "514b"
          ],
          [
           "[{'NCBI tax id': 203404, 'Matching level': 'subspecies'}, {'NCBI tax id': 1348656, 'Matching level': 'strain'}]",
           "J13"
          ],
          [
           "36821",
           "J26"
          ],
          [
           "28901",
           "J12"
          ],
          [
           "1652028",
           "J26"
          ],
          [
           "1838",
           "J49"
          ],
          [
           "81409",
           "711a"
          ],
          [
           "69540",
           "825a"
          ],
          [
           "519421",
           "J43"
          ],
          [
           "1712",
           "J28"
          ],
          [
           "2675298",
           "1277a"
          ],
          [
           "568844",
           "J51"
          ],
          [
           "438851",
           "J51"
          ],
          [
           "158850",
           "J12"
          ],
          [
           "1178777",
           "J632"
          ],
          [
           "1833",
           "J26"
          ],
          [
           "670079",
           "J26"
          ],
          [
           "1354300",
           "J14"
          ],
          [
           "1179467",
           "535a"
          ],
          [
           "1591",
           "J13"
          ],
          [
           "630995",
           "J43"
          ],
          [
           "1304270",
           "J732"
          ],
          [
           "103728",
           "J43"
          ],
          [
           "285486",
           "J50"
          ],
          [
           "676",
           "J22"
          ],
          [
           "[{'NCBI tax id': 435590, 'Matching level': 'strain'}, {'NCBI tax id': 821, 'Matching level': 'species'}]",
           "J84"
          ],
          [
           "324833",
           "J42"
          ],
          [
           "31958",
           "J42"
          ],
          [
           "67287",
           "J66"
          ],
          [
           "2162894",
           "J307"
          ],
          [
           "1276110",
           "J74"
          ],
          [
           "35752",
           "J42"
          ],
          [
           "337895",
           "J61"
          ],
          [
           "[{'NCBI tax id': 883169, 'Matching level': 'strain'}, {'NCBI tax id': 29321, 'Matching level': 'species'}]",
           "J28"
          ],
          [
           "[{'NCBI tax id': 1210087, 'Matching level': 'strain'}, {'NCBI tax id': 228596, 'Matching level': 'species'}]",
           "J26"
          ],
          [
           "2743610",
           "J677"
          ],
          [
           "1871047",
           "J75"
          ],
          [
           "1324851",
           "J26"
          ],
          [
           "[{'NCBI tax id': 1206720, 'Matching level': 'strain'}, {'NCBI tax id': 257277, 'Matching level': 'species'}]",
           "J43"
          ],
          [
           "1404",
           "J22"
          ],
          [
           "134034",
           "J26"
          ],
          [
           "35755",
           "J26"
          ],
          [
           "35760",
           "J84"
          ],
          [
           "214326",
           "J84"
          ],
          [
           "940145",
           "J346"
          ],
          [
           "1757089",
           "J346"
          ],
          [
           "60137",
           "J118"
          ],
          [
           "[{'NCBI tax id': 1210062, 'Matching level': 'strain'}, {'NCBI tax id': 404580, 'Matching level': 'species'}]",
           "J43"
          ],
          [
           "[{'NCBI tax id': 70863, 'Matching level': 'species'}, {'NCBI tax id': 211586, 'Matching level': 'strain'}]",
           "J27"
          ],
          [
           "[{'NCBI tax id': 47678, 'Matching level': 'species'}, {'NCBI tax id': 411901, 'Matching level': 'strain'}]",
           "J14"
          ],
          [
           "674529",
           "J14"
          ],
          [
           "[{'NCBI tax id': 1601, 'Matching level': 'species'}, {'NCBI tax id': 1423718, 'Matching level': 'strain'}]",
           "J84"
          ],
          [
           "1441626",
           "J346"
          ],
          [
           "[{'NCBI tax id': 1122981, 'Matching level': 'strain'}, {'NCBI tax id': 28128, 'Matching level': 'species'}]",
           "J156"
          ],
          [
           "1227077",
           "J346"
          ],
          [
           "1423",
           "J443"
          ],
          [
           "1537710",
           "J346"
          ],
          [
           "[{'NCBI tax id': 979, 'Matching level': 'species'}, {'NCBI tax id': 867900, 'Matching level': 'strain'}]",
           "J227"
          ],
          [
           "301",
           "J75"
          ],
          [
           "342950",
           "J118"
          ],
          [
           "69368",
           "J22"
          ],
          [
           "37333",
           "J43"
          ],
          [
           "154288",
           "104c"
          ],
          [
           "[{'NCBI tax id': 33011, 'Matching level': 'species'}, {'NCBI tax id': 1160719, 'Matching level': 'strain'}]",
           "J84"
          ],
          [
           "[{'NCBI tax id': 1206731, 'Matching level': 'strain'}, {'NCBI tax id': 282685, 'Matching level': 'species'}]",
           "J57"
          ],
          [
           "[{'NCBI tax id': 2208, 'Matching level': 'species'}, {'NCBI tax id': 1298606, 'Matching level': 'strain'}]",
           "J230"
          ],
          [
           "1643322",
           "J26"
          ],
          [
           "1244",
           "J13"
          ],
          [
           "1868395",
           "J475"
          ],
          [
           "[{'NCBI tax id': 264251, 'Matching level': 'species'}, {'NCBI tax id': 1349761, 'Matching level': 'strain'}]",
           "J28"
          ],
          [
           "1861917",
           "J346"
          ],
          [
           "285499",
           "J43"
          ],
          [
           "548",
           "J12"
          ],
          [
           "[{'NCBI tax id': 1784, 'Matching level': 'species'}, {'NCBI tax id': 1236483, 'Matching level': 'strain'}]",
           "J386"
          ],
          [
           "58351",
           "J42"
          ],
          [
           "425504",
           "535b"
          ],
          [
           "67384",
           "J43"
          ],
          [
           "69218",
           "J12"
          ],
          [
           "394094",
           "J436"
          ],
          [
           "42237",
           "J42"
          ],
          [
           "[{'NCBI tax id': 68277, 'Matching level': 'species'}, {'NCBI tax id': 1935, 'Matching level': 'species'}]",
           "J50"
          ],
          [
           "[{'NCBI tax id': 93683, 'Matching level': 'species'}, {'NCBI tax id': 1449350, 'Matching level': 'strain'}]",
           "J246"
          ],
          [
           "1755582",
           "J28"
          ],
          [
           "446787",
           "J26"
          ],
          [
           "1390249",
           "J1098"
          ],
          [
           "33905",
           "J84"
          ],
          [
           "1681",
           "J19"
          ],
          [
           "171279",
           "1076b"
          ],
          [
           "[{'NCBI tax id': 1766, 'Matching level': 'species'}, {'NCBI tax id': 1214102, 'Matching level': 'strain'}]",
           "J26"
          ],
          [
           "[{'NCBI tax id': 1121103, 'Matching level': 'strain'}, {'NCBI tax id': 75684, 'Matching level': 'species'}]",
           "220a"
          ],
          [
           "577492",
           "J386"
          ],
          [
           "587753",
           "J12"
          ],
          [
           "332186",
           "J443"
          ],
          [
           "2002",
           "J51"
          ],
          [
           "324952",
           "J42"
          ],
          [
           "588",
           "J12"
          ],
          [
           "1373",
           "J22"
          ],
          [
           "[{'NCBI tax id': 1108045, 'Matching level': 'strain'}, {'NCBI tax id': 83341, 'Matching level': 'species'}]",
           "J57"
          ],
          [
           "53522",
           "J217"
          ],
          [
           "1952",
           "J54"
          ],
          [
           "1912",
           "J66"
          ],
          [
           "2093857",
           "104c"
          ],
          [
           "702744",
           "J351"
          ],
          [
           "2051957",
           "514d"
          ],
          [
           "1379903",
           "J118"
          ],
          [
           "137733",
           "429b"
          ],
          [
           "[{'NCBI tax id': 158787, 'Matching level': 'species'}, {'NCBI tax id': 1150461, 'Matching level': 'strain'}]",
           "J14"
          ],
          [
           "113566",
           "J52"
          ],
          [
           "1891286",
           "J28"
          ],
          [
           "2665146",
           "J346"
          ],
          [
           "1506",
           "J13"
          ],
          [
           "[{'NCBI tax id': 2047, 'Matching level': 'species'}, {'NCBI tax id': 762948, 'Matching level': 'strain'}]",
           "J28"
          ],
          [
           "285462",
           "J50"
          ],
          [
           "[{'NCBI tax id': 335952, 'Matching level': 'species'}, {'NCBI tax id': 1227457, 'Matching level': 'strain'}]",
           "J168"
          ],
          [
           "[{'NCBI tax id': 53427, 'Matching level': 'species'}, {'NCBI tax id': 1121927, 'Matching level': 'strain'}]",
           "J26"
          ],
          [
           "674529",
           "J676"
          ],
          [
           "989",
           "172a"
          ],
          [
           "431269",
           "J386"
          ],
          [
           "1498",
           "J14"
          ],
          [
           "1587",
           "J13"
          ],
          [
           "33889",
           "J22"
          ],
          [
           "679663",
           "535a"
          ],
          [
           "138336",
           "J498"
          ],
          [
           "1550566",
           "924a"
          ],
          [
           "539",
           "J14"
          ],
          [
           "2338647",
           "830c"
          ],
          [
           "[{'NCBI tax id': 52226, 'Matching level': 'species'}, {'NCBI tax id': 500635, 'Matching level': 'strain'}]",
           "J14"
          ],
          [
           "67293",
           "J42"
          ],
          [
           "2493666",
           "J346"
          ],
          [
           "1535312",
           "J118"
          ],
          [
           "2594883",
           "J28"
          ],
          [
           "[{'NCBI tax id': 662477, 'Matching level': 'strain'}, {'NCBI tax id': 28442, 'Matching level': 'species'}]",
           "J169"
          ],
          [
           "1453103",
           "J51"
          ],
          [
           "[{'NCBI tax id': 585531, 'Matching level': 'strain'}, {'NCBI tax id': 219314, 'Matching level': 'species'}]",
           "J118"
          ],
          [
           "1178787",
           "J346"
          ],
          [
           "[{'NCBI tax id': 1121363, 'Matching level': 'strain'}, {'NCBI tax id': 541095, 'Matching level': 'species'}]",
           "J475"
          ],
          [
           "648",
           "1a"
          ],
          [
           "1463159",
           "830c"
          ],
          [
           "565",
           "J12"
          ],
          [
           "34073",
           "J27"
          ],
          [
           "1930",
           "J42"
          ],
          [
           "169875",
           "J26"
          ],
          [
           "419186",
           "J168"
          ],
          [
           "706186",
           "J346"
          ],
          [
           "2565926",
           "J943"
          ],
          [
           "1198301",
           "J574"
          ],
          [
           "29314",
           "J386"
          ],
          [
           "[{'NCBI tax id': 662476, 'Matching level': 'strain'}, {'NCBI tax id': 35742, 'Matching level': 'species'}]",
           "J168"
          ],
          [
           "198618",
           "1a"
          ],
          [
           "640943",
           "J167"
          ],
          [
           "39483",
           "J14"
          ],
          [
           "2707003",
           "J28"
          ],
          [
           "1288121",
           "J14"
          ],
          [
           "380685",
           "377a"
          ],
          [
           "549",
           "J12"
          ],
          [
           "[{'NCBI tax id': 1683, 'Matching level': 'species'}, {'NCBI tax id': 518635, 'Matching level': 'strain'}]",
           "J14"
          ],
          [
           "333139",
           "514f"
          ],
          [
           "189",
           "J27"
          ],
          [
           "349316",
           "J42"
          ],
          [
           "[{'NCBI tax id': 1385520, 'Matching level': 'strain'}, {'NCBI tax id': 136100, 'Matching level': 'species'}]",
           "J26"
          ],
          [
           "46163",
           "J43"
          ],
          [
           "[{'NCBI tax id': 203192, 'Matching level': 'species'}, {'NCBI tax id': 1211807, 'Matching level': 'species'}, {'NCBI tax id': 316, 'Matching level': 'species'}]",
           "1a"
          ],
          [
           "[{'NCBI tax id': 1053688, 'Matching level': 'strain'}, {'NCBI tax id': 103817, 'Matching level': 'species'}]",
           "J26"
          ],
          [
           "54913",
           "J26"
          ],
          [
           "1978373",
           "J22"
          ],
          [
           "2014",
           "J217"
          ],
          [
           "[{'NCBI tax id': 413499, 'Matching level': 'subspecies'}, {'NCBI tax id': 1159496, 'Matching level': 'strain'}]",
           "J12"
          ],
          [
           "574718",
           "J26"
          ],
          [
           "38402",
           "J469"
          ],
          [
           "1818723",
           "J43"
          ],
          [
           "1182597",
           "J104"
          ],
          [
           "254793",
           "J118"
          ],
          [
           "159723",
           "J41"
          ],
          [
           "502115",
           "J687"
          ],
          [
           "58172",
           "465h"
          ],
          [
           "1658108",
           "104b"
          ],
          [
           "570012",
           "535b"
          ],
          [
           "1868405",
           "J475"
          ],
          [
           "568899",
           "514d"
          ],
          [
           "[{'NCBI tax id': 564423, 'Matching level': 'strain'}, {'NCBI tax id': 29442, 'Matching level': 'species'}]",
           "J22"
          ],
          [
           "1610",
           "J13"
          ],
          [
           "[{'NCBI tax id': 1219362, 'Matching level': 'strain'}, {'NCBI tax id': 85044, 'Matching level': 'species'}]",
           "J43"
          ],
          [
           "1987062",
           "J27"
          ],
          [
           "1603886",
           "J13"
          ],
          [
           "1291555",
           "J42"
          ],
          [
           "2026",
           "J49"
          ],
          [
           "280871",
           "J386"
          ],
          [
           "46173",
           "J43"
          ],
          [
           "[{'NCBI tax id': 1423716, 'Matching level': 'strain'}, {'NCBI tax id': 89059, 'Matching level': 'species'}]",
           "J13"
          ],
          [
           "426114",
           "35a"
          ]
         ],
         "hovertemplate": "Cluster=11<br>Component 1=%{x}<br>Component 2=%{y}<br>taxon_id=%{customdata[0]}<br>media_id=%{customdata[1]}<extra></extra>",
         "legendgroup": "11",
         "marker": {
          "color": "#00cc96",
          "opacity": 0.3,
          "symbol": "circle"
         },
         "mode": "markers",
         "name": "11",
         "showlegend": true,
         "type": "scattergl",
         "x": [
          8.962106704711914,
          8.840847969055176,
          8.773208618164062,
          8.791075706481934,
          8.672554016113281,
          8.874166488647461,
          8.999298095703125,
          8.889681816101074,
          8.795186042785645,
          8.932846069335938,
          8.853337287902832,
          8.965498924255371,
          8.774052619934082,
          8.910795211791992,
          9.0562744140625,
          8.843047142028809,
          8.97242259979248,
          8.78278923034668,
          8.82007122039795,
          8.918269157409668,
          8.991503715515137,
          8.96584701538086,
          9.119410514831543,
          9.086331367492676,
          8.932450294494629,
          8.8914213180542,
          9.201804161071777,
          8.933768272399902,
          8.969603538513184,
          9.043414115905762,
          8.841814041137695,
          8.950088500976562,
          9.019953727722168,
          8.985461235046387,
          9.046175003051758,
          9.04404067993164,
          9.067771911621094,
          8.858940124511719,
          9.182075500488281,
          8.846245765686035,
          9.25777530670166,
          9.043991088867188,
          8.959395408630371,
          9.209549903869629,
          9.156166076660156,
          9.608011245727539,
          8.635286331176758,
          9.211934089660645,
          9.0823974609375,
          9.057733535766602,
          9.176218032836914,
          9.41333293914795,
          9.190450668334961,
          8.907580375671387,
          8.933209419250488,
          8.936386108398438,
          9.37123966217041,
          9.412591934204102,
          9.267318725585938,
          9.187507629394531,
          9.406248092651367,
          9.185970306396484,
          9.394293785095215,
          8.928564071655273,
          9.262247085571289,
          9.134115219116211,
          9.197518348693848,
          9.260744094848633,
          9.07625675201416,
          9.297690391540527,
          9.472945213317871,
          9.731236457824707,
          9.268394470214844,
          9.110283851623535,
          9.225110054016113,
          9.515188217163086,
          9.14563274383545,
          9.406586647033691,
          9.314897537231445,
          9.366242408752441,
          9.138636589050293,
          9.134140014648438,
          9.118940353393555,
          9.217156410217285,
          9.253457069396973,
          9.363553047180176,
          9.061261177062988,
          9.579681396484375,
          9.385085105895996,
          9.367385864257812,
          9.148563385009766,
          9.010857582092285,
          9.19467830657959,
          9.0303373336792,
          9.270917892456055,
          9.27298641204834,
          9.353521347045898,
          9.317625999450684,
          8.90128231048584,
          9.233892440795898,
          9.378118515014648,
          9.294108390808105,
          9.49050521850586,
          9.134244918823242,
          8.98912525177002,
          9.330998420715332,
          9.473966598510742,
          9.133615493774414,
          9.300081253051758,
          9.395752906799316,
          9.085351943969727,
          9.242992401123047,
          9.21535587310791,
          9.438916206359863,
          9.61159896850586,
          9.540959358215332,
          9.594931602478027,
          8.985553741455078,
          9.57294750213623,
          9.507960319519043,
          9.310513496398926,
          9.154267311096191,
          9.275988578796387,
          9.583637237548828,
          9.522116661071777,
          9.466957092285156,
          9.647624015808105,
          9.690006256103516,
          9.35386848449707,
          9.35466194152832,
          9.074995994567871,
          9.493123054504395,
          8.985574722290039,
          9.43021011352539,
          9.527156829833984,
          9.327380180358887,
          9.469324111938477,
          9.132152557373047,
          9.567094802856445,
          9.38318157196045,
          9.668497085571289,
          9.657683372497559,
          9.661524772644043,
          9.350318908691406,
          9.081515312194824,
          9.569640159606934,
          9.556173324584961,
          9.046083450317383,
          9.317069053649902,
          9.263599395751953,
          9.438389778137207,
          9.524467468261719,
          9.43653678894043,
          9.41303539276123,
          9.32172966003418,
          9.045835494995117,
          9.526330947875977,
          9.206768989562988,
          9.513138771057129,
          9.381616592407227,
          7.86968994140625,
          9.201984405517578,
          9.264673233032227,
          9.026592254638672,
          9.310060501098633,
          9.231114387512207,
          9.010709762573242,
          9.460565567016602,
          9.370670318603516,
          9.20749282836914,
          8.92756462097168,
          9.169892311096191,
          9.320383071899414,
          9.298482894897461,
          9.092085838317871,
          9.120896339416504,
          9.234749794006348,
          9.268500328063965,
          9.26379680633545,
          9.20848560333252,
          9.162481307983398,
          9.104730606079102,
          9.565366744995117,
          9.325175285339355,
          9.042784690856934,
          9.282116889953613,
          9.46764087677002,
          9.269935607910156,
          9.2435884475708,
          9.278417587280273,
          9.37924861907959,
          8.954365730285645,
          8.985652923583984,
          9.095951080322266,
          9.116026878356934,
          9.105034828186035,
          9.15656566619873,
          9.101419448852539,
          9.03248405456543,
          9.15246868133545,
          9.1385498046875,
          9.07990550994873,
          9.329177856445312,
          9.176222801208496,
          9.356708526611328,
          9.036748886108398,
          9.226855278015137,
          9.391602516174316,
          8.724008560180664,
          9.002524375915527,
          9.140069961547852,
          9.200786590576172,
          9.465540885925293,
          9.161556243896484,
          9.021448135375977,
          9.044265747070312,
          9.194438934326172,
          9.314714431762695,
          9.033345222473145,
          8.9436674118042,
          9.156978607177734,
          9.047783851623535,
          9.039944648742676,
          9.19278621673584,
          8.897809028625488,
          9.47053337097168,
          9.209836959838867,
          8.913269996643066,
          9.312346458435059,
          9.365202903747559,
          9.28257942199707,
          9.247319221496582,
          9.24040699005127,
          9.134317398071289,
          4.466409206390381,
          9.456645965576172,
          9.072404861450195,
          9.25769329071045,
          9.296648979187012,
          9.098716735839844,
          9.088692665100098,
          9.169136047363281,
          9.23580265045166,
          9.220545768737793,
          9.107810020446777,
          9.1293363571167,
          9.34066104888916,
          9.314706802368164,
          9.339062690734863,
          9.371491432189941,
          9.276459693908691,
          9.020804405212402,
          9.299518585205078,
          9.319023132324219,
          9.291352272033691,
          9.157907485961914,
          9.09188175201416,
          9.302308082580566,
          9.235044479370117,
          9.277421951293945,
          9.21160888671875,
          9.160202026367188,
          9.476917266845703,
          9.319754600524902,
          9.335932731628418,
          9.201698303222656,
          9.487405776977539,
          9.217231750488281,
          9.354923248291016,
          9.401209831237793,
          9.165407180786133,
          9.450654983520508,
          9.176255226135254,
          9.39049243927002,
          9.297783851623535,
          9.240854263305664,
          9.329974174499512,
          9.21287727355957,
          9.090662956237793,
          9.48826789855957,
          9.213607788085938,
          9.213385581970215,
          9.255146026611328,
          9.315627098083496,
          9.416511535644531,
          9.212892532348633,
          9.383343696594238,
          9.405021667480469,
          9.293795585632324,
          9.323022842407227,
          9.475780487060547,
          9.276808738708496,
          9.072978973388672,
          9.160061836242676,
          9.201042175292969,
          9.210512161254883,
          9.492656707763672,
          9.256293296813965,
          9.419953346252441,
          9.380560874938965,
          9.358884811401367,
          9.470195770263672,
          9.331197738647461,
          9.557785034179688,
          9.43066120147705,
          9.377578735351562,
          9.444329261779785,
          9.425687789916992,
          9.309080123901367,
          9.388372421264648,
          9.242315292358398,
          9.42945671081543,
          9.43870735168457,
          9.180025100708008,
          9.330244064331055,
          9.207362174987793,
          9.262615203857422,
          9.561270713806152,
          9.288033485412598,
          9.567567825317383,
          9.36201286315918,
          9.205428123474121,
          9.316600799560547,
          9.347079277038574,
          9.381473541259766,
          9.280451774597168,
          9.339789390563965,
          9.424067497253418,
          9.345174789428711,
          9.516241073608398,
          9.398567199707031,
          9.4476900100708,
          9.360928535461426,
          9.487786293029785,
          9.468707084655762,
          9.436151504516602,
          8.808977127075195,
          9.427325248718262,
          9.467487335205078,
          9.41817569732666,
          9.400405883789062,
          9.47956371307373,
          9.433575630187988,
          9.505908966064453,
          9.453181266784668,
          9.567998886108398,
          9.360101699829102,
          9.561415672302246,
          9.37744426727295,
          9.335993766784668,
          9.574371337890625,
          9.452284812927246,
          9.496177673339844,
          9.71023178100586,
          9.531238555908203,
          9.283483505249023,
          9.305245399475098,
          9.472018241882324,
          9.479337692260742,
          9.559222221374512,
          9.632161140441895,
          9.543655395507812,
          9.451919555664062,
          9.48458194732666,
          9.359606742858887,
          9.464731216430664,
          9.390148162841797,
          9.593599319458008,
          9.534942626953125,
          9.488332748413086,
          9.432355880737305,
          9.511597633361816,
          9.587323188781738,
          9.408443450927734,
          9.55720329284668,
          9.567097663879395,
          9.40992259979248,
          9.396220207214355,
          9.392826080322266,
          9.326457977294922,
          9.597355842590332,
          9.603801727294922,
          9.568334579467773,
          9.574390411376953,
          9.673521041870117,
          9.619635581970215,
          9.307167053222656,
          9.335049629211426,
          9.547107696533203,
          9.483969688415527,
          9.444449424743652,
          9.611377716064453,
          9.317460060119629,
          9.277119636535645,
          9.319892883300781,
          9.4207763671875,
          9.376002311706543,
          9.332757949829102,
          9.478127479553223,
          9.310406684875488,
          9.463510513305664,
          9.637458801269531,
          9.345271110534668,
          9.42557144165039,
          9.293187141418457,
          9.393013000488281,
          9.468256950378418,
          9.54078197479248,
          9.335406303405762,
          9.176993370056152,
          9.381028175354004,
          9.45154094696045,
          9.30884075164795,
          9.301913261413574,
          9.385194778442383,
          9.32551383972168,
          9.317255020141602,
          9.178871154785156,
          9.393000602722168,
          9.35688591003418,
          9.231995582580566,
          9.380830764770508,
          9.437671661376953,
          9.296670913696289,
          9.349458694458008,
          9.311605453491211,
          9.172112464904785,
          9.43217945098877,
          9.455860137939453,
          9.4450044631958,
          9.307212829589844,
          9.473617553710938,
          9.451717376708984,
          9.411170959472656,
          9.267303466796875,
          9.259020805358887,
          9.274870872497559,
          9.270096778869629,
          9.345035552978516,
          9.418242454528809,
          9.326805114746094,
          9.429219245910645,
          9.217672348022461,
          9.462250709533691,
          9.25458812713623,
          9.192370414733887,
          9.456738471984863,
          9.234601020812988,
          9.322650909423828,
          7.97627592086792,
          9.317234992980957,
          9.369571685791016,
          9.565324783325195,
          9.35630989074707,
          9.326926231384277,
          9.161352157592773,
          9.20678424835205,
          9.369290351867676,
          9.19956111907959,
          9.224238395690918,
          8.691868782043457,
          9.36390209197998,
          9.33808422088623,
          9.214855194091797,
          9.31153392791748,
          9.179418563842773,
          9.126632690429688,
          9.460402488708496,
          9.311039924621582,
          9.240148544311523,
          9.29344367980957,
          9.199310302734375,
          9.308126449584961,
          9.22462272644043,
          9.232748031616211,
          9.205170631408691,
          9.400272369384766,
          9.186479568481445,
          9.373442649841309,
          9.257261276245117,
          9.22771167755127,
          9.336127281188965,
          9.353157043457031,
          9.210247039794922,
          9.466980934143066,
          9.267541885375977,
          9.536860466003418,
          9.427682876586914,
          9.520492553710938,
          9.35104751586914,
          9.238738059997559,
          9.365630149841309,
          9.363358497619629,
          9.318456649780273,
          9.343281745910645,
          9.194097518920898,
          9.216726303100586,
          9.309965133666992,
          9.216118812561035,
          9.39401912689209,
          9.287598609924316,
          9.342262268066406,
          9.41435718536377,
          9.424063682556152,
          9.317985534667969,
          9.390325546264648,
          9.279740333557129,
          9.33522891998291,
          9.426981925964355,
          9.384358406066895,
          9.380066871643066,
          9.49857234954834,
          9.508119583129883,
          9.326215744018555,
          9.394947052001953,
          9.369503021240234,
          9.296503067016602,
          9.524014472961426,
          9.309917449951172,
          9.528962135314941,
          9.476543426513672,
          9.448234558105469,
          9.42996597290039,
          9.355203628540039,
          9.36578369140625,
          9.520490646362305,
          9.403629302978516,
          9.43410587310791,
          9.378338813781738,
          9.40971565246582,
          9.273589134216309,
          9.380565643310547,
          9.493433952331543,
          9.204312324523926,
          9.423253059387207,
          9.376946449279785,
          9.40771770477295,
          9.459930419921875,
          9.423863410949707,
          9.320117950439453,
          9.40883731842041,
          9.477653503417969,
          9.455440521240234,
          9.413277626037598,
          9.451738357543945,
          9.383212089538574,
          9.442936897277832,
          9.378348350524902,
          9.467708587646484,
          9.394815444946289,
          9.386088371276855,
          9.398824691772461,
          9.501968383789062,
          9.356843948364258,
          9.496376991271973,
          9.386246681213379,
          9.631606101989746,
          8.84848690032959,
          9.524877548217773,
          9.370644569396973,
          9.386500358581543,
          9.450621604919434,
          9.533945083618164,
          9.38976001739502,
          9.41738510131836,
          9.4645357131958,
          9.299123764038086,
          9.42229175567627,
          9.395432472229004,
          9.417253494262695,
          9.39646053314209,
          9.498369216918945,
          9.309181213378906,
          9.462687492370605,
          9.420032501220703,
          9.208634376525879,
          9.352821350097656,
          9.254911422729492,
          9.30752944946289,
          9.42637825012207,
          9.365528106689453,
          9.295788764953613,
          9.307012557983398,
          9.267982482910156,
          9.246031761169434,
          9.181516647338867,
          9.319561004638672,
          9.317422866821289,
          8.511493682861328,
          8.541868209838867,
          8.531460762023926,
          9.081009864807129,
          8.624893188476562,
          8.619873046875,
          9.078141212463379,
          9.086475372314453,
          9.190662384033203,
          8.94581127166748,
          8.768537521362305,
          9.041004180908203,
          9.000479698181152,
          8.970280647277832,
          9.084129333496094,
          8.892967224121094,
          9.008831024169922,
          8.917689323425293,
          8.886613845825195,
          8.22338581085205,
          8.212562561035156,
          9.010973930358887,
          8.802139282226562,
          8.863997459411621,
          8.870565414428711,
          8.877090454101562,
          9.203530311584473,
          9.064970016479492,
          8.975329399108887,
          8.819892883300781,
          9.099720001220703,
          8.865137100219727,
          9.10904598236084,
          9.05113697052002,
          9.153820037841797,
          9.011046409606934,
          9.034351348876953,
          8.984489440917969,
          8.847817420959473,
          8.862085342407227,
          9.030030250549316,
          8.912680625915527,
          9.007430076599121,
          9.011301040649414,
          8.969686508178711,
          8.874539375305176,
          8.885056495666504,
          8.898398399353027,
          8.940722465515137,
          9.138724327087402,
          9.078895568847656,
          8.924505233764648,
          8.897693634033203,
          9.048060417175293,
          8.933028221130371,
          8.732414245605469,
          8.874911308288574,
          8.795955657958984,
          8.791484832763672,
          8.77551555633545,
          8.83594799041748,
          9.02938175201416,
          9.042378425598145,
          8.947571754455566,
          8.94546890258789,
          8.966195106506348,
          8.855255126953125,
          8.885573387145996,
          8.973322868347168,
          8.790060043334961,
          8.788779258728027,
          8.89861011505127,
          9.09862995147705,
          8.727452278137207,
          8.9417724609375,
          8.889215469360352,
          8.994789123535156,
          8.701467514038086,
          8.911961555480957,
          8.895159721374512,
          8.892297744750977,
          8.955414772033691,
          8.960508346557617,
          8.897910118103027,
          8.922359466552734,
          8.928030014038086,
          8.96944808959961,
          8.97044849395752,
          8.887947082519531,
          8.769217491149902,
          4.521651268005371,
          8.862701416015625,
          8.814862251281738,
          8.858161926269531,
          8.861451148986816,
          8.853667259216309,
          8.844579696655273,
          8.788695335388184,
          8.964327812194824,
          8.770792961120605,
          8.83027458190918,
          8.837285995483398,
          8.441062927246094,
          8.804247856140137,
          8.77143669128418,
          8.868755340576172,
          8.660428047180176,
          8.73246955871582,
          8.931089401245117,
          8.811187744140625,
          8.90092945098877,
          4.4452996253967285,
          8.73133373260498,
          8.89163875579834,
          8.849472045898438,
          8.872147560119629,
          8.670076370239258,
          8.835363388061523,
          8.892535209655762,
          8.79077434539795,
          8.74914836883545,
          8.787735939025879,
          8.931224822998047,
          8.713677406311035,
          8.7973051071167,
          8.801926612854004,
          8.707313537597656,
          8.87472152709961,
          8.877535820007324,
          8.747014045715332,
          8.669258117675781,
          8.753852844238281,
          8.693044662475586,
          8.792220115661621,
          8.718443870544434,
          8.788779258728027,
          8.68342113494873,
          8.662793159484863,
          8.738834381103516,
          8.739886283874512,
          8.637199401855469,
          8.632532119750977,
          8.825913429260254,
          8.91765308380127,
          8.730615615844727,
          8.778773307800293,
          8.965946197509766,
          8.688080787658691,
          8.712596893310547,
          8.708484649658203,
          8.673332214355469,
          8.739053726196289,
          8.784066200256348,
          8.721480369567871,
          8.721475601196289,
          8.69645881652832,
          8.662580490112305,
          8.596000671386719,
          8.560447692871094,
          8.635645866394043,
          8.643978118896484,
          8.599443435668945,
          8.78719425201416,
          8.74610710144043,
          8.83260440826416,
          8.752439498901367,
          8.894325256347656,
          8.607294082641602,
          8.585230827331543,
          8.684829711914062,
          8.524967193603516,
          8.773353576660156,
          8.71458625793457,
          8.827454566955566,
          8.745977401733398,
          8.670910835266113,
          8.648219108581543,
          8.69817066192627,
          8.53209114074707,
          8.645617485046387,
          8.724674224853516,
          8.58259105682373,
          8.676918029785156,
          8.661299705505371,
          8.65620231628418,
          8.577199935913086,
          8.570002555847168,
          8.886636734008789,
          8.722344398498535,
          4.490607261657715,
          4.526904582977295,
          9.0183744430542,
          9.18188762664795,
          7.841987133026123,
          8.11909294128418,
          8.12077808380127,
          8.147911071777344,
          7.953767776489258,
          8.219131469726562,
          8.211906433105469,
          8.005197525024414,
          8.193151473999023,
          8.201957702636719,
          8.270191192626953,
          8.230932235717773,
          8.159916877746582,
          8.021766662597656,
          8.098949432373047,
          7.815254211425781,
          7.962236404418945,
          8.355696678161621,
          7.740666389465332,
          8.147551536560059,
          7.9949846267700195,
          8.27188491821289,
          8.089279174804688,
          8.2472505569458,
          8.353812217712402,
          8.022814750671387,
          8.114727020263672,
          8.204170227050781,
          8.015264511108398,
          7.902897357940674,
          8.189661979675293,
          8.106215476989746,
          8.992969512939453,
          8.229247093200684,
          8.128805160522461,
          8.131158828735352,
          8.063112258911133,
          8.018468856811523,
          8.029337882995605,
          7.891934394836426,
          7.968291759490967,
          8.117825508117676,
          8.142942428588867,
          8.066752433776855,
          8.046326637268066,
          7.985457420349121,
          8.084558486938477,
          8.167810440063477,
          8.018898963928223,
          7.837649345397949,
          8.014739036560059,
          7.974813938140869,
          8.140803337097168,
          8.206476211547852,
          8.028453826904297,
          7.995457649230957,
          7.911394119262695,
          8.029419898986816,
          7.993605613708496,
          9.112098693847656,
          8.02889633178711,
          7.961216926574707,
          8.275545120239258,
          8.259908676147461,
          7.976332187652588,
          8.09069538116455,
          8.162778854370117,
          8.010801315307617,
          7.996215343475342,
          8.269164085388184,
          7.956304550170898,
          7.932055473327637,
          8.30697250366211,
          7.919626712799072,
          8.055038452148438,
          7.927260875701904,
          7.936887741088867,
          8.078365325927734,
          8.106298446655273,
          7.991206169128418,
          4.491250991821289,
          7.857912063598633,
          8.1797456741333,
          7.80991792678833,
          8.155424118041992,
          8.048469543457031,
          7.881778717041016,
          7.990636348724365,
          8.378334045410156,
          7.844926834106445,
          8.06246566772461,
          8.0504789352417,
          8.174910545349121,
          8.127490997314453,
          8.083480834960938,
          7.896579742431641,
          7.832818508148193,
          8.030512809753418,
          8.129755020141602,
          8.079009056091309,
          8.189477920532227,
          8.07496452331543,
          8.08272933959961,
          8.24027156829834,
          8.426568984985352,
          8.3973970413208,
          7.955826759338379,
          8.339007377624512,
          8.356484413146973,
          8.257367134094238,
          8.420492172241211,
          8.12051010131836,
          8.115242958068848,
          8.034287452697754,
          8.331798553466797,
          8.169892311096191,
          8.212725639343262,
          8.373205184936523,
          8.078044891357422,
          8.136027336120605,
          8.015073776245117,
          7.928412914276123,
          7.949031352996826,
          8.166850090026855,
          7.903446674346924,
          8.032943725585938,
          7.947747230529785,
          8.054747581481934,
          7.942850589752197,
          8.320110321044922,
          8.130091667175293,
          9.073548316955566,
          8.142388343811035,
          8.014620780944824,
          8.076366424560547,
          8.365458488464355,
          8.052591323852539,
          8.50390625,
          7.981199264526367,
          8.049088478088379,
          7.998035907745361,
          8.226215362548828,
          8.150147438049316,
          8.245619773864746,
          8.01697063446045,
          8.03328800201416,
          8.284564018249512,
          8.311171531677246,
          8.153403282165527,
          7.9513044357299805,
          8.229536056518555,
          7.961369514465332,
          8.372464179992676,
          8.300711631774902,
          8.161720275878906,
          8.938241958618164,
          8.222151756286621,
          8.187104225158691,
          8.312983512878418,
          8.265624046325684,
          8.128976821899414,
          8.018693923950195,
          8.357828140258789,
          8.36985969543457,
          8.085664749145508,
          8.074240684509277,
          8.223125457763672,
          8.03566837310791,
          8.154460906982422,
          8.265217781066895,
          8.418228149414062,
          8.167683601379395,
          8.091176986694336,
          8.367880821228027,
          7.831017017364502,
          8.211015701293945,
          8.08028793334961,
          8.030655860900879,
          8.138762474060059,
          8.196006774902344,
          8.257137298583984,
          8.028230667114258,
          8.441497802734375,
          8.236967086791992,
          8.277351379394531,
          8.338338851928711,
          8.31066608428955,
          8.406661987304688,
          8.238568305969238,
          8.355835914611816,
          8.270416259765625,
          8.128978729248047,
          8.137859344482422,
          8.421195030212402,
          8.21173095703125,
          8.422446250915527,
          8.218377113342285,
          8.364832878112793,
          8.425679206848145,
          8.168048858642578,
          8.472822189331055,
          8.259427070617676,
          8.220392227172852,
          8.596963882446289,
          8.409514427185059,
          8.492571830749512,
          8.252787590026855,
          8.415816307067871,
          8.463732719421387,
          8.270075798034668,
          8.34815502166748,
          8.286444664001465,
          8.416234970092773,
          8.285322189331055,
          8.3256196975708,
          8.399580955505371,
          8.46090030670166,
          8.37267017364502,
          8.471566200256348,
          8.501093864440918,
          8.465657234191895,
          8.5458984375,
          8.435554504394531,
          8.499832153320312,
          8.556709289550781
         ],
         "xaxis": "x",
         "y": [
          3.9726366996765137,
          3.8402061462402344,
          3.846834659576416,
          3.8182992935180664,
          3.644301414489746,
          3.9057347774505615,
          3.9980404376983643,
          4.027857303619385,
          3.97987699508667,
          3.7309908866882324,
          3.8931939601898193,
          3.854566812515259,
          4.109867095947266,
          3.8059489727020264,
          4.0394287109375,
          3.9511349201202393,
          3.966723680496216,
          4.251866340637207,
          3.9760189056396484,
          4.020819664001465,
          3.9455132484436035,
          3.980966091156006,
          3.8675336837768555,
          3.804119348526001,
          3.979602813720703,
          4.062690258026123,
          4.059755802154541,
          4.105215549468994,
          3.9673798084259033,
          4.111978054046631,
          4.1089630126953125,
          4.037550926208496,
          4.000254154205322,
          4.035096168518066,
          4.20692777633667,
          3.9263405799865723,
          4.253938674926758,
          4.0609941482543945,
          4.150676727294922,
          3.891068935394287,
          4.336635112762451,
          3.9174835681915283,
          4.070017337799072,
          4.279332160949707,
          4.241161823272705,
          4.106224536895752,
          3.4673068523406982,
          3.9595947265625,
          3.9333574771881104,
          4.204896450042725,
          4.011187553405762,
          4.181905746459961,
          4.098435878753662,
          4.099294662475586,
          4.039793491363525,
          3.9896481037139893,
          4.043734073638916,
          4.0596513748168945,
          4.174633979797363,
          3.915715217590332,
          4.02811336517334,
          4.032746315002441,
          4.034921169281006,
          4.083292007446289,
          4.223654747009277,
          4.047692775726318,
          4.115421295166016,
          3.6441402435302734,
          4.160778522491455,
          4.210525989532471,
          4.183581352233887,
          4.045383453369141,
          3.937190532684326,
          3.7476563453674316,
          3.7526652812957764,
          3.792099714279175,
          4.040215492248535,
          3.85153865814209,
          3.787776231765747,
          3.8732028007507324,
          4.015938758850098,
          4.412495136260986,
          3.9253339767456055,
          3.9083683490753174,
          3.8989880084991455,
          4.081190586090088,
          4.137782096862793,
          4.203004837036133,
          4.384515285491943,
          3.8624308109283447,
          4.020605087280273,
          4.12526798248291,
          3.9503843784332275,
          3.9281063079833984,
          3.9313652515411377,
          4.165036201477051,
          4.303493022918701,
          4.0477094650268555,
          3.9996886253356934,
          4.176424503326416,
          4.021878719329834,
          4.104879856109619,
          4.337011337280273,
          4.32639741897583,
          4.182305335998535,
          4.202022552490234,
          4.169435501098633,
          4.025351524353027,
          3.972027063369751,
          4.269811630249023,
          3.8173131942749023,
          4.057445049285889,
          4.083121299743652,
          3.9858882427215576,
          4.330924034118652,
          4.112312316894531,
          4.487044334411621,
          4.0156989097595215,
          4.33664608001709,
          4.066921234130859,
          4.1564154624938965,
          4.112725257873535,
          4.005526065826416,
          4.391464710235596,
          4.29341459274292,
          4.0270280838012695,
          3.9622344970703125,
          4.357807636260986,
          4.307079792022705,
          4.420714855194092,
          4.373995304107666,
          4.194840908050537,
          3.357206344604492,
          4.582178592681885,
          4.221487998962402,
          4.258545398712158,
          4.644661903381348,
          4.234826564788818,
          4.472957134246826,
          4.6104631423950195,
          4.697353363037109,
          4.677798271179199,
          4.029953956604004,
          4.097775936126709,
          4.119324684143066,
          4.363255977630615,
          4.37221622467041,
          4.280209064483643,
          4.6514997482299805,
          4.562626838684082,
          4.479037284851074,
          4.398283958435059,
          4.282564640045166,
          4.398528575897217,
          4.261905193328857,
          4.360674858093262,
          4.618341445922852,
          4.551734447479248,
          4.032992839813232,
          4.496265411376953,
          3.956277370452881,
          4.134088516235352,
          4.286778926849365,
          4.689327716827393,
          4.340809345245361,
          4.4000935554504395,
          4.146932125091553,
          4.538332939147949,
          4.066899299621582,
          4.489926338195801,
          4.5582709312438965,
          4.083179473876953,
          4.321623802185059,
          4.51349401473999,
          4.515181541442871,
          4.580124855041504,
          4.232228755950928,
          4.391706466674805,
          4.627591609954834,
          4.149574279785156,
          4.098842620849609,
          4.130781173706055,
          4.157048225402832,
          4.713284492492676,
          4.327142238616943,
          4.150047302246094,
          4.411503314971924,
          4.6537699699401855,
          4.456075668334961,
          4.604919910430908,
          4.397377967834473,
          4.248993873596191,
          4.3149566650390625,
          4.207250595092773,
          4.459444522857666,
          4.432620048522949,
          4.180964946746826,
          4.5599870681762695,
          4.339118957519531,
          4.595051288604736,
          4.102334976196289,
          4.4757561683654785,
          4.3763580322265625,
          4.224000453948975,
          4.6212944984436035,
          4.513874053955078,
          4.554712772369385,
          4.565441131591797,
          3.9353585243225098,
          4.554288387298584,
          4.295540809631348,
          4.5386576652526855,
          4.393047332763672,
          4.379262924194336,
          4.561419486999512,
          4.195711135864258,
          4.527892112731934,
          4.197760105133057,
          4.605905055999756,
          4.52657413482666,
          4.64813232421875,
          4.508035182952881,
          4.510634899139404,
          4.339698791503906,
          4.63493537902832,
          4.490812301635742,
          4.322253704071045,
          4.5372490882873535,
          4.628791809082031,
          4.620179653167725,
          4.297552585601807,
          4.45432186126709,
          4.56252908706665,
          4.478733062744141,
          3.5386767387390137,
          4.622157096862793,
          4.782783508300781,
          4.434169769287109,
          4.813244342803955,
          4.725113868713379,
          4.625386714935303,
          4.557669639587402,
          4.595307350158691,
          4.544384479522705,
          4.837776184082031,
          4.7395477294921875,
          4.346127033233643,
          4.353819847106934,
          4.7491960525512695,
          4.587104797363281,
          4.55463981628418,
          4.799293041229248,
          4.63215446472168,
          4.557254791259766,
          4.708700180053711,
          4.510936737060547,
          4.721872329711914,
          4.547286033630371,
          4.760177135467529,
          4.454538822174072,
          4.490054130554199,
          4.619740962982178,
          4.452924728393555,
          4.508981704711914,
          4.856616973876953,
          4.647124290466309,
          4.5925679206848145,
          4.566184043884277,
          4.627663612365723,
          4.504332065582275,
          4.574577331542969,
          4.505041599273682,
          4.614466190338135,
          4.624861240386963,
          4.644026756286621,
          4.511020183563232,
          4.625286102294922,
          4.3903608322143555,
          4.513410568237305,
          4.416650295257568,
          4.632406234741211,
          4.688218593597412,
          4.473081588745117,
          4.409313201904297,
          4.498231410980225,
          4.5105204582214355,
          4.615821838378906,
          4.619979381561279,
          4.848108291625977,
          4.67169189453125,
          4.444282531738281,
          4.496652126312256,
          4.320593357086182,
          4.687910079956055,
          4.630959987640381,
          4.537507057189941,
          4.467248916625977,
          4.668080806732178,
          4.646970272064209,
          4.6778340339660645,
          4.7092204093933105,
          4.647867202758789,
          4.679012775421143,
          4.684662818908691,
          4.527346611022949,
          4.566577911376953,
          4.644334316253662,
          4.7195305824279785,
          4.736770153045654,
          4.496009826660156,
          4.5081329345703125,
          4.503059387207031,
          4.68147087097168,
          4.5602617263793945,
          4.543659210205078,
          4.45376443862915,
          4.5366973876953125,
          4.626611709594727,
          4.470115661621094,
          4.591037750244141,
          4.4945387840271,
          4.442749977111816,
          4.41383695602417,
          4.576416969299316,
          4.5131916999816895,
          4.494860649108887,
          4.510281085968018,
          4.685734748840332,
          4.4686994552612305,
          4.397864818572998,
          4.548951148986816,
          4.575517654418945,
          4.638655185699463,
          4.499335765838623,
          4.59879207611084,
          4.576507568359375,
          4.024613380432129,
          4.578421592712402,
          4.692428112030029,
          4.547755718231201,
          4.448543548583984,
          4.6580939292907715,
          4.564723491668701,
          4.62762975692749,
          4.595088005065918,
          4.43621826171875,
          4.4732770919799805,
          4.559956073760986,
          4.612658977508545,
          4.672563076019287,
          4.813172817230225,
          4.702190399169922,
          4.657939434051514,
          4.616209030151367,
          4.530745029449463,
          4.353035926818848,
          4.430151462554932,
          4.452083110809326,
          4.553255558013916,
          4.594506740570068,
          4.7535481452941895,
          4.632549285888672,
          4.689754009246826,
          4.595958709716797,
          4.630354404449463,
          4.509471416473389,
          4.403563499450684,
          4.470618724822998,
          4.638099193572998,
          4.505186557769775,
          4.390674114227295,
          4.558904647827148,
          4.645740509033203,
          4.479394912719727,
          4.436873435974121,
          4.669572830200195,
          4.575187683105469,
          4.569893836975098,
          4.624550819396973,
          4.561489582061768,
          4.539609432220459,
          4.403506278991699,
          4.42261266708374,
          4.4968581199646,
          4.435606956481934,
          4.424793243408203,
          4.473867893218994,
          4.4339470863342285,
          4.706386089324951,
          4.402415752410889,
          4.670599460601807,
          4.621291637420654,
          4.558172225952148,
          4.678598880767822,
          4.429494380950928,
          4.470164775848389,
          4.557273864746094,
          4.559139728546143,
          4.37270450592041,
          4.523928165435791,
          4.58669376373291,
          4.416226387023926,
          4.487731456756592,
          4.427660942077637,
          4.528033256530762,
          4.5620012283325195,
          4.589444637298584,
          4.413811206817627,
          4.403931140899658,
          4.482615947723389,
          4.4565510749816895,
          4.58288049697876,
          4.526823043823242,
          4.426133632659912,
          4.482048511505127,
          4.5619797706604,
          4.458935737609863,
          4.75622034072876,
          4.518678665161133,
          4.656848430633545,
          4.69425106048584,
          4.485809326171875,
          4.421678066253662,
          4.537961006164551,
          4.371840476989746,
          4.551926612854004,
          4.652479648590088,
          4.479211330413818,
          4.485519886016846,
          4.398743152618408,
          4.564024448394775,
          4.602577209472656,
          4.353199005126953,
          4.283815860748291,
          4.492276191711426,
          4.425204753875732,
          4.623050212860107,
          4.537110328674316,
          4.517611503601074,
          4.320621967315674,
          4.562039852142334,
          4.4017767906188965,
          4.681730270385742,
          4.4177565574646,
          4.598057746887207,
          4.560042858123779,
          4.397108554840088,
          4.508508205413818,
          4.540310382843018,
          4.096630096435547,
          4.521225929260254,
          4.435618877410889,
          4.412776947021484,
          4.652557849884033,
          4.534853935241699,
          4.654705047607422,
          4.438766002655029,
          4.31636381149292,
          4.725828170776367,
          4.323838233947754,
          4.081642150878906,
          4.448079586029053,
          4.65088415145874,
          4.5143890380859375,
          4.5520782470703125,
          4.368818759918213,
          4.6208086013793945,
          4.663768768310547,
          4.524638652801514,
          4.318486213684082,
          4.441155433654785,
          4.618081569671631,
          4.519186973571777,
          4.44069766998291,
          4.668920993804932,
          4.480098247528076,
          4.554595947265625,
          4.482409477233887,
          4.603689193725586,
          4.45298433303833,
          4.3450026512146,
          4.5244140625,
          4.634420394897461,
          4.488119602203369,
          4.364191055297852,
          4.5457587242126465,
          4.639632701873779,
          4.589753150939941,
          4.634647369384766,
          4.525582790374756,
          4.648075103759766,
          4.5808281898498535,
          4.515373229980469,
          4.577216625213623,
          4.451426029205322,
          4.390919208526611,
          4.540785312652588,
          4.503787517547607,
          4.608075141906738,
          4.538699150085449,
          4.5472540855407715,
          4.513859272003174,
          4.599035263061523,
          4.514064311981201,
          4.626160621643066,
          4.658938884735107,
          4.570697784423828,
          4.58319091796875,
          4.518484115600586,
          4.610579967498779,
          4.542806148529053,
          4.447670936584473,
          4.446060657501221,
          4.575876712799072,
          4.696676731109619,
          4.457078456878662,
          4.465906143188477,
          4.5387396812438965,
          4.657238006591797,
          4.4859938621521,
          4.621832847595215,
          4.522839069366455,
          4.533078670501709,
          4.622085094451904,
          4.652156829833984,
          4.597681045532227,
          4.5652265548706055,
          4.563248634338379,
          4.669069766998291,
          4.560904026031494,
          4.480233669281006,
          4.532041549682617,
          4.591725826263428,
          4.719357013702393,
          4.544897079467773,
          4.440028190612793,
          4.373055934906006,
          4.616157531738281,
          4.616288661956787,
          4.684080600738525,
          4.48398494720459,
          4.607588291168213,
          4.623940944671631,
          4.597596168518066,
          4.550236225128174,
          4.675387382507324,
          4.6543498039245605,
          4.643887996673584,
          4.5282182693481445,
          4.600021839141846,
          4.67530632019043,
          4.637684345245361,
          4.549904823303223,
          4.655835151672363,
          4.500510215759277,
          4.663281440734863,
          4.565907955169678,
          3.8703479766845703,
          4.515913963317871,
          4.725057125091553,
          4.594183444976807,
          4.552203178405762,
          4.542180061340332,
          4.663712501525879,
          4.690058708190918,
          4.562585353851318,
          4.776708126068115,
          4.638646602630615,
          4.644454002380371,
          4.654922962188721,
          4.669320106506348,
          4.545335292816162,
          4.747650146484375,
          4.599761009216309,
          4.633222579956055,
          4.856383800506592,
          4.7016706466674805,
          4.808253288269043,
          4.746936798095703,
          4.629753112792969,
          4.703210353851318,
          4.743009567260742,
          4.7493486404418945,
          4.797725677490234,
          4.761054992675781,
          4.880565643310547,
          4.742284297943115,
          4.833517074584961,
          3.5716214179992676,
          3.640699863433838,
          3.6576414108276367,
          4.525844573974609,
          4.224565029144287,
          4.269998073577881,
          4.645491123199463,
          4.805124282836914,
          4.76646614074707,
          4.8040618896484375,
          5.056013107299805,
          4.67883825302124,
          4.799920082092285,
          4.835506439208984,
          4.8013410568237305,
          4.823575973510742,
          4.663427829742432,
          4.009149074554443,
          3.942152500152588,
          4.0304975509643555,
          4.057991027832031,
          4.603695392608643,
          4.8396453857421875,
          4.5584397315979,
          4.798928260803223,
          4.43169641494751,
          4.562031269073486,
          4.431895732879639,
          4.550899982452393,
          4.559948444366455,
          4.567284107208252,
          4.540435314178467,
          4.427241325378418,
          4.5562543869018555,
          4.613104820251465,
          4.396599292755127,
          4.478240966796875,
          4.564439296722412,
          4.589894771575928,
          4.63045072555542,
          4.820279598236084,
          4.472330093383789,
          4.311688423156738,
          4.353874206542969,
          4.445023059844971,
          4.581843852996826,
          4.496706008911133,
          4.582597255706787,
          4.563535690307617,
          4.432521820068359,
          4.686523914337158,
          4.373011589050293,
          4.655710220336914,
          4.716215133666992,
          4.546512603759766,
          4.513235092163086,
          4.625180244445801,
          4.609040260314941,
          4.691999435424805,
          4.60129976272583,
          4.7126946449279785,
          4.769103050231934,
          4.711920738220215,
          4.652631759643555,
          4.5420823097229,
          4.930481433868408,
          4.744362831115723,
          4.686223983764648,
          4.672488689422607,
          4.751348972320557,
          4.520846843719482,
          4.7317328453063965,
          4.608114242553711,
          4.884878158569336,
          4.760521411895752,
          4.6820807456970215,
          4.637042999267578,
          4.712708950042725,
          4.732418537139893,
          4.776647567749023,
          4.813820838928223,
          4.617795467376709,
          4.7063140869140625,
          4.8630170822143555,
          4.662357330322266,
          4.911040306091309,
          4.694360733032227,
          4.990050792694092,
          4.669650554656982,
          4.582417964935303,
          3.4833168983459473,
          4.824954032897949,
          4.871877193450928,
          4.8525710105896,
          4.936804294586182,
          4.8898234367370605,
          5.077887058258057,
          4.878432750701904,
          4.911772727966309,
          5.067284107208252,
          4.830349445343018,
          4.9361090660095215,
          4.9664225578308105,
          4.824782371520996,
          5.00956916809082,
          4.95551872253418,
          5.022713661193848,
          5.126739501953125,
          5.012561321258545,
          4.966721057891846,
          5.020565509796143,
          3.562577486038208,
          4.98246955871582,
          5.06603479385376,
          5.278537273406982,
          5.116242408752441,
          4.883914947509766,
          5.0694098472595215,
          5.007998943328857,
          5.131392955780029,
          5.2617950439453125,
          5.252833366394043,
          5.302360534667969,
          5.275014877319336,
          5.061596870422363,
          4.956347465515137,
          5.103583335876465,
          5.154958724975586,
          5.498647212982178,
          5.262017726898193,
          5.417469024658203,
          5.237605571746826,
          5.393157958984375,
          5.206395626068115,
          5.217833995819092,
          5.351986408233643,
          5.373040676116943,
          5.301577568054199,
          5.3271965980529785,
          5.358403205871582,
          5.412658214569092,
          5.457728385925293,
          5.390610694885254,
          5.1196675300598145,
          5.362698078155518,
          5.49531888961792,
          5.262676239013672,
          5.435738563537598,
          5.447168350219727,
          5.355123519897461,
          5.364051818847656,
          5.371103763580322,
          5.428877353668213,
          5.4912238121032715,
          5.471500396728516,
          5.541555881500244,
          5.549375534057617,
          5.425818920135498,
          5.560659885406494,
          5.513311386108398,
          5.548526287078857,
          5.374927043914795,
          5.436187267303467,
          5.393829822540283,
          5.3504133224487305,
          5.47335958480835,
          5.290740966796875,
          5.60621452331543,
          5.630498886108398,
          5.522383213043213,
          5.762507438659668,
          5.405355453491211,
          5.474366664886475,
          3.547600507736206,
          5.713942050933838,
          5.497425556182861,
          5.536031723022461,
          5.6956658363342285,
          5.405388355255127,
          5.601240634918213,
          5.513461589813232,
          5.684311389923096,
          5.578147888183594,
          5.568478584289551,
          5.671715259552002,
          5.580596923828125,
          5.666214466094971,
          5.409936904907227,
          5.498466968536377,
          3.5143706798553467,
          3.4811456203460693,
          3.331712007522583,
          3.27034854888916,
          3.952267646789551,
          2.4624993801116943,
          2.0939371585845947,
          2.0438449382781982,
          1.896610975265503,
          2.0876286029815674,
          2.394315481185913,
          2.0332348346710205,
          2.308199405670166,
          2.1117794513702393,
          2.569732189178467,
          2.4143171310424805,
          2.350727081298828,
          2.434121608734131,
          2.338677406311035,
          2.214735269546509,
          2.332883358001709,
          2.5047333240509033,
          1.820156455039978,
          2.184786796569824,
          2.1900408267974854,
          2.5307672023773193,
          2.278223991394043,
          2.3996574878692627,
          2.4178261756896973,
          2.0036940574645996,
          2.299680233001709,
          2.203324794769287,
          2.1645913124084473,
          2.220749616622925,
          2.6044273376464844,
          2.354555606842041,
          3.3599865436553955,
          2.052494764328003,
          2.1719603538513184,
          2.260620594024658,
          2.1349427700042725,
          2.228126287460327,
          2.1192986965179443,
          2.094975709915161,
          2.2040297985076904,
          2.247227907180786,
          2.019141435623169,
          2.1655006408691406,
          2.0694148540496826,
          2.3602874279022217,
          2.1551353931427,
          2.054041624069214,
          2.0744211673736572,
          2.212658643722534,
          1.9257925748825073,
          2.2558634281158447,
          2.196455478668213,
          1.9176397323608398,
          2.1657538414001465,
          2.1156117916107178,
          2.201176404953003,
          2.050844192504883,
          2.1292169094085693,
          3.3305857181549072,
          2.1572325229644775,
          2.1813111305236816,
          3.4752254486083984,
          3.373061180114746,
          2.179778814315796,
          2.2962706089019775,
          2.458101987838745,
          2.1894469261169434,
          2.2164433002471924,
          2.9029390811920166,
          2.210113763809204,
          2.269049644470215,
          2.4825191497802734,
          2.386627435684204,
          2.4298717975616455,
          2.3338212966918945,
          2.2051310539245605,
          2.4614739418029785,
          2.4475884437561035,
          2.207695960998535,
          3.5135743618011475,
          2.215806007385254,
          2.442779541015625,
          2.312101364135742,
          2.592569351196289,
          2.4007086753845215,
          2.424901247024536,
          2.367121934890747,
          2.5303516387939453,
          2.3193986415863037,
          2.3314406871795654,
          2.5281894207000732,
          2.738168239593506,
          2.6298093795776367,
          2.402639627456665,
          2.434180974960327,
          2.421818256378174,
          2.3572146892547607,
          2.6449928283691406,
          2.250312089920044,
          2.675267219543457,
          2.574821949005127,
          2.4805314540863037,
          2.504662036895752,
          2.720571994781494,
          2.8747544288635254,
          2.687761068344116,
          2.7250149250030518,
          2.948021173477173,
          2.5604407787323,
          2.3890247344970703,
          2.483417510986328,
          2.5598068237304688,
          2.9376559257507324,
          2.8162992000579834,
          2.536158561706543,
          2.6529793739318848,
          2.6804354190826416,
          2.6199638843536377,
          2.741915702819824,
          2.8301727771759033,
          2.6913199424743652,
          2.446890115737915,
          2.4037413597106934,
          2.647289752960205,
          2.818537950515747,
          2.8073015213012695,
          2.568824291229248,
          2.4439327716827393,
          2.571472406387329,
          2.6838276386260986,
          3.2601687908172607,
          2.774923324584961,
          2.874441385269165,
          2.6958038806915283,
          3.059596538543701,
          2.66581392288208,
          2.8283510208129883,
          2.772495985031128,
          2.682734251022339,
          2.5304629802703857,
          2.936312198638916,
          2.722768783569336,
          2.9288370609283447,
          2.885254144668579,
          2.5871195793151855,
          2.7567193508148193,
          2.7618415355682373,
          2.7679407596588135,
          2.593513011932373,
          2.861964702606201,
          2.7662506103515625,
          2.8930416107177734,
          2.8453831672668457,
          2.8047568798065186,
          3.384394407272339,
          2.90645170211792,
          2.863602876663208,
          2.988952875137329,
          2.8000569343566895,
          3.1083712577819824,
          2.983525276184082,
          2.9157445430755615,
          3.027815103530884,
          2.9195523262023926,
          3.06815505027771,
          2.6788103580474854,
          2.9207639694213867,
          2.9192333221435547,
          3.1821000576019287,
          2.8672568798065186,
          2.984865665435791,
          2.839489698410034,
          3.1371819972991943,
          2.9399166107177734,
          2.9555656909942627,
          3.1200509071350098,
          2.7634172439575195,
          3.05229115486145,
          3.0523462295532227,
          3.158724069595337,
          3.014824151992798,
          2.9805290699005127,
          3.030545473098755,
          3.240783929824829,
          3.19787335395813,
          3.017512083053589,
          3.1596763134002686,
          3.247802257537842,
          3.030719041824341,
          3.1534998416900635,
          3.068568706512451,
          3.1465485095977783,
          2.9573607444763184,
          3.090162992477417,
          3.137333631515503,
          3.2170662879943848,
          3.361175537109375,
          3.3023722171783447,
          3.234365940093994,
          3.150141477584839,
          3.217142343521118,
          3.2692456245422363,
          3.338571548461914,
          3.2993531227111816,
          3.277059316635132,
          3.256328582763672,
          3.404810905456543,
          3.1814491748809814,
          3.241804599761963,
          3.2815966606140137,
          3.462129592895508,
          3.387861490249634,
          3.323054075241089,
          3.3614916801452637,
          3.2714521884918213,
          3.378135919570923,
          3.3704514503479004,
          3.423661231994629,
          3.429074764251709,
          3.464751720428467,
          3.4583616256713867,
          3.4286623001098633,
          3.416435718536377,
          3.473585844039917
         ],
         "yaxis": "y"
        },
        {
         "customdata": [
          [
           "2662397",
           "J42"
          ],
          [
           "661491",
           "J346"
          ],
          [
           "1818777",
           "J28"
          ],
          [
           "424796",
           "J22"
          ],
          [
           "768538",
           "J26"
          ],
          [
           "351224",
           "J346"
          ],
          [
           "54077",
           "J280"
          ],
          [
           "688079",
           "J443"
          ],
          [
           "28119",
           "J465"
          ],
          [
           "1118464",
           "J22"
          ],
          [
           "91560",
           "J1146"
          ],
          [
           "[{'NCBI tax id': 262668, 'Matching level': 'species'}, {'NCBI tax id': 1217648, 'Matching level': 'strain'}]",
           "J27"
          ],
          [
           "28082",
           "J119"
          ],
          [
           "2052480",
           "J306"
          ],
          [
           "311182",
           "J346"
          ],
          [
           "578693",
           "514d"
          ],
          [
           "1868410",
           "J475"
          ],
          [
           "191497",
           "J28"
          ],
          [
           "[{'NCBI tax id': 1305622, 'Matching level': 'strain'}, {'NCBI tax id': 200618, 'Matching level': 'species'}]",
           "J26"
          ],
          [
           "33050",
           "J27"
          ],
          [
           "1262732",
           "J1109"
          ],
          [
           "499548",
           "J42"
          ],
          [
           "119864",
           "514f"
          ],
          [
           "[{'NCBI tax id': 230310, 'Matching level': 'species'}, {'NCBI tax id': 1336244, 'Matching level': 'strain'}]",
           "J22"
          ],
          [
           "2487344",
           "J386"
          ],
          [
           "71997",
           "J280"
          ],
          [
           "2606708",
           "J1314"
          ],
          [
           "[{'NCBI tax id': 1255639, 'Matching level': 'strain'}, {'NCBI tax id': 47848, 'Matching level': 'species'}]",
           "J28"
          ],
          [
           "[{'NCBI tax id': 1216966, 'Matching level': 'strain'}, {'NCBI tax id': 93378, 'Matching level': 'species'}]",
           "J22"
          ],
          [
           "69365",
           "J475"
          ],
          [
           "[{'NCBI tax id': 499177, 'Matching level': 'strain'}, {'NCBI tax id': 1511, 'Matching level': 'species'}]",
           "J1130"
          ],
          [
           "258505",
           "J26"
          ],
          [
           "2510307",
           "J1241"
          ],
          [
           "[{'NCBI tax id': 525247, 'Matching level': 'strain'}, {'NCBI tax id': 87541, 'Matching level': 'species'}]",
           "J282"
          ],
          [
           "105851",
           "J308"
          ],
          [
           "[{'NCBI tax id': 72764, 'Matching level': 'species'}, {'NCBI tax id': 1123357, 'Matching level': 'strain'}]",
           "J26"
          ],
          [
           "[{'NCBI tax id': 1295124, 'Matching level': 'strain'}, {'NCBI tax id': 164451, 'Matching level': 'species'}]",
           "J297"
          ],
          [
           "588",
           "J22"
          ],
          [
           "344164",
           "J346"
          ],
          [
           "[{'NCBI tax id': 1220553, 'Matching level': 'strain'}, {'NCBI tax id': 53429, 'Matching level': 'species'}]",
           "J43"
          ],
          [
           "1848476",
           "J443"
          ],
          [
           "1874736",
           "J27"
          ],
          [
           "34006",
           "J26"
          ],
          [
           "498199",
           "J26"
          ],
          [
           "1818833",
           "J26"
          ],
          [
           "1017177",
           "J840"
          ],
          [
           "408",
           "J22"
          ],
          [
           "211113",
           "J202"
          ],
          [
           "[{'NCBI tax id': 1349750, 'Matching level': 'strain'}, {'NCBI tax id': 36740, 'Matching level': 'species'}]",
           "J26"
          ],
          [
           "[{'NCBI tax id': 1303677, 'Matching level': 'strain'}, {'NCBI tax id': 211146, 'Matching level': 'species'}]",
           "J475"
          ],
          [
           "[{'NCBI tax id': 273121, 'Matching level': 'strain'}, {'NCBI tax id': 844, 'Matching level': 'species'}]",
           "J262"
          ],
          [
           "[{'NCBI tax id': 161154, 'Matching level': 'species'}, {'NCBI tax id': 698762, 'Matching level': 'strain'}]",
           "J315"
          ],
          [
           "1804625",
           "J27"
          ],
          [
           "1636086",
           "J443"
          ],
          [
           "105425",
           "J415"
          ],
          [
           "513160",
           "J346"
          ],
          [
           "287",
           "617a"
          ],
          [
           "2490857",
           "J1130"
          ],
          [
           "488485",
           "535b"
          ],
          [
           "2498113",
           "J22"
          ],
          [
           "[{'NCBI tax id': 1122235, 'Matching level': 'strain'}, {'NCBI tax id': 45495, 'Matching level': 'species'}]",
           "J127"
          ],
          [
           "28090",
           "J22"
          ],
          [
           "537",
           "J22"
          ],
          [
           "111806",
           "J43"
          ],
          [
           "1461260",
           "J28"
          ],
          [
           "992287",
           "J28"
          ],
          [
           "50728",
           "J26"
          ],
          [
           "1987050",
           "J141"
          ],
          [
           "195801",
           "J43"
          ],
          [
           "88074",
           "J43"
          ],
          [
           "2686357",
           "J1208"
          ],
          [
           "1903179",
           "J443"
          ],
          [
           "83263",
           "J22"
          ],
          [
           "714075",
           "J22"
          ],
          [
           "[{'NCBI tax id': 53431, 'Matching level': 'species'}, {'NCBI tax id': 1210085, 'Matching level': 'strain'}]",
           "J43"
          ],
          [
           "1476871",
           "J26"
          ],
          [
           "[{'NCBI tax id': 683150, 'Matching level': 'species'}, {'NCBI tax id': 1667, 'Matching level': 'species'}]",
           "J475"
          ],
          [
           "349910",
           "J42"
          ],
          [
           "74969",
           "J283"
          ],
          [
           "[{'NCBI tax id': 264732, 'Matching level': 'strain'}, {'NCBI tax id': 1525, 'Matching level': 'species'}]",
           "J221"
          ],
          [
           "[{'NCBI tax id': 243365, 'Matching level': 'strain'}, {'NCBI tax id': 536, 'Matching level': 'species'}]",
           "J22"
          ],
          [
           "1818734",
           "J475"
          ],
          [
           "433296",
           "J363"
          ],
          [
           "[{'NCBI tax id': 379066, 'Matching level': 'strain'}, {'NCBI tax id': 173480, 'Matching level': 'species'}]",
           "J346"
          ],
          [
           "1871615",
           "J26"
          ],
          [
           "1872145",
           "514d"
          ],
          [
           "[{'NCBI tax id': 565, 'Matching level': 'species'}, {'NCBI tax id': 1115512, 'Matching level': 'strain'}]",
           "J22"
          ],
          [
           "39664",
           "525a"
          ],
          [
           "1712515",
           "J1130"
          ],
          [
           "2742145",
           "J118"
          ],
          [
           "79885",
           "J181"
          ],
          [
           "302449",
           "J256"
          ],
          [
           "1492769",
           "514c"
          ],
          [
           "68898",
           "J42"
          ],
          [
           "285070",
           "J431"
          ],
          [
           "177413",
           "J349"
          ],
          [
           "1951",
           "J43"
          ],
          [
           "505256",
           "J275"
          ],
          [
           "254161",
           "514f"
          ],
          [
           "1435069",
           "J118"
          ],
          [
           "1005944",
           "J346"
          ],
          [
           "39152",
           "J265"
          ],
          [
           "1868431",
           "J22"
          ],
          [
           "1695166",
           "J42"
          ],
          [
           "55404",
           "J43"
          ],
          [
           "412439",
           "J475"
          ],
          [
           "[{'NCBI tax id': 1236543, 'Matching level': 'strain'}, {'NCBI tax id': 24, 'Matching level': 'species'}]",
           "J22"
          ],
          [
           "[{'NCBI tax id': 243274, 'Matching level': 'strain'}, {'NCBI tax id': 2336, 'Matching level': 'species'}]",
           "J237"
          ],
          [
           "152794",
           "J26"
          ],
          [
           "415010",
           "J43"
          ],
          [
           "399",
           "J254"
          ],
          [
           "648995",
           "J254"
          ],
          [
           "2483799",
           "J28"
          ],
          [
           "758802",
           "J26"
          ],
          [
           "[{'NCBI tax id': 502025, 'Matching level': 'strain'}, {'NCBI tax id': 80816, 'Matching level': 'species'}]",
           "J341"
          ],
          [
           "70255",
           "J26"
          ],
          [
           "285483",
           "J42"
          ],
          [
           "706427",
           "J818"
          ],
          [
           "1818746",
           "J22"
          ],
          [
           "[{'NCBI tax id': 640132, 'Matching level': 'strain'}, {'NCBI tax id': 286802, 'Matching level': 'species'}]",
           "J302"
          ],
          [
           "[{'NCBI tax id': 537012, 'Matching level': 'strain'}, {'NCBI tax id': 246787, 'Matching level': 'species'}]",
           "J461"
          ],
          [
           "285551",
           "J43"
          ],
          [
           "1240404",
           "J27"
          ],
          [
           "1622177",
           "J1016"
          ],
          [
           "1036678",
           "J945"
          ],
          [
           "2583810",
           "J1191"
          ],
          [
           "13690",
           "J346"
          ],
          [
           "388746",
           "514c"
          ],
          [
           "86332",
           "J1099"
          ],
          [
           "[{'NCBI tax id': 1437612, 'Matching level': 'strain'}, {'NCBI tax id': 1680, 'Matching level': 'species'}]",
           "J28"
          ],
          [
           "42684",
           "J42"
          ],
          [
           "1036020",
           "J26"
          ],
          [
           "634765",
           "514c"
          ]
         ],
         "hovertemplate": "Cluster=1<br>Component 1=%{x}<br>Component 2=%{y}<br>taxon_id=%{customdata[0]}<br>media_id=%{customdata[1]}<extra></extra>",
         "legendgroup": "1",
         "marker": {
          "color": "#ab63fa",
          "opacity": 0.3,
          "symbol": "circle"
         },
         "mode": "markers",
         "name": "1",
         "showlegend": true,
         "type": "scattergl",
         "x": [
          1.65611732006073,
          1.4177032709121704,
          1.2588181495666504,
          1.1794459819793701,
          1.1844733953475952,
          1.0137523412704468,
          1.2895610332489014,
          0.9560841917991638,
          0.9792267680168152,
          1.242132306098938,
          1.6284542083740234,
          1.3188539743423462,
          1.3369685411453247,
          1.2923325300216675,
          1.221933126449585,
          1.67939031124115,
          1.7977921962738037,
          1.4070117473602295,
          1.395986557006836,
          1.3800371885299683,
          1.2515448331832886,
          1.7186148166656494,
          1.682158350944519,
          1.5240137577056885,
          1.6989469528198242,
          1.5975583791732788,
          0.9439692497253418,
          1.3332539796829224,
          1.8521400690078735,
          1.65343177318573,
          1.6896477937698364,
          1.1170730590820312,
          1.1432409286499023,
          1.1231693029403687,
          1.6551117897033691,
          1.1042183637619019,
          1.7466250658035278,
          1.0446022748947144,
          1.2717493772506714,
          1.74636709690094,
          1.7232725620269775,
          1.2227568626403809,
          1.0500233173370361,
          1.0929749011993408,
          1.1249215602874756,
          1.6274617910385132,
          1.0507405996322632,
          1.125,
          1.4658955335617065,
          1.3997001647949219,
          1.6218239068984985,
          1.081335425376892,
          1.2164933681488037,
          1.7963117361068726,
          1.2059262990951538,
          1.5910005569458008,
          1.2701376676559448,
          1.1036112308502197,
          1.3265674114227295,
          1.6606193780899048,
          1.1712708473205566,
          1.2398371696472168,
          1.2386882305145264,
          1.2425484657287598,
          1.2167773246765137,
          1.1876506805419922,
          0.9566008448600769,
          1.0136542320251465,
          1.2080641984939575,
          1.2269964218139648,
          1.803858995437622,
          1.180070400238037,
          1.2883788347244263,
          1.1868219375610352,
          0.9279383420944214,
          1.3605854511260986,
          1.1743172407150269,
          1.7765640020370483,
          1.5861440896987915,
          1.4207335710525513,
          1.2440283298492432,
          1.1291725635528564,
          0.982142984867096,
          1.743817687034607,
          1.1432061195373535,
          1.8636364936828613,
          1.8337289094924927,
          1.770748257637024,
          1.2341035604476929,
          1.7305757999420166,
          1.2299033403396606,
          1.2664077281951904,
          1.688838005065918,
          0.9974204301834106,
          1.3674242496490479,
          1.3331596851348877,
          1.257652997970581,
          1.6611781120300293,
          1.7920176982879639,
          1.9788150787353516,
          1.6333616971969604,
          1.3297169208526611,
          1.2030845880508423,
          1.0634171962738037,
          1.7888411283493042,
          1.7053719758987427,
          1.3278931379318237,
          1.733615756034851,
          1.1244256496429443,
          1.3876149654388428,
          1.029938817024231,
          1.7661103010177612,
          1.2504265308380127,
          1.3239035606384277,
          1.207655668258667,
          1.2819344997406006,
          1.1686090230941772,
          1.2135179042816162,
          1.7722399234771729,
          1.7361007928848267,
          1.7819314002990723,
          1.6262211799621582,
          1.1186091899871826,
          1.4480701684951782,
          1.279909610748291,
          1.121111512184143,
          1.0602705478668213,
          1.4196751117706299,
          1.6422033309936523,
          1.3278207778930664,
          1.2344900369644165,
          1.4096699953079224,
          1.804779291152954
         ],
         "xaxis": "x",
         "y": [
          16.308116912841797,
          16.74317169189453,
          16.733016967773438,
          16.58775520324707,
          16.68815803527832,
          16.686574935913086,
          16.759735107421875,
          16.798067092895508,
          16.78838348388672,
          16.73720932006836,
          16.42782974243164,
          16.677141189575195,
          16.780118942260742,
          16.756099700927734,
          16.787717819213867,
          16.37071418762207,
          16.503276824951172,
          16.62431526184082,
          16.37191390991211,
          16.563066482543945,
          16.760637283325195,
          16.455137252807617,
          16.35416030883789,
          15.15915584564209,
          16.426111221313477,
          16.33005714416504,
          16.629230499267578,
          16.549272537231445,
          16.016944885253906,
          16.48812484741211,
          16.328136444091797,
          16.43126678466797,
          16.49686050415039,
          16.47620964050293,
          16.384296417236328,
          16.854419708251953,
          16.384403228759766,
          16.54871368408203,
          16.619436264038086,
          16.365345001220703,
          16.354633331298828,
          16.540081024169922,
          16.611791610717773,
          16.5986328125,
          16.54389762878418,
          16.44662094116211,
          16.062702178955078,
          16.765954971313477,
          16.53833770751953,
          16.703147888183594,
          16.466115951538086,
          16.479747772216797,
          16.701004028320312,
          16.341053009033203,
          16.60673713684082,
          16.514469146728516,
          16.738605499267578,
          16.686325073242188,
          16.611082077026367,
          15.972533226013184,
          16.439136505126953,
          16.76068687438965,
          16.571500778198242,
          16.51292610168457,
          16.464466094970703,
          16.432228088378906,
          16.440528869628906,
          16.66724967956543,
          16.72231101989746,
          16.358739852905273,
          16.489023208618164,
          16.44367790222168,
          16.520795822143555,
          16.55803108215332,
          16.710678100585938,
          16.33673858642578,
          16.476119995117188,
          16.318702697753906,
          16.498065948486328,
          16.513427734375,
          16.52922821044922,
          16.62613868713379,
          16.57312774658203,
          16.313520431518555,
          16.660690307617188,
          16.013139724731445,
          15.992783546447754,
          16.37920570373535,
          16.48041343688965,
          16.25514030456543,
          16.571651458740234,
          16.790550231933594,
          16.3563232421875,
          16.706602096557617,
          16.550582885742188,
          16.591384887695312,
          16.499717712402344,
          16.38775062561035,
          16.164867401123047,
          15.702789306640625,
          16.282594680786133,
          16.659093856811523,
          16.501148223876953,
          16.341659545898438,
          16.31740379333496,
          16.47210121154785,
          16.493833541870117,
          16.41126251220703,
          16.703975677490234,
          16.772838592529297,
          16.460134506225586,
          16.458555221557617,
          16.704774856567383,
          16.654203414916992,
          16.553936004638672,
          16.54688262939453,
          16.700204849243164,
          16.794477462768555,
          16.535980224609375,
          16.340778350830078,
          16.370128631591797,
          16.529386520385742,
          16.65108299255371,
          16.688861846923828,
          16.851673126220703,
          16.665142059326172,
          16.7728271484375,
          16.50740623474121,
          16.409648895263672,
          16.862409591674805,
          16.61636734008789,
          16.48837661743164,
          16.13836097717285
         ],
         "yaxis": "y"
        },
        {
         "customdata": [
          [
           "44255",
           "J24"
          ],
          [
           "13689",
           "J28"
          ],
          [
           "1624",
           "J13"
          ],
          [
           "1989",
           "J43"
          ],
          [
           "1502",
           "J14"
          ],
          [
           "562",
           "J27"
          ],
          [
           "1931",
           "J61"
          ],
          [
           "658457",
           "535b"
          ],
          [
           "362",
           "J74"
          ],
          [
           "1492",
           "104b"
          ],
          [
           "406",
           "J79"
          ],
          [
           "646",
           "J7"
          ],
          [
           "1907725",
           "J346"
          ],
          [
           "1280",
           "J14"
          ],
          [
           "1618",
           "J13"
          ],
          [
           "162169",
           "J22"
          ],
          [
           "293",
           "J12"
          ],
          [
           "2303",
           "J917"
          ],
          [
           "85698",
           "J12"
          ],
          [
           "1719",
           "215b"
          ],
          [
           "67351",
           "J42"
          ],
          [
           "1604",
           "J13"
          ],
          [
           "28026",
           "J13"
          ],
          [
           "285",
           "J22"
          ],
          [
           "67263",
           "J66"
          ],
          [
           "1496",
           "J14"
          ],
          [
           "29397",
           "J84"
          ],
          [
           "287",
           "J156"
          ],
          [
           "164451",
           "J297"
          ],
          [
           "1598",
           "1203a"
          ],
          [
           "1506",
           "104b"
          ],
          [
           "1869227",
           "104c"
          ],
          [
           "1931",
           "J45"
          ],
          [
           "2242",
           "J168"
          ],
          [
           "51513",
           "J26"
          ],
          [
           "303",
           "1a"
          ],
          [
           "561067",
           "1076b"
          ],
          [
           "1509",
           "J14"
          ],
          [
           "648",
           "J12"
          ],
          [
           "292",
           "J12"
          ],
          [
           "1613",
           "J13"
          ],
          [
           "34007",
           "J26"
          ],
          [
           "58123",
           "J51"
          ],
          [
           "1931",
           "J66"
          ],
          [
           "194249",
           "J43"
          ],
          [
           "657445",
           "429c"
          ],
          [
           "38027",
           "141c"
          ],
          [
           "317",
           "1a"
          ],
          [
           "1679",
           "J13"
          ],
          [
           "47770",
           "J13"
          ],
          [
           "1561",
           "J14"
          ],
          [
           "1681",
           "J13"
          ],
          [
           "37329",
           "J43"
          ],
          [
           "1411316",
           "J346"
          ],
          [
           "216816",
           "J13"
          ],
          [
           "562",
           "J12"
          ],
          [
           "33013",
           "J26"
          ],
          [
           "1509",
           "J13"
          ],
          [
           "472",
           "J22"
          ],
          [
           "28448",
           "J597"
          ],
          [
           "287",
           "J12"
          ]
         ],
         "hovertemplate": "Cluster=8<br>Component 1=%{x}<br>Component 2=%{y}<br>taxon_id=%{customdata[0]}<br>media_id=%{customdata[1]}<extra></extra>",
         "legendgroup": "8",
         "marker": {
          "color": "#FFA15A",
          "opacity": 0.3,
          "symbol": "circle"
         },
         "mode": "markers",
         "name": "8",
         "showlegend": true,
         "type": "scattergl",
         "x": [
          8.442694664001465,
          8.07398509979248,
          8.062201499938965,
          8.3555908203125,
          8.054083824157715,
          8.38137149810791,
          8.020551681518555,
          8.268519401550293,
          7.8480072021484375,
          8.334135055541992,
          7.823453903198242,
          8.00911808013916,
          8.085806846618652,
          7.906179904937744,
          8.219985008239746,
          8.417437553405762,
          7.992145538330078,
          8.364927291870117,
          8.19619369506836,
          8.358436584472656,
          8.041662216186523,
          8.141611099243164,
          8.219659805297852,
          8.062459945678711,
          8.021425247192383,
          8.08158016204834,
          7.829990386962891,
          8.253719329833984,
          7.9162917137146,
          8.14127254486084,
          8.125551223754883,
          8.103053092956543,
          8.236103057861328,
          8.070435523986816,
          7.950106620788574,
          8.11729621887207,
          8.336845397949219,
          8.001060485839844,
          8.216118812561035,
          8.088298797607422,
          8.132848739624023,
          8.358184814453125,
          8.166914939880371,
          7.709599018096924,
          8.177644729614258,
          8.177874565124512,
          8.199777603149414,
          7.970523357391357,
          8.054426193237305,
          8.092180252075195,
          8.265472412109375,
          7.998185157775879,
          8.375449180603027,
          8.047182083129883,
          8.201464653015137,
          8.328043937683105,
          8.200947761535645,
          8.276676177978516,
          7.767249584197998,
          8.20920467376709,
          8.094511985778809
         ],
         "xaxis": "x",
         "y": [
          6.696085453033447,
          5.645739555358887,
          5.315461158752441,
          6.783751487731934,
          5.432522296905518,
          6.757811069488525,
          5.3697123527526855,
          5.359368801116943,
          5.350458145141602,
          5.676355361938477,
          5.312551498413086,
          5.630032062530518,
          5.618289470672607,
          5.271636962890625,
          5.526211261749268,
          6.721244812011719,
          5.42152214050293,
          6.774107933044434,
          5.554314136505127,
          6.770752906799316,
          5.334582328796387,
          5.50637674331665,
          5.531139850616455,
          5.439991474151611,
          5.30699348449707,
          5.446011066436768,
          5.3277764320373535,
          5.5706706047058105,
          5.475368499755859,
          5.459580421447754,
          5.364011287689209,
          5.483180999755859,
          5.325158596038818,
          5.506377696990967,
          5.399938106536865,
          5.6035871505737305,
          5.586004734039307,
          5.192958831787109,
          5.5450873374938965,
          5.462614059448242,
          5.404535293579102,
          6.782324314117432,
          5.60598611831665,
          5.246015548706055,
          5.3307695388793945,
          5.508965492248535,
          5.634571075439453,
          5.295732021331787,
          5.470354080200195,
          5.359742164611816,
          5.364368438720703,
          5.520071029663086,
          6.759955406188965,
          5.395423889160156,
          5.421087265014648,
          5.4711079597473145,
          5.383398056030273,
          5.584756374359131,
          5.337731838226318,
          5.586113929748535,
          5.413228988647461
         ],
         "yaxis": "y"
        },
        {
         "customdata": [
          [
           "[{'NCBI tax id': 768065, 'Matching level': 'strain'}, {'NCBI tax id': 293091, 'Matching level': 'species'}]",
           "J442"
          ],
          [
           "1278207",
           "J61"
          ],
          [
           "1347788",
           "J118"
          ],
          [
           "745366",
           "J104"
          ],
          [
           "[{'NCBI tax id': 60706, 'Matching level': 'species'}, {'NCBI tax id': 1220557, 'Matching level': 'strain'}]",
           "J40"
          ],
          [
           "1671023",
           "J43"
          ],
          [
           "657012",
           "J41"
          ],
          [
           "[{'NCBI tax id': 203404, 'Matching level': 'subspecies'}, {'NCBI tax id': 1348656, 'Matching level': 'strain'}]",
           "J84"
          ],
          [
           "509199",
           "J51"
          ],
          [
           "34073",
           "J75"
          ],
          [
           "68280",
           "J42"
          ],
          [
           "1983719",
           "J1185"
          ],
          [
           "185243",
           "J363"
          ],
          [
           "2066",
           "J58"
          ],
          [
           "[{'NCBI tax id': 1885934, 'Matching level': 'species'}, {'NCBI tax id': 1936156, 'Matching level': 'species'}]",
           "J118"
          ],
          [
           "273676",
           "J26"
          ],
          [
           "1912891",
           "J842"
          ],
          [
           "29320",
           "J22"
          ],
          [
           "[{'NCBI tax id': 1123378, 'Matching level': 'strain'}, {'NCBI tax id': 35622, 'Matching level': 'species'}]",
           "J104"
          ],
          [
           "1409",
           "J99"
          ],
          [
           "[{'NCBI tax id': 38313, 'Matching level': 'species'}, {'NCBI tax id': 1236541, 'Matching level': 'strain'}]",
           "J75"
          ],
          [
           "[{'NCBI tax id': 548478, 'Matching level': 'strain'}, {'NCBI tax id': 39791, 'Matching level': 'species'}]",
           "535a"
          ],
          [
           "348442",
           "J28"
          ],
          [
           "28047",
           "J386"
          ],
          [
           "32002",
           "J443"
          ],
          [
           "857392",
           "J118"
          ],
          [
           "1260955",
           "J51"
          ],
          [
           "2053006",
           "J61"
          ],
          [
           "1218507",
           "J853"
          ],
          [
           "[{'NCBI tax id': 561966, 'Matching level': 'species'}, {'NCBI tax id': 1120970, 'Matching level': 'strain'}]",
           "J118"
          ],
          [
           "334858",
           "J51"
          ],
          [
           "[{'NCBI tax id': 109465, 'Matching level': 'species'}, {'NCBI tax id': 1305854, 'Matching level': 'strain'}]",
           "J43"
          ],
          [
           "1443036",
           "429b"
          ],
          [
           "324855",
           "J66"
          ],
          [
           "2806023",
           "535a"
          ],
          [
           "2583815",
           "J118"
          ],
          [
           "1171596",
           "J118"
          ],
          [
           "33959",
           "J84"
          ],
          [
           "53446",
           "J50"
          ],
          [
           "1399968",
           "J22"
          ],
          [
           "985002",
           "J475"
          ],
          [
           "44060",
           "J49"
          ],
          [
           "1883156",
           "J118"
          ],
          [
           "1876",
           "J51"
          ],
          [
           "1968281",
           "J346"
          ],
          [
           "2653628",
           "J346"
          ],
          [
           "1128613",
           "J75"
          ],
          [
           "135945",
           "J52"
          ],
          [
           "1481914",
           "J118"
          ],
          [
           "413306",
           "J104"
          ],
          [
           "1354",
           "J77"
          ],
          [
           "1486246",
           "J22"
          ],
          [
           "43677",
           "J43"
          ],
          [
           "1395955",
           "J346"
          ],
          [
           "2607614",
           "J282"
          ],
          [
           "390640",
           "J118"
          ],
          [
           "1416875",
           "J118"
          ],
          [
           "2716883",
           "J346"
          ],
          [
           "1433513",
           "J28"
          ],
          [
           "295089",
           "J118"
          ],
          [
           "254954",
           "J118"
          ],
          [
           "67282",
           "J61"
          ],
          [
           "[{'NCBI tax id': 999428, 'Matching level': 'strain'}, {'NCBI tax id': 158, 'Matching level': 'species'}]",
           "J144"
          ],
          [
           "33904",
           "J45"
          ],
          [
           "29423",
           "J119"
          ],
          [
           "[{'NCBI tax id': 384765, 'Matching level': 'strain'}, {'NCBI tax id': 187304, 'Matching level': 'species'}]",
           "J118"
          ],
          [
           "[{'NCBI tax id': 1224163, 'Matching level': 'strain'}, {'NCBI tax id': 575200, 'Matching level': 'species'}]",
           "J118"
          ],
          [
           "[{'NCBI tax id': 1888, 'Matching level': 'species'}, {'NCBI tax id': 67257, 'Matching level': 'subspecies'}]",
           "J42"
          ],
          [
           "58343",
           "J50"
          ],
          [
           "544926",
           "J118"
          ],
          [
           "[{'NCBI tax id': 1906, 'Matching level': 'species'}, {'NCBI tax id': 1319510, 'Matching level': 'strain'}]",
           "J58"
          ],
          [
           "2672567",
           "J75"
          ],
          [
           "644",
           "J22"
          ],
          [
           "1800",
           "J386"
          ],
          [
           "1472417",
           "J83"
          ],
          [
           "269671",
           "J77"
          ],
          [
           "285040",
           "J804"
          ],
          [
           "[{'NCBI tax id': 1218098, 'Matching level': 'strain'}, {'NCBI tax id': 574, 'Matching level': 'subspecies'}]",
           "J22"
          ],
          [
           "1255",
           "J83"
          ],
          [
           "106592",
           "J74"
          ],
          [
           "1926872",
           "J346"
          ],
          [
           "47715",
           "J84"
          ],
          [
           "1349",
           "J27"
          ],
          [
           "512350",
           "J52"
          ],
          [
           "1712871",
           "J42"
          ],
          [
           "270915",
           "J118"
          ],
          [
           "995062",
           "J115"
          ],
          [
           "134959",
           "J50"
          ],
          [
           "285444",
           "J66"
          ],
          [
           "1464048",
           "J61"
          ],
          [
           "93973",
           "J118"
          ],
          [
           "68237",
           "J42"
          ],
          [
           "66377",
           "J42"
          ],
          [
           "53372",
           "J104"
          ],
          [
           "1352",
           "J84"
          ],
          [
           "76728",
           "J43"
          ],
          [
           "500153",
           "J50"
          ],
          [
           "68252",
           "J43"
          ],
          [
           "113288",
           "J118"
          ],
          [
           "1409",
           "514d"
          ],
          [
           "171438",
           "535b"
          ],
          [
           "67258",
           "J45"
          ],
          [
           "43306",
           "J22"
          ],
          [
           "321317",
           "J61"
          ],
          [
           "2493666",
           "J27"
          ],
          [
           "1623",
           "J84"
          ],
          [
           "1435347",
           "J118"
          ],
          [
           "683228",
           "J61"
          ],
          [
           "[{'NCBI tax id': 37326, 'Matching level': 'species'}, {'NCBI tax id': 1206724, 'Matching level': 'strain'}]",
           "J43"
          ],
          [
           "38402",
           "J282"
          ],
          [
           "249582",
           "J61"
          ],
          [
           "303",
           "J75"
          ],
          [
           "410",
           "J79"
          ],
          [
           "663603",
           "J51"
          ],
          [
           "2582419",
           "J1234"
          ],
          [
           "1828",
           "J386"
          ],
          [
           "1934",
           "J44"
          ],
          [
           "89065",
           "J22"
          ],
          [
           "1818818",
           "J22"
          ],
          [
           "2568655",
           "J43"
          ],
          [
           "1502358",
           "J118"
          ],
          [
           "146018",
           "J26"
          ],
          [
           "298",
           "J27"
          ],
          [
           "68204",
           "J66"
          ],
          [
           "551547",
           "J43"
          ],
          [
           "1351",
           "J68"
          ],
          [
           "569599",
           "J118"
          ],
          [
           "645466",
           "J1130"
          ],
          [
           "[{'NCBI tax id': 1223540, 'Matching level': 'strain'}, {'NCBI tax id': 89051, 'Matching level': 'species'}]",
           "J43"
          ],
          [
           "52697",
           "J50"
          ],
          [
           "1403566",
           "J207"
          ],
          [
           "68230",
           "J61"
          ],
          [
           "1867109",
           "J346"
          ],
          [
           "394193",
           "J57"
          ],
          [
           "1503981",
           "J346"
          ],
          [
           "[{'NCBI tax id': 1121360, 'Matching level': 'strain'}, {'NCBI tax id': 556548, 'Matching level': 'species'}]",
           "535a"
          ],
          [
           "415209",
           "J118"
          ],
          [
           "1144278",
           "J118"
          ],
          [
           "202750",
           "J22"
          ],
          [
           "285485",
           "J66"
          ],
          [
           "405551",
           "J275"
          ],
          [
           "1460646",
           "J82"
          ],
          [
           "[{'NCBI tax id': 1223516, 'Matching level': 'strain'}, {'NCBI tax id': 130796, 'Matching level': 'species'}]",
           "J42"
          ],
          [
           "[{'NCBI tax id': 398524, 'Matching level': 'strain'}, {'NCBI tax id': 29448, 'Matching level': 'species'}]",
           "J254"
          ],
          [
           "592378",
           "514d"
          ],
          [
           "1987061",
           "J70"
          ],
          [
           "[{'NCBI tax id': 487317, 'Matching level': 'species'}, {'NCBI tax id': 1120951, 'Matching level': 'strain'}]",
           "J118"
          ],
          [
           "659012",
           "J475"
          ],
          [
           "511",
           "J346"
          ],
          [
           "1227546",
           "J118"
          ],
          [
           "94137",
           "J377"
          ],
          [
           "95172",
           "J28"
          ],
          [
           "680026",
           "514c"
          ],
          [
           "337815",
           "J75"
          ],
          [
           "[{'NCBI tax id': 1122182, 'Matching level': 'strain'}, {'NCBI tax id': 203523, 'Matching level': 'species'}]",
           "J52"
          ],
          [
           "174584",
           "J58"
          ],
          [
           "68186",
           "J66"
          ],
          [
           "66904",
           "J58"
          ],
          [
           "2026624",
           "J118"
          ],
          [
           "47500",
           "J75"
          ],
          [
           "[{'NCBI tax id': 1122195, 'Matching level': 'strain'}, {'NCBI tax id': 287990, 'Matching level': 'species'}]",
           "J449"
          ],
          [
           "351187",
           "J118"
          ],
          [
           "40318",
           "J66"
          ],
          [
           "1813471",
           "J346"
          ],
          [
           "319706",
           "J386"
          ],
          [
           "1255",
           "J68"
          ],
          [
           "67381",
           "J58"
          ],
          [
           "1918",
           "J42"
          ],
          [
           "1833",
           "J22"
          ],
          [
           "1852027",
           "J118"
          ],
          [
           "1848927",
           "J1154"
          ],
          [
           "1125966",
           "J346"
          ],
          [
           "1868415",
           "J475"
          ],
          [
           "589330",
           "J43"
          ],
          [
           "930",
           "J93"
          ],
          [
           "1618",
           "J84"
          ],
          [
           "[{'NCBI tax id': 58117, 'Matching level': 'species'}, {'NCBI tax id': 58118, 'Matching level': 'subspecies'}]",
           "J52"
          ],
          [
           "483545",
           "J49"
          ],
          [
           "[{'NCBI tax id': 989, 'Matching level': 'species'}, {'NCBI tax id': 1168289, 'Matching level': 'strain'}]",
           "J118"
          ],
          [
           "255984",
           "J118"
          ],
          [
           "190906",
           "J111"
          ],
          [
           "240427",
           "J426"
          ],
          [
           "44061",
           "J43"
          ],
          [
           "[{'NCBI tax id': 999415, 'Matching level': 'strain'}, {'NCBI tax id': 31973, 'Matching level': 'species'}]",
           "J84"
          ],
          [
           "1943576",
           "514f"
          ],
          [
           "185761",
           "J28"
          ],
          [
           "478744",
           "514c"
          ],
          [
           "205941",
           "J118"
          ],
          [
           "1529067",
           "J118"
          ],
          [
           "362781",
           "J118"
          ],
          [
           "28045",
           "J386"
          ],
          [
           "[{'NCBI tax id': 1121017, 'Matching level': 'strain'}, {'NCBI tax id': 229480, 'Matching level': 'species'}]",
           "J26"
          ],
          [
           "2547600",
           "J346"
          ],
          [
           "[{'NCBI tax id': 43656, 'Matching level': 'species'}, {'NCBI tax id': 1123010, 'Matching level': 'strain'}]",
           "J118"
          ],
          [
           "68214",
           "J42"
          ],
          [
           "1294290",
           "J118"
          ],
          [
           "439699",
           "J51"
          ],
          [
           "592308",
           "J26"
          ],
          [
           "37632",
           "J57"
          ],
          [
           "520043",
           "514d"
          ],
          [
           "1678841",
           "J1103"
          ],
          [
           "1461322",
           "514c"
          ],
          [
           "[{'NCBI tax id': 33050, 'Matching level': 'species'}, {'NCBI tax id': 1219047, 'Matching level': 'strain'}]",
           "J346"
          ],
          [
           "1859295",
           "J26"
          ],
          [
           "169765",
           "J386"
          ],
          [
           "430684",
           "J346"
          ],
          [
           "221725",
           "J66"
          ],
          [
           "43767",
           "J26"
          ],
          [
           "[{'NCBI tax id': 2014, 'Matching level': 'species'}, {'NCBI tax id': 446468, 'Matching level': 'strain'}]",
           "J66"
          ],
          [
           "66854",
           "J58"
          ],
          [
           "[{'NCBI tax id': 1000570, 'Matching level': 'strain'}, {'NCBI tax id': 1328, 'Matching level': 'species'}]",
           "J70"
          ],
          [
           "582850",
           "J75"
          ],
          [
           "[{'NCBI tax id': 1931, 'Matching level': 'species'}, {'NCBI tax id': 80858, 'Matching level': 'species'}]",
           "J58"
          ],
          [
           "1510192",
           "J346"
          ],
          [
           "1434821",
           "J118"
          ],
          [
           "68194",
           "J66"
          ],
          [
           "[{'NCBI tax id': 417948, 'Matching level': 'species'}, {'NCBI tax id': 1121122, 'Matching level': 'strain'}]",
           "J76"
          ],
          [
           "1005740",
           "J940"
          ],
          [
           "37333",
           "J56"
          ],
          [
           "1579",
           "J84"
          ],
          [
           "53952",
           "J280"
          ],
          [
           "1869214",
           "J118"
          ],
          [
           "1678842",
           "J118"
          ],
          [
           "977800",
           "J346"
          ],
          [
           "1035916",
           "J118"
          ],
          [
           "1045773",
           "J475"
          ],
          [
           "1130723",
           "J118"
          ],
          [
           "116188",
           "J66"
          ],
          [
           "1966350",
           "J1048"
          ],
          [
           "254406",
           "J118"
          ],
          [
           "526944",
           "J69"
          ],
          [
           "2020714",
           "514f"
          ],
          [
           "53451",
           "J66"
          ],
          [
           "[{'NCBI tax id': 1348630, 'Matching level': 'strain'}, {'NCBI tax id': 220688, 'Matching level': 'species'}]",
           "J75"
          ],
          [
           "441103",
           "J118"
          ],
          [
           "1943",
           "J42"
          ],
          [
           "1226327",
           "J256"
          ],
          [
           "1500077",
           "J50"
          ],
          [
           "58343",
           "J45"
          ],
          [
           "1280",
           "J70"
          ],
          [
           "[{'NCBI tax id': 1829, 'Matching level': 'species'}, {'NCBI tax id': 1219024, 'Matching level': 'strain'}]",
           "J57"
          ],
          [
           "28121",
           "J1130"
          ],
          [
           "1818775",
           "J26"
          ],
          [
           "[{'NCBI tax id': 1236976, 'Matching level': 'strain'}, {'NCBI tax id': 669461, 'Matching level': 'species'}]",
           "J75"
          ],
          [
           "1580",
           "J84"
          ],
          [
           "58115",
           "J66"
          ],
          [
           "85558",
           "J45"
          ],
          [
           "971279",
           "J811"
          ],
          [
           "[{'NCBI tax id': 43660, 'Matching level': 'species'}, {'NCBI tax id': 1117320, 'Matching level': 'strain'}]",
           "J118"
          ],
          [
           "[{'NCBI tax id': 1697, 'Matching level': 'species'}, {'NCBI tax id': 649754, 'Matching level': 'strain'}]",
           "J475"
          ],
          [
           "135739",
           "J118"
          ],
          [
           "68252",
           "J58"
          ],
          [
           "415721",
           "J58"
          ],
          [
           "1524460",
           "514c"
          ],
          [
           "1818738",
           "J22"
          ],
          [
           "28101",
           "J74"
          ],
          [
           "67312",
           "J42"
          ],
          [
           "[{'NCBI tax id': 1766, 'Matching level': 'species'}, {'NCBI tax id': 1214102, 'Matching level': 'strain'}]",
           "J386"
          ],
          [
           "417367",
           "J118"
          ],
          [
           "255205",
           "J26"
          ],
          [
           "1305675",
           "J118"
          ],
          [
           "531940",
           "J42"
          ],
          [
           "1881",
           "J47"
          ],
          [
           "68170",
           "J42"
          ],
          [
           "1128621",
           "J22"
          ],
          [
           "28141",
           "J22"
          ],
          [
           "56192",
           "514f"
          ],
          [
           "[{'NCBI tax id': 988, 'Matching level': 'species'}, {'NCBI tax id': 1122159, 'Matching level': 'strain'}]",
           "J118"
          ],
          [
           "754436",
           "514c"
          ],
          [
           "592050",
           "J22"
          ],
          [
           "1982042",
           "J118"
          ],
          [
           "720633",
           "J74"
          ],
          [
           "1113551",
           "J26"
          ],
          [
           "337330",
           "J84"
          ],
          [
           "[{'NCBI tax id': 1219015, 'Matching level': 'strain'}, {'NCBI tax id': 1828, 'Matching level': 'species'}]",
           "J57"
          ],
          [
           "28083",
           "J119"
          ],
          [
           "1672",
           "J475"
          ],
          [
           "185693",
           "J378"
          ],
          [
           "52258",
           "J66"
          ],
          [
           "[{'NCBI tax id': 1219054, 'Matching level': 'strain'}, {'NCBI tax id': 33051, 'Matching level': 'species'}]",
           "J28"
          ],
          [
           "1670621",
           "J346"
          ],
          [
           "1008305",
           "J964"
          ],
          [
           "1892",
           "J81"
          ],
          [
           "1564161",
           "J43"
          ],
          [
           "1716172",
           "J57"
          ],
          [
           "1934409",
           "J475"
          ],
          [
           "337894",
           "J43"
          ],
          [
           "335406",
           "J23"
          ],
          [
           "674079",
           "J118"
          ],
          [
           "84096",
           "J75"
          ],
          [
           "115541",
           "J84"
          ],
          [
           "44098",
           "J307"
          ],
          [
           "1795387",
           "J346"
          ],
          [
           "1350067",
           "J990"
          ],
          [
           "36814",
           "J386"
          ],
          [
           "1922",
           "J66"
          ],
          [
           "1818705",
           "J43"
          ],
          [
           "227316",
           "J61"
          ],
          [
           "46175",
           "J54"
          ],
          [
           "1871616",
           "J22"
          ],
          [
           "2161675",
           "J43"
          ],
          [
           "284029",
           "J50"
          ],
          [
           "1255",
           "J84"
          ],
          [
           "549386",
           "J443"
          ],
          [
           "66347",
           "J181"
          ],
          [
           "33038",
           "J465"
          ],
          [
           "2016517",
           "429c"
          ],
          [
           "536980",
           "J346"
          ],
          [
           "2045",
           "J40"
          ],
          [
           "53372",
           "J109"
          ],
          [
           "1261",
           "J84"
          ],
          [
           "1406",
           "J74"
          ],
          [
           "488535",
           "J118"
          ],
          [
           "1416876",
           "J104"
          ],
          [
           "1917421",
           "J118"
          ],
          [
           "720633",
           "J75"
          ],
          [
           "1968895",
           "J261"
          ],
          [
           "1326083",
           "J346"
          ],
          [
           "483014",
           "J26"
          ],
          [
           "57498",
           "J22"
          ],
          [
           "641691",
           "J118"
          ],
          [
           "49283",
           "J22"
          ],
          [
           "1859473",
           "J28"
          ],
          [
           "33898",
           "J42"
          ],
          [
           "2282699",
           "J118"
          ],
          [
           "1538144",
           "J26"
          ],
          [
           "[{'NCBI tax id': 405948, 'Matching level': 'strain'}, {'NCBI tax id': 1836, 'Matching level': 'species'}]",
           "J42"
          ],
          [
           "1705",
           "J26"
          ],
          [
           "1162670",
           "J118"
          ],
          [
           "2078947",
           "J74"
          ],
          [
           "1818735",
           "J28"
          ],
          [
           "[{'NCBI tax id': 516703, 'Matching level': 'species'}, {'NCBI tax id': 1385512, 'Matching level': 'strain'}]",
           "514d"
          ]
         ],
         "hovertemplate": "Cluster=10<br>Component 1=%{x}<br>Component 2=%{y}<br>taxon_id=%{customdata[0]}<br>media_id=%{customdata[1]}<extra></extra>",
         "legendgroup": "10",
         "marker": {
          "color": "#19d3f3",
          "opacity": 0.3,
          "symbol": "circle"
         },
         "mode": "markers",
         "name": "10",
         "showlegend": true,
         "type": "scattergl",
         "x": [
          3.030371904373169,
          2.8745477199554443,
          2.965867280960083,
          2.9574782848358154,
          3.086285352706909,
          3.1860744953155518,
          2.951496124267578,
          2.915684700012207,
          3.195568084716797,
          3.2086243629455566,
          3.170300245285034,
          3.1042914390563965,
          2.9818084239959717,
          2.931352376937866,
          3.0018486976623535,
          3.021898031234741,
          2.9302937984466553,
          2.969036340713501,
          2.9591267108917236,
          2.9025089740753174,
          3.037480592727661,
          3.0457170009613037,
          3.193178653717041,
          3.1358306407928467,
          3.1865158081054688,
          3.0469398498535156,
          3.147035598754883,
          3.1601357460021973,
          2.9754583835601807,
          2.943249225616455,
          3.066606044769287,
          3.0009384155273438,
          1.7390879392623901,
          2.9076743125915527,
          2.684886932373047,
          2.627018690109253,
          2.690401315689087,
          3.045823097229004,
          3.000066041946411,
          2.9503111839294434,
          3.043109178543091,
          3.2542190551757812,
          3.190948247909546,
          3.1529815196990967,
          3.232675552368164,
          3.163771629333496,
          3.033946990966797,
          3.257490396499634,
          3.1609854698181152,
          3.1765174865722656,
          3.198052406311035,
          2.9293477535247803,
          3.1655240058898926,
          3.1822617053985596,
          2.9552392959594727,
          3.379826784133911,
          3.454406261444092,
          3.235285520553589,
          2.9612302780151367,
          3.212996244430542,
          3.22161865234375,
          3.0942792892456055,
          3.09529709815979,
          2.174248218536377,
          1.3758931159973145,
          3.289411783218384,
          3.296710252761841,
          3.0672919750213623,
          2.8450264930725098,
          3.123800754547119,
          3.214404344558716,
          3.0082569122314453,
          3.072934150695801,
          3.1536784172058105,
          3.2581980228424072,
          3.1720211505889893,
          1.5185418128967285,
          3.026756525039673,
          3.1576850414276123,
          3.0623607635498047,
          3.087339162826538,
          3.0387439727783203,
          2.8926641941070557,
          2.8840529918670654,
          3.032975912094116,
          3.159843921661377,
          3.2620739936828613,
          3.2134108543395996,
          2.9049205780029297,
          2.9002232551574707,
          3.149646043777466,
          3.1205976009368896,
          2.9004204273223877,
          2.991419792175293,
          3.117581605911255,
          2.979832172393799,
          3.1080195903778076,
          2.9694650173187256,
          3.05041241645813,
          1.340943455696106,
          3.24661922454834,
          2.970867395401001,
          3.1141419410705566,
          3.180837392807007,
          2.890010356903076,
          2.9703874588012695,
          3.0207343101501465,
          2.863929510116577,
          2.9285571575164795,
          3.0446581840515137,
          2.960543394088745,
          3.003124713897705,
          3.0908539295196533,
          2.958488941192627,
          2.9001150131225586,
          2.929727792739868,
          2.859450578689575,
          2.9311776161193848,
          2.83231258392334,
          2.8171181678771973,
          2.777818202972412,
          3.0405051708221436,
          2.8609042167663574,
          2.7823660373687744,
          2.6762752532958984,
          2.8428845405578613,
          2.8280060291290283,
          2.8205244541168213,
          2.667830467224121,
          2.705631732940674,
          2.6941967010498047,
          2.628051996231079,
          2.7213475704193115,
          2.8806915283203125,
          1.5952438116073608,
          2.7702455520629883,
          2.819689989089966,
          3.002829074859619,
          1.7899144887924194,
          1.836835503578186,
          2.6314666271209717,
          2.52882719039917,
          2.5173401832580566,
          2.579993486404419,
          1.7321580648422241,
          2.564866065979004,
          2.6389834880828857,
          2.6509547233581543,
          2.548776865005493,
          2.5648486614227295,
          2.519517421722412,
          2.4700405597686768,
          1.5885109901428223,
          2.6189167499542236,
          2.5886776447296143,
          2.3274378776550293,
          2.71718692779541,
          2.6005091667175293,
          2.4840962886810303,
          2.457566022872925,
          2.596992254257202,
          2.7543017864227295,
          2.428971529006958,
          2.8306827545166016,
          2.6998305320739746,
          3.0002636909484863,
          2.5392873287200928,
          2.4942679405212402,
          2.6678218841552734,
          2.5560452938079834,
          2.340618848800659,
          2.7110605239868164,
          2.605503797531128,
          2.387742042541504,
          2.5778160095214844,
          2.951826810836792,
          2.6310336589813232,
          2.429974317550659,
          2.6035499572753906,
          2.7408628463745117,
          2.5615649223327637,
          2.528651237487793,
          2.3552448749542236,
          2.4700632095336914,
          1.6807217597961426,
          2.4493534564971924,
          1.5021687746047974,
          2.70859956741333,
          2.4007058143615723,
          2.5508439540863037,
          2.406806230545044,
          2.654754638671875,
          2.340562582015991,
          2.323810577392578,
          1.5941797494888306,
          2.5025088787078857,
          2.617185592651367,
          2.3679518699645996,
          2.409166097640991,
          1.5402932167053223,
          2.2794740200042725,
          1.7362295389175415,
          2.362809896469116,
          2.506903886795044,
          2.309628486633301,
          2.5281615257263184,
          2.5486793518066406,
          2.460463762283325,
          2.464698076248169,
          2.2750244140625,
          2.2646117210388184,
          2.2924399375915527,
          2.4350743293762207,
          2.380936861038208,
          2.257917881011963,
          2.3191068172454834,
          2.4179916381835938,
          2.382366180419922,
          2.573181629180908,
          2.294205904006958,
          2.3361361026763916,
          2.2886266708374023,
          2.2801578044891357,
          2.460608720779419,
          2.296525716781616,
          2.3852758407592773,
          2.3247530460357666,
          2.377415895462036,
          2.3941423892974854,
          2.6011695861816406,
          2.43111252784729,
          1.455389380455017,
          2.396212339401245,
          2.332852840423584,
          2.31249737739563,
          1.6139167547225952,
          2.3650341033935547,
          2.1234676837921143,
          2.4072794914245605,
          2.1454477310180664,
          2.324129104614258,
          2.4184861183166504,
          2.4673449993133545,
          2.6645336151123047,
          2.3632760047912598,
          2.2281506061553955,
          2.378535270690918,
          2.566728353500366,
          2.3761844635009766,
          1.353217601776123,
          2.7250888347625732,
          2.446166515350342,
          2.570225954055786,
          1.4519644975662231,
          1.7598196268081665,
          2.532132625579834,
          2.606895685195923,
          2.4413249492645264,
          2.630636215209961,
          2.482736110687256,
          2.6135966777801514,
          2.6759707927703857,
          2.7650294303894043,
          1.4226993322372437,
          2.5414085388183594,
          1.4193050861358643,
          1.5820984840393066,
          2.394887924194336,
          1.437304139137268,
          1.576781988143921,
          2.705242872238159,
          2.6836936473846436,
          2.444182872772217,
          2.663111448287964,
          2.5329861640930176,
          2.522226333618164,
          1.8246080875396729,
          2.4790632724761963,
          2.4529905319213867,
          2.7414703369140625,
          2.45951247215271,
          2.5873382091522217,
          2.4701859951019287,
          2.550708055496216,
          2.656815528869629,
          1.6476296186447144,
          2.819512367248535,
          2.705657720565796,
          2.51196551322937,
          2.585998058319092,
          2.755521059036255,
          2.677156448364258,
          2.627065420150757,
          2.8535356521606445,
          2.6755125522613525,
          2.855717182159424,
          2.6009364128112793,
          2.707258701324463,
          2.857922077178955,
          2.6717681884765625,
          2.5001699924468994,
          2.8221547603607178,
          2.725557565689087,
          2.7200469970703125,
          2.911789655685425,
          2.80983567237854,
          2.846238851547241,
          2.999542713165283,
          2.912686347961426,
          2.832371950149536,
          2.8025333881378174,
          3.077838182449341,
          3.0238888263702393,
          2.853158473968506,
          2.851762533187866,
          3.0711171627044678,
          2.9824204444885254,
          1.5573642253875732,
          3.0662715435028076,
          2.9371345043182373,
          2.9977128505706787,
          3.112720012664795,
          2.9247212409973145,
          2.861889600753784,
          3.139711380004883,
          3.1938517093658447,
          3.012885093688965,
          2.840757369995117,
          3.0490100383758545,
          2.9787673950195312,
          3.0750255584716797,
          1.469576358795166
         ],
         "xaxis": "x",
         "y": [
          14.33922004699707,
          14.407597541809082,
          14.233370780944824,
          14.300027847290039,
          14.121152877807617,
          14.23965072631836,
          14.255680084228516,
          14.361210823059082,
          14.21545124053955,
          14.44953727722168,
          14.110215187072754,
          14.34925651550293,
          14.450663566589355,
          14.284160614013672,
          14.156904220581055,
          14.351201057434082,
          14.352885246276855,
          14.367220878601074,
          14.208953857421875,
          14.28642463684082,
          14.159245491027832,
          14.102066993713379,
          14.229509353637695,
          14.396129608154297,
          14.037375450134277,
          14.328400611877441,
          14.302098274230957,
          14.270349502563477,
          14.490668296813965,
          14.240246772766113,
          14.322936058044434,
          14.273362159729004,
          14.770271301269531,
          14.289164543151855,
          14.191764831542969,
          14.127436637878418,
          14.055135726928711,
          14.125685691833496,
          14.437793731689453,
          14.114827156066895,
          14.42553997039795,
          14.143021583557129,
          14.187636375427246,
          14.274100303649902,
          14.332484245300293,
          14.45423412322998,
          14.23574161529541,
          14.313188552856445,
          14.064882278442383,
          14.243135452270508,
          14.40340805053711,
          14.360377311706543,
          14.299063682556152,
          14.323944091796875,
          14.151631355285645,
          14.075398445129395,
          14.251177787780762,
          14.257111549377441,
          14.140539169311523,
          14.251912117004395,
          14.089323997497559,
          14.538058280944824,
          14.632705688476562,
          14.56651782989502,
          14.793148040771484,
          14.513503074645996,
          14.694356918334961,
          14.436918258666992,
          14.509486198425293,
          14.525972366333008,
          14.27264404296875,
          14.413484573364258,
          14.406145095825195,
          14.157085418701172,
          14.513319969177246,
          14.448219299316406,
          14.936944961547852,
          14.401305198669434,
          14.30660629272461,
          14.417505264282227,
          14.511011123657227,
          14.282709121704102,
          14.401900291442871,
          14.443700790405273,
          14.347593307495117,
          14.508420944213867,
          14.261744499206543,
          14.499550819396973,
          14.173111915588379,
          14.376399040222168,
          14.59255599975586,
          14.42353630065918,
          14.290724754333496,
          14.331632614135742,
          14.382482528686523,
          14.342168807983398,
          14.403624534606934,
          14.29312801361084,
          14.419685363769531,
          14.899666786193848,
          14.192890167236328,
          14.379481315612793,
          14.148154258728027,
          14.479273796081543,
          14.398529052734375,
          14.449678421020508,
          14.412097930908203,
          14.31252384185791,
          14.327338218688965,
          14.325042724609375,
          14.232452392578125,
          14.051765441894531,
          14.208776473999023,
          14.405367851257324,
          14.317313194274902,
          14.160120010375977,
          14.258722305297852,
          14.419905662536621,
          14.226658821105957,
          14.44728946685791,
          14.279586791992188,
          14.30123519897461,
          14.163580894470215,
          14.214178085327148,
          14.17119312286377,
          14.164124488830566,
          14.285524368286133,
          14.216259002685547,
          13.999629020690918,
          14.101354598999023,
          14.342086791992188,
          14.16740894317627,
          14.0827054977417,
          14.047074317932129,
          14.931289672851562,
          14.119860649108887,
          14.212235450744629,
          13.96308422088623,
          14.8643159866333,
          14.663747787475586,
          14.007379531860352,
          14.295839309692383,
          14.327363014221191,
          14.004249572753906,
          14.667222023010254,
          14.000211715698242,
          14.220941543579102,
          14.021186828613281,
          14.068384170532227,
          13.94146728515625,
          14.048788070678711,
          14.084961891174316,
          14.843925476074219,
          14.001751899719238,
          14.01628303527832,
          13.832342147827148,
          13.922874450683594,
          14.480995178222656,
          14.034427642822266,
          14.003704071044922,
          14.053645133972168,
          14.100015640258789,
          13.746148109436035,
          14.067421913146973,
          13.893016815185547,
          14.015656471252441,
          13.876952171325684,
          14.028769493103027,
          13.929624557495117,
          13.830544471740723,
          14.222391128540039,
          14.104143142700195,
          14.074395179748535,
          14.118897438049316,
          14.134089469909668,
          14.00131607055664,
          14.024595260620117,
          13.961336135864258,
          14.216289520263672,
          14.113426208496094,
          14.057290077209473,
          14.201007843017578,
          14.211320877075195,
          13.924622535705566,
          14.823223114013672,
          13.952853202819824,
          14.878024101257324,
          14.265588760375977,
          13.978985786437988,
          14.01396369934082,
          13.770648002624512,
          14.238548278808594,
          14.135567665100098,
          14.068670272827148,
          15.214017868041992,
          13.75344181060791,
          14.076950073242188,
          14.130724906921387,
          13.891667366027832,
          14.64614200592041,
          13.981131553649902,
          14.632149696350098,
          13.874613761901855,
          14.293161392211914,
          14.000897407531738,
          14.119698524475098,
          13.773825645446777,
          13.96163272857666,
          14.01006031036377,
          13.866560935974121,
          13.746049880981445,
          13.99213981628418,
          13.649249076843262,
          13.64451789855957,
          13.70073413848877,
          13.86962890625,
          13.865570068359375,
          13.860694885253906,
          13.754847526550293,
          14.01970100402832,
          13.855478286743164,
          13.923175811767578,
          13.87699031829834,
          13.991911888122559,
          13.855881690979004,
          13.710198402404785,
          14.089319229125977,
          14.051199913024902,
          14.00032901763916,
          13.864999771118164,
          13.697937965393066,
          14.990360260009766,
          13.736465454101562,
          13.8041353225708,
          13.661895751953125,
          14.860993385314941,
          13.741804122924805,
          13.78209400177002,
          13.803221702575684,
          13.907387733459473,
          13.782933235168457,
          13.861933708190918,
          13.867045402526855,
          13.638777732849121,
          13.94512939453125,
          13.7992525100708,
          14.07354736328125,
          13.656497955322266,
          13.722916603088379,
          14.859504699707031,
          13.64702320098877,
          13.734869003295898,
          13.701864242553711,
          14.567207336425781,
          14.691822052001953,
          13.766724586486816,
          14.082724571228027,
          13.613336563110352,
          13.819571495056152,
          13.756990432739258,
          13.749553680419922,
          13.82532787322998,
          13.635167121887207,
          15.01094913482666,
          13.924043655395508,
          14.751776695251465,
          15.195666313171387,
          13.792384147644043,
          15.009610176086426,
          15.277984619140625,
          13.835290908813477,
          13.977543830871582,
          13.736041069030762,
          13.940563201904297,
          13.766438484191895,
          13.754842758178711,
          14.74204158782959,
          14.097052574157715,
          13.833024978637695,
          13.841873168945312,
          13.73769760131836,
          14.065717697143555,
          13.808206558227539,
          13.983048439025879,
          13.646705627441406,
          14.99581241607666,
          13.949326515197754,
          13.79788875579834,
          13.906071662902832,
          13.890921592712402,
          13.991130828857422,
          13.812009811401367,
          13.918251037597656,
          14.020791053771973,
          13.751996040344238,
          13.927312850952148,
          14.06812572479248,
          13.985526084899902,
          14.034964561462402,
          13.929760932922363,
          14.217207908630371,
          14.010278701782227,
          13.845121383666992,
          13.8934907913208,
          14.055602073669434,
          14.090594291687012,
          14.03878116607666,
          14.278759002685547,
          14.086602210998535,
          14.072237014770508,
          13.992274284362793,
          14.229194641113281,
          14.055784225463867,
          14.00527286529541,
          14.274553298950195,
          14.122429847717285,
          14.28145694732666,
          14.932841300964355,
          14.094368934631348,
          14.216144561767578,
          14.112593650817871,
          14.192654609680176,
          14.320942878723145,
          14.362642288208008,
          14.223221778869629,
          14.007155418395996,
          14.24592399597168,
          14.224936485290527,
          14.221030235290527,
          14.213385581970215,
          14.26641845703125,
          14.616436958312988
         ],
         "yaxis": "y"
        },
        {
         "customdata": [
          [
           "1600",
           "J21"
          ],
          [
           "1849278",
           "J14"
          ],
          [
           "2751",
           "J17"
          ],
          [
           "1179787",
           "J14"
          ],
          [
           "2447885",
           "J14"
          ],
          [
           "1911679",
           "J14"
          ],
          [
           "[{'NCBI tax id': 479436, 'Matching level': 'strain'}, {'NCBI tax id': 29466, 'Matching level': 'species'}]",
           "J14"
          ],
          [
           "[{'NCBI tax id': 763034, 'Matching level': 'strain'}, {'NCBI tax id': 626930, 'Matching level': 'species'}]",
           "J14"
          ],
          [
           "[{'NCBI tax id': 484018, 'Matching level': 'strain'}, {'NCBI tax id': 310297, 'Matching level': 'species'}]",
           "J14"
          ],
          [
           "[{'NCBI tax id': 2750, 'Matching level': 'species'}, {'NCBI tax id': 1449342, 'Matching level': 'strain'}]",
           "J17"
          ],
          [
           "[{'NCBI tax id': 376806, 'Matching level': 'species'}, {'NCBI tax id': 1121096, 'Matching level': 'strain'}]",
           "J14"
          ],
          [
           "1179782",
           "J14"
          ],
          [
           "302912",
           "J14"
          ],
          [
           "2605782",
           "J14"
          ],
          [
           "[{'NCBI tax id': 1307442, 'Matching level': 'strain'}, {'NCBI tax id': 1583098, 'Matching level': 'species'}]",
           "J14"
          ],
          [
           "2652290",
           "J14"
          ],
          [
           "1159213",
           "J14"
          ],
          [
           "2650158",
           "J14"
          ],
          [
           "[{'NCBI tax id': 1133319, 'Matching level': 'species'}, {'NCBI tax id': 1445607, 'Matching level': 'strain'}]",
           "J14"
          ],
          [
           "[{'NCBI tax id': 169435, 'Matching level': 'species'}, {'NCBI tax id': 445972, 'Matching level': 'strain'}]",
           "J14"
          ],
          [
           "1559",
           "J14"
          ],
          [
           "2490855",
           "J14"
          ],
          [
           "[{'NCBI tax id': 449673, 'Matching level': 'strain'}, {'NCBI tax id': 46506, 'Matching level': 'species'}]",
           "J14"
          ],
          [
           "556053",
           "J346"
          ],
          [
           "[{'NCBI tax id': 1316584, 'Matching level': 'strain'}, {'NCBI tax id': 135079, 'Matching level': 'species'}]",
           "J14"
          ],
          [
           "[{'NCBI tax id': 157687, 'Matching level': 'species'}, {'NCBI tax id': 1122174, 'Matching level': 'strain'}]",
           "J14"
          ],
          [
           "[{'NCBI tax id': 1673725, 'Matching level': 'species'}, {'NCBI tax id': 1175452, 'Matching level': 'species'}]",
           "J14"
          ],
          [
           "2292441",
           "J14"
          ],
          [
           "[{'NCBI tax id': 1437601, 'Matching level': 'strain'}, {'NCBI tax id': 1688, 'Matching level': 'species'}]",
           "J19"
          ],
          [
           "[{'NCBI tax id': 39483, 'Matching level': 'species'}, {'NCBI tax id': 649755, 'Matching level': 'strain'}]",
           "J14"
          ],
          [
           "460384",
           "J14"
          ],
          [
           "[{'NCBI tax id': 1236512, 'Matching level': 'strain'}, {'NCBI tax id': 691816, 'Matching level': 'species'}]",
           "J14"
          ],
          [
           "1796635",
           "J14"
          ],
          [
           "1655",
           "J14"
          ],
          [
           "285729",
           "J14"
          ],
          [
           "28135",
           "J14"
          ],
          [
           "[{'NCBI tax id': 1410649, 'Matching level': 'strain'}, {'NCBI tax id': 180164, 'Matching level': 'species'}]",
           "J14"
          ],
          [
           "78343",
           "J14"
          ],
          [
           "[{'NCBI tax id': 1121107, 'Matching level': 'strain'}, {'NCBI tax id': 35760, 'Matching level': 'species'}]",
           "J19"
          ],
          [
           "102148",
           "J14"
          ],
          [
           "[{'NCBI tax id': 667015, 'Matching level': 'strain'}, {'NCBI tax id': 376805, 'Matching level': 'species'}]",
           "J14"
          ],
          [
           "[{'NCBI tax id': 1695, 'Matching level': 'subspecies'}, {'NCBI tax id': 1437597, 'Matching level': 'strain'}]",
           "J19"
          ],
          [
           "[{'NCBI tax id': 393480, 'Matching level': 'strain'}, {'NCBI tax id': 76857, 'Matching level': 'species'}]",
           "J14"
          ],
          [
           "[{'NCBI tax id': 997353, 'Matching level': 'strain'}, {'NCBI tax id': 60133, 'Matching level': 'species'}]",
           "J14"
          ],
          [
           "418198",
           "J21"
          ],
          [
           "[{'NCBI tax id': 762983, 'Matching level': 'strain'}, {'NCBI tax id': 626938, 'Matching level': 'species'}]",
           "J14"
          ],
          [
           "2652293",
           "J14"
          ],
          [
           "28136",
           "J14"
          ],
          [
           "[{'NCBI tax id': 1121342, 'Matching level': 'strain'}, {'NCBI tax id': 1519, 'Matching level': 'species'}]",
           "J14"
          ],
          [
           "[{'NCBI tax id': 1291051, 'Matching level': 'strain'}, {'NCBI tax id': 342942, 'Matching level': 'species'}]",
           "J14"
          ],
          [
           "[{'NCBI tax id': 1410648, 'Matching level': 'strain'}, {'NCBI tax id': 33905, 'Matching level': 'species'}]",
           "J19"
          ],
          [
           "[{'NCBI tax id': 553178, 'Matching level': 'strain'}, {'NCBI tax id': 1017, 'Matching level': 'species'}]",
           "J14"
          ],
          [
           "574930",
           "J14"
          ]
         ],
         "hovertemplate": "Cluster=6<br>Component 1=%{x}<br>Component 2=%{y}<br>taxon_id=%{customdata[0]}<br>media_id=%{customdata[1]}<extra></extra>",
         "legendgroup": "6",
         "marker": {
          "color": "#FF6692",
          "opacity": 0.3,
          "symbol": "circle"
         },
         "mode": "markers",
         "name": "6",
         "showlegend": true,
         "type": "scattergl",
         "x": [
          -0.05689721181988716,
          -0.10024511814117432,
          -0.16023372113704681,
          -0.057290054857730865,
          -0.04940953850746155,
          -0.3372964859008789,
          -0.22036559879779816,
          -0.1303103119134903,
          -0.22841933369636536,
          -0.2660810947418213,
          -0.201659694314003,
          -0.27705836296081543,
          -0.12597325444221497,
          -0.1827675849199295,
          -0.10197584331035614,
          -0.11626800149679184,
          -0.14263537526130676,
          -0.3266572058200836,
          -0.15244120359420776,
          -0.28576958179473877,
          -0.05831306055188179,
          -0.16752707958221436,
          -0.21997825801372528,
          -0.041945915669202805,
          -0.21447288990020752,
          -0.1740363985300064,
          -0.08598670363426208,
          -0.08180995285511017,
          -0.2602381110191345,
          -0.17817673087120056,
          -0.17665505409240723,
          -0.14062342047691345,
          -0.02963344380259514,
          -0.10003717243671417,
          -0.2357049137353897,
          -0.05199765786528587,
          -0.19325365126132965,
          -0.17117556929588318,
          -0.062051281332969666,
          -0.19422398507595062,
          -0.17698124051094055,
          -0.15345501899719238,
          -0.24173174798488617,
          -0.22624510526657104,
          -0.18390914797782898,
          -0.16274015605449677,
          -0.03715787082910538,
          -0.24621877074241638,
          -0.12299619615077972,
          -0.19293580949306488,
          -0.2035195529460907,
          -0.2011137455701828,
          -0.19358685612678528
         ],
         "xaxis": "x",
         "y": [
          3.1130967140197754,
          3.166196346282959,
          3.129117965698242,
          3.0351545810699463,
          3.024726390838623,
          4.7033562660217285,
          3.052307367324829,
          4.69526481628418,
          4.656516075134277,
          4.5968337059021,
          4.690578937530518,
          4.6719441413879395,
          3.1988234519958496,
          4.711127281188965,
          3.115659713745117,
          4.70024299621582,
          4.765007495880127,
          4.634432792663574,
          3.4702141284942627,
          4.623912334442139,
          3.1582348346710205,
          3.132786512374878,
          4.482313632965088,
          3.187249183654785,
          4.742973327636719,
          4.437716484069824,
          3.1335439682006836,
          4.780137062072754,
          4.724493026733398,
          3.1815998554229736,
          4.660199165344238,
          3.128753900527954,
          3.1625301837921143,
          3.204056739807129,
          4.592870712280273,
          3.0761220455169678,
          4.79255485534668,
          4.716070652008057,
          3.1210415363311768,
          4.076905727386475,
          3.1155943870544434,
          4.85388708114624,
          4.764248371124268,
          4.792078495025635,
          4.68327522277832,
          3.046314001083374,
          3.1564576625823975,
          3.2489359378814697,
          3.2003183364868164,
          3.050793170928955,
          3.1629114151000977,
          3.0893874168395996,
          4.064475059509277
         ],
         "yaxis": "y"
        },
        {
         "customdata": [
          [
           "1295370",
           "J297"
          ],
          [
           "60922",
           "J28"
          ],
          [
           "1671023",
           "J26"
          ],
          [
           "317",
           "535b"
          ],
          [
           "424795",
           "J475"
          ],
          [
           "1523247",
           "J25"
          ],
          [
           "67333",
           "J42"
          ],
          [
           "1842532",
           "J1246"
          ],
          [
           "1987056",
           "J141"
          ],
          [
           "93929",
           "J320"
          ],
          [
           "46187",
           "J271"
          ],
          [
           "29363",
           "J1130"
          ],
          [
           "[{'NCBI tax id': 100225, 'Matching level': 'species'}, {'NCBI tax id': 1184607, 'Matching level': 'strain'}]",
           "J218"
          ],
          [
           "1141647",
           "J26"
          ],
          [
           "180200",
           "J346"
          ],
          [
           "1765967",
           "J1196"
          ],
          [
           "[{'NCBI tax id': 1123052, 'Matching level': 'strain'}, {'NCBI tax id': 145458, 'Matching level': 'species'}]",
           "J26"
          ],
          [
           "223184",
           "J443"
          ],
          [
           "2138166",
           "J443"
          ],
          [
           "2606616",
           "J28"
          ],
          [
           "[{'NCBI tax id': 1261617, 'Matching level': 'strain'}, {'NCBI tax id': 75659, 'Matching level': 'species'}]",
           "J22"
          ],
          [
           "761804",
           "J386"
          ],
          [
           "433647",
           "J28"
          ],
          [
           "[{'NCBI tax id': 300018, 'Matching level': 'species'}, {'NCBI tax id': 1302725, 'Matching level': 'strain'}]",
           "J26"
          ],
          [
           "885",
           "195c"
          ],
          [
           "129922",
           "J351"
          ],
          [
           "173858",
           "J42"
          ],
          [
           "1332898",
           "J26"
          ],
          [
           "1541394",
           "514f"
          ],
          [
           "2060098",
           "J28"
          ],
          [
           "670054",
           "J26"
          ],
          [
           "1871614",
           "J22"
          ],
          [
           "351343",
           "J346"
          ],
          [
           "145261",
           "J231"
          ],
          [
           "1938",
           "J43"
          ],
          [
           "84643",
           "J26"
          ],
          [
           "1462993",
           "J27"
          ],
          [
           "[{'NCBI tax id': 622312, 'Matching level': 'strain'}, {'NCBI tax id': 360807, 'Matching level': 'species'}]",
           "J465"
          ],
          [
           "39846",
           "J43"
          ],
          [
           "1296565",
           "J26"
          ],
          [
           "[{'NCBI tax id': 73098, 'Matching level': 'species'}, {'NCBI tax id': 1354264, 'Matching level': 'strain'}]",
           "J27"
          ],
          [
           "981385",
           "J892"
          ],
          [
           "[{'NCBI tax id': 134537, 'Matching level': 'species'}, {'NCBI tax id': 1218077, 'Matching level': 'strain'}]",
           "J22"
          ],
          [
           "229920",
           "J435"
          ],
          [
           "1701085",
           "J42"
          ],
          [
           "1892",
           "J226"
          ],
          [
           "299583",
           "429c"
          ],
          [
           "488",
           "J282"
          ],
          [
           "[{'NCBI tax id': 1278244, 'Matching level': 'species'}, {'NCBI tax id': 1902814, 'Matching level': 'species'}]",
           "514f"
          ],
          [
           "69373",
           "J26"
          ],
          [
           "2487346",
           "J27"
          ],
          [
           "1825660",
           "195c"
          ],
          [
           "1766",
           "215b"
          ],
          [
           "1751046",
           "J346"
          ],
          [
           "69713",
           "J1000"
          ],
          [
           "[{'NCBI tax id': 203192, 'Matching level': 'species'}, {'NCBI tax id': 1211807, 'Matching level': 'species'}, {'NCBI tax id': 316, 'Matching level': 'species'}]",
           "J443"
          ],
          [
           "1818689",
           "J22"
          ],
          [
           "86176",
           "535b"
          ],
          [
           "2547829",
           "J128"
          ],
          [
           "47761",
           "J42"
          ],
          [
           "1909",
           "J42"
          ],
          [
           "[{'NCBI tax id': 96468, 'Matching level': 'species'}, {'NCBI tax id': 1206742, 'Matching level': 'strain'}]",
           "J43"
          ],
          [
           "310780",
           "J415"
          ],
          [
           "406549",
           "J306"
          ],
          [
           "[{'NCBI tax id': 37637, 'Matching level': 'species'}, {'NCBI tax id': 1121368, 'Matching level': 'strain'}]",
           "J28"
          ],
          [
           "1783357",
           "J346"
          ],
          [
           "644220",
           "514c"
          ],
          [
           "[{'NCBI tax id': 1305623, 'Matching level': 'strain'}, {'NCBI tax id': 139208, 'Matching level': 'species'}]",
           "J26"
          ],
          [
           "[{'NCBI tax id': 1830, 'Matching level': 'species'}, {'NCBI tax id': 1219025, 'Matching level': 'strain'}]",
           "J43"
          ],
          [
           "340320",
           "J26"
          ],
          [
           "65505",
           "J42"
          ],
          [
           "1737354",
           "J456"
          ],
          [
           "387846",
           "J43"
          ],
          [
           "717609",
           "J822"
          ],
          [
           "285458",
           "J42"
          ],
          [
           "1036181",
           "J43"
          ],
          [
           "[{'NCBI tax id': 1121400, 'Matching level': 'strain'}, {'NCBI tax id': 2298, 'Matching level': 'species'}]",
           "J394"
          ],
          [
           "68211",
           "J42"
          ],
          [
           "[{'NCBI tax id': 1220560, 'Matching level': 'strain'}, {'NCBI tax id': 59842, 'Matching level': 'species'}]",
           "J22"
          ],
          [
           "1134413",
           "J181"
          ],
          [
           "579446",
           "J475"
          ],
          [
           "471189",
           "J469"
          ],
          [
           "354",
           "J22"
          ],
          [
           "2052479",
           "J202"
          ],
          [
           "[{'NCBI tax id': 59840, 'Matching level': 'species'}, {'NCBI tax id': 717606, 'Matching level': 'strain'}]",
           "J22"
          ],
          [
           "[{'NCBI tax id': 89053, 'Matching level': 'species'}, {'NCBI tax id': 1220574, 'Matching level': 'strain'}]",
           "J26"
          ],
          [
           "1560345",
           "J346"
          ],
          [
           "678",
           "514f"
          ],
          [
           "120044",
           "J247"
          ],
          [
           "[{'NCBI tax id': 293050, 'Matching level': 'species'}, {'NCBI tax id': 1123056, 'Matching level': 'strain'}]",
           "J43"
          ],
          [
           "152141",
           "J42"
          ],
          [
           "573179",
           "J30"
          ],
          [
           "[{'NCBI tax id': 1404244, 'Matching level': 'species'}, {'NCBI tax id': 1404245, 'Matching level': 'strain'}]",
           "535a"
          ],
          [
           "2715163",
           "J27"
          ],
          [
           "1708751",
           "J22"
          ],
          [
           "283718",
           "J256"
          ],
          [
           "472",
           "J346"
          ],
          [
           "2779356",
           "J1130"
          ]
         ],
         "hovertemplate": "Cluster=13<br>Component 1=%{x}<br>Component 2=%{y}<br>taxon_id=%{customdata[0]}<br>media_id=%{customdata[1]}<extra></extra>",
         "legendgroup": "13",
         "marker": {
          "color": "#B6E880",
          "opacity": 0.3,
          "symbol": "circle"
         },
         "mode": "markers",
         "name": "13",
         "showlegend": true,
         "type": "scattergl",
         "x": [
          -2.683195114135742,
          -2.8625521659851074,
          -3.096047878265381,
          -3.042210102081299,
          -2.7194604873657227,
          -2.8763110637664795,
          -2.9495489597320557,
          -3.066718816757202,
          -2.85400128364563,
          -3.086979866027832,
          -2.9682321548461914,
          -3.1513609886169434,
          -2.994192361831665,
          -3.166532516479492,
          -3.126194953918457,
          -3.0175273418426514,
          -2.960543155670166,
          -2.7257845401763916,
          -2.8705105781555176,
          -3.2043631076812744,
          -3.044404983520508,
          -2.850478172302246,
          -3.0632712841033936,
          -3.022695779800415,
          -3.1628453731536865,
          -3.137721300125122,
          -2.981926918029785,
          -3.0809648036956787,
          -3.1354172229766846,
          -3.1480443477630615,
          -2.874682903289795,
          -3.126817226409912,
          -2.961519956588745,
          -2.959439516067505,
          -2.8868393898010254,
          -3.0737037658691406,
          -3.0963480472564697,
          -3.0559234619140625,
          -3.051704168319702,
          -2.919360399246216,
          -2.8129677772521973,
          -2.923339366912842,
          -3.0646705627441406,
          -3.1864423751831055,
          -2.9944632053375244,
          -2.8892099857330322,
          -3.0086939334869385,
          -3.0772109031677246,
          -2.916738510131836,
          -3.0626168251037598,
          -3.010878086090088,
          -2.8880937099456787,
          -2.923248291015625,
          -3.097118854522705,
          -2.8639895915985107,
          -3.1169681549072266,
          -3.0988929271698,
          -3.0702316761016846,
          -3.060495615005493,
          -3.023683547973633,
          -2.912179708480835,
          -2.7169814109802246,
          -2.8877875804901123,
          -2.8277130126953125,
          -2.9809348583221436,
          -2.803847312927246,
          -3.140854597091675,
          -2.95883846282959,
          -2.943852663040161,
          -2.7357096672058105,
          -3.116787910461426,
          -2.8779265880584717,
          -3.012864589691162,
          -3.14945387840271,
          -3.1114306449890137,
          -2.845255136489868,
          -2.963613748550415,
          -3.0570497512817383,
          -2.800394296646118,
          -2.7958879470825195,
          -3.098825216293335,
          -2.906158685684204,
          -2.8621926307678223,
          -2.852288007736206,
          -2.728097438812256,
          -3.0841991901397705,
          -3.1598565578460693,
          -2.8073527812957764,
          -3.1266486644744873,
          -3.0998013019561768,
          -3.013641834259033,
          -3.0747931003570557,
          -2.7394464015960693,
          -3.13305926322937,
          -2.8464195728302,
          -2.9798476696014404,
          -2.8807413578033447,
          -2.8697288036346436
         ],
         "xaxis": "x",
         "y": [
          13.714200019836426,
          13.861237525939941,
          13.8712797164917,
          13.91439437866211,
          13.77687931060791,
          13.880046844482422,
          13.78986644744873,
          13.930420875549316,
          13.602690696716309,
          13.544641494750977,
          13.923741340637207,
          13.687702178955078,
          13.905948638916016,
          13.690937042236328,
          13.908285140991211,
          13.740699768066406,
          13.719148635864258,
          13.951666831970215,
          13.91459846496582,
          13.92467212677002,
          13.892474174499512,
          13.855485916137695,
          13.626272201538086,
          13.774968147277832,
          13.621821403503418,
          13.518258094787598,
          13.76404094696045,
          13.888166427612305,
          13.733169555664062,
          13.864506721496582,
          13.516786575317383,
          13.64350700378418,
          13.810017585754395,
          13.870205879211426,
          13.89591121673584,
          13.862488746643066,
          13.888099670410156,
          14.027459144592285,
          13.820049285888672,
          13.822509765625,
          13.716059684753418,
          13.677507400512695,
          13.79400634765625,
          13.56255054473877,
          13.530014038085938,
          13.48411750793457,
          13.777469635009766,
          13.816737174987793,
          13.825462341308594,
          13.777068138122559,
          13.783271789550781,
          13.706171989440918,
          13.503531455993652,
          13.920586585998535,
          13.915740966796875,
          13.76047420501709,
          13.51777458190918,
          13.839147567749023,
          13.638396263122559,
          13.675159454345703,
          13.567707061767578,
          13.791674613952637,
          13.67592716217041,
          13.648892402648926,
          13.527259826660156,
          13.600910186767578,
          13.622855186462402,
          13.78803539276123,
          13.608509063720703,
          13.77898120880127,
          13.621816635131836,
          13.641708374023438,
          13.722607612609863,
          13.425753593444824,
          13.723941802978516,
          13.449128150939941,
          13.672823905944824,
          13.527983665466309,
          13.674631118774414,
          13.846790313720703,
          13.75240421295166,
          13.61279010772705,
          13.686018943786621,
          13.617013931274414,
          13.891695022583008,
          13.747297286987305,
          13.810797691345215,
          13.754984855651855,
          13.726888656616211,
          13.55980110168457,
          13.849688529968262,
          13.973350524902344,
          13.659948348999023,
          14.02472972869873,
          13.521952629089355,
          13.652151107788086,
          13.58329963684082,
          13.761353492736816
         ],
         "yaxis": "y"
        },
        {
         "customdata": [
          [
           "[{'NCBI tax id': 2001, 'Matching level': 'species'}, {'NCBI tax id': 479432, 'Matching level': 'strain'}]",
           "J42"
          ],
          [
           "[{'NCBI tax id': 43669, 'Matching level': 'species'}, {'NCBI tax id': 446465, 'Matching level': 'strain'}]",
           "J28"
          ],
          [
           "882824",
           "J26"
          ],
          [
           "[{'NCBI tax id': 1886, 'Matching level': 'species'}, {'NCBI tax id': 1902, 'Matching level': 'species'}]",
           "J43"
          ],
          [
           "[{'NCBI tax id': 225326, 'Matching level': 'species'}, {'NCBI tax id': 1121362, 'Matching level': 'strain'}]",
           "J28"
          ],
          [
           "1229165",
           "J22"
          ],
          [
           "646",
           "J22"
          ],
          [
           "1650",
           "J22"
          ],
          [
           "433293",
           "J363"
          ],
          [
           "29581",
           "J22"
          ],
          [
           "1972",
           "J43"
          ],
          [
           "592051",
           "J22"
          ],
          [
           "1955250",
           "J346"
          ],
          [
           "48076",
           "J22"
          ],
          [
           "1148157",
           "J22"
          ],
          [
           "44098",
           "J168"
          ],
          [
           "768537",
           "J26"
          ],
          [
           "[{'NCBI tax id': 1121283, 'Matching level': 'strain'}, {'NCBI tax id': 394935, 'Matching level': 'species'}]",
           "J22"
          ],
          [
           "69393",
           "J443"
          ],
          [
           "1482736",
           "J993"
          ],
          [
           "[{'NCBI tax id': 1236535, 'Matching level': 'strain'}, {'NCBI tax id': 446, 'Matching level': 'species'}]",
           "J119"
          ],
          [
           "1351",
           "J27"
          ],
          [
           "43664",
           "J22"
          ],
          [
           "46174",
           "J202"
          ],
          [
           "[{'NCBI tax id': 406817, 'Matching level': 'strain'}, {'NCBI tax id': 628, 'Matching level': 'species'}]",
           "535b"
          ],
          [
           "46160",
           "J43"
          ],
          [
           "330836",
           "J346"
          ],
          [
           "2187",
           "J265"
          ],
          [
           "1504",
           "J14"
          ],
          [
           "1488",
           "J14"
          ],
          [
           "438744",
           "J1220"
          ],
          [
           "562",
           "J22"
          ],
          [
           "1435036",
           "J27"
          ],
          [
           "28213",
           "J28"
          ],
          [
           "47759",
           "J42"
          ],
          [
           "1829",
           "J26"
          ],
          [
           "339",
           "J22"
          ],
          [
           "[{'NCBI tax id': 164759, 'Matching level': 'species'}, {'NCBI tax id': 1236961, 'Matching level': 'strain'}]",
           "J22"
          ],
          [
           "1818775",
           "J28"
          ],
          [
           "1172610",
           "J26"
          ],
          [
           "227597",
           "J280"
          ],
          [
           "[{'NCBI tax id': 243232, 'Matching level': 'strain'}, {'NCBI tax id': 2190, 'Matching level': 'species'}]",
           "J232"
          ],
          [
           "225845",
           "J26"
          ],
          [
           "2059724",
           "514f"
          ],
          [
           "1520",
           "J14"
          ],
          [
           "47760",
           "J42"
          ],
          [
           "676",
           "J7"
          ],
          [
           "[{'NCBI tax id': 381445, 'Matching level': 'species'}, {'NCBI tax id': 1068980, 'Matching level': 'strain'}]",
           "J43"
          ],
          [
           "341027",
           "J22"
          ],
          [
           "679260",
           "514c"
          ],
          [
           "1118458",
           "J22"
          ],
          [
           "[{'NCBI tax id': 553178, 'Matching level': 'strain'}, {'NCBI tax id': 1017, 'Matching level': 'species'}]",
           "J459"
          ],
          [
           "665099",
           "J443"
          ],
          [
           "66879",
           "J42"
          ],
          [
           "[{'NCBI tax id': 1305860, 'Matching level': 'strain'}, {'NCBI tax id': 187102, 'Matching level': 'species'}]",
           "J26"
          ],
          [
           "34002",
           "J126"
          ],
          [
           "74426",
           "J14"
          ],
          [
           "258533",
           "J26"
          ],
          [
           "67265",
           "J42"
          ],
          [
           "196023",
           "J12"
          ],
          [
           "[{'NCBI tax id': 291995, 'Matching level': 'species'}, {'NCBI tax id': 1292027, 'Matching level': 'strain'}]",
           "J443"
          ],
          [
           "254784",
           "J455"
          ],
          [
           "[{'NCBI tax id': 1211579, 'Matching level': 'strain'}, {'NCBI tax id': 303, 'Matching level': 'species'}]",
           "J22"
          ],
          [
           "1818834",
           "J22"
          ],
          [
           "1868419",
           "J475"
          ],
          [
           "1931",
           "J50"
          ],
          [
           "53408",
           "J443"
          ],
          [
           "502394",
           "J475"
          ],
          [
           "296",
           "J22"
          ],
          [
           "547163",
           "J386"
          ],
          [
           "616997",
           "J26"
          ],
          [
           "1818733",
           "J475"
          ],
          [
           "2681491",
           "J26"
          ],
          [
           "1504",
           "J84"
          ],
          [
           "569",
           "J22"
          ],
          [
           "287986",
           "J43"
          ],
          [
           "889488",
           "514f"
          ],
          [
           "1036679",
           "J944"
          ],
          [
           "1150298",
           "J1130"
          ],
          [
           "1701090",
           "J28"
          ],
          [
           "56956",
           "J276"
          ],
          [
           "1931",
           "J43"
          ],
          [
           "[{'NCBI tax id': 1121388, 'Matching level': 'strain'}, {'NCBI tax id': 203699, 'Matching level': 'species'}]",
           "J346"
          ],
          [
           "410",
           "J22"
          ],
          [
           "101689",
           "J26"
          ],
          [
           "190906",
           "J162"
          ],
          [
           "1804625",
           "J22"
          ],
          [
           "1462996",
           "J475"
          ],
          [
           "1484056",
           "J1015"
          ],
          [
           "1287878",
           "J42"
          ],
          [
           "2174932",
           "J1191"
          ],
          [
           "1849103",
           "J26"
          ],
          [
           "[{'NCBI tax id': 36821, 'Matching level': 'species'}, {'NCBI tax id': 1075090, 'Matching level': 'strain'}]",
           "J43"
          ],
          [
           "1987049",
           "J141"
          ],
          [
           "70258",
           "J26"
          ],
          [
           "1931",
           "J42"
          ],
          [
           "33917",
           "J26"
          ],
          [
           "[{'NCBI tax id': 509190, 'Matching level': 'strain'}, {'NCBI tax id': 88688, 'Matching level': 'species'}]",
           "J22"
          ],
          [
           "1532023",
           "J346"
          ],
          [
           "582851",
           "J28"
          ],
          [
           "1698",
           "J22"
          ],
          [
           "1005945",
           "J346"
          ],
          [
           "[{'NCBI tax id': 1566, 'Matching level': 'species'}, {'NCBI tax id': 1121425, 'Matching level': 'strain'}]",
           "J389"
          ],
          [
           "1818830",
           "J26"
          ],
          [
           "109046",
           "J305"
          ],
          [
           "546",
           "J12"
          ],
          [
           "40324",
           "J22"
          ],
          [
           "1649169",
           "J27"
          ],
          [
           "401106",
           "J43"
          ],
          [
           "[{'NCBI tax id': 1217676, 'Matching level': 'strain'}, {'NCBI tax id': 487316, 'Matching level': 'species'}]",
           "J27"
          ],
          [
           "2716930",
           "J346"
          ],
          [
           "1520",
           "J84"
          ],
          [
           "[{'NCBI tax id': 709032, 'Matching level': 'strain'}, {'NCBI tax id': 148813, 'Matching level': 'species'}]",
           "J340"
          ],
          [
           "2259619",
           "J27"
          ],
          [
           "661485",
           "J346"
          ],
          [
           "2315464",
           "J1240"
          ],
          [
           "[{'NCBI tax id': 1303689, 'Matching level': 'strain'}, {'NCBI tax id': 99653, 'Matching level': 'species'}]",
           "J43"
          ],
          [
           "[{'NCBI tax id': 398525, 'Matching level': 'strain'}, {'NCBI tax id': 29448, 'Matching level': 'species'}]",
           "J254"
          ],
          [
           "59202",
           "J22"
          ],
          [
           "29375",
           "J465"
          ],
          [
           "1270",
           "J26"
          ]
         ],
         "hovertemplate": "Cluster=2<br>Component 1=%{x}<br>Component 2=%{y}<br>taxon_id=%{customdata[0]}<br>media_id=%{customdata[1]}<extra></extra>",
         "legendgroup": "2",
         "marker": {
          "color": "#FF97FF",
          "opacity": 0.3,
          "symbol": "circle"
         },
         "mode": "markers",
         "name": "2",
         "showlegend": true,
         "type": "scattergl",
         "x": [
          0.9676374793052673,
          0.7348893284797668,
          0.7922716736793518,
          0.92414391040802,
          0.9423242211341858,
          2.2044341564178467,
          1.24248468875885,
          2.2305002212524414,
          0.6978850364685059,
          0.8349243402481079,
          0.7524884939193726,
          2.2779412269592285,
          0.6092410087585449,
          0.692358672618866,
          0.9628448486328125,
          8.248870849609375,
          0.8577765226364136,
          1.0616090297698975,
          2.0721609592437744,
          1.1247504949569702,
          0.7582412958145142,
          1.0548322200775146,
          2.2356250286102295,
          0.8278261423110962,
          0.8031484484672546,
          0.5801941156387329,
          0.6733790636062622,
          0.9388079047203064,
          8.17347526550293,
          8.21386432647705,
          0.8613489866256714,
          0.7799531817436218,
          0.7164150476455688,
          0.6646859049797058,
          0.7199127078056335,
          0.8190048336982727,
          2.2434921264648438,
          0.8827928304672241,
          0.72146075963974,
          0.7470403909683228,
          0.882210373878479,
          0.640716552734375,
          0.9183482527732849,
          0.6983373761177063,
          8.209228515625,
          1.0303246974945068,
          8.262760162353516,
          0.6098076105117798,
          0.7188935279846191,
          0.8124146461486816,
          2.1911816596984863,
          2.2115836143493652,
          0.6427316665649414,
          0.6956585645675659,
          0.736517071723938,
          0.63469398021698,
          8.225923538208008,
          0.7121208310127258,
          0.6877275705337524,
          8.072807312011719,
          0.7247586250305176,
          0.9560906291007996,
          2.1520836353302,
          0.8145242929458618,
          0.7902625799179077,
          8.254984855651855,
          2.2863972187042236,
          0.7488128542900085,
          8.083398818969727,
          0.9771098494529724,
          0.8656104207038879,
          0.7165922522544861,
          0.8365368843078613,
          8.090805053710938,
          0.7563743591308594,
          0.9836118817329407,
          0.8132219910621643,
          0.6949275732040405,
          0.8097076416015625,
          0.7324633002281189,
          0.7331876754760742,
          8.031719207763672,
          0.7312807440757751,
          2.1915128231048584,
          0.624214768409729,
          8.26215648651123,
          0.9600681066513062,
          0.8205706477165222,
          1.0016027688980103,
          0.9379798173904419,
          0.7917929291725159,
          0.8688400387763977,
          0.7766323685646057,
          0.6465005874633789,
          8.423733711242676,
          8.08237361907959,
          0.7680001258850098,
          0.9319629669189453,
          0.8849554061889648,
          0.931892454624176,
          2.2185497283935547,
          0.9432370662689209,
          0.6770933270454407,
          1.0202045440673828,
          0.9030113816261292,
          8.301383018493652,
          8.341459274291992,
          0.7632587552070618,
          0.9060006141662598,
          1.0722002983093262,
          0.8665787577629089,
          8.300810813903809,
          0.6772436499595642,
          0.6853055357933044,
          0.8440025448799133,
          0.991233229637146,
          1.114122748374939,
          0.8884677290916443,
          2.2660317420959473,
          0.8609701991081238,
          8.354674339294434
         ],
         "xaxis": "x",
         "y": [
          2.355823278427124,
          2.240253448486328,
          2.4071691036224365,
          2.2751002311706543,
          2.4936461448669434,
          3.953578233718872,
          2.8171815872192383,
          3.9800467491149902,
          2.1876652240753174,
          2.263157367706299,
          2.416815757751465,
          4.028162479400635,
          2.1640710830688477,
          2.3681538105010986,
          2.3647565841674805,
          2.0663938522338867,
          2.354461193084717,
          2.5413639545440674,
          3.80631947517395,
          2.5886197090148926,
          2.590507745742798,
          2.574834108352661,
          3.986764669418335,
          2.2833878993988037,
          2.3926329612731934,
          2.257847309112549,
          2.388434648513794,
          2.3971643447875977,
          2.2395517826080322,
          2.2578556537628174,
          2.2402987480163574,
          2.1388351917266846,
          2.216353178024292,
          2.45027494430542,
          2.2557945251464844,
          2.0820107460021973,
          3.997075319290161,
          2.3998730182647705,
          2.175755023956299,
          2.2632737159729004,
          2.33660626411438,
          2.4219470024108887,
          2.209512233734131,
          2.213656187057495,
          2.18021559715271,
          2.592571973800659,
          2.0696282386779785,
          2.0157694816589355,
          2.4138948917388916,
          2.425651788711548,
          3.944080114364624,
          3.961101770401001,
          2.3654439449310303,
          2.3022594451904297,
          2.509962320327759,
          2.5392582416534424,
          2.231580972671509,
          2.4833872318267822,
          2.2871041297912598,
          2.2177388668060303,
          2.3217320442199707,
          2.108011484146118,
          3.9035234451293945,
          2.4157462120056152,
          2.5219407081604004,
          2.100368022918701,
          4.0368428230285645,
          2.366086483001709,
          2.174962043762207,
          2.3836278915405273,
          2.4347918033599854,
          2.190406084060669,
          2.4336414337158203,
          2.1972243785858154,
          2.416456460952759,
          2.662501335144043,
          2.260077953338623,
          2.47672438621521,
          2.544381618499756,
          2.339060068130493,
          2.517568349838257,
          2.1610028743743896,
          2.6151607036590576,
          3.9401378631591797,
          2.5235958099365234,
          2.081570863723755,
          2.287214517593384,
          2.326051950454712,
          2.503610610961914,
          2.2403032779693604,
          2.4863057136535645,
          2.3975820541381836,
          2.225053310394287,
          2.1611478328704834,
          2.1096410751342773,
          2.1856110095977783,
          2.3986732959747314,
          2.616461992263794,
          2.3662116527557373,
          2.550844669342041,
          3.96919584274292,
          2.3599228858947754,
          2.3730227947235107,
          2.4047889709472656,
          2.247596025466919,
          2.056455373764038,
          2.1396894454956055,
          2.115845203399658,
          2.197540760040283,
          2.167894124984741,
          2.3514270782470703,
          2.069375514984131,
          2.1971986293792725,
          2.0622501373291016,
          2.1874642372131348,
          2.2824337482452393,
          2.3817496299743652,
          2.4047296047210693,
          4.0426344871521,
          2.2731235027313232,
          2.0834977626800537
         ],
         "yaxis": "y"
        },
        {
         "customdata": [
          [
           "[{'NCBI tax id': 196914, 'Matching level': 'species'}, {'NCBI tax id': 1246995, 'Matching level': 'strain'}]",
           "J42"
          ],
          [
           "2496265",
           "J27"
          ],
          [
           "256702",
           "J26"
          ],
          [
           "871741",
           "J475"
          ],
          [
           "472569",
           "J28"
          ],
          [
           "991009",
           "J475"
          ],
          [
           "[{'NCBI tax id': 1073250, 'Matching level': 'strain'}, {'NCBI tax id': 1246637, 'Matching level': 'species'}]",
           "J918"
          ],
          [
           "[{'NCBI tax id': 1122130, 'Matching level': 'strain'}, {'NCBI tax id': 262806, 'Matching level': 'species'}]",
           "J443"
          ],
          [
           "[{'NCBI tax id': 1833, 'Matching level': 'species'}, {'NCBI tax id': 1219014, 'Matching level': 'strain'}]",
           "J43"
          ],
          [
           "322508",
           "J28"
          ],
          [
           "100",
           "J349"
          ],
          [
           "344163",
           "J26"
          ],
          [
           "173363",
           "J22"
          ],
          [
           "1615686",
           "J202"
          ],
          [
           "1393035",
           "J221"
          ],
          [
           "1983720",
           "J1016"
          ],
          [
           "2291846",
           "J28"
          ],
          [
           "42881",
           "J42"
          ],
          [
           "1118452",
           "J22"
          ],
          [
           "642780",
           "J43"
          ],
          [
           "37637",
           "215b"
          ],
          [
           "301302",
           "J465"
          ],
          [
           "2082189",
           "J1194"
          ],
          [
           "145483",
           "J26"
          ],
          [
           "[{'NCBI tax id': 264251, 'Matching level': 'species'}, {'NCBI tax id': 1349761, 'Matching level': 'strain'}]",
           "J475"
          ],
          [
           "[{'NCBI tax id': 1437875, 'Matching level': 'strain'}, {'NCBI tax id': 1230998, 'Matching level': 'species'}]",
           "J26"
          ],
          [
           "1459",
           "J22"
          ],
          [
           "1648146",
           "J346"
          ],
          [
           "913969",
           "J26"
          ],
          [
           "1926290",
           "J26"
          ],
          [
           "908355",
           "J26"
          ],
          [
           "1818806",
           "J475"
          ],
          [
           "199591",
           "J26"
          ],
          [
           "229919",
           "J434"
          ],
          [
           "285575",
           "J42"
          ],
          [
           "1631356",
           "J26"
          ],
          [
           "[{'NCBI tax id': 2932614, 'Matching level': 'species'}, {'NCBI tax id': 1931, 'Matching level': 'species'}]",
           "J42"
          ],
          [
           "553",
           "J22"
          ],
          [
           "[{'NCBI tax id': 256466, 'Matching level': 'species'}, {'NCBI tax id': 1215104, 'Matching level': 'strain'}]",
           "J22"
          ],
          [
           "1235259",
           "J181"
          ],
          [
           "1818840",
           "J26"
          ],
          [
           "990271",
           "514c"
          ],
          [
           "185243",
           "J364"
          ],
          [
           "1524256",
           "514f"
          ],
          [
           "[{'NCBI tax id': 103816, 'Matching level': 'species'}, {'NCBI tax id': 1303690, 'Matching level': 'strain'}]",
           "J43"
          ],
          [
           "659443",
           "J443"
          ],
          [
           "2006115",
           "J443"
          ],
          [
           "284030",
           "J43"
          ],
          [
           "43677",
           "J26"
          ],
          [
           "[{'NCBI tax id': 258, 'Matching level': 'species'}, {'NCBI tax id': 525373, 'Matching level': 'strain'}]",
           "J22"
          ],
          [
           "173361",
           "J28"
          ],
          [
           "68223",
           "J42"
          ],
          [
           "[{'NCBI tax id': 228006, 'Matching level': 'species'}, {'NCBI tax id': 1206736, 'Matching level': 'strain'}]",
           "J43"
          ],
          [
           "132249",
           "J43"
          ],
          [
           "28214",
           "J22"
          ],
          [
           "[{'NCBI tax id': 940283, 'Matching level': 'strain'}, {'NCBI tax id': 33995, 'Matching level': 'species'}]",
           "J890"
          ],
          [
           "1760988",
           "J820"
          ],
          [
           "83455",
           "J436"
          ],
          [
           "2709158",
           "J28"
          ],
          [
           "1714",
           "J27"
          ],
          [
           "67352",
           "J42"
          ],
          [
           "1866326",
           "514f"
          ],
          [
           "1506",
           "J1130"
          ],
          [
           "2518177",
           "J346"
          ],
          [
           "1917822",
           "J946"
          ],
          [
           "1442595",
           "J346"
          ],
          [
           "[{'NCBI tax id': 647171, 'Matching level': 'strain'}, {'NCBI tax id': 213185, 'Matching level': 'species'}]",
           "J232"
          ],
          [
           "1868423",
           "J475"
          ],
          [
           "348818",
           "J415"
          ],
          [
           "160791",
           "J27"
          ],
          [
           "[{'NCBI tax id': 459515, 'Matching level': 'species'}, {'NCBI tax id': 1123241, 'Matching level': 'strain'}]",
           "J26"
          ],
          [
           "41899",
           "J22"
          ],
          [
           "[{'NCBI tax id': 59839, 'Matching level': 'species'}, {'NCBI tax id': 1122915, 'Matching level': 'strain'}]",
           "J22"
          ],
          [
           "1933",
           "J43"
          ],
          [
           "1713",
           "J27"
          ],
          [
           "1280",
           "J22"
          ]
         ],
         "hovertemplate": "Cluster=7<br>Component 1=%{x}<br>Component 2=%{y}<br>taxon_id=%{customdata[0]}<br>media_id=%{customdata[1]}<extra></extra>",
         "legendgroup": "7",
         "marker": {
          "color": "#FECB52",
          "opacity": 0.3,
          "symbol": "circle"
         },
         "mode": "markers",
         "name": "7",
         "showlegend": true,
         "type": "scattergl",
         "x": [
          16.63067054748535,
          16.602136611938477,
          16.775644302368164,
          16.529848098754883,
          16.813148498535156,
          16.71763038635254,
          16.966615676879883,
          16.84836196899414,
          16.67771339416504,
          16.557497024536133,
          16.565053939819336,
          16.599090576171875,
          16.65797996520996,
          16.589426040649414,
          16.689239501953125,
          16.580135345458984,
          16.775423049926758,
          16.676349639892578,
          16.748273849487305,
          16.555776596069336,
          16.81557273864746,
          16.746692657470703,
          16.78542137145996,
          16.44561195373535,
          16.7714900970459,
          16.66937828063965,
          16.660017013549805,
          16.587629318237305,
          16.695877075195312,
          16.6170711517334,
          16.720157623291016,
          16.670888900756836,
          16.827062606811523,
          16.49748992919922,
          16.79833984375,
          16.575979232788086,
          16.7044734954834,
          16.70806121826172,
          16.658363342285156,
          16.616905212402344,
          16.757064819335938,
          16.584033966064453,
          16.647565841674805,
          16.528718948364258,
          16.801467895507812,
          16.82159996032715,
          16.762718200683594,
          16.61069107055664,
          16.672954559326172,
          16.527271270751953,
          16.561840057373047,
          16.583152770996094,
          16.49363136291504,
          16.50516700744629,
          16.561365127563477,
          16.78181266784668,
          16.627891540527344,
          16.789226531982422,
          16.537120819091797,
          16.5584716796875,
          16.68111228942871,
          16.486745834350586,
          16.681856155395508,
          16.63899803161621,
          16.841053009033203,
          16.733722686767578,
          16.71488380432129,
          16.61460304260254,
          16.6179256439209,
          16.83869743347168,
          16.57370948791504,
          16.77281379699707,
          16.82880210876465,
          16.50055503845215,
          16.550809860229492,
          17.001924514770508
         ],
         "xaxis": "x",
         "y": [
          13.349102020263672,
          13.565240859985352,
          13.418675422668457,
          13.669140815734863,
          13.432092666625977,
          13.51870059967041,
          13.413535118103027,
          13.47048568725586,
          13.318150520324707,
          13.489187240600586,
          13.643178939819336,
          13.548460960388184,
          13.309784889221191,
          13.15960693359375,
          13.455012321472168,
          13.779937744140625,
          13.465336799621582,
          13.51675033569336,
          13.691497802734375,
          13.59626293182373,
          13.407676696777344,
          13.475849151611328,
          13.374835968017578,
          13.510912895202637,
          13.402009963989258,
          13.605217933654785,
          13.467620849609375,
          13.65645980834961,
          13.566699028015137,
          13.422325134277344,
          13.530501365661621,
          13.63444709777832,
          13.487337112426758,
          13.48868465423584,
          13.676369667053223,
          13.51986026763916,
          13.381258010864258,
          13.673919677734375,
          13.513516426086426,
          13.570859909057617,
          13.5538969039917,
          13.316829681396484,
          13.642915725708008,
          13.51518726348877,
          13.693172454833984,
          13.359611511230469,
          13.687065124511719,
          13.571320533752441,
          13.447481155395508,
          13.379711151123047,
          13.539860725402832,
          13.43331241607666,
          13.679350852966309,
          13.62085247039795,
          13.488198280334473,
          13.652379989624023,
          13.476040840148926,
          13.498357772827148,
          13.458857536315918,
          13.580687522888184,
          13.345970153808594,
          13.569985389709473,
          13.535629272460938,
          13.382164001464844,
          13.54360580444336,
          13.538939476013184,
          13.456418991088867,
          13.375521659851074,
          13.61959171295166,
          13.476305961608887,
          13.68950366973877,
          13.587679862976074,
          13.422625541687012,
          13.378742218017578,
          13.513409614562988,
          13.318534851074219
         ],
         "yaxis": "y"
        },
        {
         "customdata": [
          [
           "2547394",
           "J346"
          ],
          [
           "[{'NCBI tax id': 940283, 'Matching level': 'strain'}, {'NCBI tax id': 33995, 'Matching level': 'species'}]",
           "J891"
          ],
          [
           "1267",
           "J1130"
          ],
          [
           "640331",
           "J853"
          ],
          [
           "1888",
           "J42"
          ],
          [
           "1341",
           "J28"
          ],
          [
           "1271",
           "J26"
          ],
          [
           "83828",
           "J26"
          ],
          [
           "337097",
           "J470"
          ],
          [
           "2606638",
           "J1318"
          ],
          [
           "[{'NCBI tax id': 408558, 'Matching level': 'species'}, {'NCBI tax id': 1121349, 'Matching level': 'strain'}]",
           "535b"
          ],
          [
           "578942",
           "J27"
          ],
          [
           "1969464",
           "J346"
          ],
          [
           "1249101",
           "J386"
          ],
          [
           "1941349",
           "J1177"
          ],
          [
           "208223",
           "J22"
          ],
          [
           "310781",
           "J415"
          ],
          [
           "153494",
           "J282"
          ],
          [
           "187879",
           "J350"
          ],
          [
           "[{'NCBI tax id': 1220587, 'Matching level': 'strain'}, {'NCBI tax id': 1452, 'Matching level': 'species'}]",
           "J22"
          ],
          [
           "1306",
           "J141"
          ],
          [
           "1917830",
           "J946"
          ],
          [
           "[{'NCBI tax id': 137658, 'Matching level': 'species'}, {'NCBI tax id': 1215103, 'Matching level': 'strain'}]",
           "J22"
          ],
          [
           "2364649",
           "J443"
          ],
          [
           "329524",
           "J42"
          ],
          [
           "1401441",
           "J181"
          ],
          [
           "66421",
           "J42"
          ],
          [
           "257454",
           "J26"
          ],
          [
           "28214",
           "J346"
          ],
          [
           "1396",
           "J22"
          ],
          [
           "1818835",
           "J475"
          ],
          [
           "1971",
           "J42"
          ],
          [
           "[{'NCBI tax id': 203192, 'Matching level': 'species'}, {'NCBI tax id': 1211807, 'Matching level': 'species'}, {'NCBI tax id': 316, 'Matching level': 'species'}]",
           "J22"
          ],
          [
           "720605",
           "J1220"
          ],
          [
           "287",
           "J22"
          ],
          [
           "[{'NCBI tax id': 294710, 'Matching level': 'species'}, {'NCBI tax id': 1123008, 'Matching level': 'strain'}]",
           "J456"
          ],
          [
           "2035",
           "J26"
          ],
          [
           "1818678",
           "J22"
          ],
          [
           "[{'NCBI tax id': 1829, 'Matching level': 'species'}, {'NCBI tax id': 1219024, 'Matching level': 'strain'}]",
           "J43"
          ],
          [
           "66881",
           "J42"
          ],
          [
           "1439888",
           "J346"
          ],
          [
           "1649133",
           "J22"
          ],
          [
           "34012",
           "J346"
          ],
          [
           "1231000",
           "J26"
          ],
          [
           "2291845",
           "J28"
          ],
          [
           "2709157",
           "J28"
          ],
          [
           "361575",
           "J26"
          ],
          [
           "1868424",
           "J475"
          ],
          [
           "908359",
           "J26"
          ],
          [
           "1118453",
           "J22"
          ],
          [
           "[{'NCBI tax id': 58117, 'Matching level': 'species'}, {'NCBI tax id': 58118, 'Matching level': 'subspecies'}]",
           "J42"
          ],
          [
           "[{'NCBI tax id': 546, 'Matching level': 'species'}, {'NCBI tax id': 1006003, 'Matching level': 'strain'}]",
           "J27"
          ],
          [
           "120213",
           "J26"
          ],
          [
           "1547583",
           "J346"
          ],
          [
           "269144",
           "J475"
          ],
          [
           "1814289",
           "J1112"
          ],
          [
           "1411122",
           "J346"
          ],
          [
           "102684",
           "J141"
          ],
          [
           "1929",
           "J43"
          ],
          [
           "162169",
           "J27"
          ],
          [
           "2496867",
           "J27"
          ],
          [
           "1818830",
           "J28"
          ],
          [
           "[{'NCBI tax id': 1282, 'Matching level': 'species'}, {'NCBI tax id': 1236978, 'Matching level': 'strain'}]",
           "J22"
          ],
          [
           "97400",
           "J43"
          ],
          [
           "229921",
           "J434"
          ],
          [
           "2572923",
           "514f"
          ],
          [
           "1444770",
           "J346"
          ],
          [
           "31964",
           "J26"
          ],
          [
           "476652",
           "J998"
          ],
          [
           "213806",
           "J365"
          ],
          [
           "99807",
           "J26"
          ],
          [
           "1840606",
           "J26"
          ],
          [
           "76637",
           "J28"
          ],
          [
           "1671022",
           "J26"
          ],
          [
           "679663",
           "J28"
          ],
          [
           "237609",
           "J443"
          ],
          [
           "1485545",
           "J1158"
          ],
          [
           "1409",
           "J181"
          ],
          [
           "516458",
           "J42"
          ],
          [
           "249580",
           "J42"
          ],
          [
           "301301",
           "J465"
          ],
          [
           "1720247",
           "J346"
          ],
          [
           "1571184",
           "535a"
          ],
          [
           "[{'NCBI tax id': 197700, 'Matching level': 'subspecies'}, {'NCBI tax id': 1216980, 'Matching level': 'strain'}]",
           "J28"
          ],
          [
           "1849104",
           "J346"
          ],
          [
           "72556",
           "J22"
          ],
          [
           "2606633",
           "J1130"
          ],
          [
           "2678302",
           "J27"
          ],
          [
           "[{'NCBI tax id': 2885079, 'Matching level': 'species'}, {'NCBI tax id': 1911079, 'Matching level': 'species'}]",
           "J820"
          ]
         ],
         "hovertemplate": "Cluster=5<br>Component 1=%{x}<br>Component 2=%{y}<br>taxon_id=%{customdata[0]}<br>media_id=%{customdata[1]}<extra></extra>",
         "legendgroup": "5",
         "marker": {
          "color": "#636efa",
          "opacity": 0.3,
          "symbol": "circle"
         },
         "mode": "markers",
         "name": "5",
         "showlegend": true,
         "type": "scattergl",
         "x": [
          11.316298484802246,
          11.117656707763672,
          11.102088928222656,
          3.404325008392334,
          11.023813247680664,
          11.053217887878418,
          11.423755645751953,
          11.072686195373535,
          10.995232582092285,
          11.21497917175293,
          11.06698989868164,
          10.875779151916504,
          10.838136672973633,
          11.100739479064941,
          3.449087142944336,
          11.337817192077637,
          11.158689498901367,
          3.465714454650879,
          11.022538185119629,
          10.85670280456543,
          3.414640426635742,
          11.298666000366211,
          11.271632194519043,
          11.262690544128418,
          11.242874145507812,
          11.071065902709961,
          11.108620643615723,
          11.103078842163086,
          3.3719422817230225,
          11.393178939819336,
          11.211136817932129,
          11.017279624938965,
          11.019055366516113,
          11.2223482131958,
          11.494163513183594,
          11.24636459350586,
          11.073007583618164,
          10.99936580657959,
          11.106149673461914,
          11.227465629577637,
          11.069388389587402,
          3.4807467460632324,
          3.4114787578582764,
          11.139599800109863,
          11.279788970947266,
          11.1942138671875,
          11.256115913391113,
          10.878092765808105,
          11.096563339233398,
          11.075766563415527,
          11.007649421691895,
          11.015236854553223,
          11.040342330932617,
          10.859174728393555,
          11.349081039428711,
          10.987741470336914,
          11.00253677368164,
          11.056583404541016,
          11.076090812683105,
          11.175851821899414,
          11.08939266204834,
          10.909679412841797,
          11.147002220153809,
          10.982574462890625,
          10.98703670501709,
          11.215155601501465,
          10.942090034484863,
          10.988849639892578,
          10.77426528930664,
          10.942611694335938,
          10.923869132995605,
          11.140534400939941,
          11.155876159667969,
          11.023247718811035,
          11.093437194824219,
          11.094353675842285,
          10.959259033203125,
          3.3340790271759033,
          10.933341026306152,
          10.960807800292969,
          10.907337188720703,
          11.205921173095703,
          11.028308868408203,
          11.198136329650879,
          11.210831642150879,
          11.09471321105957,
          10.936868667602539,
          11.147722244262695,
          11.409671783447266
         ],
         "xaxis": "x",
         "y": [
          0.6835356950759888,
          0.353184312582016,
          0.2631484568119049,
          6.006659507751465,
          0.5323313474655151,
          0.5827946066856384,
          0.6070426106452942,
          0.3014523983001709,
          0.5707377791404724,
          0.44306862354278564,
          0.6322216987609863,
          0.363975465297699,
          0.31658193469047546,
          0.319896936416626,
          5.96177864074707,
          0.4518657326698303,
          0.4177895188331604,
          5.945241928100586,
          0.3793201148509979,
          0.21355414390563965,
          5.996213436126709,
          0.529196560382843,
          0.6051576137542725,
          0.41491520404815674,
          0.6202383041381836,
          0.43167635798454285,
          0.48380377888679504,
          0.505740225315094,
          6.03902530670166,
          0.4882299304008484,
          0.399787962436676,
          0.5985592007637024,
          0.23902536928653717,
          0.31465092301368713,
          0.37844422459602356,
          0.3064928352832794,
          0.517306923866272,
          0.467266321182251,
          0.3120368719100952,
          0.5588255524635315,
          0.49631834030151367,
          5.930109977722168,
          5.999342441558838,
          0.3424200713634491,
          0.4625542163848877,
          0.2995361387729645,
          0.3278256952762604,
          0.5136190056800842,
          0.47451260685920715,
          0.5994917154312134,
          0.43535661697387695,
          0.2725380063056946,
          0.3077685534954071,
          0.6737654805183411,
          0.4266144037246704,
          0.35838454961776733,
          0.4230961501598358,
          0.406690776348114,
          0.5221350789070129,
          0.446190744638443,
          0.4809548556804657,
          0.3771454393863678,
          0.5472404360771179,
          0.7396011352539062,
          0.5631929636001587,
          0.5452117919921875,
          0.38607197999954224,
          0.5904654264450073,
          0.4066241681575775,
          0.47187572717666626,
          0.2889063060283661,
          0.4924820363521576,
          0.38908877968788147,
          0.6468234062194824,
          0.5169905424118042,
          0.6564178466796875,
          0.5786476731300354,
          6.076820373535156,
          0.5152062177658081,
          0.2608160078525543,
          0.63817298412323,
          0.4102325439453125,
          0.2834693193435669,
          0.4275183081626892,
          0.517187237739563,
          0.5104634165763855,
          0.63362056016922,
          0.7402834892272949,
          0.5769534111022949
         ],
         "yaxis": "y"
        },
        {
         "customdata": [
          [
           "285472",
           "J42"
          ],
          [
           "1478",
           "J475"
          ],
          [
           "37637",
           "J26"
          ],
          [
           "70775",
           "J27"
          ],
          [
           "565",
           "J22"
          ],
          [
           "1716077",
           "J26"
          ],
          [
           "1934391",
           "J22"
          ],
          [
           "293256",
           "J438"
          ],
          [
           "1409",
           "J22"
          ],
          [
           "2708254",
           "J346"
          ],
          [
           "[{'NCBI tax id': 1210082, 'Matching level': 'strain'}, {'NCBI tax id': 382504, 'Matching level': 'species'}]",
           "J28"
          ],
          [
           "1080072",
           "J28"
          ],
          [
           "316277",
           "J960"
          ],
          [
           "[{'NCBI tax id': 1122209, 'Matching level': 'strain'}, {'NCBI tax id': 148454, 'Matching level': 'species'}]",
           "J409"
          ],
          [
           "2817531",
           "J28"
          ],
          [
           "[{'NCBI tax id': 1305622, 'Matching level': 'strain'}, {'NCBI tax id': 200618, 'Matching level': 'species'}]",
           "J43"
          ],
          [
           "1541174",
           "J475"
          ],
          [
           "[{'NCBI tax id': 176280, 'Matching level': 'strain'}, {'NCBI tax id': 1282, 'Matching level': 'species'}]",
           "J22"
          ],
          [
           "2059724",
           "J27"
          ],
          [
           "[{'NCBI tax id': 1354260, 'Matching level': 'strain'}, {'NCBI tax id': 61647, 'Matching level': 'species'}]",
           "J22"
          ],
          [
           "471",
           "J22"
          ],
          [
           "193460",
           "J42"
          ],
          [
           "113566",
           "J42"
          ],
          [
           "[{'NCBI tax id': 83451, 'Matching level': 'species'}, {'NCBI tax id': 1406225, 'Matching level': 'strain'}]",
           "J436"
          ],
          [
           "216929",
           "J26"
          ],
          [
           "1818771",
           "J26"
          ],
          [
           "[{'NCBI tax id': 1257041, 'Matching level': 'strain'}, {'NCBI tax id': 1309, 'Matching level': 'species'}, {'NCBI tax id': 1123310, 'Matching level': 'strain'}]",
           "J27"
          ],
          [
           "453575",
           "J22"
          ],
          [
           "28454",
           "J22"
          ],
          [
           "2583992",
           "J1007"
          ],
          [
           "69373",
           "J475"
          ],
          [
           "1118460",
           "J22"
          ],
          [
           "33884",
           "J26"
          ],
          [
           "1434700",
           "J346"
          ],
          [
           "[{'NCBI tax id': 60489, 'Matching level': 'species'}, {'NCBI tax id': 1303688, 'Matching level': 'strain'}]",
           "J22"
          ],
          [
           "1406886",
           "J916"
          ],
          [
           "[{'NCBI tax id': 1396, 'Matching level': 'species'}, {'NCBI tax id': 226900, 'Matching level': 'strain'}]",
           "J22"
          ],
          [
           "1902408",
           "J346"
          ],
          [
           "2736640",
           "J346"
          ],
          [
           "43304",
           "J26"
          ],
          [
           "37633",
           "J43"
          ],
          [
           "[{'NCBI tax id': 1455, 'Matching level': 'species'}, {'NCBI tax id': 1348627, 'Matching level': 'strain'}]",
           "J22"
          ],
          [
           "1409",
           "J1046"
          ],
          [
           "1270",
           "J22"
          ],
          [
           "2033",
           "J22"
          ],
          [
           "1481928",
           "J1028"
          ],
          [
           "68268",
           "J42"
          ],
          [
           "396015",
           "J475"
          ],
          [
           "1282736",
           "J26"
          ],
          [
           "56361",
           "J22"
          ],
          [
           "1494606",
           "J987"
          ],
          [
           "51101",
           "J22"
          ],
          [
           "1806200",
           "J346"
          ],
          [
           "397278",
           "J43"
          ],
          [
           "49185",
           "J42"
          ],
          [
           "1724",
           "J26"
          ],
          [
           "32013",
           "J22"
          ],
          [
           "[{'NCBI tax id': 1971, 'Matching level': 'species'}, {'NCBI tax id': 316284, 'Matching level': 'strain'}]",
           "J42"
          ],
          [
           "1871328",
           "J475"
          ],
          [
           "2492393",
           "J346"
          ],
          [
           "68255",
           "J42"
          ],
          [
           "768534",
           "J22"
          ],
          [
           "680118",
           "J807"
          ],
          [
           "[{'NCBI tax id': 28213, 'Matching level': 'species'}, {'NCBI tax id': 1219049, 'Matching level': 'strain'}]",
           "J28"
          ],
          [
           "29385",
           "J22"
          ],
          [
           "1935",
           "J42"
          ],
          [
           "1896336",
           "J27"
          ],
          [
           "1033736",
           "J26"
          ],
          [
           "104336",
           "J26"
          ],
          [
           "940141",
           "J346"
          ],
          [
           "1588641",
           "J26"
          ],
          [
           "1071719",
           "J27"
          ],
          [
           "134375",
           "J22"
          ]
         ],
         "hovertemplate": "Cluster=9<br>Component 1=%{x}<br>Component 2=%{y}<br>taxon_id=%{customdata[0]}<br>media_id=%{customdata[1]}<extra></extra>",
         "legendgroup": "9",
         "marker": {
          "color": "#EF553B",
          "opacity": 0.3,
          "symbol": "circle"
         },
         "mode": "markers",
         "name": "9",
         "showlegend": true,
         "type": "scattergl",
         "x": [
          18.39354705810547,
          18.431522369384766,
          18.463899612426758,
          18.56337547302246,
          18.77526092529297,
          18.51073455810547,
          18.698537826538086,
          18.302141189575195,
          18.688234329223633,
          18.52583885192871,
          18.286605834960938,
          18.48055076599121,
          18.614704132080078,
          18.315053939819336,
          18.494924545288086,
          18.508390426635742,
          18.41437530517578,
          18.253765106201172,
          18.152912139892578,
          18.669879913330078,
          18.41156768798828,
          18.349206924438477,
          18.44300651550293,
          18.502864837646484,
          18.32134246826172,
          18.368427276611328,
          18.4147891998291,
          18.77046775817871,
          18.712738037109375,
          18.340478897094727,
          18.432031631469727,
          18.7346248626709,
          18.228778839111328,
          18.453479766845703,
          18.363698959350586,
          18.309185028076172,
          18.48200798034668,
          18.37469482421875,
          18.514192581176758,
          18.296184539794922,
          18.242403030395508,
          18.73524284362793,
          18.405078887939453,
          18.630802154541016,
          18.307037353515625,
          18.372140884399414,
          18.370407104492188,
          18.480854034423828,
          18.209367752075195,
          18.419565200805664,
          18.387407302856445,
          18.21368980407715,
          18.50672721862793,
          18.454683303833008,
          18.29694938659668,
          18.42007064819336,
          18.45968246459961,
          18.3563232421875,
          18.357988357543945,
          18.569042205810547,
          18.428733825683594,
          18.683128356933594,
          18.28607940673828,
          18.448280334472656,
          18.443363189697266,
          18.498031616210938,
          18.333894729614258,
          18.37549591064453,
          18.440475463867188,
          18.43159294128418,
          18.446474075317383,
          18.498165130615234,
          18.776233673095703
         ],
         "xaxis": "x",
         "y": [
          5.624943733215332,
          5.562688827514648,
          4.390452861785889,
          4.174132823944092,
          6.1211113929748535,
          4.28711462020874,
          6.12217903137207,
          4.063899040222168,
          6.159079551696777,
          4.192341327667236,
          4.237368106842041,
          4.305947303771973,
          4.437657356262207,
          4.097314357757568,
          4.133460521697998,
          4.2541937828063965,
          4.306240081787109,
          4.114145755767822,
          4.156930923461914,
          6.145698547363281,
          4.157442569732666,
          4.163109302520752,
          5.412086009979248,
          4.333033561706543,
          4.2019219398498535,
          4.344006538391113,
          4.249347686767578,
          6.1768293380737305,
          6.051401138305664,
          4.200747013092041,
          5.562495231628418,
          6.183115005493164,
          4.0560688972473145,
          4.084829330444336,
          4.25992488861084,
          4.14579439163208,
          4.2761383056640625,
          4.262252330780029,
          4.019120216369629,
          4.360705852508545,
          4.009210109710693,
          6.146099090576172,
          4.301299095153809,
          6.066004276275635,
          4.0110368728637695,
          4.16990852355957,
          4.222299098968506,
          5.520273685455322,
          3.9645278453826904,
          4.1322479248046875,
          4.410849094390869,
          4.2225422859191895,
          4.23184871673584,
          5.592464447021484,
          4.19263219833374,
          4.152580261230469,
          4.718100070953369,
          4.075740814208984,
          5.49106502532959,
          4.242518901824951,
          5.5593461990356445,
          6.1968994140625,
          4.09648323059082,
          4.052361488342285,
          4.28253173828125,
          4.61122989654541,
          4.018898963928223,
          3.9436097145080566,
          4.305198669433594,
          5.587789058685303,
          4.361956596374512,
          4.208121299743652,
          6.174322605133057
         ],
         "yaxis": "y"
        },
        {
         "customdata": [
          [
           "996",
           "J346"
          ],
          [
           "[{'NCBI tax id': 203119, 'Matching level': 'strain'}, {'NCBI tax id': 1515, 'Matching level': 'species'}]",
           "J221"
          ],
          [
           "1431962",
           "1011c"
          ],
          [
           "134375",
           "J346"
          ],
          [
           "1561",
           "1203a"
          ],
          [
           "2696063",
           "311c"
          ],
          [
           "56448",
           "54a"
          ],
          [
           "[{'NCBI tax id': 83171, 'Matching level': 'species'}, {'NCBI tax id': 573064, 'Matching level': 'strain'}]",
           "J232"
          ],
          [
           "311400",
           "J280"
          ],
          [
           "714",
           "J14"
          ],
          [
           "689665",
           "J256"
          ],
          [
           "535290",
           "J119"
          ],
          [
           "40223",
           "J127"
          ],
          [
           "[{'NCBI tax id': 698757, 'Matching level': 'strain'}, {'NCBI tax id': 99007, 'Matching level': 'species'}]",
           "J269"
          ],
          [
           "1374",
           "J22"
          ],
          [
           "2917990",
           "J202"
          ],
          [
           "672",
           "J22"
          ],
          [
           "472",
           "J443"
          ],
          [
           "1828",
           "J26"
          ],
          [
           "62629",
           "J282"
          ],
          [
           "310514",
           "J14"
          ],
          [
           "380685",
           "J280"
          ],
          [
           "1905725",
           "J14"
          ],
          [
           "823",
           "J14"
          ],
          [
           "2695856",
           "J346"
          ],
          [
           "1392641",
           "J49"
          ],
          [
           "588067",
           "J43"
          ],
          [
           "691825",
           "J306"
          ],
          [
           "[{'NCBI tax id': 2180, 'Matching level': 'species'}, {'NCBI tax id': 523846, 'Matching level': 'strain'}]",
           "J251"
          ],
          [
           "1506",
           "J14"
          ],
          [
           "38402",
           "J14"
          ],
          [
           "2044873",
           "J51"
          ],
          [
           "34005",
           "J149"
          ],
          [
           "117157",
           "J42"
          ],
          [
           "2652285",
           "J14"
          ],
          [
           "1750644",
           "J26"
          ],
          [
           "712710",
           "J677"
          ],
          [
           "28893",
           "J58"
          ],
          [
           "2008447",
           "J27"
          ],
          [
           "34092",
           "J164"
          ],
          [
           "2731377",
           "104c"
          ],
          [
           "61646",
           "1a"
          ],
          [
           "582",
           "J40"
          ],
          [
           "450363",
           "J28"
          ],
          [
           "223182",
           "J168"
          ],
          [
           "1931",
           "J44"
          ],
          [
           "43767",
           "215b"
          ],
          [
           "58172",
           "J443"
          ],
          [
           "1682",
           "J13"
          ],
          [
           "38312",
           "215b"
          ],
          [
           "52",
           "J436"
          ],
          [
           "223182",
           "J574"
          ],
          [
           "41988",
           "J28"
          ],
          [
           "1017181",
           "J840"
          ],
          [
           "1987381",
           "J346"
          ],
          [
           "[{'NCBI tax id': 1218095, 'Matching level': 'strain'}, {'NCBI tax id': 82996, 'Matching level': 'species'}]",
           "J22"
          ],
          [
           "151784",
           "1a"
          ],
          [
           "1520",
           "J13"
          ],
          [
           "153496",
           "J710"
          ],
          [
           "[{'NCBI tax id': 1435051, 'Matching level': 'strain'}, {'NCBI tax id': 1333651, 'Matching level': 'species'}]",
           "J13"
          ],
          [
           "1868382",
           "J475"
          ],
          [
           "[{'NCBI tax id': 1615, 'Matching level': 'species'}, {'NCBI tax id': 1123500, 'Matching level': 'strain'}]",
           "J13"
          ],
          [
           "1869227",
           "830c"
          ],
          [
           "1891658",
           "J842"
          ],
          [
           "305517",
           "J528"
          ],
          [
           "[{'NCBI tax id': 631, 'Matching level': 'species'}, {'NCBI tax id': 349965, 'Matching level': 'strain'}]",
           "J12"
          ],
          [
           "[{'NCBI tax id': 516075, 'Matching level': 'species'}, {'NCBI tax id': 1141660, 'Matching level': 'strain'}]",
           "J27"
          ],
          [
           "1955812",
           "J27"
          ],
          [
           "[{'NCBI tax id': 1440762, 'Matching level': 'strain'}, {'NCBI tax id': 231455, 'Matching level': 'species'}]",
           "1a"
          ],
          [
           "[{'NCBI tax id': 1090322, 'Matching level': 'strain'}, {'NCBI tax id': 2221, 'Matching level': 'species'}]",
           "120d"
          ],
          [
           "58119",
           "J52"
          ],
          [
           "1796922",
           "J346"
          ],
          [
           "39695",
           "J26"
          ],
          [
           "2492395",
           "J346"
          ],
          [
           "235987",
           "J42"
          ],
          [
           "1960325",
           "J475"
          ],
          [
           "[{'NCBI tax id': 458711, 'Matching level': 'species'}, {'NCBI tax id': 1121457, 'Matching level': 'strain'}]",
           "195c"
          ],
          [
           "185293",
           "J282"
          ],
          [
           "[{'NCBI tax id': 118126, 'Matching level': 'species'}, {'NCBI tax id': 1293042, 'Matching level': 'strain'}]",
           "141b"
          ],
          [
           "1720083",
           "J1249"
          ],
          [
           "2773926",
           "1203a"
          ],
          [
           "53447",
           "J66"
          ],
          [
           "66882",
           "J42"
          ],
          [
           "2767846",
           "J84"
          ],
          [
           "357276",
           "1203a"
          ],
          [
           "289003",
           "1a"
          ],
          [
           "[{'NCBI tax id': 655813, 'Matching level': 'strain'}, {'NCBI tax id': 1303, 'Matching level': 'species'}]",
           "J27"
          ],
          [
           "318456",
           "514c"
          ],
          [
           "1452751",
           "J346"
          ],
          [
           "[{'NCBI tax id': 1218087, 'Matching level': 'strain'}, {'NCBI tax id': 37734, 'Matching level': 'species'}]",
           "J156"
          ],
          [
           "1270",
           "J28"
          ],
          [
           "[{'NCBI tax id': 1210100, 'Matching level': 'strain'}, {'NCBI tax id': 53432, 'Matching level': 'species'}]",
           "J43"
          ],
          [
           "1125967",
           "J74"
          ],
          [
           "2684212",
           "J27"
          ],
          [
           "1807",
           "J386"
          ],
          [
           "1472417",
           "J14"
          ],
          [
           "1872122",
           "J346"
          ],
          [
           "391736",
           "J43"
          ],
          [
           "[{'NCBI tax id': 1501, 'Matching level': 'species'}, {'NCBI tax id': 1262449, 'Matching level': 'strain'}]",
           "J14"
          ],
          [
           "2133958",
           "J26"
          ],
          [
           "46203",
           "J104"
          ],
          [
           "[{'NCBI tax id': 647171, 'Matching level': 'strain'}, {'NCBI tax id': 213185, 'Matching level': 'species'}]",
           "J360"
          ],
          [
           "[{'NCBI tax id': 37926, 'Matching level': 'species'}, {'NCBI tax id': 1111737, 'Matching level': 'strain'}]",
           "J48"
          ],
          [
           "426707",
           "J616"
          ],
          [
           "1176532",
           "J346"
          ],
          [
           "1818718",
           "J26"
          ],
          [
           "29358",
           "J14"
          ],
          [
           "2143",
           "1076b"
          ],
          [
           "306",
           "465d"
          ],
          [
           "[{'NCBI tax id': 1305625, 'Matching level': 'strain'}, {'NCBI tax id': 49897, 'Matching level': 'species'}]",
           "J256"
          ],
          [
           "114695",
           "J42"
          ],
          [
           "574649",
           "J28"
          ],
          [
           "1727",
           "J475"
          ],
          [
           "[{'NCBI tax id': 54011, 'Matching level': 'species'}, {'NCBI tax id': 1223511, 'Matching level': 'strain'}]",
           "J27"
          ],
          [
           "[{'NCBI tax id': 47678, 'Matching level': 'species'}, {'NCBI tax id': 411901, 'Matching level': 'strain'}]",
           "1203a"
          ],
          [
           "1622118",
           "J1068"
          ],
          [
           "160689",
           "J50"
          ],
          [
           "[{'NCBI tax id': 341694, 'Matching level': 'species'}, {'NCBI tax id': 596315, 'Matching level': 'strain'}]",
           "J465"
          ],
          [
           "2743",
           "J22"
          ],
          [
           "2024826",
           "514a"
          ],
          [
           "295065",
           "J168"
          ],
          [
           "1742686",
           "J42"
          ],
          [
           "1620",
           "J13"
          ],
          [
           "564415",
           "J50"
          ],
          [
           "1818685",
           "J26"
          ],
          [
           "1891658",
           "J443"
          ],
          [
           "1166950",
           "J681"
          ],
          [
           "278132",
           "J118"
          ],
          [
           "661483",
           "J346"
          ],
          [
           "[{'NCBI tax id': 234828, 'Matching level': 'species'}, {'NCBI tax id': 1121355, 'Matching level': 'strain'}]",
           "J28"
          ],
          [
           "[{'NCBI tax id': 335020, 'Matching level': 'species'}, {'NCBI tax id': 1122227, 'Matching level': 'strain'}]",
           "1031a"
          ],
          [
           "1249558",
           "J346"
          ],
          [
           "380021",
           "1a"
          ],
          [
           "147577",
           "J26"
          ],
          [
           "2981792",
           "110a"
          ],
          [
           "1981510",
           "J14"
          ],
          [
           "33878",
           "J28"
          ],
          [
           "1569629",
           "J346"
          ],
          [
           "1304888",
           "1526d"
          ],
          [
           "2606632",
           "J14"
          ],
          [
           "686234",
           "J586"
          ],
          [
           "568790",
           "104b"
          ],
          [
           "2025311",
           "J346"
          ],
          [
           "648",
           "J22"
          ],
          [
           "190905",
           "J111"
          ],
          [
           "2516328",
           "J1221"
          ],
          [
           "1028745",
           "J118"
          ],
          [
           "[{'NCBI tax id': 1122949, 'Matching level': 'strain'}, {'NCBI tax id': 33031, 'Matching level': 'species'}]",
           "J84"
          ],
          [
           "39479",
           "339a"
          ],
          [
           "163874",
           "J569"
          ],
          [
           "35743",
           "J189"
          ],
          [
           "[{'NCBI tax id': 765177, 'Matching level': 'strain'}, {'NCBI tax id': 2275, 'Matching level': 'species'}]",
           "88a"
          ],
          [
           "1987058",
           "J141"
          ],
          [
           "145263",
           "J231"
          ],
          [
           "1892554",
           "J346"
          ],
          [
           "1837376",
           "J346"
          ],
          [
           "[{'NCBI tax id': 1751, 'Matching level': 'species'}, {'NCBI tax id': 1122998, 'Matching level': 'strain'}]",
           "J13"
          ],
          [
           "60443",
           "J26"
          ],
          [
           "2775876",
           "J13"
          ],
          [
           "110163",
           "J280"
          ],
          [
           "1829",
           "J43"
          ],
          [
           "52761",
           "J22"
          ],
          [
           "1844",
           "J58"
          ],
          [
           "651822",
           "78c"
          ],
          [
           "43770",
           "535a"
          ],
          [
           "[{'NCBI tax id': 1120935, 'Matching level': 'strain'}, {'NCBI tax id': 103730, 'Matching level': 'species'}]",
           "J43"
          ],
          [
           "748907",
           "J26"
          ],
          [
           "1848972",
           "J254"
          ],
          [
           "[{'NCBI tax id': 349931, 'Matching level': 'species'}, {'NCBI tax id': 1121302, 'Matching level': 'strain'}]",
           "104b"
          ],
          [
           "1421",
           "J22"
          ],
          [
           "1050174",
           "J26"
          ],
          [
           "54565",
           "J389"
          ],
          [
           "558153",
           "104c"
          ],
          [
           "[{'NCBI tax id': 1385941, 'Matching level': 'strain'}, {'NCBI tax id': 1685, 'Matching level': 'species'}]",
           "J19"
          ],
          [
           "671267",
           "J14"
          ],
          [
           "67369",
           "J42"
          ],
          [
           "169134",
           "J26"
          ],
          [
           "[{'NCBI tax id': 113287, 'Matching level': 'species'}, {'NCBI tax id': 887929, 'Matching level': 'strain'}]",
           "J84"
          ],
          [
           "375541",
           "J26"
          ],
          [
           "2282382",
           "J118"
          ],
          [
           "1448267",
           "J28"
          ],
          [
           "292462",
           "J386"
          ],
          [
           "1544",
           "J14"
          ],
          [
           "57664",
           "647a"
          ],
          [
           "[{'NCBI tax id': 1121400, 'Matching level': 'strain'}, {'NCBI tax id': 2298, 'Matching level': 'species'}]",
           "195a"
          ],
          [
           "86180",
           "J22"
          ],
          [
           "84030",
           "110a"
          ],
          [
           "[{'NCBI tax id': 868129, 'Matching level': 'strain'}, {'NCBI tax id': 28125, 'Matching level': 'species'}]",
           "J14"
          ],
          [
           "556327",
           "J118"
          ],
          [
           "1390",
           "J22"
          ],
          [
           "274",
           "J118"
          ],
          [
           "324852",
           "J42"
          ],
          [
           "315405",
           "J27"
          ],
          [
           "[{'NCBI tax id': 521377, 'Matching level': 'species'}, {'NCBI tax id': 1188261, 'Matching level': 'strain'}]",
           "J181"
          ],
          [
           "1973138",
           "J167"
          ],
          [
           "1550728",
           "J346"
          ],
          [
           "267368",
           "J168"
          ],
          [
           "418240",
           "J465"
          ],
          [
           "[{'NCBI tax id': 71388, 'Matching level': 'species'}, {'NCBI tax id': 1219072, 'Matching level': 'strain'}]",
           "514c"
          ],
          [
           "219301",
           "J256"
          ],
          [
           "37326",
           "J43"
          ],
          [
           "1727",
           "J26"
          ],
          [
           "[{'NCBI tax id': 1122239, 'Matching level': 'strain'}, {'NCBI tax id': 451764, 'Matching level': 'species'}]",
           "J26"
          ],
          [
           "450367",
           "J28"
          ],
          [
           "993087",
           "J26"
          ],
          [
           "1771",
           "J26"
          ],
          [
           "[{'NCBI tax id': 1121021, 'Matching level': 'strain'}, {'NCBI tax id': 394340, 'Matching level': 'subspecies'}]",
           "J583"
          ],
          [
           "2981792",
           "339a"
          ],
          [
           "1149133",
           "457d"
          ],
          [
           "1392640",
           "J49"
          ],
          [
           "400390",
           "J571"
          ],
          [
           "28132",
           "J14"
          ],
          [
           "2843317",
           "339a"
          ],
          [
           "1307414",
           "J27"
          ],
          [
           "1150298",
           "J465"
          ],
          [
           "165179",
           "J14"
          ],
          [
           "339",
           "54a"
          ],
          [
           "51669",
           "J69"
          ],
          [
           "[{'NCBI tax id': 1264554, 'Matching level': 'strain'}, {'NCBI tax id': 29561, 'Matching level': 'species'}]",
           "1076b"
          ],
          [
           "28026",
           "J14"
          ],
          [
           "68196",
           "J66"
          ],
          [
           "2026",
           "J48"
          ],
          [
           "1895908",
           "J118"
          ],
          [
           "1874706",
           "141c"
          ],
          [
           "1080071",
           "J28"
          ],
          [
           "1818731",
           "J475"
          ],
          [
           "1911",
           "J50"
          ],
          [
           "2184053",
           "J66"
          ],
          [
           "86265",
           "1a"
          ],
          [
           "1580",
           "J13"
          ],
          [
           "[{'NCBI tax id': 1120987, 'Matching level': 'strain'}, {'NCBI tax id': 1120986, 'Matching level': 'species'}]",
           "104a"
          ],
          [
           "121292",
           "J26"
          ],
          [
           "365033",
           "J651"
          ],
          [
           "1629",
           "J13"
          ],
          [
           "186479",
           "J1036"
          ],
          [
           "1833",
           "J57"
          ],
          [
           "2213015",
           "J22"
          ],
          [
           "1243002",
           "514c"
          ],
          [
           "879969",
           "1203a"
          ],
          [
           "285544",
           "J42"
          ],
          [
           "1962263",
           "104c"
          ],
          [
           "487685",
           "141c"
          ],
          [
           "908809",
           "104b"
          ],
          [
           "[{'NCBI tax id': 1328868, 'Matching level': 'strain'}, {'NCBI tax id': 59737, 'Matching level': 'species'}]",
           "J26"
          ],
          [
           "68195",
           "J58"
          ],
          [
           "868131",
           "J924"
          ],
          [
           "273384",
           "J26"
          ],
          [
           "221711",
           "J383"
          ],
          [
           "[{'NCBI tax id': 563, 'Matching level': 'species'}, {'NCBI tax id': 630626, 'Matching level': 'strain'}]",
           "J12"
          ],
          [
           "195748",
           "J26"
          ],
          [
           "59201",
           "J12"
          ],
          [
           "2287",
           "J171"
          ],
          [
           "300560",
           "J487"
          ],
          [
           "91915",
           "J709"
          ],
          [
           "[{'NCBI tax id': 43770, 'Matching level': 'species'}, {'NCBI tax id': 525268, 'Matching level': 'strain'}]",
           "J26"
          ],
          [
           "170623",
           "J346"
          ],
          [
           "466",
           "J119"
          ],
          [
           "2253",
           "J168"
          ],
          [
           "[{'NCBI tax id': 501497, 'Matching level': 'species'}, {'NCBI tax id': 1123371, 'Matching level': 'strain'}]",
           "J696"
          ],
          [
           "1408",
           "J22"
          ],
          [
           "[{'NCBI tax id': 1295129, 'Matching level': 'strain'}, {'NCBI tax id': 706570, 'Matching level': 'species'}]",
           "J22"
          ],
          [
           "146537",
           "J51"
          ],
          [
           "200618",
           "J443"
          ],
          [
           "143387",
           "J14"
          ],
          [
           "[{'NCBI tax id': 1218107, 'Matching level': 'strain'}, {'NCBI tax id': 80866, 'Matching level': 'species'}]",
           "J12"
          ],
          [
           "1720294",
           "104c"
          ],
          [
           "69363",
           "J342"
          ],
          [
           "[{'NCBI tax id': 1121933, 'Matching level': 'strain'}, {'NCBI tax id': 266854, 'Matching level': 'species'}]",
           "J26"
          ],
          [
           "610243",
           "J709"
          ],
          [
           "28894",
           "J43"
          ],
          [
           "626935",
           "J14"
          ],
          [
           "2576756",
           "1203a"
          ],
          [
           "[{'NCBI tax id': 86304, 'Matching level': 'species'}, {'NCBI tax id': 203122, 'Matching level': 'strain'}]",
           "514a"
          ],
          [
           "1581",
           "J84"
          ],
          [
           "46358",
           "J586"
          ],
          [
           "52242",
           "J13"
          ],
          [
           "[{'NCBI tax id': 291645, 'Matching level': 'species'}, {'NCBI tax id': 1203608, 'Matching level': 'strain'}]",
           "J14"
          ],
          [
           "59813",
           "J386"
          ],
          [
           "362649",
           "J28"
          ],
          [
           "1302730",
           "514b"
          ],
          [
           "857265",
           "1a"
          ],
          [
           "1694",
           "J13"
          ],
          [
           "74031",
           "621a"
          ],
          [
           "722737",
           "J14"
          ],
          [
           "227865",
           "J75"
          ],
          [
           "1038845",
           "J27"
          ],
          [
           "89067",
           "J118"
          ],
          [
           "678932",
           "J256"
          ],
          [
           "105612",
           "J13"
          ],
          [
           "80866",
           "J22"
          ],
          [
           "80883",
           "J346"
          ],
          [
           "66269",
           "1a"
          ],
          [
           "301301",
           "J1130"
          ],
          [
           "522298",
           "J346"
          ],
          [
           "[{'NCBI tax id': 1204719, 'Matching level': 'strain'}, {'NCBI tax id': 555313, 'Matching level': 'species'}]",
           "J14"
          ],
          [
           "317",
           "J75"
          ],
          [
           "2682456",
           "J14"
          ],
          [
           "37931",
           "J475"
          ],
          [
           "[{'NCBI tax id': 399548, 'Matching level': 'species'}, {'NCBI tax id': 1121406, 'Matching level': 'strain'}]",
           "J549"
          ],
          [
           "1886799",
           "J168"
          ],
          [
           "[{'NCBI tax id': 637886, 'Matching level': 'species'}, {'NCBI tax id': 1298597, 'Matching level': 'strain'}]",
           "1203a"
          ],
          [
           "[{'NCBI tax id': 1121467, 'Matching level': 'strain'}, {'NCBI tax id': 82171, 'Matching level': 'species'}]",
           "195c"
          ],
          [
           "1303",
           "J27"
          ],
          [
           "1348468",
           "J346"
          ],
          [
           "204773",
           "830c"
          ],
          [
           "1110546",
           "J14"
          ],
          [
           "29397",
           "J13"
          ],
          [
           "33903",
           "J42"
          ],
          [
           "708132",
           "J346"
          ],
          [
           "223392",
           "J43"
          ],
          [
           "29427",
           "J22"
          ],
          [
           "218139",
           "J291"
          ],
          [
           "33",
           "J436"
          ],
          [
           "100886",
           "J14"
          ],
          [
           "2585117",
           "J14"
          ],
          [
           "194249",
           "J22"
          ],
          [
           "1720",
           "J26"
          ],
          [
           "460087",
           "J346"
          ],
          [
           "1734925",
           "J14"
          ],
          [
           "2024855",
           "600a"
          ]
         ],
         "hovertemplate": "Cluster=0<br>Component 1=%{x}<br>Component 2=%{y}<br>taxon_id=%{customdata[0]}<br>media_id=%{customdata[1]}<extra></extra>",
         "legendgroup": "0",
         "marker": {
          "color": "#00cc96",
          "opacity": 0.3,
          "symbol": "circle"
         },
         "mode": "markers",
         "name": "0",
         "showlegend": true,
         "type": "scattergl",
         "x": [
          9.952156066894531,
          3.2964956760406494,
          9.484356880187988,
          3.2050821781158447,
          9.352810859680176,
          9.315916061401367,
          9.059623718261719,
          3.2806692123413086,
          9.020774841308594,
          8.610518455505371,
          3.3476924896240234,
          10.058504104614258,
          9.96550178527832,
          3.2540547847747803,
          10.035372734069824,
          3.198518991470337,
          10.116517066955566,
          9.730445861816406,
          9.999354362487793,
          3.2704083919525146,
          7.728504180908203,
          3.24957013130188,
          7.744687557220459,
          7.828484535217285,
          10.002739906311035,
          9.681890487670898,
          9.624578475952148,
          3.3487422466278076,
          3.267446279525757,
          7.804931640625,
          8.691802024841309,
          8.639540672302246,
          8.464275360107422,
          8.558708190917969,
          8.621213912963867,
          8.698122024536133,
          8.740962982177734,
          8.686112403869629,
          8.469112396240234,
          8.468806266784668,
          8.761168479919434,
          8.625933647155762,
          8.638227462768555,
          8.592187881469727,
          8.610475540161133,
          8.588993072509766,
          8.55059814453125,
          8.602116584777832,
          8.752717971801758,
          8.71233081817627,
          8.60225772857666,
          8.509757995605469,
          8.4771728515625,
          8.543946266174316,
          8.626830101013184,
          8.643804550170898,
          8.677913665771484,
          8.520645141601562,
          8.559670448303223,
          8.640063285827637,
          8.419281005859375,
          8.747118949890137,
          8.641677856445312,
          8.735498428344727,
          8.616158485412598,
          8.930548667907715,
          8.650229454040527,
          8.673704147338867,
          8.677362442016602,
          8.540138244628906,
          8.834736824035645,
          8.719854354858398,
          8.596176147460938,
          8.795820236206055,
          8.622742652893066,
          8.711891174316406,
          8.701542854309082,
          8.556632041931152,
          8.704765319824219,
          8.620946884155273,
          8.734809875488281,
          8.793457984924316,
          8.580229759216309,
          8.745686531066895,
          8.7832612991333,
          8.596794128417969,
          8.556018829345703,
          8.700371742248535,
          8.861921310424805,
          8.648697853088379,
          8.553783416748047,
          8.826462745666504,
          8.594700813293457,
          8.506659507751465,
          8.922103881835938,
          8.828375816345215,
          8.862588882446289,
          8.717429161071777,
          8.688292503356934,
          8.778630256652832,
          8.86187744140625,
          8.664443969726562,
          8.715127944946289,
          9.075215339660645,
          8.804219245910645,
          8.73580551147461,
          8.771711349487305,
          8.649371147155762,
          8.775598526000977,
          8.726530075073242,
          8.644832611083984,
          8.856374740600586,
          8.644828796386719,
          8.86838150024414,
          8.861760139465332,
          8.751731872558594,
          8.753584861755371,
          8.833977699279785,
          8.752608299255371,
          8.680485725402832,
          8.762520790100098,
          8.84799575805664,
          8.802157402038574,
          8.872835159301758,
          8.890456199645996,
          8.872326850891113,
          8.76582145690918,
          8.815767288208008,
          8.720442771911621,
          8.998607635498047,
          9.057429313659668,
          9.028698921203613,
          8.79919719696045,
          8.685527801513672,
          8.759119033813477,
          8.63000202178955,
          8.648290634155273,
          8.773126602172852,
          8.804930686950684,
          8.649136543273926,
          8.818342208862305,
          8.863021850585938,
          8.871277809143066,
          8.800065994262695,
          8.725715637207031,
          8.7494478225708,
          8.839032173156738,
          9.075791358947754,
          8.931982040405273,
          8.854104995727539,
          8.821126937866211,
          9.052735328674316,
          8.796971321105957,
          8.998980522155762,
          8.859394073486328,
          8.845194816589355,
          8.577077865600586,
          8.952995300292969,
          8.934383392333984,
          8.741588592529297,
          8.603065490722656,
          8.96231746673584,
          8.77639102935791,
          8.808463096618652,
          8.601845741271973,
          8.910441398620605,
          8.873464584350586,
          8.687013626098633,
          8.722302436828613,
          8.790739059448242,
          8.790116310119629,
          8.688074111938477,
          8.881032943725586,
          8.810013771057129,
          7.755461692810059,
          8.83839225769043,
          8.719179153442383,
          8.969547271728516,
          8.709550857543945,
          8.72737979888916,
          8.852499008178711,
          8.850419998168945,
          8.928730010986328,
          8.774796485900879,
          8.784651756286621,
          8.975285530090332,
          8.81084156036377,
          8.974885940551758,
          8.876564979553223,
          10.002198219299316,
          8.85663890838623,
          8.886998176574707,
          8.790575981140137,
          8.642184257507324,
          8.99190902709961,
          8.63896369934082,
          8.927657127380371,
          8.873409271240234,
          8.702712059020996,
          8.684693336486816,
          10.215555191040039,
          8.87523365020752,
          8.740249633789062,
          8.715158462524414,
          8.84909439086914,
          8.831287384033203,
          8.710782051086426,
          8.781368255615234,
          8.708110809326172,
          8.744476318359375,
          8.697713851928711,
          8.511219024658203,
          8.468384742736816,
          8.690299987792969,
          8.845187187194824,
          7.7438249588012695,
          8.674795150756836,
          8.701105117797852,
          8.519250869750977,
          8.591435432434082,
          8.654479026794434,
          8.838637351989746,
          8.750777244567871,
          8.641796112060547,
          8.68466854095459,
          8.5253324508667,
          8.642786026000977,
          8.698498725891113,
          8.623988151550293,
          8.537479400634766,
          8.565144538879395,
          8.544463157653809,
          8.649829864501953,
          8.570915222167969,
          9.975568771362305,
          8.704426765441895,
          8.783695220947266,
          8.54750919342041,
          8.585150718688965,
          8.566760063171387,
          8.59884262084961,
          8.658784866333008,
          8.40239143371582,
          8.500365257263184,
          8.468413352966309,
          8.500801086425781,
          8.400627136230469,
          8.577107429504395,
          8.625033378601074,
          8.541869163513184,
          8.47481918334961,
          8.238012313842773,
          8.384659767150879,
          8.452595710754395,
          8.44740104675293,
          8.452417373657227,
          8.464888572692871,
          8.581231117248535,
          8.460609436035156,
          8.442723274230957,
          8.406039237976074,
          8.343568801879883,
          8.601235389709473,
          8.262483596801758,
          8.422414779663086,
          8.257438659667969,
          8.469010353088379,
          8.336479187011719,
          8.363778114318848,
          8.262228012084961,
          8.250402450561523,
          8.407561302185059,
          8.199548721313477,
          8.495917320251465,
          8.225687026977539,
          8.17883014678955,
          8.152447700500488,
          8.400245666503906,
          8.270143508911133,
          8.445541381835938,
          8.369206428527832,
          8.451011657714844,
          8.31633472442627,
          8.401383399963379,
          8.136134147644043,
          8.097891807556152,
          8.452929496765137,
          8.19858455657959,
          8.41091251373291,
          10.246841430664062,
          8.029480934143066,
          8.086405754089355,
          8.153158187866211,
          8.15972900390625,
          8.42625617980957,
          8.257902145385742,
          8.130141258239746,
          8.12058162689209,
          8.209260940551758,
          8.400199890136719,
          8.498743057250977,
          8.159409523010254,
          8.260756492614746,
          8.133515357971191,
          8.36293888092041,
          8.035745620727539,
          8.115659713745117,
          10.235461235046387,
          8.246481895446777,
          9.73263168334961,
          9.88668441772461,
          3.248443841934204,
          10.269916534423828,
          8.5982027053833,
          7.6621222496032715,
          9.962686538696289,
          9.720243453979492,
          3.3540186882019043,
          8.626325607299805,
          7.891737461090088
         ],
         "xaxis": "x",
         "y": [
          0.7921587824821472,
          0.6470737457275391,
          4.39501953125,
          0.604398250579834,
          4.358386993408203,
          4.42730188369751,
          4.325384140014648,
          0.6184384226799011,
          4.524218559265137,
          4.3593292236328125,
          0.600899338722229,
          0.46563956141471863,
          0.9131632447242737,
          0.5896440148353577,
          0.6108402609825134,
          0.6939707398414612,
          0.2535448968410492,
          2.8598947525024414,
          0.7110615968704224,
          0.6152516007423401,
          3.8249921798706055,
          0.668254554271698,
          3.7755584716796875,
          3.7331724166870117,
          0.7225402593612671,
          3.1328792572021484,
          3.191112995147705,
          0.5739116668701172,
          0.6018864512443542,
          3.786045789718628,
          5.626942157745361,
          5.641699314117432,
          5.759422302246094,
          5.7790327072143555,
          5.463397026062012,
          5.557960510253906,
          5.855929374694824,
          5.5131659507751465,
          5.772984981536865,
          5.709683418273926,
          5.525631427764893,
          5.547572612762451,
          5.544993877410889,
          5.716728210449219,
          5.526991367340088,
          5.606408596038818,
          5.598740100860596,
          5.501809597015381,
          5.482548236846924,
          5.565099716186523,
          5.5700860023498535,
          5.721744537353516,
          5.673198699951172,
          5.491211891174316,
          5.507396221160889,
          5.462287425994873,
          5.409783840179443,
          5.608451843261719,
          5.440232753753662,
          5.387380123138428,
          5.635654449462891,
          5.516915798187256,
          5.447750568389893,
          5.556403160095215,
          5.502721786499023,
          5.363657474517822,
          5.397565841674805,
          5.339606285095215,
          5.2938690185546875,
          5.40012788772583,
          5.301362991333008,
          5.395796775817871,
          5.348998546600342,
          5.589803695678711,
          5.3813090324401855,
          5.315506935119629,
          5.238010406494141,
          5.525599956512451,
          5.340930938720703,
          5.269954681396484,
          5.014758110046387,
          5.126509666442871,
          5.275665283203125,
          5.209304332733154,
          5.15350341796875,
          5.228779315948486,
          5.251300811767578,
          5.089223384857178,
          5.234511852264404,
          5.26185417175293,
          5.0808305740356445,
          5.1611247062683105,
          5.093752861022949,
          5.131014823913574,
          4.94714879989624,
          5.089543342590332,
          5.017314910888672,
          4.9512248039245605,
          5.018637180328369,
          5.153609275817871,
          4.816904067993164,
          4.922122001647949,
          5.057941913604736,
          4.875022888183594,
          4.782041072845459,
          4.99198579788208,
          4.908620357513428,
          4.984505653381348,
          5.086668491363525,
          4.75531005859375,
          4.775463104248047,
          4.6828179359436035,
          4.817188739776611,
          4.710186958312988,
          4.8083343505859375,
          4.645153999328613,
          4.8123908042907715,
          4.715054035186768,
          4.5941290855407715,
          4.74229097366333,
          4.644045829772949,
          4.70932674407959,
          4.726178169250488,
          4.743240833282471,
          4.761043071746826,
          4.551441669464111,
          4.769993782043457,
          4.743194103240967,
          4.5859456062316895,
          4.391860485076904,
          4.49119758605957,
          4.374236583709717,
          4.5339508056640625,
          4.631383895874023,
          4.427739143371582,
          4.12103796005249,
          4.331003665924072,
          4.561180114746094,
          4.364171981811523,
          4.442705154418945,
          4.278893947601318,
          4.394470691680908,
          4.27534818649292,
          4.420108795166016,
          4.156257629394531,
          4.200678825378418,
          4.321681022644043,
          4.3664398193359375,
          4.338459014892578,
          4.313715934753418,
          4.212724208831787,
          3.9333107471466064,
          4.261670112609863,
          4.100771427154541,
          4.178253173828125,
          4.158023357391357,
          4.126745223999023,
          4.175263404846191,
          4.243358135223389,
          4.13824987411499,
          3.8971898555755615,
          3.982623815536499,
          4.142680644989014,
          4.082773208618164,
          3.9582324028015137,
          4.205631732940674,
          3.8804333209991455,
          3.857151508331299,
          4.016909122467041,
          3.9423987865448,
          3.9804189205169678,
          3.6556968688964844,
          3.7648978233337402,
          3.6898081302642822,
          3.808065414428711,
          3.8716065883636475,
          3.5836617946624756,
          3.9381561279296875,
          3.3494319915771484,
          3.9022717475891113,
          3.7752039432525635,
          3.811459541320801,
          3.766545534133911,
          3.2556893825531006,
          3.56762957572937,
          3.5525991916656494,
          3.747267484664917,
          3.5787065029144287,
          3.6842222213745117,
          0.8519254326820374,
          3.404010057449341,
          3.4150450229644775,
          3.603797197341919,
          3.5215494632720947,
          3.745939254760742,
          3.4775590896606445,
          3.3991525173187256,
          3.5954132080078125,
          3.231245756149292,
          3.437011480331421,
          -0.14040358364582062,
          3.3588593006134033,
          3.283414602279663,
          3.413198232650757,
          3.683048963546753,
          3.529592275619507,
          3.560131549835205,
          3.1071929931640625,
          3.372742176055908,
          3.45792555809021,
          3.3179922103881836,
          3.070082187652588,
          2.720475435256958,
          3.26926326751709,
          3.0590193271636963,
          3.7520883083343506,
          3.3398807048797607,
          3.2428622245788574,
          3.1682608127593994,
          3.0804851055145264,
          3.095158100128174,
          3.4291391372680664,
          3.1732397079467773,
          3.318551778793335,
          3.1799349784851074,
          3.0833864212036133,
          3.174941062927246,
          3.2013702392578125,
          3.1983911991119385,
          2.8668525218963623,
          2.993940591812134,
          3.0007717609405518,
          2.9772732257843018,
          3.1075611114501953,
          0.7801891565322876,
          3.1247878074645996,
          2.9096298217773438,
          3.0819733142852783,
          3.1182937622070312,
          2.893700361251831,
          2.980248212814331,
          2.8328957557678223,
          2.867368459701538,
          2.6748404502868652,
          2.797168016433716,
          2.912741184234619,
          3.167942523956299,
          2.7887251377105713,
          2.592489242553711,
          2.364912271499634,
          2.851571559906006,
          3.0702311992645264,
          2.791687488555908,
          2.689544439315796,
          2.8043766021728516,
          3.0493383407592773,
          2.780702590942383,
          3.0086801052093506,
          2.5087335109710693,
          2.70766544342041,
          2.726468563079834,
          2.7177681922912598,
          2.6105170249938965,
          2.7921719551086426,
          2.512690305709839,
          2.8454933166503906,
          2.9342803955078125,
          2.7768635749816895,
          2.546704053878784,
          2.6042122840881348,
          2.4804470539093018,
          2.7534539699554443,
          2.3495986461639404,
          2.8140201568603516,
          2.874040365219116,
          2.3914647102355957,
          2.3145651817321777,
          2.3431787490844727,
          2.7077274322509766,
          2.720853805541992,
          2.6271424293518066,
          2.4773409366607666,
          2.5718843936920166,
          2.4234395027160645,
          2.304182529449463,
          2.7672016620635986,
          2.516831159591675,
          2.6824758052825928,
          2.0792713165283203,
          -0.24842733144760132,
          2.444882392883301,
          2.292235851287842,
          2.335653305053711,
          2.4348394870758057,
          2.1857409477233887,
          2.33801007270813,
          2.458040475845337,
          2.2723910808563232,
          2.4017374515533447,
          2.5106871128082275,
          2.595581531524658,
          2.336299180984497,
          2.534409284591675,
          2.226168155670166,
          2.5850603580474854,
          2.534102201461792,
          2.313727855682373,
          -0.20139731466770172,
          2.109412670135498,
          2.849771738052368,
          1.5613305568695068,
          0.6586934328079224,
          -0.3422682285308838,
          4.343254089355469,
          3.8456554412841797,
          0.7084164023399353,
          3.025320291519165,
          0.6334218978881836,
          4.365855693817139,
          4.086631774902344
         ],
         "yaxis": "y"
        },
        {
         "customdata": [
          [
           "207243",
           "J280"
          ],
          [
           "1639",
           "J70"
          ],
          [
           "287",
           "J75"
          ],
          [
           "1871",
           "J42"
          ],
          [
           "[{'NCBI tax id': 554283, 'Matching level': 'species'}, {'NCBI tax id': 1453505, 'Matching level': 'strain'}]",
           "J346"
          ],
          [
           "472",
           "J75"
          ],
          [
           "51669",
           "J72"
          ],
          [
           "78556",
           "J118"
          ],
          [
           "1373",
           "J75"
          ],
          [
           "1280",
           "J27"
          ],
          [
           "54076",
           "J267"
          ],
          [
           "486270",
           "J346"
          ],
          [
           "1335",
           "J141"
          ],
          [
           "37482",
           "J49"
          ],
          [
           "1496",
           "J84"
          ],
          [
           "53444",
           "J291"
          ],
          [
           "146827",
           "J282"
          ],
          [
           "408",
           "J79"
          ],
          [
           "1596",
           "J84"
          ],
          [
           "1931",
           "J58"
          ],
          [
           "172827",
           "J276"
          ],
          [
           "128944",
           "J282"
          ],
          [
           "1685415",
           "J22"
          ],
          [
           "266128",
           "J346"
          ],
          [
           "[{'NCBI tax id': 363832, 'Matching level': 'species'}, {'NCBI tax id': 1123262, 'Matching level': 'strain'}]",
           "J346"
          ],
          [
           "615",
           "J22"
          ],
          [
           "381",
           "J254"
          ]
         ],
         "hovertemplate": "Cluster=12<br>Component 1=%{x}<br>Component 2=%{y}<br>taxon_id=%{customdata[0]}<br>media_id=%{customdata[1]}<extra></extra>",
         "legendgroup": "12",
         "marker": {
          "color": "#ab63fa",
          "opacity": 0.3,
          "symbol": "circle"
         },
         "mode": "markers",
         "name": "12",
         "showlegend": true,
         "type": "scattergl",
         "x": [
          -5.079418659210205,
          -1.9936795234680176,
          -1.9155951738357544,
          -1.962876796722412,
          -5.124679088592529,
          -1.928092122077942,
          -1.9790611267089844,
          -1.9883146286010742,
          -1.8440197706222534,
          -1.8264073133468628,
          -5.015074253082275,
          -1.9637742042541504,
          -2.007284641265869,
          -1.9671236276626587,
          -1.897915244102478,
          -5.062602996826172,
          -5.034179210662842,
          -1.9278452396392822,
          -1.9997711181640625,
          -2.047393321990967,
          -5.042840957641602,
          -5.042844295501709,
          -2.0653023719787598,
          -4.980292320251465,
          -4.989340305328369,
          -1.808074951171875,
          -1.9114042520523071
         ],
         "xaxis": "x",
         "y": [
          1.7901360988616943,
          5.035914897918701,
          4.962184906005859,
          5.012694358825684,
          1.7448898553848267,
          4.9886016845703125,
          5.028416156768799,
          5.036616325378418,
          4.8943772315979,
          4.882047653198242,
          1.854576587677002,
          5.010360240936279,
          5.055072784423828,
          5.054468631744385,
          4.944870471954346,
          1.8068488836288452,
          1.8354943990707397,
          4.966036796569824,
          5.043516635894775,
          5.079125881195068,
          1.8268649578094482,
          1.8268840312957764,
          5.1111884117126465,
          1.8893455266952515,
          1.8803688287734985,
          4.861546516418457,
          4.961521148681641
         ],
         "yaxis": "y"
        },
        {
         "customdata": [
          [
           "[{'NCBI tax id': 209247, 'Matching level': 'species'}, {'NCBI tax id': 1210099, 'Matching level': 'strain'}]",
           "J43"
          ],
          [
           "115433",
           "J42"
          ],
          [
           "1007095",
           "J346"
          ],
          [
           "1411121",
           "J346"
          ],
          [
           "348042",
           "J30"
          ],
          [
           "837",
           "J469"
          ],
          [
           "[{'NCBI tax id': 1302724, 'Matching level': 'strain'}, {'NCBI tax id': 202862, 'Matching level': 'species'}]",
           "J42"
          ]
         ],
         "hovertemplate": "Cluster=14<br>Component 1=%{x}<br>Component 2=%{y}<br>taxon_id=%{customdata[0]}<br>media_id=%{customdata[1]}<extra></extra>",
         "legendgroup": "14",
         "marker": {
          "color": "#FFA15A",
          "opacity": 0.3,
          "symbol": "circle"
         },
         "mode": "markers",
         "name": "14",
         "showlegend": true,
         "type": "scattergl",
         "x": [
          -1.8405779600143433,
          -1.8385529518127441,
          -1.8469493389129639,
          -1.8481783866882324,
          -1.847005844116211,
          -1.8634487390518188,
          -1.847357988357544
         ],
         "xaxis": "x",
         "y": [
          5.79463529586792,
          5.7966132164001465,
          5.788201332092285,
          5.787092208862305,
          5.788232803344727,
          5.771801948547363,
          5.787837982177734
         ],
         "yaxis": "y"
        }
       ],
       "layout": {
        "legend": {
         "title": {
          "text": "Cluster"
         },
         "tracegroupgap": 0
        },
        "margin": {
         "t": 60
        },
        "template": {
         "data": {
          "bar": [
           {
            "error_x": {
             "color": "#2a3f5f"
            },
            "error_y": {
             "color": "#2a3f5f"
            },
            "marker": {
             "line": {
              "color": "white",
              "width": 0.5
             },
             "pattern": {
              "fillmode": "overlay",
              "size": 10,
              "solidity": 0.2
             }
            },
            "type": "bar"
           }
          ],
          "barpolar": [
           {
            "marker": {
             "line": {
              "color": "white",
              "width": 0.5
             },
             "pattern": {
              "fillmode": "overlay",
              "size": 10,
              "solidity": 0.2
             }
            },
            "type": "barpolar"
           }
          ],
          "carpet": [
           {
            "aaxis": {
             "endlinecolor": "#2a3f5f",
             "gridcolor": "#C8D4E3",
             "linecolor": "#C8D4E3",
             "minorgridcolor": "#C8D4E3",
             "startlinecolor": "#2a3f5f"
            },
            "baxis": {
             "endlinecolor": "#2a3f5f",
             "gridcolor": "#C8D4E3",
             "linecolor": "#C8D4E3",
             "minorgridcolor": "#C8D4E3",
             "startlinecolor": "#2a3f5f"
            },
            "type": "carpet"
           }
          ],
          "choropleth": [
           {
            "colorbar": {
             "outlinewidth": 0,
             "ticks": ""
            },
            "type": "choropleth"
           }
          ],
          "contour": [
           {
            "colorbar": {
             "outlinewidth": 0,
             "ticks": ""
            },
            "colorscale": [
             [
              0,
              "#0d0887"
             ],
             [
              0.1111111111111111,
              "#46039f"
             ],
             [
              0.2222222222222222,
              "#7201a8"
             ],
             [
              0.3333333333333333,
              "#9c179e"
             ],
             [
              0.4444444444444444,
              "#bd3786"
             ],
             [
              0.5555555555555556,
              "#d8576b"
             ],
             [
              0.6666666666666666,
              "#ed7953"
             ],
             [
              0.7777777777777778,
              "#fb9f3a"
             ],
             [
              0.8888888888888888,
              "#fdca26"
             ],
             [
              1,
              "#f0f921"
             ]
            ],
            "type": "contour"
           }
          ],
          "contourcarpet": [
           {
            "colorbar": {
             "outlinewidth": 0,
             "ticks": ""
            },
            "type": "contourcarpet"
           }
          ],
          "heatmap": [
           {
            "colorbar": {
             "outlinewidth": 0,
             "ticks": ""
            },
            "colorscale": [
             [
              0,
              "#0d0887"
             ],
             [
              0.1111111111111111,
              "#46039f"
             ],
             [
              0.2222222222222222,
              "#7201a8"
             ],
             [
              0.3333333333333333,
              "#9c179e"
             ],
             [
              0.4444444444444444,
              "#bd3786"
             ],
             [
              0.5555555555555556,
              "#d8576b"
             ],
             [
              0.6666666666666666,
              "#ed7953"
             ],
             [
              0.7777777777777778,
              "#fb9f3a"
             ],
             [
              0.8888888888888888,
              "#fdca26"
             ],
             [
              1,
              "#f0f921"
             ]
            ],
            "type": "heatmap"
           }
          ],
          "heatmapgl": [
           {
            "colorbar": {
             "outlinewidth": 0,
             "ticks": ""
            },
            "colorscale": [
             [
              0,
              "#0d0887"
             ],
             [
              0.1111111111111111,
              "#46039f"
             ],
             [
              0.2222222222222222,
              "#7201a8"
             ],
             [
              0.3333333333333333,
              "#9c179e"
             ],
             [
              0.4444444444444444,
              "#bd3786"
             ],
             [
              0.5555555555555556,
              "#d8576b"
             ],
             [
              0.6666666666666666,
              "#ed7953"
             ],
             [
              0.7777777777777778,
              "#fb9f3a"
             ],
             [
              0.8888888888888888,
              "#fdca26"
             ],
             [
              1,
              "#f0f921"
             ]
            ],
            "type": "heatmapgl"
           }
          ],
          "histogram": [
           {
            "marker": {
             "pattern": {
              "fillmode": "overlay",
              "size": 10,
              "solidity": 0.2
             }
            },
            "type": "histogram"
           }
          ],
          "histogram2d": [
           {
            "colorbar": {
             "outlinewidth": 0,
             "ticks": ""
            },
            "colorscale": [
             [
              0,
              "#0d0887"
             ],
             [
              0.1111111111111111,
              "#46039f"
             ],
             [
              0.2222222222222222,
              "#7201a8"
             ],
             [
              0.3333333333333333,
              "#9c179e"
             ],
             [
              0.4444444444444444,
              "#bd3786"
             ],
             [
              0.5555555555555556,
              "#d8576b"
             ],
             [
              0.6666666666666666,
              "#ed7953"
             ],
             [
              0.7777777777777778,
              "#fb9f3a"
             ],
             [
              0.8888888888888888,
              "#fdca26"
             ],
             [
              1,
              "#f0f921"
             ]
            ],
            "type": "histogram2d"
           }
          ],
          "histogram2dcontour": [
           {
            "colorbar": {
             "outlinewidth": 0,
             "ticks": ""
            },
            "colorscale": [
             [
              0,
              "#0d0887"
             ],
             [
              0.1111111111111111,
              "#46039f"
             ],
             [
              0.2222222222222222,
              "#7201a8"
             ],
             [
              0.3333333333333333,
              "#9c179e"
             ],
             [
              0.4444444444444444,
              "#bd3786"
             ],
             [
              0.5555555555555556,
              "#d8576b"
             ],
             [
              0.6666666666666666,
              "#ed7953"
             ],
             [
              0.7777777777777778,
              "#fb9f3a"
             ],
             [
              0.8888888888888888,
              "#fdca26"
             ],
             [
              1,
              "#f0f921"
             ]
            ],
            "type": "histogram2dcontour"
           }
          ],
          "mesh3d": [
           {
            "colorbar": {
             "outlinewidth": 0,
             "ticks": ""
            },
            "type": "mesh3d"
           }
          ],
          "parcoords": [
           {
            "line": {
             "colorbar": {
              "outlinewidth": 0,
              "ticks": ""
             }
            },
            "type": "parcoords"
           }
          ],
          "pie": [
           {
            "automargin": true,
            "type": "pie"
           }
          ],
          "scatter": [
           {
            "fillpattern": {
             "fillmode": "overlay",
             "size": 10,
             "solidity": 0.2
            },
            "type": "scatter"
           }
          ],
          "scatter3d": [
           {
            "line": {
             "colorbar": {
              "outlinewidth": 0,
              "ticks": ""
             }
            },
            "marker": {
             "colorbar": {
              "outlinewidth": 0,
              "ticks": ""
             }
            },
            "type": "scatter3d"
           }
          ],
          "scattercarpet": [
           {
            "marker": {
             "colorbar": {
              "outlinewidth": 0,
              "ticks": ""
             }
            },
            "type": "scattercarpet"
           }
          ],
          "scattergeo": [
           {
            "marker": {
             "colorbar": {
              "outlinewidth": 0,
              "ticks": ""
             }
            },
            "type": "scattergeo"
           }
          ],
          "scattergl": [
           {
            "marker": {
             "colorbar": {
              "outlinewidth": 0,
              "ticks": ""
             }
            },
            "type": "scattergl"
           }
          ],
          "scattermapbox": [
           {
            "marker": {
             "colorbar": {
              "outlinewidth": 0,
              "ticks": ""
             }
            },
            "type": "scattermapbox"
           }
          ],
          "scatterpolar": [
           {
            "marker": {
             "colorbar": {
              "outlinewidth": 0,
              "ticks": ""
             }
            },
            "type": "scatterpolar"
           }
          ],
          "scatterpolargl": [
           {
            "marker": {
             "colorbar": {
              "outlinewidth": 0,
              "ticks": ""
             }
            },
            "type": "scatterpolargl"
           }
          ],
          "scatterternary": [
           {
            "marker": {
             "colorbar": {
              "outlinewidth": 0,
              "ticks": ""
             }
            },
            "type": "scatterternary"
           }
          ],
          "surface": [
           {
            "colorbar": {
             "outlinewidth": 0,
             "ticks": ""
            },
            "colorscale": [
             [
              0,
              "#0d0887"
             ],
             [
              0.1111111111111111,
              "#46039f"
             ],
             [
              0.2222222222222222,
              "#7201a8"
             ],
             [
              0.3333333333333333,
              "#9c179e"
             ],
             [
              0.4444444444444444,
              "#bd3786"
             ],
             [
              0.5555555555555556,
              "#d8576b"
             ],
             [
              0.6666666666666666,
              "#ed7953"
             ],
             [
              0.7777777777777778,
              "#fb9f3a"
             ],
             [
              0.8888888888888888,
              "#fdca26"
             ],
             [
              1,
              "#f0f921"
             ]
            ],
            "type": "surface"
           }
          ],
          "table": [
           {
            "cells": {
             "fill": {
              "color": "#EBF0F8"
             },
             "line": {
              "color": "white"
             }
            },
            "header": {
             "fill": {
              "color": "#C8D4E3"
             },
             "line": {
              "color": "white"
             }
            },
            "type": "table"
           }
          ]
         },
         "layout": {
          "annotationdefaults": {
           "arrowcolor": "#2a3f5f",
           "arrowhead": 0,
           "arrowwidth": 1
          },
          "autotypenumbers": "strict",
          "coloraxis": {
           "colorbar": {
            "outlinewidth": 0,
            "ticks": ""
           }
          },
          "colorscale": {
           "diverging": [
            [
             0,
             "#8e0152"
            ],
            [
             0.1,
             "#c51b7d"
            ],
            [
             0.2,
             "#de77ae"
            ],
            [
             0.3,
             "#f1b6da"
            ],
            [
             0.4,
             "#fde0ef"
            ],
            [
             0.5,
             "#f7f7f7"
            ],
            [
             0.6,
             "#e6f5d0"
            ],
            [
             0.7,
             "#b8e186"
            ],
            [
             0.8,
             "#7fbc41"
            ],
            [
             0.9,
             "#4d9221"
            ],
            [
             1,
             "#276419"
            ]
           ],
           "sequential": [
            [
             0,
             "#0d0887"
            ],
            [
             0.1111111111111111,
             "#46039f"
            ],
            [
             0.2222222222222222,
             "#7201a8"
            ],
            [
             0.3333333333333333,
             "#9c179e"
            ],
            [
             0.4444444444444444,
             "#bd3786"
            ],
            [
             0.5555555555555556,
             "#d8576b"
            ],
            [
             0.6666666666666666,
             "#ed7953"
            ],
            [
             0.7777777777777778,
             "#fb9f3a"
            ],
            [
             0.8888888888888888,
             "#fdca26"
            ],
            [
             1,
             "#f0f921"
            ]
           ],
           "sequentialminus": [
            [
             0,
             "#0d0887"
            ],
            [
             0.1111111111111111,
             "#46039f"
            ],
            [
             0.2222222222222222,
             "#7201a8"
            ],
            [
             0.3333333333333333,
             "#9c179e"
            ],
            [
             0.4444444444444444,
             "#bd3786"
            ],
            [
             0.5555555555555556,
             "#d8576b"
            ],
            [
             0.6666666666666666,
             "#ed7953"
            ],
            [
             0.7777777777777778,
             "#fb9f3a"
            ],
            [
             0.8888888888888888,
             "#fdca26"
            ],
            [
             1,
             "#f0f921"
            ]
           ]
          },
          "colorway": [
           "#636efa",
           "#EF553B",
           "#00cc96",
           "#ab63fa",
           "#FFA15A",
           "#19d3f3",
           "#FF6692",
           "#B6E880",
           "#FF97FF",
           "#FECB52"
          ],
          "font": {
           "color": "#2a3f5f"
          },
          "geo": {
           "bgcolor": "white",
           "lakecolor": "white",
           "landcolor": "white",
           "showlakes": true,
           "showland": true,
           "subunitcolor": "#C8D4E3"
          },
          "hoverlabel": {
           "align": "left"
          },
          "hovermode": "closest",
          "mapbox": {
           "style": "light"
          },
          "paper_bgcolor": "white",
          "plot_bgcolor": "white",
          "polar": {
           "angularaxis": {
            "gridcolor": "#EBF0F8",
            "linecolor": "#EBF0F8",
            "ticks": ""
           },
           "bgcolor": "white",
           "radialaxis": {
            "gridcolor": "#EBF0F8",
            "linecolor": "#EBF0F8",
            "ticks": ""
           }
          },
          "scene": {
           "xaxis": {
            "backgroundcolor": "white",
            "gridcolor": "#DFE8F3",
            "gridwidth": 2,
            "linecolor": "#EBF0F8",
            "showbackground": true,
            "ticks": "",
            "zerolinecolor": "#EBF0F8"
           },
           "yaxis": {
            "backgroundcolor": "white",
            "gridcolor": "#DFE8F3",
            "gridwidth": 2,
            "linecolor": "#EBF0F8",
            "showbackground": true,
            "ticks": "",
            "zerolinecolor": "#EBF0F8"
           },
           "zaxis": {
            "backgroundcolor": "white",
            "gridcolor": "#DFE8F3",
            "gridwidth": 2,
            "linecolor": "#EBF0F8",
            "showbackground": true,
            "ticks": "",
            "zerolinecolor": "#EBF0F8"
           }
          },
          "shapedefaults": {
           "line": {
            "color": "#2a3f5f"
           }
          },
          "ternary": {
           "aaxis": {
            "gridcolor": "#DFE8F3",
            "linecolor": "#A2B1C6",
            "ticks": ""
           },
           "baxis": {
            "gridcolor": "#DFE8F3",
            "linecolor": "#A2B1C6",
            "ticks": ""
           },
           "bgcolor": "white",
           "caxis": {
            "gridcolor": "#DFE8F3",
            "linecolor": "#A2B1C6",
            "ticks": ""
           }
          },
          "title": {
           "x": 0.05
          },
          "xaxis": {
           "automargin": true,
           "gridcolor": "#EBF0F8",
           "linecolor": "#EBF0F8",
           "ticks": "",
           "title": {
            "standoff": 15
           },
           "zerolinecolor": "#EBF0F8",
           "zerolinewidth": 2
          },
          "yaxis": {
           "automargin": true,
           "gridcolor": "#EBF0F8",
           "linecolor": "#EBF0F8",
           "ticks": "",
           "title": {
            "standoff": 15
           },
           "zerolinecolor": "#EBF0F8",
           "zerolinewidth": 2
          }
         }
        },
        "title": {
         "text": "Media Clusters"
        },
        "xaxis": {
         "anchor": "y",
         "domain": [
          0,
          1
         ],
         "title": {
          "text": "Component 1"
         }
        },
        "yaxis": {
         "anchor": "x",
         "domain": [
          0,
          1
         ],
         "title": {
          "text": "Component 2"
         }
        }
       }
      }
     },
     "metadata": {},
     "output_type": "display_data"
    }
   ],
   "source": [
    "# Plot the training points\n",
    "fig = px.scatter(\n",
    "    data_frame = reduced_df,\n",
    "    x = \"Component 1\",\n",
    "    y = \"Component 2\",\n",
    "    color = \"Cluster\",\n",
    "    hover_data = [\"taxon_id\", \"media_id\"],\n",
    "    opacity = 0.3\n",
    ") \n",
    "\n",
    "fig.update_layout(\n",
    "    title=\"Media Clusters\",\n",
    "    template=\"plotly_white\"\n",
    ")\n",
    "\n",
    "fig.show()"
   ]
  },
  {
   "cell_type": "markdown",
   "metadata": {},
   "source": [
    "#### Create new column from clusters"
   ]
  },
  {
   "cell_type": "code",
   "execution_count": 11,
   "metadata": {},
   "outputs": [
    {
     "data": {
      "text/plain": [
       "array([ 3,  4, 11, ...,  4, 11,  1])"
      ]
     },
     "execution_count": 11,
     "metadata": {},
     "output_type": "execute_result"
    }
   ],
   "source": [
    "y_train = cluster.predict(reducer.transform(X_train))\n",
    "y_test = cluster.predict(reducer.transform(X_test))\n",
    "\n",
    "y_train"
   ]
  },
  {
   "cell_type": "markdown",
   "metadata": {},
   "source": [
    "### Classifier"
   ]
  },
  {
   "cell_type": "code",
   "execution_count": 12,
   "metadata": {},
   "outputs": [
    {
     "data": {
      "text/html": [
       "<style>#sk-container-id-1 {\n",
       "  /* Definition of color scheme common for light and dark mode */\n",
       "  --sklearn-color-text: black;\n",
       "  --sklearn-color-line: gray;\n",
       "  /* Definition of color scheme for unfitted estimators */\n",
       "  --sklearn-color-unfitted-level-0: #fff5e6;\n",
       "  --sklearn-color-unfitted-level-1: #f6e4d2;\n",
       "  --sklearn-color-unfitted-level-2: #ffe0b3;\n",
       "  --sklearn-color-unfitted-level-3: chocolate;\n",
       "  /* Definition of color scheme for fitted estimators */\n",
       "  --sklearn-color-fitted-level-0: #f0f8ff;\n",
       "  --sklearn-color-fitted-level-1: #d4ebff;\n",
       "  --sklearn-color-fitted-level-2: #b3dbfd;\n",
       "  --sklearn-color-fitted-level-3: cornflowerblue;\n",
       "\n",
       "  /* Specific color for light theme */\n",
       "  --sklearn-color-text-on-default-background: var(--sg-text-color, var(--theme-code-foreground, var(--jp-content-font-color1, black)));\n",
       "  --sklearn-color-background: var(--sg-background-color, var(--theme-background, var(--jp-layout-color0, white)));\n",
       "  --sklearn-color-border-box: var(--sg-text-color, var(--theme-code-foreground, var(--jp-content-font-color1, black)));\n",
       "  --sklearn-color-icon: #696969;\n",
       "\n",
       "  @media (prefers-color-scheme: dark) {\n",
       "    /* Redefinition of color scheme for dark theme */\n",
       "    --sklearn-color-text-on-default-background: var(--sg-text-color, var(--theme-code-foreground, var(--jp-content-font-color1, white)));\n",
       "    --sklearn-color-background: var(--sg-background-color, var(--theme-background, var(--jp-layout-color0, #111)));\n",
       "    --sklearn-color-border-box: var(--sg-text-color, var(--theme-code-foreground, var(--jp-content-font-color1, white)));\n",
       "    --sklearn-color-icon: #878787;\n",
       "  }\n",
       "}\n",
       "\n",
       "#sk-container-id-1 {\n",
       "  color: var(--sklearn-color-text);\n",
       "}\n",
       "\n",
       "#sk-container-id-1 pre {\n",
       "  padding: 0;\n",
       "}\n",
       "\n",
       "#sk-container-id-1 input.sk-hidden--visually {\n",
       "  border: 0;\n",
       "  clip: rect(1px 1px 1px 1px);\n",
       "  clip: rect(1px, 1px, 1px, 1px);\n",
       "  height: 1px;\n",
       "  margin: -1px;\n",
       "  overflow: hidden;\n",
       "  padding: 0;\n",
       "  position: absolute;\n",
       "  width: 1px;\n",
       "}\n",
       "\n",
       "#sk-container-id-1 div.sk-dashed-wrapped {\n",
       "  border: 1px dashed var(--sklearn-color-line);\n",
       "  margin: 0 0.4em 0.5em 0.4em;\n",
       "  box-sizing: border-box;\n",
       "  padding-bottom: 0.4em;\n",
       "  background-color: var(--sklearn-color-background);\n",
       "}\n",
       "\n",
       "#sk-container-id-1 div.sk-container {\n",
       "  /* jupyter's `normalize.less` sets `[hidden] { display: none; }`\n",
       "     but bootstrap.min.css set `[hidden] { display: none !important; }`\n",
       "     so we also need the `!important` here to be able to override the\n",
       "     default hidden behavior on the sphinx rendered scikit-learn.org.\n",
       "     See: https://github.com/scikit-learn/scikit-learn/issues/21755 */\n",
       "  display: inline-block !important;\n",
       "  position: relative;\n",
       "}\n",
       "\n",
       "#sk-container-id-1 div.sk-text-repr-fallback {\n",
       "  display: none;\n",
       "}\n",
       "\n",
       "div.sk-parallel-item,\n",
       "div.sk-serial,\n",
       "div.sk-item {\n",
       "  /* draw centered vertical line to link estimators */\n",
       "  background-image: linear-gradient(var(--sklearn-color-text-on-default-background), var(--sklearn-color-text-on-default-background));\n",
       "  background-size: 2px 100%;\n",
       "  background-repeat: no-repeat;\n",
       "  background-position: center center;\n",
       "}\n",
       "\n",
       "/* Parallel-specific style estimator block */\n",
       "\n",
       "#sk-container-id-1 div.sk-parallel-item::after {\n",
       "  content: \"\";\n",
       "  width: 100%;\n",
       "  border-bottom: 2px solid var(--sklearn-color-text-on-default-background);\n",
       "  flex-grow: 1;\n",
       "}\n",
       "\n",
       "#sk-container-id-1 div.sk-parallel {\n",
       "  display: flex;\n",
       "  align-items: stretch;\n",
       "  justify-content: center;\n",
       "  background-color: var(--sklearn-color-background);\n",
       "  position: relative;\n",
       "}\n",
       "\n",
       "#sk-container-id-1 div.sk-parallel-item {\n",
       "  display: flex;\n",
       "  flex-direction: column;\n",
       "}\n",
       "\n",
       "#sk-container-id-1 div.sk-parallel-item:first-child::after {\n",
       "  align-self: flex-end;\n",
       "  width: 50%;\n",
       "}\n",
       "\n",
       "#sk-container-id-1 div.sk-parallel-item:last-child::after {\n",
       "  align-self: flex-start;\n",
       "  width: 50%;\n",
       "}\n",
       "\n",
       "#sk-container-id-1 div.sk-parallel-item:only-child::after {\n",
       "  width: 0;\n",
       "}\n",
       "\n",
       "/* Serial-specific style estimator block */\n",
       "\n",
       "#sk-container-id-1 div.sk-serial {\n",
       "  display: flex;\n",
       "  flex-direction: column;\n",
       "  align-items: center;\n",
       "  background-color: var(--sklearn-color-background);\n",
       "  padding-right: 1em;\n",
       "  padding-left: 1em;\n",
       "}\n",
       "\n",
       "\n",
       "/* Toggleable style: style used for estimator/Pipeline/ColumnTransformer box that is\n",
       "clickable and can be expanded/collapsed.\n",
       "- Pipeline and ColumnTransformer use this feature and define the default style\n",
       "- Estimators will overwrite some part of the style using the `sk-estimator` class\n",
       "*/\n",
       "\n",
       "/* Pipeline and ColumnTransformer style (default) */\n",
       "\n",
       "#sk-container-id-1 div.sk-toggleable {\n",
       "  /* Default theme specific background. It is overwritten whether we have a\n",
       "  specific estimator or a Pipeline/ColumnTransformer */\n",
       "  background-color: var(--sklearn-color-background);\n",
       "}\n",
       "\n",
       "/* Toggleable label */\n",
       "#sk-container-id-1 label.sk-toggleable__label {\n",
       "  cursor: pointer;\n",
       "  display: block;\n",
       "  width: 100%;\n",
       "  margin-bottom: 0;\n",
       "  padding: 0.5em;\n",
       "  box-sizing: border-box;\n",
       "  text-align: center;\n",
       "}\n",
       "\n",
       "#sk-container-id-1 label.sk-toggleable__label-arrow:before {\n",
       "  /* Arrow on the left of the label */\n",
       "  content: \"▸\";\n",
       "  float: left;\n",
       "  margin-right: 0.25em;\n",
       "  color: var(--sklearn-color-icon);\n",
       "}\n",
       "\n",
       "#sk-container-id-1 label.sk-toggleable__label-arrow:hover:before {\n",
       "  color: var(--sklearn-color-text);\n",
       "}\n",
       "\n",
       "/* Toggleable content - dropdown */\n",
       "\n",
       "#sk-container-id-1 div.sk-toggleable__content {\n",
       "  max-height: 0;\n",
       "  max-width: 0;\n",
       "  overflow: hidden;\n",
       "  text-align: left;\n",
       "  /* unfitted */\n",
       "  background-color: var(--sklearn-color-unfitted-level-0);\n",
       "}\n",
       "\n",
       "#sk-container-id-1 div.sk-toggleable__content.fitted {\n",
       "  /* fitted */\n",
       "  background-color: var(--sklearn-color-fitted-level-0);\n",
       "}\n",
       "\n",
       "#sk-container-id-1 div.sk-toggleable__content pre {\n",
       "  margin: 0.2em;\n",
       "  border-radius: 0.25em;\n",
       "  color: var(--sklearn-color-text);\n",
       "  /* unfitted */\n",
       "  background-color: var(--sklearn-color-unfitted-level-0);\n",
       "}\n",
       "\n",
       "#sk-container-id-1 div.sk-toggleable__content.fitted pre {\n",
       "  /* unfitted */\n",
       "  background-color: var(--sklearn-color-fitted-level-0);\n",
       "}\n",
       "\n",
       "#sk-container-id-1 input.sk-toggleable__control:checked~div.sk-toggleable__content {\n",
       "  /* Expand drop-down */\n",
       "  max-height: 200px;\n",
       "  max-width: 100%;\n",
       "  overflow: auto;\n",
       "}\n",
       "\n",
       "#sk-container-id-1 input.sk-toggleable__control:checked~label.sk-toggleable__label-arrow:before {\n",
       "  content: \"▾\";\n",
       "}\n",
       "\n",
       "/* Pipeline/ColumnTransformer-specific style */\n",
       "\n",
       "#sk-container-id-1 div.sk-label input.sk-toggleable__control:checked~label.sk-toggleable__label {\n",
       "  color: var(--sklearn-color-text);\n",
       "  background-color: var(--sklearn-color-unfitted-level-2);\n",
       "}\n",
       "\n",
       "#sk-container-id-1 div.sk-label.fitted input.sk-toggleable__control:checked~label.sk-toggleable__label {\n",
       "  background-color: var(--sklearn-color-fitted-level-2);\n",
       "}\n",
       "\n",
       "/* Estimator-specific style */\n",
       "\n",
       "/* Colorize estimator box */\n",
       "#sk-container-id-1 div.sk-estimator input.sk-toggleable__control:checked~label.sk-toggleable__label {\n",
       "  /* unfitted */\n",
       "  background-color: var(--sklearn-color-unfitted-level-2);\n",
       "}\n",
       "\n",
       "#sk-container-id-1 div.sk-estimator.fitted input.sk-toggleable__control:checked~label.sk-toggleable__label {\n",
       "  /* fitted */\n",
       "  background-color: var(--sklearn-color-fitted-level-2);\n",
       "}\n",
       "\n",
       "#sk-container-id-1 div.sk-label label.sk-toggleable__label,\n",
       "#sk-container-id-1 div.sk-label label {\n",
       "  /* The background is the default theme color */\n",
       "  color: var(--sklearn-color-text-on-default-background);\n",
       "}\n",
       "\n",
       "/* On hover, darken the color of the background */\n",
       "#sk-container-id-1 div.sk-label:hover label.sk-toggleable__label {\n",
       "  color: var(--sklearn-color-text);\n",
       "  background-color: var(--sklearn-color-unfitted-level-2);\n",
       "}\n",
       "\n",
       "/* Label box, darken color on hover, fitted */\n",
       "#sk-container-id-1 div.sk-label.fitted:hover label.sk-toggleable__label.fitted {\n",
       "  color: var(--sklearn-color-text);\n",
       "  background-color: var(--sklearn-color-fitted-level-2);\n",
       "}\n",
       "\n",
       "/* Estimator label */\n",
       "\n",
       "#sk-container-id-1 div.sk-label label {\n",
       "  font-family: monospace;\n",
       "  font-weight: bold;\n",
       "  display: inline-block;\n",
       "  line-height: 1.2em;\n",
       "}\n",
       "\n",
       "#sk-container-id-1 div.sk-label-container {\n",
       "  text-align: center;\n",
       "}\n",
       "\n",
       "/* Estimator-specific */\n",
       "#sk-container-id-1 div.sk-estimator {\n",
       "  font-family: monospace;\n",
       "  border: 1px dotted var(--sklearn-color-border-box);\n",
       "  border-radius: 0.25em;\n",
       "  box-sizing: border-box;\n",
       "  margin-bottom: 0.5em;\n",
       "  /* unfitted */\n",
       "  background-color: var(--sklearn-color-unfitted-level-0);\n",
       "}\n",
       "\n",
       "#sk-container-id-1 div.sk-estimator.fitted {\n",
       "  /* fitted */\n",
       "  background-color: var(--sklearn-color-fitted-level-0);\n",
       "}\n",
       "\n",
       "/* on hover */\n",
       "#sk-container-id-1 div.sk-estimator:hover {\n",
       "  /* unfitted */\n",
       "  background-color: var(--sklearn-color-unfitted-level-2);\n",
       "}\n",
       "\n",
       "#sk-container-id-1 div.sk-estimator.fitted:hover {\n",
       "  /* fitted */\n",
       "  background-color: var(--sklearn-color-fitted-level-2);\n",
       "}\n",
       "\n",
       "/* Specification for estimator info (e.g. \"i\" and \"?\") */\n",
       "\n",
       "/* Common style for \"i\" and \"?\" */\n",
       "\n",
       ".sk-estimator-doc-link,\n",
       "a:link.sk-estimator-doc-link,\n",
       "a:visited.sk-estimator-doc-link {\n",
       "  float: right;\n",
       "  font-size: smaller;\n",
       "  line-height: 1em;\n",
       "  font-family: monospace;\n",
       "  background-color: var(--sklearn-color-background);\n",
       "  border-radius: 1em;\n",
       "  height: 1em;\n",
       "  width: 1em;\n",
       "  text-decoration: none !important;\n",
       "  margin-left: 1ex;\n",
       "  /* unfitted */\n",
       "  border: var(--sklearn-color-unfitted-level-1) 1pt solid;\n",
       "  color: var(--sklearn-color-unfitted-level-1);\n",
       "}\n",
       "\n",
       ".sk-estimator-doc-link.fitted,\n",
       "a:link.sk-estimator-doc-link.fitted,\n",
       "a:visited.sk-estimator-doc-link.fitted {\n",
       "  /* fitted */\n",
       "  border: var(--sklearn-color-fitted-level-1) 1pt solid;\n",
       "  color: var(--sklearn-color-fitted-level-1);\n",
       "}\n",
       "\n",
       "/* On hover */\n",
       "div.sk-estimator:hover .sk-estimator-doc-link:hover,\n",
       ".sk-estimator-doc-link:hover,\n",
       "div.sk-label-container:hover .sk-estimator-doc-link:hover,\n",
       ".sk-estimator-doc-link:hover {\n",
       "  /* unfitted */\n",
       "  background-color: var(--sklearn-color-unfitted-level-3);\n",
       "  color: var(--sklearn-color-background);\n",
       "  text-decoration: none;\n",
       "}\n",
       "\n",
       "div.sk-estimator.fitted:hover .sk-estimator-doc-link.fitted:hover,\n",
       ".sk-estimator-doc-link.fitted:hover,\n",
       "div.sk-label-container:hover .sk-estimator-doc-link.fitted:hover,\n",
       ".sk-estimator-doc-link.fitted:hover {\n",
       "  /* fitted */\n",
       "  background-color: var(--sklearn-color-fitted-level-3);\n",
       "  color: var(--sklearn-color-background);\n",
       "  text-decoration: none;\n",
       "}\n",
       "\n",
       "/* Span, style for the box shown on hovering the info icon */\n",
       ".sk-estimator-doc-link span {\n",
       "  display: none;\n",
       "  z-index: 9999;\n",
       "  position: relative;\n",
       "  font-weight: normal;\n",
       "  right: .2ex;\n",
       "  padding: .5ex;\n",
       "  margin: .5ex;\n",
       "  width: min-content;\n",
       "  min-width: 20ex;\n",
       "  max-width: 50ex;\n",
       "  color: var(--sklearn-color-text);\n",
       "  box-shadow: 2pt 2pt 4pt #999;\n",
       "  /* unfitted */\n",
       "  background: var(--sklearn-color-unfitted-level-0);\n",
       "  border: .5pt solid var(--sklearn-color-unfitted-level-3);\n",
       "}\n",
       "\n",
       ".sk-estimator-doc-link.fitted span {\n",
       "  /* fitted */\n",
       "  background: var(--sklearn-color-fitted-level-0);\n",
       "  border: var(--sklearn-color-fitted-level-3);\n",
       "}\n",
       "\n",
       ".sk-estimator-doc-link:hover span {\n",
       "  display: block;\n",
       "}\n",
       "\n",
       "/* \"?\"-specific style due to the `<a>` HTML tag */\n",
       "\n",
       "#sk-container-id-1 a.estimator_doc_link {\n",
       "  float: right;\n",
       "  font-size: 1rem;\n",
       "  line-height: 1em;\n",
       "  font-family: monospace;\n",
       "  background-color: var(--sklearn-color-background);\n",
       "  border-radius: 1rem;\n",
       "  height: 1rem;\n",
       "  width: 1rem;\n",
       "  text-decoration: none;\n",
       "  /* unfitted */\n",
       "  color: var(--sklearn-color-unfitted-level-1);\n",
       "  border: var(--sklearn-color-unfitted-level-1) 1pt solid;\n",
       "}\n",
       "\n",
       "#sk-container-id-1 a.estimator_doc_link.fitted {\n",
       "  /* fitted */\n",
       "  border: var(--sklearn-color-fitted-level-1) 1pt solid;\n",
       "  color: var(--sklearn-color-fitted-level-1);\n",
       "}\n",
       "\n",
       "/* On hover */\n",
       "#sk-container-id-1 a.estimator_doc_link:hover {\n",
       "  /* unfitted */\n",
       "  background-color: var(--sklearn-color-unfitted-level-3);\n",
       "  color: var(--sklearn-color-background);\n",
       "  text-decoration: none;\n",
       "}\n",
       "\n",
       "#sk-container-id-1 a.estimator_doc_link.fitted:hover {\n",
       "  /* fitted */\n",
       "  background-color: var(--sklearn-color-fitted-level-3);\n",
       "}\n",
       "</style><div id=\"sk-container-id-1\" class=\"sk-top-container\"><div class=\"sk-text-repr-fallback\"><pre>RandomForestClassifier(n_jobs=-1, random_state=666)</pre><b>In a Jupyter environment, please rerun this cell to show the HTML representation or trust the notebook. <br />On GitHub, the HTML representation is unable to render, please try loading this page with nbviewer.org.</b></div><div class=\"sk-container\" hidden><div class=\"sk-item\"><div class=\"sk-estimator fitted sk-toggleable\"><input class=\"sk-toggleable__control sk-hidden--visually\" id=\"sk-estimator-id-1\" type=\"checkbox\" checked><label for=\"sk-estimator-id-1\" class=\"sk-toggleable__label fitted sk-toggleable__label-arrow fitted\">&nbsp;&nbsp;RandomForestClassifier<a class=\"sk-estimator-doc-link fitted\" rel=\"noreferrer\" target=\"_blank\" href=\"https://scikit-learn.org/1.5/modules/generated/sklearn.ensemble.RandomForestClassifier.html\">?<span>Documentation for RandomForestClassifier</span></a><span class=\"sk-estimator-doc-link fitted\">i<span>Fitted</span></span></label><div class=\"sk-toggleable__content fitted\"><pre>RandomForestClassifier(n_jobs=-1, random_state=666)</pre></div> </div></div></div></div>"
      ],
      "text/plain": [
       "RandomForestClassifier(n_jobs=-1, random_state=666)"
      ]
     },
     "execution_count": 12,
     "metadata": {},
     "output_type": "execute_result"
    }
   ],
   "source": [
    "from sklearn.ensemble import RandomForestClassifier\n",
    "from sklearn.metrics import classification_report\n",
    "\n",
    "\n",
    "model = RandomForestClassifier(\n",
    "    n_estimators=100,\n",
    "    n_jobs=-1,\n",
    "    random_state=RANDOM_SEED\n",
    ")\n",
    "model.fit(X_train, y_train)"
   ]
  },
  {
   "cell_type": "markdown",
   "metadata": {},
   "source": [
    "### Performance"
   ]
  },
  {
   "cell_type": "markdown",
   "metadata": {},
   "source": [
    "#### Metrics"
   ]
  },
  {
   "cell_type": "code",
   "execution_count": 13,
   "metadata": {},
   "outputs": [
    {
     "name": "stdout",
     "output_type": "stream",
     "text": [
      "              precision    recall  f1-score   support\n",
      "\n",
      "           0       1.00      1.00      1.00         5\n",
      "           1       1.00      0.92      0.96        39\n",
      "           2       1.00      0.97      0.99        36\n",
      "           3       1.00      1.00      1.00        28\n",
      "           4       0.96      1.00      0.98        24\n",
      "           5       0.96      1.00      0.98        26\n",
      "           6       1.00      1.00      1.00        11\n",
      "           7       1.00      1.00      1.00        24\n",
      "           8       1.00      0.70      0.82        10\n",
      "           9       1.00      1.00      1.00        24\n",
      "          10       0.96      1.00      0.98        79\n",
      "          11       0.99      1.00      1.00       316\n",
      "          12       1.00      1.00      1.00         3\n",
      "          13       1.00      1.00      1.00        26\n",
      "          14       1.00      1.00      1.00         1\n",
      "\n",
      "    accuracy                           0.99       652\n",
      "   macro avg       0.99      0.97      0.98       652\n",
      "weighted avg       0.99      0.99      0.99       652\n",
      "\n"
     ]
    }
   ],
   "source": [
    "y_pred = model.predict(X_test)\n",
    "\n",
    "report = classification_report(\n",
    "    y_true=y_test,\n",
    "    y_pred=y_pred,\n",
    "    zero_division=\"warn\"\n",
    ")\n",
    "\n",
    "print(report)"
   ]
  },
  {
   "cell_type": "code",
   "execution_count": 14,
   "metadata": {},
   "outputs": [
    {
     "name": "stdout",
     "output_type": "stream",
     "text": [
      "ROC AUC score: 0.9998823749523884\n"
     ]
    }
   ],
   "source": [
    "from sklearn import metrics\n",
    "\n",
    "# TODO: get PR-REC AUC score\n",
    "# TODO: plot both ROC and PR-REC curves\n",
    "roc_score = metrics.roc_auc_score(\n",
    "    y_true=y_test,\n",
    "    y_score=model.predict_proba(X_test),\n",
    "    average=\"weighted\",\n",
    "    multi_class=\"ovo\"\n",
    ")\n",
    "\n",
    "print(\"ROC AUC score:\", roc_score)"
   ]
  },
  {
   "cell_type": "code",
   "execution_count": 15,
   "metadata": {},
   "outputs": [],
   "source": [
    "import numpy as np\n",
    "import matplotlib.pyplot as plt\n",
    "from sklearn.metrics import roc_curve, auc\n",
    "from sklearn.preprocessing import label_binarize\n",
    "from sklearn.multiclass import OneVsRestClassifier\n",
    "from sklearn.pipeline import make_pipeline\n",
    "from sklearn.preprocessing import StandardScaler\n",
    "from sklearn.model_selection import train_test_split\n",
    "from sklearn.svm import SVC"
   ]
  },
  {
   "cell_type": "code",
   "execution_count": 16,
   "metadata": {},
   "outputs": [],
   "source": [
    "# Binarize classes\n",
    "y_train_bin = label_binarize(y_train, classes=np.unique(y_train))\n",
    "y_test_bin = label_binarize(y_test, classes=np.unique(y_train))\n",
    "n_classes = y_train_bin.shape[1]"
   ]
  },
  {
   "cell_type": "code",
   "execution_count": 17,
   "metadata": {},
   "outputs": [
    {
     "data": {
      "text/html": [
       "<style>#sk-container-id-2 {\n",
       "  /* Definition of color scheme common for light and dark mode */\n",
       "  --sklearn-color-text: black;\n",
       "  --sklearn-color-line: gray;\n",
       "  /* Definition of color scheme for unfitted estimators */\n",
       "  --sklearn-color-unfitted-level-0: #fff5e6;\n",
       "  --sklearn-color-unfitted-level-1: #f6e4d2;\n",
       "  --sklearn-color-unfitted-level-2: #ffe0b3;\n",
       "  --sklearn-color-unfitted-level-3: chocolate;\n",
       "  /* Definition of color scheme for fitted estimators */\n",
       "  --sklearn-color-fitted-level-0: #f0f8ff;\n",
       "  --sklearn-color-fitted-level-1: #d4ebff;\n",
       "  --sklearn-color-fitted-level-2: #b3dbfd;\n",
       "  --sklearn-color-fitted-level-3: cornflowerblue;\n",
       "\n",
       "  /* Specific color for light theme */\n",
       "  --sklearn-color-text-on-default-background: var(--sg-text-color, var(--theme-code-foreground, var(--jp-content-font-color1, black)));\n",
       "  --sklearn-color-background: var(--sg-background-color, var(--theme-background, var(--jp-layout-color0, white)));\n",
       "  --sklearn-color-border-box: var(--sg-text-color, var(--theme-code-foreground, var(--jp-content-font-color1, black)));\n",
       "  --sklearn-color-icon: #696969;\n",
       "\n",
       "  @media (prefers-color-scheme: dark) {\n",
       "    /* Redefinition of color scheme for dark theme */\n",
       "    --sklearn-color-text-on-default-background: var(--sg-text-color, var(--theme-code-foreground, var(--jp-content-font-color1, white)));\n",
       "    --sklearn-color-background: var(--sg-background-color, var(--theme-background, var(--jp-layout-color0, #111)));\n",
       "    --sklearn-color-border-box: var(--sg-text-color, var(--theme-code-foreground, var(--jp-content-font-color1, white)));\n",
       "    --sklearn-color-icon: #878787;\n",
       "  }\n",
       "}\n",
       "\n",
       "#sk-container-id-2 {\n",
       "  color: var(--sklearn-color-text);\n",
       "}\n",
       "\n",
       "#sk-container-id-2 pre {\n",
       "  padding: 0;\n",
       "}\n",
       "\n",
       "#sk-container-id-2 input.sk-hidden--visually {\n",
       "  border: 0;\n",
       "  clip: rect(1px 1px 1px 1px);\n",
       "  clip: rect(1px, 1px, 1px, 1px);\n",
       "  height: 1px;\n",
       "  margin: -1px;\n",
       "  overflow: hidden;\n",
       "  padding: 0;\n",
       "  position: absolute;\n",
       "  width: 1px;\n",
       "}\n",
       "\n",
       "#sk-container-id-2 div.sk-dashed-wrapped {\n",
       "  border: 1px dashed var(--sklearn-color-line);\n",
       "  margin: 0 0.4em 0.5em 0.4em;\n",
       "  box-sizing: border-box;\n",
       "  padding-bottom: 0.4em;\n",
       "  background-color: var(--sklearn-color-background);\n",
       "}\n",
       "\n",
       "#sk-container-id-2 div.sk-container {\n",
       "  /* jupyter's `normalize.less` sets `[hidden] { display: none; }`\n",
       "     but bootstrap.min.css set `[hidden] { display: none !important; }`\n",
       "     so we also need the `!important` here to be able to override the\n",
       "     default hidden behavior on the sphinx rendered scikit-learn.org.\n",
       "     See: https://github.com/scikit-learn/scikit-learn/issues/21755 */\n",
       "  display: inline-block !important;\n",
       "  position: relative;\n",
       "}\n",
       "\n",
       "#sk-container-id-2 div.sk-text-repr-fallback {\n",
       "  display: none;\n",
       "}\n",
       "\n",
       "div.sk-parallel-item,\n",
       "div.sk-serial,\n",
       "div.sk-item {\n",
       "  /* draw centered vertical line to link estimators */\n",
       "  background-image: linear-gradient(var(--sklearn-color-text-on-default-background), var(--sklearn-color-text-on-default-background));\n",
       "  background-size: 2px 100%;\n",
       "  background-repeat: no-repeat;\n",
       "  background-position: center center;\n",
       "}\n",
       "\n",
       "/* Parallel-specific style estimator block */\n",
       "\n",
       "#sk-container-id-2 div.sk-parallel-item::after {\n",
       "  content: \"\";\n",
       "  width: 100%;\n",
       "  border-bottom: 2px solid var(--sklearn-color-text-on-default-background);\n",
       "  flex-grow: 1;\n",
       "}\n",
       "\n",
       "#sk-container-id-2 div.sk-parallel {\n",
       "  display: flex;\n",
       "  align-items: stretch;\n",
       "  justify-content: center;\n",
       "  background-color: var(--sklearn-color-background);\n",
       "  position: relative;\n",
       "}\n",
       "\n",
       "#sk-container-id-2 div.sk-parallel-item {\n",
       "  display: flex;\n",
       "  flex-direction: column;\n",
       "}\n",
       "\n",
       "#sk-container-id-2 div.sk-parallel-item:first-child::after {\n",
       "  align-self: flex-end;\n",
       "  width: 50%;\n",
       "}\n",
       "\n",
       "#sk-container-id-2 div.sk-parallel-item:last-child::after {\n",
       "  align-self: flex-start;\n",
       "  width: 50%;\n",
       "}\n",
       "\n",
       "#sk-container-id-2 div.sk-parallel-item:only-child::after {\n",
       "  width: 0;\n",
       "}\n",
       "\n",
       "/* Serial-specific style estimator block */\n",
       "\n",
       "#sk-container-id-2 div.sk-serial {\n",
       "  display: flex;\n",
       "  flex-direction: column;\n",
       "  align-items: center;\n",
       "  background-color: var(--sklearn-color-background);\n",
       "  padding-right: 1em;\n",
       "  padding-left: 1em;\n",
       "}\n",
       "\n",
       "\n",
       "/* Toggleable style: style used for estimator/Pipeline/ColumnTransformer box that is\n",
       "clickable and can be expanded/collapsed.\n",
       "- Pipeline and ColumnTransformer use this feature and define the default style\n",
       "- Estimators will overwrite some part of the style using the `sk-estimator` class\n",
       "*/\n",
       "\n",
       "/* Pipeline and ColumnTransformer style (default) */\n",
       "\n",
       "#sk-container-id-2 div.sk-toggleable {\n",
       "  /* Default theme specific background. It is overwritten whether we have a\n",
       "  specific estimator or a Pipeline/ColumnTransformer */\n",
       "  background-color: var(--sklearn-color-background);\n",
       "}\n",
       "\n",
       "/* Toggleable label */\n",
       "#sk-container-id-2 label.sk-toggleable__label {\n",
       "  cursor: pointer;\n",
       "  display: block;\n",
       "  width: 100%;\n",
       "  margin-bottom: 0;\n",
       "  padding: 0.5em;\n",
       "  box-sizing: border-box;\n",
       "  text-align: center;\n",
       "}\n",
       "\n",
       "#sk-container-id-2 label.sk-toggleable__label-arrow:before {\n",
       "  /* Arrow on the left of the label */\n",
       "  content: \"▸\";\n",
       "  float: left;\n",
       "  margin-right: 0.25em;\n",
       "  color: var(--sklearn-color-icon);\n",
       "}\n",
       "\n",
       "#sk-container-id-2 label.sk-toggleable__label-arrow:hover:before {\n",
       "  color: var(--sklearn-color-text);\n",
       "}\n",
       "\n",
       "/* Toggleable content - dropdown */\n",
       "\n",
       "#sk-container-id-2 div.sk-toggleable__content {\n",
       "  max-height: 0;\n",
       "  max-width: 0;\n",
       "  overflow: hidden;\n",
       "  text-align: left;\n",
       "  /* unfitted */\n",
       "  background-color: var(--sklearn-color-unfitted-level-0);\n",
       "}\n",
       "\n",
       "#sk-container-id-2 div.sk-toggleable__content.fitted {\n",
       "  /* fitted */\n",
       "  background-color: var(--sklearn-color-fitted-level-0);\n",
       "}\n",
       "\n",
       "#sk-container-id-2 div.sk-toggleable__content pre {\n",
       "  margin: 0.2em;\n",
       "  border-radius: 0.25em;\n",
       "  color: var(--sklearn-color-text);\n",
       "  /* unfitted */\n",
       "  background-color: var(--sklearn-color-unfitted-level-0);\n",
       "}\n",
       "\n",
       "#sk-container-id-2 div.sk-toggleable__content.fitted pre {\n",
       "  /* unfitted */\n",
       "  background-color: var(--sklearn-color-fitted-level-0);\n",
       "}\n",
       "\n",
       "#sk-container-id-2 input.sk-toggleable__control:checked~div.sk-toggleable__content {\n",
       "  /* Expand drop-down */\n",
       "  max-height: 200px;\n",
       "  max-width: 100%;\n",
       "  overflow: auto;\n",
       "}\n",
       "\n",
       "#sk-container-id-2 input.sk-toggleable__control:checked~label.sk-toggleable__label-arrow:before {\n",
       "  content: \"▾\";\n",
       "}\n",
       "\n",
       "/* Pipeline/ColumnTransformer-specific style */\n",
       "\n",
       "#sk-container-id-2 div.sk-label input.sk-toggleable__control:checked~label.sk-toggleable__label {\n",
       "  color: var(--sklearn-color-text);\n",
       "  background-color: var(--sklearn-color-unfitted-level-2);\n",
       "}\n",
       "\n",
       "#sk-container-id-2 div.sk-label.fitted input.sk-toggleable__control:checked~label.sk-toggleable__label {\n",
       "  background-color: var(--sklearn-color-fitted-level-2);\n",
       "}\n",
       "\n",
       "/* Estimator-specific style */\n",
       "\n",
       "/* Colorize estimator box */\n",
       "#sk-container-id-2 div.sk-estimator input.sk-toggleable__control:checked~label.sk-toggleable__label {\n",
       "  /* unfitted */\n",
       "  background-color: var(--sklearn-color-unfitted-level-2);\n",
       "}\n",
       "\n",
       "#sk-container-id-2 div.sk-estimator.fitted input.sk-toggleable__control:checked~label.sk-toggleable__label {\n",
       "  /* fitted */\n",
       "  background-color: var(--sklearn-color-fitted-level-2);\n",
       "}\n",
       "\n",
       "#sk-container-id-2 div.sk-label label.sk-toggleable__label,\n",
       "#sk-container-id-2 div.sk-label label {\n",
       "  /* The background is the default theme color */\n",
       "  color: var(--sklearn-color-text-on-default-background);\n",
       "}\n",
       "\n",
       "/* On hover, darken the color of the background */\n",
       "#sk-container-id-2 div.sk-label:hover label.sk-toggleable__label {\n",
       "  color: var(--sklearn-color-text);\n",
       "  background-color: var(--sklearn-color-unfitted-level-2);\n",
       "}\n",
       "\n",
       "/* Label box, darken color on hover, fitted */\n",
       "#sk-container-id-2 div.sk-label.fitted:hover label.sk-toggleable__label.fitted {\n",
       "  color: var(--sklearn-color-text);\n",
       "  background-color: var(--sklearn-color-fitted-level-2);\n",
       "}\n",
       "\n",
       "/* Estimator label */\n",
       "\n",
       "#sk-container-id-2 div.sk-label label {\n",
       "  font-family: monospace;\n",
       "  font-weight: bold;\n",
       "  display: inline-block;\n",
       "  line-height: 1.2em;\n",
       "}\n",
       "\n",
       "#sk-container-id-2 div.sk-label-container {\n",
       "  text-align: center;\n",
       "}\n",
       "\n",
       "/* Estimator-specific */\n",
       "#sk-container-id-2 div.sk-estimator {\n",
       "  font-family: monospace;\n",
       "  border: 1px dotted var(--sklearn-color-border-box);\n",
       "  border-radius: 0.25em;\n",
       "  box-sizing: border-box;\n",
       "  margin-bottom: 0.5em;\n",
       "  /* unfitted */\n",
       "  background-color: var(--sklearn-color-unfitted-level-0);\n",
       "}\n",
       "\n",
       "#sk-container-id-2 div.sk-estimator.fitted {\n",
       "  /* fitted */\n",
       "  background-color: var(--sklearn-color-fitted-level-0);\n",
       "}\n",
       "\n",
       "/* on hover */\n",
       "#sk-container-id-2 div.sk-estimator:hover {\n",
       "  /* unfitted */\n",
       "  background-color: var(--sklearn-color-unfitted-level-2);\n",
       "}\n",
       "\n",
       "#sk-container-id-2 div.sk-estimator.fitted:hover {\n",
       "  /* fitted */\n",
       "  background-color: var(--sklearn-color-fitted-level-2);\n",
       "}\n",
       "\n",
       "/* Specification for estimator info (e.g. \"i\" and \"?\") */\n",
       "\n",
       "/* Common style for \"i\" and \"?\" */\n",
       "\n",
       ".sk-estimator-doc-link,\n",
       "a:link.sk-estimator-doc-link,\n",
       "a:visited.sk-estimator-doc-link {\n",
       "  float: right;\n",
       "  font-size: smaller;\n",
       "  line-height: 1em;\n",
       "  font-family: monospace;\n",
       "  background-color: var(--sklearn-color-background);\n",
       "  border-radius: 1em;\n",
       "  height: 1em;\n",
       "  width: 1em;\n",
       "  text-decoration: none !important;\n",
       "  margin-left: 1ex;\n",
       "  /* unfitted */\n",
       "  border: var(--sklearn-color-unfitted-level-1) 1pt solid;\n",
       "  color: var(--sklearn-color-unfitted-level-1);\n",
       "}\n",
       "\n",
       ".sk-estimator-doc-link.fitted,\n",
       "a:link.sk-estimator-doc-link.fitted,\n",
       "a:visited.sk-estimator-doc-link.fitted {\n",
       "  /* fitted */\n",
       "  border: var(--sklearn-color-fitted-level-1) 1pt solid;\n",
       "  color: var(--sklearn-color-fitted-level-1);\n",
       "}\n",
       "\n",
       "/* On hover */\n",
       "div.sk-estimator:hover .sk-estimator-doc-link:hover,\n",
       ".sk-estimator-doc-link:hover,\n",
       "div.sk-label-container:hover .sk-estimator-doc-link:hover,\n",
       ".sk-estimator-doc-link:hover {\n",
       "  /* unfitted */\n",
       "  background-color: var(--sklearn-color-unfitted-level-3);\n",
       "  color: var(--sklearn-color-background);\n",
       "  text-decoration: none;\n",
       "}\n",
       "\n",
       "div.sk-estimator.fitted:hover .sk-estimator-doc-link.fitted:hover,\n",
       ".sk-estimator-doc-link.fitted:hover,\n",
       "div.sk-label-container:hover .sk-estimator-doc-link.fitted:hover,\n",
       ".sk-estimator-doc-link.fitted:hover {\n",
       "  /* fitted */\n",
       "  background-color: var(--sklearn-color-fitted-level-3);\n",
       "  color: var(--sklearn-color-background);\n",
       "  text-decoration: none;\n",
       "}\n",
       "\n",
       "/* Span, style for the box shown on hovering the info icon */\n",
       ".sk-estimator-doc-link span {\n",
       "  display: none;\n",
       "  z-index: 9999;\n",
       "  position: relative;\n",
       "  font-weight: normal;\n",
       "  right: .2ex;\n",
       "  padding: .5ex;\n",
       "  margin: .5ex;\n",
       "  width: min-content;\n",
       "  min-width: 20ex;\n",
       "  max-width: 50ex;\n",
       "  color: var(--sklearn-color-text);\n",
       "  box-shadow: 2pt 2pt 4pt #999;\n",
       "  /* unfitted */\n",
       "  background: var(--sklearn-color-unfitted-level-0);\n",
       "  border: .5pt solid var(--sklearn-color-unfitted-level-3);\n",
       "}\n",
       "\n",
       ".sk-estimator-doc-link.fitted span {\n",
       "  /* fitted */\n",
       "  background: var(--sklearn-color-fitted-level-0);\n",
       "  border: var(--sklearn-color-fitted-level-3);\n",
       "}\n",
       "\n",
       ".sk-estimator-doc-link:hover span {\n",
       "  display: block;\n",
       "}\n",
       "\n",
       "/* \"?\"-specific style due to the `<a>` HTML tag */\n",
       "\n",
       "#sk-container-id-2 a.estimator_doc_link {\n",
       "  float: right;\n",
       "  font-size: 1rem;\n",
       "  line-height: 1em;\n",
       "  font-family: monospace;\n",
       "  background-color: var(--sklearn-color-background);\n",
       "  border-radius: 1rem;\n",
       "  height: 1rem;\n",
       "  width: 1rem;\n",
       "  text-decoration: none;\n",
       "  /* unfitted */\n",
       "  color: var(--sklearn-color-unfitted-level-1);\n",
       "  border: var(--sklearn-color-unfitted-level-1) 1pt solid;\n",
       "}\n",
       "\n",
       "#sk-container-id-2 a.estimator_doc_link.fitted {\n",
       "  /* fitted */\n",
       "  border: var(--sklearn-color-fitted-level-1) 1pt solid;\n",
       "  color: var(--sklearn-color-fitted-level-1);\n",
       "}\n",
       "\n",
       "/* On hover */\n",
       "#sk-container-id-2 a.estimator_doc_link:hover {\n",
       "  /* unfitted */\n",
       "  background-color: var(--sklearn-color-unfitted-level-3);\n",
       "  color: var(--sklearn-color-background);\n",
       "  text-decoration: none;\n",
       "}\n",
       "\n",
       "#sk-container-id-2 a.estimator_doc_link.fitted:hover {\n",
       "  /* fitted */\n",
       "  background-color: var(--sklearn-color-fitted-level-3);\n",
       "}\n",
       "</style><div id=\"sk-container-id-2\" class=\"sk-top-container\"><div class=\"sk-text-repr-fallback\"><pre>OneVsRestClassifier(estimator=SVC(kernel=&#x27;linear&#x27;, probability=True))</pre><b>In a Jupyter environment, please rerun this cell to show the HTML representation or trust the notebook. <br />On GitHub, the HTML representation is unable to render, please try loading this page with nbviewer.org.</b></div><div class=\"sk-container\" hidden><div class=\"sk-item sk-dashed-wrapped\"><div class=\"sk-label-container\"><div class=\"sk-label fitted sk-toggleable\"><input class=\"sk-toggleable__control sk-hidden--visually\" id=\"sk-estimator-id-2\" type=\"checkbox\" ><label for=\"sk-estimator-id-2\" class=\"sk-toggleable__label fitted sk-toggleable__label-arrow fitted\">&nbsp;&nbsp;OneVsRestClassifier<a class=\"sk-estimator-doc-link fitted\" rel=\"noreferrer\" target=\"_blank\" href=\"https://scikit-learn.org/1.5/modules/generated/sklearn.multiclass.OneVsRestClassifier.html\">?<span>Documentation for OneVsRestClassifier</span></a><span class=\"sk-estimator-doc-link fitted\">i<span>Fitted</span></span></label><div class=\"sk-toggleable__content fitted\"><pre>OneVsRestClassifier(estimator=SVC(kernel=&#x27;linear&#x27;, probability=True))</pre></div> </div></div><div class=\"sk-parallel\"><div class=\"sk-parallel-item\"><div class=\"sk-item\"><div class=\"sk-label-container\"><div class=\"sk-label fitted sk-toggleable\"><input class=\"sk-toggleable__control sk-hidden--visually\" id=\"sk-estimator-id-3\" type=\"checkbox\" ><label for=\"sk-estimator-id-3\" class=\"sk-toggleable__label fitted sk-toggleable__label-arrow fitted\">estimator: SVC</label><div class=\"sk-toggleable__content fitted\"><pre>SVC(kernel=&#x27;linear&#x27;, probability=True)</pre></div> </div></div><div class=\"sk-serial\"><div class=\"sk-item\"><div class=\"sk-estimator fitted sk-toggleable\"><input class=\"sk-toggleable__control sk-hidden--visually\" id=\"sk-estimator-id-4\" type=\"checkbox\" ><label for=\"sk-estimator-id-4\" class=\"sk-toggleable__label fitted sk-toggleable__label-arrow fitted\">&nbsp;SVC<a class=\"sk-estimator-doc-link fitted\" rel=\"noreferrer\" target=\"_blank\" href=\"https://scikit-learn.org/1.5/modules/generated/sklearn.svm.SVC.html\">?<span>Documentation for SVC</span></a></label><div class=\"sk-toggleable__content fitted\"><pre>SVC(kernel=&#x27;linear&#x27;, probability=True)</pre></div> </div></div></div></div></div></div></div></div></div>"
      ],
      "text/plain": [
       "OneVsRestClassifier(estimator=SVC(kernel='linear', probability=True))"
      ]
     },
     "execution_count": 17,
     "metadata": {},
     "output_type": "execute_result"
    }
   ],
   "source": [
    "# OvR classification\n",
    "classifier = OneVsRestClassifier(SVC(kernel='linear', probability=True))\n",
    "classifier.fit(X_train, y_train_bin)"
   ]
  },
  {
   "cell_type": "code",
   "execution_count": 18,
   "metadata": {},
   "outputs": [],
   "source": [
    "# Predict probabilities\n",
    "y_score = classifier.decision_function(X_test)"
   ]
  },
  {
   "cell_type": "code",
   "execution_count": 19,
   "metadata": {},
   "outputs": [],
   "source": [
    "import numpy as np\n",
    "from sklearn.metrics import roc_curve, auc\n",
    "\n",
    "# Example unique classes across train and test sets\n",
    "all_classes = np.unique(np.concatenate([y_train, y_test]))  # 96 classes\n",
    "test_classes = np.unique(y_test)  # 6 classes\n",
    "\n",
    "# Find the indices of test classes in the full set of classes\n",
    "relevant_indices = [np.where(all_classes == cls)[0][0] for cls in test_classes]\n",
    "\n",
    "# Ensure the binarized test set only includes the test classes\n",
    "y_test_bin = label_binarize(y_test, classes=test_classes)\n",
    "\n",
    "# Subset y_score to the relevant indices (only the columns corresponding to the test classes)\n",
    "y_score_subset = y_score[:, relevant_indices]\n",
    "\n",
    "# Now, calculate ROC curves for each relevant class\n",
    "fpr = dict()\n",
    "tpr = dict()\n",
    "roc_auc = dict()\n",
    "\n",
    "for i in range(y_test_bin.shape[1]):  # 6 classes\n",
    "    fpr[i], tpr[i], _ = roc_curve(y_test_bin[:, i], y_score_subset[:, i])\n",
    "    roc_auc[i] = auc(fpr[i], tpr[i])\n",
    "\n",
    "# Optionally, print or plot the ROC curves here\n"
   ]
  },
  {
   "cell_type": "code",
   "execution_count": 20,
   "metadata": {},
   "outputs": [
    {
     "name": "stdout",
     "output_type": "stream",
     "text": [
      "y_test_bin shape: (652, 15)\n",
      "y_score shape: (652, 15)\n"
     ]
    }
   ],
   "source": [
    "print(f\"y_test_bin shape: {y_test_bin.shape}\")  # Expected shape: (n_samples, 6)\n",
    "print(f\"y_score shape: {y_score.shape}\")        # Expected shape: (n_samples, 96)\n",
    "\n",
    "# Check that the number of classes in test matches the number you are evaluating\n",
    "assert y_test_bin.shape[1] == len(relevant_indices), \"Mismatch between test classes and relevant predictions!\""
   ]
  },
  {
   "cell_type": "code",
   "execution_count": 21,
   "metadata": {},
   "outputs": [
    {
     "data": {
      "image/png": "[encoded data removed]",
      "text/plain": [
       "<Figure size 640x480 with 1 Axes>"
      ]
     },
     "metadata": {},
     "output_type": "display_data"
    }
   ],
   "source": [
    "# Plot\n",
    "plt.figure()\n",
    "colors = ['aqua', 'darkorange', 'cornflowerblue']\n",
    "for i, color in zip(range(n_classes), colors):\n",
    "    plt.plot(fpr[i], tpr[i], color=color, lw=2,\n",
    "             label=f'ROC curve of class {i} (area = {roc_auc[i]:0.2f})')\n",
    "\n",
    "plt.plot([0, 1], [0, 1], 'k--', lw=2)\n",
    "plt.xlim([0.0, 1.0])\n",
    "plt.ylim([0.0, 1.05])\n",
    "plt.xlabel('False Positive Rate')\n",
    "plt.ylabel('True Positive Rate')\n",
    "plt.title('ROC Curve for Multiclass Classification')\n",
    "plt.legend(loc=\"lower right\")\n",
    "plt.show()"
   ]
  }
 ],
 "metadata": {
  "kernelspec": {
   "display_name": "media",
   "language": "python",
   "name": "python3"
  },
  "language_info": {
   "codemirror_mode": {
    "name": "ipython",
    "version": 3
   },
   "file_extension": ".py",
   "mimetype": "text/x-python",
   "name": "python",
   "nbconvert_exporter": "python",
   "pygments_lexer": "ipython3",
   "version": "3.12.3"
  },
  "toc-autonumbering": false,
  "toc-showcode": false,
  "toc-showmarkdowntxt": false,
  "toc-showtags": false
 },
 "nbformat": 4,
 "nbformat_minor": 4
}
