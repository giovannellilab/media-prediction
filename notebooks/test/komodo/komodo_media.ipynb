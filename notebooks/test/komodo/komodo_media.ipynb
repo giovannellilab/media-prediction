{
 "cells": [
  {
   "cell_type": "markdown",
   "id": "e70721ea-4fb3-49c3-be50-f8b997922f0b",
   "metadata": {},
   "source": [
    "Import dependencies"
   ]
  },
  {
   "cell_type": "code",
   "execution_count": 2,
   "id": "cc108191-97b8-4446-a5f1-b3437b2f1dff",
   "metadata": {
    "tags": []
   },
   "outputs": [],
   "source": [
    "import pandas as pd\n",
    "\n",
    "#Komodo tsv's with all information from the komodo.modelseed.org webpage\n",
    "komodo_media = pd.read_csv('komodo_media_original.txt', sep=\"\\t\") #media ID and media name\n",
    "komodo_taxa = pd.read_csv('komodo_taxa_original.txt', sep=\"\\t\") #taxon ID and media name"
   ]
  },
  {
   "cell_type": "markdown",
   "id": "6a58be3b-9eb2-43aa-8957-fd00167f299d",
   "metadata": {},
   "source": [
    "1.1 Format media list"
   ]
  },
  {
   "cell_type": "code",
   "execution_count": 4,
   "id": "907e9517-3187-429f-a10f-cb521bc26729",
   "metadata": {
    "tags": []
   },
   "outputs": [
    {
     "data": {
      "text/plain": [
       "171"
      ]
     },
     "execution_count": 4,
     "metadata": {},
     "output_type": "execute_result"
    }
   ],
   "source": [
    "# Formatting komodo media list to only include IDs for complex=false, aerobic=true, submedia=false\n",
    "complex = komodo_media[(komodo_media['Complex']==False)] #remove complex media\n",
    "aerobic = complex[(complex['Aerobic']==True)] #remove anaerobic media\n",
    "submedia = aerobic[(aerobic['SubMedium']==False)] #remove submedia\n",
    "kom_med = submedia[['ID','Name','PH']]\n",
    "kom_med = kom_med.rename(columns={'Name': 'Media list'}) #rename the media column to merge with taxa later\n",
    "len(kom_med)"
   ]
  },
  {
   "cell_type": "markdown",
   "id": "c51b256e-0a31-496b-b9b8-6f956cd20443",
   "metadata": {},
   "source": [
    "1.2 Format taxon list"
   ]
  },
  {
   "cell_type": "code",
   "execution_count": 6,
   "id": "8d10d2f8-ed74-432b-b5f7-edcea98ad259",
   "metadata": {
    "tags": []
   },
   "outputs": [
    {
     "data": {
      "text/plain": [
       "7627"
      ]
     },
     "execution_count": 6,
     "metadata": {},
     "output_type": "execute_result"
    }
   ],
   "source": [
    "# Formatting komodo taxon list to not include NaN values for 'Taxon ID', as this is what we use in the functions notebook\n",
    "kom_tax = komodo_taxa[['Taxon ID', 'Organism Name', 'Media list']].dropna(subset=['Taxon ID'])\n",
    "kom_tax['Taxon ID'] = kom_tax['Taxon ID'].astype(str).str.replace(\".0\", \"\") #make back into strings, dropna adds a '.0' value\n",
    "kom_tax = kom_tax.dropna(subset=['Media list']) #also dropping taxa with no associated media name\n",
    "len(kom_tax)"
   ]
  },
  {
   "cell_type": "markdown",
   "id": "48e4d445-0927-4a2d-bced-5c02856e2979",
   "metadata": {
    "tags": []
   },
   "source": [
    "1.3 Merge our lists"
   ]
  },
  {
   "cell_type": "code",
   "execution_count": 8,
   "id": "f9f75a76-87aa-4146-a37b-afd26a5446ed",
   "metadata": {
    "tags": []
   },
   "outputs": [
    {
     "data": {
      "text/html": [
       "<div>\n",
       "<style scoped>\n",
       "    .dataframe tbody tr th:only-of-type {\n",
       "        vertical-align: middle;\n",
       "    }\n",
       "\n",
       "    .dataframe tbody tr th {\n",
       "        vertical-align: top;\n",
       "    }\n",
       "\n",
       "    .dataframe thead th {\n",
       "        text-align: right;\n",
       "    }\n",
       "</style>\n",
       "<table border=\"1\" class=\"dataframe\">\n",
       "  <thead>\n",
       "    <tr style=\"text-align: right;\">\n",
       "      <th></th>\n",
       "      <th>Taxon ID</th>\n",
       "      <th>Organism Name</th>\n",
       "      <th>Media ID</th>\n",
       "      <th>Media list</th>\n",
       "    </tr>\n",
       "  </thead>\n",
       "  <tbody>\n",
       "    <tr>\n",
       "      <th>3</th>\n",
       "      <td>35830</td>\n",
       "      <td>Acetivibrio cellulolyticus</td>\n",
       "      <td>165</td>\n",
       "      <td>ACETIVIBRIO CELLULOLYTICUS MEDIUM</td>\n",
       "    </tr>\n",
       "    <tr>\n",
       "      <th>420</th>\n",
       "      <td>192843</td>\n",
       "      <td>Albidiferax ferrireducens</td>\n",
       "      <td>1001</td>\n",
       "      <td>BASAL MEDIUM</td>\n",
       "    </tr>\n",
       "    <tr>\n",
       "      <th>512</th>\n",
       "      <td>61596</td>\n",
       "      <td>Allochromatium minutissimum</td>\n",
       "      <td>28</td>\n",
       "      <td>PFENNIG'S MEDIUM I</td>\n",
       "    </tr>\n",
       "    <tr>\n",
       "      <th>515</th>\n",
       "      <td>1049</td>\n",
       "      <td>Allochromatium vinosum</td>\n",
       "      <td>28</td>\n",
       "      <td>PFENNIG'S MEDIUM I</td>\n",
       "    </tr>\n",
       "    <tr>\n",
       "      <th>516</th>\n",
       "      <td>61595</td>\n",
       "      <td>Allochromatium warmingii</td>\n",
       "      <td>28</td>\n",
       "      <td>PFENNIG'S MEDIUM I</td>\n",
       "    </tr>\n",
       "    <tr>\n",
       "      <th>...</th>\n",
       "      <td>...</td>\n",
       "      <td>...</td>\n",
       "      <td>...</td>\n",
       "      <td>...</td>\n",
       "    </tr>\n",
       "    <tr>\n",
       "      <th>7291</th>\n",
       "      <td>381300</td>\n",
       "      <td>Thiohalospira halophila</td>\n",
       "      <td>1058.1</td>\n",
       "      <td>For DSM 15070 and DSM 15071</td>\n",
       "    </tr>\n",
       "    <tr>\n",
       "      <th>7297</th>\n",
       "      <td>373391</td>\n",
       "      <td>Thiomicrospira halophila</td>\n",
       "      <td>1058</td>\n",
       "      <td>THIOHALOPHILUS MEDIUM</td>\n",
       "    </tr>\n",
       "    <tr>\n",
       "      <th>7301</th>\n",
       "      <td>265883</td>\n",
       "      <td>Thiomicrospira thermophila</td>\n",
       "      <td>1011</td>\n",
       "      <td>MJ MEDIUM</td>\n",
       "    </tr>\n",
       "    <tr>\n",
       "      <th>7308</th>\n",
       "      <td>394805</td>\n",
       "      <td>Thioprofundum hispidum</td>\n",
       "      <td>1011</td>\n",
       "      <td>MJ MEDIUM</td>\n",
       "    </tr>\n",
       "    <tr>\n",
       "      <th>7314</th>\n",
       "      <td>329406</td>\n",
       "      <td>Thiorhodococcus mannitoliphagus</td>\n",
       "      <td>28b</td>\n",
       "      <td>THIORHODOCOCCUS medium II</td>\n",
       "    </tr>\n",
       "  </tbody>\n",
       "</table>\n",
       "<p>193 rows × 4 columns</p>\n",
       "</div>"
      ],
      "text/plain": [
       "     Taxon ID                    Organism Name Media ID  \\\n",
       "3       35830       Acetivibrio cellulolyticus      165   \n",
       "420    192843        Albidiferax ferrireducens     1001   \n",
       "512     61596      Allochromatium minutissimum       28   \n",
       "515      1049           Allochromatium vinosum       28   \n",
       "516     61595         Allochromatium warmingii       28   \n",
       "...       ...                              ...      ...   \n",
       "7291   381300          Thiohalospira halophila   1058.1   \n",
       "7297   373391         Thiomicrospira halophila     1058   \n",
       "7301   265883       Thiomicrospira thermophila     1011   \n",
       "7308   394805           Thioprofundum hispidum     1011   \n",
       "7314   329406  Thiorhodococcus mannitoliphagus      28b   \n",
       "\n",
       "                             Media list  \n",
       "3     ACETIVIBRIO CELLULOLYTICUS MEDIUM  \n",
       "420                        BASAL MEDIUM  \n",
       "512                  PFENNIG'S MEDIUM I  \n",
       "515                  PFENNIG'S MEDIUM I  \n",
       "516                  PFENNIG'S MEDIUM I  \n",
       "...                                 ...  \n",
       "7291        For DSM 15070 and DSM 15071  \n",
       "7297              THIOHALOPHILUS MEDIUM  \n",
       "7301                          MJ MEDIUM  \n",
       "7308                          MJ MEDIUM  \n",
       "7314          THIORHODOCOCCUS medium II  \n",
       "\n",
       "[193 rows x 4 columns]"
      ]
     },
     "execution_count": 8,
     "metadata": {},
     "output_type": "execute_result"
    }
   ],
   "source": [
    "merged_df = kom_tax.merge(kom_med, on='Media list', how='left') #merged dataframe with media info for ALL taxon IDs\n",
    "onlyIDs = merged_df.dropna(subset=['ID']) #dropping all rows where there's no media ID\n",
    "onlyIDs = onlyIDs.rename(columns={'ID': 'Media ID'})\n",
    "results_df = onlyIDs[['Taxon ID','Organism Name','Media ID','Media list']]\n",
    "results_df"
   ]
  },
  {
   "cell_type": "markdown",
   "id": "4766b3bf-6252-4a20-88c4-2238889db026",
   "metadata": {},
   "source": [
    "2.1 [media_functions.ipynb] extracting ec numbers for each 'Taxon ID'"
   ]
  },
  {
   "cell_type": "code",
   "execution_count": 10,
   "id": "bdb90729-f7b5-4003-bed9-4d5ca8ddd82e",
   "metadata": {
    "tags": []
   },
   "outputs": [],
   "source": [
    "# Packages for KEGG compound ID extraction with a media component input\n",
    "from io import StringIO\n",
    "from Bio.KEGG import REST\n",
    "import re\n",
    "import requests\n",
    "from requests.adapters import HTTPAdapter, Retry\n",
    "\n",
    "# Initializing retry configuration for HTTP requests\n",
    "retries = Retry(\n",
    "    total=5,\n",
    "    backoff_factor=0.25,\n",
    "    status_forcelist=[500, 502, 503, 504]\n",
    ")\n",
    "session = requests.Session()\n",
    "session.mount(\"https://\", HTTPAdapter(max_retries=retries))\n",
    "\n",
    "# Initializing pagination (used for gathering ec numbers from Uniprot)\n",
    "def get_next_link(headers):\n",
    "    if \"Link\" in headers:\n",
    "        match = re_next_link.match(headers[\"Link\"])\n",
    "        if match:\n",
    "            return match.group(1)\n",
    "\n",
    "def get_batch(batch_url):\n",
    "    while batch_url:\n",
    "        response = session.get(batch_url)\n",
    "        response.raise_for_status()\n",
    "        total = response.headers[\"x-total-results\"]\n",
    "        yield response, total\n",
    "        batch_url = get_next_link(response.headers)"
   ]
  },
  {
   "cell_type": "markdown",
   "id": "d8333467-60d8-4511-b071-1875bbc6cb95",
   "metadata": {},
   "source": [
    "2.2 Format input for our function"
   ]
  },
  {
   "cell_type": "code",
   "execution_count": 12,
   "id": "669f7498-bbb4-4888-a54f-6200f85954f0",
   "metadata": {
    "tags": []
   },
   "outputs": [
    {
     "data": {
      "text/plain": [
       "193"
      ]
     },
     "execution_count": 12,
     "metadata": {},
     "output_type": "execute_result"
    }
   ],
   "source": [
    "taxonomy_ids = results_df['Taxon ID'].tolist()\n",
    "len(taxonomy_ids)"
   ]
  },
  {
   "cell_type": "markdown",
   "id": "12c7e958-fb38-4e6e-98c7-39b2b6c4e0e3",
   "metadata": {},
   "source": [
    "2.3 Retrieve ec numbers for our list of taxon IDs"
   ]
  },
  {
   "cell_type": "code",
   "execution_count": 19,
   "id": "1d5ed053-f9c9-4320-b808-3c9bf47fe98f",
   "metadata": {
    "tags": []
   },
   "outputs": [],
   "source": [
    "# Initialize an empty list to store DataFrame rows\n",
    "def taxa2ec():\n",
    "    taxa2ec_df = []\n",
    "\n",
    "    # REST API base URL\n",
    "    base_url = 'https://rest.uniprot.org/uniprotkb/search?fields=organism_id%2Cec&format=tsv&size=500'\n",
    "\n",
    "    for taxonomy_id in taxonomy_ids:\n",
    "        #url = f'{base_url}&query=organism_id%3A{taxonomy_id}'\n",
    "        url = f'{base_url}&query=taxonomy_id%3A{taxonomy_id}'\n",
    "        session = requests.Session()  # Initialize session\n",
    "        response = session.post(url)\n",
    "        response.raise_for_status()\n",
    "        lines = response.text.splitlines()\n",
    "    \n",
    "        # Iterate through lines to extract EC numbers\n",
    "        for line in lines[1:]:  # Skip header line\n",
    "            ec_number = line.split('\\t')[1]  # Assuming EC number is the second column\n",
    "            taxa2ec_df.append({\"Taxa ID\": taxonomy_id, \"Enzyme\": ec_number})\n",
    "\n",
    "    # Convert the list of dictionaries into a DataFrame\n",
    "    taxa2ec_df = pd.DataFrame(taxa2ec_df)\n",
    "    \n",
    "    return taxa2ec_df"
   ]
  },
  {
   "cell_type": "markdown",
   "id": "95bec23e-0ee4-4bdf-b9a5-2dd34ab07473",
   "metadata": {},
   "source": [
    "2.3.1 Formatting and output"
   ]
  },
  {
   "cell_type": "code",
   "execution_count": 22,
   "id": "c2d2e4dd-2902-40d9-b8d3-fafa9662b002",
   "metadata": {
    "tags": []
   },
   "outputs": [
    {
     "data": {
      "text/html": [
       "<div>\n",
       "<style scoped>\n",
       "    .dataframe tbody tr th:only-of-type {\n",
       "        vertical-align: middle;\n",
       "    }\n",
       "\n",
       "    .dataframe tbody tr th {\n",
       "        vertical-align: top;\n",
       "    }\n",
       "\n",
       "    .dataframe thead th {\n",
       "        text-align: right;\n",
       "    }\n",
       "</style>\n",
       "<table border=\"1\" class=\"dataframe\">\n",
       "  <thead>\n",
       "    <tr style=\"text-align: right;\">\n",
       "      <th></th>\n",
       "      <th>Taxa ID</th>\n",
       "      <th>Enzyme</th>\n",
       "    </tr>\n",
       "  </thead>\n",
       "  <tbody>\n",
       "    <tr>\n",
       "      <th>0</th>\n",
       "      <td>101192</td>\n",
       "      <td>[1.2.1.11, 6.3.4.2, 4.2.1.136,  5.1.99.6, 3.5....</td>\n",
       "    </tr>\n",
       "    <tr>\n",
       "      <th>1</th>\n",
       "      <td>1049</td>\n",
       "      <td>[4.1.1.39, 2.3.1.-, 2.8.5.2, 1.8.2.2, 1.8.5.6,...</td>\n",
       "    </tr>\n",
       "    <tr>\n",
       "      <th>2</th>\n",
       "      <td>1058</td>\n",
       "      <td>[4.2.1.131, 1.8.1.2, 1.8.4.8, 2.7.11.33,  2.7....</td>\n",
       "    </tr>\n",
       "    <tr>\n",
       "      <th>3</th>\n",
       "      <td>109258</td>\n",
       "      <td>[4.1.1.36,  6.3.2.5, 4.2.1.136,  5.1.99.6, 3.4...</td>\n",
       "    </tr>\n",
       "    <tr>\n",
       "      <th>4</th>\n",
       "      <td>115544</td>\n",
       "      <td>[4.1.1.36,  6.3.2.5, 2.5.1.19,  4.2.3.4, 1.1.1...</td>\n",
       "    </tr>\n",
       "    <tr>\n",
       "      <th>...</th>\n",
       "      <td>...</td>\n",
       "      <td>...</td>\n",
       "    </tr>\n",
       "    <tr>\n",
       "      <th>124</th>\n",
       "      <td>879</td>\n",
       "      <td>[1.17.1.9, 1.8.99.2, 1.-.-.-, 1.12.2.1, 1.2.99...</td>\n",
       "    </tr>\n",
       "    <tr>\n",
       "      <th>125</th>\n",
       "      <td>90732</td>\n",
       "      <td>[6.3.2.10,  6.3.2.13, 1.2.1.11, 6.3.4.16,  6.3...</td>\n",
       "    </tr>\n",
       "    <tr>\n",
       "      <th>126</th>\n",
       "      <td>936138</td>\n",
       "      <td>[2.3.1.157,  2.7.7.23, 1.2.1.11, 4.1.1.36,  6....</td>\n",
       "    </tr>\n",
       "    <tr>\n",
       "      <th>127</th>\n",
       "      <td>936456</td>\n",
       "      <td>[3.5.4.25,  4.1.99.12, 2.3.1.157,  2.7.7.23, 2...</td>\n",
       "    </tr>\n",
       "    <tr>\n",
       "      <th>128</th>\n",
       "      <td>990</td>\n",
       "      <td>[4.2.1.136,  5.1.99.6, 2.7.1.90, 3.5.4.25,  4....</td>\n",
       "    </tr>\n",
       "  </tbody>\n",
       "</table>\n",
       "<p>129 rows × 2 columns</p>\n",
       "</div>"
      ],
      "text/plain": [
       "    Taxa ID                                             Enzyme\n",
       "0    101192  [1.2.1.11, 6.3.4.2, 4.2.1.136,  5.1.99.6, 3.5....\n",
       "1      1049  [4.1.1.39, 2.3.1.-, 2.8.5.2, 1.8.2.2, 1.8.5.6,...\n",
       "2      1058  [4.2.1.131, 1.8.1.2, 1.8.4.8, 2.7.11.33,  2.7....\n",
       "3    109258  [4.1.1.36,  6.3.2.5, 4.2.1.136,  5.1.99.6, 3.4...\n",
       "4    115544  [4.1.1.36,  6.3.2.5, 2.5.1.19,  4.2.3.4, 1.1.1...\n",
       "..      ...                                                ...\n",
       "124     879  [1.17.1.9, 1.8.99.2, 1.-.-.-, 1.12.2.1, 1.2.99...\n",
       "125   90732  [6.3.2.10,  6.3.2.13, 1.2.1.11, 6.3.4.16,  6.3...\n",
       "126  936138  [2.3.1.157,  2.7.7.23, 1.2.1.11, 4.1.1.36,  6....\n",
       "127  936456  [3.5.4.25,  4.1.99.12, 2.3.1.157,  2.7.7.23, 2...\n",
       "128     990  [4.2.1.136,  5.1.99.6, 2.7.1.90, 3.5.4.25,  4....\n",
       "\n",
       "[129 rows x 2 columns]"
      ]
     },
     "execution_count": 22,
     "metadata": {},
     "output_type": "execute_result"
    }
   ],
   "source": [
    "df = taxa2ec()\n",
    "\n",
    "# NaN values are actually empty strings ' '; need to replace these and remove NaN\n",
    "df['Enzyme'].replace('', pd.NA, inplace=True)\n",
    "df.dropna(subset=['Enzyme'], inplace=True)\n",
    "\n",
    "# Due to syntax, I needed to group the enzymes together before re-exploding them to remove duplicates\n",
    "df = df.groupby('Taxa ID')['Enzyme'].agg(';'.join).reset_index()\n",
    "# Exploding 'Enzyme' column\n",
    "df['Enzyme'] = df['Enzyme'].str.split(';')\n",
    "df = df.explode('Enzyme')\n",
    "# Removing duplicates\n",
    "df = df.drop_duplicates()\n",
    "\n",
    "# Re-grouping the list by 'Taxa ID'\n",
    "df = df.groupby('Taxa ID')['Enzyme'].agg(list).reset_index()\n",
    "df"
   ]
  },
  {
   "cell_type": "code",
   "execution_count": 23,
   "id": "e52b2ebd-19a8-4047-a8db-d3bc9abd809c",
   "metadata": {
    "tags": []
   },
   "outputs": [
    {
     "data": {
      "text/html": [
       "<div>\n",
       "<style scoped>\n",
       "    .dataframe tbody tr th:only-of-type {\n",
       "        vertical-align: middle;\n",
       "    }\n",
       "\n",
       "    .dataframe tbody tr th {\n",
       "        vertical-align: top;\n",
       "    }\n",
       "\n",
       "    .dataframe thead th {\n",
       "        text-align: right;\n",
       "    }\n",
       "</style>\n",
       "<table border=\"1\" class=\"dataframe\">\n",
       "  <thead>\n",
       "    <tr style=\"text-align: right;\">\n",
       "      <th></th>\n",
       "      <th>Taxon ID</th>\n",
       "      <th>Organism Name</th>\n",
       "      <th>Media ID</th>\n",
       "      <th>Media list</th>\n",
       "      <th>Enzyme</th>\n",
       "    </tr>\n",
       "  </thead>\n",
       "  <tbody>\n",
       "    <tr>\n",
       "      <th>0</th>\n",
       "      <td>35830</td>\n",
       "      <td>Acetivibrio cellulolyticus</td>\n",
       "      <td>165</td>\n",
       "      <td>ACETIVIBRIO CELLULOLYTICUS MEDIUM</td>\n",
       "      <td>[3.2.1.4]</td>\n",
       "    </tr>\n",
       "    <tr>\n",
       "      <th>1</th>\n",
       "      <td>192843</td>\n",
       "      <td>Albidiferax ferrireducens</td>\n",
       "      <td>1001</td>\n",
       "      <td>BASAL MEDIUM</td>\n",
       "      <td>[6.3.4.2, 2.3.1.157,  2.7.7.23, 2.4.2.1,  2.4....</td>\n",
       "    </tr>\n",
       "    <tr>\n",
       "      <th>2</th>\n",
       "      <td>61596</td>\n",
       "      <td>Allochromatium minutissimum</td>\n",
       "      <td>28</td>\n",
       "      <td>PFENNIG'S MEDIUM I</td>\n",
       "      <td>[5.6.2.2]</td>\n",
       "    </tr>\n",
       "    <tr>\n",
       "      <th>3</th>\n",
       "      <td>1049</td>\n",
       "      <td>Allochromatium vinosum</td>\n",
       "      <td>28</td>\n",
       "      <td>PFENNIG'S MEDIUM I</td>\n",
       "      <td>[4.1.1.39, 2.3.1.-, 2.8.5.2, 1.8.2.2, 1.8.5.6,...</td>\n",
       "    </tr>\n",
       "    <tr>\n",
       "      <th>4</th>\n",
       "      <td>61595</td>\n",
       "      <td>Allochromatium warmingii</td>\n",
       "      <td>28</td>\n",
       "      <td>PFENNIG'S MEDIUM I</td>\n",
       "      <td>[2.4.2.1,  2.4.2.2, 2.1.1.163,  2.1.1.201, 3.1...</td>\n",
       "    </tr>\n",
       "    <tr>\n",
       "      <th>...</th>\n",
       "      <td>...</td>\n",
       "      <td>...</td>\n",
       "      <td>...</td>\n",
       "      <td>...</td>\n",
       "      <td>...</td>\n",
       "    </tr>\n",
       "    <tr>\n",
       "      <th>188</th>\n",
       "      <td>381300</td>\n",
       "      <td>Thiohalospira halophila</td>\n",
       "      <td>1058.1</td>\n",
       "      <td>For DSM 15070 and DSM 15071</td>\n",
       "      <td>[4.2.1.136,  5.1.99.6, 6.3.4.2, 3.1.26.12, 2.1...</td>\n",
       "    </tr>\n",
       "    <tr>\n",
       "      <th>189</th>\n",
       "      <td>373391</td>\n",
       "      <td>Thiomicrospira halophila</td>\n",
       "      <td>1058</td>\n",
       "      <td>THIOHALOPHILUS MEDIUM</td>\n",
       "      <td>NaN</td>\n",
       "    </tr>\n",
       "    <tr>\n",
       "      <th>190</th>\n",
       "      <td>265883</td>\n",
       "      <td>Thiomicrospira thermophila</td>\n",
       "      <td>1011</td>\n",
       "      <td>MJ MEDIUM</td>\n",
       "      <td>[1.3.1.76,  2.1.1.107,  4.99.1.4, 2.7.1.167,  ...</td>\n",
       "    </tr>\n",
       "    <tr>\n",
       "      <th>191</th>\n",
       "      <td>394805</td>\n",
       "      <td>Thioprofundum hispidum</td>\n",
       "      <td>1011</td>\n",
       "      <td>MJ MEDIUM</td>\n",
       "      <td>NaN</td>\n",
       "    </tr>\n",
       "    <tr>\n",
       "      <th>192</th>\n",
       "      <td>329406</td>\n",
       "      <td>Thiorhodococcus mannitoliphagus</td>\n",
       "      <td>28b</td>\n",
       "      <td>THIORHODOCOCCUS medium II</td>\n",
       "      <td>[1.3.1.76,  2.1.1.107,  4.99.1.4, 2.1.1.163,  ...</td>\n",
       "    </tr>\n",
       "  </tbody>\n",
       "</table>\n",
       "<p>193 rows × 5 columns</p>\n",
       "</div>"
      ],
      "text/plain": [
       "    Taxon ID                    Organism Name Media ID  \\\n",
       "0      35830       Acetivibrio cellulolyticus      165   \n",
       "1     192843        Albidiferax ferrireducens     1001   \n",
       "2      61596      Allochromatium minutissimum       28   \n",
       "3       1049           Allochromatium vinosum       28   \n",
       "4      61595         Allochromatium warmingii       28   \n",
       "..       ...                              ...      ...   \n",
       "188   381300          Thiohalospira halophila   1058.1   \n",
       "189   373391         Thiomicrospira halophila     1058   \n",
       "190   265883       Thiomicrospira thermophila     1011   \n",
       "191   394805           Thioprofundum hispidum     1011   \n",
       "192   329406  Thiorhodococcus mannitoliphagus      28b   \n",
       "\n",
       "                            Media list  \\\n",
       "0    ACETIVIBRIO CELLULOLYTICUS MEDIUM   \n",
       "1                         BASAL MEDIUM   \n",
       "2                   PFENNIG'S MEDIUM I   \n",
       "3                   PFENNIG'S MEDIUM I   \n",
       "4                   PFENNIG'S MEDIUM I   \n",
       "..                                 ...   \n",
       "188        For DSM 15070 and DSM 15071   \n",
       "189              THIOHALOPHILUS MEDIUM   \n",
       "190                          MJ MEDIUM   \n",
       "191                          MJ MEDIUM   \n",
       "192          THIORHODOCOCCUS medium II   \n",
       "\n",
       "                                                Enzyme  \n",
       "0                                            [3.2.1.4]  \n",
       "1    [6.3.4.2, 2.3.1.157,  2.7.7.23, 2.4.2.1,  2.4....  \n",
       "2                                            [5.6.2.2]  \n",
       "3    [4.1.1.39, 2.3.1.-, 2.8.5.2, 1.8.2.2, 1.8.5.6,...  \n",
       "4    [2.4.2.1,  2.4.2.2, 2.1.1.163,  2.1.1.201, 3.1...  \n",
       "..                                                 ...  \n",
       "188  [4.2.1.136,  5.1.99.6, 6.3.4.2, 3.1.26.12, 2.1...  \n",
       "189                                                NaN  \n",
       "190  [1.3.1.76,  2.1.1.107,  4.99.1.4, 2.7.1.167,  ...  \n",
       "191                                                NaN  \n",
       "192  [1.3.1.76,  2.1.1.107,  4.99.1.4, 2.1.1.163,  ...  \n",
       "\n",
       "[193 rows x 5 columns]"
      ]
     },
     "execution_count": 23,
     "metadata": {},
     "output_type": "execute_result"
    }
   ],
   "source": [
    "df2 = df.rename(columns={'Taxa ID': 'Taxon ID'})\n",
    "merged = results_df.merge(df2, on='Taxon ID', how='left')\n",
    "merged"
   ]
  },
  {
   "cell_type": "markdown",
   "id": "10871100-1a61-4a68-83c4-e4881fc6182a",
   "metadata": {},
   "source": [
    "NaN values in 'Enzyme' implies that there's no taxonomy_id listing for the given 'Taxon ID' within UniProtkb's database. \n",
    "\n",
    "Other considerations for this table: only Komodo entries with valid (no NaN) 'Taxon ID' AND 'Media ID' values were retained. The 'Media list' was filtered to only show [complex, aerobic, submedia] = [false, true, false], respectively.\n",
    "\n",
    "NEXT: write a function to pull compounds associated with these ec numbers (substrates, metal/ion transporters, etc)"
   ]
  },
  {
   "cell_type": "code",
   "execution_count": 27,
   "id": "d989131e-610c-420b-9dd8-8db0c8466632",
   "metadata": {
    "tags": []
   },
   "outputs": [],
   "source": [
    "#merged.to_csv('komodo-uniprot-media-ec.csv')"
   ]
  },
  {
   "cell_type": "code",
   "execution_count": 29,
   "id": "dfb9e0e3-0664-47b0-bc5d-7307b5e5802a",
   "metadata": {},
   "outputs": [
    {
     "data": {
      "text/plain": [
       "Taxon ID\n",
       "345632    662\n",
       "40983     656\n",
       "225194    642\n",
       "60035     622\n",
       "28232     576\n",
       "         ... \n",
       "198347      1\n",
       "646273      1\n",
       "392844      1\n",
       "241365      1\n",
       "35830       1\n",
       "Name: count, Length: 185, dtype: int64"
      ]
     },
     "execution_count": 29,
     "metadata": {},
     "output_type": "execute_result"
    }
   ],
   "source": [
    "merged.explode(\"Enzyme\").value_counts(\"Taxon ID\")\n"
   ]
  },
  {
   "cell_type": "code",
   "execution_count": null,
   "id": "d6997a9d-f55d-4c66-a616-00ac3bd78c2d",
   "metadata": {},
   "outputs": [],
   "source": []
  }
 ],
 "metadata": {
  "kernelspec": {
   "display_name": "Python 3 (ipykernel)",
   "language": "python",
   "name": "python3"
  },
  "language_info": {
   "codemirror_mode": {
    "name": "ipython",
    "version": 3
   },
   "file_extension": ".py",
   "mimetype": "text/x-python",
   "name": "python",
   "nbconvert_exporter": "python",
   "pygments_lexer": "ipython3",
   "version": "3.11.7"
  }
 },
 "nbformat": 4,
 "nbformat_minor": 5
}
