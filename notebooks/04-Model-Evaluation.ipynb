{
 "cells": [
  {
   "cell_type": "markdown",
   "metadata": {},
   "source": [
    "# Model Parameterization and Evaluation"
   ]
  },
  {
   "cell_type": "markdown",
   "metadata": {},
   "source": [
    "## Metabolic Model Inputs"
   ]
  },
  {
   "cell_type": "markdown",
   "metadata": {},
   "source": [
    "### Packages"
   ]
  },
  {
   "cell_type": "code",
   "execution_count": 2,
   "metadata": {},
   "outputs": [],
   "source": [
    "# General\n",
    "import pandas as pd\n",
    "import numpy as np\n",
    "import pandas as pd\n",
    "import os\n",
    "DATA_DIR = \"~/Desktop/code/data/\"\n",
    "\n",
    "# Pipeline\n",
    "from sklearn.pipeline import Pipeline\n",
    "\n",
    "from sklearn.model_selection import train_test_split\n",
    "from sklearn.preprocessing import StandardScaler \n",
    "\n",
    "from sklearn.decomposition import PCA \n",
    "import umap\n",
    "import hdbscan\n",
    "\n",
    "from sklearn import metrics\n",
    "from sklearn.metrics import silhouette_score\n",
    "from sklearn.cluster import KMeans\n",
    "\n",
    "# Visualization\n",
    "from matplotlib import pyplot as plt\n",
    "import plotly.express as px\n",
    "import plotly.graph_objects as go"
   ]
  },
  {
   "cell_type": "markdown",
   "metadata": {},
   "source": [
    "### Dataset"
   ]
  },
  {
   "cell_type": "code",
   "execution_count": 2,
   "metadata": {},
   "outputs": [
    {
     "data": {
      "text/html": [
       "<div>\n",
       "<style scoped>\n",
       "    .dataframe tbody tr th:only-of-type {\n",
       "        vertical-align: middle;\n",
       "    }\n",
       "\n",
       "    .dataframe tbody tr th {\n",
       "        vertical-align: top;\n",
       "    }\n",
       "\n",
       "    .dataframe thead th {\n",
       "        text-align: right;\n",
       "    }\n",
       "</style>\n",
       "<table border=\"1\" class=\"dataframe\">\n",
       "  <thead>\n",
       "    <tr style=\"text-align: right;\">\n",
       "      <th>ec</th>\n",
       "      <th>taxon_id</th>\n",
       "      <th>media_id</th>\n",
       "      <th>1.1.1.1</th>\n",
       "      <th>1.1.1.100</th>\n",
       "      <th>1.1.1.101</th>\n",
       "      <th>1.1.1.102</th>\n",
       "      <th>1.1.1.103</th>\n",
       "      <th>1.1.1.105</th>\n",
       "      <th>1.1.1.107</th>\n",
       "      <th>1.1.1.108</th>\n",
       "      <th>...</th>\n",
       "      <th>7.6.2.12</th>\n",
       "      <th>7.6.2.13</th>\n",
       "      <th>7.6.2.14</th>\n",
       "      <th>7.6.2.15</th>\n",
       "      <th>7.6.2.16</th>\n",
       "      <th>7.6.2.2</th>\n",
       "      <th>7.6.2.5</th>\n",
       "      <th>7.6.2.7</th>\n",
       "      <th>7.6.2.8</th>\n",
       "      <th>7.6.2.9</th>\n",
       "    </tr>\n",
       "  </thead>\n",
       "  <tbody>\n",
       "    <tr>\n",
       "      <th>0</th>\n",
       "      <td>100.0</td>\n",
       "      <td>J346</td>\n",
       "      <td>0.0</td>\n",
       "      <td>0.0</td>\n",
       "      <td>0.0</td>\n",
       "      <td>0.0</td>\n",
       "      <td>0.0</td>\n",
       "      <td>0.0</td>\n",
       "      <td>0.0</td>\n",
       "      <td>0.0</td>\n",
       "      <td>...</td>\n",
       "      <td>0.0</td>\n",
       "      <td>0.0</td>\n",
       "      <td>0.0</td>\n",
       "      <td>0.0</td>\n",
       "      <td>0.0</td>\n",
       "      <td>0.0</td>\n",
       "      <td>0.0</td>\n",
       "      <td>0.0</td>\n",
       "      <td>0.0</td>\n",
       "      <td>0.0</td>\n",
       "    </tr>\n",
       "    <tr>\n",
       "      <th>1</th>\n",
       "      <td>100.0</td>\n",
       "      <td>J386</td>\n",
       "      <td>1.0</td>\n",
       "      <td>0.0</td>\n",
       "      <td>0.0</td>\n",
       "      <td>0.0</td>\n",
       "      <td>0.0</td>\n",
       "      <td>0.0</td>\n",
       "      <td>0.0</td>\n",
       "      <td>0.0</td>\n",
       "      <td>...</td>\n",
       "      <td>0.0</td>\n",
       "      <td>0.0</td>\n",
       "      <td>0.0</td>\n",
       "      <td>0.0</td>\n",
       "      <td>0.0</td>\n",
       "      <td>0.0</td>\n",
       "      <td>0.0</td>\n",
       "      <td>0.0</td>\n",
       "      <td>0.0</td>\n",
       "      <td>0.0</td>\n",
       "    </tr>\n",
       "    <tr>\n",
       "      <th>2</th>\n",
       "      <td>100225.0</td>\n",
       "      <td>J233</td>\n",
       "      <td>0.0</td>\n",
       "      <td>0.0</td>\n",
       "      <td>0.0</td>\n",
       "      <td>0.0</td>\n",
       "      <td>0.0</td>\n",
       "      <td>0.0</td>\n",
       "      <td>0.0</td>\n",
       "      <td>0.0</td>\n",
       "      <td>...</td>\n",
       "      <td>0.0</td>\n",
       "      <td>0.0</td>\n",
       "      <td>0.0</td>\n",
       "      <td>0.0</td>\n",
       "      <td>0.0</td>\n",
       "      <td>0.0</td>\n",
       "      <td>0.0</td>\n",
       "      <td>0.0</td>\n",
       "      <td>0.0</td>\n",
       "      <td>0.0</td>\n",
       "    </tr>\n",
       "    <tr>\n",
       "      <th>3</th>\n",
       "      <td>1002526.0</td>\n",
       "      <td>J22</td>\n",
       "      <td>0.0</td>\n",
       "      <td>0.0</td>\n",
       "      <td>0.0</td>\n",
       "      <td>0.0</td>\n",
       "      <td>0.0</td>\n",
       "      <td>0.0</td>\n",
       "      <td>0.0</td>\n",
       "      <td>0.0</td>\n",
       "      <td>...</td>\n",
       "      <td>0.0</td>\n",
       "      <td>0.0</td>\n",
       "      <td>0.0</td>\n",
       "      <td>0.0</td>\n",
       "      <td>0.0</td>\n",
       "      <td>0.0</td>\n",
       "      <td>0.0</td>\n",
       "      <td>0.0</td>\n",
       "      <td>0.0</td>\n",
       "      <td>0.0</td>\n",
       "    </tr>\n",
       "    <tr>\n",
       "      <th>4</th>\n",
       "      <td>1004166.0</td>\n",
       "      <td>1a</td>\n",
       "      <td>1.0</td>\n",
       "      <td>0.0</td>\n",
       "      <td>0.0</td>\n",
       "      <td>0.0</td>\n",
       "      <td>1.0</td>\n",
       "      <td>0.0</td>\n",
       "      <td>0.0</td>\n",
       "      <td>0.0</td>\n",
       "      <td>...</td>\n",
       "      <td>0.0</td>\n",
       "      <td>0.0</td>\n",
       "      <td>0.0</td>\n",
       "      <td>0.0</td>\n",
       "      <td>0.0</td>\n",
       "      <td>0.0</td>\n",
       "      <td>0.0</td>\n",
       "      <td>0.0</td>\n",
       "      <td>0.0</td>\n",
       "      <td>0.0</td>\n",
       "    </tr>\n",
       "    <tr>\n",
       "      <th>...</th>\n",
       "      <td>...</td>\n",
       "      <td>...</td>\n",
       "      <td>...</td>\n",
       "      <td>...</td>\n",
       "      <td>...</td>\n",
       "      <td>...</td>\n",
       "      <td>...</td>\n",
       "      <td>...</td>\n",
       "      <td>...</td>\n",
       "      <td>...</td>\n",
       "      <td>...</td>\n",
       "      <td>...</td>\n",
       "      <td>...</td>\n",
       "      <td>...</td>\n",
       "      <td>...</td>\n",
       "      <td>...</td>\n",
       "      <td>...</td>\n",
       "      <td>...</td>\n",
       "      <td>...</td>\n",
       "      <td>...</td>\n",
       "      <td>...</td>\n",
       "    </tr>\n",
       "    <tr>\n",
       "      <th>8459</th>\n",
       "      <td>99655.0</td>\n",
       "      <td>J386</td>\n",
       "      <td>0.0</td>\n",
       "      <td>0.0</td>\n",
       "      <td>0.0</td>\n",
       "      <td>0.0</td>\n",
       "      <td>0.0</td>\n",
       "      <td>0.0</td>\n",
       "      <td>0.0</td>\n",
       "      <td>0.0</td>\n",
       "      <td>...</td>\n",
       "      <td>0.0</td>\n",
       "      <td>0.0</td>\n",
       "      <td>0.0</td>\n",
       "      <td>0.0</td>\n",
       "      <td>0.0</td>\n",
       "      <td>0.0</td>\n",
       "      <td>0.0</td>\n",
       "      <td>0.0</td>\n",
       "      <td>0.0</td>\n",
       "      <td>0.0</td>\n",
       "    </tr>\n",
       "    <tr>\n",
       "      <th>8460</th>\n",
       "      <td>99675.0</td>\n",
       "      <td>J14</td>\n",
       "      <td>0.0</td>\n",
       "      <td>0.0</td>\n",
       "      <td>0.0</td>\n",
       "      <td>0.0</td>\n",
       "      <td>0.0</td>\n",
       "      <td>0.0</td>\n",
       "      <td>0.0</td>\n",
       "      <td>0.0</td>\n",
       "      <td>...</td>\n",
       "      <td>0.0</td>\n",
       "      <td>0.0</td>\n",
       "      <td>0.0</td>\n",
       "      <td>0.0</td>\n",
       "      <td>0.0</td>\n",
       "      <td>0.0</td>\n",
       "      <td>0.0</td>\n",
       "      <td>0.0</td>\n",
       "      <td>0.0</td>\n",
       "      <td>0.0</td>\n",
       "    </tr>\n",
       "    <tr>\n",
       "      <th>8461</th>\n",
       "      <td>99675.0</td>\n",
       "      <td>J84</td>\n",
       "      <td>0.0</td>\n",
       "      <td>0.0</td>\n",
       "      <td>0.0</td>\n",
       "      <td>0.0</td>\n",
       "      <td>0.0</td>\n",
       "      <td>0.0</td>\n",
       "      <td>0.0</td>\n",
       "      <td>0.0</td>\n",
       "      <td>...</td>\n",
       "      <td>0.0</td>\n",
       "      <td>0.0</td>\n",
       "      <td>0.0</td>\n",
       "      <td>0.0</td>\n",
       "      <td>0.0</td>\n",
       "      <td>0.0</td>\n",
       "      <td>0.0</td>\n",
       "      <td>0.0</td>\n",
       "      <td>0.0</td>\n",
       "      <td>0.0</td>\n",
       "    </tr>\n",
       "    <tr>\n",
       "      <th>8462</th>\n",
       "      <td>99807.0</td>\n",
       "      <td>J26</td>\n",
       "      <td>0.0</td>\n",
       "      <td>0.0</td>\n",
       "      <td>0.0</td>\n",
       "      <td>0.0</td>\n",
       "      <td>0.0</td>\n",
       "      <td>0.0</td>\n",
       "      <td>0.0</td>\n",
       "      <td>0.0</td>\n",
       "      <td>...</td>\n",
       "      <td>0.0</td>\n",
       "      <td>0.0</td>\n",
       "      <td>0.0</td>\n",
       "      <td>0.0</td>\n",
       "      <td>0.0</td>\n",
       "      <td>0.0</td>\n",
       "      <td>0.0</td>\n",
       "      <td>0.0</td>\n",
       "      <td>0.0</td>\n",
       "      <td>0.0</td>\n",
       "    </tr>\n",
       "    <tr>\n",
       "      <th>8463</th>\n",
       "      <td>999931.0</td>\n",
       "      <td>J26</td>\n",
       "      <td>0.0</td>\n",
       "      <td>0.0</td>\n",
       "      <td>0.0</td>\n",
       "      <td>0.0</td>\n",
       "      <td>0.0</td>\n",
       "      <td>0.0</td>\n",
       "      <td>0.0</td>\n",
       "      <td>0.0</td>\n",
       "      <td>...</td>\n",
       "      <td>0.0</td>\n",
       "      <td>0.0</td>\n",
       "      <td>0.0</td>\n",
       "      <td>0.0</td>\n",
       "      <td>0.0</td>\n",
       "      <td>0.0</td>\n",
       "      <td>0.0</td>\n",
       "      <td>0.0</td>\n",
       "      <td>0.0</td>\n",
       "      <td>0.0</td>\n",
       "    </tr>\n",
       "  </tbody>\n",
       "</table>\n",
       "<p>8464 rows × 3636 columns</p>\n",
       "</div>"
      ],
      "text/plain": [
       "ec     taxon_id media_id  1.1.1.1  1.1.1.100  1.1.1.101  1.1.1.102  1.1.1.103  \\\n",
       "0         100.0     J346      0.0        0.0        0.0        0.0        0.0   \n",
       "1         100.0     J386      1.0        0.0        0.0        0.0        0.0   \n",
       "2      100225.0     J233      0.0        0.0        0.0        0.0        0.0   \n",
       "3     1002526.0      J22      0.0        0.0        0.0        0.0        0.0   \n",
       "4     1004166.0       1a      1.0        0.0        0.0        0.0        1.0   \n",
       "...         ...      ...      ...        ...        ...        ...        ...   \n",
       "8459    99655.0     J386      0.0        0.0        0.0        0.0        0.0   \n",
       "8460    99675.0      J14      0.0        0.0        0.0        0.0        0.0   \n",
       "8461    99675.0      J84      0.0        0.0        0.0        0.0        0.0   \n",
       "8462    99807.0      J26      0.0        0.0        0.0        0.0        0.0   \n",
       "8463   999931.0      J26      0.0        0.0        0.0        0.0        0.0   \n",
       "\n",
       "ec    1.1.1.105  1.1.1.107  1.1.1.108  ...  7.6.2.12  7.6.2.13  7.6.2.14  \\\n",
       "0           0.0        0.0        0.0  ...       0.0       0.0       0.0   \n",
       "1           0.0        0.0        0.0  ...       0.0       0.0       0.0   \n",
       "2           0.0        0.0        0.0  ...       0.0       0.0       0.0   \n",
       "3           0.0        0.0        0.0  ...       0.0       0.0       0.0   \n",
       "4           0.0        0.0        0.0  ...       0.0       0.0       0.0   \n",
       "...         ...        ...        ...  ...       ...       ...       ...   \n",
       "8459        0.0        0.0        0.0  ...       0.0       0.0       0.0   \n",
       "8460        0.0        0.0        0.0  ...       0.0       0.0       0.0   \n",
       "8461        0.0        0.0        0.0  ...       0.0       0.0       0.0   \n",
       "8462        0.0        0.0        0.0  ...       0.0       0.0       0.0   \n",
       "8463        0.0        0.0        0.0  ...       0.0       0.0       0.0   \n",
       "\n",
       "ec    7.6.2.15  7.6.2.16  7.6.2.2  7.6.2.5  7.6.2.7  7.6.2.8  7.6.2.9  \n",
       "0          0.0       0.0      0.0      0.0      0.0      0.0      0.0  \n",
       "1          0.0       0.0      0.0      0.0      0.0      0.0      0.0  \n",
       "2          0.0       0.0      0.0      0.0      0.0      0.0      0.0  \n",
       "3          0.0       0.0      0.0      0.0      0.0      0.0      0.0  \n",
       "4          0.0       0.0      0.0      0.0      0.0      0.0      0.0  \n",
       "...        ...       ...      ...      ...      ...      ...      ...  \n",
       "8459       0.0       0.0      0.0      0.0      0.0      0.0      0.0  \n",
       "8460       0.0       0.0      0.0      0.0      0.0      0.0      0.0  \n",
       "8461       0.0       0.0      0.0      0.0      0.0      0.0      0.0  \n",
       "8462       0.0       0.0      0.0      0.0      0.0      0.0      0.0  \n",
       "8463       0.0       0.0      0.0      0.0      0.0      0.0      0.0  \n",
       "\n",
       "[8464 rows x 3636 columns]"
      ]
     },
     "execution_count": 2,
     "metadata": {},
     "output_type": "execute_result"
    }
   ],
   "source": [
    "df = pd.read_csv(os.path.join(DATA_DIR, \"model\", \"ml_input.csv\"), low_memory=False)\n",
    "\n",
    "filter = df[\"ec\"].str.contains(\"-\") # filter non-specific ec numbers, e.g., 1.1.1.-\n",
    "df = df[~filter]\n",
    "\n",
    "df = df[[\"taxon_id\", \"media_id\", \"ec\"]].value_counts().reset_index()\n",
    "df = df.pivot(index=[\"taxon_id\", \"media_id\"], columns=\"ec\", values=\"count\")\n",
    "df = df.fillna(0.0).reset_index()\n",
    "\n",
    "# Filtering into training and test sets (database set vs. MAGs)\n",
    "bins = df[\"media_id\"].str.contains(\"unknown\")\n",
    "df_train = df[~bins]\n",
    "\n",
    "df_train"
   ]
  },
  {
   "cell_type": "markdown",
   "metadata": {},
   "source": [
    "## Model"
   ]
  },
  {
   "cell_type": "markdown",
   "metadata": {},
   "source": [
    "### Testing parameters"
   ]
  },
  {
   "cell_type": "code",
   "execution_count": 4,
   "metadata": {},
   "outputs": [
    {
     "name": "stderr",
     "output_type": "stream",
     "text": [
      "c:\\Users\\jakel\\anaconda3\\envs\\media\\Lib\\site-packages\\sklearn\\model_selection\\_search.py:1052: UserWarning: One or more of the test scores are non-finite: [nan nan nan nan nan nan nan nan nan nan nan nan nan nan nan nan nan nan\n",
      " nan nan nan nan nan nan nan nan nan nan nan nan nan nan nan nan nan nan\n",
      " nan nan nan nan nan nan nan nan nan nan nan nan nan nan]\n",
      "  warnings.warn(\n"
     ]
    },
    {
     "name": "stdout",
     "output_type": "stream",
     "text": [
      "Best Parameters: {'umap__n_neighbors': 40, 'umap__n_components': 30, 'umap__min_dist': 0.4}\n"
     ]
    }
   ],
   "source": [
    "from sklearn.model_selection import RandomizedSearchCV\n",
    "from sklearn.pipeline import Pipeline\n",
    "from sklearn.preprocessing import StandardScaler\n",
    "from sklearn.decomposition import PCA\n",
    "from sklearn.metrics import make_scorer, silhouette_score\n",
    "\n",
    "# Split the datasets into training and test sets\n",
    "TARGET = \"taxon_id\" # target label\n",
    "RANDOM_SEED = 47 # seed for random_state\n",
    "\n",
    "# Model validation with only labeled samples from data.ipynb\n",
    "X_train, X_test, y_train, y_test = train_test_split(\n",
    "    df_train.drop([\"taxon_id\", \"media_id\"], axis=1),\n",
    "    df_train[TARGET],\n",
    "    test_size=0.2,\n",
    "    random_state=RANDOM_SEED\n",
    ")\n",
    "\n",
    "# Define the pipeline\n",
    "pipeline = Pipeline([\n",
    "    ('scaler', StandardScaler()),  # Optional: scale data\n",
    "    ('pca', PCA(n_components=120)),  # Reduce dimensionality with PCA\n",
    "    ('umap', umap.UMAP(  # UMAP step\n",
    "        metric=\"euclidean\",\n",
    "        n_epochs=200,\n",
    "        random_state=RANDOM_SEED,\n",
    "        n_jobs=1\n",
    "    ))\n",
    "])\n",
    "\n",
    "# Define parameter grid with correct step names\n",
    "param_distributions = {\n",
    "    'umap__n_components': [10, 20, 30, 50],\n",
    "    'umap__n_neighbors': [40, 50, 60, 70], \n",
    "    'umap__min_dist': [0, 0.2, 0.4, 0.6]\n",
    "}\n",
    "\n",
    "# Custom scorer function\n",
    "def umap_silhouette(X, y):\n",
    "    embedding = X  # X here is already the transformed data by UMAP\n",
    "    return silhouette_score(embedding, y)\n",
    "\n",
    "# Wrap the custom scorer\n",
    "scorer = make_scorer(umap_silhouette, greater_is_better=True)\n",
    "\n",
    "# Initialize RandomizedSearchCV\n",
    "search = RandomizedSearchCV(\n",
    "    estimator=pipeline,\n",
    "    param_distributions=param_distributions,\n",
    "    n_iter=50,\n",
    "    cv=5,\n",
    "    random_state=RANDOM_SEED,\n",
    "    n_jobs=-1,\n",
    "    scoring=scorer\n",
    ")\n",
    "\n",
    "# Fit the search to your data\n",
    "search.fit(X_train, y_train)\n",
    "\n",
    "# Retrieve the best parameters\n",
    "best_params = search.best_params_\n",
    "best_model = search.best_estimator_\n",
    "\n",
    "print(\"Best Parameters:\", best_params)"
   ]
  },
  {
   "cell_type": "markdown",
   "metadata": {},
   "source": [
    "### Pipeline"
   ]
  },
  {
   "cell_type": "code",
   "execution_count": 22,
   "metadata": {},
   "outputs": [],
   "source": [
    "# Split the datasets into training and test sets\n",
    "TARGET = \"media_id\" # target label\n",
    "RANDOM_SEED = 47 # seed for random_state\n",
    "\n",
    "# Model validation with only labeled samples from data.ipynb\n",
    "X_train, X_test, y_train, y_test = train_test_split(\n",
    "    df_train.drop([\"taxon_id\", \"media_id\"], axis=1),\n",
    "    df_train[TARGET],\n",
    "    test_size=0.2,\n",
    "    random_state=RANDOM_SEED\n",
    ")"
   ]
  },
  {
   "cell_type": "code",
   "execution_count": 6,
   "metadata": {},
   "outputs": [],
   "source": [
    "# sklearn pipeline helps prevent data leakage; incorporate individual steps here\n",
    "pipeline = Pipeline([\n",
    "    ('scaler', StandardScaler()),    # Scale data (optional)\n",
    "    ('pca', PCA(n_components=120)),   # Reduce dimensionality with PCA\n",
    "    ('umap', umap.UMAP(              # Further reduce with UMAP\n",
    "        metric=\"euclidean\",\n",
    "        n_epochs=200, #200 recommended for large datasets, higher => stricter clustering\n",
    "        random_state=RANDOM_SEED,\n",
    "        n_jobs=1,\n",
    "        n_components=30,\n",
    "        n_neighbors=40,\n",
    "        min_dist=0.4\n",
    "        )) \n",
    "])"
   ]
  },
  {
   "cell_type": "markdown",
   "metadata": {},
   "source": [
    "### Fit and transform"
   ]
  },
  {
   "cell_type": "code",
   "execution_count": 7,
   "metadata": {},
   "outputs": [],
   "source": [
    "# Fit and transform the pipeline on the training and test data\n",
    "X_train_transformed = pipeline.fit_transform(X_train) # fit pipeline and transform training data\n",
    "X_test_transformed = pipeline.transform(X_test) # transform test data"
   ]
  },
  {
   "cell_type": "markdown",
   "metadata": {},
   "source": [
    "### Optimizing n_clusters"
   ]
  },
  {
   "cell_type": "code",
   "execution_count": 8,
   "metadata": {},
   "outputs": [
    {
     "name": "stdout",
     "output_type": "stream",
     "text": [
      "173 clusters returns a maximum Silhouette Coefficient of 0.6888360381126404\n"
     ]
    }
   ],
   "source": [
    "# Silhouette coefficient method\n",
    "from sklearn.metrics import silhouette_score\n",
    "from sklearn.cluster import KMeans\n",
    "\n",
    "# Test a range of clusters for their silhouette coefficients\n",
    "clusters = []\n",
    "for n_cluster in range(10, 200):\n",
    "    kmeans = KMeans(n_clusters=n_cluster).fit(X_train_transformed)\n",
    "    label = kmeans.labels_\n",
    "    sil_coeff = silhouette_score(X_train_transformed, label, metric='euclidean')\n",
    "    clusters.append({'n_clusters': n_cluster, 'coefficient': sil_coeff})\n",
    "\n",
    "# Select the maximum coefficient\n",
    "clusters = pd.DataFrame(clusters)\n",
    "c = clusters.iloc[clusters[\"coefficient\"].argmax()][\"n_clusters\"]\n",
    "s = clusters[\"coefficient\"].max()\n",
    "n = int(c)\n",
    "\n",
    "print(\"{} clusters returns a maximum Silhouette Coefficient of {}\".format(n, s))"
   ]
  },
  {
   "cell_type": "code",
   "execution_count": 9,
   "metadata": {},
   "outputs": [],
   "source": [
    "# Cluster using maximum coefficient's n_clusters\n",
    "clusterer = KMeans(n_clusters=n, random_state=RANDOM_SEED)\n",
    "cluster_labels = clusterer.fit_predict(X_train_transformed)\n",
    "test_clusters = clusterer.predict(X_test_transformed)"
   ]
  },
  {
   "cell_type": "markdown",
   "metadata": {},
   "source": [
    "### Metrics"
   ]
  },
  {
   "cell_type": "code",
   "execution_count": 10,
   "metadata": {},
   "outputs": [
    {
     "name": "stdout",
     "output_type": "stream",
     "text": [
      "Total PCA explained variance: 0.8536006634125857\n",
      "173 KMeans training clusters\n",
      "Average Silhouette Score on KMeans clusters: 0.6803547739982605\n"
     ]
    }
   ],
   "source": [
    "# Initial dimensionality reduction performance (PCA)\n",
    "pca = pipeline.named_steps['pca']\n",
    "explained_variance = pca.explained_variance_ratio_\n",
    "print(f\"Total PCA explained variance: {explained_variance.sum()}\")\n",
    "\n",
    "# Further dimensionality reduction and clustering performance\n",
    "silhouette_avg = silhouette_score(X_train_transformed, cluster_labels)\n",
    "print(clusterer.labels_.max()+1, \"KMeans training clusters\")\n",
    "print(f\"Average Silhouette Score on KMeans clusters: {silhouette_avg}\")\n",
    "    # Silhouette score <=0.25 implies poor clustering, 0.25<x<=0.50 is fair, <50 is good"
   ]
  },
  {
   "cell_type": "code",
   "execution_count": 11,
   "metadata": {},
   "outputs": [
    {
     "name": "stdout",
     "output_type": "stream",
     "text": [
      "138 hdbscan training clusters\n",
      "Silhouette Score on hdbscan clusters: 0.5238796472549438\n"
     ]
    }
   ],
   "source": [
    "# Compare to hdbscan clustering \n",
    "\n",
    "# Apply HDBSCAN clustering on the transformed training data\n",
    "hclusterer = hdbscan.HDBSCAN(\n",
    "    min_samples=5, \n",
    "    min_cluster_size=15, \n",
    "    #gen_min_span_tree=True, \n",
    "    prediction_data=True # cluster_selection_method=\"leaf\", for more fine-grained clustering\n",
    ")\n",
    "hcluster_labels = hclusterer.fit_predict(X_train_transformed)\n",
    "\n",
    "# Clustering performance (UMAP and hdbscan)\n",
    "hsilhouette_avg = silhouette_score(X_train_transformed, hcluster_labels)\n",
    "print(hclusterer.labels_.max(), \"hdbscan training clusters\")\n",
    "print(f\"Silhouette Score on hdbscan clusters: {hsilhouette_avg}\")\n",
    "\n",
    "# Convert to numpy array for hdbscan and predict clustering\n",
    "#test_points = test_df[[\"Component 1\", \"Component 2\"]].to_numpy()\n",
    "#test_labels, strengths = hdbscan.approximate_predict(clusterer, test_points)\n",
    "\n",
    "# Optional constraints\n",
    "#filtered = train_df[train_df['Cluster'] >= 0]\n",
    "#test_labels = clusterer.fit_predict(X_test_transformed)"
   ]
  },
  {
   "cell_type": "markdown",
   "metadata": {},
   "source": [
    "## Classifier"
   ]
  },
  {
   "cell_type": "code",
   "execution_count": 12,
   "metadata": {},
   "outputs": [],
   "source": [
    "import sklearn\n",
    "from sklearn.ensemble import RandomForestClassifier\n",
    "from sklearn.metrics import classification_report\n",
    "from sklearn.neighbors import KNeighborsClassifier"
   ]
  },
  {
   "cell_type": "code",
   "execution_count": 13,
   "metadata": {},
   "outputs": [],
   "source": [
    "y2_train = cluster_labels\n",
    "y2_test = test_clusters"
   ]
  },
  {
   "cell_type": "markdown",
   "metadata": {},
   "source": [
    "### Random Forest"
   ]
  },
  {
   "cell_type": "code",
   "execution_count": 14,
   "metadata": {},
   "outputs": [
    {
     "name": "stdout",
     "output_type": "stream",
     "text": [
      "[ 14 142   9 ...  92  95 104]\n"
     ]
    }
   ],
   "source": [
    "rfc = RandomForestClassifier(\n",
    "    n_estimators=100,\n",
    "    n_jobs=-1,\n",
    "    random_state=RANDOM_SEED\n",
    ")\n",
    "\n",
    "rfc.fit(X_train_transformed, y2_train)\n",
    "print(rfc.predict(X_test_transformed))"
   ]
  },
  {
   "cell_type": "code",
   "execution_count": 15,
   "metadata": {},
   "outputs": [
    {
     "name": "stdout",
     "output_type": "stream",
     "text": [
      "              precision    recall  f1-score   support\n",
      "\n",
      "           0       1.00      1.00      1.00        24\n",
      "           1       0.87      1.00      0.93        13\n",
      "           2       1.00      0.98      0.99        44\n",
      "           3       1.00      1.00      1.00         7\n",
      "           4       1.00      0.88      0.93         8\n",
      "           5       1.00      1.00      1.00        45\n",
      "           6       1.00      1.00      1.00        52\n",
      "           7       1.00      1.00      1.00        41\n",
      "           8       1.00      1.00      1.00        27\n",
      "           9       1.00      1.00      1.00        34\n",
      "          10       1.00      1.00      1.00        18\n",
      "          11       1.00      1.00      1.00         9\n",
      "          12       1.00      1.00      1.00        49\n",
      "          13       1.00      1.00      1.00         8\n",
      "          14       1.00      1.00      1.00        12\n",
      "          15       1.00      1.00      1.00         3\n",
      "          16       1.00      1.00      1.00        15\n",
      "          17       1.00      1.00      1.00        22\n",
      "          18       1.00      1.00      1.00        11\n",
      "          19       1.00      1.00      1.00         6\n",
      "          20       1.00      0.95      0.97        19\n",
      "          22       0.75      0.69      0.72        13\n",
      "          23       1.00      1.00      1.00        18\n",
      "          25       0.97      1.00      0.99        34\n",
      "          26       1.00      1.00      1.00         3\n",
      "          27       1.00      1.00      1.00        18\n",
      "          28       1.00      1.00      1.00         7\n",
      "          29       1.00      0.80      0.89         5\n",
      "          30       1.00      1.00      1.00        12\n",
      "          31       0.67      1.00      0.80         2\n",
      "          32       1.00      1.00      1.00        13\n",
      "          33       0.88      0.88      0.88         8\n",
      "          34       1.00      1.00      1.00         4\n",
      "          35       1.00      1.00      1.00         6\n",
      "          36       1.00      1.00      1.00        12\n",
      "          37       1.00      1.00      1.00         6\n",
      "          38       1.00      1.00      1.00         9\n",
      "          39       1.00      1.00      1.00        13\n",
      "          40       1.00      1.00      1.00         3\n",
      "          41       1.00      1.00      1.00         6\n",
      "          42       1.00      1.00      1.00         3\n",
      "          44       1.00      1.00      1.00         3\n",
      "          45       1.00      1.00      1.00        12\n",
      "          46       1.00      1.00      1.00        14\n",
      "          47       1.00      1.00      1.00         6\n",
      "          48       1.00      1.00      1.00         3\n",
      "          49       1.00      0.80      0.89         5\n",
      "          50       1.00      1.00      1.00         1\n",
      "          51       1.00      1.00      1.00         4\n",
      "          52       1.00      1.00      1.00         4\n",
      "          53       0.67      1.00      0.80         2\n",
      "          54       1.00      1.00      1.00         1\n",
      "          55       1.00      1.00      1.00         1\n",
      "          56       1.00      1.00      1.00         1\n",
      "          57       1.00      1.00      1.00        33\n",
      "          58       1.00      1.00      1.00         3\n",
      "          59       1.00      1.00      1.00         1\n",
      "          60       1.00      1.00      1.00         1\n",
      "          61       1.00      1.00      1.00         2\n",
      "          62       1.00      0.91      0.95        11\n",
      "          63       1.00      1.00      1.00         2\n",
      "          64       0.83      0.91      0.87        11\n",
      "          65       0.75      1.00      0.86         3\n",
      "          66       1.00      1.00      1.00        12\n",
      "          68       1.00      1.00      1.00         5\n",
      "          69       1.00      1.00      1.00         8\n",
      "          70       1.00      1.00      1.00         9\n",
      "          71       0.00      0.00      0.00         1\n",
      "          72       1.00      1.00      1.00         7\n",
      "          73       1.00      1.00      1.00         4\n",
      "          74       1.00      1.00      1.00         3\n",
      "          75       1.00      1.00      1.00         2\n",
      "          76       1.00      1.00      1.00        12\n",
      "          77       1.00      1.00      1.00        17\n",
      "          78       1.00      1.00      1.00         7\n",
      "          79       1.00      1.00      1.00        12\n",
      "          81       1.00      1.00      1.00         1\n",
      "          82       1.00      1.00      1.00         7\n",
      "          83       0.75      1.00      0.86         9\n",
      "          84       1.00      1.00      1.00         4\n",
      "          85       1.00      0.87      0.93        15\n",
      "          86       1.00      1.00      1.00         5\n",
      "          87       1.00      1.00      1.00         6\n",
      "          88       1.00      0.88      0.93         8\n",
      "          89       0.95      1.00      0.97        19\n",
      "          91       1.00      1.00      1.00         8\n",
      "          92       0.96      0.96      0.96        25\n",
      "          93       1.00      1.00      1.00         5\n",
      "          94       1.00      1.00      1.00         5\n",
      "          95       0.95      0.95      0.95        20\n",
      "          96       0.90      1.00      0.95         9\n",
      "          97       0.89      1.00      0.94         8\n",
      "          98       1.00      0.80      0.89        10\n",
      "          99       1.00      1.00      1.00         1\n",
      "         100       0.88      1.00      0.94        15\n",
      "         101       1.00      1.00      1.00         2\n",
      "         102       1.00      1.00      1.00         8\n",
      "         103       1.00      0.67      0.80         3\n",
      "         104       0.89      1.00      0.94         8\n",
      "         105       1.00      1.00      1.00        18\n",
      "         106       1.00      1.00      1.00        13\n",
      "         107       1.00      1.00      1.00         4\n",
      "         108       1.00      1.00      1.00        21\n",
      "         109       1.00      1.00      1.00         9\n",
      "         110       0.80      1.00      0.89         4\n",
      "         111       0.69      0.90      0.78        10\n",
      "         112       1.00      1.00      1.00        16\n",
      "         113       1.00      1.00      1.00        15\n",
      "         114       1.00      1.00      1.00        14\n",
      "         115       1.00      0.80      0.89         5\n",
      "         116       1.00      1.00      1.00         1\n",
      "         117       0.95      0.91      0.93        23\n",
      "         118       1.00      1.00      1.00         7\n",
      "         119       1.00      1.00      1.00         8\n",
      "         120       1.00      1.00      1.00         6\n",
      "         121       1.00      0.94      0.97        16\n",
      "         122       1.00      0.91      0.95        11\n",
      "         123       0.88      1.00      0.93        28\n",
      "         124       1.00      1.00      1.00         5\n",
      "         125       1.00      1.00      1.00        12\n",
      "         126       0.67      1.00      0.80         2\n",
      "         128       1.00      1.00      1.00         3\n",
      "         129       0.82      0.82      0.82        22\n",
      "         130       1.00      0.90      0.95        10\n",
      "         131       0.70      0.70      0.70        10\n",
      "         132       1.00      1.00      1.00         3\n",
      "         133       1.00      1.00      1.00        13\n",
      "         134       1.00      0.86      0.92         7\n",
      "         135       1.00      1.00      1.00         3\n",
      "         136       1.00      0.75      0.86         4\n",
      "         137       1.00      1.00      1.00         7\n",
      "         138       0.90      1.00      0.95         9\n",
      "         139       1.00      1.00      1.00         5\n",
      "         140       0.93      1.00      0.96        13\n",
      "         141       1.00      1.00      1.00         2\n",
      "         142       0.89      0.80      0.84        10\n",
      "         143       1.00      1.00      1.00         5\n",
      "         144       1.00      1.00      1.00         2\n",
      "         145       1.00      1.00      1.00         2\n",
      "         146       1.00      0.82      0.90        28\n",
      "         147       1.00      1.00      1.00         8\n",
      "         148       0.94      1.00      0.97        31\n",
      "         149       1.00      1.00      1.00         6\n",
      "         150       1.00      1.00      1.00         1\n",
      "         151       1.00      1.00      1.00         3\n",
      "         152       1.00      1.00      1.00         5\n",
      "         153       1.00      0.67      0.80         3\n",
      "         154       0.87      0.93      0.90        14\n",
      "         155       1.00      1.00      1.00        10\n",
      "         156       1.00      0.80      0.89        10\n",
      "         157       0.80      1.00      0.89         4\n",
      "         158       0.85      1.00      0.92        17\n",
      "         159       1.00      1.00      1.00        12\n",
      "         161       1.00      0.50      0.67         2\n",
      "         162       1.00      1.00      1.00         1\n",
      "         163       1.00      1.00      1.00        11\n",
      "         164       1.00      0.67      0.80         3\n",
      "         165       1.00      0.82      0.90        11\n",
      "         167       0.76      0.93      0.84        14\n",
      "         168       1.00      1.00      1.00         4\n",
      "         169       1.00      0.77      0.87        13\n",
      "         170       0.89      1.00      0.94         8\n",
      "         171       1.00      1.00      1.00         4\n",
      "         172       1.00      0.83      0.91         6\n",
      "\n",
      "    accuracy                           0.97      1693\n",
      "   macro avg       0.96      0.96      0.96      1693\n",
      "weighted avg       0.97      0.97      0.97      1693\n",
      "\n",
      "RF ROC AUC score: 0.999762130713456\n"
     ]
    }
   ],
   "source": [
    "report = classification_report(\n",
    "    y_true=y2_test,\n",
    "    y_pred=rfc.predict(X_test_transformed),\n",
    "    zero_division=0.0 # Default: set to \"warn\", or float {0.0, 1.0}\n",
    ")\n",
    "\n",
    "roc_score = metrics.roc_auc_score(\n",
    "    y_true=y2_test,\n",
    "    y_score=rfc.predict_proba(X_test_transformed),\n",
    "    labels=np.unique(y2_train),\n",
    "    average=\"weighted\",\n",
    "    multi_class=\"ovo\"\n",
    ")\n",
    "\n",
    "print(report)\n",
    "print(\"RF ROC AUC score:\", roc_score)"
   ]
  },
  {
   "cell_type": "markdown",
   "metadata": {},
   "source": [
    "### Nearest Neighbors"
   ]
  },
  {
   "cell_type": "code",
   "execution_count": 16,
   "metadata": {},
   "outputs": [
    {
     "name": "stdout",
     "output_type": "stream",
     "text": [
      "[ 14 142   9 ...  92  33 104]\n"
     ]
    }
   ],
   "source": [
    "knc= KNeighborsClassifier(n_neighbors=10)\n",
    "knc.fit(X_train_transformed, cluster_labels)\n",
    "distances, indices = knc.kneighbors(X_test_transformed)\n",
    "\n",
    "print(knc.predict(X_test_transformed))"
   ]
  },
  {
   "cell_type": "code",
   "execution_count": 17,
   "metadata": {},
   "outputs": [
    {
     "name": "stdout",
     "output_type": "stream",
     "text": [
      "              precision    recall  f1-score   support\n",
      "\n",
      "           0       1.00      1.00      1.00        24\n",
      "           1       0.76      1.00      0.87        13\n",
      "           2       1.00      1.00      1.00        44\n",
      "           3       1.00      0.86      0.92         7\n",
      "           4       1.00      0.88      0.93         8\n",
      "           5       1.00      1.00      1.00        45\n",
      "           6       1.00      1.00      1.00        52\n",
      "           7       1.00      1.00      1.00        41\n",
      "           8       1.00      1.00      1.00        27\n",
      "           9       1.00      0.94      0.97        34\n",
      "          10       1.00      1.00      1.00        18\n",
      "          11       1.00      1.00      1.00         9\n",
      "          12       1.00      1.00      1.00        49\n",
      "          13       1.00      1.00      1.00         8\n",
      "          14       1.00      1.00      1.00        12\n",
      "          15       1.00      1.00      1.00         3\n",
      "          16       1.00      1.00      1.00        15\n",
      "          17       1.00      1.00      1.00        22\n",
      "          18       1.00      1.00      1.00        11\n",
      "          19       1.00      1.00      1.00         6\n",
      "          20       1.00      1.00      1.00        19\n",
      "          22       0.77      0.77      0.77        13\n",
      "          23       1.00      1.00      1.00        18\n",
      "          25       1.00      1.00      1.00        34\n",
      "          26       1.00      1.00      1.00         3\n",
      "          27       1.00      1.00      1.00        18\n",
      "          28       1.00      1.00      1.00         7\n",
      "          29       1.00      1.00      1.00         5\n",
      "          30       1.00      1.00      1.00        12\n",
      "          31       0.67      1.00      0.80         2\n",
      "          32       1.00      1.00      1.00        13\n",
      "          33       0.78      0.88      0.82         8\n",
      "          34       1.00      1.00      1.00         4\n",
      "          35       1.00      1.00      1.00         6\n",
      "          36       1.00      1.00      1.00        12\n",
      "          37       1.00      1.00      1.00         6\n",
      "          38       1.00      1.00      1.00         9\n",
      "          39       1.00      1.00      1.00        13\n",
      "          40       1.00      1.00      1.00         3\n",
      "          41       1.00      1.00      1.00         6\n",
      "          42       1.00      1.00      1.00         3\n",
      "          44       1.00      1.00      1.00         3\n",
      "          45       1.00      1.00      1.00        12\n",
      "          46       1.00      1.00      1.00        14\n",
      "          47       1.00      1.00      1.00         6\n",
      "          48       1.00      1.00      1.00         3\n",
      "          49       1.00      1.00      1.00         5\n",
      "          50       1.00      1.00      1.00         1\n",
      "          51       0.50      1.00      0.67         4\n",
      "          52       1.00      1.00      1.00         4\n",
      "          53       0.50      1.00      0.67         2\n",
      "          54       1.00      1.00      1.00         1\n",
      "          55       1.00      1.00      1.00         1\n",
      "          56       1.00      1.00      1.00         1\n",
      "          57       1.00      0.97      0.98        33\n",
      "          58       1.00      1.00      1.00         3\n",
      "          59       1.00      1.00      1.00         1\n",
      "          60       1.00      1.00      1.00         1\n",
      "          61       1.00      1.00      1.00         2\n",
      "          62       1.00      0.91      0.95        11\n",
      "          63       1.00      1.00      1.00         2\n",
      "          64       0.92      1.00      0.96        11\n",
      "          65       1.00      1.00      1.00         3\n",
      "          66       1.00      1.00      1.00        12\n",
      "          68       1.00      1.00      1.00         5\n",
      "          69       1.00      0.88      0.93         8\n",
      "          70       1.00      1.00      1.00         9\n",
      "          71       0.00      0.00      0.00         1\n",
      "          72       0.88      1.00      0.93         7\n",
      "          73       1.00      1.00      1.00         4\n",
      "          74       1.00      1.00      1.00         3\n",
      "          75       1.00      1.00      1.00         2\n",
      "          76       1.00      1.00      1.00        12\n",
      "          77       0.89      1.00      0.94        17\n",
      "          78       1.00      1.00      1.00         7\n",
      "          79       1.00      1.00      1.00        12\n",
      "          81       1.00      1.00      1.00         1\n",
      "          82       1.00      1.00      1.00         7\n",
      "          83       0.75      1.00      0.86         9\n",
      "          84       1.00      1.00      1.00         4\n",
      "          85       1.00      0.87      0.93        15\n",
      "          86       1.00      1.00      1.00         5\n",
      "          87       1.00      1.00      1.00         6\n",
      "          88       1.00      1.00      1.00         8\n",
      "          89       0.90      1.00      0.95        19\n",
      "          91       1.00      1.00      1.00         8\n",
      "          92       0.92      0.96      0.94        25\n",
      "          93       1.00      1.00      1.00         5\n",
      "          94       1.00      1.00      1.00         5\n",
      "          95       0.95      0.95      0.95        20\n",
      "          96       1.00      1.00      1.00         9\n",
      "          97       0.89      1.00      0.94         8\n",
      "          98       1.00      0.60      0.75        10\n",
      "          99       1.00      1.00      1.00         1\n",
      "         100       0.71      1.00      0.83        15\n",
      "         101       1.00      1.00      1.00         2\n",
      "         102       1.00      1.00      1.00         8\n",
      "         103       1.00      1.00      1.00         3\n",
      "         104       1.00      1.00      1.00         8\n",
      "         105       1.00      1.00      1.00        18\n",
      "         106       1.00      1.00      1.00        13\n",
      "         107       1.00      1.00      1.00         4\n",
      "         108       1.00      1.00      1.00        21\n",
      "         109       1.00      1.00      1.00         9\n",
      "         110       1.00      1.00      1.00         4\n",
      "         111       0.77      1.00      0.87        10\n",
      "         112       1.00      1.00      1.00        16\n",
      "         113       1.00      1.00      1.00        15\n",
      "         114       0.93      1.00      0.97        14\n",
      "         115       1.00      1.00      1.00         5\n",
      "         116       1.00      1.00      1.00         1\n",
      "         117       0.92      1.00      0.96        23\n",
      "         118       1.00      1.00      1.00         7\n",
      "         119       1.00      1.00      1.00         8\n",
      "         120       1.00      1.00      1.00         6\n",
      "         121       1.00      0.94      0.97        16\n",
      "         122       1.00      1.00      1.00        11\n",
      "         123       1.00      1.00      1.00        28\n",
      "         124       1.00      1.00      1.00         5\n",
      "         125       1.00      0.67      0.80        12\n",
      "         126       1.00      1.00      1.00         2\n",
      "         128       1.00      1.00      1.00         3\n",
      "         129       0.91      0.91      0.91        22\n",
      "         130       1.00      0.80      0.89        10\n",
      "         131       0.75      0.90      0.82        10\n",
      "         132       1.00      1.00      1.00         3\n",
      "         133       1.00      1.00      1.00        13\n",
      "         134       1.00      0.86      0.92         7\n",
      "         135       1.00      1.00      1.00         3\n",
      "         136       1.00      0.75      0.86         4\n",
      "         137       1.00      0.71      0.83         7\n",
      "         138       0.90      1.00      0.95         9\n",
      "         139       1.00      1.00      1.00         5\n",
      "         140       1.00      1.00      1.00        13\n",
      "         141       1.00      1.00      1.00         2\n",
      "         142       1.00      0.80      0.89        10\n",
      "         143       1.00      1.00      1.00         5\n",
      "         144       1.00      1.00      1.00         2\n",
      "         145       1.00      1.00      1.00         2\n",
      "         146       1.00      0.86      0.92        28\n",
      "         147       1.00      1.00      1.00         8\n",
      "         148       1.00      0.97      0.98        31\n",
      "         149       1.00      1.00      1.00         6\n",
      "         150       1.00      1.00      1.00         1\n",
      "         151       1.00      1.00      1.00         3\n",
      "         152       1.00      1.00      1.00         5\n",
      "         153       1.00      1.00      1.00         3\n",
      "         154       1.00      0.79      0.88        14\n",
      "         155       0.83      1.00      0.91        10\n",
      "         156       1.00      0.90      0.95        10\n",
      "         157       1.00      1.00      1.00         4\n",
      "         158       0.87      0.76      0.81        17\n",
      "         159       0.92      1.00      0.96        12\n",
      "         161       1.00      1.00      1.00         2\n",
      "         162       0.00      0.00      0.00         1\n",
      "         163       1.00      1.00      1.00        11\n",
      "         164       1.00      0.67      0.80         3\n",
      "         165       0.91      0.91      0.91        11\n",
      "         167       0.88      1.00      0.93        14\n",
      "         168       1.00      1.00      1.00         4\n",
      "         169       1.00      0.77      0.87        13\n",
      "         170       0.89      1.00      0.94         8\n",
      "         171       1.00      0.75      0.86         4\n",
      "         172       1.00      1.00      1.00         6\n",
      "\n",
      "    accuracy                           0.97      1693\n",
      "   macro avg       0.96      0.96      0.96      1693\n",
      "weighted avg       0.97      0.97      0.97      1693\n",
      "\n",
      "KNN ROC AUC score: 0.9993556821118031\n"
     ]
    }
   ],
   "source": [
    "report = classification_report(\n",
    "    y_true=y2_test,\n",
    "    y_pred=knc.predict(X_test_transformed),\n",
    "    zero_division=0.0 # Default: set to \"warn\", or float {0.0, 1.0}\n",
    ")\n",
    "\n",
    "roc_score = metrics.roc_auc_score(\n",
    "    y_true=y2_test,\n",
    "    y_score=knc.predict_proba(X_test_transformed),\n",
    "    labels=np.unique(y2_train),\n",
    "    average=\"weighted\",\n",
    "    multi_class=\"ovo\"\n",
    ")\n",
    "\n",
    "print(report)\n",
    "print(\"KNN ROC AUC score:\", roc_score)"
   ]
  },
  {
   "cell_type": "markdown",
   "metadata": {},
   "source": [
    "## Feature Importance"
   ]
  },
  {
   "cell_type": "code",
   "execution_count": 21,
   "metadata": {},
   "outputs": [
    {
     "data": {
      "text/html": [
       "<div align='center'><img src='data:image/png;base64,iVBORw0KGgoAAAANSUhEUgAAABkAAAAWCAYAAAA1vze2AAAAGXRFWHRTb2Z0d2FyZQBBZG9iZSBJbWFnZVJlYWR5ccllPAAAAdxJREFUeNq0Vt1Rg0AQJjcpgBJiBWIFkgoMFYhPPAIVECogPuYpdJBYgXQQrMCUkA50V7+d2ZwXuXPGm9khHLu3f9+3l1nkWNvtNqfHLgpfQ1EUS3tz5nAQ0+NIsiAZSc6eDlI8M3J00B/mDuUKDk6kfOebAgW3pkdD0pFcODGW4gKKvOrAUm04MA4QDt1OEIXU9hDigfS5rC1eS5T90gltck1Xrizo257kgySZcNRzgCSxCvgiE9nckPJo2b/B2AcEkk2OwL8bD8gmOKR1GPbaCUqxEgTq0tLvgb6zfo7+DgYGkkWL2tqLDV4RSITfbHPPfJKIrWz4nJQTMPAWA7IbD6imcNaDeDfgk+4No+wZr40BL3g9eQJJCFqRQ54KiSt72lsLpE3o3MCBSxDuq4yOckU2hKXRuwBH3OyMR4g1UpyTYw6mlmBqNdUXRM1NfyF5EPI6JkcpIDBIX8jX6DR/6ckAZJ0wEAdLR8DEk6OfC1Pp8BKo6TQIwPJbvJ6toK5lmuvJoRtfK6Ym1iRYIarRo2UyYHvRN5qpakR3yoizWrouoyuXXQqI185LCw07op5ZyCRGL99h24InP0e9xdQukEKVmhzrqZuRIfwISB//cP3Wk3f8f/yR+BRgAHu00HjLcEQBAAAAAElFTkSuQmCC' /></div><script charset='utf-8'>/*! For license information please see bundle.js.LICENSE.txt */\n",
       "(()=>{var e={486:function(e,t,n){var r;e=n.nmd(e),function(){var a,i=\"Expected a function\",o=\"__lodash_hash_undefined__\",u=\"__lodash_placeholder__\",l=32,s=128,c=1/0,f=9007199254740991,p=NaN,d=4294967295,h=[[\"ary\",s],[\"bind\",1],[\"bindKey\",2],[\"curry\",8],[\"curryRight\",16],[\"flip\",512],[\"partial\",l],[\"partialRight\",64],[\"rearg\",256]],v=\"[object Arguments]\",g=\"[object Array]\",y=\"[object Boolean]\",m=\"[object Date]\",b=\"[object Error]\",_=\"[object Function]\",w=\"[object GeneratorFunction]\",x=\"[object Map]\",k=\"[object Number]\",S=\"[object Object]\",E=\"[object Promise]\",C=\"[object RegExp]\",T=\"[object Set]\",M=\"[object String]\",N=\"[object Symbol]\",P=\"[object WeakMap]\",z=\"[object ArrayBuffer]\",L=\"[object DataView]\",O=\"[object Float32Array]\",A=\"[object Float64Array]\",F=\"[object Int8Array]\",D=\"[object Int16Array]\",R=\"[object Int32Array]\",j=\"[object Uint8Array]\",U=\"[object Uint8ClampedArray]\",I=\"[object Uint16Array]\",$=\"[object Uint32Array]\",B=/\\b__p \\+= '';/g,W=/\\b(__p \\+=) '' \\+/g,V=/(__e\\(.*?\\)|\\b__t\\)) \\+\\n'';/g,H=/&(?:amp|lt|gt|quot|#39);/g,q=/[&<>\"']/g,Q=RegExp(H.source),Y=RegExp(q.source),G=/<%-([\\s\\S]+?)%>/g,K=/<%([\\s\\S]+?)%>/g,Z=/<%=([\\s\\S]+?)%>/g,X=/\\.|\\[(?:[^[\\]]*|([\"'])(?:(?!\\1)[^\\\\]|\\\\.)*?\\1)\\]/,J=/^\\w*$/,ee=/[^.[\\]]+|\\[(?:(-?\\d+(?:\\.\\d+)?)|([\"'])((?:(?!\\2)[^\\\\]|\\\\.)*?)\\2)\\]|(?=(?:\\.|\\[\\])(?:\\.|\\[\\]|$))/g,te=/[\\\\^$.*+?()[\\]{}|]/g,ne=RegExp(te.source),re=/^\\s+/,ae=/\\s/,ie=/\\{(?:\\n\\/\\* \\[wrapped with .+\\] \\*\\/)?\\n?/,oe=/\\{\\n\\/\\* \\[wrapped with (.+)\\] \\*/,ue=/,? & /,le=/[^\\x00-\\x2f\\x3a-\\x40\\x5b-\\x60\\x7b-\\x7f]+/g,se=/[()=,{}\\[\\]\\/\\s]/,ce=/\\\\(\\\\)?/g,fe=/\\$\\{([^\\\\}]*(?:\\\\.[^\\\\}]*)*)\\}/g,pe=/\\w*$/,de=/^[-+]0x[0-9a-f]+$/i,he=/^0b[01]+$/i,ve=/^\\[object .+?Constructor\\]$/,ge=/^0o[0-7]+$/i,ye=/^(?:0|[1-9]\\d*)$/,me=/[\\xc0-\\xd6\\xd8-\\xf6\\xf8-\\xff\\u0100-\\u017f]/g,be=/($^)/,_e=/['\\n\\r\\u2028\\u2029\\\\]/g,we=\"\\\\ud800-\\\\udfff\",xe=\"\\\\u0300-\\\\u036f\\\\ufe20-\\\\ufe2f\\\\u20d0-\\\\u20ff\",ke=\"\\\\u2700-\\\\u27bf\",Se=\"a-z\\\\xdf-\\\\xf6\\\\xf8-\\\\xff\",Ee=\"A-Z\\\\xc0-\\\\xd6\\\\xd8-\\\\xde\",Ce=\"\\\\ufe0e\\\\ufe0f\",Te=\"\\\\xac\\\\xb1\\\\xd7\\\\xf7\\\\x00-\\\\x2f\\\\x3a-\\\\x40\\\\x5b-\\\\x60\\\\x7b-\\\\xbf\\\\u2000-\\\\u206f \\\\t\\\\x0b\\\\f\\\\xa0\\\\ufeff\\\\n\\\\r\\\\u2028\\\\u2029\\\\u1680\\\\u180e\\\\u2000\\\\u2001\\\\u2002\\\\u2003\\\\u2004\\\\u2005\\\\u2006\\\\u2007\\\\u2008\\\\u2009\\\\u200a\\\\u202f\\\\u205f\\\\u3000\",Me=\"[\"+we+\"]\",Ne=\"[\"+Te+\"]\",Pe=\"[\"+xe+\"]\",ze=\"\\\\d+\",Le=\"[\"+ke+\"]\",Oe=\"[\"+Se+\"]\",Ae=\"[^\"+we+Te+ze+ke+Se+Ee+\"]\",Fe=\"\\\\ud83c[\\\\udffb-\\\\udfff]\",De=\"[^\"+we+\"]\",Re=\"(?:\\\\ud83c[\\\\udde6-\\\\uddff]){2}\",je=\"[\\\\ud800-\\\\udbff][\\\\udc00-\\\\udfff]\",Ue=\"[\"+Ee+\"]\",Ie=\"\\\\u200d\",$e=\"(?:\"+Oe+\"|\"+Ae+\")\",Be=\"(?:\"+Ue+\"|\"+Ae+\")\",We=\"(?:['’](?:d|ll|m|re|s|t|ve))?\",Ve=\"(?:['’](?:D|LL|M|RE|S|T|VE))?\",He=\"(?:\"+Pe+\"|\"+Fe+\")?\",qe=\"[\"+Ce+\"]?\",Qe=qe+He+\"(?:\"+Ie+\"(?:\"+[De,Re,je].join(\"|\")+\")\"+qe+He+\")*\",Ye=\"(?:\"+[Le,Re,je].join(\"|\")+\")\"+Qe,Ge=\"(?:\"+[De+Pe+\"?\",Pe,Re,je,Me].join(\"|\")+\")\",Ke=RegExp(\"['’]\",\"g\"),Ze=RegExp(Pe,\"g\"),Xe=RegExp(Fe+\"(?=\"+Fe+\")|\"+Ge+Qe,\"g\"),Je=RegExp([Ue+\"?\"+Oe+\"+\"+We+\"(?=\"+[Ne,Ue,\"$\"].join(\"|\")+\")\",Be+\"+\"+Ve+\"(?=\"+[Ne,Ue+$e,\"$\"].join(\"|\")+\")\",Ue+\"?\"+$e+\"+\"+We,Ue+\"+\"+Ve,\"\\\\d*(?:1ST|2ND|3RD|(?![123])\\\\dTH)(?=\\\\b|[a-z_])\",\"\\\\d*(?:1st|2nd|3rd|(?![123])\\\\dth)(?=\\\\b|[A-Z_])\",ze,Ye].join(\"|\"),\"g\"),et=RegExp(\"[\"+Ie+we+xe+Ce+\"]\"),tt=/[a-z][A-Z]|[A-Z]{2}[a-z]|[0-9][a-zA-Z]|[a-zA-Z][0-9]|[^a-zA-Z0-9 ]/,nt=[\"Array\",\"Buffer\",\"DataView\",\"Date\",\"Error\",\"Float32Array\",\"Float64Array\",\"Function\",\"Int8Array\",\"Int16Array\",\"Int32Array\",\"Map\",\"Math\",\"Object\",\"Promise\",\"RegExp\",\"Set\",\"String\",\"Symbol\",\"TypeError\",\"Uint8Array\",\"Uint8ClampedArray\",\"Uint16Array\",\"Uint32Array\",\"WeakMap\",\"_\",\"clearTimeout\",\"isFinite\",\"parseInt\",\"setTimeout\"],rt=-1,at={};at[O]=at[A]=at[F]=at[D]=at[R]=at[j]=at[U]=at[I]=at[$]=!0,at[v]=at[g]=at[z]=at[y]=at[L]=at[m]=at[b]=at[_]=at[x]=at[k]=at[S]=at[C]=at[T]=at[M]=at[P]=!1;var it={};it[v]=it[g]=it[z]=it[L]=it[y]=it[m]=it[O]=it[A]=it[F]=it[D]=it[R]=it[x]=it[k]=it[S]=it[C]=it[T]=it[M]=it[N]=it[j]=it[U]=it[I]=it[$]=!0,it[b]=it[_]=it[P]=!1;var ot={\"\\\\\":\"\\\\\",\"'\":\"'\",\"\\n\":\"n\",\"\\r\":\"r\",\"\\u2028\":\"u2028\",\"\\u2029\":\"u2029\"},ut=parseFloat,lt=parseInt,st=\"object\"==typeof n.g&&n.g&&n.g.Object===Object&&n.g,ct=\"object\"==typeof self&&self&&self.Object===Object&&self,ft=st||ct||Function(\"return this\")(),pt=t&&!t.nodeType&&t,dt=pt&&e&&!e.nodeType&&e,ht=dt&&dt.exports===pt,vt=ht&&st.process,gt=function(){try{return dt&&dt.require&&dt.require(\"util\").types||vt&&vt.binding&&vt.binding(\"util\")}catch(e){}}(),yt=gt&&gt.isArrayBuffer,mt=gt&&gt.isDate,bt=gt&&gt.isMap,_t=gt&&gt.isRegExp,wt=gt&&gt.isSet,xt=gt&&gt.isTypedArray;function kt(e,t,n){switch(n.length){case 0:return e.call(t);case 1:return e.call(t,n[0]);case 2:return e.call(t,n[0],n[1]);case 3:return e.call(t,n[0],n[1],n[2])}return e.apply(t,n)}function St(e,t,n,r){for(var a=-1,i=null==e?0:e.length;++a<i;){var o=e[a];t(r,o,n(o),e)}return r}function Et(e,t){for(var n=-1,r=null==e?0:e.length;++n<r&&!1!==t(e[n],n,e););return e}function Ct(e,t){for(var n=null==e?0:e.length;n--&&!1!==t(e[n],n,e););return e}function Tt(e,t){for(var n=-1,r=null==e?0:e.length;++n<r;)if(!t(e[n],n,e))return!1;return!0}function Mt(e,t){for(var n=-1,r=null==e?0:e.length,a=0,i=[];++n<r;){var o=e[n];t(o,n,e)&&(i[a++]=o)}return i}function Nt(e,t){return!(null==e||!e.length)&&Ut(e,t,0)>-1}function Pt(e,t,n){for(var r=-1,a=null==e?0:e.length;++r<a;)if(n(t,e[r]))return!0;return!1}function zt(e,t){for(var n=-1,r=null==e?0:e.length,a=Array(r);++n<r;)a[n]=t(e[n],n,e);return a}function Lt(e,t){for(var n=-1,r=t.length,a=e.length;++n<r;)e[a+n]=t[n];return e}function Ot(e,t,n,r){var a=-1,i=null==e?0:e.length;for(r&&i&&(n=e[++a]);++a<i;)n=t(n,e[a],a,e);return n}function At(e,t,n,r){var a=null==e?0:e.length;for(r&&a&&(n=e[--a]);a--;)n=t(n,e[a],a,e);return n}function Ft(e,t){for(var n=-1,r=null==e?0:e.length;++n<r;)if(t(e[n],n,e))return!0;return!1}var Dt=Wt(\"length\");function Rt(e,t,n){var r;return n(e,(function(e,n,a){if(t(e,n,a))return r=n,!1})),r}function jt(e,t,n,r){for(var a=e.length,i=n+(r?1:-1);r?i--:++i<a;)if(t(e[i],i,e))return i;return-1}function Ut(e,t,n){return t==t?function(e,t,n){for(var r=n-1,a=e.length;++r<a;)if(e[r]===t)return r;return-1}(e,t,n):jt(e,$t,n)}function It(e,t,n,r){for(var a=n-1,i=e.length;++a<i;)if(r(e[a],t))return a;return-1}function $t(e){return e!=e}function Bt(e,t){var n=null==e?0:e.length;return n?qt(e,t)/n:p}function Wt(e){return function(t){return null==t?a:t[e]}}function Vt(e){return function(t){return null==e?a:e[t]}}function Ht(e,t,n,r,a){return a(e,(function(e,a,i){n=r?(r=!1,e):t(n,e,a,i)})),n}function qt(e,t){for(var n,r=-1,i=e.length;++r<i;){var o=t(e[r]);o!==a&&(n=n===a?o:n+o)}return n}function Qt(e,t){for(var n=-1,r=Array(e);++n<e;)r[n]=t(n);return r}function Yt(e){return e?e.slice(0,pn(e)+1).replace(re,\"\"):e}function Gt(e){return function(t){return e(t)}}function Kt(e,t){return zt(t,(function(t){return e[t]}))}function Zt(e,t){return e.has(t)}function Xt(e,t){for(var n=-1,r=e.length;++n<r&&Ut(t,e[n],0)>-1;);return n}function Jt(e,t){for(var n=e.length;n--&&Ut(t,e[n],0)>-1;);return n}var en=Vt({À:\"A\",Á:\"A\",Â:\"A\",Ã:\"A\",Ä:\"A\",Å:\"A\",à:\"a\",á:\"a\",â:\"a\",ã:\"a\",ä:\"a\",å:\"a\",Ç:\"C\",ç:\"c\",Ð:\"D\",ð:\"d\",È:\"E\",É:\"E\",Ê:\"E\",Ë:\"E\",è:\"e\",é:\"e\",ê:\"e\",ë:\"e\",Ì:\"I\",Í:\"I\",Î:\"I\",Ï:\"I\",ì:\"i\",í:\"i\",î:\"i\",ï:\"i\",Ñ:\"N\",ñ:\"n\",Ò:\"O\",Ó:\"O\",Ô:\"O\",Õ:\"O\",Ö:\"O\",Ø:\"O\",ò:\"o\",ó:\"o\",ô:\"o\",õ:\"o\",ö:\"o\",ø:\"o\",Ù:\"U\",Ú:\"U\",Û:\"U\",Ü:\"U\",ù:\"u\",ú:\"u\",û:\"u\",ü:\"u\",Ý:\"Y\",ý:\"y\",ÿ:\"y\",Æ:\"Ae\",æ:\"ae\",Þ:\"Th\",þ:\"th\",ß:\"ss\",Ā:\"A\",Ă:\"A\",Ą:\"A\",ā:\"a\",ă:\"a\",ą:\"a\",Ć:\"C\",Ĉ:\"C\",Ċ:\"C\",Č:\"C\",ć:\"c\",ĉ:\"c\",ċ:\"c\",č:\"c\",Ď:\"D\",Đ:\"D\",ď:\"d\",đ:\"d\",Ē:\"E\",Ĕ:\"E\",Ė:\"E\",Ę:\"E\",Ě:\"E\",ē:\"e\",ĕ:\"e\",ė:\"e\",ę:\"e\",ě:\"e\",Ĝ:\"G\",Ğ:\"G\",Ġ:\"G\",Ģ:\"G\",ĝ:\"g\",ğ:\"g\",ġ:\"g\",ģ:\"g\",Ĥ:\"H\",Ħ:\"H\",ĥ:\"h\",ħ:\"h\",Ĩ:\"I\",Ī:\"I\",Ĭ:\"I\",Į:\"I\",İ:\"I\",ĩ:\"i\",ī:\"i\",ĭ:\"i\",į:\"i\",ı:\"i\",Ĵ:\"J\",ĵ:\"j\",Ķ:\"K\",ķ:\"k\",ĸ:\"k\",Ĺ:\"L\",Ļ:\"L\",Ľ:\"L\",Ŀ:\"L\",Ł:\"L\",ĺ:\"l\",ļ:\"l\",ľ:\"l\",ŀ:\"l\",ł:\"l\",Ń:\"N\",Ņ:\"N\",Ň:\"N\",Ŋ:\"N\",ń:\"n\",ņ:\"n\",ň:\"n\",ŋ:\"n\",Ō:\"O\",Ŏ:\"O\",Ő:\"O\",ō:\"o\",ŏ:\"o\",ő:\"o\",Ŕ:\"R\",Ŗ:\"R\",Ř:\"R\",ŕ:\"r\",ŗ:\"r\",ř:\"r\",Ś:\"S\",Ŝ:\"S\",Ş:\"S\",Š:\"S\",ś:\"s\",ŝ:\"s\",ş:\"s\",š:\"s\",Ţ:\"T\",Ť:\"T\",Ŧ:\"T\",ţ:\"t\",ť:\"t\",ŧ:\"t\",Ũ:\"U\",Ū:\"U\",Ŭ:\"U\",Ů:\"U\",Ű:\"U\",Ų:\"U\",ũ:\"u\",ū:\"u\",ŭ:\"u\",ů:\"u\",ű:\"u\",ų:\"u\",Ŵ:\"W\",ŵ:\"w\",Ŷ:\"Y\",ŷ:\"y\",Ÿ:\"Y\",Ź:\"Z\",Ż:\"Z\",Ž:\"Z\",ź:\"z\",ż:\"z\",ž:\"z\",Ĳ:\"IJ\",ĳ:\"ij\",Œ:\"Oe\",œ:\"oe\",ŉ:\"'n\",ſ:\"s\"}),tn=Vt({\"&\":\"&amp;\",\"<\":\"&lt;\",\">\":\"&gt;\",'\"':\"&quot;\",\"'\":\"&#39;\"});function nn(e){return\"\\\\\"+ot[e]}function rn(e){return et.test(e)}function an(e){var t=-1,n=Array(e.size);return e.forEach((function(e,r){n[++t]=[r,e]})),n}function on(e,t){return function(n){return e(t(n))}}function un(e,t){for(var n=-1,r=e.length,a=0,i=[];++n<r;){var o=e[n];o!==t&&o!==u||(e[n]=u,i[a++]=n)}return i}function ln(e){var t=-1,n=Array(e.size);return e.forEach((function(e){n[++t]=e})),n}function sn(e){var t=-1,n=Array(e.size);return e.forEach((function(e){n[++t]=[e,e]})),n}function cn(e){return rn(e)?function(e){for(var t=Xe.lastIndex=0;Xe.test(e);)++t;return t}(e):Dt(e)}function fn(e){return rn(e)?function(e){return e.match(Xe)||[]}(e):function(e){return e.split(\"\")}(e)}function pn(e){for(var t=e.length;t--&&ae.test(e.charAt(t)););return t}var dn=Vt({\"&amp;\":\"&\",\"&lt;\":\"<\",\"&gt;\":\">\",\"&quot;\":'\"',\"&#39;\":\"'\"}),hn=function e(t){var n,r=(t=null==t?ft:hn.defaults(ft.Object(),t,hn.pick(ft,nt))).Array,ae=t.Date,we=t.Error,xe=t.Function,ke=t.Math,Se=t.Object,Ee=t.RegExp,Ce=t.String,Te=t.TypeError,Me=r.prototype,Ne=xe.prototype,Pe=Se.prototype,ze=t[\"__core-js_shared__\"],Le=Ne.toString,Oe=Pe.hasOwnProperty,Ae=0,Fe=(n=/[^.]+$/.exec(ze&&ze.keys&&ze.keys.IE_PROTO||\"\"))?\"Symbol(src)_1.\"+n:\"\",De=Pe.toString,Re=Le.call(Se),je=ft._,Ue=Ee(\"^\"+Le.call(Oe).replace(te,\"\\\\$&\").replace(/hasOwnProperty|(function).*?(?=\\\\\\()| for .+?(?=\\\\\\])/g,\"$1.*?\")+\"$\"),Ie=ht?t.Buffer:a,$e=t.Symbol,Be=t.Uint8Array,We=Ie?Ie.allocUnsafe:a,Ve=on(Se.getPrototypeOf,Se),He=Se.create,qe=Pe.propertyIsEnumerable,Qe=Me.splice,Ye=$e?$e.isConcatSpreadable:a,Ge=$e?$e.iterator:a,Xe=$e?$e.toStringTag:a,et=function(){try{var e=li(Se,\"defineProperty\");return e({},\"\",{}),e}catch(e){}}(),ot=t.clearTimeout!==ft.clearTimeout&&t.clearTimeout,st=ae&&ae.now!==ft.Date.now&&ae.now,ct=t.setTimeout!==ft.setTimeout&&t.setTimeout,pt=ke.ceil,dt=ke.floor,vt=Se.getOwnPropertySymbols,gt=Ie?Ie.isBuffer:a,Dt=t.isFinite,Vt=Me.join,vn=on(Se.keys,Se),gn=ke.max,yn=ke.min,mn=ae.now,bn=t.parseInt,_n=ke.random,wn=Me.reverse,xn=li(t,\"DataView\"),kn=li(t,\"Map\"),Sn=li(t,\"Promise\"),En=li(t,\"Set\"),Cn=li(t,\"WeakMap\"),Tn=li(Se,\"create\"),Mn=Cn&&new Cn,Nn={},Pn=Di(xn),zn=Di(kn),Ln=Di(Sn),On=Di(En),An=Di(Cn),Fn=$e?$e.prototype:a,Dn=Fn?Fn.valueOf:a,Rn=Fn?Fn.toString:a;function jn(e){if(eu(e)&&!Wo(e)&&!(e instanceof Bn)){if(e instanceof $n)return e;if(Oe.call(e,\"__wrapped__\"))return Ri(e)}return new $n(e)}var Un=function(){function e(){}return function(t){if(!Jo(t))return{};if(He)return He(t);e.prototype=t;var n=new e;return e.prototype=a,n}}();function In(){}function $n(e,t){this.__wrapped__=e,this.__actions__=[],this.__chain__=!!t,this.__index__=0,this.__values__=a}function Bn(e){this.__wrapped__=e,this.__actions__=[],this.__dir__=1,this.__filtered__=!1,this.__iteratees__=[],this.__takeCount__=d,this.__views__=[]}function Wn(e){var t=-1,n=null==e?0:e.length;for(this.clear();++t<n;){var r=e[t];this.set(r[0],r[1])}}function Vn(e){var t=-1,n=null==e?0:e.length;for(this.clear();++t<n;){var r=e[t];this.set(r[0],r[1])}}function Hn(e){var t=-1,n=null==e?0:e.length;for(this.clear();++t<n;){var r=e[t];this.set(r[0],r[1])}}function qn(e){var t=-1,n=null==e?0:e.length;for(this.__data__=new Hn;++t<n;)this.add(e[t])}function Qn(e){var t=this.__data__=new Vn(e);this.size=t.size}function Yn(e,t){var n=Wo(e),r=!n&&Bo(e),a=!n&&!r&&Qo(e),i=!n&&!r&&!a&&lu(e),o=n||r||a||i,u=o?Qt(e.length,Ce):[],l=u.length;for(var s in e)!t&&!Oe.call(e,s)||o&&(\"length\"==s||a&&(\"offset\"==s||\"parent\"==s)||i&&(\"buffer\"==s||\"byteLength\"==s||\"byteOffset\"==s)||vi(s,l))||u.push(s);return u}function Gn(e){var t=e.length;return t?e[Hr(0,t-1)]:a}function Kn(e,t){return zi(Ca(e),ir(t,0,e.length))}function Zn(e){return zi(Ca(e))}function Xn(e,t,n){(n!==a&&!Uo(e[t],n)||n===a&&!(t in e))&&rr(e,t,n)}function Jn(e,t,n){var r=e[t];Oe.call(e,t)&&Uo(r,n)&&(n!==a||t in e)||rr(e,t,n)}function er(e,t){for(var n=e.length;n--;)if(Uo(e[n][0],t))return n;return-1}function tr(e,t,n,r){return cr(e,(function(e,a,i){t(r,e,n(e),i)})),r}function nr(e,t){return e&&Ta(t,Pu(t),e)}function rr(e,t,n){\"__proto__\"==t&&et?et(e,t,{configurable:!0,enumerable:!0,value:n,writable:!0}):e[t]=n}function ar(e,t){for(var n=-1,i=t.length,o=r(i),u=null==e;++n<i;)o[n]=u?a:Eu(e,t[n]);return o}function ir(e,t,n){return e==e&&(n!==a&&(e=e<=n?e:n),t!==a&&(e=e>=t?e:t)),e}function or(e,t,n,r,i,o){var u,l=1&t,s=2&t,c=4&t;if(n&&(u=i?n(e,r,i,o):n(e)),u!==a)return u;if(!Jo(e))return e;var f=Wo(e);if(f){if(u=function(e){var t=e.length,n=new e.constructor(t);return t&&\"string\"==typeof e[0]&&Oe.call(e,\"index\")&&(n.index=e.index,n.input=e.input),n}(e),!l)return Ca(e,u)}else{var p=fi(e),d=p==_||p==w;if(Qo(e))return _a(e,l);if(p==S||p==v||d&&!i){if(u=s||d?{}:di(e),!l)return s?function(e,t){return Ta(e,ci(e),t)}(e,function(e,t){return e&&Ta(t,zu(t),e)}(u,e)):function(e,t){return Ta(e,si(e),t)}(e,nr(u,e))}else{if(!it[p])return i?e:{};u=function(e,t,n){var r,a=e.constructor;switch(t){case z:return wa(e);case y:case m:return new a(+e);case L:return function(e,t){var n=t?wa(e.buffer):e.buffer;return new e.constructor(n,e.byteOffset,e.byteLength)}(e,n);case O:case A:case F:case D:case R:case j:case U:case I:case $:return xa(e,n);case x:return new a;case k:case M:return new a(e);case C:return function(e){var t=new e.constructor(e.source,pe.exec(e));return t.lastIndex=e.lastIndex,t}(e);case T:return new a;case N:return r=e,Dn?Se(Dn.call(r)):{}}}(e,p,l)}}o||(o=new Qn);var h=o.get(e);if(h)return h;o.set(e,u),iu(e)?e.forEach((function(r){u.add(or(r,t,n,r,e,o))})):tu(e)&&e.forEach((function(r,a){u.set(a,or(r,t,n,a,e,o))}));var g=f?a:(c?s?ti:ei:s?zu:Pu)(e);return Et(g||e,(function(r,a){g&&(r=e[a=r]),Jn(u,a,or(r,t,n,a,e,o))})),u}function ur(e,t,n){var r=n.length;if(null==e)return!r;for(e=Se(e);r--;){var i=n[r],o=t[i],u=e[i];if(u===a&&!(i in e)||!o(u))return!1}return!0}function lr(e,t,n){if(\"function\"!=typeof e)throw new Te(i);return Ti((function(){e.apply(a,n)}),t)}function sr(e,t,n,r){var a=-1,i=Nt,o=!0,u=e.length,l=[],s=t.length;if(!u)return l;n&&(t=zt(t,Gt(n))),r?(i=Pt,o=!1):t.length>=200&&(i=Zt,o=!1,t=new qn(t));e:for(;++a<u;){var c=e[a],f=null==n?c:n(c);if(c=r||0!==c?c:0,o&&f==f){for(var p=s;p--;)if(t[p]===f)continue e;l.push(c)}else i(t,f,r)||l.push(c)}return l}jn.templateSettings={escape:G,evaluate:K,interpolate:Z,variable:\"\",imports:{_:jn}},jn.prototype=In.prototype,jn.prototype.constructor=jn,$n.prototype=Un(In.prototype),$n.prototype.constructor=$n,Bn.prototype=Un(In.prototype),Bn.prototype.constructor=Bn,Wn.prototype.clear=function(){this.__data__=Tn?Tn(null):{},this.size=0},Wn.prototype.delete=function(e){var t=this.has(e)&&delete this.__data__[e];return this.size-=t?1:0,t},Wn.prototype.get=function(e){var t=this.__data__;if(Tn){var n=t[e];return n===o?a:n}return Oe.call(t,e)?t[e]:a},Wn.prototype.has=function(e){var t=this.__data__;return Tn?t[e]!==a:Oe.call(t,e)},Wn.prototype.set=function(e,t){var n=this.__data__;return this.size+=this.has(e)?0:1,n[e]=Tn&&t===a?o:t,this},Vn.prototype.clear=function(){this.__data__=[],this.size=0},Vn.prototype.delete=function(e){var t=this.__data__,n=er(t,e);return!(n<0||(n==t.length-1?t.pop():Qe.call(t,n,1),--this.size,0))},Vn.prototype.get=function(e){var t=this.__data__,n=er(t,e);return n<0?a:t[n][1]},Vn.prototype.has=function(e){return er(this.__data__,e)>-1},Vn.prototype.set=function(e,t){var n=this.__data__,r=er(n,e);return r<0?(++this.size,n.push([e,t])):n[r][1]=t,this},Hn.prototype.clear=function(){this.size=0,this.__data__={hash:new Wn,map:new(kn||Vn),string:new Wn}},Hn.prototype.delete=function(e){var t=oi(this,e).delete(e);return this.size-=t?1:0,t},Hn.prototype.get=function(e){return oi(this,e).get(e)},Hn.prototype.has=function(e){return oi(this,e).has(e)},Hn.prototype.set=function(e,t){var n=oi(this,e),r=n.size;return n.set(e,t),this.size+=n.size==r?0:1,this},qn.prototype.add=qn.prototype.push=function(e){return this.__data__.set(e,o),this},qn.prototype.has=function(e){return this.__data__.has(e)},Qn.prototype.clear=function(){this.__data__=new Vn,this.size=0},Qn.prototype.delete=function(e){var t=this.__data__,n=t.delete(e);return this.size=t.size,n},Qn.prototype.get=function(e){return this.__data__.get(e)},Qn.prototype.has=function(e){return this.__data__.has(e)},Qn.prototype.set=function(e,t){var n=this.__data__;if(n instanceof Vn){var r=n.__data__;if(!kn||r.length<199)return r.push([e,t]),this.size=++n.size,this;n=this.__data__=new Hn(r)}return n.set(e,t),this.size=n.size,this};var cr=Pa(mr),fr=Pa(br,!0);function pr(e,t){var n=!0;return cr(e,(function(e,r,a){return n=!!t(e,r,a)})),n}function dr(e,t,n){for(var r=-1,i=e.length;++r<i;){var o=e[r],u=t(o);if(null!=u&&(l===a?u==u&&!uu(u):n(u,l)))var l=u,s=o}return s}function hr(e,t){var n=[];return cr(e,(function(e,r,a){t(e,r,a)&&n.push(e)})),n}function vr(e,t,n,r,a){var i=-1,o=e.length;for(n||(n=hi),a||(a=[]);++i<o;){var u=e[i];t>0&&n(u)?t>1?vr(u,t-1,n,r,a):Lt(a,u):r||(a[a.length]=u)}return a}var gr=za(),yr=za(!0);function mr(e,t){return e&&gr(e,t,Pu)}function br(e,t){return e&&yr(e,t,Pu)}function _r(e,t){return Mt(t,(function(t){return Ko(e[t])}))}function wr(e,t){for(var n=0,r=(t=ga(t,e)).length;null!=e&&n<r;)e=e[Fi(t[n++])];return n&&n==r?e:a}function xr(e,t,n){var r=t(e);return Wo(e)?r:Lt(r,n(e))}function kr(e){return null==e?e===a?\"[object Undefined]\":\"[object Null]\":Xe&&Xe in Se(e)?function(e){var t=Oe.call(e,Xe),n=e[Xe];try{e[Xe]=a;var r=!0}catch(e){}var i=De.call(e);return r&&(t?e[Xe]=n:delete e[Xe]),i}(e):function(e){return De.call(e)}(e)}function Sr(e,t){return e>t}function Er(e,t){return null!=e&&Oe.call(e,t)}function Cr(e,t){return null!=e&&t in Se(e)}function Tr(e,t,n){for(var i=n?Pt:Nt,o=e[0].length,u=e.length,l=u,s=r(u),c=1/0,f=[];l--;){var p=e[l];l&&t&&(p=zt(p,Gt(t))),c=yn(p.length,c),s[l]=!n&&(t||o>=120&&p.length>=120)?new qn(l&&p):a}p=e[0];var d=-1,h=s[0];e:for(;++d<o&&f.length<c;){var v=p[d],g=t?t(v):v;if(v=n||0!==v?v:0,!(h?Zt(h,g):i(f,g,n))){for(l=u;--l;){var y=s[l];if(!(y?Zt(y,g):i(e[l],g,n)))continue e}h&&h.push(g),f.push(v)}}return f}function Mr(e,t,n){var r=null==(e=Si(e,t=ga(t,e)))?e:e[Fi(Yi(t))];return null==r?a:kt(r,e,n)}function Nr(e){return eu(e)&&kr(e)==v}function Pr(e,t,n,r,i){return e===t||(null==e||null==t||!eu(e)&&!eu(t)?e!=e&&t!=t:function(e,t,n,r,i,o){var u=Wo(e),l=Wo(t),s=u?g:fi(e),c=l?g:fi(t),f=(s=s==v?S:s)==S,p=(c=c==v?S:c)==S,d=s==c;if(d&&Qo(e)){if(!Qo(t))return!1;u=!0,f=!1}if(d&&!f)return o||(o=new Qn),u||lu(e)?Xa(e,t,n,r,i,o):function(e,t,n,r,a,i,o){switch(n){case L:if(e.byteLength!=t.byteLength||e.byteOffset!=t.byteOffset)return!1;e=e.buffer,t=t.buffer;case z:return!(e.byteLength!=t.byteLength||!i(new Be(e),new Be(t)));case y:case m:case k:return Uo(+e,+t);case b:return e.name==t.name&&e.message==t.message;case C:case M:return e==t+\"\";case x:var u=an;case T:var l=1&r;if(u||(u=ln),e.size!=t.size&&!l)return!1;var s=o.get(e);if(s)return s==t;r|=2,o.set(e,t);var c=Xa(u(e),u(t),r,a,i,o);return o.delete(e),c;case N:if(Dn)return Dn.call(e)==Dn.call(t)}return!1}(e,t,s,n,r,i,o);if(!(1&n)){var h=f&&Oe.call(e,\"__wrapped__\"),_=p&&Oe.call(t,\"__wrapped__\");if(h||_){var w=h?e.value():e,E=_?t.value():t;return o||(o=new Qn),i(w,E,n,r,o)}}return!!d&&(o||(o=new Qn),function(e,t,n,r,i,o){var u=1&n,l=ei(e),s=l.length;if(s!=ei(t).length&&!u)return!1;for(var c=s;c--;){var f=l[c];if(!(u?f in t:Oe.call(t,f)))return!1}var p=o.get(e),d=o.get(t);if(p&&d)return p==t&&d==e;var h=!0;o.set(e,t),o.set(t,e);for(var v=u;++c<s;){var g=e[f=l[c]],y=t[f];if(r)var m=u?r(y,g,f,t,e,o):r(g,y,f,e,t,o);if(!(m===a?g===y||i(g,y,n,r,o):m)){h=!1;break}v||(v=\"constructor\"==f)}if(h&&!v){var b=e.constructor,_=t.constructor;b==_||!(\"constructor\"in e)||!(\"constructor\"in t)||\"function\"==typeof b&&b instanceof b&&\"function\"==typeof _&&_ instanceof _||(h=!1)}return o.delete(e),o.delete(t),h}(e,t,n,r,i,o))}(e,t,n,r,Pr,i))}function zr(e,t,n,r){var i=n.length,o=i,u=!r;if(null==e)return!o;for(e=Se(e);i--;){var l=n[i];if(u&&l[2]?l[1]!==e[l[0]]:!(l[0]in e))return!1}for(;++i<o;){var s=(l=n[i])[0],c=e[s],f=l[1];if(u&&l[2]){if(c===a&&!(s in e))return!1}else{var p=new Qn;if(r)var d=r(c,f,s,e,t,p);if(!(d===a?Pr(f,c,3,r,p):d))return!1}}return!0}function Lr(e){return!(!Jo(e)||(t=e,Fe&&Fe in t))&&(Ko(e)?Ue:ve).test(Di(e));var t}function Or(e){return\"function\"==typeof e?e:null==e?nl:\"object\"==typeof e?Wo(e)?jr(e[0],e[1]):Rr(e):fl(e)}function Ar(e){if(!_i(e))return vn(e);var t=[];for(var n in Se(e))Oe.call(e,n)&&\"constructor\"!=n&&t.push(n);return t}function Fr(e,t){return e<t}function Dr(e,t){var n=-1,a=Ho(e)?r(e.length):[];return cr(e,(function(e,r,i){a[++n]=t(e,r,i)})),a}function Rr(e){var t=ui(e);return 1==t.length&&t[0][2]?xi(t[0][0],t[0][1]):function(n){return n===e||zr(n,e,t)}}function jr(e,t){return yi(e)&&wi(t)?xi(Fi(e),t):function(n){var r=Eu(n,e);return r===a&&r===t?Cu(n,e):Pr(t,r,3)}}function Ur(e,t,n,r,i){e!==t&&gr(t,(function(o,u){if(i||(i=new Qn),Jo(o))!function(e,t,n,r,i,o,u){var l=Ei(e,n),s=Ei(t,n),c=u.get(s);if(c)Xn(e,n,c);else{var f=o?o(l,s,n+\"\",e,t,u):a,p=f===a;if(p){var d=Wo(s),h=!d&&Qo(s),v=!d&&!h&&lu(s);f=s,d||h||v?Wo(l)?f=l:qo(l)?f=Ca(l):h?(p=!1,f=_a(s,!0)):v?(p=!1,f=xa(s,!0)):f=[]:ru(s)||Bo(s)?(f=l,Bo(l)?f=gu(l):Jo(l)&&!Ko(l)||(f=di(s))):p=!1}p&&(u.set(s,f),i(f,s,r,o,u),u.delete(s)),Xn(e,n,f)}}(e,t,u,n,Ur,r,i);else{var l=r?r(Ei(e,u),o,u+\"\",e,t,i):a;l===a&&(l=o),Xn(e,u,l)}}),zu)}function Ir(e,t){var n=e.length;if(n)return vi(t+=t<0?n:0,n)?e[t]:a}function $r(e,t,n){t=t.length?zt(t,(function(e){return Wo(e)?function(t){return wr(t,1===e.length?e[0]:e)}:e})):[nl];var r=-1;t=zt(t,Gt(ii()));var a=Dr(e,(function(e,n,a){var i=zt(t,(function(t){return t(e)}));return{criteria:i,index:++r,value:e}}));return function(e,t){var r=e.length;for(e.sort((function(e,t){return function(e,t,n){for(var r=-1,a=e.criteria,i=t.criteria,o=a.length,u=n.length;++r<o;){var l=ka(a[r],i[r]);if(l)return r>=u?l:l*(\"desc\"==n[r]?-1:1)}return e.index-t.index}(e,t,n)}));r--;)e[r]=e[r].value;return e}(a)}function Br(e,t,n){for(var r=-1,a=t.length,i={};++r<a;){var o=t[r],u=wr(e,o);n(u,o)&&Kr(i,ga(o,e),u)}return i}function Wr(e,t,n,r){var a=r?It:Ut,i=-1,o=t.length,u=e;for(e===t&&(t=Ca(t)),n&&(u=zt(e,Gt(n)));++i<o;)for(var l=0,s=t[i],c=n?n(s):s;(l=a(u,c,l,r))>-1;)u!==e&&Qe.call(u,l,1),Qe.call(e,l,1);return e}function Vr(e,t){for(var n=e?t.length:0,r=n-1;n--;){var a=t[n];if(n==r||a!==i){var i=a;vi(a)?Qe.call(e,a,1):la(e,a)}}return e}function Hr(e,t){return e+dt(_n()*(t-e+1))}function qr(e,t){var n=\"\";if(!e||t<1||t>f)return n;do{t%2&&(n+=e),(t=dt(t/2))&&(e+=e)}while(t);return n}function Qr(e,t){return Mi(ki(e,t,nl),e+\"\")}function Yr(e){return Gn(Uu(e))}function Gr(e,t){var n=Uu(e);return zi(n,ir(t,0,n.length))}function Kr(e,t,n,r){if(!Jo(e))return e;for(var i=-1,o=(t=ga(t,e)).length,u=o-1,l=e;null!=l&&++i<o;){var s=Fi(t[i]),c=n;if(\"__proto__\"===s||\"constructor\"===s||\"prototype\"===s)return e;if(i!=u){var f=l[s];(c=r?r(f,s,l):a)===a&&(c=Jo(f)?f:vi(t[i+1])?[]:{})}Jn(l,s,c),l=l[s]}return e}var Zr=Mn?function(e,t){return Mn.set(e,t),e}:nl,Xr=et?function(e,t){return et(e,\"toString\",{configurable:!0,enumerable:!1,value:Ju(t),writable:!0})}:nl;function Jr(e){return zi(Uu(e))}function ea(e,t,n){var a=-1,i=e.length;t<0&&(t=-t>i?0:i+t),(n=n>i?i:n)<0&&(n+=i),i=t>n?0:n-t>>>0,t>>>=0;for(var o=r(i);++a<i;)o[a]=e[a+t];return o}function ta(e,t){var n;return cr(e,(function(e,r,a){return!(n=t(e,r,a))})),!!n}function na(e,t,n){var r=0,a=null==e?r:e.length;if(\"number\"==typeof t&&t==t&&a<=2147483647){for(;r<a;){var i=r+a>>>1,o=e[i];null!==o&&!uu(o)&&(n?o<=t:o<t)?r=i+1:a=i}return a}return ra(e,t,nl,n)}function ra(e,t,n,r){var i=0,o=null==e?0:e.length;if(0===o)return 0;for(var u=(t=n(t))!=t,l=null===t,s=uu(t),c=t===a;i<o;){var f=dt((i+o)/2),p=n(e[f]),d=p!==a,h=null===p,v=p==p,g=uu(p);if(u)var y=r||v;else y=c?v&&(r||d):l?v&&d&&(r||!h):s?v&&d&&!h&&(r||!g):!h&&!g&&(r?p<=t:p<t);y?i=f+1:o=f}return yn(o,4294967294)}function aa(e,t){for(var n=-1,r=e.length,a=0,i=[];++n<r;){var o=e[n],u=t?t(o):o;if(!n||!Uo(u,l)){var l=u;i[a++]=0===o?0:o}}return i}function ia(e){return\"number\"==typeof e?e:uu(e)?p:+e}function oa(e){if(\"string\"==typeof e)return e;if(Wo(e))return zt(e,oa)+\"\";if(uu(e))return Rn?Rn.call(e):\"\";var t=e+\"\";return\"0\"==t&&1/e==-1/0?\"-0\":t}function ua(e,t,n){var r=-1,a=Nt,i=e.length,o=!0,u=[],l=u;if(n)o=!1,a=Pt;else if(i>=200){var s=t?null:qa(e);if(s)return ln(s);o=!1,a=Zt,l=new qn}else l=t?[]:u;e:for(;++r<i;){var c=e[r],f=t?t(c):c;if(c=n||0!==c?c:0,o&&f==f){for(var p=l.length;p--;)if(l[p]===f)continue e;t&&l.push(f),u.push(c)}else a(l,f,n)||(l!==u&&l.push(f),u.push(c))}return u}function la(e,t){return null==(e=Si(e,t=ga(t,e)))||delete e[Fi(Yi(t))]}function sa(e,t,n,r){return Kr(e,t,n(wr(e,t)),r)}function ca(e,t,n,r){for(var a=e.length,i=r?a:-1;(r?i--:++i<a)&&t(e[i],i,e););return n?ea(e,r?0:i,r?i+1:a):ea(e,r?i+1:0,r?a:i)}function fa(e,t){var n=e;return n instanceof Bn&&(n=n.value()),Ot(t,(function(e,t){return t.func.apply(t.thisArg,Lt([e],t.args))}),n)}function pa(e,t,n){var a=e.length;if(a<2)return a?ua(e[0]):[];for(var i=-1,o=r(a);++i<a;)for(var u=e[i],l=-1;++l<a;)l!=i&&(o[i]=sr(o[i]||u,e[l],t,n));return ua(vr(o,1),t,n)}function da(e,t,n){for(var r=-1,i=e.length,o=t.length,u={};++r<i;){var l=r<o?t[r]:a;n(u,e[r],l)}return u}function ha(e){return qo(e)?e:[]}function va(e){return\"function\"==typeof e?e:nl}function ga(e,t){return Wo(e)?e:yi(e,t)?[e]:Ai(yu(e))}var ya=Qr;function ma(e,t,n){var r=e.length;return n=n===a?r:n,!t&&n>=r?e:ea(e,t,n)}var ba=ot||function(e){return ft.clearTimeout(e)};function _a(e,t){if(t)return e.slice();var n=e.length,r=We?We(n):new e.constructor(n);return e.copy(r),r}function wa(e){var t=new e.constructor(e.byteLength);return new Be(t).set(new Be(e)),t}function xa(e,t){var n=t?wa(e.buffer):e.buffer;return new e.constructor(n,e.byteOffset,e.length)}function ka(e,t){if(e!==t){var n=e!==a,r=null===e,i=e==e,o=uu(e),u=t!==a,l=null===t,s=t==t,c=uu(t);if(!l&&!c&&!o&&e>t||o&&u&&s&&!l&&!c||r&&u&&s||!n&&s||!i)return 1;if(!r&&!o&&!c&&e<t||c&&n&&i&&!r&&!o||l&&n&&i||!u&&i||!s)return-1}return 0}function Sa(e,t,n,a){for(var i=-1,o=e.length,u=n.length,l=-1,s=t.length,c=gn(o-u,0),f=r(s+c),p=!a;++l<s;)f[l]=t[l];for(;++i<u;)(p||i<o)&&(f[n[i]]=e[i]);for(;c--;)f[l++]=e[i++];return f}function Ea(e,t,n,a){for(var i=-1,o=e.length,u=-1,l=n.length,s=-1,c=t.length,f=gn(o-l,0),p=r(f+c),d=!a;++i<f;)p[i]=e[i];for(var h=i;++s<c;)p[h+s]=t[s];for(;++u<l;)(d||i<o)&&(p[h+n[u]]=e[i++]);return p}function Ca(e,t){var n=-1,a=e.length;for(t||(t=r(a));++n<a;)t[n]=e[n];return t}function Ta(e,t,n,r){var i=!n;n||(n={});for(var o=-1,u=t.length;++o<u;){var l=t[o],s=r?r(n[l],e[l],l,n,e):a;s===a&&(s=e[l]),i?rr(n,l,s):Jn(n,l,s)}return n}function Ma(e,t){return function(n,r){var a=Wo(n)?St:tr,i=t?t():{};return a(n,e,ii(r,2),i)}}function Na(e){return Qr((function(t,n){var r=-1,i=n.length,o=i>1?n[i-1]:a,u=i>2?n[2]:a;for(o=e.length>3&&\"function\"==typeof o?(i--,o):a,u&&gi(n[0],n[1],u)&&(o=i<3?a:o,i=1),t=Se(t);++r<i;){var l=n[r];l&&e(t,l,r,o)}return t}))}function Pa(e,t){return function(n,r){if(null==n)return n;if(!Ho(n))return e(n,r);for(var a=n.length,i=t?a:-1,o=Se(n);(t?i--:++i<a)&&!1!==r(o[i],i,o););return n}}function za(e){return function(t,n,r){for(var a=-1,i=Se(t),o=r(t),u=o.length;u--;){var l=o[e?u:++a];if(!1===n(i[l],l,i))break}return t}}function La(e){return function(t){var n=rn(t=yu(t))?fn(t):a,r=n?n[0]:t.charAt(0),i=n?ma(n,1).join(\"\"):t.slice(1);return r[e]()+i}}function Oa(e){return function(t){return Ot(Ku(Bu(t).replace(Ke,\"\")),e,\"\")}}function Aa(e){return function(){var t=arguments;switch(t.length){case 0:return new e;case 1:return new e(t[0]);case 2:return new e(t[0],t[1]);case 3:return new e(t[0],t[1],t[2]);case 4:return new e(t[0],t[1],t[2],t[3]);case 5:return new e(t[0],t[1],t[2],t[3],t[4]);case 6:return new e(t[0],t[1],t[2],t[3],t[4],t[5]);case 7:return new e(t[0],t[1],t[2],t[3],t[4],t[5],t[6])}var n=Un(e.prototype),r=e.apply(n,t);return Jo(r)?r:n}}function Fa(e){return function(t,n,r){var i=Se(t);if(!Ho(t)){var o=ii(n,3);t=Pu(t),n=function(e){return o(i[e],e,i)}}var u=e(t,n,r);return u>-1?i[o?t[u]:u]:a}}function Da(e){return Ja((function(t){var n=t.length,r=n,o=$n.prototype.thru;for(e&&t.reverse();r--;){var u=t[r];if(\"function\"!=typeof u)throw new Te(i);if(o&&!l&&\"wrapper\"==ri(u))var l=new $n([],!0)}for(r=l?r:n;++r<n;){var s=ri(u=t[r]),c=\"wrapper\"==s?ni(u):a;l=c&&mi(c[0])&&424==c[1]&&!c[4].length&&1==c[9]?l[ri(c[0])].apply(l,c[3]):1==u.length&&mi(u)?l[s]():l.thru(u)}return function(){var e=arguments,r=e[0];if(l&&1==e.length&&Wo(r))return l.plant(r).value();for(var a=0,i=n?t[a].apply(this,e):r;++a<n;)i=t[a].call(this,i);return i}}))}function Ra(e,t,n,i,o,u,l,c,f,p){var d=t&s,h=1&t,v=2&t,g=24&t,y=512&t,m=v?a:Aa(e);return function s(){for(var b=arguments.length,_=r(b),w=b;w--;)_[w]=arguments[w];if(g)var x=ai(s),k=function(e,t){for(var n=e.length,r=0;n--;)e[n]===t&&++r;return r}(_,x);if(i&&(_=Sa(_,i,o,g)),u&&(_=Ea(_,u,l,g)),b-=k,g&&b<p){var S=un(_,x);return Va(e,t,Ra,s.placeholder,n,_,S,c,f,p-b)}var E=h?n:this,C=v?E[e]:e;return b=_.length,c?_=function(e,t){for(var n=e.length,r=yn(t.length,n),i=Ca(e);r--;){var o=t[r];e[r]=vi(o,n)?i[o]:a}return e}(_,c):y&&b>1&&_.reverse(),d&&f<b&&(_.length=f),this&&this!==ft&&this instanceof s&&(C=m||Aa(C)),C.apply(E,_)}}function ja(e,t){return function(n,r){return function(e,t,n,r){return mr(e,(function(e,a,i){t(r,n(e),a,i)})),r}(n,e,t(r),{})}}function Ua(e,t){return function(n,r){var i;if(n===a&&r===a)return t;if(n!==a&&(i=n),r!==a){if(i===a)return r;\"string\"==typeof n||\"string\"==typeof r?(n=oa(n),r=oa(r)):(n=ia(n),r=ia(r)),i=e(n,r)}return i}}function Ia(e){return Ja((function(t){return t=zt(t,Gt(ii())),Qr((function(n){var r=this;return e(t,(function(e){return kt(e,r,n)}))}))}))}function $a(e,t){var n=(t=t===a?\" \":oa(t)).length;if(n<2)return n?qr(t,e):t;var r=qr(t,pt(e/cn(t)));return rn(t)?ma(fn(r),0,e).join(\"\"):r.slice(0,e)}function Ba(e){return function(t,n,i){return i&&\"number\"!=typeof i&&gi(t,n,i)&&(n=i=a),t=pu(t),n===a?(n=t,t=0):n=pu(n),function(e,t,n,a){for(var i=-1,o=gn(pt((t-e)/(n||1)),0),u=r(o);o--;)u[a?o:++i]=e,e+=n;return u}(t,n,i=i===a?t<n?1:-1:pu(i),e)}}function Wa(e){return function(t,n){return\"string\"==typeof t&&\"string\"==typeof n||(t=vu(t),n=vu(n)),e(t,n)}}function Va(e,t,n,r,i,o,u,s,c,f){var p=8&t;t|=p?l:64,4&(t&=~(p?64:l))||(t&=-4);var d=[e,t,i,p?o:a,p?u:a,p?a:o,p?a:u,s,c,f],h=n.apply(a,d);return mi(e)&&Ci(h,d),h.placeholder=r,Ni(h,e,t)}function Ha(e){var t=ke[e];return function(e,n){if(e=vu(e),(n=null==n?0:yn(du(n),292))&&Dt(e)){var r=(yu(e)+\"e\").split(\"e\");return+((r=(yu(t(r[0]+\"e\"+(+r[1]+n)))+\"e\").split(\"e\"))[0]+\"e\"+(+r[1]-n))}return t(e)}}var qa=En&&1/ln(new En([,-0]))[1]==c?function(e){return new En(e)}:ul;function Qa(e){return function(t){var n=fi(t);return n==x?an(t):n==T?sn(t):function(e,t){return zt(t,(function(t){return[t,e[t]]}))}(t,e(t))}}function Ya(e,t,n,o,c,f,p,d){var h=2&t;if(!h&&\"function\"!=typeof e)throw new Te(i);var v=o?o.length:0;if(v||(t&=-97,o=c=a),p=p===a?p:gn(du(p),0),d=d===a?d:du(d),v-=c?c.length:0,64&t){var g=o,y=c;o=c=a}var m=h?a:ni(e),b=[e,t,n,o,c,g,y,f,p,d];if(m&&function(e,t){var n=e[1],r=t[1],a=n|r,i=a<131,o=r==s&&8==n||r==s&&256==n&&e[7].length<=t[8]||384==r&&t[7].length<=t[8]&&8==n;if(!i&&!o)return e;1&r&&(e[2]=t[2],a|=1&n?0:4);var l=t[3];if(l){var c=e[3];e[3]=c?Sa(c,l,t[4]):l,e[4]=c?un(e[3],u):t[4]}(l=t[5])&&(c=e[5],e[5]=c?Ea(c,l,t[6]):l,e[6]=c?un(e[5],u):t[6]),(l=t[7])&&(e[7]=l),r&s&&(e[8]=null==e[8]?t[8]:yn(e[8],t[8])),null==e[9]&&(e[9]=t[9]),e[0]=t[0],e[1]=a}(b,m),e=b[0],t=b[1],n=b[2],o=b[3],c=b[4],!(d=b[9]=b[9]===a?h?0:e.length:gn(b[9]-v,0))&&24&t&&(t&=-25),t&&1!=t)_=8==t||16==t?function(e,t,n){var i=Aa(e);return function o(){for(var u=arguments.length,l=r(u),s=u,c=ai(o);s--;)l[s]=arguments[s];var f=u<3&&l[0]!==c&&l[u-1]!==c?[]:un(l,c);return(u-=f.length)<n?Va(e,t,Ra,o.placeholder,a,l,f,a,a,n-u):kt(this&&this!==ft&&this instanceof o?i:e,this,l)}}(e,t,d):t!=l&&33!=t||c.length?Ra.apply(a,b):function(e,t,n,a){var i=1&t,o=Aa(e);return function t(){for(var u=-1,l=arguments.length,s=-1,c=a.length,f=r(c+l),p=this&&this!==ft&&this instanceof t?o:e;++s<c;)f[s]=a[s];for(;l--;)f[s++]=arguments[++u];return kt(p,i?n:this,f)}}(e,t,n,o);else var _=function(e,t,n){var r=1&t,a=Aa(e);return function t(){return(this&&this!==ft&&this instanceof t?a:e).apply(r?n:this,arguments)}}(e,t,n);return Ni((m?Zr:Ci)(_,b),e,t)}function Ga(e,t,n,r){return e===a||Uo(e,Pe[n])&&!Oe.call(r,n)?t:e}function Ka(e,t,n,r,i,o){return Jo(e)&&Jo(t)&&(o.set(t,e),Ur(e,t,a,Ka,o),o.delete(t)),e}function Za(e){return ru(e)?a:e}function Xa(e,t,n,r,i,o){var u=1&n,l=e.length,s=t.length;if(l!=s&&!(u&&s>l))return!1;var c=o.get(e),f=o.get(t);if(c&&f)return c==t&&f==e;var p=-1,d=!0,h=2&n?new qn:a;for(o.set(e,t),o.set(t,e);++p<l;){var v=e[p],g=t[p];if(r)var y=u?r(g,v,p,t,e,o):r(v,g,p,e,t,o);if(y!==a){if(y)continue;d=!1;break}if(h){if(!Ft(t,(function(e,t){if(!Zt(h,t)&&(v===e||i(v,e,n,r,o)))return h.push(t)}))){d=!1;break}}else if(v!==g&&!i(v,g,n,r,o)){d=!1;break}}return o.delete(e),o.delete(t),d}function Ja(e){return Mi(ki(e,a,Wi),e+\"\")}function ei(e){return xr(e,Pu,si)}function ti(e){return xr(e,zu,ci)}var ni=Mn?function(e){return Mn.get(e)}:ul;function ri(e){for(var t=e.name+\"\",n=Nn[t],r=Oe.call(Nn,t)?n.length:0;r--;){var a=n[r],i=a.func;if(null==i||i==e)return a.name}return t}function ai(e){return(Oe.call(jn,\"placeholder\")?jn:e).placeholder}function ii(){var e=jn.iteratee||rl;return e=e===rl?Or:e,arguments.length?e(arguments[0],arguments[1]):e}function oi(e,t){var n,r,a=e.__data__;return(\"string\"==(r=typeof(n=t))||\"number\"==r||\"symbol\"==r||\"boolean\"==r?\"__proto__\"!==n:null===n)?a[\"string\"==typeof t?\"string\":\"hash\"]:a.map}function ui(e){for(var t=Pu(e),n=t.length;n--;){var r=t[n],a=e[r];t[n]=[r,a,wi(a)]}return t}function li(e,t){var n=function(e,t){return null==e?a:e[t]}(e,t);return Lr(n)?n:a}var si=vt?function(e){return null==e?[]:(e=Se(e),Mt(vt(e),(function(t){return qe.call(e,t)})))}:hl,ci=vt?function(e){for(var t=[];e;)Lt(t,si(e)),e=Ve(e);return t}:hl,fi=kr;function pi(e,t,n){for(var r=-1,a=(t=ga(t,e)).length,i=!1;++r<a;){var o=Fi(t[r]);if(!(i=null!=e&&n(e,o)))break;e=e[o]}return i||++r!=a?i:!!(a=null==e?0:e.length)&&Xo(a)&&vi(o,a)&&(Wo(e)||Bo(e))}function di(e){return\"function\"!=typeof e.constructor||_i(e)?{}:Un(Ve(e))}function hi(e){return Wo(e)||Bo(e)||!!(Ye&&e&&e[Ye])}function vi(e,t){var n=typeof e;return!!(t=null==t?f:t)&&(\"number\"==n||\"symbol\"!=n&&ye.test(e))&&e>-1&&e%1==0&&e<t}function gi(e,t,n){if(!Jo(n))return!1;var r=typeof t;return!!(\"number\"==r?Ho(n)&&vi(t,n.length):\"string\"==r&&t in n)&&Uo(n[t],e)}function yi(e,t){if(Wo(e))return!1;var n=typeof e;return!(\"number\"!=n&&\"symbol\"!=n&&\"boolean\"!=n&&null!=e&&!uu(e))||J.test(e)||!X.test(e)||null!=t&&e in Se(t)}function mi(e){var t=ri(e),n=jn[t];if(\"function\"!=typeof n||!(t in Bn.prototype))return!1;if(e===n)return!0;var r=ni(n);return!!r&&e===r[0]}(xn&&fi(new xn(new ArrayBuffer(1)))!=L||kn&&fi(new kn)!=x||Sn&&fi(Sn.resolve())!=E||En&&fi(new En)!=T||Cn&&fi(new Cn)!=P)&&(fi=function(e){var t=kr(e),n=t==S?e.constructor:a,r=n?Di(n):\"\";if(r)switch(r){case Pn:return L;case zn:return x;case Ln:return E;case On:return T;case An:return P}return t});var bi=ze?Ko:vl;function _i(e){var t=e&&e.constructor;return e===(\"function\"==typeof t&&t.prototype||Pe)}function wi(e){return e==e&&!Jo(e)}function xi(e,t){return function(n){return null!=n&&n[e]===t&&(t!==a||e in Se(n))}}function ki(e,t,n){return t=gn(t===a?e.length-1:t,0),function(){for(var a=arguments,i=-1,o=gn(a.length-t,0),u=r(o);++i<o;)u[i]=a[t+i];i=-1;for(var l=r(t+1);++i<t;)l[i]=a[i];return l[t]=n(u),kt(e,this,l)}}function Si(e,t){return t.length<2?e:wr(e,ea(t,0,-1))}function Ei(e,t){if((\"constructor\"!==t||\"function\"!=typeof e[t])&&\"__proto__\"!=t)return e[t]}var Ci=Pi(Zr),Ti=ct||function(e,t){return ft.setTimeout(e,t)},Mi=Pi(Xr);function Ni(e,t,n){var r=t+\"\";return Mi(e,function(e,t){var n=t.length;if(!n)return e;var r=n-1;return t[r]=(n>1?\"& \":\"\")+t[r],t=t.join(n>2?\", \":\" \"),e.replace(ie,\"{\\n/* [wrapped with \"+t+\"] */\\n\")}(r,function(e,t){return Et(h,(function(n){var r=\"_.\"+n[0];t&n[1]&&!Nt(e,r)&&e.push(r)})),e.sort()}(function(e){var t=e.match(oe);return t?t[1].split(ue):[]}(r),n)))}function Pi(e){var t=0,n=0;return function(){var r=mn(),i=16-(r-n);if(n=r,i>0){if(++t>=800)return arguments[0]}else t=0;return e.apply(a,arguments)}}function zi(e,t){var n=-1,r=e.length,i=r-1;for(t=t===a?r:t;++n<t;){var o=Hr(n,i),u=e[o];e[o]=e[n],e[n]=u}return e.length=t,e}var Li,Oi,Ai=(Li=Oo((function(e){var t=[];return 46===e.charCodeAt(0)&&t.push(\"\"),e.replace(ee,(function(e,n,r,a){t.push(r?a.replace(ce,\"$1\"):n||e)})),t}),(function(e){return 500===Oi.size&&Oi.clear(),e})),Oi=Li.cache,Li);function Fi(e){if(\"string\"==typeof e||uu(e))return e;var t=e+\"\";return\"0\"==t&&1/e==-1/0?\"-0\":t}function Di(e){if(null!=e){try{return Le.call(e)}catch(e){}try{return e+\"\"}catch(e){}}return\"\"}function Ri(e){if(e instanceof Bn)return e.clone();var t=new $n(e.__wrapped__,e.__chain__);return t.__actions__=Ca(e.__actions__),t.__index__=e.__index__,t.__values__=e.__values__,t}var ji=Qr((function(e,t){return qo(e)?sr(e,vr(t,1,qo,!0)):[]})),Ui=Qr((function(e,t){var n=Yi(t);return qo(n)&&(n=a),qo(e)?sr(e,vr(t,1,qo,!0),ii(n,2)):[]})),Ii=Qr((function(e,t){var n=Yi(t);return qo(n)&&(n=a),qo(e)?sr(e,vr(t,1,qo,!0),a,n):[]}));function $i(e,t,n){var r=null==e?0:e.length;if(!r)return-1;var a=null==n?0:du(n);return a<0&&(a=gn(r+a,0)),jt(e,ii(t,3),a)}function Bi(e,t,n){var r=null==e?0:e.length;if(!r)return-1;var i=r-1;return n!==a&&(i=du(n),i=n<0?gn(r+i,0):yn(i,r-1)),jt(e,ii(t,3),i,!0)}function Wi(e){return null!=e&&e.length?vr(e,1):[]}function Vi(e){return e&&e.length?e[0]:a}var Hi=Qr((function(e){var t=zt(e,ha);return t.length&&t[0]===e[0]?Tr(t):[]})),qi=Qr((function(e){var t=Yi(e),n=zt(e,ha);return t===Yi(n)?t=a:n.pop(),n.length&&n[0]===e[0]?Tr(n,ii(t,2)):[]})),Qi=Qr((function(e){var t=Yi(e),n=zt(e,ha);return(t=\"function\"==typeof t?t:a)&&n.pop(),n.length&&n[0]===e[0]?Tr(n,a,t):[]}));function Yi(e){var t=null==e?0:e.length;return t?e[t-1]:a}var Gi=Qr(Ki);function Ki(e,t){return e&&e.length&&t&&t.length?Wr(e,t):e}var Zi=Ja((function(e,t){var n=null==e?0:e.length,r=ar(e,t);return Vr(e,zt(t,(function(e){return vi(e,n)?+e:e})).sort(ka)),r}));function Xi(e){return null==e?e:wn.call(e)}var Ji=Qr((function(e){return ua(vr(e,1,qo,!0))})),eo=Qr((function(e){var t=Yi(e);return qo(t)&&(t=a),ua(vr(e,1,qo,!0),ii(t,2))})),to=Qr((function(e){var t=Yi(e);return t=\"function\"==typeof t?t:a,ua(vr(e,1,qo,!0),a,t)}));function no(e){if(!e||!e.length)return[];var t=0;return e=Mt(e,(function(e){if(qo(e))return t=gn(e.length,t),!0})),Qt(t,(function(t){return zt(e,Wt(t))}))}function ro(e,t){if(!e||!e.length)return[];var n=no(e);return null==t?n:zt(n,(function(e){return kt(t,a,e)}))}var ao=Qr((function(e,t){return qo(e)?sr(e,t):[]})),io=Qr((function(e){return pa(Mt(e,qo))})),oo=Qr((function(e){var t=Yi(e);return qo(t)&&(t=a),pa(Mt(e,qo),ii(t,2))})),uo=Qr((function(e){var t=Yi(e);return t=\"function\"==typeof t?t:a,pa(Mt(e,qo),a,t)})),lo=Qr(no),so=Qr((function(e){var t=e.length,n=t>1?e[t-1]:a;return n=\"function\"==typeof n?(e.pop(),n):a,ro(e,n)}));function co(e){var t=jn(e);return t.__chain__=!0,t}function fo(e,t){return t(e)}var po=Ja((function(e){var t=e.length,n=t?e[0]:0,r=this.__wrapped__,i=function(t){return ar(t,e)};return!(t>1||this.__actions__.length)&&r instanceof Bn&&vi(n)?((r=r.slice(n,+n+(t?1:0))).__actions__.push({func:fo,args:[i],thisArg:a}),new $n(r,this.__chain__).thru((function(e){return t&&!e.length&&e.push(a),e}))):this.thru(i)})),ho=Ma((function(e,t,n){Oe.call(e,n)?++e[n]:rr(e,n,1)})),vo=Fa($i),go=Fa(Bi);function yo(e,t){return(Wo(e)?Et:cr)(e,ii(t,3))}function mo(e,t){return(Wo(e)?Ct:fr)(e,ii(t,3))}var bo=Ma((function(e,t,n){Oe.call(e,n)?e[n].push(t):rr(e,n,[t])})),_o=Qr((function(e,t,n){var a=-1,i=\"function\"==typeof t,o=Ho(e)?r(e.length):[];return cr(e,(function(e){o[++a]=i?kt(t,e,n):Mr(e,t,n)})),o})),wo=Ma((function(e,t,n){rr(e,n,t)}));function xo(e,t){return(Wo(e)?zt:Dr)(e,ii(t,3))}var ko=Ma((function(e,t,n){e[n?0:1].push(t)}),(function(){return[[],[]]})),So=Qr((function(e,t){if(null==e)return[];var n=t.length;return n>1&&gi(e,t[0],t[1])?t=[]:n>2&&gi(t[0],t[1],t[2])&&(t=[t[0]]),$r(e,vr(t,1),[])})),Eo=st||function(){return ft.Date.now()};function Co(e,t,n){return t=n?a:t,t=e&&null==t?e.length:t,Ya(e,s,a,a,a,a,t)}function To(e,t){var n;if(\"function\"!=typeof t)throw new Te(i);return e=du(e),function(){return--e>0&&(n=t.apply(this,arguments)),e<=1&&(t=a),n}}var Mo=Qr((function(e,t,n){var r=1;if(n.length){var a=un(n,ai(Mo));r|=l}return Ya(e,r,t,n,a)})),No=Qr((function(e,t,n){var r=3;if(n.length){var a=un(n,ai(No));r|=l}return Ya(t,r,e,n,a)}));function Po(e,t,n){var r,o,u,l,s,c,f=0,p=!1,d=!1,h=!0;if(\"function\"!=typeof e)throw new Te(i);function v(t){var n=r,i=o;return r=o=a,f=t,l=e.apply(i,n)}function g(e){var n=e-c;return c===a||n>=t||n<0||d&&e-f>=u}function y(){var e=Eo();if(g(e))return m(e);s=Ti(y,function(e){var n=t-(e-c);return d?yn(n,u-(e-f)):n}(e))}function m(e){return s=a,h&&r?v(e):(r=o=a,l)}function b(){var e=Eo(),n=g(e);if(r=arguments,o=this,c=e,n){if(s===a)return function(e){return f=e,s=Ti(y,t),p?v(e):l}(c);if(d)return ba(s),s=Ti(y,t),v(c)}return s===a&&(s=Ti(y,t)),l}return t=vu(t)||0,Jo(n)&&(p=!!n.leading,u=(d=\"maxWait\"in n)?gn(vu(n.maxWait)||0,t):u,h=\"trailing\"in n?!!n.trailing:h),b.cancel=function(){s!==a&&ba(s),f=0,r=c=o=s=a},b.flush=function(){return s===a?l:m(Eo())},b}var zo=Qr((function(e,t){return lr(e,1,t)})),Lo=Qr((function(e,t,n){return lr(e,vu(t)||0,n)}));function Oo(e,t){if(\"function\"!=typeof e||null!=t&&\"function\"!=typeof t)throw new Te(i);var n=function(){var r=arguments,a=t?t.apply(this,r):r[0],i=n.cache;if(i.has(a))return i.get(a);var o=e.apply(this,r);return n.cache=i.set(a,o)||i,o};return n.cache=new(Oo.Cache||Hn),n}function Ao(e){if(\"function\"!=typeof e)throw new Te(i);return function(){var t=arguments;switch(t.length){case 0:return!e.call(this);case 1:return!e.call(this,t[0]);case 2:return!e.call(this,t[0],t[1]);case 3:return!e.call(this,t[0],t[1],t[2])}return!e.apply(this,t)}}Oo.Cache=Hn;var Fo=ya((function(e,t){var n=(t=1==t.length&&Wo(t[0])?zt(t[0],Gt(ii())):zt(vr(t,1),Gt(ii()))).length;return Qr((function(r){for(var a=-1,i=yn(r.length,n);++a<i;)r[a]=t[a].call(this,r[a]);return kt(e,this,r)}))})),Do=Qr((function(e,t){var n=un(t,ai(Do));return Ya(e,l,a,t,n)})),Ro=Qr((function(e,t){var n=un(t,ai(Ro));return Ya(e,64,a,t,n)})),jo=Ja((function(e,t){return Ya(e,256,a,a,a,t)}));function Uo(e,t){return e===t||e!=e&&t!=t}var Io=Wa(Sr),$o=Wa((function(e,t){return e>=t})),Bo=Nr(function(){return arguments}())?Nr:function(e){return eu(e)&&Oe.call(e,\"callee\")&&!qe.call(e,\"callee\")},Wo=r.isArray,Vo=yt?Gt(yt):function(e){return eu(e)&&kr(e)==z};function Ho(e){return null!=e&&Xo(e.length)&&!Ko(e)}function qo(e){return eu(e)&&Ho(e)}var Qo=gt||vl,Yo=mt?Gt(mt):function(e){return eu(e)&&kr(e)==m};function Go(e){if(!eu(e))return!1;var t=kr(e);return t==b||\"[object DOMException]\"==t||\"string\"==typeof e.message&&\"string\"==typeof e.name&&!ru(e)}function Ko(e){if(!Jo(e))return!1;var t=kr(e);return t==_||t==w||\"[object AsyncFunction]\"==t||\"[object Proxy]\"==t}function Zo(e){return\"number\"==typeof e&&e==du(e)}function Xo(e){return\"number\"==typeof e&&e>-1&&e%1==0&&e<=f}function Jo(e){var t=typeof e;return null!=e&&(\"object\"==t||\"function\"==t)}function eu(e){return null!=e&&\"object\"==typeof e}var tu=bt?Gt(bt):function(e){return eu(e)&&fi(e)==x};function nu(e){return\"number\"==typeof e||eu(e)&&kr(e)==k}function ru(e){if(!eu(e)||kr(e)!=S)return!1;var t=Ve(e);if(null===t)return!0;var n=Oe.call(t,\"constructor\")&&t.constructor;return\"function\"==typeof n&&n instanceof n&&Le.call(n)==Re}var au=_t?Gt(_t):function(e){return eu(e)&&kr(e)==C},iu=wt?Gt(wt):function(e){return eu(e)&&fi(e)==T};function ou(e){return\"string\"==typeof e||!Wo(e)&&eu(e)&&kr(e)==M}function uu(e){return\"symbol\"==typeof e||eu(e)&&kr(e)==N}var lu=xt?Gt(xt):function(e){return eu(e)&&Xo(e.length)&&!!at[kr(e)]},su=Wa(Fr),cu=Wa((function(e,t){return e<=t}));function fu(e){if(!e)return[];if(Ho(e))return ou(e)?fn(e):Ca(e);if(Ge&&e[Ge])return function(e){for(var t,n=[];!(t=e.next()).done;)n.push(t.value);return n}(e[Ge]());var t=fi(e);return(t==x?an:t==T?ln:Uu)(e)}function pu(e){return e?(e=vu(e))===c||e===-1/0?17976931348623157e292*(e<0?-1:1):e==e?e:0:0===e?e:0}function du(e){var t=pu(e),n=t%1;return t==t?n?t-n:t:0}function hu(e){return e?ir(du(e),0,d):0}function vu(e){if(\"number\"==typeof e)return e;if(uu(e))return p;if(Jo(e)){var t=\"function\"==typeof e.valueOf?e.valueOf():e;e=Jo(t)?t+\"\":t}if(\"string\"!=typeof e)return 0===e?e:+e;e=Yt(e);var n=he.test(e);return n||ge.test(e)?lt(e.slice(2),n?2:8):de.test(e)?p:+e}function gu(e){return Ta(e,zu(e))}function yu(e){return null==e?\"\":oa(e)}var mu=Na((function(e,t){if(_i(t)||Ho(t))Ta(t,Pu(t),e);else for(var n in t)Oe.call(t,n)&&Jn(e,n,t[n])})),bu=Na((function(e,t){Ta(t,zu(t),e)})),_u=Na((function(e,t,n,r){Ta(t,zu(t),e,r)})),wu=Na((function(e,t,n,r){Ta(t,Pu(t),e,r)})),xu=Ja(ar),ku=Qr((function(e,t){e=Se(e);var n=-1,r=t.length,i=r>2?t[2]:a;for(i&&gi(t[0],t[1],i)&&(r=1);++n<r;)for(var o=t[n],u=zu(o),l=-1,s=u.length;++l<s;){var c=u[l],f=e[c];(f===a||Uo(f,Pe[c])&&!Oe.call(e,c))&&(e[c]=o[c])}return e})),Su=Qr((function(e){return e.push(a,Ka),kt(Ou,a,e)}));function Eu(e,t,n){var r=null==e?a:wr(e,t);return r===a?n:r}function Cu(e,t){return null!=e&&pi(e,t,Cr)}var Tu=ja((function(e,t,n){null!=t&&\"function\"!=typeof t.toString&&(t=De.call(t)),e[t]=n}),Ju(nl)),Mu=ja((function(e,t,n){null!=t&&\"function\"!=typeof t.toString&&(t=De.call(t)),Oe.call(e,t)?e[t].push(n):e[t]=[n]}),ii),Nu=Qr(Mr);function Pu(e){return Ho(e)?Yn(e):Ar(e)}function zu(e){return Ho(e)?Yn(e,!0):function(e){if(!Jo(e))return function(e){var t=[];if(null!=e)for(var n in Se(e))t.push(n);return t}(e);var t=_i(e),n=[];for(var r in e)(\"constructor\"!=r||!t&&Oe.call(e,r))&&n.push(r);return n}(e)}var Lu=Na((function(e,t,n){Ur(e,t,n)})),Ou=Na((function(e,t,n,r){Ur(e,t,n,r)})),Au=Ja((function(e,t){var n={};if(null==e)return n;var r=!1;t=zt(t,(function(t){return t=ga(t,e),r||(r=t.length>1),t})),Ta(e,ti(e),n),r&&(n=or(n,7,Za));for(var a=t.length;a--;)la(n,t[a]);return n})),Fu=Ja((function(e,t){return null==e?{}:function(e,t){return Br(e,t,(function(t,n){return Cu(e,n)}))}(e,t)}));function Du(e,t){if(null==e)return{};var n=zt(ti(e),(function(e){return[e]}));return t=ii(t),Br(e,n,(function(e,n){return t(e,n[0])}))}var Ru=Qa(Pu),ju=Qa(zu);function Uu(e){return null==e?[]:Kt(e,Pu(e))}var Iu=Oa((function(e,t,n){return t=t.toLowerCase(),e+(n?$u(t):t)}));function $u(e){return Gu(yu(e).toLowerCase())}function Bu(e){return(e=yu(e))&&e.replace(me,en).replace(Ze,\"\")}var Wu=Oa((function(e,t,n){return e+(n?\"-\":\"\")+t.toLowerCase()})),Vu=Oa((function(e,t,n){return e+(n?\" \":\"\")+t.toLowerCase()})),Hu=La(\"toLowerCase\"),qu=Oa((function(e,t,n){return e+(n?\"_\":\"\")+t.toLowerCase()})),Qu=Oa((function(e,t,n){return e+(n?\" \":\"\")+Gu(t)})),Yu=Oa((function(e,t,n){return e+(n?\" \":\"\")+t.toUpperCase()})),Gu=La(\"toUpperCase\");function Ku(e,t,n){return e=yu(e),(t=n?a:t)===a?function(e){return tt.test(e)}(e)?function(e){return e.match(Je)||[]}(e):function(e){return e.match(le)||[]}(e):e.match(t)||[]}var Zu=Qr((function(e,t){try{return kt(e,a,t)}catch(e){return Go(e)?e:new we(e)}})),Xu=Ja((function(e,t){return Et(t,(function(t){t=Fi(t),rr(e,t,Mo(e[t],e))})),e}));function Ju(e){return function(){return e}}var el=Da(),tl=Da(!0);function nl(e){return e}function rl(e){return Or(\"function\"==typeof e?e:or(e,1))}var al=Qr((function(e,t){return function(n){return Mr(n,e,t)}})),il=Qr((function(e,t){return function(n){return Mr(e,n,t)}}));function ol(e,t,n){var r=Pu(t),a=_r(t,r);null!=n||Jo(t)&&(a.length||!r.length)||(n=t,t=e,e=this,a=_r(t,Pu(t)));var i=!(Jo(n)&&\"chain\"in n&&!n.chain),o=Ko(e);return Et(a,(function(n){var r=t[n];e[n]=r,o&&(e.prototype[n]=function(){var t=this.__chain__;if(i||t){var n=e(this.__wrapped__);return(n.__actions__=Ca(this.__actions__)).push({func:r,args:arguments,thisArg:e}),n.__chain__=t,n}return r.apply(e,Lt([this.value()],arguments))})})),e}function ul(){}var ll=Ia(zt),sl=Ia(Tt),cl=Ia(Ft);function fl(e){return yi(e)?Wt(Fi(e)):function(e){return function(t){return wr(t,e)}}(e)}var pl=Ba(),dl=Ba(!0);function hl(){return[]}function vl(){return!1}var gl,yl=Ua((function(e,t){return e+t}),0),ml=Ha(\"ceil\"),bl=Ua((function(e,t){return e/t}),1),_l=Ha(\"floor\"),wl=Ua((function(e,t){return e*t}),1),xl=Ha(\"round\"),kl=Ua((function(e,t){return e-t}),0);return jn.after=function(e,t){if(\"function\"!=typeof t)throw new Te(i);return e=du(e),function(){if(--e<1)return t.apply(this,arguments)}},jn.ary=Co,jn.assign=mu,jn.assignIn=bu,jn.assignInWith=_u,jn.assignWith=wu,jn.at=xu,jn.before=To,jn.bind=Mo,jn.bindAll=Xu,jn.bindKey=No,jn.castArray=function(){if(!arguments.length)return[];var e=arguments[0];return Wo(e)?e:[e]},jn.chain=co,jn.chunk=function(e,t,n){t=(n?gi(e,t,n):t===a)?1:gn(du(t),0);var i=null==e?0:e.length;if(!i||t<1)return[];for(var o=0,u=0,l=r(pt(i/t));o<i;)l[u++]=ea(e,o,o+=t);return l},jn.compact=function(e){for(var t=-1,n=null==e?0:e.length,r=0,a=[];++t<n;){var i=e[t];i&&(a[r++]=i)}return a},jn.concat=function(){var e=arguments.length;if(!e)return[];for(var t=r(e-1),n=arguments[0],a=e;a--;)t[a-1]=arguments[a];return Lt(Wo(n)?Ca(n):[n],vr(t,1))},jn.cond=function(e){var t=null==e?0:e.length,n=ii();return e=t?zt(e,(function(e){if(\"function\"!=typeof e[1])throw new Te(i);return[n(e[0]),e[1]]})):[],Qr((function(n){for(var r=-1;++r<t;){var a=e[r];if(kt(a[0],this,n))return kt(a[1],this,n)}}))},jn.conforms=function(e){return function(e){var t=Pu(e);return function(n){return ur(n,e,t)}}(or(e,1))},jn.constant=Ju,jn.countBy=ho,jn.create=function(e,t){var n=Un(e);return null==t?n:nr(n,t)},jn.curry=function e(t,n,r){var i=Ya(t,8,a,a,a,a,a,n=r?a:n);return i.placeholder=e.placeholder,i},jn.curryRight=function e(t,n,r){var i=Ya(t,16,a,a,a,a,a,n=r?a:n);return i.placeholder=e.placeholder,i},jn.debounce=Po,jn.defaults=ku,jn.defaultsDeep=Su,jn.defer=zo,jn.delay=Lo,jn.difference=ji,jn.differenceBy=Ui,jn.differenceWith=Ii,jn.drop=function(e,t,n){var r=null==e?0:e.length;return r?ea(e,(t=n||t===a?1:du(t))<0?0:t,r):[]},jn.dropRight=function(e,t,n){var r=null==e?0:e.length;return r?ea(e,0,(t=r-(t=n||t===a?1:du(t)))<0?0:t):[]},jn.dropRightWhile=function(e,t){return e&&e.length?ca(e,ii(t,3),!0,!0):[]},jn.dropWhile=function(e,t){return e&&e.length?ca(e,ii(t,3),!0):[]},jn.fill=function(e,t,n,r){var i=null==e?0:e.length;return i?(n&&\"number\"!=typeof n&&gi(e,t,n)&&(n=0,r=i),function(e,t,n,r){var i=e.length;for((n=du(n))<0&&(n=-n>i?0:i+n),(r=r===a||r>i?i:du(r))<0&&(r+=i),r=n>r?0:hu(r);n<r;)e[n++]=t;return e}(e,t,n,r)):[]},jn.filter=function(e,t){return(Wo(e)?Mt:hr)(e,ii(t,3))},jn.flatMap=function(e,t){return vr(xo(e,t),1)},jn.flatMapDeep=function(e,t){return vr(xo(e,t),c)},jn.flatMapDepth=function(e,t,n){return n=n===a?1:du(n),vr(xo(e,t),n)},jn.flatten=Wi,jn.flattenDeep=function(e){return null!=e&&e.length?vr(e,c):[]},jn.flattenDepth=function(e,t){return null!=e&&e.length?vr(e,t=t===a?1:du(t)):[]},jn.flip=function(e){return Ya(e,512)},jn.flow=el,jn.flowRight=tl,jn.fromPairs=function(e){for(var t=-1,n=null==e?0:e.length,r={};++t<n;){var a=e[t];r[a[0]]=a[1]}return r},jn.functions=function(e){return null==e?[]:_r(e,Pu(e))},jn.functionsIn=function(e){return null==e?[]:_r(e,zu(e))},jn.groupBy=bo,jn.initial=function(e){return null!=e&&e.length?ea(e,0,-1):[]},jn.intersection=Hi,jn.intersectionBy=qi,jn.intersectionWith=Qi,jn.invert=Tu,jn.invertBy=Mu,jn.invokeMap=_o,jn.iteratee=rl,jn.keyBy=wo,jn.keys=Pu,jn.keysIn=zu,jn.map=xo,jn.mapKeys=function(e,t){var n={};return t=ii(t,3),mr(e,(function(e,r,a){rr(n,t(e,r,a),e)})),n},jn.mapValues=function(e,t){var n={};return t=ii(t,3),mr(e,(function(e,r,a){rr(n,r,t(e,r,a))})),n},jn.matches=function(e){return Rr(or(e,1))},jn.matchesProperty=function(e,t){return jr(e,or(t,1))},jn.memoize=Oo,jn.merge=Lu,jn.mergeWith=Ou,jn.method=al,jn.methodOf=il,jn.mixin=ol,jn.negate=Ao,jn.nthArg=function(e){return e=du(e),Qr((function(t){return Ir(t,e)}))},jn.omit=Au,jn.omitBy=function(e,t){return Du(e,Ao(ii(t)))},jn.once=function(e){return To(2,e)},jn.orderBy=function(e,t,n,r){return null==e?[]:(Wo(t)||(t=null==t?[]:[t]),Wo(n=r?a:n)||(n=null==n?[]:[n]),$r(e,t,n))},jn.over=ll,jn.overArgs=Fo,jn.overEvery=sl,jn.overSome=cl,jn.partial=Do,jn.partialRight=Ro,jn.partition=ko,jn.pick=Fu,jn.pickBy=Du,jn.property=fl,jn.propertyOf=function(e){return function(t){return null==e?a:wr(e,t)}},jn.pull=Gi,jn.pullAll=Ki,jn.pullAllBy=function(e,t,n){return e&&e.length&&t&&t.length?Wr(e,t,ii(n,2)):e},jn.pullAllWith=function(e,t,n){return e&&e.length&&t&&t.length?Wr(e,t,a,n):e},jn.pullAt=Zi,jn.range=pl,jn.rangeRight=dl,jn.rearg=jo,jn.reject=function(e,t){return(Wo(e)?Mt:hr)(e,Ao(ii(t,3)))},jn.remove=function(e,t){var n=[];if(!e||!e.length)return n;var r=-1,a=[],i=e.length;for(t=ii(t,3);++r<i;){var o=e[r];t(o,r,e)&&(n.push(o),a.push(r))}return Vr(e,a),n},jn.rest=function(e,t){if(\"function\"!=typeof e)throw new Te(i);return Qr(e,t=t===a?t:du(t))},jn.reverse=Xi,jn.sampleSize=function(e,t,n){return t=(n?gi(e,t,n):t===a)?1:du(t),(Wo(e)?Kn:Gr)(e,t)},jn.set=function(e,t,n){return null==e?e:Kr(e,t,n)},jn.setWith=function(e,t,n,r){return r=\"function\"==typeof r?r:a,null==e?e:Kr(e,t,n,r)},jn.shuffle=function(e){return(Wo(e)?Zn:Jr)(e)},jn.slice=function(e,t,n){var r=null==e?0:e.length;return r?(n&&\"number\"!=typeof n&&gi(e,t,n)?(t=0,n=r):(t=null==t?0:du(t),n=n===a?r:du(n)),ea(e,t,n)):[]},jn.sortBy=So,jn.sortedUniq=function(e){return e&&e.length?aa(e):[]},jn.sortedUniqBy=function(e,t){return e&&e.length?aa(e,ii(t,2)):[]},jn.split=function(e,t,n){return n&&\"number\"!=typeof n&&gi(e,t,n)&&(t=n=a),(n=n===a?d:n>>>0)?(e=yu(e))&&(\"string\"==typeof t||null!=t&&!au(t))&&!(t=oa(t))&&rn(e)?ma(fn(e),0,n):e.split(t,n):[]},jn.spread=function(e,t){if(\"function\"!=typeof e)throw new Te(i);return t=null==t?0:gn(du(t),0),Qr((function(n){var r=n[t],a=ma(n,0,t);return r&&Lt(a,r),kt(e,this,a)}))},jn.tail=function(e){var t=null==e?0:e.length;return t?ea(e,1,t):[]},jn.take=function(e,t,n){return e&&e.length?ea(e,0,(t=n||t===a?1:du(t))<0?0:t):[]},jn.takeRight=function(e,t,n){var r=null==e?0:e.length;return r?ea(e,(t=r-(t=n||t===a?1:du(t)))<0?0:t,r):[]},jn.takeRightWhile=function(e,t){return e&&e.length?ca(e,ii(t,3),!1,!0):[]},jn.takeWhile=function(e,t){return e&&e.length?ca(e,ii(t,3)):[]},jn.tap=function(e,t){return t(e),e},jn.throttle=function(e,t,n){var r=!0,a=!0;if(\"function\"!=typeof e)throw new Te(i);return Jo(n)&&(r=\"leading\"in n?!!n.leading:r,a=\"trailing\"in n?!!n.trailing:a),Po(e,t,{leading:r,maxWait:t,trailing:a})},jn.thru=fo,jn.toArray=fu,jn.toPairs=Ru,jn.toPairsIn=ju,jn.toPath=function(e){return Wo(e)?zt(e,Fi):uu(e)?[e]:Ca(Ai(yu(e)))},jn.toPlainObject=gu,jn.transform=function(e,t,n){var r=Wo(e),a=r||Qo(e)||lu(e);if(t=ii(t,4),null==n){var i=e&&e.constructor;n=a?r?new i:[]:Jo(e)&&Ko(i)?Un(Ve(e)):{}}return(a?Et:mr)(e,(function(e,r,a){return t(n,e,r,a)})),n},jn.unary=function(e){return Co(e,1)},jn.union=Ji,jn.unionBy=eo,jn.unionWith=to,jn.uniq=function(e){return e&&e.length?ua(e):[]},jn.uniqBy=function(e,t){return e&&e.length?ua(e,ii(t,2)):[]},jn.uniqWith=function(e,t){return t=\"function\"==typeof t?t:a,e&&e.length?ua(e,a,t):[]},jn.unset=function(e,t){return null==e||la(e,t)},jn.unzip=no,jn.unzipWith=ro,jn.update=function(e,t,n){return null==e?e:sa(e,t,va(n))},jn.updateWith=function(e,t,n,r){return r=\"function\"==typeof r?r:a,null==e?e:sa(e,t,va(n),r)},jn.values=Uu,jn.valuesIn=function(e){return null==e?[]:Kt(e,zu(e))},jn.without=ao,jn.words=Ku,jn.wrap=function(e,t){return Do(va(t),e)},jn.xor=io,jn.xorBy=oo,jn.xorWith=uo,jn.zip=lo,jn.zipObject=function(e,t){return da(e||[],t||[],Jn)},jn.zipObjectDeep=function(e,t){return da(e||[],t||[],Kr)},jn.zipWith=so,jn.entries=Ru,jn.entriesIn=ju,jn.extend=bu,jn.extendWith=_u,ol(jn,jn),jn.add=yl,jn.attempt=Zu,jn.camelCase=Iu,jn.capitalize=$u,jn.ceil=ml,jn.clamp=function(e,t,n){return n===a&&(n=t,t=a),n!==a&&(n=(n=vu(n))==n?n:0),t!==a&&(t=(t=vu(t))==t?t:0),ir(vu(e),t,n)},jn.clone=function(e){return or(e,4)},jn.cloneDeep=function(e){return or(e,5)},jn.cloneDeepWith=function(e,t){return or(e,5,t=\"function\"==typeof t?t:a)},jn.cloneWith=function(e,t){return or(e,4,t=\"function\"==typeof t?t:a)},jn.conformsTo=function(e,t){return null==t||ur(e,t,Pu(t))},jn.deburr=Bu,jn.defaultTo=function(e,t){return null==e||e!=e?t:e},jn.divide=bl,jn.endsWith=function(e,t,n){e=yu(e),t=oa(t);var r=e.length,i=n=n===a?r:ir(du(n),0,r);return(n-=t.length)>=0&&e.slice(n,i)==t},jn.eq=Uo,jn.escape=function(e){return(e=yu(e))&&Y.test(e)?e.replace(q,tn):e},jn.escapeRegExp=function(e){return(e=yu(e))&&ne.test(e)?e.replace(te,\"\\\\$&\"):e},jn.every=function(e,t,n){var r=Wo(e)?Tt:pr;return n&&gi(e,t,n)&&(t=a),r(e,ii(t,3))},jn.find=vo,jn.findIndex=$i,jn.findKey=function(e,t){return Rt(e,ii(t,3),mr)},jn.findLast=go,jn.findLastIndex=Bi,jn.findLastKey=function(e,t){return Rt(e,ii(t,3),br)},jn.floor=_l,jn.forEach=yo,jn.forEachRight=mo,jn.forIn=function(e,t){return null==e?e:gr(e,ii(t,3),zu)},jn.forInRight=function(e,t){return null==e?e:yr(e,ii(t,3),zu)},jn.forOwn=function(e,t){return e&&mr(e,ii(t,3))},jn.forOwnRight=function(e,t){return e&&br(e,ii(t,3))},jn.get=Eu,jn.gt=Io,jn.gte=$o,jn.has=function(e,t){return null!=e&&pi(e,t,Er)},jn.hasIn=Cu,jn.head=Vi,jn.identity=nl,jn.includes=function(e,t,n,r){e=Ho(e)?e:Uu(e),n=n&&!r?du(n):0;var a=e.length;return n<0&&(n=gn(a+n,0)),ou(e)?n<=a&&e.indexOf(t,n)>-1:!!a&&Ut(e,t,n)>-1},jn.indexOf=function(e,t,n){var r=null==e?0:e.length;if(!r)return-1;var a=null==n?0:du(n);return a<0&&(a=gn(r+a,0)),Ut(e,t,a)},jn.inRange=function(e,t,n){return t=pu(t),n===a?(n=t,t=0):n=pu(n),function(e,t,n){return e>=yn(t,n)&&e<gn(t,n)}(e=vu(e),t,n)},jn.invoke=Nu,jn.isArguments=Bo,jn.isArray=Wo,jn.isArrayBuffer=Vo,jn.isArrayLike=Ho,jn.isArrayLikeObject=qo,jn.isBoolean=function(e){return!0===e||!1===e||eu(e)&&kr(e)==y},jn.isBuffer=Qo,jn.isDate=Yo,jn.isElement=function(e){return eu(e)&&1===e.nodeType&&!ru(e)},jn.isEmpty=function(e){if(null==e)return!0;if(Ho(e)&&(Wo(e)||\"string\"==typeof e||\"function\"==typeof e.splice||Qo(e)||lu(e)||Bo(e)))return!e.length;var t=fi(e);if(t==x||t==T)return!e.size;if(_i(e))return!Ar(e).length;for(var n in e)if(Oe.call(e,n))return!1;return!0},jn.isEqual=function(e,t){return Pr(e,t)},jn.isEqualWith=function(e,t,n){var r=(n=\"function\"==typeof n?n:a)?n(e,t):a;return r===a?Pr(e,t,a,n):!!r},jn.isError=Go,jn.isFinite=function(e){return\"number\"==typeof e&&Dt(e)},jn.isFunction=Ko,jn.isInteger=Zo,jn.isLength=Xo,jn.isMap=tu,jn.isMatch=function(e,t){return e===t||zr(e,t,ui(t))},jn.isMatchWith=function(e,t,n){return n=\"function\"==typeof n?n:a,zr(e,t,ui(t),n)},jn.isNaN=function(e){return nu(e)&&e!=+e},jn.isNative=function(e){if(bi(e))throw new we(\"Unsupported core-js use. Try https://npms.io/search?q=ponyfill.\");return Lr(e)},jn.isNil=function(e){return null==e},jn.isNull=function(e){return null===e},jn.isNumber=nu,jn.isObject=Jo,jn.isObjectLike=eu,jn.isPlainObject=ru,jn.isRegExp=au,jn.isSafeInteger=function(e){return Zo(e)&&e>=-9007199254740991&&e<=f},jn.isSet=iu,jn.isString=ou,jn.isSymbol=uu,jn.isTypedArray=lu,jn.isUndefined=function(e){return e===a},jn.isWeakMap=function(e){return eu(e)&&fi(e)==P},jn.isWeakSet=function(e){return eu(e)&&\"[object WeakSet]\"==kr(e)},jn.join=function(e,t){return null==e?\"\":Vt.call(e,t)},jn.kebabCase=Wu,jn.last=Yi,jn.lastIndexOf=function(e,t,n){var r=null==e?0:e.length;if(!r)return-1;var i=r;return n!==a&&(i=(i=du(n))<0?gn(r+i,0):yn(i,r-1)),t==t?function(e,t,n){for(var r=n+1;r--;)if(e[r]===t)return r;return r}(e,t,i):jt(e,$t,i,!0)},jn.lowerCase=Vu,jn.lowerFirst=Hu,jn.lt=su,jn.lte=cu,jn.max=function(e){return e&&e.length?dr(e,nl,Sr):a},jn.maxBy=function(e,t){return e&&e.length?dr(e,ii(t,2),Sr):a},jn.mean=function(e){return Bt(e,nl)},jn.meanBy=function(e,t){return Bt(e,ii(t,2))},jn.min=function(e){return e&&e.length?dr(e,nl,Fr):a},jn.minBy=function(e,t){return e&&e.length?dr(e,ii(t,2),Fr):a},jn.stubArray=hl,jn.stubFalse=vl,jn.stubObject=function(){return{}},jn.stubString=function(){return\"\"},jn.stubTrue=function(){return!0},jn.multiply=wl,jn.nth=function(e,t){return e&&e.length?Ir(e,du(t)):a},jn.noConflict=function(){return ft._===this&&(ft._=je),this},jn.noop=ul,jn.now=Eo,jn.pad=function(e,t,n){e=yu(e);var r=(t=du(t))?cn(e):0;if(!t||r>=t)return e;var a=(t-r)/2;return $a(dt(a),n)+e+$a(pt(a),n)},jn.padEnd=function(e,t,n){e=yu(e);var r=(t=du(t))?cn(e):0;return t&&r<t?e+$a(t-r,n):e},jn.padStart=function(e,t,n){e=yu(e);var r=(t=du(t))?cn(e):0;return t&&r<t?$a(t-r,n)+e:e},jn.parseInt=function(e,t,n){return n||null==t?t=0:t&&(t=+t),bn(yu(e).replace(re,\"\"),t||0)},jn.random=function(e,t,n){if(n&&\"boolean\"!=typeof n&&gi(e,t,n)&&(t=n=a),n===a&&(\"boolean\"==typeof t?(n=t,t=a):\"boolean\"==typeof e&&(n=e,e=a)),e===a&&t===a?(e=0,t=1):(e=pu(e),t===a?(t=e,e=0):t=pu(t)),e>t){var r=e;e=t,t=r}if(n||e%1||t%1){var i=_n();return yn(e+i*(t-e+ut(\"1e-\"+((i+\"\").length-1))),t)}return Hr(e,t)},jn.reduce=function(e,t,n){var r=Wo(e)?Ot:Ht,a=arguments.length<3;return r(e,ii(t,4),n,a,cr)},jn.reduceRight=function(e,t,n){var r=Wo(e)?At:Ht,a=arguments.length<3;return r(e,ii(t,4),n,a,fr)},jn.repeat=function(e,t,n){return t=(n?gi(e,t,n):t===a)?1:du(t),qr(yu(e),t)},jn.replace=function(){var e=arguments,t=yu(e[0]);return e.length<3?t:t.replace(e[1],e[2])},jn.result=function(e,t,n){var r=-1,i=(t=ga(t,e)).length;for(i||(i=1,e=a);++r<i;){var o=null==e?a:e[Fi(t[r])];o===a&&(r=i,o=n),e=Ko(o)?o.call(e):o}return e},jn.round=xl,jn.runInContext=e,jn.sample=function(e){return(Wo(e)?Gn:Yr)(e)},jn.size=function(e){if(null==e)return 0;if(Ho(e))return ou(e)?cn(e):e.length;var t=fi(e);return t==x||t==T?e.size:Ar(e).length},jn.snakeCase=qu,jn.some=function(e,t,n){var r=Wo(e)?Ft:ta;return n&&gi(e,t,n)&&(t=a),r(e,ii(t,3))},jn.sortedIndex=function(e,t){return na(e,t)},jn.sortedIndexBy=function(e,t,n){return ra(e,t,ii(n,2))},jn.sortedIndexOf=function(e,t){var n=null==e?0:e.length;if(n){var r=na(e,t);if(r<n&&Uo(e[r],t))return r}return-1},jn.sortedLastIndex=function(e,t){return na(e,t,!0)},jn.sortedLastIndexBy=function(e,t,n){return ra(e,t,ii(n,2),!0)},jn.sortedLastIndexOf=function(e,t){if(null!=e&&e.length){var n=na(e,t,!0)-1;if(Uo(e[n],t))return n}return-1},jn.startCase=Qu,jn.startsWith=function(e,t,n){return e=yu(e),n=null==n?0:ir(du(n),0,e.length),t=oa(t),e.slice(n,n+t.length)==t},jn.subtract=kl,jn.sum=function(e){return e&&e.length?qt(e,nl):0},jn.sumBy=function(e,t){return e&&e.length?qt(e,ii(t,2)):0},jn.template=function(e,t,n){var r=jn.templateSettings;n&&gi(e,t,n)&&(t=a),e=yu(e),t=_u({},t,r,Ga);var i,o,u=_u({},t.imports,r.imports,Ga),l=Pu(u),s=Kt(u,l),c=0,f=t.interpolate||be,p=\"__p += '\",d=Ee((t.escape||be).source+\"|\"+f.source+\"|\"+(f===Z?fe:be).source+\"|\"+(t.evaluate||be).source+\"|$\",\"g\"),h=\"//# sourceURL=\"+(Oe.call(t,\"sourceURL\")?(t.sourceURL+\"\").replace(/\\s/g,\" \"):\"lodash.templateSources[\"+ ++rt+\"]\")+\"\\n\";e.replace(d,(function(t,n,r,a,u,l){return r||(r=a),p+=e.slice(c,l).replace(_e,nn),n&&(i=!0,p+=\"' +\\n__e(\"+n+\") +\\n'\"),u&&(o=!0,p+=\"';\\n\"+u+\";\\n__p += '\"),r&&(p+=\"' +\\n((__t = (\"+r+\")) == null ? '' : __t) +\\n'\"),c=l+t.length,t})),p+=\"';\\n\";var v=Oe.call(t,\"variable\")&&t.variable;if(v){if(se.test(v))throw new we(\"Invalid `variable` option passed into `_.template`\")}else p=\"with (obj) {\\n\"+p+\"\\n}\\n\";p=(o?p.replace(B,\"\"):p).replace(W,\"$1\").replace(V,\"$1;\"),p=\"function(\"+(v||\"obj\")+\") {\\n\"+(v?\"\":\"obj || (obj = {});\\n\")+\"var __t, __p = ''\"+(i?\", __e = _.escape\":\"\")+(o?\", __j = Array.prototype.join;\\nfunction print() { __p += __j.call(arguments, '') }\\n\":\";\\n\")+p+\"return __p\\n}\";var g=Zu((function(){return xe(l,h+\"return \"+p).apply(a,s)}));if(g.source=p,Go(g))throw g;return g},jn.times=function(e,t){if((e=du(e))<1||e>f)return[];var n=d,r=yn(e,d);t=ii(t),e-=d;for(var a=Qt(r,t);++n<e;)t(n);return a},jn.toFinite=pu,jn.toInteger=du,jn.toLength=hu,jn.toLower=function(e){return yu(e).toLowerCase()},jn.toNumber=vu,jn.toSafeInteger=function(e){return e?ir(du(e),-9007199254740991,f):0===e?e:0},jn.toString=yu,jn.toUpper=function(e){return yu(e).toUpperCase()},jn.trim=function(e,t,n){if((e=yu(e))&&(n||t===a))return Yt(e);if(!e||!(t=oa(t)))return e;var r=fn(e),i=fn(t);return ma(r,Xt(r,i),Jt(r,i)+1).join(\"\")},jn.trimEnd=function(e,t,n){if((e=yu(e))&&(n||t===a))return e.slice(0,pn(e)+1);if(!e||!(t=oa(t)))return e;var r=fn(e);return ma(r,0,Jt(r,fn(t))+1).join(\"\")},jn.trimStart=function(e,t,n){if((e=yu(e))&&(n||t===a))return e.replace(re,\"\");if(!e||!(t=oa(t)))return e;var r=fn(e);return ma(r,Xt(r,fn(t))).join(\"\")},jn.truncate=function(e,t){var n=30,r=\"...\";if(Jo(t)){var i=\"separator\"in t?t.separator:i;n=\"length\"in t?du(t.length):n,r=\"omission\"in t?oa(t.omission):r}var o=(e=yu(e)).length;if(rn(e)){var u=fn(e);o=u.length}if(n>=o)return e;var l=n-cn(r);if(l<1)return r;var s=u?ma(u,0,l).join(\"\"):e.slice(0,l);if(i===a)return s+r;if(u&&(l+=s.length-l),au(i)){if(e.slice(l).search(i)){var c,f=s;for(i.global||(i=Ee(i.source,yu(pe.exec(i))+\"g\")),i.lastIndex=0;c=i.exec(f);)var p=c.index;s=s.slice(0,p===a?l:p)}}else if(e.indexOf(oa(i),l)!=l){var d=s.lastIndexOf(i);d>-1&&(s=s.slice(0,d))}return s+r},jn.unescape=function(e){return(e=yu(e))&&Q.test(e)?e.replace(H,dn):e},jn.uniqueId=function(e){var t=++Ae;return yu(e)+t},jn.upperCase=Yu,jn.upperFirst=Gu,jn.each=yo,jn.eachRight=mo,jn.first=Vi,ol(jn,(gl={},mr(jn,(function(e,t){Oe.call(jn.prototype,t)||(gl[t]=e)})),gl),{chain:!1}),jn.VERSION=\"4.17.21\",Et([\"bind\",\"bindKey\",\"curry\",\"curryRight\",\"partial\",\"partialRight\"],(function(e){jn[e].placeholder=jn})),Et([\"drop\",\"take\"],(function(e,t){Bn.prototype[e]=function(n){n=n===a?1:gn(du(n),0);var r=this.__filtered__&&!t?new Bn(this):this.clone();return r.__filtered__?r.__takeCount__=yn(n,r.__takeCount__):r.__views__.push({size:yn(n,d),type:e+(r.__dir__<0?\"Right\":\"\")}),r},Bn.prototype[e+\"Right\"]=function(t){return this.reverse()[e](t).reverse()}})),Et([\"filter\",\"map\",\"takeWhile\"],(function(e,t){var n=t+1,r=1==n||3==n;Bn.prototype[e]=function(e){var t=this.clone();return t.__iteratees__.push({iteratee:ii(e,3),type:n}),t.__filtered__=t.__filtered__||r,t}})),Et([\"head\",\"last\"],(function(e,t){var n=\"take\"+(t?\"Right\":\"\");Bn.prototype[e]=function(){return this[n](1).value()[0]}})),Et([\"initial\",\"tail\"],(function(e,t){var n=\"drop\"+(t?\"\":\"Right\");Bn.prototype[e]=function(){return this.__filtered__?new Bn(this):this[n](1)}})),Bn.prototype.compact=function(){return this.filter(nl)},Bn.prototype.find=function(e){return this.filter(e).head()},Bn.prototype.findLast=function(e){return this.reverse().find(e)},Bn.prototype.invokeMap=Qr((function(e,t){return\"function\"==typeof e?new Bn(this):this.map((function(n){return Mr(n,e,t)}))})),Bn.prototype.reject=function(e){return this.filter(Ao(ii(e)))},Bn.prototype.slice=function(e,t){e=du(e);var n=this;return n.__filtered__&&(e>0||t<0)?new Bn(n):(e<0?n=n.takeRight(-e):e&&(n=n.drop(e)),t!==a&&(n=(t=du(t))<0?n.dropRight(-t):n.take(t-e)),n)},Bn.prototype.takeRightWhile=function(e){return this.reverse().takeWhile(e).reverse()},Bn.prototype.toArray=function(){return this.take(d)},mr(Bn.prototype,(function(e,t){var n=/^(?:filter|find|map|reject)|While$/.test(t),r=/^(?:head|last)$/.test(t),i=jn[r?\"take\"+(\"last\"==t?\"Right\":\"\"):t],o=r||/^find/.test(t);i&&(jn.prototype[t]=function(){var t=this.__wrapped__,u=r?[1]:arguments,l=t instanceof Bn,s=u[0],c=l||Wo(t),f=function(e){var t=i.apply(jn,Lt([e],u));return r&&p?t[0]:t};c&&n&&\"function\"==typeof s&&1!=s.length&&(l=c=!1);var p=this.__chain__,d=!!this.__actions__.length,h=o&&!p,v=l&&!d;if(!o&&c){t=v?t:new Bn(this);var g=e.apply(t,u);return g.__actions__.push({func:fo,args:[f],thisArg:a}),new $n(g,p)}return h&&v?e.apply(this,u):(g=this.thru(f),h?r?g.value()[0]:g.value():g)})})),Et([\"pop\",\"push\",\"shift\",\"sort\",\"splice\",\"unshift\"],(function(e){var t=Me[e],n=/^(?:push|sort|unshift)$/.test(e)?\"tap\":\"thru\",r=/^(?:pop|shift)$/.test(e);jn.prototype[e]=function(){var e=arguments;if(r&&!this.__chain__){var a=this.value();return t.apply(Wo(a)?a:[],e)}return this[n]((function(n){return t.apply(Wo(n)?n:[],e)}))}})),mr(Bn.prototype,(function(e,t){var n=jn[t];if(n){var r=n.name+\"\";Oe.call(Nn,r)||(Nn[r]=[]),Nn[r].push({name:t,func:n})}})),Nn[Ra(a,2).name]=[{name:\"wrapper\",func:a}],Bn.prototype.clone=function(){var e=new Bn(this.__wrapped__);return e.__actions__=Ca(this.__actions__),e.__dir__=this.__dir__,e.__filtered__=this.__filtered__,e.__iteratees__=Ca(this.__iteratees__),e.__takeCount__=this.__takeCount__,e.__views__=Ca(this.__views__),e},Bn.prototype.reverse=function(){if(this.__filtered__){var e=new Bn(this);e.__dir__=-1,e.__filtered__=!0}else(e=this.clone()).__dir__*=-1;return e},Bn.prototype.value=function(){var e=this.__wrapped__.value(),t=this.__dir__,n=Wo(e),r=t<0,a=n?e.length:0,i=function(e,t,n){for(var r=-1,a=n.length;++r<a;){var i=n[r],o=i.size;switch(i.type){case\"drop\":e+=o;break;case\"dropRight\":t-=o;break;case\"take\":t=yn(t,e+o);break;case\"takeRight\":e=gn(e,t-o)}}return{start:e,end:t}}(0,a,this.__views__),o=i.start,u=i.end,l=u-o,s=r?u:o-1,c=this.__iteratees__,f=c.length,p=0,d=yn(l,this.__takeCount__);if(!n||!r&&a==l&&d==l)return fa(e,this.__actions__);var h=[];e:for(;l--&&p<d;){for(var v=-1,g=e[s+=t];++v<f;){var y=c[v],m=y.iteratee,b=y.type,_=m(g);if(2==b)g=_;else if(!_){if(1==b)continue e;break e}}h[p++]=g}return h},jn.prototype.at=po,jn.prototype.chain=function(){return co(this)},jn.prototype.commit=function(){return new $n(this.value(),this.__chain__)},jn.prototype.next=function(){this.__values__===a&&(this.__values__=fu(this.value()));var e=this.__index__>=this.__values__.length;return{done:e,value:e?a:this.__values__[this.__index__++]}},jn.prototype.plant=function(e){for(var t,n=this;n instanceof In;){var r=Ri(n);r.__index__=0,r.__values__=a,t?i.__wrapped__=r:t=r;var i=r;n=n.__wrapped__}return i.__wrapped__=e,t},jn.prototype.reverse=function(){var e=this.__wrapped__;if(e instanceof Bn){var t=e;return this.__actions__.length&&(t=new Bn(this)),(t=t.reverse()).__actions__.push({func:fo,args:[Xi],thisArg:a}),new $n(t,this.__chain__)}return this.thru(Xi)},jn.prototype.toJSON=jn.prototype.valueOf=jn.prototype.value=function(){return fa(this.__wrapped__,this.__actions__)},jn.prototype.first=jn.prototype.head,Ge&&(jn.prototype[Ge]=function(){return this}),jn}();ft._=hn,(r=function(){return hn}.call(t,n,t,e))===a||(e.exports=r)}.call(this)},448:(e,t,n)=>{\"use strict\";var r=n(294),a=n(840);function i(e){for(var t=\"https://reactjs.org/docs/error-decoder.html?invariant=\"+e,n=1;n<arguments.length;n++)t+=\"&args[]=\"+encodeURIComponent(arguments[n]);return\"Minified React error #\"+e+\"; visit \"+t+\" for the full message or use the non-minified dev environment for full errors and additional helpful warnings.\"}var o=new Set,u={};function l(e,t){s(e,t),s(e+\"Capture\",t)}function s(e,t){for(u[e]=t,e=0;e<t.length;e++)o.add(t[e])}var c=!(\"undefined\"==typeof window||void 0===window.document||void 0===window.document.createElement),f=Object.prototype.hasOwnProperty,p=/^[:A-Z_a-z\\u00C0-\\u00D6\\u00D8-\\u00F6\\u00F8-\\u02FF\\u0370-\\u037D\\u037F-\\u1FFF\\u200C-\\u200D\\u2070-\\u218F\\u2C00-\\u2FEF\\u3001-\\uD7FF\\uF900-\\uFDCF\\uFDF0-\\uFFFD][:A-Z_a-z\\u00C0-\\u00D6\\u00D8-\\u00F6\\u00F8-\\u02FF\\u0370-\\u037D\\u037F-\\u1FFF\\u200C-\\u200D\\u2070-\\u218F\\u2C00-\\u2FEF\\u3001-\\uD7FF\\uF900-\\uFDCF\\uFDF0-\\uFFFD\\-.0-9\\u00B7\\u0300-\\u036F\\u203F-\\u2040]*$/,d={},h={};function v(e,t,n,r,a,i,o){this.acceptsBooleans=2===t||3===t||4===t,this.attributeName=r,this.attributeNamespace=a,this.mustUseProperty=n,this.propertyName=e,this.type=t,this.sanitizeURL=i,this.removeEmptyString=o}var g={};\"children dangerouslySetInnerHTML defaultValue defaultChecked innerHTML suppressContentEditableWarning suppressHydrationWarning style\".split(\" \").forEach((function(e){g[e]=new v(e,0,!1,e,null,!1,!1)})),[[\"acceptCharset\",\"accept-charset\"],[\"className\",\"class\"],[\"htmlFor\",\"for\"],[\"httpEquiv\",\"http-equiv\"]].forEach((function(e){var t=e[0];g[t]=new v(t,1,!1,e[1],null,!1,!1)})),[\"contentEditable\",\"draggable\",\"spellCheck\",\"value\"].forEach((function(e){g[e]=new v(e,2,!1,e.toLowerCase(),null,!1,!1)})),[\"autoReverse\",\"externalResourcesRequired\",\"focusable\",\"preserveAlpha\"].forEach((function(e){g[e]=new v(e,2,!1,e,null,!1,!1)})),\"allowFullScreen async autoFocus autoPlay controls default defer disabled disablePictureInPicture disableRemotePlayback formNoValidate hidden loop noModule noValidate open playsInline readOnly required reversed scoped seamless itemScope\".split(\" \").forEach((function(e){g[e]=new v(e,3,!1,e.toLowerCase(),null,!1,!1)})),[\"checked\",\"multiple\",\"muted\",\"selected\"].forEach((function(e){g[e]=new v(e,3,!0,e,null,!1,!1)})),[\"capture\",\"download\"].forEach((function(e){g[e]=new v(e,4,!1,e,null,!1,!1)})),[\"cols\",\"rows\",\"size\",\"span\"].forEach((function(e){g[e]=new v(e,6,!1,e,null,!1,!1)})),[\"rowSpan\",\"start\"].forEach((function(e){g[e]=new v(e,5,!1,e.toLowerCase(),null,!1,!1)}));var y=/[\\-:]([a-z])/g;function m(e){return e[1].toUpperCase()}function b(e,t,n,r){var a=g.hasOwnProperty(t)?g[t]:null;(null!==a?0!==a.type:r||!(2<t.length)||\"o\"!==t[0]&&\"O\"!==t[0]||\"n\"!==t[1]&&\"N\"!==t[1])&&(function(e,t,n,r){if(null==t||function(e,t,n,r){if(null!==n&&0===n.type)return!1;switch(typeof t){case\"function\":case\"symbol\":return!0;case\"boolean\":return!r&&(null!==n?!n.acceptsBooleans:\"data-\"!==(e=e.toLowerCase().slice(0,5))&&\"aria-\"!==e);default:return!1}}(e,t,n,r))return!0;if(r)return!1;if(null!==n)switch(n.type){case 3:return!t;case 4:return!1===t;case 5:return isNaN(t);case 6:return isNaN(t)||1>t}return!1}(t,n,a,r)&&(n=null),r||null===a?function(e){return!!f.call(h,e)||!f.call(d,e)&&(p.test(e)?h[e]=!0:(d[e]=!0,!1))}(t)&&(null===n?e.removeAttribute(t):e.setAttribute(t,\"\"+n)):a.mustUseProperty?e[a.propertyName]=null===n?3!==a.type&&\"\":n:(t=a.attributeName,r=a.attributeNamespace,null===n?e.removeAttribute(t):(n=3===(a=a.type)||4===a&&!0===n?\"\":\"\"+n,r?e.setAttributeNS(r,t,n):e.setAttribute(t,n))))}\"accent-height alignment-baseline arabic-form baseline-shift cap-height clip-path clip-rule color-interpolation color-interpolation-filters color-profile color-rendering dominant-baseline enable-background fill-opacity fill-rule flood-color flood-opacity font-family font-size font-size-adjust font-stretch font-style font-variant font-weight glyph-name glyph-orientation-horizontal glyph-orientation-vertical horiz-adv-x horiz-origin-x image-rendering letter-spacing lighting-color marker-end marker-mid marker-start overline-position overline-thickness paint-order panose-1 pointer-events rendering-intent shape-rendering stop-color stop-opacity strikethrough-position strikethrough-thickness stroke-dasharray stroke-dashoffset stroke-linecap stroke-linejoin stroke-miterlimit stroke-opacity stroke-width text-anchor text-decoration text-rendering underline-position underline-thickness unicode-bidi unicode-range units-per-em v-alphabetic v-hanging v-ideographic v-mathematical vector-effect vert-adv-y vert-origin-x vert-origin-y word-spacing writing-mode xmlns:xlink x-height\".split(\" \").forEach((function(e){var t=e.replace(y,m);g[t]=new v(t,1,!1,e,null,!1,!1)})),\"xlink:actuate xlink:arcrole xlink:role xlink:show xlink:title xlink:type\".split(\" \").forEach((function(e){var t=e.replace(y,m);g[t]=new v(t,1,!1,e,\"http://www.w3.org/1999/xlink\",!1,!1)})),[\"xml:base\",\"xml:lang\",\"xml:space\"].forEach((function(e){var t=e.replace(y,m);g[t]=new v(t,1,!1,e,\"http://www.w3.org/XML/1998/namespace\",!1,!1)})),[\"tabIndex\",\"crossOrigin\"].forEach((function(e){g[e]=new v(e,1,!1,e.toLowerCase(),null,!1,!1)})),g.xlinkHref=new v(\"xlinkHref\",1,!1,\"xlink:href\",\"http://www.w3.org/1999/xlink\",!0,!1),[\"src\",\"href\",\"action\",\"formAction\"].forEach((function(e){g[e]=new v(e,1,!1,e.toLowerCase(),null,!0,!0)}));var _=r.__SECRET_INTERNALS_DO_NOT_USE_OR_YOU_WILL_BE_FIRED,w=Symbol.for(\"react.element\"),x=Symbol.for(\"react.portal\"),k=Symbol.for(\"react.fragment\"),S=Symbol.for(\"react.strict_mode\"),E=Symbol.for(\"react.profiler\"),C=Symbol.for(\"react.provider\"),T=Symbol.for(\"react.context\"),M=Symbol.for(\"react.forward_ref\"),N=Symbol.for(\"react.suspense\"),P=Symbol.for(\"react.suspense_list\"),z=Symbol.for(\"react.memo\"),L=Symbol.for(\"react.lazy\");Symbol.for(\"react.scope\"),Symbol.for(\"react.debug_trace_mode\");var O=Symbol.for(\"react.offscreen\");Symbol.for(\"react.legacy_hidden\"),Symbol.for(\"react.cache\"),Symbol.for(\"react.tracing_marker\");var A=Symbol.iterator;function F(e){return null===e||\"object\"!=typeof e?null:\"function\"==typeof(e=A&&e[A]||e[\"@@iterator\"])?e:null}var D,R=Object.assign;function j(e){if(void 0===D)try{throw Error()}catch(e){var t=e.stack.trim().match(/\\n( *(at )?)/);D=t&&t[1]||\"\"}return\"\\n\"+D+e}var U=!1;function I(e,t){if(!e||U)return\"\";U=!0;var n=Error.prepareStackTrace;Error.prepareStackTrace=void 0;try{if(t)if(t=function(){throw Error()},Object.defineProperty(t.prototype,\"props\",{set:function(){throw Error()}}),\"object\"==typeof Reflect&&Reflect.construct){try{Reflect.construct(t,[])}catch(e){var r=e}Reflect.construct(e,[],t)}else{try{t.call()}catch(e){r=e}e.call(t.prototype)}else{try{throw Error()}catch(e){r=e}e()}}catch(t){if(t&&r&&\"string\"==typeof t.stack){for(var a=t.stack.split(\"\\n\"),i=r.stack.split(\"\\n\"),o=a.length-1,u=i.length-1;1<=o&&0<=u&&a[o]!==i[u];)u--;for(;1<=o&&0<=u;o--,u--)if(a[o]!==i[u]){if(1!==o||1!==u)do{if(o--,0>--u||a[o]!==i[u]){var l=\"\\n\"+a[o].replace(\" at new \",\" at \");return e.displayName&&l.includes(\"<anonymous>\")&&(l=l.replace(\"<anonymous>\",e.displayName)),l}}while(1<=o&&0<=u);break}}}finally{U=!1,Error.prepareStackTrace=n}return(e=e?e.displayName||e.name:\"\")?j(e):\"\"}function $(e){switch(e.tag){case 5:return j(e.type);case 16:return j(\"Lazy\");case 13:return j(\"Suspense\");case 19:return j(\"SuspenseList\");case 0:case 2:case 15:return I(e.type,!1);case 11:return I(e.type.render,!1);case 1:return I(e.type,!0);default:return\"\"}}function B(e){if(null==e)return null;if(\"function\"==typeof e)return e.displayName||e.name||null;if(\"string\"==typeof e)return e;switch(e){case k:return\"Fragment\";case x:return\"Portal\";case E:return\"Profiler\";case S:return\"StrictMode\";case N:return\"Suspense\";case P:return\"SuspenseList\"}if(\"object\"==typeof e)switch(e.$$typeof){case T:return(e.displayName||\"Context\")+\".Consumer\";case C:return(e._context.displayName||\"Context\")+\".Provider\";case M:var t=e.render;return(e=e.displayName)||(e=\"\"!==(e=t.displayName||t.name||\"\")?\"ForwardRef(\"+e+\")\":\"ForwardRef\"),e;case z:return null!==(t=e.displayName||null)?t:B(e.type)||\"Memo\";case L:t=e._payload,e=e._init;try{return B(e(t))}catch(e){}}return null}function W(e){var t=e.type;switch(e.tag){case 24:return\"Cache\";case 9:return(t.displayName||\"Context\")+\".Consumer\";case 10:return(t._context.displayName||\"Context\")+\".Provider\";case 18:return\"DehydratedFragment\";case 11:return e=(e=t.render).displayName||e.name||\"\",t.displayName||(\"\"!==e?\"ForwardRef(\"+e+\")\":\"ForwardRef\");case 7:return\"Fragment\";case 5:return t;case 4:return\"Portal\";case 3:return\"Root\";case 6:return\"Text\";case 16:return B(t);case 8:return t===S?\"StrictMode\":\"Mode\";case 22:return\"Offscreen\";case 12:return\"Profiler\";case 21:return\"Scope\";case 13:return\"Suspense\";case 19:return\"SuspenseList\";case 25:return\"TracingMarker\";case 1:case 0:case 17:case 2:case 14:case 15:if(\"function\"==typeof t)return t.displayName||t.name||null;if(\"string\"==typeof t)return t}return null}function V(e){switch(typeof e){case\"boolean\":case\"number\":case\"string\":case\"undefined\":case\"object\":return e;default:return\"\"}}function H(e){var t=e.type;return(e=e.nodeName)&&\"input\"===e.toLowerCase()&&(\"checkbox\"===t||\"radio\"===t)}function q(e){e._valueTracker||(e._valueTracker=function(e){var t=H(e)?\"checked\":\"value\",n=Object.getOwnPropertyDescriptor(e.constructor.prototype,t),r=\"\"+e[t];if(!e.hasOwnProperty(t)&&void 0!==n&&\"function\"==typeof n.get&&\"function\"==typeof n.set){var a=n.get,i=n.set;return Object.defineProperty(e,t,{configurable:!0,get:function(){return a.call(this)},set:function(e){r=\"\"+e,i.call(this,e)}}),Object.defineProperty(e,t,{enumerable:n.enumerable}),{getValue:function(){return r},setValue:function(e){r=\"\"+e},stopTracking:function(){e._valueTracker=null,delete e[t]}}}}(e))}function Q(e){if(!e)return!1;var t=e._valueTracker;if(!t)return!0;var n=t.getValue(),r=\"\";return e&&(r=H(e)?e.checked?\"true\":\"false\":e.value),(e=r)!==n&&(t.setValue(e),!0)}function Y(e){if(void 0===(e=e||(\"undefined\"!=typeof document?document:void 0)))return null;try{return e.activeElement||e.body}catch(t){return e.body}}function G(e,t){var n=t.checked;return R({},t,{defaultChecked:void 0,defaultValue:void 0,value:void 0,checked:null!=n?n:e._wrapperState.initialChecked})}function K(e,t){var n=null==t.defaultValue?\"\":t.defaultValue,r=null!=t.checked?t.checked:t.defaultChecked;n=V(null!=t.value?t.value:n),e._wrapperState={initialChecked:r,initialValue:n,controlled:\"checkbox\"===t.type||\"radio\"===t.type?null!=t.checked:null!=t.value}}function Z(e,t){null!=(t=t.checked)&&b(e,\"checked\",t,!1)}function X(e,t){Z(e,t);var n=V(t.value),r=t.type;if(null!=n)\"number\"===r?(0===n&&\"\"===e.value||e.value!=n)&&(e.value=\"\"+n):e.value!==\"\"+n&&(e.value=\"\"+n);else if(\"submit\"===r||\"reset\"===r)return void e.removeAttribute(\"value\");t.hasOwnProperty(\"value\")?ee(e,t.type,n):t.hasOwnProperty(\"defaultValue\")&&ee(e,t.type,V(t.defaultValue)),null==t.checked&&null!=t.defaultChecked&&(e.defaultChecked=!!t.defaultChecked)}function J(e,t,n){if(t.hasOwnProperty(\"value\")||t.hasOwnProperty(\"defaultValue\")){var r=t.type;if(!(\"submit\"!==r&&\"reset\"!==r||void 0!==t.value&&null!==t.value))return;t=\"\"+e._wrapperState.initialValue,n||t===e.value||(e.value=t),e.defaultValue=t}\"\"!==(n=e.name)&&(e.name=\"\"),e.defaultChecked=!!e._wrapperState.initialChecked,\"\"!==n&&(e.name=n)}function ee(e,t,n){\"number\"===t&&Y(e.ownerDocument)===e||(null==n?e.defaultValue=\"\"+e._wrapperState.initialValue:e.defaultValue!==\"\"+n&&(e.defaultValue=\"\"+n))}var te=Array.isArray;function ne(e,t,n,r){if(e=e.options,t){t={};for(var a=0;a<n.length;a++)t[\"$\"+n[a]]=!0;for(n=0;n<e.length;n++)a=t.hasOwnProperty(\"$\"+e[n].value),e[n].selected!==a&&(e[n].selected=a),a&&r&&(e[n].defaultSelected=!0)}else{for(n=\"\"+V(n),t=null,a=0;a<e.length;a++){if(e[a].value===n)return e[a].selected=!0,void(r&&(e[a].defaultSelected=!0));null!==t||e[a].disabled||(t=e[a])}null!==t&&(t.selected=!0)}}function re(e,t){if(null!=t.dangerouslySetInnerHTML)throw Error(i(91));return R({},t,{value:void 0,defaultValue:void 0,children:\"\"+e._wrapperState.initialValue})}function ae(e,t){var n=t.value;if(null==n){if(n=t.children,t=t.defaultValue,null!=n){if(null!=t)throw Error(i(92));if(te(n)){if(1<n.length)throw Error(i(93));n=n[0]}t=n}null==t&&(t=\"\"),n=t}e._wrapperState={initialValue:V(n)}}function ie(e,t){var n=V(t.value),r=V(t.defaultValue);null!=n&&((n=\"\"+n)!==e.value&&(e.value=n),null==t.defaultValue&&e.defaultValue!==n&&(e.defaultValue=n)),null!=r&&(e.defaultValue=\"\"+r)}function oe(e){var t=e.textContent;t===e._wrapperState.initialValue&&\"\"!==t&&null!==t&&(e.value=t)}function ue(e){switch(e){case\"svg\":return\"http://www.w3.org/2000/svg\";case\"math\":return\"http://www.w3.org/1998/Math/MathML\";default:return\"http://www.w3.org/1999/xhtml\"}}function le(e,t){return null==e||\"http://www.w3.org/1999/xhtml\"===e?ue(t):\"http://www.w3.org/2000/svg\"===e&&\"foreignObject\"===t?\"http://www.w3.org/1999/xhtml\":e}var se,ce,fe=(ce=function(e,t){if(\"http://www.w3.org/2000/svg\"!==e.namespaceURI||\"innerHTML\"in e)e.innerHTML=t;else{for((se=se||document.createElement(\"div\")).innerHTML=\"<svg>\"+t.valueOf().toString()+\"</svg>\",t=se.firstChild;e.firstChild;)e.removeChild(e.firstChild);for(;t.firstChild;)e.appendChild(t.firstChild)}},\"undefined\"!=typeof MSApp&&MSApp.execUnsafeLocalFunction?function(e,t,n,r){MSApp.execUnsafeLocalFunction((function(){return ce(e,t)}))}:ce);function pe(e,t){if(t){var n=e.firstChild;if(n&&n===e.lastChild&&3===n.nodeType)return void(n.nodeValue=t)}e.textContent=t}var de={animationIterationCount:!0,aspectRatio:!0,borderImageOutset:!0,borderImageSlice:!0,borderImageWidth:!0,boxFlex:!0,boxFlexGroup:!0,boxOrdinalGroup:!0,columnCount:!0,columns:!0,flex:!0,flexGrow:!0,flexPositive:!0,flexShrink:!0,flexNegative:!0,flexOrder:!0,gridArea:!0,gridRow:!0,gridRowEnd:!0,gridRowSpan:!0,gridRowStart:!0,gridColumn:!0,gridColumnEnd:!0,gridColumnSpan:!0,gridColumnStart:!0,fontWeight:!0,lineClamp:!0,lineHeight:!0,opacity:!0,order:!0,orphans:!0,tabSize:!0,widows:!0,zIndex:!0,zoom:!0,fillOpacity:!0,floodOpacity:!0,stopOpacity:!0,strokeDasharray:!0,strokeDashoffset:!0,strokeMiterlimit:!0,strokeOpacity:!0,strokeWidth:!0},he=[\"Webkit\",\"ms\",\"Moz\",\"O\"];function ve(e,t,n){return null==t||\"boolean\"==typeof t||\"\"===t?\"\":n||\"number\"!=typeof t||0===t||de.hasOwnProperty(e)&&de[e]?(\"\"+t).trim():t+\"px\"}function ge(e,t){for(var n in e=e.style,t)if(t.hasOwnProperty(n)){var r=0===n.indexOf(\"--\"),a=ve(n,t[n],r);\"float\"===n&&(n=\"cssFloat\"),r?e.setProperty(n,a):e[n]=a}}Object.keys(de).forEach((function(e){he.forEach((function(t){t=t+e.charAt(0).toUpperCase()+e.substring(1),de[t]=de[e]}))}));var ye=R({menuitem:!0},{area:!0,base:!0,br:!0,col:!0,embed:!0,hr:!0,img:!0,input:!0,keygen:!0,link:!0,meta:!0,param:!0,source:!0,track:!0,wbr:!0});function me(e,t){if(t){if(ye[e]&&(null!=t.children||null!=t.dangerouslySetInnerHTML))throw Error(i(137,e));if(null!=t.dangerouslySetInnerHTML){if(null!=t.children)throw Error(i(60));if(\"object\"!=typeof t.dangerouslySetInnerHTML||!(\"__html\"in t.dangerouslySetInnerHTML))throw Error(i(61))}if(null!=t.style&&\"object\"!=typeof t.style)throw Error(i(62))}}function be(e,t){if(-1===e.indexOf(\"-\"))return\"string\"==typeof t.is;switch(e){case\"annotation-xml\":case\"color-profile\":case\"font-face\":case\"font-face-src\":case\"font-face-uri\":case\"font-face-format\":case\"font-face-name\":case\"missing-glyph\":return!1;default:return!0}}var _e=null;function we(e){return(e=e.target||e.srcElement||window).correspondingUseElement&&(e=e.correspondingUseElement),3===e.nodeType?e.parentNode:e}var xe=null,ke=null,Se=null;function Ee(e){if(e=ba(e)){if(\"function\"!=typeof xe)throw Error(i(280));var t=e.stateNode;t&&(t=wa(t),xe(e.stateNode,e.type,t))}}function Ce(e){ke?Se?Se.push(e):Se=[e]:ke=e}function Te(){if(ke){var e=ke,t=Se;if(Se=ke=null,Ee(e),t)for(e=0;e<t.length;e++)Ee(t[e])}}function Me(e,t){return e(t)}function Ne(){}var Pe=!1;function ze(e,t,n){if(Pe)return e(t,n);Pe=!0;try{return Me(e,t,n)}finally{Pe=!1,(null!==ke||null!==Se)&&(Ne(),Te())}}function Le(e,t){var n=e.stateNode;if(null===n)return null;var r=wa(n);if(null===r)return null;n=r[t];e:switch(t){case\"onClick\":case\"onClickCapture\":case\"onDoubleClick\":case\"onDoubleClickCapture\":case\"onMouseDown\":case\"onMouseDownCapture\":case\"onMouseMove\":case\"onMouseMoveCapture\":case\"onMouseUp\":case\"onMouseUpCapture\":case\"onMouseEnter\":(r=!r.disabled)||(r=!(\"button\"===(e=e.type)||\"input\"===e||\"select\"===e||\"textarea\"===e)),e=!r;break e;default:e=!1}if(e)return null;if(n&&\"function\"!=typeof n)throw Error(i(231,t,typeof n));return n}var Oe=!1;if(c)try{var Ae={};Object.defineProperty(Ae,\"passive\",{get:function(){Oe=!0}}),window.addEventListener(\"test\",Ae,Ae),window.removeEventListener(\"test\",Ae,Ae)}catch(ce){Oe=!1}function Fe(e,t,n,r,a,i,o,u,l){var s=Array.prototype.slice.call(arguments,3);try{t.apply(n,s)}catch(e){this.onError(e)}}var De=!1,Re=null,je=!1,Ue=null,Ie={onError:function(e){De=!0,Re=e}};function $e(e,t,n,r,a,i,o,u,l){De=!1,Re=null,Fe.apply(Ie,arguments)}function Be(e){var t=e,n=e;if(e.alternate)for(;t.return;)t=t.return;else{e=t;do{0!=(4098&(t=e).flags)&&(n=t.return),e=t.return}while(e)}return 3===t.tag?n:null}function We(e){if(13===e.tag){var t=e.memoizedState;if(null===t&&null!==(e=e.alternate)&&(t=e.memoizedState),null!==t)return t.dehydrated}return null}function Ve(e){if(Be(e)!==e)throw Error(i(188))}function He(e){return null!==(e=function(e){var t=e.alternate;if(!t){if(null===(t=Be(e)))throw Error(i(188));return t!==e?null:e}for(var n=e,r=t;;){var a=n.return;if(null===a)break;var o=a.alternate;if(null===o){if(null!==(r=a.return)){n=r;continue}break}if(a.child===o.child){for(o=a.child;o;){if(o===n)return Ve(a),e;if(o===r)return Ve(a),t;o=o.sibling}throw Error(i(188))}if(n.return!==r.return)n=a,r=o;else{for(var u=!1,l=a.child;l;){if(l===n){u=!0,n=a,r=o;break}if(l===r){u=!0,r=a,n=o;break}l=l.sibling}if(!u){for(l=o.child;l;){if(l===n){u=!0,n=o,r=a;break}if(l===r){u=!0,r=o,n=a;break}l=l.sibling}if(!u)throw Error(i(189))}}if(n.alternate!==r)throw Error(i(190))}if(3!==n.tag)throw Error(i(188));return n.stateNode.current===n?e:t}(e))?qe(e):null}function qe(e){if(5===e.tag||6===e.tag)return e;for(e=e.child;null!==e;){var t=qe(e);if(null!==t)return t;e=e.sibling}return null}var Qe=a.unstable_scheduleCallback,Ye=a.unstable_cancelCallback,Ge=a.unstable_shouldYield,Ke=a.unstable_requestPaint,Ze=a.unstable_now,Xe=a.unstable_getCurrentPriorityLevel,Je=a.unstable_ImmediatePriority,et=a.unstable_UserBlockingPriority,tt=a.unstable_NormalPriority,nt=a.unstable_LowPriority,rt=a.unstable_IdlePriority,at=null,it=null,ot=Math.clz32?Math.clz32:function(e){return 0===(e>>>=0)?32:31-(ut(e)/lt|0)|0},ut=Math.log,lt=Math.LN2,st=64,ct=4194304;function ft(e){switch(e&-e){case 1:return 1;case 2:return 2;case 4:return 4;case 8:return 8;case 16:return 16;case 32:return 32;case 64:case 128:case 256:case 512:case 1024:case 2048:case 4096:case 8192:case 16384:case 32768:case 65536:case 131072:case 262144:case 524288:case 1048576:case 2097152:return 4194240&e;case 4194304:case 8388608:case 16777216:case 33554432:case 67108864:return 130023424&e;case 134217728:return 134217728;case 268435456:return 268435456;case 536870912:return 536870912;case 1073741824:return 1073741824;default:return e}}function pt(e,t){var n=e.pendingLanes;if(0===n)return 0;var r=0,a=e.suspendedLanes,i=e.pingedLanes,o=268435455&n;if(0!==o){var u=o&~a;0!==u?r=ft(u):0!=(i&=o)&&(r=ft(i))}else 0!=(o=n&~a)?r=ft(o):0!==i&&(r=ft(i));if(0===r)return 0;if(0!==t&&t!==r&&0==(t&a)&&((a=r&-r)>=(i=t&-t)||16===a&&0!=(4194240&i)))return t;if(0!=(4&r)&&(r|=16&n),0!==(t=e.entangledLanes))for(e=e.entanglements,t&=r;0<t;)a=1<<(n=31-ot(t)),r|=e[n],t&=~a;return r}function dt(e,t){switch(e){case 1:case 2:case 4:return t+250;case 8:case 16:case 32:case 64:case 128:case 256:case 512:case 1024:case 2048:case 4096:case 8192:case 16384:case 32768:case 65536:case 131072:case 262144:case 524288:case 1048576:case 2097152:return t+5e3;default:return-1}}function ht(e){return 0!=(e=-1073741825&e.pendingLanes)?e:1073741824&e?1073741824:0}function vt(){var e=st;return 0==(4194240&(st<<=1))&&(st=64),e}function gt(e){for(var t=[],n=0;31>n;n++)t.push(e);return t}function yt(e,t,n){e.pendingLanes|=t,536870912!==t&&(e.suspendedLanes=0,e.pingedLanes=0),(e=e.eventTimes)[t=31-ot(t)]=n}function mt(e,t){var n=e.entangledLanes|=t;for(e=e.entanglements;n;){var r=31-ot(n),a=1<<r;a&t|e[r]&t&&(e[r]|=t),n&=~a}}var bt=0;function _t(e){return 1<(e&=-e)?4<e?0!=(268435455&e)?16:536870912:4:1}var wt,xt,kt,St,Et,Ct=!1,Tt=[],Mt=null,Nt=null,Pt=null,zt=new Map,Lt=new Map,Ot=[],At=\"mousedown mouseup touchcancel touchend touchstart auxclick dblclick pointercancel pointerdown pointerup dragend dragstart drop compositionend compositionstart keydown keypress keyup input textInput copy cut paste click change contextmenu reset submit\".split(\" \");function Ft(e,t){switch(e){case\"focusin\":case\"focusout\":Mt=null;break;case\"dragenter\":case\"dragleave\":Nt=null;break;case\"mouseover\":case\"mouseout\":Pt=null;break;case\"pointerover\":case\"pointerout\":zt.delete(t.pointerId);break;case\"gotpointercapture\":case\"lostpointercapture\":Lt.delete(t.pointerId)}}function Dt(e,t,n,r,a,i){return null===e||e.nativeEvent!==i?(e={blockedOn:t,domEventName:n,eventSystemFlags:r,nativeEvent:i,targetContainers:[a]},null!==t&&null!==(t=ba(t))&&xt(t),e):(e.eventSystemFlags|=r,t=e.targetContainers,null!==a&&-1===t.indexOf(a)&&t.push(a),e)}function Rt(e){var t=ma(e.target);if(null!==t){var n=Be(t);if(null!==n)if(13===(t=n.tag)){if(null!==(t=We(n)))return e.blockedOn=t,void Et(e.priority,(function(){kt(n)}))}else if(3===t&&n.stateNode.current.memoizedState.isDehydrated)return void(e.blockedOn=3===n.tag?n.stateNode.containerInfo:null)}e.blockedOn=null}function jt(e){if(null!==e.blockedOn)return!1;for(var t=e.targetContainers;0<t.length;){var n=Gt(e.domEventName,e.eventSystemFlags,t[0],e.nativeEvent);if(null!==n)return null!==(t=ba(n))&&xt(t),e.blockedOn=n,!1;var r=new(n=e.nativeEvent).constructor(n.type,n);_e=r,n.target.dispatchEvent(r),_e=null,t.shift()}return!0}function Ut(e,t,n){jt(e)&&n.delete(t)}function It(){Ct=!1,null!==Mt&&jt(Mt)&&(Mt=null),null!==Nt&&jt(Nt)&&(Nt=null),null!==Pt&&jt(Pt)&&(Pt=null),zt.forEach(Ut),Lt.forEach(Ut)}function $t(e,t){e.blockedOn===t&&(e.blockedOn=null,Ct||(Ct=!0,a.unstable_scheduleCallback(a.unstable_NormalPriority,It)))}function Bt(e){function t(t){return $t(t,e)}if(0<Tt.length){$t(Tt[0],e);for(var n=1;n<Tt.length;n++){var r=Tt[n];r.blockedOn===e&&(r.blockedOn=null)}}for(null!==Mt&&$t(Mt,e),null!==Nt&&$t(Nt,e),null!==Pt&&$t(Pt,e),zt.forEach(t),Lt.forEach(t),n=0;n<Ot.length;n++)(r=Ot[n]).blockedOn===e&&(r.blockedOn=null);for(;0<Ot.length&&null===(n=Ot[0]).blockedOn;)Rt(n),null===n.blockedOn&&Ot.shift()}var Wt=_.ReactCurrentBatchConfig,Vt=!0;function Ht(e,t,n,r){var a=bt,i=Wt.transition;Wt.transition=null;try{bt=1,Qt(e,t,n,r)}finally{bt=a,Wt.transition=i}}function qt(e,t,n,r){var a=bt,i=Wt.transition;Wt.transition=null;try{bt=4,Qt(e,t,n,r)}finally{bt=a,Wt.transition=i}}function Qt(e,t,n,r){if(Vt){var a=Gt(e,t,n,r);if(null===a)Vr(e,t,r,Yt,n),Ft(e,r);else if(function(e,t,n,r,a){switch(t){case\"focusin\":return Mt=Dt(Mt,e,t,n,r,a),!0;case\"dragenter\":return Nt=Dt(Nt,e,t,n,r,a),!0;case\"mouseover\":return Pt=Dt(Pt,e,t,n,r,a),!0;case\"pointerover\":var i=a.pointerId;return zt.set(i,Dt(zt.get(i)||null,e,t,n,r,a)),!0;case\"gotpointercapture\":return i=a.pointerId,Lt.set(i,Dt(Lt.get(i)||null,e,t,n,r,a)),!0}return!1}(a,e,t,n,r))r.stopPropagation();else if(Ft(e,r),4&t&&-1<At.indexOf(e)){for(;null!==a;){var i=ba(a);if(null!==i&&wt(i),null===(i=Gt(e,t,n,r))&&Vr(e,t,r,Yt,n),i===a)break;a=i}null!==a&&r.stopPropagation()}else Vr(e,t,r,null,n)}}var Yt=null;function Gt(e,t,n,r){if(Yt=null,null!==(e=ma(e=we(r))))if(null===(t=Be(e)))e=null;else if(13===(n=t.tag)){if(null!==(e=We(t)))return e;e=null}else if(3===n){if(t.stateNode.current.memoizedState.isDehydrated)return 3===t.tag?t.stateNode.containerInfo:null;e=null}else t!==e&&(e=null);return Yt=e,null}function Kt(e){switch(e){case\"cancel\":case\"click\":case\"close\":case\"contextmenu\":case\"copy\":case\"cut\":case\"auxclick\":case\"dblclick\":case\"dragend\":case\"dragstart\":case\"drop\":case\"focusin\":case\"focusout\":case\"input\":case\"invalid\":case\"keydown\":case\"keypress\":case\"keyup\":case\"mousedown\":case\"mouseup\":case\"paste\":case\"pause\":case\"play\":case\"pointercancel\":case\"pointerdown\":case\"pointerup\":case\"ratechange\":case\"reset\":case\"resize\":case\"seeked\":case\"submit\":case\"touchcancel\":case\"touchend\":case\"touchstart\":case\"volumechange\":case\"change\":case\"selectionchange\":case\"textInput\":case\"compositionstart\":case\"compositionend\":case\"compositionupdate\":case\"beforeblur\":case\"afterblur\":case\"beforeinput\":case\"blur\":case\"fullscreenchange\":case\"focus\":case\"hashchange\":case\"popstate\":case\"select\":case\"selectstart\":return 1;case\"drag\":case\"dragenter\":case\"dragexit\":case\"dragleave\":case\"dragover\":case\"mousemove\":case\"mouseout\":case\"mouseover\":case\"pointermove\":case\"pointerout\":case\"pointerover\":case\"scroll\":case\"toggle\":case\"touchmove\":case\"wheel\":case\"mouseenter\":case\"mouseleave\":case\"pointerenter\":case\"pointerleave\":return 4;case\"message\":switch(Xe()){case Je:return 1;case et:return 4;case tt:case nt:return 16;case rt:return 536870912;default:return 16}default:return 16}}var Zt=null,Xt=null,Jt=null;function en(){if(Jt)return Jt;var e,t,n=Xt,r=n.length,a=\"value\"in Zt?Zt.value:Zt.textContent,i=a.length;for(e=0;e<r&&n[e]===a[e];e++);var o=r-e;for(t=1;t<=o&&n[r-t]===a[i-t];t++);return Jt=a.slice(e,1<t?1-t:void 0)}function tn(e){var t=e.keyCode;return\"charCode\"in e?0===(e=e.charCode)&&13===t&&(e=13):e=t,10===e&&(e=13),32<=e||13===e?e:0}function nn(){return!0}function rn(){return!1}function an(e){function t(t,n,r,a,i){for(var o in this._reactName=t,this._targetInst=r,this.type=n,this.nativeEvent=a,this.target=i,this.currentTarget=null,e)e.hasOwnProperty(o)&&(t=e[o],this[o]=t?t(a):a[o]);return this.isDefaultPrevented=(null!=a.defaultPrevented?a.defaultPrevented:!1===a.returnValue)?nn:rn,this.isPropagationStopped=rn,this}return R(t.prototype,{preventDefault:function(){this.defaultPrevented=!0;var e=this.nativeEvent;e&&(e.preventDefault?e.preventDefault():\"unknown\"!=typeof e.returnValue&&(e.returnValue=!1),this.isDefaultPrevented=nn)},stopPropagation:function(){var e=this.nativeEvent;e&&(e.stopPropagation?e.stopPropagation():\"unknown\"!=typeof e.cancelBubble&&(e.cancelBubble=!0),this.isPropagationStopped=nn)},persist:function(){},isPersistent:nn}),t}var on,un,ln,sn={eventPhase:0,bubbles:0,cancelable:0,timeStamp:function(e){return e.timeStamp||Date.now()},defaultPrevented:0,isTrusted:0},cn=an(sn),fn=R({},sn,{view:0,detail:0}),pn=an(fn),dn=R({},fn,{screenX:0,screenY:0,clientX:0,clientY:0,pageX:0,pageY:0,ctrlKey:0,shiftKey:0,altKey:0,metaKey:0,getModifierState:En,button:0,buttons:0,relatedTarget:function(e){return void 0===e.relatedTarget?e.fromElement===e.srcElement?e.toElement:e.fromElement:e.relatedTarget},movementX:function(e){return\"movementX\"in e?e.movementX:(e!==ln&&(ln&&\"mousemove\"===e.type?(on=e.screenX-ln.screenX,un=e.screenY-ln.screenY):un=on=0,ln=e),on)},movementY:function(e){return\"movementY\"in e?e.movementY:un}}),hn=an(dn),vn=an(R({},dn,{dataTransfer:0})),gn=an(R({},fn,{relatedTarget:0})),yn=an(R({},sn,{animationName:0,elapsedTime:0,pseudoElement:0})),mn=R({},sn,{clipboardData:function(e){return\"clipboardData\"in e?e.clipboardData:window.clipboardData}}),bn=an(mn),_n=an(R({},sn,{data:0})),wn={Esc:\"Escape\",Spacebar:\" \",Left:\"ArrowLeft\",Up:\"ArrowUp\",Right:\"ArrowRight\",Down:\"ArrowDown\",Del:\"Delete\",Win:\"OS\",Menu:\"ContextMenu\",Apps:\"ContextMenu\",Scroll:\"ScrollLock\",MozPrintableKey:\"Unidentified\"},xn={8:\"Backspace\",9:\"Tab\",12:\"Clear\",13:\"Enter\",16:\"Shift\",17:\"Control\",18:\"Alt\",19:\"Pause\",20:\"CapsLock\",27:\"Escape\",32:\" \",33:\"PageUp\",34:\"PageDown\",35:\"End\",36:\"Home\",37:\"ArrowLeft\",38:\"ArrowUp\",39:\"ArrowRight\",40:\"ArrowDown\",45:\"Insert\",46:\"Delete\",112:\"F1\",113:\"F2\",114:\"F3\",115:\"F4\",116:\"F5\",117:\"F6\",118:\"F7\",119:\"F8\",120:\"F9\",121:\"F10\",122:\"F11\",123:\"F12\",144:\"NumLock\",145:\"ScrollLock\",224:\"Meta\"},kn={Alt:\"altKey\",Control:\"ctrlKey\",Meta:\"metaKey\",Shift:\"shiftKey\"};function Sn(e){var t=this.nativeEvent;return t.getModifierState?t.getModifierState(e):!!(e=kn[e])&&!!t[e]}function En(){return Sn}var Cn=R({},fn,{key:function(e){if(e.key){var t=wn[e.key]||e.key;if(\"Unidentified\"!==t)return t}return\"keypress\"===e.type?13===(e=tn(e))?\"Enter\":String.fromCharCode(e):\"keydown\"===e.type||\"keyup\"===e.type?xn[e.keyCode]||\"Unidentified\":\"\"},code:0,location:0,ctrlKey:0,shiftKey:0,altKey:0,metaKey:0,repeat:0,locale:0,getModifierState:En,charCode:function(e){return\"keypress\"===e.type?tn(e):0},keyCode:function(e){return\"keydown\"===e.type||\"keyup\"===e.type?e.keyCode:0},which:function(e){return\"keypress\"===e.type?tn(e):\"keydown\"===e.type||\"keyup\"===e.type?e.keyCode:0}}),Tn=an(Cn),Mn=an(R({},dn,{pointerId:0,width:0,height:0,pressure:0,tangentialPressure:0,tiltX:0,tiltY:0,twist:0,pointerType:0,isPrimary:0})),Nn=an(R({},fn,{touches:0,targetTouches:0,changedTouches:0,altKey:0,metaKey:0,ctrlKey:0,shiftKey:0,getModifierState:En})),Pn=an(R({},sn,{propertyName:0,elapsedTime:0,pseudoElement:0})),zn=R({},dn,{deltaX:function(e){return\"deltaX\"in e?e.deltaX:\"wheelDeltaX\"in e?-e.wheelDeltaX:0},deltaY:function(e){return\"deltaY\"in e?e.deltaY:\"wheelDeltaY\"in e?-e.wheelDeltaY:\"wheelDelta\"in e?-e.wheelDelta:0},deltaZ:0,deltaMode:0}),Ln=an(zn),On=[9,13,27,32],An=c&&\"CompositionEvent\"in window,Fn=null;c&&\"documentMode\"in document&&(Fn=document.documentMode);var Dn=c&&\"TextEvent\"in window&&!Fn,Rn=c&&(!An||Fn&&8<Fn&&11>=Fn),jn=String.fromCharCode(32),Un=!1;function In(e,t){switch(e){case\"keyup\":return-1!==On.indexOf(t.keyCode);case\"keydown\":return 229!==t.keyCode;case\"keypress\":case\"mousedown\":case\"focusout\":return!0;default:return!1}}function $n(e){return\"object\"==typeof(e=e.detail)&&\"data\"in e?e.data:null}var Bn=!1,Wn={color:!0,date:!0,datetime:!0,\"datetime-local\":!0,email:!0,month:!0,number:!0,password:!0,range:!0,search:!0,tel:!0,text:!0,time:!0,url:!0,week:!0};function Vn(e){var t=e&&e.nodeName&&e.nodeName.toLowerCase();return\"input\"===t?!!Wn[e.type]:\"textarea\"===t}function Hn(e,t,n,r){Ce(r),0<(t=qr(t,\"onChange\")).length&&(n=new cn(\"onChange\",\"change\",null,n,r),e.push({event:n,listeners:t}))}var qn=null,Qn=null;function Yn(e){jr(e,0)}function Gn(e){if(Q(_a(e)))return e}function Kn(e,t){if(\"change\"===e)return t}var Zn=!1;if(c){var Xn;if(c){var Jn=\"oninput\"in document;if(!Jn){var er=document.createElement(\"div\");er.setAttribute(\"oninput\",\"return;\"),Jn=\"function\"==typeof er.oninput}Xn=Jn}else Xn=!1;Zn=Xn&&(!document.documentMode||9<document.documentMode)}function tr(){qn&&(qn.detachEvent(\"onpropertychange\",nr),Qn=qn=null)}function nr(e){if(\"value\"===e.propertyName&&Gn(Qn)){var t=[];Hn(t,Qn,e,we(e)),ze(Yn,t)}}function rr(e,t,n){\"focusin\"===e?(tr(),Qn=n,(qn=t).attachEvent(\"onpropertychange\",nr)):\"focusout\"===e&&tr()}function ar(e){if(\"selectionchange\"===e||\"keyup\"===e||\"keydown\"===e)return Gn(Qn)}function ir(e,t){if(\"click\"===e)return Gn(t)}function or(e,t){if(\"input\"===e||\"change\"===e)return Gn(t)}var ur=\"function\"==typeof Object.is?Object.is:function(e,t){return e===t&&(0!==e||1/e==1/t)||e!=e&&t!=t};function lr(e,t){if(ur(e,t))return!0;if(\"object\"!=typeof e||null===e||\"object\"!=typeof t||null===t)return!1;var n=Object.keys(e),r=Object.keys(t);if(n.length!==r.length)return!1;for(r=0;r<n.length;r++){var a=n[r];if(!f.call(t,a)||!ur(e[a],t[a]))return!1}return!0}function sr(e){for(;e&&e.firstChild;)e=e.firstChild;return e}function cr(e,t){var n,r=sr(e);for(e=0;r;){if(3===r.nodeType){if(n=e+r.textContent.length,e<=t&&n>=t)return{node:r,offset:t-e};e=n}e:{for(;r;){if(r.nextSibling){r=r.nextSibling;break e}r=r.parentNode}r=void 0}r=sr(r)}}function fr(e,t){return!(!e||!t)&&(e===t||(!e||3!==e.nodeType)&&(t&&3===t.nodeType?fr(e,t.parentNode):\"contains\"in e?e.contains(t):!!e.compareDocumentPosition&&!!(16&e.compareDocumentPosition(t))))}function pr(){for(var e=window,t=Y();t instanceof e.HTMLIFrameElement;){try{var n=\"string\"==typeof t.contentWindow.location.href}catch(e){n=!1}if(!n)break;t=Y((e=t.contentWindow).document)}return t}function dr(e){var t=e&&e.nodeName&&e.nodeName.toLowerCase();return t&&(\"input\"===t&&(\"text\"===e.type||\"search\"===e.type||\"tel\"===e.type||\"url\"===e.type||\"password\"===e.type)||\"textarea\"===t||\"true\"===e.contentEditable)}function hr(e){var t=pr(),n=e.focusedElem,r=e.selectionRange;if(t!==n&&n&&n.ownerDocument&&fr(n.ownerDocument.documentElement,n)){if(null!==r&&dr(n))if(t=r.start,void 0===(e=r.end)&&(e=t),\"selectionStart\"in n)n.selectionStart=t,n.selectionEnd=Math.min(e,n.value.length);else if((e=(t=n.ownerDocument||document)&&t.defaultView||window).getSelection){e=e.getSelection();var a=n.textContent.length,i=Math.min(r.start,a);r=void 0===r.end?i:Math.min(r.end,a),!e.extend&&i>r&&(a=r,r=i,i=a),a=cr(n,i);var o=cr(n,r);a&&o&&(1!==e.rangeCount||e.anchorNode!==a.node||e.anchorOffset!==a.offset||e.focusNode!==o.node||e.focusOffset!==o.offset)&&((t=t.createRange()).setStart(a.node,a.offset),e.removeAllRanges(),i>r?(e.addRange(t),e.extend(o.node,o.offset)):(t.setEnd(o.node,o.offset),e.addRange(t)))}for(t=[],e=n;e=e.parentNode;)1===e.nodeType&&t.push({element:e,left:e.scrollLeft,top:e.scrollTop});for(\"function\"==typeof n.focus&&n.focus(),n=0;n<t.length;n++)(e=t[n]).element.scrollLeft=e.left,e.element.scrollTop=e.top}}var vr=c&&\"documentMode\"in document&&11>=document.documentMode,gr=null,yr=null,mr=null,br=!1;function _r(e,t,n){var r=n.window===n?n.document:9===n.nodeType?n:n.ownerDocument;br||null==gr||gr!==Y(r)||(r=\"selectionStart\"in(r=gr)&&dr(r)?{start:r.selectionStart,end:r.selectionEnd}:{anchorNode:(r=(r.ownerDocument&&r.ownerDocument.defaultView||window).getSelection()).anchorNode,anchorOffset:r.anchorOffset,focusNode:r.focusNode,focusOffset:r.focusOffset},mr&&lr(mr,r)||(mr=r,0<(r=qr(yr,\"onSelect\")).length&&(t=new cn(\"onSelect\",\"select\",null,t,n),e.push({event:t,listeners:r}),t.target=gr)))}function wr(e,t){var n={};return n[e.toLowerCase()]=t.toLowerCase(),n[\"Webkit\"+e]=\"webkit\"+t,n[\"Moz\"+e]=\"moz\"+t,n}var xr={animationend:wr(\"Animation\",\"AnimationEnd\"),animationiteration:wr(\"Animation\",\"AnimationIteration\"),animationstart:wr(\"Animation\",\"AnimationStart\"),transitionend:wr(\"Transition\",\"TransitionEnd\")},kr={},Sr={};function Er(e){if(kr[e])return kr[e];if(!xr[e])return e;var t,n=xr[e];for(t in n)if(n.hasOwnProperty(t)&&t in Sr)return kr[e]=n[t];return e}c&&(Sr=document.createElement(\"div\").style,\"AnimationEvent\"in window||(delete xr.animationend.animation,delete xr.animationiteration.animation,delete xr.animationstart.animation),\"TransitionEvent\"in window||delete xr.transitionend.transition);var Cr=Er(\"animationend\"),Tr=Er(\"animationiteration\"),Mr=Er(\"animationstart\"),Nr=Er(\"transitionend\"),Pr=new Map,zr=\"abort auxClick cancel canPlay canPlayThrough click close contextMenu copy cut drag dragEnd dragEnter dragExit dragLeave dragOver dragStart drop durationChange emptied encrypted ended error gotPointerCapture input invalid keyDown keyPress keyUp load loadedData loadedMetadata loadStart lostPointerCapture mouseDown mouseMove mouseOut mouseOver mouseUp paste pause play playing pointerCancel pointerDown pointerMove pointerOut pointerOver pointerUp progress rateChange reset resize seeked seeking stalled submit suspend timeUpdate touchCancel touchEnd touchStart volumeChange scroll toggle touchMove waiting wheel\".split(\" \");function Lr(e,t){Pr.set(e,t),l(t,[e])}for(var Or=0;Or<zr.length;Or++){var Ar=zr[Or];Lr(Ar.toLowerCase(),\"on\"+(Ar[0].toUpperCase()+Ar.slice(1)))}Lr(Cr,\"onAnimationEnd\"),Lr(Tr,\"onAnimationIteration\"),Lr(Mr,\"onAnimationStart\"),Lr(\"dblclick\",\"onDoubleClick\"),Lr(\"focusin\",\"onFocus\"),Lr(\"focusout\",\"onBlur\"),Lr(Nr,\"onTransitionEnd\"),s(\"onMouseEnter\",[\"mouseout\",\"mouseover\"]),s(\"onMouseLeave\",[\"mouseout\",\"mouseover\"]),s(\"onPointerEnter\",[\"pointerout\",\"pointerover\"]),s(\"onPointerLeave\",[\"pointerout\",\"pointerover\"]),l(\"onChange\",\"change click focusin focusout input keydown keyup selectionchange\".split(\" \")),l(\"onSelect\",\"focusout contextmenu dragend focusin keydown keyup mousedown mouseup selectionchange\".split(\" \")),l(\"onBeforeInput\",[\"compositionend\",\"keypress\",\"textInput\",\"paste\"]),l(\"onCompositionEnd\",\"compositionend focusout keydown keypress keyup mousedown\".split(\" \")),l(\"onCompositionStart\",\"compositionstart focusout keydown keypress keyup mousedown\".split(\" \")),l(\"onCompositionUpdate\",\"compositionupdate focusout keydown keypress keyup mousedown\".split(\" \"));var Fr=\"abort canplay canplaythrough durationchange emptied encrypted ended error loadeddata loadedmetadata loadstart pause play playing progress ratechange resize seeked seeking stalled suspend timeupdate volumechange waiting\".split(\" \"),Dr=new Set(\"cancel close invalid load scroll toggle\".split(\" \").concat(Fr));function Rr(e,t,n){var r=e.type||\"unknown-event\";e.currentTarget=n,function(e,t,n,r,a,o,u,l,s){if($e.apply(this,arguments),De){if(!De)throw Error(i(198));var c=Re;De=!1,Re=null,je||(je=!0,Ue=c)}}(r,t,void 0,e),e.currentTarget=null}function jr(e,t){t=0!=(4&t);for(var n=0;n<e.length;n++){var r=e[n],a=r.event;r=r.listeners;e:{var i=void 0;if(t)for(var o=r.length-1;0<=o;o--){var u=r[o],l=u.instance,s=u.currentTarget;if(u=u.listener,l!==i&&a.isPropagationStopped())break e;Rr(a,u,s),i=l}else for(o=0;o<r.length;o++){if(l=(u=r[o]).instance,s=u.currentTarget,u=u.listener,l!==i&&a.isPropagationStopped())break e;Rr(a,u,s),i=l}}}if(je)throw e=Ue,je=!1,Ue=null,e}function Ur(e,t){var n=t[va];void 0===n&&(n=t[va]=new Set);var r=e+\"__bubble\";n.has(r)||(Wr(t,e,2,!1),n.add(r))}function Ir(e,t,n){var r=0;t&&(r|=4),Wr(n,e,r,t)}var $r=\"_reactListening\"+Math.random().toString(36).slice(2);function Br(e){if(!e[$r]){e[$r]=!0,o.forEach((function(t){\"selectionchange\"!==t&&(Dr.has(t)||Ir(t,!1,e),Ir(t,!0,e))}));var t=9===e.nodeType?e:e.ownerDocument;null===t||t[$r]||(t[$r]=!0,Ir(\"selectionchange\",!1,t))}}function Wr(e,t,n,r){switch(Kt(t)){case 1:var a=Ht;break;case 4:a=qt;break;default:a=Qt}n=a.bind(null,t,n,e),a=void 0,!Oe||\"touchstart\"!==t&&\"touchmove\"!==t&&\"wheel\"!==t||(a=!0),r?void 0!==a?e.addEventListener(t,n,{capture:!0,passive:a}):e.addEventListener(t,n,!0):void 0!==a?e.addEventListener(t,n,{passive:a}):e.addEventListener(t,n,!1)}function Vr(e,t,n,r,a){var i=r;if(0==(1&t)&&0==(2&t)&&null!==r)e:for(;;){if(null===r)return;var o=r.tag;if(3===o||4===o){var u=r.stateNode.containerInfo;if(u===a||8===u.nodeType&&u.parentNode===a)break;if(4===o)for(o=r.return;null!==o;){var l=o.tag;if((3===l||4===l)&&((l=o.stateNode.containerInfo)===a||8===l.nodeType&&l.parentNode===a))return;o=o.return}for(;null!==u;){if(null===(o=ma(u)))return;if(5===(l=o.tag)||6===l){r=i=o;continue e}u=u.parentNode}}r=r.return}ze((function(){var r=i,a=we(n),o=[];e:{var u=Pr.get(e);if(void 0!==u){var l=cn,s=e;switch(e){case\"keypress\":if(0===tn(n))break e;case\"keydown\":case\"keyup\":l=Tn;break;case\"focusin\":s=\"focus\",l=gn;break;case\"focusout\":s=\"blur\",l=gn;break;case\"beforeblur\":case\"afterblur\":l=gn;break;case\"click\":if(2===n.button)break e;case\"auxclick\":case\"dblclick\":case\"mousedown\":case\"mousemove\":case\"mouseup\":case\"mouseout\":case\"mouseover\":case\"contextmenu\":l=hn;break;case\"drag\":case\"dragend\":case\"dragenter\":case\"dragexit\":case\"dragleave\":case\"dragover\":case\"dragstart\":case\"drop\":l=vn;break;case\"touchcancel\":case\"touchend\":case\"touchmove\":case\"touchstart\":l=Nn;break;case Cr:case Tr:case Mr:l=yn;break;case Nr:l=Pn;break;case\"scroll\":l=pn;break;case\"wheel\":l=Ln;break;case\"copy\":case\"cut\":case\"paste\":l=bn;break;case\"gotpointercapture\":case\"lostpointercapture\":case\"pointercancel\":case\"pointerdown\":case\"pointermove\":case\"pointerout\":case\"pointerover\":case\"pointerup\":l=Mn}var c=0!=(4&t),f=!c&&\"scroll\"===e,p=c?null!==u?u+\"Capture\":null:u;c=[];for(var d,h=r;null!==h;){var v=(d=h).stateNode;if(5===d.tag&&null!==v&&(d=v,null!==p&&null!=(v=Le(h,p))&&c.push(Hr(h,v,d))),f)break;h=h.return}0<c.length&&(u=new l(u,s,null,n,a),o.push({event:u,listeners:c}))}}if(0==(7&t)){if(l=\"mouseout\"===e||\"pointerout\"===e,(!(u=\"mouseover\"===e||\"pointerover\"===e)||n===_e||!(s=n.relatedTarget||n.fromElement)||!ma(s)&&!s[ha])&&(l||u)&&(u=a.window===a?a:(u=a.ownerDocument)?u.defaultView||u.parentWindow:window,l?(l=r,null!==(s=(s=n.relatedTarget||n.toElement)?ma(s):null)&&(s!==(f=Be(s))||5!==s.tag&&6!==s.tag)&&(s=null)):(l=null,s=r),l!==s)){if(c=hn,v=\"onMouseLeave\",p=\"onMouseEnter\",h=\"mouse\",\"pointerout\"!==e&&\"pointerover\"!==e||(c=Mn,v=\"onPointerLeave\",p=\"onPointerEnter\",h=\"pointer\"),f=null==l?u:_a(l),d=null==s?u:_a(s),(u=new c(v,h+\"leave\",l,n,a)).target=f,u.relatedTarget=d,v=null,ma(a)===r&&((c=new c(p,h+\"enter\",s,n,a)).target=d,c.relatedTarget=f,v=c),f=v,l&&s)e:{for(p=s,h=0,d=c=l;d;d=Qr(d))h++;for(d=0,v=p;v;v=Qr(v))d++;for(;0<h-d;)c=Qr(c),h--;for(;0<d-h;)p=Qr(p),d--;for(;h--;){if(c===p||null!==p&&c===p.alternate)break e;c=Qr(c),p=Qr(p)}c=null}else c=null;null!==l&&Yr(o,u,l,c,!1),null!==s&&null!==f&&Yr(o,f,s,c,!0)}if(\"select\"===(l=(u=r?_a(r):window).nodeName&&u.nodeName.toLowerCase())||\"input\"===l&&\"file\"===u.type)var g=Kn;else if(Vn(u))if(Zn)g=or;else{g=ar;var y=rr}else(l=u.nodeName)&&\"input\"===l.toLowerCase()&&(\"checkbox\"===u.type||\"radio\"===u.type)&&(g=ir);switch(g&&(g=g(e,r))?Hn(o,g,n,a):(y&&y(e,u,r),\"focusout\"===e&&(y=u._wrapperState)&&y.controlled&&\"number\"===u.type&&ee(u,\"number\",u.value)),y=r?_a(r):window,e){case\"focusin\":(Vn(y)||\"true\"===y.contentEditable)&&(gr=y,yr=r,mr=null);break;case\"focusout\":mr=yr=gr=null;break;case\"mousedown\":br=!0;break;case\"contextmenu\":case\"mouseup\":case\"dragend\":br=!1,_r(o,n,a);break;case\"selectionchange\":if(vr)break;case\"keydown\":case\"keyup\":_r(o,n,a)}var m;if(An)e:{switch(e){case\"compositionstart\":var b=\"onCompositionStart\";break e;case\"compositionend\":b=\"onCompositionEnd\";break e;case\"compositionupdate\":b=\"onCompositionUpdate\";break e}b=void 0}else Bn?In(e,n)&&(b=\"onCompositionEnd\"):\"keydown\"===e&&229===n.keyCode&&(b=\"onCompositionStart\");b&&(Rn&&\"ko\"!==n.locale&&(Bn||\"onCompositionStart\"!==b?\"onCompositionEnd\"===b&&Bn&&(m=en()):(Xt=\"value\"in(Zt=a)?Zt.value:Zt.textContent,Bn=!0)),0<(y=qr(r,b)).length&&(b=new _n(b,e,null,n,a),o.push({event:b,listeners:y}),(m||null!==(m=$n(n)))&&(b.data=m))),(m=Dn?function(e,t){switch(e){case\"compositionend\":return $n(t);case\"keypress\":return 32!==t.which?null:(Un=!0,jn);case\"textInput\":return(e=t.data)===jn&&Un?null:e;default:return null}}(e,n):function(e,t){if(Bn)return\"compositionend\"===e||!An&&In(e,t)?(e=en(),Jt=Xt=Zt=null,Bn=!1,e):null;switch(e){case\"paste\":default:return null;case\"keypress\":if(!(t.ctrlKey||t.altKey||t.metaKey)||t.ctrlKey&&t.altKey){if(t.char&&1<t.char.length)return t.char;if(t.which)return String.fromCharCode(t.which)}return null;case\"compositionend\":return Rn&&\"ko\"!==t.locale?null:t.data}}(e,n))&&0<(r=qr(r,\"onBeforeInput\")).length&&(a=new _n(\"onBeforeInput\",\"beforeinput\",null,n,a),o.push({event:a,listeners:r}),a.data=m)}jr(o,t)}))}function Hr(e,t,n){return{instance:e,listener:t,currentTarget:n}}function qr(e,t){for(var n=t+\"Capture\",r=[];null!==e;){var a=e,i=a.stateNode;5===a.tag&&null!==i&&(a=i,null!=(i=Le(e,n))&&r.unshift(Hr(e,i,a)),null!=(i=Le(e,t))&&r.push(Hr(e,i,a))),e=e.return}return r}function Qr(e){if(null===e)return null;do{e=e.return}while(e&&5!==e.tag);return e||null}function Yr(e,t,n,r,a){for(var i=t._reactName,o=[];null!==n&&n!==r;){var u=n,l=u.alternate,s=u.stateNode;if(null!==l&&l===r)break;5===u.tag&&null!==s&&(u=s,a?null!=(l=Le(n,i))&&o.unshift(Hr(n,l,u)):a||null!=(l=Le(n,i))&&o.push(Hr(n,l,u))),n=n.return}0!==o.length&&e.push({event:t,listeners:o})}var Gr=/\\r\\n?/g,Kr=/\\u0000|\\uFFFD/g;function Zr(e){return(\"string\"==typeof e?e:\"\"+e).replace(Gr,\"\\n\").replace(Kr,\"\")}function Xr(e,t,n){if(t=Zr(t),Zr(e)!==t&&n)throw Error(i(425))}function Jr(){}var ea=null,ta=null;function na(e,t){return\"textarea\"===e||\"noscript\"===e||\"string\"==typeof t.children||\"number\"==typeof t.children||\"object\"==typeof t.dangerouslySetInnerHTML&&null!==t.dangerouslySetInnerHTML&&null!=t.dangerouslySetInnerHTML.__html}var ra=\"function\"==typeof setTimeout?setTimeout:void 0,aa=\"function\"==typeof clearTimeout?clearTimeout:void 0,ia=\"function\"==typeof Promise?Promise:void 0,oa=\"function\"==typeof queueMicrotask?queueMicrotask:void 0!==ia?function(e){return ia.resolve(null).then(e).catch(ua)}:ra;function ua(e){setTimeout((function(){throw e}))}function la(e,t){var n=t,r=0;do{var a=n.nextSibling;if(e.removeChild(n),a&&8===a.nodeType)if(\"/$\"===(n=a.data)){if(0===r)return e.removeChild(a),void Bt(t);r--}else\"$\"!==n&&\"$?\"!==n&&\"$!\"!==n||r++;n=a}while(n);Bt(t)}function sa(e){for(;null!=e;e=e.nextSibling){var t=e.nodeType;if(1===t||3===t)break;if(8===t){if(\"$\"===(t=e.data)||\"$!\"===t||\"$?\"===t)break;if(\"/$\"===t)return null}}return e}function ca(e){e=e.previousSibling;for(var t=0;e;){if(8===e.nodeType){var n=e.data;if(\"$\"===n||\"$!\"===n||\"$?\"===n){if(0===t)return e;t--}else\"/$\"===n&&t++}e=e.previousSibling}return null}var fa=Math.random().toString(36).slice(2),pa=\"__reactFiber$\"+fa,da=\"__reactProps$\"+fa,ha=\"__reactContainer$\"+fa,va=\"__reactEvents$\"+fa,ga=\"__reactListeners$\"+fa,ya=\"__reactHandles$\"+fa;function ma(e){var t=e[pa];if(t)return t;for(var n=e.parentNode;n;){if(t=n[ha]||n[pa]){if(n=t.alternate,null!==t.child||null!==n&&null!==n.child)for(e=ca(e);null!==e;){if(n=e[pa])return n;e=ca(e)}return t}n=(e=n).parentNode}return null}function ba(e){return!(e=e[pa]||e[ha])||5!==e.tag&&6!==e.tag&&13!==e.tag&&3!==e.tag?null:e}function _a(e){if(5===e.tag||6===e.tag)return e.stateNode;throw Error(i(33))}function wa(e){return e[da]||null}var xa=[],ka=-1;function Sa(e){return{current:e}}function Ea(e){0>ka||(e.current=xa[ka],xa[ka]=null,ka--)}function Ca(e,t){ka++,xa[ka]=e.current,e.current=t}var Ta={},Ma=Sa(Ta),Na=Sa(!1),Pa=Ta;function za(e,t){var n=e.type.contextTypes;if(!n)return Ta;var r=e.stateNode;if(r&&r.__reactInternalMemoizedUnmaskedChildContext===t)return r.__reactInternalMemoizedMaskedChildContext;var a,i={};for(a in n)i[a]=t[a];return r&&((e=e.stateNode).__reactInternalMemoizedUnmaskedChildContext=t,e.__reactInternalMemoizedMaskedChildContext=i),i}function La(e){return null!=e.childContextTypes}function Oa(){Ea(Na),Ea(Ma)}function Aa(e,t,n){if(Ma.current!==Ta)throw Error(i(168));Ca(Ma,t),Ca(Na,n)}function Fa(e,t,n){var r=e.stateNode;if(t=t.childContextTypes,\"function\"!=typeof r.getChildContext)return n;for(var a in r=r.getChildContext())if(!(a in t))throw Error(i(108,W(e)||\"Unknown\",a));return R({},n,r)}function Da(e){return e=(e=e.stateNode)&&e.__reactInternalMemoizedMergedChildContext||Ta,Pa=Ma.current,Ca(Ma,e),Ca(Na,Na.current),!0}function Ra(e,t,n){var r=e.stateNode;if(!r)throw Error(i(169));n?(e=Fa(e,t,Pa),r.__reactInternalMemoizedMergedChildContext=e,Ea(Na),Ea(Ma),Ca(Ma,e)):Ea(Na),Ca(Na,n)}var ja=null,Ua=!1,Ia=!1;function $a(e){null===ja?ja=[e]:ja.push(e)}function Ba(){if(!Ia&&null!==ja){Ia=!0;var e=0,t=bt;try{var n=ja;for(bt=1;e<n.length;e++){var r=n[e];do{r=r(!0)}while(null!==r)}ja=null,Ua=!1}catch(t){throw null!==ja&&(ja=ja.slice(e+1)),Qe(Je,Ba),t}finally{bt=t,Ia=!1}}return null}var Wa=[],Va=0,Ha=null,qa=0,Qa=[],Ya=0,Ga=null,Ka=1,Za=\"\";function Xa(e,t){Wa[Va++]=qa,Wa[Va++]=Ha,Ha=e,qa=t}function Ja(e,t,n){Qa[Ya++]=Ka,Qa[Ya++]=Za,Qa[Ya++]=Ga,Ga=e;var r=Ka;e=Za;var a=32-ot(r)-1;r&=~(1<<a),n+=1;var i=32-ot(t)+a;if(30<i){var o=a-a%5;i=(r&(1<<o)-1).toString(32),r>>=o,a-=o,Ka=1<<32-ot(t)+a|n<<a|r,Za=i+e}else Ka=1<<i|n<<a|r,Za=e}function ei(e){null!==e.return&&(Xa(e,1),Ja(e,1,0))}function ti(e){for(;e===Ha;)Ha=Wa[--Va],Wa[Va]=null,qa=Wa[--Va],Wa[Va]=null;for(;e===Ga;)Ga=Qa[--Ya],Qa[Ya]=null,Za=Qa[--Ya],Qa[Ya]=null,Ka=Qa[--Ya],Qa[Ya]=null}var ni=null,ri=null,ai=!1,ii=null;function oi(e,t){var n=Ls(5,null,null,0);n.elementType=\"DELETED\",n.stateNode=t,n.return=e,null===(t=e.deletions)?(e.deletions=[n],e.flags|=16):t.push(n)}function ui(e,t){switch(e.tag){case 5:var n=e.type;return null!==(t=1!==t.nodeType||n.toLowerCase()!==t.nodeName.toLowerCase()?null:t)&&(e.stateNode=t,ni=e,ri=sa(t.firstChild),!0);case 6:return null!==(t=\"\"===e.pendingProps||3!==t.nodeType?null:t)&&(e.stateNode=t,ni=e,ri=null,!0);case 13:return null!==(t=8!==t.nodeType?null:t)&&(n=null!==Ga?{id:Ka,overflow:Za}:null,e.memoizedState={dehydrated:t,treeContext:n,retryLane:1073741824},(n=Ls(18,null,null,0)).stateNode=t,n.return=e,e.child=n,ni=e,ri=null,!0);default:return!1}}function li(e){return 0!=(1&e.mode)&&0==(128&e.flags)}function si(e){if(ai){var t=ri;if(t){var n=t;if(!ui(e,t)){if(li(e))throw Error(i(418));t=sa(n.nextSibling);var r=ni;t&&ui(e,t)?oi(r,n):(e.flags=-4097&e.flags|2,ai=!1,ni=e)}}else{if(li(e))throw Error(i(418));e.flags=-4097&e.flags|2,ai=!1,ni=e}}}function ci(e){for(e=e.return;null!==e&&5!==e.tag&&3!==e.tag&&13!==e.tag;)e=e.return;ni=e}function fi(e){if(e!==ni)return!1;if(!ai)return ci(e),ai=!0,!1;var t;if((t=3!==e.tag)&&!(t=5!==e.tag)&&(t=\"head\"!==(t=e.type)&&\"body\"!==t&&!na(e.type,e.memoizedProps)),t&&(t=ri)){if(li(e))throw pi(),Error(i(418));for(;t;)oi(e,t),t=sa(t.nextSibling)}if(ci(e),13===e.tag){if(!(e=null!==(e=e.memoizedState)?e.dehydrated:null))throw Error(i(317));e:{for(e=e.nextSibling,t=0;e;){if(8===e.nodeType){var n=e.data;if(\"/$\"===n){if(0===t){ri=sa(e.nextSibling);break e}t--}else\"$\"!==n&&\"$!\"!==n&&\"$?\"!==n||t++}e=e.nextSibling}ri=null}}else ri=ni?sa(e.stateNode.nextSibling):null;return!0}function pi(){for(var e=ri;e;)e=sa(e.nextSibling)}function di(){ri=ni=null,ai=!1}function hi(e){null===ii?ii=[e]:ii.push(e)}var vi=_.ReactCurrentBatchConfig;function gi(e,t){if(e&&e.defaultProps){for(var n in t=R({},t),e=e.defaultProps)void 0===t[n]&&(t[n]=e[n]);return t}return t}var yi=Sa(null),mi=null,bi=null,_i=null;function wi(){_i=bi=mi=null}function xi(e){var t=yi.current;Ea(yi),e._currentValue=t}function ki(e,t,n){for(;null!==e;){var r=e.alternate;if((e.childLanes&t)!==t?(e.childLanes|=t,null!==r&&(r.childLanes|=t)):null!==r&&(r.childLanes&t)!==t&&(r.childLanes|=t),e===n)break;e=e.return}}function Si(e,t){mi=e,_i=bi=null,null!==(e=e.dependencies)&&null!==e.firstContext&&(0!=(e.lanes&t)&&(_u=!0),e.firstContext=null)}function Ei(e){var t=e._currentValue;if(_i!==e)if(e={context:e,memoizedValue:t,next:null},null===bi){if(null===mi)throw Error(i(308));bi=e,mi.dependencies={lanes:0,firstContext:e}}else bi=bi.next=e;return t}var Ci=null;function Ti(e){null===Ci?Ci=[e]:Ci.push(e)}function Mi(e,t,n,r){var a=t.interleaved;return null===a?(n.next=n,Ti(t)):(n.next=a.next,a.next=n),t.interleaved=n,Ni(e,r)}function Ni(e,t){e.lanes|=t;var n=e.alternate;for(null!==n&&(n.lanes|=t),n=e,e=e.return;null!==e;)e.childLanes|=t,null!==(n=e.alternate)&&(n.childLanes|=t),n=e,e=e.return;return 3===n.tag?n.stateNode:null}var Pi=!1;function zi(e){e.updateQueue={baseState:e.memoizedState,firstBaseUpdate:null,lastBaseUpdate:null,shared:{pending:null,interleaved:null,lanes:0},effects:null}}function Li(e,t){e=e.updateQueue,t.updateQueue===e&&(t.updateQueue={baseState:e.baseState,firstBaseUpdate:e.firstBaseUpdate,lastBaseUpdate:e.lastBaseUpdate,shared:e.shared,effects:e.effects})}function Oi(e,t){return{eventTime:e,lane:t,tag:0,payload:null,callback:null,next:null}}function Ai(e,t,n){var r=e.updateQueue;if(null===r)return null;if(r=r.shared,0!=(2&Nl)){var a=r.pending;return null===a?t.next=t:(t.next=a.next,a.next=t),r.pending=t,Ni(e,n)}return null===(a=r.interleaved)?(t.next=t,Ti(r)):(t.next=a.next,a.next=t),r.interleaved=t,Ni(e,n)}function Fi(e,t,n){if(null!==(t=t.updateQueue)&&(t=t.shared,0!=(4194240&n))){var r=t.lanes;n|=r&=e.pendingLanes,t.lanes=n,mt(e,n)}}function Di(e,t){var n=e.updateQueue,r=e.alternate;if(null!==r&&n===(r=r.updateQueue)){var a=null,i=null;if(null!==(n=n.firstBaseUpdate)){do{var o={eventTime:n.eventTime,lane:n.lane,tag:n.tag,payload:n.payload,callback:n.callback,next:null};null===i?a=i=o:i=i.next=o,n=n.next}while(null!==n);null===i?a=i=t:i=i.next=t}else a=i=t;return n={baseState:r.baseState,firstBaseUpdate:a,lastBaseUpdate:i,shared:r.shared,effects:r.effects},void(e.updateQueue=n)}null===(e=n.lastBaseUpdate)?n.firstBaseUpdate=t:e.next=t,n.lastBaseUpdate=t}function Ri(e,t,n,r){var a=e.updateQueue;Pi=!1;var i=a.firstBaseUpdate,o=a.lastBaseUpdate,u=a.shared.pending;if(null!==u){a.shared.pending=null;var l=u,s=l.next;l.next=null,null===o?i=s:o.next=s,o=l;var c=e.alternate;null!==c&&(u=(c=c.updateQueue).lastBaseUpdate)!==o&&(null===u?c.firstBaseUpdate=s:u.next=s,c.lastBaseUpdate=l)}if(null!==i){var f=a.baseState;for(o=0,c=s=l=null,u=i;;){var p=u.lane,d=u.eventTime;if((r&p)===p){null!==c&&(c=c.next={eventTime:d,lane:0,tag:u.tag,payload:u.payload,callback:u.callback,next:null});e:{var h=e,v=u;switch(p=t,d=n,v.tag){case 1:if(\"function\"==typeof(h=v.payload)){f=h.call(d,f,p);break e}f=h;break e;case 3:h.flags=-65537&h.flags|128;case 0:if(null==(p=\"function\"==typeof(h=v.payload)?h.call(d,f,p):h))break e;f=R({},f,p);break e;case 2:Pi=!0}}null!==u.callback&&0!==u.lane&&(e.flags|=64,null===(p=a.effects)?a.effects=[u]:p.push(u))}else d={eventTime:d,lane:p,tag:u.tag,payload:u.payload,callback:u.callback,next:null},null===c?(s=c=d,l=f):c=c.next=d,o|=p;if(null===(u=u.next)){if(null===(u=a.shared.pending))break;u=(p=u).next,p.next=null,a.lastBaseUpdate=p,a.shared.pending=null}}if(null===c&&(l=f),a.baseState=l,a.firstBaseUpdate=s,a.lastBaseUpdate=c,null!==(t=a.shared.interleaved)){a=t;do{o|=a.lane,a=a.next}while(a!==t)}else null===i&&(a.shared.lanes=0);Rl|=o,e.lanes=o,e.memoizedState=f}}function ji(e,t,n){if(e=t.effects,t.effects=null,null!==e)for(t=0;t<e.length;t++){var r=e[t],a=r.callback;if(null!==a){if(r.callback=null,r=n,\"function\"!=typeof a)throw Error(i(191,a));a.call(r)}}}var Ui=(new r.Component).refs;function Ii(e,t,n,r){n=null==(n=n(r,t=e.memoizedState))?t:R({},t,n),e.memoizedState=n,0===e.lanes&&(e.updateQueue.baseState=n)}var $i={isMounted:function(e){return!!(e=e._reactInternals)&&Be(e)===e},enqueueSetState:function(e,t,n){e=e._reactInternals;var r=ts(),a=ns(e),i=Oi(r,a);i.payload=t,null!=n&&(i.callback=n),null!==(t=Ai(e,i,a))&&(rs(t,e,a,r),Fi(t,e,a))},enqueueReplaceState:function(e,t,n){e=e._reactInternals;var r=ts(),a=ns(e),i=Oi(r,a);i.tag=1,i.payload=t,null!=n&&(i.callback=n),null!==(t=Ai(e,i,a))&&(rs(t,e,a,r),Fi(t,e,a))},enqueueForceUpdate:function(e,t){e=e._reactInternals;var n=ts(),r=ns(e),a=Oi(n,r);a.tag=2,null!=t&&(a.callback=t),null!==(t=Ai(e,a,r))&&(rs(t,e,r,n),Fi(t,e,r))}};function Bi(e,t,n,r,a,i,o){return\"function\"==typeof(e=e.stateNode).shouldComponentUpdate?e.shouldComponentUpdate(r,i,o):!(t.prototype&&t.prototype.isPureReactComponent&&lr(n,r)&&lr(a,i))}function Wi(e,t,n){var r=!1,a=Ta,i=t.contextType;return\"object\"==typeof i&&null!==i?i=Ei(i):(a=La(t)?Pa:Ma.current,i=(r=null!=(r=t.contextTypes))?za(e,a):Ta),t=new t(n,i),e.memoizedState=null!==t.state&&void 0!==t.state?t.state:null,t.updater=$i,e.stateNode=t,t._reactInternals=e,r&&((e=e.stateNode).__reactInternalMemoizedUnmaskedChildContext=a,e.__reactInternalMemoizedMaskedChildContext=i),t}function Vi(e,t,n,r){e=t.state,\"function\"==typeof t.componentWillReceiveProps&&t.componentWillReceiveProps(n,r),\"function\"==typeof t.UNSAFE_componentWillReceiveProps&&t.UNSAFE_componentWillReceiveProps(n,r),t.state!==e&&$i.enqueueReplaceState(t,t.state,null)}function Hi(e,t,n,r){var a=e.stateNode;a.props=n,a.state=e.memoizedState,a.refs=Ui,zi(e);var i=t.contextType;\"object\"==typeof i&&null!==i?a.context=Ei(i):(i=La(t)?Pa:Ma.current,a.context=za(e,i)),a.state=e.memoizedState,\"function\"==typeof(i=t.getDerivedStateFromProps)&&(Ii(e,t,i,n),a.state=e.memoizedState),\"function\"==typeof t.getDerivedStateFromProps||\"function\"==typeof a.getSnapshotBeforeUpdate||\"function\"!=typeof a.UNSAFE_componentWillMount&&\"function\"!=typeof a.componentWillMount||(t=a.state,\"function\"==typeof a.componentWillMount&&a.componentWillMount(),\"function\"==typeof a.UNSAFE_componentWillMount&&a.UNSAFE_componentWillMount(),t!==a.state&&$i.enqueueReplaceState(a,a.state,null),Ri(e,n,a,r),a.state=e.memoizedState),\"function\"==typeof a.componentDidMount&&(e.flags|=4194308)}function qi(e,t,n){if(null!==(e=n.ref)&&\"function\"!=typeof e&&\"object\"!=typeof e){if(n._owner){if(n=n._owner){if(1!==n.tag)throw Error(i(309));var r=n.stateNode}if(!r)throw Error(i(147,e));var a=r,o=\"\"+e;return null!==t&&null!==t.ref&&\"function\"==typeof t.ref&&t.ref._stringRef===o?t.ref:(t=function(e){var t=a.refs;t===Ui&&(t=a.refs={}),null===e?delete t[o]:t[o]=e},t._stringRef=o,t)}if(\"string\"!=typeof e)throw Error(i(284));if(!n._owner)throw Error(i(290,e))}return e}function Qi(e,t){throw e=Object.prototype.toString.call(t),Error(i(31,\"[object Object]\"===e?\"object with keys {\"+Object.keys(t).join(\", \")+\"}\":e))}function Yi(e){return(0,e._init)(e._payload)}function Gi(e){function t(t,n){if(e){var r=t.deletions;null===r?(t.deletions=[n],t.flags|=16):r.push(n)}}function n(n,r){if(!e)return null;for(;null!==r;)t(n,r),r=r.sibling;return null}function r(e,t){for(e=new Map;null!==t;)null!==t.key?e.set(t.key,t):e.set(t.index,t),t=t.sibling;return e}function a(e,t){return(e=As(e,t)).index=0,e.sibling=null,e}function o(t,n,r){return t.index=r,e?null!==(r=t.alternate)?(r=r.index)<n?(t.flags|=2,n):r:(t.flags|=2,n):(t.flags|=1048576,n)}function u(t){return e&&null===t.alternate&&(t.flags|=2),t}function l(e,t,n,r){return null===t||6!==t.tag?((t=js(n,e.mode,r)).return=e,t):((t=a(t,n)).return=e,t)}function s(e,t,n,r){var i=n.type;return i===k?f(e,t,n.props.children,r,n.key):null!==t&&(t.elementType===i||\"object\"==typeof i&&null!==i&&i.$$typeof===L&&Yi(i)===t.type)?((r=a(t,n.props)).ref=qi(e,t,n),r.return=e,r):((r=Fs(n.type,n.key,n.props,null,e.mode,r)).ref=qi(e,t,n),r.return=e,r)}function c(e,t,n,r){return null===t||4!==t.tag||t.stateNode.containerInfo!==n.containerInfo||t.stateNode.implementation!==n.implementation?((t=Us(n,e.mode,r)).return=e,t):((t=a(t,n.children||[])).return=e,t)}function f(e,t,n,r,i){return null===t||7!==t.tag?((t=Ds(n,e.mode,r,i)).return=e,t):((t=a(t,n)).return=e,t)}function p(e,t,n){if(\"string\"==typeof t&&\"\"!==t||\"number\"==typeof t)return(t=js(\"\"+t,e.mode,n)).return=e,t;if(\"object\"==typeof t&&null!==t){switch(t.$$typeof){case w:return(n=Fs(t.type,t.key,t.props,null,e.mode,n)).ref=qi(e,null,t),n.return=e,n;case x:return(t=Us(t,e.mode,n)).return=e,t;case L:return p(e,(0,t._init)(t._payload),n)}if(te(t)||F(t))return(t=Ds(t,e.mode,n,null)).return=e,t;Qi(e,t)}return null}function d(e,t,n,r){var a=null!==t?t.key:null;if(\"string\"==typeof n&&\"\"!==n||\"number\"==typeof n)return null!==a?null:l(e,t,\"\"+n,r);if(\"object\"==typeof n&&null!==n){switch(n.$$typeof){case w:return n.key===a?s(e,t,n,r):null;case x:return n.key===a?c(e,t,n,r):null;case L:return d(e,t,(a=n._init)(n._payload),r)}if(te(n)||F(n))return null!==a?null:f(e,t,n,r,null);Qi(e,n)}return null}function h(e,t,n,r,a){if(\"string\"==typeof r&&\"\"!==r||\"number\"==typeof r)return l(t,e=e.get(n)||null,\"\"+r,a);if(\"object\"==typeof r&&null!==r){switch(r.$$typeof){case w:return s(t,e=e.get(null===r.key?n:r.key)||null,r,a);case x:return c(t,e=e.get(null===r.key?n:r.key)||null,r,a);case L:return h(e,t,n,(0,r._init)(r._payload),a)}if(te(r)||F(r))return f(t,e=e.get(n)||null,r,a,null);Qi(t,r)}return null}function v(a,i,u,l){for(var s=null,c=null,f=i,v=i=0,g=null;null!==f&&v<u.length;v++){f.index>v?(g=f,f=null):g=f.sibling;var y=d(a,f,u[v],l);if(null===y){null===f&&(f=g);break}e&&f&&null===y.alternate&&t(a,f),i=o(y,i,v),null===c?s=y:c.sibling=y,c=y,f=g}if(v===u.length)return n(a,f),ai&&Xa(a,v),s;if(null===f){for(;v<u.length;v++)null!==(f=p(a,u[v],l))&&(i=o(f,i,v),null===c?s=f:c.sibling=f,c=f);return ai&&Xa(a,v),s}for(f=r(a,f);v<u.length;v++)null!==(g=h(f,a,v,u[v],l))&&(e&&null!==g.alternate&&f.delete(null===g.key?v:g.key),i=o(g,i,v),null===c?s=g:c.sibling=g,c=g);return e&&f.forEach((function(e){return t(a,e)})),ai&&Xa(a,v),s}function g(a,u,l,s){var c=F(l);if(\"function\"!=typeof c)throw Error(i(150));if(null==(l=c.call(l)))throw Error(i(151));for(var f=c=null,v=u,g=u=0,y=null,m=l.next();null!==v&&!m.done;g++,m=l.next()){v.index>g?(y=v,v=null):y=v.sibling;var b=d(a,v,m.value,s);if(null===b){null===v&&(v=y);break}e&&v&&null===b.alternate&&t(a,v),u=o(b,u,g),null===f?c=b:f.sibling=b,f=b,v=y}if(m.done)return n(a,v),ai&&Xa(a,g),c;if(null===v){for(;!m.done;g++,m=l.next())null!==(m=p(a,m.value,s))&&(u=o(m,u,g),null===f?c=m:f.sibling=m,f=m);return ai&&Xa(a,g),c}for(v=r(a,v);!m.done;g++,m=l.next())null!==(m=h(v,a,g,m.value,s))&&(e&&null!==m.alternate&&v.delete(null===m.key?g:m.key),u=o(m,u,g),null===f?c=m:f.sibling=m,f=m);return e&&v.forEach((function(e){return t(a,e)})),ai&&Xa(a,g),c}return function e(r,i,o,l){if(\"object\"==typeof o&&null!==o&&o.type===k&&null===o.key&&(o=o.props.children),\"object\"==typeof o&&null!==o){switch(o.$$typeof){case w:e:{for(var s=o.key,c=i;null!==c;){if(c.key===s){if((s=o.type)===k){if(7===c.tag){n(r,c.sibling),(i=a(c,o.props.children)).return=r,r=i;break e}}else if(c.elementType===s||\"object\"==typeof s&&null!==s&&s.$$typeof===L&&Yi(s)===c.type){n(r,c.sibling),(i=a(c,o.props)).ref=qi(r,c,o),i.return=r,r=i;break e}n(r,c);break}t(r,c),c=c.sibling}o.type===k?((i=Ds(o.props.children,r.mode,l,o.key)).return=r,r=i):((l=Fs(o.type,o.key,o.props,null,r.mode,l)).ref=qi(r,i,o),l.return=r,r=l)}return u(r);case x:e:{for(c=o.key;null!==i;){if(i.key===c){if(4===i.tag&&i.stateNode.containerInfo===o.containerInfo&&i.stateNode.implementation===o.implementation){n(r,i.sibling),(i=a(i,o.children||[])).return=r,r=i;break e}n(r,i);break}t(r,i),i=i.sibling}(i=Us(o,r.mode,l)).return=r,r=i}return u(r);case L:return e(r,i,(c=o._init)(o._payload),l)}if(te(o))return v(r,i,o,l);if(F(o))return g(r,i,o,l);Qi(r,o)}return\"string\"==typeof o&&\"\"!==o||\"number\"==typeof o?(o=\"\"+o,null!==i&&6===i.tag?(n(r,i.sibling),(i=a(i,o)).return=r,r=i):(n(r,i),(i=js(o,r.mode,l)).return=r,r=i),u(r)):n(r,i)}}var Ki=Gi(!0),Zi=Gi(!1),Xi={},Ji=Sa(Xi),eo=Sa(Xi),to=Sa(Xi);function no(e){if(e===Xi)throw Error(i(174));return e}function ro(e,t){switch(Ca(to,t),Ca(eo,e),Ca(Ji,Xi),e=t.nodeType){case 9:case 11:t=(t=t.documentElement)?t.namespaceURI:le(null,\"\");break;default:t=le(t=(e=8===e?t.parentNode:t).namespaceURI||null,e=e.tagName)}Ea(Ji),Ca(Ji,t)}function ao(){Ea(Ji),Ea(eo),Ea(to)}function io(e){no(to.current);var t=no(Ji.current),n=le(t,e.type);t!==n&&(Ca(eo,e),Ca(Ji,n))}function oo(e){eo.current===e&&(Ea(Ji),Ea(eo))}var uo=Sa(0);function lo(e){for(var t=e;null!==t;){if(13===t.tag){var n=t.memoizedState;if(null!==n&&(null===(n=n.dehydrated)||\"$?\"===n.data||\"$!\"===n.data))return t}else if(19===t.tag&&void 0!==t.memoizedProps.revealOrder){if(0!=(128&t.flags))return t}else if(null!==t.child){t.child.return=t,t=t.child;continue}if(t===e)break;for(;null===t.sibling;){if(null===t.return||t.return===e)return null;t=t.return}t.sibling.return=t.return,t=t.sibling}return null}var so=[];function co(){for(var e=0;e<so.length;e++)so[e]._workInProgressVersionPrimary=null;so.length=0}var fo=_.ReactCurrentDispatcher,po=_.ReactCurrentBatchConfig,ho=0,vo=null,go=null,yo=null,mo=!1,bo=!1,_o=0,wo=0;function xo(){throw Error(i(321))}function ko(e,t){if(null===t)return!1;for(var n=0;n<t.length&&n<e.length;n++)if(!ur(e[n],t[n]))return!1;return!0}function So(e,t,n,r,a,o){if(ho=o,vo=t,t.memoizedState=null,t.updateQueue=null,t.lanes=0,fo.current=null===e||null===e.memoizedState?uu:lu,e=n(r,a),bo){o=0;do{if(bo=!1,_o=0,25<=o)throw Error(i(301));o+=1,yo=go=null,t.updateQueue=null,fo.current=su,e=n(r,a)}while(bo)}if(fo.current=ou,t=null!==go&&null!==go.next,ho=0,yo=go=vo=null,mo=!1,t)throw Error(i(300));return e}function Eo(){var e=0!==_o;return _o=0,e}function Co(){var e={memoizedState:null,baseState:null,baseQueue:null,queue:null,next:null};return null===yo?vo.memoizedState=yo=e:yo=yo.next=e,yo}function To(){if(null===go){var e=vo.alternate;e=null!==e?e.memoizedState:null}else e=go.next;var t=null===yo?vo.memoizedState:yo.next;if(null!==t)yo=t,go=e;else{if(null===e)throw Error(i(310));e={memoizedState:(go=e).memoizedState,baseState:go.baseState,baseQueue:go.baseQueue,queue:go.queue,next:null},null===yo?vo.memoizedState=yo=e:yo=yo.next=e}return yo}function Mo(e,t){return\"function\"==typeof t?t(e):t}function No(e){var t=To(),n=t.queue;if(null===n)throw Error(i(311));n.lastRenderedReducer=e;var r=go,a=r.baseQueue,o=n.pending;if(null!==o){if(null!==a){var u=a.next;a.next=o.next,o.next=u}r.baseQueue=a=o,n.pending=null}if(null!==a){o=a.next,r=r.baseState;var l=u=null,s=null,c=o;do{var f=c.lane;if((ho&f)===f)null!==s&&(s=s.next={lane:0,action:c.action,hasEagerState:c.hasEagerState,eagerState:c.eagerState,next:null}),r=c.hasEagerState?c.eagerState:e(r,c.action);else{var p={lane:f,action:c.action,hasEagerState:c.hasEagerState,eagerState:c.eagerState,next:null};null===s?(l=s=p,u=r):s=s.next=p,vo.lanes|=f,Rl|=f}c=c.next}while(null!==c&&c!==o);null===s?u=r:s.next=l,ur(r,t.memoizedState)||(_u=!0),t.memoizedState=r,t.baseState=u,t.baseQueue=s,n.lastRenderedState=r}if(null!==(e=n.interleaved)){a=e;do{o=a.lane,vo.lanes|=o,Rl|=o,a=a.next}while(a!==e)}else null===a&&(n.lanes=0);return[t.memoizedState,n.dispatch]}function Po(e){var t=To(),n=t.queue;if(null===n)throw Error(i(311));n.lastRenderedReducer=e;var r=n.dispatch,a=n.pending,o=t.memoizedState;if(null!==a){n.pending=null;var u=a=a.next;do{o=e(o,u.action),u=u.next}while(u!==a);ur(o,t.memoizedState)||(_u=!0),t.memoizedState=o,null===t.baseQueue&&(t.baseState=o),n.lastRenderedState=o}return[o,r]}function zo(){}function Lo(e,t){var n=vo,r=To(),a=t(),o=!ur(r.memoizedState,a);if(o&&(r.memoizedState=a,_u=!0),r=r.queue,Vo(Fo.bind(null,n,r,e),[e]),r.getSnapshot!==t||o||null!==yo&&1&yo.memoizedState.tag){if(n.flags|=2048,Uo(9,Ao.bind(null,n,r,a,t),void 0,null),null===Pl)throw Error(i(349));0!=(30&ho)||Oo(n,t,a)}return a}function Oo(e,t,n){e.flags|=16384,e={getSnapshot:t,value:n},null===(t=vo.updateQueue)?(t={lastEffect:null,stores:null},vo.updateQueue=t,t.stores=[e]):null===(n=t.stores)?t.stores=[e]:n.push(e)}function Ao(e,t,n,r){t.value=n,t.getSnapshot=r,Do(t)&&Ro(e)}function Fo(e,t,n){return n((function(){Do(t)&&Ro(e)}))}function Do(e){var t=e.getSnapshot;e=e.value;try{var n=t();return!ur(e,n)}catch(e){return!0}}function Ro(e){var t=Ni(e,1);null!==t&&rs(t,e,1,-1)}function jo(e){var t=Co();return\"function\"==typeof e&&(e=e()),t.memoizedState=t.baseState=e,e={pending:null,interleaved:null,lanes:0,dispatch:null,lastRenderedReducer:Mo,lastRenderedState:e},t.queue=e,e=e.dispatch=nu.bind(null,vo,e),[t.memoizedState,e]}function Uo(e,t,n,r){return e={tag:e,create:t,destroy:n,deps:r,next:null},null===(t=vo.updateQueue)?(t={lastEffect:null,stores:null},vo.updateQueue=t,t.lastEffect=e.next=e):null===(n=t.lastEffect)?t.lastEffect=e.next=e:(r=n.next,n.next=e,e.next=r,t.lastEffect=e),e}function Io(){return To().memoizedState}function $o(e,t,n,r){var a=Co();vo.flags|=e,a.memoizedState=Uo(1|t,n,void 0,void 0===r?null:r)}function Bo(e,t,n,r){var a=To();r=void 0===r?null:r;var i=void 0;if(null!==go){var o=go.memoizedState;if(i=o.destroy,null!==r&&ko(r,o.deps))return void(a.memoizedState=Uo(t,n,i,r))}vo.flags|=e,a.memoizedState=Uo(1|t,n,i,r)}function Wo(e,t){return $o(8390656,8,e,t)}function Vo(e,t){return Bo(2048,8,e,t)}function Ho(e,t){return Bo(4,2,e,t)}function qo(e,t){return Bo(4,4,e,t)}function Qo(e,t){return\"function\"==typeof t?(e=e(),t(e),function(){t(null)}):null!=t?(e=e(),t.current=e,function(){t.current=null}):void 0}function Yo(e,t,n){return n=null!=n?n.concat([e]):null,Bo(4,4,Qo.bind(null,t,e),n)}function Go(){}function Ko(e,t){var n=To();t=void 0===t?null:t;var r=n.memoizedState;return null!==r&&null!==t&&ko(t,r[1])?r[0]:(n.memoizedState=[e,t],e)}function Zo(e,t){var n=To();t=void 0===t?null:t;var r=n.memoizedState;return null!==r&&null!==t&&ko(t,r[1])?r[0]:(e=e(),n.memoizedState=[e,t],e)}function Xo(e,t,n){return 0==(21&ho)?(e.baseState&&(e.baseState=!1,_u=!0),e.memoizedState=n):(ur(n,t)||(n=vt(),vo.lanes|=n,Rl|=n,e.baseState=!0),t)}function Jo(e,t){var n=bt;bt=0!==n&&4>n?n:4,e(!0);var r=po.transition;po.transition={};try{e(!1),t()}finally{bt=n,po.transition=r}}function eu(){return To().memoizedState}function tu(e,t,n){var r=ns(e);n={lane:r,action:n,hasEagerState:!1,eagerState:null,next:null},ru(e)?au(t,n):null!==(n=Mi(e,t,n,r))&&(rs(n,e,r,ts()),iu(n,t,r))}function nu(e,t,n){var r=ns(e),a={lane:r,action:n,hasEagerState:!1,eagerState:null,next:null};if(ru(e))au(t,a);else{var i=e.alternate;if(0===e.lanes&&(null===i||0===i.lanes)&&null!==(i=t.lastRenderedReducer))try{var o=t.lastRenderedState,u=i(o,n);if(a.hasEagerState=!0,a.eagerState=u,ur(u,o)){var l=t.interleaved;return null===l?(a.next=a,Ti(t)):(a.next=l.next,l.next=a),void(t.interleaved=a)}}catch(e){}null!==(n=Mi(e,t,a,r))&&(rs(n,e,r,a=ts()),iu(n,t,r))}}function ru(e){var t=e.alternate;return e===vo||null!==t&&t===vo}function au(e,t){bo=mo=!0;var n=e.pending;null===n?t.next=t:(t.next=n.next,n.next=t),e.pending=t}function iu(e,t,n){if(0!=(4194240&n)){var r=t.lanes;n|=r&=e.pendingLanes,t.lanes=n,mt(e,n)}}var ou={readContext:Ei,useCallback:xo,useContext:xo,useEffect:xo,useImperativeHandle:xo,useInsertionEffect:xo,useLayoutEffect:xo,useMemo:xo,useReducer:xo,useRef:xo,useState:xo,useDebugValue:xo,useDeferredValue:xo,useTransition:xo,useMutableSource:xo,useSyncExternalStore:xo,useId:xo,unstable_isNewReconciler:!1},uu={readContext:Ei,useCallback:function(e,t){return Co().memoizedState=[e,void 0===t?null:t],e},useContext:Ei,useEffect:Wo,useImperativeHandle:function(e,t,n){return n=null!=n?n.concat([e]):null,$o(4194308,4,Qo.bind(null,t,e),n)},useLayoutEffect:function(e,t){return $o(4194308,4,e,t)},useInsertionEffect:function(e,t){return $o(4,2,e,t)},useMemo:function(e,t){var n=Co();return t=void 0===t?null:t,e=e(),n.memoizedState=[e,t],e},useReducer:function(e,t,n){var r=Co();return t=void 0!==n?n(t):t,r.memoizedState=r.baseState=t,e={pending:null,interleaved:null,lanes:0,dispatch:null,lastRenderedReducer:e,lastRenderedState:t},r.queue=e,e=e.dispatch=tu.bind(null,vo,e),[r.memoizedState,e]},useRef:function(e){return e={current:e},Co().memoizedState=e},useState:jo,useDebugValue:Go,useDeferredValue:function(e){return Co().memoizedState=e},useTransition:function(){var e=jo(!1),t=e[0];return e=Jo.bind(null,e[1]),Co().memoizedState=e,[t,e]},useMutableSource:function(){},useSyncExternalStore:function(e,t,n){var r=vo,a=Co();if(ai){if(void 0===n)throw Error(i(407));n=n()}else{if(n=t(),null===Pl)throw Error(i(349));0!=(30&ho)||Oo(r,t,n)}a.memoizedState=n;var o={value:n,getSnapshot:t};return a.queue=o,Wo(Fo.bind(null,r,o,e),[e]),r.flags|=2048,Uo(9,Ao.bind(null,r,o,n,t),void 0,null),n},useId:function(){var e=Co(),t=Pl.identifierPrefix;if(ai){var n=Za;t=\":\"+t+\"R\"+(n=(Ka&~(1<<32-ot(Ka)-1)).toString(32)+n),0<(n=_o++)&&(t+=\"H\"+n.toString(32)),t+=\":\"}else t=\":\"+t+\"r\"+(n=wo++).toString(32)+\":\";return e.memoizedState=t},unstable_isNewReconciler:!1},lu={readContext:Ei,useCallback:Ko,useContext:Ei,useEffect:Vo,useImperativeHandle:Yo,useInsertionEffect:Ho,useLayoutEffect:qo,useMemo:Zo,useReducer:No,useRef:Io,useState:function(){return No(Mo)},useDebugValue:Go,useDeferredValue:function(e){return Xo(To(),go.memoizedState,e)},useTransition:function(){return[No(Mo)[0],To().memoizedState]},useMutableSource:zo,useSyncExternalStore:Lo,useId:eu,unstable_isNewReconciler:!1},su={readContext:Ei,useCallback:Ko,useContext:Ei,useEffect:Vo,useImperativeHandle:Yo,useInsertionEffect:Ho,useLayoutEffect:qo,useMemo:Zo,useReducer:Po,useRef:Io,useState:function(){return Po(Mo)},useDebugValue:Go,useDeferredValue:function(e){var t=To();return null===go?t.memoizedState=e:Xo(t,go.memoizedState,e)},useTransition:function(){return[Po(Mo)[0],To().memoizedState]},useMutableSource:zo,useSyncExternalStore:Lo,useId:eu,unstable_isNewReconciler:!1};function cu(e,t){try{var n=\"\",r=t;do{n+=$(r),r=r.return}while(r);var a=n}catch(e){a=\"\\nError generating stack: \"+e.message+\"\\n\"+e.stack}return{value:e,source:t,stack:a,digest:null}}function fu(e,t,n){return{value:e,source:null,stack:null!=n?n:null,digest:null!=t?t:null}}function pu(e,t){try{console.error(t.value)}catch(e){setTimeout((function(){throw e}))}}var du=\"function\"==typeof WeakMap?WeakMap:Map;function hu(e,t,n){(n=Oi(-1,n)).tag=3,n.payload={element:null};var r=t.value;return n.callback=function(){Hl||(Hl=!0,ql=r),pu(0,t)},n}function vu(e,t,n){(n=Oi(-1,n)).tag=3;var r=e.type.getDerivedStateFromError;if(\"function\"==typeof r){var a=t.value;n.payload=function(){return r(a)},n.callback=function(){pu(0,t)}}var i=e.stateNode;return null!==i&&\"function\"==typeof i.componentDidCatch&&(n.callback=function(){pu(0,t),\"function\"!=typeof r&&(null===Ql?Ql=new Set([this]):Ql.add(this));var e=t.stack;this.componentDidCatch(t.value,{componentStack:null!==e?e:\"\"})}),n}function gu(e,t,n){var r=e.pingCache;if(null===r){r=e.pingCache=new du;var a=new Set;r.set(t,a)}else void 0===(a=r.get(t))&&(a=new Set,r.set(t,a));a.has(n)||(a.add(n),e=Cs.bind(null,e,t,n),t.then(e,e))}function yu(e){do{var t;if((t=13===e.tag)&&(t=null===(t=e.memoizedState)||null!==t.dehydrated),t)return e;e=e.return}while(null!==e);return null}function mu(e,t,n,r,a){return 0==(1&e.mode)?(e===t?e.flags|=65536:(e.flags|=128,n.flags|=131072,n.flags&=-52805,1===n.tag&&(null===n.alternate?n.tag=17:((t=Oi(-1,1)).tag=2,Ai(n,t,1))),n.lanes|=1),e):(e.flags|=65536,e.lanes=a,e)}var bu=_.ReactCurrentOwner,_u=!1;function wu(e,t,n,r){t.child=null===e?Zi(t,null,n,r):Ki(t,e.child,n,r)}function xu(e,t,n,r,a){n=n.render;var i=t.ref;return Si(t,a),r=So(e,t,n,r,i,a),n=Eo(),null===e||_u?(ai&&n&&ei(t),t.flags|=1,wu(e,t,r,a),t.child):(t.updateQueue=e.updateQueue,t.flags&=-2053,e.lanes&=~a,Hu(e,t,a))}function ku(e,t,n,r,a){if(null===e){var i=n.type;return\"function\"!=typeof i||Os(i)||void 0!==i.defaultProps||null!==n.compare||void 0!==n.defaultProps?((e=Fs(n.type,null,r,t,t.mode,a)).ref=t.ref,e.return=t,t.child=e):(t.tag=15,t.type=i,Su(e,t,i,r,a))}if(i=e.child,0==(e.lanes&a)){var o=i.memoizedProps;if((n=null!==(n=n.compare)?n:lr)(o,r)&&e.ref===t.ref)return Hu(e,t,a)}return t.flags|=1,(e=As(i,r)).ref=t.ref,e.return=t,t.child=e}function Su(e,t,n,r,a){if(null!==e){var i=e.memoizedProps;if(lr(i,r)&&e.ref===t.ref){if(_u=!1,t.pendingProps=r=i,0==(e.lanes&a))return t.lanes=e.lanes,Hu(e,t,a);0!=(131072&e.flags)&&(_u=!0)}}return Tu(e,t,n,r,a)}function Eu(e,t,n){var r=t.pendingProps,a=r.children,i=null!==e?e.memoizedState:null;if(\"hidden\"===r.mode)if(0==(1&t.mode))t.memoizedState={baseLanes:0,cachePool:null,transitions:null},Ca(Al,Ol),Ol|=n;else{if(0==(1073741824&n))return e=null!==i?i.baseLanes|n:n,t.lanes=t.childLanes=1073741824,t.memoizedState={baseLanes:e,cachePool:null,transitions:null},t.updateQueue=null,Ca(Al,Ol),Ol|=e,null;t.memoizedState={baseLanes:0,cachePool:null,transitions:null},r=null!==i?i.baseLanes:n,Ca(Al,Ol),Ol|=r}else null!==i?(r=i.baseLanes|n,t.memoizedState=null):r=n,Ca(Al,Ol),Ol|=r;return wu(e,t,a,n),t.child}function Cu(e,t){var n=t.ref;(null===e&&null!==n||null!==e&&e.ref!==n)&&(t.flags|=512,t.flags|=2097152)}function Tu(e,t,n,r,a){var i=La(n)?Pa:Ma.current;return i=za(t,i),Si(t,a),n=So(e,t,n,r,i,a),r=Eo(),null===e||_u?(ai&&r&&ei(t),t.flags|=1,wu(e,t,n,a),t.child):(t.updateQueue=e.updateQueue,t.flags&=-2053,e.lanes&=~a,Hu(e,t,a))}function Mu(e,t,n,r,a){if(La(n)){var i=!0;Da(t)}else i=!1;if(Si(t,a),null===t.stateNode)Vu(e,t),Wi(t,n,r),Hi(t,n,r,a),r=!0;else if(null===e){var o=t.stateNode,u=t.memoizedProps;o.props=u;var l=o.context,s=n.contextType;s=\"object\"==typeof s&&null!==s?Ei(s):za(t,s=La(n)?Pa:Ma.current);var c=n.getDerivedStateFromProps,f=\"function\"==typeof c||\"function\"==typeof o.getSnapshotBeforeUpdate;f||\"function\"!=typeof o.UNSAFE_componentWillReceiveProps&&\"function\"!=typeof o.componentWillReceiveProps||(u!==r||l!==s)&&Vi(t,o,r,s),Pi=!1;var p=t.memoizedState;o.state=p,Ri(t,r,o,a),l=t.memoizedState,u!==r||p!==l||Na.current||Pi?(\"function\"==typeof c&&(Ii(t,n,c,r),l=t.memoizedState),(u=Pi||Bi(t,n,u,r,p,l,s))?(f||\"function\"!=typeof o.UNSAFE_componentWillMount&&\"function\"!=typeof o.componentWillMount||(\"function\"==typeof o.componentWillMount&&o.componentWillMount(),\"function\"==typeof o.UNSAFE_componentWillMount&&o.UNSAFE_componentWillMount()),\"function\"==typeof o.componentDidMount&&(t.flags|=4194308)):(\"function\"==typeof o.componentDidMount&&(t.flags|=4194308),t.memoizedProps=r,t.memoizedState=l),o.props=r,o.state=l,o.context=s,r=u):(\"function\"==typeof o.componentDidMount&&(t.flags|=4194308),r=!1)}else{o=t.stateNode,Li(e,t),u=t.memoizedProps,s=t.type===t.elementType?u:gi(t.type,u),o.props=s,f=t.pendingProps,p=o.context,l=\"object\"==typeof(l=n.contextType)&&null!==l?Ei(l):za(t,l=La(n)?Pa:Ma.current);var d=n.getDerivedStateFromProps;(c=\"function\"==typeof d||\"function\"==typeof o.getSnapshotBeforeUpdate)||\"function\"!=typeof o.UNSAFE_componentWillReceiveProps&&\"function\"!=typeof o.componentWillReceiveProps||(u!==f||p!==l)&&Vi(t,o,r,l),Pi=!1,p=t.memoizedState,o.state=p,Ri(t,r,o,a);var h=t.memoizedState;u!==f||p!==h||Na.current||Pi?(\"function\"==typeof d&&(Ii(t,n,d,r),h=t.memoizedState),(s=Pi||Bi(t,n,s,r,p,h,l)||!1)?(c||\"function\"!=typeof o.UNSAFE_componentWillUpdate&&\"function\"!=typeof o.componentWillUpdate||(\"function\"==typeof o.componentWillUpdate&&o.componentWillUpdate(r,h,l),\"function\"==typeof o.UNSAFE_componentWillUpdate&&o.UNSAFE_componentWillUpdate(r,h,l)),\"function\"==typeof o.componentDidUpdate&&(t.flags|=4),\"function\"==typeof o.getSnapshotBeforeUpdate&&(t.flags|=1024)):(\"function\"!=typeof o.componentDidUpdate||u===e.memoizedProps&&p===e.memoizedState||(t.flags|=4),\"function\"!=typeof o.getSnapshotBeforeUpdate||u===e.memoizedProps&&p===e.memoizedState||(t.flags|=1024),t.memoizedProps=r,t.memoizedState=h),o.props=r,o.state=h,o.context=l,r=s):(\"function\"!=typeof o.componentDidUpdate||u===e.memoizedProps&&p===e.memoizedState||(t.flags|=4),\"function\"!=typeof o.getSnapshotBeforeUpdate||u===e.memoizedProps&&p===e.memoizedState||(t.flags|=1024),r=!1)}return Nu(e,t,n,r,i,a)}function Nu(e,t,n,r,a,i){Cu(e,t);var o=0!=(128&t.flags);if(!r&&!o)return a&&Ra(t,n,!1),Hu(e,t,i);r=t.stateNode,bu.current=t;var u=o&&\"function\"!=typeof n.getDerivedStateFromError?null:r.render();return t.flags|=1,null!==e&&o?(t.child=Ki(t,e.child,null,i),t.child=Ki(t,null,u,i)):wu(e,t,u,i),t.memoizedState=r.state,a&&Ra(t,n,!0),t.child}function Pu(e){var t=e.stateNode;t.pendingContext?Aa(0,t.pendingContext,t.pendingContext!==t.context):t.context&&Aa(0,t.context,!1),ro(e,t.containerInfo)}function zu(e,t,n,r,a){return di(),hi(a),t.flags|=256,wu(e,t,n,r),t.child}var Lu,Ou,Au,Fu,Du={dehydrated:null,treeContext:null,retryLane:0};function Ru(e){return{baseLanes:e,cachePool:null,transitions:null}}function ju(e,t,n){var r,a=t.pendingProps,o=uo.current,u=!1,l=0!=(128&t.flags);if((r=l)||(r=(null===e||null!==e.memoizedState)&&0!=(2&o)),r?(u=!0,t.flags&=-129):null!==e&&null===e.memoizedState||(o|=1),Ca(uo,1&o),null===e)return si(t),null!==(e=t.memoizedState)&&null!==(e=e.dehydrated)?(0==(1&t.mode)?t.lanes=1:\"$!\"===e.data?t.lanes=8:t.lanes=1073741824,null):(l=a.children,e=a.fallback,u?(a=t.mode,u=t.child,l={mode:\"hidden\",children:l},0==(1&a)&&null!==u?(u.childLanes=0,u.pendingProps=l):u=Rs(l,a,0,null),e=Ds(e,a,n,null),u.return=t,e.return=t,u.sibling=e,t.child=u,t.child.memoizedState=Ru(n),t.memoizedState=Du,e):Uu(t,l));if(null!==(o=e.memoizedState)&&null!==(r=o.dehydrated))return function(e,t,n,r,a,o,u){if(n)return 256&t.flags?(t.flags&=-257,Iu(e,t,u,r=fu(Error(i(422))))):null!==t.memoizedState?(t.child=e.child,t.flags|=128,null):(o=r.fallback,a=t.mode,r=Rs({mode:\"visible\",children:r.children},a,0,null),(o=Ds(o,a,u,null)).flags|=2,r.return=t,o.return=t,r.sibling=o,t.child=r,0!=(1&t.mode)&&Ki(t,e.child,null,u),t.child.memoizedState=Ru(u),t.memoizedState=Du,o);if(0==(1&t.mode))return Iu(e,t,u,null);if(\"$!\"===a.data){if(r=a.nextSibling&&a.nextSibling.dataset)var l=r.dgst;return r=l,Iu(e,t,u,r=fu(o=Error(i(419)),r,void 0))}if(l=0!=(u&e.childLanes),_u||l){if(null!==(r=Pl)){switch(u&-u){case 4:a=2;break;case 16:a=8;break;case 64:case 128:case 256:case 512:case 1024:case 2048:case 4096:case 8192:case 16384:case 32768:case 65536:case 131072:case 262144:case 524288:case 1048576:case 2097152:case 4194304:case 8388608:case 16777216:case 33554432:case 67108864:a=32;break;case 536870912:a=268435456;break;default:a=0}0!==(a=0!=(a&(r.suspendedLanes|u))?0:a)&&a!==o.retryLane&&(o.retryLane=a,Ni(e,a),rs(r,e,a,-1))}return gs(),Iu(e,t,u,r=fu(Error(i(421))))}return\"$?\"===a.data?(t.flags|=128,t.child=e.child,t=Ms.bind(null,e),a._reactRetry=t,null):(e=o.treeContext,ri=sa(a.nextSibling),ni=t,ai=!0,ii=null,null!==e&&(Qa[Ya++]=Ka,Qa[Ya++]=Za,Qa[Ya++]=Ga,Ka=e.id,Za=e.overflow,Ga=t),(t=Uu(t,r.children)).flags|=4096,t)}(e,t,l,a,r,o,n);if(u){u=a.fallback,l=t.mode,r=(o=e.child).sibling;var s={mode:\"hidden\",children:a.children};return 0==(1&l)&&t.child!==o?((a=t.child).childLanes=0,a.pendingProps=s,t.deletions=null):(a=As(o,s)).subtreeFlags=14680064&o.subtreeFlags,null!==r?u=As(r,u):(u=Ds(u,l,n,null)).flags|=2,u.return=t,a.return=t,a.sibling=u,t.child=a,a=u,u=t.child,l=null===(l=e.child.memoizedState)?Ru(n):{baseLanes:l.baseLanes|n,cachePool:null,transitions:l.transitions},u.memoizedState=l,u.childLanes=e.childLanes&~n,t.memoizedState=Du,a}return e=(u=e.child).sibling,a=As(u,{mode:\"visible\",children:a.children}),0==(1&t.mode)&&(a.lanes=n),a.return=t,a.sibling=null,null!==e&&(null===(n=t.deletions)?(t.deletions=[e],t.flags|=16):n.push(e)),t.child=a,t.memoizedState=null,a}function Uu(e,t){return(t=Rs({mode:\"visible\",children:t},e.mode,0,null)).return=e,e.child=t}function Iu(e,t,n,r){return null!==r&&hi(r),Ki(t,e.child,null,n),(e=Uu(t,t.pendingProps.children)).flags|=2,t.memoizedState=null,e}function $u(e,t,n){e.lanes|=t;var r=e.alternate;null!==r&&(r.lanes|=t),ki(e.return,t,n)}function Bu(e,t,n,r,a){var i=e.memoizedState;null===i?e.memoizedState={isBackwards:t,rendering:null,renderingStartTime:0,last:r,tail:n,tailMode:a}:(i.isBackwards=t,i.rendering=null,i.renderingStartTime=0,i.last=r,i.tail=n,i.tailMode=a)}function Wu(e,t,n){var r=t.pendingProps,a=r.revealOrder,i=r.tail;if(wu(e,t,r.children,n),0!=(2&(r=uo.current)))r=1&r|2,t.flags|=128;else{if(null!==e&&0!=(128&e.flags))e:for(e=t.child;null!==e;){if(13===e.tag)null!==e.memoizedState&&$u(e,n,t);else if(19===e.tag)$u(e,n,t);else if(null!==e.child){e.child.return=e,e=e.child;continue}if(e===t)break e;for(;null===e.sibling;){if(null===e.return||e.return===t)break e;e=e.return}e.sibling.return=e.return,e=e.sibling}r&=1}if(Ca(uo,r),0==(1&t.mode))t.memoizedState=null;else switch(a){case\"forwards\":for(n=t.child,a=null;null!==n;)null!==(e=n.alternate)&&null===lo(e)&&(a=n),n=n.sibling;null===(n=a)?(a=t.child,t.child=null):(a=n.sibling,n.sibling=null),Bu(t,!1,a,n,i);break;case\"backwards\":for(n=null,a=t.child,t.child=null;null!==a;){if(null!==(e=a.alternate)&&null===lo(e)){t.child=a;break}e=a.sibling,a.sibling=n,n=a,a=e}Bu(t,!0,n,null,i);break;case\"together\":Bu(t,!1,null,null,void 0);break;default:t.memoizedState=null}return t.child}function Vu(e,t){0==(1&t.mode)&&null!==e&&(e.alternate=null,t.alternate=null,t.flags|=2)}function Hu(e,t,n){if(null!==e&&(t.dependencies=e.dependencies),Rl|=t.lanes,0==(n&t.childLanes))return null;if(null!==e&&t.child!==e.child)throw Error(i(153));if(null!==t.child){for(n=As(e=t.child,e.pendingProps),t.child=n,n.return=t;null!==e.sibling;)e=e.sibling,(n=n.sibling=As(e,e.pendingProps)).return=t;n.sibling=null}return t.child}function qu(e,t){if(!ai)switch(e.tailMode){case\"hidden\":t=e.tail;for(var n=null;null!==t;)null!==t.alternate&&(n=t),t=t.sibling;null===n?e.tail=null:n.sibling=null;break;case\"collapsed\":n=e.tail;for(var r=null;null!==n;)null!==n.alternate&&(r=n),n=n.sibling;null===r?t||null===e.tail?e.tail=null:e.tail.sibling=null:r.sibling=null}}function Qu(e){var t=null!==e.alternate&&e.alternate.child===e.child,n=0,r=0;if(t)for(var a=e.child;null!==a;)n|=a.lanes|a.childLanes,r|=14680064&a.subtreeFlags,r|=14680064&a.flags,a.return=e,a=a.sibling;else for(a=e.child;null!==a;)n|=a.lanes|a.childLanes,r|=a.subtreeFlags,r|=a.flags,a.return=e,a=a.sibling;return e.subtreeFlags|=r,e.childLanes=n,t}function Yu(e,t,n){var r=t.pendingProps;switch(ti(t),t.tag){case 2:case 16:case 15:case 0:case 11:case 7:case 8:case 12:case 9:case 14:return Qu(t),null;case 1:case 17:return La(t.type)&&Oa(),Qu(t),null;case 3:return r=t.stateNode,ao(),Ea(Na),Ea(Ma),co(),r.pendingContext&&(r.context=r.pendingContext,r.pendingContext=null),null!==e&&null!==e.child||(fi(t)?t.flags|=4:null===e||e.memoizedState.isDehydrated&&0==(256&t.flags)||(t.flags|=1024,null!==ii&&(us(ii),ii=null))),Ou(e,t),Qu(t),null;case 5:oo(t);var a=no(to.current);if(n=t.type,null!==e&&null!=t.stateNode)Au(e,t,n,r,a),e.ref!==t.ref&&(t.flags|=512,t.flags|=2097152);else{if(!r){if(null===t.stateNode)throw Error(i(166));return Qu(t),null}if(e=no(Ji.current),fi(t)){r=t.stateNode,n=t.type;var o=t.memoizedProps;switch(r[pa]=t,r[da]=o,e=0!=(1&t.mode),n){case\"dialog\":Ur(\"cancel\",r),Ur(\"close\",r);break;case\"iframe\":case\"object\":case\"embed\":Ur(\"load\",r);break;case\"video\":case\"audio\":for(a=0;a<Fr.length;a++)Ur(Fr[a],r);break;case\"source\":Ur(\"error\",r);break;case\"img\":case\"image\":case\"link\":Ur(\"error\",r),Ur(\"load\",r);break;case\"details\":Ur(\"toggle\",r);break;case\"input\":K(r,o),Ur(\"invalid\",r);break;case\"select\":r._wrapperState={wasMultiple:!!o.multiple},Ur(\"invalid\",r);break;case\"textarea\":ae(r,o),Ur(\"invalid\",r)}for(var l in me(n,o),a=null,o)if(o.hasOwnProperty(l)){var s=o[l];\"children\"===l?\"string\"==typeof s?r.textContent!==s&&(!0!==o.suppressHydrationWarning&&Xr(r.textContent,s,e),a=[\"children\",s]):\"number\"==typeof s&&r.textContent!==\"\"+s&&(!0!==o.suppressHydrationWarning&&Xr(r.textContent,s,e),a=[\"children\",\"\"+s]):u.hasOwnProperty(l)&&null!=s&&\"onScroll\"===l&&Ur(\"scroll\",r)}switch(n){case\"input\":q(r),J(r,o,!0);break;case\"textarea\":q(r),oe(r);break;case\"select\":case\"option\":break;default:\"function\"==typeof o.onClick&&(r.onclick=Jr)}r=a,t.updateQueue=r,null!==r&&(t.flags|=4)}else{l=9===a.nodeType?a:a.ownerDocument,\"http://www.w3.org/1999/xhtml\"===e&&(e=ue(n)),\"http://www.w3.org/1999/xhtml\"===e?\"script\"===n?((e=l.createElement(\"div\")).innerHTML=\"<script><\\/script>\",e=e.removeChild(e.firstChild)):\"string\"==typeof r.is?e=l.createElement(n,{is:r.is}):(e=l.createElement(n),\"select\"===n&&(l=e,r.multiple?l.multiple=!0:r.size&&(l.size=r.size))):e=l.createElementNS(e,n),e[pa]=t,e[da]=r,Lu(e,t,!1,!1),t.stateNode=e;e:{switch(l=be(n,r),n){case\"dialog\":Ur(\"cancel\",e),Ur(\"close\",e),a=r;break;case\"iframe\":case\"object\":case\"embed\":Ur(\"load\",e),a=r;break;case\"video\":case\"audio\":for(a=0;a<Fr.length;a++)Ur(Fr[a],e);a=r;break;case\"source\":Ur(\"error\",e),a=r;break;case\"img\":case\"image\":case\"link\":Ur(\"error\",e),Ur(\"load\",e),a=r;break;case\"details\":Ur(\"toggle\",e),a=r;break;case\"input\":K(e,r),a=G(e,r),Ur(\"invalid\",e);break;case\"option\":default:a=r;break;case\"select\":e._wrapperState={wasMultiple:!!r.multiple},a=R({},r,{value:void 0}),Ur(\"invalid\",e);break;case\"textarea\":ae(e,r),a=re(e,r),Ur(\"invalid\",e)}for(o in me(n,a),s=a)if(s.hasOwnProperty(o)){var c=s[o];\"style\"===o?ge(e,c):\"dangerouslySetInnerHTML\"===o?null!=(c=c?c.__html:void 0)&&fe(e,c):\"children\"===o?\"string\"==typeof c?(\"textarea\"!==n||\"\"!==c)&&pe(e,c):\"number\"==typeof c&&pe(e,\"\"+c):\"suppressContentEditableWarning\"!==o&&\"suppressHydrationWarning\"!==o&&\"autoFocus\"!==o&&(u.hasOwnProperty(o)?null!=c&&\"onScroll\"===o&&Ur(\"scroll\",e):null!=c&&b(e,o,c,l))}switch(n){case\"input\":q(e),J(e,r,!1);break;case\"textarea\":q(e),oe(e);break;case\"option\":null!=r.value&&e.setAttribute(\"value\",\"\"+V(r.value));break;case\"select\":e.multiple=!!r.multiple,null!=(o=r.value)?ne(e,!!r.multiple,o,!1):null!=r.defaultValue&&ne(e,!!r.multiple,r.defaultValue,!0);break;default:\"function\"==typeof a.onClick&&(e.onclick=Jr)}switch(n){case\"button\":case\"input\":case\"select\":case\"textarea\":r=!!r.autoFocus;break e;case\"img\":r=!0;break e;default:r=!1}}r&&(t.flags|=4)}null!==t.ref&&(t.flags|=512,t.flags|=2097152)}return Qu(t),null;case 6:if(e&&null!=t.stateNode)Fu(e,t,e.memoizedProps,r);else{if(\"string\"!=typeof r&&null===t.stateNode)throw Error(i(166));if(n=no(to.current),no(Ji.current),fi(t)){if(r=t.stateNode,n=t.memoizedProps,r[pa]=t,(o=r.nodeValue!==n)&&null!==(e=ni))switch(e.tag){case 3:Xr(r.nodeValue,n,0!=(1&e.mode));break;case 5:!0!==e.memoizedProps.suppressHydrationWarning&&Xr(r.nodeValue,n,0!=(1&e.mode))}o&&(t.flags|=4)}else(r=(9===n.nodeType?n:n.ownerDocument).createTextNode(r))[pa]=t,t.stateNode=r}return Qu(t),null;case 13:if(Ea(uo),r=t.memoizedState,null===e||null!==e.memoizedState&&null!==e.memoizedState.dehydrated){if(ai&&null!==ri&&0!=(1&t.mode)&&0==(128&t.flags))pi(),di(),t.flags|=98560,o=!1;else if(o=fi(t),null!==r&&null!==r.dehydrated){if(null===e){if(!o)throw Error(i(318));if(!(o=null!==(o=t.memoizedState)?o.dehydrated:null))throw Error(i(317));o[pa]=t}else di(),0==(128&t.flags)&&(t.memoizedState=null),t.flags|=4;Qu(t),o=!1}else null!==ii&&(us(ii),ii=null),o=!0;if(!o)return 65536&t.flags?t:null}return 0!=(128&t.flags)?(t.lanes=n,t):((r=null!==r)!=(null!==e&&null!==e.memoizedState)&&r&&(t.child.flags|=8192,0!=(1&t.mode)&&(null===e||0!=(1&uo.current)?0===Fl&&(Fl=3):gs())),null!==t.updateQueue&&(t.flags|=4),Qu(t),null);case 4:return ao(),Ou(e,t),null===e&&Br(t.stateNode.containerInfo),Qu(t),null;case 10:return xi(t.type._context),Qu(t),null;case 19:if(Ea(uo),null===(o=t.memoizedState))return Qu(t),null;if(r=0!=(128&t.flags),null===(l=o.rendering))if(r)qu(o,!1);else{if(0!==Fl||null!==e&&0!=(128&e.flags))for(e=t.child;null!==e;){if(null!==(l=lo(e))){for(t.flags|=128,qu(o,!1),null!==(r=l.updateQueue)&&(t.updateQueue=r,t.flags|=4),t.subtreeFlags=0,r=n,n=t.child;null!==n;)e=r,(o=n).flags&=14680066,null===(l=o.alternate)?(o.childLanes=0,o.lanes=e,o.child=null,o.subtreeFlags=0,o.memoizedProps=null,o.memoizedState=null,o.updateQueue=null,o.dependencies=null,o.stateNode=null):(o.childLanes=l.childLanes,o.lanes=l.lanes,o.child=l.child,o.subtreeFlags=0,o.deletions=null,o.memoizedProps=l.memoizedProps,o.memoizedState=l.memoizedState,o.updateQueue=l.updateQueue,o.type=l.type,e=l.dependencies,o.dependencies=null===e?null:{lanes:e.lanes,firstContext:e.firstContext}),n=n.sibling;return Ca(uo,1&uo.current|2),t.child}e=e.sibling}null!==o.tail&&Ze()>Wl&&(t.flags|=128,r=!0,qu(o,!1),t.lanes=4194304)}else{if(!r)if(null!==(e=lo(l))){if(t.flags|=128,r=!0,null!==(n=e.updateQueue)&&(t.updateQueue=n,t.flags|=4),qu(o,!0),null===o.tail&&\"hidden\"===o.tailMode&&!l.alternate&&!ai)return Qu(t),null}else 2*Ze()-o.renderingStartTime>Wl&&1073741824!==n&&(t.flags|=128,r=!0,qu(o,!1),t.lanes=4194304);o.isBackwards?(l.sibling=t.child,t.child=l):(null!==(n=o.last)?n.sibling=l:t.child=l,o.last=l)}return null!==o.tail?(t=o.tail,o.rendering=t,o.tail=t.sibling,o.renderingStartTime=Ze(),t.sibling=null,n=uo.current,Ca(uo,r?1&n|2:1&n),t):(Qu(t),null);case 22:case 23:return ps(),r=null!==t.memoizedState,null!==e&&null!==e.memoizedState!==r&&(t.flags|=8192),r&&0!=(1&t.mode)?0!=(1073741824&Ol)&&(Qu(t),6&t.subtreeFlags&&(t.flags|=8192)):Qu(t),null;case 24:case 25:return null}throw Error(i(156,t.tag))}function Gu(e,t){switch(ti(t),t.tag){case 1:return La(t.type)&&Oa(),65536&(e=t.flags)?(t.flags=-65537&e|128,t):null;case 3:return ao(),Ea(Na),Ea(Ma),co(),0!=(65536&(e=t.flags))&&0==(128&e)?(t.flags=-65537&e|128,t):null;case 5:return oo(t),null;case 13:if(Ea(uo),null!==(e=t.memoizedState)&&null!==e.dehydrated){if(null===t.alternate)throw Error(i(340));di()}return 65536&(e=t.flags)?(t.flags=-65537&e|128,t):null;case 19:return Ea(uo),null;case 4:return ao(),null;case 10:return xi(t.type._context),null;case 22:case 23:return ps(),null;default:return null}}Lu=function(e,t){for(var n=t.child;null!==n;){if(5===n.tag||6===n.tag)e.appendChild(n.stateNode);else if(4!==n.tag&&null!==n.child){n.child.return=n,n=n.child;continue}if(n===t)break;for(;null===n.sibling;){if(null===n.return||n.return===t)return;n=n.return}n.sibling.return=n.return,n=n.sibling}},Ou=function(){},Au=function(e,t,n,r){var a=e.memoizedProps;if(a!==r){e=t.stateNode,no(Ji.current);var i,o=null;switch(n){case\"input\":a=G(e,a),r=G(e,r),o=[];break;case\"select\":a=R({},a,{value:void 0}),r=R({},r,{value:void 0}),o=[];break;case\"textarea\":a=re(e,a),r=re(e,r),o=[];break;default:\"function\"!=typeof a.onClick&&\"function\"==typeof r.onClick&&(e.onclick=Jr)}for(c in me(n,r),n=null,a)if(!r.hasOwnProperty(c)&&a.hasOwnProperty(c)&&null!=a[c])if(\"style\"===c){var l=a[c];for(i in l)l.hasOwnProperty(i)&&(n||(n={}),n[i]=\"\")}else\"dangerouslySetInnerHTML\"!==c&&\"children\"!==c&&\"suppressContentEditableWarning\"!==c&&\"suppressHydrationWarning\"!==c&&\"autoFocus\"!==c&&(u.hasOwnProperty(c)?o||(o=[]):(o=o||[]).push(c,null));for(c in r){var s=r[c];if(l=null!=a?a[c]:void 0,r.hasOwnProperty(c)&&s!==l&&(null!=s||null!=l))if(\"style\"===c)if(l){for(i in l)!l.hasOwnProperty(i)||s&&s.hasOwnProperty(i)||(n||(n={}),n[i]=\"\");for(i in s)s.hasOwnProperty(i)&&l[i]!==s[i]&&(n||(n={}),n[i]=s[i])}else n||(o||(o=[]),o.push(c,n)),n=s;else\"dangerouslySetInnerHTML\"===c?(s=s?s.__html:void 0,l=l?l.__html:void 0,null!=s&&l!==s&&(o=o||[]).push(c,s)):\"children\"===c?\"string\"!=typeof s&&\"number\"!=typeof s||(o=o||[]).push(c,\"\"+s):\"suppressContentEditableWarning\"!==c&&\"suppressHydrationWarning\"!==c&&(u.hasOwnProperty(c)?(null!=s&&\"onScroll\"===c&&Ur(\"scroll\",e),o||l===s||(o=[])):(o=o||[]).push(c,s))}n&&(o=o||[]).push(\"style\",n);var c=o;(t.updateQueue=c)&&(t.flags|=4)}},Fu=function(e,t,n,r){n!==r&&(t.flags|=4)};var Ku=!1,Zu=!1,Xu=\"function\"==typeof WeakSet?WeakSet:Set,Ju=null;function el(e,t){var n=e.ref;if(null!==n)if(\"function\"==typeof n)try{n(null)}catch(n){Es(e,t,n)}else n.current=null}function tl(e,t,n){try{n()}catch(n){Es(e,t,n)}}var nl=!1;function rl(e,t,n){var r=t.updateQueue;if(null!==(r=null!==r?r.lastEffect:null)){var a=r=r.next;do{if((a.tag&e)===e){var i=a.destroy;a.destroy=void 0,void 0!==i&&tl(t,n,i)}a=a.next}while(a!==r)}}function al(e,t){if(null!==(t=null!==(t=t.updateQueue)?t.lastEffect:null)){var n=t=t.next;do{if((n.tag&e)===e){var r=n.create;n.destroy=r()}n=n.next}while(n!==t)}}function il(e){var t=e.ref;if(null!==t){var n=e.stateNode;e.tag,e=n,\"function\"==typeof t?t(e):t.current=e}}function ol(e){var t=e.alternate;null!==t&&(e.alternate=null,ol(t)),e.child=null,e.deletions=null,e.sibling=null,5===e.tag&&null!==(t=e.stateNode)&&(delete t[pa],delete t[da],delete t[va],delete t[ga],delete t[ya]),e.stateNode=null,e.return=null,e.dependencies=null,e.memoizedProps=null,e.memoizedState=null,e.pendingProps=null,e.stateNode=null,e.updateQueue=null}function ul(e){return 5===e.tag||3===e.tag||4===e.tag}function ll(e){e:for(;;){for(;null===e.sibling;){if(null===e.return||ul(e.return))return null;e=e.return}for(e.sibling.return=e.return,e=e.sibling;5!==e.tag&&6!==e.tag&&18!==e.tag;){if(2&e.flags)continue e;if(null===e.child||4===e.tag)continue e;e.child.return=e,e=e.child}if(!(2&e.flags))return e.stateNode}}function sl(e,t,n){var r=e.tag;if(5===r||6===r)e=e.stateNode,t?8===n.nodeType?n.parentNode.insertBefore(e,t):n.insertBefore(e,t):(8===n.nodeType?(t=n.parentNode).insertBefore(e,n):(t=n).appendChild(e),null!=(n=n._reactRootContainer)||null!==t.onclick||(t.onclick=Jr));else if(4!==r&&null!==(e=e.child))for(sl(e,t,n),e=e.sibling;null!==e;)sl(e,t,n),e=e.sibling}function cl(e,t,n){var r=e.tag;if(5===r||6===r)e=e.stateNode,t?n.insertBefore(e,t):n.appendChild(e);else if(4!==r&&null!==(e=e.child))for(cl(e,t,n),e=e.sibling;null!==e;)cl(e,t,n),e=e.sibling}var fl=null,pl=!1;function dl(e,t,n){for(n=n.child;null!==n;)hl(e,t,n),n=n.sibling}function hl(e,t,n){if(it&&\"function\"==typeof it.onCommitFiberUnmount)try{it.onCommitFiberUnmount(at,n)}catch(e){}switch(n.tag){case 5:Zu||el(n,t);case 6:var r=fl,a=pl;fl=null,dl(e,t,n),pl=a,null!==(fl=r)&&(pl?(e=fl,n=n.stateNode,8===e.nodeType?e.parentNode.removeChild(n):e.removeChild(n)):fl.removeChild(n.stateNode));break;case 18:null!==fl&&(pl?(e=fl,n=n.stateNode,8===e.nodeType?la(e.parentNode,n):1===e.nodeType&&la(e,n),Bt(e)):la(fl,n.stateNode));break;case 4:r=fl,a=pl,fl=n.stateNode.containerInfo,pl=!0,dl(e,t,n),fl=r,pl=a;break;case 0:case 11:case 14:case 15:if(!Zu&&null!==(r=n.updateQueue)&&null!==(r=r.lastEffect)){a=r=r.next;do{var i=a,o=i.destroy;i=i.tag,void 0!==o&&(0!=(2&i)||0!=(4&i))&&tl(n,t,o),a=a.next}while(a!==r)}dl(e,t,n);break;case 1:if(!Zu&&(el(n,t),\"function\"==typeof(r=n.stateNode).componentWillUnmount))try{r.props=n.memoizedProps,r.state=n.memoizedState,r.componentWillUnmount()}catch(e){Es(n,t,e)}dl(e,t,n);break;case 21:dl(e,t,n);break;case 22:1&n.mode?(Zu=(r=Zu)||null!==n.memoizedState,dl(e,t,n),Zu=r):dl(e,t,n);break;default:dl(e,t,n)}}function vl(e){var t=e.updateQueue;if(null!==t){e.updateQueue=null;var n=e.stateNode;null===n&&(n=e.stateNode=new Xu),t.forEach((function(t){var r=Ns.bind(null,e,t);n.has(t)||(n.add(t),t.then(r,r))}))}}function gl(e,t){var n=t.deletions;if(null!==n)for(var r=0;r<n.length;r++){var a=n[r];try{var o=e,u=t,l=u;e:for(;null!==l;){switch(l.tag){case 5:fl=l.stateNode,pl=!1;break e;case 3:case 4:fl=l.stateNode.containerInfo,pl=!0;break e}l=l.return}if(null===fl)throw Error(i(160));hl(o,u,a),fl=null,pl=!1;var s=a.alternate;null!==s&&(s.return=null),a.return=null}catch(e){Es(a,t,e)}}if(12854&t.subtreeFlags)for(t=t.child;null!==t;)yl(t,e),t=t.sibling}function yl(e,t){var n=e.alternate,r=e.flags;switch(e.tag){case 0:case 11:case 14:case 15:if(gl(t,e),ml(e),4&r){try{rl(3,e,e.return),al(3,e)}catch(t){Es(e,e.return,t)}try{rl(5,e,e.return)}catch(t){Es(e,e.return,t)}}break;case 1:gl(t,e),ml(e),512&r&&null!==n&&el(n,n.return);break;case 5:if(gl(t,e),ml(e),512&r&&null!==n&&el(n,n.return),32&e.flags){var a=e.stateNode;try{pe(a,\"\")}catch(t){Es(e,e.return,t)}}if(4&r&&null!=(a=e.stateNode)){var o=e.memoizedProps,u=null!==n?n.memoizedProps:o,l=e.type,s=e.updateQueue;if(e.updateQueue=null,null!==s)try{\"input\"===l&&\"radio\"===o.type&&null!=o.name&&Z(a,o),be(l,u);var c=be(l,o);for(u=0;u<s.length;u+=2){var f=s[u],p=s[u+1];\"style\"===f?ge(a,p):\"dangerouslySetInnerHTML\"===f?fe(a,p):\"children\"===f?pe(a,p):b(a,f,p,c)}switch(l){case\"input\":X(a,o);break;case\"textarea\":ie(a,o);break;case\"select\":var d=a._wrapperState.wasMultiple;a._wrapperState.wasMultiple=!!o.multiple;var h=o.value;null!=h?ne(a,!!o.multiple,h,!1):d!==!!o.multiple&&(null!=o.defaultValue?ne(a,!!o.multiple,o.defaultValue,!0):ne(a,!!o.multiple,o.multiple?[]:\"\",!1))}a[da]=o}catch(t){Es(e,e.return,t)}}break;case 6:if(gl(t,e),ml(e),4&r){if(null===e.stateNode)throw Error(i(162));a=e.stateNode,o=e.memoizedProps;try{a.nodeValue=o}catch(t){Es(e,e.return,t)}}break;case 3:if(gl(t,e),ml(e),4&r&&null!==n&&n.memoizedState.isDehydrated)try{Bt(t.containerInfo)}catch(t){Es(e,e.return,t)}break;case 4:default:gl(t,e),ml(e);break;case 13:gl(t,e),ml(e),8192&(a=e.child).flags&&(o=null!==a.memoizedState,a.stateNode.isHidden=o,!o||null!==a.alternate&&null!==a.alternate.memoizedState||(Bl=Ze())),4&r&&vl(e);break;case 22:if(f=null!==n&&null!==n.memoizedState,1&e.mode?(Zu=(c=Zu)||f,gl(t,e),Zu=c):gl(t,e),ml(e),8192&r){if(c=null!==e.memoizedState,(e.stateNode.isHidden=c)&&!f&&0!=(1&e.mode))for(Ju=e,f=e.child;null!==f;){for(p=Ju=f;null!==Ju;){switch(h=(d=Ju).child,d.tag){case 0:case 11:case 14:case 15:rl(4,d,d.return);break;case 1:el(d,d.return);var v=d.stateNode;if(\"function\"==typeof v.componentWillUnmount){r=d,n=d.return;try{t=r,v.props=t.memoizedProps,v.state=t.memoizedState,v.componentWillUnmount()}catch(e){Es(r,n,e)}}break;case 5:el(d,d.return);break;case 22:if(null!==d.memoizedState){xl(p);continue}}null!==h?(h.return=d,Ju=h):xl(p)}f=f.sibling}e:for(f=null,p=e;;){if(5===p.tag){if(null===f){f=p;try{a=p.stateNode,c?\"function\"==typeof(o=a.style).setProperty?o.setProperty(\"display\",\"none\",\"important\"):o.display=\"none\":(l=p.stateNode,u=null!=(s=p.memoizedProps.style)&&s.hasOwnProperty(\"display\")?s.display:null,l.style.display=ve(\"display\",u))}catch(t){Es(e,e.return,t)}}}else if(6===p.tag){if(null===f)try{p.stateNode.nodeValue=c?\"\":p.memoizedProps}catch(t){Es(e,e.return,t)}}else if((22!==p.tag&&23!==p.tag||null===p.memoizedState||p===e)&&null!==p.child){p.child.return=p,p=p.child;continue}if(p===e)break e;for(;null===p.sibling;){if(null===p.return||p.return===e)break e;f===p&&(f=null),p=p.return}f===p&&(f=null),p.sibling.return=p.return,p=p.sibling}}break;case 19:gl(t,e),ml(e),4&r&&vl(e);case 21:}}function ml(e){var t=e.flags;if(2&t){try{e:{for(var n=e.return;null!==n;){if(ul(n)){var r=n;break e}n=n.return}throw Error(i(160))}switch(r.tag){case 5:var a=r.stateNode;32&r.flags&&(pe(a,\"\"),r.flags&=-33),cl(e,ll(e),a);break;case 3:case 4:var o=r.stateNode.containerInfo;sl(e,ll(e),o);break;default:throw Error(i(161))}}catch(t){Es(e,e.return,t)}e.flags&=-3}4096&t&&(e.flags&=-4097)}function bl(e,t,n){Ju=e,_l(e,t,n)}function _l(e,t,n){for(var r=0!=(1&e.mode);null!==Ju;){var a=Ju,i=a.child;if(22===a.tag&&r){var o=null!==a.memoizedState||Ku;if(!o){var u=a.alternate,l=null!==u&&null!==u.memoizedState||Zu;u=Ku;var s=Zu;if(Ku=o,(Zu=l)&&!s)for(Ju=a;null!==Ju;)l=(o=Ju).child,22===o.tag&&null!==o.memoizedState?kl(a):null!==l?(l.return=o,Ju=l):kl(a);for(;null!==i;)Ju=i,_l(i,t,n),i=i.sibling;Ju=a,Ku=u,Zu=s}wl(e)}else 0!=(8772&a.subtreeFlags)&&null!==i?(i.return=a,Ju=i):wl(e)}}function wl(e){for(;null!==Ju;){var t=Ju;if(0!=(8772&t.flags)){var n=t.alternate;try{if(0!=(8772&t.flags))switch(t.tag){case 0:case 11:case 15:Zu||al(5,t);break;case 1:var r=t.stateNode;if(4&t.flags&&!Zu)if(null===n)r.componentDidMount();else{var a=t.elementType===t.type?n.memoizedProps:gi(t.type,n.memoizedProps);r.componentDidUpdate(a,n.memoizedState,r.__reactInternalSnapshotBeforeUpdate)}var o=t.updateQueue;null!==o&&ji(t,o,r);break;case 3:var u=t.updateQueue;if(null!==u){if(n=null,null!==t.child)switch(t.child.tag){case 5:case 1:n=t.child.stateNode}ji(t,u,n)}break;case 5:var l=t.stateNode;if(null===n&&4&t.flags){n=l;var s=t.memoizedProps;switch(t.type){case\"button\":case\"input\":case\"select\":case\"textarea\":s.autoFocus&&n.focus();break;case\"img\":s.src&&(n.src=s.src)}}break;case 6:case 4:case 12:case 19:case 17:case 21:case 22:case 23:case 25:break;case 13:if(null===t.memoizedState){var c=t.alternate;if(null!==c){var f=c.memoizedState;if(null!==f){var p=f.dehydrated;null!==p&&Bt(p)}}}break;default:throw Error(i(163))}Zu||512&t.flags&&il(t)}catch(e){Es(t,t.return,e)}}if(t===e){Ju=null;break}if(null!==(n=t.sibling)){n.return=t.return,Ju=n;break}Ju=t.return}}function xl(e){for(;null!==Ju;){var t=Ju;if(t===e){Ju=null;break}var n=t.sibling;if(null!==n){n.return=t.return,Ju=n;break}Ju=t.return}}function kl(e){for(;null!==Ju;){var t=Ju;try{switch(t.tag){case 0:case 11:case 15:var n=t.return;try{al(4,t)}catch(e){Es(t,n,e)}break;case 1:var r=t.stateNode;if(\"function\"==typeof r.componentDidMount){var a=t.return;try{r.componentDidMount()}catch(e){Es(t,a,e)}}var i=t.return;try{il(t)}catch(e){Es(t,i,e)}break;case 5:var o=t.return;try{il(t)}catch(e){Es(t,o,e)}}}catch(e){Es(t,t.return,e)}if(t===e){Ju=null;break}var u=t.sibling;if(null!==u){u.return=t.return,Ju=u;break}Ju=t.return}}var Sl,El=Math.ceil,Cl=_.ReactCurrentDispatcher,Tl=_.ReactCurrentOwner,Ml=_.ReactCurrentBatchConfig,Nl=0,Pl=null,zl=null,Ll=0,Ol=0,Al=Sa(0),Fl=0,Dl=null,Rl=0,jl=0,Ul=0,Il=null,$l=null,Bl=0,Wl=1/0,Vl=null,Hl=!1,ql=null,Ql=null,Yl=!1,Gl=null,Kl=0,Zl=0,Xl=null,Jl=-1,es=0;function ts(){return 0!=(6&Nl)?Ze():-1!==Jl?Jl:Jl=Ze()}function ns(e){return 0==(1&e.mode)?1:0!=(2&Nl)&&0!==Ll?Ll&-Ll:null!==vi.transition?(0===es&&(es=vt()),es):0!==(e=bt)?e:e=void 0===(e=window.event)?16:Kt(e.type)}function rs(e,t,n,r){if(50<Zl)throw Zl=0,Xl=null,Error(i(185));yt(e,n,r),0!=(2&Nl)&&e===Pl||(e===Pl&&(0==(2&Nl)&&(jl|=n),4===Fl&&ls(e,Ll)),as(e,r),1===n&&0===Nl&&0==(1&t.mode)&&(Wl=Ze()+500,Ua&&Ba()))}function as(e,t){var n=e.callbackNode;!function(e,t){for(var n=e.suspendedLanes,r=e.pingedLanes,a=e.expirationTimes,i=e.pendingLanes;0<i;){var o=31-ot(i),u=1<<o,l=a[o];-1===l?0!=(u&n)&&0==(u&r)||(a[o]=dt(u,t)):l<=t&&(e.expiredLanes|=u),i&=~u}}(e,t);var r=pt(e,e===Pl?Ll:0);if(0===r)null!==n&&Ye(n),e.callbackNode=null,e.callbackPriority=0;else if(t=r&-r,e.callbackPriority!==t){if(null!=n&&Ye(n),1===t)0===e.tag?function(e){Ua=!0,$a(e)}(ss.bind(null,e)):$a(ss.bind(null,e)),oa((function(){0==(6&Nl)&&Ba()})),n=null;else{switch(_t(r)){case 1:n=Je;break;case 4:n=et;break;case 16:default:n=tt;break;case 536870912:n=rt}n=Ps(n,is.bind(null,e))}e.callbackPriority=t,e.callbackNode=n}}function is(e,t){if(Jl=-1,es=0,0!=(6&Nl))throw Error(i(327));var n=e.callbackNode;if(ks()&&e.callbackNode!==n)return null;var r=pt(e,e===Pl?Ll:0);if(0===r)return null;if(0!=(30&r)||0!=(r&e.expiredLanes)||t)t=ys(e,r);else{t=r;var a=Nl;Nl|=2;var o=vs();for(Pl===e&&Ll===t||(Vl=null,Wl=Ze()+500,ds(e,t));;)try{bs();break}catch(t){hs(e,t)}wi(),Cl.current=o,Nl=a,null!==zl?t=0:(Pl=null,Ll=0,t=Fl)}if(0!==t){if(2===t&&0!==(a=ht(e))&&(r=a,t=os(e,a)),1===t)throw n=Dl,ds(e,0),ls(e,r),as(e,Ze()),n;if(6===t)ls(e,r);else{if(a=e.current.alternate,0==(30&r)&&!function(e){for(var t=e;;){if(16384&t.flags){var n=t.updateQueue;if(null!==n&&null!==(n=n.stores))for(var r=0;r<n.length;r++){var a=n[r],i=a.getSnapshot;a=a.value;try{if(!ur(i(),a))return!1}catch(e){return!1}}}if(n=t.child,16384&t.subtreeFlags&&null!==n)n.return=t,t=n;else{if(t===e)break;for(;null===t.sibling;){if(null===t.return||t.return===e)return!0;t=t.return}t.sibling.return=t.return,t=t.sibling}}return!0}(a)&&(2===(t=ys(e,r))&&0!==(o=ht(e))&&(r=o,t=os(e,o)),1===t))throw n=Dl,ds(e,0),ls(e,r),as(e,Ze()),n;switch(e.finishedWork=a,e.finishedLanes=r,t){case 0:case 1:throw Error(i(345));case 2:case 5:xs(e,$l,Vl);break;case 3:if(ls(e,r),(130023424&r)===r&&10<(t=Bl+500-Ze())){if(0!==pt(e,0))break;if(((a=e.suspendedLanes)&r)!==r){ts(),e.pingedLanes|=e.suspendedLanes&a;break}e.timeoutHandle=ra(xs.bind(null,e,$l,Vl),t);break}xs(e,$l,Vl);break;case 4:if(ls(e,r),(4194240&r)===r)break;for(t=e.eventTimes,a=-1;0<r;){var u=31-ot(r);o=1<<u,(u=t[u])>a&&(a=u),r&=~o}if(r=a,10<(r=(120>(r=Ze()-r)?120:480>r?480:1080>r?1080:1920>r?1920:3e3>r?3e3:4320>r?4320:1960*El(r/1960))-r)){e.timeoutHandle=ra(xs.bind(null,e,$l,Vl),r);break}xs(e,$l,Vl);break;default:throw Error(i(329))}}}return as(e,Ze()),e.callbackNode===n?is.bind(null,e):null}function os(e,t){var n=Il;return e.current.memoizedState.isDehydrated&&(ds(e,t).flags|=256),2!==(e=ys(e,t))&&(t=$l,$l=n,null!==t&&us(t)),e}function us(e){null===$l?$l=e:$l.push.apply($l,e)}function ls(e,t){for(t&=~Ul,t&=~jl,e.suspendedLanes|=t,e.pingedLanes&=~t,e=e.expirationTimes;0<t;){var n=31-ot(t),r=1<<n;e[n]=-1,t&=~r}}function ss(e){if(0!=(6&Nl))throw Error(i(327));ks();var t=pt(e,0);if(0==(1&t))return as(e,Ze()),null;var n=ys(e,t);if(0!==e.tag&&2===n){var r=ht(e);0!==r&&(t=r,n=os(e,r))}if(1===n)throw n=Dl,ds(e,0),ls(e,t),as(e,Ze()),n;if(6===n)throw Error(i(345));return e.finishedWork=e.current.alternate,e.finishedLanes=t,xs(e,$l,Vl),as(e,Ze()),null}function cs(e,t){var n=Nl;Nl|=1;try{return e(t)}finally{0===(Nl=n)&&(Wl=Ze()+500,Ua&&Ba())}}function fs(e){null!==Gl&&0===Gl.tag&&0==(6&Nl)&&ks();var t=Nl;Nl|=1;var n=Ml.transition,r=bt;try{if(Ml.transition=null,bt=1,e)return e()}finally{bt=r,Ml.transition=n,0==(6&(Nl=t))&&Ba()}}function ps(){Ol=Al.current,Ea(Al)}function ds(e,t){e.finishedWork=null,e.finishedLanes=0;var n=e.timeoutHandle;if(-1!==n&&(e.timeoutHandle=-1,aa(n)),null!==zl)for(n=zl.return;null!==n;){var r=n;switch(ti(r),r.tag){case 1:null!=(r=r.type.childContextTypes)&&Oa();break;case 3:ao(),Ea(Na),Ea(Ma),co();break;case 5:oo(r);break;case 4:ao();break;case 13:case 19:Ea(uo);break;case 10:xi(r.type._context);break;case 22:case 23:ps()}n=n.return}if(Pl=e,zl=e=As(e.current,null),Ll=Ol=t,Fl=0,Dl=null,Ul=jl=Rl=0,$l=Il=null,null!==Ci){for(t=0;t<Ci.length;t++)if(null!==(r=(n=Ci[t]).interleaved)){n.interleaved=null;var a=r.next,i=n.pending;if(null!==i){var o=i.next;i.next=a,r.next=o}n.pending=r}Ci=null}return e}function hs(e,t){for(;;){var n=zl;try{if(wi(),fo.current=ou,mo){for(var r=vo.memoizedState;null!==r;){var a=r.queue;null!==a&&(a.pending=null),r=r.next}mo=!1}if(ho=0,yo=go=vo=null,bo=!1,_o=0,Tl.current=null,null===n||null===n.return){Fl=1,Dl=t,zl=null;break}e:{var o=e,u=n.return,l=n,s=t;if(t=Ll,l.flags|=32768,null!==s&&\"object\"==typeof s&&\"function\"==typeof s.then){var c=s,f=l,p=f.tag;if(0==(1&f.mode)&&(0===p||11===p||15===p)){var d=f.alternate;d?(f.updateQueue=d.updateQueue,f.memoizedState=d.memoizedState,f.lanes=d.lanes):(f.updateQueue=null,f.memoizedState=null)}var h=yu(u);if(null!==h){h.flags&=-257,mu(h,u,l,0,t),1&h.mode&&gu(o,c,t),s=c;var v=(t=h).updateQueue;if(null===v){var g=new Set;g.add(s),t.updateQueue=g}else v.add(s);break e}if(0==(1&t)){gu(o,c,t),gs();break e}s=Error(i(426))}else if(ai&&1&l.mode){var y=yu(u);if(null!==y){0==(65536&y.flags)&&(y.flags|=256),mu(y,u,l,0,t),hi(cu(s,l));break e}}o=s=cu(s,l),4!==Fl&&(Fl=2),null===Il?Il=[o]:Il.push(o),o=u;do{switch(o.tag){case 3:o.flags|=65536,t&=-t,o.lanes|=t,Di(o,hu(0,s,t));break e;case 1:l=s;var m=o.type,b=o.stateNode;if(0==(128&o.flags)&&(\"function\"==typeof m.getDerivedStateFromError||null!==b&&\"function\"==typeof b.componentDidCatch&&(null===Ql||!Ql.has(b)))){o.flags|=65536,t&=-t,o.lanes|=t,Di(o,vu(o,l,t));break e}}o=o.return}while(null!==o)}ws(n)}catch(e){t=e,zl===n&&null!==n&&(zl=n=n.return);continue}break}}function vs(){var e=Cl.current;return Cl.current=ou,null===e?ou:e}function gs(){0!==Fl&&3!==Fl&&2!==Fl||(Fl=4),null===Pl||0==(268435455&Rl)&&0==(268435455&jl)||ls(Pl,Ll)}function ys(e,t){var n=Nl;Nl|=2;var r=vs();for(Pl===e&&Ll===t||(Vl=null,ds(e,t));;)try{ms();break}catch(t){hs(e,t)}if(wi(),Nl=n,Cl.current=r,null!==zl)throw Error(i(261));return Pl=null,Ll=0,Fl}function ms(){for(;null!==zl;)_s(zl)}function bs(){for(;null!==zl&&!Ge();)_s(zl)}function _s(e){var t=Sl(e.alternate,e,Ol);e.memoizedProps=e.pendingProps,null===t?ws(e):zl=t,Tl.current=null}function ws(e){var t=e;do{var n=t.alternate;if(e=t.return,0==(32768&t.flags)){if(null!==(n=Yu(n,t,Ol)))return void(zl=n)}else{if(null!==(n=Gu(n,t)))return n.flags&=32767,void(zl=n);if(null===e)return Fl=6,void(zl=null);e.flags|=32768,e.subtreeFlags=0,e.deletions=null}if(null!==(t=t.sibling))return void(zl=t);zl=t=e}while(null!==t);0===Fl&&(Fl=5)}function xs(e,t,n){var r=bt,a=Ml.transition;try{Ml.transition=null,bt=1,function(e,t,n,r){do{ks()}while(null!==Gl);if(0!=(6&Nl))throw Error(i(327));n=e.finishedWork;var a=e.finishedLanes;if(null===n)return null;if(e.finishedWork=null,e.finishedLanes=0,n===e.current)throw Error(i(177));e.callbackNode=null,e.callbackPriority=0;var o=n.lanes|n.childLanes;if(function(e,t){var n=e.pendingLanes&~t;e.pendingLanes=t,e.suspendedLanes=0,e.pingedLanes=0,e.expiredLanes&=t,e.mutableReadLanes&=t,e.entangledLanes&=t,t=e.entanglements;var r=e.eventTimes;for(e=e.expirationTimes;0<n;){var a=31-ot(n),i=1<<a;t[a]=0,r[a]=-1,e[a]=-1,n&=~i}}(e,o),e===Pl&&(zl=Pl=null,Ll=0),0==(2064&n.subtreeFlags)&&0==(2064&n.flags)||Yl||(Yl=!0,Ps(tt,(function(){return ks(),null}))),o=0!=(15990&n.flags),0!=(15990&n.subtreeFlags)||o){o=Ml.transition,Ml.transition=null;var u=bt;bt=1;var l=Nl;Nl|=4,Tl.current=null,function(e,t){if(ea=Vt,dr(e=pr())){if(\"selectionStart\"in e)var n={start:e.selectionStart,end:e.selectionEnd};else e:{var r=(n=(n=e.ownerDocument)&&n.defaultView||window).getSelection&&n.getSelection();if(r&&0!==r.rangeCount){n=r.anchorNode;var a=r.anchorOffset,o=r.focusNode;r=r.focusOffset;try{n.nodeType,o.nodeType}catch(e){n=null;break e}var u=0,l=-1,s=-1,c=0,f=0,p=e,d=null;t:for(;;){for(var h;p!==n||0!==a&&3!==p.nodeType||(l=u+a),p!==o||0!==r&&3!==p.nodeType||(s=u+r),3===p.nodeType&&(u+=p.nodeValue.length),null!==(h=p.firstChild);)d=p,p=h;for(;;){if(p===e)break t;if(d===n&&++c===a&&(l=u),d===o&&++f===r&&(s=u),null!==(h=p.nextSibling))break;d=(p=d).parentNode}p=h}n=-1===l||-1===s?null:{start:l,end:s}}else n=null}n=n||{start:0,end:0}}else n=null;for(ta={focusedElem:e,selectionRange:n},Vt=!1,Ju=t;null!==Ju;)if(e=(t=Ju).child,0!=(1028&t.subtreeFlags)&&null!==e)e.return=t,Ju=e;else for(;null!==Ju;){t=Ju;try{var v=t.alternate;if(0!=(1024&t.flags))switch(t.tag){case 0:case 11:case 15:case 5:case 6:case 4:case 17:break;case 1:if(null!==v){var g=v.memoizedProps,y=v.memoizedState,m=t.stateNode,b=m.getSnapshotBeforeUpdate(t.elementType===t.type?g:gi(t.type,g),y);m.__reactInternalSnapshotBeforeUpdate=b}break;case 3:var _=t.stateNode.containerInfo;1===_.nodeType?_.textContent=\"\":9===_.nodeType&&_.documentElement&&_.removeChild(_.documentElement);break;default:throw Error(i(163))}}catch(e){Es(t,t.return,e)}if(null!==(e=t.sibling)){e.return=t.return,Ju=e;break}Ju=t.return}v=nl,nl=!1}(e,n),yl(n,e),hr(ta),Vt=!!ea,ta=ea=null,e.current=n,bl(n,e,a),Ke(),Nl=l,bt=u,Ml.transition=o}else e.current=n;if(Yl&&(Yl=!1,Gl=e,Kl=a),0===(o=e.pendingLanes)&&(Ql=null),function(e){if(it&&\"function\"==typeof it.onCommitFiberRoot)try{it.onCommitFiberRoot(at,e,void 0,128==(128&e.current.flags))}catch(e){}}(n.stateNode),as(e,Ze()),null!==t)for(r=e.onRecoverableError,n=0;n<t.length;n++)r((a=t[n]).value,{componentStack:a.stack,digest:a.digest});if(Hl)throw Hl=!1,e=ql,ql=null,e;0!=(1&Kl)&&0!==e.tag&&ks(),0!=(1&(o=e.pendingLanes))?e===Xl?Zl++:(Zl=0,Xl=e):Zl=0,Ba()}(e,t,n,r)}finally{Ml.transition=a,bt=r}return null}function ks(){if(null!==Gl){var e=_t(Kl),t=Ml.transition,n=bt;try{if(Ml.transition=null,bt=16>e?16:e,null===Gl)var r=!1;else{if(e=Gl,Gl=null,Kl=0,0!=(6&Nl))throw Error(i(331));var a=Nl;for(Nl|=4,Ju=e.current;null!==Ju;){var o=Ju,u=o.child;if(0!=(16&Ju.flags)){var l=o.deletions;if(null!==l){for(var s=0;s<l.length;s++){var c=l[s];for(Ju=c;null!==Ju;){var f=Ju;switch(f.tag){case 0:case 11:case 15:rl(8,f,o)}var p=f.child;if(null!==p)p.return=f,Ju=p;else for(;null!==Ju;){var d=(f=Ju).sibling,h=f.return;if(ol(f),f===c){Ju=null;break}if(null!==d){d.return=h,Ju=d;break}Ju=h}}}var v=o.alternate;if(null!==v){var g=v.child;if(null!==g){v.child=null;do{var y=g.sibling;g.sibling=null,g=y}while(null!==g)}}Ju=o}}if(0!=(2064&o.subtreeFlags)&&null!==u)u.return=o,Ju=u;else e:for(;null!==Ju;){if(0!=(2048&(o=Ju).flags))switch(o.tag){case 0:case 11:case 15:rl(9,o,o.return)}var m=o.sibling;if(null!==m){m.return=o.return,Ju=m;break e}Ju=o.return}}var b=e.current;for(Ju=b;null!==Ju;){var _=(u=Ju).child;if(0!=(2064&u.subtreeFlags)&&null!==_)_.return=u,Ju=_;else e:for(u=b;null!==Ju;){if(0!=(2048&(l=Ju).flags))try{switch(l.tag){case 0:case 11:case 15:al(9,l)}}catch(e){Es(l,l.return,e)}if(l===u){Ju=null;break e}var w=l.sibling;if(null!==w){w.return=l.return,Ju=w;break e}Ju=l.return}}if(Nl=a,Ba(),it&&\"function\"==typeof it.onPostCommitFiberRoot)try{it.onPostCommitFiberRoot(at,e)}catch(e){}r=!0}return r}finally{bt=n,Ml.transition=t}}return!1}function Ss(e,t,n){e=Ai(e,t=hu(0,t=cu(n,t),1),1),t=ts(),null!==e&&(yt(e,1,t),as(e,t))}function Es(e,t,n){if(3===e.tag)Ss(e,e,n);else for(;null!==t;){if(3===t.tag){Ss(t,e,n);break}if(1===t.tag){var r=t.stateNode;if(\"function\"==typeof t.type.getDerivedStateFromError||\"function\"==typeof r.componentDidCatch&&(null===Ql||!Ql.has(r))){t=Ai(t,e=vu(t,e=cu(n,e),1),1),e=ts(),null!==t&&(yt(t,1,e),as(t,e));break}}t=t.return}}function Cs(e,t,n){var r=e.pingCache;null!==r&&r.delete(t),t=ts(),e.pingedLanes|=e.suspendedLanes&n,Pl===e&&(Ll&n)===n&&(4===Fl||3===Fl&&(130023424&Ll)===Ll&&500>Ze()-Bl?ds(e,0):Ul|=n),as(e,t)}function Ts(e,t){0===t&&(0==(1&e.mode)?t=1:(t=ct,0==(130023424&(ct<<=1))&&(ct=4194304)));var n=ts();null!==(e=Ni(e,t))&&(yt(e,t,n),as(e,n))}function Ms(e){var t=e.memoizedState,n=0;null!==t&&(n=t.retryLane),Ts(e,n)}function Ns(e,t){var n=0;switch(e.tag){case 13:var r=e.stateNode,a=e.memoizedState;null!==a&&(n=a.retryLane);break;case 19:r=e.stateNode;break;default:throw Error(i(314))}null!==r&&r.delete(t),Ts(e,n)}function Ps(e,t){return Qe(e,t)}function zs(e,t,n,r){this.tag=e,this.key=n,this.sibling=this.child=this.return=this.stateNode=this.type=this.elementType=null,this.index=0,this.ref=null,this.pendingProps=t,this.dependencies=this.memoizedState=this.updateQueue=this.memoizedProps=null,this.mode=r,this.subtreeFlags=this.flags=0,this.deletions=null,this.childLanes=this.lanes=0,this.alternate=null}function Ls(e,t,n,r){return new zs(e,t,n,r)}function Os(e){return!(!(e=e.prototype)||!e.isReactComponent)}function As(e,t){var n=e.alternate;return null===n?((n=Ls(e.tag,t,e.key,e.mode)).elementType=e.elementType,n.type=e.type,n.stateNode=e.stateNode,n.alternate=e,e.alternate=n):(n.pendingProps=t,n.type=e.type,n.flags=0,n.subtreeFlags=0,n.deletions=null),n.flags=14680064&e.flags,n.childLanes=e.childLanes,n.lanes=e.lanes,n.child=e.child,n.memoizedProps=e.memoizedProps,n.memoizedState=e.memoizedState,n.updateQueue=e.updateQueue,t=e.dependencies,n.dependencies=null===t?null:{lanes:t.lanes,firstContext:t.firstContext},n.sibling=e.sibling,n.index=e.index,n.ref=e.ref,n}function Fs(e,t,n,r,a,o){var u=2;if(r=e,\"function\"==typeof e)Os(e)&&(u=1);else if(\"string\"==typeof e)u=5;else e:switch(e){case k:return Ds(n.children,a,o,t);case S:u=8,a|=8;break;case E:return(e=Ls(12,n,t,2|a)).elementType=E,e.lanes=o,e;case N:return(e=Ls(13,n,t,a)).elementType=N,e.lanes=o,e;case P:return(e=Ls(19,n,t,a)).elementType=P,e.lanes=o,e;case O:return Rs(n,a,o,t);default:if(\"object\"==typeof e&&null!==e)switch(e.$$typeof){case C:u=10;break e;case T:u=9;break e;case M:u=11;break e;case z:u=14;break e;case L:u=16,r=null;break e}throw Error(i(130,null==e?e:typeof e,\"\"))}return(t=Ls(u,n,t,a)).elementType=e,t.type=r,t.lanes=o,t}function Ds(e,t,n,r){return(e=Ls(7,e,r,t)).lanes=n,e}function Rs(e,t,n,r){return(e=Ls(22,e,r,t)).elementType=O,e.lanes=n,e.stateNode={isHidden:!1},e}function js(e,t,n){return(e=Ls(6,e,null,t)).lanes=n,e}function Us(e,t,n){return(t=Ls(4,null!==e.children?e.children:[],e.key,t)).lanes=n,t.stateNode={containerInfo:e.containerInfo,pendingChildren:null,implementation:e.implementation},t}function Is(e,t,n,r,a){this.tag=t,this.containerInfo=e,this.finishedWork=this.pingCache=this.current=this.pendingChildren=null,this.timeoutHandle=-1,this.callbackNode=this.pendingContext=this.context=null,this.callbackPriority=0,this.eventTimes=gt(0),this.expirationTimes=gt(-1),this.entangledLanes=this.finishedLanes=this.mutableReadLanes=this.expiredLanes=this.pingedLanes=this.suspendedLanes=this.pendingLanes=0,this.entanglements=gt(0),this.identifierPrefix=r,this.onRecoverableError=a,this.mutableSourceEagerHydrationData=null}function $s(e,t,n,r,a,i,o,u,l){return e=new Is(e,t,n,u,l),1===t?(t=1,!0===i&&(t|=8)):t=0,i=Ls(3,null,null,t),e.current=i,i.stateNode=e,i.memoizedState={element:r,isDehydrated:n,cache:null,transitions:null,pendingSuspenseBoundaries:null},zi(i),e}function Bs(e){if(!e)return Ta;e:{if(Be(e=e._reactInternals)!==e||1!==e.tag)throw Error(i(170));var t=e;do{switch(t.tag){case 3:t=t.stateNode.context;break e;case 1:if(La(t.type)){t=t.stateNode.__reactInternalMemoizedMergedChildContext;break e}}t=t.return}while(null!==t);throw Error(i(171))}if(1===e.tag){var n=e.type;if(La(n))return Fa(e,n,t)}return t}function Ws(e,t,n,r,a,i,o,u,l){return(e=$s(n,r,!0,e,0,i,0,u,l)).context=Bs(null),n=e.current,(i=Oi(r=ts(),a=ns(n))).callback=null!=t?t:null,Ai(n,i,a),e.current.lanes=a,yt(e,a,r),as(e,r),e}function Vs(e,t,n,r){var a=t.current,i=ts(),o=ns(a);return n=Bs(n),null===t.context?t.context=n:t.pendingContext=n,(t=Oi(i,o)).payload={element:e},null!==(r=void 0===r?null:r)&&(t.callback=r),null!==(e=Ai(a,t,o))&&(rs(e,a,o,i),Fi(e,a,o)),o}function Hs(e){return(e=e.current).child?(e.child.tag,e.child.stateNode):null}function qs(e,t){if(null!==(e=e.memoizedState)&&null!==e.dehydrated){var n=e.retryLane;e.retryLane=0!==n&&n<t?n:t}}function Qs(e,t){qs(e,t),(e=e.alternate)&&qs(e,t)}Sl=function(e,t,n){if(null!==e)if(e.memoizedProps!==t.pendingProps||Na.current)_u=!0;else{if(0==(e.lanes&n)&&0==(128&t.flags))return _u=!1,function(e,t,n){switch(t.tag){case 3:Pu(t),di();break;case 5:io(t);break;case 1:La(t.type)&&Da(t);break;case 4:ro(t,t.stateNode.containerInfo);break;case 10:var r=t.type._context,a=t.memoizedProps.value;Ca(yi,r._currentValue),r._currentValue=a;break;case 13:if(null!==(r=t.memoizedState))return null!==r.dehydrated?(Ca(uo,1&uo.current),t.flags|=128,null):0!=(n&t.child.childLanes)?ju(e,t,n):(Ca(uo,1&uo.current),null!==(e=Hu(e,t,n))?e.sibling:null);Ca(uo,1&uo.current);break;case 19:if(r=0!=(n&t.childLanes),0!=(128&e.flags)){if(r)return Wu(e,t,n);t.flags|=128}if(null!==(a=t.memoizedState)&&(a.rendering=null,a.tail=null,a.lastEffect=null),Ca(uo,uo.current),r)break;return null;case 22:case 23:return t.lanes=0,Eu(e,t,n)}return Hu(e,t,n)}(e,t,n);_u=0!=(131072&e.flags)}else _u=!1,ai&&0!=(1048576&t.flags)&&Ja(t,qa,t.index);switch(t.lanes=0,t.tag){case 2:var r=t.type;Vu(e,t),e=t.pendingProps;var a=za(t,Ma.current);Si(t,n),a=So(null,t,r,e,a,n);var o=Eo();return t.flags|=1,\"object\"==typeof a&&null!==a&&\"function\"==typeof a.render&&void 0===a.$$typeof?(t.tag=1,t.memoizedState=null,t.updateQueue=null,La(r)?(o=!0,Da(t)):o=!1,t.memoizedState=null!==a.state&&void 0!==a.state?a.state:null,zi(t),a.updater=$i,t.stateNode=a,a._reactInternals=t,Hi(t,r,e,n),t=Nu(null,t,r,!0,o,n)):(t.tag=0,ai&&o&&ei(t),wu(null,t,a,n),t=t.child),t;case 16:r=t.elementType;e:{switch(Vu(e,t),e=t.pendingProps,r=(a=r._init)(r._payload),t.type=r,a=t.tag=function(e){if(\"function\"==typeof e)return Os(e)?1:0;if(null!=e){if((e=e.$$typeof)===M)return 11;if(e===z)return 14}return 2}(r),e=gi(r,e),a){case 0:t=Tu(null,t,r,e,n);break e;case 1:t=Mu(null,t,r,e,n);break e;case 11:t=xu(null,t,r,e,n);break e;case 14:t=ku(null,t,r,gi(r.type,e),n);break e}throw Error(i(306,r,\"\"))}return t;case 0:return r=t.type,a=t.pendingProps,Tu(e,t,r,a=t.elementType===r?a:gi(r,a),n);case 1:return r=t.type,a=t.pendingProps,Mu(e,t,r,a=t.elementType===r?a:gi(r,a),n);case 3:e:{if(Pu(t),null===e)throw Error(i(387));r=t.pendingProps,a=(o=t.memoizedState).element,Li(e,t),Ri(t,r,null,n);var u=t.memoizedState;if(r=u.element,o.isDehydrated){if(o={element:r,isDehydrated:!1,cache:u.cache,pendingSuspenseBoundaries:u.pendingSuspenseBoundaries,transitions:u.transitions},t.updateQueue.baseState=o,t.memoizedState=o,256&t.flags){t=zu(e,t,r,n,a=cu(Error(i(423)),t));break e}if(r!==a){t=zu(e,t,r,n,a=cu(Error(i(424)),t));break e}for(ri=sa(t.stateNode.containerInfo.firstChild),ni=t,ai=!0,ii=null,n=Zi(t,null,r,n),t.child=n;n;)n.flags=-3&n.flags|4096,n=n.sibling}else{if(di(),r===a){t=Hu(e,t,n);break e}wu(e,t,r,n)}t=t.child}return t;case 5:return io(t),null===e&&si(t),r=t.type,a=t.pendingProps,o=null!==e?e.memoizedProps:null,u=a.children,na(r,a)?u=null:null!==o&&na(r,o)&&(t.flags|=32),Cu(e,t),wu(e,t,u,n),t.child;case 6:return null===e&&si(t),null;case 13:return ju(e,t,n);case 4:return ro(t,t.stateNode.containerInfo),r=t.pendingProps,null===e?t.child=Ki(t,null,r,n):wu(e,t,r,n),t.child;case 11:return r=t.type,a=t.pendingProps,xu(e,t,r,a=t.elementType===r?a:gi(r,a),n);case 7:return wu(e,t,t.pendingProps,n),t.child;case 8:case 12:return wu(e,t,t.pendingProps.children,n),t.child;case 10:e:{if(r=t.type._context,a=t.pendingProps,o=t.memoizedProps,u=a.value,Ca(yi,r._currentValue),r._currentValue=u,null!==o)if(ur(o.value,u)){if(o.children===a.children&&!Na.current){t=Hu(e,t,n);break e}}else for(null!==(o=t.child)&&(o.return=t);null!==o;){var l=o.dependencies;if(null!==l){u=o.child;for(var s=l.firstContext;null!==s;){if(s.context===r){if(1===o.tag){(s=Oi(-1,n&-n)).tag=2;var c=o.updateQueue;if(null!==c){var f=(c=c.shared).pending;null===f?s.next=s:(s.next=f.next,f.next=s),c.pending=s}}o.lanes|=n,null!==(s=o.alternate)&&(s.lanes|=n),ki(o.return,n,t),l.lanes|=n;break}s=s.next}}else if(10===o.tag)u=o.type===t.type?null:o.child;else if(18===o.tag){if(null===(u=o.return))throw Error(i(341));u.lanes|=n,null!==(l=u.alternate)&&(l.lanes|=n),ki(u,n,t),u=o.sibling}else u=o.child;if(null!==u)u.return=o;else for(u=o;null!==u;){if(u===t){u=null;break}if(null!==(o=u.sibling)){o.return=u.return,u=o;break}u=u.return}o=u}wu(e,t,a.children,n),t=t.child}return t;case 9:return a=t.type,r=t.pendingProps.children,Si(t,n),r=r(a=Ei(a)),t.flags|=1,wu(e,t,r,n),t.child;case 14:return a=gi(r=t.type,t.pendingProps),ku(e,t,r,a=gi(r.type,a),n);case 15:return Su(e,t,t.type,t.pendingProps,n);case 17:return r=t.type,a=t.pendingProps,a=t.elementType===r?a:gi(r,a),Vu(e,t),t.tag=1,La(r)?(e=!0,Da(t)):e=!1,Si(t,n),Wi(t,r,a),Hi(t,r,a,n),Nu(null,t,r,!0,e,n);case 19:return Wu(e,t,n);case 22:return Eu(e,t,n)}throw Error(i(156,t.tag))};var Ys=\"function\"==typeof reportError?reportError:function(e){console.error(e)};function Gs(e){this._internalRoot=e}function Ks(e){this._internalRoot=e}function Zs(e){return!(!e||1!==e.nodeType&&9!==e.nodeType&&11!==e.nodeType)}function Xs(e){return!(!e||1!==e.nodeType&&9!==e.nodeType&&11!==e.nodeType&&(8!==e.nodeType||\" react-mount-point-unstable \"!==e.nodeValue))}function Js(){}function ec(e,t,n,r,a){var i=n._reactRootContainer;if(i){var o=i;if(\"function\"==typeof a){var u=a;a=function(){var e=Hs(o);u.call(e)}}Vs(t,o,e,a)}else o=function(e,t,n,r,a){if(a){if(\"function\"==typeof r){var i=r;r=function(){var e=Hs(o);i.call(e)}}var o=Ws(t,r,e,0,null,!1,0,\"\",Js);return e._reactRootContainer=o,e[ha]=o.current,Br(8===e.nodeType?e.parentNode:e),fs(),o}for(;a=e.lastChild;)e.removeChild(a);if(\"function\"==typeof r){var u=r;r=function(){var e=Hs(l);u.call(e)}}var l=$s(e,0,!1,null,0,!1,0,\"\",Js);return e._reactRootContainer=l,e[ha]=l.current,Br(8===e.nodeType?e.parentNode:e),fs((function(){Vs(t,l,n,r)})),l}(n,t,e,a,r);return Hs(o)}Ks.prototype.render=Gs.prototype.render=function(e){var t=this._internalRoot;if(null===t)throw Error(i(409));Vs(e,t,null,null)},Ks.prototype.unmount=Gs.prototype.unmount=function(){var e=this._internalRoot;if(null!==e){this._internalRoot=null;var t=e.containerInfo;fs((function(){Vs(null,e,null,null)})),t[ha]=null}},Ks.prototype.unstable_scheduleHydration=function(e){if(e){var t=St();e={blockedOn:null,target:e,priority:t};for(var n=0;n<Ot.length&&0!==t&&t<Ot[n].priority;n++);Ot.splice(n,0,e),0===n&&Rt(e)}},wt=function(e){switch(e.tag){case 3:var t=e.stateNode;if(t.current.memoizedState.isDehydrated){var n=ft(t.pendingLanes);0!==n&&(mt(t,1|n),as(t,Ze()),0==(6&Nl)&&(Wl=Ze()+500,Ba()))}break;case 13:fs((function(){var t=Ni(e,1);if(null!==t){var n=ts();rs(t,e,1,n)}})),Qs(e,1)}},xt=function(e){if(13===e.tag){var t=Ni(e,134217728);null!==t&&rs(t,e,134217728,ts()),Qs(e,134217728)}},kt=function(e){if(13===e.tag){var t=ns(e),n=Ni(e,t);null!==n&&rs(n,e,t,ts()),Qs(e,t)}},St=function(){return bt},Et=function(e,t){var n=bt;try{return bt=e,t()}finally{bt=n}},xe=function(e,t,n){switch(t){case\"input\":if(X(e,n),t=n.name,\"radio\"===n.type&&null!=t){for(n=e;n.parentNode;)n=n.parentNode;for(n=n.querySelectorAll(\"input[name=\"+JSON.stringify(\"\"+t)+'][type=\"radio\"]'),t=0;t<n.length;t++){var r=n[t];if(r!==e&&r.form===e.form){var a=wa(r);if(!a)throw Error(i(90));Q(r),X(r,a)}}}break;case\"textarea\":ie(e,n);break;case\"select\":null!=(t=n.value)&&ne(e,!!n.multiple,t,!1)}},Me=cs,Ne=fs;var tc={usingClientEntryPoint:!1,Events:[ba,_a,wa,Ce,Te,cs]},nc={findFiberByHostInstance:ma,bundleType:0,version:\"18.2.0\",rendererPackageName:\"react-dom\"},rc={bundleType:nc.bundleType,version:nc.version,rendererPackageName:nc.rendererPackageName,rendererConfig:nc.rendererConfig,overrideHookState:null,overrideHookStateDeletePath:null,overrideHookStateRenamePath:null,overrideProps:null,overridePropsDeletePath:null,overridePropsRenamePath:null,setErrorHandler:null,setSuspenseHandler:null,scheduleUpdate:null,currentDispatcherRef:_.ReactCurrentDispatcher,findHostInstanceByFiber:function(e){return null===(e=He(e))?null:e.stateNode},findFiberByHostInstance:nc.findFiberByHostInstance||function(){return null},findHostInstancesForRefresh:null,scheduleRefresh:null,scheduleRoot:null,setRefreshHandler:null,getCurrentFiber:null,reconcilerVersion:\"18.2.0-next-9e3b772b8-20220608\"};if(\"undefined\"!=typeof __REACT_DEVTOOLS_GLOBAL_HOOK__){var ac=__REACT_DEVTOOLS_GLOBAL_HOOK__;if(!ac.isDisabled&&ac.supportsFiber)try{at=ac.inject(rc),it=ac}catch(ce){}}t.__SECRET_INTERNALS_DO_NOT_USE_OR_YOU_WILL_BE_FIRED=tc,t.createPortal=function(e,t){var n=2<arguments.length&&void 0!==arguments[2]?arguments[2]:null;if(!Zs(t))throw Error(i(200));return function(e,t,n){var r=3<arguments.length&&void 0!==arguments[3]?arguments[3]:null;return{$$typeof:x,key:null==r?null:\"\"+r,children:e,containerInfo:t,implementation:n}}(e,t,null,n)},t.createRoot=function(e,t){if(!Zs(e))throw Error(i(299));var n=!1,r=\"\",a=Ys;return null!=t&&(!0===t.unstable_strictMode&&(n=!0),void 0!==t.identifierPrefix&&(r=t.identifierPrefix),void 0!==t.onRecoverableError&&(a=t.onRecoverableError)),t=$s(e,1,!1,null,0,n,0,r,a),e[ha]=t.current,Br(8===e.nodeType?e.parentNode:e),new Gs(t)},t.findDOMNode=function(e){if(null==e)return null;if(1===e.nodeType)return e;var t=e._reactInternals;if(void 0===t){if(\"function\"==typeof e.render)throw Error(i(188));throw e=Object.keys(e).join(\",\"),Error(i(268,e))}return null===(e=He(t))?null:e.stateNode},t.flushSync=function(e){return fs(e)},t.hydrate=function(e,t,n){if(!Xs(t))throw Error(i(200));return ec(null,e,t,!0,n)},t.hydrateRoot=function(e,t,n){if(!Zs(e))throw Error(i(405));var r=null!=n&&n.hydratedSources||null,a=!1,o=\"\",u=Ys;if(null!=n&&(!0===n.unstable_strictMode&&(a=!0),void 0!==n.identifierPrefix&&(o=n.identifierPrefix),void 0!==n.onRecoverableError&&(u=n.onRecoverableError)),t=Ws(t,null,e,1,null!=n?n:null,a,0,o,u),e[ha]=t.current,Br(e),r)for(e=0;e<r.length;e++)a=(a=(n=r[e])._getVersion)(n._source),null==t.mutableSourceEagerHydrationData?t.mutableSourceEagerHydrationData=[n,a]:t.mutableSourceEagerHydrationData.push(n,a);return new Ks(t)},t.render=function(e,t,n){if(!Xs(t))throw Error(i(200));return ec(null,e,t,!1,n)},t.unmountComponentAtNode=function(e){if(!Xs(e))throw Error(i(40));return!!e._reactRootContainer&&(fs((function(){ec(null,null,e,!1,(function(){e._reactRootContainer=null,e[ha]=null}))})),!0)},t.unstable_batchedUpdates=cs,t.unstable_renderSubtreeIntoContainer=function(e,t,n,r){if(!Xs(n))throw Error(i(200));if(null==e||void 0===e._reactInternals)throw Error(i(38));return ec(e,t,n,!1,r)},t.version=\"18.2.0-next-9e3b772b8-20220608\"},935:(e,t,n)=>{\"use strict\";!function e(){if(\"undefined\"!=typeof __REACT_DEVTOOLS_GLOBAL_HOOK__&&\"function\"==typeof __REACT_DEVTOOLS_GLOBAL_HOOK__.checkDCE)try{__REACT_DEVTOOLS_GLOBAL_HOOK__.checkDCE(e)}catch(e){console.error(e)}}(),e.exports=n(448)},408:(e,t)=>{\"use strict\";var n=Symbol.for(\"react.element\"),r=Symbol.for(\"react.portal\"),a=Symbol.for(\"react.fragment\"),i=Symbol.for(\"react.strict_mode\"),o=Symbol.for(\"react.profiler\"),u=Symbol.for(\"react.provider\"),l=Symbol.for(\"react.context\"),s=Symbol.for(\"react.forward_ref\"),c=Symbol.for(\"react.suspense\"),f=Symbol.for(\"react.memo\"),p=Symbol.for(\"react.lazy\"),d=Symbol.iterator,h={isMounted:function(){return!1},enqueueForceUpdate:function(){},enqueueReplaceState:function(){},enqueueSetState:function(){}},v=Object.assign,g={};function y(e,t,n){this.props=e,this.context=t,this.refs=g,this.updater=n||h}function m(){}function b(e,t,n){this.props=e,this.context=t,this.refs=g,this.updater=n||h}y.prototype.isReactComponent={},y.prototype.setState=function(e,t){if(\"object\"!=typeof e&&\"function\"!=typeof e&&null!=e)throw Error(\"setState(...): takes an object of state variables to update or a function which returns an object of state variables.\");this.updater.enqueueSetState(this,e,t,\"setState\")},y.prototype.forceUpdate=function(e){this.updater.enqueueForceUpdate(this,e,\"forceUpdate\")},m.prototype=y.prototype;var _=b.prototype=new m;_.constructor=b,v(_,y.prototype),_.isPureReactComponent=!0;var w=Array.isArray,x=Object.prototype.hasOwnProperty,k={current:null},S={key:!0,ref:!0,__self:!0,__source:!0};function E(e,t,r){var a,i={},o=null,u=null;if(null!=t)for(a in void 0!==t.ref&&(u=t.ref),void 0!==t.key&&(o=\"\"+t.key),t)x.call(t,a)&&!S.hasOwnProperty(a)&&(i[a]=t[a]);var l=arguments.length-2;if(1===l)i.children=r;else if(1<l){for(var s=Array(l),c=0;c<l;c++)s[c]=arguments[c+2];i.children=s}if(e&&e.defaultProps)for(a in l=e.defaultProps)void 0===i[a]&&(i[a]=l[a]);return{$$typeof:n,type:e,key:o,ref:u,props:i,_owner:k.current}}function C(e){return\"object\"==typeof e&&null!==e&&e.$$typeof===n}var T=/\\/+/g;function M(e,t){return\"object\"==typeof e&&null!==e&&null!=e.key?function(e){var t={\"=\":\"=0\",\":\":\"=2\"};return\"$\"+e.replace(/[=:]/g,(function(e){return t[e]}))}(\"\"+e.key):t.toString(36)}function N(e,t,a,i,o){var u=typeof e;\"undefined\"!==u&&\"boolean\"!==u||(e=null);var l=!1;if(null===e)l=!0;else switch(u){case\"string\":case\"number\":l=!0;break;case\"object\":switch(e.$$typeof){case n:case r:l=!0}}if(l)return o=o(l=e),e=\"\"===i?\".\"+M(l,0):i,w(o)?(a=\"\",null!=e&&(a=e.replace(T,\"$&/\")+\"/\"),N(o,t,a,\"\",(function(e){return e}))):null!=o&&(C(o)&&(o=function(e,t){return{$$typeof:n,type:e.type,key:t,ref:e.ref,props:e.props,_owner:e._owner}}(o,a+(!o.key||l&&l.key===o.key?\"\":(\"\"+o.key).replace(T,\"$&/\")+\"/\")+e)),t.push(o)),1;if(l=0,i=\"\"===i?\".\":i+\":\",w(e))for(var s=0;s<e.length;s++){var c=i+M(u=e[s],s);l+=N(u,t,a,c,o)}else if(c=function(e){return null===e||\"object\"!=typeof e?null:\"function\"==typeof(e=d&&e[d]||e[\"@@iterator\"])?e:null}(e),\"function\"==typeof c)for(e=c.call(e),s=0;!(u=e.next()).done;)l+=N(u=u.value,t,a,c=i+M(u,s++),o);else if(\"object\"===u)throw t=String(e),Error(\"Objects are not valid as a React child (found: \"+(\"[object Object]\"===t?\"object with keys {\"+Object.keys(e).join(\", \")+\"}\":t)+\"). If you meant to render a collection of children, use an array instead.\");return l}function P(e,t,n){if(null==e)return e;var r=[],a=0;return N(e,r,\"\",\"\",(function(e){return t.call(n,e,a++)})),r}function z(e){if(-1===e._status){var t=e._result;(t=t()).then((function(t){0!==e._status&&-1!==e._status||(e._status=1,e._result=t)}),(function(t){0!==e._status&&-1!==e._status||(e._status=2,e._result=t)})),-1===e._status&&(e._status=0,e._result=t)}if(1===e._status)return e._result.default;throw e._result}var L={current:null},O={transition:null},A={ReactCurrentDispatcher:L,ReactCurrentBatchConfig:O,ReactCurrentOwner:k};t.Children={map:P,forEach:function(e,t,n){P(e,(function(){t.apply(this,arguments)}),n)},count:function(e){var t=0;return P(e,(function(){t++})),t},toArray:function(e){return P(e,(function(e){return e}))||[]},only:function(e){if(!C(e))throw Error(\"React.Children.only expected to receive a single React element child.\");return e}},t.Component=y,t.Fragment=a,t.Profiler=o,t.PureComponent=b,t.StrictMode=i,t.Suspense=c,t.__SECRET_INTERNALS_DO_NOT_USE_OR_YOU_WILL_BE_FIRED=A,t.cloneElement=function(e,t,r){if(null==e)throw Error(\"React.cloneElement(...): The argument must be a React element, but you passed \"+e+\".\");var a=v({},e.props),i=e.key,o=e.ref,u=e._owner;if(null!=t){if(void 0!==t.ref&&(o=t.ref,u=k.current),void 0!==t.key&&(i=\"\"+t.key),e.type&&e.type.defaultProps)var l=e.type.defaultProps;for(s in t)x.call(t,s)&&!S.hasOwnProperty(s)&&(a[s]=void 0===t[s]&&void 0!==l?l[s]:t[s])}var s=arguments.length-2;if(1===s)a.children=r;else if(1<s){l=Array(s);for(var c=0;c<s;c++)l[c]=arguments[c+2];a.children=l}return{$$typeof:n,type:e.type,key:i,ref:o,props:a,_owner:u}},t.createContext=function(e){return(e={$$typeof:l,_currentValue:e,_currentValue2:e,_threadCount:0,Provider:null,Consumer:null,_defaultValue:null,_globalName:null}).Provider={$$typeof:u,_context:e},e.Consumer=e},t.createElement=E,t.createFactory=function(e){var t=E.bind(null,e);return t.type=e,t},t.createRef=function(){return{current:null}},t.forwardRef=function(e){return{$$typeof:s,render:e}},t.isValidElement=C,t.lazy=function(e){return{$$typeof:p,_payload:{_status:-1,_result:e},_init:z}},t.memo=function(e,t){return{$$typeof:f,type:e,compare:void 0===t?null:t}},t.startTransition=function(e){var t=O.transition;O.transition={};try{e()}finally{O.transition=t}},t.unstable_act=function(){throw Error(\"act(...) is not supported in production builds of React.\")},t.useCallback=function(e,t){return L.current.useCallback(e,t)},t.useContext=function(e){return L.current.useContext(e)},t.useDebugValue=function(){},t.useDeferredValue=function(e){return L.current.useDeferredValue(e)},t.useEffect=function(e,t){return L.current.useEffect(e,t)},t.useId=function(){return L.current.useId()},t.useImperativeHandle=function(e,t,n){return L.current.useImperativeHandle(e,t,n)},t.useInsertionEffect=function(e,t){return L.current.useInsertionEffect(e,t)},t.useLayoutEffect=function(e,t){return L.current.useLayoutEffect(e,t)},t.useMemo=function(e,t){return L.current.useMemo(e,t)},t.useReducer=function(e,t,n){return L.current.useReducer(e,t,n)},t.useRef=function(e){return L.current.useRef(e)},t.useState=function(e){return L.current.useState(e)},t.useSyncExternalStore=function(e,t,n){return L.current.useSyncExternalStore(e,t,n)},t.useTransition=function(){return L.current.useTransition()},t.version=\"18.2.0\"},294:(e,t,n)=>{\"use strict\";e.exports=n(408)},53:(e,t)=>{\"use strict\";function n(e,t){var n=e.length;e.push(t);e:for(;0<n;){var r=n-1>>>1,a=e[r];if(!(0<i(a,t)))break e;e[r]=t,e[n]=a,n=r}}function r(e){return 0===e.length?null:e[0]}function a(e){if(0===e.length)return null;var t=e[0],n=e.pop();if(n!==t){e[0]=n;e:for(var r=0,a=e.length,o=a>>>1;r<o;){var u=2*(r+1)-1,l=e[u],s=u+1,c=e[s];if(0>i(l,n))s<a&&0>i(c,l)?(e[r]=c,e[s]=n,r=s):(e[r]=l,e[u]=n,r=u);else{if(!(s<a&&0>i(c,n)))break e;e[r]=c,e[s]=n,r=s}}}return t}function i(e,t){var n=e.sortIndex-t.sortIndex;return 0!==n?n:e.id-t.id}if(\"object\"==typeof performance&&\"function\"==typeof performance.now){var o=performance;t.unstable_now=function(){return o.now()}}else{var u=Date,l=u.now();t.unstable_now=function(){return u.now()-l}}var s=[],c=[],f=1,p=null,d=3,h=!1,v=!1,g=!1,y=\"function\"==typeof setTimeout?setTimeout:null,m=\"function\"==typeof clearTimeout?clearTimeout:null,b=\"undefined\"!=typeof setImmediate?setImmediate:null;function _(e){for(var t=r(c);null!==t;){if(null===t.callback)a(c);else{if(!(t.startTime<=e))break;a(c),t.sortIndex=t.expirationTime,n(s,t)}t=r(c)}}function w(e){if(g=!1,_(e),!v)if(null!==r(s))v=!0,O(x);else{var t=r(c);null!==t&&A(w,t.startTime-e)}}function x(e,n){v=!1,g&&(g=!1,m(C),C=-1),h=!0;var i=d;try{for(_(n),p=r(s);null!==p&&(!(p.expirationTime>n)||e&&!N());){var o=p.callback;if(\"function\"==typeof o){p.callback=null,d=p.priorityLevel;var u=o(p.expirationTime<=n);n=t.unstable_now(),\"function\"==typeof u?p.callback=u:p===r(s)&&a(s),_(n)}else a(s);p=r(s)}if(null!==p)var l=!0;else{var f=r(c);null!==f&&A(w,f.startTime-n),l=!1}return l}finally{p=null,d=i,h=!1}}\"undefined\"!=typeof navigator&&void 0!==navigator.scheduling&&void 0!==navigator.scheduling.isInputPending&&navigator.scheduling.isInputPending.bind(navigator.scheduling);var k,S=!1,E=null,C=-1,T=5,M=-1;function N(){return!(t.unstable_now()-M<T)}function P(){if(null!==E){var e=t.unstable_now();M=e;var n=!0;try{n=E(!0,e)}finally{n?k():(S=!1,E=null)}}else S=!1}if(\"function\"==typeof b)k=function(){b(P)};else if(\"undefined\"!=typeof MessageChannel){var z=new MessageChannel,L=z.port2;z.port1.onmessage=P,k=function(){L.postMessage(null)}}else k=function(){y(P,0)};function O(e){E=e,S||(S=!0,k())}function A(e,n){C=y((function(){e(t.unstable_now())}),n)}t.unstable_IdlePriority=5,t.unstable_ImmediatePriority=1,t.unstable_LowPriority=4,t.unstable_NormalPriority=3,t.unstable_Profiling=null,t.unstable_UserBlockingPriority=2,t.unstable_cancelCallback=function(e){e.callback=null},t.unstable_continueExecution=function(){v||h||(v=!0,O(x))},t.unstable_forceFrameRate=function(e){0>e||125<e?console.error(\"forceFrameRate takes a positive int between 0 and 125, forcing frame rates higher than 125 fps is not supported\"):T=0<e?Math.floor(1e3/e):5},t.unstable_getCurrentPriorityLevel=function(){return d},t.unstable_getFirstCallbackNode=function(){return r(s)},t.unstable_next=function(e){switch(d){case 1:case 2:case 3:var t=3;break;default:t=d}var n=d;d=t;try{return e()}finally{d=n}},t.unstable_pauseExecution=function(){},t.unstable_requestPaint=function(){},t.unstable_runWithPriority=function(e,t){switch(e){case 1:case 2:case 3:case 4:case 5:break;default:e=3}var n=d;d=e;try{return t()}finally{d=n}},t.unstable_scheduleCallback=function(e,a,i){var o=t.unstable_now();switch(i=\"object\"==typeof i&&null!==i&&\"number\"==typeof(i=i.delay)&&0<i?o+i:o,e){case 1:var u=-1;break;case 2:u=250;break;case 5:u=1073741823;break;case 4:u=1e4;break;default:u=5e3}return e={id:f++,callback:a,priorityLevel:e,startTime:i,expirationTime:u=i+u,sortIndex:-1},i>o?(e.sortIndex=i,n(c,e),null===r(s)&&e===r(c)&&(g?(m(C),C=-1):g=!0,A(w,i-o))):(e.sortIndex=u,n(s,e),v||h||(v=!0,O(x))),e},t.unstable_shouldYield=N,t.unstable_wrapCallback=function(e){var t=d;return function(){var n=d;d=t;try{return e.apply(this,arguments)}finally{d=n}}}},840:(e,t,n)=>{\"use strict\";e.exports=n(53)}},t={};function n(r){var a=t[r];if(void 0!==a)return a.exports;var i=t[r]={id:r,loaded:!1,exports:{}};return e[r].call(i.exports,i,i.exports,n),i.loaded=!0,i.exports}n.g=function(){if(\"object\"==typeof globalThis)return globalThis;try{return this||new Function(\"return this\")()}catch(e){if(\"object\"==typeof window)return window}}(),n.nmd=e=>(e.paths=[],e.children||(e.children=[]),e),(()=>{\"use strict\";var e=n(294),t=n(935);const r=Math.sqrt(50),a=Math.sqrt(10),i=Math.sqrt(2);function o(e,t,n){const u=(t-e)/Math.max(0,n),l=Math.floor(Math.log10(u)),s=u/Math.pow(10,l),c=s>=r?10:s>=a?5:s>=i?2:1;let f,p,d;return l<0?(d=Math.pow(10,-l)/c,f=Math.round(e*d),p=Math.round(t*d),f/d<e&&++f,p/d>t&&--p,d=-d):(d=Math.pow(10,l)*c,f=Math.round(e/d),p=Math.round(t/d),f*d<e&&++f,p*d>t&&--p),p<f&&.5<=n&&n<2?o(e,t,2*n):[f,p,d]}function u(e,t,n){return o(e=+e,t=+t,n=+n)[2]}function l(e,t,n){n=+n;const r=(t=+t)<(e=+e),a=r?u(t,e,n):u(e,t,n);return(r?-1:1)*(a<0?1/-a:a)}function s(e,t){return null==e||null==t?NaN:e<t?-1:e>t?1:e>=t?0:NaN}function c(e,t){return null==e||null==t?NaN:t<e?-1:t>e?1:t>=e?0:NaN}function f(e){let t,n,r;function a(e,r,a=0,i=e.length){if(a<i){if(0!==t(r,r))return i;do{const t=a+i>>>1;n(e[t],r)<0?a=t+1:i=t}while(a<i)}return a}return 2!==e.length?(t=s,n=(t,n)=>s(e(t),n),r=(t,n)=>e(t)-n):(t=e===s||e===c?e:p,n=e,r=e),{left:a,center:function(e,t,n=0,i=e.length){const o=a(e,t,n,i-1);return o>n&&r(e[o-1],t)>-r(e[o],t)?o-1:o},right:function(e,r,a=0,i=e.length){if(a<i){if(0!==t(r,r))return i;do{const t=a+i>>>1;n(e[t],r)<=0?a=t+1:i=t}while(a<i)}return a}}}function p(){return 0}const d=f(s),h=d.right,v=(d.left,f((function(e){return null===e?NaN:+e})).center,h);function g(e,t,n){e.prototype=t.prototype=n,n.constructor=e}function y(e,t){var n=Object.create(e.prototype);for(var r in t)n[r]=t[r];return n}function m(){}var b=.7,_=1/b,w=\"\\\\s*([+-]?\\\\d+)\\\\s*\",x=\"\\\\s*([+-]?(?:\\\\d*\\\\.)?\\\\d+(?:[eE][+-]?\\\\d+)?)\\\\s*\",k=\"\\\\s*([+-]?(?:\\\\d*\\\\.)?\\\\d+(?:[eE][+-]?\\\\d+)?)%\\\\s*\",S=/^#([0-9a-f]{3,8})$/,E=new RegExp(`^rgb\\\\(${w},${w},${w}\\\\)$`),C=new RegExp(`^rgb\\\\(${k},${k},${k}\\\\)$`),T=new RegExp(`^rgba\\\\(${w},${w},${w},${x}\\\\)$`),M=new RegExp(`^rgba\\\\(${k},${k},${k},${x}\\\\)$`),N=new RegExp(`^hsl\\\\(${x},${k},${k}\\\\)$`),P=new RegExp(`^hsla\\\\(${x},${k},${k},${x}\\\\)$`),z={aliceblue:15792383,antiquewhite:16444375,aqua:65535,aquamarine:8388564,azure:15794175,beige:16119260,bisque:16770244,black:0,blanchedalmond:16772045,blue:255,blueviolet:9055202,brown:10824234,burlywood:14596231,cadetblue:6266528,chartreuse:8388352,chocolate:13789470,coral:16744272,cornflowerblue:6591981,cornsilk:16775388,crimson:14423100,cyan:65535,darkblue:139,darkcyan:35723,darkgoldenrod:12092939,darkgray:11119017,darkgreen:25600,darkgrey:11119017,darkkhaki:12433259,darkmagenta:9109643,darkolivegreen:5597999,darkorange:16747520,darkorchid:10040012,darkred:9109504,darksalmon:15308410,darkseagreen:9419919,darkslateblue:4734347,darkslategray:3100495,darkslategrey:3100495,darkturquoise:52945,darkviolet:9699539,deeppink:16716947,deepskyblue:49151,dimgray:6908265,dimgrey:6908265,dodgerblue:2003199,firebrick:11674146,floralwhite:16775920,forestgreen:2263842,fuchsia:16711935,gainsboro:14474460,ghostwhite:16316671,gold:16766720,goldenrod:14329120,gray:8421504,green:32768,greenyellow:11403055,grey:8421504,honeydew:15794160,hotpink:16738740,indianred:13458524,indigo:4915330,ivory:16777200,khaki:15787660,lavender:15132410,lavenderblush:16773365,lawngreen:8190976,lemonchiffon:16775885,lightblue:11393254,lightcoral:15761536,lightcyan:14745599,lightgoldenrodyellow:16448210,lightgray:13882323,lightgreen:9498256,lightgrey:13882323,lightpink:16758465,lightsalmon:16752762,lightseagreen:2142890,lightskyblue:8900346,lightslategray:7833753,lightslategrey:7833753,lightsteelblue:11584734,lightyellow:16777184,lime:65280,limegreen:3329330,linen:16445670,magenta:16711935,maroon:8388608,mediumaquamarine:6737322,mediumblue:205,mediumorchid:12211667,mediumpurple:9662683,mediumseagreen:3978097,mediumslateblue:8087790,mediumspringgreen:64154,mediumturquoise:4772300,mediumvioletred:13047173,midnightblue:1644912,mintcream:16121850,mistyrose:16770273,moccasin:16770229,navajowhite:16768685,navy:128,oldlace:16643558,olive:8421376,olivedrab:7048739,orange:16753920,orangered:16729344,orchid:14315734,palegoldenrod:15657130,palegreen:10025880,paleturquoise:11529966,palevioletred:14381203,papayawhip:16773077,peachpuff:16767673,peru:13468991,pink:16761035,plum:14524637,powderblue:11591910,purple:8388736,rebeccapurple:6697881,red:16711680,rosybrown:12357519,royalblue:4286945,saddlebrown:9127187,salmon:16416882,sandybrown:16032864,seagreen:3050327,seashell:16774638,sienna:10506797,silver:12632256,skyblue:8900331,slateblue:6970061,slategray:7372944,slategrey:7372944,snow:16775930,springgreen:65407,steelblue:4620980,tan:13808780,teal:32896,thistle:14204888,tomato:16737095,turquoise:4251856,violet:15631086,wheat:16113331,white:16777215,whitesmoke:16119285,yellow:16776960,yellowgreen:10145074};function L(){return this.rgb().formatHex()}function O(){return this.rgb().formatRgb()}function A(e){var t,n;return e=(e+\"\").trim().toLowerCase(),(t=S.exec(e))?(n=t[1].length,t=parseInt(t[1],16),6===n?F(t):3===n?new j(t>>8&15|t>>4&240,t>>4&15|240&t,(15&t)<<4|15&t,1):8===n?D(t>>24&255,t>>16&255,t>>8&255,(255&t)/255):4===n?D(t>>12&15|t>>8&240,t>>8&15|t>>4&240,t>>4&15|240&t,((15&t)<<4|15&t)/255):null):(t=E.exec(e))?new j(t[1],t[2],t[3],1):(t=C.exec(e))?new j(255*t[1]/100,255*t[2]/100,255*t[3]/100,1):(t=T.exec(e))?D(t[1],t[2],t[3],t[4]):(t=M.exec(e))?D(255*t[1]/100,255*t[2]/100,255*t[3]/100,t[4]):(t=N.exec(e))?V(t[1],t[2]/100,t[3]/100,1):(t=P.exec(e))?V(t[1],t[2]/100,t[3]/100,t[4]):z.hasOwnProperty(e)?F(z[e]):\"transparent\"===e?new j(NaN,NaN,NaN,0):null}function F(e){return new j(e>>16&255,e>>8&255,255&e,1)}function D(e,t,n,r){return r<=0&&(e=t=n=NaN),new j(e,t,n,r)}function R(e,t,n,r){return 1===arguments.length?((a=e)instanceof m||(a=A(a)),a?new j((a=a.rgb()).r,a.g,a.b,a.opacity):new j):new j(e,t,n,null==r?1:r);var a}function j(e,t,n,r){this.r=+e,this.g=+t,this.b=+n,this.opacity=+r}function U(){return`#${W(this.r)}${W(this.g)}${W(this.b)}`}function I(){const e=$(this.opacity);return`${1===e?\"rgb(\":\"rgba(\"}${B(this.r)}, ${B(this.g)}, ${B(this.b)}${1===e?\")\":`, ${e})`}`}function $(e){return isNaN(e)?1:Math.max(0,Math.min(1,e))}function B(e){return Math.max(0,Math.min(255,Math.round(e)||0))}function W(e){return((e=B(e))<16?\"0\":\"\")+e.toString(16)}function V(e,t,n,r){return r<=0?e=t=n=NaN:n<=0||n>=1?e=t=NaN:t<=0&&(e=NaN),new Q(e,t,n,r)}function H(e){if(e instanceof Q)return new Q(e.h,e.s,e.l,e.opacity);if(e instanceof m||(e=A(e)),!e)return new Q;if(e instanceof Q)return e;var t=(e=e.rgb()).r/255,n=e.g/255,r=e.b/255,a=Math.min(t,n,r),i=Math.max(t,n,r),o=NaN,u=i-a,l=(i+a)/2;return u?(o=t===i?(n-r)/u+6*(n<r):n===i?(r-t)/u+2:(t-n)/u+4,u/=l<.5?i+a:2-i-a,o*=60):u=l>0&&l<1?0:o,new Q(o,u,l,e.opacity)}function q(e,t,n,r){return 1===arguments.length?H(e):new Q(e,t,n,null==r?1:r)}function Q(e,t,n,r){this.h=+e,this.s=+t,this.l=+n,this.opacity=+r}function Y(e){return(e=(e||0)%360)<0?e+360:e}function G(e){return Math.max(0,Math.min(1,e||0))}function K(e,t,n){return 255*(e<60?t+(n-t)*e/60:e<180?n:e<240?t+(n-t)*(240-e)/60:t)}function Z(e,t,n,r,a){var i=e*e,o=i*e;return((1-3*e+3*i-o)*t+(4-6*i+3*o)*n+(1+3*e+3*i-3*o)*r+o*a)/6}g(m,A,{copy(e){return Object.assign(new this.constructor,this,e)},displayable(){return this.rgb().displayable()},hex:L,formatHex:L,formatHex8:function(){return this.rgb().formatHex8()},formatHsl:function(){return H(this).formatHsl()},formatRgb:O,toString:O}),g(j,R,y(m,{brighter(e){return e=null==e?_:Math.pow(_,e),new j(this.r*e,this.g*e,this.b*e,this.opacity)},darker(e){return e=null==e?b:Math.pow(b,e),new j(this.r*e,this.g*e,this.b*e,this.opacity)},rgb(){return this},clamp(){return new j(B(this.r),B(this.g),B(this.b),$(this.opacity))},displayable(){return-.5<=this.r&&this.r<255.5&&-.5<=this.g&&this.g<255.5&&-.5<=this.b&&this.b<255.5&&0<=this.opacity&&this.opacity<=1},hex:U,formatHex:U,formatHex8:function(){return`#${W(this.r)}${W(this.g)}${W(this.b)}${W(255*(isNaN(this.opacity)?1:this.opacity))}`},formatRgb:I,toString:I})),g(Q,q,y(m,{brighter(e){return e=null==e?_:Math.pow(_,e),new Q(this.h,this.s,this.l*e,this.opacity)},darker(e){return e=null==e?b:Math.pow(b,e),new Q(this.h,this.s,this.l*e,this.opacity)},rgb(){var e=this.h%360+360*(this.h<0),t=isNaN(e)||isNaN(this.s)?0:this.s,n=this.l,r=n+(n<.5?n:1-n)*t,a=2*n-r;return new j(K(e>=240?e-240:e+120,a,r),K(e,a,r),K(e<120?e+240:e-120,a,r),this.opacity)},clamp(){return new Q(Y(this.h),G(this.s),G(this.l),$(this.opacity))},displayable(){return(0<=this.s&&this.s<=1||isNaN(this.s))&&0<=this.l&&this.l<=1&&0<=this.opacity&&this.opacity<=1},formatHsl(){const e=$(this.opacity);return`${1===e?\"hsl(\":\"hsla(\"}${Y(this.h)}, ${100*G(this.s)}%, ${100*G(this.l)}%${1===e?\")\":`, ${e})`}`}}));const X=e=>()=>e;function J(e,t){var n=t-e;return n?function(e,t){return function(n){return e+n*t}}(e,n):X(isNaN(e)?t:e)}const ee=function e(t){var n=function(e){return 1==(e=+e)?J:function(t,n){return n-t?function(e,t,n){return e=Math.pow(e,n),t=Math.pow(t,n)-e,n=1/n,function(r){return Math.pow(e+r*t,n)}}(t,n,e):X(isNaN(t)?n:t)}}(t);function r(e,t){var r=n((e=R(e)).r,(t=R(t)).r),a=n(e.g,t.g),i=n(e.b,t.b),o=J(e.opacity,t.opacity);return function(t){return e.r=r(t),e.g=a(t),e.b=i(t),e.opacity=o(t),e+\"\"}}return r.gamma=e,r}(1);function te(e){return function(t){var n,r,a=t.length,i=new Array(a),o=new Array(a),u=new Array(a);for(n=0;n<a;++n)r=R(t[n]),i[n]=r.r||0,o[n]=r.g||0,u[n]=r.b||0;return i=e(i),o=e(o),u=e(u),r.opacity=1,function(e){return r.r=i(e),r.g=o(e),r.b=u(e),r+\"\"}}}function ne(e,t){var n,r=t?t.length:0,a=e?Math.min(r,e.length):0,i=new Array(a),o=new Array(r);for(n=0;n<a;++n)i[n]=ce(e[n],t[n]);for(;n<r;++n)o[n]=t[n];return function(e){for(n=0;n<a;++n)o[n]=i[n](e);return o}}function re(e,t){var n=new Date;return e=+e,t=+t,function(r){return n.setTime(e*(1-r)+t*r),n}}function ae(e,t){return e=+e,t=+t,function(n){return e*(1-n)+t*n}}function ie(e,t){var n,r={},a={};for(n in null!==e&&\"object\"==typeof e||(e={}),null!==t&&\"object\"==typeof t||(t={}),t)n in e?r[n]=ce(e[n],t[n]):a[n]=t[n];return function(e){for(n in r)a[n]=r[n](e);return a}}te((function(e){var t=e.length-1;return function(n){var r=n<=0?n=0:n>=1?(n=1,t-1):Math.floor(n*t),a=e[r],i=e[r+1],o=r>0?e[r-1]:2*a-i,u=r<t-1?e[r+2]:2*i-a;return Z((n-r/t)*t,o,a,i,u)}})),te((function(e){var t=e.length;return function(n){var r=Math.floor(((n%=1)<0?++n:n)*t),a=e[(r+t-1)%t],i=e[r%t],o=e[(r+1)%t],u=e[(r+2)%t];return Z((n-r/t)*t,a,i,o,u)}}));var oe=/[-+]?(?:\\d+\\.?\\d*|\\.?\\d+)(?:[eE][-+]?\\d+)?/g,ue=new RegExp(oe.source,\"g\");function le(e,t){var n,r,a,i=oe.lastIndex=ue.lastIndex=0,o=-1,u=[],l=[];for(e+=\"\",t+=\"\";(n=oe.exec(e))&&(r=ue.exec(t));)(a=r.index)>i&&(a=t.slice(i,a),u[o]?u[o]+=a:u[++o]=a),(n=n[0])===(r=r[0])?u[o]?u[o]+=r:u[++o]=r:(u[++o]=null,l.push({i:o,x:ae(n,r)})),i=ue.lastIndex;return i<t.length&&(a=t.slice(i),u[o]?u[o]+=a:u[++o]=a),u.length<2?l[0]?function(e){return function(t){return e(t)+\"\"}}(l[0].x):function(e){return function(){return e}}(t):(t=l.length,function(e){for(var n,r=0;r<t;++r)u[(n=l[r]).i]=n.x(e);return u.join(\"\")})}function se(e,t){t||(t=[]);var n,r=e?Math.min(t.length,e.length):0,a=t.slice();return function(i){for(n=0;n<r;++n)a[n]=e[n]*(1-i)+t[n]*i;return a}}function ce(e,t){var n,r,a=typeof t;return null==t||\"boolean\"===a?X(t):(\"number\"===a?ae:\"string\"===a?(n=A(t))?(t=n,ee):le:t instanceof A?ee:t instanceof Date?re:(r=t,!ArrayBuffer.isView(r)||r instanceof DataView?Array.isArray(t)?ne:\"function\"!=typeof t.valueOf&&\"function\"!=typeof t.toString||isNaN(t)?ie:ae:se))(e,t)}function fe(e,t){return e=+e,t=+t,function(n){return Math.round(e*(1-n)+t*n)}}function pe(e){return+e}var de=[0,1];function he(e){return e}function ve(e,t){return(t-=e=+e)?function(n){return(n-e)/t}:(n=isNaN(t)?NaN:.5,function(){return n});var n}function ge(e,t,n){var r=e[0],a=e[1],i=t[0],o=t[1];return a<r?(r=ve(a,r),i=n(o,i)):(r=ve(r,a),i=n(i,o)),function(e){return i(r(e))}}function ye(e,t,n){var r=Math.min(e.length,t.length)-1,a=new Array(r),i=new Array(r),o=-1;for(e[r]<e[0]&&(e=e.slice().reverse(),t=t.slice().reverse());++o<r;)a[o]=ve(e[o],e[o+1]),i[o]=n(t[o],t[o+1]);return function(t){var n=v(e,t,1,r)-1;return i[n](a[n](t))}}function me(e,t){return t.domain(e.domain()).range(e.range()).interpolate(e.interpolate()).clamp(e.clamp()).unknown(e.unknown())}function be(){return function(){var e,t,n,r,a,i,o=de,u=de,l=ce,s=he;function c(){var e,t,n,l=Math.min(o.length,u.length);return s!==he&&(e=o[0],t=o[l-1],e>t&&(n=e,e=t,t=n),s=function(n){return Math.max(e,Math.min(t,n))}),r=l>2?ye:ge,a=i=null,f}function f(t){return null==t||isNaN(t=+t)?n:(a||(a=r(o.map(e),u,l)))(e(s(t)))}return f.invert=function(n){return s(t((i||(i=r(u,o.map(e),ae)))(n)))},f.domain=function(e){return arguments.length?(o=Array.from(e,pe),c()):o.slice()},f.range=function(e){return arguments.length?(u=Array.from(e),c()):u.slice()},f.rangeRound=function(e){return u=Array.from(e),l=fe,c()},f.clamp=function(e){return arguments.length?(s=!!e||he,c()):s!==he},f.interpolate=function(e){return arguments.length?(l=e,c()):l},f.unknown=function(e){return arguments.length?(n=e,f):n},function(n,r){return e=n,t=r,c()}}()(he,he)}function _e(e,t){switch(arguments.length){case 0:break;case 1:this.range(e);break;default:this.range(t).domain(e)}return this}var we,xe=/^(?:(.)?([<>=^]))?([+\\-( ])?([$#])?(0)?(\\d+)?(,)?(\\.\\d+)?(~)?([a-z%])?$/i;function ke(e){if(!(t=xe.exec(e)))throw new Error(\"invalid format: \"+e);var t;return new Se({fill:t[1],align:t[2],sign:t[3],symbol:t[4],zero:t[5],width:t[6],comma:t[7],precision:t[8]&&t[8].slice(1),trim:t[9],type:t[10]})}function Se(e){this.fill=void 0===e.fill?\" \":e.fill+\"\",this.align=void 0===e.align?\">\":e.align+\"\",this.sign=void 0===e.sign?\"-\":e.sign+\"\",this.symbol=void 0===e.symbol?\"\":e.symbol+\"\",this.zero=!!e.zero,this.width=void 0===e.width?void 0:+e.width,this.comma=!!e.comma,this.precision=void 0===e.precision?void 0:+e.precision,this.trim=!!e.trim,this.type=void 0===e.type?\"\":e.type+\"\"}function Ee(e,t){if((n=(e=t?e.toExponential(t-1):e.toExponential()).indexOf(\"e\"))<0)return null;var n,r=e.slice(0,n);return[r.length>1?r[0]+r.slice(2):r,+e.slice(n+1)]}function Ce(e){return(e=Ee(Math.abs(e)))?e[1]:NaN}function Te(e,t){var n=Ee(e,t);if(!n)return e+\"\";var r=n[0],a=n[1];return a<0?\"0.\"+new Array(-a).join(\"0\")+r:r.length>a+1?r.slice(0,a+1)+\".\"+r.slice(a+1):r+new Array(a-r.length+2).join(\"0\")}ke.prototype=Se.prototype,Se.prototype.toString=function(){return this.fill+this.align+this.sign+this.symbol+(this.zero?\"0\":\"\")+(void 0===this.width?\"\":Math.max(1,0|this.width))+(this.comma?\",\":\"\")+(void 0===this.precision?\"\":\".\"+Math.max(0,0|this.precision))+(this.trim?\"~\":\"\")+this.type};const Me={\"%\":(e,t)=>(100*e).toFixed(t),b:e=>Math.round(e).toString(2),c:e=>e+\"\",d:function(e){return Math.abs(e=Math.round(e))>=1e21?e.toLocaleString(\"en\").replace(/,/g,\"\"):e.toString(10)},e:(e,t)=>e.toExponential(t),f:(e,t)=>e.toFixed(t),g:(e,t)=>e.toPrecision(t),o:e=>Math.round(e).toString(8),p:(e,t)=>Te(100*e,t),r:Te,s:function(e,t){var n=Ee(e,t);if(!n)return e+\"\";var r=n[0],a=n[1],i=a-(we=3*Math.max(-8,Math.min(8,Math.floor(a/3))))+1,o=r.length;return i===o?r:i>o?r+new Array(i-o+1).join(\"0\"):i>0?r.slice(0,i)+\".\"+r.slice(i):\"0.\"+new Array(1-i).join(\"0\")+Ee(e,Math.max(0,t+i-1))[0]},X:e=>Math.round(e).toString(16).toUpperCase(),x:e=>Math.round(e).toString(16)};function Ne(e){return e}var Pe,ze,Le,Oe=Array.prototype.map,Ae=[\"y\",\"z\",\"a\",\"f\",\"p\",\"n\",\"µ\",\"m\",\"\",\"k\",\"M\",\"G\",\"T\",\"P\",\"E\",\"Z\",\"Y\"];function Fe(e){var t=e.domain;return e.ticks=function(e){var n=t();return function(e,t,n){if(!((n=+n)>0))return[];if((e=+e)==(t=+t))return[e];const r=t<e,[a,i,u]=r?o(t,e,n):o(e,t,n);if(!(i>=a))return[];const l=i-a+1,s=new Array(l);if(r)if(u<0)for(let e=0;e<l;++e)s[e]=(i-e)/-u;else for(let e=0;e<l;++e)s[e]=(i-e)*u;else if(u<0)for(let e=0;e<l;++e)s[e]=(a+e)/-u;else for(let e=0;e<l;++e)s[e]=(a+e)*u;return s}(n[0],n[n.length-1],null==e?10:e)},e.tickFormat=function(e,n){var r=t();return function(e,t,n,r){var a,i=l(e,t,n);switch((r=ke(null==r?\",f\":r)).type){case\"s\":var o=Math.max(Math.abs(e),Math.abs(t));return null!=r.precision||isNaN(a=function(e,t){return Math.max(0,3*Math.max(-8,Math.min(8,Math.floor(Ce(t)/3)))-Ce(Math.abs(e)))}(i,o))||(r.precision=a),Le(r,o);case\"\":case\"e\":case\"g\":case\"p\":case\"r\":null!=r.precision||isNaN(a=function(e,t){return e=Math.abs(e),t=Math.abs(t)-e,Math.max(0,Ce(t)-Ce(e))+1}(i,Math.max(Math.abs(e),Math.abs(t))))||(r.precision=a-(\"e\"===r.type));break;case\"f\":case\"%\":null!=r.precision||isNaN(a=function(e){return Math.max(0,-Ce(Math.abs(e)))}(i))||(r.precision=a-2*(\"%\"===r.type))}return ze(r)}(r[0],r[r.length-1],null==e?10:e,n)},e.nice=function(n){null==n&&(n=10);var r,a,i=t(),o=0,l=i.length-1,s=i[o],c=i[l],f=10;for(c<s&&(a=s,s=c,c=a,a=o,o=l,l=a);f-- >0;){if((a=u(s,c,n))===r)return i[o]=s,i[l]=c,t(i);if(a>0)s=Math.floor(s/a)*a,c=Math.ceil(c/a)*a;else{if(!(a<0))break;s=Math.ceil(s*a)/a,c=Math.floor(c*a)/a}r=a}return e},e}function De(){var e=be();return e.copy=function(){return me(e,De())},_e.apply(e,arguments),Fe(e)}Pe=function(e){var t,n,r=void 0===e.grouping||void 0===e.thousands?Ne:(t=Oe.call(e.grouping,Number),n=e.thousands+\"\",function(e,r){for(var a=e.length,i=[],o=0,u=t[0],l=0;a>0&&u>0&&(l+u+1>r&&(u=Math.max(1,r-l)),i.push(e.substring(a-=u,a+u)),!((l+=u+1)>r));)u=t[o=(o+1)%t.length];return i.reverse().join(n)}),a=void 0===e.currency?\"\":e.currency[0]+\"\",i=void 0===e.currency?\"\":e.currency[1]+\"\",o=void 0===e.decimal?\".\":e.decimal+\"\",u=void 0===e.numerals?Ne:function(e){return function(t){return t.replace(/[0-9]/g,(function(t){return e[+t]}))}}(Oe.call(e.numerals,String)),l=void 0===e.percent?\"%\":e.percent+\"\",s=void 0===e.minus?\"−\":e.minus+\"\",c=void 0===e.nan?\"NaN\":e.nan+\"\";function f(e){var t=(e=ke(e)).fill,n=e.align,f=e.sign,p=e.symbol,d=e.zero,h=e.width,v=e.comma,g=e.precision,y=e.trim,m=e.type;\"n\"===m?(v=!0,m=\"g\"):Me[m]||(void 0===g&&(g=12),y=!0,m=\"g\"),(d||\"0\"===t&&\"=\"===n)&&(d=!0,t=\"0\",n=\"=\");var b=\"$\"===p?a:\"#\"===p&&/[boxX]/.test(m)?\"0\"+m.toLowerCase():\"\",_=\"$\"===p?i:/[%p]/.test(m)?l:\"\",w=Me[m],x=/[defgprs%]/.test(m);function k(e){var a,i,l,p=b,k=_;if(\"c\"===m)k=w(e)+k,e=\"\";else{var S=(e=+e)<0||1/e<0;if(e=isNaN(e)?c:w(Math.abs(e),g),y&&(e=function(e){e:for(var t,n=e.length,r=1,a=-1;r<n;++r)switch(e[r]){case\".\":a=t=r;break;case\"0\":0===a&&(a=r),t=r;break;default:if(!+e[r])break e;a>0&&(a=0)}return a>0?e.slice(0,a)+e.slice(t+1):e}(e)),S&&0==+e&&\"+\"!==f&&(S=!1),p=(S?\"(\"===f?f:s:\"-\"===f||\"(\"===f?\"\":f)+p,k=(\"s\"===m?Ae[8+we/3]:\"\")+k+(S&&\"(\"===f?\")\":\"\"),x)for(a=-1,i=e.length;++a<i;)if(48>(l=e.charCodeAt(a))||l>57){k=(46===l?o+e.slice(a+1):e.slice(a))+k,e=e.slice(0,a);break}}v&&!d&&(e=r(e,1/0));var E=p.length+e.length+k.length,C=E<h?new Array(h-E+1).join(t):\"\";switch(v&&d&&(e=r(C+e,C.length?h-k.length:1/0),C=\"\"),n){case\"<\":e=p+e+k+C;break;case\"=\":e=p+C+e+k;break;case\"^\":e=C.slice(0,E=C.length>>1)+p+e+k+C.slice(E);break;default:e=C+p+e+k}return u(e)}return g=void 0===g?6:/[gprs]/.test(m)?Math.max(1,Math.min(21,g)):Math.max(0,Math.min(20,g)),k.toString=function(){return e+\"\"},k}return{format:f,formatPrefix:function(e,t){var n=f(((e=ke(e)).type=\"f\",e)),r=3*Math.max(-8,Math.min(8,Math.floor(Ce(t)/3))),a=Math.pow(10,-r),i=Ae[8+r/3];return function(e){return n(a*e)+i}}}}({thousands:\",\",grouping:[3],currency:[\"$\",\"\"]}),ze=Pe.format,Le=Pe.formatPrefix;var Re=n(486);const je={colors:{RdBu:[\"rgb(255, 13, 87)\",\"rgb(30, 136, 229)\"],GnPR:[\"rgb(24, 196, 93)\",\"rgb(124, 82, 255)\"],CyPU:[\"#0099C6\",\"#990099\"],PkYg:[\"#DD4477\",\"#66AA00\"],DrDb:[\"#B82E2E\",\"#316395\"],LpLb:[\"#994499\",\"#22AA99\"],YlDp:[\"#AAAA11\",\"#6633CC\"],OrId:[\"#E67300\",\"#3E0099\"]},gray:\"#777\"};function Ue(e){return Ue=\"function\"==typeof Symbol&&\"symbol\"==typeof Symbol.iterator?function(e){return typeof e}:function(e){return e&&\"function\"==typeof Symbol&&e.constructor===Symbol&&e!==Symbol.prototype?\"symbol\":typeof e},Ue(e)}function Ie(e,t){for(var n=0;n<t.length;n++){var r=t[n];r.enumerable=r.enumerable||!1,r.configurable=!0,\"value\"in r&&(r.writable=!0),Object.defineProperty(e,(void 0,a=function(e,t){if(\"object\"!==Ue(e)||null===e)return e;var n=e[Symbol.toPrimitive];if(void 0!==n){var r=n.call(e,\"string\");if(\"object\"!==Ue(r))return r;throw new TypeError(\"@@toPrimitive must return a primitive value.\")}return String(e)}(r.key),\"symbol\"===Ue(a)?a:String(a)),r)}var a}function $e(e,t){return $e=Object.setPrototypeOf?Object.setPrototypeOf.bind():function(e,t){return e.__proto__=t,e},$e(e,t)}function Be(e){if(void 0===e)throw new ReferenceError(\"this hasn't been initialised - super() hasn't been called\");return e}function We(e){return We=Object.setPrototypeOf?Object.getPrototypeOf.bind():function(e){return e.__proto__||Object.getPrototypeOf(e)},We(e)}var Ve=function(t){!function(e,t){if(\"function\"!=typeof t&&null!==t)throw new TypeError(\"Super expression must either be null or a function\");e.prototype=Object.create(t&&t.prototype,{constructor:{value:e,writable:!0,configurable:!0}}),Object.defineProperty(e,\"prototype\",{writable:!1}),t&&$e(e,t)}(u,t);var n,r,a,i,o=(a=u,i=function(){if(\"undefined\"==typeof Reflect||!Reflect.construct)return!1;if(Reflect.construct.sham)return!1;if(\"function\"==typeof Proxy)return!0;try{return Boolean.prototype.valueOf.call(Reflect.construct(Boolean,[],(function(){}))),!0}catch(e){return!1}}(),function(){var e,t=We(a);if(i){var n=We(this).constructor;e=Reflect.construct(t,arguments,n)}else e=t.apply(this,arguments);return function(e,t){if(t&&(\"object\"===Ue(t)||\"function\"==typeof t))return t;if(void 0!==t)throw new TypeError(\"Derived constructors may only return object or undefined\");return Be(e)}(this,e)});function u(){var e;return function(e,t){if(!(e instanceof t))throw new TypeError(\"Cannot call a class as a function\")}(this,u),(e=o.call(this)).width=100,window.lastSimpleListInstance=Be(e),e.effectFormat=ze(\".2\"),e}return n=u,(r=[{key:\"render\",value:function(){var t=this,n=void 0;\"string\"==typeof this.props.plot_cmap?this.props.plot_cmap in je.colors?n=je.colors[this.props.plot_cmap]:(console.log(\"Invalid color map name, reverting to default.\"),n=je.colors.RdBu):Array.isArray(this.props.plot_cmap)&&(n=this.props.plot_cmap),console.log(this.props.features,this.props.features),this.scale=De().domain([0,(0,Re.max)((0,Re.map)(this.props.features,(function(e){return Math.abs(e.effect)})))]).range([0,this.width]);var r=(0,Re.reverse)((0,Re.sortBy)(Object.keys(this.props.features),(function(e){return Math.abs(t.props.features[e].effect)}))).map((function(r){var a,i,o=t.props.features[r],u=t.props.featureNames[r],l={width:t.scale(Math.abs(o.effect)),height:\"20px\",background:o.effect<0?n[0]:n[1],display:\"inline-block\"},s={lineHeight:\"20px\",display:\"inline-block\",width:t.width+40,verticalAlign:\"top\",marginRight:\"5px\",textAlign:\"right\"},c={lineHeight:\"20px\",display:\"inline-block\",width:t.width+40,verticalAlign:\"top\",marginLeft:\"5px\"};return o.effect<0?(i=e.createElement(\"span\",{style:c},u),s.width=40+t.width-t.scale(Math.abs(o.effect)),s.textAlign=\"right\",s.color=\"#999\",s.fontSize=\"13px\",a=e.createElement(\"span\",{style:s},t.effectFormat(o.effect))):(s.textAlign=\"right\",a=e.createElement(\"span\",{style:s},u),c.width=40,c.textAlign=\"left\",c.color=\"#999\",c.fontSize=\"13px\",i=e.createElement(\"span\",{style:c},t.effectFormat(o.effect))),e.createElement(\"div\",{key:r,style:{marginTop:\"2px\"}},a,e.createElement(\"div\",{style:l}),i)}));return e.createElement(\"span\",null,r)}}])&&Ie(n.prototype,r),Object.defineProperty(n,\"prototype\",{writable:!1}),u}(e.Component);Ve.defaultProps={plot_cmap:\"RdBu\"};const He=Ve;function qe(){}function Qe(e){return null==e?qe:function(){return this.querySelector(e)}}function Ye(){return[]}function Ge(e){return function(t){return t.matches(e)}}var Ke=Array.prototype.find;function Ze(){return this.firstElementChild}var Xe=Array.prototype.filter;function Je(){return Array.from(this.children)}function et(e){return new Array(e.length)}function tt(e,t){this.ownerDocument=e.ownerDocument,this.namespaceURI=e.namespaceURI,this._next=null,this._parent=e,this.__data__=t}function nt(e,t,n,r,a,i){for(var o,u=0,l=t.length,s=i.length;u<s;++u)(o=t[u])?(o.__data__=i[u],r[u]=o):n[u]=new tt(e,i[u]);for(;u<l;++u)(o=t[u])&&(a[u]=o)}function rt(e,t,n,r,a,i,o){var u,l,s,c=new Map,f=t.length,p=i.length,d=new Array(f);for(u=0;u<f;++u)(l=t[u])&&(d[u]=s=o.call(l,l.__data__,u,t)+\"\",c.has(s)?a[u]=l:c.set(s,l));for(u=0;u<p;++u)s=o.call(e,i[u],u,i)+\"\",(l=c.get(s))?(r[u]=l,l.__data__=i[u],c.delete(s)):n[u]=new tt(e,i[u]);for(u=0;u<f;++u)(l=t[u])&&c.get(d[u])===l&&(a[u]=l)}function at(e){return e.__data__}function it(e){return\"object\"==typeof e&&\"length\"in e?e:Array.from(e)}function ot(e,t){return e<t?-1:e>t?1:e>=t?0:NaN}tt.prototype={constructor:tt,appendChild:function(e){return this._parent.insertBefore(e,this._next)},insertBefore:function(e,t){return this._parent.insertBefore(e,t)},querySelector:function(e){return this._parent.querySelector(e)},querySelectorAll:function(e){return this._parent.querySelectorAll(e)}};var ut=\"http://www.w3.org/1999/xhtml\";const lt={svg:\"http://www.w3.org/2000/svg\",xhtml:ut,xlink:\"http://www.w3.org/1999/xlink\",xml:\"http://www.w3.org/XML/1998/namespace\",xmlns:\"http://www.w3.org/2000/xmlns/\"};function st(e){var t=e+=\"\",n=t.indexOf(\":\");return n>=0&&\"xmlns\"!==(t=e.slice(0,n))&&(e=e.slice(n+1)),lt.hasOwnProperty(t)?{space:lt[t],local:e}:e}function ct(e){return function(){this.removeAttribute(e)}}function ft(e){return function(){this.removeAttributeNS(e.space,e.local)}}function pt(e,t){return function(){this.setAttribute(e,t)}}function dt(e,t){return function(){this.setAttributeNS(e.space,e.local,t)}}function ht(e,t){return function(){var n=t.apply(this,arguments);null==n?this.removeAttribute(e):this.setAttribute(e,n)}}function vt(e,t){return function(){var n=t.apply(this,arguments);null==n?this.removeAttributeNS(e.space,e.local):this.setAttributeNS(e.space,e.local,n)}}function gt(e){return e.ownerDocument&&e.ownerDocument.defaultView||e.document&&e||e.defaultView}function yt(e){return function(){this.style.removeProperty(e)}}function mt(e,t,n){return function(){this.style.setProperty(e,t,n)}}function bt(e,t,n){return function(){var r=t.apply(this,arguments);null==r?this.style.removeProperty(e):this.style.setProperty(e,r,n)}}function _t(e){return function(){delete this[e]}}function wt(e,t){return function(){this[e]=t}}function xt(e,t){return function(){var n=t.apply(this,arguments);null==n?delete this[e]:this[e]=n}}function kt(e){return e.trim().split(/^|\\s+/)}function St(e){return e.classList||new Et(e)}function Et(e){this._node=e,this._names=kt(e.getAttribute(\"class\")||\"\")}function Ct(e,t){for(var n=St(e),r=-1,a=t.length;++r<a;)n.add(t[r])}function Tt(e,t){for(var n=St(e),r=-1,a=t.length;++r<a;)n.remove(t[r])}function Mt(e){return function(){Ct(this,e)}}function Nt(e){return function(){Tt(this,e)}}function Pt(e,t){return function(){(t.apply(this,arguments)?Ct:Tt)(this,e)}}function zt(){this.textContent=\"\"}function Lt(e){return function(){this.textContent=e}}function Ot(e){return function(){var t=e.apply(this,arguments);this.textContent=null==t?\"\":t}}function At(){this.innerHTML=\"\"}function Ft(e){return function(){this.innerHTML=e}}function Dt(e){return function(){var t=e.apply(this,arguments);this.innerHTML=null==t?\"\":t}}function Rt(){this.nextSibling&&this.parentNode.appendChild(this)}function jt(){this.previousSibling&&this.parentNode.insertBefore(this,this.parentNode.firstChild)}function Ut(e){return function(){var t=this.ownerDocument,n=this.namespaceURI;return n===ut&&t.documentElement.namespaceURI===ut?t.createElement(e):t.createElementNS(n,e)}}function It(e){return function(){return this.ownerDocument.createElementNS(e.space,e.local)}}function $t(e){var t=st(e);return(t.local?It:Ut)(t)}function Bt(){return null}function Wt(){var e=this.parentNode;e&&e.removeChild(this)}function Vt(){var e=this.cloneNode(!1),t=this.parentNode;return t?t.insertBefore(e,this.nextSibling):e}function Ht(){var e=this.cloneNode(!0),t=this.parentNode;return t?t.insertBefore(e,this.nextSibling):e}function qt(e){return function(){var t=this.__on;if(t){for(var n,r=0,a=-1,i=t.length;r<i;++r)n=t[r],e.type&&n.type!==e.type||n.name!==e.name?t[++a]=n:this.removeEventListener(n.type,n.listener,n.options);++a?t.length=a:delete this.__on}}}function Qt(e,t,n){return function(){var r,a=this.__on,i=function(e){return function(t){e.call(this,t,this.__data__)}}(t);if(a)for(var o=0,u=a.length;o<u;++o)if((r=a[o]).type===e.type&&r.name===e.name)return this.removeEventListener(r.type,r.listener,r.options),this.addEventListener(r.type,r.listener=i,r.options=n),void(r.value=t);this.addEventListener(e.type,i,n),r={type:e.type,name:e.name,value:t,listener:i,options:n},a?a.push(r):this.__on=[r]}}function Yt(e,t,n){var r=gt(e),a=r.CustomEvent;\"function\"==typeof a?a=new a(t,n):(a=r.document.createEvent(\"Event\"),n?(a.initEvent(t,n.bubbles,n.cancelable),a.detail=n.detail):a.initEvent(t,!1,!1)),e.dispatchEvent(a)}function Gt(e,t){return function(){return Yt(this,e,t)}}function Kt(e,t){return function(){return Yt(this,e,t.apply(this,arguments))}}Et.prototype={add:function(e){this._names.indexOf(e)<0&&(this._names.push(e),this._node.setAttribute(\"class\",this._names.join(\" \")))},remove:function(e){var t=this._names.indexOf(e);t>=0&&(this._names.splice(t,1),this._node.setAttribute(\"class\",this._names.join(\" \")))},contains:function(e){return this._names.indexOf(e)>=0}};var Zt=[null];function Xt(e,t){this._groups=e,this._parents=t}function Jt(e){return\"string\"==typeof e?new Xt([[document.querySelector(e)]],[document.documentElement]):new Xt([[e]],Zt)}function en(e){return e}Xt.prototype=function(){return new Xt([[document.documentElement]],Zt)}.prototype={constructor:Xt,select:function(e){\"function\"!=typeof e&&(e=Qe(e));for(var t=this._groups,n=t.length,r=new Array(n),a=0;a<n;++a)for(var i,o,u=t[a],l=u.length,s=r[a]=new Array(l),c=0;c<l;++c)(i=u[c])&&(o=e.call(i,i.__data__,c,u))&&(\"__data__\"in i&&(o.__data__=i.__data__),s[c]=o);return new Xt(r,this._parents)},selectAll:function(e){e=\"function\"==typeof e?function(e){return function(){return null==(t=e.apply(this,arguments))?[]:Array.isArray(t)?t:Array.from(t);var t}}(e):function(e){return null==e?Ye:function(){return this.querySelectorAll(e)}}(e);for(var t=this._groups,n=t.length,r=[],a=[],i=0;i<n;++i)for(var o,u=t[i],l=u.length,s=0;s<l;++s)(o=u[s])&&(r.push(e.call(o,o.__data__,s,u)),a.push(o));return new Xt(r,a)},selectChild:function(e){return this.select(null==e?Ze:function(e){return function(){return Ke.call(this.children,e)}}(\"function\"==typeof e?e:Ge(e)))},selectChildren:function(e){return this.selectAll(null==e?Je:function(e){return function(){return Xe.call(this.children,e)}}(\"function\"==typeof e?e:Ge(e)))},filter:function(e){\"function\"!=typeof e&&(e=function(e){return function(){return this.matches(e)}}(e));for(var t=this._groups,n=t.length,r=new Array(n),a=0;a<n;++a)for(var i,o=t[a],u=o.length,l=r[a]=[],s=0;s<u;++s)(i=o[s])&&e.call(i,i.__data__,s,o)&&l.push(i);return new Xt(r,this._parents)},data:function(e,t){if(!arguments.length)return Array.from(this,at);var n,r=t?rt:nt,a=this._parents,i=this._groups;\"function\"!=typeof e&&(n=e,e=function(){return n});for(var o=i.length,u=new Array(o),l=new Array(o),s=new Array(o),c=0;c<o;++c){var f=a[c],p=i[c],d=p.length,h=it(e.call(f,f&&f.__data__,c,a)),v=h.length,g=l[c]=new Array(v),y=u[c]=new Array(v);r(f,p,g,y,s[c]=new Array(d),h,t);for(var m,b,_=0,w=0;_<v;++_)if(m=g[_]){for(_>=w&&(w=_+1);!(b=y[w])&&++w<v;);m._next=b||null}}return(u=new Xt(u,a))._enter=l,u._exit=s,u},enter:function(){return new Xt(this._enter||this._groups.map(et),this._parents)},exit:function(){return new Xt(this._exit||this._groups.map(et),this._parents)},join:function(e,t,n){var r=this.enter(),a=this,i=this.exit();return\"function\"==typeof e?(r=e(r))&&(r=r.selection()):r=r.append(e+\"\"),null!=t&&(a=t(a))&&(a=a.selection()),null==n?i.remove():n(i),r&&a?r.merge(a).order():a},merge:function(e){for(var t=e.selection?e.selection():e,n=this._groups,r=t._groups,a=n.length,i=r.length,o=Math.min(a,i),u=new Array(a),l=0;l<o;++l)for(var s,c=n[l],f=r[l],p=c.length,d=u[l]=new Array(p),h=0;h<p;++h)(s=c[h]||f[h])&&(d[h]=s);for(;l<a;++l)u[l]=n[l];return new Xt(u,this._parents)},selection:function(){return this},order:function(){for(var e=this._groups,t=-1,n=e.length;++t<n;)for(var r,a=e[t],i=a.length-1,o=a[i];--i>=0;)(r=a[i])&&(o&&4^r.compareDocumentPosition(o)&&o.parentNode.insertBefore(r,o),o=r);return this},sort:function(e){function t(t,n){return t&&n?e(t.__data__,n.__data__):!t-!n}e||(e=ot);for(var n=this._groups,r=n.length,a=new Array(r),i=0;i<r;++i){for(var o,u=n[i],l=u.length,s=a[i]=new Array(l),c=0;c<l;++c)(o=u[c])&&(s[c]=o);s.sort(t)}return new Xt(a,this._parents).order()},call:function(){var e=arguments[0];return arguments[0]=this,e.apply(null,arguments),this},nodes:function(){return Array.from(this)},node:function(){for(var e=this._groups,t=0,n=e.length;t<n;++t)for(var r=e[t],a=0,i=r.length;a<i;++a){var o=r[a];if(o)return o}return null},size:function(){let e=0;for(const t of this)++e;return e},empty:function(){return!this.node()},each:function(e){for(var t=this._groups,n=0,r=t.length;n<r;++n)for(var a,i=t[n],o=0,u=i.length;o<u;++o)(a=i[o])&&e.call(a,a.__data__,o,i);return this},attr:function(e,t){var n=st(e);if(arguments.length<2){var r=this.node();return n.local?r.getAttributeNS(n.space,n.local):r.getAttribute(n)}return this.each((null==t?n.local?ft:ct:\"function\"==typeof t?n.local?vt:ht:n.local?dt:pt)(n,t))},style:function(e,t,n){return arguments.length>1?this.each((null==t?yt:\"function\"==typeof t?bt:mt)(e,t,null==n?\"\":n)):function(e,t){return e.style.getPropertyValue(t)||gt(e).getComputedStyle(e,null).getPropertyValue(t)}(this.node(),e)},property:function(e,t){return arguments.length>1?this.each((null==t?_t:\"function\"==typeof t?xt:wt)(e,t)):this.node()[e]},classed:function(e,t){var n=kt(e+\"\");if(arguments.length<2){for(var r=St(this.node()),a=-1,i=n.length;++a<i;)if(!r.contains(n[a]))return!1;return!0}return this.each((\"function\"==typeof t?Pt:t?Mt:Nt)(n,t))},text:function(e){return arguments.length?this.each(null==e?zt:(\"function\"==typeof e?Ot:Lt)(e)):this.node().textContent},html:function(e){return arguments.length?this.each(null==e?At:(\"function\"==typeof e?Dt:Ft)(e)):this.node().innerHTML},raise:function(){return this.each(Rt)},lower:function(){return this.each(jt)},append:function(e){var t=\"function\"==typeof e?e:$t(e);return this.select((function(){return this.appendChild(t.apply(this,arguments))}))},insert:function(e,t){var n=\"function\"==typeof e?e:$t(e),r=null==t?Bt:\"function\"==typeof t?t:Qe(t);return this.select((function(){return this.insertBefore(n.apply(this,arguments),r.apply(this,arguments)||null)}))},remove:function(){return this.each(Wt)},clone:function(e){return this.select(e?Ht:Vt)},datum:function(e){return arguments.length?this.property(\"__data__\",e):this.node().__data__},on:function(e,t,n){var r,a,i=function(e){return e.trim().split(/^|\\s+/).map((function(e){var t=\"\",n=e.indexOf(\".\");return n>=0&&(t=e.slice(n+1),e=e.slice(0,n)),{type:e,name:t}}))}(e+\"\"),o=i.length;if(!(arguments.length<2)){for(u=t?Qt:qt,r=0;r<o;++r)this.each(u(i[r],t,n));return this}var u=this.node().__on;if(u)for(var l,s=0,c=u.length;s<c;++s)for(r=0,l=u[s];r<o;++r)if((a=i[r]).type===l.type&&a.name===l.name)return l.value},dispatch:function(e,t){return this.each((\"function\"==typeof t?Kt:Gt)(e,t))},[Symbol.iterator]:function*(){for(var e=this._groups,t=0,n=e.length;t<n;++t)for(var r,a=e[t],i=0,o=a.length;i<o;++i)(r=a[i])&&(yield r)}};var tn=1,nn=2,rn=3,an=4,on=1e-6;function un(e){return\"translate(\"+e+\",0)\"}function ln(e){return\"translate(0,\"+e+\")\"}function sn(e){return t=>+e(t)}function cn(e,t){return t=Math.max(0,e.bandwidth()-2*t)/2,e.round()&&(t=Math.round(t)),n=>+e(n)+t}function fn(){return!this.__axis}function pn(e,t){var n=[],r=null,a=null,i=6,o=6,u=3,l=\"undefined\"!=typeof window&&window.devicePixelRatio>1?0:.5,s=e===tn||e===an?-1:1,c=e===an||e===nn?\"x\":\"y\",f=e===tn||e===rn?un:ln;function p(p){var d=null==r?t.ticks?t.ticks.apply(t,n):t.domain():r,h=null==a?t.tickFormat?t.tickFormat.apply(t,n):en:a,v=Math.max(i,0)+u,g=t.range(),y=+g[0]+l,m=+g[g.length-1]+l,b=(t.bandwidth?cn:sn)(t.copy(),l),_=p.selection?p.selection():p,w=_.selectAll(\".domain\").data([null]),x=_.selectAll(\".tick\").data(d,t).order(),k=x.exit(),S=x.enter().append(\"g\").attr(\"class\",\"tick\"),E=x.select(\"line\"),C=x.select(\"text\");w=w.merge(w.enter().insert(\"path\",\".tick\").attr(\"class\",\"domain\").attr(\"stroke\",\"currentColor\")),x=x.merge(S),E=E.merge(S.append(\"line\").attr(\"stroke\",\"currentColor\").attr(c+\"2\",s*i)),C=C.merge(S.append(\"text\").attr(\"fill\",\"currentColor\").attr(c,s*v).attr(\"dy\",e===tn?\"0em\":e===rn?\"0.71em\":\"0.32em\")),p!==_&&(w=w.transition(p),x=x.transition(p),E=E.transition(p),C=C.transition(p),k=k.transition(p).attr(\"opacity\",on).attr(\"transform\",(function(e){return isFinite(e=b(e))?f(e+l):this.getAttribute(\"transform\")})),S.attr(\"opacity\",on).attr(\"transform\",(function(e){var t=this.parentNode.__axis;return f((t&&isFinite(t=t(e))?t:b(e))+l)}))),k.remove(),w.attr(\"d\",e===an||e===nn?o?\"M\"+s*o+\",\"+y+\"H\"+l+\"V\"+m+\"H\"+s*o:\"M\"+l+\",\"+y+\"V\"+m:o?\"M\"+y+\",\"+s*o+\"V\"+l+\"H\"+m+\"V\"+s*o:\"M\"+y+\",\"+l+\"H\"+m),x.attr(\"opacity\",1).attr(\"transform\",(function(e){return f(b(e)+l)})),E.attr(c+\"2\",s*i),C.attr(c,s*v).text(h),_.filter(fn).attr(\"fill\",\"none\").attr(\"font-size\",10).attr(\"font-family\",\"sans-serif\").attr(\"text-anchor\",e===nn?\"start\":e===an?\"end\":\"middle\"),_.each((function(){this.__axis=b}))}return p.scale=function(e){return arguments.length?(t=e,p):t},p.ticks=function(){return n=Array.from(arguments),p},p.tickArguments=function(e){return arguments.length?(n=null==e?[]:Array.from(e),p):n.slice()},p.tickValues=function(e){return arguments.length?(r=null==e?null:Array.from(e),p):r&&r.slice()},p.tickFormat=function(e){return arguments.length?(a=e,p):a},p.tickSize=function(e){return arguments.length?(i=o=+e,p):i},p.tickSizeInner=function(e){return arguments.length?(i=+e,p):i},p.tickSizeOuter=function(e){return arguments.length?(o=+e,p):o},p.tickPadding=function(e){return arguments.length?(u=+e,p):u},p.offset=function(e){return arguments.length?(l=+e,p):l},p}function dn(e){return pn(rn,e)}function hn(e){return function(){return e}}function vn(e){this._context=e}function gn(e){return new vn(e)}Array.prototype.slice,vn.prototype={areaStart:function(){this._line=0},areaEnd:function(){this._line=NaN},lineStart:function(){this._point=0},lineEnd:function(){(this._line||0!==this._line&&1===this._point)&&this._context.closePath(),this._line=1-this._line},point:function(e,t){switch(e=+e,t=+t,this._point){case 0:this._point=1,this._line?this._context.lineTo(e,t):this._context.moveTo(e,t);break;case 1:this._point=2;default:this._context.lineTo(e,t)}}};const yn=Math.PI,mn=2*yn,bn=1e-6,_n=mn-bn;function wn(e){this._+=e[0];for(let t=1,n=e.length;t<n;++t)this._+=arguments[t]+e[t]}class xn{constructor(e){this._x0=this._y0=this._x1=this._y1=null,this._=\"\",this._append=null==e?wn:function(e){let t=Math.floor(e);if(!(t>=0))throw new Error(`invalid digits: ${e}`);if(t>15)return wn;const n=10**t;return function(e){this._+=e[0];for(let t=1,r=e.length;t<r;++t)this._+=Math.round(arguments[t]*n)/n+e[t]}}(e)}moveTo(e,t){this._append`M${this._x0=this._x1=+e},${this._y0=this._y1=+t}`}closePath(){null!==this._x1&&(this._x1=this._x0,this._y1=this._y0,this._append`Z`)}lineTo(e,t){this._append`L${this._x1=+e},${this._y1=+t}`}quadraticCurveTo(e,t,n,r){this._append`Q${+e},${+t},${this._x1=+n},${this._y1=+r}`}bezierCurveTo(e,t,n,r,a,i){this._append`C${+e},${+t},${+n},${+r},${this._x1=+a},${this._y1=+i}`}arcTo(e,t,n,r,a){if(e=+e,t=+t,n=+n,r=+r,(a=+a)<0)throw new Error(`negative radius: ${a}`);let i=this._x1,o=this._y1,u=n-e,l=r-t,s=i-e,c=o-t,f=s*s+c*c;if(null===this._x1)this._append`M${this._x1=e},${this._y1=t}`;else if(f>bn)if(Math.abs(c*u-l*s)>bn&&a){let p=n-i,d=r-o,h=u*u+l*l,v=p*p+d*d,g=Math.sqrt(h),y=Math.sqrt(f),m=a*Math.tan((yn-Math.acos((h+f-v)/(2*g*y)))/2),b=m/y,_=m/g;Math.abs(b-1)>bn&&this._append`L${e+b*s},${t+b*c}`,this._append`A${a},${a},0,0,${+(c*p>s*d)},${this._x1=e+_*u},${this._y1=t+_*l}`}else this._append`L${this._x1=e},${this._y1=t}`}arc(e,t,n,r,a,i){if(e=+e,t=+t,i=!!i,(n=+n)<0)throw new Error(`negative radius: ${n}`);let o=n*Math.cos(r),u=n*Math.sin(r),l=e+o,s=t+u,c=1^i,f=i?r-a:a-r;null===this._x1?this._append`M${l},${s}`:(Math.abs(this._x1-l)>bn||Math.abs(this._y1-s)>bn)&&this._append`L${l},${s}`,n&&(f<0&&(f=f%mn+mn),f>_n?this._append`A${n},${n},0,1,${c},${e-o},${t-u}A${n},${n},0,1,${c},${this._x1=l},${this._y1=s}`:f>bn&&this._append`A${n},${n},0,${+(f>=yn)},${c},${this._x1=e+n*Math.cos(a)},${this._y1=t+n*Math.sin(a)}`)}rect(e,t,n,r){this._append`M${this._x0=this._x1=+e},${this._y0=this._y1=+t}h${n=+n}v${+r}h${-n}Z`}toString(){return this._}}function kn(e){return e[0]}function Sn(e){return e[1]}function En(e,t){var n=hn(!0),r=null,a=gn,i=null,o=function(e){let t=3;return e.digits=function(n){if(!arguments.length)return t;if(null==n)t=null;else{const e=Math.floor(n);if(!(e>=0))throw new RangeError(`invalid digits: ${n}`);t=e}return e},()=>new xn(t)}(u);function u(u){var l,s,c,f=(u=function(e){return\"object\"==typeof e&&\"length\"in e?e:Array.from(e)}(u)).length,p=!1;for(null==r&&(i=a(c=o())),l=0;l<=f;++l)!(l<f&&n(s=u[l],l,u))===p&&((p=!p)?i.lineStart():i.lineEnd()),p&&i.point(+e(s,l,u),+t(s,l,u));if(c)return i=null,c+\"\"||null}return e=\"function\"==typeof e?e:void 0===e?kn:hn(e),t=\"function\"==typeof t?t:void 0===t?Sn:hn(t),u.x=function(t){return arguments.length?(e=\"function\"==typeof t?t:hn(+t),u):e},u.y=function(e){return arguments.length?(t=\"function\"==typeof e?e:hn(+e),u):t},u.defined=function(e){return arguments.length?(n=\"function\"==typeof e?e:hn(!!e),u):n},u.curve=function(e){return arguments.length?(a=e,null!=r&&(i=a(r)),u):a},u.context=function(e){return arguments.length?(null==e?r=i=null:i=a(r=e),u):r},u}function Cn(e){return Cn=\"function\"==typeof Symbol&&\"symbol\"==typeof Symbol.iterator?function(e){return typeof e}:function(e){return e&&\"function\"==typeof Symbol&&e.constructor===Symbol&&e!==Symbol.prototype?\"symbol\":typeof e},Cn(e)}function Tn(e,t){for(var n=0;n<t.length;n++){var r=t[n];r.enumerable=r.enumerable||!1,r.configurable=!0,\"value\"in r&&(r.writable=!0),Object.defineProperty(e,(void 0,a=function(e,t){if(\"object\"!==Cn(e)||null===e)return e;var n=e[Symbol.toPrimitive];if(void 0!==n){var r=n.call(e,\"string\");if(\"object\"!==Cn(r))return r;throw new TypeError(\"@@toPrimitive must return a primitive value.\")}return String(e)}(r.key),\"symbol\"===Cn(a)?a:String(a)),r)}var a}function Mn(e,t){return Mn=Object.setPrototypeOf?Object.setPrototypeOf.bind():function(e,t){return e.__proto__=t,e},Mn(e,t)}function Nn(e){if(void 0===e)throw new ReferenceError(\"this hasn't been initialised - super() hasn't been called\");return e}function Pn(e){return Pn=Object.setPrototypeOf?Object.getPrototypeOf.bind():function(e){return e.__proto__||Object.getPrototypeOf(e)},Pn(e)}var zn=function(t){!function(e,t){if(\"function\"!=typeof t&&null!==t)throw new TypeError(\"Super expression must either be null or a function\");e.prototype=Object.create(t&&t.prototype,{constructor:{value:e,writable:!0,configurable:!0}}),Object.defineProperty(e,\"prototype\",{writable:!1}),t&&Mn(e,t)}(u,t);var n,r,a,i,o=(a=u,i=function(){if(\"undefined\"==typeof Reflect||!Reflect.construct)return!1;if(Reflect.construct.sham)return!1;if(\"function\"==typeof Proxy)return!0;try{return Boolean.prototype.valueOf.call(Reflect.construct(Boolean,[],(function(){}))),!0}catch(e){return!1}}(),function(){var e,t=Pn(a);if(i){var n=Pn(this).constructor;e=Reflect.construct(t,arguments,n)}else e=t.apply(this,arguments);return function(e,t){if(t&&(\"object\"===Cn(t)||\"function\"==typeof t))return t;if(void 0!==t)throw new TypeError(\"Derived constructors may only return object or undefined\");return Nn(e)}(this,e)});function u(){var e;return function(e,t){if(!(e instanceof t))throw new TypeError(\"Cannot call a class as a function\")}(this,u),e=o.call(this),window.lastAdditiveForceVisualizer=Nn(e),e.effectFormat=ze(\".2\"),e.redraw=(0,Re.debounce)((function(){return e.draw()}),200),e}return n=u,(r=[{key:\"componentDidMount\",value:function(){var e=this;this.mainGroup=this.svg.append(\"g\"),this.axisElement=this.mainGroup.append(\"g\").attr(\"transform\",\"translate(0,35)\").attr(\"class\",\"force-bar-axis\"),this.onTopGroup=this.svg.append(\"g\"),this.baseValueTitle=this.svg.append(\"text\"),this.joinPointLine=this.svg.append(\"line\"),this.joinPointLabelOutline=this.svg.append(\"text\"),this.joinPointLabel=this.svg.append(\"text\"),this.joinPointTitleLeft=this.svg.append(\"text\"),this.joinPointTitleLeftArrow=this.svg.append(\"text\"),this.joinPointTitle=this.svg.append(\"text\"),this.joinPointTitleRightArrow=this.svg.append(\"text\"),this.joinPointTitleRight=this.svg.append(\"text\"),this.hoverLabelBacking=this.svg.append(\"text\").attr(\"x\",10).attr(\"y\",20).attr(\"text-anchor\",\"middle\").attr(\"font-size\",12).attr(\"stroke\",\"#fff\").attr(\"fill\",\"#fff\").attr(\"stroke-width\",\"4\").attr(\"stroke-linejoin\",\"round\").text(\"\").on(\"mouseover\",(function(){e.hoverLabel.attr(\"opacity\",1),e.hoverLabelBacking.attr(\"opacity\",1)})).on(\"mouseout\",(function(){e.hoverLabel.attr(\"opacity\",0),e.hoverLabelBacking.attr(\"opacity\",0)})),this.hoverLabel=this.svg.append(\"text\").attr(\"x\",10).attr(\"y\",20).attr(\"text-anchor\",\"middle\").attr(\"font-size\",12).attr(\"fill\",\"#0f0\").text(\"\").on(\"mouseover\",(function(){e.hoverLabel.attr(\"opacity\",1),e.hoverLabelBacking.attr(\"opacity\",1)})).on(\"mouseout\",(function(){e.hoverLabel.attr(\"opacity\",0),e.hoverLabelBacking.attr(\"opacity\",0)}));var t=void 0;\"string\"==typeof this.props.plot_cmap?this.props.plot_cmap in je.colors?t=je.colors[this.props.plot_cmap]:(console.log(\"Invalid color map name, reverting to default.\"),t=je.colors.RdBu):Array.isArray(this.props.plot_cmap)&&(t=this.props.plot_cmap),this.colors=t.map((function(e){return q(e)})),this.brighterColors=[1.45,1.6].map((function(t,n){return e.colors[n].brighter(t)})),this.colors.map((function(t,n){var r=e.svg.append(\"linearGradient\").attr(\"id\",\"linear-grad-\"+n).attr(\"x1\",\"0%\").attr(\"y1\",\"0%\").attr(\"x2\",\"0%\").attr(\"y2\",\"100%\");r.append(\"stop\").attr(\"offset\",\"0%\").attr(\"stop-color\",t).attr(\"stop-opacity\",.6),r.append(\"stop\").attr(\"offset\",\"100%\").attr(\"stop-color\",t).attr(\"stop-opacity\",0);var a=e.svg.append(\"linearGradient\").attr(\"id\",\"linear-backgrad-\"+n).attr(\"x1\",\"0%\").attr(\"y1\",\"0%\").attr(\"x2\",\"0%\").attr(\"y2\",\"100%\");a.append(\"stop\").attr(\"offset\",\"0%\").attr(\"stop-color\",t).attr(\"stop-opacity\",.5),a.append(\"stop\").attr(\"offset\",\"100%\").attr(\"stop-color\",t).attr(\"stop-opacity\",0)})),this.tickFormat=ze(\",.4\"),this.scaleCentered=De(),this.axis=dn().scale(this.scaleCentered).tickSizeInner(4).tickSizeOuter(0).tickFormat((function(t){return e.tickFormat(e.invLinkFunction(t))})).tickPadding(-18),window.addEventListener(\"resize\",this.redraw),window.setTimeout(this.redraw,50)}},{key:\"componentDidUpdate\",value:function(){this.draw()}},{key:\"draw\",value:function(){var e=this;(0,Re.each)(this.props.featureNames,(function(t,n){e.props.features[n]&&(e.props.features[n].name=t)})),\"identity\"===this.props.link?this.invLinkFunction=function(t){return e.props.baseValue+t}:\"logit\"===this.props.link?this.invLinkFunction=function(t){return 1/(1+Math.exp(-(e.props.baseValue+t)))}:console.log(\"ERROR: Unrecognized link function: \",this.props.link);var t=this.svg.node().parentNode.offsetWidth;if(0==t)return setTimeout((function(){return e.draw(e.props)}),500);this.svg.style(\"height\",\"150px\"),this.svg.style(\"width\",t+\"px\");var n=(0,Re.sortBy)(this.props.features,(function(e){return-1/(e.effect+1e-10)})),r=(0,Re.sum)((0,Re.map)(n,(function(e){return Math.abs(e.effect)}))),a=(0,Re.sum)((0,Re.map)((0,Re.filter)(n,(function(e){return e.effect>0})),(function(e){return e.effect})))||0,i=(0,Re.sum)((0,Re.map)((0,Re.filter)(n,(function(e){return e.effect<0})),(function(e){return-e.effect})))||0;this.domainSize=3*Math.max(a,i);var o=De().domain([0,this.domainSize]).range([0,t]),u=t/2-o(i);this.scaleCentered.domain([-this.domainSize/2,this.domainSize/2]).range([0,t]).clamp(!0),this.axisElement.attr(\"transform\",\"translate(0,50)\").call(this.axis);var l,s,c,f=0;for(l=0;l<n.length;++l)n[l].x=f,n[l].effect<0&&void 0===s&&(s=f,c=l),f+=Math.abs(n[l].effect);void 0===s&&(s=f,c=l);var p=En().x((function(e){return e[0]})).y((function(e){return e[1]})),d=function(t){return void 0!==t.value&&null!==t.value&&\"\"!==t.value?t.name+\" = \"+(isNaN(t.value)?t.value:e.tickFormat(t.value)):t.name};n=this.props.hideBars?[]:n;var h=this.mainGroup.selectAll(\".force-bar-blocks\").data(n);h.enter().append(\"path\").attr(\"class\",\"force-bar-blocks\").merge(h).attr(\"d\",(function(e,t){var n=o(e.x)+u,r=o(Math.abs(e.effect)),a=e.effect<0?-4:4,i=a;return t===c&&(a=0),t===c-1&&(i=0),p([[n,56],[n+r,56],[n+r+i,64.5],[n+r,73],[n,73],[n+a,64.5]])})).attr(\"fill\",(function(t){return t.effect>0?e.colors[0]:e.colors[1]})).on(\"mouseover\",(function(t){if(o(Math.abs(t.effect))<o(r)/50||o(Math.abs(t.effect))<10){var n=o(t.x)+u,a=o(Math.abs(t.effect));e.hoverLabel.attr(\"opacity\",1).attr(\"x\",n+a/2).attr(\"y\",50.5).attr(\"fill\",t.effect>0?e.colors[0]:e.colors[1]).text(d(t)),e.hoverLabelBacking.attr(\"opacity\",1).attr(\"x\",n+a/2).attr(\"y\",50.5).text(d(t))}})).on(\"mouseout\",(function(){e.hoverLabel.attr(\"opacity\",0),e.hoverLabelBacking.attr(\"opacity\",0)})),h.exit().remove();var v=(0,Re.filter)(n,(function(e){return o(Math.abs(e.effect))>o(r)/50&&o(Math.abs(e.effect))>10})),g=this.onTopGroup.selectAll(\".force-bar-labels\").data(v);if(g.exit().remove(),g=g.enter().append(\"text\").attr(\"class\",\"force-bar-labels\").attr(\"font-size\",\"12px\").attr(\"y\",98).merge(g).text((function(t){return void 0!==t.value&&null!==t.value&&\"\"!==t.value?t.name+\" = \"+(isNaN(t.value)?t.value:e.tickFormat(t.value)):t.name})).attr(\"fill\",(function(t){return t.effect>0?e.colors[0]:e.colors[1]})).attr(\"stroke\",(function(e){return e.textWidth=Math.max(this.getComputedTextLength(),o(Math.abs(e.effect))-10),e.innerTextWidth=this.getComputedTextLength(),\"none\"})),this.filteredData=v,n.length>0){f=s+o.invert(5);for(var y=c;y<n.length;++y)n[y].textx=f,f+=o.invert(n[y].textWidth+10);f=s-o.invert(5);for(var m=c-1;m>=0;--m)n[m].textx=f,f-=o.invert(n[m].textWidth+10)}g.attr(\"x\",(function(e){return o(e.textx)+u+(e.effect>0?-e.textWidth/2:e.textWidth/2)})).attr(\"text-anchor\",\"middle\"),v=(0,Re.filter)(v,(function(n){return o(n.textx)+u>e.props.labelMargin&&o(n.textx)+u<t-e.props.labelMargin})),this.filteredData2=v;var b=v.slice(),_=(0,Re.findIndex)(n,v[0])-1;_>=0&&b.unshift(n[_]);var w=this.mainGroup.selectAll(\".force-bar-labelBacking\").data(v);w.enter().append(\"path\").attr(\"class\",\"force-bar-labelBacking\").attr(\"stroke\",\"none\").attr(\"opacity\",.2).merge(w).attr(\"d\",(function(e){return p([[o(e.x)+o(Math.abs(e.effect))+u,73],[(e.effect>0?o(e.textx):o(e.textx)+e.textWidth)+u+5,83],[(e.effect>0?o(e.textx):o(e.textx)+e.textWidth)+u+5,104],[(e.effect>0?o(e.textx)-e.textWidth:o(e.textx))+u-5,104],[(e.effect>0?o(e.textx)-e.textWidth:o(e.textx))+u-5,83],[o(e.x)+u,73]])})).attr(\"fill\",(function(e){return\"url(#linear-backgrad-\".concat(e.effect>0?0:1,\")\")})),w.exit().remove();var x=this.mainGroup.selectAll(\".force-bar-labelDividers\").data(v.slice(0,-1));x.enter().append(\"rect\").attr(\"class\",\"force-bar-labelDividers\").attr(\"height\",\"21px\").attr(\"width\",\"1px\").attr(\"y\",83).merge(x).attr(\"x\",(function(e){return(e.effect>0?o(e.textx):o(e.textx)+e.textWidth)+u+4.5})).attr(\"fill\",(function(e){return\"url(#linear-grad-\".concat(e.effect>0?0:1,\")\")})),x.exit().remove();var k=this.mainGroup.selectAll(\".force-bar-labelLinks\").data(v.slice(0,-1));k.enter().append(\"line\").attr(\"class\",\"force-bar-labelLinks\").attr(\"y1\",73).attr(\"y2\",83).attr(\"stroke-opacity\",.5).attr(\"stroke-width\",1).merge(k).attr(\"x1\",(function(e){return o(e.x)+o(Math.abs(e.effect))+u})).attr(\"x2\",(function(e){return(e.effect>0?o(e.textx):o(e.textx)+e.textWidth)+u+5})).attr(\"stroke\",(function(t){return t.effect>0?e.colors[0]:e.colors[1]})),k.exit().remove();var S=this.mainGroup.selectAll(\".force-bar-blockDividers\").data(n.slice(0,-1));S.enter().append(\"path\").attr(\"class\",\"force-bar-blockDividers\").attr(\"stroke-width\",2).attr(\"fill\",\"none\").merge(S).attr(\"d\",(function(e){var t=o(e.x)+o(Math.abs(e.effect))+u;return p([[t,56],[t+(e.effect<0?-4:4),64.5],[t,73]])})).attr(\"stroke\",(function(t,n){return c===n+1||Math.abs(t.effect)<1e-8?\"#rgba(0,0,0,0)\":t.effect>0?e.brighterColors[0]:e.brighterColors[1]})),S.exit().remove(),this.joinPointLine.attr(\"x1\",o(s)+u).attr(\"x2\",o(s)+u).attr(\"y1\",50).attr(\"y2\",56).attr(\"stroke\",\"#F2F2F2\").attr(\"stroke-width\",1).attr(\"opacity\",1),this.joinPointLabelOutline.attr(\"x\",o(s)+u).attr(\"y\",45).attr(\"color\",\"#fff\").attr(\"text-anchor\",\"middle\").attr(\"font-weight\",\"bold\").attr(\"stroke\",\"#fff\").attr(\"stroke-width\",6).text(ze(\",.2f\")(this.invLinkFunction(s-i))).attr(\"opacity\",1),console.log(\"joinPoint\",s,u,50,i),this.joinPointLabel.attr(\"x\",o(s)+u).attr(\"y\",45).attr(\"text-anchor\",\"middle\").attr(\"font-weight\",\"bold\").attr(\"fill\",\"#000\").text(ze(\",.2f\")(this.invLinkFunction(s-i))).attr(\"opacity\",1),this.joinPointTitle.attr(\"x\",o(s)+u).attr(\"y\",28).attr(\"text-anchor\",\"middle\").attr(\"font-size\",\"12\").attr(\"fill\",\"#000\").text(this.props.outNames[0]).attr(\"opacity\",.5),this.props.hideBars||(this.joinPointTitleLeft.attr(\"x\",o(s)+u-16).attr(\"y\",12).attr(\"text-anchor\",\"end\").attr(\"font-size\",\"13\").attr(\"fill\",this.colors[0]).text(\"higher\").attr(\"opacity\",1),this.joinPointTitleRight.attr(\"x\",o(s)+u+16).attr(\"y\",12).attr(\"text-anchor\",\"start\").attr(\"font-size\",\"13\").attr(\"fill\",this.colors[1]).text(\"lower\").attr(\"opacity\",1),this.joinPointTitleLeftArrow.attr(\"x\",o(s)+u+7).attr(\"y\",8).attr(\"text-anchor\",\"end\").attr(\"font-size\",\"13\").attr(\"fill\",this.colors[0]).text(\"→\").attr(\"opacity\",1),this.joinPointTitleRightArrow.attr(\"x\",o(s)+u-7).attr(\"y\",14).attr(\"text-anchor\",\"start\").attr(\"font-size\",\"13\").attr(\"fill\",this.colors[1]).text(\"←\").attr(\"opacity\",1)),this.props.hideBaseValueLabel||this.baseValueTitle.attr(\"x\",this.scaleCentered(0)).attr(\"y\",28).attr(\"text-anchor\",\"middle\").attr(\"font-size\",\"12\").attr(\"fill\",\"#000\").text(\"base value\").attr(\"opacity\",.5)}},{key:\"componentWillUnmount\",value:function(){window.removeEventListener(\"resize\",this.redraw)}},{key:\"render\",value:function(){var t=this;return e.createElement(\"svg\",{ref:function(e){return t.svg=Jt(e)},style:{userSelect:\"none\",display:\"block\",fontFamily:\"arial\",sansSerif:!0}},e.createElement(\"style\",{dangerouslySetInnerHTML:{__html:\"\\n          .force-bar-axis path {\\n            fill: none;\\n            opacity: 0.4;\\n          }\\n          .force-bar-axis paths {\\n            display: none;\\n          }\\n          .tick line {\\n            stroke: #000;\\n            stroke-width: 1px;\\n            opacity: 0.4;\\n          }\\n          .tick text {\\n            fill: #000;\\n            opacity: 0.5;\\n            font-size: 12px;\\n            padding: 0px;\\n          }\"}}))}}])&&Tn(n.prototype,r),Object.defineProperty(n,\"prototype\",{writable:!1}),u}(e.Component);zn.defaultProps={plot_cmap:\"RdBu\"};const Ln=zn,On=1e3,An=6e4,Fn=36e5,Dn=864e5,Rn=6048e5,jn=31536e6,Un=new Date,In=new Date;function $n(e,t,n,r){function a(t){return e(t=0===arguments.length?new Date:new Date(+t)),t}return a.floor=t=>(e(t=new Date(+t)),t),a.ceil=n=>(e(n=new Date(n-1)),t(n,1),e(n),n),a.round=e=>{const t=a(e),n=a.ceil(e);return e-t<n-e?t:n},a.offset=(e,n)=>(t(e=new Date(+e),null==n?1:Math.floor(n)),e),a.range=(n,r,i)=>{const o=[];if(n=a.ceil(n),i=null==i?1:Math.floor(i),!(n<r&&i>0))return o;let u;do{o.push(u=new Date(+n)),t(n,i),e(n)}while(u<n&&n<r);return o},a.filter=n=>$n((t=>{if(t>=t)for(;e(t),!n(t);)t.setTime(t-1)}),((e,r)=>{if(e>=e)if(r<0)for(;++r<=0;)for(;t(e,-1),!n(e););else for(;--r>=0;)for(;t(e,1),!n(e););})),n&&(a.count=(t,r)=>(Un.setTime(+t),In.setTime(+r),e(Un),e(In),Math.floor(n(Un,In))),a.every=e=>(e=Math.floor(e),isFinite(e)&&e>0?e>1?a.filter(r?t=>r(t)%e==0:t=>a.count(0,t)%e==0):a:null)),a}const Bn=$n((()=>{}),((e,t)=>{e.setTime(+e+t)}),((e,t)=>t-e));Bn.every=e=>(e=Math.floor(e),isFinite(e)&&e>0?e>1?$n((t=>{t.setTime(Math.floor(t/e)*e)}),((t,n)=>{t.setTime(+t+n*e)}),((t,n)=>(n-t)/e)):Bn:null),Bn.range;const Wn=$n((e=>{e.setTime(e-e.getMilliseconds())}),((e,t)=>{e.setTime(+e+t*On)}),((e,t)=>(t-e)/On),(e=>e.getUTCSeconds())),Vn=(Wn.range,$n((e=>{e.setTime(e-e.getMilliseconds()-e.getSeconds()*On)}),((e,t)=>{e.setTime(+e+t*An)}),((e,t)=>(t-e)/An),(e=>e.getMinutes()))),Hn=(Vn.range,$n((e=>{e.setUTCSeconds(0,0)}),((e,t)=>{e.setTime(+e+t*An)}),((e,t)=>(t-e)/An),(e=>e.getUTCMinutes()))),qn=(Hn.range,$n((e=>{e.setTime(e-e.getMilliseconds()-e.getSeconds()*On-e.getMinutes()*An)}),((e,t)=>{e.setTime(+e+t*Fn)}),((e,t)=>(t-e)/Fn),(e=>e.getHours()))),Qn=(qn.range,$n((e=>{e.setUTCMinutes(0,0,0)}),((e,t)=>{e.setTime(+e+t*Fn)}),((e,t)=>(t-e)/Fn),(e=>e.getUTCHours()))),Yn=(Qn.range,$n((e=>e.setHours(0,0,0,0)),((e,t)=>e.setDate(e.getDate()+t)),((e,t)=>(t-e-(t.getTimezoneOffset()-e.getTimezoneOffset())*An)/Dn),(e=>e.getDate()-1))),Gn=(Yn.range,$n((e=>{e.setUTCHours(0,0,0,0)}),((e,t)=>{e.setUTCDate(e.getUTCDate()+t)}),((e,t)=>(t-e)/Dn),(e=>e.getUTCDate()-1))),Kn=(Gn.range,$n((e=>{e.setUTCHours(0,0,0,0)}),((e,t)=>{e.setUTCDate(e.getUTCDate()+t)}),((e,t)=>(t-e)/Dn),(e=>Math.floor(e/Dn))));function Zn(e){return $n((t=>{t.setDate(t.getDate()-(t.getDay()+7-e)%7),t.setHours(0,0,0,0)}),((e,t)=>{e.setDate(e.getDate()+7*t)}),((e,t)=>(t-e-(t.getTimezoneOffset()-e.getTimezoneOffset())*An)/Rn))}Kn.range;const Xn=Zn(0),Jn=Zn(1),er=Zn(2),tr=Zn(3),nr=Zn(4),rr=Zn(5),ar=Zn(6);function ir(e){return $n((t=>{t.setUTCDate(t.getUTCDate()-(t.getUTCDay()+7-e)%7),t.setUTCHours(0,0,0,0)}),((e,t)=>{e.setUTCDate(e.getUTCDate()+7*t)}),((e,t)=>(t-e)/Rn))}Xn.range,Jn.range,er.range,tr.range,nr.range,rr.range,ar.range;const or=ir(0),ur=ir(1),lr=ir(2),sr=ir(3),cr=ir(4),fr=ir(5),pr=ir(6),dr=(or.range,ur.range,lr.range,sr.range,cr.range,fr.range,pr.range,$n((e=>{e.setDate(1),e.setHours(0,0,0,0)}),((e,t)=>{e.setMonth(e.getMonth()+t)}),((e,t)=>t.getMonth()-e.getMonth()+12*(t.getFullYear()-e.getFullYear())),(e=>e.getMonth()))),hr=(dr.range,$n((e=>{e.setUTCDate(1),e.setUTCHours(0,0,0,0)}),((e,t)=>{e.setUTCMonth(e.getUTCMonth()+t)}),((e,t)=>t.getUTCMonth()-e.getUTCMonth()+12*(t.getUTCFullYear()-e.getUTCFullYear())),(e=>e.getUTCMonth()))),vr=(hr.range,$n((e=>{e.setMonth(0,1),e.setHours(0,0,0,0)}),((e,t)=>{e.setFullYear(e.getFullYear()+t)}),((e,t)=>t.getFullYear()-e.getFullYear()),(e=>e.getFullYear())));vr.every=e=>isFinite(e=Math.floor(e))&&e>0?$n((t=>{t.setFullYear(Math.floor(t.getFullYear()/e)*e),t.setMonth(0,1),t.setHours(0,0,0,0)}),((t,n)=>{t.setFullYear(t.getFullYear()+n*e)})):null,vr.range;const gr=$n((e=>{e.setUTCMonth(0,1),e.setUTCHours(0,0,0,0)}),((e,t)=>{e.setUTCFullYear(e.getUTCFullYear()+t)}),((e,t)=>t.getUTCFullYear()-e.getUTCFullYear()),(e=>e.getUTCFullYear()));function yr(e,t,n,r,a,i){const o=[[Wn,1,On],[Wn,5,5e3],[Wn,15,15e3],[Wn,30,3e4],[i,1,An],[i,5,3e5],[i,15,9e5],[i,30,18e5],[a,1,Fn],[a,3,108e5],[a,6,216e5],[a,12,432e5],[r,1,Dn],[r,2,1728e5],[n,1,Rn],[t,1,2592e6],[t,3,7776e6],[e,1,jn]];function u(t,n,r){const a=Math.abs(n-t)/r,i=f((([,,e])=>e)).right(o,a);if(i===o.length)return e.every(l(t/jn,n/jn,r));if(0===i)return Bn.every(Math.max(l(t,n,r),1));const[u,s]=o[a/o[i-1][2]<o[i][2]/a?i-1:i];return u.every(s)}return[function(e,t,n){const r=t<e;r&&([e,t]=[t,e]);const a=n&&\"function\"==typeof n.range?n:u(e,t,n),i=a?a.range(e,+t+1):[];return r?i.reverse():i},u]}gr.every=e=>isFinite(e=Math.floor(e))&&e>0?$n((t=>{t.setUTCFullYear(Math.floor(t.getUTCFullYear()/e)*e),t.setUTCMonth(0,1),t.setUTCHours(0,0,0,0)}),((t,n)=>{t.setUTCFullYear(t.getUTCFullYear()+n*e)})):null,gr.range;const[mr,br]=yr(gr,hr,or,Kn,Qn,Hn),[_r,wr]=yr(vr,dr,Xn,Yn,qn,Vn);function xr(e){if(0<=e.y&&e.y<100){var t=new Date(-1,e.m,e.d,e.H,e.M,e.S,e.L);return t.setFullYear(e.y),t}return new Date(e.y,e.m,e.d,e.H,e.M,e.S,e.L)}function kr(e){if(0<=e.y&&e.y<100){var t=new Date(Date.UTC(-1,e.m,e.d,e.H,e.M,e.S,e.L));return t.setUTCFullYear(e.y),t}return new Date(Date.UTC(e.y,e.m,e.d,e.H,e.M,e.S,e.L))}function Sr(e,t,n){return{y:e,m:t,d:n,H:0,M:0,S:0,L:0}}var Er,Cr,Tr,Mr={\"-\":\"\",_:\" \",0:\"0\"},Nr=/^\\s*\\d+/,Pr=/^%/,zr=/[\\\\^$*+?|[\\]().{}]/g;function Lr(e,t,n){var r=e<0?\"-\":\"\",a=(r?-e:e)+\"\",i=a.length;return r+(i<n?new Array(n-i+1).join(t)+a:a)}function Or(e){return e.replace(zr,\"\\\\$&\")}function Ar(e){return new RegExp(\"^(?:\"+e.map(Or).join(\"|\")+\")\",\"i\")}function Fr(e){return new Map(e.map(((e,t)=>[e.toLowerCase(),t])))}function Dr(e,t,n){var r=Nr.exec(t.slice(n,n+1));return r?(e.w=+r[0],n+r[0].length):-1}function Rr(e,t,n){var r=Nr.exec(t.slice(n,n+1));return r?(e.u=+r[0],n+r[0].length):-1}function jr(e,t,n){var r=Nr.exec(t.slice(n,n+2));return r?(e.U=+r[0],n+r[0].length):-1}function Ur(e,t,n){var r=Nr.exec(t.slice(n,n+2));return r?(e.V=+r[0],n+r[0].length):-1}function Ir(e,t,n){var r=Nr.exec(t.slice(n,n+2));return r?(e.W=+r[0],n+r[0].length):-1}function $r(e,t,n){var r=Nr.exec(t.slice(n,n+4));return r?(e.y=+r[0],n+r[0].length):-1}function Br(e,t,n){var r=Nr.exec(t.slice(n,n+2));return r?(e.y=+r[0]+(+r[0]>68?1900:2e3),n+r[0].length):-1}function Wr(e,t,n){var r=/^(Z)|([+-]\\d\\d)(?::?(\\d\\d))?/.exec(t.slice(n,n+6));return r?(e.Z=r[1]?0:-(r[2]+(r[3]||\"00\")),n+r[0].length):-1}function Vr(e,t,n){var r=Nr.exec(t.slice(n,n+1));return r?(e.q=3*r[0]-3,n+r[0].length):-1}function Hr(e,t,n){var r=Nr.exec(t.slice(n,n+2));return r?(e.m=r[0]-1,n+r[0].length):-1}function qr(e,t,n){var r=Nr.exec(t.slice(n,n+2));return r?(e.d=+r[0],n+r[0].length):-1}function Qr(e,t,n){var r=Nr.exec(t.slice(n,n+3));return r?(e.m=0,e.d=+r[0],n+r[0].length):-1}function Yr(e,t,n){var r=Nr.exec(t.slice(n,n+2));return r?(e.H=+r[0],n+r[0].length):-1}function Gr(e,t,n){var r=Nr.exec(t.slice(n,n+2));return r?(e.M=+r[0],n+r[0].length):-1}function Kr(e,t,n){var r=Nr.exec(t.slice(n,n+2));return r?(e.S=+r[0],n+r[0].length):-1}function Zr(e,t,n){var r=Nr.exec(t.slice(n,n+3));return r?(e.L=+r[0],n+r[0].length):-1}function Xr(e,t,n){var r=Nr.exec(t.slice(n,n+6));return r?(e.L=Math.floor(r[0]/1e3),n+r[0].length):-1}function Jr(e,t,n){var r=Pr.exec(t.slice(n,n+1));return r?n+r[0].length:-1}function ea(e,t,n){var r=Nr.exec(t.slice(n));return r?(e.Q=+r[0],n+r[0].length):-1}function ta(e,t,n){var r=Nr.exec(t.slice(n));return r?(e.s=+r[0],n+r[0].length):-1}function na(e,t){return Lr(e.getDate(),t,2)}function ra(e,t){return Lr(e.getHours(),t,2)}function aa(e,t){return Lr(e.getHours()%12||12,t,2)}function ia(e,t){return Lr(1+Yn.count(vr(e),e),t,3)}function oa(e,t){return Lr(e.getMilliseconds(),t,3)}function ua(e,t){return oa(e,t)+\"000\"}function la(e,t){return Lr(e.getMonth()+1,t,2)}function sa(e,t){return Lr(e.getMinutes(),t,2)}function ca(e,t){return Lr(e.getSeconds(),t,2)}function fa(e){var t=e.getDay();return 0===t?7:t}function pa(e,t){return Lr(Xn.count(vr(e)-1,e),t,2)}function da(e){var t=e.getDay();return t>=4||0===t?nr(e):nr.ceil(e)}function ha(e,t){return e=da(e),Lr(nr.count(vr(e),e)+(4===vr(e).getDay()),t,2)}function va(e){return e.getDay()}function ga(e,t){return Lr(Jn.count(vr(e)-1,e),t,2)}function ya(e,t){return Lr(e.getFullYear()%100,t,2)}function ma(e,t){return Lr((e=da(e)).getFullYear()%100,t,2)}function ba(e,t){return Lr(e.getFullYear()%1e4,t,4)}function _a(e,t){var n=e.getDay();return Lr((e=n>=4||0===n?nr(e):nr.ceil(e)).getFullYear()%1e4,t,4)}function wa(e){var t=e.getTimezoneOffset();return(t>0?\"-\":(t*=-1,\"+\"))+Lr(t/60|0,\"0\",2)+Lr(t%60,\"0\",2)}function xa(e,t){return Lr(e.getUTCDate(),t,2)}function ka(e,t){return Lr(e.getUTCHours(),t,2)}function Sa(e,t){return Lr(e.getUTCHours()%12||12,t,2)}function Ea(e,t){return Lr(1+Gn.count(gr(e),e),t,3)}function Ca(e,t){return Lr(e.getUTCMilliseconds(),t,3)}function Ta(e,t){return Ca(e,t)+\"000\"}function Ma(e,t){return Lr(e.getUTCMonth()+1,t,2)}function Na(e,t){return Lr(e.getUTCMinutes(),t,2)}function Pa(e,t){return Lr(e.getUTCSeconds(),t,2)}function za(e){var t=e.getUTCDay();return 0===t?7:t}function La(e,t){return Lr(or.count(gr(e)-1,e),t,2)}function Oa(e){var t=e.getUTCDay();return t>=4||0===t?cr(e):cr.ceil(e)}function Aa(e,t){return e=Oa(e),Lr(cr.count(gr(e),e)+(4===gr(e).getUTCDay()),t,2)}function Fa(e){return e.getUTCDay()}function Da(e,t){return Lr(ur.count(gr(e)-1,e),t,2)}function Ra(e,t){return Lr(e.getUTCFullYear()%100,t,2)}function ja(e,t){return Lr((e=Oa(e)).getUTCFullYear()%100,t,2)}function Ua(e,t){return Lr(e.getUTCFullYear()%1e4,t,4)}function Ia(e,t){var n=e.getUTCDay();return Lr((e=n>=4||0===n?cr(e):cr.ceil(e)).getUTCFullYear()%1e4,t,4)}function $a(){return\"+0000\"}function Ba(){return\"%\"}function Wa(e){return+e}function Va(e){return Math.floor(+e/1e3)}function Ha(e){return new Date(e)}function qa(e){return e instanceof Date?+e:+new Date(+e)}function Qa(e,t,n,r,a,i,o,u,l,s){var c=be(),f=c.invert,p=c.domain,d=s(\".%L\"),h=s(\":%S\"),v=s(\"%I:%M\"),g=s(\"%I %p\"),y=s(\"%a %d\"),m=s(\"%b %d\"),b=s(\"%B\"),_=s(\"%Y\");function w(e){return(l(e)<e?d:u(e)<e?h:o(e)<e?v:i(e)<e?g:r(e)<e?a(e)<e?y:m:n(e)<e?b:_)(e)}return c.invert=function(e){return new Date(f(e))},c.domain=function(e){return arguments.length?p(Array.from(e,qa)):p().map(Ha)},c.ticks=function(t){var n=p();return e(n[0],n[n.length-1],null==t?10:t)},c.tickFormat=function(e,t){return null==t?w:s(t)},c.nice=function(e){var n=p();return e&&\"function\"==typeof e.range||(e=t(n[0],n[n.length-1],null==e?10:e)),e?p(function(e,t){var n,r=0,a=(e=e.slice()).length-1,i=e[r],o=e[a];return o<i&&(n=r,r=a,a=n,n=i,i=o,o=n),e[r]=t.floor(i),e[a]=t.ceil(o),e}(n,e)):c},c.copy=function(){return me(c,Qa(e,t,n,r,a,i,o,u,l,s))},c}function Ya(){return _e.apply(Qa(_r,wr,vr,dr,Xn,Yn,qn,Vn,Wn,Cr).domain([new Date(2e3,0,1),new Date(2e3,0,2)]),arguments)}function Ga(e,t){var n=\"undefined\"!=typeof Symbol&&e[Symbol.iterator]||e[\"@@iterator\"];if(!n){if(Array.isArray(e)||(n=function(e,t){if(e){if(\"string\"==typeof e)return Ka(e,t);var n=Object.prototype.toString.call(e).slice(8,-1);return\"Object\"===n&&e.constructor&&(n=e.constructor.name),\"Map\"===n||\"Set\"===n?Array.from(e):\"Arguments\"===n||/^(?:Ui|I)nt(?:8|16|32)(?:Clamped)?Array$/.test(n)?Ka(e,t):void 0}}(e))||t&&e&&\"number\"==typeof e.length){n&&(e=n);var r=0,a=function(){};return{s:a,n:function(){return r>=e.length?{done:!0}:{done:!1,value:e[r++]}},e:function(e){throw e},f:a}}throw new TypeError(\"Invalid attempt to iterate non-iterable instance.\\nIn order to be iterable, non-array objects must have a [Symbol.iterator]() method.\")}var i,o=!0,u=!1;return{s:function(){n=n.call(e)},n:function(){var e=n.next();return o=e.done,e},e:function(e){u=!0,i=e},f:function(){try{o||null==n.return||n.return()}finally{if(u)throw i}}}}function Ka(e,t){(null==t||t>e.length)&&(t=e.length);for(var n=0,r=new Array(t);n<t;n++)r[n]=e[n];return r}function Za(e){return Za=\"function\"==typeof Symbol&&\"symbol\"==typeof Symbol.iterator?function(e){return typeof e}:function(e){return e&&\"function\"==typeof Symbol&&e.constructor===Symbol&&e!==Symbol.prototype?\"symbol\":typeof e},Za(e)}function Xa(e,t){for(var n=0;n<t.length;n++){var r=t[n];r.enumerable=r.enumerable||!1,r.configurable=!0,\"value\"in r&&(r.writable=!0),Object.defineProperty(e,(void 0,a=function(e,t){if(\"object\"!==Za(e)||null===e)return e;var n=e[Symbol.toPrimitive];if(void 0!==n){var r=n.call(e,\"string\");if(\"object\"!==Za(r))return r;throw new TypeError(\"@@toPrimitive must return a primitive value.\")}return String(e)}(r.key),\"symbol\"===Za(a)?a:String(a)),r)}var a}function Ja(e,t){return Ja=Object.setPrototypeOf?Object.setPrototypeOf.bind():function(e,t){return e.__proto__=t,e},Ja(e,t)}function ei(e){if(void 0===e)throw new ReferenceError(\"this hasn't been initialised - super() hasn't been called\");return e}function ti(e){return ti=Object.setPrototypeOf?Object.getPrototypeOf.bind():function(e){return e.__proto__||Object.getPrototypeOf(e)},ti(e)}Er=function(e){var t=e.dateTime,n=e.date,r=e.time,a=e.periods,i=e.days,o=e.shortDays,u=e.months,l=e.shortMonths,s=Ar(a),c=Fr(a),f=Ar(i),p=Fr(i),d=Ar(o),h=Fr(o),v=Ar(u),g=Fr(u),y=Ar(l),m=Fr(l),b={a:function(e){return o[e.getDay()]},A:function(e){return i[e.getDay()]},b:function(e){return l[e.getMonth()]},B:function(e){return u[e.getMonth()]},c:null,d:na,e:na,f:ua,g:ma,G:_a,H:ra,I:aa,j:ia,L:oa,m:la,M:sa,p:function(e){return a[+(e.getHours()>=12)]},q:function(e){return 1+~~(e.getMonth()/3)},Q:Wa,s:Va,S:ca,u:fa,U:pa,V:ha,w:va,W:ga,x:null,X:null,y:ya,Y:ba,Z:wa,\"%\":Ba},_={a:function(e){return o[e.getUTCDay()]},A:function(e){return i[e.getUTCDay()]},b:function(e){return l[e.getUTCMonth()]},B:function(e){return u[e.getUTCMonth()]},c:null,d:xa,e:xa,f:Ta,g:ja,G:Ia,H:ka,I:Sa,j:Ea,L:Ca,m:Ma,M:Na,p:function(e){return a[+(e.getUTCHours()>=12)]},q:function(e){return 1+~~(e.getUTCMonth()/3)},Q:Wa,s:Va,S:Pa,u:za,U:La,V:Aa,w:Fa,W:Da,x:null,X:null,y:Ra,Y:Ua,Z:$a,\"%\":Ba},w={a:function(e,t,n){var r=d.exec(t.slice(n));return r?(e.w=h.get(r[0].toLowerCase()),n+r[0].length):-1},A:function(e,t,n){var r=f.exec(t.slice(n));return r?(e.w=p.get(r[0].toLowerCase()),n+r[0].length):-1},b:function(e,t,n){var r=y.exec(t.slice(n));return r?(e.m=m.get(r[0].toLowerCase()),n+r[0].length):-1},B:function(e,t,n){var r=v.exec(t.slice(n));return r?(e.m=g.get(r[0].toLowerCase()),n+r[0].length):-1},c:function(e,n,r){return S(e,t,n,r)},d:qr,e:qr,f:Xr,g:Br,G:$r,H:Yr,I:Yr,j:Qr,L:Zr,m:Hr,M:Gr,p:function(e,t,n){var r=s.exec(t.slice(n));return r?(e.p=c.get(r[0].toLowerCase()),n+r[0].length):-1},q:Vr,Q:ea,s:ta,S:Kr,u:Rr,U:jr,V:Ur,w:Dr,W:Ir,x:function(e,t,r){return S(e,n,t,r)},X:function(e,t,n){return S(e,r,t,n)},y:Br,Y:$r,Z:Wr,\"%\":Jr};function x(e,t){return function(n){var r,a,i,o=[],u=-1,l=0,s=e.length;for(n instanceof Date||(n=new Date(+n));++u<s;)37===e.charCodeAt(u)&&(o.push(e.slice(l,u)),null!=(a=Mr[r=e.charAt(++u)])?r=e.charAt(++u):a=\"e\"===r?\" \":\"0\",(i=t[r])&&(r=i(n,a)),o.push(r),l=u+1);return o.push(e.slice(l,u)),o.join(\"\")}}function k(e,t){return function(n){var r,a,i=Sr(1900,void 0,1);if(S(i,e,n+=\"\",0)!=n.length)return null;if(\"Q\"in i)return new Date(i.Q);if(\"s\"in i)return new Date(1e3*i.s+(\"L\"in i?i.L:0));if(t&&!(\"Z\"in i)&&(i.Z=0),\"p\"in i&&(i.H=i.H%12+12*i.p),void 0===i.m&&(i.m=\"q\"in i?i.q:0),\"V\"in i){if(i.V<1||i.V>53)return null;\"w\"in i||(i.w=1),\"Z\"in i?(a=(r=kr(Sr(i.y,0,1))).getUTCDay(),r=a>4||0===a?ur.ceil(r):ur(r),r=Gn.offset(r,7*(i.V-1)),i.y=r.getUTCFullYear(),i.m=r.getUTCMonth(),i.d=r.getUTCDate()+(i.w+6)%7):(a=(r=xr(Sr(i.y,0,1))).getDay(),r=a>4||0===a?Jn.ceil(r):Jn(r),r=Yn.offset(r,7*(i.V-1)),i.y=r.getFullYear(),i.m=r.getMonth(),i.d=r.getDate()+(i.w+6)%7)}else(\"W\"in i||\"U\"in i)&&(\"w\"in i||(i.w=\"u\"in i?i.u%7:\"W\"in i?1:0),a=\"Z\"in i?kr(Sr(i.y,0,1)).getUTCDay():xr(Sr(i.y,0,1)).getDay(),i.m=0,i.d=\"W\"in i?(i.w+6)%7+7*i.W-(a+5)%7:i.w+7*i.U-(a+6)%7);return\"Z\"in i?(i.H+=i.Z/100|0,i.M+=i.Z%100,kr(i)):xr(i)}}function S(e,t,n,r){for(var a,i,o=0,u=t.length,l=n.length;o<u;){if(r>=l)return-1;if(37===(a=t.charCodeAt(o++))){if(a=t.charAt(o++),!(i=w[a in Mr?t.charAt(o++):a])||(r=i(e,n,r))<0)return-1}else if(a!=n.charCodeAt(r++))return-1}return r}return b.x=x(n,b),b.X=x(r,b),b.c=x(t,b),_.x=x(n,_),_.X=x(r,_),_.c=x(t,_),{format:function(e){var t=x(e+=\"\",b);return t.toString=function(){return e},t},parse:function(e){var t=k(e+=\"\",!1);return t.toString=function(){return e},t},utcFormat:function(e){var t=x(e+=\"\",_);return t.toString=function(){return e},t},utcParse:function(e){var t=k(e+=\"\",!0);return t.toString=function(){return e},t}}}({dateTime:\"%x, %X\",date:\"%-m/%-d/%Y\",time:\"%-I:%M:%S %p\",periods:[\"AM\",\"PM\"],days:[\"Sunday\",\"Monday\",\"Tuesday\",\"Wednesday\",\"Thursday\",\"Friday\",\"Saturday\"],shortDays:[\"Sun\",\"Mon\",\"Tue\",\"Wed\",\"Thu\",\"Fri\",\"Sat\"],months:[\"January\",\"February\",\"March\",\"April\",\"May\",\"June\",\"July\",\"August\",\"September\",\"October\",\"November\",\"December\"],shortMonths:[\"Jan\",\"Feb\",\"Mar\",\"Apr\",\"May\",\"Jun\",\"Jul\",\"Aug\",\"Sep\",\"Oct\",\"Nov\",\"Dec\"]}),Cr=Er.format,Tr=Er.parse,Er.utcFormat,Er.utcParse;var ni=function(t){!function(e,t){if(\"function\"!=typeof t&&null!==t)throw new TypeError(\"Super expression must either be null or a function\");e.prototype=Object.create(t&&t.prototype,{constructor:{value:e,writable:!0,configurable:!0}}),Object.defineProperty(e,\"prototype\",{writable:!1}),t&&Ja(e,t)}(u,t);var n,r,a,i,o=(a=u,i=function(){if(\"undefined\"==typeof Reflect||!Reflect.construct)return!1;if(Reflect.construct.sham)return!1;if(\"function\"==typeof Proxy)return!0;try{return Boolean.prototype.valueOf.call(Reflect.construct(Boolean,[],(function(){}))),!0}catch(e){return!1}}(),function(){var e,t=ti(a);if(i){var n=ti(this).constructor;e=Reflect.construct(t,arguments,n)}else e=t.apply(this,arguments);return function(e,t){if(t&&(\"object\"===Za(t)||\"function\"==typeof t))return t;if(void 0!==t)throw new TypeError(\"Derived constructors may only return object or undefined\");return ei(e)}(this,e)});function u(){var e;return function(e,t){if(!(e instanceof t))throw new TypeError(\"Cannot call a class as a function\")}(this,u),e=o.call(this),window.lastAdditiveForceArrayVisualizer=ei(e),e.topOffset=28,e.leftOffset=80,e.height=350,e.effectFormat=ze(\".2\"),e.redraw=(0,Re.debounce)((function(){return e.draw()}),200),e}return n=u,(r=[{key:\"componentDidMount\",value:function(){var e=this;this.mainGroup=this.svg.append(\"g\"),this.onTopGroup=this.svg.append(\"g\"),this.xaxisElement=this.onTopGroup.append(\"g\").attr(\"transform\",\"translate(0,35)\").attr(\"class\",\"force-bar-array-xaxis\"),this.yaxisElement=this.onTopGroup.append(\"g\").attr(\"transform\",\"translate(0,35)\").attr(\"class\",\"force-bar-array-yaxis\"),this.hoverGroup1=this.svg.append(\"g\"),this.hoverGroup2=this.svg.append(\"g\"),this.baseValueTitle=this.svg.append(\"text\"),this.hoverLine=this.svg.append(\"line\"),this.hoverxOutline=this.svg.append(\"text\").attr(\"text-anchor\",\"middle\").attr(\"font-weight\",\"bold\").attr(\"fill\",\"#fff\").attr(\"stroke\",\"#fff\").attr(\"stroke-width\",\"6\").attr(\"font-size\",\"12px\"),this.hoverx=this.svg.append(\"text\").attr(\"text-anchor\",\"middle\").attr(\"font-weight\",\"bold\").attr(\"fill\",\"#000\").attr(\"font-size\",\"12px\"),this.hoverxTitle=this.svg.append(\"text\").attr(\"text-anchor\",\"middle\").attr(\"opacity\",.6).attr(\"font-size\",\"12px\"),this.hoveryOutline=this.svg.append(\"text\").attr(\"text-anchor\",\"end\").attr(\"font-weight\",\"bold\").attr(\"fill\",\"#fff\").attr(\"stroke\",\"#fff\").attr(\"stroke-width\",\"6\").attr(\"font-size\",\"12px\"),this.hovery=this.svg.append(\"text\").attr(\"text-anchor\",\"end\").attr(\"font-weight\",\"bold\").attr(\"fill\",\"#000\").attr(\"font-size\",\"12px\"),this.xlabel=this.wrapper.select(\".additive-force-array-xlabel\"),this.ylabel=this.wrapper.select(\".additive-force-array-ylabel\");var t=void 0;\"string\"==typeof this.props.plot_cmap?this.props.plot_cmap in je.colors?t=je.colors[this.props.plot_cmap]:(console.log(\"Invalid color map name, reverting to default.\"),t=je.colors.RdBu):Array.isArray(this.props.plot_cmap)&&(t=this.props.plot_cmap),this.colors=t.map((function(e){return q(e)})),this.brighterColors=[1.45,1.6].map((function(t,n){return e.colors[n].brighter(t)}));var n=ze(\",.4\");null!=this.props.ordering_keys&&null!=this.props.ordering_keys_time_format?(this.parseTime=Tr(this.props.ordering_keys_time_format),this.formatTime=Cr(this.props.ordering_keys_time_format),this.xtickFormat=function(e){return\"object\"==Za(e)?this.formatTime(e):n(e)}):(this.parseTime=null,this.formatTime=null,this.xtickFormat=n),this.xscale=De(),this.xaxis=dn().scale(this.xscale).tickSizeInner(4).tickSizeOuter(0).tickFormat((function(t){return e.xtickFormat(t)})).tickPadding(-18),this.ytickFormat=n,this.yscale=De(),this.yaxis=pn(an,undefined).scale(this.yscale).tickSizeInner(4).tickSizeOuter(0).tickFormat((function(t){return e.ytickFormat(e.invLinkFunction(t))})).tickPadding(2),this.xlabel.node().onchange=function(){return e.internalDraw()},this.ylabel.node().onchange=function(){return e.internalDraw()},this.svg.on(\"mousemove\",(function(t){return e.mouseMoved(t)})),this.svg.on(\"click\",(function(){return alert(\"This original index of the sample you clicked is \"+e.nearestExpIndex)})),this.svg.on(\"mouseout\",(function(t){return e.mouseOut(t)})),window.addEventListener(\"resize\",this.redraw),window.setTimeout(this.redraw,50)}},{key:\"componentDidUpdate\",value:function(){this.draw()}},{key:\"mouseOut\",value:function(){this.hoverLine.attr(\"display\",\"none\"),this.hoverx.attr(\"display\",\"none\"),this.hoverxOutline.attr(\"display\",\"none\"),this.hoverxTitle.attr(\"display\",\"none\"),this.hovery.attr(\"display\",\"none\"),this.hoveryOutline.attr(\"display\",\"none\"),this.hoverGroup1.attr(\"display\",\"none\"),this.hoverGroup2.attr(\"display\",\"none\")}},{key:\"mouseMoved\",value:function(e){var t,n,r=this;this.hoverLine.attr(\"display\",\"\"),this.hoverx.attr(\"display\",\"\"),this.hoverxOutline.attr(\"display\",\"\"),this.hoverxTitle.attr(\"display\",\"\"),this.hovery.attr(\"display\",\"\"),this.hoveryOutline.attr(\"display\",\"\"),this.hoverGroup1.attr(\"display\",\"\"),this.hoverGroup2.attr(\"display\",\"\");var a=function(e,t){if(e=function(e){let t;for(;t=e.sourceEvent;)e=t;return e}(e),void 0===t&&(t=e.currentTarget),t){var n=t.ownerSVGElement||t;if(n.createSVGPoint){var r=n.createSVGPoint();return r.x=e.clientX,r.y=e.clientY,[(r=r.matrixTransform(t.getScreenCTM().inverse())).x,r.y]}if(t.getBoundingClientRect){var a=t.getBoundingClientRect();return[e.clientX-a.left-t.clientLeft,e.clientY-a.top-t.clientTop]}}return[e.pageX,e.pageY]}(e,this.svg.node())[0];if(this.props.explanations){for(t=0;t<this.currExplanations.length;++t)(!n||Math.abs(n.xmapScaled-a)>Math.abs(this.currExplanations[t].xmapScaled-a))&&(n=this.currExplanations[t]);this.nearestExpIndex=n.origInd,this.hoverLine.attr(\"x1\",n.xmapScaled).attr(\"x2\",n.xmapScaled).attr(\"y1\",0+this.topOffset).attr(\"y2\",this.height),this.hoverx.attr(\"x\",n.xmapScaled).attr(\"y\",this.topOffset-5).text(this.xtickFormat(n.xmap)),this.hoverxOutline.attr(\"x\",n.xmapScaled).attr(\"y\",this.topOffset-5).text(this.xtickFormat(n.xmap)),this.hoverxTitle.attr(\"x\",n.xmapScaled).attr(\"y\",this.topOffset-18).text(n.count>1?n.count+\" averaged samples\":\"\"),this.hovery.attr(\"x\",this.leftOffset-6).attr(\"y\",n.joinPointy).text(this.ytickFormat(this.invLinkFunction(n.joinPoint))),this.hoveryOutline.attr(\"x\",this.leftOffset-6).attr(\"y\",n.joinPointy).text(this.ytickFormat(this.invLinkFunction(n.joinPoint)));for(var i,o,u=[],l=this.currPosOrderedFeatures.length-1;l>=0;--l){var s=this.currPosOrderedFeatures[l],c=n.features[s];o=5+(c.posyTop+c.posyBottom)/2,(!i||o-i>=15)&&c.posyTop-c.posyBottom>=6&&(u.push(c),i=o)}var f=[];i=void 0;var p,d=Ga(this.currNegOrderedFeatures);try{for(d.s();!(p=d.n()).done;){var h=p.value,v=n.features[h];o=5+(v.negyTop+v.negyBottom)/2,(!i||i-o>=15)&&v.negyTop-v.negyBottom>=6&&(f.push(v),i=o)}}catch(e){d.e(e)}finally{d.f()}var g=function(e){var t=\"\";return null!==e.value&&void 0!==e.value&&(t=\" = \"+(isNaN(e.value)?e.value:r.ytickFormat(e.value))),n.count>1?\"mean(\"+r.props.featureNames[e.ind]+\")\"+t:r.props.featureNames[e.ind]+t},y=this.hoverGroup1.selectAll(\".pos-values\").data(u);y.enter().append(\"text\").attr(\"class\",\"pos-values\").merge(y).attr(\"x\",n.xmapScaled+5).attr(\"y\",(function(e){return 4+(e.posyTop+e.posyBottom)/2})).attr(\"text-anchor\",\"start\").attr(\"font-size\",12).attr(\"stroke\",\"#fff\").attr(\"fill\",\"#fff\").attr(\"stroke-width\",\"4\").attr(\"stroke-linejoin\",\"round\").attr(\"opacity\",1).text(g),y.exit().remove();var m=this.hoverGroup2.selectAll(\".pos-values\").data(u);m.enter().append(\"text\").attr(\"class\",\"pos-values\").merge(m).attr(\"x\",n.xmapScaled+5).attr(\"y\",(function(e){return 4+(e.posyTop+e.posyBottom)/2})).attr(\"text-anchor\",\"start\").attr(\"font-size\",12).attr(\"fill\",this.colors[0]).text(g),m.exit().remove();var b=this.hoverGroup1.selectAll(\".neg-values\").data(f);b.enter().append(\"text\").attr(\"class\",\"neg-values\").merge(b).attr(\"x\",n.xmapScaled+5).attr(\"y\",(function(e){return 4+(e.negyTop+e.negyBottom)/2})).attr(\"text-anchor\",\"start\").attr(\"font-size\",12).attr(\"stroke\",\"#fff\").attr(\"fill\",\"#fff\").attr(\"stroke-width\",\"4\").attr(\"stroke-linejoin\",\"round\").attr(\"opacity\",1).text(g),b.exit().remove();var _=this.hoverGroup2.selectAll(\".neg-values\").data(f);_.enter().append(\"text\").attr(\"class\",\"neg-values\").merge(_).attr(\"x\",n.xmapScaled+5).attr(\"y\",(function(e){return 4+(e.negyTop+e.negyBottom)/2})).attr(\"text-anchor\",\"start\").attr(\"font-size\",12).attr(\"fill\",this.colors[1]).text(g),_.exit().remove()}}},{key:\"draw\",value:function(){var e=this;if(this.props.explanations&&0!==this.props.explanations.length){(0,Re.each)(this.props.explanations,(function(e,t){return e.origInd=t}));var t,n={},r={},a={},i=Ga(this.props.explanations);try{for(i.s();!(t=i.n()).done;){var o=t.value;for(var u in o.features)void 0===n[u]&&(n[u]=0,r[u]=0,a[u]=0),o.features[u].effect>0?n[u]+=o.features[u].effect:r[u]-=o.features[u].effect,null!==o.features[u].value&&void 0!==o.features[u].value&&(a[u]+=1)}}catch(e){i.e(e)}finally{i.f()}this.usedFeatures=(0,Re.sortBy)((0,Re.keys)(n),(function(e){return-(n[e]+r[e])})),console.log(\"found \",this.usedFeatures.length,\" used features\"),this.posOrderedFeatures=(0,Re.sortBy)(this.usedFeatures,(function(e){return n[e]})),this.negOrderedFeatures=(0,Re.sortBy)(this.usedFeatures,(function(e){return-r[e]})),this.singleValueFeatures=(0,Re.filter)(this.usedFeatures,(function(e){return a[e]>0}));var l=[\"sample order by similarity\",\"sample order by output value\",\"original sample ordering\"].concat(this.singleValueFeatures.map((function(t){return e.props.featureNames[t]})));null!=this.props.ordering_keys&&l.unshift(\"sample order by key\");var s=this.xlabel.selectAll(\"option\").data(l);s.enter().append(\"option\").merge(s).attr(\"value\",(function(e){return e})).text((function(e){return e})),s.exit().remove();var c=this.props.outNames[0]?this.props.outNames[0]:\"model output value\";(l=(0,Re.map)(this.usedFeatures,(function(t){return[e.props.featureNames[t],e.props.featureNames[t]+\" effects\"]}))).unshift([\"model output value\",c]);var f=this.ylabel.selectAll(\"option\").data(l);f.enter().append(\"option\").merge(f).attr(\"value\",(function(e){return e[0]})).text((function(e){return e[1]})),f.exit().remove(),this.ylabel.style(\"top\",(this.height-10-this.topOffset)/2+this.topOffset+\"px\").style(\"left\",10-this.ylabel.node().offsetWidth/2+\"px\"),this.internalDraw()}}},{key:\"internalDraw\",value:function(){var e,t,n=this,r=Ga(this.props.explanations);try{for(r.s();!(e=r.n()).done;){var a,i=e.value,o=Ga(this.usedFeatures);try{for(o.s();!(a=o.n()).done;){var u=a.value;i.features.hasOwnProperty(u)||(i.features[u]={effect:0,value:0}),i.features[u].ind=u}}catch(e){o.e(e)}finally{o.f()}}}catch(e){r.e(e)}finally{r.f()}var l=this.xlabel.node().value,s=\"sample order by key\"===l&&null!=this.props.ordering_keys_time_format;if(this.xscale=s?Ya():De(),this.xaxis.scale(this.xscale),\"sample order by similarity\"===l)t=(0,Re.sortBy)(this.props.explanations,(function(e){return e.simIndex})),(0,Re.each)(t,(function(e,t){return e.xmap=t}));else if(\"sample order by output value\"===l)t=(0,Re.sortBy)(this.props.explanations,(function(e){return-e.outValue})),(0,Re.each)(t,(function(e,t){return e.xmap=t}));else if(\"original sample ordering\"===l)t=(0,Re.sortBy)(this.props.explanations,(function(e){return e.origInd})),(0,Re.each)(t,(function(e,t){return e.xmap=t}));else if(\"sample order by key\"===l)t=this.props.explanations,s?(0,Re.each)(t,(function(e,t){return e.xmap=n.parseTime(n.props.ordering_keys[t])})):(0,Re.each)(t,(function(e,t){return e.xmap=n.props.ordering_keys[t]})),t=(0,Re.sortBy)(t,(function(e){return e.xmap}));else{var c=(0,Re.findKey)(this.props.featureNames,(function(e){return e===l}));(0,Re.each)(this.props.explanations,(function(e,t){return e.xmap=e.features[c].value}));var f=(0,Re.sortBy)(this.props.explanations,(function(e){return e.xmap})),p=(0,Re.map)(f,(function(e){return e.xmap}));if(\"string\"==typeof p[0])return void alert(\"Ordering by category names is not yet supported.\");var d,h,v=(0,Re.min)(p),g=((0,Re.max)(p)-v)/100;t=[];for(var y=0;y<f.length;++y){var m=f[y];if(d&&!h&&m.xmap-d.xmap<=g||h&&m.xmap-h.xmap<=g){h||((h=(0,Re.cloneDeep)(d)).count=1);var b,_=Ga(this.usedFeatures);try{for(_.s();!(b=_.n()).done;){var w=b.value;h.features[w].effect+=m.features[w].effect,h.features[w].value+=m.features[w].value}}catch(e){_.e(e)}finally{_.f()}h.count+=1}else if(d)if(h){var x,k=Ga(this.usedFeatures);try{for(k.s();!(x=k.n()).done;){var S=x.value;h.features[S].effect/=h.count,h.features[S].value/=h.count}}catch(e){k.e(e)}finally{k.f()}t.push(h),h=void 0}else t.push(d);d=m}d.xmap-t[t.length-1].xmap>g&&t.push(d)}this.currUsedFeatures=this.usedFeatures,this.currPosOrderedFeatures=this.posOrderedFeatures,this.currNegOrderedFeatures=this.negOrderedFeatures;var E=this.ylabel.node().value;if(\"model output value\"!==E){var C=t;t=(0,Re.cloneDeep)(t);for(var T=(0,Re.findKey)(this.props.featureNames,(function(e){return e===E})),M=0;M<t.length;++M){var N=t[M].features[T];t[M].features={},t[M].features[T]=N,C[M].remapped_version=t[M]}this.currUsedFeatures=[T],this.currPosOrderedFeatures=[T],this.currNegOrderedFeatures=[T]}this.currExplanations=t,\"identity\"===this.props.link?this.invLinkFunction=function(e){return n.props.baseValue+e}:\"logit\"===this.props.link?this.invLinkFunction=function(e){return 1/(1+Math.exp(-(n.props.baseValue+e)))}:console.log(\"ERROR: Unrecognized link function: \",this.props.link),this.predValues=(0,Re.map)(t,(function(e){return(0,Re.sum)((0,Re.map)(e.features,(function(e){return e.effect})))}));var P=this.wrapper.node().offsetWidth;if(0==P)return setTimeout((function(){return n.draw(t)}),500);this.svg.style(\"height\",this.height+\"px\"),this.svg.style(\"width\",P+\"px\");var z=(0,Re.map)(t,(function(e){return e.xmap}));this.xscale.domain([(0,Re.min)(z),(0,Re.max)(z)]).range([this.leftOffset,P]).clamp(!0),this.xaxisElement.attr(\"transform\",\"translate(0,\"+this.topOffset+\")\").call(this.xaxis);for(var L=0;L<this.currExplanations.length;++L)this.currExplanations[L].xmapScaled=this.xscale(this.currExplanations[L].xmap);for(var O=t.length,A=0,F=0;F<O;++F){var D=t[F].features,R=(0,Re.sum)((0,Re.map)((0,Re.filter)(D,(function(e){return e.effect>0})),(function(e){return e.effect})))||0,j=(0,Re.sum)((0,Re.map)((0,Re.filter)(D,(function(e){return e.effect<0})),(function(e){return-e.effect})))||0;A=Math.max(A,2.2*Math.max(R,j))}this.yscale.domain([-A/2,A/2]).range([this.height-10,this.topOffset]),this.yaxisElement.attr(\"transform\",\"translate(\"+this.leftOffset+\",0)\").call(this.yaxis);for(var U=0;U<O;++U){var I,$=t[U].features,B=-((0,Re.sum)((0,Re.map)((0,Re.filter)($,(function(e){return e.effect<0})),(function(e){return-e.effect})))||0),W=void 0,V=Ga(this.currPosOrderedFeatures);try{for(V.s();!(I=V.n()).done;)$[W=I.value].posyTop=this.yscale(B),$[W].effect>0&&(B+=$[W].effect),$[W].posyBottom=this.yscale(B),$[W].ind=W}catch(e){V.e(e)}finally{V.f()}var H,q=B,Q=Ga(this.currNegOrderedFeatures);try{for(Q.s();!(H=Q.n()).done;)$[W=H.value].negyTop=this.yscale(B),$[W].effect<0&&(B-=$[W].effect),$[W].negyBottom=this.yscale(B)}catch(e){Q.e(e)}finally{Q.f()}t[U].joinPoint=q,t[U].joinPointy=this.yscale(q)}var Y=En().x((function(e){return e[0]})).y((function(e){return e[1]})),G=this.mainGroup.selectAll(\".force-bar-array-area-pos\").data(this.currUsedFeatures);G.enter().append(\"path\").attr(\"class\",\"force-bar-array-area-pos\").merge(G).attr(\"d\",(function(e){var n=(0,Re.map)((0,Re.range)(O),(function(n){return[t[n].xmapScaled,t[n].features[e].posyTop]})),r=(0,Re.map)((0,Re.rangeRight)(O),(function(n){return[t[n].xmapScaled,t[n].features[e].posyBottom]}));return Y(n.concat(r))})).attr(\"fill\",this.colors[0]),G.exit().remove();var K=this.mainGroup.selectAll(\".force-bar-array-area-neg\").data(this.currUsedFeatures);K.enter().append(\"path\").attr(\"class\",\"force-bar-array-area-neg\").merge(K).attr(\"d\",(function(e){var n=(0,Re.map)((0,Re.range)(O),(function(n){return[t[n].xmapScaled,t[n].features[e].negyTop]})),r=(0,Re.map)((0,Re.rangeRight)(O),(function(n){return[t[n].xmapScaled,t[n].features[e].negyBottom]}));return Y(n.concat(r))})).attr(\"fill\",this.colors[1]),K.exit().remove();var Z=this.mainGroup.selectAll(\".force-bar-array-divider-pos\").data(this.currUsedFeatures);Z.enter().append(\"path\").attr(\"class\",\"force-bar-array-divider-pos\").merge(Z).attr(\"d\",(function(e){var n=(0,Re.map)((0,Re.range)(O),(function(n){return[t[n].xmapScaled,t[n].features[e].posyBottom]}));return Y(n)})).attr(\"fill\",\"none\").attr(\"stroke-width\",1).attr(\"stroke\",(function(){return n.colors[0].brighter(1.2)})),Z.exit().remove();var X=this.mainGroup.selectAll(\".force-bar-array-divider-neg\").data(this.currUsedFeatures);X.enter().append(\"path\").attr(\"class\",\"force-bar-array-divider-neg\").merge(X).attr(\"d\",(function(e){var n=(0,Re.map)((0,Re.range)(O),(function(n){return[t[n].xmapScaled,t[n].features[e].negyTop]}));return Y(n)})).attr(\"fill\",\"none\").attr(\"stroke-width\",1).attr(\"stroke\",(function(){return n.colors[1].brighter(1.5)})),X.exit().remove();for(var J=function(e,t,n,r,a){var i,o,u,l;\"pos\"===a?(i=e[n].features[t].posyBottom,o=e[n].features[t].posyTop):(i=e[n].features[t].negyBottom,o=e[n].features[t].negyTop);for(var s=n+1;s<=r;++s)\"pos\"===a?(u=e[s].features[t].posyBottom,l=e[s].features[t].posyTop):(u=e[s].features[t].negyBottom,l=e[s].features[t].negyTop),u>i&&(i=u),l<o&&(o=l);return{top:i,bottom:o}},ee=[],te=0,ne=[\"pos\",\"neg\"];te<ne.length;te++){var re,ae=ne[te],ie=Ga(this.currUsedFeatures);try{for(ie.s();!(re=ie.n()).done;)for(var oe=re.value,ue=0,le=0,se=0,ce={top:0,bottom:0},fe=void 0;le<O-1;){for(;se<100&&le<O-1;)++le,se=t[le].xmapScaled-t[ue].xmapScaled;for(ce=J(t,oe,ue,le,ae);ce.bottom-ce.top<20&&ue<le;)++ue,ce=J(t,oe,ue,le,ae);if(se=t[le].xmapScaled-t[ue].xmapScaled,ce.bottom-ce.top>=20&&se>=100){for(;le<O-1;){if(++le,!((fe=J(t,oe,ue,le,ae)).bottom-fe.top>20)){--le;break}ce=fe}se=t[le].xmapScaled-t[ue].xmapScaled,ee.push([(t[le].xmapScaled+t[ue].xmapScaled)/2,(ce.top+ce.bottom)/2,this.props.featureNames[oe]]);var pe=t[le].xmapScaled;for(ue=le;pe+100>t[ue].xmapScaled&&ue<O-1;)++ue;le=ue}}}catch(e){ie.e(e)}finally{ie.f()}}var de=this.onTopGroup.selectAll(\".force-bar-array-flabels\").data(ee);de.enter().append(\"text\").attr(\"class\",\"force-bar-array-flabels\").merge(de).attr(\"x\",(function(e){return e[0]})).attr(\"y\",(function(e){return e[1]+4})).text((function(e){return e[2]})),de.exit().remove()}},{key:\"componentWillUnmount\",value:function(){window.removeEventListener(\"resize\",this.redraw)}},{key:\"render\",value:function(){var t=this;return e.createElement(\"div\",{ref:function(e){return t.wrapper=Jt(e)},style:{textAlign:\"center\"}},e.createElement(\"style\",{dangerouslySetInnerHTML:{__html:\"\\n          .force-bar-array-wrapper {\\n            text-align: center;\\n          }\\n          .force-bar-array-xaxis path {\\n            fill: none;\\n            opacity: 0.4;\\n          }\\n          .force-bar-array-xaxis .domain {\\n            opacity: 0;\\n          }\\n          .force-bar-array-xaxis paths {\\n            display: none;\\n          }\\n          .force-bar-array-yaxis path {\\n            fill: none;\\n            opacity: 0.4;\\n          }\\n          .force-bar-array-yaxis paths {\\n            display: none;\\n          }\\n          .tick line {\\n            stroke: #000;\\n            stroke-width: 1px;\\n            opacity: 0.4;\\n          }\\n          .tick text {\\n            fill: #000;\\n            opacity: 0.5;\\n            font-size: 12px;\\n            padding: 0px;\\n          }\\n          .force-bar-array-flabels {\\n            font-size: 12px;\\n            fill: #fff;\\n            text-anchor: middle;\\n          }\\n          .additive-force-array-xlabel {\\n            background: none;\\n            border: 1px solid #ccc;\\n            opacity: 0.5;\\n            margin-bottom: 0px;\\n            font-size: 12px;\\n            font-family: arial;\\n            margin-left: 80px;\\n            max-width: 300px;\\n          }\\n          .additive-force-array-xlabel:focus {\\n            outline: none;\\n          }\\n          .additive-force-array-ylabel {\\n            position: relative;\\n            top: 0px;\\n            left: 0px;\\n            transform: rotate(-90deg);\\n            background: none;\\n            border: 1px solid #ccc;\\n            opacity: 0.5;\\n            margin-bottom: 0px;\\n            font-size: 12px;\\n            font-family: arial;\\n            max-width: 150px;\\n          }\\n          .additive-force-array-ylabel:focus {\\n            outline: none;\\n          }\\n          .additive-force-array-hoverLine {\\n            stroke-width: 1px;\\n            stroke: #fff;\\n            opacity: 1;\\n          }\"}}),e.createElement(\"select\",{className:\"additive-force-array-xlabel\"}),e.createElement(\"div\",{style:{height:\"0px\",textAlign:\"left\"}},e.createElement(\"select\",{className:\"additive-force-array-ylabel\"})),e.createElement(\"svg\",{ref:function(e){return t.svg=Jt(e)},style:{userSelect:\"none\",display:\"block\",fontFamily:\"arial\",sansSerif:!0}}))}}])&&Xa(n.prototype,r),Object.defineProperty(n,\"prototype\",{writable:!1}),u}(e.Component);ni.defaultProps={plot_cmap:\"RdBu\",ordering_keys:null,ordering_keys_time_format:null};const ri=ni;window.SHAP={SimpleListVisualizer:He,AdditiveForceVisualizer:Ln,AdditiveForceArrayVisualizer:ri,React:e,ReactDom:t}})()})();\n",
       "</script>"
      ],
      "text/plain": [
       "<IPython.core.display.HTML object>"
      ]
     },
     "metadata": {},
     "output_type": "display_data"
    },
    {
     "data": {
      "image/png": "[encoded data removed]",
      "text/plain": [
       "<Figure size 800x550 with 2 Axes>"
      ]
     },
     "metadata": {},
     "output_type": "display_data"
    }
   ],
   "source": [
    "import xgboost\n",
    "import shap\n",
    "\n",
    "XG_train = df_train.drop([\"taxon_id\", \"media_id\"], axis=1)\n",
    "yG_train = df_train[\"taxon_id\"]\n",
    "\n",
    "# train an XGBoost model\n",
    "model2 = xgboost.XGBRegressor().fit(XG_train, yG_train)\n",
    "\n",
    "# explain the model's predictions using SHAP\n",
    "explainer = shap.Explainer(model2)\n",
    "shap_values = explainer(XG_train)\n",
    "\n",
    "shap.plots.initjs()\n",
    "shap.plots.beeswarm(shap_values)"
   ]
  },
  {
   "cell_type": "markdown",
   "metadata": {},
   "source": [
    "# Media Clusters\n",
    "\n",
    "Optimization functions ran in a separate notebook, dimensionality reduction and clustering parameters yielded a maximum Silhouette Score"
   ]
  },
  {
   "cell_type": "code",
   "execution_count": 3,
   "metadata": {},
   "outputs": [
    {
     "data": {
      "text/html": [
       "<div>\n",
       "<style scoped>\n",
       "    .dataframe tbody tr th:only-of-type {\n",
       "        vertical-align: middle;\n",
       "    }\n",
       "\n",
       "    .dataframe tbody tr th {\n",
       "        vertical-align: top;\n",
       "    }\n",
       "\n",
       "    .dataframe thead th {\n",
       "        text-align: right;\n",
       "    }\n",
       "</style>\n",
       "<table border=\"1\" class=\"dataframe\">\n",
       "  <thead>\n",
       "    <tr style=\"text-align: right;\">\n",
       "      <th>component_id</th>\n",
       "      <th>taxon_id</th>\n",
       "      <th>media_id</th>\n",
       "      <th>4</th>\n",
       "      <th>18</th>\n",
       "      <th>33</th>\n",
       "      <th>37</th>\n",
       "      <th>46</th>\n",
       "      <th>47</th>\n",
       "      <th>60</th>\n",
       "      <th>68</th>\n",
       "      <th>...</th>\n",
       "      <th>240</th>\n",
       "      <th>337</th>\n",
       "      <th>430</th>\n",
       "      <th>497</th>\n",
       "      <th>506</th>\n",
       "      <th>616</th>\n",
       "      <th>688</th>\n",
       "      <th>754</th>\n",
       "      <th>1353</th>\n",
       "      <th>1359</th>\n",
       "    </tr>\n",
       "  </thead>\n",
       "  <tbody>\n",
       "    <tr>\n",
       "      <th>0</th>\n",
       "      <td>24.0</td>\n",
       "      <td>J22</td>\n",
       "      <td>8.0</td>\n",
       "      <td>2.0</td>\n",
       "      <td>0.0</td>\n",
       "      <td>0.0</td>\n",
       "      <td>4.0</td>\n",
       "      <td>4.0</td>\n",
       "      <td>0.0</td>\n",
       "      <td>0.0</td>\n",
       "      <td>...</td>\n",
       "      <td>0.0</td>\n",
       "      <td>0.0</td>\n",
       "      <td>0.0</td>\n",
       "      <td>0.0</td>\n",
       "      <td>0.0</td>\n",
       "      <td>0.0</td>\n",
       "      <td>0.0</td>\n",
       "      <td>0.0</td>\n",
       "      <td>0.0</td>\n",
       "      <td>0.0</td>\n",
       "    </tr>\n",
       "    <tr>\n",
       "      <th>1</th>\n",
       "      <td>24.0</td>\n",
       "      <td>J26</td>\n",
       "      <td>0.0</td>\n",
       "      <td>0.0</td>\n",
       "      <td>0.0</td>\n",
       "      <td>0.0</td>\n",
       "      <td>0.0</td>\n",
       "      <td>0.0</td>\n",
       "      <td>0.0</td>\n",
       "      <td>0.0</td>\n",
       "      <td>...</td>\n",
       "      <td>0.0</td>\n",
       "      <td>0.0</td>\n",
       "      <td>0.0</td>\n",
       "      <td>0.0</td>\n",
       "      <td>0.0</td>\n",
       "      <td>0.0</td>\n",
       "      <td>0.0</td>\n",
       "      <td>0.0</td>\n",
       "      <td>0.0</td>\n",
       "      <td>0.0</td>\n",
       "    </tr>\n",
       "    <tr>\n",
       "      <th>2</th>\n",
       "      <td>33.0</td>\n",
       "      <td>J167</td>\n",
       "      <td>8.0</td>\n",
       "      <td>0.0</td>\n",
       "      <td>0.0</td>\n",
       "      <td>0.0</td>\n",
       "      <td>0.0</td>\n",
       "      <td>0.0</td>\n",
       "      <td>0.0</td>\n",
       "      <td>0.0</td>\n",
       "      <td>...</td>\n",
       "      <td>0.0</td>\n",
       "      <td>0.0</td>\n",
       "      <td>0.0</td>\n",
       "      <td>0.0</td>\n",
       "      <td>0.0</td>\n",
       "      <td>0.0</td>\n",
       "      <td>0.0</td>\n",
       "      <td>0.0</td>\n",
       "      <td>0.0</td>\n",
       "      <td>0.0</td>\n",
       "    </tr>\n",
       "    <tr>\n",
       "      <th>3</th>\n",
       "      <td>33.0</td>\n",
       "      <td>J306</td>\n",
       "      <td>0.0</td>\n",
       "      <td>0.0</td>\n",
       "      <td>0.0</td>\n",
       "      <td>0.0</td>\n",
       "      <td>0.0</td>\n",
       "      <td>0.0</td>\n",
       "      <td>0.0</td>\n",
       "      <td>0.0</td>\n",
       "      <td>...</td>\n",
       "      <td>0.0</td>\n",
       "      <td>0.0</td>\n",
       "      <td>0.0</td>\n",
       "      <td>0.0</td>\n",
       "      <td>0.0</td>\n",
       "      <td>0.0</td>\n",
       "      <td>0.0</td>\n",
       "      <td>0.0</td>\n",
       "      <td>0.0</td>\n",
       "      <td>0.0</td>\n",
       "    </tr>\n",
       "    <tr>\n",
       "      <th>4</th>\n",
       "      <td>51.0</td>\n",
       "      <td>J443</td>\n",
       "      <td>0.0</td>\n",
       "      <td>0.0</td>\n",
       "      <td>0.0</td>\n",
       "      <td>1.0</td>\n",
       "      <td>0.0</td>\n",
       "      <td>0.0</td>\n",
       "      <td>0.0</td>\n",
       "      <td>0.0</td>\n",
       "      <td>...</td>\n",
       "      <td>0.0</td>\n",
       "      <td>0.0</td>\n",
       "      <td>0.0</td>\n",
       "      <td>0.0</td>\n",
       "      <td>0.0</td>\n",
       "      <td>0.0</td>\n",
       "      <td>0.0</td>\n",
       "      <td>0.0</td>\n",
       "      <td>0.0</td>\n",
       "      <td>0.0</td>\n",
       "    </tr>\n",
       "  </tbody>\n",
       "</table>\n",
       "<p>5 rows × 45 columns</p>\n",
       "</div>"
      ],
      "text/plain": [
       "component_id  taxon_id media_id    4   18   33   37   46   47   60   68  ...  \\\n",
       "0                 24.0      J22  8.0  2.0  0.0  0.0  4.0  4.0  0.0  0.0  ...   \n",
       "1                 24.0      J26  0.0  0.0  0.0  0.0  0.0  0.0  0.0  0.0  ...   \n",
       "2                 33.0     J167  8.0  0.0  0.0  0.0  0.0  0.0  0.0  0.0  ...   \n",
       "3                 33.0     J306  0.0  0.0  0.0  0.0  0.0  0.0  0.0  0.0  ...   \n",
       "4                 51.0     J443  0.0  0.0  0.0  1.0  0.0  0.0  0.0  0.0  ...   \n",
       "\n",
       "component_id  240  337  430  497  506  616  688  754  1353  1359  \n",
       "0             0.0  0.0  0.0  0.0  0.0  0.0  0.0  0.0   0.0   0.0  \n",
       "1             0.0  0.0  0.0  0.0  0.0  0.0  0.0  0.0   0.0   0.0  \n",
       "2             0.0  0.0  0.0  0.0  0.0  0.0  0.0  0.0   0.0   0.0  \n",
       "3             0.0  0.0  0.0  0.0  0.0  0.0  0.0  0.0   0.0   0.0  \n",
       "4             0.0  0.0  0.0  0.0  0.0  0.0  0.0  0.0   0.0   0.0  \n",
       "\n",
       "[5 rows x 45 columns]"
      ]
     },
     "execution_count": 3,
     "metadata": {},
     "output_type": "execute_result"
    }
   ],
   "source": [
    "media_df = pd.read_csv(os.path.join(DATA_DIR, \"media2ec-explode.csv\"), low_memory=False)\n",
    "\n",
    "media_df = media_df.dropna(subset='component_id', how='any')\n",
    "media_df['component_id'] = media_df['component_id'].astype(int)\n",
    "media_df = media_df[[\"taxon_id\", \"media_id\", \"component_id\"]].value_counts().reset_index()\n",
    "media_df = media_df.pivot(index=[\"taxon_id\", \"media_id\"], columns=\"component_id\", values=\"count\")\n",
    "media_df = media_df.fillna(0.0).reset_index()\n",
    "\n",
    "media_df.head()"
   ]
  },
  {
   "cell_type": "code",
   "execution_count": 4,
   "metadata": {},
   "outputs": [],
   "source": [
    "TARGET_VAR = \"taxon_id\" # media_id string issues, try to replace as categorical data\n",
    "RANDOM_SEED = 47\n",
    "\n",
    "X_train, X_test, y_train, y_test = train_test_split(\n",
    "    media_df.drop([\"taxon_id\", \"media_id\"], axis=1),\n",
    "    media_df[TARGET_VAR],\n",
    "    test_size=0.2,\n",
    "    random_state=RANDOM_SEED\n",
    ")"
   ]
  },
  {
   "cell_type": "code",
   "execution_count": 6,
   "metadata": {},
   "outputs": [
    {
     "data": {
      "text/html": [
       "<div>\n",
       "<style scoped>\n",
       "    .dataframe tbody tr th:only-of-type {\n",
       "        vertical-align: middle;\n",
       "    }\n",
       "\n",
       "    .dataframe tbody tr th {\n",
       "        vertical-align: top;\n",
       "    }\n",
       "\n",
       "    .dataframe thead th {\n",
       "        text-align: right;\n",
       "    }\n",
       "</style>\n",
       "<table border=\"1\" class=\"dataframe\">\n",
       "  <thead>\n",
       "    <tr style=\"text-align: right;\">\n",
       "      <th></th>\n",
       "      <th>Component 1</th>\n",
       "      <th>Component 2</th>\n",
       "      <th>Component 3</th>\n",
       "      <th>Component 4</th>\n",
       "      <th>Component 5</th>\n",
       "      <th>Component 6</th>\n",
       "      <th>Component 7</th>\n",
       "      <th>Component 8</th>\n",
       "      <th>Component 9</th>\n",
       "      <th>Component 10</th>\n",
       "    </tr>\n",
       "  </thead>\n",
       "  <tbody>\n",
       "    <tr>\n",
       "      <th>0</th>\n",
       "      <td>-1.773724</td>\n",
       "      <td>13.579668</td>\n",
       "      <td>3.121752</td>\n",
       "      <td>-0.064388</td>\n",
       "      <td>10.343656</td>\n",
       "      <td>8.856904</td>\n",
       "      <td>6.277681</td>\n",
       "      <td>9.242080</td>\n",
       "      <td>2.203150</td>\n",
       "      <td>3.557396</td>\n",
       "    </tr>\n",
       "    <tr>\n",
       "      <th>1</th>\n",
       "      <td>-2.630010</td>\n",
       "      <td>-3.703500</td>\n",
       "      <td>8.822997</td>\n",
       "      <td>2.021324</td>\n",
       "      <td>5.997718</td>\n",
       "      <td>-0.941044</td>\n",
       "      <td>5.681618</td>\n",
       "      <td>9.451844</td>\n",
       "      <td>5.813793</td>\n",
       "      <td>1.553398</td>\n",
       "    </tr>\n",
       "    <tr>\n",
       "      <th>2</th>\n",
       "      <td>-1.843176</td>\n",
       "      <td>13.483267</td>\n",
       "      <td>3.120849</td>\n",
       "      <td>-0.037890</td>\n",
       "      <td>10.300418</td>\n",
       "      <td>8.939775</td>\n",
       "      <td>6.300568</td>\n",
       "      <td>9.165531</td>\n",
       "      <td>2.090676</td>\n",
       "      <td>3.521620</td>\n",
       "    </tr>\n",
       "    <tr>\n",
       "      <th>3</th>\n",
       "      <td>3.028028</td>\n",
       "      <td>-0.327541</td>\n",
       "      <td>4.283557</td>\n",
       "      <td>3.880607</td>\n",
       "      <td>4.224166</td>\n",
       "      <td>3.252759</td>\n",
       "      <td>5.283535</td>\n",
       "      <td>10.281306</td>\n",
       "      <td>7.387136</td>\n",
       "      <td>3.712514</td>\n",
       "    </tr>\n",
       "    <tr>\n",
       "      <th>4</th>\n",
       "      <td>-1.789177</td>\n",
       "      <td>13.412326</td>\n",
       "      <td>3.061722</td>\n",
       "      <td>-0.025458</td>\n",
       "      <td>10.267249</td>\n",
       "      <td>8.859686</td>\n",
       "      <td>6.407624</td>\n",
       "      <td>9.193830</td>\n",
       "      <td>2.177684</td>\n",
       "      <td>3.675980</td>\n",
       "    </tr>\n",
       "  </tbody>\n",
       "</table>\n",
       "</div>"
      ],
      "text/plain": [
       "   Component 1  Component 2  Component 3  Component 4  Component 5  \\\n",
       "0    -1.773724    13.579668     3.121752    -0.064388    10.343656   \n",
       "1    -2.630010    -3.703500     8.822997     2.021324     5.997718   \n",
       "2    -1.843176    13.483267     3.120849    -0.037890    10.300418   \n",
       "3     3.028028    -0.327541     4.283557     3.880607     4.224166   \n",
       "4    -1.789177    13.412326     3.061722    -0.025458    10.267249   \n",
       "\n",
       "   Component 6  Component 7  Component 8  Component 9  Component 10  \n",
       "0     8.856904     6.277681     9.242080     2.203150      3.557396  \n",
       "1    -0.941044     5.681618     9.451844     5.813793      1.553398  \n",
       "2     8.939775     6.300568     9.165531     2.090676      3.521620  \n",
       "3     3.252759     5.283535    10.281306     7.387136      3.712514  \n",
       "4     8.859686     6.407624     9.193830     2.177684      3.675980  "
      ]
     },
     "execution_count": 6,
     "metadata": {},
     "output_type": "execute_result"
    }
   ],
   "source": [
    "reducer = umap.UMAP(\n",
    "        metric=\"euclidean\",\n",
    "        n_epochs=500,\n",
    "        random_state=RANDOM_SEED,\n",
    "        n_jobs=1,\n",
    "        n_neighbors=30,\n",
    "        n_components=10,\n",
    "        min_dist=0.4\n",
    "    )\n",
    "\n",
    "reduced = reducer.fit_transform(X_train)\n",
    "reduced_df = pd.DataFrame(reduced, columns=[f\"Component {i+1}\" for i in range(reduced.shape[1])])\n",
    "\n",
    "reduced_df.head()"
   ]
  },
  {
   "cell_type": "code",
   "execution_count": 7,
   "metadata": {},
   "outputs": [
    {
     "name": "stderr",
     "output_type": "stream",
     "text": [
      "c:\\Users\\jakel\\anaconda3\\envs\\media\\Lib\\site-packages\\sklearn\\cluster\\_kmeans.py:1426: UserWarning: KMeans is known to have a memory leak on Windows with MKL, when there are less chunks than available threads. You can avoid it by setting the environment variable OMP_NUM_THREADS=11.\n",
      "  warnings.warn(\n"
     ]
    },
    {
     "data": {
      "text/html": [
       "<div>\n",
       "<style scoped>\n",
       "    .dataframe tbody tr th:only-of-type {\n",
       "        vertical-align: middle;\n",
       "    }\n",
       "\n",
       "    .dataframe tbody tr th {\n",
       "        vertical-align: top;\n",
       "    }\n",
       "\n",
       "    .dataframe thead th {\n",
       "        text-align: right;\n",
       "    }\n",
       "</style>\n",
       "<table border=\"1\" class=\"dataframe\">\n",
       "  <thead>\n",
       "    <tr style=\"text-align: right;\">\n",
       "      <th></th>\n",
       "      <th>Component 1</th>\n",
       "      <th>Component 2</th>\n",
       "      <th>Component 3</th>\n",
       "      <th>Component 4</th>\n",
       "      <th>Component 5</th>\n",
       "      <th>Component 6</th>\n",
       "      <th>Component 7</th>\n",
       "      <th>Component 8</th>\n",
       "      <th>Component 9</th>\n",
       "      <th>Component 10</th>\n",
       "      <th>Cluster</th>\n",
       "      <th>taxon_id</th>\n",
       "      <th>media_id</th>\n",
       "    </tr>\n",
       "  </thead>\n",
       "  <tbody>\n",
       "    <tr>\n",
       "      <th>0</th>\n",
       "      <td>-1.773724</td>\n",
       "      <td>13.579668</td>\n",
       "      <td>3.121752</td>\n",
       "      <td>-0.064388</td>\n",
       "      <td>10.343656</td>\n",
       "      <td>8.856904</td>\n",
       "      <td>6.277681</td>\n",
       "      <td>9.242080</td>\n",
       "      <td>2.203150</td>\n",
       "      <td>3.557396</td>\n",
       "      <td>10</td>\n",
       "      <td>134375.0</td>\n",
       "      <td>J27</td>\n",
       "    </tr>\n",
       "    <tr>\n",
       "      <th>1</th>\n",
       "      <td>-2.630010</td>\n",
       "      <td>-3.703500</td>\n",
       "      <td>8.822997</td>\n",
       "      <td>2.021324</td>\n",
       "      <td>5.997718</td>\n",
       "      <td>-0.941044</td>\n",
       "      <td>5.681618</td>\n",
       "      <td>9.451844</td>\n",
       "      <td>5.813793</td>\n",
       "      <td>1.553398</td>\n",
       "      <td>5</td>\n",
       "      <td>1448267.0</td>\n",
       "      <td>J26</td>\n",
       "    </tr>\n",
       "    <tr>\n",
       "      <th>2</th>\n",
       "      <td>-1.843176</td>\n",
       "      <td>13.483267</td>\n",
       "      <td>3.120849</td>\n",
       "      <td>-0.037890</td>\n",
       "      <td>10.300418</td>\n",
       "      <td>8.939775</td>\n",
       "      <td>6.300568</td>\n",
       "      <td>9.165531</td>\n",
       "      <td>2.090676</td>\n",
       "      <td>3.521620</td>\n",
       "      <td>10</td>\n",
       "      <td>344163.0</td>\n",
       "      <td>J26</td>\n",
       "    </tr>\n",
       "    <tr>\n",
       "      <th>3</th>\n",
       "      <td>3.028028</td>\n",
       "      <td>-0.327541</td>\n",
       "      <td>4.283557</td>\n",
       "      <td>3.880607</td>\n",
       "      <td>4.224166</td>\n",
       "      <td>3.252759</td>\n",
       "      <td>5.283535</td>\n",
       "      <td>10.281306</td>\n",
       "      <td>7.387136</td>\n",
       "      <td>3.712514</td>\n",
       "      <td>11</td>\n",
       "      <td>29429.0</td>\n",
       "      <td>J22</td>\n",
       "    </tr>\n",
       "    <tr>\n",
       "      <th>4</th>\n",
       "      <td>-1.789177</td>\n",
       "      <td>13.412326</td>\n",
       "      <td>3.061722</td>\n",
       "      <td>-0.025458</td>\n",
       "      <td>10.267249</td>\n",
       "      <td>8.859686</td>\n",
       "      <td>6.407624</td>\n",
       "      <td>9.193830</td>\n",
       "      <td>2.177684</td>\n",
       "      <td>3.675980</td>\n",
       "      <td>10</td>\n",
       "      <td>43057.0</td>\n",
       "      <td>J198</td>\n",
       "    </tr>\n",
       "  </tbody>\n",
       "</table>\n",
       "</div>"
      ],
      "text/plain": [
       "   Component 1  Component 2  Component 3  Component 4  Component 5  \\\n",
       "0    -1.773724    13.579668     3.121752    -0.064388    10.343656   \n",
       "1    -2.630010    -3.703500     8.822997     2.021324     5.997718   \n",
       "2    -1.843176    13.483267     3.120849    -0.037890    10.300418   \n",
       "3     3.028028    -0.327541     4.283557     3.880607     4.224166   \n",
       "4    -1.789177    13.412326     3.061722    -0.025458    10.267249   \n",
       "\n",
       "   Component 6  Component 7  Component 8  Component 9  Component 10 Cluster  \\\n",
       "0     8.856904     6.277681     9.242080     2.203150      3.557396      10   \n",
       "1    -0.941044     5.681618     9.451844     5.813793      1.553398       5   \n",
       "2     8.939775     6.300568     9.165531     2.090676      3.521620      10   \n",
       "3     3.252759     5.283535    10.281306     7.387136      3.712514      11   \n",
       "4     8.859686     6.407624     9.193830     2.177684      3.675980      10   \n",
       "\n",
       "    taxon_id media_id  \n",
       "0   134375.0      J27  \n",
       "1  1448267.0      J26  \n",
       "2   344163.0      J26  \n",
       "3    29429.0      J22  \n",
       "4    43057.0     J198  "
      ]
     },
     "execution_count": 7,
     "metadata": {},
     "output_type": "execute_result"
    }
   ],
   "source": [
    "cluster = KMeans(\n",
    "    n_clusters=12,\n",
    "    random_state=RANDOM_SEED\n",
    ")\n",
    "\n",
    "reduced_df[\"Cluster\"] = cluster.fit_predict(reduced_df.values)\n",
    "reduced_df[\"Cluster\"] = reduced_df[\"Cluster\"].astype(str)\n",
    "reduced_df[[\"taxon_id\", \"media_id\"]] = media_df.loc[X_train.index, [\"taxon_id\", \"media_id\"]].values\n",
    "\n",
    "reduced_df.to_csv(os.path.join(DATA_DIR, \"model\", \"media-clusters.csv\"), index=False)\n",
    "reduced_df.head()"
   ]
  },
  {
   "cell_type": "code",
   "execution_count": 9,
   "metadata": {},
   "outputs": [
    {
     "data": {
      "application/vnd.plotly.v1+json": {
       "config": {
        "plotlyServerURL": "https://plot.ly"
       },
       "data": [
        {
         "customdata": [
          [
           134375,
           "J27"
          ],
          [
           344163,
           "J26"
          ],
          [
           43057,
           "J198"
          ],
          [
           103891,
           "J156"
          ],
          [
           260085,
           "J74"
          ],
          [
           1502,
           "J84"
          ],
          [
           285453,
           "J58"
          ],
          [
           1461322,
           "514c"
          ],
          [
           872983,
           "1076b"
          ],
          [
           2499159,
           "J346"
          ],
          [
           433649,
           "J346"
          ],
          [
           1869227,
           "141c"
          ],
          [
           1591,
           "J13"
          ],
          [
           1084523,
           "J346"
          ],
          [
           1352348,
           "J118"
          ],
          [
           2060098,
           "J40"
          ],
          [
           286438,
           "J28"
          ],
          [
           2107999,
           "J13"
          ],
          [
           1813871,
           "J346"
          ],
          [
           1785,
           "195a"
          ],
          [
           993086,
           "J26"
          ],
          [
           722703,
           "J26"
          ],
          [
           114527,
           "J14"
          ],
          [
           2144,
           "1076b"
          ],
          [
           12915,
           "457b"
          ],
          [
           393607,
           "J475"
          ],
          [
           1446479,
           "J346"
          ],
          [
           90245,
           "J22"
          ],
          [
           395085,
           "J168"
          ],
          [
           1038855,
           "J156"
          ],
          [
           285474,
           "J43"
          ],
          [
           33034,
           "J156"
          ],
          [
           158850,
           "J12"
          ],
          [
           357276,
           "J7"
          ],
          [
           1869227,
           "J592"
          ],
          [
           562,
           "J13"
          ],
          [
           543527,
           "J43"
          ],
          [
           418010,
           "J1147"
          ],
          [
           1872144,
           "J58"
          ],
          [
           1267217,
           "J27"
          ],
          [
           589436,
           "J14"
          ],
          [
           67260,
           "J58"
          ],
          [
           53952,
           "J156"
          ],
          [
           2697569,
           "J351"
          ],
          [
           130048,
           "J168"
          ],
          [
           53422,
           "830c"
          ],
          [
           1624,
           "J14"
          ],
          [
           324833,
           "J43"
          ],
          [
           2576829,
           "J28"
          ],
          [
           71388,
           "514c"
          ],
          [
           650367,
           "J13"
          ],
          [
           43677,
           "J25"
          ],
          [
           1598,
           "1203a"
          ],
          [
           1639,
           "J27"
          ],
          [
           1987051,
           "J149"
          ],
          [
           328813,
           "J14"
          ],
          [
           33898,
           "J42"
          ],
          [
           1071719,
           "J28"
          ],
          [
           2282766,
           "110a"
          ],
          [
           1210400,
           "J26"
          ],
          [
           84698,
           "104b"
          ],
          [
           438,
           "J677"
          ],
          [
           648,
           "J84"
          ],
          [
           2981778,
           "110a"
          ],
          [
           98671,
           "J28"
          ],
          [
           42237,
           "J42"
          ],
          [
           419005,
           "J84"
          ],
          [
           286803,
           "J548"
          ],
          [
           474960,
           "J746"
          ],
          [
           2171585,
           "J182"
          ],
          [
           1655419,
           "J346"
          ],
          [
           122362,
           "J52"
          ],
          [
           113557,
           "J14"
          ],
          [
           555083,
           "J118"
          ],
          [
           1583331,
           "J710"
          ],
          [
           39479,
           "J12"
          ],
          [
           1476996,
           "J26"
          ],
          [
           472,
           "J346"
          ],
          [
           28130,
           "J14"
          ],
          [
           2527775,
           "830c"
          ],
          [
           1285924,
           "J297"
          ],
          [
           458,
           "J148"
          ],
          [
           78345,
           "J13"
          ],
          [
           818,
           "1203a"
          ],
          [
           2024855,
           "778a"
          ],
          [
           54011,
           "J70"
          ],
          [
           1498,
           "J19"
          ],
          [
           39483,
           "J14"
          ],
          [
           550,
           "J12"
          ],
          [
           47849,
           "J66"
          ],
          [
           2487346,
           "J346"
          ],
          [
           1966350,
           "J986"
          ],
          [
           1352,
           "J27"
          ],
          [
           430685,
           "J51"
          ],
          [
           29557,
           "993b"
          ],
          [
           1837378,
           "J346"
          ],
          [
           427369,
           "J118"
          ],
          [
           1329411,
           "J14"
          ],
          [
           29369,
           "J84"
          ],
          [
           292,
           "J12"
          ],
          [
           436356,
           "J26"
          ],
          [
           231455,
           "1a"
          ],
          [
           659,
           "311a"
          ],
          [
           294,
           "J12"
          ],
          [
           198620,
           "1a"
          ],
          [
           66887,
           "J42"
          ],
          [
           46223,
           "J45"
          ],
          [
           1539,
           "J84"
          ],
          [
           378548,
           "1a"
          ],
          [
           39791,
           "J256"
          ],
          [
           392016,
           "J162"
          ],
          [
           411316,
           "104b"
          ],
          [
           1354300,
           "J14"
          ],
          [
           1404341,
           "429a"
          ],
          [
           375,
           "J254"
          ],
          [
           192073,
           "465d"
          ],
          [
           33945,
           "J27"
          ],
          [
           1496,
           "J83"
          ],
          [
           137993,
           "J282"
          ],
          [
           369936,
           "J28"
          ],
          [
           1582,
           "J13"
          ],
          [
           1993,
           "J43"
          ],
          [
           82996,
           "535b"
          ],
          [
           520764,
           "104b"
          ],
          [
           54076,
           "J297"
          ],
          [
           381,
           "J232"
          ],
          [
           86192,
           "1a"
          ],
          [
           29363,
           "J14"
          ],
          [
           1682,
           "J13"
          ],
          [
           38402,
           "J84"
          ],
          [
           287,
           "J154"
          ],
          [
           1396,
           "J74"
          ],
          [
           1189126,
           "J27"
          ],
          [
           33885,
           "J28"
          ],
          [
           1371,
           "J83"
          ],
          [
           763993,
           "J26"
          ],
          [
           2133958,
           "J43"
          ],
          [
           60133,
           "J14"
          ],
          [
           248551,
           "J43"
          ],
          [
           242750,
           "J583"
          ],
          [
           758793,
           "J346"
          ],
          [
           573179,
           "1076b"
          ],
          [
           1482732,
           "1011c"
          ],
          [
           33039,
           "J465"
          ],
          [
           56464,
           "54a"
          ],
          [
           1502,
           "J14"
          ],
          [
           2572923,
           "514f"
          ],
          [
           41211,
           "88a"
          ],
          [
           114197,
           "J84"
          ],
          [
           69824,
           "141a"
          ],
          [
           263849,
           "J43"
          ],
          [
           546,
           "J22"
          ],
          [
           481003,
           "J66"
          ],
          [
           1987379,
           "J346"
          ],
          [
           33074,
           "J615"
          ],
          [
           1758122,
           "J51"
          ],
          [
           2148,
           "1203a"
          ],
          [
           1619308,
           "J26"
          ],
          [
           1522,
           "104b"
          ],
          [
           50741,
           "J118"
          ],
          [
           216465,
           "1a"
          ],
          [
           1867101,
           "J346"
          ],
          [
           508460,
           "104c"
          ],
          [
           1752931,
           "J26"
          ],
          [
           266892,
           "514d"
          ],
          [
           201,
           "J14"
          ],
          [
           488533,
           "J62"
          ],
          [
           380685,
           "339a"
          ],
          [
           1288393,
           "J256"
          ],
          [
           228006,
           "J43"
          ],
          [
           1618,
           "J84"
          ],
          [
           1523160,
           "J45"
          ],
          [
           264297,
           "J28"
          ],
          [
           1583098,
           "J14"
          ],
          [
           82979,
           "J12"
          ],
          [
           1830,
           "J43"
          ],
          [
           339861,
           "104b"
          ],
          [
           223182,
           "J171"
          ],
          [
           155615,
           "J14"
          ],
          [
           160846,
           "J177"
          ],
          [
           1550566,
           "968b"
          ],
          [
           1301082,
           "J346"
          ],
          [
           2107,
           "1203a"
          ],
          [
           58172,
           "J118"
          ],
          [
           2672567,
           "J75"
          ],
          [
           1816183,
           "J598"
          ],
          [
           202951,
           "J839"
          ],
          [
           1403566,
           "J251"
          ],
          [
           516075,
           "J27"
          ],
          [
           2041044,
           "J14"
          ],
          [
           1037320,
           "J22"
          ],
          [
           202789,
           "514a"
          ],
          [
           438745,
           "J710"
          ],
          [
           2025310,
           "J346"
          ],
          [
           1547447,
           "J280"
          ],
          [
           990271,
           "J118"
          ],
          [
           34073,
           "J256"
          ],
          [
           33018,
           "J82"
          ],
          [
           33025,
           "J14"
          ],
          [
           436356,
           "J28"
          ],
          [
           2518605,
           "J14"
          ],
          [
           301,
           "J75"
          ],
          [
           80879,
           "J22"
          ],
          [
           435,
           "J770"
          ],
          [
           1936118,
           "J118"
          ],
          [
           399947,
           "J124"
          ],
          [
           1172190,
           "115a"
          ],
          [
           1618,
           "J13"
          ],
          [
           1084520,
           "J346"
          ],
          [
           699431,
           "J569"
          ],
          [
           2681491,
           "J27"
          ],
          [
           229480,
           "J26"
          ],
          [
           2320850,
           "J386"
          ],
          [
           460060,
           "1076b"
          ],
          [
           1494,
           "J13"
          ],
          [
           1324851,
           "J27"
          ],
          [
           909613,
           "J43"
          ],
          [
           2045,
           "J41"
          ],
          [
           663580,
           "J346"
          ],
          [
           282305,
           "J43"
          ],
          [
           1335,
           "J151"
          ],
          [
           1265445,
           "J75"
          ],
          [
           1767,
           "J388"
          ],
          [
           1095777,
           "J168"
          ],
          [
           285469,
           "J66"
          ],
          [
           442,
           "J677"
          ],
          [
           590652,
           "J402"
          ],
          [
           44255,
           "J43"
          ],
          [
           29491,
           "J7"
          ],
          [
           2709392,
           "J28"
          ],
          [
           120298,
           "J28"
          ],
          [
           399969,
           "J22"
          ],
          [
           369935,
           "J27"
          ],
          [
           2014,
           "J247"
          ],
          [
           1490,
           "J84"
          ],
          [
           183556,
           "J43"
          ],
          [
           2064768,
           "J28"
          ],
          [
           315405,
           "J161"
          ],
          [
           113564,
           "J42"
          ],
          [
           356828,
           "J162"
          ],
          [
           86664,
           "J22"
          ],
          [
           85325,
           "J681"
          ],
          [
           2605781,
           "J22"
          ],
          [
           406,
           "J77"
          ],
          [
           821,
           "1203a"
          ],
          [
           687845,
           "J346"
          ],
          [
           58115,
           "J346"
          ],
          [
           1393035,
           "J254"
          ],
          [
           44032,
           "J346"
          ],
          [
           2767846,
           "J13"
          ],
          [
           69362,
           "J26"
          ],
          [
           249586,
           "J42"
          ],
          [
           1036020,
           "J26"
          ],
          [
           908846,
           "J156"
          ],
          [
           75612,
           "11b"
          ],
          [
           33018,
           "J97"
          ],
          [
           1353,
           "J168"
          ],
          [
           1367864,
           "J118"
          ],
          [
           1926869,
           "J346"
          ],
          [
           461876,
           "104b"
          ],
          [
           68219,
           "J52"
          ],
          [
           91915,
           "J804"
          ],
          [
           95161,
           "J43"
          ],
          [
           67381,
           "J50"
          ],
          [
           41951,
           "J42"
          ],
          [
           219182,
           "220a"
          ],
          [
           401470,
           "830c"
          ],
          [
           1410681,
           "J574"
          ],
          [
           1175514,
           "830c"
          ],
          [
           59840,
           "J22"
          ],
          [
           1488,
           "J469"
          ],
          [
           158192,
           "558a"
          ],
          [
           1186196,
           "J1040"
          ],
          [
           2213200,
           "J50"
          ],
          [
           46429,
           "535b"
          ],
          [
           168697,
           "J758"
          ],
          [
           294,
           "J26"
          ],
          [
           2973072,
           "195c"
          ],
          [
           254161,
           "J118"
          ],
          [
           2695265,
           "J377"
          ],
          [
           282305,
           "J104"
          ],
          [
           1682,
           "J19"
          ],
          [
           33921,
           "J42"
          ],
          [
           2748010,
           "110a"
          ],
          [
           1716172,
           "J42"
          ],
          [
           46503,
           "J14"
          ],
          [
           2340725,
           "J42"
          ],
          [
           37930,
           "J22"
          ],
          [
           1818724,
           "J26"
          ],
          [
           1529068,
           "J436"
          ],
          [
           106590,
           "1a"
          ],
          [
           46187,
           "J57"
          ],
          [
           33904,
           "J42"
          ],
          [
           45254,
           "462a"
          ],
          [
           489912,
           "J853"
          ],
          [
           43661,
           "J66"
          ],
          [
           2981792,
           "141c"
          ],
          [
           1925024,
           "J443"
          ],
          [
           104097,
           "J674"
          ],
          [
           44098,
           "J174"
          ],
          [
           533267,
           "J50"
          ],
          [
           889944,
           "J475"
          ],
          [
           704125,
           "104c"
          ],
          [
           592308,
           "J43"
          ],
          [
           148604,
           "J13"
          ],
          [
           1537,
           "54b"
          ],
          [
           403638,
           "J43"
          ],
          [
           1136748,
           "J118"
          ],
          [
           1871615,
           "J26"
          ],
          [
           1080073,
           "J52"
          ],
          [
           101564,
           "1a"
          ],
          [
           1987382,
           "J349"
          ],
          [
           1482737,
           "830c"
          ],
          [
           240427,
           "J443"
          ],
          [
           1017181,
           "J800"
          ],
          [
           172827,
           "92a"
          ],
          [
           257283,
           "J43"
          ],
          [
           1348468,
           "J346"
          ],
          [
           86265,
           "1a"
          ],
          [
           2981771,
           "104c"
          ],
          [
           322509,
           "J43"
          ],
          [
           1465509,
           "J14"
          ],
          [
           358743,
           "1203a"
          ],
          [
           232259,
           "J599"
          ],
          [
           553088,
           "1a"
          ],
          [
           57497,
           "J475"
          ],
          [
           68186,
           "J61"
          ],
          [
           191390,
           "1a"
          ],
          [
           35746,
           "J168"
          ],
          [
           76636,
           "J28"
          ],
          [
           33075,
           "J168"
          ],
          [
           2079200,
           "J51"
          ],
          [
           1660,
           "J14"
          ],
          [
           62320,
           "J168"
          ],
          [
           1630173,
           "J13"
          ],
          [
           86958,
           "11b"
          ],
          [
           1702097,
           "J227"
          ],
          [
           2079197,
           "463a"
          ],
          [
           663608,
           "J52"
          ],
          [
           1833,
           "J26"
          ],
          [
           273678,
           "J26"
          ],
          [
           2499688,
           "J479"
          ],
          [
           1539,
           "J14"
          ],
          [
           31971,
           "J84"
          ],
          [
           163673,
           "J43"
          ],
          [
           1912855,
           "104b"
          ],
          [
           395930,
           "J118"
          ],
          [
           89153,
           "J14"
          ],
          [
           1543,
           "J19"
          ],
          [
           306,
           "J346"
          ],
          [
           1724,
           "215c"
          ],
          [
           458711,
           "195c"
          ],
          [
           1965234,
           "1076b"
          ],
          [
           1491,
           "J13"
          ],
          [
           68186,
           "J52"
          ],
          [
           310298,
           "J14"
          ],
          [
           1667,
           "J561"
          ],
          [
           228899,
           "J22"
          ],
          [
           552903,
           "J26"
          ],
          [
           765699,
           "J475"
          ],
          [
           47871,
           "J118"
          ],
          [
           1765737,
           "1203a"
          ],
          [
           390239,
           "J43"
          ],
          [
           202747,
           "J386"
          ],
          [
           29523,
           "J7"
          ],
          [
           191768,
           "J386"
          ],
          [
           174584,
           "J50"
          ],
          [
           648,
           "J13"
          ],
          [
           47715,
           "J14"
          ],
          [
           110500,
           "J386"
          ],
          [
           948699,
           "J69"
          ],
          [
           619731,
           "J184"
          ],
          [
           1987061,
           "J27"
          ],
          [
           288,
           "J118"
          ],
          [
           370776,
           "J12"
          ],
          [
           67356,
           "J49"
          ],
          [
           362,
           "J75"
          ],
          [
           681634,
           "514a"
          ],
          [
           66893,
           "J42"
          ],
          [
           401472,
           "535b"
          ],
          [
           2714355,
           "600a"
          ],
          [
           38502,
           "J254"
          ],
          [
           285561,
           "J61"
          ],
          [
           54767,
           "104b"
          ],
          [
           38302,
           "J28"
          ],
          [
           220990,
           "J766"
          ],
          [
           1615,
           "J13"
          ],
          [
           1650571,
           "J49"
          ],
          [
           672,
           "J7"
          ],
          [
           1150298,
           "104c"
          ],
          [
           102226,
           "J50"
          ],
          [
           2134,
           "1031a"
          ],
          [
           1764,
           "J425"
          ],
          [
           452623,
           "J26"
          ],
          [
           2528631,
           "J1024"
          ],
          [
           678932,
           "J256"
          ],
          [
           765201,
           "J574"
          ],
          [
           1386092,
           "J28"
          ],
          [
           748120,
           "830c"
          ],
          [
           1457543,
           "J346"
          ],
          [
           1680,
           "J13"
          ],
          [
           371602,
           "J28"
          ],
          [
           158852,
           "J76"
          ],
          [
           83302,
           "J51"
          ],
          [
           545533,
           "535b"
          ],
          [
           208224,
           "J12"
          ],
          [
           28129,
           "J14"
          ],
          [
           1886799,
           "J181"
          ],
          [
           714,
           "J84"
          ],
          [
           86333,
           "J14"
          ],
          [
           380,
           "J244"
          ],
          [
           1255,
           "J84"
          ],
          [
           596085,
           "J14"
          ],
          [
           133453,
           "J346"
          ],
          [
           292462,
           "J409"
          ],
          [
           2067988,
           "215b"
          ],
          [
           648796,
           "120a"
          ],
          [
           1179467,
           "J256"
          ],
          [
           983873,
           "J26"
          ],
          [
           356145,
           "J43"
          ],
          [
           2714956,
           "J26"
          ],
          [
           38026,
           "141b"
          ],
          [
           545543,
           "J28"
          ],
          [
           285517,
           "J42"
          ],
          [
           375,
           "J236"
          ],
          [
           418211,
           "J13"
          ],
          [
           1129795,
           "J22"
          ],
          [
           582,
           "J26"
          ],
          [
           874423,
           "J720"
          ],
          [
           39664,
           "J256"
          ],
          [
           285559,
           "J50"
          ],
          [
           225345,
           "104b"
          ],
          [
           1506,
           "J13"
          ],
          [
           57497,
           "J676"
          ],
          [
           53440,
           "J61"
          ],
          [
           2104,
           "1203a"
          ],
          [
           1818678,
           "J26"
          ],
          [
           28026,
           "J84"
          ],
          [
           47855,
           "J51"
          ],
          [
           1465526,
           "J13"
          ],
          [
           285482,
           "J45"
          ],
          [
           37922,
           "J346"
          ],
          [
           590609,
           "J1296"
          ],
          [
           1727,
           "J28"
          ],
          [
           1848194,
           "J346"
          ],
          [
           44252,
           "J75"
          ],
          [
           2033,
           "J22"
          ],
          [
           1294262,
           "J182"
          ],
          [
           1662864,
           "J118"
          ],
          [
           2613924,
           "104b"
          ],
          [
           359,
           "J75"
          ],
          [
           1841,
           "J41"
          ],
          [
           2773925,
           "J14"
          ],
          [
           317019,
           "J475"
          ],
          [
           553239,
           "514c"
          ],
          [
           554,
           "1a"
          ],
          [
           1818730,
           "J22"
          ],
          [
           671622,
           "J28"
          ],
          [
           1883445,
           "J346"
          ],
          [
           1584,
           "J13"
          ],
          [
           114696,
           "J42"
          ],
          [
           148448,
           "J199"
          ],
          [
           882344,
           "1a"
          ],
          [
           1507331,
           "J26"
          ],
          [
           2226,
           "119a"
          ],
          [
           58172,
           "J675"
          ],
          [
           136271,
           "J51"
          ],
          [
           156974,
           "J14"
          ],
          [
           648,
           "J22"
          ],
          [
           1399968,
           "J475"
          ],
          [
           981381,
           "J118"
          ],
          [
           1818710,
           "J26"
          ],
          [
           1080071,
           "J27"
          ],
          [
           164451,
           "J297"
          ],
          [
           1748367,
           "J26"
          ],
          [
           153494,
           "J281"
          ],
          [
           248026,
           "1a"
          ],
          [
           31954,
           "J13"
          ],
          [
           1914,
           "J42"
          ],
          [
           1618,
           "J14"
          ],
          [
           103891,
           "J14"
          ],
          [
           1031540,
           "J118"
          ],
          [
           318464,
           "104b"
          ],
          [
           546,
           "J475"
          ],
          [
           31962,
           "J42"
          ],
          [
           1752076,
           "J27"
          ],
          [
           2014,
           "J43"
          ],
          [
           53408,
           "220a"
          ],
          [
           78343,
           "J14"
          ],
          [
           1776760,
           "1203a"
          ],
          [
           47874,
           "J118"
          ],
          [
           1903704,
           "J26"
          ],
          [
           1444682,
           "J156"
          ],
          [
           1891658,
           "J475"
          ],
          [
           171438,
           "535a"
          ],
          [
           2364649,
           "J465"
          ],
          [
           1514948,
           "514d"
          ],
          [
           265178,
           "J14"
          ],
          [
           61646,
           "1a"
          ],
          [
           53431,
           "J43"
          ],
          [
           433296,
           "J1234"
          ],
          [
           46165,
           "J58"
          ],
          [
           37929,
           "J22"
          ],
          [
           1303811,
           "J28"
          ],
          [
           1306518,
           "J346"
          ],
          [
           1591122,
           "J346"
          ],
          [
           2527873,
           "J505"
          ],
          [
           1805470,
           "104c"
          ],
          [
           60552,
           "J22"
          ],
          [
           408,
           "J22"
          ],
          [
           194249,
           "J22"
          ],
          [
           1625,
           "J14"
          ],
          [
           37915,
           "J26"
          ]
         ],
         "hovertemplate": "Cluster=10<br>Component 1=%{x}<br>Component 2=%{y}<br>taxon_id=%{customdata[0]}<br>media_id=%{customdata[1]}<extra></extra>",
         "legendgroup": "10",
         "marker": {
          "color": "#636efa",
          "opacity": 0.3,
          "symbol": "circle"
         },
         "mode": "markers",
         "name": "10",
         "showlegend": true,
         "type": "scattergl",
         "x": [
          -1.7737241983413696,
          -1.843176245689392,
          -1.7891769409179688,
          -1.9751322269439697,
          -1.8475908041000366,
          -1.918150782585144,
          -1.9192489385604858,
          -1.8548096418380737,
          -2.245840549468994,
          -1.923797369003296,
          -1.6361850500106812,
          -1.770566701889038,
          -1.9741061925888062,
          -2.0226027965545654,
          -1.8750568628311157,
          -1.805831789970398,
          -2.1072545051574707,
          -1.6664199829101562,
          -2.0097923278808594,
          -1.8596974611282349,
          -2.00252103805542,
          -1.8050756454467773,
          -1.8326510190963745,
          -1.9898672103881836,
          -1.8925307989120483,
          -1.7844059467315674,
          -1.7615432739257812,
          -1.988798975944519,
          -1.9864442348480225,
          -1.9590753316879272,
          -1.7110037803649902,
          -2.0263235569000244,
          -1.9545996189117432,
          -2.072384834289551,
          -1.8584825992584229,
          -1.7373313903808594,
          -1.8852511644363403,
          -1.8339145183563232,
          -2.015913724899292,
          -1.7045315504074097,
          -2.147106170654297,
          -1.8712882995605469,
          -1.7740811109542847,
          -1.9599887132644653,
          -2.074004650115967,
          -1.9025261402130127,
          -2.0079619884490967,
          -1.8006422519683838,
          -1.9194220304489136,
          -1.7451447248458862,
          -2.157575845718384,
          -1.9676061868667603,
          -1.9196053743362427,
          -2.0679879188537598,
          -1.865941047668457,
          -1.8837993144989014,
          -2.080551862716675,
          -2.137362480163574,
          -2.0298409461975098,
          -1.9443583488464355,
          -1.8248507976531982,
          -1.9821372032165527,
          -2.1366095542907715,
          -1.8136008977890015,
          -1.8104842901229858,
          -1.8001656532287598,
          -1.9302736520767212,
          -2.114668369293213,
          -2.036559820175171,
          -1.8405039310455322,
          -1.8859208822250366,
          -2.0607619285583496,
          -1.7252631187438965,
          -2.0818021297454834,
          -1.8436124324798584,
          -2.0422444343566895,
          -1.9435765743255615,
          -1.6507056951522827,
          -2.0315091609954834,
          -2.228119373321533,
          -1.8223227262496948,
          -2.071322202682495,
          -2.0355470180511475,
          -1.9268969297409058,
          -1.9368374347686768,
          -1.9980074167251587,
          -1.9736096858978271,
          -2.094909429550171,
          -1.9501065015792847,
          -1.8187683820724487,
          -1.87760329246521,
          -1.7828660011291504,
          -1.913252353668213,
          -1.771747350692749,
          -1.7855050563812256,
          -1.939070224761963,
          -1.930417537689209,
          -1.8462787866592407,
          -1.8690539598464966,
          -1.883933186531067,
          -2.0213568210601807,
          -1.9025553464889526,
          -2.020721435546875,
          -1.9863462448120117,
          -1.771310567855835,
          -1.8133488893508911,
          -1.7901867628097534,
          -1.8971883058547974,
          -1.9198156595230103,
          -1.7946810722351074,
          -1.7469760179519653,
          -1.855798602104187,
          -1.9123749732971191,
          -1.9563424587249756,
          -1.9268478155136108,
          -1.7615807056427002,
          -1.844433069229126,
          -1.9246721267700195,
          -1.8259408473968506,
          -1.8080782890319824,
          -1.9133625030517578,
          -1.782352328300476,
          -1.9193013906478882,
          -1.7729486227035522,
          -1.8259600400924683,
          -1.8959112167358398,
          -2.0286412239074707,
          -1.8727494478225708,
          -1.8973660469055176,
          -1.8841649293899536,
          -1.8348228931427002,
          -1.9555797576904297,
          -1.6488382816314697,
          -2.122091770172119,
          -1.8167579174041748,
          -1.8464794158935547,
          -1.6296747922897339,
          -1.8515986204147339,
          -1.8990123271942139,
          -1.835618257522583,
          -1.6565701961517334,
          -1.7710669040679932,
          -1.8708511590957642,
          -1.571247935295105,
          -1.828361988067627,
          -1.806196689605713,
          -1.749951720237732,
          -1.830509901046753,
          -1.9058974981307983,
          -2.0064737796783447,
          -1.74663507938385,
          -1.9021995067596436,
          -1.7351523637771606,
          -1.8846837282180786,
          -1.801352858543396,
          -1.7051446437835693,
          -1.8034348487854004,
          -1.9444787502288818,
          -1.8134535551071167,
          -1.950245976448059,
          -1.771113395690918,
          -1.5952602624893188,
          -2.018035650253296,
          -1.7134116888046265,
          -1.9263408184051514,
          -1.7538325786590576,
          -1.881194829940796,
          -2.012970209121704,
          -1.763152003288269,
          -1.7381007671356201,
          -2.0585744380950928,
          -1.7165619134902954,
          -1.7043503522872925,
          -1.9610843658447266,
          -1.8840829133987427,
          -1.8666244745254517,
          -1.7431344985961914,
          -2.0023140907287598,
          -1.910098910331726,
          -2.0238900184631348,
          -1.7795798778533936,
          -1.7657791376113892,
          -1.7986117601394653,
          -1.8685914278030396,
          -1.8280622959136963,
          -1.8699965476989746,
          -1.8677642345428467,
          -1.8254618644714355,
          -1.8100664615631104,
          -1.9759844541549683,
          -1.763441562652588,
          -2.0385587215423584,
          -2.015347480773926,
          -1.9098187685012817,
          -1.713761568069458,
          -1.9653956890106201,
          -1.9617987871170044,
          -1.9247500896453857,
          -1.8929225206375122,
          -1.8644204139709473,
          -1.836445689201355,
          -1.947015404701233,
          -1.958716630935669,
          -1.812867522239685,
          -1.966082215309143,
          -1.9913409948349,
          -1.86736261844635,
          -1.9821851253509521,
          -1.6741714477539062,
          -1.8694710731506348,
          -1.6564604043960571,
          -1.8405823707580566,
          -1.878794550895691,
          -1.8996107578277588,
          -1.8073182106018066,
          -1.8969812393188477,
          -1.8038530349731445,
          -1.8166722059249878,
          -1.914671540260315,
          -1.735202670097351,
          -1.8783828020095825,
          -1.8985251188278198,
          -1.837395191192627,
          -1.9491151571273804,
          -1.8736793994903564,
          -2.095419406890869,
          -1.9316072463989258,
          -1.7102819681167603,
          -1.9859788417816162,
          -1.8031927347183228,
          -1.8715277910232544,
          -1.9121425151824951,
          -2.036954641342163,
          -1.8652758598327637,
          -1.7913188934326172,
          -1.9575284719467163,
          -2.072195529937744,
          -1.9444926977157593,
          -1.8438324928283691,
          -1.8433916568756104,
          -1.8261381387710571,
          -2.1412041187286377,
          -2.0173795223236084,
          -1.9605839252471924,
          -2.037083864212036,
          -2.0381436347961426,
          -2.0125322341918945,
          -2.114856719970703,
          -2.081026077270508,
          -1.9243139028549194,
          -2.1055452823638916,
          -1.7236425876617432,
          -2.026407480239868,
          -1.8398756980895996,
          -1.9797252416610718,
          -2.0127015113830566,
          -1.8282979726791382,
          -2.2291598320007324,
          -1.8882615566253662,
          -1.9552844762802124,
          -1.8825690746307373,
          -1.9624104499816895,
          -2.0318081378936768,
          -1.8962682485580444,
          -2.0037975311279297,
          -1.9071242809295654,
          -1.8912469148635864,
          -1.787331223487854,
          -1.886468768119812,
          -2.0890052318573,
          -1.8661394119262695,
          -1.7482579946517944,
          -2.170187473297119,
          -2.1506664752960205,
          -1.940602421760559,
          -1.9922122955322266,
          -1.902036428451538,
          -1.9663171768188477,
          -1.8889929056167603,
          -1.9424004554748535,
          -2.1589057445526123,
          -2.107809543609619,
          -1.8805325031280518,
          -2.0739097595214844,
          -2.0569236278533936,
          -2.0855255126953125,
          -2.1194074153900146,
          -2.139772415161133,
          -2.1519827842712402,
          -2.113938093185425,
          -1.8819009065628052,
          -2.012904405593872,
          -2.2578299045562744,
          -2.0156748294830322,
          -1.9781067371368408,
          -1.9389370679855347,
          -2.062373399734497,
          -2.1857941150665283,
          -2.023362398147583,
          -2.079106569290161,
          -2.076084852218628,
          -1.9915848970413208,
          -2.032226324081421,
          -1.9322184324264526,
          -1.8201133012771606,
          -2.1783857345581055,
          -2.1311392784118652,
          -2.1008002758026123,
          -2.250699043273926,
          -2.268482208251953,
          -1.9346575736999512,
          -2.0713346004486084,
          -1.9002516269683838,
          -2.192394256591797,
          -2.204376220703125,
          -2.075477123260498,
          -2.0143589973449707,
          -2.0317025184631348,
          -2.0072243213653564,
          -2.0470356941223145,
          -2.0785021781921387,
          -1.9667338132858276,
          -1.9826693534851074,
          -2.0887954235076904,
          -2.1123788356781006,
          -2.019101142883301,
          -2.151240587234497,
          -2.166125774383545,
          -2.1363067626953125,
          -2.14597749710083,
          -1.9630460739135742,
          -2.205458641052246,
          -2.0325677394866943,
          -1.9820257425308228,
          -2.192202568054199,
          -2.0928122997283936,
          -2.00667142868042,
          -2.1283116340637207,
          -2.099344491958618,
          -2.0925471782684326,
          -2.2526955604553223,
          -2.1403021812438965,
          -2.310908079147339,
          -2.1093697547912598,
          -1.980525255203247,
          -2.2192800045013428,
          -2.0532338619232178,
          -1.94013512134552,
          -2.271519184112549,
          -1.9502854347229004,
          -2.0084099769592285,
          -2.044020891189575,
          -2.0615763664245605,
          -2.1315317153930664,
          -2.092181921005249,
          -1.9231051206588745,
          -2.144818067550659,
          -1.9411778450012207,
          -2.1742897033691406,
          -2.062436103820801,
          -2.104494094848633,
          -2.0980188846588135,
          -2.1527650356292725,
          -1.8679336309432983,
          -2.0357320308685303,
          -2.1819467544555664,
          -2.098337411880493,
          -2.20739483833313,
          -2.0258264541625977,
          -2.1707608699798584,
          -2.1192686557769775,
          -2.2346835136413574,
          -2.2371270656585693,
          -1.9300134181976318,
          -2.143233060836792,
          -2.1823627948760986,
          -2.079996347427368,
          -2.070770740509033,
          -2.0983407497406006,
          -2.1157078742980957,
          -1.9491435289382935,
          -2.070373773574829,
          -2.035252571105957,
          -2.228346109390259,
          -2.237468719482422,
          -2.0850110054016113,
          -1.9488028287887573,
          -2.025268077850342,
          -2.110853910446167,
          -2.21405291557312,
          -2.065089225769043,
          -2.1379823684692383,
          -2.079828977584839,
          -1.8987709283828735,
          -2.122856855392456,
          -2.0771775245666504,
          -2.1123552322387695,
          -2.048668384552002,
          -2.2381365299224854,
          -2.006498336791992,
          -1.9048470258712769,
          -1.9309589862823486,
          -2.164393663406372,
          -2.001310110092163,
          -2.0767385959625244,
          -1.948813557624817,
          -1.9566407203674316,
          -2.1145286560058594,
          -2.1786885261535645,
          -2.0578510761260986,
          -2.0265016555786133,
          -2.124049663543701,
          -1.9523725509643555,
          -2.047513961791992,
          -1.9730170965194702,
          -2.0959601402282715,
          -2.062290906906128,
          -1.9971669912338257,
          -1.9645510911941528,
          -1.9192887544631958,
          -2.004340171813965,
          -2.0896761417388916,
          -2.053088665008545,
          -2.0518062114715576,
          -2.1590447425842285,
          -1.9063951969146729,
          -2.1603646278381348,
          -1.8120839595794678,
          -1.9202240705490112,
          -1.9554353952407837,
          -1.9619526863098145,
          -2.0232224464416504,
          -1.9659260511398315,
          -1.9159486293792725,
          -1.9743304252624512,
          -1.9433122873306274,
          -1.800487756729126,
          -1.9861849546432495,
          -1.8296363353729248,
          -1.9562876224517822,
          -1.7685707807540894,
          -1.8231948614120483,
          -1.802973985671997,
          -1.7423577308654785,
          -1.8188289403915405,
          -1.8866925239562988,
          -1.8805280923843384,
          -1.8509165048599243,
          -1.9914950132369995,
          -1.8870148658752441,
          -1.771100401878357,
          -1.7618515491485596,
          -1.73412024974823,
          -1.7767062187194824,
          -1.8830795288085938,
          -1.8498921394348145,
          -1.9472177028656006,
          -1.7740027904510498,
          -1.8768728971481323,
          -1.80073082447052,
          -1.7836384773254395,
          -1.7103956937789917,
          -1.7976385354995728,
          -1.708211064338684,
          -1.7027430534362793,
          -1.801228642463684,
          -1.7420592308044434,
          -1.7095272541046143,
          -1.7311989068984985,
          -1.7838863134384155,
          -1.7338815927505493,
          -1.7140109539031982,
          -1.8747671842575073,
          -1.772732138633728,
          -1.9866307973861694,
          -1.865545392036438,
          -1.7815841436386108,
          -1.6946996450424194,
          -1.7794888019561768,
          -1.6864343881607056,
          -1.7093137502670288,
          -1.7371160984039307,
          -1.7071340084075928,
          -1.893649935722351,
          -1.9368516206741333,
          -1.8078460693359375,
          -1.8145939111709595,
          -1.7644017934799194,
          -1.4478280544281006,
          -1.601600170135498,
          -1.4968645572662354,
          -1.5809236764907837,
          -1.9342049360275269,
          -1.7448225021362305,
          -1.6787508726119995,
          -1.686960220336914,
          -1.7066351175308228,
          -1.839250087738037,
          -1.7578283548355103,
          -1.7026240825653076,
          -1.9278265237808228,
          -1.780013084411621,
          -1.7931883335113525,
          -1.4255174398422241,
          -1.6916143894195557,
          -1.719964861869812,
          -1.7274683713912964,
          -1.6572028398513794,
          -1.784449577331543,
          -1.753004550933838,
          -1.7984898090362549,
          -1.7503732442855835,
          -1.5375510454177856
         ],
         "xaxis": "x",
         "y": [
          13.579668045043945,
          13.483266830444336,
          13.412325859069824,
          13.367592811584473,
          13.507283210754395,
          13.225262641906738,
          13.4234619140625,
          13.389066696166992,
          13.421171188354492,
          13.600942611694336,
          13.479992866516113,
          13.267732620239258,
          13.435264587402344,
          13.3150634765625,
          13.721261024475098,
          13.454292297363281,
          13.56285285949707,
          13.373367309570312,
          13.393850326538086,
          13.532453536987305,
          13.12220287322998,
          13.440776824951172,
          13.52908706665039,
          13.5392427444458,
          13.587791442871094,
          13.297720909118652,
          13.416183471679688,
          13.390312194824219,
          13.399538040161133,
          13.60836124420166,
          13.238264083862305,
          13.4131441116333,
          13.496744155883789,
          13.465800285339355,
          13.306640625,
          13.547830581665039,
          13.711697578430176,
          13.310347557067871,
          13.580528259277344,
          13.376812934875488,
          13.588908195495605,
          13.424135208129883,
          13.28586483001709,
          13.425870895385742,
          13.505714416503906,
          13.74380111694336,
          13.5056791305542,
          13.505980491638184,
          13.39587116241455,
          13.40442943572998,
          13.371109962463379,
          13.504255294799805,
          13.386796951293945,
          13.23741626739502,
          13.232217788696289,
          13.42215633392334,
          13.3326416015625,
          13.276230812072754,
          13.550272941589355,
          13.550549507141113,
          13.516060829162598,
          13.529379844665527,
          13.322980880737305,
          13.218235969543457,
          13.207695007324219,
          13.552650451660156,
          13.171869277954102,
          13.43232250213623,
          13.44700813293457,
          13.435093879699707,
          13.232598304748535,
          13.523993492126465,
          13.583038330078125,
          13.334030151367188,
          13.358238220214844,
          13.476571083068848,
          13.246145248413086,
          13.287429809570312,
          13.493968963623047,
          13.461939811706543,
          13.3550443649292,
          13.23563003540039,
          13.514971733093262,
          13.306143760681152,
          13.595232009887695,
          13.597110748291016,
          13.342292785644531,
          13.51711654663086,
          13.67339038848877,
          13.421972274780273,
          13.47103214263916,
          13.466169357299805,
          13.635717391967773,
          13.828129768371582,
          13.629465103149414,
          13.715121269226074,
          13.643593788146973,
          13.563882827758789,
          13.557004928588867,
          13.727015495300293,
          13.516075134277344,
          13.717317581176758,
          13.604415893554688,
          13.707734107971191,
          13.44972038269043,
          13.653834342956543,
          13.383808135986328,
          13.67966079711914,
          13.678605079650879,
          13.534607887268066,
          13.451329231262207,
          13.376715660095215,
          13.54112434387207,
          13.538355827331543,
          13.415115356445312,
          13.403912544250488,
          13.635807037353516,
          13.477405548095703,
          13.425637245178223,
          13.42184829711914,
          13.46117115020752,
          13.448892593383789,
          13.660689353942871,
          13.622353553771973,
          13.454109191894531,
          13.523721694946289,
          13.416566848754883,
          13.750828742980957,
          13.362720489501953,
          13.366544723510742,
          13.513092041015625,
          13.40322494506836,
          13.377185821533203,
          13.575521469116211,
          13.330629348754883,
          13.306436538696289,
          13.456191062927246,
          13.637877464294434,
          13.494894981384277,
          13.656933784484863,
          13.44973087310791,
          13.312226295471191,
          13.315882682800293,
          13.423428535461426,
          13.349002838134766,
          13.284607887268066,
          13.300274848937988,
          13.655998229980469,
          13.53152084350586,
          13.703682899475098,
          13.498669624328613,
          13.477822303771973,
          13.676896095275879,
          13.2947359085083,
          13.523144721984863,
          13.425884246826172,
          13.399030685424805,
          13.42995834350586,
          13.260326385498047,
          13.613814353942871,
          13.328721046447754,
          13.690301895141602,
          13.719610214233398,
          13.456658363342285,
          13.629039764404297,
          13.399456977844238,
          13.522415161132812,
          13.42345905303955,
          13.614505767822266,
          13.737197875976562,
          13.53354549407959,
          13.335310935974121,
          13.485657691955566,
          13.265531539916992,
          13.273618698120117,
          13.38473892211914,
          13.261129379272461,
          13.581984519958496,
          13.322291374206543,
          13.40920639038086,
          13.311652183532715,
          13.385265350341797,
          13.360328674316406,
          13.694068908691406,
          13.5430269241333,
          13.381693840026855,
          13.543547630310059,
          13.627754211425781,
          13.577317237854004,
          13.352694511413574,
          13.45911693572998,
          13.648493766784668,
          13.262958526611328,
          13.411992073059082,
          13.307199478149414,
          13.38999080657959,
          13.531630516052246,
          13.51572322845459,
          13.338726043701172,
          13.546395301818848,
          13.367779731750488,
          13.37780475616455,
          13.59546947479248,
          13.422344207763672,
          13.508537292480469,
          13.670610427856445,
          13.722172737121582,
          13.603537559509277,
          13.547993659973145,
          13.23311996459961,
          13.466835021972656,
          13.169721603393555,
          13.340667724609375,
          13.163071632385254,
          13.314867973327637,
          13.48537540435791,
          13.249115943908691,
          13.47032642364502,
          13.530838012695312,
          13.500550270080566,
          13.363433837890625,
          13.209463119506836,
          13.562841415405273,
          13.335413932800293,
          13.464774131774902,
          13.309866905212402,
          13.422403335571289,
          13.328086853027344,
          13.4749755859375,
          13.489371299743652,
          13.605712890625,
          13.315869331359863,
          13.373883247375488,
          13.411310195922852,
          13.360939979553223,
          13.552020072937012,
          13.520904541015625,
          13.296381950378418,
          13.436661720275879,
          13.210457801818848,
          13.631373405456543,
          13.421035766601562,
          13.716858863830566,
          13.489439010620117,
          13.389241218566895,
          13.240946769714355,
          13.50021743774414,
          13.093100547790527,
          13.493266105651855,
          13.643133163452148,
          13.449981689453125,
          13.377752304077148,
          13.452420234680176,
          13.138921737670898,
          13.303230285644531,
          13.607889175415039,
          13.357288360595703,
          13.431147575378418,
          13.453824996948242,
          13.484837532043457,
          13.363137245178223,
          13.323934555053711,
          13.594645500183105,
          13.420051574707031,
          13.588235855102539,
          13.214268684387207,
          13.45358657836914,
          13.23625659942627,
          13.301923751831055,
          13.51926040649414,
          13.57315731048584,
          13.448115348815918,
          13.459274291992188,
          13.555251121520996,
          13.431280136108398,
          13.627668380737305,
          13.349966049194336,
          13.3717679977417,
          13.520118713378906,
          13.393162727355957,
          13.519218444824219,
          13.411956787109375,
          13.377240180969238,
          13.546189308166504,
          13.410897254943848,
          13.47047233581543,
          13.255407333374023,
          13.443951606750488,
          13.460071563720703,
          13.406702041625977,
          13.423458099365234,
          13.249919891357422,
          13.395191192626953,
          13.442208290100098,
          13.263230323791504,
          13.396627426147461,
          13.115805625915527,
          13.449573516845703,
          13.547980308532715,
          13.388079643249512,
          13.332274436950684,
          13.288946151733398,
          13.267648696899414,
          13.50578784942627,
          13.14856243133545,
          13.330443382263184,
          13.317760467529297,
          13.28780460357666,
          13.552168846130371,
          13.290297508239746,
          13.348121643066406,
          13.367071151733398,
          13.49181842803955,
          13.33399772644043,
          13.458993911743164,
          13.474177360534668,
          13.625542640686035,
          13.462337493896484,
          13.64122200012207,
          13.31899642944336,
          13.324201583862305,
          13.447397232055664,
          13.302109718322754,
          13.675238609313965,
          13.352601051330566,
          13.47648811340332,
          13.51843547821045,
          13.409632682800293,
          13.443607330322266,
          13.288335800170898,
          13.471611976623535,
          13.324321746826172,
          13.404336929321289,
          13.379864692687988,
          13.4059419631958,
          13.580314636230469,
          13.493948936462402,
          13.42957878112793,
          13.300141334533691,
          13.312043190002441,
          13.483819007873535,
          13.277518272399902,
          13.22512149810791,
          13.540860176086426,
          13.281312942504883,
          13.554264068603516,
          13.335101127624512,
          13.270465850830078,
          13.48674488067627,
          13.245909690856934,
          13.473483085632324,
          13.170284271240234,
          13.48469066619873,
          13.532936096191406,
          13.475356101989746,
          13.334929466247559,
          13.437675476074219,
          13.502249717712402,
          13.386428833007812,
          13.274876594543457,
          13.469650268554688,
          13.455647468566895,
          13.285599708557129,
          13.177238464355469,
          13.169134140014648,
          13.452900886535645,
          13.361330032348633,
          13.319904327392578,
          13.400589942932129,
          13.300131797790527,
          13.59405517578125,
          13.542454719543457,
          13.419832229614258,
          13.584522247314453,
          13.278325080871582,
          13.432760238647461,
          13.39100170135498,
          13.424398422241211,
          13.378968238830566,
          13.445733070373535,
          13.47078800201416,
          13.38646411895752,
          13.414247512817383,
          13.305715560913086,
          13.473427772521973,
          13.545659065246582,
          13.367376327514648,
          13.478084564208984,
          13.477187156677246,
          13.195456504821777,
          13.557692527770996,
          13.582392692565918,
          13.331985473632812,
          13.44041919708252,
          13.35301685333252,
          13.395513534545898,
          13.392189025878906,
          13.353185653686523,
          13.372211456298828,
          13.395938873291016,
          13.61884880065918,
          13.356827735900879,
          13.478081703186035,
          13.389753341674805,
          13.377656936645508,
          13.42349624633789,
          13.384835243225098,
          13.501482963562012,
          13.23764705657959,
          13.233936309814453,
          13.388167381286621,
          13.346826553344727,
          13.278074264526367,
          13.407288551330566,
          13.326623916625977,
          13.3716459274292,
          13.394567489624023,
          13.359041213989258,
          13.31166934967041,
          13.309110641479492,
          13.502083778381348,
          13.33403205871582,
          13.241551399230957,
          13.158355712890625,
          13.31256103515625,
          13.47139835357666,
          13.332891464233398,
          13.373659133911133,
          13.306415557861328,
          13.372586250305176,
          13.347229957580566,
          13.169855117797852,
          13.232405662536621,
          13.284283638000488,
          13.36408805847168,
          13.385636329650879,
          13.206520080566406,
          13.20693302154541,
          13.101646423339844,
          13.229399681091309,
          13.572796821594238,
          13.48462200164795,
          13.551291465759277,
          13.488882064819336,
          13.495513916015625,
          13.266242027282715,
          13.379587173461914,
          13.266338348388672,
          13.283990859985352,
          13.266772270202637,
          13.107643127441406,
          13.440829277038574,
          13.49358081817627,
          13.52122974395752,
          13.237192153930664,
          13.289193153381348,
          13.335618019104004,
          13.218059539794922,
          13.252237319946289,
          13.250044822692871,
          13.24758529663086,
          13.155478477478027,
          13.247369766235352,
          13.36455249786377,
          13.505858421325684,
          13.64188289642334,
          13.512198448181152,
          13.551033020019531,
          13.57878589630127,
          13.564794540405273,
          13.532051086425781,
          13.484582901000977,
          13.685869216918945,
          13.752866744995117,
          13.429986000061035,
          13.58052921295166,
          13.555992126464844,
          13.574928283691406,
          13.569975852966309,
          13.613985061645508,
          13.57763671875,
          13.564449310302734,
          13.526057243347168,
          13.532366752624512,
          13.353014945983887,
          13.382421493530273,
          13.33965015411377,
          13.355239868164062,
          13.326096534729004,
          13.532693862915039,
          13.572062492370605,
          13.709525108337402,
          13.375641822814941,
          13.418283462524414,
          13.414188385009766,
          13.253249168395996,
          13.354463577270508,
          13.182415008544922,
          13.4136323928833,
          13.269991874694824,
          13.45862102508545,
          13.19578742980957,
          13.32547378540039,
          13.340752601623535,
          13.389634132385254,
          13.384774208068848,
          13.274434089660645,
          13.087995529174805,
          13.313718795776367,
          13.060580253601074,
          12.817330360412598,
          13.305058479309082,
          12.795548439025879
         ],
         "yaxis": "y"
        },
        {
         "customdata": [
          [
           1448267,
           "J26"
          ],
          [
           490629,
           "J254"
          ],
          [
           2843317,
           "J1130"
          ],
          [
           46256,
           "J291"
          ],
          [
           243838,
           "J443"
          ],
          [
           199591,
           "J26"
          ],
          [
           1917830,
           "J908"
          ],
          [
           664638,
           "J26"
          ],
          [
           330836,
           "J346"
          ],
          [
           576,
           "J28"
          ],
          [
           70258,
           "J25"
          ],
          [
           65657,
           "J22"
          ],
          [
           114977,
           "J26"
          ],
          [
           97193,
           "J254"
          ],
          [
           1346286,
           "J22"
          ],
          [
           459525,
           "J443"
          ],
          [
           375542,
           "J26"
          ],
          [
           1642469,
           "J26"
          ],
          [
           285535,
           "J43"
          ],
          [
           400153,
           "J457"
          ],
          [
           2775876,
           "J26"
          ],
          [
           29529,
           "J26"
          ],
          [
           715199,
           "J42"
          ],
          [
           120377,
           "J28"
          ],
          [
           1891286,
           "J22"
          ],
          [
           198437,
           "J22"
          ],
          [
           1495650,
           "J1036"
          ],
          [
           1603353,
           "J346"
          ],
          [
           150025,
           "J475"
          ],
          [
           60548,
           "J27"
          ],
          [
           1298611,
           "J26"
          ],
          [
           287,
           "J22"
          ],
          [
           1710,
           "J494"
          ],
          [
           28119,
           "J475"
          ],
          [
           991009,
           "J28"
          ],
          [
           366888,
           "J475"
          ],
          [
           1150298,
           "J465"
          ],
          [
           1172977,
           "J256"
          ],
          [
           159449,
           "J43"
          ],
          [
           56,
           "J443"
          ],
          [
           2059724,
           "514f"
          ],
          [
           1776164,
           "J346"
          ],
          [
           1920,
           "J42"
          ],
          [
           1806200,
           "J346"
          ],
          [
           249580,
           "J42"
          ],
          [
           575,
           "J22"
          ],
          [
           156977,
           "J26"
          ],
          [
           1863,
           "215b"
          ],
          [
           172041,
           "J26"
          ],
          [
           400768,
           "J346"
          ],
          [
           284031,
           "J42"
          ],
          [
           100,
           "J386"
          ],
          [
           930146,
           "514c"
          ],
          [
           54915,
           "J22"
          ],
          [
           571932,
           "J386"
          ],
          [
           2606626,
           "J297"
          ],
          [
           2583810,
           "J1232"
          ],
          [
           34017,
           "J236"
          ],
          [
           1524097,
           "J346"
          ],
          [
           634155,
           "535b"
          ],
          [
           1331911,
           "J1130"
          ],
          [
           66867,
           "J43"
          ],
          [
           1493691,
           "J346"
          ],
          [
           72226,
           "J346"
          ],
          [
           1872623,
           "J22"
          ],
          [
           218538,
           "J346"
          ],
          [
           1912,
           "J43"
          ],
          [
           1118464,
           "J22"
          ],
          [
           1186196,
           "J1062"
          ],
          [
           155322,
           "J475"
          ],
          [
           554312,
           "J346"
          ],
          [
           148813,
           "J346"
          ],
          [
           681398,
           "J992"
          ],
          [
           1585976,
           "J256"
          ],
          [
           1424294,
           "J1208"
          ],
          [
           1485588,
           "J346"
          ],
          [
           33900,
           "J42"
          ],
          [
           273168,
           "J22"
          ],
          [
           1872145,
           "514f"
          ],
          [
           169480,
           "J28"
          ],
          [
           316335,
           "J475"
          ],
          [
           1818775,
           "J26"
          ],
          [
           167065,
           "J443"
          ],
          [
           1097667,
           "J27"
          ],
          [
           1868372,
           "J475"
          ],
          [
           541095,
           "535a"
          ],
          [
           36773,
           "J22"
          ],
          [
           1708347,
           "J346"
          ],
          [
           43674,
           "J28"
          ],
          [
           244735,
           "J28"
          ],
          [
           1124239,
           "J43"
          ],
          [
           349910,
           "J43"
          ],
          [
           246191,
           "J475"
          ],
          [
           75612,
           "J22"
          ],
          [
           301141,
           "J28"
          ],
          [
           1935,
           "J42"
          ],
          [
           1649169,
           "J27"
          ]
         ],
         "hovertemplate": "Cluster=5<br>Component 1=%{x}<br>Component 2=%{y}<br>taxon_id=%{customdata[0]}<br>media_id=%{customdata[1]}<extra></extra>",
         "legendgroup": "5",
         "marker": {
          "color": "#EF553B",
          "opacity": 0.3,
          "symbol": "circle"
         },
         "mode": "markers",
         "name": "5",
         "showlegend": true,
         "type": "scattergl",
         "x": [
          -2.630009651184082,
          -2.4780220985412598,
          -2.513669013977051,
          -2.4100091457366943,
          -2.4232494831085205,
          -2.3915772438049316,
          -2.507981538772583,
          -2.4424633979797363,
          -2.341355085372925,
          -2.4683773517608643,
          -2.524632215499878,
          -2.245699882507324,
          -2.3555123805999756,
          -2.544168472290039,
          -2.3867523670196533,
          -2.547555685043335,
          -2.5223748683929443,
          -2.606543779373169,
          -2.3777899742126465,
          -2.5468826293945312,
          -2.5727195739746094,
          -2.235083818435669,
          -2.4697375297546387,
          -2.4474949836730957,
          -2.4761621952056885,
          -2.4486703872680664,
          -2.550769329071045,
          -2.374950408935547,
          -2.6192846298217773,
          -2.4856457710266113,
          -2.6503348350524902,
          -2.2003228664398193,
          -2.397895574569702,
          -2.4148478507995605,
          -2.301577091217041,
          -2.3691658973693848,
          -2.47017502784729,
          -2.321235418319702,
          -2.358931064605713,
          -2.422839641571045,
          -2.420884370803833,
          -2.3574018478393555,
          -2.63462233543396,
          -2.401036024093628,
          -2.3875694274902344,
          -2.374361038208008,
          -2.3746252059936523,
          -2.20798397064209,
          -2.414276361465454,
          -2.3218538761138916,
          -2.4801971912384033,
          -2.3905434608459473,
          -2.4076602458953857,
          -2.4656801223754883,
          -2.550569534301758,
          -2.415728807449341,
          -2.3155858516693115,
          -2.538163423538208,
          -2.4945907592773438,
          -2.5910680294036865,
          -2.4804375171661377,
          -2.5531392097473145,
          -2.4665184020996094,
          -2.3137552738189697,
          -2.3211162090301514,
          -2.361518383026123,
          -2.4222500324249268,
          -2.477381467819214,
          -2.365212917327881,
          -2.488600969314575,
          -2.537126302719116,
          -2.5084049701690674,
          -2.3513927459716797,
          -2.5686216354370117,
          -2.633740186691284,
          -2.3383796215057373,
          -2.3876404762268066,
          -2.462909460067749,
          -2.5232954025268555,
          -2.6442179679870605,
          -2.4503798484802246,
          -2.3629138469696045,
          -2.4045000076293945,
          -2.5683236122131348,
          -2.379157781600952,
          -2.581031084060669,
          -2.391206979751587,
          -2.5130362510681152,
          -2.330967426300049,
          -2.483935832977295,
          -2.571559429168701,
          -2.4074625968933105,
          -2.370896100997925,
          -2.5950465202331543,
          -2.6079342365264893,
          -2.3235795497894287,
          -2.481975793838501
         ],
         "xaxis": "x",
         "y": [
          -3.7034997940063477,
          -3.548351764678955,
          -3.557061195373535,
          -3.5104756355285645,
          -3.644609212875366,
          -3.433072090148926,
          -3.489149808883667,
          -3.693730115890503,
          -3.478508710861206,
          -3.521840810775757,
          -3.580932140350342,
          -3.4264068603515625,
          -3.5512375831604004,
          -3.709892749786377,
          -3.5552122592926025,
          -3.519592046737671,
          -3.6993205547332764,
          -3.6388351917266846,
          -3.4069108963012695,
          -3.48234486579895,
          -3.627800703048706,
          -3.6301217079162598,
          -3.496763229370117,
          -3.55368971824646,
          -3.481321096420288,
          -3.6648900508880615,
          -3.661576271057129,
          -3.6789345741271973,
          -3.560173988342285,
          -3.5181772708892822,
          -3.6994211673736572,
          -3.564390182495117,
          -3.5935516357421875,
          -3.635702610015869,
          -3.6221680641174316,
          -3.562291383743286,
          -3.5529022216796875,
          -3.604945182800293,
          -3.5122640132904053,
          -3.5917422771453857,
          -3.522441864013672,
          -3.6838161945343018,
          -3.5384364128112793,
          -3.571734666824341,
          -3.598654270172119,
          -3.43070125579834,
          -3.5188398361206055,
          -3.621459722518921,
          -3.5568795204162598,
          -3.776939630508423,
          -3.6408941745758057,
          -3.4537575244903564,
          -3.562574863433838,
          -3.585409164428711,
          -3.4724490642547607,
          -3.4026882648468018,
          -3.7689154148101807,
          -3.4164812564849854,
          -3.6293818950653076,
          -3.441343307495117,
          -3.5170843601226807,
          -3.4890613555908203,
          -3.481205463409424,
          -3.6424155235290527,
          -3.5027387142181396,
          -3.5159220695495605,
          -3.639841318130493,
          -3.4363608360290527,
          -3.664104461669922,
          -3.7533347606658936,
          -3.631216049194336,
          -3.677976369857788,
          -3.6699068546295166,
          -3.6525940895080566,
          -3.5864617824554443,
          -3.567371368408203,
          -3.673840045928955,
          -3.5526182651519775,
          -3.5230603218078613,
          -3.5241711139678955,
          -3.4778780937194824,
          -3.626819372177124,
          -3.5535523891448975,
          -3.491727352142334,
          -3.654629707336426,
          -3.477109432220459,
          -3.5807394981384277,
          -3.416147470474243,
          -3.612208127975464,
          -3.445117950439453,
          -3.653683662414551,
          -3.503998041152954,
          -3.4820330142974854,
          -3.5707387924194336,
          -3.596813678741455,
          -3.6256749629974365,
          -3.7079427242279053
         ],
         "yaxis": "y"
        },
        {
         "customdata": [
          [
           29429,
           "J22"
          ],
          [
           36835,
           "J22"
          ],
          [
           335406,
           "J27"
          ],
          [
           644,
           "J22"
          ],
          [
           501482,
           "J28"
          ],
          [
           1654360,
           "514f"
          ],
          [
           1644105,
           "J28"
          ],
          [
           366586,
           "J26"
          ],
          [
           721033,
           "J42"
          ],
          [
           285451,
           "J43"
          ],
          [
           1052017,
           "J26"
          ],
          [
           1949,
           "J42"
          ],
          [
           1867101,
           "J1230"
          ],
          [
           1711,
           "J475"
          ],
          [
           1571184,
           "J28"
          ],
          [
           203699,
           "J346"
          ],
          [
           1768108,
           "J346"
          ],
          [
           2045,
           "J26"
          ],
          [
           675864,
           "J26"
          ],
          [
           186479,
           "J1130"
          ],
          [
           1159213,
           "J22"
          ],
          [
           67257,
           "J43"
          ],
          [
           1736139,
           "J26"
          ],
          [
           53374,
           "J26"
          ],
          [
           458197,
           "J22"
          ],
          [
           1176243,
           "514c"
          ],
          [
           1828,
           "J43"
          ],
          [
           41985,
           "J28"
          ],
          [
           1176535,
           "J346"
          ],
          [
           453575,
           "J22"
          ],
          [
           1454,
           "J26"
          ],
          [
           47845,
           "J28"
          ],
          [
           68042,
           "J42"
          ],
          [
           1476871,
           "J26"
          ],
          [
           515326,
           "J26"
          ],
          [
           83446,
           "J443"
          ],
          [
           300029,
           "J43"
          ],
          [
           678932,
           "535a"
          ],
          [
           28214,
           "J22"
          ],
          [
           871741,
           "J475"
          ],
          [
           194249,
           "J43"
          ],
          [
           85336,
           "J28"
          ],
          [
           1494461,
           "J27"
          ],
          [
           1869339,
           "J386"
          ],
          [
           623281,
           "J1296"
          ],
          [
           1482731,
           "J991"
          ],
          [
           1411620,
           "J346"
          ],
          [
           2606631,
           "J26"
          ],
          [
           189863,
           "J26"
          ],
          [
           831,
           "J1112"
          ],
          [
           2058085,
           "J465"
          ],
          [
           290231,
           "J43"
          ],
          [
           1433257,
           "J346"
          ],
          [
           304736,
           "J475"
          ],
          [
           47884,
           "J22"
          ],
          [
           381830,
           "J386"
          ],
          [
           70255,
           "J26"
          ],
          [
           1818695,
           "J26"
          ],
          [
           418240,
           "J1130"
          ],
          [
           2045267,
           "514f"
          ],
          [
           394097,
           "J456"
          ],
          [
           68898,
           "J42"
          ],
          [
           333384,
           "J43"
          ],
          [
           67360,
           "J42"
          ],
          [
           285500,
           "J43"
          ],
          [
           1818731,
           "J475"
          ],
          [
           68280,
           "J42"
          ],
          [
           114699,
           "J42"
          ],
          [
           668625,
           "J475"
          ],
          [
           416555,
           "J1059"
          ],
          [
           300,
           "J22"
          ],
          [
           216778,
           "J22"
          ],
          [
           2498113,
           "J22"
          ],
          [
           1305,
           "J27"
          ],
          [
           1193105,
           "J1088"
          ],
          [
           1482,
           "J436"
          ],
          [
           52696,
           "J42"
          ],
          [
           67282,
           "J43"
          ],
          [
           1987060,
           "J27"
          ],
          [
           1524095,
           "J346"
          ],
          [
           40214,
           "J22"
          ],
          [
           201185,
           "J386"
          ],
          [
           520043,
           "535a"
          ],
          [
           2293570,
           "J43"
          ],
          [
           2213015,
           "J346"
          ],
          [
           1118462,
           "J22"
          ],
          [
           1886,
           "J42"
          ],
          [
           1260987,
           "J22"
          ],
          [
           328075,
           "J43"
          ],
          [
           324851,
           "J42"
          ],
          [
           501483,
           "J475"
          ],
          [
           659016,
           "J27"
          ],
          [
           553469,
           "J475"
          ],
          [
           2606616,
           "J26"
          ],
          [
           363630,
           "J386"
          ],
          [
           1537398,
           "J346"
          ],
          [
           1839785,
           "J28"
          ],
          [
           334253,
           "514f"
          ],
          [
           1281,
           "J26"
          ],
          [
           37637,
           "215b"
          ]
         ],
         "hovertemplate": "Cluster=11<br>Component 1=%{x}<br>Component 2=%{y}<br>taxon_id=%{customdata[0]}<br>media_id=%{customdata[1]}<extra></extra>",
         "legendgroup": "11",
         "marker": {
          "color": "#00cc96",
          "opacity": 0.3,
          "symbol": "circle"
         },
         "mode": "markers",
         "name": "11",
         "showlegend": true,
         "type": "scattergl",
         "x": [
          3.0280282497406006,
          3.72288179397583,
          3.6889922618865967,
          3.2278637886047363,
          3.727111577987671,
          3.636122465133667,
          3.6771979331970215,
          3.643843412399292,
          3.7551305294036865,
          3.811481237411499,
          3.8003721237182617,
          3.8874166011810303,
          3.6776885986328125,
          3.698591709136963,
          3.8087832927703857,
          3.641761064529419,
          3.9247560501098633,
          3.773020029067993,
          3.8125078678131104,
          3.1602680683135986,
          3.974126100540161,
          3.688819408416748,
          3.8353538513183594,
          3.6658406257629395,
          3.605316162109375,
          3.8877267837524414,
          3.7677834033966064,
          3.7665696144104004,
          3.796273708343506,
          3.822394847869873,
          3.682180404663086,
          3.798313856124878,
          3.723703384399414,
          3.716123342514038,
          3.6611835956573486,
          3.7206923961639404,
          3.682772159576416,
          3.900911808013916,
          3.23846435546875,
          3.691408634185791,
          3.750765323638916,
          3.589901924133301,
          3.7406349182128906,
          3.6187963485717773,
          3.613410234451294,
          3.660087823867798,
          3.682734251022339,
          3.811652898788452,
          3.729480266571045,
          3.7593438625335693,
          3.8392043113708496,
          3.8398146629333496,
          3.943164587020874,
          3.883990526199341,
          3.7571828365325928,
          3.803461790084839,
          3.6781535148620605,
          3.796363353729248,
          3.579097032546997,
          3.657198190689087,
          3.7100765705108643,
          3.58296275138855,
          3.8036742210388184,
          3.656792640686035,
          3.7646336555480957,
          3.7280585765838623,
          3.8374264240264893,
          3.7356390953063965,
          3.706073760986328,
          3.6673879623413086,
          3.920001268386841,
          3.834162950515747,
          3.8532426357269287,
          3.9188640117645264,
          3.6422314643859863,
          3.6183059215545654,
          4.101585865020752,
          3.539949417114258,
          3.5777626037597656,
          3.5547561645507812,
          3.849015235900879,
          3.586716890335083,
          3.8003690242767334,
          3.699176549911499,
          4.084295749664307,
          3.5887725353240967,
          3.8378798961639404,
          3.906252145767212,
          3.667681932449341,
          4.061533451080322,
          4.116511821746826,
          3.737720251083374,
          3.9006552696228027,
          3.685269832611084,
          3.7747788429260254,
          4.091423511505127,
          3.7778358459472656,
          4.098292350769043,
          3.8409056663513184,
          3.192983865737915
         ],
         "xaxis": "x",
         "y": [
          -0.32754120230674744,
          0.05519399791955948,
          0.05122213065624237,
          -0.23095807433128357,
          0.0718519389629364,
          0.14944396913051605,
          -0.018562370911240578,
          0.042401764541864395,
          0.13699686527252197,
          0.07872552424669266,
          0.08381634950637817,
          0.2108546495437622,
          0.09212230890989304,
          0.14565953612327576,
          0.03964001685380936,
          0.2721940875053406,
          0.30072444677352905,
          0.17336565256118774,
          0.2066381275653839,
          -0.26404717564582825,
          0.15278804302215576,
          0.003883861470967531,
          0.07868215441703796,
          0.2171667516231537,
          -0.003951596096158028,
          0.11301795393228531,
          0.22798852622509003,
          0.16104571521282196,
          0.0987488180398941,
          0.1950623095035553,
          0.18667671084403992,
          0.08264153450727463,
          0.20859882235527039,
          0.025530487298965454,
          0.13064083456993103,
          -0.05483096465468407,
          0.1540970504283905,
          0.21580548584461212,
          -0.20093750953674316,
          0.18444733321666718,
          0.09452169388532639,
          0.07360506057739258,
          -0.00008667114889249206,
          -0.016961118206381798,
          0.11711116135120392,
          0.03402947634458542,
          -0.011011989787220955,
          0.1676093339920044,
          0.18182381987571716,
          0.17571230232715607,
          0.15457411110401154,
          0.07022854685783386,
          -0.09025568515062332,
          0.038278788328170776,
          0.1322401762008667,
          0.03909621015191078,
          0.004364039748907089,
          0.2374294549226761,
          0.07774919271469116,
          -0.013647516258060932,
          0.20388762652873993,
          0.26809853315353394,
          0.21272477507591248,
          0.18488448858261108,
          0.14823216199874878,
          0.15197764337062836,
          0.14678455889225006,
          0.07566629350185394,
          0.244716078042984,
          0.08033809065818787,
          0.04770207777619362,
          0.22257451713085175,
          0.2897617220878601,
          0.06174587830901146,
          0.0933302715420723,
          0.03632528707385063,
          0.42733338475227356,
          -0.022254496812820435,
          0.032311178743839264,
          -0.028510482981801033,
          0.16353636980056763,
          0.055600475519895554,
          0.011209772899746895,
          -0.05778403952717781,
          0.49370062351226807,
          0.0331985242664814,
          -0.04589476063847542,
          0.03409242630004883,
          0.09721516072750092,
          0.4700685441493988,
          0.5256370306015015,
          0.12212925404310226,
          0.09790733456611633,
          0.0865844264626503,
          0.05485056713223457,
          0.5010098218917847,
          0.20368526875972748,
          0.519464373588562,
          0.2733779549598694,
          -0.24149632453918457
         ],
         "yaxis": "y"
        },
        {
         "customdata": [
          [
           1433543,
           "J1130"
          ],
          [
           60921,
           "J28"
          ],
          [
           2586643,
           "J283"
          ],
          [
           1537387,
           "J346"
          ],
          [
           246796,
           "J443"
          ],
          [
           101689,
           "J26"
          ],
          [
           344882,
           "535b"
          ],
          [
           433647,
           "J28"
          ],
          [
           58351,
           "J43"
          ],
          [
           40214,
           "J26"
          ],
          [
           2017,
           "J43"
          ],
          [
           84597,
           "J256"
          ],
          [
           331526,
           "J26"
          ],
          [
           562,
           "J27"
          ],
          [
           1888,
           "J42"
          ],
          [
           443157,
           "J346"
          ],
          [
           170994,
           "J26"
          ],
          [
           1643323,
           "J346"
          ],
          [
           67367,
           "J42"
          ],
          [
           2490857,
           "J1130"
          ],
          [
           638269,
           "J28"
          ],
          [
           394734,
           "J26"
          ],
          [
           1352223,
           "J475"
          ],
          [
           342948,
           "J386"
          ],
          [
           1304,
           "J27"
          ],
          [
           1818774,
           "J26"
          ],
          [
           285535,
           "J42"
          ],
          [
           343512,
           "J26"
          ],
          [
           279573,
           "J26"
          ],
          [
           47856,
           "J383"
          ],
          [
           51671,
           "J43"
          ],
          [
           418202,
           "J26"
          ],
          [
           321662,
           "514f"
          ],
          [
           285517,
           "J43"
          ],
          [
           99481,
           "J346"
          ],
          [
           1298601,
           "J22"
          ],
          [
           709323,
           "J988"
          ],
          [
           232089,
           "J475"
          ],
          [
           321325,
           "J43"
          ],
          [
           1437280,
           "J27"
          ],
          [
           48935,
           "429b"
          ],
          [
           418223,
           "J1296"
          ],
          [
           122355,
           "J22"
          ],
          [
           161889,
           "J475"
          ],
          [
           1873125,
           "J27"
          ],
          [
           173480,
           "J254"
          ],
          [
           391,
           "J242"
          ],
          [
           46163,
           "J43"
          ],
          [
           231024,
           "J42"
          ],
          [
           1190813,
           "J1328"
          ],
          [
           158500,
           "J27"
          ],
          [
           110500,
           "J302"
          ],
          [
           380,
           "J252"
          ],
          [
           1927129,
           "J1053"
          ],
          [
           54062,
           "J346"
          ],
          [
           54256,
           "J236"
          ],
          [
           189540,
           "J43"
          ],
          [
           1859295,
           "J26"
          ],
          [
           2023717,
           "514f"
          ],
          [
           535290,
           "J436"
          ],
          [
           195748,
           "J475"
          ],
          [
           690879,
           "J992"
          ],
          [
           1113550,
           "J23"
          ],
          [
           204042,
           "J28"
          ],
          [
           285446,
           "J43"
          ],
          [
           54910,
           "J22"
          ],
          [
           1396505,
           "J475"
          ],
          [
           1393054,
           "J22"
          ],
          [
           499547,
           "J42"
          ],
          [
           570936,
           "J43"
          ],
          [
           1912891,
           "J917"
          ],
          [
           95300,
           "535b"
          ],
          [
           200415,
           "J256"
          ],
          [
           485,
           "J256"
          ],
          [
           60547,
           "J27"
          ],
          [
           1972704,
           "514e"
          ],
          [
           45495,
           "J262"
          ],
          [
           1444770,
           "J346"
          ],
          [
           37333,
           "J43"
          ],
          [
           1550231,
           "J26"
          ],
          [
           69373,
           "J465"
          ],
          [
           263908,
           "J43"
          ],
          [
           310782,
           "J443"
          ],
          [
           69974,
           "J256"
          ],
          [
           271157,
           "J346"
          ],
          [
           29387,
           "J22"
          ],
          [
           2530382,
           "J42"
          ],
          [
           522298,
           "J346"
          ],
          [
           46186,
           "J42"
          ],
          [
           150123,
           "J26"
          ],
          [
           184064,
           "J346"
          ],
          [
           76728,
           "J43"
          ],
          [
           1417852,
           "J27"
          ],
          [
           137658,
           "J22"
          ],
          [
           29449,
           "J282"
          ],
          [
           1868401,
           "J475"
          ],
          [
           29284,
           "J455"
          ],
          [
           229921,
           "J443"
          ],
          [
           1711,
           "J28"
          ],
          [
           129922,
           "J386"
          ],
          [
           1121358,
           "535a"
          ],
          [
           1161202,
           "J346"
          ],
          [
           34007,
           "J26"
          ],
          [
           1033736,
           "J27"
          ],
          [
           265291,
           "J22"
          ],
          [
           43354,
           "J28"
          ],
          [
           623280,
           "J1296"
          ],
          [
           593133,
           "514d"
          ],
          [
           1896,
           "J43"
          ],
          [
           71864,
           "J1207"
          ],
          [
           1720,
           "J26"
          ],
          [
           53522,
           "J280"
          ],
          [
           2303,
           "J1056"
          ],
          [
           2094151,
           "J297"
          ],
          [
           1823,
           "J26"
          ],
          [
           1150298,
           "J475"
          ],
          [
           1465754,
           "J22"
          ],
          [
           1258546,
           "514c"
          ],
          [
           1541,
           "J256"
          ],
          [
           43767,
           "J43"
          ],
          [
           1630136,
           "J1113"
          ],
          [
           576611,
           "J346"
          ],
          [
           29524,
           "J475"
          ],
          [
           1393,
           "J28"
          ],
          [
           1363,
           "J291"
          ],
          [
           67294,
           "J43"
          ],
          [
           29485,
           "J22"
          ],
          [
           768539,
           "J26"
          ],
          [
           119864,
           "535a"
          ],
          [
           763993,
           "J475"
          ],
          [
           264251,
           "J28"
          ],
          [
           178355,
           "J436"
          ],
          [
           186479,
           "J1191"
          ],
          [
           1076594,
           "J26"
          ],
          [
           1183151,
           "J256"
          ],
          [
           83171,
           "J256"
          ],
          [
           1076695,
           "J1061"
          ],
          [
           2932614,
           "J42"
          ],
          [
           47958,
           "J346"
          ],
          [
           43306,
           "J22"
          ],
          [
           230470,
           "J386"
          ],
          [
           1176697,
           "J1090"
          ],
          [
           1413210,
           "J1241"
          ],
          [
           71254,
           "J26"
          ],
          [
           1646,
           "J346"
          ],
          [
           1411621,
           "J346"
          ],
          [
           68277,
           "J42"
          ],
          [
           53432,
           "J43"
          ],
          [
           1441625,
           "J346"
          ],
          [
           1179767,
           "J254"
          ],
          [
           479935,
           "J488"
          ],
          [
           182640,
           "J43"
          ],
          [
           1502156,
           "J276"
          ],
          [
           1630594,
           "J26"
          ],
          [
           1766,
           "J26"
          ],
          [
           589436,
           "J282"
          ],
          [
           185293,
           "J315"
          ],
          [
           1046556,
           "J43"
          ],
          [
           1868385,
           "J475"
          ],
          [
           2286,
           "J219"
          ],
          [
           227597,
           "J308"
          ],
          [
           634393,
           "J43"
          ],
          [
           2779354,
           "J1257"
          ],
          [
           1868422,
           "J475"
          ],
          [
           396389,
           "J28"
          ],
          [
           1706195,
           "J346"
          ],
          [
           574963,
           "J443"
          ],
          [
           670052,
           "J475"
          ],
          [
           285562,
           "J346"
          ],
          [
           176598,
           "535a"
          ],
          [
           1355477,
           "J256"
          ],
          [
           193460,
           "J42"
          ],
          [
           1096779,
           "J22"
          ],
          [
           329523,
           "J43"
          ],
          [
           128944,
           "J341"
          ],
          [
           132471,
           "J42"
          ],
          [
           2488749,
           "J346"
          ],
          [
           88074,
           "J43"
          ],
          [
           1076330,
           "J228"
          ],
          [
           156202,
           "J346"
          ],
          [
           497735,
           "J443"
          ],
          [
           2044521,
           "J1029"
          ],
          [
           52017,
           "195c"
          ],
          [
           390269,
           "J26"
          ],
          [
           189741,
           "J26"
          ],
          [
           1475022,
           "J493"
          ],
          [
           2097,
           "J485"
          ],
          [
           88374,
           "J346"
          ],
          [
           43767,
           "J22"
          ],
          [
           1162717,
           "J346"
          ],
          [
           65656,
           "J475"
          ],
          [
           29347,
           "J141"
          ],
          [
           2162894,
           "J346"
          ],
          [
           441501,
           "J28"
          ],
          [
           337097,
           "J475"
          ],
          [
           66835,
           "617a"
          ],
          [
           2488750,
           "J386"
          ],
          [
           33,
           "J306"
          ],
          [
           336819,
           "J346"
          ],
          [
           684065,
           "J436"
          ],
          [
           670079,
           "J26"
          ],
          [
           294,
           "J232"
          ],
          [
           2498846,
           "J26"
          ],
          [
           2420509,
           "J26"
          ],
          [
           1268671,
           "J386"
          ],
          [
           156980,
           "J28"
          ],
          [
           71254,
           "J28"
          ],
          [
           593134,
           "J43"
          ],
          [
           1045773,
           "J22"
          ],
          [
           36807,
           "J386"
          ],
          [
           68274,
           "J42"
          ],
          [
           1654388,
           "J297"
          ],
          [
           1398,
           "J22"
          ],
          [
           575978,
           "J443"
          ],
          [
           1544746,
           "J28"
          ],
          [
           2293719,
           "J28"
          ],
          [
           33995,
           "J946"
          ],
          [
           401976,
           "J43"
          ],
          [
           2024855,
           "J907"
          ],
          [
           13656,
           "J254"
          ]
         ],
         "hovertemplate": "Cluster=7<br>Component 1=%{x}<br>Component 2=%{y}<br>taxon_id=%{customdata[0]}<br>media_id=%{customdata[1]}<extra></extra>",
         "legendgroup": "7",
         "marker": {
          "color": "#ab63fa",
          "opacity": 0.3,
          "symbol": "circle"
         },
         "mode": "markers",
         "name": "7",
         "showlegend": true,
         "type": "scattergl",
         "x": [
          24.768104553222656,
          24.653602600097656,
          24.35269546508789,
          24.80710792541504,
          24.773757934570312,
          24.822616577148438,
          24.819133758544922,
          24.96816062927246,
          24.71256446838379,
          25.766700744628906,
          24.280197143554688,
          24.29617691040039,
          25.430591583251953,
          25.23379898071289,
          25.58106803894043,
          25.58663558959961,
          24.922000885009766,
          25.486909866333008,
          24.832481384277344,
          25.61830711364746,
          25.54620361328125,
          25.640113830566406,
          24.906005859375,
          25.62818717956543,
          24.865264892578125,
          24.7263240814209,
          25.685443878173828,
          25.46787452697754,
          25.50705337524414,
          25.73912239074707,
          25.55067253112793,
          24.765485763549805,
          24.915210723876953,
          24.224613189697266,
          25.00520896911621,
          24.856367111206055,
          25.567459106445312,
          25.714921951293945,
          24.969755172729492,
          25.783275604248047,
          24.801555633544922,
          25.607784271240234,
          25.545629501342773,
          24.358808517456055,
          25.73407554626465,
          24.750389099121094,
          24.358182907104492,
          24.73653221130371,
          24.612714767456055,
          25.643383026123047,
          24.819459915161133,
          24.21268653869629,
          24.9617919921875,
          24.91324234008789,
          24.82192611694336,
          25.648557662963867,
          24.849245071411133,
          24.76759910583496,
          25.445619583129883,
          24.237333297729492,
          24.81842041015625,
          24.790546417236328,
          24.25011444091797,
          24.838769912719727,
          24.729909896850586,
          25.674144744873047,
          24.269634246826172,
          24.799062728881836,
          24.86989402770996,
          24.827608108520508,
          24.383499145507812,
          25.678651809692383,
          25.619335174560547,
          24.958141326904297,
          25.5910701751709,
          25.52285385131836,
          24.345706939697266,
          24.85887908935547,
          25.372756958007812,
          24.86712646484375,
          24.81578254699707,
          25.562564849853516,
          25.63649559020996,
          25.70712661743164,
          24.388263702392578,
          24.97394561767578,
          24.835010528564453,
          25.560224533081055,
          24.853897094726562,
          24.752155303955078,
          25.677570343017578,
          24.28095817565918,
          24.73482322692871,
          25.565942764282227,
          24.79877281188965,
          25.561643600463867,
          25.50113868713379,
          25.60218048095703,
          25.513107299804688,
          24.794340133666992,
          24.917800903320312,
          24.976198196411133,
          25.45315933227539,
          25.499515533447266,
          24.943748474121094,
          24.95894432067871,
          25.053699493408203,
          25.082731246948242,
          25.4831600189209,
          25.052812576293945,
          25.473960876464844,
          25.617347717285156,
          25.778396606445312,
          24.68851661682129,
          25.587833404541016,
          24.229427337646484,
          24.578224182128906,
          25.566699981689453,
          24.866456985473633,
          25.651079177856445,
          24.89715576171875,
          25.23239517211914,
          25.76901626586914,
          24.846790313720703,
          24.805553436279297,
          25.64942741394043,
          25.513425827026367,
          25.643774032592773,
          24.237213134765625,
          25.656896591186523,
          24.911041259765625,
          25.02092170715332,
          24.330209732055664,
          25.56244659423828,
          24.36208152770996,
          25.61201286315918,
          24.753576278686523,
          24.800203323364258,
          25.57749366760254,
          25.584182739257812,
          24.938201904296875,
          24.649593353271484,
          24.20871925354004,
          25.667753219604492,
          25.769638061523438,
          24.85586166381836,
          25.739944458007812,
          24.75965690612793,
          24.79580307006836,
          24.290332794189453,
          25.712602615356445,
          25.68130111694336,
          24.245210647583008,
          24.76680564880371,
          25.770530700683594,
          24.353864669799805,
          25.727821350097656,
          24.93268585205078,
          24.722898483276367,
          24.245519638061523,
          24.4276180267334,
          24.37485694885254,
          25.669675827026367,
          24.33515167236328,
          25.535076141357422,
          24.77581214904785,
          25.450185775756836,
          24.864381790161133,
          24.322240829467773,
          25.50975799560547,
          24.853418350219727,
          25.48162841796875,
          25.46198272705078,
          24.267332077026367,
          25.68560218811035,
          24.98906707763672,
          24.835861206054688,
          25.855817794799805,
          24.330951690673828,
          24.81631088256836,
          25.6122989654541,
          25.75518035888672,
          24.940832138061523,
          24.884571075439453,
          24.672388076782227,
          24.766054153442383,
          24.35536003112793,
          25.065410614013672,
          24.756460189819336,
          24.800228118896484,
          25.572166442871094,
          24.20257568359375,
          25.805776596069336,
          25.064191818237305,
          24.78831672668457,
          24.797378540039062,
          24.980854034423828,
          25.70477867126465,
          24.297239303588867,
          25.588754653930664,
          25.521154403686523,
          24.8625545501709,
          25.727005004882812,
          25.769943237304688,
          25.77285385131836,
          25.709442138671875,
          24.799299240112305,
          25.629281997680664,
          24.909835815429688,
          25.72481346130371,
          25.247732162475586,
          25.743389129638672,
          25.704370498657227,
          24.806066513061523,
          24.809789657592773,
          25.64400863647461,
          24.217884063720703,
          25.77323341369629,
          24.897808074951172,
          25.619775772094727
         ],
         "xaxis": "x",
         "y": [
          2.113769054412842,
          2.353773355484009,
          2.7061352729797363,
          2.4394938945770264,
          2.304821729660034,
          2.3715763092041016,
          2.2202675342559814,
          2.370551586151123,
          2.24481463432312,
          2.5072731971740723,
          2.7260100841522217,
          2.635166645050049,
          2.5008134841918945,
          2.3883392810821533,
          2.43021559715271,
          2.6558942794799805,
          2.2814252376556396,
          2.4367971420288086,
          2.249218702316284,
          2.60679292678833,
          2.4931817054748535,
          2.496704339981079,
          2.3038766384124756,
          2.5371410846710205,
          2.2755320072174072,
          2.305605173110962,
          2.3895113468170166,
          2.6687612533569336,
          2.383002996444702,
          2.5518295764923096,
          2.4221420288085938,
          2.384105682373047,
          2.1970388889312744,
          2.6353671550750732,
          2.31626033782959,
          2.359851360321045,
          2.4283828735351562,
          2.473482370376587,
          2.310030698776245,
          2.474057912826538,
          2.174013614654541,
          2.563361644744873,
          2.566610336303711,
          2.578195095062256,
          2.4852945804595947,
          2.1430790424346924,
          2.6617960929870605,
          2.263932228088379,
          2.135134696960449,
          2.3354926109313965,
          2.208667755126953,
          2.762491226196289,
          2.403991937637329,
          2.3278119564056396,
          2.2262790203094482,
          2.458954334259033,
          2.2365000247955322,
          2.255911111831665,
          2.543849229812622,
          2.577202558517456,
          2.3222463130950928,
          2.2406914234161377,
          2.644331932067871,
          2.13641357421875,
          2.2478387355804443,
          2.5878217220306396,
          2.706681728363037,
          2.2806544303894043,
          2.31443190574646,
          2.303896903991699,
          2.763624906539917,
          2.496070146560669,
          2.52272891998291,
          2.287503719329834,
          2.506781578063965,
          2.5717506408691406,
          2.6801607608795166,
          2.2935266494750977,
          2.5645647048950195,
          2.1286168098449707,
          2.3881022930145264,
          2.543257236480713,
          2.634171962738037,
          2.580949544906616,
          2.664795398712158,
          2.218951463699341,
          2.181036949157715,
          2.4995429515838623,
          2.4078681468963623,
          2.2182252407073975,
          2.5695083141326904,
          2.7434616088867188,
          2.3311238288879395,
          2.696443557739258,
          2.098099708557129,
          2.4463748931884766,
          2.5489425659179688,
          2.554002285003662,
          2.454822301864624,
          2.206120729446411,
          2.159686803817749,
          2.179379940032959,
          2.3370931148529053,
          2.3467369079589844,
          2.179018497467041,
          2.1133198738098145,
          2.097565174102783,
          2.0939204692840576,
          2.4094510078430176,
          2.1247572898864746,
          2.370316505432129,
          2.542829751968384,
          2.5634725093841553,
          2.181978702545166,
          2.3531203269958496,
          2.68750262260437,
          2.354820728302002,
          2.735722064971924,
          2.1037302017211914,
          2.444786787033081,
          2.292097330093384,
          2.3899383544921875,
          2.3809738159179688,
          2.248610019683838,
          2.209503650665283,
          2.4903581142425537,
          2.4490907192230225,
          2.5991039276123047,
          2.599529504776001,
          2.5106024742126465,
          2.1934549808502197,
          2.2856061458587646,
          2.5617306232452393,
          2.531162738800049,
          2.763294219970703,
          2.6047260761260986,
          2.228940010070801,
          2.2564852237701416,
          2.7487263679504395,
          2.668680429458618,
          2.1846749782562256,
          2.340301513671875,
          2.5783212184906006,
          2.6266579627990723,
          2.5693719387054443,
          2.0495877265930176,
          2.6973986625671387,
          2.226746082305908,
          2.217280149459839,
          2.6853809356689453,
          2.637885570526123,
          2.4184746742248535,
          2.718804121017456,
          2.289497137069702,
          2.5319361686706543,
          2.7334940433502197,
          2.541670322418213,
          2.2869105339050293,
          2.239459753036499,
          2.645843982696533,
          2.616290807723999,
          2.658611536026001,
          2.72255802154541,
          2.652292013168335,
          2.4758729934692383,
          2.141706943511963,
          2.6487441062927246,
          2.3797240257263184,
          2.6251087188720703,
          2.5624961853027344,
          2.1503705978393555,
          2.5774803161621094,
          2.555323839187622,
          2.71513032913208,
          2.5846266746520996,
          2.3439671993255615,
          2.13038969039917,
          2.494753122329712,
          2.5947725772857666,
          2.3138375282287598,
          2.532726764678955,
          2.6188650131225586,
          2.151437282562256,
          2.2604124546051025,
          2.0296499729156494,
          2.124399423599243,
          2.6081457138061523,
          2.185457229614258,
          2.28627610206604,
          2.198011875152588,
          2.4692018032073975,
          2.6909658908843994,
          2.5045042037963867,
          2.0240390300750732,
          2.210986852645874,
          2.1459133625030518,
          2.225991725921631,
          2.574176549911499,
          2.638467311859131,
          2.6696743965148926,
          2.556288957595825,
          2.2458841800689697,
          2.7418222427368164,
          2.6286795139312744,
          2.570707321166992,
          2.6485092639923096,
          2.105452537536621,
          2.512091875076294,
          2.2692112922668457,
          2.4835214614868164,
          1.962347149848938,
          2.7030508518218994,
          2.7980756759643555,
          2.2464182376861572,
          2.0968093872070312,
          2.511254072189331,
          2.633817195892334,
          2.496091365814209,
          2.239410877227783,
          2.4944512844085693
         ],
         "yaxis": "y"
        },
        {
         "customdata": [
          [
           46127,
           "J346"
          ],
          [
           1833,
           "J43"
          ],
          [
           303,
           "J22"
          ],
          [
           2108,
           "1122a"
          ],
          [
           43767,
           "J20"
          ],
          [
           1870928,
           "J26"
          ],
          [
           1496,
           "J84"
          ],
          [
           515414,
           "J14"
          ],
          [
           29528,
           "J118"
          ],
          [
           1613,
           "J14"
          ],
          [
           306,
           "J22"
          ],
          [
           539,
           "J14"
          ],
          [
           282402,
           "J655"
          ],
          [
           2528593,
           "104b"
          ],
          [
           1273,
           "J26"
          ],
          [
           53356,
           "J43"
          ],
          [
           99807,
           "J26"
          ],
          [
           67280,
           "J58"
          ],
          [
           1506,
           "J464"
          ],
          [
           299214,
           "1076b"
          ],
          [
           322602,
           "J26"
          ],
          [
           1871045,
           "J14"
          ],
          [
           1605,
           "J84"
          ],
          [
           1774,
           "J26"
          ],
          [
           299480,
           "J386"
          ],
          [
           629680,
           "J27"
          ],
          [
           1931995,
           "J14"
          ],
          [
           84724,
           "J49"
          ],
          [
           1652104,
           "J254"
          ],
          [
           165179,
           "J14"
          ],
          [
           323273,
           "J118"
          ],
          [
           41986,
           "J26"
          ],
          [
           706186,
           "J346"
          ],
          [
           555,
           "J22"
          ],
          [
           71453,
           "J168"
          ],
          [
           1492,
           "28b"
          ],
          [
           758802,
           "J26"
          ],
          [
           1260,
           "J14"
          ],
          [
           145263,
           "J275"
          ],
          [
           2981785,
           "339a"
          ],
          [
           311789,
           "J118"
          ],
          [
           34012,
           "J22"
          ],
          [
           678,
           "514f"
          ],
          [
           1312852,
           "J1047"
          ],
          [
           1954,
           "J51"
          ],
          [
           1007511,
           "1a"
          ],
          [
           82801,
           "J74"
          ],
          [
           1979212,
           "J586"
          ],
          [
           1428,
           "J22"
          ],
          [
           2692199,
           "J596"
          ],
          [
           444920,
           "J118"
          ],
          [
           913,
           "830c"
          ],
          [
           2139,
           "J902"
          ],
          [
           709839,
           "J840"
          ],
          [
           133535,
           "J860"
          ],
          [
           1905692,
           "J27"
          ],
          [
           1798158,
           "J282"
          ],
          [
           431596,
           "J75"
          ],
          [
           1818689,
           "J26"
          ],
          [
           1409,
           "J118"
          ],
          [
           462991,
           "514c"
          ],
          [
           256702,
           "J26"
          ],
          [
           281186,
           "J51"
          ],
          [
           484882,
           "J346"
          ],
          [
           424758,
           "J475"
          ],
          [
           578214,
           "514c"
          ],
          [
           1079994,
           "J26"
          ],
          [
           2767931,
           "J13"
          ],
          [
           38402,
           "J14"
          ],
          [
           1859473,
           "J28"
          ],
          [
           82995,
           "J26"
          ],
          [
           53446,
           "J61"
          ],
          [
           598644,
           "J48"
          ],
          [
           452979,
           "J43"
          ],
          [
           1940790,
           "J1036"
          ],
          [
           47714,
           "J84"
          ],
          [
           2934315,
           "110a"
          ],
          [
           1439726,
           "J111"
          ],
          [
           1764,
           "J416"
          ],
          [
           67339,
           "J48"
          ],
          [
           522397,
           "J853"
          ],
          [
           337330,
           "J14"
          ],
          [
           1516126,
           "1203a"
          ],
          [
           1409,
           "J181"
          ],
          [
           295585,
           "J51"
          ],
          [
           60519,
           "J13"
          ],
          [
           1036182,
           "J43"
          ],
          [
           184756,
           "J43"
          ],
          [
           885042,
           "J50"
          ],
          [
           1571,
           "J79"
          ],
          [
           153496,
           "J776"
          ],
          [
           459515,
           "J26"
          ],
          [
           336820,
           "J346"
          ],
          [
           284452,
           "J42"
          ],
          [
           659444,
           "J443"
          ],
          [
           247,
           "J12"
          ],
          [
           158627,
           "220a"
          ],
          [
           57489,
           "104b"
          ],
          [
           406,
           "J91"
          ],
          [
           217168,
           "J443"
          ],
          [
           121872,
           "J443"
          ],
          [
           1827099,
           "J14"
          ],
          [
           930197,
           "J686"
          ],
          [
           1198298,
           "J597"
          ],
          [
           285579,
           "J42"
          ],
          [
           460257,
           "J26"
          ],
          [
           134375,
           "1a"
          ],
          [
           817,
           "J282"
          ],
          [
           106412,
           "J50"
          ],
          [
           1818749,
           "J52"
          ],
          [
           1172610,
           "J26"
          ],
          [
           1751046,
           "J346"
          ],
          [
           1302236,
           "J346"
          ],
          [
           37329,
           "J346"
          ],
          [
           1172621,
           "J26"
          ],
          [
           390841,
           "J84"
          ],
          [
           2736294,
           "1203a"
          ],
          [
           51364,
           "1076b"
          ],
          [
           91360,
           "J511"
          ],
          [
           2652282,
           "J26"
          ],
          [
           630515,
           "J26"
          ],
          [
           28131,
           "J14"
          ],
          [
           121428,
           "429b"
          ],
          [
           253107,
           "J168"
          ],
          [
           1095914,
           "J58"
          ],
          [
           564,
           "J12"
          ],
          [
           88688,
           "J70"
          ],
          [
           74033,
           "734a"
          ],
          [
           406,
           "J93"
          ],
          [
           187491,
           "J26"
          ],
          [
           904295,
           "J346"
          ],
          [
           646,
           "1526c"
          ],
          [
           356147,
           "J43"
          ],
          [
           2751,
           "J28"
          ],
          [
           2006,
           "J42"
          ],
          [
           817,
           "J14"
          ],
          [
           263852,
           "J14"
          ],
          [
           29488,
           "1a"
          ],
          [
           291169,
           "J1220"
          ],
          [
           1470561,
           "514a"
          ],
          [
           69369,
           "J43"
          ],
          [
           44098,
           "J168"
          ],
          [
           2747817,
           "J581"
          ],
          [
           467091,
           "J118"
          ],
          [
           80879,
           "J26"
          ],
          [
           2711219,
           "J49"
          ],
          [
           639313,
           "J28"
          ],
          [
           346389,
           "J710"
          ],
          [
           71451,
           "J402"
          ],
          [
           1658111,
           "104b"
          ],
          [
           1351,
           "J156"
          ],
          [
           332101,
           "104b"
          ],
          [
           2265,
           "J168"
          ],
          [
           285,
           "J28"
          ],
          [
           68173,
           "J42"
          ],
          [
           63128,
           "J348"
          ],
          [
           1334040,
           "514d"
          ],
          [
           51669,
           "J574"
          ],
          [
           97477,
           "11b"
          ],
          [
           501592,
           "J26"
          ],
          [
           305900,
           "J118"
          ],
          [
           2779351,
           "J321"
          ],
          [
           390841,
           "J14"
          ],
          [
           1588,
           "J84"
          ],
          [
           1888209,
           "J118"
          ],
          [
           1872417,
           "J26"
          ],
          [
           217158,
           "J14"
          ],
          [
           396317,
           "J169"
          ],
          [
           47485,
           "J50"
          ],
          [
           1612150,
           "1163a"
          ],
          [
           714075,
           "J22"
          ],
          [
           2108,
           "J996"
          ],
          [
           229919,
           "J443"
          ],
          [
           45399,
           "J50"
          ],
          [
           1579,
           "J13"
          ],
          [
           29347,
           "J14"
          ],
          [
           496057,
           "J346"
          ],
          [
           1608994,
           "1a"
          ],
          [
           2042683,
           "J14"
          ],
          [
           84292,
           "J26"
          ],
          [
           425254,
           "J709"
          ],
          [
           1871616,
           "J26"
          ],
          [
           29397,
           "J12"
          ],
          [
           275,
           "J270"
          ],
          [
           131318,
           "J26"
          ],
          [
           111807,
           "J43"
          ],
          [
           823,
           "1203a"
          ],
          [
           1118379,
           "J386"
          ],
          [
           651822,
           "104a"
          ],
          [
           1981510,
           "J20"
          ],
          [
           920,
           "J101"
          ],
          [
           653930,
           "830c"
          ],
          [
           1424653,
           "J900"
          ],
          [
           41200,
           "11b"
          ],
          [
           392823,
           "J674"
          ],
          [
           29557,
           "J485"
          ],
          [
           2219225,
           "J28"
          ],
          [
           269673,
           "J77"
          ],
          [
           317,
           "535b"
          ],
          [
           58344,
           "J43"
          ],
          [
           1775542,
           "J181"
          ],
          [
           1383816,
           "J1082"
          ],
          [
           2268139,
           "J586"
          ],
          [
           1926290,
           "J26"
          ],
          [
           1827100,
           "J84"
          ],
          [
           58350,
           "J58"
          ],
          [
           238964,
           "J43"
          ],
          [
           37635,
           "514a"
          ],
          [
           1520,
           "J14"
          ],
          [
           1509,
           "1203a"
          ],
          [
           761804,
           "J436"
          ],
          [
           43661,
           "J118"
          ],
          [
           70258,
           "J26"
          ],
          [
           284039,
           "J52"
          ],
          [
           1422,
           "J27"
          ],
          [
           669455,
           "830a"
          ],
          [
           765197,
           "J43"
          ],
          [
           1982628,
           "J1240"
          ],
          [
           1742923,
           "J1130"
          ],
          [
           744515,
           "195a"
          ],
          [
           2751477,
           "J355"
          ],
          [
           980631,
           "1a"
          ],
          [
           190,
           "J27"
          ],
          [
           424795,
           "J475"
          ],
          [
           76637,
           "J28"
          ],
          [
           66375,
           "J42"
          ],
          [
           47761,
           "J42"
          ],
          [
           43671,
           "J28"
          ],
          [
           1445661,
           "J118"
          ],
          [
           434086,
           "J118"
          ],
          [
           1460447,
           "J709"
          ],
          [
           1285901,
           "J28"
          ],
          [
           1639,
           "J254"
          ],
          [
           386302,
           "J26"
          ],
          [
           34038,
           "1a"
          ],
          [
           1926871,
           "J346"
          ],
          [
           1708790,
           "J346"
          ],
          [
           230105,
           "J159"
          ],
          [
           476551,
           "J42"
          ],
          [
           568790,
           "104c"
          ],
          [
           76020,
           "J43"
          ],
          [
           195748,
           "J26"
          ],
          [
           1505907,
           "J824"
          ],
          [
           410,
           "J22"
          ],
          [
           92442,
           "J28"
          ],
          [
           2043170,
           "J436"
          ],
          [
           490571,
           "830c"
          ],
          [
           985759,
           "J346"
          ],
          [
           387661,
           "J14"
          ],
          [
           113570,
           "J58"
          ],
          [
           409290,
           "J475"
          ],
          [
           443156,
           "J475"
          ],
          [
           67297,
           "J42"
          ],
          [
           153730,
           "J26"
          ],
          [
           2268139,
           "J597"
          ],
          [
           253257,
           "104b"
          ],
          [
           84112,
           "J14"
          ],
          [
           29387,
           "J527"
          ],
          [
           257438,
           "J162"
          ],
          [
           1434707,
           "J346"
          ],
          [
           365033,
           "J710"
          ],
          [
           1725,
           "J26"
          ],
          [
           747481,
           "J574"
          ],
          [
           1701086,
           "J42"
          ],
          [
           1871047,
           "J27"
          ],
          [
           47770,
           "J14"
          ],
          [
           1604897,
           "104c"
          ],
          [
           2981768,
           "J262"
          ],
          [
           1796615,
           "J26"
          ],
          [
           58351,
           "J61"
          ],
          [
           470784,
           "J280"
          ],
          [
           1818840,
           "J43"
          ],
          [
           1971,
           "J66"
          ],
          [
           231439,
           "195c"
          ],
          [
           332055,
           "465a"
          ],
          [
           1652028,
           "J27"
          ],
          [
           253314,
           "J640"
          ],
          [
           2217661,
           "J576"
          ],
          [
           46353,
           "J26"
          ],
          [
           1737,
           "J84"
          ],
          [
           744512,
           "195c"
          ],
          [
           1978373,
           "J43"
          ],
          [
           1460644,
           "J118"
          ],
          [
           178399,
           "J42"
          ],
          [
           181662,
           "195c"
          ],
          [
           2934315,
           "104c"
          ],
          [
           1244,
           "J13"
          ],
          [
           45677,
           "J28"
          ],
          [
           41200,
           "88c"
          ],
          [
           404386,
           "J104"
          ],
          [
           40988,
           "J50"
          ],
          [
           84634,
           "J42"
          ],
          [
           1717,
           "J28"
          ],
          [
           584,
           "J12"
          ],
          [
           1358,
           "J13"
          ],
          [
           83456,
           "J156"
          ],
          [
           768536,
           "J26"
          ],
          [
           159896,
           "J26"
          ],
          [
           13769,
           "J168"
          ],
          [
           318425,
           "J386"
          ],
          [
           442709,
           "J443"
          ],
          [
           1591,
           "1a"
          ],
          [
           758,
           "J75"
          ],
          [
           2527691,
           "J346"
          ],
          [
           1852971,
           "J346"
          ],
          [
           36848,
           "141c"
          ],
          [
           1349415,
           "J28"
          ],
          [
           1987050,
           "J167"
          ],
          [
           383750,
           "J118"
          ],
          [
           683150,
           "J475"
          ],
          [
           478105,
           "J709"
          ],
          [
           640205,
           "1a"
          ],
          [
           1409,
           "J1130"
          ],
          [
           1679,
           "J13"
          ],
          [
           299262,
           "J118"
          ],
          [
           121428,
           "J14"
          ],
          [
           807,
           "383b"
          ],
          [
           33050,
           "1a"
          ],
          [
           2806023,
           "J28"
          ],
          [
           74706,
           "J27"
          ],
          [
           1649133,
           "J22"
          ],
          [
           2652286,
           "1203a"
          ],
          [
           451374,
           "J346"
          ],
          [
           363867,
           "J26"
          ],
          [
           2184082,
           "J1130"
          ],
          [
           415849,
           "1a"
          ],
          [
           1521118,
           "J41"
          ],
          [
           1902409,
           "J118"
          ],
          [
           65656,
           "J22"
          ],
          [
           364197,
           "514b"
          ],
          [
           52761,
           "J26"
          ],
          [
           37734,
           "J156"
          ],
          [
           1285,
           "J12"
          ],
          [
           930166,
           "1a"
          ],
          [
           85993,
           "J302"
          ],
          [
           1920257,
           "J1130"
          ],
          [
           82346,
           "J28"
          ],
          [
           407974,
           "J50"
          ],
          [
           472111,
           "J118"
          ],
          [
           1423,
           "J475"
          ],
          [
           240840,
           "J43"
          ],
          [
           413497,
           "J12"
          ],
          [
           68911,
           "J168"
          ],
          [
           2066070,
           "J256"
          ],
          [
           1281,
           "J23"
          ],
          [
           54291,
           "J28"
          ],
          [
           1812262,
           "J26"
          ],
          [
           1408819,
           "339a"
          ],
          [
           310350,
           "J83"
          ],
          [
           1562698,
           "J1139"
          ],
          [
           505252,
           "J118"
          ],
          [
           1255251,
           "J475"
          ],
          [
           36839,
           "104c"
          ],
          [
           43675,
           "J28"
          ],
          [
           2604800,
           "J45"
          ],
          [
           1577687,
           "1630c"
          ],
          [
           2382163,
           "J28"
          ],
          [
           2138083,
           "514b"
          ],
          [
           1840415,
           "J43"
          ],
          [
           33959,
           "J13"
          ],
          [
           941184,
           "J43"
          ]
         ],
         "hovertemplate": "Cluster=9<br>Component 1=%{x}<br>Component 2=%{y}<br>taxon_id=%{customdata[0]}<br>media_id=%{customdata[1]}<extra></extra>",
         "legendgroup": "9",
         "marker": {
          "color": "#FFA15A",
          "opacity": 0.3,
          "symbol": "circle"
         },
         "mode": "markers",
         "name": "9",
         "showlegend": true,
         "type": "scattergl",
         "x": [
          -1.7164386510849,
          -1.3499709367752075,
          -1.2927262783050537,
          -1.7143099308013916,
          -1.3155062198638916,
          -1.3108752965927124,
          -1.0756895542144775,
          -1.6684837341308594,
          -1.1087634563446045,
          -1.3048920631408691,
          -1.334533929824829,
          -1.3565456867218018,
          -1.4284729957580566,
          -1.4636904001235962,
          -1.4457262754440308,
          -1.428397536277771,
          -1.4458848237991333,
          -1.431625485420227,
          -1.463683843612671,
          -1.4566853046417236,
          -1.4437814950942993,
          -1.4486714601516724,
          -1.443833351135254,
          -1.4480223655700684,
          -1.4584561586380005,
          -1.4789379835128784,
          -1.4309096336364746,
          -1.4342281818389893,
          -1.4629355669021606,
          -1.5101014375686646,
          -1.0809900760650635,
          -1.283332109451294,
          -1.1588351726531982,
          -1.4074342250823975,
          -1.024517297744751,
          -1.1630961894989014,
          -1.0604294538497925,
          -1.3856158256530762,
          -1.4709699153900146,
          -1.315476417541504,
          -1.4802937507629395,
          -1.5490562915802002,
          -1.7340328693389893,
          -1.4866657257080078,
          -1.4996973276138306,
          -1.4212062358856201,
          -1.4022679328918457,
          -1.466850996017456,
          -1.5166432857513428,
          -1.3028192520141602,
          -1.0557819604873657,
          -1.092502236366272,
          -1.1442018747329712,
          -1.1326814889907837,
          -1.285003662109375,
          -0.9780007004737854,
          -0.8763006329536438,
          -1.3206360340118408,
          -1.145919680595398,
          -1.2115474939346313,
          -1.3815103769302368,
          -1.2630010843276978,
          -0.9908735156059265,
          -1.1461125612258911,
          -0.7880261540412903,
          -1.0555307865142822,
          -0.9508054852485657,
          -0.7962256669998169,
          -1.0532008409500122,
          -1.051090121269226,
          -1.227394461631775,
          -1.1965336799621582,
          -1.1643918752670288,
          -1.2911382913589478,
          -1.016819953918457,
          -1.1508874893188477,
          -1.037798285484314,
          -1.1545851230621338,
          -1.0105222463607788,
          -1.385177493095398,
          -1.3524094820022583,
          -1.1837897300720215,
          -1.203391194343567,
          -1.0063501596450806,
          -1.3250149488449097,
          -1.3604977130889893,
          -0.9958202838897705,
          -1.1069209575653076,
          -1.024596929550171,
          -1.114200234413147,
          -1.187620997428894,
          -0.8660013675689697,
          -1.3938031196594238,
          -1.3560740947723389,
          -1.1320244073867798,
          -0.9379717111587524,
          -1.0925747156143188,
          -1.1249629259109497,
          -1.02701735496521,
          -1.2721319198608398,
          -1.296879529953003,
          -1.0035401582717896,
          -1.2236762046813965,
          -1.0499504804611206,
          -1.3288007974624634,
          -1.3038005828857422,
          -0.97864830493927,
          -1.4140608310699463,
          -1.3832547664642334,
          -0.6748531460762024,
          -1.5532217025756836,
          -1.2076789140701294,
          -1.17039155960083,
          -1.4096511602401733,
          -1.1488817930221558,
          -1.2274259328842163,
          -1.3251807689666748,
          -1.4484961032867432,
          -0.86810302734375,
          -1.2653290033340454,
          -1.2650234699249268,
          -1.163520336151123,
          -1.1380231380462646,
          -1.0622549057006836,
          -1.281070590019226,
          -0.9431778788566589,
          -0.8927309513092041,
          -1.357781171798706,
          -0.8841239213943481,
          -0.9218531847000122,
          -1.3991146087646484,
          -1.207874059677124,
          -1.230921745300293,
          -1.1345508098602295,
          -1.436823844909668,
          -1.3876365423202515,
          -1.414494276046753,
          -1.4860142469406128,
          -1.4300732612609863,
          -1.3812384605407715,
          -1.2543199062347412,
          -1.4530857801437378,
          -1.0591548681259155,
          -1.3583757877349854,
          -1.1337946653366089,
          -1.5726197957992554,
          -1.5195984840393066,
          -1.5231660604476929,
          -1.4578393697738647,
          -1.1161617040634155,
          -1.217788577079773,
          -1.2105728387832642,
          -1.3088364601135254,
          -1.492527723312378,
          -1.316928744316101,
          -1.5730963945388794,
          -1.423270583152771,
          -1.2635350227355957,
          -1.3441803455352783,
          -1.500063419342041,
          -1.483989953994751,
          -1.1095536947250366,
          -1.2385374307632446,
          -1.3016972541809082,
          -1.278622031211853,
          -1.1509556770324707,
          -0.988349199295044,
          -1.2589937448501587,
          -1.447929859161377,
          -1.3788080215454102,
          -1.252633810043335,
          -1.3707377910614014,
          -1.5893151760101318,
          -1.1360962390899658,
          -1.223722219467163,
          -1.542372703552246,
          -1.4729135036468506,
          -1.268842339515686,
          -1.2138595581054688,
          -1.5432603359222412,
          -1.4699528217315674,
          -1.343074917793274,
          -1.3794885873794556,
          -1.2885832786560059,
          -1.2780952453613281,
          -1.3120286464691162,
          -1.0877583026885986,
          -1.0303239822387695,
          -1.0651135444641113,
          -1.3720285892486572,
          -1.3014209270477295,
          -1.1525110006332397,
          -1.421873927116394,
          -1.2653264999389648,
          -1.1315666437149048,
          -1.3279343843460083,
          -1.3434680700302124,
          -1.2875109910964966,
          -0.9789671301841736,
          -1.578447937965393,
          -1.474500060081482,
          -1.2226976156234741,
          -1.4502463340759277,
          -1.2447025775909424,
          -1.3365370035171509,
          -1.1228010654449463,
          -1.684119701385498,
          -1.6632455587387085,
          -1.5478898286819458,
          -1.627439260482788,
          -1.3798930644989014,
          -1.010068655014038,
          -1.3843270540237427,
          -1.673556923866272,
          -1.2143975496292114,
          -1.3949387073516846,
          -1.4506157636642456,
          -1.5744197368621826,
          -1.1766029596328735,
          -1.5577638149261475,
          -1.6519380807876587,
          -1.1053091287612915,
          -1.2334195375442505,
          -1.4371840953826904,
          -1.10745370388031,
          -1.5761516094207764,
          -1.5213937759399414,
          -1.0592197179794312,
          -1.4108163118362427,
          -1.5618807077407837,
          -1.4190318584442139,
          -1.4708280563354492,
          -1.585389256477356,
          -1.1788932085037231,
          -1.4512783288955688,
          -1.2090346813201904,
          -1.1026153564453125,
          -1.1464226245880127,
          -1.278692603111267,
          -1.116429090499878,
          -1.5619240999221802,
          -1.431201457977295,
          -1.5043710470199585,
          -1.3032692670822144,
          -1.2318670749664307,
          -1.3364208936691284,
          -1.1076346635818481,
          -1.4999477863311768,
          -1.4360593557357788,
          -1.1939172744750977,
          -1.3460625410079956,
          -1.4882160425186157,
          -1.5447081327438354,
          -1.2364057302474976,
          -1.372239351272583,
          -1.2542682886123657,
          -1.5509309768676758,
          -1.4770190715789795,
          -1.2766660451889038,
          -1.4859914779663086,
          -1.575764536857605,
          -1.3466705083847046,
          -1.4258126020431519,
          -1.2965208292007446,
          -1.4599454402923584,
          -1.1613575220108032,
          -1.5436567068099976,
          -1.6024539470672607,
          -1.3951743841171265,
          -1.2184158563613892,
          -1.2502080202102661,
          -1.5399469137191772,
          -1.3521305322647095,
          -1.5601016283035278,
          -1.608629584312439,
          -1.6807799339294434,
          -1.532609462738037,
          -1.47517728805542,
          -1.4937645196914673,
          -1.5100712776184082,
          -1.511144995689392,
          -1.412936806678772,
          -1.3210750818252563,
          -1.3631659746170044,
          -1.2672854661941528,
          -1.5948468446731567,
          -1.379328966140747,
          -1.6675677299499512,
          -1.4927949905395508,
          -1.4654819965362549,
          -1.5866647958755493,
          -1.5331465005874634,
          -1.5088450908660889,
          -1.4756146669387817,
          -1.469311237335205,
          -1.444858193397522,
          -1.6263887882232666,
          -1.5665159225463867,
          -1.6349340677261353,
          -1.4071931838989258,
          -1.2792418003082275,
          -1.4363906383514404,
          -1.6179931163787842,
          -1.4412472248077393,
          -1.5488659143447876,
          -1.5602644681930542,
          -1.3572793006896973,
          -1.6860227584838867,
          -1.688694715499878,
          -1.440334439277649,
          -1.5831913948059082,
          -1.5980737209320068,
          -1.591031789779663,
          -1.4287679195404053,
          -1.397691249847412,
          -1.6458930969238281,
          -1.431942343711853,
          -1.6088768243789673,
          -1.6591099500656128,
          -1.7458449602127075,
          -1.379144549369812,
          -1.858426570892334,
          -1.3631294965744019,
          -1.7708572149276733,
          -1.5555745363235474,
          -1.4235517978668213,
          -1.6618139743804932,
          -1.6467784643173218,
          -1.6014918088912964,
          -1.6113029718399048,
          -1.5544559955596924,
          -1.6886557340621948,
          -1.5910987854003906,
          -1.4484694004058838,
          -1.534332036972046,
          -1.767513394355774,
          -1.4928447008132935,
          -1.5597515106201172,
          -1.756535530090332,
          -1.651603102684021,
          -1.622032880783081,
          -1.5877286195755005,
          -1.82233726978302,
          -1.892561912536621,
          -1.4903011322021484,
          -1.765153169631958,
          -1.5496960878372192,
          -1.7863582372665405,
          -1.7165054082870483,
          -1.7420566082000732,
          -1.757622241973877,
          -1.674251675605774,
          -1.7364071607589722,
          -1.7387956380844116,
          -1.6201905012130737,
          -1.688083291053772,
          -1.7557328939437866,
          -1.6297404766082764,
          -1.763509750366211,
          -1.808117151260376,
          -1.8276782035827637
         ],
         "xaxis": "x",
         "y": [
          13.527019500732422,
          13.262794494628906,
          13.346281051635742,
          13.566266059875488,
          13.26382827758789,
          13.501376152038574,
          13.401034355163574,
          13.30030632019043,
          13.365213394165039,
          13.309951782226562,
          13.348784446716309,
          13.371129035949707,
          13.577190399169922,
          13.578140258789062,
          13.57347297668457,
          13.562292098999023,
          13.52979564666748,
          13.567957878112793,
          13.572035789489746,
          13.549068450927734,
          13.57806396484375,
          13.578303337097168,
          13.57062816619873,
          13.607645988464355,
          13.61518383026123,
          13.595091819763184,
          13.602490425109863,
          13.604756355285645,
          13.607608795166016,
          13.180415153503418,
          13.368061065673828,
          13.456343650817871,
          13.130685806274414,
          13.302204132080078,
          13.331558227539062,
          13.255558013916016,
          13.226763725280762,
          13.398066520690918,
          13.286632537841797,
          13.446974754333496,
          13.51473617553711,
          13.377691268920898,
          13.282904624938965,
          13.307666778564453,
          13.51021957397461,
          13.343414306640625,
          13.420252799987793,
          13.513612747192383,
          13.428674697875977,
          13.48284912109375,
          13.398390769958496,
          13.775619506835938,
          13.514578819274902,
          13.154616355895996,
          13.31640911102295,
          13.313385963439941,
          13.105600357055664,
          13.266998291015625,
          13.350789070129395,
          13.465133666992188,
          13.762960433959961,
          13.5380859375,
          13.391173362731934,
          13.402071952819824,
          13.416922569274902,
          13.547110557556152,
          13.713666915893555,
          13.359423637390137,
          13.283523559570312,
          13.82077693939209,
          13.407807350158691,
          13.445721626281738,
          13.396525382995605,
          13.713990211486816,
          13.433502197265625,
          13.5289306640625,
          13.417207717895508,
          13.586546897888184,
          13.686592102050781,
          13.55534839630127,
          13.645962715148926,
          13.814380645751953,
          13.594748497009277,
          13.645195007324219,
          13.542564392089844,
          13.533513069152832,
          13.58216667175293,
          13.771451950073242,
          13.601289749145508,
          13.437244415283203,
          13.529412269592285,
          13.507726669311523,
          13.62164306640625,
          13.468734741210938,
          13.520134925842285,
          13.841556549072266,
          13.606764793395996,
          13.373016357421875,
          13.36903190612793,
          13.454547882080078,
          13.551417350769043,
          13.84916877746582,
          13.274317741394043,
          13.632366180419922,
          13.43033218383789,
          13.689684867858887,
          13.572882652282715,
          13.638153076171875,
          13.76404094696045,
          13.671182632446289,
          13.590031623840332,
          13.695737838745117,
          13.86603832244873,
          13.849271774291992,
          13.634419441223145,
          13.80238151550293,
          13.49312686920166,
          13.63597297668457,
          13.79919147491455,
          13.776045799255371,
          13.611985206604004,
          13.662270545959473,
          13.6037015914917,
          13.740286827087402,
          13.70327091217041,
          13.7326021194458,
          13.485016822814941,
          13.53524112701416,
          13.546000480651855,
          13.617868423461914,
          13.560578346252441,
          13.455194473266602,
          13.738842964172363,
          13.618673324584961,
          13.741497039794922,
          13.709676742553711,
          13.660947799682617,
          13.670402526855469,
          13.7514009475708,
          13.731178283691406,
          13.801936149597168,
          13.85654354095459,
          13.75146770477295,
          13.756364822387695,
          13.58987045288086,
          13.68350601196289,
          13.64659309387207,
          13.617612838745117,
          13.9518461227417,
          13.8345308303833,
          14.020808219909668,
          13.831419944763184,
          13.803474426269531,
          13.709260940551758,
          13.615797996520996,
          13.629677772521973,
          13.848533630371094,
          13.954490661621094,
          13.773396492004395,
          13.84273624420166,
          13.961198806762695,
          13.557591438293457,
          13.902663230895996,
          13.457905769348145,
          13.812435150146484,
          13.722424507141113,
          13.853167533874512,
          13.953184127807617,
          14.01612377166748,
          13.664083480834961,
          13.531207084655762,
          13.915021896362305,
          13.860640525817871,
          13.626450538635254,
          13.883843421936035,
          13.281746864318848,
          13.639342308044434,
          13.619491577148438,
          13.22096061706543,
          13.796324729919434,
          13.554362297058105,
          13.780538558959961,
          13.858592987060547,
          13.75771427154541,
          13.728732109069824,
          13.806326866149902,
          13.851094245910645,
          13.573190689086914,
          13.990670204162598,
          14.037246704101562,
          14.013628005981445,
          13.854379653930664,
          13.950867652893066,
          13.901610374450684,
          13.700984001159668,
          13.78531551361084,
          13.666366577148438,
          13.94776725769043,
          13.651200294494629,
          13.850876808166504,
          13.759482383728027,
          13.905041694641113,
          13.85264778137207,
          13.535094261169434,
          13.612271308898926,
          13.639009475708008,
          13.763686180114746,
          13.719301223754883,
          13.863836288452148,
          13.872967720031738,
          14.069839477539062,
          13.795201301574707,
          14.137813568115234,
          13.845296859741211,
          13.997342109680176,
          13.675531387329102,
          13.71876049041748,
          13.992318153381348,
          13.810608863830566,
          13.556177139282227,
          13.829939842224121,
          13.995062828063965,
          13.702300071716309,
          14.014253616333008,
          13.659758567810059,
          13.691670417785645,
          13.875551223754883,
          13.873568534851074,
          13.826859474182129,
          13.947637557983398,
          13.95815372467041,
          13.68017292022705,
          13.664841651916504,
          13.950671195983887,
          13.78684139251709,
          13.65484619140625,
          14.08896255493164,
          13.932516098022461,
          13.758132934570312,
          13.686543464660645,
          13.844649314880371,
          13.55738353729248,
          13.646666526794434,
          13.962417602539062,
          13.926692962646484,
          13.618629455566406,
          13.897340774536133,
          13.902149200439453,
          13.725337028503418,
          13.569765090942383,
          13.930533409118652,
          13.96367073059082,
          13.958502769470215,
          13.715770721435547,
          13.572389602661133,
          13.744132995605469,
          13.233227729797363,
          14.01568603515625,
          13.826165199279785,
          13.799725532531738,
          13.662960052490234,
          13.902997016906738,
          13.853678703308105,
          13.918296813964844,
          13.782008171081543,
          13.88379955291748,
          13.71006965637207,
          14.018169403076172,
          13.897499084472656,
          13.674158096313477,
          13.700075149536133,
          14.06014347076416,
          13.884072303771973,
          13.723401069641113,
          13.918378829956055,
          13.900782585144043,
          13.889424324035645,
          13.583085060119629,
          13.720398902893066,
          13.615513801574707,
          13.808095932006836,
          13.600586891174316,
          13.725414276123047,
          13.719836235046387,
          13.847403526306152,
          13.97640609741211,
          13.825109481811523,
          13.95119571685791,
          13.867025375366211,
          13.585888862609863,
          13.779987335205078,
          13.850211143493652,
          13.91201114654541,
          13.734001159667969,
          13.686124801635742,
          13.80380630493164,
          13.862271308898926,
          13.644746780395508,
          13.861282348632812,
          13.831592559814453,
          13.97353458404541,
          13.680294036865234,
          13.6876220703125,
          13.66976547241211,
          13.944113731384277,
          13.787028312683105,
          13.769266128540039,
          13.764487266540527,
          13.810361862182617,
          13.888655662536621,
          13.712224006652832,
          13.810029983520508,
          13.723838806152344,
          13.724631309509277,
          13.793935775756836,
          13.982157707214355,
          13.665334701538086,
          13.833489418029785,
          13.706562995910645,
          13.748053550720215,
          13.509686470031738,
          13.828019142150879,
          13.568958282470703,
          13.7229642868042,
          13.810051918029785,
          13.927813529968262,
          13.694792747497559,
          13.691554069519043,
          13.787491798400879,
          13.771600723266602,
          13.547204971313477,
          13.678132057189941,
          13.680022239685059,
          13.662162780761719,
          13.874842643737793,
          13.85107707977295,
          13.758943557739258,
          13.598227500915527,
          13.730020523071289,
          13.525718688964844,
          13.832326889038086,
          13.749231338500977,
          13.729931831359863,
          13.675457954406738,
          13.865768432617188,
          13.679231643676758,
          13.876450538635254,
          13.732311248779297,
          13.733181953430176,
          13.80413818359375,
          13.691314697265625,
          13.874639511108398,
          13.75986385345459,
          13.635725021362305,
          13.913756370544434,
          13.797808647155762,
          13.687170028686523,
          13.65675163269043,
          13.818596839904785,
          13.748257637023926,
          13.73291301727295
         ],
         "yaxis": "y"
        },
        {
         "customdata": [
          [
           1531,
           "J19"
          ],
          [
           246787,
           "J14"
          ],
          [
           444091,
           "600a"
          ],
          [
           562,
           "J22"
          ],
          [
           1796646,
           "J20"
          ],
          [
           377615,
           "J574"
          ],
          [
           1322,
           "J708"
          ],
          [
           433321,
           "J709"
          ],
          [
           1462998,
           "J574"
          ],
          [
           943261,
           "J777"
          ],
          [
           699281,
           "J855"
          ],
          [
           366522,
           "J574"
          ],
          [
           348842,
           "J586"
          ],
          [
           461393,
           "J14"
          ],
          [
           306540,
           "J598"
          ],
          [
           1244,
           "J14"
          ],
          [
           1695161,
           "J574"
          ],
          [
           1157312,
           "J676"
          ],
          [
           407844,
           "J709"
          ],
          [
           33905,
           "J19"
          ],
          [
           151276,
           "J612"
          ],
          [
           76123,
           "J14"
          ],
          [
           426706,
           "J720"
          ],
          [
           253239,
           "J558"
          ],
          [
           1193105,
           "J797"
          ],
          [
           1492899,
           "J739"
          ],
          [
           105841,
           "J14"
          ],
          [
           678,
           "J22"
          ],
          [
           1776760,
           "J677"
          ],
          [
           423605,
           "J710"
          ],
          [
           329186,
           "J574"
          ],
          [
           871327,
           "J14"
          ],
          [
           304895,
           "J732"
          ],
          [
           544644,
           "J14"
          ],
          [
           242230,
           "J14"
          ],
          [
           133532,
           "J835"
          ],
          [
           195522,
           "J879"
          ],
          [
           438,
           "J683"
          ],
          [
           390879,
           "J582"
          ],
          [
           1198301,
           "J597"
          ],
          [
           53443,
           "J722"
          ],
          [
           1267,
           "J14"
          ],
          [
           454154,
           "J14"
          ],
          [
           672,
           "J22"
          ],
          [
           265959,
           "J820"
          ],
          [
           214014,
           "J14"
          ],
          [
           31872,
           "J574"
          ],
          [
           67386,
           "J42"
          ],
          [
           392838,
           "J709"
          ],
          [
           100886,
           "J14"
          ],
          [
           1286190,
           "J842"
          ],
          [
           1166950,
           "J709"
          ],
          [
           824,
           "J14"
          ],
          [
           1675036,
           "J14"
          ],
          [
           1652145,
           "J864"
          ],
          [
           411567,
           "J14"
          ],
          [
           1905725,
           "J14"
          ],
          [
           411361,
           "J710"
          ],
          [
           1408281,
           "J710"
          ],
          [
           398199,
           "J872"
          ],
          [
           395387,
           "J652"
          ],
          [
           405782,
           "J842"
          ],
          [
           376805,
           "J14"
          ],
          [
           555313,
           "J14"
          ],
          [
           2663009,
           "J14"
          ],
          [
           52226,
           "J22"
          ],
          [
           285553,
           "J42"
          ],
          [
           1796646,
           "J14"
          ],
          [
           365033,
           "J709"
          ],
          [
           1082580,
           "J775"
          ],
          [
           2652293,
           "J14"
          ],
          [
           52227,
           "J14"
          ],
          [
           1506,
           "J14"
          ],
          [
           471189,
           "J14"
          ],
          [
           438,
           "J674"
          ],
          [
           1017,
           "J14"
          ],
          [
           46358,
           "J645"
          ],
          [
           2099376,
           "J553"
          ],
          [
           2583452,
           "J14"
          ],
          [
           146536,
           "J42"
          ],
          [
           1937527,
           "J812"
          ],
          [
           197614,
           "J14"
          ],
          [
           114197,
           "J14"
          ],
          [
           867595,
           "J710"
          ],
          [
           387090,
           "J14"
          ],
          [
           1460650,
           "J564"
          ],
          [
           881,
           "J712"
          ],
          [
           269671,
           "J746"
          ],
          [
           39487,
           "J14"
          ],
          [
           547122,
           "J770"
          ],
          [
           638849,
           "J14"
          ],
          [
           1725,
           "J14"
          ],
          [
           292800,
           "J734"
          ],
          [
           84110,
           "J14"
          ],
          [
           661485,
           "J617"
          ],
          [
           310514,
           "J14"
          ],
          [
           1871022,
           "J14"
          ],
          [
           1550030,
           "J569"
          ],
          [
           931097,
           "J606"
          ],
          [
           1580,
           "J14"
          ],
          [
           130796,
           "J43"
          ],
          [
           1018,
           "J14"
          ],
          [
           2292441,
           "J22"
          ],
          [
           33037,
           "J14"
          ],
          [
           444920,
           "J569"
          ],
          [
           1876758,
           "J677"
          ],
          [
           189723,
           "J14"
          ],
          [
           169435,
           "J14"
          ],
          [
           869892,
           "J597"
          ],
          [
           300560,
           "J569"
          ],
          [
           392823,
           "J676"
          ],
          [
           157688,
           "J14"
          ],
          [
           33031,
           "J14"
          ],
          [
           392827,
           "J675"
          ],
          [
           673,
           "J22"
          ],
          [
           438,
           "J631"
          ],
          [
           2108523,
           "J709"
          ],
          [
           33881,
           "J22"
          ],
          [
           191770,
           "J597"
          ],
          [
           355930,
           "J578"
          ],
          [
           279208,
           "J746"
          ],
          [
           2652276,
           "J710"
          ],
          [
           28124,
           "J690"
          ]
         ],
         "hovertemplate": "Cluster=4<br>Component 1=%{x}<br>Component 2=%{y}<br>taxon_id=%{customdata[0]}<br>media_id=%{customdata[1]}<extra></extra>",
         "legendgroup": "4",
         "marker": {
          "color": "#19d3f3",
          "opacity": 0.3,
          "symbol": "circle"
         },
         "mode": "markers",
         "name": "4",
         "showlegend": true,
         "type": "scattergl",
         "x": [
          3.0536718368530273,
          3.1068639755249023,
          2.9905731678009033,
          2.960458517074585,
          3.5598933696746826,
          3.1057331562042236,
          3.0607070922851562,
          2.9867632389068604,
          2.886265993118286,
          3.1172120571136475,
          3.0810365676879883,
          2.9329493045806885,
          3.1071255207061768,
          3.6065773963928223,
          3.000856876373291,
          3.007143020629883,
          3.050410747528076,
          2.9908173084259033,
          3.0490529537200928,
          3.360851526260376,
          3.1380374431610107,
          3.553290605545044,
          3.0778262615203857,
          3.0743167400360107,
          3.0377349853515625,
          3.210966110229492,
          3.596055746078491,
          3.115257740020752,
          2.9731476306915283,
          3.0528743267059326,
          2.9897148609161377,
          3.1029927730560303,
          3.0655674934387207,
          3.2329254150390625,
          3.1340577602386475,
          3.192289352416992,
          2.8822433948516846,
          3.0041537284851074,
          2.9920506477355957,
          2.992601156234741,
          3.032343626022339,
          3.149522066116333,
          2.8882699012756348,
          3.6347570419311523,
          2.9113218784332275,
          3.50008487701416,
          3.0862503051757812,
          3.117701768875122,
          3.2115068435668945,
          3.392514944076538,
          3.007199764251709,
          3.1218044757843018,
          3.7156496047973633,
          3.5526719093322754,
          2.914830446243286,
          3.643120527267456,
          3.409712076187134,
          2.9309051036834717,
          3.0981924533843994,
          2.9929232597351074,
          3.007664918899536,
          3.036646842956543,
          3.181041955947876,
          3.178095579147339,
          3.0220139026641846,
          3.5338692665100098,
          2.963381052017212,
          3.242069721221924,
          3.0243475437164307,
          3.1334714889526367,
          3.253481864929199,
          3.123201847076416,
          3.6041994094848633,
          3.5329763889312744,
          3.146343946456909,
          3.5359020233154297,
          2.8898096084594727,
          3.010629892349243,
          3.497159481048584,
          3.0049610137939453,
          3.019749402999878,
          2.937469005584717,
          3.5122153759002686,
          3.2034103870391846,
          3.067518472671509,
          3.0394883155822754,
          3.1103110313415527,
          3.1924407482147217,
          3.6053483486175537,
          3.0507972240448,
          3.1051502227783203,
          3.176663398742676,
          2.8820619583129883,
          3.6279520988464355,
          2.9867258071899414,
          3.5900354385375977,
          3.554028272628784,
          3.114922285079956,
          3.012573480606079,
          3.6145851612091064,
          2.94874906539917,
          2.956684112548828,
          3.013007879257202,
          3.6237311363220215,
          3.0135655403137207,
          3.068864345550537,
          3.6261579990386963,
          3.607884407043457,
          3.251049280166626,
          3.087503433227539,
          2.986814498901367,
          3.527209520339966,
          2.882714033126831,
          3.021846294403076,
          3.520904302597046,
          2.942612409591675,
          2.9110116958618164,
          3.613776445388794,
          2.902881622314453,
          3.073806047439575,
          3.1625845432281494,
          3.1602942943573,
          2.972930431365967
         ],
         "xaxis": "x",
         "y": [
          12.399415016174316,
          12.4684476852417,
          12.420897483825684,
          12.485045433044434,
          12.587810516357422,
          12.434596061706543,
          12.612210273742676,
          12.6298189163208,
          12.41481876373291,
          12.613648414611816,
          12.547089576721191,
          12.493273735046387,
          12.50991439819336,
          12.582036972045898,
          12.549908638000488,
          12.51202392578125,
          12.512080192565918,
          12.571349143981934,
          12.551816940307617,
          12.58337688446045,
          12.459837913513184,
          12.676487922668457,
          12.420404434204102,
          12.619037628173828,
          12.424226760864258,
          12.581631660461426,
          12.639803886413574,
          12.655193328857422,
          12.419797897338867,
          12.695581436157227,
          12.427231788635254,
          12.63740062713623,
          12.534780502319336,
          12.574491500854492,
          12.504240989685059,
          12.454547882080078,
          12.638516426086426,
          12.536789894104004,
          12.456177711486816,
          12.655989646911621,
          12.570289611816406,
          12.643929481506348,
          12.479328155517578,
          12.549444198608398,
          12.493338584899902,
          12.71810531616211,
          12.478902816772461,
          12.462552070617676,
          12.571502685546875,
          12.582613945007324,
          12.609156608581543,
          12.627948760986328,
          12.587371826171875,
          12.623050689697266,
          12.475555419921875,
          12.59671401977539,
          12.606000900268555,
          12.486886024475098,
          12.624390602111816,
          12.67477798461914,
          12.59715461730957,
          12.568533897399902,
          12.51002025604248,
          12.700270652770996,
          12.494352340698242,
          12.637126922607422,
          12.456189155578613,
          12.53584098815918,
          12.503158569335938,
          12.599529266357422,
          12.589295387268066,
          12.455297470092773,
          12.712831497192383,
          12.536751747131348,
          12.49586009979248,
          12.620858192443848,
          12.768181800842285,
          12.564614295959473,
          12.58351993560791,
          12.672293663024902,
          12.600991249084473,
          12.593947410583496,
          12.582291603088379,
          12.488387107849121,
          12.53715991973877,
          12.614282608032227,
          12.48735523223877,
          12.437512397766113,
          12.68636417388916,
          12.540740013122559,
          12.572897911071777,
          12.414010047912598,
          12.49176025390625,
          12.615859031677246,
          12.572733879089355,
          12.581501007080078,
          12.626806259155273,
          12.653239250183105,
          12.590875625610352,
          12.657201766967773,
          12.308417320251465,
          12.557648658752441,
          12.307205200195312,
          12.75145435333252,
          12.544210433959961,
          12.584656715393066,
          12.694771766662598,
          12.675580024719238,
          12.691397666931152,
          12.49349594116211,
          12.472025871276855,
          12.679872512817383,
          12.381539344787598,
          12.430794715881348,
          12.574226379394531,
          12.552157402038574,
          12.542302131652832,
          12.738652229309082,
          12.620198249816895,
          12.57278823852539,
          12.634674072265625,
          12.321867942810059,
          12.397321701049805
         ],
         "yaxis": "y"
        },
        {
         "customdata": [
          [
           83448,
           "J443"
          ],
          [
           1335,
           "J280"
          ],
          [
           171121,
           "J346"
          ],
          [
           2056231,
           "J444"
          ],
          [
           392844,
           "J443"
          ],
          [
           132249,
           "J43"
          ],
          [
           175306,
           "J386"
          ],
          [
           1818693,
           "J43"
          ],
          [
           1714,
           "J22"
          ],
          [
           162393,
           "J26"
          ],
          [
           1478,
           "J475"
          ],
          [
           1409,
           "J22"
          ],
          [
           1854763,
           "J22"
          ],
          [
           2724944,
           "J26"
          ],
          [
           46127,
           "J27"
          ],
          [
           433645,
           "J26"
          ],
          [
           76832,
           "J22"
          ],
          [
           582,
           "J22"
          ],
          [
           150177,
           "J254"
          ],
          [
           1082276,
           "J1087"
          ],
          [
           1118454,
           "J22"
          ],
          [
           1871043,
           "J22"
          ],
          [
           419590,
           "J43"
          ],
          [
           1708,
           "J22"
          ],
          [
           85085,
           "J26"
          ],
          [
           1513896,
           "J22"
          ],
          [
           157782,
           "J22"
          ],
          [
           1135990,
           "J27"
          ],
          [
           72556,
           "J22"
          ],
          [
           499229,
           "J900"
          ],
          [
           1871616,
           "J22"
          ],
          [
           762833,
           "J346"
          ],
          [
           1428,
           "J475"
          ],
          [
           2517781,
           "J22"
          ],
          [
           76860,
           "J27"
          ],
          [
           1494462,
           "J27"
          ],
          [
           172827,
           "J28"
          ],
          [
           245836,
           "J282"
          ],
          [
           291968,
           "J28"
          ],
          [
           55158,
           "J42"
          ],
          [
           311182,
           "J346"
          ],
          [
           476652,
           "J1032"
          ],
          [
           1871328,
           "J26"
          ],
          [
           496857,
           "J475"
          ],
          [
           554283,
           "J346"
          ],
          [
           47885,
           "J22"
          ],
          [
           60489,
           "J22"
          ],
          [
           993084,
           "J26"
          ],
          [
           1889241,
           "J28"
          ],
          [
           1240404,
           "J28"
          ],
          [
           368002,
           "J22"
          ],
          [
           1267444,
           "J346"
          ],
          [
           698769,
           "514f"
          ],
          [
           134536,
           "J22"
          ],
          [
           2020964,
           "J341"
          ],
          [
           82346,
           "J26"
          ],
          [
           331618,
           "J27"
          ],
          [
           384677,
           "J28"
          ],
          [
           285566,
           "J42"
          ],
          [
           58314,
           "J236"
          ],
          [
           149715,
           "J346"
          ],
          [
           90975,
           "J254"
          ],
          [
           1872578,
           "J346"
          ],
          [
           1503961,
           "J475"
          ],
          [
           162169,
           "J28"
          ],
          [
           511487,
           "J443"
          ],
          [
           2024855,
           "J1074"
          ],
          [
           45462,
           "J22"
          ],
          [
           1852018,
           "J1230"
          ],
          [
           2563114,
           "J27"
          ],
          [
           43617,
           "J256"
          ],
          [
           53427,
           "J26"
          ],
          [
           84632,
           "J42"
          ],
          [
           2093856,
           "J297"
          ],
          [
           2290935,
           "J26"
          ],
          [
           1281,
           "J27"
          ],
          [
           1280,
           "J22"
          ],
          [
           582665,
           "J26"
          ],
          [
           1329796,
           "J26"
          ],
          [
           258475,
           "J386"
          ],
          [
           2030913,
           "J43"
          ],
          [
           68239,
           "J42"
          ],
          [
           665099,
           "J443"
          ],
          [
           1405,
           "J22"
          ],
          [
           203263,
           "J28"
          ],
          [
           67355,
           "J42"
          ],
          [
           103816,
           "J43"
          ],
          [
           867916,
           "J256"
          ],
          [
           64702,
           "J22"
          ],
          [
           310514,
           "J460"
          ],
          [
           217067,
           "J346"
          ],
          [
           412689,
           "J28"
          ],
          [
           1090615,
           "J27"
          ],
          [
           199592,
           "J26"
          ],
          [
           1818682,
           "J43"
          ],
          [
           867917,
           "J256"
          ],
          [
           471,
           "J22"
          ],
          [
           2100116,
           "514f"
          ],
          [
           41986,
           "J22"
          ],
          [
           592307,
           "J26"
          ],
          [
           714,
           "J346"
          ],
          [
           1571,
           "J22"
          ],
          [
           1818677,
           "J42"
          ],
          [
           316335,
           "J26"
          ],
          [
           2509225,
           "J436"
          ],
          [
           310780,
           "J443"
          ],
          [
           610244,
           "J26"
          ],
          [
           190197,
           "J43"
          ],
          [
           84480,
           "J43"
          ],
          [
           1534349,
           "J443"
          ],
          [
           28095,
           "J22"
          ],
          [
           47886,
           "J22"
          ],
          [
           2662420,
           "J491"
          ],
          [
           1987044,
           "J306"
          ],
          [
           285457,
           "J43"
          ],
          [
           285491,
           "J42"
          ],
          [
           2304063,
           "J346"
          ],
          [
           1720261,
           "J27"
          ],
          [
           106592,
           "J22"
          ],
          [
           47478,
           "J22"
          ],
          [
           43669,
           "J28"
          ],
          [
           1118461,
           "J22"
          ],
          [
           2932828,
           "J43"
          ],
          [
           1961,
           "J42"
          ],
          [
           704125,
           "J1111"
          ],
          [
           1396,
           "J22"
          ],
          [
           1818701,
           "J26"
          ],
          [
           256466,
           "J22"
          ],
          [
           1608614,
           "J26"
          ],
          [
           69393,
           "J475"
          ],
          [
           1522,
           "429b"
          ],
          [
           29571,
           "J377"
          ],
          [
           137266,
           "J42"
          ],
          [
           67266,
           "J42"
          ],
          [
           33013,
           "J26"
          ],
          [
           339,
           "J22"
          ],
          [
           1917864,
           "J1130"
          ],
          [
           173361,
           "J28"
          ],
          [
           279572,
           "J26"
          ],
          [
           1118457,
           "J22"
          ],
          [
           1150298,
           "J1130"
          ],
          [
           29529,
           "J22"
          ],
          [
           2164,
           "J254"
          ],
          [
           1126241,
           "J475"
          ],
          [
           2662455,
           "J291"
          ],
          [
           260554,
           "J28"
          ],
          [
           53430,
           "J43"
          ],
          [
           1037382,
           "J990"
          ],
          [
           1432009,
           "J346"
          ],
          [
           433330,
           "J386"
          ],
          [
           57497,
           "J465"
          ],
          [
           40837,
           "J22"
          ],
          [
           1665,
           "J26"
          ],
          [
           877208,
           "J346"
          ],
          [
           54571,
           "J42"
          ],
          [
           410332,
           "J43"
          ],
          [
           75659,
           "J22"
          ],
          [
           62609,
           "J256"
          ],
          [
           170679,
           "514c"
          ],
          [
           1889240,
           "J346"
          ],
          [
           399,
           "J256"
          ],
          [
           346,
           "J22"
          ],
          [
           446787,
           "J26"
          ],
          [
           1314,
           "J27"
          ],
          [
           34086,
           "J22"
          ],
          [
           1818733,
           "J475"
          ],
          [
           67295,
           "J43"
          ],
          [
           1452,
           "J22"
          ],
          [
           298163,
           "J475"
          ],
          [
           2203724,
           "J906"
          ],
          [
           2303,
           "J1100"
          ],
          [
           1829,
           "J26"
          ],
          [
           33052,
           "J28"
          ],
          [
           2316383,
           "J1024"
          ],
          [
           516360,
           "J42"
          ],
          [
           913948,
           "J43"
          ],
          [
           1914305,
           "J22"
          ],
          [
           516074,
           "J443"
          ]
         ],
         "hovertemplate": "Cluster=6<br>Component 1=%{x}<br>Component 2=%{y}<br>taxon_id=%{customdata[0]}<br>media_id=%{customdata[1]}<extra></extra>",
         "legendgroup": "6",
         "marker": {
          "color": "#FF6692",
          "opacity": 0.3,
          "symbol": "circle"
         },
         "mode": "markers",
         "name": "6",
         "showlegend": true,
         "type": "scattergl",
         "x": [
          2.8018715381622314,
          0.9815669655799866,
          1.044910192489624,
          0.4756070673465729,
          2.7794084548950195,
          0.5531509518623352,
          0.49513745307922363,
          2.606264352798462,
          0.4634323716163635,
          1.8296616077423096,
          2.6159234046936035,
          2.3704257011413574,
          2.590806245803833,
          2.6318893432617188,
          0.5347028374671936,
          0.5151587724685669,
          2.825147867202759,
          0.6009982824325562,
          2.826653480529785,
          2.8048651218414307,
          -0.5252578258514404,
          -0.49916890263557434,
          2.7203590869903564,
          1.561531901359558,
          0.6279135346412659,
          1.503833532333374,
          1.5323028564453125,
          0.4635379910469055,
          -0.44439828395843506,
          0.5510227680206299,
          -0.4702513515949249,
          1.086321234703064,
          2.6171770095825195,
          -0.5470345616340637,
          2.763885974884033,
          2.75128173828125,
          2.712576150894165,
          1.0816482305526733,
          2.5664899349212646,
          0.5040280818939209,
          1.1535224914550781,
          2.7585318088531494,
          0.31929439306259155,
          2.813537836074829,
          1.1150294542312622,
          1.4385000467300415,
          2.6660115718841553,
          2.741910934448242,
          0.5108657479286194,
          2.6721155643463135,
          0.5330434441566467,
          0.47211936116218567,
          2.64493727684021,
          2.614440679550171,
          1.1220024824142456,
          2.5678296089172363,
          0.5339051485061646,
          2.5683305263519287,
          0.5819466710090637,
          2.5948445796966553,
          1.0826282501220703,
          1.0961050987243652,
          1.038162350654602,
          2.4845964908599854,
          0.646970808506012,
          0.6009387969970703,
          0.706924319267273,
          2.7484452724456787,
          2.703106641769409,
          0.46851658821105957,
          2.5788822174072266,
          2.7730159759521484,
          0.6390327215194702,
          1.082803726196289,
          2.781893014907837,
          2.829617977142334,
          1.5173063278198242,
          2.7625539302825928,
          2.7045652866363525,
          2.787139415740967,
          2.81864070892334,
          0.46923503279685974,
          0.4681660532951355,
          1.1643157005310059,
          0.48496684432029724,
          2.7659618854522705,
          0.5998207926750183,
          1.086931824684143,
          2.8524603843688965,
          0.46897852420806885,
          2.625385046005249,
          0.49184030294418335,
          2.7506508827209473,
          2.8756103515625,
          2.699381113052368,
          2.7136847972869873,
          0.7738122940063477,
          2.8628287315368652,
          1.5547419786453247,
          0.4781695604324341,
          0.614787757396698,
          -0.5913276076316833,
          0.5175254940986633,
          0.36758750677108765,
          2.784346103668213,
          0.4318079352378845,
          0.5713057518005371,
          2.604344606399536,
          2.832314968109131,
          2.800812244415283,
          -0.4280821681022644,
          0.4177449941635132,
          2.6658167839050293,
          1.047005295753479,
          2.7198221683502197,
          0.5981885194778442,
          0.5669517517089844,
          0.5255841016769409,
          0.6484935283660889,
          0.503088653087616,
          0.48559775948524475,
          2.924250364303589,
          2.8388850688934326,
          2.894430160522461,
          2.630082368850708,
          0.34967777132987976,
          2.7618894577026367,
          -0.5382710099220276,
          0.6456100344657898,
          -0.5437846183776855,
          0.5394871830940247,
          0.6144092082977295,
          0.49456334114074707,
          2.801177740097046,
          0.5841939449310303,
          2.81321120262146,
          0.6517096161842346,
          2.5931742191314697,
          2.6495425701141357,
          1.538539171218872,
          2.6343331336975098,
          0.3319603502750397,
          0.977554976940155,
          2.7173101902008057,
          1.1230510473251343,
          0.5874726176261902,
          2.6667985916137695,
          2.8273208141326904,
          2.738718032836914,
          2.7429466247558594,
          2.6747665405273438,
          0.431365966796875,
          0.47700679302215576,
          0.5631313920021057,
          2.8361124992370605,
          2.431377410888672,
          2.8356804847717285,
          1.0942186117172241,
          2.603818893432617,
          2.6788365840911865,
          1.1593433618545532,
          2.648334503173828,
          0.38761499524116516,
          2.594125986099243,
          -0.5076518058776855,
          2.77667498588562,
          2.727159023284912,
          -0.5917015075683594,
          -0.519143283367157,
          2.7329564094543457,
          0.46777230501174927,
          2.689952850341797,
          0.39674460887908936,
          0.6345705389976501,
          2.6408462524414062,
          2.6637072563171387,
          -0.5030530691146851,
          2.66084623336792
         ],
         "xaxis": "x",
         "y": [
          -0.624458909034729,
          -0.7483966946601868,
          -0.6087377667427063,
          -1.1551910638809204,
          -0.47857972979545593,
          -1.1621198654174805,
          -1.1580461263656616,
          -0.5564106106758118,
          -1.2467201948165894,
          -0.8056913018226624,
          -0.45863592624664307,
          -0.4218031167984009,
          -0.5705116391181946,
          -0.5985103845596313,
          -1.1714287996292114,
          -1.1009316444396973,
          -0.496175616979599,
          -1.2587462663650513,
          -0.4809512197971344,
          -0.46972793340682983,
          -0.3321400582790375,
          -0.3642919361591339,
          -0.5731770396232605,
          -0.22768588364124298,
          -1.2510086297988892,
          -0.15832127630710602,
          -0.20226457715034485,
          -1.2483097314834595,
          -0.40875956416130066,
          -1.3204256296157837,
          -0.37569525837898254,
          -0.6014036536216736,
          -0.46615439653396606,
          -0.3046070635318756,
          -0.5133004784584045,
          -0.4113755226135254,
          -0.4888879656791687,
          -0.6815011501312256,
          -0.6689848303794861,
          -1.1683908700942993,
          -0.588118314743042,
          -0.7060970664024353,
          -1.4035786390304565,
          -0.5120967626571655,
          -0.6392373442649841,
          0.14700070023536682,
          -0.5463943481445312,
          -0.5633779168128967,
          -1.2945653200149536,
          -0.4156005382537842,
          -1.1373530626296997,
          -1.338705062866211,
          -0.5927761197090149,
          -0.46656912565231323,
          -0.6101133227348328,
          -0.5369054079055786,
          -1.3367919921875,
          -0.49022752046585083,
          -1.2246894836425781,
          -0.5296927094459534,
          -0.6023061871528625,
          -0.660142183303833,
          -0.5695728659629822,
          -0.538634181022644,
          -1.0797299146652222,
          -1.1538019180297852,
          -1.2002980709075928,
          -0.4454066753387451,
          -0.42062073945999146,
          -1.2381089925765991,
          -0.6785853505134583,
          -0.6003323793411255,
          -1.1334320306777954,
          -0.671110212802887,
          -0.4960986375808716,
          -0.5554931163787842,
          -0.23149949312210083,
          -0.5745648741722107,
          -0.4924616515636444,
          -0.6924417614936829,
          -0.6568615436553955,
          -1.190181016921997,
          -1.1678694486618042,
          -0.5529637932777405,
          -1.2804234027862549,
          -0.5243334174156189,
          -1.2410013675689697,
          -0.6366063952445984,
          -0.5114008188247681,
          -1.1318374872207642,
          -0.6567330360412598,
          -1.2380774021148682,
          -0.5857981443405151,
          -0.6904637813568115,
          -0.6470210552215576,
          -0.6139128804206848,
          -0.9707427024841309,
          -0.5755932331085205,
          -0.1928635537624359,
          -1.2636858224868774,
          -1.2466108798980713,
          -0.265802800655365,
          -1.1370197534561157,
          -1.2641525268554688,
          -0.46061211824417114,
          -1.257686972618103,
          -1.208732008934021,
          -0.6564637422561646,
          -0.6626713871955872,
          -0.6273230314254761,
          -0.42468100786209106,
          -1.3604059219360352,
          -0.43807166814804077,
          -0.6955112814903259,
          -0.39429789781570435,
          -1.1892039775848389,
          -1.2504810094833374,
          -1.287023901939392,
          -1.1299079656600952,
          -1.2130180597305298,
          -1.1238906383514404,
          -0.5354214906692505,
          -0.4481643736362457,
          -0.4902017414569855,
          -0.4639594554901123,
          -1.244320034980774,
          -0.6124812960624695,
          -0.32017961144447327,
          -1.2561969757080078,
          -0.3155025839805603,
          -1.2422195672988892,
          -1.1123015880584717,
          -1.2683824300765991,
          -0.5259090662002563,
          -1.158591866493225,
          -0.4320276975631714,
          -1.3164353370666504,
          -0.4533466100692749,
          -0.7442659735679626,
          -0.20047251880168915,
          -0.46811163425445557,
          -1.073256015777588,
          -0.7037889361381531,
          -0.40224263072013855,
          -0.6147247552871704,
          -1.269133448600769,
          -0.5468430519104004,
          -0.6521037817001343,
          -0.4390156865119934,
          -0.5137626528739929,
          -0.6320233941078186,
          -1.0850751399993896,
          -1.2238115072250366,
          -1.281978726387024,
          -0.4443177282810211,
          -0.48764920234680176,
          -0.4016404151916504,
          -0.6554305553436279,
          -0.4881494343280792,
          -0.5518867373466492,
          -0.6471359729766846,
          -0.5982888340950012,
          -1.140151858329773,
          -0.5042631030082703,
          -0.34535402059555054,
          -0.5693109631538391,
          -0.6255750060081482,
          -0.26558151841163635,
          -0.3404742479324341,
          -0.5131586790084839,
          -1.1731438636779785,
          -0.6812752485275269,
          -1.1403065919876099,
          -1.1117467880249023,
          -0.6925942301750183,
          -0.5739155411720276,
          -0.3556297719478607,
          -0.6401003003120422
         ],
         "yaxis": "y"
        },
        {
         "customdata": [
          [
           75659,
           "J26"
          ],
          [
           58116,
           "J42"
          ],
          [
           1763535,
           "J118"
          ],
          [
           1676,
           "J22"
          ],
          [
           68044,
           "J58"
          ],
          [
           1813873,
           "J346"
          ],
          [
           1464048,
           "J61"
          ],
          [
           1944,
           "J66"
          ],
          [
           547163,
           "J386"
          ],
          [
           751969,
           "J118"
          ],
          [
           644220,
           "514f"
          ],
          [
           584607,
           "J118"
          ],
          [
           322601,
           "J26"
          ],
          [
           714,
           "J74"
          ],
          [
           2724191,
           "J119"
          ],
          [
           320778,
           "514f"
          ],
          [
           1310,
           "J48"
          ],
          [
           1616821,
           "J346"
          ],
          [
           1911,
           "J44"
          ],
          [
           1393,
           "J22"
          ],
          [
           2742145,
           "J118"
          ],
          [
           146922,
           "J45"
          ],
          [
           67282,
           "J58"
          ],
          [
           1896,
           "J42"
          ],
          [
           430679,
           "J75"
          ],
          [
           1162965,
           "J77"
          ],
          [
           277988,
           "J346"
          ],
          [
           67257,
           "J50"
          ],
          [
           33871,
           "J115"
          ],
          [
           598644,
           "J51"
          ],
          [
           1005926,
           "J118"
          ],
          [
           398554,
           "J43"
          ],
          [
           1912094,
           "J118"
          ],
          [
           1117707,
           "514c"
          ],
          [
           46172,
           "J52"
          ],
          [
           1889238,
           "J346"
          ],
          [
           111291,
           "J42"
          ],
          [
           58172,
           "J1130"
          ],
          [
           129052,
           "J61"
          ],
          [
           185693,
           "J386"
          ],
          [
           39687,
           "J75"
          ],
          [
           276,
           "J282"
          ],
          [
           161154,
           "J346"
          ],
          [
           29427,
           "J97"
          ],
          [
           1898,
           "J42"
          ],
          [
           68193,
           "J66"
          ],
          [
           1307414,
           "J75"
          ],
          [
           34073,
           "J75"
          ],
          [
           1806202,
           "J346"
          ],
          [
           28028,
           "J79"
          ],
          [
           1776165,
           "J346"
          ],
          [
           1864942,
           "J346"
          ],
          [
           1629,
           "J84"
          ],
          [
           37931,
           "J475"
          ],
          [
           2666183,
           "J462"
          ],
          [
           323621,
           "J346"
          ],
          [
           1873459,
           "J26"
          ],
          [
           2751153,
           "J26"
          ],
          [
           1321365,
           "J977"
          ],
          [
           681644,
           "J74"
          ],
          [
           52695,
           "J51"
          ],
          [
           1532023,
           "J346"
          ],
          [
           47770,
           "J84"
          ],
          [
           138595,
           "J467"
          ],
          [
           1803846,
           "J118"
          ],
          [
           1250540,
           "J118"
          ],
          [
           72764,
           "J26"
          ],
          [
           1898978,
           "J346"
          ],
          [
           145263,
           "J487"
          ],
          [
           648753,
           "J51"
          ],
          [
           136468,
           "525a"
          ],
          [
           1586750,
           "J118"
          ],
          [
           1095776,
           "J346"
          ],
          [
           321267,
           "J118"
          ],
          [
           1371,
           "J99"
          ],
          [
           66881,
           "J66"
          ],
          [
           67351,
           "J42"
          ],
          [
           481002,
           "J50"
          ],
          [
           33051,
           "J28"
          ],
          [
           2024855,
           "J900"
          ],
          [
           387846,
           "J43"
          ],
          [
           50422,
           "J118"
          ],
          [
           333384,
           "J104"
          ],
          [
           375541,
           "J118"
          ],
          [
           1718,
           "J22"
          ],
          [
           68252,
           "J42"
          ],
          [
           113565,
           "J45"
          ],
          [
           2487742,
           "J118"
          ],
          [
           1599,
           "J84"
          ],
          [
           69368,
           "J27"
          ],
          [
           1644133,
           "J26"
          ],
          [
           368811,
           "514d"
          ],
          [
           472186,
           "514c"
          ],
          [
           587534,
           "J42"
          ],
          [
           47853,
           "J61"
          ],
          [
           29421,
           "J346"
          ],
          [
           35621,
           "J58"
          ],
          [
           1624,
           "J84"
          ],
          [
           1713,
           "J22"
          ],
          [
           198616,
           "J22"
          ],
          [
           68187,
           "J42"
          ],
          [
           88074,
           "J61"
          ],
          [
           254719,
           "J443"
          ],
          [
           68172,
           "J42"
          ],
          [
           65519,
           "J72"
          ],
          [
           37326,
           "J57"
          ],
          [
           158,
           "J127"
          ],
          [
           1818757,
           "J22"
          ],
          [
           1121358,
           "J26"
          ],
          [
           1298600,
           "J118"
          ],
          [
           1586287,
           "J43"
          ],
          [
           2083279,
           "J346"
          ],
          [
           194249,
           "429c"
          ],
          [
           1715649,
           "J118"
          ],
          [
           2171585,
           "J222"
          ],
          [
           1462995,
           "J256"
          ],
          [
           358707,
           "J43"
          ],
          [
           33052,
           "J75"
          ],
          [
           376733,
           "J118"
          ],
          [
           549687,
           "J75"
          ],
          [
           1462,
           "J75"
          ],
          [
           1317,
           "J118"
          ],
          [
           2670332,
           "J51"
          ],
          [
           46182,
           "J50"
          ],
          [
           31954,
           "J84"
          ],
          [
           1775173,
           "J118"
          ],
          [
           409291,
           "J475"
          ],
          [
           121616,
           "J66"
          ],
          [
           755139,
           "J52"
          ],
          [
           109329,
           "J69"
          ],
          [
           1471401,
           "535b"
          ],
          [
           13243,
           "J291"
          ],
          [
           285488,
           "J66"
          ],
          [
           84156,
           "J254"
          ],
          [
           1912218,
           "J84"
          ],
          [
           52021,
           "514c"
          ],
          [
           1868375,
           "J483"
          ],
          [
           674054,
           "J28"
          ],
          [
           340097,
           "J50"
          ],
          [
           1570103,
           "J42"
          ],
          [
           1144548,
           "J68"
          ],
          [
           340172,
           "J118"
          ],
          [
           1007095,
           "J346"
          ],
          [
           295585,
           "J54"
          ],
          [
           376730,
           "J118"
          ],
          [
           472,
           "J1199"
          ],
          [
           571915,
           "J302"
          ],
          [
           1079994,
           "J28"
          ],
          [
           47485,
           "J52"
          ],
          [
           2296,
           "429b"
          ],
          [
           1046116,
           "J118"
          ],
          [
           239,
           "J74"
          ],
          [
           1818829,
           "J22"
          ],
          [
           1309,
           "J70"
          ],
          [
           1121961,
           "J118"
          ],
          [
           486264,
           "J346"
          ],
          [
           1260928,
           "J1026"
          ],
          [
           483324,
           "J118"
          ],
          [
           1534348,
           "J426"
          ],
          [
           132471,
           "J52"
          ],
          [
           13689,
           "J43"
          ],
          [
           490573,
           "J349"
          ],
          [
           392012,
           "J111"
          ],
          [
           1492901,
           "J118"
          ],
          [
           1756762,
           "J27"
          ],
          [
           83382,
           "J42"
          ],
          [
           66428,
           "J50"
          ],
          [
           76756,
           "J43"
          ],
          [
           1293891,
           "J118"
          ],
          [
           1243014,
           "514c"
          ],
          [
           33897,
           "J61"
          ],
          [
           270915,
           "J118"
          ],
          [
           941184,
           "J50"
          ],
          [
           187400,
           "J118"
          ],
          [
           1987062,
           "J27"
          ],
          [
           1309792,
           "J118"
          ],
          [
           37926,
           "J50"
          ],
          [
           237017,
           "J118"
          ],
          [
           1309407,
           "J346"
          ],
          [
           1971,
           "J42"
          ],
          [
           239935,
           "J282"
          ],
          [
           488212,
           "J75"
          ],
          [
           1603258,
           "J43"
          ],
          [
           709883,
           "J104"
          ],
          [
           307521,
           "J79"
          ],
          [
           1931,
           "J58"
          ],
          [
           2572923,
           "514d"
          ],
          [
           1908,
           "J45"
          ],
          [
           2220096,
           "514d"
          ],
          [
           679663,
           "535a"
          ],
          [
           1435069,
           "J118"
          ],
          [
           159743,
           "J75"
          ],
          [
           1604,
           "J84"
          ],
          [
           1678237,
           "J346"
          ],
          [
           46158,
           "J51"
          ],
          [
           38311,
           "J118"
          ],
          [
           1455,
           "J22"
          ],
          [
           42565,
           "514d"
          ],
          [
           44033,
           "J66"
          ],
          [
           147809,
           "J104"
          ],
          [
           296052,
           "J75"
          ],
          [
           755306,
           "J543"
          ],
          [
           1790,
           "J422"
          ],
          [
           1868392,
           "J475"
          ],
          [
           2479848,
           "J28"
          ],
          [
           47988,
           "J43"
          ],
          [
           1701085,
           "J42"
          ],
          [
           1386098,
           "J118"
          ],
          [
           547461,
           "J49"
          ],
          [
           44253,
           "J27"
          ],
          [
           33904,
           "J51"
          ],
          [
           66424,
           "J61"
          ],
          [
           1929,
           "J57"
          ],
          [
           101564,
           "J75"
          ],
          [
           1639,
           "J41"
          ],
          [
           1080071,
           "J28"
          ],
          [
           418198,
           "J22"
          ],
          [
           234613,
           "J42"
          ],
          [
           1876,
           "J61"
          ],
          [
           271434,
           "J118"
          ],
          [
           419477,
           "J43"
          ],
          [
           69539,
           "J42"
          ],
          [
           1818705,
           "J43"
          ],
          [
           823,
           "J22"
          ],
          [
           252230,
           "J118"
          ],
          [
           1796,
           "J386"
          ],
          [
           106590,
           "J27"
          ],
          [
           381634,
           "J42"
          ],
          [
           418240,
           "J475"
          ],
          [
           272161,
           "J475"
          ],
          [
           68252,
           "J58"
          ],
          [
           568860,
           "J57"
          ],
          [
           1767,
           "J393"
          ],
          [
           2530374,
           "J111"
          ],
          [
           1818703,
           "J66"
          ],
          [
           108150,
           "J926"
          ],
          [
           36809,
           "J413"
          ],
          [
           1931,
           "J45"
          ],
          [
           65048,
           "J75"
          ],
          [
           1352,
           "J83"
          ],
          [
           152475,
           "J346"
          ],
          [
           2054315,
           "J346"
          ],
          [
           34012,
           "J70"
          ],
          [
           60706,
           "J41"
          ],
          [
           634765,
           "514c"
          ],
          [
           44252,
           "J74"
          ],
          [
           51,
           "J443"
          ],
          [
           342002,
           "J386"
          ],
          [
           220688,
           "J77"
          ],
          [
           1193282,
           "J118"
          ],
          [
           1886782,
           "J346"
          ],
          [
           359359,
           "J43"
          ],
          [
           39152,
           "J296"
          ],
          [
           862135,
           "J22"
          ],
          [
           1294293,
           "J118"
          ],
          [
           53501,
           "J118"
          ],
          [
           418200,
           "J84"
          ],
          [
           1866,
           "J42"
          ],
          [
           155974,
           "J50"
          ],
          [
           132249,
           "J57"
          ],
          [
           29308,
           "J58"
          ],
          [
           1165507,
           "J118"
          ],
          [
           148454,
           "J436"
          ],
          [
           76978,
           "J27"
          ],
          [
           1678841,
           "J1162"
          ],
          [
           37923,
           "J22"
          ],
          [
           28141,
           "J475"
          ],
          [
           287,
           "J84"
          ],
          [
           1644118,
           "J297"
          ],
          [
           39489,
           "J84"
          ],
          [
           665550,
           "J475"
          ],
          [
           38289,
           "J346"
          ],
          [
           2742685,
           "514f"
          ],
          [
           707591,
           "J118"
          ],
          [
           661329,
           "J61"
          ],
          [
           35762,
           "J42"
          ],
          [
           1861,
           "J58"
          ],
          [
           33935,
           "J76"
          ],
          [
           1636086,
           "J75"
          ],
          [
           231024,
           "J52"
          ],
          [
           626084,
           "J66"
          ],
          [
           111802,
           "J61"
          ],
          [
           1494606,
           "J1103"
          ],
          [
           2078,
           "J82"
          ],
          [
           261965,
           "J118"
          ],
          [
           232537,
           "J358"
          ],
          [
           392414,
           "J74"
          ],
          [
           427754,
           "J26"
          ],
          [
           357276,
           "J83"
          ],
          [
           284040,
           "J66"
          ],
          [
           1117177,
           "J1045"
          ],
          [
           58172,
           "J28"
          ],
          [
           1886,
           "J70"
          ],
          [
           337330,
           "J66"
          ],
          [
           544926,
           "J118"
          ],
          [
           37482,
           "J66"
          ],
          [
           2652292,
           "J22"
          ],
          [
           76756,
           "J42"
          ],
          [
           501592,
           "J346"
          ],
          [
           1456591,
           "J118"
          ],
          [
           2599401,
           "J45"
          ],
          [
           1737354,
           "J475"
          ],
          [
           1473,
           "J118"
          ],
          [
           67266,
           "J58"
          ],
          [
           33959,
           "J84"
          ],
          [
           67314,
           "J58"
          ],
          [
           2321133,
           "J118"
          ],
          [
           1123045,
           "J118"
          ],
          [
           373891,
           "J118"
          ],
          [
           204072,
           "J1077"
          ],
          [
           86186,
           "J22"
          ],
          [
           1583,
           "J84"
          ],
          [
           2025508,
           "J363"
          ],
          [
           308111,
           "J118"
          ],
          [
           53408,
           "535b"
          ],
          [
           1481933,
           "J118"
          ],
          [
           28107,
           "J118"
          ],
          [
           28252,
           "514d"
          ],
          [
           1818694,
           "J475"
          ],
          [
           2185278,
           "J436"
          ],
          [
           380685,
           "J282"
          ],
          [
           28172,
           "J118"
          ],
          [
           67365,
           "J42"
          ],
          [
           158877,
           "J22"
          ],
          [
           41978,
           "J475"
          ],
          [
           1600,
           "J118"
          ],
          [
           1839617,
           "J68"
          ],
          [
           2364649,
           "J1130"
          ],
          [
           406515,
           "J118"
          ],
          [
           53522,
           "J241"
          ],
          [
           231049,
           "J118"
          ],
          [
           994319,
           "J118"
          ],
          [
           1397368,
           "J58"
          ],
          [
           76112,
           "J75"
          ],
          [
           1526575,
           "J118"
          ],
          [
           29321,
           "J28"
          ],
          [
           681644,
           "J346"
          ],
          [
           185642,
           "J386"
          ],
          [
           419007,
           "J22"
          ],
          [
           2747607,
           "514c"
          ],
          [
           1589,
           "J66"
          ],
          [
           2721544,
           "J51"
          ],
          [
           1422,
           "J75"
          ],
          [
           406549,
           "J346"
          ],
          [
           58117,
           "J52"
          ],
          [
           184072,
           "J22"
          ],
          [
           2590999,
           "J346"
          ],
          [
           1787,
           "J377"
          ],
          [
           2200763,
           "J52"
          ],
          [
           2893586,
           "J101"
          ],
          [
           76759,
           "J75"
          ],
          [
           1015,
           "J280"
          ],
          [
           327939,
           "J118"
          ],
          [
           1263962,
           "J346"
          ],
          [
           578212,
           "514d"
          ],
          [
           1255,
           "J70"
          ],
          [
           77777,
           "J22"
          ],
          [
           1128664,
           "J118"
          ],
          [
           1919,
           "J58"
          ],
          [
           2547392,
           "514f"
          ],
          [
           53458,
           "J75"
          ],
          [
           238836,
           "J118"
          ],
          [
           539813,
           "J22"
          ],
          [
           1048753,
           "J26"
          ],
          [
           39478,
           "J42"
          ],
          [
           1437324,
           "J49"
          ],
          [
           75289,
           "J51"
          ]
         ],
         "hovertemplate": "Cluster=0<br>Component 1=%{x}<br>Component 2=%{y}<br>taxon_id=%{customdata[0]}<br>media_id=%{customdata[1]}<extra></extra>",
         "legendgroup": "0",
         "marker": {
          "color": "#B6E880",
          "opacity": 0.3,
          "symbol": "circle"
         },
         "mode": "markers",
         "name": "0",
         "showlegend": true,
         "type": "scattergl",
         "x": [
          25.372800827026367,
          25.421979904174805,
          25.41926383972168,
          25.397470474243164,
          25.243366241455078,
          25.327016830444336,
          25.413494110107422,
          25.449342727661133,
          25.19461441040039,
          25.349931716918945,
          25.213808059692383,
          25.048168182373047,
          25.439931869506836,
          25.514944076538086,
          25.29991340637207,
          25.320358276367188,
          25.36993408203125,
          25.203454971313477,
          25.414350509643555,
          25.40563201904297,
          25.30105209350586,
          25.50553321838379,
          25.277517318725586,
          25.2131404876709,
          25.143409729003906,
          25.449621200561523,
          25.095333099365234,
          25.431896209716797,
          25.323719024658203,
          25.241426467895508,
          25.339927673339844,
          25.3985652923584,
          25.466602325439453,
          25.216751098632812,
          25.29541015625,
          25.326175689697266,
          25.446016311645508,
          25.254337310791016,
          25.215778350830078,
          25.234058380126953,
          25.27556037902832,
          25.17133140563965,
          25.21831512451172,
          25.267671585083008,
          25.195186614990234,
          25.22732162475586,
          25.33724021911621,
          25.378660202026367,
          25.34516716003418,
          25.28614616394043,
          25.289424896240234,
          25.34542465209961,
          25.437904357910156,
          25.27336883544922,
          25.553369522094727,
          25.145591735839844,
          25.533811569213867,
          25.33502197265625,
          25.461368560791016,
          25.389657974243164,
          25.52593231201172,
          25.263198852539062,
          25.45799446105957,
          25.40987777709961,
          25.50752830505371,
          25.383251190185547,
          25.301958084106445,
          25.221914291381836,
          25.191513061523438,
          25.2509765625,
          25.347627639770508,
          25.294124603271484,
          25.187461853027344,
          25.17409896850586,
          25.399763107299805,
          25.262924194335938,
          25.154226303100586,
          25.398069381713867,
          25.39032745361328,
          25.431396484375,
          25.444644927978516,
          25.228910446166992,
          25.47439193725586,
          25.32602310180664,
          25.249412536621094,
          25.271564483642578,
          25.52225112915039,
          25.283092498779297,
          25.171682357788086,
          25.357439041137695,
          25.16382598876953,
          25.261341094970703,
          25.410511016845703,
          25.170690536499023,
          24.98418426513672,
          25.270742416381836,
          25.422494888305664,
          25.441238403320312,
          25.10948944091797,
          25.15209197998047,
          25.332176208496094,
          25.389741897583008,
          25.30034065246582,
          25.27617073059082,
          25.126995086669922,
          25.11562156677246,
          25.090150833129883,
          25.3294620513916,
          25.130470275878906,
          25.165712356567383,
          25.21441078186035,
          25.03777503967285,
          25.179170608520508,
          25.182512283325195,
          25.290739059448242,
          25.052568435668945,
          25.193439483642578,
          25.042224884033203,
          25.36312484741211,
          25.185651779174805,
          25.082874298095703,
          25.130462646484375,
          25.02010726928711,
          24.973478317260742,
          25.082889556884766,
          25.097570419311523,
          25.267831802368164,
          25.165424346923828,
          25.155838012695312,
          25.125123977661133,
          25.182842254638672,
          25.065502166748047,
          25.062299728393555,
          25.150266647338867,
          25.10569953918457,
          25.252418518066406,
          25.251323699951172,
          24.918781280517578,
          25.080331802368164,
          25.262840270996094,
          25.011199951171875,
          25.097360610961914,
          24.947952270507812,
          25.020212173461914,
          24.988004684448242,
          25.016883850097656,
          25.125946044921875,
          24.971506118774414,
          25.135705947875977,
          25.18332290649414,
          25.022136688232422,
          25.03284454345703,
          24.975032806396484,
          25.07752227783203,
          25.138399124145508,
          25.046077728271484,
          25.01590347290039,
          25.118257522583008,
          25.282791137695312,
          25.170429229736328,
          25.336050033569336,
          25.127864837646484,
          25.05186653137207,
          25.01310157775879,
          25.161178588867188,
          25.21672248840332,
          25.208383560180664,
          25.398237228393555,
          25.2654972076416,
          25.117162704467773,
          25.2871150970459,
          25.337291717529297,
          25.211938858032227,
          25.27660369873047,
          25.133438110351562,
          25.017009735107422,
          25.233877182006836,
          25.20469093322754,
          25.18448829650879,
          25.00287437438965,
          25.023099899291992,
          25.156761169433594,
          25.076236724853516,
          25.214595794677734,
          25.209217071533203,
          25.0697021484375,
          25.179691314697266,
          25.01059341430664,
          25.278257369995117,
          24.923818588256836,
          24.908634185791016,
          24.92605209350586,
          24.83402442932129,
          25.00358772277832,
          25.032419204711914,
          25.16541290283203,
          25.18092918395996,
          25.092771530151367,
          25.311874389648438,
          25.22321128845215,
          25.241064071655273,
          25.21087074279785,
          25.043550491333008,
          25.110074996948242,
          25.213869094848633,
          25.239810943603516,
          25.198863983154297,
          25.072107315063477,
          25.18511390686035,
          25.239471435546875,
          25.317365646362305,
          25.296754837036133,
          25.035362243652344,
          24.910728454589844,
          24.895944595336914,
          24.751493453979492,
          25.19133949279785,
          25.285818099975586,
          25.034032821655273,
          25.09747886657715,
          25.156538009643555,
          25.204580307006836,
          25.01137351989746,
          25.32828712463379,
          25.045612335205078,
          25.206668853759766,
          24.92511558532715,
          25.140689849853516,
          24.86591339111328,
          25.094226837158203,
          24.861703872680664,
          24.822370529174805,
          24.983890533447266,
          24.73735237121582,
          24.90057373046875,
          24.850852966308594,
          24.88803482055664,
          25.222227096557617,
          25.06591033935547,
          25.20543670654297,
          25.007972717285156,
          25.324321746826172,
          25.14801597595215,
          24.94350814819336,
          25.170597076416016,
          25.123559951782227,
          25.05853843688965,
          25.02833366394043,
          25.22826385498047,
          24.75197410583496,
          25.058454513549805,
          24.816083908081055,
          25.004716873168945,
          24.888168334960938,
          24.80854606628418,
          25.17569351196289,
          24.936771392822266,
          25.16139793395996,
          24.725656509399414,
          24.950916290283203,
          24.787580490112305,
          25.01373291015625,
          25.102947235107422,
          25.177371978759766,
          25.14714813232422,
          25.280900955200195,
          25.07193946838379,
          24.912803649902344,
          25.00594139099121,
          25.263662338256836,
          24.91790008544922,
          25.21143341064453,
          25.228530883789062,
          25.11711883544922,
          25.041227340698242,
          25.1257381439209,
          25.20102882385254,
          25.19856071472168,
          25.122831344604492,
          25.215259552001953,
          25.147666931152344,
          25.217403411865234,
          24.92565155029297,
          25.169645309448242,
          25.222719192504883,
          24.91417121887207,
          25.095169067382812,
          25.220552444458008,
          25.141658782958984,
          24.948686599731445,
          25.1800479888916,
          25.187698364257812,
          24.967174530029297,
          25.14830207824707,
          25.175195693969727,
          25.365468978881836,
          25.281373977661133,
          25.05990219116211,
          25.132789611816406,
          25.17382049560547,
          25.099018096923828,
          25.220218658447266,
          25.273876190185547,
          25.565855026245117,
          25.453529357910156,
          25.177343368530273,
          25.17377471923828,
          25.310874938964844,
          25.447223663330078,
          25.528079986572266,
          25.301868438720703,
          25.289457321166992,
          25.46035385131836,
          25.187355041503906,
          25.300701141357422,
          25.419960021972656,
          25.373085021972656,
          25.189958572387695,
          25.43733024597168,
          25.388381958007812,
          25.47765350341797,
          25.156282424926758,
          25.602190017700195,
          25.487594604492188,
          25.121782302856445,
          25.25481605529785,
          25.492599487304688,
          25.39218521118164,
          25.349658966064453,
          25.45058822631836,
          25.567386627197266,
          25.39158821105957,
          25.410709381103516,
          25.312782287597656,
          25.462003707885742,
          25.267709732055664,
          25.400802612304688,
          25.50283432006836,
          25.603696823120117,
          25.099287033081055,
          25.253965377807617,
          25.478200912475586,
          25.365665435791016,
          25.537511825561523,
          25.288999557495117,
          25.566272735595703,
          25.316387176513672,
          25.500965118408203,
          25.20478630065918,
          25.5637264251709,
          25.616840362548828,
          25.532690048217773,
          25.398571014404297,
          25.331457138061523,
          25.350360870361328,
          25.43678855895996,
          25.4378662109375,
          25.485557556152344,
          25.334352493286133,
          25.260021209716797,
          25.41375732421875,
          25.589685440063477,
          25.343196868896484,
          25.475778579711914,
          25.66461753845215,
          25.483633041381836,
          25.508583068847656
         ],
         "xaxis": "x",
         "y": [
          2.050870895385742,
          2.088935613632202,
          1.7557704448699951,
          1.731337547302246,
          1.8400357961654663,
          2.1174020767211914,
          1.4838021993637085,
          1.845942497253418,
          1.843249797821045,
          1.7469887733459473,
          2.0734469890594482,
          1.8643609285354614,
          1.6152983903884888,
          1.792224645614624,
          1.6693947315216064,
          2.0794756412506104,
          1.709713339805603,
          1.9604545831680298,
          1.6940690279006958,
          1.7147458791732788,
          1.9262768030166626,
          1.8873363733291626,
          1.6013373136520386,
          1.9942373037338257,
          1.8029990196228027,
          1.7168660163879395,
          2.0320637226104736,
          1.9113733768463135,
          1.6339813470840454,
          1.8556267023086548,
          1.9692126512527466,
          1.7472732067108154,
          1.9087921380996704,
          2.04829740524292,
          1.7758125066757202,
          2.0451462268829346,
          1.8878743648529053,
          1.8050347566604614,
          1.6696574687957764,
          1.6616981029510498,
          1.6355715990066528,
          1.7602019309997559,
          1.7860140800476074,
          1.7746045589447021,
          1.6783256530761719,
          1.6775295734405518,
          1.758669376373291,
          1.992739200592041,
          1.896973729133606,
          1.95368492603302,
          2.0545127391815186,
          2.134338140487671,
          1.8900750875473022,
          1.9372416734695435,
          1.618537425994873,
          1.981795072555542,
          1.6627217531204224,
          1.970674753189087,
          1.5888128280639648,
          1.6655982732772827,
          1.7453646659851074,
          2.102921962738037,
          1.6973284482955933,
          1.7007197141647339,
          1.810257077217102,
          1.6942435503005981,
          1.5780059099197388,
          1.9424452781677246,
          1.8175123929977417,
          1.662367820739746,
          1.8879872560501099,
          1.584246277809143,
          2.0001766681671143,
          1.8808304071426392,
          1.819692850112915,
          1.6759778261184692,
          2.0022761821746826,
          1.7035073041915894,
          1.4913783073425293,
          1.7184799909591675,
          1.5756555795669556,
          1.8544048070907593,
          1.5878013372421265,
          1.538166880607605,
          1.7763115167617798,
          1.861920714378357,
          1.8460502624511719,
          1.6448572874069214,
          1.802243947982788,
          1.789074420928955,
          1.6895273923873901,
          1.9887316226959229,
          2.077357292175293,
          1.4851763248443604,
          1.7530134916305542,
          1.6422585248947144,
          1.7649168968200684,
          1.6351977586746216,
          1.8539217710494995,
          1.4576845169067383,
          1.738388180732727,
          1.6543076038360596,
          1.8018065690994263,
          2.066856622695923,
          1.945491909980774,
          1.7730928659439087,
          1.7835946083068848,
          1.9187145233154297,
          1.7918864488601685,
          1.6841679811477661,
          1.7256648540496826,
          1.7324943542480469,
          1.7271692752838135,
          1.4829643964767456,
          1.5142732858657837,
          1.8465306758880615,
          1.5185291767120361,
          1.6896246671676636,
          1.666357159614563,
          1.7706794738769531,
          1.689754843711853,
          1.7679630517959595,
          1.6295663118362427,
          1.5815986394882202,
          1.6541264057159424,
          1.543567180633545,
          2.1974589824676514,
          1.6243470907211304,
          1.5931110382080078,
          1.5842070579528809,
          1.5981504917144775,
          2.038395404815674,
          1.8740513324737549,
          1.5263961553573608,
          1.5056931972503662,
          2.0992791652679443,
          1.9925261735916138,
          1.598066806793213,
          1.5837233066558838,
          1.9337478876113892,
          1.6871460676193237,
          1.609156847000122,
          1.4246290922164917,
          1.5637354850769043,
          1.6678982973098755,
          1.6800611019134521,
          1.5680642127990723,
          1.504213809967041,
          1.6627799272537231,
          2.061958074569702,
          1.66082763671875,
          1.5720137357711792,
          1.544392466545105,
          1.7685174942016602,
          1.4520083665847778,
          1.4629849195480347,
          1.8828824758529663,
          1.6723910570144653,
          1.5811890363693237,
          1.559952735900879,
          1.4925183057785034,
          1.6510798931121826,
          1.676275610923767,
          1.5627769231796265,
          1.7704194784164429,
          1.9625523090362549,
          1.8514959812164307,
          1.7874654531478882,
          1.9654163122177124,
          2.094900369644165,
          1.846690058708191,
          1.752081274986267,
          1.7938634157180786,
          1.9137173891067505,
          1.837086796760559,
          1.8527668714523315,
          1.7474195957183838,
          1.8323653936386108,
          2.0653207302093506,
          1.8353925943374634,
          1.9864543676376343,
          2.010340690612793,
          1.893087387084961,
          1.9001643657684326,
          1.978430151939392,
          1.756728172302246,
          2.1445724964141846,
          1.6135094165802002,
          2.018826484680176,
          1.6423918008804321,
          1.7165319919586182,
          1.7053080797195435,
          1.8177903890609741,
          1.7866606712341309,
          1.6342769861221313,
          1.703180193901062,
          1.9587113857269287,
          2.0746445655822754,
          1.6670230627059937,
          1.902268886566162,
          2.001986265182495,
          1.611657977104187,
          1.8194772005081177,
          1.8964918851852417,
          1.6711440086364746,
          1.7646371126174927,
          1.7402372360229492,
          1.6555395126342773,
          1.7901036739349365,
          1.876373529434204,
          1.828550934791565,
          1.597778558731079,
          1.8081750869750977,
          1.4610862731933594,
          1.9703879356384277,
          1.6638673543930054,
          1.4202518463134766,
          2.1223483085632324,
          1.7768255472183228,
          1.7981250286102295,
          1.7590084075927734,
          1.4292395114898682,
          1.9811455011367798,
          2.0111122131347656,
          1.5725690126419067,
          1.5547266006469727,
          1.841907024383545,
          1.8781465291976929,
          1.5809071063995361,
          2.0417230129241943,
          1.5722628831863403,
          1.5484851598739624,
          1.7058377265930176,
          1.5285897254943848,
          1.7015247344970703,
          1.849279522895813,
          1.7043392658233643,
          1.6603591442108154,
          1.6178754568099976,
          1.651271939277649,
          2.0174238681793213,
          1.5371649265289307,
          1.8314768075942993,
          1.8375812768936157,
          2.056110382080078,
          1.6260244846343994,
          1.9206771850585938,
          1.8991260528564453,
          1.6501545906066895,
          1.719659447669983,
          1.7218661308288574,
          1.6237910985946655,
          1.5135680437088013,
          1.6644511222839355,
          1.8711835145950317,
          1.7304062843322754,
          1.5547024011611938,
          1.936137318611145,
          1.8331876993179321,
          1.7638354301452637,
          1.7652183771133423,
          1.6164190769195557,
          1.9971495866775513,
          1.487701416015625,
          1.907167911529541,
          2.01004695892334,
          1.9766063690185547,
          1.7863620519638062,
          2.107893466949463,
          1.631971001625061,
          1.4403020143508911,
          1.5977771282196045,
          1.9236090183258057,
          1.8662073612213135,
          1.7991247177124023,
          1.5016367435455322,
          1.6374961137771606,
          1.9264614582061768,
          1.7149502038955688,
          1.4750713109970093,
          1.6519194841384888,
          1.984678864479065,
          1.7189552783966064,
          1.9382505416870117,
          1.6870321035385132,
          1.687836766242981,
          1.8115167617797852,
          1.7165038585662842,
          1.7963722944259644,
          1.8831232786178589,
          1.7991405725479126,
          1.6459660530090332,
          1.8143839836120605,
          1.8630857467651367,
          2.0407516956329346,
          1.9735826253890991,
          2.1573939323425293,
          1.5798254013061523,
          2.0957984924316406,
          1.9206812381744385,
          1.6714740991592407,
          1.7421461343765259,
          1.801144003868103,
          1.7963861227035522,
          1.5790709257125854,
          1.848035216331482,
          1.7526401281356812,
          1.9041168689727783,
          1.931898832321167,
          1.5004464387893677,
          2.054734706878662,
          1.6970555782318115,
          2.059314250946045,
          1.759421944618225,
          1.5681407451629639,
          1.9183905124664307,
          1.708640694618225,
          2.0614922046661377,
          1.7465705871582031,
          1.689138650894165,
          1.934050440788269,
          2.0329806804656982,
          1.7328922748565674,
          2.009188652038574,
          1.9712413549423218,
          1.9917293787002563,
          1.8192896842956543,
          1.7694593667984009,
          1.7833763360977173,
          2.1169538497924805,
          1.9735935926437378,
          1.97452974319458,
          1.9326218366622925,
          1.9158903360366821,
          1.8110932111740112,
          1.9885778427124023,
          1.6130714416503906,
          1.998619556427002,
          1.638128638267517,
          1.9689527750015259,
          1.886311650276184,
          1.5515402555465698,
          1.8051031827926636,
          1.570982575416565,
          1.9625555276870728,
          1.7869036197662354,
          2.0177979469299316,
          1.6907343864440918,
          1.675746202468872,
          1.746581792831421,
          1.6658518314361572,
          2.0579614639282227,
          1.7378742694854736,
          2.0760233402252197,
          2.1151819229125977,
          1.5746701955795288,
          1.8204522132873535,
          1.8461822271347046,
          1.636001706123352,
          1.9468905925750732,
          2.0706870555877686,
          1.7489538192749023,
          2.1254913806915283,
          1.686178207397461,
          1.6178760528564453,
          1.6552329063415527,
          1.9201117753982544
         ],
         "yaxis": "y"
        },
        {
         "customdata": [
          [
           1749,
           "J14"
          ],
          [
           151276,
           "J14"
          ],
          [
           34024,
           "J386"
          ],
          [
           157691,
           "J14"
          ],
          [
           1383,
           "J14"
          ],
          [
           1833,
           "J22"
          ],
          [
           1703,
           "J14"
          ],
          [
           1550,
           "J14"
          ],
          [
           28128,
           "J14"
          ],
          [
           29488,
           "J22"
          ],
          [
           204516,
           "J14"
          ],
          [
           113288,
           "J22"
          ],
          [
           1179787,
           "J14"
          ],
          [
           1624,
           "J18"
          ],
          [
           310297,
           "J14"
          ],
          [
           1605,
           "J14"
          ],
          [
           100884,
           "J14"
          ],
          [
           32001,
           "J346"
          ],
          [
           1734926,
           "J14"
          ],
          [
           1197717,
           "J14"
          ],
          [
           135082,
           "J14"
          ],
          [
           1653435,
           "J14"
          ],
          [
           37927,
           "J20"
          ],
          [
           411577,
           "J14"
          ],
          [
           53442,
           "J14"
          ],
          [
           51665,
           "J22"
          ],
          [
           1781211,
           "J22"
          ],
          [
           544580,
           "J14"
          ],
          [
           82201,
           "J14"
          ],
          [
           1255263,
           "J346"
          ],
          [
           2559073,
           "J14"
          ],
          [
           28026,
           "J14"
          ],
          [
           29446,
           "J22"
          ],
          [
           860788,
           "J14"
          ],
          [
           2303,
           "J1055"
          ],
          [
           626934,
           "J14"
          ],
          [
           1614,
           "J22"
          ],
          [
           642589,
           "J14"
          ],
          [
           80866,
           "J22"
          ],
          [
           393921,
           "J14"
          ]
         ],
         "hovertemplate": "Cluster=8<br>Component 1=%{x}<br>Component 2=%{y}<br>taxon_id=%{customdata[0]}<br>media_id=%{customdata[1]}<extra></extra>",
         "legendgroup": "8",
         "marker": {
          "color": "#FF97FF",
          "opacity": 0.3,
          "symbol": "circle"
         },
         "mode": "markers",
         "name": "8",
         "showlegend": true,
         "type": "scattergl",
         "x": [
          1.8605114221572876,
          1.750794529914856,
          -0.3572702407836914,
          1.7537041902542114,
          1.8784433603286743,
          -0.36977314949035645,
          1.7496076822280884,
          1.8549308776855469,
          1.7802276611328125,
          1.873326063156128,
          1.6896305084228516,
          -0.3523557186126709,
          1.8381094932556152,
          1.8410669565200806,
          1.822094440460205,
          1.8585821390151978,
          1.8185672760009766,
          1.718945026397705,
          1.602536916732788,
          1.8249778747558594,
          1.8335044384002686,
          1.7625868320465088,
          1.8036547899246216,
          1.6967166662216187,
          1.7389031648635864,
          1.813448429107666,
          1.6941975355148315,
          1.7478222846984863,
          1.8486006259918213,
          1.7032274007797241,
          1.8531882762908936,
          1.833154320716858,
          -0.41393595933914185,
          1.8504514694213867,
          -0.35462379455566406,
          1.7724522352218628,
          -0.36429134011268616,
          1.7662938833236694,
          -0.28487643599510193,
          1.8642867803573608
         ],
         "xaxis": "x",
         "y": [
          2.8411848545074463,
          2.745570182800293,
          6.018970966339111,
          2.7449581623077393,
          2.722052812576294,
          6.0374531745910645,
          2.832545042037964,
          2.7704927921295166,
          2.8256642818450928,
          2.8226194381713867,
          2.7187933921813965,
          6.014258861541748,
          2.817319631576538,
          2.8422963619232178,
          2.8941056728363037,
          2.8143067359924316,
          2.7924296855926514,
          2.683765172958374,
          3.150829553604126,
          2.796891927719116,
          2.831657886505127,
          2.8811259269714355,
          2.7313168048858643,
          2.8798794746398926,
          2.8120694160461426,
          2.712116003036499,
          2.8508596420288086,
          2.78985333442688,
          2.8257203102111816,
          2.7246227264404297,
          2.8922648429870605,
          2.883277654647827,
          6.078873157501221,
          2.8070366382598877,
          6.016684055328369,
          2.8883938789367676,
          6.02577543258667,
          2.79580020904541,
          5.93731164932251,
          2.9351112842559814
         ],
         "yaxis": "y"
        },
        {
         "customdata": [
          [
           168276,
           "J26"
          ],
          [
           682973,
           "J346"
          ],
          [
           1871614,
           "J22"
          ],
          [
           83447,
           "J443"
          ],
          [
           546160,
           "J26"
          ],
          [
           1435036,
           "J27"
          ],
          [
           351659,
           "535a"
          ],
          [
           218139,
           "J340"
          ],
          [
           100225,
           "J233"
          ],
          [
           656366,
           "J26"
          ],
          [
           34073,
           "J22"
          ],
          [
           1397,
           "J22"
          ],
          [
           44255,
           "J26"
          ],
          [
           413434,
           "J346"
          ],
          [
           582851,
           "J28"
          ],
          [
           2609961,
           "J28"
          ],
          [
           1818773,
           "J26"
          ],
          [
           1585241,
           "J475"
          ],
          [
           53428,
           "J282"
          ],
          [
           1868417,
           "J475"
          ],
          [
           1541394,
           "514f"
          ],
          [
           136274,
           "J28"
          ],
          [
           40516,
           "J43"
          ],
          [
           86332,
           "J1130"
          ],
          [
           2779356,
           "J1256"
          ],
          [
           43770,
           "J256"
          ],
          [
           76726,
           "J42"
          ],
          [
           979619,
           "J1083"
          ],
          [
           1868411,
           "J488"
          ],
          [
           1233081,
           "J475"
          ],
          [
           1211807,
           "J22"
          ],
          [
           1801,
           "J26"
          ],
          [
           1915061,
           "J26"
          ],
          [
           102684,
           "J280"
          ],
          [
           390883,
           "J1107"
          ],
          [
           146829,
           "J305"
          ],
          [
           297536,
           "J26"
          ],
          [
           400774,
           "J346"
          ],
          [
           36821,
           "J26"
          ],
          [
           1639,
           "J443"
          ],
          [
           53364,
           "J28"
          ],
          [
           106592,
           "535b"
          ],
          [
           1338426,
           "J475"
          ],
          [
           1190508,
           "J28"
          ],
          [
           134375,
           "J22"
          ],
          [
           44753,
           "J43"
          ],
          [
           479117,
           "J28"
          ],
          [
           94136,
           "J436"
          ],
          [
           516456,
           "J42"
          ],
          [
           394092,
           "J455"
          ],
          [
           1670621,
           "J43"
          ],
          [
           549691,
           "J1028"
          ],
          [
           402297,
           "J26"
          ],
          [
           1475951,
           "514d"
          ],
          [
           42777,
           "J43"
          ],
          [
           35756,
           "J26"
          ],
          [
           2303,
           "J1048"
          ],
          [
           39488,
           "J465"
          ],
          [
           1419482,
           "J22"
          ],
          [
           67314,
           "J42"
          ],
          [
           66425,
           "J43"
          ],
          [
           480070,
           "J987"
          ],
          [
           1818769,
           "J43"
          ],
          [
           393059,
           "J346"
          ],
          [
           1963,
           "J42"
          ],
          [
           2448032,
           "J314"
          ],
          [
           487732,
           "535a"
          ],
          [
           254356,
           "J43"
          ],
          [
           66876,
           "J43"
          ],
          [
           105851,
           "J346"
          ],
          [
           2035,
           "J22"
          ],
          [
           68217,
           "J42"
          ],
          [
           556890,
           "J27"
          ],
          [
           70775,
           "J22"
          ],
          [
           28104,
           "J256"
          ],
          [
           1934409,
           "J26"
          ],
          [
           1807,
           "J26"
          ],
          [
           1804625,
           "J22"
          ],
          [
           41200,
           "J1227"
          ],
          [
           88373,
           "J28"
          ],
          [
           373043,
           "J346"
          ],
          [
           1366,
           "J346"
          ],
          [
           410072,
           "J1328"
          ],
          [
           249058,
           "J43"
          ],
          [
           1271,
           "J43"
          ],
          [
           1008152,
           "J346"
          ],
          [
           298,
           "J27"
          ],
          [
           615,
           "J22"
          ],
          [
           2058085,
           "J1130"
          ],
          [
           702745,
           "J443"
          ],
          [
           382,
           "J475"
          ],
          [
           1335,
           "J27"
          ],
          [
           416230,
           "J28"
          ],
          [
           79912,
           "J43"
          ],
          [
           1547583,
           "J346"
          ],
          [
           1868397,
           "J475"
          ]
         ],
         "hovertemplate": "Cluster=2<br>Component 1=%{x}<br>Component 2=%{y}<br>taxon_id=%{customdata[0]}<br>media_id=%{customdata[1]}<extra></extra>",
         "legendgroup": "2",
         "marker": {
          "color": "#FECB52",
          "opacity": 0.3,
          "symbol": "circle"
         },
         "mode": "markers",
         "name": "2",
         "showlegend": true,
         "type": "scattergl",
         "x": [
          3.3173606395721436,
          3.107229232788086,
          3.283644199371338,
          3.1323816776275635,
          3.0977470874786377,
          3.1589977741241455,
          3.286245822906494,
          3.332204818725586,
          3.175363779067993,
          3.239612340927124,
          3.2163984775543213,
          3.123197555541992,
          3.2206783294677734,
          3.253297805786133,
          3.3709542751312256,
          3.2851364612579346,
          3.315941333770752,
          3.235304355621338,
          3.272603750228882,
          3.1719045639038086,
          3.2766053676605225,
          3.228790760040283,
          3.306685447692871,
          3.123690605163574,
          3.4223904609680176,
          3.341616153717041,
          3.250188112258911,
          3.1849141120910645,
          3.307387351989746,
          3.163496494293213,
          3.1499931812286377,
          3.130138397216797,
          3.134368419647217,
          3.1098220348358154,
          3.382733106613159,
          3.322512149810791,
          3.250422716140747,
          3.3330318927764893,
          3.177375078201294,
          3.203719139099121,
          3.3629581928253174,
          3.071333408355713,
          3.318591833114624,
          3.251319646835327,
          3.2703630924224854,
          3.2683417797088623,
          3.2905173301696777,
          3.1941416263580322,
          3.2450180053710938,
          3.1716248989105225,
          3.359100341796875,
          3.2728850841522217,
          3.3703815937042236,
          3.333463191986084,
          3.2554123401641846,
          3.1641592979431152,
          3.1226158142089844,
          3.1325607299804688,
          3.072384834289551,
          3.231919765472412,
          3.438872814178467,
          3.3503551483154297,
          3.2051098346710205,
          3.394745349884033,
          3.340674877166748,
          3.2788782119750977,
          3.361624002456665,
          3.309403896331787,
          3.1689388751983643,
          3.3030619621276855,
          3.119584798812866,
          3.0842442512512207,
          3.2245395183563232,
          3.4470694065093994,
          3.3378052711486816,
          3.2106778621673584,
          3.139395236968994,
          3.3824398517608643,
          3.3708255290985107,
          3.225933074951172,
          3.276444435119629,
          3.467869758605957,
          3.220672130584717,
          3.137420892715454,
          3.129533052444458,
          3.2599620819091797,
          3.237206220626831,
          3.349017858505249,
          3.3030660152435303,
          3.1068263053894043,
          3.1630890369415283,
          3.248938798904419,
          3.0846149921417236,
          3.3068950176239014,
          3.321932077407837,
          3.1526026725769043
         ],
         "xaxis": "x",
         "y": [
          -4.544651508331299,
          -4.343574523925781,
          -4.395606517791748,
          -4.098193645477295,
          -4.24769926071167,
          -4.294427871704102,
          -4.322768688201904,
          -4.374873161315918,
          -4.326669692993164,
          -4.342555522918701,
          -4.266137599945068,
          -4.461292266845703,
          -4.064098358154297,
          -4.4803667068481445,
          -4.3038530349731445,
          -4.27846097946167,
          -4.394746780395508,
          -4.3955464363098145,
          -4.515109062194824,
          -4.277695178985596,
          -4.492030620574951,
          -4.230990409851074,
          -4.462018966674805,
          -4.216537952423096,
          -4.3955078125,
          -4.422000885009766,
          -4.311222553253174,
          -4.320641994476318,
          -4.446000576019287,
          -4.249857425689697,
          -4.1468305587768555,
          -4.397355556488037,
          -4.353061199188232,
          -4.220273494720459,
          -4.208709716796875,
          -4.349363803863525,
          -4.333490371704102,
          -4.246091842651367,
          -4.310238838195801,
          -4.365299701690674,
          -4.207556247711182,
          -4.282320022583008,
          -4.338613033294678,
          -4.287952899932861,
          -4.376893520355225,
          -4.3030571937561035,
          -4.364916801452637,
          -4.460855007171631,
          -4.376688003540039,
          -4.504306793212891,
          -4.345055103302002,
          -4.530797004699707,
          -4.376806735992432,
          -4.543287754058838,
          -4.417684078216553,
          -4.43996000289917,
          -4.092639923095703,
          -4.455799579620361,
          -4.598653793334961,
          -4.536483287811279,
          -4.566656589508057,
          -4.416013717651367,
          -4.164615154266357,
          -4.4105544090271,
          -4.534052848815918,
          -4.486147403717041,
          -4.470219612121582,
          -4.518563270568848,
          -4.436304569244385,
          -4.21536922454834,
          -4.334471225738525,
          -4.320636749267578,
          -4.436203956604004,
          -4.227154731750488,
          -4.432933330535889,
          -4.497556209564209,
          -4.360048294067383,
          -4.225592136383057,
          -4.356790065765381,
          -4.290960311889648,
          -4.501790523529053,
          -4.206995964050293,
          -4.29048490524292,
          -4.285550594329834,
          -4.365429878234863,
          -4.402505397796631,
          -4.201694011688232,
          -4.363897800445557,
          -4.407146453857422,
          -4.3827033042907715,
          -4.559573650360107,
          -4.5271782875061035,
          -4.440453052520752,
          -4.520763397216797,
          -4.262081146240234,
          -4.532001495361328
         ],
         "yaxis": "y"
        },
        {
         "customdata": [
          [
           1894970,
           "J66"
          ],
          [
           37329,
           "J43"
          ],
          [
           51665,
           "J26"
          ],
          [
           13689,
           "J28"
          ],
          [
           1671023,
           "J27"
          ],
          [
           823,
           "J14"
          ],
          [
           1411316,
           "J346"
          ],
          [
           1931,
           "J50"
          ],
          [
           571256,
           "J22"
          ],
          [
           33903,
           "J42"
          ],
          [
           408,
           "J75"
          ],
          [
           1270,
           "J26"
          ],
          [
           29491,
           "J22"
          ],
          [
           1409,
           "J230"
          ],
          [
           418223,
           "J346"
          ],
          [
           39691,
           "J26"
          ],
          [
           104101,
           "J103"
          ],
          [
           630,
           "J12"
          ],
          [
           1847819,
           "J26"
          ],
          [
           558153,
           "104c"
          ],
          [
           1787,
           "J381"
          ],
          [
           34004,
           "J22"
          ],
          [
           47835,
           "1076b"
          ],
          [
           1906,
           "J61"
          ],
          [
           1114878,
           "J1106"
          ],
          [
           164451,
           "J306"
          ],
          [
           157692,
           "J14"
          ],
          [
           2282382,
           "J118"
          ],
          [
           33876,
           "J42"
          ],
          [
           556053,
           "J346"
          ],
          [
           1868421,
           "J475"
          ],
          [
           2254,
           "J180"
          ],
          [
           43767,
           "J14"
          ],
          [
           145483,
           "J26"
          ],
          [
           64178,
           "1664a"
          ],
          [
           2494234,
           "J619"
          ],
          [
           640938,
           "J1156"
          ],
          [
           2021234,
           "J346"
          ],
          [
           1876758,
           "J1130"
          ],
          [
           1409,
           "J187"
          ],
          [
           54010,
           "J27"
          ],
          [
           1546487,
           "J50"
          ],
          [
           58110,
           "J66"
          ],
          [
           1961,
           "J43"
          ],
          [
           28214,
           "457a"
          ],
          [
           38307,
           "J677"
          ],
          [
           257274,
           "J43"
          ],
          [
           1492,
           "104b"
          ],
          [
           767517,
           "J568"
          ],
          [
           12915,
           "535b"
          ],
          [
           1263547,
           "104b"
          ],
          [
           1561,
           "1203a"
          ],
          [
           218823,
           "J43"
          ],
          [
           2099376,
           "195b"
          ],
          [
           568869,
           "J43"
          ],
          [
           156457,
           "904a"
          ],
          [
           285569,
           "J346"
          ],
          [
           1614,
           "J79"
          ],
          [
           115541,
           "J13"
          ],
          [
           68247,
           "J50"
          ],
          [
           2528979,
           "J141"
          ],
          [
           396317,
           "J168"
          ],
          [
           447424,
           "514a"
          ],
          [
           1580092,
           "1210a"
          ],
          [
           437897,
           "J14"
          ],
          [
           404366,
           "J26"
          ],
          [
           1461250,
           "J51"
          ],
          [
           261477,
           "J66"
          ],
          [
           29530,
           "J189"
          ],
          [
           32001,
           "J12"
          ],
          [
           1874697,
           "J26"
          ],
          [
           292800,
           "J14"
          ],
          [
           36823,
           "J43"
          ],
          [
           208223,
           "J27"
          ],
          [
           189966,
           "J346"
          ],
          [
           182455,
           "J202"
          ],
          [
           483547,
           "J710"
          ],
          [
           487320,
           "J118"
          ],
          [
           1874361,
           "514b"
          ],
          [
           190195,
           "J43"
          ],
          [
           422442,
           "J26"
          ],
          [
           363850,
           "1a"
          ],
          [
           1717229,
           "J443"
          ],
          [
           180295,
           "J22"
          ],
          [
           1883105,
           "J51"
          ],
          [
           2253,
           "J172"
          ],
          [
           1247514,
           "J118"
          ],
          [
           655338,
           "J982"
          ],
          [
           1080074,
           "J52"
          ],
          [
           746691,
           "J118"
          ],
          [
           678,
           "J42"
          ],
          [
           28445,
           "J415"
          ],
          [
           67385,
           "J42"
          ],
          [
           105425,
           "J431"
          ],
          [
           2682058,
           "J346"
          ],
          [
           212365,
           "J13"
          ],
          [
           190893,
           "514c"
          ],
          [
           42684,
           "J42"
          ],
          [
           285536,
           "J43"
          ],
          [
           1448267,
           "J43"
          ],
          [
           80860,
           "J50"
          ],
          [
           47482,
           "J242"
          ],
          [
           1891311,
           "1076b"
          ],
          [
           1750597,
           "J13"
          ],
          [
           1675036,
           "1203a"
          ],
          [
           2569155,
           "J710"
          ],
          [
           238834,
           "756c"
          ],
          [
           44098,
           "J172"
          ],
          [
           2652282,
           "J22"
          ],
          [
           639310,
           "514f"
          ],
          [
           29358,
           "J84"
          ],
          [
           715028,
           "J1063"
          ],
          [
           190305,
           "J118"
          ],
          [
           438,
           "J628"
          ],
          [
           1306,
           "J138"
          ],
          [
           316277,
           "J1093"
          ],
          [
           67314,
           "J66"
          ],
          [
           2014065,
           "621a"
          ],
          [
           2126553,
           "J128"
          ],
          [
           1833,
           "514a"
          ],
          [
           1377,
           "J84"
          ],
          [
           2214,
           "141c"
          ],
          [
           67381,
           "J66"
          ],
          [
           29581,
           "J12"
          ],
          [
           2559572,
           "J596"
          ],
          [
           88376,
           "J28"
          ],
          [
           1682732,
           "J28"
          ],
          [
           67255,
           "J45"
          ],
          [
           539813,
           "J475"
          ],
          [
           2800120,
           "J43"
          ],
          [
           58172,
           "J181"
          ],
          [
           70258,
           "J75"
          ],
          [
           1282,
           "J22"
          ],
          [
           2053011,
           "J61"
          ],
          [
           338565,
           "1a"
          ],
          [
           285534,
           "J50"
          ],
          [
           399497,
           "J28"
          ],
          [
           29446,
           "J27"
          ],
          [
           362649,
           "J28"
          ],
          [
           1365,
           "J291"
          ],
          [
           66888,
           "J45"
          ],
          [
           1868410,
           "J488"
          ],
          [
           235985,
           "J429"
          ],
          [
           2025508,
           "J364"
          ],
          [
           1685382,
           "J118"
          ],
          [
           267854,
           "J52"
          ],
          [
           2213,
           "120d"
          ],
          [
           178399,
           "J52"
          ],
          [
           28212,
           "220a"
          ],
          [
           66424,
           "J50"
          ],
          [
           56449,
           "1a"
          ],
          [
           1409,
           "J218"
          ],
          [
           152260,
           "104b"
          ],
          [
           127886,
           "J203"
          ],
          [
           334253,
           "514c"
          ],
          [
           1532,
           "J13"
          ],
          [
           797535,
           "J346"
          ],
          [
           93378,
           "J12"
          ],
          [
           223919,
           "104b"
          ],
          [
           2320,
           "J709"
          ],
          [
           1682,
           "J84"
          ],
          [
           472175,
           "J75"
          ],
          [
           69525,
           "J170"
          ],
          [
           60847,
           "J169"
          ],
          [
           1144680,
           "J346"
          ],
          [
           200450,
           "1a"
          ],
          [
           1334,
           "J28"
          ],
          [
           1159016,
           "J22"
          ],
          [
           316,
           "1a"
          ],
          [
           1211851,
           "J346"
          ],
          [
           2571105,
           "J28"
          ],
          [
           434347,
           "J43"
          ],
          [
           70775,
           "J27"
          ],
          [
           154288,
           "104c"
          ],
          [
           1970,
           "J42"
          ],
          [
           67363,
           "J61"
          ],
          [
           577,
           "J22"
          ],
          [
           2691040,
           "J119"
          ],
          [
           453230,
           "142a"
          ],
          [
           223786,
           "J386"
          ],
          [
           1682,
           "J14"
          ],
          [
           323761,
           "J386"
          ],
          [
           520767,
           "110a"
          ],
          [
           1882438,
           "J346"
          ],
          [
           66880,
           "J42"
          ],
          [
           66431,
           "J66"
          ],
          [
           1579333,
           "514f"
          ],
          [
           412687,
           "J26"
          ],
          [
           294,
           "J22"
          ],
          [
           192904,
           "J118"
          ],
          [
           43666,
           "J22"
          ],
          [
           909287,
           "J43"
          ],
          [
           303,
           "J79"
          ],
          [
           67344,
           "J42"
          ],
          [
           93929,
           "J346"
          ],
          [
           2498849,
           "J44"
          ],
          [
           1232426,
           "J14"
          ],
          [
           2981774,
           "104c"
          ],
          [
           1457523,
           "J346"
          ],
          [
           47880,
           "J12"
          ],
          [
           29466,
           "J459"
          ],
          [
           1869227,
           "1203a"
          ],
          [
           332055,
           "J917"
          ],
          [
           649,
           "J475"
          ],
          [
           449461,
           "J26"
          ],
          [
           47763,
           "J42"
          ],
          [
           1775541,
           "J22"
          ],
          [
           398,
           "J276"
          ],
          [
           1157986,
           "J1099"
          ],
          [
           289003,
           "1a"
          ],
          [
           33889,
           "J22"
          ],
          [
           47716,
           "J42"
          ],
          [
           1141657,
           "J44"
          ],
          [
           663602,
           "J52"
          ],
          [
           2876789,
           "11b"
          ],
          [
           1679,
           "J14"
          ],
          [
           66881,
           "J50"
          ],
          [
           361575,
           "J26"
          ],
          [
           2707005,
           "J30"
          ],
          [
           2133,
           "1076b"
          ],
          [
           1909,
           "J42"
          ],
          [
           546364,
           "J43"
          ],
          [
           1495645,
           "J118"
          ],
          [
           52697,
           "J51"
          ],
          [
           207949,
           "514b"
          ],
          [
           1537388,
           "J346"
          ],
          [
           391736,
           "J43"
          ],
          [
           59823,
           "1203a"
          ],
          [
           67376,
           "J57"
          ],
          [
           1341552,
           "J598"
          ],
          [
           429133,
           "J26"
          ],
          [
           47714,
           "J13"
          ],
          [
           2049319,
           "J362"
          ],
          [
           285464,
           "J58"
          ],
          [
           1868387,
           "J475"
          ],
          [
           303,
           "J75"
          ],
          [
           2080416,
           "J363"
          ],
          [
           1465519,
           "J13"
          ],
          [
           66880,
           "J58"
          ],
          [
           2606630,
           "J22"
          ],
          [
           1869214,
           "J75"
          ],
          [
           660522,
           "J531"
          ],
          [
           33011,
           "J14"
          ],
          [
           36841,
           "54b"
          ],
          [
           1128618,
           "J443"
          ],
          [
           61652,
           "J22"
          ],
          [
           1904616,
           "J42"
          ],
          [
           1849103,
           "J26"
          ],
          [
           285504,
           "J66"
          ],
          [
           306,
           "J436"
          ],
          [
           165758,
           "J14"
          ],
          [
           1818714,
           "J26"
          ],
          [
           1017351,
           "J1028"
          ],
          [
           33921,
           "J45"
          ],
          [
           871325,
           "1203a"
          ],
          [
           301,
           "J22"
          ],
          [
           1247,
           "J167"
          ],
          [
           1275,
           "J26"
          ],
          [
           411570,
           "J14"
          ],
          [
           57320,
           "195c"
          ],
          [
           1128665,
           "J45"
          ],
          [
           28258,
           "J732"
          ],
          [
           28125,
           "J14"
          ],
          [
           438744,
           "514a"
          ],
          [
           36839,
           "J14"
          ],
          [
           86668,
           "J75"
          ],
          [
           1871623,
           "J141"
          ],
          [
           644,
           "1a"
          ],
          [
           29397,
           "J13"
          ],
          [
           1684,
           "J84"
          ],
          [
           70258,
           "J475"
          ],
          [
           454005,
           "35a"
          ],
          [
           67576,
           "514d"
          ],
          [
           1042321,
           "1076b"
          ],
          [
           487685,
           "141c"
          ],
          [
           264463,
           "104c"
          ],
          [
           37734,
           "J27"
          ],
          [
           349094,
           "86a"
          ],
          [
           1448860,
           "J191"
          ],
          [
           745119,
           "104b"
          ],
          [
           1779332,
           "J118"
          ],
          [
           648,
           "J2"
          ],
          [
           1818808,
           "J26"
          ],
          [
           198618,
           "1a"
          ],
          [
           488212,
           "830c"
          ],
          [
           351224,
           "J346"
          ],
          [
           317015,
           "J42"
          ],
          [
           1736,
           "195c"
          ],
          [
           1571,
           "J27"
          ],
          [
           1903263,
           "104c"
          ],
          [
           2605790,
           "220a"
          ],
          [
           2751153,
           "J22"
          ],
          [
           169134,
           "J26"
          ],
          [
           2775876,
           "1277a"
          ],
          [
           433287,
           "110a"
          ],
          [
           555393,
           "1076b"
          ],
          [
           172040,
           "J26"
          ],
          [
           66883,
           "J51"
          ],
          [
           287,
           "J26"
          ],
          [
           115778,
           "J183"
          ],
          [
           29363,
           "104b"
          ],
          [
           88724,
           "J168"
          ],
          [
           40542,
           "J14"
          ],
          [
           66373,
           "J42"
          ],
          [
           60895,
           "J49"
          ],
          [
           310300,
           "J14"
          ],
          [
           1541174,
           "J156"
          ],
          [
           1465506,
           "J14"
          ],
          [
           2738837,
           "J26"
          ],
          [
           271091,
           "J695"
          ],
          [
           189750,
           "J43"
          ],
          [
           592378,
           "535a"
          ],
          [
           1478,
           "J508"
          ],
          [
           369942,
           "J43"
          ],
          [
           655355,
           "J118"
          ],
          [
           2767927,
           "J13"
          ],
          [
           1293589,
           "J256"
          ],
          [
           732237,
           "J118"
          ],
          [
           1907,
           "J61"
          ],
          [
           89154,
           "J26"
          ],
          [
           1924988,
           "J346"
          ],
          [
           39060,
           "215b"
          ],
          [
           708126,
           "J27"
          ],
          [
           150122,
           "J26"
          ],
          [
           168480,
           "J43"
          ],
          [
           1962976,
           "J346"
          ],
          [
           68180,
           "J42"
          ],
          [
           580,
           "J22"
          ],
          [
           1214925,
           "J574"
          ],
          [
           86665,
           "J569"
          ],
          [
           1956,
           "J68"
          ],
          [
           1335,
           "J161"
          ],
          [
           81028,
           "9a"
          ],
          [
           200618,
           "J26"
          ],
          [
           77025,
           "J167"
          ],
          [
           1484109,
           "J357"
          ],
          [
           102227,
           "J43"
          ],
          [
           1641,
           "J280"
          ],
          [
           51513,
           "J26"
          ],
          [
           33954,
           "104b"
          ],
          [
           1496996,
           "J68"
          ],
          [
           36773,
           "J27"
          ],
          [
           63128,
           "J168"
          ],
          [
           203192,
           "J22"
          ],
          [
           175631,
           "J168"
          ],
          [
           82996,
           "1a"
          ],
          [
           2555898,
           "J28"
          ],
          [
           36745,
           "104b"
          ],
          [
           1686286,
           "535a"
          ],
          [
           571933,
           "514f"
          ],
          [
           489142,
           "J475"
          ],
          [
           1835608,
           "J118"
          ],
          [
           291602,
           "J42"
          ],
          [
           306,
           "J27"
          ],
          [
           1670801,
           "J556"
          ],
          [
           2601682,
           "J346"
          ],
          [
           554310,
           "J75"
          ],
          [
           2014887,
           "J900"
          ],
          [
           430060,
           "J43"
          ],
          [
           28115,
           "J475"
          ],
          [
           189,
           "J28"
          ],
          [
           56457,
           "54a"
          ],
          [
           32002,
           "J12"
          ],
          [
           1226758,
           "J43"
          ],
          [
           1211807,
           "1a"
          ],
          [
           58350,
           "J42"
          ],
          [
           183408,
           "J45"
          ],
          [
           338565,
           "J22"
          ],
          [
           1709,
           "J22"
          ],
          [
           617123,
           "110a"
          ],
          [
           205332,
           "J26"
          ],
          [
           1872642,
           "J26"
          ],
          [
           487174,
           "J346"
          ],
          [
           447593,
           "104b"
          ],
          [
           2306585,
           "J346"
          ],
          [
           68277,
           "J51"
          ],
          [
           1631,
           "J13"
          ],
          [
           1951,
           "J43"
          ],
          [
           920,
           "J97"
          ],
          [
           633813,
           "503c"
          ],
          [
           285,
           "1a"
          ],
          [
           1080225,
           "J118"
          ],
          [
           823,
           "J13"
          ],
          [
           357276,
           "J14"
          ],
          [
           394964,
           "535a"
          ],
          [
           46173,
           "J43"
          ],
          [
           554343,
           "J443"
          ],
          [
           1805714,
           "110a"
          ],
          [
           67313,
           "J42"
          ],
          [
           2243,
           "J181"
          ],
          [
           40269,
           "J26"
          ],
          [
           306,
           "J12"
          ],
          [
           915180,
           "110a"
          ],
          [
           2981779,
           "J13"
          ],
          [
           177758,
           "617a"
          ],
          [
           51671,
           "J57"
          ],
          [
           28101,
           "J74"
          ],
          [
           373040,
           "J346"
          ],
          [
           2541726,
           "J28"
          ],
          [
           672,
           "J118"
          ],
          [
           61305,
           "J443"
          ],
          [
           1304888,
           "1203a"
          ],
          [
           498718,
           "J611"
          ],
          [
           217158,
           "110a"
          ],
          [
           272240,
           "J26"
          ],
          [
           35761,
           "J43"
          ],
          [
           236508,
           "J118"
          ],
          [
           76305,
           "J42"
          ],
          [
           89584,
           "J736"
          ],
          [
           1429043,
           "J1116"
          ],
          [
           1472767,
           "J1191"
          ],
          [
           1906242,
           "J118"
          ],
          [
           885042,
           "J43"
          ],
          [
           2502780,
           "J386"
          ],
          [
           1794,
           "J415"
          ],
          [
           68239,
           "J50"
          ],
          [
           1155689,
           "J346"
          ],
          [
           28043,
           "J50"
          ],
          [
           1597,
           "J13"
          ],
          [
           254356,
           "J304"
          ],
          [
           1940617,
           "J26"
          ],
          [
           152794,
           "J7"
          ],
          [
           1363,
           "J13"
          ],
          [
           1868416,
           "J475"
          ],
          [
           582607,
           "1a"
          ],
          [
           1298599,
           "J118"
          ],
          [
           1509,
           "J13"
          ],
          [
           197,
           "J14"
          ],
          [
           403638,
           "J58"
          ],
          [
           55205,
           "135c"
          ],
          [
           262898,
           "J26"
          ],
          [
           47883,
           "54a"
          ],
          [
           240521,
           "J257"
          ],
          [
           1931,
           "J61"
          ],
          [
           1752077,
           "J346"
          ],
          [
           355548,
           "J168"
          ],
          [
           51669,
           "J70"
          ],
          [
           394964,
           "J26"
          ],
          [
           472,
           "J22"
          ],
          [
           57498,
           "J22"
          ],
          [
           678,
           "J118"
          ],
          [
           135487,
           "J43"
          ],
          [
           2788935,
           "J256"
          ]
         ],
         "hovertemplate": "Cluster=1<br>Component 1=%{x}<br>Component 2=%{y}<br>taxon_id=%{customdata[0]}<br>media_id=%{customdata[1]}<extra></extra>",
         "legendgroup": "1",
         "marker": {
          "color": "#636efa",
          "opacity": 0.3,
          "symbol": "circle"
         },
         "mode": "markers",
         "name": "1",
         "showlegend": true,
         "type": "scattergl",
         "x": [
          -0.9934331178665161,
          -1.8032604455947876,
          -1.3228888511657715,
          -1.7830352783203125,
          -1.784782886505127,
          -1.512372612953186,
          -1.4660643339157104,
          -1.081105351448059,
          -1.7938286066055298,
          -1.70004403591156,
          -1.1048215627670288,
          -1.84279203414917,
          -1.7308353185653687,
          -1.564016342163086,
          -1.770374059677124,
          -1.360845923423767,
          -1.5672926902770996,
          -1.5680116415023804,
          -1.59398353099823,
          -1.6080678701400757,
          -1.5190383195877075,
          -1.6073583364486694,
          -1.7604920864105225,
          -1.6985782384872437,
          -1.619323492050171,
          -1.7012327909469604,
          -1.756853461265564,
          -1.8823907375335693,
          -1.729225516319275,
          -1.628517746925354,
          -1.5646742582321167,
          -1.515244722366333,
          -1.3451029062271118,
          -1.7355471849441528,
          -1.7291263341903687,
          -1.5090012550354004,
          -1.5343726873397827,
          -1.4749417304992676,
          -1.5333285331726074,
          -1.6564323902130127,
          -1.7103767395019531,
          -1.5585020780563354,
          -1.9698294401168823,
          -1.5429530143737793,
          -1.3015644550323486,
          -1.7540639638900757,
          -1.718610167503357,
          -1.313679575920105,
          -1.5360705852508545,
          -1.2576309442520142,
          -1.4457752704620361,
          -1.702021837234497,
          -1.704046368598938,
          -1.7551158666610718,
          -1.5894075632095337,
          -1.4252898693084717,
          -1.3325051069259644,
          -1.6738636493682861,
          -1.5643904209136963,
          -1.7158666849136353,
          -1.512445092201233,
          -1.3943150043487549,
          -1.6884337663650513,
          -1.4134490489959717,
          -1.494666576385498,
          -1.4684087038040161,
          -1.4934509992599487,
          -1.5248078107833862,
          -1.3340595960617065,
          -1.2710639238357544,
          -1.605414628982544,
          -1.4656215906143188,
          -1.0924383401870728,
          -1.3528690338134766,
          -1.3281140327453613,
          -1.6527334451675415,
          -1.5361535549163818,
          -1.5742063522338867,
          -1.9243718385696411,
          -1.6142809391021729,
          -1.7287638187408447,
          -1.5838595628738403,
          -1.630551815032959,
          -1.6202422380447388,
          -1.7893462181091309,
          -1.8334704637527466,
          -1.642447829246521,
          -1.727637529373169,
          -1.5876599550247192,
          -1.5529707670211792,
          -1.4332911968231201,
          -1.555580735206604,
          -1.6834315061569214,
          -1.4242852926254272,
          -1.5029577016830444,
          -1.624506950378418,
          -1.7229794263839722,
          -1.728164553642273,
          -1.4107249975204468,
          -1.3961917161941528,
          -1.4018654823303223,
          -1.6304402351379395,
          -1.7422140836715698,
          -1.562384843826294,
          -1.7802081108093262,
          -1.6291931867599487,
          -1.7421845197677612,
          -1.4000283479690552,
          -1.839191198348999,
          -1.4726619720458984,
          -1.6947301626205444,
          -1.626183032989502,
          -1.4562870264053345,
          -1.4068526029586792,
          -1.4994348287582397,
          -1.1935479640960693,
          -1.6700162887573242,
          -1.702368140220642,
          -1.654028296470642,
          -1.661406397819519,
          -1.6379286050796509,
          -1.4297115802764893,
          -1.6196142435073853,
          -1.4778894186019897,
          -1.4005635976791382,
          -1.4464398622512817,
          -1.6965348720550537,
          -1.4421545267105103,
          -1.4561326503753662,
          -1.5797321796417236,
          -1.657474398612976,
          -1.4950380325317383,
          -1.2938045263290405,
          -1.5306618213653564,
          -1.7749302387237549,
          -1.4407119750976562,
          -1.3858877420425415,
          -1.6977887153625488,
          -1.4853042364120483,
          -1.7372504472732544,
          -1.844305157661438,
          -1.579097032546997,
          -1.5576170682907104,
          -1.2141444683074951,
          -1.6017118692398071,
          -1.3257076740264893,
          -1.7114713191986084,
          -1.5825105905532837,
          -1.428973913192749,
          -1.4311387538909912,
          -1.462278127670288,
          -1.4076577425003052,
          -1.4462265968322754,
          -1.2477842569351196,
          -1.4774277210235596,
          -1.504167914390564,
          -1.5794057846069336,
          -1.4000221490859985,
          -1.564954400062561,
          -1.5932974815368652,
          -1.2806413173675537,
          -1.3502541780471802,
          -1.8367007970809937,
          -1.43549382686615,
          -1.564500331878662,
          -1.6832808256149292,
          -1.7034358978271484,
          -1.5624912977218628,
          -1.6497852802276611,
          -1.5867825746536255,
          -1.3803266286849976,
          -1.5002485513687134,
          -1.626641035079956,
          -1.7794642448425293,
          -1.4155787229537964,
          -1.578810214996338,
          -1.3299297094345093,
          -1.3961931467056274,
          -1.7400108575820923,
          -1.7197033166885376,
          -1.1381090879440308,
          -1.588594675064087,
          -1.403113842010498,
          -1.4787969589233398,
          -1.508070707321167,
          -1.5539852380752563,
          -1.6057356595993042,
          -1.447363257408142,
          -1.3224141597747803,
          -1.3380712270736694,
          -1.4978289604187012,
          -1.3825328350067139,
          -1.354642391204834,
          -1.5804463624954224,
          -1.8018591403961182,
          -1.703878402709961,
          -1.5127283334732056,
          -1.4139453172683716,
          -1.2350172996520996,
          -1.3712574243545532,
          -1.4242466688156128,
          -1.6103720664978027,
          -1.5596944093704224,
          -1.2678139209747314,
          -1.2467408180236816,
          -1.337456226348877,
          -1.5264885425567627,
          -1.328654170036316,
          -1.6676700115203857,
          -1.5479663610458374,
          -1.5992028713226318,
          -1.261330008506775,
          -1.6126292943954468,
          -1.6047405004501343,
          -1.459896445274353,
          -1.6402431726455688,
          -1.6571332216262817,
          -1.4540923833847046,
          -1.505786657333374,
          -1.2830734252929688,
          -1.2291673421859741,
          -1.327452540397644,
          -1.1687650680541992,
          -1.6375584602355957,
          -1.566980242729187,
          -1.4373260736465454,
          -1.2440630197525024,
          -1.363767147064209,
          -1.4829634428024292,
          -1.664367914199829,
          -1.6143896579742432,
          -1.6139692068099976,
          -1.5054559707641602,
          -1.2878893613815308,
          -1.1756845712661743,
          -1.364198923110962,
          -1.4910284280776978,
          -1.44921875,
          -1.6556038856506348,
          -1.549875259399414,
          -1.5607774257659912,
          -1.1925163269042969,
          -1.4286788702011108,
          -1.2539174556732178,
          -1.4725890159606934,
          -1.3461906909942627,
          -1.5690792798995972,
          -1.3394994735717773,
          -1.4381593465805054,
          -1.5614832639694214,
          -1.6281124353408813,
          -1.5895963907241821,
          -1.3947614431381226,
          -1.5548731088638306,
          -1.5183511972427368,
          -1.4459322690963745,
          -1.3695565462112427,
          -1.3282808065414429,
          -1.6214674711227417,
          -1.6345891952514648,
          -1.5644913911819458,
          -1.4120068550109863,
          -1.3892149925231934,
          -1.4499393701553345,
          -1.467484951019287,
          -1.1936970949172974,
          -1.5180671215057373,
          -1.207946538925171,
          -1.1607288122177124,
          -1.3444268703460693,
          -1.4597688913345337,
          -1.536947250366211,
          -1.5823256969451904,
          -1.1823688745498657,
          -1.3449698686599731,
          -1.397132396697998,
          -1.254612922668457,
          -1.6411100625991821,
          -1.4618884325027466,
          -1.262861967086792,
          -1.3723829984664917,
          -1.3983796834945679,
          -1.3382883071899414,
          -1.422906756401062,
          -1.4905710220336914,
          -1.381304383277893,
          -1.4964526891708374,
          -1.3206608295440674,
          -1.3087629079818726,
          -1.4841790199279785,
          -1.3854519128799438,
          -1.430210828781128,
          -1.1647800207138062,
          -1.1688920259475708,
          -1.5388681888580322,
          -1.3936108350753784,
          -1.2853426933288574,
          -1.449041485786438,
          -1.3737579584121704,
          -1.3649249076843262,
          -1.4673892259597778,
          -1.4742149114608765,
          -1.36031174659729,
          -1.576140284538269,
          -1.3816275596618652,
          -1.410827398300171,
          -1.2616153955459595,
          -1.2318642139434814,
          -1.1573023796081543,
          -1.238778829574585,
          -1.1583799123764038,
          -1.2610836029052734,
          -1.482908844947815,
          -1.4761101007461548,
          -1.5868207216262817,
          -1.4491595029830933,
          -1.4190000295639038,
          -1.320699691772461,
          -1.199204444885254,
          -1.124578833580017,
          -1.2891638278961182,
          -1.232053279876709,
          -1.3627567291259766,
          -1.199582576751709,
          -1.3021769523620605,
          -1.207762598991394,
          -1.3861408233642578,
          -1.2468657493591309,
          -1.2826802730560303,
          -1.2508842945098877,
          -1.2529253959655762,
          -1.5379828214645386,
          -1.1023046970367432,
          -1.1436467170715332,
          -1.1514002084732056,
          -1.3325471878051758,
          -1.4499011039733887,
          -1.4230860471725464,
          -1.299017071723938,
          -1.161153793334961,
          -1.4994691610336304,
          -1.2333908081054688,
          -1.3481189012527466,
          -1.1776410341262817,
          -1.4794450998306274,
          -1.2067502737045288,
          -1.211381196975708,
          -1.2881076335906982,
          -1.163826823234558,
          -1.2917377948760986,
          -1.2908076047897339,
          -1.2833863496780396,
          -1.3000584840774536,
          -1.3153562545776367,
          -1.3393398523330688,
          -1.0531642436981201,
          -1.1416144371032715,
          -1.3574349880218506,
          -1.263300895690918,
          -1.0976210832595825,
          -1.378020167350769,
          -1.2099366188049316,
          -1.2510311603546143,
          -1.3162065744400024,
          -1.196257472038269,
          -1.391648769378662,
          -1.1450681686401367,
          -1.1638866662979126,
          -1.3969987630844116,
          -1.175367832183838,
          -1.1694668531417847,
          -1.2226192951202393,
          -1.0808717012405396,
          -1.4578860998153687,
          -1.2497562170028687,
          -1.0274659395217896,
          -1.0467058420181274,
          -1.0367777347564697,
          -1.0411875247955322,
          -1.062347650527954,
          -1.1427315473556519,
          -1.2461501359939575,
          -0.9188715219497681,
          -1.0692518949508667,
          -1.1701890230178833,
          -1.0946096181869507,
          -1.047149896621704,
          -1.1798025369644165,
          -1.2023816108703613,
          -0.9474201798439026,
          -1.0621106624603271,
          -1.0697764158248901,
          -1.2780370712280273,
          -1.1237434148788452,
          -1.0128916501998901,
          -1.2211494445800781,
          -1.1848654747009277,
          -1.2400349378585815,
          -1.022301435470581,
          -1.2393208742141724,
          -1.2322980165481567,
          -1.2292137145996094,
          -1.0999877452850342,
          -1.0062249898910522,
          -1.1513946056365967,
          -1.3277106285095215,
          -1.019691824913025,
          -1.061872124671936,
          -1.0854965448379517,
          -1.145595669746399,
          -1.2387670278549194,
          -1.1729819774627686,
          -1.3140079975128174,
          -1.1825757026672363,
          -1.0627813339233398,
          -1.0867514610290527,
          -1.143094778060913,
          -1.0581477880477905,
          -1.3543715476989746,
          -1.15916109085083,
          -0.9869539141654968,
          -1.0026015043258667,
          -1.370626449584961,
          -1.0134915113449097,
          -1.1736395359039307,
          -1.0850672721862793,
          -1.4709571599960327,
          -1.372492790222168,
          -1.0726245641708374,
          -1.098120093345642,
          -1.078416109085083,
          -1.1880943775177002,
          -1.241977572441101,
          -0.98167884349823,
          -1.3038493394851685,
          -1.196779727935791,
          -1.3669124841690063,
          -1.3239227533340454,
          -1.7622966766357422,
          -1.821056842803955,
          -1.0108245611190796,
          -1.4630564451217651,
          -0.9472317099571228
         ],
         "xaxis": "x",
         "y": [
          13.295867919921875,
          12.417364120483398,
          13.410300254821777,
          12.452813148498535,
          12.433841705322266,
          13.413058280944824,
          13.414264678955078,
          13.309009552001953,
          12.618522644042969,
          12.684038162231445,
          13.34857177734375,
          12.301562309265137,
          12.67372989654541,
          13.533552169799805,
          13.172175407409668,
          13.289775848388672,
          13.04229736328125,
          13.301222801208496,
          13.282266616821289,
          13.414963722229004,
          13.507472038269043,
          13.365193367004395,
          13.263588905334473,
          13.317320823669434,
          13.38046932220459,
          13.249310493469238,
          13.262356758117676,
          13.114316940307617,
          13.160998344421387,
          13.411993026733398,
          13.187383651733398,
          13.057089805603027,
          13.02143383026123,
          13.034687042236328,
          13.44668960571289,
          13.243372917175293,
          13.207659721374512,
          13.213483810424805,
          13.199790954589844,
          13.012959480285645,
          13.134293556213379,
          13.116870880126953,
          13.454389572143555,
          13.241186141967773,
          13.032693862915039,
          13.198081970214844,
          13.413264274597168,
          13.450871467590332,
          13.079202651977539,
          13.368616104125977,
          13.133214950561523,
          13.483319282531738,
          13.113978385925293,
          13.201117515563965,
          13.424476623535156,
          13.309428215026855,
          13.117737770080566,
          13.346793174743652,
          13.242197036743164,
          13.500173568725586,
          13.3394193649292,
          13.418636322021484,
          13.354907989501953,
          13.517724990844727,
          13.293713569641113,
          13.47288703918457,
          13.303999900817871,
          13.205307960510254,
          13.191570281982422,
          13.280672073364258,
          13.38208293914795,
          13.363190650939941,
          13.420098304748535,
          13.086386680603027,
          13.44003963470459,
          13.211920738220215,
          13.32762336730957,
          13.301386833190918,
          13.319921493530273,
          13.225924491882324,
          13.192111015319824,
          13.179109573364258,
          13.191740989685059,
          13.280055046081543,
          13.302608489990234,
          13.285843849182129,
          13.115156173706055,
          13.158308982849121,
          13.244224548339844,
          13.20706844329834,
          13.028831481933594,
          13.024198532104492,
          12.889580726623535,
          13.288106918334961,
          13.145185470581055,
          13.244924545288086,
          13.207632064819336,
          13.196345329284668,
          13.20771598815918,
          13.097928047180176,
          12.86418342590332,
          12.844511985778809,
          13.066990852355957,
          13.142135620117188,
          12.999993324279785,
          13.03395938873291,
          13.098869323730469,
          12.970251083374023,
          13.024239540100098,
          12.96624755859375,
          13.066055297851562,
          12.79391860961914,
          13.125062942504883,
          13.034852027893066,
          13.097343444824219,
          13.018732070922852,
          13.05943489074707,
          13.113452911376953,
          12.759225845336914,
          12.992094993591309,
          13.113354682922363,
          12.904314041137695,
          12.82741928100586,
          13.104456901550293,
          12.94739055633545,
          13.058895111083984,
          12.905323028564453,
          12.989014625549316,
          13.193863868713379,
          12.953972816467285,
          12.936284065246582,
          12.847225189208984,
          13.1174955368042,
          12.91937255859375,
          12.805635452270508,
          13.099068641662598,
          13.10564136505127,
          12.884957313537598,
          12.951606750488281,
          12.800908088684082,
          13.005858421325684,
          12.995375633239746,
          12.840949058532715,
          12.881768226623535,
          12.790677070617676,
          13.0853853225708,
          12.632649421691895,
          12.87702465057373,
          12.774914741516113,
          12.839648246765137,
          12.651876449584961,
          12.761408805847168,
          12.870287895202637,
          12.816886901855469,
          12.697917938232422,
          12.8662691116333,
          12.963150978088379,
          12.886771202087402,
          12.861090660095215,
          12.803430557250977,
          12.887168884277344,
          12.875409126281738,
          12.849946975708008,
          12.994587898254395,
          12.969515800476074,
          12.683347702026367,
          12.831473350524902,
          12.771642684936523,
          12.747689247131348,
          12.867365837097168,
          12.785295486450195,
          12.659388542175293,
          12.77449893951416,
          12.7164888381958,
          12.781957626342773,
          12.736339569091797,
          12.64140796661377,
          12.66911792755127,
          12.755624771118164,
          12.841897964477539,
          12.8792085647583,
          12.682053565979004,
          12.646355628967285,
          12.865509986877441,
          12.860321044921875,
          12.6176176071167,
          12.782949447631836,
          12.634330749511719,
          12.7755765914917,
          12.846441268920898,
          12.94518756866455,
          12.66429328918457,
          12.830869674682617,
          12.660155296325684,
          12.470865249633789,
          12.665444374084473,
          12.768107414245605,
          12.597023963928223,
          12.703310012817383,
          12.812113761901855,
          12.856257438659668,
          12.704834938049316,
          12.627771377563477,
          12.725058555603027,
          12.557913780212402,
          12.626960754394531,
          12.693955421447754,
          12.70450496673584,
          12.743408203125,
          12.688159942626953,
          12.886449813842773,
          12.621143341064453,
          12.595368385314941,
          12.77855396270752,
          12.565359115600586,
          12.764610290527344,
          12.71163558959961,
          12.626404762268066,
          12.498077392578125,
          12.779791831970215,
          12.685105323791504,
          12.668435096740723,
          12.741194725036621,
          12.812259674072266,
          12.661944389343262,
          12.502976417541504,
          12.616195678710938,
          12.614316940307617,
          12.668631553649902,
          12.880741119384766,
          12.708063125610352,
          12.546540260314941,
          12.674420356750488,
          12.53879165649414,
          12.508780479431152,
          12.516948699951172,
          12.562394142150879,
          12.643835067749023,
          12.551339149475098,
          12.55906867980957,
          12.544999122619629,
          12.696568489074707,
          12.633469581604004,
          12.65733814239502,
          12.595022201538086,
          12.5148286819458,
          12.666934967041016,
          12.651758193969727,
          12.681292533874512,
          12.533973693847656,
          12.515541076660156,
          12.5187406539917,
          12.59847640991211,
          12.743560791015625,
          12.505715370178223,
          12.799214363098145,
          12.458701133728027,
          13.434308052062988,
          12.496946334838867,
          12.505210876464844,
          12.701421737670898,
          12.564791679382324,
          12.728365898132324,
          12.480220794677734,
          12.518147468566895,
          12.588776588439941,
          12.7133150100708,
          12.622334480285645,
          12.5628023147583,
          12.722695350646973,
          12.572665214538574,
          12.451469421386719,
          12.482882499694824,
          12.722223281860352,
          12.726446151733398,
          12.50359058380127,
          12.686570167541504,
          12.547359466552734,
          12.676663398742676,
          12.760111808776855,
          12.680996894836426,
          12.52561092376709,
          12.693126678466797,
          12.655381202697754,
          12.66161823272705,
          12.687049865722656,
          12.61127758026123,
          12.726105690002441,
          12.644261360168457,
          12.614073753356934,
          12.583841323852539,
          12.676952362060547,
          12.640803337097168,
          12.710112571716309,
          12.429230690002441,
          12.530435562133789,
          12.599906921386719,
          12.501787185668945,
          12.580595016479492,
          12.612876892089844,
          12.611601829528809,
          12.553201675415039,
          12.691780090332031,
          12.600333213806152,
          12.612960815429688,
          12.487866401672363,
          12.558650970458984,
          12.604208946228027,
          12.667523384094238,
          12.641404151916504,
          12.61350154876709,
          12.710694313049316,
          12.619897842407227,
          12.64833927154541,
          12.576107025146484,
          12.43960189819336,
          12.539440155029297,
          12.714895248413086,
          12.69315242767334,
          12.906025886535645,
          12.712158203125,
          12.683746337890625,
          12.649157524108887,
          12.636634826660156,
          12.558446884155273,
          12.694159507751465,
          12.68515682220459,
          12.826798439025879,
          12.728449821472168,
          12.658288955688477,
          12.89455795288086,
          12.6630859375,
          12.728118896484375,
          12.839720726013184,
          12.84702205657959,
          12.819293975830078,
          12.752683639526367,
          12.775237083435059,
          12.711075782775879,
          12.762614250183105,
          12.89780330657959,
          12.760028839111328,
          12.738349914550781,
          12.908445358276367,
          12.792283058166504,
          12.68637752532959,
          12.885555267333984,
          12.80048942565918,
          12.86214542388916,
          12.74297046661377,
          12.802827835083008,
          12.760701179504395,
          12.757914543151855,
          12.774040222167969,
          12.842730522155762,
          12.79790210723877,
          12.948219299316406,
          12.821063995361328,
          12.907174110412598,
          12.687399864196777,
          12.964266777038574,
          12.879617691040039,
          12.904975891113281,
          12.871968269348145,
          12.914407730102539,
          12.836691856384277,
          13.030635833740234,
          12.896613121032715,
          12.887895584106445,
          13.072501182556152,
          12.769474983215332,
          12.812346458435059,
          12.867810249328613,
          13.003926277160645,
          12.903573989868164,
          13.021306037902832,
          12.962711334228516,
          13.089967727661133,
          13.063446044921875,
          13.048565864562988,
          13.029433250427246,
          13.055885314941406,
          12.930342674255371,
          13.12705135345459,
          12.989836692810059,
          12.983768463134766,
          12.969947814941406,
          13.051758766174316,
          13.026460647583008,
          13.001654624938965,
          12.992541313171387,
          13.050955772399902,
          12.916345596313477,
          13.126970291137695,
          12.975031852722168,
          12.866387367248535,
          13.034969329833984,
          12.966328620910645,
          12.928520202636719,
          13.097068786621094,
          13.12578296661377,
          13.06099796295166,
          12.984792709350586,
          13.009464263916016,
          13.171102523803711,
          13.135676383972168,
          13.235539436340332,
          13.191898345947266,
          13.182730674743652,
          13.245238304138184,
          13.162942886352539,
          13.115604400634766,
          13.31059455871582,
          13.152413368225098,
          13.279092788696289,
          13.255889892578125,
          13.165694236755371,
          13.189099311828613,
          13.16252613067627,
          13.31307315826416,
          13.204915046691895,
          13.155935287475586,
          13.347195625305176,
          13.282977104187012,
          13.294279098510742,
          13.355827331542969,
          13.497605323791504,
          13.374200820922852,
          13.103130340576172,
          13.06570053100586,
          13.084132194519043,
          13.19035530090332,
          13.307307243347168,
          13.313699722290039,
          13.082351684570312,
          12.958730697631836,
          13.295537948608398,
          13.522958755493164,
          12.375938415527344,
          12.437544822692871,
          13.30202579498291,
          13.14277172088623,
          13.25216293334961
         ],
         "yaxis": "y"
        },
        {
         "customdata": [
          [
           239,
           "J346"
          ],
          [
           66424,
           "J42"
          ],
          [
           58340,
           "J42"
          ],
          [
           676,
           "J22"
          ],
          [
           287,
           "J13"
          ],
          [
           33,
           "J167"
          ],
          [
           296,
           "J22"
          ],
          [
           1962118,
           "J26"
          ],
          [
           2213,
           "120a"
          ],
          [
           196023,
           "J12"
          ],
          [
           33964,
           "J13"
          ],
          [
           2108,
           "1076b"
          ],
          [
           871324,
           "J14"
          ],
          [
           636,
           "J12"
          ],
          [
           572036,
           "J346"
          ],
          [
           2024855,
           "514b"
          ],
          [
           1685,
           "J13"
          ],
          [
           1624,
           "J13"
          ],
          [
           33885,
           "J26"
          ],
          [
           52242,
           "J13"
          ],
          [
           303,
           "1a"
          ],
          [
           1598,
           "J13"
          ],
          [
           37332,
           "J43"
          ],
          [
           42895,
           "J27"
          ],
          [
           1694,
           "J13"
          ],
          [
           74426,
           "J14"
          ],
          [
           1506,
           "104c"
          ],
          [
           714,
           "J14"
          ],
          [
           1931,
           "J42"
          ],
          [
           317,
           "1a"
          ],
          [
           1931,
           "J66"
          ],
          [
           152794,
           "J26"
          ],
          [
           1506,
           "104b"
          ],
          [
           1504,
           "J84"
          ],
          [
           1931,
           "J43"
          ],
          [
           1270,
           "J22"
          ],
          [
           390841,
           "J13"
          ],
          [
           1748,
           "J14"
          ],
          [
           306,
           "1a"
          ],
          [
           1772,
           "J26"
          ],
          [
           676,
           "J7"
          ],
          [
           1559,
           "J13"
          ],
          [
           40324,
           "J22"
          ],
          [
           80880,
           "J346"
          ],
          [
           1587,
           "J13"
          ],
          [
           1605,
           "J13"
          ],
          [
           47846,
           "J28"
          ],
          [
           676,
           "J12"
          ],
          [
           1280,
           "J14"
          ],
          [
           1488,
           "J14"
          ],
          [
           33968,
           "J13"
          ],
          [
           154117,
           "J28"
          ],
          [
           38027,
           "141c"
          ],
          [
           1681,
           "J13"
          ],
          [
           55404,
           "J42"
          ],
          [
           37326,
           "J43"
          ],
          [
           34005,
           "J156"
          ],
          [
           47715,
           "J84"
          ],
          [
           78556,
           "J118"
          ],
          [
           1604,
           "J13"
          ],
          [
           1520,
           "J84"
          ],
          [
           1504,
           "J14"
          ],
          [
           1488,
           "J84"
          ],
          [
           285,
           "J22"
          ],
          [
           546,
           "J12"
          ],
          [
           1502,
           "J13"
          ],
          [
           29427,
           "J22"
          ],
          [
           47770,
           "J13"
          ],
          [
           1613,
           "J13"
          ],
          [
           158877,
           "J12"
          ],
          [
           51671,
           "J14"
          ],
          [
           1271,
           "J26"
          ],
          [
           672,
           "J12"
          ],
          [
           1625,
           "J13"
          ]
         ],
         "hovertemplate": "Cluster=3<br>Component 1=%{x}<br>Component 2=%{y}<br>taxon_id=%{customdata[0]}<br>media_id=%{customdata[1]}<extra></extra>",
         "legendgroup": "3",
         "marker": {
          "color": "#EF553B",
          "opacity": 0.3,
          "symbol": "circle"
         },
         "mode": "markers",
         "name": "3",
         "showlegend": true,
         "type": "scattergl",
         "x": [
          8.784477233886719,
          8.882725715637207,
          8.84305191040039,
          8.482017517089844,
          8.939193725585938,
          8.922445297241211,
          8.088969230651855,
          8.626858711242676,
          8.755559921264648,
          8.172905921936035,
          8.715639114379883,
          8.944222450256348,
          8.841100692749023,
          8.865199089050293,
          8.880321502685547,
          8.864068984985352,
          8.740015029907227,
          8.985251426696777,
          8.854978561401367,
          8.78590202331543,
          8.884613990783691,
          8.762516975402832,
          9.008398056030273,
          8.856938362121582,
          9.011509895324707,
          8.188750267028809,
          8.77089786529541,
          8.931983947753906,
          8.142736434936523,
          8.697710990905762,
          8.81473445892334,
          8.989373207092285,
          8.790472984313965,
          8.230220794677734,
          8.430904388427734,
          8.352148056030273,
          8.123138427734375,
          8.817893981933594,
          8.895648002624512,
          8.67737102508545,
          8.636139869689941,
          8.869446754455566,
          8.560934066772461,
          8.62341022491455,
          8.82323169708252,
          8.655391693115234,
          8.783148765563965,
          8.906005859375,
          8.571309089660645,
          8.061820983886719,
          8.812352180480957,
          9.038561820983887,
          9.024395942687988,
          8.548362731933594,
          8.899839401245117,
          8.764019966125488,
          8.614468574523926,
          8.864829063415527,
          8.860855102539062,
          9.032593727111816,
          8.949817657470703,
          8.298243522644043,
          8.047815322875977,
          8.570206642150879,
          8.023517608642578,
          8.976348876953125,
          8.73573112487793,
          8.885598182678223,
          8.22929859161377,
          8.766927719116211,
          9.064645767211914,
          8.764389991760254,
          8.827534675598145,
          8.572129249572754
         ],
         "xaxis": "x",
         "y": [
          8.023601531982422,
          7.982405662536621,
          7.880274295806885,
          8.147526741027832,
          7.9031572341918945,
          7.964846611022949,
          8.238178253173828,
          8.123332977294922,
          8.030473709106445,
          8.271289825439453,
          8.074701309204102,
          8.073432922363281,
          8.041885375976562,
          7.874575614929199,
          7.9367995262146,
          7.980381488800049,
          8.135848045349121,
          7.895480155944824,
          7.883351802825928,
          8.067178726196289,
          8.131998062133789,
          8.055173873901367,
          7.984769344329834,
          7.9909892082214355,
          8.025343894958496,
          8.244963645935059,
          8.058817863464355,
          7.927727222442627,
          8.250894546508789,
          8.11910343170166,
          8.025336265563965,
          7.948446750640869,
          8.035709381103516,
          8.268964767456055,
          8.180492401123047,
          8.196351051330566,
          8.264334678649902,
          8.074603080749512,
          7.892984867095947,
          8.068560600280762,
          8.023456573486328,
          7.846661567687988,
          8.114212989807129,
          8.070223808288574,
          7.905296802520752,
          8.097795486450195,
          8.064164161682129,
          7.935393333435059,
          8.06849479675293,
          8.291838645935059,
          8.003406524658203,
          8.005633354187012,
          8.022671699523926,
          8.038779258728027,
          7.890276908874512,
          8.101958274841309,
          8.0991849899292,
          7.929659843444824,
          7.897275924682617,
          7.961853504180908,
          8.040595054626465,
          8.226512908935547,
          8.300092697143555,
          8.117859840393066,
          8.366578102111816,
          7.851088047027588,
          8.017826080322266,
          8.051152229309082,
          8.289615631103516,
          7.942594051361084,
          7.935693740844727,
          7.9202752113342285,
          7.997792720794678,
          8.195928573608398
         ],
         "yaxis": "y"
        }
       ],
       "layout": {
        "legend": {
         "title": {
          "text": "Cluster"
         },
         "tracegroupgap": 0
        },
        "margin": {
         "t": 60
        },
        "template": {
         "data": {
          "bar": [
           {
            "error_x": {
             "color": "#2a3f5f"
            },
            "error_y": {
             "color": "#2a3f5f"
            },
            "marker": {
             "line": {
              "color": "white",
              "width": 0.5
             },
             "pattern": {
              "fillmode": "overlay",
              "size": 10,
              "solidity": 0.2
             }
            },
            "type": "bar"
           }
          ],
          "barpolar": [
           {
            "marker": {
             "line": {
              "color": "white",
              "width": 0.5
             },
             "pattern": {
              "fillmode": "overlay",
              "size": 10,
              "solidity": 0.2
             }
            },
            "type": "barpolar"
           }
          ],
          "carpet": [
           {
            "aaxis": {
             "endlinecolor": "#2a3f5f",
             "gridcolor": "#C8D4E3",
             "linecolor": "#C8D4E3",
             "minorgridcolor": "#C8D4E3",
             "startlinecolor": "#2a3f5f"
            },
            "baxis": {
             "endlinecolor": "#2a3f5f",
             "gridcolor": "#C8D4E3",
             "linecolor": "#C8D4E3",
             "minorgridcolor": "#C8D4E3",
             "startlinecolor": "#2a3f5f"
            },
            "type": "carpet"
           }
          ],
          "choropleth": [
           {
            "colorbar": {
             "outlinewidth": 0,
             "ticks": ""
            },
            "type": "choropleth"
           }
          ],
          "contour": [
           {
            "colorbar": {
             "outlinewidth": 0,
             "ticks": ""
            },
            "colorscale": [
             [
              0,
              "#0d0887"
             ],
             [
              0.1111111111111111,
              "#46039f"
             ],
             [
              0.2222222222222222,
              "#7201a8"
             ],
             [
              0.3333333333333333,
              "#9c179e"
             ],
             [
              0.4444444444444444,
              "#bd3786"
             ],
             [
              0.5555555555555556,
              "#d8576b"
             ],
             [
              0.6666666666666666,
              "#ed7953"
             ],
             [
              0.7777777777777778,
              "#fb9f3a"
             ],
             [
              0.8888888888888888,
              "#fdca26"
             ],
             [
              1,
              "#f0f921"
             ]
            ],
            "type": "contour"
           }
          ],
          "contourcarpet": [
           {
            "colorbar": {
             "outlinewidth": 0,
             "ticks": ""
            },
            "type": "contourcarpet"
           }
          ],
          "heatmap": [
           {
            "colorbar": {
             "outlinewidth": 0,
             "ticks": ""
            },
            "colorscale": [
             [
              0,
              "#0d0887"
             ],
             [
              0.1111111111111111,
              "#46039f"
             ],
             [
              0.2222222222222222,
              "#7201a8"
             ],
             [
              0.3333333333333333,
              "#9c179e"
             ],
             [
              0.4444444444444444,
              "#bd3786"
             ],
             [
              0.5555555555555556,
              "#d8576b"
             ],
             [
              0.6666666666666666,
              "#ed7953"
             ],
             [
              0.7777777777777778,
              "#fb9f3a"
             ],
             [
              0.8888888888888888,
              "#fdca26"
             ],
             [
              1,
              "#f0f921"
             ]
            ],
            "type": "heatmap"
           }
          ],
          "heatmapgl": [
           {
            "colorbar": {
             "outlinewidth": 0,
             "ticks": ""
            },
            "colorscale": [
             [
              0,
              "#0d0887"
             ],
             [
              0.1111111111111111,
              "#46039f"
             ],
             [
              0.2222222222222222,
              "#7201a8"
             ],
             [
              0.3333333333333333,
              "#9c179e"
             ],
             [
              0.4444444444444444,
              "#bd3786"
             ],
             [
              0.5555555555555556,
              "#d8576b"
             ],
             [
              0.6666666666666666,
              "#ed7953"
             ],
             [
              0.7777777777777778,
              "#fb9f3a"
             ],
             [
              0.8888888888888888,
              "#fdca26"
             ],
             [
              1,
              "#f0f921"
             ]
            ],
            "type": "heatmapgl"
           }
          ],
          "histogram": [
           {
            "marker": {
             "pattern": {
              "fillmode": "overlay",
              "size": 10,
              "solidity": 0.2
             }
            },
            "type": "histogram"
           }
          ],
          "histogram2d": [
           {
            "colorbar": {
             "outlinewidth": 0,
             "ticks": ""
            },
            "colorscale": [
             [
              0,
              "#0d0887"
             ],
             [
              0.1111111111111111,
              "#46039f"
             ],
             [
              0.2222222222222222,
              "#7201a8"
             ],
             [
              0.3333333333333333,
              "#9c179e"
             ],
             [
              0.4444444444444444,
              "#bd3786"
             ],
             [
              0.5555555555555556,
              "#d8576b"
             ],
             [
              0.6666666666666666,
              "#ed7953"
             ],
             [
              0.7777777777777778,
              "#fb9f3a"
             ],
             [
              0.8888888888888888,
              "#fdca26"
             ],
             [
              1,
              "#f0f921"
             ]
            ],
            "type": "histogram2d"
           }
          ],
          "histogram2dcontour": [
           {
            "colorbar": {
             "outlinewidth": 0,
             "ticks": ""
            },
            "colorscale": [
             [
              0,
              "#0d0887"
             ],
             [
              0.1111111111111111,
              "#46039f"
             ],
             [
              0.2222222222222222,
              "#7201a8"
             ],
             [
              0.3333333333333333,
              "#9c179e"
             ],
             [
              0.4444444444444444,
              "#bd3786"
             ],
             [
              0.5555555555555556,
              "#d8576b"
             ],
             [
              0.6666666666666666,
              "#ed7953"
             ],
             [
              0.7777777777777778,
              "#fb9f3a"
             ],
             [
              0.8888888888888888,
              "#fdca26"
             ],
             [
              1,
              "#f0f921"
             ]
            ],
            "type": "histogram2dcontour"
           }
          ],
          "mesh3d": [
           {
            "colorbar": {
             "outlinewidth": 0,
             "ticks": ""
            },
            "type": "mesh3d"
           }
          ],
          "parcoords": [
           {
            "line": {
             "colorbar": {
              "outlinewidth": 0,
              "ticks": ""
             }
            },
            "type": "parcoords"
           }
          ],
          "pie": [
           {
            "automargin": true,
            "type": "pie"
           }
          ],
          "scatter": [
           {
            "fillpattern": {
             "fillmode": "overlay",
             "size": 10,
             "solidity": 0.2
            },
            "type": "scatter"
           }
          ],
          "scatter3d": [
           {
            "line": {
             "colorbar": {
              "outlinewidth": 0,
              "ticks": ""
             }
            },
            "marker": {
             "colorbar": {
              "outlinewidth": 0,
              "ticks": ""
             }
            },
            "type": "scatter3d"
           }
          ],
          "scattercarpet": [
           {
            "marker": {
             "colorbar": {
              "outlinewidth": 0,
              "ticks": ""
             }
            },
            "type": "scattercarpet"
           }
          ],
          "scattergeo": [
           {
            "marker": {
             "colorbar": {
              "outlinewidth": 0,
              "ticks": ""
             }
            },
            "type": "scattergeo"
           }
          ],
          "scattergl": [
           {
            "marker": {
             "colorbar": {
              "outlinewidth": 0,
              "ticks": ""
             }
            },
            "type": "scattergl"
           }
          ],
          "scattermapbox": [
           {
            "marker": {
             "colorbar": {
              "outlinewidth": 0,
              "ticks": ""
             }
            },
            "type": "scattermapbox"
           }
          ],
          "scatterpolar": [
           {
            "marker": {
             "colorbar": {
              "outlinewidth": 0,
              "ticks": ""
             }
            },
            "type": "scatterpolar"
           }
          ],
          "scatterpolargl": [
           {
            "marker": {
             "colorbar": {
              "outlinewidth": 0,
              "ticks": ""
             }
            },
            "type": "scatterpolargl"
           }
          ],
          "scatterternary": [
           {
            "marker": {
             "colorbar": {
              "outlinewidth": 0,
              "ticks": ""
             }
            },
            "type": "scatterternary"
           }
          ],
          "surface": [
           {
            "colorbar": {
             "outlinewidth": 0,
             "ticks": ""
            },
            "colorscale": [
             [
              0,
              "#0d0887"
             ],
             [
              0.1111111111111111,
              "#46039f"
             ],
             [
              0.2222222222222222,
              "#7201a8"
             ],
             [
              0.3333333333333333,
              "#9c179e"
             ],
             [
              0.4444444444444444,
              "#bd3786"
             ],
             [
              0.5555555555555556,
              "#d8576b"
             ],
             [
              0.6666666666666666,
              "#ed7953"
             ],
             [
              0.7777777777777778,
              "#fb9f3a"
             ],
             [
              0.8888888888888888,
              "#fdca26"
             ],
             [
              1,
              "#f0f921"
             ]
            ],
            "type": "surface"
           }
          ],
          "table": [
           {
            "cells": {
             "fill": {
              "color": "#EBF0F8"
             },
             "line": {
              "color": "white"
             }
            },
            "header": {
             "fill": {
              "color": "#C8D4E3"
             },
             "line": {
              "color": "white"
             }
            },
            "type": "table"
           }
          ]
         },
         "layout": {
          "annotationdefaults": {
           "arrowcolor": "#2a3f5f",
           "arrowhead": 0,
           "arrowwidth": 1
          },
          "autotypenumbers": "strict",
          "coloraxis": {
           "colorbar": {
            "outlinewidth": 0,
            "ticks": ""
           }
          },
          "colorscale": {
           "diverging": [
            [
             0,
             "#8e0152"
            ],
            [
             0.1,
             "#c51b7d"
            ],
            [
             0.2,
             "#de77ae"
            ],
            [
             0.3,
             "#f1b6da"
            ],
            [
             0.4,
             "#fde0ef"
            ],
            [
             0.5,
             "#f7f7f7"
            ],
            [
             0.6,
             "#e6f5d0"
            ],
            [
             0.7,
             "#b8e186"
            ],
            [
             0.8,
             "#7fbc41"
            ],
            [
             0.9,
             "#4d9221"
            ],
            [
             1,
             "#276419"
            ]
           ],
           "sequential": [
            [
             0,
             "#0d0887"
            ],
            [
             0.1111111111111111,
             "#46039f"
            ],
            [
             0.2222222222222222,
             "#7201a8"
            ],
            [
             0.3333333333333333,
             "#9c179e"
            ],
            [
             0.4444444444444444,
             "#bd3786"
            ],
            [
             0.5555555555555556,
             "#d8576b"
            ],
            [
             0.6666666666666666,
             "#ed7953"
            ],
            [
             0.7777777777777778,
             "#fb9f3a"
            ],
            [
             0.8888888888888888,
             "#fdca26"
            ],
            [
             1,
             "#f0f921"
            ]
           ],
           "sequentialminus": [
            [
             0,
             "#0d0887"
            ],
            [
             0.1111111111111111,
             "#46039f"
            ],
            [
             0.2222222222222222,
             "#7201a8"
            ],
            [
             0.3333333333333333,
             "#9c179e"
            ],
            [
             0.4444444444444444,
             "#bd3786"
            ],
            [
             0.5555555555555556,
             "#d8576b"
            ],
            [
             0.6666666666666666,
             "#ed7953"
            ],
            [
             0.7777777777777778,
             "#fb9f3a"
            ],
            [
             0.8888888888888888,
             "#fdca26"
            ],
            [
             1,
             "#f0f921"
            ]
           ]
          },
          "colorway": [
           "#636efa",
           "#EF553B",
           "#00cc96",
           "#ab63fa",
           "#FFA15A",
           "#19d3f3",
           "#FF6692",
           "#B6E880",
           "#FF97FF",
           "#FECB52"
          ],
          "font": {
           "color": "#2a3f5f"
          },
          "geo": {
           "bgcolor": "white",
           "lakecolor": "white",
           "landcolor": "white",
           "showlakes": true,
           "showland": true,
           "subunitcolor": "#C8D4E3"
          },
          "hoverlabel": {
           "align": "left"
          },
          "hovermode": "closest",
          "mapbox": {
           "style": "light"
          },
          "paper_bgcolor": "white",
          "plot_bgcolor": "white",
          "polar": {
           "angularaxis": {
            "gridcolor": "#EBF0F8",
            "linecolor": "#EBF0F8",
            "ticks": ""
           },
           "bgcolor": "white",
           "radialaxis": {
            "gridcolor": "#EBF0F8",
            "linecolor": "#EBF0F8",
            "ticks": ""
           }
          },
          "scene": {
           "xaxis": {
            "backgroundcolor": "white",
            "gridcolor": "#DFE8F3",
            "gridwidth": 2,
            "linecolor": "#EBF0F8",
            "showbackground": true,
            "ticks": "",
            "zerolinecolor": "#EBF0F8"
           },
           "yaxis": {
            "backgroundcolor": "white",
            "gridcolor": "#DFE8F3",
            "gridwidth": 2,
            "linecolor": "#EBF0F8",
            "showbackground": true,
            "ticks": "",
            "zerolinecolor": "#EBF0F8"
           },
           "zaxis": {
            "backgroundcolor": "white",
            "gridcolor": "#DFE8F3",
            "gridwidth": 2,
            "linecolor": "#EBF0F8",
            "showbackground": true,
            "ticks": "",
            "zerolinecolor": "#EBF0F8"
           }
          },
          "shapedefaults": {
           "line": {
            "color": "#2a3f5f"
           }
          },
          "ternary": {
           "aaxis": {
            "gridcolor": "#DFE8F3",
            "linecolor": "#A2B1C6",
            "ticks": ""
           },
           "baxis": {
            "gridcolor": "#DFE8F3",
            "linecolor": "#A2B1C6",
            "ticks": ""
           },
           "bgcolor": "white",
           "caxis": {
            "gridcolor": "#DFE8F3",
            "linecolor": "#A2B1C6",
            "ticks": ""
           }
          },
          "title": {
           "x": 0.05
          },
          "xaxis": {
           "automargin": true,
           "gridcolor": "#EBF0F8",
           "linecolor": "#EBF0F8",
           "ticks": "",
           "title": {
            "standoff": 15
           },
           "zerolinecolor": "#EBF0F8",
           "zerolinewidth": 2
          },
          "yaxis": {
           "automargin": true,
           "gridcolor": "#EBF0F8",
           "linecolor": "#EBF0F8",
           "ticks": "",
           "title": {
            "standoff": 15
           },
           "zerolinecolor": "#EBF0F8",
           "zerolinewidth": 2
          }
         }
        },
        "title": {
         "text": "Media Clusters (12 dimensions)"
        },
        "xaxis": {
         "anchor": "y",
         "domain": [
          0,
          1
         ],
         "title": {
          "text": "Component 1"
         }
        },
        "yaxis": {
         "anchor": "x",
         "domain": [
          0,
          1
         ],
         "title": {
          "text": "Component 2"
         }
        }
       }
      }
     },
     "metadata": {},
     "output_type": "display_data"
    }
   ],
   "source": [
    "# Plot the training points\n",
    "fig = px.scatter(\n",
    "    data_frame = reduced_df,\n",
    "    x = \"Component 1\",\n",
    "    y = \"Component 2\",\n",
    "    color = \"Cluster\",\n",
    "    hover_data = [\"taxon_id\", \"media_id\"],\n",
    "    opacity = 0.3\n",
    ") \n",
    "\n",
    "fig.update_layout(\n",
    "    title=\"Media Clusters (12 dimensions)\",\n",
    "    template=\"plotly_white\"\n",
    ")\n",
    "\n",
    "fig.show()"
   ]
  }
 ],
 "metadata": {
  "kernelspec": {
   "display_name": "media",
   "language": "python",
   "name": "python3"
  },
  "language_info": {
   "codemirror_mode": {
    "name": "ipython",
    "version": 3
   },
   "file_extension": ".py",
   "mimetype": "text/x-python",
   "name": "python",
   "nbconvert_exporter": "python",
   "pygments_lexer": "ipython3",
   "version": "3.12.3"
  }
 },
 "nbformat": 4,
 "nbformat_minor": 2
}
