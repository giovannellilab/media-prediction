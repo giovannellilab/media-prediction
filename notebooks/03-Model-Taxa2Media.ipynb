{
 "cells": [
  {
   "cell_type": "markdown",
   "metadata": {},
   "source": [
    "# Predict taxa from media components"
   ]
  },
  {
   "cell_type": "code",
   "execution_count": 1,
   "metadata": {},
   "outputs": [],
   "source": [
    "# Add higher directory to python modules path\n",
    "\n",
    "import sys\n",
    "\n",
    "sys.path.append(\"..\")"
   ]
  },
  {
   "cell_type": "code",
   "execution_count": 2,
   "metadata": {},
   "outputs": [],
   "source": [
    "import os\n",
    "\n",
    "import pandas as pd\n",
    "\n",
    "from matplotlib import pyplot as plt\n",
    "\n",
    "import plotly.express as px\n",
    "\n",
    "from sklearn.cluster import KMeans\n",
    "\n",
    "import umap"
   ]
  },
  {
   "cell_type": "code",
   "execution_count": 3,
   "metadata": {},
   "outputs": [],
   "source": [
    "TARGET_VAR = \"media_id\"\n",
    "\n",
    "DATA_DIR = \"../data/\"\n",
    "CLUSTER_FILE = \"ml_input-taxa2component-donato.csv\"\n",
    "\n",
    "RANDOM_SEED = 666\n",
    "\n",
    "# UMAP parameters\n",
    "UMAP_METRIC = \"euclidean\"\n",
    "UMAP_SEED = 42"
   ]
  },
  {
   "cell_type": "markdown",
   "metadata": {},
   "source": [
    "## Data preprocessing\n",
    "\n",
    "**WARNING**: This preprocessing should be done in previous steps!\n"
   ]
  },
  {
   "cell_type": "code",
   "execution_count": 4,
   "metadata": {},
   "outputs": [
    {
     "data": {
      "text/html": [
       "<div>\n",
       "<style scoped>\n",
       "    .dataframe tbody tr th:only-of-type {\n",
       "        vertical-align: middle;\n",
       "    }\n",
       "\n",
       "    .dataframe tbody tr th {\n",
       "        vertical-align: top;\n",
       "    }\n",
       "\n",
       "    .dataframe thead th {\n",
       "        text-align: right;\n",
       "    }\n",
       "</style>\n",
       "<table border=\"1\" class=\"dataframe\">\n",
       "  <thead>\n",
       "    <tr style=\"text-align: right;\">\n",
       "      <th></th>\n",
       "      <th>dsmz_id</th>\n",
       "      <th>taxon_id</th>\n",
       "      <th>organism_name</th>\n",
       "      <th>media_name</th>\n",
       "      <th>genus</th>\n",
       "      <th>media_id</th>\n",
       "    </tr>\n",
       "  </thead>\n",
       "  <tbody>\n",
       "    <tr>\n",
       "      <th>0</th>\n",
       "      <td>6268</td>\n",
       "      <td>nan</td>\n",
       "      <td>NaN</td>\n",
       "      <td>Substrate for DSM 6268</td>\n",
       "      <td>NaN</td>\n",
       "      <td>8044</td>\n",
       "    </tr>\n",
       "    <tr>\n",
       "      <th>1</th>\n",
       "      <td>9849</td>\n",
       "      <td>46125</td>\n",
       "      <td>Abiotrophia defectiva</td>\n",
       "      <td>PYG-MEDIUM (modified)</td>\n",
       "      <td>Abiotrophia</td>\n",
       "      <td>8611</td>\n",
       "    </tr>\n",
       "    <tr>\n",
       "      <th>2</th>\n",
       "      <td>14247</td>\n",
       "      <td>291968</td>\n",
       "      <td>Acaricomes phytoseiuli</td>\n",
       "      <td>TRYPTICASE SOY Yeast extract medium</td>\n",
       "      <td>Acaricomes</td>\n",
       "      <td>880</td>\n",
       "    </tr>\n",
       "    <tr>\n",
       "      <th>3</th>\n",
       "      <td>23669</td>\n",
       "      <td>nan</td>\n",
       "      <td>Acetatifactor muris</td>\n",
       "      <td>For DSM 23669</td>\n",
       "      <td>Acetatifactor</td>\n",
       "      <td>5114</td>\n",
       "    </tr>\n",
       "    <tr>\n",
       "      <th>4</th>\n",
       "      <td>5522</td>\n",
       "      <td>2382</td>\n",
       "      <td>Acetitomaculum ruminis</td>\n",
       "      <td>ACETITOMACULUM medium | METHANOBACTERIUM medium</td>\n",
       "      <td>Acetitomaculum</td>\n",
       "      <td>7890</td>\n",
       "    </tr>\n",
       "    <tr>\n",
       "      <th>...</th>\n",
       "      <td>...</td>\n",
       "      <td>...</td>\n",
       "      <td>...</td>\n",
       "      <td>...</td>\n",
       "      <td>...</td>\n",
       "      <td>...</td>\n",
       "    </tr>\n",
       "    <tr>\n",
       "      <th>8623</th>\n",
       "      <td>473</td>\n",
       "      <td>120045</td>\n",
       "      <td>Zymomonas mobilis subsp. mobilis</td>\n",
       "      <td>ZYMOMONAS medium</td>\n",
       "      <td>Zymomonas</td>\n",
       "      <td>7701</td>\n",
       "    </tr>\n",
       "    <tr>\n",
       "      <th>8624</th>\n",
       "      <td>22645</td>\n",
       "      <td>120044</td>\n",
       "      <td>Zymomonas mobilis subsp. pomaceae</td>\n",
       "      <td>ZYMOMONAS medium</td>\n",
       "      <td>Zymomonas</td>\n",
       "      <td>4683</td>\n",
       "    </tr>\n",
       "    <tr>\n",
       "      <th>8625</th>\n",
       "      <td>7201</td>\n",
       "      <td>86958</td>\n",
       "      <td>Zymophilus paucivorans</td>\n",
       "      <td>MEDIUM 58 MODIFIED FOR DSM 7201</td>\n",
       "      <td>Zymophilus</td>\n",
       "      <td>8275</td>\n",
       "    </tr>\n",
       "    <tr>\n",
       "      <th>8626</th>\n",
       "      <td>20765</td>\n",
       "      <td>86959</td>\n",
       "      <td>Zymophilus raffinosivorans</td>\n",
       "      <td>MEDIUM 58 MODIFIED FOR DSM 20765</td>\n",
       "      <td>Zymophilus</td>\n",
       "      <td>3910</td>\n",
       "    </tr>\n",
       "    <tr>\n",
       "      <th>8627</th>\n",
       "      <td>14454</td>\n",
       "      <td>nan</td>\n",
       "      <td>unclassified bacterium</td>\n",
       "      <td>For DSM 14454</td>\n",
       "      <td>unclassified</td>\n",
       "      <td>939</td>\n",
       "    </tr>\n",
       "  </tbody>\n",
       "</table>\n",
       "<p>8628 rows × 6 columns</p>\n",
       "</div>"
      ],
      "text/plain": [
       "     dsmz_id taxon_id                      organism_name  \\\n",
       "0       6268      nan                                NaN   \n",
       "1       9849    46125              Abiotrophia defectiva   \n",
       "2      14247   291968             Acaricomes phytoseiuli   \n",
       "3      23669      nan                Acetatifactor muris   \n",
       "4       5522     2382             Acetitomaculum ruminis   \n",
       "...      ...      ...                                ...   \n",
       "8623     473   120045   Zymomonas mobilis subsp. mobilis   \n",
       "8624   22645   120044  Zymomonas mobilis subsp. pomaceae   \n",
       "8625    7201    86958             Zymophilus paucivorans   \n",
       "8626   20765    86959         Zymophilus raffinosivorans   \n",
       "8627   14454      nan             unclassified bacterium   \n",
       "\n",
       "                                           media_name           genus  \\\n",
       "0                              Substrate for DSM 6268             NaN   \n",
       "1                               PYG-MEDIUM (modified)     Abiotrophia   \n",
       "2                 TRYPTICASE SOY Yeast extract medium      Acaricomes   \n",
       "3                                       For DSM 23669   Acetatifactor   \n",
       "4     ACETITOMACULUM medium | METHANOBACTERIUM medium  Acetitomaculum   \n",
       "...                                               ...             ...   \n",
       "8623                                 ZYMOMONAS medium       Zymomonas   \n",
       "8624                                 ZYMOMONAS medium       Zymomonas   \n",
       "8625                  MEDIUM 58 MODIFIED FOR DSM 7201      Zymophilus   \n",
       "8626                 MEDIUM 58 MODIFIED FOR DSM 20765      Zymophilus   \n",
       "8627                                    For DSM 14454    unclassified   \n",
       "\n",
       "      media_id  \n",
       "0         8044  \n",
       "1         8611  \n",
       "2          880  \n",
       "3         5114  \n",
       "4         7890  \n",
       "...        ...  \n",
       "8623      7701  \n",
       "8624      4683  \n",
       "8625      8275  \n",
       "8626      3910  \n",
       "8627       939  \n",
       "\n",
       "[8628 rows x 6 columns]"
      ]
     },
     "execution_count": 4,
     "metadata": {},
     "output_type": "execute_result"
    }
   ],
   "source": [
    "komodo_df = pd.read_csv(\n",
    "    os.path.join(\n",
    "        DATA_DIR,\n",
    "        \"komodo\",\n",
    "        \"komodo_taxa.txt\"\n",
    "    ),\n",
    "    sep=\"\\t\"\n",
    ")\n",
    "\n",
    "# Transform taxon_id column to string for plotting\n",
    "komodo_df[\"taxon_id\"] = komodo_df[\"taxon_id\"].astype(str).str.replace(\".0\", \"\")\n",
    "\n",
    "# Add genus column\n",
    "komodo_df[\"genus\"] = komodo_df[\"organism_name\"].str.split(\" \").str[0]\n",
    "\n",
    "# Get media column as a category\n",
    "komodo_df[\"dsmz_id\"] = komodo_df[\"dsmz_id\"].astype(\"category\")\n",
    "komodo_df[\"media_id\"] = komodo_df[\"dsmz_id\"].cat.codes\n",
    "\n",
    "komodo_df"
   ]
  },
  {
   "cell_type": "code",
   "execution_count": 5,
   "metadata": {},
   "outputs": [
    {
     "data": {
      "text/html": [
       "<div>\n",
       "<style scoped>\n",
       "    .dataframe tbody tr th:only-of-type {\n",
       "        vertical-align: middle;\n",
       "    }\n",
       "\n",
       "    .dataframe tbody tr th {\n",
       "        vertical-align: top;\n",
       "    }\n",
       "\n",
       "    .dataframe thead th {\n",
       "        text-align: right;\n",
       "    }\n",
       "</style>\n",
       "<table border=\"1\" class=\"dataframe\">\n",
       "  <thead>\n",
       "    <tr style=\"text-align: right;\">\n",
       "      <th></th>\n",
       "      <th>entryType</th>\n",
       "      <th>primaryAccession</th>\n",
       "      <th>uniProtkbId</th>\n",
       "      <th>taxon_id</th>\n",
       "      <th>fullName</th>\n",
       "      <th>ec_numbers</th>\n",
       "    </tr>\n",
       "  </thead>\n",
       "  <tbody>\n",
       "    <tr>\n",
       "      <th>1</th>\n",
       "      <td>UniProtKB unreviewed (TrEMBL)</td>\n",
       "      <td>A0A929MPR1</td>\n",
       "      <td>A0A929MPR1_ABIDE</td>\n",
       "      <td>46125</td>\n",
       "      <td>CTP synthase</td>\n",
       "      <td>6.3.4.2</td>\n",
       "    </tr>\n",
       "    <tr>\n",
       "      <th>3</th>\n",
       "      <td>UniProtKB unreviewed (TrEMBL)</td>\n",
       "      <td>A0A929QT52</td>\n",
       "      <td>A0A929QT52_ABIDE</td>\n",
       "      <td>46125</td>\n",
       "      <td>Aspartate-semialdehyde dehydrogenase</td>\n",
       "      <td>1.2.1.11</td>\n",
       "    </tr>\n",
       "    <tr>\n",
       "      <th>5</th>\n",
       "      <td>UniProtKB unreviewed (TrEMBL)</td>\n",
       "      <td>A0A929MMJ5</td>\n",
       "      <td>A0A929MMJ5_ABIDE</td>\n",
       "      <td>46125</td>\n",
       "      <td>Dihydroorotate dehydrogenase</td>\n",
       "      <td>1.3.-.-</td>\n",
       "    </tr>\n",
       "    <tr>\n",
       "      <th>6</th>\n",
       "      <td>UniProtKB unreviewed (TrEMBL)</td>\n",
       "      <td>A0A929MMW4</td>\n",
       "      <td>A0A929MMW4_ABIDE</td>\n",
       "      <td>46125</td>\n",
       "      <td>Glycerol-3-phosphate dehydrogenase [NAD(P)+]</td>\n",
       "      <td>1.1.1.94</td>\n",
       "    </tr>\n",
       "    <tr>\n",
       "      <th>7</th>\n",
       "      <td>UniProtKB unreviewed (TrEMBL)</td>\n",
       "      <td>A0A929MMY6</td>\n",
       "      <td>A0A929MMY6_ABIDE</td>\n",
       "      <td>46125</td>\n",
       "      <td>Lipid II isoglutaminyl synthase (glutamine-hyd...</td>\n",
       "      <td>6.3.5.13</td>\n",
       "    </tr>\n",
       "    <tr>\n",
       "      <th>...</th>\n",
       "      <td>...</td>\n",
       "      <td>...</td>\n",
       "      <td>...</td>\n",
       "      <td>...</td>\n",
       "      <td>...</td>\n",
       "      <td>...</td>\n",
       "    </tr>\n",
       "    <tr>\n",
       "      <th>8467</th>\n",
       "      <td>UniProtKB unreviewed (TrEMBL)</td>\n",
       "      <td>A0A1H9CYL9</td>\n",
       "      <td>A0A1H9CYL9_9GAMM</td>\n",
       "      <td>355243</td>\n",
       "      <td>Lipoyl synthase</td>\n",
       "      <td>2.8.1.8</td>\n",
       "    </tr>\n",
       "    <tr>\n",
       "      <th>8468</th>\n",
       "      <td>UniProtKB unreviewed (TrEMBL)</td>\n",
       "      <td>A0A1H9CZ15</td>\n",
       "      <td>A0A1H9CZ15_9GAMM</td>\n",
       "      <td>355243</td>\n",
       "      <td>Serine hydroxymethyltransferase</td>\n",
       "      <td>2.1.2.1</td>\n",
       "    </tr>\n",
       "    <tr>\n",
       "      <th>8470</th>\n",
       "      <td>UniProtKB unreviewed (TrEMBL)</td>\n",
       "      <td>A0A1H9D344</td>\n",
       "      <td>A0A1H9D344_9GAMM</td>\n",
       "      <td>355243</td>\n",
       "      <td>NAD-dependent protein deacylase</td>\n",
       "      <td>2.3.1.286</td>\n",
       "    </tr>\n",
       "    <tr>\n",
       "      <th>8471</th>\n",
       "      <td>UniProtKB unreviewed (TrEMBL)</td>\n",
       "      <td>B5A820</td>\n",
       "      <td>B5A820_AMYAL</td>\n",
       "      <td>76020</td>\n",
       "      <td>DNA topoisomerase (ATP-hydrolyzing)</td>\n",
       "      <td>5.6.2.2</td>\n",
       "    </tr>\n",
       "    <tr>\n",
       "      <th>8474</th>\n",
       "      <td>UniProtKB unreviewed (TrEMBL)</td>\n",
       "      <td>B5A821</td>\n",
       "      <td>B5A821_9PSEU</td>\n",
       "      <td>102226</td>\n",
       "      <td>DNA topoisomerase (ATP-hydrolyzing)</td>\n",
       "      <td>5.6.2.2</td>\n",
       "    </tr>\n",
       "  </tbody>\n",
       "</table>\n",
       "<p>5760 rows × 6 columns</p>\n",
       "</div>"
      ],
      "text/plain": [
       "                          entryType primaryAccession       uniProtkbId  \\\n",
       "1     UniProtKB unreviewed (TrEMBL)       A0A929MPR1  A0A929MPR1_ABIDE   \n",
       "3     UniProtKB unreviewed (TrEMBL)       A0A929QT52  A0A929QT52_ABIDE   \n",
       "5     UniProtKB unreviewed (TrEMBL)       A0A929MMJ5  A0A929MMJ5_ABIDE   \n",
       "6     UniProtKB unreviewed (TrEMBL)       A0A929MMW4  A0A929MMW4_ABIDE   \n",
       "7     UniProtKB unreviewed (TrEMBL)       A0A929MMY6  A0A929MMY6_ABIDE   \n",
       "...                             ...              ...               ...   \n",
       "8467  UniProtKB unreviewed (TrEMBL)       A0A1H9CYL9  A0A1H9CYL9_9GAMM   \n",
       "8468  UniProtKB unreviewed (TrEMBL)       A0A1H9CZ15  A0A1H9CZ15_9GAMM   \n",
       "8470  UniProtKB unreviewed (TrEMBL)       A0A1H9D344  A0A1H9D344_9GAMM   \n",
       "8471  UniProtKB unreviewed (TrEMBL)           B5A820      B5A820_AMYAL   \n",
       "8474  UniProtKB unreviewed (TrEMBL)           B5A821      B5A821_9PSEU   \n",
       "\n",
       "     taxon_id                                           fullName ec_numbers  \n",
       "1       46125                                       CTP synthase    6.3.4.2  \n",
       "3       46125               Aspartate-semialdehyde dehydrogenase   1.2.1.11  \n",
       "5       46125                       Dihydroorotate dehydrogenase    1.3.-.-  \n",
       "6       46125       Glycerol-3-phosphate dehydrogenase [NAD(P)+]   1.1.1.94  \n",
       "7       46125  Lipid II isoglutaminyl synthase (glutamine-hyd...   6.3.5.13  \n",
       "...       ...                                                ...        ...  \n",
       "8467   355243                                    Lipoyl synthase    2.8.1.8  \n",
       "8468   355243                    Serine hydroxymethyltransferase    2.1.2.1  \n",
       "8470   355243                    NAD-dependent protein deacylase  2.3.1.286  \n",
       "8471    76020                DNA topoisomerase (ATP-hydrolyzing)    5.6.2.2  \n",
       "8474   102226                DNA topoisomerase (ATP-hydrolyzing)    5.6.2.2  \n",
       "\n",
       "[5760 rows x 6 columns]"
      ]
     },
     "execution_count": 5,
     "metadata": {},
     "output_type": "execute_result"
    }
   ],
   "source": [
    "uniprot_df = pd.read_csv(\n",
    "    os.path.join(\n",
    "        DATA_DIR,\n",
    "        \"uniprot\",\n",
    "        \"komodo_taxon_to_uniprot_ec.csv\"\n",
    "    )\n",
    ")\n",
    "\n",
    "uniprot_df[\"taxonId\"] = uniprot_df[\"taxonId\"].astype(str)\n",
    "uniprot_df = uniprot_df.rename(columns={\n",
    "    \"taxonId\": \"taxon_id\",\n",
    "    \"ecNumbers\": \"ec_numbers\"\n",
    "})\n",
    "\n",
    "# Drop all data points that do not contain an EC number\n",
    "uniprot_df = uniprot_df.dropna(subset=\"ec_numbers\")\n",
    "uniprot_df"
   ]
  },
  {
   "cell_type": "code",
   "execution_count": 6,
   "metadata": {},
   "outputs": [
    {
     "data": {
      "text/html": [
       "<div>\n",
       "<style scoped>\n",
       "    .dataframe tbody tr th:only-of-type {\n",
       "        vertical-align: middle;\n",
       "    }\n",
       "\n",
       "    .dataframe tbody tr th {\n",
       "        vertical-align: top;\n",
       "    }\n",
       "\n",
       "    .dataframe thead th {\n",
       "        text-align: right;\n",
       "    }\n",
       "</style>\n",
       "<table border=\"1\" class=\"dataframe\">\n",
       "  <thead>\n",
       "    <tr style=\"text-align: right;\">\n",
       "      <th>ec_numbers</th>\n",
       "      <th>taxon_id</th>\n",
       "      <th>media_id</th>\n",
       "      <th>1.-.-.-</th>\n",
       "      <th>1.1.-.-</th>\n",
       "      <th>1.1.1.100</th>\n",
       "      <th>1.1.1.133</th>\n",
       "      <th>1.1.1.135</th>\n",
       "      <th>1.1.1.205</th>\n",
       "      <th>1.1.1.25</th>\n",
       "      <th>1.1.1.262</th>\n",
       "      <th>...</th>\n",
       "      <th>7.2.1.1</th>\n",
       "      <th>7.2.2.14</th>\n",
       "      <th>7.2.2.6</th>\n",
       "      <th>7.2.2.7</th>\n",
       "      <th>7.2.3.1</th>\n",
       "      <th>7.3.2.1</th>\n",
       "      <th>7.3.2.2</th>\n",
       "      <th>7.4.2.5</th>\n",
       "      <th>7.4.2.8</th>\n",
       "      <th>7.6.2.-</th>\n",
       "    </tr>\n",
       "  </thead>\n",
       "  <tbody>\n",
       "    <tr>\n",
       "      <th>0</th>\n",
       "      <td>100469</td>\n",
       "      <td>1377</td>\n",
       "      <td>0.0</td>\n",
       "      <td>0.0</td>\n",
       "      <td>0.0</td>\n",
       "      <td>0.0</td>\n",
       "      <td>0.0</td>\n",
       "      <td>0.0</td>\n",
       "      <td>0.0</td>\n",
       "      <td>0.0</td>\n",
       "      <td>...</td>\n",
       "      <td>0.0</td>\n",
       "      <td>0.0</td>\n",
       "      <td>0.0</td>\n",
       "      <td>0.0</td>\n",
       "      <td>0.0</td>\n",
       "      <td>0.0</td>\n",
       "      <td>0.0</td>\n",
       "      <td>0.0</td>\n",
       "      <td>0.0</td>\n",
       "      <td>0.0</td>\n",
       "    </tr>\n",
       "    <tr>\n",
       "      <th>1</th>\n",
       "      <td>102226</td>\n",
       "      <td>7013</td>\n",
       "      <td>0.0</td>\n",
       "      <td>0.0</td>\n",
       "      <td>0.0</td>\n",
       "      <td>0.0</td>\n",
       "      <td>0.0</td>\n",
       "      <td>0.0</td>\n",
       "      <td>0.0</td>\n",
       "      <td>0.0</td>\n",
       "      <td>...</td>\n",
       "      <td>0.0</td>\n",
       "      <td>0.0</td>\n",
       "      <td>0.0</td>\n",
       "      <td>0.0</td>\n",
       "      <td>0.0</td>\n",
       "      <td>0.0</td>\n",
       "      <td>0.0</td>\n",
       "      <td>0.0</td>\n",
       "      <td>0.0</td>\n",
       "      <td>0.0</td>\n",
       "    </tr>\n",
       "    <tr>\n",
       "      <th>2</th>\n",
       "      <td>1034</td>\n",
       "      <td>8324</td>\n",
       "      <td>0.0</td>\n",
       "      <td>0.0</td>\n",
       "      <td>0.0</td>\n",
       "      <td>0.0</td>\n",
       "      <td>0.0</td>\n",
       "      <td>0.0</td>\n",
       "      <td>0.0</td>\n",
       "      <td>0.0</td>\n",
       "      <td>...</td>\n",
       "      <td>0.0</td>\n",
       "      <td>0.0</td>\n",
       "      <td>0.0</td>\n",
       "      <td>0.0</td>\n",
       "      <td>0.0</td>\n",
       "      <td>0.0</td>\n",
       "      <td>0.0</td>\n",
       "      <td>0.0</td>\n",
       "      <td>0.0</td>\n",
       "      <td>0.0</td>\n",
       "    </tr>\n",
       "    <tr>\n",
       "      <th>3</th>\n",
       "      <td>1035</td>\n",
       "      <td>8327</td>\n",
       "      <td>0.0</td>\n",
       "      <td>0.0</td>\n",
       "      <td>0.0</td>\n",
       "      <td>0.0</td>\n",
       "      <td>0.0</td>\n",
       "      <td>0.0</td>\n",
       "      <td>0.0</td>\n",
       "      <td>0.0</td>\n",
       "      <td>...</td>\n",
       "      <td>0.0</td>\n",
       "      <td>0.0</td>\n",
       "      <td>0.0</td>\n",
       "      <td>0.0</td>\n",
       "      <td>0.0</td>\n",
       "      <td>0.0</td>\n",
       "      <td>0.0</td>\n",
       "      <td>0.0</td>\n",
       "      <td>0.0</td>\n",
       "      <td>0.0</td>\n",
       "    </tr>\n",
       "    <tr>\n",
       "      <th>4</th>\n",
       "      <td>103621</td>\n",
       "      <td>1319</td>\n",
       "      <td>0.0</td>\n",
       "      <td>0.0</td>\n",
       "      <td>0.0</td>\n",
       "      <td>0.0</td>\n",
       "      <td>0.0</td>\n",
       "      <td>0.0</td>\n",
       "      <td>0.0</td>\n",
       "      <td>0.0</td>\n",
       "      <td>...</td>\n",
       "      <td>0.0</td>\n",
       "      <td>0.0</td>\n",
       "      <td>0.0</td>\n",
       "      <td>0.0</td>\n",
       "      <td>0.0</td>\n",
       "      <td>0.0</td>\n",
       "      <td>0.0</td>\n",
       "      <td>0.0</td>\n",
       "      <td>0.0</td>\n",
       "      <td>0.0</td>\n",
       "    </tr>\n",
       "    <tr>\n",
       "      <th>...</th>\n",
       "      <td>...</td>\n",
       "      <td>...</td>\n",
       "      <td>...</td>\n",
       "      <td>...</td>\n",
       "      <td>...</td>\n",
       "      <td>...</td>\n",
       "      <td>...</td>\n",
       "      <td>...</td>\n",
       "      <td>...</td>\n",
       "      <td>...</td>\n",
       "      <td>...</td>\n",
       "      <td>...</td>\n",
       "      <td>...</td>\n",
       "      <td>...</td>\n",
       "      <td>...</td>\n",
       "      <td>...</td>\n",
       "      <td>...</td>\n",
       "      <td>...</td>\n",
       "      <td>...</td>\n",
       "      <td>...</td>\n",
       "      <td>...</td>\n",
       "    </tr>\n",
       "    <tr>\n",
       "      <th>382</th>\n",
       "      <td>94136</td>\n",
       "      <td>7818</td>\n",
       "      <td>0.0</td>\n",
       "      <td>0.0</td>\n",
       "      <td>0.0</td>\n",
       "      <td>0.0</td>\n",
       "      <td>0.0</td>\n",
       "      <td>0.0</td>\n",
       "      <td>0.0</td>\n",
       "      <td>0.0</td>\n",
       "      <td>...</td>\n",
       "      <td>0.0</td>\n",
       "      <td>0.0</td>\n",
       "      <td>0.0</td>\n",
       "      <td>0.0</td>\n",
       "      <td>0.0</td>\n",
       "      <td>0.0</td>\n",
       "      <td>0.0</td>\n",
       "      <td>0.0</td>\n",
       "      <td>0.0</td>\n",
       "      <td>0.0</td>\n",
       "    </tr>\n",
       "    <tr>\n",
       "      <th>383</th>\n",
       "      <td>95160</td>\n",
       "      <td>7096</td>\n",
       "      <td>0.0</td>\n",
       "      <td>0.0</td>\n",
       "      <td>0.0</td>\n",
       "      <td>0.0</td>\n",
       "      <td>0.0</td>\n",
       "      <td>0.0</td>\n",
       "      <td>0.0</td>\n",
       "      <td>0.0</td>\n",
       "      <td>...</td>\n",
       "      <td>0.0</td>\n",
       "      <td>0.0</td>\n",
       "      <td>1.0</td>\n",
       "      <td>0.0</td>\n",
       "      <td>0.0</td>\n",
       "      <td>0.0</td>\n",
       "      <td>0.0</td>\n",
       "      <td>0.0</td>\n",
       "      <td>0.0</td>\n",
       "      <td>0.0</td>\n",
       "    </tr>\n",
       "    <tr>\n",
       "      <th>384</th>\n",
       "      <td>96473</td>\n",
       "      <td>495</td>\n",
       "      <td>0.0</td>\n",
       "      <td>0.0</td>\n",
       "      <td>0.0</td>\n",
       "      <td>0.0</td>\n",
       "      <td>0.0</td>\n",
       "      <td>0.0</td>\n",
       "      <td>0.0</td>\n",
       "      <td>0.0</td>\n",
       "      <td>...</td>\n",
       "      <td>0.0</td>\n",
       "      <td>0.0</td>\n",
       "      <td>0.0</td>\n",
       "      <td>0.0</td>\n",
       "      <td>0.0</td>\n",
       "      <td>0.0</td>\n",
       "      <td>0.0</td>\n",
       "      <td>0.0</td>\n",
       "      <td>0.0</td>\n",
       "      <td>0.0</td>\n",
       "    </tr>\n",
       "    <tr>\n",
       "      <th>385</th>\n",
       "      <td>990712</td>\n",
       "      <td>5276</td>\n",
       "      <td>0.0</td>\n",
       "      <td>0.0</td>\n",
       "      <td>0.0</td>\n",
       "      <td>0.0</td>\n",
       "      <td>0.0</td>\n",
       "      <td>0.0</td>\n",
       "      <td>1.0</td>\n",
       "      <td>0.0</td>\n",
       "      <td>...</td>\n",
       "      <td>0.0</td>\n",
       "      <td>0.0</td>\n",
       "      <td>0.0</td>\n",
       "      <td>0.0</td>\n",
       "      <td>0.0</td>\n",
       "      <td>0.0</td>\n",
       "      <td>0.0</td>\n",
       "      <td>0.0</td>\n",
       "      <td>0.0</td>\n",
       "      <td>0.0</td>\n",
       "    </tr>\n",
       "    <tr>\n",
       "      <th>386</th>\n",
       "      <td>99907</td>\n",
       "      <td>609</td>\n",
       "      <td>0.0</td>\n",
       "      <td>0.0</td>\n",
       "      <td>0.0</td>\n",
       "      <td>0.0</td>\n",
       "      <td>0.0</td>\n",
       "      <td>0.0</td>\n",
       "      <td>0.0</td>\n",
       "      <td>0.0</td>\n",
       "      <td>...</td>\n",
       "      <td>0.0</td>\n",
       "      <td>0.0</td>\n",
       "      <td>0.0</td>\n",
       "      <td>0.0</td>\n",
       "      <td>0.0</td>\n",
       "      <td>0.0</td>\n",
       "      <td>0.0</td>\n",
       "      <td>0.0</td>\n",
       "      <td>0.0</td>\n",
       "      <td>0.0</td>\n",
       "    </tr>\n",
       "  </tbody>\n",
       "</table>\n",
       "<p>387 rows × 600 columns</p>\n",
       "</div>"
      ],
      "text/plain": [
       "ec_numbers taxon_id  media_id  1.-.-.-  1.1.-.-  1.1.1.100  1.1.1.133  \\\n",
       "0            100469      1377      0.0      0.0        0.0        0.0   \n",
       "1            102226      7013      0.0      0.0        0.0        0.0   \n",
       "2              1034      8324      0.0      0.0        0.0        0.0   \n",
       "3              1035      8327      0.0      0.0        0.0        0.0   \n",
       "4            103621      1319      0.0      0.0        0.0        0.0   \n",
       "..              ...       ...      ...      ...        ...        ...   \n",
       "382           94136      7818      0.0      0.0        0.0        0.0   \n",
       "383           95160      7096      0.0      0.0        0.0        0.0   \n",
       "384           96473       495      0.0      0.0        0.0        0.0   \n",
       "385          990712      5276      0.0      0.0        0.0        0.0   \n",
       "386           99907       609      0.0      0.0        0.0        0.0   \n",
       "\n",
       "ec_numbers  1.1.1.135  1.1.1.205  1.1.1.25  1.1.1.262  ...  7.2.1.1  7.2.2.14  \\\n",
       "0                 0.0        0.0       0.0        0.0  ...      0.0       0.0   \n",
       "1                 0.0        0.0       0.0        0.0  ...      0.0       0.0   \n",
       "2                 0.0        0.0       0.0        0.0  ...      0.0       0.0   \n",
       "3                 0.0        0.0       0.0        0.0  ...      0.0       0.0   \n",
       "4                 0.0        0.0       0.0        0.0  ...      0.0       0.0   \n",
       "..                ...        ...       ...        ...  ...      ...       ...   \n",
       "382               0.0        0.0       0.0        0.0  ...      0.0       0.0   \n",
       "383               0.0        0.0       0.0        0.0  ...      0.0       0.0   \n",
       "384               0.0        0.0       0.0        0.0  ...      0.0       0.0   \n",
       "385               0.0        0.0       1.0        0.0  ...      0.0       0.0   \n",
       "386               0.0        0.0       0.0        0.0  ...      0.0       0.0   \n",
       "\n",
       "ec_numbers  7.2.2.6  7.2.2.7  7.2.3.1  7.3.2.1  7.3.2.2  7.4.2.5  7.4.2.8  \\\n",
       "0               0.0      0.0      0.0      0.0      0.0      0.0      0.0   \n",
       "1               0.0      0.0      0.0      0.0      0.0      0.0      0.0   \n",
       "2               0.0      0.0      0.0      0.0      0.0      0.0      0.0   \n",
       "3               0.0      0.0      0.0      0.0      0.0      0.0      0.0   \n",
       "4               0.0      0.0      0.0      0.0      0.0      0.0      0.0   \n",
       "..              ...      ...      ...      ...      ...      ...      ...   \n",
       "382             0.0      0.0      0.0      0.0      0.0      0.0      0.0   \n",
       "383             1.0      0.0      0.0      0.0      0.0      0.0      0.0   \n",
       "384             0.0      0.0      0.0      0.0      0.0      0.0      0.0   \n",
       "385             0.0      0.0      0.0      0.0      0.0      0.0      0.0   \n",
       "386             0.0      0.0      0.0      0.0      0.0      0.0      0.0   \n",
       "\n",
       "ec_numbers  7.6.2.-  \n",
       "0               0.0  \n",
       "1               0.0  \n",
       "2               0.0  \n",
       "3               0.0  \n",
       "4               0.0  \n",
       "..              ...  \n",
       "382             0.0  \n",
       "383             0.0  \n",
       "384             0.0  \n",
       "385             0.0  \n",
       "386             0.0  \n",
       "\n",
       "[387 rows x 600 columns]"
      ]
     },
     "execution_count": 6,
     "metadata": {},
     "output_type": "execute_result"
    }
   ],
   "source": [
    "data_df = pd.merge(\n",
    "    left=komodo_df,\n",
    "    right=uniprot_df,\n",
    "    on=\"taxon_id\",\n",
    "    how=\"inner\"\n",
    ")\n",
    "\n",
    "# Explode EC numbers\n",
    "data_df[\"ec_numbers\"] = data_df[\"ec_numbers\"].str.split(\"|\")\n",
    "data_df = data_df.explode(\"ec_numbers\")\n",
    "\n",
    "data_df = data_df[[\"taxon_id\", \"media_id\", \"ec_numbers\"]]\\\n",
    "    .value_counts()\\\n",
    "    .reset_index()\n",
    "\n",
    "data_df = data_df.pivot(\n",
    "    index=[\"taxon_id\", \"media_id\"],\n",
    "    columns=\"ec_numbers\",\n",
    "    values=\"count\"\n",
    ")\n",
    "data_df = data_df.fillna(0.0).reset_index()\n",
    "data_df"
   ]
  },
  {
   "cell_type": "markdown",
   "metadata": {},
   "source": [
    "## Model"
   ]
  },
  {
   "cell_type": "markdown",
   "metadata": {},
   "source": [
    "### Strategy for splitting"
   ]
  },
  {
   "cell_type": "code",
   "execution_count": 7,
   "metadata": {},
   "outputs": [],
   "source": [
    "from sklearn.model_selection import train_test_split\n",
    "\n",
    "X_train, X_test, y_train, y_test = train_test_split(\n",
    "    data_df.drop([\"taxon_id\", \"media_id\"], axis=1),\n",
    "    data_df[TARGET_VAR],\n",
    "    test_size=0.3,\n",
    "    random_state=RANDOM_SEED\n",
    ")"
   ]
  },
  {
   "cell_type": "markdown",
   "metadata": {},
   "source": [
    "### Dimensionality reduction"
   ]
  },
  {
   "cell_type": "code",
   "execution_count": 8,
   "metadata": {},
   "outputs": [
    {
     "name": "stderr",
     "output_type": "stream",
     "text": [
      "OMP: Info #276: omp_set_nested routine deprecated, please use omp_set_max_active_levels instead.\n"
     ]
    },
    {
     "data": {
      "text/html": [
       "<div>\n",
       "<style scoped>\n",
       "    .dataframe tbody tr th:only-of-type {\n",
       "        vertical-align: middle;\n",
       "    }\n",
       "\n",
       "    .dataframe tbody tr th {\n",
       "        vertical-align: top;\n",
       "    }\n",
       "\n",
       "    .dataframe thead th {\n",
       "        text-align: right;\n",
       "    }\n",
       "</style>\n",
       "<table border=\"1\" class=\"dataframe\">\n",
       "  <thead>\n",
       "    <tr style=\"text-align: right;\">\n",
       "      <th></th>\n",
       "      <th>Component 1</th>\n",
       "      <th>Component 2</th>\n",
       "      <th>Component 3</th>\n",
       "      <th>Component 4</th>\n",
       "    </tr>\n",
       "  </thead>\n",
       "  <tbody>\n",
       "    <tr>\n",
       "      <th>0</th>\n",
       "      <td>-222.137161</td>\n",
       "      <td>127.577034</td>\n",
       "      <td>-15.232713</td>\n",
       "      <td>-15.787442</td>\n",
       "    </tr>\n",
       "    <tr>\n",
       "      <th>1</th>\n",
       "      <td>-33.486420</td>\n",
       "      <td>7.634564</td>\n",
       "      <td>-55.467014</td>\n",
       "      <td>-20.508331</td>\n",
       "    </tr>\n",
       "    <tr>\n",
       "      <th>2</th>\n",
       "      <td>-237.404861</td>\n",
       "      <td>84.254143</td>\n",
       "      <td>-13.122877</td>\n",
       "      <td>10.426279</td>\n",
       "    </tr>\n",
       "    <tr>\n",
       "      <th>3</th>\n",
       "      <td>-221.660385</td>\n",
       "      <td>127.362022</td>\n",
       "      <td>-15.379433</td>\n",
       "      <td>-15.743623</td>\n",
       "    </tr>\n",
       "    <tr>\n",
       "      <th>4</th>\n",
       "      <td>-221.912582</td>\n",
       "      <td>127.270393</td>\n",
       "      <td>-15.335725</td>\n",
       "      <td>-15.300495</td>\n",
       "    </tr>\n",
       "  </tbody>\n",
       "</table>\n",
       "</div>"
      ],
      "text/plain": [
       "   Component 1  Component 2  Component 3  Component 4\n",
       "0  -222.137161   127.577034   -15.232713   -15.787442\n",
       "1   -33.486420     7.634564   -55.467014   -20.508331\n",
       "2  -237.404861    84.254143   -13.122877    10.426279\n",
       "3  -221.660385   127.362022   -15.379433   -15.743623\n",
       "4  -221.912582   127.270393   -15.335725   -15.300495"
      ]
     },
     "execution_count": 8,
     "metadata": {},
     "output_type": "execute_result"
    }
   ],
   "source": [
    "reducer = umap.UMAP(\n",
    "    metric=UMAP_METRIC,\n",
    "    n_components=4,\n",
    "    n_epochs=5000,\n",
    "    random_state=UMAP_SEED,\n",
    "    n_jobs=1\n",
    ")\n",
    "\n",
    "reduced_df = reducer.fit_transform(X_train)\n",
    "reduced_df = pd.DataFrame(\n",
    "    reduced_df,\n",
    "    columns=[f\"Component {i+1}\" for i in range(reduced_df.shape[1])]\n",
    ")\n",
    "reduced_df.head()"
   ]
  },
  {
   "cell_type": "markdown",
   "metadata": {},
   "source": [
    "### Clustering"
   ]
  },
  {
   "cell_type": "code",
   "execution_count": 9,
   "metadata": {},
   "outputs": [],
   "source": [
    "# TODO: add silhouette score\n",
    "# NOTE: using KMeans since the other classes do not provide a predict method\n",
    "cluster = KMeans(\n",
    "    n_clusters=4,\n",
    "    random_state=RANDOM_SEED\n",
    ")\n",
    "reduced_df[\"Cluster\"] = cluster.fit_predict(reduced_df.values)\n",
    "reduced_df[\"Cluster\"] = reduced_df[\"Cluster\"].astype(str)"
   ]
  },
  {
   "cell_type": "code",
   "execution_count": 10,
   "metadata": {},
   "outputs": [
    {
     "data": {
      "text/html": [
       "<div>\n",
       "<style scoped>\n",
       "    .dataframe tbody tr th:only-of-type {\n",
       "        vertical-align: middle;\n",
       "    }\n",
       "\n",
       "    .dataframe tbody tr th {\n",
       "        vertical-align: top;\n",
       "    }\n",
       "\n",
       "    .dataframe thead th {\n",
       "        text-align: right;\n",
       "    }\n",
       "</style>\n",
       "<table border=\"1\" class=\"dataframe\">\n",
       "  <thead>\n",
       "    <tr style=\"text-align: right;\">\n",
       "      <th></th>\n",
       "      <th>Component 1</th>\n",
       "      <th>Component 2</th>\n",
       "      <th>Component 3</th>\n",
       "      <th>Component 4</th>\n",
       "      <th>Cluster</th>\n",
       "      <th>taxon_id</th>\n",
       "      <th>media_id</th>\n",
       "    </tr>\n",
       "  </thead>\n",
       "  <tbody>\n",
       "    <tr>\n",
       "      <th>0</th>\n",
       "      <td>-222.137161</td>\n",
       "      <td>127.577034</td>\n",
       "      <td>-15.232713</td>\n",
       "      <td>-15.787442</td>\n",
       "      <td>0</td>\n",
       "      <td>714</td>\n",
       "      <td>8423</td>\n",
       "    </tr>\n",
       "    <tr>\n",
       "      <th>1</th>\n",
       "      <td>-33.486420</td>\n",
       "      <td>7.634564</td>\n",
       "      <td>-55.467014</td>\n",
       "      <td>-20.508331</td>\n",
       "      <td>1</td>\n",
       "      <td>634436</td>\n",
       "      <td>4872</td>\n",
       "    </tr>\n",
       "    <tr>\n",
       "      <th>2</th>\n",
       "      <td>-237.404861</td>\n",
       "      <td>84.254143</td>\n",
       "      <td>-13.122877</td>\n",
       "      <td>10.426279</td>\n",
       "      <td>2</td>\n",
       "      <td>95160</td>\n",
       "      <td>7096</td>\n",
       "    </tr>\n",
       "    <tr>\n",
       "      <th>3</th>\n",
       "      <td>-221.660385</td>\n",
       "      <td>127.362022</td>\n",
       "      <td>-15.379433</td>\n",
       "      <td>-15.743623</td>\n",
       "      <td>0</td>\n",
       "      <td>281376</td>\n",
       "      <td>1743</td>\n",
       "    </tr>\n",
       "    <tr>\n",
       "      <th>4</th>\n",
       "      <td>-221.912582</td>\n",
       "      <td>127.270393</td>\n",
       "      <td>-15.335725</td>\n",
       "      <td>-15.300495</td>\n",
       "      <td>0</td>\n",
       "      <td>52773</td>\n",
       "      <td>3891</td>\n",
       "    </tr>\n",
       "  </tbody>\n",
       "</table>\n",
       "</div>"
      ],
      "text/plain": [
       "   Component 1  Component 2  Component 3  Component 4 Cluster taxon_id  \\\n",
       "0  -222.137161   127.577034   -15.232713   -15.787442       0      714   \n",
       "1   -33.486420     7.634564   -55.467014   -20.508331       1   634436   \n",
       "2  -237.404861    84.254143   -13.122877    10.426279       2    95160   \n",
       "3  -221.660385   127.362022   -15.379433   -15.743623       0   281376   \n",
       "4  -221.912582   127.270393   -15.335725   -15.300495       0    52773   \n",
       "\n",
       "  media_id  \n",
       "0     8423  \n",
       "1     4872  \n",
       "2     7096  \n",
       "3     1743  \n",
       "4     3891  "
      ]
     },
     "execution_count": 10,
     "metadata": {},
     "output_type": "execute_result"
    }
   ],
   "source": [
    "# Add ID columns\n",
    "reduced_df[[\"taxon_id\", \"media_id\"]] = \\\n",
    "    data_df.loc[X_train.index, [\"taxon_id\", \"media_id\"]].values\n",
    "\n",
    "reduced_df.head()"
   ]
  },
  {
   "cell_type": "markdown",
   "metadata": {},
   "source": [
    "#### Visualise the results"
   ]
  },
  {
   "cell_type": "code",
   "execution_count": 11,
   "metadata": {},
   "outputs": [
    {
     "data": {
      "application/vnd.plotly.v1+json": {
       "config": {
        "plotlyServerURL": "https://plot.ly"
       },
       "data": [
        {
         "customdata": [
          [
           "714",
           8423
          ],
          [
           "634436",
           4872
          ],
          [
           "95160",
           7096
          ],
          [
           "281376",
           1743
          ],
          [
           "52773",
           3891
          ],
          [
           "172371",
           813
          ],
          [
           "668",
           7767
          ],
          [
           "104102",
           1388
          ],
          [
           "43671",
           5825
          ],
          [
           "157339",
           4527
          ],
          [
           "217204",
           5143
          ],
          [
           "69485",
           6878
          ],
          [
           "160808",
           4716
          ],
          [
           "102226",
           7013
          ],
          [
           "1049",
           1971
          ],
          [
           "67854",
           4526
          ],
          [
           "310575",
           2079
          ],
          [
           "507754",
           2757
          ],
          [
           "59754",
           282
          ],
          [
           "644",
           5685
          ],
          [
           "337895",
           7248
          ],
          [
           "33059",
           8445
          ],
          [
           "106648",
           5469
          ],
          [
           "396323",
           2792
          ],
          [
           "202948",
           4613
          ],
          [
           "392016",
           2543
          ],
          [
           "1868",
           6515
          ],
          [
           "202955",
           1124
          ],
          [
           "343013",
           3211
          ],
          [
           "187327",
           4167
          ],
          [
           "930",
           1088
          ],
          [
           "87541",
           1520
          ],
          [
           "192387",
           2358
          ],
          [
           "333142",
           6956
          ],
          [
           "103729",
           6851
          ],
          [
           "435",
           3592
          ],
          [
           "435880",
           3202
          ],
          [
           "178901",
           893
          ],
          [
           "285944",
           7964
          ],
          [
           "651",
           7735
          ],
          [
           "739",
           4120
          ],
          [
           "94136",
           7818
          ],
          [
           "209880",
           1224
          ],
          [
           "753702",
           5113
          ],
          [
           "632955",
           5220
          ],
          [
           "502790",
           5428
          ],
          [
           "40215",
           1120
          ],
          [
           "197183",
           1292
          ],
          [
           "340345",
           7321
          ],
          [
           "80868",
           2082
          ],
          [
           "65959",
           329
          ],
          [
           "226506",
           1241
          ],
          [
           "1993",
           6500
          ],
          [
           "600645",
           5030
          ],
          [
           "238540",
           1604
          ],
          [
           "146475",
           1386
          ],
          [
           "35752",
           6485
          ],
          [
           "218139",
           4585
          ],
          [
           "1657",
           3840
          ],
          [
           "717",
           3452
          ],
          [
           "426703",
           3132
          ],
          [
           "202956",
           1121
          ],
          [
           "68565",
           6788
          ],
          [
           "73010",
           284
          ],
          [
           "151414",
           2301
          ],
          [
           "633415",
           5229
          ],
          [
           "64988",
           385
          ],
          [
           "2041",
           8450
          ],
          [
           "46163",
           6108
          ],
          [
           "2283",
           5905
          ],
          [
           "595671",
           5339
          ],
          [
           "356660",
           2487
          ],
          [
           "446787",
           2772
          ],
          [
           "103621",
           1319
          ],
          [
           "471514",
           4593
          ],
          [
           "328412",
           2263
          ],
          [
           "202954",
           1123
          ],
          [
           "43655",
           8477
          ],
          [
           "633417",
           5230
          ],
          [
           "304077",
           5195
          ],
          [
           "59505",
           1382
          ],
          [
           "444093",
           3384
          ],
          [
           "271417",
           2076
          ],
          [
           "46159",
           6602
          ],
          [
           "649",
           2321
          ],
          [
           "113559",
           6514
          ],
          [
           "392828",
           7280
          ],
          [
           "51665",
           3716
          ],
          [
           "990712",
           5276
          ],
          [
           "163603",
           6561
          ],
          [
           "392011",
           2546
          ],
          [
           "231391",
           8447
          ],
          [
           "103721",
           6780
          ],
          [
           "285091",
           1832
          ],
          [
           "360185",
           4242
          ],
          [
           "12917",
           8104
          ],
          [
           "211460",
           2300
          ],
          [
           "171260",
           814
          ],
          [
           "111143",
           1635
          ],
          [
           "108981",
           1639
          ],
          [
           "152573",
           2723
          ],
          [
           "61595",
           2199
          ],
          [
           "52770",
           3890
          ],
          [
           "32002",
           7655
          ],
          [
           "208958",
           2399
          ],
          [
           "591962",
           5101
          ],
          [
           "134534",
           4704
          ],
          [
           "42808",
           360
          ],
          [
           "113568",
           6516
          ],
          [
           "663603",
           7629
          ],
          [
           "134533",
           1871
          ],
          [
           "1866",
           6497
          ],
          [
           "471",
           2005
          ],
          [
           "232270",
           4717
          ],
          [
           "719",
           4529
          ],
          [
           "52697",
           6693
          ],
          [
           "76980",
           7965
          ],
          [
           "33075",
           187
          ],
          [
           "2148",
           3079
          ],
          [
           "392010",
           2542
          ],
          [
           "182080",
           6815
          ],
          [
           "58110",
           6529
          ],
          [
           "43655",
           1497
          ],
          [
           "33952",
           43
          ],
          [
           "453573",
           7466
          ],
          [
           "163359",
           5190
          ],
          [
           "363867",
           4513
          ],
          [
           "41673",
           8066
          ],
          [
           "182182",
           4497
          ],
          [
           "648794",
           4647
          ],
          [
           "31962",
           6718
          ],
          [
           "179636",
           1038
          ],
          [
           "35763",
           6551
          ],
          [
           "645887",
           4467
          ],
          [
           "392014",
           2549
          ],
          [
           "51049",
           4531
          ],
          [
           "595468",
           4488
          ],
          [
           "202950",
           1117
          ],
          [
           "187868",
           1873
          ],
          [
           "39846",
           6853
          ],
          [
           "1659",
           6552
          ],
          [
           "1377",
           3704
          ],
          [
           "46161",
           6615
          ],
          [
           "113567",
           6512
          ],
          [
           "218936",
           1859
          ],
          [
           "663609",
           7625
          ],
          [
           "80852",
           4509
          ],
          [
           "237019",
           3496
          ],
          [
           "113562",
           6723
          ],
          [
           "511",
           733
          ],
          [
           "446660",
           3274
          ],
          [
           "291403",
           5028
          ],
          [
           "66863",
           265
          ],
          [
           "12915",
           5829
          ],
          [
           "52690",
           5674
          ],
          [
           "571912",
           7565
          ],
          [
           "96473",
           495
          ],
          [
           "86669",
           490
          ],
          [
           "1660",
           3091
          ],
          [
           "502181",
           7538
          ],
          [
           "227318",
           7134
          ],
          [
           "233316",
           1466
          ],
          [
           "46158",
           6570
          ],
          [
           "483199",
           3354
          ],
          [
           "122960",
           720
          ],
          [
           "113561",
           6632
          ],
          [
           "115335",
           6612
          ],
          [
           "262668",
           4786
          ],
          [
           "47988",
           6489
          ],
          [
           "1850",
           6651
          ],
          [
           "104101",
           1389
          ],
          [
           "205332",
           1578
          ],
          [
           "648",
           8326
          ],
          [
           "375541",
           3068
          ],
          [
           "90975",
           7057
          ],
          [
           "83264",
           8252
          ],
          [
           "41986",
           3639
          ],
          [
           "123820",
           2288
          ],
          [
           "88373",
           988
          ],
          [
           "553384",
           5259
          ],
          [
           "392012",
           2547
          ],
          [
           "267800",
           5147
          ],
          [
           "105751",
           805
          ],
          [
           "756892",
           5461
          ],
          [
           "113560",
           6724
          ],
          [
           "35830",
           2870
          ],
          [
           "61596",
           772
          ],
          [
           "146474",
           1387
          ],
          [
           "83263",
           8096
          ],
          [
           "52689",
           8413
          ],
          [
           "453835",
           3284
          ],
          [
           "416568",
           3230
          ],
          [
           "52699",
           99
          ],
          [
           "232089",
           8446
          ],
          [
           "182455",
           977
          ],
          [
           "197700",
           4298
          ],
          [
           "52694",
           3081
          ],
          [
           "471225",
           5160
          ],
          [
           "76020",
           6857
          ],
          [
           "312540",
           1889
          ],
          [
           "279824",
           4702
          ],
          [
           "40216",
           8236
          ],
          [
           "626932",
           4639
          ],
          [
           "202952",
           1119
          ],
          [
           "281375",
           1742
          ],
          [
           "88376",
           989
          ],
          [
           "1869",
           6513
          ],
          [
           "1992",
           6524
          ],
          [
           "70856",
           3361
          ],
          [
           "134959",
           6936
          ],
          [
           "178900",
           899
          ],
          [
           "937334",
           3859
          ],
          [
           "104100",
           7196
          ],
          [
           "305698",
           2269
          ],
          [
           "150723",
           2270
          ],
          [
           "1816",
           6667
          ],
          [
           "286438",
           8449
          ],
          [
           "716",
           3460
          ],
          [
           "80745",
           4053
          ],
          [
           "67855",
           4498
          ],
          [
           "720",
           3458
          ],
          [
           "1867",
           6677
          ],
          [
           "55565",
           1381
          ],
          [
           "419015",
           4165
          ],
          [
           "1034",
           8324
          ],
          [
           "722",
           4530
          ],
          [
           "221126",
           1289
          ],
          [
           "57028",
           4694
          ],
          [
           "201094",
           206
          ],
          [
           "240840",
           7066
          ],
          [
           "52769",
           8224
          ],
          [
           "359158",
           7230
          ],
          [
           "29491",
           3382
          ],
          [
           "592050",
           5394
          ],
          [
           "202947",
           3391
          ],
          [
           "131111",
           8530
          ],
          [
           "48296",
           5491
          ],
          [
           "52768",
           8223
          ],
          [
           "673379",
           7262
          ],
          [
           "1077255",
           7950
          ],
          [
           "328814",
           3092
          ],
          [
           "217203",
           5142
          ],
          [
           "328813",
           3114
          ],
          [
           "72556",
           56
          ],
          [
           "304899",
           7202
          ],
          [
           "204470",
           1112
          ],
          [
           "56636",
           332
          ],
          [
           "28090",
           5716
          ],
          [
           "113288",
           4048
          ],
          [
           "2382",
           7890
          ],
          [
           "52693",
           8411
          ],
          [
           "652",
           7736
          ],
          [
           "239935",
           4805
          ],
          [
           "392015",
           2548
          ],
          [
           "40214",
           5763
          ],
          [
           "1655",
           2162
          ],
          [
           "571911",
           7566
          ],
          [
           "1376",
           8355
          ],
          [
           "155976",
           7019
          ],
          [
           "426702",
           3133
          ],
          [
           "51161",
           227
          ],
          [
           "290052",
           5686
          ],
          [
           "424795",
           4430
          ],
          [
           "153267",
           874
          ],
          [
           "1457",
           5973
          ],
          [
           "42198",
           6779
          ],
          [
           "190146",
           1512
          ],
          [
           "1656",
           6625
          ],
          [
           "646",
           3127
          ],
          [
           "437",
           7874
          ]
         ],
         "hovertemplate": "Component 1=%{x}<br>Component 2=%{y}<br>Component 3=%{z}<br>taxon_id=%{customdata[0]}<br>media_id=%{customdata[1]}<br>Component 4=%{marker.color}<extra></extra>",
         "legendgroup": "",
         "marker": {
          "color": [
           -15.787442207336426,
           -20.508331298828125,
           10.426279067993164,
           -15.743622779846191,
           -15.300495147705078,
           -15.223128318786621,
           -15.823506355285645,
           -20.96491050720215,
           -15.524516105651855,
           10.803618431091309,
           -13.303094863891602,
           -15.504841804504395,
           -20.71025276184082,
           -15.180960655212402,
           -15.039493560791016,
           10.641365051269531,
           -20.294973373413086,
           10.859100341796875,
           -15.131680488586426,
           -15.862469673156738,
           10.459050178527832,
           -20.168315887451172,
           -20.258241653442383,
           -3.3530046939849854,
           10.769750595092773,
           -14.832085609436035,
           10.89731216430664,
           -3.2650763988494873,
           -20.13667106628418,
           -14.834843635559082,
           -20.36577606201172,
           -20.712308883666992,
           -15.471031188964844,
           10.052702903747559,
           -15.338793754577637,
           -21.117660522460938,
           -12.872215270996094,
           -20.960405349731445,
           -15.687594413757324,
           -20.624357223510742,
           -15.150036811828613,
           -15.545592308044434,
           -14.984071731567383,
           -15.108294486999512,
           -3.2424440383911133,
           -3.2652626037597656,
           -20.172433853149414,
           -19.73774528503418,
           -15.07496166229248,
           -19.57505226135254,
           -20.97951889038086,
           -12.888283729553223,
           10.52383804321289,
           -3.333411693572998,
           -15.624678611755371,
           -21.034894943237305,
           11.03152084350586,
           -14.841903686523438,
           -20.892297744750977,
           10.861623764038086,
           -15.667128562927246,
           -20.236709594726562,
           -15.575496673583984,
           -20.464086532592773,
           10.902477264404297,
           -3.414609670639038,
           -15.87499713897705,
           -15.256656646728516,
           10.52685832977295,
           -15.923891067504883,
           -15.08556842803955,
           -15.205676078796387,
           -14.932748794555664,
           -15.309394836425781,
           -15.135150909423828,
           -14.709199905395508,
           -20.0244083404541,
           -20.67169952392578,
           -20.268409729003906,
           10.85753345489502,
           -15.547877311706543,
           -15.320337295532227,
           -3.48960280418396,
           10.672611236572266,
           -3.4712612628936768,
           11.043513298034668,
           10.856916427612305,
           -20.828407287597656,
           -15.11871337890625,
           10.655220985412598,
           -15.977132797241211,
           -14.838345527648926,
           -15.808135986328125,
           -14.801024436950684,
           -15.887249946594238,
           10.85578441619873,
           -21.00951385498047,
           -15.649256706237793,
           -15.751446723937988,
           -20.293041229248047,
           -20.352481842041016,
           -20.283369064331055,
           10.543915748596191,
           -20.47345733642578,
           -3.2249341011047363,
           -3.2159459590911865,
           -3.160027503967285,
           -15.261996269226074,
           11.052064895629883,
           10.599350929260254,
           -3.2125396728515625,
           -15.143963813781738,
           -15.091970443725586,
           -15.40700912475586,
           10.77798843383789,
           11.281550407409668,
           -15.188915252685547,
           -15.444022178649902,
           -15.614398002624512,
           -14.919944763183594,
           10.470054626464844,
           10.65656566619873,
           -20.711181640625,
           -16.013362884521484,
           10.728226661682129,
           -20.652545928955078,
           -15.770574569702148,
           -15.883800506591797,
           -15.445528030395508,
           -3.194284677505493,
           -15.477571487426758,
           -20.363006591796875,
           -15.510477066040039,
           -15.746533393859863,
           -14.825291633605957,
           -20.628503799438477,
           10.79930591583252,
           -3.1994667053222656,
           -20.00762367248535,
           -15.376718521118164,
           -15.780173301696777,
           -20.772186279296875,
           -15.780062675476074,
           10.87088680267334,
           -20.49727439880371,
           10.617857933044434,
           -20.76428985595703,
           -15.482545852661133,
           10.62817668914795,
           -16.0135498046875,
           -21.018190383911133,
           -15.322244644165039,
           -15.433690071105957,
           10.948119163513184,
           -16.03132438659668,
           11.10605239868164,
           -3.2554969787597656,
           10.719231605529785,
           -20.825510025024414,
           -15.569878578186035,
           9.974721908569336,
           -14.955437660217285,
           10.509154319763184,
           -20.83269500732422,
           -15.425783157348633,
           -15.632894515991211,
           -15.613105773925781,
           -3.1170003414154053,
           10.324068069458008,
           -15.70258903503418,
           -20.92888641357422,
           -15.457093238830566,
           -15.82642936706543,
           10.490004539489746,
           10.55743408203125,
           10.925653457641602,
           -15.398667335510254,
           -10.481941223144531,
           -15.203828811645508,
           -15.583563804626465,
           -15.030624389648438,
           -20.252735137939453,
           -3.4705262184143066,
           -20.180593490600586,
           10.964344024658203,
           -16.126453399658203,
           -14.85195255279541,
           -20.9367733001709,
           -21.076889038085938,
           -14.904264450073242,
           -14.856217384338379,
           -15.462841033935547,
           -15.686829566955566,
           -15.13893985748291,
           -14.941039085388184,
           -20.686668395996094,
           -20.716142654418945,
           -20.600927352905273,
           -14.847955703735352,
           -14.747539520263672,
           -15.871064186096191,
           -19.97455596923828,
           10.793895721435547,
           -3.181457042694092,
           -20.256559371948242,
           -15.456830024719238,
           10.276214599609375,
           10.81579875946045,
           -3.2852470874786377,
           10.639632225036621,
           -21.051273345947266,
           -15.608363151550293,
           -15.376787185668945,
           -15.629898071289062,
           -15.678135871887207,
           9.980101585388184,
           -16.036895751953125,
           10.656980514526367,
           -3.2297844886779785,
           -20.856678009033203,
           -10.47542953491211,
           11.229065895080566,
           -20.909528732299805,
           -14.819513320922852,
           10.633426666259766,
           -15.17501163482666,
           -20.932472229003906,
           -15.610102653503418,
           -15.244499206542969,
           -15.815023422241211,
           -15.2041597366333,
           10.82525634765625,
           -20.569181442260742,
           -20.24437141418457,
           -14.94472885131836,
           -15.277079582214355,
           -20.1434326171875,
           -15.987605094909668,
           10.135937690734863,
           -20.08901023864746,
           -21.04043960571289,
           -20.777639389038086,
           -21.011802673339844,
           -15.508709907531738,
           -15.241591453552246,
           -15.301348686218262,
           -3.3270442485809326,
           -20.026262283325195,
           -3.335218667984009,
           -16.053205490112305,
           -14.909158706665039,
           -20.4217586517334,
           -20.79448127746582,
           -15.510632514953613,
           -20.14072036743164,
           10.640430450439453,
           -15.195192337036133,
           -20.65764045715332,
           -15.060770988464355,
           -15.180150032043457,
           -20.44451141357422,
           -15.162642478942871,
           -15.571621894836426,
           -15.004966735839844,
           -15.048140525817871,
           10.464425086975098,
           -14.874151229858398,
           -14.95756721496582,
           -20.0650691986084,
           -16.001590728759766
          ],
          "coloraxis": "coloraxis",
          "symbol": "circle"
         },
         "mode": "markers",
         "name": "",
         "scene": "scene",
         "showlegend": false,
         "type": "scatter3d",
         "x": [
          -222.1371612548828,
          -33.486419677734375,
          -237.4048614501953,
          -221.66038513183594,
          -221.91258239746094,
          -222.08071899414062,
          -222.08419799804688,
          -32.59285354614258,
          -220.63111877441406,
          -236.101806640625,
          -216.42506408691406,
          -221.42727661132812,
          -32.981689453125,
          -222.18994140625,
          -221.15087890625,
          -236.43539428710938,
          -33.956851959228516,
          -236.10250854492188,
          -221.966064453125,
          -221.45083618164062,
          -237.28521728515625,
          -33.56848907470703,
          -32.689640045166016,
          -1.0102959871292114,
          -236.1956024169922,
          -221.80087280273438,
          -237.0967254638672,
          -0.9530924558639526,
          -33.19117736816406,
          -221.96926879882812,
          -33.681427001953125,
          -33.536964416503906,
          -222.217041015625,
          -236.41397094726562,
          -221.97625732421875,
          -32.80122756958008,
          -216.51351928710938,
          -32.61812973022461,
          -221.1224822998047,
          -33.619598388671875,
          -221.73655700683594,
          -220.3768310546875,
          -221.97608947753906,
          -221.9178466796875,
          -0.8817475438117981,
          -0.09459946304559708,
          -32.68367385864258,
          -32.8620491027832,
          -220.9881591796875,
          -32.77058792114258,
          -32.703285217285156,
          -216.4991455078125,
          -236.58419799804688,
          0.0005865240818820894,
          -220.28587341308594,
          -32.64238357543945,
          -236.94198608398438,
          -221.16836547851562,
          -33.463993072509766,
          -236.13400268554688,
          -221.87152099609375,
          -32.6951904296875,
          -221.66705322265625,
          -33.41520309448242,
          -236.1626739501953,
          -0.009078795090317726,
          -222.13526916503906,
          -222.2852020263672,
          -237.03485107421875,
          -221.9795379638672,
          -222.0512237548828,
          -221.8020782470703,
          -221.1298065185547,
          -219.9246063232422,
          -221.46881103515625,
          -220.0657958984375,
          -32.857948303222656,
          -33.437503814697266,
          -33.3763313293457,
          -236.04356384277344,
          -221.91273498535156,
          -221.29298400878906,
          0.055702198296785355,
          -236.7617950439453,
          0.03342108801007271,
          -237.32098388671875,
          -237.01919555664062,
          -33.519569396972656,
          -221.85252380371094,
          -236.66539001464844,
          -221.81455993652344,
          -221.8970947265625,
          -222.0138397216797,
          -220.2498321533203,
          -221.83323669433594,
          -235.93360900878906,
          -32.71181869506836,
          -221.98184204101562,
          -222.27069091796875,
          -32.896392822265625,
          -33.74753189086914,
          -33.51560974121094,
          -237.07835388183594,
          -33.59566116333008,
          -0.2272416651248932,
          -0.17020250856876373,
          -0.8051941990852356,
          -222.0687713623047,
          -237.2667694091797,
          -236.7901611328125,
          -0.7509538531303406,
          -222.25006103515625,
          -221.92147827148438,
          -222.43942260742188,
          -235.94349670410156,
          -236.81239318847656,
          -221.64071655273438,
          -221.10997009277344,
          -222.00372314453125,
          -221.07479858398438,
          -236.93544006347656,
          -236.7376708984375,
          -33.46819305419922,
          -220.33114624023438,
          -236.99729919433594,
          -33.00657272338867,
          -221.3463592529297,
          -221.0506134033203,
          -222.01104736328125,
          -0.10814335197210312,
          -221.8291473388672,
          -32.78599166870117,
          -222.078125,
          -219.8656005859375,
          -222.11953735351562,
          -33.4576301574707,
          -236.33738708496094,
          -0.8415648341178894,
          -33.33496856689453,
          -221.71533203125,
          -221.8822784423828,
          -33.60356903076172,
          -221.67449951171875,
          -237.00987243652344,
          -33.172176361083984,
          -237.2950439453125,
          -33.24477005004883,
          -222.32162475585938,
          -236.9754638671875,
          -221.8751220703125,
          -33.352901458740234,
          -221.16677856445312,
          -222.1806182861328,
          -236.01693725585938,
          -220.30760192871094,
          -237.5732421875,
          -0.2695777416229248,
          -236.22796630859375,
          -33.43943405151367,
          -221.7267608642578,
          -236.55186462402344,
          -221.39952087402344,
          -237.30950927734375,
          -32.836036682128906,
          -222.09088134765625,
          -221.6806640625,
          -222.1261749267578,
          -0.7285141348838806,
          -236.33763122558594,
          -221.72694396972656,
          -32.54130554199219,
          -222.23582458496094,
          -222.23036193847656,
          -236.36196899414062,
          -236.5852508544922,
          -235.98475646972656,
          -222.30203247070312,
          -217.31301879882812,
          -222.06948852539062,
          -222.459716796875,
          -221.22593688964844,
          -33.937904357910156,
          0.02121608331799507,
          -32.89976501464844,
          -237.3954620361328,
          -221.8756103515625,
          -221.76243591308594,
          -32.50271987915039,
          -32.59275436401367,
          -221.60565185546875,
          -222.3600311279297,
          -222.2060089111328,
          -221.56246948242188,
          -222.25436401367188,
          -222.4126434326172,
          -33.518856048583984,
          -33.55036544799805,
          -33.46052932739258,
          -222.18980407714844,
          -222.247314453125,
          -220.4561309814453,
          -33.20647430419922,
          -236.32534790039062,
          -0.8531419038772583,
          -33.33860778808594,
          -221.8611297607422,
          -236.98130798339844,
          -236.9583282470703,
          -0.00994054228067398,
          -237.10311889648438,
          -32.75859832763672,
          -221.03260803222656,
          -222.03135681152344,
          -221.72271728515625,
          -220.98867797851562,
          -236.5721893310547,
          -221.95355224609375,
          -236.4944305419922,
          -0.38664761185646057,
          -33.2940559387207,
          -217.30931091308594,
          -237.15028381347656,
          -33.308570861816406,
          -222.03628540039062,
          -236.52212524414062,
          -221.29896545410156,
          -33.217105865478516,
          -220.9043731689453,
          -221.9858856201172,
          -220.54110717773438,
          -222.46652221679688,
          -236.99932861328125,
          -33.290103912353516,
          -32.631591796875,
          -221.92636108398438,
          -221.02825927734375,
          -33.210205078125,
          -222.13856506347656,
          -236.6011962890625,
          -33.255615234375,
          -33.302223205566406,
          -33.105003356933594,
          -33.14580535888672,
          -220.60894775390625,
          -222.29476928710938,
          -222.2921905517578,
          -1.0693495273590088,
          -32.942508697509766,
          -0.17244108021259308,
          -220.31564331054688,
          -222.0889434814453,
          -33.373069763183594,
          -32.98974609375,
          -220.84617614746094,
          -33.00644302368164,
          -236.36444091796875,
          -221.34475708007812,
          -33.68067169189453,
          -221.8160858154297,
          -222.56277465820312,
          -33.82656478881836,
          -222.3096160888672,
          -221.98280334472656,
          -222.33694458007812,
          -222.33905029296875,
          -236.1591796875,
          -222.24014282226562,
          -221.90525817871094,
          -33.23746871948242,
          -222.27734375
         ],
         "y": [
          127.57703399658203,
          7.634564399719238,
          84.25414276123047,
          127.36202239990234,
          127.27039337158203,
          127.0365219116211,
          127.4590072631836,
          6.422357082366943,
          128.2316131591797,
          83.05484771728516,
          100.8006820678711,
          127.52142333984375,
          7.919334888458252,
          126.77405548095703,
          127.2965316772461,
          83.12594604492188,
          7.622617244720459,
          83.00100708007812,
          126.9024429321289,
          127.66072082519531,
          84.16553497314453,
          7.884474277496338,
          8.157085418701172,
          0.4327905476093292,
          82.91595458984375,
          127.38629913330078,
          84.29438781738281,
          0.4244455397129059,
          7.732734680175781,
          127.51201629638672,
          7.943506717681885,
          8.122161865234375,
          127.35140228271484,
          84.58084869384766,
          127.31482696533203,
          6.54340124130249,
          101.24644470214844,
          6.413415908813477,
          127.18689727783203,
          7.770357131958008,
          127.8082046508789,
          127.9991683959961,
          127.24576568603516,
          127.60633850097656,
          0.45011451840400696,
          0.7141109108924866,
          8.058371543884277,
          7.750446796417236,
          127.2109375,
          7.660268783569336,
          6.517120361328125,
          101.26455688476562,
          83.96918487548828,
          0.5957106947898865,
          128.06546020507812,
          6.475254058837891,
          84.32682800292969,
          127.16064453125,
          8.261092185974121,
          82.84671020507812,
          127.6221923828125,
          8.167304992675781,
          127.15190124511719,
          7.75044584274292,
          83.05548858642578,
          0.4897719919681549,
          127.31082153320312,
          127.49933624267578,
          84.15148162841797,
          127.228759765625,
          127.63919067382812,
          127.03414154052734,
          127.29768371582031,
          127.87947082519531,
          127.4122543334961,
          127.56343078613281,
          8.022001266479492,
          7.371111869812012,
          7.698886394500732,
          83.00411224365234,
          127.69059753417969,
          127.74737548828125,
          0.5389712452888489,
          83.8765640258789,
          0.5092045068740845,
          84.3114013671875,
          83.84416198730469,
          8.193814277648926,
          127.22785949707031,
          83.5682601928711,
          127.05493927001953,
          127.40766906738281,
          127.23341369628906,
          127.50425720214844,
          127.18859100341797,
          82.92579650878906,
          6.6043701171875,
          126.84241485595703,
          126.97756958007812,
          8.239051818847656,
          7.973799228668213,
          7.773766040802002,
          84.05323028564453,
          7.654393672943115,
          0.6864569783210754,
          0.7520933151245117,
          0.47562333941459656,
          127.27084350585938,
          84.3523941040039,
          83.834228515625,
          0.5457337498664856,
          126.94928741455078,
          126.78948211669922,
          127.27811431884766,
          82.87457275390625,
          84.50505828857422,
          127.06779479980469,
          127.8364028930664,
          127.36310577392578,
          127.30944061279297,
          84.13639068603516,
          83.68693542480469,
          7.396694660186768,
          127.99701690673828,
          83.90769958496094,
          8.112202644348145,
          127.49694061279297,
          127.31784057617188,
          128.0728759765625,
          0.7572571635246277,
          127.05488586425781,
          8.155564308166504,
          127.45993041992188,
          127.84614562988281,
          127.2348403930664,
          8.064591407775879,
          83.4734878540039,
          0.4313809275627136,
          7.483914375305176,
          127.29608917236328,
          127.85277557373047,
          8.100826263427734,
          126.97571563720703,
          84.39485168457031,
          7.443062782287598,
          84.16764068603516,
          7.777397155761719,
          127.0067138671875,
          84.37229919433594,
          127.44744873046875,
          8.559237480163574,
          127.53299713134766,
          126.97596740722656,
          82.93260955810547,
          127.97026824951172,
          84.39038848876953,
          0.6134111881256104,
          83.24663543701172,
          8.5314359664917,
          127.35660552978516,
          84.78955078125,
          127.1523666381836,
          84.21683502197266,
          6.542288303375244,
          126.8699951171875,
          126.92101287841797,
          127.4961166381836,
          0.40331941843032837,
          84.15614318847656,
          126.90721130371094,
          6.34891414642334,
          127.76830291748047,
          127.18187713623047,
          82.99058532714844,
          83.35488891601562,
          82.90571594238281,
          127.7370376586914,
          101.5893325805664,
          127.72956085205078,
          127.2021484375,
          127.05213928222656,
          7.660577774047852,
          0.5108067989349365,
          7.8962554931640625,
          84.3005142211914,
          127.22976684570312,
          126.9543685913086,
          6.323319435119629,
          6.49957799911499,
          127.23485565185547,
          127.0971450805664,
          127.6852035522461,
          127.45726776123047,
          127.53697967529297,
          127.36161804199219,
          7.79472017288208,
          8.480697631835938,
          7.702620029449463,
          127.08695220947266,
          127.31825256347656,
          127.11531066894531,
          7.756194114685059,
          83.25089263916016,
          0.36614567041397095,
          7.693798542022705,
          127.65457916259766,
          84.6199951171875,
          83.8007583618164,
          0.649068295955658,
          84.10568237304688,
          6.507833003997803,
          127.48890686035156,
          126.81816864013672,
          127.93604278564453,
          128.34747314453125,
          84.77378845214844,
          127.5621109008789,
          82.93919372558594,
          0.5998732447624207,
          8.100257873535156,
          101.57882690429688,
          84.32144927978516,
          8.30320930480957,
          127.0220718383789,
          83.17454528808594,
          128.11631774902344,
          8.481755256652832,
          127.28890228271484,
          126.99895477294922,
          127.0105972290039,
          127.11207580566406,
          84.15100860595703,
          7.837131977081299,
          8.090903282165527,
          126.85517883300781,
          128.19017028808594,
          7.911740303039551,
          127.12351989746094,
          84.55557250976562,
          7.673111438751221,
          8.395346641540527,
          7.64730167388916,
          8.532960891723633,
          127.34605407714844,
          127.33642578125,
          126.92974853515625,
          0.4040151536464691,
          8.065674781799316,
          0.5860713124275208,
          128.0212860107422,
          127.84159851074219,
          8.035588264465332,
          8.374616622924805,
          127.31039428710938,
          7.973346710205078,
          83.15450286865234,
          127.874755859375,
          8.059266090393066,
          127.53738403320312,
          127.44368743896484,
          7.669057369232178,
          127.40108489990234,
          127.14199829101562,
          127.5644760131836,
          126.97958374023438,
          83.0219497680664,
          127.32180786132812,
          127.23942565917969,
          7.610699653625488,
          127.4088134765625
         ],
         "z": [
          -15.232712745666504,
          -55.46701431274414,
          -13.12287712097168,
          -15.379432678222656,
          -15.335724830627441,
          -14.882686614990234,
          -15.182005882263184,
          -55.297908782958984,
          -15.452452659606934,
          -15.33720588684082,
          -23.563634872436523,
          -15.36424732208252,
          -55.47966003417969,
          -14.898839950561523,
          -16.003063201904297,
          -15.2218017578125,
          -55.49452590942383,
          -15.39512825012207,
          -15.240713119506836,
          -15.536261558532715,
          -13.231069564819336,
          -55.60274124145508,
          -55.308998107910156,
          -21.290651321411133,
          -15.408587455749512,
          -15.384995460510254,
          -13.884535789489746,
          -21.38331413269043,
          -55.331138610839844,
          -14.918439865112305,
          -55.386390686035156,
          -56.00402069091797,
          -14.898634910583496,
          -13.958799362182617,
          -15.486068725585938,
          -54.88517379760742,
          -21.78091049194336,
          -55.22983932495117,
          -15.196130752563477,
          -55.54795455932617,
          -15.07923412322998,
          -14.858059883117676,
          -15.306889533996582,
          -15.32970142364502,
          -21.42877197265625,
          -21.76519012451172,
          -55.41738510131836,
          -55.37290954589844,
          -15.901756286621094,
          -55.36868667602539,
          -55.23604202270508,
          -21.780052185058594,
          -14.181278228759766,
          -21.905080795288086,
          -14.919811248779297,
          -55.30988311767578,
          -13.75313663482666,
          -15.801989555358887,
          -56.04222869873047,
          -15.30771255493164,
          -15.031103134155273,
          -55.33502197265625,
          -15.140206336975098,
          -55.240638732910156,
          -15.309389114379883,
          -21.99221420288086,
          -14.71218490600586,
          -15.200316429138184,
          -14.083189964294434,
          -15.131326675415039,
          -15.105611801147461,
          -15.512295722961426,
          -15.810815811157227,
          -15.195850372314453,
          -14.667163848876953,
          -16.207921981811523,
          -55.504085540771484,
          -55.39745330810547,
          -55.49687194824219,
          -15.411051750183105,
          -15.423880577087402,
          -15.389562606811523,
          -22.06504249572754,
          -14.10958480834961,
          -22.049901962280273,
          -13.923746109008789,
          -13.580094337463379,
          -56.05231475830078,
          -14.732657432556152,
          -14.587175369262695,
          -15.09664249420166,
          -15.05744743347168,
          -14.95180606842041,
          -16.098947525024414,
          -15.58647632598877,
          -15.353456497192383,
          -55.36896514892578,
          -15.423365592956543,
          -15.349920272827148,
          -55.54215621948242,
          -55.46369171142578,
          -55.85102081298828,
          -13.590441703796387,
          -55.91752243041992,
          -21.72817039489746,
          -21.660627365112305,
          -21.518774032592773,
          -15.741972923278809,
          -13.86519718170166,
          -14.396510124206543,
          -21.58510971069336,
          -15.16469955444336,
          -15.126827239990234,
          -15.412932395935059,
          -15.23887825012207,
          -13.633402824401855,
          -15.1953706741333,
          -15.466755867004395,
          -15.591777801513672,
          -15.879937171936035,
          -13.79231071472168,
          -14.313575744628906,
          -55.45037841796875,
          -16.07682991027832,
          -13.637226104736328,
          -55.409828186035156,
          -14.476444244384766,
          -15.345329284667969,
          -15.228219985961914,
          -21.72211265563965,
          -14.849367141723633,
          -55.245704650878906,
          -14.572075843811035,
          -15.459259033203125,
          -14.910713195800781,
          -55.15460968017578,
          -14.64078140258789,
          -21.466217041015625,
          -55.48650360107422,
          -15.01026439666748,
          -14.982110023498535,
          -56.11600112915039,
          -15.295940399169922,
          -13.897247314453125,
          -55.3201789855957,
          -14.361398696899414,
          -55.165733337402344,
          -15.322452545166016,
          -13.995885848999023,
          -15.01459789276123,
          -55.74422073364258,
          -14.641626358032227,
          -15.522831916809082,
          -15.493613243103027,
          -16.099987030029297,
          -14.143068313598633,
          -21.74504280090332,
          -15.26705551147461,
          -55.68914031982422,
          -14.323415756225586,
          -13.852264404296875,
          -15.868915557861328,
          -13.304801940917969,
          -55.2135009765625,
          -15.016925811767578,
          -15.392313003540039,
          -15.74382209777832,
          -21.502357482910156,
          -14.181912422180176,
          -15.069716453552246,
          -55.33259201049805,
          -15.087154388427734,
          -15.588827133178711,
          -15.334465980529785,
          -14.983100891113281,
          -15.335747718811035,
          -15.479239463806152,
          -20.512174606323242,
          -15.568705558776855,
          -14.983537673950195,
          -15.756797790527344,
          -55.45966720581055,
          -22.04772186279297,
          -55.30485534667969,
          -14.085713386535645,
          -15.328868865966797,
          -15.197021484375,
          -55.388710021972656,
          -55.41424560546875,
          -15.031405448913574,
          -15.302889823913574,
          -14.744611740112305,
          -14.454771995544434,
          -14.811285972595215,
          -14.833702087402344,
          -55.2183837890625,
          -55.64222717285156,
          -55.571834564208984,
          -14.6598539352417,
          -15.085490226745605,
          -15.228297233581543,
          -55.63779067993164,
          -14.914307594299316,
          -21.422607421875,
          -55.20191192626953,
          -15.754008293151855,
          -14.107373237609863,
          -13.642577171325684,
          -21.84771156311035,
          -13.957345008850098,
          -54.994773864746094,
          -15.43028736114502,
          -15.436837196350098,
          -15.209295272827148,
          -15.301501274108887,
          -13.863658905029297,
          -15.342740058898926,
          -15.429819107055664,
          -21.632671356201172,
          -55.265533447265625,
          -20.515350341796875,
          -13.695425987243652,
          -55.69333267211914,
          -15.300800323486328,
          -15.124404907226562,
          -15.008096694946289,
          -55.55388259887695,
          -15.082648277282715,
          -14.483445167541504,
          -15.148380279541016,
          -15.038084030151367,
          -13.758289337158203,
          -55.36625289916992,
          -55.226444244384766,
          -14.7996187210083,
          -15.90401840209961,
          -55.78078079223633,
          -15.243045806884766,
          -13.901945114135742,
          -55.7304801940918,
          -55.65366744995117,
          -55.55020523071289,
          -55.51679611206055,
          -15.129636764526367,
          -15.700150489807129,
          -14.765438079833984,
          -21.310914993286133,
          -55.70564270019531,
          -21.834819793701172,
          -16.049623489379883,
          -15.179190635681152,
          -55.44288635253906,
          -55.477657318115234,
          -15.375728607177734,
          -55.38935089111328,
          -15.428970336914062,
          -14.600415229797363,
          -55.82537841796875,
          -14.529316902160645,
          -15.18317985534668,
          -55.767269134521484,
          -14.536396980285645,
          -15.68284797668457,
          -15.416017532348633,
          -14.85290813446045,
          -15.047861099243164,
          -15.451286315917969,
          -14.638193130493164,
          -55.47918701171875,
          -15.081222534179688
         ]
        }
       ],
       "layout": {
        "coloraxis": {
         "colorbar": {
          "title": {
           "text": "Component 4"
          }
         },
         "colorscale": [
          [
           0,
           "#0d0887"
          ],
          [
           0.1111111111111111,
           "#46039f"
          ],
          [
           0.2222222222222222,
           "#7201a8"
          ],
          [
           0.3333333333333333,
           "#9c179e"
          ],
          [
           0.4444444444444444,
           "#bd3786"
          ],
          [
           0.5555555555555556,
           "#d8576b"
          ],
          [
           0.6666666666666666,
           "#ed7953"
          ],
          [
           0.7777777777777778,
           "#fb9f3a"
          ],
          [
           0.8888888888888888,
           "#fdca26"
          ],
          [
           1,
           "#f0f921"
          ]
         ]
        },
        "legend": {
         "tracegroupgap": 0
        },
        "margin": {
         "t": 60
        },
        "scene": {
         "domain": {
          "x": [
           0,
           1
          ],
          "y": [
           0,
           1
          ]
         },
         "xaxis": {
          "title": {
           "text": "Component 1"
          }
         },
         "yaxis": {
          "title": {
           "text": "Component 2"
          }
         },
         "zaxis": {
          "title": {
           "text": "Component 3"
          }
         }
        },
        "template": {
         "data": {
          "bar": [
           {
            "error_x": {
             "color": "#2a3f5f"
            },
            "error_y": {
             "color": "#2a3f5f"
            },
            "marker": {
             "line": {
              "color": "white",
              "width": 0.5
             },
             "pattern": {
              "fillmode": "overlay",
              "size": 10,
              "solidity": 0.2
             }
            },
            "type": "bar"
           }
          ],
          "barpolar": [
           {
            "marker": {
             "line": {
              "color": "white",
              "width": 0.5
             },
             "pattern": {
              "fillmode": "overlay",
              "size": 10,
              "solidity": 0.2
             }
            },
            "type": "barpolar"
           }
          ],
          "carpet": [
           {
            "aaxis": {
             "endlinecolor": "#2a3f5f",
             "gridcolor": "#C8D4E3",
             "linecolor": "#C8D4E3",
             "minorgridcolor": "#C8D4E3",
             "startlinecolor": "#2a3f5f"
            },
            "baxis": {
             "endlinecolor": "#2a3f5f",
             "gridcolor": "#C8D4E3",
             "linecolor": "#C8D4E3",
             "minorgridcolor": "#C8D4E3",
             "startlinecolor": "#2a3f5f"
            },
            "type": "carpet"
           }
          ],
          "choropleth": [
           {
            "colorbar": {
             "outlinewidth": 0,
             "ticks": ""
            },
            "type": "choropleth"
           }
          ],
          "contour": [
           {
            "colorbar": {
             "outlinewidth": 0,
             "ticks": ""
            },
            "colorscale": [
             [
              0,
              "#0d0887"
             ],
             [
              0.1111111111111111,
              "#46039f"
             ],
             [
              0.2222222222222222,
              "#7201a8"
             ],
             [
              0.3333333333333333,
              "#9c179e"
             ],
             [
              0.4444444444444444,
              "#bd3786"
             ],
             [
              0.5555555555555556,
              "#d8576b"
             ],
             [
              0.6666666666666666,
              "#ed7953"
             ],
             [
              0.7777777777777778,
              "#fb9f3a"
             ],
             [
              0.8888888888888888,
              "#fdca26"
             ],
             [
              1,
              "#f0f921"
             ]
            ],
            "type": "contour"
           }
          ],
          "contourcarpet": [
           {
            "colorbar": {
             "outlinewidth": 0,
             "ticks": ""
            },
            "type": "contourcarpet"
           }
          ],
          "heatmap": [
           {
            "colorbar": {
             "outlinewidth": 0,
             "ticks": ""
            },
            "colorscale": [
             [
              0,
              "#0d0887"
             ],
             [
              0.1111111111111111,
              "#46039f"
             ],
             [
              0.2222222222222222,
              "#7201a8"
             ],
             [
              0.3333333333333333,
              "#9c179e"
             ],
             [
              0.4444444444444444,
              "#bd3786"
             ],
             [
              0.5555555555555556,
              "#d8576b"
             ],
             [
              0.6666666666666666,
              "#ed7953"
             ],
             [
              0.7777777777777778,
              "#fb9f3a"
             ],
             [
              0.8888888888888888,
              "#fdca26"
             ],
             [
              1,
              "#f0f921"
             ]
            ],
            "type": "heatmap"
           }
          ],
          "heatmapgl": [
           {
            "colorbar": {
             "outlinewidth": 0,
             "ticks": ""
            },
            "colorscale": [
             [
              0,
              "#0d0887"
             ],
             [
              0.1111111111111111,
              "#46039f"
             ],
             [
              0.2222222222222222,
              "#7201a8"
             ],
             [
              0.3333333333333333,
              "#9c179e"
             ],
             [
              0.4444444444444444,
              "#bd3786"
             ],
             [
              0.5555555555555556,
              "#d8576b"
             ],
             [
              0.6666666666666666,
              "#ed7953"
             ],
             [
              0.7777777777777778,
              "#fb9f3a"
             ],
             [
              0.8888888888888888,
              "#fdca26"
             ],
             [
              1,
              "#f0f921"
             ]
            ],
            "type": "heatmapgl"
           }
          ],
          "histogram": [
           {
            "marker": {
             "pattern": {
              "fillmode": "overlay",
              "size": 10,
              "solidity": 0.2
             }
            },
            "type": "histogram"
           }
          ],
          "histogram2d": [
           {
            "colorbar": {
             "outlinewidth": 0,
             "ticks": ""
            },
            "colorscale": [
             [
              0,
              "#0d0887"
             ],
             [
              0.1111111111111111,
              "#46039f"
             ],
             [
              0.2222222222222222,
              "#7201a8"
             ],
             [
              0.3333333333333333,
              "#9c179e"
             ],
             [
              0.4444444444444444,
              "#bd3786"
             ],
             [
              0.5555555555555556,
              "#d8576b"
             ],
             [
              0.6666666666666666,
              "#ed7953"
             ],
             [
              0.7777777777777778,
              "#fb9f3a"
             ],
             [
              0.8888888888888888,
              "#fdca26"
             ],
             [
              1,
              "#f0f921"
             ]
            ],
            "type": "histogram2d"
           }
          ],
          "histogram2dcontour": [
           {
            "colorbar": {
             "outlinewidth": 0,
             "ticks": ""
            },
            "colorscale": [
             [
              0,
              "#0d0887"
             ],
             [
              0.1111111111111111,
              "#46039f"
             ],
             [
              0.2222222222222222,
              "#7201a8"
             ],
             [
              0.3333333333333333,
              "#9c179e"
             ],
             [
              0.4444444444444444,
              "#bd3786"
             ],
             [
              0.5555555555555556,
              "#d8576b"
             ],
             [
              0.6666666666666666,
              "#ed7953"
             ],
             [
              0.7777777777777778,
              "#fb9f3a"
             ],
             [
              0.8888888888888888,
              "#fdca26"
             ],
             [
              1,
              "#f0f921"
             ]
            ],
            "type": "histogram2dcontour"
           }
          ],
          "mesh3d": [
           {
            "colorbar": {
             "outlinewidth": 0,
             "ticks": ""
            },
            "type": "mesh3d"
           }
          ],
          "parcoords": [
           {
            "line": {
             "colorbar": {
              "outlinewidth": 0,
              "ticks": ""
             }
            },
            "type": "parcoords"
           }
          ],
          "pie": [
           {
            "automargin": true,
            "type": "pie"
           }
          ],
          "scatter": [
           {
            "fillpattern": {
             "fillmode": "overlay",
             "size": 10,
             "solidity": 0.2
            },
            "type": "scatter"
           }
          ],
          "scatter3d": [
           {
            "line": {
             "colorbar": {
              "outlinewidth": 0,
              "ticks": ""
             }
            },
            "marker": {
             "colorbar": {
              "outlinewidth": 0,
              "ticks": ""
             }
            },
            "type": "scatter3d"
           }
          ],
          "scattercarpet": [
           {
            "marker": {
             "colorbar": {
              "outlinewidth": 0,
              "ticks": ""
             }
            },
            "type": "scattercarpet"
           }
          ],
          "scattergeo": [
           {
            "marker": {
             "colorbar": {
              "outlinewidth": 0,
              "ticks": ""
             }
            },
            "type": "scattergeo"
           }
          ],
          "scattergl": [
           {
            "marker": {
             "colorbar": {
              "outlinewidth": 0,
              "ticks": ""
             }
            },
            "type": "scattergl"
           }
          ],
          "scattermapbox": [
           {
            "marker": {
             "colorbar": {
              "outlinewidth": 0,
              "ticks": ""
             }
            },
            "type": "scattermapbox"
           }
          ],
          "scatterpolar": [
           {
            "marker": {
             "colorbar": {
              "outlinewidth": 0,
              "ticks": ""
             }
            },
            "type": "scatterpolar"
           }
          ],
          "scatterpolargl": [
           {
            "marker": {
             "colorbar": {
              "outlinewidth": 0,
              "ticks": ""
             }
            },
            "type": "scatterpolargl"
           }
          ],
          "scatterternary": [
           {
            "marker": {
             "colorbar": {
              "outlinewidth": 0,
              "ticks": ""
             }
            },
            "type": "scatterternary"
           }
          ],
          "surface": [
           {
            "colorbar": {
             "outlinewidth": 0,
             "ticks": ""
            },
            "colorscale": [
             [
              0,
              "#0d0887"
             ],
             [
              0.1111111111111111,
              "#46039f"
             ],
             [
              0.2222222222222222,
              "#7201a8"
             ],
             [
              0.3333333333333333,
              "#9c179e"
             ],
             [
              0.4444444444444444,
              "#bd3786"
             ],
             [
              0.5555555555555556,
              "#d8576b"
             ],
             [
              0.6666666666666666,
              "#ed7953"
             ],
             [
              0.7777777777777778,
              "#fb9f3a"
             ],
             [
              0.8888888888888888,
              "#fdca26"
             ],
             [
              1,
              "#f0f921"
             ]
            ],
            "type": "surface"
           }
          ],
          "table": [
           {
            "cells": {
             "fill": {
              "color": "#EBF0F8"
             },
             "line": {
              "color": "white"
             }
            },
            "header": {
             "fill": {
              "color": "#C8D4E3"
             },
             "line": {
              "color": "white"
             }
            },
            "type": "table"
           }
          ]
         },
         "layout": {
          "annotationdefaults": {
           "arrowcolor": "#2a3f5f",
           "arrowhead": 0,
           "arrowwidth": 1
          },
          "autotypenumbers": "strict",
          "coloraxis": {
           "colorbar": {
            "outlinewidth": 0,
            "ticks": ""
           }
          },
          "colorscale": {
           "diverging": [
            [
             0,
             "#8e0152"
            ],
            [
             0.1,
             "#c51b7d"
            ],
            [
             0.2,
             "#de77ae"
            ],
            [
             0.3,
             "#f1b6da"
            ],
            [
             0.4,
             "#fde0ef"
            ],
            [
             0.5,
             "#f7f7f7"
            ],
            [
             0.6,
             "#e6f5d0"
            ],
            [
             0.7,
             "#b8e186"
            ],
            [
             0.8,
             "#7fbc41"
            ],
            [
             0.9,
             "#4d9221"
            ],
            [
             1,
             "#276419"
            ]
           ],
           "sequential": [
            [
             0,
             "#0d0887"
            ],
            [
             0.1111111111111111,
             "#46039f"
            ],
            [
             0.2222222222222222,
             "#7201a8"
            ],
            [
             0.3333333333333333,
             "#9c179e"
            ],
            [
             0.4444444444444444,
             "#bd3786"
            ],
            [
             0.5555555555555556,
             "#d8576b"
            ],
            [
             0.6666666666666666,
             "#ed7953"
            ],
            [
             0.7777777777777778,
             "#fb9f3a"
            ],
            [
             0.8888888888888888,
             "#fdca26"
            ],
            [
             1,
             "#f0f921"
            ]
           ],
           "sequentialminus": [
            [
             0,
             "#0d0887"
            ],
            [
             0.1111111111111111,
             "#46039f"
            ],
            [
             0.2222222222222222,
             "#7201a8"
            ],
            [
             0.3333333333333333,
             "#9c179e"
            ],
            [
             0.4444444444444444,
             "#bd3786"
            ],
            [
             0.5555555555555556,
             "#d8576b"
            ],
            [
             0.6666666666666666,
             "#ed7953"
            ],
            [
             0.7777777777777778,
             "#fb9f3a"
            ],
            [
             0.8888888888888888,
             "#fdca26"
            ],
            [
             1,
             "#f0f921"
            ]
           ]
          },
          "colorway": [
           "#636efa",
           "#EF553B",
           "#00cc96",
           "#ab63fa",
           "#FFA15A",
           "#19d3f3",
           "#FF6692",
           "#B6E880",
           "#FF97FF",
           "#FECB52"
          ],
          "font": {
           "color": "#2a3f5f"
          },
          "geo": {
           "bgcolor": "white",
           "lakecolor": "white",
           "landcolor": "white",
           "showlakes": true,
           "showland": true,
           "subunitcolor": "#C8D4E3"
          },
          "hoverlabel": {
           "align": "left"
          },
          "hovermode": "closest",
          "mapbox": {
           "style": "light"
          },
          "paper_bgcolor": "white",
          "plot_bgcolor": "white",
          "polar": {
           "angularaxis": {
            "gridcolor": "#EBF0F8",
            "linecolor": "#EBF0F8",
            "ticks": ""
           },
           "bgcolor": "white",
           "radialaxis": {
            "gridcolor": "#EBF0F8",
            "linecolor": "#EBF0F8",
            "ticks": ""
           }
          },
          "scene": {
           "xaxis": {
            "backgroundcolor": "white",
            "gridcolor": "#DFE8F3",
            "gridwidth": 2,
            "linecolor": "#EBF0F8",
            "showbackground": true,
            "ticks": "",
            "zerolinecolor": "#EBF0F8"
           },
           "yaxis": {
            "backgroundcolor": "white",
            "gridcolor": "#DFE8F3",
            "gridwidth": 2,
            "linecolor": "#EBF0F8",
            "showbackground": true,
            "ticks": "",
            "zerolinecolor": "#EBF0F8"
           },
           "zaxis": {
            "backgroundcolor": "white",
            "gridcolor": "#DFE8F3",
            "gridwidth": 2,
            "linecolor": "#EBF0F8",
            "showbackground": true,
            "ticks": "",
            "zerolinecolor": "#EBF0F8"
           }
          },
          "shapedefaults": {
           "line": {
            "color": "#2a3f5f"
           }
          },
          "ternary": {
           "aaxis": {
            "gridcolor": "#DFE8F3",
            "linecolor": "#A2B1C6",
            "ticks": ""
           },
           "baxis": {
            "gridcolor": "#DFE8F3",
            "linecolor": "#A2B1C6",
            "ticks": ""
           },
           "bgcolor": "white",
           "caxis": {
            "gridcolor": "#DFE8F3",
            "linecolor": "#A2B1C6",
            "ticks": ""
           }
          },
          "title": {
           "x": 0.05
          },
          "xaxis": {
           "automargin": true,
           "gridcolor": "#EBF0F8",
           "linecolor": "#EBF0F8",
           "ticks": "",
           "title": {
            "standoff": 15
           },
           "zerolinecolor": "#EBF0F8",
           "zerolinewidth": 2
          },
          "yaxis": {
           "automargin": true,
           "gridcolor": "#EBF0F8",
           "linecolor": "#EBF0F8",
           "ticks": "",
           "title": {
            "standoff": 15
           },
           "zerolinecolor": "#EBF0F8",
           "zerolinewidth": 2
          }
         }
        }
       }
      }
     },
     "metadata": {},
     "output_type": "display_data"
    }
   ],
   "source": [
    "fig = px.scatter_3d(\n",
    "    data_frame=reduced_df,\n",
    "    x=\"Component 1\",\n",
    "    y=\"Component 2\",\n",
    "    z=\"Component 3\",\n",
    "    color=\"Component 4\",\n",
    "    hover_data=[\n",
    "        \"taxon_id\",\n",
    "        \"media_id\"\n",
    "    ],\n",
    "    template=\"plotly_white\"\n",
    ")\n",
    "fig.show()"
   ]
  },
  {
   "cell_type": "code",
   "execution_count": 12,
   "metadata": {},
   "outputs": [
    {
     "data": {
      "application/vnd.plotly.v1+json": {
       "config": {
        "plotlyServerURL": "https://plot.ly"
       },
       "data": [
        {
         "customdata": [
          [
           "714",
           8423
          ],
          [
           "281376",
           1743
          ],
          [
           "52773",
           3891
          ],
          [
           "172371",
           813
          ],
          [
           "668",
           7767
          ],
          [
           "43671",
           5825
          ],
          [
           "217204",
           5143
          ],
          [
           "69485",
           6878
          ],
          [
           "102226",
           7013
          ],
          [
           "1049",
           1971
          ],
          [
           "59754",
           282
          ],
          [
           "644",
           5685
          ],
          [
           "392016",
           2543
          ],
          [
           "187327",
           4167
          ],
          [
           "192387",
           2358
          ],
          [
           "103729",
           6851
          ],
          [
           "435880",
           3202
          ],
          [
           "285944",
           7964
          ],
          [
           "739",
           4120
          ],
          [
           "94136",
           7818
          ],
          [
           "209880",
           1224
          ],
          [
           "753702",
           5113
          ],
          [
           "340345",
           7321
          ],
          [
           "226506",
           1241
          ],
          [
           "238540",
           1604
          ],
          [
           "218139",
           4585
          ],
          [
           "426703",
           3132
          ],
          [
           "68565",
           6788
          ],
          [
           "64988",
           385
          ],
          [
           "2041",
           8450
          ],
          [
           "2283",
           5905
          ],
          [
           "595671",
           5339
          ],
          [
           "356660",
           2487
          ],
          [
           "446787",
           2772
          ],
          [
           "103621",
           1319
          ],
          [
           "471514",
           4593
          ],
          [
           "328412",
           2263
          ],
          [
           "59505",
           1382
          ],
          [
           "444093",
           3384
          ],
          [
           "990712",
           5276
          ],
          [
           "392011",
           2546
          ],
          [
           "231391",
           8447
          ],
          [
           "103721",
           6780
          ],
          [
           "285091",
           1832
          ],
          [
           "360185",
           4242
          ],
          [
           "171260",
           814
          ],
          [
           "111143",
           1635
          ],
          [
           "42808",
           360
          ],
          [
           "1866",
           6497
          ],
          [
           "471",
           2005
          ],
          [
           "232270",
           4717
          ],
          [
           "76980",
           7965
          ],
          [
           "33075",
           187
          ],
          [
           "2148",
           3079
          ],
          [
           "392010",
           2542
          ],
          [
           "33952",
           43
          ],
          [
           "363867",
           4513
          ],
          [
           "41673",
           8066
          ],
          [
           "182182",
           4497
          ],
          [
           "31962",
           6718
          ],
          [
           "35763",
           6551
          ],
          [
           "645887",
           4467
          ],
          [
           "392014",
           2549
          ],
          [
           "39846",
           6853
          ],
          [
           "1659",
           6552
          ],
          [
           "46161",
           6615
          ],
          [
           "237019",
           3496
          ],
          [
           "511",
           733
          ],
          [
           "291403",
           5028
          ],
          [
           "66863",
           265
          ],
          [
           "52690",
           5674
          ],
          [
           "502181",
           7538
          ],
          [
           "233316",
           1466
          ],
          [
           "122960",
           720
          ],
          [
           "113561",
           6632
          ],
          [
           "115335",
           6612
          ],
          [
           "1850",
           6651
          ],
          [
           "205332",
           1578
          ],
          [
           "648",
           8326
          ],
          [
           "41986",
           3639
          ],
          [
           "123820",
           2288
          ],
          [
           "88373",
           988
          ],
          [
           "553384",
           5259
          ],
          [
           "392012",
           2547
          ],
          [
           "35830",
           2870
          ],
          [
           "61596",
           772
          ],
          [
           "52689",
           8413
          ],
          [
           "453835",
           3284
          ],
          [
           "416568",
           3230
          ],
          [
           "52699",
           99
          ],
          [
           "232089",
           8446
          ],
          [
           "182455",
           977
          ],
          [
           "76020",
           6857
          ],
          [
           "312540",
           1889
          ],
          [
           "279824",
           4702
          ],
          [
           "88376",
           989
          ],
          [
           "937334",
           3859
          ],
          [
           "104100",
           7196
          ],
          [
           "305698",
           2269
          ],
          [
           "150723",
           2270
          ],
          [
           "286438",
           8449
          ],
          [
           "720",
           3458
          ],
          [
           "419015",
           4165
          ],
          [
           "722",
           4530
          ],
          [
           "57028",
           4694
          ],
          [
           "201094",
           206
          ],
          [
           "240840",
           7066
          ],
          [
           "52769",
           8224
          ],
          [
           "202947",
           3391
          ],
          [
           "131111",
           8530
          ],
          [
           "52768",
           8223
          ],
          [
           "72556",
           56
          ],
          [
           "304899",
           7202
          ],
          [
           "204470",
           1112
          ],
          [
           "2382",
           7890
          ],
          [
           "52693",
           8411
          ],
          [
           "392015",
           2548
          ],
          [
           "571911",
           7566
          ],
          [
           "155976",
           7019
          ],
          [
           "426702",
           3133
          ],
          [
           "290052",
           5686
          ],
          [
           "424795",
           4430
          ],
          [
           "153267",
           874
          ],
          [
           "1457",
           5973
          ],
          [
           "190146",
           1512
          ],
          [
           "1656",
           6625
          ],
          [
           "437",
           7874
          ]
         ],
         "hovertemplate": "Cluster=0<br>Component 1=%{x}<br>Component 2=%{y}<br>Component 3=%{z}<br>taxon_id=%{customdata[0]}<br>media_id=%{customdata[1]}<extra></extra>",
         "legendgroup": "0",
         "marker": {
          "color": "rgb(102, 197, 204)",
          "symbol": "circle"
         },
         "mode": "markers",
         "name": "0",
         "scene": "scene",
         "showlegend": true,
         "type": "scatter3d",
         "x": [
          -222.1371612548828,
          -221.66038513183594,
          -221.91258239746094,
          -222.08071899414062,
          -222.08419799804688,
          -220.63111877441406,
          -216.42506408691406,
          -221.42727661132812,
          -222.18994140625,
          -221.15087890625,
          -221.966064453125,
          -221.45083618164062,
          -221.80087280273438,
          -221.96926879882812,
          -222.217041015625,
          -221.97625732421875,
          -216.51351928710938,
          -221.1224822998047,
          -221.73655700683594,
          -220.3768310546875,
          -221.97608947753906,
          -221.9178466796875,
          -220.9881591796875,
          -216.4991455078125,
          -220.28587341308594,
          -221.16836547851562,
          -221.87152099609375,
          -221.66705322265625,
          -222.13526916503906,
          -222.2852020263672,
          -221.9795379638672,
          -222.0512237548828,
          -221.8020782470703,
          -221.1298065185547,
          -219.9246063232422,
          -221.46881103515625,
          -220.0657958984375,
          -221.91273498535156,
          -221.29298400878906,
          -221.85252380371094,
          -221.81455993652344,
          -221.8970947265625,
          -222.0138397216797,
          -220.2498321533203,
          -221.83323669433594,
          -221.98184204101562,
          -222.27069091796875,
          -222.0687713623047,
          -222.25006103515625,
          -221.92147827148438,
          -222.43942260742188,
          -221.64071655273438,
          -221.10997009277344,
          -222.00372314453125,
          -221.07479858398438,
          -220.33114624023438,
          -221.3463592529297,
          -221.0506134033203,
          -222.01104736328125,
          -221.8291473388672,
          -222.078125,
          -219.8656005859375,
          -222.11953735351562,
          -221.71533203125,
          -221.8822784423828,
          -221.67449951171875,
          -222.32162475585938,
          -221.8751220703125,
          -221.16677856445312,
          -222.1806182861328,
          -220.30760192871094,
          -221.7267608642578,
          -221.39952087402344,
          -222.09088134765625,
          -221.6806640625,
          -222.1261749267578,
          -221.72694396972656,
          -222.23582458496094,
          -222.23036193847656,
          -222.30203247070312,
          -217.31301879882812,
          -222.06948852539062,
          -222.459716796875,
          -221.22593688964844,
          -221.8756103515625,
          -221.76243591308594,
          -221.60565185546875,
          -222.3600311279297,
          -222.2060089111328,
          -221.56246948242188,
          -222.25436401367188,
          -222.4126434326172,
          -222.18980407714844,
          -222.247314453125,
          -220.4561309814453,
          -221.8611297607422,
          -221.03260803222656,
          -222.03135681152344,
          -221.72271728515625,
          -220.98867797851562,
          -221.95355224609375,
          -217.30931091308594,
          -222.03628540039062,
          -221.29896545410156,
          -220.9043731689453,
          -221.9858856201172,
          -220.54110717773438,
          -222.46652221679688,
          -221.92636108398438,
          -221.02825927734375,
          -222.13856506347656,
          -220.60894775390625,
          -222.29476928710938,
          -222.2921905517578,
          -220.31564331054688,
          -222.0889434814453,
          -220.84617614746094,
          -221.34475708007812,
          -221.8160858154297,
          -222.56277465820312,
          -222.3096160888672,
          -221.98280334472656,
          -222.33694458007812,
          -222.33905029296875,
          -222.24014282226562,
          -221.90525817871094,
          -222.27734375
         ],
         "y": [
          127.57703399658203,
          127.36202239990234,
          127.27039337158203,
          127.0365219116211,
          127.4590072631836,
          128.2316131591797,
          100.8006820678711,
          127.52142333984375,
          126.77405548095703,
          127.2965316772461,
          126.9024429321289,
          127.66072082519531,
          127.38629913330078,
          127.51201629638672,
          127.35140228271484,
          127.31482696533203,
          101.24644470214844,
          127.18689727783203,
          127.8082046508789,
          127.9991683959961,
          127.24576568603516,
          127.60633850097656,
          127.2109375,
          101.26455688476562,
          128.06546020507812,
          127.16064453125,
          127.6221923828125,
          127.15190124511719,
          127.31082153320312,
          127.49933624267578,
          127.228759765625,
          127.63919067382812,
          127.03414154052734,
          127.29768371582031,
          127.87947082519531,
          127.4122543334961,
          127.56343078613281,
          127.69059753417969,
          127.74737548828125,
          127.22785949707031,
          127.05493927001953,
          127.40766906738281,
          127.23341369628906,
          127.50425720214844,
          127.18859100341797,
          126.84241485595703,
          126.97756958007812,
          127.27084350585938,
          126.94928741455078,
          126.78948211669922,
          127.27811431884766,
          127.06779479980469,
          127.8364028930664,
          127.36310577392578,
          127.30944061279297,
          127.99701690673828,
          127.49694061279297,
          127.31784057617188,
          128.0728759765625,
          127.05488586425781,
          127.45993041992188,
          127.84614562988281,
          127.2348403930664,
          127.29608917236328,
          127.85277557373047,
          126.97571563720703,
          127.0067138671875,
          127.44744873046875,
          127.53299713134766,
          126.97596740722656,
          127.97026824951172,
          127.35660552978516,
          127.1523666381836,
          126.8699951171875,
          126.92101287841797,
          127.4961166381836,
          126.90721130371094,
          127.76830291748047,
          127.18187713623047,
          127.7370376586914,
          101.5893325805664,
          127.72956085205078,
          127.2021484375,
          127.05213928222656,
          127.22976684570312,
          126.9543685913086,
          127.23485565185547,
          127.0971450805664,
          127.6852035522461,
          127.45726776123047,
          127.53697967529297,
          127.36161804199219,
          127.08695220947266,
          127.31825256347656,
          127.11531066894531,
          127.65457916259766,
          127.48890686035156,
          126.81816864013672,
          127.93604278564453,
          128.34747314453125,
          127.5621109008789,
          101.57882690429688,
          127.0220718383789,
          128.11631774902344,
          127.28890228271484,
          126.99895477294922,
          127.0105972290039,
          127.11207580566406,
          126.85517883300781,
          128.19017028808594,
          127.12351989746094,
          127.34605407714844,
          127.33642578125,
          126.92974853515625,
          128.0212860107422,
          127.84159851074219,
          127.31039428710938,
          127.874755859375,
          127.53738403320312,
          127.44368743896484,
          127.40108489990234,
          127.14199829101562,
          127.5644760131836,
          126.97958374023438,
          127.32180786132812,
          127.23942565917969,
          127.4088134765625
         ],
         "z": [
          -15.232712745666504,
          -15.379432678222656,
          -15.335724830627441,
          -14.882686614990234,
          -15.182005882263184,
          -15.452452659606934,
          -23.563634872436523,
          -15.36424732208252,
          -14.898839950561523,
          -16.003063201904297,
          -15.240713119506836,
          -15.536261558532715,
          -15.384995460510254,
          -14.918439865112305,
          -14.898634910583496,
          -15.486068725585938,
          -21.78091049194336,
          -15.196130752563477,
          -15.07923412322998,
          -14.858059883117676,
          -15.306889533996582,
          -15.32970142364502,
          -15.901756286621094,
          -21.780052185058594,
          -14.919811248779297,
          -15.801989555358887,
          -15.031103134155273,
          -15.140206336975098,
          -14.71218490600586,
          -15.200316429138184,
          -15.131326675415039,
          -15.105611801147461,
          -15.512295722961426,
          -15.810815811157227,
          -15.195850372314453,
          -14.667163848876953,
          -16.207921981811523,
          -15.423880577087402,
          -15.389562606811523,
          -14.732657432556152,
          -15.09664249420166,
          -15.05744743347168,
          -14.95180606842041,
          -16.098947525024414,
          -15.58647632598877,
          -15.423365592956543,
          -15.349920272827148,
          -15.741972923278809,
          -15.16469955444336,
          -15.126827239990234,
          -15.412932395935059,
          -15.1953706741333,
          -15.466755867004395,
          -15.591777801513672,
          -15.879937171936035,
          -16.07682991027832,
          -14.476444244384766,
          -15.345329284667969,
          -15.228219985961914,
          -14.849367141723633,
          -14.572075843811035,
          -15.459259033203125,
          -14.910713195800781,
          -15.01026439666748,
          -14.982110023498535,
          -15.295940399169922,
          -15.322452545166016,
          -15.01459789276123,
          -14.641626358032227,
          -15.522831916809082,
          -16.099987030029297,
          -14.323415756225586,
          -15.868915557861328,
          -15.016925811767578,
          -15.392313003540039,
          -15.74382209777832,
          -15.069716453552246,
          -15.087154388427734,
          -15.588827133178711,
          -15.479239463806152,
          -20.512174606323242,
          -15.568705558776855,
          -14.983537673950195,
          -15.756797790527344,
          -15.328868865966797,
          -15.197021484375,
          -15.031405448913574,
          -15.302889823913574,
          -14.744611740112305,
          -14.454771995544434,
          -14.811285972595215,
          -14.833702087402344,
          -14.6598539352417,
          -15.085490226745605,
          -15.228297233581543,
          -15.754008293151855,
          -15.43028736114502,
          -15.436837196350098,
          -15.209295272827148,
          -15.301501274108887,
          -15.342740058898926,
          -20.515350341796875,
          -15.300800323486328,
          -15.008096694946289,
          -15.082648277282715,
          -14.483445167541504,
          -15.148380279541016,
          -15.038084030151367,
          -14.7996187210083,
          -15.90401840209961,
          -15.243045806884766,
          -15.129636764526367,
          -15.700150489807129,
          -14.765438079833984,
          -16.049623489379883,
          -15.179190635681152,
          -15.375728607177734,
          -14.600415229797363,
          -14.529316902160645,
          -15.18317985534668,
          -14.536396980285645,
          -15.68284797668457,
          -15.416017532348633,
          -14.85290813446045,
          -15.451286315917969,
          -14.638193130493164,
          -15.081222534179688
         ]
        },
        {
         "customdata": [
          [
           "634436",
           4872
          ],
          [
           "104102",
           1388
          ],
          [
           "160808",
           4716
          ],
          [
           "310575",
           2079
          ],
          [
           "33059",
           8445
          ],
          [
           "106648",
           5469
          ],
          [
           "343013",
           3211
          ],
          [
           "930",
           1088
          ],
          [
           "87541",
           1520
          ],
          [
           "435",
           3592
          ],
          [
           "178901",
           893
          ],
          [
           "651",
           7735
          ],
          [
           "40215",
           1120
          ],
          [
           "197183",
           1292
          ],
          [
           "80868",
           2082
          ],
          [
           "65959",
           329
          ],
          [
           "146475",
           1386
          ],
          [
           "1657",
           3840
          ],
          [
           "202956",
           1121
          ],
          [
           "73010",
           284
          ],
          [
           "202954",
           1123
          ],
          [
           "43655",
           8477
          ],
          [
           "633417",
           5230
          ],
          [
           "51665",
           3716
          ],
          [
           "211460",
           2300
          ],
          [
           "108981",
           1639
          ],
          [
           "152573",
           2723
          ],
          [
           "61595",
           2199
          ],
          [
           "32002",
           7655
          ],
          [
           "43655",
           1497
          ],
          [
           "163359",
           5190
          ],
          [
           "179636",
           1038
          ],
          [
           "51049",
           4531
          ],
          [
           "187868",
           1873
          ],
          [
           "1377",
           3704
          ],
          [
           "218936",
           1859
          ],
          [
           "80852",
           4509
          ],
          [
           "446660",
           3274
          ],
          [
           "1660",
           3091
          ],
          [
           "483199",
           3354
          ],
          [
           "104101",
           1389
          ],
          [
           "267800",
           5147
          ],
          [
           "756892",
           5461
          ],
          [
           "146474",
           1387
          ],
          [
           "83263",
           8096
          ],
          [
           "197700",
           4298
          ],
          [
           "52694",
           3081
          ],
          [
           "471225",
           5160
          ],
          [
           "40216",
           8236
          ],
          [
           "281375",
           1742
          ],
          [
           "178900",
           899
          ],
          [
           "67855",
           4498
          ],
          [
           "55565",
           1381
          ],
          [
           "221126",
           1289
          ],
          [
           "29491",
           3382
          ],
          [
           "592050",
           5394
          ],
          [
           "48296",
           5491
          ],
          [
           "1077255",
           7950
          ],
          [
           "328814",
           3092
          ],
          [
           "217203",
           5142
          ],
          [
           "328813",
           3114
          ],
          [
           "28090",
           5716
          ],
          [
           "652",
           7736
          ],
          [
           "239935",
           4805
          ],
          [
           "40214",
           5763
          ],
          [
           "1376",
           8355
          ],
          [
           "51161",
           227
          ],
          [
           "646",
           3127
          ]
         ],
         "hovertemplate": "Cluster=1<br>Component 1=%{x}<br>Component 2=%{y}<br>Component 3=%{z}<br>taxon_id=%{customdata[0]}<br>media_id=%{customdata[1]}<extra></extra>",
         "legendgroup": "1",
         "marker": {
          "color": "rgb(246, 207, 113)",
          "symbol": "circle"
         },
         "mode": "markers",
         "name": "1",
         "scene": "scene",
         "showlegend": true,
         "type": "scatter3d",
         "x": [
          -33.486419677734375,
          -32.59285354614258,
          -32.981689453125,
          -33.956851959228516,
          -33.56848907470703,
          -32.689640045166016,
          -33.19117736816406,
          -33.681427001953125,
          -33.536964416503906,
          -32.80122756958008,
          -32.61812973022461,
          -33.619598388671875,
          -32.68367385864258,
          -32.8620491027832,
          -32.77058792114258,
          -32.703285217285156,
          -32.64238357543945,
          -33.463993072509766,
          -32.6951904296875,
          -33.41520309448242,
          -32.857948303222656,
          -33.437503814697266,
          -33.3763313293457,
          -33.519569396972656,
          -32.71181869506836,
          -32.896392822265625,
          -33.74753189086914,
          -33.51560974121094,
          -33.59566116333008,
          -33.46819305419922,
          -33.00657272338867,
          -32.78599166870117,
          -33.4576301574707,
          -33.33496856689453,
          -33.60356903076172,
          -33.172176361083984,
          -33.24477005004883,
          -33.352901458740234,
          -33.43943405151367,
          -32.836036682128906,
          -32.54130554199219,
          -33.937904357910156,
          -32.89976501464844,
          -32.50271987915039,
          -32.59275436401367,
          -33.518856048583984,
          -33.55036544799805,
          -33.46052932739258,
          -33.20647430419922,
          -33.33860778808594,
          -32.75859832763672,
          -33.2940559387207,
          -33.308570861816406,
          -33.217105865478516,
          -33.290103912353516,
          -32.631591796875,
          -33.210205078125,
          -33.255615234375,
          -33.302223205566406,
          -33.105003356933594,
          -33.14580535888672,
          -32.942508697509766,
          -33.373069763183594,
          -32.98974609375,
          -33.00644302368164,
          -33.68067169189453,
          -33.82656478881836,
          -33.23746871948242
         ],
         "y": [
          7.634564399719238,
          6.422357082366943,
          7.919334888458252,
          7.622617244720459,
          7.884474277496338,
          8.157085418701172,
          7.732734680175781,
          7.943506717681885,
          8.122161865234375,
          6.54340124130249,
          6.413415908813477,
          7.770357131958008,
          8.058371543884277,
          7.750446796417236,
          7.660268783569336,
          6.517120361328125,
          6.475254058837891,
          8.261092185974121,
          8.167304992675781,
          7.75044584274292,
          8.022001266479492,
          7.371111869812012,
          7.698886394500732,
          8.193814277648926,
          6.6043701171875,
          8.239051818847656,
          7.973799228668213,
          7.773766040802002,
          7.654393672943115,
          7.396694660186768,
          8.112202644348145,
          8.155564308166504,
          8.064591407775879,
          7.483914375305176,
          8.100826263427734,
          7.443062782287598,
          7.777397155761719,
          8.559237480163574,
          8.5314359664917,
          6.542288303375244,
          6.34891414642334,
          7.660577774047852,
          7.8962554931640625,
          6.323319435119629,
          6.49957799911499,
          7.79472017288208,
          8.480697631835938,
          7.702620029449463,
          7.756194114685059,
          7.693798542022705,
          6.507833003997803,
          8.100257873535156,
          8.30320930480957,
          8.481755256652832,
          7.837131977081299,
          8.090903282165527,
          7.911740303039551,
          7.673111438751221,
          8.395346641540527,
          7.64730167388916,
          8.532960891723633,
          8.065674781799316,
          8.035588264465332,
          8.374616622924805,
          7.973346710205078,
          8.059266090393066,
          7.669057369232178,
          7.610699653625488
         ],
         "z": [
          -55.46701431274414,
          -55.297908782958984,
          -55.47966003417969,
          -55.49452590942383,
          -55.60274124145508,
          -55.308998107910156,
          -55.331138610839844,
          -55.386390686035156,
          -56.00402069091797,
          -54.88517379760742,
          -55.22983932495117,
          -55.54795455932617,
          -55.41738510131836,
          -55.37290954589844,
          -55.36868667602539,
          -55.23604202270508,
          -55.30988311767578,
          -56.04222869873047,
          -55.33502197265625,
          -55.240638732910156,
          -55.504085540771484,
          -55.39745330810547,
          -55.49687194824219,
          -56.05231475830078,
          -55.36896514892578,
          -55.54215621948242,
          -55.46369171142578,
          -55.85102081298828,
          -55.91752243041992,
          -55.45037841796875,
          -55.409828186035156,
          -55.245704650878906,
          -55.15460968017578,
          -55.48650360107422,
          -56.11600112915039,
          -55.3201789855957,
          -55.165733337402344,
          -55.74422073364258,
          -55.68914031982422,
          -55.2135009765625,
          -55.33259201049805,
          -55.45966720581055,
          -55.30485534667969,
          -55.388710021972656,
          -55.41424560546875,
          -55.2183837890625,
          -55.64222717285156,
          -55.571834564208984,
          -55.63779067993164,
          -55.20191192626953,
          -54.994773864746094,
          -55.265533447265625,
          -55.69333267211914,
          -55.55388259887695,
          -55.36625289916992,
          -55.226444244384766,
          -55.78078079223633,
          -55.7304801940918,
          -55.65366744995117,
          -55.55020523071289,
          -55.51679611206055,
          -55.70564270019531,
          -55.44288635253906,
          -55.477657318115234,
          -55.38935089111328,
          -55.82537841796875,
          -55.767269134521484,
          -55.47918701171875
         ]
        },
        {
         "customdata": [
          [
           "95160",
           7096
          ],
          [
           "157339",
           4527
          ],
          [
           "67854",
           4526
          ],
          [
           "507754",
           2757
          ],
          [
           "337895",
           7248
          ],
          [
           "202948",
           4613
          ],
          [
           "1868",
           6515
          ],
          [
           "333142",
           6956
          ],
          [
           "1993",
           6500
          ],
          [
           "35752",
           6485
          ],
          [
           "717",
           3452
          ],
          [
           "151414",
           2301
          ],
          [
           "46163",
           6108
          ],
          [
           "304077",
           5195
          ],
          [
           "46159",
           6602
          ],
          [
           "113559",
           6514
          ],
          [
           "392828",
           7280
          ],
          [
           "163603",
           6561
          ],
          [
           "12917",
           8104
          ],
          [
           "52770",
           3890
          ],
          [
           "113568",
           6516
          ],
          [
           "663603",
           7629
          ],
          [
           "719",
           4529
          ],
          [
           "52697",
           6693
          ],
          [
           "182080",
           6815
          ],
          [
           "58110",
           6529
          ],
          [
           "453573",
           7466
          ],
          [
           "595468",
           4488
          ],
          [
           "113567",
           6512
          ],
          [
           "663609",
           7625
          ],
          [
           "113562",
           6723
          ],
          [
           "12915",
           5829
          ],
          [
           "571912",
           7565
          ],
          [
           "86669",
           490
          ],
          [
           "227318",
           7134
          ],
          [
           "46158",
           6570
          ],
          [
           "47988",
           6489
          ],
          [
           "375541",
           3068
          ],
          [
           "90975",
           7057
          ],
          [
           "83264",
           8252
          ],
          [
           "113560",
           6724
          ],
          [
           "626932",
           4639
          ],
          [
           "1869",
           6513
          ],
          [
           "1992",
           6524
          ],
          [
           "134959",
           6936
          ],
          [
           "1816",
           6667
          ],
          [
           "716",
           3460
          ],
          [
           "1867",
           6677
          ],
          [
           "1034",
           8324
          ],
          [
           "359158",
           7230
          ],
          [
           "673379",
           7262
          ],
          [
           "1655",
           2162
          ],
          [
           "42198",
           6779
          ]
         ],
         "hovertemplate": "Cluster=2<br>Component 1=%{x}<br>Component 2=%{y}<br>Component 3=%{z}<br>taxon_id=%{customdata[0]}<br>media_id=%{customdata[1]}<extra></extra>",
         "legendgroup": "2",
         "marker": {
          "color": "rgb(248, 156, 116)",
          "symbol": "circle"
         },
         "mode": "markers",
         "name": "2",
         "scene": "scene",
         "showlegend": true,
         "type": "scatter3d",
         "x": [
          -237.4048614501953,
          -236.101806640625,
          -236.43539428710938,
          -236.10250854492188,
          -237.28521728515625,
          -236.1956024169922,
          -237.0967254638672,
          -236.41397094726562,
          -236.58419799804688,
          -236.94198608398438,
          -236.13400268554688,
          -236.1626739501953,
          -237.03485107421875,
          -236.04356384277344,
          -236.7617950439453,
          -237.32098388671875,
          -237.01919555664062,
          -236.66539001464844,
          -235.93360900878906,
          -237.07835388183594,
          -237.2667694091797,
          -236.7901611328125,
          -235.94349670410156,
          -236.81239318847656,
          -236.93544006347656,
          -236.7376708984375,
          -236.99729919433594,
          -236.33738708496094,
          -237.00987243652344,
          -237.2950439453125,
          -236.9754638671875,
          -236.01693725585938,
          -237.5732421875,
          -236.22796630859375,
          -236.55186462402344,
          -237.30950927734375,
          -236.33763122558594,
          -236.36196899414062,
          -236.5852508544922,
          -235.98475646972656,
          -237.3954620361328,
          -236.32534790039062,
          -236.98130798339844,
          -236.9583282470703,
          -237.10311889648438,
          -236.5721893310547,
          -236.4944305419922,
          -237.15028381347656,
          -236.52212524414062,
          -236.99932861328125,
          -236.6011962890625,
          -236.36444091796875,
          -236.1591796875
         ],
         "y": [
          84.25414276123047,
          83.05484771728516,
          83.12594604492188,
          83.00100708007812,
          84.16553497314453,
          82.91595458984375,
          84.29438781738281,
          84.58084869384766,
          83.96918487548828,
          84.32682800292969,
          82.84671020507812,
          83.05548858642578,
          84.15148162841797,
          83.00411224365234,
          83.8765640258789,
          84.3114013671875,
          83.84416198730469,
          83.5682601928711,
          82.92579650878906,
          84.05323028564453,
          84.3523941040039,
          83.834228515625,
          82.87457275390625,
          84.50505828857422,
          84.13639068603516,
          83.68693542480469,
          83.90769958496094,
          83.4734878540039,
          84.39485168457031,
          84.16764068603516,
          84.37229919433594,
          82.93260955810547,
          84.39038848876953,
          83.24663543701172,
          84.78955078125,
          84.21683502197266,
          84.15614318847656,
          82.99058532714844,
          83.35488891601562,
          82.90571594238281,
          84.3005142211914,
          83.25089263916016,
          84.6199951171875,
          83.8007583618164,
          84.10568237304688,
          84.77378845214844,
          82.93919372558594,
          84.32144927978516,
          83.17454528808594,
          84.15100860595703,
          84.55557250976562,
          83.15450286865234,
          83.0219497680664
         ],
         "z": [
          -13.12287712097168,
          -15.33720588684082,
          -15.2218017578125,
          -15.39512825012207,
          -13.231069564819336,
          -15.408587455749512,
          -13.884535789489746,
          -13.958799362182617,
          -14.181278228759766,
          -13.75313663482666,
          -15.30771255493164,
          -15.309389114379883,
          -14.083189964294434,
          -15.411051750183105,
          -14.10958480834961,
          -13.923746109008789,
          -13.580094337463379,
          -14.587175369262695,
          -15.353456497192383,
          -13.590441703796387,
          -13.86519718170166,
          -14.396510124206543,
          -15.23887825012207,
          -13.633402824401855,
          -13.79231071472168,
          -14.313575744628906,
          -13.637226104736328,
          -14.64078140258789,
          -13.897247314453125,
          -14.361398696899414,
          -13.995885848999023,
          -15.493613243103027,
          -14.143068313598633,
          -15.26705551147461,
          -13.852264404296875,
          -13.304801940917969,
          -14.181912422180176,
          -15.334465980529785,
          -14.983100891113281,
          -15.335747718811035,
          -14.085713386535645,
          -14.914307594299316,
          -14.107373237609863,
          -13.642577171325684,
          -13.957345008850098,
          -13.863658905029297,
          -15.429819107055664,
          -13.695425987243652,
          -15.124404907226562,
          -13.758289337158203,
          -13.901945114135742,
          -15.428970336914062,
          -15.047861099243164
         ]
        },
        {
         "customdata": [
          [
           "396323",
           2792
          ],
          [
           "202955",
           1124
          ],
          [
           "632955",
           5220
          ],
          [
           "502790",
           5428
          ],
          [
           "600645",
           5030
          ],
          [
           "633415",
           5229
          ],
          [
           "271417",
           2076
          ],
          [
           "649",
           2321
          ],
          [
           "208958",
           2399
          ],
          [
           "591962",
           5101
          ],
          [
           "134534",
           4704
          ],
          [
           "134533",
           1871
          ],
          [
           "648794",
           4647
          ],
          [
           "202950",
           1117
          ],
          [
           "96473",
           495
          ],
          [
           "262668",
           4786
          ],
          [
           "105751",
           805
          ],
          [
           "202952",
           1119
          ],
          [
           "70856",
           3361
          ],
          [
           "80745",
           4053
          ],
          [
           "56636",
           332
          ],
          [
           "113288",
           4048
          ]
         ],
         "hovertemplate": "Cluster=3<br>Component 1=%{x}<br>Component 2=%{y}<br>Component 3=%{z}<br>taxon_id=%{customdata[0]}<br>media_id=%{customdata[1]}<extra></extra>",
         "legendgroup": "3",
         "marker": {
          "color": "rgb(220, 176, 242)",
          "symbol": "circle"
         },
         "mode": "markers",
         "name": "3",
         "scene": "scene",
         "showlegend": true,
         "type": "scatter3d",
         "x": [
          -1.0102959871292114,
          -0.9530924558639526,
          -0.8817475438117981,
          -0.09459946304559708,
          0.0005865240818820894,
          -0.009078795090317726,
          0.055702198296785355,
          0.03342108801007271,
          -0.2272416651248932,
          -0.17020250856876373,
          -0.8051941990852356,
          -0.7509538531303406,
          -0.10814335197210312,
          -0.8415648341178894,
          -0.2695777416229248,
          -0.7285141348838806,
          0.02121608331799507,
          -0.8531419038772583,
          -0.00994054228067398,
          -0.38664761185646057,
          -1.0693495273590088,
          -0.17244108021259308
         ],
         "y": [
          0.4327905476093292,
          0.4244455397129059,
          0.45011451840400696,
          0.7141109108924866,
          0.5957106947898865,
          0.4897719919681549,
          0.5389712452888489,
          0.5092045068740845,
          0.6864569783210754,
          0.7520933151245117,
          0.47562333941459656,
          0.5457337498664856,
          0.7572571635246277,
          0.4313809275627136,
          0.6134111881256104,
          0.40331941843032837,
          0.5108067989349365,
          0.36614567041397095,
          0.649068295955658,
          0.5998732447624207,
          0.4040151536464691,
          0.5860713124275208
         ],
         "z": [
          -21.290651321411133,
          -21.38331413269043,
          -21.42877197265625,
          -21.76519012451172,
          -21.905080795288086,
          -21.99221420288086,
          -22.06504249572754,
          -22.049901962280273,
          -21.72817039489746,
          -21.660627365112305,
          -21.518774032592773,
          -21.58510971069336,
          -21.72211265563965,
          -21.466217041015625,
          -21.74504280090332,
          -21.502357482910156,
          -22.04772186279297,
          -21.422607421875,
          -21.84771156311035,
          -21.632671356201172,
          -21.310914993286133,
          -21.834819793701172
         ]
        }
       ],
       "layout": {
        "legend": {
         "title": {
          "text": "Cluster"
         },
         "tracegroupgap": 0
        },
        "margin": {
         "t": 60
        },
        "scene": {
         "domain": {
          "x": [
           0,
           1
          ],
          "y": [
           0,
           1
          ]
         },
         "xaxis": {
          "title": {
           "text": "Component 1"
          }
         },
         "yaxis": {
          "title": {
           "text": "Component 2"
          }
         },
         "zaxis": {
          "title": {
           "text": "Component 3"
          }
         }
        },
        "template": {
         "data": {
          "bar": [
           {
            "error_x": {
             "color": "#2a3f5f"
            },
            "error_y": {
             "color": "#2a3f5f"
            },
            "marker": {
             "line": {
              "color": "white",
              "width": 0.5
             },
             "pattern": {
              "fillmode": "overlay",
              "size": 10,
              "solidity": 0.2
             }
            },
            "type": "bar"
           }
          ],
          "barpolar": [
           {
            "marker": {
             "line": {
              "color": "white",
              "width": 0.5
             },
             "pattern": {
              "fillmode": "overlay",
              "size": 10,
              "solidity": 0.2
             }
            },
            "type": "barpolar"
           }
          ],
          "carpet": [
           {
            "aaxis": {
             "endlinecolor": "#2a3f5f",
             "gridcolor": "#C8D4E3",
             "linecolor": "#C8D4E3",
             "minorgridcolor": "#C8D4E3",
             "startlinecolor": "#2a3f5f"
            },
            "baxis": {
             "endlinecolor": "#2a3f5f",
             "gridcolor": "#C8D4E3",
             "linecolor": "#C8D4E3",
             "minorgridcolor": "#C8D4E3",
             "startlinecolor": "#2a3f5f"
            },
            "type": "carpet"
           }
          ],
          "choropleth": [
           {
            "colorbar": {
             "outlinewidth": 0,
             "ticks": ""
            },
            "type": "choropleth"
           }
          ],
          "contour": [
           {
            "colorbar": {
             "outlinewidth": 0,
             "ticks": ""
            },
            "colorscale": [
             [
              0,
              "#0d0887"
             ],
             [
              0.1111111111111111,
              "#46039f"
             ],
             [
              0.2222222222222222,
              "#7201a8"
             ],
             [
              0.3333333333333333,
              "#9c179e"
             ],
             [
              0.4444444444444444,
              "#bd3786"
             ],
             [
              0.5555555555555556,
              "#d8576b"
             ],
             [
              0.6666666666666666,
              "#ed7953"
             ],
             [
              0.7777777777777778,
              "#fb9f3a"
             ],
             [
              0.8888888888888888,
              "#fdca26"
             ],
             [
              1,
              "#f0f921"
             ]
            ],
            "type": "contour"
           }
          ],
          "contourcarpet": [
           {
            "colorbar": {
             "outlinewidth": 0,
             "ticks": ""
            },
            "type": "contourcarpet"
           }
          ],
          "heatmap": [
           {
            "colorbar": {
             "outlinewidth": 0,
             "ticks": ""
            },
            "colorscale": [
             [
              0,
              "#0d0887"
             ],
             [
              0.1111111111111111,
              "#46039f"
             ],
             [
              0.2222222222222222,
              "#7201a8"
             ],
             [
              0.3333333333333333,
              "#9c179e"
             ],
             [
              0.4444444444444444,
              "#bd3786"
             ],
             [
              0.5555555555555556,
              "#d8576b"
             ],
             [
              0.6666666666666666,
              "#ed7953"
             ],
             [
              0.7777777777777778,
              "#fb9f3a"
             ],
             [
              0.8888888888888888,
              "#fdca26"
             ],
             [
              1,
              "#f0f921"
             ]
            ],
            "type": "heatmap"
           }
          ],
          "heatmapgl": [
           {
            "colorbar": {
             "outlinewidth": 0,
             "ticks": ""
            },
            "colorscale": [
             [
              0,
              "#0d0887"
             ],
             [
              0.1111111111111111,
              "#46039f"
             ],
             [
              0.2222222222222222,
              "#7201a8"
             ],
             [
              0.3333333333333333,
              "#9c179e"
             ],
             [
              0.4444444444444444,
              "#bd3786"
             ],
             [
              0.5555555555555556,
              "#d8576b"
             ],
             [
              0.6666666666666666,
              "#ed7953"
             ],
             [
              0.7777777777777778,
              "#fb9f3a"
             ],
             [
              0.8888888888888888,
              "#fdca26"
             ],
             [
              1,
              "#f0f921"
             ]
            ],
            "type": "heatmapgl"
           }
          ],
          "histogram": [
           {
            "marker": {
             "pattern": {
              "fillmode": "overlay",
              "size": 10,
              "solidity": 0.2
             }
            },
            "type": "histogram"
           }
          ],
          "histogram2d": [
           {
            "colorbar": {
             "outlinewidth": 0,
             "ticks": ""
            },
            "colorscale": [
             [
              0,
              "#0d0887"
             ],
             [
              0.1111111111111111,
              "#46039f"
             ],
             [
              0.2222222222222222,
              "#7201a8"
             ],
             [
              0.3333333333333333,
              "#9c179e"
             ],
             [
              0.4444444444444444,
              "#bd3786"
             ],
             [
              0.5555555555555556,
              "#d8576b"
             ],
             [
              0.6666666666666666,
              "#ed7953"
             ],
             [
              0.7777777777777778,
              "#fb9f3a"
             ],
             [
              0.8888888888888888,
              "#fdca26"
             ],
             [
              1,
              "#f0f921"
             ]
            ],
            "type": "histogram2d"
           }
          ],
          "histogram2dcontour": [
           {
            "colorbar": {
             "outlinewidth": 0,
             "ticks": ""
            },
            "colorscale": [
             [
              0,
              "#0d0887"
             ],
             [
              0.1111111111111111,
              "#46039f"
             ],
             [
              0.2222222222222222,
              "#7201a8"
             ],
             [
              0.3333333333333333,
              "#9c179e"
             ],
             [
              0.4444444444444444,
              "#bd3786"
             ],
             [
              0.5555555555555556,
              "#d8576b"
             ],
             [
              0.6666666666666666,
              "#ed7953"
             ],
             [
              0.7777777777777778,
              "#fb9f3a"
             ],
             [
              0.8888888888888888,
              "#fdca26"
             ],
             [
              1,
              "#f0f921"
             ]
            ],
            "type": "histogram2dcontour"
           }
          ],
          "mesh3d": [
           {
            "colorbar": {
             "outlinewidth": 0,
             "ticks": ""
            },
            "type": "mesh3d"
           }
          ],
          "parcoords": [
           {
            "line": {
             "colorbar": {
              "outlinewidth": 0,
              "ticks": ""
             }
            },
            "type": "parcoords"
           }
          ],
          "pie": [
           {
            "automargin": true,
            "type": "pie"
           }
          ],
          "scatter": [
           {
            "fillpattern": {
             "fillmode": "overlay",
             "size": 10,
             "solidity": 0.2
            },
            "type": "scatter"
           }
          ],
          "scatter3d": [
           {
            "line": {
             "colorbar": {
              "outlinewidth": 0,
              "ticks": ""
             }
            },
            "marker": {
             "colorbar": {
              "outlinewidth": 0,
              "ticks": ""
             }
            },
            "type": "scatter3d"
           }
          ],
          "scattercarpet": [
           {
            "marker": {
             "colorbar": {
              "outlinewidth": 0,
              "ticks": ""
             }
            },
            "type": "scattercarpet"
           }
          ],
          "scattergeo": [
           {
            "marker": {
             "colorbar": {
              "outlinewidth": 0,
              "ticks": ""
             }
            },
            "type": "scattergeo"
           }
          ],
          "scattergl": [
           {
            "marker": {
             "colorbar": {
              "outlinewidth": 0,
              "ticks": ""
             }
            },
            "type": "scattergl"
           }
          ],
          "scattermapbox": [
           {
            "marker": {
             "colorbar": {
              "outlinewidth": 0,
              "ticks": ""
             }
            },
            "type": "scattermapbox"
           }
          ],
          "scatterpolar": [
           {
            "marker": {
             "colorbar": {
              "outlinewidth": 0,
              "ticks": ""
             }
            },
            "type": "scatterpolar"
           }
          ],
          "scatterpolargl": [
           {
            "marker": {
             "colorbar": {
              "outlinewidth": 0,
              "ticks": ""
             }
            },
            "type": "scatterpolargl"
           }
          ],
          "scatterternary": [
           {
            "marker": {
             "colorbar": {
              "outlinewidth": 0,
              "ticks": ""
             }
            },
            "type": "scatterternary"
           }
          ],
          "surface": [
           {
            "colorbar": {
             "outlinewidth": 0,
             "ticks": ""
            },
            "colorscale": [
             [
              0,
              "#0d0887"
             ],
             [
              0.1111111111111111,
              "#46039f"
             ],
             [
              0.2222222222222222,
              "#7201a8"
             ],
             [
              0.3333333333333333,
              "#9c179e"
             ],
             [
              0.4444444444444444,
              "#bd3786"
             ],
             [
              0.5555555555555556,
              "#d8576b"
             ],
             [
              0.6666666666666666,
              "#ed7953"
             ],
             [
              0.7777777777777778,
              "#fb9f3a"
             ],
             [
              0.8888888888888888,
              "#fdca26"
             ],
             [
              1,
              "#f0f921"
             ]
            ],
            "type": "surface"
           }
          ],
          "table": [
           {
            "cells": {
             "fill": {
              "color": "#EBF0F8"
             },
             "line": {
              "color": "white"
             }
            },
            "header": {
             "fill": {
              "color": "#C8D4E3"
             },
             "line": {
              "color": "white"
             }
            },
            "type": "table"
           }
          ]
         },
         "layout": {
          "annotationdefaults": {
           "arrowcolor": "#2a3f5f",
           "arrowhead": 0,
           "arrowwidth": 1
          },
          "autotypenumbers": "strict",
          "coloraxis": {
           "colorbar": {
            "outlinewidth": 0,
            "ticks": ""
           }
          },
          "colorscale": {
           "diverging": [
            [
             0,
             "#8e0152"
            ],
            [
             0.1,
             "#c51b7d"
            ],
            [
             0.2,
             "#de77ae"
            ],
            [
             0.3,
             "#f1b6da"
            ],
            [
             0.4,
             "#fde0ef"
            ],
            [
             0.5,
             "#f7f7f7"
            ],
            [
             0.6,
             "#e6f5d0"
            ],
            [
             0.7,
             "#b8e186"
            ],
            [
             0.8,
             "#7fbc41"
            ],
            [
             0.9,
             "#4d9221"
            ],
            [
             1,
             "#276419"
            ]
           ],
           "sequential": [
            [
             0,
             "#0d0887"
            ],
            [
             0.1111111111111111,
             "#46039f"
            ],
            [
             0.2222222222222222,
             "#7201a8"
            ],
            [
             0.3333333333333333,
             "#9c179e"
            ],
            [
             0.4444444444444444,
             "#bd3786"
            ],
            [
             0.5555555555555556,
             "#d8576b"
            ],
            [
             0.6666666666666666,
             "#ed7953"
            ],
            [
             0.7777777777777778,
             "#fb9f3a"
            ],
            [
             0.8888888888888888,
             "#fdca26"
            ],
            [
             1,
             "#f0f921"
            ]
           ],
           "sequentialminus": [
            [
             0,
             "#0d0887"
            ],
            [
             0.1111111111111111,
             "#46039f"
            ],
            [
             0.2222222222222222,
             "#7201a8"
            ],
            [
             0.3333333333333333,
             "#9c179e"
            ],
            [
             0.4444444444444444,
             "#bd3786"
            ],
            [
             0.5555555555555556,
             "#d8576b"
            ],
            [
             0.6666666666666666,
             "#ed7953"
            ],
            [
             0.7777777777777778,
             "#fb9f3a"
            ],
            [
             0.8888888888888888,
             "#fdca26"
            ],
            [
             1,
             "#f0f921"
            ]
           ]
          },
          "colorway": [
           "#636efa",
           "#EF553B",
           "#00cc96",
           "#ab63fa",
           "#FFA15A",
           "#19d3f3",
           "#FF6692",
           "#B6E880",
           "#FF97FF",
           "#FECB52"
          ],
          "font": {
           "color": "#2a3f5f"
          },
          "geo": {
           "bgcolor": "white",
           "lakecolor": "white",
           "landcolor": "white",
           "showlakes": true,
           "showland": true,
           "subunitcolor": "#C8D4E3"
          },
          "hoverlabel": {
           "align": "left"
          },
          "hovermode": "closest",
          "mapbox": {
           "style": "light"
          },
          "paper_bgcolor": "white",
          "plot_bgcolor": "white",
          "polar": {
           "angularaxis": {
            "gridcolor": "#EBF0F8",
            "linecolor": "#EBF0F8",
            "ticks": ""
           },
           "bgcolor": "white",
           "radialaxis": {
            "gridcolor": "#EBF0F8",
            "linecolor": "#EBF0F8",
            "ticks": ""
           }
          },
          "scene": {
           "xaxis": {
            "backgroundcolor": "white",
            "gridcolor": "#DFE8F3",
            "gridwidth": 2,
            "linecolor": "#EBF0F8",
            "showbackground": true,
            "ticks": "",
            "zerolinecolor": "#EBF0F8"
           },
           "yaxis": {
            "backgroundcolor": "white",
            "gridcolor": "#DFE8F3",
            "gridwidth": 2,
            "linecolor": "#EBF0F8",
            "showbackground": true,
            "ticks": "",
            "zerolinecolor": "#EBF0F8"
           },
           "zaxis": {
            "backgroundcolor": "white",
            "gridcolor": "#DFE8F3",
            "gridwidth": 2,
            "linecolor": "#EBF0F8",
            "showbackground": true,
            "ticks": "",
            "zerolinecolor": "#EBF0F8"
           }
          },
          "shapedefaults": {
           "line": {
            "color": "#2a3f5f"
           }
          },
          "ternary": {
           "aaxis": {
            "gridcolor": "#DFE8F3",
            "linecolor": "#A2B1C6",
            "ticks": ""
           },
           "baxis": {
            "gridcolor": "#DFE8F3",
            "linecolor": "#A2B1C6",
            "ticks": ""
           },
           "bgcolor": "white",
           "caxis": {
            "gridcolor": "#DFE8F3",
            "linecolor": "#A2B1C6",
            "ticks": ""
           }
          },
          "title": {
           "x": 0.05
          },
          "xaxis": {
           "automargin": true,
           "gridcolor": "#EBF0F8",
           "linecolor": "#EBF0F8",
           "ticks": "",
           "title": {
            "standoff": 15
           },
           "zerolinecolor": "#EBF0F8",
           "zerolinewidth": 2
          },
          "yaxis": {
           "automargin": true,
           "gridcolor": "#EBF0F8",
           "linecolor": "#EBF0F8",
           "ticks": "",
           "title": {
            "standoff": 15
           },
           "zerolinecolor": "#EBF0F8",
           "zerolinewidth": 2
          }
         }
        }
       }
      }
     },
     "metadata": {},
     "output_type": "display_data"
    }
   ],
   "source": [
    "fig = px.scatter_3d(\n",
    "    data_frame=reduced_df,\n",
    "    x=\"Component 1\",\n",
    "    y=\"Component 2\",\n",
    "    z=\"Component 3\",\n",
    "    color=\"Cluster\",\n",
    "    color_discrete_sequence=px.colors.qualitative.Pastel,\n",
    "    hover_data=[\n",
    "        \"taxon_id\",\n",
    "        \"media_id\"\n",
    "    ],\n",
    "    template=\"plotly_white\"\n",
    ")\n",
    "fig.show()"
   ]
  },
  {
   "cell_type": "markdown",
   "metadata": {},
   "source": [
    "#### Create new column from clusters"
   ]
  },
  {
   "cell_type": "code",
   "execution_count": 13,
   "metadata": {},
   "outputs": [
    {
     "data": {
      "text/plain": [
       "array([0, 1, 2, 0, 0, 0, 0, 1, 0, 2, 0, 0, 1, 0, 0, 2, 1, 2, 0, 0, 2, 1,\n",
       "       1, 3, 2, 0, 2, 3, 1, 0, 1, 1, 0, 2, 0, 1, 0, 1, 0, 1, 0, 0, 0, 0,\n",
       "       3, 3, 1, 1, 0, 1, 1, 0, 2, 3, 0, 1, 2, 0, 1, 2, 0, 1, 0, 1, 2, 3,\n",
       "       0, 0, 2, 0, 0, 0, 0, 0, 0, 0, 1, 1, 1, 2, 0, 0, 3, 2, 3, 2, 2, 1,\n",
       "       0, 2, 0, 0, 0, 0, 0, 2, 1, 0, 0, 1, 1, 1, 2, 1, 3, 3, 3, 0, 2, 2,\n",
       "       3, 0, 0, 0, 2, 2, 0, 0, 0, 0, 2, 2, 1, 0, 2, 1, 0, 0, 0, 3, 0, 1,\n",
       "       0, 0, 0, 1, 2, 3, 1, 0, 0, 1, 0, 2, 1, 2, 1, 0, 2, 0, 1, 0, 0, 2,\n",
       "       0, 2, 3, 2, 1, 0, 2, 0, 2, 1, 0, 0, 0, 3, 2, 0, 1, 0, 0, 2, 2, 2,\n",
       "       0, 0, 0, 0, 0, 1, 3, 1, 2, 0, 0, 1, 1, 0, 0, 0, 0, 0, 0, 1, 1, 1,\n",
       "       0, 0, 0, 1, 2, 3, 1, 0, 2, 2, 3, 2, 1, 0, 0, 0, 0, 2, 0, 2, 3, 1,\n",
       "       0, 2, 1, 0, 2, 0, 1, 0, 0, 0, 0, 2, 1, 1, 0, 0, 1, 0, 2, 1, 1, 1,\n",
       "       1, 0, 0, 0, 3, 1, 3, 0, 0, 1, 1, 0, 1, 2, 0, 1, 0, 0, 1, 0, 0, 0,\n",
       "       0, 2, 0, 0, 1, 0], dtype=int32)"
      ]
     },
     "execution_count": 13,
     "metadata": {},
     "output_type": "execute_result"
    }
   ],
   "source": [
    "y_train = cluster.predict(reducer.transform(X_train))\n",
    "y_test = cluster.predict(reducer.transform(X_test))\n",
    "\n",
    "y_train"
   ]
  },
  {
   "cell_type": "markdown",
   "metadata": {},
   "source": [
    "### Classifier"
   ]
  },
  {
   "cell_type": "code",
   "execution_count": 14,
   "metadata": {},
   "outputs": [
    {
     "data": {
      "text/html": [
       "<style>#sk-container-id-1 {\n",
       "  /* Definition of color scheme common for light and dark mode */\n",
       "  --sklearn-color-text: black;\n",
       "  --sklearn-color-line: gray;\n",
       "  /* Definition of color scheme for unfitted estimators */\n",
       "  --sklearn-color-unfitted-level-0: #fff5e6;\n",
       "  --sklearn-color-unfitted-level-1: #f6e4d2;\n",
       "  --sklearn-color-unfitted-level-2: #ffe0b3;\n",
       "  --sklearn-color-unfitted-level-3: chocolate;\n",
       "  /* Definition of color scheme for fitted estimators */\n",
       "  --sklearn-color-fitted-level-0: #f0f8ff;\n",
       "  --sklearn-color-fitted-level-1: #d4ebff;\n",
       "  --sklearn-color-fitted-level-2: #b3dbfd;\n",
       "  --sklearn-color-fitted-level-3: cornflowerblue;\n",
       "\n",
       "  /* Specific color for light theme */\n",
       "  --sklearn-color-text-on-default-background: var(--sg-text-color, var(--theme-code-foreground, var(--jp-content-font-color1, black)));\n",
       "  --sklearn-color-background: var(--sg-background-color, var(--theme-background, var(--jp-layout-color0, white)));\n",
       "  --sklearn-color-border-box: var(--sg-text-color, var(--theme-code-foreground, var(--jp-content-font-color1, black)));\n",
       "  --sklearn-color-icon: #696969;\n",
       "\n",
       "  @media (prefers-color-scheme: dark) {\n",
       "    /* Redefinition of color scheme for dark theme */\n",
       "    --sklearn-color-text-on-default-background: var(--sg-text-color, var(--theme-code-foreground, var(--jp-content-font-color1, white)));\n",
       "    --sklearn-color-background: var(--sg-background-color, var(--theme-background, var(--jp-layout-color0, #111)));\n",
       "    --sklearn-color-border-box: var(--sg-text-color, var(--theme-code-foreground, var(--jp-content-font-color1, white)));\n",
       "    --sklearn-color-icon: #878787;\n",
       "  }\n",
       "}\n",
       "\n",
       "#sk-container-id-1 {\n",
       "  color: var(--sklearn-color-text);\n",
       "}\n",
       "\n",
       "#sk-container-id-1 pre {\n",
       "  padding: 0;\n",
       "}\n",
       "\n",
       "#sk-container-id-1 input.sk-hidden--visually {\n",
       "  border: 0;\n",
       "  clip: rect(1px 1px 1px 1px);\n",
       "  clip: rect(1px, 1px, 1px, 1px);\n",
       "  height: 1px;\n",
       "  margin: -1px;\n",
       "  overflow: hidden;\n",
       "  padding: 0;\n",
       "  position: absolute;\n",
       "  width: 1px;\n",
       "}\n",
       "\n",
       "#sk-container-id-1 div.sk-dashed-wrapped {\n",
       "  border: 1px dashed var(--sklearn-color-line);\n",
       "  margin: 0 0.4em 0.5em 0.4em;\n",
       "  box-sizing: border-box;\n",
       "  padding-bottom: 0.4em;\n",
       "  background-color: var(--sklearn-color-background);\n",
       "}\n",
       "\n",
       "#sk-container-id-1 div.sk-container {\n",
       "  /* jupyter's `normalize.less` sets `[hidden] { display: none; }`\n",
       "     but bootstrap.min.css set `[hidden] { display: none !important; }`\n",
       "     so we also need the `!important` here to be able to override the\n",
       "     default hidden behavior on the sphinx rendered scikit-learn.org.\n",
       "     See: https://github.com/scikit-learn/scikit-learn/issues/21755 */\n",
       "  display: inline-block !important;\n",
       "  position: relative;\n",
       "}\n",
       "\n",
       "#sk-container-id-1 div.sk-text-repr-fallback {\n",
       "  display: none;\n",
       "}\n",
       "\n",
       "div.sk-parallel-item,\n",
       "div.sk-serial,\n",
       "div.sk-item {\n",
       "  /* draw centered vertical line to link estimators */\n",
       "  background-image: linear-gradient(var(--sklearn-color-text-on-default-background), var(--sklearn-color-text-on-default-background));\n",
       "  background-size: 2px 100%;\n",
       "  background-repeat: no-repeat;\n",
       "  background-position: center center;\n",
       "}\n",
       "\n",
       "/* Parallel-specific style estimator block */\n",
       "\n",
       "#sk-container-id-1 div.sk-parallel-item::after {\n",
       "  content: \"\";\n",
       "  width: 100%;\n",
       "  border-bottom: 2px solid var(--sklearn-color-text-on-default-background);\n",
       "  flex-grow: 1;\n",
       "}\n",
       "\n",
       "#sk-container-id-1 div.sk-parallel {\n",
       "  display: flex;\n",
       "  align-items: stretch;\n",
       "  justify-content: center;\n",
       "  background-color: var(--sklearn-color-background);\n",
       "  position: relative;\n",
       "}\n",
       "\n",
       "#sk-container-id-1 div.sk-parallel-item {\n",
       "  display: flex;\n",
       "  flex-direction: column;\n",
       "}\n",
       "\n",
       "#sk-container-id-1 div.sk-parallel-item:first-child::after {\n",
       "  align-self: flex-end;\n",
       "  width: 50%;\n",
       "}\n",
       "\n",
       "#sk-container-id-1 div.sk-parallel-item:last-child::after {\n",
       "  align-self: flex-start;\n",
       "  width: 50%;\n",
       "}\n",
       "\n",
       "#sk-container-id-1 div.sk-parallel-item:only-child::after {\n",
       "  width: 0;\n",
       "}\n",
       "\n",
       "/* Serial-specific style estimator block */\n",
       "\n",
       "#sk-container-id-1 div.sk-serial {\n",
       "  display: flex;\n",
       "  flex-direction: column;\n",
       "  align-items: center;\n",
       "  background-color: var(--sklearn-color-background);\n",
       "  padding-right: 1em;\n",
       "  padding-left: 1em;\n",
       "}\n",
       "\n",
       "\n",
       "/* Toggleable style: style used for estimator/Pipeline/ColumnTransformer box that is\n",
       "clickable and can be expanded/collapsed.\n",
       "- Pipeline and ColumnTransformer use this feature and define the default style\n",
       "- Estimators will overwrite some part of the style using the `sk-estimator` class\n",
       "*/\n",
       "\n",
       "/* Pipeline and ColumnTransformer style (default) */\n",
       "\n",
       "#sk-container-id-1 div.sk-toggleable {\n",
       "  /* Default theme specific background. It is overwritten whether we have a\n",
       "  specific estimator or a Pipeline/ColumnTransformer */\n",
       "  background-color: var(--sklearn-color-background);\n",
       "}\n",
       "\n",
       "/* Toggleable label */\n",
       "#sk-container-id-1 label.sk-toggleable__label {\n",
       "  cursor: pointer;\n",
       "  display: block;\n",
       "  width: 100%;\n",
       "  margin-bottom: 0;\n",
       "  padding: 0.5em;\n",
       "  box-sizing: border-box;\n",
       "  text-align: center;\n",
       "}\n",
       "\n",
       "#sk-container-id-1 label.sk-toggleable__label-arrow:before {\n",
       "  /* Arrow on the left of the label */\n",
       "  content: \"▸\";\n",
       "  float: left;\n",
       "  margin-right: 0.25em;\n",
       "  color: var(--sklearn-color-icon);\n",
       "}\n",
       "\n",
       "#sk-container-id-1 label.sk-toggleable__label-arrow:hover:before {\n",
       "  color: var(--sklearn-color-text);\n",
       "}\n",
       "\n",
       "/* Toggleable content - dropdown */\n",
       "\n",
       "#sk-container-id-1 div.sk-toggleable__content {\n",
       "  max-height: 0;\n",
       "  max-width: 0;\n",
       "  overflow: hidden;\n",
       "  text-align: left;\n",
       "  /* unfitted */\n",
       "  background-color: var(--sklearn-color-unfitted-level-0);\n",
       "}\n",
       "\n",
       "#sk-container-id-1 div.sk-toggleable__content.fitted {\n",
       "  /* fitted */\n",
       "  background-color: var(--sklearn-color-fitted-level-0);\n",
       "}\n",
       "\n",
       "#sk-container-id-1 div.sk-toggleable__content pre {\n",
       "  margin: 0.2em;\n",
       "  border-radius: 0.25em;\n",
       "  color: var(--sklearn-color-text);\n",
       "  /* unfitted */\n",
       "  background-color: var(--sklearn-color-unfitted-level-0);\n",
       "}\n",
       "\n",
       "#sk-container-id-1 div.sk-toggleable__content.fitted pre {\n",
       "  /* unfitted */\n",
       "  background-color: var(--sklearn-color-fitted-level-0);\n",
       "}\n",
       "\n",
       "#sk-container-id-1 input.sk-toggleable__control:checked~div.sk-toggleable__content {\n",
       "  /* Expand drop-down */\n",
       "  max-height: 200px;\n",
       "  max-width: 100%;\n",
       "  overflow: auto;\n",
       "}\n",
       "\n",
       "#sk-container-id-1 input.sk-toggleable__control:checked~label.sk-toggleable__label-arrow:before {\n",
       "  content: \"▾\";\n",
       "}\n",
       "\n",
       "/* Pipeline/ColumnTransformer-specific style */\n",
       "\n",
       "#sk-container-id-1 div.sk-label input.sk-toggleable__control:checked~label.sk-toggleable__label {\n",
       "  color: var(--sklearn-color-text);\n",
       "  background-color: var(--sklearn-color-unfitted-level-2);\n",
       "}\n",
       "\n",
       "#sk-container-id-1 div.sk-label.fitted input.sk-toggleable__control:checked~label.sk-toggleable__label {\n",
       "  background-color: var(--sklearn-color-fitted-level-2);\n",
       "}\n",
       "\n",
       "/* Estimator-specific style */\n",
       "\n",
       "/* Colorize estimator box */\n",
       "#sk-container-id-1 div.sk-estimator input.sk-toggleable__control:checked~label.sk-toggleable__label {\n",
       "  /* unfitted */\n",
       "  background-color: var(--sklearn-color-unfitted-level-2);\n",
       "}\n",
       "\n",
       "#sk-container-id-1 div.sk-estimator.fitted input.sk-toggleable__control:checked~label.sk-toggleable__label {\n",
       "  /* fitted */\n",
       "  background-color: var(--sklearn-color-fitted-level-2);\n",
       "}\n",
       "\n",
       "#sk-container-id-1 div.sk-label label.sk-toggleable__label,\n",
       "#sk-container-id-1 div.sk-label label {\n",
       "  /* The background is the default theme color */\n",
       "  color: var(--sklearn-color-text-on-default-background);\n",
       "}\n",
       "\n",
       "/* On hover, darken the color of the background */\n",
       "#sk-container-id-1 div.sk-label:hover label.sk-toggleable__label {\n",
       "  color: var(--sklearn-color-text);\n",
       "  background-color: var(--sklearn-color-unfitted-level-2);\n",
       "}\n",
       "\n",
       "/* Label box, darken color on hover, fitted */\n",
       "#sk-container-id-1 div.sk-label.fitted:hover label.sk-toggleable__label.fitted {\n",
       "  color: var(--sklearn-color-text);\n",
       "  background-color: var(--sklearn-color-fitted-level-2);\n",
       "}\n",
       "\n",
       "/* Estimator label */\n",
       "\n",
       "#sk-container-id-1 div.sk-label label {\n",
       "  font-family: monospace;\n",
       "  font-weight: bold;\n",
       "  display: inline-block;\n",
       "  line-height: 1.2em;\n",
       "}\n",
       "\n",
       "#sk-container-id-1 div.sk-label-container {\n",
       "  text-align: center;\n",
       "}\n",
       "\n",
       "/* Estimator-specific */\n",
       "#sk-container-id-1 div.sk-estimator {\n",
       "  font-family: monospace;\n",
       "  border: 1px dotted var(--sklearn-color-border-box);\n",
       "  border-radius: 0.25em;\n",
       "  box-sizing: border-box;\n",
       "  margin-bottom: 0.5em;\n",
       "  /* unfitted */\n",
       "  background-color: var(--sklearn-color-unfitted-level-0);\n",
       "}\n",
       "\n",
       "#sk-container-id-1 div.sk-estimator.fitted {\n",
       "  /* fitted */\n",
       "  background-color: var(--sklearn-color-fitted-level-0);\n",
       "}\n",
       "\n",
       "/* on hover */\n",
       "#sk-container-id-1 div.sk-estimator:hover {\n",
       "  /* unfitted */\n",
       "  background-color: var(--sklearn-color-unfitted-level-2);\n",
       "}\n",
       "\n",
       "#sk-container-id-1 div.sk-estimator.fitted:hover {\n",
       "  /* fitted */\n",
       "  background-color: var(--sklearn-color-fitted-level-2);\n",
       "}\n",
       "\n",
       "/* Specification for estimator info (e.g. \"i\" and \"?\") */\n",
       "\n",
       "/* Common style for \"i\" and \"?\" */\n",
       "\n",
       ".sk-estimator-doc-link,\n",
       "a:link.sk-estimator-doc-link,\n",
       "a:visited.sk-estimator-doc-link {\n",
       "  float: right;\n",
       "  font-size: smaller;\n",
       "  line-height: 1em;\n",
       "  font-family: monospace;\n",
       "  background-color: var(--sklearn-color-background);\n",
       "  border-radius: 1em;\n",
       "  height: 1em;\n",
       "  width: 1em;\n",
       "  text-decoration: none !important;\n",
       "  margin-left: 1ex;\n",
       "  /* unfitted */\n",
       "  border: var(--sklearn-color-unfitted-level-1) 1pt solid;\n",
       "  color: var(--sklearn-color-unfitted-level-1);\n",
       "}\n",
       "\n",
       ".sk-estimator-doc-link.fitted,\n",
       "a:link.sk-estimator-doc-link.fitted,\n",
       "a:visited.sk-estimator-doc-link.fitted {\n",
       "  /* fitted */\n",
       "  border: var(--sklearn-color-fitted-level-1) 1pt solid;\n",
       "  color: var(--sklearn-color-fitted-level-1);\n",
       "}\n",
       "\n",
       "/* On hover */\n",
       "div.sk-estimator:hover .sk-estimator-doc-link:hover,\n",
       ".sk-estimator-doc-link:hover,\n",
       "div.sk-label-container:hover .sk-estimator-doc-link:hover,\n",
       ".sk-estimator-doc-link:hover {\n",
       "  /* unfitted */\n",
       "  background-color: var(--sklearn-color-unfitted-level-3);\n",
       "  color: var(--sklearn-color-background);\n",
       "  text-decoration: none;\n",
       "}\n",
       "\n",
       "div.sk-estimator.fitted:hover .sk-estimator-doc-link.fitted:hover,\n",
       ".sk-estimator-doc-link.fitted:hover,\n",
       "div.sk-label-container:hover .sk-estimator-doc-link.fitted:hover,\n",
       ".sk-estimator-doc-link.fitted:hover {\n",
       "  /* fitted */\n",
       "  background-color: var(--sklearn-color-fitted-level-3);\n",
       "  color: var(--sklearn-color-background);\n",
       "  text-decoration: none;\n",
       "}\n",
       "\n",
       "/* Span, style for the box shown on hovering the info icon */\n",
       ".sk-estimator-doc-link span {\n",
       "  display: none;\n",
       "  z-index: 9999;\n",
       "  position: relative;\n",
       "  font-weight: normal;\n",
       "  right: .2ex;\n",
       "  padding: .5ex;\n",
       "  margin: .5ex;\n",
       "  width: min-content;\n",
       "  min-width: 20ex;\n",
       "  max-width: 50ex;\n",
       "  color: var(--sklearn-color-text);\n",
       "  box-shadow: 2pt 2pt 4pt #999;\n",
       "  /* unfitted */\n",
       "  background: var(--sklearn-color-unfitted-level-0);\n",
       "  border: .5pt solid var(--sklearn-color-unfitted-level-3);\n",
       "}\n",
       "\n",
       ".sk-estimator-doc-link.fitted span {\n",
       "  /* fitted */\n",
       "  background: var(--sklearn-color-fitted-level-0);\n",
       "  border: var(--sklearn-color-fitted-level-3);\n",
       "}\n",
       "\n",
       ".sk-estimator-doc-link:hover span {\n",
       "  display: block;\n",
       "}\n",
       "\n",
       "/* \"?\"-specific style due to the `<a>` HTML tag */\n",
       "\n",
       "#sk-container-id-1 a.estimator_doc_link {\n",
       "  float: right;\n",
       "  font-size: 1rem;\n",
       "  line-height: 1em;\n",
       "  font-family: monospace;\n",
       "  background-color: var(--sklearn-color-background);\n",
       "  border-radius: 1rem;\n",
       "  height: 1rem;\n",
       "  width: 1rem;\n",
       "  text-decoration: none;\n",
       "  /* unfitted */\n",
       "  color: var(--sklearn-color-unfitted-level-1);\n",
       "  border: var(--sklearn-color-unfitted-level-1) 1pt solid;\n",
       "}\n",
       "\n",
       "#sk-container-id-1 a.estimator_doc_link.fitted {\n",
       "  /* fitted */\n",
       "  border: var(--sklearn-color-fitted-level-1) 1pt solid;\n",
       "  color: var(--sklearn-color-fitted-level-1);\n",
       "}\n",
       "\n",
       "/* On hover */\n",
       "#sk-container-id-1 a.estimator_doc_link:hover {\n",
       "  /* unfitted */\n",
       "  background-color: var(--sklearn-color-unfitted-level-3);\n",
       "  color: var(--sklearn-color-background);\n",
       "  text-decoration: none;\n",
       "}\n",
       "\n",
       "#sk-container-id-1 a.estimator_doc_link.fitted:hover {\n",
       "  /* fitted */\n",
       "  background-color: var(--sklearn-color-fitted-level-3);\n",
       "}\n",
       "</style><div id=\"sk-container-id-1\" class=\"sk-top-container\"><div class=\"sk-text-repr-fallback\"><pre>RandomForestClassifier(n_jobs=-1, random_state=666)</pre><b>In a Jupyter environment, please rerun this cell to show the HTML representation or trust the notebook. <br />On GitHub, the HTML representation is unable to render, please try loading this page with nbviewer.org.</b></div><div class=\"sk-container\" hidden><div class=\"sk-item\"><div class=\"sk-estimator fitted sk-toggleable\"><input class=\"sk-toggleable__control sk-hidden--visually\" id=\"sk-estimator-id-1\" type=\"checkbox\" checked><label for=\"sk-estimator-id-1\" class=\"sk-toggleable__label fitted sk-toggleable__label-arrow fitted\">&nbsp;&nbsp;RandomForestClassifier<a class=\"sk-estimator-doc-link fitted\" rel=\"noreferrer\" target=\"_blank\" href=\"https://scikit-learn.org/1.4/modules/generated/sklearn.ensemble.RandomForestClassifier.html\">?<span>Documentation for RandomForestClassifier</span></a><span class=\"sk-estimator-doc-link fitted\">i<span>Fitted</span></span></label><div class=\"sk-toggleable__content fitted\"><pre>RandomForestClassifier(n_jobs=-1, random_state=666)</pre></div> </div></div></div></div>"
      ],
      "text/plain": [
       "RandomForestClassifier(n_jobs=-1, random_state=666)"
      ]
     },
     "execution_count": 14,
     "metadata": {},
     "output_type": "execute_result"
    }
   ],
   "source": [
    "from sklearn.ensemble import RandomForestClassifier\n",
    "from sklearn.metrics import classification_report\n",
    "\n",
    "\n",
    "model = RandomForestClassifier(\n",
    "    n_estimators=100,\n",
    "    n_jobs=-1,\n",
    "    random_state=RANDOM_SEED\n",
    ")\n",
    "model.fit(X_train, y_train)"
   ]
  },
  {
   "cell_type": "markdown",
   "metadata": {},
   "source": [
    "### Performance"
   ]
  },
  {
   "cell_type": "markdown",
   "metadata": {},
   "source": [
    "#### Feature importances"
   ]
  },
  {
   "cell_type": "code",
   "execution_count": 15,
   "metadata": {},
   "outputs": [
    {
     "data": {
      "image/png": "[encoded data removed]"
     },
     "metadata": {},
     "output_type": "display_data"
    }
   ],
   "source": [
    "from sklearn.inspection import permutation_importance\n",
    "\n",
    "result_importances = permutation_importance(\n",
    "    model,\n",
    "    X_test,\n",
    "    y_test,\n",
    "    n_repeats=30,\n",
    "    random_state=RANDOM_SEED,\n",
    "    n_jobs=-1\n",
    ")\n",
    "\n",
    "feat_importances = pd.DataFrame({\n",
    "    \"Feature name\": X_train.columns,\n",
    "    \"Importance (mean accuracy decrease)\": result_importances.importances_mean,\n",
    "    \"Importance (std)\": result_importances.importances_std\n",
    "})\n",
    "\n",
    "# Sort them by mean\n",
    "feat_importances = feat_importances\\\n",
    "    .sort_values(\"Importance (mean accuracy decrease)\")\n",
    "\n",
    "fig = px.bar(\n",
    "    data_frame=feat_importances,\n",
    "    x=\"Feature name\",\n",
    "    y=\"Importance (mean accuracy decrease)\",\n",
    "    error_y=\"Importance (std)\",\n",
    "    color=\"Importance (mean accuracy decrease)\",\n",
    "    width=950,\n",
    "    height=800,\n",
    "    template=\"plotly_white\"\n",
    ")\n",
    "fig.show(\"png\")"
   ]
  },
  {
   "cell_type": "markdown",
   "metadata": {},
   "source": [
    "#### Metrics"
   ]
  },
  {
   "cell_type": "code",
   "execution_count": 16,
   "metadata": {},
   "outputs": [
    {
     "name": "stdout",
     "output_type": "stream",
     "text": [
      "              precision    recall  f1-score   support\n",
      "\n",
      "           0       0.98      0.74      0.85        78\n",
      "           1       0.66      1.00      0.79        27\n",
      "           2       0.40      0.67      0.50         9\n",
      "           3       1.00      0.67      0.80         3\n",
      "\n",
      "    accuracy                           0.79       117\n",
      "   macro avg       0.76      0.77      0.74       117\n",
      "weighted avg       0.86      0.79      0.81       117\n",
      "\n"
     ]
    }
   ],
   "source": [
    "y_pred = model.predict(X_test)\n",
    "\n",
    "report = classification_report(\n",
    "    y_true=y_test,\n",
    "    y_pred=y_pred,\n",
    "    zero_division=\"warn\"\n",
    ")\n",
    "\n",
    "print(report)"
   ]
  },
  {
   "cell_type": "code",
   "execution_count": 17,
   "metadata": {},
   "outputs": [
    {
     "name": "stdout",
     "output_type": "stream",
     "text": [
      "ROC AUC score: 0.9633292343406307\n"
     ]
    }
   ],
   "source": [
    "from sklearn import metrics\n",
    "\n",
    "# TODO: get PR-REC AUC score\n",
    "# TODO: plot both ROC and PR-REC curves\n",
    "roc_score = metrics.roc_auc_score(\n",
    "    y_true=y_test,\n",
    "    y_score=model.predict_proba(X_test),\n",
    "    average=\"weighted\",\n",
    "    multi_class=\"ovo\"\n",
    ")\n",
    "\n",
    "print(\"ROC AUC score:\", roc_score)"
   ]
  },
  {
   "cell_type": "code",
   "execution_count": null,
   "metadata": {},
   "outputs": [],
   "source": []
  }
 ],
 "metadata": {
  "kernelspec": {
   "display_name": "phd-media",
   "language": "python",
   "name": "python3"
  },
  "language_info": {
   "codemirror_mode": {
    "name": "ipython",
    "version": 3
   },
   "file_extension": ".py",
   "mimetype": "text/x-python",
   "name": "python",
   "nbconvert_exporter": "python",
   "pygments_lexer": "ipython3",
   "version": "3.12.2"
  }
 },
 "nbformat": 4,
 "nbformat_minor": 2
}
