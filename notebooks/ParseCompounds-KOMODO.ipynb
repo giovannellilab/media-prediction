{
 "cells": [
  {
   "cell_type": "code",
   "execution_count": 2,
   "metadata": {},
   "outputs": [],
   "source": [
    "import os\n",
    "import glob\n",
    "\n",
    "from pypdf import PdfReader"
   ]
  },
  {
   "cell_type": "code",
   "execution_count": 3,
   "metadata": {},
   "outputs": [],
   "source": [
    "MEDIA_DIR = \"../data/komodo/media/\""
   ]
  },
  {
   "cell_type": "code",
   "execution_count": 14,
   "metadata": {},
   "outputs": [],
   "source": [
    "media_df = []\n",
    "\n",
    "for media_file in glob.glob(f\"{MEDIA_DIR}*.pdf\"):\n",
    "    media = os.path.basename(os.path.splitext(media_file)[0])\n",
    "\n",
    "    reader = PdfReader(media_file)\n",
    "\n",
    "    # Extract the lines from the PDF\n",
    "    text = \"\"\n",
    "    for page in reader.pages:\n",
    "        text += page.extract_text() + \"\\n\"\n",
    "\n",
    "    # Compounds always appear after three line breaks\n",
    "    compounds = text.split(\"\\n \\n \\n\")[1]\n",
    "\n",
    "    break\n",
    "\n",
    "\n"
   ]
  },
  {
   "cell_type": "code",
   "execution_count": 36,
   "metadata": {},
   "outputs": [
    {
     "data": {
      "text/html": [
       "<div>\n",
       "<style scoped>\n",
       "    .dataframe tbody tr th:only-of-type {\n",
       "        vertical-align: middle;\n",
       "    }\n",
       "\n",
       "    .dataframe tbody tr th {\n",
       "        vertical-align: top;\n",
       "    }\n",
       "\n",
       "    .dataframe thead th {\n",
       "        text-align: right;\n",
       "    }\n",
       "</style>\n",
       "<table border=\"1\" class=\"dataframe\">\n",
       "  <thead>\n",
       "    <tr style=\"text-align: right;\">\n",
       "      <th></th>\n",
       "      <th>RawName</th>\n",
       "    </tr>\n",
       "  </thead>\n",
       "  <tbody>\n",
       "    <tr>\n",
       "      <th>0</th>\n",
       "      <td>Bacto peptone  10.0 g</td>\n",
       "    </tr>\n",
       "    <tr>\n",
       "      <th>1</th>\n",
       "      <td>Yeast extract  10.0 g</td>\n",
       "    </tr>\n",
       "    <tr>\n",
       "      <th>2</th>\n",
       "      <td>Glucose  20.0 g</td>\n",
       "    </tr>\n",
       "    <tr>\n",
       "      <th>3</th>\n",
       "      <td>Agar if required  15.0 g</td>\n",
       "    </tr>\n",
       "    <tr>\n",
       "      <th>4</th>\n",
       "      <td>Distilled water  1000.0  ml</td>\n",
       "    </tr>\n",
       "  </tbody>\n",
       "</table>\n",
       "</div>"
      ],
      "text/plain": [
       "                         RawName\n",
       "0         Bacto peptone  10.0 g \n",
       "1         Yeast extract  10.0 g \n",
       "2               Glucose  20.0 g \n",
       "3      Agar if required  15.0 g \n",
       "4   Distilled water  1000.0  ml "
      ]
     },
     "execution_count": 36,
     "metadata": {},
     "output_type": "execute_result"
    }
   ],
   "source": [
    "from io import StringIO\n",
    "\n",
    "import pandas as pd\n",
    "\n",
    "\n",
    "row_df = pd.read_csv(\n",
    "    StringIO(compounds),\n",
    "    names=[\"RawName\"],\n",
    "    sep=\"\\t\"\n",
    ")\n",
    "row_df"
   ]
  },
  {
   "cell_type": "code",
   "execution_count": 38,
   "metadata": {},
   "outputs": [
    {
     "data": {
      "text/html": [
       "<div>\n",
       "<style scoped>\n",
       "    .dataframe tbody tr th:only-of-type {\n",
       "        vertical-align: middle;\n",
       "    }\n",
       "\n",
       "    .dataframe tbody tr th {\n",
       "        vertical-align: top;\n",
       "    }\n",
       "\n",
       "    .dataframe thead th {\n",
       "        text-align: right;\n",
       "    }\n",
       "</style>\n",
       "<table border=\"1\" class=\"dataframe\">\n",
       "  <thead>\n",
       "    <tr style=\"text-align: right;\">\n",
       "      <th></th>\n",
       "      <th>RawName</th>\n",
       "      <th>Name</th>\n",
       "      <th>Amount</th>\n",
       "    </tr>\n",
       "  </thead>\n",
       "  <tbody>\n",
       "    <tr>\n",
       "      <th>0</th>\n",
       "      <td>Bacto peptone  10.0 g</td>\n",
       "      <td>Bacto peptone</td>\n",
       "      <td>10.0 g</td>\n",
       "    </tr>\n",
       "    <tr>\n",
       "      <th>1</th>\n",
       "      <td>Yeast extract  10.0 g</td>\n",
       "      <td>Yeast extract</td>\n",
       "      <td>10.0 g</td>\n",
       "    </tr>\n",
       "    <tr>\n",
       "      <th>2</th>\n",
       "      <td>Glucose  20.0 g</td>\n",
       "      <td>Glucose</td>\n",
       "      <td>20.0 g</td>\n",
       "    </tr>\n",
       "    <tr>\n",
       "      <th>3</th>\n",
       "      <td>Agar if required  15.0 g</td>\n",
       "      <td>Agar if required</td>\n",
       "      <td>15.0 g</td>\n",
       "    </tr>\n",
       "    <tr>\n",
       "      <th>4</th>\n",
       "      <td>Distilled water  1000.0  ml</td>\n",
       "      <td>Distilled water</td>\n",
       "      <td>1000.0  ml</td>\n",
       "    </tr>\n",
       "  </tbody>\n",
       "</table>\n",
       "</div>"
      ],
      "text/plain": [
       "                         RawName               Name       Amount\n",
       "0         Bacto peptone  10.0 g       Bacto peptone      10.0 g \n",
       "1         Yeast extract  10.0 g       Yeast extract      10.0 g \n",
       "2               Glucose  20.0 g             Glucose      20.0 g \n",
       "3      Agar if required  15.0 g    Agar if required      15.0 g \n",
       "4   Distilled water  1000.0  ml     Distilled water  1000.0  ml "
      ]
     },
     "execution_count": 38,
     "metadata": {},
     "output_type": "execute_result"
    }
   ],
   "source": [
    "row_df[[\"Name\", \"Amount\"]] = row_df[\"RawName\"].str.replace(\n",
    "    r\"(?<=[\\w+])\\s+(?=[\\d+])\",\n",
    "    \"###\",\n",
    "    regex=True\n",
    ").str.split(\"###\", expand=True)\n",
    "row_df"
   ]
  },
  {
   "cell_type": "code",
   "execution_count": null,
   "metadata": {},
   "outputs": [],
   "source": []
  }
 ],
 "metadata": {
  "kernelspec": {
   "display_name": "phd-media",
   "language": "python",
   "name": "python3"
  },
  "language_info": {
   "codemirror_mode": {
    "name": "ipython",
    "version": 3
   },
   "file_extension": ".py",
   "mimetype": "text/x-python",
   "name": "python",
   "nbconvert_exporter": "python",
   "pygments_lexer": "ipython3",
   "version": "3.12.2"
  }
 },
 "nbformat": 4,
 "nbformat_minor": 2
}
