{
 "cells": [
  {
   "cell_type": "markdown",
   "id": "9c761b2e-b3f7-481b-8388-18d04a85cf6b",
   "metadata": {},
   "source": [
    "0.1 Import packages"
   ]
  },
  {
   "cell_type": "code",
   "execution_count": 2,
   "id": "cb12e0f5-e382-4285-9135-ed4830b965b6",
   "metadata": {},
   "outputs": [],
   "source": [
    "import requests\n",
    "import pandas as pd"
   ]
  },
  {
   "cell_type": "markdown",
   "id": "87bb8777-9c94-4780-8585-b79eacdfacc2",
   "metadata": {},
   "source": [
    "0.2 Some useful url's for the MediaDive api"
   ]
  },
  {
   "cell_type": "code",
   "execution_count": 4,
   "id": "2c5ae217-8c6b-48f2-958c-6e1aa5ab54be",
   "metadata": {},
   "outputs": [],
   "source": [
    "#MediaDive urls\n",
    "comp_url = f'https://mediadive.dsmz.de/rest/medium/' #comp can be a mix of solutions and ingredients\n",
    "taxa_url = f'https://mediadive.dsmz.de/rest/medium-strains/'\n",
    "solu_url = f'https://mediadive.dsmz.de/rest/solution/' #returns ingredients\n",
    "ingr_url = f'https://mediadive.dsmz.de/rest/ingredient/' #simplest form (I think)\n",
    "    # All followed by a DSMZ media ID "
   ]
  },
  {
   "cell_type": "markdown",
   "id": "eef200f7-472f-40e9-ba67-79519a6ea370",
   "metadata": {},
   "source": [
    "1.1 Function to list all components (less useful)"
   ]
  },
  {
   "cell_type": "code",
   "execution_count": 6,
   "id": "f31580e4-f21a-4154-9931-8eda63899920",
   "metadata": {
    "tags": []
   },
   "outputs": [],
   "source": [
    "id_list = ['1', '1001'] #List of DSMZ media IDs\n",
    "\n",
    "def get_composition_list():\n",
    "    base_url = 'https://mediadive.dsmz.de/rest/medium/{}'\n",
    "    composition_data = []\n",
    "\n",
    "    for id in id_list:\n",
    "        url = base_url.format(id)\n",
    "        response = requests.get(url)\n",
    "\n",
    "        if response.status_code == 200:\n",
    "            data = response.json()\n",
    "            # Traverse the nested structure to extract compounds\n",
    "            solutions = data.get('data', {}).get('solutions', [])\n",
    "            for solution in solutions:\n",
    "                recipe = solution.get('recipe', [])\n",
    "                for item in recipe:\n",
    "                    if 'compound' in item:  # Check for 'compound' and 'compound_id'\n",
    "                        composition_data.append({\n",
    "                            'component': item.get('compound'),\n",
    "                            'component_id': item.get('compound_id')\n",
    "                        })\n",
    "                    elif 'solution' in item:  # Check for 'solution' and 'solution_id'\n",
    "                        composition_data.append({\n",
    "                            'component': item.get('solution'),\n",
    "                            'component_id': item.get('solution_id')\n",
    "                        })\n",
    "        else:\n",
    "            print(f\"Request failed with status code: {response.status_code}\")\n",
    "\n",
    "    # Convert the list of dictionaries to a DataFrame\n",
    "    composition_df = pd.DataFrame(composition_data)\n",
    "    return composition_df"
   ]
  },
  {
   "cell_type": "code",
   "execution_count": 7,
   "id": "0c625a70-2bc0-434f-ab9d-fd911391a5fa",
   "metadata": {},
   "outputs": [],
   "source": [
    "#comp_list = get_composition_list()\n",
    "#comp_list"
   ]
  },
  {
   "cell_type": "markdown",
   "id": "207afaed-b831-4a75-9131-43ce9717c881",
   "metadata": {},
   "source": [
    "1.2 Function to list a 'media id', its 'components', and the 'component ids'"
   ]
  },
  {
   "cell_type": "code",
   "execution_count": 9,
   "id": "860c6596-71c4-4260-baf4-89019c673984",
   "metadata": {
    "tags": []
   },
   "outputs": [],
   "source": [
    "id_list = ['1', '1001'] #List of DSMZ media IDs\n",
    "\n",
    "def get_composition():\n",
    "    base_url = 'https://mediadive.dsmz.de/rest/medium/{}'\n",
    "    composition_data = []\n",
    "\n",
    "    for id in id_list:\n",
    "        url = base_url.format(id)\n",
    "        response = requests.get(url)\n",
    "\n",
    "        if response.status_code == 200:\n",
    "            data = response.json()\n",
    "            # Initialize lists to store components and ids for each media\n",
    "            components = []\n",
    "            component_ids = []\n",
    "            # Traverse the nested structure to extract compounds\n",
    "            solutions = data.get('data', {}).get('solutions', [])\n",
    "            for solution in solutions:\n",
    "                recipe = solution.get('recipe', [])\n",
    "                for item in recipe:\n",
    "                    if 'compound' in item:  # Check for 'compound' and 'compound_id'\n",
    "                        components.append(item.get('compound'))\n",
    "                        component_ids.append(item.get('compound_id'))\n",
    "                    elif 'solution' in item:  # Check for 'solution' and 'solution_id'\n",
    "                        components.append(item.get('solution'))\n",
    "                        component_ids.append(item.get('solution_id'))\n",
    "            # Append data for this media to composition_data\n",
    "            composition_data.append({\n",
    "                'media_id': id,\n",
    "                'components': components,\n",
    "                'component_ids': component_ids\n",
    "            })     \n",
    "        else:\n",
    "            print(f\"Request failed with status code: {response.status_code}\")\n",
    "    \n",
    "        print(f'Retrieved data for {id}')\n",
    "\n",
    "    # Convert the list of dictionaries to a DataFrame\n",
    "    composition_df = pd.DataFrame(composition_data)\n",
    "    return composition_df\n",
    "\n",
    "# Can add something to get the compounds and IDs for the complex solution mixtures, but maybe easier to leave as \"Vitamin mixture\" etc for now\n",
    "    # i.e., in the place of compounds some api entries were solutions, but each of those solutions has a list of compounds"
   ]
  },
  {
   "cell_type": "code",
   "execution_count": 10,
   "id": "3a7ccfa7-df84-4849-a8de-1e41b76f8f24",
   "metadata": {
    "tags": []
   },
   "outputs": [
    {
     "name": "stdout",
     "output_type": "stream",
     "text": [
      "Retrieved data for 1\n",
      "Retrieved data for 1001\n"
     ]
    },
    {
     "data": {
      "text/html": [
       "<div>\n",
       "<style scoped>\n",
       "    .dataframe tbody tr th:only-of-type {\n",
       "        vertical-align: middle;\n",
       "    }\n",
       "\n",
       "    .dataframe tbody tr th {\n",
       "        vertical-align: top;\n",
       "    }\n",
       "\n",
       "    .dataframe thead th {\n",
       "        text-align: right;\n",
       "    }\n",
       "</style>\n",
       "<table border=\"1\" class=\"dataframe\">\n",
       "  <thead>\n",
       "    <tr style=\"text-align: right;\">\n",
       "      <th></th>\n",
       "      <th>media_id</th>\n",
       "      <th>components</th>\n",
       "      <th>component_ids</th>\n",
       "    </tr>\n",
       "  </thead>\n",
       "  <tbody>\n",
       "    <tr>\n",
       "      <th>0</th>\n",
       "      <td>1</td>\n",
       "      <td>[Peptone, Meat extract, Agar, Distilled water]</td>\n",
       "      <td>[1, 2, 3, 4]</td>\n",
       "    </tr>\n",
       "    <tr>\n",
       "      <th>1</th>\n",
       "      <td>1001</td>\n",
       "      <td>[NaHCO3, NH4Cl, NaH2PO4 x H2O, KCl, Vitamin mi...</td>\n",
       "      <td>[55, 42, 282, 61, 2043, 2044, 4, 731, 4, 55, 1...</td>\n",
       "    </tr>\n",
       "  </tbody>\n",
       "</table>\n",
       "</div>"
      ],
      "text/plain": [
       "  media_id                                         components  \\\n",
       "0        1     [Peptone, Meat extract, Agar, Distilled water]   \n",
       "1     1001  [NaHCO3, NH4Cl, NaH2PO4 x H2O, KCl, Vitamin mi...   \n",
       "\n",
       "                                       component_ids  \n",
       "0                                       [1, 2, 3, 4]  \n",
       "1  [55, 42, 282, 61, 2043, 2044, 4, 731, 4, 55, 1...  "
      ]
     },
     "execution_count": 10,
     "metadata": {},
     "output_type": "execute_result"
    }
   ],
   "source": [
    "media_comps = get_composition()\n",
    "media_comps"
   ]
  },
  {
   "cell_type": "markdown",
   "id": "3f83bc5e-5268-43e2-afbe-44ac681fd716",
   "metadata": {},
   "source": [
    "1.3 Function to list the 'strain_id', 'species', 'ccno' (culture collection number), and 'bacdive_id' for associated organisms of a given media"
   ]
  },
  {
   "cell_type": "code",
   "execution_count": 12,
   "id": "479d1a80-fd2c-4478-b866-9b0d5718aca2",
   "metadata": {
    "tags": []
   },
   "outputs": [],
   "source": [
    "import requests\n",
    "import pandas as pd\n",
    "\n",
    "id_list = ['1','1001']  # List of DSMZ media IDs\n",
    "\n",
    "def get_strains():\n",
    "    base_url = 'https://mediadive.dsmz.de/rest/medium-strains/{}'\n",
    "    strain_data = []\n",
    "\n",
    "    for id in id_list:\n",
    "        url = base_url.format(id)\n",
    "        response = requests.get(url)\n",
    "\n",
    "        if response.status_code == 200:\n",
    "            data = response.json()\n",
    "            \n",
    "            strains = data.get('data', [])\n",
    "            for strain in strains:\n",
    "                strain_data.append({\n",
    "                    'media_id': id,\n",
    "                    'strain_id': strain.get('id'),\n",
    "                    'species': strain.get('species'),\n",
    "                    'ccno': strain.get('ccno'),\n",
    "                    'bacdive_id': strain.get('bacdive_id')\n",
    "                })     \n",
    "        else:\n",
    "            print(f\"Request failed with status code: {response.status_code}\")\n",
    "    \n",
    "        print(f'Retrieved data for {id}')\n",
    "\n",
    "    # Convert the list of dictionaries to a DataFrame\n",
    "    strain_df = pd.DataFrame(strain_data)\n",
    "    return strain_df"
   ]
  },
  {
   "cell_type": "code",
   "execution_count": 13,
   "id": "477d60b9-ad98-4a7a-99f8-34000b990020",
   "metadata": {
    "tags": []
   },
   "outputs": [
    {
     "name": "stdout",
     "output_type": "stream",
     "text": [
      "Retrieved data for 1\n",
      "Retrieved data for 1001\n"
     ]
    },
    {
     "data": {
      "text/html": [
       "<div>\n",
       "<style scoped>\n",
       "    .dataframe tbody tr th:only-of-type {\n",
       "        vertical-align: middle;\n",
       "    }\n",
       "\n",
       "    .dataframe tbody tr th {\n",
       "        vertical-align: top;\n",
       "    }\n",
       "\n",
       "    .dataframe thead th {\n",
       "        text-align: right;\n",
       "    }\n",
       "</style>\n",
       "<table border=\"1\" class=\"dataframe\">\n",
       "  <thead>\n",
       "    <tr style=\"text-align: right;\">\n",
       "      <th></th>\n",
       "      <th>media_id</th>\n",
       "      <th>strain_id</th>\n",
       "      <th>species</th>\n",
       "      <th>ccno</th>\n",
       "      <th>bacdive_id</th>\n",
       "    </tr>\n",
       "  </thead>\n",
       "  <tbody>\n",
       "    <tr>\n",
       "      <th>0</th>\n",
       "      <td>1</td>\n",
       "      <td>1</td>\n",
       "      <td>Heyndrickxia coagulans</td>\n",
       "      <td>DSM 1</td>\n",
       "      <td>654.0</td>\n",
       "    </tr>\n",
       "    <tr>\n",
       "      <th>1</th>\n",
       "      <td>1</td>\n",
       "      <td>2</td>\n",
       "      <td>Paenibacillus macquariensis subsp. macquariensis</td>\n",
       "      <td>DSM 2</td>\n",
       "      <td>11477.0</td>\n",
       "    </tr>\n",
       "    <tr>\n",
       "      <th>2</th>\n",
       "      <td>1</td>\n",
       "      <td>3</td>\n",
       "      <td>Sporosarcina psychrophila</td>\n",
       "      <td>DSM 3</td>\n",
       "      <td>11984.0</td>\n",
       "    </tr>\n",
       "    <tr>\n",
       "      <th>3</th>\n",
       "      <td>1</td>\n",
       "      <td>6</td>\n",
       "      <td>Peribacillus psychrosaccharolyticus</td>\n",
       "      <td>DSM 6</td>\n",
       "      <td>748.0</td>\n",
       "    </tr>\n",
       "    <tr>\n",
       "      <th>4</th>\n",
       "      <td>1</td>\n",
       "      <td>7</td>\n",
       "      <td>Bacillus amyloliquefaciens</td>\n",
       "      <td>DSM 7</td>\n",
       "      <td>598.0</td>\n",
       "    </tr>\n",
       "    <tr>\n",
       "      <th>...</th>\n",
       "      <td>...</td>\n",
       "      <td>...</td>\n",
       "      <td>...</td>\n",
       "      <td>...</td>\n",
       "      <td>...</td>\n",
       "    </tr>\n",
       "    <tr>\n",
       "      <th>2291</th>\n",
       "      <td>1</td>\n",
       "      <td>49035</td>\n",
       "      <td>Acinetobacter pittii</td>\n",
       "      <td>DSM 101622</td>\n",
       "      <td>NaN</td>\n",
       "    </tr>\n",
       "    <tr>\n",
       "      <th>2292</th>\n",
       "      <td>1</td>\n",
       "      <td>49036</td>\n",
       "      <td>Acinetobacter pittii</td>\n",
       "      <td>DSM 101623</td>\n",
       "      <td>NaN</td>\n",
       "    </tr>\n",
       "    <tr>\n",
       "      <th>2293</th>\n",
       "      <td>1</td>\n",
       "      <td>1431</td>\n",
       "      <td>Pseudomonas sp.</td>\n",
       "      <td>DSM 1991</td>\n",
       "      <td>12943.0</td>\n",
       "    </tr>\n",
       "    <tr>\n",
       "      <th>2294</th>\n",
       "      <td>1</td>\n",
       "      <td>180</td>\n",
       "      <td>Pseudomonas putida</td>\n",
       "      <td>DSM 291</td>\n",
       "      <td>12871.0</td>\n",
       "    </tr>\n",
       "    <tr>\n",
       "      <th>2295</th>\n",
       "      <td>1001</td>\n",
       "      <td>7756</td>\n",
       "      <td>Albidiferax ferrireducens</td>\n",
       "      <td>DSM 15236</td>\n",
       "      <td>3028.0</td>\n",
       "    </tr>\n",
       "  </tbody>\n",
       "</table>\n",
       "<p>2296 rows × 5 columns</p>\n",
       "</div>"
      ],
      "text/plain": [
       "     media_id  strain_id                                           species  \\\n",
       "0           1          1                            Heyndrickxia coagulans   \n",
       "1           1          2  Paenibacillus macquariensis subsp. macquariensis   \n",
       "2           1          3                         Sporosarcina psychrophila   \n",
       "3           1          6               Peribacillus psychrosaccharolyticus   \n",
       "4           1          7                        Bacillus amyloliquefaciens   \n",
       "...       ...        ...                                               ...   \n",
       "2291        1      49035                              Acinetobacter pittii   \n",
       "2292        1      49036                              Acinetobacter pittii   \n",
       "2293        1       1431                                   Pseudomonas sp.   \n",
       "2294        1        180                                Pseudomonas putida   \n",
       "2295     1001       7756                         Albidiferax ferrireducens   \n",
       "\n",
       "            ccno  bacdive_id  \n",
       "0          DSM 1       654.0  \n",
       "1          DSM 2     11477.0  \n",
       "2          DSM 3     11984.0  \n",
       "3          DSM 6       748.0  \n",
       "4          DSM 7       598.0  \n",
       "...          ...         ...  \n",
       "2291  DSM 101622         NaN  \n",
       "2292  DSM 101623         NaN  \n",
       "2293    DSM 1991     12943.0  \n",
       "2294     DSM 291     12871.0  \n",
       "2295   DSM 15236      3028.0  \n",
       "\n",
       "[2296 rows x 5 columns]"
      ]
     },
     "execution_count": 13,
     "metadata": {},
     "output_type": "execute_result"
    }
   ],
   "source": [
    "strains_df = get_strains()\n",
    "strains_df"
   ]
  },
  {
   "cell_type": "code",
   "execution_count": 29,
   "id": "91dd0757-a117-492e-bbf3-37b5a452f5ee",
   "metadata": {
    "tags": []
   },
   "outputs": [],
   "source": [
    "# Maybe filter for type strains?"
   ]
  }
 ],
 "metadata": {
  "kernelspec": {
   "display_name": "Python 3 (ipykernel)",
   "language": "python",
   "name": "python3"
  },
  "language_info": {
   "codemirror_mode": {
    "name": "ipython",
    "version": 3
   },
   "file_extension": ".py",
   "mimetype": "text/x-python",
   "name": "python",
   "nbconvert_exporter": "python",
   "pygments_lexer": "ipython3",
   "version": "3.11.7"
  }
 },
 "nbformat": 4,
 "nbformat_minor": 5
}
