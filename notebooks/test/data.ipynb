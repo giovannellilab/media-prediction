{
 "cells": [
  {
   "cell_type": "markdown",
   "id": "f84fd7dd-25bc-40c6-ad35-eaa75f776140",
   "metadata": {},
   "source": [
    "### **Media Prediction**\n",
    "[MediaDive] to [KEGG, UniProt OR BacDive] to [Downstream applications]"
   ]
  },
  {
   "cell_type": "code",
   "execution_count": 1,
   "id": "cb12e0f5-e382-4285-9135-ed4830b965b6",
   "metadata": {},
   "outputs": [],
   "source": [
    "import pandas as pd\n",
    "import numpy as np\n",
    "from tqdm import tqdm\n",
    "from io import StringIO\n",
    "\n",
    "import os\n",
    "DATA_DIR = '~/Desktop/code/data/'\n",
    "\n",
    "from Bio.KEGG import REST\n",
    "import bacdive\n",
    "\n",
    "import requests\n",
    "import re\n",
    "from requests.adapters import HTTPAdapter, Retry\n",
    "\n",
    "from matplotlib import pyplot as plt\n",
    "#from matplotlib_venn import venn2"
   ]
  },
  {
   "cell_type": "markdown",
   "id": "7bbcd7f8-0407-4504-b6e6-0e3e08f0b8a3",
   "metadata": {},
   "source": [
    "### MediaDive Table Creation\n",
    "\n",
    "This table contains all information (media id's, components, component id's, characteristics, associated taxa information, etc.) used for subsequent analyses."
   ]
  },
  {
   "cell_type": "code",
   "execution_count": 2,
   "id": "45467e3d-7884-4de4-a3d3-2203c906f9bc",
   "metadata": {
    "tags": []
   },
   "outputs": [],
   "source": [
    "import modules.mediadive as md"
   ]
  },
  {
   "cell_type": "markdown",
   "id": "3b8f586a-93e2-4bfa-a682-ec7bce57e2d4",
   "metadata": {},
   "source": [
    "**[1] Retrieve all MediaDive info** (skip to [3] after first time)"
   ]
  },
  {
   "cell_type": "code",
   "execution_count": 3,
   "id": "6bed5189-f7e0-472b-9613-f63b312ec6b7",
   "metadata": {
    "tags": []
   },
   "outputs": [
    {
     "name": "stderr",
     "output_type": "stream",
     "text": [
      "100%|██████████| 3315/3315 [09:59<00:00,  5.53it/s]\n",
      "100%|██████████| 3315/3315 [09:17<00:00,  5.95it/s]\n"
     ]
    }
   ],
   "source": [
    "# Get all info for available media on MediaDive\n",
    "md_media_df = md.get_media()\n",
    "# Format and save media information to data directory\n",
    "md_media_df = md_media_df.rename(columns={\"id\": \"media_id\"})\n",
    "md_media_df.to_csv(os.path.join(DATA_DIR,\"mediadive\", \"mediadive-media.csv\"), index=False)\n",
    "\n",
    "# Put media to list\n",
    "media_id_list = md_media_df[\"media_id\"].astype(str).unique()\n",
    "\n",
    "# Use media_id_list to retrieve media composition information\n",
    "md_comp_df = md.get_composition(media_id_list)\n",
    "md_comp_df.to_csv(os.path.join(DATA_DIR, \"mediadive\",\"mediadive-media-comp.csv\"), sep=\";\", index=False)\n",
    "    #TO-DO: parse information for complex media ingredients to also retrieve those components\n",
    "\n",
    "# Use media_id_list to retrieve media-associated strain information\n",
    "md_strains_df = md.get_strains(media_id_list)\n",
    "md_strains_df.to_csv(os.path.join(DATA_DIR, \"mediadive\", \"mediadive-media-strains.csv\"), sep=\";\", index=False)"
   ]
  },
  {
   "cell_type": "markdown",
   "id": "165af5ea-1b99-4a18-a5fa-7dd22ecbabce",
   "metadata": {},
   "source": [
    "**[2] Merge MediaDive outputs**"
   ]
  },
  {
   "cell_type": "code",
   "execution_count": 4,
   "id": "0d84b4d1-b926-4cd0-8152-86b98c5a435b",
   "metadata": {},
   "outputs": [],
   "source": [
    "# Merge media composition and strains info\n",
    "md_df = pd.merge(left=md_comp_df, right=md_strains_df, on=\"media_id\", how=\"outer\", indicator=True)\n",
    "# Merge media information with previous data\n",
    "md_df = pd.merge(left=md_media_df, right=md_df, on=\"media_id\", how=\"left\", indicator=False)\n",
    "\n",
    "# Add extra column indicating the source of the data\n",
    "md_df = md_df.rename(columns={\"_merge\": \"merge_source\"})\n",
    "md_df[\"merge_source\"] = md_df[\"merge_source\"].cat.rename_categories({\"right_only\": \"composition_only\", \"left_only\": \"strains_only\"})\n",
    "\n",
    "# Save our final dataframe\n",
    "md_df.to_csv(os.path.join(DATA_DIR,\"mediadive\",\"mediadive-all.csv\"), sep=\";\", index=False)"
   ]
  },
  {
   "cell_type": "markdown",
   "id": "daa03cd1-a32c-409c-866c-ffdd277096de",
   "metadata": {},
   "source": [
    "**[3] Final MediaDive dataframe**"
   ]
  },
  {
   "cell_type": "code",
   "execution_count": 5,
   "id": "982299b4-d83f-41ac-9417-4d1a1389f879",
   "metadata": {
    "tags": []
   },
   "outputs": [
    {
     "data": {
      "text/html": [
       "<div>\n",
       "<style scoped>\n",
       "    .dataframe tbody tr th:only-of-type {\n",
       "        vertical-align: middle;\n",
       "    }\n",
       "\n",
       "    .dataframe tbody tr th {\n",
       "        vertical-align: top;\n",
       "    }\n",
       "\n",
       "    .dataframe thead th {\n",
       "        text-align: right;\n",
       "    }\n",
       "</style>\n",
       "<table border=\"1\" class=\"dataframe\">\n",
       "  <thead>\n",
       "    <tr style=\"text-align: right;\">\n",
       "      <th></th>\n",
       "      <th>media_id</th>\n",
       "      <th>name</th>\n",
       "      <th>complex_medium</th>\n",
       "      <th>source</th>\n",
       "      <th>link</th>\n",
       "      <th>min_pH</th>\n",
       "      <th>max_pH</th>\n",
       "      <th>reference</th>\n",
       "      <th>description</th>\n",
       "      <th>components</th>\n",
       "      <th>component_ids</th>\n",
       "      <th>strain_id</th>\n",
       "      <th>species</th>\n",
       "      <th>ccno</th>\n",
       "      <th>bacdive_id</th>\n",
       "      <th>merge_source</th>\n",
       "    </tr>\n",
       "  </thead>\n",
       "  <tbody>\n",
       "    <tr>\n",
       "      <th>0</th>\n",
       "      <td>1</td>\n",
       "      <td>NUTRIENT AGAR</td>\n",
       "      <td>1</td>\n",
       "      <td>DSMZ</td>\n",
       "      <td>https://www.dsmz.de/microorganisms/medium/pdf/...</td>\n",
       "      <td>7.0</td>\n",
       "      <td>7.0</td>\n",
       "      <td>NaN</td>\n",
       "      <td>NaN</td>\n",
       "      <td>NaN</td>\n",
       "      <td>NaN</td>\n",
       "      <td>NaN</td>\n",
       "      <td>NaN</td>\n",
       "      <td>NaN</td>\n",
       "      <td>NaN</td>\n",
       "      <td>NaN</td>\n",
       "    </tr>\n",
       "    <tr>\n",
       "      <th>1</th>\n",
       "      <td>1a</td>\n",
       "      <td>REACTIVATION WITH LIQUID MEDIUM 1</td>\n",
       "      <td>1</td>\n",
       "      <td>DSMZ</td>\n",
       "      <td>https://www.dsmz.de/microorganisms/medium/pdf/...</td>\n",
       "      <td>7.0</td>\n",
       "      <td>7.0</td>\n",
       "      <td>NaN</td>\n",
       "      <td>NaN</td>\n",
       "      <td>['Peptone', 'Meat extract', 'Agar', 'Distilled...</td>\n",
       "      <td>[1, 2, 3, 4]</td>\n",
       "      <td>29.0</td>\n",
       "      <td>Comamonas testosteroni</td>\n",
       "      <td>DSM 38</td>\n",
       "      <td>2912.0</td>\n",
       "      <td>both</td>\n",
       "    </tr>\n",
       "    <tr>\n",
       "      <th>2</th>\n",
       "      <td>1a</td>\n",
       "      <td>REACTIVATION WITH LIQUID MEDIUM 1</td>\n",
       "      <td>1</td>\n",
       "      <td>DSMZ</td>\n",
       "      <td>https://www.dsmz.de/microorganisms/medium/pdf/...</td>\n",
       "      <td>7.0</td>\n",
       "      <td>7.0</td>\n",
       "      <td>NaN</td>\n",
       "      <td>NaN</td>\n",
       "      <td>['Peptone', 'Meat extract', 'Agar', 'Distilled...</td>\n",
       "      <td>[1, 2, 3, 4]</td>\n",
       "      <td>30.0</td>\n",
       "      <td>Delftia acidovorans</td>\n",
       "      <td>DSM 39</td>\n",
       "      <td>2941.0</td>\n",
       "      <td>both</td>\n",
       "    </tr>\n",
       "    <tr>\n",
       "      <th>3</th>\n",
       "      <td>1a</td>\n",
       "      <td>REACTIVATION WITH LIQUID MEDIUM 1</td>\n",
       "      <td>1</td>\n",
       "      <td>DSMZ</td>\n",
       "      <td>https://www.dsmz.de/microorganisms/medium/pdf/...</td>\n",
       "      <td>7.0</td>\n",
       "      <td>7.0</td>\n",
       "      <td>NaN</td>\n",
       "      <td>NaN</td>\n",
       "      <td>['Peptone', 'Meat extract', 'Agar', 'Distilled...</td>\n",
       "      <td>[1, 2, 3, 4]</td>\n",
       "      <td>39.0</td>\n",
       "      <td>Acidovorax delafieldii</td>\n",
       "      <td>DSM 64</td>\n",
       "      <td>2885.0</td>\n",
       "      <td>both</td>\n",
       "    </tr>\n",
       "    <tr>\n",
       "      <th>4</th>\n",
       "      <td>1a</td>\n",
       "      <td>REACTIVATION WITH LIQUID MEDIUM 1</td>\n",
       "      <td>1</td>\n",
       "      <td>DSMZ</td>\n",
       "      <td>https://www.dsmz.de/microorganisms/medium/pdf/...</td>\n",
       "      <td>7.0</td>\n",
       "      <td>7.0</td>\n",
       "      <td>NaN</td>\n",
       "      <td>NaN</td>\n",
       "      <td>['Peptone', 'Meat extract', 'Agar', 'Distilled...</td>\n",
       "      <td>[1, 2, 3, 4]</td>\n",
       "      <td>52.0</td>\n",
       "      <td>Pseudomonas putida</td>\n",
       "      <td>DSM 84</td>\n",
       "      <td>12895.0</td>\n",
       "      <td>both</td>\n",
       "    </tr>\n",
       "    <tr>\n",
       "      <th>...</th>\n",
       "      <td>...</td>\n",
       "      <td>...</td>\n",
       "      <td>...</td>\n",
       "      <td>...</td>\n",
       "      <td>...</td>\n",
       "      <td>...</td>\n",
       "      <td>...</td>\n",
       "      <td>...</td>\n",
       "      <td>...</td>\n",
       "      <td>...</td>\n",
       "      <td>...</td>\n",
       "      <td>...</td>\n",
       "      <td>...</td>\n",
       "      <td>...</td>\n",
       "      <td>...</td>\n",
       "      <td>...</td>\n",
       "    </tr>\n",
       "    <tr>\n",
       "      <th>31897</th>\n",
       "      <td>P5</td>\n",
       "      <td>RS Medium - Nutrient Medium (NM) Component</td>\n",
       "      <td>1</td>\n",
       "      <td>public</td>\n",
       "      <td>NaN</td>\n",
       "      <td>7.0</td>\n",
       "      <td>7.0</td>\n",
       "      <td>NaN</td>\n",
       "      <td>The RS medium is a fully defined medium design...</td>\n",
       "      <td>[]</td>\n",
       "      <td>[]</td>\n",
       "      <td>NaN</td>\n",
       "      <td>NaN</td>\n",
       "      <td>NaN</td>\n",
       "      <td>NaN</td>\n",
       "      <td>strains_only</td>\n",
       "    </tr>\n",
       "    <tr>\n",
       "      <th>31898</th>\n",
       "      <td>P6</td>\n",
       "      <td>mTA10</td>\n",
       "      <td>1</td>\n",
       "      <td>public</td>\n",
       "      <td>NaN</td>\n",
       "      <td>7.2</td>\n",
       "      <td>7.2</td>\n",
       "      <td>10.1016/j.foodcont.2012.06.029</td>\n",
       "      <td>NaN</td>\n",
       "      <td>[]</td>\n",
       "      <td>[]</td>\n",
       "      <td>NaN</td>\n",
       "      <td>NaN</td>\n",
       "      <td>NaN</td>\n",
       "      <td>NaN</td>\n",
       "      <td>strains_only</td>\n",
       "    </tr>\n",
       "    <tr>\n",
       "      <th>31899</th>\n",
       "      <td>P7</td>\n",
       "      <td>N27 RHODOSPIRILLACEAE MEDIUM (modified)</td>\n",
       "      <td>1</td>\n",
       "      <td>public</td>\n",
       "      <td>NaN</td>\n",
       "      <td>6.8</td>\n",
       "      <td>6.8</td>\n",
       "      <td>NaN</td>\n",
       "      <td>NaN</td>\n",
       "      <td>[]</td>\n",
       "      <td>[]</td>\n",
       "      <td>NaN</td>\n",
       "      <td>NaN</td>\n",
       "      <td>NaN</td>\n",
       "      <td>NaN</td>\n",
       "      <td>strains_only</td>\n",
       "    </tr>\n",
       "    <tr>\n",
       "      <th>31900</th>\n",
       "      <td>P8</td>\n",
       "      <td>M9-SNG medium</td>\n",
       "      <td>1</td>\n",
       "      <td>public</td>\n",
       "      <td>NaN</td>\n",
       "      <td>7.2</td>\n",
       "      <td>7.2</td>\n",
       "      <td>10.1007/s11104-022-05822-6</td>\n",
       "      <td>Myrosinase producing bacteria and fungi  enric...</td>\n",
       "      <td>[]</td>\n",
       "      <td>[]</td>\n",
       "      <td>NaN</td>\n",
       "      <td>NaN</td>\n",
       "      <td>NaN</td>\n",
       "      <td>NaN</td>\n",
       "      <td>strains_only</td>\n",
       "    </tr>\n",
       "    <tr>\n",
       "      <th>31901</th>\n",
       "      <td>P9</td>\n",
       "      <td>PDB-SNG medium</td>\n",
       "      <td>1</td>\n",
       "      <td>public</td>\n",
       "      <td>NaN</td>\n",
       "      <td>7.2</td>\n",
       "      <td>7.2</td>\n",
       "      <td>10.1007/s11104-022-05822-6</td>\n",
       "      <td>Myrosinase producing bacteria and fungi enrich...</td>\n",
       "      <td>[]</td>\n",
       "      <td>[]</td>\n",
       "      <td>NaN</td>\n",
       "      <td>NaN</td>\n",
       "      <td>NaN</td>\n",
       "      <td>NaN</td>\n",
       "      <td>strains_only</td>\n",
       "    </tr>\n",
       "  </tbody>\n",
       "</table>\n",
       "<p>31902 rows × 16 columns</p>\n",
       "</div>"
      ],
      "text/plain": [
       "      media_id                                        name  complex_medium  \\\n",
       "0            1                               NUTRIENT AGAR               1   \n",
       "1           1a           REACTIVATION WITH LIQUID MEDIUM 1               1   \n",
       "2           1a           REACTIVATION WITH LIQUID MEDIUM 1               1   \n",
       "3           1a           REACTIVATION WITH LIQUID MEDIUM 1               1   \n",
       "4           1a           REACTIVATION WITH LIQUID MEDIUM 1               1   \n",
       "...        ...                                         ...             ...   \n",
       "31897       P5  RS Medium - Nutrient Medium (NM) Component               1   \n",
       "31898       P6                                       mTA10               1   \n",
       "31899       P7     N27 RHODOSPIRILLACEAE MEDIUM (modified)               1   \n",
       "31900       P8                               M9-SNG medium               1   \n",
       "31901       P9                              PDB-SNG medium               1   \n",
       "\n",
       "       source                                               link  min_pH  \\\n",
       "0        DSMZ  https://www.dsmz.de/microorganisms/medium/pdf/...     7.0   \n",
       "1        DSMZ  https://www.dsmz.de/microorganisms/medium/pdf/...     7.0   \n",
       "2        DSMZ  https://www.dsmz.de/microorganisms/medium/pdf/...     7.0   \n",
       "3        DSMZ  https://www.dsmz.de/microorganisms/medium/pdf/...     7.0   \n",
       "4        DSMZ  https://www.dsmz.de/microorganisms/medium/pdf/...     7.0   \n",
       "...       ...                                                ...     ...   \n",
       "31897  public                                                NaN     7.0   \n",
       "31898  public                                                NaN     7.2   \n",
       "31899  public                                                NaN     6.8   \n",
       "31900  public                                                NaN     7.2   \n",
       "31901  public                                                NaN     7.2   \n",
       "\n",
       "       max_pH                       reference  \\\n",
       "0         7.0                             NaN   \n",
       "1         7.0                             NaN   \n",
       "2         7.0                             NaN   \n",
       "3         7.0                             NaN   \n",
       "4         7.0                             NaN   \n",
       "...       ...                             ...   \n",
       "31897     7.0                             NaN   \n",
       "31898     7.2  10.1016/j.foodcont.2012.06.029   \n",
       "31899     6.8                             NaN   \n",
       "31900     7.2      10.1007/s11104-022-05822-6   \n",
       "31901     7.2      10.1007/s11104-022-05822-6   \n",
       "\n",
       "                                             description  \\\n",
       "0                                                    NaN   \n",
       "1                                                    NaN   \n",
       "2                                                    NaN   \n",
       "3                                                    NaN   \n",
       "4                                                    NaN   \n",
       "...                                                  ...   \n",
       "31897  The RS medium is a fully defined medium design...   \n",
       "31898                                                NaN   \n",
       "31899                                                NaN   \n",
       "31900  Myrosinase producing bacteria and fungi  enric...   \n",
       "31901  Myrosinase producing bacteria and fungi enrich...   \n",
       "\n",
       "                                              components component_ids  \\\n",
       "0                                                    NaN           NaN   \n",
       "1      ['Peptone', 'Meat extract', 'Agar', 'Distilled...  [1, 2, 3, 4]   \n",
       "2      ['Peptone', 'Meat extract', 'Agar', 'Distilled...  [1, 2, 3, 4]   \n",
       "3      ['Peptone', 'Meat extract', 'Agar', 'Distilled...  [1, 2, 3, 4]   \n",
       "4      ['Peptone', 'Meat extract', 'Agar', 'Distilled...  [1, 2, 3, 4]   \n",
       "...                                                  ...           ...   \n",
       "31897                                                 []            []   \n",
       "31898                                                 []            []   \n",
       "31899                                                 []            []   \n",
       "31900                                                 []            []   \n",
       "31901                                                 []            []   \n",
       "\n",
       "       strain_id                 species    ccno  bacdive_id  merge_source  \n",
       "0            NaN                     NaN     NaN         NaN           NaN  \n",
       "1           29.0  Comamonas testosteroni  DSM 38      2912.0          both  \n",
       "2           30.0     Delftia acidovorans  DSM 39      2941.0          both  \n",
       "3           39.0  Acidovorax delafieldii  DSM 64      2885.0          both  \n",
       "4           52.0      Pseudomonas putida  DSM 84     12895.0          both  \n",
       "...          ...                     ...     ...         ...           ...  \n",
       "31897        NaN                     NaN     NaN         NaN  strains_only  \n",
       "31898        NaN                     NaN     NaN         NaN  strains_only  \n",
       "31899        NaN                     NaN     NaN         NaN  strains_only  \n",
       "31900        NaN                     NaN     NaN         NaN  strains_only  \n",
       "31901        NaN                     NaN     NaN         NaN  strains_only  \n",
       "\n",
       "[31902 rows x 16 columns]"
      ]
     },
     "execution_count": 5,
     "metadata": {},
     "output_type": "execute_result"
    }
   ],
   "source": [
    "md_df = pd.read_csv(os.path.join(DATA_DIR,\"mediadive\",\"mediadive-all.csv\"), sep = ';')\n",
    "md_df"
   ]
  },
  {
   "cell_type": "code",
   "execution_count": 6,
   "id": "d1fcd878-463b-4e8e-9699-eedccdf88036",
   "metadata": {
    "tags": []
   },
   "outputs": [
    {
     "data": {
      "application/vnd.plotly.v1+json": {
       "config": {
        "plotlyServerURL": "https://plot.ly"
       },
       "data": [
        {
         "alignmentgroup": "True",
         "hovertemplate": "species=%{x}<br>count=%{y}<extra></extra>",
         "legendgroup": "",
         "marker": {
          "color": "#636efa",
          "pattern": {
           "shape": ""
          }
         },
         "name": "",
         "offsetgroup": "",
         "orientation": "v",
         "showlegend": false,
         "textposition": "auto",
         "type": "bar",
         "x": [
          "Saccharina latissima",
          "Streptomyces sp.",
          "Ectocarpus sp.",
          "Sporobolomyces",
          "Galactomyces candidus",
          "Streptomyces",
          "Clostridium acetobutylicum",
          "Pseudomonas fragi",
          "Bacillus",
          "Debaryomyces hansenii",
          "Synnemasporella aculeans",
          "Issatchenkia orientalis",
          "Bullera",
          "Saccharomyces cerevisiae",
          "Aspergillus niger",
          "Candida albicans",
          "Hypocrea lutea",
          "Ectocarpus siliculosus",
          "Pseudomonas aeruginosa",
          "Cryptococcus",
          "Clostridium septicum",
          "Hypocrea nigricans",
          "Sordaria fimicola",
          "Penicillium paneum",
          "Trichophyton mentagrophytes",
          "Clostridium beijerinckii",
          "Staphylococcus aureus",
          "Lactobacillus",
          "Collinsella aerofaciens",
          "Mortierella",
          "Pseudomonas putida",
          "Microbacterium",
          "Pseudomonas",
          "Lentilactobacillus farraginis",
          "Vibrio fluvialis",
          "Hypocrea schweinitzii",
          "Candida",
          "Rhodococcus",
          "Aeromonas hydrophila hydrophila",
          "Gonium pectorale",
          "Penicillium",
          "Kluyveromyces marxianus",
          "Stichococcus bacillaris",
          "Yarrowia lipolytica",
          "Fusarium",
          "Pseudomonas sp.",
          "Rhodotorula mucilaginosa",
          "Candida tropicalis",
          "Aspergillus sojae",
          "Streptococcus",
          "Gliomastix masseei",
          "Methylorubrum extorquens",
          "Bacillus subtilis",
          "Clostridioides difficile",
          "Wickerhamomyces anomalus",
          "Meyerozyma guilliermondii",
          "Ectocarpus fasciculatus",
          "Micrococcus luteus",
          "Citrobacter freundii",
          "Tetragenococcus halophilus",
          "Aspergillus luchuensis",
          "Stenotrophomonas maltophilia",
          "Aspergillus fumigatus",
          "Bifidobacterium longum longum",
          "Limosilactobacillus fermentum",
          "Chlamydomonas sp.",
          "Ligilactobacillus salivarius",
          "Escherichia coli",
          "Penicillium chrysogenum",
          "Myxococcus fulvus",
          "Shewanella putrefaciens",
          "Planococcus citreus",
          "Comamonas testosteroni",
          "Fructilactobacillus sanfranciscensis",
          "Acinetobacter",
          "Clostridium sp.",
          "Bifidobacterium bifidum",
          "Candida tumulicola",
          "Scolecobasidium humicola",
          "Sporobolomyces phaffii",
          "Pseudomonas fluorescens",
          "Bullera alba",
          "Aspergillus",
          "Wickerhamiella versatilis",
          "Lacticaseibacillus rhamnosus",
          "Lactobacillus amylovorus",
          "Aeromonas sobria",
          "Rhizopus oryzae",
          "Pichia occidentalis",
          "Cryptococcus albidus",
          "unclassified bacterium",
          "Aspergillus flavus",
          "Lactobacillus helveticus",
          "Lactobacillus gasseri",
          "Tetraselmis sp.",
          "Aspergillus oryzae",
          "Rhodotorula toruloides",
          "Paenibacillus",
          "Aspergillus ruber",
          "Vibrio",
          "Torulaspora delbrueckii",
          "Lactobacillus crispatus",
          "Kendrickiella phycomyces",
          "Lipomyces tetrasporus",
          "Methylobacillus glycogenes",
          "Chlorella vulgaris",
          "Clostridium",
          "Ambrosiozyma kamigamensis",
          "Aspergillus tubingensis",
          "Termitomyces",
          "Lactobacillus kefiranofaciens kefirgranum",
          "Kluyveromyces nonfermentans",
          "Rhodopirellula sp.",
          "Nocardia farcinica",
          "Pediococcus pentosaceus",
          "Acidomonas methanolica",
          "Clostridium perfringens",
          "Eurotium repens",
          "Aspergillus oryzae brunneus",
          "Desmodesmus armatus",
          "Streptomyces hiroshimensis",
          "Acetobacter pasteurianus",
          "Candida mesenterica",
          "Promicromonospora",
          "Lactobacillus acidophilus",
          "Streptomyces avermitilis",
          "Serratia marcescens",
          "Penicillium citreonigrum",
          "Penicillium citrinum",
          "Bifidobacterium",
          "Nocardioides albus",
          "Rhodococcus erythropolis",
          "Rhodosporidium kratochvilovae",
          "Verticillium dahliae",
          "Burgoa anomala",
          "Trichoderma",
          "Bifidobacterium longum infantis",
          "Bifidobacterium thermophilum",
          "Sporolactobacillus laevolacticus",
          "Candida boidinii",
          "Streptomyces abikoensis",
          "Pseudomonas oryzihabitans",
          "Streptomyces griseus subsp. griseus",
          "Tetradesmus obliquus",
          "Hylemonella gracilis",
          "Delftia acidovorans",
          "Hannaella oryzae",
          "Cyberlindnera jadinii",
          "Pseudomonas stutzeri",
          "Udeniomyces megalosporus",
          "Guehomyces pullulans",
          "Penicillium spinulosum",
          "Alexandrium tamarense",
          "Bensingtonia thailandica",
          "Pichia membranifaciens",
          "Coprinopsis cinerea",
          "Rhizobium",
          "Chlorella sp.",
          "Aspergillus nidulans",
          "Clostridium sporogenes",
          "Micromonospora sp.",
          "Streptomyces albidoflavus",
          "Aeromonas caviae",
          "Levilactobacillus brevis",
          "Aspergillus chevalieri",
          "Aspergillus parasiticus",
          "Aspergillus terreus",
          "Aspergillus penicillioides",
          "Pseudomonas syringae",
          "Kazachstania servazzii",
          "Listeria monocytogenes",
          "Derxomyces mrakii",
          "Bifidobacterium breve",
          "Candida succiphila",
          "Penicillium glabrum",
          "Penicillium janthinellum",
          "Paecilomyces variotii",
          "Candida parapsilosis",
          "Vulcanisaeta distributa",
          "Bulleromyces albus",
          "Vibrio vulnificus",
          "Aeromonas salmonicida salmonicida",
          "Enterococcus faecalis",
          "Starmerella etchellsii",
          "Cutibacterium acnes acnes",
          "Aspergillus clavatus",
          "Fusarium solani",
          "Methylorubrum zatmanii",
          "Raffaelea quercivora",
          "Bifidobacterium pseudolongum",
          "Fusarium oxysporum melonis",
          "Aggregatibacter actinomycetemcomitans",
          "Mycoplasma sp.",
          "Talaromyces minioluteus",
          "Brevundimonas diminuta",
          "Pseudomonas oleovorans",
          "Cladosporium colocasiae",
          "Cladophialophora tumulicola",
          "Passalora fulva",
          "Sporidiobolus salmonicolor"
         ],
         "xaxis": "x",
         "y": [
          365,
          201,
          168,
          132,
          126,
          114,
          110,
          102,
          96,
          94,
          89,
          88,
          78,
          76,
          75,
          74,
          72,
          72,
          71,
          69,
          68,
          66,
          62,
          56,
          54,
          51,
          51,
          47,
          47,
          45,
          43,
          42,
          42,
          42,
          41,
          40,
          40,
          39,
          37,
          37,
          36,
          36,
          36,
          36,
          35,
          34,
          34,
          34,
          34,
          34,
          34,
          33,
          33,
          32,
          32,
          32,
          32,
          32,
          31,
          31,
          31,
          30,
          30,
          30,
          29,
          29,
          28,
          28,
          28,
          28,
          28,
          28,
          27,
          27,
          27,
          27,
          27,
          27,
          27,
          26,
          26,
          26,
          26,
          26,
          25,
          25,
          25,
          25,
          24,
          24,
          24,
          24,
          24,
          24,
          24,
          23,
          23,
          23,
          23,
          23,
          23,
          23,
          23,
          22,
          22,
          22,
          22,
          22,
          22,
          22,
          22,
          22,
          22,
          21,
          21,
          21,
          21,
          21,
          21,
          21,
          21,
          21,
          20,
          20,
          20,
          20,
          20,
          20,
          20,
          20,
          20,
          20,
          20,
          20,
          20,
          20,
          20,
          19,
          19,
          19,
          19,
          19,
          19,
          19,
          19,
          19,
          18,
          18,
          18,
          18,
          18,
          18,
          18,
          18,
          18,
          18,
          18,
          18,
          18,
          18,
          17,
          17,
          17,
          17,
          17,
          17,
          16,
          16,
          16,
          16,
          16,
          16,
          16,
          16,
          16,
          16,
          16,
          16,
          16,
          16,
          16,
          16,
          16,
          16,
          16,
          16,
          15,
          15,
          15,
          15,
          15,
          15,
          15,
          15,
          15,
          15,
          15,
          15,
          15,
          15
         ],
         "yaxis": "y"
        }
       ],
       "layout": {
        "barmode": "relative",
        "legend": {
         "tracegroupgap": 0
        },
        "template": {
         "data": {
          "bar": [
           {
            "error_x": {
             "color": "#2a3f5f"
            },
            "error_y": {
             "color": "#2a3f5f"
            },
            "marker": {
             "line": {
              "color": "#E5ECF6",
              "width": 0.5
             },
             "pattern": {
              "fillmode": "overlay",
              "size": 10,
              "solidity": 0.2
             }
            },
            "type": "bar"
           }
          ],
          "barpolar": [
           {
            "marker": {
             "line": {
              "color": "#E5ECF6",
              "width": 0.5
             },
             "pattern": {
              "fillmode": "overlay",
              "size": 10,
              "solidity": 0.2
             }
            },
            "type": "barpolar"
           }
          ],
          "carpet": [
           {
            "aaxis": {
             "endlinecolor": "#2a3f5f",
             "gridcolor": "white",
             "linecolor": "white",
             "minorgridcolor": "white",
             "startlinecolor": "#2a3f5f"
            },
            "baxis": {
             "endlinecolor": "#2a3f5f",
             "gridcolor": "white",
             "linecolor": "white",
             "minorgridcolor": "white",
             "startlinecolor": "#2a3f5f"
            },
            "type": "carpet"
           }
          ],
          "choropleth": [
           {
            "colorbar": {
             "outlinewidth": 0,
             "ticks": ""
            },
            "type": "choropleth"
           }
          ],
          "contour": [
           {
            "colorbar": {
             "outlinewidth": 0,
             "ticks": ""
            },
            "colorscale": [
             [
              0,
              "#0d0887"
             ],
             [
              0.1111111111111111,
              "#46039f"
             ],
             [
              0.2222222222222222,
              "#7201a8"
             ],
             [
              0.3333333333333333,
              "#9c179e"
             ],
             [
              0.4444444444444444,
              "#bd3786"
             ],
             [
              0.5555555555555556,
              "#d8576b"
             ],
             [
              0.6666666666666666,
              "#ed7953"
             ],
             [
              0.7777777777777778,
              "#fb9f3a"
             ],
             [
              0.8888888888888888,
              "#fdca26"
             ],
             [
              1,
              "#f0f921"
             ]
            ],
            "type": "contour"
           }
          ],
          "contourcarpet": [
           {
            "colorbar": {
             "outlinewidth": 0,
             "ticks": ""
            },
            "type": "contourcarpet"
           }
          ],
          "heatmap": [
           {
            "colorbar": {
             "outlinewidth": 0,
             "ticks": ""
            },
            "colorscale": [
             [
              0,
              "#0d0887"
             ],
             [
              0.1111111111111111,
              "#46039f"
             ],
             [
              0.2222222222222222,
              "#7201a8"
             ],
             [
              0.3333333333333333,
              "#9c179e"
             ],
             [
              0.4444444444444444,
              "#bd3786"
             ],
             [
              0.5555555555555556,
              "#d8576b"
             ],
             [
              0.6666666666666666,
              "#ed7953"
             ],
             [
              0.7777777777777778,
              "#fb9f3a"
             ],
             [
              0.8888888888888888,
              "#fdca26"
             ],
             [
              1,
              "#f0f921"
             ]
            ],
            "type": "heatmap"
           }
          ],
          "heatmapgl": [
           {
            "colorbar": {
             "outlinewidth": 0,
             "ticks": ""
            },
            "colorscale": [
             [
              0,
              "#0d0887"
             ],
             [
              0.1111111111111111,
              "#46039f"
             ],
             [
              0.2222222222222222,
              "#7201a8"
             ],
             [
              0.3333333333333333,
              "#9c179e"
             ],
             [
              0.4444444444444444,
              "#bd3786"
             ],
             [
              0.5555555555555556,
              "#d8576b"
             ],
             [
              0.6666666666666666,
              "#ed7953"
             ],
             [
              0.7777777777777778,
              "#fb9f3a"
             ],
             [
              0.8888888888888888,
              "#fdca26"
             ],
             [
              1,
              "#f0f921"
             ]
            ],
            "type": "heatmapgl"
           }
          ],
          "histogram": [
           {
            "marker": {
             "pattern": {
              "fillmode": "overlay",
              "size": 10,
              "solidity": 0.2
             }
            },
            "type": "histogram"
           }
          ],
          "histogram2d": [
           {
            "colorbar": {
             "outlinewidth": 0,
             "ticks": ""
            },
            "colorscale": [
             [
              0,
              "#0d0887"
             ],
             [
              0.1111111111111111,
              "#46039f"
             ],
             [
              0.2222222222222222,
              "#7201a8"
             ],
             [
              0.3333333333333333,
              "#9c179e"
             ],
             [
              0.4444444444444444,
              "#bd3786"
             ],
             [
              0.5555555555555556,
              "#d8576b"
             ],
             [
              0.6666666666666666,
              "#ed7953"
             ],
             [
              0.7777777777777778,
              "#fb9f3a"
             ],
             [
              0.8888888888888888,
              "#fdca26"
             ],
             [
              1,
              "#f0f921"
             ]
            ],
            "type": "histogram2d"
           }
          ],
          "histogram2dcontour": [
           {
            "colorbar": {
             "outlinewidth": 0,
             "ticks": ""
            },
            "colorscale": [
             [
              0,
              "#0d0887"
             ],
             [
              0.1111111111111111,
              "#46039f"
             ],
             [
              0.2222222222222222,
              "#7201a8"
             ],
             [
              0.3333333333333333,
              "#9c179e"
             ],
             [
              0.4444444444444444,
              "#bd3786"
             ],
             [
              0.5555555555555556,
              "#d8576b"
             ],
             [
              0.6666666666666666,
              "#ed7953"
             ],
             [
              0.7777777777777778,
              "#fb9f3a"
             ],
             [
              0.8888888888888888,
              "#fdca26"
             ],
             [
              1,
              "#f0f921"
             ]
            ],
            "type": "histogram2dcontour"
           }
          ],
          "mesh3d": [
           {
            "colorbar": {
             "outlinewidth": 0,
             "ticks": ""
            },
            "type": "mesh3d"
           }
          ],
          "parcoords": [
           {
            "line": {
             "colorbar": {
              "outlinewidth": 0,
              "ticks": ""
             }
            },
            "type": "parcoords"
           }
          ],
          "pie": [
           {
            "automargin": true,
            "type": "pie"
           }
          ],
          "scatter": [
           {
            "fillpattern": {
             "fillmode": "overlay",
             "size": 10,
             "solidity": 0.2
            },
            "type": "scatter"
           }
          ],
          "scatter3d": [
           {
            "line": {
             "colorbar": {
              "outlinewidth": 0,
              "ticks": ""
             }
            },
            "marker": {
             "colorbar": {
              "outlinewidth": 0,
              "ticks": ""
             }
            },
            "type": "scatter3d"
           }
          ],
          "scattercarpet": [
           {
            "marker": {
             "colorbar": {
              "outlinewidth": 0,
              "ticks": ""
             }
            },
            "type": "scattercarpet"
           }
          ],
          "scattergeo": [
           {
            "marker": {
             "colorbar": {
              "outlinewidth": 0,
              "ticks": ""
             }
            },
            "type": "scattergeo"
           }
          ],
          "scattergl": [
           {
            "marker": {
             "colorbar": {
              "outlinewidth": 0,
              "ticks": ""
             }
            },
            "type": "scattergl"
           }
          ],
          "scattermapbox": [
           {
            "marker": {
             "colorbar": {
              "outlinewidth": 0,
              "ticks": ""
             }
            },
            "type": "scattermapbox"
           }
          ],
          "scatterpolar": [
           {
            "marker": {
             "colorbar": {
              "outlinewidth": 0,
              "ticks": ""
             }
            },
            "type": "scatterpolar"
           }
          ],
          "scatterpolargl": [
           {
            "marker": {
             "colorbar": {
              "outlinewidth": 0,
              "ticks": ""
             }
            },
            "type": "scatterpolargl"
           }
          ],
          "scatterternary": [
           {
            "marker": {
             "colorbar": {
              "outlinewidth": 0,
              "ticks": ""
             }
            },
            "type": "scatterternary"
           }
          ],
          "surface": [
           {
            "colorbar": {
             "outlinewidth": 0,
             "ticks": ""
            },
            "colorscale": [
             [
              0,
              "#0d0887"
             ],
             [
              0.1111111111111111,
              "#46039f"
             ],
             [
              0.2222222222222222,
              "#7201a8"
             ],
             [
              0.3333333333333333,
              "#9c179e"
             ],
             [
              0.4444444444444444,
              "#bd3786"
             ],
             [
              0.5555555555555556,
              "#d8576b"
             ],
             [
              0.6666666666666666,
              "#ed7953"
             ],
             [
              0.7777777777777778,
              "#fb9f3a"
             ],
             [
              0.8888888888888888,
              "#fdca26"
             ],
             [
              1,
              "#f0f921"
             ]
            ],
            "type": "surface"
           }
          ],
          "table": [
           {
            "cells": {
             "fill": {
              "color": "#EBF0F8"
             },
             "line": {
              "color": "white"
             }
            },
            "header": {
             "fill": {
              "color": "#C8D4E3"
             },
             "line": {
              "color": "white"
             }
            },
            "type": "table"
           }
          ]
         },
         "layout": {
          "annotationdefaults": {
           "arrowcolor": "#2a3f5f",
           "arrowhead": 0,
           "arrowwidth": 1
          },
          "autotypenumbers": "strict",
          "coloraxis": {
           "colorbar": {
            "outlinewidth": 0,
            "ticks": ""
           }
          },
          "colorscale": {
           "diverging": [
            [
             0,
             "#8e0152"
            ],
            [
             0.1,
             "#c51b7d"
            ],
            [
             0.2,
             "#de77ae"
            ],
            [
             0.3,
             "#f1b6da"
            ],
            [
             0.4,
             "#fde0ef"
            ],
            [
             0.5,
             "#f7f7f7"
            ],
            [
             0.6,
             "#e6f5d0"
            ],
            [
             0.7,
             "#b8e186"
            ],
            [
             0.8,
             "#7fbc41"
            ],
            [
             0.9,
             "#4d9221"
            ],
            [
             1,
             "#276419"
            ]
           ],
           "sequential": [
            [
             0,
             "#0d0887"
            ],
            [
             0.1111111111111111,
             "#46039f"
            ],
            [
             0.2222222222222222,
             "#7201a8"
            ],
            [
             0.3333333333333333,
             "#9c179e"
            ],
            [
             0.4444444444444444,
             "#bd3786"
            ],
            [
             0.5555555555555556,
             "#d8576b"
            ],
            [
             0.6666666666666666,
             "#ed7953"
            ],
            [
             0.7777777777777778,
             "#fb9f3a"
            ],
            [
             0.8888888888888888,
             "#fdca26"
            ],
            [
             1,
             "#f0f921"
            ]
           ],
           "sequentialminus": [
            [
             0,
             "#0d0887"
            ],
            [
             0.1111111111111111,
             "#46039f"
            ],
            [
             0.2222222222222222,
             "#7201a8"
            ],
            [
             0.3333333333333333,
             "#9c179e"
            ],
            [
             0.4444444444444444,
             "#bd3786"
            ],
            [
             0.5555555555555556,
             "#d8576b"
            ],
            [
             0.6666666666666666,
             "#ed7953"
            ],
            [
             0.7777777777777778,
             "#fb9f3a"
            ],
            [
             0.8888888888888888,
             "#fdca26"
            ],
            [
             1,
             "#f0f921"
            ]
           ]
          },
          "colorway": [
           "#636efa",
           "#EF553B",
           "#00cc96",
           "#ab63fa",
           "#FFA15A",
           "#19d3f3",
           "#FF6692",
           "#B6E880",
           "#FF97FF",
           "#FECB52"
          ],
          "font": {
           "color": "#2a3f5f"
          },
          "geo": {
           "bgcolor": "white",
           "lakecolor": "white",
           "landcolor": "#E5ECF6",
           "showlakes": true,
           "showland": true,
           "subunitcolor": "white"
          },
          "hoverlabel": {
           "align": "left"
          },
          "hovermode": "closest",
          "mapbox": {
           "style": "light"
          },
          "paper_bgcolor": "white",
          "plot_bgcolor": "#E5ECF6",
          "polar": {
           "angularaxis": {
            "gridcolor": "white",
            "linecolor": "white",
            "ticks": ""
           },
           "bgcolor": "#E5ECF6",
           "radialaxis": {
            "gridcolor": "white",
            "linecolor": "white",
            "ticks": ""
           }
          },
          "scene": {
           "xaxis": {
            "backgroundcolor": "#E5ECF6",
            "gridcolor": "white",
            "gridwidth": 2,
            "linecolor": "white",
            "showbackground": true,
            "ticks": "",
            "zerolinecolor": "white"
           },
           "yaxis": {
            "backgroundcolor": "#E5ECF6",
            "gridcolor": "white",
            "gridwidth": 2,
            "linecolor": "white",
            "showbackground": true,
            "ticks": "",
            "zerolinecolor": "white"
           },
           "zaxis": {
            "backgroundcolor": "#E5ECF6",
            "gridcolor": "white",
            "gridwidth": 2,
            "linecolor": "white",
            "showbackground": true,
            "ticks": "",
            "zerolinecolor": "white"
           }
          },
          "shapedefaults": {
           "line": {
            "color": "#2a3f5f"
           }
          },
          "ternary": {
           "aaxis": {
            "gridcolor": "white",
            "linecolor": "white",
            "ticks": ""
           },
           "baxis": {
            "gridcolor": "white",
            "linecolor": "white",
            "ticks": ""
           },
           "bgcolor": "#E5ECF6",
           "caxis": {
            "gridcolor": "white",
            "linecolor": "white",
            "ticks": ""
           }
          },
          "title": {
           "x": 0.05
          },
          "xaxis": {
           "automargin": true,
           "gridcolor": "white",
           "linecolor": "white",
           "ticks": "",
           "title": {
            "standoff": 15
           },
           "zerolinecolor": "white",
           "zerolinewidth": 2
          },
          "yaxis": {
           "automargin": true,
           "gridcolor": "white",
           "linecolor": "white",
           "ticks": "",
           "title": {
            "standoff": 15
           },
           "zerolinecolor": "white",
           "zerolinewidth": 2
          }
         }
        },
        "title": {
         "text": "Strain count by species (Top 200)"
        },
        "xaxis": {
         "anchor": "y",
         "domain": [
          0,
          1
         ],
         "showticklabels": true,
         "title": {
          "text": ""
         },
         "visible": true
        },
        "yaxis": {
         "anchor": "x",
         "domain": [
          0,
          1
         ],
         "showticklabels": true,
         "title": {
          "text": ""
         },
         "visible": true
        }
       }
      }
     },
     "metadata": {},
     "output_type": "display_data"
    }
   ],
   "source": [
    "import plotly.express as px\n",
    "# Plot the occurrence of enzymes across all of our selected taxa \n",
    "fig = px.bar(\n",
    "    data_frame = md_df.value_counts('species').head(200).reset_index(),\n",
    "    x=\"species\",\n",
    "    y=\"count\",\n",
    "    \n",
    "    title=\"Strain count by species (Top 200)\"\n",
    ")\n",
    "fig.update_xaxes(title='', visible=True, showticklabels=True)\n",
    "fig.update_yaxes(title='', visible=True, showticklabels=True)\n",
    "fig.show()"
   ]
  },
  {
   "cell_type": "markdown",
   "id": "3cb6f57d-a201-4ca5-99f7-5cbaf9bd09a9",
   "metadata": {},
   "source": [
    "### BacDive taxa2ec (bacdive_id)\n",
    "\n",
    "This table returns ec numbers, environmental info, metabolite data, taxonomic information, culturing info, and more based on an input of bacdive id's"
   ]
  },
  {
   "cell_type": "code",
   "execution_count": 7,
   "id": "2c967ce9-5eea-41f2-898b-5f16b38f17a9",
   "metadata": {
    "tags": []
   },
   "outputs": [],
   "source": [
    "import modules.bacdive as bd"
   ]
  },
  {
   "cell_type": "markdown",
   "id": "09de1c39-34a6-486e-bc8d-6bca303ddbf0",
   "metadata": {},
   "source": [
    "**[1] Initializing BacDive** (skip to [3] after first time)"
   ]
  },
  {
   "cell_type": "code",
   "execution_count": 8,
   "id": "52fd7ec8-7a40-469a-91eb-788817d1f540",
   "metadata": {
    "tags": []
   },
   "outputs": [
    {
     "data": {
      "text/plain": [
       "array(['2912', '2941', '2885', ..., '159029', '158241', '131423'],\n",
       "      dtype=object)"
      ]
     },
     "execution_count": 8,
     "metadata": {},
     "output_type": "execute_result"
    }
   ],
   "source": [
    "# Read MediaDive master table to retrieve bacdive strain id's\n",
    "md_df = pd.read_csv(os.path.join(DATA_DIR, \"mediadive\", \"mediadive-all.csv\"), sep=\";\")\n",
    "# Make bacdive strain id's into a list\n",
    "bd_id_list = md_df[\"bacdive_id\"].dropna().astype(int).astype(str).unique()\n",
    "bd_id_list"
   ]
  },
  {
   "cell_type": "code",
   "execution_count": 9,
   "id": "9c7a5242-9294-4d0e-bf08-1f0992fbadc7",
   "metadata": {
    "tags": []
   },
   "outputs": [
    {
     "data": {
      "text/plain": [
       "13735"
      ]
     },
     "execution_count": 9,
     "metadata": {},
     "output_type": "execute_result"
    }
   ],
   "source": [
    "len(bd_id_list)"
   ]
  },
  {
   "cell_type": "markdown",
   "id": "6580575f-4f1d-4f47-8326-f03e6fd3ddf9",
   "metadata": {},
   "source": [
    "**[2] Retrieval of BacDive info** "
   ]
  },
  {
   "cell_type": "code",
   "execution_count": 10,
   "id": "40ede006-bc53-4d41-9a97-06afa2779d02",
   "metadata": {
    "tags": []
   },
   "outputs": [
    {
     "name": "stdout",
     "output_type": "stream",
     "text": [
      "-- Authentication successful --\n"
     ]
    },
    {
     "name": "stderr",
     "output_type": "stream",
     "text": [
      "100%|██████████| 138/138 [04:03<00:00,  1.76s/it]\n"
     ]
    },
    {
     "data": {
      "text/html": [
       "<div>\n",
       "<style scoped>\n",
       "    .dataframe tbody tr th:only-of-type {\n",
       "        vertical-align: middle;\n",
       "    }\n",
       "\n",
       "    .dataframe tbody tr th {\n",
       "        vertical-align: top;\n",
       "    }\n",
       "\n",
       "    .dataframe thead th {\n",
       "        text-align: right;\n",
       "    }\n",
       "</style>\n",
       "<table border=\"1\" class=\"dataframe\">\n",
       "  <thead>\n",
       "    <tr style=\"text-align: right;\">\n",
       "      <th></th>\n",
       "      <th>general_@ref</th>\n",
       "      <th>bacdive_id</th>\n",
       "      <th>dsmz_id</th>\n",
       "      <th>general_keywords</th>\n",
       "      <th>general_description</th>\n",
       "      <th>taxon_id</th>\n",
       "      <th>ncbi_tax_id_matching_level</th>\n",
       "      <th>strain_history_@ref</th>\n",
       "      <th>strain_history_history</th>\n",
       "      <th>general_doi</th>\n",
       "      <th>...</th>\n",
       "      <th>api_id32sta_beta_gur</th>\n",
       "      <th>physiology_and_metabolism_murein</th>\n",
       "      <th>physiology_and_metabolism_api_list</th>\n",
       "      <th>isolation_enrichment_culture</th>\n",
       "      <th>isolation_enrichment_culture_temperature</th>\n",
       "      <th>multicellular_morphology_complex_color</th>\n",
       "      <th>api_list_beta_hem</th>\n",
       "      <th>metabolite_tests_citrate_test</th>\n",
       "      <th>compound_production_excreted</th>\n",
       "      <th>isolation_enrichment_culture_duration</th>\n",
       "    </tr>\n",
       "  </thead>\n",
       "  <tbody>\n",
       "    <tr>\n",
       "      <th>0</th>\n",
       "      <td>21113</td>\n",
       "      <td>24370</td>\n",
       "      <td>11532.0</td>\n",
       "      <td>[Bacteria, human pathogen]</td>\n",
       "      <td>Pseudomonas fluorescens PWD34 is a human patho...</td>\n",
       "      <td>294</td>\n",
       "      <td>species</td>\n",
       "      <td>21113.0</td>\n",
       "      <td>&lt;- W. Duetz, RIVM, Bilthoven; PWD34</td>\n",
       "      <td>10.13145/bacdive24370.20240510.9</td>\n",
       "      <td>...</td>\n",
       "      <td>NaN</td>\n",
       "      <td>NaN</td>\n",
       "      <td>NaN</td>\n",
       "      <td>NaN</td>\n",
       "      <td>NaN</td>\n",
       "      <td>NaN</td>\n",
       "      <td>NaN</td>\n",
       "      <td>NaN</td>\n",
       "      <td>NaN</td>\n",
       "      <td>NaN</td>\n",
       "    </tr>\n",
       "    <tr>\n",
       "      <th>1</th>\n",
       "      <td>21111</td>\n",
       "      <td>24368</td>\n",
       "      <td>304.0</td>\n",
       "      <td>Bacteria</td>\n",
       "      <td>Pseudomonas sp. DSM 304 is a bacterium of the ...</td>\n",
       "      <td>306</td>\n",
       "      <td>species</td>\n",
       "      <td>21111.0</td>\n",
       "      <td>&lt;- IMG, 1591 (&lt;i&gt;P. fluorescens&lt;/i&gt;) &lt;- H. Stolp</td>\n",
       "      <td>10.13145/bacdive24368.20240510.9</td>\n",
       "      <td>...</td>\n",
       "      <td>NaN</td>\n",
       "      <td>NaN</td>\n",
       "      <td>NaN</td>\n",
       "      <td>NaN</td>\n",
       "      <td>NaN</td>\n",
       "      <td>NaN</td>\n",
       "      <td>NaN</td>\n",
       "      <td>NaN</td>\n",
       "      <td>NaN</td>\n",
       "      <td>NaN</td>\n",
       "    </tr>\n",
       "    <tr>\n",
       "      <th>2</th>\n",
       "      <td>20542</td>\n",
       "      <td>23995</td>\n",
       "      <td>30059.0</td>\n",
       "      <td>Bacteria</td>\n",
       "      <td>Lelliottia amnigena 21824 is a bacterium that ...</td>\n",
       "      <td>61646</td>\n",
       "      <td>species</td>\n",
       "      <td>20542.0</td>\n",
       "      <td>&lt;- Bakteriologisches Institut der Sueddeutsche...</td>\n",
       "      <td>10.13145/bacdive23995.20240510.9</td>\n",
       "      <td>...</td>\n",
       "      <td>NaN</td>\n",
       "      <td>NaN</td>\n",
       "      <td>NaN</td>\n",
       "      <td>NaN</td>\n",
       "      <td>NaN</td>\n",
       "      <td>NaN</td>\n",
       "      <td>NaN</td>\n",
       "      <td>NaN</td>\n",
       "      <td>NaN</td>\n",
       "      <td>NaN</td>\n",
       "    </tr>\n",
       "    <tr>\n",
       "      <th>3</th>\n",
       "      <td>1479</td>\n",
       "      <td>17621</td>\n",
       "      <td>3849.0</td>\n",
       "      <td>[16S sequence, Bacteria, plant pathogen]</td>\n",
       "      <td>Xanthomonas citri subsp. malvacearum XM13 is a...</td>\n",
       "      <td>346</td>\n",
       "      <td>species</td>\n",
       "      <td>NaN</td>\n",
       "      <td>NaN</td>\n",
       "      <td>10.13145/bacdive17621.20240510.9</td>\n",
       "      <td>...</td>\n",
       "      <td>NaN</td>\n",
       "      <td>NaN</td>\n",
       "      <td>NaN</td>\n",
       "      <td>NaN</td>\n",
       "      <td>NaN</td>\n",
       "      <td>NaN</td>\n",
       "      <td>NaN</td>\n",
       "      <td>NaN</td>\n",
       "      <td>NaN</td>\n",
       "      <td>NaN</td>\n",
       "    </tr>\n",
       "    <tr>\n",
       "      <th>4</th>\n",
       "      <td>1480</td>\n",
       "      <td>17596</td>\n",
       "      <td>3850.0</td>\n",
       "      <td>[genome sequence, Bacteria, obligate aerobe, G...</td>\n",
       "      <td>Xanthomonas campestris DSM 3850 is an obligate...</td>\n",
       "      <td>339</td>\n",
       "      <td>species</td>\n",
       "      <td>NaN</td>\n",
       "      <td>NaN</td>\n",
       "      <td>10.13145/bacdive17596.20240510.9</td>\n",
       "      <td>...</td>\n",
       "      <td>NaN</td>\n",
       "      <td>NaN</td>\n",
       "      <td>NaN</td>\n",
       "      <td>NaN</td>\n",
       "      <td>NaN</td>\n",
       "      <td>NaN</td>\n",
       "      <td>NaN</td>\n",
       "      <td>NaN</td>\n",
       "      <td>NaN</td>\n",
       "      <td>NaN</td>\n",
       "    </tr>\n",
       "  </tbody>\n",
       "</table>\n",
       "<p>5 rows × 838 columns</p>\n",
       "</div>"
      ],
      "text/plain": [
       "   general_@ref  bacdive_id  dsmz_id  \\\n",
       "0         21113       24370  11532.0   \n",
       "1         21111       24368    304.0   \n",
       "2         20542       23995  30059.0   \n",
       "3          1479       17621   3849.0   \n",
       "4          1480       17596   3850.0   \n",
       "\n",
       "                                    general_keywords  \\\n",
       "0                         [Bacteria, human pathogen]   \n",
       "1                                           Bacteria   \n",
       "2                                           Bacteria   \n",
       "3           [16S sequence, Bacteria, plant pathogen]   \n",
       "4  [genome sequence, Bacteria, obligate aerobe, G...   \n",
       "\n",
       "                                 general_description taxon_id  \\\n",
       "0  Pseudomonas fluorescens PWD34 is a human patho...      294   \n",
       "1  Pseudomonas sp. DSM 304 is a bacterium of the ...      306   \n",
       "2  Lelliottia amnigena 21824 is a bacterium that ...    61646   \n",
       "3  Xanthomonas citri subsp. malvacearum XM13 is a...      346   \n",
       "4  Xanthomonas campestris DSM 3850 is an obligate...      339   \n",
       "\n",
       "  ncbi_tax_id_matching_level  strain_history_@ref  \\\n",
       "0                    species              21113.0   \n",
       "1                    species              21111.0   \n",
       "2                    species              20542.0   \n",
       "3                    species                  NaN   \n",
       "4                    species                  NaN   \n",
       "\n",
       "                              strain_history_history  \\\n",
       "0                <- W. Duetz, RIVM, Bilthoven; PWD34   \n",
       "1   <- IMG, 1591 (<i>P. fluorescens</i>) <- H. Stolp   \n",
       "2  <- Bakteriologisches Institut der Sueddeutsche...   \n",
       "3                                                NaN   \n",
       "4                                                NaN   \n",
       "\n",
       "                        general_doi  ...  api_id32sta_beta_gur  \\\n",
       "0  10.13145/bacdive24370.20240510.9  ...                   NaN   \n",
       "1  10.13145/bacdive24368.20240510.9  ...                   NaN   \n",
       "2  10.13145/bacdive23995.20240510.9  ...                   NaN   \n",
       "3  10.13145/bacdive17621.20240510.9  ...                   NaN   \n",
       "4  10.13145/bacdive17596.20240510.9  ...                   NaN   \n",
       "\n",
       "  physiology_and_metabolism_murein physiology_and_metabolism_api_list  \\\n",
       "0                              NaN                                NaN   \n",
       "1                              NaN                                NaN   \n",
       "2                              NaN                                NaN   \n",
       "3                              NaN                                NaN   \n",
       "4                              NaN                                NaN   \n",
       "\n",
       "  isolation_enrichment_culture isolation_enrichment_culture_temperature  \\\n",
       "0                          NaN                                      NaN   \n",
       "1                          NaN                                      NaN   \n",
       "2                          NaN                                      NaN   \n",
       "3                          NaN                                      NaN   \n",
       "4                          NaN                                      NaN   \n",
       "\n",
       "  multicellular_morphology_complex_color api_list_beta_hem  \\\n",
       "0                                    NaN               NaN   \n",
       "1                                    NaN               NaN   \n",
       "2                                    NaN               NaN   \n",
       "3                                    NaN               NaN   \n",
       "4                                    NaN               NaN   \n",
       "\n",
       "  metabolite_tests_citrate_test compound_production_excreted  \\\n",
       "0                           NaN                          NaN   \n",
       "1                           NaN                          NaN   \n",
       "2                           NaN                          NaN   \n",
       "3                           NaN                          NaN   \n",
       "4                           NaN                          NaN   \n",
       "\n",
       "  isolation_enrichment_culture_duration  \n",
       "0                                   NaN  \n",
       "1                                   NaN  \n",
       "2                                   NaN  \n",
       "3                                   NaN  \n",
       "4                                   NaN  \n",
       "\n",
       "[5 rows x 838 columns]"
      ]
     },
     "execution_count": 10,
     "metadata": {},
     "output_type": "execute_result"
    }
   ],
   "source": [
    "# Initialize client\n",
    "client = bacdive.BacdiveClient('wjlowe03@gmail.com', 'UNINA_Bacdive')\n",
    "\n",
    "step = 100\n",
    "bacdive_df = []\n",
    "\n",
    "for idx_start in tqdm(range(0, len(bd_id_list), step)): #status bar\n",
    "    id_list = \";\".join(bd_id_list[idx_start:idx_start+step]) \n",
    "    bacdive_df.append(bd.taxon2ec(id_list=id_list, client=client))\n",
    "\n",
    "bacdive_df = pd.concat(bacdive_df, axis=0, ignore_index=True)\n",
    "bacdive_df = bacdive_df.drop(\"reference\", axis=1)\n",
    "\n",
    "bacdive_df.to_csv(os.path.join(DATA_DIR, \"bacdive\", \"bacdive-all.csv\"), index=False)\n",
    "bacdive_df.head()"
   ]
  },
  {
   "cell_type": "markdown",
   "id": "4b1f1dcc-bd51-4dbc-ba18-869dc6343471",
   "metadata": {},
   "source": [
    "**[3] Final BacDive dataframe**"
   ]
  },
  {
   "cell_type": "code",
   "execution_count": 11,
   "id": "84ab60b8-9433-4dd6-8697-49657145214a",
   "metadata": {},
   "outputs": [
    {
     "data": {
      "text/html": [
       "<div>\n",
       "<style scoped>\n",
       "    .dataframe tbody tr th:only-of-type {\n",
       "        vertical-align: middle;\n",
       "    }\n",
       "\n",
       "    .dataframe tbody tr th {\n",
       "        vertical-align: top;\n",
       "    }\n",
       "\n",
       "    .dataframe thead th {\n",
       "        text-align: right;\n",
       "    }\n",
       "</style>\n",
       "<table border=\"1\" class=\"dataframe\">\n",
       "  <thead>\n",
       "    <tr style=\"text-align: right;\">\n",
       "      <th></th>\n",
       "      <th>general_@ref</th>\n",
       "      <th>bacdive_id</th>\n",
       "      <th>dsmz_id</th>\n",
       "      <th>general_keywords</th>\n",
       "      <th>general_description</th>\n",
       "      <th>taxon_id</th>\n",
       "      <th>ncbi_tax_id_matching_level</th>\n",
       "      <th>strain_history_@ref</th>\n",
       "      <th>strain_history_history</th>\n",
       "      <th>general_doi</th>\n",
       "      <th>...</th>\n",
       "      <th>api_id32sta_beta_gur</th>\n",
       "      <th>physiology_and_metabolism_murein</th>\n",
       "      <th>physiology_and_metabolism_api_list</th>\n",
       "      <th>isolation_enrichment_culture</th>\n",
       "      <th>isolation_enrichment_culture_temperature</th>\n",
       "      <th>multicellular_morphology_complex_color</th>\n",
       "      <th>api_list_beta_hem</th>\n",
       "      <th>metabolite_tests_citrate_test</th>\n",
       "      <th>compound_production_excreted</th>\n",
       "      <th>isolation_enrichment_culture_duration</th>\n",
       "    </tr>\n",
       "  </thead>\n",
       "  <tbody>\n",
       "    <tr>\n",
       "      <th>0</th>\n",
       "      <td>21113</td>\n",
       "      <td>24370</td>\n",
       "      <td>11532.0</td>\n",
       "      <td>['Bacteria', 'human pathogen']</td>\n",
       "      <td>Pseudomonas fluorescens PWD34 is a human patho...</td>\n",
       "      <td>294</td>\n",
       "      <td>species</td>\n",
       "      <td>21113.0</td>\n",
       "      <td>&lt;- W. Duetz, RIVM, Bilthoven; PWD34</td>\n",
       "      <td>10.13145/bacdive24370.20240510.9</td>\n",
       "      <td>...</td>\n",
       "      <td>NaN</td>\n",
       "      <td>NaN</td>\n",
       "      <td>NaN</td>\n",
       "      <td>NaN</td>\n",
       "      <td>NaN</td>\n",
       "      <td>NaN</td>\n",
       "      <td>NaN</td>\n",
       "      <td>NaN</td>\n",
       "      <td>NaN</td>\n",
       "      <td>NaN</td>\n",
       "    </tr>\n",
       "    <tr>\n",
       "      <th>1</th>\n",
       "      <td>21111</td>\n",
       "      <td>24368</td>\n",
       "      <td>304.0</td>\n",
       "      <td>Bacteria</td>\n",
       "      <td>Pseudomonas sp. DSM 304 is a bacterium of the ...</td>\n",
       "      <td>306</td>\n",
       "      <td>species</td>\n",
       "      <td>21111.0</td>\n",
       "      <td>&lt;- IMG, 1591 (&lt;i&gt;P. fluorescens&lt;/i&gt;) &lt;- H. Stolp</td>\n",
       "      <td>10.13145/bacdive24368.20240510.9</td>\n",
       "      <td>...</td>\n",
       "      <td>NaN</td>\n",
       "      <td>NaN</td>\n",
       "      <td>NaN</td>\n",
       "      <td>NaN</td>\n",
       "      <td>NaN</td>\n",
       "      <td>NaN</td>\n",
       "      <td>NaN</td>\n",
       "      <td>NaN</td>\n",
       "      <td>NaN</td>\n",
       "      <td>NaN</td>\n",
       "    </tr>\n",
       "    <tr>\n",
       "      <th>2</th>\n",
       "      <td>20542</td>\n",
       "      <td>23995</td>\n",
       "      <td>30059.0</td>\n",
       "      <td>Bacteria</td>\n",
       "      <td>Lelliottia amnigena 21824 is a bacterium that ...</td>\n",
       "      <td>61646</td>\n",
       "      <td>species</td>\n",
       "      <td>20542.0</td>\n",
       "      <td>&lt;- Bakteriologisches Institut der Sueddeutsche...</td>\n",
       "      <td>10.13145/bacdive23995.20240510.9</td>\n",
       "      <td>...</td>\n",
       "      <td>NaN</td>\n",
       "      <td>NaN</td>\n",
       "      <td>NaN</td>\n",
       "      <td>NaN</td>\n",
       "      <td>NaN</td>\n",
       "      <td>NaN</td>\n",
       "      <td>NaN</td>\n",
       "      <td>NaN</td>\n",
       "      <td>NaN</td>\n",
       "      <td>NaN</td>\n",
       "    </tr>\n",
       "    <tr>\n",
       "      <th>3</th>\n",
       "      <td>1479</td>\n",
       "      <td>17621</td>\n",
       "      <td>3849.0</td>\n",
       "      <td>['16S sequence', 'Bacteria', 'plant pathogen']</td>\n",
       "      <td>Xanthomonas citri subsp. malvacearum XM13 is a...</td>\n",
       "      <td>346</td>\n",
       "      <td>species</td>\n",
       "      <td>NaN</td>\n",
       "      <td>NaN</td>\n",
       "      <td>10.13145/bacdive17621.20240510.9</td>\n",
       "      <td>...</td>\n",
       "      <td>NaN</td>\n",
       "      <td>NaN</td>\n",
       "      <td>NaN</td>\n",
       "      <td>NaN</td>\n",
       "      <td>NaN</td>\n",
       "      <td>NaN</td>\n",
       "      <td>NaN</td>\n",
       "      <td>NaN</td>\n",
       "      <td>NaN</td>\n",
       "      <td>NaN</td>\n",
       "    </tr>\n",
       "    <tr>\n",
       "      <th>4</th>\n",
       "      <td>1480</td>\n",
       "      <td>17596</td>\n",
       "      <td>3850.0</td>\n",
       "      <td>['genome sequence', 'Bacteria', 'obligate aero...</td>\n",
       "      <td>Xanthomonas campestris DSM 3850 is an obligate...</td>\n",
       "      <td>339</td>\n",
       "      <td>species</td>\n",
       "      <td>NaN</td>\n",
       "      <td>NaN</td>\n",
       "      <td>10.13145/bacdive17596.20240510.9</td>\n",
       "      <td>...</td>\n",
       "      <td>NaN</td>\n",
       "      <td>NaN</td>\n",
       "      <td>NaN</td>\n",
       "      <td>NaN</td>\n",
       "      <td>NaN</td>\n",
       "      <td>NaN</td>\n",
       "      <td>NaN</td>\n",
       "      <td>NaN</td>\n",
       "      <td>NaN</td>\n",
       "      <td>NaN</td>\n",
       "    </tr>\n",
       "  </tbody>\n",
       "</table>\n",
       "<p>5 rows × 838 columns</p>\n",
       "</div>"
      ],
      "text/plain": [
       "   general_@ref  bacdive_id  dsmz_id  \\\n",
       "0         21113       24370  11532.0   \n",
       "1         21111       24368    304.0   \n",
       "2         20542       23995  30059.0   \n",
       "3          1479       17621   3849.0   \n",
       "4          1480       17596   3850.0   \n",
       "\n",
       "                                    general_keywords  \\\n",
       "0                     ['Bacteria', 'human pathogen']   \n",
       "1                                           Bacteria   \n",
       "2                                           Bacteria   \n",
       "3     ['16S sequence', 'Bacteria', 'plant pathogen']   \n",
       "4  ['genome sequence', 'Bacteria', 'obligate aero...   \n",
       "\n",
       "                                 general_description taxon_id  \\\n",
       "0  Pseudomonas fluorescens PWD34 is a human patho...      294   \n",
       "1  Pseudomonas sp. DSM 304 is a bacterium of the ...      306   \n",
       "2  Lelliottia amnigena 21824 is a bacterium that ...    61646   \n",
       "3  Xanthomonas citri subsp. malvacearum XM13 is a...      346   \n",
       "4  Xanthomonas campestris DSM 3850 is an obligate...      339   \n",
       "\n",
       "  ncbi_tax_id_matching_level  strain_history_@ref  \\\n",
       "0                    species              21113.0   \n",
       "1                    species              21111.0   \n",
       "2                    species              20542.0   \n",
       "3                    species                  NaN   \n",
       "4                    species                  NaN   \n",
       "\n",
       "                              strain_history_history  \\\n",
       "0                <- W. Duetz, RIVM, Bilthoven; PWD34   \n",
       "1   <- IMG, 1591 (<i>P. fluorescens</i>) <- H. Stolp   \n",
       "2  <- Bakteriologisches Institut der Sueddeutsche...   \n",
       "3                                                NaN   \n",
       "4                                                NaN   \n",
       "\n",
       "                        general_doi  ...  api_id32sta_beta_gur  \\\n",
       "0  10.13145/bacdive24370.20240510.9  ...                   NaN   \n",
       "1  10.13145/bacdive24368.20240510.9  ...                   NaN   \n",
       "2  10.13145/bacdive23995.20240510.9  ...                   NaN   \n",
       "3  10.13145/bacdive17621.20240510.9  ...                   NaN   \n",
       "4  10.13145/bacdive17596.20240510.9  ...                   NaN   \n",
       "\n",
       "  physiology_and_metabolism_murein physiology_and_metabolism_api_list  \\\n",
       "0                              NaN                                NaN   \n",
       "1                              NaN                                NaN   \n",
       "2                              NaN                                NaN   \n",
       "3                              NaN                                NaN   \n",
       "4                              NaN                                NaN   \n",
       "\n",
       "  isolation_enrichment_culture isolation_enrichment_culture_temperature  \\\n",
       "0                          NaN                                      NaN   \n",
       "1                          NaN                                      NaN   \n",
       "2                          NaN                                      NaN   \n",
       "3                          NaN                                      NaN   \n",
       "4                          NaN                                      NaN   \n",
       "\n",
       "  multicellular_morphology_complex_color api_list_beta_hem  \\\n",
       "0                                    NaN               NaN   \n",
       "1                                    NaN               NaN   \n",
       "2                                    NaN               NaN   \n",
       "3                                    NaN               NaN   \n",
       "4                                    NaN               NaN   \n",
       "\n",
       "  metabolite_tests_citrate_test compound_production_excreted  \\\n",
       "0                           NaN                          NaN   \n",
       "1                           NaN                          NaN   \n",
       "2                           NaN                          NaN   \n",
       "3                           NaN                          NaN   \n",
       "4                           NaN                          NaN   \n",
       "\n",
       "  isolation_enrichment_culture_duration  \n",
       "0                                   NaN  \n",
       "1                                   NaN  \n",
       "2                                   NaN  \n",
       "3                                   NaN  \n",
       "4                                   NaN  \n",
       "\n",
       "[5 rows x 838 columns]"
      ]
     },
     "execution_count": 11,
     "metadata": {},
     "output_type": "execute_result"
    }
   ],
   "source": [
    "bacdive_df = pd.read_csv('~/Desktop/code/data/bacdive/bacdive-all.csv', low_memory=False)\n",
    "bacdive_df.head()"
   ]
  },
  {
   "cell_type": "markdown",
   "id": "e6245c2c-255f-47ca-80ac-fdda620297f0",
   "metadata": {},
   "source": [
    "### UniProtKB taxa2ec (species)\n",
    "\n",
    "This table returns ec numbers and identifier information for an input of species"
   ]
  },
  {
   "cell_type": "code",
   "execution_count": 58,
   "id": "259a910e-8bc2-4935-a8cd-bdc9ba78690a",
   "metadata": {
    "tags": []
   },
   "outputs": [],
   "source": [
    "import modules.uniprotkb as uni"
   ]
  },
  {
   "cell_type": "markdown",
   "id": "90aebcb8-85b9-4788-b7fd-7b68c6530af2",
   "metadata": {},
   "source": [
    "**[1] Format species name from the md_df MediaDive table for querying UniProtKB** (skip to [3] after first time)"
   ]
  },
  {
   "cell_type": "code",
   "execution_count": 61,
   "id": "efddda9d-ec34-42c9-b1f0-992137d07048",
   "metadata": {
    "tags": []
   },
   "outputs": [
    {
     "data": {
      "text/plain": [
       "12393"
      ]
     },
     "execution_count": 61,
     "metadata": {},
     "output_type": "execute_result"
    }
   ],
   "source": [
    "species_df = md_df.copy()\n",
    "species_df['species'] = species_df['species'].replace(' ','+', regex=True)\n",
    "species_list = set(species_df['species'].to_list())\n",
    "len(species_list)"
   ]
  },
  {
   "cell_type": "markdown",
   "id": "0ee17041-3222-49b3-b3fd-ab4fd127939d",
   "metadata": {
    "tags": []
   },
   "source": [
    "**[2] Retrieval of UniProtKB info**"
   ]
  },
  {
   "cell_type": "code",
   "execution_count": 64,
   "id": "a2d4b2af-4bb6-4547-b08d-18ffea49822f",
   "metadata": {
    "tags": []
   },
   "outputs": [
    {
     "name": "stderr",
     "output_type": "stream",
     "text": [
      "Processing species:  12%|██████▉                                                  | 1506/12393 [04:02<16:41, 10.87it/s]"
     ]
    },
    {
     "name": "stdout",
     "output_type": "stream",
     "text": [
      "HTTP error occurred for Sphingobacterium+composti+[homonym]: 400 Client Error: Bad Request for url: https://rest.uniprot.org/uniprotkb/search?fields=accession%2Cec%2Corganism_name%2Corganism_id%2Ccc_cofactor%2Cid&format=tsv&size=500&query=%28organism_name%3ASphingobacterium+composti+%5Bhomonym%5D%29+AND+%28ec%3A*%29+AND+%28reviewed%3Atrue%29\n"
     ]
    },
    {
     "name": "stderr",
     "output_type": "stream",
     "text": [
      "Processing species:  83%|██████████████████████████████████████████████▎         | 10248/12393 [29:01<06:55,  5.17it/s]"
     ]
    },
    {
     "name": "stdout",
     "output_type": "stream",
     "text": [
      "HTTP error occurred for Protocrea+illino&euml;nsis: 400 Client Error: Bad Request for url: https://rest.uniprot.org/uniprotkb/search?fields=accession%2Cec%2Corganism_name%2Corganism_id%2Ccc_cofactor%2Cid&format=tsv&size=500&query=%28organism_name%3AProtocrea+illino&euml;nsis%29+AND+%28ec%3A*%29+AND+%28reviewed%3Atrue%29\n"
     ]
    },
    {
     "name": "stderr",
     "output_type": "stream",
     "text": [
      "Processing species: 100%|████████████████████████████████████████████████████████| 12393/12393 [35:28<00:00,  5.82it/s]\n"
     ]
    },
    {
     "name": "stdout",
     "output_type": "stream",
     "text": [
      "10665 species with no data\n"
     ]
    },
    {
     "data": {
      "text/html": [
       "<div>\n",
       "<style scoped>\n",
       "    .dataframe tbody tr th:only-of-type {\n",
       "        vertical-align: middle;\n",
       "    }\n",
       "\n",
       "    .dataframe tbody tr th {\n",
       "        vertical-align: top;\n",
       "    }\n",
       "\n",
       "    .dataframe thead th {\n",
       "        text-align: right;\n",
       "    }\n",
       "</style>\n",
       "<table border=\"1\" class=\"dataframe\">\n",
       "  <thead>\n",
       "    <tr style=\"text-align: right;\">\n",
       "      <th></th>\n",
       "      <th>species</th>\n",
       "      <th>ec_uniprot</th>\n",
       "    </tr>\n",
       "  </thead>\n",
       "  <tbody>\n",
       "    <tr>\n",
       "      <th>0</th>\n",
       "      <td>Staphylococcus+haemolyticus</td>\n",
       "      <td>6.3.2.7</td>\n",
       "    </tr>\n",
       "    <tr>\n",
       "      <th>1</th>\n",
       "      <td>Staphylococcus+haemolyticus</td>\n",
       "      <td>6.3.4.16; 6.3.5.5</td>\n",
       "    </tr>\n",
       "    <tr>\n",
       "      <th>2</th>\n",
       "      <td>Staphylococcus+haemolyticus</td>\n",
       "      <td>6.3.4.2</td>\n",
       "    </tr>\n",
       "    <tr>\n",
       "      <th>3</th>\n",
       "      <td>Staphylococcus+haemolyticus</td>\n",
       "      <td>4.4.1.13</td>\n",
       "    </tr>\n",
       "    <tr>\n",
       "      <th>4</th>\n",
       "      <td>Staphylococcus+haemolyticus</td>\n",
       "      <td>2.3.1.157; 2.7.7.23</td>\n",
       "    </tr>\n",
       "  </tbody>\n",
       "</table>\n",
       "</div>"
      ],
      "text/plain": [
       "                       species           ec_uniprot\n",
       "0  Staphylococcus+haemolyticus              6.3.2.7\n",
       "1  Staphylococcus+haemolyticus    6.3.4.16; 6.3.5.5\n",
       "2  Staphylococcus+haemolyticus              6.3.4.2\n",
       "3  Staphylococcus+haemolyticus             4.4.1.13\n",
       "4  Staphylococcus+haemolyticus  2.3.1.157; 2.7.7.23"
      ]
     },
     "execution_count": 64,
     "metadata": {},
     "output_type": "execute_result"
    }
   ],
   "source": [
    "# Import and run function to retrieve ec's associated with each species\n",
    "    # Note: currently, script only checks reviewed entries (SwissProt), and ignores 1000's of tREMBL entries\n",
    "    # Errors represent where species are totally absent, whereas non-reviewed entries show as 'x species with no data'\n",
    "    \n",
    "uniprot_df = uni.species2ec(species_list)\n",
    "\n",
    "uniprot_df.to_csv(os.path.join(DATA_DIR, \"uniprot\", \"uniprot-all.csv\"), index=False)\n",
    "uniprot_df.head()"
   ]
  },
  {
   "cell_type": "markdown",
   "id": "b5dd2f4e-4134-4e48-8edd-506b73aa1bc6",
   "metadata": {},
   "source": [
    "**[3] Final UniProtKB dataframe**"
   ]
  },
  {
   "cell_type": "code",
   "execution_count": 7,
   "id": "a2c0684d-7297-4306-b51e-3ad78762f1d8",
   "metadata": {},
   "outputs": [
    {
     "data": {
      "text/html": [
       "<div>\n",
       "<style scoped>\n",
       "    .dataframe tbody tr th:only-of-type {\n",
       "        vertical-align: middle;\n",
       "    }\n",
       "\n",
       "    .dataframe tbody tr th {\n",
       "        vertical-align: top;\n",
       "    }\n",
       "\n",
       "    .dataframe thead th {\n",
       "        text-align: right;\n",
       "    }\n",
       "</style>\n",
       "<table border=\"1\" class=\"dataframe\">\n",
       "  <thead>\n",
       "    <tr style=\"text-align: right;\">\n",
       "      <th></th>\n",
       "      <th>species</th>\n",
       "      <th>ec_uniprot</th>\n",
       "    </tr>\n",
       "  </thead>\n",
       "  <tbody>\n",
       "    <tr>\n",
       "      <th>0</th>\n",
       "      <td>Staphylococcus+haemolyticus</td>\n",
       "      <td>6.3.2.7</td>\n",
       "    </tr>\n",
       "    <tr>\n",
       "      <th>1</th>\n",
       "      <td>Staphylococcus+haemolyticus</td>\n",
       "      <td>6.3.4.16; 6.3.5.5</td>\n",
       "    </tr>\n",
       "    <tr>\n",
       "      <th>2</th>\n",
       "      <td>Staphylococcus+haemolyticus</td>\n",
       "      <td>6.3.4.2</td>\n",
       "    </tr>\n",
       "    <tr>\n",
       "      <th>3</th>\n",
       "      <td>Staphylococcus+haemolyticus</td>\n",
       "      <td>4.4.1.13</td>\n",
       "    </tr>\n",
       "    <tr>\n",
       "      <th>4</th>\n",
       "      <td>Staphylococcus+haemolyticus</td>\n",
       "      <td>2.3.1.157; 2.7.7.23</td>\n",
       "    </tr>\n",
       "  </tbody>\n",
       "</table>\n",
       "</div>"
      ],
      "text/plain": [
       "                       species           ec_uniprot\n",
       "0  Staphylococcus+haemolyticus              6.3.2.7\n",
       "1  Staphylococcus+haemolyticus    6.3.4.16; 6.3.5.5\n",
       "2  Staphylococcus+haemolyticus              6.3.4.2\n",
       "3  Staphylococcus+haemolyticus             4.4.1.13\n",
       "4  Staphylococcus+haemolyticus  2.3.1.157; 2.7.7.23"
      ]
     },
     "execution_count": 7,
     "metadata": {},
     "output_type": "execute_result"
    }
   ],
   "source": [
    "uniprot_df = pd.read_csv('~/Desktop/code/data/uniprot/uniprot-all.csv')\n",
    "uniprot_df.head()"
   ]
  },
  {
   "cell_type": "markdown",
   "id": "b1284eb9-54f6-44f3-b8ba-5ca1de900671",
   "metadata": {},
   "source": [
    "**[4] Formatting list for media compound comparison**"
   ]
  },
  {
   "cell_type": "code",
   "execution_count": 86,
   "id": "a242cc93-369e-4ca8-8cd4-6e08c336b88b",
   "metadata": {
    "tags": []
   },
   "outputs": [
    {
     "data": {
      "text/plain": [
       "3835"
      ]
     },
     "execution_count": 86,
     "metadata": {},
     "output_type": "execute_result"
    }
   ],
   "source": [
    "# Parsing/formatting ec's for our final list:\n",
    "split = uniprot_df['ec_uniprot'].str.split(';', expand=True).stack().reset_index(level=1, drop=True).to_frame('ec_uniprot').copy() #Split ec's with ';' into rows\n",
    "split['ec_uniprot'] = split['ec_uniprot'].str.strip() #Remove trailing empty spaces\n",
    "split.reset_index(drop=True, inplace=True) #Reset index\n",
    "parsed = split.drop_duplicates() #Remove duplicate ec's\n",
    "\n",
    "species2ec_list = parsed['ec_uniprot'].to_list()\n",
    "len(species2ec_list)"
   ]
  },
  {
   "cell_type": "markdown",
   "id": "e55b2b0b-5c13-4a55-9d9e-ec871955a50e",
   "metadata": {
    "tags": []
   },
   "source": [
    "### Formatting final taxa2ec table for machine learning"
   ]
  },
  {
   "cell_type": "markdown",
   "id": "5db41f0a-f9b1-4c31-9d91-9d3c3b455c86",
   "metadata": {},
   "source": [
    "**[1] Reformat outputs**"
   ]
  },
  {
   "cell_type": "code",
   "execution_count": 11,
   "id": "c09225cb-8d85-4b7a-8024-2b178850b840",
   "metadata": {
    "tags": []
   },
   "outputs": [
    {
     "data": {
      "text/html": [
       "<div>\n",
       "<style scoped>\n",
       "    .dataframe tbody tr th:only-of-type {\n",
       "        vertical-align: middle;\n",
       "    }\n",
       "\n",
       "    .dataframe tbody tr th {\n",
       "        vertical-align: top;\n",
       "    }\n",
       "\n",
       "    .dataframe thead th {\n",
       "        text-align: right;\n",
       "    }\n",
       "</style>\n",
       "<table border=\"1\" class=\"dataframe\">\n",
       "  <thead>\n",
       "    <tr style=\"text-align: right;\">\n",
       "      <th></th>\n",
       "      <th>species</th>\n",
       "      <th>ec_uniprot</th>\n",
       "    </tr>\n",
       "  </thead>\n",
       "  <tbody>\n",
       "    <tr>\n",
       "      <th>0</th>\n",
       "      <td>Staphylococcus haemolyticus</td>\n",
       "      <td>6.3.2.7</td>\n",
       "    </tr>\n",
       "    <tr>\n",
       "      <th>1</th>\n",
       "      <td>Staphylococcus haemolyticus</td>\n",
       "      <td>6.3.4.16, 6.3.5.5</td>\n",
       "    </tr>\n",
       "    <tr>\n",
       "      <th>2</th>\n",
       "      <td>Staphylococcus haemolyticus</td>\n",
       "      <td>6.3.4.2</td>\n",
       "    </tr>\n",
       "    <tr>\n",
       "      <th>3</th>\n",
       "      <td>Staphylococcus haemolyticus</td>\n",
       "      <td>4.4.1.13</td>\n",
       "    </tr>\n",
       "    <tr>\n",
       "      <th>4</th>\n",
       "      <td>Staphylococcus haemolyticus</td>\n",
       "      <td>2.3.1.157, 2.7.7.23</td>\n",
       "    </tr>\n",
       "  </tbody>\n",
       "</table>\n",
       "</div>"
      ],
      "text/plain": [
       "                       species           ec_uniprot\n",
       "0  Staphylococcus haemolyticus              6.3.2.7\n",
       "1  Staphylococcus haemolyticus    6.3.4.16, 6.3.5.5\n",
       "2  Staphylococcus haemolyticus              6.3.4.2\n",
       "3  Staphylococcus haemolyticus             4.4.1.13\n",
       "4  Staphylococcus haemolyticus  2.3.1.157, 2.7.7.23"
      ]
     },
     "execution_count": 11,
     "metadata": {},
     "output_type": "execute_result"
    }
   ],
   "source": [
    "uniprot_ec = uniprot_df.copy()\n",
    "uniprot_ec['species'] = uniprot_ec['species'].replace('\\+',' ', regex=True)\n",
    "uniprot_ec['ec_uniprot'] = uniprot_ec['ec_uniprot'].str.replace(\";\", \",\")\n",
    "uniprot_ec.head()"
   ]
  },
  {
   "cell_type": "code",
   "execution_count": 13,
   "id": "664a82d0-f837-4052-91e2-2b33a2053e8b",
   "metadata": {
    "tags": []
   },
   "outputs": [
    {
     "data": {
      "text/html": [
       "<div>\n",
       "<style scoped>\n",
       "    .dataframe tbody tr th:only-of-type {\n",
       "        vertical-align: middle;\n",
       "    }\n",
       "\n",
       "    .dataframe tbody tr th {\n",
       "        vertical-align: top;\n",
       "    }\n",
       "\n",
       "    .dataframe thead th {\n",
       "        text-align: right;\n",
       "    }\n",
       "</style>\n",
       "<table border=\"1\" class=\"dataframe\">\n",
       "  <thead>\n",
       "    <tr style=\"text-align: right;\">\n",
       "      <th></th>\n",
       "      <th>species</th>\n",
       "      <th>ec_uniprot</th>\n",
       "    </tr>\n",
       "  </thead>\n",
       "  <tbody>\n",
       "    <tr>\n",
       "      <th>0</th>\n",
       "      <td>Absidia glauca</td>\n",
       "      <td>[3.6.4.-, 3.6.4.-]</td>\n",
       "    </tr>\n",
       "    <tr>\n",
       "      <th>1</th>\n",
       "      <td>Acanthamoeba castellanii</td>\n",
       "      <td>[4.1.1.50, 7.1.1.9, 3.6.4.-, 7.1.1.2, 7.1.1.2,...</td>\n",
       "    </tr>\n",
       "    <tr>\n",
       "      <th>2</th>\n",
       "      <td>Acanthamoeba polyphaga</td>\n",
       "      <td>[2.7.4.6, 2.1.1.56, 2.7.7.50, 3.6.1.74, 1.14.1...</td>\n",
       "    </tr>\n",
       "    <tr>\n",
       "      <th>3</th>\n",
       "      <td>Acetivibrio thermocellus</td>\n",
       "      <td>[3.2.1.176, 3.2.1.4, 3.2.1.176, 3.2.1.55, 3.2....</td>\n",
       "    </tr>\n",
       "    <tr>\n",
       "      <th>4</th>\n",
       "      <td>Acetoanaerobium sticklandii</td>\n",
       "      <td>[5.4.3.5, 5.4.3.3, 1.21.4.2, 1.21.4.3, 1.21.4....</td>\n",
       "    </tr>\n",
       "    <tr>\n",
       "      <th>...</th>\n",
       "      <td>...</td>\n",
       "      <td>...</td>\n",
       "    </tr>\n",
       "    <tr>\n",
       "      <th>1721</th>\n",
       "      <td>Zygosaccharomyces bisporus</td>\n",
       "      <td>[3.1.-.-]</td>\n",
       "    </tr>\n",
       "    <tr>\n",
       "      <th>1722</th>\n",
       "      <td>Zygosaccharomyces rouxii</td>\n",
       "      <td>[1.1.1.25, 2.5.1.19, 2.7.1.71, 4.2.1.10, 4.2.3...</td>\n",
       "    </tr>\n",
       "    <tr>\n",
       "      <th>1723</th>\n",
       "      <td>Zygotorulaspora mrakii</td>\n",
       "      <td>[3.2.1.22]</td>\n",
       "    </tr>\n",
       "    <tr>\n",
       "      <th>1724</th>\n",
       "      <td>Zymomonas mobilis</td>\n",
       "      <td>[1.3.1.12, 1.3.1.43, 2.4.1.10, 2.4.2.29, 1.1.1...</td>\n",
       "    </tr>\n",
       "    <tr>\n",
       "      <th>1725</th>\n",
       "      <td>Zymomonas mobilis subsp. pomaceae</td>\n",
       "      <td>[5.3.1.24, 4.1.1.48]</td>\n",
       "    </tr>\n",
       "  </tbody>\n",
       "</table>\n",
       "<p>1726 rows × 2 columns</p>\n",
       "</div>"
      ],
      "text/plain": [
       "                                species  \\\n",
       "0                        Absidia glauca   \n",
       "1              Acanthamoeba castellanii   \n",
       "2                Acanthamoeba polyphaga   \n",
       "3              Acetivibrio thermocellus   \n",
       "4           Acetoanaerobium sticklandii   \n",
       "...                                 ...   \n",
       "1721         Zygosaccharomyces bisporus   \n",
       "1722           Zygosaccharomyces rouxii   \n",
       "1723             Zygotorulaspora mrakii   \n",
       "1724                  Zymomonas mobilis   \n",
       "1725  Zymomonas mobilis subsp. pomaceae   \n",
       "\n",
       "                                             ec_uniprot  \n",
       "0                                    [3.6.4.-, 3.6.4.-]  \n",
       "1     [4.1.1.50, 7.1.1.9, 3.6.4.-, 7.1.1.2, 7.1.1.2,...  \n",
       "2     [2.7.4.6, 2.1.1.56, 2.7.7.50, 3.6.1.74, 1.14.1...  \n",
       "3     [3.2.1.176, 3.2.1.4, 3.2.1.176, 3.2.1.55, 3.2....  \n",
       "4     [5.4.3.5, 5.4.3.3, 1.21.4.2, 1.21.4.3, 1.21.4....  \n",
       "...                                                 ...  \n",
       "1721                                          [3.1.-.-]  \n",
       "1722  [1.1.1.25, 2.5.1.19, 2.7.1.71, 4.2.1.10, 4.2.3...  \n",
       "1723                                         [3.2.1.22]  \n",
       "1724  [1.3.1.12, 1.3.1.43, 2.4.1.10, 2.4.2.29, 1.1.1...  \n",
       "1725                               [5.3.1.24, 4.1.1.48]  \n",
       "\n",
       "[1726 rows x 2 columns]"
      ]
     },
     "execution_count": 13,
     "metadata": {},
     "output_type": "execute_result"
    }
   ],
   "source": [
    "uniprot_ec = uniprot_ec.groupby(\"species\", as_index=False)[\"ec_uniprot\"].apply(lambda x: \"[%s]\" % ', '.join(x))\n",
    "uniprot_ec"
   ]
  },
  {
   "cell_type": "code",
   "execution_count": 15,
   "id": "9bbea856-c021-499e-8494-4529275ec1ac",
   "metadata": {
    "tags": []
   },
   "outputs": [
    {
     "data": {
      "text/html": [
       "<div>\n",
       "<style scoped>\n",
       "    .dataframe tbody tr th:only-of-type {\n",
       "        vertical-align: middle;\n",
       "    }\n",
       "\n",
       "    .dataframe tbody tr th {\n",
       "        vertical-align: top;\n",
       "    }\n",
       "\n",
       "    .dataframe thead th {\n",
       "        text-align: right;\n",
       "    }\n",
       "</style>\n",
       "<table border=\"1\" class=\"dataframe\">\n",
       "  <thead>\n",
       "    <tr style=\"text-align: right;\">\n",
       "      <th></th>\n",
       "      <th>bacdive_id</th>\n",
       "      <th>taxon_id</th>\n",
       "      <th>type_strain</th>\n",
       "      <th>ec_bacdive</th>\n",
       "    </tr>\n",
       "  </thead>\n",
       "  <tbody>\n",
       "    <tr>\n",
       "      <th>0</th>\n",
       "      <td>24370</td>\n",
       "      <td>294</td>\n",
       "      <td>no</td>\n",
       "      <td>[1.9.3.1, 3.2.1.21, 3.5.1.5, 3.5.3.6]</td>\n",
       "    </tr>\n",
       "    <tr>\n",
       "      <th>1</th>\n",
       "      <td>24368</td>\n",
       "      <td>306</td>\n",
       "      <td>no</td>\n",
       "      <td>[1.9.3.1, 3.2.1.21, 3.5.1.5, 3.5.3.6]</td>\n",
       "    </tr>\n",
       "    <tr>\n",
       "      <th>2</th>\n",
       "      <td>23995</td>\n",
       "      <td>61646</td>\n",
       "      <td>no</td>\n",
       "      <td>NaN</td>\n",
       "    </tr>\n",
       "    <tr>\n",
       "      <th>3</th>\n",
       "      <td>17621</td>\n",
       "      <td>346</td>\n",
       "      <td>yes</td>\n",
       "      <td>NaN</td>\n",
       "    </tr>\n",
       "    <tr>\n",
       "      <th>4</th>\n",
       "      <td>17596</td>\n",
       "      <td>339</td>\n",
       "      <td>no</td>\n",
       "      <td>[3.2.1.23, 1.1.1.1, 3.4.21.50, 1.11.1.6, 4.1.1...</td>\n",
       "    </tr>\n",
       "  </tbody>\n",
       "</table>\n",
       "</div>"
      ],
      "text/plain": [
       "   bacdive_id taxon_id type_strain  \\\n",
       "0       24370      294          no   \n",
       "1       24368      306          no   \n",
       "2       23995    61646          no   \n",
       "3       17621      346         yes   \n",
       "4       17596      339          no   \n",
       "\n",
       "                                          ec_bacdive  \n",
       "0              [1.9.3.1, 3.2.1.21, 3.5.1.5, 3.5.3.6]  \n",
       "1              [1.9.3.1, 3.2.1.21, 3.5.1.5, 3.5.3.6]  \n",
       "2                                                NaN  \n",
       "3                                                NaN  \n",
       "4  [3.2.1.23, 1.1.1.1, 3.4.21.50, 1.11.1.6, 4.1.1...  "
      ]
     },
     "execution_count": 15,
     "metadata": {},
     "output_type": "execute_result"
    }
   ],
   "source": [
    "bacdive_ec = bacdive_df[['bacdive_id','taxon_id','type_strain','ec']].copy()\n",
    "bacdive_ec['ec'] = bacdive_ec['ec'].str.replace(\"'\", \"\")\n",
    "bacdive_ec = bacdive_ec.rename(columns={'ec': 'ec_bacdive'})\n",
    "bacdive_ec.head()"
   ]
  },
  {
   "cell_type": "markdown",
   "id": "a6a48845-388d-4f3d-ba76-3e44029c4010",
   "metadata": {},
   "source": [
    "**[2] Subset the MediaDive master table and merge with outputs**"
   ]
  },
  {
   "cell_type": "code",
   "execution_count": 18,
   "id": "ddcefc0b-dfab-4960-9426-d2d808a8f08e",
   "metadata": {
    "tags": []
   },
   "outputs": [
    {
     "data": {
      "text/html": [
       "<div>\n",
       "<style scoped>\n",
       "    .dataframe tbody tr th:only-of-type {\n",
       "        vertical-align: middle;\n",
       "    }\n",
       "\n",
       "    .dataframe tbody tr th {\n",
       "        vertical-align: top;\n",
       "    }\n",
       "\n",
       "    .dataframe thead th {\n",
       "        text-align: right;\n",
       "    }\n",
       "</style>\n",
       "<table border=\"1\" class=\"dataframe\">\n",
       "  <thead>\n",
       "    <tr style=\"text-align: right;\">\n",
       "      <th></th>\n",
       "      <th>media_id</th>\n",
       "      <th>name</th>\n",
       "      <th>components</th>\n",
       "      <th>component_ids</th>\n",
       "      <th>species</th>\n",
       "      <th>bacdive_id</th>\n",
       "      <th>ec_uniprot</th>\n",
       "    </tr>\n",
       "  </thead>\n",
       "  <tbody>\n",
       "    <tr>\n",
       "      <th>0</th>\n",
       "      <td>1</td>\n",
       "      <td>NUTRIENT AGAR</td>\n",
       "      <td>NaN</td>\n",
       "      <td>NaN</td>\n",
       "      <td>NaN</td>\n",
       "      <td>NaN</td>\n",
       "      <td>NaN</td>\n",
       "    </tr>\n",
       "    <tr>\n",
       "      <th>1</th>\n",
       "      <td>1a</td>\n",
       "      <td>REACTIVATION WITH LIQUID MEDIUM 1</td>\n",
       "      <td>['Peptone', 'Meat extract', 'Agar', 'Distilled...</td>\n",
       "      <td>[1, 2, 3, 4]</td>\n",
       "      <td>Comamonas testosteroni</td>\n",
       "      <td>2912.0</td>\n",
       "      <td>[2.6.1.1, 4.1.1.12, 1.13.11.74, 1.13.11.76, 1....</td>\n",
       "    </tr>\n",
       "    <tr>\n",
       "      <th>2</th>\n",
       "      <td>1a</td>\n",
       "      <td>REACTIVATION WITH LIQUID MEDIUM 1</td>\n",
       "      <td>['Peptone', 'Meat extract', 'Agar', 'Distilled...</td>\n",
       "      <td>[1, 2, 3, 4]</td>\n",
       "      <td>Delftia acidovorans</td>\n",
       "      <td>2941.0</td>\n",
       "      <td>[1.14.11.43, 1.14.11.44, 3.1.1.75, 2.4.2.1, 2....</td>\n",
       "    </tr>\n",
       "    <tr>\n",
       "      <th>3</th>\n",
       "      <td>1a</td>\n",
       "      <td>REACTIVATION WITH LIQUID MEDIUM 1</td>\n",
       "      <td>['Peptone', 'Meat extract', 'Agar', 'Distilled...</td>\n",
       "      <td>[1, 2, 3, 4]</td>\n",
       "      <td>Acidovorax delafieldii</td>\n",
       "      <td>2885.0</td>\n",
       "      <td>[1.1.1.37]</td>\n",
       "    </tr>\n",
       "    <tr>\n",
       "      <th>4</th>\n",
       "      <td>1a</td>\n",
       "      <td>REACTIVATION WITH LIQUID MEDIUM 1</td>\n",
       "      <td>['Peptone', 'Meat extract', 'Agar', 'Distilled...</td>\n",
       "      <td>[1, 2, 3, 4]</td>\n",
       "      <td>Pseudomonas putida</td>\n",
       "      <td>12895.0</td>\n",
       "      <td>[5.1.1.10, 5.3.3.1, 1.18.1.3, 1.2.98.1, 1.18.1...</td>\n",
       "    </tr>\n",
       "  </tbody>\n",
       "</table>\n",
       "</div>"
      ],
      "text/plain": [
       "  media_id                               name  \\\n",
       "0        1                      NUTRIENT AGAR   \n",
       "1       1a  REACTIVATION WITH LIQUID MEDIUM 1   \n",
       "2       1a  REACTIVATION WITH LIQUID MEDIUM 1   \n",
       "3       1a  REACTIVATION WITH LIQUID MEDIUM 1   \n",
       "4       1a  REACTIVATION WITH LIQUID MEDIUM 1   \n",
       "\n",
       "                                          components component_ids  \\\n",
       "0                                                NaN           NaN   \n",
       "1  ['Peptone', 'Meat extract', 'Agar', 'Distilled...  [1, 2, 3, 4]   \n",
       "2  ['Peptone', 'Meat extract', 'Agar', 'Distilled...  [1, 2, 3, 4]   \n",
       "3  ['Peptone', 'Meat extract', 'Agar', 'Distilled...  [1, 2, 3, 4]   \n",
       "4  ['Peptone', 'Meat extract', 'Agar', 'Distilled...  [1, 2, 3, 4]   \n",
       "\n",
       "                  species  bacdive_id  \\\n",
       "0                     NaN         NaN   \n",
       "1  Comamonas testosteroni      2912.0   \n",
       "2     Delftia acidovorans      2941.0   \n",
       "3  Acidovorax delafieldii      2885.0   \n",
       "4      Pseudomonas putida     12895.0   \n",
       "\n",
       "                                          ec_uniprot  \n",
       "0                                                NaN  \n",
       "1  [2.6.1.1, 4.1.1.12, 1.13.11.74, 1.13.11.76, 1....  \n",
       "2  [1.14.11.43, 1.14.11.44, 3.1.1.75, 2.4.2.1, 2....  \n",
       "3                                         [1.1.1.37]  \n",
       "4  [5.1.1.10, 5.3.3.1, 1.18.1.3, 1.2.98.1, 1.18.1...  "
      ]
     },
     "execution_count": 18,
     "metadata": {},
     "output_type": "execute_result"
    }
   ],
   "source": [
    "media_df = md_df[['media_id','name','components','component_ids','species','bacdive_id']].copy()\n",
    "\n",
    "merged1 = pd.merge(left = media_df, right = uniprot_ec, on = 'species', how = 'left')\n",
    "merged1.head()"
   ]
  },
  {
   "cell_type": "code",
   "execution_count": 20,
   "id": "5f7de0ae-bcf3-43c3-9742-049a5fa69bb1",
   "metadata": {
    "tags": []
   },
   "outputs": [
    {
     "data": {
      "text/html": [
       "<div>\n",
       "<style scoped>\n",
       "    .dataframe tbody tr th:only-of-type {\n",
       "        vertical-align: middle;\n",
       "    }\n",
       "\n",
       "    .dataframe tbody tr th {\n",
       "        vertical-align: top;\n",
       "    }\n",
       "\n",
       "    .dataframe thead th {\n",
       "        text-align: right;\n",
       "    }\n",
       "</style>\n",
       "<table border=\"1\" class=\"dataframe\">\n",
       "  <thead>\n",
       "    <tr style=\"text-align: right;\">\n",
       "      <th></th>\n",
       "      <th>media_id</th>\n",
       "      <th>name</th>\n",
       "      <th>components</th>\n",
       "      <th>component_ids</th>\n",
       "      <th>species</th>\n",
       "      <th>bacdive_id</th>\n",
       "      <th>ec_uniprot</th>\n",
       "      <th>taxon_id</th>\n",
       "      <th>type_strain</th>\n",
       "      <th>ec_bacdive</th>\n",
       "    </tr>\n",
       "  </thead>\n",
       "  <tbody>\n",
       "    <tr>\n",
       "      <th>0</th>\n",
       "      <td>1</td>\n",
       "      <td>NUTRIENT AGAR</td>\n",
       "      <td>NaN</td>\n",
       "      <td>NaN</td>\n",
       "      <td>NaN</td>\n",
       "      <td>NaN</td>\n",
       "      <td>NaN</td>\n",
       "      <td>NaN</td>\n",
       "      <td>NaN</td>\n",
       "      <td>NaN</td>\n",
       "    </tr>\n",
       "    <tr>\n",
       "      <th>1</th>\n",
       "      <td>1a</td>\n",
       "      <td>REACTIVATION WITH LIQUID MEDIUM 1</td>\n",
       "      <td>['Peptone', 'Meat extract', 'Agar', 'Distilled...</td>\n",
       "      <td>[1, 2, 3, 4]</td>\n",
       "      <td>Comamonas testosteroni</td>\n",
       "      <td>2912.0</td>\n",
       "      <td>[2.6.1.1, 4.1.1.12, 1.13.11.74, 1.13.11.76, 1....</td>\n",
       "      <td>285</td>\n",
       "      <td>no</td>\n",
       "      <td>[1.9.3.1, 3.2.1.21, 3.5.1.5, 3.5.3.6]</td>\n",
       "    </tr>\n",
       "    <tr>\n",
       "      <th>2</th>\n",
       "      <td>1a</td>\n",
       "      <td>REACTIVATION WITH LIQUID MEDIUM 1</td>\n",
       "      <td>['Peptone', 'Meat extract', 'Agar', 'Distilled...</td>\n",
       "      <td>[1, 2, 3, 4]</td>\n",
       "      <td>Delftia acidovorans</td>\n",
       "      <td>2941.0</td>\n",
       "      <td>[1.14.11.43, 1.14.11.44, 3.1.1.75, 2.4.2.1, 2....</td>\n",
       "      <td>[{'NCBI tax id': 1218107, 'Matching level': 's...</td>\n",
       "      <td>yes</td>\n",
       "      <td>[1.9.3.1, 3.2.1.21, 3.5.1.5, 3.5.3.6]</td>\n",
       "    </tr>\n",
       "    <tr>\n",
       "      <th>3</th>\n",
       "      <td>1a</td>\n",
       "      <td>REACTIVATION WITH LIQUID MEDIUM 1</td>\n",
       "      <td>['Peptone', 'Meat extract', 'Agar', 'Distilled...</td>\n",
       "      <td>[1, 2, 3, 4]</td>\n",
       "      <td>Acidovorax delafieldii</td>\n",
       "      <td>2885.0</td>\n",
       "      <td>[1.1.1.37]</td>\n",
       "      <td>47920</td>\n",
       "      <td>yes</td>\n",
       "      <td>[3.2.1.51, 3.2.1.24, 3.2.1.52, 3.2.1.21, 3.2.1...</td>\n",
       "    </tr>\n",
       "    <tr>\n",
       "      <th>4</th>\n",
       "      <td>1a</td>\n",
       "      <td>REACTIVATION WITH LIQUID MEDIUM 1</td>\n",
       "      <td>['Peptone', 'Meat extract', 'Agar', 'Distilled...</td>\n",
       "      <td>[1, 2, 3, 4]</td>\n",
       "      <td>Pseudomonas putida</td>\n",
       "      <td>12895.0</td>\n",
       "      <td>[5.1.1.10, 5.3.3.1, 1.18.1.3, 1.2.98.1, 1.18.1...</td>\n",
       "      <td>303</td>\n",
       "      <td>no</td>\n",
       "      <td>[3.2.1.21, 3.5.1.5, 3.5.3.6]</td>\n",
       "    </tr>\n",
       "  </tbody>\n",
       "</table>\n",
       "</div>"
      ],
      "text/plain": [
       "  media_id                               name  \\\n",
       "0        1                      NUTRIENT AGAR   \n",
       "1       1a  REACTIVATION WITH LIQUID MEDIUM 1   \n",
       "2       1a  REACTIVATION WITH LIQUID MEDIUM 1   \n",
       "3       1a  REACTIVATION WITH LIQUID MEDIUM 1   \n",
       "4       1a  REACTIVATION WITH LIQUID MEDIUM 1   \n",
       "\n",
       "                                          components component_ids  \\\n",
       "0                                                NaN           NaN   \n",
       "1  ['Peptone', 'Meat extract', 'Agar', 'Distilled...  [1, 2, 3, 4]   \n",
       "2  ['Peptone', 'Meat extract', 'Agar', 'Distilled...  [1, 2, 3, 4]   \n",
       "3  ['Peptone', 'Meat extract', 'Agar', 'Distilled...  [1, 2, 3, 4]   \n",
       "4  ['Peptone', 'Meat extract', 'Agar', 'Distilled...  [1, 2, 3, 4]   \n",
       "\n",
       "                  species  bacdive_id  \\\n",
       "0                     NaN         NaN   \n",
       "1  Comamonas testosteroni      2912.0   \n",
       "2     Delftia acidovorans      2941.0   \n",
       "3  Acidovorax delafieldii      2885.0   \n",
       "4      Pseudomonas putida     12895.0   \n",
       "\n",
       "                                          ec_uniprot  \\\n",
       "0                                                NaN   \n",
       "1  [2.6.1.1, 4.1.1.12, 1.13.11.74, 1.13.11.76, 1....   \n",
       "2  [1.14.11.43, 1.14.11.44, 3.1.1.75, 2.4.2.1, 2....   \n",
       "3                                         [1.1.1.37]   \n",
       "4  [5.1.1.10, 5.3.3.1, 1.18.1.3, 1.2.98.1, 1.18.1...   \n",
       "\n",
       "                                            taxon_id type_strain  \\\n",
       "0                                                NaN         NaN   \n",
       "1                                                285          no   \n",
       "2  [{'NCBI tax id': 1218107, 'Matching level': 's...         yes   \n",
       "3                                              47920         yes   \n",
       "4                                                303          no   \n",
       "\n",
       "                                          ec_bacdive  \n",
       "0                                                NaN  \n",
       "1              [1.9.3.1, 3.2.1.21, 3.5.1.5, 3.5.3.6]  \n",
       "2              [1.9.3.1, 3.2.1.21, 3.5.1.5, 3.5.3.6]  \n",
       "3  [3.2.1.51, 3.2.1.24, 3.2.1.52, 3.2.1.21, 3.2.1...  \n",
       "4                       [3.2.1.21, 3.5.1.5, 3.5.3.6]  "
      ]
     },
     "execution_count": 20,
     "metadata": {},
     "output_type": "execute_result"
    }
   ],
   "source": [
    "merged2 = pd.merge(left = merged1, right = bacdive_ec, on = 'bacdive_id', how = 'left')\n",
    "merged2.head()"
   ]
  },
  {
   "cell_type": "markdown",
   "id": "c88a5529-32fe-4992-b100-87475c8d6ba9",
   "metadata": {},
   "source": [
    "**[3] Format for machine learning**"
   ]
  },
  {
   "cell_type": "code",
   "execution_count": 23,
   "id": "a212606c-1eac-415d-b814-8b48cbb6eef8",
   "metadata": {
    "tags": []
   },
   "outputs": [
    {
     "data": {
      "text/html": [
       "<div>\n",
       "<style scoped>\n",
       "    .dataframe tbody tr th:only-of-type {\n",
       "        vertical-align: middle;\n",
       "    }\n",
       "\n",
       "    .dataframe tbody tr th {\n",
       "        vertical-align: top;\n",
       "    }\n",
       "\n",
       "    .dataframe thead th {\n",
       "        text-align: right;\n",
       "    }\n",
       "</style>\n",
       "<table border=\"1\" class=\"dataframe\">\n",
       "  <thead>\n",
       "    <tr style=\"text-align: right;\">\n",
       "      <th></th>\n",
       "      <th>media_id</th>\n",
       "      <th>species</th>\n",
       "      <th>taxon_id</th>\n",
       "      <th>source</th>\n",
       "      <th>ec</th>\n",
       "    </tr>\n",
       "  </thead>\n",
       "  <tbody>\n",
       "    <tr>\n",
       "      <th>1</th>\n",
       "      <td>1a</td>\n",
       "      <td>Comamonas testosteroni</td>\n",
       "      <td>285</td>\n",
       "      <td>uniprot</td>\n",
       "      <td>2.6.1.1</td>\n",
       "    </tr>\n",
       "    <tr>\n",
       "      <th>1</th>\n",
       "      <td>1a</td>\n",
       "      <td>Comamonas testosteroni</td>\n",
       "      <td>285</td>\n",
       "      <td>uniprot</td>\n",
       "      <td>4.1.1.12</td>\n",
       "    </tr>\n",
       "    <tr>\n",
       "      <th>1</th>\n",
       "      <td>1a</td>\n",
       "      <td>Comamonas testosteroni</td>\n",
       "      <td>285</td>\n",
       "      <td>uniprot</td>\n",
       "      <td>1.13.11.74</td>\n",
       "    </tr>\n",
       "    <tr>\n",
       "      <th>1</th>\n",
       "      <td>1a</td>\n",
       "      <td>Comamonas testosteroni</td>\n",
       "      <td>285</td>\n",
       "      <td>uniprot</td>\n",
       "      <td>1.13.11.76</td>\n",
       "    </tr>\n",
       "    <tr>\n",
       "      <th>1</th>\n",
       "      <td>1a</td>\n",
       "      <td>Comamonas testosteroni</td>\n",
       "      <td>285</td>\n",
       "      <td>uniprot</td>\n",
       "      <td>1.14.13.23</td>\n",
       "    </tr>\n",
       "    <tr>\n",
       "      <th>...</th>\n",
       "      <td>...</td>\n",
       "      <td>...</td>\n",
       "      <td>...</td>\n",
       "      <td>...</td>\n",
       "      <td>...</td>\n",
       "    </tr>\n",
       "    <tr>\n",
       "      <th>60609</th>\n",
       "      <td>J1270</td>\n",
       "      <td>Neisseria meningitidis</td>\n",
       "      <td>487</td>\n",
       "      <td>bacdive</td>\n",
       "      <td>3.2.1.31</td>\n",
       "    </tr>\n",
       "    <tr>\n",
       "      <th>60609</th>\n",
       "      <td>J1270</td>\n",
       "      <td>Neisseria meningitidis</td>\n",
       "      <td>487</td>\n",
       "      <td>bacdive</td>\n",
       "      <td>3.2.1.20</td>\n",
       "    </tr>\n",
       "    <tr>\n",
       "      <th>60609</th>\n",
       "      <td>J1270</td>\n",
       "      <td>Neisseria meningitidis</td>\n",
       "      <td>487</td>\n",
       "      <td>bacdive</td>\n",
       "      <td>3.2.1.52</td>\n",
       "    </tr>\n",
       "    <tr>\n",
       "      <th>60609</th>\n",
       "      <td>J1270</td>\n",
       "      <td>Neisseria meningitidis</td>\n",
       "      <td>487</td>\n",
       "      <td>bacdive</td>\n",
       "      <td>3.2.1.24</td>\n",
       "    </tr>\n",
       "    <tr>\n",
       "      <th>60609</th>\n",
       "      <td>J1270</td>\n",
       "      <td>Neisseria meningitidis</td>\n",
       "      <td>487</td>\n",
       "      <td>bacdive</td>\n",
       "      <td>3.2.1.51</td>\n",
       "    </tr>\n",
       "  </tbody>\n",
       "</table>\n",
       "<p>1660781 rows × 5 columns</p>\n",
       "</div>"
      ],
      "text/plain": [
       "      media_id                 species taxon_id   source          ec\n",
       "1           1a  Comamonas testosteroni      285  uniprot     2.6.1.1\n",
       "1           1a  Comamonas testosteroni      285  uniprot    4.1.1.12\n",
       "1           1a  Comamonas testosteroni      285  uniprot  1.13.11.74\n",
       "1           1a  Comamonas testosteroni      285  uniprot  1.13.11.76\n",
       "1           1a  Comamonas testosteroni      285  uniprot  1.14.13.23\n",
       "...        ...                     ...      ...      ...         ...\n",
       "60609    J1270  Neisseria meningitidis      487  bacdive    3.2.1.31\n",
       "60609    J1270  Neisseria meningitidis      487  bacdive    3.2.1.20\n",
       "60609    J1270  Neisseria meningitidis      487  bacdive    3.2.1.52\n",
       "60609    J1270  Neisseria meningitidis      487  bacdive    3.2.1.24\n",
       "60609    J1270  Neisseria meningitidis      487  bacdive    3.2.1.51\n",
       "\n",
       "[1660781 rows x 5 columns]"
      ]
     },
     "execution_count": 23,
     "metadata": {},
     "output_type": "execute_result"
    }
   ],
   "source": [
    "final_df = merged2[[\"media_id\", \"species\", \"taxon_id\", \"ec_uniprot\", \"ec_bacdive\"]].copy()\n",
    "\n",
    "# Melt ec columns and attribute ec source\n",
    "final_df = final_df.melt(\n",
    "    id_vars=[\"media_id\", \"species\", \"taxon_id\"],\n",
    "    value_vars=[\"ec_uniprot\", \"ec_bacdive\"],\n",
    "    value_name=\"ec\",\n",
    "    var_name=\"source\"\n",
    ")\n",
    "\n",
    "# Format source and ec columns\n",
    "final_df[\"source\"] = final_df[\"source\"].str.replace(\"ec_\", \"\")\n",
    "final_df['ec'] = final_df['ec'].astype(str).copy()\n",
    "final_df[\"ec\"] = final_df[\"ec\"].str.replace(\"[\", \"\").str.replace(\"]\", \"\")\n",
    "final_df['ec'] = final_df['ec'].str.split(', ')\n",
    "final_df = final_df.explode('ec')\n",
    "\n",
    "# Remove rows with nan 'ec' values\n",
    "final_df = final_df.copy()\n",
    "substring = 'nan'\n",
    "filter = final_df['ec'].str.contains(substring) # create filter\n",
    "final_df = final_df[~filter]\n",
    "\n",
    "#final_df.to_csv(os.path.join(DATA_DIR, \"taxa2ec-final.csv\"), index=False)\n",
    "\n",
    "final_df"
   ]
  },
  {
   "cell_type": "markdown",
   "id": "be16f3ae-ffbe-43c4-95c3-b844378c990c",
   "metadata": {},
   "source": [
    "**To-do:**\n",
    "\n",
    "1) Add the bacdive -> taxon ID -> uniprot into the loop\n",
    "\n",
    "2) Compare abundance of different ec classes (see other notebooks)\n",
    "\n",
    "3) Add KEGG (media2ec, attempt taxa2ec)?"
   ]
  },
  {
   "cell_type": "markdown",
   "id": "80c2276d-c2ff-4861-8a58-b76b76ebeae0",
   "metadata": {},
   "source": [
    "### KEGG media2ec (KEGG cpd)"
   ]
  },
  {
   "cell_type": "markdown",
   "id": "57bb5900-e897-41f8-9c2b-83f6063a0963",
   "metadata": {
    "tags": []
   },
   "source": [
    "**[1] Copy relevant columns from the md_df MediaDive table** (skip to [3] after first time)"
   ]
  },
  {
   "cell_type": "code",
   "execution_count": 14,
   "id": "86ab954a-ec32-44e7-b2ec-c1ab3c73320e",
   "metadata": {
    "tags": []
   },
   "outputs": [
    {
     "data": {
      "text/html": [
       "<div>\n",
       "<style scoped>\n",
       "    .dataframe tbody tr th:only-of-type {\n",
       "        vertical-align: middle;\n",
       "    }\n",
       "\n",
       "    .dataframe tbody tr th {\n",
       "        vertical-align: top;\n",
       "    }\n",
       "\n",
       "    .dataframe thead th {\n",
       "        text-align: right;\n",
       "    }\n",
       "</style>\n",
       "<table border=\"1\" class=\"dataframe\">\n",
       "  <thead>\n",
       "    <tr style=\"text-align: right;\">\n",
       "      <th></th>\n",
       "      <th>media_id</th>\n",
       "      <th>name</th>\n",
       "      <th>source</th>\n",
       "      <th>components</th>\n",
       "      <th>component_ids</th>\n",
       "    </tr>\n",
       "  </thead>\n",
       "  <tbody>\n",
       "    <tr>\n",
       "      <th>1</th>\n",
       "      <td>1a</td>\n",
       "      <td>REACTIVATION WITH LIQUID MEDIUM 1</td>\n",
       "      <td>DSMZ</td>\n",
       "      <td>['Peptone', 'Meat extract', 'Agar', 'Distilled...</td>\n",
       "      <td>[1, 2, 3, 4]</td>\n",
       "    </tr>\n",
       "    <tr>\n",
       "      <th>216</th>\n",
       "      <td>9a</td>\n",
       "      <td>VY/2, REDUCED MEDIUM</td>\n",
       "      <td>DSMZ</td>\n",
       "      <td>[\"Baker's yeast\", 'CaCl2 x 2 H2O', 'Vitamin B1...</td>\n",
       "      <td>[17, 7, 18, 3, 4]</td>\n",
       "    </tr>\n",
       "    <tr>\n",
       "      <th>222</th>\n",
       "      <td>11a</td>\n",
       "      <td>MODIFIED MEDIUM 11</td>\n",
       "      <td>DSMZ</td>\n",
       "      <td>['Main sol. 11', 'Vitamin solution', 'Casein p...</td>\n",
       "      <td>[12, 5629, 21, 2, 16, 5, 22, 10, 23, 24, 8, 14...</td>\n",
       "    </tr>\n",
       "    <tr>\n",
       "      <th>223</th>\n",
       "      <td>11b</td>\n",
       "      <td>MRS MEDIUM (pre-reduced)</td>\n",
       "      <td>DSMZ</td>\n",
       "      <td>['Casein peptone', 'Meat extract', 'Yeast extr...</td>\n",
       "      <td>[21, 2, 16, 5, 22, 25, 10, 23, 24, 8, 14, 4, 770]</td>\n",
       "    </tr>\n",
       "    <tr>\n",
       "      <th>259</th>\n",
       "      <td>28a</td>\n",
       "      <td>THIORHODOCOCCUS MEDIUM</td>\n",
       "      <td>DSMZ</td>\n",
       "      <td>['Main sol. 28', 'NaCl', 'MgCl2 x 6 H2O', 'Sod...</td>\n",
       "      <td>[26, 43, 79, 1126, 27, 30, 29, 31, 28, 32, 34,...</td>\n",
       "    </tr>\n",
       "    <tr>\n",
       "      <th>...</th>\n",
       "      <td>...</td>\n",
       "      <td>...</td>\n",
       "      <td>...</td>\n",
       "      <td>...</td>\n",
       "      <td>...</td>\n",
       "    </tr>\n",
       "    <tr>\n",
       "      <th>31892</th>\n",
       "      <td>P5</td>\n",
       "      <td>RS Medium - Nutrient Medium (NM) Component</td>\n",
       "      <td>public</td>\n",
       "      <td>[]</td>\n",
       "      <td>[]</td>\n",
       "    </tr>\n",
       "    <tr>\n",
       "      <th>31893</th>\n",
       "      <td>P6</td>\n",
       "      <td>mTA10</td>\n",
       "      <td>public</td>\n",
       "      <td>[]</td>\n",
       "      <td>[]</td>\n",
       "    </tr>\n",
       "    <tr>\n",
       "      <th>31894</th>\n",
       "      <td>P7</td>\n",
       "      <td>N27 RHODOSPIRILLACEAE MEDIUM (modified)</td>\n",
       "      <td>public</td>\n",
       "      <td>[]</td>\n",
       "      <td>[]</td>\n",
       "    </tr>\n",
       "    <tr>\n",
       "      <th>31895</th>\n",
       "      <td>P8</td>\n",
       "      <td>M9-SNG medium</td>\n",
       "      <td>public</td>\n",
       "      <td>[]</td>\n",
       "      <td>[]</td>\n",
       "    </tr>\n",
       "    <tr>\n",
       "      <th>31896</th>\n",
       "      <td>P9</td>\n",
       "      <td>PDB-SNG medium</td>\n",
       "      <td>public</td>\n",
       "      <td>[]</td>\n",
       "      <td>[]</td>\n",
       "    </tr>\n",
       "  </tbody>\n",
       "</table>\n",
       "<p>1692 rows × 5 columns</p>\n",
       "</div>"
      ],
      "text/plain": [
       "      media_id                                        name  source  \\\n",
       "1           1a           REACTIVATION WITH LIQUID MEDIUM 1    DSMZ   \n",
       "216         9a                        VY/2, REDUCED MEDIUM    DSMZ   \n",
       "222        11a                          MODIFIED MEDIUM 11    DSMZ   \n",
       "223        11b                    MRS MEDIUM (pre-reduced)    DSMZ   \n",
       "259        28a                      THIORHODOCOCCUS MEDIUM    DSMZ   \n",
       "...        ...                                         ...     ...   \n",
       "31892       P5  RS Medium - Nutrient Medium (NM) Component  public   \n",
       "31893       P6                                       mTA10  public   \n",
       "31894       P7     N27 RHODOSPIRILLACEAE MEDIUM (modified)  public   \n",
       "31895       P8                               M9-SNG medium  public   \n",
       "31896       P9                              PDB-SNG medium  public   \n",
       "\n",
       "                                              components  \\\n",
       "1      ['Peptone', 'Meat extract', 'Agar', 'Distilled...   \n",
       "216    [\"Baker's yeast\", 'CaCl2 x 2 H2O', 'Vitamin B1...   \n",
       "222    ['Main sol. 11', 'Vitamin solution', 'Casein p...   \n",
       "223    ['Casein peptone', 'Meat extract', 'Yeast extr...   \n",
       "259    ['Main sol. 28', 'NaCl', 'MgCl2 x 6 H2O', 'Sod...   \n",
       "...                                                  ...   \n",
       "31892                                                 []   \n",
       "31893                                                 []   \n",
       "31894                                                 []   \n",
       "31895                                                 []   \n",
       "31896                                                 []   \n",
       "\n",
       "                                           component_ids  \n",
       "1                                           [1, 2, 3, 4]  \n",
       "216                                    [17, 7, 18, 3, 4]  \n",
       "222    [12, 5629, 21, 2, 16, 5, 22, 10, 23, 24, 8, 14...  \n",
       "223    [21, 2, 16, 5, 22, 25, 10, 23, 24, 8, 14, 4, 770]  \n",
       "259    [26, 43, 79, 1126, 27, 30, 29, 31, 28, 32, 34,...  \n",
       "...                                                  ...  \n",
       "31892                                                 []  \n",
       "31893                                                 []  \n",
       "31894                                                 []  \n",
       "31895                                                 []  \n",
       "31896                                                 []  \n",
       "\n",
       "[1692 rows x 5 columns]"
      ]
     },
     "execution_count": 14,
     "metadata": {},
     "output_type": "execute_result"
    }
   ],
   "source": [
    "#Use same MediaDive table as above, focusing on columns with media and component information\n",
    "md_df = pd.read_csv(os.path.join(DATA_DIR,\"mediadive\",\"mediadive-all.csv\"), sep = ';')\n",
    "\n",
    "comps_df = md_df[['media_id','name','source','components','component_ids']].copy()\n",
    "comps_df['media_id'] = comps_df['media_id'].drop_duplicates()\n",
    "comps_df = comps_df.dropna()\n",
    "\n",
    "comps_df.head()"
   ]
  },
  {
   "cell_type": "markdown",
   "id": "eeb31db6-2d56-4e16-8cad-89127bf6009d",
   "metadata": {},
   "source": [
    "**[2] Retrieve ChEBI and KEGG id's for compounds**"
   ]
  },
  {
   "cell_type": "code",
   "execution_count": null,
   "id": "4e19269e-29f3-48d7-a8c1-afcac2a5689b",
   "metadata": {},
   "outputs": [],
   "source": [
    "import modules.mediadive as md\n",
    "\n",
    "# Extract the component_ids into a list\n",
    "comps_df['component_ids'] = comps_df['component_ids'].astype(str).copy()\n",
    "\n",
    "def extract_ids(comps_df, component_ids):\n",
    "    id_set = set()  # Use a set to avoid duplicate IDs\n",
    "    for ids in comps_df['component_ids']:\n",
    "        id_list = eval(ids)  # Convert the string representation of the list to an actual list\n",
    "        id_set.update(id_list)\n",
    "    return list(id_set)\n",
    "\n",
    "# Extract IDs\n",
    "id_list = extract_ids(comps_df, 'ids')\n",
    "\n",
    "# Run functions to retrieve compound id's from component id's (MediaDive)\n",
    "compound_df = md.get_compounds(id_list)\n",
    "compound_df.head()"
   ]
  },
  {
   "cell_type": "markdown",
   "id": "89bcea1d-2f34-4809-9fe1-e4e5bacde1be",
   "metadata": {},
   "source": [
    "**[3] Final compound dataframe**"
   ]
  },
  {
   "cell_type": "code",
   "execution_count": 20,
   "id": "a4318038-e74a-4a9c-a440-354c7fb02361",
   "metadata": {
    "tags": []
   },
   "outputs": [
    {
     "data": {
      "text/html": [
       "<div>\n",
       "<style scoped>\n",
       "    .dataframe tbody tr th:only-of-type {\n",
       "        vertical-align: middle;\n",
       "    }\n",
       "\n",
       "    .dataframe tbody tr th {\n",
       "        vertical-align: top;\n",
       "    }\n",
       "\n",
       "    .dataframe thead th {\n",
       "        text-align: right;\n",
       "    }\n",
       "</style>\n",
       "<table border=\"1\" class=\"dataframe\">\n",
       "  <thead>\n",
       "    <tr style=\"text-align: right;\">\n",
       "      <th></th>\n",
       "      <th>component_id</th>\n",
       "      <th>ChEBI</th>\n",
       "      <th>KEGG cpd</th>\n",
       "    </tr>\n",
       "  </thead>\n",
       "  <tbody>\n",
       "    <tr>\n",
       "      <th>0</th>\n",
       "      <td>1</td>\n",
       "      <td>NaN</td>\n",
       "      <td>NaN</td>\n",
       "    </tr>\n",
       "    <tr>\n",
       "      <th>1</th>\n",
       "      <td>2</td>\n",
       "      <td>NaN</td>\n",
       "      <td>NaN</td>\n",
       "    </tr>\n",
       "    <tr>\n",
       "      <th>2</th>\n",
       "      <td>3</td>\n",
       "      <td>2509.0</td>\n",
       "      <td>C08815</td>\n",
       "    </tr>\n",
       "    <tr>\n",
       "      <th>3</th>\n",
       "      <td>4</td>\n",
       "      <td>15377.0</td>\n",
       "      <td>C00001</td>\n",
       "    </tr>\n",
       "    <tr>\n",
       "      <th>4</th>\n",
       "      <td>5</td>\n",
       "      <td>17234.0</td>\n",
       "      <td>C00293</td>\n",
       "    </tr>\n",
       "  </tbody>\n",
       "</table>\n",
       "</div>"
      ],
      "text/plain": [
       "   component_id    ChEBI KEGG cpd\n",
       "0             1      NaN      NaN\n",
       "1             2      NaN      NaN\n",
       "2             3   2509.0   C08815\n",
       "3             4  15377.0   C00001\n",
       "4             5  17234.0   C00293"
      ]
     },
     "execution_count": 20,
     "metadata": {},
     "output_type": "execute_result"
    }
   ],
   "source": [
    "compound_df = pd.read_csv('~/Desktop/code/data/mediadive/all-compounds.csv')\n",
    "compound_df.head()"
   ]
  },
  {
   "cell_type": "markdown",
   "id": "dc94a8a9-c8ef-4a50-b8bd-db2c6601aa88",
   "metadata": {},
   "source": [
    "**[4] Retrieval of EC numbers from KEGG compounds**"
   ]
  },
  {
   "cell_type": "code",
   "execution_count": 11,
   "id": "86c34b54-e6cc-4dfe-b57a-4eb1668bb7d4",
   "metadata": {
    "tags": []
   },
   "outputs": [],
   "source": [
    "# Making 'cpd_list' using the KEGG compound IDs\n",
    "cpd_df = compound_df['KEGG cpd'].dropna().copy()\n",
    "cpd_list = cpd_df.to_list()"
   ]
  },
  {
   "cell_type": "code",
   "execution_count": 13,
   "id": "30e6c8e0-0722-44c3-b8a2-f0f21f203011",
   "metadata": {
    "tags": []
   },
   "outputs": [
    {
     "name": "stdout",
     "output_type": "stream",
     "text": [
      "HTTP error occurred for C00293: 404 Client Error: Not Found for url: https://rest.kegg.jp/get/compound:C00293\n",
      "HTTP error occurred for C00382: 404 Client Error: Not Found for url: https://rest.kegg.jp/get/compound:C00382\n"
     ]
    },
    {
     "data": {
      "text/html": [
       "<div>\n",
       "<style scoped>\n",
       "    .dataframe tbody tr th:only-of-type {\n",
       "        vertical-align: middle;\n",
       "    }\n",
       "\n",
       "    .dataframe tbody tr th {\n",
       "        vertical-align: top;\n",
       "    }\n",
       "\n",
       "    .dataframe thead th {\n",
       "        text-align: right;\n",
       "    }\n",
       "</style>\n",
       "<table border=\"1\" class=\"dataframe\">\n",
       "  <thead>\n",
       "    <tr style=\"text-align: right;\">\n",
       "      <th></th>\n",
       "      <th>Entry</th>\n",
       "      <th>Enzyme</th>\n",
       "    </tr>\n",
       "  </thead>\n",
       "  <tbody>\n",
       "    <tr>\n",
       "      <th>0</th>\n",
       "      <td>C08815</td>\n",
       "      <td>None</td>\n",
       "    </tr>\n",
       "    <tr>\n",
       "      <th>1</th>\n",
       "      <td>C00001</td>\n",
       "      <td>1.1.1.1         1.1.1.22        1.1.1.23      ...</td>\n",
       "    </tr>\n",
       "    <tr>\n",
       "      <th>2</th>\n",
       "      <td>C12505</td>\n",
       "      <td>None</td>\n",
       "    </tr>\n",
       "    <tr>\n",
       "      <th>3</th>\n",
       "      <td>C13197</td>\n",
       "      <td>None</td>\n",
       "    </tr>\n",
       "    <tr>\n",
       "      <th>4</th>\n",
       "      <td>C08129</td>\n",
       "      <td>None</td>\n",
       "    </tr>\n",
       "    <tr>\n",
       "      <th>...</th>\n",
       "      <td>...</td>\n",
       "      <td>...</td>\n",
       "    </tr>\n",
       "    <tr>\n",
       "      <th>202</th>\n",
       "      <td>C00220</td>\n",
       "      <td>None</td>\n",
       "    </tr>\n",
       "    <tr>\n",
       "      <th>203</th>\n",
       "      <td>C14711</td>\n",
       "      <td>None</td>\n",
       "    </tr>\n",
       "    <tr>\n",
       "      <th>204</th>\n",
       "      <td>C00379</td>\n",
       "      <td>1.1.1.9         1.1.1.10        1.1.1.14      ...</td>\n",
       "    </tr>\n",
       "    <tr>\n",
       "      <th>205</th>\n",
       "      <td>C06573</td>\n",
       "      <td>None</td>\n",
       "    </tr>\n",
       "    <tr>\n",
       "      <th>206</th>\n",
       "      <td>C00245</td>\n",
       "      <td>1.4.2.-         1.4.99.2        1.5.1.23      ...</td>\n",
       "    </tr>\n",
       "  </tbody>\n",
       "</table>\n",
       "<p>207 rows × 2 columns</p>\n",
       "</div>"
      ],
      "text/plain": [
       "      Entry                                             Enzyme\n",
       "0    C08815                                               None\n",
       "1    C00001  1.1.1.1         1.1.1.22        1.1.1.23      ...\n",
       "2    C12505                                               None\n",
       "3    C13197                                               None\n",
       "4    C08129                                               None\n",
       "..      ...                                                ...\n",
       "202  C00220                                               None\n",
       "203  C14711                                               None\n",
       "204  C00379  1.1.1.9         1.1.1.10        1.1.1.14      ...\n",
       "205  C06573                                               None\n",
       "206  C00245  1.4.2.-         1.4.99.2        1.5.1.23      ...\n",
       "\n",
       "[207 rows x 2 columns]"
      ]
     },
     "execution_count": 13,
     "metadata": {},
     "output_type": "execute_result"
    }
   ],
   "source": [
    "import modules.kegg as kegg\n",
    "cpd2ec_df = kegg.compound2ec(cpd_list)\n",
    "cpd2ec_df"
   ]
  },
  {
   "cell_type": "markdown",
   "id": "a36c1582-cbf2-434b-bdfd-c02a7e11bb6c",
   "metadata": {},
   "source": [
    "### Formatting final media2ec table for machine learning"
   ]
  },
  {
   "cell_type": "markdown",
   "id": "d6385ed0-897f-4eb8-a136-ff22fc0aee41",
   "metadata": {},
   "source": [
    "**[1] Load and format dataframes**"
   ]
  },
  {
   "cell_type": "code",
   "execution_count": 35,
   "id": "37666985-cc63-4cb3-89b2-27cbfcf9477c",
   "metadata": {
    "tags": []
   },
   "outputs": [],
   "source": [
    "import pandas as pd\n",
    "import os\n",
    "DATA_DIR = ('~/Desktop/code/data')\n",
    "\n",
    "# Load and format md_df (MediaDive master table)\n",
    "md_df = pd.read_csv(os.path.join(DATA_DIR,\"mediadive\",\"mediadive-all.csv\"), sep = ';')\n",
    "# Explode rows by component_ids\n",
    "component_df = md_df.copy()\n",
    "component_df['component_ids'] = md_df['component_ids'].str.strip('[]')\n",
    "component_df['component_ids'] = component_df['component_ids'].str.split(', ').explode('component_ids')\n",
    "component_df = component_df.rename(columns={'component_ids': 'component_id'})\n",
    "\n",
    "# Load and format compound_df (component id to ChEBI, KEGG cpd)\n",
    "compound_df = pd.read_csv(os.path.join(DATA_DIR,\"mediadive\",\"all-compounds.csv\"))\n",
    "compound_df['component_id'] = compound_df['component_id'].astype(str)\n",
    "\n",
    "# Load and format kegg_comp (KEGG cpd's and ec numbers)\n",
    "kegg_comp = pd.read_csv(os.path.join(DATA_DIR,\"kegg\",\"kegg-compound-ec.csv\"))\n",
    "kegg_comp = kegg_comp.rename(columns={'Entry': 'KEGG cpd'})\n",
    "\n",
    "# Load and format taxon_id's from bacdive dataframe\n",
    "taxon_df = pd.read_csv(os.path.join(DATA_DIR,\"bacdive\",\"bacdive-all.csv\"), low_memory=False)\n",
    "taxon_df = taxon_df[['bacdive_id','taxon_id']]"
   ]
  },
  {
   "cell_type": "markdown",
   "id": "1ae12b07-0662-455a-afbc-638889877864",
   "metadata": {},
   "source": [
    "**[2] Merge and format**"
   ]
  },
  {
   "cell_type": "code",
   "execution_count": 37,
   "id": "be215f20-28d0-4530-8840-67a8a0735428",
   "metadata": {
    "tags": []
   },
   "outputs": [
    {
     "data": {
      "text/html": [
       "<div>\n",
       "<style scoped>\n",
       "    .dataframe tbody tr th:only-of-type {\n",
       "        vertical-align: middle;\n",
       "    }\n",
       "\n",
       "    .dataframe tbody tr th {\n",
       "        vertical-align: top;\n",
       "    }\n",
       "\n",
       "    .dataframe thead th {\n",
       "        text-align: right;\n",
       "    }\n",
       "</style>\n",
       "<table border=\"1\" class=\"dataframe\">\n",
       "  <thead>\n",
       "    <tr style=\"text-align: right;\">\n",
       "      <th></th>\n",
       "      <th>media_id</th>\n",
       "      <th>taxon_id</th>\n",
       "      <th>component_id</th>\n",
       "      <th>KEGG cpd</th>\n",
       "      <th>Enzyme</th>\n",
       "    </tr>\n",
       "  </thead>\n",
       "  <tbody>\n",
       "    <tr>\n",
       "      <th>0</th>\n",
       "      <td>1a</td>\n",
       "      <td>303</td>\n",
       "      <td>4</td>\n",
       "      <td>C00001</td>\n",
       "      <td>1.1.1.1         1.1.1.22        1.1.1.23      ...</td>\n",
       "    </tr>\n",
       "    <tr>\n",
       "      <th>1</th>\n",
       "      <td>1a</td>\n",
       "      <td>303</td>\n",
       "      <td>4</td>\n",
       "      <td>C00001</td>\n",
       "      <td>1.1.1.1         1.1.1.22        1.1.1.23      ...</td>\n",
       "    </tr>\n",
       "    <tr>\n",
       "      <th>2</th>\n",
       "      <td>1a</td>\n",
       "      <td>303</td>\n",
       "      <td>4</td>\n",
       "      <td>C00001</td>\n",
       "      <td>1.1.1.1         1.1.1.22        1.1.1.23      ...</td>\n",
       "    </tr>\n",
       "    <tr>\n",
       "      <th>3</th>\n",
       "      <td>1a</td>\n",
       "      <td>303</td>\n",
       "      <td>4</td>\n",
       "      <td>C00001</td>\n",
       "      <td>1.1.1.1         1.1.1.22        1.1.1.23      ...</td>\n",
       "    </tr>\n",
       "    <tr>\n",
       "      <th>4</th>\n",
       "      <td>1a</td>\n",
       "      <td>303</td>\n",
       "      <td>4</td>\n",
       "      <td>C00001</td>\n",
       "      <td>1.1.1.1         1.1.1.22        1.1.1.23      ...</td>\n",
       "    </tr>\n",
       "    <tr>\n",
       "      <th>...</th>\n",
       "      <td>...</td>\n",
       "      <td>...</td>\n",
       "      <td>...</td>\n",
       "      <td>...</td>\n",
       "      <td>...</td>\n",
       "    </tr>\n",
       "    <tr>\n",
       "      <th>27133</th>\n",
       "      <td>NaN</td>\n",
       "      <td>2606708</td>\n",
       "      <td>NaN</td>\n",
       "      <td>NaN</td>\n",
       "      <td>NaN</td>\n",
       "    </tr>\n",
       "    <tr>\n",
       "      <th>27134</th>\n",
       "      <td>NaN</td>\n",
       "      <td>1541063</td>\n",
       "      <td>NaN</td>\n",
       "      <td>NaN</td>\n",
       "      <td>NaN</td>\n",
       "    </tr>\n",
       "    <tr>\n",
       "      <th>27135</th>\n",
       "      <td>NaN</td>\n",
       "      <td>727</td>\n",
       "      <td>NaN</td>\n",
       "      <td>NaN</td>\n",
       "      <td>NaN</td>\n",
       "    </tr>\n",
       "    <tr>\n",
       "      <th>27136</th>\n",
       "      <td>NaN</td>\n",
       "      <td>487</td>\n",
       "      <td>NaN</td>\n",
       "      <td>NaN</td>\n",
       "      <td>NaN</td>\n",
       "    </tr>\n",
       "    <tr>\n",
       "      <th>27137</th>\n",
       "      <td>NaN</td>\n",
       "      <td>90729</td>\n",
       "      <td>NaN</td>\n",
       "      <td>NaN</td>\n",
       "      <td>NaN</td>\n",
       "    </tr>\n",
       "  </tbody>\n",
       "</table>\n",
       "<p>27138 rows × 5 columns</p>\n",
       "</div>"
      ],
      "text/plain": [
       "      media_id taxon_id component_id KEGG cpd  \\\n",
       "0           1a      303            4   C00001   \n",
       "1           1a      303            4   C00001   \n",
       "2           1a      303            4   C00001   \n",
       "3           1a      303            4   C00001   \n",
       "4           1a      303            4   C00001   \n",
       "...        ...      ...          ...      ...   \n",
       "27133      NaN  2606708          NaN      NaN   \n",
       "27134      NaN  1541063          NaN      NaN   \n",
       "27135      NaN      727          NaN      NaN   \n",
       "27136      NaN      487          NaN      NaN   \n",
       "27137      NaN    90729          NaN      NaN   \n",
       "\n",
       "                                                  Enzyme  \n",
       "0      1.1.1.1         1.1.1.22        1.1.1.23      ...  \n",
       "1      1.1.1.1         1.1.1.22        1.1.1.23      ...  \n",
       "2      1.1.1.1         1.1.1.22        1.1.1.23      ...  \n",
       "3      1.1.1.1         1.1.1.22        1.1.1.23      ...  \n",
       "4      1.1.1.1         1.1.1.22        1.1.1.23      ...  \n",
       "...                                                  ...  \n",
       "27133                                                NaN  \n",
       "27134                                                NaN  \n",
       "27135                                                NaN  \n",
       "27136                                                NaN  \n",
       "27137                                                NaN  \n",
       "\n",
       "[27138 rows x 5 columns]"
      ]
     },
     "execution_count": 37,
     "metadata": {},
     "output_type": "execute_result"
    }
   ],
   "source": [
    "# Merge dataframe with component_id and compounds (KEGG), remove NaN 'KEGG cpd' values\n",
    "comp_comp = pd.merge(left=component_df, right=compound_df, on='component_id', how='outer')\n",
    "comp_comp = comp_comp.loc[comp_comp['KEGG cpd'].notnull()].copy()\n",
    "\n",
    "# Merge dataframe with KEGG cpd's and ec numbers, remove NaN 'Enzyme' values\n",
    "kegg2ec = pd.merge(left=comp_comp, right=kegg_comp, on='KEGG cpd', how='outer')\n",
    "kegg2ec = kegg2ec.loc[kegg2ec['Enzyme'].notnull()].copy()\n",
    "#kegg2ec.to_csv('~/Desktop/code/data/kegg/kegg-final.csv')\n",
    "#NOTE: not all 'component id's' have an associated 'KEGG compound', and not all 'KEGG compound's' have an associated 'Enzyme'...this means our final table has a loss of data from our original input\n",
    "    #Can try to remedy the data loss by splitting complex media components into their simpler forms\n",
    "    \n",
    "# Merge taxon_id's to kegg2ec table\n",
    "media_final = pd.merge(left=kegg2ec, right=taxon_df, on='bacdive_id', how='outer')\n",
    "# Format for use in machine learning models\n",
    "media_final = media_final[['media_id','taxon_id','component_id','KEGG cpd','Enzyme']]\n",
    "media_final.head()\n",
    "    #Two different model inputs: one with component id's, one with enzymes"
   ]
  },
  {
   "cell_type": "code",
   "execution_count": 79,
   "id": "38de96a6-f48b-4dd1-a31c-8f109f0fb70b",
   "metadata": {
    "tags": []
   },
   "outputs": [
    {
     "data": {
      "text/html": [
       "<div>\n",
       "<style scoped>\n",
       "    .dataframe tbody tr th:only-of-type {\n",
       "        vertical-align: middle;\n",
       "    }\n",
       "\n",
       "    .dataframe tbody tr th {\n",
       "        vertical-align: top;\n",
       "    }\n",
       "\n",
       "    .dataframe thead th {\n",
       "        text-align: right;\n",
       "    }\n",
       "</style>\n",
       "<table border=\"1\" class=\"dataframe\">\n",
       "  <thead>\n",
       "    <tr style=\"text-align: right;\">\n",
       "      <th></th>\n",
       "      <th>media_id</th>\n",
       "      <th>taxon_id</th>\n",
       "      <th>component_id</th>\n",
       "      <th>KEGG cpd</th>\n",
       "      <th>Enzyme</th>\n",
       "    </tr>\n",
       "  </thead>\n",
       "  <tbody>\n",
       "    <tr>\n",
       "      <th>0</th>\n",
       "      <td>1a</td>\n",
       "      <td>303</td>\n",
       "      <td>4</td>\n",
       "      <td>C00001</td>\n",
       "      <td>1.1.1.1</td>\n",
       "    </tr>\n",
       "    <tr>\n",
       "      <th>0</th>\n",
       "      <td>1a</td>\n",
       "      <td>303</td>\n",
       "      <td>4</td>\n",
       "      <td>C00001</td>\n",
       "      <td></td>\n",
       "    </tr>\n",
       "    <tr>\n",
       "      <th>0</th>\n",
       "      <td>1a</td>\n",
       "      <td>303</td>\n",
       "      <td>4</td>\n",
       "      <td>C00001</td>\n",
       "      <td></td>\n",
       "    </tr>\n",
       "    <tr>\n",
       "      <th>0</th>\n",
       "      <td>1a</td>\n",
       "      <td>303</td>\n",
       "      <td>4</td>\n",
       "      <td>C00001</td>\n",
       "      <td></td>\n",
       "    </tr>\n",
       "    <tr>\n",
       "      <th>0</th>\n",
       "      <td>1a</td>\n",
       "      <td>303</td>\n",
       "      <td>4</td>\n",
       "      <td>C00001</td>\n",
       "      <td></td>\n",
       "    </tr>\n",
       "    <tr>\n",
       "      <th>...</th>\n",
       "      <td>...</td>\n",
       "      <td>...</td>\n",
       "      <td>...</td>\n",
       "      <td>...</td>\n",
       "      <td>...</td>\n",
       "    </tr>\n",
       "    <tr>\n",
       "      <th>27133</th>\n",
       "      <td>NaN</td>\n",
       "      <td>2606708</td>\n",
       "      <td>NaN</td>\n",
       "      <td>NaN</td>\n",
       "      <td>nan</td>\n",
       "    </tr>\n",
       "    <tr>\n",
       "      <th>27134</th>\n",
       "      <td>NaN</td>\n",
       "      <td>1541063</td>\n",
       "      <td>NaN</td>\n",
       "      <td>NaN</td>\n",
       "      <td>nan</td>\n",
       "    </tr>\n",
       "    <tr>\n",
       "      <th>27135</th>\n",
       "      <td>NaN</td>\n",
       "      <td>727</td>\n",
       "      <td>NaN</td>\n",
       "      <td>NaN</td>\n",
       "      <td>nan</td>\n",
       "    </tr>\n",
       "    <tr>\n",
       "      <th>27136</th>\n",
       "      <td>NaN</td>\n",
       "      <td>487</td>\n",
       "      <td>NaN</td>\n",
       "      <td>NaN</td>\n",
       "      <td>nan</td>\n",
       "    </tr>\n",
       "    <tr>\n",
       "      <th>27137</th>\n",
       "      <td>NaN</td>\n",
       "      <td>90729</td>\n",
       "      <td>NaN</td>\n",
       "      <td>NaN</td>\n",
       "      <td>nan</td>\n",
       "    </tr>\n",
       "  </tbody>\n",
       "</table>\n",
       "<p>400174 rows × 5 columns</p>\n",
       "</div>"
      ],
      "text/plain": [
       "      media_id taxon_id component_id KEGG cpd   Enzyme\n",
       "0           1a      303            4   C00001  1.1.1.1\n",
       "0           1a      303            4   C00001         \n",
       "0           1a      303            4   C00001         \n",
       "0           1a      303            4   C00001         \n",
       "0           1a      303            4   C00001         \n",
       "...        ...      ...          ...      ...      ...\n",
       "27133      NaN  2606708          NaN      NaN      nan\n",
       "27134      NaN  1541063          NaN      NaN      nan\n",
       "27135      NaN      727          NaN      NaN      nan\n",
       "27136      NaN      487          NaN      NaN      nan\n",
       "27137      NaN    90729          NaN      NaN      nan\n",
       "\n",
       "[400174 rows x 5 columns]"
      ]
     },
     "execution_count": 79,
     "metadata": {},
     "output_type": "execute_result"
    }
   ],
   "source": [
    "#Explode EC numbers\n",
    "media_split = media_final.copy()\n",
    "media_split['Enzyme'] = media_split['Enzyme'].astype(str).str.split(' ')\n",
    "media_split = media_split.explode('Enzyme')\n",
    "media_split['Enzyme'] = media_split['Enzyme'].dropna()\n",
    "media_split"
   ]
  },
  {
   "cell_type": "code",
   "execution_count": 75,
   "id": "de1eca37-0b44-4714-912e-ca34334cfa26",
   "metadata": {
    "tags": []
   },
   "outputs": [],
   "source": [
    "media_split.to_csv('~/Desktop/code/data/media2ec-explode.csv')"
   ]
  },
  {
   "cell_type": "markdown",
   "id": "0f49a708-9b8a-4bb5-bec1-7844f8aa5c88",
   "metadata": {},
   "source": [
    "### EC comparison (taxa2ec vs media2ec)"
   ]
  },
  {
   "cell_type": "code",
   "execution_count": 67,
   "id": "680df064-5857-44b7-b145-6585523f546b",
   "metadata": {
    "tags": []
   },
   "outputs": [],
   "source": [
    "# Convert taxa2ec info to list\n",
    "final_df = pd.read_csv('~/Desktop/code/data/taxa2ec-final.csv')\n",
    "taxa2ec_list = final_df['ec'].to_list()\n",
    "\n",
    "# Convert kegg2ec info to list\n",
    "cpd2ec_df = pd.read_csv('~/Desktop/code/data/kegg/kegg-compound-ec.csv')\n",
    "def process():\n",
    "    df_filtered = cpd2ec_df[cpd2ec_df['Enzyme'] != 'None']\n",
    "    df_expanded = df_filtered.assign(Enzyme=df_filtered['Enzyme'].str.split()).explode('Enzyme')\n",
    "    return df_expanded\n",
    "filtered_df = process()\n",
    "kegg2ec_list = filtered_df['Enzyme'].dropna().to_list()\n",
    "\n",
    "#taxa2ec_list\n",
    "#kegg2ec_list"
   ]
  },
  {
   "cell_type": "code",
   "execution_count": 69,
   "id": "c78b9246-f9ec-4324-b90b-dbe8047d3d0d",
   "metadata": {
    "tags": []
   },
   "outputs": [
    {
     "data": {
      "text/plain": [
       "<matplotlib_venn._common.VennDiagram at 0x1dd08ec40d0>"
      ]
     },
     "execution_count": 69,
     "metadata": {},
     "output_type": "execute_result"
    },
    {
     "data": {
      "image/png": "[encoded data removed]",
      "text/plain": [
       "<Figure size 640x480 with 1 Axes>"
      ]
     },
     "metadata": {},
     "output_type": "display_data"
    }
   ],
   "source": [
    "venn2(\n",
    "    subsets=[\n",
    "        set(taxa2ec_list),\n",
    "        set(kegg2ec_list)\n",
    "    ],\n",
    "    set_labels=[\n",
    "        \"taxa2ec\",\n",
    "        \"kegg2ec\"\n",
    "    ],\n",
    "    set_colors=[\n",
    "        \"lime\",\n",
    "        \"orange\"\n",
    "    ]\n",
    ")"
   ]
  },
  {
   "cell_type": "code",
   "execution_count": 73,
   "id": "882371ac-e698-4d00-9167-ec5805768792",
   "metadata": {
    "tags": []
   },
   "outputs": [],
   "source": [
    "# Make a list of the common ec's between these two lists\n",
    "set1 = set(taxa2ec_list)\n",
    "set2 = set(kegg2ec_list)\n",
    "common = list(set1.intersection(set2))\n",
    "\n",
    "# Put the list into a dataframe\n",
    "dict = {'ec': common}\n",
    "ecs = pd.DataFrame(dict)"
   ]
  },
  {
   "cell_type": "code",
   "execution_count": 75,
   "id": "0b367c1f-1a28-43b0-9e78-76f009ae1303",
   "metadata": {
    "tags": []
   },
   "outputs": [
    {
     "data": {
      "text/html": [
       "<div>\n",
       "<style scoped>\n",
       "    .dataframe tbody tr th:only-of-type {\n",
       "        vertical-align: middle;\n",
       "    }\n",
       "\n",
       "    .dataframe tbody tr th {\n",
       "        vertical-align: top;\n",
       "    }\n",
       "\n",
       "    .dataframe thead th {\n",
       "        text-align: right;\n",
       "    }\n",
       "</style>\n",
       "<table border=\"1\" class=\"dataframe\">\n",
       "  <thead>\n",
       "    <tr style=\"text-align: right;\">\n",
       "      <th></th>\n",
       "      <th>Group</th>\n",
       "      <th>Total Count</th>\n",
       "    </tr>\n",
       "  </thead>\n",
       "  <tbody>\n",
       "    <tr>\n",
       "      <th>0</th>\n",
       "      <td>1</td>\n",
       "      <td>140</td>\n",
       "    </tr>\n",
       "    <tr>\n",
       "      <th>1</th>\n",
       "      <td>2</td>\n",
       "      <td>48</td>\n",
       "    </tr>\n",
       "    <tr>\n",
       "      <th>2</th>\n",
       "      <td>3</td>\n",
       "      <td>22</td>\n",
       "    </tr>\n",
       "    <tr>\n",
       "      <th>3</th>\n",
       "      <td>4</td>\n",
       "      <td>4</td>\n",
       "    </tr>\n",
       "    <tr>\n",
       "      <th>4</th>\n",
       "      <td>6</td>\n",
       "      <td>2</td>\n",
       "    </tr>\n",
       "  </tbody>\n",
       "</table>\n",
       "</div>"
      ],
      "text/plain": [
       "  Group  Total Count\n",
       "0     1          140\n",
       "1     2           48\n",
       "2     3           22\n",
       "3     4            4\n",
       "4     6            2"
      ]
     },
     "execution_count": 75,
     "metadata": {},
     "output_type": "execute_result"
    }
   ],
   "source": [
    "# Summing the abundance of enzymes across our taxa related to different enzyme groups\n",
    "enzyme_df = ecs.value_counts(\"ec\").reset_index().copy() #ecs.value_counts originally\n",
    "enzyme_df['Group'] = enzyme_df['ec'].apply(lambda x: x.strip().split('.')[0])\n",
    "grouped_df = enzyme_df.groupby('Group')['count'].sum().reset_index()\n",
    "grouped_df.columns = ['Group','Total Count']\n",
    "grouped_df"
   ]
  },
  {
   "cell_type": "code",
   "execution_count": 78,
   "id": "d2187221-2043-476a-a474-3ebacc47e51f",
   "metadata": {
    "tags": []
   },
   "outputs": [
    {
     "name": "stdout",
     "output_type": "stream",
     "text": [
      "  Group            Class  Total Count\n",
      "0     1  Oxidoreductases          140\n",
      "1     2     Transferases           48\n",
      "2     3       Hydrolases           22\n",
      "3     4           Lyases            4\n",
      "4     6          Ligases            2\n"
     ]
    }
   ],
   "source": [
    "# Adding information on the type of enzymes (NOTE: no enzymes from class 5 or 7, so removed these labels...could alternatively have a place holder above)\n",
    "ec_class = ['Oxidoreductases','Transferases','Hydrolases','Lyases','Ligases']\n",
    "grouped_df['Class'] = ec_class\n",
    "\n",
    "enzyme_counts = grouped_df[['Group','Class','Total Count']]\n",
    "print(enzyme_counts)"
   ]
  },
  {
   "cell_type": "code",
   "execution_count": 80,
   "id": "ee2f2c4f-3f41-4d69-90b0-37ecdaf424af",
   "metadata": {
    "tags": []
   },
   "outputs": [
    {
     "data": {
      "application/vnd.plotly.v1+json": {
       "config": {
        "plotlyServerURL": "https://plot.ly"
       },
       "data": [
        {
         "alignmentgroup": "True",
         "hovertemplate": "Class=%{x}<br>Total Count=%{y}<extra></extra>",
         "legendgroup": "",
         "marker": {
          "color": "#636efa",
          "pattern": {
           "shape": ""
          }
         },
         "name": "",
         "offsetgroup": "",
         "orientation": "v",
         "showlegend": false,
         "textposition": "auto",
         "type": "bar",
         "x": [
          "Oxidoreductases",
          "Transferases",
          "Hydrolases",
          "Lyases",
          "Ligases"
         ],
         "xaxis": "x",
         "y": [
          140,
          48,
          22,
          4,
          2
         ],
         "yaxis": "y"
        }
       ],
       "layout": {
        "autosize": true,
        "barmode": "relative",
        "legend": {
         "tracegroupgap": 0
        },
        "template": {
         "data": {
          "bar": [
           {
            "error_x": {
             "color": "#2a3f5f"
            },
            "error_y": {
             "color": "#2a3f5f"
            },
            "marker": {
             "line": {
              "color": "#E5ECF6",
              "width": 0.5
             },
             "pattern": {
              "fillmode": "overlay",
              "size": 10,
              "solidity": 0.2
             }
            },
            "type": "bar"
           }
          ],
          "barpolar": [
           {
            "marker": {
             "line": {
              "color": "#E5ECF6",
              "width": 0.5
             },
             "pattern": {
              "fillmode": "overlay",
              "size": 10,
              "solidity": 0.2
             }
            },
            "type": "barpolar"
           }
          ],
          "carpet": [
           {
            "aaxis": {
             "endlinecolor": "#2a3f5f",
             "gridcolor": "white",
             "linecolor": "white",
             "minorgridcolor": "white",
             "startlinecolor": "#2a3f5f"
            },
            "baxis": {
             "endlinecolor": "#2a3f5f",
             "gridcolor": "white",
             "linecolor": "white",
             "minorgridcolor": "white",
             "startlinecolor": "#2a3f5f"
            },
            "type": "carpet"
           }
          ],
          "choropleth": [
           {
            "colorbar": {
             "outlinewidth": 0,
             "ticks": ""
            },
            "type": "choropleth"
           }
          ],
          "contour": [
           {
            "colorbar": {
             "outlinewidth": 0,
             "ticks": ""
            },
            "colorscale": [
             [
              0,
              "#0d0887"
             ],
             [
              0.1111111111111111,
              "#46039f"
             ],
             [
              0.2222222222222222,
              "#7201a8"
             ],
             [
              0.3333333333333333,
              "#9c179e"
             ],
             [
              0.4444444444444444,
              "#bd3786"
             ],
             [
              0.5555555555555556,
              "#d8576b"
             ],
             [
              0.6666666666666666,
              "#ed7953"
             ],
             [
              0.7777777777777778,
              "#fb9f3a"
             ],
             [
              0.8888888888888888,
              "#fdca26"
             ],
             [
              1,
              "#f0f921"
             ]
            ],
            "type": "contour"
           }
          ],
          "contourcarpet": [
           {
            "colorbar": {
             "outlinewidth": 0,
             "ticks": ""
            },
            "type": "contourcarpet"
           }
          ],
          "heatmap": [
           {
            "colorbar": {
             "outlinewidth": 0,
             "ticks": ""
            },
            "colorscale": [
             [
              0,
              "#0d0887"
             ],
             [
              0.1111111111111111,
              "#46039f"
             ],
             [
              0.2222222222222222,
              "#7201a8"
             ],
             [
              0.3333333333333333,
              "#9c179e"
             ],
             [
              0.4444444444444444,
              "#bd3786"
             ],
             [
              0.5555555555555556,
              "#d8576b"
             ],
             [
              0.6666666666666666,
              "#ed7953"
             ],
             [
              0.7777777777777778,
              "#fb9f3a"
             ],
             [
              0.8888888888888888,
              "#fdca26"
             ],
             [
              1,
              "#f0f921"
             ]
            ],
            "type": "heatmap"
           }
          ],
          "heatmapgl": [
           {
            "colorbar": {
             "outlinewidth": 0,
             "ticks": ""
            },
            "colorscale": [
             [
              0,
              "#0d0887"
             ],
             [
              0.1111111111111111,
              "#46039f"
             ],
             [
              0.2222222222222222,
              "#7201a8"
             ],
             [
              0.3333333333333333,
              "#9c179e"
             ],
             [
              0.4444444444444444,
              "#bd3786"
             ],
             [
              0.5555555555555556,
              "#d8576b"
             ],
             [
              0.6666666666666666,
              "#ed7953"
             ],
             [
              0.7777777777777778,
              "#fb9f3a"
             ],
             [
              0.8888888888888888,
              "#fdca26"
             ],
             [
              1,
              "#f0f921"
             ]
            ],
            "type": "heatmapgl"
           }
          ],
          "histogram": [
           {
            "marker": {
             "pattern": {
              "fillmode": "overlay",
              "size": 10,
              "solidity": 0.2
             }
            },
            "type": "histogram"
           }
          ],
          "histogram2d": [
           {
            "colorbar": {
             "outlinewidth": 0,
             "ticks": ""
            },
            "colorscale": [
             [
              0,
              "#0d0887"
             ],
             [
              0.1111111111111111,
              "#46039f"
             ],
             [
              0.2222222222222222,
              "#7201a8"
             ],
             [
              0.3333333333333333,
              "#9c179e"
             ],
             [
              0.4444444444444444,
              "#bd3786"
             ],
             [
              0.5555555555555556,
              "#d8576b"
             ],
             [
              0.6666666666666666,
              "#ed7953"
             ],
             [
              0.7777777777777778,
              "#fb9f3a"
             ],
             [
              0.8888888888888888,
              "#fdca26"
             ],
             [
              1,
              "#f0f921"
             ]
            ],
            "type": "histogram2d"
           }
          ],
          "histogram2dcontour": [
           {
            "colorbar": {
             "outlinewidth": 0,
             "ticks": ""
            },
            "colorscale": [
             [
              0,
              "#0d0887"
             ],
             [
              0.1111111111111111,
              "#46039f"
             ],
             [
              0.2222222222222222,
              "#7201a8"
             ],
             [
              0.3333333333333333,
              "#9c179e"
             ],
             [
              0.4444444444444444,
              "#bd3786"
             ],
             [
              0.5555555555555556,
              "#d8576b"
             ],
             [
              0.6666666666666666,
              "#ed7953"
             ],
             [
              0.7777777777777778,
              "#fb9f3a"
             ],
             [
              0.8888888888888888,
              "#fdca26"
             ],
             [
              1,
              "#f0f921"
             ]
            ],
            "type": "histogram2dcontour"
           }
          ],
          "mesh3d": [
           {
            "colorbar": {
             "outlinewidth": 0,
             "ticks": ""
            },
            "type": "mesh3d"
           }
          ],
          "parcoords": [
           {
            "line": {
             "colorbar": {
              "outlinewidth": 0,
              "ticks": ""
             }
            },
            "type": "parcoords"
           }
          ],
          "pie": [
           {
            "automargin": true,
            "type": "pie"
           }
          ],
          "scatter": [
           {
            "fillpattern": {
             "fillmode": "overlay",
             "size": 10,
             "solidity": 0.2
            },
            "type": "scatter"
           }
          ],
          "scatter3d": [
           {
            "line": {
             "colorbar": {
              "outlinewidth": 0,
              "ticks": ""
             }
            },
            "marker": {
             "colorbar": {
              "outlinewidth": 0,
              "ticks": ""
             }
            },
            "type": "scatter3d"
           }
          ],
          "scattercarpet": [
           {
            "marker": {
             "colorbar": {
              "outlinewidth": 0,
              "ticks": ""
             }
            },
            "type": "scattercarpet"
           }
          ],
          "scattergeo": [
           {
            "marker": {
             "colorbar": {
              "outlinewidth": 0,
              "ticks": ""
             }
            },
            "type": "scattergeo"
           }
          ],
          "scattergl": [
           {
            "marker": {
             "colorbar": {
              "outlinewidth": 0,
              "ticks": ""
             }
            },
            "type": "scattergl"
           }
          ],
          "scattermapbox": [
           {
            "marker": {
             "colorbar": {
              "outlinewidth": 0,
              "ticks": ""
             }
            },
            "type": "scattermapbox"
           }
          ],
          "scatterpolar": [
           {
            "marker": {
             "colorbar": {
              "outlinewidth": 0,
              "ticks": ""
             }
            },
            "type": "scatterpolar"
           }
          ],
          "scatterpolargl": [
           {
            "marker": {
             "colorbar": {
              "outlinewidth": 0,
              "ticks": ""
             }
            },
            "type": "scatterpolargl"
           }
          ],
          "scatterternary": [
           {
            "marker": {
             "colorbar": {
              "outlinewidth": 0,
              "ticks": ""
             }
            },
            "type": "scatterternary"
           }
          ],
          "surface": [
           {
            "colorbar": {
             "outlinewidth": 0,
             "ticks": ""
            },
            "colorscale": [
             [
              0,
              "#0d0887"
             ],
             [
              0.1111111111111111,
              "#46039f"
             ],
             [
              0.2222222222222222,
              "#7201a8"
             ],
             [
              0.3333333333333333,
              "#9c179e"
             ],
             [
              0.4444444444444444,
              "#bd3786"
             ],
             [
              0.5555555555555556,
              "#d8576b"
             ],
             [
              0.6666666666666666,
              "#ed7953"
             ],
             [
              0.7777777777777778,
              "#fb9f3a"
             ],
             [
              0.8888888888888888,
              "#fdca26"
             ],
             [
              1,
              "#f0f921"
             ]
            ],
            "type": "surface"
           }
          ],
          "table": [
           {
            "cells": {
             "fill": {
              "color": "#EBF0F8"
             },
             "line": {
              "color": "white"
             }
            },
            "header": {
             "fill": {
              "color": "#C8D4E3"
             },
             "line": {
              "color": "white"
             }
            },
            "type": "table"
           }
          ]
         },
         "layout": {
          "annotationdefaults": {
           "arrowcolor": "#2a3f5f",
           "arrowhead": 0,
           "arrowwidth": 1
          },
          "autotypenumbers": "strict",
          "coloraxis": {
           "colorbar": {
            "outlinewidth": 0,
            "ticks": ""
           }
          },
          "colorscale": {
           "diverging": [
            [
             0,
             "#8e0152"
            ],
            [
             0.1,
             "#c51b7d"
            ],
            [
             0.2,
             "#de77ae"
            ],
            [
             0.3,
             "#f1b6da"
            ],
            [
             0.4,
             "#fde0ef"
            ],
            [
             0.5,
             "#f7f7f7"
            ],
            [
             0.6,
             "#e6f5d0"
            ],
            [
             0.7,
             "#b8e186"
            ],
            [
             0.8,
             "#7fbc41"
            ],
            [
             0.9,
             "#4d9221"
            ],
            [
             1,
             "#276419"
            ]
           ],
           "sequential": [
            [
             0,
             "#0d0887"
            ],
            [
             0.1111111111111111,
             "#46039f"
            ],
            [
             0.2222222222222222,
             "#7201a8"
            ],
            [
             0.3333333333333333,
             "#9c179e"
            ],
            [
             0.4444444444444444,
             "#bd3786"
            ],
            [
             0.5555555555555556,
             "#d8576b"
            ],
            [
             0.6666666666666666,
             "#ed7953"
            ],
            [
             0.7777777777777778,
             "#fb9f3a"
            ],
            [
             0.8888888888888888,
             "#fdca26"
            ],
            [
             1,
             "#f0f921"
            ]
           ],
           "sequentialminus": [
            [
             0,
             "#0d0887"
            ],
            [
             0.1111111111111111,
             "#46039f"
            ],
            [
             0.2222222222222222,
             "#7201a8"
            ],
            [
             0.3333333333333333,
             "#9c179e"
            ],
            [
             0.4444444444444444,
             "#bd3786"
            ],
            [
             0.5555555555555556,
             "#d8576b"
            ],
            [
             0.6666666666666666,
             "#ed7953"
            ],
            [
             0.7777777777777778,
             "#fb9f3a"
            ],
            [
             0.8888888888888888,
             "#fdca26"
            ],
            [
             1,
             "#f0f921"
            ]
           ]
          },
          "colorway": [
           "#636efa",
           "#EF553B",
           "#00cc96",
           "#ab63fa",
           "#FFA15A",
           "#19d3f3",
           "#FF6692",
           "#B6E880",
           "#FF97FF",
           "#FECB52"
          ],
          "font": {
           "color": "#2a3f5f"
          },
          "geo": {
           "bgcolor": "white",
           "lakecolor": "white",
           "landcolor": "#E5ECF6",
           "showlakes": true,
           "showland": true,
           "subunitcolor": "white"
          },
          "hoverlabel": {
           "align": "left"
          },
          "hovermode": "closest",
          "mapbox": {
           "style": "light"
          },
          "paper_bgcolor": "white",
          "plot_bgcolor": "#E5ECF6",
          "polar": {
           "angularaxis": {
            "gridcolor": "white",
            "linecolor": "white",
            "ticks": ""
           },
           "bgcolor": "#E5ECF6",
           "radialaxis": {
            "gridcolor": "white",
            "linecolor": "white",
            "ticks": ""
           }
          },
          "scene": {
           "xaxis": {
            "backgroundcolor": "#E5ECF6",
            "gridcolor": "white",
            "gridwidth": 2,
            "linecolor": "white",
            "showbackground": true,
            "ticks": "",
            "zerolinecolor": "white"
           },
           "yaxis": {
            "backgroundcolor": "#E5ECF6",
            "gridcolor": "white",
            "gridwidth": 2,
            "linecolor": "white",
            "showbackground": true,
            "ticks": "",
            "zerolinecolor": "white"
           },
           "zaxis": {
            "backgroundcolor": "#E5ECF6",
            "gridcolor": "white",
            "gridwidth": 2,
            "linecolor": "white",
            "showbackground": true,
            "ticks": "",
            "zerolinecolor": "white"
           }
          },
          "shapedefaults": {
           "line": {
            "color": "#2a3f5f"
           }
          },
          "ternary": {
           "aaxis": {
            "gridcolor": "white",
            "linecolor": "white",
            "ticks": ""
           },
           "baxis": {
            "gridcolor": "white",
            "linecolor": "white",
            "ticks": ""
           },
           "bgcolor": "#E5ECF6",
           "caxis": {
            "gridcolor": "white",
            "linecolor": "white",
            "ticks": ""
           }
          },
          "title": {
           "x": 0.05
          },
          "xaxis": {
           "automargin": true,
           "gridcolor": "white",
           "linecolor": "white",
           "ticks": "",
           "title": {
            "standoff": 15
           },
           "zerolinecolor": "white",
           "zerolinewidth": 2
          },
          "yaxis": {
           "automargin": true,
           "gridcolor": "white",
           "linecolor": "white",
           "ticks": "",
           "title": {
            "standoff": 15
           },
           "zerolinecolor": "white",
           "zerolinewidth": 2
          }
         }
        },
        "title": {
         "text": "Overlap of enzyme classes between taxa and media:"
        },
        "xaxis": {
         "anchor": "y",
         "autorange": true,
         "domain": [
          0,
          1
         ],
         "range": [
          -0.5,
          4.5
         ],
         "title": {
          "text": "Class"
         },
         "type": "category"
        },
        "yaxis": {
         "anchor": "x",
         "autorange": true,
         "domain": [
          0,
          1
         ],
         "range": [
          0,
          147.3684210526316
         ],
         "title": {
          "text": "Total Count"
         },
         "type": "linear"
        }
       }
      },
      "image/png": "[encoded data removed]",
      "text/html": [
       "<div>                            <div id=\"923a1116-1020-45f0-a03d-ec9ef022467c\" class=\"plotly-graph-div\" style=\"height:525px; width:100%;\"></div>            <script type=\"text/javascript\">                require([\"plotly\"], function(Plotly) {                    window.PLOTLYENV=window.PLOTLYENV || {};                                    if (document.getElementById(\"923a1116-1020-45f0-a03d-ec9ef022467c\")) {                    Plotly.newPlot(                        \"923a1116-1020-45f0-a03d-ec9ef022467c\",                        [{\"alignmentgroup\":\"True\",\"hovertemplate\":\"Class=%{x}<br>Total Count=%{y}<extra></extra>\",\"legendgroup\":\"\",\"marker\":{\"color\":\"#636efa\",\"pattern\":{\"shape\":\"\"}},\"name\":\"\",\"offsetgroup\":\"\",\"orientation\":\"v\",\"showlegend\":false,\"textposition\":\"auto\",\"x\":[\"Oxidoreductases\",\"Transferases\",\"Hydrolases\",\"Lyases\",\"Ligases\"],\"xaxis\":\"x\",\"y\":[140,48,22,4,2],\"yaxis\":\"y\",\"type\":\"bar\"}],                        {\"template\":{\"data\":{\"histogram2dcontour\":[{\"type\":\"histogram2dcontour\",\"colorbar\":{\"outlinewidth\":0,\"ticks\":\"\"},\"colorscale\":[[0.0,\"#0d0887\"],[0.1111111111111111,\"#46039f\"],[0.2222222222222222,\"#7201a8\"],[0.3333333333333333,\"#9c179e\"],[0.4444444444444444,\"#bd3786\"],[0.5555555555555556,\"#d8576b\"],[0.6666666666666666,\"#ed7953\"],[0.7777777777777778,\"#fb9f3a\"],[0.8888888888888888,\"#fdca26\"],[1.0,\"#f0f921\"]]}],\"choropleth\":[{\"type\":\"choropleth\",\"colorbar\":{\"outlinewidth\":0,\"ticks\":\"\"}}],\"histogram2d\":[{\"type\":\"histogram2d\",\"colorbar\":{\"outlinewidth\":0,\"ticks\":\"\"},\"colorscale\":[[0.0,\"#0d0887\"],[0.1111111111111111,\"#46039f\"],[0.2222222222222222,\"#7201a8\"],[0.3333333333333333,\"#9c179e\"],[0.4444444444444444,\"#bd3786\"],[0.5555555555555556,\"#d8576b\"],[0.6666666666666666,\"#ed7953\"],[0.7777777777777778,\"#fb9f3a\"],[0.8888888888888888,\"#fdca26\"],[1.0,\"#f0f921\"]]}],\"heatmap\":[{\"type\":\"heatmap\",\"colorbar\":{\"outlinewidth\":0,\"ticks\":\"\"},\"colorscale\":[[0.0,\"#0d0887\"],[0.1111111111111111,\"#46039f\"],[0.2222222222222222,\"#7201a8\"],[0.3333333333333333,\"#9c179e\"],[0.4444444444444444,\"#bd3786\"],[0.5555555555555556,\"#d8576b\"],[0.6666666666666666,\"#ed7953\"],[0.7777777777777778,\"#fb9f3a\"],[0.8888888888888888,\"#fdca26\"],[1.0,\"#f0f921\"]]}],\"heatmapgl\":[{\"type\":\"heatmapgl\",\"colorbar\":{\"outlinewidth\":0,\"ticks\":\"\"},\"colorscale\":[[0.0,\"#0d0887\"],[0.1111111111111111,\"#46039f\"],[0.2222222222222222,\"#7201a8\"],[0.3333333333333333,\"#9c179e\"],[0.4444444444444444,\"#bd3786\"],[0.5555555555555556,\"#d8576b\"],[0.6666666666666666,\"#ed7953\"],[0.7777777777777778,\"#fb9f3a\"],[0.8888888888888888,\"#fdca26\"],[1.0,\"#f0f921\"]]}],\"contourcarpet\":[{\"type\":\"contourcarpet\",\"colorbar\":{\"outlinewidth\":0,\"ticks\":\"\"}}],\"contour\":[{\"type\":\"contour\",\"colorbar\":{\"outlinewidth\":0,\"ticks\":\"\"},\"colorscale\":[[0.0,\"#0d0887\"],[0.1111111111111111,\"#46039f\"],[0.2222222222222222,\"#7201a8\"],[0.3333333333333333,\"#9c179e\"],[0.4444444444444444,\"#bd3786\"],[0.5555555555555556,\"#d8576b\"],[0.6666666666666666,\"#ed7953\"],[0.7777777777777778,\"#fb9f3a\"],[0.8888888888888888,\"#fdca26\"],[1.0,\"#f0f921\"]]}],\"surface\":[{\"type\":\"surface\",\"colorbar\":{\"outlinewidth\":0,\"ticks\":\"\"},\"colorscale\":[[0.0,\"#0d0887\"],[0.1111111111111111,\"#46039f\"],[0.2222222222222222,\"#7201a8\"],[0.3333333333333333,\"#9c179e\"],[0.4444444444444444,\"#bd3786\"],[0.5555555555555556,\"#d8576b\"],[0.6666666666666666,\"#ed7953\"],[0.7777777777777778,\"#fb9f3a\"],[0.8888888888888888,\"#fdca26\"],[1.0,\"#f0f921\"]]}],\"mesh3d\":[{\"type\":\"mesh3d\",\"colorbar\":{\"outlinewidth\":0,\"ticks\":\"\"}}],\"scatter\":[{\"fillpattern\":{\"fillmode\":\"overlay\",\"size\":10,\"solidity\":0.2},\"type\":\"scatter\"}],\"parcoords\":[{\"type\":\"parcoords\",\"line\":{\"colorbar\":{\"outlinewidth\":0,\"ticks\":\"\"}}}],\"scatterpolargl\":[{\"type\":\"scatterpolargl\",\"marker\":{\"colorbar\":{\"outlinewidth\":0,\"ticks\":\"\"}}}],\"bar\":[{\"error_x\":{\"color\":\"#2a3f5f\"},\"error_y\":{\"color\":\"#2a3f5f\"},\"marker\":{\"line\":{\"color\":\"#E5ECF6\",\"width\":0.5},\"pattern\":{\"fillmode\":\"overlay\",\"size\":10,\"solidity\":0.2}},\"type\":\"bar\"}],\"scattergeo\":[{\"type\":\"scattergeo\",\"marker\":{\"colorbar\":{\"outlinewidth\":0,\"ticks\":\"\"}}}],\"scatterpolar\":[{\"type\":\"scatterpolar\",\"marker\":{\"colorbar\":{\"outlinewidth\":0,\"ticks\":\"\"}}}],\"histogram\":[{\"marker\":{\"pattern\":{\"fillmode\":\"overlay\",\"size\":10,\"solidity\":0.2}},\"type\":\"histogram\"}],\"scattergl\":[{\"type\":\"scattergl\",\"marker\":{\"colorbar\":{\"outlinewidth\":0,\"ticks\":\"\"}}}],\"scatter3d\":[{\"type\":\"scatter3d\",\"line\":{\"colorbar\":{\"outlinewidth\":0,\"ticks\":\"\"}},\"marker\":{\"colorbar\":{\"outlinewidth\":0,\"ticks\":\"\"}}}],\"scattermapbox\":[{\"type\":\"scattermapbox\",\"marker\":{\"colorbar\":{\"outlinewidth\":0,\"ticks\":\"\"}}}],\"scatterternary\":[{\"type\":\"scatterternary\",\"marker\":{\"colorbar\":{\"outlinewidth\":0,\"ticks\":\"\"}}}],\"scattercarpet\":[{\"type\":\"scattercarpet\",\"marker\":{\"colorbar\":{\"outlinewidth\":0,\"ticks\":\"\"}}}],\"carpet\":[{\"aaxis\":{\"endlinecolor\":\"#2a3f5f\",\"gridcolor\":\"white\",\"linecolor\":\"white\",\"minorgridcolor\":\"white\",\"startlinecolor\":\"#2a3f5f\"},\"baxis\":{\"endlinecolor\":\"#2a3f5f\",\"gridcolor\":\"white\",\"linecolor\":\"white\",\"minorgridcolor\":\"white\",\"startlinecolor\":\"#2a3f5f\"},\"type\":\"carpet\"}],\"table\":[{\"cells\":{\"fill\":{\"color\":\"#EBF0F8\"},\"line\":{\"color\":\"white\"}},\"header\":{\"fill\":{\"color\":\"#C8D4E3\"},\"line\":{\"color\":\"white\"}},\"type\":\"table\"}],\"barpolar\":[{\"marker\":{\"line\":{\"color\":\"#E5ECF6\",\"width\":0.5},\"pattern\":{\"fillmode\":\"overlay\",\"size\":10,\"solidity\":0.2}},\"type\":\"barpolar\"}],\"pie\":[{\"automargin\":true,\"type\":\"pie\"}]},\"layout\":{\"autotypenumbers\":\"strict\",\"colorway\":[\"#636efa\",\"#EF553B\",\"#00cc96\",\"#ab63fa\",\"#FFA15A\",\"#19d3f3\",\"#FF6692\",\"#B6E880\",\"#FF97FF\",\"#FECB52\"],\"font\":{\"color\":\"#2a3f5f\"},\"hovermode\":\"closest\",\"hoverlabel\":{\"align\":\"left\"},\"paper_bgcolor\":\"white\",\"plot_bgcolor\":\"#E5ECF6\",\"polar\":{\"bgcolor\":\"#E5ECF6\",\"angularaxis\":{\"gridcolor\":\"white\",\"linecolor\":\"white\",\"ticks\":\"\"},\"radialaxis\":{\"gridcolor\":\"white\",\"linecolor\":\"white\",\"ticks\":\"\"}},\"ternary\":{\"bgcolor\":\"#E5ECF6\",\"aaxis\":{\"gridcolor\":\"white\",\"linecolor\":\"white\",\"ticks\":\"\"},\"baxis\":{\"gridcolor\":\"white\",\"linecolor\":\"white\",\"ticks\":\"\"},\"caxis\":{\"gridcolor\":\"white\",\"linecolor\":\"white\",\"ticks\":\"\"}},\"coloraxis\":{\"colorbar\":{\"outlinewidth\":0,\"ticks\":\"\"}},\"colorscale\":{\"sequential\":[[0.0,\"#0d0887\"],[0.1111111111111111,\"#46039f\"],[0.2222222222222222,\"#7201a8\"],[0.3333333333333333,\"#9c179e\"],[0.4444444444444444,\"#bd3786\"],[0.5555555555555556,\"#d8576b\"],[0.6666666666666666,\"#ed7953\"],[0.7777777777777778,\"#fb9f3a\"],[0.8888888888888888,\"#fdca26\"],[1.0,\"#f0f921\"]],\"sequentialminus\":[[0.0,\"#0d0887\"],[0.1111111111111111,\"#46039f\"],[0.2222222222222222,\"#7201a8\"],[0.3333333333333333,\"#9c179e\"],[0.4444444444444444,\"#bd3786\"],[0.5555555555555556,\"#d8576b\"],[0.6666666666666666,\"#ed7953\"],[0.7777777777777778,\"#fb9f3a\"],[0.8888888888888888,\"#fdca26\"],[1.0,\"#f0f921\"]],\"diverging\":[[0,\"#8e0152\"],[0.1,\"#c51b7d\"],[0.2,\"#de77ae\"],[0.3,\"#f1b6da\"],[0.4,\"#fde0ef\"],[0.5,\"#f7f7f7\"],[0.6,\"#e6f5d0\"],[0.7,\"#b8e186\"],[0.8,\"#7fbc41\"],[0.9,\"#4d9221\"],[1,\"#276419\"]]},\"xaxis\":{\"gridcolor\":\"white\",\"linecolor\":\"white\",\"ticks\":\"\",\"title\":{\"standoff\":15},\"zerolinecolor\":\"white\",\"automargin\":true,\"zerolinewidth\":2},\"yaxis\":{\"gridcolor\":\"white\",\"linecolor\":\"white\",\"ticks\":\"\",\"title\":{\"standoff\":15},\"zerolinecolor\":\"white\",\"automargin\":true,\"zerolinewidth\":2},\"scene\":{\"xaxis\":{\"backgroundcolor\":\"#E5ECF6\",\"gridcolor\":\"white\",\"linecolor\":\"white\",\"showbackground\":true,\"ticks\":\"\",\"zerolinecolor\":\"white\",\"gridwidth\":2},\"yaxis\":{\"backgroundcolor\":\"#E5ECF6\",\"gridcolor\":\"white\",\"linecolor\":\"white\",\"showbackground\":true,\"ticks\":\"\",\"zerolinecolor\":\"white\",\"gridwidth\":2},\"zaxis\":{\"backgroundcolor\":\"#E5ECF6\",\"gridcolor\":\"white\",\"linecolor\":\"white\",\"showbackground\":true,\"ticks\":\"\",\"zerolinecolor\":\"white\",\"gridwidth\":2}},\"shapedefaults\":{\"line\":{\"color\":\"#2a3f5f\"}},\"annotationdefaults\":{\"arrowcolor\":\"#2a3f5f\",\"arrowhead\":0,\"arrowwidth\":1},\"geo\":{\"bgcolor\":\"white\",\"landcolor\":\"#E5ECF6\",\"subunitcolor\":\"white\",\"showland\":true,\"showlakes\":true,\"lakecolor\":\"white\"},\"title\":{\"x\":0.05},\"mapbox\":{\"style\":\"light\"}}},\"xaxis\":{\"anchor\":\"y\",\"domain\":[0.0,1.0],\"title\":{\"text\":\"Class\"}},\"yaxis\":{\"anchor\":\"x\",\"domain\":[0.0,1.0],\"title\":{\"text\":\"Total Count\"}},\"legend\":{\"tracegroupgap\":0},\"title\":{\"text\":\"Overlap of enzyme classes between taxa and media:\"},\"barmode\":\"relative\"},                        {\"responsive\": true}                    ).then(function(){\n",
       "                            \n",
       "var gd = document.getElementById('923a1116-1020-45f0-a03d-ec9ef022467c');\n",
       "var x = new MutationObserver(function (mutations, observer) {{\n",
       "        var display = window.getComputedStyle(gd).display;\n",
       "        if (!display || display === 'none') {{\n",
       "            console.log([gd, 'removed!']);\n",
       "            Plotly.purge(gd);\n",
       "            observer.disconnect();\n",
       "        }}\n",
       "}});\n",
       "\n",
       "// Listen for the removal of the full notebook cells\n",
       "var notebookContainer = gd.closest('#notebook-container');\n",
       "if (notebookContainer) {{\n",
       "    x.observe(notebookContainer, {childList: true});\n",
       "}}\n",
       "\n",
       "// Listen for the clearing of the current output cell\n",
       "var outputEl = gd.closest('.output');\n",
       "if (outputEl) {{\n",
       "    x.observe(outputEl, {childList: true});\n",
       "}}\n",
       "\n",
       "                        })                };                });            </script>        </div>"
      ]
     },
     "metadata": {},
     "output_type": "display_data"
    }
   ],
   "source": [
    "import plotly.express as px\n",
    "\n",
    "# Plot the occurrence of enzymes across all of our selected taxa \n",
    "fig2 = px.bar(enzyme_counts, x=\"Class\", y=\"Total Count\", title=\"Overlap of enzyme classes between taxa and media:\")\n",
    "fig2.show()"
   ]
  },
  {
   "cell_type": "code",
   "execution_count": 82,
   "id": "801c4ebf-43fb-43f7-a68a-f6b2866864f9",
   "metadata": {
    "tags": []
   },
   "outputs": [],
   "source": [
    "#EC 1: Oxidoreductases – Enzymes that catalyze oxidation-reduction reactions.\n",
    "#EC 2: Transferases – Enzymes that transfer a functional group (e.g., a methyl or phosphate group).\n",
    "#EC 3: Hydrolases – Enzymes that catalyze the hydrolysis of various bonds.\n",
    "#EC 4: Lyases – Enzymes that break various chemical bonds by means other than hydrolysis/oxidation, often forming a new double-bond or ring structure.\n",
    "#EC 5: Isomerases – Enzymes that catalyze the transfer of groups within molecules to yield isomeric forms.\n",
    "#EC 6: Ligases – Enzymes that join two molecules together, typically using ATP.\n",
    "#EC 7: Translocases – Enzymes that catalyze the movement of ions or molecules across membranes or their separation within membranes."
   ]
  },
  {
   "cell_type": "code",
   "execution_count": null,
   "id": "a8b9453e-80b3-4638-b98d-b1f005441d9c",
   "metadata": {},
   "outputs": [],
   "source": []
  }
 ],
 "metadata": {
  "kernelspec": {
   "display_name": "media",
   "language": "python",
   "name": "media"
  },
  "language_info": {
   "codemirror_mode": {
    "name": "ipython",
    "version": 3
   },
   "file_extension": ".py",
   "mimetype": "text/x-python",
   "name": "python",
   "nbconvert_exporter": "python",
   "pygments_lexer": "ipython3",
   "version": "3.12.3"
  }
 },
 "nbformat": 4,
 "nbformat_minor": 5
}
