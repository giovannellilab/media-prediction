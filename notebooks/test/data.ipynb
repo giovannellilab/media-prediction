{
 "cells": [
  {
   "cell_type": "markdown",
   "id": "f84fd7dd-25bc-40c6-ad35-eaa75f776140",
   "metadata": {},
   "source": [
    "### **Media Prediction**\n",
    "[MediaDive] to [KEGG, UniProt OR BacDive] to [Downstream applications]"
   ]
  },
  {
   "cell_type": "code",
   "execution_count": 10,
   "id": "cb12e0f5-e382-4285-9135-ed4830b965b6",
   "metadata": {},
   "outputs": [],
   "source": [
    "import pandas as pd\n",
    "import numpy as np\n",
    "from tqdm import tqdm\n",
    "from io import StringIO\n",
    "\n",
    "import os\n",
    "DATA_DIR = '~/Desktop/code/data/'\n",
    "\n",
    "from Bio.KEGG import REST\n",
    "import bacdive\n",
    "\n",
    "import requests\n",
    "import re\n",
    "from requests.adapters import HTTPAdapter, Retry\n",
    "\n",
    "from matplotlib import pyplot as plt"
   ]
  },
  {
   "cell_type": "markdown",
   "id": "7bbcd7f8-0407-4504-b6e6-0e3e08f0b8a3",
   "metadata": {},
   "source": [
    "### MediaDive Table Creation\n",
    "\n",
    "This table contains all information (media id's, components, component id's, characteristics, associated taxa information, etc.) used for subsequent analyses."
   ]
  },
  {
   "cell_type": "code",
   "execution_count": 2,
   "id": "45467e3d-7884-4de4-a3d3-2203c906f9bc",
   "metadata": {
    "tags": []
   },
   "outputs": [],
   "source": [
    "import modules.mediadive as md"
   ]
  },
  {
   "cell_type": "markdown",
   "id": "3b8f586a-93e2-4bfa-a682-ec7bce57e2d4",
   "metadata": {},
   "source": [
    "**[1] Retrieve all MediaDive info** (skip to [3] after first time)"
   ]
  },
  {
   "cell_type": "code",
   "execution_count": 3,
   "id": "6bed5189-f7e0-472b-9613-f63b312ec6b7",
   "metadata": {
    "tags": []
   },
   "outputs": [
    {
     "name": "stderr",
     "output_type": "stream",
     "text": [
      "100%|██████████| 3315/3315 [09:59<00:00,  5.53it/s]\n",
      "100%|██████████| 3315/3315 [09:17<00:00,  5.95it/s]\n"
     ]
    }
   ],
   "source": [
    "# Get all info for available media on MediaDive\n",
    "md_media_df = md.get_media()\n",
    "# Format and save media information to data directory\n",
    "md_media_df = md_media_df.rename(columns={\"id\": \"media_id\"})\n",
    "md_media_df.to_csv(os.path.join(DATA_DIR,\"mediadive\", \"mediadive-media.csv\"), index=False)\n",
    "\n",
    "# Put media to list\n",
    "media_id_list = md_media_df[\"media_id\"].astype(str).unique()\n",
    "\n",
    "# Use media_id_list to retrieve media composition information\n",
    "md_comp_df = md.get_composition(media_id_list)\n",
    "md_comp_df.to_csv(os.path.join(DATA_DIR, \"mediadive\",\"mediadive-media-comp.csv\"), sep=\";\", index=False)\n",
    "    #TO-DO: parse information for complex media ingredients to also retrieve those components\n",
    "\n",
    "# Use media_id_list to retrieve media-associated strain information\n",
    "md_strains_df = md.get_strains(media_id_list)\n",
    "md_strains_df.to_csv(os.path.join(DATA_DIR, \"mediadive\", \"mediadive-media-strains.csv\"), sep=\";\", index=False)"
   ]
  },
  {
   "cell_type": "markdown",
   "id": "165af5ea-1b99-4a18-a5fa-7dd22ecbabce",
   "metadata": {},
   "source": [
    "**[2] Merge MediaDive outputs**"
   ]
  },
  {
   "cell_type": "code",
   "execution_count": 4,
   "id": "0d84b4d1-b926-4cd0-8152-86b98c5a435b",
   "metadata": {},
   "outputs": [],
   "source": [
    "# Merge media composition and strains info\n",
    "md_df = pd.merge(left=md_comp_df, right=md_strains_df, on=\"media_id\", how=\"outer\", indicator=True)\n",
    "# Merge media information with previous data\n",
    "md_df = pd.merge(left=md_media_df, right=md_df, on=\"media_id\", how=\"left\", indicator=False)\n",
    "\n",
    "# Add extra column indicating the source of the data\n",
    "md_df = md_df.rename(columns={\"_merge\": \"merge_source\"})\n",
    "md_df[\"merge_source\"] = md_df[\"merge_source\"].cat.rename_categories({\"right_only\": \"composition_only\", \"left_only\": \"strains_only\"})\n",
    "\n",
    "# Save our final dataframe\n",
    "md_df.to_csv(os.path.join(DATA_DIR,\"mediadive\",\"mediadive-all.csv\"), sep=\";\", index=False)"
   ]
  },
  {
   "cell_type": "markdown",
   "id": "daa03cd1-a32c-409c-866c-ffdd277096de",
   "metadata": {},
   "source": [
    "**[3] Final MediaDive dataframe**"
   ]
  },
  {
   "cell_type": "code",
   "execution_count": 13,
   "id": "982299b4-d83f-41ac-9417-4d1a1389f879",
   "metadata": {
    "tags": []
   },
   "outputs": [
    {
     "data": {
      "text/html": [
       "<div>\n",
       "<style scoped>\n",
       "    .dataframe tbody tr th:only-of-type {\n",
       "        vertical-align: middle;\n",
       "    }\n",
       "\n",
       "    .dataframe tbody tr th {\n",
       "        vertical-align: top;\n",
       "    }\n",
       "\n",
       "    .dataframe thead th {\n",
       "        text-align: right;\n",
       "    }\n",
       "</style>\n",
       "<table border=\"1\" class=\"dataframe\">\n",
       "  <thead>\n",
       "    <tr style=\"text-align: right;\">\n",
       "      <th></th>\n",
       "      <th>media_id</th>\n",
       "      <th>name</th>\n",
       "      <th>complex_medium</th>\n",
       "      <th>source</th>\n",
       "      <th>link</th>\n",
       "      <th>min_pH</th>\n",
       "      <th>max_pH</th>\n",
       "      <th>reference</th>\n",
       "      <th>description</th>\n",
       "      <th>components</th>\n",
       "      <th>component_ids</th>\n",
       "      <th>strain_id</th>\n",
       "      <th>species</th>\n",
       "      <th>ccno</th>\n",
       "      <th>bacdive_id</th>\n",
       "      <th>merge_source</th>\n",
       "    </tr>\n",
       "  </thead>\n",
       "  <tbody>\n",
       "    <tr>\n",
       "      <th>0</th>\n",
       "      <td>1</td>\n",
       "      <td>NUTRIENT AGAR</td>\n",
       "      <td>1</td>\n",
       "      <td>DSMZ</td>\n",
       "      <td>https://www.dsmz.de/microorganisms/medium/pdf/...</td>\n",
       "      <td>7.0</td>\n",
       "      <td>7.0</td>\n",
       "      <td>NaN</td>\n",
       "      <td>NaN</td>\n",
       "      <td>NaN</td>\n",
       "      <td>NaN</td>\n",
       "      <td>NaN</td>\n",
       "      <td>NaN</td>\n",
       "      <td>NaN</td>\n",
       "      <td>NaN</td>\n",
       "      <td>NaN</td>\n",
       "    </tr>\n",
       "    <tr>\n",
       "      <th>1</th>\n",
       "      <td>1a</td>\n",
       "      <td>REACTIVATION WITH LIQUID MEDIUM 1</td>\n",
       "      <td>1</td>\n",
       "      <td>DSMZ</td>\n",
       "      <td>https://www.dsmz.de/microorganisms/medium/pdf/...</td>\n",
       "      <td>7.0</td>\n",
       "      <td>7.0</td>\n",
       "      <td>NaN</td>\n",
       "      <td>NaN</td>\n",
       "      <td>['Peptone', 'Meat extract', 'Agar', 'Distilled...</td>\n",
       "      <td>[1, 2, 3, 4]</td>\n",
       "      <td>29.0</td>\n",
       "      <td>Comamonas testosteroni</td>\n",
       "      <td>DSM 38</td>\n",
       "      <td>2912.0</td>\n",
       "      <td>both</td>\n",
       "    </tr>\n",
       "    <tr>\n",
       "      <th>2</th>\n",
       "      <td>1a</td>\n",
       "      <td>REACTIVATION WITH LIQUID MEDIUM 1</td>\n",
       "      <td>1</td>\n",
       "      <td>DSMZ</td>\n",
       "      <td>https://www.dsmz.de/microorganisms/medium/pdf/...</td>\n",
       "      <td>7.0</td>\n",
       "      <td>7.0</td>\n",
       "      <td>NaN</td>\n",
       "      <td>NaN</td>\n",
       "      <td>['Peptone', 'Meat extract', 'Agar', 'Distilled...</td>\n",
       "      <td>[1, 2, 3, 4]</td>\n",
       "      <td>30.0</td>\n",
       "      <td>Delftia acidovorans</td>\n",
       "      <td>DSM 39</td>\n",
       "      <td>2941.0</td>\n",
       "      <td>both</td>\n",
       "    </tr>\n",
       "    <tr>\n",
       "      <th>3</th>\n",
       "      <td>1a</td>\n",
       "      <td>REACTIVATION WITH LIQUID MEDIUM 1</td>\n",
       "      <td>1</td>\n",
       "      <td>DSMZ</td>\n",
       "      <td>https://www.dsmz.de/microorganisms/medium/pdf/...</td>\n",
       "      <td>7.0</td>\n",
       "      <td>7.0</td>\n",
       "      <td>NaN</td>\n",
       "      <td>NaN</td>\n",
       "      <td>['Peptone', 'Meat extract', 'Agar', 'Distilled...</td>\n",
       "      <td>[1, 2, 3, 4]</td>\n",
       "      <td>39.0</td>\n",
       "      <td>Acidovorax delafieldii</td>\n",
       "      <td>DSM 64</td>\n",
       "      <td>2885.0</td>\n",
       "      <td>both</td>\n",
       "    </tr>\n",
       "    <tr>\n",
       "      <th>4</th>\n",
       "      <td>1a</td>\n",
       "      <td>REACTIVATION WITH LIQUID MEDIUM 1</td>\n",
       "      <td>1</td>\n",
       "      <td>DSMZ</td>\n",
       "      <td>https://www.dsmz.de/microorganisms/medium/pdf/...</td>\n",
       "      <td>7.0</td>\n",
       "      <td>7.0</td>\n",
       "      <td>NaN</td>\n",
       "      <td>NaN</td>\n",
       "      <td>['Peptone', 'Meat extract', 'Agar', 'Distilled...</td>\n",
       "      <td>[1, 2, 3, 4]</td>\n",
       "      <td>52.0</td>\n",
       "      <td>Pseudomonas putida</td>\n",
       "      <td>DSM 84</td>\n",
       "      <td>12895.0</td>\n",
       "      <td>both</td>\n",
       "    </tr>\n",
       "    <tr>\n",
       "      <th>...</th>\n",
       "      <td>...</td>\n",
       "      <td>...</td>\n",
       "      <td>...</td>\n",
       "      <td>...</td>\n",
       "      <td>...</td>\n",
       "      <td>...</td>\n",
       "      <td>...</td>\n",
       "      <td>...</td>\n",
       "      <td>...</td>\n",
       "      <td>...</td>\n",
       "      <td>...</td>\n",
       "      <td>...</td>\n",
       "      <td>...</td>\n",
       "      <td>...</td>\n",
       "      <td>...</td>\n",
       "      <td>...</td>\n",
       "    </tr>\n",
       "    <tr>\n",
       "      <th>31897</th>\n",
       "      <td>P5</td>\n",
       "      <td>RS Medium - Nutrient Medium (NM) Component</td>\n",
       "      <td>1</td>\n",
       "      <td>public</td>\n",
       "      <td>NaN</td>\n",
       "      <td>7.0</td>\n",
       "      <td>7.0</td>\n",
       "      <td>NaN</td>\n",
       "      <td>The RS medium is a fully defined medium design...</td>\n",
       "      <td>[]</td>\n",
       "      <td>[]</td>\n",
       "      <td>NaN</td>\n",
       "      <td>NaN</td>\n",
       "      <td>NaN</td>\n",
       "      <td>NaN</td>\n",
       "      <td>strains_only</td>\n",
       "    </tr>\n",
       "    <tr>\n",
       "      <th>31898</th>\n",
       "      <td>P6</td>\n",
       "      <td>mTA10</td>\n",
       "      <td>1</td>\n",
       "      <td>public</td>\n",
       "      <td>NaN</td>\n",
       "      <td>7.2</td>\n",
       "      <td>7.2</td>\n",
       "      <td>10.1016/j.foodcont.2012.06.029</td>\n",
       "      <td>NaN</td>\n",
       "      <td>[]</td>\n",
       "      <td>[]</td>\n",
       "      <td>NaN</td>\n",
       "      <td>NaN</td>\n",
       "      <td>NaN</td>\n",
       "      <td>NaN</td>\n",
       "      <td>strains_only</td>\n",
       "    </tr>\n",
       "    <tr>\n",
       "      <th>31899</th>\n",
       "      <td>P7</td>\n",
       "      <td>N27 RHODOSPIRILLACEAE MEDIUM (modified)</td>\n",
       "      <td>1</td>\n",
       "      <td>public</td>\n",
       "      <td>NaN</td>\n",
       "      <td>6.8</td>\n",
       "      <td>6.8</td>\n",
       "      <td>NaN</td>\n",
       "      <td>NaN</td>\n",
       "      <td>[]</td>\n",
       "      <td>[]</td>\n",
       "      <td>NaN</td>\n",
       "      <td>NaN</td>\n",
       "      <td>NaN</td>\n",
       "      <td>NaN</td>\n",
       "      <td>strains_only</td>\n",
       "    </tr>\n",
       "    <tr>\n",
       "      <th>31900</th>\n",
       "      <td>P8</td>\n",
       "      <td>M9-SNG medium</td>\n",
       "      <td>1</td>\n",
       "      <td>public</td>\n",
       "      <td>NaN</td>\n",
       "      <td>7.2</td>\n",
       "      <td>7.2</td>\n",
       "      <td>10.1007/s11104-022-05822-6</td>\n",
       "      <td>Myrosinase producing bacteria and fungi  enric...</td>\n",
       "      <td>[]</td>\n",
       "      <td>[]</td>\n",
       "      <td>NaN</td>\n",
       "      <td>NaN</td>\n",
       "      <td>NaN</td>\n",
       "      <td>NaN</td>\n",
       "      <td>strains_only</td>\n",
       "    </tr>\n",
       "    <tr>\n",
       "      <th>31901</th>\n",
       "      <td>P9</td>\n",
       "      <td>PDB-SNG medium</td>\n",
       "      <td>1</td>\n",
       "      <td>public</td>\n",
       "      <td>NaN</td>\n",
       "      <td>7.2</td>\n",
       "      <td>7.2</td>\n",
       "      <td>10.1007/s11104-022-05822-6</td>\n",
       "      <td>Myrosinase producing bacteria and fungi enrich...</td>\n",
       "      <td>[]</td>\n",
       "      <td>[]</td>\n",
       "      <td>NaN</td>\n",
       "      <td>NaN</td>\n",
       "      <td>NaN</td>\n",
       "      <td>NaN</td>\n",
       "      <td>strains_only</td>\n",
       "    </tr>\n",
       "  </tbody>\n",
       "</table>\n",
       "<p>31902 rows × 16 columns</p>\n",
       "</div>"
      ],
      "text/plain": [
       "      media_id                                        name  complex_medium  \\\n",
       "0            1                               NUTRIENT AGAR               1   \n",
       "1           1a           REACTIVATION WITH LIQUID MEDIUM 1               1   \n",
       "2           1a           REACTIVATION WITH LIQUID MEDIUM 1               1   \n",
       "3           1a           REACTIVATION WITH LIQUID MEDIUM 1               1   \n",
       "4           1a           REACTIVATION WITH LIQUID MEDIUM 1               1   \n",
       "...        ...                                         ...             ...   \n",
       "31897       P5  RS Medium - Nutrient Medium (NM) Component               1   \n",
       "31898       P6                                       mTA10               1   \n",
       "31899       P7     N27 RHODOSPIRILLACEAE MEDIUM (modified)               1   \n",
       "31900       P8                               M9-SNG medium               1   \n",
       "31901       P9                              PDB-SNG medium               1   \n",
       "\n",
       "       source                                               link  min_pH  \\\n",
       "0        DSMZ  https://www.dsmz.de/microorganisms/medium/pdf/...     7.0   \n",
       "1        DSMZ  https://www.dsmz.de/microorganisms/medium/pdf/...     7.0   \n",
       "2        DSMZ  https://www.dsmz.de/microorganisms/medium/pdf/...     7.0   \n",
       "3        DSMZ  https://www.dsmz.de/microorganisms/medium/pdf/...     7.0   \n",
       "4        DSMZ  https://www.dsmz.de/microorganisms/medium/pdf/...     7.0   \n",
       "...       ...                                                ...     ...   \n",
       "31897  public                                                NaN     7.0   \n",
       "31898  public                                                NaN     7.2   \n",
       "31899  public                                                NaN     6.8   \n",
       "31900  public                                                NaN     7.2   \n",
       "31901  public                                                NaN     7.2   \n",
       "\n",
       "       max_pH                       reference  \\\n",
       "0         7.0                             NaN   \n",
       "1         7.0                             NaN   \n",
       "2         7.0                             NaN   \n",
       "3         7.0                             NaN   \n",
       "4         7.0                             NaN   \n",
       "...       ...                             ...   \n",
       "31897     7.0                             NaN   \n",
       "31898     7.2  10.1016/j.foodcont.2012.06.029   \n",
       "31899     6.8                             NaN   \n",
       "31900     7.2      10.1007/s11104-022-05822-6   \n",
       "31901     7.2      10.1007/s11104-022-05822-6   \n",
       "\n",
       "                                             description  \\\n",
       "0                                                    NaN   \n",
       "1                                                    NaN   \n",
       "2                                                    NaN   \n",
       "3                                                    NaN   \n",
       "4                                                    NaN   \n",
       "...                                                  ...   \n",
       "31897  The RS medium is a fully defined medium design...   \n",
       "31898                                                NaN   \n",
       "31899                                                NaN   \n",
       "31900  Myrosinase producing bacteria and fungi  enric...   \n",
       "31901  Myrosinase producing bacteria and fungi enrich...   \n",
       "\n",
       "                                              components component_ids  \\\n",
       "0                                                    NaN           NaN   \n",
       "1      ['Peptone', 'Meat extract', 'Agar', 'Distilled...  [1, 2, 3, 4]   \n",
       "2      ['Peptone', 'Meat extract', 'Agar', 'Distilled...  [1, 2, 3, 4]   \n",
       "3      ['Peptone', 'Meat extract', 'Agar', 'Distilled...  [1, 2, 3, 4]   \n",
       "4      ['Peptone', 'Meat extract', 'Agar', 'Distilled...  [1, 2, 3, 4]   \n",
       "...                                                  ...           ...   \n",
       "31897                                                 []            []   \n",
       "31898                                                 []            []   \n",
       "31899                                                 []            []   \n",
       "31900                                                 []            []   \n",
       "31901                                                 []            []   \n",
       "\n",
       "       strain_id                 species    ccno  bacdive_id  merge_source  \n",
       "0            NaN                     NaN     NaN         NaN           NaN  \n",
       "1           29.0  Comamonas testosteroni  DSM 38      2912.0          both  \n",
       "2           30.0     Delftia acidovorans  DSM 39      2941.0          both  \n",
       "3           39.0  Acidovorax delafieldii  DSM 64      2885.0          both  \n",
       "4           52.0      Pseudomonas putida  DSM 84     12895.0          both  \n",
       "...          ...                     ...     ...         ...           ...  \n",
       "31897        NaN                     NaN     NaN         NaN  strains_only  \n",
       "31898        NaN                     NaN     NaN         NaN  strains_only  \n",
       "31899        NaN                     NaN     NaN         NaN  strains_only  \n",
       "31900        NaN                     NaN     NaN         NaN  strains_only  \n",
       "31901        NaN                     NaN     NaN         NaN  strains_only  \n",
       "\n",
       "[31902 rows x 16 columns]"
      ]
     },
     "execution_count": 13,
     "metadata": {},
     "output_type": "execute_result"
    }
   ],
   "source": [
    "md_df = pd.read_csv(os.path.join(DATA_DIR,\"mediadive\",\"mediadive-all.csv\"), sep = ';')\n",
    "md_df"
   ]
  },
  {
   "cell_type": "code",
   "execution_count": 6,
   "id": "d1fcd878-463b-4e8e-9699-eedccdf88036",
   "metadata": {
    "tags": []
   },
   "outputs": [
    {
     "data": {
      "application/vnd.plotly.v1+json": {
       "config": {
        "plotlyServerURL": "https://plot.ly"
       },
       "data": [
        {
         "alignmentgroup": "True",
         "hovertemplate": "species=%{x}<br>count=%{y}<extra></extra>",
         "legendgroup": "",
         "marker": {
          "color": "#636efa",
          "pattern": {
           "shape": ""
          }
         },
         "name": "",
         "offsetgroup": "",
         "orientation": "v",
         "showlegend": false,
         "textposition": "auto",
         "type": "bar",
         "x": [
          "Saccharina latissima",
          "Streptomyces sp.",
          "Ectocarpus sp.",
          "Sporobolomyces",
          "Galactomyces candidus",
          "Streptomyces",
          "Clostridium acetobutylicum",
          "Pseudomonas fragi",
          "Bacillus",
          "Debaryomyces hansenii",
          "Synnemasporella aculeans",
          "Issatchenkia orientalis",
          "Bullera",
          "Saccharomyces cerevisiae",
          "Aspergillus niger",
          "Candida albicans",
          "Hypocrea lutea",
          "Ectocarpus siliculosus",
          "Pseudomonas aeruginosa",
          "Cryptococcus",
          "Clostridium septicum",
          "Hypocrea nigricans",
          "Sordaria fimicola",
          "Penicillium paneum",
          "Trichophyton mentagrophytes",
          "Clostridium beijerinckii",
          "Staphylococcus aureus",
          "Lactobacillus",
          "Collinsella aerofaciens",
          "Mortierella",
          "Pseudomonas putida",
          "Microbacterium",
          "Pseudomonas",
          "Lentilactobacillus farraginis",
          "Vibrio fluvialis",
          "Hypocrea schweinitzii",
          "Candida",
          "Rhodococcus",
          "Aeromonas hydrophila hydrophila",
          "Gonium pectorale",
          "Penicillium",
          "Kluyveromyces marxianus",
          "Stichococcus bacillaris",
          "Yarrowia lipolytica",
          "Fusarium",
          "Pseudomonas sp.",
          "Rhodotorula mucilaginosa",
          "Candida tropicalis",
          "Aspergillus sojae",
          "Streptococcus",
          "Gliomastix masseei",
          "Methylorubrum extorquens",
          "Bacillus subtilis",
          "Clostridioides difficile",
          "Wickerhamomyces anomalus",
          "Meyerozyma guilliermondii",
          "Ectocarpus fasciculatus",
          "Micrococcus luteus",
          "Citrobacter freundii",
          "Tetragenococcus halophilus",
          "Aspergillus luchuensis",
          "Stenotrophomonas maltophilia",
          "Aspergillus fumigatus",
          "Bifidobacterium longum longum",
          "Limosilactobacillus fermentum",
          "Chlamydomonas sp.",
          "Ligilactobacillus salivarius",
          "Escherichia coli",
          "Penicillium chrysogenum",
          "Myxococcus fulvus",
          "Shewanella putrefaciens",
          "Planococcus citreus",
          "Comamonas testosteroni",
          "Fructilactobacillus sanfranciscensis",
          "Acinetobacter",
          "Clostridium sp.",
          "Bifidobacterium bifidum",
          "Candida tumulicola",
          "Scolecobasidium humicola",
          "Sporobolomyces phaffii",
          "Pseudomonas fluorescens",
          "Bullera alba",
          "Aspergillus",
          "Wickerhamiella versatilis",
          "Lacticaseibacillus rhamnosus",
          "Lactobacillus amylovorus",
          "Aeromonas sobria",
          "Rhizopus oryzae",
          "Pichia occidentalis",
          "Cryptococcus albidus",
          "unclassified bacterium",
          "Aspergillus flavus",
          "Lactobacillus helveticus",
          "Lactobacillus gasseri",
          "Tetraselmis sp.",
          "Aspergillus oryzae",
          "Rhodotorula toruloides",
          "Paenibacillus",
          "Aspergillus ruber",
          "Vibrio",
          "Torulaspora delbrueckii",
          "Lactobacillus crispatus",
          "Kendrickiella phycomyces",
          "Lipomyces tetrasporus",
          "Methylobacillus glycogenes",
          "Chlorella vulgaris",
          "Clostridium",
          "Ambrosiozyma kamigamensis",
          "Aspergillus tubingensis",
          "Termitomyces",
          "Lactobacillus kefiranofaciens kefirgranum",
          "Kluyveromyces nonfermentans",
          "Rhodopirellula sp.",
          "Nocardia farcinica",
          "Pediococcus pentosaceus",
          "Acidomonas methanolica",
          "Clostridium perfringens",
          "Eurotium repens",
          "Aspergillus oryzae brunneus",
          "Desmodesmus armatus",
          "Streptomyces hiroshimensis",
          "Acetobacter pasteurianus",
          "Candida mesenterica",
          "Promicromonospora",
          "Lactobacillus acidophilus",
          "Streptomyces avermitilis",
          "Serratia marcescens",
          "Penicillium citreonigrum",
          "Penicillium citrinum",
          "Bifidobacterium",
          "Nocardioides albus",
          "Rhodococcus erythropolis",
          "Rhodosporidium kratochvilovae",
          "Verticillium dahliae",
          "Burgoa anomala",
          "Trichoderma",
          "Bifidobacterium longum infantis",
          "Bifidobacterium thermophilum",
          "Sporolactobacillus laevolacticus",
          "Candida boidinii",
          "Streptomyces abikoensis",
          "Pseudomonas oryzihabitans",
          "Streptomyces griseus subsp. griseus",
          "Tetradesmus obliquus",
          "Hylemonella gracilis",
          "Delftia acidovorans",
          "Hannaella oryzae",
          "Cyberlindnera jadinii",
          "Pseudomonas stutzeri",
          "Udeniomyces megalosporus",
          "Guehomyces pullulans",
          "Penicillium spinulosum",
          "Alexandrium tamarense",
          "Bensingtonia thailandica",
          "Pichia membranifaciens",
          "Coprinopsis cinerea",
          "Rhizobium",
          "Chlorella sp.",
          "Aspergillus nidulans",
          "Clostridium sporogenes",
          "Micromonospora sp.",
          "Streptomyces albidoflavus",
          "Aeromonas caviae",
          "Levilactobacillus brevis",
          "Aspergillus chevalieri",
          "Aspergillus parasiticus",
          "Aspergillus terreus",
          "Aspergillus penicillioides",
          "Pseudomonas syringae",
          "Kazachstania servazzii",
          "Listeria monocytogenes",
          "Derxomyces mrakii",
          "Bifidobacterium breve",
          "Candida succiphila",
          "Penicillium glabrum",
          "Penicillium janthinellum",
          "Paecilomyces variotii",
          "Candida parapsilosis",
          "Vulcanisaeta distributa",
          "Bulleromyces albus",
          "Vibrio vulnificus",
          "Aeromonas salmonicida salmonicida",
          "Enterococcus faecalis",
          "Starmerella etchellsii",
          "Cutibacterium acnes acnes",
          "Aspergillus clavatus",
          "Fusarium solani",
          "Methylorubrum zatmanii",
          "Raffaelea quercivora",
          "Bifidobacterium pseudolongum",
          "Fusarium oxysporum melonis",
          "Aggregatibacter actinomycetemcomitans",
          "Mycoplasma sp.",
          "Talaromyces minioluteus",
          "Brevundimonas diminuta",
          "Pseudomonas oleovorans",
          "Cladosporium colocasiae",
          "Cladophialophora tumulicola",
          "Passalora fulva",
          "Sporidiobolus salmonicolor"
         ],
         "xaxis": "x",
         "y": [
          365,
          201,
          168,
          132,
          126,
          114,
          110,
          102,
          96,
          94,
          89,
          88,
          78,
          76,
          75,
          74,
          72,
          72,
          71,
          69,
          68,
          66,
          62,
          56,
          54,
          51,
          51,
          47,
          47,
          45,
          43,
          42,
          42,
          42,
          41,
          40,
          40,
          39,
          37,
          37,
          36,
          36,
          36,
          36,
          35,
          34,
          34,
          34,
          34,
          34,
          34,
          33,
          33,
          32,
          32,
          32,
          32,
          32,
          31,
          31,
          31,
          30,
          30,
          30,
          29,
          29,
          28,
          28,
          28,
          28,
          28,
          28,
          27,
          27,
          27,
          27,
          27,
          27,
          27,
          26,
          26,
          26,
          26,
          26,
          25,
          25,
          25,
          25,
          24,
          24,
          24,
          24,
          24,
          24,
          24,
          23,
          23,
          23,
          23,
          23,
          23,
          23,
          23,
          22,
          22,
          22,
          22,
          22,
          22,
          22,
          22,
          22,
          22,
          21,
          21,
          21,
          21,
          21,
          21,
          21,
          21,
          21,
          20,
          20,
          20,
          20,
          20,
          20,
          20,
          20,
          20,
          20,
          20,
          20,
          20,
          20,
          20,
          19,
          19,
          19,
          19,
          19,
          19,
          19,
          19,
          19,
          18,
          18,
          18,
          18,
          18,
          18,
          18,
          18,
          18,
          18,
          18,
          18,
          18,
          18,
          17,
          17,
          17,
          17,
          17,
          17,
          16,
          16,
          16,
          16,
          16,
          16,
          16,
          16,
          16,
          16,
          16,
          16,
          16,
          16,
          16,
          16,
          16,
          16,
          16,
          16,
          15,
          15,
          15,
          15,
          15,
          15,
          15,
          15,
          15,
          15,
          15,
          15,
          15,
          15
         ],
         "yaxis": "y"
        }
       ],
       "layout": {
        "barmode": "relative",
        "legend": {
         "tracegroupgap": 0
        },
        "template": {
         "data": {
          "bar": [
           {
            "error_x": {
             "color": "#2a3f5f"
            },
            "error_y": {
             "color": "#2a3f5f"
            },
            "marker": {
             "line": {
              "color": "#E5ECF6",
              "width": 0.5
             },
             "pattern": {
              "fillmode": "overlay",
              "size": 10,
              "solidity": 0.2
             }
            },
            "type": "bar"
           }
          ],
          "barpolar": [
           {
            "marker": {
             "line": {
              "color": "#E5ECF6",
              "width": 0.5
             },
             "pattern": {
              "fillmode": "overlay",
              "size": 10,
              "solidity": 0.2
             }
            },
            "type": "barpolar"
           }
          ],
          "carpet": [
           {
            "aaxis": {
             "endlinecolor": "#2a3f5f",
             "gridcolor": "white",
             "linecolor": "white",
             "minorgridcolor": "white",
             "startlinecolor": "#2a3f5f"
            },
            "baxis": {
             "endlinecolor": "#2a3f5f",
             "gridcolor": "white",
             "linecolor": "white",
             "minorgridcolor": "white",
             "startlinecolor": "#2a3f5f"
            },
            "type": "carpet"
           }
          ],
          "choropleth": [
           {
            "colorbar": {
             "outlinewidth": 0,
             "ticks": ""
            },
            "type": "choropleth"
           }
          ],
          "contour": [
           {
            "colorbar": {
             "outlinewidth": 0,
             "ticks": ""
            },
            "colorscale": [
             [
              0,
              "#0d0887"
             ],
             [
              0.1111111111111111,
              "#46039f"
             ],
             [
              0.2222222222222222,
              "#7201a8"
             ],
             [
              0.3333333333333333,
              "#9c179e"
             ],
             [
              0.4444444444444444,
              "#bd3786"
             ],
             [
              0.5555555555555556,
              "#d8576b"
             ],
             [
              0.6666666666666666,
              "#ed7953"
             ],
             [
              0.7777777777777778,
              "#fb9f3a"
             ],
             [
              0.8888888888888888,
              "#fdca26"
             ],
             [
              1,
              "#f0f921"
             ]
            ],
            "type": "contour"
           }
          ],
          "contourcarpet": [
           {
            "colorbar": {
             "outlinewidth": 0,
             "ticks": ""
            },
            "type": "contourcarpet"
           }
          ],
          "heatmap": [
           {
            "colorbar": {
             "outlinewidth": 0,
             "ticks": ""
            },
            "colorscale": [
             [
              0,
              "#0d0887"
             ],
             [
              0.1111111111111111,
              "#46039f"
             ],
             [
              0.2222222222222222,
              "#7201a8"
             ],
             [
              0.3333333333333333,
              "#9c179e"
             ],
             [
              0.4444444444444444,
              "#bd3786"
             ],
             [
              0.5555555555555556,
              "#d8576b"
             ],
             [
              0.6666666666666666,
              "#ed7953"
             ],
             [
              0.7777777777777778,
              "#fb9f3a"
             ],
             [
              0.8888888888888888,
              "#fdca26"
             ],
             [
              1,
              "#f0f921"
             ]
            ],
            "type": "heatmap"
           }
          ],
          "heatmapgl": [
           {
            "colorbar": {
             "outlinewidth": 0,
             "ticks": ""
            },
            "colorscale": [
             [
              0,
              "#0d0887"
             ],
             [
              0.1111111111111111,
              "#46039f"
             ],
             [
              0.2222222222222222,
              "#7201a8"
             ],
             [
              0.3333333333333333,
              "#9c179e"
             ],
             [
              0.4444444444444444,
              "#bd3786"
             ],
             [
              0.5555555555555556,
              "#d8576b"
             ],
             [
              0.6666666666666666,
              "#ed7953"
             ],
             [
              0.7777777777777778,
              "#fb9f3a"
             ],
             [
              0.8888888888888888,
              "#fdca26"
             ],
             [
              1,
              "#f0f921"
             ]
            ],
            "type": "heatmapgl"
           }
          ],
          "histogram": [
           {
            "marker": {
             "pattern": {
              "fillmode": "overlay",
              "size": 10,
              "solidity": 0.2
             }
            },
            "type": "histogram"
           }
          ],
          "histogram2d": [
           {
            "colorbar": {
             "outlinewidth": 0,
             "ticks": ""
            },
            "colorscale": [
             [
              0,
              "#0d0887"
             ],
             [
              0.1111111111111111,
              "#46039f"
             ],
             [
              0.2222222222222222,
              "#7201a8"
             ],
             [
              0.3333333333333333,
              "#9c179e"
             ],
             [
              0.4444444444444444,
              "#bd3786"
             ],
             [
              0.5555555555555556,
              "#d8576b"
             ],
             [
              0.6666666666666666,
              "#ed7953"
             ],
             [
              0.7777777777777778,
              "#fb9f3a"
             ],
             [
              0.8888888888888888,
              "#fdca26"
             ],
             [
              1,
              "#f0f921"
             ]
            ],
            "type": "histogram2d"
           }
          ],
          "histogram2dcontour": [
           {
            "colorbar": {
             "outlinewidth": 0,
             "ticks": ""
            },
            "colorscale": [
             [
              0,
              "#0d0887"
             ],
             [
              0.1111111111111111,
              "#46039f"
             ],
             [
              0.2222222222222222,
              "#7201a8"
             ],
             [
              0.3333333333333333,
              "#9c179e"
             ],
             [
              0.4444444444444444,
              "#bd3786"
             ],
             [
              0.5555555555555556,
              "#d8576b"
             ],
             [
              0.6666666666666666,
              "#ed7953"
             ],
             [
              0.7777777777777778,
              "#fb9f3a"
             ],
             [
              0.8888888888888888,
              "#fdca26"
             ],
             [
              1,
              "#f0f921"
             ]
            ],
            "type": "histogram2dcontour"
           }
          ],
          "mesh3d": [
           {
            "colorbar": {
             "outlinewidth": 0,
             "ticks": ""
            },
            "type": "mesh3d"
           }
          ],
          "parcoords": [
           {
            "line": {
             "colorbar": {
              "outlinewidth": 0,
              "ticks": ""
             }
            },
            "type": "parcoords"
           }
          ],
          "pie": [
           {
            "automargin": true,
            "type": "pie"
           }
          ],
          "scatter": [
           {
            "fillpattern": {
             "fillmode": "overlay",
             "size": 10,
             "solidity": 0.2
            },
            "type": "scatter"
           }
          ],
          "scatter3d": [
           {
            "line": {
             "colorbar": {
              "outlinewidth": 0,
              "ticks": ""
             }
            },
            "marker": {
             "colorbar": {
              "outlinewidth": 0,
              "ticks": ""
             }
            },
            "type": "scatter3d"
           }
          ],
          "scattercarpet": [
           {
            "marker": {
             "colorbar": {
              "outlinewidth": 0,
              "ticks": ""
             }
            },
            "type": "scattercarpet"
           }
          ],
          "scattergeo": [
           {
            "marker": {
             "colorbar": {
              "outlinewidth": 0,
              "ticks": ""
             }
            },
            "type": "scattergeo"
           }
          ],
          "scattergl": [
           {
            "marker": {
             "colorbar": {
              "outlinewidth": 0,
              "ticks": ""
             }
            },
            "type": "scattergl"
           }
          ],
          "scattermapbox": [
           {
            "marker": {
             "colorbar": {
              "outlinewidth": 0,
              "ticks": ""
             }
            },
            "type": "scattermapbox"
           }
          ],
          "scatterpolar": [
           {
            "marker": {
             "colorbar": {
              "outlinewidth": 0,
              "ticks": ""
             }
            },
            "type": "scatterpolar"
           }
          ],
          "scatterpolargl": [
           {
            "marker": {
             "colorbar": {
              "outlinewidth": 0,
              "ticks": ""
             }
            },
            "type": "scatterpolargl"
           }
          ],
          "scatterternary": [
           {
            "marker": {
             "colorbar": {
              "outlinewidth": 0,
              "ticks": ""
             }
            },
            "type": "scatterternary"
           }
          ],
          "surface": [
           {
            "colorbar": {
             "outlinewidth": 0,
             "ticks": ""
            },
            "colorscale": [
             [
              0,
              "#0d0887"
             ],
             [
              0.1111111111111111,
              "#46039f"
             ],
             [
              0.2222222222222222,
              "#7201a8"
             ],
             [
              0.3333333333333333,
              "#9c179e"
             ],
             [
              0.4444444444444444,
              "#bd3786"
             ],
             [
              0.5555555555555556,
              "#d8576b"
             ],
             [
              0.6666666666666666,
              "#ed7953"
             ],
             [
              0.7777777777777778,
              "#fb9f3a"
             ],
             [
              0.8888888888888888,
              "#fdca26"
             ],
             [
              1,
              "#f0f921"
             ]
            ],
            "type": "surface"
           }
          ],
          "table": [
           {
            "cells": {
             "fill": {
              "color": "#EBF0F8"
             },
             "line": {
              "color": "white"
             }
            },
            "header": {
             "fill": {
              "color": "#C8D4E3"
             },
             "line": {
              "color": "white"
             }
            },
            "type": "table"
           }
          ]
         },
         "layout": {
          "annotationdefaults": {
           "arrowcolor": "#2a3f5f",
           "arrowhead": 0,
           "arrowwidth": 1
          },
          "autotypenumbers": "strict",
          "coloraxis": {
           "colorbar": {
            "outlinewidth": 0,
            "ticks": ""
           }
          },
          "colorscale": {
           "diverging": [
            [
             0,
             "#8e0152"
            ],
            [
             0.1,
             "#c51b7d"
            ],
            [
             0.2,
             "#de77ae"
            ],
            [
             0.3,
             "#f1b6da"
            ],
            [
             0.4,
             "#fde0ef"
            ],
            [
             0.5,
             "#f7f7f7"
            ],
            [
             0.6,
             "#e6f5d0"
            ],
            [
             0.7,
             "#b8e186"
            ],
            [
             0.8,
             "#7fbc41"
            ],
            [
             0.9,
             "#4d9221"
            ],
            [
             1,
             "#276419"
            ]
           ],
           "sequential": [
            [
             0,
             "#0d0887"
            ],
            [
             0.1111111111111111,
             "#46039f"
            ],
            [
             0.2222222222222222,
             "#7201a8"
            ],
            [
             0.3333333333333333,
             "#9c179e"
            ],
            [
             0.4444444444444444,
             "#bd3786"
            ],
            [
             0.5555555555555556,
             "#d8576b"
            ],
            [
             0.6666666666666666,
             "#ed7953"
            ],
            [
             0.7777777777777778,
             "#fb9f3a"
            ],
            [
             0.8888888888888888,
             "#fdca26"
            ],
            [
             1,
             "#f0f921"
            ]
           ],
           "sequentialminus": [
            [
             0,
             "#0d0887"
            ],
            [
             0.1111111111111111,
             "#46039f"
            ],
            [
             0.2222222222222222,
             "#7201a8"
            ],
            [
             0.3333333333333333,
             "#9c179e"
            ],
            [
             0.4444444444444444,
             "#bd3786"
            ],
            [
             0.5555555555555556,
             "#d8576b"
            ],
            [
             0.6666666666666666,
             "#ed7953"
            ],
            [
             0.7777777777777778,
             "#fb9f3a"
            ],
            [
             0.8888888888888888,
             "#fdca26"
            ],
            [
             1,
             "#f0f921"
            ]
           ]
          },
          "colorway": [
           "#636efa",
           "#EF553B",
           "#00cc96",
           "#ab63fa",
           "#FFA15A",
           "#19d3f3",
           "#FF6692",
           "#B6E880",
           "#FF97FF",
           "#FECB52"
          ],
          "font": {
           "color": "#2a3f5f"
          },
          "geo": {
           "bgcolor": "white",
           "lakecolor": "white",
           "landcolor": "#E5ECF6",
           "showlakes": true,
           "showland": true,
           "subunitcolor": "white"
          },
          "hoverlabel": {
           "align": "left"
          },
          "hovermode": "closest",
          "mapbox": {
           "style": "light"
          },
          "paper_bgcolor": "white",
          "plot_bgcolor": "#E5ECF6",
          "polar": {
           "angularaxis": {
            "gridcolor": "white",
            "linecolor": "white",
            "ticks": ""
           },
           "bgcolor": "#E5ECF6",
           "radialaxis": {
            "gridcolor": "white",
            "linecolor": "white",
            "ticks": ""
           }
          },
          "scene": {
           "xaxis": {
            "backgroundcolor": "#E5ECF6",
            "gridcolor": "white",
            "gridwidth": 2,
            "linecolor": "white",
            "showbackground": true,
            "ticks": "",
            "zerolinecolor": "white"
           },
           "yaxis": {
            "backgroundcolor": "#E5ECF6",
            "gridcolor": "white",
            "gridwidth": 2,
            "linecolor": "white",
            "showbackground": true,
            "ticks": "",
            "zerolinecolor": "white"
           },
           "zaxis": {
            "backgroundcolor": "#E5ECF6",
            "gridcolor": "white",
            "gridwidth": 2,
            "linecolor": "white",
            "showbackground": true,
            "ticks": "",
            "zerolinecolor": "white"
           }
          },
          "shapedefaults": {
           "line": {
            "color": "#2a3f5f"
           }
          },
          "ternary": {
           "aaxis": {
            "gridcolor": "white",
            "linecolor": "white",
            "ticks": ""
           },
           "baxis": {
            "gridcolor": "white",
            "linecolor": "white",
            "ticks": ""
           },
           "bgcolor": "#E5ECF6",
           "caxis": {
            "gridcolor": "white",
            "linecolor": "white",
            "ticks": ""
           }
          },
          "title": {
           "x": 0.05
          },
          "xaxis": {
           "automargin": true,
           "gridcolor": "white",
           "linecolor": "white",
           "ticks": "",
           "title": {
            "standoff": 15
           },
           "zerolinecolor": "white",
           "zerolinewidth": 2
          },
          "yaxis": {
           "automargin": true,
           "gridcolor": "white",
           "linecolor": "white",
           "ticks": "",
           "title": {
            "standoff": 15
           },
           "zerolinecolor": "white",
           "zerolinewidth": 2
          }
         }
        },
        "title": {
         "text": "Strain count by species (Top 200)"
        },
        "xaxis": {
         "anchor": "y",
         "domain": [
          0,
          1
         ],
         "showticklabels": true,
         "title": {
          "text": ""
         },
         "visible": true
        },
        "yaxis": {
         "anchor": "x",
         "domain": [
          0,
          1
         ],
         "showticklabels": true,
         "title": {
          "text": ""
         },
         "visible": true
        }
       }
      }
     },
     "metadata": {},
     "output_type": "display_data"
    }
   ],
   "source": [
    "import plotly.express as px\n",
    "# Plot the occurrence of enzymes across all of our selected taxa \n",
    "fig = px.bar(\n",
    "    data_frame = md_df.value_counts('species').head(200).reset_index(),\n",
    "    x=\"species\",\n",
    "    y=\"count\",\n",
    "    \n",
    "    title=\"Strain count by species (Top 200)\"\n",
    ")\n",
    "fig.update_xaxes(title='', visible=True, showticklabels=True)\n",
    "fig.update_yaxes(title='', visible=True, showticklabels=True)\n",
    "fig.show()"
   ]
  },
  {
   "cell_type": "markdown",
   "id": "3cb6f57d-a201-4ca5-99f7-5cbaf9bd09a9",
   "metadata": {},
   "source": [
    "### BacDive taxa2ec (bacdive_id)\n",
    "\n",
    "This table returns ec numbers, environmental info, metabolite data, taxonomic information, culturing info, and more based on an input of bacdive id's"
   ]
  },
  {
   "cell_type": "code",
   "execution_count": 7,
   "id": "2c967ce9-5eea-41f2-898b-5f16b38f17a9",
   "metadata": {
    "tags": []
   },
   "outputs": [],
   "source": [
    "import modules.bacdive as bd"
   ]
  },
  {
   "cell_type": "markdown",
   "id": "09de1c39-34a6-486e-bc8d-6bca303ddbf0",
   "metadata": {},
   "source": [
    "**[1] Initializing BacDive** (skip to [3] after first time)"
   ]
  },
  {
   "cell_type": "code",
   "execution_count": 8,
   "id": "52fd7ec8-7a40-469a-91eb-788817d1f540",
   "metadata": {
    "tags": []
   },
   "outputs": [
    {
     "data": {
      "text/plain": [
       "array(['2912', '2941', '2885', ..., '159029', '158241', '131423'],\n",
       "      dtype=object)"
      ]
     },
     "execution_count": 8,
     "metadata": {},
     "output_type": "execute_result"
    }
   ],
   "source": [
    "# Read MediaDive master table to retrieve bacdive strain id's\n",
    "md_df = pd.read_csv(os.path.join(DATA_DIR, \"mediadive\", \"mediadive-all.csv\"), sep=\";\")\n",
    "# Make bacdive strain id's into a list\n",
    "bd_id_list = md_df[\"bacdive_id\"].dropna().astype(int).astype(str).unique()\n",
    "bd_id_list"
   ]
  },
  {
   "cell_type": "code",
   "execution_count": 9,
   "id": "9c7a5242-9294-4d0e-bf08-1f0992fbadc7",
   "metadata": {
    "tags": []
   },
   "outputs": [
    {
     "data": {
      "text/plain": [
       "13735"
      ]
     },
     "execution_count": 9,
     "metadata": {},
     "output_type": "execute_result"
    }
   ],
   "source": [
    "len(bd_id_list)"
   ]
  },
  {
   "cell_type": "markdown",
   "id": "6580575f-4f1d-4f47-8326-f03e6fd3ddf9",
   "metadata": {},
   "source": [
    "**[2] Retrieval of BacDive info** "
   ]
  },
  {
   "cell_type": "code",
   "execution_count": 10,
   "id": "40ede006-bc53-4d41-9a97-06afa2779d02",
   "metadata": {
    "tags": []
   },
   "outputs": [
    {
     "name": "stdout",
     "output_type": "stream",
     "text": [
      "-- Authentication successful --\n"
     ]
    },
    {
     "name": "stderr",
     "output_type": "stream",
     "text": [
      "100%|██████████| 138/138 [04:03<00:00,  1.76s/it]\n"
     ]
    },
    {
     "data": {
      "text/html": [
       "<div>\n",
       "<style scoped>\n",
       "    .dataframe tbody tr th:only-of-type {\n",
       "        vertical-align: middle;\n",
       "    }\n",
       "\n",
       "    .dataframe tbody tr th {\n",
       "        vertical-align: top;\n",
       "    }\n",
       "\n",
       "    .dataframe thead th {\n",
       "        text-align: right;\n",
       "    }\n",
       "</style>\n",
       "<table border=\"1\" class=\"dataframe\">\n",
       "  <thead>\n",
       "    <tr style=\"text-align: right;\">\n",
       "      <th></th>\n",
       "      <th>general_@ref</th>\n",
       "      <th>bacdive_id</th>\n",
       "      <th>dsmz_id</th>\n",
       "      <th>general_keywords</th>\n",
       "      <th>general_description</th>\n",
       "      <th>taxon_id</th>\n",
       "      <th>ncbi_tax_id_matching_level</th>\n",
       "      <th>strain_history_@ref</th>\n",
       "      <th>strain_history_history</th>\n",
       "      <th>general_doi</th>\n",
       "      <th>...</th>\n",
       "      <th>api_id32sta_beta_gur</th>\n",
       "      <th>physiology_and_metabolism_murein</th>\n",
       "      <th>physiology_and_metabolism_api_list</th>\n",
       "      <th>isolation_enrichment_culture</th>\n",
       "      <th>isolation_enrichment_culture_temperature</th>\n",
       "      <th>multicellular_morphology_complex_color</th>\n",
       "      <th>api_list_beta_hem</th>\n",
       "      <th>metabolite_tests_citrate_test</th>\n",
       "      <th>compound_production_excreted</th>\n",
       "      <th>isolation_enrichment_culture_duration</th>\n",
       "    </tr>\n",
       "  </thead>\n",
       "  <tbody>\n",
       "    <tr>\n",
       "      <th>0</th>\n",
       "      <td>21113</td>\n",
       "      <td>24370</td>\n",
       "      <td>11532.0</td>\n",
       "      <td>[Bacteria, human pathogen]</td>\n",
       "      <td>Pseudomonas fluorescens PWD34 is a human patho...</td>\n",
       "      <td>294</td>\n",
       "      <td>species</td>\n",
       "      <td>21113.0</td>\n",
       "      <td>&lt;- W. Duetz, RIVM, Bilthoven; PWD34</td>\n",
       "      <td>10.13145/bacdive24370.20240510.9</td>\n",
       "      <td>...</td>\n",
       "      <td>NaN</td>\n",
       "      <td>NaN</td>\n",
       "      <td>NaN</td>\n",
       "      <td>NaN</td>\n",
       "      <td>NaN</td>\n",
       "      <td>NaN</td>\n",
       "      <td>NaN</td>\n",
       "      <td>NaN</td>\n",
       "      <td>NaN</td>\n",
       "      <td>NaN</td>\n",
       "    </tr>\n",
       "    <tr>\n",
       "      <th>1</th>\n",
       "      <td>21111</td>\n",
       "      <td>24368</td>\n",
       "      <td>304.0</td>\n",
       "      <td>Bacteria</td>\n",
       "      <td>Pseudomonas sp. DSM 304 is a bacterium of the ...</td>\n",
       "      <td>306</td>\n",
       "      <td>species</td>\n",
       "      <td>21111.0</td>\n",
       "      <td>&lt;- IMG, 1591 (&lt;i&gt;P. fluorescens&lt;/i&gt;) &lt;- H. Stolp</td>\n",
       "      <td>10.13145/bacdive24368.20240510.9</td>\n",
       "      <td>...</td>\n",
       "      <td>NaN</td>\n",
       "      <td>NaN</td>\n",
       "      <td>NaN</td>\n",
       "      <td>NaN</td>\n",
       "      <td>NaN</td>\n",
       "      <td>NaN</td>\n",
       "      <td>NaN</td>\n",
       "      <td>NaN</td>\n",
       "      <td>NaN</td>\n",
       "      <td>NaN</td>\n",
       "    </tr>\n",
       "    <tr>\n",
       "      <th>2</th>\n",
       "      <td>20542</td>\n",
       "      <td>23995</td>\n",
       "      <td>30059.0</td>\n",
       "      <td>Bacteria</td>\n",
       "      <td>Lelliottia amnigena 21824 is a bacterium that ...</td>\n",
       "      <td>61646</td>\n",
       "      <td>species</td>\n",
       "      <td>20542.0</td>\n",
       "      <td>&lt;- Bakteriologisches Institut der Sueddeutsche...</td>\n",
       "      <td>10.13145/bacdive23995.20240510.9</td>\n",
       "      <td>...</td>\n",
       "      <td>NaN</td>\n",
       "      <td>NaN</td>\n",
       "      <td>NaN</td>\n",
       "      <td>NaN</td>\n",
       "      <td>NaN</td>\n",
       "      <td>NaN</td>\n",
       "      <td>NaN</td>\n",
       "      <td>NaN</td>\n",
       "      <td>NaN</td>\n",
       "      <td>NaN</td>\n",
       "    </tr>\n",
       "    <tr>\n",
       "      <th>3</th>\n",
       "      <td>1479</td>\n",
       "      <td>17621</td>\n",
       "      <td>3849.0</td>\n",
       "      <td>[16S sequence, Bacteria, plant pathogen]</td>\n",
       "      <td>Xanthomonas citri subsp. malvacearum XM13 is a...</td>\n",
       "      <td>346</td>\n",
       "      <td>species</td>\n",
       "      <td>NaN</td>\n",
       "      <td>NaN</td>\n",
       "      <td>10.13145/bacdive17621.20240510.9</td>\n",
       "      <td>...</td>\n",
       "      <td>NaN</td>\n",
       "      <td>NaN</td>\n",
       "      <td>NaN</td>\n",
       "      <td>NaN</td>\n",
       "      <td>NaN</td>\n",
       "      <td>NaN</td>\n",
       "      <td>NaN</td>\n",
       "      <td>NaN</td>\n",
       "      <td>NaN</td>\n",
       "      <td>NaN</td>\n",
       "    </tr>\n",
       "    <tr>\n",
       "      <th>4</th>\n",
       "      <td>1480</td>\n",
       "      <td>17596</td>\n",
       "      <td>3850.0</td>\n",
       "      <td>[genome sequence, Bacteria, obligate aerobe, G...</td>\n",
       "      <td>Xanthomonas campestris DSM 3850 is an obligate...</td>\n",
       "      <td>339</td>\n",
       "      <td>species</td>\n",
       "      <td>NaN</td>\n",
       "      <td>NaN</td>\n",
       "      <td>10.13145/bacdive17596.20240510.9</td>\n",
       "      <td>...</td>\n",
       "      <td>NaN</td>\n",
       "      <td>NaN</td>\n",
       "      <td>NaN</td>\n",
       "      <td>NaN</td>\n",
       "      <td>NaN</td>\n",
       "      <td>NaN</td>\n",
       "      <td>NaN</td>\n",
       "      <td>NaN</td>\n",
       "      <td>NaN</td>\n",
       "      <td>NaN</td>\n",
       "    </tr>\n",
       "  </tbody>\n",
       "</table>\n",
       "<p>5 rows × 838 columns</p>\n",
       "</div>"
      ],
      "text/plain": [
       "   general_@ref  bacdive_id  dsmz_id  \\\n",
       "0         21113       24370  11532.0   \n",
       "1         21111       24368    304.0   \n",
       "2         20542       23995  30059.0   \n",
       "3          1479       17621   3849.0   \n",
       "4          1480       17596   3850.0   \n",
       "\n",
       "                                    general_keywords  \\\n",
       "0                         [Bacteria, human pathogen]   \n",
       "1                                           Bacteria   \n",
       "2                                           Bacteria   \n",
       "3           [16S sequence, Bacteria, plant pathogen]   \n",
       "4  [genome sequence, Bacteria, obligate aerobe, G...   \n",
       "\n",
       "                                 general_description taxon_id  \\\n",
       "0  Pseudomonas fluorescens PWD34 is a human patho...      294   \n",
       "1  Pseudomonas sp. DSM 304 is a bacterium of the ...      306   \n",
       "2  Lelliottia amnigena 21824 is a bacterium that ...    61646   \n",
       "3  Xanthomonas citri subsp. malvacearum XM13 is a...      346   \n",
       "4  Xanthomonas campestris DSM 3850 is an obligate...      339   \n",
       "\n",
       "  ncbi_tax_id_matching_level  strain_history_@ref  \\\n",
       "0                    species              21113.0   \n",
       "1                    species              21111.0   \n",
       "2                    species              20542.0   \n",
       "3                    species                  NaN   \n",
       "4                    species                  NaN   \n",
       "\n",
       "                              strain_history_history  \\\n",
       "0                <- W. Duetz, RIVM, Bilthoven; PWD34   \n",
       "1   <- IMG, 1591 (<i>P. fluorescens</i>) <- H. Stolp   \n",
       "2  <- Bakteriologisches Institut der Sueddeutsche...   \n",
       "3                                                NaN   \n",
       "4                                                NaN   \n",
       "\n",
       "                        general_doi  ...  api_id32sta_beta_gur  \\\n",
       "0  10.13145/bacdive24370.20240510.9  ...                   NaN   \n",
       "1  10.13145/bacdive24368.20240510.9  ...                   NaN   \n",
       "2  10.13145/bacdive23995.20240510.9  ...                   NaN   \n",
       "3  10.13145/bacdive17621.20240510.9  ...                   NaN   \n",
       "4  10.13145/bacdive17596.20240510.9  ...                   NaN   \n",
       "\n",
       "  physiology_and_metabolism_murein physiology_and_metabolism_api_list  \\\n",
       "0                              NaN                                NaN   \n",
       "1                              NaN                                NaN   \n",
       "2                              NaN                                NaN   \n",
       "3                              NaN                                NaN   \n",
       "4                              NaN                                NaN   \n",
       "\n",
       "  isolation_enrichment_culture isolation_enrichment_culture_temperature  \\\n",
       "0                          NaN                                      NaN   \n",
       "1                          NaN                                      NaN   \n",
       "2                          NaN                                      NaN   \n",
       "3                          NaN                                      NaN   \n",
       "4                          NaN                                      NaN   \n",
       "\n",
       "  multicellular_morphology_complex_color api_list_beta_hem  \\\n",
       "0                                    NaN               NaN   \n",
       "1                                    NaN               NaN   \n",
       "2                                    NaN               NaN   \n",
       "3                                    NaN               NaN   \n",
       "4                                    NaN               NaN   \n",
       "\n",
       "  metabolite_tests_citrate_test compound_production_excreted  \\\n",
       "0                           NaN                          NaN   \n",
       "1                           NaN                          NaN   \n",
       "2                           NaN                          NaN   \n",
       "3                           NaN                          NaN   \n",
       "4                           NaN                          NaN   \n",
       "\n",
       "  isolation_enrichment_culture_duration  \n",
       "0                                   NaN  \n",
       "1                                   NaN  \n",
       "2                                   NaN  \n",
       "3                                   NaN  \n",
       "4                                   NaN  \n",
       "\n",
       "[5 rows x 838 columns]"
      ]
     },
     "execution_count": 10,
     "metadata": {},
     "output_type": "execute_result"
    }
   ],
   "source": [
    "# Initialize client\n",
    "client = bacdive.BacdiveClient('wjlowe03@gmail.com', 'UNINA_Bacdive')\n",
    "\n",
    "step = 100\n",
    "bacdive_df = []\n",
    "\n",
    "for idx_start in tqdm(range(0, len(bd_id_list), step)): #status bar\n",
    "    id_list = \";\".join(bd_id_list[idx_start:idx_start+step]) \n",
    "    bacdive_df.append(bd.taxon2ec(id_list=id_list, client=client))\n",
    "\n",
    "bacdive_df = pd.concat(bacdive_df, axis=0, ignore_index=True)\n",
    "bacdive_df = bacdive_df.drop(\"reference\", axis=1)\n",
    "\n",
    "bacdive_df.to_csv(os.path.join(DATA_DIR, \"bacdive\", \"bacdive-all.csv\"), index=False)\n",
    "bacdive_df.head()"
   ]
  },
  {
   "cell_type": "markdown",
   "id": "4b1f1dcc-bd51-4dbc-ba18-869dc6343471",
   "metadata": {},
   "source": [
    "**[3] Final BacDive dataframe**"
   ]
  },
  {
   "cell_type": "code",
   "execution_count": 17,
   "id": "84ab60b8-9433-4dd6-8697-49657145214a",
   "metadata": {},
   "outputs": [
    {
     "data": {
      "text/html": [
       "<div>\n",
       "<style scoped>\n",
       "    .dataframe tbody tr th:only-of-type {\n",
       "        vertical-align: middle;\n",
       "    }\n",
       "\n",
       "    .dataframe tbody tr th {\n",
       "        vertical-align: top;\n",
       "    }\n",
       "\n",
       "    .dataframe thead th {\n",
       "        text-align: right;\n",
       "    }\n",
       "</style>\n",
       "<table border=\"1\" class=\"dataframe\">\n",
       "  <thead>\n",
       "    <tr style=\"text-align: right;\">\n",
       "      <th></th>\n",
       "      <th>general_@ref</th>\n",
       "      <th>bacdive_id</th>\n",
       "      <th>dsmz_id</th>\n",
       "      <th>general_keywords</th>\n",
       "      <th>general_description</th>\n",
       "      <th>taxon_id</th>\n",
       "      <th>ncbi_tax_id_matching_level</th>\n",
       "      <th>strain_history_@ref</th>\n",
       "      <th>strain_history_history</th>\n",
       "      <th>general_doi</th>\n",
       "      <th>...</th>\n",
       "      <th>api_id32sta_beta_gur</th>\n",
       "      <th>physiology_and_metabolism_murein</th>\n",
       "      <th>physiology_and_metabolism_api_list</th>\n",
       "      <th>isolation_enrichment_culture</th>\n",
       "      <th>isolation_enrichment_culture_temperature</th>\n",
       "      <th>multicellular_morphology_complex_color</th>\n",
       "      <th>api_list_beta_hem</th>\n",
       "      <th>metabolite_tests_citrate_test</th>\n",
       "      <th>compound_production_excreted</th>\n",
       "      <th>isolation_enrichment_culture_duration</th>\n",
       "    </tr>\n",
       "  </thead>\n",
       "  <tbody>\n",
       "    <tr>\n",
       "      <th>0</th>\n",
       "      <td>21113</td>\n",
       "      <td>24370</td>\n",
       "      <td>11532.0</td>\n",
       "      <td>['Bacteria', 'human pathogen']</td>\n",
       "      <td>Pseudomonas fluorescens PWD34 is a human patho...</td>\n",
       "      <td>294</td>\n",
       "      <td>species</td>\n",
       "      <td>21113.0</td>\n",
       "      <td>&lt;- W. Duetz, RIVM, Bilthoven; PWD34</td>\n",
       "      <td>10.13145/bacdive24370.20240510.9</td>\n",
       "      <td>...</td>\n",
       "      <td>NaN</td>\n",
       "      <td>NaN</td>\n",
       "      <td>NaN</td>\n",
       "      <td>NaN</td>\n",
       "      <td>NaN</td>\n",
       "      <td>NaN</td>\n",
       "      <td>NaN</td>\n",
       "      <td>NaN</td>\n",
       "      <td>NaN</td>\n",
       "      <td>NaN</td>\n",
       "    </tr>\n",
       "    <tr>\n",
       "      <th>1</th>\n",
       "      <td>21111</td>\n",
       "      <td>24368</td>\n",
       "      <td>304.0</td>\n",
       "      <td>Bacteria</td>\n",
       "      <td>Pseudomonas sp. DSM 304 is a bacterium of the ...</td>\n",
       "      <td>306</td>\n",
       "      <td>species</td>\n",
       "      <td>21111.0</td>\n",
       "      <td>&lt;- IMG, 1591 (&lt;i&gt;P. fluorescens&lt;/i&gt;) &lt;- H. Stolp</td>\n",
       "      <td>10.13145/bacdive24368.20240510.9</td>\n",
       "      <td>...</td>\n",
       "      <td>NaN</td>\n",
       "      <td>NaN</td>\n",
       "      <td>NaN</td>\n",
       "      <td>NaN</td>\n",
       "      <td>NaN</td>\n",
       "      <td>NaN</td>\n",
       "      <td>NaN</td>\n",
       "      <td>NaN</td>\n",
       "      <td>NaN</td>\n",
       "      <td>NaN</td>\n",
       "    </tr>\n",
       "    <tr>\n",
       "      <th>2</th>\n",
       "      <td>20542</td>\n",
       "      <td>23995</td>\n",
       "      <td>30059.0</td>\n",
       "      <td>Bacteria</td>\n",
       "      <td>Lelliottia amnigena 21824 is a bacterium that ...</td>\n",
       "      <td>61646</td>\n",
       "      <td>species</td>\n",
       "      <td>20542.0</td>\n",
       "      <td>&lt;- Bakteriologisches Institut der Sueddeutsche...</td>\n",
       "      <td>10.13145/bacdive23995.20240510.9</td>\n",
       "      <td>...</td>\n",
       "      <td>NaN</td>\n",
       "      <td>NaN</td>\n",
       "      <td>NaN</td>\n",
       "      <td>NaN</td>\n",
       "      <td>NaN</td>\n",
       "      <td>NaN</td>\n",
       "      <td>NaN</td>\n",
       "      <td>NaN</td>\n",
       "      <td>NaN</td>\n",
       "      <td>NaN</td>\n",
       "    </tr>\n",
       "    <tr>\n",
       "      <th>3</th>\n",
       "      <td>1479</td>\n",
       "      <td>17621</td>\n",
       "      <td>3849.0</td>\n",
       "      <td>['16S sequence', 'Bacteria', 'plant pathogen']</td>\n",
       "      <td>Xanthomonas citri subsp. malvacearum XM13 is a...</td>\n",
       "      <td>346</td>\n",
       "      <td>species</td>\n",
       "      <td>NaN</td>\n",
       "      <td>NaN</td>\n",
       "      <td>10.13145/bacdive17621.20240510.9</td>\n",
       "      <td>...</td>\n",
       "      <td>NaN</td>\n",
       "      <td>NaN</td>\n",
       "      <td>NaN</td>\n",
       "      <td>NaN</td>\n",
       "      <td>NaN</td>\n",
       "      <td>NaN</td>\n",
       "      <td>NaN</td>\n",
       "      <td>NaN</td>\n",
       "      <td>NaN</td>\n",
       "      <td>NaN</td>\n",
       "    </tr>\n",
       "    <tr>\n",
       "      <th>4</th>\n",
       "      <td>1480</td>\n",
       "      <td>17596</td>\n",
       "      <td>3850.0</td>\n",
       "      <td>['genome sequence', 'Bacteria', 'obligate aero...</td>\n",
       "      <td>Xanthomonas campestris DSM 3850 is an obligate...</td>\n",
       "      <td>339</td>\n",
       "      <td>species</td>\n",
       "      <td>NaN</td>\n",
       "      <td>NaN</td>\n",
       "      <td>10.13145/bacdive17596.20240510.9</td>\n",
       "      <td>...</td>\n",
       "      <td>NaN</td>\n",
       "      <td>NaN</td>\n",
       "      <td>NaN</td>\n",
       "      <td>NaN</td>\n",
       "      <td>NaN</td>\n",
       "      <td>NaN</td>\n",
       "      <td>NaN</td>\n",
       "      <td>NaN</td>\n",
       "      <td>NaN</td>\n",
       "      <td>NaN</td>\n",
       "    </tr>\n",
       "  </tbody>\n",
       "</table>\n",
       "<p>5 rows × 838 columns</p>\n",
       "</div>"
      ],
      "text/plain": [
       "   general_@ref  bacdive_id  dsmz_id  \\\n",
       "0         21113       24370  11532.0   \n",
       "1         21111       24368    304.0   \n",
       "2         20542       23995  30059.0   \n",
       "3          1479       17621   3849.0   \n",
       "4          1480       17596   3850.0   \n",
       "\n",
       "                                    general_keywords  \\\n",
       "0                     ['Bacteria', 'human pathogen']   \n",
       "1                                           Bacteria   \n",
       "2                                           Bacteria   \n",
       "3     ['16S sequence', 'Bacteria', 'plant pathogen']   \n",
       "4  ['genome sequence', 'Bacteria', 'obligate aero...   \n",
       "\n",
       "                                 general_description taxon_id  \\\n",
       "0  Pseudomonas fluorescens PWD34 is a human patho...      294   \n",
       "1  Pseudomonas sp. DSM 304 is a bacterium of the ...      306   \n",
       "2  Lelliottia amnigena 21824 is a bacterium that ...    61646   \n",
       "3  Xanthomonas citri subsp. malvacearum XM13 is a...      346   \n",
       "4  Xanthomonas campestris DSM 3850 is an obligate...      339   \n",
       "\n",
       "  ncbi_tax_id_matching_level  strain_history_@ref  \\\n",
       "0                    species              21113.0   \n",
       "1                    species              21111.0   \n",
       "2                    species              20542.0   \n",
       "3                    species                  NaN   \n",
       "4                    species                  NaN   \n",
       "\n",
       "                              strain_history_history  \\\n",
       "0                <- W. Duetz, RIVM, Bilthoven; PWD34   \n",
       "1   <- IMG, 1591 (<i>P. fluorescens</i>) <- H. Stolp   \n",
       "2  <- Bakteriologisches Institut der Sueddeutsche...   \n",
       "3                                                NaN   \n",
       "4                                                NaN   \n",
       "\n",
       "                        general_doi  ...  api_id32sta_beta_gur  \\\n",
       "0  10.13145/bacdive24370.20240510.9  ...                   NaN   \n",
       "1  10.13145/bacdive24368.20240510.9  ...                   NaN   \n",
       "2  10.13145/bacdive23995.20240510.9  ...                   NaN   \n",
       "3  10.13145/bacdive17621.20240510.9  ...                   NaN   \n",
       "4  10.13145/bacdive17596.20240510.9  ...                   NaN   \n",
       "\n",
       "  physiology_and_metabolism_murein physiology_and_metabolism_api_list  \\\n",
       "0                              NaN                                NaN   \n",
       "1                              NaN                                NaN   \n",
       "2                              NaN                                NaN   \n",
       "3                              NaN                                NaN   \n",
       "4                              NaN                                NaN   \n",
       "\n",
       "  isolation_enrichment_culture isolation_enrichment_culture_temperature  \\\n",
       "0                          NaN                                      NaN   \n",
       "1                          NaN                                      NaN   \n",
       "2                          NaN                                      NaN   \n",
       "3                          NaN                                      NaN   \n",
       "4                          NaN                                      NaN   \n",
       "\n",
       "  multicellular_morphology_complex_color api_list_beta_hem  \\\n",
       "0                                    NaN               NaN   \n",
       "1                                    NaN               NaN   \n",
       "2                                    NaN               NaN   \n",
       "3                                    NaN               NaN   \n",
       "4                                    NaN               NaN   \n",
       "\n",
       "  metabolite_tests_citrate_test compound_production_excreted  \\\n",
       "0                           NaN                          NaN   \n",
       "1                           NaN                          NaN   \n",
       "2                           NaN                          NaN   \n",
       "3                           NaN                          NaN   \n",
       "4                           NaN                          NaN   \n",
       "\n",
       "  isolation_enrichment_culture_duration  \n",
       "0                                   NaN  \n",
       "1                                   NaN  \n",
       "2                                   NaN  \n",
       "3                                   NaN  \n",
       "4                                   NaN  \n",
       "\n",
       "[5 rows x 838 columns]"
      ]
     },
     "execution_count": 17,
     "metadata": {},
     "output_type": "execute_result"
    }
   ],
   "source": [
    "bacdive_df = pd.read_csv('~/Desktop/code/data/bacdive/bacdive-all.csv', low_memory=False)\n",
    "bacdive_df.head()"
   ]
  },
  {
   "cell_type": "markdown",
   "id": "e6245c2c-255f-47ca-80ac-fdda620297f0",
   "metadata": {},
   "source": [
    "### UniProtKB taxa2ec (species name)\n",
    "\n",
    "This table returns ec numbers and identifier information for an input of species"
   ]
  },
  {
   "cell_type": "code",
   "execution_count": 12,
   "id": "259a910e-8bc2-4935-a8cd-bdc9ba78690a",
   "metadata": {
    "tags": []
   },
   "outputs": [],
   "source": [
    "import modules.uniprotkb as uni"
   ]
  },
  {
   "cell_type": "markdown",
   "id": "90aebcb8-85b9-4788-b7fd-7b68c6530af2",
   "metadata": {},
   "source": [
    "**[1] Format species name from the md_df MediaDive table for querying UniProtKB** (skip to [3] after first time)"
   ]
  },
  {
   "cell_type": "code",
   "execution_count": 13,
   "id": "efddda9d-ec34-42c9-b1f0-992137d07048",
   "metadata": {
    "tags": []
   },
   "outputs": [
    {
     "data": {
      "text/plain": [
       "12391"
      ]
     },
     "execution_count": 13,
     "metadata": {},
     "output_type": "execute_result"
    }
   ],
   "source": [
    "species_df = md_df.copy()\n",
    "species_df['species'] = species_df['species'].replace(' ','+', regex=True)\n",
    "species_list = set(species_df['species'].to_list())\n",
    "len(species_list)"
   ]
  },
  {
   "cell_type": "markdown",
   "id": "0ee17041-3222-49b3-b3fd-ab4fd127939d",
   "metadata": {
    "tags": []
   },
   "source": [
    "**[2] Retrieval of UniProtKB info**"
   ]
  },
  {
   "cell_type": "code",
   "execution_count": 14,
   "id": "a2d4b2af-4bb6-4547-b08d-18ffea49822f",
   "metadata": {
    "tags": []
   },
   "outputs": [
    {
     "name": "stderr",
     "output_type": "stream",
     "text": [
      "Processing species:  21%|██▏       | 2635/12391 [05:53<13:21, 12.18it/s]  "
     ]
    },
    {
     "name": "stdout",
     "output_type": "stream",
     "text": [
      "HTTP error occurred for Sphingobacterium+composti+[homonym]: 400 Client Error: Bad Request for url: https://rest.uniprot.org/uniprotkb/search?fields=accession%2Cec%2Corganism_name%2Corganism_id%2Ccc_cofactor%2Cid&format=tsv&size=500&query=%28organism_name%3ASphingobacterium+composti+%5Bhomonym%5D%29+AND+%28ec%3A*%29+AND+%28reviewed%3Atrue%29\n"
     ]
    },
    {
     "name": "stderr",
     "output_type": "stream",
     "text": [
      "Processing species:  84%|████████▎ | 10364/12391 [22:29<03:27,  9.78it/s] "
     ]
    },
    {
     "name": "stdout",
     "output_type": "stream",
     "text": [
      "HTTP error occurred for Protocrea+illino&euml;nsis: 400 Client Error: Bad Request for url: https://rest.uniprot.org/uniprotkb/search?fields=accession%2Cec%2Corganism_name%2Corganism_id%2Ccc_cofactor%2Cid&format=tsv&size=500&query=%28organism_name%3AProtocrea+illino&euml;nsis%29+AND+%28ec%3A*%29+AND+%28reviewed%3Atrue%29\n"
     ]
    },
    {
     "name": "stderr",
     "output_type": "stream",
     "text": [
      "Processing species: 100%|██████████| 12391/12391 [26:43<00:00,  7.73it/s]\n"
     ]
    },
    {
     "name": "stdout",
     "output_type": "stream",
     "text": [
      "10660 species with no data\n"
     ]
    },
    {
     "data": {
      "text/html": [
       "<div>\n",
       "<style scoped>\n",
       "    .dataframe tbody tr th:only-of-type {\n",
       "        vertical-align: middle;\n",
       "    }\n",
       "\n",
       "    .dataframe tbody tr th {\n",
       "        vertical-align: top;\n",
       "    }\n",
       "\n",
       "    .dataframe thead th {\n",
       "        text-align: right;\n",
       "    }\n",
       "</style>\n",
       "<table border=\"1\" class=\"dataframe\">\n",
       "  <thead>\n",
       "    <tr style=\"text-align: right;\">\n",
       "      <th></th>\n",
       "      <th>species</th>\n",
       "      <th>ec_uniprot</th>\n",
       "    </tr>\n",
       "  </thead>\n",
       "  <tbody>\n",
       "    <tr>\n",
       "      <th>0</th>\n",
       "      <td>Ruminiclostridium+josui</td>\n",
       "      <td>1.2.1.70; 1.3.1.76; 4.99.1.4</td>\n",
       "    </tr>\n",
       "    <tr>\n",
       "      <th>1</th>\n",
       "      <td>Ruminiclostridium+josui</td>\n",
       "      <td>2.5.1.61</td>\n",
       "    </tr>\n",
       "    <tr>\n",
       "      <th>2</th>\n",
       "      <td>Ruminiclostridium+josui</td>\n",
       "      <td>2.1.1.107; 4.2.1.75</td>\n",
       "    </tr>\n",
       "    <tr>\n",
       "      <th>3</th>\n",
       "      <td>Ruminiclostridium+josui</td>\n",
       "      <td>4.2.1.24</td>\n",
       "    </tr>\n",
       "    <tr>\n",
       "      <th>4</th>\n",
       "      <td>Ruminiclostridium+josui</td>\n",
       "      <td>3.2.1.4</td>\n",
       "    </tr>\n",
       "  </tbody>\n",
       "</table>\n",
       "</div>"
      ],
      "text/plain": [
       "                   species                    ec_uniprot\n",
       "0  Ruminiclostridium+josui  1.2.1.70; 1.3.1.76; 4.99.1.4\n",
       "1  Ruminiclostridium+josui                      2.5.1.61\n",
       "2  Ruminiclostridium+josui           2.1.1.107; 4.2.1.75\n",
       "3  Ruminiclostridium+josui                      4.2.1.24\n",
       "4  Ruminiclostridium+josui                       3.2.1.4"
      ]
     },
     "execution_count": 14,
     "metadata": {},
     "output_type": "execute_result"
    }
   ],
   "source": [
    "# Import and run function to retrieve ec's associated with each species\n",
    "    # Note: currently, script only checks reviewed entries (SwissProt), and ignores 1000's of tREMBL entries\n",
    "    # Errors represent where species are totally absent, whereas non-reviewed entries show as 'x species with no data'\n",
    "    \n",
    "uniprot_df = uni.species2ec(species_list)\n",
    "\n",
    "uniprot_df.to_csv(os.path.join(DATA_DIR, \"uniprot\", \"uniprot-all.csv\"), index=False)"
   ]
  },
  {
   "cell_type": "markdown",
   "id": "b5dd2f4e-4134-4e48-8edd-506b73aa1bc6",
   "metadata": {},
   "source": [
    "**[3] Final UniProtKB dataframe**"
   ]
  },
  {
   "cell_type": "code",
   "execution_count": 8,
   "id": "a2c0684d-7297-4306-b51e-3ad78762f1d8",
   "metadata": {},
   "outputs": [
    {
     "data": {
      "text/html": [
       "<div>\n",
       "<style scoped>\n",
       "    .dataframe tbody tr th:only-of-type {\n",
       "        vertical-align: middle;\n",
       "    }\n",
       "\n",
       "    .dataframe tbody tr th {\n",
       "        vertical-align: top;\n",
       "    }\n",
       "\n",
       "    .dataframe thead th {\n",
       "        text-align: right;\n",
       "    }\n",
       "</style>\n",
       "<table border=\"1\" class=\"dataframe\">\n",
       "  <thead>\n",
       "    <tr style=\"text-align: right;\">\n",
       "      <th></th>\n",
       "      <th>species</th>\n",
       "      <th>ec_uniprot</th>\n",
       "    </tr>\n",
       "  </thead>\n",
       "  <tbody>\n",
       "    <tr>\n",
       "      <th>0</th>\n",
       "      <td>Ruminiclostridium+josui</td>\n",
       "      <td>1.2.1.70; 1.3.1.76; 4.99.1.4</td>\n",
       "    </tr>\n",
       "    <tr>\n",
       "      <th>1</th>\n",
       "      <td>Ruminiclostridium+josui</td>\n",
       "      <td>2.5.1.61</td>\n",
       "    </tr>\n",
       "    <tr>\n",
       "      <th>2</th>\n",
       "      <td>Ruminiclostridium+josui</td>\n",
       "      <td>2.1.1.107; 4.2.1.75</td>\n",
       "    </tr>\n",
       "    <tr>\n",
       "      <th>3</th>\n",
       "      <td>Ruminiclostridium+josui</td>\n",
       "      <td>4.2.1.24</td>\n",
       "    </tr>\n",
       "    <tr>\n",
       "      <th>4</th>\n",
       "      <td>Ruminiclostridium+josui</td>\n",
       "      <td>3.2.1.4</td>\n",
       "    </tr>\n",
       "  </tbody>\n",
       "</table>\n",
       "</div>"
      ],
      "text/plain": [
       "                   species                    ec_uniprot\n",
       "0  Ruminiclostridium+josui  1.2.1.70; 1.3.1.76; 4.99.1.4\n",
       "1  Ruminiclostridium+josui                      2.5.1.61\n",
       "2  Ruminiclostridium+josui           2.1.1.107; 4.2.1.75\n",
       "3  Ruminiclostridium+josui                      4.2.1.24\n",
       "4  Ruminiclostridium+josui                       3.2.1.4"
      ]
     },
     "execution_count": 8,
     "metadata": {},
     "output_type": "execute_result"
    }
   ],
   "source": [
    "uniprot_df = pd.read_csv('~/Desktop/code/data/uniprot/uniprot-all.csv')\n",
    "uniprot_df.head()"
   ]
  },
  {
   "cell_type": "markdown",
   "id": "b1284eb9-54f6-44f3-b8ba-5ca1de900671",
   "metadata": {},
   "source": [
    "**[4] Formatting list for media compound comparison**"
   ]
  },
  {
   "cell_type": "code",
   "execution_count": 16,
   "id": "a242cc93-369e-4ca8-8cd4-6e08c336b88b",
   "metadata": {
    "tags": []
   },
   "outputs": [
    {
     "data": {
      "text/plain": [
       "3842"
      ]
     },
     "execution_count": 16,
     "metadata": {},
     "output_type": "execute_result"
    }
   ],
   "source": [
    "# Parsing/formatting ec's for our final list:\n",
    "split = uniprot_df['ec_uniprot'].str.split(';', expand=True).stack().reset_index(level=1, drop=True).to_frame('ec_uniprot').copy() #Split ec's with ';' into rows\n",
    "split['ec_uniprot'] = split['ec_uniprot'].str.strip() #Remove trailing empty spaces\n",
    "split.reset_index(drop=True, inplace=True) #Reset index\n",
    "parsed = split.drop_duplicates() #Remove duplicate ec's\n",
    "\n",
    "species2ec_list = parsed['ec_uniprot'].to_list()\n",
    "len(species2ec_list)"
   ]
  },
  {
   "cell_type": "markdown",
   "id": "9b8c20a9",
   "metadata": {},
   "source": [
    "### BacDive/UniProtKB taxa2ec combined approach (NCBI taxon_id)\n",
    "\n",
    "This table returns ec numbers and identifier information for an input of NCBI taxon IDs"
   ]
  },
  {
   "cell_type": "code",
   "execution_count": 30,
   "id": "06126788",
   "metadata": {},
   "outputs": [
    {
     "data": {
      "text/html": [
       "<div>\n",
       "<style scoped>\n",
       "    .dataframe tbody tr th:only-of-type {\n",
       "        vertical-align: middle;\n",
       "    }\n",
       "\n",
       "    .dataframe tbody tr th {\n",
       "        vertical-align: top;\n",
       "    }\n",
       "\n",
       "    .dataframe thead th {\n",
       "        text-align: right;\n",
       "    }\n",
       "</style>\n",
       "<table border=\"1\" class=\"dataframe\">\n",
       "  <thead>\n",
       "    <tr style=\"text-align: right;\">\n",
       "      <th></th>\n",
       "      <th>general_@ref</th>\n",
       "      <th>bacdive_id</th>\n",
       "      <th>dsmz_id</th>\n",
       "      <th>general_keywords</th>\n",
       "      <th>general_description</th>\n",
       "      <th>taxon_id</th>\n",
       "      <th>ncbi_tax_id_matching_level</th>\n",
       "      <th>strain_history_@ref</th>\n",
       "      <th>strain_history_history</th>\n",
       "      <th>general_doi</th>\n",
       "      <th>...</th>\n",
       "      <th>api_id32sta_beta_gur</th>\n",
       "      <th>physiology_and_metabolism_murein</th>\n",
       "      <th>physiology_and_metabolism_api_list</th>\n",
       "      <th>isolation_enrichment_culture</th>\n",
       "      <th>isolation_enrichment_culture_temperature</th>\n",
       "      <th>multicellular_morphology_complex_color</th>\n",
       "      <th>api_list_beta_hem</th>\n",
       "      <th>metabolite_tests_citrate_test</th>\n",
       "      <th>compound_production_excreted</th>\n",
       "      <th>isolation_enrichment_culture_duration</th>\n",
       "    </tr>\n",
       "  </thead>\n",
       "  <tbody>\n",
       "    <tr>\n",
       "      <th>0</th>\n",
       "      <td>21113</td>\n",
       "      <td>24370</td>\n",
       "      <td>11532.0</td>\n",
       "      <td>['Bacteria', 'human pathogen']</td>\n",
       "      <td>Pseudomonas fluorescens PWD34 is a human patho...</td>\n",
       "      <td>294</td>\n",
       "      <td>species</td>\n",
       "      <td>21113.0</td>\n",
       "      <td>&lt;- W. Duetz, RIVM, Bilthoven; PWD34</td>\n",
       "      <td>10.13145/bacdive24370.20240510.9</td>\n",
       "      <td>...</td>\n",
       "      <td>NaN</td>\n",
       "      <td>NaN</td>\n",
       "      <td>NaN</td>\n",
       "      <td>NaN</td>\n",
       "      <td>NaN</td>\n",
       "      <td>NaN</td>\n",
       "      <td>NaN</td>\n",
       "      <td>NaN</td>\n",
       "      <td>NaN</td>\n",
       "      <td>NaN</td>\n",
       "    </tr>\n",
       "    <tr>\n",
       "      <th>1</th>\n",
       "      <td>21111</td>\n",
       "      <td>24368</td>\n",
       "      <td>304.0</td>\n",
       "      <td>Bacteria</td>\n",
       "      <td>Pseudomonas sp. DSM 304 is a bacterium of the ...</td>\n",
       "      <td>306</td>\n",
       "      <td>species</td>\n",
       "      <td>21111.0</td>\n",
       "      <td>&lt;- IMG, 1591 (&lt;i&gt;P. fluorescens&lt;/i&gt;) &lt;- H. Stolp</td>\n",
       "      <td>10.13145/bacdive24368.20240510.9</td>\n",
       "      <td>...</td>\n",
       "      <td>NaN</td>\n",
       "      <td>NaN</td>\n",
       "      <td>NaN</td>\n",
       "      <td>NaN</td>\n",
       "      <td>NaN</td>\n",
       "      <td>NaN</td>\n",
       "      <td>NaN</td>\n",
       "      <td>NaN</td>\n",
       "      <td>NaN</td>\n",
       "      <td>NaN</td>\n",
       "    </tr>\n",
       "    <tr>\n",
       "      <th>2</th>\n",
       "      <td>20542</td>\n",
       "      <td>23995</td>\n",
       "      <td>30059.0</td>\n",
       "      <td>Bacteria</td>\n",
       "      <td>Lelliottia amnigena 21824 is a bacterium that ...</td>\n",
       "      <td>61646</td>\n",
       "      <td>species</td>\n",
       "      <td>20542.0</td>\n",
       "      <td>&lt;- Bakteriologisches Institut der Sueddeutsche...</td>\n",
       "      <td>10.13145/bacdive23995.20240510.9</td>\n",
       "      <td>...</td>\n",
       "      <td>NaN</td>\n",
       "      <td>NaN</td>\n",
       "      <td>NaN</td>\n",
       "      <td>NaN</td>\n",
       "      <td>NaN</td>\n",
       "      <td>NaN</td>\n",
       "      <td>NaN</td>\n",
       "      <td>NaN</td>\n",
       "      <td>NaN</td>\n",
       "      <td>NaN</td>\n",
       "    </tr>\n",
       "    <tr>\n",
       "      <th>3</th>\n",
       "      <td>1479</td>\n",
       "      <td>17621</td>\n",
       "      <td>3849.0</td>\n",
       "      <td>['16S sequence', 'Bacteria', 'plant pathogen']</td>\n",
       "      <td>Xanthomonas citri subsp. malvacearum XM13 is a...</td>\n",
       "      <td>346</td>\n",
       "      <td>species</td>\n",
       "      <td>NaN</td>\n",
       "      <td>NaN</td>\n",
       "      <td>10.13145/bacdive17621.20240510.9</td>\n",
       "      <td>...</td>\n",
       "      <td>NaN</td>\n",
       "      <td>NaN</td>\n",
       "      <td>NaN</td>\n",
       "      <td>NaN</td>\n",
       "      <td>NaN</td>\n",
       "      <td>NaN</td>\n",
       "      <td>NaN</td>\n",
       "      <td>NaN</td>\n",
       "      <td>NaN</td>\n",
       "      <td>NaN</td>\n",
       "    </tr>\n",
       "    <tr>\n",
       "      <th>4</th>\n",
       "      <td>1480</td>\n",
       "      <td>17596</td>\n",
       "      <td>3850.0</td>\n",
       "      <td>['genome sequence', 'Bacteria', 'obligate aero...</td>\n",
       "      <td>Xanthomonas campestris DSM 3850 is an obligate...</td>\n",
       "      <td>339</td>\n",
       "      <td>species</td>\n",
       "      <td>NaN</td>\n",
       "      <td>NaN</td>\n",
       "      <td>10.13145/bacdive17596.20240510.9</td>\n",
       "      <td>...</td>\n",
       "      <td>NaN</td>\n",
       "      <td>NaN</td>\n",
       "      <td>NaN</td>\n",
       "      <td>NaN</td>\n",
       "      <td>NaN</td>\n",
       "      <td>NaN</td>\n",
       "      <td>NaN</td>\n",
       "      <td>NaN</td>\n",
       "      <td>NaN</td>\n",
       "      <td>NaN</td>\n",
       "    </tr>\n",
       "  </tbody>\n",
       "</table>\n",
       "<p>5 rows × 838 columns</p>\n",
       "</div>"
      ],
      "text/plain": [
       "   general_@ref  bacdive_id  dsmz_id  \\\n",
       "0         21113       24370  11532.0   \n",
       "1         21111       24368    304.0   \n",
       "2         20542       23995  30059.0   \n",
       "3          1479       17621   3849.0   \n",
       "4          1480       17596   3850.0   \n",
       "\n",
       "                                    general_keywords  \\\n",
       "0                     ['Bacteria', 'human pathogen']   \n",
       "1                                           Bacteria   \n",
       "2                                           Bacteria   \n",
       "3     ['16S sequence', 'Bacteria', 'plant pathogen']   \n",
       "4  ['genome sequence', 'Bacteria', 'obligate aero...   \n",
       "\n",
       "                                 general_description taxon_id  \\\n",
       "0  Pseudomonas fluorescens PWD34 is a human patho...      294   \n",
       "1  Pseudomonas sp. DSM 304 is a bacterium of the ...      306   \n",
       "2  Lelliottia amnigena 21824 is a bacterium that ...    61646   \n",
       "3  Xanthomonas citri subsp. malvacearum XM13 is a...      346   \n",
       "4  Xanthomonas campestris DSM 3850 is an obligate...      339   \n",
       "\n",
       "  ncbi_tax_id_matching_level  strain_history_@ref  \\\n",
       "0                    species              21113.0   \n",
       "1                    species              21111.0   \n",
       "2                    species              20542.0   \n",
       "3                    species                  NaN   \n",
       "4                    species                  NaN   \n",
       "\n",
       "                              strain_history_history  \\\n",
       "0                <- W. Duetz, RIVM, Bilthoven; PWD34   \n",
       "1   <- IMG, 1591 (<i>P. fluorescens</i>) <- H. Stolp   \n",
       "2  <- Bakteriologisches Institut der Sueddeutsche...   \n",
       "3                                                NaN   \n",
       "4                                                NaN   \n",
       "\n",
       "                        general_doi  ...  api_id32sta_beta_gur  \\\n",
       "0  10.13145/bacdive24370.20240510.9  ...                   NaN   \n",
       "1  10.13145/bacdive24368.20240510.9  ...                   NaN   \n",
       "2  10.13145/bacdive23995.20240510.9  ...                   NaN   \n",
       "3  10.13145/bacdive17621.20240510.9  ...                   NaN   \n",
       "4  10.13145/bacdive17596.20240510.9  ...                   NaN   \n",
       "\n",
       "  physiology_and_metabolism_murein physiology_and_metabolism_api_list  \\\n",
       "0                              NaN                                NaN   \n",
       "1                              NaN                                NaN   \n",
       "2                              NaN                                NaN   \n",
       "3                              NaN                                NaN   \n",
       "4                              NaN                                NaN   \n",
       "\n",
       "  isolation_enrichment_culture isolation_enrichment_culture_temperature  \\\n",
       "0                          NaN                                      NaN   \n",
       "1                          NaN                                      NaN   \n",
       "2                          NaN                                      NaN   \n",
       "3                          NaN                                      NaN   \n",
       "4                          NaN                                      NaN   \n",
       "\n",
       "  multicellular_morphology_complex_color api_list_beta_hem  \\\n",
       "0                                    NaN               NaN   \n",
       "1                                    NaN               NaN   \n",
       "2                                    NaN               NaN   \n",
       "3                                    NaN               NaN   \n",
       "4                                    NaN               NaN   \n",
       "\n",
       "  metabolite_tests_citrate_test compound_production_excreted  \\\n",
       "0                           NaN                          NaN   \n",
       "1                           NaN                          NaN   \n",
       "2                           NaN                          NaN   \n",
       "3                           NaN                          NaN   \n",
       "4                           NaN                          NaN   \n",
       "\n",
       "  isolation_enrichment_culture_duration  \n",
       "0                                   NaN  \n",
       "1                                   NaN  \n",
       "2                                   NaN  \n",
       "3                                   NaN  \n",
       "4                                   NaN  \n",
       "\n",
       "[5 rows x 838 columns]"
      ]
     },
     "execution_count": 30,
     "metadata": {},
     "output_type": "execute_result"
    }
   ],
   "source": [
    "bacdive_df = pd.read_csv('~/Desktop/code/data/bacdive/bacdive-all.csv', low_memory=False)\n",
    "bacdive_df.head()"
   ]
  },
  {
   "cell_type": "markdown",
   "id": "75464367",
   "metadata": {},
   "source": [
    "**[1] Format NCBI taxon IDs from BacDive for querying UniProtKB** (skip to [3] after first time)"
   ]
  },
  {
   "cell_type": "code",
   "execution_count": 32,
   "id": "317f0d36",
   "metadata": {},
   "outputs": [
    {
     "name": "stdout",
     "output_type": "stream",
     "text": [
      "[83615, 231455, 33050, 40683, 169176, 291995, 203192, 1211807, 316, 203192, 1211807, 316, 316, 303, 57480, 82996, 61651, 55208, 82983, 61648, 204039, 556, 82979, 80866, 221992, 415849, 56457, 378548, 256466, 86184, 47883, 29442, 303, 301, 43263, 553088, 396808, 363850, 1293823, 41200, 649746, 1120986, 97477, 86959, 349095, 164452, 164451, 172827, 81028, 115778, 89059, 109790, 2275, 2275, 154046, 160404, 169679, 84698, 1501, 33954, 1537, 1492, 152260, 120962, 1263547, 81462, 351091, 146817, 447593, 1120994, 286803, 501571, 288966, 390806, 349933, 349931, 396504, 319475, 208479, 94869, 1519, 1535, 1488, 2049024, 2981785, 626940, 508460, 180311, 174709, 264463, 261299, 259063, 179628, 89152, 36842, 29361, 341220, 33025, 2981724, 2028282, 55205, 301953, 453230, 131540, 2221, 29291, 118126, 2298, 33059, 35837, 42471, 264148, 89053, 463192, 458711, 58180, 82171, 126333, 91360, 231447, 160661, 190898, 57666, 2779352, 1980281, 94009, 214851, 365349, 55504, 112901, 112900, 2374, 202604, 28212, 86174, 46680, 203192, 1211807, 316, 51197, 75684, 165096, 79967, 219182, 164759, 36847, 180295, 47671, 232846, 33043, 2981786, 807, 252966, 683846, 501497, 171695, 83868, 404335, 41675, 626938, 46429, 48935, 45254, 622488, 28110, 94694, 564288, 82135, 92181, 264574, 232259, 280473, 380084, 154, 453962, 480814, 67576, 86304, 766224, 190893, 71388, 669, 668, 673, 504469, 148453, 279369, 1121960, 28252, 158080, 270495, 2743, 1278244, 1902814, 170674, 28174, 108486, 161889, 43769, 38284, 39791, 39791, 43771, 1718, 1718, 1721, 36808, 516703, 1404244, 1230998, 589159, 500615, 397260, 53412, 394935, 628, 204042, 204038, 638, 1223514, 1288393, 598660, 1121358, 441501, 556548, 541095, 487732, 489915, 258224, 203264, 152794, 408558, 545533, 228745, 301141, 74349, 80842, 291048, 29311, 2205, 312279, 659425, 1526, 76489, 41276, 293, 194424, 96344, 412963, 418856, 240166, 219571, 262325, 498055, 370776, 392736, 46679, 400061, 362520, 1121000, 94254, 367474, 198706, 290309, 365533, 187145, 238991, 287990, 216933, 216939, 216937, 216935, 335020, 280239, 39047, 2096, 29557, 225453, 381300, 392842, 223903, 179636, 426128, 959, 291645, 415015, 33033, 301585, 216945, 2136, 2145, 47835, 2144, 419005, 328812, 1261, 2121, 29561, 2098, 1502, 28111, 373054, 427072, 59823, 2606637, 2981720, 2005360, 637886, 106588, 626933, 823, 74426, 47678, 820, 821, 28116, 817, 64178, 292800, 680, 672, 52226, 1584, 1490, 329854, 247, 676, 258, 536, 246, 563, 28141, 633, 61652, 618, 47917, 28901, 28901, 577, 34038, 126385, 584, 549, 582, 83655, 573, 571, 569, 566, 565, 562, 550, 61647, 61646, 548, 93378, 67780, 636, 158823, 158484, 82977, 1689, 1686, 1685, 644, 158877, 29385, 1285, 1282, 47878, 47882, 46680, 250, 158850, 55211, 52132, 42190, 158877, 300, 294, 287, 287, 470, 28090, 471, 29483, 54291, 158849, 82981, 562, 61645, 285, 329, 292, 32002, 303, 208224, 104662, 13690, 157782, 46257, 413497, 28152, 631, 29486, 29485, 630, 575, 580, 357233, 357240, 158822, 85698, 562, 47880, 237446, 41202, 511, 418211, 1678136, 1631, 1615, 376807, 1598, 1587, 1596, 1613, 28039, 47770, 1581, 1607, 1604, 1602, 1601, 1579, 2751, 28025, 33905, 28026, 176291, 52242, 33959, 1589, 1512, 29359, 2751, 33905, 78448, 1692, 216816, 1691, 1688, 35760, 1685, 78343, 1681, 1681, 1680, 1680, 1685, 1685, 1681, 1751, 1245, 1246, 96565, 151781, 2748, 1693, 1683, 1490, 1597, 1488, 78342, 78345, 78346, 1684, 1251, 33968, 1244, 1252, 60519, 661498, 1306, 1133319, 1333651, 1308, 451457, 1365, 1363, 420645, 105612, 147802, 35787, 322505, 762212, 762209, 983706, 762210, 212365, 158787, 31973, 36839, 1533, 36834, 1377, 33035, 1258, 33036, 907, 39029, 28139, 33012, 1750, 1747, 28137, 28133, 28132, 28130, 28125, 28123, 1505, 28446, 1527, 310300, 310300, 290053, 33029, 33034, 33011, 1748, 113287, 36845, 29347, 100884, 33031, 33037, 33032, 135083, 135082, 135080, 135079, 671224, 315405, 1323, 28128, 46503, 714, 851, 45242, 31971, 39483, 1735, 38402, 84112, 39487, 1383, 1382, 89153, 46506, 85831, 310300, 817, 187979, 155680, 60133, 282402, 28131, 467210, 155615, 102148, 100886, 84109, 133926, 147207, 147206, 78259, 78258, 2702, 387090, 387090, 342942, 52227, 393921, 180164, 40542, 437898, 464322, 29466, 454155, 454154, 515414, 28129, 387661, 539, 105841, 860, 76857, 1019, 1018, 1017, 35518, 230658, 446660, 84110, 138595, 242230, 291644, 376806, 376805, 151276, 357276, 338188, 310298, 310297, 52769, 1659, 1673725, 1175452, 596085, 871324, 871325, 691816, 555313, 157687, 157691, 157688, 157692, 169435, 419208, 423477, 626932, 328814, 328813, 214856, 28117, 556499, 589437, 589436, 189723, 470565, 544645, 544644, 28118, 163665, 156974, 574930, 341694, 626934, 626935, 674529, 626931, 626930, 626929, 246787, 461393, 1583098, 1583098, 1583098, 1583098, 1583098, 1099853, 64702, 41170, 144185, 1697, 2750, 2749, 1703, 51665, 40324, 1571, 1406, 44252, 1465, 29428, 31943, 1698, 33889, 1421, 1422, 1408, 1402, 1467, 1399, 1397, 1396, 47885, 47886, 31998, 1393, 13688, 984, 34003, 49283, 256, 55148, 32013, 88688, 303, 203192, 1211807, 316, 85698, 203192, 1211807, 316, 203192, 1211807, 316, 101564, 79263, 79264, 59841, 59840, 44253, 1472, 1401, 59842, 59839, 1391, 60489, 40216, 986, 43670, 984307, 60552, 1422, 246786, 135735, 119858, 64104, 72361, 72360, 1452, 1455, 1114169, 930404, 223958, 273168, 706570, 46677, 53408, 287, 72000, 319054, 458197, 562, 436515, 80879, 86664, 203192, 1211807, 316, 75659, 1282, 24, 34073, 1396, 72556, 203192, 1211807, 316, 86182, 203192, 1211807, 316, 230310, 330920, 266127, 99597, 40681, 1010, 34087, 266, 75612, 78543, 198616, 70775, 76759, 137658, 29435, 203192, 1211807, 316, 287, 2994495, 55508, 494, 190, 194196, 477, 200413, 29536, 65656, 47421, 65655, 65657, 265291, 134536, 134537, 90245, 82985, 941182, 43767, 1823, 36821, 1771, 2047, 1665, 53358, 82995, 158841, 435910, 1725, 38305, 35756, 35757, 610244, 1833, 1833, 1833, 41986, 114977, 2320850, 1785, 2320850, 1810, 53427, 53461, 1774, 37916, 1766, 33888, 59737, 145458, 33887, 36740, 43770, 38301, 1479, 298163, 186189, 139208, 200618, 168276, 228601, 228599, 228596, 49897, 1273, 199592, 162426, 156977, 159896, 184882, 136100, 262209, 103817, 111564, 1276, 63959, 89154, 131081, 169292, 57171, 84757, 1454, 281473, 366586, 72764, 266854, 394734, 281714, 259390, 376351, 85693, 444608, 452623, 272240, 1915061, 451764, 300018, 273677, 273678, 256821, 293890, 279572, 343512, 331526, 103817, 229480, 172041, 1833, 664638, 588672, 1121721, 459515, 318424, 187102, 427754, 491918, 412687, 665550, 349751, 398759, 1938746, 1873459, 1938745, 1873459, 1550231, 1873459, 661329, 945692, 1305, 1314, 1303, 1309, 28037, 1338, 1335, 1328, 1311, 1366, 53317, 46429, 54011, 54010, 487316, 1352, 1351, 208223, 546, 316068, 36773, 326474, 70863, 76978, 211502, 262668, 516075, 516074, 73098, 208962, 106590, 33051, 28213, 13689, 60921, 60920, 42256, 172041, 114259, 43675, 98672, 257984, 156980, 43674, 1863, 47848, 47845, 43669, 160386, 42817, 1717, 37637, 1727, 43768, 43671, 1708, 53363, 396389, 348582, 264251, 382504, 291968, 384677, 416230, 29321, 227319, 234828, 191493, 203263, 225326, 311234, 264297, 76862, 76861, 156981, 1711, 1680, 29549, 60706, 45634, 1317, 1843, 1639, 192387, 145373, 211669, 211668, 73919, 186192, 2001, 58117, 1951, 35751, 43357, 40567, 47850, 1867, 113565, 49185, 31962, 1927, 1914, 1919, 1912, 31958, 54571, 67365, 66880, 1931, 1920, 1931, 67331, 1888, 67298, 1888, 66866, 68176, 1970, 68265, 1931, 68220, 1931, 285447, 1906, 1890, 285454, 1836, 348043, 33903, 1938, 2932614, 1931, 1971, 68565, 202862, 1912, 78355, 58347, 2006, 103441, 191630, 130796, 587534, 587533, 137267, 679732, 137266, 33876, 499547, 84633, 84632, 84634, 58116, 533267, 196914, 111807, 42777, 2061, 1993, 46164, 1886, 1902, 36819, 31959, 1830, 1829, 38312, 1833, 53972, 53429, 37332, 1822, 53432, 37329, 37326, 1824, 36823, 2055, 2054, 1814, 111804, 80872, 80871, 85044, 2061, 1888, 84480, 76020, 103730, 109465, 182640, 183556, 103816, 99653, 43772, 184756, 96468, 132249, 134984, 37330, 120957, 53431, 37333, 84595, 40516, 36820, 392828, 159449, 381445, 208441, 208443, 155975, 359359, 293050, 300028, 132919, 419477, 404580, 358707, 404578, 356145, 352869, 257281, 263910, 238964, 257275, 257274, 248552, 248551, 257277, 228600, 209249, 209247, 209246, 228602, 209252, 236511, 228006, 208602, 145285, 189540, 85688, 135487, 410332, 320799, 263909, 263908, 249058, 175628, 173559, 168480, 158898, 89051, 203523, 131568, 508770, 402650, 551276, 342230, 440482, 1833, 334542, 263849, 356147, 282305, 81942, 931537, 626084, 426716, 37328, 68254, 1911, 42235, 103731, 60894, 146802, 279262, 1960874, 1644115, 58117, 340097, 49319, 37926, 37925, 75294, 1848, 208444, 144786, 2021, 1861, 68174, 1935, 193462, 178566, 28043, 1931, 80860, 1931, 38300, 1931, 67319, 46161, 404386, 58117, 68277, 1935, 90058, 2721544, 136271, 1120938, 2020, 283811, 256035, 58117, 58117, 1427754, 58117, 96101, 111805, 29401, 460086, 44752, 33008, 1828, 38310, 290231, 282684, 282685, 261477, 95162, 134964, 45979, 83341, 84096, 36822, 1872144, 278209, 35621, 516370, 1931, 80858, 66891, 1931, 1889, 102884, 346045, 334542, 472158, 328049, 299618, 225051, 516463, 59370, 68257, 1931, 1950, 68185, 58352, 1850, 139808, 47758, 252394, 53440, 53368, 129052, 29282, 1886, 1947, 109329, 406432, 1038928, 67348, 67581, 42239, 1886, 40988, 40989, 531310, 61305, 2014, 1254, 1639, 196015, 758, 210, 34085, 67825, 392413, 1299, 232216, 249, 7, 298598, 28454, 76112, 362, 358, 362, 28099, 359, 1972867, 361, 436516, 1462, 184755, 33052, 93064, 93063, 40682, 126569, 135193, 59845, 53458, 271155, 180441, 182264, 553, 1713, 305, 218284, 86668, 479935, 479936, 669461, 472175, 38313, 430679, 669462, 431596, 412438, 103855, 65048, 259, 151895, 369333, 401638, 44250, 211589, 153493, 153491, 238, 158852, 51288, 564, 68334, 309788, 307521, 220688, 220687, 220686, 220685, 220684, 269673, 33018, 406, 417948, 28448, 91915, 257438, 225762, 239974, 2015, 53437, 37327, 515814, 51664, 1625, 147809, 931, 36861, 33871, 356828, 356829, 204470, 405212, 182455, 122960, 930, 1053551, 28448, 436, 231053, 153496, 110479, 104101, 104102, 146474, 146475, 146476, 104099, 435, 29350, 637971, 33906, 163603, 1990, 35622, 28042, 40990, 240495, 141692, 38311, 380393, 267818, 231049, 152332, 1600, 187452, 392014, 392012, 392016, 60217, 1871086, 288, 264027, 104609, 157228, 159346, 258256, 227, 163869, 263818, 987, 979, 253245, 262077, 261965, 261964, 346188, 471499, 447471, 288022, 390641, 405746, 278132, 271420, 293552, 219314, 247333, 286420, 311208, 228955, 86104, 1960284, 2078585, 452629, 452627, 444920, 444919, 444922, 472113, 666563, 570161, 487319, 454162, 435289, 421000, 385492, 417574, 428031, 415212, 1123045, 453851, 1121961, 505250, 487317, 561966, 661979, 696485, 570156, 531813, 575200, 2805365, 50422, 859058, 1069073, 158327, 184067, 308111, 43662, 989, 693, 28172, 687, 671, 685, 38313, 71235, 187304, 77008, 76980, 43659, 28107, 43660, 228, 43656, 64973, 1014, 104270, 29528, 997, 1570, 28108, 187400, 418853, 182262, 60890, 252583, 198815, 83219, 42443, 2434, 245188, 43657, 119, 271431, 305900, 76595, 48076, 203192, 1211807, 316, 988, 1836467, 1897614, 1879319, 1902409, 1879319, 1902409, 1879319, 1902409, 1879319, 1902409, 1885934, 1936156, 561965, 55601, 670, 446, 158, 158, 158, 1335, 158, 83767, 34005, 45495, 28885, 29432, 1247, 1449, 33075, 437, 33998, 2285, 253107, 253108, 130048, 61858, 388259, 68911, 123783, 110164, 53952, 2265, 2264, 2261, 2285, 395085, 844, 44470, 29288, 44930, 13769, 2248, 2252, 35746, 35745, 35742, 63128, 2257, 71452, 44007, 41997, 44008, 71451, 1354, 1351, 53345, 37734, 33945, 71453, 2280, 29530, 985, 940, 396317, 335952, 222984, 29283, 419186, 332168, 403181, 114529, 302484, 478441, 367189, 353800, 129789, 160846, 64602, 368623, 368624, 119434, 64713, 381852, 255616, 2254, 2246, 2242, 2242, 43776, 51589, 88724, 69525, 69527, 387341, 504937, 430914, 376171, 57705, 60847, 399579, 2303, 79601, 43687, 453847, 2247, 36738, 62319, 2250, 2238, 28442, 62320, 521377, 1411, 199441, 1413, 127891, 33932, 1525, 94694, 84156, 2234, 2271, 70771, 2277, 13656, 54256, 54248, 53441, 2209, 2208, 39441, 173480, 229980, 100225, 28220, 1515, 1515, 1418, 375, 29448, 62609, 1355477, 2066070, 29450, 2336, 76887, 93683, 398, 46632, 2180, 2203, 418008, 155863, 213185, 2189, 83171, 67760, 2190, 39441, 2162, 84599, 191495, 200415, 29448, 78527, 114628, 99007, 171864, 56957, 37636, 274, 68891, 68892, 29449, 245836, 124252, 141693, 2197, 2186, 1641, 1015, 64642, 161879, 147709, 197, 28200, 28199, 164451, 164451, 164451, 164451, 239935, 487175, 309120, 218538, 125627, 125614, 185293, 487174, 397865, 47958, 146826, 1630, 218140, 87541, 1376, 171164, 427683, 133453, 156202, 156203, 181486, 121277, 184064, 161154, 286804, 286802, 1646, 148813, 80816, 108010, 108010, 163202, 161890, 38289, 136094, 171121, 287609, 191389, 554283, 540746, 363832, 573179, 574561, 418223, 330834, 442954, 451374, 266130, 484882, 1904440, 1880898, 2736, 202951, 204799, 261934, 996, 245, 203699, 364039, 45677, 121608, 257446, 206045, 206393, 2317, 202747, 504092, 526067, 732242, 477666, 299480, 1785, 2184235, 181070, 1304158, 370526, 370524, 388459, 318425, 339268, 265949, 240125, 152142, 53462, 98668, 81858, 56425, 46351, 85968, 1795, 1790, 1784, 1797, 36809, 1767, 1768, 124285, 332953, 403191, 263906, 304901, 265470, 348840, 1566, 329936, 148454, 269253, 269259, 269261, 1288388, 413810, 413812, 225196, 575978, 90730, 1482, 203192, 1211807, 316, 574963, 217168, 574962, 220343, 293647, 459527, 83455, 35, 262806, 293091, 83453, 83451, 28230, 2752, 303, 294710, 293091, 246191, 340956, 308892, 33039, 266762, 393921, 28115, 36874, 683150, 1667, 418240, 1710, 589537, 322095, 281920, 28114, 111105, 837, 28115, 1270, 37923, 479106, 211146, 248902, 360807, 88431, 57497, 302481, 332095, 310769, 508464, 455432, 300029, 340095, 86166, 336988, 51669, 334771, 314319, 290732, 348842, 312539, 377615, 239984, 412896, 83816, 268735, 387343, 416273, 312540, 160233, 879567, 399548, 231440, 408753, 366522, 2761102, 1979212, 2666143, 2253, 2666142, 2253, 2666140, 2253, 316997, 402877, 340467, 233583, 257438, 586239, 442, 318683, 438, 438, 395387, 2746, 33074, 299072, 253314, 392827, 105229, 438, 438, 76122, 411361, 425254, 292800, 89014, 53443, 1322, 2734, 1161942, 438033, 1264, 304895, 995, 501496, 41976, 28124, 185300, 416585, 271091, 231438, 1121298, 515264, 1123352, 392838, 360185, 1076596, 1076594, 1076592, 554949, 265960, 265959, 220990, 667306, 395922, 608505, 416586, 55206, 280236, 1802, 168697, 168695, 96345, 518643, 53635, 215221, 215220, 38307, 943261, 610245, 610243, 2885079, 1911079, 405783, 702114, 591197, 47055, 688066, 108150, 885581, 107709, 489138, 421624, 147047, 76007, 201571, 45663, 398199, 66821, 112903, 1321365, 54252, 1295382, 283737, 220714, 132132, 65958, 33995, 178901, 178900, 53419, 1246637, 1499, 638617, 638619, 1229, 540988, 88190, 88189, 2173, 831, 301388, 2779354, 2049027, 165, 100134, 1511]\n"
     ]
    }
   ],
   "source": [
    "taxon_id = bacdive_df['taxon_id'].to_list()\n",
    "\n",
    "# Some NCBI IDs are nested dictionaries, this should extract the ID at the species OR strain level:\n",
    "import ast \n",
    "data = taxon_id\n",
    "\n",
    "# List to store extracted NCBI tax ids with 'species' OR 'strain' matching level\n",
    "tax_ids = []\n",
    "\n",
    "# Loop to extract NCBI tax ids\n",
    "for item in data:\n",
    "    if isinstance(item, str) and item.startswith('[') and item.endswith(']'):\n",
    "        # Parse the string representation of the list of dictionaries\n",
    "        try:\n",
    "            dicts = ast.literal_eval(item)\n",
    "            for d in dicts:\n",
    "                if d['Matching level'] == 'species':\n",
    "                    tax_ids.append(d['NCBI tax id'])\n",
    "        except (ValueError, SyntaxError):\n",
    "            # Handle cases where the string is not a valid list of dictionaries\n",
    "            continue\n",
    "\n",
    "print(tax_ids)"
   ]
  },
  {
   "cell_type": "markdown",
   "id": "357d124a",
   "metadata": {},
   "source": [
    "**[2] Retrieval of UniProtKB info**"
   ]
  },
  {
   "cell_type": "code",
   "execution_count": 35,
   "id": "59c005d5",
   "metadata": {},
   "outputs": [
    {
     "name": "stderr",
     "output_type": "stream",
     "text": [
      "Processing species: 100%|██████████| 2053/2053 [33:17<00:00,  1.03it/s] \n"
     ]
    },
    {
     "name": "stdout",
     "output_type": "stream",
     "text": [
      "503 species with no data\n"
     ]
    }
   ],
   "source": [
    "import modules.uniprotkb as uni\n",
    "ncbi_df = uni.taxon2ec(tax_ids)\n",
    "ncbi_df['ec_uniprot'] = ncbi_df['ec_uniprot'].str.split('; ').explode('ec_uniprot')\n",
    "\n",
    "ncbi_df.to_csv(os.path.join(DATA_DIR, 'ncbi-ec-2.csv'), index=False)"
   ]
  },
  {
   "cell_type": "markdown",
   "id": "8463ceea",
   "metadata": {},
   "source": [
    "**[3] Final BacDive/UniProtKB (NCBI) dataframe**"
   ]
  },
  {
   "cell_type": "code",
   "execution_count": 36,
   "id": "7df3dcd7",
   "metadata": {},
   "outputs": [
    {
     "data": {
      "text/html": [
       "<div>\n",
       "<style scoped>\n",
       "    .dataframe tbody tr th:only-of-type {\n",
       "        vertical-align: middle;\n",
       "    }\n",
       "\n",
       "    .dataframe tbody tr th {\n",
       "        vertical-align: top;\n",
       "    }\n",
       "\n",
       "    .dataframe thead th {\n",
       "        text-align: right;\n",
       "    }\n",
       "</style>\n",
       "<table border=\"1\" class=\"dataframe\">\n",
       "  <thead>\n",
       "    <tr style=\"text-align: right;\">\n",
       "      <th></th>\n",
       "      <th>species</th>\n",
       "      <th>ec_uniprot</th>\n",
       "    </tr>\n",
       "  </thead>\n",
       "  <tbody>\n",
       "    <tr>\n",
       "      <th>0</th>\n",
       "      <td>231455</td>\n",
       "      <td>5.6.2.2</td>\n",
       "    </tr>\n",
       "    <tr>\n",
       "      <th>1</th>\n",
       "      <td>231455</td>\n",
       "      <td>2.7.7.6</td>\n",
       "    </tr>\n",
       "    <tr>\n",
       "      <th>2</th>\n",
       "      <td>33050</td>\n",
       "      <td>2.6.1.-</td>\n",
       "    </tr>\n",
       "    <tr>\n",
       "      <th>3</th>\n",
       "      <td>33050</td>\n",
       "      <td>3.1.1.87</td>\n",
       "    </tr>\n",
       "    <tr>\n",
       "      <th>4</th>\n",
       "      <td>33050</td>\n",
       "      <td>2.7.1.25</td>\n",
       "    </tr>\n",
       "  </tbody>\n",
       "</table>\n",
       "</div>"
      ],
      "text/plain": [
       "   species ec_uniprot\n",
       "0   231455    5.6.2.2\n",
       "1   231455    2.7.7.6\n",
       "2    33050    2.6.1.-\n",
       "3    33050   3.1.1.87\n",
       "4    33050   2.7.1.25"
      ]
     },
     "execution_count": 36,
     "metadata": {},
     "output_type": "execute_result"
    }
   ],
   "source": [
    "ncbi_df = pd.read_csv(os.path.join(DATA_DIR, 'ncbi-ec-2.csv'))\n",
    "ncbi_df.head()"
   ]
  },
  {
   "cell_type": "markdown",
   "id": "e55b2b0b-5c13-4a55-9d9e-ec871955a50e",
   "metadata": {
    "tags": []
   },
   "source": [
    "### Formatting final taxa2ec table for machine learning"
   ]
  },
  {
   "cell_type": "markdown",
   "id": "5db41f0a-f9b1-4c31-9d91-9d3c3b455c86",
   "metadata": {},
   "source": [
    "**[1] Reformat outputs**"
   ]
  },
  {
   "cell_type": "code",
   "execution_count": 37,
   "id": "c09225cb-8d85-4b7a-8024-2b178850b840",
   "metadata": {
    "tags": []
   },
   "outputs": [
    {
     "name": "stderr",
     "output_type": "stream",
     "text": [
      "<>:5: SyntaxWarning: invalid escape sequence '\\+'\n",
      "<>:5: SyntaxWarning: invalid escape sequence '\\+'\n",
      "C:\\Users\\jakel\\AppData\\Local\\Temp\\ipykernel_6676\\1599690582.py:5: SyntaxWarning: invalid escape sequence '\\+'\n",
      "  uniprot_ec['species'] = uniprot_ec['species'].replace('\\+',' ', regex=True)\n"
     ]
    },
    {
     "data": {
      "text/html": [
       "<div>\n",
       "<style scoped>\n",
       "    .dataframe tbody tr th:only-of-type {\n",
       "        vertical-align: middle;\n",
       "    }\n",
       "\n",
       "    .dataframe tbody tr th {\n",
       "        vertical-align: top;\n",
       "    }\n",
       "\n",
       "    .dataframe thead th {\n",
       "        text-align: right;\n",
       "    }\n",
       "</style>\n",
       "<table border=\"1\" class=\"dataframe\">\n",
       "  <thead>\n",
       "    <tr style=\"text-align: right;\">\n",
       "      <th></th>\n",
       "      <th>species</th>\n",
       "      <th>ec_uniprot</th>\n",
       "    </tr>\n",
       "  </thead>\n",
       "  <tbody>\n",
       "    <tr>\n",
       "      <th>0</th>\n",
       "      <td>Absidia glauca</td>\n",
       "      <td>[3.6.4.-, 3.6.4.-]</td>\n",
       "    </tr>\n",
       "    <tr>\n",
       "      <th>1</th>\n",
       "      <td>Acanthamoeba castellanii</td>\n",
       "      <td>[4.1.1.50, 7.1.1.9, 3.6.4.-, 7.1.1.2, 7.1.1.2,...</td>\n",
       "    </tr>\n",
       "    <tr>\n",
       "      <th>2</th>\n",
       "      <td>Acanthamoeba polyphaga</td>\n",
       "      <td>[6.1.1.1, 2.7.4.6, 2.1.1.56, 2.7.7.50, 3.6.1.7...</td>\n",
       "    </tr>\n",
       "    <tr>\n",
       "      <th>3</th>\n",
       "      <td>Acetivibrio thermocellus</td>\n",
       "      <td>[3.2.1.176, 3.2.1.4, 3.2.1.176, 3.2.1.55, 3.2....</td>\n",
       "    </tr>\n",
       "    <tr>\n",
       "      <th>4</th>\n",
       "      <td>Acetoanaerobium sticklandii</td>\n",
       "      <td>[5.4.3.5, 5.4.3.3, 1.21.4.2, 1.21.4.3, 1.21.4....</td>\n",
       "    </tr>\n",
       "    <tr>\n",
       "      <th>...</th>\n",
       "      <td>...</td>\n",
       "      <td>...</td>\n",
       "    </tr>\n",
       "    <tr>\n",
       "      <th>1724</th>\n",
       "      <td>Zygosaccharomyces bisporus</td>\n",
       "      <td>[3.1.-.-]</td>\n",
       "    </tr>\n",
       "    <tr>\n",
       "      <th>1725</th>\n",
       "      <td>Zygosaccharomyces rouxii</td>\n",
       "      <td>[1.1.1.25, 2.5.1.19, 2.7.1.71, 4.2.1.10, 4.2.3...</td>\n",
       "    </tr>\n",
       "    <tr>\n",
       "      <th>1726</th>\n",
       "      <td>Zygotorulaspora mrakii</td>\n",
       "      <td>[3.2.1.22]</td>\n",
       "    </tr>\n",
       "    <tr>\n",
       "      <th>1727</th>\n",
       "      <td>Zymomonas mobilis</td>\n",
       "      <td>[1.3.1.12, 1.3.1.43, 2.4.1.10, 2.4.2.29, 1.1.1...</td>\n",
       "    </tr>\n",
       "    <tr>\n",
       "      <th>1728</th>\n",
       "      <td>Zymomonas mobilis subsp. pomaceae</td>\n",
       "      <td>[5.3.1.24, 4.1.1.48]</td>\n",
       "    </tr>\n",
       "  </tbody>\n",
       "</table>\n",
       "<p>1729 rows × 2 columns</p>\n",
       "</div>"
      ],
      "text/plain": [
       "                                species  \\\n",
       "0                        Absidia glauca   \n",
       "1              Acanthamoeba castellanii   \n",
       "2                Acanthamoeba polyphaga   \n",
       "3              Acetivibrio thermocellus   \n",
       "4           Acetoanaerobium sticklandii   \n",
       "...                                 ...   \n",
       "1724         Zygosaccharomyces bisporus   \n",
       "1725           Zygosaccharomyces rouxii   \n",
       "1726             Zygotorulaspora mrakii   \n",
       "1727                  Zymomonas mobilis   \n",
       "1728  Zymomonas mobilis subsp. pomaceae   \n",
       "\n",
       "                                             ec_uniprot  \n",
       "0                                    [3.6.4.-, 3.6.4.-]  \n",
       "1     [4.1.1.50, 7.1.1.9, 3.6.4.-, 7.1.1.2, 7.1.1.2,...  \n",
       "2     [6.1.1.1, 2.7.4.6, 2.1.1.56, 2.7.7.50, 3.6.1.7...  \n",
       "3     [3.2.1.176, 3.2.1.4, 3.2.1.176, 3.2.1.55, 3.2....  \n",
       "4     [5.4.3.5, 5.4.3.3, 1.21.4.2, 1.21.4.3, 1.21.4....  \n",
       "...                                                 ...  \n",
       "1724                                          [3.1.-.-]  \n",
       "1725  [1.1.1.25, 2.5.1.19, 2.7.1.71, 4.2.1.10, 4.2.3...  \n",
       "1726                                         [3.2.1.22]  \n",
       "1727  [1.3.1.12, 1.3.1.43, 2.4.1.10, 2.4.2.29, 1.1.1...  \n",
       "1728                               [5.3.1.24, 4.1.1.48]  \n",
       "\n",
       "[1729 rows x 2 columns]"
      ]
     },
     "execution_count": 37,
     "metadata": {},
     "output_type": "execute_result"
    }
   ],
   "source": [
    "# UniProtKB taxa2ec\n",
    "\n",
    "# Reformat species names (remove '+' joiner)\n",
    "uniprot_ec = uniprot_df.copy()\n",
    "uniprot_ec['species'] = uniprot_ec['species'].replace('\\+',' ', regex=True)\n",
    "uniprot_ec['ec_uniprot'] = uniprot_ec['ec_uniprot'].str.replace(\";\", \",\")\n",
    "\n",
    "# Group ECs by species name\n",
    "uniprot_ec = uniprot_ec.groupby(\"species\", as_index=False)[\"ec_uniprot\"].apply(lambda x: \"[%s]\" % ', '.join(x))\n",
    "uniprot_ec"
   ]
  },
  {
   "cell_type": "code",
   "execution_count": 38,
   "id": "9bbea856-c021-499e-8494-4529275ec1ac",
   "metadata": {
    "tags": []
   },
   "outputs": [
    {
     "data": {
      "text/html": [
       "<div>\n",
       "<style scoped>\n",
       "    .dataframe tbody tr th:only-of-type {\n",
       "        vertical-align: middle;\n",
       "    }\n",
       "\n",
       "    .dataframe tbody tr th {\n",
       "        vertical-align: top;\n",
       "    }\n",
       "\n",
       "    .dataframe thead th {\n",
       "        text-align: right;\n",
       "    }\n",
       "</style>\n",
       "<table border=\"1\" class=\"dataframe\">\n",
       "  <thead>\n",
       "    <tr style=\"text-align: right;\">\n",
       "      <th></th>\n",
       "      <th>bacdive_id</th>\n",
       "      <th>taxon_id</th>\n",
       "      <th>type_strain</th>\n",
       "      <th>ec_bacdive</th>\n",
       "    </tr>\n",
       "  </thead>\n",
       "  <tbody>\n",
       "    <tr>\n",
       "      <th>0</th>\n",
       "      <td>24370</td>\n",
       "      <td>294</td>\n",
       "      <td>no</td>\n",
       "      <td>[1.9.3.1, 3.2.1.21, 3.5.1.5, 3.5.3.6]</td>\n",
       "    </tr>\n",
       "    <tr>\n",
       "      <th>1</th>\n",
       "      <td>24368</td>\n",
       "      <td>306</td>\n",
       "      <td>no</td>\n",
       "      <td>[1.9.3.1, 3.2.1.21, 3.5.1.5, 3.5.3.6]</td>\n",
       "    </tr>\n",
       "    <tr>\n",
       "      <th>2</th>\n",
       "      <td>23995</td>\n",
       "      <td>61646</td>\n",
       "      <td>no</td>\n",
       "      <td>NaN</td>\n",
       "    </tr>\n",
       "    <tr>\n",
       "      <th>3</th>\n",
       "      <td>17621</td>\n",
       "      <td>346</td>\n",
       "      <td>yes</td>\n",
       "      <td>NaN</td>\n",
       "    </tr>\n",
       "    <tr>\n",
       "      <th>4</th>\n",
       "      <td>17596</td>\n",
       "      <td>339</td>\n",
       "      <td>no</td>\n",
       "      <td>[3.2.1.23, 1.1.1.1, 3.4.21.50, 1.11.1.6, 4.1.1...</td>\n",
       "    </tr>\n",
       "  </tbody>\n",
       "</table>\n",
       "</div>"
      ],
      "text/plain": [
       "   bacdive_id taxon_id type_strain  \\\n",
       "0       24370      294          no   \n",
       "1       24368      306          no   \n",
       "2       23995    61646          no   \n",
       "3       17621      346         yes   \n",
       "4       17596      339          no   \n",
       "\n",
       "                                          ec_bacdive  \n",
       "0              [1.9.3.1, 3.2.1.21, 3.5.1.5, 3.5.3.6]  \n",
       "1              [1.9.3.1, 3.2.1.21, 3.5.1.5, 3.5.3.6]  \n",
       "2                                                NaN  \n",
       "3                                                NaN  \n",
       "4  [3.2.1.23, 1.1.1.1, 3.4.21.50, 1.11.1.6, 4.1.1...  "
      ]
     },
     "execution_count": 38,
     "metadata": {},
     "output_type": "execute_result"
    }
   ],
   "source": [
    "# BacDive taxa2ec\n",
    "\n",
    "bacdive_ec = bacdive_df[['bacdive_id','taxon_id','type_strain','ec']].copy()\n",
    "bacdive_ec['ec'] = bacdive_ec['ec'].str.replace(\"'\", \"\")\n",
    "bacdive_ec = bacdive_ec.rename(columns={'ec': 'ec_bacdive'})\n",
    "bacdive_ec.head()"
   ]
  },
  {
   "cell_type": "code",
   "execution_count": 39,
   "id": "d8f699fd",
   "metadata": {},
   "outputs": [
    {
     "data": {
      "text/html": [
       "<div>\n",
       "<style scoped>\n",
       "    .dataframe tbody tr th:only-of-type {\n",
       "        vertical-align: middle;\n",
       "    }\n",
       "\n",
       "    .dataframe tbody tr th {\n",
       "        vertical-align: top;\n",
       "    }\n",
       "\n",
       "    .dataframe thead th {\n",
       "        text-align: right;\n",
       "    }\n",
       "</style>\n",
       "<table border=\"1\" class=\"dataframe\">\n",
       "  <thead>\n",
       "    <tr style=\"text-align: right;\">\n",
       "      <th></th>\n",
       "      <th>taxon_id</th>\n",
       "      <th>ec_ncbi</th>\n",
       "    </tr>\n",
       "  </thead>\n",
       "  <tbody>\n",
       "    <tr>\n",
       "      <th>0</th>\n",
       "      <td>100884</td>\n",
       "      <td>[2.7.8.7, 5.3.3.2, 2.3.1.31, 3.5.99.6, 6.1.1.1...</td>\n",
       "    </tr>\n",
       "    <tr>\n",
       "      <th>1</th>\n",
       "      <td>1010</td>\n",
       "      <td>[1.1.1.262, 2.4.2.14, 5.6.2.2, 2.7.1.71, 4.2.1...</td>\n",
       "    </tr>\n",
       "    <tr>\n",
       "      <th>2</th>\n",
       "      <td>1014</td>\n",
       "      <td>[7.1.1.1]</td>\n",
       "    </tr>\n",
       "    <tr>\n",
       "      <th>3</th>\n",
       "      <td>1015</td>\n",
       "      <td>[2.6.1.42, 2.4.2.7, 3.4.11.4, 1.3.5.2, 4.1.1.2...</td>\n",
       "    </tr>\n",
       "    <tr>\n",
       "      <th>4</th>\n",
       "      <td>101564</td>\n",
       "      <td>[2.4.2.8, 3.6.5.-, 4.2.1.11, 3.5.1.108, 4.2.1....</td>\n",
       "    </tr>\n",
       "    <tr>\n",
       "      <th>...</th>\n",
       "      <td>...</td>\n",
       "      <td>...</td>\n",
       "    </tr>\n",
       "    <tr>\n",
       "      <th>1418</th>\n",
       "      <td>989</td>\n",
       "      <td>[2.7.4.3, 2.8.1.8, 6.3.5.-, 2.7.4.22, 2.1.3.2,...</td>\n",
       "    </tr>\n",
       "    <tr>\n",
       "      <th>1419</th>\n",
       "      <td>995</td>\n",
       "      <td>[2.4.2.7]</td>\n",
       "    </tr>\n",
       "    <tr>\n",
       "      <th>1420</th>\n",
       "      <td>996</td>\n",
       "      <td>[3.1.13.1, 2.7.7.6, 2.7.11.-, 2.7.4.-, 1.1.1.9...</td>\n",
       "    </tr>\n",
       "    <tr>\n",
       "      <th>1421</th>\n",
       "      <td>99653</td>\n",
       "      <td>[1.2.4.1, 3.5.2.6, 3.5.1.88, 6.5.1.1, 3.2.1.8,...</td>\n",
       "    </tr>\n",
       "    <tr>\n",
       "      <th>1422</th>\n",
       "      <td>997</td>\n",
       "      <td>[3.1.-.-]</td>\n",
       "    </tr>\n",
       "  </tbody>\n",
       "</table>\n",
       "<p>1423 rows × 2 columns</p>\n",
       "</div>"
      ],
      "text/plain": [
       "     taxon_id                                            ec_ncbi\n",
       "0      100884  [2.7.8.7, 5.3.3.2, 2.3.1.31, 3.5.99.6, 6.1.1.1...\n",
       "1        1010  [1.1.1.262, 2.4.2.14, 5.6.2.2, 2.7.1.71, 4.2.1...\n",
       "2        1014                                          [7.1.1.1]\n",
       "3        1015  [2.6.1.42, 2.4.2.7, 3.4.11.4, 1.3.5.2, 4.1.1.2...\n",
       "4      101564  [2.4.2.8, 3.6.5.-, 4.2.1.11, 3.5.1.108, 4.2.1....\n",
       "...       ...                                                ...\n",
       "1418      989  [2.7.4.3, 2.8.1.8, 6.3.5.-, 2.7.4.22, 2.1.3.2,...\n",
       "1419      995                                          [2.4.2.7]\n",
       "1420      996  [3.1.13.1, 2.7.7.6, 2.7.11.-, 2.7.4.-, 1.1.1.9...\n",
       "1421    99653  [1.2.4.1, 3.5.2.6, 3.5.1.88, 6.5.1.1, 3.2.1.8,...\n",
       "1422      997                                          [3.1.-.-]\n",
       "\n",
       "[1423 rows x 2 columns]"
      ]
     },
     "execution_count": 39,
     "metadata": {},
     "output_type": "execute_result"
    }
   ],
   "source": [
    "# NCBI taxa2ec\n",
    "\n",
    "ncbi_ec = ncbi_df.copy()\n",
    "ncbi_ec = ncbi_ec.astype(str)\n",
    "ncbi_ec = ncbi_ec.rename(columns={'species': 'taxon_id', 'ec_uniprot': 'ec_ncbi'})\n",
    "\n",
    "# Group ECs by species name\n",
    "ncbi_ec = ncbi_ec.groupby(\"taxon_id\", as_index=False)[\"ec_ncbi\"].apply(lambda x: \"[%s]\" % ', '.join(x))\n",
    "ncbi_ec\n"
   ]
  },
  {
   "cell_type": "markdown",
   "id": "a6a48845-388d-4f3d-ba76-3e44029c4010",
   "metadata": {},
   "source": [
    "**[2] Subset the MediaDive master table and merge with outputs**"
   ]
  },
  {
   "cell_type": "code",
   "execution_count": 40,
   "id": "ddcefc0b-dfab-4960-9426-d2d808a8f08e",
   "metadata": {
    "tags": []
   },
   "outputs": [
    {
     "data": {
      "text/html": [
       "<div>\n",
       "<style scoped>\n",
       "    .dataframe tbody tr th:only-of-type {\n",
       "        vertical-align: middle;\n",
       "    }\n",
       "\n",
       "    .dataframe tbody tr th {\n",
       "        vertical-align: top;\n",
       "    }\n",
       "\n",
       "    .dataframe thead th {\n",
       "        text-align: right;\n",
       "    }\n",
       "</style>\n",
       "<table border=\"1\" class=\"dataframe\">\n",
       "  <thead>\n",
       "    <tr style=\"text-align: right;\">\n",
       "      <th></th>\n",
       "      <th>media_id</th>\n",
       "      <th>name</th>\n",
       "      <th>components</th>\n",
       "      <th>component_ids</th>\n",
       "      <th>species</th>\n",
       "      <th>bacdive_id</th>\n",
       "      <th>ec_uniprot</th>\n",
       "    </tr>\n",
       "  </thead>\n",
       "  <tbody>\n",
       "    <tr>\n",
       "      <th>0</th>\n",
       "      <td>1</td>\n",
       "      <td>NUTRIENT AGAR</td>\n",
       "      <td>NaN</td>\n",
       "      <td>NaN</td>\n",
       "      <td>NaN</td>\n",
       "      <td>NaN</td>\n",
       "      <td>NaN</td>\n",
       "    </tr>\n",
       "    <tr>\n",
       "      <th>1</th>\n",
       "      <td>1a</td>\n",
       "      <td>REACTIVATION WITH LIQUID MEDIUM 1</td>\n",
       "      <td>['Peptone', 'Meat extract', 'Agar', 'Distilled...</td>\n",
       "      <td>[1, 2, 3, 4]</td>\n",
       "      <td>Comamonas testosteroni</td>\n",
       "      <td>2912.0</td>\n",
       "      <td>[2.6.1.1, 4.1.1.12, 1.13.11.74, 1.13.11.76, 1....</td>\n",
       "    </tr>\n",
       "    <tr>\n",
       "      <th>2</th>\n",
       "      <td>1a</td>\n",
       "      <td>REACTIVATION WITH LIQUID MEDIUM 1</td>\n",
       "      <td>['Peptone', 'Meat extract', 'Agar', 'Distilled...</td>\n",
       "      <td>[1, 2, 3, 4]</td>\n",
       "      <td>Delftia acidovorans</td>\n",
       "      <td>2941.0</td>\n",
       "      <td>[1.14.11.43, 1.14.11.44, 3.1.1.75, 2.4.2.1, 2....</td>\n",
       "    </tr>\n",
       "    <tr>\n",
       "      <th>3</th>\n",
       "      <td>1a</td>\n",
       "      <td>REACTIVATION WITH LIQUID MEDIUM 1</td>\n",
       "      <td>['Peptone', 'Meat extract', 'Agar', 'Distilled...</td>\n",
       "      <td>[1, 2, 3, 4]</td>\n",
       "      <td>Acidovorax delafieldii</td>\n",
       "      <td>2885.0</td>\n",
       "      <td>[1.1.1.37]</td>\n",
       "    </tr>\n",
       "    <tr>\n",
       "      <th>4</th>\n",
       "      <td>1a</td>\n",
       "      <td>REACTIVATION WITH LIQUID MEDIUM 1</td>\n",
       "      <td>['Peptone', 'Meat extract', 'Agar', 'Distilled...</td>\n",
       "      <td>[1, 2, 3, 4]</td>\n",
       "      <td>Pseudomonas putida</td>\n",
       "      <td>12895.0</td>\n",
       "      <td>[5.1.1.10, 5.3.3.1, 1.18.1.3, 1.2.98.1, 1.18.1...</td>\n",
       "    </tr>\n",
       "  </tbody>\n",
       "</table>\n",
       "</div>"
      ],
      "text/plain": [
       "  media_id                               name  \\\n",
       "0        1                      NUTRIENT AGAR   \n",
       "1       1a  REACTIVATION WITH LIQUID MEDIUM 1   \n",
       "2       1a  REACTIVATION WITH LIQUID MEDIUM 1   \n",
       "3       1a  REACTIVATION WITH LIQUID MEDIUM 1   \n",
       "4       1a  REACTIVATION WITH LIQUID MEDIUM 1   \n",
       "\n",
       "                                          components component_ids  \\\n",
       "0                                                NaN           NaN   \n",
       "1  ['Peptone', 'Meat extract', 'Agar', 'Distilled...  [1, 2, 3, 4]   \n",
       "2  ['Peptone', 'Meat extract', 'Agar', 'Distilled...  [1, 2, 3, 4]   \n",
       "3  ['Peptone', 'Meat extract', 'Agar', 'Distilled...  [1, 2, 3, 4]   \n",
       "4  ['Peptone', 'Meat extract', 'Agar', 'Distilled...  [1, 2, 3, 4]   \n",
       "\n",
       "                  species  bacdive_id  \\\n",
       "0                     NaN         NaN   \n",
       "1  Comamonas testosteroni      2912.0   \n",
       "2     Delftia acidovorans      2941.0   \n",
       "3  Acidovorax delafieldii      2885.0   \n",
       "4      Pseudomonas putida     12895.0   \n",
       "\n",
       "                                          ec_uniprot  \n",
       "0                                                NaN  \n",
       "1  [2.6.1.1, 4.1.1.12, 1.13.11.74, 1.13.11.76, 1....  \n",
       "2  [1.14.11.43, 1.14.11.44, 3.1.1.75, 2.4.2.1, 2....  \n",
       "3                                         [1.1.1.37]  \n",
       "4  [5.1.1.10, 5.3.3.1, 1.18.1.3, 1.2.98.1, 1.18.1...  "
      ]
     },
     "execution_count": 40,
     "metadata": {},
     "output_type": "execute_result"
    }
   ],
   "source": [
    "media_df = md_df[['media_id','name','components','component_ids','species','bacdive_id']].copy()\n",
    "\n",
    "# Completing merge in multiple steps since we're merging on different columns\n",
    "merged1 = pd.merge(left = media_df, right = uniprot_ec, on = 'species', how = 'left')\n",
    "merged2 = pd.merge(left = merged1, right = bacdive_ec, on = 'bacdive_id', how = 'left')\n",
    "merged3 = pd.merge(left = merged2, right = ncbi_ec, on = 'taxon_id', how = 'left')\n",
    "\n",
    "merged3.head()"
   ]
  },
  {
   "cell_type": "markdown",
   "id": "c88a5529-32fe-4992-b100-87475c8d6ba9",
   "metadata": {},
   "source": [
    "**[3] Format for machine learning**"
   ]
  },
  {
   "cell_type": "code",
   "execution_count": 43,
   "id": "49917b5b",
   "metadata": {},
   "outputs": [
    {
     "data": {
      "text/html": [
       "<div>\n",
       "<style scoped>\n",
       "    .dataframe tbody tr th:only-of-type {\n",
       "        vertical-align: middle;\n",
       "    }\n",
       "\n",
       "    .dataframe tbody tr th {\n",
       "        vertical-align: top;\n",
       "    }\n",
       "\n",
       "    .dataframe thead th {\n",
       "        text-align: right;\n",
       "    }\n",
       "</style>\n",
       "<table border=\"1\" class=\"dataframe\">\n",
       "  <thead>\n",
       "    <tr style=\"text-align: right;\">\n",
       "      <th></th>\n",
       "      <th>media_id</th>\n",
       "      <th>species</th>\n",
       "      <th>taxon_id</th>\n",
       "      <th>source</th>\n",
       "      <th>ec</th>\n",
       "    </tr>\n",
       "  </thead>\n",
       "  <tbody>\n",
       "    <tr>\n",
       "      <th>1</th>\n",
       "      <td>1a</td>\n",
       "      <td>Comamonas testosteroni</td>\n",
       "      <td>285</td>\n",
       "      <td>uniprot</td>\n",
       "      <td>2.6.1.1</td>\n",
       "    </tr>\n",
       "    <tr>\n",
       "      <th>1</th>\n",
       "      <td>1a</td>\n",
       "      <td>Comamonas testosteroni</td>\n",
       "      <td>285</td>\n",
       "      <td>uniprot</td>\n",
       "      <td>4.1.1.12</td>\n",
       "    </tr>\n",
       "    <tr>\n",
       "      <th>1</th>\n",
       "      <td>1a</td>\n",
       "      <td>Comamonas testosteroni</td>\n",
       "      <td>285</td>\n",
       "      <td>uniprot</td>\n",
       "      <td>1.13.11.74</td>\n",
       "    </tr>\n",
       "    <tr>\n",
       "      <th>1</th>\n",
       "      <td>1a</td>\n",
       "      <td>Comamonas testosteroni</td>\n",
       "      <td>285</td>\n",
       "      <td>uniprot</td>\n",
       "      <td>1.13.11.76</td>\n",
       "    </tr>\n",
       "    <tr>\n",
       "      <th>1</th>\n",
       "      <td>1a</td>\n",
       "      <td>Comamonas testosteroni</td>\n",
       "      <td>285</td>\n",
       "      <td>uniprot</td>\n",
       "      <td>1.14.13.23</td>\n",
       "    </tr>\n",
       "    <tr>\n",
       "      <th>...</th>\n",
       "      <td>...</td>\n",
       "      <td>...</td>\n",
       "      <td>...</td>\n",
       "      <td>...</td>\n",
       "      <td>...</td>\n",
       "    </tr>\n",
       "    <tr>\n",
       "      <th>92484</th>\n",
       "      <td>J1236</td>\n",
       "      <td>Thermus thermophilus</td>\n",
       "      <td>274</td>\n",
       "      <td>ncbi</td>\n",
       "      <td>6.1.1.16</td>\n",
       "    </tr>\n",
       "    <tr>\n",
       "      <th>92484</th>\n",
       "      <td>J1236</td>\n",
       "      <td>Thermus thermophilus</td>\n",
       "      <td>274</td>\n",
       "      <td>ncbi</td>\n",
       "      <td>2.5.1.145</td>\n",
       "    </tr>\n",
       "    <tr>\n",
       "      <th>92484</th>\n",
       "      <td>J1236</td>\n",
       "      <td>Thermus thermophilus</td>\n",
       "      <td>274</td>\n",
       "      <td>ncbi</td>\n",
       "      <td>1.1.1.37</td>\n",
       "    </tr>\n",
       "    <tr>\n",
       "      <th>92484</th>\n",
       "      <td>J1236</td>\n",
       "      <td>Thermus thermophilus</td>\n",
       "      <td>274</td>\n",
       "      <td>ncbi</td>\n",
       "      <td>5.2.1.8</td>\n",
       "    </tr>\n",
       "    <tr>\n",
       "      <th>92484</th>\n",
       "      <td>J1236</td>\n",
       "      <td>Thermus thermophilus</td>\n",
       "      <td>274</td>\n",
       "      <td>ncbi</td>\n",
       "      <td>1.5.1.7</td>\n",
       "    </tr>\n",
       "  </tbody>\n",
       "</table>\n",
       "<p>4369545 rows × 5 columns</p>\n",
       "</div>"
      ],
      "text/plain": [
       "      media_id                 species taxon_id   source          ec\n",
       "1           1a  Comamonas testosteroni      285  uniprot     2.6.1.1\n",
       "1           1a  Comamonas testosteroni      285  uniprot    4.1.1.12\n",
       "1           1a  Comamonas testosteroni      285  uniprot  1.13.11.74\n",
       "1           1a  Comamonas testosteroni      285  uniprot  1.13.11.76\n",
       "1           1a  Comamonas testosteroni      285  uniprot  1.14.13.23\n",
       "...        ...                     ...      ...      ...         ...\n",
       "92484    J1236    Thermus thermophilus      274     ncbi    6.1.1.16\n",
       "92484    J1236    Thermus thermophilus      274     ncbi   2.5.1.145\n",
       "92484    J1236    Thermus thermophilus      274     ncbi    1.1.1.37\n",
       "92484    J1236    Thermus thermophilus      274     ncbi     5.2.1.8\n",
       "92484    J1236    Thermus thermophilus      274     ncbi     1.5.1.7\n",
       "\n",
       "[4369545 rows x 5 columns]"
      ]
     },
     "execution_count": 43,
     "metadata": {},
     "output_type": "execute_result"
    }
   ],
   "source": [
    "final_df = merged3[[\"media_id\", \"species\", \"taxon_id\", \"ec_uniprot\", \"ec_bacdive\",\"ec_ncbi\"]].copy()\n",
    "\n",
    "# Melt ec columns and attribute ec source\n",
    "final_df = final_df.melt(\n",
    "    id_vars=[\"media_id\", \"species\", \"taxon_id\"],\n",
    "    value_vars=[\"ec_uniprot\", \"ec_bacdive\", \"ec_ncbi\"],\n",
    "    value_name=\"ec\",\n",
    "    var_name=\"source\"\n",
    ")\n",
    "\n",
    "# Format source and ec columns\n",
    "final_df[\"source\"] = final_df[\"source\"].str.replace(\"ec_\", \"\")\n",
    "final_df['ec'] = final_df['ec'].astype(str).copy()\n",
    "final_df[\"ec\"] = final_df[\"ec\"].str.replace(\"[\", \"\").str.replace(\"]\", \"\")\n",
    "final_df['ec'] = final_df['ec'].str.split(', ')\n",
    "final_df = final_df.explode('ec')\n",
    "\n",
    "# Remove rows with nan 'ec' values\n",
    "final_df = final_df.copy()\n",
    "substring = 'nan'\n",
    "filter = final_df['ec'].str.contains(substring) # create filter\n",
    "final_df = final_df[~filter]\n",
    "\n",
    "#final_df.to_csv(os.path.join(DATA_DIR, \"taxa2ec-final-2.csv\"), index=False)\n",
    "\n",
    "final_df"
   ]
  },
  {
   "cell_type": "markdown",
   "id": "80c2276d-c2ff-4861-8a58-b76b76ebeae0",
   "metadata": {},
   "source": [
    "### KEGG media2ec (KEGG cpd)"
   ]
  },
  {
   "cell_type": "markdown",
   "id": "57bb5900-e897-41f8-9c2b-83f6063a0963",
   "metadata": {
    "tags": []
   },
   "source": [
    "**[1] Copy relevant columns from the md_df MediaDive table** (skip to [3] after first time)"
   ]
  },
  {
   "cell_type": "code",
   "execution_count": 23,
   "id": "86ab954a-ec32-44e7-b2ec-c1ab3c73320e",
   "metadata": {
    "tags": []
   },
   "outputs": [
    {
     "data": {
      "text/html": [
       "<div>\n",
       "<style scoped>\n",
       "    .dataframe tbody tr th:only-of-type {\n",
       "        vertical-align: middle;\n",
       "    }\n",
       "\n",
       "    .dataframe tbody tr th {\n",
       "        vertical-align: top;\n",
       "    }\n",
       "\n",
       "    .dataframe thead th {\n",
       "        text-align: right;\n",
       "    }\n",
       "</style>\n",
       "<table border=\"1\" class=\"dataframe\">\n",
       "  <thead>\n",
       "    <tr style=\"text-align: right;\">\n",
       "      <th></th>\n",
       "      <th>media_id</th>\n",
       "      <th>name</th>\n",
       "      <th>source</th>\n",
       "      <th>components</th>\n",
       "      <th>component_ids</th>\n",
       "    </tr>\n",
       "  </thead>\n",
       "  <tbody>\n",
       "    <tr>\n",
       "      <th>1</th>\n",
       "      <td>1a</td>\n",
       "      <td>REACTIVATION WITH LIQUID MEDIUM 1</td>\n",
       "      <td>DSMZ</td>\n",
       "      <td>['Peptone', 'Meat extract', 'Agar', 'Distilled...</td>\n",
       "      <td>[1, 2, 3, 4]</td>\n",
       "    </tr>\n",
       "    <tr>\n",
       "      <th>216</th>\n",
       "      <td>9a</td>\n",
       "      <td>VY/2, REDUCED MEDIUM</td>\n",
       "      <td>DSMZ</td>\n",
       "      <td>[\"Baker's yeast\", 'CaCl2 x 2 H2O', 'Vitamin B1...</td>\n",
       "      <td>[17, 7, 18, 3, 4]</td>\n",
       "    </tr>\n",
       "    <tr>\n",
       "      <th>222</th>\n",
       "      <td>11a</td>\n",
       "      <td>MODIFIED MEDIUM 11</td>\n",
       "      <td>DSMZ</td>\n",
       "      <td>['Main sol. 11', 'Vitamin solution', 'Casein p...</td>\n",
       "      <td>[21, 2, 16, 5, 22, 10, 23, 24, 8, 14, 4, 46, 1...</td>\n",
       "    </tr>\n",
       "    <tr>\n",
       "      <th>223</th>\n",
       "      <td>11b</td>\n",
       "      <td>MRS MEDIUM (pre-reduced)</td>\n",
       "      <td>DSMZ</td>\n",
       "      <td>['Casein peptone', 'Meat extract', 'Yeast extr...</td>\n",
       "      <td>[21, 2, 16, 5, 22, 25, 10, 23, 24, 8, 14, 4, 770]</td>\n",
       "    </tr>\n",
       "    <tr>\n",
       "      <th>259</th>\n",
       "      <td>28a</td>\n",
       "      <td>THIORHODOCOCCUS MEDIUM</td>\n",
       "      <td>DSMZ</td>\n",
       "      <td>['Main sol. 28', 'NaCl', 'MgCl2 x 6 H2O', 'Sod...</td>\n",
       "      <td>[43, 79, 1126, 54, 4]</td>\n",
       "    </tr>\n",
       "  </tbody>\n",
       "</table>\n",
       "</div>"
      ],
      "text/plain": [
       "    media_id                               name source  \\\n",
       "1         1a  REACTIVATION WITH LIQUID MEDIUM 1   DSMZ   \n",
       "216       9a               VY/2, REDUCED MEDIUM   DSMZ   \n",
       "222      11a                 MODIFIED MEDIUM 11   DSMZ   \n",
       "223      11b           MRS MEDIUM (pre-reduced)   DSMZ   \n",
       "259      28a             THIORHODOCOCCUS MEDIUM   DSMZ   \n",
       "\n",
       "                                            components  \\\n",
       "1    ['Peptone', 'Meat extract', 'Agar', 'Distilled...   \n",
       "216  [\"Baker's yeast\", 'CaCl2 x 2 H2O', 'Vitamin B1...   \n",
       "222  ['Main sol. 11', 'Vitamin solution', 'Casein p...   \n",
       "223  ['Casein peptone', 'Meat extract', 'Yeast extr...   \n",
       "259  ['Main sol. 28', 'NaCl', 'MgCl2 x 6 H2O', 'Sod...   \n",
       "\n",
       "                                         component_ids  \n",
       "1                                         [1, 2, 3, 4]  \n",
       "216                                  [17, 7, 18, 3, 4]  \n",
       "222  [21, 2, 16, 5, 22, 10, 23, 24, 8, 14, 4, 46, 1...  \n",
       "223  [21, 2, 16, 5, 22, 25, 10, 23, 24, 8, 14, 4, 770]  \n",
       "259                              [43, 79, 1126, 54, 4]  "
      ]
     },
     "execution_count": 23,
     "metadata": {},
     "output_type": "execute_result"
    }
   ],
   "source": [
    "#Use same MediaDive table as above, focusing on columns with media and component information\n",
    "md_df = pd.read_csv(os.path.join(DATA_DIR,\"mediadive\",\"mediadive-all.csv\"), sep = ';')\n",
    "\n",
    "comps_df = md_df[['media_id','name','source','components','component_ids']].copy()\n",
    "comps_df['media_id'] = comps_df['media_id'].drop_duplicates()\n",
    "comps_df = comps_df.dropna()\n",
    "\n",
    "comps_df.head()"
   ]
  },
  {
   "cell_type": "markdown",
   "id": "eeb31db6-2d56-4e16-8cad-89127bf6009d",
   "metadata": {},
   "source": [
    "**[2] Retrieve ChEBI and KEGG id's for compounds**"
   ]
  },
  {
   "cell_type": "code",
   "execution_count": 24,
   "id": "4e19269e-29f3-48d7-a8c1-afcac2a5689b",
   "metadata": {},
   "outputs": [
    {
     "name": "stderr",
     "output_type": "stream",
     "text": [
      "100%|██████████| 763/763 [01:53<00:00,  6.74it/s]\n"
     ]
    },
    {
     "data": {
      "text/html": [
       "<div>\n",
       "<style scoped>\n",
       "    .dataframe tbody tr th:only-of-type {\n",
       "        vertical-align: middle;\n",
       "    }\n",
       "\n",
       "    .dataframe tbody tr th {\n",
       "        vertical-align: top;\n",
       "    }\n",
       "\n",
       "    .dataframe thead th {\n",
       "        text-align: right;\n",
       "    }\n",
       "</style>\n",
       "<table border=\"1\" class=\"dataframe\">\n",
       "  <thead>\n",
       "    <tr style=\"text-align: right;\">\n",
       "      <th></th>\n",
       "      <th>component_id</th>\n",
       "      <th>ChEBI</th>\n",
       "      <th>KEGG cpd</th>\n",
       "    </tr>\n",
       "  </thead>\n",
       "  <tbody>\n",
       "    <tr>\n",
       "      <th>0</th>\n",
       "      <td>2048</td>\n",
       "      <td>53389.0</td>\n",
       "      <td>None</td>\n",
       "    </tr>\n",
       "    <tr>\n",
       "      <th>1</th>\n",
       "      <td>1</td>\n",
       "      <td>NaN</td>\n",
       "      <td>None</td>\n",
       "    </tr>\n",
       "    <tr>\n",
       "      <th>2</th>\n",
       "      <td>2</td>\n",
       "      <td>NaN</td>\n",
       "      <td>None</td>\n",
       "    </tr>\n",
       "    <tr>\n",
       "      <th>3</th>\n",
       "      <td>3</td>\n",
       "      <td>2509.0</td>\n",
       "      <td>C08815</td>\n",
       "    </tr>\n",
       "    <tr>\n",
       "      <th>4</th>\n",
       "      <td>4</td>\n",
       "      <td>15377.0</td>\n",
       "      <td>C00001</td>\n",
       "    </tr>\n",
       "  </tbody>\n",
       "</table>\n",
       "</div>"
      ],
      "text/plain": [
       "   component_id    ChEBI KEGG cpd\n",
       "0          2048  53389.0     None\n",
       "1             1      NaN     None\n",
       "2             2      NaN     None\n",
       "3             3   2509.0   C08815\n",
       "4             4  15377.0   C00001"
      ]
     },
     "execution_count": 24,
     "metadata": {},
     "output_type": "execute_result"
    }
   ],
   "source": [
    "import modules.mediadive as md\n",
    "\n",
    "# Extract the component_ids into a list\n",
    "comps_df['component_ids'] = comps_df['component_ids'].astype(str).copy()\n",
    "\n",
    "def extract_ids(comps_df, component_ids):\n",
    "    id_set = set()  # Use a set to avoid duplicate IDs\n",
    "    for ids in comps_df['component_ids']:\n",
    "        id_list = eval(ids)  # Convert the string representation of the list to an actual list\n",
    "        id_set.update(id_list)\n",
    "    return list(id_set)\n",
    "\n",
    "# Extract IDs\n",
    "id_list = extract_ids(comps_df, 'ids')\n",
    "\n",
    "# Run functions to retrieve compound id's from component id's (MediaDive)\n",
    "compound_df = md.get_compounds(id_list)\n",
    "compound_df.head()"
   ]
  },
  {
   "cell_type": "markdown",
   "id": "89bcea1d-2f34-4809-9fe1-e4e5bacde1be",
   "metadata": {},
   "source": [
    "**[3] Final compound dataframe**"
   ]
  },
  {
   "cell_type": "code",
   "execution_count": 25,
   "id": "a4318038-e74a-4a9c-a440-354c7fb02361",
   "metadata": {
    "tags": []
   },
   "outputs": [
    {
     "data": {
      "text/html": [
       "<div>\n",
       "<style scoped>\n",
       "    .dataframe tbody tr th:only-of-type {\n",
       "        vertical-align: middle;\n",
       "    }\n",
       "\n",
       "    .dataframe tbody tr th {\n",
       "        vertical-align: top;\n",
       "    }\n",
       "\n",
       "    .dataframe thead th {\n",
       "        text-align: right;\n",
       "    }\n",
       "</style>\n",
       "<table border=\"1\" class=\"dataframe\">\n",
       "  <thead>\n",
       "    <tr style=\"text-align: right;\">\n",
       "      <th></th>\n",
       "      <th>component_id</th>\n",
       "      <th>ChEBI</th>\n",
       "      <th>KEGG cpd</th>\n",
       "    </tr>\n",
       "  </thead>\n",
       "  <tbody>\n",
       "    <tr>\n",
       "      <th>0</th>\n",
       "      <td>1</td>\n",
       "      <td>NaN</td>\n",
       "      <td>NaN</td>\n",
       "    </tr>\n",
       "    <tr>\n",
       "      <th>1</th>\n",
       "      <td>2</td>\n",
       "      <td>NaN</td>\n",
       "      <td>NaN</td>\n",
       "    </tr>\n",
       "    <tr>\n",
       "      <th>2</th>\n",
       "      <td>3</td>\n",
       "      <td>2509.0</td>\n",
       "      <td>C08815</td>\n",
       "    </tr>\n",
       "    <tr>\n",
       "      <th>3</th>\n",
       "      <td>4</td>\n",
       "      <td>15377.0</td>\n",
       "      <td>C00001</td>\n",
       "    </tr>\n",
       "    <tr>\n",
       "      <th>4</th>\n",
       "      <td>5</td>\n",
       "      <td>17234.0</td>\n",
       "      <td>C00293</td>\n",
       "    </tr>\n",
       "  </tbody>\n",
       "</table>\n",
       "</div>"
      ],
      "text/plain": [
       "   component_id    ChEBI KEGG cpd\n",
       "0             1      NaN      NaN\n",
       "1             2      NaN      NaN\n",
       "2             3   2509.0   C08815\n",
       "3             4  15377.0   C00001\n",
       "4             5  17234.0   C00293"
      ]
     },
     "execution_count": 25,
     "metadata": {},
     "output_type": "execute_result"
    }
   ],
   "source": [
    "compound_df = pd.read_csv('~/Desktop/code/data/mediadive/all-compounds.csv')\n",
    "compound_df.head()"
   ]
  },
  {
   "cell_type": "markdown",
   "id": "dc94a8a9-c8ef-4a50-b8bd-db2c6601aa88",
   "metadata": {},
   "source": [
    "**[4] Retrieval of EC numbers from KEGG compounds**"
   ]
  },
  {
   "cell_type": "code",
   "execution_count": 26,
   "id": "86c34b54-e6cc-4dfe-b57a-4eb1668bb7d4",
   "metadata": {
    "tags": []
   },
   "outputs": [],
   "source": [
    "# Making 'cpd_list' using the KEGG compound IDs\n",
    "cpd_df = compound_df['KEGG cpd'].dropna().copy()\n",
    "cpd_list = cpd_df.to_list()"
   ]
  },
  {
   "cell_type": "code",
   "execution_count": 27,
   "id": "30e6c8e0-0722-44c3-b8a2-f0f21f203011",
   "metadata": {
    "tags": []
   },
   "outputs": [
    {
     "name": "stdout",
     "output_type": "stream",
     "text": [
      "HTTP error occurred for C00293: 404 Client Error: Not Found for url: https://rest.kegg.jp/get/compound:C00293\n",
      "HTTP error occurred for C00382: 404 Client Error: Not Found for url: https://rest.kegg.jp/get/compound:C00382\n"
     ]
    },
    {
     "data": {
      "text/html": [
       "<div>\n",
       "<style scoped>\n",
       "    .dataframe tbody tr th:only-of-type {\n",
       "        vertical-align: middle;\n",
       "    }\n",
       "\n",
       "    .dataframe tbody tr th {\n",
       "        vertical-align: top;\n",
       "    }\n",
       "\n",
       "    .dataframe thead th {\n",
       "        text-align: right;\n",
       "    }\n",
       "</style>\n",
       "<table border=\"1\" class=\"dataframe\">\n",
       "  <thead>\n",
       "    <tr style=\"text-align: right;\">\n",
       "      <th></th>\n",
       "      <th>Entry</th>\n",
       "      <th>Enzyme</th>\n",
       "    </tr>\n",
       "  </thead>\n",
       "  <tbody>\n",
       "    <tr>\n",
       "      <th>0</th>\n",
       "      <td>C08815</td>\n",
       "      <td>None</td>\n",
       "    </tr>\n",
       "    <tr>\n",
       "      <th>1</th>\n",
       "      <td>C00001</td>\n",
       "      <td>1.1.1.1         1.1.1.22        1.1.1.23      ...</td>\n",
       "    </tr>\n",
       "    <tr>\n",
       "      <th>2</th>\n",
       "      <td>C12505</td>\n",
       "      <td>None</td>\n",
       "    </tr>\n",
       "    <tr>\n",
       "      <th>3</th>\n",
       "      <td>C13197</td>\n",
       "      <td>None</td>\n",
       "    </tr>\n",
       "    <tr>\n",
       "      <th>4</th>\n",
       "      <td>C08129</td>\n",
       "      <td>None</td>\n",
       "    </tr>\n",
       "    <tr>\n",
       "      <th>...</th>\n",
       "      <td>...</td>\n",
       "      <td>...</td>\n",
       "    </tr>\n",
       "    <tr>\n",
       "      <th>202</th>\n",
       "      <td>C00220</td>\n",
       "      <td>None</td>\n",
       "    </tr>\n",
       "    <tr>\n",
       "      <th>203</th>\n",
       "      <td>C14711</td>\n",
       "      <td>None</td>\n",
       "    </tr>\n",
       "    <tr>\n",
       "      <th>204</th>\n",
       "      <td>C00379</td>\n",
       "      <td>1.1.1.9         1.1.1.10        1.1.1.14      ...</td>\n",
       "    </tr>\n",
       "    <tr>\n",
       "      <th>205</th>\n",
       "      <td>C06573</td>\n",
       "      <td>None</td>\n",
       "    </tr>\n",
       "    <tr>\n",
       "      <th>206</th>\n",
       "      <td>C00245</td>\n",
       "      <td>1.4.2.-         1.4.99.2        1.5.1.23      ...</td>\n",
       "    </tr>\n",
       "  </tbody>\n",
       "</table>\n",
       "<p>207 rows × 2 columns</p>\n",
       "</div>"
      ],
      "text/plain": [
       "      Entry                                             Enzyme\n",
       "0    C08815                                               None\n",
       "1    C00001  1.1.1.1         1.1.1.22        1.1.1.23      ...\n",
       "2    C12505                                               None\n",
       "3    C13197                                               None\n",
       "4    C08129                                               None\n",
       "..      ...                                                ...\n",
       "202  C00220                                               None\n",
       "203  C14711                                               None\n",
       "204  C00379  1.1.1.9         1.1.1.10        1.1.1.14      ...\n",
       "205  C06573                                               None\n",
       "206  C00245  1.4.2.-         1.4.99.2        1.5.1.23      ...\n",
       "\n",
       "[207 rows x 2 columns]"
      ]
     },
     "execution_count": 27,
     "metadata": {},
     "output_type": "execute_result"
    }
   ],
   "source": [
    "import modules.kegg as kegg\n",
    "cpd2ec_df = kegg.compound2ec(cpd_list)\n",
    "cpd2ec_df"
   ]
  },
  {
   "cell_type": "markdown",
   "id": "a36c1582-cbf2-434b-bdfd-c02a7e11bb6c",
   "metadata": {},
   "source": [
    "### Formatting final media2ec table for machine learning"
   ]
  },
  {
   "cell_type": "markdown",
   "id": "d6385ed0-897f-4eb8-a136-ff22fc0aee41",
   "metadata": {},
   "source": [
    "**[1] Load and format dataframes**"
   ]
  },
  {
   "cell_type": "code",
   "execution_count": 28,
   "id": "37666985-cc63-4cb3-89b2-27cbfcf9477c",
   "metadata": {
    "tags": []
   },
   "outputs": [],
   "source": [
    "import pandas as pd\n",
    "import os\n",
    "DATA_DIR = ('~/Desktop/code/data')\n",
    "\n",
    "# Load and format md_df (MediaDive master table)\n",
    "md_df = pd.read_csv(os.path.join(DATA_DIR,\"mediadive\",\"mediadive-all.csv\"), sep = ';')\n",
    "# Explode rows by component_ids\n",
    "component_df = md_df.copy()\n",
    "component_df['component_ids'] = md_df['component_ids'].str.strip('[]')\n",
    "component_df['component_ids'] = component_df['component_ids'].str.split(', ').explode('component_ids')\n",
    "component_df = component_df.rename(columns={'component_ids': 'component_id'})\n",
    "\n",
    "# Load and format compound_df (component id to ChEBI, KEGG cpd)\n",
    "compound_df = pd.read_csv(os.path.join(DATA_DIR,\"mediadive\",\"all-compounds.csv\"))\n",
    "compound_df['component_id'] = compound_df['component_id'].astype(str)\n",
    "\n",
    "# Load and format kegg_comp (KEGG cpd's and ec numbers)\n",
    "kegg_comp = pd.read_csv(os.path.join(DATA_DIR,\"kegg\",\"kegg-compound-ec.csv\"))\n",
    "kegg_comp = kegg_comp.rename(columns={'Entry': 'KEGG cpd'})\n",
    "\n",
    "# Load and format taxon_id's from bacdive dataframe\n",
    "taxon_df = pd.read_csv(os.path.join(DATA_DIR,\"bacdive\",\"bacdive-all.csv\"), low_memory=False)\n",
    "taxon_df = taxon_df[['bacdive_id','taxon_id']]"
   ]
  },
  {
   "cell_type": "markdown",
   "id": "1ae12b07-0662-455a-afbc-638889877864",
   "metadata": {},
   "source": [
    "**[2] Merge and format**"
   ]
  },
  {
   "cell_type": "code",
   "execution_count": 29,
   "id": "be215f20-28d0-4530-8840-67a8a0735428",
   "metadata": {
    "tags": []
   },
   "outputs": [
    {
     "data": {
      "text/html": [
       "<div>\n",
       "<style scoped>\n",
       "    .dataframe tbody tr th:only-of-type {\n",
       "        vertical-align: middle;\n",
       "    }\n",
       "\n",
       "    .dataframe tbody tr th {\n",
       "        vertical-align: top;\n",
       "    }\n",
       "\n",
       "    .dataframe thead th {\n",
       "        text-align: right;\n",
       "    }\n",
       "</style>\n",
       "<table border=\"1\" class=\"dataframe\">\n",
       "  <thead>\n",
       "    <tr style=\"text-align: right;\">\n",
       "      <th></th>\n",
       "      <th>media_id</th>\n",
       "      <th>taxon_id</th>\n",
       "      <th>component_id</th>\n",
       "      <th>KEGG cpd</th>\n",
       "      <th>Enzyme</th>\n",
       "    </tr>\n",
       "  </thead>\n",
       "  <tbody>\n",
       "    <tr>\n",
       "      <th>0</th>\n",
       "      <td>NaN</td>\n",
       "      <td>[{'NCBI tax id': 435, 'Matching level': 'speci...</td>\n",
       "      <td>NaN</td>\n",
       "      <td>NaN</td>\n",
       "      <td>NaN</td>\n",
       "    </tr>\n",
       "    <tr>\n",
       "      <th>1</th>\n",
       "      <td>NaN</td>\n",
       "      <td>178900</td>\n",
       "      <td>NaN</td>\n",
       "      <td>NaN</td>\n",
       "      <td>NaN</td>\n",
       "    </tr>\n",
       "    <tr>\n",
       "      <th>2</th>\n",
       "      <td>NaN</td>\n",
       "      <td>438</td>\n",
       "      <td>NaN</td>\n",
       "      <td>NaN</td>\n",
       "      <td>NaN</td>\n",
       "    </tr>\n",
       "    <tr>\n",
       "      <th>3</th>\n",
       "      <td>NaN</td>\n",
       "      <td>[{'NCBI tax id': 438, 'Matching level': 'speci...</td>\n",
       "      <td>NaN</td>\n",
       "      <td>NaN</td>\n",
       "      <td>NaN</td>\n",
       "    </tr>\n",
       "    <tr>\n",
       "      <th>4</th>\n",
       "      <td>NaN</td>\n",
       "      <td>438</td>\n",
       "      <td>NaN</td>\n",
       "      <td>NaN</td>\n",
       "      <td>NaN</td>\n",
       "    </tr>\n",
       "  </tbody>\n",
       "</table>\n",
       "</div>"
      ],
      "text/plain": [
       "  media_id                                           taxon_id component_id  \\\n",
       "0      NaN  [{'NCBI tax id': 435, 'Matching level': 'speci...          NaN   \n",
       "1      NaN                                             178900          NaN   \n",
       "2      NaN                                                438          NaN   \n",
       "3      NaN  [{'NCBI tax id': 438, 'Matching level': 'speci...          NaN   \n",
       "4      NaN                                                438          NaN   \n",
       "\n",
       "  KEGG cpd Enzyme  \n",
       "0      NaN    NaN  \n",
       "1      NaN    NaN  \n",
       "2      NaN    NaN  \n",
       "3      NaN    NaN  \n",
       "4      NaN    NaN  "
      ]
     },
     "execution_count": 29,
     "metadata": {},
     "output_type": "execute_result"
    }
   ],
   "source": [
    "# Merge dataframe with component_id and compounds (KEGG), remove NaN 'KEGG cpd' values\n",
    "comp_comp = pd.merge(left=component_df, right=compound_df, on='component_id', how='outer')\n",
    "comp_comp = comp_comp.loc[comp_comp['KEGG cpd'].notnull()].copy()\n",
    "\n",
    "# Merge dataframe with KEGG cpd's and ec numbers, remove NaN 'Enzyme' values\n",
    "kegg2ec = pd.merge(left=comp_comp, right=kegg_comp, on='KEGG cpd', how='outer')\n",
    "kegg2ec = kegg2ec.loc[kegg2ec['Enzyme'].notnull()].copy()\n",
    "#kegg2ec.to_csv('~/Desktop/code/data/kegg/kegg-final.csv')\n",
    "#NOTE: not all 'component id's' have an associated 'KEGG compound', and not all 'KEGG compound's' have an associated 'Enzyme'...this means our final table has a loss of data from our original input\n",
    "    #Can try to remedy the data loss by splitting complex media components into their simpler forms\n",
    "    \n",
    "# Merge taxon_id's to kegg2ec table\n",
    "media_final = pd.merge(left=kegg2ec, right=taxon_df, on='bacdive_id', how='outer')\n",
    "# Format for use in machine learning models\n",
    "media_final = media_final[['media_id','taxon_id','component_id','KEGG cpd','Enzyme']]\n",
    "media_final.head()\n",
    "    #Two different model inputs: one with component id's, one with enzymes"
   ]
  },
  {
   "cell_type": "code",
   "execution_count": 30,
   "id": "38de96a6-f48b-4dd1-a31c-8f109f0fb70b",
   "metadata": {
    "tags": []
   },
   "outputs": [
    {
     "data": {
      "text/html": [
       "<div>\n",
       "<style scoped>\n",
       "    .dataframe tbody tr th:only-of-type {\n",
       "        vertical-align: middle;\n",
       "    }\n",
       "\n",
       "    .dataframe tbody tr th {\n",
       "        vertical-align: top;\n",
       "    }\n",
       "\n",
       "    .dataframe thead th {\n",
       "        text-align: right;\n",
       "    }\n",
       "</style>\n",
       "<table border=\"1\" class=\"dataframe\">\n",
       "  <thead>\n",
       "    <tr style=\"text-align: right;\">\n",
       "      <th></th>\n",
       "      <th>media_id</th>\n",
       "      <th>taxon_id</th>\n",
       "      <th>component_id</th>\n",
       "      <th>KEGG cpd</th>\n",
       "      <th>Enzyme</th>\n",
       "    </tr>\n",
       "  </thead>\n",
       "  <tbody>\n",
       "    <tr>\n",
       "      <th>0</th>\n",
       "      <td>NaN</td>\n",
       "      <td>[{'NCBI tax id': 435, 'Matching level': 'speci...</td>\n",
       "      <td>NaN</td>\n",
       "      <td>NaN</td>\n",
       "      <td>nan</td>\n",
       "    </tr>\n",
       "    <tr>\n",
       "      <th>1</th>\n",
       "      <td>NaN</td>\n",
       "      <td>178900</td>\n",
       "      <td>NaN</td>\n",
       "      <td>NaN</td>\n",
       "      <td>nan</td>\n",
       "    </tr>\n",
       "    <tr>\n",
       "      <th>2</th>\n",
       "      <td>NaN</td>\n",
       "      <td>438</td>\n",
       "      <td>NaN</td>\n",
       "      <td>NaN</td>\n",
       "      <td>nan</td>\n",
       "    </tr>\n",
       "    <tr>\n",
       "      <th>3</th>\n",
       "      <td>NaN</td>\n",
       "      <td>[{'NCBI tax id': 438, 'Matching level': 'speci...</td>\n",
       "      <td>NaN</td>\n",
       "      <td>NaN</td>\n",
       "      <td>nan</td>\n",
       "    </tr>\n",
       "    <tr>\n",
       "      <th>4</th>\n",
       "      <td>NaN</td>\n",
       "      <td>438</td>\n",
       "      <td>NaN</td>\n",
       "      <td>NaN</td>\n",
       "      <td>nan</td>\n",
       "    </tr>\n",
       "    <tr>\n",
       "      <th>...</th>\n",
       "      <td>...</td>\n",
       "      <td>...</td>\n",
       "      <td>...</td>\n",
       "      <td>...</td>\n",
       "      <td>...</td>\n",
       "    </tr>\n",
       "    <tr>\n",
       "      <th>28043</th>\n",
       "      <td>NaN</td>\n",
       "      <td>NaN</td>\n",
       "      <td>296</td>\n",
       "      <td>C15584</td>\n",
       "      <td></td>\n",
       "    </tr>\n",
       "    <tr>\n",
       "      <th>28043</th>\n",
       "      <td>NaN</td>\n",
       "      <td>NaN</td>\n",
       "      <td>296</td>\n",
       "      <td>C15584</td>\n",
       "      <td></td>\n",
       "    </tr>\n",
       "    <tr>\n",
       "      <th>28043</th>\n",
       "      <td>NaN</td>\n",
       "      <td>NaN</td>\n",
       "      <td>296</td>\n",
       "      <td>C15584</td>\n",
       "      <td></td>\n",
       "    </tr>\n",
       "    <tr>\n",
       "      <th>28043</th>\n",
       "      <td>NaN</td>\n",
       "      <td>NaN</td>\n",
       "      <td>296</td>\n",
       "      <td>C15584</td>\n",
       "      <td>3.1.1.2</td>\n",
       "    </tr>\n",
       "    <tr>\n",
       "      <th>28044</th>\n",
       "      <td>NaN</td>\n",
       "      <td>NaN</td>\n",
       "      <td>535</td>\n",
       "      <td>C16241</td>\n",
       "      <td>6.3.1.20</td>\n",
       "    </tr>\n",
       "  </tbody>\n",
       "</table>\n",
       "<p>425691 rows × 5 columns</p>\n",
       "</div>"
      ],
      "text/plain": [
       "      media_id                                           taxon_id  \\\n",
       "0          NaN  [{'NCBI tax id': 435, 'Matching level': 'speci...   \n",
       "1          NaN                                             178900   \n",
       "2          NaN                                                438   \n",
       "3          NaN  [{'NCBI tax id': 438, 'Matching level': 'speci...   \n",
       "4          NaN                                                438   \n",
       "...        ...                                                ...   \n",
       "28043      NaN                                                NaN   \n",
       "28043      NaN                                                NaN   \n",
       "28043      NaN                                                NaN   \n",
       "28043      NaN                                                NaN   \n",
       "28044      NaN                                                NaN   \n",
       "\n",
       "      component_id KEGG cpd    Enzyme  \n",
       "0              NaN      NaN       nan  \n",
       "1              NaN      NaN       nan  \n",
       "2              NaN      NaN       nan  \n",
       "3              NaN      NaN       nan  \n",
       "4              NaN      NaN       nan  \n",
       "...            ...      ...       ...  \n",
       "28043          296   C15584            \n",
       "28043          296   C15584            \n",
       "28043          296   C15584            \n",
       "28043          296   C15584   3.1.1.2  \n",
       "28044          535   C16241  6.3.1.20  \n",
       "\n",
       "[425691 rows x 5 columns]"
      ]
     },
     "execution_count": 30,
     "metadata": {},
     "output_type": "execute_result"
    }
   ],
   "source": [
    "#Explode EC numbers\n",
    "media_split = media_final.copy()\n",
    "media_split['Enzyme'] = media_split['Enzyme'].astype(str).str.split(' ')\n",
    "media_split = media_split.explode('Enzyme')\n",
    "media_split['Enzyme'] = media_split['Enzyme'].dropna()\n",
    "media_split"
   ]
  },
  {
   "cell_type": "code",
   "execution_count": 31,
   "id": "de1eca37-0b44-4714-912e-ca34334cfa26",
   "metadata": {
    "tags": []
   },
   "outputs": [],
   "source": [
    "media_split.to_csv('~/Desktop/code/data/media2ec-explode.csv')"
   ]
  },
  {
   "cell_type": "markdown",
   "id": "0f49a708-9b8a-4bb5-bec1-7844f8aa5c88",
   "metadata": {},
   "source": [
    "### EC comparison (taxa2ec vs media2ec)"
   ]
  },
  {
   "cell_type": "code",
   "execution_count": 1,
   "id": "faf3979f",
   "metadata": {},
   "outputs": [],
   "source": [
    "import pandas as pd"
   ]
  },
  {
   "cell_type": "code",
   "execution_count": 2,
   "id": "680df064-5857-44b7-b145-6585523f546b",
   "metadata": {
    "tags": []
   },
   "outputs": [],
   "source": [
    "# Convert taxa2ec info to list\n",
    "final_df = pd.read_csv('~/Desktop/code/data/taxa2ec-final.csv', low_memory=False)\n",
    "taxa2ec_list = final_df['ec'].to_list()\n",
    "\n",
    "# Convert kegg2ec info to list\n",
    "cpd2ec_df = pd.read_csv('~/Desktop/code/data/kegg/kegg-compound-ec.csv')\n",
    "def process():\n",
    "    df_filtered = cpd2ec_df[cpd2ec_df['Enzyme'] != 'None']\n",
    "    df_expanded = df_filtered.assign(Enzyme=df_filtered['Enzyme'].str.split()).explode('Enzyme')\n",
    "    return df_expanded\n",
    "filtered_df = process()\n",
    "kegg2ec_list = filtered_df['Enzyme'].dropna().to_list()\n",
    "\n",
    "#taxa2ec_list\n",
    "#kegg2ec_list"
   ]
  },
  {
   "cell_type": "code",
   "execution_count": 3,
   "id": "c78b9246-f9ec-4324-b90b-dbe8047d3d0d",
   "metadata": {
    "tags": []
   },
   "outputs": [
    {
     "data": {
      "text/plain": [
       "<matplotlib_venn._common.VennDiagram at 0x1f18401dac0>"
      ]
     },
     "execution_count": 3,
     "metadata": {},
     "output_type": "execute_result"
    },
    {
     "data": {
      "image/png": "[encoded data removed]",
      "text/plain": [
       "<Figure size 640x480 with 1 Axes>"
      ]
     },
     "metadata": {},
     "output_type": "display_data"
    }
   ],
   "source": [
    "from matplotlib_venn import venn2\n",
    "\n",
    "venn2(\n",
    "    subsets=[\n",
    "        set(taxa2ec_list),\n",
    "        set(kegg2ec_list)\n",
    "    ],\n",
    "    set_labels=[\n",
    "        \"taxa2ec\",\n",
    "        \"kegg2ec\"\n",
    "    ],\n",
    "    set_colors=[\n",
    "        \"lime\",\n",
    "        \"orange\"\n",
    "    ]\n",
    ")"
   ]
  },
  {
   "cell_type": "code",
   "execution_count": 4,
   "id": "882371ac-e698-4d00-9167-ec5805768792",
   "metadata": {
    "tags": []
   },
   "outputs": [],
   "source": [
    "# Make a list of the common ec's between these two lists\n",
    "set1 = set(taxa2ec_list)\n",
    "set2 = set(kegg2ec_list)\n",
    "common = list(set1.intersection(set2))\n",
    "\n",
    "# Put the list into a dataframe\n",
    "dict = {'ec': common}\n",
    "ecs = pd.DataFrame(dict)"
   ]
  },
  {
   "cell_type": "code",
   "execution_count": 5,
   "id": "0b367c1f-1a28-43b0-9e78-76f009ae1303",
   "metadata": {
    "tags": []
   },
   "outputs": [
    {
     "data": {
      "text/html": [
       "<div>\n",
       "<style scoped>\n",
       "    .dataframe tbody tr th:only-of-type {\n",
       "        vertical-align: middle;\n",
       "    }\n",
       "\n",
       "    .dataframe tbody tr th {\n",
       "        vertical-align: top;\n",
       "    }\n",
       "\n",
       "    .dataframe thead th {\n",
       "        text-align: right;\n",
       "    }\n",
       "</style>\n",
       "<table border=\"1\" class=\"dataframe\">\n",
       "  <thead>\n",
       "    <tr style=\"text-align: right;\">\n",
       "      <th></th>\n",
       "      <th>Group</th>\n",
       "      <th>Total Count</th>\n",
       "    </tr>\n",
       "  </thead>\n",
       "  <tbody>\n",
       "    <tr>\n",
       "      <th>0</th>\n",
       "      <td>1</td>\n",
       "      <td>147</td>\n",
       "    </tr>\n",
       "    <tr>\n",
       "      <th>1</th>\n",
       "      <td>2</td>\n",
       "      <td>55</td>\n",
       "    </tr>\n",
       "    <tr>\n",
       "      <th>2</th>\n",
       "      <td>3</td>\n",
       "      <td>23</td>\n",
       "    </tr>\n",
       "    <tr>\n",
       "      <th>3</th>\n",
       "      <td>4</td>\n",
       "      <td>4</td>\n",
       "    </tr>\n",
       "    <tr>\n",
       "      <th>4</th>\n",
       "      <td>6</td>\n",
       "      <td>2</td>\n",
       "    </tr>\n",
       "  </tbody>\n",
       "</table>\n",
       "</div>"
      ],
      "text/plain": [
       "  Group  Total Count\n",
       "0     1          147\n",
       "1     2           55\n",
       "2     3           23\n",
       "3     4            4\n",
       "4     6            2"
      ]
     },
     "execution_count": 5,
     "metadata": {},
     "output_type": "execute_result"
    }
   ],
   "source": [
    "# Summing the abundance of enzymes across our taxa related to different enzyme groups\n",
    "enzyme_df = ecs.value_counts(\"ec\").reset_index().copy() #ecs.value_counts originally\n",
    "enzyme_df['Group'] = enzyme_df['ec'].apply(lambda x: x.strip().split('.')[0])\n",
    "grouped_df = enzyme_df.groupby('Group')['count'].sum().reset_index()\n",
    "grouped_df.columns = ['Group','Total Count']\n",
    "grouped_df"
   ]
  },
  {
   "cell_type": "code",
   "execution_count": 6,
   "id": "3d9b72ac",
   "metadata": {},
   "outputs": [
    {
     "data": {
      "text/html": [
       "<div>\n",
       "<style scoped>\n",
       "    .dataframe tbody tr th:only-of-type {\n",
       "        vertical-align: middle;\n",
       "    }\n",
       "\n",
       "    .dataframe tbody tr th {\n",
       "        vertical-align: top;\n",
       "    }\n",
       "\n",
       "    .dataframe thead th {\n",
       "        text-align: right;\n",
       "    }\n",
       "</style>\n",
       "<table border=\"1\" class=\"dataframe\">\n",
       "  <thead>\n",
       "    <tr style=\"text-align: right;\">\n",
       "      <th></th>\n",
       "      <th>Group</th>\n",
       "      <th>Total Count</th>\n",
       "    </tr>\n",
       "  </thead>\n",
       "  <tbody>\n",
       "    <tr>\n",
       "      <th>0</th>\n",
       "      <td>1</td>\n",
       "      <td>147</td>\n",
       "    </tr>\n",
       "    <tr>\n",
       "      <th>1</th>\n",
       "      <td>2</td>\n",
       "      <td>55</td>\n",
       "    </tr>\n",
       "    <tr>\n",
       "      <th>2</th>\n",
       "      <td>3</td>\n",
       "      <td>23</td>\n",
       "    </tr>\n",
       "    <tr>\n",
       "      <th>3</th>\n",
       "      <td>4</td>\n",
       "      <td>4</td>\n",
       "    </tr>\n",
       "    <tr>\n",
       "      <th>5</th>\n",
       "      <td>5</td>\n",
       "      <td>0</td>\n",
       "    </tr>\n",
       "    <tr>\n",
       "      <th>4</th>\n",
       "      <td>6</td>\n",
       "      <td>2</td>\n",
       "    </tr>\n",
       "    <tr>\n",
       "      <th>6</th>\n",
       "      <td>7</td>\n",
       "      <td>0</td>\n",
       "    </tr>\n",
       "  </tbody>\n",
       "</table>\n",
       "</div>"
      ],
      "text/plain": [
       "   Group  Total Count\n",
       "0      1          147\n",
       "1      2           55\n",
       "2      3           23\n",
       "3      4            4\n",
       "5      5            0\n",
       "4      6            2\n",
       "6      7            0"
      ]
     },
     "execution_count": 6,
     "metadata": {},
     "output_type": "execute_result"
    }
   ],
   "source": [
    "# Create filler rows for classes which have 0 counts (manual step)\n",
    "filler_dict = {'Group':[5,7],\n",
    "        'Total Count':[0,0]\n",
    "       }\n",
    "\n",
    "filler = pd.DataFrame(filler_dict)\n",
    "\n",
    "grouped_df = pd.concat([grouped_df,filler], ignore_index = True).copy()\n",
    "grouped_df['Group'] = grouped_df['Group'].astype(int)\n",
    "grouped_df = grouped_df.sort_values('Group')\n",
    "grouped_df.reset_index()\n",
    "\n",
    "grouped_df"
   ]
  },
  {
   "cell_type": "code",
   "execution_count": 7,
   "id": "d2187221-2043-476a-a474-3ebacc47e51f",
   "metadata": {
    "tags": []
   },
   "outputs": [
    {
     "name": "stdout",
     "output_type": "stream",
     "text": [
      "   Group            Class  Total Count\n",
      "0      1  Oxidoreductases          147\n",
      "1      2     Transferases           55\n",
      "2      3       Hydrolases           23\n",
      "3      4           Lyases            4\n",
      "5      5       Isomerases            0\n",
      "4      6          Ligases            2\n",
      "6      7     Translocases            0\n"
     ]
    }
   ],
   "source": [
    "# Adding information on the type of enzymes (NOTE: no enzymes from class 5 or 7, so removed these labels...could alternatively have a place holder above)\n",
    "ec_class = ['Oxidoreductases','Transferases','Hydrolases','Lyases','Isomerases','Ligases','Translocases']\n",
    "grouped_df['Class'] = ec_class\n",
    "\n",
    "enzyme_counts = grouped_df[['Group','Class','Total Count']]\n",
    "print(enzyme_counts)"
   ]
  },
  {
   "cell_type": "code",
   "execution_count": 12,
   "id": "ee2f2c4f-3f41-4d69-90b0-37ecdaf424af",
   "metadata": {
    "tags": []
   },
   "outputs": [
    {
     "data": {
      "application/vnd.plotly.v1+json": {
       "config": {
        "plotlyServerURL": "https://plot.ly"
       },
       "data": [
        {
         "alignmentgroup": "True",
         "hovertemplate": "Class=%{x}<br>Total Count=%{y}<extra></extra>",
         "legendgroup": "",
         "marker": {
          "color": "#636efa",
          "pattern": {
           "shape": ""
          }
         },
         "name": "",
         "offsetgroup": "",
         "orientation": "v",
         "showlegend": false,
         "textposition": "auto",
         "type": "bar",
         "x": [
          "Oxidoreductases",
          "Transferases",
          "Hydrolases",
          "Lyases",
          "Isomerases",
          "Ligases",
          "Translocases"
         ],
         "xaxis": "x",
         "y": [
          147,
          55,
          23,
          4,
          0,
          2,
          0
         ],
         "yaxis": "y"
        }
       ],
       "layout": {
        "barmode": "relative",
        "legend": {
         "tracegroupgap": 0
        },
        "margin": {
         "t": 60
        },
        "template": {
         "data": {
          "bar": [
           {
            "error_x": {
             "color": "#2a3f5f"
            },
            "error_y": {
             "color": "#2a3f5f"
            },
            "marker": {
             "line": {
              "color": "#E5ECF6",
              "width": 0.5
             },
             "pattern": {
              "fillmode": "overlay",
              "size": 10,
              "solidity": 0.2
             }
            },
            "type": "bar"
           }
          ],
          "barpolar": [
           {
            "marker": {
             "line": {
              "color": "#E5ECF6",
              "width": 0.5
             },
             "pattern": {
              "fillmode": "overlay",
              "size": 10,
              "solidity": 0.2
             }
            },
            "type": "barpolar"
           }
          ],
          "carpet": [
           {
            "aaxis": {
             "endlinecolor": "#2a3f5f",
             "gridcolor": "white",
             "linecolor": "white",
             "minorgridcolor": "white",
             "startlinecolor": "#2a3f5f"
            },
            "baxis": {
             "endlinecolor": "#2a3f5f",
             "gridcolor": "white",
             "linecolor": "white",
             "minorgridcolor": "white",
             "startlinecolor": "#2a3f5f"
            },
            "type": "carpet"
           }
          ],
          "choropleth": [
           {
            "colorbar": {
             "outlinewidth": 0,
             "ticks": ""
            },
            "type": "choropleth"
           }
          ],
          "contour": [
           {
            "colorbar": {
             "outlinewidth": 0,
             "ticks": ""
            },
            "colorscale": [
             [
              0,
              "#0d0887"
             ],
             [
              0.1111111111111111,
              "#46039f"
             ],
             [
              0.2222222222222222,
              "#7201a8"
             ],
             [
              0.3333333333333333,
              "#9c179e"
             ],
             [
              0.4444444444444444,
              "#bd3786"
             ],
             [
              0.5555555555555556,
              "#d8576b"
             ],
             [
              0.6666666666666666,
              "#ed7953"
             ],
             [
              0.7777777777777778,
              "#fb9f3a"
             ],
             [
              0.8888888888888888,
              "#fdca26"
             ],
             [
              1,
              "#f0f921"
             ]
            ],
            "type": "contour"
           }
          ],
          "contourcarpet": [
           {
            "colorbar": {
             "outlinewidth": 0,
             "ticks": ""
            },
            "type": "contourcarpet"
           }
          ],
          "heatmap": [
           {
            "colorbar": {
             "outlinewidth": 0,
             "ticks": ""
            },
            "colorscale": [
             [
              0,
              "#0d0887"
             ],
             [
              0.1111111111111111,
              "#46039f"
             ],
             [
              0.2222222222222222,
              "#7201a8"
             ],
             [
              0.3333333333333333,
              "#9c179e"
             ],
             [
              0.4444444444444444,
              "#bd3786"
             ],
             [
              0.5555555555555556,
              "#d8576b"
             ],
             [
              0.6666666666666666,
              "#ed7953"
             ],
             [
              0.7777777777777778,
              "#fb9f3a"
             ],
             [
              0.8888888888888888,
              "#fdca26"
             ],
             [
              1,
              "#f0f921"
             ]
            ],
            "type": "heatmap"
           }
          ],
          "heatmapgl": [
           {
            "colorbar": {
             "outlinewidth": 0,
             "ticks": ""
            },
            "colorscale": [
             [
              0,
              "#0d0887"
             ],
             [
              0.1111111111111111,
              "#46039f"
             ],
             [
              0.2222222222222222,
              "#7201a8"
             ],
             [
              0.3333333333333333,
              "#9c179e"
             ],
             [
              0.4444444444444444,
              "#bd3786"
             ],
             [
              0.5555555555555556,
              "#d8576b"
             ],
             [
              0.6666666666666666,
              "#ed7953"
             ],
             [
              0.7777777777777778,
              "#fb9f3a"
             ],
             [
              0.8888888888888888,
              "#fdca26"
             ],
             [
              1,
              "#f0f921"
             ]
            ],
            "type": "heatmapgl"
           }
          ],
          "histogram": [
           {
            "marker": {
             "pattern": {
              "fillmode": "overlay",
              "size": 10,
              "solidity": 0.2
             }
            },
            "type": "histogram"
           }
          ],
          "histogram2d": [
           {
            "colorbar": {
             "outlinewidth": 0,
             "ticks": ""
            },
            "colorscale": [
             [
              0,
              "#0d0887"
             ],
             [
              0.1111111111111111,
              "#46039f"
             ],
             [
              0.2222222222222222,
              "#7201a8"
             ],
             [
              0.3333333333333333,
              "#9c179e"
             ],
             [
              0.4444444444444444,
              "#bd3786"
             ],
             [
              0.5555555555555556,
              "#d8576b"
             ],
             [
              0.6666666666666666,
              "#ed7953"
             ],
             [
              0.7777777777777778,
              "#fb9f3a"
             ],
             [
              0.8888888888888888,
              "#fdca26"
             ],
             [
              1,
              "#f0f921"
             ]
            ],
            "type": "histogram2d"
           }
          ],
          "histogram2dcontour": [
           {
            "colorbar": {
             "outlinewidth": 0,
             "ticks": ""
            },
            "colorscale": [
             [
              0,
              "#0d0887"
             ],
             [
              0.1111111111111111,
              "#46039f"
             ],
             [
              0.2222222222222222,
              "#7201a8"
             ],
             [
              0.3333333333333333,
              "#9c179e"
             ],
             [
              0.4444444444444444,
              "#bd3786"
             ],
             [
              0.5555555555555556,
              "#d8576b"
             ],
             [
              0.6666666666666666,
              "#ed7953"
             ],
             [
              0.7777777777777778,
              "#fb9f3a"
             ],
             [
              0.8888888888888888,
              "#fdca26"
             ],
             [
              1,
              "#f0f921"
             ]
            ],
            "type": "histogram2dcontour"
           }
          ],
          "mesh3d": [
           {
            "colorbar": {
             "outlinewidth": 0,
             "ticks": ""
            },
            "type": "mesh3d"
           }
          ],
          "parcoords": [
           {
            "line": {
             "colorbar": {
              "outlinewidth": 0,
              "ticks": ""
             }
            },
            "type": "parcoords"
           }
          ],
          "pie": [
           {
            "automargin": true,
            "type": "pie"
           }
          ],
          "scatter": [
           {
            "fillpattern": {
             "fillmode": "overlay",
             "size": 10,
             "solidity": 0.2
            },
            "type": "scatter"
           }
          ],
          "scatter3d": [
           {
            "line": {
             "colorbar": {
              "outlinewidth": 0,
              "ticks": ""
             }
            },
            "marker": {
             "colorbar": {
              "outlinewidth": 0,
              "ticks": ""
             }
            },
            "type": "scatter3d"
           }
          ],
          "scattercarpet": [
           {
            "marker": {
             "colorbar": {
              "outlinewidth": 0,
              "ticks": ""
             }
            },
            "type": "scattercarpet"
           }
          ],
          "scattergeo": [
           {
            "marker": {
             "colorbar": {
              "outlinewidth": 0,
              "ticks": ""
             }
            },
            "type": "scattergeo"
           }
          ],
          "scattergl": [
           {
            "marker": {
             "colorbar": {
              "outlinewidth": 0,
              "ticks": ""
             }
            },
            "type": "scattergl"
           }
          ],
          "scattermapbox": [
           {
            "marker": {
             "colorbar": {
              "outlinewidth": 0,
              "ticks": ""
             }
            },
            "type": "scattermapbox"
           }
          ],
          "scatterpolar": [
           {
            "marker": {
             "colorbar": {
              "outlinewidth": 0,
              "ticks": ""
             }
            },
            "type": "scatterpolar"
           }
          ],
          "scatterpolargl": [
           {
            "marker": {
             "colorbar": {
              "outlinewidth": 0,
              "ticks": ""
             }
            },
            "type": "scatterpolargl"
           }
          ],
          "scatterternary": [
           {
            "marker": {
             "colorbar": {
              "outlinewidth": 0,
              "ticks": ""
             }
            },
            "type": "scatterternary"
           }
          ],
          "surface": [
           {
            "colorbar": {
             "outlinewidth": 0,
             "ticks": ""
            },
            "colorscale": [
             [
              0,
              "#0d0887"
             ],
             [
              0.1111111111111111,
              "#46039f"
             ],
             [
              0.2222222222222222,
              "#7201a8"
             ],
             [
              0.3333333333333333,
              "#9c179e"
             ],
             [
              0.4444444444444444,
              "#bd3786"
             ],
             [
              0.5555555555555556,
              "#d8576b"
             ],
             [
              0.6666666666666666,
              "#ed7953"
             ],
             [
              0.7777777777777778,
              "#fb9f3a"
             ],
             [
              0.8888888888888888,
              "#fdca26"
             ],
             [
              1,
              "#f0f921"
             ]
            ],
            "type": "surface"
           }
          ],
          "table": [
           {
            "cells": {
             "fill": {
              "color": "#EBF0F8"
             },
             "line": {
              "color": "white"
             }
            },
            "header": {
             "fill": {
              "color": "#C8D4E3"
             },
             "line": {
              "color": "white"
             }
            },
            "type": "table"
           }
          ]
         },
         "layout": {
          "annotationdefaults": {
           "arrowcolor": "#2a3f5f",
           "arrowhead": 0,
           "arrowwidth": 1
          },
          "autotypenumbers": "strict",
          "coloraxis": {
           "colorbar": {
            "outlinewidth": 0,
            "ticks": ""
           }
          },
          "colorscale": {
           "diverging": [
            [
             0,
             "#8e0152"
            ],
            [
             0.1,
             "#c51b7d"
            ],
            [
             0.2,
             "#de77ae"
            ],
            [
             0.3,
             "#f1b6da"
            ],
            [
             0.4,
             "#fde0ef"
            ],
            [
             0.5,
             "#f7f7f7"
            ],
            [
             0.6,
             "#e6f5d0"
            ],
            [
             0.7,
             "#b8e186"
            ],
            [
             0.8,
             "#7fbc41"
            ],
            [
             0.9,
             "#4d9221"
            ],
            [
             1,
             "#276419"
            ]
           ],
           "sequential": [
            [
             0,
             "#0d0887"
            ],
            [
             0.1111111111111111,
             "#46039f"
            ],
            [
             0.2222222222222222,
             "#7201a8"
            ],
            [
             0.3333333333333333,
             "#9c179e"
            ],
            [
             0.4444444444444444,
             "#bd3786"
            ],
            [
             0.5555555555555556,
             "#d8576b"
            ],
            [
             0.6666666666666666,
             "#ed7953"
            ],
            [
             0.7777777777777778,
             "#fb9f3a"
            ],
            [
             0.8888888888888888,
             "#fdca26"
            ],
            [
             1,
             "#f0f921"
            ]
           ],
           "sequentialminus": [
            [
             0,
             "#0d0887"
            ],
            [
             0.1111111111111111,
             "#46039f"
            ],
            [
             0.2222222222222222,
             "#7201a8"
            ],
            [
             0.3333333333333333,
             "#9c179e"
            ],
            [
             0.4444444444444444,
             "#bd3786"
            ],
            [
             0.5555555555555556,
             "#d8576b"
            ],
            [
             0.6666666666666666,
             "#ed7953"
            ],
            [
             0.7777777777777778,
             "#fb9f3a"
            ],
            [
             0.8888888888888888,
             "#fdca26"
            ],
            [
             1,
             "#f0f921"
            ]
           ]
          },
          "colorway": [
           "#636efa",
           "#EF553B",
           "#00cc96",
           "#ab63fa",
           "#FFA15A",
           "#19d3f3",
           "#FF6692",
           "#B6E880",
           "#FF97FF",
           "#FECB52"
          ],
          "font": {
           "color": "#2a3f5f"
          },
          "geo": {
           "bgcolor": "white",
           "lakecolor": "white",
           "landcolor": "#E5ECF6",
           "showlakes": true,
           "showland": true,
           "subunitcolor": "white"
          },
          "hoverlabel": {
           "align": "left"
          },
          "hovermode": "closest",
          "mapbox": {
           "style": "light"
          },
          "paper_bgcolor": "white",
          "plot_bgcolor": "#E5ECF6",
          "polar": {
           "angularaxis": {
            "gridcolor": "white",
            "linecolor": "white",
            "ticks": ""
           },
           "bgcolor": "#E5ECF6",
           "radialaxis": {
            "gridcolor": "white",
            "linecolor": "white",
            "ticks": ""
           }
          },
          "scene": {
           "xaxis": {
            "backgroundcolor": "#E5ECF6",
            "gridcolor": "white",
            "gridwidth": 2,
            "linecolor": "white",
            "showbackground": true,
            "ticks": "",
            "zerolinecolor": "white"
           },
           "yaxis": {
            "backgroundcolor": "#E5ECF6",
            "gridcolor": "white",
            "gridwidth": 2,
            "linecolor": "white",
            "showbackground": true,
            "ticks": "",
            "zerolinecolor": "white"
           },
           "zaxis": {
            "backgroundcolor": "#E5ECF6",
            "gridcolor": "white",
            "gridwidth": 2,
            "linecolor": "white",
            "showbackground": true,
            "ticks": "",
            "zerolinecolor": "white"
           }
          },
          "shapedefaults": {
           "line": {
            "color": "#2a3f5f"
           }
          },
          "ternary": {
           "aaxis": {
            "gridcolor": "white",
            "linecolor": "white",
            "ticks": ""
           },
           "baxis": {
            "gridcolor": "white",
            "linecolor": "white",
            "ticks": ""
           },
           "bgcolor": "#E5ECF6",
           "caxis": {
            "gridcolor": "white",
            "linecolor": "white",
            "ticks": ""
           }
          },
          "title": {
           "x": 0.05
          },
          "xaxis": {
           "automargin": true,
           "gridcolor": "white",
           "linecolor": "white",
           "ticks": "",
           "title": {
            "standoff": 15
           },
           "zerolinecolor": "white",
           "zerolinewidth": 2
          },
          "yaxis": {
           "automargin": true,
           "gridcolor": "white",
           "linecolor": "white",
           "ticks": "",
           "title": {
            "standoff": 15
           },
           "zerolinecolor": "white",
           "zerolinewidth": 2
          }
         }
        },
        "xaxis": {
         "anchor": "y",
         "domain": [
          0,
          1
         ],
         "title": {
          "text": "Class"
         }
        },
        "yaxis": {
         "anchor": "x",
         "domain": [
          0,
          1
         ],
         "title": {
          "text": "Total Count"
         }
        }
       }
      }
     },
     "metadata": {},
     "output_type": "display_data"
    }
   ],
   "source": [
    "from matplotlib import pyplot as plt\n",
    "import plotly.express as px\n",
    "\n",
    "# Plot the occurrence of enzymes across all of our selected taxa \n",
    "fig2 = px.bar(enzyme_counts, x=\"Class\", y=\"Total Count\") #, title=\"Overlap of enzyme classes between taxa and media:\"\n",
    "fig2.show()"
   ]
  },
  {
   "cell_type": "code",
   "execution_count": null,
   "id": "801c4ebf-43fb-43f7-a68a-f6b2866864f9",
   "metadata": {
    "tags": []
   },
   "outputs": [],
   "source": [
    "#EC 1: Oxidoreductases – Enzymes that catalyze oxidation-reduction reactions.\n",
    "#EC 2: Transferases – Enzymes that transfer a functional group (e.g., a methyl or phosphate group).\n",
    "#EC 3: Hydrolases – Enzymes that catalyze the hydrolysis of various bonds.\n",
    "#EC 4: Lyases – Enzymes that break various chemical bonds by means other than hydrolysis/oxidation, often forming a new double-bond or ring structure.\n",
    "#EC 5: Isomerases – Enzymes that catalyze the transfer of groups within molecules to yield isomeric forms.\n",
    "#EC 6: Ligases – Enzymes that join two molecules together, typically using ATP.\n",
    "#EC 7: Translocases – Enzymes that catalyze the movement of ions or molecules across membranes or their separation within membranes."
   ]
  }
 ],
 "metadata": {
  "kernelspec": {
   "display_name": "media",
   "language": "python",
   "name": "media"
  },
  "language_info": {
   "codemirror_mode": {
    "name": "ipython",
    "version": 3
   },
   "file_extension": ".py",
   "mimetype": "text/x-python",
   "name": "python",
   "nbconvert_exporter": "python",
   "pygments_lexer": "ipython3",
   "version": "3.12.3"
  }
 },
 "nbformat": 4,
 "nbformat_minor": 5
}
