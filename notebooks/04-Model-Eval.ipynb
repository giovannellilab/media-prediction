{
 "cells": [
  {
   "cell_type": "markdown",
   "metadata": {},
   "source": [
    "# Model Parameterization and Evaluation"
   ]
  },
  {
   "cell_type": "markdown",
   "metadata": {},
   "source": [
    "# Metabolic Model Inputs"
   ]
  },
  {
   "cell_type": "markdown",
   "metadata": {},
   "source": [
    "### Packages"
   ]
  },
  {
   "cell_type": "code",
   "execution_count": 1,
   "metadata": {},
   "outputs": [],
   "source": [
    "# General\n",
    "import pandas as pd\n",
    "import numpy as np\n",
    "import pandas as pd\n",
    "import os\n",
    "DATA_DIR = \"~/Desktop/code/data/\"\n",
    "\n",
    "# Pipeline\n",
    "from sklearn.pipeline import Pipeline\n",
    "\n",
    "from sklearn.model_selection import train_test_split\n",
    "from sklearn.preprocessing import StandardScaler \n",
    "\n",
    "from sklearn.decomposition import PCA \n",
    "import umap\n",
    "import hdbscan\n",
    "\n",
    "from sklearn import metrics\n",
    "from sklearn.metrics import silhouette_score\n",
    "from sklearn.cluster import KMeans\n",
    "\n",
    "# Visualization\n",
    "from matplotlib import pyplot as plt\n",
    "import plotly.express as px\n",
    "import plotly.graph_objects as go"
   ]
  },
  {
   "cell_type": "markdown",
   "metadata": {},
   "source": [
    "### Dataset"
   ]
  },
  {
   "cell_type": "code",
   "execution_count": 2,
   "metadata": {},
   "outputs": [
    {
     "data": {
      "text/html": [
       "<div>\n",
       "<style scoped>\n",
       "    .dataframe tbody tr th:only-of-type {\n",
       "        vertical-align: middle;\n",
       "    }\n",
       "\n",
       "    .dataframe tbody tr th {\n",
       "        vertical-align: top;\n",
       "    }\n",
       "\n",
       "    .dataframe thead th {\n",
       "        text-align: right;\n",
       "    }\n",
       "</style>\n",
       "<table border=\"1\" class=\"dataframe\">\n",
       "  <thead>\n",
       "    <tr style=\"text-align: right;\">\n",
       "      <th>ec</th>\n",
       "      <th>taxon_id</th>\n",
       "      <th>media_id</th>\n",
       "      <th>1.1.1.1</th>\n",
       "      <th>1.1.1.100</th>\n",
       "      <th>1.1.1.101</th>\n",
       "      <th>1.1.1.102</th>\n",
       "      <th>1.1.1.103</th>\n",
       "      <th>1.1.1.105</th>\n",
       "      <th>1.1.1.107</th>\n",
       "      <th>1.1.1.108</th>\n",
       "      <th>...</th>\n",
       "      <th>7.6.2.12</th>\n",
       "      <th>7.6.2.13</th>\n",
       "      <th>7.6.2.14</th>\n",
       "      <th>7.6.2.15</th>\n",
       "      <th>7.6.2.16</th>\n",
       "      <th>7.6.2.2</th>\n",
       "      <th>7.6.2.5</th>\n",
       "      <th>7.6.2.7</th>\n",
       "      <th>7.6.2.8</th>\n",
       "      <th>7.6.2.9</th>\n",
       "    </tr>\n",
       "  </thead>\n",
       "  <tbody>\n",
       "    <tr>\n",
       "      <th>0</th>\n",
       "      <td>100.0</td>\n",
       "      <td>J346</td>\n",
       "      <td>0.0</td>\n",
       "      <td>0.0</td>\n",
       "      <td>0.0</td>\n",
       "      <td>0.0</td>\n",
       "      <td>0.0</td>\n",
       "      <td>0.0</td>\n",
       "      <td>0.0</td>\n",
       "      <td>0.0</td>\n",
       "      <td>...</td>\n",
       "      <td>0.0</td>\n",
       "      <td>0.0</td>\n",
       "      <td>0.0</td>\n",
       "      <td>0.0</td>\n",
       "      <td>0.0</td>\n",
       "      <td>0.0</td>\n",
       "      <td>0.0</td>\n",
       "      <td>0.0</td>\n",
       "      <td>0.0</td>\n",
       "      <td>0.0</td>\n",
       "    </tr>\n",
       "    <tr>\n",
       "      <th>1</th>\n",
       "      <td>100.0</td>\n",
       "      <td>J386</td>\n",
       "      <td>1.0</td>\n",
       "      <td>0.0</td>\n",
       "      <td>0.0</td>\n",
       "      <td>0.0</td>\n",
       "      <td>0.0</td>\n",
       "      <td>0.0</td>\n",
       "      <td>0.0</td>\n",
       "      <td>0.0</td>\n",
       "      <td>...</td>\n",
       "      <td>0.0</td>\n",
       "      <td>0.0</td>\n",
       "      <td>0.0</td>\n",
       "      <td>0.0</td>\n",
       "      <td>0.0</td>\n",
       "      <td>0.0</td>\n",
       "      <td>0.0</td>\n",
       "      <td>0.0</td>\n",
       "      <td>0.0</td>\n",
       "      <td>0.0</td>\n",
       "    </tr>\n",
       "    <tr>\n",
       "      <th>2</th>\n",
       "      <td>100225.0</td>\n",
       "      <td>J233</td>\n",
       "      <td>0.0</td>\n",
       "      <td>0.0</td>\n",
       "      <td>0.0</td>\n",
       "      <td>0.0</td>\n",
       "      <td>0.0</td>\n",
       "      <td>0.0</td>\n",
       "      <td>0.0</td>\n",
       "      <td>0.0</td>\n",
       "      <td>...</td>\n",
       "      <td>0.0</td>\n",
       "      <td>0.0</td>\n",
       "      <td>0.0</td>\n",
       "      <td>0.0</td>\n",
       "      <td>0.0</td>\n",
       "      <td>0.0</td>\n",
       "      <td>0.0</td>\n",
       "      <td>0.0</td>\n",
       "      <td>0.0</td>\n",
       "      <td>0.0</td>\n",
       "    </tr>\n",
       "    <tr>\n",
       "      <th>3</th>\n",
       "      <td>1002526.0</td>\n",
       "      <td>J22</td>\n",
       "      <td>0.0</td>\n",
       "      <td>0.0</td>\n",
       "      <td>0.0</td>\n",
       "      <td>0.0</td>\n",
       "      <td>0.0</td>\n",
       "      <td>0.0</td>\n",
       "      <td>0.0</td>\n",
       "      <td>0.0</td>\n",
       "      <td>...</td>\n",
       "      <td>0.0</td>\n",
       "      <td>0.0</td>\n",
       "      <td>0.0</td>\n",
       "      <td>0.0</td>\n",
       "      <td>0.0</td>\n",
       "      <td>0.0</td>\n",
       "      <td>0.0</td>\n",
       "      <td>0.0</td>\n",
       "      <td>0.0</td>\n",
       "      <td>0.0</td>\n",
       "    </tr>\n",
       "    <tr>\n",
       "      <th>4</th>\n",
       "      <td>1004166.0</td>\n",
       "      <td>1a</td>\n",
       "      <td>1.0</td>\n",
       "      <td>0.0</td>\n",
       "      <td>0.0</td>\n",
       "      <td>0.0</td>\n",
       "      <td>1.0</td>\n",
       "      <td>0.0</td>\n",
       "      <td>0.0</td>\n",
       "      <td>0.0</td>\n",
       "      <td>...</td>\n",
       "      <td>0.0</td>\n",
       "      <td>0.0</td>\n",
       "      <td>0.0</td>\n",
       "      <td>0.0</td>\n",
       "      <td>0.0</td>\n",
       "      <td>0.0</td>\n",
       "      <td>0.0</td>\n",
       "      <td>0.0</td>\n",
       "      <td>0.0</td>\n",
       "      <td>0.0</td>\n",
       "    </tr>\n",
       "    <tr>\n",
       "      <th>...</th>\n",
       "      <td>...</td>\n",
       "      <td>...</td>\n",
       "      <td>...</td>\n",
       "      <td>...</td>\n",
       "      <td>...</td>\n",
       "      <td>...</td>\n",
       "      <td>...</td>\n",
       "      <td>...</td>\n",
       "      <td>...</td>\n",
       "      <td>...</td>\n",
       "      <td>...</td>\n",
       "      <td>...</td>\n",
       "      <td>...</td>\n",
       "      <td>...</td>\n",
       "      <td>...</td>\n",
       "      <td>...</td>\n",
       "      <td>...</td>\n",
       "      <td>...</td>\n",
       "      <td>...</td>\n",
       "      <td>...</td>\n",
       "      <td>...</td>\n",
       "    </tr>\n",
       "    <tr>\n",
       "      <th>8459</th>\n",
       "      <td>99655.0</td>\n",
       "      <td>J386</td>\n",
       "      <td>0.0</td>\n",
       "      <td>0.0</td>\n",
       "      <td>0.0</td>\n",
       "      <td>0.0</td>\n",
       "      <td>0.0</td>\n",
       "      <td>0.0</td>\n",
       "      <td>0.0</td>\n",
       "      <td>0.0</td>\n",
       "      <td>...</td>\n",
       "      <td>0.0</td>\n",
       "      <td>0.0</td>\n",
       "      <td>0.0</td>\n",
       "      <td>0.0</td>\n",
       "      <td>0.0</td>\n",
       "      <td>0.0</td>\n",
       "      <td>0.0</td>\n",
       "      <td>0.0</td>\n",
       "      <td>0.0</td>\n",
       "      <td>0.0</td>\n",
       "    </tr>\n",
       "    <tr>\n",
       "      <th>8460</th>\n",
       "      <td>99675.0</td>\n",
       "      <td>J14</td>\n",
       "      <td>0.0</td>\n",
       "      <td>0.0</td>\n",
       "      <td>0.0</td>\n",
       "      <td>0.0</td>\n",
       "      <td>0.0</td>\n",
       "      <td>0.0</td>\n",
       "      <td>0.0</td>\n",
       "      <td>0.0</td>\n",
       "      <td>...</td>\n",
       "      <td>0.0</td>\n",
       "      <td>0.0</td>\n",
       "      <td>0.0</td>\n",
       "      <td>0.0</td>\n",
       "      <td>0.0</td>\n",
       "      <td>0.0</td>\n",
       "      <td>0.0</td>\n",
       "      <td>0.0</td>\n",
       "      <td>0.0</td>\n",
       "      <td>0.0</td>\n",
       "    </tr>\n",
       "    <tr>\n",
       "      <th>8461</th>\n",
       "      <td>99675.0</td>\n",
       "      <td>J84</td>\n",
       "      <td>0.0</td>\n",
       "      <td>0.0</td>\n",
       "      <td>0.0</td>\n",
       "      <td>0.0</td>\n",
       "      <td>0.0</td>\n",
       "      <td>0.0</td>\n",
       "      <td>0.0</td>\n",
       "      <td>0.0</td>\n",
       "      <td>...</td>\n",
       "      <td>0.0</td>\n",
       "      <td>0.0</td>\n",
       "      <td>0.0</td>\n",
       "      <td>0.0</td>\n",
       "      <td>0.0</td>\n",
       "      <td>0.0</td>\n",
       "      <td>0.0</td>\n",
       "      <td>0.0</td>\n",
       "      <td>0.0</td>\n",
       "      <td>0.0</td>\n",
       "    </tr>\n",
       "    <tr>\n",
       "      <th>8462</th>\n",
       "      <td>99807.0</td>\n",
       "      <td>J26</td>\n",
       "      <td>0.0</td>\n",
       "      <td>0.0</td>\n",
       "      <td>0.0</td>\n",
       "      <td>0.0</td>\n",
       "      <td>0.0</td>\n",
       "      <td>0.0</td>\n",
       "      <td>0.0</td>\n",
       "      <td>0.0</td>\n",
       "      <td>...</td>\n",
       "      <td>0.0</td>\n",
       "      <td>0.0</td>\n",
       "      <td>0.0</td>\n",
       "      <td>0.0</td>\n",
       "      <td>0.0</td>\n",
       "      <td>0.0</td>\n",
       "      <td>0.0</td>\n",
       "      <td>0.0</td>\n",
       "      <td>0.0</td>\n",
       "      <td>0.0</td>\n",
       "    </tr>\n",
       "    <tr>\n",
       "      <th>8463</th>\n",
       "      <td>999931.0</td>\n",
       "      <td>J26</td>\n",
       "      <td>0.0</td>\n",
       "      <td>0.0</td>\n",
       "      <td>0.0</td>\n",
       "      <td>0.0</td>\n",
       "      <td>0.0</td>\n",
       "      <td>0.0</td>\n",
       "      <td>0.0</td>\n",
       "      <td>0.0</td>\n",
       "      <td>...</td>\n",
       "      <td>0.0</td>\n",
       "      <td>0.0</td>\n",
       "      <td>0.0</td>\n",
       "      <td>0.0</td>\n",
       "      <td>0.0</td>\n",
       "      <td>0.0</td>\n",
       "      <td>0.0</td>\n",
       "      <td>0.0</td>\n",
       "      <td>0.0</td>\n",
       "      <td>0.0</td>\n",
       "    </tr>\n",
       "  </tbody>\n",
       "</table>\n",
       "<p>8464 rows × 3636 columns</p>\n",
       "</div>"
      ],
      "text/plain": [
       "ec     taxon_id media_id  1.1.1.1  1.1.1.100  1.1.1.101  1.1.1.102  1.1.1.103  \\\n",
       "0         100.0     J346      0.0        0.0        0.0        0.0        0.0   \n",
       "1         100.0     J386      1.0        0.0        0.0        0.0        0.0   \n",
       "2      100225.0     J233      0.0        0.0        0.0        0.0        0.0   \n",
       "3     1002526.0      J22      0.0        0.0        0.0        0.0        0.0   \n",
       "4     1004166.0       1a      1.0        0.0        0.0        0.0        1.0   \n",
       "...         ...      ...      ...        ...        ...        ...        ...   \n",
       "8459    99655.0     J386      0.0        0.0        0.0        0.0        0.0   \n",
       "8460    99675.0      J14      0.0        0.0        0.0        0.0        0.0   \n",
       "8461    99675.0      J84      0.0        0.0        0.0        0.0        0.0   \n",
       "8462    99807.0      J26      0.0        0.0        0.0        0.0        0.0   \n",
       "8463   999931.0      J26      0.0        0.0        0.0        0.0        0.0   \n",
       "\n",
       "ec    1.1.1.105  1.1.1.107  1.1.1.108  ...  7.6.2.12  7.6.2.13  7.6.2.14  \\\n",
       "0           0.0        0.0        0.0  ...       0.0       0.0       0.0   \n",
       "1           0.0        0.0        0.0  ...       0.0       0.0       0.0   \n",
       "2           0.0        0.0        0.0  ...       0.0       0.0       0.0   \n",
       "3           0.0        0.0        0.0  ...       0.0       0.0       0.0   \n",
       "4           0.0        0.0        0.0  ...       0.0       0.0       0.0   \n",
       "...         ...        ...        ...  ...       ...       ...       ...   \n",
       "8459        0.0        0.0        0.0  ...       0.0       0.0       0.0   \n",
       "8460        0.0        0.0        0.0  ...       0.0       0.0       0.0   \n",
       "8461        0.0        0.0        0.0  ...       0.0       0.0       0.0   \n",
       "8462        0.0        0.0        0.0  ...       0.0       0.0       0.0   \n",
       "8463        0.0        0.0        0.0  ...       0.0       0.0       0.0   \n",
       "\n",
       "ec    7.6.2.15  7.6.2.16  7.6.2.2  7.6.2.5  7.6.2.7  7.6.2.8  7.6.2.9  \n",
       "0          0.0       0.0      0.0      0.0      0.0      0.0      0.0  \n",
       "1          0.0       0.0      0.0      0.0      0.0      0.0      0.0  \n",
       "2          0.0       0.0      0.0      0.0      0.0      0.0      0.0  \n",
       "3          0.0       0.0      0.0      0.0      0.0      0.0      0.0  \n",
       "4          0.0       0.0      0.0      0.0      0.0      0.0      0.0  \n",
       "...        ...       ...      ...      ...      ...      ...      ...  \n",
       "8459       0.0       0.0      0.0      0.0      0.0      0.0      0.0  \n",
       "8460       0.0       0.0      0.0      0.0      0.0      0.0      0.0  \n",
       "8461       0.0       0.0      0.0      0.0      0.0      0.0      0.0  \n",
       "8462       0.0       0.0      0.0      0.0      0.0      0.0      0.0  \n",
       "8463       0.0       0.0      0.0      0.0      0.0      0.0      0.0  \n",
       "\n",
       "[8464 rows x 3636 columns]"
      ]
     },
     "execution_count": 2,
     "metadata": {},
     "output_type": "execute_result"
    }
   ],
   "source": [
    "df = pd.read_csv(os.path.join(DATA_DIR, \"model\", \"ml_input.csv\"), low_memory=False)\n",
    "\n",
    "filter = df[\"ec\"].str.contains(\"-\") # filter non-specific ec numbers, e.g., 1.1.1.-\n",
    "df = df[~filter]\n",
    "\n",
    "df = df[[\"taxon_id\", \"media_id\", \"ec\"]].value_counts().reset_index()\n",
    "df = df.pivot(index=[\"taxon_id\", \"media_id\"], columns=\"ec\", values=\"count\")\n",
    "df = df.fillna(0.0).reset_index()\n",
    "\n",
    "# Filtering into training and test sets (database set vs. MAGs)\n",
    "bins = df[\"media_id\"].str.contains(\"unknown\")\n",
    "df_train = df[~bins]\n",
    "\n",
    "df_train"
   ]
  },
  {
   "cell_type": "markdown",
   "metadata": {},
   "source": [
    "## Model"
   ]
  },
  {
   "cell_type": "markdown",
   "metadata": {},
   "source": [
    "### Testing parameters"
   ]
  },
  {
   "cell_type": "code",
   "execution_count": 3,
   "metadata": {},
   "outputs": [
    {
     "name": "stderr",
     "output_type": "stream",
     "text": [
      "c:\\Users\\jakel\\anaconda3\\envs\\media\\Lib\\site-packages\\sklearn\\model_selection\\_search.py:1052: UserWarning: One or more of the test scores are non-finite: [nan nan nan nan nan nan nan nan nan nan nan nan nan nan nan nan nan nan\n",
      " nan nan nan nan nan nan nan nan nan nan nan nan nan nan nan nan nan nan\n",
      " nan nan nan nan nan nan nan nan nan nan nan nan nan nan]\n",
      "  warnings.warn(\n"
     ]
    },
    {
     "name": "stdout",
     "output_type": "stream",
     "text": [
      "Best Parameters: {'umap__n_neighbors': 62, 'umap__n_components': 40, 'umap__min_dist': 0}\n"
     ]
    }
   ],
   "source": [
    "from sklearn.model_selection import RandomizedSearchCV\n",
    "from sklearn.pipeline import Pipeline\n",
    "from sklearn.preprocessing import StandardScaler\n",
    "from sklearn.decomposition import PCA\n",
    "from sklearn.metrics import make_scorer, silhouette_score\n",
    "\n",
    "# Split the datasets into training and test sets\n",
    "TARGET = \"taxon_id\" # target label\n",
    "RANDOM_SEED = 47 # seed for random_state\n",
    "\n",
    "# Model validation with only labeled samples from data.ipynb\n",
    "X_train, X_test, y_train, y_test = train_test_split(\n",
    "    df_train.drop([\"taxon_id\", \"media_id\"], axis=1),\n",
    "    df_train[TARGET],\n",
    "    test_size=0.2,\n",
    "    random_state=RANDOM_SEED\n",
    ")\n",
    "\n",
    "# Define the pipeline\n",
    "pipeline = Pipeline([\n",
    "    ('scaler', StandardScaler()), \n",
    "    ('pca', PCA(\n",
    "        n_components=150,\n",
    "        random_state= RANDOM_SEED\n",
    "        )),  \n",
    "    ('umap', umap.UMAP(  \n",
    "        metric=\"euclidean\",\n",
    "        n_epochs=500,\n",
    "        random_state=RANDOM_SEED,\n",
    "        n_jobs=1,\n",
    "        ))\n",
    "])\n",
    "\n",
    "# Define parameter grid with correct step names\n",
    "param_distributions = {\n",
    "    'umap__n_components': range(2,50),\n",
    "    'umap__n_neighbors': range(20,100), \n",
    "    'umap__min_dist': range(0,1)\n",
    "}\n",
    "\n",
    "# Custom scorer function\n",
    "def umap_silhouette(X, y):\n",
    "    embedding = X  # X here is already the transformed data by UMAP\n",
    "    return silhouette_score(embedding, y)\n",
    "\n",
    "# Wrap the custom scorer\n",
    "scorer = make_scorer(umap_silhouette, greater_is_better=True)\n",
    "\n",
    "# Initialize RandomizedSearchCV\n",
    "search = RandomizedSearchCV(\n",
    "    estimator=pipeline,\n",
    "    param_distributions=param_distributions,\n",
    "    n_iter=50,\n",
    "    cv=5,\n",
    "    random_state=RANDOM_SEED,\n",
    "    n_jobs=-1,\n",
    "    scoring=scorer\n",
    ")\n",
    "\n",
    "# Fit the search to your data\n",
    "#search.fit(X_train, y_train)\n",
    "#best_params = search.best_params_\n",
    "#best_model = search.best_estimator_\n",
    "\n",
    "#print(\"Best Parameters:\", best_params) "
   ]
  },
  {
   "cell_type": "markdown",
   "metadata": {},
   "source": [
    "### Pipeline"
   ]
  },
  {
   "cell_type": "code",
   "execution_count": 4,
   "metadata": {},
   "outputs": [],
   "source": [
    "# Split the datasets into training and test sets\n",
    "TARGET = \"media_id\" # target label\n",
    "RANDOM_SEED = 47 # seed for random_state\n",
    "\n",
    "# Model validation with only labeled samples from data.ipynb\n",
    "X_train, X_test, y_train, y_test = train_test_split(\n",
    "    df_train.drop([\"taxon_id\", \"media_id\"], axis=1),\n",
    "    df_train[TARGET],\n",
    "    test_size=0.2,\n",
    "    random_state=RANDOM_SEED\n",
    ")\n",
    "\n",
    "# sklearn pipeline helps prevent data leakage; incorporate best_params here\n",
    "pipeline = Pipeline([\n",
    "    ('scaler', StandardScaler()),    \n",
    "    ('pca', PCA(\n",
    "        n_components=150,\n",
    "        random_state= RANDOM_SEED\n",
    "        )), \n",
    "    ('umap', umap.UMAP(             \n",
    "        metric=\"euclidean\",\n",
    "        n_epochs=500, \n",
    "        random_state=RANDOM_SEED,\n",
    "        n_jobs=1,\n",
    "        n_components=40, \n",
    "        n_neighbors=62, \n",
    "        min_dist=0\n",
    "        )) \n",
    "])"
   ]
  },
  {
   "cell_type": "markdown",
   "metadata": {},
   "source": [
    "### Fit and transform"
   ]
  },
  {
   "cell_type": "code",
   "execution_count": 5,
   "metadata": {},
   "outputs": [],
   "source": [
    "# Fit and transform the pipeline on the training and test data\n",
    "X_train_transformed = pipeline.fit_transform(X_train) # fit pipeline and transform training data\n",
    "X_test_transformed = pipeline.transform(X_test) # transform test data"
   ]
  },
  {
   "cell_type": "markdown",
   "metadata": {},
   "source": [
    "### Optimizing n_clusters"
   ]
  },
  {
   "cell_type": "code",
   "execution_count": 6,
   "metadata": {},
   "outputs": [
    {
     "name": "stdout",
     "output_type": "stream",
     "text": [
      "182 clusters returns a maximum Silhouette Coefficient of 0.7742043733596802\n"
     ]
    }
   ],
   "source": [
    "# Silhouette coefficient method\n",
    "from sklearn.metrics import silhouette_score\n",
    "from sklearn.cluster import KMeans\n",
    "\n",
    "# Test a range of clusters for their silhouette coefficients\n",
    "clusters = []\n",
    "for n_cluster in range(100, 300):\n",
    "    kmeans = KMeans(n_clusters=n_cluster).fit(X_train_transformed)\n",
    "    label = kmeans.labels_\n",
    "    sil_coeff = silhouette_score(X_train_transformed, label, metric='euclidean')\n",
    "    clusters.append({'n_clusters': n_cluster, 'coefficient': sil_coeff})\n",
    "\n",
    "# Select the maximum coefficient\n",
    "clusters = pd.DataFrame(clusters)\n",
    "c = clusters.iloc[clusters[\"coefficient\"].argmax()][\"n_clusters\"]\n",
    "s = clusters[\"coefficient\"].max()\n",
    "n = int(c)+1\n",
    "\n",
    "print(\"{} clusters returns a maximum Silhouette Coefficient of {}\".format(n, s))"
   ]
  },
  {
   "cell_type": "code",
   "execution_count": 7,
   "metadata": {},
   "outputs": [],
   "source": [
    "# Cluster using maximum coefficient's n_clusters\n",
    "clusterer = KMeans(n_clusters=n, random_state=RANDOM_SEED) # n OR 181 (averaged max_silhouette)\n",
    "cluster_labels = clusterer.fit_predict(X_train_transformed)\n",
    "test_clusters = clusterer.predict(X_test_transformed)"
   ]
  },
  {
   "cell_type": "markdown",
   "metadata": {},
   "source": [
    "### Metrics"
   ]
  },
  {
   "cell_type": "code",
   "execution_count": 8,
   "metadata": {},
   "outputs": [
    {
     "name": "stdout",
     "output_type": "stream",
     "text": [
      "Total PCA explained variance: 0.8869085094399837\n",
      "182 KMeans training clusters\n",
      "Average Silhouette Score on KMeans clusters: 0.7505294680595398\n"
     ]
    }
   ],
   "source": [
    "# Initial dimensionality reduction performance (PCA)\n",
    "pca = pipeline.named_steps['pca']\n",
    "explained_variance = pca.explained_variance_ratio_\n",
    "print(f\"Total PCA explained variance: {explained_variance.sum()}\")\n",
    "\n",
    "# Further dimensionality reduction and clustering performance\n",
    "silhouette_avg = silhouette_score(X_train_transformed, cluster_labels)\n",
    "print(clusterer.labels_.max()+1, \"KMeans training clusters\")\n",
    "print(f\"Average Silhouette Score on KMeans clusters: {silhouette_avg}\")\n",
    "    # Silhouette score <=0.25 implies poor clustering, 0.25<x<=0.50 is fair, <50 is good\n",
    "\n",
    "#173, 0.73951; 178, 0.74609; 180, 0.74886; 185, 0.74425; 187, 0.74365; ... 223, 0.73052"
   ]
  },
  {
   "cell_type": "code",
   "execution_count": 9,
   "metadata": {},
   "outputs": [
    {
     "name": "stdout",
     "output_type": "stream",
     "text": [
      "147 hdbscan training clusters\n",
      "Silhouette Score on hdbscan clusters: 0.5884481072425842\n"
     ]
    }
   ],
   "source": [
    "# Compare to hdbscan clustering \n",
    "\n",
    "# Apply HDBSCAN clustering on the transformed training data\n",
    "hclusterer = hdbscan.HDBSCAN(\n",
    "    min_samples=5, \n",
    "    min_cluster_size=15, \n",
    "    #gen_min_span_tree=True, \n",
    "    prediction_data=True # cluster_selection_method=\"leaf\", for more fine-grained clustering\n",
    ")\n",
    "hcluster_labels = hclusterer.fit_predict(X_train_transformed)\n",
    "\n",
    "# Clustering performance (UMAP and hdbscan)\n",
    "hsilhouette_avg = silhouette_score(X_train_transformed, hcluster_labels)\n",
    "print(hclusterer.labels_.max(), \"hdbscan training clusters\")\n",
    "print(f\"Silhouette Score on hdbscan clusters: {hsilhouette_avg}\")\n",
    "\n",
    "# Convert to numpy array for hdbscan and predict clustering\n",
    "#test_points = test_df[[\"Component 1\", \"Component 2\"]].to_numpy()\n",
    "#test_labels, strengths = hdbscan.approximate_predict(clusterer, test_points)\n",
    "\n",
    "# Optional constraints\n",
    "#filtered = train_df[train_df['Cluster'] >= 0]\n",
    "#test_labels = clusterer.fit_predict(X_test_transformed)"
   ]
  },
  {
   "cell_type": "markdown",
   "metadata": {},
   "source": [
    "## Classifier"
   ]
  },
  {
   "cell_type": "code",
   "execution_count": 10,
   "metadata": {},
   "outputs": [],
   "source": [
    "import sklearn\n",
    "from sklearn.ensemble import RandomForestClassifier\n",
    "from sklearn.metrics import classification_report\n",
    "from sklearn.neighbors import KNeighborsClassifier"
   ]
  },
  {
   "cell_type": "code",
   "execution_count": 11,
   "metadata": {},
   "outputs": [],
   "source": [
    "y2_train = cluster_labels\n",
    "y2_test = test_clusters"
   ]
  },
  {
   "cell_type": "markdown",
   "metadata": {},
   "source": [
    "### Random Forest"
   ]
  },
  {
   "cell_type": "code",
   "execution_count": 12,
   "metadata": {},
   "outputs": [
    {
     "name": "stdout",
     "output_type": "stream",
     "text": [
      "[ 14  61 104 ... 130   6  76]\n"
     ]
    }
   ],
   "source": [
    "rfc = RandomForestClassifier(\n",
    "    n_estimators=100,\n",
    "    n_jobs=-1,\n",
    "    random_state=RANDOM_SEED\n",
    ")\n",
    "\n",
    "rfc.fit(X_train_transformed, y2_train)\n",
    "print(rfc.predict(X_test_transformed))"
   ]
  },
  {
   "cell_type": "code",
   "execution_count": 13,
   "metadata": {},
   "outputs": [
    {
     "name": "stdout",
     "output_type": "stream",
     "text": [
      "              precision    recall  f1-score   support\n",
      "\n",
      "           0       1.00      1.00      1.00        26\n",
      "           1       1.00      0.90      0.95        20\n",
      "           2       1.00      1.00      1.00        16\n",
      "           3       1.00      0.98      0.99        53\n",
      "           4       1.00      1.00      1.00        42\n",
      "           5       1.00      0.88      0.93         8\n",
      "           6       0.94      1.00      0.97        16\n",
      "           7       1.00      1.00      1.00        43\n",
      "           8       1.00      1.00      1.00        50\n",
      "           9       1.00      0.67      0.80         6\n",
      "          10       0.95      0.95      0.95        21\n",
      "          11       1.00      1.00      1.00        18\n",
      "          12       1.00      1.00      1.00        38\n",
      "          13       1.00      1.00      1.00        26\n",
      "          14       0.91      1.00      0.95        21\n",
      "          15       1.00      1.00      1.00         5\n",
      "          16       0.95      1.00      0.98        21\n",
      "          17       1.00      1.00      1.00         7\n",
      "          18       1.00      1.00      1.00        12\n",
      "          19       0.83      1.00      0.91        10\n",
      "          20       1.00      1.00      1.00        12\n",
      "          21       1.00      1.00      1.00        21\n",
      "          22       1.00      0.50      0.67         2\n",
      "          23       1.00      0.67      0.80         3\n",
      "          24       1.00      1.00      1.00        14\n",
      "          25       1.00      1.00      1.00         6\n",
      "          26       0.95      1.00      0.97        19\n",
      "          27       0.91      1.00      0.95        10\n",
      "          29       1.00      0.86      0.92         7\n",
      "          30       1.00      1.00      1.00         1\n",
      "          31       1.00      1.00      1.00        21\n",
      "          32       0.83      1.00      0.91         5\n",
      "          33       1.00      1.00      1.00         3\n",
      "          34       1.00      1.00      1.00         3\n",
      "          35       1.00      1.00      1.00         3\n",
      "          36       1.00      1.00      1.00         1\n",
      "          37       1.00      1.00      1.00         5\n",
      "          38       1.00      1.00      1.00         1\n",
      "          39       1.00      1.00      1.00        10\n",
      "          40       1.00      1.00      1.00         6\n",
      "          41       1.00      1.00      1.00         3\n",
      "          42       1.00      1.00      1.00         5\n",
      "          43       1.00      0.75      0.86         8\n",
      "          44       1.00      1.00      1.00         1\n",
      "          45       1.00      1.00      1.00         3\n",
      "          46       1.00      0.67      0.80         3\n",
      "          48       1.00      1.00      1.00        14\n",
      "          49       1.00      0.67      0.80         3\n",
      "          50       1.00      1.00      1.00         4\n",
      "          51       1.00      1.00      1.00         1\n",
      "          52       1.00      1.00      1.00         1\n",
      "          53       1.00      1.00      1.00         9\n",
      "          54       0.00      0.00      0.00         1\n",
      "          55       1.00      1.00      1.00         1\n",
      "          56       1.00      1.00      1.00         3\n",
      "          57       1.00      1.00      1.00         3\n",
      "          58       1.00      1.00      1.00         1\n",
      "          59       1.00      1.00      1.00         8\n",
      "          60       1.00      1.00      1.00        10\n",
      "          61       1.00      0.94      0.97        17\n",
      "          62       1.00      1.00      1.00        12\n",
      "          63       1.00      1.00      1.00        37\n",
      "          64       1.00      1.00      1.00        18\n",
      "          65       1.00      1.00      1.00         2\n",
      "          66       0.91      0.91      0.91        22\n",
      "          67       1.00      1.00      1.00         5\n",
      "          68       1.00      1.00      1.00         3\n",
      "          69       0.84      1.00      0.91        41\n",
      "          70       1.00      0.67      0.80         3\n",
      "          71       1.00      0.86      0.92         7\n",
      "          72       1.00      1.00      1.00         4\n",
      "          73       1.00      1.00      1.00         2\n",
      "          74       1.00      1.00      1.00         2\n",
      "          75       1.00      1.00      1.00        12\n",
      "          76       1.00      1.00      1.00         9\n",
      "          77       1.00      1.00      1.00         4\n",
      "          79       1.00      0.90      0.95        10\n",
      "          80       1.00      1.00      1.00         2\n",
      "          81       1.00      1.00      1.00         7\n",
      "          82       1.00      1.00      1.00         4\n",
      "          83       1.00      1.00      1.00         6\n",
      "          84       1.00      1.00      1.00         5\n",
      "          85       0.93      1.00      0.97        14\n",
      "          86       1.00      1.00      1.00        12\n",
      "          87       1.00      1.00      1.00         5\n",
      "          88       1.00      1.00      1.00         4\n",
      "          89       1.00      1.00      1.00         6\n",
      "          90       1.00      1.00      1.00         6\n",
      "          92       1.00      1.00      1.00         9\n",
      "          93       1.00      1.00      1.00         8\n",
      "          94       1.00      0.80      0.89         5\n",
      "          95       1.00      1.00      1.00         3\n",
      "          96       1.00      1.00      1.00         3\n",
      "          97       1.00      1.00      1.00        10\n",
      "          98       1.00      1.00      1.00        12\n",
      "          99       1.00      1.00      1.00        16\n",
      "         100       1.00      0.71      0.83         7\n",
      "         102       1.00      0.91      0.95        32\n",
      "         103       1.00      1.00      1.00         3\n",
      "         104       0.96      1.00      0.98        24\n",
      "         105       1.00      0.80      0.89         5\n",
      "         106       1.00      1.00      1.00         7\n",
      "         107       0.86      1.00      0.92        12\n",
      "         108       1.00      0.89      0.94         9\n",
      "         109       1.00      1.00      1.00         1\n",
      "         110       0.92      1.00      0.96        12\n",
      "         111       1.00      1.00      1.00        20\n",
      "         112       1.00      1.00      1.00         1\n",
      "         113       1.00      1.00      1.00         1\n",
      "         114       1.00      1.00      1.00         7\n",
      "         115       1.00      1.00      1.00         8\n",
      "         116       1.00      1.00      1.00         5\n",
      "         117       0.89      1.00      0.94        16\n",
      "         118       1.00      1.00      1.00         4\n",
      "         119       1.00      1.00      1.00        11\n",
      "         120       1.00      0.67      0.80         6\n",
      "         121       1.00      1.00      1.00         8\n",
      "         122       1.00      1.00      1.00         5\n",
      "         123       1.00      1.00      1.00         2\n",
      "         124       1.00      1.00      1.00         2\n",
      "         125       1.00      1.00      1.00        17\n",
      "         127       1.00      1.00      1.00        22\n",
      "         128       0.91      1.00      0.95        10\n",
      "         129       1.00      1.00      1.00         5\n",
      "         130       0.81      0.93      0.87        14\n",
      "         131       1.00      1.00      1.00         4\n",
      "         132       1.00      1.00      1.00         4\n",
      "         133       1.00      1.00      1.00         4\n",
      "         134       1.00      0.50      0.67         2\n",
      "         135       1.00      1.00      1.00         7\n",
      "         136       1.00      1.00      1.00         7\n",
      "         137       1.00      1.00      1.00         7\n",
      "         138       0.78      0.88      0.82         8\n",
      "         139       1.00      1.00      1.00        14\n",
      "         141       1.00      1.00      1.00         2\n",
      "         142       1.00      1.00      1.00         7\n",
      "         143       0.83      1.00      0.91        10\n",
      "         144       1.00      1.00      1.00         1\n",
      "         145       1.00      1.00      1.00        13\n",
      "         146       1.00      0.80      0.89         5\n",
      "         147       1.00      1.00      1.00        13\n",
      "         148       1.00      1.00      1.00         1\n",
      "         149       1.00      1.00      1.00         5\n",
      "         150       1.00      1.00      1.00         3\n",
      "         151       0.83      1.00      0.91         5\n",
      "         152       0.71      1.00      0.83         5\n",
      "         153       1.00      1.00      1.00         5\n",
      "         154       1.00      1.00      1.00         2\n",
      "         155       0.89      1.00      0.94         8\n",
      "         156       0.50      1.00      0.67         1\n",
      "         157       1.00      1.00      1.00         3\n",
      "         158       1.00      1.00      1.00         3\n",
      "         159       1.00      1.00      1.00         5\n",
      "         160       0.86      1.00      0.92         6\n",
      "         161       1.00      0.86      0.92         7\n",
      "         162       1.00      1.00      1.00        10\n",
      "         163       0.67      0.67      0.67         6\n",
      "         164       1.00      0.94      0.97        16\n",
      "         165       1.00      1.00      1.00         1\n",
      "         166       1.00      1.00      1.00         3\n",
      "         167       1.00      0.92      0.96        12\n",
      "         168       0.96      1.00      0.98        27\n",
      "         169       0.96      1.00      0.98        23\n",
      "         170       0.92      0.92      0.92        13\n",
      "         171       1.00      1.00      1.00         1\n",
      "         172       1.00      1.00      1.00         9\n",
      "         173       1.00      1.00      1.00         1\n",
      "         174       0.88      0.92      0.90        25\n",
      "         175       1.00      1.00      1.00         1\n",
      "         176       1.00      1.00      1.00         1\n",
      "         177       1.00      1.00      1.00         2\n",
      "         178       1.00      0.86      0.92        14\n",
      "         179       0.96      0.82      0.89        33\n",
      "         180       0.89      1.00      0.94         8\n",
      "         181       1.00      1.00      1.00         3\n",
      "\n",
      "    accuracy                           0.97      1693\n",
      "   macro avg       0.97      0.96      0.96      1693\n",
      "weighted avg       0.97      0.97      0.97      1693\n",
      "\n",
      "RF ROC AUC score: 0.9990717022735492\n"
     ]
    }
   ],
   "source": [
    "report = classification_report(\n",
    "    y_true=y2_test,\n",
    "    y_pred=rfc.predict(X_test_transformed),\n",
    "    zero_division=0.0 # Default: set to \"warn\", or float {0.0, 1.0}\n",
    ")\n",
    "\n",
    "roc_score = metrics.roc_auc_score(\n",
    "    y_true=y2_test,\n",
    "    y_score=rfc.predict_proba(X_test_transformed),\n",
    "    labels=np.unique(y2_train),\n",
    "    average=\"weighted\",\n",
    "    multi_class=\"ovo\"\n",
    ")\n",
    "\n",
    "print(report)\n",
    "print(\"RF ROC AUC score:\", roc_score)"
   ]
  },
  {
   "cell_type": "markdown",
   "metadata": {},
   "source": [
    "### Nearest Neighbors"
   ]
  },
  {
   "cell_type": "code",
   "execution_count": 14,
   "metadata": {},
   "outputs": [
    {
     "name": "stdout",
     "output_type": "stream",
     "text": [
      "[ 14  61 104 ... 130   6  76]\n"
     ]
    }
   ],
   "source": [
    "knc= KNeighborsClassifier(n_neighbors=5)\n",
    "knc.fit(X_train_transformed, cluster_labels)\n",
    "distances, indices = knc.kneighbors(X_test_transformed)\n",
    "\n",
    "print(knc.predict(X_test_transformed))"
   ]
  },
  {
   "cell_type": "code",
   "execution_count": 15,
   "metadata": {},
   "outputs": [
    {
     "name": "stdout",
     "output_type": "stream",
     "text": [
      "              precision    recall  f1-score   support\n",
      "\n",
      "           0       1.00      1.00      1.00        26\n",
      "           1       0.87      1.00      0.93        20\n",
      "           2       1.00      1.00      1.00        16\n",
      "           3       1.00      1.00      1.00        53\n",
      "           4       1.00      1.00      1.00        42\n",
      "           5       1.00      0.88      0.93         8\n",
      "           6       1.00      0.94      0.97        16\n",
      "           7       1.00      1.00      1.00        43\n",
      "           8       1.00      1.00      1.00        50\n",
      "           9       1.00      0.67      0.80         6\n",
      "          10       0.95      0.95      0.95        21\n",
      "          11       1.00      1.00      1.00        18\n",
      "          12       1.00      1.00      1.00        38\n",
      "          13       1.00      1.00      1.00        26\n",
      "          14       1.00      1.00      1.00        21\n",
      "          15       1.00      1.00      1.00         5\n",
      "          16       1.00      1.00      1.00        21\n",
      "          17       1.00      1.00      1.00         7\n",
      "          18       1.00      1.00      1.00        12\n",
      "          19       1.00      1.00      1.00        10\n",
      "          20       1.00      1.00      1.00        12\n",
      "          21       1.00      1.00      1.00        21\n",
      "          22       1.00      0.50      0.67         2\n",
      "          23       1.00      1.00      1.00         3\n",
      "          24       1.00      1.00      1.00        14\n",
      "          25       1.00      1.00      1.00         6\n",
      "          26       1.00      1.00      1.00        19\n",
      "          27       1.00      1.00      1.00        10\n",
      "          29       1.00      0.86      0.92         7\n",
      "          30       1.00      1.00      1.00         1\n",
      "          31       1.00      1.00      1.00        21\n",
      "          32       1.00      1.00      1.00         5\n",
      "          33       1.00      1.00      1.00         3\n",
      "          34       1.00      1.00      1.00         3\n",
      "          35       1.00      1.00      1.00         3\n",
      "          36       1.00      1.00      1.00         1\n",
      "          37       1.00      1.00      1.00         5\n",
      "          38       1.00      1.00      1.00         1\n",
      "          39       0.91      1.00      0.95        10\n",
      "          40       1.00      1.00      1.00         6\n",
      "          41       1.00      1.00      1.00         3\n",
      "          42       1.00      1.00      1.00         5\n",
      "          43       1.00      1.00      1.00         8\n",
      "          44       1.00      1.00      1.00         1\n",
      "          45       1.00      1.00      1.00         3\n",
      "          46       1.00      1.00      1.00         3\n",
      "          48       1.00      1.00      1.00        14\n",
      "          49       1.00      1.00      1.00         3\n",
      "          50       1.00      1.00      1.00         4\n",
      "          51       1.00      1.00      1.00         1\n",
      "          52       1.00      1.00      1.00         1\n",
      "          53       1.00      1.00      1.00         9\n",
      "          54       1.00      1.00      1.00         1\n",
      "          55       1.00      1.00      1.00         1\n",
      "          56       1.00      1.00      1.00         3\n",
      "          57       1.00      1.00      1.00         3\n",
      "          58       1.00      1.00      1.00         1\n",
      "          59       1.00      1.00      1.00         8\n",
      "          60       0.91      1.00      0.95        10\n",
      "          61       1.00      1.00      1.00        17\n",
      "          62       1.00      1.00      1.00        12\n",
      "          63       1.00      1.00      1.00        37\n",
      "          64       1.00      1.00      1.00        18\n",
      "          65       1.00      1.00      1.00         2\n",
      "          66       0.88      1.00      0.94        22\n",
      "          67       1.00      1.00      1.00         5\n",
      "          68       1.00      1.00      1.00         3\n",
      "          69       0.87      1.00      0.93        41\n",
      "          70       0.75      1.00      0.86         3\n",
      "          71       1.00      0.86      0.92         7\n",
      "          72       1.00      1.00      1.00         4\n",
      "          73       1.00      1.00      1.00         2\n",
      "          74       1.00      1.00      1.00         2\n",
      "          75       1.00      1.00      1.00        12\n",
      "          76       1.00      0.89      0.94         9\n",
      "          77       1.00      1.00      1.00         4\n",
      "          79       1.00      1.00      1.00        10\n",
      "          80       1.00      1.00      1.00         2\n",
      "          81       1.00      1.00      1.00         7\n",
      "          82       1.00      1.00      1.00         4\n",
      "          83       1.00      1.00      1.00         6\n",
      "          84       0.83      1.00      0.91         5\n",
      "          85       0.93      1.00      0.97        14\n",
      "          86       1.00      1.00      1.00        12\n",
      "          87       1.00      1.00      1.00         5\n",
      "          88       1.00      1.00      1.00         4\n",
      "          89       1.00      1.00      1.00         6\n",
      "          90       1.00      1.00      1.00         6\n",
      "          92       1.00      1.00      1.00         9\n",
      "          93       1.00      1.00      1.00         8\n",
      "          94       1.00      1.00      1.00         5\n",
      "          95       1.00      0.67      0.80         3\n",
      "          96       1.00      1.00      1.00         3\n",
      "          97       1.00      1.00      1.00        10\n",
      "          98       1.00      1.00      1.00        12\n",
      "          99       1.00      1.00      1.00        16\n",
      "         100       1.00      0.86      0.92         7\n",
      "         102       0.97      0.97      0.97        32\n",
      "         103       1.00      1.00      1.00         3\n",
      "         104       0.92      0.92      0.92        24\n",
      "         105       1.00      0.80      0.89         5\n",
      "         106       1.00      1.00      1.00         7\n",
      "         107       0.92      1.00      0.96        12\n",
      "         108       1.00      1.00      1.00         9\n",
      "         109       1.00      1.00      1.00         1\n",
      "         110       0.92      1.00      0.96        12\n",
      "         111       1.00      1.00      1.00        20\n",
      "         112       1.00      1.00      1.00         1\n",
      "         113       1.00      1.00      1.00         1\n",
      "         114       1.00      1.00      1.00         7\n",
      "         115       1.00      1.00      1.00         8\n",
      "         116       1.00      1.00      1.00         5\n",
      "         117       0.84      1.00      0.91        16\n",
      "         118       1.00      0.25      0.40         4\n",
      "         119       1.00      1.00      1.00        11\n",
      "         120       1.00      0.83      0.91         6\n",
      "         121       1.00      1.00      1.00         8\n",
      "         122       1.00      1.00      1.00         5\n",
      "         123       1.00      1.00      1.00         2\n",
      "         124       1.00      1.00      1.00         2\n",
      "         125       1.00      1.00      1.00        17\n",
      "         127       1.00      1.00      1.00        22\n",
      "         128       1.00      1.00      1.00        10\n",
      "         129       1.00      1.00      1.00         5\n",
      "         130       0.75      0.86      0.80        14\n",
      "         131       1.00      1.00      1.00         4\n",
      "         132       1.00      1.00      1.00         4\n",
      "         133       1.00      1.00      1.00         4\n",
      "         134       1.00      0.50      0.67         2\n",
      "         135       1.00      1.00      1.00         7\n",
      "         136       1.00      0.86      0.92         7\n",
      "         137       1.00      1.00      1.00         7\n",
      "         138       1.00      0.88      0.93         8\n",
      "         139       1.00      1.00      1.00        14\n",
      "         141       1.00      1.00      1.00         2\n",
      "         142       1.00      1.00      1.00         7\n",
      "         143       0.90      0.90      0.90        10\n",
      "         144       1.00      1.00      1.00         1\n",
      "         145       1.00      0.92      0.96        13\n",
      "         146       1.00      0.80      0.89         5\n",
      "         147       0.87      1.00      0.93        13\n",
      "         148       1.00      1.00      1.00         1\n",
      "         149       1.00      1.00      1.00         5\n",
      "         150       1.00      1.00      1.00         3\n",
      "         151       0.83      1.00      0.91         5\n",
      "         152       1.00      1.00      1.00         5\n",
      "         153       1.00      1.00      1.00         5\n",
      "         154       1.00      1.00      1.00         2\n",
      "         155       0.89      1.00      0.94         8\n",
      "         156       1.00      1.00      1.00         1\n",
      "         157       1.00      1.00      1.00         3\n",
      "         158       1.00      1.00      1.00         3\n",
      "         159       1.00      1.00      1.00         5\n",
      "         160       0.86      1.00      0.92         6\n",
      "         161       0.88      1.00      0.93         7\n",
      "         162       0.91      1.00      0.95        10\n",
      "         163       1.00      0.50      0.67         6\n",
      "         164       1.00      0.88      0.93        16\n",
      "         165       1.00      1.00      1.00         1\n",
      "         166       1.00      1.00      1.00         3\n",
      "         167       1.00      0.92      0.96        12\n",
      "         168       0.93      1.00      0.96        27\n",
      "         169       0.96      0.96      0.96        23\n",
      "         170       0.83      0.77      0.80        13\n",
      "         171       1.00      1.00      1.00         1\n",
      "         172       1.00      1.00      1.00         9\n",
      "         173       1.00      1.00      1.00         1\n",
      "         174       0.95      0.84      0.89        25\n",
      "         175       1.00      1.00      1.00         1\n",
      "         176       1.00      1.00      1.00         1\n",
      "         177       1.00      1.00      1.00         2\n",
      "         178       0.91      0.71      0.80        14\n",
      "         179       1.00      0.94      0.97        33\n",
      "         180       0.89      1.00      0.94         8\n",
      "         181       0.75      1.00      0.86         3\n",
      "\n",
      "    accuracy                           0.97      1693\n",
      "   macro avg       0.98      0.97      0.97      1693\n",
      "weighted avg       0.97      0.97      0.97      1693\n",
      "\n",
      "KNN ROC AUC score: 0.9953838677878201\n"
     ]
    }
   ],
   "source": [
    "report = classification_report(\n",
    "    y_true=y2_test,\n",
    "    y_pred=knc.predict(X_test_transformed),\n",
    "    zero_division=0.0 # Default: set to \"warn\", or float {0.0, 1.0}\n",
    ")\n",
    "\n",
    "roc_score = metrics.roc_auc_score(\n",
    "    y_true=y2_test,\n",
    "    y_score=knc.predict_proba(X_test_transformed),\n",
    "    labels=np.unique(y2_train),\n",
    "    average=\"weighted\",\n",
    "    multi_class=\"ovo\"\n",
    ")\n",
    "\n",
    "print(report)\n",
    "print(\"KNN ROC AUC score:\", roc_score)"
   ]
  },
  {
   "cell_type": "markdown",
   "metadata": {},
   "source": [
    "## Feature Importance"
   ]
  },
  {
   "cell_type": "code",
   "execution_count": 16,
   "metadata": {},
   "outputs": [
    {
     "data": {
      "text/html": [
       "<div align='center'><img src='data:image/png;base64,iVBORw0KGgoAAAANSUhEUgAAABkAAAAWCAYAAAA1vze2AAAAGXRFWHRTb2Z0d2FyZQBBZG9iZSBJbWFnZVJlYWR5ccllPAAAAdxJREFUeNq0Vt1Rg0AQJjcpgBJiBWIFkgoMFYhPPAIVECogPuYpdJBYgXQQrMCUkA50V7+d2ZwXuXPGm9khHLu3f9+3l1nkWNvtNqfHLgpfQ1EUS3tz5nAQ0+NIsiAZSc6eDlI8M3J00B/mDuUKDk6kfOebAgW3pkdD0pFcODGW4gKKvOrAUm04MA4QDt1OEIXU9hDigfS5rC1eS5T90gltck1Xrizo257kgySZcNRzgCSxCvgiE9nckPJo2b/B2AcEkk2OwL8bD8gmOKR1GPbaCUqxEgTq0tLvgb6zfo7+DgYGkkWL2tqLDV4RSITfbHPPfJKIrWz4nJQTMPAWA7IbD6imcNaDeDfgk+4No+wZr40BL3g9eQJJCFqRQ54KiSt72lsLpE3o3MCBSxDuq4yOckU2hKXRuwBH3OyMR4g1UpyTYw6mlmBqNdUXRM1NfyF5EPI6JkcpIDBIX8jX6DR/6ckAZJ0wEAdLR8DEk6OfC1Pp8BKo6TQIwPJbvJ6toK5lmuvJoRtfK6Ym1iRYIarRo2UyYHvRN5qpakR3yoizWrouoyuXXQqI185LCw07op5ZyCRGL99h24InP0e9xdQukEKVmhzrqZuRIfwISB//cP3Wk3f8f/yR+BRgAHu00HjLcEQBAAAAAElFTkSuQmCC' /></div><script charset='utf-8'>/*! For license information please see bundle.js.LICENSE.txt */\n",
       "(()=>{var e={486:function(e,t,n){var r;e=n.nmd(e),function(){var a,i=\"Expected a function\",o=\"__lodash_hash_undefined__\",u=\"__lodash_placeholder__\",l=32,s=128,c=1/0,f=9007199254740991,p=NaN,d=4294967295,h=[[\"ary\",s],[\"bind\",1],[\"bindKey\",2],[\"curry\",8],[\"curryRight\",16],[\"flip\",512],[\"partial\",l],[\"partialRight\",64],[\"rearg\",256]],v=\"[object Arguments]\",g=\"[object Array]\",y=\"[object Boolean]\",m=\"[object Date]\",b=\"[object Error]\",_=\"[object Function]\",w=\"[object GeneratorFunction]\",x=\"[object Map]\",k=\"[object Number]\",S=\"[object Object]\",E=\"[object Promise]\",C=\"[object RegExp]\",T=\"[object Set]\",M=\"[object String]\",N=\"[object Symbol]\",P=\"[object WeakMap]\",z=\"[object ArrayBuffer]\",L=\"[object DataView]\",O=\"[object Float32Array]\",A=\"[object Float64Array]\",F=\"[object Int8Array]\",D=\"[object Int16Array]\",R=\"[object Int32Array]\",j=\"[object Uint8Array]\",U=\"[object Uint8ClampedArray]\",I=\"[object Uint16Array]\",$=\"[object Uint32Array]\",B=/\\b__p \\+= '';/g,W=/\\b(__p \\+=) '' \\+/g,V=/(__e\\(.*?\\)|\\b__t\\)) \\+\\n'';/g,H=/&(?:amp|lt|gt|quot|#39);/g,q=/[&<>\"']/g,Q=RegExp(H.source),Y=RegExp(q.source),G=/<%-([\\s\\S]+?)%>/g,K=/<%([\\s\\S]+?)%>/g,Z=/<%=([\\s\\S]+?)%>/g,X=/\\.|\\[(?:[^[\\]]*|([\"'])(?:(?!\\1)[^\\\\]|\\\\.)*?\\1)\\]/,J=/^\\w*$/,ee=/[^.[\\]]+|\\[(?:(-?\\d+(?:\\.\\d+)?)|([\"'])((?:(?!\\2)[^\\\\]|\\\\.)*?)\\2)\\]|(?=(?:\\.|\\[\\])(?:\\.|\\[\\]|$))/g,te=/[\\\\^$.*+?()[\\]{}|]/g,ne=RegExp(te.source),re=/^\\s+/,ae=/\\s/,ie=/\\{(?:\\n\\/\\* \\[wrapped with .+\\] \\*\\/)?\\n?/,oe=/\\{\\n\\/\\* \\[wrapped with (.+)\\] \\*/,ue=/,? & /,le=/[^\\x00-\\x2f\\x3a-\\x40\\x5b-\\x60\\x7b-\\x7f]+/g,se=/[()=,{}\\[\\]\\/\\s]/,ce=/\\\\(\\\\)?/g,fe=/\\$\\{([^\\\\}]*(?:\\\\.[^\\\\}]*)*)\\}/g,pe=/\\w*$/,de=/^[-+]0x[0-9a-f]+$/i,he=/^0b[01]+$/i,ve=/^\\[object .+?Constructor\\]$/,ge=/^0o[0-7]+$/i,ye=/^(?:0|[1-9]\\d*)$/,me=/[\\xc0-\\xd6\\xd8-\\xf6\\xf8-\\xff\\u0100-\\u017f]/g,be=/($^)/,_e=/['\\n\\r\\u2028\\u2029\\\\]/g,we=\"\\\\ud800-\\\\udfff\",xe=\"\\\\u0300-\\\\u036f\\\\ufe20-\\\\ufe2f\\\\u20d0-\\\\u20ff\",ke=\"\\\\u2700-\\\\u27bf\",Se=\"a-z\\\\xdf-\\\\xf6\\\\xf8-\\\\xff\",Ee=\"A-Z\\\\xc0-\\\\xd6\\\\xd8-\\\\xde\",Ce=\"\\\\ufe0e\\\\ufe0f\",Te=\"\\\\xac\\\\xb1\\\\xd7\\\\xf7\\\\x00-\\\\x2f\\\\x3a-\\\\x40\\\\x5b-\\\\x60\\\\x7b-\\\\xbf\\\\u2000-\\\\u206f \\\\t\\\\x0b\\\\f\\\\xa0\\\\ufeff\\\\n\\\\r\\\\u2028\\\\u2029\\\\u1680\\\\u180e\\\\u2000\\\\u2001\\\\u2002\\\\u2003\\\\u2004\\\\u2005\\\\u2006\\\\u2007\\\\u2008\\\\u2009\\\\u200a\\\\u202f\\\\u205f\\\\u3000\",Me=\"[\"+we+\"]\",Ne=\"[\"+Te+\"]\",Pe=\"[\"+xe+\"]\",ze=\"\\\\d+\",Le=\"[\"+ke+\"]\",Oe=\"[\"+Se+\"]\",Ae=\"[^\"+we+Te+ze+ke+Se+Ee+\"]\",Fe=\"\\\\ud83c[\\\\udffb-\\\\udfff]\",De=\"[^\"+we+\"]\",Re=\"(?:\\\\ud83c[\\\\udde6-\\\\uddff]){2}\",je=\"[\\\\ud800-\\\\udbff][\\\\udc00-\\\\udfff]\",Ue=\"[\"+Ee+\"]\",Ie=\"\\\\u200d\",$e=\"(?:\"+Oe+\"|\"+Ae+\")\",Be=\"(?:\"+Ue+\"|\"+Ae+\")\",We=\"(?:['’](?:d|ll|m|re|s|t|ve))?\",Ve=\"(?:['’](?:D|LL|M|RE|S|T|VE))?\",He=\"(?:\"+Pe+\"|\"+Fe+\")?\",qe=\"[\"+Ce+\"]?\",Qe=qe+He+\"(?:\"+Ie+\"(?:\"+[De,Re,je].join(\"|\")+\")\"+qe+He+\")*\",Ye=\"(?:\"+[Le,Re,je].join(\"|\")+\")\"+Qe,Ge=\"(?:\"+[De+Pe+\"?\",Pe,Re,je,Me].join(\"|\")+\")\",Ke=RegExp(\"['’]\",\"g\"),Ze=RegExp(Pe,\"g\"),Xe=RegExp(Fe+\"(?=\"+Fe+\")|\"+Ge+Qe,\"g\"),Je=RegExp([Ue+\"?\"+Oe+\"+\"+We+\"(?=\"+[Ne,Ue,\"$\"].join(\"|\")+\")\",Be+\"+\"+Ve+\"(?=\"+[Ne,Ue+$e,\"$\"].join(\"|\")+\")\",Ue+\"?\"+$e+\"+\"+We,Ue+\"+\"+Ve,\"\\\\d*(?:1ST|2ND|3RD|(?![123])\\\\dTH)(?=\\\\b|[a-z_])\",\"\\\\d*(?:1st|2nd|3rd|(?![123])\\\\dth)(?=\\\\b|[A-Z_])\",ze,Ye].join(\"|\"),\"g\"),et=RegExp(\"[\"+Ie+we+xe+Ce+\"]\"),tt=/[a-z][A-Z]|[A-Z]{2}[a-z]|[0-9][a-zA-Z]|[a-zA-Z][0-9]|[^a-zA-Z0-9 ]/,nt=[\"Array\",\"Buffer\",\"DataView\",\"Date\",\"Error\",\"Float32Array\",\"Float64Array\",\"Function\",\"Int8Array\",\"Int16Array\",\"Int32Array\",\"Map\",\"Math\",\"Object\",\"Promise\",\"RegExp\",\"Set\",\"String\",\"Symbol\",\"TypeError\",\"Uint8Array\",\"Uint8ClampedArray\",\"Uint16Array\",\"Uint32Array\",\"WeakMap\",\"_\",\"clearTimeout\",\"isFinite\",\"parseInt\",\"setTimeout\"],rt=-1,at={};at[O]=at[A]=at[F]=at[D]=at[R]=at[j]=at[U]=at[I]=at[$]=!0,at[v]=at[g]=at[z]=at[y]=at[L]=at[m]=at[b]=at[_]=at[x]=at[k]=at[S]=at[C]=at[T]=at[M]=at[P]=!1;var it={};it[v]=it[g]=it[z]=it[L]=it[y]=it[m]=it[O]=it[A]=it[F]=it[D]=it[R]=it[x]=it[k]=it[S]=it[C]=it[T]=it[M]=it[N]=it[j]=it[U]=it[I]=it[$]=!0,it[b]=it[_]=it[P]=!1;var ot={\"\\\\\":\"\\\\\",\"'\":\"'\",\"\\n\":\"n\",\"\\r\":\"r\",\"\\u2028\":\"u2028\",\"\\u2029\":\"u2029\"},ut=parseFloat,lt=parseInt,st=\"object\"==typeof n.g&&n.g&&n.g.Object===Object&&n.g,ct=\"object\"==typeof self&&self&&self.Object===Object&&self,ft=st||ct||Function(\"return this\")(),pt=t&&!t.nodeType&&t,dt=pt&&e&&!e.nodeType&&e,ht=dt&&dt.exports===pt,vt=ht&&st.process,gt=function(){try{return dt&&dt.require&&dt.require(\"util\").types||vt&&vt.binding&&vt.binding(\"util\")}catch(e){}}(),yt=gt&&gt.isArrayBuffer,mt=gt&&gt.isDate,bt=gt&&gt.isMap,_t=gt&&gt.isRegExp,wt=gt&&gt.isSet,xt=gt&&gt.isTypedArray;function kt(e,t,n){switch(n.length){case 0:return e.call(t);case 1:return e.call(t,n[0]);case 2:return e.call(t,n[0],n[1]);case 3:return e.call(t,n[0],n[1],n[2])}return e.apply(t,n)}function St(e,t,n,r){for(var a=-1,i=null==e?0:e.length;++a<i;){var o=e[a];t(r,o,n(o),e)}return r}function Et(e,t){for(var n=-1,r=null==e?0:e.length;++n<r&&!1!==t(e[n],n,e););return e}function Ct(e,t){for(var n=null==e?0:e.length;n--&&!1!==t(e[n],n,e););return e}function Tt(e,t){for(var n=-1,r=null==e?0:e.length;++n<r;)if(!t(e[n],n,e))return!1;return!0}function Mt(e,t){for(var n=-1,r=null==e?0:e.length,a=0,i=[];++n<r;){var o=e[n];t(o,n,e)&&(i[a++]=o)}return i}function Nt(e,t){return!(null==e||!e.length)&&Ut(e,t,0)>-1}function Pt(e,t,n){for(var r=-1,a=null==e?0:e.length;++r<a;)if(n(t,e[r]))return!0;return!1}function zt(e,t){for(var n=-1,r=null==e?0:e.length,a=Array(r);++n<r;)a[n]=t(e[n],n,e);return a}function Lt(e,t){for(var n=-1,r=t.length,a=e.length;++n<r;)e[a+n]=t[n];return e}function Ot(e,t,n,r){var a=-1,i=null==e?0:e.length;for(r&&i&&(n=e[++a]);++a<i;)n=t(n,e[a],a,e);return n}function At(e,t,n,r){var a=null==e?0:e.length;for(r&&a&&(n=e[--a]);a--;)n=t(n,e[a],a,e);return n}function Ft(e,t){for(var n=-1,r=null==e?0:e.length;++n<r;)if(t(e[n],n,e))return!0;return!1}var Dt=Wt(\"length\");function Rt(e,t,n){var r;return n(e,(function(e,n,a){if(t(e,n,a))return r=n,!1})),r}function jt(e,t,n,r){for(var a=e.length,i=n+(r?1:-1);r?i--:++i<a;)if(t(e[i],i,e))return i;return-1}function Ut(e,t,n){return t==t?function(e,t,n){for(var r=n-1,a=e.length;++r<a;)if(e[r]===t)return r;return-1}(e,t,n):jt(e,$t,n)}function It(e,t,n,r){for(var a=n-1,i=e.length;++a<i;)if(r(e[a],t))return a;return-1}function $t(e){return e!=e}function Bt(e,t){var n=null==e?0:e.length;return n?qt(e,t)/n:p}function Wt(e){return function(t){return null==t?a:t[e]}}function Vt(e){return function(t){return null==e?a:e[t]}}function Ht(e,t,n,r,a){return a(e,(function(e,a,i){n=r?(r=!1,e):t(n,e,a,i)})),n}function qt(e,t){for(var n,r=-1,i=e.length;++r<i;){var o=t(e[r]);o!==a&&(n=n===a?o:n+o)}return n}function Qt(e,t){for(var n=-1,r=Array(e);++n<e;)r[n]=t(n);return r}function Yt(e){return e?e.slice(0,pn(e)+1).replace(re,\"\"):e}function Gt(e){return function(t){return e(t)}}function Kt(e,t){return zt(t,(function(t){return e[t]}))}function Zt(e,t){return e.has(t)}function Xt(e,t){for(var n=-1,r=e.length;++n<r&&Ut(t,e[n],0)>-1;);return n}function Jt(e,t){for(var n=e.length;n--&&Ut(t,e[n],0)>-1;);return n}var en=Vt({À:\"A\",Á:\"A\",Â:\"A\",Ã:\"A\",Ä:\"A\",Å:\"A\",à:\"a\",á:\"a\",â:\"a\",ã:\"a\",ä:\"a\",å:\"a\",Ç:\"C\",ç:\"c\",Ð:\"D\",ð:\"d\",È:\"E\",É:\"E\",Ê:\"E\",Ë:\"E\",è:\"e\",é:\"e\",ê:\"e\",ë:\"e\",Ì:\"I\",Í:\"I\",Î:\"I\",Ï:\"I\",ì:\"i\",í:\"i\",î:\"i\",ï:\"i\",Ñ:\"N\",ñ:\"n\",Ò:\"O\",Ó:\"O\",Ô:\"O\",Õ:\"O\",Ö:\"O\",Ø:\"O\",ò:\"o\",ó:\"o\",ô:\"o\",õ:\"o\",ö:\"o\",ø:\"o\",Ù:\"U\",Ú:\"U\",Û:\"U\",Ü:\"U\",ù:\"u\",ú:\"u\",û:\"u\",ü:\"u\",Ý:\"Y\",ý:\"y\",ÿ:\"y\",Æ:\"Ae\",æ:\"ae\",Þ:\"Th\",þ:\"th\",ß:\"ss\",Ā:\"A\",Ă:\"A\",Ą:\"A\",ā:\"a\",ă:\"a\",ą:\"a\",Ć:\"C\",Ĉ:\"C\",Ċ:\"C\",Č:\"C\",ć:\"c\",ĉ:\"c\",ċ:\"c\",č:\"c\",Ď:\"D\",Đ:\"D\",ď:\"d\",đ:\"d\",Ē:\"E\",Ĕ:\"E\",Ė:\"E\",Ę:\"E\",Ě:\"E\",ē:\"e\",ĕ:\"e\",ė:\"e\",ę:\"e\",ě:\"e\",Ĝ:\"G\",Ğ:\"G\",Ġ:\"G\",Ģ:\"G\",ĝ:\"g\",ğ:\"g\",ġ:\"g\",ģ:\"g\",Ĥ:\"H\",Ħ:\"H\",ĥ:\"h\",ħ:\"h\",Ĩ:\"I\",Ī:\"I\",Ĭ:\"I\",Į:\"I\",İ:\"I\",ĩ:\"i\",ī:\"i\",ĭ:\"i\",į:\"i\",ı:\"i\",Ĵ:\"J\",ĵ:\"j\",Ķ:\"K\",ķ:\"k\",ĸ:\"k\",Ĺ:\"L\",Ļ:\"L\",Ľ:\"L\",Ŀ:\"L\",Ł:\"L\",ĺ:\"l\",ļ:\"l\",ľ:\"l\",ŀ:\"l\",ł:\"l\",Ń:\"N\",Ņ:\"N\",Ň:\"N\",Ŋ:\"N\",ń:\"n\",ņ:\"n\",ň:\"n\",ŋ:\"n\",Ō:\"O\",Ŏ:\"O\",Ő:\"O\",ō:\"o\",ŏ:\"o\",ő:\"o\",Ŕ:\"R\",Ŗ:\"R\",Ř:\"R\",ŕ:\"r\",ŗ:\"r\",ř:\"r\",Ś:\"S\",Ŝ:\"S\",Ş:\"S\",Š:\"S\",ś:\"s\",ŝ:\"s\",ş:\"s\",š:\"s\",Ţ:\"T\",Ť:\"T\",Ŧ:\"T\",ţ:\"t\",ť:\"t\",ŧ:\"t\",Ũ:\"U\",Ū:\"U\",Ŭ:\"U\",Ů:\"U\",Ű:\"U\",Ų:\"U\",ũ:\"u\",ū:\"u\",ŭ:\"u\",ů:\"u\",ű:\"u\",ų:\"u\",Ŵ:\"W\",ŵ:\"w\",Ŷ:\"Y\",ŷ:\"y\",Ÿ:\"Y\",Ź:\"Z\",Ż:\"Z\",Ž:\"Z\",ź:\"z\",ż:\"z\",ž:\"z\",Ĳ:\"IJ\",ĳ:\"ij\",Œ:\"Oe\",œ:\"oe\",ŉ:\"'n\",ſ:\"s\"}),tn=Vt({\"&\":\"&amp;\",\"<\":\"&lt;\",\">\":\"&gt;\",'\"':\"&quot;\",\"'\":\"&#39;\"});function nn(e){return\"\\\\\"+ot[e]}function rn(e){return et.test(e)}function an(e){var t=-1,n=Array(e.size);return e.forEach((function(e,r){n[++t]=[r,e]})),n}function on(e,t){return function(n){return e(t(n))}}function un(e,t){for(var n=-1,r=e.length,a=0,i=[];++n<r;){var o=e[n];o!==t&&o!==u||(e[n]=u,i[a++]=n)}return i}function ln(e){var t=-1,n=Array(e.size);return e.forEach((function(e){n[++t]=e})),n}function sn(e){var t=-1,n=Array(e.size);return e.forEach((function(e){n[++t]=[e,e]})),n}function cn(e){return rn(e)?function(e){for(var t=Xe.lastIndex=0;Xe.test(e);)++t;return t}(e):Dt(e)}function fn(e){return rn(e)?function(e){return e.match(Xe)||[]}(e):function(e){return e.split(\"\")}(e)}function pn(e){for(var t=e.length;t--&&ae.test(e.charAt(t)););return t}var dn=Vt({\"&amp;\":\"&\",\"&lt;\":\"<\",\"&gt;\":\">\",\"&quot;\":'\"',\"&#39;\":\"'\"}),hn=function e(t){var n,r=(t=null==t?ft:hn.defaults(ft.Object(),t,hn.pick(ft,nt))).Array,ae=t.Date,we=t.Error,xe=t.Function,ke=t.Math,Se=t.Object,Ee=t.RegExp,Ce=t.String,Te=t.TypeError,Me=r.prototype,Ne=xe.prototype,Pe=Se.prototype,ze=t[\"__core-js_shared__\"],Le=Ne.toString,Oe=Pe.hasOwnProperty,Ae=0,Fe=(n=/[^.]+$/.exec(ze&&ze.keys&&ze.keys.IE_PROTO||\"\"))?\"Symbol(src)_1.\"+n:\"\",De=Pe.toString,Re=Le.call(Se),je=ft._,Ue=Ee(\"^\"+Le.call(Oe).replace(te,\"\\\\$&\").replace(/hasOwnProperty|(function).*?(?=\\\\\\()| for .+?(?=\\\\\\])/g,\"$1.*?\")+\"$\"),Ie=ht?t.Buffer:a,$e=t.Symbol,Be=t.Uint8Array,We=Ie?Ie.allocUnsafe:a,Ve=on(Se.getPrototypeOf,Se),He=Se.create,qe=Pe.propertyIsEnumerable,Qe=Me.splice,Ye=$e?$e.isConcatSpreadable:a,Ge=$e?$e.iterator:a,Xe=$e?$e.toStringTag:a,et=function(){try{var e=li(Se,\"defineProperty\");return e({},\"\",{}),e}catch(e){}}(),ot=t.clearTimeout!==ft.clearTimeout&&t.clearTimeout,st=ae&&ae.now!==ft.Date.now&&ae.now,ct=t.setTimeout!==ft.setTimeout&&t.setTimeout,pt=ke.ceil,dt=ke.floor,vt=Se.getOwnPropertySymbols,gt=Ie?Ie.isBuffer:a,Dt=t.isFinite,Vt=Me.join,vn=on(Se.keys,Se),gn=ke.max,yn=ke.min,mn=ae.now,bn=t.parseInt,_n=ke.random,wn=Me.reverse,xn=li(t,\"DataView\"),kn=li(t,\"Map\"),Sn=li(t,\"Promise\"),En=li(t,\"Set\"),Cn=li(t,\"WeakMap\"),Tn=li(Se,\"create\"),Mn=Cn&&new Cn,Nn={},Pn=Di(xn),zn=Di(kn),Ln=Di(Sn),On=Di(En),An=Di(Cn),Fn=$e?$e.prototype:a,Dn=Fn?Fn.valueOf:a,Rn=Fn?Fn.toString:a;function jn(e){if(eu(e)&&!Wo(e)&&!(e instanceof Bn)){if(e instanceof $n)return e;if(Oe.call(e,\"__wrapped__\"))return Ri(e)}return new $n(e)}var Un=function(){function e(){}return function(t){if(!Jo(t))return{};if(He)return He(t);e.prototype=t;var n=new e;return e.prototype=a,n}}();function In(){}function $n(e,t){this.__wrapped__=e,this.__actions__=[],this.__chain__=!!t,this.__index__=0,this.__values__=a}function Bn(e){this.__wrapped__=e,this.__actions__=[],this.__dir__=1,this.__filtered__=!1,this.__iteratees__=[],this.__takeCount__=d,this.__views__=[]}function Wn(e){var t=-1,n=null==e?0:e.length;for(this.clear();++t<n;){var r=e[t];this.set(r[0],r[1])}}function Vn(e){var t=-1,n=null==e?0:e.length;for(this.clear();++t<n;){var r=e[t];this.set(r[0],r[1])}}function Hn(e){var t=-1,n=null==e?0:e.length;for(this.clear();++t<n;){var r=e[t];this.set(r[0],r[1])}}function qn(e){var t=-1,n=null==e?0:e.length;for(this.__data__=new Hn;++t<n;)this.add(e[t])}function Qn(e){var t=this.__data__=new Vn(e);this.size=t.size}function Yn(e,t){var n=Wo(e),r=!n&&Bo(e),a=!n&&!r&&Qo(e),i=!n&&!r&&!a&&lu(e),o=n||r||a||i,u=o?Qt(e.length,Ce):[],l=u.length;for(var s in e)!t&&!Oe.call(e,s)||o&&(\"length\"==s||a&&(\"offset\"==s||\"parent\"==s)||i&&(\"buffer\"==s||\"byteLength\"==s||\"byteOffset\"==s)||vi(s,l))||u.push(s);return u}function Gn(e){var t=e.length;return t?e[Hr(0,t-1)]:a}function Kn(e,t){return zi(Ca(e),ir(t,0,e.length))}function Zn(e){return zi(Ca(e))}function Xn(e,t,n){(n!==a&&!Uo(e[t],n)||n===a&&!(t in e))&&rr(e,t,n)}function Jn(e,t,n){var r=e[t];Oe.call(e,t)&&Uo(r,n)&&(n!==a||t in e)||rr(e,t,n)}function er(e,t){for(var n=e.length;n--;)if(Uo(e[n][0],t))return n;return-1}function tr(e,t,n,r){return cr(e,(function(e,a,i){t(r,e,n(e),i)})),r}function nr(e,t){return e&&Ta(t,Pu(t),e)}function rr(e,t,n){\"__proto__\"==t&&et?et(e,t,{configurable:!0,enumerable:!0,value:n,writable:!0}):e[t]=n}function ar(e,t){for(var n=-1,i=t.length,o=r(i),u=null==e;++n<i;)o[n]=u?a:Eu(e,t[n]);return o}function ir(e,t,n){return e==e&&(n!==a&&(e=e<=n?e:n),t!==a&&(e=e>=t?e:t)),e}function or(e,t,n,r,i,o){var u,l=1&t,s=2&t,c=4&t;if(n&&(u=i?n(e,r,i,o):n(e)),u!==a)return u;if(!Jo(e))return e;var f=Wo(e);if(f){if(u=function(e){var t=e.length,n=new e.constructor(t);return t&&\"string\"==typeof e[0]&&Oe.call(e,\"index\")&&(n.index=e.index,n.input=e.input),n}(e),!l)return Ca(e,u)}else{var p=fi(e),d=p==_||p==w;if(Qo(e))return _a(e,l);if(p==S||p==v||d&&!i){if(u=s||d?{}:di(e),!l)return s?function(e,t){return Ta(e,ci(e),t)}(e,function(e,t){return e&&Ta(t,zu(t),e)}(u,e)):function(e,t){return Ta(e,si(e),t)}(e,nr(u,e))}else{if(!it[p])return i?e:{};u=function(e,t,n){var r,a=e.constructor;switch(t){case z:return wa(e);case y:case m:return new a(+e);case L:return function(e,t){var n=t?wa(e.buffer):e.buffer;return new e.constructor(n,e.byteOffset,e.byteLength)}(e,n);case O:case A:case F:case D:case R:case j:case U:case I:case $:return xa(e,n);case x:return new a;case k:case M:return new a(e);case C:return function(e){var t=new e.constructor(e.source,pe.exec(e));return t.lastIndex=e.lastIndex,t}(e);case T:return new a;case N:return r=e,Dn?Se(Dn.call(r)):{}}}(e,p,l)}}o||(o=new Qn);var h=o.get(e);if(h)return h;o.set(e,u),iu(e)?e.forEach((function(r){u.add(or(r,t,n,r,e,o))})):tu(e)&&e.forEach((function(r,a){u.set(a,or(r,t,n,a,e,o))}));var g=f?a:(c?s?ti:ei:s?zu:Pu)(e);return Et(g||e,(function(r,a){g&&(r=e[a=r]),Jn(u,a,or(r,t,n,a,e,o))})),u}function ur(e,t,n){var r=n.length;if(null==e)return!r;for(e=Se(e);r--;){var i=n[r],o=t[i],u=e[i];if(u===a&&!(i in e)||!o(u))return!1}return!0}function lr(e,t,n){if(\"function\"!=typeof e)throw new Te(i);return Ti((function(){e.apply(a,n)}),t)}function sr(e,t,n,r){var a=-1,i=Nt,o=!0,u=e.length,l=[],s=t.length;if(!u)return l;n&&(t=zt(t,Gt(n))),r?(i=Pt,o=!1):t.length>=200&&(i=Zt,o=!1,t=new qn(t));e:for(;++a<u;){var c=e[a],f=null==n?c:n(c);if(c=r||0!==c?c:0,o&&f==f){for(var p=s;p--;)if(t[p]===f)continue e;l.push(c)}else i(t,f,r)||l.push(c)}return l}jn.templateSettings={escape:G,evaluate:K,interpolate:Z,variable:\"\",imports:{_:jn}},jn.prototype=In.prototype,jn.prototype.constructor=jn,$n.prototype=Un(In.prototype),$n.prototype.constructor=$n,Bn.prototype=Un(In.prototype),Bn.prototype.constructor=Bn,Wn.prototype.clear=function(){this.__data__=Tn?Tn(null):{},this.size=0},Wn.prototype.delete=function(e){var t=this.has(e)&&delete this.__data__[e];return this.size-=t?1:0,t},Wn.prototype.get=function(e){var t=this.__data__;if(Tn){var n=t[e];return n===o?a:n}return Oe.call(t,e)?t[e]:a},Wn.prototype.has=function(e){var t=this.__data__;return Tn?t[e]!==a:Oe.call(t,e)},Wn.prototype.set=function(e,t){var n=this.__data__;return this.size+=this.has(e)?0:1,n[e]=Tn&&t===a?o:t,this},Vn.prototype.clear=function(){this.__data__=[],this.size=0},Vn.prototype.delete=function(e){var t=this.__data__,n=er(t,e);return!(n<0||(n==t.length-1?t.pop():Qe.call(t,n,1),--this.size,0))},Vn.prototype.get=function(e){var t=this.__data__,n=er(t,e);return n<0?a:t[n][1]},Vn.prototype.has=function(e){return er(this.__data__,e)>-1},Vn.prototype.set=function(e,t){var n=this.__data__,r=er(n,e);return r<0?(++this.size,n.push([e,t])):n[r][1]=t,this},Hn.prototype.clear=function(){this.size=0,this.__data__={hash:new Wn,map:new(kn||Vn),string:new Wn}},Hn.prototype.delete=function(e){var t=oi(this,e).delete(e);return this.size-=t?1:0,t},Hn.prototype.get=function(e){return oi(this,e).get(e)},Hn.prototype.has=function(e){return oi(this,e).has(e)},Hn.prototype.set=function(e,t){var n=oi(this,e),r=n.size;return n.set(e,t),this.size+=n.size==r?0:1,this},qn.prototype.add=qn.prototype.push=function(e){return this.__data__.set(e,o),this},qn.prototype.has=function(e){return this.__data__.has(e)},Qn.prototype.clear=function(){this.__data__=new Vn,this.size=0},Qn.prototype.delete=function(e){var t=this.__data__,n=t.delete(e);return this.size=t.size,n},Qn.prototype.get=function(e){return this.__data__.get(e)},Qn.prototype.has=function(e){return this.__data__.has(e)},Qn.prototype.set=function(e,t){var n=this.__data__;if(n instanceof Vn){var r=n.__data__;if(!kn||r.length<199)return r.push([e,t]),this.size=++n.size,this;n=this.__data__=new Hn(r)}return n.set(e,t),this.size=n.size,this};var cr=Pa(mr),fr=Pa(br,!0);function pr(e,t){var n=!0;return cr(e,(function(e,r,a){return n=!!t(e,r,a)})),n}function dr(e,t,n){for(var r=-1,i=e.length;++r<i;){var o=e[r],u=t(o);if(null!=u&&(l===a?u==u&&!uu(u):n(u,l)))var l=u,s=o}return s}function hr(e,t){var n=[];return cr(e,(function(e,r,a){t(e,r,a)&&n.push(e)})),n}function vr(e,t,n,r,a){var i=-1,o=e.length;for(n||(n=hi),a||(a=[]);++i<o;){var u=e[i];t>0&&n(u)?t>1?vr(u,t-1,n,r,a):Lt(a,u):r||(a[a.length]=u)}return a}var gr=za(),yr=za(!0);function mr(e,t){return e&&gr(e,t,Pu)}function br(e,t){return e&&yr(e,t,Pu)}function _r(e,t){return Mt(t,(function(t){return Ko(e[t])}))}function wr(e,t){for(var n=0,r=(t=ga(t,e)).length;null!=e&&n<r;)e=e[Fi(t[n++])];return n&&n==r?e:a}function xr(e,t,n){var r=t(e);return Wo(e)?r:Lt(r,n(e))}function kr(e){return null==e?e===a?\"[object Undefined]\":\"[object Null]\":Xe&&Xe in Se(e)?function(e){var t=Oe.call(e,Xe),n=e[Xe];try{e[Xe]=a;var r=!0}catch(e){}var i=De.call(e);return r&&(t?e[Xe]=n:delete e[Xe]),i}(e):function(e){return De.call(e)}(e)}function Sr(e,t){return e>t}function Er(e,t){return null!=e&&Oe.call(e,t)}function Cr(e,t){return null!=e&&t in Se(e)}function Tr(e,t,n){for(var i=n?Pt:Nt,o=e[0].length,u=e.length,l=u,s=r(u),c=1/0,f=[];l--;){var p=e[l];l&&t&&(p=zt(p,Gt(t))),c=yn(p.length,c),s[l]=!n&&(t||o>=120&&p.length>=120)?new qn(l&&p):a}p=e[0];var d=-1,h=s[0];e:for(;++d<o&&f.length<c;){var v=p[d],g=t?t(v):v;if(v=n||0!==v?v:0,!(h?Zt(h,g):i(f,g,n))){for(l=u;--l;){var y=s[l];if(!(y?Zt(y,g):i(e[l],g,n)))continue e}h&&h.push(g),f.push(v)}}return f}function Mr(e,t,n){var r=null==(e=Si(e,t=ga(t,e)))?e:e[Fi(Yi(t))];return null==r?a:kt(r,e,n)}function Nr(e){return eu(e)&&kr(e)==v}function Pr(e,t,n,r,i){return e===t||(null==e||null==t||!eu(e)&&!eu(t)?e!=e&&t!=t:function(e,t,n,r,i,o){var u=Wo(e),l=Wo(t),s=u?g:fi(e),c=l?g:fi(t),f=(s=s==v?S:s)==S,p=(c=c==v?S:c)==S,d=s==c;if(d&&Qo(e)){if(!Qo(t))return!1;u=!0,f=!1}if(d&&!f)return o||(o=new Qn),u||lu(e)?Xa(e,t,n,r,i,o):function(e,t,n,r,a,i,o){switch(n){case L:if(e.byteLength!=t.byteLength||e.byteOffset!=t.byteOffset)return!1;e=e.buffer,t=t.buffer;case z:return!(e.byteLength!=t.byteLength||!i(new Be(e),new Be(t)));case y:case m:case k:return Uo(+e,+t);case b:return e.name==t.name&&e.message==t.message;case C:case M:return e==t+\"\";case x:var u=an;case T:var l=1&r;if(u||(u=ln),e.size!=t.size&&!l)return!1;var s=o.get(e);if(s)return s==t;r|=2,o.set(e,t);var c=Xa(u(e),u(t),r,a,i,o);return o.delete(e),c;case N:if(Dn)return Dn.call(e)==Dn.call(t)}return!1}(e,t,s,n,r,i,o);if(!(1&n)){var h=f&&Oe.call(e,\"__wrapped__\"),_=p&&Oe.call(t,\"__wrapped__\");if(h||_){var w=h?e.value():e,E=_?t.value():t;return o||(o=new Qn),i(w,E,n,r,o)}}return!!d&&(o||(o=new Qn),function(e,t,n,r,i,o){var u=1&n,l=ei(e),s=l.length;if(s!=ei(t).length&&!u)return!1;for(var c=s;c--;){var f=l[c];if(!(u?f in t:Oe.call(t,f)))return!1}var p=o.get(e),d=o.get(t);if(p&&d)return p==t&&d==e;var h=!0;o.set(e,t),o.set(t,e);for(var v=u;++c<s;){var g=e[f=l[c]],y=t[f];if(r)var m=u?r(y,g,f,t,e,o):r(g,y,f,e,t,o);if(!(m===a?g===y||i(g,y,n,r,o):m)){h=!1;break}v||(v=\"constructor\"==f)}if(h&&!v){var b=e.constructor,_=t.constructor;b==_||!(\"constructor\"in e)||!(\"constructor\"in t)||\"function\"==typeof b&&b instanceof b&&\"function\"==typeof _&&_ instanceof _||(h=!1)}return o.delete(e),o.delete(t),h}(e,t,n,r,i,o))}(e,t,n,r,Pr,i))}function zr(e,t,n,r){var i=n.length,o=i,u=!r;if(null==e)return!o;for(e=Se(e);i--;){var l=n[i];if(u&&l[2]?l[1]!==e[l[0]]:!(l[0]in e))return!1}for(;++i<o;){var s=(l=n[i])[0],c=e[s],f=l[1];if(u&&l[2]){if(c===a&&!(s in e))return!1}else{var p=new Qn;if(r)var d=r(c,f,s,e,t,p);if(!(d===a?Pr(f,c,3,r,p):d))return!1}}return!0}function Lr(e){return!(!Jo(e)||(t=e,Fe&&Fe in t))&&(Ko(e)?Ue:ve).test(Di(e));var t}function Or(e){return\"function\"==typeof e?e:null==e?nl:\"object\"==typeof e?Wo(e)?jr(e[0],e[1]):Rr(e):fl(e)}function Ar(e){if(!_i(e))return vn(e);var t=[];for(var n in Se(e))Oe.call(e,n)&&\"constructor\"!=n&&t.push(n);return t}function Fr(e,t){return e<t}function Dr(e,t){var n=-1,a=Ho(e)?r(e.length):[];return cr(e,(function(e,r,i){a[++n]=t(e,r,i)})),a}function Rr(e){var t=ui(e);return 1==t.length&&t[0][2]?xi(t[0][0],t[0][1]):function(n){return n===e||zr(n,e,t)}}function jr(e,t){return yi(e)&&wi(t)?xi(Fi(e),t):function(n){var r=Eu(n,e);return r===a&&r===t?Cu(n,e):Pr(t,r,3)}}function Ur(e,t,n,r,i){e!==t&&gr(t,(function(o,u){if(i||(i=new Qn),Jo(o))!function(e,t,n,r,i,o,u){var l=Ei(e,n),s=Ei(t,n),c=u.get(s);if(c)Xn(e,n,c);else{var f=o?o(l,s,n+\"\",e,t,u):a,p=f===a;if(p){var d=Wo(s),h=!d&&Qo(s),v=!d&&!h&&lu(s);f=s,d||h||v?Wo(l)?f=l:qo(l)?f=Ca(l):h?(p=!1,f=_a(s,!0)):v?(p=!1,f=xa(s,!0)):f=[]:ru(s)||Bo(s)?(f=l,Bo(l)?f=gu(l):Jo(l)&&!Ko(l)||(f=di(s))):p=!1}p&&(u.set(s,f),i(f,s,r,o,u),u.delete(s)),Xn(e,n,f)}}(e,t,u,n,Ur,r,i);else{var l=r?r(Ei(e,u),o,u+\"\",e,t,i):a;l===a&&(l=o),Xn(e,u,l)}}),zu)}function Ir(e,t){var n=e.length;if(n)return vi(t+=t<0?n:0,n)?e[t]:a}function $r(e,t,n){t=t.length?zt(t,(function(e){return Wo(e)?function(t){return wr(t,1===e.length?e[0]:e)}:e})):[nl];var r=-1;t=zt(t,Gt(ii()));var a=Dr(e,(function(e,n,a){var i=zt(t,(function(t){return t(e)}));return{criteria:i,index:++r,value:e}}));return function(e,t){var r=e.length;for(e.sort((function(e,t){return function(e,t,n){for(var r=-1,a=e.criteria,i=t.criteria,o=a.length,u=n.length;++r<o;){var l=ka(a[r],i[r]);if(l)return r>=u?l:l*(\"desc\"==n[r]?-1:1)}return e.index-t.index}(e,t,n)}));r--;)e[r]=e[r].value;return e}(a)}function Br(e,t,n){for(var r=-1,a=t.length,i={};++r<a;){var o=t[r],u=wr(e,o);n(u,o)&&Kr(i,ga(o,e),u)}return i}function Wr(e,t,n,r){var a=r?It:Ut,i=-1,o=t.length,u=e;for(e===t&&(t=Ca(t)),n&&(u=zt(e,Gt(n)));++i<o;)for(var l=0,s=t[i],c=n?n(s):s;(l=a(u,c,l,r))>-1;)u!==e&&Qe.call(u,l,1),Qe.call(e,l,1);return e}function Vr(e,t){for(var n=e?t.length:0,r=n-1;n--;){var a=t[n];if(n==r||a!==i){var i=a;vi(a)?Qe.call(e,a,1):la(e,a)}}return e}function Hr(e,t){return e+dt(_n()*(t-e+1))}function qr(e,t){var n=\"\";if(!e||t<1||t>f)return n;do{t%2&&(n+=e),(t=dt(t/2))&&(e+=e)}while(t);return n}function Qr(e,t){return Mi(ki(e,t,nl),e+\"\")}function Yr(e){return Gn(Uu(e))}function Gr(e,t){var n=Uu(e);return zi(n,ir(t,0,n.length))}function Kr(e,t,n,r){if(!Jo(e))return e;for(var i=-1,o=(t=ga(t,e)).length,u=o-1,l=e;null!=l&&++i<o;){var s=Fi(t[i]),c=n;if(\"__proto__\"===s||\"constructor\"===s||\"prototype\"===s)return e;if(i!=u){var f=l[s];(c=r?r(f,s,l):a)===a&&(c=Jo(f)?f:vi(t[i+1])?[]:{})}Jn(l,s,c),l=l[s]}return e}var Zr=Mn?function(e,t){return Mn.set(e,t),e}:nl,Xr=et?function(e,t){return et(e,\"toString\",{configurable:!0,enumerable:!1,value:Ju(t),writable:!0})}:nl;function Jr(e){return zi(Uu(e))}function ea(e,t,n){var a=-1,i=e.length;t<0&&(t=-t>i?0:i+t),(n=n>i?i:n)<0&&(n+=i),i=t>n?0:n-t>>>0,t>>>=0;for(var o=r(i);++a<i;)o[a]=e[a+t];return o}function ta(e,t){var n;return cr(e,(function(e,r,a){return!(n=t(e,r,a))})),!!n}function na(e,t,n){var r=0,a=null==e?r:e.length;if(\"number\"==typeof t&&t==t&&a<=2147483647){for(;r<a;){var i=r+a>>>1,o=e[i];null!==o&&!uu(o)&&(n?o<=t:o<t)?r=i+1:a=i}return a}return ra(e,t,nl,n)}function ra(e,t,n,r){var i=0,o=null==e?0:e.length;if(0===o)return 0;for(var u=(t=n(t))!=t,l=null===t,s=uu(t),c=t===a;i<o;){var f=dt((i+o)/2),p=n(e[f]),d=p!==a,h=null===p,v=p==p,g=uu(p);if(u)var y=r||v;else y=c?v&&(r||d):l?v&&d&&(r||!h):s?v&&d&&!h&&(r||!g):!h&&!g&&(r?p<=t:p<t);y?i=f+1:o=f}return yn(o,4294967294)}function aa(e,t){for(var n=-1,r=e.length,a=0,i=[];++n<r;){var o=e[n],u=t?t(o):o;if(!n||!Uo(u,l)){var l=u;i[a++]=0===o?0:o}}return i}function ia(e){return\"number\"==typeof e?e:uu(e)?p:+e}function oa(e){if(\"string\"==typeof e)return e;if(Wo(e))return zt(e,oa)+\"\";if(uu(e))return Rn?Rn.call(e):\"\";var t=e+\"\";return\"0\"==t&&1/e==-1/0?\"-0\":t}function ua(e,t,n){var r=-1,a=Nt,i=e.length,o=!0,u=[],l=u;if(n)o=!1,a=Pt;else if(i>=200){var s=t?null:qa(e);if(s)return ln(s);o=!1,a=Zt,l=new qn}else l=t?[]:u;e:for(;++r<i;){var c=e[r],f=t?t(c):c;if(c=n||0!==c?c:0,o&&f==f){for(var p=l.length;p--;)if(l[p]===f)continue e;t&&l.push(f),u.push(c)}else a(l,f,n)||(l!==u&&l.push(f),u.push(c))}return u}function la(e,t){return null==(e=Si(e,t=ga(t,e)))||delete e[Fi(Yi(t))]}function sa(e,t,n,r){return Kr(e,t,n(wr(e,t)),r)}function ca(e,t,n,r){for(var a=e.length,i=r?a:-1;(r?i--:++i<a)&&t(e[i],i,e););return n?ea(e,r?0:i,r?i+1:a):ea(e,r?i+1:0,r?a:i)}function fa(e,t){var n=e;return n instanceof Bn&&(n=n.value()),Ot(t,(function(e,t){return t.func.apply(t.thisArg,Lt([e],t.args))}),n)}function pa(e,t,n){var a=e.length;if(a<2)return a?ua(e[0]):[];for(var i=-1,o=r(a);++i<a;)for(var u=e[i],l=-1;++l<a;)l!=i&&(o[i]=sr(o[i]||u,e[l],t,n));return ua(vr(o,1),t,n)}function da(e,t,n){for(var r=-1,i=e.length,o=t.length,u={};++r<i;){var l=r<o?t[r]:a;n(u,e[r],l)}return u}function ha(e){return qo(e)?e:[]}function va(e){return\"function\"==typeof e?e:nl}function ga(e,t){return Wo(e)?e:yi(e,t)?[e]:Ai(yu(e))}var ya=Qr;function ma(e,t,n){var r=e.length;return n=n===a?r:n,!t&&n>=r?e:ea(e,t,n)}var ba=ot||function(e){return ft.clearTimeout(e)};function _a(e,t){if(t)return e.slice();var n=e.length,r=We?We(n):new e.constructor(n);return e.copy(r),r}function wa(e){var t=new e.constructor(e.byteLength);return new Be(t).set(new Be(e)),t}function xa(e,t){var n=t?wa(e.buffer):e.buffer;return new e.constructor(n,e.byteOffset,e.length)}function ka(e,t){if(e!==t){var n=e!==a,r=null===e,i=e==e,o=uu(e),u=t!==a,l=null===t,s=t==t,c=uu(t);if(!l&&!c&&!o&&e>t||o&&u&&s&&!l&&!c||r&&u&&s||!n&&s||!i)return 1;if(!r&&!o&&!c&&e<t||c&&n&&i&&!r&&!o||l&&n&&i||!u&&i||!s)return-1}return 0}function Sa(e,t,n,a){for(var i=-1,o=e.length,u=n.length,l=-1,s=t.length,c=gn(o-u,0),f=r(s+c),p=!a;++l<s;)f[l]=t[l];for(;++i<u;)(p||i<o)&&(f[n[i]]=e[i]);for(;c--;)f[l++]=e[i++];return f}function Ea(e,t,n,a){for(var i=-1,o=e.length,u=-1,l=n.length,s=-1,c=t.length,f=gn(o-l,0),p=r(f+c),d=!a;++i<f;)p[i]=e[i];for(var h=i;++s<c;)p[h+s]=t[s];for(;++u<l;)(d||i<o)&&(p[h+n[u]]=e[i++]);return p}function Ca(e,t){var n=-1,a=e.length;for(t||(t=r(a));++n<a;)t[n]=e[n];return t}function Ta(e,t,n,r){var i=!n;n||(n={});for(var o=-1,u=t.length;++o<u;){var l=t[o],s=r?r(n[l],e[l],l,n,e):a;s===a&&(s=e[l]),i?rr(n,l,s):Jn(n,l,s)}return n}function Ma(e,t){return function(n,r){var a=Wo(n)?St:tr,i=t?t():{};return a(n,e,ii(r,2),i)}}function Na(e){return Qr((function(t,n){var r=-1,i=n.length,o=i>1?n[i-1]:a,u=i>2?n[2]:a;for(o=e.length>3&&\"function\"==typeof o?(i--,o):a,u&&gi(n[0],n[1],u)&&(o=i<3?a:o,i=1),t=Se(t);++r<i;){var l=n[r];l&&e(t,l,r,o)}return t}))}function Pa(e,t){return function(n,r){if(null==n)return n;if(!Ho(n))return e(n,r);for(var a=n.length,i=t?a:-1,o=Se(n);(t?i--:++i<a)&&!1!==r(o[i],i,o););return n}}function za(e){return function(t,n,r){for(var a=-1,i=Se(t),o=r(t),u=o.length;u--;){var l=o[e?u:++a];if(!1===n(i[l],l,i))break}return t}}function La(e){return function(t){var n=rn(t=yu(t))?fn(t):a,r=n?n[0]:t.charAt(0),i=n?ma(n,1).join(\"\"):t.slice(1);return r[e]()+i}}function Oa(e){return function(t){return Ot(Ku(Bu(t).replace(Ke,\"\")),e,\"\")}}function Aa(e){return function(){var t=arguments;switch(t.length){case 0:return new e;case 1:return new e(t[0]);case 2:return new e(t[0],t[1]);case 3:return new e(t[0],t[1],t[2]);case 4:return new e(t[0],t[1],t[2],t[3]);case 5:return new e(t[0],t[1],t[2],t[3],t[4]);case 6:return new e(t[0],t[1],t[2],t[3],t[4],t[5]);case 7:return new e(t[0],t[1],t[2],t[3],t[4],t[5],t[6])}var n=Un(e.prototype),r=e.apply(n,t);return Jo(r)?r:n}}function Fa(e){return function(t,n,r){var i=Se(t);if(!Ho(t)){var o=ii(n,3);t=Pu(t),n=function(e){return o(i[e],e,i)}}var u=e(t,n,r);return u>-1?i[o?t[u]:u]:a}}function Da(e){return Ja((function(t){var n=t.length,r=n,o=$n.prototype.thru;for(e&&t.reverse();r--;){var u=t[r];if(\"function\"!=typeof u)throw new Te(i);if(o&&!l&&\"wrapper\"==ri(u))var l=new $n([],!0)}for(r=l?r:n;++r<n;){var s=ri(u=t[r]),c=\"wrapper\"==s?ni(u):a;l=c&&mi(c[0])&&424==c[1]&&!c[4].length&&1==c[9]?l[ri(c[0])].apply(l,c[3]):1==u.length&&mi(u)?l[s]():l.thru(u)}return function(){var e=arguments,r=e[0];if(l&&1==e.length&&Wo(r))return l.plant(r).value();for(var a=0,i=n?t[a].apply(this,e):r;++a<n;)i=t[a].call(this,i);return i}}))}function Ra(e,t,n,i,o,u,l,c,f,p){var d=t&s,h=1&t,v=2&t,g=24&t,y=512&t,m=v?a:Aa(e);return function s(){for(var b=arguments.length,_=r(b),w=b;w--;)_[w]=arguments[w];if(g)var x=ai(s),k=function(e,t){for(var n=e.length,r=0;n--;)e[n]===t&&++r;return r}(_,x);if(i&&(_=Sa(_,i,o,g)),u&&(_=Ea(_,u,l,g)),b-=k,g&&b<p){var S=un(_,x);return Va(e,t,Ra,s.placeholder,n,_,S,c,f,p-b)}var E=h?n:this,C=v?E[e]:e;return b=_.length,c?_=function(e,t){for(var n=e.length,r=yn(t.length,n),i=Ca(e);r--;){var o=t[r];e[r]=vi(o,n)?i[o]:a}return e}(_,c):y&&b>1&&_.reverse(),d&&f<b&&(_.length=f),this&&this!==ft&&this instanceof s&&(C=m||Aa(C)),C.apply(E,_)}}function ja(e,t){return function(n,r){return function(e,t,n,r){return mr(e,(function(e,a,i){t(r,n(e),a,i)})),r}(n,e,t(r),{})}}function Ua(e,t){return function(n,r){var i;if(n===a&&r===a)return t;if(n!==a&&(i=n),r!==a){if(i===a)return r;\"string\"==typeof n||\"string\"==typeof r?(n=oa(n),r=oa(r)):(n=ia(n),r=ia(r)),i=e(n,r)}return i}}function Ia(e){return Ja((function(t){return t=zt(t,Gt(ii())),Qr((function(n){var r=this;return e(t,(function(e){return kt(e,r,n)}))}))}))}function $a(e,t){var n=(t=t===a?\" \":oa(t)).length;if(n<2)return n?qr(t,e):t;var r=qr(t,pt(e/cn(t)));return rn(t)?ma(fn(r),0,e).join(\"\"):r.slice(0,e)}function Ba(e){return function(t,n,i){return i&&\"number\"!=typeof i&&gi(t,n,i)&&(n=i=a),t=pu(t),n===a?(n=t,t=0):n=pu(n),function(e,t,n,a){for(var i=-1,o=gn(pt((t-e)/(n||1)),0),u=r(o);o--;)u[a?o:++i]=e,e+=n;return u}(t,n,i=i===a?t<n?1:-1:pu(i),e)}}function Wa(e){return function(t,n){return\"string\"==typeof t&&\"string\"==typeof n||(t=vu(t),n=vu(n)),e(t,n)}}function Va(e,t,n,r,i,o,u,s,c,f){var p=8&t;t|=p?l:64,4&(t&=~(p?64:l))||(t&=-4);var d=[e,t,i,p?o:a,p?u:a,p?a:o,p?a:u,s,c,f],h=n.apply(a,d);return mi(e)&&Ci(h,d),h.placeholder=r,Ni(h,e,t)}function Ha(e){var t=ke[e];return function(e,n){if(e=vu(e),(n=null==n?0:yn(du(n),292))&&Dt(e)){var r=(yu(e)+\"e\").split(\"e\");return+((r=(yu(t(r[0]+\"e\"+(+r[1]+n)))+\"e\").split(\"e\"))[0]+\"e\"+(+r[1]-n))}return t(e)}}var qa=En&&1/ln(new En([,-0]))[1]==c?function(e){return new En(e)}:ul;function Qa(e){return function(t){var n=fi(t);return n==x?an(t):n==T?sn(t):function(e,t){return zt(t,(function(t){return[t,e[t]]}))}(t,e(t))}}function Ya(e,t,n,o,c,f,p,d){var h=2&t;if(!h&&\"function\"!=typeof e)throw new Te(i);var v=o?o.length:0;if(v||(t&=-97,o=c=a),p=p===a?p:gn(du(p),0),d=d===a?d:du(d),v-=c?c.length:0,64&t){var g=o,y=c;o=c=a}var m=h?a:ni(e),b=[e,t,n,o,c,g,y,f,p,d];if(m&&function(e,t){var n=e[1],r=t[1],a=n|r,i=a<131,o=r==s&&8==n||r==s&&256==n&&e[7].length<=t[8]||384==r&&t[7].length<=t[8]&&8==n;if(!i&&!o)return e;1&r&&(e[2]=t[2],a|=1&n?0:4);var l=t[3];if(l){var c=e[3];e[3]=c?Sa(c,l,t[4]):l,e[4]=c?un(e[3],u):t[4]}(l=t[5])&&(c=e[5],e[5]=c?Ea(c,l,t[6]):l,e[6]=c?un(e[5],u):t[6]),(l=t[7])&&(e[7]=l),r&s&&(e[8]=null==e[8]?t[8]:yn(e[8],t[8])),null==e[9]&&(e[9]=t[9]),e[0]=t[0],e[1]=a}(b,m),e=b[0],t=b[1],n=b[2],o=b[3],c=b[4],!(d=b[9]=b[9]===a?h?0:e.length:gn(b[9]-v,0))&&24&t&&(t&=-25),t&&1!=t)_=8==t||16==t?function(e,t,n){var i=Aa(e);return function o(){for(var u=arguments.length,l=r(u),s=u,c=ai(o);s--;)l[s]=arguments[s];var f=u<3&&l[0]!==c&&l[u-1]!==c?[]:un(l,c);return(u-=f.length)<n?Va(e,t,Ra,o.placeholder,a,l,f,a,a,n-u):kt(this&&this!==ft&&this instanceof o?i:e,this,l)}}(e,t,d):t!=l&&33!=t||c.length?Ra.apply(a,b):function(e,t,n,a){var i=1&t,o=Aa(e);return function t(){for(var u=-1,l=arguments.length,s=-1,c=a.length,f=r(c+l),p=this&&this!==ft&&this instanceof t?o:e;++s<c;)f[s]=a[s];for(;l--;)f[s++]=arguments[++u];return kt(p,i?n:this,f)}}(e,t,n,o);else var _=function(e,t,n){var r=1&t,a=Aa(e);return function t(){return(this&&this!==ft&&this instanceof t?a:e).apply(r?n:this,arguments)}}(e,t,n);return Ni((m?Zr:Ci)(_,b),e,t)}function Ga(e,t,n,r){return e===a||Uo(e,Pe[n])&&!Oe.call(r,n)?t:e}function Ka(e,t,n,r,i,o){return Jo(e)&&Jo(t)&&(o.set(t,e),Ur(e,t,a,Ka,o),o.delete(t)),e}function Za(e){return ru(e)?a:e}function Xa(e,t,n,r,i,o){var u=1&n,l=e.length,s=t.length;if(l!=s&&!(u&&s>l))return!1;var c=o.get(e),f=o.get(t);if(c&&f)return c==t&&f==e;var p=-1,d=!0,h=2&n?new qn:a;for(o.set(e,t),o.set(t,e);++p<l;){var v=e[p],g=t[p];if(r)var y=u?r(g,v,p,t,e,o):r(v,g,p,e,t,o);if(y!==a){if(y)continue;d=!1;break}if(h){if(!Ft(t,(function(e,t){if(!Zt(h,t)&&(v===e||i(v,e,n,r,o)))return h.push(t)}))){d=!1;break}}else if(v!==g&&!i(v,g,n,r,o)){d=!1;break}}return o.delete(e),o.delete(t),d}function Ja(e){return Mi(ki(e,a,Wi),e+\"\")}function ei(e){return xr(e,Pu,si)}function ti(e){return xr(e,zu,ci)}var ni=Mn?function(e){return Mn.get(e)}:ul;function ri(e){for(var t=e.name+\"\",n=Nn[t],r=Oe.call(Nn,t)?n.length:0;r--;){var a=n[r],i=a.func;if(null==i||i==e)return a.name}return t}function ai(e){return(Oe.call(jn,\"placeholder\")?jn:e).placeholder}function ii(){var e=jn.iteratee||rl;return e=e===rl?Or:e,arguments.length?e(arguments[0],arguments[1]):e}function oi(e,t){var n,r,a=e.__data__;return(\"string\"==(r=typeof(n=t))||\"number\"==r||\"symbol\"==r||\"boolean\"==r?\"__proto__\"!==n:null===n)?a[\"string\"==typeof t?\"string\":\"hash\"]:a.map}function ui(e){for(var t=Pu(e),n=t.length;n--;){var r=t[n],a=e[r];t[n]=[r,a,wi(a)]}return t}function li(e,t){var n=function(e,t){return null==e?a:e[t]}(e,t);return Lr(n)?n:a}var si=vt?function(e){return null==e?[]:(e=Se(e),Mt(vt(e),(function(t){return qe.call(e,t)})))}:hl,ci=vt?function(e){for(var t=[];e;)Lt(t,si(e)),e=Ve(e);return t}:hl,fi=kr;function pi(e,t,n){for(var r=-1,a=(t=ga(t,e)).length,i=!1;++r<a;){var o=Fi(t[r]);if(!(i=null!=e&&n(e,o)))break;e=e[o]}return i||++r!=a?i:!!(a=null==e?0:e.length)&&Xo(a)&&vi(o,a)&&(Wo(e)||Bo(e))}function di(e){return\"function\"!=typeof e.constructor||_i(e)?{}:Un(Ve(e))}function hi(e){return Wo(e)||Bo(e)||!!(Ye&&e&&e[Ye])}function vi(e,t){var n=typeof e;return!!(t=null==t?f:t)&&(\"number\"==n||\"symbol\"!=n&&ye.test(e))&&e>-1&&e%1==0&&e<t}function gi(e,t,n){if(!Jo(n))return!1;var r=typeof t;return!!(\"number\"==r?Ho(n)&&vi(t,n.length):\"string\"==r&&t in n)&&Uo(n[t],e)}function yi(e,t){if(Wo(e))return!1;var n=typeof e;return!(\"number\"!=n&&\"symbol\"!=n&&\"boolean\"!=n&&null!=e&&!uu(e))||J.test(e)||!X.test(e)||null!=t&&e in Se(t)}function mi(e){var t=ri(e),n=jn[t];if(\"function\"!=typeof n||!(t in Bn.prototype))return!1;if(e===n)return!0;var r=ni(n);return!!r&&e===r[0]}(xn&&fi(new xn(new ArrayBuffer(1)))!=L||kn&&fi(new kn)!=x||Sn&&fi(Sn.resolve())!=E||En&&fi(new En)!=T||Cn&&fi(new Cn)!=P)&&(fi=function(e){var t=kr(e),n=t==S?e.constructor:a,r=n?Di(n):\"\";if(r)switch(r){case Pn:return L;case zn:return x;case Ln:return E;case On:return T;case An:return P}return t});var bi=ze?Ko:vl;function _i(e){var t=e&&e.constructor;return e===(\"function\"==typeof t&&t.prototype||Pe)}function wi(e){return e==e&&!Jo(e)}function xi(e,t){return function(n){return null!=n&&n[e]===t&&(t!==a||e in Se(n))}}function ki(e,t,n){return t=gn(t===a?e.length-1:t,0),function(){for(var a=arguments,i=-1,o=gn(a.length-t,0),u=r(o);++i<o;)u[i]=a[t+i];i=-1;for(var l=r(t+1);++i<t;)l[i]=a[i];return l[t]=n(u),kt(e,this,l)}}function Si(e,t){return t.length<2?e:wr(e,ea(t,0,-1))}function Ei(e,t){if((\"constructor\"!==t||\"function\"!=typeof e[t])&&\"__proto__\"!=t)return e[t]}var Ci=Pi(Zr),Ti=ct||function(e,t){return ft.setTimeout(e,t)},Mi=Pi(Xr);function Ni(e,t,n){var r=t+\"\";return Mi(e,function(e,t){var n=t.length;if(!n)return e;var r=n-1;return t[r]=(n>1?\"& \":\"\")+t[r],t=t.join(n>2?\", \":\" \"),e.replace(ie,\"{\\n/* [wrapped with \"+t+\"] */\\n\")}(r,function(e,t){return Et(h,(function(n){var r=\"_.\"+n[0];t&n[1]&&!Nt(e,r)&&e.push(r)})),e.sort()}(function(e){var t=e.match(oe);return t?t[1].split(ue):[]}(r),n)))}function Pi(e){var t=0,n=0;return function(){var r=mn(),i=16-(r-n);if(n=r,i>0){if(++t>=800)return arguments[0]}else t=0;return e.apply(a,arguments)}}function zi(e,t){var n=-1,r=e.length,i=r-1;for(t=t===a?r:t;++n<t;){var o=Hr(n,i),u=e[o];e[o]=e[n],e[n]=u}return e.length=t,e}var Li,Oi,Ai=(Li=Oo((function(e){var t=[];return 46===e.charCodeAt(0)&&t.push(\"\"),e.replace(ee,(function(e,n,r,a){t.push(r?a.replace(ce,\"$1\"):n||e)})),t}),(function(e){return 500===Oi.size&&Oi.clear(),e})),Oi=Li.cache,Li);function Fi(e){if(\"string\"==typeof e||uu(e))return e;var t=e+\"\";return\"0\"==t&&1/e==-1/0?\"-0\":t}function Di(e){if(null!=e){try{return Le.call(e)}catch(e){}try{return e+\"\"}catch(e){}}return\"\"}function Ri(e){if(e instanceof Bn)return e.clone();var t=new $n(e.__wrapped__,e.__chain__);return t.__actions__=Ca(e.__actions__),t.__index__=e.__index__,t.__values__=e.__values__,t}var ji=Qr((function(e,t){return qo(e)?sr(e,vr(t,1,qo,!0)):[]})),Ui=Qr((function(e,t){var n=Yi(t);return qo(n)&&(n=a),qo(e)?sr(e,vr(t,1,qo,!0),ii(n,2)):[]})),Ii=Qr((function(e,t){var n=Yi(t);return qo(n)&&(n=a),qo(e)?sr(e,vr(t,1,qo,!0),a,n):[]}));function $i(e,t,n){var r=null==e?0:e.length;if(!r)return-1;var a=null==n?0:du(n);return a<0&&(a=gn(r+a,0)),jt(e,ii(t,3),a)}function Bi(e,t,n){var r=null==e?0:e.length;if(!r)return-1;var i=r-1;return n!==a&&(i=du(n),i=n<0?gn(r+i,0):yn(i,r-1)),jt(e,ii(t,3),i,!0)}function Wi(e){return null!=e&&e.length?vr(e,1):[]}function Vi(e){return e&&e.length?e[0]:a}var Hi=Qr((function(e){var t=zt(e,ha);return t.length&&t[0]===e[0]?Tr(t):[]})),qi=Qr((function(e){var t=Yi(e),n=zt(e,ha);return t===Yi(n)?t=a:n.pop(),n.length&&n[0]===e[0]?Tr(n,ii(t,2)):[]})),Qi=Qr((function(e){var t=Yi(e),n=zt(e,ha);return(t=\"function\"==typeof t?t:a)&&n.pop(),n.length&&n[0]===e[0]?Tr(n,a,t):[]}));function Yi(e){var t=null==e?0:e.length;return t?e[t-1]:a}var Gi=Qr(Ki);function Ki(e,t){return e&&e.length&&t&&t.length?Wr(e,t):e}var Zi=Ja((function(e,t){var n=null==e?0:e.length,r=ar(e,t);return Vr(e,zt(t,(function(e){return vi(e,n)?+e:e})).sort(ka)),r}));function Xi(e){return null==e?e:wn.call(e)}var Ji=Qr((function(e){return ua(vr(e,1,qo,!0))})),eo=Qr((function(e){var t=Yi(e);return qo(t)&&(t=a),ua(vr(e,1,qo,!0),ii(t,2))})),to=Qr((function(e){var t=Yi(e);return t=\"function\"==typeof t?t:a,ua(vr(e,1,qo,!0),a,t)}));function no(e){if(!e||!e.length)return[];var t=0;return e=Mt(e,(function(e){if(qo(e))return t=gn(e.length,t),!0})),Qt(t,(function(t){return zt(e,Wt(t))}))}function ro(e,t){if(!e||!e.length)return[];var n=no(e);return null==t?n:zt(n,(function(e){return kt(t,a,e)}))}var ao=Qr((function(e,t){return qo(e)?sr(e,t):[]})),io=Qr((function(e){return pa(Mt(e,qo))})),oo=Qr((function(e){var t=Yi(e);return qo(t)&&(t=a),pa(Mt(e,qo),ii(t,2))})),uo=Qr((function(e){var t=Yi(e);return t=\"function\"==typeof t?t:a,pa(Mt(e,qo),a,t)})),lo=Qr(no),so=Qr((function(e){var t=e.length,n=t>1?e[t-1]:a;return n=\"function\"==typeof n?(e.pop(),n):a,ro(e,n)}));function co(e){var t=jn(e);return t.__chain__=!0,t}function fo(e,t){return t(e)}var po=Ja((function(e){var t=e.length,n=t?e[0]:0,r=this.__wrapped__,i=function(t){return ar(t,e)};return!(t>1||this.__actions__.length)&&r instanceof Bn&&vi(n)?((r=r.slice(n,+n+(t?1:0))).__actions__.push({func:fo,args:[i],thisArg:a}),new $n(r,this.__chain__).thru((function(e){return t&&!e.length&&e.push(a),e}))):this.thru(i)})),ho=Ma((function(e,t,n){Oe.call(e,n)?++e[n]:rr(e,n,1)})),vo=Fa($i),go=Fa(Bi);function yo(e,t){return(Wo(e)?Et:cr)(e,ii(t,3))}function mo(e,t){return(Wo(e)?Ct:fr)(e,ii(t,3))}var bo=Ma((function(e,t,n){Oe.call(e,n)?e[n].push(t):rr(e,n,[t])})),_o=Qr((function(e,t,n){var a=-1,i=\"function\"==typeof t,o=Ho(e)?r(e.length):[];return cr(e,(function(e){o[++a]=i?kt(t,e,n):Mr(e,t,n)})),o})),wo=Ma((function(e,t,n){rr(e,n,t)}));function xo(e,t){return(Wo(e)?zt:Dr)(e,ii(t,3))}var ko=Ma((function(e,t,n){e[n?0:1].push(t)}),(function(){return[[],[]]})),So=Qr((function(e,t){if(null==e)return[];var n=t.length;return n>1&&gi(e,t[0],t[1])?t=[]:n>2&&gi(t[0],t[1],t[2])&&(t=[t[0]]),$r(e,vr(t,1),[])})),Eo=st||function(){return ft.Date.now()};function Co(e,t,n){return t=n?a:t,t=e&&null==t?e.length:t,Ya(e,s,a,a,a,a,t)}function To(e,t){var n;if(\"function\"!=typeof t)throw new Te(i);return e=du(e),function(){return--e>0&&(n=t.apply(this,arguments)),e<=1&&(t=a),n}}var Mo=Qr((function(e,t,n){var r=1;if(n.length){var a=un(n,ai(Mo));r|=l}return Ya(e,r,t,n,a)})),No=Qr((function(e,t,n){var r=3;if(n.length){var a=un(n,ai(No));r|=l}return Ya(t,r,e,n,a)}));function Po(e,t,n){var r,o,u,l,s,c,f=0,p=!1,d=!1,h=!0;if(\"function\"!=typeof e)throw new Te(i);function v(t){var n=r,i=o;return r=o=a,f=t,l=e.apply(i,n)}function g(e){var n=e-c;return c===a||n>=t||n<0||d&&e-f>=u}function y(){var e=Eo();if(g(e))return m(e);s=Ti(y,function(e){var n=t-(e-c);return d?yn(n,u-(e-f)):n}(e))}function m(e){return s=a,h&&r?v(e):(r=o=a,l)}function b(){var e=Eo(),n=g(e);if(r=arguments,o=this,c=e,n){if(s===a)return function(e){return f=e,s=Ti(y,t),p?v(e):l}(c);if(d)return ba(s),s=Ti(y,t),v(c)}return s===a&&(s=Ti(y,t)),l}return t=vu(t)||0,Jo(n)&&(p=!!n.leading,u=(d=\"maxWait\"in n)?gn(vu(n.maxWait)||0,t):u,h=\"trailing\"in n?!!n.trailing:h),b.cancel=function(){s!==a&&ba(s),f=0,r=c=o=s=a},b.flush=function(){return s===a?l:m(Eo())},b}var zo=Qr((function(e,t){return lr(e,1,t)})),Lo=Qr((function(e,t,n){return lr(e,vu(t)||0,n)}));function Oo(e,t){if(\"function\"!=typeof e||null!=t&&\"function\"!=typeof t)throw new Te(i);var n=function(){var r=arguments,a=t?t.apply(this,r):r[0],i=n.cache;if(i.has(a))return i.get(a);var o=e.apply(this,r);return n.cache=i.set(a,o)||i,o};return n.cache=new(Oo.Cache||Hn),n}function Ao(e){if(\"function\"!=typeof e)throw new Te(i);return function(){var t=arguments;switch(t.length){case 0:return!e.call(this);case 1:return!e.call(this,t[0]);case 2:return!e.call(this,t[0],t[1]);case 3:return!e.call(this,t[0],t[1],t[2])}return!e.apply(this,t)}}Oo.Cache=Hn;var Fo=ya((function(e,t){var n=(t=1==t.length&&Wo(t[0])?zt(t[0],Gt(ii())):zt(vr(t,1),Gt(ii()))).length;return Qr((function(r){for(var a=-1,i=yn(r.length,n);++a<i;)r[a]=t[a].call(this,r[a]);return kt(e,this,r)}))})),Do=Qr((function(e,t){var n=un(t,ai(Do));return Ya(e,l,a,t,n)})),Ro=Qr((function(e,t){var n=un(t,ai(Ro));return Ya(e,64,a,t,n)})),jo=Ja((function(e,t){return Ya(e,256,a,a,a,t)}));function Uo(e,t){return e===t||e!=e&&t!=t}var Io=Wa(Sr),$o=Wa((function(e,t){return e>=t})),Bo=Nr(function(){return arguments}())?Nr:function(e){return eu(e)&&Oe.call(e,\"callee\")&&!qe.call(e,\"callee\")},Wo=r.isArray,Vo=yt?Gt(yt):function(e){return eu(e)&&kr(e)==z};function Ho(e){return null!=e&&Xo(e.length)&&!Ko(e)}function qo(e){return eu(e)&&Ho(e)}var Qo=gt||vl,Yo=mt?Gt(mt):function(e){return eu(e)&&kr(e)==m};function Go(e){if(!eu(e))return!1;var t=kr(e);return t==b||\"[object DOMException]\"==t||\"string\"==typeof e.message&&\"string\"==typeof e.name&&!ru(e)}function Ko(e){if(!Jo(e))return!1;var t=kr(e);return t==_||t==w||\"[object AsyncFunction]\"==t||\"[object Proxy]\"==t}function Zo(e){return\"number\"==typeof e&&e==du(e)}function Xo(e){return\"number\"==typeof e&&e>-1&&e%1==0&&e<=f}function Jo(e){var t=typeof e;return null!=e&&(\"object\"==t||\"function\"==t)}function eu(e){return null!=e&&\"object\"==typeof e}var tu=bt?Gt(bt):function(e){return eu(e)&&fi(e)==x};function nu(e){return\"number\"==typeof e||eu(e)&&kr(e)==k}function ru(e){if(!eu(e)||kr(e)!=S)return!1;var t=Ve(e);if(null===t)return!0;var n=Oe.call(t,\"constructor\")&&t.constructor;return\"function\"==typeof n&&n instanceof n&&Le.call(n)==Re}var au=_t?Gt(_t):function(e){return eu(e)&&kr(e)==C},iu=wt?Gt(wt):function(e){return eu(e)&&fi(e)==T};function ou(e){return\"string\"==typeof e||!Wo(e)&&eu(e)&&kr(e)==M}function uu(e){return\"symbol\"==typeof e||eu(e)&&kr(e)==N}var lu=xt?Gt(xt):function(e){return eu(e)&&Xo(e.length)&&!!at[kr(e)]},su=Wa(Fr),cu=Wa((function(e,t){return e<=t}));function fu(e){if(!e)return[];if(Ho(e))return ou(e)?fn(e):Ca(e);if(Ge&&e[Ge])return function(e){for(var t,n=[];!(t=e.next()).done;)n.push(t.value);return n}(e[Ge]());var t=fi(e);return(t==x?an:t==T?ln:Uu)(e)}function pu(e){return e?(e=vu(e))===c||e===-1/0?17976931348623157e292*(e<0?-1:1):e==e?e:0:0===e?e:0}function du(e){var t=pu(e),n=t%1;return t==t?n?t-n:t:0}function hu(e){return e?ir(du(e),0,d):0}function vu(e){if(\"number\"==typeof e)return e;if(uu(e))return p;if(Jo(e)){var t=\"function\"==typeof e.valueOf?e.valueOf():e;e=Jo(t)?t+\"\":t}if(\"string\"!=typeof e)return 0===e?e:+e;e=Yt(e);var n=he.test(e);return n||ge.test(e)?lt(e.slice(2),n?2:8):de.test(e)?p:+e}function gu(e){return Ta(e,zu(e))}function yu(e){return null==e?\"\":oa(e)}var mu=Na((function(e,t){if(_i(t)||Ho(t))Ta(t,Pu(t),e);else for(var n in t)Oe.call(t,n)&&Jn(e,n,t[n])})),bu=Na((function(e,t){Ta(t,zu(t),e)})),_u=Na((function(e,t,n,r){Ta(t,zu(t),e,r)})),wu=Na((function(e,t,n,r){Ta(t,Pu(t),e,r)})),xu=Ja(ar),ku=Qr((function(e,t){e=Se(e);var n=-1,r=t.length,i=r>2?t[2]:a;for(i&&gi(t[0],t[1],i)&&(r=1);++n<r;)for(var o=t[n],u=zu(o),l=-1,s=u.length;++l<s;){var c=u[l],f=e[c];(f===a||Uo(f,Pe[c])&&!Oe.call(e,c))&&(e[c]=o[c])}return e})),Su=Qr((function(e){return e.push(a,Ka),kt(Ou,a,e)}));function Eu(e,t,n){var r=null==e?a:wr(e,t);return r===a?n:r}function Cu(e,t){return null!=e&&pi(e,t,Cr)}var Tu=ja((function(e,t,n){null!=t&&\"function\"!=typeof t.toString&&(t=De.call(t)),e[t]=n}),Ju(nl)),Mu=ja((function(e,t,n){null!=t&&\"function\"!=typeof t.toString&&(t=De.call(t)),Oe.call(e,t)?e[t].push(n):e[t]=[n]}),ii),Nu=Qr(Mr);function Pu(e){return Ho(e)?Yn(e):Ar(e)}function zu(e){return Ho(e)?Yn(e,!0):function(e){if(!Jo(e))return function(e){var t=[];if(null!=e)for(var n in Se(e))t.push(n);return t}(e);var t=_i(e),n=[];for(var r in e)(\"constructor\"!=r||!t&&Oe.call(e,r))&&n.push(r);return n}(e)}var Lu=Na((function(e,t,n){Ur(e,t,n)})),Ou=Na((function(e,t,n,r){Ur(e,t,n,r)})),Au=Ja((function(e,t){var n={};if(null==e)return n;var r=!1;t=zt(t,(function(t){return t=ga(t,e),r||(r=t.length>1),t})),Ta(e,ti(e),n),r&&(n=or(n,7,Za));for(var a=t.length;a--;)la(n,t[a]);return n})),Fu=Ja((function(e,t){return null==e?{}:function(e,t){return Br(e,t,(function(t,n){return Cu(e,n)}))}(e,t)}));function Du(e,t){if(null==e)return{};var n=zt(ti(e),(function(e){return[e]}));return t=ii(t),Br(e,n,(function(e,n){return t(e,n[0])}))}var Ru=Qa(Pu),ju=Qa(zu);function Uu(e){return null==e?[]:Kt(e,Pu(e))}var Iu=Oa((function(e,t,n){return t=t.toLowerCase(),e+(n?$u(t):t)}));function $u(e){return Gu(yu(e).toLowerCase())}function Bu(e){return(e=yu(e))&&e.replace(me,en).replace(Ze,\"\")}var Wu=Oa((function(e,t,n){return e+(n?\"-\":\"\")+t.toLowerCase()})),Vu=Oa((function(e,t,n){return e+(n?\" \":\"\")+t.toLowerCase()})),Hu=La(\"toLowerCase\"),qu=Oa((function(e,t,n){return e+(n?\"_\":\"\")+t.toLowerCase()})),Qu=Oa((function(e,t,n){return e+(n?\" \":\"\")+Gu(t)})),Yu=Oa((function(e,t,n){return e+(n?\" \":\"\")+t.toUpperCase()})),Gu=La(\"toUpperCase\");function Ku(e,t,n){return e=yu(e),(t=n?a:t)===a?function(e){return tt.test(e)}(e)?function(e){return e.match(Je)||[]}(e):function(e){return e.match(le)||[]}(e):e.match(t)||[]}var Zu=Qr((function(e,t){try{return kt(e,a,t)}catch(e){return Go(e)?e:new we(e)}})),Xu=Ja((function(e,t){return Et(t,(function(t){t=Fi(t),rr(e,t,Mo(e[t],e))})),e}));function Ju(e){return function(){return e}}var el=Da(),tl=Da(!0);function nl(e){return e}function rl(e){return Or(\"function\"==typeof e?e:or(e,1))}var al=Qr((function(e,t){return function(n){return Mr(n,e,t)}})),il=Qr((function(e,t){return function(n){return Mr(e,n,t)}}));function ol(e,t,n){var r=Pu(t),a=_r(t,r);null!=n||Jo(t)&&(a.length||!r.length)||(n=t,t=e,e=this,a=_r(t,Pu(t)));var i=!(Jo(n)&&\"chain\"in n&&!n.chain),o=Ko(e);return Et(a,(function(n){var r=t[n];e[n]=r,o&&(e.prototype[n]=function(){var t=this.__chain__;if(i||t){var n=e(this.__wrapped__);return(n.__actions__=Ca(this.__actions__)).push({func:r,args:arguments,thisArg:e}),n.__chain__=t,n}return r.apply(e,Lt([this.value()],arguments))})})),e}function ul(){}var ll=Ia(zt),sl=Ia(Tt),cl=Ia(Ft);function fl(e){return yi(e)?Wt(Fi(e)):function(e){return function(t){return wr(t,e)}}(e)}var pl=Ba(),dl=Ba(!0);function hl(){return[]}function vl(){return!1}var gl,yl=Ua((function(e,t){return e+t}),0),ml=Ha(\"ceil\"),bl=Ua((function(e,t){return e/t}),1),_l=Ha(\"floor\"),wl=Ua((function(e,t){return e*t}),1),xl=Ha(\"round\"),kl=Ua((function(e,t){return e-t}),0);return jn.after=function(e,t){if(\"function\"!=typeof t)throw new Te(i);return e=du(e),function(){if(--e<1)return t.apply(this,arguments)}},jn.ary=Co,jn.assign=mu,jn.assignIn=bu,jn.assignInWith=_u,jn.assignWith=wu,jn.at=xu,jn.before=To,jn.bind=Mo,jn.bindAll=Xu,jn.bindKey=No,jn.castArray=function(){if(!arguments.length)return[];var e=arguments[0];return Wo(e)?e:[e]},jn.chain=co,jn.chunk=function(e,t,n){t=(n?gi(e,t,n):t===a)?1:gn(du(t),0);var i=null==e?0:e.length;if(!i||t<1)return[];for(var o=0,u=0,l=r(pt(i/t));o<i;)l[u++]=ea(e,o,o+=t);return l},jn.compact=function(e){for(var t=-1,n=null==e?0:e.length,r=0,a=[];++t<n;){var i=e[t];i&&(a[r++]=i)}return a},jn.concat=function(){var e=arguments.length;if(!e)return[];for(var t=r(e-1),n=arguments[0],a=e;a--;)t[a-1]=arguments[a];return Lt(Wo(n)?Ca(n):[n],vr(t,1))},jn.cond=function(e){var t=null==e?0:e.length,n=ii();return e=t?zt(e,(function(e){if(\"function\"!=typeof e[1])throw new Te(i);return[n(e[0]),e[1]]})):[],Qr((function(n){for(var r=-1;++r<t;){var a=e[r];if(kt(a[0],this,n))return kt(a[1],this,n)}}))},jn.conforms=function(e){return function(e){var t=Pu(e);return function(n){return ur(n,e,t)}}(or(e,1))},jn.constant=Ju,jn.countBy=ho,jn.create=function(e,t){var n=Un(e);return null==t?n:nr(n,t)},jn.curry=function e(t,n,r){var i=Ya(t,8,a,a,a,a,a,n=r?a:n);return i.placeholder=e.placeholder,i},jn.curryRight=function e(t,n,r){var i=Ya(t,16,a,a,a,a,a,n=r?a:n);return i.placeholder=e.placeholder,i},jn.debounce=Po,jn.defaults=ku,jn.defaultsDeep=Su,jn.defer=zo,jn.delay=Lo,jn.difference=ji,jn.differenceBy=Ui,jn.differenceWith=Ii,jn.drop=function(e,t,n){var r=null==e?0:e.length;return r?ea(e,(t=n||t===a?1:du(t))<0?0:t,r):[]},jn.dropRight=function(e,t,n){var r=null==e?0:e.length;return r?ea(e,0,(t=r-(t=n||t===a?1:du(t)))<0?0:t):[]},jn.dropRightWhile=function(e,t){return e&&e.length?ca(e,ii(t,3),!0,!0):[]},jn.dropWhile=function(e,t){return e&&e.length?ca(e,ii(t,3),!0):[]},jn.fill=function(e,t,n,r){var i=null==e?0:e.length;return i?(n&&\"number\"!=typeof n&&gi(e,t,n)&&(n=0,r=i),function(e,t,n,r){var i=e.length;for((n=du(n))<0&&(n=-n>i?0:i+n),(r=r===a||r>i?i:du(r))<0&&(r+=i),r=n>r?0:hu(r);n<r;)e[n++]=t;return e}(e,t,n,r)):[]},jn.filter=function(e,t){return(Wo(e)?Mt:hr)(e,ii(t,3))},jn.flatMap=function(e,t){return vr(xo(e,t),1)},jn.flatMapDeep=function(e,t){return vr(xo(e,t),c)},jn.flatMapDepth=function(e,t,n){return n=n===a?1:du(n),vr(xo(e,t),n)},jn.flatten=Wi,jn.flattenDeep=function(e){return null!=e&&e.length?vr(e,c):[]},jn.flattenDepth=function(e,t){return null!=e&&e.length?vr(e,t=t===a?1:du(t)):[]},jn.flip=function(e){return Ya(e,512)},jn.flow=el,jn.flowRight=tl,jn.fromPairs=function(e){for(var t=-1,n=null==e?0:e.length,r={};++t<n;){var a=e[t];r[a[0]]=a[1]}return r},jn.functions=function(e){return null==e?[]:_r(e,Pu(e))},jn.functionsIn=function(e){return null==e?[]:_r(e,zu(e))},jn.groupBy=bo,jn.initial=function(e){return null!=e&&e.length?ea(e,0,-1):[]},jn.intersection=Hi,jn.intersectionBy=qi,jn.intersectionWith=Qi,jn.invert=Tu,jn.invertBy=Mu,jn.invokeMap=_o,jn.iteratee=rl,jn.keyBy=wo,jn.keys=Pu,jn.keysIn=zu,jn.map=xo,jn.mapKeys=function(e,t){var n={};return t=ii(t,3),mr(e,(function(e,r,a){rr(n,t(e,r,a),e)})),n},jn.mapValues=function(e,t){var n={};return t=ii(t,3),mr(e,(function(e,r,a){rr(n,r,t(e,r,a))})),n},jn.matches=function(e){return Rr(or(e,1))},jn.matchesProperty=function(e,t){return jr(e,or(t,1))},jn.memoize=Oo,jn.merge=Lu,jn.mergeWith=Ou,jn.method=al,jn.methodOf=il,jn.mixin=ol,jn.negate=Ao,jn.nthArg=function(e){return e=du(e),Qr((function(t){return Ir(t,e)}))},jn.omit=Au,jn.omitBy=function(e,t){return Du(e,Ao(ii(t)))},jn.once=function(e){return To(2,e)},jn.orderBy=function(e,t,n,r){return null==e?[]:(Wo(t)||(t=null==t?[]:[t]),Wo(n=r?a:n)||(n=null==n?[]:[n]),$r(e,t,n))},jn.over=ll,jn.overArgs=Fo,jn.overEvery=sl,jn.overSome=cl,jn.partial=Do,jn.partialRight=Ro,jn.partition=ko,jn.pick=Fu,jn.pickBy=Du,jn.property=fl,jn.propertyOf=function(e){return function(t){return null==e?a:wr(e,t)}},jn.pull=Gi,jn.pullAll=Ki,jn.pullAllBy=function(e,t,n){return e&&e.length&&t&&t.length?Wr(e,t,ii(n,2)):e},jn.pullAllWith=function(e,t,n){return e&&e.length&&t&&t.length?Wr(e,t,a,n):e},jn.pullAt=Zi,jn.range=pl,jn.rangeRight=dl,jn.rearg=jo,jn.reject=function(e,t){return(Wo(e)?Mt:hr)(e,Ao(ii(t,3)))},jn.remove=function(e,t){var n=[];if(!e||!e.length)return n;var r=-1,a=[],i=e.length;for(t=ii(t,3);++r<i;){var o=e[r];t(o,r,e)&&(n.push(o),a.push(r))}return Vr(e,a),n},jn.rest=function(e,t){if(\"function\"!=typeof e)throw new Te(i);return Qr(e,t=t===a?t:du(t))},jn.reverse=Xi,jn.sampleSize=function(e,t,n){return t=(n?gi(e,t,n):t===a)?1:du(t),(Wo(e)?Kn:Gr)(e,t)},jn.set=function(e,t,n){return null==e?e:Kr(e,t,n)},jn.setWith=function(e,t,n,r){return r=\"function\"==typeof r?r:a,null==e?e:Kr(e,t,n,r)},jn.shuffle=function(e){return(Wo(e)?Zn:Jr)(e)},jn.slice=function(e,t,n){var r=null==e?0:e.length;return r?(n&&\"number\"!=typeof n&&gi(e,t,n)?(t=0,n=r):(t=null==t?0:du(t),n=n===a?r:du(n)),ea(e,t,n)):[]},jn.sortBy=So,jn.sortedUniq=function(e){return e&&e.length?aa(e):[]},jn.sortedUniqBy=function(e,t){return e&&e.length?aa(e,ii(t,2)):[]},jn.split=function(e,t,n){return n&&\"number\"!=typeof n&&gi(e,t,n)&&(t=n=a),(n=n===a?d:n>>>0)?(e=yu(e))&&(\"string\"==typeof t||null!=t&&!au(t))&&!(t=oa(t))&&rn(e)?ma(fn(e),0,n):e.split(t,n):[]},jn.spread=function(e,t){if(\"function\"!=typeof e)throw new Te(i);return t=null==t?0:gn(du(t),0),Qr((function(n){var r=n[t],a=ma(n,0,t);return r&&Lt(a,r),kt(e,this,a)}))},jn.tail=function(e){var t=null==e?0:e.length;return t?ea(e,1,t):[]},jn.take=function(e,t,n){return e&&e.length?ea(e,0,(t=n||t===a?1:du(t))<0?0:t):[]},jn.takeRight=function(e,t,n){var r=null==e?0:e.length;return r?ea(e,(t=r-(t=n||t===a?1:du(t)))<0?0:t,r):[]},jn.takeRightWhile=function(e,t){return e&&e.length?ca(e,ii(t,3),!1,!0):[]},jn.takeWhile=function(e,t){return e&&e.length?ca(e,ii(t,3)):[]},jn.tap=function(e,t){return t(e),e},jn.throttle=function(e,t,n){var r=!0,a=!0;if(\"function\"!=typeof e)throw new Te(i);return Jo(n)&&(r=\"leading\"in n?!!n.leading:r,a=\"trailing\"in n?!!n.trailing:a),Po(e,t,{leading:r,maxWait:t,trailing:a})},jn.thru=fo,jn.toArray=fu,jn.toPairs=Ru,jn.toPairsIn=ju,jn.toPath=function(e){return Wo(e)?zt(e,Fi):uu(e)?[e]:Ca(Ai(yu(e)))},jn.toPlainObject=gu,jn.transform=function(e,t,n){var r=Wo(e),a=r||Qo(e)||lu(e);if(t=ii(t,4),null==n){var i=e&&e.constructor;n=a?r?new i:[]:Jo(e)&&Ko(i)?Un(Ve(e)):{}}return(a?Et:mr)(e,(function(e,r,a){return t(n,e,r,a)})),n},jn.unary=function(e){return Co(e,1)},jn.union=Ji,jn.unionBy=eo,jn.unionWith=to,jn.uniq=function(e){return e&&e.length?ua(e):[]},jn.uniqBy=function(e,t){return e&&e.length?ua(e,ii(t,2)):[]},jn.uniqWith=function(e,t){return t=\"function\"==typeof t?t:a,e&&e.length?ua(e,a,t):[]},jn.unset=function(e,t){return null==e||la(e,t)},jn.unzip=no,jn.unzipWith=ro,jn.update=function(e,t,n){return null==e?e:sa(e,t,va(n))},jn.updateWith=function(e,t,n,r){return r=\"function\"==typeof r?r:a,null==e?e:sa(e,t,va(n),r)},jn.values=Uu,jn.valuesIn=function(e){return null==e?[]:Kt(e,zu(e))},jn.without=ao,jn.words=Ku,jn.wrap=function(e,t){return Do(va(t),e)},jn.xor=io,jn.xorBy=oo,jn.xorWith=uo,jn.zip=lo,jn.zipObject=function(e,t){return da(e||[],t||[],Jn)},jn.zipObjectDeep=function(e,t){return da(e||[],t||[],Kr)},jn.zipWith=so,jn.entries=Ru,jn.entriesIn=ju,jn.extend=bu,jn.extendWith=_u,ol(jn,jn),jn.add=yl,jn.attempt=Zu,jn.camelCase=Iu,jn.capitalize=$u,jn.ceil=ml,jn.clamp=function(e,t,n){return n===a&&(n=t,t=a),n!==a&&(n=(n=vu(n))==n?n:0),t!==a&&(t=(t=vu(t))==t?t:0),ir(vu(e),t,n)},jn.clone=function(e){return or(e,4)},jn.cloneDeep=function(e){return or(e,5)},jn.cloneDeepWith=function(e,t){return or(e,5,t=\"function\"==typeof t?t:a)},jn.cloneWith=function(e,t){return or(e,4,t=\"function\"==typeof t?t:a)},jn.conformsTo=function(e,t){return null==t||ur(e,t,Pu(t))},jn.deburr=Bu,jn.defaultTo=function(e,t){return null==e||e!=e?t:e},jn.divide=bl,jn.endsWith=function(e,t,n){e=yu(e),t=oa(t);var r=e.length,i=n=n===a?r:ir(du(n),0,r);return(n-=t.length)>=0&&e.slice(n,i)==t},jn.eq=Uo,jn.escape=function(e){return(e=yu(e))&&Y.test(e)?e.replace(q,tn):e},jn.escapeRegExp=function(e){return(e=yu(e))&&ne.test(e)?e.replace(te,\"\\\\$&\"):e},jn.every=function(e,t,n){var r=Wo(e)?Tt:pr;return n&&gi(e,t,n)&&(t=a),r(e,ii(t,3))},jn.find=vo,jn.findIndex=$i,jn.findKey=function(e,t){return Rt(e,ii(t,3),mr)},jn.findLast=go,jn.findLastIndex=Bi,jn.findLastKey=function(e,t){return Rt(e,ii(t,3),br)},jn.floor=_l,jn.forEach=yo,jn.forEachRight=mo,jn.forIn=function(e,t){return null==e?e:gr(e,ii(t,3),zu)},jn.forInRight=function(e,t){return null==e?e:yr(e,ii(t,3),zu)},jn.forOwn=function(e,t){return e&&mr(e,ii(t,3))},jn.forOwnRight=function(e,t){return e&&br(e,ii(t,3))},jn.get=Eu,jn.gt=Io,jn.gte=$o,jn.has=function(e,t){return null!=e&&pi(e,t,Er)},jn.hasIn=Cu,jn.head=Vi,jn.identity=nl,jn.includes=function(e,t,n,r){e=Ho(e)?e:Uu(e),n=n&&!r?du(n):0;var a=e.length;return n<0&&(n=gn(a+n,0)),ou(e)?n<=a&&e.indexOf(t,n)>-1:!!a&&Ut(e,t,n)>-1},jn.indexOf=function(e,t,n){var r=null==e?0:e.length;if(!r)return-1;var a=null==n?0:du(n);return a<0&&(a=gn(r+a,0)),Ut(e,t,a)},jn.inRange=function(e,t,n){return t=pu(t),n===a?(n=t,t=0):n=pu(n),function(e,t,n){return e>=yn(t,n)&&e<gn(t,n)}(e=vu(e),t,n)},jn.invoke=Nu,jn.isArguments=Bo,jn.isArray=Wo,jn.isArrayBuffer=Vo,jn.isArrayLike=Ho,jn.isArrayLikeObject=qo,jn.isBoolean=function(e){return!0===e||!1===e||eu(e)&&kr(e)==y},jn.isBuffer=Qo,jn.isDate=Yo,jn.isElement=function(e){return eu(e)&&1===e.nodeType&&!ru(e)},jn.isEmpty=function(e){if(null==e)return!0;if(Ho(e)&&(Wo(e)||\"string\"==typeof e||\"function\"==typeof e.splice||Qo(e)||lu(e)||Bo(e)))return!e.length;var t=fi(e);if(t==x||t==T)return!e.size;if(_i(e))return!Ar(e).length;for(var n in e)if(Oe.call(e,n))return!1;return!0},jn.isEqual=function(e,t){return Pr(e,t)},jn.isEqualWith=function(e,t,n){var r=(n=\"function\"==typeof n?n:a)?n(e,t):a;return r===a?Pr(e,t,a,n):!!r},jn.isError=Go,jn.isFinite=function(e){return\"number\"==typeof e&&Dt(e)},jn.isFunction=Ko,jn.isInteger=Zo,jn.isLength=Xo,jn.isMap=tu,jn.isMatch=function(e,t){return e===t||zr(e,t,ui(t))},jn.isMatchWith=function(e,t,n){return n=\"function\"==typeof n?n:a,zr(e,t,ui(t),n)},jn.isNaN=function(e){return nu(e)&&e!=+e},jn.isNative=function(e){if(bi(e))throw new we(\"Unsupported core-js use. Try https://npms.io/search?q=ponyfill.\");return Lr(e)},jn.isNil=function(e){return null==e},jn.isNull=function(e){return null===e},jn.isNumber=nu,jn.isObject=Jo,jn.isObjectLike=eu,jn.isPlainObject=ru,jn.isRegExp=au,jn.isSafeInteger=function(e){return Zo(e)&&e>=-9007199254740991&&e<=f},jn.isSet=iu,jn.isString=ou,jn.isSymbol=uu,jn.isTypedArray=lu,jn.isUndefined=function(e){return e===a},jn.isWeakMap=function(e){return eu(e)&&fi(e)==P},jn.isWeakSet=function(e){return eu(e)&&\"[object WeakSet]\"==kr(e)},jn.join=function(e,t){return null==e?\"\":Vt.call(e,t)},jn.kebabCase=Wu,jn.last=Yi,jn.lastIndexOf=function(e,t,n){var r=null==e?0:e.length;if(!r)return-1;var i=r;return n!==a&&(i=(i=du(n))<0?gn(r+i,0):yn(i,r-1)),t==t?function(e,t,n){for(var r=n+1;r--;)if(e[r]===t)return r;return r}(e,t,i):jt(e,$t,i,!0)},jn.lowerCase=Vu,jn.lowerFirst=Hu,jn.lt=su,jn.lte=cu,jn.max=function(e){return e&&e.length?dr(e,nl,Sr):a},jn.maxBy=function(e,t){return e&&e.length?dr(e,ii(t,2),Sr):a},jn.mean=function(e){return Bt(e,nl)},jn.meanBy=function(e,t){return Bt(e,ii(t,2))},jn.min=function(e){return e&&e.length?dr(e,nl,Fr):a},jn.minBy=function(e,t){return e&&e.length?dr(e,ii(t,2),Fr):a},jn.stubArray=hl,jn.stubFalse=vl,jn.stubObject=function(){return{}},jn.stubString=function(){return\"\"},jn.stubTrue=function(){return!0},jn.multiply=wl,jn.nth=function(e,t){return e&&e.length?Ir(e,du(t)):a},jn.noConflict=function(){return ft._===this&&(ft._=je),this},jn.noop=ul,jn.now=Eo,jn.pad=function(e,t,n){e=yu(e);var r=(t=du(t))?cn(e):0;if(!t||r>=t)return e;var a=(t-r)/2;return $a(dt(a),n)+e+$a(pt(a),n)},jn.padEnd=function(e,t,n){e=yu(e);var r=(t=du(t))?cn(e):0;return t&&r<t?e+$a(t-r,n):e},jn.padStart=function(e,t,n){e=yu(e);var r=(t=du(t))?cn(e):0;return t&&r<t?$a(t-r,n)+e:e},jn.parseInt=function(e,t,n){return n||null==t?t=0:t&&(t=+t),bn(yu(e).replace(re,\"\"),t||0)},jn.random=function(e,t,n){if(n&&\"boolean\"!=typeof n&&gi(e,t,n)&&(t=n=a),n===a&&(\"boolean\"==typeof t?(n=t,t=a):\"boolean\"==typeof e&&(n=e,e=a)),e===a&&t===a?(e=0,t=1):(e=pu(e),t===a?(t=e,e=0):t=pu(t)),e>t){var r=e;e=t,t=r}if(n||e%1||t%1){var i=_n();return yn(e+i*(t-e+ut(\"1e-\"+((i+\"\").length-1))),t)}return Hr(e,t)},jn.reduce=function(e,t,n){var r=Wo(e)?Ot:Ht,a=arguments.length<3;return r(e,ii(t,4),n,a,cr)},jn.reduceRight=function(e,t,n){var r=Wo(e)?At:Ht,a=arguments.length<3;return r(e,ii(t,4),n,a,fr)},jn.repeat=function(e,t,n){return t=(n?gi(e,t,n):t===a)?1:du(t),qr(yu(e),t)},jn.replace=function(){var e=arguments,t=yu(e[0]);return e.length<3?t:t.replace(e[1],e[2])},jn.result=function(e,t,n){var r=-1,i=(t=ga(t,e)).length;for(i||(i=1,e=a);++r<i;){var o=null==e?a:e[Fi(t[r])];o===a&&(r=i,o=n),e=Ko(o)?o.call(e):o}return e},jn.round=xl,jn.runInContext=e,jn.sample=function(e){return(Wo(e)?Gn:Yr)(e)},jn.size=function(e){if(null==e)return 0;if(Ho(e))return ou(e)?cn(e):e.length;var t=fi(e);return t==x||t==T?e.size:Ar(e).length},jn.snakeCase=qu,jn.some=function(e,t,n){var r=Wo(e)?Ft:ta;return n&&gi(e,t,n)&&(t=a),r(e,ii(t,3))},jn.sortedIndex=function(e,t){return na(e,t)},jn.sortedIndexBy=function(e,t,n){return ra(e,t,ii(n,2))},jn.sortedIndexOf=function(e,t){var n=null==e?0:e.length;if(n){var r=na(e,t);if(r<n&&Uo(e[r],t))return r}return-1},jn.sortedLastIndex=function(e,t){return na(e,t,!0)},jn.sortedLastIndexBy=function(e,t,n){return ra(e,t,ii(n,2),!0)},jn.sortedLastIndexOf=function(e,t){if(null!=e&&e.length){var n=na(e,t,!0)-1;if(Uo(e[n],t))return n}return-1},jn.startCase=Qu,jn.startsWith=function(e,t,n){return e=yu(e),n=null==n?0:ir(du(n),0,e.length),t=oa(t),e.slice(n,n+t.length)==t},jn.subtract=kl,jn.sum=function(e){return e&&e.length?qt(e,nl):0},jn.sumBy=function(e,t){return e&&e.length?qt(e,ii(t,2)):0},jn.template=function(e,t,n){var r=jn.templateSettings;n&&gi(e,t,n)&&(t=a),e=yu(e),t=_u({},t,r,Ga);var i,o,u=_u({},t.imports,r.imports,Ga),l=Pu(u),s=Kt(u,l),c=0,f=t.interpolate||be,p=\"__p += '\",d=Ee((t.escape||be).source+\"|\"+f.source+\"|\"+(f===Z?fe:be).source+\"|\"+(t.evaluate||be).source+\"|$\",\"g\"),h=\"//# sourceURL=\"+(Oe.call(t,\"sourceURL\")?(t.sourceURL+\"\").replace(/\\s/g,\" \"):\"lodash.templateSources[\"+ ++rt+\"]\")+\"\\n\";e.replace(d,(function(t,n,r,a,u,l){return r||(r=a),p+=e.slice(c,l).replace(_e,nn),n&&(i=!0,p+=\"' +\\n__e(\"+n+\") +\\n'\"),u&&(o=!0,p+=\"';\\n\"+u+\";\\n__p += '\"),r&&(p+=\"' +\\n((__t = (\"+r+\")) == null ? '' : __t) +\\n'\"),c=l+t.length,t})),p+=\"';\\n\";var v=Oe.call(t,\"variable\")&&t.variable;if(v){if(se.test(v))throw new we(\"Invalid `variable` option passed into `_.template`\")}else p=\"with (obj) {\\n\"+p+\"\\n}\\n\";p=(o?p.replace(B,\"\"):p).replace(W,\"$1\").replace(V,\"$1;\"),p=\"function(\"+(v||\"obj\")+\") {\\n\"+(v?\"\":\"obj || (obj = {});\\n\")+\"var __t, __p = ''\"+(i?\", __e = _.escape\":\"\")+(o?\", __j = Array.prototype.join;\\nfunction print() { __p += __j.call(arguments, '') }\\n\":\";\\n\")+p+\"return __p\\n}\";var g=Zu((function(){return xe(l,h+\"return \"+p).apply(a,s)}));if(g.source=p,Go(g))throw g;return g},jn.times=function(e,t){if((e=du(e))<1||e>f)return[];var n=d,r=yn(e,d);t=ii(t),e-=d;for(var a=Qt(r,t);++n<e;)t(n);return a},jn.toFinite=pu,jn.toInteger=du,jn.toLength=hu,jn.toLower=function(e){return yu(e).toLowerCase()},jn.toNumber=vu,jn.toSafeInteger=function(e){return e?ir(du(e),-9007199254740991,f):0===e?e:0},jn.toString=yu,jn.toUpper=function(e){return yu(e).toUpperCase()},jn.trim=function(e,t,n){if((e=yu(e))&&(n||t===a))return Yt(e);if(!e||!(t=oa(t)))return e;var r=fn(e),i=fn(t);return ma(r,Xt(r,i),Jt(r,i)+1).join(\"\")},jn.trimEnd=function(e,t,n){if((e=yu(e))&&(n||t===a))return e.slice(0,pn(e)+1);if(!e||!(t=oa(t)))return e;var r=fn(e);return ma(r,0,Jt(r,fn(t))+1).join(\"\")},jn.trimStart=function(e,t,n){if((e=yu(e))&&(n||t===a))return e.replace(re,\"\");if(!e||!(t=oa(t)))return e;var r=fn(e);return ma(r,Xt(r,fn(t))).join(\"\")},jn.truncate=function(e,t){var n=30,r=\"...\";if(Jo(t)){var i=\"separator\"in t?t.separator:i;n=\"length\"in t?du(t.length):n,r=\"omission\"in t?oa(t.omission):r}var o=(e=yu(e)).length;if(rn(e)){var u=fn(e);o=u.length}if(n>=o)return e;var l=n-cn(r);if(l<1)return r;var s=u?ma(u,0,l).join(\"\"):e.slice(0,l);if(i===a)return s+r;if(u&&(l+=s.length-l),au(i)){if(e.slice(l).search(i)){var c,f=s;for(i.global||(i=Ee(i.source,yu(pe.exec(i))+\"g\")),i.lastIndex=0;c=i.exec(f);)var p=c.index;s=s.slice(0,p===a?l:p)}}else if(e.indexOf(oa(i),l)!=l){var d=s.lastIndexOf(i);d>-1&&(s=s.slice(0,d))}return s+r},jn.unescape=function(e){return(e=yu(e))&&Q.test(e)?e.replace(H,dn):e},jn.uniqueId=function(e){var t=++Ae;return yu(e)+t},jn.upperCase=Yu,jn.upperFirst=Gu,jn.each=yo,jn.eachRight=mo,jn.first=Vi,ol(jn,(gl={},mr(jn,(function(e,t){Oe.call(jn.prototype,t)||(gl[t]=e)})),gl),{chain:!1}),jn.VERSION=\"4.17.21\",Et([\"bind\",\"bindKey\",\"curry\",\"curryRight\",\"partial\",\"partialRight\"],(function(e){jn[e].placeholder=jn})),Et([\"drop\",\"take\"],(function(e,t){Bn.prototype[e]=function(n){n=n===a?1:gn(du(n),0);var r=this.__filtered__&&!t?new Bn(this):this.clone();return r.__filtered__?r.__takeCount__=yn(n,r.__takeCount__):r.__views__.push({size:yn(n,d),type:e+(r.__dir__<0?\"Right\":\"\")}),r},Bn.prototype[e+\"Right\"]=function(t){return this.reverse()[e](t).reverse()}})),Et([\"filter\",\"map\",\"takeWhile\"],(function(e,t){var n=t+1,r=1==n||3==n;Bn.prototype[e]=function(e){var t=this.clone();return t.__iteratees__.push({iteratee:ii(e,3),type:n}),t.__filtered__=t.__filtered__||r,t}})),Et([\"head\",\"last\"],(function(e,t){var n=\"take\"+(t?\"Right\":\"\");Bn.prototype[e]=function(){return this[n](1).value()[0]}})),Et([\"initial\",\"tail\"],(function(e,t){var n=\"drop\"+(t?\"\":\"Right\");Bn.prototype[e]=function(){return this.__filtered__?new Bn(this):this[n](1)}})),Bn.prototype.compact=function(){return this.filter(nl)},Bn.prototype.find=function(e){return this.filter(e).head()},Bn.prototype.findLast=function(e){return this.reverse().find(e)},Bn.prototype.invokeMap=Qr((function(e,t){return\"function\"==typeof e?new Bn(this):this.map((function(n){return Mr(n,e,t)}))})),Bn.prototype.reject=function(e){return this.filter(Ao(ii(e)))},Bn.prototype.slice=function(e,t){e=du(e);var n=this;return n.__filtered__&&(e>0||t<0)?new Bn(n):(e<0?n=n.takeRight(-e):e&&(n=n.drop(e)),t!==a&&(n=(t=du(t))<0?n.dropRight(-t):n.take(t-e)),n)},Bn.prototype.takeRightWhile=function(e){return this.reverse().takeWhile(e).reverse()},Bn.prototype.toArray=function(){return this.take(d)},mr(Bn.prototype,(function(e,t){var n=/^(?:filter|find|map|reject)|While$/.test(t),r=/^(?:head|last)$/.test(t),i=jn[r?\"take\"+(\"last\"==t?\"Right\":\"\"):t],o=r||/^find/.test(t);i&&(jn.prototype[t]=function(){var t=this.__wrapped__,u=r?[1]:arguments,l=t instanceof Bn,s=u[0],c=l||Wo(t),f=function(e){var t=i.apply(jn,Lt([e],u));return r&&p?t[0]:t};c&&n&&\"function\"==typeof s&&1!=s.length&&(l=c=!1);var p=this.__chain__,d=!!this.__actions__.length,h=o&&!p,v=l&&!d;if(!o&&c){t=v?t:new Bn(this);var g=e.apply(t,u);return g.__actions__.push({func:fo,args:[f],thisArg:a}),new $n(g,p)}return h&&v?e.apply(this,u):(g=this.thru(f),h?r?g.value()[0]:g.value():g)})})),Et([\"pop\",\"push\",\"shift\",\"sort\",\"splice\",\"unshift\"],(function(e){var t=Me[e],n=/^(?:push|sort|unshift)$/.test(e)?\"tap\":\"thru\",r=/^(?:pop|shift)$/.test(e);jn.prototype[e]=function(){var e=arguments;if(r&&!this.__chain__){var a=this.value();return t.apply(Wo(a)?a:[],e)}return this[n]((function(n){return t.apply(Wo(n)?n:[],e)}))}})),mr(Bn.prototype,(function(e,t){var n=jn[t];if(n){var r=n.name+\"\";Oe.call(Nn,r)||(Nn[r]=[]),Nn[r].push({name:t,func:n})}})),Nn[Ra(a,2).name]=[{name:\"wrapper\",func:a}],Bn.prototype.clone=function(){var e=new Bn(this.__wrapped__);return e.__actions__=Ca(this.__actions__),e.__dir__=this.__dir__,e.__filtered__=this.__filtered__,e.__iteratees__=Ca(this.__iteratees__),e.__takeCount__=this.__takeCount__,e.__views__=Ca(this.__views__),e},Bn.prototype.reverse=function(){if(this.__filtered__){var e=new Bn(this);e.__dir__=-1,e.__filtered__=!0}else(e=this.clone()).__dir__*=-1;return e},Bn.prototype.value=function(){var e=this.__wrapped__.value(),t=this.__dir__,n=Wo(e),r=t<0,a=n?e.length:0,i=function(e,t,n){for(var r=-1,a=n.length;++r<a;){var i=n[r],o=i.size;switch(i.type){case\"drop\":e+=o;break;case\"dropRight\":t-=o;break;case\"take\":t=yn(t,e+o);break;case\"takeRight\":e=gn(e,t-o)}}return{start:e,end:t}}(0,a,this.__views__),o=i.start,u=i.end,l=u-o,s=r?u:o-1,c=this.__iteratees__,f=c.length,p=0,d=yn(l,this.__takeCount__);if(!n||!r&&a==l&&d==l)return fa(e,this.__actions__);var h=[];e:for(;l--&&p<d;){for(var v=-1,g=e[s+=t];++v<f;){var y=c[v],m=y.iteratee,b=y.type,_=m(g);if(2==b)g=_;else if(!_){if(1==b)continue e;break e}}h[p++]=g}return h},jn.prototype.at=po,jn.prototype.chain=function(){return co(this)},jn.prototype.commit=function(){return new $n(this.value(),this.__chain__)},jn.prototype.next=function(){this.__values__===a&&(this.__values__=fu(this.value()));var e=this.__index__>=this.__values__.length;return{done:e,value:e?a:this.__values__[this.__index__++]}},jn.prototype.plant=function(e){for(var t,n=this;n instanceof In;){var r=Ri(n);r.__index__=0,r.__values__=a,t?i.__wrapped__=r:t=r;var i=r;n=n.__wrapped__}return i.__wrapped__=e,t},jn.prototype.reverse=function(){var e=this.__wrapped__;if(e instanceof Bn){var t=e;return this.__actions__.length&&(t=new Bn(this)),(t=t.reverse()).__actions__.push({func:fo,args:[Xi],thisArg:a}),new $n(t,this.__chain__)}return this.thru(Xi)},jn.prototype.toJSON=jn.prototype.valueOf=jn.prototype.value=function(){return fa(this.__wrapped__,this.__actions__)},jn.prototype.first=jn.prototype.head,Ge&&(jn.prototype[Ge]=function(){return this}),jn}();ft._=hn,(r=function(){return hn}.call(t,n,t,e))===a||(e.exports=r)}.call(this)},448:(e,t,n)=>{\"use strict\";var r=n(294),a=n(840);function i(e){for(var t=\"https://reactjs.org/docs/error-decoder.html?invariant=\"+e,n=1;n<arguments.length;n++)t+=\"&args[]=\"+encodeURIComponent(arguments[n]);return\"Minified React error #\"+e+\"; visit \"+t+\" for the full message or use the non-minified dev environment for full errors and additional helpful warnings.\"}var o=new Set,u={};function l(e,t){s(e,t),s(e+\"Capture\",t)}function s(e,t){for(u[e]=t,e=0;e<t.length;e++)o.add(t[e])}var c=!(\"undefined\"==typeof window||void 0===window.document||void 0===window.document.createElement),f=Object.prototype.hasOwnProperty,p=/^[:A-Z_a-z\\u00C0-\\u00D6\\u00D8-\\u00F6\\u00F8-\\u02FF\\u0370-\\u037D\\u037F-\\u1FFF\\u200C-\\u200D\\u2070-\\u218F\\u2C00-\\u2FEF\\u3001-\\uD7FF\\uF900-\\uFDCF\\uFDF0-\\uFFFD][:A-Z_a-z\\u00C0-\\u00D6\\u00D8-\\u00F6\\u00F8-\\u02FF\\u0370-\\u037D\\u037F-\\u1FFF\\u200C-\\u200D\\u2070-\\u218F\\u2C00-\\u2FEF\\u3001-\\uD7FF\\uF900-\\uFDCF\\uFDF0-\\uFFFD\\-.0-9\\u00B7\\u0300-\\u036F\\u203F-\\u2040]*$/,d={},h={};function v(e,t,n,r,a,i,o){this.acceptsBooleans=2===t||3===t||4===t,this.attributeName=r,this.attributeNamespace=a,this.mustUseProperty=n,this.propertyName=e,this.type=t,this.sanitizeURL=i,this.removeEmptyString=o}var g={};\"children dangerouslySetInnerHTML defaultValue defaultChecked innerHTML suppressContentEditableWarning suppressHydrationWarning style\".split(\" \").forEach((function(e){g[e]=new v(e,0,!1,e,null,!1,!1)})),[[\"acceptCharset\",\"accept-charset\"],[\"className\",\"class\"],[\"htmlFor\",\"for\"],[\"httpEquiv\",\"http-equiv\"]].forEach((function(e){var t=e[0];g[t]=new v(t,1,!1,e[1],null,!1,!1)})),[\"contentEditable\",\"draggable\",\"spellCheck\",\"value\"].forEach((function(e){g[e]=new v(e,2,!1,e.toLowerCase(),null,!1,!1)})),[\"autoReverse\",\"externalResourcesRequired\",\"focusable\",\"preserveAlpha\"].forEach((function(e){g[e]=new v(e,2,!1,e,null,!1,!1)})),\"allowFullScreen async autoFocus autoPlay controls default defer disabled disablePictureInPicture disableRemotePlayback formNoValidate hidden loop noModule noValidate open playsInline readOnly required reversed scoped seamless itemScope\".split(\" \").forEach((function(e){g[e]=new v(e,3,!1,e.toLowerCase(),null,!1,!1)})),[\"checked\",\"multiple\",\"muted\",\"selected\"].forEach((function(e){g[e]=new v(e,3,!0,e,null,!1,!1)})),[\"capture\",\"download\"].forEach((function(e){g[e]=new v(e,4,!1,e,null,!1,!1)})),[\"cols\",\"rows\",\"size\",\"span\"].forEach((function(e){g[e]=new v(e,6,!1,e,null,!1,!1)})),[\"rowSpan\",\"start\"].forEach((function(e){g[e]=new v(e,5,!1,e.toLowerCase(),null,!1,!1)}));var y=/[\\-:]([a-z])/g;function m(e){return e[1].toUpperCase()}function b(e,t,n,r){var a=g.hasOwnProperty(t)?g[t]:null;(null!==a?0!==a.type:r||!(2<t.length)||\"o\"!==t[0]&&\"O\"!==t[0]||\"n\"!==t[1]&&\"N\"!==t[1])&&(function(e,t,n,r){if(null==t||function(e,t,n,r){if(null!==n&&0===n.type)return!1;switch(typeof t){case\"function\":case\"symbol\":return!0;case\"boolean\":return!r&&(null!==n?!n.acceptsBooleans:\"data-\"!==(e=e.toLowerCase().slice(0,5))&&\"aria-\"!==e);default:return!1}}(e,t,n,r))return!0;if(r)return!1;if(null!==n)switch(n.type){case 3:return!t;case 4:return!1===t;case 5:return isNaN(t);case 6:return isNaN(t)||1>t}return!1}(t,n,a,r)&&(n=null),r||null===a?function(e){return!!f.call(h,e)||!f.call(d,e)&&(p.test(e)?h[e]=!0:(d[e]=!0,!1))}(t)&&(null===n?e.removeAttribute(t):e.setAttribute(t,\"\"+n)):a.mustUseProperty?e[a.propertyName]=null===n?3!==a.type&&\"\":n:(t=a.attributeName,r=a.attributeNamespace,null===n?e.removeAttribute(t):(n=3===(a=a.type)||4===a&&!0===n?\"\":\"\"+n,r?e.setAttributeNS(r,t,n):e.setAttribute(t,n))))}\"accent-height alignment-baseline arabic-form baseline-shift cap-height clip-path clip-rule color-interpolation color-interpolation-filters color-profile color-rendering dominant-baseline enable-background fill-opacity fill-rule flood-color flood-opacity font-family font-size font-size-adjust font-stretch font-style font-variant font-weight glyph-name glyph-orientation-horizontal glyph-orientation-vertical horiz-adv-x horiz-origin-x image-rendering letter-spacing lighting-color marker-end marker-mid marker-start overline-position overline-thickness paint-order panose-1 pointer-events rendering-intent shape-rendering stop-color stop-opacity strikethrough-position strikethrough-thickness stroke-dasharray stroke-dashoffset stroke-linecap stroke-linejoin stroke-miterlimit stroke-opacity stroke-width text-anchor text-decoration text-rendering underline-position underline-thickness unicode-bidi unicode-range units-per-em v-alphabetic v-hanging v-ideographic v-mathematical vector-effect vert-adv-y vert-origin-x vert-origin-y word-spacing writing-mode xmlns:xlink x-height\".split(\" \").forEach((function(e){var t=e.replace(y,m);g[t]=new v(t,1,!1,e,null,!1,!1)})),\"xlink:actuate xlink:arcrole xlink:role xlink:show xlink:title xlink:type\".split(\" \").forEach((function(e){var t=e.replace(y,m);g[t]=new v(t,1,!1,e,\"http://www.w3.org/1999/xlink\",!1,!1)})),[\"xml:base\",\"xml:lang\",\"xml:space\"].forEach((function(e){var t=e.replace(y,m);g[t]=new v(t,1,!1,e,\"http://www.w3.org/XML/1998/namespace\",!1,!1)})),[\"tabIndex\",\"crossOrigin\"].forEach((function(e){g[e]=new v(e,1,!1,e.toLowerCase(),null,!1,!1)})),g.xlinkHref=new v(\"xlinkHref\",1,!1,\"xlink:href\",\"http://www.w3.org/1999/xlink\",!0,!1),[\"src\",\"href\",\"action\",\"formAction\"].forEach((function(e){g[e]=new v(e,1,!1,e.toLowerCase(),null,!0,!0)}));var _=r.__SECRET_INTERNALS_DO_NOT_USE_OR_YOU_WILL_BE_FIRED,w=Symbol.for(\"react.element\"),x=Symbol.for(\"react.portal\"),k=Symbol.for(\"react.fragment\"),S=Symbol.for(\"react.strict_mode\"),E=Symbol.for(\"react.profiler\"),C=Symbol.for(\"react.provider\"),T=Symbol.for(\"react.context\"),M=Symbol.for(\"react.forward_ref\"),N=Symbol.for(\"react.suspense\"),P=Symbol.for(\"react.suspense_list\"),z=Symbol.for(\"react.memo\"),L=Symbol.for(\"react.lazy\");Symbol.for(\"react.scope\"),Symbol.for(\"react.debug_trace_mode\");var O=Symbol.for(\"react.offscreen\");Symbol.for(\"react.legacy_hidden\"),Symbol.for(\"react.cache\"),Symbol.for(\"react.tracing_marker\");var A=Symbol.iterator;function F(e){return null===e||\"object\"!=typeof e?null:\"function\"==typeof(e=A&&e[A]||e[\"@@iterator\"])?e:null}var D,R=Object.assign;function j(e){if(void 0===D)try{throw Error()}catch(e){var t=e.stack.trim().match(/\\n( *(at )?)/);D=t&&t[1]||\"\"}return\"\\n\"+D+e}var U=!1;function I(e,t){if(!e||U)return\"\";U=!0;var n=Error.prepareStackTrace;Error.prepareStackTrace=void 0;try{if(t)if(t=function(){throw Error()},Object.defineProperty(t.prototype,\"props\",{set:function(){throw Error()}}),\"object\"==typeof Reflect&&Reflect.construct){try{Reflect.construct(t,[])}catch(e){var r=e}Reflect.construct(e,[],t)}else{try{t.call()}catch(e){r=e}e.call(t.prototype)}else{try{throw Error()}catch(e){r=e}e()}}catch(t){if(t&&r&&\"string\"==typeof t.stack){for(var a=t.stack.split(\"\\n\"),i=r.stack.split(\"\\n\"),o=a.length-1,u=i.length-1;1<=o&&0<=u&&a[o]!==i[u];)u--;for(;1<=o&&0<=u;o--,u--)if(a[o]!==i[u]){if(1!==o||1!==u)do{if(o--,0>--u||a[o]!==i[u]){var l=\"\\n\"+a[o].replace(\" at new \",\" at \");return e.displayName&&l.includes(\"<anonymous>\")&&(l=l.replace(\"<anonymous>\",e.displayName)),l}}while(1<=o&&0<=u);break}}}finally{U=!1,Error.prepareStackTrace=n}return(e=e?e.displayName||e.name:\"\")?j(e):\"\"}function $(e){switch(e.tag){case 5:return j(e.type);case 16:return j(\"Lazy\");case 13:return j(\"Suspense\");case 19:return j(\"SuspenseList\");case 0:case 2:case 15:return I(e.type,!1);case 11:return I(e.type.render,!1);case 1:return I(e.type,!0);default:return\"\"}}function B(e){if(null==e)return null;if(\"function\"==typeof e)return e.displayName||e.name||null;if(\"string\"==typeof e)return e;switch(e){case k:return\"Fragment\";case x:return\"Portal\";case E:return\"Profiler\";case S:return\"StrictMode\";case N:return\"Suspense\";case P:return\"SuspenseList\"}if(\"object\"==typeof e)switch(e.$$typeof){case T:return(e.displayName||\"Context\")+\".Consumer\";case C:return(e._context.displayName||\"Context\")+\".Provider\";case M:var t=e.render;return(e=e.displayName)||(e=\"\"!==(e=t.displayName||t.name||\"\")?\"ForwardRef(\"+e+\")\":\"ForwardRef\"),e;case z:return null!==(t=e.displayName||null)?t:B(e.type)||\"Memo\";case L:t=e._payload,e=e._init;try{return B(e(t))}catch(e){}}return null}function W(e){var t=e.type;switch(e.tag){case 24:return\"Cache\";case 9:return(t.displayName||\"Context\")+\".Consumer\";case 10:return(t._context.displayName||\"Context\")+\".Provider\";case 18:return\"DehydratedFragment\";case 11:return e=(e=t.render).displayName||e.name||\"\",t.displayName||(\"\"!==e?\"ForwardRef(\"+e+\")\":\"ForwardRef\");case 7:return\"Fragment\";case 5:return t;case 4:return\"Portal\";case 3:return\"Root\";case 6:return\"Text\";case 16:return B(t);case 8:return t===S?\"StrictMode\":\"Mode\";case 22:return\"Offscreen\";case 12:return\"Profiler\";case 21:return\"Scope\";case 13:return\"Suspense\";case 19:return\"SuspenseList\";case 25:return\"TracingMarker\";case 1:case 0:case 17:case 2:case 14:case 15:if(\"function\"==typeof t)return t.displayName||t.name||null;if(\"string\"==typeof t)return t}return null}function V(e){switch(typeof e){case\"boolean\":case\"number\":case\"string\":case\"undefined\":case\"object\":return e;default:return\"\"}}function H(e){var t=e.type;return(e=e.nodeName)&&\"input\"===e.toLowerCase()&&(\"checkbox\"===t||\"radio\"===t)}function q(e){e._valueTracker||(e._valueTracker=function(e){var t=H(e)?\"checked\":\"value\",n=Object.getOwnPropertyDescriptor(e.constructor.prototype,t),r=\"\"+e[t];if(!e.hasOwnProperty(t)&&void 0!==n&&\"function\"==typeof n.get&&\"function\"==typeof n.set){var a=n.get,i=n.set;return Object.defineProperty(e,t,{configurable:!0,get:function(){return a.call(this)},set:function(e){r=\"\"+e,i.call(this,e)}}),Object.defineProperty(e,t,{enumerable:n.enumerable}),{getValue:function(){return r},setValue:function(e){r=\"\"+e},stopTracking:function(){e._valueTracker=null,delete e[t]}}}}(e))}function Q(e){if(!e)return!1;var t=e._valueTracker;if(!t)return!0;var n=t.getValue(),r=\"\";return e&&(r=H(e)?e.checked?\"true\":\"false\":e.value),(e=r)!==n&&(t.setValue(e),!0)}function Y(e){if(void 0===(e=e||(\"undefined\"!=typeof document?document:void 0)))return null;try{return e.activeElement||e.body}catch(t){return e.body}}function G(e,t){var n=t.checked;return R({},t,{defaultChecked:void 0,defaultValue:void 0,value:void 0,checked:null!=n?n:e._wrapperState.initialChecked})}function K(e,t){var n=null==t.defaultValue?\"\":t.defaultValue,r=null!=t.checked?t.checked:t.defaultChecked;n=V(null!=t.value?t.value:n),e._wrapperState={initialChecked:r,initialValue:n,controlled:\"checkbox\"===t.type||\"radio\"===t.type?null!=t.checked:null!=t.value}}function Z(e,t){null!=(t=t.checked)&&b(e,\"checked\",t,!1)}function X(e,t){Z(e,t);var n=V(t.value),r=t.type;if(null!=n)\"number\"===r?(0===n&&\"\"===e.value||e.value!=n)&&(e.value=\"\"+n):e.value!==\"\"+n&&(e.value=\"\"+n);else if(\"submit\"===r||\"reset\"===r)return void e.removeAttribute(\"value\");t.hasOwnProperty(\"value\")?ee(e,t.type,n):t.hasOwnProperty(\"defaultValue\")&&ee(e,t.type,V(t.defaultValue)),null==t.checked&&null!=t.defaultChecked&&(e.defaultChecked=!!t.defaultChecked)}function J(e,t,n){if(t.hasOwnProperty(\"value\")||t.hasOwnProperty(\"defaultValue\")){var r=t.type;if(!(\"submit\"!==r&&\"reset\"!==r||void 0!==t.value&&null!==t.value))return;t=\"\"+e._wrapperState.initialValue,n||t===e.value||(e.value=t),e.defaultValue=t}\"\"!==(n=e.name)&&(e.name=\"\"),e.defaultChecked=!!e._wrapperState.initialChecked,\"\"!==n&&(e.name=n)}function ee(e,t,n){\"number\"===t&&Y(e.ownerDocument)===e||(null==n?e.defaultValue=\"\"+e._wrapperState.initialValue:e.defaultValue!==\"\"+n&&(e.defaultValue=\"\"+n))}var te=Array.isArray;function ne(e,t,n,r){if(e=e.options,t){t={};for(var a=0;a<n.length;a++)t[\"$\"+n[a]]=!0;for(n=0;n<e.length;n++)a=t.hasOwnProperty(\"$\"+e[n].value),e[n].selected!==a&&(e[n].selected=a),a&&r&&(e[n].defaultSelected=!0)}else{for(n=\"\"+V(n),t=null,a=0;a<e.length;a++){if(e[a].value===n)return e[a].selected=!0,void(r&&(e[a].defaultSelected=!0));null!==t||e[a].disabled||(t=e[a])}null!==t&&(t.selected=!0)}}function re(e,t){if(null!=t.dangerouslySetInnerHTML)throw Error(i(91));return R({},t,{value:void 0,defaultValue:void 0,children:\"\"+e._wrapperState.initialValue})}function ae(e,t){var n=t.value;if(null==n){if(n=t.children,t=t.defaultValue,null!=n){if(null!=t)throw Error(i(92));if(te(n)){if(1<n.length)throw Error(i(93));n=n[0]}t=n}null==t&&(t=\"\"),n=t}e._wrapperState={initialValue:V(n)}}function ie(e,t){var n=V(t.value),r=V(t.defaultValue);null!=n&&((n=\"\"+n)!==e.value&&(e.value=n),null==t.defaultValue&&e.defaultValue!==n&&(e.defaultValue=n)),null!=r&&(e.defaultValue=\"\"+r)}function oe(e){var t=e.textContent;t===e._wrapperState.initialValue&&\"\"!==t&&null!==t&&(e.value=t)}function ue(e){switch(e){case\"svg\":return\"http://www.w3.org/2000/svg\";case\"math\":return\"http://www.w3.org/1998/Math/MathML\";default:return\"http://www.w3.org/1999/xhtml\"}}function le(e,t){return null==e||\"http://www.w3.org/1999/xhtml\"===e?ue(t):\"http://www.w3.org/2000/svg\"===e&&\"foreignObject\"===t?\"http://www.w3.org/1999/xhtml\":e}var se,ce,fe=(ce=function(e,t){if(\"http://www.w3.org/2000/svg\"!==e.namespaceURI||\"innerHTML\"in e)e.innerHTML=t;else{for((se=se||document.createElement(\"div\")).innerHTML=\"<svg>\"+t.valueOf().toString()+\"</svg>\",t=se.firstChild;e.firstChild;)e.removeChild(e.firstChild);for(;t.firstChild;)e.appendChild(t.firstChild)}},\"undefined\"!=typeof MSApp&&MSApp.execUnsafeLocalFunction?function(e,t,n,r){MSApp.execUnsafeLocalFunction((function(){return ce(e,t)}))}:ce);function pe(e,t){if(t){var n=e.firstChild;if(n&&n===e.lastChild&&3===n.nodeType)return void(n.nodeValue=t)}e.textContent=t}var de={animationIterationCount:!0,aspectRatio:!0,borderImageOutset:!0,borderImageSlice:!0,borderImageWidth:!0,boxFlex:!0,boxFlexGroup:!0,boxOrdinalGroup:!0,columnCount:!0,columns:!0,flex:!0,flexGrow:!0,flexPositive:!0,flexShrink:!0,flexNegative:!0,flexOrder:!0,gridArea:!0,gridRow:!0,gridRowEnd:!0,gridRowSpan:!0,gridRowStart:!0,gridColumn:!0,gridColumnEnd:!0,gridColumnSpan:!0,gridColumnStart:!0,fontWeight:!0,lineClamp:!0,lineHeight:!0,opacity:!0,order:!0,orphans:!0,tabSize:!0,widows:!0,zIndex:!0,zoom:!0,fillOpacity:!0,floodOpacity:!0,stopOpacity:!0,strokeDasharray:!0,strokeDashoffset:!0,strokeMiterlimit:!0,strokeOpacity:!0,strokeWidth:!0},he=[\"Webkit\",\"ms\",\"Moz\",\"O\"];function ve(e,t,n){return null==t||\"boolean\"==typeof t||\"\"===t?\"\":n||\"number\"!=typeof t||0===t||de.hasOwnProperty(e)&&de[e]?(\"\"+t).trim():t+\"px\"}function ge(e,t){for(var n in e=e.style,t)if(t.hasOwnProperty(n)){var r=0===n.indexOf(\"--\"),a=ve(n,t[n],r);\"float\"===n&&(n=\"cssFloat\"),r?e.setProperty(n,a):e[n]=a}}Object.keys(de).forEach((function(e){he.forEach((function(t){t=t+e.charAt(0).toUpperCase()+e.substring(1),de[t]=de[e]}))}));var ye=R({menuitem:!0},{area:!0,base:!0,br:!0,col:!0,embed:!0,hr:!0,img:!0,input:!0,keygen:!0,link:!0,meta:!0,param:!0,source:!0,track:!0,wbr:!0});function me(e,t){if(t){if(ye[e]&&(null!=t.children||null!=t.dangerouslySetInnerHTML))throw Error(i(137,e));if(null!=t.dangerouslySetInnerHTML){if(null!=t.children)throw Error(i(60));if(\"object\"!=typeof t.dangerouslySetInnerHTML||!(\"__html\"in t.dangerouslySetInnerHTML))throw Error(i(61))}if(null!=t.style&&\"object\"!=typeof t.style)throw Error(i(62))}}function be(e,t){if(-1===e.indexOf(\"-\"))return\"string\"==typeof t.is;switch(e){case\"annotation-xml\":case\"color-profile\":case\"font-face\":case\"font-face-src\":case\"font-face-uri\":case\"font-face-format\":case\"font-face-name\":case\"missing-glyph\":return!1;default:return!0}}var _e=null;function we(e){return(e=e.target||e.srcElement||window).correspondingUseElement&&(e=e.correspondingUseElement),3===e.nodeType?e.parentNode:e}var xe=null,ke=null,Se=null;function Ee(e){if(e=ba(e)){if(\"function\"!=typeof xe)throw Error(i(280));var t=e.stateNode;t&&(t=wa(t),xe(e.stateNode,e.type,t))}}function Ce(e){ke?Se?Se.push(e):Se=[e]:ke=e}function Te(){if(ke){var e=ke,t=Se;if(Se=ke=null,Ee(e),t)for(e=0;e<t.length;e++)Ee(t[e])}}function Me(e,t){return e(t)}function Ne(){}var Pe=!1;function ze(e,t,n){if(Pe)return e(t,n);Pe=!0;try{return Me(e,t,n)}finally{Pe=!1,(null!==ke||null!==Se)&&(Ne(),Te())}}function Le(e,t){var n=e.stateNode;if(null===n)return null;var r=wa(n);if(null===r)return null;n=r[t];e:switch(t){case\"onClick\":case\"onClickCapture\":case\"onDoubleClick\":case\"onDoubleClickCapture\":case\"onMouseDown\":case\"onMouseDownCapture\":case\"onMouseMove\":case\"onMouseMoveCapture\":case\"onMouseUp\":case\"onMouseUpCapture\":case\"onMouseEnter\":(r=!r.disabled)||(r=!(\"button\"===(e=e.type)||\"input\"===e||\"select\"===e||\"textarea\"===e)),e=!r;break e;default:e=!1}if(e)return null;if(n&&\"function\"!=typeof n)throw Error(i(231,t,typeof n));return n}var Oe=!1;if(c)try{var Ae={};Object.defineProperty(Ae,\"passive\",{get:function(){Oe=!0}}),window.addEventListener(\"test\",Ae,Ae),window.removeEventListener(\"test\",Ae,Ae)}catch(ce){Oe=!1}function Fe(e,t,n,r,a,i,o,u,l){var s=Array.prototype.slice.call(arguments,3);try{t.apply(n,s)}catch(e){this.onError(e)}}var De=!1,Re=null,je=!1,Ue=null,Ie={onError:function(e){De=!0,Re=e}};function $e(e,t,n,r,a,i,o,u,l){De=!1,Re=null,Fe.apply(Ie,arguments)}function Be(e){var t=e,n=e;if(e.alternate)for(;t.return;)t=t.return;else{e=t;do{0!=(4098&(t=e).flags)&&(n=t.return),e=t.return}while(e)}return 3===t.tag?n:null}function We(e){if(13===e.tag){var t=e.memoizedState;if(null===t&&null!==(e=e.alternate)&&(t=e.memoizedState),null!==t)return t.dehydrated}return null}function Ve(e){if(Be(e)!==e)throw Error(i(188))}function He(e){return null!==(e=function(e){var t=e.alternate;if(!t){if(null===(t=Be(e)))throw Error(i(188));return t!==e?null:e}for(var n=e,r=t;;){var a=n.return;if(null===a)break;var o=a.alternate;if(null===o){if(null!==(r=a.return)){n=r;continue}break}if(a.child===o.child){for(o=a.child;o;){if(o===n)return Ve(a),e;if(o===r)return Ve(a),t;o=o.sibling}throw Error(i(188))}if(n.return!==r.return)n=a,r=o;else{for(var u=!1,l=a.child;l;){if(l===n){u=!0,n=a,r=o;break}if(l===r){u=!0,r=a,n=o;break}l=l.sibling}if(!u){for(l=o.child;l;){if(l===n){u=!0,n=o,r=a;break}if(l===r){u=!0,r=o,n=a;break}l=l.sibling}if(!u)throw Error(i(189))}}if(n.alternate!==r)throw Error(i(190))}if(3!==n.tag)throw Error(i(188));return n.stateNode.current===n?e:t}(e))?qe(e):null}function qe(e){if(5===e.tag||6===e.tag)return e;for(e=e.child;null!==e;){var t=qe(e);if(null!==t)return t;e=e.sibling}return null}var Qe=a.unstable_scheduleCallback,Ye=a.unstable_cancelCallback,Ge=a.unstable_shouldYield,Ke=a.unstable_requestPaint,Ze=a.unstable_now,Xe=a.unstable_getCurrentPriorityLevel,Je=a.unstable_ImmediatePriority,et=a.unstable_UserBlockingPriority,tt=a.unstable_NormalPriority,nt=a.unstable_LowPriority,rt=a.unstable_IdlePriority,at=null,it=null,ot=Math.clz32?Math.clz32:function(e){return 0===(e>>>=0)?32:31-(ut(e)/lt|0)|0},ut=Math.log,lt=Math.LN2,st=64,ct=4194304;function ft(e){switch(e&-e){case 1:return 1;case 2:return 2;case 4:return 4;case 8:return 8;case 16:return 16;case 32:return 32;case 64:case 128:case 256:case 512:case 1024:case 2048:case 4096:case 8192:case 16384:case 32768:case 65536:case 131072:case 262144:case 524288:case 1048576:case 2097152:return 4194240&e;case 4194304:case 8388608:case 16777216:case 33554432:case 67108864:return 130023424&e;case 134217728:return 134217728;case 268435456:return 268435456;case 536870912:return 536870912;case 1073741824:return 1073741824;default:return e}}function pt(e,t){var n=e.pendingLanes;if(0===n)return 0;var r=0,a=e.suspendedLanes,i=e.pingedLanes,o=268435455&n;if(0!==o){var u=o&~a;0!==u?r=ft(u):0!=(i&=o)&&(r=ft(i))}else 0!=(o=n&~a)?r=ft(o):0!==i&&(r=ft(i));if(0===r)return 0;if(0!==t&&t!==r&&0==(t&a)&&((a=r&-r)>=(i=t&-t)||16===a&&0!=(4194240&i)))return t;if(0!=(4&r)&&(r|=16&n),0!==(t=e.entangledLanes))for(e=e.entanglements,t&=r;0<t;)a=1<<(n=31-ot(t)),r|=e[n],t&=~a;return r}function dt(e,t){switch(e){case 1:case 2:case 4:return t+250;case 8:case 16:case 32:case 64:case 128:case 256:case 512:case 1024:case 2048:case 4096:case 8192:case 16384:case 32768:case 65536:case 131072:case 262144:case 524288:case 1048576:case 2097152:return t+5e3;default:return-1}}function ht(e){return 0!=(e=-1073741825&e.pendingLanes)?e:1073741824&e?1073741824:0}function vt(){var e=st;return 0==(4194240&(st<<=1))&&(st=64),e}function gt(e){for(var t=[],n=0;31>n;n++)t.push(e);return t}function yt(e,t,n){e.pendingLanes|=t,536870912!==t&&(e.suspendedLanes=0,e.pingedLanes=0),(e=e.eventTimes)[t=31-ot(t)]=n}function mt(e,t){var n=e.entangledLanes|=t;for(e=e.entanglements;n;){var r=31-ot(n),a=1<<r;a&t|e[r]&t&&(e[r]|=t),n&=~a}}var bt=0;function _t(e){return 1<(e&=-e)?4<e?0!=(268435455&e)?16:536870912:4:1}var wt,xt,kt,St,Et,Ct=!1,Tt=[],Mt=null,Nt=null,Pt=null,zt=new Map,Lt=new Map,Ot=[],At=\"mousedown mouseup touchcancel touchend touchstart auxclick dblclick pointercancel pointerdown pointerup dragend dragstart drop compositionend compositionstart keydown keypress keyup input textInput copy cut paste click change contextmenu reset submit\".split(\" \");function Ft(e,t){switch(e){case\"focusin\":case\"focusout\":Mt=null;break;case\"dragenter\":case\"dragleave\":Nt=null;break;case\"mouseover\":case\"mouseout\":Pt=null;break;case\"pointerover\":case\"pointerout\":zt.delete(t.pointerId);break;case\"gotpointercapture\":case\"lostpointercapture\":Lt.delete(t.pointerId)}}function Dt(e,t,n,r,a,i){return null===e||e.nativeEvent!==i?(e={blockedOn:t,domEventName:n,eventSystemFlags:r,nativeEvent:i,targetContainers:[a]},null!==t&&null!==(t=ba(t))&&xt(t),e):(e.eventSystemFlags|=r,t=e.targetContainers,null!==a&&-1===t.indexOf(a)&&t.push(a),e)}function Rt(e){var t=ma(e.target);if(null!==t){var n=Be(t);if(null!==n)if(13===(t=n.tag)){if(null!==(t=We(n)))return e.blockedOn=t,void Et(e.priority,(function(){kt(n)}))}else if(3===t&&n.stateNode.current.memoizedState.isDehydrated)return void(e.blockedOn=3===n.tag?n.stateNode.containerInfo:null)}e.blockedOn=null}function jt(e){if(null!==e.blockedOn)return!1;for(var t=e.targetContainers;0<t.length;){var n=Gt(e.domEventName,e.eventSystemFlags,t[0],e.nativeEvent);if(null!==n)return null!==(t=ba(n))&&xt(t),e.blockedOn=n,!1;var r=new(n=e.nativeEvent).constructor(n.type,n);_e=r,n.target.dispatchEvent(r),_e=null,t.shift()}return!0}function Ut(e,t,n){jt(e)&&n.delete(t)}function It(){Ct=!1,null!==Mt&&jt(Mt)&&(Mt=null),null!==Nt&&jt(Nt)&&(Nt=null),null!==Pt&&jt(Pt)&&(Pt=null),zt.forEach(Ut),Lt.forEach(Ut)}function $t(e,t){e.blockedOn===t&&(e.blockedOn=null,Ct||(Ct=!0,a.unstable_scheduleCallback(a.unstable_NormalPriority,It)))}function Bt(e){function t(t){return $t(t,e)}if(0<Tt.length){$t(Tt[0],e);for(var n=1;n<Tt.length;n++){var r=Tt[n];r.blockedOn===e&&(r.blockedOn=null)}}for(null!==Mt&&$t(Mt,e),null!==Nt&&$t(Nt,e),null!==Pt&&$t(Pt,e),zt.forEach(t),Lt.forEach(t),n=0;n<Ot.length;n++)(r=Ot[n]).blockedOn===e&&(r.blockedOn=null);for(;0<Ot.length&&null===(n=Ot[0]).blockedOn;)Rt(n),null===n.blockedOn&&Ot.shift()}var Wt=_.ReactCurrentBatchConfig,Vt=!0;function Ht(e,t,n,r){var a=bt,i=Wt.transition;Wt.transition=null;try{bt=1,Qt(e,t,n,r)}finally{bt=a,Wt.transition=i}}function qt(e,t,n,r){var a=bt,i=Wt.transition;Wt.transition=null;try{bt=4,Qt(e,t,n,r)}finally{bt=a,Wt.transition=i}}function Qt(e,t,n,r){if(Vt){var a=Gt(e,t,n,r);if(null===a)Vr(e,t,r,Yt,n),Ft(e,r);else if(function(e,t,n,r,a){switch(t){case\"focusin\":return Mt=Dt(Mt,e,t,n,r,a),!0;case\"dragenter\":return Nt=Dt(Nt,e,t,n,r,a),!0;case\"mouseover\":return Pt=Dt(Pt,e,t,n,r,a),!0;case\"pointerover\":var i=a.pointerId;return zt.set(i,Dt(zt.get(i)||null,e,t,n,r,a)),!0;case\"gotpointercapture\":return i=a.pointerId,Lt.set(i,Dt(Lt.get(i)||null,e,t,n,r,a)),!0}return!1}(a,e,t,n,r))r.stopPropagation();else if(Ft(e,r),4&t&&-1<At.indexOf(e)){for(;null!==a;){var i=ba(a);if(null!==i&&wt(i),null===(i=Gt(e,t,n,r))&&Vr(e,t,r,Yt,n),i===a)break;a=i}null!==a&&r.stopPropagation()}else Vr(e,t,r,null,n)}}var Yt=null;function Gt(e,t,n,r){if(Yt=null,null!==(e=ma(e=we(r))))if(null===(t=Be(e)))e=null;else if(13===(n=t.tag)){if(null!==(e=We(t)))return e;e=null}else if(3===n){if(t.stateNode.current.memoizedState.isDehydrated)return 3===t.tag?t.stateNode.containerInfo:null;e=null}else t!==e&&(e=null);return Yt=e,null}function Kt(e){switch(e){case\"cancel\":case\"click\":case\"close\":case\"contextmenu\":case\"copy\":case\"cut\":case\"auxclick\":case\"dblclick\":case\"dragend\":case\"dragstart\":case\"drop\":case\"focusin\":case\"focusout\":case\"input\":case\"invalid\":case\"keydown\":case\"keypress\":case\"keyup\":case\"mousedown\":case\"mouseup\":case\"paste\":case\"pause\":case\"play\":case\"pointercancel\":case\"pointerdown\":case\"pointerup\":case\"ratechange\":case\"reset\":case\"resize\":case\"seeked\":case\"submit\":case\"touchcancel\":case\"touchend\":case\"touchstart\":case\"volumechange\":case\"change\":case\"selectionchange\":case\"textInput\":case\"compositionstart\":case\"compositionend\":case\"compositionupdate\":case\"beforeblur\":case\"afterblur\":case\"beforeinput\":case\"blur\":case\"fullscreenchange\":case\"focus\":case\"hashchange\":case\"popstate\":case\"select\":case\"selectstart\":return 1;case\"drag\":case\"dragenter\":case\"dragexit\":case\"dragleave\":case\"dragover\":case\"mousemove\":case\"mouseout\":case\"mouseover\":case\"pointermove\":case\"pointerout\":case\"pointerover\":case\"scroll\":case\"toggle\":case\"touchmove\":case\"wheel\":case\"mouseenter\":case\"mouseleave\":case\"pointerenter\":case\"pointerleave\":return 4;case\"message\":switch(Xe()){case Je:return 1;case et:return 4;case tt:case nt:return 16;case rt:return 536870912;default:return 16}default:return 16}}var Zt=null,Xt=null,Jt=null;function en(){if(Jt)return Jt;var e,t,n=Xt,r=n.length,a=\"value\"in Zt?Zt.value:Zt.textContent,i=a.length;for(e=0;e<r&&n[e]===a[e];e++);var o=r-e;for(t=1;t<=o&&n[r-t]===a[i-t];t++);return Jt=a.slice(e,1<t?1-t:void 0)}function tn(e){var t=e.keyCode;return\"charCode\"in e?0===(e=e.charCode)&&13===t&&(e=13):e=t,10===e&&(e=13),32<=e||13===e?e:0}function nn(){return!0}function rn(){return!1}function an(e){function t(t,n,r,a,i){for(var o in this._reactName=t,this._targetInst=r,this.type=n,this.nativeEvent=a,this.target=i,this.currentTarget=null,e)e.hasOwnProperty(o)&&(t=e[o],this[o]=t?t(a):a[o]);return this.isDefaultPrevented=(null!=a.defaultPrevented?a.defaultPrevented:!1===a.returnValue)?nn:rn,this.isPropagationStopped=rn,this}return R(t.prototype,{preventDefault:function(){this.defaultPrevented=!0;var e=this.nativeEvent;e&&(e.preventDefault?e.preventDefault():\"unknown\"!=typeof e.returnValue&&(e.returnValue=!1),this.isDefaultPrevented=nn)},stopPropagation:function(){var e=this.nativeEvent;e&&(e.stopPropagation?e.stopPropagation():\"unknown\"!=typeof e.cancelBubble&&(e.cancelBubble=!0),this.isPropagationStopped=nn)},persist:function(){},isPersistent:nn}),t}var on,un,ln,sn={eventPhase:0,bubbles:0,cancelable:0,timeStamp:function(e){return e.timeStamp||Date.now()},defaultPrevented:0,isTrusted:0},cn=an(sn),fn=R({},sn,{view:0,detail:0}),pn=an(fn),dn=R({},fn,{screenX:0,screenY:0,clientX:0,clientY:0,pageX:0,pageY:0,ctrlKey:0,shiftKey:0,altKey:0,metaKey:0,getModifierState:En,button:0,buttons:0,relatedTarget:function(e){return void 0===e.relatedTarget?e.fromElement===e.srcElement?e.toElement:e.fromElement:e.relatedTarget},movementX:function(e){return\"movementX\"in e?e.movementX:(e!==ln&&(ln&&\"mousemove\"===e.type?(on=e.screenX-ln.screenX,un=e.screenY-ln.screenY):un=on=0,ln=e),on)},movementY:function(e){return\"movementY\"in e?e.movementY:un}}),hn=an(dn),vn=an(R({},dn,{dataTransfer:0})),gn=an(R({},fn,{relatedTarget:0})),yn=an(R({},sn,{animationName:0,elapsedTime:0,pseudoElement:0})),mn=R({},sn,{clipboardData:function(e){return\"clipboardData\"in e?e.clipboardData:window.clipboardData}}),bn=an(mn),_n=an(R({},sn,{data:0})),wn={Esc:\"Escape\",Spacebar:\" \",Left:\"ArrowLeft\",Up:\"ArrowUp\",Right:\"ArrowRight\",Down:\"ArrowDown\",Del:\"Delete\",Win:\"OS\",Menu:\"ContextMenu\",Apps:\"ContextMenu\",Scroll:\"ScrollLock\",MozPrintableKey:\"Unidentified\"},xn={8:\"Backspace\",9:\"Tab\",12:\"Clear\",13:\"Enter\",16:\"Shift\",17:\"Control\",18:\"Alt\",19:\"Pause\",20:\"CapsLock\",27:\"Escape\",32:\" \",33:\"PageUp\",34:\"PageDown\",35:\"End\",36:\"Home\",37:\"ArrowLeft\",38:\"ArrowUp\",39:\"ArrowRight\",40:\"ArrowDown\",45:\"Insert\",46:\"Delete\",112:\"F1\",113:\"F2\",114:\"F3\",115:\"F4\",116:\"F5\",117:\"F6\",118:\"F7\",119:\"F8\",120:\"F9\",121:\"F10\",122:\"F11\",123:\"F12\",144:\"NumLock\",145:\"ScrollLock\",224:\"Meta\"},kn={Alt:\"altKey\",Control:\"ctrlKey\",Meta:\"metaKey\",Shift:\"shiftKey\"};function Sn(e){var t=this.nativeEvent;return t.getModifierState?t.getModifierState(e):!!(e=kn[e])&&!!t[e]}function En(){return Sn}var Cn=R({},fn,{key:function(e){if(e.key){var t=wn[e.key]||e.key;if(\"Unidentified\"!==t)return t}return\"keypress\"===e.type?13===(e=tn(e))?\"Enter\":String.fromCharCode(e):\"keydown\"===e.type||\"keyup\"===e.type?xn[e.keyCode]||\"Unidentified\":\"\"},code:0,location:0,ctrlKey:0,shiftKey:0,altKey:0,metaKey:0,repeat:0,locale:0,getModifierState:En,charCode:function(e){return\"keypress\"===e.type?tn(e):0},keyCode:function(e){return\"keydown\"===e.type||\"keyup\"===e.type?e.keyCode:0},which:function(e){return\"keypress\"===e.type?tn(e):\"keydown\"===e.type||\"keyup\"===e.type?e.keyCode:0}}),Tn=an(Cn),Mn=an(R({},dn,{pointerId:0,width:0,height:0,pressure:0,tangentialPressure:0,tiltX:0,tiltY:0,twist:0,pointerType:0,isPrimary:0})),Nn=an(R({},fn,{touches:0,targetTouches:0,changedTouches:0,altKey:0,metaKey:0,ctrlKey:0,shiftKey:0,getModifierState:En})),Pn=an(R({},sn,{propertyName:0,elapsedTime:0,pseudoElement:0})),zn=R({},dn,{deltaX:function(e){return\"deltaX\"in e?e.deltaX:\"wheelDeltaX\"in e?-e.wheelDeltaX:0},deltaY:function(e){return\"deltaY\"in e?e.deltaY:\"wheelDeltaY\"in e?-e.wheelDeltaY:\"wheelDelta\"in e?-e.wheelDelta:0},deltaZ:0,deltaMode:0}),Ln=an(zn),On=[9,13,27,32],An=c&&\"CompositionEvent\"in window,Fn=null;c&&\"documentMode\"in document&&(Fn=document.documentMode);var Dn=c&&\"TextEvent\"in window&&!Fn,Rn=c&&(!An||Fn&&8<Fn&&11>=Fn),jn=String.fromCharCode(32),Un=!1;function In(e,t){switch(e){case\"keyup\":return-1!==On.indexOf(t.keyCode);case\"keydown\":return 229!==t.keyCode;case\"keypress\":case\"mousedown\":case\"focusout\":return!0;default:return!1}}function $n(e){return\"object\"==typeof(e=e.detail)&&\"data\"in e?e.data:null}var Bn=!1,Wn={color:!0,date:!0,datetime:!0,\"datetime-local\":!0,email:!0,month:!0,number:!0,password:!0,range:!0,search:!0,tel:!0,text:!0,time:!0,url:!0,week:!0};function Vn(e){var t=e&&e.nodeName&&e.nodeName.toLowerCase();return\"input\"===t?!!Wn[e.type]:\"textarea\"===t}function Hn(e,t,n,r){Ce(r),0<(t=qr(t,\"onChange\")).length&&(n=new cn(\"onChange\",\"change\",null,n,r),e.push({event:n,listeners:t}))}var qn=null,Qn=null;function Yn(e){jr(e,0)}function Gn(e){if(Q(_a(e)))return e}function Kn(e,t){if(\"change\"===e)return t}var Zn=!1;if(c){var Xn;if(c){var Jn=\"oninput\"in document;if(!Jn){var er=document.createElement(\"div\");er.setAttribute(\"oninput\",\"return;\"),Jn=\"function\"==typeof er.oninput}Xn=Jn}else Xn=!1;Zn=Xn&&(!document.documentMode||9<document.documentMode)}function tr(){qn&&(qn.detachEvent(\"onpropertychange\",nr),Qn=qn=null)}function nr(e){if(\"value\"===e.propertyName&&Gn(Qn)){var t=[];Hn(t,Qn,e,we(e)),ze(Yn,t)}}function rr(e,t,n){\"focusin\"===e?(tr(),Qn=n,(qn=t).attachEvent(\"onpropertychange\",nr)):\"focusout\"===e&&tr()}function ar(e){if(\"selectionchange\"===e||\"keyup\"===e||\"keydown\"===e)return Gn(Qn)}function ir(e,t){if(\"click\"===e)return Gn(t)}function or(e,t){if(\"input\"===e||\"change\"===e)return Gn(t)}var ur=\"function\"==typeof Object.is?Object.is:function(e,t){return e===t&&(0!==e||1/e==1/t)||e!=e&&t!=t};function lr(e,t){if(ur(e,t))return!0;if(\"object\"!=typeof e||null===e||\"object\"!=typeof t||null===t)return!1;var n=Object.keys(e),r=Object.keys(t);if(n.length!==r.length)return!1;for(r=0;r<n.length;r++){var a=n[r];if(!f.call(t,a)||!ur(e[a],t[a]))return!1}return!0}function sr(e){for(;e&&e.firstChild;)e=e.firstChild;return e}function cr(e,t){var n,r=sr(e);for(e=0;r;){if(3===r.nodeType){if(n=e+r.textContent.length,e<=t&&n>=t)return{node:r,offset:t-e};e=n}e:{for(;r;){if(r.nextSibling){r=r.nextSibling;break e}r=r.parentNode}r=void 0}r=sr(r)}}function fr(e,t){return!(!e||!t)&&(e===t||(!e||3!==e.nodeType)&&(t&&3===t.nodeType?fr(e,t.parentNode):\"contains\"in e?e.contains(t):!!e.compareDocumentPosition&&!!(16&e.compareDocumentPosition(t))))}function pr(){for(var e=window,t=Y();t instanceof e.HTMLIFrameElement;){try{var n=\"string\"==typeof t.contentWindow.location.href}catch(e){n=!1}if(!n)break;t=Y((e=t.contentWindow).document)}return t}function dr(e){var t=e&&e.nodeName&&e.nodeName.toLowerCase();return t&&(\"input\"===t&&(\"text\"===e.type||\"search\"===e.type||\"tel\"===e.type||\"url\"===e.type||\"password\"===e.type)||\"textarea\"===t||\"true\"===e.contentEditable)}function hr(e){var t=pr(),n=e.focusedElem,r=e.selectionRange;if(t!==n&&n&&n.ownerDocument&&fr(n.ownerDocument.documentElement,n)){if(null!==r&&dr(n))if(t=r.start,void 0===(e=r.end)&&(e=t),\"selectionStart\"in n)n.selectionStart=t,n.selectionEnd=Math.min(e,n.value.length);else if((e=(t=n.ownerDocument||document)&&t.defaultView||window).getSelection){e=e.getSelection();var a=n.textContent.length,i=Math.min(r.start,a);r=void 0===r.end?i:Math.min(r.end,a),!e.extend&&i>r&&(a=r,r=i,i=a),a=cr(n,i);var o=cr(n,r);a&&o&&(1!==e.rangeCount||e.anchorNode!==a.node||e.anchorOffset!==a.offset||e.focusNode!==o.node||e.focusOffset!==o.offset)&&((t=t.createRange()).setStart(a.node,a.offset),e.removeAllRanges(),i>r?(e.addRange(t),e.extend(o.node,o.offset)):(t.setEnd(o.node,o.offset),e.addRange(t)))}for(t=[],e=n;e=e.parentNode;)1===e.nodeType&&t.push({element:e,left:e.scrollLeft,top:e.scrollTop});for(\"function\"==typeof n.focus&&n.focus(),n=0;n<t.length;n++)(e=t[n]).element.scrollLeft=e.left,e.element.scrollTop=e.top}}var vr=c&&\"documentMode\"in document&&11>=document.documentMode,gr=null,yr=null,mr=null,br=!1;function _r(e,t,n){var r=n.window===n?n.document:9===n.nodeType?n:n.ownerDocument;br||null==gr||gr!==Y(r)||(r=\"selectionStart\"in(r=gr)&&dr(r)?{start:r.selectionStart,end:r.selectionEnd}:{anchorNode:(r=(r.ownerDocument&&r.ownerDocument.defaultView||window).getSelection()).anchorNode,anchorOffset:r.anchorOffset,focusNode:r.focusNode,focusOffset:r.focusOffset},mr&&lr(mr,r)||(mr=r,0<(r=qr(yr,\"onSelect\")).length&&(t=new cn(\"onSelect\",\"select\",null,t,n),e.push({event:t,listeners:r}),t.target=gr)))}function wr(e,t){var n={};return n[e.toLowerCase()]=t.toLowerCase(),n[\"Webkit\"+e]=\"webkit\"+t,n[\"Moz\"+e]=\"moz\"+t,n}var xr={animationend:wr(\"Animation\",\"AnimationEnd\"),animationiteration:wr(\"Animation\",\"AnimationIteration\"),animationstart:wr(\"Animation\",\"AnimationStart\"),transitionend:wr(\"Transition\",\"TransitionEnd\")},kr={},Sr={};function Er(e){if(kr[e])return kr[e];if(!xr[e])return e;var t,n=xr[e];for(t in n)if(n.hasOwnProperty(t)&&t in Sr)return kr[e]=n[t];return e}c&&(Sr=document.createElement(\"div\").style,\"AnimationEvent\"in window||(delete xr.animationend.animation,delete xr.animationiteration.animation,delete xr.animationstart.animation),\"TransitionEvent\"in window||delete xr.transitionend.transition);var Cr=Er(\"animationend\"),Tr=Er(\"animationiteration\"),Mr=Er(\"animationstart\"),Nr=Er(\"transitionend\"),Pr=new Map,zr=\"abort auxClick cancel canPlay canPlayThrough click close contextMenu copy cut drag dragEnd dragEnter dragExit dragLeave dragOver dragStart drop durationChange emptied encrypted ended error gotPointerCapture input invalid keyDown keyPress keyUp load loadedData loadedMetadata loadStart lostPointerCapture mouseDown mouseMove mouseOut mouseOver mouseUp paste pause play playing pointerCancel pointerDown pointerMove pointerOut pointerOver pointerUp progress rateChange reset resize seeked seeking stalled submit suspend timeUpdate touchCancel touchEnd touchStart volumeChange scroll toggle touchMove waiting wheel\".split(\" \");function Lr(e,t){Pr.set(e,t),l(t,[e])}for(var Or=0;Or<zr.length;Or++){var Ar=zr[Or];Lr(Ar.toLowerCase(),\"on\"+(Ar[0].toUpperCase()+Ar.slice(1)))}Lr(Cr,\"onAnimationEnd\"),Lr(Tr,\"onAnimationIteration\"),Lr(Mr,\"onAnimationStart\"),Lr(\"dblclick\",\"onDoubleClick\"),Lr(\"focusin\",\"onFocus\"),Lr(\"focusout\",\"onBlur\"),Lr(Nr,\"onTransitionEnd\"),s(\"onMouseEnter\",[\"mouseout\",\"mouseover\"]),s(\"onMouseLeave\",[\"mouseout\",\"mouseover\"]),s(\"onPointerEnter\",[\"pointerout\",\"pointerover\"]),s(\"onPointerLeave\",[\"pointerout\",\"pointerover\"]),l(\"onChange\",\"change click focusin focusout input keydown keyup selectionchange\".split(\" \")),l(\"onSelect\",\"focusout contextmenu dragend focusin keydown keyup mousedown mouseup selectionchange\".split(\" \")),l(\"onBeforeInput\",[\"compositionend\",\"keypress\",\"textInput\",\"paste\"]),l(\"onCompositionEnd\",\"compositionend focusout keydown keypress keyup mousedown\".split(\" \")),l(\"onCompositionStart\",\"compositionstart focusout keydown keypress keyup mousedown\".split(\" \")),l(\"onCompositionUpdate\",\"compositionupdate focusout keydown keypress keyup mousedown\".split(\" \"));var Fr=\"abort canplay canplaythrough durationchange emptied encrypted ended error loadeddata loadedmetadata loadstart pause play playing progress ratechange resize seeked seeking stalled suspend timeupdate volumechange waiting\".split(\" \"),Dr=new Set(\"cancel close invalid load scroll toggle\".split(\" \").concat(Fr));function Rr(e,t,n){var r=e.type||\"unknown-event\";e.currentTarget=n,function(e,t,n,r,a,o,u,l,s){if($e.apply(this,arguments),De){if(!De)throw Error(i(198));var c=Re;De=!1,Re=null,je||(je=!0,Ue=c)}}(r,t,void 0,e),e.currentTarget=null}function jr(e,t){t=0!=(4&t);for(var n=0;n<e.length;n++){var r=e[n],a=r.event;r=r.listeners;e:{var i=void 0;if(t)for(var o=r.length-1;0<=o;o--){var u=r[o],l=u.instance,s=u.currentTarget;if(u=u.listener,l!==i&&a.isPropagationStopped())break e;Rr(a,u,s),i=l}else for(o=0;o<r.length;o++){if(l=(u=r[o]).instance,s=u.currentTarget,u=u.listener,l!==i&&a.isPropagationStopped())break e;Rr(a,u,s),i=l}}}if(je)throw e=Ue,je=!1,Ue=null,e}function Ur(e,t){var n=t[va];void 0===n&&(n=t[va]=new Set);var r=e+\"__bubble\";n.has(r)||(Wr(t,e,2,!1),n.add(r))}function Ir(e,t,n){var r=0;t&&(r|=4),Wr(n,e,r,t)}var $r=\"_reactListening\"+Math.random().toString(36).slice(2);function Br(e){if(!e[$r]){e[$r]=!0,o.forEach((function(t){\"selectionchange\"!==t&&(Dr.has(t)||Ir(t,!1,e),Ir(t,!0,e))}));var t=9===e.nodeType?e:e.ownerDocument;null===t||t[$r]||(t[$r]=!0,Ir(\"selectionchange\",!1,t))}}function Wr(e,t,n,r){switch(Kt(t)){case 1:var a=Ht;break;case 4:a=qt;break;default:a=Qt}n=a.bind(null,t,n,e),a=void 0,!Oe||\"touchstart\"!==t&&\"touchmove\"!==t&&\"wheel\"!==t||(a=!0),r?void 0!==a?e.addEventListener(t,n,{capture:!0,passive:a}):e.addEventListener(t,n,!0):void 0!==a?e.addEventListener(t,n,{passive:a}):e.addEventListener(t,n,!1)}function Vr(e,t,n,r,a){var i=r;if(0==(1&t)&&0==(2&t)&&null!==r)e:for(;;){if(null===r)return;var o=r.tag;if(3===o||4===o){var u=r.stateNode.containerInfo;if(u===a||8===u.nodeType&&u.parentNode===a)break;if(4===o)for(o=r.return;null!==o;){var l=o.tag;if((3===l||4===l)&&((l=o.stateNode.containerInfo)===a||8===l.nodeType&&l.parentNode===a))return;o=o.return}for(;null!==u;){if(null===(o=ma(u)))return;if(5===(l=o.tag)||6===l){r=i=o;continue e}u=u.parentNode}}r=r.return}ze((function(){var r=i,a=we(n),o=[];e:{var u=Pr.get(e);if(void 0!==u){var l=cn,s=e;switch(e){case\"keypress\":if(0===tn(n))break e;case\"keydown\":case\"keyup\":l=Tn;break;case\"focusin\":s=\"focus\",l=gn;break;case\"focusout\":s=\"blur\",l=gn;break;case\"beforeblur\":case\"afterblur\":l=gn;break;case\"click\":if(2===n.button)break e;case\"auxclick\":case\"dblclick\":case\"mousedown\":case\"mousemove\":case\"mouseup\":case\"mouseout\":case\"mouseover\":case\"contextmenu\":l=hn;break;case\"drag\":case\"dragend\":case\"dragenter\":case\"dragexit\":case\"dragleave\":case\"dragover\":case\"dragstart\":case\"drop\":l=vn;break;case\"touchcancel\":case\"touchend\":case\"touchmove\":case\"touchstart\":l=Nn;break;case Cr:case Tr:case Mr:l=yn;break;case Nr:l=Pn;break;case\"scroll\":l=pn;break;case\"wheel\":l=Ln;break;case\"copy\":case\"cut\":case\"paste\":l=bn;break;case\"gotpointercapture\":case\"lostpointercapture\":case\"pointercancel\":case\"pointerdown\":case\"pointermove\":case\"pointerout\":case\"pointerover\":case\"pointerup\":l=Mn}var c=0!=(4&t),f=!c&&\"scroll\"===e,p=c?null!==u?u+\"Capture\":null:u;c=[];for(var d,h=r;null!==h;){var v=(d=h).stateNode;if(5===d.tag&&null!==v&&(d=v,null!==p&&null!=(v=Le(h,p))&&c.push(Hr(h,v,d))),f)break;h=h.return}0<c.length&&(u=new l(u,s,null,n,a),o.push({event:u,listeners:c}))}}if(0==(7&t)){if(l=\"mouseout\"===e||\"pointerout\"===e,(!(u=\"mouseover\"===e||\"pointerover\"===e)||n===_e||!(s=n.relatedTarget||n.fromElement)||!ma(s)&&!s[ha])&&(l||u)&&(u=a.window===a?a:(u=a.ownerDocument)?u.defaultView||u.parentWindow:window,l?(l=r,null!==(s=(s=n.relatedTarget||n.toElement)?ma(s):null)&&(s!==(f=Be(s))||5!==s.tag&&6!==s.tag)&&(s=null)):(l=null,s=r),l!==s)){if(c=hn,v=\"onMouseLeave\",p=\"onMouseEnter\",h=\"mouse\",\"pointerout\"!==e&&\"pointerover\"!==e||(c=Mn,v=\"onPointerLeave\",p=\"onPointerEnter\",h=\"pointer\"),f=null==l?u:_a(l),d=null==s?u:_a(s),(u=new c(v,h+\"leave\",l,n,a)).target=f,u.relatedTarget=d,v=null,ma(a)===r&&((c=new c(p,h+\"enter\",s,n,a)).target=d,c.relatedTarget=f,v=c),f=v,l&&s)e:{for(p=s,h=0,d=c=l;d;d=Qr(d))h++;for(d=0,v=p;v;v=Qr(v))d++;for(;0<h-d;)c=Qr(c),h--;for(;0<d-h;)p=Qr(p),d--;for(;h--;){if(c===p||null!==p&&c===p.alternate)break e;c=Qr(c),p=Qr(p)}c=null}else c=null;null!==l&&Yr(o,u,l,c,!1),null!==s&&null!==f&&Yr(o,f,s,c,!0)}if(\"select\"===(l=(u=r?_a(r):window).nodeName&&u.nodeName.toLowerCase())||\"input\"===l&&\"file\"===u.type)var g=Kn;else if(Vn(u))if(Zn)g=or;else{g=ar;var y=rr}else(l=u.nodeName)&&\"input\"===l.toLowerCase()&&(\"checkbox\"===u.type||\"radio\"===u.type)&&(g=ir);switch(g&&(g=g(e,r))?Hn(o,g,n,a):(y&&y(e,u,r),\"focusout\"===e&&(y=u._wrapperState)&&y.controlled&&\"number\"===u.type&&ee(u,\"number\",u.value)),y=r?_a(r):window,e){case\"focusin\":(Vn(y)||\"true\"===y.contentEditable)&&(gr=y,yr=r,mr=null);break;case\"focusout\":mr=yr=gr=null;break;case\"mousedown\":br=!0;break;case\"contextmenu\":case\"mouseup\":case\"dragend\":br=!1,_r(o,n,a);break;case\"selectionchange\":if(vr)break;case\"keydown\":case\"keyup\":_r(o,n,a)}var m;if(An)e:{switch(e){case\"compositionstart\":var b=\"onCompositionStart\";break e;case\"compositionend\":b=\"onCompositionEnd\";break e;case\"compositionupdate\":b=\"onCompositionUpdate\";break e}b=void 0}else Bn?In(e,n)&&(b=\"onCompositionEnd\"):\"keydown\"===e&&229===n.keyCode&&(b=\"onCompositionStart\");b&&(Rn&&\"ko\"!==n.locale&&(Bn||\"onCompositionStart\"!==b?\"onCompositionEnd\"===b&&Bn&&(m=en()):(Xt=\"value\"in(Zt=a)?Zt.value:Zt.textContent,Bn=!0)),0<(y=qr(r,b)).length&&(b=new _n(b,e,null,n,a),o.push({event:b,listeners:y}),(m||null!==(m=$n(n)))&&(b.data=m))),(m=Dn?function(e,t){switch(e){case\"compositionend\":return $n(t);case\"keypress\":return 32!==t.which?null:(Un=!0,jn);case\"textInput\":return(e=t.data)===jn&&Un?null:e;default:return null}}(e,n):function(e,t){if(Bn)return\"compositionend\"===e||!An&&In(e,t)?(e=en(),Jt=Xt=Zt=null,Bn=!1,e):null;switch(e){case\"paste\":default:return null;case\"keypress\":if(!(t.ctrlKey||t.altKey||t.metaKey)||t.ctrlKey&&t.altKey){if(t.char&&1<t.char.length)return t.char;if(t.which)return String.fromCharCode(t.which)}return null;case\"compositionend\":return Rn&&\"ko\"!==t.locale?null:t.data}}(e,n))&&0<(r=qr(r,\"onBeforeInput\")).length&&(a=new _n(\"onBeforeInput\",\"beforeinput\",null,n,a),o.push({event:a,listeners:r}),a.data=m)}jr(o,t)}))}function Hr(e,t,n){return{instance:e,listener:t,currentTarget:n}}function qr(e,t){for(var n=t+\"Capture\",r=[];null!==e;){var a=e,i=a.stateNode;5===a.tag&&null!==i&&(a=i,null!=(i=Le(e,n))&&r.unshift(Hr(e,i,a)),null!=(i=Le(e,t))&&r.push(Hr(e,i,a))),e=e.return}return r}function Qr(e){if(null===e)return null;do{e=e.return}while(e&&5!==e.tag);return e||null}function Yr(e,t,n,r,a){for(var i=t._reactName,o=[];null!==n&&n!==r;){var u=n,l=u.alternate,s=u.stateNode;if(null!==l&&l===r)break;5===u.tag&&null!==s&&(u=s,a?null!=(l=Le(n,i))&&o.unshift(Hr(n,l,u)):a||null!=(l=Le(n,i))&&o.push(Hr(n,l,u))),n=n.return}0!==o.length&&e.push({event:t,listeners:o})}var Gr=/\\r\\n?/g,Kr=/\\u0000|\\uFFFD/g;function Zr(e){return(\"string\"==typeof e?e:\"\"+e).replace(Gr,\"\\n\").replace(Kr,\"\")}function Xr(e,t,n){if(t=Zr(t),Zr(e)!==t&&n)throw Error(i(425))}function Jr(){}var ea=null,ta=null;function na(e,t){return\"textarea\"===e||\"noscript\"===e||\"string\"==typeof t.children||\"number\"==typeof t.children||\"object\"==typeof t.dangerouslySetInnerHTML&&null!==t.dangerouslySetInnerHTML&&null!=t.dangerouslySetInnerHTML.__html}var ra=\"function\"==typeof setTimeout?setTimeout:void 0,aa=\"function\"==typeof clearTimeout?clearTimeout:void 0,ia=\"function\"==typeof Promise?Promise:void 0,oa=\"function\"==typeof queueMicrotask?queueMicrotask:void 0!==ia?function(e){return ia.resolve(null).then(e).catch(ua)}:ra;function ua(e){setTimeout((function(){throw e}))}function la(e,t){var n=t,r=0;do{var a=n.nextSibling;if(e.removeChild(n),a&&8===a.nodeType)if(\"/$\"===(n=a.data)){if(0===r)return e.removeChild(a),void Bt(t);r--}else\"$\"!==n&&\"$?\"!==n&&\"$!\"!==n||r++;n=a}while(n);Bt(t)}function sa(e){for(;null!=e;e=e.nextSibling){var t=e.nodeType;if(1===t||3===t)break;if(8===t){if(\"$\"===(t=e.data)||\"$!\"===t||\"$?\"===t)break;if(\"/$\"===t)return null}}return e}function ca(e){e=e.previousSibling;for(var t=0;e;){if(8===e.nodeType){var n=e.data;if(\"$\"===n||\"$!\"===n||\"$?\"===n){if(0===t)return e;t--}else\"/$\"===n&&t++}e=e.previousSibling}return null}var fa=Math.random().toString(36).slice(2),pa=\"__reactFiber$\"+fa,da=\"__reactProps$\"+fa,ha=\"__reactContainer$\"+fa,va=\"__reactEvents$\"+fa,ga=\"__reactListeners$\"+fa,ya=\"__reactHandles$\"+fa;function ma(e){var t=e[pa];if(t)return t;for(var n=e.parentNode;n;){if(t=n[ha]||n[pa]){if(n=t.alternate,null!==t.child||null!==n&&null!==n.child)for(e=ca(e);null!==e;){if(n=e[pa])return n;e=ca(e)}return t}n=(e=n).parentNode}return null}function ba(e){return!(e=e[pa]||e[ha])||5!==e.tag&&6!==e.tag&&13!==e.tag&&3!==e.tag?null:e}function _a(e){if(5===e.tag||6===e.tag)return e.stateNode;throw Error(i(33))}function wa(e){return e[da]||null}var xa=[],ka=-1;function Sa(e){return{current:e}}function Ea(e){0>ka||(e.current=xa[ka],xa[ka]=null,ka--)}function Ca(e,t){ka++,xa[ka]=e.current,e.current=t}var Ta={},Ma=Sa(Ta),Na=Sa(!1),Pa=Ta;function za(e,t){var n=e.type.contextTypes;if(!n)return Ta;var r=e.stateNode;if(r&&r.__reactInternalMemoizedUnmaskedChildContext===t)return r.__reactInternalMemoizedMaskedChildContext;var a,i={};for(a in n)i[a]=t[a];return r&&((e=e.stateNode).__reactInternalMemoizedUnmaskedChildContext=t,e.__reactInternalMemoizedMaskedChildContext=i),i}function La(e){return null!=e.childContextTypes}function Oa(){Ea(Na),Ea(Ma)}function Aa(e,t,n){if(Ma.current!==Ta)throw Error(i(168));Ca(Ma,t),Ca(Na,n)}function Fa(e,t,n){var r=e.stateNode;if(t=t.childContextTypes,\"function\"!=typeof r.getChildContext)return n;for(var a in r=r.getChildContext())if(!(a in t))throw Error(i(108,W(e)||\"Unknown\",a));return R({},n,r)}function Da(e){return e=(e=e.stateNode)&&e.__reactInternalMemoizedMergedChildContext||Ta,Pa=Ma.current,Ca(Ma,e),Ca(Na,Na.current),!0}function Ra(e,t,n){var r=e.stateNode;if(!r)throw Error(i(169));n?(e=Fa(e,t,Pa),r.__reactInternalMemoizedMergedChildContext=e,Ea(Na),Ea(Ma),Ca(Ma,e)):Ea(Na),Ca(Na,n)}var ja=null,Ua=!1,Ia=!1;function $a(e){null===ja?ja=[e]:ja.push(e)}function Ba(){if(!Ia&&null!==ja){Ia=!0;var e=0,t=bt;try{var n=ja;for(bt=1;e<n.length;e++){var r=n[e];do{r=r(!0)}while(null!==r)}ja=null,Ua=!1}catch(t){throw null!==ja&&(ja=ja.slice(e+1)),Qe(Je,Ba),t}finally{bt=t,Ia=!1}}return null}var Wa=[],Va=0,Ha=null,qa=0,Qa=[],Ya=0,Ga=null,Ka=1,Za=\"\";function Xa(e,t){Wa[Va++]=qa,Wa[Va++]=Ha,Ha=e,qa=t}function Ja(e,t,n){Qa[Ya++]=Ka,Qa[Ya++]=Za,Qa[Ya++]=Ga,Ga=e;var r=Ka;e=Za;var a=32-ot(r)-1;r&=~(1<<a),n+=1;var i=32-ot(t)+a;if(30<i){var o=a-a%5;i=(r&(1<<o)-1).toString(32),r>>=o,a-=o,Ka=1<<32-ot(t)+a|n<<a|r,Za=i+e}else Ka=1<<i|n<<a|r,Za=e}function ei(e){null!==e.return&&(Xa(e,1),Ja(e,1,0))}function ti(e){for(;e===Ha;)Ha=Wa[--Va],Wa[Va]=null,qa=Wa[--Va],Wa[Va]=null;for(;e===Ga;)Ga=Qa[--Ya],Qa[Ya]=null,Za=Qa[--Ya],Qa[Ya]=null,Ka=Qa[--Ya],Qa[Ya]=null}var ni=null,ri=null,ai=!1,ii=null;function oi(e,t){var n=Ls(5,null,null,0);n.elementType=\"DELETED\",n.stateNode=t,n.return=e,null===(t=e.deletions)?(e.deletions=[n],e.flags|=16):t.push(n)}function ui(e,t){switch(e.tag){case 5:var n=e.type;return null!==(t=1!==t.nodeType||n.toLowerCase()!==t.nodeName.toLowerCase()?null:t)&&(e.stateNode=t,ni=e,ri=sa(t.firstChild),!0);case 6:return null!==(t=\"\"===e.pendingProps||3!==t.nodeType?null:t)&&(e.stateNode=t,ni=e,ri=null,!0);case 13:return null!==(t=8!==t.nodeType?null:t)&&(n=null!==Ga?{id:Ka,overflow:Za}:null,e.memoizedState={dehydrated:t,treeContext:n,retryLane:1073741824},(n=Ls(18,null,null,0)).stateNode=t,n.return=e,e.child=n,ni=e,ri=null,!0);default:return!1}}function li(e){return 0!=(1&e.mode)&&0==(128&e.flags)}function si(e){if(ai){var t=ri;if(t){var n=t;if(!ui(e,t)){if(li(e))throw Error(i(418));t=sa(n.nextSibling);var r=ni;t&&ui(e,t)?oi(r,n):(e.flags=-4097&e.flags|2,ai=!1,ni=e)}}else{if(li(e))throw Error(i(418));e.flags=-4097&e.flags|2,ai=!1,ni=e}}}function ci(e){for(e=e.return;null!==e&&5!==e.tag&&3!==e.tag&&13!==e.tag;)e=e.return;ni=e}function fi(e){if(e!==ni)return!1;if(!ai)return ci(e),ai=!0,!1;var t;if((t=3!==e.tag)&&!(t=5!==e.tag)&&(t=\"head\"!==(t=e.type)&&\"body\"!==t&&!na(e.type,e.memoizedProps)),t&&(t=ri)){if(li(e))throw pi(),Error(i(418));for(;t;)oi(e,t),t=sa(t.nextSibling)}if(ci(e),13===e.tag){if(!(e=null!==(e=e.memoizedState)?e.dehydrated:null))throw Error(i(317));e:{for(e=e.nextSibling,t=0;e;){if(8===e.nodeType){var n=e.data;if(\"/$\"===n){if(0===t){ri=sa(e.nextSibling);break e}t--}else\"$\"!==n&&\"$!\"!==n&&\"$?\"!==n||t++}e=e.nextSibling}ri=null}}else ri=ni?sa(e.stateNode.nextSibling):null;return!0}function pi(){for(var e=ri;e;)e=sa(e.nextSibling)}function di(){ri=ni=null,ai=!1}function hi(e){null===ii?ii=[e]:ii.push(e)}var vi=_.ReactCurrentBatchConfig;function gi(e,t){if(e&&e.defaultProps){for(var n in t=R({},t),e=e.defaultProps)void 0===t[n]&&(t[n]=e[n]);return t}return t}var yi=Sa(null),mi=null,bi=null,_i=null;function wi(){_i=bi=mi=null}function xi(e){var t=yi.current;Ea(yi),e._currentValue=t}function ki(e,t,n){for(;null!==e;){var r=e.alternate;if((e.childLanes&t)!==t?(e.childLanes|=t,null!==r&&(r.childLanes|=t)):null!==r&&(r.childLanes&t)!==t&&(r.childLanes|=t),e===n)break;e=e.return}}function Si(e,t){mi=e,_i=bi=null,null!==(e=e.dependencies)&&null!==e.firstContext&&(0!=(e.lanes&t)&&(_u=!0),e.firstContext=null)}function Ei(e){var t=e._currentValue;if(_i!==e)if(e={context:e,memoizedValue:t,next:null},null===bi){if(null===mi)throw Error(i(308));bi=e,mi.dependencies={lanes:0,firstContext:e}}else bi=bi.next=e;return t}var Ci=null;function Ti(e){null===Ci?Ci=[e]:Ci.push(e)}function Mi(e,t,n,r){var a=t.interleaved;return null===a?(n.next=n,Ti(t)):(n.next=a.next,a.next=n),t.interleaved=n,Ni(e,r)}function Ni(e,t){e.lanes|=t;var n=e.alternate;for(null!==n&&(n.lanes|=t),n=e,e=e.return;null!==e;)e.childLanes|=t,null!==(n=e.alternate)&&(n.childLanes|=t),n=e,e=e.return;return 3===n.tag?n.stateNode:null}var Pi=!1;function zi(e){e.updateQueue={baseState:e.memoizedState,firstBaseUpdate:null,lastBaseUpdate:null,shared:{pending:null,interleaved:null,lanes:0},effects:null}}function Li(e,t){e=e.updateQueue,t.updateQueue===e&&(t.updateQueue={baseState:e.baseState,firstBaseUpdate:e.firstBaseUpdate,lastBaseUpdate:e.lastBaseUpdate,shared:e.shared,effects:e.effects})}function Oi(e,t){return{eventTime:e,lane:t,tag:0,payload:null,callback:null,next:null}}function Ai(e,t,n){var r=e.updateQueue;if(null===r)return null;if(r=r.shared,0!=(2&Nl)){var a=r.pending;return null===a?t.next=t:(t.next=a.next,a.next=t),r.pending=t,Ni(e,n)}return null===(a=r.interleaved)?(t.next=t,Ti(r)):(t.next=a.next,a.next=t),r.interleaved=t,Ni(e,n)}function Fi(e,t,n){if(null!==(t=t.updateQueue)&&(t=t.shared,0!=(4194240&n))){var r=t.lanes;n|=r&=e.pendingLanes,t.lanes=n,mt(e,n)}}function Di(e,t){var n=e.updateQueue,r=e.alternate;if(null!==r&&n===(r=r.updateQueue)){var a=null,i=null;if(null!==(n=n.firstBaseUpdate)){do{var o={eventTime:n.eventTime,lane:n.lane,tag:n.tag,payload:n.payload,callback:n.callback,next:null};null===i?a=i=o:i=i.next=o,n=n.next}while(null!==n);null===i?a=i=t:i=i.next=t}else a=i=t;return n={baseState:r.baseState,firstBaseUpdate:a,lastBaseUpdate:i,shared:r.shared,effects:r.effects},void(e.updateQueue=n)}null===(e=n.lastBaseUpdate)?n.firstBaseUpdate=t:e.next=t,n.lastBaseUpdate=t}function Ri(e,t,n,r){var a=e.updateQueue;Pi=!1;var i=a.firstBaseUpdate,o=a.lastBaseUpdate,u=a.shared.pending;if(null!==u){a.shared.pending=null;var l=u,s=l.next;l.next=null,null===o?i=s:o.next=s,o=l;var c=e.alternate;null!==c&&(u=(c=c.updateQueue).lastBaseUpdate)!==o&&(null===u?c.firstBaseUpdate=s:u.next=s,c.lastBaseUpdate=l)}if(null!==i){var f=a.baseState;for(o=0,c=s=l=null,u=i;;){var p=u.lane,d=u.eventTime;if((r&p)===p){null!==c&&(c=c.next={eventTime:d,lane:0,tag:u.tag,payload:u.payload,callback:u.callback,next:null});e:{var h=e,v=u;switch(p=t,d=n,v.tag){case 1:if(\"function\"==typeof(h=v.payload)){f=h.call(d,f,p);break e}f=h;break e;case 3:h.flags=-65537&h.flags|128;case 0:if(null==(p=\"function\"==typeof(h=v.payload)?h.call(d,f,p):h))break e;f=R({},f,p);break e;case 2:Pi=!0}}null!==u.callback&&0!==u.lane&&(e.flags|=64,null===(p=a.effects)?a.effects=[u]:p.push(u))}else d={eventTime:d,lane:p,tag:u.tag,payload:u.payload,callback:u.callback,next:null},null===c?(s=c=d,l=f):c=c.next=d,o|=p;if(null===(u=u.next)){if(null===(u=a.shared.pending))break;u=(p=u).next,p.next=null,a.lastBaseUpdate=p,a.shared.pending=null}}if(null===c&&(l=f),a.baseState=l,a.firstBaseUpdate=s,a.lastBaseUpdate=c,null!==(t=a.shared.interleaved)){a=t;do{o|=a.lane,a=a.next}while(a!==t)}else null===i&&(a.shared.lanes=0);Rl|=o,e.lanes=o,e.memoizedState=f}}function ji(e,t,n){if(e=t.effects,t.effects=null,null!==e)for(t=0;t<e.length;t++){var r=e[t],a=r.callback;if(null!==a){if(r.callback=null,r=n,\"function\"!=typeof a)throw Error(i(191,a));a.call(r)}}}var Ui=(new r.Component).refs;function Ii(e,t,n,r){n=null==(n=n(r,t=e.memoizedState))?t:R({},t,n),e.memoizedState=n,0===e.lanes&&(e.updateQueue.baseState=n)}var $i={isMounted:function(e){return!!(e=e._reactInternals)&&Be(e)===e},enqueueSetState:function(e,t,n){e=e._reactInternals;var r=ts(),a=ns(e),i=Oi(r,a);i.payload=t,null!=n&&(i.callback=n),null!==(t=Ai(e,i,a))&&(rs(t,e,a,r),Fi(t,e,a))},enqueueReplaceState:function(e,t,n){e=e._reactInternals;var r=ts(),a=ns(e),i=Oi(r,a);i.tag=1,i.payload=t,null!=n&&(i.callback=n),null!==(t=Ai(e,i,a))&&(rs(t,e,a,r),Fi(t,e,a))},enqueueForceUpdate:function(e,t){e=e._reactInternals;var n=ts(),r=ns(e),a=Oi(n,r);a.tag=2,null!=t&&(a.callback=t),null!==(t=Ai(e,a,r))&&(rs(t,e,r,n),Fi(t,e,r))}};function Bi(e,t,n,r,a,i,o){return\"function\"==typeof(e=e.stateNode).shouldComponentUpdate?e.shouldComponentUpdate(r,i,o):!(t.prototype&&t.prototype.isPureReactComponent&&lr(n,r)&&lr(a,i))}function Wi(e,t,n){var r=!1,a=Ta,i=t.contextType;return\"object\"==typeof i&&null!==i?i=Ei(i):(a=La(t)?Pa:Ma.current,i=(r=null!=(r=t.contextTypes))?za(e,a):Ta),t=new t(n,i),e.memoizedState=null!==t.state&&void 0!==t.state?t.state:null,t.updater=$i,e.stateNode=t,t._reactInternals=e,r&&((e=e.stateNode).__reactInternalMemoizedUnmaskedChildContext=a,e.__reactInternalMemoizedMaskedChildContext=i),t}function Vi(e,t,n,r){e=t.state,\"function\"==typeof t.componentWillReceiveProps&&t.componentWillReceiveProps(n,r),\"function\"==typeof t.UNSAFE_componentWillReceiveProps&&t.UNSAFE_componentWillReceiveProps(n,r),t.state!==e&&$i.enqueueReplaceState(t,t.state,null)}function Hi(e,t,n,r){var a=e.stateNode;a.props=n,a.state=e.memoizedState,a.refs=Ui,zi(e);var i=t.contextType;\"object\"==typeof i&&null!==i?a.context=Ei(i):(i=La(t)?Pa:Ma.current,a.context=za(e,i)),a.state=e.memoizedState,\"function\"==typeof(i=t.getDerivedStateFromProps)&&(Ii(e,t,i,n),a.state=e.memoizedState),\"function\"==typeof t.getDerivedStateFromProps||\"function\"==typeof a.getSnapshotBeforeUpdate||\"function\"!=typeof a.UNSAFE_componentWillMount&&\"function\"!=typeof a.componentWillMount||(t=a.state,\"function\"==typeof a.componentWillMount&&a.componentWillMount(),\"function\"==typeof a.UNSAFE_componentWillMount&&a.UNSAFE_componentWillMount(),t!==a.state&&$i.enqueueReplaceState(a,a.state,null),Ri(e,n,a,r),a.state=e.memoizedState),\"function\"==typeof a.componentDidMount&&(e.flags|=4194308)}function qi(e,t,n){if(null!==(e=n.ref)&&\"function\"!=typeof e&&\"object\"!=typeof e){if(n._owner){if(n=n._owner){if(1!==n.tag)throw Error(i(309));var r=n.stateNode}if(!r)throw Error(i(147,e));var a=r,o=\"\"+e;return null!==t&&null!==t.ref&&\"function\"==typeof t.ref&&t.ref._stringRef===o?t.ref:(t=function(e){var t=a.refs;t===Ui&&(t=a.refs={}),null===e?delete t[o]:t[o]=e},t._stringRef=o,t)}if(\"string\"!=typeof e)throw Error(i(284));if(!n._owner)throw Error(i(290,e))}return e}function Qi(e,t){throw e=Object.prototype.toString.call(t),Error(i(31,\"[object Object]\"===e?\"object with keys {\"+Object.keys(t).join(\", \")+\"}\":e))}function Yi(e){return(0,e._init)(e._payload)}function Gi(e){function t(t,n){if(e){var r=t.deletions;null===r?(t.deletions=[n],t.flags|=16):r.push(n)}}function n(n,r){if(!e)return null;for(;null!==r;)t(n,r),r=r.sibling;return null}function r(e,t){for(e=new Map;null!==t;)null!==t.key?e.set(t.key,t):e.set(t.index,t),t=t.sibling;return e}function a(e,t){return(e=As(e,t)).index=0,e.sibling=null,e}function o(t,n,r){return t.index=r,e?null!==(r=t.alternate)?(r=r.index)<n?(t.flags|=2,n):r:(t.flags|=2,n):(t.flags|=1048576,n)}function u(t){return e&&null===t.alternate&&(t.flags|=2),t}function l(e,t,n,r){return null===t||6!==t.tag?((t=js(n,e.mode,r)).return=e,t):((t=a(t,n)).return=e,t)}function s(e,t,n,r){var i=n.type;return i===k?f(e,t,n.props.children,r,n.key):null!==t&&(t.elementType===i||\"object\"==typeof i&&null!==i&&i.$$typeof===L&&Yi(i)===t.type)?((r=a(t,n.props)).ref=qi(e,t,n),r.return=e,r):((r=Fs(n.type,n.key,n.props,null,e.mode,r)).ref=qi(e,t,n),r.return=e,r)}function c(e,t,n,r){return null===t||4!==t.tag||t.stateNode.containerInfo!==n.containerInfo||t.stateNode.implementation!==n.implementation?((t=Us(n,e.mode,r)).return=e,t):((t=a(t,n.children||[])).return=e,t)}function f(e,t,n,r,i){return null===t||7!==t.tag?((t=Ds(n,e.mode,r,i)).return=e,t):((t=a(t,n)).return=e,t)}function p(e,t,n){if(\"string\"==typeof t&&\"\"!==t||\"number\"==typeof t)return(t=js(\"\"+t,e.mode,n)).return=e,t;if(\"object\"==typeof t&&null!==t){switch(t.$$typeof){case w:return(n=Fs(t.type,t.key,t.props,null,e.mode,n)).ref=qi(e,null,t),n.return=e,n;case x:return(t=Us(t,e.mode,n)).return=e,t;case L:return p(e,(0,t._init)(t._payload),n)}if(te(t)||F(t))return(t=Ds(t,e.mode,n,null)).return=e,t;Qi(e,t)}return null}function d(e,t,n,r){var a=null!==t?t.key:null;if(\"string\"==typeof n&&\"\"!==n||\"number\"==typeof n)return null!==a?null:l(e,t,\"\"+n,r);if(\"object\"==typeof n&&null!==n){switch(n.$$typeof){case w:return n.key===a?s(e,t,n,r):null;case x:return n.key===a?c(e,t,n,r):null;case L:return d(e,t,(a=n._init)(n._payload),r)}if(te(n)||F(n))return null!==a?null:f(e,t,n,r,null);Qi(e,n)}return null}function h(e,t,n,r,a){if(\"string\"==typeof r&&\"\"!==r||\"number\"==typeof r)return l(t,e=e.get(n)||null,\"\"+r,a);if(\"object\"==typeof r&&null!==r){switch(r.$$typeof){case w:return s(t,e=e.get(null===r.key?n:r.key)||null,r,a);case x:return c(t,e=e.get(null===r.key?n:r.key)||null,r,a);case L:return h(e,t,n,(0,r._init)(r._payload),a)}if(te(r)||F(r))return f(t,e=e.get(n)||null,r,a,null);Qi(t,r)}return null}function v(a,i,u,l){for(var s=null,c=null,f=i,v=i=0,g=null;null!==f&&v<u.length;v++){f.index>v?(g=f,f=null):g=f.sibling;var y=d(a,f,u[v],l);if(null===y){null===f&&(f=g);break}e&&f&&null===y.alternate&&t(a,f),i=o(y,i,v),null===c?s=y:c.sibling=y,c=y,f=g}if(v===u.length)return n(a,f),ai&&Xa(a,v),s;if(null===f){for(;v<u.length;v++)null!==(f=p(a,u[v],l))&&(i=o(f,i,v),null===c?s=f:c.sibling=f,c=f);return ai&&Xa(a,v),s}for(f=r(a,f);v<u.length;v++)null!==(g=h(f,a,v,u[v],l))&&(e&&null!==g.alternate&&f.delete(null===g.key?v:g.key),i=o(g,i,v),null===c?s=g:c.sibling=g,c=g);return e&&f.forEach((function(e){return t(a,e)})),ai&&Xa(a,v),s}function g(a,u,l,s){var c=F(l);if(\"function\"!=typeof c)throw Error(i(150));if(null==(l=c.call(l)))throw Error(i(151));for(var f=c=null,v=u,g=u=0,y=null,m=l.next();null!==v&&!m.done;g++,m=l.next()){v.index>g?(y=v,v=null):y=v.sibling;var b=d(a,v,m.value,s);if(null===b){null===v&&(v=y);break}e&&v&&null===b.alternate&&t(a,v),u=o(b,u,g),null===f?c=b:f.sibling=b,f=b,v=y}if(m.done)return n(a,v),ai&&Xa(a,g),c;if(null===v){for(;!m.done;g++,m=l.next())null!==(m=p(a,m.value,s))&&(u=o(m,u,g),null===f?c=m:f.sibling=m,f=m);return ai&&Xa(a,g),c}for(v=r(a,v);!m.done;g++,m=l.next())null!==(m=h(v,a,g,m.value,s))&&(e&&null!==m.alternate&&v.delete(null===m.key?g:m.key),u=o(m,u,g),null===f?c=m:f.sibling=m,f=m);return e&&v.forEach((function(e){return t(a,e)})),ai&&Xa(a,g),c}return function e(r,i,o,l){if(\"object\"==typeof o&&null!==o&&o.type===k&&null===o.key&&(o=o.props.children),\"object\"==typeof o&&null!==o){switch(o.$$typeof){case w:e:{for(var s=o.key,c=i;null!==c;){if(c.key===s){if((s=o.type)===k){if(7===c.tag){n(r,c.sibling),(i=a(c,o.props.children)).return=r,r=i;break e}}else if(c.elementType===s||\"object\"==typeof s&&null!==s&&s.$$typeof===L&&Yi(s)===c.type){n(r,c.sibling),(i=a(c,o.props)).ref=qi(r,c,o),i.return=r,r=i;break e}n(r,c);break}t(r,c),c=c.sibling}o.type===k?((i=Ds(o.props.children,r.mode,l,o.key)).return=r,r=i):((l=Fs(o.type,o.key,o.props,null,r.mode,l)).ref=qi(r,i,o),l.return=r,r=l)}return u(r);case x:e:{for(c=o.key;null!==i;){if(i.key===c){if(4===i.tag&&i.stateNode.containerInfo===o.containerInfo&&i.stateNode.implementation===o.implementation){n(r,i.sibling),(i=a(i,o.children||[])).return=r,r=i;break e}n(r,i);break}t(r,i),i=i.sibling}(i=Us(o,r.mode,l)).return=r,r=i}return u(r);case L:return e(r,i,(c=o._init)(o._payload),l)}if(te(o))return v(r,i,o,l);if(F(o))return g(r,i,o,l);Qi(r,o)}return\"string\"==typeof o&&\"\"!==o||\"number\"==typeof o?(o=\"\"+o,null!==i&&6===i.tag?(n(r,i.sibling),(i=a(i,o)).return=r,r=i):(n(r,i),(i=js(o,r.mode,l)).return=r,r=i),u(r)):n(r,i)}}var Ki=Gi(!0),Zi=Gi(!1),Xi={},Ji=Sa(Xi),eo=Sa(Xi),to=Sa(Xi);function no(e){if(e===Xi)throw Error(i(174));return e}function ro(e,t){switch(Ca(to,t),Ca(eo,e),Ca(Ji,Xi),e=t.nodeType){case 9:case 11:t=(t=t.documentElement)?t.namespaceURI:le(null,\"\");break;default:t=le(t=(e=8===e?t.parentNode:t).namespaceURI||null,e=e.tagName)}Ea(Ji),Ca(Ji,t)}function ao(){Ea(Ji),Ea(eo),Ea(to)}function io(e){no(to.current);var t=no(Ji.current),n=le(t,e.type);t!==n&&(Ca(eo,e),Ca(Ji,n))}function oo(e){eo.current===e&&(Ea(Ji),Ea(eo))}var uo=Sa(0);function lo(e){for(var t=e;null!==t;){if(13===t.tag){var n=t.memoizedState;if(null!==n&&(null===(n=n.dehydrated)||\"$?\"===n.data||\"$!\"===n.data))return t}else if(19===t.tag&&void 0!==t.memoizedProps.revealOrder){if(0!=(128&t.flags))return t}else if(null!==t.child){t.child.return=t,t=t.child;continue}if(t===e)break;for(;null===t.sibling;){if(null===t.return||t.return===e)return null;t=t.return}t.sibling.return=t.return,t=t.sibling}return null}var so=[];function co(){for(var e=0;e<so.length;e++)so[e]._workInProgressVersionPrimary=null;so.length=0}var fo=_.ReactCurrentDispatcher,po=_.ReactCurrentBatchConfig,ho=0,vo=null,go=null,yo=null,mo=!1,bo=!1,_o=0,wo=0;function xo(){throw Error(i(321))}function ko(e,t){if(null===t)return!1;for(var n=0;n<t.length&&n<e.length;n++)if(!ur(e[n],t[n]))return!1;return!0}function So(e,t,n,r,a,o){if(ho=o,vo=t,t.memoizedState=null,t.updateQueue=null,t.lanes=0,fo.current=null===e||null===e.memoizedState?uu:lu,e=n(r,a),bo){o=0;do{if(bo=!1,_o=0,25<=o)throw Error(i(301));o+=1,yo=go=null,t.updateQueue=null,fo.current=su,e=n(r,a)}while(bo)}if(fo.current=ou,t=null!==go&&null!==go.next,ho=0,yo=go=vo=null,mo=!1,t)throw Error(i(300));return e}function Eo(){var e=0!==_o;return _o=0,e}function Co(){var e={memoizedState:null,baseState:null,baseQueue:null,queue:null,next:null};return null===yo?vo.memoizedState=yo=e:yo=yo.next=e,yo}function To(){if(null===go){var e=vo.alternate;e=null!==e?e.memoizedState:null}else e=go.next;var t=null===yo?vo.memoizedState:yo.next;if(null!==t)yo=t,go=e;else{if(null===e)throw Error(i(310));e={memoizedState:(go=e).memoizedState,baseState:go.baseState,baseQueue:go.baseQueue,queue:go.queue,next:null},null===yo?vo.memoizedState=yo=e:yo=yo.next=e}return yo}function Mo(e,t){return\"function\"==typeof t?t(e):t}function No(e){var t=To(),n=t.queue;if(null===n)throw Error(i(311));n.lastRenderedReducer=e;var r=go,a=r.baseQueue,o=n.pending;if(null!==o){if(null!==a){var u=a.next;a.next=o.next,o.next=u}r.baseQueue=a=o,n.pending=null}if(null!==a){o=a.next,r=r.baseState;var l=u=null,s=null,c=o;do{var f=c.lane;if((ho&f)===f)null!==s&&(s=s.next={lane:0,action:c.action,hasEagerState:c.hasEagerState,eagerState:c.eagerState,next:null}),r=c.hasEagerState?c.eagerState:e(r,c.action);else{var p={lane:f,action:c.action,hasEagerState:c.hasEagerState,eagerState:c.eagerState,next:null};null===s?(l=s=p,u=r):s=s.next=p,vo.lanes|=f,Rl|=f}c=c.next}while(null!==c&&c!==o);null===s?u=r:s.next=l,ur(r,t.memoizedState)||(_u=!0),t.memoizedState=r,t.baseState=u,t.baseQueue=s,n.lastRenderedState=r}if(null!==(e=n.interleaved)){a=e;do{o=a.lane,vo.lanes|=o,Rl|=o,a=a.next}while(a!==e)}else null===a&&(n.lanes=0);return[t.memoizedState,n.dispatch]}function Po(e){var t=To(),n=t.queue;if(null===n)throw Error(i(311));n.lastRenderedReducer=e;var r=n.dispatch,a=n.pending,o=t.memoizedState;if(null!==a){n.pending=null;var u=a=a.next;do{o=e(o,u.action),u=u.next}while(u!==a);ur(o,t.memoizedState)||(_u=!0),t.memoizedState=o,null===t.baseQueue&&(t.baseState=o),n.lastRenderedState=o}return[o,r]}function zo(){}function Lo(e,t){var n=vo,r=To(),a=t(),o=!ur(r.memoizedState,a);if(o&&(r.memoizedState=a,_u=!0),r=r.queue,Vo(Fo.bind(null,n,r,e),[e]),r.getSnapshot!==t||o||null!==yo&&1&yo.memoizedState.tag){if(n.flags|=2048,Uo(9,Ao.bind(null,n,r,a,t),void 0,null),null===Pl)throw Error(i(349));0!=(30&ho)||Oo(n,t,a)}return a}function Oo(e,t,n){e.flags|=16384,e={getSnapshot:t,value:n},null===(t=vo.updateQueue)?(t={lastEffect:null,stores:null},vo.updateQueue=t,t.stores=[e]):null===(n=t.stores)?t.stores=[e]:n.push(e)}function Ao(e,t,n,r){t.value=n,t.getSnapshot=r,Do(t)&&Ro(e)}function Fo(e,t,n){return n((function(){Do(t)&&Ro(e)}))}function Do(e){var t=e.getSnapshot;e=e.value;try{var n=t();return!ur(e,n)}catch(e){return!0}}function Ro(e){var t=Ni(e,1);null!==t&&rs(t,e,1,-1)}function jo(e){var t=Co();return\"function\"==typeof e&&(e=e()),t.memoizedState=t.baseState=e,e={pending:null,interleaved:null,lanes:0,dispatch:null,lastRenderedReducer:Mo,lastRenderedState:e},t.queue=e,e=e.dispatch=nu.bind(null,vo,e),[t.memoizedState,e]}function Uo(e,t,n,r){return e={tag:e,create:t,destroy:n,deps:r,next:null},null===(t=vo.updateQueue)?(t={lastEffect:null,stores:null},vo.updateQueue=t,t.lastEffect=e.next=e):null===(n=t.lastEffect)?t.lastEffect=e.next=e:(r=n.next,n.next=e,e.next=r,t.lastEffect=e),e}function Io(){return To().memoizedState}function $o(e,t,n,r){var a=Co();vo.flags|=e,a.memoizedState=Uo(1|t,n,void 0,void 0===r?null:r)}function Bo(e,t,n,r){var a=To();r=void 0===r?null:r;var i=void 0;if(null!==go){var o=go.memoizedState;if(i=o.destroy,null!==r&&ko(r,o.deps))return void(a.memoizedState=Uo(t,n,i,r))}vo.flags|=e,a.memoizedState=Uo(1|t,n,i,r)}function Wo(e,t){return $o(8390656,8,e,t)}function Vo(e,t){return Bo(2048,8,e,t)}function Ho(e,t){return Bo(4,2,e,t)}function qo(e,t){return Bo(4,4,e,t)}function Qo(e,t){return\"function\"==typeof t?(e=e(),t(e),function(){t(null)}):null!=t?(e=e(),t.current=e,function(){t.current=null}):void 0}function Yo(e,t,n){return n=null!=n?n.concat([e]):null,Bo(4,4,Qo.bind(null,t,e),n)}function Go(){}function Ko(e,t){var n=To();t=void 0===t?null:t;var r=n.memoizedState;return null!==r&&null!==t&&ko(t,r[1])?r[0]:(n.memoizedState=[e,t],e)}function Zo(e,t){var n=To();t=void 0===t?null:t;var r=n.memoizedState;return null!==r&&null!==t&&ko(t,r[1])?r[0]:(e=e(),n.memoizedState=[e,t],e)}function Xo(e,t,n){return 0==(21&ho)?(e.baseState&&(e.baseState=!1,_u=!0),e.memoizedState=n):(ur(n,t)||(n=vt(),vo.lanes|=n,Rl|=n,e.baseState=!0),t)}function Jo(e,t){var n=bt;bt=0!==n&&4>n?n:4,e(!0);var r=po.transition;po.transition={};try{e(!1),t()}finally{bt=n,po.transition=r}}function eu(){return To().memoizedState}function tu(e,t,n){var r=ns(e);n={lane:r,action:n,hasEagerState:!1,eagerState:null,next:null},ru(e)?au(t,n):null!==(n=Mi(e,t,n,r))&&(rs(n,e,r,ts()),iu(n,t,r))}function nu(e,t,n){var r=ns(e),a={lane:r,action:n,hasEagerState:!1,eagerState:null,next:null};if(ru(e))au(t,a);else{var i=e.alternate;if(0===e.lanes&&(null===i||0===i.lanes)&&null!==(i=t.lastRenderedReducer))try{var o=t.lastRenderedState,u=i(o,n);if(a.hasEagerState=!0,a.eagerState=u,ur(u,o)){var l=t.interleaved;return null===l?(a.next=a,Ti(t)):(a.next=l.next,l.next=a),void(t.interleaved=a)}}catch(e){}null!==(n=Mi(e,t,a,r))&&(rs(n,e,r,a=ts()),iu(n,t,r))}}function ru(e){var t=e.alternate;return e===vo||null!==t&&t===vo}function au(e,t){bo=mo=!0;var n=e.pending;null===n?t.next=t:(t.next=n.next,n.next=t),e.pending=t}function iu(e,t,n){if(0!=(4194240&n)){var r=t.lanes;n|=r&=e.pendingLanes,t.lanes=n,mt(e,n)}}var ou={readContext:Ei,useCallback:xo,useContext:xo,useEffect:xo,useImperativeHandle:xo,useInsertionEffect:xo,useLayoutEffect:xo,useMemo:xo,useReducer:xo,useRef:xo,useState:xo,useDebugValue:xo,useDeferredValue:xo,useTransition:xo,useMutableSource:xo,useSyncExternalStore:xo,useId:xo,unstable_isNewReconciler:!1},uu={readContext:Ei,useCallback:function(e,t){return Co().memoizedState=[e,void 0===t?null:t],e},useContext:Ei,useEffect:Wo,useImperativeHandle:function(e,t,n){return n=null!=n?n.concat([e]):null,$o(4194308,4,Qo.bind(null,t,e),n)},useLayoutEffect:function(e,t){return $o(4194308,4,e,t)},useInsertionEffect:function(e,t){return $o(4,2,e,t)},useMemo:function(e,t){var n=Co();return t=void 0===t?null:t,e=e(),n.memoizedState=[e,t],e},useReducer:function(e,t,n){var r=Co();return t=void 0!==n?n(t):t,r.memoizedState=r.baseState=t,e={pending:null,interleaved:null,lanes:0,dispatch:null,lastRenderedReducer:e,lastRenderedState:t},r.queue=e,e=e.dispatch=tu.bind(null,vo,e),[r.memoizedState,e]},useRef:function(e){return e={current:e},Co().memoizedState=e},useState:jo,useDebugValue:Go,useDeferredValue:function(e){return Co().memoizedState=e},useTransition:function(){var e=jo(!1),t=e[0];return e=Jo.bind(null,e[1]),Co().memoizedState=e,[t,e]},useMutableSource:function(){},useSyncExternalStore:function(e,t,n){var r=vo,a=Co();if(ai){if(void 0===n)throw Error(i(407));n=n()}else{if(n=t(),null===Pl)throw Error(i(349));0!=(30&ho)||Oo(r,t,n)}a.memoizedState=n;var o={value:n,getSnapshot:t};return a.queue=o,Wo(Fo.bind(null,r,o,e),[e]),r.flags|=2048,Uo(9,Ao.bind(null,r,o,n,t),void 0,null),n},useId:function(){var e=Co(),t=Pl.identifierPrefix;if(ai){var n=Za;t=\":\"+t+\"R\"+(n=(Ka&~(1<<32-ot(Ka)-1)).toString(32)+n),0<(n=_o++)&&(t+=\"H\"+n.toString(32)),t+=\":\"}else t=\":\"+t+\"r\"+(n=wo++).toString(32)+\":\";return e.memoizedState=t},unstable_isNewReconciler:!1},lu={readContext:Ei,useCallback:Ko,useContext:Ei,useEffect:Vo,useImperativeHandle:Yo,useInsertionEffect:Ho,useLayoutEffect:qo,useMemo:Zo,useReducer:No,useRef:Io,useState:function(){return No(Mo)},useDebugValue:Go,useDeferredValue:function(e){return Xo(To(),go.memoizedState,e)},useTransition:function(){return[No(Mo)[0],To().memoizedState]},useMutableSource:zo,useSyncExternalStore:Lo,useId:eu,unstable_isNewReconciler:!1},su={readContext:Ei,useCallback:Ko,useContext:Ei,useEffect:Vo,useImperativeHandle:Yo,useInsertionEffect:Ho,useLayoutEffect:qo,useMemo:Zo,useReducer:Po,useRef:Io,useState:function(){return Po(Mo)},useDebugValue:Go,useDeferredValue:function(e){var t=To();return null===go?t.memoizedState=e:Xo(t,go.memoizedState,e)},useTransition:function(){return[Po(Mo)[0],To().memoizedState]},useMutableSource:zo,useSyncExternalStore:Lo,useId:eu,unstable_isNewReconciler:!1};function cu(e,t){try{var n=\"\",r=t;do{n+=$(r),r=r.return}while(r);var a=n}catch(e){a=\"\\nError generating stack: \"+e.message+\"\\n\"+e.stack}return{value:e,source:t,stack:a,digest:null}}function fu(e,t,n){return{value:e,source:null,stack:null!=n?n:null,digest:null!=t?t:null}}function pu(e,t){try{console.error(t.value)}catch(e){setTimeout((function(){throw e}))}}var du=\"function\"==typeof WeakMap?WeakMap:Map;function hu(e,t,n){(n=Oi(-1,n)).tag=3,n.payload={element:null};var r=t.value;return n.callback=function(){Hl||(Hl=!0,ql=r),pu(0,t)},n}function vu(e,t,n){(n=Oi(-1,n)).tag=3;var r=e.type.getDerivedStateFromError;if(\"function\"==typeof r){var a=t.value;n.payload=function(){return r(a)},n.callback=function(){pu(0,t)}}var i=e.stateNode;return null!==i&&\"function\"==typeof i.componentDidCatch&&(n.callback=function(){pu(0,t),\"function\"!=typeof r&&(null===Ql?Ql=new Set([this]):Ql.add(this));var e=t.stack;this.componentDidCatch(t.value,{componentStack:null!==e?e:\"\"})}),n}function gu(e,t,n){var r=e.pingCache;if(null===r){r=e.pingCache=new du;var a=new Set;r.set(t,a)}else void 0===(a=r.get(t))&&(a=new Set,r.set(t,a));a.has(n)||(a.add(n),e=Cs.bind(null,e,t,n),t.then(e,e))}function yu(e){do{var t;if((t=13===e.tag)&&(t=null===(t=e.memoizedState)||null!==t.dehydrated),t)return e;e=e.return}while(null!==e);return null}function mu(e,t,n,r,a){return 0==(1&e.mode)?(e===t?e.flags|=65536:(e.flags|=128,n.flags|=131072,n.flags&=-52805,1===n.tag&&(null===n.alternate?n.tag=17:((t=Oi(-1,1)).tag=2,Ai(n,t,1))),n.lanes|=1),e):(e.flags|=65536,e.lanes=a,e)}var bu=_.ReactCurrentOwner,_u=!1;function wu(e,t,n,r){t.child=null===e?Zi(t,null,n,r):Ki(t,e.child,n,r)}function xu(e,t,n,r,a){n=n.render;var i=t.ref;return Si(t,a),r=So(e,t,n,r,i,a),n=Eo(),null===e||_u?(ai&&n&&ei(t),t.flags|=1,wu(e,t,r,a),t.child):(t.updateQueue=e.updateQueue,t.flags&=-2053,e.lanes&=~a,Hu(e,t,a))}function ku(e,t,n,r,a){if(null===e){var i=n.type;return\"function\"!=typeof i||Os(i)||void 0!==i.defaultProps||null!==n.compare||void 0!==n.defaultProps?((e=Fs(n.type,null,r,t,t.mode,a)).ref=t.ref,e.return=t,t.child=e):(t.tag=15,t.type=i,Su(e,t,i,r,a))}if(i=e.child,0==(e.lanes&a)){var o=i.memoizedProps;if((n=null!==(n=n.compare)?n:lr)(o,r)&&e.ref===t.ref)return Hu(e,t,a)}return t.flags|=1,(e=As(i,r)).ref=t.ref,e.return=t,t.child=e}function Su(e,t,n,r,a){if(null!==e){var i=e.memoizedProps;if(lr(i,r)&&e.ref===t.ref){if(_u=!1,t.pendingProps=r=i,0==(e.lanes&a))return t.lanes=e.lanes,Hu(e,t,a);0!=(131072&e.flags)&&(_u=!0)}}return Tu(e,t,n,r,a)}function Eu(e,t,n){var r=t.pendingProps,a=r.children,i=null!==e?e.memoizedState:null;if(\"hidden\"===r.mode)if(0==(1&t.mode))t.memoizedState={baseLanes:0,cachePool:null,transitions:null},Ca(Al,Ol),Ol|=n;else{if(0==(1073741824&n))return e=null!==i?i.baseLanes|n:n,t.lanes=t.childLanes=1073741824,t.memoizedState={baseLanes:e,cachePool:null,transitions:null},t.updateQueue=null,Ca(Al,Ol),Ol|=e,null;t.memoizedState={baseLanes:0,cachePool:null,transitions:null},r=null!==i?i.baseLanes:n,Ca(Al,Ol),Ol|=r}else null!==i?(r=i.baseLanes|n,t.memoizedState=null):r=n,Ca(Al,Ol),Ol|=r;return wu(e,t,a,n),t.child}function Cu(e,t){var n=t.ref;(null===e&&null!==n||null!==e&&e.ref!==n)&&(t.flags|=512,t.flags|=2097152)}function Tu(e,t,n,r,a){var i=La(n)?Pa:Ma.current;return i=za(t,i),Si(t,a),n=So(e,t,n,r,i,a),r=Eo(),null===e||_u?(ai&&r&&ei(t),t.flags|=1,wu(e,t,n,a),t.child):(t.updateQueue=e.updateQueue,t.flags&=-2053,e.lanes&=~a,Hu(e,t,a))}function Mu(e,t,n,r,a){if(La(n)){var i=!0;Da(t)}else i=!1;if(Si(t,a),null===t.stateNode)Vu(e,t),Wi(t,n,r),Hi(t,n,r,a),r=!0;else if(null===e){var o=t.stateNode,u=t.memoizedProps;o.props=u;var l=o.context,s=n.contextType;s=\"object\"==typeof s&&null!==s?Ei(s):za(t,s=La(n)?Pa:Ma.current);var c=n.getDerivedStateFromProps,f=\"function\"==typeof c||\"function\"==typeof o.getSnapshotBeforeUpdate;f||\"function\"!=typeof o.UNSAFE_componentWillReceiveProps&&\"function\"!=typeof o.componentWillReceiveProps||(u!==r||l!==s)&&Vi(t,o,r,s),Pi=!1;var p=t.memoizedState;o.state=p,Ri(t,r,o,a),l=t.memoizedState,u!==r||p!==l||Na.current||Pi?(\"function\"==typeof c&&(Ii(t,n,c,r),l=t.memoizedState),(u=Pi||Bi(t,n,u,r,p,l,s))?(f||\"function\"!=typeof o.UNSAFE_componentWillMount&&\"function\"!=typeof o.componentWillMount||(\"function\"==typeof o.componentWillMount&&o.componentWillMount(),\"function\"==typeof o.UNSAFE_componentWillMount&&o.UNSAFE_componentWillMount()),\"function\"==typeof o.componentDidMount&&(t.flags|=4194308)):(\"function\"==typeof o.componentDidMount&&(t.flags|=4194308),t.memoizedProps=r,t.memoizedState=l),o.props=r,o.state=l,o.context=s,r=u):(\"function\"==typeof o.componentDidMount&&(t.flags|=4194308),r=!1)}else{o=t.stateNode,Li(e,t),u=t.memoizedProps,s=t.type===t.elementType?u:gi(t.type,u),o.props=s,f=t.pendingProps,p=o.context,l=\"object\"==typeof(l=n.contextType)&&null!==l?Ei(l):za(t,l=La(n)?Pa:Ma.current);var d=n.getDerivedStateFromProps;(c=\"function\"==typeof d||\"function\"==typeof o.getSnapshotBeforeUpdate)||\"function\"!=typeof o.UNSAFE_componentWillReceiveProps&&\"function\"!=typeof o.componentWillReceiveProps||(u!==f||p!==l)&&Vi(t,o,r,l),Pi=!1,p=t.memoizedState,o.state=p,Ri(t,r,o,a);var h=t.memoizedState;u!==f||p!==h||Na.current||Pi?(\"function\"==typeof d&&(Ii(t,n,d,r),h=t.memoizedState),(s=Pi||Bi(t,n,s,r,p,h,l)||!1)?(c||\"function\"!=typeof o.UNSAFE_componentWillUpdate&&\"function\"!=typeof o.componentWillUpdate||(\"function\"==typeof o.componentWillUpdate&&o.componentWillUpdate(r,h,l),\"function\"==typeof o.UNSAFE_componentWillUpdate&&o.UNSAFE_componentWillUpdate(r,h,l)),\"function\"==typeof o.componentDidUpdate&&(t.flags|=4),\"function\"==typeof o.getSnapshotBeforeUpdate&&(t.flags|=1024)):(\"function\"!=typeof o.componentDidUpdate||u===e.memoizedProps&&p===e.memoizedState||(t.flags|=4),\"function\"!=typeof o.getSnapshotBeforeUpdate||u===e.memoizedProps&&p===e.memoizedState||(t.flags|=1024),t.memoizedProps=r,t.memoizedState=h),o.props=r,o.state=h,o.context=l,r=s):(\"function\"!=typeof o.componentDidUpdate||u===e.memoizedProps&&p===e.memoizedState||(t.flags|=4),\"function\"!=typeof o.getSnapshotBeforeUpdate||u===e.memoizedProps&&p===e.memoizedState||(t.flags|=1024),r=!1)}return Nu(e,t,n,r,i,a)}function Nu(e,t,n,r,a,i){Cu(e,t);var o=0!=(128&t.flags);if(!r&&!o)return a&&Ra(t,n,!1),Hu(e,t,i);r=t.stateNode,bu.current=t;var u=o&&\"function\"!=typeof n.getDerivedStateFromError?null:r.render();return t.flags|=1,null!==e&&o?(t.child=Ki(t,e.child,null,i),t.child=Ki(t,null,u,i)):wu(e,t,u,i),t.memoizedState=r.state,a&&Ra(t,n,!0),t.child}function Pu(e){var t=e.stateNode;t.pendingContext?Aa(0,t.pendingContext,t.pendingContext!==t.context):t.context&&Aa(0,t.context,!1),ro(e,t.containerInfo)}function zu(e,t,n,r,a){return di(),hi(a),t.flags|=256,wu(e,t,n,r),t.child}var Lu,Ou,Au,Fu,Du={dehydrated:null,treeContext:null,retryLane:0};function Ru(e){return{baseLanes:e,cachePool:null,transitions:null}}function ju(e,t,n){var r,a=t.pendingProps,o=uo.current,u=!1,l=0!=(128&t.flags);if((r=l)||(r=(null===e||null!==e.memoizedState)&&0!=(2&o)),r?(u=!0,t.flags&=-129):null!==e&&null===e.memoizedState||(o|=1),Ca(uo,1&o),null===e)return si(t),null!==(e=t.memoizedState)&&null!==(e=e.dehydrated)?(0==(1&t.mode)?t.lanes=1:\"$!\"===e.data?t.lanes=8:t.lanes=1073741824,null):(l=a.children,e=a.fallback,u?(a=t.mode,u=t.child,l={mode:\"hidden\",children:l},0==(1&a)&&null!==u?(u.childLanes=0,u.pendingProps=l):u=Rs(l,a,0,null),e=Ds(e,a,n,null),u.return=t,e.return=t,u.sibling=e,t.child=u,t.child.memoizedState=Ru(n),t.memoizedState=Du,e):Uu(t,l));if(null!==(o=e.memoizedState)&&null!==(r=o.dehydrated))return function(e,t,n,r,a,o,u){if(n)return 256&t.flags?(t.flags&=-257,Iu(e,t,u,r=fu(Error(i(422))))):null!==t.memoizedState?(t.child=e.child,t.flags|=128,null):(o=r.fallback,a=t.mode,r=Rs({mode:\"visible\",children:r.children},a,0,null),(o=Ds(o,a,u,null)).flags|=2,r.return=t,o.return=t,r.sibling=o,t.child=r,0!=(1&t.mode)&&Ki(t,e.child,null,u),t.child.memoizedState=Ru(u),t.memoizedState=Du,o);if(0==(1&t.mode))return Iu(e,t,u,null);if(\"$!\"===a.data){if(r=a.nextSibling&&a.nextSibling.dataset)var l=r.dgst;return r=l,Iu(e,t,u,r=fu(o=Error(i(419)),r,void 0))}if(l=0!=(u&e.childLanes),_u||l){if(null!==(r=Pl)){switch(u&-u){case 4:a=2;break;case 16:a=8;break;case 64:case 128:case 256:case 512:case 1024:case 2048:case 4096:case 8192:case 16384:case 32768:case 65536:case 131072:case 262144:case 524288:case 1048576:case 2097152:case 4194304:case 8388608:case 16777216:case 33554432:case 67108864:a=32;break;case 536870912:a=268435456;break;default:a=0}0!==(a=0!=(a&(r.suspendedLanes|u))?0:a)&&a!==o.retryLane&&(o.retryLane=a,Ni(e,a),rs(r,e,a,-1))}return gs(),Iu(e,t,u,r=fu(Error(i(421))))}return\"$?\"===a.data?(t.flags|=128,t.child=e.child,t=Ms.bind(null,e),a._reactRetry=t,null):(e=o.treeContext,ri=sa(a.nextSibling),ni=t,ai=!0,ii=null,null!==e&&(Qa[Ya++]=Ka,Qa[Ya++]=Za,Qa[Ya++]=Ga,Ka=e.id,Za=e.overflow,Ga=t),(t=Uu(t,r.children)).flags|=4096,t)}(e,t,l,a,r,o,n);if(u){u=a.fallback,l=t.mode,r=(o=e.child).sibling;var s={mode:\"hidden\",children:a.children};return 0==(1&l)&&t.child!==o?((a=t.child).childLanes=0,a.pendingProps=s,t.deletions=null):(a=As(o,s)).subtreeFlags=14680064&o.subtreeFlags,null!==r?u=As(r,u):(u=Ds(u,l,n,null)).flags|=2,u.return=t,a.return=t,a.sibling=u,t.child=a,a=u,u=t.child,l=null===(l=e.child.memoizedState)?Ru(n):{baseLanes:l.baseLanes|n,cachePool:null,transitions:l.transitions},u.memoizedState=l,u.childLanes=e.childLanes&~n,t.memoizedState=Du,a}return e=(u=e.child).sibling,a=As(u,{mode:\"visible\",children:a.children}),0==(1&t.mode)&&(a.lanes=n),a.return=t,a.sibling=null,null!==e&&(null===(n=t.deletions)?(t.deletions=[e],t.flags|=16):n.push(e)),t.child=a,t.memoizedState=null,a}function Uu(e,t){return(t=Rs({mode:\"visible\",children:t},e.mode,0,null)).return=e,e.child=t}function Iu(e,t,n,r){return null!==r&&hi(r),Ki(t,e.child,null,n),(e=Uu(t,t.pendingProps.children)).flags|=2,t.memoizedState=null,e}function $u(e,t,n){e.lanes|=t;var r=e.alternate;null!==r&&(r.lanes|=t),ki(e.return,t,n)}function Bu(e,t,n,r,a){var i=e.memoizedState;null===i?e.memoizedState={isBackwards:t,rendering:null,renderingStartTime:0,last:r,tail:n,tailMode:a}:(i.isBackwards=t,i.rendering=null,i.renderingStartTime=0,i.last=r,i.tail=n,i.tailMode=a)}function Wu(e,t,n){var r=t.pendingProps,a=r.revealOrder,i=r.tail;if(wu(e,t,r.children,n),0!=(2&(r=uo.current)))r=1&r|2,t.flags|=128;else{if(null!==e&&0!=(128&e.flags))e:for(e=t.child;null!==e;){if(13===e.tag)null!==e.memoizedState&&$u(e,n,t);else if(19===e.tag)$u(e,n,t);else if(null!==e.child){e.child.return=e,e=e.child;continue}if(e===t)break e;for(;null===e.sibling;){if(null===e.return||e.return===t)break e;e=e.return}e.sibling.return=e.return,e=e.sibling}r&=1}if(Ca(uo,r),0==(1&t.mode))t.memoizedState=null;else switch(a){case\"forwards\":for(n=t.child,a=null;null!==n;)null!==(e=n.alternate)&&null===lo(e)&&(a=n),n=n.sibling;null===(n=a)?(a=t.child,t.child=null):(a=n.sibling,n.sibling=null),Bu(t,!1,a,n,i);break;case\"backwards\":for(n=null,a=t.child,t.child=null;null!==a;){if(null!==(e=a.alternate)&&null===lo(e)){t.child=a;break}e=a.sibling,a.sibling=n,n=a,a=e}Bu(t,!0,n,null,i);break;case\"together\":Bu(t,!1,null,null,void 0);break;default:t.memoizedState=null}return t.child}function Vu(e,t){0==(1&t.mode)&&null!==e&&(e.alternate=null,t.alternate=null,t.flags|=2)}function Hu(e,t,n){if(null!==e&&(t.dependencies=e.dependencies),Rl|=t.lanes,0==(n&t.childLanes))return null;if(null!==e&&t.child!==e.child)throw Error(i(153));if(null!==t.child){for(n=As(e=t.child,e.pendingProps),t.child=n,n.return=t;null!==e.sibling;)e=e.sibling,(n=n.sibling=As(e,e.pendingProps)).return=t;n.sibling=null}return t.child}function qu(e,t){if(!ai)switch(e.tailMode){case\"hidden\":t=e.tail;for(var n=null;null!==t;)null!==t.alternate&&(n=t),t=t.sibling;null===n?e.tail=null:n.sibling=null;break;case\"collapsed\":n=e.tail;for(var r=null;null!==n;)null!==n.alternate&&(r=n),n=n.sibling;null===r?t||null===e.tail?e.tail=null:e.tail.sibling=null:r.sibling=null}}function Qu(e){var t=null!==e.alternate&&e.alternate.child===e.child,n=0,r=0;if(t)for(var a=e.child;null!==a;)n|=a.lanes|a.childLanes,r|=14680064&a.subtreeFlags,r|=14680064&a.flags,a.return=e,a=a.sibling;else for(a=e.child;null!==a;)n|=a.lanes|a.childLanes,r|=a.subtreeFlags,r|=a.flags,a.return=e,a=a.sibling;return e.subtreeFlags|=r,e.childLanes=n,t}function Yu(e,t,n){var r=t.pendingProps;switch(ti(t),t.tag){case 2:case 16:case 15:case 0:case 11:case 7:case 8:case 12:case 9:case 14:return Qu(t),null;case 1:case 17:return La(t.type)&&Oa(),Qu(t),null;case 3:return r=t.stateNode,ao(),Ea(Na),Ea(Ma),co(),r.pendingContext&&(r.context=r.pendingContext,r.pendingContext=null),null!==e&&null!==e.child||(fi(t)?t.flags|=4:null===e||e.memoizedState.isDehydrated&&0==(256&t.flags)||(t.flags|=1024,null!==ii&&(us(ii),ii=null))),Ou(e,t),Qu(t),null;case 5:oo(t);var a=no(to.current);if(n=t.type,null!==e&&null!=t.stateNode)Au(e,t,n,r,a),e.ref!==t.ref&&(t.flags|=512,t.flags|=2097152);else{if(!r){if(null===t.stateNode)throw Error(i(166));return Qu(t),null}if(e=no(Ji.current),fi(t)){r=t.stateNode,n=t.type;var o=t.memoizedProps;switch(r[pa]=t,r[da]=o,e=0!=(1&t.mode),n){case\"dialog\":Ur(\"cancel\",r),Ur(\"close\",r);break;case\"iframe\":case\"object\":case\"embed\":Ur(\"load\",r);break;case\"video\":case\"audio\":for(a=0;a<Fr.length;a++)Ur(Fr[a],r);break;case\"source\":Ur(\"error\",r);break;case\"img\":case\"image\":case\"link\":Ur(\"error\",r),Ur(\"load\",r);break;case\"details\":Ur(\"toggle\",r);break;case\"input\":K(r,o),Ur(\"invalid\",r);break;case\"select\":r._wrapperState={wasMultiple:!!o.multiple},Ur(\"invalid\",r);break;case\"textarea\":ae(r,o),Ur(\"invalid\",r)}for(var l in me(n,o),a=null,o)if(o.hasOwnProperty(l)){var s=o[l];\"children\"===l?\"string\"==typeof s?r.textContent!==s&&(!0!==o.suppressHydrationWarning&&Xr(r.textContent,s,e),a=[\"children\",s]):\"number\"==typeof s&&r.textContent!==\"\"+s&&(!0!==o.suppressHydrationWarning&&Xr(r.textContent,s,e),a=[\"children\",\"\"+s]):u.hasOwnProperty(l)&&null!=s&&\"onScroll\"===l&&Ur(\"scroll\",r)}switch(n){case\"input\":q(r),J(r,o,!0);break;case\"textarea\":q(r),oe(r);break;case\"select\":case\"option\":break;default:\"function\"==typeof o.onClick&&(r.onclick=Jr)}r=a,t.updateQueue=r,null!==r&&(t.flags|=4)}else{l=9===a.nodeType?a:a.ownerDocument,\"http://www.w3.org/1999/xhtml\"===e&&(e=ue(n)),\"http://www.w3.org/1999/xhtml\"===e?\"script\"===n?((e=l.createElement(\"div\")).innerHTML=\"<script><\\/script>\",e=e.removeChild(e.firstChild)):\"string\"==typeof r.is?e=l.createElement(n,{is:r.is}):(e=l.createElement(n),\"select\"===n&&(l=e,r.multiple?l.multiple=!0:r.size&&(l.size=r.size))):e=l.createElementNS(e,n),e[pa]=t,e[da]=r,Lu(e,t,!1,!1),t.stateNode=e;e:{switch(l=be(n,r),n){case\"dialog\":Ur(\"cancel\",e),Ur(\"close\",e),a=r;break;case\"iframe\":case\"object\":case\"embed\":Ur(\"load\",e),a=r;break;case\"video\":case\"audio\":for(a=0;a<Fr.length;a++)Ur(Fr[a],e);a=r;break;case\"source\":Ur(\"error\",e),a=r;break;case\"img\":case\"image\":case\"link\":Ur(\"error\",e),Ur(\"load\",e),a=r;break;case\"details\":Ur(\"toggle\",e),a=r;break;case\"input\":K(e,r),a=G(e,r),Ur(\"invalid\",e);break;case\"option\":default:a=r;break;case\"select\":e._wrapperState={wasMultiple:!!r.multiple},a=R({},r,{value:void 0}),Ur(\"invalid\",e);break;case\"textarea\":ae(e,r),a=re(e,r),Ur(\"invalid\",e)}for(o in me(n,a),s=a)if(s.hasOwnProperty(o)){var c=s[o];\"style\"===o?ge(e,c):\"dangerouslySetInnerHTML\"===o?null!=(c=c?c.__html:void 0)&&fe(e,c):\"children\"===o?\"string\"==typeof c?(\"textarea\"!==n||\"\"!==c)&&pe(e,c):\"number\"==typeof c&&pe(e,\"\"+c):\"suppressContentEditableWarning\"!==o&&\"suppressHydrationWarning\"!==o&&\"autoFocus\"!==o&&(u.hasOwnProperty(o)?null!=c&&\"onScroll\"===o&&Ur(\"scroll\",e):null!=c&&b(e,o,c,l))}switch(n){case\"input\":q(e),J(e,r,!1);break;case\"textarea\":q(e),oe(e);break;case\"option\":null!=r.value&&e.setAttribute(\"value\",\"\"+V(r.value));break;case\"select\":e.multiple=!!r.multiple,null!=(o=r.value)?ne(e,!!r.multiple,o,!1):null!=r.defaultValue&&ne(e,!!r.multiple,r.defaultValue,!0);break;default:\"function\"==typeof a.onClick&&(e.onclick=Jr)}switch(n){case\"button\":case\"input\":case\"select\":case\"textarea\":r=!!r.autoFocus;break e;case\"img\":r=!0;break e;default:r=!1}}r&&(t.flags|=4)}null!==t.ref&&(t.flags|=512,t.flags|=2097152)}return Qu(t),null;case 6:if(e&&null!=t.stateNode)Fu(e,t,e.memoizedProps,r);else{if(\"string\"!=typeof r&&null===t.stateNode)throw Error(i(166));if(n=no(to.current),no(Ji.current),fi(t)){if(r=t.stateNode,n=t.memoizedProps,r[pa]=t,(o=r.nodeValue!==n)&&null!==(e=ni))switch(e.tag){case 3:Xr(r.nodeValue,n,0!=(1&e.mode));break;case 5:!0!==e.memoizedProps.suppressHydrationWarning&&Xr(r.nodeValue,n,0!=(1&e.mode))}o&&(t.flags|=4)}else(r=(9===n.nodeType?n:n.ownerDocument).createTextNode(r))[pa]=t,t.stateNode=r}return Qu(t),null;case 13:if(Ea(uo),r=t.memoizedState,null===e||null!==e.memoizedState&&null!==e.memoizedState.dehydrated){if(ai&&null!==ri&&0!=(1&t.mode)&&0==(128&t.flags))pi(),di(),t.flags|=98560,o=!1;else if(o=fi(t),null!==r&&null!==r.dehydrated){if(null===e){if(!o)throw Error(i(318));if(!(o=null!==(o=t.memoizedState)?o.dehydrated:null))throw Error(i(317));o[pa]=t}else di(),0==(128&t.flags)&&(t.memoizedState=null),t.flags|=4;Qu(t),o=!1}else null!==ii&&(us(ii),ii=null),o=!0;if(!o)return 65536&t.flags?t:null}return 0!=(128&t.flags)?(t.lanes=n,t):((r=null!==r)!=(null!==e&&null!==e.memoizedState)&&r&&(t.child.flags|=8192,0!=(1&t.mode)&&(null===e||0!=(1&uo.current)?0===Fl&&(Fl=3):gs())),null!==t.updateQueue&&(t.flags|=4),Qu(t),null);case 4:return ao(),Ou(e,t),null===e&&Br(t.stateNode.containerInfo),Qu(t),null;case 10:return xi(t.type._context),Qu(t),null;case 19:if(Ea(uo),null===(o=t.memoizedState))return Qu(t),null;if(r=0!=(128&t.flags),null===(l=o.rendering))if(r)qu(o,!1);else{if(0!==Fl||null!==e&&0!=(128&e.flags))for(e=t.child;null!==e;){if(null!==(l=lo(e))){for(t.flags|=128,qu(o,!1),null!==(r=l.updateQueue)&&(t.updateQueue=r,t.flags|=4),t.subtreeFlags=0,r=n,n=t.child;null!==n;)e=r,(o=n).flags&=14680066,null===(l=o.alternate)?(o.childLanes=0,o.lanes=e,o.child=null,o.subtreeFlags=0,o.memoizedProps=null,o.memoizedState=null,o.updateQueue=null,o.dependencies=null,o.stateNode=null):(o.childLanes=l.childLanes,o.lanes=l.lanes,o.child=l.child,o.subtreeFlags=0,o.deletions=null,o.memoizedProps=l.memoizedProps,o.memoizedState=l.memoizedState,o.updateQueue=l.updateQueue,o.type=l.type,e=l.dependencies,o.dependencies=null===e?null:{lanes:e.lanes,firstContext:e.firstContext}),n=n.sibling;return Ca(uo,1&uo.current|2),t.child}e=e.sibling}null!==o.tail&&Ze()>Wl&&(t.flags|=128,r=!0,qu(o,!1),t.lanes=4194304)}else{if(!r)if(null!==(e=lo(l))){if(t.flags|=128,r=!0,null!==(n=e.updateQueue)&&(t.updateQueue=n,t.flags|=4),qu(o,!0),null===o.tail&&\"hidden\"===o.tailMode&&!l.alternate&&!ai)return Qu(t),null}else 2*Ze()-o.renderingStartTime>Wl&&1073741824!==n&&(t.flags|=128,r=!0,qu(o,!1),t.lanes=4194304);o.isBackwards?(l.sibling=t.child,t.child=l):(null!==(n=o.last)?n.sibling=l:t.child=l,o.last=l)}return null!==o.tail?(t=o.tail,o.rendering=t,o.tail=t.sibling,o.renderingStartTime=Ze(),t.sibling=null,n=uo.current,Ca(uo,r?1&n|2:1&n),t):(Qu(t),null);case 22:case 23:return ps(),r=null!==t.memoizedState,null!==e&&null!==e.memoizedState!==r&&(t.flags|=8192),r&&0!=(1&t.mode)?0!=(1073741824&Ol)&&(Qu(t),6&t.subtreeFlags&&(t.flags|=8192)):Qu(t),null;case 24:case 25:return null}throw Error(i(156,t.tag))}function Gu(e,t){switch(ti(t),t.tag){case 1:return La(t.type)&&Oa(),65536&(e=t.flags)?(t.flags=-65537&e|128,t):null;case 3:return ao(),Ea(Na),Ea(Ma),co(),0!=(65536&(e=t.flags))&&0==(128&e)?(t.flags=-65537&e|128,t):null;case 5:return oo(t),null;case 13:if(Ea(uo),null!==(e=t.memoizedState)&&null!==e.dehydrated){if(null===t.alternate)throw Error(i(340));di()}return 65536&(e=t.flags)?(t.flags=-65537&e|128,t):null;case 19:return Ea(uo),null;case 4:return ao(),null;case 10:return xi(t.type._context),null;case 22:case 23:return ps(),null;default:return null}}Lu=function(e,t){for(var n=t.child;null!==n;){if(5===n.tag||6===n.tag)e.appendChild(n.stateNode);else if(4!==n.tag&&null!==n.child){n.child.return=n,n=n.child;continue}if(n===t)break;for(;null===n.sibling;){if(null===n.return||n.return===t)return;n=n.return}n.sibling.return=n.return,n=n.sibling}},Ou=function(){},Au=function(e,t,n,r){var a=e.memoizedProps;if(a!==r){e=t.stateNode,no(Ji.current);var i,o=null;switch(n){case\"input\":a=G(e,a),r=G(e,r),o=[];break;case\"select\":a=R({},a,{value:void 0}),r=R({},r,{value:void 0}),o=[];break;case\"textarea\":a=re(e,a),r=re(e,r),o=[];break;default:\"function\"!=typeof a.onClick&&\"function\"==typeof r.onClick&&(e.onclick=Jr)}for(c in me(n,r),n=null,a)if(!r.hasOwnProperty(c)&&a.hasOwnProperty(c)&&null!=a[c])if(\"style\"===c){var l=a[c];for(i in l)l.hasOwnProperty(i)&&(n||(n={}),n[i]=\"\")}else\"dangerouslySetInnerHTML\"!==c&&\"children\"!==c&&\"suppressContentEditableWarning\"!==c&&\"suppressHydrationWarning\"!==c&&\"autoFocus\"!==c&&(u.hasOwnProperty(c)?o||(o=[]):(o=o||[]).push(c,null));for(c in r){var s=r[c];if(l=null!=a?a[c]:void 0,r.hasOwnProperty(c)&&s!==l&&(null!=s||null!=l))if(\"style\"===c)if(l){for(i in l)!l.hasOwnProperty(i)||s&&s.hasOwnProperty(i)||(n||(n={}),n[i]=\"\");for(i in s)s.hasOwnProperty(i)&&l[i]!==s[i]&&(n||(n={}),n[i]=s[i])}else n||(o||(o=[]),o.push(c,n)),n=s;else\"dangerouslySetInnerHTML\"===c?(s=s?s.__html:void 0,l=l?l.__html:void 0,null!=s&&l!==s&&(o=o||[]).push(c,s)):\"children\"===c?\"string\"!=typeof s&&\"number\"!=typeof s||(o=o||[]).push(c,\"\"+s):\"suppressContentEditableWarning\"!==c&&\"suppressHydrationWarning\"!==c&&(u.hasOwnProperty(c)?(null!=s&&\"onScroll\"===c&&Ur(\"scroll\",e),o||l===s||(o=[])):(o=o||[]).push(c,s))}n&&(o=o||[]).push(\"style\",n);var c=o;(t.updateQueue=c)&&(t.flags|=4)}},Fu=function(e,t,n,r){n!==r&&(t.flags|=4)};var Ku=!1,Zu=!1,Xu=\"function\"==typeof WeakSet?WeakSet:Set,Ju=null;function el(e,t){var n=e.ref;if(null!==n)if(\"function\"==typeof n)try{n(null)}catch(n){Es(e,t,n)}else n.current=null}function tl(e,t,n){try{n()}catch(n){Es(e,t,n)}}var nl=!1;function rl(e,t,n){var r=t.updateQueue;if(null!==(r=null!==r?r.lastEffect:null)){var a=r=r.next;do{if((a.tag&e)===e){var i=a.destroy;a.destroy=void 0,void 0!==i&&tl(t,n,i)}a=a.next}while(a!==r)}}function al(e,t){if(null!==(t=null!==(t=t.updateQueue)?t.lastEffect:null)){var n=t=t.next;do{if((n.tag&e)===e){var r=n.create;n.destroy=r()}n=n.next}while(n!==t)}}function il(e){var t=e.ref;if(null!==t){var n=e.stateNode;e.tag,e=n,\"function\"==typeof t?t(e):t.current=e}}function ol(e){var t=e.alternate;null!==t&&(e.alternate=null,ol(t)),e.child=null,e.deletions=null,e.sibling=null,5===e.tag&&null!==(t=e.stateNode)&&(delete t[pa],delete t[da],delete t[va],delete t[ga],delete t[ya]),e.stateNode=null,e.return=null,e.dependencies=null,e.memoizedProps=null,e.memoizedState=null,e.pendingProps=null,e.stateNode=null,e.updateQueue=null}function ul(e){return 5===e.tag||3===e.tag||4===e.tag}function ll(e){e:for(;;){for(;null===e.sibling;){if(null===e.return||ul(e.return))return null;e=e.return}for(e.sibling.return=e.return,e=e.sibling;5!==e.tag&&6!==e.tag&&18!==e.tag;){if(2&e.flags)continue e;if(null===e.child||4===e.tag)continue e;e.child.return=e,e=e.child}if(!(2&e.flags))return e.stateNode}}function sl(e,t,n){var r=e.tag;if(5===r||6===r)e=e.stateNode,t?8===n.nodeType?n.parentNode.insertBefore(e,t):n.insertBefore(e,t):(8===n.nodeType?(t=n.parentNode).insertBefore(e,n):(t=n).appendChild(e),null!=(n=n._reactRootContainer)||null!==t.onclick||(t.onclick=Jr));else if(4!==r&&null!==(e=e.child))for(sl(e,t,n),e=e.sibling;null!==e;)sl(e,t,n),e=e.sibling}function cl(e,t,n){var r=e.tag;if(5===r||6===r)e=e.stateNode,t?n.insertBefore(e,t):n.appendChild(e);else if(4!==r&&null!==(e=e.child))for(cl(e,t,n),e=e.sibling;null!==e;)cl(e,t,n),e=e.sibling}var fl=null,pl=!1;function dl(e,t,n){for(n=n.child;null!==n;)hl(e,t,n),n=n.sibling}function hl(e,t,n){if(it&&\"function\"==typeof it.onCommitFiberUnmount)try{it.onCommitFiberUnmount(at,n)}catch(e){}switch(n.tag){case 5:Zu||el(n,t);case 6:var r=fl,a=pl;fl=null,dl(e,t,n),pl=a,null!==(fl=r)&&(pl?(e=fl,n=n.stateNode,8===e.nodeType?e.parentNode.removeChild(n):e.removeChild(n)):fl.removeChild(n.stateNode));break;case 18:null!==fl&&(pl?(e=fl,n=n.stateNode,8===e.nodeType?la(e.parentNode,n):1===e.nodeType&&la(e,n),Bt(e)):la(fl,n.stateNode));break;case 4:r=fl,a=pl,fl=n.stateNode.containerInfo,pl=!0,dl(e,t,n),fl=r,pl=a;break;case 0:case 11:case 14:case 15:if(!Zu&&null!==(r=n.updateQueue)&&null!==(r=r.lastEffect)){a=r=r.next;do{var i=a,o=i.destroy;i=i.tag,void 0!==o&&(0!=(2&i)||0!=(4&i))&&tl(n,t,o),a=a.next}while(a!==r)}dl(e,t,n);break;case 1:if(!Zu&&(el(n,t),\"function\"==typeof(r=n.stateNode).componentWillUnmount))try{r.props=n.memoizedProps,r.state=n.memoizedState,r.componentWillUnmount()}catch(e){Es(n,t,e)}dl(e,t,n);break;case 21:dl(e,t,n);break;case 22:1&n.mode?(Zu=(r=Zu)||null!==n.memoizedState,dl(e,t,n),Zu=r):dl(e,t,n);break;default:dl(e,t,n)}}function vl(e){var t=e.updateQueue;if(null!==t){e.updateQueue=null;var n=e.stateNode;null===n&&(n=e.stateNode=new Xu),t.forEach((function(t){var r=Ns.bind(null,e,t);n.has(t)||(n.add(t),t.then(r,r))}))}}function gl(e,t){var n=t.deletions;if(null!==n)for(var r=0;r<n.length;r++){var a=n[r];try{var o=e,u=t,l=u;e:for(;null!==l;){switch(l.tag){case 5:fl=l.stateNode,pl=!1;break e;case 3:case 4:fl=l.stateNode.containerInfo,pl=!0;break e}l=l.return}if(null===fl)throw Error(i(160));hl(o,u,a),fl=null,pl=!1;var s=a.alternate;null!==s&&(s.return=null),a.return=null}catch(e){Es(a,t,e)}}if(12854&t.subtreeFlags)for(t=t.child;null!==t;)yl(t,e),t=t.sibling}function yl(e,t){var n=e.alternate,r=e.flags;switch(e.tag){case 0:case 11:case 14:case 15:if(gl(t,e),ml(e),4&r){try{rl(3,e,e.return),al(3,e)}catch(t){Es(e,e.return,t)}try{rl(5,e,e.return)}catch(t){Es(e,e.return,t)}}break;case 1:gl(t,e),ml(e),512&r&&null!==n&&el(n,n.return);break;case 5:if(gl(t,e),ml(e),512&r&&null!==n&&el(n,n.return),32&e.flags){var a=e.stateNode;try{pe(a,\"\")}catch(t){Es(e,e.return,t)}}if(4&r&&null!=(a=e.stateNode)){var o=e.memoizedProps,u=null!==n?n.memoizedProps:o,l=e.type,s=e.updateQueue;if(e.updateQueue=null,null!==s)try{\"input\"===l&&\"radio\"===o.type&&null!=o.name&&Z(a,o),be(l,u);var c=be(l,o);for(u=0;u<s.length;u+=2){var f=s[u],p=s[u+1];\"style\"===f?ge(a,p):\"dangerouslySetInnerHTML\"===f?fe(a,p):\"children\"===f?pe(a,p):b(a,f,p,c)}switch(l){case\"input\":X(a,o);break;case\"textarea\":ie(a,o);break;case\"select\":var d=a._wrapperState.wasMultiple;a._wrapperState.wasMultiple=!!o.multiple;var h=o.value;null!=h?ne(a,!!o.multiple,h,!1):d!==!!o.multiple&&(null!=o.defaultValue?ne(a,!!o.multiple,o.defaultValue,!0):ne(a,!!o.multiple,o.multiple?[]:\"\",!1))}a[da]=o}catch(t){Es(e,e.return,t)}}break;case 6:if(gl(t,e),ml(e),4&r){if(null===e.stateNode)throw Error(i(162));a=e.stateNode,o=e.memoizedProps;try{a.nodeValue=o}catch(t){Es(e,e.return,t)}}break;case 3:if(gl(t,e),ml(e),4&r&&null!==n&&n.memoizedState.isDehydrated)try{Bt(t.containerInfo)}catch(t){Es(e,e.return,t)}break;case 4:default:gl(t,e),ml(e);break;case 13:gl(t,e),ml(e),8192&(a=e.child).flags&&(o=null!==a.memoizedState,a.stateNode.isHidden=o,!o||null!==a.alternate&&null!==a.alternate.memoizedState||(Bl=Ze())),4&r&&vl(e);break;case 22:if(f=null!==n&&null!==n.memoizedState,1&e.mode?(Zu=(c=Zu)||f,gl(t,e),Zu=c):gl(t,e),ml(e),8192&r){if(c=null!==e.memoizedState,(e.stateNode.isHidden=c)&&!f&&0!=(1&e.mode))for(Ju=e,f=e.child;null!==f;){for(p=Ju=f;null!==Ju;){switch(h=(d=Ju).child,d.tag){case 0:case 11:case 14:case 15:rl(4,d,d.return);break;case 1:el(d,d.return);var v=d.stateNode;if(\"function\"==typeof v.componentWillUnmount){r=d,n=d.return;try{t=r,v.props=t.memoizedProps,v.state=t.memoizedState,v.componentWillUnmount()}catch(e){Es(r,n,e)}}break;case 5:el(d,d.return);break;case 22:if(null!==d.memoizedState){xl(p);continue}}null!==h?(h.return=d,Ju=h):xl(p)}f=f.sibling}e:for(f=null,p=e;;){if(5===p.tag){if(null===f){f=p;try{a=p.stateNode,c?\"function\"==typeof(o=a.style).setProperty?o.setProperty(\"display\",\"none\",\"important\"):o.display=\"none\":(l=p.stateNode,u=null!=(s=p.memoizedProps.style)&&s.hasOwnProperty(\"display\")?s.display:null,l.style.display=ve(\"display\",u))}catch(t){Es(e,e.return,t)}}}else if(6===p.tag){if(null===f)try{p.stateNode.nodeValue=c?\"\":p.memoizedProps}catch(t){Es(e,e.return,t)}}else if((22!==p.tag&&23!==p.tag||null===p.memoizedState||p===e)&&null!==p.child){p.child.return=p,p=p.child;continue}if(p===e)break e;for(;null===p.sibling;){if(null===p.return||p.return===e)break e;f===p&&(f=null),p=p.return}f===p&&(f=null),p.sibling.return=p.return,p=p.sibling}}break;case 19:gl(t,e),ml(e),4&r&&vl(e);case 21:}}function ml(e){var t=e.flags;if(2&t){try{e:{for(var n=e.return;null!==n;){if(ul(n)){var r=n;break e}n=n.return}throw Error(i(160))}switch(r.tag){case 5:var a=r.stateNode;32&r.flags&&(pe(a,\"\"),r.flags&=-33),cl(e,ll(e),a);break;case 3:case 4:var o=r.stateNode.containerInfo;sl(e,ll(e),o);break;default:throw Error(i(161))}}catch(t){Es(e,e.return,t)}e.flags&=-3}4096&t&&(e.flags&=-4097)}function bl(e,t,n){Ju=e,_l(e,t,n)}function _l(e,t,n){for(var r=0!=(1&e.mode);null!==Ju;){var a=Ju,i=a.child;if(22===a.tag&&r){var o=null!==a.memoizedState||Ku;if(!o){var u=a.alternate,l=null!==u&&null!==u.memoizedState||Zu;u=Ku;var s=Zu;if(Ku=o,(Zu=l)&&!s)for(Ju=a;null!==Ju;)l=(o=Ju).child,22===o.tag&&null!==o.memoizedState?kl(a):null!==l?(l.return=o,Ju=l):kl(a);for(;null!==i;)Ju=i,_l(i,t,n),i=i.sibling;Ju=a,Ku=u,Zu=s}wl(e)}else 0!=(8772&a.subtreeFlags)&&null!==i?(i.return=a,Ju=i):wl(e)}}function wl(e){for(;null!==Ju;){var t=Ju;if(0!=(8772&t.flags)){var n=t.alternate;try{if(0!=(8772&t.flags))switch(t.tag){case 0:case 11:case 15:Zu||al(5,t);break;case 1:var r=t.stateNode;if(4&t.flags&&!Zu)if(null===n)r.componentDidMount();else{var a=t.elementType===t.type?n.memoizedProps:gi(t.type,n.memoizedProps);r.componentDidUpdate(a,n.memoizedState,r.__reactInternalSnapshotBeforeUpdate)}var o=t.updateQueue;null!==o&&ji(t,o,r);break;case 3:var u=t.updateQueue;if(null!==u){if(n=null,null!==t.child)switch(t.child.tag){case 5:case 1:n=t.child.stateNode}ji(t,u,n)}break;case 5:var l=t.stateNode;if(null===n&&4&t.flags){n=l;var s=t.memoizedProps;switch(t.type){case\"button\":case\"input\":case\"select\":case\"textarea\":s.autoFocus&&n.focus();break;case\"img\":s.src&&(n.src=s.src)}}break;case 6:case 4:case 12:case 19:case 17:case 21:case 22:case 23:case 25:break;case 13:if(null===t.memoizedState){var c=t.alternate;if(null!==c){var f=c.memoizedState;if(null!==f){var p=f.dehydrated;null!==p&&Bt(p)}}}break;default:throw Error(i(163))}Zu||512&t.flags&&il(t)}catch(e){Es(t,t.return,e)}}if(t===e){Ju=null;break}if(null!==(n=t.sibling)){n.return=t.return,Ju=n;break}Ju=t.return}}function xl(e){for(;null!==Ju;){var t=Ju;if(t===e){Ju=null;break}var n=t.sibling;if(null!==n){n.return=t.return,Ju=n;break}Ju=t.return}}function kl(e){for(;null!==Ju;){var t=Ju;try{switch(t.tag){case 0:case 11:case 15:var n=t.return;try{al(4,t)}catch(e){Es(t,n,e)}break;case 1:var r=t.stateNode;if(\"function\"==typeof r.componentDidMount){var a=t.return;try{r.componentDidMount()}catch(e){Es(t,a,e)}}var i=t.return;try{il(t)}catch(e){Es(t,i,e)}break;case 5:var o=t.return;try{il(t)}catch(e){Es(t,o,e)}}}catch(e){Es(t,t.return,e)}if(t===e){Ju=null;break}var u=t.sibling;if(null!==u){u.return=t.return,Ju=u;break}Ju=t.return}}var Sl,El=Math.ceil,Cl=_.ReactCurrentDispatcher,Tl=_.ReactCurrentOwner,Ml=_.ReactCurrentBatchConfig,Nl=0,Pl=null,zl=null,Ll=0,Ol=0,Al=Sa(0),Fl=0,Dl=null,Rl=0,jl=0,Ul=0,Il=null,$l=null,Bl=0,Wl=1/0,Vl=null,Hl=!1,ql=null,Ql=null,Yl=!1,Gl=null,Kl=0,Zl=0,Xl=null,Jl=-1,es=0;function ts(){return 0!=(6&Nl)?Ze():-1!==Jl?Jl:Jl=Ze()}function ns(e){return 0==(1&e.mode)?1:0!=(2&Nl)&&0!==Ll?Ll&-Ll:null!==vi.transition?(0===es&&(es=vt()),es):0!==(e=bt)?e:e=void 0===(e=window.event)?16:Kt(e.type)}function rs(e,t,n,r){if(50<Zl)throw Zl=0,Xl=null,Error(i(185));yt(e,n,r),0!=(2&Nl)&&e===Pl||(e===Pl&&(0==(2&Nl)&&(jl|=n),4===Fl&&ls(e,Ll)),as(e,r),1===n&&0===Nl&&0==(1&t.mode)&&(Wl=Ze()+500,Ua&&Ba()))}function as(e,t){var n=e.callbackNode;!function(e,t){for(var n=e.suspendedLanes,r=e.pingedLanes,a=e.expirationTimes,i=e.pendingLanes;0<i;){var o=31-ot(i),u=1<<o,l=a[o];-1===l?0!=(u&n)&&0==(u&r)||(a[o]=dt(u,t)):l<=t&&(e.expiredLanes|=u),i&=~u}}(e,t);var r=pt(e,e===Pl?Ll:0);if(0===r)null!==n&&Ye(n),e.callbackNode=null,e.callbackPriority=0;else if(t=r&-r,e.callbackPriority!==t){if(null!=n&&Ye(n),1===t)0===e.tag?function(e){Ua=!0,$a(e)}(ss.bind(null,e)):$a(ss.bind(null,e)),oa((function(){0==(6&Nl)&&Ba()})),n=null;else{switch(_t(r)){case 1:n=Je;break;case 4:n=et;break;case 16:default:n=tt;break;case 536870912:n=rt}n=Ps(n,is.bind(null,e))}e.callbackPriority=t,e.callbackNode=n}}function is(e,t){if(Jl=-1,es=0,0!=(6&Nl))throw Error(i(327));var n=e.callbackNode;if(ks()&&e.callbackNode!==n)return null;var r=pt(e,e===Pl?Ll:0);if(0===r)return null;if(0!=(30&r)||0!=(r&e.expiredLanes)||t)t=ys(e,r);else{t=r;var a=Nl;Nl|=2;var o=vs();for(Pl===e&&Ll===t||(Vl=null,Wl=Ze()+500,ds(e,t));;)try{bs();break}catch(t){hs(e,t)}wi(),Cl.current=o,Nl=a,null!==zl?t=0:(Pl=null,Ll=0,t=Fl)}if(0!==t){if(2===t&&0!==(a=ht(e))&&(r=a,t=os(e,a)),1===t)throw n=Dl,ds(e,0),ls(e,r),as(e,Ze()),n;if(6===t)ls(e,r);else{if(a=e.current.alternate,0==(30&r)&&!function(e){for(var t=e;;){if(16384&t.flags){var n=t.updateQueue;if(null!==n&&null!==(n=n.stores))for(var r=0;r<n.length;r++){var a=n[r],i=a.getSnapshot;a=a.value;try{if(!ur(i(),a))return!1}catch(e){return!1}}}if(n=t.child,16384&t.subtreeFlags&&null!==n)n.return=t,t=n;else{if(t===e)break;for(;null===t.sibling;){if(null===t.return||t.return===e)return!0;t=t.return}t.sibling.return=t.return,t=t.sibling}}return!0}(a)&&(2===(t=ys(e,r))&&0!==(o=ht(e))&&(r=o,t=os(e,o)),1===t))throw n=Dl,ds(e,0),ls(e,r),as(e,Ze()),n;switch(e.finishedWork=a,e.finishedLanes=r,t){case 0:case 1:throw Error(i(345));case 2:case 5:xs(e,$l,Vl);break;case 3:if(ls(e,r),(130023424&r)===r&&10<(t=Bl+500-Ze())){if(0!==pt(e,0))break;if(((a=e.suspendedLanes)&r)!==r){ts(),e.pingedLanes|=e.suspendedLanes&a;break}e.timeoutHandle=ra(xs.bind(null,e,$l,Vl),t);break}xs(e,$l,Vl);break;case 4:if(ls(e,r),(4194240&r)===r)break;for(t=e.eventTimes,a=-1;0<r;){var u=31-ot(r);o=1<<u,(u=t[u])>a&&(a=u),r&=~o}if(r=a,10<(r=(120>(r=Ze()-r)?120:480>r?480:1080>r?1080:1920>r?1920:3e3>r?3e3:4320>r?4320:1960*El(r/1960))-r)){e.timeoutHandle=ra(xs.bind(null,e,$l,Vl),r);break}xs(e,$l,Vl);break;default:throw Error(i(329))}}}return as(e,Ze()),e.callbackNode===n?is.bind(null,e):null}function os(e,t){var n=Il;return e.current.memoizedState.isDehydrated&&(ds(e,t).flags|=256),2!==(e=ys(e,t))&&(t=$l,$l=n,null!==t&&us(t)),e}function us(e){null===$l?$l=e:$l.push.apply($l,e)}function ls(e,t){for(t&=~Ul,t&=~jl,e.suspendedLanes|=t,e.pingedLanes&=~t,e=e.expirationTimes;0<t;){var n=31-ot(t),r=1<<n;e[n]=-1,t&=~r}}function ss(e){if(0!=(6&Nl))throw Error(i(327));ks();var t=pt(e,0);if(0==(1&t))return as(e,Ze()),null;var n=ys(e,t);if(0!==e.tag&&2===n){var r=ht(e);0!==r&&(t=r,n=os(e,r))}if(1===n)throw n=Dl,ds(e,0),ls(e,t),as(e,Ze()),n;if(6===n)throw Error(i(345));return e.finishedWork=e.current.alternate,e.finishedLanes=t,xs(e,$l,Vl),as(e,Ze()),null}function cs(e,t){var n=Nl;Nl|=1;try{return e(t)}finally{0===(Nl=n)&&(Wl=Ze()+500,Ua&&Ba())}}function fs(e){null!==Gl&&0===Gl.tag&&0==(6&Nl)&&ks();var t=Nl;Nl|=1;var n=Ml.transition,r=bt;try{if(Ml.transition=null,bt=1,e)return e()}finally{bt=r,Ml.transition=n,0==(6&(Nl=t))&&Ba()}}function ps(){Ol=Al.current,Ea(Al)}function ds(e,t){e.finishedWork=null,e.finishedLanes=0;var n=e.timeoutHandle;if(-1!==n&&(e.timeoutHandle=-1,aa(n)),null!==zl)for(n=zl.return;null!==n;){var r=n;switch(ti(r),r.tag){case 1:null!=(r=r.type.childContextTypes)&&Oa();break;case 3:ao(),Ea(Na),Ea(Ma),co();break;case 5:oo(r);break;case 4:ao();break;case 13:case 19:Ea(uo);break;case 10:xi(r.type._context);break;case 22:case 23:ps()}n=n.return}if(Pl=e,zl=e=As(e.current,null),Ll=Ol=t,Fl=0,Dl=null,Ul=jl=Rl=0,$l=Il=null,null!==Ci){for(t=0;t<Ci.length;t++)if(null!==(r=(n=Ci[t]).interleaved)){n.interleaved=null;var a=r.next,i=n.pending;if(null!==i){var o=i.next;i.next=a,r.next=o}n.pending=r}Ci=null}return e}function hs(e,t){for(;;){var n=zl;try{if(wi(),fo.current=ou,mo){for(var r=vo.memoizedState;null!==r;){var a=r.queue;null!==a&&(a.pending=null),r=r.next}mo=!1}if(ho=0,yo=go=vo=null,bo=!1,_o=0,Tl.current=null,null===n||null===n.return){Fl=1,Dl=t,zl=null;break}e:{var o=e,u=n.return,l=n,s=t;if(t=Ll,l.flags|=32768,null!==s&&\"object\"==typeof s&&\"function\"==typeof s.then){var c=s,f=l,p=f.tag;if(0==(1&f.mode)&&(0===p||11===p||15===p)){var d=f.alternate;d?(f.updateQueue=d.updateQueue,f.memoizedState=d.memoizedState,f.lanes=d.lanes):(f.updateQueue=null,f.memoizedState=null)}var h=yu(u);if(null!==h){h.flags&=-257,mu(h,u,l,0,t),1&h.mode&&gu(o,c,t),s=c;var v=(t=h).updateQueue;if(null===v){var g=new Set;g.add(s),t.updateQueue=g}else v.add(s);break e}if(0==(1&t)){gu(o,c,t),gs();break e}s=Error(i(426))}else if(ai&&1&l.mode){var y=yu(u);if(null!==y){0==(65536&y.flags)&&(y.flags|=256),mu(y,u,l,0,t),hi(cu(s,l));break e}}o=s=cu(s,l),4!==Fl&&(Fl=2),null===Il?Il=[o]:Il.push(o),o=u;do{switch(o.tag){case 3:o.flags|=65536,t&=-t,o.lanes|=t,Di(o,hu(0,s,t));break e;case 1:l=s;var m=o.type,b=o.stateNode;if(0==(128&o.flags)&&(\"function\"==typeof m.getDerivedStateFromError||null!==b&&\"function\"==typeof b.componentDidCatch&&(null===Ql||!Ql.has(b)))){o.flags|=65536,t&=-t,o.lanes|=t,Di(o,vu(o,l,t));break e}}o=o.return}while(null!==o)}ws(n)}catch(e){t=e,zl===n&&null!==n&&(zl=n=n.return);continue}break}}function vs(){var e=Cl.current;return Cl.current=ou,null===e?ou:e}function gs(){0!==Fl&&3!==Fl&&2!==Fl||(Fl=4),null===Pl||0==(268435455&Rl)&&0==(268435455&jl)||ls(Pl,Ll)}function ys(e,t){var n=Nl;Nl|=2;var r=vs();for(Pl===e&&Ll===t||(Vl=null,ds(e,t));;)try{ms();break}catch(t){hs(e,t)}if(wi(),Nl=n,Cl.current=r,null!==zl)throw Error(i(261));return Pl=null,Ll=0,Fl}function ms(){for(;null!==zl;)_s(zl)}function bs(){for(;null!==zl&&!Ge();)_s(zl)}function _s(e){var t=Sl(e.alternate,e,Ol);e.memoizedProps=e.pendingProps,null===t?ws(e):zl=t,Tl.current=null}function ws(e){var t=e;do{var n=t.alternate;if(e=t.return,0==(32768&t.flags)){if(null!==(n=Yu(n,t,Ol)))return void(zl=n)}else{if(null!==(n=Gu(n,t)))return n.flags&=32767,void(zl=n);if(null===e)return Fl=6,void(zl=null);e.flags|=32768,e.subtreeFlags=0,e.deletions=null}if(null!==(t=t.sibling))return void(zl=t);zl=t=e}while(null!==t);0===Fl&&(Fl=5)}function xs(e,t,n){var r=bt,a=Ml.transition;try{Ml.transition=null,bt=1,function(e,t,n,r){do{ks()}while(null!==Gl);if(0!=(6&Nl))throw Error(i(327));n=e.finishedWork;var a=e.finishedLanes;if(null===n)return null;if(e.finishedWork=null,e.finishedLanes=0,n===e.current)throw Error(i(177));e.callbackNode=null,e.callbackPriority=0;var o=n.lanes|n.childLanes;if(function(e,t){var n=e.pendingLanes&~t;e.pendingLanes=t,e.suspendedLanes=0,e.pingedLanes=0,e.expiredLanes&=t,e.mutableReadLanes&=t,e.entangledLanes&=t,t=e.entanglements;var r=e.eventTimes;for(e=e.expirationTimes;0<n;){var a=31-ot(n),i=1<<a;t[a]=0,r[a]=-1,e[a]=-1,n&=~i}}(e,o),e===Pl&&(zl=Pl=null,Ll=0),0==(2064&n.subtreeFlags)&&0==(2064&n.flags)||Yl||(Yl=!0,Ps(tt,(function(){return ks(),null}))),o=0!=(15990&n.flags),0!=(15990&n.subtreeFlags)||o){o=Ml.transition,Ml.transition=null;var u=bt;bt=1;var l=Nl;Nl|=4,Tl.current=null,function(e,t){if(ea=Vt,dr(e=pr())){if(\"selectionStart\"in e)var n={start:e.selectionStart,end:e.selectionEnd};else e:{var r=(n=(n=e.ownerDocument)&&n.defaultView||window).getSelection&&n.getSelection();if(r&&0!==r.rangeCount){n=r.anchorNode;var a=r.anchorOffset,o=r.focusNode;r=r.focusOffset;try{n.nodeType,o.nodeType}catch(e){n=null;break e}var u=0,l=-1,s=-1,c=0,f=0,p=e,d=null;t:for(;;){for(var h;p!==n||0!==a&&3!==p.nodeType||(l=u+a),p!==o||0!==r&&3!==p.nodeType||(s=u+r),3===p.nodeType&&(u+=p.nodeValue.length),null!==(h=p.firstChild);)d=p,p=h;for(;;){if(p===e)break t;if(d===n&&++c===a&&(l=u),d===o&&++f===r&&(s=u),null!==(h=p.nextSibling))break;d=(p=d).parentNode}p=h}n=-1===l||-1===s?null:{start:l,end:s}}else n=null}n=n||{start:0,end:0}}else n=null;for(ta={focusedElem:e,selectionRange:n},Vt=!1,Ju=t;null!==Ju;)if(e=(t=Ju).child,0!=(1028&t.subtreeFlags)&&null!==e)e.return=t,Ju=e;else for(;null!==Ju;){t=Ju;try{var v=t.alternate;if(0!=(1024&t.flags))switch(t.tag){case 0:case 11:case 15:case 5:case 6:case 4:case 17:break;case 1:if(null!==v){var g=v.memoizedProps,y=v.memoizedState,m=t.stateNode,b=m.getSnapshotBeforeUpdate(t.elementType===t.type?g:gi(t.type,g),y);m.__reactInternalSnapshotBeforeUpdate=b}break;case 3:var _=t.stateNode.containerInfo;1===_.nodeType?_.textContent=\"\":9===_.nodeType&&_.documentElement&&_.removeChild(_.documentElement);break;default:throw Error(i(163))}}catch(e){Es(t,t.return,e)}if(null!==(e=t.sibling)){e.return=t.return,Ju=e;break}Ju=t.return}v=nl,nl=!1}(e,n),yl(n,e),hr(ta),Vt=!!ea,ta=ea=null,e.current=n,bl(n,e,a),Ke(),Nl=l,bt=u,Ml.transition=o}else e.current=n;if(Yl&&(Yl=!1,Gl=e,Kl=a),0===(o=e.pendingLanes)&&(Ql=null),function(e){if(it&&\"function\"==typeof it.onCommitFiberRoot)try{it.onCommitFiberRoot(at,e,void 0,128==(128&e.current.flags))}catch(e){}}(n.stateNode),as(e,Ze()),null!==t)for(r=e.onRecoverableError,n=0;n<t.length;n++)r((a=t[n]).value,{componentStack:a.stack,digest:a.digest});if(Hl)throw Hl=!1,e=ql,ql=null,e;0!=(1&Kl)&&0!==e.tag&&ks(),0!=(1&(o=e.pendingLanes))?e===Xl?Zl++:(Zl=0,Xl=e):Zl=0,Ba()}(e,t,n,r)}finally{Ml.transition=a,bt=r}return null}function ks(){if(null!==Gl){var e=_t(Kl),t=Ml.transition,n=bt;try{if(Ml.transition=null,bt=16>e?16:e,null===Gl)var r=!1;else{if(e=Gl,Gl=null,Kl=0,0!=(6&Nl))throw Error(i(331));var a=Nl;for(Nl|=4,Ju=e.current;null!==Ju;){var o=Ju,u=o.child;if(0!=(16&Ju.flags)){var l=o.deletions;if(null!==l){for(var s=0;s<l.length;s++){var c=l[s];for(Ju=c;null!==Ju;){var f=Ju;switch(f.tag){case 0:case 11:case 15:rl(8,f,o)}var p=f.child;if(null!==p)p.return=f,Ju=p;else for(;null!==Ju;){var d=(f=Ju).sibling,h=f.return;if(ol(f),f===c){Ju=null;break}if(null!==d){d.return=h,Ju=d;break}Ju=h}}}var v=o.alternate;if(null!==v){var g=v.child;if(null!==g){v.child=null;do{var y=g.sibling;g.sibling=null,g=y}while(null!==g)}}Ju=o}}if(0!=(2064&o.subtreeFlags)&&null!==u)u.return=o,Ju=u;else e:for(;null!==Ju;){if(0!=(2048&(o=Ju).flags))switch(o.tag){case 0:case 11:case 15:rl(9,o,o.return)}var m=o.sibling;if(null!==m){m.return=o.return,Ju=m;break e}Ju=o.return}}var b=e.current;for(Ju=b;null!==Ju;){var _=(u=Ju).child;if(0!=(2064&u.subtreeFlags)&&null!==_)_.return=u,Ju=_;else e:for(u=b;null!==Ju;){if(0!=(2048&(l=Ju).flags))try{switch(l.tag){case 0:case 11:case 15:al(9,l)}}catch(e){Es(l,l.return,e)}if(l===u){Ju=null;break e}var w=l.sibling;if(null!==w){w.return=l.return,Ju=w;break e}Ju=l.return}}if(Nl=a,Ba(),it&&\"function\"==typeof it.onPostCommitFiberRoot)try{it.onPostCommitFiberRoot(at,e)}catch(e){}r=!0}return r}finally{bt=n,Ml.transition=t}}return!1}function Ss(e,t,n){e=Ai(e,t=hu(0,t=cu(n,t),1),1),t=ts(),null!==e&&(yt(e,1,t),as(e,t))}function Es(e,t,n){if(3===e.tag)Ss(e,e,n);else for(;null!==t;){if(3===t.tag){Ss(t,e,n);break}if(1===t.tag){var r=t.stateNode;if(\"function\"==typeof t.type.getDerivedStateFromError||\"function\"==typeof r.componentDidCatch&&(null===Ql||!Ql.has(r))){t=Ai(t,e=vu(t,e=cu(n,e),1),1),e=ts(),null!==t&&(yt(t,1,e),as(t,e));break}}t=t.return}}function Cs(e,t,n){var r=e.pingCache;null!==r&&r.delete(t),t=ts(),e.pingedLanes|=e.suspendedLanes&n,Pl===e&&(Ll&n)===n&&(4===Fl||3===Fl&&(130023424&Ll)===Ll&&500>Ze()-Bl?ds(e,0):Ul|=n),as(e,t)}function Ts(e,t){0===t&&(0==(1&e.mode)?t=1:(t=ct,0==(130023424&(ct<<=1))&&(ct=4194304)));var n=ts();null!==(e=Ni(e,t))&&(yt(e,t,n),as(e,n))}function Ms(e){var t=e.memoizedState,n=0;null!==t&&(n=t.retryLane),Ts(e,n)}function Ns(e,t){var n=0;switch(e.tag){case 13:var r=e.stateNode,a=e.memoizedState;null!==a&&(n=a.retryLane);break;case 19:r=e.stateNode;break;default:throw Error(i(314))}null!==r&&r.delete(t),Ts(e,n)}function Ps(e,t){return Qe(e,t)}function zs(e,t,n,r){this.tag=e,this.key=n,this.sibling=this.child=this.return=this.stateNode=this.type=this.elementType=null,this.index=0,this.ref=null,this.pendingProps=t,this.dependencies=this.memoizedState=this.updateQueue=this.memoizedProps=null,this.mode=r,this.subtreeFlags=this.flags=0,this.deletions=null,this.childLanes=this.lanes=0,this.alternate=null}function Ls(e,t,n,r){return new zs(e,t,n,r)}function Os(e){return!(!(e=e.prototype)||!e.isReactComponent)}function As(e,t){var n=e.alternate;return null===n?((n=Ls(e.tag,t,e.key,e.mode)).elementType=e.elementType,n.type=e.type,n.stateNode=e.stateNode,n.alternate=e,e.alternate=n):(n.pendingProps=t,n.type=e.type,n.flags=0,n.subtreeFlags=0,n.deletions=null),n.flags=14680064&e.flags,n.childLanes=e.childLanes,n.lanes=e.lanes,n.child=e.child,n.memoizedProps=e.memoizedProps,n.memoizedState=e.memoizedState,n.updateQueue=e.updateQueue,t=e.dependencies,n.dependencies=null===t?null:{lanes:t.lanes,firstContext:t.firstContext},n.sibling=e.sibling,n.index=e.index,n.ref=e.ref,n}function Fs(e,t,n,r,a,o){var u=2;if(r=e,\"function\"==typeof e)Os(e)&&(u=1);else if(\"string\"==typeof e)u=5;else e:switch(e){case k:return Ds(n.children,a,o,t);case S:u=8,a|=8;break;case E:return(e=Ls(12,n,t,2|a)).elementType=E,e.lanes=o,e;case N:return(e=Ls(13,n,t,a)).elementType=N,e.lanes=o,e;case P:return(e=Ls(19,n,t,a)).elementType=P,e.lanes=o,e;case O:return Rs(n,a,o,t);default:if(\"object\"==typeof e&&null!==e)switch(e.$$typeof){case C:u=10;break e;case T:u=9;break e;case M:u=11;break e;case z:u=14;break e;case L:u=16,r=null;break e}throw Error(i(130,null==e?e:typeof e,\"\"))}return(t=Ls(u,n,t,a)).elementType=e,t.type=r,t.lanes=o,t}function Ds(e,t,n,r){return(e=Ls(7,e,r,t)).lanes=n,e}function Rs(e,t,n,r){return(e=Ls(22,e,r,t)).elementType=O,e.lanes=n,e.stateNode={isHidden:!1},e}function js(e,t,n){return(e=Ls(6,e,null,t)).lanes=n,e}function Us(e,t,n){return(t=Ls(4,null!==e.children?e.children:[],e.key,t)).lanes=n,t.stateNode={containerInfo:e.containerInfo,pendingChildren:null,implementation:e.implementation},t}function Is(e,t,n,r,a){this.tag=t,this.containerInfo=e,this.finishedWork=this.pingCache=this.current=this.pendingChildren=null,this.timeoutHandle=-1,this.callbackNode=this.pendingContext=this.context=null,this.callbackPriority=0,this.eventTimes=gt(0),this.expirationTimes=gt(-1),this.entangledLanes=this.finishedLanes=this.mutableReadLanes=this.expiredLanes=this.pingedLanes=this.suspendedLanes=this.pendingLanes=0,this.entanglements=gt(0),this.identifierPrefix=r,this.onRecoverableError=a,this.mutableSourceEagerHydrationData=null}function $s(e,t,n,r,a,i,o,u,l){return e=new Is(e,t,n,u,l),1===t?(t=1,!0===i&&(t|=8)):t=0,i=Ls(3,null,null,t),e.current=i,i.stateNode=e,i.memoizedState={element:r,isDehydrated:n,cache:null,transitions:null,pendingSuspenseBoundaries:null},zi(i),e}function Bs(e){if(!e)return Ta;e:{if(Be(e=e._reactInternals)!==e||1!==e.tag)throw Error(i(170));var t=e;do{switch(t.tag){case 3:t=t.stateNode.context;break e;case 1:if(La(t.type)){t=t.stateNode.__reactInternalMemoizedMergedChildContext;break e}}t=t.return}while(null!==t);throw Error(i(171))}if(1===e.tag){var n=e.type;if(La(n))return Fa(e,n,t)}return t}function Ws(e,t,n,r,a,i,o,u,l){return(e=$s(n,r,!0,e,0,i,0,u,l)).context=Bs(null),n=e.current,(i=Oi(r=ts(),a=ns(n))).callback=null!=t?t:null,Ai(n,i,a),e.current.lanes=a,yt(e,a,r),as(e,r),e}function Vs(e,t,n,r){var a=t.current,i=ts(),o=ns(a);return n=Bs(n),null===t.context?t.context=n:t.pendingContext=n,(t=Oi(i,o)).payload={element:e},null!==(r=void 0===r?null:r)&&(t.callback=r),null!==(e=Ai(a,t,o))&&(rs(e,a,o,i),Fi(e,a,o)),o}function Hs(e){return(e=e.current).child?(e.child.tag,e.child.stateNode):null}function qs(e,t){if(null!==(e=e.memoizedState)&&null!==e.dehydrated){var n=e.retryLane;e.retryLane=0!==n&&n<t?n:t}}function Qs(e,t){qs(e,t),(e=e.alternate)&&qs(e,t)}Sl=function(e,t,n){if(null!==e)if(e.memoizedProps!==t.pendingProps||Na.current)_u=!0;else{if(0==(e.lanes&n)&&0==(128&t.flags))return _u=!1,function(e,t,n){switch(t.tag){case 3:Pu(t),di();break;case 5:io(t);break;case 1:La(t.type)&&Da(t);break;case 4:ro(t,t.stateNode.containerInfo);break;case 10:var r=t.type._context,a=t.memoizedProps.value;Ca(yi,r._currentValue),r._currentValue=a;break;case 13:if(null!==(r=t.memoizedState))return null!==r.dehydrated?(Ca(uo,1&uo.current),t.flags|=128,null):0!=(n&t.child.childLanes)?ju(e,t,n):(Ca(uo,1&uo.current),null!==(e=Hu(e,t,n))?e.sibling:null);Ca(uo,1&uo.current);break;case 19:if(r=0!=(n&t.childLanes),0!=(128&e.flags)){if(r)return Wu(e,t,n);t.flags|=128}if(null!==(a=t.memoizedState)&&(a.rendering=null,a.tail=null,a.lastEffect=null),Ca(uo,uo.current),r)break;return null;case 22:case 23:return t.lanes=0,Eu(e,t,n)}return Hu(e,t,n)}(e,t,n);_u=0!=(131072&e.flags)}else _u=!1,ai&&0!=(1048576&t.flags)&&Ja(t,qa,t.index);switch(t.lanes=0,t.tag){case 2:var r=t.type;Vu(e,t),e=t.pendingProps;var a=za(t,Ma.current);Si(t,n),a=So(null,t,r,e,a,n);var o=Eo();return t.flags|=1,\"object\"==typeof a&&null!==a&&\"function\"==typeof a.render&&void 0===a.$$typeof?(t.tag=1,t.memoizedState=null,t.updateQueue=null,La(r)?(o=!0,Da(t)):o=!1,t.memoizedState=null!==a.state&&void 0!==a.state?a.state:null,zi(t),a.updater=$i,t.stateNode=a,a._reactInternals=t,Hi(t,r,e,n),t=Nu(null,t,r,!0,o,n)):(t.tag=0,ai&&o&&ei(t),wu(null,t,a,n),t=t.child),t;case 16:r=t.elementType;e:{switch(Vu(e,t),e=t.pendingProps,r=(a=r._init)(r._payload),t.type=r,a=t.tag=function(e){if(\"function\"==typeof e)return Os(e)?1:0;if(null!=e){if((e=e.$$typeof)===M)return 11;if(e===z)return 14}return 2}(r),e=gi(r,e),a){case 0:t=Tu(null,t,r,e,n);break e;case 1:t=Mu(null,t,r,e,n);break e;case 11:t=xu(null,t,r,e,n);break e;case 14:t=ku(null,t,r,gi(r.type,e),n);break e}throw Error(i(306,r,\"\"))}return t;case 0:return r=t.type,a=t.pendingProps,Tu(e,t,r,a=t.elementType===r?a:gi(r,a),n);case 1:return r=t.type,a=t.pendingProps,Mu(e,t,r,a=t.elementType===r?a:gi(r,a),n);case 3:e:{if(Pu(t),null===e)throw Error(i(387));r=t.pendingProps,a=(o=t.memoizedState).element,Li(e,t),Ri(t,r,null,n);var u=t.memoizedState;if(r=u.element,o.isDehydrated){if(o={element:r,isDehydrated:!1,cache:u.cache,pendingSuspenseBoundaries:u.pendingSuspenseBoundaries,transitions:u.transitions},t.updateQueue.baseState=o,t.memoizedState=o,256&t.flags){t=zu(e,t,r,n,a=cu(Error(i(423)),t));break e}if(r!==a){t=zu(e,t,r,n,a=cu(Error(i(424)),t));break e}for(ri=sa(t.stateNode.containerInfo.firstChild),ni=t,ai=!0,ii=null,n=Zi(t,null,r,n),t.child=n;n;)n.flags=-3&n.flags|4096,n=n.sibling}else{if(di(),r===a){t=Hu(e,t,n);break e}wu(e,t,r,n)}t=t.child}return t;case 5:return io(t),null===e&&si(t),r=t.type,a=t.pendingProps,o=null!==e?e.memoizedProps:null,u=a.children,na(r,a)?u=null:null!==o&&na(r,o)&&(t.flags|=32),Cu(e,t),wu(e,t,u,n),t.child;case 6:return null===e&&si(t),null;case 13:return ju(e,t,n);case 4:return ro(t,t.stateNode.containerInfo),r=t.pendingProps,null===e?t.child=Ki(t,null,r,n):wu(e,t,r,n),t.child;case 11:return r=t.type,a=t.pendingProps,xu(e,t,r,a=t.elementType===r?a:gi(r,a),n);case 7:return wu(e,t,t.pendingProps,n),t.child;case 8:case 12:return wu(e,t,t.pendingProps.children,n),t.child;case 10:e:{if(r=t.type._context,a=t.pendingProps,o=t.memoizedProps,u=a.value,Ca(yi,r._currentValue),r._currentValue=u,null!==o)if(ur(o.value,u)){if(o.children===a.children&&!Na.current){t=Hu(e,t,n);break e}}else for(null!==(o=t.child)&&(o.return=t);null!==o;){var l=o.dependencies;if(null!==l){u=o.child;for(var s=l.firstContext;null!==s;){if(s.context===r){if(1===o.tag){(s=Oi(-1,n&-n)).tag=2;var c=o.updateQueue;if(null!==c){var f=(c=c.shared).pending;null===f?s.next=s:(s.next=f.next,f.next=s),c.pending=s}}o.lanes|=n,null!==(s=o.alternate)&&(s.lanes|=n),ki(o.return,n,t),l.lanes|=n;break}s=s.next}}else if(10===o.tag)u=o.type===t.type?null:o.child;else if(18===o.tag){if(null===(u=o.return))throw Error(i(341));u.lanes|=n,null!==(l=u.alternate)&&(l.lanes|=n),ki(u,n,t),u=o.sibling}else u=o.child;if(null!==u)u.return=o;else for(u=o;null!==u;){if(u===t){u=null;break}if(null!==(o=u.sibling)){o.return=u.return,u=o;break}u=u.return}o=u}wu(e,t,a.children,n),t=t.child}return t;case 9:return a=t.type,r=t.pendingProps.children,Si(t,n),r=r(a=Ei(a)),t.flags|=1,wu(e,t,r,n),t.child;case 14:return a=gi(r=t.type,t.pendingProps),ku(e,t,r,a=gi(r.type,a),n);case 15:return Su(e,t,t.type,t.pendingProps,n);case 17:return r=t.type,a=t.pendingProps,a=t.elementType===r?a:gi(r,a),Vu(e,t),t.tag=1,La(r)?(e=!0,Da(t)):e=!1,Si(t,n),Wi(t,r,a),Hi(t,r,a,n),Nu(null,t,r,!0,e,n);case 19:return Wu(e,t,n);case 22:return Eu(e,t,n)}throw Error(i(156,t.tag))};var Ys=\"function\"==typeof reportError?reportError:function(e){console.error(e)};function Gs(e){this._internalRoot=e}function Ks(e){this._internalRoot=e}function Zs(e){return!(!e||1!==e.nodeType&&9!==e.nodeType&&11!==e.nodeType)}function Xs(e){return!(!e||1!==e.nodeType&&9!==e.nodeType&&11!==e.nodeType&&(8!==e.nodeType||\" react-mount-point-unstable \"!==e.nodeValue))}function Js(){}function ec(e,t,n,r,a){var i=n._reactRootContainer;if(i){var o=i;if(\"function\"==typeof a){var u=a;a=function(){var e=Hs(o);u.call(e)}}Vs(t,o,e,a)}else o=function(e,t,n,r,a){if(a){if(\"function\"==typeof r){var i=r;r=function(){var e=Hs(o);i.call(e)}}var o=Ws(t,r,e,0,null,!1,0,\"\",Js);return e._reactRootContainer=o,e[ha]=o.current,Br(8===e.nodeType?e.parentNode:e),fs(),o}for(;a=e.lastChild;)e.removeChild(a);if(\"function\"==typeof r){var u=r;r=function(){var e=Hs(l);u.call(e)}}var l=$s(e,0,!1,null,0,!1,0,\"\",Js);return e._reactRootContainer=l,e[ha]=l.current,Br(8===e.nodeType?e.parentNode:e),fs((function(){Vs(t,l,n,r)})),l}(n,t,e,a,r);return Hs(o)}Ks.prototype.render=Gs.prototype.render=function(e){var t=this._internalRoot;if(null===t)throw Error(i(409));Vs(e,t,null,null)},Ks.prototype.unmount=Gs.prototype.unmount=function(){var e=this._internalRoot;if(null!==e){this._internalRoot=null;var t=e.containerInfo;fs((function(){Vs(null,e,null,null)})),t[ha]=null}},Ks.prototype.unstable_scheduleHydration=function(e){if(e){var t=St();e={blockedOn:null,target:e,priority:t};for(var n=0;n<Ot.length&&0!==t&&t<Ot[n].priority;n++);Ot.splice(n,0,e),0===n&&Rt(e)}},wt=function(e){switch(e.tag){case 3:var t=e.stateNode;if(t.current.memoizedState.isDehydrated){var n=ft(t.pendingLanes);0!==n&&(mt(t,1|n),as(t,Ze()),0==(6&Nl)&&(Wl=Ze()+500,Ba()))}break;case 13:fs((function(){var t=Ni(e,1);if(null!==t){var n=ts();rs(t,e,1,n)}})),Qs(e,1)}},xt=function(e){if(13===e.tag){var t=Ni(e,134217728);null!==t&&rs(t,e,134217728,ts()),Qs(e,134217728)}},kt=function(e){if(13===e.tag){var t=ns(e),n=Ni(e,t);null!==n&&rs(n,e,t,ts()),Qs(e,t)}},St=function(){return bt},Et=function(e,t){var n=bt;try{return bt=e,t()}finally{bt=n}},xe=function(e,t,n){switch(t){case\"input\":if(X(e,n),t=n.name,\"radio\"===n.type&&null!=t){for(n=e;n.parentNode;)n=n.parentNode;for(n=n.querySelectorAll(\"input[name=\"+JSON.stringify(\"\"+t)+'][type=\"radio\"]'),t=0;t<n.length;t++){var r=n[t];if(r!==e&&r.form===e.form){var a=wa(r);if(!a)throw Error(i(90));Q(r),X(r,a)}}}break;case\"textarea\":ie(e,n);break;case\"select\":null!=(t=n.value)&&ne(e,!!n.multiple,t,!1)}},Me=cs,Ne=fs;var tc={usingClientEntryPoint:!1,Events:[ba,_a,wa,Ce,Te,cs]},nc={findFiberByHostInstance:ma,bundleType:0,version:\"18.2.0\",rendererPackageName:\"react-dom\"},rc={bundleType:nc.bundleType,version:nc.version,rendererPackageName:nc.rendererPackageName,rendererConfig:nc.rendererConfig,overrideHookState:null,overrideHookStateDeletePath:null,overrideHookStateRenamePath:null,overrideProps:null,overridePropsDeletePath:null,overridePropsRenamePath:null,setErrorHandler:null,setSuspenseHandler:null,scheduleUpdate:null,currentDispatcherRef:_.ReactCurrentDispatcher,findHostInstanceByFiber:function(e){return null===(e=He(e))?null:e.stateNode},findFiberByHostInstance:nc.findFiberByHostInstance||function(){return null},findHostInstancesForRefresh:null,scheduleRefresh:null,scheduleRoot:null,setRefreshHandler:null,getCurrentFiber:null,reconcilerVersion:\"18.2.0-next-9e3b772b8-20220608\"};if(\"undefined\"!=typeof __REACT_DEVTOOLS_GLOBAL_HOOK__){var ac=__REACT_DEVTOOLS_GLOBAL_HOOK__;if(!ac.isDisabled&&ac.supportsFiber)try{at=ac.inject(rc),it=ac}catch(ce){}}t.__SECRET_INTERNALS_DO_NOT_USE_OR_YOU_WILL_BE_FIRED=tc,t.createPortal=function(e,t){var n=2<arguments.length&&void 0!==arguments[2]?arguments[2]:null;if(!Zs(t))throw Error(i(200));return function(e,t,n){var r=3<arguments.length&&void 0!==arguments[3]?arguments[3]:null;return{$$typeof:x,key:null==r?null:\"\"+r,children:e,containerInfo:t,implementation:n}}(e,t,null,n)},t.createRoot=function(e,t){if(!Zs(e))throw Error(i(299));var n=!1,r=\"\",a=Ys;return null!=t&&(!0===t.unstable_strictMode&&(n=!0),void 0!==t.identifierPrefix&&(r=t.identifierPrefix),void 0!==t.onRecoverableError&&(a=t.onRecoverableError)),t=$s(e,1,!1,null,0,n,0,r,a),e[ha]=t.current,Br(8===e.nodeType?e.parentNode:e),new Gs(t)},t.findDOMNode=function(e){if(null==e)return null;if(1===e.nodeType)return e;var t=e._reactInternals;if(void 0===t){if(\"function\"==typeof e.render)throw Error(i(188));throw e=Object.keys(e).join(\",\"),Error(i(268,e))}return null===(e=He(t))?null:e.stateNode},t.flushSync=function(e){return fs(e)},t.hydrate=function(e,t,n){if(!Xs(t))throw Error(i(200));return ec(null,e,t,!0,n)},t.hydrateRoot=function(e,t,n){if(!Zs(e))throw Error(i(405));var r=null!=n&&n.hydratedSources||null,a=!1,o=\"\",u=Ys;if(null!=n&&(!0===n.unstable_strictMode&&(a=!0),void 0!==n.identifierPrefix&&(o=n.identifierPrefix),void 0!==n.onRecoverableError&&(u=n.onRecoverableError)),t=Ws(t,null,e,1,null!=n?n:null,a,0,o,u),e[ha]=t.current,Br(e),r)for(e=0;e<r.length;e++)a=(a=(n=r[e])._getVersion)(n._source),null==t.mutableSourceEagerHydrationData?t.mutableSourceEagerHydrationData=[n,a]:t.mutableSourceEagerHydrationData.push(n,a);return new Ks(t)},t.render=function(e,t,n){if(!Xs(t))throw Error(i(200));return ec(null,e,t,!1,n)},t.unmountComponentAtNode=function(e){if(!Xs(e))throw Error(i(40));return!!e._reactRootContainer&&(fs((function(){ec(null,null,e,!1,(function(){e._reactRootContainer=null,e[ha]=null}))})),!0)},t.unstable_batchedUpdates=cs,t.unstable_renderSubtreeIntoContainer=function(e,t,n,r){if(!Xs(n))throw Error(i(200));if(null==e||void 0===e._reactInternals)throw Error(i(38));return ec(e,t,n,!1,r)},t.version=\"18.2.0-next-9e3b772b8-20220608\"},935:(e,t,n)=>{\"use strict\";!function e(){if(\"undefined\"!=typeof __REACT_DEVTOOLS_GLOBAL_HOOK__&&\"function\"==typeof __REACT_DEVTOOLS_GLOBAL_HOOK__.checkDCE)try{__REACT_DEVTOOLS_GLOBAL_HOOK__.checkDCE(e)}catch(e){console.error(e)}}(),e.exports=n(448)},408:(e,t)=>{\"use strict\";var n=Symbol.for(\"react.element\"),r=Symbol.for(\"react.portal\"),a=Symbol.for(\"react.fragment\"),i=Symbol.for(\"react.strict_mode\"),o=Symbol.for(\"react.profiler\"),u=Symbol.for(\"react.provider\"),l=Symbol.for(\"react.context\"),s=Symbol.for(\"react.forward_ref\"),c=Symbol.for(\"react.suspense\"),f=Symbol.for(\"react.memo\"),p=Symbol.for(\"react.lazy\"),d=Symbol.iterator,h={isMounted:function(){return!1},enqueueForceUpdate:function(){},enqueueReplaceState:function(){},enqueueSetState:function(){}},v=Object.assign,g={};function y(e,t,n){this.props=e,this.context=t,this.refs=g,this.updater=n||h}function m(){}function b(e,t,n){this.props=e,this.context=t,this.refs=g,this.updater=n||h}y.prototype.isReactComponent={},y.prototype.setState=function(e,t){if(\"object\"!=typeof e&&\"function\"!=typeof e&&null!=e)throw Error(\"setState(...): takes an object of state variables to update or a function which returns an object of state variables.\");this.updater.enqueueSetState(this,e,t,\"setState\")},y.prototype.forceUpdate=function(e){this.updater.enqueueForceUpdate(this,e,\"forceUpdate\")},m.prototype=y.prototype;var _=b.prototype=new m;_.constructor=b,v(_,y.prototype),_.isPureReactComponent=!0;var w=Array.isArray,x=Object.prototype.hasOwnProperty,k={current:null},S={key:!0,ref:!0,__self:!0,__source:!0};function E(e,t,r){var a,i={},o=null,u=null;if(null!=t)for(a in void 0!==t.ref&&(u=t.ref),void 0!==t.key&&(o=\"\"+t.key),t)x.call(t,a)&&!S.hasOwnProperty(a)&&(i[a]=t[a]);var l=arguments.length-2;if(1===l)i.children=r;else if(1<l){for(var s=Array(l),c=0;c<l;c++)s[c]=arguments[c+2];i.children=s}if(e&&e.defaultProps)for(a in l=e.defaultProps)void 0===i[a]&&(i[a]=l[a]);return{$$typeof:n,type:e,key:o,ref:u,props:i,_owner:k.current}}function C(e){return\"object\"==typeof e&&null!==e&&e.$$typeof===n}var T=/\\/+/g;function M(e,t){return\"object\"==typeof e&&null!==e&&null!=e.key?function(e){var t={\"=\":\"=0\",\":\":\"=2\"};return\"$\"+e.replace(/[=:]/g,(function(e){return t[e]}))}(\"\"+e.key):t.toString(36)}function N(e,t,a,i,o){var u=typeof e;\"undefined\"!==u&&\"boolean\"!==u||(e=null);var l=!1;if(null===e)l=!0;else switch(u){case\"string\":case\"number\":l=!0;break;case\"object\":switch(e.$$typeof){case n:case r:l=!0}}if(l)return o=o(l=e),e=\"\"===i?\".\"+M(l,0):i,w(o)?(a=\"\",null!=e&&(a=e.replace(T,\"$&/\")+\"/\"),N(o,t,a,\"\",(function(e){return e}))):null!=o&&(C(o)&&(o=function(e,t){return{$$typeof:n,type:e.type,key:t,ref:e.ref,props:e.props,_owner:e._owner}}(o,a+(!o.key||l&&l.key===o.key?\"\":(\"\"+o.key).replace(T,\"$&/\")+\"/\")+e)),t.push(o)),1;if(l=0,i=\"\"===i?\".\":i+\":\",w(e))for(var s=0;s<e.length;s++){var c=i+M(u=e[s],s);l+=N(u,t,a,c,o)}else if(c=function(e){return null===e||\"object\"!=typeof e?null:\"function\"==typeof(e=d&&e[d]||e[\"@@iterator\"])?e:null}(e),\"function\"==typeof c)for(e=c.call(e),s=0;!(u=e.next()).done;)l+=N(u=u.value,t,a,c=i+M(u,s++),o);else if(\"object\"===u)throw t=String(e),Error(\"Objects are not valid as a React child (found: \"+(\"[object Object]\"===t?\"object with keys {\"+Object.keys(e).join(\", \")+\"}\":t)+\"). If you meant to render a collection of children, use an array instead.\");return l}function P(e,t,n){if(null==e)return e;var r=[],a=0;return N(e,r,\"\",\"\",(function(e){return t.call(n,e,a++)})),r}function z(e){if(-1===e._status){var t=e._result;(t=t()).then((function(t){0!==e._status&&-1!==e._status||(e._status=1,e._result=t)}),(function(t){0!==e._status&&-1!==e._status||(e._status=2,e._result=t)})),-1===e._status&&(e._status=0,e._result=t)}if(1===e._status)return e._result.default;throw e._result}var L={current:null},O={transition:null},A={ReactCurrentDispatcher:L,ReactCurrentBatchConfig:O,ReactCurrentOwner:k};t.Children={map:P,forEach:function(e,t,n){P(e,(function(){t.apply(this,arguments)}),n)},count:function(e){var t=0;return P(e,(function(){t++})),t},toArray:function(e){return P(e,(function(e){return e}))||[]},only:function(e){if(!C(e))throw Error(\"React.Children.only expected to receive a single React element child.\");return e}},t.Component=y,t.Fragment=a,t.Profiler=o,t.PureComponent=b,t.StrictMode=i,t.Suspense=c,t.__SECRET_INTERNALS_DO_NOT_USE_OR_YOU_WILL_BE_FIRED=A,t.cloneElement=function(e,t,r){if(null==e)throw Error(\"React.cloneElement(...): The argument must be a React element, but you passed \"+e+\".\");var a=v({},e.props),i=e.key,o=e.ref,u=e._owner;if(null!=t){if(void 0!==t.ref&&(o=t.ref,u=k.current),void 0!==t.key&&(i=\"\"+t.key),e.type&&e.type.defaultProps)var l=e.type.defaultProps;for(s in t)x.call(t,s)&&!S.hasOwnProperty(s)&&(a[s]=void 0===t[s]&&void 0!==l?l[s]:t[s])}var s=arguments.length-2;if(1===s)a.children=r;else if(1<s){l=Array(s);for(var c=0;c<s;c++)l[c]=arguments[c+2];a.children=l}return{$$typeof:n,type:e.type,key:i,ref:o,props:a,_owner:u}},t.createContext=function(e){return(e={$$typeof:l,_currentValue:e,_currentValue2:e,_threadCount:0,Provider:null,Consumer:null,_defaultValue:null,_globalName:null}).Provider={$$typeof:u,_context:e},e.Consumer=e},t.createElement=E,t.createFactory=function(e){var t=E.bind(null,e);return t.type=e,t},t.createRef=function(){return{current:null}},t.forwardRef=function(e){return{$$typeof:s,render:e}},t.isValidElement=C,t.lazy=function(e){return{$$typeof:p,_payload:{_status:-1,_result:e},_init:z}},t.memo=function(e,t){return{$$typeof:f,type:e,compare:void 0===t?null:t}},t.startTransition=function(e){var t=O.transition;O.transition={};try{e()}finally{O.transition=t}},t.unstable_act=function(){throw Error(\"act(...) is not supported in production builds of React.\")},t.useCallback=function(e,t){return L.current.useCallback(e,t)},t.useContext=function(e){return L.current.useContext(e)},t.useDebugValue=function(){},t.useDeferredValue=function(e){return L.current.useDeferredValue(e)},t.useEffect=function(e,t){return L.current.useEffect(e,t)},t.useId=function(){return L.current.useId()},t.useImperativeHandle=function(e,t,n){return L.current.useImperativeHandle(e,t,n)},t.useInsertionEffect=function(e,t){return L.current.useInsertionEffect(e,t)},t.useLayoutEffect=function(e,t){return L.current.useLayoutEffect(e,t)},t.useMemo=function(e,t){return L.current.useMemo(e,t)},t.useReducer=function(e,t,n){return L.current.useReducer(e,t,n)},t.useRef=function(e){return L.current.useRef(e)},t.useState=function(e){return L.current.useState(e)},t.useSyncExternalStore=function(e,t,n){return L.current.useSyncExternalStore(e,t,n)},t.useTransition=function(){return L.current.useTransition()},t.version=\"18.2.0\"},294:(e,t,n)=>{\"use strict\";e.exports=n(408)},53:(e,t)=>{\"use strict\";function n(e,t){var n=e.length;e.push(t);e:for(;0<n;){var r=n-1>>>1,a=e[r];if(!(0<i(a,t)))break e;e[r]=t,e[n]=a,n=r}}function r(e){return 0===e.length?null:e[0]}function a(e){if(0===e.length)return null;var t=e[0],n=e.pop();if(n!==t){e[0]=n;e:for(var r=0,a=e.length,o=a>>>1;r<o;){var u=2*(r+1)-1,l=e[u],s=u+1,c=e[s];if(0>i(l,n))s<a&&0>i(c,l)?(e[r]=c,e[s]=n,r=s):(e[r]=l,e[u]=n,r=u);else{if(!(s<a&&0>i(c,n)))break e;e[r]=c,e[s]=n,r=s}}}return t}function i(e,t){var n=e.sortIndex-t.sortIndex;return 0!==n?n:e.id-t.id}if(\"object\"==typeof performance&&\"function\"==typeof performance.now){var o=performance;t.unstable_now=function(){return o.now()}}else{var u=Date,l=u.now();t.unstable_now=function(){return u.now()-l}}var s=[],c=[],f=1,p=null,d=3,h=!1,v=!1,g=!1,y=\"function\"==typeof setTimeout?setTimeout:null,m=\"function\"==typeof clearTimeout?clearTimeout:null,b=\"undefined\"!=typeof setImmediate?setImmediate:null;function _(e){for(var t=r(c);null!==t;){if(null===t.callback)a(c);else{if(!(t.startTime<=e))break;a(c),t.sortIndex=t.expirationTime,n(s,t)}t=r(c)}}function w(e){if(g=!1,_(e),!v)if(null!==r(s))v=!0,O(x);else{var t=r(c);null!==t&&A(w,t.startTime-e)}}function x(e,n){v=!1,g&&(g=!1,m(C),C=-1),h=!0;var i=d;try{for(_(n),p=r(s);null!==p&&(!(p.expirationTime>n)||e&&!N());){var o=p.callback;if(\"function\"==typeof o){p.callback=null,d=p.priorityLevel;var u=o(p.expirationTime<=n);n=t.unstable_now(),\"function\"==typeof u?p.callback=u:p===r(s)&&a(s),_(n)}else a(s);p=r(s)}if(null!==p)var l=!0;else{var f=r(c);null!==f&&A(w,f.startTime-n),l=!1}return l}finally{p=null,d=i,h=!1}}\"undefined\"!=typeof navigator&&void 0!==navigator.scheduling&&void 0!==navigator.scheduling.isInputPending&&navigator.scheduling.isInputPending.bind(navigator.scheduling);var k,S=!1,E=null,C=-1,T=5,M=-1;function N(){return!(t.unstable_now()-M<T)}function P(){if(null!==E){var e=t.unstable_now();M=e;var n=!0;try{n=E(!0,e)}finally{n?k():(S=!1,E=null)}}else S=!1}if(\"function\"==typeof b)k=function(){b(P)};else if(\"undefined\"!=typeof MessageChannel){var z=new MessageChannel,L=z.port2;z.port1.onmessage=P,k=function(){L.postMessage(null)}}else k=function(){y(P,0)};function O(e){E=e,S||(S=!0,k())}function A(e,n){C=y((function(){e(t.unstable_now())}),n)}t.unstable_IdlePriority=5,t.unstable_ImmediatePriority=1,t.unstable_LowPriority=4,t.unstable_NormalPriority=3,t.unstable_Profiling=null,t.unstable_UserBlockingPriority=2,t.unstable_cancelCallback=function(e){e.callback=null},t.unstable_continueExecution=function(){v||h||(v=!0,O(x))},t.unstable_forceFrameRate=function(e){0>e||125<e?console.error(\"forceFrameRate takes a positive int between 0 and 125, forcing frame rates higher than 125 fps is not supported\"):T=0<e?Math.floor(1e3/e):5},t.unstable_getCurrentPriorityLevel=function(){return d},t.unstable_getFirstCallbackNode=function(){return r(s)},t.unstable_next=function(e){switch(d){case 1:case 2:case 3:var t=3;break;default:t=d}var n=d;d=t;try{return e()}finally{d=n}},t.unstable_pauseExecution=function(){},t.unstable_requestPaint=function(){},t.unstable_runWithPriority=function(e,t){switch(e){case 1:case 2:case 3:case 4:case 5:break;default:e=3}var n=d;d=e;try{return t()}finally{d=n}},t.unstable_scheduleCallback=function(e,a,i){var o=t.unstable_now();switch(i=\"object\"==typeof i&&null!==i&&\"number\"==typeof(i=i.delay)&&0<i?o+i:o,e){case 1:var u=-1;break;case 2:u=250;break;case 5:u=1073741823;break;case 4:u=1e4;break;default:u=5e3}return e={id:f++,callback:a,priorityLevel:e,startTime:i,expirationTime:u=i+u,sortIndex:-1},i>o?(e.sortIndex=i,n(c,e),null===r(s)&&e===r(c)&&(g?(m(C),C=-1):g=!0,A(w,i-o))):(e.sortIndex=u,n(s,e),v||h||(v=!0,O(x))),e},t.unstable_shouldYield=N,t.unstable_wrapCallback=function(e){var t=d;return function(){var n=d;d=t;try{return e.apply(this,arguments)}finally{d=n}}}},840:(e,t,n)=>{\"use strict\";e.exports=n(53)}},t={};function n(r){var a=t[r];if(void 0!==a)return a.exports;var i=t[r]={id:r,loaded:!1,exports:{}};return e[r].call(i.exports,i,i.exports,n),i.loaded=!0,i.exports}n.g=function(){if(\"object\"==typeof globalThis)return globalThis;try{return this||new Function(\"return this\")()}catch(e){if(\"object\"==typeof window)return window}}(),n.nmd=e=>(e.paths=[],e.children||(e.children=[]),e),(()=>{\"use strict\";var e=n(294),t=n(935);const r=Math.sqrt(50),a=Math.sqrt(10),i=Math.sqrt(2);function o(e,t,n){const u=(t-e)/Math.max(0,n),l=Math.floor(Math.log10(u)),s=u/Math.pow(10,l),c=s>=r?10:s>=a?5:s>=i?2:1;let f,p,d;return l<0?(d=Math.pow(10,-l)/c,f=Math.round(e*d),p=Math.round(t*d),f/d<e&&++f,p/d>t&&--p,d=-d):(d=Math.pow(10,l)*c,f=Math.round(e/d),p=Math.round(t/d),f*d<e&&++f,p*d>t&&--p),p<f&&.5<=n&&n<2?o(e,t,2*n):[f,p,d]}function u(e,t,n){return o(e=+e,t=+t,n=+n)[2]}function l(e,t,n){n=+n;const r=(t=+t)<(e=+e),a=r?u(t,e,n):u(e,t,n);return(r?-1:1)*(a<0?1/-a:a)}function s(e,t){return null==e||null==t?NaN:e<t?-1:e>t?1:e>=t?0:NaN}function c(e,t){return null==e||null==t?NaN:t<e?-1:t>e?1:t>=e?0:NaN}function f(e){let t,n,r;function a(e,r,a=0,i=e.length){if(a<i){if(0!==t(r,r))return i;do{const t=a+i>>>1;n(e[t],r)<0?a=t+1:i=t}while(a<i)}return a}return 2!==e.length?(t=s,n=(t,n)=>s(e(t),n),r=(t,n)=>e(t)-n):(t=e===s||e===c?e:p,n=e,r=e),{left:a,center:function(e,t,n=0,i=e.length){const o=a(e,t,n,i-1);return o>n&&r(e[o-1],t)>-r(e[o],t)?o-1:o},right:function(e,r,a=0,i=e.length){if(a<i){if(0!==t(r,r))return i;do{const t=a+i>>>1;n(e[t],r)<=0?a=t+1:i=t}while(a<i)}return a}}}function p(){return 0}const d=f(s),h=d.right,v=(d.left,f((function(e){return null===e?NaN:+e})).center,h);function g(e,t,n){e.prototype=t.prototype=n,n.constructor=e}function y(e,t){var n=Object.create(e.prototype);for(var r in t)n[r]=t[r];return n}function m(){}var b=.7,_=1/b,w=\"\\\\s*([+-]?\\\\d+)\\\\s*\",x=\"\\\\s*([+-]?(?:\\\\d*\\\\.)?\\\\d+(?:[eE][+-]?\\\\d+)?)\\\\s*\",k=\"\\\\s*([+-]?(?:\\\\d*\\\\.)?\\\\d+(?:[eE][+-]?\\\\d+)?)%\\\\s*\",S=/^#([0-9a-f]{3,8})$/,E=new RegExp(`^rgb\\\\(${w},${w},${w}\\\\)$`),C=new RegExp(`^rgb\\\\(${k},${k},${k}\\\\)$`),T=new RegExp(`^rgba\\\\(${w},${w},${w},${x}\\\\)$`),M=new RegExp(`^rgba\\\\(${k},${k},${k},${x}\\\\)$`),N=new RegExp(`^hsl\\\\(${x},${k},${k}\\\\)$`),P=new RegExp(`^hsla\\\\(${x},${k},${k},${x}\\\\)$`),z={aliceblue:15792383,antiquewhite:16444375,aqua:65535,aquamarine:8388564,azure:15794175,beige:16119260,bisque:16770244,black:0,blanchedalmond:16772045,blue:255,blueviolet:9055202,brown:10824234,burlywood:14596231,cadetblue:6266528,chartreuse:8388352,chocolate:13789470,coral:16744272,cornflowerblue:6591981,cornsilk:16775388,crimson:14423100,cyan:65535,darkblue:139,darkcyan:35723,darkgoldenrod:12092939,darkgray:11119017,darkgreen:25600,darkgrey:11119017,darkkhaki:12433259,darkmagenta:9109643,darkolivegreen:5597999,darkorange:16747520,darkorchid:10040012,darkred:9109504,darksalmon:15308410,darkseagreen:9419919,darkslateblue:4734347,darkslategray:3100495,darkslategrey:3100495,darkturquoise:52945,darkviolet:9699539,deeppink:16716947,deepskyblue:49151,dimgray:6908265,dimgrey:6908265,dodgerblue:2003199,firebrick:11674146,floralwhite:16775920,forestgreen:2263842,fuchsia:16711935,gainsboro:14474460,ghostwhite:16316671,gold:16766720,goldenrod:14329120,gray:8421504,green:32768,greenyellow:11403055,grey:8421504,honeydew:15794160,hotpink:16738740,indianred:13458524,indigo:4915330,ivory:16777200,khaki:15787660,lavender:15132410,lavenderblush:16773365,lawngreen:8190976,lemonchiffon:16775885,lightblue:11393254,lightcoral:15761536,lightcyan:14745599,lightgoldenrodyellow:16448210,lightgray:13882323,lightgreen:9498256,lightgrey:13882323,lightpink:16758465,lightsalmon:16752762,lightseagreen:2142890,lightskyblue:8900346,lightslategray:7833753,lightslategrey:7833753,lightsteelblue:11584734,lightyellow:16777184,lime:65280,limegreen:3329330,linen:16445670,magenta:16711935,maroon:8388608,mediumaquamarine:6737322,mediumblue:205,mediumorchid:12211667,mediumpurple:9662683,mediumseagreen:3978097,mediumslateblue:8087790,mediumspringgreen:64154,mediumturquoise:4772300,mediumvioletred:13047173,midnightblue:1644912,mintcream:16121850,mistyrose:16770273,moccasin:16770229,navajowhite:16768685,navy:128,oldlace:16643558,olive:8421376,olivedrab:7048739,orange:16753920,orangered:16729344,orchid:14315734,palegoldenrod:15657130,palegreen:10025880,paleturquoise:11529966,palevioletred:14381203,papayawhip:16773077,peachpuff:16767673,peru:13468991,pink:16761035,plum:14524637,powderblue:11591910,purple:8388736,rebeccapurple:6697881,red:16711680,rosybrown:12357519,royalblue:4286945,saddlebrown:9127187,salmon:16416882,sandybrown:16032864,seagreen:3050327,seashell:16774638,sienna:10506797,silver:12632256,skyblue:8900331,slateblue:6970061,slategray:7372944,slategrey:7372944,snow:16775930,springgreen:65407,steelblue:4620980,tan:13808780,teal:32896,thistle:14204888,tomato:16737095,turquoise:4251856,violet:15631086,wheat:16113331,white:16777215,whitesmoke:16119285,yellow:16776960,yellowgreen:10145074};function L(){return this.rgb().formatHex()}function O(){return this.rgb().formatRgb()}function A(e){var t,n;return e=(e+\"\").trim().toLowerCase(),(t=S.exec(e))?(n=t[1].length,t=parseInt(t[1],16),6===n?F(t):3===n?new j(t>>8&15|t>>4&240,t>>4&15|240&t,(15&t)<<4|15&t,1):8===n?D(t>>24&255,t>>16&255,t>>8&255,(255&t)/255):4===n?D(t>>12&15|t>>8&240,t>>8&15|t>>4&240,t>>4&15|240&t,((15&t)<<4|15&t)/255):null):(t=E.exec(e))?new j(t[1],t[2],t[3],1):(t=C.exec(e))?new j(255*t[1]/100,255*t[2]/100,255*t[3]/100,1):(t=T.exec(e))?D(t[1],t[2],t[3],t[4]):(t=M.exec(e))?D(255*t[1]/100,255*t[2]/100,255*t[3]/100,t[4]):(t=N.exec(e))?V(t[1],t[2]/100,t[3]/100,1):(t=P.exec(e))?V(t[1],t[2]/100,t[3]/100,t[4]):z.hasOwnProperty(e)?F(z[e]):\"transparent\"===e?new j(NaN,NaN,NaN,0):null}function F(e){return new j(e>>16&255,e>>8&255,255&e,1)}function D(e,t,n,r){return r<=0&&(e=t=n=NaN),new j(e,t,n,r)}function R(e,t,n,r){return 1===arguments.length?((a=e)instanceof m||(a=A(a)),a?new j((a=a.rgb()).r,a.g,a.b,a.opacity):new j):new j(e,t,n,null==r?1:r);var a}function j(e,t,n,r){this.r=+e,this.g=+t,this.b=+n,this.opacity=+r}function U(){return`#${W(this.r)}${W(this.g)}${W(this.b)}`}function I(){const e=$(this.opacity);return`${1===e?\"rgb(\":\"rgba(\"}${B(this.r)}, ${B(this.g)}, ${B(this.b)}${1===e?\")\":`, ${e})`}`}function $(e){return isNaN(e)?1:Math.max(0,Math.min(1,e))}function B(e){return Math.max(0,Math.min(255,Math.round(e)||0))}function W(e){return((e=B(e))<16?\"0\":\"\")+e.toString(16)}function V(e,t,n,r){return r<=0?e=t=n=NaN:n<=0||n>=1?e=t=NaN:t<=0&&(e=NaN),new Q(e,t,n,r)}function H(e){if(e instanceof Q)return new Q(e.h,e.s,e.l,e.opacity);if(e instanceof m||(e=A(e)),!e)return new Q;if(e instanceof Q)return e;var t=(e=e.rgb()).r/255,n=e.g/255,r=e.b/255,a=Math.min(t,n,r),i=Math.max(t,n,r),o=NaN,u=i-a,l=(i+a)/2;return u?(o=t===i?(n-r)/u+6*(n<r):n===i?(r-t)/u+2:(t-n)/u+4,u/=l<.5?i+a:2-i-a,o*=60):u=l>0&&l<1?0:o,new Q(o,u,l,e.opacity)}function q(e,t,n,r){return 1===arguments.length?H(e):new Q(e,t,n,null==r?1:r)}function Q(e,t,n,r){this.h=+e,this.s=+t,this.l=+n,this.opacity=+r}function Y(e){return(e=(e||0)%360)<0?e+360:e}function G(e){return Math.max(0,Math.min(1,e||0))}function K(e,t,n){return 255*(e<60?t+(n-t)*e/60:e<180?n:e<240?t+(n-t)*(240-e)/60:t)}function Z(e,t,n,r,a){var i=e*e,o=i*e;return((1-3*e+3*i-o)*t+(4-6*i+3*o)*n+(1+3*e+3*i-3*o)*r+o*a)/6}g(m,A,{copy(e){return Object.assign(new this.constructor,this,e)},displayable(){return this.rgb().displayable()},hex:L,formatHex:L,formatHex8:function(){return this.rgb().formatHex8()},formatHsl:function(){return H(this).formatHsl()},formatRgb:O,toString:O}),g(j,R,y(m,{brighter(e){return e=null==e?_:Math.pow(_,e),new j(this.r*e,this.g*e,this.b*e,this.opacity)},darker(e){return e=null==e?b:Math.pow(b,e),new j(this.r*e,this.g*e,this.b*e,this.opacity)},rgb(){return this},clamp(){return new j(B(this.r),B(this.g),B(this.b),$(this.opacity))},displayable(){return-.5<=this.r&&this.r<255.5&&-.5<=this.g&&this.g<255.5&&-.5<=this.b&&this.b<255.5&&0<=this.opacity&&this.opacity<=1},hex:U,formatHex:U,formatHex8:function(){return`#${W(this.r)}${W(this.g)}${W(this.b)}${W(255*(isNaN(this.opacity)?1:this.opacity))}`},formatRgb:I,toString:I})),g(Q,q,y(m,{brighter(e){return e=null==e?_:Math.pow(_,e),new Q(this.h,this.s,this.l*e,this.opacity)},darker(e){return e=null==e?b:Math.pow(b,e),new Q(this.h,this.s,this.l*e,this.opacity)},rgb(){var e=this.h%360+360*(this.h<0),t=isNaN(e)||isNaN(this.s)?0:this.s,n=this.l,r=n+(n<.5?n:1-n)*t,a=2*n-r;return new j(K(e>=240?e-240:e+120,a,r),K(e,a,r),K(e<120?e+240:e-120,a,r),this.opacity)},clamp(){return new Q(Y(this.h),G(this.s),G(this.l),$(this.opacity))},displayable(){return(0<=this.s&&this.s<=1||isNaN(this.s))&&0<=this.l&&this.l<=1&&0<=this.opacity&&this.opacity<=1},formatHsl(){const e=$(this.opacity);return`${1===e?\"hsl(\":\"hsla(\"}${Y(this.h)}, ${100*G(this.s)}%, ${100*G(this.l)}%${1===e?\")\":`, ${e})`}`}}));const X=e=>()=>e;function J(e,t){var n=t-e;return n?function(e,t){return function(n){return e+n*t}}(e,n):X(isNaN(e)?t:e)}const ee=function e(t){var n=function(e){return 1==(e=+e)?J:function(t,n){return n-t?function(e,t,n){return e=Math.pow(e,n),t=Math.pow(t,n)-e,n=1/n,function(r){return Math.pow(e+r*t,n)}}(t,n,e):X(isNaN(t)?n:t)}}(t);function r(e,t){var r=n((e=R(e)).r,(t=R(t)).r),a=n(e.g,t.g),i=n(e.b,t.b),o=J(e.opacity,t.opacity);return function(t){return e.r=r(t),e.g=a(t),e.b=i(t),e.opacity=o(t),e+\"\"}}return r.gamma=e,r}(1);function te(e){return function(t){var n,r,a=t.length,i=new Array(a),o=new Array(a),u=new Array(a);for(n=0;n<a;++n)r=R(t[n]),i[n]=r.r||0,o[n]=r.g||0,u[n]=r.b||0;return i=e(i),o=e(o),u=e(u),r.opacity=1,function(e){return r.r=i(e),r.g=o(e),r.b=u(e),r+\"\"}}}function ne(e,t){var n,r=t?t.length:0,a=e?Math.min(r,e.length):0,i=new Array(a),o=new Array(r);for(n=0;n<a;++n)i[n]=ce(e[n],t[n]);for(;n<r;++n)o[n]=t[n];return function(e){for(n=0;n<a;++n)o[n]=i[n](e);return o}}function re(e,t){var n=new Date;return e=+e,t=+t,function(r){return n.setTime(e*(1-r)+t*r),n}}function ae(e,t){return e=+e,t=+t,function(n){return e*(1-n)+t*n}}function ie(e,t){var n,r={},a={};for(n in null!==e&&\"object\"==typeof e||(e={}),null!==t&&\"object\"==typeof t||(t={}),t)n in e?r[n]=ce(e[n],t[n]):a[n]=t[n];return function(e){for(n in r)a[n]=r[n](e);return a}}te((function(e){var t=e.length-1;return function(n){var r=n<=0?n=0:n>=1?(n=1,t-1):Math.floor(n*t),a=e[r],i=e[r+1],o=r>0?e[r-1]:2*a-i,u=r<t-1?e[r+2]:2*i-a;return Z((n-r/t)*t,o,a,i,u)}})),te((function(e){var t=e.length;return function(n){var r=Math.floor(((n%=1)<0?++n:n)*t),a=e[(r+t-1)%t],i=e[r%t],o=e[(r+1)%t],u=e[(r+2)%t];return Z((n-r/t)*t,a,i,o,u)}}));var oe=/[-+]?(?:\\d+\\.?\\d*|\\.?\\d+)(?:[eE][-+]?\\d+)?/g,ue=new RegExp(oe.source,\"g\");function le(e,t){var n,r,a,i=oe.lastIndex=ue.lastIndex=0,o=-1,u=[],l=[];for(e+=\"\",t+=\"\";(n=oe.exec(e))&&(r=ue.exec(t));)(a=r.index)>i&&(a=t.slice(i,a),u[o]?u[o]+=a:u[++o]=a),(n=n[0])===(r=r[0])?u[o]?u[o]+=r:u[++o]=r:(u[++o]=null,l.push({i:o,x:ae(n,r)})),i=ue.lastIndex;return i<t.length&&(a=t.slice(i),u[o]?u[o]+=a:u[++o]=a),u.length<2?l[0]?function(e){return function(t){return e(t)+\"\"}}(l[0].x):function(e){return function(){return e}}(t):(t=l.length,function(e){for(var n,r=0;r<t;++r)u[(n=l[r]).i]=n.x(e);return u.join(\"\")})}function se(e,t){t||(t=[]);var n,r=e?Math.min(t.length,e.length):0,a=t.slice();return function(i){for(n=0;n<r;++n)a[n]=e[n]*(1-i)+t[n]*i;return a}}function ce(e,t){var n,r,a=typeof t;return null==t||\"boolean\"===a?X(t):(\"number\"===a?ae:\"string\"===a?(n=A(t))?(t=n,ee):le:t instanceof A?ee:t instanceof Date?re:(r=t,!ArrayBuffer.isView(r)||r instanceof DataView?Array.isArray(t)?ne:\"function\"!=typeof t.valueOf&&\"function\"!=typeof t.toString||isNaN(t)?ie:ae:se))(e,t)}function fe(e,t){return e=+e,t=+t,function(n){return Math.round(e*(1-n)+t*n)}}function pe(e){return+e}var de=[0,1];function he(e){return e}function ve(e,t){return(t-=e=+e)?function(n){return(n-e)/t}:(n=isNaN(t)?NaN:.5,function(){return n});var n}function ge(e,t,n){var r=e[0],a=e[1],i=t[0],o=t[1];return a<r?(r=ve(a,r),i=n(o,i)):(r=ve(r,a),i=n(i,o)),function(e){return i(r(e))}}function ye(e,t,n){var r=Math.min(e.length,t.length)-1,a=new Array(r),i=new Array(r),o=-1;for(e[r]<e[0]&&(e=e.slice().reverse(),t=t.slice().reverse());++o<r;)a[o]=ve(e[o],e[o+1]),i[o]=n(t[o],t[o+1]);return function(t){var n=v(e,t,1,r)-1;return i[n](a[n](t))}}function me(e,t){return t.domain(e.domain()).range(e.range()).interpolate(e.interpolate()).clamp(e.clamp()).unknown(e.unknown())}function be(){return function(){var e,t,n,r,a,i,o=de,u=de,l=ce,s=he;function c(){var e,t,n,l=Math.min(o.length,u.length);return s!==he&&(e=o[0],t=o[l-1],e>t&&(n=e,e=t,t=n),s=function(n){return Math.max(e,Math.min(t,n))}),r=l>2?ye:ge,a=i=null,f}function f(t){return null==t||isNaN(t=+t)?n:(a||(a=r(o.map(e),u,l)))(e(s(t)))}return f.invert=function(n){return s(t((i||(i=r(u,o.map(e),ae)))(n)))},f.domain=function(e){return arguments.length?(o=Array.from(e,pe),c()):o.slice()},f.range=function(e){return arguments.length?(u=Array.from(e),c()):u.slice()},f.rangeRound=function(e){return u=Array.from(e),l=fe,c()},f.clamp=function(e){return arguments.length?(s=!!e||he,c()):s!==he},f.interpolate=function(e){return arguments.length?(l=e,c()):l},f.unknown=function(e){return arguments.length?(n=e,f):n},function(n,r){return e=n,t=r,c()}}()(he,he)}function _e(e,t){switch(arguments.length){case 0:break;case 1:this.range(e);break;default:this.range(t).domain(e)}return this}var we,xe=/^(?:(.)?([<>=^]))?([+\\-( ])?([$#])?(0)?(\\d+)?(,)?(\\.\\d+)?(~)?([a-z%])?$/i;function ke(e){if(!(t=xe.exec(e)))throw new Error(\"invalid format: \"+e);var t;return new Se({fill:t[1],align:t[2],sign:t[3],symbol:t[4],zero:t[5],width:t[6],comma:t[7],precision:t[8]&&t[8].slice(1),trim:t[9],type:t[10]})}function Se(e){this.fill=void 0===e.fill?\" \":e.fill+\"\",this.align=void 0===e.align?\">\":e.align+\"\",this.sign=void 0===e.sign?\"-\":e.sign+\"\",this.symbol=void 0===e.symbol?\"\":e.symbol+\"\",this.zero=!!e.zero,this.width=void 0===e.width?void 0:+e.width,this.comma=!!e.comma,this.precision=void 0===e.precision?void 0:+e.precision,this.trim=!!e.trim,this.type=void 0===e.type?\"\":e.type+\"\"}function Ee(e,t){if((n=(e=t?e.toExponential(t-1):e.toExponential()).indexOf(\"e\"))<0)return null;var n,r=e.slice(0,n);return[r.length>1?r[0]+r.slice(2):r,+e.slice(n+1)]}function Ce(e){return(e=Ee(Math.abs(e)))?e[1]:NaN}function Te(e,t){var n=Ee(e,t);if(!n)return e+\"\";var r=n[0],a=n[1];return a<0?\"0.\"+new Array(-a).join(\"0\")+r:r.length>a+1?r.slice(0,a+1)+\".\"+r.slice(a+1):r+new Array(a-r.length+2).join(\"0\")}ke.prototype=Se.prototype,Se.prototype.toString=function(){return this.fill+this.align+this.sign+this.symbol+(this.zero?\"0\":\"\")+(void 0===this.width?\"\":Math.max(1,0|this.width))+(this.comma?\",\":\"\")+(void 0===this.precision?\"\":\".\"+Math.max(0,0|this.precision))+(this.trim?\"~\":\"\")+this.type};const Me={\"%\":(e,t)=>(100*e).toFixed(t),b:e=>Math.round(e).toString(2),c:e=>e+\"\",d:function(e){return Math.abs(e=Math.round(e))>=1e21?e.toLocaleString(\"en\").replace(/,/g,\"\"):e.toString(10)},e:(e,t)=>e.toExponential(t),f:(e,t)=>e.toFixed(t),g:(e,t)=>e.toPrecision(t),o:e=>Math.round(e).toString(8),p:(e,t)=>Te(100*e,t),r:Te,s:function(e,t){var n=Ee(e,t);if(!n)return e+\"\";var r=n[0],a=n[1],i=a-(we=3*Math.max(-8,Math.min(8,Math.floor(a/3))))+1,o=r.length;return i===o?r:i>o?r+new Array(i-o+1).join(\"0\"):i>0?r.slice(0,i)+\".\"+r.slice(i):\"0.\"+new Array(1-i).join(\"0\")+Ee(e,Math.max(0,t+i-1))[0]},X:e=>Math.round(e).toString(16).toUpperCase(),x:e=>Math.round(e).toString(16)};function Ne(e){return e}var Pe,ze,Le,Oe=Array.prototype.map,Ae=[\"y\",\"z\",\"a\",\"f\",\"p\",\"n\",\"µ\",\"m\",\"\",\"k\",\"M\",\"G\",\"T\",\"P\",\"E\",\"Z\",\"Y\"];function Fe(e){var t=e.domain;return e.ticks=function(e){var n=t();return function(e,t,n){if(!((n=+n)>0))return[];if((e=+e)==(t=+t))return[e];const r=t<e,[a,i,u]=r?o(t,e,n):o(e,t,n);if(!(i>=a))return[];const l=i-a+1,s=new Array(l);if(r)if(u<0)for(let e=0;e<l;++e)s[e]=(i-e)/-u;else for(let e=0;e<l;++e)s[e]=(i-e)*u;else if(u<0)for(let e=0;e<l;++e)s[e]=(a+e)/-u;else for(let e=0;e<l;++e)s[e]=(a+e)*u;return s}(n[0],n[n.length-1],null==e?10:e)},e.tickFormat=function(e,n){var r=t();return function(e,t,n,r){var a,i=l(e,t,n);switch((r=ke(null==r?\",f\":r)).type){case\"s\":var o=Math.max(Math.abs(e),Math.abs(t));return null!=r.precision||isNaN(a=function(e,t){return Math.max(0,3*Math.max(-8,Math.min(8,Math.floor(Ce(t)/3)))-Ce(Math.abs(e)))}(i,o))||(r.precision=a),Le(r,o);case\"\":case\"e\":case\"g\":case\"p\":case\"r\":null!=r.precision||isNaN(a=function(e,t){return e=Math.abs(e),t=Math.abs(t)-e,Math.max(0,Ce(t)-Ce(e))+1}(i,Math.max(Math.abs(e),Math.abs(t))))||(r.precision=a-(\"e\"===r.type));break;case\"f\":case\"%\":null!=r.precision||isNaN(a=function(e){return Math.max(0,-Ce(Math.abs(e)))}(i))||(r.precision=a-2*(\"%\"===r.type))}return ze(r)}(r[0],r[r.length-1],null==e?10:e,n)},e.nice=function(n){null==n&&(n=10);var r,a,i=t(),o=0,l=i.length-1,s=i[o],c=i[l],f=10;for(c<s&&(a=s,s=c,c=a,a=o,o=l,l=a);f-- >0;){if((a=u(s,c,n))===r)return i[o]=s,i[l]=c,t(i);if(a>0)s=Math.floor(s/a)*a,c=Math.ceil(c/a)*a;else{if(!(a<0))break;s=Math.ceil(s*a)/a,c=Math.floor(c*a)/a}r=a}return e},e}function De(){var e=be();return e.copy=function(){return me(e,De())},_e.apply(e,arguments),Fe(e)}Pe=function(e){var t,n,r=void 0===e.grouping||void 0===e.thousands?Ne:(t=Oe.call(e.grouping,Number),n=e.thousands+\"\",function(e,r){for(var a=e.length,i=[],o=0,u=t[0],l=0;a>0&&u>0&&(l+u+1>r&&(u=Math.max(1,r-l)),i.push(e.substring(a-=u,a+u)),!((l+=u+1)>r));)u=t[o=(o+1)%t.length];return i.reverse().join(n)}),a=void 0===e.currency?\"\":e.currency[0]+\"\",i=void 0===e.currency?\"\":e.currency[1]+\"\",o=void 0===e.decimal?\".\":e.decimal+\"\",u=void 0===e.numerals?Ne:function(e){return function(t){return t.replace(/[0-9]/g,(function(t){return e[+t]}))}}(Oe.call(e.numerals,String)),l=void 0===e.percent?\"%\":e.percent+\"\",s=void 0===e.minus?\"−\":e.minus+\"\",c=void 0===e.nan?\"NaN\":e.nan+\"\";function f(e){var t=(e=ke(e)).fill,n=e.align,f=e.sign,p=e.symbol,d=e.zero,h=e.width,v=e.comma,g=e.precision,y=e.trim,m=e.type;\"n\"===m?(v=!0,m=\"g\"):Me[m]||(void 0===g&&(g=12),y=!0,m=\"g\"),(d||\"0\"===t&&\"=\"===n)&&(d=!0,t=\"0\",n=\"=\");var b=\"$\"===p?a:\"#\"===p&&/[boxX]/.test(m)?\"0\"+m.toLowerCase():\"\",_=\"$\"===p?i:/[%p]/.test(m)?l:\"\",w=Me[m],x=/[defgprs%]/.test(m);function k(e){var a,i,l,p=b,k=_;if(\"c\"===m)k=w(e)+k,e=\"\";else{var S=(e=+e)<0||1/e<0;if(e=isNaN(e)?c:w(Math.abs(e),g),y&&(e=function(e){e:for(var t,n=e.length,r=1,a=-1;r<n;++r)switch(e[r]){case\".\":a=t=r;break;case\"0\":0===a&&(a=r),t=r;break;default:if(!+e[r])break e;a>0&&(a=0)}return a>0?e.slice(0,a)+e.slice(t+1):e}(e)),S&&0==+e&&\"+\"!==f&&(S=!1),p=(S?\"(\"===f?f:s:\"-\"===f||\"(\"===f?\"\":f)+p,k=(\"s\"===m?Ae[8+we/3]:\"\")+k+(S&&\"(\"===f?\")\":\"\"),x)for(a=-1,i=e.length;++a<i;)if(48>(l=e.charCodeAt(a))||l>57){k=(46===l?o+e.slice(a+1):e.slice(a))+k,e=e.slice(0,a);break}}v&&!d&&(e=r(e,1/0));var E=p.length+e.length+k.length,C=E<h?new Array(h-E+1).join(t):\"\";switch(v&&d&&(e=r(C+e,C.length?h-k.length:1/0),C=\"\"),n){case\"<\":e=p+e+k+C;break;case\"=\":e=p+C+e+k;break;case\"^\":e=C.slice(0,E=C.length>>1)+p+e+k+C.slice(E);break;default:e=C+p+e+k}return u(e)}return g=void 0===g?6:/[gprs]/.test(m)?Math.max(1,Math.min(21,g)):Math.max(0,Math.min(20,g)),k.toString=function(){return e+\"\"},k}return{format:f,formatPrefix:function(e,t){var n=f(((e=ke(e)).type=\"f\",e)),r=3*Math.max(-8,Math.min(8,Math.floor(Ce(t)/3))),a=Math.pow(10,-r),i=Ae[8+r/3];return function(e){return n(a*e)+i}}}}({thousands:\",\",grouping:[3],currency:[\"$\",\"\"]}),ze=Pe.format,Le=Pe.formatPrefix;var Re=n(486);const je={colors:{RdBu:[\"rgb(255, 13, 87)\",\"rgb(30, 136, 229)\"],GnPR:[\"rgb(24, 196, 93)\",\"rgb(124, 82, 255)\"],CyPU:[\"#0099C6\",\"#990099\"],PkYg:[\"#DD4477\",\"#66AA00\"],DrDb:[\"#B82E2E\",\"#316395\"],LpLb:[\"#994499\",\"#22AA99\"],YlDp:[\"#AAAA11\",\"#6633CC\"],OrId:[\"#E67300\",\"#3E0099\"]},gray:\"#777\"};function Ue(e){return Ue=\"function\"==typeof Symbol&&\"symbol\"==typeof Symbol.iterator?function(e){return typeof e}:function(e){return e&&\"function\"==typeof Symbol&&e.constructor===Symbol&&e!==Symbol.prototype?\"symbol\":typeof e},Ue(e)}function Ie(e,t){for(var n=0;n<t.length;n++){var r=t[n];r.enumerable=r.enumerable||!1,r.configurable=!0,\"value\"in r&&(r.writable=!0),Object.defineProperty(e,(void 0,a=function(e,t){if(\"object\"!==Ue(e)||null===e)return e;var n=e[Symbol.toPrimitive];if(void 0!==n){var r=n.call(e,\"string\");if(\"object\"!==Ue(r))return r;throw new TypeError(\"@@toPrimitive must return a primitive value.\")}return String(e)}(r.key),\"symbol\"===Ue(a)?a:String(a)),r)}var a}function $e(e,t){return $e=Object.setPrototypeOf?Object.setPrototypeOf.bind():function(e,t){return e.__proto__=t,e},$e(e,t)}function Be(e){if(void 0===e)throw new ReferenceError(\"this hasn't been initialised - super() hasn't been called\");return e}function We(e){return We=Object.setPrototypeOf?Object.getPrototypeOf.bind():function(e){return e.__proto__||Object.getPrototypeOf(e)},We(e)}var Ve=function(t){!function(e,t){if(\"function\"!=typeof t&&null!==t)throw new TypeError(\"Super expression must either be null or a function\");e.prototype=Object.create(t&&t.prototype,{constructor:{value:e,writable:!0,configurable:!0}}),Object.defineProperty(e,\"prototype\",{writable:!1}),t&&$e(e,t)}(u,t);var n,r,a,i,o=(a=u,i=function(){if(\"undefined\"==typeof Reflect||!Reflect.construct)return!1;if(Reflect.construct.sham)return!1;if(\"function\"==typeof Proxy)return!0;try{return Boolean.prototype.valueOf.call(Reflect.construct(Boolean,[],(function(){}))),!0}catch(e){return!1}}(),function(){var e,t=We(a);if(i){var n=We(this).constructor;e=Reflect.construct(t,arguments,n)}else e=t.apply(this,arguments);return function(e,t){if(t&&(\"object\"===Ue(t)||\"function\"==typeof t))return t;if(void 0!==t)throw new TypeError(\"Derived constructors may only return object or undefined\");return Be(e)}(this,e)});function u(){var e;return function(e,t){if(!(e instanceof t))throw new TypeError(\"Cannot call a class as a function\")}(this,u),(e=o.call(this)).width=100,window.lastSimpleListInstance=Be(e),e.effectFormat=ze(\".2\"),e}return n=u,(r=[{key:\"render\",value:function(){var t=this,n=void 0;\"string\"==typeof this.props.plot_cmap?this.props.plot_cmap in je.colors?n=je.colors[this.props.plot_cmap]:(console.log(\"Invalid color map name, reverting to default.\"),n=je.colors.RdBu):Array.isArray(this.props.plot_cmap)&&(n=this.props.plot_cmap),console.log(this.props.features,this.props.features),this.scale=De().domain([0,(0,Re.max)((0,Re.map)(this.props.features,(function(e){return Math.abs(e.effect)})))]).range([0,this.width]);var r=(0,Re.reverse)((0,Re.sortBy)(Object.keys(this.props.features),(function(e){return Math.abs(t.props.features[e].effect)}))).map((function(r){var a,i,o=t.props.features[r],u=t.props.featureNames[r],l={width:t.scale(Math.abs(o.effect)),height:\"20px\",background:o.effect<0?n[0]:n[1],display:\"inline-block\"},s={lineHeight:\"20px\",display:\"inline-block\",width:t.width+40,verticalAlign:\"top\",marginRight:\"5px\",textAlign:\"right\"},c={lineHeight:\"20px\",display:\"inline-block\",width:t.width+40,verticalAlign:\"top\",marginLeft:\"5px\"};return o.effect<0?(i=e.createElement(\"span\",{style:c},u),s.width=40+t.width-t.scale(Math.abs(o.effect)),s.textAlign=\"right\",s.color=\"#999\",s.fontSize=\"13px\",a=e.createElement(\"span\",{style:s},t.effectFormat(o.effect))):(s.textAlign=\"right\",a=e.createElement(\"span\",{style:s},u),c.width=40,c.textAlign=\"left\",c.color=\"#999\",c.fontSize=\"13px\",i=e.createElement(\"span\",{style:c},t.effectFormat(o.effect))),e.createElement(\"div\",{key:r,style:{marginTop:\"2px\"}},a,e.createElement(\"div\",{style:l}),i)}));return e.createElement(\"span\",null,r)}}])&&Ie(n.prototype,r),Object.defineProperty(n,\"prototype\",{writable:!1}),u}(e.Component);Ve.defaultProps={plot_cmap:\"RdBu\"};const He=Ve;function qe(){}function Qe(e){return null==e?qe:function(){return this.querySelector(e)}}function Ye(){return[]}function Ge(e){return function(t){return t.matches(e)}}var Ke=Array.prototype.find;function Ze(){return this.firstElementChild}var Xe=Array.prototype.filter;function Je(){return Array.from(this.children)}function et(e){return new Array(e.length)}function tt(e,t){this.ownerDocument=e.ownerDocument,this.namespaceURI=e.namespaceURI,this._next=null,this._parent=e,this.__data__=t}function nt(e,t,n,r,a,i){for(var o,u=0,l=t.length,s=i.length;u<s;++u)(o=t[u])?(o.__data__=i[u],r[u]=o):n[u]=new tt(e,i[u]);for(;u<l;++u)(o=t[u])&&(a[u]=o)}function rt(e,t,n,r,a,i,o){var u,l,s,c=new Map,f=t.length,p=i.length,d=new Array(f);for(u=0;u<f;++u)(l=t[u])&&(d[u]=s=o.call(l,l.__data__,u,t)+\"\",c.has(s)?a[u]=l:c.set(s,l));for(u=0;u<p;++u)s=o.call(e,i[u],u,i)+\"\",(l=c.get(s))?(r[u]=l,l.__data__=i[u],c.delete(s)):n[u]=new tt(e,i[u]);for(u=0;u<f;++u)(l=t[u])&&c.get(d[u])===l&&(a[u]=l)}function at(e){return e.__data__}function it(e){return\"object\"==typeof e&&\"length\"in e?e:Array.from(e)}function ot(e,t){return e<t?-1:e>t?1:e>=t?0:NaN}tt.prototype={constructor:tt,appendChild:function(e){return this._parent.insertBefore(e,this._next)},insertBefore:function(e,t){return this._parent.insertBefore(e,t)},querySelector:function(e){return this._parent.querySelector(e)},querySelectorAll:function(e){return this._parent.querySelectorAll(e)}};var ut=\"http://www.w3.org/1999/xhtml\";const lt={svg:\"http://www.w3.org/2000/svg\",xhtml:ut,xlink:\"http://www.w3.org/1999/xlink\",xml:\"http://www.w3.org/XML/1998/namespace\",xmlns:\"http://www.w3.org/2000/xmlns/\"};function st(e){var t=e+=\"\",n=t.indexOf(\":\");return n>=0&&\"xmlns\"!==(t=e.slice(0,n))&&(e=e.slice(n+1)),lt.hasOwnProperty(t)?{space:lt[t],local:e}:e}function ct(e){return function(){this.removeAttribute(e)}}function ft(e){return function(){this.removeAttributeNS(e.space,e.local)}}function pt(e,t){return function(){this.setAttribute(e,t)}}function dt(e,t){return function(){this.setAttributeNS(e.space,e.local,t)}}function ht(e,t){return function(){var n=t.apply(this,arguments);null==n?this.removeAttribute(e):this.setAttribute(e,n)}}function vt(e,t){return function(){var n=t.apply(this,arguments);null==n?this.removeAttributeNS(e.space,e.local):this.setAttributeNS(e.space,e.local,n)}}function gt(e){return e.ownerDocument&&e.ownerDocument.defaultView||e.document&&e||e.defaultView}function yt(e){return function(){this.style.removeProperty(e)}}function mt(e,t,n){return function(){this.style.setProperty(e,t,n)}}function bt(e,t,n){return function(){var r=t.apply(this,arguments);null==r?this.style.removeProperty(e):this.style.setProperty(e,r,n)}}function _t(e){return function(){delete this[e]}}function wt(e,t){return function(){this[e]=t}}function xt(e,t){return function(){var n=t.apply(this,arguments);null==n?delete this[e]:this[e]=n}}function kt(e){return e.trim().split(/^|\\s+/)}function St(e){return e.classList||new Et(e)}function Et(e){this._node=e,this._names=kt(e.getAttribute(\"class\")||\"\")}function Ct(e,t){for(var n=St(e),r=-1,a=t.length;++r<a;)n.add(t[r])}function Tt(e,t){for(var n=St(e),r=-1,a=t.length;++r<a;)n.remove(t[r])}function Mt(e){return function(){Ct(this,e)}}function Nt(e){return function(){Tt(this,e)}}function Pt(e,t){return function(){(t.apply(this,arguments)?Ct:Tt)(this,e)}}function zt(){this.textContent=\"\"}function Lt(e){return function(){this.textContent=e}}function Ot(e){return function(){var t=e.apply(this,arguments);this.textContent=null==t?\"\":t}}function At(){this.innerHTML=\"\"}function Ft(e){return function(){this.innerHTML=e}}function Dt(e){return function(){var t=e.apply(this,arguments);this.innerHTML=null==t?\"\":t}}function Rt(){this.nextSibling&&this.parentNode.appendChild(this)}function jt(){this.previousSibling&&this.parentNode.insertBefore(this,this.parentNode.firstChild)}function Ut(e){return function(){var t=this.ownerDocument,n=this.namespaceURI;return n===ut&&t.documentElement.namespaceURI===ut?t.createElement(e):t.createElementNS(n,e)}}function It(e){return function(){return this.ownerDocument.createElementNS(e.space,e.local)}}function $t(e){var t=st(e);return(t.local?It:Ut)(t)}function Bt(){return null}function Wt(){var e=this.parentNode;e&&e.removeChild(this)}function Vt(){var e=this.cloneNode(!1),t=this.parentNode;return t?t.insertBefore(e,this.nextSibling):e}function Ht(){var e=this.cloneNode(!0),t=this.parentNode;return t?t.insertBefore(e,this.nextSibling):e}function qt(e){return function(){var t=this.__on;if(t){for(var n,r=0,a=-1,i=t.length;r<i;++r)n=t[r],e.type&&n.type!==e.type||n.name!==e.name?t[++a]=n:this.removeEventListener(n.type,n.listener,n.options);++a?t.length=a:delete this.__on}}}function Qt(e,t,n){return function(){var r,a=this.__on,i=function(e){return function(t){e.call(this,t,this.__data__)}}(t);if(a)for(var o=0,u=a.length;o<u;++o)if((r=a[o]).type===e.type&&r.name===e.name)return this.removeEventListener(r.type,r.listener,r.options),this.addEventListener(r.type,r.listener=i,r.options=n),void(r.value=t);this.addEventListener(e.type,i,n),r={type:e.type,name:e.name,value:t,listener:i,options:n},a?a.push(r):this.__on=[r]}}function Yt(e,t,n){var r=gt(e),a=r.CustomEvent;\"function\"==typeof a?a=new a(t,n):(a=r.document.createEvent(\"Event\"),n?(a.initEvent(t,n.bubbles,n.cancelable),a.detail=n.detail):a.initEvent(t,!1,!1)),e.dispatchEvent(a)}function Gt(e,t){return function(){return Yt(this,e,t)}}function Kt(e,t){return function(){return Yt(this,e,t.apply(this,arguments))}}Et.prototype={add:function(e){this._names.indexOf(e)<0&&(this._names.push(e),this._node.setAttribute(\"class\",this._names.join(\" \")))},remove:function(e){var t=this._names.indexOf(e);t>=0&&(this._names.splice(t,1),this._node.setAttribute(\"class\",this._names.join(\" \")))},contains:function(e){return this._names.indexOf(e)>=0}};var Zt=[null];function Xt(e,t){this._groups=e,this._parents=t}function Jt(e){return\"string\"==typeof e?new Xt([[document.querySelector(e)]],[document.documentElement]):new Xt([[e]],Zt)}function en(e){return e}Xt.prototype=function(){return new Xt([[document.documentElement]],Zt)}.prototype={constructor:Xt,select:function(e){\"function\"!=typeof e&&(e=Qe(e));for(var t=this._groups,n=t.length,r=new Array(n),a=0;a<n;++a)for(var i,o,u=t[a],l=u.length,s=r[a]=new Array(l),c=0;c<l;++c)(i=u[c])&&(o=e.call(i,i.__data__,c,u))&&(\"__data__\"in i&&(o.__data__=i.__data__),s[c]=o);return new Xt(r,this._parents)},selectAll:function(e){e=\"function\"==typeof e?function(e){return function(){return null==(t=e.apply(this,arguments))?[]:Array.isArray(t)?t:Array.from(t);var t}}(e):function(e){return null==e?Ye:function(){return this.querySelectorAll(e)}}(e);for(var t=this._groups,n=t.length,r=[],a=[],i=0;i<n;++i)for(var o,u=t[i],l=u.length,s=0;s<l;++s)(o=u[s])&&(r.push(e.call(o,o.__data__,s,u)),a.push(o));return new Xt(r,a)},selectChild:function(e){return this.select(null==e?Ze:function(e){return function(){return Ke.call(this.children,e)}}(\"function\"==typeof e?e:Ge(e)))},selectChildren:function(e){return this.selectAll(null==e?Je:function(e){return function(){return Xe.call(this.children,e)}}(\"function\"==typeof e?e:Ge(e)))},filter:function(e){\"function\"!=typeof e&&(e=function(e){return function(){return this.matches(e)}}(e));for(var t=this._groups,n=t.length,r=new Array(n),a=0;a<n;++a)for(var i,o=t[a],u=o.length,l=r[a]=[],s=0;s<u;++s)(i=o[s])&&e.call(i,i.__data__,s,o)&&l.push(i);return new Xt(r,this._parents)},data:function(e,t){if(!arguments.length)return Array.from(this,at);var n,r=t?rt:nt,a=this._parents,i=this._groups;\"function\"!=typeof e&&(n=e,e=function(){return n});for(var o=i.length,u=new Array(o),l=new Array(o),s=new Array(o),c=0;c<o;++c){var f=a[c],p=i[c],d=p.length,h=it(e.call(f,f&&f.__data__,c,a)),v=h.length,g=l[c]=new Array(v),y=u[c]=new Array(v);r(f,p,g,y,s[c]=new Array(d),h,t);for(var m,b,_=0,w=0;_<v;++_)if(m=g[_]){for(_>=w&&(w=_+1);!(b=y[w])&&++w<v;);m._next=b||null}}return(u=new Xt(u,a))._enter=l,u._exit=s,u},enter:function(){return new Xt(this._enter||this._groups.map(et),this._parents)},exit:function(){return new Xt(this._exit||this._groups.map(et),this._parents)},join:function(e,t,n){var r=this.enter(),a=this,i=this.exit();return\"function\"==typeof e?(r=e(r))&&(r=r.selection()):r=r.append(e+\"\"),null!=t&&(a=t(a))&&(a=a.selection()),null==n?i.remove():n(i),r&&a?r.merge(a).order():a},merge:function(e){for(var t=e.selection?e.selection():e,n=this._groups,r=t._groups,a=n.length,i=r.length,o=Math.min(a,i),u=new Array(a),l=0;l<o;++l)for(var s,c=n[l],f=r[l],p=c.length,d=u[l]=new Array(p),h=0;h<p;++h)(s=c[h]||f[h])&&(d[h]=s);for(;l<a;++l)u[l]=n[l];return new Xt(u,this._parents)},selection:function(){return this},order:function(){for(var e=this._groups,t=-1,n=e.length;++t<n;)for(var r,a=e[t],i=a.length-1,o=a[i];--i>=0;)(r=a[i])&&(o&&4^r.compareDocumentPosition(o)&&o.parentNode.insertBefore(r,o),o=r);return this},sort:function(e){function t(t,n){return t&&n?e(t.__data__,n.__data__):!t-!n}e||(e=ot);for(var n=this._groups,r=n.length,a=new Array(r),i=0;i<r;++i){for(var o,u=n[i],l=u.length,s=a[i]=new Array(l),c=0;c<l;++c)(o=u[c])&&(s[c]=o);s.sort(t)}return new Xt(a,this._parents).order()},call:function(){var e=arguments[0];return arguments[0]=this,e.apply(null,arguments),this},nodes:function(){return Array.from(this)},node:function(){for(var e=this._groups,t=0,n=e.length;t<n;++t)for(var r=e[t],a=0,i=r.length;a<i;++a){var o=r[a];if(o)return o}return null},size:function(){let e=0;for(const t of this)++e;return e},empty:function(){return!this.node()},each:function(e){for(var t=this._groups,n=0,r=t.length;n<r;++n)for(var a,i=t[n],o=0,u=i.length;o<u;++o)(a=i[o])&&e.call(a,a.__data__,o,i);return this},attr:function(e,t){var n=st(e);if(arguments.length<2){var r=this.node();return n.local?r.getAttributeNS(n.space,n.local):r.getAttribute(n)}return this.each((null==t?n.local?ft:ct:\"function\"==typeof t?n.local?vt:ht:n.local?dt:pt)(n,t))},style:function(e,t,n){return arguments.length>1?this.each((null==t?yt:\"function\"==typeof t?bt:mt)(e,t,null==n?\"\":n)):function(e,t){return e.style.getPropertyValue(t)||gt(e).getComputedStyle(e,null).getPropertyValue(t)}(this.node(),e)},property:function(e,t){return arguments.length>1?this.each((null==t?_t:\"function\"==typeof t?xt:wt)(e,t)):this.node()[e]},classed:function(e,t){var n=kt(e+\"\");if(arguments.length<2){for(var r=St(this.node()),a=-1,i=n.length;++a<i;)if(!r.contains(n[a]))return!1;return!0}return this.each((\"function\"==typeof t?Pt:t?Mt:Nt)(n,t))},text:function(e){return arguments.length?this.each(null==e?zt:(\"function\"==typeof e?Ot:Lt)(e)):this.node().textContent},html:function(e){return arguments.length?this.each(null==e?At:(\"function\"==typeof e?Dt:Ft)(e)):this.node().innerHTML},raise:function(){return this.each(Rt)},lower:function(){return this.each(jt)},append:function(e){var t=\"function\"==typeof e?e:$t(e);return this.select((function(){return this.appendChild(t.apply(this,arguments))}))},insert:function(e,t){var n=\"function\"==typeof e?e:$t(e),r=null==t?Bt:\"function\"==typeof t?t:Qe(t);return this.select((function(){return this.insertBefore(n.apply(this,arguments),r.apply(this,arguments)||null)}))},remove:function(){return this.each(Wt)},clone:function(e){return this.select(e?Ht:Vt)},datum:function(e){return arguments.length?this.property(\"__data__\",e):this.node().__data__},on:function(e,t,n){var r,a,i=function(e){return e.trim().split(/^|\\s+/).map((function(e){var t=\"\",n=e.indexOf(\".\");return n>=0&&(t=e.slice(n+1),e=e.slice(0,n)),{type:e,name:t}}))}(e+\"\"),o=i.length;if(!(arguments.length<2)){for(u=t?Qt:qt,r=0;r<o;++r)this.each(u(i[r],t,n));return this}var u=this.node().__on;if(u)for(var l,s=0,c=u.length;s<c;++s)for(r=0,l=u[s];r<o;++r)if((a=i[r]).type===l.type&&a.name===l.name)return l.value},dispatch:function(e,t){return this.each((\"function\"==typeof t?Kt:Gt)(e,t))},[Symbol.iterator]:function*(){for(var e=this._groups,t=0,n=e.length;t<n;++t)for(var r,a=e[t],i=0,o=a.length;i<o;++i)(r=a[i])&&(yield r)}};var tn=1,nn=2,rn=3,an=4,on=1e-6;function un(e){return\"translate(\"+e+\",0)\"}function ln(e){return\"translate(0,\"+e+\")\"}function sn(e){return t=>+e(t)}function cn(e,t){return t=Math.max(0,e.bandwidth()-2*t)/2,e.round()&&(t=Math.round(t)),n=>+e(n)+t}function fn(){return!this.__axis}function pn(e,t){var n=[],r=null,a=null,i=6,o=6,u=3,l=\"undefined\"!=typeof window&&window.devicePixelRatio>1?0:.5,s=e===tn||e===an?-1:1,c=e===an||e===nn?\"x\":\"y\",f=e===tn||e===rn?un:ln;function p(p){var d=null==r?t.ticks?t.ticks.apply(t,n):t.domain():r,h=null==a?t.tickFormat?t.tickFormat.apply(t,n):en:a,v=Math.max(i,0)+u,g=t.range(),y=+g[0]+l,m=+g[g.length-1]+l,b=(t.bandwidth?cn:sn)(t.copy(),l),_=p.selection?p.selection():p,w=_.selectAll(\".domain\").data([null]),x=_.selectAll(\".tick\").data(d,t).order(),k=x.exit(),S=x.enter().append(\"g\").attr(\"class\",\"tick\"),E=x.select(\"line\"),C=x.select(\"text\");w=w.merge(w.enter().insert(\"path\",\".tick\").attr(\"class\",\"domain\").attr(\"stroke\",\"currentColor\")),x=x.merge(S),E=E.merge(S.append(\"line\").attr(\"stroke\",\"currentColor\").attr(c+\"2\",s*i)),C=C.merge(S.append(\"text\").attr(\"fill\",\"currentColor\").attr(c,s*v).attr(\"dy\",e===tn?\"0em\":e===rn?\"0.71em\":\"0.32em\")),p!==_&&(w=w.transition(p),x=x.transition(p),E=E.transition(p),C=C.transition(p),k=k.transition(p).attr(\"opacity\",on).attr(\"transform\",(function(e){return isFinite(e=b(e))?f(e+l):this.getAttribute(\"transform\")})),S.attr(\"opacity\",on).attr(\"transform\",(function(e){var t=this.parentNode.__axis;return f((t&&isFinite(t=t(e))?t:b(e))+l)}))),k.remove(),w.attr(\"d\",e===an||e===nn?o?\"M\"+s*o+\",\"+y+\"H\"+l+\"V\"+m+\"H\"+s*o:\"M\"+l+\",\"+y+\"V\"+m:o?\"M\"+y+\",\"+s*o+\"V\"+l+\"H\"+m+\"V\"+s*o:\"M\"+y+\",\"+l+\"H\"+m),x.attr(\"opacity\",1).attr(\"transform\",(function(e){return f(b(e)+l)})),E.attr(c+\"2\",s*i),C.attr(c,s*v).text(h),_.filter(fn).attr(\"fill\",\"none\").attr(\"font-size\",10).attr(\"font-family\",\"sans-serif\").attr(\"text-anchor\",e===nn?\"start\":e===an?\"end\":\"middle\"),_.each((function(){this.__axis=b}))}return p.scale=function(e){return arguments.length?(t=e,p):t},p.ticks=function(){return n=Array.from(arguments),p},p.tickArguments=function(e){return arguments.length?(n=null==e?[]:Array.from(e),p):n.slice()},p.tickValues=function(e){return arguments.length?(r=null==e?null:Array.from(e),p):r&&r.slice()},p.tickFormat=function(e){return arguments.length?(a=e,p):a},p.tickSize=function(e){return arguments.length?(i=o=+e,p):i},p.tickSizeInner=function(e){return arguments.length?(i=+e,p):i},p.tickSizeOuter=function(e){return arguments.length?(o=+e,p):o},p.tickPadding=function(e){return arguments.length?(u=+e,p):u},p.offset=function(e){return arguments.length?(l=+e,p):l},p}function dn(e){return pn(rn,e)}function hn(e){return function(){return e}}function vn(e){this._context=e}function gn(e){return new vn(e)}Array.prototype.slice,vn.prototype={areaStart:function(){this._line=0},areaEnd:function(){this._line=NaN},lineStart:function(){this._point=0},lineEnd:function(){(this._line||0!==this._line&&1===this._point)&&this._context.closePath(),this._line=1-this._line},point:function(e,t){switch(e=+e,t=+t,this._point){case 0:this._point=1,this._line?this._context.lineTo(e,t):this._context.moveTo(e,t);break;case 1:this._point=2;default:this._context.lineTo(e,t)}}};const yn=Math.PI,mn=2*yn,bn=1e-6,_n=mn-bn;function wn(e){this._+=e[0];for(let t=1,n=e.length;t<n;++t)this._+=arguments[t]+e[t]}class xn{constructor(e){this._x0=this._y0=this._x1=this._y1=null,this._=\"\",this._append=null==e?wn:function(e){let t=Math.floor(e);if(!(t>=0))throw new Error(`invalid digits: ${e}`);if(t>15)return wn;const n=10**t;return function(e){this._+=e[0];for(let t=1,r=e.length;t<r;++t)this._+=Math.round(arguments[t]*n)/n+e[t]}}(e)}moveTo(e,t){this._append`M${this._x0=this._x1=+e},${this._y0=this._y1=+t}`}closePath(){null!==this._x1&&(this._x1=this._x0,this._y1=this._y0,this._append`Z`)}lineTo(e,t){this._append`L${this._x1=+e},${this._y1=+t}`}quadraticCurveTo(e,t,n,r){this._append`Q${+e},${+t},${this._x1=+n},${this._y1=+r}`}bezierCurveTo(e,t,n,r,a,i){this._append`C${+e},${+t},${+n},${+r},${this._x1=+a},${this._y1=+i}`}arcTo(e,t,n,r,a){if(e=+e,t=+t,n=+n,r=+r,(a=+a)<0)throw new Error(`negative radius: ${a}`);let i=this._x1,o=this._y1,u=n-e,l=r-t,s=i-e,c=o-t,f=s*s+c*c;if(null===this._x1)this._append`M${this._x1=e},${this._y1=t}`;else if(f>bn)if(Math.abs(c*u-l*s)>bn&&a){let p=n-i,d=r-o,h=u*u+l*l,v=p*p+d*d,g=Math.sqrt(h),y=Math.sqrt(f),m=a*Math.tan((yn-Math.acos((h+f-v)/(2*g*y)))/2),b=m/y,_=m/g;Math.abs(b-1)>bn&&this._append`L${e+b*s},${t+b*c}`,this._append`A${a},${a},0,0,${+(c*p>s*d)},${this._x1=e+_*u},${this._y1=t+_*l}`}else this._append`L${this._x1=e},${this._y1=t}`}arc(e,t,n,r,a,i){if(e=+e,t=+t,i=!!i,(n=+n)<0)throw new Error(`negative radius: ${n}`);let o=n*Math.cos(r),u=n*Math.sin(r),l=e+o,s=t+u,c=1^i,f=i?r-a:a-r;null===this._x1?this._append`M${l},${s}`:(Math.abs(this._x1-l)>bn||Math.abs(this._y1-s)>bn)&&this._append`L${l},${s}`,n&&(f<0&&(f=f%mn+mn),f>_n?this._append`A${n},${n},0,1,${c},${e-o},${t-u}A${n},${n},0,1,${c},${this._x1=l},${this._y1=s}`:f>bn&&this._append`A${n},${n},0,${+(f>=yn)},${c},${this._x1=e+n*Math.cos(a)},${this._y1=t+n*Math.sin(a)}`)}rect(e,t,n,r){this._append`M${this._x0=this._x1=+e},${this._y0=this._y1=+t}h${n=+n}v${+r}h${-n}Z`}toString(){return this._}}function kn(e){return e[0]}function Sn(e){return e[1]}function En(e,t){var n=hn(!0),r=null,a=gn,i=null,o=function(e){let t=3;return e.digits=function(n){if(!arguments.length)return t;if(null==n)t=null;else{const e=Math.floor(n);if(!(e>=0))throw new RangeError(`invalid digits: ${n}`);t=e}return e},()=>new xn(t)}(u);function u(u){var l,s,c,f=(u=function(e){return\"object\"==typeof e&&\"length\"in e?e:Array.from(e)}(u)).length,p=!1;for(null==r&&(i=a(c=o())),l=0;l<=f;++l)!(l<f&&n(s=u[l],l,u))===p&&((p=!p)?i.lineStart():i.lineEnd()),p&&i.point(+e(s,l,u),+t(s,l,u));if(c)return i=null,c+\"\"||null}return e=\"function\"==typeof e?e:void 0===e?kn:hn(e),t=\"function\"==typeof t?t:void 0===t?Sn:hn(t),u.x=function(t){return arguments.length?(e=\"function\"==typeof t?t:hn(+t),u):e},u.y=function(e){return arguments.length?(t=\"function\"==typeof e?e:hn(+e),u):t},u.defined=function(e){return arguments.length?(n=\"function\"==typeof e?e:hn(!!e),u):n},u.curve=function(e){return arguments.length?(a=e,null!=r&&(i=a(r)),u):a},u.context=function(e){return arguments.length?(null==e?r=i=null:i=a(r=e),u):r},u}function Cn(e){return Cn=\"function\"==typeof Symbol&&\"symbol\"==typeof Symbol.iterator?function(e){return typeof e}:function(e){return e&&\"function\"==typeof Symbol&&e.constructor===Symbol&&e!==Symbol.prototype?\"symbol\":typeof e},Cn(e)}function Tn(e,t){for(var n=0;n<t.length;n++){var r=t[n];r.enumerable=r.enumerable||!1,r.configurable=!0,\"value\"in r&&(r.writable=!0),Object.defineProperty(e,(void 0,a=function(e,t){if(\"object\"!==Cn(e)||null===e)return e;var n=e[Symbol.toPrimitive];if(void 0!==n){var r=n.call(e,\"string\");if(\"object\"!==Cn(r))return r;throw new TypeError(\"@@toPrimitive must return a primitive value.\")}return String(e)}(r.key),\"symbol\"===Cn(a)?a:String(a)),r)}var a}function Mn(e,t){return Mn=Object.setPrototypeOf?Object.setPrototypeOf.bind():function(e,t){return e.__proto__=t,e},Mn(e,t)}function Nn(e){if(void 0===e)throw new ReferenceError(\"this hasn't been initialised - super() hasn't been called\");return e}function Pn(e){return Pn=Object.setPrototypeOf?Object.getPrototypeOf.bind():function(e){return e.__proto__||Object.getPrototypeOf(e)},Pn(e)}var zn=function(t){!function(e,t){if(\"function\"!=typeof t&&null!==t)throw new TypeError(\"Super expression must either be null or a function\");e.prototype=Object.create(t&&t.prototype,{constructor:{value:e,writable:!0,configurable:!0}}),Object.defineProperty(e,\"prototype\",{writable:!1}),t&&Mn(e,t)}(u,t);var n,r,a,i,o=(a=u,i=function(){if(\"undefined\"==typeof Reflect||!Reflect.construct)return!1;if(Reflect.construct.sham)return!1;if(\"function\"==typeof Proxy)return!0;try{return Boolean.prototype.valueOf.call(Reflect.construct(Boolean,[],(function(){}))),!0}catch(e){return!1}}(),function(){var e,t=Pn(a);if(i){var n=Pn(this).constructor;e=Reflect.construct(t,arguments,n)}else e=t.apply(this,arguments);return function(e,t){if(t&&(\"object\"===Cn(t)||\"function\"==typeof t))return t;if(void 0!==t)throw new TypeError(\"Derived constructors may only return object or undefined\");return Nn(e)}(this,e)});function u(){var e;return function(e,t){if(!(e instanceof t))throw new TypeError(\"Cannot call a class as a function\")}(this,u),e=o.call(this),window.lastAdditiveForceVisualizer=Nn(e),e.effectFormat=ze(\".2\"),e.redraw=(0,Re.debounce)((function(){return e.draw()}),200),e}return n=u,(r=[{key:\"componentDidMount\",value:function(){var e=this;this.mainGroup=this.svg.append(\"g\"),this.axisElement=this.mainGroup.append(\"g\").attr(\"transform\",\"translate(0,35)\").attr(\"class\",\"force-bar-axis\"),this.onTopGroup=this.svg.append(\"g\"),this.baseValueTitle=this.svg.append(\"text\"),this.joinPointLine=this.svg.append(\"line\"),this.joinPointLabelOutline=this.svg.append(\"text\"),this.joinPointLabel=this.svg.append(\"text\"),this.joinPointTitleLeft=this.svg.append(\"text\"),this.joinPointTitleLeftArrow=this.svg.append(\"text\"),this.joinPointTitle=this.svg.append(\"text\"),this.joinPointTitleRightArrow=this.svg.append(\"text\"),this.joinPointTitleRight=this.svg.append(\"text\"),this.hoverLabelBacking=this.svg.append(\"text\").attr(\"x\",10).attr(\"y\",20).attr(\"text-anchor\",\"middle\").attr(\"font-size\",12).attr(\"stroke\",\"#fff\").attr(\"fill\",\"#fff\").attr(\"stroke-width\",\"4\").attr(\"stroke-linejoin\",\"round\").text(\"\").on(\"mouseover\",(function(){e.hoverLabel.attr(\"opacity\",1),e.hoverLabelBacking.attr(\"opacity\",1)})).on(\"mouseout\",(function(){e.hoverLabel.attr(\"opacity\",0),e.hoverLabelBacking.attr(\"opacity\",0)})),this.hoverLabel=this.svg.append(\"text\").attr(\"x\",10).attr(\"y\",20).attr(\"text-anchor\",\"middle\").attr(\"font-size\",12).attr(\"fill\",\"#0f0\").text(\"\").on(\"mouseover\",(function(){e.hoverLabel.attr(\"opacity\",1),e.hoverLabelBacking.attr(\"opacity\",1)})).on(\"mouseout\",(function(){e.hoverLabel.attr(\"opacity\",0),e.hoverLabelBacking.attr(\"opacity\",0)}));var t=void 0;\"string\"==typeof this.props.plot_cmap?this.props.plot_cmap in je.colors?t=je.colors[this.props.plot_cmap]:(console.log(\"Invalid color map name, reverting to default.\"),t=je.colors.RdBu):Array.isArray(this.props.plot_cmap)&&(t=this.props.plot_cmap),this.colors=t.map((function(e){return q(e)})),this.brighterColors=[1.45,1.6].map((function(t,n){return e.colors[n].brighter(t)})),this.colors.map((function(t,n){var r=e.svg.append(\"linearGradient\").attr(\"id\",\"linear-grad-\"+n).attr(\"x1\",\"0%\").attr(\"y1\",\"0%\").attr(\"x2\",\"0%\").attr(\"y2\",\"100%\");r.append(\"stop\").attr(\"offset\",\"0%\").attr(\"stop-color\",t).attr(\"stop-opacity\",.6),r.append(\"stop\").attr(\"offset\",\"100%\").attr(\"stop-color\",t).attr(\"stop-opacity\",0);var a=e.svg.append(\"linearGradient\").attr(\"id\",\"linear-backgrad-\"+n).attr(\"x1\",\"0%\").attr(\"y1\",\"0%\").attr(\"x2\",\"0%\").attr(\"y2\",\"100%\");a.append(\"stop\").attr(\"offset\",\"0%\").attr(\"stop-color\",t).attr(\"stop-opacity\",.5),a.append(\"stop\").attr(\"offset\",\"100%\").attr(\"stop-color\",t).attr(\"stop-opacity\",0)})),this.tickFormat=ze(\",.4\"),this.scaleCentered=De(),this.axis=dn().scale(this.scaleCentered).tickSizeInner(4).tickSizeOuter(0).tickFormat((function(t){return e.tickFormat(e.invLinkFunction(t))})).tickPadding(-18),window.addEventListener(\"resize\",this.redraw),window.setTimeout(this.redraw,50)}},{key:\"componentDidUpdate\",value:function(){this.draw()}},{key:\"draw\",value:function(){var e=this;(0,Re.each)(this.props.featureNames,(function(t,n){e.props.features[n]&&(e.props.features[n].name=t)})),\"identity\"===this.props.link?this.invLinkFunction=function(t){return e.props.baseValue+t}:\"logit\"===this.props.link?this.invLinkFunction=function(t){return 1/(1+Math.exp(-(e.props.baseValue+t)))}:console.log(\"ERROR: Unrecognized link function: \",this.props.link);var t=this.svg.node().parentNode.offsetWidth;if(0==t)return setTimeout((function(){return e.draw(e.props)}),500);this.svg.style(\"height\",\"150px\"),this.svg.style(\"width\",t+\"px\");var n=(0,Re.sortBy)(this.props.features,(function(e){return-1/(e.effect+1e-10)})),r=(0,Re.sum)((0,Re.map)(n,(function(e){return Math.abs(e.effect)}))),a=(0,Re.sum)((0,Re.map)((0,Re.filter)(n,(function(e){return e.effect>0})),(function(e){return e.effect})))||0,i=(0,Re.sum)((0,Re.map)((0,Re.filter)(n,(function(e){return e.effect<0})),(function(e){return-e.effect})))||0;this.domainSize=3*Math.max(a,i);var o=De().domain([0,this.domainSize]).range([0,t]),u=t/2-o(i);this.scaleCentered.domain([-this.domainSize/2,this.domainSize/2]).range([0,t]).clamp(!0),this.axisElement.attr(\"transform\",\"translate(0,50)\").call(this.axis);var l,s,c,f=0;for(l=0;l<n.length;++l)n[l].x=f,n[l].effect<0&&void 0===s&&(s=f,c=l),f+=Math.abs(n[l].effect);void 0===s&&(s=f,c=l);var p=En().x((function(e){return e[0]})).y((function(e){return e[1]})),d=function(t){return void 0!==t.value&&null!==t.value&&\"\"!==t.value?t.name+\" = \"+(isNaN(t.value)?t.value:e.tickFormat(t.value)):t.name};n=this.props.hideBars?[]:n;var h=this.mainGroup.selectAll(\".force-bar-blocks\").data(n);h.enter().append(\"path\").attr(\"class\",\"force-bar-blocks\").merge(h).attr(\"d\",(function(e,t){var n=o(e.x)+u,r=o(Math.abs(e.effect)),a=e.effect<0?-4:4,i=a;return t===c&&(a=0),t===c-1&&(i=0),p([[n,56],[n+r,56],[n+r+i,64.5],[n+r,73],[n,73],[n+a,64.5]])})).attr(\"fill\",(function(t){return t.effect>0?e.colors[0]:e.colors[1]})).on(\"mouseover\",(function(t){if(o(Math.abs(t.effect))<o(r)/50||o(Math.abs(t.effect))<10){var n=o(t.x)+u,a=o(Math.abs(t.effect));e.hoverLabel.attr(\"opacity\",1).attr(\"x\",n+a/2).attr(\"y\",50.5).attr(\"fill\",t.effect>0?e.colors[0]:e.colors[1]).text(d(t)),e.hoverLabelBacking.attr(\"opacity\",1).attr(\"x\",n+a/2).attr(\"y\",50.5).text(d(t))}})).on(\"mouseout\",(function(){e.hoverLabel.attr(\"opacity\",0),e.hoverLabelBacking.attr(\"opacity\",0)})),h.exit().remove();var v=(0,Re.filter)(n,(function(e){return o(Math.abs(e.effect))>o(r)/50&&o(Math.abs(e.effect))>10})),g=this.onTopGroup.selectAll(\".force-bar-labels\").data(v);if(g.exit().remove(),g=g.enter().append(\"text\").attr(\"class\",\"force-bar-labels\").attr(\"font-size\",\"12px\").attr(\"y\",98).merge(g).text((function(t){return void 0!==t.value&&null!==t.value&&\"\"!==t.value?t.name+\" = \"+(isNaN(t.value)?t.value:e.tickFormat(t.value)):t.name})).attr(\"fill\",(function(t){return t.effect>0?e.colors[0]:e.colors[1]})).attr(\"stroke\",(function(e){return e.textWidth=Math.max(this.getComputedTextLength(),o(Math.abs(e.effect))-10),e.innerTextWidth=this.getComputedTextLength(),\"none\"})),this.filteredData=v,n.length>0){f=s+o.invert(5);for(var y=c;y<n.length;++y)n[y].textx=f,f+=o.invert(n[y].textWidth+10);f=s-o.invert(5);for(var m=c-1;m>=0;--m)n[m].textx=f,f-=o.invert(n[m].textWidth+10)}g.attr(\"x\",(function(e){return o(e.textx)+u+(e.effect>0?-e.textWidth/2:e.textWidth/2)})).attr(\"text-anchor\",\"middle\"),v=(0,Re.filter)(v,(function(n){return o(n.textx)+u>e.props.labelMargin&&o(n.textx)+u<t-e.props.labelMargin})),this.filteredData2=v;var b=v.slice(),_=(0,Re.findIndex)(n,v[0])-1;_>=0&&b.unshift(n[_]);var w=this.mainGroup.selectAll(\".force-bar-labelBacking\").data(v);w.enter().append(\"path\").attr(\"class\",\"force-bar-labelBacking\").attr(\"stroke\",\"none\").attr(\"opacity\",.2).merge(w).attr(\"d\",(function(e){return p([[o(e.x)+o(Math.abs(e.effect))+u,73],[(e.effect>0?o(e.textx):o(e.textx)+e.textWidth)+u+5,83],[(e.effect>0?o(e.textx):o(e.textx)+e.textWidth)+u+5,104],[(e.effect>0?o(e.textx)-e.textWidth:o(e.textx))+u-5,104],[(e.effect>0?o(e.textx)-e.textWidth:o(e.textx))+u-5,83],[o(e.x)+u,73]])})).attr(\"fill\",(function(e){return\"url(#linear-backgrad-\".concat(e.effect>0?0:1,\")\")})),w.exit().remove();var x=this.mainGroup.selectAll(\".force-bar-labelDividers\").data(v.slice(0,-1));x.enter().append(\"rect\").attr(\"class\",\"force-bar-labelDividers\").attr(\"height\",\"21px\").attr(\"width\",\"1px\").attr(\"y\",83).merge(x).attr(\"x\",(function(e){return(e.effect>0?o(e.textx):o(e.textx)+e.textWidth)+u+4.5})).attr(\"fill\",(function(e){return\"url(#linear-grad-\".concat(e.effect>0?0:1,\")\")})),x.exit().remove();var k=this.mainGroup.selectAll(\".force-bar-labelLinks\").data(v.slice(0,-1));k.enter().append(\"line\").attr(\"class\",\"force-bar-labelLinks\").attr(\"y1\",73).attr(\"y2\",83).attr(\"stroke-opacity\",.5).attr(\"stroke-width\",1).merge(k).attr(\"x1\",(function(e){return o(e.x)+o(Math.abs(e.effect))+u})).attr(\"x2\",(function(e){return(e.effect>0?o(e.textx):o(e.textx)+e.textWidth)+u+5})).attr(\"stroke\",(function(t){return t.effect>0?e.colors[0]:e.colors[1]})),k.exit().remove();var S=this.mainGroup.selectAll(\".force-bar-blockDividers\").data(n.slice(0,-1));S.enter().append(\"path\").attr(\"class\",\"force-bar-blockDividers\").attr(\"stroke-width\",2).attr(\"fill\",\"none\").merge(S).attr(\"d\",(function(e){var t=o(e.x)+o(Math.abs(e.effect))+u;return p([[t,56],[t+(e.effect<0?-4:4),64.5],[t,73]])})).attr(\"stroke\",(function(t,n){return c===n+1||Math.abs(t.effect)<1e-8?\"#rgba(0,0,0,0)\":t.effect>0?e.brighterColors[0]:e.brighterColors[1]})),S.exit().remove(),this.joinPointLine.attr(\"x1\",o(s)+u).attr(\"x2\",o(s)+u).attr(\"y1\",50).attr(\"y2\",56).attr(\"stroke\",\"#F2F2F2\").attr(\"stroke-width\",1).attr(\"opacity\",1),this.joinPointLabelOutline.attr(\"x\",o(s)+u).attr(\"y\",45).attr(\"color\",\"#fff\").attr(\"text-anchor\",\"middle\").attr(\"font-weight\",\"bold\").attr(\"stroke\",\"#fff\").attr(\"stroke-width\",6).text(ze(\",.2f\")(this.invLinkFunction(s-i))).attr(\"opacity\",1),console.log(\"joinPoint\",s,u,50,i),this.joinPointLabel.attr(\"x\",o(s)+u).attr(\"y\",45).attr(\"text-anchor\",\"middle\").attr(\"font-weight\",\"bold\").attr(\"fill\",\"#000\").text(ze(\",.2f\")(this.invLinkFunction(s-i))).attr(\"opacity\",1),this.joinPointTitle.attr(\"x\",o(s)+u).attr(\"y\",28).attr(\"text-anchor\",\"middle\").attr(\"font-size\",\"12\").attr(\"fill\",\"#000\").text(this.props.outNames[0]).attr(\"opacity\",.5),this.props.hideBars||(this.joinPointTitleLeft.attr(\"x\",o(s)+u-16).attr(\"y\",12).attr(\"text-anchor\",\"end\").attr(\"font-size\",\"13\").attr(\"fill\",this.colors[0]).text(\"higher\").attr(\"opacity\",1),this.joinPointTitleRight.attr(\"x\",o(s)+u+16).attr(\"y\",12).attr(\"text-anchor\",\"start\").attr(\"font-size\",\"13\").attr(\"fill\",this.colors[1]).text(\"lower\").attr(\"opacity\",1),this.joinPointTitleLeftArrow.attr(\"x\",o(s)+u+7).attr(\"y\",8).attr(\"text-anchor\",\"end\").attr(\"font-size\",\"13\").attr(\"fill\",this.colors[0]).text(\"→\").attr(\"opacity\",1),this.joinPointTitleRightArrow.attr(\"x\",o(s)+u-7).attr(\"y\",14).attr(\"text-anchor\",\"start\").attr(\"font-size\",\"13\").attr(\"fill\",this.colors[1]).text(\"←\").attr(\"opacity\",1)),this.props.hideBaseValueLabel||this.baseValueTitle.attr(\"x\",this.scaleCentered(0)).attr(\"y\",28).attr(\"text-anchor\",\"middle\").attr(\"font-size\",\"12\").attr(\"fill\",\"#000\").text(\"base value\").attr(\"opacity\",.5)}},{key:\"componentWillUnmount\",value:function(){window.removeEventListener(\"resize\",this.redraw)}},{key:\"render\",value:function(){var t=this;return e.createElement(\"svg\",{ref:function(e){return t.svg=Jt(e)},style:{userSelect:\"none\",display:\"block\",fontFamily:\"arial\",sansSerif:!0}},e.createElement(\"style\",{dangerouslySetInnerHTML:{__html:\"\\n          .force-bar-axis path {\\n            fill: none;\\n            opacity: 0.4;\\n          }\\n          .force-bar-axis paths {\\n            display: none;\\n          }\\n          .tick line {\\n            stroke: #000;\\n            stroke-width: 1px;\\n            opacity: 0.4;\\n          }\\n          .tick text {\\n            fill: #000;\\n            opacity: 0.5;\\n            font-size: 12px;\\n            padding: 0px;\\n          }\"}}))}}])&&Tn(n.prototype,r),Object.defineProperty(n,\"prototype\",{writable:!1}),u}(e.Component);zn.defaultProps={plot_cmap:\"RdBu\"};const Ln=zn,On=1e3,An=6e4,Fn=36e5,Dn=864e5,Rn=6048e5,jn=31536e6,Un=new Date,In=new Date;function $n(e,t,n,r){function a(t){return e(t=0===arguments.length?new Date:new Date(+t)),t}return a.floor=t=>(e(t=new Date(+t)),t),a.ceil=n=>(e(n=new Date(n-1)),t(n,1),e(n),n),a.round=e=>{const t=a(e),n=a.ceil(e);return e-t<n-e?t:n},a.offset=(e,n)=>(t(e=new Date(+e),null==n?1:Math.floor(n)),e),a.range=(n,r,i)=>{const o=[];if(n=a.ceil(n),i=null==i?1:Math.floor(i),!(n<r&&i>0))return o;let u;do{o.push(u=new Date(+n)),t(n,i),e(n)}while(u<n&&n<r);return o},a.filter=n=>$n((t=>{if(t>=t)for(;e(t),!n(t);)t.setTime(t-1)}),((e,r)=>{if(e>=e)if(r<0)for(;++r<=0;)for(;t(e,-1),!n(e););else for(;--r>=0;)for(;t(e,1),!n(e););})),n&&(a.count=(t,r)=>(Un.setTime(+t),In.setTime(+r),e(Un),e(In),Math.floor(n(Un,In))),a.every=e=>(e=Math.floor(e),isFinite(e)&&e>0?e>1?a.filter(r?t=>r(t)%e==0:t=>a.count(0,t)%e==0):a:null)),a}const Bn=$n((()=>{}),((e,t)=>{e.setTime(+e+t)}),((e,t)=>t-e));Bn.every=e=>(e=Math.floor(e),isFinite(e)&&e>0?e>1?$n((t=>{t.setTime(Math.floor(t/e)*e)}),((t,n)=>{t.setTime(+t+n*e)}),((t,n)=>(n-t)/e)):Bn:null),Bn.range;const Wn=$n((e=>{e.setTime(e-e.getMilliseconds())}),((e,t)=>{e.setTime(+e+t*On)}),((e,t)=>(t-e)/On),(e=>e.getUTCSeconds())),Vn=(Wn.range,$n((e=>{e.setTime(e-e.getMilliseconds()-e.getSeconds()*On)}),((e,t)=>{e.setTime(+e+t*An)}),((e,t)=>(t-e)/An),(e=>e.getMinutes()))),Hn=(Vn.range,$n((e=>{e.setUTCSeconds(0,0)}),((e,t)=>{e.setTime(+e+t*An)}),((e,t)=>(t-e)/An),(e=>e.getUTCMinutes()))),qn=(Hn.range,$n((e=>{e.setTime(e-e.getMilliseconds()-e.getSeconds()*On-e.getMinutes()*An)}),((e,t)=>{e.setTime(+e+t*Fn)}),((e,t)=>(t-e)/Fn),(e=>e.getHours()))),Qn=(qn.range,$n((e=>{e.setUTCMinutes(0,0,0)}),((e,t)=>{e.setTime(+e+t*Fn)}),((e,t)=>(t-e)/Fn),(e=>e.getUTCHours()))),Yn=(Qn.range,$n((e=>e.setHours(0,0,0,0)),((e,t)=>e.setDate(e.getDate()+t)),((e,t)=>(t-e-(t.getTimezoneOffset()-e.getTimezoneOffset())*An)/Dn),(e=>e.getDate()-1))),Gn=(Yn.range,$n((e=>{e.setUTCHours(0,0,0,0)}),((e,t)=>{e.setUTCDate(e.getUTCDate()+t)}),((e,t)=>(t-e)/Dn),(e=>e.getUTCDate()-1))),Kn=(Gn.range,$n((e=>{e.setUTCHours(0,0,0,0)}),((e,t)=>{e.setUTCDate(e.getUTCDate()+t)}),((e,t)=>(t-e)/Dn),(e=>Math.floor(e/Dn))));function Zn(e){return $n((t=>{t.setDate(t.getDate()-(t.getDay()+7-e)%7),t.setHours(0,0,0,0)}),((e,t)=>{e.setDate(e.getDate()+7*t)}),((e,t)=>(t-e-(t.getTimezoneOffset()-e.getTimezoneOffset())*An)/Rn))}Kn.range;const Xn=Zn(0),Jn=Zn(1),er=Zn(2),tr=Zn(3),nr=Zn(4),rr=Zn(5),ar=Zn(6);function ir(e){return $n((t=>{t.setUTCDate(t.getUTCDate()-(t.getUTCDay()+7-e)%7),t.setUTCHours(0,0,0,0)}),((e,t)=>{e.setUTCDate(e.getUTCDate()+7*t)}),((e,t)=>(t-e)/Rn))}Xn.range,Jn.range,er.range,tr.range,nr.range,rr.range,ar.range;const or=ir(0),ur=ir(1),lr=ir(2),sr=ir(3),cr=ir(4),fr=ir(5),pr=ir(6),dr=(or.range,ur.range,lr.range,sr.range,cr.range,fr.range,pr.range,$n((e=>{e.setDate(1),e.setHours(0,0,0,0)}),((e,t)=>{e.setMonth(e.getMonth()+t)}),((e,t)=>t.getMonth()-e.getMonth()+12*(t.getFullYear()-e.getFullYear())),(e=>e.getMonth()))),hr=(dr.range,$n((e=>{e.setUTCDate(1),e.setUTCHours(0,0,0,0)}),((e,t)=>{e.setUTCMonth(e.getUTCMonth()+t)}),((e,t)=>t.getUTCMonth()-e.getUTCMonth()+12*(t.getUTCFullYear()-e.getUTCFullYear())),(e=>e.getUTCMonth()))),vr=(hr.range,$n((e=>{e.setMonth(0,1),e.setHours(0,0,0,0)}),((e,t)=>{e.setFullYear(e.getFullYear()+t)}),((e,t)=>t.getFullYear()-e.getFullYear()),(e=>e.getFullYear())));vr.every=e=>isFinite(e=Math.floor(e))&&e>0?$n((t=>{t.setFullYear(Math.floor(t.getFullYear()/e)*e),t.setMonth(0,1),t.setHours(0,0,0,0)}),((t,n)=>{t.setFullYear(t.getFullYear()+n*e)})):null,vr.range;const gr=$n((e=>{e.setUTCMonth(0,1),e.setUTCHours(0,0,0,0)}),((e,t)=>{e.setUTCFullYear(e.getUTCFullYear()+t)}),((e,t)=>t.getUTCFullYear()-e.getUTCFullYear()),(e=>e.getUTCFullYear()));function yr(e,t,n,r,a,i){const o=[[Wn,1,On],[Wn,5,5e3],[Wn,15,15e3],[Wn,30,3e4],[i,1,An],[i,5,3e5],[i,15,9e5],[i,30,18e5],[a,1,Fn],[a,3,108e5],[a,6,216e5],[a,12,432e5],[r,1,Dn],[r,2,1728e5],[n,1,Rn],[t,1,2592e6],[t,3,7776e6],[e,1,jn]];function u(t,n,r){const a=Math.abs(n-t)/r,i=f((([,,e])=>e)).right(o,a);if(i===o.length)return e.every(l(t/jn,n/jn,r));if(0===i)return Bn.every(Math.max(l(t,n,r),1));const[u,s]=o[a/o[i-1][2]<o[i][2]/a?i-1:i];return u.every(s)}return[function(e,t,n){const r=t<e;r&&([e,t]=[t,e]);const a=n&&\"function\"==typeof n.range?n:u(e,t,n),i=a?a.range(e,+t+1):[];return r?i.reverse():i},u]}gr.every=e=>isFinite(e=Math.floor(e))&&e>0?$n((t=>{t.setUTCFullYear(Math.floor(t.getUTCFullYear()/e)*e),t.setUTCMonth(0,1),t.setUTCHours(0,0,0,0)}),((t,n)=>{t.setUTCFullYear(t.getUTCFullYear()+n*e)})):null,gr.range;const[mr,br]=yr(gr,hr,or,Kn,Qn,Hn),[_r,wr]=yr(vr,dr,Xn,Yn,qn,Vn);function xr(e){if(0<=e.y&&e.y<100){var t=new Date(-1,e.m,e.d,e.H,e.M,e.S,e.L);return t.setFullYear(e.y),t}return new Date(e.y,e.m,e.d,e.H,e.M,e.S,e.L)}function kr(e){if(0<=e.y&&e.y<100){var t=new Date(Date.UTC(-1,e.m,e.d,e.H,e.M,e.S,e.L));return t.setUTCFullYear(e.y),t}return new Date(Date.UTC(e.y,e.m,e.d,e.H,e.M,e.S,e.L))}function Sr(e,t,n){return{y:e,m:t,d:n,H:0,M:0,S:0,L:0}}var Er,Cr,Tr,Mr={\"-\":\"\",_:\" \",0:\"0\"},Nr=/^\\s*\\d+/,Pr=/^%/,zr=/[\\\\^$*+?|[\\]().{}]/g;function Lr(e,t,n){var r=e<0?\"-\":\"\",a=(r?-e:e)+\"\",i=a.length;return r+(i<n?new Array(n-i+1).join(t)+a:a)}function Or(e){return e.replace(zr,\"\\\\$&\")}function Ar(e){return new RegExp(\"^(?:\"+e.map(Or).join(\"|\")+\")\",\"i\")}function Fr(e){return new Map(e.map(((e,t)=>[e.toLowerCase(),t])))}function Dr(e,t,n){var r=Nr.exec(t.slice(n,n+1));return r?(e.w=+r[0],n+r[0].length):-1}function Rr(e,t,n){var r=Nr.exec(t.slice(n,n+1));return r?(e.u=+r[0],n+r[0].length):-1}function jr(e,t,n){var r=Nr.exec(t.slice(n,n+2));return r?(e.U=+r[0],n+r[0].length):-1}function Ur(e,t,n){var r=Nr.exec(t.slice(n,n+2));return r?(e.V=+r[0],n+r[0].length):-1}function Ir(e,t,n){var r=Nr.exec(t.slice(n,n+2));return r?(e.W=+r[0],n+r[0].length):-1}function $r(e,t,n){var r=Nr.exec(t.slice(n,n+4));return r?(e.y=+r[0],n+r[0].length):-1}function Br(e,t,n){var r=Nr.exec(t.slice(n,n+2));return r?(e.y=+r[0]+(+r[0]>68?1900:2e3),n+r[0].length):-1}function Wr(e,t,n){var r=/^(Z)|([+-]\\d\\d)(?::?(\\d\\d))?/.exec(t.slice(n,n+6));return r?(e.Z=r[1]?0:-(r[2]+(r[3]||\"00\")),n+r[0].length):-1}function Vr(e,t,n){var r=Nr.exec(t.slice(n,n+1));return r?(e.q=3*r[0]-3,n+r[0].length):-1}function Hr(e,t,n){var r=Nr.exec(t.slice(n,n+2));return r?(e.m=r[0]-1,n+r[0].length):-1}function qr(e,t,n){var r=Nr.exec(t.slice(n,n+2));return r?(e.d=+r[0],n+r[0].length):-1}function Qr(e,t,n){var r=Nr.exec(t.slice(n,n+3));return r?(e.m=0,e.d=+r[0],n+r[0].length):-1}function Yr(e,t,n){var r=Nr.exec(t.slice(n,n+2));return r?(e.H=+r[0],n+r[0].length):-1}function Gr(e,t,n){var r=Nr.exec(t.slice(n,n+2));return r?(e.M=+r[0],n+r[0].length):-1}function Kr(e,t,n){var r=Nr.exec(t.slice(n,n+2));return r?(e.S=+r[0],n+r[0].length):-1}function Zr(e,t,n){var r=Nr.exec(t.slice(n,n+3));return r?(e.L=+r[0],n+r[0].length):-1}function Xr(e,t,n){var r=Nr.exec(t.slice(n,n+6));return r?(e.L=Math.floor(r[0]/1e3),n+r[0].length):-1}function Jr(e,t,n){var r=Pr.exec(t.slice(n,n+1));return r?n+r[0].length:-1}function ea(e,t,n){var r=Nr.exec(t.slice(n));return r?(e.Q=+r[0],n+r[0].length):-1}function ta(e,t,n){var r=Nr.exec(t.slice(n));return r?(e.s=+r[0],n+r[0].length):-1}function na(e,t){return Lr(e.getDate(),t,2)}function ra(e,t){return Lr(e.getHours(),t,2)}function aa(e,t){return Lr(e.getHours()%12||12,t,2)}function ia(e,t){return Lr(1+Yn.count(vr(e),e),t,3)}function oa(e,t){return Lr(e.getMilliseconds(),t,3)}function ua(e,t){return oa(e,t)+\"000\"}function la(e,t){return Lr(e.getMonth()+1,t,2)}function sa(e,t){return Lr(e.getMinutes(),t,2)}function ca(e,t){return Lr(e.getSeconds(),t,2)}function fa(e){var t=e.getDay();return 0===t?7:t}function pa(e,t){return Lr(Xn.count(vr(e)-1,e),t,2)}function da(e){var t=e.getDay();return t>=4||0===t?nr(e):nr.ceil(e)}function ha(e,t){return e=da(e),Lr(nr.count(vr(e),e)+(4===vr(e).getDay()),t,2)}function va(e){return e.getDay()}function ga(e,t){return Lr(Jn.count(vr(e)-1,e),t,2)}function ya(e,t){return Lr(e.getFullYear()%100,t,2)}function ma(e,t){return Lr((e=da(e)).getFullYear()%100,t,2)}function ba(e,t){return Lr(e.getFullYear()%1e4,t,4)}function _a(e,t){var n=e.getDay();return Lr((e=n>=4||0===n?nr(e):nr.ceil(e)).getFullYear()%1e4,t,4)}function wa(e){var t=e.getTimezoneOffset();return(t>0?\"-\":(t*=-1,\"+\"))+Lr(t/60|0,\"0\",2)+Lr(t%60,\"0\",2)}function xa(e,t){return Lr(e.getUTCDate(),t,2)}function ka(e,t){return Lr(e.getUTCHours(),t,2)}function Sa(e,t){return Lr(e.getUTCHours()%12||12,t,2)}function Ea(e,t){return Lr(1+Gn.count(gr(e),e),t,3)}function Ca(e,t){return Lr(e.getUTCMilliseconds(),t,3)}function Ta(e,t){return Ca(e,t)+\"000\"}function Ma(e,t){return Lr(e.getUTCMonth()+1,t,2)}function Na(e,t){return Lr(e.getUTCMinutes(),t,2)}function Pa(e,t){return Lr(e.getUTCSeconds(),t,2)}function za(e){var t=e.getUTCDay();return 0===t?7:t}function La(e,t){return Lr(or.count(gr(e)-1,e),t,2)}function Oa(e){var t=e.getUTCDay();return t>=4||0===t?cr(e):cr.ceil(e)}function Aa(e,t){return e=Oa(e),Lr(cr.count(gr(e),e)+(4===gr(e).getUTCDay()),t,2)}function Fa(e){return e.getUTCDay()}function Da(e,t){return Lr(ur.count(gr(e)-1,e),t,2)}function Ra(e,t){return Lr(e.getUTCFullYear()%100,t,2)}function ja(e,t){return Lr((e=Oa(e)).getUTCFullYear()%100,t,2)}function Ua(e,t){return Lr(e.getUTCFullYear()%1e4,t,4)}function Ia(e,t){var n=e.getUTCDay();return Lr((e=n>=4||0===n?cr(e):cr.ceil(e)).getUTCFullYear()%1e4,t,4)}function $a(){return\"+0000\"}function Ba(){return\"%\"}function Wa(e){return+e}function Va(e){return Math.floor(+e/1e3)}function Ha(e){return new Date(e)}function qa(e){return e instanceof Date?+e:+new Date(+e)}function Qa(e,t,n,r,a,i,o,u,l,s){var c=be(),f=c.invert,p=c.domain,d=s(\".%L\"),h=s(\":%S\"),v=s(\"%I:%M\"),g=s(\"%I %p\"),y=s(\"%a %d\"),m=s(\"%b %d\"),b=s(\"%B\"),_=s(\"%Y\");function w(e){return(l(e)<e?d:u(e)<e?h:o(e)<e?v:i(e)<e?g:r(e)<e?a(e)<e?y:m:n(e)<e?b:_)(e)}return c.invert=function(e){return new Date(f(e))},c.domain=function(e){return arguments.length?p(Array.from(e,qa)):p().map(Ha)},c.ticks=function(t){var n=p();return e(n[0],n[n.length-1],null==t?10:t)},c.tickFormat=function(e,t){return null==t?w:s(t)},c.nice=function(e){var n=p();return e&&\"function\"==typeof e.range||(e=t(n[0],n[n.length-1],null==e?10:e)),e?p(function(e,t){var n,r=0,a=(e=e.slice()).length-1,i=e[r],o=e[a];return o<i&&(n=r,r=a,a=n,n=i,i=o,o=n),e[r]=t.floor(i),e[a]=t.ceil(o),e}(n,e)):c},c.copy=function(){return me(c,Qa(e,t,n,r,a,i,o,u,l,s))},c}function Ya(){return _e.apply(Qa(_r,wr,vr,dr,Xn,Yn,qn,Vn,Wn,Cr).domain([new Date(2e3,0,1),new Date(2e3,0,2)]),arguments)}function Ga(e,t){var n=\"undefined\"!=typeof Symbol&&e[Symbol.iterator]||e[\"@@iterator\"];if(!n){if(Array.isArray(e)||(n=function(e,t){if(e){if(\"string\"==typeof e)return Ka(e,t);var n=Object.prototype.toString.call(e).slice(8,-1);return\"Object\"===n&&e.constructor&&(n=e.constructor.name),\"Map\"===n||\"Set\"===n?Array.from(e):\"Arguments\"===n||/^(?:Ui|I)nt(?:8|16|32)(?:Clamped)?Array$/.test(n)?Ka(e,t):void 0}}(e))||t&&e&&\"number\"==typeof e.length){n&&(e=n);var r=0,a=function(){};return{s:a,n:function(){return r>=e.length?{done:!0}:{done:!1,value:e[r++]}},e:function(e){throw e},f:a}}throw new TypeError(\"Invalid attempt to iterate non-iterable instance.\\nIn order to be iterable, non-array objects must have a [Symbol.iterator]() method.\")}var i,o=!0,u=!1;return{s:function(){n=n.call(e)},n:function(){var e=n.next();return o=e.done,e},e:function(e){u=!0,i=e},f:function(){try{o||null==n.return||n.return()}finally{if(u)throw i}}}}function Ka(e,t){(null==t||t>e.length)&&(t=e.length);for(var n=0,r=new Array(t);n<t;n++)r[n]=e[n];return r}function Za(e){return Za=\"function\"==typeof Symbol&&\"symbol\"==typeof Symbol.iterator?function(e){return typeof e}:function(e){return e&&\"function\"==typeof Symbol&&e.constructor===Symbol&&e!==Symbol.prototype?\"symbol\":typeof e},Za(e)}function Xa(e,t){for(var n=0;n<t.length;n++){var r=t[n];r.enumerable=r.enumerable||!1,r.configurable=!0,\"value\"in r&&(r.writable=!0),Object.defineProperty(e,(void 0,a=function(e,t){if(\"object\"!==Za(e)||null===e)return e;var n=e[Symbol.toPrimitive];if(void 0!==n){var r=n.call(e,\"string\");if(\"object\"!==Za(r))return r;throw new TypeError(\"@@toPrimitive must return a primitive value.\")}return String(e)}(r.key),\"symbol\"===Za(a)?a:String(a)),r)}var a}function Ja(e,t){return Ja=Object.setPrototypeOf?Object.setPrototypeOf.bind():function(e,t){return e.__proto__=t,e},Ja(e,t)}function ei(e){if(void 0===e)throw new ReferenceError(\"this hasn't been initialised - super() hasn't been called\");return e}function ti(e){return ti=Object.setPrototypeOf?Object.getPrototypeOf.bind():function(e){return e.__proto__||Object.getPrototypeOf(e)},ti(e)}Er=function(e){var t=e.dateTime,n=e.date,r=e.time,a=e.periods,i=e.days,o=e.shortDays,u=e.months,l=e.shortMonths,s=Ar(a),c=Fr(a),f=Ar(i),p=Fr(i),d=Ar(o),h=Fr(o),v=Ar(u),g=Fr(u),y=Ar(l),m=Fr(l),b={a:function(e){return o[e.getDay()]},A:function(e){return i[e.getDay()]},b:function(e){return l[e.getMonth()]},B:function(e){return u[e.getMonth()]},c:null,d:na,e:na,f:ua,g:ma,G:_a,H:ra,I:aa,j:ia,L:oa,m:la,M:sa,p:function(e){return a[+(e.getHours()>=12)]},q:function(e){return 1+~~(e.getMonth()/3)},Q:Wa,s:Va,S:ca,u:fa,U:pa,V:ha,w:va,W:ga,x:null,X:null,y:ya,Y:ba,Z:wa,\"%\":Ba},_={a:function(e){return o[e.getUTCDay()]},A:function(e){return i[e.getUTCDay()]},b:function(e){return l[e.getUTCMonth()]},B:function(e){return u[e.getUTCMonth()]},c:null,d:xa,e:xa,f:Ta,g:ja,G:Ia,H:ka,I:Sa,j:Ea,L:Ca,m:Ma,M:Na,p:function(e){return a[+(e.getUTCHours()>=12)]},q:function(e){return 1+~~(e.getUTCMonth()/3)},Q:Wa,s:Va,S:Pa,u:za,U:La,V:Aa,w:Fa,W:Da,x:null,X:null,y:Ra,Y:Ua,Z:$a,\"%\":Ba},w={a:function(e,t,n){var r=d.exec(t.slice(n));return r?(e.w=h.get(r[0].toLowerCase()),n+r[0].length):-1},A:function(e,t,n){var r=f.exec(t.slice(n));return r?(e.w=p.get(r[0].toLowerCase()),n+r[0].length):-1},b:function(e,t,n){var r=y.exec(t.slice(n));return r?(e.m=m.get(r[0].toLowerCase()),n+r[0].length):-1},B:function(e,t,n){var r=v.exec(t.slice(n));return r?(e.m=g.get(r[0].toLowerCase()),n+r[0].length):-1},c:function(e,n,r){return S(e,t,n,r)},d:qr,e:qr,f:Xr,g:Br,G:$r,H:Yr,I:Yr,j:Qr,L:Zr,m:Hr,M:Gr,p:function(e,t,n){var r=s.exec(t.slice(n));return r?(e.p=c.get(r[0].toLowerCase()),n+r[0].length):-1},q:Vr,Q:ea,s:ta,S:Kr,u:Rr,U:jr,V:Ur,w:Dr,W:Ir,x:function(e,t,r){return S(e,n,t,r)},X:function(e,t,n){return S(e,r,t,n)},y:Br,Y:$r,Z:Wr,\"%\":Jr};function x(e,t){return function(n){var r,a,i,o=[],u=-1,l=0,s=e.length;for(n instanceof Date||(n=new Date(+n));++u<s;)37===e.charCodeAt(u)&&(o.push(e.slice(l,u)),null!=(a=Mr[r=e.charAt(++u)])?r=e.charAt(++u):a=\"e\"===r?\" \":\"0\",(i=t[r])&&(r=i(n,a)),o.push(r),l=u+1);return o.push(e.slice(l,u)),o.join(\"\")}}function k(e,t){return function(n){var r,a,i=Sr(1900,void 0,1);if(S(i,e,n+=\"\",0)!=n.length)return null;if(\"Q\"in i)return new Date(i.Q);if(\"s\"in i)return new Date(1e3*i.s+(\"L\"in i?i.L:0));if(t&&!(\"Z\"in i)&&(i.Z=0),\"p\"in i&&(i.H=i.H%12+12*i.p),void 0===i.m&&(i.m=\"q\"in i?i.q:0),\"V\"in i){if(i.V<1||i.V>53)return null;\"w\"in i||(i.w=1),\"Z\"in i?(a=(r=kr(Sr(i.y,0,1))).getUTCDay(),r=a>4||0===a?ur.ceil(r):ur(r),r=Gn.offset(r,7*(i.V-1)),i.y=r.getUTCFullYear(),i.m=r.getUTCMonth(),i.d=r.getUTCDate()+(i.w+6)%7):(a=(r=xr(Sr(i.y,0,1))).getDay(),r=a>4||0===a?Jn.ceil(r):Jn(r),r=Yn.offset(r,7*(i.V-1)),i.y=r.getFullYear(),i.m=r.getMonth(),i.d=r.getDate()+(i.w+6)%7)}else(\"W\"in i||\"U\"in i)&&(\"w\"in i||(i.w=\"u\"in i?i.u%7:\"W\"in i?1:0),a=\"Z\"in i?kr(Sr(i.y,0,1)).getUTCDay():xr(Sr(i.y,0,1)).getDay(),i.m=0,i.d=\"W\"in i?(i.w+6)%7+7*i.W-(a+5)%7:i.w+7*i.U-(a+6)%7);return\"Z\"in i?(i.H+=i.Z/100|0,i.M+=i.Z%100,kr(i)):xr(i)}}function S(e,t,n,r){for(var a,i,o=0,u=t.length,l=n.length;o<u;){if(r>=l)return-1;if(37===(a=t.charCodeAt(o++))){if(a=t.charAt(o++),!(i=w[a in Mr?t.charAt(o++):a])||(r=i(e,n,r))<0)return-1}else if(a!=n.charCodeAt(r++))return-1}return r}return b.x=x(n,b),b.X=x(r,b),b.c=x(t,b),_.x=x(n,_),_.X=x(r,_),_.c=x(t,_),{format:function(e){var t=x(e+=\"\",b);return t.toString=function(){return e},t},parse:function(e){var t=k(e+=\"\",!1);return t.toString=function(){return e},t},utcFormat:function(e){var t=x(e+=\"\",_);return t.toString=function(){return e},t},utcParse:function(e){var t=k(e+=\"\",!0);return t.toString=function(){return e},t}}}({dateTime:\"%x, %X\",date:\"%-m/%-d/%Y\",time:\"%-I:%M:%S %p\",periods:[\"AM\",\"PM\"],days:[\"Sunday\",\"Monday\",\"Tuesday\",\"Wednesday\",\"Thursday\",\"Friday\",\"Saturday\"],shortDays:[\"Sun\",\"Mon\",\"Tue\",\"Wed\",\"Thu\",\"Fri\",\"Sat\"],months:[\"January\",\"February\",\"March\",\"April\",\"May\",\"June\",\"July\",\"August\",\"September\",\"October\",\"November\",\"December\"],shortMonths:[\"Jan\",\"Feb\",\"Mar\",\"Apr\",\"May\",\"Jun\",\"Jul\",\"Aug\",\"Sep\",\"Oct\",\"Nov\",\"Dec\"]}),Cr=Er.format,Tr=Er.parse,Er.utcFormat,Er.utcParse;var ni=function(t){!function(e,t){if(\"function\"!=typeof t&&null!==t)throw new TypeError(\"Super expression must either be null or a function\");e.prototype=Object.create(t&&t.prototype,{constructor:{value:e,writable:!0,configurable:!0}}),Object.defineProperty(e,\"prototype\",{writable:!1}),t&&Ja(e,t)}(u,t);var n,r,a,i,o=(a=u,i=function(){if(\"undefined\"==typeof Reflect||!Reflect.construct)return!1;if(Reflect.construct.sham)return!1;if(\"function\"==typeof Proxy)return!0;try{return Boolean.prototype.valueOf.call(Reflect.construct(Boolean,[],(function(){}))),!0}catch(e){return!1}}(),function(){var e,t=ti(a);if(i){var n=ti(this).constructor;e=Reflect.construct(t,arguments,n)}else e=t.apply(this,arguments);return function(e,t){if(t&&(\"object\"===Za(t)||\"function\"==typeof t))return t;if(void 0!==t)throw new TypeError(\"Derived constructors may only return object or undefined\");return ei(e)}(this,e)});function u(){var e;return function(e,t){if(!(e instanceof t))throw new TypeError(\"Cannot call a class as a function\")}(this,u),e=o.call(this),window.lastAdditiveForceArrayVisualizer=ei(e),e.topOffset=28,e.leftOffset=80,e.height=350,e.effectFormat=ze(\".2\"),e.redraw=(0,Re.debounce)((function(){return e.draw()}),200),e}return n=u,(r=[{key:\"componentDidMount\",value:function(){var e=this;this.mainGroup=this.svg.append(\"g\"),this.onTopGroup=this.svg.append(\"g\"),this.xaxisElement=this.onTopGroup.append(\"g\").attr(\"transform\",\"translate(0,35)\").attr(\"class\",\"force-bar-array-xaxis\"),this.yaxisElement=this.onTopGroup.append(\"g\").attr(\"transform\",\"translate(0,35)\").attr(\"class\",\"force-bar-array-yaxis\"),this.hoverGroup1=this.svg.append(\"g\"),this.hoverGroup2=this.svg.append(\"g\"),this.baseValueTitle=this.svg.append(\"text\"),this.hoverLine=this.svg.append(\"line\"),this.hoverxOutline=this.svg.append(\"text\").attr(\"text-anchor\",\"middle\").attr(\"font-weight\",\"bold\").attr(\"fill\",\"#fff\").attr(\"stroke\",\"#fff\").attr(\"stroke-width\",\"6\").attr(\"font-size\",\"12px\"),this.hoverx=this.svg.append(\"text\").attr(\"text-anchor\",\"middle\").attr(\"font-weight\",\"bold\").attr(\"fill\",\"#000\").attr(\"font-size\",\"12px\"),this.hoverxTitle=this.svg.append(\"text\").attr(\"text-anchor\",\"middle\").attr(\"opacity\",.6).attr(\"font-size\",\"12px\"),this.hoveryOutline=this.svg.append(\"text\").attr(\"text-anchor\",\"end\").attr(\"font-weight\",\"bold\").attr(\"fill\",\"#fff\").attr(\"stroke\",\"#fff\").attr(\"stroke-width\",\"6\").attr(\"font-size\",\"12px\"),this.hovery=this.svg.append(\"text\").attr(\"text-anchor\",\"end\").attr(\"font-weight\",\"bold\").attr(\"fill\",\"#000\").attr(\"font-size\",\"12px\"),this.xlabel=this.wrapper.select(\".additive-force-array-xlabel\"),this.ylabel=this.wrapper.select(\".additive-force-array-ylabel\");var t=void 0;\"string\"==typeof this.props.plot_cmap?this.props.plot_cmap in je.colors?t=je.colors[this.props.plot_cmap]:(console.log(\"Invalid color map name, reverting to default.\"),t=je.colors.RdBu):Array.isArray(this.props.plot_cmap)&&(t=this.props.plot_cmap),this.colors=t.map((function(e){return q(e)})),this.brighterColors=[1.45,1.6].map((function(t,n){return e.colors[n].brighter(t)}));var n=ze(\",.4\");null!=this.props.ordering_keys&&null!=this.props.ordering_keys_time_format?(this.parseTime=Tr(this.props.ordering_keys_time_format),this.formatTime=Cr(this.props.ordering_keys_time_format),this.xtickFormat=function(e){return\"object\"==Za(e)?this.formatTime(e):n(e)}):(this.parseTime=null,this.formatTime=null,this.xtickFormat=n),this.xscale=De(),this.xaxis=dn().scale(this.xscale).tickSizeInner(4).tickSizeOuter(0).tickFormat((function(t){return e.xtickFormat(t)})).tickPadding(-18),this.ytickFormat=n,this.yscale=De(),this.yaxis=pn(an,undefined).scale(this.yscale).tickSizeInner(4).tickSizeOuter(0).tickFormat((function(t){return e.ytickFormat(e.invLinkFunction(t))})).tickPadding(2),this.xlabel.node().onchange=function(){return e.internalDraw()},this.ylabel.node().onchange=function(){return e.internalDraw()},this.svg.on(\"mousemove\",(function(t){return e.mouseMoved(t)})),this.svg.on(\"click\",(function(){return alert(\"This original index of the sample you clicked is \"+e.nearestExpIndex)})),this.svg.on(\"mouseout\",(function(t){return e.mouseOut(t)})),window.addEventListener(\"resize\",this.redraw),window.setTimeout(this.redraw,50)}},{key:\"componentDidUpdate\",value:function(){this.draw()}},{key:\"mouseOut\",value:function(){this.hoverLine.attr(\"display\",\"none\"),this.hoverx.attr(\"display\",\"none\"),this.hoverxOutline.attr(\"display\",\"none\"),this.hoverxTitle.attr(\"display\",\"none\"),this.hovery.attr(\"display\",\"none\"),this.hoveryOutline.attr(\"display\",\"none\"),this.hoverGroup1.attr(\"display\",\"none\"),this.hoverGroup2.attr(\"display\",\"none\")}},{key:\"mouseMoved\",value:function(e){var t,n,r=this;this.hoverLine.attr(\"display\",\"\"),this.hoverx.attr(\"display\",\"\"),this.hoverxOutline.attr(\"display\",\"\"),this.hoverxTitle.attr(\"display\",\"\"),this.hovery.attr(\"display\",\"\"),this.hoveryOutline.attr(\"display\",\"\"),this.hoverGroup1.attr(\"display\",\"\"),this.hoverGroup2.attr(\"display\",\"\");var a=function(e,t){if(e=function(e){let t;for(;t=e.sourceEvent;)e=t;return e}(e),void 0===t&&(t=e.currentTarget),t){var n=t.ownerSVGElement||t;if(n.createSVGPoint){var r=n.createSVGPoint();return r.x=e.clientX,r.y=e.clientY,[(r=r.matrixTransform(t.getScreenCTM().inverse())).x,r.y]}if(t.getBoundingClientRect){var a=t.getBoundingClientRect();return[e.clientX-a.left-t.clientLeft,e.clientY-a.top-t.clientTop]}}return[e.pageX,e.pageY]}(e,this.svg.node())[0];if(this.props.explanations){for(t=0;t<this.currExplanations.length;++t)(!n||Math.abs(n.xmapScaled-a)>Math.abs(this.currExplanations[t].xmapScaled-a))&&(n=this.currExplanations[t]);this.nearestExpIndex=n.origInd,this.hoverLine.attr(\"x1\",n.xmapScaled).attr(\"x2\",n.xmapScaled).attr(\"y1\",0+this.topOffset).attr(\"y2\",this.height),this.hoverx.attr(\"x\",n.xmapScaled).attr(\"y\",this.topOffset-5).text(this.xtickFormat(n.xmap)),this.hoverxOutline.attr(\"x\",n.xmapScaled).attr(\"y\",this.topOffset-5).text(this.xtickFormat(n.xmap)),this.hoverxTitle.attr(\"x\",n.xmapScaled).attr(\"y\",this.topOffset-18).text(n.count>1?n.count+\" averaged samples\":\"\"),this.hovery.attr(\"x\",this.leftOffset-6).attr(\"y\",n.joinPointy).text(this.ytickFormat(this.invLinkFunction(n.joinPoint))),this.hoveryOutline.attr(\"x\",this.leftOffset-6).attr(\"y\",n.joinPointy).text(this.ytickFormat(this.invLinkFunction(n.joinPoint)));for(var i,o,u=[],l=this.currPosOrderedFeatures.length-1;l>=0;--l){var s=this.currPosOrderedFeatures[l],c=n.features[s];o=5+(c.posyTop+c.posyBottom)/2,(!i||o-i>=15)&&c.posyTop-c.posyBottom>=6&&(u.push(c),i=o)}var f=[];i=void 0;var p,d=Ga(this.currNegOrderedFeatures);try{for(d.s();!(p=d.n()).done;){var h=p.value,v=n.features[h];o=5+(v.negyTop+v.negyBottom)/2,(!i||i-o>=15)&&v.negyTop-v.negyBottom>=6&&(f.push(v),i=o)}}catch(e){d.e(e)}finally{d.f()}var g=function(e){var t=\"\";return null!==e.value&&void 0!==e.value&&(t=\" = \"+(isNaN(e.value)?e.value:r.ytickFormat(e.value))),n.count>1?\"mean(\"+r.props.featureNames[e.ind]+\")\"+t:r.props.featureNames[e.ind]+t},y=this.hoverGroup1.selectAll(\".pos-values\").data(u);y.enter().append(\"text\").attr(\"class\",\"pos-values\").merge(y).attr(\"x\",n.xmapScaled+5).attr(\"y\",(function(e){return 4+(e.posyTop+e.posyBottom)/2})).attr(\"text-anchor\",\"start\").attr(\"font-size\",12).attr(\"stroke\",\"#fff\").attr(\"fill\",\"#fff\").attr(\"stroke-width\",\"4\").attr(\"stroke-linejoin\",\"round\").attr(\"opacity\",1).text(g),y.exit().remove();var m=this.hoverGroup2.selectAll(\".pos-values\").data(u);m.enter().append(\"text\").attr(\"class\",\"pos-values\").merge(m).attr(\"x\",n.xmapScaled+5).attr(\"y\",(function(e){return 4+(e.posyTop+e.posyBottom)/2})).attr(\"text-anchor\",\"start\").attr(\"font-size\",12).attr(\"fill\",this.colors[0]).text(g),m.exit().remove();var b=this.hoverGroup1.selectAll(\".neg-values\").data(f);b.enter().append(\"text\").attr(\"class\",\"neg-values\").merge(b).attr(\"x\",n.xmapScaled+5).attr(\"y\",(function(e){return 4+(e.negyTop+e.negyBottom)/2})).attr(\"text-anchor\",\"start\").attr(\"font-size\",12).attr(\"stroke\",\"#fff\").attr(\"fill\",\"#fff\").attr(\"stroke-width\",\"4\").attr(\"stroke-linejoin\",\"round\").attr(\"opacity\",1).text(g),b.exit().remove();var _=this.hoverGroup2.selectAll(\".neg-values\").data(f);_.enter().append(\"text\").attr(\"class\",\"neg-values\").merge(_).attr(\"x\",n.xmapScaled+5).attr(\"y\",(function(e){return 4+(e.negyTop+e.negyBottom)/2})).attr(\"text-anchor\",\"start\").attr(\"font-size\",12).attr(\"fill\",this.colors[1]).text(g),_.exit().remove()}}},{key:\"draw\",value:function(){var e=this;if(this.props.explanations&&0!==this.props.explanations.length){(0,Re.each)(this.props.explanations,(function(e,t){return e.origInd=t}));var t,n={},r={},a={},i=Ga(this.props.explanations);try{for(i.s();!(t=i.n()).done;){var o=t.value;for(var u in o.features)void 0===n[u]&&(n[u]=0,r[u]=0,a[u]=0),o.features[u].effect>0?n[u]+=o.features[u].effect:r[u]-=o.features[u].effect,null!==o.features[u].value&&void 0!==o.features[u].value&&(a[u]+=1)}}catch(e){i.e(e)}finally{i.f()}this.usedFeatures=(0,Re.sortBy)((0,Re.keys)(n),(function(e){return-(n[e]+r[e])})),console.log(\"found \",this.usedFeatures.length,\" used features\"),this.posOrderedFeatures=(0,Re.sortBy)(this.usedFeatures,(function(e){return n[e]})),this.negOrderedFeatures=(0,Re.sortBy)(this.usedFeatures,(function(e){return-r[e]})),this.singleValueFeatures=(0,Re.filter)(this.usedFeatures,(function(e){return a[e]>0}));var l=[\"sample order by similarity\",\"sample order by output value\",\"original sample ordering\"].concat(this.singleValueFeatures.map((function(t){return e.props.featureNames[t]})));null!=this.props.ordering_keys&&l.unshift(\"sample order by key\");var s=this.xlabel.selectAll(\"option\").data(l);s.enter().append(\"option\").merge(s).attr(\"value\",(function(e){return e})).text((function(e){return e})),s.exit().remove();var c=this.props.outNames[0]?this.props.outNames[0]:\"model output value\";(l=(0,Re.map)(this.usedFeatures,(function(t){return[e.props.featureNames[t],e.props.featureNames[t]+\" effects\"]}))).unshift([\"model output value\",c]);var f=this.ylabel.selectAll(\"option\").data(l);f.enter().append(\"option\").merge(f).attr(\"value\",(function(e){return e[0]})).text((function(e){return e[1]})),f.exit().remove(),this.ylabel.style(\"top\",(this.height-10-this.topOffset)/2+this.topOffset+\"px\").style(\"left\",10-this.ylabel.node().offsetWidth/2+\"px\"),this.internalDraw()}}},{key:\"internalDraw\",value:function(){var e,t,n=this,r=Ga(this.props.explanations);try{for(r.s();!(e=r.n()).done;){var a,i=e.value,o=Ga(this.usedFeatures);try{for(o.s();!(a=o.n()).done;){var u=a.value;i.features.hasOwnProperty(u)||(i.features[u]={effect:0,value:0}),i.features[u].ind=u}}catch(e){o.e(e)}finally{o.f()}}}catch(e){r.e(e)}finally{r.f()}var l=this.xlabel.node().value,s=\"sample order by key\"===l&&null!=this.props.ordering_keys_time_format;if(this.xscale=s?Ya():De(),this.xaxis.scale(this.xscale),\"sample order by similarity\"===l)t=(0,Re.sortBy)(this.props.explanations,(function(e){return e.simIndex})),(0,Re.each)(t,(function(e,t){return e.xmap=t}));else if(\"sample order by output value\"===l)t=(0,Re.sortBy)(this.props.explanations,(function(e){return-e.outValue})),(0,Re.each)(t,(function(e,t){return e.xmap=t}));else if(\"original sample ordering\"===l)t=(0,Re.sortBy)(this.props.explanations,(function(e){return e.origInd})),(0,Re.each)(t,(function(e,t){return e.xmap=t}));else if(\"sample order by key\"===l)t=this.props.explanations,s?(0,Re.each)(t,(function(e,t){return e.xmap=n.parseTime(n.props.ordering_keys[t])})):(0,Re.each)(t,(function(e,t){return e.xmap=n.props.ordering_keys[t]})),t=(0,Re.sortBy)(t,(function(e){return e.xmap}));else{var c=(0,Re.findKey)(this.props.featureNames,(function(e){return e===l}));(0,Re.each)(this.props.explanations,(function(e,t){return e.xmap=e.features[c].value}));var f=(0,Re.sortBy)(this.props.explanations,(function(e){return e.xmap})),p=(0,Re.map)(f,(function(e){return e.xmap}));if(\"string\"==typeof p[0])return void alert(\"Ordering by category names is not yet supported.\");var d,h,v=(0,Re.min)(p),g=((0,Re.max)(p)-v)/100;t=[];for(var y=0;y<f.length;++y){var m=f[y];if(d&&!h&&m.xmap-d.xmap<=g||h&&m.xmap-h.xmap<=g){h||((h=(0,Re.cloneDeep)(d)).count=1);var b,_=Ga(this.usedFeatures);try{for(_.s();!(b=_.n()).done;){var w=b.value;h.features[w].effect+=m.features[w].effect,h.features[w].value+=m.features[w].value}}catch(e){_.e(e)}finally{_.f()}h.count+=1}else if(d)if(h){var x,k=Ga(this.usedFeatures);try{for(k.s();!(x=k.n()).done;){var S=x.value;h.features[S].effect/=h.count,h.features[S].value/=h.count}}catch(e){k.e(e)}finally{k.f()}t.push(h),h=void 0}else t.push(d);d=m}d.xmap-t[t.length-1].xmap>g&&t.push(d)}this.currUsedFeatures=this.usedFeatures,this.currPosOrderedFeatures=this.posOrderedFeatures,this.currNegOrderedFeatures=this.negOrderedFeatures;var E=this.ylabel.node().value;if(\"model output value\"!==E){var C=t;t=(0,Re.cloneDeep)(t);for(var T=(0,Re.findKey)(this.props.featureNames,(function(e){return e===E})),M=0;M<t.length;++M){var N=t[M].features[T];t[M].features={},t[M].features[T]=N,C[M].remapped_version=t[M]}this.currUsedFeatures=[T],this.currPosOrderedFeatures=[T],this.currNegOrderedFeatures=[T]}this.currExplanations=t,\"identity\"===this.props.link?this.invLinkFunction=function(e){return n.props.baseValue+e}:\"logit\"===this.props.link?this.invLinkFunction=function(e){return 1/(1+Math.exp(-(n.props.baseValue+e)))}:console.log(\"ERROR: Unrecognized link function: \",this.props.link),this.predValues=(0,Re.map)(t,(function(e){return(0,Re.sum)((0,Re.map)(e.features,(function(e){return e.effect})))}));var P=this.wrapper.node().offsetWidth;if(0==P)return setTimeout((function(){return n.draw(t)}),500);this.svg.style(\"height\",this.height+\"px\"),this.svg.style(\"width\",P+\"px\");var z=(0,Re.map)(t,(function(e){return e.xmap}));this.xscale.domain([(0,Re.min)(z),(0,Re.max)(z)]).range([this.leftOffset,P]).clamp(!0),this.xaxisElement.attr(\"transform\",\"translate(0,\"+this.topOffset+\")\").call(this.xaxis);for(var L=0;L<this.currExplanations.length;++L)this.currExplanations[L].xmapScaled=this.xscale(this.currExplanations[L].xmap);for(var O=t.length,A=0,F=0;F<O;++F){var D=t[F].features,R=(0,Re.sum)((0,Re.map)((0,Re.filter)(D,(function(e){return e.effect>0})),(function(e){return e.effect})))||0,j=(0,Re.sum)((0,Re.map)((0,Re.filter)(D,(function(e){return e.effect<0})),(function(e){return-e.effect})))||0;A=Math.max(A,2.2*Math.max(R,j))}this.yscale.domain([-A/2,A/2]).range([this.height-10,this.topOffset]),this.yaxisElement.attr(\"transform\",\"translate(\"+this.leftOffset+\",0)\").call(this.yaxis);for(var U=0;U<O;++U){var I,$=t[U].features,B=-((0,Re.sum)((0,Re.map)((0,Re.filter)($,(function(e){return e.effect<0})),(function(e){return-e.effect})))||0),W=void 0,V=Ga(this.currPosOrderedFeatures);try{for(V.s();!(I=V.n()).done;)$[W=I.value].posyTop=this.yscale(B),$[W].effect>0&&(B+=$[W].effect),$[W].posyBottom=this.yscale(B),$[W].ind=W}catch(e){V.e(e)}finally{V.f()}var H,q=B,Q=Ga(this.currNegOrderedFeatures);try{for(Q.s();!(H=Q.n()).done;)$[W=H.value].negyTop=this.yscale(B),$[W].effect<0&&(B-=$[W].effect),$[W].negyBottom=this.yscale(B)}catch(e){Q.e(e)}finally{Q.f()}t[U].joinPoint=q,t[U].joinPointy=this.yscale(q)}var Y=En().x((function(e){return e[0]})).y((function(e){return e[1]})),G=this.mainGroup.selectAll(\".force-bar-array-area-pos\").data(this.currUsedFeatures);G.enter().append(\"path\").attr(\"class\",\"force-bar-array-area-pos\").merge(G).attr(\"d\",(function(e){var n=(0,Re.map)((0,Re.range)(O),(function(n){return[t[n].xmapScaled,t[n].features[e].posyTop]})),r=(0,Re.map)((0,Re.rangeRight)(O),(function(n){return[t[n].xmapScaled,t[n].features[e].posyBottom]}));return Y(n.concat(r))})).attr(\"fill\",this.colors[0]),G.exit().remove();var K=this.mainGroup.selectAll(\".force-bar-array-area-neg\").data(this.currUsedFeatures);K.enter().append(\"path\").attr(\"class\",\"force-bar-array-area-neg\").merge(K).attr(\"d\",(function(e){var n=(0,Re.map)((0,Re.range)(O),(function(n){return[t[n].xmapScaled,t[n].features[e].negyTop]})),r=(0,Re.map)((0,Re.rangeRight)(O),(function(n){return[t[n].xmapScaled,t[n].features[e].negyBottom]}));return Y(n.concat(r))})).attr(\"fill\",this.colors[1]),K.exit().remove();var Z=this.mainGroup.selectAll(\".force-bar-array-divider-pos\").data(this.currUsedFeatures);Z.enter().append(\"path\").attr(\"class\",\"force-bar-array-divider-pos\").merge(Z).attr(\"d\",(function(e){var n=(0,Re.map)((0,Re.range)(O),(function(n){return[t[n].xmapScaled,t[n].features[e].posyBottom]}));return Y(n)})).attr(\"fill\",\"none\").attr(\"stroke-width\",1).attr(\"stroke\",(function(){return n.colors[0].brighter(1.2)})),Z.exit().remove();var X=this.mainGroup.selectAll(\".force-bar-array-divider-neg\").data(this.currUsedFeatures);X.enter().append(\"path\").attr(\"class\",\"force-bar-array-divider-neg\").merge(X).attr(\"d\",(function(e){var n=(0,Re.map)((0,Re.range)(O),(function(n){return[t[n].xmapScaled,t[n].features[e].negyTop]}));return Y(n)})).attr(\"fill\",\"none\").attr(\"stroke-width\",1).attr(\"stroke\",(function(){return n.colors[1].brighter(1.5)})),X.exit().remove();for(var J=function(e,t,n,r,a){var i,o,u,l;\"pos\"===a?(i=e[n].features[t].posyBottom,o=e[n].features[t].posyTop):(i=e[n].features[t].negyBottom,o=e[n].features[t].negyTop);for(var s=n+1;s<=r;++s)\"pos\"===a?(u=e[s].features[t].posyBottom,l=e[s].features[t].posyTop):(u=e[s].features[t].negyBottom,l=e[s].features[t].negyTop),u>i&&(i=u),l<o&&(o=l);return{top:i,bottom:o}},ee=[],te=0,ne=[\"pos\",\"neg\"];te<ne.length;te++){var re,ae=ne[te],ie=Ga(this.currUsedFeatures);try{for(ie.s();!(re=ie.n()).done;)for(var oe=re.value,ue=0,le=0,se=0,ce={top:0,bottom:0},fe=void 0;le<O-1;){for(;se<100&&le<O-1;)++le,se=t[le].xmapScaled-t[ue].xmapScaled;for(ce=J(t,oe,ue,le,ae);ce.bottom-ce.top<20&&ue<le;)++ue,ce=J(t,oe,ue,le,ae);if(se=t[le].xmapScaled-t[ue].xmapScaled,ce.bottom-ce.top>=20&&se>=100){for(;le<O-1;){if(++le,!((fe=J(t,oe,ue,le,ae)).bottom-fe.top>20)){--le;break}ce=fe}se=t[le].xmapScaled-t[ue].xmapScaled,ee.push([(t[le].xmapScaled+t[ue].xmapScaled)/2,(ce.top+ce.bottom)/2,this.props.featureNames[oe]]);var pe=t[le].xmapScaled;for(ue=le;pe+100>t[ue].xmapScaled&&ue<O-1;)++ue;le=ue}}}catch(e){ie.e(e)}finally{ie.f()}}var de=this.onTopGroup.selectAll(\".force-bar-array-flabels\").data(ee);de.enter().append(\"text\").attr(\"class\",\"force-bar-array-flabels\").merge(de).attr(\"x\",(function(e){return e[0]})).attr(\"y\",(function(e){return e[1]+4})).text((function(e){return e[2]})),de.exit().remove()}},{key:\"componentWillUnmount\",value:function(){window.removeEventListener(\"resize\",this.redraw)}},{key:\"render\",value:function(){var t=this;return e.createElement(\"div\",{ref:function(e){return t.wrapper=Jt(e)},style:{textAlign:\"center\"}},e.createElement(\"style\",{dangerouslySetInnerHTML:{__html:\"\\n          .force-bar-array-wrapper {\\n            text-align: center;\\n          }\\n          .force-bar-array-xaxis path {\\n            fill: none;\\n            opacity: 0.4;\\n          }\\n          .force-bar-array-xaxis .domain {\\n            opacity: 0;\\n          }\\n          .force-bar-array-xaxis paths {\\n            display: none;\\n          }\\n          .force-bar-array-yaxis path {\\n            fill: none;\\n            opacity: 0.4;\\n          }\\n          .force-bar-array-yaxis paths {\\n            display: none;\\n          }\\n          .tick line {\\n            stroke: #000;\\n            stroke-width: 1px;\\n            opacity: 0.4;\\n          }\\n          .tick text {\\n            fill: #000;\\n            opacity: 0.5;\\n            font-size: 12px;\\n            padding: 0px;\\n          }\\n          .force-bar-array-flabels {\\n            font-size: 12px;\\n            fill: #fff;\\n            text-anchor: middle;\\n          }\\n          .additive-force-array-xlabel {\\n            background: none;\\n            border: 1px solid #ccc;\\n            opacity: 0.5;\\n            margin-bottom: 0px;\\n            font-size: 12px;\\n            font-family: arial;\\n            margin-left: 80px;\\n            max-width: 300px;\\n          }\\n          .additive-force-array-xlabel:focus {\\n            outline: none;\\n          }\\n          .additive-force-array-ylabel {\\n            position: relative;\\n            top: 0px;\\n            left: 0px;\\n            transform: rotate(-90deg);\\n            background: none;\\n            border: 1px solid #ccc;\\n            opacity: 0.5;\\n            margin-bottom: 0px;\\n            font-size: 12px;\\n            font-family: arial;\\n            max-width: 150px;\\n          }\\n          .additive-force-array-ylabel:focus {\\n            outline: none;\\n          }\\n          .additive-force-array-hoverLine {\\n            stroke-width: 1px;\\n            stroke: #fff;\\n            opacity: 1;\\n          }\"}}),e.createElement(\"select\",{className:\"additive-force-array-xlabel\"}),e.createElement(\"div\",{style:{height:\"0px\",textAlign:\"left\"}},e.createElement(\"select\",{className:\"additive-force-array-ylabel\"})),e.createElement(\"svg\",{ref:function(e){return t.svg=Jt(e)},style:{userSelect:\"none\",display:\"block\",fontFamily:\"arial\",sansSerif:!0}}))}}])&&Xa(n.prototype,r),Object.defineProperty(n,\"prototype\",{writable:!1}),u}(e.Component);ni.defaultProps={plot_cmap:\"RdBu\",ordering_keys:null,ordering_keys_time_format:null};const ri=ni;window.SHAP={SimpleListVisualizer:He,AdditiveForceVisualizer:Ln,AdditiveForceArrayVisualizer:ri,React:e,ReactDom:t}})()})();\n",
       "</script>"
      ],
      "text/plain": [
       "<IPython.core.display.HTML object>"
      ]
     },
     "metadata": {},
     "output_type": "display_data"
    },
    {
     "data": {
      "image/png": "[encoded data removed]",
      "text/plain": [
       "<Figure size 800x550 with 2 Axes>"
      ]
     },
     "metadata": {},
     "output_type": "display_data"
    }
   ],
   "source": [
    "import xgboost\n",
    "import shap\n",
    "\n",
    "XG_train = df_train.drop([\"taxon_id\", \"media_id\"], axis=1)\n",
    "yG_train = df_train[\"taxon_id\"]\n",
    "\n",
    "# train an XGBoost model\n",
    "model2 = xgboost.XGBRegressor().fit(XG_train, yG_train)\n",
    "\n",
    "# explain the model's predictions using SHAP\n",
    "explainer = shap.Explainer(model2)\n",
    "shap_values = explainer(XG_train)\n",
    "\n",
    "shap.plots.initjs()\n",
    "shap.plots.beeswarm(shap_values)"
   ]
  },
  {
   "cell_type": "markdown",
   "metadata": {},
   "source": [
    "# Media Clusters\n",
    "\n",
    "Optimization functions ran in a separate notebook, dimensionality reduction and clustering parameters yielded a maximum Silhouette Score"
   ]
  },
  {
   "cell_type": "code",
   "execution_count": 17,
   "metadata": {},
   "outputs": [
    {
     "data": {
      "text/html": [
       "<div>\n",
       "<style scoped>\n",
       "    .dataframe tbody tr th:only-of-type {\n",
       "        vertical-align: middle;\n",
       "    }\n",
       "\n",
       "    .dataframe tbody tr th {\n",
       "        vertical-align: top;\n",
       "    }\n",
       "\n",
       "    .dataframe thead th {\n",
       "        text-align: right;\n",
       "    }\n",
       "</style>\n",
       "<table border=\"1\" class=\"dataframe\">\n",
       "  <thead>\n",
       "    <tr style=\"text-align: right;\">\n",
       "      <th></th>\n",
       "      <th>media_id</th>\n",
       "      <th>1.0</th>\n",
       "      <th>2.0</th>\n",
       "      <th>3.0</th>\n",
       "      <th>4.0</th>\n",
       "      <th>5.0</th>\n",
       "      <th>6.0</th>\n",
       "      <th>7.0</th>\n",
       "      <th>8.0</th>\n",
       "      <th>9.0</th>\n",
       "      <th>...</th>\n",
       "      <th>2375.0</th>\n",
       "      <th>2378.0</th>\n",
       "      <th>2384.0</th>\n",
       "      <th>2388.0</th>\n",
       "      <th>2389.0</th>\n",
       "      <th>2391.0</th>\n",
       "      <th>2394.0</th>\n",
       "      <th>2397.0</th>\n",
       "      <th>2398.0</th>\n",
       "      <th>media_id_float</th>\n",
       "    </tr>\n",
       "  </thead>\n",
       "  <tbody>\n",
       "    <tr>\n",
       "      <th>0</th>\n",
       "      <td>1</td>\n",
       "      <td>5.0</td>\n",
       "      <td>3.0</td>\n",
       "      <td>15.0</td>\n",
       "      <td>0.0</td>\n",
       "      <td>0.0</td>\n",
       "      <td>0.0</td>\n",
       "      <td>0.000000</td>\n",
       "      <td>0.00000</td>\n",
       "      <td>0.000</td>\n",
       "      <td>...</td>\n",
       "      <td>0.0</td>\n",
       "      <td>0.0</td>\n",
       "      <td>0.0</td>\n",
       "      <td>0.0</td>\n",
       "      <td>0.0</td>\n",
       "      <td>0.0</td>\n",
       "      <td>0.0</td>\n",
       "      <td>0.0</td>\n",
       "      <td>0.0</td>\n",
       "      <td>0.0</td>\n",
       "    </tr>\n",
       "    <tr>\n",
       "      <th>1</th>\n",
       "      <td>10</td>\n",
       "      <td>0.0</td>\n",
       "      <td>0.0</td>\n",
       "      <td>15.0</td>\n",
       "      <td>0.0</td>\n",
       "      <td>20.0</td>\n",
       "      <td>0.0</td>\n",
       "      <td>0.000000</td>\n",
       "      <td>0.00000</td>\n",
       "      <td>0.000</td>\n",
       "      <td>...</td>\n",
       "      <td>0.0</td>\n",
       "      <td>0.0</td>\n",
       "      <td>0.0</td>\n",
       "      <td>0.0</td>\n",
       "      <td>0.0</td>\n",
       "      <td>0.0</td>\n",
       "      <td>0.0</td>\n",
       "      <td>0.0</td>\n",
       "      <td>0.0</td>\n",
       "      <td>1.0</td>\n",
       "    </tr>\n",
       "    <tr>\n",
       "      <th>2</th>\n",
       "      <td>1000</td>\n",
       "      <td>0.0</td>\n",
       "      <td>0.0</td>\n",
       "      <td>0.0</td>\n",
       "      <td>0.0</td>\n",
       "      <td>0.0</td>\n",
       "      <td>0.0</td>\n",
       "      <td>0.014000</td>\n",
       "      <td>0.34000</td>\n",
       "      <td>0.010</td>\n",
       "      <td>...</td>\n",
       "      <td>0.0</td>\n",
       "      <td>0.0</td>\n",
       "      <td>0.0</td>\n",
       "      <td>0.0</td>\n",
       "      <td>0.0</td>\n",
       "      <td>0.0</td>\n",
       "      <td>0.0</td>\n",
       "      <td>0.0</td>\n",
       "      <td>0.0</td>\n",
       "      <td>2.0</td>\n",
       "    </tr>\n",
       "    <tr>\n",
       "      <th>3</th>\n",
       "      <td>1001</td>\n",
       "      <td>0.0</td>\n",
       "      <td>0.0</td>\n",
       "      <td>0.0</td>\n",
       "      <td>0.0</td>\n",
       "      <td>0.0</td>\n",
       "      <td>0.0</td>\n",
       "      <td>0.100000</td>\n",
       "      <td>0.00000</td>\n",
       "      <td>0.000</td>\n",
       "      <td>...</td>\n",
       "      <td>0.0</td>\n",
       "      <td>0.0</td>\n",
       "      <td>0.0</td>\n",
       "      <td>0.0</td>\n",
       "      <td>0.0</td>\n",
       "      <td>0.0</td>\n",
       "      <td>0.0</td>\n",
       "      <td>0.0</td>\n",
       "      <td>0.0</td>\n",
       "      <td>3.0</td>\n",
       "    </tr>\n",
       "    <tr>\n",
       "      <th>4</th>\n",
       "      <td>1002</td>\n",
       "      <td>0.0</td>\n",
       "      <td>0.0</td>\n",
       "      <td>0.0</td>\n",
       "      <td>0.0</td>\n",
       "      <td>0.0</td>\n",
       "      <td>0.0</td>\n",
       "      <td>0.000000</td>\n",
       "      <td>0.00000</td>\n",
       "      <td>0.030</td>\n",
       "      <td>...</td>\n",
       "      <td>0.0</td>\n",
       "      <td>0.0</td>\n",
       "      <td>0.0</td>\n",
       "      <td>0.0</td>\n",
       "      <td>0.0</td>\n",
       "      <td>0.0</td>\n",
       "      <td>0.0</td>\n",
       "      <td>0.0</td>\n",
       "      <td>0.0</td>\n",
       "      <td>4.0</td>\n",
       "    </tr>\n",
       "    <tr>\n",
       "      <th>...</th>\n",
       "      <td>...</td>\n",
       "      <td>...</td>\n",
       "      <td>...</td>\n",
       "      <td>...</td>\n",
       "      <td>...</td>\n",
       "      <td>...</td>\n",
       "      <td>...</td>\n",
       "      <td>...</td>\n",
       "      <td>...</td>\n",
       "      <td>...</td>\n",
       "      <td>...</td>\n",
       "      <td>...</td>\n",
       "      <td>...</td>\n",
       "      <td>...</td>\n",
       "      <td>...</td>\n",
       "      <td>...</td>\n",
       "      <td>...</td>\n",
       "      <td>...</td>\n",
       "      <td>...</td>\n",
       "      <td>...</td>\n",
       "      <td>...</td>\n",
       "    </tr>\n",
       "    <tr>\n",
       "      <th>3129</th>\n",
       "      <td>J994</td>\n",
       "      <td>0.0</td>\n",
       "      <td>0.0</td>\n",
       "      <td>0.0</td>\n",
       "      <td>0.0</td>\n",
       "      <td>0.0</td>\n",
       "      <td>0.0</td>\n",
       "      <td>0.491389</td>\n",
       "      <td>8.87084</td>\n",
       "      <td>0.010</td>\n",
       "      <td>...</td>\n",
       "      <td>0.0</td>\n",
       "      <td>0.0</td>\n",
       "      <td>0.0</td>\n",
       "      <td>0.0</td>\n",
       "      <td>0.0</td>\n",
       "      <td>0.0</td>\n",
       "      <td>0.0</td>\n",
       "      <td>0.0</td>\n",
       "      <td>0.0</td>\n",
       "      <td>3129.0</td>\n",
       "    </tr>\n",
       "    <tr>\n",
       "      <th>3130</th>\n",
       "      <td>J995</td>\n",
       "      <td>0.0</td>\n",
       "      <td>0.0</td>\n",
       "      <td>0.0</td>\n",
       "      <td>0.0</td>\n",
       "      <td>0.0</td>\n",
       "      <td>0.0</td>\n",
       "      <td>3.335000</td>\n",
       "      <td>29.70000</td>\n",
       "      <td>0.000</td>\n",
       "      <td>...</td>\n",
       "      <td>0.0</td>\n",
       "      <td>0.0</td>\n",
       "      <td>0.0</td>\n",
       "      <td>0.0</td>\n",
       "      <td>0.0</td>\n",
       "      <td>0.0</td>\n",
       "      <td>0.0</td>\n",
       "      <td>0.0</td>\n",
       "      <td>0.0</td>\n",
       "      <td>3130.0</td>\n",
       "    </tr>\n",
       "    <tr>\n",
       "      <th>3131</th>\n",
       "      <td>J997</td>\n",
       "      <td>0.0</td>\n",
       "      <td>0.0</td>\n",
       "      <td>0.0</td>\n",
       "      <td>0.0</td>\n",
       "      <td>2.5</td>\n",
       "      <td>0.0</td>\n",
       "      <td>0.000000</td>\n",
       "      <td>0.00000</td>\n",
       "      <td>0.000</td>\n",
       "      <td>...</td>\n",
       "      <td>0.0</td>\n",
       "      <td>0.0</td>\n",
       "      <td>0.0</td>\n",
       "      <td>0.0</td>\n",
       "      <td>0.0</td>\n",
       "      <td>0.0</td>\n",
       "      <td>0.0</td>\n",
       "      <td>0.0</td>\n",
       "      <td>0.0</td>\n",
       "      <td>3131.0</td>\n",
       "    </tr>\n",
       "    <tr>\n",
       "      <th>3132</th>\n",
       "      <td>J998</td>\n",
       "      <td>0.0</td>\n",
       "      <td>0.0</td>\n",
       "      <td>0.0</td>\n",
       "      <td>0.0</td>\n",
       "      <td>0.0</td>\n",
       "      <td>0.0</td>\n",
       "      <td>0.106589</td>\n",
       "      <td>0.00000</td>\n",
       "      <td>0.036</td>\n",
       "      <td>...</td>\n",
       "      <td>0.0</td>\n",
       "      <td>0.0</td>\n",
       "      <td>0.0</td>\n",
       "      <td>0.0</td>\n",
       "      <td>0.0</td>\n",
       "      <td>0.0</td>\n",
       "      <td>0.0</td>\n",
       "      <td>0.0</td>\n",
       "      <td>0.0</td>\n",
       "      <td>3132.0</td>\n",
       "    </tr>\n",
       "    <tr>\n",
       "      <th>3133</th>\n",
       "      <td>J999</td>\n",
       "      <td>0.0</td>\n",
       "      <td>0.0</td>\n",
       "      <td>15.0</td>\n",
       "      <td>0.0</td>\n",
       "      <td>4.0</td>\n",
       "      <td>0.0</td>\n",
       "      <td>0.000000</td>\n",
       "      <td>0.00000</td>\n",
       "      <td>0.000</td>\n",
       "      <td>...</td>\n",
       "      <td>0.0</td>\n",
       "      <td>0.0</td>\n",
       "      <td>0.0</td>\n",
       "      <td>0.0</td>\n",
       "      <td>0.0</td>\n",
       "      <td>0.0</td>\n",
       "      <td>0.0</td>\n",
       "      <td>0.0</td>\n",
       "      <td>0.0</td>\n",
       "      <td>3133.0</td>\n",
       "    </tr>\n",
       "  </tbody>\n",
       "</table>\n",
       "<p>3134 rows × 1208 columns</p>\n",
       "</div>"
      ],
      "text/plain": [
       "     media_id  1.0  2.0   3.0  4.0   5.0  6.0       7.0       8.0    9.0  ...  \\\n",
       "0           1  5.0  3.0  15.0  0.0   0.0  0.0  0.000000   0.00000  0.000  ...   \n",
       "1          10  0.0  0.0  15.0  0.0  20.0  0.0  0.000000   0.00000  0.000  ...   \n",
       "2        1000  0.0  0.0   0.0  0.0   0.0  0.0  0.014000   0.34000  0.010  ...   \n",
       "3        1001  0.0  0.0   0.0  0.0   0.0  0.0  0.100000   0.00000  0.000  ...   \n",
       "4        1002  0.0  0.0   0.0  0.0   0.0  0.0  0.000000   0.00000  0.030  ...   \n",
       "...       ...  ...  ...   ...  ...   ...  ...       ...       ...    ...  ...   \n",
       "3129     J994  0.0  0.0   0.0  0.0   0.0  0.0  0.491389   8.87084  0.010  ...   \n",
       "3130     J995  0.0  0.0   0.0  0.0   0.0  0.0  3.335000  29.70000  0.000  ...   \n",
       "3131     J997  0.0  0.0   0.0  0.0   2.5  0.0  0.000000   0.00000  0.000  ...   \n",
       "3132     J998  0.0  0.0   0.0  0.0   0.0  0.0  0.106589   0.00000  0.036  ...   \n",
       "3133     J999  0.0  0.0  15.0  0.0   4.0  0.0  0.000000   0.00000  0.000  ...   \n",
       "\n",
       "      2375.0  2378.0  2384.0  2388.0  2389.0  2391.0  2394.0  2397.0  2398.0  \\\n",
       "0        0.0     0.0     0.0     0.0     0.0     0.0     0.0     0.0     0.0   \n",
       "1        0.0     0.0     0.0     0.0     0.0     0.0     0.0     0.0     0.0   \n",
       "2        0.0     0.0     0.0     0.0     0.0     0.0     0.0     0.0     0.0   \n",
       "3        0.0     0.0     0.0     0.0     0.0     0.0     0.0     0.0     0.0   \n",
       "4        0.0     0.0     0.0     0.0     0.0     0.0     0.0     0.0     0.0   \n",
       "...      ...     ...     ...     ...     ...     ...     ...     ...     ...   \n",
       "3129     0.0     0.0     0.0     0.0     0.0     0.0     0.0     0.0     0.0   \n",
       "3130     0.0     0.0     0.0     0.0     0.0     0.0     0.0     0.0     0.0   \n",
       "3131     0.0     0.0     0.0     0.0     0.0     0.0     0.0     0.0     0.0   \n",
       "3132     0.0     0.0     0.0     0.0     0.0     0.0     0.0     0.0     0.0   \n",
       "3133     0.0     0.0     0.0     0.0     0.0     0.0     0.0     0.0     0.0   \n",
       "\n",
       "      media_id_float  \n",
       "0                0.0  \n",
       "1                1.0  \n",
       "2                2.0  \n",
       "3                3.0  \n",
       "4                4.0  \n",
       "...              ...  \n",
       "3129          3129.0  \n",
       "3130          3130.0  \n",
       "3131          3131.0  \n",
       "3132          3132.0  \n",
       "3133          3133.0  \n",
       "\n",
       "[3134 rows x 1208 columns]"
      ]
     },
     "execution_count": 17,
     "metadata": {},
     "output_type": "execute_result"
    }
   ],
   "source": [
    "# Load dataframe\n",
    "media_df = pd.read_csv(os.path.join(DATA_DIR, \"mediadive\", \"all-media-concentrations.csv\"), low_memory=False)\n",
    "media_df = media_df.fillna(0.0)\n",
    "\n",
    "# Create a mapping from media_id to a float and apply to dataframe\n",
    "media_id_mapping = {media_id: float(i) for i, media_id in enumerate(media_df['media_id'].unique())}\n",
    "media_df['media_id_float'] = media_df['media_id'].map(media_id_mapping)\n",
    "\n",
    "media_df"
   ]
  },
  {
   "cell_type": "code",
   "execution_count": 18,
   "metadata": {},
   "outputs": [
    {
     "name": "stdout",
     "output_type": "stream",
     "text": [
      "Average Silhouette Score on KMeans clusters: 0.5923312306404114\n"
     ]
    },
    {
     "name": "stderr",
     "output_type": "stream",
     "text": [
      "c:\\Users\\jakel\\anaconda3\\envs\\media\\Lib\\site-packages\\sklearn\\cluster\\_kmeans.py:1426: UserWarning: KMeans is known to have a memory leak on Windows with MKL, when there are less chunks than available threads. You can avoid it by setting the environment variable OMP_NUM_THREADS=10.\n",
      "  warnings.warn(\n"
     ]
    }
   ],
   "source": [
    "TARGET_VAR = \"media_id_float\" # media_id string issues, try to replace as categorical data\n",
    "RANDOM_SEED = 47\n",
    "\n",
    "X_train, X_test, y_train, y_test = train_test_split(\n",
    "    media_df.drop([\"media_id\", \"media_id_float\"], axis=1),\n",
    "    media_df[TARGET_VAR],\n",
    "    test_size=0.2,\n",
    "    random_state=RANDOM_SEED\n",
    ")\n",
    "\n",
    "pipeline = Pipeline([\n",
    "    ('scaler', StandardScaler()), \n",
    "    ('pca', PCA(\n",
    "        n_components=500,\n",
    "        random_state= RANDOM_SEED\n",
    "        )),\n",
    "    ('umap', umap.UMAP(  \n",
    "        metric=\"euclidean\",\n",
    "        n_epochs=200,\n",
    "        random_state=RANDOM_SEED,\n",
    "        n_jobs=1,\n",
    "        n_neighbors=17,\n",
    "        n_components=32,\n",
    "        min_dist=0\n",
    "        ))\n",
    "])    \n",
    "\n",
    "reduced = pipeline.fit_transform(X_train)\n",
    "\n",
    "cluster = KMeans(\n",
    "    n_clusters=150,\n",
    "    random_state=RANDOM_SEED\n",
    ")\n",
    "\n",
    "media_clusters = cluster.fit_predict(reduced)\n",
    "\n",
    "silhouette_avg = silhouette_score(reduced, media_clusters)\n",
    "print(f\"Average Silhouette Score on KMeans clusters: {silhouette_avg}\")"
   ]
  },
  {
   "cell_type": "code",
   "execution_count": 19,
   "metadata": {},
   "outputs": [
    {
     "data": {
      "text/html": [
       "<div>\n",
       "<style scoped>\n",
       "    .dataframe tbody tr th:only-of-type {\n",
       "        vertical-align: middle;\n",
       "    }\n",
       "\n",
       "    .dataframe tbody tr th {\n",
       "        vertical-align: top;\n",
       "    }\n",
       "\n",
       "    .dataframe thead th {\n",
       "        text-align: right;\n",
       "    }\n",
       "</style>\n",
       "<table border=\"1\" class=\"dataframe\">\n",
       "  <thead>\n",
       "    <tr style=\"text-align: right;\">\n",
       "      <th></th>\n",
       "      <th>Component 1</th>\n",
       "      <th>Component 2</th>\n",
       "      <th>Component 3</th>\n",
       "      <th>Component 4</th>\n",
       "      <th>Component 5</th>\n",
       "      <th>Component 6</th>\n",
       "      <th>Component 7</th>\n",
       "      <th>Component 8</th>\n",
       "      <th>Component 9</th>\n",
       "      <th>Component 10</th>\n",
       "      <th>...</th>\n",
       "      <th>Component 25</th>\n",
       "      <th>Component 26</th>\n",
       "      <th>Component 27</th>\n",
       "      <th>Component 28</th>\n",
       "      <th>Component 29</th>\n",
       "      <th>Component 30</th>\n",
       "      <th>Component 31</th>\n",
       "      <th>Component 32</th>\n",
       "      <th>Cluster</th>\n",
       "      <th>media_id</th>\n",
       "    </tr>\n",
       "  </thead>\n",
       "  <tbody>\n",
       "    <tr>\n",
       "      <th>0</th>\n",
       "      <td>10.053907</td>\n",
       "      <td>10.010656</td>\n",
       "      <td>9.193267</td>\n",
       "      <td>9.462499</td>\n",
       "      <td>3.857955</td>\n",
       "      <td>0.527897</td>\n",
       "      <td>0.545088</td>\n",
       "      <td>6.729223</td>\n",
       "      <td>2.977548</td>\n",
       "      <td>5.654245</td>\n",
       "      <td>...</td>\n",
       "      <td>4.540018</td>\n",
       "      <td>4.378656</td>\n",
       "      <td>6.471502</td>\n",
       "      <td>9.440235</td>\n",
       "      <td>2.893445</td>\n",
       "      <td>4.425345</td>\n",
       "      <td>5.226927</td>\n",
       "      <td>5.257391</td>\n",
       "      <td>18</td>\n",
       "      <td>1</td>\n",
       "    </tr>\n",
       "    <tr>\n",
       "      <th>1</th>\n",
       "      <td>10.109063</td>\n",
       "      <td>9.982656</td>\n",
       "      <td>8.426338</td>\n",
       "      <td>9.143261</td>\n",
       "      <td>2.092108</td>\n",
       "      <td>7.198389</td>\n",
       "      <td>0.185177</td>\n",
       "      <td>6.889595</td>\n",
       "      <td>3.015546</td>\n",
       "      <td>6.320152</td>\n",
       "      <td>...</td>\n",
       "      <td>5.870660</td>\n",
       "      <td>3.424472</td>\n",
       "      <td>6.803440</td>\n",
       "      <td>7.981607</td>\n",
       "      <td>2.037811</td>\n",
       "      <td>4.862831</td>\n",
       "      <td>5.615507</td>\n",
       "      <td>5.343907</td>\n",
       "      <td>11</td>\n",
       "      <td>10</td>\n",
       "    </tr>\n",
       "    <tr>\n",
       "      <th>2</th>\n",
       "      <td>10.277112</td>\n",
       "      <td>9.939979</td>\n",
       "      <td>7.261536</td>\n",
       "      <td>9.539290</td>\n",
       "      <td>3.205921</td>\n",
       "      <td>0.467681</td>\n",
       "      <td>0.630211</td>\n",
       "      <td>6.349295</td>\n",
       "      <td>3.197858</td>\n",
       "      <td>6.681678</td>\n",
       "      <td>...</td>\n",
       "      <td>4.888445</td>\n",
       "      <td>3.732217</td>\n",
       "      <td>6.190923</td>\n",
       "      <td>9.137473</td>\n",
       "      <td>2.779417</td>\n",
       "      <td>4.752002</td>\n",
       "      <td>5.591406</td>\n",
       "      <td>4.819218</td>\n",
       "      <td>2</td>\n",
       "      <td>1000</td>\n",
       "    </tr>\n",
       "    <tr>\n",
       "      <th>3</th>\n",
       "      <td>10.069202</td>\n",
       "      <td>10.006467</td>\n",
       "      <td>8.418539</td>\n",
       "      <td>9.523984</td>\n",
       "      <td>3.575332</td>\n",
       "      <td>0.551351</td>\n",
       "      <td>0.553227</td>\n",
       "      <td>6.373415</td>\n",
       "      <td>2.881701</td>\n",
       "      <td>5.853769</td>\n",
       "      <td>...</td>\n",
       "      <td>4.627633</td>\n",
       "      <td>4.324935</td>\n",
       "      <td>6.377645</td>\n",
       "      <td>9.227425</td>\n",
       "      <td>2.731674</td>\n",
       "      <td>4.506932</td>\n",
       "      <td>5.381706</td>\n",
       "      <td>5.247311</td>\n",
       "      <td>135</td>\n",
       "      <td>1001</td>\n",
       "    </tr>\n",
       "    <tr>\n",
       "      <th>4</th>\n",
       "      <td>10.017347</td>\n",
       "      <td>10.007057</td>\n",
       "      <td>5.211420</td>\n",
       "      <td>9.506295</td>\n",
       "      <td>1.915713</td>\n",
       "      <td>0.479723</td>\n",
       "      <td>0.541465</td>\n",
       "      <td>8.607486</td>\n",
       "      <td>1.724260</td>\n",
       "      <td>6.126088</td>\n",
       "      <td>...</td>\n",
       "      <td>5.343388</td>\n",
       "      <td>3.674312</td>\n",
       "      <td>6.198499</td>\n",
       "      <td>8.012461</td>\n",
       "      <td>2.155109</td>\n",
       "      <td>4.437809</td>\n",
       "      <td>5.380932</td>\n",
       "      <td>4.971827</td>\n",
       "      <td>134</td>\n",
       "      <td>1002</td>\n",
       "    </tr>\n",
       "    <tr>\n",
       "      <th>...</th>\n",
       "      <td>...</td>\n",
       "      <td>...</td>\n",
       "      <td>...</td>\n",
       "      <td>...</td>\n",
       "      <td>...</td>\n",
       "      <td>...</td>\n",
       "      <td>...</td>\n",
       "      <td>...</td>\n",
       "      <td>...</td>\n",
       "      <td>...</td>\n",
       "      <td>...</td>\n",
       "      <td>...</td>\n",
       "      <td>...</td>\n",
       "      <td>...</td>\n",
       "      <td>...</td>\n",
       "      <td>...</td>\n",
       "      <td>...</td>\n",
       "      <td>...</td>\n",
       "      <td>...</td>\n",
       "      <td>...</td>\n",
       "      <td>...</td>\n",
       "    </tr>\n",
       "    <tr>\n",
       "      <th>2502</th>\n",
       "      <td>9.970033</td>\n",
       "      <td>9.883582</td>\n",
       "      <td>7.491271</td>\n",
       "      <td>9.548324</td>\n",
       "      <td>2.878606</td>\n",
       "      <td>1.078160</td>\n",
       "      <td>0.547099</td>\n",
       "      <td>7.455010</td>\n",
       "      <td>2.146746</td>\n",
       "      <td>6.025354</td>\n",
       "      <td>...</td>\n",
       "      <td>4.969067</td>\n",
       "      <td>3.845800</td>\n",
       "      <td>6.589450</td>\n",
       "      <td>8.355056</td>\n",
       "      <td>2.204330</td>\n",
       "      <td>4.510939</td>\n",
       "      <td>5.414898</td>\n",
       "      <td>5.607795</td>\n",
       "      <td>96</td>\n",
       "      <td>J31</td>\n",
       "    </tr>\n",
       "    <tr>\n",
       "      <th>2503</th>\n",
       "      <td>9.966486</td>\n",
       "      <td>9.963550</td>\n",
       "      <td>7.294196</td>\n",
       "      <td>9.565073</td>\n",
       "      <td>2.860426</td>\n",
       "      <td>0.835201</td>\n",
       "      <td>0.528173</td>\n",
       "      <td>7.513575</td>\n",
       "      <td>2.156068</td>\n",
       "      <td>6.066960</td>\n",
       "      <td>...</td>\n",
       "      <td>5.083433</td>\n",
       "      <td>3.879512</td>\n",
       "      <td>6.448852</td>\n",
       "      <td>8.185843</td>\n",
       "      <td>2.173586</td>\n",
       "      <td>4.508656</td>\n",
       "      <td>5.465313</td>\n",
       "      <td>5.496915</td>\n",
       "      <td>54</td>\n",
       "      <td>J310</td>\n",
       "    </tr>\n",
       "    <tr>\n",
       "      <th>2504</th>\n",
       "      <td>10.008796</td>\n",
       "      <td>10.024622</td>\n",
       "      <td>10.736990</td>\n",
       "      <td>9.674210</td>\n",
       "      <td>4.592587</td>\n",
       "      <td>0.669106</td>\n",
       "      <td>0.523507</td>\n",
       "      <td>5.608054</td>\n",
       "      <td>2.380599</td>\n",
       "      <td>5.249613</td>\n",
       "      <td>...</td>\n",
       "      <td>4.507454</td>\n",
       "      <td>4.913460</td>\n",
       "      <td>6.666028</td>\n",
       "      <td>9.254148</td>\n",
       "      <td>2.696900</td>\n",
       "      <td>4.530428</td>\n",
       "      <td>5.454240</td>\n",
       "      <td>6.083841</td>\n",
       "      <td>56</td>\n",
       "      <td>J314</td>\n",
       "    </tr>\n",
       "    <tr>\n",
       "      <th>2505</th>\n",
       "      <td>10.019613</td>\n",
       "      <td>10.022222</td>\n",
       "      <td>10.586268</td>\n",
       "      <td>9.638692</td>\n",
       "      <td>4.471741</td>\n",
       "      <td>0.760652</td>\n",
       "      <td>0.534560</td>\n",
       "      <td>5.836763</td>\n",
       "      <td>2.435895</td>\n",
       "      <td>5.509396</td>\n",
       "      <td>...</td>\n",
       "      <td>4.611440</td>\n",
       "      <td>4.870255</td>\n",
       "      <td>6.556119</td>\n",
       "      <td>9.420478</td>\n",
       "      <td>2.784682</td>\n",
       "      <td>4.533351</td>\n",
       "      <td>5.423505</td>\n",
       "      <td>6.107262</td>\n",
       "      <td>103</td>\n",
       "      <td>J315</td>\n",
       "    </tr>\n",
       "    <tr>\n",
       "      <th>2506</th>\n",
       "      <td>10.031417</td>\n",
       "      <td>9.783654</td>\n",
       "      <td>4.276695</td>\n",
       "      <td>9.477969</td>\n",
       "      <td>1.949675</td>\n",
       "      <td>0.774446</td>\n",
       "      <td>0.658808</td>\n",
       "      <td>9.055183</td>\n",
       "      <td>1.930403</td>\n",
       "      <td>5.968193</td>\n",
       "      <td>...</td>\n",
       "      <td>5.524992</td>\n",
       "      <td>3.533077</td>\n",
       "      <td>6.298451</td>\n",
       "      <td>7.573741</td>\n",
       "      <td>1.802942</td>\n",
       "      <td>4.372298</td>\n",
       "      <td>5.308642</td>\n",
       "      <td>5.029858</td>\n",
       "      <td>5</td>\n",
       "      <td>J316</td>\n",
       "    </tr>\n",
       "  </tbody>\n",
       "</table>\n",
       "<p>2507 rows × 34 columns</p>\n",
       "</div>"
      ],
      "text/plain": [
       "      Component 1  Component 2  Component 3  Component 4  Component 5  \\\n",
       "0       10.053907    10.010656     9.193267     9.462499     3.857955   \n",
       "1       10.109063     9.982656     8.426338     9.143261     2.092108   \n",
       "2       10.277112     9.939979     7.261536     9.539290     3.205921   \n",
       "3       10.069202    10.006467     8.418539     9.523984     3.575332   \n",
       "4       10.017347    10.007057     5.211420     9.506295     1.915713   \n",
       "...           ...          ...          ...          ...          ...   \n",
       "2502     9.970033     9.883582     7.491271     9.548324     2.878606   \n",
       "2503     9.966486     9.963550     7.294196     9.565073     2.860426   \n",
       "2504    10.008796    10.024622    10.736990     9.674210     4.592587   \n",
       "2505    10.019613    10.022222    10.586268     9.638692     4.471741   \n",
       "2506    10.031417     9.783654     4.276695     9.477969     1.949675   \n",
       "\n",
       "      Component 6  Component 7  Component 8  Component 9  Component 10  ...  \\\n",
       "0        0.527897     0.545088     6.729223     2.977548      5.654245  ...   \n",
       "1        7.198389     0.185177     6.889595     3.015546      6.320152  ...   \n",
       "2        0.467681     0.630211     6.349295     3.197858      6.681678  ...   \n",
       "3        0.551351     0.553227     6.373415     2.881701      5.853769  ...   \n",
       "4        0.479723     0.541465     8.607486     1.724260      6.126088  ...   \n",
       "...           ...          ...          ...          ...           ...  ...   \n",
       "2502     1.078160     0.547099     7.455010     2.146746      6.025354  ...   \n",
       "2503     0.835201     0.528173     7.513575     2.156068      6.066960  ...   \n",
       "2504     0.669106     0.523507     5.608054     2.380599      5.249613  ...   \n",
       "2505     0.760652     0.534560     5.836763     2.435895      5.509396  ...   \n",
       "2506     0.774446     0.658808     9.055183     1.930403      5.968193  ...   \n",
       "\n",
       "      Component 25  Component 26  Component 27  Component 28  Component 29  \\\n",
       "0         4.540018      4.378656      6.471502      9.440235      2.893445   \n",
       "1         5.870660      3.424472      6.803440      7.981607      2.037811   \n",
       "2         4.888445      3.732217      6.190923      9.137473      2.779417   \n",
       "3         4.627633      4.324935      6.377645      9.227425      2.731674   \n",
       "4         5.343388      3.674312      6.198499      8.012461      2.155109   \n",
       "...            ...           ...           ...           ...           ...   \n",
       "2502      4.969067      3.845800      6.589450      8.355056      2.204330   \n",
       "2503      5.083433      3.879512      6.448852      8.185843      2.173586   \n",
       "2504      4.507454      4.913460      6.666028      9.254148      2.696900   \n",
       "2505      4.611440      4.870255      6.556119      9.420478      2.784682   \n",
       "2506      5.524992      3.533077      6.298451      7.573741      1.802942   \n",
       "\n",
       "      Component 30  Component 31  Component 32  Cluster  media_id  \n",
       "0         4.425345      5.226927      5.257391       18         1  \n",
       "1         4.862831      5.615507      5.343907       11        10  \n",
       "2         4.752002      5.591406      4.819218        2      1000  \n",
       "3         4.506932      5.381706      5.247311      135      1001  \n",
       "4         4.437809      5.380932      4.971827      134      1002  \n",
       "...            ...           ...           ...      ...       ...  \n",
       "2502      4.510939      5.414898      5.607795       96       J31  \n",
       "2503      4.508656      5.465313      5.496915       54      J310  \n",
       "2504      4.530428      5.454240      6.083841       56      J314  \n",
       "2505      4.533351      5.423505      6.107262      103      J315  \n",
       "2506      4.372298      5.308642      5.029858        5      J316  \n",
       "\n",
       "[2507 rows x 34 columns]"
      ]
     },
     "execution_count": 19,
     "metadata": {},
     "output_type": "execute_result"
    }
   ],
   "source": [
    "reduced_df = pd.DataFrame(reduced, columns=[f\"Component {fi+1}\" for fi in range(reduced.shape[1])])\n",
    "reduced_df[\"Cluster\"] = media_clusters\n",
    "\n",
    "# Create a reverse mapping from float back to media_id, remap to original values\n",
    "reverse_media_id_mapping = {v: k for k, v in media_id_mapping.items()}\n",
    "reduced_df['media_id'] = media_df['media_id_float'].map(reverse_media_id_mapping)\n",
    "\n",
    "reduced_df.to_csv(os.path.join(DATA_DIR, \"model\", \"media-clusters.csv\"), index=False)\n",
    "reduced_df"
   ]
  },
  {
   "cell_type": "code",
   "execution_count": 20,
   "metadata": {},
   "outputs": [
    {
     "data": {
      "application/vnd.plotly.v1+json": {
       "config": {
        "plotlyServerURL": "https://plot.ly"
       },
       "data": [
        {
         "customdata": [
          [
           "1"
          ],
          [
           "10"
          ],
          [
           "1000"
          ],
          [
           "1001"
          ],
          [
           "1002"
          ],
          [
           "1003"
          ],
          [
           "1004"
          ],
          [
           "1005"
          ],
          [
           "1006"
          ],
          [
           "1007"
          ],
          [
           "1008"
          ],
          [
           "1009"
          ],
          [
           "101"
          ],
          [
           "1010"
          ],
          [
           "1011"
          ],
          [
           "1011a"
          ],
          [
           "1011b"
          ],
          [
           "1011c"
          ],
          [
           "1011d"
          ],
          [
           "1012"
          ],
          [
           "1012a"
          ],
          [
           "1012b"
          ],
          [
           "1013"
          ],
          [
           "1014"
          ],
          [
           "1015"
          ],
          [
           "1016"
          ],
          [
           "1017"
          ],
          [
           "1018"
          ],
          [
           "1019"
          ],
          [
           "102"
          ],
          [
           "1020"
          ],
          [
           "1021"
          ],
          [
           "1022"
          ],
          [
           "1023"
          ],
          [
           "1024"
          ],
          [
           "1025"
          ],
          [
           "1026"
          ],
          [
           "1027"
          ],
          [
           "1028"
          ],
          [
           "1029"
          ],
          [
           "1030"
          ],
          [
           "1031"
          ],
          [
           "1031a"
          ],
          [
           "1032"
          ],
          [
           "1033"
          ],
          [
           "1034"
          ],
          [
           "1035"
          ],
          [
           "1036"
          ],
          [
           "1037"
          ],
          [
           "1038"
          ],
          [
           "1039"
          ],
          [
           "104"
          ],
          [
           "1040"
          ],
          [
           "1041"
          ],
          [
           "1042"
          ],
          [
           "1043"
          ],
          [
           "1044"
          ],
          [
           "1045"
          ],
          [
           "1046"
          ],
          [
           "1047"
          ],
          [
           "1048"
          ],
          [
           "1049"
          ],
          [
           "104a"
          ],
          [
           "104b"
          ],
          [
           "104c"
          ],
          [
           "104d"
          ],
          [
           "105"
          ],
          [
           "1050"
          ],
          [
           "1051"
          ],
          [
           "1052"
          ],
          [
           "1053"
          ],
          [
           "1053a"
          ],
          [
           "1054"
          ],
          [
           "1055"
          ],
          [
           "1056"
          ],
          [
           "1057"
          ],
          [
           "1058"
          ],
          [
           "1058a"
          ],
          [
           "1058b"
          ],
          [
           "1058c"
          ],
          [
           "1058d"
          ],
          [
           "1058e"
          ],
          [
           "1059"
          ],
          [
           "1060"
          ],
          [
           "1061"
          ],
          [
           "1062"
          ],
          [
           "1063"
          ],
          [
           "1064"
          ],
          [
           "1065"
          ],
          [
           "1066"
          ],
          [
           "1068"
          ],
          [
           "1069"
          ],
          [
           "1070"
          ],
          [
           "1071"
          ],
          [
           "1072"
          ],
          [
           "1073"
          ],
          [
           "1074"
          ],
          [
           "1075"
          ],
          [
           "1076"
          ],
          [
           "1076a"
          ],
          [
           "1076b"
          ],
          [
           "1077"
          ],
          [
           "1078"
          ],
          [
           "1079"
          ],
          [
           "108"
          ],
          [
           "1080"
          ],
          [
           "1081"
          ],
          [
           "1081a"
          ],
          [
           "1082"
          ],
          [
           "1083"
          ],
          [
           "1084"
          ],
          [
           "1085"
          ],
          [
           "1086"
          ],
          [
           "1087"
          ],
          [
           "109"
          ],
          [
           "1090"
          ],
          [
           "1091"
          ],
          [
           "1092"
          ],
          [
           "1094"
          ],
          [
           "1095"
          ],
          [
           "1096"
          ],
          [
           "1097"
          ],
          [
           "1098"
          ],
          [
           "1099"
          ],
          [
           "11"
          ],
          [
           "110"
          ],
          [
           "1100"
          ],
          [
           "1101"
          ],
          [
           "1101a"
          ],
          [
           "1102"
          ],
          [
           "1104"
          ],
          [
           "1105"
          ],
          [
           "1106"
          ],
          [
           "1107"
          ],
          [
           "1108"
          ],
          [
           "1108a"
          ],
          [
           "1109"
          ],
          [
           "110a"
          ],
          [
           "111"
          ],
          [
           "1110"
          ],
          [
           "1111"
          ],
          [
           "1112"
          ],
          [
           "1113"
          ],
          [
           "1114"
          ],
          [
           "1115"
          ],
          [
           "1116"
          ],
          [
           "1117"
          ],
          [
           "1118"
          ],
          [
           "1119"
          ],
          [
           "1120"
          ],
          [
           "1121"
          ],
          [
           "1122"
          ],
          [
           "1122a"
          ],
          [
           "1123"
          ],
          [
           "1124"
          ],
          [
           "1125"
          ],
          [
           "1126"
          ],
          [
           "1127"
          ],
          [
           "1128"
          ],
          [
           "1129"
          ],
          [
           "113"
          ],
          [
           "1130"
          ],
          [
           "1131"
          ],
          [
           "1132"
          ],
          [
           "1133"
          ],
          [
           "1134"
          ],
          [
           "1135"
          ],
          [
           "1136"
          ],
          [
           "1137"
          ],
          [
           "1138"
          ],
          [
           "1139"
          ],
          [
           "113a"
          ],
          [
           "114"
          ],
          [
           "1140"
          ],
          [
           "1141"
          ],
          [
           "1142"
          ],
          [
           "1143"
          ],
          [
           "1144"
          ],
          [
           "1145"
          ],
          [
           "1146"
          ],
          [
           "1147"
          ],
          [
           "1148"
          ],
          [
           "1149"
          ],
          [
           "115"
          ],
          [
           "1150"
          ],
          [
           "1151"
          ],
          [
           "1152"
          ],
          [
           "1153"
          ],
          [
           "1154"
          ],
          [
           "1155"
          ],
          [
           "1156"
          ],
          [
           "1157"
          ],
          [
           "1158"
          ],
          [
           "1159"
          ],
          [
           "115a"
          ],
          [
           "1160"
          ],
          [
           "1161"
          ],
          [
           "1162"
          ],
          [
           "1163"
          ],
          [
           "1163a"
          ],
          [
           "1164"
          ],
          [
           "1165"
          ],
          [
           "1166"
          ],
          [
           "1166a"
          ],
          [
           "1167"
          ],
          [
           "1168"
          ],
          [
           "1169"
          ],
          [
           "1170"
          ],
          [
           "1171"
          ],
          [
           "1172"
          ],
          [
           "1173"
          ],
          [
           "1174"
          ],
          [
           "1175"
          ],
          [
           "1176"
          ],
          [
           "1177"
          ],
          [
           "1178"
          ],
          [
           "1179"
          ],
          [
           "118"
          ],
          [
           "1180"
          ],
          [
           "1181"
          ],
          [
           "1182"
          ],
          [
           "1183"
          ],
          [
           "1184"
          ],
          [
           "1185"
          ],
          [
           "1186"
          ],
          [
           "1187"
          ],
          [
           "1188"
          ],
          [
           "1188b"
          ],
          [
           "1189"
          ],
          [
           "119"
          ],
          [
           "1190"
          ],
          [
           "1191"
          ],
          [
           "1192"
          ],
          [
           "1193"
          ],
          [
           "1194"
          ],
          [
           "1195"
          ],
          [
           "1196"
          ],
          [
           "1197"
          ],
          [
           "1198"
          ],
          [
           "1199"
          ],
          [
           "119a"
          ],
          [
           "119b"
          ],
          [
           "119c"
          ],
          [
           "11a"
          ],
          [
           "11b"
          ],
          [
           "12"
          ],
          [
           "120"
          ],
          [
           "1200"
          ],
          [
           "1201"
          ],
          [
           "1202"
          ],
          [
           "1203"
          ],
          [
           "1203a"
          ],
          [
           "1204"
          ],
          [
           "1205"
          ],
          [
           "1206"
          ],
          [
           "1207"
          ],
          [
           "1208"
          ],
          [
           "1209"
          ],
          [
           "120a"
          ],
          [
           "120b"
          ],
          [
           "120c"
          ],
          [
           "120d"
          ],
          [
           "121"
          ],
          [
           "1210"
          ],
          [
           "1210a"
          ],
          [
           "1210b"
          ],
          [
           "1210c"
          ],
          [
           "1211"
          ],
          [
           "1212"
          ],
          [
           "1213"
          ],
          [
           "1214"
          ],
          [
           "1215"
          ],
          [
           "1216"
          ],
          [
           "1217"
          ],
          [
           "1218"
          ],
          [
           "1219"
          ],
          [
           "122"
          ],
          [
           "1220"
          ],
          [
           "1221"
          ],
          [
           "1222"
          ],
          [
           "1223"
          ],
          [
           "1224"
          ],
          [
           "1225"
          ],
          [
           "1226"
          ],
          [
           "1227"
          ],
          [
           "1228"
          ],
          [
           "1229"
          ],
          [
           "123"
          ],
          [
           "1230"
          ],
          [
           "1231"
          ],
          [
           "1232"
          ],
          [
           "1233"
          ],
          [
           "1234"
          ],
          [
           "1235"
          ],
          [
           "1236"
          ],
          [
           "1237"
          ],
          [
           "1238"
          ],
          [
           "1239"
          ],
          [
           "124"
          ],
          [
           "1240"
          ],
          [
           "1241"
          ],
          [
           "1242"
          ],
          [
           "1243"
          ],
          [
           "1244"
          ],
          [
           "1245"
          ],
          [
           "1246"
          ],
          [
           "1247"
          ],
          [
           "1248"
          ],
          [
           "1249"
          ],
          [
           "125"
          ],
          [
           "1250"
          ],
          [
           "1251"
          ],
          [
           "1252"
          ],
          [
           "1253"
          ],
          [
           "1255"
          ],
          [
           "1257"
          ],
          [
           "1258"
          ],
          [
           "1259"
          ],
          [
           "126"
          ],
          [
           "1260"
          ],
          [
           "1261"
          ],
          [
           "1262"
          ],
          [
           "1263"
          ],
          [
           "1264"
          ],
          [
           "1265"
          ],
          [
           "1266"
          ],
          [
           "1266a"
          ],
          [
           "1267"
          ],
          [
           "1267a"
          ],
          [
           "1267b"
          ],
          [
           "1269"
          ],
          [
           "127"
          ],
          [
           "1270"
          ],
          [
           "1271"
          ],
          [
           "1272"
          ],
          [
           "1273"
          ],
          [
           "1274"
          ],
          [
           "1275"
          ],
          [
           "1276"
          ],
          [
           "1277"
          ],
          [
           "1277a"
          ],
          [
           "1277b"
          ],
          [
           "1278"
          ],
          [
           "1279"
          ],
          [
           "1280"
          ],
          [
           "1281"
          ],
          [
           "1282"
          ],
          [
           "1283"
          ],
          [
           "1284"
          ],
          [
           "1285"
          ],
          [
           "1286"
          ],
          [
           "1288"
          ],
          [
           "1289"
          ],
          [
           "129"
          ],
          [
           "1290"
          ],
          [
           "1291"
          ],
          [
           "1292"
          ],
          [
           "1293"
          ],
          [
           "1294"
          ],
          [
           "1295"
          ],
          [
           "1296"
          ],
          [
           "1297"
          ],
          [
           "1298"
          ],
          [
           "1299"
          ],
          [
           "13"
          ],
          [
           "130"
          ],
          [
           "1300"
          ],
          [
           "1301"
          ],
          [
           "1302"
          ],
          [
           "1303"
          ],
          [
           "1304"
          ],
          [
           "1305"
          ],
          [
           "1306"
          ],
          [
           "1307"
          ],
          [
           "1308"
          ],
          [
           "1309"
          ],
          [
           "1310"
          ],
          [
           "1311"
          ],
          [
           "1312"
          ],
          [
           "1313"
          ],
          [
           "1314"
          ],
          [
           "1315"
          ],
          [
           "1317"
          ],
          [
           "1318"
          ],
          [
           "1320"
          ],
          [
           "1321"
          ],
          [
           "1322"
          ],
          [
           "1323"
          ],
          [
           "1324"
          ],
          [
           "1325"
          ],
          [
           "1326"
          ],
          [
           "1327"
          ],
          [
           "1328"
          ],
          [
           "1329"
          ],
          [
           "133"
          ],
          [
           "1330"
          ],
          [
           "1331"
          ],
          [
           "1332"
          ],
          [
           "1333"
          ],
          [
           "1334"
          ],
          [
           "1335"
          ],
          [
           "1336"
          ],
          [
           "1337"
          ],
          [
           "1338"
          ],
          [
           "1339"
          ],
          [
           "134"
          ],
          [
           "1340"
          ],
          [
           "1341"
          ],
          [
           "1342"
          ],
          [
           "1343"
          ],
          [
           "1344"
          ],
          [
           "1345"
          ],
          [
           "1346"
          ],
          [
           "1347"
          ],
          [
           "1348"
          ],
          [
           "1349"
          ],
          [
           "135"
          ],
          [
           "1350"
          ],
          [
           "1351"
          ],
          [
           "1352"
          ],
          [
           "1353"
          ],
          [
           "1354"
          ],
          [
           "1355"
          ],
          [
           "1356"
          ],
          [
           "1357"
          ],
          [
           "1358"
          ],
          [
           "1359"
          ],
          [
           "135a"
          ],
          [
           "135b"
          ],
          [
           "135c"
          ],
          [
           "136"
          ],
          [
           "1360"
          ],
          [
           "1361"
          ],
          [
           "1362"
          ],
          [
           "1363"
          ],
          [
           "1364"
          ],
          [
           "1365"
          ],
          [
           "1365a"
          ],
          [
           "1366"
          ],
          [
           "1367"
          ],
          [
           "1368"
          ],
          [
           "1369"
          ],
          [
           "137"
          ],
          [
           "1370"
          ],
          [
           "1371"
          ],
          [
           "1372"
          ],
          [
           "1373"
          ],
          [
           "1374"
          ],
          [
           "1375"
          ],
          [
           "1376"
          ],
          [
           "1377"
          ],
          [
           "1378"
          ],
          [
           "1379"
          ],
          [
           "138"
          ],
          [
           "1380"
          ],
          [
           "1381"
          ],
          [
           "1382"
          ],
          [
           "1383"
          ],
          [
           "1384"
          ],
          [
           "1385"
          ],
          [
           "1386"
          ],
          [
           "1387"
          ],
          [
           "1388"
          ],
          [
           "1389"
          ],
          [
           "139"
          ],
          [
           "1390"
          ],
          [
           "1391"
          ],
          [
           "1392"
          ],
          [
           "1393"
          ],
          [
           "1394"
          ],
          [
           "1395"
          ],
          [
           "1396"
          ],
          [
           "1397"
          ],
          [
           "1398"
          ],
          [
           "1399"
          ],
          [
           "14"
          ],
          [
           "140"
          ],
          [
           "1400"
          ],
          [
           "1401"
          ],
          [
           "1402"
          ],
          [
           "1403"
          ],
          [
           "1404"
          ],
          [
           "1405"
          ],
          [
           "1406"
          ],
          [
           "1407"
          ],
          [
           "1408"
          ],
          [
           "1409"
          ],
          [
           "141"
          ],
          [
           "1410"
          ],
          [
           "1411"
          ],
          [
           "1412"
          ],
          [
           "1413"
          ],
          [
           "1414"
          ],
          [
           "1415"
          ],
          [
           "1416"
          ],
          [
           "1417"
          ],
          [
           "1419"
          ],
          [
           "141a"
          ],
          [
           "141b"
          ],
          [
           "141c"
          ],
          [
           "142"
          ],
          [
           "1420"
          ],
          [
           "1421"
          ],
          [
           "1422"
          ],
          [
           "1423"
          ],
          [
           "1424"
          ],
          [
           "1425"
          ],
          [
           "1426"
          ],
          [
           "1427"
          ],
          [
           "1428"
          ],
          [
           "1429"
          ],
          [
           "142a"
          ],
          [
           "143"
          ],
          [
           "1430"
          ],
          [
           "1431"
          ],
          [
           "1432"
          ],
          [
           "1433"
          ],
          [
           "1434"
          ],
          [
           "1435"
          ],
          [
           "1436"
          ],
          [
           "1437"
          ],
          [
           "1438"
          ],
          [
           "1439"
          ],
          [
           "144"
          ],
          [
           "1440"
          ],
          [
           "1441"
          ],
          [
           "1442"
          ],
          [
           "1443"
          ],
          [
           "1444"
          ],
          [
           "1445"
          ],
          [
           "1446"
          ],
          [
           "1447"
          ],
          [
           "1448"
          ],
          [
           "1449"
          ],
          [
           "144a"
          ],
          [
           "144b"
          ],
          [
           "1450"
          ],
          [
           "1451"
          ],
          [
           "1452"
          ],
          [
           "1453"
          ],
          [
           "1454"
          ],
          [
           "1455"
          ],
          [
           "1456"
          ],
          [
           "1457"
          ],
          [
           "1458"
          ],
          [
           "1459"
          ],
          [
           "146"
          ],
          [
           "1460"
          ],
          [
           "1461"
          ],
          [
           "1462"
          ],
          [
           "1463"
          ],
          [
           "1464"
          ],
          [
           "1465"
          ],
          [
           "1466"
          ],
          [
           "1467"
          ],
          [
           "1468"
          ],
          [
           "1469"
          ],
          [
           "147"
          ],
          [
           "1470"
          ],
          [
           "1471"
          ],
          [
           "1472"
          ],
          [
           "1473"
          ],
          [
           "1474"
          ],
          [
           "1475"
          ],
          [
           "1476"
          ],
          [
           "1477"
          ],
          [
           "1478"
          ],
          [
           "1479"
          ],
          [
           "148"
          ],
          [
           "1480"
          ],
          [
           "1481"
          ],
          [
           "1482"
          ],
          [
           "1483"
          ],
          [
           "1484"
          ],
          [
           "1485"
          ],
          [
           "1486"
          ],
          [
           "1487"
          ],
          [
           "1488"
          ],
          [
           "1489"
          ],
          [
           "149"
          ],
          [
           "1490"
          ],
          [
           "1491"
          ],
          [
           "1492"
          ],
          [
           "1493"
          ],
          [
           "1494"
          ],
          [
           "1495"
          ],
          [
           "1496"
          ],
          [
           "1497"
          ],
          [
           "1498"
          ],
          [
           "1499"
          ],
          [
           "150"
          ],
          [
           "1500"
          ],
          [
           "1501"
          ],
          [
           "1502"
          ],
          [
           "1503"
          ],
          [
           "1504"
          ],
          [
           "1505"
          ],
          [
           "1505a"
          ],
          [
           "1506"
          ],
          [
           "1508"
          ],
          [
           "1509"
          ],
          [
           "150a"
          ],
          [
           "1510"
          ],
          [
           "1511"
          ],
          [
           "1512"
          ],
          [
           "1513"
          ],
          [
           "1514"
          ],
          [
           "1515"
          ],
          [
           "1516"
          ],
          [
           "1517"
          ],
          [
           "1518"
          ],
          [
           "1519"
          ],
          [
           "152"
          ],
          [
           "1520"
          ],
          [
           "1521"
          ],
          [
           "1522"
          ],
          [
           "1523"
          ],
          [
           "1524"
          ],
          [
           "1525"
          ],
          [
           "1526"
          ],
          [
           "1526a"
          ],
          [
           "1526b"
          ],
          [
           "1526c"
          ],
          [
           "1526d"
          ],
          [
           "1526e"
          ],
          [
           "1527"
          ],
          [
           "1527a"
          ],
          [
           "1528"
          ],
          [
           "1529"
          ],
          [
           "153"
          ],
          [
           "1530"
          ],
          [
           "1531"
          ],
          [
           "1532"
          ],
          [
           "1533"
          ],
          [
           "1534"
          ],
          [
           "1535"
          ],
          [
           "1536"
          ],
          [
           "1537"
          ],
          [
           "1538"
          ],
          [
           "1539"
          ],
          [
           "1540"
          ],
          [
           "1541"
          ],
          [
           "1542"
          ],
          [
           "1543"
          ],
          [
           "1544"
          ],
          [
           "1545"
          ],
          [
           "1546"
          ],
          [
           "1547"
          ],
          [
           "1548"
          ],
          [
           "1549"
          ],
          [
           "155"
          ],
          [
           "1550"
          ],
          [
           "1551"
          ],
          [
           "1552"
          ],
          [
           "1553"
          ],
          [
           "1555"
          ],
          [
           "1556"
          ],
          [
           "1557"
          ],
          [
           "1559"
          ],
          [
           "156"
          ],
          [
           "1560"
          ],
          [
           "1560a"
          ],
          [
           "1561"
          ],
          [
           "1562"
          ],
          [
           "1563"
          ],
          [
           "1564"
          ],
          [
           "1565"
          ],
          [
           "1566"
          ],
          [
           "1567"
          ],
          [
           "1568"
          ],
          [
           "1569"
          ],
          [
           "157"
          ],
          [
           "1570"
          ],
          [
           "1571"
          ],
          [
           "1572"
          ],
          [
           "1573"
          ],
          [
           "1577"
          ],
          [
           "1578"
          ],
          [
           "1579"
          ],
          [
           "158"
          ],
          [
           "1580"
          ],
          [
           "1581"
          ],
          [
           "1582"
          ],
          [
           "1583"
          ],
          [
           "1584"
          ],
          [
           "1585"
          ],
          [
           "1585a"
          ],
          [
           "1586"
          ],
          [
           "1587"
          ],
          [
           "1588"
          ],
          [
           "1589"
          ],
          [
           "159"
          ],
          [
           "1590"
          ],
          [
           "1592"
          ],
          [
           "1593"
          ],
          [
           "1593a"
          ],
          [
           "1594"
          ],
          [
           "1595"
          ],
          [
           "1596"
          ],
          [
           "1597"
          ],
          [
           "1597a"
          ],
          [
           "1597b"
          ],
          [
           "1598"
          ],
          [
           "1599"
          ],
          [
           "160"
          ],
          [
           "1600"
          ],
          [
           "1601"
          ],
          [
           "1602"
          ],
          [
           "1603"
          ],
          [
           "1604"
          ],
          [
           "1605"
          ],
          [
           "1606"
          ],
          [
           "1607"
          ],
          [
           "1608"
          ],
          [
           "1609"
          ],
          [
           "161"
          ],
          [
           "1610"
          ],
          [
           "1611"
          ],
          [
           "1613"
          ],
          [
           "1614"
          ],
          [
           "1615"
          ],
          [
           "1616"
          ],
          [
           "1617"
          ],
          [
           "1618"
          ],
          [
           "1619"
          ],
          [
           "162"
          ],
          [
           "1620"
          ],
          [
           "1621"
          ],
          [
           "1622"
          ],
          [
           "1623"
          ],
          [
           "1624"
          ],
          [
           "1625"
          ],
          [
           "1626"
          ],
          [
           "1627"
          ],
          [
           "1628"
          ],
          [
           "1629"
          ],
          [
           "163"
          ],
          [
           "1630"
          ],
          [
           "1630a"
          ],
          [
           "1630b"
          ],
          [
           "1630c"
          ],
          [
           "1630e"
          ],
          [
           "1631"
          ],
          [
           "1632"
          ],
          [
           "1633"
          ],
          [
           "1634"
          ],
          [
           "1635"
          ],
          [
           "1636"
          ],
          [
           "1637"
          ],
          [
           "1638"
          ],
          [
           "1639"
          ],
          [
           "1640"
          ],
          [
           "1641"
          ],
          [
           "1642"
          ],
          [
           "1643"
          ],
          [
           "1644"
          ],
          [
           "1645"
          ],
          [
           "1646"
          ],
          [
           "1647"
          ],
          [
           "1649"
          ],
          [
           "165"
          ],
          [
           "1650"
          ],
          [
           "1651"
          ],
          [
           "1652"
          ],
          [
           "1653"
          ],
          [
           "1654"
          ],
          [
           "1655"
          ],
          [
           "1656"
          ],
          [
           "1657"
          ],
          [
           "1658"
          ],
          [
           "1659"
          ],
          [
           "166"
          ],
          [
           "1660"
          ],
          [
           "1661"
          ],
          [
           "1662"
          ],
          [
           "1663"
          ],
          [
           "1664"
          ],
          [
           "1664a"
          ],
          [
           "1665"
          ],
          [
           "1666"
          ],
          [
           "1667"
          ],
          [
           "1668"
          ],
          [
           "1669"
          ],
          [
           "167"
          ],
          [
           "1670"
          ],
          [
           "1671"
          ],
          [
           "1672"
          ],
          [
           "1673"
          ],
          [
           "1674"
          ],
          [
           "1675"
          ],
          [
           "1676"
          ],
          [
           "1677"
          ],
          [
           "1678"
          ],
          [
           "1679"
          ],
          [
           "1680"
          ],
          [
           "1680a"
          ],
          [
           "1681"
          ],
          [
           "1682"
          ],
          [
           "1683"
          ],
          [
           "1684"
          ],
          [
           "1685"
          ],
          [
           "1686"
          ],
          [
           "1687"
          ],
          [
           "1688"
          ],
          [
           "1689"
          ],
          [
           "169"
          ],
          [
           "1690"
          ],
          [
           "1691"
          ],
          [
           "1692"
          ],
          [
           "1693"
          ],
          [
           "1694"
          ],
          [
           "1695"
          ],
          [
           "1696"
          ],
          [
           "1697"
          ],
          [
           "1698"
          ],
          [
           "1699"
          ],
          [
           "169b"
          ],
          [
           "170"
          ],
          [
           "1700"
          ],
          [
           "1701"
          ],
          [
           "1702"
          ],
          [
           "1703"
          ],
          [
           "1704"
          ],
          [
           "1705"
          ],
          [
           "1706"
          ],
          [
           "1707"
          ],
          [
           "1708"
          ],
          [
           "1709"
          ],
          [
           "171"
          ],
          [
           "1710"
          ],
          [
           "1712"
          ],
          [
           "1713"
          ],
          [
           "1714"
          ],
          [
           "1715"
          ],
          [
           "1716"
          ],
          [
           "1717"
          ],
          [
           "1718"
          ],
          [
           "1719"
          ],
          [
           "172"
          ],
          [
           "1720"
          ],
          [
           "1721"
          ],
          [
           "1722"
          ],
          [
           "1723"
          ],
          [
           "1723a"
          ],
          [
           "1724"
          ],
          [
           "1725"
          ],
          [
           "1726"
          ],
          [
           "1727"
          ],
          [
           "1728"
          ],
          [
           "1729"
          ],
          [
           "172a"
          ],
          [
           "173"
          ],
          [
           "1730"
          ],
          [
           "1731"
          ],
          [
           "1732"
          ],
          [
           "1733"
          ],
          [
           "1734"
          ],
          [
           "1735"
          ],
          [
           "1736"
          ],
          [
           "1737"
          ],
          [
           "1738"
          ],
          [
           "1739"
          ],
          [
           "174"
          ],
          [
           "1740"
          ],
          [
           "1741"
          ],
          [
           "1742"
          ],
          [
           "1743"
          ],
          [
           "1748"
          ],
          [
           "1749"
          ],
          [
           "1750"
          ],
          [
           "1752"
          ],
          [
           "1753"
          ],
          [
           "1755"
          ],
          [
           "1757"
          ],
          [
           "1761"
          ],
          [
           "1762"
          ],
          [
           "1763"
          ],
          [
           "1764"
          ],
          [
           "1765"
          ],
          [
           "1775"
          ],
          [
           "1778a"
          ],
          [
           "1790"
          ],
          [
           "1793"
          ],
          [
           "1794"
          ],
          [
           "1796"
          ],
          [
           "1797"
          ],
          [
           "1800"
          ],
          [
           "1801"
          ],
          [
           "1802"
          ],
          [
           "1805"
          ],
          [
           "1809"
          ],
          [
           "181"
          ],
          [
           "1810"
          ],
          [
           "1815"
          ],
          [
           "1816"
          ],
          [
           "1817"
          ],
          [
           "1818"
          ],
          [
           "182"
          ],
          [
           "1820"
          ],
          [
           "1825"
          ],
          [
           "1828"
          ],
          [
           "1829"
          ],
          [
           "182a"
          ],
          [
           "183"
          ],
          [
           "1830"
          ],
          [
           "1831"
          ],
          [
           "1831a"
          ],
          [
           "1832"
          ],
          [
           "1836"
          ],
          [
           "1837"
          ],
          [
           "1840"
          ],
          [
           "1841"
          ],
          [
           "185"
          ],
          [
           "186"
          ],
          [
           "187"
          ],
          [
           "188"
          ],
          [
           "189"
          ],
          [
           "190"
          ],
          [
           "191"
          ],
          [
           "192"
          ],
          [
           "193"
          ],
          [
           "193a"
          ],
          [
           "193b"
          ],
          [
           "194"
          ],
          [
           "194a"
          ],
          [
           "194b"
          ],
          [
           "195"
          ],
          [
           "195a"
          ],
          [
           "195b"
          ],
          [
           "195c"
          ],
          [
           "195d"
          ],
          [
           "196"
          ],
          [
           "198"
          ],
          [
           "1a"
          ],
          [
           "2"
          ],
          [
           "201"
          ],
          [
           "202"
          ],
          [
           "203"
          ],
          [
           "204"
          ],
          [
           "205"
          ],
          [
           "206"
          ],
          [
           "207"
          ],
          [
           "209"
          ],
          [
           "21"
          ],
          [
           "210"
          ],
          [
           "211"
          ],
          [
           "212"
          ],
          [
           "212a"
          ],
          [
           "213"
          ],
          [
           "214"
          ],
          [
           "215"
          ],
          [
           "215a"
          ],
          [
           "215b"
          ],
          [
           "215c"
          ],
          [
           "216"
          ],
          [
           "217"
          ],
          [
           "218"
          ],
          [
           "219"
          ],
          [
           "220"
          ],
          [
           "220a"
          ],
          [
           "221"
          ],
          [
           "222"
          ],
          [
           "223"
          ],
          [
           "224"
          ],
          [
           "225"
          ],
          [
           "226"
          ],
          [
           "227"
          ],
          [
           "228"
          ],
          [
           "229"
          ],
          [
           "230"
          ],
          [
           "231"
          ],
          [
           "232"
          ],
          [
           "232b"
          ],
          [
           "233"
          ],
          [
           "234"
          ],
          [
           "236"
          ],
          [
           "237"
          ],
          [
           "238"
          ],
          [
           "239"
          ],
          [
           "240"
          ],
          [
           "241"
          ],
          [
           "242"
          ],
          [
           "243"
          ],
          [
           "245"
          ],
          [
           "246"
          ],
          [
           "246a"
          ],
          [
           "248"
          ],
          [
           "249"
          ],
          [
           "25"
          ],
          [
           "250"
          ],
          [
           "251"
          ],
          [
           "252"
          ],
          [
           "253"
          ],
          [
           "254"
          ],
          [
           "255"
          ],
          [
           "256"
          ],
          [
           "257"
          ],
          [
           "258"
          ],
          [
           "259"
          ],
          [
           "26"
          ],
          [
           "260"
          ],
          [
           "261"
          ],
          [
           "262"
          ],
          [
           "263"
          ],
          [
           "264"
          ],
          [
           "265"
          ],
          [
           "266"
          ],
          [
           "267"
          ],
          [
           "268"
          ],
          [
           "269"
          ],
          [
           "27"
          ],
          [
           "271"
          ],
          [
           "274"
          ],
          [
           "275"
          ],
          [
           "276"
          ],
          [
           "277"
          ],
          [
           "28"
          ],
          [
           "280"
          ],
          [
           "281"
          ],
          [
           "282"
          ],
          [
           "282a"
          ],
          [
           "282b"
          ],
          [
           "283"
          ],
          [
           "284"
          ],
          [
           "286"
          ],
          [
           "287"
          ],
          [
           "288"
          ],
          [
           "289"
          ],
          [
           "28a"
          ],
          [
           "28b"
          ],
          [
           "29"
          ],
          [
           "291"
          ],
          [
           "292"
          ],
          [
           "293"
          ],
          [
           "294"
          ],
          [
           "295"
          ],
          [
           "298"
          ],
          [
           "298a"
          ],
          [
           "298b"
          ],
          [
           "29a"
          ],
          [
           "3"
          ],
          [
           "300"
          ],
          [
           "301"
          ],
          [
           "302"
          ],
          [
           "303"
          ],
          [
           "305"
          ],
          [
           "306"
          ],
          [
           "308"
          ],
          [
           "309"
          ],
          [
           "31"
          ],
          [
           "310"
          ],
          [
           "310a"
          ],
          [
           "311"
          ],
          [
           "311a"
          ],
          [
           "311b"
          ],
          [
           "311c"
          ],
          [
           "312"
          ],
          [
           "314"
          ],
          [
           "315"
          ],
          [
           "316"
          ],
          [
           "317"
          ],
          [
           "318"
          ],
          [
           "318a"
          ],
          [
           "318b"
          ],
          [
           "318c"
          ],
          [
           "319"
          ],
          [
           "32"
          ],
          [
           "320"
          ],
          [
           "321"
          ],
          [
           "322"
          ],
          [
           "323"
          ],
          [
           "325"
          ],
          [
           "326"
          ],
          [
           "328"
          ],
          [
           "329"
          ],
          [
           "330"
          ],
          [
           "331"
          ],
          [
           "332"
          ],
          [
           "333"
          ],
          [
           "334"
          ],
          [
           "334a"
          ],
          [
           "335"
          ],
          [
           "336"
          ],
          [
           "337"
          ],
          [
           "338"
          ],
          [
           "339"
          ],
          [
           "339a"
          ],
          [
           "34"
          ],
          [
           "340"
          ],
          [
           "342"
          ],
          [
           "343"
          ],
          [
           "343a"
          ],
          [
           "344"
          ],
          [
           "346"
          ],
          [
           "347"
          ],
          [
           "347a"
          ],
          [
           "348"
          ],
          [
           "35"
          ],
          [
           "350"
          ],
          [
           "351"
          ],
          [
           "352"
          ],
          [
           "353"
          ],
          [
           "354"
          ],
          [
           "356"
          ],
          [
           "357"
          ],
          [
           "358"
          ],
          [
           "358a"
          ],
          [
           "359"
          ],
          [
           "35a"
          ],
          [
           "36"
          ],
          [
           "360"
          ],
          [
           "361"
          ],
          [
           "362"
          ],
          [
           "363"
          ],
          [
           "364"
          ],
          [
           "365"
          ],
          [
           "366"
          ],
          [
           "367"
          ],
          [
           "368"
          ],
          [
           "369"
          ],
          [
           "37"
          ],
          [
           "370"
          ],
          [
           "371"
          ],
          [
           "372"
          ],
          [
           "373"
          ],
          [
           "374"
          ],
          [
           "375"
          ],
          [
           "376"
          ],
          [
           "377"
          ],
          [
           "377a"
          ],
          [
           "377b"
          ],
          [
           "378"
          ],
          [
           "379"
          ],
          [
           "38"
          ],
          [
           "380"
          ],
          [
           "380a"
          ],
          [
           "381"
          ],
          [
           "381a"
          ],
          [
           "382"
          ],
          [
           "383"
          ],
          [
           "383a"
          ],
          [
           "383b"
          ],
          [
           "385"
          ],
          [
           "386"
          ],
          [
           "388"
          ],
          [
           "389"
          ],
          [
           "39"
          ],
          [
           "390"
          ],
          [
           "391"
          ],
          [
           "392"
          ],
          [
           "393"
          ],
          [
           "394"
          ],
          [
           "395"
          ],
          [
           "395a"
          ],
          [
           "395b"
          ],
          [
           "396"
          ],
          [
           "397"
          ],
          [
           "398"
          ],
          [
           "399"
          ],
          [
           "399a"
          ],
          [
           "40"
          ],
          [
           "401"
          ],
          [
           "402"
          ],
          [
           "403"
          ],
          [
           "404"
          ],
          [
           "405"
          ],
          [
           "407"
          ],
          [
           "408"
          ],
          [
           "410"
          ],
          [
           "411"
          ],
          [
           "412"
          ],
          [
           "413"
          ],
          [
           "414"
          ],
          [
           "419"
          ],
          [
           "420"
          ],
          [
           "421"
          ],
          [
           "422"
          ],
          [
           "423"
          ],
          [
           "425"
          ],
          [
           "426"
          ],
          [
           "427"
          ],
          [
           "428"
          ],
          [
           "429"
          ],
          [
           "429a"
          ],
          [
           "429b"
          ],
          [
           "429c"
          ],
          [
           "429d"
          ],
          [
           "429e"
          ],
          [
           "43"
          ],
          [
           "430"
          ],
          [
           "431"
          ],
          [
           "432"
          ],
          [
           "434"
          ],
          [
           "435"
          ],
          [
           "436"
          ],
          [
           "437"
          ],
          [
           "438"
          ],
          [
           "439"
          ],
          [
           "440"
          ],
          [
           "441"
          ],
          [
           "442"
          ],
          [
           "443"
          ],
          [
           "444"
          ],
          [
           "445"
          ],
          [
           "446"
          ],
          [
           "447"
          ],
          [
           "448"
          ],
          [
           "449"
          ],
          [
           "450"
          ],
          [
           "451"
          ],
          [
           "452"
          ],
          [
           "453"
          ],
          [
           "454"
          ],
          [
           "455"
          ],
          [
           "456"
          ],
          [
           "457"
          ],
          [
           "457a"
          ],
          [
           "457b"
          ],
          [
           "457c"
          ],
          [
           "457d"
          ],
          [
           "457e"
          ],
          [
           "458"
          ],
          [
           "459"
          ],
          [
           "46"
          ],
          [
           "460"
          ],
          [
           "461"
          ],
          [
           "461a"
          ],
          [
           "461b"
          ],
          [
           "461c"
          ],
          [
           "462"
          ],
          [
           "462a"
          ],
          [
           "463"
          ],
          [
           "463a"
          ],
          [
           "464"
          ],
          [
           "464a"
          ],
          [
           "465"
          ],
          [
           "465a"
          ],
          [
           "465b"
          ],
          [
           "465c"
          ],
          [
           "465d"
          ],
          [
           "465e"
          ],
          [
           "465f"
          ],
          [
           "465g"
          ],
          [
           "465h"
          ],
          [
           "465i"
          ],
          [
           "466"
          ],
          [
           "467"
          ],
          [
           "468"
          ],
          [
           "469"
          ],
          [
           "470"
          ],
          [
           "471"
          ],
          [
           "472"
          ],
          [
           "473"
          ],
          [
           "474"
          ],
          [
           "477"
          ],
          [
           "479"
          ],
          [
           "479a"
          ],
          [
           "48"
          ],
          [
           "480"
          ],
          [
           "480a"
          ],
          [
           "480b"
          ],
          [
           "480c"
          ],
          [
           "480d"
          ],
          [
           "481"
          ],
          [
           "482"
          ],
          [
           "483"
          ],
          [
           "484"
          ],
          [
           "486"
          ],
          [
           "487"
          ],
          [
           "489"
          ],
          [
           "49"
          ],
          [
           "490"
          ],
          [
           "491"
          ],
          [
           "492"
          ],
          [
           "493"
          ],
          [
           "494"
          ],
          [
           "496"
          ],
          [
           "497"
          ],
          [
           "498"
          ],
          [
           "499"
          ],
          [
           "500"
          ],
          [
           "501"
          ],
          [
           "502"
          ],
          [
           "503"
          ],
          [
           "503a"
          ],
          [
           "503b"
          ],
          [
           "503c"
          ],
          [
           "503d"
          ],
          [
           "503e"
          ],
          [
           "503f"
          ],
          [
           "504"
          ],
          [
           "505"
          ],
          [
           "506"
          ],
          [
           "507"
          ],
          [
           "507a"
          ],
          [
           "507b"
          ],
          [
           "508"
          ],
          [
           "509"
          ],
          [
           "509a"
          ],
          [
           "51"
          ],
          [
           "511"
          ],
          [
           "513"
          ],
          [
           "514"
          ],
          [
           "514a"
          ],
          [
           "514b"
          ],
          [
           "514c"
          ],
          [
           "514d"
          ],
          [
           "514e"
          ],
          [
           "514f"
          ],
          [
           "514g"
          ],
          [
           "516"
          ],
          [
           "517"
          ],
          [
           "518"
          ],
          [
           "519"
          ],
          [
           "52"
          ],
          [
           "520"
          ],
          [
           "521"
          ],
          [
           "523"
          ],
          [
           "524"
          ],
          [
           "525"
          ],
          [
           "525a"
          ],
          [
           "526"
          ],
          [
           "527"
          ],
          [
           "528"
          ],
          [
           "529"
          ],
          [
           "53"
          ],
          [
           "530"
          ],
          [
           "531"
          ],
          [
           "533"
          ],
          [
           "534"
          ],
          [
           "535"
          ],
          [
           "535a"
          ],
          [
           "535b"
          ],
          [
           "535c"
          ],
          [
           "536"
          ],
          [
           "537"
          ],
          [
           "538"
          ],
          [
           "539"
          ],
          [
           "54"
          ],
          [
           "540"
          ],
          [
           "541"
          ],
          [
           "542"
          ],
          [
           "544"
          ],
          [
           "545"
          ],
          [
           "545a"
          ],
          [
           "545c"
          ],
          [
           "546"
          ],
          [
           "547"
          ],
          [
           "548"
          ],
          [
           "549"
          ],
          [
           "54a"
          ],
          [
           "54b"
          ],
          [
           "55"
          ],
          [
           "550"
          ],
          [
           "551"
          ],
          [
           "552"
          ],
          [
           "553"
          ],
          [
           "554"
          ],
          [
           "555"
          ],
          [
           "557"
          ],
          [
           "558"
          ],
          [
           "558a"
          ],
          [
           "559"
          ],
          [
           "56"
          ],
          [
           "561"
          ],
          [
           "563"
          ],
          [
           "569"
          ],
          [
           "57"
          ],
          [
           "570"
          ],
          [
           "572"
          ],
          [
           "573"
          ],
          [
           "574"
          ],
          [
           "576"
          ],
          [
           "577"
          ],
          [
           "578"
          ],
          [
           "579"
          ],
          [
           "58"
          ],
          [
           "581"
          ],
          [
           "582"
          ],
          [
           "583"
          ],
          [
           "584"
          ],
          [
           "585"
          ],
          [
           "585a"
          ],
          [
           "586"
          ],
          [
           "587"
          ],
          [
           "588"
          ],
          [
           "589"
          ],
          [
           "59"
          ],
          [
           "590"
          ],
          [
           "591"
          ],
          [
           "592"
          ],
          [
           "593"
          ],
          [
           "594"
          ],
          [
           "595"
          ],
          [
           "596"
          ],
          [
           "597"
          ],
          [
           "598"
          ],
          [
           "6"
          ],
          [
           "60"
          ],
          [
           "600"
          ],
          [
           "600a"
          ],
          [
           "600b"
          ],
          [
           "601"
          ],
          [
           "602"
          ],
          [
           "603"
          ],
          [
           "604"
          ],
          [
           "605"
          ],
          [
           "605a"
          ],
          [
           "606"
          ],
          [
           "607"
          ],
          [
           "607a"
          ],
          [
           "608"
          ],
          [
           "609"
          ],
          [
           "61"
          ],
          [
           "610"
          ],
          [
           "611"
          ],
          [
           "612"
          ],
          [
           "613"
          ],
          [
           "614"
          ],
          [
           "615"
          ],
          [
           "616"
          ],
          [
           "617"
          ],
          [
           "617a"
          ],
          [
           "618"
          ],
          [
           "619"
          ],
          [
           "620"
          ],
          [
           "621"
          ],
          [
           "621a"
          ],
          [
           "622"
          ],
          [
           "623"
          ],
          [
           "624"
          ],
          [
           "625"
          ],
          [
           "626"
          ],
          [
           "627"
          ],
          [
           "628"
          ],
          [
           "629"
          ],
          [
           "63"
          ],
          [
           "630"
          ],
          [
           "631"
          ],
          [
           "632"
          ],
          [
           "633"
          ],
          [
           "634"
          ],
          [
           "634a"
          ],
          [
           "634b"
          ],
          [
           "634c"
          ],
          [
           "635"
          ],
          [
           "636"
          ],
          [
           "637"
          ],
          [
           "638"
          ],
          [
           "639"
          ],
          [
           "63a"
          ],
          [
           "63b"
          ],
          [
           "63c"
          ],
          [
           "640"
          ],
          [
           "640a"
          ],
          [
           "641"
          ],
          [
           "643"
          ],
          [
           "644"
          ],
          [
           "645"
          ],
          [
           "645a"
          ],
          [
           "646"
          ],
          [
           "647"
          ],
          [
           "647a"
          ],
          [
           "648"
          ],
          [
           "649"
          ],
          [
           "65"
          ],
          [
           "650"
          ],
          [
           "651"
          ],
          [
           "652"
          ],
          [
           "653"
          ],
          [
           "654"
          ],
          [
           "655"
          ],
          [
           "656"
          ],
          [
           "657"
          ],
          [
           "658"
          ],
          [
           "659"
          ],
          [
           "660"
          ],
          [
           "661"
          ],
          [
           "662"
          ],
          [
           "663"
          ],
          [
           "664"
          ],
          [
           "664a"
          ],
          [
           "665"
          ],
          [
           "666"
          ],
          [
           "666a"
          ],
          [
           "666b"
          ],
          [
           "667"
          ],
          [
           "668"
          ],
          [
           "669"
          ],
          [
           "67"
          ],
          [
           "670"
          ],
          [
           "671"
          ],
          [
           "672"
          ],
          [
           "673"
          ],
          [
           "674"
          ],
          [
           "675"
          ],
          [
           "677"
          ],
          [
           "678"
          ],
          [
           "68"
          ],
          [
           "680"
          ],
          [
           "681"
          ],
          [
           "683"
          ],
          [
           "684"
          ],
          [
           "685"
          ],
          [
           "687"
          ],
          [
           "688"
          ],
          [
           "689"
          ],
          [
           "69"
          ],
          [
           "690"
          ],
          [
           "691"
          ],
          [
           "692"
          ],
          [
           "693"
          ],
          [
           "694"
          ],
          [
           "695"
          ],
          [
           "696"
          ],
          [
           "697"
          ],
          [
           "698"
          ],
          [
           "699"
          ],
          [
           "7"
          ],
          [
           "70"
          ],
          [
           "700"
          ],
          [
           "701"
          ],
          [
           "702"
          ],
          [
           "703"
          ],
          [
           "704"
          ],
          [
           "705"
          ],
          [
           "708"
          ],
          [
           "709"
          ],
          [
           "71"
          ],
          [
           "710"
          ],
          [
           "711"
          ],
          [
           "711a"
          ],
          [
           "712"
          ],
          [
           "713"
          ],
          [
           "714"
          ],
          [
           "715"
          ],
          [
           "716"
          ],
          [
           "717"
          ],
          [
           "718"
          ],
          [
           "718a"
          ],
          [
           "719"
          ],
          [
           "720"
          ],
          [
           "722"
          ],
          [
           "726"
          ],
          [
           "727"
          ],
          [
           "728"
          ],
          [
           "729"
          ],
          [
           "73"
          ],
          [
           "730"
          ],
          [
           "731"
          ],
          [
           "732"
          ],
          [
           "732a"
          ],
          [
           "733"
          ],
          [
           "734"
          ],
          [
           "734a"
          ],
          [
           "735"
          ],
          [
           "736"
          ],
          [
           "737"
          ],
          [
           "738"
          ],
          [
           "739"
          ],
          [
           "74"
          ],
          [
           "740"
          ],
          [
           "742"
          ],
          [
           "743"
          ],
          [
           "744"
          ],
          [
           "745"
          ],
          [
           "746"
          ],
          [
           "747"
          ],
          [
           "748"
          ],
          [
           "749"
          ],
          [
           "75"
          ],
          [
           "750"
          ],
          [
           "751"
          ],
          [
           "752"
          ],
          [
           "753"
          ],
          [
           "754"
          ],
          [
           "755"
          ],
          [
           "756"
          ],
          [
           "756a"
          ],
          [
           "756b"
          ],
          [
           "756c"
          ],
          [
           "756d"
          ],
          [
           "76"
          ],
          [
           "760"
          ],
          [
           "761"
          ],
          [
           "762"
          ],
          [
           "763"
          ],
          [
           "764"
          ],
          [
           "765"
          ],
          [
           "766"
          ],
          [
           "767"
          ],
          [
           "768"
          ],
          [
           "769"
          ],
          [
           "770"
          ],
          [
           "771"
          ],
          [
           "772"
          ],
          [
           "773"
          ],
          [
           "774"
          ],
          [
           "775"
          ],
          [
           "776"
          ],
          [
           "778"
          ],
          [
           "778a"
          ],
          [
           "778b"
          ],
          [
           "779"
          ],
          [
           "78"
          ],
          [
           "780"
          ],
          [
           "781"
          ],
          [
           "782"
          ],
          [
           "783"
          ],
          [
           "784"
          ],
          [
           "784a"
          ],
          [
           "785"
          ],
          [
           "786"
          ],
          [
           "788"
          ],
          [
           "789"
          ],
          [
           "78a"
          ],
          [
           "78b"
          ],
          [
           "78c"
          ],
          [
           "78d"
          ],
          [
           "79"
          ],
          [
           "790"
          ],
          [
           "791"
          ],
          [
           "792"
          ],
          [
           "792a"
          ],
          [
           "792b"
          ],
          [
           "792c"
          ],
          [
           "793"
          ],
          [
           "794"
          ],
          [
           "795"
          ],
          [
           "795a"
          ],
          [
           "796"
          ],
          [
           "797"
          ],
          [
           "798"
          ],
          [
           "8"
          ],
          [
           "80"
          ],
          [
           "800"
          ],
          [
           "801"
          ],
          [
           "802"
          ],
          [
           "803"
          ],
          [
           "804"
          ],
          [
           "805"
          ],
          [
           "806"
          ],
          [
           "807"
          ],
          [
           "808"
          ],
          [
           "809"
          ],
          [
           "81"
          ],
          [
           "810"
          ],
          [
           "811"
          ],
          [
           "812"
          ],
          [
           "813"
          ],
          [
           "813a"
          ],
          [
           "813b"
          ],
          [
           "814"
          ],
          [
           "815"
          ],
          [
           "815a"
          ],
          [
           "816"
          ],
          [
           "817"
          ],
          [
           "818"
          ],
          [
           "819"
          ],
          [
           "81a"
          ],
          [
           "82"
          ],
          [
           "821"
          ],
          [
           "822"
          ],
          [
           "823"
          ],
          [
           "824"
          ],
          [
           "825"
          ],
          [
           "825a"
          ],
          [
           "826"
          ],
          [
           "827"
          ],
          [
           "828"
          ],
          [
           "829"
          ],
          [
           "829a"
          ],
          [
           "829b"
          ],
          [
           "829c"
          ],
          [
           "829d"
          ],
          [
           "83"
          ],
          [
           "830"
          ],
          [
           "830a"
          ],
          [
           "830b"
          ],
          [
           "830c"
          ],
          [
           "830d"
          ],
          [
           "831"
          ],
          [
           "833"
          ],
          [
           "834"
          ],
          [
           "835"
          ],
          [
           "836"
          ],
          [
           "837"
          ],
          [
           "838"
          ],
          [
           "84"
          ],
          [
           "840"
          ],
          [
           "841"
          ],
          [
           "842"
          ],
          [
           "843"
          ],
          [
           "844"
          ],
          [
           "845"
          ],
          [
           "846"
          ],
          [
           "846a"
          ],
          [
           "847"
          ],
          [
           "848"
          ],
          [
           "849"
          ],
          [
           "85"
          ],
          [
           "850"
          ],
          [
           "851"
          ],
          [
           "852"
          ],
          [
           "853"
          ],
          [
           "853a"
          ],
          [
           "853b"
          ],
          [
           "854"
          ],
          [
           "855"
          ],
          [
           "856"
          ],
          [
           "857"
          ],
          [
           "858"
          ],
          [
           "859"
          ],
          [
           "86"
          ],
          [
           "860"
          ],
          [
           "861"
          ],
          [
           "861a"
          ],
          [
           "863"
          ],
          [
           "864"
          ],
          [
           "866"
          ],
          [
           "867"
          ],
          [
           "869"
          ],
          [
           "86a"
          ],
          [
           "87"
          ],
          [
           "870"
          ],
          [
           "871"
          ],
          [
           "872"
          ],
          [
           "873"
          ],
          [
           "874"
          ],
          [
           "875"
          ],
          [
           "876"
          ],
          [
           "877"
          ],
          [
           "878"
          ],
          [
           "879"
          ],
          [
           "87a"
          ],
          [
           "88"
          ],
          [
           "880"
          ],
          [
           "881"
          ],
          [
           "882"
          ],
          [
           "883"
          ],
          [
           "884"
          ],
          [
           "885"
          ],
          [
           "886"
          ],
          [
           "887"
          ],
          [
           "888"
          ],
          [
           "889"
          ],
          [
           "88a"
          ],
          [
           "88b"
          ],
          [
           "88c"
          ],
          [
           "890"
          ],
          [
           "891"
          ],
          [
           "892"
          ],
          [
           "893"
          ],
          [
           "894"
          ],
          [
           "895"
          ],
          [
           "896"
          ],
          [
           "897"
          ],
          [
           "898"
          ],
          [
           "898a"
          ],
          [
           "898b"
          ],
          [
           "899"
          ],
          [
           "9"
          ],
          [
           "90"
          ],
          [
           "900"
          ],
          [
           "901"
          ],
          [
           "901a"
          ],
          [
           "902"
          ],
          [
           "903"
          ],
          [
           "904"
          ],
          [
           "904a"
          ],
          [
           "905"
          ],
          [
           "906"
          ],
          [
           "907"
          ],
          [
           "908"
          ],
          [
           "909"
          ],
          [
           "91"
          ],
          [
           "910"
          ],
          [
           "911"
          ],
          [
           "912"
          ],
          [
           "913"
          ],
          [
           "914"
          ],
          [
           "915"
          ],
          [
           "916"
          ],
          [
           "917"
          ],
          [
           "918"
          ],
          [
           "919"
          ],
          [
           "92"
          ],
          [
           "920"
          ],
          [
           "921"
          ],
          [
           "921a"
          ],
          [
           "922"
          ],
          [
           "923"
          ],
          [
           "924"
          ],
          [
           "924a"
          ],
          [
           "924b"
          ],
          [
           "925"
          ],
          [
           "926"
          ],
          [
           "927"
          ],
          [
           "928"
          ],
          [
           "929"
          ],
          [
           "92a"
          ],
          [
           "93"
          ],
          [
           "930"
          ],
          [
           "931"
          ],
          [
           "932"
          ],
          [
           "933"
          ],
          [
           "934"
          ],
          [
           "935"
          ],
          [
           "935a"
          ],
          [
           "936"
          ],
          [
           "937"
          ],
          [
           "937a"
          ],
          [
           "938"
          ],
          [
           "939"
          ],
          [
           "940"
          ],
          [
           "941"
          ],
          [
           "942"
          ],
          [
           "943"
          ],
          [
           "944"
          ],
          [
           "944a"
          ],
          [
           "945"
          ],
          [
           "945a"
          ],
          [
           "946"
          ],
          [
           "946a"
          ],
          [
           "947"
          ],
          [
           "948"
          ],
          [
           "949"
          ],
          [
           "95"
          ],
          [
           "950"
          ],
          [
           "951"
          ],
          [
           "952"
          ],
          [
           "953"
          ],
          [
           "954"
          ],
          [
           "955"
          ],
          [
           "956"
          ],
          [
           "957"
          ],
          [
           "958"
          ],
          [
           "959"
          ],
          [
           "959a"
          ],
          [
           "960"
          ],
          [
           "961"
          ],
          [
           "962"
          ],
          [
           "962a"
          ],
          [
           "963"
          ],
          [
           "964"
          ],
          [
           "965"
          ],
          [
           "966"
          ],
          [
           "967"
          ],
          [
           "968"
          ],
          [
           "968b"
          ],
          [
           "969"
          ],
          [
           "97"
          ],
          [
           "970"
          ],
          [
           "971"
          ],
          [
           "972"
          ],
          [
           "973"
          ],
          [
           "974"
          ],
          [
           "975"
          ],
          [
           "976"
          ],
          [
           "977"
          ],
          [
           "978"
          ],
          [
           "979"
          ],
          [
           "98"
          ],
          [
           "981"
          ],
          [
           "982"
          ],
          [
           "983"
          ],
          [
           "984"
          ],
          [
           "985"
          ],
          [
           "986"
          ],
          [
           "987"
          ],
          [
           "988"
          ],
          [
           "989"
          ],
          [
           "990"
          ],
          [
           "991"
          ],
          [
           "992"
          ],
          [
           "993"
          ],
          [
           "993a"
          ],
          [
           "993b"
          ],
          [
           "993c"
          ],
          [
           "994"
          ],
          [
           "995"
          ],
          [
           "996"
          ],
          [
           "997"
          ],
          [
           "998"
          ],
          [
           "999"
          ],
          [
           "9a"
          ],
          [
           "C1"
          ],
          [
           "C10"
          ],
          [
           "C100"
          ],
          [
           "C101"
          ],
          [
           "C104"
          ],
          [
           "C105"
          ],
          [
           "C106"
          ],
          [
           "C107"
          ],
          [
           "C108"
          ],
          [
           "C11"
          ],
          [
           "C110"
          ],
          [
           "C12"
          ],
          [
           "C13"
          ],
          [
           "C14"
          ],
          [
           "C15"
          ],
          [
           "C16"
          ],
          [
           "C17"
          ],
          [
           "C18"
          ],
          [
           "C19"
          ],
          [
           "C2"
          ],
          [
           "C20"
          ],
          [
           "C21"
          ],
          [
           "C22"
          ],
          [
           "C23"
          ],
          [
           "C24"
          ],
          [
           "C25"
          ],
          [
           "C26"
          ],
          [
           "C27"
          ],
          [
           "C28"
          ],
          [
           "C29"
          ],
          [
           "C3"
          ],
          [
           "C30"
          ],
          [
           "C31"
          ],
          [
           "C32"
          ],
          [
           "C33"
          ],
          [
           "C34"
          ],
          [
           "C35"
          ],
          [
           "C36"
          ],
          [
           "C37"
          ],
          [
           "C38"
          ],
          [
           "C39"
          ],
          [
           "C4"
          ],
          [
           "C40"
          ],
          [
           "C41"
          ],
          [
           "C42"
          ],
          [
           "C43"
          ],
          [
           "C44"
          ],
          [
           "C45"
          ],
          [
           "C46"
          ],
          [
           "C47"
          ],
          [
           "C48"
          ],
          [
           "C49"
          ],
          [
           "C5"
          ],
          [
           "C50"
          ],
          [
           "C51"
          ],
          [
           "C52"
          ],
          [
           "C53"
          ],
          [
           "C54"
          ],
          [
           "C55"
          ],
          [
           "C56"
          ],
          [
           "C57"
          ],
          [
           "C58"
          ],
          [
           "C59"
          ],
          [
           "C6"
          ],
          [
           "C60"
          ],
          [
           "C61"
          ],
          [
           "C62"
          ],
          [
           "C63"
          ],
          [
           "C64"
          ],
          [
           "C65"
          ],
          [
           "C66"
          ],
          [
           "C67"
          ],
          [
           "C68"
          ],
          [
           "C69"
          ],
          [
           "C7"
          ],
          [
           "C71"
          ],
          [
           "C72"
          ],
          [
           "C73"
          ],
          [
           "C74"
          ],
          [
           "C75"
          ],
          [
           "C76"
          ],
          [
           "C77"
          ],
          [
           "C78"
          ],
          [
           "C79"
          ],
          [
           "C8"
          ],
          [
           "C80"
          ],
          [
           "C81"
          ],
          [
           "C82"
          ],
          [
           "C83"
          ],
          [
           "C84"
          ],
          [
           "C85"
          ],
          [
           "C86"
          ],
          [
           "C87"
          ],
          [
           "C88"
          ],
          [
           "C89"
          ],
          [
           "C9"
          ],
          [
           "C90"
          ],
          [
           "C91"
          ],
          [
           "C92"
          ],
          [
           "C93"
          ],
          [
           "C94"
          ],
          [
           "C95"
          ],
          [
           "C97"
          ],
          [
           "C98"
          ],
          [
           "C99"
          ],
          [
           "J100"
          ],
          [
           "J1000"
          ],
          [
           "J1002"
          ],
          [
           "J1003"
          ],
          [
           "J1004"
          ],
          [
           "J1005"
          ],
          [
           "J1006"
          ],
          [
           "J1009"
          ],
          [
           "J101"
          ],
          [
           "J1010"
          ],
          [
           "J1011"
          ],
          [
           "J1012"
          ],
          [
           "J1013"
          ],
          [
           "J1014"
          ],
          [
           "J1015"
          ],
          [
           "J1017"
          ],
          [
           "J1018"
          ],
          [
           "J1019"
          ],
          [
           "J102"
          ],
          [
           "J1020"
          ],
          [
           "J1021"
          ],
          [
           "J1022"
          ],
          [
           "J1023"
          ],
          [
           "J1024"
          ],
          [
           "J1025"
          ],
          [
           "J1026"
          ],
          [
           "J1027"
          ],
          [
           "J1028"
          ],
          [
           "J1029"
          ],
          [
           "J103"
          ],
          [
           "J1030"
          ],
          [
           "J1031"
          ],
          [
           "J1032"
          ],
          [
           "J1033"
          ],
          [
           "J1034"
          ],
          [
           "J1035"
          ],
          [
           "J1036"
          ],
          [
           "J1037"
          ],
          [
           "J1039"
          ],
          [
           "J104"
          ],
          [
           "J1040"
          ],
          [
           "J1041"
          ],
          [
           "J1042"
          ],
          [
           "J1043"
          ],
          [
           "J1044"
          ],
          [
           "J1045"
          ],
          [
           "J1046"
          ],
          [
           "J1047"
          ],
          [
           "J1048"
          ],
          [
           "J1049"
          ],
          [
           "J105"
          ],
          [
           "J1050"
          ],
          [
           "J1051"
          ],
          [
           "J1052"
          ],
          [
           "J1053"
          ],
          [
           "J1054"
          ],
          [
           "J1055"
          ],
          [
           "J1056"
          ],
          [
           "J1057"
          ],
          [
           "J1059"
          ],
          [
           "J106"
          ],
          [
           "J1060"
          ],
          [
           "J1061"
          ],
          [
           "J1062"
          ],
          [
           "J1063"
          ],
          [
           "J1064"
          ],
          [
           "J1065"
          ],
          [
           "J1066"
          ],
          [
           "J1067"
          ],
          [
           "J1068"
          ],
          [
           "J1069"
          ],
          [
           "J107"
          ],
          [
           "J1070"
          ],
          [
           "J1071"
          ],
          [
           "J1072"
          ],
          [
           "J1073"
          ],
          [
           "J1074"
          ],
          [
           "J1075"
          ],
          [
           "J1076"
          ],
          [
           "J1077"
          ],
          [
           "J1078"
          ],
          [
           "J1079"
          ],
          [
           "J108"
          ],
          [
           "J1081"
          ],
          [
           "J1082"
          ],
          [
           "J1083"
          ],
          [
           "J1084"
          ],
          [
           "J1085"
          ],
          [
           "J1086"
          ],
          [
           "J1088"
          ],
          [
           "J109"
          ],
          [
           "J1090"
          ],
          [
           "J1091"
          ],
          [
           "J1092"
          ],
          [
           "J1093"
          ],
          [
           "J1094"
          ],
          [
           "J1095"
          ],
          [
           "J1096"
          ],
          [
           "J1097"
          ],
          [
           "J1098"
          ],
          [
           "J1099"
          ],
          [
           "J11"
          ],
          [
           "J110"
          ],
          [
           "J1100"
          ],
          [
           "J1101"
          ],
          [
           "J1102"
          ],
          [
           "J1103"
          ],
          [
           "J1104"
          ],
          [
           "J1105"
          ],
          [
           "J1106"
          ],
          [
           "J1107"
          ],
          [
           "J1108"
          ],
          [
           "J1109"
          ],
          [
           "J111"
          ],
          [
           "J1111"
          ],
          [
           "J1112"
          ],
          [
           "J1113"
          ],
          [
           "J1114"
          ],
          [
           "J1115"
          ],
          [
           "J1116"
          ],
          [
           "J1118"
          ],
          [
           "J1119"
          ],
          [
           "J112"
          ],
          [
           "J1120"
          ],
          [
           "J1121"
          ],
          [
           "J1122"
          ],
          [
           "J1123"
          ],
          [
           "J1124"
          ],
          [
           "J1125"
          ],
          [
           "J1126"
          ],
          [
           "J1127"
          ],
          [
           "J1128"
          ],
          [
           "J1129"
          ],
          [
           "J113"
          ],
          [
           "J1130"
          ],
          [
           "J1131"
          ],
          [
           "J1132"
          ],
          [
           "J1133"
          ],
          [
           "J1134"
          ],
          [
           "J1135"
          ],
          [
           "J1136"
          ],
          [
           "J1137"
          ],
          [
           "J1138"
          ],
          [
           "J1139"
          ],
          [
           "J114"
          ],
          [
           "J1140"
          ],
          [
           "J1141"
          ],
          [
           "J1142"
          ],
          [
           "J1143"
          ],
          [
           "J1144"
          ],
          [
           "J1146"
          ],
          [
           "J1147"
          ],
          [
           "J1148"
          ],
          [
           "J1149"
          ],
          [
           "J115"
          ],
          [
           "J1150"
          ],
          [
           "J1151"
          ],
          [
           "J1152"
          ],
          [
           "J1153"
          ],
          [
           "J1154"
          ],
          [
           "J1155"
          ],
          [
           "J1156"
          ],
          [
           "J1157"
          ],
          [
           "J1158"
          ],
          [
           "J1159"
          ],
          [
           "J116"
          ],
          [
           "J1160"
          ],
          [
           "J1161"
          ],
          [
           "J1162"
          ],
          [
           "J1163"
          ],
          [
           "J1164"
          ],
          [
           "J1165"
          ],
          [
           "J1166"
          ],
          [
           "J1167"
          ],
          [
           "J1168"
          ],
          [
           "J1169"
          ],
          [
           "J117"
          ],
          [
           "J1170"
          ],
          [
           "J1171"
          ],
          [
           "J1172"
          ],
          [
           "J1173"
          ],
          [
           "J1175"
          ],
          [
           "J1176"
          ],
          [
           "J1177"
          ],
          [
           "J1178"
          ],
          [
           "J1179"
          ],
          [
           "J118"
          ],
          [
           "J1180"
          ],
          [
           "J1181"
          ],
          [
           "J1182"
          ],
          [
           "J1183"
          ],
          [
           "J1184"
          ],
          [
           "J1185"
          ],
          [
           "J1186"
          ],
          [
           "J1187"
          ],
          [
           "J1189"
          ],
          [
           "J119"
          ],
          [
           "J1190"
          ],
          [
           "J1191"
          ],
          [
           "J1192"
          ],
          [
           "J1193"
          ],
          [
           "J1194"
          ],
          [
           "J1196"
          ],
          [
           "J1197"
          ],
          [
           "J1198"
          ],
          [
           "J1199"
          ],
          [
           "J12"
          ],
          [
           "J120"
          ],
          [
           "J1200"
          ],
          [
           "J1201"
          ],
          [
           "J1202"
          ],
          [
           "J1203"
          ],
          [
           "J1204"
          ],
          [
           "J1205"
          ],
          [
           "J1206"
          ],
          [
           "J1207"
          ],
          [
           "J1208"
          ],
          [
           "J1209"
          ],
          [
           "J121"
          ],
          [
           "J1210"
          ],
          [
           "J1211"
          ],
          [
           "J1212"
          ],
          [
           "J1213"
          ],
          [
           "J1214"
          ],
          [
           "J1215"
          ],
          [
           "J1216"
          ],
          [
           "J1217"
          ],
          [
           "J1218"
          ],
          [
           "J1219"
          ],
          [
           "J122"
          ],
          [
           "J1220"
          ],
          [
           "J1221"
          ],
          [
           "J1222"
          ],
          [
           "J1223"
          ],
          [
           "J1226"
          ],
          [
           "J1227"
          ],
          [
           "J1228"
          ],
          [
           "J1229"
          ],
          [
           "J123"
          ],
          [
           "J1230"
          ],
          [
           "J1231"
          ],
          [
           "J1232"
          ],
          [
           "J1234"
          ],
          [
           "J1235"
          ],
          [
           "J1236"
          ],
          [
           "J1237"
          ],
          [
           "J1238"
          ],
          [
           "J1239"
          ],
          [
           "J124"
          ],
          [
           "J1240"
          ],
          [
           "J1241"
          ],
          [
           "J1242"
          ],
          [
           "J1243"
          ],
          [
           "J1244"
          ],
          [
           "J1245"
          ],
          [
           "J1246"
          ],
          [
           "J1247"
          ],
          [
           "J1248"
          ],
          [
           "J1249"
          ],
          [
           "J125"
          ],
          [
           "J1250"
          ],
          [
           "J1251"
          ],
          [
           "J1252"
          ],
          [
           "J1253"
          ],
          [
           "J1254"
          ],
          [
           "J1255"
          ],
          [
           "J1256"
          ],
          [
           "J1257"
          ],
          [
           "J1258"
          ],
          [
           "J1259"
          ],
          [
           "J126"
          ],
          [
           "J1260"
          ],
          [
           "J1261"
          ],
          [
           "J1262"
          ],
          [
           "J1263"
          ],
          [
           "J1264"
          ],
          [
           "J1265"
          ],
          [
           "J1266"
          ],
          [
           "J1267"
          ],
          [
           "J1268"
          ],
          [
           "J1269"
          ],
          [
           "J127"
          ],
          [
           "J1270"
          ],
          [
           "J1271"
          ],
          [
           "J1272"
          ],
          [
           "J1273"
          ],
          [
           "J1274"
          ],
          [
           "J1275"
          ],
          [
           "J1277"
          ],
          [
           "J1278"
          ],
          [
           "J1279"
          ],
          [
           "J128"
          ],
          [
           "J1280"
          ],
          [
           "J1282"
          ],
          [
           "J1283"
          ],
          [
           "J1284"
          ],
          [
           "J1285"
          ],
          [
           "J1286"
          ],
          [
           "J1287"
          ],
          [
           "J1288"
          ],
          [
           "J1289"
          ],
          [
           "J129"
          ],
          [
           "J1290"
          ],
          [
           "J1291"
          ],
          [
           "J1292"
          ],
          [
           "J1293"
          ],
          [
           "J1294"
          ],
          [
           "J1295"
          ],
          [
           "J1296"
          ],
          [
           "J1297"
          ],
          [
           "J1298"
          ],
          [
           "J1299"
          ],
          [
           "J13"
          ],
          [
           "J130"
          ],
          [
           "J1300"
          ],
          [
           "J1301"
          ],
          [
           "J1302"
          ],
          [
           "J1303"
          ],
          [
           "J1304"
          ],
          [
           "J1305"
          ],
          [
           "J1307"
          ],
          [
           "J1308"
          ],
          [
           "J1309"
          ],
          [
           "J131"
          ],
          [
           "J1310"
          ],
          [
           "J1312"
          ],
          [
           "J1313"
          ],
          [
           "J1314"
          ],
          [
           "J1315"
          ],
          [
           "J1316"
          ],
          [
           "J1317"
          ],
          [
           "J1319"
          ],
          [
           "J1320"
          ],
          [
           "J1321"
          ],
          [
           "J1322"
          ],
          [
           "J1323"
          ],
          [
           "J1325"
          ],
          [
           "J1326"
          ],
          [
           "J1327"
          ],
          [
           "J1328"
          ],
          [
           "J1329"
          ],
          [
           "J133"
          ],
          [
           "J134"
          ],
          [
           "J135"
          ],
          [
           "J136"
          ],
          [
           "J137"
          ],
          [
           "J138"
          ],
          [
           "J139"
          ],
          [
           "J14"
          ],
          [
           "J140"
          ],
          [
           "J141"
          ],
          [
           "J142"
          ],
          [
           "J143"
          ],
          [
           "J144"
          ],
          [
           "J145"
          ],
          [
           "J146"
          ],
          [
           "J147"
          ],
          [
           "J148"
          ],
          [
           "J149"
          ],
          [
           "J15"
          ],
          [
           "J150"
          ],
          [
           "J151"
          ],
          [
           "J152"
          ],
          [
           "J153"
          ],
          [
           "J154"
          ],
          [
           "J155"
          ],
          [
           "J156"
          ],
          [
           "J157"
          ],
          [
           "J158"
          ],
          [
           "J159"
          ],
          [
           "J16"
          ],
          [
           "J160"
          ],
          [
           "J162"
          ],
          [
           "J163"
          ],
          [
           "J164"
          ],
          [
           "J165"
          ],
          [
           "J166"
          ],
          [
           "J167"
          ],
          [
           "J168"
          ],
          [
           "J169"
          ],
          [
           "J17"
          ],
          [
           "J170"
          ],
          [
           "J171"
          ],
          [
           "J172"
          ],
          [
           "J173"
          ],
          [
           "J174"
          ],
          [
           "J175"
          ],
          [
           "J176"
          ],
          [
           "J177"
          ],
          [
           "J18"
          ],
          [
           "J180"
          ],
          [
           "J181"
          ],
          [
           "J182"
          ],
          [
           "J183"
          ],
          [
           "J184"
          ],
          [
           "J187"
          ],
          [
           "J188"
          ],
          [
           "J189"
          ],
          [
           "J19"
          ],
          [
           "J190"
          ],
          [
           "J191"
          ],
          [
           "J192"
          ],
          [
           "J193"
          ],
          [
           "J194"
          ],
          [
           "J195"
          ],
          [
           "J196"
          ],
          [
           "J197"
          ],
          [
           "J198"
          ],
          [
           "J2"
          ],
          [
           "J20"
          ],
          [
           "J201"
          ],
          [
           "J202"
          ],
          [
           "J203"
          ],
          [
           "J206"
          ],
          [
           "J207"
          ],
          [
           "J208"
          ],
          [
           "J209"
          ],
          [
           "J21"
          ],
          [
           "J211"
          ],
          [
           "J212"
          ],
          [
           "J213"
          ],
          [
           "J214"
          ],
          [
           "J215"
          ],
          [
           "J216"
          ],
          [
           "J217"
          ],
          [
           "J219"
          ],
          [
           "J22"
          ],
          [
           "J220"
          ],
          [
           "J221"
          ],
          [
           "J222"
          ],
          [
           "J223"
          ],
          [
           "J224"
          ],
          [
           "J225"
          ],
          [
           "J226"
          ],
          [
           "J227"
          ],
          [
           "J228"
          ],
          [
           "J229"
          ],
          [
           "J23"
          ],
          [
           "J230"
          ],
          [
           "J231"
          ],
          [
           "J232"
          ],
          [
           "J235"
          ],
          [
           "J236"
          ],
          [
           "J237"
          ],
          [
           "J238"
          ],
          [
           "J239"
          ],
          [
           "J24"
          ],
          [
           "J240"
          ],
          [
           "J242"
          ],
          [
           "J243"
          ],
          [
           "J244"
          ],
          [
           "J245"
          ],
          [
           "J246"
          ],
          [
           "J247"
          ],
          [
           "J248"
          ],
          [
           "J25"
          ],
          [
           "J250"
          ],
          [
           "J251"
          ],
          [
           "J252"
          ],
          [
           "J253"
          ],
          [
           "J254"
          ],
          [
           "J255"
          ],
          [
           "J257"
          ],
          [
           "J258"
          ],
          [
           "J259"
          ],
          [
           "J26"
          ],
          [
           "J263"
          ],
          [
           "J264"
          ],
          [
           "J265"
          ],
          [
           "J266"
          ],
          [
           "J267"
          ],
          [
           "J268"
          ],
          [
           "J27"
          ],
          [
           "J270"
          ],
          [
           "J271"
          ],
          [
           "J272"
          ],
          [
           "J273"
          ],
          [
           "J274"
          ],
          [
           "J275"
          ],
          [
           "J276"
          ],
          [
           "J277"
          ],
          [
           "J278"
          ],
          [
           "J279"
          ],
          [
           "J28"
          ],
          [
           "J280"
          ],
          [
           "J281"
          ],
          [
           "J283"
          ],
          [
           "J284"
          ],
          [
           "J285"
          ],
          [
           "J287"
          ],
          [
           "J288"
          ],
          [
           "J289"
          ],
          [
           "J29"
          ],
          [
           "J290"
          ],
          [
           "J291"
          ],
          [
           "J292"
          ],
          [
           "J293"
          ],
          [
           "J294"
          ],
          [
           "J295"
          ],
          [
           "J296"
          ],
          [
           "J298"
          ],
          [
           "J299"
          ],
          [
           "J30"
          ],
          [
           "J300"
          ],
          [
           "J301"
          ],
          [
           "J302"
          ],
          [
           "J303"
          ],
          [
           "J304"
          ],
          [
           "J306"
          ],
          [
           "J307"
          ],
          [
           "J308"
          ],
          [
           "J31"
          ],
          [
           "J310"
          ],
          [
           "J314"
          ],
          [
           "J315"
          ],
          [
           "J316"
          ]
         ],
         "hovertemplate": "Component 12=%{x}<br>Component 32=%{y}<br>media_id=%{customdata[0]}<br>Cluster=%{marker.color}<extra></extra>",
         "legendgroup": "",
         "marker": {
          "color": [
           18,
           11,
           2,
           135,
           134,
           54,
           128,
           18,
           47,
           130,
           140,
           34,
           4,
           7,
           42,
           103,
           4,
           141,
           66,
           3,
           96,
           84,
           111,
           125,
           99,
           49,
           144,
           47,
           27,
           109,
           12,
           112,
           12,
           134,
           56,
           127,
           121,
           105,
           71,
           32,
           49,
           23,
           4,
           103,
           84,
           5,
           10,
           104,
           62,
           69,
           18,
           88,
           46,
           32,
           113,
           5,
           122,
           127,
           114,
           107,
           31,
           22,
           35,
           119,
           130,
           104,
           109,
           5,
           8,
           77,
           46,
           27,
           22,
           41,
           7,
           15,
           62,
           140,
           34,
           35,
           92,
           41,
           64,
           123,
           25,
           60,
           89,
           126,
           5,
           45,
           1,
           23,
           52,
           104,
           134,
           51,
           3,
           7,
           36,
           42,
           33,
           85,
           46,
           53,
           121,
           37,
           33,
           108,
           85,
           4,
           125,
           18,
           18,
           24,
           62,
           34,
           0,
           50,
           141,
           76,
           36,
           59,
           122,
           112,
           42,
           3,
           15,
           97,
           21,
           41,
           33,
           84,
           143,
           21,
           52,
           124,
           142,
           67,
           144,
           59,
           45,
           5,
           54,
           69,
           145,
           48,
           142,
           64,
           133,
           1,
           44,
           48,
           80,
           103,
           87,
           72,
           39,
           149,
           148,
           37,
           18,
           6,
           124,
           2,
           21,
           54,
           79,
           134,
           96,
           23,
           67,
           32,
           98,
           69,
           133,
           25,
           9,
           111,
           42,
           96,
           106,
           86,
           37,
           113,
           57,
           37,
           34,
           46,
           35,
           15,
           53,
           103,
           21,
           81,
           14,
           65,
           71,
           34,
           108,
           124,
           141,
           75,
           56,
           132,
           88,
           89,
           32,
           50,
           4,
           77,
           85,
           54,
           67,
           126,
           113,
           15,
           124,
           34,
           133,
           80,
           113,
           126,
           85,
           21,
           42,
           50,
           124,
           6,
           63,
           52,
           108,
           127,
           23,
           68,
           39,
           57,
           107,
           77,
           57,
           80,
           141,
           62,
           90,
           4,
           111,
           117,
           119,
           104,
           132,
           18,
           132,
           143,
           57,
           64,
           18,
           141,
           59,
           133,
           15,
           46,
           125,
           33,
           31,
           32,
           41,
           63,
           13,
           144,
           18,
           132,
           48,
           24,
           144,
           84,
           62,
           131,
           89,
           80,
           88,
           53,
           38,
           18,
           46,
           76,
           0,
           36,
           3,
           96,
           84,
           116,
           18,
           18,
           107,
           4,
           121,
           80,
           15,
           49,
           115,
           7,
           65,
           63,
           49,
           99,
           103,
           147,
           38,
           32,
           59,
           46,
           13,
           20,
           60,
           95,
           10,
           21,
           4,
           124,
           44,
           103,
           148,
           15,
           104,
           9,
           27,
           23,
           40,
           101,
           46,
           37,
           143,
           3,
           62,
           61,
           96,
           22,
           4,
           15,
           15,
           104,
           5,
           124,
           5,
           92,
           147,
           5,
           132,
           28,
           134,
           75,
           83,
           21,
           109,
           7,
           7,
           27,
           7,
           15,
           115,
           111,
           149,
           132,
           113,
           2,
           87,
           88,
           117,
           15,
           89,
           77,
           48,
           129,
           130,
           4,
           104,
           144,
           64,
           89,
           19,
           88,
           142,
           39,
           119,
           33,
           34,
           31,
           44,
           3,
           23,
           77,
           146,
           124,
           62,
           3,
           61,
           143,
           141,
           111,
           113,
           111,
           141,
           9,
           95,
           115,
           15,
           9,
           105,
           112,
           57,
           27,
           127,
           7,
           5,
           23,
           23,
           4,
           20,
           23,
           105,
           10,
           73,
           39,
           21,
           129,
           64,
           84,
           25,
           107,
           37,
           5,
           23,
           31,
           72,
           9,
           32,
           132,
           107,
           117,
           15,
           4,
           135,
           33,
           75,
           70,
           112,
           4,
           44,
           4,
           69,
           27,
           111,
           66,
           5,
           114,
           19,
           1,
           107,
           113,
           10,
           42,
           104,
           57,
           72,
           5,
           31,
           133,
           10,
           23,
           1,
           24,
           50,
           103,
           124,
           21,
           44,
           76,
           45,
           120,
           129,
           2,
           13,
           125,
           83,
           124,
           33,
           11,
           122,
           76,
           8,
           4,
           10,
           121,
           15,
           11,
           51,
           117,
           44,
           76,
           4,
           50,
           124,
           63,
           33,
           76,
           33,
           94,
           53,
           82,
           4,
           84,
           7,
           19,
           12,
           88,
           22,
           85,
           61,
           106,
           57,
           49,
           15,
           4,
           76,
           89,
           131,
           5,
           133,
           9,
           21,
           37,
           142,
           84,
           23,
           68,
           84,
           76,
           106,
           141,
           5,
           49,
           104,
           4,
           43,
           86,
           3,
           64,
           9,
           60,
           121,
           38,
           3,
           84,
           40,
           81,
           76,
           35,
           132,
           124,
           122,
           77,
           44,
           44,
           18,
           63,
           105,
           7,
           39,
           140,
           18,
           4,
           108,
           104,
           34,
           1,
           124,
           84,
           44,
           72,
           84,
           123,
           34,
           33,
           57,
           117,
           108,
           55,
           85,
           96,
           80,
           34,
           92,
           77,
           131,
           54,
           4,
           6,
           87,
           2,
           63,
           39,
           15,
           135,
           32,
           142,
           21,
           25,
           12,
           67,
           85,
           127,
           4,
           21,
           133,
           141,
           18,
           53,
           45,
           21,
           32,
           63,
           23,
           33,
           72,
           87,
           124,
           27,
           140,
           59,
           21,
           18,
           9,
           135,
           109,
           38,
           84,
           4,
           12,
           121,
           126,
           39,
           7,
           128,
           4,
           105,
           49,
           15,
           141,
           3,
           87,
           55,
           18,
           1,
           5,
           132,
           131,
           68,
           15,
           4,
           127,
           92,
           30,
           141,
           27,
           145,
           4,
           28,
           72,
           5,
           4,
           73,
           27,
           50,
           32,
           122,
           73,
           80,
           144,
           60,
           2,
           127,
           1,
           1,
           89,
           11,
           135,
           68,
           6,
           37,
           83,
           3,
           36,
           23,
           40,
           65,
           33,
           38,
           91,
           101,
           76,
           38,
           8,
           97,
           3,
           45,
           48,
           40,
           68,
           59,
           77,
           127,
           18,
           32,
           7,
           44,
           115,
           126,
           122,
           54,
           51,
           117,
           104,
           86,
           138,
           139,
           15,
           78,
           12,
           132,
           37,
           3,
           5,
           26,
           45,
           36,
           104,
           96,
           133,
           53,
           143,
           42,
           1,
           127,
           76,
           38,
           72,
           45,
           133,
           113,
           140,
           84,
           74,
           72,
           46,
           143,
           24,
           44,
           141,
           21,
           49,
           103,
           126,
           43,
           69,
           103,
           96,
           104,
           113,
           96,
           42,
           94,
           73,
           111,
           92,
           92,
           50,
           135,
           132,
           110,
           142,
           121,
           83,
           74,
           111,
           9,
           139,
           118,
           26,
           84,
           11,
           18,
           45,
           113,
           67,
           28,
           69,
           96,
           110,
           145,
           40,
           144,
           2,
           74,
           127,
           1,
           72,
           45,
           134,
           43,
           0,
           12,
           135,
           51,
           41,
           68,
           3,
           38,
           15,
           109,
           66,
           50,
           107,
           121,
           135,
           39,
           39,
           5,
           5,
           4,
           143,
           9,
           65,
           141,
           41,
           18,
           38,
           48,
           80,
           56,
           79,
           7,
           39,
           17,
           70,
           36,
           127,
           48,
           42,
           73,
           133,
           61,
           111,
           15,
           3,
           38,
           15,
           3,
           124,
           40,
           68,
           81,
           145,
           121,
           45,
           53,
           42,
           10,
           127,
           1,
           7,
           50,
           27,
           64,
           36,
           148,
           126,
           109,
           4,
           9,
           77,
           97,
           89,
           107,
           15,
           34,
           22,
           11,
           148,
           68,
           79,
           56,
           109,
           121,
           124,
           96,
           103,
           84,
           104,
           119,
           121,
           18,
           93,
           79,
           110,
           4,
           45,
           113,
           21,
           3,
           44,
           49,
           90,
           33,
           123,
           75,
           0,
           77,
           50,
           117,
           27,
           132,
           42,
           57,
           2,
           105,
           96,
           55,
           126,
           127,
           124,
           44,
           7,
           3,
           7,
           46,
           110,
           23,
           138,
           21,
           52,
           49,
           40,
           14,
           127,
           89,
           145,
           39,
           127,
           33,
           73,
           124,
           4,
           76,
           128,
           32,
           27,
           119,
           33,
           49,
           111,
           84,
           47,
           44,
           24,
           62,
           44,
           61,
           9,
           46,
           34,
           85,
           109,
           2,
           32,
           23,
           120,
           96,
           99,
           86,
           32,
           141,
           76,
           144,
           142,
           86,
           2,
           104,
           58,
           63,
           18,
           67,
           10,
           104,
           107,
           18,
           34,
           51,
           105,
           4,
           5,
           75,
           31,
           141,
           144,
           57,
           135,
           7,
           49,
           128,
           99,
           84,
           25,
           27,
           111,
           84,
           130,
           31,
           115,
           125,
           21,
           37,
           101,
           59,
           133,
           76,
           27,
           124,
           4,
           27,
           66,
           141,
           7,
           89,
           63,
           127,
           30,
           76,
           125,
           133,
           84,
           96,
           124,
           3,
           1,
           40,
           43,
           82,
           39,
           122,
           38,
           104,
           5,
           60,
           42,
           49,
           108,
           141,
           134,
           109,
           112,
           44,
           148,
           84,
           15,
           115,
           39,
           32,
           79,
           115,
           104,
           77,
           23,
           84,
           15,
           122,
           67,
           3,
           21,
           62,
           126,
           141,
           1,
           131,
           135,
           82,
           9,
           31,
           111,
           15,
           44,
           127,
           141,
           34,
           56,
           33,
           46,
           74,
           80,
           36,
           97,
           7,
           132,
           64,
           22,
           124,
           46,
           45,
           75,
           89,
           145,
           28,
           27,
           85,
           147,
           23,
           96,
           11,
           7,
           1,
           131,
           4,
           75,
           135,
           4,
           74,
           1,
           127,
           84,
           23,
           39,
           62,
           66,
           9,
           84,
           42,
           5,
           89,
           62,
           47,
           84,
           28,
           113,
           27,
           9,
           2,
           18,
           33,
           86,
           133,
           104,
           20,
           42,
           3,
           48,
           80,
           133,
           53,
           128,
           38,
           49,
           36,
           48,
           32,
           141,
           16,
           127,
           27,
           135,
           141,
           96,
           5,
           95,
           2,
           124,
           32,
           40,
           96,
           66,
           108,
           21,
           18,
           132,
           120,
           33,
           15,
           115,
           56,
           5,
           111,
           43,
           28,
           22,
           44,
           15,
           132,
           10,
           88,
           77,
           140,
           49,
           27,
           66,
           20,
           121,
           18,
           85,
           59,
           129,
           18,
           41,
           21,
           28,
           32,
           9,
           7,
           141,
           23,
           5,
           63,
           32,
           5,
           113,
           133,
           8,
           33,
           21,
           42,
           30,
           49,
           62,
           37,
           61,
           10,
           50,
           5,
           141,
           140,
           83,
           85,
           148,
           105,
           2,
           148,
           117,
           50,
           84,
           30,
           89,
           45,
           45,
           126,
           105,
           7,
           124,
           53,
           101,
           15,
           4,
           27,
           46,
           46,
           76,
           120,
           105,
           21,
           67,
           20,
           4,
           64,
           54,
           34,
           34,
           107,
           76,
           75,
           75,
           141,
           122,
           113,
           32,
           4,
           3,
           39,
           8,
           32,
           27,
           22,
           39,
           149,
           55,
           15,
           80,
           14,
           40,
           8,
           101,
           62,
           62,
           111,
           106,
           31,
           148,
           53,
           45,
           15,
           127,
           99,
           138,
           103,
           64,
           38,
           46,
           107,
           84,
           35,
           58,
           46,
           138,
           86,
           33,
           7,
           89,
           34,
           104,
           44,
           15,
           39,
           113,
           31,
           133,
           3,
           111,
           43,
           32,
           145,
           62,
           44,
           122,
           41,
           41,
           31,
           108,
           47,
           104,
           126,
           124,
           96,
           1,
           67,
           121,
           2,
           63,
           104,
           2,
           75,
           104,
           99,
           22,
           5,
           24,
           104,
           56,
           142,
           54,
           5,
           133,
           40,
           5,
           34,
           139,
           2,
           105,
           71,
           80,
           93,
           117,
           34,
           96,
           28,
           138,
           34,
           135,
           74,
           32,
           67,
           81,
           48,
           27,
           96,
           34,
           57,
           127,
           0,
           54,
           62,
           124,
           2,
           16,
           33,
           46,
           11,
           42,
           141,
           104,
           60,
           143,
           141,
           104,
           72,
           1,
           34,
           128,
           7,
           44,
           44,
           140,
           81,
           3,
           45,
           23,
           4,
           141,
           1,
           78,
           138,
           91,
           13,
           67,
           64,
           11,
           27,
           41,
           4,
           71,
           20,
           22,
           4,
           14,
           124,
           89,
           121,
           62,
           139,
           44,
           146,
           15,
           104,
           143,
           15,
           95,
           71,
           110,
           103,
           23,
           88,
           104,
           96,
           15,
           109,
           86,
           132,
           2,
           100,
           39,
           13,
           104,
           3,
           84,
           100,
           94,
           65,
           141,
           84,
           5,
           66,
           38,
           88,
           15,
           111,
           76,
           18,
           56,
           40,
           127,
           46,
           127,
           22,
           145,
           127,
           123,
           84,
           77,
           4,
           96,
           67,
           57,
           131,
           21,
           49,
           32,
           34,
           63,
           4,
           1,
           45,
           41,
           2,
           103,
           132,
           84,
           7,
           103,
           132,
           3,
           51,
           46,
           89,
           124,
           32,
           89,
           28,
           128,
           56,
           47,
           44,
           119,
           7,
           33,
           59,
           28,
           127,
           41,
           131,
           56,
           96,
           9,
           73,
           67,
           87,
           33,
           144,
           53,
           4,
           126,
           130,
           148,
           27,
           60,
           46,
           118,
           4,
           11,
           15,
           15,
           77,
           69,
           46,
           44,
           89,
           141,
           18,
           126,
           149,
           71,
           115,
           24,
           17,
           127,
           7,
           9,
           1,
           121,
           49,
           33,
           66,
           38,
           5,
           4,
           24,
           23,
           46,
           124,
           4,
           46,
           9,
           93,
           59,
           134,
           1,
           104,
           46,
           122,
           141,
           15,
           137,
           46,
           0,
           7,
           148,
           54,
           89,
           43,
           67,
           9,
           44,
           46,
           4,
           109,
           60,
           139,
           15,
           18,
           15,
           67,
           34,
           76,
           80,
           49,
           18,
           104,
           47,
           101,
           36,
           39,
           31,
           27,
           104,
           133,
           127,
           26,
           33,
           10,
           18,
           4,
           80,
           47,
           121,
           134,
           48,
           42,
           63,
           111,
           107,
           67,
           148,
           91,
           121,
           61,
           107,
           107,
           48,
           57,
           89,
           84,
           73,
           124,
           45,
           3,
           102,
           28,
           87,
           134,
           92,
           18,
           11,
           79,
           53,
           18,
           122,
           62,
           132,
           96,
           11,
           35,
           69,
           4,
           84,
           132,
           91,
           46,
           67,
           124,
           20,
           54,
           5,
           24,
           125,
           44,
           84,
           32,
           124,
           80,
           46,
           5,
           52,
           49,
           4,
           102,
           4,
           76,
           141,
           15,
           45,
           46,
           51,
           4,
           139,
           46,
           1,
           78,
           36,
           103,
           3,
           138,
           74,
           36,
           22,
           119,
           90,
           45,
           141,
           76,
           40,
           48,
           64,
           7,
           37,
           99,
           4,
           38,
           104,
           111,
           50,
           126,
           96,
           40,
           8,
           66,
           32,
           31,
           41,
           132,
           93,
           66,
           40,
           89,
           36,
           15,
           139,
           25,
           45,
           41,
           84,
           118,
           133,
           7,
           127,
           121,
           33,
           1,
           132,
           76,
           121,
           31,
           77,
           62,
           4,
           104,
           139,
           63,
           14,
           45,
           137,
           52,
           37,
           114,
           140,
           7,
           3,
           65,
           15,
           107,
           28,
           2,
           138,
           10,
           28,
           133,
           21,
           120,
           124,
           60,
           5,
           40,
           78,
           112,
           101,
           84,
           71,
           10,
           4,
           7,
           3,
           115,
           60,
           1,
           36,
           107,
           27,
           89,
           113,
           46,
           21,
           68,
           86,
           143,
           120,
           28,
           19,
           4,
           32,
           135,
           141,
           97,
           141,
           49,
           4,
           34,
           5,
           21,
           1,
           63,
           18,
           148,
           124,
           45,
           137,
           50,
           81,
           7,
           40,
           143,
           56,
           113,
           3,
           127,
           104,
           0,
           18,
           145,
           122,
           84,
           42,
           7,
           7,
           111,
           11,
           75,
           75,
           3,
           5,
           76,
           130,
           111,
           32,
           92,
           131,
           104,
           46,
           111,
           18,
           1,
           71,
           9,
           122,
           3,
           138,
           64,
           120,
           78,
           101,
           127,
           24,
           11,
           103,
           80,
           103,
           11,
           9,
           65,
           14,
           18,
           37,
           28,
           132,
           82,
           99,
           110,
           27,
           124,
           108,
           37,
           85,
           110,
           63,
           21,
           37,
           57,
           137,
           111,
           28,
           9,
           7,
           104,
           49,
           141,
           22,
           27,
           39,
           81,
           49,
           46,
           40,
           59,
           36,
           118,
           65,
           126,
           44,
           9,
           133,
           144,
           2,
           7,
           111,
           72,
           15,
           147,
           84,
           5,
           27,
           73,
           31,
           84,
           45,
           72,
           41,
           15,
           109,
           128,
           84,
           72,
           33,
           76,
           77,
           96,
           48,
           71,
           106,
           127,
           142,
           32,
           107,
           90,
           138,
           1,
           11,
           28,
           5,
           32,
           106,
           137,
           39,
           137,
           144,
           3,
           60,
           5,
           133,
           126,
           25,
           37,
           105,
           136,
           124,
           46,
           121,
           36,
           141,
           29,
           60,
           104,
           141,
           104,
           78,
           130,
           4,
           76,
           139,
           73,
           56,
           61,
           24,
           20,
           133,
           86,
           139,
           134,
           50,
           131,
           140,
           132,
           86,
           15,
           58,
           7,
           49,
           106,
           80,
           41,
           106,
           89,
           42,
           141,
           2,
           21,
           37,
           71,
           111,
           90,
           84,
           24,
           102,
           23,
           124,
           2,
           143,
           103,
           148,
           73,
           55,
           48,
           37,
           32,
           92,
           49,
           7,
           126,
           56,
           135,
           4,
           141,
           2,
           124,
           92,
           38,
           107,
           126,
           113,
           31,
           2,
           100,
           84,
           81,
           130,
           1,
           132,
           15,
           46,
           130,
           11,
           141,
           1,
           27,
           49,
           61,
           10,
           125,
           33,
           25,
           96,
           81,
           89,
           18,
           32,
           126,
           62,
           10,
           75,
           5,
           89,
           124,
           46,
           127,
           141,
           5,
           15,
           55,
           132,
           72,
           101,
           125,
           115,
           89,
           4,
           22,
           143,
           127,
           135,
           96,
           76,
           105,
           121,
           32,
           46,
           34,
           54,
           41,
           46,
           59,
           41,
           117,
           134,
           46,
           44,
           55,
           105,
           141,
           127,
           89,
           7,
           72,
           85,
           35,
           122,
           25,
           27,
           9,
           113,
           111,
           70,
           121,
           40,
           7,
           76,
           22,
           124,
           21,
           144,
           62,
           111,
           3,
           40,
           40,
           49,
           103,
           74,
           84,
           101,
           138,
           61,
           46,
           86,
           50,
           126,
           113,
           66,
           1,
           33,
           118,
           107,
           44,
           4,
           96,
           38,
           73,
           42,
           34,
           132,
           25,
           84,
           84,
           106,
           138,
           149,
           106,
           12,
           132,
           25,
           3,
           41,
           113,
           120,
           39,
           21,
           4,
           31,
           96,
           76,
           123,
           2,
           44,
           63,
           4,
           97,
           113,
           117,
           67,
           44,
           107,
           18,
           126,
           86,
           20,
           71,
           133,
           103,
           113,
           83,
           46,
           69,
           80,
           62,
           71,
           128,
           1,
           132,
           69,
           9,
           63,
           63,
           75,
           41,
           127,
           135,
           27,
           64,
           126,
           4,
           44,
           84,
           141,
           45,
           80,
           58,
           36,
           64,
           41,
           91,
           57,
           144,
           90,
           137,
           5,
           84,
           96,
           138,
           49,
           81,
           74,
           9,
           69,
           128,
           23,
           64,
           90,
           104,
           136,
           27,
           26,
           12,
           23,
           18,
           124,
           84,
           36,
           147,
           31,
           55,
           24,
           46,
           56,
           5,
           126,
           5,
           23,
           46,
           133,
           80,
           77,
           96,
           49,
           105,
           65,
           96,
           15,
           4,
           57,
           15,
           31,
           4,
           22,
           23,
           19,
           131,
           73,
           96,
           111,
           127,
           124,
           40,
           128,
           48,
           12,
           18,
           109,
           87,
           80,
           22,
           104,
           46,
           22,
           46,
           14,
           124,
           58,
           33,
           18,
           43,
           67,
           107,
           79,
           89,
           64,
           122,
           4,
           61,
           50,
           135,
           77,
           2,
           39,
           20,
           121,
           21,
           107,
           34,
           41,
           53,
           31,
           14,
           4,
           84,
           45,
           108,
           66,
           73,
           141,
           113,
           22,
           1,
           25,
           4,
           21,
           16,
           126,
           57,
           35,
           143,
           104,
           37,
           139,
           37,
           21,
           49,
           84,
           135,
           25,
           143,
           132,
           29,
           126,
           121,
           25,
           1,
           3,
           129,
           20,
           36,
           105,
           128,
           128,
           133,
           135,
           134,
           41,
           24,
           28,
           45,
           50,
           3,
           31,
           11,
           109,
           5,
           63,
           74,
           55,
           81,
           111,
           124,
           112,
           143,
           67,
           28,
           34,
           122,
           111,
           42,
           87,
           75,
           142,
           45,
           80,
           54,
           2,
           46,
           76,
           84,
           106,
           40,
           18,
           4,
           126,
           140,
           107,
           2,
           1,
           80,
           4,
           28,
           84,
           117,
           82,
           84,
           9,
           9,
           13,
           2,
           146,
           141,
           24,
           115,
           50,
           127,
           110,
           49,
           10,
           22,
           132,
           22,
           80,
           143,
           52,
           121,
           18,
           46,
           63,
           110,
           13,
           27,
           34,
           15,
           106,
           124,
           32,
           62,
           42,
           64,
           7,
           96,
           103,
           104,
           4,
           96,
           24,
           124,
           3,
           31,
           80,
           59,
           101,
           126,
           95,
           113,
           111,
           104,
           63,
           2,
           84,
           21,
           103,
           88,
           96,
           54,
           56,
           103,
           5
          ],
          "coloraxis": "coloraxis",
          "opacity": 0.3,
          "symbol": "circle"
         },
         "mode": "markers",
         "name": "",
         "showlegend": false,
         "type": "scattergl",
         "x": [
          8.964055061340332,
          8.900190353393555,
          9.78547477722168,
          9.157915115356445,
          9.433551788330078,
          9.640318870544434,
          9.41684341430664,
          8.898921966552734,
          9.362129211425781,
          9.294304847717285,
          9.271890640258789,
          9.963385581970215,
          8.760191917419434,
          8.734016418457031,
          9.175164222717285,
          9.269732475280762,
          8.762136459350586,
          9.41595458984375,
          7.329709529876709,
          8.467549324035645,
          10.104936599731445,
          9.838482856750488,
          7.140012264251709,
          9.339614868164062,
          9.351031303405762,
          9.25743579864502,
          9.152990341186523,
          9.362131118774414,
          9.125936508178711,
          9.310945510864258,
          9.21159553527832,
          9.472702980041504,
          9.211363792419434,
          9.416350364685059,
          9.202849388122559,
          9.451638221740723,
          9.23426628112793,
          9.276603698730469,
          9.515181541442871,
          9.366632461547852,
          9.235015869140625,
          9.506534576416016,
          8.758170127868652,
          9.260834693908691,
          9.76761245727539,
          9.486530303955078,
          8.789525985717773,
          9.031869888305664,
          8.578022003173828,
          8.290088653564453,
          8.992558479309082,
          9.193771362304688,
          9.21345043182373,
          9.372855186462402,
          9.23950481414795,
          9.477729797363281,
          8.596495628356934,
          9.38387680053711,
          9.180488586425781,
          7.4120635986328125,
          8.500171661376953,
          9.42798137664795,
          9.122560501098633,
          9.394222259521484,
          9.302627563476562,
          9.016014099121094,
          9.253702163696289,
          9.460746765136719,
          9.332015037536621,
          9.196669578552246,
          9.20954704284668,
          9.095017433166504,
          9.295361518859863,
          9.178009033203125,
          8.748157501220703,
          9.15170955657959,
          8.556305885314941,
          9.351147651672363,
          9.994579315185547,
          9.084792137145996,
          9.44613265991211,
          9.151751518249512,
          9.323043823242188,
          9.048874855041504,
          9.442647933959961,
          9.256230354309082,
          9.218327522277832,
          9.172487258911133,
          9.451831817626953,
          8.959717750549316,
          9.409919738769531,
          9.510100364685059,
          9.402684211730957,
          9.046224594116211,
          9.412949562072754,
          8.94118881225586,
          8.482584953308105,
          8.803485870361328,
          9.461770057678223,
          9.212397575378418,
          9.19345760345459,
          9.18644905090332,
          9.22551441192627,
          9.033071517944336,
          9.244770050048828,
          9.779139518737793,
          9.189298629760742,
          9.316619873046875,
          9.184746742248535,
          8.758918762207031,
          9.21809196472168,
          8.884783744812012,
          8.886054992675781,
          9.383330345153809,
          8.550729751586914,
          9.96927261352539,
          9.187531471252441,
          7.274680137634277,
          9.405710220336914,
          9.160158157348633,
          9.426151275634766,
          9.304689407348633,
          8.638331413269043,
          9.39260196685791,
          9.198189735412598,
          8.447832107543945,
          8.931671142578125,
          9.936586380004883,
          9.353913307189941,
          9.215577125549316,
          9.185096740722656,
          9.777007102966309,
          9.263041496276855,
          9.336941719055176,
          9.466392517089844,
          8.836018562316895,
          9.242608070373535,
          9.21430492401123,
          9.17091178894043,
          9.27591323852539,
          8.97652816772461,
          9.502745628356934,
          9.649949073791504,
          8.370610237121582,
          9.151371002197266,
          9.076679229736328,
          9.272347450256348,
          9.279105186462402,
          9.704928398132324,
          9.369157791137695,
          8.97549819946289,
          9.155394554138184,
          9.410944938659668,
          9.362419128417969,
          9.096452713012695,
          9.264556884765625,
          9.124712944030762,
          9.265372276306152,
          9.494010925292969,
          9.76578426361084,
          8.887242317199707,
          7.237877368927002,
          8.825105667114258,
          9.818828582763672,
          9.3496675491333,
          9.558733940124512,
          9.269871711730957,
          9.385597229003906,
          10.087306022644043,
          9.502808570861816,
          9.207014083862305,
          9.393399238586426,
          9.137163162231445,
          8.27504825592041,
          9.724702835083008,
          9.535101890563965,
          9.520822525024414,
          7.1234235763549805,
          9.205739974975586,
          10.055350303649902,
          9.298608779907227,
          9.301365852355957,
          9.745548248291016,
          9.208306312561035,
          9.15174388885498,
          9.762662887573242,
          9.98212718963623,
          9.151785850524902,
          9.083995819091797,
          9.022679328918457,
          9.042121887207031,
          9.245386123657227,
          9.351625442504883,
          9.05878734588623,
          8.133355140686035,
          9.345974922180176,
          9.48616886138916,
          9.990242958068848,
          9.302294731140137,
          8.835774421691895,
          9.441370010375977,
          9.531826972961426,
          9.221880912780762,
          9.330244064331055,
          9.242364883422852,
          9.16698932647705,
          9.369179725646973,
          7.265666484832764,
          8.75648021697998,
          9.062979698181152,
          9.182394981384277,
          9.669150352478027,
          9.205777168273926,
          9.158514976501465,
          9.160161018371582,
          9.022235870361328,
          8.831808090209961,
          10.018720626831055,
          9.625288009643555,
          9.414070129394531,
          9.241037368774414,
          9.180858612060547,
          9.187943458557129,
          9.355993270874023,
          9.221132278442383,
          7.234446048736572,
          8.83510971069336,
          7.216376781463623,
          9.285209655761719,
          9.40194320678711,
          9.305728912353516,
          9.415846824645996,
          9.50339126586914,
          9.323707580566406,
          9.14628791809082,
          9.162429809570312,
          7.294127464294434,
          9.206583976745605,
          9.143579483032227,
          9.410086631774902,
          9.362548828125,
          8.570804595947266,
          9.080179214477539,
          8.759384155273438,
          7.135288238525391,
          9.31672191619873,
          9.395441055297852,
          9.030130386352539,
          9.310375213623047,
          9.029159545898438,
          9.32459545135498,
          9.257719993591309,
          9.143224716186523,
          9.313736915588379,
          8.888984680175781,
          9.389341354370117,
          9.277139663696289,
          9.654281616210938,
          9.016488075256348,
          9.202984809875488,
          9.2829008102417,
          9.175191879272461,
          8.48718547821045,
          9.366789817810059,
          9.235262870788574,
          9.290188789367676,
          8.592143058776855,
          9.176311492919922,
          8.901215553283691,
          9.3046875,
          9.175374984741211,
          9.390713691711426,
          9.168498039245605,
          9.786625862121582,
          8.604971885681152,
          9.794190406799316,
          9.176541328430176,
          9.48694896697998,
          9.201471328735352,
          9.030988693237305,
          8.344240188598633,
          8.8948974609375,
          9.166834831237793,
          9.157041549682617,
          9.170968055725098,
          9.459086418151855,
          8.489187240600586,
          10.104410171508789,
          9.850896835327148,
          8.73331069946289,
          8.880209922790527,
          8.912142753601074,
          7.327509880065918,
          8.752490997314453,
          9.247832298278809,
          9.41808032989502,
          8.838406562805176,
          9.259190559387207,
          8.785223960876465,
          8.805338859558105,
          9.343851089477539,
          9.284195899963379,
          9.274665832519531,
          9.352267265319824,
          9.266009330749512,
          8.994987487792969,
          8.24229621887207,
          9.33099365234375,
          9.280290603637695,
          9.208854675292969,
          8.592065811157227,
          9.31775188446045,
          9.25280475616455,
          9.26651382446289,
          8.777040481567383,
          9.351179122924805,
          8.760075569152832,
          8.871943473815918,
          8.985218048095703,
          9.25309944152832,
          9.4889497756958,
          9.102873802185059,
          8.97940444946289,
          9.542047500610352,
          9.096220970153809,
          9.54616641998291,
          9.713571548461914,
          9.584650993347168,
          9.208915710449219,
          9.761428833007812,
          9.264032363891602,
          8.435542106628418,
          8.55949878692627,
          9.134664535522461,
          10.078025817871094,
          9.447464942932129,
          8.75986099243164,
          9.033867835998535,
          8.992012023925781,
          9.02865219116211,
          9.526198387145996,
          8.789846420288086,
          9.448702812194824,
          9.435399055480957,
          9.011086463928223,
          9.479125022888184,
          9.319692611694336,
          9.469109535217285,
          9.43397331237793,
          9.4783935546875,
          8.52999210357666,
          9.353713989257812,
          9.252008438110352,
          8.79914665222168,
          8.797761917114258,
          9.108970642089844,
          8.809452056884766,
          9.052495002746582,
          8.872164726257324,
          7.140566349029541,
          9.267850875854492,
          9.311248779296875,
          9.237109184265137,
          9.897144317626953,
          9.117267608642578,
          9.233492851257324,
          9.342233657836914,
          8.993728637695312,
          9.205726623535156,
          9.226177215576172,
          9.174607276916504,
          8.965031623840332,
          9.305829048156738,
          8.75818920135498,
          9.027551651000977,
          9.156618118286133,
          9.160067558288574,
          9.202200889587402,
          8.364831924438477,
          9.192401885986328,
          9.183661460876465,
          9.097328186035156,
          9.39486026763916,
          9.189314842224121,
          9.9956636428833,
          8.495038986206055,
          8.966824531555176,
          8.38508415222168,
          9.508004188537598,
          9.04604434967041,
          9.463679313659668,
          8.841453552246094,
          8.601235389709473,
          8.474064826965332,
          9.166219711303711,
          9.266463279724121,
          9.390981674194336,
          7.111288070678711,
          9.231447219848633,
          7.124844551086426,
          9.459988594055176,
          9.437896728515625,
          9.261584281921387,
          8.833266258239746,
          9.01174545288086,
          9.431563377380371,
          9.277803421020508,
          9.464188575744629,
          9.172423362731934,
          9.113470077514648,
          9.44642448425293,
          8.799894332885742,
          9.544684410095215,
          9.557781219482422,
          9.483193397521973,
          8.759415626525879,
          9.317769050598145,
          9.500502586364746,
          9.253246307373047,
          8.841255187988281,
          9.124424934387207,
          9.11762523651123,
          9.372482299804688,
          8.98853874206543,
          9.125042915344238,
          9.79975700378418,
          9.483884811401367,
          7.351349353790283,
          9.76209831237793,
          9.511548042297363,
          9.544026374816895,
          8.465474128723145,
          9.258535385131836,
          9.54266357421875,
          9.38862419128418,
          9.300548553466797,
          7.351268768310547,
          9.375105857849121,
          9.027748107910156,
          8.75145149230957,
          9.15696907043457,
          9.188861846923828,
          9.518338203430176,
          9.201817512512207,
          9.471113204956055,
          8.767801284790039,
          8.980036735534668,
          8.754986763000488,
          8.35043716430664,
          9.116853713989258,
          7.1446099281311035,
          7.298840045928955,
          9.484943389892578,
          9.177568435668945,
          8.364764213562012,
          9.401651382446289,
          7.339282989501953,
          9.233488082885742,
          8.842389106750488,
          9.228914260864258,
          9.047800064086914,
          9.150521278381348,
          9.261159896850586,
          9.494965553283691,
          8.496732711791992,
          9.717567443847656,
          8.84235668182373,
          9.519948959350586,
          9.399859428405762,
          9.395487785339355,
          7.23874568939209,
          9.262344360351562,
          8.836243629455566,
          9.355658531188965,
          8.978200912475586,
          9.159006118774414,
          8.962200164794922,
          9.254725456237793,
          9.000384330749512,
          9.70748233795166,
          8.592080116271973,
          9.205100059509277,
          8.531933784484863,
          8.856223106384277,
          9.193458557128906,
          8.882619857788086,
          8.638378143310547,
          9.122891426086426,
          9.358064651489258,
          8.757455825805664,
          8.774537086486816,
          9.243826866149902,
          9.141334533691406,
          8.887493133544922,
          8.940927505493164,
          9.342304229736328,
          8.980480194091797,
          9.190458297729492,
          8.75823974609375,
          7.234541893005371,
          8.850393295288086,
          9.281206130981445,
          9.190165519714355,
          9.169617652893066,
          9.188556671142578,
          9.318587303161621,
          9.029013633728027,
          9.110371589660645,
          8.748600959777832,
          9.766850471496582,
          8.797951698303223,
          8.364842414855957,
          9.208028793334961,
          9.19423770904541,
          9.421721458435059,
          9.194584846496582,
          9.123290061950684,
          9.300861358642578,
          9.137789726257324,
          9.27672290802002,
          9.026339530944824,
          8.755666732788086,
          9.167990684509277,
          9.188202857971191,
          9.729232788085938,
          9.490574836730957,
          9.719900131225586,
          9.498373985290527,
          9.358421325683594,
          9.765337944030762,
          9.216195106506348,
          9.764263153076172,
          9.509249687194824,
          9.331443786621094,
          9.803240776062012,
          9.183999061584473,
          9.298645973205566,
          9.392507553100586,
          9.517081260681152,
          9.261457443237305,
          9.030350685119629,
          8.753059387207031,
          8.800453186035156,
          9.300325393676758,
          8.445411682128906,
          9.353887557983398,
          9.489604949951172,
          9.306571960449219,
          9.24701976776123,
          8.356134414672852,
          8.445074081420898,
          9.821084022521973,
          9.657361030578613,
          9.068082809448242,
          9.21399974822998,
          9.078661918640137,
          9.314451217651367,
          8.835314750671387,
          8.63276481628418,
          9.22999095916748,
          8.967792510986328,
          8.985913276672363,
          8.913764953613281,
          9.28626537322998,
          9.24032974243164,
          8.815961837768555,
          9.113116264343262,
          9.341731071472168,
          8.929895401000977,
          8.75190544128418,
          9.317952156066895,
          9.001791000366211,
          9.997390747070312,
          9.386396408081055,
          8.827386856079102,
          9.714723587036133,
          8.983023643493652,
          9.24519157409668,
          9.806583404541016,
          9.049927711486816,
          10.002503395080566,
          9.198698043823242,
          9.143059730529785,
          9.300505638122559,
          9.266619682312012,
          9.694962501525879,
          9.18401050567627,
          10.082451820373535,
          9.438800811767578,
          9.99555492401123,
          9.443968772888184,
          9.221789360046387,
          9.793652534484863,
          9.645684242248535,
          8.736611366271973,
          7.250175476074219,
          9.110958099365234,
          9.804011344909668,
          9.296923637390137,
          9.109973907470703,
          9.005992889404297,
          9.102987289428711,
          9.367300987243652,
          9.240084648132324,
          9.357937812805176,
          9.478934288024902,
          9.212108612060547,
          9.20067024230957,
          9.178628921508789,
          9.527981758117676,
          8.784831047058105,
          9.352012634277344,
          9.731844902038574,
          9.370115280151367,
          8.897926330566406,
          8.965920448303223,
          8.952678680419922,
          9.353416442871094,
          9.373027801513672,
          9.25048542022705,
          9.535201072692871,
          9.18111801147461,
          9.268223762512207,
          9.094969749450684,
          8.834657669067383,
          9.103744506835938,
          9.237192153930664,
          9.27739143371582,
          9.348875045776367,
          8.905016899108887,
          9.513056755065918,
          9.2223539352417,
          9.291186332702637,
          8.286534309387207,
          9.745462417602539,
          8.754150390625,
          9.212139129638672,
          9.244063377380371,
          9.142541885375977,
          9.116857528686523,
          8.811120986938477,
          9.442827224731445,
          8.755988121032715,
          9.27316951751709,
          9.26823616027832,
          9.048436164855957,
          9.426830291748047,
          8.451262474060059,
          9.094279289245605,
          9.689465522766113,
          8.91098403930664,
          9.407537460327148,
          9.516128540039062,
          9.283780097961426,
          9.79664421081543,
          9.341400146484375,
          9.045052528381348,
          8.768975257873535,
          9.410577774047852,
          9.458864212036133,
          9.099435806274414,
          9.38232135772705,
          9.1085844039917,
          9.208298683166504,
          8.767229080200195,
          9.471309661865234,
          9.252886772155762,
          9.570428848266602,
          8.754496574401855,
          9.171111106872559,
          9.081408500671387,
          7.233060836791992,
          9.360849380493164,
          8.64307689666748,
          9.174853324890137,
          9.445027351379395,
          9.16193675994873,
          9.26064682006836,
          9.789403915405273,
          9.47742748260498,
          9.46077823638916,
          9.375516891479492,
          9.198555946350098,
          8.88605785369873,
          9.149564743041992,
          9.325512886047363,
          7.214982032775879,
          9.769176483154297,
          8.536214828491211,
          8.450383186340332,
          9.445391654968262,
          9.558893203735352,
          9.669878959655762,
          9.345976829528809,
          9.184661865234375,
          8.376611709594727,
          8.661294937133789,
          9.579253196716309,
          9.141888618469238,
          8.40760612487793,
          9.344218254089355,
          9.93631649017334,
          8.464678764343262,
          8.951107025146484,
          9.177595138549805,
          9.705751419067383,
          9.325507164001465,
          9.277730941772461,
          9.220187187194824,
          9.451032638549805,
          8.933019638061523,
          9.368977546691895,
          8.676952362060547,
          8.978754997253418,
          8.864177703857422,
          9.175211906433105,
          8.605819702148438,
          9.622252464294434,
          8.941149711608887,
          9.299681663513184,
          9.017289161682129,
          9.293688774108887,
          7.230190277099609,
          9.096281051635742,
          9.024775505065918,
          9.33596134185791,
          9.195225715637207,
          9.292357444763184,
          9.755716323852539,
          8.428658485412598,
          9.468015670776367,
          8.782756805419922,
          8.95576000213623,
          9.452190399169922,
          9.044918060302734,
          10.088639259338379,
          9.732404708862305,
          9.010490417480469,
          9.277422904968262,
          9.265894889831543,
          9.349395751953125,
          9.442814826965332,
          9.154706001281738,
          8.269155502319336,
          9.30052661895752,
          8.978486061096191,
          9.642796516418457,
          9.19714069366455,
          9.325469017028809,
          9.728099822998047,
          9.59659481048584,
          9.240496635437012,
          9.141663551330566,
          9.267505645751953,
          9.381828308105469,
          8.981925010681152,
          9.473306655883789,
          9.3115234375,
          9.270557403564453,
          9.180215835571289,
          9.166090965270996,
          8.799518585205078,
          8.282939910888672,
          9.356483459472656,
          10.076884269714355,
          8.98710823059082,
          9.23361873626709,
          10.093338012695312,
          9.158559799194336,
          9.328330993652344,
          9.172174453735352,
          7.095077991485596,
          9.41727066040039,
          9.443952560424805,
          7.241189956665039,
          9.264266967773438,
          9.297802925109863,
          9.618369102478027,
          9.2637939453125,
          9.241947174072266,
          8.52576732635498,
          9.5941801071167,
          7.120018482208252,
          9.513307571411133,
          9.072922706604004,
          9.066893577575684,
          8.768866539001465,
          9.808382034301758,
          8.882108688354492,
          8.87580680847168,
          8.953757286071777,
          9.212665557861328,
          9.18604564666748,
          9.470264434814453,
          8.288643836975098,
          10.081313133239746,
          9.609882354736328,
          9.15140151977539,
          9.637436866760254,
          9.171720504760742,
          9.675244331359863,
          9.523536682128906,
          9.418927192687988,
          9.387476921081543,
          9.26355266571045,
          8.935746192932129,
          9.431328773498535,
          8.800247192382812,
          9.171250343322754,
          9.21072006225586,
          9.271868705749512,
          8.940545082092285,
          9.209038734436035,
          9.327704429626465,
          8.438126564025879,
          8.224944114685059,
          9.016965866088867,
          9.294218063354492,
          7.3678412437438965,
          7.352034568786621,
          7.44369649887085,
          9.2451171875,
          9.169111251831055,
          9.114913940429688,
          9.117999076843262,
          9.575045585632324,
          9.486120223999023,
          8.753802299499512,
          9.306353569030762,
          9.532204627990723,
          9.346012115478516,
          9.400851249694824,
          9.175382614135742,
          9.004471778869629,
          8.234368324279785,
          9.17418384552002,
          9.417192459106445,
          9.20844841003418,
          9.2703275680542,
          8.839637756347656,
          9.09907054901123,
          9.156829833984375,
          9.189763069152832,
          9.450255393981934,
          9.440869331359863,
          9.16510009765625,
          9.19438648223877,
          9.098908424377441,
          9.747791290283203,
          9.122544288635254,
          7.226972579956055,
          9.020284652709961,
          8.454757690429688,
          8.341217041015625,
          9.020468711853027,
          8.454726219177246,
          8.81578540802002,
          9.679192543029785,
          9.3240966796875,
          9.071922302246094,
          9.205022811889648,
          9.252386093139648,
          8.941791534423828,
          9.025301933288574,
          9.196700096130371,
          8.86475944519043,
          9.501692771911621,
          9.377449989318848,
          8.828397750854492,
          7.264377117156982,
          9.100810050964355,
          9.308818817138672,
          9.451183319091797,
          9.50228214263916,
          9.186623573303223,
          9.2893705368042,
          8.75810432434082,
          9.521583557128906,
          9.201982498168945,
          9.929983139038086,
          9.147234916687012,
          7.347382545471191,
          9.095426559448242,
          9.992934226989746,
          9.435561180114746,
          8.876616477966309,
          9.479726791381836,
          9.32614517211914,
          9.271291732788086,
          9.189854621887207,
          9.288893699645996,
          9.222028732299805,
          8.838499069213867,
          10.123832702636719,
          9.191990852355957,
          9.775313377380371,
          9.058733940124512,
          9.391695976257324,
          9.246321678161621,
          8.904573440551758,
          9.071704864501953,
          9.262791633605957,
          9.61463451385498,
          8.760025978088379,
          8.957643508911133,
          9.119909286499023,
          9.352697372436523,
          8.445344924926758,
          9.00732421875,
          9.279671669006348,
          9.095193862915039,
          9.163070678710938,
          9.018855094909668,
          9.476852416992188,
          9.223505973815918,
          9.209972381591797,
          7.235532760620117,
          9.301942825317383,
          9.082257270812988,
          9.363991737365723,
          9.177896499633789,
          9.162554740905762,
          9.772494316101074,
          9.272634506225586,
          10.130236625671387,
          9.694973945617676,
          9.178070068359375,
          9.377382278442383,
          8.82156753540039,
          8.984236717224121,
          8.799361228942871,
          8.447291374206543,
          8.832343101501465,
          9.174330711364746,
          9.588724136352539,
          9.554661750793457,
          7.225610256195068,
          9.35207748413086,
          9.407504081726074,
          9.28369140625,
          9.639850616455078,
          8.13303279876709,
          9.418246269226074,
          9.202330589294434,
          9.1676607131958,
          9.120965957641602,
          9.438051223754883,
          9.182621002197266,
          9.173835754394531,
          8.84126091003418,
          8.756654739379883,
          9.18934440612793,
          9.438454627990723,
          9.36816692352295,
          9.057758331298828,
          9.393057823181152,
          9.177496910095215,
          9.27575397491455,
          7.139565944671631,
          9.798490524291992,
          9.355609893798828,
          8.911479949951172,
          9.372945785522461,
          8.599202156066895,
          8.986408233642578,
          9.140871047973633,
          9.464899063110352,
          9.152339935302734,
          10.01739501953125,
          9.180635452270508,
          9.27409553527832,
          9.788301467895508,
          9.361271858215332,
          9.500895500183105,
          9.20727252960205,
          10.08725643157959,
          9.352119445800781,
          9.301177024841309,
          9.367386817932129,
          9.368605613708496,
          9.16364860534668,
          9.165489196777344,
          9.250391960144043,
          9.297266006469727,
          9.764192581176758,
          9.05189037322998,
          9.156559944152832,
          9.258601188659668,
          8.927366256713867,
          9.138075828552246,
          8.802417755126953,
          9.017704963684082,
          7.285658359527588,
          8.867938041687012,
          10.054325103759766,
          8.939936637878418,
          9.225229263305664,
          8.809349060058594,
          9.509657859802246,
          9.464422225952148,
          8.511898040771484,
          9.406502723693848,
          9.156200408935547,
          9.16198444366455,
          9.060872077941895,
          8.764245986938477,
          9.276772499084473,
          9.30523681640625,
          9.3519926071167,
          9.780228614807129,
          9.508118629455566,
          9.081811904907227,
          7.149048805236816,
          9.772047996520996,
          9.141752243041992,
          8.524240493774414,
          8.813844680786133,
          9.225896835327148,
          9.323859214782715,
          9.767539978027344,
          9.566437721252441,
          9.28149127960205,
          9.7302885055542,
          9.201602935791016,
          9.088604927062988,
          8.809219360351562,
          8.754009246826172,
          9.102224349975586,
          7.330038547515869,
          9.40761661529541,
          8.89542293548584,
          9.198707580566406,
          9.275806427001953,
          9.460817337036133,
          9.11911392211914,
          9.19392204284668,
          9.224082946777344,
          9.715188026428223,
          9.780921936035156,
          10.081737518310547,
          8.808084487915039,
          8.48139476776123,
          9.373723030090332,
          9.712830543518066,
          8.800240516662598,
          9.105362892150879,
          9.137126922607422,
          8.593764305114746,
          8.413189888000488,
          8.988197326660156,
          9.445624351501465,
          9.257144927978516,
          9.264323234558105,
          9.268598556518555,
          9.356353759765625,
          9.376924514770508,
          9.417437553405762,
          9.299201011657715,
          9.476605415344238,
          8.990883827209473,
          9.475275993347168,
          9.78485107421875,
          9.010009765625,
          8.822646141052246,
          9.120711326599121,
          9.361689567565918,
          9.271559715270996,
          8.863481521606445,
          8.978167533874512,
          9.237324714660645,
          9.496642112731934,
          9.790645599365234,
          9.028851509094238,
          8.644031524658203,
          9.20211124420166,
          8.438983917236328,
          9.356575012207031,
          8.557881355285645,
          9.188042640686035,
          9.475640296936035,
          9.482361793518066,
          9.790328979492188,
          9.205913543701172,
          9.105239868164062,
          9.519726753234863,
          8.495203971862793,
          7.1664581298828125,
          9.06217098236084,
          8.973054885864258,
          9.46327018737793,
          9.412766456604004,
          10.002294540405273,
          9.203062057495117,
          9.190266609191895,
          9.205171585083008,
          9.598185539245605,
          9.458552360534668,
          9.450040817260742,
          9.938098907470703,
          8.754298210144043,
          9.295103073120117,
          9.294679641723633,
          9.437067031860352,
          8.865817070007324,
          9.1268310546875,
          8.953539848327637,
          9.5231351852417,
          9.251982688903809,
          9.174261093139648,
          9.47024154663086,
          9.110173225402832,
          9.17794132232666,
          9.011566162109375,
          9.52899169921875,
          10.094165802001953,
          8.902523040771484,
          8.813323974609375,
          9.403719902038574,
          9.794342041015625,
          8.74851131439209,
          9.475837707519531,
          9.098345756530762,
          8.757967948913574,
          9.580012321472168,
          9.412863731384277,
          9.481708526611328,
          9.775250434875488,
          9.516641616821289,
          9.110136032104492,
          8.55286693572998,
          7.290653228759766,
          9.413009643554688,
          9.763179779052734,
          9.22983169555664,
          9.47641372680664,
          9.20385456085205,
          8.551848411560059,
          9.366010665893555,
          9.812942504882812,
          9.473274230957031,
          9.103403091430664,
          9.095884323120117,
          9.397130012512207,
          9.824739456176758,
          8.892465591430664,
          9.188971519470215,
          9.293957710266113,
          9.729867935180664,
          9.049552917480469,
          9.317742347717285,
          9.130509376525879,
          8.49216365814209,
          9.170831680297852,
          9.436105728149414,
          9.705524444580078,
          9.060670852661133,
          9.378373146057129,
          8.219754219055176,
          9.288413047790527,
          9.422967910766602,
          9.17156982421875,
          9.360149383544922,
          9.416112899780273,
          9.270164489746094,
          9.530115127563477,
          9.083137512207031,
          9.206302642822266,
          9.395954132080078,
          10.046778678894043,
          9.462804794311523,
          9.26070785522461,
          9.772847175598145,
          8.796989440917969,
          9.36384391784668,
          9.728858947753906,
          10.044225692749023,
          7.318108081817627,
          9.305869102478027,
          9.336121559143066,
          8.920934677124023,
          9.297471046447754,
          9.276830673217773,
          9.187923431396484,
          9.129343032836914,
          8.88099479675293,
          9.223755836486816,
          9.571782112121582,
          7.147738456726074,
          8.800349235534668,
          9.478516578674316,
          9.426852226257324,
          9.055926322937012,
          9.004532814025879,
          9.325674057006836,
          8.8341646194458,
          9.225147247314453,
          9.20753288269043,
          9.328778266906738,
          9.275113105773926,
          9.108919143676758,
          7.2616143226623535,
          9.30634880065918,
          9.242233276367188,
          8.922842979431152,
          9.182119369506836,
          9.283519744873047,
          8.959470748901367,
          8.926916122436523,
          9.200535774230957,
          9.353065490722656,
          9.474896430969238,
          9.369491577148438,
          9.517102241516113,
          8.700031280517578,
          9.394558906555176,
          9.504314422607422,
          9.518428802490234,
          9.259458541870117,
          9.367112159729004,
          9.543414115905762,
          9.238561630249023,
          9.71189022064209,
          9.33222770690918,
          9.194528579711914,
          9.35064697265625,
          9.177166938781738,
          9.130818367004395,
          9.27198314666748,
          8.591662406921387,
          9.801709175109863,
          9.1922607421875,
          8.773701667785645,
          7.232442855834961,
          9.47424602508545,
          9.386284828186035,
          9.34040355682373,
          8.52871322631836,
          9.175281524658203,
          9.489038467407227,
          9.227601051330566,
          9.967700958251953,
          9.489986419677734,
          9.329987525939941,
          7.237631797790527,
          9.741154670715332,
          9.12891960144043,
          9.206427574157715,
          8.954614639282227,
          8.953479766845703,
          9.3328275680542,
          9.226261138916016,
          8.725348472595215,
          8.844764709472656,
          9.029739379882812,
          9.57702922821045,
          9.010375022888184,
          8.771090507507324,
          9.1305570602417,
          9.133271217346191,
          9.205220222473145,
          9.1358642578125,
          9.198524475097656,
          9.28454303741455,
          9.355756759643555,
          9.175647735595703,
          9.316673278808594,
          8.769705772399902,
          9.397970199584961,
          9.64068603515625,
          9.997835159301758,
          9.996006965637207,
          7.363875865936279,
          9.134467124938965,
          9.477274894714355,
          9.478384017944336,
          9.454636573791504,
          8.6354398727417,
          9.143969535827637,
          9.367835998535156,
          8.789164543151855,
          8.437785148620605,
          9.114984512329102,
          9.330879211425781,
          9.367481231689453,
          9.13228702545166,
          9.433836936950684,
          9.14024543762207,
          9.233421325683594,
          9.631693840026855,
          9.047587394714355,
          9.42029094696045,
          8.121757507324219,
          9.746173858642578,
          9.33081340789795,
          9.574049949645996,
          8.79852294921875,
          8.601125717163086,
          7.153113842010498,
          9.298609733581543,
          8.482539176940918,
          9.486536026000977,
          9.055337905883789,
          8.951550483703613,
          9.038829803466797,
          9.414026260375977,
          9.354326248168945,
          7.293544769287109,
          9.370429992675781,
          9.36978530883789,
          8.355195999145508,
          9.22532844543457,
          7.344710826873779,
          9.792444229125977,
          9.11642837524414,
          9.163765907287598,
          9.231019020080566,
          7.242487907409668,
          9.292251586914062,
          9.189942359924316,
          8.782641410827637,
          9.19768238067627,
          9.989773750305176,
          9.005095481872559,
          9.002350807189941,
          9.022581100463867,
          9.12248706817627,
          9.216728210449219,
          8.486605644226074,
          9.68954849243164,
          8.456338882446289,
          7.1875715255737305,
          8.802621841430664,
          9.360340118408203,
          9.213226318359375,
          8.564473152160645,
          9.006690979003906,
          8.57490348815918,
          9.201533317565918,
          9.191225051879883,
          8.494431495666504,
          9.320597648620605,
          9.356673240661621,
          9.065126419067383,
          9.143021583557129,
          8.802340507507324,
          10.102011680603027,
          9.389405250549316,
          9.164219856262207,
          9.245898246765137,
          9.96738338470459,
          9.319755554199219,
          8.987853050231934,
          9.684544563293457,
          9.469501495361328,
          9.029813766479492,
          9.351924896240234,
          9.424811363220215,
          9.479684829711914,
          9.431446075439453,
          8.97659969329834,
          9.222058296203613,
          9.23916244506836,
          9.642668724060059,
          9.519916534423828,
          9.71920108795166,
          9.678964614868164,
          9.474919319152832,
          9.939386367797852,
          9.060553550720215,
          9.68390941619873,
          9.270829200744629,
          9.502159118652344,
          9.432607650756836,
          9.061306953430176,
          9.330822944641113,
          9.997686386108398,
          9.793819427490234,
          9.462287902832031,
          7.223708629608154,
          10.055383682250977,
          9.155198097229004,
          9.59650993347168,
          9.369304656982422,
          9.191542625427246,
          9.083598136901855,
          9.163480758666992,
          9.133848190307617,
          10.066635131835938,
          9.982316017150879,
          9.142766952514648,
          9.414555549621582,
          9.16327953338623,
          9.645164489746094,
          8.569576263427734,
          8.835566520690918,
          9.762327194213867,
          9.26964282989502,
          9.194920539855957,
          9.228933334350586,
          8.884527206420898,
          9.274665832519531,
          9.399036407470703,
          9.028968811035156,
          9.251835823059082,
          9.388470649719238,
          9.389352798461914,
          8.973631858825684,
          9.259626388549805,
          9.355606079101562,
          10.021479606628418,
          9.375018119812012,
          8.810530662536621,
          8.98100471496582,
          8.986111640930176,
          9.242924690246582,
          9.08264446258545,
          8.436585426330566,
          8.951809883117676,
          9.498313903808594,
          8.781864166259766,
          9.402934074401855,
          9.388813018798828,
          9.337871551513672,
          7.209012985229492,
          8.66271686553955,
          8.592085838317871,
          9.14870834350586,
          9.313560485839844,
          8.8451509475708,
          9.12338924407959,
          9.18936538696289,
          8.744765281677246,
          9.481416702270508,
          9.317490577697754,
          9.433816909790039,
          8.766694068908691,
          8.13248062133789,
          8.84210205078125,
          9.203388214111328,
          9.243931770324707,
          8.54431438446045,
          9.162138938903809,
          8.9650239944458,
          9.485107421875,
          9.125665664672852,
          8.985870361328125,
          9.269262313842773,
          8.998896598815918,
          9.279389381408691,
          9.50485897064209,
          9.618324279785156,
          9.243195533752441,
          9.509607315063477,
          9.217391014099121,
          9.035719871520996,
          10.131540298461914,
          9.031411170959473,
          9.298478126525879,
          9.296491622924805,
          9.304351806640625,
          9.529232025146484,
          8.80836009979248,
          9.116594314575195,
          8.59213638305664,
          9.05230712890625,
          8.462541580200195,
          9.780593872070312,
          8.784238815307617,
          9.364018440246582,
          9.346500396728516,
          9.439538955688477,
          9.789263725280762,
          9.523347854614258,
          7.2515387535095215,
          8.287283897399902,
          9.140095710754395,
          9.020867347717285,
          7.146089553833008,
          9.233724594116211,
          8.90825366973877,
          9.205663681030273,
          9.706181526184082,
          9.443055152893066,
          9.17518138885498,
          9.423541069030762,
          9.419832229614258,
          9.213927268981934,
          9.43919849395752,
          9.049842834472656,
          9.777831077575684,
          9.216455459594727,
          8.760666847229004,
          10.105242729187012,
          9.174060821533203,
          9.161942481994629,
          9.792582511901855,
          9.355969429016113,
          9.291532516479492,
          9.370327949523926,
          10.002893447875977,
          9.292847633361816,
          8.770994186401367,
          9.41579818725586,
          8.946688652038574,
          9.202738761901855,
          9.795236587524414,
          9.26120662689209,
          9.295654296875,
          9.793400764465332,
          8.824735641479492,
          9.266103744506836,
          9.311346054077148,
          8.426637649536133,
          8.939199447631836,
          9.202811241149902,
          9.220617294311523,
          8.867246627807617,
          9.370388984680176,
          9.211217880249023,
          9.47085189819336,
          9.414422035217285,
          9.204765319824219,
          9.362231254577637,
          8.983311653137207,
          9.39411735534668,
          8.68995189666748,
          9.170099258422852,
          9.278432846069336,
          9.459656715393066,
          9.41686725616455,
          9.184220314025879,
          9.794452667236328,
          9.225207328796387,
          10.108270645141602,
          9.52102279663086,
          9.105546951293945,
          9.156943321228027,
          9.09870433807373,
          9.187692642211914,
          9.155768394470215,
          9.033366203308105,
          8.75284194946289,
          9.198540687561035,
          9.308531761169434,
          9.519582748413086,
          9.097307205200195,
          9.258456230163574,
          9.12624454498291,
          9.04521369934082,
          8.755699157714844,
          8.898966789245605,
          8.992236137390137,
          9.02043342590332,
          9.235820770263672,
          8.289361000061035,
          9.243073463439941,
          8.994074821472168,
          9.197936058044434,
          9.406839370727539,
          8.913729667663574,
          9.203566551208496,
          9.244668960571289,
          9.503472328186035,
          8.913361549377441,
          9.401935577392578,
          9.15771770477295,
          9.418177604675293,
          8.822892189025879,
          9.365154266357422,
          9.386270523071289,
          9.307364463806152,
          9.27072525024414,
          9.190486907958984,
          7.272347927093506,
          8.28000259399414,
          9.486751556396484,
          8.721168518066406,
          9.360176086425781,
          9.503912925720215,
          9.215229988098145,
          8.781353950500488,
          8.768869400024414,
          9.197778701782227,
          9.507363319396973,
          9.06120491027832,
          9.27756404876709,
          9.409414291381836,
          9.389215469360352,
          8.996862411499023,
          9.098592758178711,
          8.619089126586914,
          9.418457984924316,
          9.100273132324219,
          9.524496078491211,
          9.204267501831055,
          9.183998107910156,
          8.723636627197266,
          9.492193222045898,
          9.662407875061035,
          9.209356307983398,
          8.800371170043945,
          9.15774917602539,
          9.518880844116211,
          8.977452278137207,
          9.207066535949707,
          8.748313903808594,
          9.295243263244629,
          9.247223854064941,
          9.08338737487793,
          9.156028747558594,
          8.857677459716797,
          9.04241943359375,
          9.165146827697754,
          9.957146644592285,
          9.184171676635742,
          9.429386138916016,
          9.258069038391113,
          8.937944412231445,
          8.977740287780762,
          9.362091064453125,
          9.580483436584473,
          9.447832107543945,
          9.087189674377441,
          8.465673446655273,
          9.114848136901855,
          9.049558639526367,
          9.727981567382812,
          9.504101753234863,
          8.79249095916748,
          9.169384956359863,
          8.774426460266113,
          8.922163009643555,
          8.731913566589355,
          9.445115089416504,
          9.362168312072754,
          9.246613502502441,
          9.433258056640625,
          9.166990280151367,
          9.164530754089355,
          9.2891263961792,
          7.145702838897705,
          7.34467077255249,
          9.141194343566895,
          9.492013931274414,
          8.662684440612793,
          9.246664047241211,
          9.13542652130127,
          7.340455055236816,
          7.348966121673584,
          9.191944122314453,
          9.173676490783691,
          9.21354866027832,
          9.719618797302246,
          9.103082656860352,
          8.85582447052002,
          8.971481323242188,
          8.45401382446289,
          8.880857467651367,
          9.466896057128906,
          9.105376243591309,
          9.384029388427734,
          9.44047737121582,
          9.011995315551758,
          8.877458572387695,
          9.272831916809082,
          9.031327247619629,
          8.87682819366455,
          8.636116981506348,
          8.715882301330566,
          9.307920455932617,
          10.069560050964355,
          8.884410858154297,
          9.115970611572266,
          8.246460914611816,
          8.776421546936035,
          9.770010948181152,
          9.295001029968262,
          8.675317764282227,
          9.235848426818848,
          9.194724082946777,
          8.789685249328613,
          9.317788124084473,
          9.657441139221191,
          9.482422828674316,
          9.37707805633545,
          9.222920417785645,
          8.985170364379883,
          9.819212913513184,
          9.344006538391113,
          8.849638938903809,
          9.475549697875977,
          9.210506439208984,
          9.48338508605957,
          9.386404991149902,
          9.262602806091309,
          8.775419235229492,
          8.869760513305664,
          8.735309600830078,
          9.189130783081055,
          9.357872009277344,
          9.02615737915039,
          8.951804161071777,
          9.208324432373047,
          8.934943199157715,
          8.755558013916016,
          9.078402519226074,
          9.17345142364502,
          9.418609619140625,
          9.336418151855469,
          9.422094345092773,
          9.243335723876953,
          8.381196975708008,
          7.23528528213501,
          9.525639533996582,
          9.454465866088867,
          9.413091659545898,
          9.39258861541748,
          9.083319664001465,
          8.991744995117188,
          9.4080810546875,
          9.163020133972168,
          9.714546203613281,
          9.178417205810547,
          9.324978828430176,
          8.722793579101562,
          9.782929420471191,
          9.354169845581055,
          8.692704200744629,
          8.27843952178955,
          9.008522987365723,
          7.1233649253845215,
          7.232384204864502,
          9.21123218536377,
          10.048440933227539,
          9.695058822631836,
          9.338237762451172,
          7.262951374053955,
          9.363554000854492,
          8.48752498626709,
          9.187893867492676,
          9.320757865905762,
          9.060687065124512,
          7.380416393280029,
          9.710822105407715,
          9.163238525390625,
          9.450003623962402,
          9.030660629272461,
          9.089346885681152,
          9.46419906616211,
          8.963632583618164,
          9.212190628051758,
          9.80111312866211,
          9.012136459350586,
          9.688140869140625,
          8.800211906433105,
          9.422403335571289,
          9.243852615356445,
          9.213844299316406,
          9.403440475463867,
          9.312052726745605,
          9.150172233581543,
          9.246527671813965,
          8.556510925292969,
          9.215433120727539,
          8.537064552307129,
          8.694655418395996,
          9.031159400939941,
          9.093425750732422,
          9.290349006652832,
          8.132589340209961,
          8.96081829071045,
          9.555401802062988,
          9.402580261230469,
          9.780062675476074,
          9.202401161193848,
          9.290621757507324,
          8.7387056350708,
          8.493688583374023,
          9.345293998718262,
          9.027268409729004,
          7.543735027313232,
          9.48792839050293,
          9.789765357971191,
          7.215660095214844,
          8.855981826782227,
          9.439254760742188,
          9.731189727783203,
          9.344978332519531,
          9.255943298339844,
          8.840264320373535,
          9.254673957824707,
          9.534676551818848,
          9.718549728393555,
          9.336752891540527,
          9.460561752319336,
          9.580821990966797,
          9.701148986816406,
          9.482996940612793,
          8.772597312927246,
          8.729963302612305,
          8.878533363342285,
          8.400747299194336,
          8.897024154663086,
          9.255478858947754,
          9.362557411193848,
          9.451227188110352,
          7.342489242553711,
          9.090287208557129,
          9.207952499389648,
          9.238776206970215,
          9.235370635986328,
          9.352952003479004,
          9.316356658935547,
          9.297357559204102,
          9.26906681060791,
          9.254268646240234,
          9.494683265686035,
          8.364773750305176,
          8.785114288330078,
          9.360580444335938,
          9.213924407958984,
          9.408731460571289,
          9.935532569885254,
          9.414643287658691,
          9.300254821777344,
          8.724593162536621,
          10.059331893920898,
          9.519021034240723,
          9.356043815612793,
          9.36024284362793,
          9.302558898925781,
          8.878462791442871,
          9.475863456726074,
          8.794294357299805,
          8.954718589782715,
          9.573357582092285,
          7.231878280639648,
          9.073532104492188,
          8.725507736206055,
          9.71009635925293,
          9.266884803771973,
          9.201546669006348,
          9.15294361114502,
          8.473438262939453,
          9.420191764831543,
          9.068099975585938,
          9.208723068237305,
          8.932897567749023,
          9.116435050964355,
          8.613295555114746,
          9.808942794799805,
          9.17676830291748,
          8.821537017822266,
          8.789023399353027,
          7.105523109436035,
          8.902725219726562,
          9.483028411865234,
          9.47779369354248,
          8.468231201171875,
          9.529458999633789,
          9.154139518737793,
          9.115262985229492,
          7.138786792755127,
          9.371362686157227,
          9.441044807434082,
          9.768595695495605,
          9.035487174987793,
          9.211250305175781,
          7.149538993835449,
          8.930094718933105,
          9.443636894226074,
          9.48447322845459,
          9.516458511352539,
          8.620970726013184,
          8.480545997619629,
          7.220032691955566,
          9.328516006469727,
          9.192686080932617,
          9.336112976074219,
          9.579808235168457,
          9.413021087646484,
          9.367179870605469,
          8.88931941986084,
          9.182708740234375,
          9.439628601074219,
          9.350765228271484,
          8.884908676147461,
          9.515942573547363,
          9.345561027526855,
          8.132304191589355,
          8.918984413146973,
          9.774087905883789,
          9.457159042358398,
          9.327617645263672,
          9.105061531066895,
          9.352973937988281,
          9.655891418457031,
          9.100083351135254,
          8.855520248413086,
          9.308831214904785,
          9.768966674804688,
          9.182888984680176,
          9.576295852661133,
          9.296863555908203,
          9.350797653198242,
          9.768269538879395,
          9.14352798461914,
          9.550372123718262,
          7.141329288482666,
          9.470664978027344,
          9.521856307983398,
          8.742149353027344,
          8.986122131347656,
          9.277383804321289,
          9.412965774536133,
          9.426483154296875,
          9.078239440917969,
          9.130216598510742,
          9.071471214294434,
          9.264081001281738,
          9.196572303771973,
          9.713891983032227,
          9.278364181518555,
          9.492131233215332,
          9.051667213439941,
          9.348058700561523,
          9.169149398803711,
          8.979799270629883,
          9.495696067810059,
          9.606412887573242,
          9.173872947692871,
          9.70649528503418,
          8.812311172485352,
          7.13380241394043,
          9.25969123840332,
          9.050915718078613,
          9.01223373413086,
          9.821908950805664,
          9.490923881530762,
          9.025090217590332,
          9.172014236450195,
          8.501354217529297,
          9.785414695739746,
          8.93722915649414,
          9.271084785461426,
          9.208837509155273,
          9.033952713012695,
          9.339681625366211,
          9.444276809692383,
          9.783246040344238,
          9.269476890563965,
          9.157181739807129,
          9.13654899597168,
          9.06494140625,
          10.043381690979004,
          9.182263374328613,
          9.51223087310791,
          9.2985258102417,
          9.441736221313477,
          9.307353973388672,
          9.368927955627441,
          7.3592329025268555,
          9.089545249938965,
          7.209340572357178,
          9.40132999420166,
          8.886151313781738,
          9.47341251373291,
          9.593621253967285,
          9.375544548034668,
          9.297740936279297,
          9.551827430725098,
          9.13793659210205,
          9.547942161560059,
          9.157000541687012,
          8.449702262878418,
          9.259775161743164,
          9.49699592590332,
          9.716818809509277,
          9.144558906555176,
          9.487058639526367,
          9.77181625366211,
          9.29005241394043,
          9.508414268493652,
          8.837631225585938,
          9.22254467010498,
          9.249404907226562,
          9.449600219726562,
          9.409394264221191,
          10.175689697265625,
          9.270089149475098,
          8.983060836791992,
          9.44209098815918,
          8.982087135314941,
          9.337654113769531,
          9.297259330749512,
          8.785802841186523,
          9.168107986450195,
          9.100166320800781,
          9.103200912475586,
          9.205997467041016,
          9.13279914855957,
          9.37393569946289,
          9.307106018066406,
          9.711174011230469,
          9.296832084655762,
          9.088733673095703,
          9.422446250915527,
          7.240227699279785,
          9.79458236694336,
          9.28686237335205,
          9.327786445617676,
          9.306902885437012,
          9.016008377075195,
          9.152226448059082,
          8.783492088317871,
          9.267849922180176,
          9.298418998718262,
          9.46896743774414,
          9.206853866577148,
          9.29854965209961,
          9.206655502319336,
          9.182236671447754,
          9.39228630065918,
          9.822905540466309,
          9.36091136932373,
          9.685759544372559,
          9.423343658447266,
          7.145279407501221,
          9.0822172164917,
          9.77040958404541,
          9.37165355682373,
          8.877881050109863,
          9.492918968200684,
          8.827478408813477,
          9.775999069213867,
          9.271458625793457,
          9.221713066101074,
          9.499073028564453,
          9.105704307556152,
          9.695716857910156,
          9.184660911560059,
          9.812273979187012,
          9.362933158874512,
          9.444401741027832,
          9.2891845703125,
          8.810501098632812,
          9.164711952209473,
          9.203343391418457,
          9.208895683288574,
          8.745635032653809,
          9.394083023071289,
          9.68791389465332,
          8.831257820129395,
          9.432700157165527,
          8.265552520751953,
          7.324957370758057,
          9.187268257141113,
          9.227153778076172,
          8.487974166870117,
          9.804144859313965,
          8.785605430603027,
          9.76448917388916,
          9.028219223022461,
          9.308917045593262,
          9.410719871520996,
          9.31914234161377,
          9.055131912231445,
          9.228938102722168,
          9.310018539428711,
          8.865428924560547,
          9.433538436889648,
          9.430947303771973,
          9.129555702209473,
          9.262483596801758,
          9.132530212402344,
          8.823097229003906,
          9.239850997924805,
          9.182223320007324,
          9.495322227478027,
          10.078609466552734,
          9.0713472366333,
          9.217466354370117,
          8.889852523803711,
          9.362876892089844,
          9.202313423156738,
          8.571532249450684,
          8.776403427124023,
          9.515273094177246,
          9.589129447937012,
          9.200650215148926,
          8.870226860046387,
          9.176570892333984,
          9.454565048217773,
          9.431136131286621,
          9.482145309448242,
          8.986615180969238,
          9.695188522338867,
          9.322501182556152,
          9.253032684326172,
          9.593147277832031,
          9.220047950744629,
          8.940266609191895,
          9.192061424255371,
          8.81059455871582,
          9.42895793914795,
          9.276238441467285,
          9.446860313415527,
          9.17057991027832,
          10.059114456176758,
          9.105064392089844,
          9.27295207977295,
          9.259242057800293,
          9.370795249938965,
          9.238161087036133,
          9.992240905761719,
          9.68508529663086,
          9.201558113098145,
          9.225678443908691,
          9.282527923583984,
          9.176490783691406,
          9.323860168457031,
          9.43181037902832,
          9.238636016845703,
          8.996603965759277,
          9.697738647460938,
          9.233508110046387,
          9.426445960998535,
          9.495834350585938,
          9.197225570678711,
          8.734177589416504,
          9.270390510559082,
          9.187140464782715,
          9.065630912780762,
          8.640743255615234,
          9.488597869873047,
          9.094470024108887,
          9.521141052246094,
          9.212889671325684,
          7.147803783416748,
          9.208057403564453,
          9.25098991394043,
          9.720558166503906,
          8.814948081970215,
          9.148677825927734,
          9.438206672668457,
          8.834441184997559,
          9.313411712646484,
          9.177545547485352,
          8.605583190917969,
          7.08209753036499,
          8.450892448425293,
          9.716238975524902,
          9.709236145019531,
          9.262434959411621,
          9.244950294494629,
          9.528669357299805,
          9.742018699645996,
          9.57901382446289,
          7.22660493850708,
          9.137628555297852,
          9.208683967590332,
          9.293462753295898,
          7.269756317138672,
          9.1900053024292,
          9.242568969726562,
          7.265783786773682,
          9.419089317321777,
          9.178771018981934,
          9.078242301940918,
          7.434288501739502,
          8.974971771240234,
          8.79049015045166,
          10.114080429077148,
          8.21417236328125,
          9.103047370910645,
          9.212687492370605,
          10.014342308044434,
          9.290714263916016,
          9.484047889709473,
          9.829523086547852,
          9.767640113830566,
          9.298564910888672,
          7.223596572875977,
          9.271385192871094,
          9.300334930419922,
          9.210057258605957,
          9.325677871704102,
          9.502687454223633,
          8.448494911193848,
          9.23518180847168,
          9.230029106140137,
          9.261896133422852,
          9.082170486450195,
          9.36009693145752,
          8.759698867797852,
          8.476483345031738,
          10.126212120056152,
          9.175111770629883,
          9.0531005859375,
          9.79602336883545,
          8.973469734191895,
          9.310449600219727,
          8.779743194580078,
          9.92914867401123,
          9.26174259185791,
          9.319073677062988,
          9.206043243408203,
          8.93875789642334,
          7.345837593078613,
          8.872552871704102,
          9.150753021240234,
          9.295392990112305,
          9.317819595336914,
          9.507569313049316,
          9.663249015808105,
          9.261910438537598,
          9.140593528747559,
          8.530890464782715,
          9.114887237548828,
          8.166858673095703,
          9.45078182220459,
          8.567724227905273,
          9.503188133239746,
          9.389744758605957,
          9.390644073486328,
          9.330831527709961,
          8.274507522583008,
          9.518729209899902,
          9.298332214355469,
          9.310462951660156,
          9.485849380493164,
          9.200982093811035,
          9.442535400390625,
          9.160187721252441,
          9.114461898803711,
          9.269845008850098,
          9.229463577270508,
          8.71175765991211,
          8.976685523986816,
          9.788265228271484,
          9.427423477172852,
          8.952505111694336,
          9.427945137023926,
          9.162995338439941,
          9.449793815612793,
          9.273460388183594,
          9.166651725769043,
          8.637656211853027,
          9.15985107421875,
          9.16198444366455,
          9.080354690551758,
          9.510248184204102,
          9.502769470214844,
          9.77983570098877,
          10.028729438781738,
          7.297652721405029,
          9.285504341125488,
          9.074625015258789,
          9.532245635986328,
          9.54321002960205,
          8.231913566589355,
          9.443572044372559,
          9.53026294708252,
          9.394027709960938,
          9.08087158203125,
          9.02105712890625,
          9.491301536560059,
          9.15320110321045,
          8.67714786529541,
          9.211284637451172,
          9.51060676574707,
          8.84765625,
          8.817151069641113,
          9.782334327697754,
          9.445158004760742,
          9.018146514892578,
          8.490926742553711,
          9.691097259521484,
          9.357948303222656,
          9.217862129211426,
          9.2081880569458,
          9.465514183044434,
          9.135764122009277,
          9.469653129577637,
          9.492059707641602,
          9.176562309265137,
          9.704578399658203,
          9.482733726501465,
          9.034865379333496,
          10.07666301727295,
          9.27435302734375,
          9.274280548095703,
          9.34598159790039,
          9.894423484802246,
          9.02504825592041,
          8.707465171813965,
          9.142912864685059,
          9.132423400878906,
          8.494417190551758,
          8.698294639587402,
          9.469263076782227,
          9.479248046875,
          8.36483097076416,
          9.799294471740723,
          9.112460136413574,
          10.017012596130371,
          7.130207061767578,
          9.437496185302734,
          8.854458808898926,
          9.71403980255127,
          9.405205726623535,
          9.203523635864258,
          9.210615158081055,
          8.949767112731934,
          9.346107482910156,
          9.100367546081543,
          9.42072868347168,
          9.415802955627441,
          9.011448860168457,
          9.233962059020996,
          9.403265953063965,
          9.209896087646484,
          8.132683753967285,
          8.832487106323242,
          9.162445068359375,
          9.194751739501953,
          8.90203857421875,
          8.800291061401367,
          9.153507232666016,
          7.344741344451904,
          9.267740249633789,
          9.202940940856934,
          9.307737350463867,
          8.589132308959961,
          8.749112129211426,
          9.194506645202637,
          7.23216438293457,
          9.185628890991211,
          9.243990898132324,
          9.80856990814209,
          9.114249229431152,
          9.316916465759277,
          9.250842094421387,
          9.399751663208008,
          7.348425388336182,
          9.995009422302246,
          9.097990036010742,
          9.033980369567871,
          8.498223304748535,
          8.132636070251465,
          8.74886417388916,
          9.825653076171875,
          8.988595962524414,
          9.272549629211426,
          7.257450103759766,
          9.168925285339355,
          9.477527618408203,
          9.24236011505127,
          9.426813125610352,
          9.38511848449707,
          9.534588813781738,
          8.72068977355957,
          9.366294860839844,
          9.272247314453125,
          9.22330379486084,
          9.142816543579102,
          9.082762718200684,
          9.286683082580566,
          9.028511047363281,
          9.751029014587402,
          9.106356620788574,
          9.765108108520508,
          9.353852272033691,
          9.268811225891113,
          9.666510581970215,
          9.236773490905762,
          9.505971908569336,
          9.271430969238281,
          9.329575538635254,
          10.175777435302734,
          9.198967933654785,
          9.260677337646484,
          9.464529037475586,
          9.399839401245117,
          8.45315933227539,
          8.951263427734375,
          9.316343307495117,
          9.465372085571289,
          9.273008346557617,
          9.411979675292969,
          9.378416061401367,
          9.650062561035156,
          9.202956199645996,
          9.435995101928711,
          9.252364158630371,
          9.351686477661133,
          9.473015785217285,
          8.950810432434082,
          7.2388410568237305,
          8.449414253234863,
          8.490424156188965,
          8.885772705078125,
          9.319217681884766,
          9.458551406860352,
          9.24844741821289,
          9.552499771118164,
          9.694151878356934,
          9.053977966308594,
          7.1441755294799805,
          8.826678276062012,
          9.476417541503906,
          9.276471138000488,
          9.127193450927734,
          9.514610290527344,
          9.972219467163086,
          8.639913558959961,
          7.18002986907959,
          9.29354190826416,
          9.094208717346191,
          9.475886344909668,
          9.287863731384277,
          8.95132064819336,
          9.443419456481934,
          9.653793334960938,
          9.783740043640137,
          9.195698738098145,
          9.121408462524414,
          9.851988792419434,
          9.317676544189453,
          9.715248107910156,
          8.957419395446777,
          8.708793640136719,
          9.165322303771973,
          9.240216255187988,
          7.478357315063477,
          9.966287612915039,
          9.406759262084961,
          9.475950241088867,
          8.778829574584961,
          9.477779388427734,
          9.8279390335083,
          9.341658592224121,
          9.111263275146484,
          9.745450019836426,
          9.520646095275879,
          9.537936210632324,
          8.592110633850098,
          9.82382869720459,
          9.494463920593262,
          9.391816139221191,
          9.355238914489746,
          8.83698844909668,
          7.235945701599121,
          9.443699836730957,
          9.650503158569336,
          9.266081809997559,
          8.841206550598145,
          9.41950511932373,
          9.315730094909668,
          9.430657386779785,
          9.485477447509766,
          9.243359565734863,
          9.391193389892578,
          9.211944580078125,
          9.013860702514648,
          9.234793663024902,
          9.248625755310059,
          9.626256942749023,
          8.592040061950684,
          9.132752418518066,
          9.939831733703613,
          9.014912605285645,
          9.293587684631348,
          8.871869087219238,
          9.386739730834961,
          8.544573783874512,
          9.241689682006836,
          9.277488708496094,
          8.819412231445312,
          10.083468437194824,
          9.410359382629395,
          9.004621505737305,
          8.741331100463867,
          10.065549850463867,
          9.39352798461914,
          8.831313133239746,
          8.442146301269531,
          8.501382827758789,
          9.470427513122559,
          9.278225898742676,
          9.580709457397461,
          9.167780876159668,
          9.265006065368652,
          9.227069854736328,
          7.162407398223877,
          9.012539863586426,
          9.29057502746582,
          9.749879837036133,
          9.759035110473633,
          9.418452262878418,
          9.22226333618164,
          9.229829788208008,
          10.077339172363281,
          9.647841453552246,
          9.137927055358887,
          9.250370979309082,
          9.51809310913086
         ],
         "xaxis": "x",
         "y": [
          5.257391452789307,
          5.343906879425049,
          4.819217681884766,
          5.247310638427734,
          4.971826553344727,
          5.492464542388916,
          6.147059440612793,
          5.210134029388428,
          4.782751560211182,
          4.893404483795166,
          5.983837604522705,
          5.60441255569458,
          6.357778549194336,
          5.3926239013671875,
          5.982754230499268,
          6.140434265136719,
          6.3591203689575195,
          5.041757583618164,
          5.246045112609863,
          5.365971088409424,
          5.604425430297852,
          4.840919494628906,
          5.272526741027832,
          5.840516567230225,
          5.9341912269592285,
          6.106400012969971,
          6.161762714385986,
          4.782751083374023,
          6.045099258422852,
          6.117567539215088,
          4.113836288452148,
          6.073554039001465,
          4.113638401031494,
          4.997342586517334,
          6.1428303718566895,
          5.0297722816467285,
          6.023325443267822,
          6.097456455230713,
          4.876425743103027,
          5.994054794311523,
          6.0215911865234375,
          5.150093078613281,
          6.357886791229248,
          6.133817195892334,
          4.856253623962402,
          5.026580810546875,
          4.786496162414551,
          5.748250484466553,
          5.207469463348389,
          5.127341270446777,
          5.166096210479736,
          6.008224964141846,
          5.157563209533691,
          5.999091625213623,
          6.048920631408691,
          4.9841413497924805,
          5.287018775939941,
          5.004528999328613,
          6.006811141967773,
          5.230895042419434,
          5.750077247619629,
          5.094010353088379,
          6.031635284423828,
          5.050426483154297,
          4.892474174499512,
          5.724541664123535,
          6.08634614944458,
          5.005899429321289,
          5.09195613861084,
          5.5593061447143555,
          5.088945388793945,
          6.022258281707764,
          5.097569942474365,
          6.0591139793396,
          5.406070709228516,
          4.969333648681641,
          5.238319396972656,
          5.8893818855285645,
          5.5844645500183105,
          5.959886074066162,
          5.344323635101318,
          5.913055896759033,
          6.007566928863525,
          5.969315052032471,
          6.1754631996154785,
          5.949463844299316,
          6.150506496429443,
          5.941765785217285,
          5.0434417724609375,
          6.061619758605957,
          5.40907096862793,
          5.141139984130859,
          4.947093486785889,
          5.742372512817383,
          5.002114772796631,
          5.414830207824707,
          5.3605804443359375,
          5.421429634094238,
          5.747402191162109,
          5.992199897766113,
          6.2943220138549805,
          6.105616569519043,
          5.132774353027344,
          5.222693920135498,
          5.980783939361572,
          4.699389457702637,
          6.310310363769531,
          6.209640026092529,
          6.121903419494629,
          6.358883380889893,
          5.973730087280273,
          5.2263875007629395,
          5.21246337890625,
          5.040334701538086,
          5.219122409820557,
          5.550887107849121,
          6.107588768005371,
          5.175570011138916,
          5.0310211181640625,
          6.073622226715088,
          5.756288051605225,
          5.830183506011963,
          5.219743728637695,
          6.046651363372803,
          5.96552848815918,
          5.388427734375,
          5.061600208282471,
          5.5349321365356445,
          5.889598369598389,
          6.002044677734375,
          6.329129219055176,
          4.857272624969482,
          5.630300045013428,
          5.900529384613037,
          4.9293718338012695,
          5.479855537414551,
          6.086636066436768,
          6.039587497711182,
          6.087072372436523,
          5.793146133422852,
          6.041563034057617,
          5.021463871002197,
          5.504065036773682,
          5.168323516845703,
          6.006928443908691,
          5.962016582489014,
          6.086075305938721,
          5.968066692352295,
          4.836978912353516,
          5.4529128074646,
          5.786813259124756,
          5.948854923248291,
          5.056578636169434,
          6.197581768035889,
          5.862925052642822,
          6.154119491577148,
          5.806215286254883,
          5.990243911743164,
          5.117638111114502,
          4.7092671394348145,
          5.22095251083374,
          5.237512111663818,
          5.433052062988281,
          4.806519508361816,
          5.891401767730713,
          5.465815544128418,
          6.2066779136657715,
          5.075534820556641,
          5.574292182922363,
          5.136429786682129,
          6.106644153594971,
          6.003218173980713,
          5.572333335876465,
          5.120955467224121,
          4.849366188049316,
          6.216798782348633,
          5.826089382171631,
          5.267387866973877,
          6.054745197296143,
          5.587608337402344,
          5.898066520690918,
          5.113656044006348,
          4.728848457336426,
          5.978701114654541,
          6.226722717285156,
          4.711942672729492,
          5.57449197769165,
          5.165271282196045,
          5.996519565582275,
          5.018645286560059,
          5.2077531814575195,
          6.095239162445068,
          5.911521911621094,
          5.928173065185547,
          5.302658557891846,
          5.75030517578125,
          4.873858451843262,
          5.587057590484619,
          6.1953535079956055,
          5.47218656539917,
          5.058083534240723,
          4.889616966247559,
          6.153078079223633,
          5.092140197753906,
          6.038456916809082,
          6.091928958892822,
          5.991451263427734,
          5.1675615310668945,
          6.3480000495910645,
          5.450912952423096,
          6.120878219604492,
          5.4887237548828125,
          6.103921413421631,
          5.919011116027832,
          5.958893299102783,
          5.012857437133789,
          5.483487606048584,
          5.569095611572266,
          4.845789909362793,
          5.0474700927734375,
          6.040509223937988,
          5.941161632537842,
          6.116446018218994,
          5.899512767791748,
          6.001082420349121,
          5.158627033233643,
          5.476705551147461,
          5.248518466949463,
          6.039285182952881,
          4.93792200088501,
          6.2043256759643555,
          5.039278507232666,
          5.144201278686523,
          5.568819046020508,
          5.826603889465332,
          6.191821575164795,
          5.231019020080566,
          5.57810640335083,
          6.255847930908203,
          5.062317848205566,
          4.918121814727783,
          5.202051162719727,
          6.121729850769043,
          6.356894493103027,
          5.2691569328308105,
          6.099363327026367,
          5.051734447479248,
          5.7254791259765625,
          5.102689266204834,
          5.320751667022705,
          5.084532260894775,
          5.612980365753174,
          6.256555080413818,
          6.0091986656188965,
          5.192258358001709,
          5.036888122558594,
          5.7871994972229,
          4.8583245277404785,
          4.991652965545654,
          5.086594104766846,
          6.0025763511657715,
          6.33038330078125,
          5.709914684295654,
          5.9943132400512695,
          5.992197036743164,
          6.051583290100098,
          4.8008623123168945,
          6.084006309509277,
          5.216676235198975,
          5.06667423248291,
          6.002678871154785,
          5.068516254425049,
          6.128154754638672,
          4.872953414916992,
          5.236947536468506,
          6.29695463180542,
          6.077176094055176,
          5.0177836418151855,
          6.012688636779785,
          5.213533878326416,
          5.543533802032471,
          5.189579010009766,
          5.139349937438965,
          6.0966339111328125,
          6.109584331512451,
          5.748005390167236,
          5.36431360244751,
          5.615119934082031,
          4.882381916046143,
          5.531065464019775,
          5.210137367248535,
          5.187479019165039,
          5.2329840660095215,
          6.352313041687012,
          5.987481594085693,
          5.058629512786865,
          5.089454174041748,
          6.097337245941162,
          5.1764068603515625,
          5.427841663360596,
          5.750141143798828,
          6.049499988555908,
          6.104550838470459,
          5.942215442657471,
          6.14036226272583,
          5.244022846221924,
          5.568601131439209,
          5.993084907531738,
          5.782203674316406,
          5.155070781707764,
          4.800833702087402,
          5.906947612762451,
          5.937053203582764,
          5.972400188446045,
          4.7864580154418945,
          5.894320011138916,
          6.361256122589111,
          5.491985321044922,
          5.8447089195251465,
          6.13640832901001,
          5.099435806274414,
          5.015894889831543,
          5.78258752822876,
          5.8525071144104,
          6.016035079956055,
          5.124544620513916,
          6.345108985900879,
          5.766855716705322,
          5.078980922698975,
          4.711901664733887,
          5.630123615264893,
          5.389977931976318,
          5.215893268585205,
          4.718769073486328,
          5.599881649017334,
          5.088231563568115,
          6.3595757484436035,
          4.98154354095459,
          4.982938289642334,
          5.782193183898926,
          5.000429153442383,
          5.529435157775879,
          5.018580436706543,
          5.372340679168701,
          5.2059245109558105,
          5.002292633056641,
          5.0787129402160645,
          5.725264549255371,
          4.9718852043151855,
          4.901731491088867,
          6.05458927154541,
          5.882211208343506,
          6.118863105773926,
          5.418911933898926,
          5.38790225982666,
          6.028302192687988,
          5.417704105377197,
          4.978353977203369,
          5.259591102600098,
          5.279819488525391,
          5.931049346923828,
          5.095062255859375,
          6.084633827209473,
          4.798111438751221,
          5.835626125335693,
          5.945201873779297,
          6.1023125648498535,
          5.002192497253418,
          6.080294132232666,
          5.569817543029785,
          6.0156097412109375,
          5.08319091796875,
          4.894556522369385,
          6.35373067855835,
          5.78226900100708,
          6.1521315574646,
          5.950719356536865,
          6.112967491149902,
          4.6397385597229,
          6.011841773986816,
          6.025218963623047,
          5.776689529418945,
          5.050828456878662,
          6.337462902069092,
          5.574452877044678,
          5.733434677124023,
          5.78102970123291,
          5.383182048797607,
          5.147029399871826,
          5.546408176422119,
          6.082381725311279,
          5.471367835998535,
          5.237233638763428,
          5.373584747314453,
          4.739561080932617,
          5.624822616577148,
          5.03112268447876,
          5.278091907501221,
          6.076067924499512,
          5.274845600128174,
          5.0417890548706055,
          5.816332817077637,
          5.987441539764404,
          5.215671062469482,
          5.015425682067871,
          5.781951904296875,
          6.096469402313232,
          6.072315216064453,
          6.164710521697998,
          6.040278434753418,
          5.024189472198486,
          5.412132740020752,
          5.048530101776123,
          5.1617045402526855,
          5.1518874168396,
          6.356928825378418,
          5.906829833984375,
          5.14220666885376,
          6.086243629455566,
          4.786110877990723,
          6.080159664154053,
          5.807688236236572,
          5.869273662567139,
          5.023722171783447,
          5.878177642822266,
          4.8589935302734375,
          6.186323165893555,
          5.222524642944336,
          4.712915420532227,
          5.011854648590088,
          5.136007785797119,
          5.698858261108398,
          6.1553192138671875,
          5.791865348815918,
          5.993317127227783,
          5.10449743270874,
          5.223232269287109,
          6.047710418701172,
          4.963369369506836,
          6.3496994972229,
          5.246993064880371,
          6.312015056610107,
          4.911692142486572,
          5.442759037017822,
          6.076470851898193,
          6.347909927368164,
          5.7906084060668945,
          6.355719566345215,
          5.149011135101318,
          6.035525321960449,
          5.2728190422058105,
          5.258932113647461,
          5.013747215270996,
          5.989931106567383,
          4.63972282409668,
          5.4262285232543945,
          5.221712589263916,
          5.994440078735352,
          4.786074638366699,
          5.997209548950195,
          5.751557350158691,
          6.23360013961792,
          6.152911186218262,
          5.006068706512451,
          5.739245891571045,
          4.86145544052124,
          4.786106109619141,
          5.140804767608643,
          5.433466911315918,
          5.076577186584473,
          5.159759521484375,
          6.13878059387207,
          5.493323802947998,
          5.883138656616211,
          5.783192157745361,
          6.047216892242432,
          6.065080165863037,
          5.450036525726318,
          5.065349102020264,
          4.8137898445129395,
          4.800826072692871,
          6.011936187744141,
          6.054460525512695,
          5.465288162231445,
          6.2743449211120605,
          5.329336166381836,
          5.219692230224609,
          6.036192893981934,
          5.075101375579834,
          6.357837677001953,
          4.786601543426514,
          5.983180522918701,
          5.023919582366943,
          5.3346757888793945,
          5.414331912994385,
          6.10556697845459,
          5.803147315979004,
          6.128920078277588,
          6.357539176940918,
          5.16008996963501,
          5.461583137512207,
          6.041980743408203,
          6.3130364418029785,
          6.070303440093994,
          6.338029861450195,
          5.5898823738098145,
          5.207150936126709,
          6.220552921295166,
          6.356531620025635,
          4.866987705230713,
          5.461034297943115,
          4.639701843261719,
          4.111212730407715,
          6.0005717277526855,
          5.1133527755737305,
          6.129220485687256,
          4.710626602172852,
          5.909793853759766,
          6.281217098236084,
          6.1108012199401855,
          4.97287130355835,
          6.354110240936279,
          6.012179851531982,
          6.1249003410339355,
          6.267140865325928,
          5.010459899902344,
          4.839890956878662,
          5.788275241851807,
          5.880590915679932,
          4.709320545196533,
          6.010371208190918,
          4.845251083374023,
          5.144711971282959,
          5.575597763061523,
          4.86580753326416,
          6.119370460510254,
          5.897940635681152,
          4.9975972175598145,
          5.011960506439209,
          6.039280891418457,
          5.760335445404053,
          6.35183048248291,
          4.699558734893799,
          5.141201496124268,
          5.3813652992248535,
          5.996060848236084,
          5.815054893493652,
          5.999184608459473,
          5.9825334548950195,
          5.541574001312256,
          5.385198593139648,
          4.852603435516357,
          6.317996501922607,
          5.9680280685424805,
          6.171022415161133,
          5.970649719238281,
          5.090846061706543,
          5.475695610046387,
          5.21820592880249,
          5.558297157287598,
          5.807590484619141,
          5.839735507965088,
          5.24973201751709,
          6.043992519378662,
          6.072117328643799,
          5.405412673950195,
          5.791055202484131,
          5.914011001586914,
          5.19542932510376,
          6.356848239898682,
          6.209483623504639,
          5.748387813568115,
          5.583553314208984,
          5.439803600311279,
          5.482616424560547,
          4.839631080627441,
          5.837298393249512,
          6.152095317840576,
          4.878152370452881,
          5.96876335144043,
          5.584845066070557,
          6.2719621658325195,
          6.260016918182373,
          6.134713172912598,
          6.171507835388184,
          5.323233604431152,
          6.124123573303223,
          5.59937858581543,
          5.040538787841797,
          5.590649127960205,
          5.340068817138672,
          5.59548807144165,
          6.295882701873779,
          5.495733737945557,
          6.319754600524902,
          5.246438026428223,
          5.837880611419678,
          4.788213729858398,
          6.042476177215576,
          5.80131196975708,
          5.008553981781006,
          5.246105194091797,
          5.976428508758545,
          6.013798713684082,
          5.896405220031738,
          6.184960842132568,
          4.114333629608154,
          6.118152618408203,
          6.130476474761963,
          5.0704426765441895,
          6.421783924102783,
          5.885310173034668,
          4.831923484802246,
          4.9332804679870605,
          5.185452461242676,
          5.220386981964111,
          6.057460784912109,
          5.88544225692749,
          6.003307819366455,
          5.96916389465332,
          5.147806644439697,
          6.30920934677124,
          6.157801628112793,
          5.869054794311523,
          5.482251167297363,
          6.028334617614746,
          6.029047012329102,
          5.787197589874268,
          5.890604019165039,
          5.241374969482422,
          5.800137519836426,
          5.275951862335205,
          6.078554153442383,
          5.56791877746582,
          4.847918510437012,
          6.352901458740234,
          4.114376544952393,
          5.961819648742676,
          5.91402530670166,
          5.7945356369018555,
          5.410670757293701,
          6.165323734283447,
          6.347989082336426,
          6.089784622192383,
          6.101325035095215,
          4.99252986907959,
          5.022513389587402,
          5.387524127960205,
          5.859330177307129,
          5.346529960632324,
          5.194787502288818,
          5.428318500518799,
          5.006000518798828,
          5.119920253753662,
          6.295682907104492,
          5.588781833648682,
          4.964244842529297,
          6.363866329193115,
          5.0110859870910645,
          5.368984699249268,
          5.919702053070068,
          5.042533874511719,
          6.032463073730469,
          6.060312747955322,
          6.367868900299072,
          5.715468883514404,
          6.157726287841797,
          5.094982624053955,
          6.365683078765869,
          6.0849504470825195,
          6.017176628112793,
          5.158058166503906,
          5.968536376953125,
          5.212468147277832,
          6.092212200164795,
          5.038097381591797,
          6.085151195526123,
          5.946621417999268,
          4.802645683288574,
          5.057173728942871,
          5.4415130615234375,
          5.398850917816162,
          6.127136707305908,
          5.333054065704346,
          5.238353252410889,
          5.571715354919434,
          5.245194435119629,
          4.706752777099609,
          6.055374622344971,
          5.386998176574707,
          5.75357723236084,
          5.120174884796143,
          6.326082706451416,
          5.7496867179870605,
          6.338894367218018,
          5.553586959838867,
          4.891955375671387,
          5.754945278167725,
          6.065935134887695,
          5.487563133239746,
          5.089750289916992,
          5.534870147705078,
          5.363114833831787,
          6.053101062774658,
          6.000178813934326,
          6.327072620391846,
          5.571048736572266,
          5.7863240242004395,
          5.611426830291748,
          5.052799224853516,
          5.191923141479492,
          5.989800453186035,
          5.408144474029541,
          5.789706707000732,
          5.2440032958984375,
          5.931621551513672,
          5.2185258865356445,
          5.485077857971191,
          5.414827823638916,
          6.139135360717773,
          5.679872035980225,
          5.077981472015381,
          5.348610877990723,
          5.326876640319824,
          4.975366115570068,
          6.015214443206787,
          4.098813533782959,
          5.110747814178467,
          4.69551944732666,
          5.412902355194092,
          5.025658130645752,
          5.2291951179504395,
          6.051981449127197,
          5.733607292175293,
          5.736797332763672,
          5.603726387023926,
          4.8406476974487305,
          5.1891865730285645,
          5.603546619415283,
          6.014248847961426,
          5.426691055297852,
          5.036952972412109,
          6.072839260101318,
          5.565639972686768,
          6.1548261642456055,
          6.035615921020508,
          4.940732479095459,
          6.055650234222412,
          5.9181036949157715,
          4.859874725341797,
          5.729522228240967,
          6.145517349243164,
          5.104698657989502,
          5.6212053298950195,
          5.040831089019775,
          5.788152694702148,
          5.024652004241943,
          5.949448585510254,
          6.0966339111328125,
          6.029061794281006,
          5.936495304107666,
          4.694708347320557,
          5.128498077392578,
          6.20005464553833,
          5.5995941162109375,
          5.742021560668945,
          6.0740251541137695,
          5.612834453582764,
          6.021302223205566,
          5.603515148162842,
          6.0840020179748535,
          5.273599147796631,
          5.358033657073975,
          5.348404884338379,
          5.156745910644531,
          5.346756458282471,
          5.072672367095947,
          6.26657772064209,
          6.084292888641357,
          5.968608856201172,
          6.048887729644775,
          5.731420040130615,
          5.276732444763184,
          5.796772480010986,
          5.259725570678711,
          6.058082580566406,
          5.227764129638672,
          4.868576526641846,
          5.331071853637695,
          5.163595199584961,
          6.066880702972412,
          5.967514514923096,
          6.09623384475708,
          5.704049587249756,
          5.130903720855713,
          5.609838008880615,
          6.263614177703857,
          6.005397319793701,
          6.305522441864014,
          6.089405536651611,
          4.819932460784912,
          5.78472375869751,
          5.0629401206970215,
          5.442599296569824,
          6.148943901062012,
          6.0446014404296875,
          4.976365566253662,
          4.6995673179626465,
          6.114143371582031,
          4.113061428070068,
          5.350839138031006,
          5.41375207901001,
          5.981698036193848,
          5.573354721069336,
          5.393686294555664,
          5.570979595184326,
          5.010457515716553,
          6.109245300292969,
          5.218604564666748,
          5.178378582000732,
          5.198065280914307,
          5.994049549102783,
          5.258415222167969,
          5.797720432281494,
          5.792694091796875,
          5.007621765136719,
          4.993877410888672,
          6.358090400695801,
          5.657591819763184,
          5.831687927246094,
          5.749811172485352,
          5.006422519683838,
          6.0605149269104,
          5.163280010223389,
          5.569738864898682,
          6.013177871704102,
          5.060784816741943,
          6.160887718200684,
          6.215667247772217,
          5.394683361053467,
          5.793773651123047,
          5.9377546310424805,
          5.381776332855225,
          5.761781215667725,
          5.038535118103027,
          5.997165679931641,
          6.0412917137146,
          6.064712047576904,
          4.84371280670166,
          4.709021091461182,
          5.31207275390625,
          5.012777805328369,
          5.390660762786865,
          5.542858600616455,
          5.011092185974121,
          5.3830718994140625,
          5.485465049743652,
          6.326694011688232,
          5.570137023925781,
          5.973733901977539,
          6.024375915527344,
          5.957298278808594,
          6.0750555992126465,
          5.215224266052246,
          6.057441234588623,
          4.788110256195068,
          5.0680365562438965,
          5.439819812774658,
          5.4000654220581055,
          5.166796684265137,
          6.006908893585205,
          6.031219005584717,
          5.762232780456543,
          5.153295040130615,
          5.945606231689453,
          6.105711460113525,
          6.359992027282715,
          5.788236141204834,
          5.5780863761901855,
          5.53444242477417,
          6.067314624786377,
          5.221412658691406,
          5.0201334953308105,
          5.586094379425049,
          5.104397296905518,
          5.345304489135742,
          5.128180503845215,
          5.572071552276611,
          6.233479022979736,
          6.139821529388428,
          6.108207702636719,
          5.961453437805176,
          5.503762245178223,
          5.564968585968018,
          6.039459705352783,
          4.900451183319092,
          5.7215142250061035,
          5.0491766929626465,
          5.998775482177734,
          5.185458660125732,
          5.60572624206543,
          6.213951110839844,
          6.263752460479736,
          6.376546382904053,
          6.051062107086182,
          5.917957782745361,
          5.9023542404174805,
          5.391872406005859,
          5.824246406555176,
          6.104876518249512,
          6.1209716796875,
          6.354661464691162,
          5.971038818359375,
          4.940230846405029,
          6.120790481567383,
          5.566882133483887,
          5.159686088562012,
          6.13933801651001,
          6.017130374908447,
          5.106505870819092,
          6.010705947875977,
          6.190730571746826,
          4.81093168258667,
          6.0878705978393555,
          5.553925514221191,
          5.322777271270752,
          5.962629795074463,
          5.001986026763916,
          5.507287502288818,
          5.774354934692383,
          5.407870292663574,
          5.388324737548828,
          5.378504276275635,
          5.233874320983887,
          6.257238864898682,
          5.124359607696533,
          5.358309745788574,
          5.887021541595459,
          4.941891193389893,
          6.117098808288574,
          6.303987979888916,
          5.30308723449707,
          5.019026279449463,
          6.123991012573242,
          6.06640625,
          5.825004577636719,
          5.041367053985596,
          6.329702854156494,
          6.083001613616943,
          5.485706806182861,
          6.3581624031066895,
          6.024723052978516,
          6.163712024688721,
          5.995920658111572,
          6.013971328735352,
          5.050586700439453,
          6.207798957824707,
          6.105483531951904,
          5.271667957305908,
          4.85521125793457,
          4.831008434295654,
          5.758912086486816,
          5.099322319030762,
          5.233911037445068,
          5.718939781188965,
          4.721924781799316,
          5.838228702545166,
          5.130630016326904,
          5.625458717346191,
          6.120587348937988,
          6.106178283691406,
          4.817009449005127,
          6.01085090637207,
          5.137601852416992,
          5.393679618835449,
          5.613678932189941,
          5.9390177726745605,
          5.115459442138672,
          5.994059085845947,
          4.9392266273498535,
          6.046663761138916,
          6.07509183883667,
          6.056206226348877,
          5.124871253967285,
          4.827250003814697,
          5.726068019866943,
          5.46772575378418,
          6.023125648498535,
          5.20601749420166,
          6.046727657318115,
          4.787152290344238,
          5.760735988616943,
          5.228614807128906,
          5.215479850769043,
          5.531061172485352,
          5.412837982177734,
          6.064545154571533,
          6.365534782409668,
          4.990830898284912,
          4.917119979858398,
          5.731904983520508,
          5.014956474304199,
          6.054074287414551,
          6.191567420959473,
          5.274839878082275,
          5.407148838043213,
          6.1301116943359375,
          6.049868583679199,
          5.932717323303223,
          4.846809387207031,
          6.201207160949707,
          6.022918701171875,
          5.269919395446777,
          4.87874174118042,
          4.955673694610596,
          5.7700371742248535,
          5.2031474113464355,
          5.879388332366943,
          5.927492141723633,
          4.7139973640441895,
          5.770980358123779,
          5.778355121612549,
          4.847077369689941,
          6.058339595794678,
          6.0230021476745605,
          5.486690521240234,
          6.357789039611816,
          6.02677059173584,
          5.2451066970825195,
          5.036487102508545,
          5.363639831542969,
          6.128877639770508,
          6.007662296295166,
          5.050516605377197,
          5.747588634490967,
          6.130367279052734,
          5.990725517272949,
          4.8312883377075195,
          4.842527866363525,
          5.604119777679443,
          5.491650104522705,
          5.364113807678223,
          5.4090118408203125,
          6.3447136878967285,
          4.699594497680664,
          6.228390216827393,
          5.818981170654297,
          5.298496723175049,
          5.492217063903809,
          5.710381031036377,
          4.937286853790283,
          5.937638759613037,
          6.027230739593506,
          6.1095733642578125,
          6.225658416748047,
          4.985637187957764,
          4.945623874664307,
          6.114370822906494,
          6.075702667236328,
          5.82078742980957,
          5.117177486419678,
          4.86344051361084,
          5.019716262817383,
          5.212278842926025,
          5.805026054382324,
          5.995230197906494,
          6.220601558685303,
          5.241980075836182,
          5.78439474105835,
          5.709631443023682,
          5.139801025390625,
          4.883370399475098,
          5.00924015045166,
          5.219791889190674,
          6.105740547180176,
          5.3928446769714355,
          5.897540092468262,
          5.221975326538086,
          5.93444299697876,
          5.069770812988281,
          5.458643913269043,
          6.298065662384033,
          5.274449348449707,
          6.228696823120117,
          5.8401970863342285,
          5.730339527130127,
          5.269664764404297,
          5.007142543792725,
          5.794229507446289,
          5.0574846267700195,
          5.033138275146484,
          5.505415439605713,
          6.127851963043213,
          6.3206024169921875,
          5.143073081970215,
          5.7285237312316895,
          5.031213283538818,
          5.745080947875977,
          5.536036014556885,
          5.405189514160156,
          5.120081901550293,
          6.01900053024292,
          5.082296371459961,
          5.456560134887695,
          5.129034042358398,
          6.053328037261963,
          4.919460773468018,
          6.127551555633545,
          6.08306360244751,
          5.726565361022949,
          6.033206939697266,
          6.113647937774658,
          5.215520858764648,
          5.152794361114502,
          5.607590675354004,
          5.3524370193481445,
          5.408411979675293,
          5.43303108215332,
          6.296240329742432,
          6.356474876403809,
          4.916127681732178,
          5.23877477645874,
          6.358096599578857,
          5.7422614097595215,
          5.425872325897217,
          5.055400848388672,
          4.869915008544922,
          5.1438398361206055,
          5.802666664123535,
          5.2707133293151855,
          5.263840198516846,
          5.765730857849121,
          4.833551406860352,
          5.990337371826172,
          5.015188694000244,
          6.135354995727539,
          5.239720344543457,
          4.767453670501709,
          4.8913984298706055,
          5.705671787261963,
          5.883810043334961,
          6.019379138946533,
          5.758530139923096,
          4.802206993103027,
          5.247043609619141,
          6.306030750274658,
          5.0768609046936035,
          4.824514389038086,
          5.760887145996094,
          5.906935691833496,
          5.99207067489624,
          5.409505367279053,
          6.000591278076172,
          5.041290760040283,
          4.888592720031738,
          5.228152751922607,
          6.137247562408447,
          5.570691108703613,
          6.1365509033203125,
          5.754204750061035,
          5.998533248901367,
          6.003005027770996,
          5.037154674530029,
          5.680215835571289,
          5.123768329620361,
          6.002986431121826,
          5.290524959564209,
          5.013388156890869,
          5.553102493286133,
          5.016267776489258,
          5.988877296447754,
          4.822278022766113,
          5.515144348144531,
          5.988636493682861,
          6.330381393432617,
          5.551137447357178,
          5.248712539672852,
          6.195047855377197,
          5.898076057434082,
          5.1940460205078125,
          5.10612678527832,
          5.58126974105835,
          6.290241718292236,
          5.0214948654174805,
          5.23967170715332,
          6.137332916259766,
          5.096147060394287,
          5.27701997756958,
          4.6999053955078125,
          5.675158500671387,
          5.0980072021484375,
          5.861725807189941,
          5.0246262550354,
          5.085393905639648,
          4.78786563873291,
          6.019088268280029,
          5.565057277679443,
          5.91617488861084,
          6.106105327606201,
          6.032707691192627,
          5.2809739112854,
          5.915910243988037,
          5.981075286865234,
          5.195168495178223,
          6.137116432189941,
          5.763619422912598,
          5.086747646331787,
          5.2056121826171875,
          6.062281131744385,
          5.89018440246582,
          5.702427864074707,
          5.999564170837402,
          5.798341751098633,
          5.377988338470459,
          5.0008015632629395,
          5.140285015106201,
          4.978734016418457,
          5.965546131134033,
          5.994414806365967,
          5.008761882781982,
          6.03315544128418,
          4.850791931152344,
          5.091984748840332,
          6.26857852935791,
          5.888729095458984,
          5.989052772521973,
          5.959311485290527,
          6.088436126708984,
          5.188345909118652,
          4.666021347045898,
          4.749422550201416,
          4.7863664627075195,
          5.170958042144775,
          5.0177693367004395,
          5.013387680053711,
          5.915276527404785,
          6.054053783416748,
          6.138061046600342,
          5.107313632965088,
          5.992145538330078,
          4.780568599700928,
          5.107992172241211,
          6.057827472686768,
          5.155847549438477,
          4.8711113929748535,
          5.96251106262207,
          6.13433837890625,
          6.054271697998047,
          6.069129467010498,
          5.8891119956970215,
          6.030643463134766,
          5.391573905944824,
          5.480836391448975,
          5.177604675292969,
          5.759028911590576,
          4.97131872177124,
          6.366238594055176,
          6.0548295974731445,
          5.166115760803223,
          5.138535976409912,
          6.056177139282227,
          5.411133289337158,
          6.1049041748046875,
          5.880983829498291,
          6.092371463775635,
          5.907618522644043,
          6.386325359344482,
          6.00840425491333,
          5.495510101318359,
          5.584670066833496,
          5.585044860839844,
          5.222039222717285,
          6.0521039962768555,
          4.951145172119141,
          4.931082248687744,
          5.0508575439453125,
          5.218045711517334,
          5.902205467224121,
          5.9946208000183105,
          6.376949787139893,
          5.397108554840088,
          5.802907943725586,
          5.09090518951416,
          5.99513053894043,
          6.04599142074585,
          5.095713138580322,
          5.828356742858887,
          6.0043487548828125,
          5.305475234985352,
          5.004486560821533,
          5.0644941329956055,
          5.319523811340332,
          6.345879077911377,
          5.090749740600586,
          5.756442070007324,
          5.1137919425964355,
          5.236873149871826,
          5.276956558227539,
          5.897866249084473,
          5.7161030769348145,
          5.105361461639404,
          5.256014347076416,
          6.0546417236328125,
          5.010460376739502,
          5.025269031524658,
          5.945373058319092,
          5.362066268920898,
          6.20748233795166,
          5.990069389343262,
          5.5412468910217285,
          5.122951030731201,
          5.222044944763184,
          4.930418014526367,
          6.024309158325195,
          5.564407825469971,
          5.133022785186768,
          5.340936660766602,
          5.079987525939941,
          6.3309783935546875,
          5.477200984954834,
          6.101339340209961,
          5.5853071212768555,
          5.765464782714844,
          5.823017120361328,
          5.029776096343994,
          5.80126953125,
          5.998999118804932,
          5.730676651000977,
          4.864797592163086,
          5.389096736907959,
          5.268675327301025,
          4.7156662940979,
          6.011186122894287,
          6.053338527679443,
          5.218254566192627,
          5.736559867858887,
          5.328386306762695,
          6.031775951385498,
          6.031515121459961,
          5.72843074798584,
          6.2101335525512695,
          4.792382717132568,
          5.793771743774414,
          5.917261123657227,
          5.466695308685303,
          5.608445644378662,
          5.446825981140137,
          6.1251044273376465,
          5.9833831787109375,
          4.7806196212768555,
          6.022787094116211,
          5.686977386474609,
          4.8313469886779785,
          4.911561965942383,
          5.720232963562012,
          5.940752029418945,
          5.113299369812012,
          5.023219585418701,
          5.03577995300293,
          5.7845988273620605,
          6.158819675445557,
          6.087868690490723,
          5.503708839416504,
          4.9858784675598145,
          4.839942455291748,
          6.333951473236084,
          5.013781547546387,
          5.5269775390625,
          5.2458271980285645,
          4.854048252105713,
          6.088873863220215,
          4.885660171508789,
          5.040796279907227,
          5.593395233154297,
          6.101400375366211,
          5.583282947540283,
          5.4989705085754395,
          5.713172912597656,
          5.349017143249512,
          5.568567276000977,
          5.245037078857422,
          5.729680061340332,
          5.994246959686279,
          6.104543685913086,
          5.980363845825195,
          5.989692211151123,
          6.048278331756592,
          5.591622352600098,
          5.584833145141602,
          6.258548259735107,
          4.990609645843506,
          6.103548049926758,
          5.495609283447266,
          5.221036911010742,
          5.487621307373047,
          4.850618362426758,
          5.646289348602295,
          6.277041435241699,
          5.124347686767578,
          5.333932399749756,
          6.037655353546143,
          5.031276226043701,
          5.712357044219971,
          5.936033725738525,
          5.7375030517578125,
          5.036860942840576,
          5.786265850067139,
          6.1101460456848145,
          5.45057487487793,
          5.608936309814453,
          6.13820219039917,
          5.416342735290527,
          5.797698974609375,
          5.814712047576904,
          6.022380828857422,
          5.991278171539307,
          5.401211261749268,
          6.0564494132995605,
          5.145200729370117,
          6.398207664489746,
          5.0482001304626465,
          5.429646968841553,
          6.015153884887695,
          5.283331394195557,
          4.8915934562683105,
          4.800812244415283,
          6.114934921264648,
          6.040698051452637,
          5.315253734588623,
          6.020833969116211,
          6.03318452835083,
          6.343659400939941,
          4.8796491622924805,
          5.907247543334961,
          5.094233989715576,
          6.367300033569336,
          5.303864002227783,
          5.47833251953125,
          6.138059139251709,
          5.999294281005859,
          5.229124069213867,
          5.438851356506348,
          5.7895660400390625,
          6.07781982421875,
          5.019908428192139,
          5.704570293426514,
          5.612336158752441,
          5.011613368988037,
          5.962041854858398,
          4.883779525756836,
          6.265491485595703,
          6.084526538848877,
          5.118358612060547,
          6.00953483581543,
          5.750842571258545,
          5.565682411193848,
          4.989974021911621,
          6.1154890060424805,
          5.085593223571777,
          5.054701805114746,
          4.917252063751221,
          5.475058555603027,
          5.792794704437256,
          4.800843238830566,
          5.74432373046875,
          5.413183212280273,
          4.897987365722656,
          5.465238571166992,
          5.64564323425293,
          5.750607490539551,
          5.05771541595459,
          4.852519512176514,
          4.996189117431641,
          5.277223587036133,
          5.563168525695801,
          5.990567684173584,
          4.971255779266357,
          5.279510974884033,
          6.133827209472656,
          5.194405555725098,
          6.161236763000488,
          6.357944965362549,
          5.041520595550537,
          5.124292850494385,
          5.045652389526367,
          5.099706172943115,
          6.025476932525635,
          5.044518947601318,
          5.969210147857666,
          4.841402530670166,
          5.59769868850708,
          6.361422061920166,
          5.604053497314453,
          6.085028648376465,
          6.1940412521362305,
          6.298164367675781,
          5.883153438568115,
          6.109652519226074,
          5.995746612548828,
          5.547126770019531,
          6.010480880737305,
          6.362328052520752,
          5.408929347991943,
          6.040102481842041,
          5.992092132568359,
          4.817825794219971,
          6.133965969085693,
          5.066763401031494,
          4.866824150085449,
          5.415457248687744,
          6.131411552429199,
          5.089155673980713,
          5.389264106750488,
          5.4115705490112305,
          5.137462139129639,
          6.114869117736816,
          5.4479780197143555,
          5.9943766593933105,
          6.1294403076171875,
          5.717949390411377,
          6.176546573638916,
          6.160264015197754,
          4.781949043273926,
          5.797375202178955,
          5.0501389503479,
          5.371588230133057,
          6.3041229248046875,
          5.786721229553223,
          5.670226573944092,
          4.991981029510498,
          6.001035690307617,
          6.297137260437012,
          6.16546106338501,
          5.614913463592529,
          5.88332986831665,
          6.079489707946777,
          6.096165180206299,
          5.847901821136475,
          6.373505115509033,
          6.03700590133667,
          5.1704487800598145,
          6.3532609939575195,
          5.952297210693359,
          4.891634941101074,
          5.12127685546875,
          6.036494731903076,
          5.94461727142334,
          5.165563583374023,
          6.066799163818359,
          6.355250358581543,
          5.349047660827637,
          5.0391340255737305,
          5.007510185241699,
          5.75834846496582,
          5.12849235534668,
          5.143537998199463,
          5.7278008460998535,
          6.136033535003662,
          5.0295939445495605,
          5.175182819366455,
          5.948742389678955,
          5.976490497589111,
          4.883267402648926,
          5.255264759063721,
          5.086086273193359,
          5.942595958709717,
          5.013442516326904,
          5.4200921058654785,
          5.735022068023682,
          5.431858539581299,
          6.0397114753723145,
          6.030210971832275,
          6.269105434417725,
          5.271044731140137,
          5.563055515289307,
          4.966032028198242,
          6.322134017944336,
          5.045921802520752,
          5.168821334838867,
          5.133913040161133,
          5.483598232269287,
          6.342850685119629,
          5.074293613433838,
          5.785262107849121,
          5.590602874755859,
          5.7865400314331055,
          4.9880900382995605,
          5.435406684875488,
          5.645830154418945,
          5.040646553039551,
          5.2328057289123535,
          5.034720420837402,
          5.042806148529053,
          5.389622688293457,
          5.123754978179932,
          6.105317115783691,
          5.39201545715332,
          5.133216381072998,
          5.513647079467773,
          6.125606536865234,
          4.700443267822266,
          6.101998329162598,
          5.756185531616211,
          5.790123462677002,
          5.1260833740234375,
          6.359573841094971,
          6.119035243988037,
          5.944611549377441,
          5.261027812957764,
          5.055597305297852,
          5.181379318237305,
          5.01162052154541,
          6.082422256469727,
          5.571813106536865,
          6.020561218261719,
          5.035459995269775,
          6.044203281402588,
          5.268576145172119,
          5.7880539894104,
          4.782228946685791,
          5.751356601715088,
          5.750531196594238,
          5.800600528717041,
          5.753372669219971,
          6.022193431854248,
          5.736483097076416,
          4.858322620391846,
          5.078718662261963,
          5.238159656524658,
          6.326460838317871,
          4.786532878875732,
          5.198639869689941,
          6.327749252319336,
          5.036335468292236,
          4.782417297363281,
          5.981771469116211,
          4.975452423095703,
          5.971057415008545,
          6.0112786293029785,
          6.052525043487549,
          5.272244453430176,
          5.222107410430908,
          6.101046085357666,
          5.1042070388793945,
          4.891653537750244,
          5.982104778289795,
          4.718882083892822,
          5.207826614379883,
          5.221940040588379,
          6.00433874130249,
          6.161621570587158,
          6.131122589111328,
          4.907439708709717,
          6.0803093910217285,
          5.51838493347168,
          6.040646553039551,
          5.389515399932861,
          5.690886974334717,
          5.708191394805908,
          5.8363494873046875,
          5.085398197174072,
          5.306835174560547,
          5.163051128387451,
          5.335665225982666,
          6.214536190032959,
          5.204726696014404,
          5.21413516998291,
          5.217326641082764,
          5.16110372543335,
          5.097822666168213,
          5.591001033782959,
          5.33413553237915,
          6.019906044006348,
          5.096123695373535,
          6.3942999839782715,
          4.8860321044921875,
          5.107713222503662,
          4.905723571777344,
          5.215603828430176,
          6.10726261138916,
          5.440847396850586,
          5.906965255737305,
          5.493242263793945,
          5.003173828125,
          5.072409152984619,
          5.987727165222168,
          5.736822128295898,
          4.893083572387695,
          6.012359619140625,
          5.482453346252441,
          5.028120994567871,
          5.0755462646484375,
          4.980785846710205,
          4.952725410461426,
          6.110555171966553,
          6.346182823181152,
          5.683572769165039,
          6.363777160644531,
          6.0095953941345215,
          4.998626232147217,
          5.016247272491455,
          6.023707389831543,
          5.139031887054443,
          5.4042863845825195,
          6.3667826652526855,
          5.255495071411133,
          5.111032009124756,
          5.418553352355957,
          6.015300750732422,
          5.750514984130859,
          6.1333465576171875,
          5.380699634552002,
          5.350256443023682,
          5.783041477203369,
          5.727873802185059,
          5.0703959465026855,
          5.051433563232422,
          6.12078857421875,
          6.069775104522705,
          5.027942657470703,
          6.090031147003174,
          6.343040466308594,
          6.003957271575928,
          6.000240325927734,
          5.4584760665893555,
          4.707760810852051,
          5.944859981536865,
          6.346043109893799,
          5.56377649307251,
          5.8271565437316895,
          5.268499851226807,
          5.159724712371826,
          5.943241596221924,
          5.55901575088501,
          6.335968017578125,
          5.078782081604004,
          5.269210338592529,
          5.9792914390563965,
          5.743337631225586,
          6.070315361022949,
          5.083317756652832,
          5.591292858123779,
          5.2429656982421875,
          6.330353736877441,
          6.0790114402771,
          5.762002468109131,
          4.979132175445557,
          5.265501022338867,
          6.180079460144043,
          6.048720359802246,
          6.0653886795043945,
          4.875472068786621,
          5.989786624908447,
          4.8499436378479,
          5.398427486419678,
          5.05550479888916,
          5.9902849197387695,
          6.301568984985352,
          5.424595832824707,
          5.073785305023193,
          6.069612979888916,
          5.988070011138916,
          5.748620510101318,
          5.591615676879883,
          5.234649181365967,
          6.3424072265625,
          5.7783026695251465,
          5.290850639343262,
          6.049937725067139,
          5.303694725036621,
          6.045952796936035,
          5.417449951171875,
          4.9469451904296875,
          4.706370830535889,
          6.076636791229248,
          5.9157586097717285,
          5.405412673950195,
          5.357464790344238,
          5.748917102813721,
          5.035219192504883,
          5.196507930755615,
          5.696996212005615,
          4.8143086433410645,
          5.296186447143555,
          4.786568641662598,
          5.690975666046143,
          4.838211536407471,
          5.896071434020996,
          5.493483066558838,
          5.483326435089111,
          5.961642742156982,
          5.002573490142822,
          6.272693634033203,
          6.0148444175720215,
          6.055784702301025,
          5.751847743988037,
          4.868671894073486,
          4.896031379699707,
          4.786975383758545,
          6.3435492515563965,
          5.471771240234375,
          5.403480052947998,
          5.3015313148498535,
          5.93355655670166,
          5.418694496154785,
          5.755125045776367,
          5.221333980560303,
          6.0311126708984375,
          6.148619174957275,
          5.862539291381836,
          5.199710845947266,
          5.8896613121032715,
          5.549176216125488,
          5.126494884490967,
          5.624409198760986,
          5.488544464111328,
          5.682310581207275,
          4.639692783355713,
          6.396502494812012,
          5.9987945556640625,
          5.27679443359375,
          5.034689426422119,
          5.534970760345459,
          5.040511131286621,
          6.032822608947754,
          6.2995476722717285,
          5.518218517303467,
          5.007575988769531,
          5.881957054138184,
          5.432125568389893,
          6.025330543518066,
          5.238519668579102,
          5.126283645629883,
          5.473374843597412,
          6.066263675689697,
          5.437173366546631,
          5.167941570281982,
          5.97230863571167,
          5.392435073852539,
          6.32872200012207,
          5.613001346588135,
          6.155012130737305,
          5.9790358543396,
          5.3593831062316895,
          5.031805992126465,
          5.785091400146484,
          6.077648162841797,
          5.196495056152344,
          5.940929412841797,
          5.237517356872559,
          4.859416484832764,
          6.008111000061035,
          5.380950450897217,
          5.4024457931518555,
          5.300840377807617,
          5.3501152992248535,
          4.934970855712891,
          4.940744876861572,
          5.382366180419922,
          5.02388334274292,
          6.096795082092285,
          4.966538429260254,
          5.300989627838135,
          5.9876790046691895,
          5.349879741668701,
          6.307153224945068,
          5.765440940856934,
          5.175119876861572,
          5.271610736846924,
          5.165709972381592,
          5.4148969650268555,
          4.8821492195129395,
          5.800308704376221,
          5.259102821350098,
          5.4337992668151855,
          5.339545726776123,
          5.98723030090332,
          5.311994552612305,
          6.014930725097656,
          5.755525588989258,
          5.001680374145508,
          5.040403366088867,
          5.336043357849121,
          6.029881954193115,
          5.0291571617126465,
          6.194645881652832,
          5.333636283874512,
          5.797886371612549,
          5.748968601226807,
          5.3040900230407715,
          5.247245788574219,
          4.707679748535156,
          5.735901355743408,
          5.070403575897217,
          6.228787899017334,
          5.943162441253662,
          6.287394046783447,
          5.991728782653809,
          5.501469135284424,
          6.214722156524658,
          4.7083892822265625,
          6.1071906089782715,
          6.241509437561035,
          6.036767482757568,
          5.901312828063965,
          4.704157829284668,
          6.2556962966918945,
          5.4143757820129395,
          5.2726335525512695,
          5.674386501312256,
          5.811120510101318,
          5.391857624053955,
          5.72944974899292,
          6.108719348907471,
          5.032907009124756,
          5.0748372077941895,
          6.011011123657227,
          5.814671993255615,
          5.97218132019043,
          6.109020709991455,
          5.140781879425049,
          6.345028877258301,
          5.783687114715576,
          5.7373552322387695,
          6.063950061798096,
          5.752684116363525,
          5.936580181121826,
          5.798174858093262,
          5.852050304412842,
          4.847283840179443,
          6.091135025024414,
          4.8088555335998535,
          5.407541275024414,
          5.301059722900391,
          6.124061107635498,
          5.001141548156738,
          5.2148118019104,
          4.871100425720215,
          4.937860488891602,
          6.023362636566162,
          6.09635591506958,
          5.75131368637085,
          4.844049453735352,
          6.076626300811768,
          6.163877964019775,
          6.025025844573975,
          5.028260231018066,
          6.12195348739624,
          6.172987937927246,
          4.863364219665527,
          6.160441875457764,
          6.336907386779785,
          6.060946464538574,
          5.462821960449219,
          5.5484137535095215,
          6.052614688873291,
          4.881324768066406,
          5.8984599113464355,
          5.039471626281738,
          6.095600128173828,
          5.995577812194824,
          5.2204389572143555,
          6.120946884155273,
          5.28513765335083,
          5.420793056488037,
          5.335229396820068,
          5.7000322341918945,
          5.114778995513916,
          5.9877095222473145,
          5.898338317871094,
          5.414942741394043,
          5.772953033447266,
          5.410342693328857,
          6.141722202301025,
          5.381349086761475,
          5.957456588745117,
          4.959253311157227,
          4.844644546508789,
          5.939712047576904,
          6.190169811248779,
          4.7075514793396,
          6.107114791870117,
          6.230130195617676,
          5.547377586364746,
          5.087156295776367,
          5.978592395782471,
          5.747104644775391,
          5.031839847564697,
          5.669255256652832,
          5.982187271118164,
          5.74962854385376,
          5.038872718811035,
          5.7780280113220215,
          6.014965534210205,
          4.892604351043701,
          6.3250226974487305,
          6.1065521240234375,
          5.276145935058594,
          6.080405235290527,
          6.128394603729248,
          4.717396259307861,
          5.085958957672119,
          5.914233684539795,
          4.878775596618652,
          5.12175178527832,
          5.266996383666992,
          5.017849922180176,
          5.160488128662109,
          6.297079563140869,
          5.9338765144348145,
          5.083315849304199,
          5.106786251068115,
          5.004309177398682,
          5.3900556564331055,
          5.391469478607178,
          6.103381156921387,
          5.898499488830566,
          5.033152103424072,
          6.0040693283081055,
          5.898099422454834,
          6.131392955780029,
          6.014023780822754,
          4.980350971221924,
          4.869012355804443,
          5.879084587097168,
          4.7681884765625,
          4.8799519538879395,
          5.271960735321045,
          6.121829032897949,
          4.854791641235352,
          5.082178592681885,
          5.6910552978515625,
          5.128364562988281,
          5.53605318069458,
          4.834812164306641,
          5.617433547973633,
          6.118887901306152,
          5.123083591461182,
          6.080549240112305,
          5.322702884674072,
          5.989138126373291,
          4.692848205566406,
          5.963404655456543,
          5.338950157165527,
          6.110641002655029,
          5.4525933265686035,
          5.934871196746826,
          6.1500396728515625,
          5.274788856506348,
          6.36129093170166,
          5.042177677154541,
          4.816965103149414,
          5.488718032836914,
          5.383782863616943,
          5.566426753997803,
          5.2297539710998535,
          5.939920425415039,
          6.077584266662598,
          5.726268768310547,
          4.819249153137207,
          5.464685916900635,
          4.835169792175293,
          5.928520679473877,
          4.890774250030518,
          5.422765731811523,
          5.075985431671143,
          5.019278526306152,
          5.118819713592529,
          4.889379978179932,
          5.318809509277344,
          5.05062198638916,
          5.415918827056885,
          6.0495195388793945,
          6.0933837890625,
          4.717137336730957,
          4.787068843841553,
          5.980382919311523,
          6.337241172790527,
          6.195906162261963,
          5.5981903076171875,
          5.974476337432861,
          6.15813684463501,
          5.193196773529053,
          5.963832378387451,
          5.941230773925781,
          5.205474853515625,
          4.786679744720459,
          4.924387454986572,
          5.024522304534912,
          6.138485431671143,
          5.481354236602783,
          5.114185333251953,
          5.046116352081299,
          5.0407490730285645,
          5.023106098175049,
          5.006970405578613,
          5.315752029418945,
          5.05944299697876,
          6.165109634399414,
          5.738842964172363,
          5.989778995513916,
          5.330110549926758,
          6.1256842613220215,
          6.387828826904297,
          5.106135368347168,
          5.5950212478637695,
          5.037619113922119,
          5.250602722167969,
          5.553144931793213,
          6.0107035636901855,
          6.093545913696289,
          6.000364303588867,
          5.991029739379883,
          5.2140398025512695,
          5.586390495300293,
          5.499769687652588,
          6.008500099182129,
          5.108296871185303,
          5.76567268371582,
          6.05116605758667,
          6.09224271774292,
          4.977635383605957,
          5.115625381469727,
          5.772464275360107,
          5.315097332000732,
          6.000100135803223,
          5.032956123352051,
          5.040248870849609,
          6.155352592468262,
          5.391037464141846,
          6.1614227294921875,
          6.101856708526611,
          5.984850883483887,
          5.221198081970215,
          6.188828945159912,
          6.005311012268066,
          5.793518543243408,
          6.059537887573242,
          5.271907806396484,
          5.451888084411621,
          6.0172247886657715,
          6.3329758644104,
          5.413002014160156,
          6.089766025543213,
          5.11044454574585,
          5.471685409545898,
          5.885540962219238,
          6.079463005065918,
          5.239738464355469,
          5.276468753814697,
          5.413614273071289,
          6.318306922912598,
          6.346958637237549,
          6.108932018280029,
          6.098506450653076,
          5.781179428100586,
          4.869314193725586,
          5.758761405944824,
          5.343291282653809,
          4.721114158630371,
          5.12207555770874,
          5.077879428863525,
          5.167004108428955,
          5.93371057510376,
          6.037817001342773,
          5.280468463897705,
          5.406591892242432,
          6.349648475646973,
          6.062460899353027,
          5.231869697570801,
          5.789695739746094,
          6.365812301635742,
          5.618809700012207,
          5.569777488708496,
          6.081057071685791,
          6.052529335021973,
          5.607416152954102,
          5.1083574295043945,
          6.1913347244262695,
          4.907318115234375,
          4.855131149291992,
          5.898105144500732,
          5.298380374908447,
          5.972365379333496,
          5.8984808921813965,
          4.114153861999512,
          5.07081413269043,
          6.198244571685791,
          5.388514041900635,
          5.965488910675049,
          6.099234104156494,
          5.487529277801514,
          5.803720951080322,
          5.89181661605835,
          6.378265857696533,
          5.740846157073975,
          5.573313236236572,
          6.165285587310791,
          5.966474533081055,
          4.800910949707031,
          5.779983043670654,
          6.041901588439941,
          6.400155067443848,
          5.534465789794922,
          6.0174431800842285,
          6.086273670196533,
          6.102500915527344,
          5.76327657699585,
          5.2221455574035645,
          5.2212910652160645,
          5.945290565490723,
          5.079559803009033,
          5.907042503356934,
          4.883883953094482,
          4.857535362243652,
          6.138668060302734,
          5.971439838409424,
          6.0538225173950195,
          5.152842044830322,
          5.171773433685303,
          5.032612323760986,
          5.208515167236328,
          4.884405612945557,
          6.14601469039917,
          5.410888195037842,
          5.068314075469971,
          5.125957489013672,
          5.787034034729004,
          6.0370635986328125,
          6.078158378601074,
          4.936472415924072,
          6.102746486663818,
          5.042990684509277,
          5.246157646179199,
          6.042475700378418,
          5.967779636383057,
          5.952373027801514,
          6.333523273468018,
          5.788604736328125,
          4.909180164337158,
          5.030304431915283,
          6.068681716918945,
          5.031851291656494,
          5.537013053894043,
          5.751196384429932,
          5.966169357299805,
          6.001801013946533,
          4.890577793121338,
          6.199787616729736,
          6.091083526611328,
          6.121389389038086,
          5.372673511505127,
          5.050668239593506,
          4.835031509399414,
          5.57802677154541,
          5.3637824058532715,
          6.071126461029053,
          5.985006809234619,
          5.778713703155518,
          5.8301873207092285,
          5.1389336585998535,
          6.17356014251709,
          5.072516918182373,
          6.0065155029296875,
          6.1220784187316895,
          5.794765949249268,
          6.215826034545898,
          6.045973300933838,
          5.292953014373779,
          4.113551616668701,
          5.14362096786499,
          5.13856315612793,
          5.496751308441162,
          4.873841762542725,
          5.752976417541504,
          5.209850311279297,
          5.729986667633057,
          5.296782970428467,
          5.095763683319092,
          5.124580383300781,
          6.1565375328063965,
          5.005012512207031,
          5.920310020446777,
          5.004968643188477,
          5.141207218170166,
          5.1188859939575195,
          4.848193645477295,
          5.014952659606934,
          5.474945068359375,
          5.597280979156494,
          6.117560863494873,
          6.091808319091797,
          5.748249053955078,
          5.546289920806885,
          5.0089616775512695,
          6.326055526733398,
          6.257918834686279,
          5.028027534484863,
          5.725334644317627,
          6.283417701721191,
          5.122011661529541,
          5.163529396057129,
          4.639727592468262,
          6.292109489440918,
          6.079146385192871,
          5.541107654571533,
          5.27625846862793,
          5.003958702087402,
          5.49231481552124,
          6.343517780303955,
          6.115808010101318,
          6.046394348144531,
          4.11295747756958,
          5.21101188659668,
          6.135495185852051,
          5.836825370788574,
          5.050796031951904,
          5.084881782531738,
          5.7457709312438965,
          5.197117328643799,
          5.111205577850342,
          5.1295928955078125,
          5.3035383224487305,
          5.52764892578125,
          5.560643672943115,
          6.277940273284912,
          5.2064971923828125,
          4.700641632080078,
          6.125687122344971,
          5.221588134765625,
          6.217530727386475,
          6.139657974243164,
          5.977406978607178,
          5.3174896240234375,
          6.355492115020752,
          4.750326156616211,
          5.167611122131348,
          5.2692484855651855,
          5.640267372131348,
          4.814564228057861,
          5.801762104034424,
          5.907646656036377,
          5.98352575302124,
          5.890787124633789,
          5.221146583557129,
          5.619380474090576,
          5.938475131988525,
          5.167313575744629,
          5.724067687988281,
          5.303582191467285,
          6.353456974029541,
          4.948607444763184,
          6.03288459777832,
          6.178284168243408,
          5.287687301635742,
          6.078709125518799,
          5.063033580780029,
          6.037029266357422,
          5.106671333312988,
          5.430468559265137,
          6.2176971435546875,
          6.303929805755615,
          5.873706817626953,
          5.66699743270874,
          5.971080780029297,
          6.259986400604248,
          5.997720718383789,
          5.594143390655518,
          5.748047351837158,
          4.714193344116211,
          5.3260273933410645,
          4.7094268798828125,
          5.885824680328369,
          6.11581563949585,
          4.87124490737915,
          5.288414478302002,
          6.208423614501953,
          5.618645668029785,
          5.062817573547363,
          5.668160438537598,
          5.950017929077148,
          5.97306489944458,
          6.173964977264404,
          5.418320178985596,
          5.390505313873291,
          5.089784145355225,
          5.908011436462402,
          5.754562854766846,
          6.084683895111084,
          6.159481525421143,
          6.134820461273193,
          4.862051010131836,
          5.2717132568359375,
          4.970101356506348,
          6.09484338760376,
          5.046128749847412,
          5.6981916427612305,
          6.054039478302002,
          5.160633087158203,
          5.38933801651001,
          5.732391357421875,
          5.357236862182617,
          6.098059177398682,
          5.001656532287598,
          5.965152263641357,
          5.764566898345947,
          5.331361770629883,
          5.954031467437744,
          5.272427558898926,
          5.445715427398682,
          6.078030586242676,
          5.643181324005127,
          6.057310104370117,
          5.662430286407471,
          5.514998435974121,
          5.221374988555908,
          5.285597801208496,
          6.0623393058776855,
          5.855980396270752,
          4.904077529907227,
          6.087592601776123,
          6.053824424743652,
          5.038134574890137,
          5.499004364013672,
          4.816206455230713,
          5.075003147125244,
          6.052091598510742,
          4.907309055328369,
          5.893489360809326,
          6.344274997711182,
          5.316165447235107,
          6.2616424560546875,
          5.928337574005127,
          6.0344743728637695,
          5.244123935699463,
          4.7808403968811035,
          5.456001281738281,
          5.021744728088379,
          6.377549171447754,
          5.6924567222595215,
          4.893710136413574,
          6.102451324462891,
          6.220157623291016,
          4.916614532470703,
          5.811435699462891,
          5.8219990730285645,
          4.8008270263671875,
          4.799445152282715,
          6.070317268371582,
          5.016814708709717,
          5.087906360626221,
          5.233850955963135,
          5.161130428314209,
          5.040158271789551,
          6.282320976257324,
          6.092726707458496,
          4.786336898803711,
          5.1116156578063965,
          5.108643054962158,
          5.079009532928467,
          5.031261444091797,
          5.634253025054932,
          4.949524402618408,
          5.982106685638428,
          5.157670497894287,
          5.195350646972656,
          5.963567733764648,
          6.2691802978515625,
          4.800811290740967,
          6.069074630737305,
          5.617972373962402,
          4.992143630981445,
          5.9329142570495605,
          5.44704008102417,
          5.93557596206665,
          5.226326942443848,
          5.995875835418701,
          5.931179046630859,
          5.482474327087402,
          5.594695091247559,
          6.236022472381592,
          5.748445510864258,
          6.359795093536377,
          5.598974704742432,
          5.075873374938965,
          5.475254058837891,
          5.396475791931152,
          5.721579074859619,
          5.0174384117126465,
          5.782567977905273,
          5.750868797302246,
          5.936636924743652,
          5.993455410003662,
          6.054671764373779,
          5.2651166915893555,
          5.61222505569458,
          6.035799026489258,
          4.808923244476318,
          4.8372297286987305,
          5.813469886779785,
          6.075716972351074,
          6.016077041625977,
          5.607794761657715,
          5.496915340423584,
          6.083840847015381,
          6.107262134552002,
          5.029857635498047
         ],
         "yaxis": "y"
        }
       ],
       "layout": {
        "coloraxis": {
         "colorbar": {
          "title": {
           "text": "Cluster"
          }
         },
         "colorscale": [
          [
           0,
           "#0d0887"
          ],
          [
           0.1111111111111111,
           "#46039f"
          ],
          [
           0.2222222222222222,
           "#7201a8"
          ],
          [
           0.3333333333333333,
           "#9c179e"
          ],
          [
           0.4444444444444444,
           "#bd3786"
          ],
          [
           0.5555555555555556,
           "#d8576b"
          ],
          [
           0.6666666666666666,
           "#ed7953"
          ],
          [
           0.7777777777777778,
           "#fb9f3a"
          ],
          [
           0.8888888888888888,
           "#fdca26"
          ],
          [
           1,
           "#f0f921"
          ]
         ]
        },
        "legend": {
         "tracegroupgap": 0
        },
        "margin": {
         "t": 60
        },
        "template": {
         "data": {
          "bar": [
           {
            "error_x": {
             "color": "#2a3f5f"
            },
            "error_y": {
             "color": "#2a3f5f"
            },
            "marker": {
             "line": {
              "color": "white",
              "width": 0.5
             },
             "pattern": {
              "fillmode": "overlay",
              "size": 10,
              "solidity": 0.2
             }
            },
            "type": "bar"
           }
          ],
          "barpolar": [
           {
            "marker": {
             "line": {
              "color": "white",
              "width": 0.5
             },
             "pattern": {
              "fillmode": "overlay",
              "size": 10,
              "solidity": 0.2
             }
            },
            "type": "barpolar"
           }
          ],
          "carpet": [
           {
            "aaxis": {
             "endlinecolor": "#2a3f5f",
             "gridcolor": "#C8D4E3",
             "linecolor": "#C8D4E3",
             "minorgridcolor": "#C8D4E3",
             "startlinecolor": "#2a3f5f"
            },
            "baxis": {
             "endlinecolor": "#2a3f5f",
             "gridcolor": "#C8D4E3",
             "linecolor": "#C8D4E3",
             "minorgridcolor": "#C8D4E3",
             "startlinecolor": "#2a3f5f"
            },
            "type": "carpet"
           }
          ],
          "choropleth": [
           {
            "colorbar": {
             "outlinewidth": 0,
             "ticks": ""
            },
            "type": "choropleth"
           }
          ],
          "contour": [
           {
            "colorbar": {
             "outlinewidth": 0,
             "ticks": ""
            },
            "colorscale": [
             [
              0,
              "#0d0887"
             ],
             [
              0.1111111111111111,
              "#46039f"
             ],
             [
              0.2222222222222222,
              "#7201a8"
             ],
             [
              0.3333333333333333,
              "#9c179e"
             ],
             [
              0.4444444444444444,
              "#bd3786"
             ],
             [
              0.5555555555555556,
              "#d8576b"
             ],
             [
              0.6666666666666666,
              "#ed7953"
             ],
             [
              0.7777777777777778,
              "#fb9f3a"
             ],
             [
              0.8888888888888888,
              "#fdca26"
             ],
             [
              1,
              "#f0f921"
             ]
            ],
            "type": "contour"
           }
          ],
          "contourcarpet": [
           {
            "colorbar": {
             "outlinewidth": 0,
             "ticks": ""
            },
            "type": "contourcarpet"
           }
          ],
          "heatmap": [
           {
            "colorbar": {
             "outlinewidth": 0,
             "ticks": ""
            },
            "colorscale": [
             [
              0,
              "#0d0887"
             ],
             [
              0.1111111111111111,
              "#46039f"
             ],
             [
              0.2222222222222222,
              "#7201a8"
             ],
             [
              0.3333333333333333,
              "#9c179e"
             ],
             [
              0.4444444444444444,
              "#bd3786"
             ],
             [
              0.5555555555555556,
              "#d8576b"
             ],
             [
              0.6666666666666666,
              "#ed7953"
             ],
             [
              0.7777777777777778,
              "#fb9f3a"
             ],
             [
              0.8888888888888888,
              "#fdca26"
             ],
             [
              1,
              "#f0f921"
             ]
            ],
            "type": "heatmap"
           }
          ],
          "heatmapgl": [
           {
            "colorbar": {
             "outlinewidth": 0,
             "ticks": ""
            },
            "colorscale": [
             [
              0,
              "#0d0887"
             ],
             [
              0.1111111111111111,
              "#46039f"
             ],
             [
              0.2222222222222222,
              "#7201a8"
             ],
             [
              0.3333333333333333,
              "#9c179e"
             ],
             [
              0.4444444444444444,
              "#bd3786"
             ],
             [
              0.5555555555555556,
              "#d8576b"
             ],
             [
              0.6666666666666666,
              "#ed7953"
             ],
             [
              0.7777777777777778,
              "#fb9f3a"
             ],
             [
              0.8888888888888888,
              "#fdca26"
             ],
             [
              1,
              "#f0f921"
             ]
            ],
            "type": "heatmapgl"
           }
          ],
          "histogram": [
           {
            "marker": {
             "pattern": {
              "fillmode": "overlay",
              "size": 10,
              "solidity": 0.2
             }
            },
            "type": "histogram"
           }
          ],
          "histogram2d": [
           {
            "colorbar": {
             "outlinewidth": 0,
             "ticks": ""
            },
            "colorscale": [
             [
              0,
              "#0d0887"
             ],
             [
              0.1111111111111111,
              "#46039f"
             ],
             [
              0.2222222222222222,
              "#7201a8"
             ],
             [
              0.3333333333333333,
              "#9c179e"
             ],
             [
              0.4444444444444444,
              "#bd3786"
             ],
             [
              0.5555555555555556,
              "#d8576b"
             ],
             [
              0.6666666666666666,
              "#ed7953"
             ],
             [
              0.7777777777777778,
              "#fb9f3a"
             ],
             [
              0.8888888888888888,
              "#fdca26"
             ],
             [
              1,
              "#f0f921"
             ]
            ],
            "type": "histogram2d"
           }
          ],
          "histogram2dcontour": [
           {
            "colorbar": {
             "outlinewidth": 0,
             "ticks": ""
            },
            "colorscale": [
             [
              0,
              "#0d0887"
             ],
             [
              0.1111111111111111,
              "#46039f"
             ],
             [
              0.2222222222222222,
              "#7201a8"
             ],
             [
              0.3333333333333333,
              "#9c179e"
             ],
             [
              0.4444444444444444,
              "#bd3786"
             ],
             [
              0.5555555555555556,
              "#d8576b"
             ],
             [
              0.6666666666666666,
              "#ed7953"
             ],
             [
              0.7777777777777778,
              "#fb9f3a"
             ],
             [
              0.8888888888888888,
              "#fdca26"
             ],
             [
              1,
              "#f0f921"
             ]
            ],
            "type": "histogram2dcontour"
           }
          ],
          "mesh3d": [
           {
            "colorbar": {
             "outlinewidth": 0,
             "ticks": ""
            },
            "type": "mesh3d"
           }
          ],
          "parcoords": [
           {
            "line": {
             "colorbar": {
              "outlinewidth": 0,
              "ticks": ""
             }
            },
            "type": "parcoords"
           }
          ],
          "pie": [
           {
            "automargin": true,
            "type": "pie"
           }
          ],
          "scatter": [
           {
            "fillpattern": {
             "fillmode": "overlay",
             "size": 10,
             "solidity": 0.2
            },
            "type": "scatter"
           }
          ],
          "scatter3d": [
           {
            "line": {
             "colorbar": {
              "outlinewidth": 0,
              "ticks": ""
             }
            },
            "marker": {
             "colorbar": {
              "outlinewidth": 0,
              "ticks": ""
             }
            },
            "type": "scatter3d"
           }
          ],
          "scattercarpet": [
           {
            "marker": {
             "colorbar": {
              "outlinewidth": 0,
              "ticks": ""
             }
            },
            "type": "scattercarpet"
           }
          ],
          "scattergeo": [
           {
            "marker": {
             "colorbar": {
              "outlinewidth": 0,
              "ticks": ""
             }
            },
            "type": "scattergeo"
           }
          ],
          "scattergl": [
           {
            "marker": {
             "colorbar": {
              "outlinewidth": 0,
              "ticks": ""
             }
            },
            "type": "scattergl"
           }
          ],
          "scattermapbox": [
           {
            "marker": {
             "colorbar": {
              "outlinewidth": 0,
              "ticks": ""
             }
            },
            "type": "scattermapbox"
           }
          ],
          "scatterpolar": [
           {
            "marker": {
             "colorbar": {
              "outlinewidth": 0,
              "ticks": ""
             }
            },
            "type": "scatterpolar"
           }
          ],
          "scatterpolargl": [
           {
            "marker": {
             "colorbar": {
              "outlinewidth": 0,
              "ticks": ""
             }
            },
            "type": "scatterpolargl"
           }
          ],
          "scatterternary": [
           {
            "marker": {
             "colorbar": {
              "outlinewidth": 0,
              "ticks": ""
             }
            },
            "type": "scatterternary"
           }
          ],
          "surface": [
           {
            "colorbar": {
             "outlinewidth": 0,
             "ticks": ""
            },
            "colorscale": [
             [
              0,
              "#0d0887"
             ],
             [
              0.1111111111111111,
              "#46039f"
             ],
             [
              0.2222222222222222,
              "#7201a8"
             ],
             [
              0.3333333333333333,
              "#9c179e"
             ],
             [
              0.4444444444444444,
              "#bd3786"
             ],
             [
              0.5555555555555556,
              "#d8576b"
             ],
             [
              0.6666666666666666,
              "#ed7953"
             ],
             [
              0.7777777777777778,
              "#fb9f3a"
             ],
             [
              0.8888888888888888,
              "#fdca26"
             ],
             [
              1,
              "#f0f921"
             ]
            ],
            "type": "surface"
           }
          ],
          "table": [
           {
            "cells": {
             "fill": {
              "color": "#EBF0F8"
             },
             "line": {
              "color": "white"
             }
            },
            "header": {
             "fill": {
              "color": "#C8D4E3"
             },
             "line": {
              "color": "white"
             }
            },
            "type": "table"
           }
          ]
         },
         "layout": {
          "annotationdefaults": {
           "arrowcolor": "#2a3f5f",
           "arrowhead": 0,
           "arrowwidth": 1
          },
          "autotypenumbers": "strict",
          "coloraxis": {
           "colorbar": {
            "outlinewidth": 0,
            "ticks": ""
           }
          },
          "colorscale": {
           "diverging": [
            [
             0,
             "#8e0152"
            ],
            [
             0.1,
             "#c51b7d"
            ],
            [
             0.2,
             "#de77ae"
            ],
            [
             0.3,
             "#f1b6da"
            ],
            [
             0.4,
             "#fde0ef"
            ],
            [
             0.5,
             "#f7f7f7"
            ],
            [
             0.6,
             "#e6f5d0"
            ],
            [
             0.7,
             "#b8e186"
            ],
            [
             0.8,
             "#7fbc41"
            ],
            [
             0.9,
             "#4d9221"
            ],
            [
             1,
             "#276419"
            ]
           ],
           "sequential": [
            [
             0,
             "#0d0887"
            ],
            [
             0.1111111111111111,
             "#46039f"
            ],
            [
             0.2222222222222222,
             "#7201a8"
            ],
            [
             0.3333333333333333,
             "#9c179e"
            ],
            [
             0.4444444444444444,
             "#bd3786"
            ],
            [
             0.5555555555555556,
             "#d8576b"
            ],
            [
             0.6666666666666666,
             "#ed7953"
            ],
            [
             0.7777777777777778,
             "#fb9f3a"
            ],
            [
             0.8888888888888888,
             "#fdca26"
            ],
            [
             1,
             "#f0f921"
            ]
           ],
           "sequentialminus": [
            [
             0,
             "#0d0887"
            ],
            [
             0.1111111111111111,
             "#46039f"
            ],
            [
             0.2222222222222222,
             "#7201a8"
            ],
            [
             0.3333333333333333,
             "#9c179e"
            ],
            [
             0.4444444444444444,
             "#bd3786"
            ],
            [
             0.5555555555555556,
             "#d8576b"
            ],
            [
             0.6666666666666666,
             "#ed7953"
            ],
            [
             0.7777777777777778,
             "#fb9f3a"
            ],
            [
             0.8888888888888888,
             "#fdca26"
            ],
            [
             1,
             "#f0f921"
            ]
           ]
          },
          "colorway": [
           "#636efa",
           "#EF553B",
           "#00cc96",
           "#ab63fa",
           "#FFA15A",
           "#19d3f3",
           "#FF6692",
           "#B6E880",
           "#FF97FF",
           "#FECB52"
          ],
          "font": {
           "color": "#2a3f5f"
          },
          "geo": {
           "bgcolor": "white",
           "lakecolor": "white",
           "landcolor": "white",
           "showlakes": true,
           "showland": true,
           "subunitcolor": "#C8D4E3"
          },
          "hoverlabel": {
           "align": "left"
          },
          "hovermode": "closest",
          "mapbox": {
           "style": "light"
          },
          "paper_bgcolor": "white",
          "plot_bgcolor": "white",
          "polar": {
           "angularaxis": {
            "gridcolor": "#EBF0F8",
            "linecolor": "#EBF0F8",
            "ticks": ""
           },
           "bgcolor": "white",
           "radialaxis": {
            "gridcolor": "#EBF0F8",
            "linecolor": "#EBF0F8",
            "ticks": ""
           }
          },
          "scene": {
           "xaxis": {
            "backgroundcolor": "white",
            "gridcolor": "#DFE8F3",
            "gridwidth": 2,
            "linecolor": "#EBF0F8",
            "showbackground": true,
            "ticks": "",
            "zerolinecolor": "#EBF0F8"
           },
           "yaxis": {
            "backgroundcolor": "white",
            "gridcolor": "#DFE8F3",
            "gridwidth": 2,
            "linecolor": "#EBF0F8",
            "showbackground": true,
            "ticks": "",
            "zerolinecolor": "#EBF0F8"
           },
           "zaxis": {
            "backgroundcolor": "white",
            "gridcolor": "#DFE8F3",
            "gridwidth": 2,
            "linecolor": "#EBF0F8",
            "showbackground": true,
            "ticks": "",
            "zerolinecolor": "#EBF0F8"
           }
          },
          "shapedefaults": {
           "line": {
            "color": "#2a3f5f"
           }
          },
          "ternary": {
           "aaxis": {
            "gridcolor": "#DFE8F3",
            "linecolor": "#A2B1C6",
            "ticks": ""
           },
           "baxis": {
            "gridcolor": "#DFE8F3",
            "linecolor": "#A2B1C6",
            "ticks": ""
           },
           "bgcolor": "white",
           "caxis": {
            "gridcolor": "#DFE8F3",
            "linecolor": "#A2B1C6",
            "ticks": ""
           }
          },
          "title": {
           "x": 0.05
          },
          "xaxis": {
           "automargin": true,
           "gridcolor": "#EBF0F8",
           "linecolor": "#EBF0F8",
           "ticks": "",
           "title": {
            "standoff": 15
           },
           "zerolinecolor": "#EBF0F8",
           "zerolinewidth": 2
          },
          "yaxis": {
           "automargin": true,
           "gridcolor": "#EBF0F8",
           "linecolor": "#EBF0F8",
           "ticks": "",
           "title": {
            "standoff": 15
           },
           "zerolinecolor": "#EBF0F8",
           "zerolinewidth": 2
          }
         }
        },
        "title": {
         "text": "Media Clusters (32 dimensions)"
        },
        "xaxis": {
         "anchor": "y",
         "domain": [
          0,
          1
         ],
         "title": {
          "text": "Component 12"
         }
        },
        "yaxis": {
         "anchor": "x",
         "domain": [
          0,
          1
         ],
         "title": {
          "text": "Component 32"
         }
        }
       }
      }
     },
     "metadata": {},
     "output_type": "display_data"
    }
   ],
   "source": [
    "# Plot the training points\n",
    "fig = px.scatter(\n",
    "    data_frame = reduced_df,\n",
    "    x = \"Component 12\",\n",
    "    y = \"Component 32\",\n",
    "    color = \"Cluster\",\n",
    "    hover_data = [\"media_id\"],\n",
    "    opacity = 0.3\n",
    ") \n",
    "\n",
    "fig.update_layout(\n",
    "    title=\"Media Clusters (32 dimensions)\",\n",
    "    template=\"plotly_white\"\n",
    ")\n",
    "\n",
    "fig.show()"
   ]
  }
 ],
 "metadata": {
  "kernelspec": {
   "display_name": "media",
   "language": "python",
   "name": "python3"
  },
  "language_info": {
   "codemirror_mode": {
    "name": "ipython",
    "version": 3
   },
   "file_extension": ".py",
   "mimetype": "text/x-python",
   "name": "python",
   "nbconvert_exporter": "python",
   "pygments_lexer": "ipython3",
   "version": "3.12.3"
  }
 },
 "nbformat": 4,
 "nbformat_minor": 2
}
