{
 "cells": [
  {
   "cell_type": "code",
   "execution_count": null,
   "metadata": {},
   "outputs": [],
   "source": [
    "import os\n",
    "\n",
    "from natsort import natsorted\n",
    "\n",
    "import networkx as nx\n",
    "\n",
    "import pandas as pd\n",
    "\n",
    "import plotly.express as px"
   ]
  },
  {
   "cell_type": "code",
   "execution_count": null,
   "metadata": {},
   "outputs": [],
   "source": [
    "DATA_DIR = \"../data/\""
   ]
  },
  {
   "cell_type": "markdown",
   "metadata": {},
   "source": [
    "## KOMODO"
   ]
  },
  {
   "cell_type": "code",
   "execution_count": null,
   "metadata": {},
   "outputs": [],
   "source": [
    "komodo_df = pd.read_csv(\n",
    "    os.path.join(\n",
    "        DATA_DIR,\n",
    "        \"komodo\",\n",
    "        \"komodo.tsv\"\n",
    "    ),\n",
    "    sep=\"\\t\"\n",
    ")\n",
    "\n",
    "# Transform taxon ID column to string for plotting\n",
    "komodo_df[\"Taxon ID\"] = komodo_df[\"Taxon ID\"].astype(str)\n",
    "\n",
    "# Add genus column\n",
    "komodo_df[\"Genus\"] = komodo_df[\"Organism Name\"].str.split(\" \").str[0]\n",
    "\n",
    "komodo_df"
   ]
  },
  {
   "cell_type": "code",
   "execution_count": null,
   "metadata": {},
   "outputs": [],
   "source": [
    "komodo_df[\"Taxon ID\"].nunique(), komodo_df[\"Media\"].nunique()"
   ]
  },
  {
   "cell_type": "code",
   "execution_count": null,
   "metadata": {},
   "outputs": [],
   "source": [
    "taxon_counts = komodo_df[\"Taxon ID\"]\\\n",
    "    .value_counts()\\\n",
    "    .reset_index(name=\"Count\")\n",
    "\n",
    "genus_counts = komodo_df[\"Genus\"]\\\n",
    "    .value_counts()\\\n",
    "    .reset_index(name=\"Count\")\n",
    "\n",
    "media_counts = komodo_df[\"Media\"]\\\n",
    "    .value_counts()\\\n",
    "    .reset_index(name=\"Count\")"
   ]
  },
  {
   "cell_type": "code",
   "execution_count": null,
   "metadata": {},
   "outputs": [],
   "source": [
    "top_taxons = 20\n",
    "\n",
    "fig = px.bar(\n",
    "    data_frame=taxon_counts.head(top_taxons),\n",
    "    x=\"Taxon ID\",\n",
    "    y=\"Count\",\n",
    "    color=\"Count\",\n",
    "    title=f\"Distribution of taxon IDs in KOMODO (top {top_taxons})\",\n",
    "    template=\"plotly_white\"\n",
    ")\n",
    "fig.show()"
   ]
  },
  {
   "cell_type": "code",
   "execution_count": null,
   "metadata": {},
   "outputs": [],
   "source": [
    "top_genera = 100\n",
    "\n",
    "fig = px.bar(\n",
    "    data_frame=genus_counts.head(top_genera),\n",
    "    x=\"Genus\",\n",
    "    y=\"Count\",\n",
    "    color=\"Count\",\n",
    "    title=f\"Distribution of genera in KOMODO (top {top_genera})\",\n",
    "    template=\"plotly_white\"\n",
    ")\n",
    "fig.show()"
   ]
  },
  {
   "cell_type": "code",
   "execution_count": null,
   "metadata": {},
   "outputs": [],
   "source": [
    "fig = px.violin(\n",
    "    data_frame=genus_counts,\n",
    "    y=\"Count\",\n",
    "    hover_data=[\"Genus\"]\n",
    ")\n",
    "fig.show()"
   ]
  },
  {
   "cell_type": "code",
   "execution_count": null,
   "metadata": {},
   "outputs": [],
   "source": [
    "top_media = 25\n",
    "\n",
    "fig = px.bar(\n",
    "    data_frame=media_counts.head(top_media),\n",
    "    x=\"Media\",\n",
    "    y=\"Count\",\n",
    "    color=\"Count\",\n",
    "    height=900,\n",
    "    title=f\"Distribution of media in KOMODO (top {top_media})\",\n",
    "    template=\"plotly_white\"\n",
    ")\n",
    "fig.show()"
   ]
  },
  {
   "cell_type": "code",
   "execution_count": null,
   "metadata": {},
   "outputs": [],
   "source": [
    "fig = px.violin(\n",
    "    data_frame=media_counts,\n",
    "    y=\"Count\",\n",
    "    hover_data=[\"Media\"]\n",
    ")\n",
    "fig.show()"
   ]
  },
  {
   "cell_type": "markdown",
   "metadata": {},
   "source": [
    "### Graph visualizations"
   ]
  },
  {
   "cell_type": "code",
   "execution_count": null,
   "metadata": {},
   "outputs": [],
   "source": [
    "# Assign IDs to media long names\n",
    "media_mapping = pd.DataFrame({\n",
    "    \"Media\": komodo_df[\"Media\"].unique(),\n",
    "    \"Media ID\": [f\"M-{x}\" for x in range(komodo_df[\"Media\"].nunique() + 1)]\n",
    "})\n",
    "\n",
    "komodo_df = pd.merge(\n",
    "    left=komodo_df,\n",
    "    right=media_mapping,\n",
    "    on=\"Media\",\n",
    "    how=\"left\"\n",
    ")\n",
    "komodo_df[[\"Media\", \"Media ID\"]]"
   ]
  },
  {
   "cell_type": "code",
   "execution_count": null,
   "metadata": {},
   "outputs": [],
   "source": [
    "komodo_adj = komodo_df[[\"Genus\", \"Media ID\"]].dropna().copy()\n",
    "komodo_adj = pd.crosstab(komodo_adj[\"Genus\"], komodo_adj[\"Media ID\"])\n",
    "komodo_adj = komodo_adj[natsorted(komodo_adj.columns)]\n",
    "\n",
    "komodo_adj"
   ]
  },
  {
   "cell_type": "code",
   "execution_count": null,
   "metadata": {},
   "outputs": [],
   "source": [
    "# fig = px.imshow(\n",
    "#     komodo_adj,\n",
    "#     width=1200,\n",
    "#     height=900\n",
    "# )\n",
    "# fig.show()"
   ]
  },
  {
   "cell_type": "code",
   "execution_count": null,
   "metadata": {},
   "outputs": [],
   "source": [
    "G = nx.from_pandas_edgelist(\n",
    "    df=komodo_df[[\"Genus\", \"Media ID\"]].dropna(),\n",
    "    source=\"Genus\",\n",
    "    target=\"Media ID\",\n",
    "    edge_attr=None\n",
    ")\n",
    "\n",
    "# Add note attributes to graph\n",
    "genus_df = komodo_df[\"Genus\"]\\\n",
    "    .value_counts()\\\n",
    "    .reset_index(name=\"count\")\\\n",
    "    .rename(columns={\"Genus\": \"node_id\"})\\\n",
    "    .copy()\n",
    "genus_df[\"group\"] = \"Genus\"\n",
    "\n",
    "media_df = komodo_df[\"Media ID\"]\\\n",
    "    .value_counts()\\\n",
    "    .reset_index(name=\"count\")\\\n",
    "    .rename(columns={\"Media ID\": \"node_id\"})\\\n",
    "    .copy()\n",
    "media_df[\"group\"] = \"Media\"\n",
    "\n",
    "node_attr = pd.concat(\n",
    "    [genus_df, media_df],\n",
    "    axis=0,\n",
    "    ignore_index=True\n",
    ")\n",
    "node_attr[\"title\"] = \\\n",
    "    \"Node: \" + node_attr[\"node_id\"] + \"\\r\" + \\\n",
    "    \"Type: \" + node_attr[\"group\"] + \"\\r\" + \\\n",
    "    \"Count: \" + node_attr[\"count\"].astype(str)\n",
    "node_attr = node_attr.set_index(\"node_id\").to_dict(orient=\"index\")\n",
    "\n",
    "nx.set_node_attributes(G=G, values=node_attr)\n",
    "\n",
    "for n, d in G.nodes(data=True):\n",
    "    print(n, d)"
   ]
  },
  {
   "cell_type": "code",
   "execution_count": null,
   "metadata": {},
   "outputs": [],
   "source": [
    "# import nxviz as nv\n",
    "\n",
    "# nv.hive(\n",
    "#     G,\n",
    "#     group_by=\"group\",\n",
    "#     sort_by=\"count\",\n",
    "#     node_color_by=\"count\",\n",
    "#     # edge_alpha_by=\"edge_value\"\n",
    "# )"
   ]
  },
  {
   "cell_type": "code",
   "execution_count": null,
   "metadata": {},
   "outputs": [],
   "source": [
    "from pyvis.network import Network\n",
    "\n",
    "net = Network(\n",
    "    height=\"1000px\",\n",
    "    width=\"100%\",\n",
    "    bgcolor=\"#222222\",\n",
    "    font_color=\"white\",\n",
    "    select_menu=True,\n",
    "    filter_menu=True,\n",
    "    notebook=True,\n",
    "    cdn_resources=\"in_line\"\n",
    ")\n",
    "net.from_nx(G)\n",
    "net.toggle_physics(False)\n",
    "# net.show_buttons(filter_=['physics'])\n",
    "net.show(\"media-graph-no-phys.html\")"
   ]
  },
  {
   "cell_type": "code",
   "execution_count": null,
   "metadata": {},
   "outputs": [],
   "source": [
    "from pyvis.network import Network\n",
    "\n",
    "net = Network(\n",
    "    height=\"1000px\",\n",
    "    width=\"100%\",\n",
    "    bgcolor=\"#222222\",\n",
    "    font_color=\"white\",\n",
    "    select_menu=True,\n",
    "    filter_menu=True,\n",
    "    notebook=True,\n",
    "    cdn_resources=\"in_line\"\n",
    ")\n",
    "net.from_nx(G)\n",
    "net.toggle_physics(True)\n",
    "# net.show_buttons(filter_=['physics'])\n",
    "net.show(\"media-graph.html\")"
   ]
  },
  {
   "cell_type": "markdown",
   "metadata": {},
   "source": [
    "### Some insights\n",
    "\n",
    "* The KOMODO database seems to be biased towards Streptomyces: both top medium and genus are related to it.\n",
    "\n",
    "* This bias is highly exacerbated at the genus level.\n",
    "\n",
    "* Approximately top 7 media and genus seem to dominate the dataset.\n",
    "\n",
    "* Null taxon IDs are the most abundant IDs by far."
   ]
  }
 ],
 "metadata": {
  "kernelspec": {
   "display_name": "hydrogenases",
   "language": "python",
   "name": "python3"
  },
  "language_info": {
   "codemirror_mode": {
    "name": "ipython",
    "version": 3
   },
   "file_extension": ".py",
   "mimetype": "text/x-python",
   "name": "python",
   "nbconvert_exporter": "python",
   "pygments_lexer": "ipython3",
   "version": "3.11.6"
  }
 },
 "nbformat": 4,
 "nbformat_minor": 2
}
