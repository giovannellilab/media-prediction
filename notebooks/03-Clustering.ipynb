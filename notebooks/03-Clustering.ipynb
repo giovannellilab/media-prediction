{
 "cells": [
  {
   "cell_type": "code",
   "execution_count": 1,
   "metadata": {},
   "outputs": [],
   "source": [
    "# Add higher directory to python modules path\n",
    "\n",
    "import sys\n",
    "\n",
    "sys.path.append(\"..\")"
   ]
  },
  {
   "cell_type": "code",
   "execution_count": 2,
   "metadata": {},
   "outputs": [],
   "source": [
    "import os\n",
    "\n",
    "import pandas as pd\n",
    "\n",
    "import plotly.express as px\n",
    "\n",
    "from sklearn.cluster import HDBSCAN, AgglomerativeClustering\n",
    "\n",
    "import umap"
   ]
  },
  {
   "cell_type": "code",
   "execution_count": 15,
   "metadata": {},
   "outputs": [],
   "source": [
    "DATA_DIR = \"../data/ml/\"\n",
    "CLUSTER_FILE = \"ml_input-taxa2component-donato.csv\"\n",
    "\n",
    "RANDOM_SEED = 666\n",
    "\n",
    "# UMAP parameters\n",
    "UMAP_METRIC = \"euclidean\"\n",
    "UMAP_SEED = 42"
   ]
  },
  {
   "cell_type": "code",
   "execution_count": 16,
   "metadata": {},
   "outputs": [
    {
     "data": {
      "text/html": [
       "<div>\n",
       "<style scoped>\n",
       "    .dataframe tbody tr th:only-of-type {\n",
       "        vertical-align: middle;\n",
       "    }\n",
       "\n",
       "    .dataframe tbody tr th {\n",
       "        vertical-align: top;\n",
       "    }\n",
       "\n",
       "    .dataframe thead th {\n",
       "        text-align: right;\n",
       "    }\n",
       "</style>\n",
       "<table border=\"1\" class=\"dataframe\">\n",
       "  <thead>\n",
       "    <tr style=\"text-align: right;\">\n",
       "      <th></th>\n",
       "      <th>Components</th>\n",
       "      <th>taxon_id</th>\n",
       "      <th>media_id</th>\n",
       "      <th>(NH 4 ) 2 SO 4</th>\n",
       "      <th>(NH 4 ) acetate or Na-pyruvate</th>\n",
       "      <th>0.1 N H 2 SO 4</th>\n",
       "      <th>0.1M Tris/HCl at pH 7.5</th>\n",
       "      <th>Allen’s trace element solution (see medium 88)</th>\n",
       "      <th>Artificial sea water</th>\n",
       "      <th>Ca(NO 3 ) 2</th>\n",
       "      <th>...</th>\n",
       "      <th>Trace element SL-11</th>\n",
       "      <th>Trace element SL-6</th>\n",
       "      <th>Trace element Wolfe's</th>\n",
       "      <th>Trypticase peptone</th>\n",
       "      <th>Tryptone</th>\n",
       "      <th>Vitamin solution 141</th>\n",
       "      <th>Vitamin solution 1412</th>\n",
       "      <th>Vitamin solution 603</th>\n",
       "      <th>VOSO 4 x 5 H 2 O solution (0.01% w/v)</th>\n",
       "      <th>Yeast Extract</th>\n",
       "    </tr>\n",
       "  </thead>\n",
       "  <tbody>\n",
       "    <tr>\n",
       "      <th>0</th>\n",
       "      <td>0</td>\n",
       "      <td>536350</td>\n",
       "      <td>709</td>\n",
       "      <td>1</td>\n",
       "      <td>0</td>\n",
       "      <td>0</td>\n",
       "      <td>0</td>\n",
       "      <td>0</td>\n",
       "      <td>0</td>\n",
       "      <td>0</td>\n",
       "      <td>...</td>\n",
       "      <td>0</td>\n",
       "      <td>0</td>\n",
       "      <td>0</td>\n",
       "      <td>0</td>\n",
       "      <td>0</td>\n",
       "      <td>0</td>\n",
       "      <td>0</td>\n",
       "      <td>0</td>\n",
       "      <td>0</td>\n",
       "      <td>1</td>\n",
       "    </tr>\n",
       "    <tr>\n",
       "      <th>1</th>\n",
       "      <td>1</td>\n",
       "      <td>5240</td>\n",
       "      <td>269</td>\n",
       "      <td>1</td>\n",
       "      <td>0</td>\n",
       "      <td>0</td>\n",
       "      <td>0</td>\n",
       "      <td>0</td>\n",
       "      <td>0</td>\n",
       "      <td>0</td>\n",
       "      <td>...</td>\n",
       "      <td>0</td>\n",
       "      <td>0</td>\n",
       "      <td>0</td>\n",
       "      <td>0</td>\n",
       "      <td>0</td>\n",
       "      <td>0</td>\n",
       "      <td>0</td>\n",
       "      <td>0</td>\n",
       "      <td>0</td>\n",
       "      <td>1</td>\n",
       "    </tr>\n",
       "    <tr>\n",
       "      <th>2</th>\n",
       "      <td>2</td>\n",
       "      <td>330590</td>\n",
       "      <td>150a</td>\n",
       "      <td>1</td>\n",
       "      <td>0</td>\n",
       "      <td>0</td>\n",
       "      <td>0</td>\n",
       "      <td>0</td>\n",
       "      <td>0</td>\n",
       "      <td>1</td>\n",
       "      <td>...</td>\n",
       "      <td>0</td>\n",
       "      <td>0</td>\n",
       "      <td>0</td>\n",
       "      <td>0</td>\n",
       "      <td>0</td>\n",
       "      <td>0</td>\n",
       "      <td>0</td>\n",
       "      <td>0</td>\n",
       "      <td>0</td>\n",
       "      <td>0</td>\n",
       "    </tr>\n",
       "    <tr>\n",
       "      <th>3</th>\n",
       "      <td>3</td>\n",
       "      <td>9200</td>\n",
       "      <td>882</td>\n",
       "      <td>1</td>\n",
       "      <td>0</td>\n",
       "      <td>1</td>\n",
       "      <td>0</td>\n",
       "      <td>0</td>\n",
       "      <td>0</td>\n",
       "      <td>0</td>\n",
       "      <td>...</td>\n",
       "      <td>0</td>\n",
       "      <td>0</td>\n",
       "      <td>0</td>\n",
       "      <td>0</td>\n",
       "      <td>0</td>\n",
       "      <td>0</td>\n",
       "      <td>0</td>\n",
       "      <td>0</td>\n",
       "      <td>0</td>\n",
       "      <td>0</td>\n",
       "    </tr>\n",
       "    <tr>\n",
       "      <th>4</th>\n",
       "      <td>4</td>\n",
       "      <td>6497460</td>\n",
       "      <td>104a</td>\n",
       "      <td>0</td>\n",
       "      <td>0</td>\n",
       "      <td>0</td>\n",
       "      <td>0</td>\n",
       "      <td>0</td>\n",
       "      <td>0</td>\n",
       "      <td>0</td>\n",
       "      <td>...</td>\n",
       "      <td>0</td>\n",
       "      <td>0</td>\n",
       "      <td>0</td>\n",
       "      <td>1</td>\n",
       "      <td>0</td>\n",
       "      <td>0</td>\n",
       "      <td>0</td>\n",
       "      <td>0</td>\n",
       "      <td>0</td>\n",
       "      <td>1</td>\n",
       "    </tr>\n",
       "  </tbody>\n",
       "</table>\n",
       "<p>5 rows × 94 columns</p>\n",
       "</div>"
      ],
      "text/plain": [
       "   Components taxon_id media_id  (NH 4 ) 2 SO 4  \\\n",
       "0           0   536350      709               1   \n",
       "1           1     5240      269               1   \n",
       "2           2   330590     150a               1   \n",
       "3           3     9200      882               1   \n",
       "4           4  6497460     104a               0   \n",
       "\n",
       "   (NH 4 ) acetate or Na-pyruvate  0.1 N H 2 SO 4  0.1M Tris/HCl at pH 7.5  \\\n",
       "0                               0               0                        0   \n",
       "1                               0               0                        0   \n",
       "2                               0               0                        0   \n",
       "3                               0               1                        0   \n",
       "4                               0               0                        0   \n",
       "\n",
       "   Allen’s trace element solution (see medium 88)  Artificial sea water  \\\n",
       "0                                               0                     0   \n",
       "1                                               0                     0   \n",
       "2                                               0                     0   \n",
       "3                                               0                     0   \n",
       "4                                               0                     0   \n",
       "\n",
       "   Ca(NO 3 ) 2  ...  Trace element SL-11  Trace element SL-6  \\\n",
       "0            0  ...                    0                   0   \n",
       "1            0  ...                    0                   0   \n",
       "2            1  ...                    0                   0   \n",
       "3            0  ...                    0                   0   \n",
       "4            0  ...                    0                   0   \n",
       "\n",
       "   Trace element Wolfe's  Trypticase peptone  Tryptone  Vitamin solution 141  \\\n",
       "0                      0                   0         0                     0   \n",
       "1                      0                   0         0                     0   \n",
       "2                      0                   0         0                     0   \n",
       "3                      0                   0         0                     0   \n",
       "4                      0                   1         0                     0   \n",
       "\n",
       "   Vitamin solution 1412  Vitamin solution 603  \\\n",
       "0                      0                     0   \n",
       "1                      0                     0   \n",
       "2                      0                     0   \n",
       "3                      0                     0   \n",
       "4                      0                     0   \n",
       "\n",
       "   VOSO 4 x 5 H 2 O solution (0.01% w/v)  Yeast Extract  \n",
       "0                                      0              1  \n",
       "1                                      0              1  \n",
       "2                                      0              0  \n",
       "3                                      0              0  \n",
       "4                                      0              1  \n",
       "\n",
       "[5 rows x 94 columns]"
      ]
     },
     "execution_count": 16,
     "metadata": {},
     "output_type": "execute_result"
    }
   ],
   "source": [
    "data_df = pd.read_csv(\n",
    "    os.path.join(\n",
    "        DATA_DIR,\n",
    "        CLUSTER_FILE\n",
    "    )\n",
    ")\n",
    "\n",
    "# WARNING: This preprocessing should be done in previous steps!\n",
    "data_df = data_df.rename(columns={\"Media ID\": \"media_id\"})\n",
    "data_df[\"taxon_id\"] = data_df[\"taxon_id\"].astype(str).str.replace(\".0\", \"0\")\n",
    "\n",
    "data_df.head()"
   ]
  },
  {
   "cell_type": "code",
   "execution_count": 5,
   "metadata": {},
   "outputs": [
    {
     "data": {
      "text/html": [
       "<div>\n",
       "<style scoped>\n",
       "    .dataframe tbody tr th:only-of-type {\n",
       "        vertical-align: middle;\n",
       "    }\n",
       "\n",
       "    .dataframe tbody tr th {\n",
       "        vertical-align: top;\n",
       "    }\n",
       "\n",
       "    .dataframe thead th {\n",
       "        text-align: right;\n",
       "    }\n",
       "</style>\n",
       "<table border=\"1\" class=\"dataframe\">\n",
       "  <thead>\n",
       "    <tr style=\"text-align: right;\">\n",
       "      <th></th>\n",
       "      <th>(NH 4 ) 2 SO 4</th>\n",
       "      <th>(NH 4 ) acetate or Na-pyruvate</th>\n",
       "      <th>0.1 N H 2 SO 4</th>\n",
       "      <th>0.1M Tris/HCl at pH 7.5</th>\n",
       "      <th>Allen’s trace element solution (see medium 88)</th>\n",
       "      <th>Artificial sea water</th>\n",
       "      <th>Ca(NO 3 ) 2</th>\n",
       "      <th>CaCl 2 x 2 H 2 O</th>\n",
       "      <th>CaCl2</th>\n",
       "      <th>Casamino acids (BD BBL)</th>\n",
       "      <th>...</th>\n",
       "      <th>Trace element SL-11</th>\n",
       "      <th>Trace element SL-6</th>\n",
       "      <th>Trace element Wolfe's</th>\n",
       "      <th>Trypticase peptone</th>\n",
       "      <th>Tryptone</th>\n",
       "      <th>Vitamin solution 141</th>\n",
       "      <th>Vitamin solution 1412</th>\n",
       "      <th>Vitamin solution 603</th>\n",
       "      <th>VOSO 4 x 5 H 2 O solution (0.01% w/v)</th>\n",
       "      <th>Yeast Extract</th>\n",
       "    </tr>\n",
       "  </thead>\n",
       "  <tbody>\n",
       "    <tr>\n",
       "      <th>0</th>\n",
       "      <td>1</td>\n",
       "      <td>0</td>\n",
       "      <td>0</td>\n",
       "      <td>0</td>\n",
       "      <td>0</td>\n",
       "      <td>0</td>\n",
       "      <td>0</td>\n",
       "      <td>0</td>\n",
       "      <td>0</td>\n",
       "      <td>0</td>\n",
       "      <td>...</td>\n",
       "      <td>0</td>\n",
       "      <td>0</td>\n",
       "      <td>0</td>\n",
       "      <td>0</td>\n",
       "      <td>0</td>\n",
       "      <td>0</td>\n",
       "      <td>0</td>\n",
       "      <td>0</td>\n",
       "      <td>0</td>\n",
       "      <td>1</td>\n",
       "    </tr>\n",
       "    <tr>\n",
       "      <th>1</th>\n",
       "      <td>1</td>\n",
       "      <td>0</td>\n",
       "      <td>0</td>\n",
       "      <td>0</td>\n",
       "      <td>0</td>\n",
       "      <td>0</td>\n",
       "      <td>0</td>\n",
       "      <td>0</td>\n",
       "      <td>0</td>\n",
       "      <td>0</td>\n",
       "      <td>...</td>\n",
       "      <td>0</td>\n",
       "      <td>0</td>\n",
       "      <td>0</td>\n",
       "      <td>0</td>\n",
       "      <td>0</td>\n",
       "      <td>0</td>\n",
       "      <td>0</td>\n",
       "      <td>0</td>\n",
       "      <td>0</td>\n",
       "      <td>1</td>\n",
       "    </tr>\n",
       "    <tr>\n",
       "      <th>2</th>\n",
       "      <td>1</td>\n",
       "      <td>0</td>\n",
       "      <td>0</td>\n",
       "      <td>0</td>\n",
       "      <td>0</td>\n",
       "      <td>0</td>\n",
       "      <td>1</td>\n",
       "      <td>0</td>\n",
       "      <td>0</td>\n",
       "      <td>0</td>\n",
       "      <td>...</td>\n",
       "      <td>0</td>\n",
       "      <td>0</td>\n",
       "      <td>0</td>\n",
       "      <td>0</td>\n",
       "      <td>0</td>\n",
       "      <td>0</td>\n",
       "      <td>0</td>\n",
       "      <td>0</td>\n",
       "      <td>0</td>\n",
       "      <td>0</td>\n",
       "    </tr>\n",
       "    <tr>\n",
       "      <th>3</th>\n",
       "      <td>1</td>\n",
       "      <td>0</td>\n",
       "      <td>1</td>\n",
       "      <td>0</td>\n",
       "      <td>0</td>\n",
       "      <td>0</td>\n",
       "      <td>0</td>\n",
       "      <td>1</td>\n",
       "      <td>0</td>\n",
       "      <td>0</td>\n",
       "      <td>...</td>\n",
       "      <td>0</td>\n",
       "      <td>0</td>\n",
       "      <td>0</td>\n",
       "      <td>0</td>\n",
       "      <td>0</td>\n",
       "      <td>0</td>\n",
       "      <td>0</td>\n",
       "      <td>0</td>\n",
       "      <td>0</td>\n",
       "      <td>0</td>\n",
       "    </tr>\n",
       "    <tr>\n",
       "      <th>4</th>\n",
       "      <td>0</td>\n",
       "      <td>0</td>\n",
       "      <td>0</td>\n",
       "      <td>0</td>\n",
       "      <td>0</td>\n",
       "      <td>0</td>\n",
       "      <td>0</td>\n",
       "      <td>0</td>\n",
       "      <td>0</td>\n",
       "      <td>0</td>\n",
       "      <td>...</td>\n",
       "      <td>0</td>\n",
       "      <td>0</td>\n",
       "      <td>0</td>\n",
       "      <td>1</td>\n",
       "      <td>0</td>\n",
       "      <td>0</td>\n",
       "      <td>0</td>\n",
       "      <td>0</td>\n",
       "      <td>0</td>\n",
       "      <td>1</td>\n",
       "    </tr>\n",
       "  </tbody>\n",
       "</table>\n",
       "<p>5 rows × 91 columns</p>\n",
       "</div>"
      ],
      "text/plain": [
       "   (NH 4 ) 2 SO 4  (NH 4 ) acetate or Na-pyruvate  0.1 N H 2 SO 4  \\\n",
       "0               1                               0               0   \n",
       "1               1                               0               0   \n",
       "2               1                               0               0   \n",
       "3               1                               0               1   \n",
       "4               0                               0               0   \n",
       "\n",
       "   0.1M Tris/HCl at pH 7.5  Allen’s trace element solution (see medium 88)  \\\n",
       "0                        0                                               0   \n",
       "1                        0                                               0   \n",
       "2                        0                                               0   \n",
       "3                        0                                               0   \n",
       "4                        0                                               0   \n",
       "\n",
       "   Artificial sea water  Ca(NO 3 ) 2  CaCl 2 x 2 H 2 O  CaCl2  \\\n",
       "0                     0            0                 0      0   \n",
       "1                     0            0                 0      0   \n",
       "2                     0            1                 0      0   \n",
       "3                     0            0                 1      0   \n",
       "4                     0            0                 0      0   \n",
       "\n",
       "   Casamino acids (BD BBL)  ...  Trace element SL-11  Trace element SL-6  \\\n",
       "0                        0  ...                    0                   0   \n",
       "1                        0  ...                    0                   0   \n",
       "2                        0  ...                    0                   0   \n",
       "3                        0  ...                    0                   0   \n",
       "4                        0  ...                    0                   0   \n",
       "\n",
       "   Trace element Wolfe's  Trypticase peptone  Tryptone  Vitamin solution 141  \\\n",
       "0                      0                   0         0                     0   \n",
       "1                      0                   0         0                     0   \n",
       "2                      0                   0         0                     0   \n",
       "3                      0                   0         0                     0   \n",
       "4                      0                   1         0                     0   \n",
       "\n",
       "   Vitamin solution 1412  Vitamin solution 603  \\\n",
       "0                      0                     0   \n",
       "1                      0                     0   \n",
       "2                      0                     0   \n",
       "3                      0                     0   \n",
       "4                      0                     0   \n",
       "\n",
       "   VOSO 4 x 5 H 2 O solution (0.01% w/v)  Yeast Extract  \n",
       "0                                      0              1  \n",
       "1                                      0              1  \n",
       "2                                      0              0  \n",
       "3                                      0              0  \n",
       "4                                      0              1  \n",
       "\n",
       "[5 rows x 91 columns]"
      ]
     },
     "execution_count": 5,
     "metadata": {},
     "output_type": "execute_result"
    }
   ],
   "source": [
    "X_train = data_df.drop([\"Components\", \"taxon_id\", \"media_id\"], axis=1)\n",
    "X_train.head()"
   ]
  },
  {
   "cell_type": "markdown",
   "metadata": {},
   "source": [
    "## 1. Predict taxon from media components"
   ]
  },
  {
   "cell_type": "markdown",
   "metadata": {},
   "source": [
    "### Using binary data"
   ]
  },
  {
   "cell_type": "code",
   "execution_count": 6,
   "metadata": {},
   "outputs": [],
   "source": [
    "# Add cluster label\n",
    "cluster = AgglomerativeClustering(\n",
    "    n_clusters=3,\n",
    "    linkage=\"ward\"\n",
    ")\n",
    "reduced_df_binary = X_train.copy()\n",
    "reduced_df_binary[\"Cluster\"] = cluster.fit_predict(reduced_df_binary)\n",
    "reduced_df_binary[\"Cluster\"] = reduced_df_binary[\"Cluster\"].astype(str)"
   ]
  },
  {
   "cell_type": "code",
   "execution_count": 7,
   "metadata": {},
   "outputs": [
    {
     "data": {
      "text/html": [
       "<div>\n",
       "<style scoped>\n",
       "    .dataframe tbody tr th:only-of-type {\n",
       "        vertical-align: middle;\n",
       "    }\n",
       "\n",
       "    .dataframe tbody tr th {\n",
       "        vertical-align: top;\n",
       "    }\n",
       "\n",
       "    .dataframe thead th {\n",
       "        text-align: right;\n",
       "    }\n",
       "</style>\n",
       "<table border=\"1\" class=\"dataframe\">\n",
       "  <thead>\n",
       "    <tr style=\"text-align: right;\">\n",
       "      <th></th>\n",
       "      <th>(NH 4 ) 2 SO 4</th>\n",
       "      <th>(NH 4 ) acetate or Na-pyruvate</th>\n",
       "      <th>0.1 N H 2 SO 4</th>\n",
       "      <th>0.1M Tris/HCl at pH 7.5</th>\n",
       "      <th>Allen’s trace element solution (see medium 88)</th>\n",
       "      <th>Artificial sea water</th>\n",
       "      <th>Ca(NO 3 ) 2</th>\n",
       "      <th>CaCl 2 x 2 H 2 O</th>\n",
       "      <th>CaCl2</th>\n",
       "      <th>Casamino acids (BD BBL)</th>\n",
       "      <th>...</th>\n",
       "      <th>Trypticase peptone</th>\n",
       "      <th>Tryptone</th>\n",
       "      <th>Vitamin solution 141</th>\n",
       "      <th>Vitamin solution 1412</th>\n",
       "      <th>Vitamin solution 603</th>\n",
       "      <th>VOSO 4 x 5 H 2 O solution (0.01% w/v)</th>\n",
       "      <th>Yeast Extract</th>\n",
       "      <th>Cluster</th>\n",
       "      <th>taxon_id</th>\n",
       "      <th>media_id</th>\n",
       "    </tr>\n",
       "  </thead>\n",
       "  <tbody>\n",
       "    <tr>\n",
       "      <th>0</th>\n",
       "      <td>1</td>\n",
       "      <td>0</td>\n",
       "      <td>0</td>\n",
       "      <td>0</td>\n",
       "      <td>0</td>\n",
       "      <td>0</td>\n",
       "      <td>0</td>\n",
       "      <td>0</td>\n",
       "      <td>0</td>\n",
       "      <td>0</td>\n",
       "      <td>...</td>\n",
       "      <td>0</td>\n",
       "      <td>0</td>\n",
       "      <td>0</td>\n",
       "      <td>0</td>\n",
       "      <td>0</td>\n",
       "      <td>0</td>\n",
       "      <td>1</td>\n",
       "      <td>2</td>\n",
       "      <td>536350</td>\n",
       "      <td>709</td>\n",
       "    </tr>\n",
       "    <tr>\n",
       "      <th>1</th>\n",
       "      <td>1</td>\n",
       "      <td>0</td>\n",
       "      <td>0</td>\n",
       "      <td>0</td>\n",
       "      <td>0</td>\n",
       "      <td>0</td>\n",
       "      <td>0</td>\n",
       "      <td>0</td>\n",
       "      <td>0</td>\n",
       "      <td>0</td>\n",
       "      <td>...</td>\n",
       "      <td>0</td>\n",
       "      <td>0</td>\n",
       "      <td>0</td>\n",
       "      <td>0</td>\n",
       "      <td>0</td>\n",
       "      <td>0</td>\n",
       "      <td>1</td>\n",
       "      <td>2</td>\n",
       "      <td>5240</td>\n",
       "      <td>269</td>\n",
       "    </tr>\n",
       "    <tr>\n",
       "      <th>2</th>\n",
       "      <td>1</td>\n",
       "      <td>0</td>\n",
       "      <td>0</td>\n",
       "      <td>0</td>\n",
       "      <td>0</td>\n",
       "      <td>0</td>\n",
       "      <td>1</td>\n",
       "      <td>0</td>\n",
       "      <td>0</td>\n",
       "      <td>0</td>\n",
       "      <td>...</td>\n",
       "      <td>0</td>\n",
       "      <td>0</td>\n",
       "      <td>0</td>\n",
       "      <td>0</td>\n",
       "      <td>0</td>\n",
       "      <td>0</td>\n",
       "      <td>0</td>\n",
       "      <td>2</td>\n",
       "      <td>330590</td>\n",
       "      <td>150a</td>\n",
       "    </tr>\n",
       "    <tr>\n",
       "      <th>3</th>\n",
       "      <td>1</td>\n",
       "      <td>0</td>\n",
       "      <td>1</td>\n",
       "      <td>0</td>\n",
       "      <td>0</td>\n",
       "      <td>0</td>\n",
       "      <td>0</td>\n",
       "      <td>1</td>\n",
       "      <td>0</td>\n",
       "      <td>0</td>\n",
       "      <td>...</td>\n",
       "      <td>0</td>\n",
       "      <td>0</td>\n",
       "      <td>0</td>\n",
       "      <td>0</td>\n",
       "      <td>0</td>\n",
       "      <td>0</td>\n",
       "      <td>0</td>\n",
       "      <td>2</td>\n",
       "      <td>9200</td>\n",
       "      <td>882</td>\n",
       "    </tr>\n",
       "    <tr>\n",
       "      <th>4</th>\n",
       "      <td>0</td>\n",
       "      <td>0</td>\n",
       "      <td>0</td>\n",
       "      <td>0</td>\n",
       "      <td>0</td>\n",
       "      <td>0</td>\n",
       "      <td>0</td>\n",
       "      <td>0</td>\n",
       "      <td>0</td>\n",
       "      <td>0</td>\n",
       "      <td>...</td>\n",
       "      <td>1</td>\n",
       "      <td>0</td>\n",
       "      <td>0</td>\n",
       "      <td>0</td>\n",
       "      <td>0</td>\n",
       "      <td>0</td>\n",
       "      <td>1</td>\n",
       "      <td>2</td>\n",
       "      <td>6497460</td>\n",
       "      <td>104a</td>\n",
       "    </tr>\n",
       "  </tbody>\n",
       "</table>\n",
       "<p>5 rows × 94 columns</p>\n",
       "</div>"
      ],
      "text/plain": [
       "   (NH 4 ) 2 SO 4  (NH 4 ) acetate or Na-pyruvate  0.1 N H 2 SO 4  \\\n",
       "0               1                               0               0   \n",
       "1               1                               0               0   \n",
       "2               1                               0               0   \n",
       "3               1                               0               1   \n",
       "4               0                               0               0   \n",
       "\n",
       "   0.1M Tris/HCl at pH 7.5  Allen’s trace element solution (see medium 88)  \\\n",
       "0                        0                                               0   \n",
       "1                        0                                               0   \n",
       "2                        0                                               0   \n",
       "3                        0                                               0   \n",
       "4                        0                                               0   \n",
       "\n",
       "   Artificial sea water  Ca(NO 3 ) 2  CaCl 2 x 2 H 2 O  CaCl2  \\\n",
       "0                     0            0                 0      0   \n",
       "1                     0            0                 0      0   \n",
       "2                     0            1                 0      0   \n",
       "3                     0            0                 1      0   \n",
       "4                     0            0                 0      0   \n",
       "\n",
       "   Casamino acids (BD BBL)  ...  Trypticase peptone  Tryptone  \\\n",
       "0                        0  ...                   0         0   \n",
       "1                        0  ...                   0         0   \n",
       "2                        0  ...                   0         0   \n",
       "3                        0  ...                   0         0   \n",
       "4                        0  ...                   1         0   \n",
       "\n",
       "   Vitamin solution 141  Vitamin solution 1412  Vitamin solution 603  \\\n",
       "0                     0                      0                     0   \n",
       "1                     0                      0                     0   \n",
       "2                     0                      0                     0   \n",
       "3                     0                      0                     0   \n",
       "4                     0                      0                     0   \n",
       "\n",
       "   VOSO 4 x 5 H 2 O solution (0.01% w/v)  Yeast Extract  Cluster  taxon_id  \\\n",
       "0                                      0              1        2    536350   \n",
       "1                                      0              1        2      5240   \n",
       "2                                      0              0        2    330590   \n",
       "3                                      0              0        2      9200   \n",
       "4                                      0              1        2   6497460   \n",
       "\n",
       "   media_id  \n",
       "0       709  \n",
       "1       269  \n",
       "2      150a  \n",
       "3       882  \n",
       "4      104a  \n",
       "\n",
       "[5 rows x 94 columns]"
      ]
     },
     "execution_count": 7,
     "metadata": {},
     "output_type": "execute_result"
    }
   ],
   "source": [
    "# Add ID columns\n",
    "reduced_df_binary[[\"taxon_id\", \"media_id\"]] = \\\n",
    "    data_df[[\"taxon_id\", \"media_id\"]].values\n",
    "\n",
    "reduced_df_binary.head()"
   ]
  },
  {
   "cell_type": "markdown",
   "metadata": {},
   "source": [
    "### Using continuous data"
   ]
  },
  {
   "cell_type": "markdown",
   "metadata": {},
   "source": [
    "#### Map binary features to a continuous embedding space using UMAP (or another algorithm)"
   ]
  },
  {
   "cell_type": "code",
   "execution_count": 8,
   "metadata": {},
   "outputs": [
    {
     "name": "stderr",
     "output_type": "stream",
     "text": [
      "OMP: Info #276: omp_set_nested routine deprecated, please use omp_set_max_active_levels instead.\n"
     ]
    }
   ],
   "source": [
    "reducer = umap.UMAP(\n",
    "    metric=UMAP_METRIC,\n",
    "    n_components=4,\n",
    "    n_epochs=5000,\n",
    "    random_state=UMAP_SEED,\n",
    "    n_jobs=1\n",
    ")\n",
    "\n",
    "reduced_df = reducer.fit_transform(X_train)\n",
    "reduced_df = pd.DataFrame(\n",
    "    reduced_df,\n",
    "    columns=[f\"Component {i+1}\" for i in range(reduced_df.shape[1])]\n",
    ")"
   ]
  },
  {
   "cell_type": "markdown",
   "metadata": {},
   "source": [
    "#### Perform the clustering"
   ]
  },
  {
   "cell_type": "code",
   "execution_count": 9,
   "metadata": {},
   "outputs": [],
   "source": [
    "# Add cluster label\n",
    "cluster = HDBSCAN(\n",
    "    min_cluster_size=10,\n",
    "    min_samples=None,\n",
    "    metric=UMAP_METRIC,\n",
    "    n_jobs=-1\n",
    ")\n",
    "reduced_df[\"Cluster\"] = cluster.fit_predict(reduced_df)\n",
    "reduced_df[\"Cluster\"] = reduced_df[\"Cluster\"].astype(str)"
   ]
  },
  {
   "cell_type": "code",
   "execution_count": 10,
   "metadata": {},
   "outputs": [
    {
     "data": {
      "text/html": [
       "<div>\n",
       "<style scoped>\n",
       "    .dataframe tbody tr th:only-of-type {\n",
       "        vertical-align: middle;\n",
       "    }\n",
       "\n",
       "    .dataframe tbody tr th {\n",
       "        vertical-align: top;\n",
       "    }\n",
       "\n",
       "    .dataframe thead th {\n",
       "        text-align: right;\n",
       "    }\n",
       "</style>\n",
       "<table border=\"1\" class=\"dataframe\">\n",
       "  <thead>\n",
       "    <tr style=\"text-align: right;\">\n",
       "      <th></th>\n",
       "      <th>Component 1</th>\n",
       "      <th>Component 2</th>\n",
       "      <th>Component 3</th>\n",
       "      <th>Component 4</th>\n",
       "      <th>Cluster</th>\n",
       "      <th>taxon_id</th>\n",
       "      <th>media_id</th>\n",
       "    </tr>\n",
       "  </thead>\n",
       "  <tbody>\n",
       "    <tr>\n",
       "      <th>0</th>\n",
       "      <td>-0.351901</td>\n",
       "      <td>2.414721</td>\n",
       "      <td>-15.072645</td>\n",
       "      <td>49.442924</td>\n",
       "      <td>0</td>\n",
       "      <td>536350</td>\n",
       "      <td>709</td>\n",
       "    </tr>\n",
       "    <tr>\n",
       "      <th>1</th>\n",
       "      <td>-0.144096</td>\n",
       "      <td>2.163689</td>\n",
       "      <td>-14.829208</td>\n",
       "      <td>49.196720</td>\n",
       "      <td>0</td>\n",
       "      <td>5240</td>\n",
       "      <td>269</td>\n",
       "    </tr>\n",
       "    <tr>\n",
       "      <th>2</th>\n",
       "      <td>-0.147368</td>\n",
       "      <td>2.694492</td>\n",
       "      <td>-14.889048</td>\n",
       "      <td>48.937775</td>\n",
       "      <td>0</td>\n",
       "      <td>330590</td>\n",
       "      <td>150a</td>\n",
       "    </tr>\n",
       "    <tr>\n",
       "      <th>3</th>\n",
       "      <td>0.426770</td>\n",
       "      <td>10.763753</td>\n",
       "      <td>-10.557870</td>\n",
       "      <td>45.669064</td>\n",
       "      <td>1</td>\n",
       "      <td>9200</td>\n",
       "      <td>882</td>\n",
       "    </tr>\n",
       "    <tr>\n",
       "      <th>4</th>\n",
       "      <td>1.114709</td>\n",
       "      <td>3.485331</td>\n",
       "      <td>-14.437037</td>\n",
       "      <td>49.309772</td>\n",
       "      <td>0</td>\n",
       "      <td>6497460</td>\n",
       "      <td>104a</td>\n",
       "    </tr>\n",
       "  </tbody>\n",
       "</table>\n",
       "</div>"
      ],
      "text/plain": [
       "   Component 1  Component 2  Component 3  Component 4 Cluster taxon_id  \\\n",
       "0    -0.351901     2.414721   -15.072645    49.442924       0   536350   \n",
       "1    -0.144096     2.163689   -14.829208    49.196720       0     5240   \n",
       "2    -0.147368     2.694492   -14.889048    48.937775       0   330590   \n",
       "3     0.426770    10.763753   -10.557870    45.669064       1     9200   \n",
       "4     1.114709     3.485331   -14.437037    49.309772       0  6497460   \n",
       "\n",
       "  media_id  \n",
       "0      709  \n",
       "1      269  \n",
       "2     150a  \n",
       "3      882  \n",
       "4     104a  "
      ]
     },
     "execution_count": 10,
     "metadata": {},
     "output_type": "execute_result"
    }
   ],
   "source": [
    "# Add ID columns\n",
    "reduced_df[[\"taxon_id\", \"media_id\"]] = \\\n",
    "    data_df[[\"taxon_id\", \"media_id\"]].values\n",
    "\n",
    "reduced_df.head()"
   ]
  },
  {
   "cell_type": "markdown",
   "metadata": {},
   "source": [
    "#### Visualise the results"
   ]
  },
  {
   "cell_type": "code",
   "execution_count": 11,
   "metadata": {},
   "outputs": [
    {
     "data": {
      "application/vnd.plotly.v1+json": {
       "config": {
        "plotlyServerURL": "https://plot.ly"
       },
       "data": [
        {
         "customdata": [
          [
           "536350",
           "709"
          ],
          [
           "5240",
           "269"
          ],
          [
           "330590",
           "150a"
          ],
          [
           "9200",
           "882"
          ],
          [
           "6497460",
           "104a"
          ],
          [
           "841560",
           "519"
          ],
          [
           "14540",
           "259"
          ],
          [
           "6930750",
           "1211"
          ],
          [
           "9790",
           "172"
          ],
          [
           "11080",
           "87"
          ],
          [
           "9820",
           "669"
          ],
          [
           "295280",
           "172"
          ],
          [
           "9990",
           "172"
          ],
          [
           "709930",
           "172"
          ],
          [
           "26980",
           "370"
          ],
          [
           "1217340",
           "370"
          ],
          [
           "27240",
           "607"
          ],
          [
           "340920",
           "743"
          ],
          [
           "542590",
           "897"
          ],
          [
           "1143760",
           "897"
          ],
          [
           "1786060",
           "882"
          ],
          [
           "1800",
           "882"
          ],
          [
           "452480",
           "79"
          ],
          [
           "10260",
           "172"
          ],
          [
           "10280",
           "172"
          ],
          [
           "10060",
           "172"
          ],
          [
           "2770",
           "256"
          ],
          [
           "22080",
           "120"
          ],
          [
           "22090",
           "120"
          ],
          [
           "22150",
           "120"
          ],
          [
           "6749720",
           "1042"
          ],
          [
           "9810",
           "172"
          ],
          [
           "1190",
           "607"
          ],
          [
           "22610",
           "377"
          ],
          [
           "539530",
           "377"
          ],
          [
           "22620",
           "377"
          ],
          [
           "10710",
           "25"
          ],
          [
           "22800",
           "377"
          ],
          [
           "22850",
           "182"
          ],
          [
           "22850",
           "88"
          ],
          [
           "22870",
           "182"
          ],
          [
           "22870",
           "88"
          ],
          [
           "1119550",
           "182"
          ],
          [
           "1119550",
           "88"
          ],
          [
           "503390",
           "398"
          ],
          [
           "903230",
           "377"
          ],
          [
           "391000",
           "688"
          ],
          [
           "5259180",
           "573"
          ],
          [
           "5259170",
           "573"
          ],
          [
           "10310",
           "573"
          ],
          [
           "27360",
           "607"
          ],
          [
           "3370970",
           "1042"
          ]
         ],
         "hovertemplate": "Component 1=%{x}<br>Component 2=%{y}<br>Component 3=%{z}<br>taxon_id=%{customdata[0]}<br>media_id=%{customdata[1]}<br>Component 4=%{marker.color}<extra></extra>",
         "legendgroup": "",
         "marker": {
          "color": [
           49.44292449951172,
           49.196720123291016,
           48.937774658203125,
           45.669063568115234,
           49.30977249145508,
           49.738582611083984,
           49.85569763183594,
           49.97017288208008,
           49.44425582885742,
           49.866661071777344,
           50.06325149536133,
           49.9089469909668,
           49.522438049316406,
           49.56499481201172,
           49.962860107421875,
           49.57456588745117,
           49.54154586791992,
           49.44868087768555,
           63.09379196166992,
           63.231239318847656,
           46.05741500854492,
           45.98839569091797,
           49.247474670410156,
           50.1525764465332,
           49.66318130493164,
           49.882198333740234,
           49.282127380371094,
           50.182212829589844,
           50.03159713745117,
           49.937870025634766,
           49.269317626953125,
           49.45742416381836,
           49.499244689941406,
           63.60639572143555,
           63.47781753540039,
           63.441062927246094,
           49.854618072509766,
           63.39405822753906,
           45.7021369934082,
           45.84465789794922,
           45.76741409301758,
           45.88035202026367,
           46.06931686401367,
           45.99289321899414,
           45.590049743652344,
           63.24341583251953,
           49.83235549926758,
           50.22370529174805,
           50.30241775512695,
           50.30913543701172,
           49.326751708984375,
           49.424415588378906
          ],
          "coloraxis": "coloraxis",
          "symbol": "circle"
         },
         "mode": "markers",
         "name": "",
         "scene": "scene",
         "showlegend": false,
         "type": "scatter3d",
         "x": [
          -0.3519006371498108,
          -0.14409565925598145,
          -0.14736828207969666,
          0.42676955461502075,
          1.1147085428237915,
          0.26911357045173645,
          0.6400226354598999,
          0.9887933135032654,
          0.02036208286881447,
          -0.3437272012233734,
          0.06853695213794708,
          -0.4309634268283844,
          -0.6173580288887024,
          -0.11102443933486938,
          0.24192388355731964,
          0.5255618691444397,
          1.7051880359649658,
          -0.02279520593583584,
          -44.4325065612793,
          -44.35897445678711,
          0.3623482286930084,
          0.37611594796180725,
          0.859896719455719,
          -0.04787247255444527,
          -0.0018299906514585018,
          -0.3786521553993225,
          1.3905383348464966,
          1.272737979888916,
          1.0611746311187744,
          1.1681135892868042,
          1.1753405332565308,
          -0.3093236982822418,
          1.8104914426803589,
          -44.39122009277344,
          -44.58005142211914,
          -44.46262741088867,
          0.19654251635074615,
          -44.243675231933594,
          0.14466562867164612,
          0.6299365758895874,
          0.6218633055686951,
          0.17653919756412506,
          0.6260362863540649,
          0.3978149890899658,
          0.5846757888793945,
          -44.588443756103516,
          0.5671669244766235,
          0.6845454573631287,
          0.8761837482452393,
          0.8213822841644287,
          1.6259808540344238,
          1.3713157176971436
         ],
         "y": [
          2.4147214889526367,
          2.163688898086548,
          2.6944921016693115,
          10.763752937316895,
          3.485330581665039,
          2.649339199066162,
          3.034925699234009,
          3.5215959548950195,
          1.7311056852340698,
          1.8330780267715454,
          2.1573703289031982,
          1.719488263130188,
          2.0961713790893555,
          2.100625991821289,
          2.465721607208252,
          2.1732542514801025,
          4.0190253257751465,
          2.93021559715271,
          46.613468170166016,
          46.6870002746582,
          10.54024887084961,
          10.8524751663208,
          2.928626775741577,
          1.8676040172576904,
          1.9327194690704346,
          2.173898696899414,
          3.556845188140869,
          3.6453301906585693,
          3.8068578243255615,
          3.629871368408203,
          3.1475558280944824,
          1.6334259510040283,
          3.8967552185058594,
          46.654754638671875,
          46.46592330932617,
          46.58334732055664,
          1.6285793781280518,
          46.80229949951172,
          10.627216339111328,
          10.521263122558594,
          10.569352149963379,
          11.038148880004883,
          11.018125534057617,
          10.805926322937012,
          10.9428129196167,
          46.4575309753418,
          3.0066914558410645,
          3.119833469390869,
          2.9431278705596924,
          3.2286136150360107,
          4.058498382568359,
          3.2069296836853027
         ],
         "z": [
          -15.07264518737793,
          -14.829208374023438,
          -14.889047622680664,
          -10.557869911193848,
          -14.437036514282227,
          -13.396206855773926,
          -14.163131713867188,
          -12.845349311828613,
          -14.462200164794922,
          -14.329093933105469,
          -14.279019355773926,
          -14.80234432220459,
          -14.514810562133789,
          -14.42049789428711,
          -14.831807136535645,
          -14.608561515808105,
          -14.52534008026123,
          -14.705000877380371,
          -43.81539535522461,
          -43.74186325073242,
          -10.83202075958252,
          -10.558366775512695,
          -14.63948917388916,
          -14.756773948669434,
          -15.039115905761719,
          -14.772970199584961,
          -14.73022747039795,
          -12.72972297668457,
          -12.667152404785156,
          -12.533210754394531,
          -15.086917877197266,
          -14.747505187988281,
          -14.746935844421387,
          -43.77410888671875,
          -43.96294021606445,
          -43.845516204833984,
          -14.679264068603516,
          -43.626564025878906,
          -10.808626174926758,
          -10.600484848022461,
          -10.991195678710938,
          -10.884435653686523,
          -10.767049789428711,
          -11.09263801574707,
          -10.881229400634766,
          -43.97133255004883,
          -13.176616668701172,
          -14.104964256286621,
          -14.166913986206055,
          -14.003445625305176,
          -14.69072151184082,
          -14.929839134216309
         ]
        }
       ],
       "layout": {
        "coloraxis": {
         "colorbar": {
          "title": {
           "text": "Component 4"
          }
         },
         "colorscale": [
          [
           0,
           "#0d0887"
          ],
          [
           0.1111111111111111,
           "#46039f"
          ],
          [
           0.2222222222222222,
           "#7201a8"
          ],
          [
           0.3333333333333333,
           "#9c179e"
          ],
          [
           0.4444444444444444,
           "#bd3786"
          ],
          [
           0.5555555555555556,
           "#d8576b"
          ],
          [
           0.6666666666666666,
           "#ed7953"
          ],
          [
           0.7777777777777778,
           "#fb9f3a"
          ],
          [
           0.8888888888888888,
           "#fdca26"
          ],
          [
           1,
           "#f0f921"
          ]
         ]
        },
        "legend": {
         "tracegroupgap": 0
        },
        "margin": {
         "t": 60
        },
        "scene": {
         "domain": {
          "x": [
           0,
           1
          ],
          "y": [
           0,
           1
          ]
         },
         "xaxis": {
          "title": {
           "text": "Component 1"
          }
         },
         "yaxis": {
          "title": {
           "text": "Component 2"
          }
         },
         "zaxis": {
          "title": {
           "text": "Component 3"
          }
         }
        },
        "template": {
         "data": {
          "bar": [
           {
            "error_x": {
             "color": "#2a3f5f"
            },
            "error_y": {
             "color": "#2a3f5f"
            },
            "marker": {
             "line": {
              "color": "white",
              "width": 0.5
             },
             "pattern": {
              "fillmode": "overlay",
              "size": 10,
              "solidity": 0.2
             }
            },
            "type": "bar"
           }
          ],
          "barpolar": [
           {
            "marker": {
             "line": {
              "color": "white",
              "width": 0.5
             },
             "pattern": {
              "fillmode": "overlay",
              "size": 10,
              "solidity": 0.2
             }
            },
            "type": "barpolar"
           }
          ],
          "carpet": [
           {
            "aaxis": {
             "endlinecolor": "#2a3f5f",
             "gridcolor": "#C8D4E3",
             "linecolor": "#C8D4E3",
             "minorgridcolor": "#C8D4E3",
             "startlinecolor": "#2a3f5f"
            },
            "baxis": {
             "endlinecolor": "#2a3f5f",
             "gridcolor": "#C8D4E3",
             "linecolor": "#C8D4E3",
             "minorgridcolor": "#C8D4E3",
             "startlinecolor": "#2a3f5f"
            },
            "type": "carpet"
           }
          ],
          "choropleth": [
           {
            "colorbar": {
             "outlinewidth": 0,
             "ticks": ""
            },
            "type": "choropleth"
           }
          ],
          "contour": [
           {
            "colorbar": {
             "outlinewidth": 0,
             "ticks": ""
            },
            "colorscale": [
             [
              0,
              "#0d0887"
             ],
             [
              0.1111111111111111,
              "#46039f"
             ],
             [
              0.2222222222222222,
              "#7201a8"
             ],
             [
              0.3333333333333333,
              "#9c179e"
             ],
             [
              0.4444444444444444,
              "#bd3786"
             ],
             [
              0.5555555555555556,
              "#d8576b"
             ],
             [
              0.6666666666666666,
              "#ed7953"
             ],
             [
              0.7777777777777778,
              "#fb9f3a"
             ],
             [
              0.8888888888888888,
              "#fdca26"
             ],
             [
              1,
              "#f0f921"
             ]
            ],
            "type": "contour"
           }
          ],
          "contourcarpet": [
           {
            "colorbar": {
             "outlinewidth": 0,
             "ticks": ""
            },
            "type": "contourcarpet"
           }
          ],
          "heatmap": [
           {
            "colorbar": {
             "outlinewidth": 0,
             "ticks": ""
            },
            "colorscale": [
             [
              0,
              "#0d0887"
             ],
             [
              0.1111111111111111,
              "#46039f"
             ],
             [
              0.2222222222222222,
              "#7201a8"
             ],
             [
              0.3333333333333333,
              "#9c179e"
             ],
             [
              0.4444444444444444,
              "#bd3786"
             ],
             [
              0.5555555555555556,
              "#d8576b"
             ],
             [
              0.6666666666666666,
              "#ed7953"
             ],
             [
              0.7777777777777778,
              "#fb9f3a"
             ],
             [
              0.8888888888888888,
              "#fdca26"
             ],
             [
              1,
              "#f0f921"
             ]
            ],
            "type": "heatmap"
           }
          ],
          "heatmapgl": [
           {
            "colorbar": {
             "outlinewidth": 0,
             "ticks": ""
            },
            "colorscale": [
             [
              0,
              "#0d0887"
             ],
             [
              0.1111111111111111,
              "#46039f"
             ],
             [
              0.2222222222222222,
              "#7201a8"
             ],
             [
              0.3333333333333333,
              "#9c179e"
             ],
             [
              0.4444444444444444,
              "#bd3786"
             ],
             [
              0.5555555555555556,
              "#d8576b"
             ],
             [
              0.6666666666666666,
              "#ed7953"
             ],
             [
              0.7777777777777778,
              "#fb9f3a"
             ],
             [
              0.8888888888888888,
              "#fdca26"
             ],
             [
              1,
              "#f0f921"
             ]
            ],
            "type": "heatmapgl"
           }
          ],
          "histogram": [
           {
            "marker": {
             "pattern": {
              "fillmode": "overlay",
              "size": 10,
              "solidity": 0.2
             }
            },
            "type": "histogram"
           }
          ],
          "histogram2d": [
           {
            "colorbar": {
             "outlinewidth": 0,
             "ticks": ""
            },
            "colorscale": [
             [
              0,
              "#0d0887"
             ],
             [
              0.1111111111111111,
              "#46039f"
             ],
             [
              0.2222222222222222,
              "#7201a8"
             ],
             [
              0.3333333333333333,
              "#9c179e"
             ],
             [
              0.4444444444444444,
              "#bd3786"
             ],
             [
              0.5555555555555556,
              "#d8576b"
             ],
             [
              0.6666666666666666,
              "#ed7953"
             ],
             [
              0.7777777777777778,
              "#fb9f3a"
             ],
             [
              0.8888888888888888,
              "#fdca26"
             ],
             [
              1,
              "#f0f921"
             ]
            ],
            "type": "histogram2d"
           }
          ],
          "histogram2dcontour": [
           {
            "colorbar": {
             "outlinewidth": 0,
             "ticks": ""
            },
            "colorscale": [
             [
              0,
              "#0d0887"
             ],
             [
              0.1111111111111111,
              "#46039f"
             ],
             [
              0.2222222222222222,
              "#7201a8"
             ],
             [
              0.3333333333333333,
              "#9c179e"
             ],
             [
              0.4444444444444444,
              "#bd3786"
             ],
             [
              0.5555555555555556,
              "#d8576b"
             ],
             [
              0.6666666666666666,
              "#ed7953"
             ],
             [
              0.7777777777777778,
              "#fb9f3a"
             ],
             [
              0.8888888888888888,
              "#fdca26"
             ],
             [
              1,
              "#f0f921"
             ]
            ],
            "type": "histogram2dcontour"
           }
          ],
          "mesh3d": [
           {
            "colorbar": {
             "outlinewidth": 0,
             "ticks": ""
            },
            "type": "mesh3d"
           }
          ],
          "parcoords": [
           {
            "line": {
             "colorbar": {
              "outlinewidth": 0,
              "ticks": ""
             }
            },
            "type": "parcoords"
           }
          ],
          "pie": [
           {
            "automargin": true,
            "type": "pie"
           }
          ],
          "scatter": [
           {
            "fillpattern": {
             "fillmode": "overlay",
             "size": 10,
             "solidity": 0.2
            },
            "type": "scatter"
           }
          ],
          "scatter3d": [
           {
            "line": {
             "colorbar": {
              "outlinewidth": 0,
              "ticks": ""
             }
            },
            "marker": {
             "colorbar": {
              "outlinewidth": 0,
              "ticks": ""
             }
            },
            "type": "scatter3d"
           }
          ],
          "scattercarpet": [
           {
            "marker": {
             "colorbar": {
              "outlinewidth": 0,
              "ticks": ""
             }
            },
            "type": "scattercarpet"
           }
          ],
          "scattergeo": [
           {
            "marker": {
             "colorbar": {
              "outlinewidth": 0,
              "ticks": ""
             }
            },
            "type": "scattergeo"
           }
          ],
          "scattergl": [
           {
            "marker": {
             "colorbar": {
              "outlinewidth": 0,
              "ticks": ""
             }
            },
            "type": "scattergl"
           }
          ],
          "scattermapbox": [
           {
            "marker": {
             "colorbar": {
              "outlinewidth": 0,
              "ticks": ""
             }
            },
            "type": "scattermapbox"
           }
          ],
          "scatterpolar": [
           {
            "marker": {
             "colorbar": {
              "outlinewidth": 0,
              "ticks": ""
             }
            },
            "type": "scatterpolar"
           }
          ],
          "scatterpolargl": [
           {
            "marker": {
             "colorbar": {
              "outlinewidth": 0,
              "ticks": ""
             }
            },
            "type": "scatterpolargl"
           }
          ],
          "scatterternary": [
           {
            "marker": {
             "colorbar": {
              "outlinewidth": 0,
              "ticks": ""
             }
            },
            "type": "scatterternary"
           }
          ],
          "surface": [
           {
            "colorbar": {
             "outlinewidth": 0,
             "ticks": ""
            },
            "colorscale": [
             [
              0,
              "#0d0887"
             ],
             [
              0.1111111111111111,
              "#46039f"
             ],
             [
              0.2222222222222222,
              "#7201a8"
             ],
             [
              0.3333333333333333,
              "#9c179e"
             ],
             [
              0.4444444444444444,
              "#bd3786"
             ],
             [
              0.5555555555555556,
              "#d8576b"
             ],
             [
              0.6666666666666666,
              "#ed7953"
             ],
             [
              0.7777777777777778,
              "#fb9f3a"
             ],
             [
              0.8888888888888888,
              "#fdca26"
             ],
             [
              1,
              "#f0f921"
             ]
            ],
            "type": "surface"
           }
          ],
          "table": [
           {
            "cells": {
             "fill": {
              "color": "#EBF0F8"
             },
             "line": {
              "color": "white"
             }
            },
            "header": {
             "fill": {
              "color": "#C8D4E3"
             },
             "line": {
              "color": "white"
             }
            },
            "type": "table"
           }
          ]
         },
         "layout": {
          "annotationdefaults": {
           "arrowcolor": "#2a3f5f",
           "arrowhead": 0,
           "arrowwidth": 1
          },
          "autotypenumbers": "strict",
          "coloraxis": {
           "colorbar": {
            "outlinewidth": 0,
            "ticks": ""
           }
          },
          "colorscale": {
           "diverging": [
            [
             0,
             "#8e0152"
            ],
            [
             0.1,
             "#c51b7d"
            ],
            [
             0.2,
             "#de77ae"
            ],
            [
             0.3,
             "#f1b6da"
            ],
            [
             0.4,
             "#fde0ef"
            ],
            [
             0.5,
             "#f7f7f7"
            ],
            [
             0.6,
             "#e6f5d0"
            ],
            [
             0.7,
             "#b8e186"
            ],
            [
             0.8,
             "#7fbc41"
            ],
            [
             0.9,
             "#4d9221"
            ],
            [
             1,
             "#276419"
            ]
           ],
           "sequential": [
            [
             0,
             "#0d0887"
            ],
            [
             0.1111111111111111,
             "#46039f"
            ],
            [
             0.2222222222222222,
             "#7201a8"
            ],
            [
             0.3333333333333333,
             "#9c179e"
            ],
            [
             0.4444444444444444,
             "#bd3786"
            ],
            [
             0.5555555555555556,
             "#d8576b"
            ],
            [
             0.6666666666666666,
             "#ed7953"
            ],
            [
             0.7777777777777778,
             "#fb9f3a"
            ],
            [
             0.8888888888888888,
             "#fdca26"
            ],
            [
             1,
             "#f0f921"
            ]
           ],
           "sequentialminus": [
            [
             0,
             "#0d0887"
            ],
            [
             0.1111111111111111,
             "#46039f"
            ],
            [
             0.2222222222222222,
             "#7201a8"
            ],
            [
             0.3333333333333333,
             "#9c179e"
            ],
            [
             0.4444444444444444,
             "#bd3786"
            ],
            [
             0.5555555555555556,
             "#d8576b"
            ],
            [
             0.6666666666666666,
             "#ed7953"
            ],
            [
             0.7777777777777778,
             "#fb9f3a"
            ],
            [
             0.8888888888888888,
             "#fdca26"
            ],
            [
             1,
             "#f0f921"
            ]
           ]
          },
          "colorway": [
           "#636efa",
           "#EF553B",
           "#00cc96",
           "#ab63fa",
           "#FFA15A",
           "#19d3f3",
           "#FF6692",
           "#B6E880",
           "#FF97FF",
           "#FECB52"
          ],
          "font": {
           "color": "#2a3f5f"
          },
          "geo": {
           "bgcolor": "white",
           "lakecolor": "white",
           "landcolor": "white",
           "showlakes": true,
           "showland": true,
           "subunitcolor": "#C8D4E3"
          },
          "hoverlabel": {
           "align": "left"
          },
          "hovermode": "closest",
          "mapbox": {
           "style": "light"
          },
          "paper_bgcolor": "white",
          "plot_bgcolor": "white",
          "polar": {
           "angularaxis": {
            "gridcolor": "#EBF0F8",
            "linecolor": "#EBF0F8",
            "ticks": ""
           },
           "bgcolor": "white",
           "radialaxis": {
            "gridcolor": "#EBF0F8",
            "linecolor": "#EBF0F8",
            "ticks": ""
           }
          },
          "scene": {
           "xaxis": {
            "backgroundcolor": "white",
            "gridcolor": "#DFE8F3",
            "gridwidth": 2,
            "linecolor": "#EBF0F8",
            "showbackground": true,
            "ticks": "",
            "zerolinecolor": "#EBF0F8"
           },
           "yaxis": {
            "backgroundcolor": "white",
            "gridcolor": "#DFE8F3",
            "gridwidth": 2,
            "linecolor": "#EBF0F8",
            "showbackground": true,
            "ticks": "",
            "zerolinecolor": "#EBF0F8"
           },
           "zaxis": {
            "backgroundcolor": "white",
            "gridcolor": "#DFE8F3",
            "gridwidth": 2,
            "linecolor": "#EBF0F8",
            "showbackground": true,
            "ticks": "",
            "zerolinecolor": "#EBF0F8"
           }
          },
          "shapedefaults": {
           "line": {
            "color": "#2a3f5f"
           }
          },
          "ternary": {
           "aaxis": {
            "gridcolor": "#DFE8F3",
            "linecolor": "#A2B1C6",
            "ticks": ""
           },
           "baxis": {
            "gridcolor": "#DFE8F3",
            "linecolor": "#A2B1C6",
            "ticks": ""
           },
           "bgcolor": "white",
           "caxis": {
            "gridcolor": "#DFE8F3",
            "linecolor": "#A2B1C6",
            "ticks": ""
           }
          },
          "title": {
           "x": 0.05
          },
          "xaxis": {
           "automargin": true,
           "gridcolor": "#EBF0F8",
           "linecolor": "#EBF0F8",
           "ticks": "",
           "title": {
            "standoff": 15
           },
           "zerolinecolor": "#EBF0F8",
           "zerolinewidth": 2
          },
          "yaxis": {
           "automargin": true,
           "gridcolor": "#EBF0F8",
           "linecolor": "#EBF0F8",
           "ticks": "",
           "title": {
            "standoff": 15
           },
           "zerolinecolor": "#EBF0F8",
           "zerolinewidth": 2
          }
         }
        }
       }
      }
     },
     "metadata": {},
     "output_type": "display_data"
    }
   ],
   "source": [
    "fig = px.scatter_3d(\n",
    "    data_frame=reduced_df,\n",
    "    x=\"Component 1\",\n",
    "    y=\"Component 2\",\n",
    "    z=\"Component 3\",\n",
    "    color=\"Component 4\",\n",
    "    hover_data=[\n",
    "        \"taxon_id\",\n",
    "        \"media_id\"\n",
    "    ],\n",
    "    template=\"plotly_white\"\n",
    ")\n",
    "fig.show()"
   ]
  },
  {
   "cell_type": "code",
   "execution_count": 12,
   "metadata": {},
   "outputs": [
    {
     "data": {
      "application/vnd.plotly.v1+json": {
       "config": {
        "plotlyServerURL": "https://plot.ly"
       },
       "data": [
        {
         "customdata": [
          [
           "536350",
           "709"
          ],
          [
           "5240",
           "269"
          ],
          [
           "330590",
           "150a"
          ],
          [
           "6497460",
           "104a"
          ],
          [
           "841560",
           "519"
          ],
          [
           "14540",
           "259"
          ],
          [
           "6930750",
           "1211"
          ],
          [
           "9790",
           "172"
          ],
          [
           "11080",
           "87"
          ],
          [
           "9820",
           "669"
          ],
          [
           "295280",
           "172"
          ],
          [
           "9990",
           "172"
          ],
          [
           "709930",
           "172"
          ],
          [
           "26980",
           "370"
          ],
          [
           "1217340",
           "370"
          ],
          [
           "27240",
           "607"
          ],
          [
           "340920",
           "743"
          ],
          [
           "452480",
           "79"
          ],
          [
           "10260",
           "172"
          ],
          [
           "10280",
           "172"
          ],
          [
           "10060",
           "172"
          ],
          [
           "2770",
           "256"
          ],
          [
           "22080",
           "120"
          ],
          [
           "22090",
           "120"
          ],
          [
           "22150",
           "120"
          ],
          [
           "6749720",
           "1042"
          ],
          [
           "9810",
           "172"
          ],
          [
           "1190",
           "607"
          ],
          [
           "10710",
           "25"
          ],
          [
           "391000",
           "688"
          ],
          [
           "5259180",
           "573"
          ],
          [
           "5259170",
           "573"
          ],
          [
           "10310",
           "573"
          ],
          [
           "27360",
           "607"
          ],
          [
           "3370970",
           "1042"
          ]
         ],
         "hovertemplate": "Cluster=0<br>Component 1=%{x}<br>Component 2=%{y}<br>Component 3=%{z}<br>taxon_id=%{customdata[0]}<br>media_id=%{customdata[1]}<extra></extra>",
         "legendgroup": "0",
         "marker": {
          "color": "rgb(102, 197, 204)",
          "symbol": "circle"
         },
         "mode": "markers",
         "name": "0",
         "scene": "scene",
         "showlegend": true,
         "type": "scatter3d",
         "x": [
          -0.3519006371498108,
          -0.14409565925598145,
          -0.14736828207969666,
          1.1147085428237915,
          0.26911357045173645,
          0.6400226354598999,
          0.9887933135032654,
          0.02036208286881447,
          -0.3437272012233734,
          0.06853695213794708,
          -0.4309634268283844,
          -0.6173580288887024,
          -0.11102443933486938,
          0.24192388355731964,
          0.5255618691444397,
          1.7051880359649658,
          -0.02279520593583584,
          0.859896719455719,
          -0.04787247255444527,
          -0.0018299906514585018,
          -0.3786521553993225,
          1.3905383348464966,
          1.272737979888916,
          1.0611746311187744,
          1.1681135892868042,
          1.1753405332565308,
          -0.3093236982822418,
          1.8104914426803589,
          0.19654251635074615,
          0.5671669244766235,
          0.6845454573631287,
          0.8761837482452393,
          0.8213822841644287,
          1.6259808540344238,
          1.3713157176971436
         ],
         "y": [
          2.4147214889526367,
          2.163688898086548,
          2.6944921016693115,
          3.485330581665039,
          2.649339199066162,
          3.034925699234009,
          3.5215959548950195,
          1.7311056852340698,
          1.8330780267715454,
          2.1573703289031982,
          1.719488263130188,
          2.0961713790893555,
          2.100625991821289,
          2.465721607208252,
          2.1732542514801025,
          4.0190253257751465,
          2.93021559715271,
          2.928626775741577,
          1.8676040172576904,
          1.9327194690704346,
          2.173898696899414,
          3.556845188140869,
          3.6453301906585693,
          3.8068578243255615,
          3.629871368408203,
          3.1475558280944824,
          1.6334259510040283,
          3.8967552185058594,
          1.6285793781280518,
          3.0066914558410645,
          3.119833469390869,
          2.9431278705596924,
          3.2286136150360107,
          4.058498382568359,
          3.2069296836853027
         ],
         "z": [
          -15.07264518737793,
          -14.829208374023438,
          -14.889047622680664,
          -14.437036514282227,
          -13.396206855773926,
          -14.163131713867188,
          -12.845349311828613,
          -14.462200164794922,
          -14.329093933105469,
          -14.279019355773926,
          -14.80234432220459,
          -14.514810562133789,
          -14.42049789428711,
          -14.831807136535645,
          -14.608561515808105,
          -14.52534008026123,
          -14.705000877380371,
          -14.63948917388916,
          -14.756773948669434,
          -15.039115905761719,
          -14.772970199584961,
          -14.73022747039795,
          -12.72972297668457,
          -12.667152404785156,
          -12.533210754394531,
          -15.086917877197266,
          -14.747505187988281,
          -14.746935844421387,
          -14.679264068603516,
          -13.176616668701172,
          -14.104964256286621,
          -14.166913986206055,
          -14.003445625305176,
          -14.69072151184082,
          -14.929839134216309
         ]
        },
        {
         "customdata": [
          [
           "9200",
           "882"
          ],
          [
           "1786060",
           "882"
          ],
          [
           "1800",
           "882"
          ],
          [
           "22850",
           "182"
          ],
          [
           "22850",
           "88"
          ],
          [
           "22870",
           "182"
          ],
          [
           "22870",
           "88"
          ],
          [
           "1119550",
           "182"
          ],
          [
           "1119550",
           "88"
          ],
          [
           "503390",
           "398"
          ]
         ],
         "hovertemplate": "Cluster=1<br>Component 1=%{x}<br>Component 2=%{y}<br>Component 3=%{z}<br>taxon_id=%{customdata[0]}<br>media_id=%{customdata[1]}<extra></extra>",
         "legendgroup": "1",
         "marker": {
          "color": "rgb(246, 207, 113)",
          "symbol": "circle"
         },
         "mode": "markers",
         "name": "1",
         "scene": "scene",
         "showlegend": true,
         "type": "scatter3d",
         "x": [
          0.42676955461502075,
          0.3623482286930084,
          0.37611594796180725,
          0.14466562867164612,
          0.6299365758895874,
          0.6218633055686951,
          0.17653919756412506,
          0.6260362863540649,
          0.3978149890899658,
          0.5846757888793945
         ],
         "y": [
          10.763752937316895,
          10.54024887084961,
          10.8524751663208,
          10.627216339111328,
          10.521263122558594,
          10.569352149963379,
          11.038148880004883,
          11.018125534057617,
          10.805926322937012,
          10.9428129196167
         ],
         "z": [
          -10.557869911193848,
          -10.83202075958252,
          -10.558366775512695,
          -10.808626174926758,
          -10.600484848022461,
          -10.991195678710938,
          -10.884435653686523,
          -10.767049789428711,
          -11.09263801574707,
          -10.881229400634766
         ]
        },
        {
         "customdata": [
          [
           "542590",
           "897"
          ],
          [
           "1143760",
           "897"
          ],
          [
           "22610",
           "377"
          ],
          [
           "539530",
           "377"
          ],
          [
           "22620",
           "377"
          ],
          [
           "22800",
           "377"
          ],
          [
           "903230",
           "377"
          ]
         ],
         "hovertemplate": "Cluster=-1<br>Component 1=%{x}<br>Component 2=%{y}<br>Component 3=%{z}<br>taxon_id=%{customdata[0]}<br>media_id=%{customdata[1]}<extra></extra>",
         "legendgroup": "-1",
         "marker": {
          "color": "rgb(248, 156, 116)",
          "symbol": "circle"
         },
         "mode": "markers",
         "name": "-1",
         "scene": "scene",
         "showlegend": true,
         "type": "scatter3d",
         "x": [
          -44.4325065612793,
          -44.35897445678711,
          -44.39122009277344,
          -44.58005142211914,
          -44.46262741088867,
          -44.243675231933594,
          -44.588443756103516
         ],
         "y": [
          46.613468170166016,
          46.6870002746582,
          46.654754638671875,
          46.46592330932617,
          46.58334732055664,
          46.80229949951172,
          46.4575309753418
         ],
         "z": [
          -43.81539535522461,
          -43.74186325073242,
          -43.77410888671875,
          -43.96294021606445,
          -43.845516204833984,
          -43.626564025878906,
          -43.97133255004883
         ]
        }
       ],
       "layout": {
        "legend": {
         "title": {
          "text": "Cluster"
         },
         "tracegroupgap": 0
        },
        "margin": {
         "t": 60
        },
        "scene": {
         "domain": {
          "x": [
           0,
           1
          ],
          "y": [
           0,
           1
          ]
         },
         "xaxis": {
          "title": {
           "text": "Component 1"
          }
         },
         "yaxis": {
          "title": {
           "text": "Component 2"
          }
         },
         "zaxis": {
          "title": {
           "text": "Component 3"
          }
         }
        },
        "template": {
         "data": {
          "bar": [
           {
            "error_x": {
             "color": "#2a3f5f"
            },
            "error_y": {
             "color": "#2a3f5f"
            },
            "marker": {
             "line": {
              "color": "white",
              "width": 0.5
             },
             "pattern": {
              "fillmode": "overlay",
              "size": 10,
              "solidity": 0.2
             }
            },
            "type": "bar"
           }
          ],
          "barpolar": [
           {
            "marker": {
             "line": {
              "color": "white",
              "width": 0.5
             },
             "pattern": {
              "fillmode": "overlay",
              "size": 10,
              "solidity": 0.2
             }
            },
            "type": "barpolar"
           }
          ],
          "carpet": [
           {
            "aaxis": {
             "endlinecolor": "#2a3f5f",
             "gridcolor": "#C8D4E3",
             "linecolor": "#C8D4E3",
             "minorgridcolor": "#C8D4E3",
             "startlinecolor": "#2a3f5f"
            },
            "baxis": {
             "endlinecolor": "#2a3f5f",
             "gridcolor": "#C8D4E3",
             "linecolor": "#C8D4E3",
             "minorgridcolor": "#C8D4E3",
             "startlinecolor": "#2a3f5f"
            },
            "type": "carpet"
           }
          ],
          "choropleth": [
           {
            "colorbar": {
             "outlinewidth": 0,
             "ticks": ""
            },
            "type": "choropleth"
           }
          ],
          "contour": [
           {
            "colorbar": {
             "outlinewidth": 0,
             "ticks": ""
            },
            "colorscale": [
             [
              0,
              "#0d0887"
             ],
             [
              0.1111111111111111,
              "#46039f"
             ],
             [
              0.2222222222222222,
              "#7201a8"
             ],
             [
              0.3333333333333333,
              "#9c179e"
             ],
             [
              0.4444444444444444,
              "#bd3786"
             ],
             [
              0.5555555555555556,
              "#d8576b"
             ],
             [
              0.6666666666666666,
              "#ed7953"
             ],
             [
              0.7777777777777778,
              "#fb9f3a"
             ],
             [
              0.8888888888888888,
              "#fdca26"
             ],
             [
              1,
              "#f0f921"
             ]
            ],
            "type": "contour"
           }
          ],
          "contourcarpet": [
           {
            "colorbar": {
             "outlinewidth": 0,
             "ticks": ""
            },
            "type": "contourcarpet"
           }
          ],
          "heatmap": [
           {
            "colorbar": {
             "outlinewidth": 0,
             "ticks": ""
            },
            "colorscale": [
             [
              0,
              "#0d0887"
             ],
             [
              0.1111111111111111,
              "#46039f"
             ],
             [
              0.2222222222222222,
              "#7201a8"
             ],
             [
              0.3333333333333333,
              "#9c179e"
             ],
             [
              0.4444444444444444,
              "#bd3786"
             ],
             [
              0.5555555555555556,
              "#d8576b"
             ],
             [
              0.6666666666666666,
              "#ed7953"
             ],
             [
              0.7777777777777778,
              "#fb9f3a"
             ],
             [
              0.8888888888888888,
              "#fdca26"
             ],
             [
              1,
              "#f0f921"
             ]
            ],
            "type": "heatmap"
           }
          ],
          "heatmapgl": [
           {
            "colorbar": {
             "outlinewidth": 0,
             "ticks": ""
            },
            "colorscale": [
             [
              0,
              "#0d0887"
             ],
             [
              0.1111111111111111,
              "#46039f"
             ],
             [
              0.2222222222222222,
              "#7201a8"
             ],
             [
              0.3333333333333333,
              "#9c179e"
             ],
             [
              0.4444444444444444,
              "#bd3786"
             ],
             [
              0.5555555555555556,
              "#d8576b"
             ],
             [
              0.6666666666666666,
              "#ed7953"
             ],
             [
              0.7777777777777778,
              "#fb9f3a"
             ],
             [
              0.8888888888888888,
              "#fdca26"
             ],
             [
              1,
              "#f0f921"
             ]
            ],
            "type": "heatmapgl"
           }
          ],
          "histogram": [
           {
            "marker": {
             "pattern": {
              "fillmode": "overlay",
              "size": 10,
              "solidity": 0.2
             }
            },
            "type": "histogram"
           }
          ],
          "histogram2d": [
           {
            "colorbar": {
             "outlinewidth": 0,
             "ticks": ""
            },
            "colorscale": [
             [
              0,
              "#0d0887"
             ],
             [
              0.1111111111111111,
              "#46039f"
             ],
             [
              0.2222222222222222,
              "#7201a8"
             ],
             [
              0.3333333333333333,
              "#9c179e"
             ],
             [
              0.4444444444444444,
              "#bd3786"
             ],
             [
              0.5555555555555556,
              "#d8576b"
             ],
             [
              0.6666666666666666,
              "#ed7953"
             ],
             [
              0.7777777777777778,
              "#fb9f3a"
             ],
             [
              0.8888888888888888,
              "#fdca26"
             ],
             [
              1,
              "#f0f921"
             ]
            ],
            "type": "histogram2d"
           }
          ],
          "histogram2dcontour": [
           {
            "colorbar": {
             "outlinewidth": 0,
             "ticks": ""
            },
            "colorscale": [
             [
              0,
              "#0d0887"
             ],
             [
              0.1111111111111111,
              "#46039f"
             ],
             [
              0.2222222222222222,
              "#7201a8"
             ],
             [
              0.3333333333333333,
              "#9c179e"
             ],
             [
              0.4444444444444444,
              "#bd3786"
             ],
             [
              0.5555555555555556,
              "#d8576b"
             ],
             [
              0.6666666666666666,
              "#ed7953"
             ],
             [
              0.7777777777777778,
              "#fb9f3a"
             ],
             [
              0.8888888888888888,
              "#fdca26"
             ],
             [
              1,
              "#f0f921"
             ]
            ],
            "type": "histogram2dcontour"
           }
          ],
          "mesh3d": [
           {
            "colorbar": {
             "outlinewidth": 0,
             "ticks": ""
            },
            "type": "mesh3d"
           }
          ],
          "parcoords": [
           {
            "line": {
             "colorbar": {
              "outlinewidth": 0,
              "ticks": ""
             }
            },
            "type": "parcoords"
           }
          ],
          "pie": [
           {
            "automargin": true,
            "type": "pie"
           }
          ],
          "scatter": [
           {
            "fillpattern": {
             "fillmode": "overlay",
             "size": 10,
             "solidity": 0.2
            },
            "type": "scatter"
           }
          ],
          "scatter3d": [
           {
            "line": {
             "colorbar": {
              "outlinewidth": 0,
              "ticks": ""
             }
            },
            "marker": {
             "colorbar": {
              "outlinewidth": 0,
              "ticks": ""
             }
            },
            "type": "scatter3d"
           }
          ],
          "scattercarpet": [
           {
            "marker": {
             "colorbar": {
              "outlinewidth": 0,
              "ticks": ""
             }
            },
            "type": "scattercarpet"
           }
          ],
          "scattergeo": [
           {
            "marker": {
             "colorbar": {
              "outlinewidth": 0,
              "ticks": ""
             }
            },
            "type": "scattergeo"
           }
          ],
          "scattergl": [
           {
            "marker": {
             "colorbar": {
              "outlinewidth": 0,
              "ticks": ""
             }
            },
            "type": "scattergl"
           }
          ],
          "scattermapbox": [
           {
            "marker": {
             "colorbar": {
              "outlinewidth": 0,
              "ticks": ""
             }
            },
            "type": "scattermapbox"
           }
          ],
          "scatterpolar": [
           {
            "marker": {
             "colorbar": {
              "outlinewidth": 0,
              "ticks": ""
             }
            },
            "type": "scatterpolar"
           }
          ],
          "scatterpolargl": [
           {
            "marker": {
             "colorbar": {
              "outlinewidth": 0,
              "ticks": ""
             }
            },
            "type": "scatterpolargl"
           }
          ],
          "scatterternary": [
           {
            "marker": {
             "colorbar": {
              "outlinewidth": 0,
              "ticks": ""
             }
            },
            "type": "scatterternary"
           }
          ],
          "surface": [
           {
            "colorbar": {
             "outlinewidth": 0,
             "ticks": ""
            },
            "colorscale": [
             [
              0,
              "#0d0887"
             ],
             [
              0.1111111111111111,
              "#46039f"
             ],
             [
              0.2222222222222222,
              "#7201a8"
             ],
             [
              0.3333333333333333,
              "#9c179e"
             ],
             [
              0.4444444444444444,
              "#bd3786"
             ],
             [
              0.5555555555555556,
              "#d8576b"
             ],
             [
              0.6666666666666666,
              "#ed7953"
             ],
             [
              0.7777777777777778,
              "#fb9f3a"
             ],
             [
              0.8888888888888888,
              "#fdca26"
             ],
             [
              1,
              "#f0f921"
             ]
            ],
            "type": "surface"
           }
          ],
          "table": [
           {
            "cells": {
             "fill": {
              "color": "#EBF0F8"
             },
             "line": {
              "color": "white"
             }
            },
            "header": {
             "fill": {
              "color": "#C8D4E3"
             },
             "line": {
              "color": "white"
             }
            },
            "type": "table"
           }
          ]
         },
         "layout": {
          "annotationdefaults": {
           "arrowcolor": "#2a3f5f",
           "arrowhead": 0,
           "arrowwidth": 1
          },
          "autotypenumbers": "strict",
          "coloraxis": {
           "colorbar": {
            "outlinewidth": 0,
            "ticks": ""
           }
          },
          "colorscale": {
           "diverging": [
            [
             0,
             "#8e0152"
            ],
            [
             0.1,
             "#c51b7d"
            ],
            [
             0.2,
             "#de77ae"
            ],
            [
             0.3,
             "#f1b6da"
            ],
            [
             0.4,
             "#fde0ef"
            ],
            [
             0.5,
             "#f7f7f7"
            ],
            [
             0.6,
             "#e6f5d0"
            ],
            [
             0.7,
             "#b8e186"
            ],
            [
             0.8,
             "#7fbc41"
            ],
            [
             0.9,
             "#4d9221"
            ],
            [
             1,
             "#276419"
            ]
           ],
           "sequential": [
            [
             0,
             "#0d0887"
            ],
            [
             0.1111111111111111,
             "#46039f"
            ],
            [
             0.2222222222222222,
             "#7201a8"
            ],
            [
             0.3333333333333333,
             "#9c179e"
            ],
            [
             0.4444444444444444,
             "#bd3786"
            ],
            [
             0.5555555555555556,
             "#d8576b"
            ],
            [
             0.6666666666666666,
             "#ed7953"
            ],
            [
             0.7777777777777778,
             "#fb9f3a"
            ],
            [
             0.8888888888888888,
             "#fdca26"
            ],
            [
             1,
             "#f0f921"
            ]
           ],
           "sequentialminus": [
            [
             0,
             "#0d0887"
            ],
            [
             0.1111111111111111,
             "#46039f"
            ],
            [
             0.2222222222222222,
             "#7201a8"
            ],
            [
             0.3333333333333333,
             "#9c179e"
            ],
            [
             0.4444444444444444,
             "#bd3786"
            ],
            [
             0.5555555555555556,
             "#d8576b"
            ],
            [
             0.6666666666666666,
             "#ed7953"
            ],
            [
             0.7777777777777778,
             "#fb9f3a"
            ],
            [
             0.8888888888888888,
             "#fdca26"
            ],
            [
             1,
             "#f0f921"
            ]
           ]
          },
          "colorway": [
           "#636efa",
           "#EF553B",
           "#00cc96",
           "#ab63fa",
           "#FFA15A",
           "#19d3f3",
           "#FF6692",
           "#B6E880",
           "#FF97FF",
           "#FECB52"
          ],
          "font": {
           "color": "#2a3f5f"
          },
          "geo": {
           "bgcolor": "white",
           "lakecolor": "white",
           "landcolor": "white",
           "showlakes": true,
           "showland": true,
           "subunitcolor": "#C8D4E3"
          },
          "hoverlabel": {
           "align": "left"
          },
          "hovermode": "closest",
          "mapbox": {
           "style": "light"
          },
          "paper_bgcolor": "white",
          "plot_bgcolor": "white",
          "polar": {
           "angularaxis": {
            "gridcolor": "#EBF0F8",
            "linecolor": "#EBF0F8",
            "ticks": ""
           },
           "bgcolor": "white",
           "radialaxis": {
            "gridcolor": "#EBF0F8",
            "linecolor": "#EBF0F8",
            "ticks": ""
           }
          },
          "scene": {
           "xaxis": {
            "backgroundcolor": "white",
            "gridcolor": "#DFE8F3",
            "gridwidth": 2,
            "linecolor": "#EBF0F8",
            "showbackground": true,
            "ticks": "",
            "zerolinecolor": "#EBF0F8"
           },
           "yaxis": {
            "backgroundcolor": "white",
            "gridcolor": "#DFE8F3",
            "gridwidth": 2,
            "linecolor": "#EBF0F8",
            "showbackground": true,
            "ticks": "",
            "zerolinecolor": "#EBF0F8"
           },
           "zaxis": {
            "backgroundcolor": "white",
            "gridcolor": "#DFE8F3",
            "gridwidth": 2,
            "linecolor": "#EBF0F8",
            "showbackground": true,
            "ticks": "",
            "zerolinecolor": "#EBF0F8"
           }
          },
          "shapedefaults": {
           "line": {
            "color": "#2a3f5f"
           }
          },
          "ternary": {
           "aaxis": {
            "gridcolor": "#DFE8F3",
            "linecolor": "#A2B1C6",
            "ticks": ""
           },
           "baxis": {
            "gridcolor": "#DFE8F3",
            "linecolor": "#A2B1C6",
            "ticks": ""
           },
           "bgcolor": "white",
           "caxis": {
            "gridcolor": "#DFE8F3",
            "linecolor": "#A2B1C6",
            "ticks": ""
           }
          },
          "title": {
           "x": 0.05
          },
          "xaxis": {
           "automargin": true,
           "gridcolor": "#EBF0F8",
           "linecolor": "#EBF0F8",
           "ticks": "",
           "title": {
            "standoff": 15
           },
           "zerolinecolor": "#EBF0F8",
           "zerolinewidth": 2
          },
          "yaxis": {
           "automargin": true,
           "gridcolor": "#EBF0F8",
           "linecolor": "#EBF0F8",
           "ticks": "",
           "title": {
            "standoff": 15
           },
           "zerolinecolor": "#EBF0F8",
           "zerolinewidth": 2
          }
         }
        }
       }
      }
     },
     "metadata": {},
     "output_type": "display_data"
    }
   ],
   "source": [
    "fig = px.scatter_3d(\n",
    "    data_frame=reduced_df,\n",
    "    x=\"Component 1\",\n",
    "    y=\"Component 2\",\n",
    "    z=\"Component 3\",\n",
    "    color=\"Cluster\",\n",
    "    color_discrete_sequence=px.colors.qualitative.Pastel,\n",
    "    hover_data=[\n",
    "        \"taxon_id\",\n",
    "        \"media_id\"\n",
    "    ],\n",
    "    template=\"plotly_white\"\n",
    ")\n",
    "fig.show()"
   ]
  },
  {
   "cell_type": "markdown",
   "metadata": {},
   "source": [
    "### Compare both approaches"
   ]
  },
  {
   "cell_type": "code",
   "execution_count": 22,
   "metadata": {},
   "outputs": [
    {
     "data": {
      "text/html": [
       "<div>\n",
       "<style scoped>\n",
       "    .dataframe tbody tr th:only-of-type {\n",
       "        vertical-align: middle;\n",
       "    }\n",
       "\n",
       "    .dataframe tbody tr th {\n",
       "        vertical-align: top;\n",
       "    }\n",
       "\n",
       "    .dataframe thead th {\n",
       "        text-align: right;\n",
       "    }\n",
       "</style>\n",
       "<table border=\"1\" class=\"dataframe\">\n",
       "  <thead>\n",
       "    <tr style=\"text-align: right;\">\n",
       "      <th></th>\n",
       "      <th>taxon_id</th>\n",
       "      <th>media_id</th>\n",
       "      <th>cluster_bin</th>\n",
       "      <th>cluster_con</th>\n",
       "    </tr>\n",
       "  </thead>\n",
       "  <tbody>\n",
       "    <tr>\n",
       "      <th>0</th>\n",
       "      <td>536350</td>\n",
       "      <td>709</td>\n",
       "      <td>2</td>\n",
       "      <td>0</td>\n",
       "    </tr>\n",
       "    <tr>\n",
       "      <th>1</th>\n",
       "      <td>5240</td>\n",
       "      <td>269</td>\n",
       "      <td>2</td>\n",
       "      <td>0</td>\n",
       "    </tr>\n",
       "    <tr>\n",
       "      <th>2</th>\n",
       "      <td>330590</td>\n",
       "      <td>150a</td>\n",
       "      <td>2</td>\n",
       "      <td>0</td>\n",
       "    </tr>\n",
       "    <tr>\n",
       "      <th>3</th>\n",
       "      <td>9200</td>\n",
       "      <td>882</td>\n",
       "      <td>2</td>\n",
       "      <td>1</td>\n",
       "    </tr>\n",
       "    <tr>\n",
       "      <th>4</th>\n",
       "      <td>6497460</td>\n",
       "      <td>104a</td>\n",
       "      <td>2</td>\n",
       "      <td>0</td>\n",
       "    </tr>\n",
       "    <tr>\n",
       "      <th>5</th>\n",
       "      <td>841560</td>\n",
       "      <td>519</td>\n",
       "      <td>0</td>\n",
       "      <td>0</td>\n",
       "    </tr>\n",
       "    <tr>\n",
       "      <th>6</th>\n",
       "      <td>14540</td>\n",
       "      <td>259</td>\n",
       "      <td>2</td>\n",
       "      <td>0</td>\n",
       "    </tr>\n",
       "    <tr>\n",
       "      <th>7</th>\n",
       "      <td>6930750</td>\n",
       "      <td>1211</td>\n",
       "      <td>0</td>\n",
       "      <td>0</td>\n",
       "    </tr>\n",
       "    <tr>\n",
       "      <th>8</th>\n",
       "      <td>9790</td>\n",
       "      <td>172</td>\n",
       "      <td>0</td>\n",
       "      <td>0</td>\n",
       "    </tr>\n",
       "    <tr>\n",
       "      <th>9</th>\n",
       "      <td>11080</td>\n",
       "      <td>87</td>\n",
       "      <td>2</td>\n",
       "      <td>0</td>\n",
       "    </tr>\n",
       "    <tr>\n",
       "      <th>10</th>\n",
       "      <td>9820</td>\n",
       "      <td>669</td>\n",
       "      <td>2</td>\n",
       "      <td>0</td>\n",
       "    </tr>\n",
       "    <tr>\n",
       "      <th>11</th>\n",
       "      <td>295280</td>\n",
       "      <td>172</td>\n",
       "      <td>0</td>\n",
       "      <td>0</td>\n",
       "    </tr>\n",
       "    <tr>\n",
       "      <th>12</th>\n",
       "      <td>9990</td>\n",
       "      <td>172</td>\n",
       "      <td>0</td>\n",
       "      <td>0</td>\n",
       "    </tr>\n",
       "    <tr>\n",
       "      <th>13</th>\n",
       "      <td>709930</td>\n",
       "      <td>172</td>\n",
       "      <td>0</td>\n",
       "      <td>0</td>\n",
       "    </tr>\n",
       "    <tr>\n",
       "      <th>14</th>\n",
       "      <td>26980</td>\n",
       "      <td>370</td>\n",
       "      <td>2</td>\n",
       "      <td>0</td>\n",
       "    </tr>\n",
       "    <tr>\n",
       "      <th>15</th>\n",
       "      <td>1217340</td>\n",
       "      <td>370</td>\n",
       "      <td>2</td>\n",
       "      <td>0</td>\n",
       "    </tr>\n",
       "    <tr>\n",
       "      <th>16</th>\n",
       "      <td>27240</td>\n",
       "      <td>607</td>\n",
       "      <td>2</td>\n",
       "      <td>0</td>\n",
       "    </tr>\n",
       "    <tr>\n",
       "      <th>17</th>\n",
       "      <td>340920</td>\n",
       "      <td>743</td>\n",
       "      <td>2</td>\n",
       "      <td>0</td>\n",
       "    </tr>\n",
       "    <tr>\n",
       "      <th>18</th>\n",
       "      <td>542590</td>\n",
       "      <td>897</td>\n",
       "      <td>1</td>\n",
       "      <td>-1</td>\n",
       "    </tr>\n",
       "    <tr>\n",
       "      <th>19</th>\n",
       "      <td>1143760</td>\n",
       "      <td>897</td>\n",
       "      <td>1</td>\n",
       "      <td>-1</td>\n",
       "    </tr>\n",
       "    <tr>\n",
       "      <th>20</th>\n",
       "      <td>1786060</td>\n",
       "      <td>882</td>\n",
       "      <td>2</td>\n",
       "      <td>1</td>\n",
       "    </tr>\n",
       "    <tr>\n",
       "      <th>21</th>\n",
       "      <td>1800</td>\n",
       "      <td>882</td>\n",
       "      <td>2</td>\n",
       "      <td>1</td>\n",
       "    </tr>\n",
       "    <tr>\n",
       "      <th>22</th>\n",
       "      <td>452480</td>\n",
       "      <td>79</td>\n",
       "      <td>2</td>\n",
       "      <td>0</td>\n",
       "    </tr>\n",
       "    <tr>\n",
       "      <th>23</th>\n",
       "      <td>10260</td>\n",
       "      <td>172</td>\n",
       "      <td>0</td>\n",
       "      <td>0</td>\n",
       "    </tr>\n",
       "    <tr>\n",
       "      <th>24</th>\n",
       "      <td>10280</td>\n",
       "      <td>172</td>\n",
       "      <td>0</td>\n",
       "      <td>0</td>\n",
       "    </tr>\n",
       "    <tr>\n",
       "      <th>25</th>\n",
       "      <td>10060</td>\n",
       "      <td>172</td>\n",
       "      <td>0</td>\n",
       "      <td>0</td>\n",
       "    </tr>\n",
       "    <tr>\n",
       "      <th>26</th>\n",
       "      <td>2770</td>\n",
       "      <td>256</td>\n",
       "      <td>2</td>\n",
       "      <td>0</td>\n",
       "    </tr>\n",
       "    <tr>\n",
       "      <th>27</th>\n",
       "      <td>22080</td>\n",
       "      <td>120</td>\n",
       "      <td>0</td>\n",
       "      <td>0</td>\n",
       "    </tr>\n",
       "    <tr>\n",
       "      <th>28</th>\n",
       "      <td>22090</td>\n",
       "      <td>120</td>\n",
       "      <td>0</td>\n",
       "      <td>0</td>\n",
       "    </tr>\n",
       "    <tr>\n",
       "      <th>29</th>\n",
       "      <td>22150</td>\n",
       "      <td>120</td>\n",
       "      <td>0</td>\n",
       "      <td>0</td>\n",
       "    </tr>\n",
       "    <tr>\n",
       "      <th>30</th>\n",
       "      <td>6749720</td>\n",
       "      <td>1042</td>\n",
       "      <td>2</td>\n",
       "      <td>0</td>\n",
       "    </tr>\n",
       "    <tr>\n",
       "      <th>31</th>\n",
       "      <td>9810</td>\n",
       "      <td>172</td>\n",
       "      <td>0</td>\n",
       "      <td>0</td>\n",
       "    </tr>\n",
       "    <tr>\n",
       "      <th>32</th>\n",
       "      <td>1190</td>\n",
       "      <td>607</td>\n",
       "      <td>2</td>\n",
       "      <td>0</td>\n",
       "    </tr>\n",
       "    <tr>\n",
       "      <th>33</th>\n",
       "      <td>22610</td>\n",
       "      <td>377</td>\n",
       "      <td>1</td>\n",
       "      <td>-1</td>\n",
       "    </tr>\n",
       "    <tr>\n",
       "      <th>34</th>\n",
       "      <td>539530</td>\n",
       "      <td>377</td>\n",
       "      <td>1</td>\n",
       "      <td>-1</td>\n",
       "    </tr>\n",
       "    <tr>\n",
       "      <th>35</th>\n",
       "      <td>22620</td>\n",
       "      <td>377</td>\n",
       "      <td>1</td>\n",
       "      <td>-1</td>\n",
       "    </tr>\n",
       "    <tr>\n",
       "      <th>36</th>\n",
       "      <td>10710</td>\n",
       "      <td>25</td>\n",
       "      <td>2</td>\n",
       "      <td>0</td>\n",
       "    </tr>\n",
       "    <tr>\n",
       "      <th>37</th>\n",
       "      <td>22800</td>\n",
       "      <td>377</td>\n",
       "      <td>1</td>\n",
       "      <td>-1</td>\n",
       "    </tr>\n",
       "    <tr>\n",
       "      <th>38</th>\n",
       "      <td>22850</td>\n",
       "      <td>182</td>\n",
       "      <td>2</td>\n",
       "      <td>1</td>\n",
       "    </tr>\n",
       "    <tr>\n",
       "      <th>39</th>\n",
       "      <td>22850</td>\n",
       "      <td>88</td>\n",
       "      <td>2</td>\n",
       "      <td>1</td>\n",
       "    </tr>\n",
       "    <tr>\n",
       "      <th>40</th>\n",
       "      <td>22870</td>\n",
       "      <td>182</td>\n",
       "      <td>2</td>\n",
       "      <td>1</td>\n",
       "    </tr>\n",
       "    <tr>\n",
       "      <th>41</th>\n",
       "      <td>22870</td>\n",
       "      <td>88</td>\n",
       "      <td>2</td>\n",
       "      <td>1</td>\n",
       "    </tr>\n",
       "    <tr>\n",
       "      <th>42</th>\n",
       "      <td>1119550</td>\n",
       "      <td>182</td>\n",
       "      <td>2</td>\n",
       "      <td>1</td>\n",
       "    </tr>\n",
       "    <tr>\n",
       "      <th>43</th>\n",
       "      <td>1119550</td>\n",
       "      <td>88</td>\n",
       "      <td>2</td>\n",
       "      <td>1</td>\n",
       "    </tr>\n",
       "    <tr>\n",
       "      <th>44</th>\n",
       "      <td>503390</td>\n",
       "      <td>398</td>\n",
       "      <td>2</td>\n",
       "      <td>1</td>\n",
       "    </tr>\n",
       "    <tr>\n",
       "      <th>45</th>\n",
       "      <td>903230</td>\n",
       "      <td>377</td>\n",
       "      <td>1</td>\n",
       "      <td>-1</td>\n",
       "    </tr>\n",
       "    <tr>\n",
       "      <th>46</th>\n",
       "      <td>391000</td>\n",
       "      <td>688</td>\n",
       "      <td>0</td>\n",
       "      <td>0</td>\n",
       "    </tr>\n",
       "    <tr>\n",
       "      <th>47</th>\n",
       "      <td>5259180</td>\n",
       "      <td>573</td>\n",
       "      <td>2</td>\n",
       "      <td>0</td>\n",
       "    </tr>\n",
       "    <tr>\n",
       "      <th>48</th>\n",
       "      <td>5259170</td>\n",
       "      <td>573</td>\n",
       "      <td>2</td>\n",
       "      <td>0</td>\n",
       "    </tr>\n",
       "    <tr>\n",
       "      <th>49</th>\n",
       "      <td>10310</td>\n",
       "      <td>573</td>\n",
       "      <td>2</td>\n",
       "      <td>0</td>\n",
       "    </tr>\n",
       "    <tr>\n",
       "      <th>50</th>\n",
       "      <td>27360</td>\n",
       "      <td>607</td>\n",
       "      <td>2</td>\n",
       "      <td>0</td>\n",
       "    </tr>\n",
       "    <tr>\n",
       "      <th>51</th>\n",
       "      <td>3370970</td>\n",
       "      <td>1042</td>\n",
       "      <td>2</td>\n",
       "      <td>0</td>\n",
       "    </tr>\n",
       "  </tbody>\n",
       "</table>\n",
       "</div>"
      ],
      "text/plain": [
       "   taxon_id media_id cluster_bin cluster_con\n",
       "0    536350      709           2           0\n",
       "1      5240      269           2           0\n",
       "2    330590     150a           2           0\n",
       "3      9200      882           2           1\n",
       "4   6497460     104a           2           0\n",
       "5    841560      519           0           0\n",
       "6     14540      259           2           0\n",
       "7   6930750     1211           0           0\n",
       "8      9790      172           0           0\n",
       "9     11080       87           2           0\n",
       "10     9820      669           2           0\n",
       "11   295280      172           0           0\n",
       "12     9990      172           0           0\n",
       "13   709930      172           0           0\n",
       "14    26980      370           2           0\n",
       "15  1217340      370           2           0\n",
       "16    27240      607           2           0\n",
       "17   340920      743           2           0\n",
       "18   542590      897           1          -1\n",
       "19  1143760      897           1          -1\n",
       "20  1786060      882           2           1\n",
       "21     1800      882           2           1\n",
       "22   452480       79           2           0\n",
       "23    10260      172           0           0\n",
       "24    10280      172           0           0\n",
       "25    10060      172           0           0\n",
       "26     2770      256           2           0\n",
       "27    22080      120           0           0\n",
       "28    22090      120           0           0\n",
       "29    22150      120           0           0\n",
       "30  6749720     1042           2           0\n",
       "31     9810      172           0           0\n",
       "32     1190      607           2           0\n",
       "33    22610      377           1          -1\n",
       "34   539530      377           1          -1\n",
       "35    22620      377           1          -1\n",
       "36    10710       25           2           0\n",
       "37    22800      377           1          -1\n",
       "38    22850      182           2           1\n",
       "39    22850       88           2           1\n",
       "40    22870      182           2           1\n",
       "41    22870       88           2           1\n",
       "42  1119550      182           2           1\n",
       "43  1119550       88           2           1\n",
       "44   503390      398           2           1\n",
       "45   903230      377           1          -1\n",
       "46   391000      688           0           0\n",
       "47  5259180      573           2           0\n",
       "48  5259170      573           2           0\n",
       "49    10310      573           2           0\n",
       "50    27360      607           2           0\n",
       "51  3370970     1042           2           0"
      ]
     },
     "execution_count": 22,
     "metadata": {},
     "output_type": "execute_result"
    }
   ],
   "source": [
    "reduced_df_merged = pd.merge(\n",
    "    left=reduced_df_binary[[\"taxon_id\", \"media_id\", \"Cluster\"]]\\\n",
    "        .rename(columns={\"Cluster\": \"cluster_bin\"}),\n",
    "    right=reduced_df[[\"taxon_id\", \"media_id\", \"Cluster\"]]\\\n",
    "        .rename(columns={\"Cluster\": \"cluster_con\"}),\n",
    "    on=[\"taxon_id\", \"media_id\"],\n",
    "    how=\"left\"\n",
    ")\n",
    "\n",
    "reduced_df_merged"
   ]
  },
  {
   "cell_type": "code",
   "execution_count": 23,
   "metadata": {},
   "outputs": [],
   "source": [
    "# Choose approach and save clusterd categories for further ML\n",
    "reduced_df_merged = reduced_df_merged\\\n",
    "    .rename(columns={\"cluster_con\": \"media_id_cluster\"})\\\n",
    "    .drop(\"cluster_bin\", axis=1)\n",
    "\n",
    "reduced_df_merged.to_csv(\n",
    "    os.path.join(\n",
    "        DATA_DIR,\n",
    "        f\"{os.path.splitext(CLUSTER_FILE)[0]}_media_cluster.csv\"\n",
    "    )\n",
    ")"
   ]
  },
  {
   "cell_type": "markdown",
   "metadata": {},
   "source": [
    "## 2. Predict media from taxon's EC numbers"
   ]
  },
  {
   "cell_type": "code",
   "execution_count": 14,
   "metadata": {},
   "outputs": [],
   "source": [
    "# TODO"
   ]
  }
 ],
 "metadata": {
  "kernelspec": {
   "display_name": "phd-media",
   "language": "python",
   "name": "python3"
  },
  "language_info": {
   "codemirror_mode": {
    "name": "ipython",
    "version": 3
   },
   "file_extension": ".py",
   "mimetype": "text/x-python",
   "name": "python",
   "nbconvert_exporter": "python",
   "pygments_lexer": "ipython3",
   "version": "3.12.2"
  }
 },
 "nbformat": 4,
 "nbformat_minor": 2
}
