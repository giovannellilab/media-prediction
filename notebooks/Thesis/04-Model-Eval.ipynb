{
 "cells": [
  {
   "cell_type": "markdown",
   "metadata": {},
   "source": [
    "# Model Parameterization and Evaluation"
   ]
  },
  {
   "cell_type": "markdown",
   "metadata": {},
   "source": [
    "## Metabolic Model Inputs"
   ]
  },
  {
   "cell_type": "markdown",
   "metadata": {},
   "source": [
    "### Packages"
   ]
  },
  {
   "cell_type": "code",
   "execution_count": 1,
   "metadata": {},
   "outputs": [],
   "source": [
    "# General\n",
    "import pandas as pd\n",
    "import numpy as np\n",
    "import pandas as pd\n",
    "import os\n",
    "DATA_DIR = \"~/Desktop/code/data/\"\n",
    "\n",
    "# Pipeline\n",
    "from sklearn.pipeline import Pipeline\n",
    "\n",
    "from sklearn.model_selection import train_test_split\n",
    "from sklearn.preprocessing import StandardScaler \n",
    "\n",
    "from sklearn.decomposition import PCA \n",
    "import umap\n",
    "import hdbscan\n",
    "\n",
    "from sklearn import metrics\n",
    "from sklearn.metrics import silhouette_score\n",
    "from sklearn.cluster import KMeans\n",
    "\n",
    "# Visualization\n",
    "from matplotlib import pyplot as plt\n",
    "import plotly.express as px\n",
    "import plotly.graph_objects as go"
   ]
  },
  {
   "cell_type": "markdown",
   "metadata": {},
   "source": [
    "### Dataset"
   ]
  },
  {
   "cell_type": "code",
   "execution_count": 2,
   "metadata": {},
   "outputs": [
    {
     "name": "stdout",
     "output_type": "stream",
     "text": [
      "8464 samples\n"
     ]
    },
    {
     "data": {
      "text/html": [
       "<div>\n",
       "<style scoped>\n",
       "    .dataframe tbody tr th:only-of-type {\n",
       "        vertical-align: middle;\n",
       "    }\n",
       "\n",
       "    .dataframe tbody tr th {\n",
       "        vertical-align: top;\n",
       "    }\n",
       "\n",
       "    .dataframe thead th {\n",
       "        text-align: right;\n",
       "    }\n",
       "</style>\n",
       "<table border=\"1\" class=\"dataframe\">\n",
       "  <thead>\n",
       "    <tr style=\"text-align: right;\">\n",
       "      <th>ec</th>\n",
       "      <th>taxon_id</th>\n",
       "      <th>media_id</th>\n",
       "      <th>1.1.1.1</th>\n",
       "      <th>1.1.1.100</th>\n",
       "      <th>1.1.1.101</th>\n",
       "      <th>1.1.1.102</th>\n",
       "      <th>1.1.1.103</th>\n",
       "      <th>1.1.1.105</th>\n",
       "      <th>1.1.1.107</th>\n",
       "      <th>1.1.1.108</th>\n",
       "      <th>...</th>\n",
       "      <th>7.6.2.12</th>\n",
       "      <th>7.6.2.13</th>\n",
       "      <th>7.6.2.14</th>\n",
       "      <th>7.6.2.15</th>\n",
       "      <th>7.6.2.16</th>\n",
       "      <th>7.6.2.2</th>\n",
       "      <th>7.6.2.5</th>\n",
       "      <th>7.6.2.7</th>\n",
       "      <th>7.6.2.8</th>\n",
       "      <th>7.6.2.9</th>\n",
       "    </tr>\n",
       "  </thead>\n",
       "  <tbody>\n",
       "    <tr>\n",
       "      <th>0</th>\n",
       "      <td>100.0</td>\n",
       "      <td>J346</td>\n",
       "      <td>0.0</td>\n",
       "      <td>0.0</td>\n",
       "      <td>0.0</td>\n",
       "      <td>0.0</td>\n",
       "      <td>0.0</td>\n",
       "      <td>0.0</td>\n",
       "      <td>0.0</td>\n",
       "      <td>0.0</td>\n",
       "      <td>...</td>\n",
       "      <td>0.0</td>\n",
       "      <td>0.0</td>\n",
       "      <td>0.0</td>\n",
       "      <td>0.0</td>\n",
       "      <td>0.0</td>\n",
       "      <td>0.0</td>\n",
       "      <td>0.0</td>\n",
       "      <td>0.0</td>\n",
       "      <td>0.0</td>\n",
       "      <td>0.0</td>\n",
       "    </tr>\n",
       "    <tr>\n",
       "      <th>1</th>\n",
       "      <td>100.0</td>\n",
       "      <td>J386</td>\n",
       "      <td>1.0</td>\n",
       "      <td>0.0</td>\n",
       "      <td>0.0</td>\n",
       "      <td>0.0</td>\n",
       "      <td>0.0</td>\n",
       "      <td>0.0</td>\n",
       "      <td>0.0</td>\n",
       "      <td>0.0</td>\n",
       "      <td>...</td>\n",
       "      <td>0.0</td>\n",
       "      <td>0.0</td>\n",
       "      <td>0.0</td>\n",
       "      <td>0.0</td>\n",
       "      <td>0.0</td>\n",
       "      <td>0.0</td>\n",
       "      <td>0.0</td>\n",
       "      <td>0.0</td>\n",
       "      <td>0.0</td>\n",
       "      <td>0.0</td>\n",
       "    </tr>\n",
       "    <tr>\n",
       "      <th>2</th>\n",
       "      <td>100225.0</td>\n",
       "      <td>J233</td>\n",
       "      <td>0.0</td>\n",
       "      <td>0.0</td>\n",
       "      <td>0.0</td>\n",
       "      <td>0.0</td>\n",
       "      <td>0.0</td>\n",
       "      <td>0.0</td>\n",
       "      <td>0.0</td>\n",
       "      <td>0.0</td>\n",
       "      <td>...</td>\n",
       "      <td>0.0</td>\n",
       "      <td>0.0</td>\n",
       "      <td>0.0</td>\n",
       "      <td>0.0</td>\n",
       "      <td>0.0</td>\n",
       "      <td>0.0</td>\n",
       "      <td>0.0</td>\n",
       "      <td>0.0</td>\n",
       "      <td>0.0</td>\n",
       "      <td>0.0</td>\n",
       "    </tr>\n",
       "    <tr>\n",
       "      <th>3</th>\n",
       "      <td>1002526.0</td>\n",
       "      <td>J22</td>\n",
       "      <td>0.0</td>\n",
       "      <td>0.0</td>\n",
       "      <td>0.0</td>\n",
       "      <td>0.0</td>\n",
       "      <td>0.0</td>\n",
       "      <td>0.0</td>\n",
       "      <td>0.0</td>\n",
       "      <td>0.0</td>\n",
       "      <td>...</td>\n",
       "      <td>0.0</td>\n",
       "      <td>0.0</td>\n",
       "      <td>0.0</td>\n",
       "      <td>0.0</td>\n",
       "      <td>0.0</td>\n",
       "      <td>0.0</td>\n",
       "      <td>0.0</td>\n",
       "      <td>0.0</td>\n",
       "      <td>0.0</td>\n",
       "      <td>0.0</td>\n",
       "    </tr>\n",
       "    <tr>\n",
       "      <th>4</th>\n",
       "      <td>1004166.0</td>\n",
       "      <td>1a</td>\n",
       "      <td>1.0</td>\n",
       "      <td>0.0</td>\n",
       "      <td>0.0</td>\n",
       "      <td>0.0</td>\n",
       "      <td>1.0</td>\n",
       "      <td>0.0</td>\n",
       "      <td>0.0</td>\n",
       "      <td>0.0</td>\n",
       "      <td>...</td>\n",
       "      <td>0.0</td>\n",
       "      <td>0.0</td>\n",
       "      <td>0.0</td>\n",
       "      <td>0.0</td>\n",
       "      <td>0.0</td>\n",
       "      <td>0.0</td>\n",
       "      <td>0.0</td>\n",
       "      <td>0.0</td>\n",
       "      <td>0.0</td>\n",
       "      <td>0.0</td>\n",
       "    </tr>\n",
       "  </tbody>\n",
       "</table>\n",
       "<p>5 rows × 3636 columns</p>\n",
       "</div>"
      ],
      "text/plain": [
       "ec   taxon_id media_id  1.1.1.1  1.1.1.100  1.1.1.101  1.1.1.102  1.1.1.103  \\\n",
       "0       100.0     J346      0.0        0.0        0.0        0.0        0.0   \n",
       "1       100.0     J386      1.0        0.0        0.0        0.0        0.0   \n",
       "2    100225.0     J233      0.0        0.0        0.0        0.0        0.0   \n",
       "3   1002526.0      J22      0.0        0.0        0.0        0.0        0.0   \n",
       "4   1004166.0       1a      1.0        0.0        0.0        0.0        1.0   \n",
       "\n",
       "ec  1.1.1.105  1.1.1.107  1.1.1.108  ...  7.6.2.12  7.6.2.13  7.6.2.14  \\\n",
       "0         0.0        0.0        0.0  ...       0.0       0.0       0.0   \n",
       "1         0.0        0.0        0.0  ...       0.0       0.0       0.0   \n",
       "2         0.0        0.0        0.0  ...       0.0       0.0       0.0   \n",
       "3         0.0        0.0        0.0  ...       0.0       0.0       0.0   \n",
       "4         0.0        0.0        0.0  ...       0.0       0.0       0.0   \n",
       "\n",
       "ec  7.6.2.15  7.6.2.16  7.6.2.2  7.6.2.5  7.6.2.7  7.6.2.8  7.6.2.9  \n",
       "0        0.0       0.0      0.0      0.0      0.0      0.0      0.0  \n",
       "1        0.0       0.0      0.0      0.0      0.0      0.0      0.0  \n",
       "2        0.0       0.0      0.0      0.0      0.0      0.0      0.0  \n",
       "3        0.0       0.0      0.0      0.0      0.0      0.0      0.0  \n",
       "4        0.0       0.0      0.0      0.0      0.0      0.0      0.0  \n",
       "\n",
       "[5 rows x 3636 columns]"
      ]
     },
     "execution_count": 2,
     "metadata": {},
     "output_type": "execute_result"
    }
   ],
   "source": [
    "df = pd.read_csv(os.path.join(DATA_DIR, \"model\", \"ml_input.csv\"), low_memory=False)\n",
    "\n",
    "filter = df[\"ec\"].str.contains(\"-\") # filter non-specific ec numbers, e.g., 1.1.1.-\n",
    "df = df[~filter]\n",
    "\n",
    "df = df[[\"taxon_id\", \"media_id\", \"ec\"]].value_counts().reset_index()\n",
    "df = df.pivot(index=[\"taxon_id\", \"media_id\"], columns=\"ec\", values=\"count\")\n",
    "df = df.fillna(0.0).reset_index()\n",
    "\n",
    "# Filtering into training and test sets (database set vs. MAGs)\n",
    "bins = df[\"media_id\"].str.contains(\"unknown\")\n",
    "df_train = df[~bins]\n",
    "\n",
    "# Create a mapping from media_id to a float and apply to dataframe\n",
    "#media_id_mapping = {media_id: float(i) for i, media_id in enumerate(df_train['media_id'].unique())}\n",
    "#df_train['media_id_float'] = df_train[\"media_id\"].map(media_id_mapping)\n",
    "\n",
    "print(len(df_train), \"samples\")\n",
    "df_train.head()"
   ]
  },
  {
   "cell_type": "code",
   "execution_count": 3,
   "metadata": {},
   "outputs": [
    {
     "data": {
      "text/plain": [
       "8464"
      ]
     },
     "execution_count": 3,
     "metadata": {},
     "output_type": "execute_result"
    }
   ],
   "source": [
    "len(df_train)"
   ]
  },
  {
   "cell_type": "markdown",
   "metadata": {},
   "source": [
    "## Model"
   ]
  },
  {
   "cell_type": "markdown",
   "metadata": {},
   "source": [
    "### Testing parameters"
   ]
  },
  {
   "cell_type": "code",
   "execution_count": 4,
   "metadata": {},
   "outputs": [],
   "source": [
    "# Split the datasets into training and test sets\n",
    "TARGET = \"taxon_id\" # target label \"media_id\"\n",
    "RANDOM_SEED = 47 # seed for random_state\n",
    "\n",
    "# Model validation with only labeled samples from data.ipynb\n",
    "X_train, X_test, y_train, y_test = train_test_split(\n",
    "    df_train.drop([\"taxon_id\", \"media_id\"], axis=1),\n",
    "    df_train[TARGET],\n",
    "    test_size=0.2,\n",
    "    random_state=RANDOM_SEED\n",
    ")"
   ]
  },
  {
   "cell_type": "code",
   "execution_count": 5,
   "metadata": {},
   "outputs": [],
   "source": [
    "X1 = pd.DataFrame(X_train)\n",
    "X2 = pd.DataFrame(X_test)\n",
    "y1 = pd.DataFrame(y_train)\n",
    "y2 = pd.DataFrame(y_test)\n",
    "\n",
    "X1[\"Set\"] = \"Train\"\n",
    "X2[\"Set\"] = \"Test\"\n",
    "y1[\"Set\"] = \"Train\"\n",
    "y2[\"Set\"] = \"Test\"\n",
    "\n",
    "x_frames = X1, X2\n",
    "y_frames = y1, y2\n",
    "\n",
    "X_split = pd.concat(x_frames)\n",
    "y_split = pd.concat(y_frames)\n",
    "\n",
    "X_split.to_csv(\"~/Desktop/X_split.csv\")\n",
    "y_split.to_csv(\"~/Desktop/y_split.csv\")"
   ]
  },
  {
   "cell_type": "code",
   "execution_count": 6,
   "metadata": {},
   "outputs": [],
   "source": [
    "# Test a range of parameters for dimensionality reduction\n",
    "from sklearn.model_selection import RandomizedSearchCV\n",
    "from sklearn.pipeline import Pipeline\n",
    "from sklearn.preprocessing import StandardScaler\n",
    "from sklearn.decomposition import PCA\n",
    "from sklearn.metrics import make_scorer, silhouette_score\n",
    "\n",
    "# Define the pipeline\n",
    "pipeline = Pipeline([\n",
    "    ('scaler', StandardScaler()), \n",
    "    ('pca', PCA(\n",
    "        n_components=150,\n",
    "        random_state= RANDOM_SEED\n",
    "        )),  \n",
    "    ('umap', umap.UMAP(  \n",
    "        metric=\"euclidean\",\n",
    "        n_epochs=500,\n",
    "        random_state=RANDOM_SEED,\n",
    "        n_jobs=1,\n",
    "        ))\n",
    "])\n",
    "\n",
    "# Define parameter grid with correct step names\n",
    "param_distributions = {\n",
    "    'umap__n_components': range(2,50),\n",
    "    'umap__n_neighbors': range(20,100), \n",
    "    'umap__min_dist': range(0,1)\n",
    "}\n",
    "\n",
    "# Custom scorer function\n",
    "def umap_silhouette(X, y):\n",
    "    embedding = X  # X here is already the transformed data by UMAP\n",
    "    return silhouette_score(embedding, y)\n",
    "\n",
    "# Wrap the custom scorer\n",
    "scorer = make_scorer(umap_silhouette, greater_is_better=True)\n",
    "\n",
    "# Initialize RandomizedSearchCV\n",
    "search = RandomizedSearchCV(\n",
    "    estimator=pipeline,\n",
    "    param_distributions=param_distributions,\n",
    "    n_iter=50,\n",
    "    cv=5,\n",
    "    random_state=RANDOM_SEED,\n",
    "    n_jobs=-1,\n",
    "    scoring=scorer\n",
    ")\n",
    "\n",
    "# Fit the search to your data\n",
    "#search.fit(X_train, y_train)\n",
    "#best_params = search.best_params_\n",
    "#best_model = search.best_estimator_\n",
    "\n",
    "#print(\"Best Parameters:\", best_params) "
   ]
  },
  {
   "cell_type": "markdown",
   "metadata": {},
   "source": [
    "### Pipeline"
   ]
  },
  {
   "cell_type": "code",
   "execution_count": 7,
   "metadata": {},
   "outputs": [],
   "source": [
    "# sklearn pipeline helps prevent data leakage; incorporate best_params here\n",
    "pipeline = Pipeline([\n",
    "    ('scaler', StandardScaler()),    \n",
    "    ('pca', PCA(\n",
    "        n_components=150,\n",
    "        random_state= RANDOM_SEED\n",
    "        )), \n",
    "    ('umap', umap.UMAP(             \n",
    "        metric=\"euclidean\",\n",
    "        n_epochs=500, \n",
    "        random_state=RANDOM_SEED,\n",
    "        n_jobs=1,\n",
    "        n_components=40, \n",
    "        n_neighbors=62, \n",
    "        min_dist=0\n",
    "        )) \n",
    "])\n",
    "\n",
    "# Fit and transform\n",
    "X_train_transformed = pipeline.fit_transform(X_train) # fit pipeline and transform training data\n",
    "X_test_transformed = pipeline.transform(X_test) # transform test data"
   ]
  },
  {
   "cell_type": "markdown",
   "metadata": {},
   "source": [
    "### Optimizing n_clusters"
   ]
  },
  {
   "cell_type": "code",
   "execution_count": 8,
   "metadata": {},
   "outputs": [],
   "source": [
    "# Silhouette coefficient method\n",
    "from sklearn.metrics import silhouette_score\n",
    "from sklearn.cluster import KMeans\n",
    "\n",
    "# Test a range of clusters for their silhouette coefficients\n",
    "#clusters = []\n",
    "#for n_cluster in range(100, 300):\n",
    "#    kmeans = KMeans(n_clusters=n_cluster).fit(X_train_transformed)\n",
    "#    label = kmeans.labels_\n",
    "#    sil_coeff = silhouette_score(X_train_transformed, label, metric='euclidean')\n",
    "#    clusters.append({'n_clusters': n_cluster, 'coefficient': sil_coeff})\n",
    "\n",
    "# Select the maximum coefficient\n",
    "#clusters = pd.DataFrame(clusters)\n",
    "#c = clusters.iloc[clusters[\"coefficient\"].argmax()][\"n_clusters\"]\n",
    "#s = clusters[\"coefficient\"].max()\n",
    "#n = int(c)+1\n",
    "\n",
    "#print(\"{} clusters returns a maximum Silhouette Coefficient of {}\".format(n, s))"
   ]
  },
  {
   "cell_type": "code",
   "execution_count": 9,
   "metadata": {},
   "outputs": [],
   "source": [
    "# Cluster using maximum coefficient's n_clusters\n",
    "clusterer = KMeans(n_clusters=182, random_state=RANDOM_SEED)\n",
    "training_clusters = clusterer.fit_predict(X_train_transformed)\n",
    "test_clusters = clusterer.predict(X_test_transformed)"
   ]
  },
  {
   "cell_type": "markdown",
   "metadata": {},
   "source": [
    "### Metrics"
   ]
  },
  {
   "cell_type": "code",
   "execution_count": 10,
   "metadata": {},
   "outputs": [
    {
     "name": "stdout",
     "output_type": "stream",
     "text": [
      "Total PCA explained variance: 0.8869085094399837\n",
      "182 KMeans training clusters\n",
      "Average Silhouette Score on KMeans clusters: 0.7505251169204712\n"
     ]
    }
   ],
   "source": [
    "# Initial dimensionality reduction performance (PCA)\n",
    "pca = pipeline.named_steps['pca']\n",
    "explained_variance = pca.explained_variance_ratio_\n",
    "print(f\"Total PCA explained variance: {explained_variance.sum()}\")\n",
    "\n",
    "# Further dimensionality reduction and clustering performance\n",
    "silhouette_avg = silhouette_score(X_train_transformed, training_clusters)\n",
    "print(clusterer.labels_.max()+1, \"KMeans training clusters\")\n",
    "print(f\"Average Silhouette Score on KMeans clusters: {silhouette_avg}\")\n",
    "    # Silhouette score <=0.25 implies poor clustering, 0.25<x<=0.50 is fair, <50 is good\n",
    "\n",
    "#173, 0.73951; 178, 0.74609; 180, 0.74886; 185, 0.74425; 187, 0.74365; ... 223, 0.73052"
   ]
  },
  {
   "cell_type": "code",
   "execution_count": 11,
   "metadata": {},
   "outputs": [
    {
     "name": "stdout",
     "output_type": "stream",
     "text": [
      "147 hdbscan training clusters\n",
      "Silhouette Score on hdbscan clusters: 0.5884481072425842\n"
     ]
    }
   ],
   "source": [
    "# Compare to hdbscan clustering \n",
    "\n",
    "# Apply HDBSCAN clustering on the transformed training data\n",
    "hclusterer = hdbscan.HDBSCAN(\n",
    "    min_samples=5, \n",
    "    min_cluster_size=15, \n",
    "    #gen_min_span_tree=True, \n",
    "    prediction_data=True # cluster_selection_method=\"leaf\", for more fine-grained clustering\n",
    ")\n",
    "htraining_clusters = hclusterer.fit_predict(X_train_transformed)\n",
    "\n",
    "# Clustering performance (UMAP and hdbscan)\n",
    "hsilhouette_avg = silhouette_score(X_train_transformed, htraining_clusters)\n",
    "print(hclusterer.labels_.max(), \"hdbscan training clusters\")\n",
    "print(f\"Silhouette Score on hdbscan clusters: {hsilhouette_avg}\")\n",
    "\n",
    "# Convert to numpy array for hdbscan and predict clustering\n",
    "#test_points = test_df[[\"Component 1\", \"Component 2\"]].to_numpy()\n",
    "#test_labels, strengths = hdbscan.approximate_predict(clusterer, test_points)\n",
    "\n",
    "# Optional constraints\n",
    "#filtered = train_df[train_df['Cluster'] >= 0]\n",
    "#test_labels = clusterer.fit_predict(X_test_transformed)"
   ]
  },
  {
   "cell_type": "markdown",
   "metadata": {},
   "source": [
    "## Classifier"
   ]
  },
  {
   "cell_type": "code",
   "execution_count": 12,
   "metadata": {},
   "outputs": [],
   "source": [
    "import sklearn\n",
    "from sklearn.ensemble import RandomForestClassifier\n",
    "from sklearn.metrics import classification_report\n",
    "from sklearn.neighbors import KNeighborsClassifier"
   ]
  },
  {
   "cell_type": "code",
   "execution_count": 13,
   "metadata": {},
   "outputs": [],
   "source": [
    "y2_train = training_clusters\n",
    "y2_test = test_clusters"
   ]
  },
  {
   "cell_type": "markdown",
   "metadata": {},
   "source": [
    "### Random Forest"
   ]
  },
  {
   "cell_type": "code",
   "execution_count": 14,
   "metadata": {},
   "outputs": [
    {
     "name": "stdout",
     "output_type": "stream",
     "text": [
      "[ 14  61 104 ... 130   6  76]\n"
     ]
    }
   ],
   "source": [
    "rfc = RandomForestClassifier(\n",
    "    n_estimators=100,\n",
    "    n_jobs=-1,\n",
    "    random_state=RANDOM_SEED\n",
    ")\n",
    "\n",
    "rfc.fit(X_train_transformed, y2_train)\n",
    "print(rfc.predict(X_test_transformed))"
   ]
  },
  {
   "cell_type": "code",
   "execution_count": 15,
   "metadata": {},
   "outputs": [
    {
     "name": "stdout",
     "output_type": "stream",
     "text": [
      "              precision    recall  f1-score   support\n",
      "\n",
      "           0       1.00      1.00      1.00        26\n",
      "           1       1.00      0.90      0.95        20\n",
      "           2       1.00      1.00      1.00        16\n",
      "           3       1.00      0.98      0.99        53\n",
      "           4       1.00      1.00      1.00        42\n",
      "           5       1.00      0.88      0.93         8\n",
      "           6       0.94      1.00      0.97        16\n",
      "           7       1.00      1.00      1.00        43\n",
      "           8       1.00      1.00      1.00        50\n",
      "           9       1.00      0.67      0.80         6\n",
      "          10       1.00      0.91      0.95        22\n",
      "          11       1.00      1.00      1.00        18\n",
      "          12       1.00      1.00      1.00        38\n",
      "          13       1.00      1.00      1.00        26\n",
      "          14       0.91      1.00      0.95        21\n",
      "          15       1.00      1.00      1.00         5\n",
      "          16       0.95      1.00      0.98        21\n",
      "          17       1.00      1.00      1.00         7\n",
      "          18       1.00      1.00      1.00        12\n",
      "          19       0.83      1.00      0.91        10\n",
      "          20       1.00      1.00      1.00        12\n",
      "          21       1.00      1.00      1.00        21\n",
      "          22       1.00      0.50      0.67         2\n",
      "          23       1.00      0.67      0.80         3\n",
      "          24       1.00      1.00      1.00        14\n",
      "          25       1.00      1.00      1.00         6\n",
      "          26       0.95      1.00      0.97        19\n",
      "          27       0.91      1.00      0.95        10\n",
      "          29       1.00      1.00      1.00         6\n",
      "          30       1.00      1.00      1.00         1\n",
      "          31       1.00      1.00      1.00        21\n",
      "          32       0.83      1.00      0.91         5\n",
      "          33       1.00      1.00      1.00         3\n",
      "          34       1.00      1.00      1.00         3\n",
      "          35       1.00      1.00      1.00         3\n",
      "          36       1.00      1.00      1.00         1\n",
      "          37       1.00      1.00      1.00         5\n",
      "          38       1.00      1.00      1.00         1\n",
      "          39       1.00      1.00      1.00        10\n",
      "          40       1.00      1.00      1.00         6\n",
      "          41       1.00      1.00      1.00         3\n",
      "          42       1.00      1.00      1.00         5\n",
      "          43       1.00      0.75      0.86         8\n",
      "          44       1.00      1.00      1.00         1\n",
      "          45       1.00      1.00      1.00         3\n",
      "          46       1.00      1.00      1.00         3\n",
      "          48       1.00      1.00      1.00        14\n",
      "          49       1.00      0.67      0.80         3\n",
      "          50       1.00      1.00      1.00         4\n",
      "          51       1.00      1.00      1.00         1\n",
      "          52       1.00      1.00      1.00         1\n",
      "          53       1.00      1.00      1.00         9\n",
      "          54       0.00      0.00      0.00         1\n",
      "          55       1.00      1.00      1.00         1\n",
      "          56       1.00      1.00      1.00         3\n",
      "          57       1.00      1.00      1.00         3\n",
      "          58       0.00      0.00      0.00         1\n",
      "          59       1.00      1.00      1.00         8\n",
      "          60       1.00      1.00      1.00        10\n",
      "          61       1.00      0.94      0.97        17\n",
      "          62       1.00      1.00      1.00        12\n",
      "          63       1.00      1.00      1.00        37\n",
      "          64       1.00      1.00      1.00        18\n",
      "          65       1.00      1.00      1.00         2\n",
      "          66       0.91      0.91      0.91        22\n",
      "          67       1.00      1.00      1.00         5\n",
      "          68       1.00      1.00      1.00         3\n",
      "          69       0.84      1.00      0.91        41\n",
      "          70       1.00      0.67      0.80         3\n",
      "          71       1.00      0.86      0.92         7\n",
      "          72       1.00      1.00      1.00         4\n",
      "          73       1.00      1.00      1.00         2\n",
      "          74       1.00      1.00      1.00         2\n",
      "          75       1.00      1.00      1.00        12\n",
      "          76       1.00      1.00      1.00         9\n",
      "          77       1.00      1.00      1.00         4\n",
      "          79       1.00      0.90      0.95        10\n",
      "          80       1.00      1.00      1.00         2\n",
      "          81       1.00      1.00      1.00         7\n",
      "          82       1.00      1.00      1.00         4\n",
      "          83       1.00      1.00      1.00         6\n",
      "          84       0.83      1.00      0.91         5\n",
      "          85       0.93      1.00      0.97        14\n",
      "          86       1.00      1.00      1.00        12\n",
      "          87       1.00      1.00      1.00         5\n",
      "          88       1.00      1.00      1.00         4\n",
      "          89       1.00      1.00      1.00         6\n",
      "          90       1.00      1.00      1.00         6\n",
      "          92       1.00      1.00      1.00         9\n",
      "          93       1.00      1.00      1.00         8\n",
      "          94       1.00      0.80      0.89         5\n",
      "          95       1.00      1.00      1.00         3\n",
      "          96       1.00      1.00      1.00         3\n",
      "          97       1.00      1.00      1.00        10\n",
      "          98       1.00      1.00      1.00        12\n",
      "          99       1.00      1.00      1.00        16\n",
      "         100       1.00      0.71      0.83         7\n",
      "         102       1.00      0.91      0.95        32\n",
      "         103       1.00      1.00      1.00         3\n",
      "         104       0.96      1.00      0.98        24\n",
      "         105       1.00      0.80      0.89         5\n",
      "         106       1.00      1.00      1.00         7\n",
      "         107       0.86      1.00      0.92        12\n",
      "         108       1.00      0.89      0.94         9\n",
      "         109       1.00      1.00      1.00         1\n",
      "         110       0.92      1.00      0.96        12\n",
      "         111       1.00      1.00      1.00        20\n",
      "         112       1.00      1.00      1.00         1\n",
      "         113       1.00      1.00      1.00         1\n",
      "         114       1.00      1.00      1.00         7\n",
      "         115       1.00      1.00      1.00         8\n",
      "         116       1.00      1.00      1.00         5\n",
      "         117       0.89      1.00      0.94        16\n",
      "         118       1.00      1.00      1.00         4\n",
      "         119       1.00      1.00      1.00        11\n",
      "         120       1.00      0.67      0.80         6\n",
      "         121       1.00      1.00      1.00         8\n",
      "         122       1.00      1.00      1.00         5\n",
      "         123       1.00      1.00      1.00         2\n",
      "         124       1.00      1.00      1.00         2\n",
      "         125       1.00      1.00      1.00        17\n",
      "         127       1.00      1.00      1.00        22\n",
      "         128       0.91      1.00      0.95        10\n",
      "         129       1.00      1.00      1.00         5\n",
      "         130       0.81      0.93      0.87        14\n",
      "         131       1.00      1.00      1.00         4\n",
      "         132       1.00      1.00      1.00         4\n",
      "         133       1.00      1.00      1.00         4\n",
      "         134       1.00      0.50      0.67         2\n",
      "         135       1.00      1.00      1.00         7\n",
      "         136       1.00      1.00      1.00         7\n",
      "         137       1.00      1.00      1.00         7\n",
      "         138       0.78      0.88      0.82         8\n",
      "         139       1.00      1.00      1.00        14\n",
      "         141       1.00      1.00      1.00         2\n",
      "         142       1.00      1.00      1.00         7\n",
      "         143       0.77      1.00      0.87        10\n",
      "         144       1.00      1.00      1.00         1\n",
      "         145       1.00      1.00      1.00        13\n",
      "         146       1.00      0.80      0.89         5\n",
      "         147       1.00      1.00      1.00        13\n",
      "         148       0.50      1.00      0.67         1\n",
      "         149       1.00      0.80      0.89         5\n",
      "         150       1.00      1.00      1.00         3\n",
      "         151       0.83      1.00      0.91         5\n",
      "         152       0.71      1.00      0.83         5\n",
      "         153       1.00      1.00      1.00         5\n",
      "         154       1.00      1.00      1.00         2\n",
      "         155       1.00      1.00      1.00         9\n",
      "         156       0.50      1.00      0.67         1\n",
      "         157       1.00      1.00      1.00         3\n",
      "         158       1.00      1.00      1.00         3\n",
      "         159       1.00      1.00      1.00         5\n",
      "         160       0.86      1.00      0.92         6\n",
      "         161       1.00      0.86      0.92         7\n",
      "         162       1.00      1.00      1.00        10\n",
      "         163       0.67      0.67      0.67         6\n",
      "         164       1.00      0.94      0.97        16\n",
      "         165       1.00      1.00      1.00         1\n",
      "         166       1.00      1.00      1.00         3\n",
      "         167       1.00      0.92      0.96        12\n",
      "         168       0.96      1.00      0.98        27\n",
      "         169       0.92      1.00      0.96        22\n",
      "         170       0.92      0.92      0.92        13\n",
      "         171       1.00      1.00      1.00         1\n",
      "         172       1.00      1.00      1.00         9\n",
      "         173       1.00      1.00      1.00         1\n",
      "         174       0.88      0.92      0.90        25\n",
      "         175       1.00      1.00      1.00         1\n",
      "         176       1.00      1.00      1.00         1\n",
      "         177       1.00      1.00      1.00         2\n",
      "         178       1.00      0.79      0.88        14\n",
      "         179       0.96      0.82      0.89        33\n",
      "         180       0.89      1.00      0.94         8\n",
      "         181       1.00      1.00      1.00         3\n",
      "\n",
      "    accuracy                           0.97      1693\n",
      "   macro avg       0.96      0.95      0.95      1693\n",
      "weighted avg       0.97      0.97      0.97      1693\n",
      "\n",
      "RF ROC AUC score: 0.9990703466319887\n"
     ]
    }
   ],
   "source": [
    "report = classification_report(\n",
    "    y_true=y2_test,\n",
    "    y_pred=rfc.predict(X_test_transformed),\n",
    "    zero_division=0.0 # Default: set to \"warn\", or float {0.0, 1.0}\n",
    ")\n",
    "\n",
    "roc_score = metrics.roc_auc_score(\n",
    "    y_true=y2_test,\n",
    "    y_score=rfc.predict_proba(X_test_transformed),\n",
    "    labels=np.unique(y2_train),\n",
    "    average=\"weighted\",\n",
    "    multi_class=\"ovo\"\n",
    ")\n",
    "\n",
    "print(report)\n",
    "print(\"RF ROC AUC score:\", roc_score)"
   ]
  },
  {
   "cell_type": "markdown",
   "metadata": {},
   "source": [
    "### Nearest Neighbors"
   ]
  },
  {
   "cell_type": "code",
   "execution_count": 16,
   "metadata": {},
   "outputs": [
    {
     "name": "stdout",
     "output_type": "stream",
     "text": [
      "[ 14  61 104 ... 130   6  76]\n"
     ]
    },
    {
     "data": {
      "text/plain": [
       "array([[ 569],\n",
       "       [6206],\n",
       "       [6764],\n",
       "       ...,\n",
       "       [1757],\n",
       "       [5628],\n",
       "       [4254]], dtype=int64)"
      ]
     },
     "execution_count": 16,
     "metadata": {},
     "output_type": "execute_result"
    }
   ],
   "source": [
    "knc= KNeighborsClassifier(n_neighbors=1)\n",
    "knc.fit(X_train_transformed, training_clusters)\n",
    "\n",
    "X_test_reindexed = list(X_test_transformed) # is this mapping accurate?\n",
    "\n",
    "distances, indices = knc.kneighbors(X_test_reindexed)\n",
    "\n",
    "print(knc.predict(X_test_transformed))\n",
    "indices"
   ]
  },
  {
   "cell_type": "code",
   "execution_count": 17,
   "metadata": {},
   "outputs": [
    {
     "name": "stdout",
     "output_type": "stream",
     "text": [
      "              precision    recall  f1-score   support\n",
      "\n",
      "           0       1.00      1.00      1.00        26\n",
      "           1       0.90      0.95      0.93        20\n",
      "           2       1.00      1.00      1.00        16\n",
      "           3       1.00      1.00      1.00        53\n",
      "           4       1.00      1.00      1.00        42\n",
      "           5       1.00      0.88      0.93         8\n",
      "           6       1.00      1.00      1.00        16\n",
      "           7       1.00      1.00      1.00        43\n",
      "           8       1.00      1.00      1.00        50\n",
      "           9       1.00      0.83      0.91         6\n",
      "          10       0.94      0.77      0.85        22\n",
      "          11       1.00      1.00      1.00        18\n",
      "          12       1.00      1.00      1.00        38\n",
      "          13       1.00      1.00      1.00        26\n",
      "          14       1.00      1.00      1.00        21\n",
      "          15       1.00      1.00      1.00         5\n",
      "          16       1.00      1.00      1.00        21\n",
      "          17       1.00      1.00      1.00         7\n",
      "          18       1.00      1.00      1.00        12\n",
      "          19       1.00      1.00      1.00        10\n",
      "          20       1.00      1.00      1.00        12\n",
      "          21       1.00      1.00      1.00        21\n",
      "          22       1.00      0.50      0.67         2\n",
      "          23       1.00      0.67      0.80         3\n",
      "          24       1.00      1.00      1.00        14\n",
      "          25       1.00      1.00      1.00         6\n",
      "          26       1.00      1.00      1.00        19\n",
      "          27       1.00      1.00      1.00        10\n",
      "          29       1.00      1.00      1.00         6\n",
      "          30       1.00      1.00      1.00         1\n",
      "          31       1.00      1.00      1.00        21\n",
      "          32       0.71      1.00      0.83         5\n",
      "          33       1.00      1.00      1.00         3\n",
      "          34       1.00      1.00      1.00         3\n",
      "          35       1.00      1.00      1.00         3\n",
      "          36       1.00      1.00      1.00         1\n",
      "          37       1.00      1.00      1.00         5\n",
      "          38       1.00      1.00      1.00         1\n",
      "          39       0.90      0.90      0.90        10\n",
      "          40       1.00      1.00      1.00         6\n",
      "          41       1.00      1.00      1.00         3\n",
      "          42       1.00      1.00      1.00         5\n",
      "          43       1.00      1.00      1.00         8\n",
      "          44       1.00      1.00      1.00         1\n",
      "          45       1.00      1.00      1.00         3\n",
      "          46       1.00      1.00      1.00         3\n",
      "          48       1.00      1.00      1.00        14\n",
      "          49       1.00      1.00      1.00         3\n",
      "          50       1.00      1.00      1.00         4\n",
      "          51       1.00      1.00      1.00         1\n",
      "          52       1.00      1.00      1.00         1\n",
      "          53       1.00      1.00      1.00         9\n",
      "          54       1.00      1.00      1.00         1\n",
      "          55       1.00      1.00      1.00         1\n",
      "          56       1.00      1.00      1.00         3\n",
      "          57       1.00      1.00      1.00         3\n",
      "          58       1.00      1.00      1.00         1\n",
      "          59       1.00      1.00      1.00         8\n",
      "          60       0.91      1.00      0.95        10\n",
      "          61       1.00      1.00      1.00        17\n",
      "          62       1.00      1.00      1.00        12\n",
      "          63       1.00      1.00      1.00        37\n",
      "          64       0.95      1.00      0.97        18\n",
      "          65       0.67      1.00      0.80         2\n",
      "          66       1.00      0.91      0.95        22\n",
      "          67       1.00      1.00      1.00         5\n",
      "          68       1.00      1.00      1.00         3\n",
      "          69       0.84      0.93      0.88        41\n",
      "          70       1.00      0.67      0.80         3\n",
      "          71       1.00      0.86      0.92         7\n",
      "          72       1.00      1.00      1.00         4\n",
      "          73       1.00      1.00      1.00         2\n",
      "          74       1.00      1.00      1.00         2\n",
      "          75       1.00      1.00      1.00        12\n",
      "          76       1.00      0.89      0.94         9\n",
      "          77       1.00      1.00      1.00         4\n",
      "          79       1.00      0.90      0.95        10\n",
      "          80       1.00      1.00      1.00         2\n",
      "          81       1.00      1.00      1.00         7\n",
      "          82       1.00      1.00      1.00         4\n",
      "          83       1.00      1.00      1.00         6\n",
      "          84       0.83      1.00      0.91         5\n",
      "          85       0.93      1.00      0.97        14\n",
      "          86       1.00      1.00      1.00        12\n",
      "          87       1.00      1.00      1.00         5\n",
      "          88       1.00      1.00      1.00         4\n",
      "          89       1.00      1.00      1.00         6\n",
      "          90       1.00      1.00      1.00         6\n",
      "          92       1.00      1.00      1.00         9\n",
      "          93       1.00      1.00      1.00         8\n",
      "          94       1.00      1.00      1.00         5\n",
      "          95       1.00      1.00      1.00         3\n",
      "          96       1.00      1.00      1.00         3\n",
      "          97       1.00      1.00      1.00        10\n",
      "          98       1.00      1.00      1.00        12\n",
      "          99       0.94      1.00      0.97        16\n",
      "         100       1.00      1.00      1.00         7\n",
      "         102       1.00      0.91      0.95        32\n",
      "         103       1.00      1.00      1.00         3\n",
      "         104       0.96      0.96      0.96        24\n",
      "         105       1.00      0.80      0.89         5\n",
      "         106       1.00      1.00      1.00         7\n",
      "         107       0.80      1.00      0.89        12\n",
      "         108       1.00      0.78      0.88         9\n",
      "         109       1.00      1.00      1.00         1\n",
      "         110       0.92      1.00      0.96        12\n",
      "         111       1.00      1.00      1.00        20\n",
      "         112       1.00      1.00      1.00         1\n",
      "         113       1.00      1.00      1.00         1\n",
      "         114       1.00      1.00      1.00         7\n",
      "         115       1.00      1.00      1.00         8\n",
      "         116       1.00      1.00      1.00         5\n",
      "         117       0.94      1.00      0.97        16\n",
      "         118       1.00      0.50      0.67         4\n",
      "         119       1.00      1.00      1.00        11\n",
      "         120       1.00      0.83      0.91         6\n",
      "         121       1.00      1.00      1.00         8\n",
      "         122       1.00      1.00      1.00         5\n",
      "         123       1.00      1.00      1.00         2\n",
      "         124       1.00      1.00      1.00         2\n",
      "         125       1.00      0.94      0.97        17\n",
      "         127       1.00      1.00      1.00        22\n",
      "         128       0.91      1.00      0.95        10\n",
      "         129       1.00      1.00      1.00         5\n",
      "         130       0.75      0.86      0.80        14\n",
      "         131       1.00      1.00      1.00         4\n",
      "         132       1.00      1.00      1.00         4\n",
      "         133       1.00      1.00      1.00         4\n",
      "         134       1.00      0.50      0.67         2\n",
      "         135       1.00      1.00      1.00         7\n",
      "         136       1.00      1.00      1.00         7\n",
      "         137       1.00      1.00      1.00         7\n",
      "         138       0.88      0.88      0.88         8\n",
      "         139       1.00      1.00      1.00        14\n",
      "         141       1.00      1.00      1.00         2\n",
      "         142       1.00      1.00      1.00         7\n",
      "         143       0.77      1.00      0.87        10\n",
      "         144       1.00      1.00      1.00         1\n",
      "         145       1.00      0.92      0.96        13\n",
      "         146       1.00      0.80      0.89         5\n",
      "         147       0.93      1.00      0.96        13\n",
      "         148       1.00      1.00      1.00         1\n",
      "         149       1.00      1.00      1.00         5\n",
      "         150       1.00      1.00      1.00         3\n",
      "         151       0.83      1.00      0.91         5\n",
      "         152       1.00      1.00      1.00         5\n",
      "         153       1.00      1.00      1.00         5\n",
      "         154       1.00      1.00      1.00         2\n",
      "         155       1.00      0.89      0.94         9\n",
      "         156       1.00      1.00      1.00         1\n",
      "         157       1.00      1.00      1.00         3\n",
      "         158       1.00      1.00      1.00         3\n",
      "         159       1.00      1.00      1.00         5\n",
      "         160       0.86      1.00      0.92         6\n",
      "         161       1.00      1.00      1.00         7\n",
      "         162       0.91      1.00      0.95        10\n",
      "         163       0.75      1.00      0.86         6\n",
      "         164       1.00      0.81      0.90        16\n",
      "         165       1.00      1.00      1.00         1\n",
      "         166       1.00      1.00      1.00         3\n",
      "         167       1.00      0.92      0.96        12\n",
      "         168       0.90      1.00      0.95        27\n",
      "         169       0.81      0.95      0.88        22\n",
      "         170       0.86      0.92      0.89        13\n",
      "         171       1.00      1.00      1.00         1\n",
      "         172       1.00      1.00      1.00         9\n",
      "         173       1.00      1.00      1.00         1\n",
      "         174       0.88      0.84      0.86        25\n",
      "         175       1.00      1.00      1.00         1\n",
      "         176       1.00      1.00      1.00         1\n",
      "         177       1.00      1.00      1.00         2\n",
      "         178       0.91      0.71      0.80        14\n",
      "         179       0.97      0.88      0.92        33\n",
      "         180       0.89      1.00      0.94         8\n",
      "         181       1.00      1.00      1.00         3\n",
      "\n",
      "    accuracy                           0.97      1693\n",
      "   macro avg       0.98      0.97      0.97      1693\n",
      "weighted avg       0.97      0.97      0.97      1693\n",
      "\n",
      "KNN ROC AUC score: 0.9833788710741308\n"
     ]
    }
   ],
   "source": [
    "report = classification_report(\n",
    "    y_true=y2_test,\n",
    "    y_pred=knc.predict(X_test_transformed),\n",
    "    zero_division=0.0 # Default: set to \"warn\", or float {0.0, 1.0}\n",
    ")\n",
    "\n",
    "roc_score = metrics.roc_auc_score(\n",
    "    y_true=y2_test,\n",
    "    y_score=knc.predict_proba(X_test_transformed),\n",
    "    labels=np.unique(y2_train),\n",
    "    average=\"weighted\",\n",
    "    multi_class=\"ovo\"\n",
    ")\n",
    "\n",
    "print(report)\n",
    "print(\"KNN ROC AUC score:\", roc_score)"
   ]
  },
  {
   "cell_type": "markdown",
   "metadata": {},
   "source": [
    "## Dataframes"
   ]
  },
  {
   "cell_type": "code",
   "execution_count": 18,
   "metadata": {},
   "outputs": [
    {
     "name": "stdout",
     "output_type": "stream",
     "text": [
      "6771\n"
     ]
    },
    {
     "data": {
      "text/html": [
       "<div>\n",
       "<style scoped>\n",
       "    .dataframe tbody tr th:only-of-type {\n",
       "        vertical-align: middle;\n",
       "    }\n",
       "\n",
       "    .dataframe tbody tr th {\n",
       "        vertical-align: top;\n",
       "    }\n",
       "\n",
       "    .dataframe thead th {\n",
       "        text-align: right;\n",
       "    }\n",
       "</style>\n",
       "<table border=\"1\" class=\"dataframe\">\n",
       "  <thead>\n",
       "    <tr style=\"text-align: right;\">\n",
       "      <th></th>\n",
       "      <th>Component 1</th>\n",
       "      <th>Component 2</th>\n",
       "      <th>Component 3</th>\n",
       "      <th>Component 4</th>\n",
       "      <th>Component 5</th>\n",
       "      <th>Component 6</th>\n",
       "      <th>Component 7</th>\n",
       "      <th>Component 8</th>\n",
       "      <th>Component 9</th>\n",
       "      <th>Component 10</th>\n",
       "      <th>...</th>\n",
       "      <th>Component 35</th>\n",
       "      <th>Component 36</th>\n",
       "      <th>Component 37</th>\n",
       "      <th>Component 38</th>\n",
       "      <th>Component 39</th>\n",
       "      <th>Component 40</th>\n",
       "      <th>Set</th>\n",
       "      <th>Target</th>\n",
       "      <th>KMeans Cluster</th>\n",
       "      <th>Media Cluster</th>\n",
       "    </tr>\n",
       "  </thead>\n",
       "  <tbody>\n",
       "    <tr>\n",
       "      <th>0</th>\n",
       "      <td>9.004272</td>\n",
       "      <td>3.287887</td>\n",
       "      <td>4.192002</td>\n",
       "      <td>4.919508</td>\n",
       "      <td>2.469864</td>\n",
       "      <td>6.084774</td>\n",
       "      <td>2.985002</td>\n",
       "      <td>7.050509</td>\n",
       "      <td>5.174880</td>\n",
       "      <td>4.042890</td>\n",
       "      <td>...</td>\n",
       "      <td>4.902360</td>\n",
       "      <td>4.721021</td>\n",
       "      <td>4.917609</td>\n",
       "      <td>5.054856</td>\n",
       "      <td>2.191289</td>\n",
       "      <td>3.794339</td>\n",
       "      <td>Training</td>\n",
       "      <td>2837493.0</td>\n",
       "      <td>155</td>\n",
       "      <td>NaN</td>\n",
       "    </tr>\n",
       "    <tr>\n",
       "      <th>1</th>\n",
       "      <td>8.953607</td>\n",
       "      <td>2.713383</td>\n",
       "      <td>3.910982</td>\n",
       "      <td>5.377469</td>\n",
       "      <td>3.294208</td>\n",
       "      <td>5.038115</td>\n",
       "      <td>2.905794</td>\n",
       "      <td>6.771725</td>\n",
       "      <td>4.393070</td>\n",
       "      <td>4.581178</td>\n",
       "      <td>...</td>\n",
       "      <td>5.091610</td>\n",
       "      <td>3.499133</td>\n",
       "      <td>6.066790</td>\n",
       "      <td>4.524912</td>\n",
       "      <td>1.808338</td>\n",
       "      <td>3.722527</td>\n",
       "      <td>Training</td>\n",
       "      <td>50422.0</td>\n",
       "      <td>48</td>\n",
       "      <td>NaN</td>\n",
       "    </tr>\n",
       "    <tr>\n",
       "      <th>2</th>\n",
       "      <td>8.881487</td>\n",
       "      <td>3.994849</td>\n",
       "      <td>5.083898</td>\n",
       "      <td>4.709289</td>\n",
       "      <td>2.508067</td>\n",
       "      <td>6.509837</td>\n",
       "      <td>5.318863</td>\n",
       "      <td>3.806595</td>\n",
       "      <td>5.740467</td>\n",
       "      <td>5.450956</td>\n",
       "      <td>...</td>\n",
       "      <td>4.145268</td>\n",
       "      <td>5.047581</td>\n",
       "      <td>0.187894</td>\n",
       "      <td>10.940918</td>\n",
       "      <td>11.037705</td>\n",
       "      <td>8.796391</td>\n",
       "      <td>Training</td>\n",
       "      <td>41899.0</td>\n",
       "      <td>69</td>\n",
       "      <td>NaN</td>\n",
       "    </tr>\n",
       "    <tr>\n",
       "      <th>3</th>\n",
       "      <td>8.991222</td>\n",
       "      <td>4.912221</td>\n",
       "      <td>5.206003</td>\n",
       "      <td>3.655744</td>\n",
       "      <td>2.022998</td>\n",
       "      <td>7.516963</td>\n",
       "      <td>5.696278</td>\n",
       "      <td>2.571991</td>\n",
       "      <td>2.162688</td>\n",
       "      <td>18.361250</td>\n",
       "      <td>...</td>\n",
       "      <td>5.534949</td>\n",
       "      <td>4.466784</td>\n",
       "      <td>5.424626</td>\n",
       "      <td>4.071472</td>\n",
       "      <td>4.678117</td>\n",
       "      <td>6.487770</td>\n",
       "      <td>Training</td>\n",
       "      <td>433287.0</td>\n",
       "      <td>161</td>\n",
       "      <td>NaN</td>\n",
       "    </tr>\n",
       "    <tr>\n",
       "      <th>4</th>\n",
       "      <td>9.022937</td>\n",
       "      <td>5.124177</td>\n",
       "      <td>4.946032</td>\n",
       "      <td>4.268633</td>\n",
       "      <td>2.517056</td>\n",
       "      <td>5.764732</td>\n",
       "      <td>5.533686</td>\n",
       "      <td>4.451222</td>\n",
       "      <td>5.860332</td>\n",
       "      <td>4.754421</td>\n",
       "      <td>...</td>\n",
       "      <td>4.082406</td>\n",
       "      <td>6.066327</td>\n",
       "      <td>2.686215</td>\n",
       "      <td>8.400088</td>\n",
       "      <td>8.523630</td>\n",
       "      <td>5.914005</td>\n",
       "      <td>Training</td>\n",
       "      <td>2725666.0</td>\n",
       "      <td>126</td>\n",
       "      <td>NaN</td>\n",
       "    </tr>\n",
       "  </tbody>\n",
       "</table>\n",
       "<p>5 rows × 44 columns</p>\n",
       "</div>"
      ],
      "text/plain": [
       "   Component 1  Component 2  Component 3  Component 4  Component 5  \\\n",
       "0     9.004272     3.287887     4.192002     4.919508     2.469864   \n",
       "1     8.953607     2.713383     3.910982     5.377469     3.294208   \n",
       "2     8.881487     3.994849     5.083898     4.709289     2.508067   \n",
       "3     8.991222     4.912221     5.206003     3.655744     2.022998   \n",
       "4     9.022937     5.124177     4.946032     4.268633     2.517056   \n",
       "\n",
       "   Component 6  Component 7  Component 8  Component 9  Component 10  ...  \\\n",
       "0     6.084774     2.985002     7.050509     5.174880      4.042890  ...   \n",
       "1     5.038115     2.905794     6.771725     4.393070      4.581178  ...   \n",
       "2     6.509837     5.318863     3.806595     5.740467      5.450956  ...   \n",
       "3     7.516963     5.696278     2.571991     2.162688     18.361250  ...   \n",
       "4     5.764732     5.533686     4.451222     5.860332      4.754421  ...   \n",
       "\n",
       "   Component 35  Component 36  Component 37  Component 38  Component 39  \\\n",
       "0      4.902360      4.721021      4.917609      5.054856      2.191289   \n",
       "1      5.091610      3.499133      6.066790      4.524912      1.808338   \n",
       "2      4.145268      5.047581      0.187894     10.940918     11.037705   \n",
       "3      5.534949      4.466784      5.424626      4.071472      4.678117   \n",
       "4      4.082406      6.066327      2.686215      8.400088      8.523630   \n",
       "\n",
       "   Component 40       Set     Target  KMeans Cluster  Media Cluster  \n",
       "0      3.794339  Training  2837493.0             155            NaN  \n",
       "1      3.722527  Training    50422.0              48            NaN  \n",
       "2      8.796391  Training    41899.0              69            NaN  \n",
       "3      6.487770  Training   433287.0             161            NaN  \n",
       "4      5.914005  Training  2725666.0             126            NaN  \n",
       "\n",
       "[5 rows x 44 columns]"
      ]
     },
     "execution_count": 18,
     "metadata": {},
     "output_type": "execute_result"
    }
   ],
   "source": [
    "# Training data\n",
    "train_df = pd.DataFrame(X_train_transformed, columns=[f\"Component {i+1}\" for i in range(X_train_transformed.shape[1])])\n",
    "train_df['Set'] = 'Training'\n",
    "y_train_labels = list(y_train)\n",
    "train_df['Target'] = y_train_labels\n",
    "train_df['KMeans Cluster'] = training_clusters\n",
    "\n",
    "# Media cluster labels\n",
    "media_clusters = pd.read_csv(os.path.join(DATA_DIR, \"model\", \"media-clusters.csv\"))\n",
    "media_clusters = media_clusters[[\"media_id\", \"Media Cluster\"]]\n",
    "media_clusters = media_clusters.rename(columns={\"media_id\": \"Target\"})\n",
    "target_label_mapping = dict(zip(media_clusters['Target'], media_clusters['Media Cluster']))\n",
    "train_df['Media Cluster'] = train_df['Target'].map(target_label_mapping)\n",
    "\n",
    "train_df.to_csv(os.path.join(DATA_DIR, \"model\", \"param-train-output.csv\"), index=False)\n",
    "\n",
    "print(len(train_df))\n",
    "train_df.head()"
   ]
  },
  {
   "cell_type": "code",
   "execution_count": 19,
   "metadata": {},
   "outputs": [
    {
     "name": "stdout",
     "output_type": "stream",
     "text": [
      "1693\n"
     ]
    },
    {
     "data": {
      "text/html": [
       "<div>\n",
       "<style scoped>\n",
       "    .dataframe tbody tr th:only-of-type {\n",
       "        vertical-align: middle;\n",
       "    }\n",
       "\n",
       "    .dataframe tbody tr th {\n",
       "        vertical-align: top;\n",
       "    }\n",
       "\n",
       "    .dataframe thead th {\n",
       "        text-align: right;\n",
       "    }\n",
       "</style>\n",
       "<table border=\"1\" class=\"dataframe\">\n",
       "  <thead>\n",
       "    <tr style=\"text-align: right;\">\n",
       "      <th></th>\n",
       "      <th>Component 1</th>\n",
       "      <th>Component 2</th>\n",
       "      <th>Component 3</th>\n",
       "      <th>Component 4</th>\n",
       "      <th>Component 5</th>\n",
       "      <th>Component 6</th>\n",
       "      <th>Component 7</th>\n",
       "      <th>Component 8</th>\n",
       "      <th>Component 9</th>\n",
       "      <th>Component 10</th>\n",
       "      <th>...</th>\n",
       "      <th>Component 36</th>\n",
       "      <th>Component 37</th>\n",
       "      <th>Component 38</th>\n",
       "      <th>Component 39</th>\n",
       "      <th>Component 40</th>\n",
       "      <th>Set</th>\n",
       "      <th>Target</th>\n",
       "      <th>KMeans Cluster</th>\n",
       "      <th>KNN Classify</th>\n",
       "      <th>RF Classify</th>\n",
       "    </tr>\n",
       "  </thead>\n",
       "  <tbody>\n",
       "    <tr>\n",
       "      <th>0</th>\n",
       "      <td>8.351797</td>\n",
       "      <td>0.852247</td>\n",
       "      <td>4.200400</td>\n",
       "      <td>6.035208</td>\n",
       "      <td>5.658079</td>\n",
       "      <td>1.501098</td>\n",
       "      <td>4.478942</td>\n",
       "      <td>4.541025</td>\n",
       "      <td>-9.537567</td>\n",
       "      <td>-1.587987</td>\n",
       "      <td>...</td>\n",
       "      <td>4.002735</td>\n",
       "      <td>6.031918</td>\n",
       "      <td>4.319628</td>\n",
       "      <td>4.336377</td>\n",
       "      <td>5.884031</td>\n",
       "      <td>Test</td>\n",
       "      <td>2656774.0</td>\n",
       "      <td>14</td>\n",
       "      <td>14</td>\n",
       "      <td>14</td>\n",
       "    </tr>\n",
       "    <tr>\n",
       "      <th>1</th>\n",
       "      <td>9.116566</td>\n",
       "      <td>3.335997</td>\n",
       "      <td>4.257720</td>\n",
       "      <td>4.723074</td>\n",
       "      <td>1.800073</td>\n",
       "      <td>7.005590</td>\n",
       "      <td>2.287787</td>\n",
       "      <td>8.147466</td>\n",
       "      <td>5.861635</td>\n",
       "      <td>3.500243</td>\n",
       "      <td>...</td>\n",
       "      <td>5.065358</td>\n",
       "      <td>4.667674</td>\n",
       "      <td>4.838738</td>\n",
       "      <td>1.632623</td>\n",
       "      <td>3.479139</td>\n",
       "      <td>Test</td>\n",
       "      <td>861298.0</td>\n",
       "      <td>61</td>\n",
       "      <td>61</td>\n",
       "      <td>61</td>\n",
       "    </tr>\n",
       "    <tr>\n",
       "      <th>2</th>\n",
       "      <td>9.111436</td>\n",
       "      <td>5.017015</td>\n",
       "      <td>5.145980</td>\n",
       "      <td>4.088708</td>\n",
       "      <td>2.298879</td>\n",
       "      <td>5.916233</td>\n",
       "      <td>5.694280</td>\n",
       "      <td>4.121254</td>\n",
       "      <td>6.122138</td>\n",
       "      <td>4.915298</td>\n",
       "      <td>...</td>\n",
       "      <td>6.641979</td>\n",
       "      <td>3.015048</td>\n",
       "      <td>8.993248</td>\n",
       "      <td>9.296829</td>\n",
       "      <td>5.903651</td>\n",
       "      <td>Test</td>\n",
       "      <td>1424653.0</td>\n",
       "      <td>104</td>\n",
       "      <td>104</td>\n",
       "      <td>104</td>\n",
       "    </tr>\n",
       "    <tr>\n",
       "      <th>3</th>\n",
       "      <td>8.858748</td>\n",
       "      <td>3.893615</td>\n",
       "      <td>5.079161</td>\n",
       "      <td>4.706461</td>\n",
       "      <td>2.423123</td>\n",
       "      <td>6.620136</td>\n",
       "      <td>5.278337</td>\n",
       "      <td>3.814528</td>\n",
       "      <td>5.826170</td>\n",
       "      <td>5.487682</td>\n",
       "      <td>...</td>\n",
       "      <td>5.022187</td>\n",
       "      <td>0.123625</td>\n",
       "      <td>11.073009</td>\n",
       "      <td>11.029669</td>\n",
       "      <td>8.800240</td>\n",
       "      <td>Test</td>\n",
       "      <td>2291845.0</td>\n",
       "      <td>179</td>\n",
       "      <td>179</td>\n",
       "      <td>179</td>\n",
       "    </tr>\n",
       "    <tr>\n",
       "      <th>4</th>\n",
       "      <td>9.079756</td>\n",
       "      <td>5.326394</td>\n",
       "      <td>5.037623</td>\n",
       "      <td>3.765283</td>\n",
       "      <td>2.536642</td>\n",
       "      <td>5.857183</td>\n",
       "      <td>5.595547</td>\n",
       "      <td>3.995820</td>\n",
       "      <td>6.196768</td>\n",
       "      <td>4.771795</td>\n",
       "      <td>...</td>\n",
       "      <td>6.658832</td>\n",
       "      <td>2.868980</td>\n",
       "      <td>8.507398</td>\n",
       "      <td>9.120639</td>\n",
       "      <td>6.301445</td>\n",
       "      <td>Test</td>\n",
       "      <td>80867.0</td>\n",
       "      <td>144</td>\n",
       "      <td>144</td>\n",
       "      <td>144</td>\n",
       "    </tr>\n",
       "  </tbody>\n",
       "</table>\n",
       "<p>5 rows × 45 columns</p>\n",
       "</div>"
      ],
      "text/plain": [
       "   Component 1  Component 2  Component 3  Component 4  Component 5  \\\n",
       "0     8.351797     0.852247     4.200400     6.035208     5.658079   \n",
       "1     9.116566     3.335997     4.257720     4.723074     1.800073   \n",
       "2     9.111436     5.017015     5.145980     4.088708     2.298879   \n",
       "3     8.858748     3.893615     5.079161     4.706461     2.423123   \n",
       "4     9.079756     5.326394     5.037623     3.765283     2.536642   \n",
       "\n",
       "   Component 6  Component 7  Component 8  Component 9  Component 10  ...  \\\n",
       "0     1.501098     4.478942     4.541025    -9.537567     -1.587987  ...   \n",
       "1     7.005590     2.287787     8.147466     5.861635      3.500243  ...   \n",
       "2     5.916233     5.694280     4.121254     6.122138      4.915298  ...   \n",
       "3     6.620136     5.278337     3.814528     5.826170      5.487682  ...   \n",
       "4     5.857183     5.595547     3.995820     6.196768      4.771795  ...   \n",
       "\n",
       "   Component 36  Component 37  Component 38  Component 39  Component 40   Set  \\\n",
       "0      4.002735      6.031918      4.319628      4.336377      5.884031  Test   \n",
       "1      5.065358      4.667674      4.838738      1.632623      3.479139  Test   \n",
       "2      6.641979      3.015048      8.993248      9.296829      5.903651  Test   \n",
       "3      5.022187      0.123625     11.073009     11.029669      8.800240  Test   \n",
       "4      6.658832      2.868980      8.507398      9.120639      6.301445  Test   \n",
       "\n",
       "      Target  KMeans Cluster  KNN Classify  RF Classify  \n",
       "0  2656774.0              14            14           14  \n",
       "1   861298.0              61            61           61  \n",
       "2  1424653.0             104           104          104  \n",
       "3  2291845.0             179           179          179  \n",
       "4    80867.0             144           144          144  \n",
       "\n",
       "[5 rows x 45 columns]"
      ]
     },
     "execution_count": 19,
     "metadata": {},
     "output_type": "execute_result"
    }
   ],
   "source": [
    "# Test data\n",
    "test_df = pd.DataFrame(X_test_transformed, columns=[f\"Component {i+1}\" for i in range(X_test_transformed.shape[1])])\n",
    "test_df['Set'] = 'Test'\n",
    "y_test_labels = list(y_test)\n",
    "test_df['Target'] = y_test_labels\n",
    "test_df['KMeans Cluster'] = test_clusters\n",
    "\n",
    "# Add classifier labels \n",
    "test_df[\"KNN Classify\"] = knc.predict(X_test_transformed)\n",
    "test_df[\"RF Classify\"] = rfc.predict(X_test_transformed)\n",
    "\n",
    "test_df.to_csv(os.path.join(DATA_DIR, \"model\", \"param-test-output.csv\"), index=False)\n",
    "\n",
    "print(len(test_df))\n",
    "test_df.head()"
   ]
  },
  {
   "cell_type": "code",
   "execution_count": 20,
   "metadata": {},
   "outputs": [
    {
     "data": {
      "text/html": [
       "<div>\n",
       "<style scoped>\n",
       "    .dataframe tbody tr th:only-of-type {\n",
       "        vertical-align: middle;\n",
       "    }\n",
       "\n",
       "    .dataframe tbody tr th {\n",
       "        vertical-align: top;\n",
       "    }\n",
       "\n",
       "    .dataframe thead th {\n",
       "        text-align: right;\n",
       "    }\n",
       "</style>\n",
       "<table border=\"1\" class=\"dataframe\">\n",
       "  <thead>\n",
       "    <tr style=\"text-align: right;\">\n",
       "      <th></th>\n",
       "      <th>Component 1</th>\n",
       "      <th>Component 2</th>\n",
       "      <th>Component 3</th>\n",
       "      <th>Component 4</th>\n",
       "      <th>Component 5</th>\n",
       "      <th>Component 6</th>\n",
       "      <th>Component 7</th>\n",
       "      <th>Component 8</th>\n",
       "      <th>Component 9</th>\n",
       "      <th>Component 10</th>\n",
       "      <th>...</th>\n",
       "      <th>Component 39</th>\n",
       "      <th>Component 40</th>\n",
       "      <th>Set</th>\n",
       "      <th>Target</th>\n",
       "      <th>Test Cluster</th>\n",
       "      <th>KNN Classify</th>\n",
       "      <th>RF Classify</th>\n",
       "      <th>indices</th>\n",
       "      <th>neighbor_media_id</th>\n",
       "      <th>neighbor_media_cluster</th>\n",
       "    </tr>\n",
       "  </thead>\n",
       "  <tbody>\n",
       "    <tr>\n",
       "      <th>0</th>\n",
       "      <td>8.351797</td>\n",
       "      <td>0.852247</td>\n",
       "      <td>4.200400</td>\n",
       "      <td>6.035208</td>\n",
       "      <td>5.658079</td>\n",
       "      <td>1.501098</td>\n",
       "      <td>4.478942</td>\n",
       "      <td>4.541025</td>\n",
       "      <td>-9.537567</td>\n",
       "      <td>-1.587987</td>\n",
       "      <td>...</td>\n",
       "      <td>4.336377</td>\n",
       "      <td>5.884031</td>\n",
       "      <td>Test</td>\n",
       "      <td>2656774.0</td>\n",
       "      <td>14</td>\n",
       "      <td>14</td>\n",
       "      <td>14</td>\n",
       "      <td>569</td>\n",
       "      <td>171121.0</td>\n",
       "      <td>NaN</td>\n",
       "    </tr>\n",
       "    <tr>\n",
       "      <th>1</th>\n",
       "      <td>9.116566</td>\n",
       "      <td>3.335997</td>\n",
       "      <td>4.257720</td>\n",
       "      <td>4.723074</td>\n",
       "      <td>1.800073</td>\n",
       "      <td>7.005590</td>\n",
       "      <td>2.287787</td>\n",
       "      <td>8.147466</td>\n",
       "      <td>5.861635</td>\n",
       "      <td>3.500243</td>\n",
       "      <td>...</td>\n",
       "      <td>1.632623</td>\n",
       "      <td>3.479139</td>\n",
       "      <td>Test</td>\n",
       "      <td>861298.0</td>\n",
       "      <td>61</td>\n",
       "      <td>61</td>\n",
       "      <td>61</td>\n",
       "      <td>6206</td>\n",
       "      <td>434086.0</td>\n",
       "      <td>NaN</td>\n",
       "    </tr>\n",
       "    <tr>\n",
       "      <th>2</th>\n",
       "      <td>9.111436</td>\n",
       "      <td>5.017015</td>\n",
       "      <td>5.145980</td>\n",
       "      <td>4.088708</td>\n",
       "      <td>2.298879</td>\n",
       "      <td>5.916233</td>\n",
       "      <td>5.694280</td>\n",
       "      <td>4.121254</td>\n",
       "      <td>6.122138</td>\n",
       "      <td>4.915298</td>\n",
       "      <td>...</td>\n",
       "      <td>9.296829</td>\n",
       "      <td>5.903651</td>\n",
       "      <td>Test</td>\n",
       "      <td>1424653.0</td>\n",
       "      <td>104</td>\n",
       "      <td>104</td>\n",
       "      <td>104</td>\n",
       "      <td>6764</td>\n",
       "      <td>1872427.0</td>\n",
       "      <td>NaN</td>\n",
       "    </tr>\n",
       "    <tr>\n",
       "      <th>3</th>\n",
       "      <td>8.858748</td>\n",
       "      <td>3.893615</td>\n",
       "      <td>5.079161</td>\n",
       "      <td>4.706461</td>\n",
       "      <td>2.423123</td>\n",
       "      <td>6.620136</td>\n",
       "      <td>5.278337</td>\n",
       "      <td>3.814528</td>\n",
       "      <td>5.826170</td>\n",
       "      <td>5.487682</td>\n",
       "      <td>...</td>\n",
       "      <td>11.029669</td>\n",
       "      <td>8.800240</td>\n",
       "      <td>Test</td>\n",
       "      <td>2291845.0</td>\n",
       "      <td>179</td>\n",
       "      <td>179</td>\n",
       "      <td>179</td>\n",
       "      <td>3090</td>\n",
       "      <td>1368476.0</td>\n",
       "      <td>NaN</td>\n",
       "    </tr>\n",
       "    <tr>\n",
       "      <th>4</th>\n",
       "      <td>9.079756</td>\n",
       "      <td>5.326394</td>\n",
       "      <td>5.037623</td>\n",
       "      <td>3.765283</td>\n",
       "      <td>2.536642</td>\n",
       "      <td>5.857183</td>\n",
       "      <td>5.595547</td>\n",
       "      <td>3.995820</td>\n",
       "      <td>6.196768</td>\n",
       "      <td>4.771795</td>\n",
       "      <td>...</td>\n",
       "      <td>9.120639</td>\n",
       "      <td>6.301445</td>\n",
       "      <td>Test</td>\n",
       "      <td>80867.0</td>\n",
       "      <td>144</td>\n",
       "      <td>144</td>\n",
       "      <td>144</td>\n",
       "      <td>3181</td>\n",
       "      <td>203192.0</td>\n",
       "      <td>NaN</td>\n",
       "    </tr>\n",
       "    <tr>\n",
       "      <th>...</th>\n",
       "      <td>...</td>\n",
       "      <td>...</td>\n",
       "      <td>...</td>\n",
       "      <td>...</td>\n",
       "      <td>...</td>\n",
       "      <td>...</td>\n",
       "      <td>...</td>\n",
       "      <td>...</td>\n",
       "      <td>...</td>\n",
       "      <td>...</td>\n",
       "      <td>...</td>\n",
       "      <td>...</td>\n",
       "      <td>...</td>\n",
       "      <td>...</td>\n",
       "      <td>...</td>\n",
       "      <td>...</td>\n",
       "      <td>...</td>\n",
       "      <td>...</td>\n",
       "      <td>...</td>\n",
       "      <td>...</td>\n",
       "      <td>...</td>\n",
       "    </tr>\n",
       "    <tr>\n",
       "      <th>1688</th>\n",
       "      <td>9.010366</td>\n",
       "      <td>3.495401</td>\n",
       "      <td>4.296191</td>\n",
       "      <td>4.768808</td>\n",
       "      <td>2.219537</td>\n",
       "      <td>6.431754</td>\n",
       "      <td>2.903861</td>\n",
       "      <td>7.134174</td>\n",
       "      <td>5.582446</td>\n",
       "      <td>3.923995</td>\n",
       "      <td>...</td>\n",
       "      <td>2.414466</td>\n",
       "      <td>3.649542</td>\n",
       "      <td>Test</td>\n",
       "      <td>54571.0</td>\n",
       "      <td>98</td>\n",
       "      <td>98</td>\n",
       "      <td>98</td>\n",
       "      <td>6083</td>\n",
       "      <td>46160.0</td>\n",
       "      <td>NaN</td>\n",
       "    </tr>\n",
       "    <tr>\n",
       "      <th>1689</th>\n",
       "      <td>8.734777</td>\n",
       "      <td>3.567869</td>\n",
       "      <td>5.073127</td>\n",
       "      <td>4.621852</td>\n",
       "      <td>2.210312</td>\n",
       "      <td>6.963587</td>\n",
       "      <td>5.138412</td>\n",
       "      <td>3.732153</td>\n",
       "      <td>6.045642</td>\n",
       "      <td>5.507172</td>\n",
       "      <td>...</td>\n",
       "      <td>10.935652</td>\n",
       "      <td>8.802583</td>\n",
       "      <td>Test</td>\n",
       "      <td>1982043.0</td>\n",
       "      <td>172</td>\n",
       "      <td>172</td>\n",
       "      <td>172</td>\n",
       "      <td>5675</td>\n",
       "      <td>2043170.0</td>\n",
       "      <td>NaN</td>\n",
       "    </tr>\n",
       "    <tr>\n",
       "      <th>1690</th>\n",
       "      <td>9.207585</td>\n",
       "      <td>5.184787</td>\n",
       "      <td>5.173047</td>\n",
       "      <td>3.904411</td>\n",
       "      <td>2.415402</td>\n",
       "      <td>5.825633</td>\n",
       "      <td>5.749841</td>\n",
       "      <td>3.939510</td>\n",
       "      <td>6.209697</td>\n",
       "      <td>4.803974</td>\n",
       "      <td>...</td>\n",
       "      <td>9.339425</td>\n",
       "      <td>6.032287</td>\n",
       "      <td>Test</td>\n",
       "      <td>83655.0</td>\n",
       "      <td>130</td>\n",
       "      <td>130</td>\n",
       "      <td>130</td>\n",
       "      <td>1757</td>\n",
       "      <td>2746.0</td>\n",
       "      <td>NaN</td>\n",
       "    </tr>\n",
       "    <tr>\n",
       "      <th>1691</th>\n",
       "      <td>8.943792</td>\n",
       "      <td>4.909190</td>\n",
       "      <td>5.250043</td>\n",
       "      <td>3.597408</td>\n",
       "      <td>1.941876</td>\n",
       "      <td>7.594574</td>\n",
       "      <td>5.773794</td>\n",
       "      <td>2.467060</td>\n",
       "      <td>2.043102</td>\n",
       "      <td>18.588192</td>\n",
       "      <td>...</td>\n",
       "      <td>4.670094</td>\n",
       "      <td>6.515646</td>\n",
       "      <td>Test</td>\n",
       "      <td>60133.0</td>\n",
       "      <td>6</td>\n",
       "      <td>6</td>\n",
       "      <td>6</td>\n",
       "      <td>5628</td>\n",
       "      <td>1288121.0</td>\n",
       "      <td>NaN</td>\n",
       "    </tr>\n",
       "    <tr>\n",
       "      <th>1692</th>\n",
       "      <td>9.079217</td>\n",
       "      <td>3.129867</td>\n",
       "      <td>4.612910</td>\n",
       "      <td>5.523386</td>\n",
       "      <td>3.569200</td>\n",
       "      <td>4.551497</td>\n",
       "      <td>4.486280</td>\n",
       "      <td>4.748543</td>\n",
       "      <td>2.746043</td>\n",
       "      <td>4.527690</td>\n",
       "      <td>...</td>\n",
       "      <td>4.277658</td>\n",
       "      <td>5.833610</td>\n",
       "      <td>Test</td>\n",
       "      <td>1868402.0</td>\n",
       "      <td>76</td>\n",
       "      <td>76</td>\n",
       "      <td>76</td>\n",
       "      <td>4254</td>\n",
       "      <td>332055.0</td>\n",
       "      <td>NaN</td>\n",
       "    </tr>\n",
       "  </tbody>\n",
       "</table>\n",
       "<p>1693 rows × 48 columns</p>\n",
       "</div>"
      ],
      "text/plain": [
       "      Component 1  Component 2  Component 3  Component 4  Component 5  \\\n",
       "0        8.351797     0.852247     4.200400     6.035208     5.658079   \n",
       "1        9.116566     3.335997     4.257720     4.723074     1.800073   \n",
       "2        9.111436     5.017015     5.145980     4.088708     2.298879   \n",
       "3        8.858748     3.893615     5.079161     4.706461     2.423123   \n",
       "4        9.079756     5.326394     5.037623     3.765283     2.536642   \n",
       "...           ...          ...          ...          ...          ...   \n",
       "1688     9.010366     3.495401     4.296191     4.768808     2.219537   \n",
       "1689     8.734777     3.567869     5.073127     4.621852     2.210312   \n",
       "1690     9.207585     5.184787     5.173047     3.904411     2.415402   \n",
       "1691     8.943792     4.909190     5.250043     3.597408     1.941876   \n",
       "1692     9.079217     3.129867     4.612910     5.523386     3.569200   \n",
       "\n",
       "      Component 6  Component 7  Component 8  Component 9  Component 10  ...  \\\n",
       "0        1.501098     4.478942     4.541025    -9.537567     -1.587987  ...   \n",
       "1        7.005590     2.287787     8.147466     5.861635      3.500243  ...   \n",
       "2        5.916233     5.694280     4.121254     6.122138      4.915298  ...   \n",
       "3        6.620136     5.278337     3.814528     5.826170      5.487682  ...   \n",
       "4        5.857183     5.595547     3.995820     6.196768      4.771795  ...   \n",
       "...           ...          ...          ...          ...           ...  ...   \n",
       "1688     6.431754     2.903861     7.134174     5.582446      3.923995  ...   \n",
       "1689     6.963587     5.138412     3.732153     6.045642      5.507172  ...   \n",
       "1690     5.825633     5.749841     3.939510     6.209697      4.803974  ...   \n",
       "1691     7.594574     5.773794     2.467060     2.043102     18.588192  ...   \n",
       "1692     4.551497     4.486280     4.748543     2.746043      4.527690  ...   \n",
       "\n",
       "      Component 39  Component 40   Set     Target  Test Cluster  KNN Classify  \\\n",
       "0         4.336377      5.884031  Test  2656774.0            14            14   \n",
       "1         1.632623      3.479139  Test   861298.0            61            61   \n",
       "2         9.296829      5.903651  Test  1424653.0           104           104   \n",
       "3        11.029669      8.800240  Test  2291845.0           179           179   \n",
       "4         9.120639      6.301445  Test    80867.0           144           144   \n",
       "...            ...           ...   ...        ...           ...           ...   \n",
       "1688      2.414466      3.649542  Test    54571.0            98            98   \n",
       "1689     10.935652      8.802583  Test  1982043.0           172           172   \n",
       "1690      9.339425      6.032287  Test    83655.0           130           130   \n",
       "1691      4.670094      6.515646  Test    60133.0             6             6   \n",
       "1692      4.277658      5.833610  Test  1868402.0            76            76   \n",
       "\n",
       "      RF Classify  indices  neighbor_media_id  neighbor_media_cluster  \n",
       "0              14      569           171121.0                     NaN  \n",
       "1              61     6206           434086.0                     NaN  \n",
       "2             104     6764          1872427.0                     NaN  \n",
       "3             179     3090          1368476.0                     NaN  \n",
       "4             144     3181           203192.0                     NaN  \n",
       "...           ...      ...                ...                     ...  \n",
       "1688           98     6083            46160.0                     NaN  \n",
       "1689          172     5675          2043170.0                     NaN  \n",
       "1690          130     1757             2746.0                     NaN  \n",
       "1691            6     5628          1288121.0                     NaN  \n",
       "1692           76     4254           332055.0                     NaN  \n",
       "\n",
       "[1693 rows x 48 columns]"
      ]
     },
     "execution_count": 20,
     "metadata": {},
     "output_type": "execute_result"
    }
   ],
   "source": [
    "# Add nearest neighbor indices to the test dataframe\n",
    "knn_df = test_df.copy()\n",
    "knn_df = knn_df.rename(columns={\"KMeans Cluster\": \"Test Cluster\"})\n",
    "neighbors = pd.DataFrame(indices) # Indices of nearest neighbors from the training set\n",
    "knn_df['indices'] = neighbors[neighbors.columns[0:]].apply(lambda x: ';'.join(x.dropna().astype(str)), axis=1)\n",
    "knn_df[\"indices\"] = knn_df[\"indices\"].str.split(';')\n",
    "knn_df = knn_df.explode(\"indices\")\n",
    "\n",
    "# Add original indices as a column for the train dataframe\n",
    "    # Index maps to original dataframe before train_test_split!\n",
    "    # Randomizes => inaccurate nearest neighbor mapping based on indices (fine if X_test and X_train are defined as in 05-Model-Test)\n",
    "train_index = train_df.copy()\n",
    "train_index = train_index.rename(columns={\"KMeans Cluster\": \"Train Cluster\"})\n",
    "y_train_labels = pd.DataFrame(y_train).reset_index() # reset of index, TODO: ensure this is correct mapping!\n",
    "train_index[\"indices\"] = y_train_labels.index \n",
    "train_index[\"indices\"] = train_index[\"indices\"].astype(str)\n",
    "\n",
    "# Merge to label nearest neighbors\n",
    "left = knn_df.copy()\n",
    "right = train_index[[\"indices\", \"Target\", \"Media Cluster\"]] #\"taxon_id\", \n",
    "right = right.rename(columns={\"Target\": \"neighbor_media_id\", \"Train Cluster\": \"neighbor_cluster\", \"Media Cluster\": \"neighbor_media_cluster\"})\n",
    "merged = pd.merge(left, right, on=\"indices\", how=\"left\")\n",
    "\n",
    "merged.to_csv(os.path.join(DATA_DIR, \"model\", \"param-model-output.csv\"), index=False)\n",
    "merged"
   ]
  },
  {
   "cell_type": "markdown",
   "metadata": {},
   "source": [
    "## Feature Importance"
   ]
  },
  {
   "cell_type": "code",
   "execution_count": 21,
   "metadata": {},
   "outputs": [
    {
     "data": {
      "text/html": [
       "<div align='center'><img src='data:image/png;base64,iVBORw0KGgoAAAANSUhEUgAAABkAAAAWCAYAAAA1vze2AAAAGXRFWHRTb2Z0d2FyZQBBZG9iZSBJbWFnZVJlYWR5ccllPAAAAdxJREFUeNq0Vt1Rg0AQJjcpgBJiBWIFkgoMFYhPPAIVECogPuYpdJBYgXQQrMCUkA50V7+d2ZwXuXPGm9khHLu3f9+3l1nkWNvtNqfHLgpfQ1EUS3tz5nAQ0+NIsiAZSc6eDlI8M3J00B/mDuUKDk6kfOebAgW3pkdD0pFcODGW4gKKvOrAUm04MA4QDt1OEIXU9hDigfS5rC1eS5T90gltck1Xrizo257kgySZcNRzgCSxCvgiE9nckPJo2b/B2AcEkk2OwL8bD8gmOKR1GPbaCUqxEgTq0tLvgb6zfo7+DgYGkkWL2tqLDV4RSITfbHPPfJKIrWz4nJQTMPAWA7IbD6imcNaDeDfgk+4No+wZr40BL3g9eQJJCFqRQ54KiSt72lsLpE3o3MCBSxDuq4yOckU2hKXRuwBH3OyMR4g1UpyTYw6mlmBqNdUXRM1NfyF5EPI6JkcpIDBIX8jX6DR/6ckAZJ0wEAdLR8DEk6OfC1Pp8BKo6TQIwPJbvJ6toK5lmuvJoRtfK6Ym1iRYIarRo2UyYHvRN5qpakR3yoizWrouoyuXXQqI185LCw07op5ZyCRGL99h24InP0e9xdQukEKVmhzrqZuRIfwISB//cP3Wk3f8f/yR+BRgAHu00HjLcEQBAAAAAElFTkSuQmCC' /></div><script charset='utf-8'>/*! For license information please see bundle.js.LICENSE.txt */\n",
       "(()=>{var e={486:function(e,t,n){var r;e=n.nmd(e),function(){var a,i=\"Expected a function\",o=\"__lodash_hash_undefined__\",u=\"__lodash_placeholder__\",l=32,s=128,c=1/0,f=9007199254740991,p=NaN,d=4294967295,h=[[\"ary\",s],[\"bind\",1],[\"bindKey\",2],[\"curry\",8],[\"curryRight\",16],[\"flip\",512],[\"partial\",l],[\"partialRight\",64],[\"rearg\",256]],v=\"[object Arguments]\",g=\"[object Array]\",y=\"[object Boolean]\",m=\"[object Date]\",b=\"[object Error]\",_=\"[object Function]\",w=\"[object GeneratorFunction]\",x=\"[object Map]\",k=\"[object Number]\",S=\"[object Object]\",E=\"[object Promise]\",C=\"[object RegExp]\",T=\"[object Set]\",M=\"[object String]\",N=\"[object Symbol]\",P=\"[object WeakMap]\",z=\"[object ArrayBuffer]\",L=\"[object DataView]\",O=\"[object Float32Array]\",A=\"[object Float64Array]\",F=\"[object Int8Array]\",D=\"[object Int16Array]\",R=\"[object Int32Array]\",j=\"[object Uint8Array]\",U=\"[object Uint8ClampedArray]\",I=\"[object Uint16Array]\",$=\"[object Uint32Array]\",B=/\\b__p \\+= '';/g,W=/\\b(__p \\+=) '' \\+/g,V=/(__e\\(.*?\\)|\\b__t\\)) \\+\\n'';/g,H=/&(?:amp|lt|gt|quot|#39);/g,q=/[&<>\"']/g,Q=RegExp(H.source),Y=RegExp(q.source),G=/<%-([\\s\\S]+?)%>/g,K=/<%([\\s\\S]+?)%>/g,Z=/<%=([\\s\\S]+?)%>/g,X=/\\.|\\[(?:[^[\\]]*|([\"'])(?:(?!\\1)[^\\\\]|\\\\.)*?\\1)\\]/,J=/^\\w*$/,ee=/[^.[\\]]+|\\[(?:(-?\\d+(?:\\.\\d+)?)|([\"'])((?:(?!\\2)[^\\\\]|\\\\.)*?)\\2)\\]|(?=(?:\\.|\\[\\])(?:\\.|\\[\\]|$))/g,te=/[\\\\^$.*+?()[\\]{}|]/g,ne=RegExp(te.source),re=/^\\s+/,ae=/\\s/,ie=/\\{(?:\\n\\/\\* \\[wrapped with .+\\] \\*\\/)?\\n?/,oe=/\\{\\n\\/\\* \\[wrapped with (.+)\\] \\*/,ue=/,? & /,le=/[^\\x00-\\x2f\\x3a-\\x40\\x5b-\\x60\\x7b-\\x7f]+/g,se=/[()=,{}\\[\\]\\/\\s]/,ce=/\\\\(\\\\)?/g,fe=/\\$\\{([^\\\\}]*(?:\\\\.[^\\\\}]*)*)\\}/g,pe=/\\w*$/,de=/^[-+]0x[0-9a-f]+$/i,he=/^0b[01]+$/i,ve=/^\\[object .+?Constructor\\]$/,ge=/^0o[0-7]+$/i,ye=/^(?:0|[1-9]\\d*)$/,me=/[\\xc0-\\xd6\\xd8-\\xf6\\xf8-\\xff\\u0100-\\u017f]/g,be=/($^)/,_e=/['\\n\\r\\u2028\\u2029\\\\]/g,we=\"\\\\ud800-\\\\udfff\",xe=\"\\\\u0300-\\\\u036f\\\\ufe20-\\\\ufe2f\\\\u20d0-\\\\u20ff\",ke=\"\\\\u2700-\\\\u27bf\",Se=\"a-z\\\\xdf-\\\\xf6\\\\xf8-\\\\xff\",Ee=\"A-Z\\\\xc0-\\\\xd6\\\\xd8-\\\\xde\",Ce=\"\\\\ufe0e\\\\ufe0f\",Te=\"\\\\xac\\\\xb1\\\\xd7\\\\xf7\\\\x00-\\\\x2f\\\\x3a-\\\\x40\\\\x5b-\\\\x60\\\\x7b-\\\\xbf\\\\u2000-\\\\u206f \\\\t\\\\x0b\\\\f\\\\xa0\\\\ufeff\\\\n\\\\r\\\\u2028\\\\u2029\\\\u1680\\\\u180e\\\\u2000\\\\u2001\\\\u2002\\\\u2003\\\\u2004\\\\u2005\\\\u2006\\\\u2007\\\\u2008\\\\u2009\\\\u200a\\\\u202f\\\\u205f\\\\u3000\",Me=\"[\"+we+\"]\",Ne=\"[\"+Te+\"]\",Pe=\"[\"+xe+\"]\",ze=\"\\\\d+\",Le=\"[\"+ke+\"]\",Oe=\"[\"+Se+\"]\",Ae=\"[^\"+we+Te+ze+ke+Se+Ee+\"]\",Fe=\"\\\\ud83c[\\\\udffb-\\\\udfff]\",De=\"[^\"+we+\"]\",Re=\"(?:\\\\ud83c[\\\\udde6-\\\\uddff]){2}\",je=\"[\\\\ud800-\\\\udbff][\\\\udc00-\\\\udfff]\",Ue=\"[\"+Ee+\"]\",Ie=\"\\\\u200d\",$e=\"(?:\"+Oe+\"|\"+Ae+\")\",Be=\"(?:\"+Ue+\"|\"+Ae+\")\",We=\"(?:['’](?:d|ll|m|re|s|t|ve))?\",Ve=\"(?:['’](?:D|LL|M|RE|S|T|VE))?\",He=\"(?:\"+Pe+\"|\"+Fe+\")?\",qe=\"[\"+Ce+\"]?\",Qe=qe+He+\"(?:\"+Ie+\"(?:\"+[De,Re,je].join(\"|\")+\")\"+qe+He+\")*\",Ye=\"(?:\"+[Le,Re,je].join(\"|\")+\")\"+Qe,Ge=\"(?:\"+[De+Pe+\"?\",Pe,Re,je,Me].join(\"|\")+\")\",Ke=RegExp(\"['’]\",\"g\"),Ze=RegExp(Pe,\"g\"),Xe=RegExp(Fe+\"(?=\"+Fe+\")|\"+Ge+Qe,\"g\"),Je=RegExp([Ue+\"?\"+Oe+\"+\"+We+\"(?=\"+[Ne,Ue,\"$\"].join(\"|\")+\")\",Be+\"+\"+Ve+\"(?=\"+[Ne,Ue+$e,\"$\"].join(\"|\")+\")\",Ue+\"?\"+$e+\"+\"+We,Ue+\"+\"+Ve,\"\\\\d*(?:1ST|2ND|3RD|(?![123])\\\\dTH)(?=\\\\b|[a-z_])\",\"\\\\d*(?:1st|2nd|3rd|(?![123])\\\\dth)(?=\\\\b|[A-Z_])\",ze,Ye].join(\"|\"),\"g\"),et=RegExp(\"[\"+Ie+we+xe+Ce+\"]\"),tt=/[a-z][A-Z]|[A-Z]{2}[a-z]|[0-9][a-zA-Z]|[a-zA-Z][0-9]|[^a-zA-Z0-9 ]/,nt=[\"Array\",\"Buffer\",\"DataView\",\"Date\",\"Error\",\"Float32Array\",\"Float64Array\",\"Function\",\"Int8Array\",\"Int16Array\",\"Int32Array\",\"Map\",\"Math\",\"Object\",\"Promise\",\"RegExp\",\"Set\",\"String\",\"Symbol\",\"TypeError\",\"Uint8Array\",\"Uint8ClampedArray\",\"Uint16Array\",\"Uint32Array\",\"WeakMap\",\"_\",\"clearTimeout\",\"isFinite\",\"parseInt\",\"setTimeout\"],rt=-1,at={};at[O]=at[A]=at[F]=at[D]=at[R]=at[j]=at[U]=at[I]=at[$]=!0,at[v]=at[g]=at[z]=at[y]=at[L]=at[m]=at[b]=at[_]=at[x]=at[k]=at[S]=at[C]=at[T]=at[M]=at[P]=!1;var it={};it[v]=it[g]=it[z]=it[L]=it[y]=it[m]=it[O]=it[A]=it[F]=it[D]=it[R]=it[x]=it[k]=it[S]=it[C]=it[T]=it[M]=it[N]=it[j]=it[U]=it[I]=it[$]=!0,it[b]=it[_]=it[P]=!1;var ot={\"\\\\\":\"\\\\\",\"'\":\"'\",\"\\n\":\"n\",\"\\r\":\"r\",\"\\u2028\":\"u2028\",\"\\u2029\":\"u2029\"},ut=parseFloat,lt=parseInt,st=\"object\"==typeof n.g&&n.g&&n.g.Object===Object&&n.g,ct=\"object\"==typeof self&&self&&self.Object===Object&&self,ft=st||ct||Function(\"return this\")(),pt=t&&!t.nodeType&&t,dt=pt&&e&&!e.nodeType&&e,ht=dt&&dt.exports===pt,vt=ht&&st.process,gt=function(){try{return dt&&dt.require&&dt.require(\"util\").types||vt&&vt.binding&&vt.binding(\"util\")}catch(e){}}(),yt=gt&&gt.isArrayBuffer,mt=gt&&gt.isDate,bt=gt&&gt.isMap,_t=gt&&gt.isRegExp,wt=gt&&gt.isSet,xt=gt&&gt.isTypedArray;function kt(e,t,n){switch(n.length){case 0:return e.call(t);case 1:return e.call(t,n[0]);case 2:return e.call(t,n[0],n[1]);case 3:return e.call(t,n[0],n[1],n[2])}return e.apply(t,n)}function St(e,t,n,r){for(var a=-1,i=null==e?0:e.length;++a<i;){var o=e[a];t(r,o,n(o),e)}return r}function Et(e,t){for(var n=-1,r=null==e?0:e.length;++n<r&&!1!==t(e[n],n,e););return e}function Ct(e,t){for(var n=null==e?0:e.length;n--&&!1!==t(e[n],n,e););return e}function Tt(e,t){for(var n=-1,r=null==e?0:e.length;++n<r;)if(!t(e[n],n,e))return!1;return!0}function Mt(e,t){for(var n=-1,r=null==e?0:e.length,a=0,i=[];++n<r;){var o=e[n];t(o,n,e)&&(i[a++]=o)}return i}function Nt(e,t){return!(null==e||!e.length)&&Ut(e,t,0)>-1}function Pt(e,t,n){for(var r=-1,a=null==e?0:e.length;++r<a;)if(n(t,e[r]))return!0;return!1}function zt(e,t){for(var n=-1,r=null==e?0:e.length,a=Array(r);++n<r;)a[n]=t(e[n],n,e);return a}function Lt(e,t){for(var n=-1,r=t.length,a=e.length;++n<r;)e[a+n]=t[n];return e}function Ot(e,t,n,r){var a=-1,i=null==e?0:e.length;for(r&&i&&(n=e[++a]);++a<i;)n=t(n,e[a],a,e);return n}function At(e,t,n,r){var a=null==e?0:e.length;for(r&&a&&(n=e[--a]);a--;)n=t(n,e[a],a,e);return n}function Ft(e,t){for(var n=-1,r=null==e?0:e.length;++n<r;)if(t(e[n],n,e))return!0;return!1}var Dt=Wt(\"length\");function Rt(e,t,n){var r;return n(e,(function(e,n,a){if(t(e,n,a))return r=n,!1})),r}function jt(e,t,n,r){for(var a=e.length,i=n+(r?1:-1);r?i--:++i<a;)if(t(e[i],i,e))return i;return-1}function Ut(e,t,n){return t==t?function(e,t,n){for(var r=n-1,a=e.length;++r<a;)if(e[r]===t)return r;return-1}(e,t,n):jt(e,$t,n)}function It(e,t,n,r){for(var a=n-1,i=e.length;++a<i;)if(r(e[a],t))return a;return-1}function $t(e){return e!=e}function Bt(e,t){var n=null==e?0:e.length;return n?qt(e,t)/n:p}function Wt(e){return function(t){return null==t?a:t[e]}}function Vt(e){return function(t){return null==e?a:e[t]}}function Ht(e,t,n,r,a){return a(e,(function(e,a,i){n=r?(r=!1,e):t(n,e,a,i)})),n}function qt(e,t){for(var n,r=-1,i=e.length;++r<i;){var o=t(e[r]);o!==a&&(n=n===a?o:n+o)}return n}function Qt(e,t){for(var n=-1,r=Array(e);++n<e;)r[n]=t(n);return r}function Yt(e){return e?e.slice(0,pn(e)+1).replace(re,\"\"):e}function Gt(e){return function(t){return e(t)}}function Kt(e,t){return zt(t,(function(t){return e[t]}))}function Zt(e,t){return e.has(t)}function Xt(e,t){for(var n=-1,r=e.length;++n<r&&Ut(t,e[n],0)>-1;);return n}function Jt(e,t){for(var n=e.length;n--&&Ut(t,e[n],0)>-1;);return n}var en=Vt({À:\"A\",Á:\"A\",Â:\"A\",Ã:\"A\",Ä:\"A\",Å:\"A\",à:\"a\",á:\"a\",â:\"a\",ã:\"a\",ä:\"a\",å:\"a\",Ç:\"C\",ç:\"c\",Ð:\"D\",ð:\"d\",È:\"E\",É:\"E\",Ê:\"E\",Ë:\"E\",è:\"e\",é:\"e\",ê:\"e\",ë:\"e\",Ì:\"I\",Í:\"I\",Î:\"I\",Ï:\"I\",ì:\"i\",í:\"i\",î:\"i\",ï:\"i\",Ñ:\"N\",ñ:\"n\",Ò:\"O\",Ó:\"O\",Ô:\"O\",Õ:\"O\",Ö:\"O\",Ø:\"O\",ò:\"o\",ó:\"o\",ô:\"o\",õ:\"o\",ö:\"o\",ø:\"o\",Ù:\"U\",Ú:\"U\",Û:\"U\",Ü:\"U\",ù:\"u\",ú:\"u\",û:\"u\",ü:\"u\",Ý:\"Y\",ý:\"y\",ÿ:\"y\",Æ:\"Ae\",æ:\"ae\",Þ:\"Th\",þ:\"th\",ß:\"ss\",Ā:\"A\",Ă:\"A\",Ą:\"A\",ā:\"a\",ă:\"a\",ą:\"a\",Ć:\"C\",Ĉ:\"C\",Ċ:\"C\",Č:\"C\",ć:\"c\",ĉ:\"c\",ċ:\"c\",č:\"c\",Ď:\"D\",Đ:\"D\",ď:\"d\",đ:\"d\",Ē:\"E\",Ĕ:\"E\",Ė:\"E\",Ę:\"E\",Ě:\"E\",ē:\"e\",ĕ:\"e\",ė:\"e\",ę:\"e\",ě:\"e\",Ĝ:\"G\",Ğ:\"G\",Ġ:\"G\",Ģ:\"G\",ĝ:\"g\",ğ:\"g\",ġ:\"g\",ģ:\"g\",Ĥ:\"H\",Ħ:\"H\",ĥ:\"h\",ħ:\"h\",Ĩ:\"I\",Ī:\"I\",Ĭ:\"I\",Į:\"I\",İ:\"I\",ĩ:\"i\",ī:\"i\",ĭ:\"i\",į:\"i\",ı:\"i\",Ĵ:\"J\",ĵ:\"j\",Ķ:\"K\",ķ:\"k\",ĸ:\"k\",Ĺ:\"L\",Ļ:\"L\",Ľ:\"L\",Ŀ:\"L\",Ł:\"L\",ĺ:\"l\",ļ:\"l\",ľ:\"l\",ŀ:\"l\",ł:\"l\",Ń:\"N\",Ņ:\"N\",Ň:\"N\",Ŋ:\"N\",ń:\"n\",ņ:\"n\",ň:\"n\",ŋ:\"n\",Ō:\"O\",Ŏ:\"O\",Ő:\"O\",ō:\"o\",ŏ:\"o\",ő:\"o\",Ŕ:\"R\",Ŗ:\"R\",Ř:\"R\",ŕ:\"r\",ŗ:\"r\",ř:\"r\",Ś:\"S\",Ŝ:\"S\",Ş:\"S\",Š:\"S\",ś:\"s\",ŝ:\"s\",ş:\"s\",š:\"s\",Ţ:\"T\",Ť:\"T\",Ŧ:\"T\",ţ:\"t\",ť:\"t\",ŧ:\"t\",Ũ:\"U\",Ū:\"U\",Ŭ:\"U\",Ů:\"U\",Ű:\"U\",Ų:\"U\",ũ:\"u\",ū:\"u\",ŭ:\"u\",ů:\"u\",ű:\"u\",ų:\"u\",Ŵ:\"W\",ŵ:\"w\",Ŷ:\"Y\",ŷ:\"y\",Ÿ:\"Y\",Ź:\"Z\",Ż:\"Z\",Ž:\"Z\",ź:\"z\",ż:\"z\",ž:\"z\",Ĳ:\"IJ\",ĳ:\"ij\",Œ:\"Oe\",œ:\"oe\",ŉ:\"'n\",ſ:\"s\"}),tn=Vt({\"&\":\"&amp;\",\"<\":\"&lt;\",\">\":\"&gt;\",'\"':\"&quot;\",\"'\":\"&#39;\"});function nn(e){return\"\\\\\"+ot[e]}function rn(e){return et.test(e)}function an(e){var t=-1,n=Array(e.size);return e.forEach((function(e,r){n[++t]=[r,e]})),n}function on(e,t){return function(n){return e(t(n))}}function un(e,t){for(var n=-1,r=e.length,a=0,i=[];++n<r;){var o=e[n];o!==t&&o!==u||(e[n]=u,i[a++]=n)}return i}function ln(e){var t=-1,n=Array(e.size);return e.forEach((function(e){n[++t]=e})),n}function sn(e){var t=-1,n=Array(e.size);return e.forEach((function(e){n[++t]=[e,e]})),n}function cn(e){return rn(e)?function(e){for(var t=Xe.lastIndex=0;Xe.test(e);)++t;return t}(e):Dt(e)}function fn(e){return rn(e)?function(e){return e.match(Xe)||[]}(e):function(e){return e.split(\"\")}(e)}function pn(e){for(var t=e.length;t--&&ae.test(e.charAt(t)););return t}var dn=Vt({\"&amp;\":\"&\",\"&lt;\":\"<\",\"&gt;\":\">\",\"&quot;\":'\"',\"&#39;\":\"'\"}),hn=function e(t){var n,r=(t=null==t?ft:hn.defaults(ft.Object(),t,hn.pick(ft,nt))).Array,ae=t.Date,we=t.Error,xe=t.Function,ke=t.Math,Se=t.Object,Ee=t.RegExp,Ce=t.String,Te=t.TypeError,Me=r.prototype,Ne=xe.prototype,Pe=Se.prototype,ze=t[\"__core-js_shared__\"],Le=Ne.toString,Oe=Pe.hasOwnProperty,Ae=0,Fe=(n=/[^.]+$/.exec(ze&&ze.keys&&ze.keys.IE_PROTO||\"\"))?\"Symbol(src)_1.\"+n:\"\",De=Pe.toString,Re=Le.call(Se),je=ft._,Ue=Ee(\"^\"+Le.call(Oe).replace(te,\"\\\\$&\").replace(/hasOwnProperty|(function).*?(?=\\\\\\()| for .+?(?=\\\\\\])/g,\"$1.*?\")+\"$\"),Ie=ht?t.Buffer:a,$e=t.Symbol,Be=t.Uint8Array,We=Ie?Ie.allocUnsafe:a,Ve=on(Se.getPrototypeOf,Se),He=Se.create,qe=Pe.propertyIsEnumerable,Qe=Me.splice,Ye=$e?$e.isConcatSpreadable:a,Ge=$e?$e.iterator:a,Xe=$e?$e.toStringTag:a,et=function(){try{var e=li(Se,\"defineProperty\");return e({},\"\",{}),e}catch(e){}}(),ot=t.clearTimeout!==ft.clearTimeout&&t.clearTimeout,st=ae&&ae.now!==ft.Date.now&&ae.now,ct=t.setTimeout!==ft.setTimeout&&t.setTimeout,pt=ke.ceil,dt=ke.floor,vt=Se.getOwnPropertySymbols,gt=Ie?Ie.isBuffer:a,Dt=t.isFinite,Vt=Me.join,vn=on(Se.keys,Se),gn=ke.max,yn=ke.min,mn=ae.now,bn=t.parseInt,_n=ke.random,wn=Me.reverse,xn=li(t,\"DataView\"),kn=li(t,\"Map\"),Sn=li(t,\"Promise\"),En=li(t,\"Set\"),Cn=li(t,\"WeakMap\"),Tn=li(Se,\"create\"),Mn=Cn&&new Cn,Nn={},Pn=Di(xn),zn=Di(kn),Ln=Di(Sn),On=Di(En),An=Di(Cn),Fn=$e?$e.prototype:a,Dn=Fn?Fn.valueOf:a,Rn=Fn?Fn.toString:a;function jn(e){if(eu(e)&&!Wo(e)&&!(e instanceof Bn)){if(e instanceof $n)return e;if(Oe.call(e,\"__wrapped__\"))return Ri(e)}return new $n(e)}var Un=function(){function e(){}return function(t){if(!Jo(t))return{};if(He)return He(t);e.prototype=t;var n=new e;return e.prototype=a,n}}();function In(){}function $n(e,t){this.__wrapped__=e,this.__actions__=[],this.__chain__=!!t,this.__index__=0,this.__values__=a}function Bn(e){this.__wrapped__=e,this.__actions__=[],this.__dir__=1,this.__filtered__=!1,this.__iteratees__=[],this.__takeCount__=d,this.__views__=[]}function Wn(e){var t=-1,n=null==e?0:e.length;for(this.clear();++t<n;){var r=e[t];this.set(r[0],r[1])}}function Vn(e){var t=-1,n=null==e?0:e.length;for(this.clear();++t<n;){var r=e[t];this.set(r[0],r[1])}}function Hn(e){var t=-1,n=null==e?0:e.length;for(this.clear();++t<n;){var r=e[t];this.set(r[0],r[1])}}function qn(e){var t=-1,n=null==e?0:e.length;for(this.__data__=new Hn;++t<n;)this.add(e[t])}function Qn(e){var t=this.__data__=new Vn(e);this.size=t.size}function Yn(e,t){var n=Wo(e),r=!n&&Bo(e),a=!n&&!r&&Qo(e),i=!n&&!r&&!a&&lu(e),o=n||r||a||i,u=o?Qt(e.length,Ce):[],l=u.length;for(var s in e)!t&&!Oe.call(e,s)||o&&(\"length\"==s||a&&(\"offset\"==s||\"parent\"==s)||i&&(\"buffer\"==s||\"byteLength\"==s||\"byteOffset\"==s)||vi(s,l))||u.push(s);return u}function Gn(e){var t=e.length;return t?e[Hr(0,t-1)]:a}function Kn(e,t){return zi(Ca(e),ir(t,0,e.length))}function Zn(e){return zi(Ca(e))}function Xn(e,t,n){(n!==a&&!Uo(e[t],n)||n===a&&!(t in e))&&rr(e,t,n)}function Jn(e,t,n){var r=e[t];Oe.call(e,t)&&Uo(r,n)&&(n!==a||t in e)||rr(e,t,n)}function er(e,t){for(var n=e.length;n--;)if(Uo(e[n][0],t))return n;return-1}function tr(e,t,n,r){return cr(e,(function(e,a,i){t(r,e,n(e),i)})),r}function nr(e,t){return e&&Ta(t,Pu(t),e)}function rr(e,t,n){\"__proto__\"==t&&et?et(e,t,{configurable:!0,enumerable:!0,value:n,writable:!0}):e[t]=n}function ar(e,t){for(var n=-1,i=t.length,o=r(i),u=null==e;++n<i;)o[n]=u?a:Eu(e,t[n]);return o}function ir(e,t,n){return e==e&&(n!==a&&(e=e<=n?e:n),t!==a&&(e=e>=t?e:t)),e}function or(e,t,n,r,i,o){var u,l=1&t,s=2&t,c=4&t;if(n&&(u=i?n(e,r,i,o):n(e)),u!==a)return u;if(!Jo(e))return e;var f=Wo(e);if(f){if(u=function(e){var t=e.length,n=new e.constructor(t);return t&&\"string\"==typeof e[0]&&Oe.call(e,\"index\")&&(n.index=e.index,n.input=e.input),n}(e),!l)return Ca(e,u)}else{var p=fi(e),d=p==_||p==w;if(Qo(e))return _a(e,l);if(p==S||p==v||d&&!i){if(u=s||d?{}:di(e),!l)return s?function(e,t){return Ta(e,ci(e),t)}(e,function(e,t){return e&&Ta(t,zu(t),e)}(u,e)):function(e,t){return Ta(e,si(e),t)}(e,nr(u,e))}else{if(!it[p])return i?e:{};u=function(e,t,n){var r,a=e.constructor;switch(t){case z:return wa(e);case y:case m:return new a(+e);case L:return function(e,t){var n=t?wa(e.buffer):e.buffer;return new e.constructor(n,e.byteOffset,e.byteLength)}(e,n);case O:case A:case F:case D:case R:case j:case U:case I:case $:return xa(e,n);case x:return new a;case k:case M:return new a(e);case C:return function(e){var t=new e.constructor(e.source,pe.exec(e));return t.lastIndex=e.lastIndex,t}(e);case T:return new a;case N:return r=e,Dn?Se(Dn.call(r)):{}}}(e,p,l)}}o||(o=new Qn);var h=o.get(e);if(h)return h;o.set(e,u),iu(e)?e.forEach((function(r){u.add(or(r,t,n,r,e,o))})):tu(e)&&e.forEach((function(r,a){u.set(a,or(r,t,n,a,e,o))}));var g=f?a:(c?s?ti:ei:s?zu:Pu)(e);return Et(g||e,(function(r,a){g&&(r=e[a=r]),Jn(u,a,or(r,t,n,a,e,o))})),u}function ur(e,t,n){var r=n.length;if(null==e)return!r;for(e=Se(e);r--;){var i=n[r],o=t[i],u=e[i];if(u===a&&!(i in e)||!o(u))return!1}return!0}function lr(e,t,n){if(\"function\"!=typeof e)throw new Te(i);return Ti((function(){e.apply(a,n)}),t)}function sr(e,t,n,r){var a=-1,i=Nt,o=!0,u=e.length,l=[],s=t.length;if(!u)return l;n&&(t=zt(t,Gt(n))),r?(i=Pt,o=!1):t.length>=200&&(i=Zt,o=!1,t=new qn(t));e:for(;++a<u;){var c=e[a],f=null==n?c:n(c);if(c=r||0!==c?c:0,o&&f==f){for(var p=s;p--;)if(t[p]===f)continue e;l.push(c)}else i(t,f,r)||l.push(c)}return l}jn.templateSettings={escape:G,evaluate:K,interpolate:Z,variable:\"\",imports:{_:jn}},jn.prototype=In.prototype,jn.prototype.constructor=jn,$n.prototype=Un(In.prototype),$n.prototype.constructor=$n,Bn.prototype=Un(In.prototype),Bn.prototype.constructor=Bn,Wn.prototype.clear=function(){this.__data__=Tn?Tn(null):{},this.size=0},Wn.prototype.delete=function(e){var t=this.has(e)&&delete this.__data__[e];return this.size-=t?1:0,t},Wn.prototype.get=function(e){var t=this.__data__;if(Tn){var n=t[e];return n===o?a:n}return Oe.call(t,e)?t[e]:a},Wn.prototype.has=function(e){var t=this.__data__;return Tn?t[e]!==a:Oe.call(t,e)},Wn.prototype.set=function(e,t){var n=this.__data__;return this.size+=this.has(e)?0:1,n[e]=Tn&&t===a?o:t,this},Vn.prototype.clear=function(){this.__data__=[],this.size=0},Vn.prototype.delete=function(e){var t=this.__data__,n=er(t,e);return!(n<0||(n==t.length-1?t.pop():Qe.call(t,n,1),--this.size,0))},Vn.prototype.get=function(e){var t=this.__data__,n=er(t,e);return n<0?a:t[n][1]},Vn.prototype.has=function(e){return er(this.__data__,e)>-1},Vn.prototype.set=function(e,t){var n=this.__data__,r=er(n,e);return r<0?(++this.size,n.push([e,t])):n[r][1]=t,this},Hn.prototype.clear=function(){this.size=0,this.__data__={hash:new Wn,map:new(kn||Vn),string:new Wn}},Hn.prototype.delete=function(e){var t=oi(this,e).delete(e);return this.size-=t?1:0,t},Hn.prototype.get=function(e){return oi(this,e).get(e)},Hn.prototype.has=function(e){return oi(this,e).has(e)},Hn.prototype.set=function(e,t){var n=oi(this,e),r=n.size;return n.set(e,t),this.size+=n.size==r?0:1,this},qn.prototype.add=qn.prototype.push=function(e){return this.__data__.set(e,o),this},qn.prototype.has=function(e){return this.__data__.has(e)},Qn.prototype.clear=function(){this.__data__=new Vn,this.size=0},Qn.prototype.delete=function(e){var t=this.__data__,n=t.delete(e);return this.size=t.size,n},Qn.prototype.get=function(e){return this.__data__.get(e)},Qn.prototype.has=function(e){return this.__data__.has(e)},Qn.prototype.set=function(e,t){var n=this.__data__;if(n instanceof Vn){var r=n.__data__;if(!kn||r.length<199)return r.push([e,t]),this.size=++n.size,this;n=this.__data__=new Hn(r)}return n.set(e,t),this.size=n.size,this};var cr=Pa(mr),fr=Pa(br,!0);function pr(e,t){var n=!0;return cr(e,(function(e,r,a){return n=!!t(e,r,a)})),n}function dr(e,t,n){for(var r=-1,i=e.length;++r<i;){var o=e[r],u=t(o);if(null!=u&&(l===a?u==u&&!uu(u):n(u,l)))var l=u,s=o}return s}function hr(e,t){var n=[];return cr(e,(function(e,r,a){t(e,r,a)&&n.push(e)})),n}function vr(e,t,n,r,a){var i=-1,o=e.length;for(n||(n=hi),a||(a=[]);++i<o;){var u=e[i];t>0&&n(u)?t>1?vr(u,t-1,n,r,a):Lt(a,u):r||(a[a.length]=u)}return a}var gr=za(),yr=za(!0);function mr(e,t){return e&&gr(e,t,Pu)}function br(e,t){return e&&yr(e,t,Pu)}function _r(e,t){return Mt(t,(function(t){return Ko(e[t])}))}function wr(e,t){for(var n=0,r=(t=ga(t,e)).length;null!=e&&n<r;)e=e[Fi(t[n++])];return n&&n==r?e:a}function xr(e,t,n){var r=t(e);return Wo(e)?r:Lt(r,n(e))}function kr(e){return null==e?e===a?\"[object Undefined]\":\"[object Null]\":Xe&&Xe in Se(e)?function(e){var t=Oe.call(e,Xe),n=e[Xe];try{e[Xe]=a;var r=!0}catch(e){}var i=De.call(e);return r&&(t?e[Xe]=n:delete e[Xe]),i}(e):function(e){return De.call(e)}(e)}function Sr(e,t){return e>t}function Er(e,t){return null!=e&&Oe.call(e,t)}function Cr(e,t){return null!=e&&t in Se(e)}function Tr(e,t,n){for(var i=n?Pt:Nt,o=e[0].length,u=e.length,l=u,s=r(u),c=1/0,f=[];l--;){var p=e[l];l&&t&&(p=zt(p,Gt(t))),c=yn(p.length,c),s[l]=!n&&(t||o>=120&&p.length>=120)?new qn(l&&p):a}p=e[0];var d=-1,h=s[0];e:for(;++d<o&&f.length<c;){var v=p[d],g=t?t(v):v;if(v=n||0!==v?v:0,!(h?Zt(h,g):i(f,g,n))){for(l=u;--l;){var y=s[l];if(!(y?Zt(y,g):i(e[l],g,n)))continue e}h&&h.push(g),f.push(v)}}return f}function Mr(e,t,n){var r=null==(e=Si(e,t=ga(t,e)))?e:e[Fi(Yi(t))];return null==r?a:kt(r,e,n)}function Nr(e){return eu(e)&&kr(e)==v}function Pr(e,t,n,r,i){return e===t||(null==e||null==t||!eu(e)&&!eu(t)?e!=e&&t!=t:function(e,t,n,r,i,o){var u=Wo(e),l=Wo(t),s=u?g:fi(e),c=l?g:fi(t),f=(s=s==v?S:s)==S,p=(c=c==v?S:c)==S,d=s==c;if(d&&Qo(e)){if(!Qo(t))return!1;u=!0,f=!1}if(d&&!f)return o||(o=new Qn),u||lu(e)?Xa(e,t,n,r,i,o):function(e,t,n,r,a,i,o){switch(n){case L:if(e.byteLength!=t.byteLength||e.byteOffset!=t.byteOffset)return!1;e=e.buffer,t=t.buffer;case z:return!(e.byteLength!=t.byteLength||!i(new Be(e),new Be(t)));case y:case m:case k:return Uo(+e,+t);case b:return e.name==t.name&&e.message==t.message;case C:case M:return e==t+\"\";case x:var u=an;case T:var l=1&r;if(u||(u=ln),e.size!=t.size&&!l)return!1;var s=o.get(e);if(s)return s==t;r|=2,o.set(e,t);var c=Xa(u(e),u(t),r,a,i,o);return o.delete(e),c;case N:if(Dn)return Dn.call(e)==Dn.call(t)}return!1}(e,t,s,n,r,i,o);if(!(1&n)){var h=f&&Oe.call(e,\"__wrapped__\"),_=p&&Oe.call(t,\"__wrapped__\");if(h||_){var w=h?e.value():e,E=_?t.value():t;return o||(o=new Qn),i(w,E,n,r,o)}}return!!d&&(o||(o=new Qn),function(e,t,n,r,i,o){var u=1&n,l=ei(e),s=l.length;if(s!=ei(t).length&&!u)return!1;for(var c=s;c--;){var f=l[c];if(!(u?f in t:Oe.call(t,f)))return!1}var p=o.get(e),d=o.get(t);if(p&&d)return p==t&&d==e;var h=!0;o.set(e,t),o.set(t,e);for(var v=u;++c<s;){var g=e[f=l[c]],y=t[f];if(r)var m=u?r(y,g,f,t,e,o):r(g,y,f,e,t,o);if(!(m===a?g===y||i(g,y,n,r,o):m)){h=!1;break}v||(v=\"constructor\"==f)}if(h&&!v){var b=e.constructor,_=t.constructor;b==_||!(\"constructor\"in e)||!(\"constructor\"in t)||\"function\"==typeof b&&b instanceof b&&\"function\"==typeof _&&_ instanceof _||(h=!1)}return o.delete(e),o.delete(t),h}(e,t,n,r,i,o))}(e,t,n,r,Pr,i))}function zr(e,t,n,r){var i=n.length,o=i,u=!r;if(null==e)return!o;for(e=Se(e);i--;){var l=n[i];if(u&&l[2]?l[1]!==e[l[0]]:!(l[0]in e))return!1}for(;++i<o;){var s=(l=n[i])[0],c=e[s],f=l[1];if(u&&l[2]){if(c===a&&!(s in e))return!1}else{var p=new Qn;if(r)var d=r(c,f,s,e,t,p);if(!(d===a?Pr(f,c,3,r,p):d))return!1}}return!0}function Lr(e){return!(!Jo(e)||(t=e,Fe&&Fe in t))&&(Ko(e)?Ue:ve).test(Di(e));var t}function Or(e){return\"function\"==typeof e?e:null==e?nl:\"object\"==typeof e?Wo(e)?jr(e[0],e[1]):Rr(e):fl(e)}function Ar(e){if(!_i(e))return vn(e);var t=[];for(var n in Se(e))Oe.call(e,n)&&\"constructor\"!=n&&t.push(n);return t}function Fr(e,t){return e<t}function Dr(e,t){var n=-1,a=Ho(e)?r(e.length):[];return cr(e,(function(e,r,i){a[++n]=t(e,r,i)})),a}function Rr(e){var t=ui(e);return 1==t.length&&t[0][2]?xi(t[0][0],t[0][1]):function(n){return n===e||zr(n,e,t)}}function jr(e,t){return yi(e)&&wi(t)?xi(Fi(e),t):function(n){var r=Eu(n,e);return r===a&&r===t?Cu(n,e):Pr(t,r,3)}}function Ur(e,t,n,r,i){e!==t&&gr(t,(function(o,u){if(i||(i=new Qn),Jo(o))!function(e,t,n,r,i,o,u){var l=Ei(e,n),s=Ei(t,n),c=u.get(s);if(c)Xn(e,n,c);else{var f=o?o(l,s,n+\"\",e,t,u):a,p=f===a;if(p){var d=Wo(s),h=!d&&Qo(s),v=!d&&!h&&lu(s);f=s,d||h||v?Wo(l)?f=l:qo(l)?f=Ca(l):h?(p=!1,f=_a(s,!0)):v?(p=!1,f=xa(s,!0)):f=[]:ru(s)||Bo(s)?(f=l,Bo(l)?f=gu(l):Jo(l)&&!Ko(l)||(f=di(s))):p=!1}p&&(u.set(s,f),i(f,s,r,o,u),u.delete(s)),Xn(e,n,f)}}(e,t,u,n,Ur,r,i);else{var l=r?r(Ei(e,u),o,u+\"\",e,t,i):a;l===a&&(l=o),Xn(e,u,l)}}),zu)}function Ir(e,t){var n=e.length;if(n)return vi(t+=t<0?n:0,n)?e[t]:a}function $r(e,t,n){t=t.length?zt(t,(function(e){return Wo(e)?function(t){return wr(t,1===e.length?e[0]:e)}:e})):[nl];var r=-1;t=zt(t,Gt(ii()));var a=Dr(e,(function(e,n,a){var i=zt(t,(function(t){return t(e)}));return{criteria:i,index:++r,value:e}}));return function(e,t){var r=e.length;for(e.sort((function(e,t){return function(e,t,n){for(var r=-1,a=e.criteria,i=t.criteria,o=a.length,u=n.length;++r<o;){var l=ka(a[r],i[r]);if(l)return r>=u?l:l*(\"desc\"==n[r]?-1:1)}return e.index-t.index}(e,t,n)}));r--;)e[r]=e[r].value;return e}(a)}function Br(e,t,n){for(var r=-1,a=t.length,i={};++r<a;){var o=t[r],u=wr(e,o);n(u,o)&&Kr(i,ga(o,e),u)}return i}function Wr(e,t,n,r){var a=r?It:Ut,i=-1,o=t.length,u=e;for(e===t&&(t=Ca(t)),n&&(u=zt(e,Gt(n)));++i<o;)for(var l=0,s=t[i],c=n?n(s):s;(l=a(u,c,l,r))>-1;)u!==e&&Qe.call(u,l,1),Qe.call(e,l,1);return e}function Vr(e,t){for(var n=e?t.length:0,r=n-1;n--;){var a=t[n];if(n==r||a!==i){var i=a;vi(a)?Qe.call(e,a,1):la(e,a)}}return e}function Hr(e,t){return e+dt(_n()*(t-e+1))}function qr(e,t){var n=\"\";if(!e||t<1||t>f)return n;do{t%2&&(n+=e),(t=dt(t/2))&&(e+=e)}while(t);return n}function Qr(e,t){return Mi(ki(e,t,nl),e+\"\")}function Yr(e){return Gn(Uu(e))}function Gr(e,t){var n=Uu(e);return zi(n,ir(t,0,n.length))}function Kr(e,t,n,r){if(!Jo(e))return e;for(var i=-1,o=(t=ga(t,e)).length,u=o-1,l=e;null!=l&&++i<o;){var s=Fi(t[i]),c=n;if(\"__proto__\"===s||\"constructor\"===s||\"prototype\"===s)return e;if(i!=u){var f=l[s];(c=r?r(f,s,l):a)===a&&(c=Jo(f)?f:vi(t[i+1])?[]:{})}Jn(l,s,c),l=l[s]}return e}var Zr=Mn?function(e,t){return Mn.set(e,t),e}:nl,Xr=et?function(e,t){return et(e,\"toString\",{configurable:!0,enumerable:!1,value:Ju(t),writable:!0})}:nl;function Jr(e){return zi(Uu(e))}function ea(e,t,n){var a=-1,i=e.length;t<0&&(t=-t>i?0:i+t),(n=n>i?i:n)<0&&(n+=i),i=t>n?0:n-t>>>0,t>>>=0;for(var o=r(i);++a<i;)o[a]=e[a+t];return o}function ta(e,t){var n;return cr(e,(function(e,r,a){return!(n=t(e,r,a))})),!!n}function na(e,t,n){var r=0,a=null==e?r:e.length;if(\"number\"==typeof t&&t==t&&a<=2147483647){for(;r<a;){var i=r+a>>>1,o=e[i];null!==o&&!uu(o)&&(n?o<=t:o<t)?r=i+1:a=i}return a}return ra(e,t,nl,n)}function ra(e,t,n,r){var i=0,o=null==e?0:e.length;if(0===o)return 0;for(var u=(t=n(t))!=t,l=null===t,s=uu(t),c=t===a;i<o;){var f=dt((i+o)/2),p=n(e[f]),d=p!==a,h=null===p,v=p==p,g=uu(p);if(u)var y=r||v;else y=c?v&&(r||d):l?v&&d&&(r||!h):s?v&&d&&!h&&(r||!g):!h&&!g&&(r?p<=t:p<t);y?i=f+1:o=f}return yn(o,4294967294)}function aa(e,t){for(var n=-1,r=e.length,a=0,i=[];++n<r;){var o=e[n],u=t?t(o):o;if(!n||!Uo(u,l)){var l=u;i[a++]=0===o?0:o}}return i}function ia(e){return\"number\"==typeof e?e:uu(e)?p:+e}function oa(e){if(\"string\"==typeof e)return e;if(Wo(e))return zt(e,oa)+\"\";if(uu(e))return Rn?Rn.call(e):\"\";var t=e+\"\";return\"0\"==t&&1/e==-1/0?\"-0\":t}function ua(e,t,n){var r=-1,a=Nt,i=e.length,o=!0,u=[],l=u;if(n)o=!1,a=Pt;else if(i>=200){var s=t?null:qa(e);if(s)return ln(s);o=!1,a=Zt,l=new qn}else l=t?[]:u;e:for(;++r<i;){var c=e[r],f=t?t(c):c;if(c=n||0!==c?c:0,o&&f==f){for(var p=l.length;p--;)if(l[p]===f)continue e;t&&l.push(f),u.push(c)}else a(l,f,n)||(l!==u&&l.push(f),u.push(c))}return u}function la(e,t){return null==(e=Si(e,t=ga(t,e)))||delete e[Fi(Yi(t))]}function sa(e,t,n,r){return Kr(e,t,n(wr(e,t)),r)}function ca(e,t,n,r){for(var a=e.length,i=r?a:-1;(r?i--:++i<a)&&t(e[i],i,e););return n?ea(e,r?0:i,r?i+1:a):ea(e,r?i+1:0,r?a:i)}function fa(e,t){var n=e;return n instanceof Bn&&(n=n.value()),Ot(t,(function(e,t){return t.func.apply(t.thisArg,Lt([e],t.args))}),n)}function pa(e,t,n){var a=e.length;if(a<2)return a?ua(e[0]):[];for(var i=-1,o=r(a);++i<a;)for(var u=e[i],l=-1;++l<a;)l!=i&&(o[i]=sr(o[i]||u,e[l],t,n));return ua(vr(o,1),t,n)}function da(e,t,n){for(var r=-1,i=e.length,o=t.length,u={};++r<i;){var l=r<o?t[r]:a;n(u,e[r],l)}return u}function ha(e){return qo(e)?e:[]}function va(e){return\"function\"==typeof e?e:nl}function ga(e,t){return Wo(e)?e:yi(e,t)?[e]:Ai(yu(e))}var ya=Qr;function ma(e,t,n){var r=e.length;return n=n===a?r:n,!t&&n>=r?e:ea(e,t,n)}var ba=ot||function(e){return ft.clearTimeout(e)};function _a(e,t){if(t)return e.slice();var n=e.length,r=We?We(n):new e.constructor(n);return e.copy(r),r}function wa(e){var t=new e.constructor(e.byteLength);return new Be(t).set(new Be(e)),t}function xa(e,t){var n=t?wa(e.buffer):e.buffer;return new e.constructor(n,e.byteOffset,e.length)}function ka(e,t){if(e!==t){var n=e!==a,r=null===e,i=e==e,o=uu(e),u=t!==a,l=null===t,s=t==t,c=uu(t);if(!l&&!c&&!o&&e>t||o&&u&&s&&!l&&!c||r&&u&&s||!n&&s||!i)return 1;if(!r&&!o&&!c&&e<t||c&&n&&i&&!r&&!o||l&&n&&i||!u&&i||!s)return-1}return 0}function Sa(e,t,n,a){for(var i=-1,o=e.length,u=n.length,l=-1,s=t.length,c=gn(o-u,0),f=r(s+c),p=!a;++l<s;)f[l]=t[l];for(;++i<u;)(p||i<o)&&(f[n[i]]=e[i]);for(;c--;)f[l++]=e[i++];return f}function Ea(e,t,n,a){for(var i=-1,o=e.length,u=-1,l=n.length,s=-1,c=t.length,f=gn(o-l,0),p=r(f+c),d=!a;++i<f;)p[i]=e[i];for(var h=i;++s<c;)p[h+s]=t[s];for(;++u<l;)(d||i<o)&&(p[h+n[u]]=e[i++]);return p}function Ca(e,t){var n=-1,a=e.length;for(t||(t=r(a));++n<a;)t[n]=e[n];return t}function Ta(e,t,n,r){var i=!n;n||(n={});for(var o=-1,u=t.length;++o<u;){var l=t[o],s=r?r(n[l],e[l],l,n,e):a;s===a&&(s=e[l]),i?rr(n,l,s):Jn(n,l,s)}return n}function Ma(e,t){return function(n,r){var a=Wo(n)?St:tr,i=t?t():{};return a(n,e,ii(r,2),i)}}function Na(e){return Qr((function(t,n){var r=-1,i=n.length,o=i>1?n[i-1]:a,u=i>2?n[2]:a;for(o=e.length>3&&\"function\"==typeof o?(i--,o):a,u&&gi(n[0],n[1],u)&&(o=i<3?a:o,i=1),t=Se(t);++r<i;){var l=n[r];l&&e(t,l,r,o)}return t}))}function Pa(e,t){return function(n,r){if(null==n)return n;if(!Ho(n))return e(n,r);for(var a=n.length,i=t?a:-1,o=Se(n);(t?i--:++i<a)&&!1!==r(o[i],i,o););return n}}function za(e){return function(t,n,r){for(var a=-1,i=Se(t),o=r(t),u=o.length;u--;){var l=o[e?u:++a];if(!1===n(i[l],l,i))break}return t}}function La(e){return function(t){var n=rn(t=yu(t))?fn(t):a,r=n?n[0]:t.charAt(0),i=n?ma(n,1).join(\"\"):t.slice(1);return r[e]()+i}}function Oa(e){return function(t){return Ot(Ku(Bu(t).replace(Ke,\"\")),e,\"\")}}function Aa(e){return function(){var t=arguments;switch(t.length){case 0:return new e;case 1:return new e(t[0]);case 2:return new e(t[0],t[1]);case 3:return new e(t[0],t[1],t[2]);case 4:return new e(t[0],t[1],t[2],t[3]);case 5:return new e(t[0],t[1],t[2],t[3],t[4]);case 6:return new e(t[0],t[1],t[2],t[3],t[4],t[5]);case 7:return new e(t[0],t[1],t[2],t[3],t[4],t[5],t[6])}var n=Un(e.prototype),r=e.apply(n,t);return Jo(r)?r:n}}function Fa(e){return function(t,n,r){var i=Se(t);if(!Ho(t)){var o=ii(n,3);t=Pu(t),n=function(e){return o(i[e],e,i)}}var u=e(t,n,r);return u>-1?i[o?t[u]:u]:a}}function Da(e){return Ja((function(t){var n=t.length,r=n,o=$n.prototype.thru;for(e&&t.reverse();r--;){var u=t[r];if(\"function\"!=typeof u)throw new Te(i);if(o&&!l&&\"wrapper\"==ri(u))var l=new $n([],!0)}for(r=l?r:n;++r<n;){var s=ri(u=t[r]),c=\"wrapper\"==s?ni(u):a;l=c&&mi(c[0])&&424==c[1]&&!c[4].length&&1==c[9]?l[ri(c[0])].apply(l,c[3]):1==u.length&&mi(u)?l[s]():l.thru(u)}return function(){var e=arguments,r=e[0];if(l&&1==e.length&&Wo(r))return l.plant(r).value();for(var a=0,i=n?t[a].apply(this,e):r;++a<n;)i=t[a].call(this,i);return i}}))}function Ra(e,t,n,i,o,u,l,c,f,p){var d=t&s,h=1&t,v=2&t,g=24&t,y=512&t,m=v?a:Aa(e);return function s(){for(var b=arguments.length,_=r(b),w=b;w--;)_[w]=arguments[w];if(g)var x=ai(s),k=function(e,t){for(var n=e.length,r=0;n--;)e[n]===t&&++r;return r}(_,x);if(i&&(_=Sa(_,i,o,g)),u&&(_=Ea(_,u,l,g)),b-=k,g&&b<p){var S=un(_,x);return Va(e,t,Ra,s.placeholder,n,_,S,c,f,p-b)}var E=h?n:this,C=v?E[e]:e;return b=_.length,c?_=function(e,t){for(var n=e.length,r=yn(t.length,n),i=Ca(e);r--;){var o=t[r];e[r]=vi(o,n)?i[o]:a}return e}(_,c):y&&b>1&&_.reverse(),d&&f<b&&(_.length=f),this&&this!==ft&&this instanceof s&&(C=m||Aa(C)),C.apply(E,_)}}function ja(e,t){return function(n,r){return function(e,t,n,r){return mr(e,(function(e,a,i){t(r,n(e),a,i)})),r}(n,e,t(r),{})}}function Ua(e,t){return function(n,r){var i;if(n===a&&r===a)return t;if(n!==a&&(i=n),r!==a){if(i===a)return r;\"string\"==typeof n||\"string\"==typeof r?(n=oa(n),r=oa(r)):(n=ia(n),r=ia(r)),i=e(n,r)}return i}}function Ia(e){return Ja((function(t){return t=zt(t,Gt(ii())),Qr((function(n){var r=this;return e(t,(function(e){return kt(e,r,n)}))}))}))}function $a(e,t){var n=(t=t===a?\" \":oa(t)).length;if(n<2)return n?qr(t,e):t;var r=qr(t,pt(e/cn(t)));return rn(t)?ma(fn(r),0,e).join(\"\"):r.slice(0,e)}function Ba(e){return function(t,n,i){return i&&\"number\"!=typeof i&&gi(t,n,i)&&(n=i=a),t=pu(t),n===a?(n=t,t=0):n=pu(n),function(e,t,n,a){for(var i=-1,o=gn(pt((t-e)/(n||1)),0),u=r(o);o--;)u[a?o:++i]=e,e+=n;return u}(t,n,i=i===a?t<n?1:-1:pu(i),e)}}function Wa(e){return function(t,n){return\"string\"==typeof t&&\"string\"==typeof n||(t=vu(t),n=vu(n)),e(t,n)}}function Va(e,t,n,r,i,o,u,s,c,f){var p=8&t;t|=p?l:64,4&(t&=~(p?64:l))||(t&=-4);var d=[e,t,i,p?o:a,p?u:a,p?a:o,p?a:u,s,c,f],h=n.apply(a,d);return mi(e)&&Ci(h,d),h.placeholder=r,Ni(h,e,t)}function Ha(e){var t=ke[e];return function(e,n){if(e=vu(e),(n=null==n?0:yn(du(n),292))&&Dt(e)){var r=(yu(e)+\"e\").split(\"e\");return+((r=(yu(t(r[0]+\"e\"+(+r[1]+n)))+\"e\").split(\"e\"))[0]+\"e\"+(+r[1]-n))}return t(e)}}var qa=En&&1/ln(new En([,-0]))[1]==c?function(e){return new En(e)}:ul;function Qa(e){return function(t){var n=fi(t);return n==x?an(t):n==T?sn(t):function(e,t){return zt(t,(function(t){return[t,e[t]]}))}(t,e(t))}}function Ya(e,t,n,o,c,f,p,d){var h=2&t;if(!h&&\"function\"!=typeof e)throw new Te(i);var v=o?o.length:0;if(v||(t&=-97,o=c=a),p=p===a?p:gn(du(p),0),d=d===a?d:du(d),v-=c?c.length:0,64&t){var g=o,y=c;o=c=a}var m=h?a:ni(e),b=[e,t,n,o,c,g,y,f,p,d];if(m&&function(e,t){var n=e[1],r=t[1],a=n|r,i=a<131,o=r==s&&8==n||r==s&&256==n&&e[7].length<=t[8]||384==r&&t[7].length<=t[8]&&8==n;if(!i&&!o)return e;1&r&&(e[2]=t[2],a|=1&n?0:4);var l=t[3];if(l){var c=e[3];e[3]=c?Sa(c,l,t[4]):l,e[4]=c?un(e[3],u):t[4]}(l=t[5])&&(c=e[5],e[5]=c?Ea(c,l,t[6]):l,e[6]=c?un(e[5],u):t[6]),(l=t[7])&&(e[7]=l),r&s&&(e[8]=null==e[8]?t[8]:yn(e[8],t[8])),null==e[9]&&(e[9]=t[9]),e[0]=t[0],e[1]=a}(b,m),e=b[0],t=b[1],n=b[2],o=b[3],c=b[4],!(d=b[9]=b[9]===a?h?0:e.length:gn(b[9]-v,0))&&24&t&&(t&=-25),t&&1!=t)_=8==t||16==t?function(e,t,n){var i=Aa(e);return function o(){for(var u=arguments.length,l=r(u),s=u,c=ai(o);s--;)l[s]=arguments[s];var f=u<3&&l[0]!==c&&l[u-1]!==c?[]:un(l,c);return(u-=f.length)<n?Va(e,t,Ra,o.placeholder,a,l,f,a,a,n-u):kt(this&&this!==ft&&this instanceof o?i:e,this,l)}}(e,t,d):t!=l&&33!=t||c.length?Ra.apply(a,b):function(e,t,n,a){var i=1&t,o=Aa(e);return function t(){for(var u=-1,l=arguments.length,s=-1,c=a.length,f=r(c+l),p=this&&this!==ft&&this instanceof t?o:e;++s<c;)f[s]=a[s];for(;l--;)f[s++]=arguments[++u];return kt(p,i?n:this,f)}}(e,t,n,o);else var _=function(e,t,n){var r=1&t,a=Aa(e);return function t(){return(this&&this!==ft&&this instanceof t?a:e).apply(r?n:this,arguments)}}(e,t,n);return Ni((m?Zr:Ci)(_,b),e,t)}function Ga(e,t,n,r){return e===a||Uo(e,Pe[n])&&!Oe.call(r,n)?t:e}function Ka(e,t,n,r,i,o){return Jo(e)&&Jo(t)&&(o.set(t,e),Ur(e,t,a,Ka,o),o.delete(t)),e}function Za(e){return ru(e)?a:e}function Xa(e,t,n,r,i,o){var u=1&n,l=e.length,s=t.length;if(l!=s&&!(u&&s>l))return!1;var c=o.get(e),f=o.get(t);if(c&&f)return c==t&&f==e;var p=-1,d=!0,h=2&n?new qn:a;for(o.set(e,t),o.set(t,e);++p<l;){var v=e[p],g=t[p];if(r)var y=u?r(g,v,p,t,e,o):r(v,g,p,e,t,o);if(y!==a){if(y)continue;d=!1;break}if(h){if(!Ft(t,(function(e,t){if(!Zt(h,t)&&(v===e||i(v,e,n,r,o)))return h.push(t)}))){d=!1;break}}else if(v!==g&&!i(v,g,n,r,o)){d=!1;break}}return o.delete(e),o.delete(t),d}function Ja(e){return Mi(ki(e,a,Wi),e+\"\")}function ei(e){return xr(e,Pu,si)}function ti(e){return xr(e,zu,ci)}var ni=Mn?function(e){return Mn.get(e)}:ul;function ri(e){for(var t=e.name+\"\",n=Nn[t],r=Oe.call(Nn,t)?n.length:0;r--;){var a=n[r],i=a.func;if(null==i||i==e)return a.name}return t}function ai(e){return(Oe.call(jn,\"placeholder\")?jn:e).placeholder}function ii(){var e=jn.iteratee||rl;return e=e===rl?Or:e,arguments.length?e(arguments[0],arguments[1]):e}function oi(e,t){var n,r,a=e.__data__;return(\"string\"==(r=typeof(n=t))||\"number\"==r||\"symbol\"==r||\"boolean\"==r?\"__proto__\"!==n:null===n)?a[\"string\"==typeof t?\"string\":\"hash\"]:a.map}function ui(e){for(var t=Pu(e),n=t.length;n--;){var r=t[n],a=e[r];t[n]=[r,a,wi(a)]}return t}function li(e,t){var n=function(e,t){return null==e?a:e[t]}(e,t);return Lr(n)?n:a}var si=vt?function(e){return null==e?[]:(e=Se(e),Mt(vt(e),(function(t){return qe.call(e,t)})))}:hl,ci=vt?function(e){for(var t=[];e;)Lt(t,si(e)),e=Ve(e);return t}:hl,fi=kr;function pi(e,t,n){for(var r=-1,a=(t=ga(t,e)).length,i=!1;++r<a;){var o=Fi(t[r]);if(!(i=null!=e&&n(e,o)))break;e=e[o]}return i||++r!=a?i:!!(a=null==e?0:e.length)&&Xo(a)&&vi(o,a)&&(Wo(e)||Bo(e))}function di(e){return\"function\"!=typeof e.constructor||_i(e)?{}:Un(Ve(e))}function hi(e){return Wo(e)||Bo(e)||!!(Ye&&e&&e[Ye])}function vi(e,t){var n=typeof e;return!!(t=null==t?f:t)&&(\"number\"==n||\"symbol\"!=n&&ye.test(e))&&e>-1&&e%1==0&&e<t}function gi(e,t,n){if(!Jo(n))return!1;var r=typeof t;return!!(\"number\"==r?Ho(n)&&vi(t,n.length):\"string\"==r&&t in n)&&Uo(n[t],e)}function yi(e,t){if(Wo(e))return!1;var n=typeof e;return!(\"number\"!=n&&\"symbol\"!=n&&\"boolean\"!=n&&null!=e&&!uu(e))||J.test(e)||!X.test(e)||null!=t&&e in Se(t)}function mi(e){var t=ri(e),n=jn[t];if(\"function\"!=typeof n||!(t in Bn.prototype))return!1;if(e===n)return!0;var r=ni(n);return!!r&&e===r[0]}(xn&&fi(new xn(new ArrayBuffer(1)))!=L||kn&&fi(new kn)!=x||Sn&&fi(Sn.resolve())!=E||En&&fi(new En)!=T||Cn&&fi(new Cn)!=P)&&(fi=function(e){var t=kr(e),n=t==S?e.constructor:a,r=n?Di(n):\"\";if(r)switch(r){case Pn:return L;case zn:return x;case Ln:return E;case On:return T;case An:return P}return t});var bi=ze?Ko:vl;function _i(e){var t=e&&e.constructor;return e===(\"function\"==typeof t&&t.prototype||Pe)}function wi(e){return e==e&&!Jo(e)}function xi(e,t){return function(n){return null!=n&&n[e]===t&&(t!==a||e in Se(n))}}function ki(e,t,n){return t=gn(t===a?e.length-1:t,0),function(){for(var a=arguments,i=-1,o=gn(a.length-t,0),u=r(o);++i<o;)u[i]=a[t+i];i=-1;for(var l=r(t+1);++i<t;)l[i]=a[i];return l[t]=n(u),kt(e,this,l)}}function Si(e,t){return t.length<2?e:wr(e,ea(t,0,-1))}function Ei(e,t){if((\"constructor\"!==t||\"function\"!=typeof e[t])&&\"__proto__\"!=t)return e[t]}var Ci=Pi(Zr),Ti=ct||function(e,t){return ft.setTimeout(e,t)},Mi=Pi(Xr);function Ni(e,t,n){var r=t+\"\";return Mi(e,function(e,t){var n=t.length;if(!n)return e;var r=n-1;return t[r]=(n>1?\"& \":\"\")+t[r],t=t.join(n>2?\", \":\" \"),e.replace(ie,\"{\\n/* [wrapped with \"+t+\"] */\\n\")}(r,function(e,t){return Et(h,(function(n){var r=\"_.\"+n[0];t&n[1]&&!Nt(e,r)&&e.push(r)})),e.sort()}(function(e){var t=e.match(oe);return t?t[1].split(ue):[]}(r),n)))}function Pi(e){var t=0,n=0;return function(){var r=mn(),i=16-(r-n);if(n=r,i>0){if(++t>=800)return arguments[0]}else t=0;return e.apply(a,arguments)}}function zi(e,t){var n=-1,r=e.length,i=r-1;for(t=t===a?r:t;++n<t;){var o=Hr(n,i),u=e[o];e[o]=e[n],e[n]=u}return e.length=t,e}var Li,Oi,Ai=(Li=Oo((function(e){var t=[];return 46===e.charCodeAt(0)&&t.push(\"\"),e.replace(ee,(function(e,n,r,a){t.push(r?a.replace(ce,\"$1\"):n||e)})),t}),(function(e){return 500===Oi.size&&Oi.clear(),e})),Oi=Li.cache,Li);function Fi(e){if(\"string\"==typeof e||uu(e))return e;var t=e+\"\";return\"0\"==t&&1/e==-1/0?\"-0\":t}function Di(e){if(null!=e){try{return Le.call(e)}catch(e){}try{return e+\"\"}catch(e){}}return\"\"}function Ri(e){if(e instanceof Bn)return e.clone();var t=new $n(e.__wrapped__,e.__chain__);return t.__actions__=Ca(e.__actions__),t.__index__=e.__index__,t.__values__=e.__values__,t}var ji=Qr((function(e,t){return qo(e)?sr(e,vr(t,1,qo,!0)):[]})),Ui=Qr((function(e,t){var n=Yi(t);return qo(n)&&(n=a),qo(e)?sr(e,vr(t,1,qo,!0),ii(n,2)):[]})),Ii=Qr((function(e,t){var n=Yi(t);return qo(n)&&(n=a),qo(e)?sr(e,vr(t,1,qo,!0),a,n):[]}));function $i(e,t,n){var r=null==e?0:e.length;if(!r)return-1;var a=null==n?0:du(n);return a<0&&(a=gn(r+a,0)),jt(e,ii(t,3),a)}function Bi(e,t,n){var r=null==e?0:e.length;if(!r)return-1;var i=r-1;return n!==a&&(i=du(n),i=n<0?gn(r+i,0):yn(i,r-1)),jt(e,ii(t,3),i,!0)}function Wi(e){return null!=e&&e.length?vr(e,1):[]}function Vi(e){return e&&e.length?e[0]:a}var Hi=Qr((function(e){var t=zt(e,ha);return t.length&&t[0]===e[0]?Tr(t):[]})),qi=Qr((function(e){var t=Yi(e),n=zt(e,ha);return t===Yi(n)?t=a:n.pop(),n.length&&n[0]===e[0]?Tr(n,ii(t,2)):[]})),Qi=Qr((function(e){var t=Yi(e),n=zt(e,ha);return(t=\"function\"==typeof t?t:a)&&n.pop(),n.length&&n[0]===e[0]?Tr(n,a,t):[]}));function Yi(e){var t=null==e?0:e.length;return t?e[t-1]:a}var Gi=Qr(Ki);function Ki(e,t){return e&&e.length&&t&&t.length?Wr(e,t):e}var Zi=Ja((function(e,t){var n=null==e?0:e.length,r=ar(e,t);return Vr(e,zt(t,(function(e){return vi(e,n)?+e:e})).sort(ka)),r}));function Xi(e){return null==e?e:wn.call(e)}var Ji=Qr((function(e){return ua(vr(e,1,qo,!0))})),eo=Qr((function(e){var t=Yi(e);return qo(t)&&(t=a),ua(vr(e,1,qo,!0),ii(t,2))})),to=Qr((function(e){var t=Yi(e);return t=\"function\"==typeof t?t:a,ua(vr(e,1,qo,!0),a,t)}));function no(e){if(!e||!e.length)return[];var t=0;return e=Mt(e,(function(e){if(qo(e))return t=gn(e.length,t),!0})),Qt(t,(function(t){return zt(e,Wt(t))}))}function ro(e,t){if(!e||!e.length)return[];var n=no(e);return null==t?n:zt(n,(function(e){return kt(t,a,e)}))}var ao=Qr((function(e,t){return qo(e)?sr(e,t):[]})),io=Qr((function(e){return pa(Mt(e,qo))})),oo=Qr((function(e){var t=Yi(e);return qo(t)&&(t=a),pa(Mt(e,qo),ii(t,2))})),uo=Qr((function(e){var t=Yi(e);return t=\"function\"==typeof t?t:a,pa(Mt(e,qo),a,t)})),lo=Qr(no),so=Qr((function(e){var t=e.length,n=t>1?e[t-1]:a;return n=\"function\"==typeof n?(e.pop(),n):a,ro(e,n)}));function co(e){var t=jn(e);return t.__chain__=!0,t}function fo(e,t){return t(e)}var po=Ja((function(e){var t=e.length,n=t?e[0]:0,r=this.__wrapped__,i=function(t){return ar(t,e)};return!(t>1||this.__actions__.length)&&r instanceof Bn&&vi(n)?((r=r.slice(n,+n+(t?1:0))).__actions__.push({func:fo,args:[i],thisArg:a}),new $n(r,this.__chain__).thru((function(e){return t&&!e.length&&e.push(a),e}))):this.thru(i)})),ho=Ma((function(e,t,n){Oe.call(e,n)?++e[n]:rr(e,n,1)})),vo=Fa($i),go=Fa(Bi);function yo(e,t){return(Wo(e)?Et:cr)(e,ii(t,3))}function mo(e,t){return(Wo(e)?Ct:fr)(e,ii(t,3))}var bo=Ma((function(e,t,n){Oe.call(e,n)?e[n].push(t):rr(e,n,[t])})),_o=Qr((function(e,t,n){var a=-1,i=\"function\"==typeof t,o=Ho(e)?r(e.length):[];return cr(e,(function(e){o[++a]=i?kt(t,e,n):Mr(e,t,n)})),o})),wo=Ma((function(e,t,n){rr(e,n,t)}));function xo(e,t){return(Wo(e)?zt:Dr)(e,ii(t,3))}var ko=Ma((function(e,t,n){e[n?0:1].push(t)}),(function(){return[[],[]]})),So=Qr((function(e,t){if(null==e)return[];var n=t.length;return n>1&&gi(e,t[0],t[1])?t=[]:n>2&&gi(t[0],t[1],t[2])&&(t=[t[0]]),$r(e,vr(t,1),[])})),Eo=st||function(){return ft.Date.now()};function Co(e,t,n){return t=n?a:t,t=e&&null==t?e.length:t,Ya(e,s,a,a,a,a,t)}function To(e,t){var n;if(\"function\"!=typeof t)throw new Te(i);return e=du(e),function(){return--e>0&&(n=t.apply(this,arguments)),e<=1&&(t=a),n}}var Mo=Qr((function(e,t,n){var r=1;if(n.length){var a=un(n,ai(Mo));r|=l}return Ya(e,r,t,n,a)})),No=Qr((function(e,t,n){var r=3;if(n.length){var a=un(n,ai(No));r|=l}return Ya(t,r,e,n,a)}));function Po(e,t,n){var r,o,u,l,s,c,f=0,p=!1,d=!1,h=!0;if(\"function\"!=typeof e)throw new Te(i);function v(t){var n=r,i=o;return r=o=a,f=t,l=e.apply(i,n)}function g(e){var n=e-c;return c===a||n>=t||n<0||d&&e-f>=u}function y(){var e=Eo();if(g(e))return m(e);s=Ti(y,function(e){var n=t-(e-c);return d?yn(n,u-(e-f)):n}(e))}function m(e){return s=a,h&&r?v(e):(r=o=a,l)}function b(){var e=Eo(),n=g(e);if(r=arguments,o=this,c=e,n){if(s===a)return function(e){return f=e,s=Ti(y,t),p?v(e):l}(c);if(d)return ba(s),s=Ti(y,t),v(c)}return s===a&&(s=Ti(y,t)),l}return t=vu(t)||0,Jo(n)&&(p=!!n.leading,u=(d=\"maxWait\"in n)?gn(vu(n.maxWait)||0,t):u,h=\"trailing\"in n?!!n.trailing:h),b.cancel=function(){s!==a&&ba(s),f=0,r=c=o=s=a},b.flush=function(){return s===a?l:m(Eo())},b}var zo=Qr((function(e,t){return lr(e,1,t)})),Lo=Qr((function(e,t,n){return lr(e,vu(t)||0,n)}));function Oo(e,t){if(\"function\"!=typeof e||null!=t&&\"function\"!=typeof t)throw new Te(i);var n=function(){var r=arguments,a=t?t.apply(this,r):r[0],i=n.cache;if(i.has(a))return i.get(a);var o=e.apply(this,r);return n.cache=i.set(a,o)||i,o};return n.cache=new(Oo.Cache||Hn),n}function Ao(e){if(\"function\"!=typeof e)throw new Te(i);return function(){var t=arguments;switch(t.length){case 0:return!e.call(this);case 1:return!e.call(this,t[0]);case 2:return!e.call(this,t[0],t[1]);case 3:return!e.call(this,t[0],t[1],t[2])}return!e.apply(this,t)}}Oo.Cache=Hn;var Fo=ya((function(e,t){var n=(t=1==t.length&&Wo(t[0])?zt(t[0],Gt(ii())):zt(vr(t,1),Gt(ii()))).length;return Qr((function(r){for(var a=-1,i=yn(r.length,n);++a<i;)r[a]=t[a].call(this,r[a]);return kt(e,this,r)}))})),Do=Qr((function(e,t){var n=un(t,ai(Do));return Ya(e,l,a,t,n)})),Ro=Qr((function(e,t){var n=un(t,ai(Ro));return Ya(e,64,a,t,n)})),jo=Ja((function(e,t){return Ya(e,256,a,a,a,t)}));function Uo(e,t){return e===t||e!=e&&t!=t}var Io=Wa(Sr),$o=Wa((function(e,t){return e>=t})),Bo=Nr(function(){return arguments}())?Nr:function(e){return eu(e)&&Oe.call(e,\"callee\")&&!qe.call(e,\"callee\")},Wo=r.isArray,Vo=yt?Gt(yt):function(e){return eu(e)&&kr(e)==z};function Ho(e){return null!=e&&Xo(e.length)&&!Ko(e)}function qo(e){return eu(e)&&Ho(e)}var Qo=gt||vl,Yo=mt?Gt(mt):function(e){return eu(e)&&kr(e)==m};function Go(e){if(!eu(e))return!1;var t=kr(e);return t==b||\"[object DOMException]\"==t||\"string\"==typeof e.message&&\"string\"==typeof e.name&&!ru(e)}function Ko(e){if(!Jo(e))return!1;var t=kr(e);return t==_||t==w||\"[object AsyncFunction]\"==t||\"[object Proxy]\"==t}function Zo(e){return\"number\"==typeof e&&e==du(e)}function Xo(e){return\"number\"==typeof e&&e>-1&&e%1==0&&e<=f}function Jo(e){var t=typeof e;return null!=e&&(\"object\"==t||\"function\"==t)}function eu(e){return null!=e&&\"object\"==typeof e}var tu=bt?Gt(bt):function(e){return eu(e)&&fi(e)==x};function nu(e){return\"number\"==typeof e||eu(e)&&kr(e)==k}function ru(e){if(!eu(e)||kr(e)!=S)return!1;var t=Ve(e);if(null===t)return!0;var n=Oe.call(t,\"constructor\")&&t.constructor;return\"function\"==typeof n&&n instanceof n&&Le.call(n)==Re}var au=_t?Gt(_t):function(e){return eu(e)&&kr(e)==C},iu=wt?Gt(wt):function(e){return eu(e)&&fi(e)==T};function ou(e){return\"string\"==typeof e||!Wo(e)&&eu(e)&&kr(e)==M}function uu(e){return\"symbol\"==typeof e||eu(e)&&kr(e)==N}var lu=xt?Gt(xt):function(e){return eu(e)&&Xo(e.length)&&!!at[kr(e)]},su=Wa(Fr),cu=Wa((function(e,t){return e<=t}));function fu(e){if(!e)return[];if(Ho(e))return ou(e)?fn(e):Ca(e);if(Ge&&e[Ge])return function(e){for(var t,n=[];!(t=e.next()).done;)n.push(t.value);return n}(e[Ge]());var t=fi(e);return(t==x?an:t==T?ln:Uu)(e)}function pu(e){return e?(e=vu(e))===c||e===-1/0?17976931348623157e292*(e<0?-1:1):e==e?e:0:0===e?e:0}function du(e){var t=pu(e),n=t%1;return t==t?n?t-n:t:0}function hu(e){return e?ir(du(e),0,d):0}function vu(e){if(\"number\"==typeof e)return e;if(uu(e))return p;if(Jo(e)){var t=\"function\"==typeof e.valueOf?e.valueOf():e;e=Jo(t)?t+\"\":t}if(\"string\"!=typeof e)return 0===e?e:+e;e=Yt(e);var n=he.test(e);return n||ge.test(e)?lt(e.slice(2),n?2:8):de.test(e)?p:+e}function gu(e){return Ta(e,zu(e))}function yu(e){return null==e?\"\":oa(e)}var mu=Na((function(e,t){if(_i(t)||Ho(t))Ta(t,Pu(t),e);else for(var n in t)Oe.call(t,n)&&Jn(e,n,t[n])})),bu=Na((function(e,t){Ta(t,zu(t),e)})),_u=Na((function(e,t,n,r){Ta(t,zu(t),e,r)})),wu=Na((function(e,t,n,r){Ta(t,Pu(t),e,r)})),xu=Ja(ar),ku=Qr((function(e,t){e=Se(e);var n=-1,r=t.length,i=r>2?t[2]:a;for(i&&gi(t[0],t[1],i)&&(r=1);++n<r;)for(var o=t[n],u=zu(o),l=-1,s=u.length;++l<s;){var c=u[l],f=e[c];(f===a||Uo(f,Pe[c])&&!Oe.call(e,c))&&(e[c]=o[c])}return e})),Su=Qr((function(e){return e.push(a,Ka),kt(Ou,a,e)}));function Eu(e,t,n){var r=null==e?a:wr(e,t);return r===a?n:r}function Cu(e,t){return null!=e&&pi(e,t,Cr)}var Tu=ja((function(e,t,n){null!=t&&\"function\"!=typeof t.toString&&(t=De.call(t)),e[t]=n}),Ju(nl)),Mu=ja((function(e,t,n){null!=t&&\"function\"!=typeof t.toString&&(t=De.call(t)),Oe.call(e,t)?e[t].push(n):e[t]=[n]}),ii),Nu=Qr(Mr);function Pu(e){return Ho(e)?Yn(e):Ar(e)}function zu(e){return Ho(e)?Yn(e,!0):function(e){if(!Jo(e))return function(e){var t=[];if(null!=e)for(var n in Se(e))t.push(n);return t}(e);var t=_i(e),n=[];for(var r in e)(\"constructor\"!=r||!t&&Oe.call(e,r))&&n.push(r);return n}(e)}var Lu=Na((function(e,t,n){Ur(e,t,n)})),Ou=Na((function(e,t,n,r){Ur(e,t,n,r)})),Au=Ja((function(e,t){var n={};if(null==e)return n;var r=!1;t=zt(t,(function(t){return t=ga(t,e),r||(r=t.length>1),t})),Ta(e,ti(e),n),r&&(n=or(n,7,Za));for(var a=t.length;a--;)la(n,t[a]);return n})),Fu=Ja((function(e,t){return null==e?{}:function(e,t){return Br(e,t,(function(t,n){return Cu(e,n)}))}(e,t)}));function Du(e,t){if(null==e)return{};var n=zt(ti(e),(function(e){return[e]}));return t=ii(t),Br(e,n,(function(e,n){return t(e,n[0])}))}var Ru=Qa(Pu),ju=Qa(zu);function Uu(e){return null==e?[]:Kt(e,Pu(e))}var Iu=Oa((function(e,t,n){return t=t.toLowerCase(),e+(n?$u(t):t)}));function $u(e){return Gu(yu(e).toLowerCase())}function Bu(e){return(e=yu(e))&&e.replace(me,en).replace(Ze,\"\")}var Wu=Oa((function(e,t,n){return e+(n?\"-\":\"\")+t.toLowerCase()})),Vu=Oa((function(e,t,n){return e+(n?\" \":\"\")+t.toLowerCase()})),Hu=La(\"toLowerCase\"),qu=Oa((function(e,t,n){return e+(n?\"_\":\"\")+t.toLowerCase()})),Qu=Oa((function(e,t,n){return e+(n?\" \":\"\")+Gu(t)})),Yu=Oa((function(e,t,n){return e+(n?\" \":\"\")+t.toUpperCase()})),Gu=La(\"toUpperCase\");function Ku(e,t,n){return e=yu(e),(t=n?a:t)===a?function(e){return tt.test(e)}(e)?function(e){return e.match(Je)||[]}(e):function(e){return e.match(le)||[]}(e):e.match(t)||[]}var Zu=Qr((function(e,t){try{return kt(e,a,t)}catch(e){return Go(e)?e:new we(e)}})),Xu=Ja((function(e,t){return Et(t,(function(t){t=Fi(t),rr(e,t,Mo(e[t],e))})),e}));function Ju(e){return function(){return e}}var el=Da(),tl=Da(!0);function nl(e){return e}function rl(e){return Or(\"function\"==typeof e?e:or(e,1))}var al=Qr((function(e,t){return function(n){return Mr(n,e,t)}})),il=Qr((function(e,t){return function(n){return Mr(e,n,t)}}));function ol(e,t,n){var r=Pu(t),a=_r(t,r);null!=n||Jo(t)&&(a.length||!r.length)||(n=t,t=e,e=this,a=_r(t,Pu(t)));var i=!(Jo(n)&&\"chain\"in n&&!n.chain),o=Ko(e);return Et(a,(function(n){var r=t[n];e[n]=r,o&&(e.prototype[n]=function(){var t=this.__chain__;if(i||t){var n=e(this.__wrapped__);return(n.__actions__=Ca(this.__actions__)).push({func:r,args:arguments,thisArg:e}),n.__chain__=t,n}return r.apply(e,Lt([this.value()],arguments))})})),e}function ul(){}var ll=Ia(zt),sl=Ia(Tt),cl=Ia(Ft);function fl(e){return yi(e)?Wt(Fi(e)):function(e){return function(t){return wr(t,e)}}(e)}var pl=Ba(),dl=Ba(!0);function hl(){return[]}function vl(){return!1}var gl,yl=Ua((function(e,t){return e+t}),0),ml=Ha(\"ceil\"),bl=Ua((function(e,t){return e/t}),1),_l=Ha(\"floor\"),wl=Ua((function(e,t){return e*t}),1),xl=Ha(\"round\"),kl=Ua((function(e,t){return e-t}),0);return jn.after=function(e,t){if(\"function\"!=typeof t)throw new Te(i);return e=du(e),function(){if(--e<1)return t.apply(this,arguments)}},jn.ary=Co,jn.assign=mu,jn.assignIn=bu,jn.assignInWith=_u,jn.assignWith=wu,jn.at=xu,jn.before=To,jn.bind=Mo,jn.bindAll=Xu,jn.bindKey=No,jn.castArray=function(){if(!arguments.length)return[];var e=arguments[0];return Wo(e)?e:[e]},jn.chain=co,jn.chunk=function(e,t,n){t=(n?gi(e,t,n):t===a)?1:gn(du(t),0);var i=null==e?0:e.length;if(!i||t<1)return[];for(var o=0,u=0,l=r(pt(i/t));o<i;)l[u++]=ea(e,o,o+=t);return l},jn.compact=function(e){for(var t=-1,n=null==e?0:e.length,r=0,a=[];++t<n;){var i=e[t];i&&(a[r++]=i)}return a},jn.concat=function(){var e=arguments.length;if(!e)return[];for(var t=r(e-1),n=arguments[0],a=e;a--;)t[a-1]=arguments[a];return Lt(Wo(n)?Ca(n):[n],vr(t,1))},jn.cond=function(e){var t=null==e?0:e.length,n=ii();return e=t?zt(e,(function(e){if(\"function\"!=typeof e[1])throw new Te(i);return[n(e[0]),e[1]]})):[],Qr((function(n){for(var r=-1;++r<t;){var a=e[r];if(kt(a[0],this,n))return kt(a[1],this,n)}}))},jn.conforms=function(e){return function(e){var t=Pu(e);return function(n){return ur(n,e,t)}}(or(e,1))},jn.constant=Ju,jn.countBy=ho,jn.create=function(e,t){var n=Un(e);return null==t?n:nr(n,t)},jn.curry=function e(t,n,r){var i=Ya(t,8,a,a,a,a,a,n=r?a:n);return i.placeholder=e.placeholder,i},jn.curryRight=function e(t,n,r){var i=Ya(t,16,a,a,a,a,a,n=r?a:n);return i.placeholder=e.placeholder,i},jn.debounce=Po,jn.defaults=ku,jn.defaultsDeep=Su,jn.defer=zo,jn.delay=Lo,jn.difference=ji,jn.differenceBy=Ui,jn.differenceWith=Ii,jn.drop=function(e,t,n){var r=null==e?0:e.length;return r?ea(e,(t=n||t===a?1:du(t))<0?0:t,r):[]},jn.dropRight=function(e,t,n){var r=null==e?0:e.length;return r?ea(e,0,(t=r-(t=n||t===a?1:du(t)))<0?0:t):[]},jn.dropRightWhile=function(e,t){return e&&e.length?ca(e,ii(t,3),!0,!0):[]},jn.dropWhile=function(e,t){return e&&e.length?ca(e,ii(t,3),!0):[]},jn.fill=function(e,t,n,r){var i=null==e?0:e.length;return i?(n&&\"number\"!=typeof n&&gi(e,t,n)&&(n=0,r=i),function(e,t,n,r){var i=e.length;for((n=du(n))<0&&(n=-n>i?0:i+n),(r=r===a||r>i?i:du(r))<0&&(r+=i),r=n>r?0:hu(r);n<r;)e[n++]=t;return e}(e,t,n,r)):[]},jn.filter=function(e,t){return(Wo(e)?Mt:hr)(e,ii(t,3))},jn.flatMap=function(e,t){return vr(xo(e,t),1)},jn.flatMapDeep=function(e,t){return vr(xo(e,t),c)},jn.flatMapDepth=function(e,t,n){return n=n===a?1:du(n),vr(xo(e,t),n)},jn.flatten=Wi,jn.flattenDeep=function(e){return null!=e&&e.length?vr(e,c):[]},jn.flattenDepth=function(e,t){return null!=e&&e.length?vr(e,t=t===a?1:du(t)):[]},jn.flip=function(e){return Ya(e,512)},jn.flow=el,jn.flowRight=tl,jn.fromPairs=function(e){for(var t=-1,n=null==e?0:e.length,r={};++t<n;){var a=e[t];r[a[0]]=a[1]}return r},jn.functions=function(e){return null==e?[]:_r(e,Pu(e))},jn.functionsIn=function(e){return null==e?[]:_r(e,zu(e))},jn.groupBy=bo,jn.initial=function(e){return null!=e&&e.length?ea(e,0,-1):[]},jn.intersection=Hi,jn.intersectionBy=qi,jn.intersectionWith=Qi,jn.invert=Tu,jn.invertBy=Mu,jn.invokeMap=_o,jn.iteratee=rl,jn.keyBy=wo,jn.keys=Pu,jn.keysIn=zu,jn.map=xo,jn.mapKeys=function(e,t){var n={};return t=ii(t,3),mr(e,(function(e,r,a){rr(n,t(e,r,a),e)})),n},jn.mapValues=function(e,t){var n={};return t=ii(t,3),mr(e,(function(e,r,a){rr(n,r,t(e,r,a))})),n},jn.matches=function(e){return Rr(or(e,1))},jn.matchesProperty=function(e,t){return jr(e,or(t,1))},jn.memoize=Oo,jn.merge=Lu,jn.mergeWith=Ou,jn.method=al,jn.methodOf=il,jn.mixin=ol,jn.negate=Ao,jn.nthArg=function(e){return e=du(e),Qr((function(t){return Ir(t,e)}))},jn.omit=Au,jn.omitBy=function(e,t){return Du(e,Ao(ii(t)))},jn.once=function(e){return To(2,e)},jn.orderBy=function(e,t,n,r){return null==e?[]:(Wo(t)||(t=null==t?[]:[t]),Wo(n=r?a:n)||(n=null==n?[]:[n]),$r(e,t,n))},jn.over=ll,jn.overArgs=Fo,jn.overEvery=sl,jn.overSome=cl,jn.partial=Do,jn.partialRight=Ro,jn.partition=ko,jn.pick=Fu,jn.pickBy=Du,jn.property=fl,jn.propertyOf=function(e){return function(t){return null==e?a:wr(e,t)}},jn.pull=Gi,jn.pullAll=Ki,jn.pullAllBy=function(e,t,n){return e&&e.length&&t&&t.length?Wr(e,t,ii(n,2)):e},jn.pullAllWith=function(e,t,n){return e&&e.length&&t&&t.length?Wr(e,t,a,n):e},jn.pullAt=Zi,jn.range=pl,jn.rangeRight=dl,jn.rearg=jo,jn.reject=function(e,t){return(Wo(e)?Mt:hr)(e,Ao(ii(t,3)))},jn.remove=function(e,t){var n=[];if(!e||!e.length)return n;var r=-1,a=[],i=e.length;for(t=ii(t,3);++r<i;){var o=e[r];t(o,r,e)&&(n.push(o),a.push(r))}return Vr(e,a),n},jn.rest=function(e,t){if(\"function\"!=typeof e)throw new Te(i);return Qr(e,t=t===a?t:du(t))},jn.reverse=Xi,jn.sampleSize=function(e,t,n){return t=(n?gi(e,t,n):t===a)?1:du(t),(Wo(e)?Kn:Gr)(e,t)},jn.set=function(e,t,n){return null==e?e:Kr(e,t,n)},jn.setWith=function(e,t,n,r){return r=\"function\"==typeof r?r:a,null==e?e:Kr(e,t,n,r)},jn.shuffle=function(e){return(Wo(e)?Zn:Jr)(e)},jn.slice=function(e,t,n){var r=null==e?0:e.length;return r?(n&&\"number\"!=typeof n&&gi(e,t,n)?(t=0,n=r):(t=null==t?0:du(t),n=n===a?r:du(n)),ea(e,t,n)):[]},jn.sortBy=So,jn.sortedUniq=function(e){return e&&e.length?aa(e):[]},jn.sortedUniqBy=function(e,t){return e&&e.length?aa(e,ii(t,2)):[]},jn.split=function(e,t,n){return n&&\"number\"!=typeof n&&gi(e,t,n)&&(t=n=a),(n=n===a?d:n>>>0)?(e=yu(e))&&(\"string\"==typeof t||null!=t&&!au(t))&&!(t=oa(t))&&rn(e)?ma(fn(e),0,n):e.split(t,n):[]},jn.spread=function(e,t){if(\"function\"!=typeof e)throw new Te(i);return t=null==t?0:gn(du(t),0),Qr((function(n){var r=n[t],a=ma(n,0,t);return r&&Lt(a,r),kt(e,this,a)}))},jn.tail=function(e){var t=null==e?0:e.length;return t?ea(e,1,t):[]},jn.take=function(e,t,n){return e&&e.length?ea(e,0,(t=n||t===a?1:du(t))<0?0:t):[]},jn.takeRight=function(e,t,n){var r=null==e?0:e.length;return r?ea(e,(t=r-(t=n||t===a?1:du(t)))<0?0:t,r):[]},jn.takeRightWhile=function(e,t){return e&&e.length?ca(e,ii(t,3),!1,!0):[]},jn.takeWhile=function(e,t){return e&&e.length?ca(e,ii(t,3)):[]},jn.tap=function(e,t){return t(e),e},jn.throttle=function(e,t,n){var r=!0,a=!0;if(\"function\"!=typeof e)throw new Te(i);return Jo(n)&&(r=\"leading\"in n?!!n.leading:r,a=\"trailing\"in n?!!n.trailing:a),Po(e,t,{leading:r,maxWait:t,trailing:a})},jn.thru=fo,jn.toArray=fu,jn.toPairs=Ru,jn.toPairsIn=ju,jn.toPath=function(e){return Wo(e)?zt(e,Fi):uu(e)?[e]:Ca(Ai(yu(e)))},jn.toPlainObject=gu,jn.transform=function(e,t,n){var r=Wo(e),a=r||Qo(e)||lu(e);if(t=ii(t,4),null==n){var i=e&&e.constructor;n=a?r?new i:[]:Jo(e)&&Ko(i)?Un(Ve(e)):{}}return(a?Et:mr)(e,(function(e,r,a){return t(n,e,r,a)})),n},jn.unary=function(e){return Co(e,1)},jn.union=Ji,jn.unionBy=eo,jn.unionWith=to,jn.uniq=function(e){return e&&e.length?ua(e):[]},jn.uniqBy=function(e,t){return e&&e.length?ua(e,ii(t,2)):[]},jn.uniqWith=function(e,t){return t=\"function\"==typeof t?t:a,e&&e.length?ua(e,a,t):[]},jn.unset=function(e,t){return null==e||la(e,t)},jn.unzip=no,jn.unzipWith=ro,jn.update=function(e,t,n){return null==e?e:sa(e,t,va(n))},jn.updateWith=function(e,t,n,r){return r=\"function\"==typeof r?r:a,null==e?e:sa(e,t,va(n),r)},jn.values=Uu,jn.valuesIn=function(e){return null==e?[]:Kt(e,zu(e))},jn.without=ao,jn.words=Ku,jn.wrap=function(e,t){return Do(va(t),e)},jn.xor=io,jn.xorBy=oo,jn.xorWith=uo,jn.zip=lo,jn.zipObject=function(e,t){return da(e||[],t||[],Jn)},jn.zipObjectDeep=function(e,t){return da(e||[],t||[],Kr)},jn.zipWith=so,jn.entries=Ru,jn.entriesIn=ju,jn.extend=bu,jn.extendWith=_u,ol(jn,jn),jn.add=yl,jn.attempt=Zu,jn.camelCase=Iu,jn.capitalize=$u,jn.ceil=ml,jn.clamp=function(e,t,n){return n===a&&(n=t,t=a),n!==a&&(n=(n=vu(n))==n?n:0),t!==a&&(t=(t=vu(t))==t?t:0),ir(vu(e),t,n)},jn.clone=function(e){return or(e,4)},jn.cloneDeep=function(e){return or(e,5)},jn.cloneDeepWith=function(e,t){return or(e,5,t=\"function\"==typeof t?t:a)},jn.cloneWith=function(e,t){return or(e,4,t=\"function\"==typeof t?t:a)},jn.conformsTo=function(e,t){return null==t||ur(e,t,Pu(t))},jn.deburr=Bu,jn.defaultTo=function(e,t){return null==e||e!=e?t:e},jn.divide=bl,jn.endsWith=function(e,t,n){e=yu(e),t=oa(t);var r=e.length,i=n=n===a?r:ir(du(n),0,r);return(n-=t.length)>=0&&e.slice(n,i)==t},jn.eq=Uo,jn.escape=function(e){return(e=yu(e))&&Y.test(e)?e.replace(q,tn):e},jn.escapeRegExp=function(e){return(e=yu(e))&&ne.test(e)?e.replace(te,\"\\\\$&\"):e},jn.every=function(e,t,n){var r=Wo(e)?Tt:pr;return n&&gi(e,t,n)&&(t=a),r(e,ii(t,3))},jn.find=vo,jn.findIndex=$i,jn.findKey=function(e,t){return Rt(e,ii(t,3),mr)},jn.findLast=go,jn.findLastIndex=Bi,jn.findLastKey=function(e,t){return Rt(e,ii(t,3),br)},jn.floor=_l,jn.forEach=yo,jn.forEachRight=mo,jn.forIn=function(e,t){return null==e?e:gr(e,ii(t,3),zu)},jn.forInRight=function(e,t){return null==e?e:yr(e,ii(t,3),zu)},jn.forOwn=function(e,t){return e&&mr(e,ii(t,3))},jn.forOwnRight=function(e,t){return e&&br(e,ii(t,3))},jn.get=Eu,jn.gt=Io,jn.gte=$o,jn.has=function(e,t){return null!=e&&pi(e,t,Er)},jn.hasIn=Cu,jn.head=Vi,jn.identity=nl,jn.includes=function(e,t,n,r){e=Ho(e)?e:Uu(e),n=n&&!r?du(n):0;var a=e.length;return n<0&&(n=gn(a+n,0)),ou(e)?n<=a&&e.indexOf(t,n)>-1:!!a&&Ut(e,t,n)>-1},jn.indexOf=function(e,t,n){var r=null==e?0:e.length;if(!r)return-1;var a=null==n?0:du(n);return a<0&&(a=gn(r+a,0)),Ut(e,t,a)},jn.inRange=function(e,t,n){return t=pu(t),n===a?(n=t,t=0):n=pu(n),function(e,t,n){return e>=yn(t,n)&&e<gn(t,n)}(e=vu(e),t,n)},jn.invoke=Nu,jn.isArguments=Bo,jn.isArray=Wo,jn.isArrayBuffer=Vo,jn.isArrayLike=Ho,jn.isArrayLikeObject=qo,jn.isBoolean=function(e){return!0===e||!1===e||eu(e)&&kr(e)==y},jn.isBuffer=Qo,jn.isDate=Yo,jn.isElement=function(e){return eu(e)&&1===e.nodeType&&!ru(e)},jn.isEmpty=function(e){if(null==e)return!0;if(Ho(e)&&(Wo(e)||\"string\"==typeof e||\"function\"==typeof e.splice||Qo(e)||lu(e)||Bo(e)))return!e.length;var t=fi(e);if(t==x||t==T)return!e.size;if(_i(e))return!Ar(e).length;for(var n in e)if(Oe.call(e,n))return!1;return!0},jn.isEqual=function(e,t){return Pr(e,t)},jn.isEqualWith=function(e,t,n){var r=(n=\"function\"==typeof n?n:a)?n(e,t):a;return r===a?Pr(e,t,a,n):!!r},jn.isError=Go,jn.isFinite=function(e){return\"number\"==typeof e&&Dt(e)},jn.isFunction=Ko,jn.isInteger=Zo,jn.isLength=Xo,jn.isMap=tu,jn.isMatch=function(e,t){return e===t||zr(e,t,ui(t))},jn.isMatchWith=function(e,t,n){return n=\"function\"==typeof n?n:a,zr(e,t,ui(t),n)},jn.isNaN=function(e){return nu(e)&&e!=+e},jn.isNative=function(e){if(bi(e))throw new we(\"Unsupported core-js use. Try https://npms.io/search?q=ponyfill.\");return Lr(e)},jn.isNil=function(e){return null==e},jn.isNull=function(e){return null===e},jn.isNumber=nu,jn.isObject=Jo,jn.isObjectLike=eu,jn.isPlainObject=ru,jn.isRegExp=au,jn.isSafeInteger=function(e){return Zo(e)&&e>=-9007199254740991&&e<=f},jn.isSet=iu,jn.isString=ou,jn.isSymbol=uu,jn.isTypedArray=lu,jn.isUndefined=function(e){return e===a},jn.isWeakMap=function(e){return eu(e)&&fi(e)==P},jn.isWeakSet=function(e){return eu(e)&&\"[object WeakSet]\"==kr(e)},jn.join=function(e,t){return null==e?\"\":Vt.call(e,t)},jn.kebabCase=Wu,jn.last=Yi,jn.lastIndexOf=function(e,t,n){var r=null==e?0:e.length;if(!r)return-1;var i=r;return n!==a&&(i=(i=du(n))<0?gn(r+i,0):yn(i,r-1)),t==t?function(e,t,n){for(var r=n+1;r--;)if(e[r]===t)return r;return r}(e,t,i):jt(e,$t,i,!0)},jn.lowerCase=Vu,jn.lowerFirst=Hu,jn.lt=su,jn.lte=cu,jn.max=function(e){return e&&e.length?dr(e,nl,Sr):a},jn.maxBy=function(e,t){return e&&e.length?dr(e,ii(t,2),Sr):a},jn.mean=function(e){return Bt(e,nl)},jn.meanBy=function(e,t){return Bt(e,ii(t,2))},jn.min=function(e){return e&&e.length?dr(e,nl,Fr):a},jn.minBy=function(e,t){return e&&e.length?dr(e,ii(t,2),Fr):a},jn.stubArray=hl,jn.stubFalse=vl,jn.stubObject=function(){return{}},jn.stubString=function(){return\"\"},jn.stubTrue=function(){return!0},jn.multiply=wl,jn.nth=function(e,t){return e&&e.length?Ir(e,du(t)):a},jn.noConflict=function(){return ft._===this&&(ft._=je),this},jn.noop=ul,jn.now=Eo,jn.pad=function(e,t,n){e=yu(e);var r=(t=du(t))?cn(e):0;if(!t||r>=t)return e;var a=(t-r)/2;return $a(dt(a),n)+e+$a(pt(a),n)},jn.padEnd=function(e,t,n){e=yu(e);var r=(t=du(t))?cn(e):0;return t&&r<t?e+$a(t-r,n):e},jn.padStart=function(e,t,n){e=yu(e);var r=(t=du(t))?cn(e):0;return t&&r<t?$a(t-r,n)+e:e},jn.parseInt=function(e,t,n){return n||null==t?t=0:t&&(t=+t),bn(yu(e).replace(re,\"\"),t||0)},jn.random=function(e,t,n){if(n&&\"boolean\"!=typeof n&&gi(e,t,n)&&(t=n=a),n===a&&(\"boolean\"==typeof t?(n=t,t=a):\"boolean\"==typeof e&&(n=e,e=a)),e===a&&t===a?(e=0,t=1):(e=pu(e),t===a?(t=e,e=0):t=pu(t)),e>t){var r=e;e=t,t=r}if(n||e%1||t%1){var i=_n();return yn(e+i*(t-e+ut(\"1e-\"+((i+\"\").length-1))),t)}return Hr(e,t)},jn.reduce=function(e,t,n){var r=Wo(e)?Ot:Ht,a=arguments.length<3;return r(e,ii(t,4),n,a,cr)},jn.reduceRight=function(e,t,n){var r=Wo(e)?At:Ht,a=arguments.length<3;return r(e,ii(t,4),n,a,fr)},jn.repeat=function(e,t,n){return t=(n?gi(e,t,n):t===a)?1:du(t),qr(yu(e),t)},jn.replace=function(){var e=arguments,t=yu(e[0]);return e.length<3?t:t.replace(e[1],e[2])},jn.result=function(e,t,n){var r=-1,i=(t=ga(t,e)).length;for(i||(i=1,e=a);++r<i;){var o=null==e?a:e[Fi(t[r])];o===a&&(r=i,o=n),e=Ko(o)?o.call(e):o}return e},jn.round=xl,jn.runInContext=e,jn.sample=function(e){return(Wo(e)?Gn:Yr)(e)},jn.size=function(e){if(null==e)return 0;if(Ho(e))return ou(e)?cn(e):e.length;var t=fi(e);return t==x||t==T?e.size:Ar(e).length},jn.snakeCase=qu,jn.some=function(e,t,n){var r=Wo(e)?Ft:ta;return n&&gi(e,t,n)&&(t=a),r(e,ii(t,3))},jn.sortedIndex=function(e,t){return na(e,t)},jn.sortedIndexBy=function(e,t,n){return ra(e,t,ii(n,2))},jn.sortedIndexOf=function(e,t){var n=null==e?0:e.length;if(n){var r=na(e,t);if(r<n&&Uo(e[r],t))return r}return-1},jn.sortedLastIndex=function(e,t){return na(e,t,!0)},jn.sortedLastIndexBy=function(e,t,n){return ra(e,t,ii(n,2),!0)},jn.sortedLastIndexOf=function(e,t){if(null!=e&&e.length){var n=na(e,t,!0)-1;if(Uo(e[n],t))return n}return-1},jn.startCase=Qu,jn.startsWith=function(e,t,n){return e=yu(e),n=null==n?0:ir(du(n),0,e.length),t=oa(t),e.slice(n,n+t.length)==t},jn.subtract=kl,jn.sum=function(e){return e&&e.length?qt(e,nl):0},jn.sumBy=function(e,t){return e&&e.length?qt(e,ii(t,2)):0},jn.template=function(e,t,n){var r=jn.templateSettings;n&&gi(e,t,n)&&(t=a),e=yu(e),t=_u({},t,r,Ga);var i,o,u=_u({},t.imports,r.imports,Ga),l=Pu(u),s=Kt(u,l),c=0,f=t.interpolate||be,p=\"__p += '\",d=Ee((t.escape||be).source+\"|\"+f.source+\"|\"+(f===Z?fe:be).source+\"|\"+(t.evaluate||be).source+\"|$\",\"g\"),h=\"//# sourceURL=\"+(Oe.call(t,\"sourceURL\")?(t.sourceURL+\"\").replace(/\\s/g,\" \"):\"lodash.templateSources[\"+ ++rt+\"]\")+\"\\n\";e.replace(d,(function(t,n,r,a,u,l){return r||(r=a),p+=e.slice(c,l).replace(_e,nn),n&&(i=!0,p+=\"' +\\n__e(\"+n+\") +\\n'\"),u&&(o=!0,p+=\"';\\n\"+u+\";\\n__p += '\"),r&&(p+=\"' +\\n((__t = (\"+r+\")) == null ? '' : __t) +\\n'\"),c=l+t.length,t})),p+=\"';\\n\";var v=Oe.call(t,\"variable\")&&t.variable;if(v){if(se.test(v))throw new we(\"Invalid `variable` option passed into `_.template`\")}else p=\"with (obj) {\\n\"+p+\"\\n}\\n\";p=(o?p.replace(B,\"\"):p).replace(W,\"$1\").replace(V,\"$1;\"),p=\"function(\"+(v||\"obj\")+\") {\\n\"+(v?\"\":\"obj || (obj = {});\\n\")+\"var __t, __p = ''\"+(i?\", __e = _.escape\":\"\")+(o?\", __j = Array.prototype.join;\\nfunction print() { __p += __j.call(arguments, '') }\\n\":\";\\n\")+p+\"return __p\\n}\";var g=Zu((function(){return xe(l,h+\"return \"+p).apply(a,s)}));if(g.source=p,Go(g))throw g;return g},jn.times=function(e,t){if((e=du(e))<1||e>f)return[];var n=d,r=yn(e,d);t=ii(t),e-=d;for(var a=Qt(r,t);++n<e;)t(n);return a},jn.toFinite=pu,jn.toInteger=du,jn.toLength=hu,jn.toLower=function(e){return yu(e).toLowerCase()},jn.toNumber=vu,jn.toSafeInteger=function(e){return e?ir(du(e),-9007199254740991,f):0===e?e:0},jn.toString=yu,jn.toUpper=function(e){return yu(e).toUpperCase()},jn.trim=function(e,t,n){if((e=yu(e))&&(n||t===a))return Yt(e);if(!e||!(t=oa(t)))return e;var r=fn(e),i=fn(t);return ma(r,Xt(r,i),Jt(r,i)+1).join(\"\")},jn.trimEnd=function(e,t,n){if((e=yu(e))&&(n||t===a))return e.slice(0,pn(e)+1);if(!e||!(t=oa(t)))return e;var r=fn(e);return ma(r,0,Jt(r,fn(t))+1).join(\"\")},jn.trimStart=function(e,t,n){if((e=yu(e))&&(n||t===a))return e.replace(re,\"\");if(!e||!(t=oa(t)))return e;var r=fn(e);return ma(r,Xt(r,fn(t))).join(\"\")},jn.truncate=function(e,t){var n=30,r=\"...\";if(Jo(t)){var i=\"separator\"in t?t.separator:i;n=\"length\"in t?du(t.length):n,r=\"omission\"in t?oa(t.omission):r}var o=(e=yu(e)).length;if(rn(e)){var u=fn(e);o=u.length}if(n>=o)return e;var l=n-cn(r);if(l<1)return r;var s=u?ma(u,0,l).join(\"\"):e.slice(0,l);if(i===a)return s+r;if(u&&(l+=s.length-l),au(i)){if(e.slice(l).search(i)){var c,f=s;for(i.global||(i=Ee(i.source,yu(pe.exec(i))+\"g\")),i.lastIndex=0;c=i.exec(f);)var p=c.index;s=s.slice(0,p===a?l:p)}}else if(e.indexOf(oa(i),l)!=l){var d=s.lastIndexOf(i);d>-1&&(s=s.slice(0,d))}return s+r},jn.unescape=function(e){return(e=yu(e))&&Q.test(e)?e.replace(H,dn):e},jn.uniqueId=function(e){var t=++Ae;return yu(e)+t},jn.upperCase=Yu,jn.upperFirst=Gu,jn.each=yo,jn.eachRight=mo,jn.first=Vi,ol(jn,(gl={},mr(jn,(function(e,t){Oe.call(jn.prototype,t)||(gl[t]=e)})),gl),{chain:!1}),jn.VERSION=\"4.17.21\",Et([\"bind\",\"bindKey\",\"curry\",\"curryRight\",\"partial\",\"partialRight\"],(function(e){jn[e].placeholder=jn})),Et([\"drop\",\"take\"],(function(e,t){Bn.prototype[e]=function(n){n=n===a?1:gn(du(n),0);var r=this.__filtered__&&!t?new Bn(this):this.clone();return r.__filtered__?r.__takeCount__=yn(n,r.__takeCount__):r.__views__.push({size:yn(n,d),type:e+(r.__dir__<0?\"Right\":\"\")}),r},Bn.prototype[e+\"Right\"]=function(t){return this.reverse()[e](t).reverse()}})),Et([\"filter\",\"map\",\"takeWhile\"],(function(e,t){var n=t+1,r=1==n||3==n;Bn.prototype[e]=function(e){var t=this.clone();return t.__iteratees__.push({iteratee:ii(e,3),type:n}),t.__filtered__=t.__filtered__||r,t}})),Et([\"head\",\"last\"],(function(e,t){var n=\"take\"+(t?\"Right\":\"\");Bn.prototype[e]=function(){return this[n](1).value()[0]}})),Et([\"initial\",\"tail\"],(function(e,t){var n=\"drop\"+(t?\"\":\"Right\");Bn.prototype[e]=function(){return this.__filtered__?new Bn(this):this[n](1)}})),Bn.prototype.compact=function(){return this.filter(nl)},Bn.prototype.find=function(e){return this.filter(e).head()},Bn.prototype.findLast=function(e){return this.reverse().find(e)},Bn.prototype.invokeMap=Qr((function(e,t){return\"function\"==typeof e?new Bn(this):this.map((function(n){return Mr(n,e,t)}))})),Bn.prototype.reject=function(e){return this.filter(Ao(ii(e)))},Bn.prototype.slice=function(e,t){e=du(e);var n=this;return n.__filtered__&&(e>0||t<0)?new Bn(n):(e<0?n=n.takeRight(-e):e&&(n=n.drop(e)),t!==a&&(n=(t=du(t))<0?n.dropRight(-t):n.take(t-e)),n)},Bn.prototype.takeRightWhile=function(e){return this.reverse().takeWhile(e).reverse()},Bn.prototype.toArray=function(){return this.take(d)},mr(Bn.prototype,(function(e,t){var n=/^(?:filter|find|map|reject)|While$/.test(t),r=/^(?:head|last)$/.test(t),i=jn[r?\"take\"+(\"last\"==t?\"Right\":\"\"):t],o=r||/^find/.test(t);i&&(jn.prototype[t]=function(){var t=this.__wrapped__,u=r?[1]:arguments,l=t instanceof Bn,s=u[0],c=l||Wo(t),f=function(e){var t=i.apply(jn,Lt([e],u));return r&&p?t[0]:t};c&&n&&\"function\"==typeof s&&1!=s.length&&(l=c=!1);var p=this.__chain__,d=!!this.__actions__.length,h=o&&!p,v=l&&!d;if(!o&&c){t=v?t:new Bn(this);var g=e.apply(t,u);return g.__actions__.push({func:fo,args:[f],thisArg:a}),new $n(g,p)}return h&&v?e.apply(this,u):(g=this.thru(f),h?r?g.value()[0]:g.value():g)})})),Et([\"pop\",\"push\",\"shift\",\"sort\",\"splice\",\"unshift\"],(function(e){var t=Me[e],n=/^(?:push|sort|unshift)$/.test(e)?\"tap\":\"thru\",r=/^(?:pop|shift)$/.test(e);jn.prototype[e]=function(){var e=arguments;if(r&&!this.__chain__){var a=this.value();return t.apply(Wo(a)?a:[],e)}return this[n]((function(n){return t.apply(Wo(n)?n:[],e)}))}})),mr(Bn.prototype,(function(e,t){var n=jn[t];if(n){var r=n.name+\"\";Oe.call(Nn,r)||(Nn[r]=[]),Nn[r].push({name:t,func:n})}})),Nn[Ra(a,2).name]=[{name:\"wrapper\",func:a}],Bn.prototype.clone=function(){var e=new Bn(this.__wrapped__);return e.__actions__=Ca(this.__actions__),e.__dir__=this.__dir__,e.__filtered__=this.__filtered__,e.__iteratees__=Ca(this.__iteratees__),e.__takeCount__=this.__takeCount__,e.__views__=Ca(this.__views__),e},Bn.prototype.reverse=function(){if(this.__filtered__){var e=new Bn(this);e.__dir__=-1,e.__filtered__=!0}else(e=this.clone()).__dir__*=-1;return e},Bn.prototype.value=function(){var e=this.__wrapped__.value(),t=this.__dir__,n=Wo(e),r=t<0,a=n?e.length:0,i=function(e,t,n){for(var r=-1,a=n.length;++r<a;){var i=n[r],o=i.size;switch(i.type){case\"drop\":e+=o;break;case\"dropRight\":t-=o;break;case\"take\":t=yn(t,e+o);break;case\"takeRight\":e=gn(e,t-o)}}return{start:e,end:t}}(0,a,this.__views__),o=i.start,u=i.end,l=u-o,s=r?u:o-1,c=this.__iteratees__,f=c.length,p=0,d=yn(l,this.__takeCount__);if(!n||!r&&a==l&&d==l)return fa(e,this.__actions__);var h=[];e:for(;l--&&p<d;){for(var v=-1,g=e[s+=t];++v<f;){var y=c[v],m=y.iteratee,b=y.type,_=m(g);if(2==b)g=_;else if(!_){if(1==b)continue e;break e}}h[p++]=g}return h},jn.prototype.at=po,jn.prototype.chain=function(){return co(this)},jn.prototype.commit=function(){return new $n(this.value(),this.__chain__)},jn.prototype.next=function(){this.__values__===a&&(this.__values__=fu(this.value()));var e=this.__index__>=this.__values__.length;return{done:e,value:e?a:this.__values__[this.__index__++]}},jn.prototype.plant=function(e){for(var t,n=this;n instanceof In;){var r=Ri(n);r.__index__=0,r.__values__=a,t?i.__wrapped__=r:t=r;var i=r;n=n.__wrapped__}return i.__wrapped__=e,t},jn.prototype.reverse=function(){var e=this.__wrapped__;if(e instanceof Bn){var t=e;return this.__actions__.length&&(t=new Bn(this)),(t=t.reverse()).__actions__.push({func:fo,args:[Xi],thisArg:a}),new $n(t,this.__chain__)}return this.thru(Xi)},jn.prototype.toJSON=jn.prototype.valueOf=jn.prototype.value=function(){return fa(this.__wrapped__,this.__actions__)},jn.prototype.first=jn.prototype.head,Ge&&(jn.prototype[Ge]=function(){return this}),jn}();ft._=hn,(r=function(){return hn}.call(t,n,t,e))===a||(e.exports=r)}.call(this)},448:(e,t,n)=>{\"use strict\";var r=n(294),a=n(840);function i(e){for(var t=\"https://reactjs.org/docs/error-decoder.html?invariant=\"+e,n=1;n<arguments.length;n++)t+=\"&args[]=\"+encodeURIComponent(arguments[n]);return\"Minified React error #\"+e+\"; visit \"+t+\" for the full message or use the non-minified dev environment for full errors and additional helpful warnings.\"}var o=new Set,u={};function l(e,t){s(e,t),s(e+\"Capture\",t)}function s(e,t){for(u[e]=t,e=0;e<t.length;e++)o.add(t[e])}var c=!(\"undefined\"==typeof window||void 0===window.document||void 0===window.document.createElement),f=Object.prototype.hasOwnProperty,p=/^[:A-Z_a-z\\u00C0-\\u00D6\\u00D8-\\u00F6\\u00F8-\\u02FF\\u0370-\\u037D\\u037F-\\u1FFF\\u200C-\\u200D\\u2070-\\u218F\\u2C00-\\u2FEF\\u3001-\\uD7FF\\uF900-\\uFDCF\\uFDF0-\\uFFFD][:A-Z_a-z\\u00C0-\\u00D6\\u00D8-\\u00F6\\u00F8-\\u02FF\\u0370-\\u037D\\u037F-\\u1FFF\\u200C-\\u200D\\u2070-\\u218F\\u2C00-\\u2FEF\\u3001-\\uD7FF\\uF900-\\uFDCF\\uFDF0-\\uFFFD\\-.0-9\\u00B7\\u0300-\\u036F\\u203F-\\u2040]*$/,d={},h={};function v(e,t,n,r,a,i,o){this.acceptsBooleans=2===t||3===t||4===t,this.attributeName=r,this.attributeNamespace=a,this.mustUseProperty=n,this.propertyName=e,this.type=t,this.sanitizeURL=i,this.removeEmptyString=o}var g={};\"children dangerouslySetInnerHTML defaultValue defaultChecked innerHTML suppressContentEditableWarning suppressHydrationWarning style\".split(\" \").forEach((function(e){g[e]=new v(e,0,!1,e,null,!1,!1)})),[[\"acceptCharset\",\"accept-charset\"],[\"className\",\"class\"],[\"htmlFor\",\"for\"],[\"httpEquiv\",\"http-equiv\"]].forEach((function(e){var t=e[0];g[t]=new v(t,1,!1,e[1],null,!1,!1)})),[\"contentEditable\",\"draggable\",\"spellCheck\",\"value\"].forEach((function(e){g[e]=new v(e,2,!1,e.toLowerCase(),null,!1,!1)})),[\"autoReverse\",\"externalResourcesRequired\",\"focusable\",\"preserveAlpha\"].forEach((function(e){g[e]=new v(e,2,!1,e,null,!1,!1)})),\"allowFullScreen async autoFocus autoPlay controls default defer disabled disablePictureInPicture disableRemotePlayback formNoValidate hidden loop noModule noValidate open playsInline readOnly required reversed scoped seamless itemScope\".split(\" \").forEach((function(e){g[e]=new v(e,3,!1,e.toLowerCase(),null,!1,!1)})),[\"checked\",\"multiple\",\"muted\",\"selected\"].forEach((function(e){g[e]=new v(e,3,!0,e,null,!1,!1)})),[\"capture\",\"download\"].forEach((function(e){g[e]=new v(e,4,!1,e,null,!1,!1)})),[\"cols\",\"rows\",\"size\",\"span\"].forEach((function(e){g[e]=new v(e,6,!1,e,null,!1,!1)})),[\"rowSpan\",\"start\"].forEach((function(e){g[e]=new v(e,5,!1,e.toLowerCase(),null,!1,!1)}));var y=/[\\-:]([a-z])/g;function m(e){return e[1].toUpperCase()}function b(e,t,n,r){var a=g.hasOwnProperty(t)?g[t]:null;(null!==a?0!==a.type:r||!(2<t.length)||\"o\"!==t[0]&&\"O\"!==t[0]||\"n\"!==t[1]&&\"N\"!==t[1])&&(function(e,t,n,r){if(null==t||function(e,t,n,r){if(null!==n&&0===n.type)return!1;switch(typeof t){case\"function\":case\"symbol\":return!0;case\"boolean\":return!r&&(null!==n?!n.acceptsBooleans:\"data-\"!==(e=e.toLowerCase().slice(0,5))&&\"aria-\"!==e);default:return!1}}(e,t,n,r))return!0;if(r)return!1;if(null!==n)switch(n.type){case 3:return!t;case 4:return!1===t;case 5:return isNaN(t);case 6:return isNaN(t)||1>t}return!1}(t,n,a,r)&&(n=null),r||null===a?function(e){return!!f.call(h,e)||!f.call(d,e)&&(p.test(e)?h[e]=!0:(d[e]=!0,!1))}(t)&&(null===n?e.removeAttribute(t):e.setAttribute(t,\"\"+n)):a.mustUseProperty?e[a.propertyName]=null===n?3!==a.type&&\"\":n:(t=a.attributeName,r=a.attributeNamespace,null===n?e.removeAttribute(t):(n=3===(a=a.type)||4===a&&!0===n?\"\":\"\"+n,r?e.setAttributeNS(r,t,n):e.setAttribute(t,n))))}\"accent-height alignment-baseline arabic-form baseline-shift cap-height clip-path clip-rule color-interpolation color-interpolation-filters color-profile color-rendering dominant-baseline enable-background fill-opacity fill-rule flood-color flood-opacity font-family font-size font-size-adjust font-stretch font-style font-variant font-weight glyph-name glyph-orientation-horizontal glyph-orientation-vertical horiz-adv-x horiz-origin-x image-rendering letter-spacing lighting-color marker-end marker-mid marker-start overline-position overline-thickness paint-order panose-1 pointer-events rendering-intent shape-rendering stop-color stop-opacity strikethrough-position strikethrough-thickness stroke-dasharray stroke-dashoffset stroke-linecap stroke-linejoin stroke-miterlimit stroke-opacity stroke-width text-anchor text-decoration text-rendering underline-position underline-thickness unicode-bidi unicode-range units-per-em v-alphabetic v-hanging v-ideographic v-mathematical vector-effect vert-adv-y vert-origin-x vert-origin-y word-spacing writing-mode xmlns:xlink x-height\".split(\" \").forEach((function(e){var t=e.replace(y,m);g[t]=new v(t,1,!1,e,null,!1,!1)})),\"xlink:actuate xlink:arcrole xlink:role xlink:show xlink:title xlink:type\".split(\" \").forEach((function(e){var t=e.replace(y,m);g[t]=new v(t,1,!1,e,\"http://www.w3.org/1999/xlink\",!1,!1)})),[\"xml:base\",\"xml:lang\",\"xml:space\"].forEach((function(e){var t=e.replace(y,m);g[t]=new v(t,1,!1,e,\"http://www.w3.org/XML/1998/namespace\",!1,!1)})),[\"tabIndex\",\"crossOrigin\"].forEach((function(e){g[e]=new v(e,1,!1,e.toLowerCase(),null,!1,!1)})),g.xlinkHref=new v(\"xlinkHref\",1,!1,\"xlink:href\",\"http://www.w3.org/1999/xlink\",!0,!1),[\"src\",\"href\",\"action\",\"formAction\"].forEach((function(e){g[e]=new v(e,1,!1,e.toLowerCase(),null,!0,!0)}));var _=r.__SECRET_INTERNALS_DO_NOT_USE_OR_YOU_WILL_BE_FIRED,w=Symbol.for(\"react.element\"),x=Symbol.for(\"react.portal\"),k=Symbol.for(\"react.fragment\"),S=Symbol.for(\"react.strict_mode\"),E=Symbol.for(\"react.profiler\"),C=Symbol.for(\"react.provider\"),T=Symbol.for(\"react.context\"),M=Symbol.for(\"react.forward_ref\"),N=Symbol.for(\"react.suspense\"),P=Symbol.for(\"react.suspense_list\"),z=Symbol.for(\"react.memo\"),L=Symbol.for(\"react.lazy\");Symbol.for(\"react.scope\"),Symbol.for(\"react.debug_trace_mode\");var O=Symbol.for(\"react.offscreen\");Symbol.for(\"react.legacy_hidden\"),Symbol.for(\"react.cache\"),Symbol.for(\"react.tracing_marker\");var A=Symbol.iterator;function F(e){return null===e||\"object\"!=typeof e?null:\"function\"==typeof(e=A&&e[A]||e[\"@@iterator\"])?e:null}var D,R=Object.assign;function j(e){if(void 0===D)try{throw Error()}catch(e){var t=e.stack.trim().match(/\\n( *(at )?)/);D=t&&t[1]||\"\"}return\"\\n\"+D+e}var U=!1;function I(e,t){if(!e||U)return\"\";U=!0;var n=Error.prepareStackTrace;Error.prepareStackTrace=void 0;try{if(t)if(t=function(){throw Error()},Object.defineProperty(t.prototype,\"props\",{set:function(){throw Error()}}),\"object\"==typeof Reflect&&Reflect.construct){try{Reflect.construct(t,[])}catch(e){var r=e}Reflect.construct(e,[],t)}else{try{t.call()}catch(e){r=e}e.call(t.prototype)}else{try{throw Error()}catch(e){r=e}e()}}catch(t){if(t&&r&&\"string\"==typeof t.stack){for(var a=t.stack.split(\"\\n\"),i=r.stack.split(\"\\n\"),o=a.length-1,u=i.length-1;1<=o&&0<=u&&a[o]!==i[u];)u--;for(;1<=o&&0<=u;o--,u--)if(a[o]!==i[u]){if(1!==o||1!==u)do{if(o--,0>--u||a[o]!==i[u]){var l=\"\\n\"+a[o].replace(\" at new \",\" at \");return e.displayName&&l.includes(\"<anonymous>\")&&(l=l.replace(\"<anonymous>\",e.displayName)),l}}while(1<=o&&0<=u);break}}}finally{U=!1,Error.prepareStackTrace=n}return(e=e?e.displayName||e.name:\"\")?j(e):\"\"}function $(e){switch(e.tag){case 5:return j(e.type);case 16:return j(\"Lazy\");case 13:return j(\"Suspense\");case 19:return j(\"SuspenseList\");case 0:case 2:case 15:return I(e.type,!1);case 11:return I(e.type.render,!1);case 1:return I(e.type,!0);default:return\"\"}}function B(e){if(null==e)return null;if(\"function\"==typeof e)return e.displayName||e.name||null;if(\"string\"==typeof e)return e;switch(e){case k:return\"Fragment\";case x:return\"Portal\";case E:return\"Profiler\";case S:return\"StrictMode\";case N:return\"Suspense\";case P:return\"SuspenseList\"}if(\"object\"==typeof e)switch(e.$$typeof){case T:return(e.displayName||\"Context\")+\".Consumer\";case C:return(e._context.displayName||\"Context\")+\".Provider\";case M:var t=e.render;return(e=e.displayName)||(e=\"\"!==(e=t.displayName||t.name||\"\")?\"ForwardRef(\"+e+\")\":\"ForwardRef\"),e;case z:return null!==(t=e.displayName||null)?t:B(e.type)||\"Memo\";case L:t=e._payload,e=e._init;try{return B(e(t))}catch(e){}}return null}function W(e){var t=e.type;switch(e.tag){case 24:return\"Cache\";case 9:return(t.displayName||\"Context\")+\".Consumer\";case 10:return(t._context.displayName||\"Context\")+\".Provider\";case 18:return\"DehydratedFragment\";case 11:return e=(e=t.render).displayName||e.name||\"\",t.displayName||(\"\"!==e?\"ForwardRef(\"+e+\")\":\"ForwardRef\");case 7:return\"Fragment\";case 5:return t;case 4:return\"Portal\";case 3:return\"Root\";case 6:return\"Text\";case 16:return B(t);case 8:return t===S?\"StrictMode\":\"Mode\";case 22:return\"Offscreen\";case 12:return\"Profiler\";case 21:return\"Scope\";case 13:return\"Suspense\";case 19:return\"SuspenseList\";case 25:return\"TracingMarker\";case 1:case 0:case 17:case 2:case 14:case 15:if(\"function\"==typeof t)return t.displayName||t.name||null;if(\"string\"==typeof t)return t}return null}function V(e){switch(typeof e){case\"boolean\":case\"number\":case\"string\":case\"undefined\":case\"object\":return e;default:return\"\"}}function H(e){var t=e.type;return(e=e.nodeName)&&\"input\"===e.toLowerCase()&&(\"checkbox\"===t||\"radio\"===t)}function q(e){e._valueTracker||(e._valueTracker=function(e){var t=H(e)?\"checked\":\"value\",n=Object.getOwnPropertyDescriptor(e.constructor.prototype,t),r=\"\"+e[t];if(!e.hasOwnProperty(t)&&void 0!==n&&\"function\"==typeof n.get&&\"function\"==typeof n.set){var a=n.get,i=n.set;return Object.defineProperty(e,t,{configurable:!0,get:function(){return a.call(this)},set:function(e){r=\"\"+e,i.call(this,e)}}),Object.defineProperty(e,t,{enumerable:n.enumerable}),{getValue:function(){return r},setValue:function(e){r=\"\"+e},stopTracking:function(){e._valueTracker=null,delete e[t]}}}}(e))}function Q(e){if(!e)return!1;var t=e._valueTracker;if(!t)return!0;var n=t.getValue(),r=\"\";return e&&(r=H(e)?e.checked?\"true\":\"false\":e.value),(e=r)!==n&&(t.setValue(e),!0)}function Y(e){if(void 0===(e=e||(\"undefined\"!=typeof document?document:void 0)))return null;try{return e.activeElement||e.body}catch(t){return e.body}}function G(e,t){var n=t.checked;return R({},t,{defaultChecked:void 0,defaultValue:void 0,value:void 0,checked:null!=n?n:e._wrapperState.initialChecked})}function K(e,t){var n=null==t.defaultValue?\"\":t.defaultValue,r=null!=t.checked?t.checked:t.defaultChecked;n=V(null!=t.value?t.value:n),e._wrapperState={initialChecked:r,initialValue:n,controlled:\"checkbox\"===t.type||\"radio\"===t.type?null!=t.checked:null!=t.value}}function Z(e,t){null!=(t=t.checked)&&b(e,\"checked\",t,!1)}function X(e,t){Z(e,t);var n=V(t.value),r=t.type;if(null!=n)\"number\"===r?(0===n&&\"\"===e.value||e.value!=n)&&(e.value=\"\"+n):e.value!==\"\"+n&&(e.value=\"\"+n);else if(\"submit\"===r||\"reset\"===r)return void e.removeAttribute(\"value\");t.hasOwnProperty(\"value\")?ee(e,t.type,n):t.hasOwnProperty(\"defaultValue\")&&ee(e,t.type,V(t.defaultValue)),null==t.checked&&null!=t.defaultChecked&&(e.defaultChecked=!!t.defaultChecked)}function J(e,t,n){if(t.hasOwnProperty(\"value\")||t.hasOwnProperty(\"defaultValue\")){var r=t.type;if(!(\"submit\"!==r&&\"reset\"!==r||void 0!==t.value&&null!==t.value))return;t=\"\"+e._wrapperState.initialValue,n||t===e.value||(e.value=t),e.defaultValue=t}\"\"!==(n=e.name)&&(e.name=\"\"),e.defaultChecked=!!e._wrapperState.initialChecked,\"\"!==n&&(e.name=n)}function ee(e,t,n){\"number\"===t&&Y(e.ownerDocument)===e||(null==n?e.defaultValue=\"\"+e._wrapperState.initialValue:e.defaultValue!==\"\"+n&&(e.defaultValue=\"\"+n))}var te=Array.isArray;function ne(e,t,n,r){if(e=e.options,t){t={};for(var a=0;a<n.length;a++)t[\"$\"+n[a]]=!0;for(n=0;n<e.length;n++)a=t.hasOwnProperty(\"$\"+e[n].value),e[n].selected!==a&&(e[n].selected=a),a&&r&&(e[n].defaultSelected=!0)}else{for(n=\"\"+V(n),t=null,a=0;a<e.length;a++){if(e[a].value===n)return e[a].selected=!0,void(r&&(e[a].defaultSelected=!0));null!==t||e[a].disabled||(t=e[a])}null!==t&&(t.selected=!0)}}function re(e,t){if(null!=t.dangerouslySetInnerHTML)throw Error(i(91));return R({},t,{value:void 0,defaultValue:void 0,children:\"\"+e._wrapperState.initialValue})}function ae(e,t){var n=t.value;if(null==n){if(n=t.children,t=t.defaultValue,null!=n){if(null!=t)throw Error(i(92));if(te(n)){if(1<n.length)throw Error(i(93));n=n[0]}t=n}null==t&&(t=\"\"),n=t}e._wrapperState={initialValue:V(n)}}function ie(e,t){var n=V(t.value),r=V(t.defaultValue);null!=n&&((n=\"\"+n)!==e.value&&(e.value=n),null==t.defaultValue&&e.defaultValue!==n&&(e.defaultValue=n)),null!=r&&(e.defaultValue=\"\"+r)}function oe(e){var t=e.textContent;t===e._wrapperState.initialValue&&\"\"!==t&&null!==t&&(e.value=t)}function ue(e){switch(e){case\"svg\":return\"http://www.w3.org/2000/svg\";case\"math\":return\"http://www.w3.org/1998/Math/MathML\";default:return\"http://www.w3.org/1999/xhtml\"}}function le(e,t){return null==e||\"http://www.w3.org/1999/xhtml\"===e?ue(t):\"http://www.w3.org/2000/svg\"===e&&\"foreignObject\"===t?\"http://www.w3.org/1999/xhtml\":e}var se,ce,fe=(ce=function(e,t){if(\"http://www.w3.org/2000/svg\"!==e.namespaceURI||\"innerHTML\"in e)e.innerHTML=t;else{for((se=se||document.createElement(\"div\")).innerHTML=\"<svg>\"+t.valueOf().toString()+\"</svg>\",t=se.firstChild;e.firstChild;)e.removeChild(e.firstChild);for(;t.firstChild;)e.appendChild(t.firstChild)}},\"undefined\"!=typeof MSApp&&MSApp.execUnsafeLocalFunction?function(e,t,n,r){MSApp.execUnsafeLocalFunction((function(){return ce(e,t)}))}:ce);function pe(e,t){if(t){var n=e.firstChild;if(n&&n===e.lastChild&&3===n.nodeType)return void(n.nodeValue=t)}e.textContent=t}var de={animationIterationCount:!0,aspectRatio:!0,borderImageOutset:!0,borderImageSlice:!0,borderImageWidth:!0,boxFlex:!0,boxFlexGroup:!0,boxOrdinalGroup:!0,columnCount:!0,columns:!0,flex:!0,flexGrow:!0,flexPositive:!0,flexShrink:!0,flexNegative:!0,flexOrder:!0,gridArea:!0,gridRow:!0,gridRowEnd:!0,gridRowSpan:!0,gridRowStart:!0,gridColumn:!0,gridColumnEnd:!0,gridColumnSpan:!0,gridColumnStart:!0,fontWeight:!0,lineClamp:!0,lineHeight:!0,opacity:!0,order:!0,orphans:!0,tabSize:!0,widows:!0,zIndex:!0,zoom:!0,fillOpacity:!0,floodOpacity:!0,stopOpacity:!0,strokeDasharray:!0,strokeDashoffset:!0,strokeMiterlimit:!0,strokeOpacity:!0,strokeWidth:!0},he=[\"Webkit\",\"ms\",\"Moz\",\"O\"];function ve(e,t,n){return null==t||\"boolean\"==typeof t||\"\"===t?\"\":n||\"number\"!=typeof t||0===t||de.hasOwnProperty(e)&&de[e]?(\"\"+t).trim():t+\"px\"}function ge(e,t){for(var n in e=e.style,t)if(t.hasOwnProperty(n)){var r=0===n.indexOf(\"--\"),a=ve(n,t[n],r);\"float\"===n&&(n=\"cssFloat\"),r?e.setProperty(n,a):e[n]=a}}Object.keys(de).forEach((function(e){he.forEach((function(t){t=t+e.charAt(0).toUpperCase()+e.substring(1),de[t]=de[e]}))}));var ye=R({menuitem:!0},{area:!0,base:!0,br:!0,col:!0,embed:!0,hr:!0,img:!0,input:!0,keygen:!0,link:!0,meta:!0,param:!0,source:!0,track:!0,wbr:!0});function me(e,t){if(t){if(ye[e]&&(null!=t.children||null!=t.dangerouslySetInnerHTML))throw Error(i(137,e));if(null!=t.dangerouslySetInnerHTML){if(null!=t.children)throw Error(i(60));if(\"object\"!=typeof t.dangerouslySetInnerHTML||!(\"__html\"in t.dangerouslySetInnerHTML))throw Error(i(61))}if(null!=t.style&&\"object\"!=typeof t.style)throw Error(i(62))}}function be(e,t){if(-1===e.indexOf(\"-\"))return\"string\"==typeof t.is;switch(e){case\"annotation-xml\":case\"color-profile\":case\"font-face\":case\"font-face-src\":case\"font-face-uri\":case\"font-face-format\":case\"font-face-name\":case\"missing-glyph\":return!1;default:return!0}}var _e=null;function we(e){return(e=e.target||e.srcElement||window).correspondingUseElement&&(e=e.correspondingUseElement),3===e.nodeType?e.parentNode:e}var xe=null,ke=null,Se=null;function Ee(e){if(e=ba(e)){if(\"function\"!=typeof xe)throw Error(i(280));var t=e.stateNode;t&&(t=wa(t),xe(e.stateNode,e.type,t))}}function Ce(e){ke?Se?Se.push(e):Se=[e]:ke=e}function Te(){if(ke){var e=ke,t=Se;if(Se=ke=null,Ee(e),t)for(e=0;e<t.length;e++)Ee(t[e])}}function Me(e,t){return e(t)}function Ne(){}var Pe=!1;function ze(e,t,n){if(Pe)return e(t,n);Pe=!0;try{return Me(e,t,n)}finally{Pe=!1,(null!==ke||null!==Se)&&(Ne(),Te())}}function Le(e,t){var n=e.stateNode;if(null===n)return null;var r=wa(n);if(null===r)return null;n=r[t];e:switch(t){case\"onClick\":case\"onClickCapture\":case\"onDoubleClick\":case\"onDoubleClickCapture\":case\"onMouseDown\":case\"onMouseDownCapture\":case\"onMouseMove\":case\"onMouseMoveCapture\":case\"onMouseUp\":case\"onMouseUpCapture\":case\"onMouseEnter\":(r=!r.disabled)||(r=!(\"button\"===(e=e.type)||\"input\"===e||\"select\"===e||\"textarea\"===e)),e=!r;break e;default:e=!1}if(e)return null;if(n&&\"function\"!=typeof n)throw Error(i(231,t,typeof n));return n}var Oe=!1;if(c)try{var Ae={};Object.defineProperty(Ae,\"passive\",{get:function(){Oe=!0}}),window.addEventListener(\"test\",Ae,Ae),window.removeEventListener(\"test\",Ae,Ae)}catch(ce){Oe=!1}function Fe(e,t,n,r,a,i,o,u,l){var s=Array.prototype.slice.call(arguments,3);try{t.apply(n,s)}catch(e){this.onError(e)}}var De=!1,Re=null,je=!1,Ue=null,Ie={onError:function(e){De=!0,Re=e}};function $e(e,t,n,r,a,i,o,u,l){De=!1,Re=null,Fe.apply(Ie,arguments)}function Be(e){var t=e,n=e;if(e.alternate)for(;t.return;)t=t.return;else{e=t;do{0!=(4098&(t=e).flags)&&(n=t.return),e=t.return}while(e)}return 3===t.tag?n:null}function We(e){if(13===e.tag){var t=e.memoizedState;if(null===t&&null!==(e=e.alternate)&&(t=e.memoizedState),null!==t)return t.dehydrated}return null}function Ve(e){if(Be(e)!==e)throw Error(i(188))}function He(e){return null!==(e=function(e){var t=e.alternate;if(!t){if(null===(t=Be(e)))throw Error(i(188));return t!==e?null:e}for(var n=e,r=t;;){var a=n.return;if(null===a)break;var o=a.alternate;if(null===o){if(null!==(r=a.return)){n=r;continue}break}if(a.child===o.child){for(o=a.child;o;){if(o===n)return Ve(a),e;if(o===r)return Ve(a),t;o=o.sibling}throw Error(i(188))}if(n.return!==r.return)n=a,r=o;else{for(var u=!1,l=a.child;l;){if(l===n){u=!0,n=a,r=o;break}if(l===r){u=!0,r=a,n=o;break}l=l.sibling}if(!u){for(l=o.child;l;){if(l===n){u=!0,n=o,r=a;break}if(l===r){u=!0,r=o,n=a;break}l=l.sibling}if(!u)throw Error(i(189))}}if(n.alternate!==r)throw Error(i(190))}if(3!==n.tag)throw Error(i(188));return n.stateNode.current===n?e:t}(e))?qe(e):null}function qe(e){if(5===e.tag||6===e.tag)return e;for(e=e.child;null!==e;){var t=qe(e);if(null!==t)return t;e=e.sibling}return null}var Qe=a.unstable_scheduleCallback,Ye=a.unstable_cancelCallback,Ge=a.unstable_shouldYield,Ke=a.unstable_requestPaint,Ze=a.unstable_now,Xe=a.unstable_getCurrentPriorityLevel,Je=a.unstable_ImmediatePriority,et=a.unstable_UserBlockingPriority,tt=a.unstable_NormalPriority,nt=a.unstable_LowPriority,rt=a.unstable_IdlePriority,at=null,it=null,ot=Math.clz32?Math.clz32:function(e){return 0===(e>>>=0)?32:31-(ut(e)/lt|0)|0},ut=Math.log,lt=Math.LN2,st=64,ct=4194304;function ft(e){switch(e&-e){case 1:return 1;case 2:return 2;case 4:return 4;case 8:return 8;case 16:return 16;case 32:return 32;case 64:case 128:case 256:case 512:case 1024:case 2048:case 4096:case 8192:case 16384:case 32768:case 65536:case 131072:case 262144:case 524288:case 1048576:case 2097152:return 4194240&e;case 4194304:case 8388608:case 16777216:case 33554432:case 67108864:return 130023424&e;case 134217728:return 134217728;case 268435456:return 268435456;case 536870912:return 536870912;case 1073741824:return 1073741824;default:return e}}function pt(e,t){var n=e.pendingLanes;if(0===n)return 0;var r=0,a=e.suspendedLanes,i=e.pingedLanes,o=268435455&n;if(0!==o){var u=o&~a;0!==u?r=ft(u):0!=(i&=o)&&(r=ft(i))}else 0!=(o=n&~a)?r=ft(o):0!==i&&(r=ft(i));if(0===r)return 0;if(0!==t&&t!==r&&0==(t&a)&&((a=r&-r)>=(i=t&-t)||16===a&&0!=(4194240&i)))return t;if(0!=(4&r)&&(r|=16&n),0!==(t=e.entangledLanes))for(e=e.entanglements,t&=r;0<t;)a=1<<(n=31-ot(t)),r|=e[n],t&=~a;return r}function dt(e,t){switch(e){case 1:case 2:case 4:return t+250;case 8:case 16:case 32:case 64:case 128:case 256:case 512:case 1024:case 2048:case 4096:case 8192:case 16384:case 32768:case 65536:case 131072:case 262144:case 524288:case 1048576:case 2097152:return t+5e3;default:return-1}}function ht(e){return 0!=(e=-1073741825&e.pendingLanes)?e:1073741824&e?1073741824:0}function vt(){var e=st;return 0==(4194240&(st<<=1))&&(st=64),e}function gt(e){for(var t=[],n=0;31>n;n++)t.push(e);return t}function yt(e,t,n){e.pendingLanes|=t,536870912!==t&&(e.suspendedLanes=0,e.pingedLanes=0),(e=e.eventTimes)[t=31-ot(t)]=n}function mt(e,t){var n=e.entangledLanes|=t;for(e=e.entanglements;n;){var r=31-ot(n),a=1<<r;a&t|e[r]&t&&(e[r]|=t),n&=~a}}var bt=0;function _t(e){return 1<(e&=-e)?4<e?0!=(268435455&e)?16:536870912:4:1}var wt,xt,kt,St,Et,Ct=!1,Tt=[],Mt=null,Nt=null,Pt=null,zt=new Map,Lt=new Map,Ot=[],At=\"mousedown mouseup touchcancel touchend touchstart auxclick dblclick pointercancel pointerdown pointerup dragend dragstart drop compositionend compositionstart keydown keypress keyup input textInput copy cut paste click change contextmenu reset submit\".split(\" \");function Ft(e,t){switch(e){case\"focusin\":case\"focusout\":Mt=null;break;case\"dragenter\":case\"dragleave\":Nt=null;break;case\"mouseover\":case\"mouseout\":Pt=null;break;case\"pointerover\":case\"pointerout\":zt.delete(t.pointerId);break;case\"gotpointercapture\":case\"lostpointercapture\":Lt.delete(t.pointerId)}}function Dt(e,t,n,r,a,i){return null===e||e.nativeEvent!==i?(e={blockedOn:t,domEventName:n,eventSystemFlags:r,nativeEvent:i,targetContainers:[a]},null!==t&&null!==(t=ba(t))&&xt(t),e):(e.eventSystemFlags|=r,t=e.targetContainers,null!==a&&-1===t.indexOf(a)&&t.push(a),e)}function Rt(e){var t=ma(e.target);if(null!==t){var n=Be(t);if(null!==n)if(13===(t=n.tag)){if(null!==(t=We(n)))return e.blockedOn=t,void Et(e.priority,(function(){kt(n)}))}else if(3===t&&n.stateNode.current.memoizedState.isDehydrated)return void(e.blockedOn=3===n.tag?n.stateNode.containerInfo:null)}e.blockedOn=null}function jt(e){if(null!==e.blockedOn)return!1;for(var t=e.targetContainers;0<t.length;){var n=Gt(e.domEventName,e.eventSystemFlags,t[0],e.nativeEvent);if(null!==n)return null!==(t=ba(n))&&xt(t),e.blockedOn=n,!1;var r=new(n=e.nativeEvent).constructor(n.type,n);_e=r,n.target.dispatchEvent(r),_e=null,t.shift()}return!0}function Ut(e,t,n){jt(e)&&n.delete(t)}function It(){Ct=!1,null!==Mt&&jt(Mt)&&(Mt=null),null!==Nt&&jt(Nt)&&(Nt=null),null!==Pt&&jt(Pt)&&(Pt=null),zt.forEach(Ut),Lt.forEach(Ut)}function $t(e,t){e.blockedOn===t&&(e.blockedOn=null,Ct||(Ct=!0,a.unstable_scheduleCallback(a.unstable_NormalPriority,It)))}function Bt(e){function t(t){return $t(t,e)}if(0<Tt.length){$t(Tt[0],e);for(var n=1;n<Tt.length;n++){var r=Tt[n];r.blockedOn===e&&(r.blockedOn=null)}}for(null!==Mt&&$t(Mt,e),null!==Nt&&$t(Nt,e),null!==Pt&&$t(Pt,e),zt.forEach(t),Lt.forEach(t),n=0;n<Ot.length;n++)(r=Ot[n]).blockedOn===e&&(r.blockedOn=null);for(;0<Ot.length&&null===(n=Ot[0]).blockedOn;)Rt(n),null===n.blockedOn&&Ot.shift()}var Wt=_.ReactCurrentBatchConfig,Vt=!0;function Ht(e,t,n,r){var a=bt,i=Wt.transition;Wt.transition=null;try{bt=1,Qt(e,t,n,r)}finally{bt=a,Wt.transition=i}}function qt(e,t,n,r){var a=bt,i=Wt.transition;Wt.transition=null;try{bt=4,Qt(e,t,n,r)}finally{bt=a,Wt.transition=i}}function Qt(e,t,n,r){if(Vt){var a=Gt(e,t,n,r);if(null===a)Vr(e,t,r,Yt,n),Ft(e,r);else if(function(e,t,n,r,a){switch(t){case\"focusin\":return Mt=Dt(Mt,e,t,n,r,a),!0;case\"dragenter\":return Nt=Dt(Nt,e,t,n,r,a),!0;case\"mouseover\":return Pt=Dt(Pt,e,t,n,r,a),!0;case\"pointerover\":var i=a.pointerId;return zt.set(i,Dt(zt.get(i)||null,e,t,n,r,a)),!0;case\"gotpointercapture\":return i=a.pointerId,Lt.set(i,Dt(Lt.get(i)||null,e,t,n,r,a)),!0}return!1}(a,e,t,n,r))r.stopPropagation();else if(Ft(e,r),4&t&&-1<At.indexOf(e)){for(;null!==a;){var i=ba(a);if(null!==i&&wt(i),null===(i=Gt(e,t,n,r))&&Vr(e,t,r,Yt,n),i===a)break;a=i}null!==a&&r.stopPropagation()}else Vr(e,t,r,null,n)}}var Yt=null;function Gt(e,t,n,r){if(Yt=null,null!==(e=ma(e=we(r))))if(null===(t=Be(e)))e=null;else if(13===(n=t.tag)){if(null!==(e=We(t)))return e;e=null}else if(3===n){if(t.stateNode.current.memoizedState.isDehydrated)return 3===t.tag?t.stateNode.containerInfo:null;e=null}else t!==e&&(e=null);return Yt=e,null}function Kt(e){switch(e){case\"cancel\":case\"click\":case\"close\":case\"contextmenu\":case\"copy\":case\"cut\":case\"auxclick\":case\"dblclick\":case\"dragend\":case\"dragstart\":case\"drop\":case\"focusin\":case\"focusout\":case\"input\":case\"invalid\":case\"keydown\":case\"keypress\":case\"keyup\":case\"mousedown\":case\"mouseup\":case\"paste\":case\"pause\":case\"play\":case\"pointercancel\":case\"pointerdown\":case\"pointerup\":case\"ratechange\":case\"reset\":case\"resize\":case\"seeked\":case\"submit\":case\"touchcancel\":case\"touchend\":case\"touchstart\":case\"volumechange\":case\"change\":case\"selectionchange\":case\"textInput\":case\"compositionstart\":case\"compositionend\":case\"compositionupdate\":case\"beforeblur\":case\"afterblur\":case\"beforeinput\":case\"blur\":case\"fullscreenchange\":case\"focus\":case\"hashchange\":case\"popstate\":case\"select\":case\"selectstart\":return 1;case\"drag\":case\"dragenter\":case\"dragexit\":case\"dragleave\":case\"dragover\":case\"mousemove\":case\"mouseout\":case\"mouseover\":case\"pointermove\":case\"pointerout\":case\"pointerover\":case\"scroll\":case\"toggle\":case\"touchmove\":case\"wheel\":case\"mouseenter\":case\"mouseleave\":case\"pointerenter\":case\"pointerleave\":return 4;case\"message\":switch(Xe()){case Je:return 1;case et:return 4;case tt:case nt:return 16;case rt:return 536870912;default:return 16}default:return 16}}var Zt=null,Xt=null,Jt=null;function en(){if(Jt)return Jt;var e,t,n=Xt,r=n.length,a=\"value\"in Zt?Zt.value:Zt.textContent,i=a.length;for(e=0;e<r&&n[e]===a[e];e++);var o=r-e;for(t=1;t<=o&&n[r-t]===a[i-t];t++);return Jt=a.slice(e,1<t?1-t:void 0)}function tn(e){var t=e.keyCode;return\"charCode\"in e?0===(e=e.charCode)&&13===t&&(e=13):e=t,10===e&&(e=13),32<=e||13===e?e:0}function nn(){return!0}function rn(){return!1}function an(e){function t(t,n,r,a,i){for(var o in this._reactName=t,this._targetInst=r,this.type=n,this.nativeEvent=a,this.target=i,this.currentTarget=null,e)e.hasOwnProperty(o)&&(t=e[o],this[o]=t?t(a):a[o]);return this.isDefaultPrevented=(null!=a.defaultPrevented?a.defaultPrevented:!1===a.returnValue)?nn:rn,this.isPropagationStopped=rn,this}return R(t.prototype,{preventDefault:function(){this.defaultPrevented=!0;var e=this.nativeEvent;e&&(e.preventDefault?e.preventDefault():\"unknown\"!=typeof e.returnValue&&(e.returnValue=!1),this.isDefaultPrevented=nn)},stopPropagation:function(){var e=this.nativeEvent;e&&(e.stopPropagation?e.stopPropagation():\"unknown\"!=typeof e.cancelBubble&&(e.cancelBubble=!0),this.isPropagationStopped=nn)},persist:function(){},isPersistent:nn}),t}var on,un,ln,sn={eventPhase:0,bubbles:0,cancelable:0,timeStamp:function(e){return e.timeStamp||Date.now()},defaultPrevented:0,isTrusted:0},cn=an(sn),fn=R({},sn,{view:0,detail:0}),pn=an(fn),dn=R({},fn,{screenX:0,screenY:0,clientX:0,clientY:0,pageX:0,pageY:0,ctrlKey:0,shiftKey:0,altKey:0,metaKey:0,getModifierState:En,button:0,buttons:0,relatedTarget:function(e){return void 0===e.relatedTarget?e.fromElement===e.srcElement?e.toElement:e.fromElement:e.relatedTarget},movementX:function(e){return\"movementX\"in e?e.movementX:(e!==ln&&(ln&&\"mousemove\"===e.type?(on=e.screenX-ln.screenX,un=e.screenY-ln.screenY):un=on=0,ln=e),on)},movementY:function(e){return\"movementY\"in e?e.movementY:un}}),hn=an(dn),vn=an(R({},dn,{dataTransfer:0})),gn=an(R({},fn,{relatedTarget:0})),yn=an(R({},sn,{animationName:0,elapsedTime:0,pseudoElement:0})),mn=R({},sn,{clipboardData:function(e){return\"clipboardData\"in e?e.clipboardData:window.clipboardData}}),bn=an(mn),_n=an(R({},sn,{data:0})),wn={Esc:\"Escape\",Spacebar:\" \",Left:\"ArrowLeft\",Up:\"ArrowUp\",Right:\"ArrowRight\",Down:\"ArrowDown\",Del:\"Delete\",Win:\"OS\",Menu:\"ContextMenu\",Apps:\"ContextMenu\",Scroll:\"ScrollLock\",MozPrintableKey:\"Unidentified\"},xn={8:\"Backspace\",9:\"Tab\",12:\"Clear\",13:\"Enter\",16:\"Shift\",17:\"Control\",18:\"Alt\",19:\"Pause\",20:\"CapsLock\",27:\"Escape\",32:\" \",33:\"PageUp\",34:\"PageDown\",35:\"End\",36:\"Home\",37:\"ArrowLeft\",38:\"ArrowUp\",39:\"ArrowRight\",40:\"ArrowDown\",45:\"Insert\",46:\"Delete\",112:\"F1\",113:\"F2\",114:\"F3\",115:\"F4\",116:\"F5\",117:\"F6\",118:\"F7\",119:\"F8\",120:\"F9\",121:\"F10\",122:\"F11\",123:\"F12\",144:\"NumLock\",145:\"ScrollLock\",224:\"Meta\"},kn={Alt:\"altKey\",Control:\"ctrlKey\",Meta:\"metaKey\",Shift:\"shiftKey\"};function Sn(e){var t=this.nativeEvent;return t.getModifierState?t.getModifierState(e):!!(e=kn[e])&&!!t[e]}function En(){return Sn}var Cn=R({},fn,{key:function(e){if(e.key){var t=wn[e.key]||e.key;if(\"Unidentified\"!==t)return t}return\"keypress\"===e.type?13===(e=tn(e))?\"Enter\":String.fromCharCode(e):\"keydown\"===e.type||\"keyup\"===e.type?xn[e.keyCode]||\"Unidentified\":\"\"},code:0,location:0,ctrlKey:0,shiftKey:0,altKey:0,metaKey:0,repeat:0,locale:0,getModifierState:En,charCode:function(e){return\"keypress\"===e.type?tn(e):0},keyCode:function(e){return\"keydown\"===e.type||\"keyup\"===e.type?e.keyCode:0},which:function(e){return\"keypress\"===e.type?tn(e):\"keydown\"===e.type||\"keyup\"===e.type?e.keyCode:0}}),Tn=an(Cn),Mn=an(R({},dn,{pointerId:0,width:0,height:0,pressure:0,tangentialPressure:0,tiltX:0,tiltY:0,twist:0,pointerType:0,isPrimary:0})),Nn=an(R({},fn,{touches:0,targetTouches:0,changedTouches:0,altKey:0,metaKey:0,ctrlKey:0,shiftKey:0,getModifierState:En})),Pn=an(R({},sn,{propertyName:0,elapsedTime:0,pseudoElement:0})),zn=R({},dn,{deltaX:function(e){return\"deltaX\"in e?e.deltaX:\"wheelDeltaX\"in e?-e.wheelDeltaX:0},deltaY:function(e){return\"deltaY\"in e?e.deltaY:\"wheelDeltaY\"in e?-e.wheelDeltaY:\"wheelDelta\"in e?-e.wheelDelta:0},deltaZ:0,deltaMode:0}),Ln=an(zn),On=[9,13,27,32],An=c&&\"CompositionEvent\"in window,Fn=null;c&&\"documentMode\"in document&&(Fn=document.documentMode);var Dn=c&&\"TextEvent\"in window&&!Fn,Rn=c&&(!An||Fn&&8<Fn&&11>=Fn),jn=String.fromCharCode(32),Un=!1;function In(e,t){switch(e){case\"keyup\":return-1!==On.indexOf(t.keyCode);case\"keydown\":return 229!==t.keyCode;case\"keypress\":case\"mousedown\":case\"focusout\":return!0;default:return!1}}function $n(e){return\"object\"==typeof(e=e.detail)&&\"data\"in e?e.data:null}var Bn=!1,Wn={color:!0,date:!0,datetime:!0,\"datetime-local\":!0,email:!0,month:!0,number:!0,password:!0,range:!0,search:!0,tel:!0,text:!0,time:!0,url:!0,week:!0};function Vn(e){var t=e&&e.nodeName&&e.nodeName.toLowerCase();return\"input\"===t?!!Wn[e.type]:\"textarea\"===t}function Hn(e,t,n,r){Ce(r),0<(t=qr(t,\"onChange\")).length&&(n=new cn(\"onChange\",\"change\",null,n,r),e.push({event:n,listeners:t}))}var qn=null,Qn=null;function Yn(e){jr(e,0)}function Gn(e){if(Q(_a(e)))return e}function Kn(e,t){if(\"change\"===e)return t}var Zn=!1;if(c){var Xn;if(c){var Jn=\"oninput\"in document;if(!Jn){var er=document.createElement(\"div\");er.setAttribute(\"oninput\",\"return;\"),Jn=\"function\"==typeof er.oninput}Xn=Jn}else Xn=!1;Zn=Xn&&(!document.documentMode||9<document.documentMode)}function tr(){qn&&(qn.detachEvent(\"onpropertychange\",nr),Qn=qn=null)}function nr(e){if(\"value\"===e.propertyName&&Gn(Qn)){var t=[];Hn(t,Qn,e,we(e)),ze(Yn,t)}}function rr(e,t,n){\"focusin\"===e?(tr(),Qn=n,(qn=t).attachEvent(\"onpropertychange\",nr)):\"focusout\"===e&&tr()}function ar(e){if(\"selectionchange\"===e||\"keyup\"===e||\"keydown\"===e)return Gn(Qn)}function ir(e,t){if(\"click\"===e)return Gn(t)}function or(e,t){if(\"input\"===e||\"change\"===e)return Gn(t)}var ur=\"function\"==typeof Object.is?Object.is:function(e,t){return e===t&&(0!==e||1/e==1/t)||e!=e&&t!=t};function lr(e,t){if(ur(e,t))return!0;if(\"object\"!=typeof e||null===e||\"object\"!=typeof t||null===t)return!1;var n=Object.keys(e),r=Object.keys(t);if(n.length!==r.length)return!1;for(r=0;r<n.length;r++){var a=n[r];if(!f.call(t,a)||!ur(e[a],t[a]))return!1}return!0}function sr(e){for(;e&&e.firstChild;)e=e.firstChild;return e}function cr(e,t){var n,r=sr(e);for(e=0;r;){if(3===r.nodeType){if(n=e+r.textContent.length,e<=t&&n>=t)return{node:r,offset:t-e};e=n}e:{for(;r;){if(r.nextSibling){r=r.nextSibling;break e}r=r.parentNode}r=void 0}r=sr(r)}}function fr(e,t){return!(!e||!t)&&(e===t||(!e||3!==e.nodeType)&&(t&&3===t.nodeType?fr(e,t.parentNode):\"contains\"in e?e.contains(t):!!e.compareDocumentPosition&&!!(16&e.compareDocumentPosition(t))))}function pr(){for(var e=window,t=Y();t instanceof e.HTMLIFrameElement;){try{var n=\"string\"==typeof t.contentWindow.location.href}catch(e){n=!1}if(!n)break;t=Y((e=t.contentWindow).document)}return t}function dr(e){var t=e&&e.nodeName&&e.nodeName.toLowerCase();return t&&(\"input\"===t&&(\"text\"===e.type||\"search\"===e.type||\"tel\"===e.type||\"url\"===e.type||\"password\"===e.type)||\"textarea\"===t||\"true\"===e.contentEditable)}function hr(e){var t=pr(),n=e.focusedElem,r=e.selectionRange;if(t!==n&&n&&n.ownerDocument&&fr(n.ownerDocument.documentElement,n)){if(null!==r&&dr(n))if(t=r.start,void 0===(e=r.end)&&(e=t),\"selectionStart\"in n)n.selectionStart=t,n.selectionEnd=Math.min(e,n.value.length);else if((e=(t=n.ownerDocument||document)&&t.defaultView||window).getSelection){e=e.getSelection();var a=n.textContent.length,i=Math.min(r.start,a);r=void 0===r.end?i:Math.min(r.end,a),!e.extend&&i>r&&(a=r,r=i,i=a),a=cr(n,i);var o=cr(n,r);a&&o&&(1!==e.rangeCount||e.anchorNode!==a.node||e.anchorOffset!==a.offset||e.focusNode!==o.node||e.focusOffset!==o.offset)&&((t=t.createRange()).setStart(a.node,a.offset),e.removeAllRanges(),i>r?(e.addRange(t),e.extend(o.node,o.offset)):(t.setEnd(o.node,o.offset),e.addRange(t)))}for(t=[],e=n;e=e.parentNode;)1===e.nodeType&&t.push({element:e,left:e.scrollLeft,top:e.scrollTop});for(\"function\"==typeof n.focus&&n.focus(),n=0;n<t.length;n++)(e=t[n]).element.scrollLeft=e.left,e.element.scrollTop=e.top}}var vr=c&&\"documentMode\"in document&&11>=document.documentMode,gr=null,yr=null,mr=null,br=!1;function _r(e,t,n){var r=n.window===n?n.document:9===n.nodeType?n:n.ownerDocument;br||null==gr||gr!==Y(r)||(r=\"selectionStart\"in(r=gr)&&dr(r)?{start:r.selectionStart,end:r.selectionEnd}:{anchorNode:(r=(r.ownerDocument&&r.ownerDocument.defaultView||window).getSelection()).anchorNode,anchorOffset:r.anchorOffset,focusNode:r.focusNode,focusOffset:r.focusOffset},mr&&lr(mr,r)||(mr=r,0<(r=qr(yr,\"onSelect\")).length&&(t=new cn(\"onSelect\",\"select\",null,t,n),e.push({event:t,listeners:r}),t.target=gr)))}function wr(e,t){var n={};return n[e.toLowerCase()]=t.toLowerCase(),n[\"Webkit\"+e]=\"webkit\"+t,n[\"Moz\"+e]=\"moz\"+t,n}var xr={animationend:wr(\"Animation\",\"AnimationEnd\"),animationiteration:wr(\"Animation\",\"AnimationIteration\"),animationstart:wr(\"Animation\",\"AnimationStart\"),transitionend:wr(\"Transition\",\"TransitionEnd\")},kr={},Sr={};function Er(e){if(kr[e])return kr[e];if(!xr[e])return e;var t,n=xr[e];for(t in n)if(n.hasOwnProperty(t)&&t in Sr)return kr[e]=n[t];return e}c&&(Sr=document.createElement(\"div\").style,\"AnimationEvent\"in window||(delete xr.animationend.animation,delete xr.animationiteration.animation,delete xr.animationstart.animation),\"TransitionEvent\"in window||delete xr.transitionend.transition);var Cr=Er(\"animationend\"),Tr=Er(\"animationiteration\"),Mr=Er(\"animationstart\"),Nr=Er(\"transitionend\"),Pr=new Map,zr=\"abort auxClick cancel canPlay canPlayThrough click close contextMenu copy cut drag dragEnd dragEnter dragExit dragLeave dragOver dragStart drop durationChange emptied encrypted ended error gotPointerCapture input invalid keyDown keyPress keyUp load loadedData loadedMetadata loadStart lostPointerCapture mouseDown mouseMove mouseOut mouseOver mouseUp paste pause play playing pointerCancel pointerDown pointerMove pointerOut pointerOver pointerUp progress rateChange reset resize seeked seeking stalled submit suspend timeUpdate touchCancel touchEnd touchStart volumeChange scroll toggle touchMove waiting wheel\".split(\" \");function Lr(e,t){Pr.set(e,t),l(t,[e])}for(var Or=0;Or<zr.length;Or++){var Ar=zr[Or];Lr(Ar.toLowerCase(),\"on\"+(Ar[0].toUpperCase()+Ar.slice(1)))}Lr(Cr,\"onAnimationEnd\"),Lr(Tr,\"onAnimationIteration\"),Lr(Mr,\"onAnimationStart\"),Lr(\"dblclick\",\"onDoubleClick\"),Lr(\"focusin\",\"onFocus\"),Lr(\"focusout\",\"onBlur\"),Lr(Nr,\"onTransitionEnd\"),s(\"onMouseEnter\",[\"mouseout\",\"mouseover\"]),s(\"onMouseLeave\",[\"mouseout\",\"mouseover\"]),s(\"onPointerEnter\",[\"pointerout\",\"pointerover\"]),s(\"onPointerLeave\",[\"pointerout\",\"pointerover\"]),l(\"onChange\",\"change click focusin focusout input keydown keyup selectionchange\".split(\" \")),l(\"onSelect\",\"focusout contextmenu dragend focusin keydown keyup mousedown mouseup selectionchange\".split(\" \")),l(\"onBeforeInput\",[\"compositionend\",\"keypress\",\"textInput\",\"paste\"]),l(\"onCompositionEnd\",\"compositionend focusout keydown keypress keyup mousedown\".split(\" \")),l(\"onCompositionStart\",\"compositionstart focusout keydown keypress keyup mousedown\".split(\" \")),l(\"onCompositionUpdate\",\"compositionupdate focusout keydown keypress keyup mousedown\".split(\" \"));var Fr=\"abort canplay canplaythrough durationchange emptied encrypted ended error loadeddata loadedmetadata loadstart pause play playing progress ratechange resize seeked seeking stalled suspend timeupdate volumechange waiting\".split(\" \"),Dr=new Set(\"cancel close invalid load scroll toggle\".split(\" \").concat(Fr));function Rr(e,t,n){var r=e.type||\"unknown-event\";e.currentTarget=n,function(e,t,n,r,a,o,u,l,s){if($e.apply(this,arguments),De){if(!De)throw Error(i(198));var c=Re;De=!1,Re=null,je||(je=!0,Ue=c)}}(r,t,void 0,e),e.currentTarget=null}function jr(e,t){t=0!=(4&t);for(var n=0;n<e.length;n++){var r=e[n],a=r.event;r=r.listeners;e:{var i=void 0;if(t)for(var o=r.length-1;0<=o;o--){var u=r[o],l=u.instance,s=u.currentTarget;if(u=u.listener,l!==i&&a.isPropagationStopped())break e;Rr(a,u,s),i=l}else for(o=0;o<r.length;o++){if(l=(u=r[o]).instance,s=u.currentTarget,u=u.listener,l!==i&&a.isPropagationStopped())break e;Rr(a,u,s),i=l}}}if(je)throw e=Ue,je=!1,Ue=null,e}function Ur(e,t){var n=t[va];void 0===n&&(n=t[va]=new Set);var r=e+\"__bubble\";n.has(r)||(Wr(t,e,2,!1),n.add(r))}function Ir(e,t,n){var r=0;t&&(r|=4),Wr(n,e,r,t)}var $r=\"_reactListening\"+Math.random().toString(36).slice(2);function Br(e){if(!e[$r]){e[$r]=!0,o.forEach((function(t){\"selectionchange\"!==t&&(Dr.has(t)||Ir(t,!1,e),Ir(t,!0,e))}));var t=9===e.nodeType?e:e.ownerDocument;null===t||t[$r]||(t[$r]=!0,Ir(\"selectionchange\",!1,t))}}function Wr(e,t,n,r){switch(Kt(t)){case 1:var a=Ht;break;case 4:a=qt;break;default:a=Qt}n=a.bind(null,t,n,e),a=void 0,!Oe||\"touchstart\"!==t&&\"touchmove\"!==t&&\"wheel\"!==t||(a=!0),r?void 0!==a?e.addEventListener(t,n,{capture:!0,passive:a}):e.addEventListener(t,n,!0):void 0!==a?e.addEventListener(t,n,{passive:a}):e.addEventListener(t,n,!1)}function Vr(e,t,n,r,a){var i=r;if(0==(1&t)&&0==(2&t)&&null!==r)e:for(;;){if(null===r)return;var o=r.tag;if(3===o||4===o){var u=r.stateNode.containerInfo;if(u===a||8===u.nodeType&&u.parentNode===a)break;if(4===o)for(o=r.return;null!==o;){var l=o.tag;if((3===l||4===l)&&((l=o.stateNode.containerInfo)===a||8===l.nodeType&&l.parentNode===a))return;o=o.return}for(;null!==u;){if(null===(o=ma(u)))return;if(5===(l=o.tag)||6===l){r=i=o;continue e}u=u.parentNode}}r=r.return}ze((function(){var r=i,a=we(n),o=[];e:{var u=Pr.get(e);if(void 0!==u){var l=cn,s=e;switch(e){case\"keypress\":if(0===tn(n))break e;case\"keydown\":case\"keyup\":l=Tn;break;case\"focusin\":s=\"focus\",l=gn;break;case\"focusout\":s=\"blur\",l=gn;break;case\"beforeblur\":case\"afterblur\":l=gn;break;case\"click\":if(2===n.button)break e;case\"auxclick\":case\"dblclick\":case\"mousedown\":case\"mousemove\":case\"mouseup\":case\"mouseout\":case\"mouseover\":case\"contextmenu\":l=hn;break;case\"drag\":case\"dragend\":case\"dragenter\":case\"dragexit\":case\"dragleave\":case\"dragover\":case\"dragstart\":case\"drop\":l=vn;break;case\"touchcancel\":case\"touchend\":case\"touchmove\":case\"touchstart\":l=Nn;break;case Cr:case Tr:case Mr:l=yn;break;case Nr:l=Pn;break;case\"scroll\":l=pn;break;case\"wheel\":l=Ln;break;case\"copy\":case\"cut\":case\"paste\":l=bn;break;case\"gotpointercapture\":case\"lostpointercapture\":case\"pointercancel\":case\"pointerdown\":case\"pointermove\":case\"pointerout\":case\"pointerover\":case\"pointerup\":l=Mn}var c=0!=(4&t),f=!c&&\"scroll\"===e,p=c?null!==u?u+\"Capture\":null:u;c=[];for(var d,h=r;null!==h;){var v=(d=h).stateNode;if(5===d.tag&&null!==v&&(d=v,null!==p&&null!=(v=Le(h,p))&&c.push(Hr(h,v,d))),f)break;h=h.return}0<c.length&&(u=new l(u,s,null,n,a),o.push({event:u,listeners:c}))}}if(0==(7&t)){if(l=\"mouseout\"===e||\"pointerout\"===e,(!(u=\"mouseover\"===e||\"pointerover\"===e)||n===_e||!(s=n.relatedTarget||n.fromElement)||!ma(s)&&!s[ha])&&(l||u)&&(u=a.window===a?a:(u=a.ownerDocument)?u.defaultView||u.parentWindow:window,l?(l=r,null!==(s=(s=n.relatedTarget||n.toElement)?ma(s):null)&&(s!==(f=Be(s))||5!==s.tag&&6!==s.tag)&&(s=null)):(l=null,s=r),l!==s)){if(c=hn,v=\"onMouseLeave\",p=\"onMouseEnter\",h=\"mouse\",\"pointerout\"!==e&&\"pointerover\"!==e||(c=Mn,v=\"onPointerLeave\",p=\"onPointerEnter\",h=\"pointer\"),f=null==l?u:_a(l),d=null==s?u:_a(s),(u=new c(v,h+\"leave\",l,n,a)).target=f,u.relatedTarget=d,v=null,ma(a)===r&&((c=new c(p,h+\"enter\",s,n,a)).target=d,c.relatedTarget=f,v=c),f=v,l&&s)e:{for(p=s,h=0,d=c=l;d;d=Qr(d))h++;for(d=0,v=p;v;v=Qr(v))d++;for(;0<h-d;)c=Qr(c),h--;for(;0<d-h;)p=Qr(p),d--;for(;h--;){if(c===p||null!==p&&c===p.alternate)break e;c=Qr(c),p=Qr(p)}c=null}else c=null;null!==l&&Yr(o,u,l,c,!1),null!==s&&null!==f&&Yr(o,f,s,c,!0)}if(\"select\"===(l=(u=r?_a(r):window).nodeName&&u.nodeName.toLowerCase())||\"input\"===l&&\"file\"===u.type)var g=Kn;else if(Vn(u))if(Zn)g=or;else{g=ar;var y=rr}else(l=u.nodeName)&&\"input\"===l.toLowerCase()&&(\"checkbox\"===u.type||\"radio\"===u.type)&&(g=ir);switch(g&&(g=g(e,r))?Hn(o,g,n,a):(y&&y(e,u,r),\"focusout\"===e&&(y=u._wrapperState)&&y.controlled&&\"number\"===u.type&&ee(u,\"number\",u.value)),y=r?_a(r):window,e){case\"focusin\":(Vn(y)||\"true\"===y.contentEditable)&&(gr=y,yr=r,mr=null);break;case\"focusout\":mr=yr=gr=null;break;case\"mousedown\":br=!0;break;case\"contextmenu\":case\"mouseup\":case\"dragend\":br=!1,_r(o,n,a);break;case\"selectionchange\":if(vr)break;case\"keydown\":case\"keyup\":_r(o,n,a)}var m;if(An)e:{switch(e){case\"compositionstart\":var b=\"onCompositionStart\";break e;case\"compositionend\":b=\"onCompositionEnd\";break e;case\"compositionupdate\":b=\"onCompositionUpdate\";break e}b=void 0}else Bn?In(e,n)&&(b=\"onCompositionEnd\"):\"keydown\"===e&&229===n.keyCode&&(b=\"onCompositionStart\");b&&(Rn&&\"ko\"!==n.locale&&(Bn||\"onCompositionStart\"!==b?\"onCompositionEnd\"===b&&Bn&&(m=en()):(Xt=\"value\"in(Zt=a)?Zt.value:Zt.textContent,Bn=!0)),0<(y=qr(r,b)).length&&(b=new _n(b,e,null,n,a),o.push({event:b,listeners:y}),(m||null!==(m=$n(n)))&&(b.data=m))),(m=Dn?function(e,t){switch(e){case\"compositionend\":return $n(t);case\"keypress\":return 32!==t.which?null:(Un=!0,jn);case\"textInput\":return(e=t.data)===jn&&Un?null:e;default:return null}}(e,n):function(e,t){if(Bn)return\"compositionend\"===e||!An&&In(e,t)?(e=en(),Jt=Xt=Zt=null,Bn=!1,e):null;switch(e){case\"paste\":default:return null;case\"keypress\":if(!(t.ctrlKey||t.altKey||t.metaKey)||t.ctrlKey&&t.altKey){if(t.char&&1<t.char.length)return t.char;if(t.which)return String.fromCharCode(t.which)}return null;case\"compositionend\":return Rn&&\"ko\"!==t.locale?null:t.data}}(e,n))&&0<(r=qr(r,\"onBeforeInput\")).length&&(a=new _n(\"onBeforeInput\",\"beforeinput\",null,n,a),o.push({event:a,listeners:r}),a.data=m)}jr(o,t)}))}function Hr(e,t,n){return{instance:e,listener:t,currentTarget:n}}function qr(e,t){for(var n=t+\"Capture\",r=[];null!==e;){var a=e,i=a.stateNode;5===a.tag&&null!==i&&(a=i,null!=(i=Le(e,n))&&r.unshift(Hr(e,i,a)),null!=(i=Le(e,t))&&r.push(Hr(e,i,a))),e=e.return}return r}function Qr(e){if(null===e)return null;do{e=e.return}while(e&&5!==e.tag);return e||null}function Yr(e,t,n,r,a){for(var i=t._reactName,o=[];null!==n&&n!==r;){var u=n,l=u.alternate,s=u.stateNode;if(null!==l&&l===r)break;5===u.tag&&null!==s&&(u=s,a?null!=(l=Le(n,i))&&o.unshift(Hr(n,l,u)):a||null!=(l=Le(n,i))&&o.push(Hr(n,l,u))),n=n.return}0!==o.length&&e.push({event:t,listeners:o})}var Gr=/\\r\\n?/g,Kr=/\\u0000|\\uFFFD/g;function Zr(e){return(\"string\"==typeof e?e:\"\"+e).replace(Gr,\"\\n\").replace(Kr,\"\")}function Xr(e,t,n){if(t=Zr(t),Zr(e)!==t&&n)throw Error(i(425))}function Jr(){}var ea=null,ta=null;function na(e,t){return\"textarea\"===e||\"noscript\"===e||\"string\"==typeof t.children||\"number\"==typeof t.children||\"object\"==typeof t.dangerouslySetInnerHTML&&null!==t.dangerouslySetInnerHTML&&null!=t.dangerouslySetInnerHTML.__html}var ra=\"function\"==typeof setTimeout?setTimeout:void 0,aa=\"function\"==typeof clearTimeout?clearTimeout:void 0,ia=\"function\"==typeof Promise?Promise:void 0,oa=\"function\"==typeof queueMicrotask?queueMicrotask:void 0!==ia?function(e){return ia.resolve(null).then(e).catch(ua)}:ra;function ua(e){setTimeout((function(){throw e}))}function la(e,t){var n=t,r=0;do{var a=n.nextSibling;if(e.removeChild(n),a&&8===a.nodeType)if(\"/$\"===(n=a.data)){if(0===r)return e.removeChild(a),void Bt(t);r--}else\"$\"!==n&&\"$?\"!==n&&\"$!\"!==n||r++;n=a}while(n);Bt(t)}function sa(e){for(;null!=e;e=e.nextSibling){var t=e.nodeType;if(1===t||3===t)break;if(8===t){if(\"$\"===(t=e.data)||\"$!\"===t||\"$?\"===t)break;if(\"/$\"===t)return null}}return e}function ca(e){e=e.previousSibling;for(var t=0;e;){if(8===e.nodeType){var n=e.data;if(\"$\"===n||\"$!\"===n||\"$?\"===n){if(0===t)return e;t--}else\"/$\"===n&&t++}e=e.previousSibling}return null}var fa=Math.random().toString(36).slice(2),pa=\"__reactFiber$\"+fa,da=\"__reactProps$\"+fa,ha=\"__reactContainer$\"+fa,va=\"__reactEvents$\"+fa,ga=\"__reactListeners$\"+fa,ya=\"__reactHandles$\"+fa;function ma(e){var t=e[pa];if(t)return t;for(var n=e.parentNode;n;){if(t=n[ha]||n[pa]){if(n=t.alternate,null!==t.child||null!==n&&null!==n.child)for(e=ca(e);null!==e;){if(n=e[pa])return n;e=ca(e)}return t}n=(e=n).parentNode}return null}function ba(e){return!(e=e[pa]||e[ha])||5!==e.tag&&6!==e.tag&&13!==e.tag&&3!==e.tag?null:e}function _a(e){if(5===e.tag||6===e.tag)return e.stateNode;throw Error(i(33))}function wa(e){return e[da]||null}var xa=[],ka=-1;function Sa(e){return{current:e}}function Ea(e){0>ka||(e.current=xa[ka],xa[ka]=null,ka--)}function Ca(e,t){ka++,xa[ka]=e.current,e.current=t}var Ta={},Ma=Sa(Ta),Na=Sa(!1),Pa=Ta;function za(e,t){var n=e.type.contextTypes;if(!n)return Ta;var r=e.stateNode;if(r&&r.__reactInternalMemoizedUnmaskedChildContext===t)return r.__reactInternalMemoizedMaskedChildContext;var a,i={};for(a in n)i[a]=t[a];return r&&((e=e.stateNode).__reactInternalMemoizedUnmaskedChildContext=t,e.__reactInternalMemoizedMaskedChildContext=i),i}function La(e){return null!=e.childContextTypes}function Oa(){Ea(Na),Ea(Ma)}function Aa(e,t,n){if(Ma.current!==Ta)throw Error(i(168));Ca(Ma,t),Ca(Na,n)}function Fa(e,t,n){var r=e.stateNode;if(t=t.childContextTypes,\"function\"!=typeof r.getChildContext)return n;for(var a in r=r.getChildContext())if(!(a in t))throw Error(i(108,W(e)||\"Unknown\",a));return R({},n,r)}function Da(e){return e=(e=e.stateNode)&&e.__reactInternalMemoizedMergedChildContext||Ta,Pa=Ma.current,Ca(Ma,e),Ca(Na,Na.current),!0}function Ra(e,t,n){var r=e.stateNode;if(!r)throw Error(i(169));n?(e=Fa(e,t,Pa),r.__reactInternalMemoizedMergedChildContext=e,Ea(Na),Ea(Ma),Ca(Ma,e)):Ea(Na),Ca(Na,n)}var ja=null,Ua=!1,Ia=!1;function $a(e){null===ja?ja=[e]:ja.push(e)}function Ba(){if(!Ia&&null!==ja){Ia=!0;var e=0,t=bt;try{var n=ja;for(bt=1;e<n.length;e++){var r=n[e];do{r=r(!0)}while(null!==r)}ja=null,Ua=!1}catch(t){throw null!==ja&&(ja=ja.slice(e+1)),Qe(Je,Ba),t}finally{bt=t,Ia=!1}}return null}var Wa=[],Va=0,Ha=null,qa=0,Qa=[],Ya=0,Ga=null,Ka=1,Za=\"\";function Xa(e,t){Wa[Va++]=qa,Wa[Va++]=Ha,Ha=e,qa=t}function Ja(e,t,n){Qa[Ya++]=Ka,Qa[Ya++]=Za,Qa[Ya++]=Ga,Ga=e;var r=Ka;e=Za;var a=32-ot(r)-1;r&=~(1<<a),n+=1;var i=32-ot(t)+a;if(30<i){var o=a-a%5;i=(r&(1<<o)-1).toString(32),r>>=o,a-=o,Ka=1<<32-ot(t)+a|n<<a|r,Za=i+e}else Ka=1<<i|n<<a|r,Za=e}function ei(e){null!==e.return&&(Xa(e,1),Ja(e,1,0))}function ti(e){for(;e===Ha;)Ha=Wa[--Va],Wa[Va]=null,qa=Wa[--Va],Wa[Va]=null;for(;e===Ga;)Ga=Qa[--Ya],Qa[Ya]=null,Za=Qa[--Ya],Qa[Ya]=null,Ka=Qa[--Ya],Qa[Ya]=null}var ni=null,ri=null,ai=!1,ii=null;function oi(e,t){var n=Ls(5,null,null,0);n.elementType=\"DELETED\",n.stateNode=t,n.return=e,null===(t=e.deletions)?(e.deletions=[n],e.flags|=16):t.push(n)}function ui(e,t){switch(e.tag){case 5:var n=e.type;return null!==(t=1!==t.nodeType||n.toLowerCase()!==t.nodeName.toLowerCase()?null:t)&&(e.stateNode=t,ni=e,ri=sa(t.firstChild),!0);case 6:return null!==(t=\"\"===e.pendingProps||3!==t.nodeType?null:t)&&(e.stateNode=t,ni=e,ri=null,!0);case 13:return null!==(t=8!==t.nodeType?null:t)&&(n=null!==Ga?{id:Ka,overflow:Za}:null,e.memoizedState={dehydrated:t,treeContext:n,retryLane:1073741824},(n=Ls(18,null,null,0)).stateNode=t,n.return=e,e.child=n,ni=e,ri=null,!0);default:return!1}}function li(e){return 0!=(1&e.mode)&&0==(128&e.flags)}function si(e){if(ai){var t=ri;if(t){var n=t;if(!ui(e,t)){if(li(e))throw Error(i(418));t=sa(n.nextSibling);var r=ni;t&&ui(e,t)?oi(r,n):(e.flags=-4097&e.flags|2,ai=!1,ni=e)}}else{if(li(e))throw Error(i(418));e.flags=-4097&e.flags|2,ai=!1,ni=e}}}function ci(e){for(e=e.return;null!==e&&5!==e.tag&&3!==e.tag&&13!==e.tag;)e=e.return;ni=e}function fi(e){if(e!==ni)return!1;if(!ai)return ci(e),ai=!0,!1;var t;if((t=3!==e.tag)&&!(t=5!==e.tag)&&(t=\"head\"!==(t=e.type)&&\"body\"!==t&&!na(e.type,e.memoizedProps)),t&&(t=ri)){if(li(e))throw pi(),Error(i(418));for(;t;)oi(e,t),t=sa(t.nextSibling)}if(ci(e),13===e.tag){if(!(e=null!==(e=e.memoizedState)?e.dehydrated:null))throw Error(i(317));e:{for(e=e.nextSibling,t=0;e;){if(8===e.nodeType){var n=e.data;if(\"/$\"===n){if(0===t){ri=sa(e.nextSibling);break e}t--}else\"$\"!==n&&\"$!\"!==n&&\"$?\"!==n||t++}e=e.nextSibling}ri=null}}else ri=ni?sa(e.stateNode.nextSibling):null;return!0}function pi(){for(var e=ri;e;)e=sa(e.nextSibling)}function di(){ri=ni=null,ai=!1}function hi(e){null===ii?ii=[e]:ii.push(e)}var vi=_.ReactCurrentBatchConfig;function gi(e,t){if(e&&e.defaultProps){for(var n in t=R({},t),e=e.defaultProps)void 0===t[n]&&(t[n]=e[n]);return t}return t}var yi=Sa(null),mi=null,bi=null,_i=null;function wi(){_i=bi=mi=null}function xi(e){var t=yi.current;Ea(yi),e._currentValue=t}function ki(e,t,n){for(;null!==e;){var r=e.alternate;if((e.childLanes&t)!==t?(e.childLanes|=t,null!==r&&(r.childLanes|=t)):null!==r&&(r.childLanes&t)!==t&&(r.childLanes|=t),e===n)break;e=e.return}}function Si(e,t){mi=e,_i=bi=null,null!==(e=e.dependencies)&&null!==e.firstContext&&(0!=(e.lanes&t)&&(_u=!0),e.firstContext=null)}function Ei(e){var t=e._currentValue;if(_i!==e)if(e={context:e,memoizedValue:t,next:null},null===bi){if(null===mi)throw Error(i(308));bi=e,mi.dependencies={lanes:0,firstContext:e}}else bi=bi.next=e;return t}var Ci=null;function Ti(e){null===Ci?Ci=[e]:Ci.push(e)}function Mi(e,t,n,r){var a=t.interleaved;return null===a?(n.next=n,Ti(t)):(n.next=a.next,a.next=n),t.interleaved=n,Ni(e,r)}function Ni(e,t){e.lanes|=t;var n=e.alternate;for(null!==n&&(n.lanes|=t),n=e,e=e.return;null!==e;)e.childLanes|=t,null!==(n=e.alternate)&&(n.childLanes|=t),n=e,e=e.return;return 3===n.tag?n.stateNode:null}var Pi=!1;function zi(e){e.updateQueue={baseState:e.memoizedState,firstBaseUpdate:null,lastBaseUpdate:null,shared:{pending:null,interleaved:null,lanes:0},effects:null}}function Li(e,t){e=e.updateQueue,t.updateQueue===e&&(t.updateQueue={baseState:e.baseState,firstBaseUpdate:e.firstBaseUpdate,lastBaseUpdate:e.lastBaseUpdate,shared:e.shared,effects:e.effects})}function Oi(e,t){return{eventTime:e,lane:t,tag:0,payload:null,callback:null,next:null}}function Ai(e,t,n){var r=e.updateQueue;if(null===r)return null;if(r=r.shared,0!=(2&Nl)){var a=r.pending;return null===a?t.next=t:(t.next=a.next,a.next=t),r.pending=t,Ni(e,n)}return null===(a=r.interleaved)?(t.next=t,Ti(r)):(t.next=a.next,a.next=t),r.interleaved=t,Ni(e,n)}function Fi(e,t,n){if(null!==(t=t.updateQueue)&&(t=t.shared,0!=(4194240&n))){var r=t.lanes;n|=r&=e.pendingLanes,t.lanes=n,mt(e,n)}}function Di(e,t){var n=e.updateQueue,r=e.alternate;if(null!==r&&n===(r=r.updateQueue)){var a=null,i=null;if(null!==(n=n.firstBaseUpdate)){do{var o={eventTime:n.eventTime,lane:n.lane,tag:n.tag,payload:n.payload,callback:n.callback,next:null};null===i?a=i=o:i=i.next=o,n=n.next}while(null!==n);null===i?a=i=t:i=i.next=t}else a=i=t;return n={baseState:r.baseState,firstBaseUpdate:a,lastBaseUpdate:i,shared:r.shared,effects:r.effects},void(e.updateQueue=n)}null===(e=n.lastBaseUpdate)?n.firstBaseUpdate=t:e.next=t,n.lastBaseUpdate=t}function Ri(e,t,n,r){var a=e.updateQueue;Pi=!1;var i=a.firstBaseUpdate,o=a.lastBaseUpdate,u=a.shared.pending;if(null!==u){a.shared.pending=null;var l=u,s=l.next;l.next=null,null===o?i=s:o.next=s,o=l;var c=e.alternate;null!==c&&(u=(c=c.updateQueue).lastBaseUpdate)!==o&&(null===u?c.firstBaseUpdate=s:u.next=s,c.lastBaseUpdate=l)}if(null!==i){var f=a.baseState;for(o=0,c=s=l=null,u=i;;){var p=u.lane,d=u.eventTime;if((r&p)===p){null!==c&&(c=c.next={eventTime:d,lane:0,tag:u.tag,payload:u.payload,callback:u.callback,next:null});e:{var h=e,v=u;switch(p=t,d=n,v.tag){case 1:if(\"function\"==typeof(h=v.payload)){f=h.call(d,f,p);break e}f=h;break e;case 3:h.flags=-65537&h.flags|128;case 0:if(null==(p=\"function\"==typeof(h=v.payload)?h.call(d,f,p):h))break e;f=R({},f,p);break e;case 2:Pi=!0}}null!==u.callback&&0!==u.lane&&(e.flags|=64,null===(p=a.effects)?a.effects=[u]:p.push(u))}else d={eventTime:d,lane:p,tag:u.tag,payload:u.payload,callback:u.callback,next:null},null===c?(s=c=d,l=f):c=c.next=d,o|=p;if(null===(u=u.next)){if(null===(u=a.shared.pending))break;u=(p=u).next,p.next=null,a.lastBaseUpdate=p,a.shared.pending=null}}if(null===c&&(l=f),a.baseState=l,a.firstBaseUpdate=s,a.lastBaseUpdate=c,null!==(t=a.shared.interleaved)){a=t;do{o|=a.lane,a=a.next}while(a!==t)}else null===i&&(a.shared.lanes=0);Rl|=o,e.lanes=o,e.memoizedState=f}}function ji(e,t,n){if(e=t.effects,t.effects=null,null!==e)for(t=0;t<e.length;t++){var r=e[t],a=r.callback;if(null!==a){if(r.callback=null,r=n,\"function\"!=typeof a)throw Error(i(191,a));a.call(r)}}}var Ui=(new r.Component).refs;function Ii(e,t,n,r){n=null==(n=n(r,t=e.memoizedState))?t:R({},t,n),e.memoizedState=n,0===e.lanes&&(e.updateQueue.baseState=n)}var $i={isMounted:function(e){return!!(e=e._reactInternals)&&Be(e)===e},enqueueSetState:function(e,t,n){e=e._reactInternals;var r=ts(),a=ns(e),i=Oi(r,a);i.payload=t,null!=n&&(i.callback=n),null!==(t=Ai(e,i,a))&&(rs(t,e,a,r),Fi(t,e,a))},enqueueReplaceState:function(e,t,n){e=e._reactInternals;var r=ts(),a=ns(e),i=Oi(r,a);i.tag=1,i.payload=t,null!=n&&(i.callback=n),null!==(t=Ai(e,i,a))&&(rs(t,e,a,r),Fi(t,e,a))},enqueueForceUpdate:function(e,t){e=e._reactInternals;var n=ts(),r=ns(e),a=Oi(n,r);a.tag=2,null!=t&&(a.callback=t),null!==(t=Ai(e,a,r))&&(rs(t,e,r,n),Fi(t,e,r))}};function Bi(e,t,n,r,a,i,o){return\"function\"==typeof(e=e.stateNode).shouldComponentUpdate?e.shouldComponentUpdate(r,i,o):!(t.prototype&&t.prototype.isPureReactComponent&&lr(n,r)&&lr(a,i))}function Wi(e,t,n){var r=!1,a=Ta,i=t.contextType;return\"object\"==typeof i&&null!==i?i=Ei(i):(a=La(t)?Pa:Ma.current,i=(r=null!=(r=t.contextTypes))?za(e,a):Ta),t=new t(n,i),e.memoizedState=null!==t.state&&void 0!==t.state?t.state:null,t.updater=$i,e.stateNode=t,t._reactInternals=e,r&&((e=e.stateNode).__reactInternalMemoizedUnmaskedChildContext=a,e.__reactInternalMemoizedMaskedChildContext=i),t}function Vi(e,t,n,r){e=t.state,\"function\"==typeof t.componentWillReceiveProps&&t.componentWillReceiveProps(n,r),\"function\"==typeof t.UNSAFE_componentWillReceiveProps&&t.UNSAFE_componentWillReceiveProps(n,r),t.state!==e&&$i.enqueueReplaceState(t,t.state,null)}function Hi(e,t,n,r){var a=e.stateNode;a.props=n,a.state=e.memoizedState,a.refs=Ui,zi(e);var i=t.contextType;\"object\"==typeof i&&null!==i?a.context=Ei(i):(i=La(t)?Pa:Ma.current,a.context=za(e,i)),a.state=e.memoizedState,\"function\"==typeof(i=t.getDerivedStateFromProps)&&(Ii(e,t,i,n),a.state=e.memoizedState),\"function\"==typeof t.getDerivedStateFromProps||\"function\"==typeof a.getSnapshotBeforeUpdate||\"function\"!=typeof a.UNSAFE_componentWillMount&&\"function\"!=typeof a.componentWillMount||(t=a.state,\"function\"==typeof a.componentWillMount&&a.componentWillMount(),\"function\"==typeof a.UNSAFE_componentWillMount&&a.UNSAFE_componentWillMount(),t!==a.state&&$i.enqueueReplaceState(a,a.state,null),Ri(e,n,a,r),a.state=e.memoizedState),\"function\"==typeof a.componentDidMount&&(e.flags|=4194308)}function qi(e,t,n){if(null!==(e=n.ref)&&\"function\"!=typeof e&&\"object\"!=typeof e){if(n._owner){if(n=n._owner){if(1!==n.tag)throw Error(i(309));var r=n.stateNode}if(!r)throw Error(i(147,e));var a=r,o=\"\"+e;return null!==t&&null!==t.ref&&\"function\"==typeof t.ref&&t.ref._stringRef===o?t.ref:(t=function(e){var t=a.refs;t===Ui&&(t=a.refs={}),null===e?delete t[o]:t[o]=e},t._stringRef=o,t)}if(\"string\"!=typeof e)throw Error(i(284));if(!n._owner)throw Error(i(290,e))}return e}function Qi(e,t){throw e=Object.prototype.toString.call(t),Error(i(31,\"[object Object]\"===e?\"object with keys {\"+Object.keys(t).join(\", \")+\"}\":e))}function Yi(e){return(0,e._init)(e._payload)}function Gi(e){function t(t,n){if(e){var r=t.deletions;null===r?(t.deletions=[n],t.flags|=16):r.push(n)}}function n(n,r){if(!e)return null;for(;null!==r;)t(n,r),r=r.sibling;return null}function r(e,t){for(e=new Map;null!==t;)null!==t.key?e.set(t.key,t):e.set(t.index,t),t=t.sibling;return e}function a(e,t){return(e=As(e,t)).index=0,e.sibling=null,e}function o(t,n,r){return t.index=r,e?null!==(r=t.alternate)?(r=r.index)<n?(t.flags|=2,n):r:(t.flags|=2,n):(t.flags|=1048576,n)}function u(t){return e&&null===t.alternate&&(t.flags|=2),t}function l(e,t,n,r){return null===t||6!==t.tag?((t=js(n,e.mode,r)).return=e,t):((t=a(t,n)).return=e,t)}function s(e,t,n,r){var i=n.type;return i===k?f(e,t,n.props.children,r,n.key):null!==t&&(t.elementType===i||\"object\"==typeof i&&null!==i&&i.$$typeof===L&&Yi(i)===t.type)?((r=a(t,n.props)).ref=qi(e,t,n),r.return=e,r):((r=Fs(n.type,n.key,n.props,null,e.mode,r)).ref=qi(e,t,n),r.return=e,r)}function c(e,t,n,r){return null===t||4!==t.tag||t.stateNode.containerInfo!==n.containerInfo||t.stateNode.implementation!==n.implementation?((t=Us(n,e.mode,r)).return=e,t):((t=a(t,n.children||[])).return=e,t)}function f(e,t,n,r,i){return null===t||7!==t.tag?((t=Ds(n,e.mode,r,i)).return=e,t):((t=a(t,n)).return=e,t)}function p(e,t,n){if(\"string\"==typeof t&&\"\"!==t||\"number\"==typeof t)return(t=js(\"\"+t,e.mode,n)).return=e,t;if(\"object\"==typeof t&&null!==t){switch(t.$$typeof){case w:return(n=Fs(t.type,t.key,t.props,null,e.mode,n)).ref=qi(e,null,t),n.return=e,n;case x:return(t=Us(t,e.mode,n)).return=e,t;case L:return p(e,(0,t._init)(t._payload),n)}if(te(t)||F(t))return(t=Ds(t,e.mode,n,null)).return=e,t;Qi(e,t)}return null}function d(e,t,n,r){var a=null!==t?t.key:null;if(\"string\"==typeof n&&\"\"!==n||\"number\"==typeof n)return null!==a?null:l(e,t,\"\"+n,r);if(\"object\"==typeof n&&null!==n){switch(n.$$typeof){case w:return n.key===a?s(e,t,n,r):null;case x:return n.key===a?c(e,t,n,r):null;case L:return d(e,t,(a=n._init)(n._payload),r)}if(te(n)||F(n))return null!==a?null:f(e,t,n,r,null);Qi(e,n)}return null}function h(e,t,n,r,a){if(\"string\"==typeof r&&\"\"!==r||\"number\"==typeof r)return l(t,e=e.get(n)||null,\"\"+r,a);if(\"object\"==typeof r&&null!==r){switch(r.$$typeof){case w:return s(t,e=e.get(null===r.key?n:r.key)||null,r,a);case x:return c(t,e=e.get(null===r.key?n:r.key)||null,r,a);case L:return h(e,t,n,(0,r._init)(r._payload),a)}if(te(r)||F(r))return f(t,e=e.get(n)||null,r,a,null);Qi(t,r)}return null}function v(a,i,u,l){for(var s=null,c=null,f=i,v=i=0,g=null;null!==f&&v<u.length;v++){f.index>v?(g=f,f=null):g=f.sibling;var y=d(a,f,u[v],l);if(null===y){null===f&&(f=g);break}e&&f&&null===y.alternate&&t(a,f),i=o(y,i,v),null===c?s=y:c.sibling=y,c=y,f=g}if(v===u.length)return n(a,f),ai&&Xa(a,v),s;if(null===f){for(;v<u.length;v++)null!==(f=p(a,u[v],l))&&(i=o(f,i,v),null===c?s=f:c.sibling=f,c=f);return ai&&Xa(a,v),s}for(f=r(a,f);v<u.length;v++)null!==(g=h(f,a,v,u[v],l))&&(e&&null!==g.alternate&&f.delete(null===g.key?v:g.key),i=o(g,i,v),null===c?s=g:c.sibling=g,c=g);return e&&f.forEach((function(e){return t(a,e)})),ai&&Xa(a,v),s}function g(a,u,l,s){var c=F(l);if(\"function\"!=typeof c)throw Error(i(150));if(null==(l=c.call(l)))throw Error(i(151));for(var f=c=null,v=u,g=u=0,y=null,m=l.next();null!==v&&!m.done;g++,m=l.next()){v.index>g?(y=v,v=null):y=v.sibling;var b=d(a,v,m.value,s);if(null===b){null===v&&(v=y);break}e&&v&&null===b.alternate&&t(a,v),u=o(b,u,g),null===f?c=b:f.sibling=b,f=b,v=y}if(m.done)return n(a,v),ai&&Xa(a,g),c;if(null===v){for(;!m.done;g++,m=l.next())null!==(m=p(a,m.value,s))&&(u=o(m,u,g),null===f?c=m:f.sibling=m,f=m);return ai&&Xa(a,g),c}for(v=r(a,v);!m.done;g++,m=l.next())null!==(m=h(v,a,g,m.value,s))&&(e&&null!==m.alternate&&v.delete(null===m.key?g:m.key),u=o(m,u,g),null===f?c=m:f.sibling=m,f=m);return e&&v.forEach((function(e){return t(a,e)})),ai&&Xa(a,g),c}return function e(r,i,o,l){if(\"object\"==typeof o&&null!==o&&o.type===k&&null===o.key&&(o=o.props.children),\"object\"==typeof o&&null!==o){switch(o.$$typeof){case w:e:{for(var s=o.key,c=i;null!==c;){if(c.key===s){if((s=o.type)===k){if(7===c.tag){n(r,c.sibling),(i=a(c,o.props.children)).return=r,r=i;break e}}else if(c.elementType===s||\"object\"==typeof s&&null!==s&&s.$$typeof===L&&Yi(s)===c.type){n(r,c.sibling),(i=a(c,o.props)).ref=qi(r,c,o),i.return=r,r=i;break e}n(r,c);break}t(r,c),c=c.sibling}o.type===k?((i=Ds(o.props.children,r.mode,l,o.key)).return=r,r=i):((l=Fs(o.type,o.key,o.props,null,r.mode,l)).ref=qi(r,i,o),l.return=r,r=l)}return u(r);case x:e:{for(c=o.key;null!==i;){if(i.key===c){if(4===i.tag&&i.stateNode.containerInfo===o.containerInfo&&i.stateNode.implementation===o.implementation){n(r,i.sibling),(i=a(i,o.children||[])).return=r,r=i;break e}n(r,i);break}t(r,i),i=i.sibling}(i=Us(o,r.mode,l)).return=r,r=i}return u(r);case L:return e(r,i,(c=o._init)(o._payload),l)}if(te(o))return v(r,i,o,l);if(F(o))return g(r,i,o,l);Qi(r,o)}return\"string\"==typeof o&&\"\"!==o||\"number\"==typeof o?(o=\"\"+o,null!==i&&6===i.tag?(n(r,i.sibling),(i=a(i,o)).return=r,r=i):(n(r,i),(i=js(o,r.mode,l)).return=r,r=i),u(r)):n(r,i)}}var Ki=Gi(!0),Zi=Gi(!1),Xi={},Ji=Sa(Xi),eo=Sa(Xi),to=Sa(Xi);function no(e){if(e===Xi)throw Error(i(174));return e}function ro(e,t){switch(Ca(to,t),Ca(eo,e),Ca(Ji,Xi),e=t.nodeType){case 9:case 11:t=(t=t.documentElement)?t.namespaceURI:le(null,\"\");break;default:t=le(t=(e=8===e?t.parentNode:t).namespaceURI||null,e=e.tagName)}Ea(Ji),Ca(Ji,t)}function ao(){Ea(Ji),Ea(eo),Ea(to)}function io(e){no(to.current);var t=no(Ji.current),n=le(t,e.type);t!==n&&(Ca(eo,e),Ca(Ji,n))}function oo(e){eo.current===e&&(Ea(Ji),Ea(eo))}var uo=Sa(0);function lo(e){for(var t=e;null!==t;){if(13===t.tag){var n=t.memoizedState;if(null!==n&&(null===(n=n.dehydrated)||\"$?\"===n.data||\"$!\"===n.data))return t}else if(19===t.tag&&void 0!==t.memoizedProps.revealOrder){if(0!=(128&t.flags))return t}else if(null!==t.child){t.child.return=t,t=t.child;continue}if(t===e)break;for(;null===t.sibling;){if(null===t.return||t.return===e)return null;t=t.return}t.sibling.return=t.return,t=t.sibling}return null}var so=[];function co(){for(var e=0;e<so.length;e++)so[e]._workInProgressVersionPrimary=null;so.length=0}var fo=_.ReactCurrentDispatcher,po=_.ReactCurrentBatchConfig,ho=0,vo=null,go=null,yo=null,mo=!1,bo=!1,_o=0,wo=0;function xo(){throw Error(i(321))}function ko(e,t){if(null===t)return!1;for(var n=0;n<t.length&&n<e.length;n++)if(!ur(e[n],t[n]))return!1;return!0}function So(e,t,n,r,a,o){if(ho=o,vo=t,t.memoizedState=null,t.updateQueue=null,t.lanes=0,fo.current=null===e||null===e.memoizedState?uu:lu,e=n(r,a),bo){o=0;do{if(bo=!1,_o=0,25<=o)throw Error(i(301));o+=1,yo=go=null,t.updateQueue=null,fo.current=su,e=n(r,a)}while(bo)}if(fo.current=ou,t=null!==go&&null!==go.next,ho=0,yo=go=vo=null,mo=!1,t)throw Error(i(300));return e}function Eo(){var e=0!==_o;return _o=0,e}function Co(){var e={memoizedState:null,baseState:null,baseQueue:null,queue:null,next:null};return null===yo?vo.memoizedState=yo=e:yo=yo.next=e,yo}function To(){if(null===go){var e=vo.alternate;e=null!==e?e.memoizedState:null}else e=go.next;var t=null===yo?vo.memoizedState:yo.next;if(null!==t)yo=t,go=e;else{if(null===e)throw Error(i(310));e={memoizedState:(go=e).memoizedState,baseState:go.baseState,baseQueue:go.baseQueue,queue:go.queue,next:null},null===yo?vo.memoizedState=yo=e:yo=yo.next=e}return yo}function Mo(e,t){return\"function\"==typeof t?t(e):t}function No(e){var t=To(),n=t.queue;if(null===n)throw Error(i(311));n.lastRenderedReducer=e;var r=go,a=r.baseQueue,o=n.pending;if(null!==o){if(null!==a){var u=a.next;a.next=o.next,o.next=u}r.baseQueue=a=o,n.pending=null}if(null!==a){o=a.next,r=r.baseState;var l=u=null,s=null,c=o;do{var f=c.lane;if((ho&f)===f)null!==s&&(s=s.next={lane:0,action:c.action,hasEagerState:c.hasEagerState,eagerState:c.eagerState,next:null}),r=c.hasEagerState?c.eagerState:e(r,c.action);else{var p={lane:f,action:c.action,hasEagerState:c.hasEagerState,eagerState:c.eagerState,next:null};null===s?(l=s=p,u=r):s=s.next=p,vo.lanes|=f,Rl|=f}c=c.next}while(null!==c&&c!==o);null===s?u=r:s.next=l,ur(r,t.memoizedState)||(_u=!0),t.memoizedState=r,t.baseState=u,t.baseQueue=s,n.lastRenderedState=r}if(null!==(e=n.interleaved)){a=e;do{o=a.lane,vo.lanes|=o,Rl|=o,a=a.next}while(a!==e)}else null===a&&(n.lanes=0);return[t.memoizedState,n.dispatch]}function Po(e){var t=To(),n=t.queue;if(null===n)throw Error(i(311));n.lastRenderedReducer=e;var r=n.dispatch,a=n.pending,o=t.memoizedState;if(null!==a){n.pending=null;var u=a=a.next;do{o=e(o,u.action),u=u.next}while(u!==a);ur(o,t.memoizedState)||(_u=!0),t.memoizedState=o,null===t.baseQueue&&(t.baseState=o),n.lastRenderedState=o}return[o,r]}function zo(){}function Lo(e,t){var n=vo,r=To(),a=t(),o=!ur(r.memoizedState,a);if(o&&(r.memoizedState=a,_u=!0),r=r.queue,Vo(Fo.bind(null,n,r,e),[e]),r.getSnapshot!==t||o||null!==yo&&1&yo.memoizedState.tag){if(n.flags|=2048,Uo(9,Ao.bind(null,n,r,a,t),void 0,null),null===Pl)throw Error(i(349));0!=(30&ho)||Oo(n,t,a)}return a}function Oo(e,t,n){e.flags|=16384,e={getSnapshot:t,value:n},null===(t=vo.updateQueue)?(t={lastEffect:null,stores:null},vo.updateQueue=t,t.stores=[e]):null===(n=t.stores)?t.stores=[e]:n.push(e)}function Ao(e,t,n,r){t.value=n,t.getSnapshot=r,Do(t)&&Ro(e)}function Fo(e,t,n){return n((function(){Do(t)&&Ro(e)}))}function Do(e){var t=e.getSnapshot;e=e.value;try{var n=t();return!ur(e,n)}catch(e){return!0}}function Ro(e){var t=Ni(e,1);null!==t&&rs(t,e,1,-1)}function jo(e){var t=Co();return\"function\"==typeof e&&(e=e()),t.memoizedState=t.baseState=e,e={pending:null,interleaved:null,lanes:0,dispatch:null,lastRenderedReducer:Mo,lastRenderedState:e},t.queue=e,e=e.dispatch=nu.bind(null,vo,e),[t.memoizedState,e]}function Uo(e,t,n,r){return e={tag:e,create:t,destroy:n,deps:r,next:null},null===(t=vo.updateQueue)?(t={lastEffect:null,stores:null},vo.updateQueue=t,t.lastEffect=e.next=e):null===(n=t.lastEffect)?t.lastEffect=e.next=e:(r=n.next,n.next=e,e.next=r,t.lastEffect=e),e}function Io(){return To().memoizedState}function $o(e,t,n,r){var a=Co();vo.flags|=e,a.memoizedState=Uo(1|t,n,void 0,void 0===r?null:r)}function Bo(e,t,n,r){var a=To();r=void 0===r?null:r;var i=void 0;if(null!==go){var o=go.memoizedState;if(i=o.destroy,null!==r&&ko(r,o.deps))return void(a.memoizedState=Uo(t,n,i,r))}vo.flags|=e,a.memoizedState=Uo(1|t,n,i,r)}function Wo(e,t){return $o(8390656,8,e,t)}function Vo(e,t){return Bo(2048,8,e,t)}function Ho(e,t){return Bo(4,2,e,t)}function qo(e,t){return Bo(4,4,e,t)}function Qo(e,t){return\"function\"==typeof t?(e=e(),t(e),function(){t(null)}):null!=t?(e=e(),t.current=e,function(){t.current=null}):void 0}function Yo(e,t,n){return n=null!=n?n.concat([e]):null,Bo(4,4,Qo.bind(null,t,e),n)}function Go(){}function Ko(e,t){var n=To();t=void 0===t?null:t;var r=n.memoizedState;return null!==r&&null!==t&&ko(t,r[1])?r[0]:(n.memoizedState=[e,t],e)}function Zo(e,t){var n=To();t=void 0===t?null:t;var r=n.memoizedState;return null!==r&&null!==t&&ko(t,r[1])?r[0]:(e=e(),n.memoizedState=[e,t],e)}function Xo(e,t,n){return 0==(21&ho)?(e.baseState&&(e.baseState=!1,_u=!0),e.memoizedState=n):(ur(n,t)||(n=vt(),vo.lanes|=n,Rl|=n,e.baseState=!0),t)}function Jo(e,t){var n=bt;bt=0!==n&&4>n?n:4,e(!0);var r=po.transition;po.transition={};try{e(!1),t()}finally{bt=n,po.transition=r}}function eu(){return To().memoizedState}function tu(e,t,n){var r=ns(e);n={lane:r,action:n,hasEagerState:!1,eagerState:null,next:null},ru(e)?au(t,n):null!==(n=Mi(e,t,n,r))&&(rs(n,e,r,ts()),iu(n,t,r))}function nu(e,t,n){var r=ns(e),a={lane:r,action:n,hasEagerState:!1,eagerState:null,next:null};if(ru(e))au(t,a);else{var i=e.alternate;if(0===e.lanes&&(null===i||0===i.lanes)&&null!==(i=t.lastRenderedReducer))try{var o=t.lastRenderedState,u=i(o,n);if(a.hasEagerState=!0,a.eagerState=u,ur(u,o)){var l=t.interleaved;return null===l?(a.next=a,Ti(t)):(a.next=l.next,l.next=a),void(t.interleaved=a)}}catch(e){}null!==(n=Mi(e,t,a,r))&&(rs(n,e,r,a=ts()),iu(n,t,r))}}function ru(e){var t=e.alternate;return e===vo||null!==t&&t===vo}function au(e,t){bo=mo=!0;var n=e.pending;null===n?t.next=t:(t.next=n.next,n.next=t),e.pending=t}function iu(e,t,n){if(0!=(4194240&n)){var r=t.lanes;n|=r&=e.pendingLanes,t.lanes=n,mt(e,n)}}var ou={readContext:Ei,useCallback:xo,useContext:xo,useEffect:xo,useImperativeHandle:xo,useInsertionEffect:xo,useLayoutEffect:xo,useMemo:xo,useReducer:xo,useRef:xo,useState:xo,useDebugValue:xo,useDeferredValue:xo,useTransition:xo,useMutableSource:xo,useSyncExternalStore:xo,useId:xo,unstable_isNewReconciler:!1},uu={readContext:Ei,useCallback:function(e,t){return Co().memoizedState=[e,void 0===t?null:t],e},useContext:Ei,useEffect:Wo,useImperativeHandle:function(e,t,n){return n=null!=n?n.concat([e]):null,$o(4194308,4,Qo.bind(null,t,e),n)},useLayoutEffect:function(e,t){return $o(4194308,4,e,t)},useInsertionEffect:function(e,t){return $o(4,2,e,t)},useMemo:function(e,t){var n=Co();return t=void 0===t?null:t,e=e(),n.memoizedState=[e,t],e},useReducer:function(e,t,n){var r=Co();return t=void 0!==n?n(t):t,r.memoizedState=r.baseState=t,e={pending:null,interleaved:null,lanes:0,dispatch:null,lastRenderedReducer:e,lastRenderedState:t},r.queue=e,e=e.dispatch=tu.bind(null,vo,e),[r.memoizedState,e]},useRef:function(e){return e={current:e},Co().memoizedState=e},useState:jo,useDebugValue:Go,useDeferredValue:function(e){return Co().memoizedState=e},useTransition:function(){var e=jo(!1),t=e[0];return e=Jo.bind(null,e[1]),Co().memoizedState=e,[t,e]},useMutableSource:function(){},useSyncExternalStore:function(e,t,n){var r=vo,a=Co();if(ai){if(void 0===n)throw Error(i(407));n=n()}else{if(n=t(),null===Pl)throw Error(i(349));0!=(30&ho)||Oo(r,t,n)}a.memoizedState=n;var o={value:n,getSnapshot:t};return a.queue=o,Wo(Fo.bind(null,r,o,e),[e]),r.flags|=2048,Uo(9,Ao.bind(null,r,o,n,t),void 0,null),n},useId:function(){var e=Co(),t=Pl.identifierPrefix;if(ai){var n=Za;t=\":\"+t+\"R\"+(n=(Ka&~(1<<32-ot(Ka)-1)).toString(32)+n),0<(n=_o++)&&(t+=\"H\"+n.toString(32)),t+=\":\"}else t=\":\"+t+\"r\"+(n=wo++).toString(32)+\":\";return e.memoizedState=t},unstable_isNewReconciler:!1},lu={readContext:Ei,useCallback:Ko,useContext:Ei,useEffect:Vo,useImperativeHandle:Yo,useInsertionEffect:Ho,useLayoutEffect:qo,useMemo:Zo,useReducer:No,useRef:Io,useState:function(){return No(Mo)},useDebugValue:Go,useDeferredValue:function(e){return Xo(To(),go.memoizedState,e)},useTransition:function(){return[No(Mo)[0],To().memoizedState]},useMutableSource:zo,useSyncExternalStore:Lo,useId:eu,unstable_isNewReconciler:!1},su={readContext:Ei,useCallback:Ko,useContext:Ei,useEffect:Vo,useImperativeHandle:Yo,useInsertionEffect:Ho,useLayoutEffect:qo,useMemo:Zo,useReducer:Po,useRef:Io,useState:function(){return Po(Mo)},useDebugValue:Go,useDeferredValue:function(e){var t=To();return null===go?t.memoizedState=e:Xo(t,go.memoizedState,e)},useTransition:function(){return[Po(Mo)[0],To().memoizedState]},useMutableSource:zo,useSyncExternalStore:Lo,useId:eu,unstable_isNewReconciler:!1};function cu(e,t){try{var n=\"\",r=t;do{n+=$(r),r=r.return}while(r);var a=n}catch(e){a=\"\\nError generating stack: \"+e.message+\"\\n\"+e.stack}return{value:e,source:t,stack:a,digest:null}}function fu(e,t,n){return{value:e,source:null,stack:null!=n?n:null,digest:null!=t?t:null}}function pu(e,t){try{console.error(t.value)}catch(e){setTimeout((function(){throw e}))}}var du=\"function\"==typeof WeakMap?WeakMap:Map;function hu(e,t,n){(n=Oi(-1,n)).tag=3,n.payload={element:null};var r=t.value;return n.callback=function(){Hl||(Hl=!0,ql=r),pu(0,t)},n}function vu(e,t,n){(n=Oi(-1,n)).tag=3;var r=e.type.getDerivedStateFromError;if(\"function\"==typeof r){var a=t.value;n.payload=function(){return r(a)},n.callback=function(){pu(0,t)}}var i=e.stateNode;return null!==i&&\"function\"==typeof i.componentDidCatch&&(n.callback=function(){pu(0,t),\"function\"!=typeof r&&(null===Ql?Ql=new Set([this]):Ql.add(this));var e=t.stack;this.componentDidCatch(t.value,{componentStack:null!==e?e:\"\"})}),n}function gu(e,t,n){var r=e.pingCache;if(null===r){r=e.pingCache=new du;var a=new Set;r.set(t,a)}else void 0===(a=r.get(t))&&(a=new Set,r.set(t,a));a.has(n)||(a.add(n),e=Cs.bind(null,e,t,n),t.then(e,e))}function yu(e){do{var t;if((t=13===e.tag)&&(t=null===(t=e.memoizedState)||null!==t.dehydrated),t)return e;e=e.return}while(null!==e);return null}function mu(e,t,n,r,a){return 0==(1&e.mode)?(e===t?e.flags|=65536:(e.flags|=128,n.flags|=131072,n.flags&=-52805,1===n.tag&&(null===n.alternate?n.tag=17:((t=Oi(-1,1)).tag=2,Ai(n,t,1))),n.lanes|=1),e):(e.flags|=65536,e.lanes=a,e)}var bu=_.ReactCurrentOwner,_u=!1;function wu(e,t,n,r){t.child=null===e?Zi(t,null,n,r):Ki(t,e.child,n,r)}function xu(e,t,n,r,a){n=n.render;var i=t.ref;return Si(t,a),r=So(e,t,n,r,i,a),n=Eo(),null===e||_u?(ai&&n&&ei(t),t.flags|=1,wu(e,t,r,a),t.child):(t.updateQueue=e.updateQueue,t.flags&=-2053,e.lanes&=~a,Hu(e,t,a))}function ku(e,t,n,r,a){if(null===e){var i=n.type;return\"function\"!=typeof i||Os(i)||void 0!==i.defaultProps||null!==n.compare||void 0!==n.defaultProps?((e=Fs(n.type,null,r,t,t.mode,a)).ref=t.ref,e.return=t,t.child=e):(t.tag=15,t.type=i,Su(e,t,i,r,a))}if(i=e.child,0==(e.lanes&a)){var o=i.memoizedProps;if((n=null!==(n=n.compare)?n:lr)(o,r)&&e.ref===t.ref)return Hu(e,t,a)}return t.flags|=1,(e=As(i,r)).ref=t.ref,e.return=t,t.child=e}function Su(e,t,n,r,a){if(null!==e){var i=e.memoizedProps;if(lr(i,r)&&e.ref===t.ref){if(_u=!1,t.pendingProps=r=i,0==(e.lanes&a))return t.lanes=e.lanes,Hu(e,t,a);0!=(131072&e.flags)&&(_u=!0)}}return Tu(e,t,n,r,a)}function Eu(e,t,n){var r=t.pendingProps,a=r.children,i=null!==e?e.memoizedState:null;if(\"hidden\"===r.mode)if(0==(1&t.mode))t.memoizedState={baseLanes:0,cachePool:null,transitions:null},Ca(Al,Ol),Ol|=n;else{if(0==(1073741824&n))return e=null!==i?i.baseLanes|n:n,t.lanes=t.childLanes=1073741824,t.memoizedState={baseLanes:e,cachePool:null,transitions:null},t.updateQueue=null,Ca(Al,Ol),Ol|=e,null;t.memoizedState={baseLanes:0,cachePool:null,transitions:null},r=null!==i?i.baseLanes:n,Ca(Al,Ol),Ol|=r}else null!==i?(r=i.baseLanes|n,t.memoizedState=null):r=n,Ca(Al,Ol),Ol|=r;return wu(e,t,a,n),t.child}function Cu(e,t){var n=t.ref;(null===e&&null!==n||null!==e&&e.ref!==n)&&(t.flags|=512,t.flags|=2097152)}function Tu(e,t,n,r,a){var i=La(n)?Pa:Ma.current;return i=za(t,i),Si(t,a),n=So(e,t,n,r,i,a),r=Eo(),null===e||_u?(ai&&r&&ei(t),t.flags|=1,wu(e,t,n,a),t.child):(t.updateQueue=e.updateQueue,t.flags&=-2053,e.lanes&=~a,Hu(e,t,a))}function Mu(e,t,n,r,a){if(La(n)){var i=!0;Da(t)}else i=!1;if(Si(t,a),null===t.stateNode)Vu(e,t),Wi(t,n,r),Hi(t,n,r,a),r=!0;else if(null===e){var o=t.stateNode,u=t.memoizedProps;o.props=u;var l=o.context,s=n.contextType;s=\"object\"==typeof s&&null!==s?Ei(s):za(t,s=La(n)?Pa:Ma.current);var c=n.getDerivedStateFromProps,f=\"function\"==typeof c||\"function\"==typeof o.getSnapshotBeforeUpdate;f||\"function\"!=typeof o.UNSAFE_componentWillReceiveProps&&\"function\"!=typeof o.componentWillReceiveProps||(u!==r||l!==s)&&Vi(t,o,r,s),Pi=!1;var p=t.memoizedState;o.state=p,Ri(t,r,o,a),l=t.memoizedState,u!==r||p!==l||Na.current||Pi?(\"function\"==typeof c&&(Ii(t,n,c,r),l=t.memoizedState),(u=Pi||Bi(t,n,u,r,p,l,s))?(f||\"function\"!=typeof o.UNSAFE_componentWillMount&&\"function\"!=typeof o.componentWillMount||(\"function\"==typeof o.componentWillMount&&o.componentWillMount(),\"function\"==typeof o.UNSAFE_componentWillMount&&o.UNSAFE_componentWillMount()),\"function\"==typeof o.componentDidMount&&(t.flags|=4194308)):(\"function\"==typeof o.componentDidMount&&(t.flags|=4194308),t.memoizedProps=r,t.memoizedState=l),o.props=r,o.state=l,o.context=s,r=u):(\"function\"==typeof o.componentDidMount&&(t.flags|=4194308),r=!1)}else{o=t.stateNode,Li(e,t),u=t.memoizedProps,s=t.type===t.elementType?u:gi(t.type,u),o.props=s,f=t.pendingProps,p=o.context,l=\"object\"==typeof(l=n.contextType)&&null!==l?Ei(l):za(t,l=La(n)?Pa:Ma.current);var d=n.getDerivedStateFromProps;(c=\"function\"==typeof d||\"function\"==typeof o.getSnapshotBeforeUpdate)||\"function\"!=typeof o.UNSAFE_componentWillReceiveProps&&\"function\"!=typeof o.componentWillReceiveProps||(u!==f||p!==l)&&Vi(t,o,r,l),Pi=!1,p=t.memoizedState,o.state=p,Ri(t,r,o,a);var h=t.memoizedState;u!==f||p!==h||Na.current||Pi?(\"function\"==typeof d&&(Ii(t,n,d,r),h=t.memoizedState),(s=Pi||Bi(t,n,s,r,p,h,l)||!1)?(c||\"function\"!=typeof o.UNSAFE_componentWillUpdate&&\"function\"!=typeof o.componentWillUpdate||(\"function\"==typeof o.componentWillUpdate&&o.componentWillUpdate(r,h,l),\"function\"==typeof o.UNSAFE_componentWillUpdate&&o.UNSAFE_componentWillUpdate(r,h,l)),\"function\"==typeof o.componentDidUpdate&&(t.flags|=4),\"function\"==typeof o.getSnapshotBeforeUpdate&&(t.flags|=1024)):(\"function\"!=typeof o.componentDidUpdate||u===e.memoizedProps&&p===e.memoizedState||(t.flags|=4),\"function\"!=typeof o.getSnapshotBeforeUpdate||u===e.memoizedProps&&p===e.memoizedState||(t.flags|=1024),t.memoizedProps=r,t.memoizedState=h),o.props=r,o.state=h,o.context=l,r=s):(\"function\"!=typeof o.componentDidUpdate||u===e.memoizedProps&&p===e.memoizedState||(t.flags|=4),\"function\"!=typeof o.getSnapshotBeforeUpdate||u===e.memoizedProps&&p===e.memoizedState||(t.flags|=1024),r=!1)}return Nu(e,t,n,r,i,a)}function Nu(e,t,n,r,a,i){Cu(e,t);var o=0!=(128&t.flags);if(!r&&!o)return a&&Ra(t,n,!1),Hu(e,t,i);r=t.stateNode,bu.current=t;var u=o&&\"function\"!=typeof n.getDerivedStateFromError?null:r.render();return t.flags|=1,null!==e&&o?(t.child=Ki(t,e.child,null,i),t.child=Ki(t,null,u,i)):wu(e,t,u,i),t.memoizedState=r.state,a&&Ra(t,n,!0),t.child}function Pu(e){var t=e.stateNode;t.pendingContext?Aa(0,t.pendingContext,t.pendingContext!==t.context):t.context&&Aa(0,t.context,!1),ro(e,t.containerInfo)}function zu(e,t,n,r,a){return di(),hi(a),t.flags|=256,wu(e,t,n,r),t.child}var Lu,Ou,Au,Fu,Du={dehydrated:null,treeContext:null,retryLane:0};function Ru(e){return{baseLanes:e,cachePool:null,transitions:null}}function ju(e,t,n){var r,a=t.pendingProps,o=uo.current,u=!1,l=0!=(128&t.flags);if((r=l)||(r=(null===e||null!==e.memoizedState)&&0!=(2&o)),r?(u=!0,t.flags&=-129):null!==e&&null===e.memoizedState||(o|=1),Ca(uo,1&o),null===e)return si(t),null!==(e=t.memoizedState)&&null!==(e=e.dehydrated)?(0==(1&t.mode)?t.lanes=1:\"$!\"===e.data?t.lanes=8:t.lanes=1073741824,null):(l=a.children,e=a.fallback,u?(a=t.mode,u=t.child,l={mode:\"hidden\",children:l},0==(1&a)&&null!==u?(u.childLanes=0,u.pendingProps=l):u=Rs(l,a,0,null),e=Ds(e,a,n,null),u.return=t,e.return=t,u.sibling=e,t.child=u,t.child.memoizedState=Ru(n),t.memoizedState=Du,e):Uu(t,l));if(null!==(o=e.memoizedState)&&null!==(r=o.dehydrated))return function(e,t,n,r,a,o,u){if(n)return 256&t.flags?(t.flags&=-257,Iu(e,t,u,r=fu(Error(i(422))))):null!==t.memoizedState?(t.child=e.child,t.flags|=128,null):(o=r.fallback,a=t.mode,r=Rs({mode:\"visible\",children:r.children},a,0,null),(o=Ds(o,a,u,null)).flags|=2,r.return=t,o.return=t,r.sibling=o,t.child=r,0!=(1&t.mode)&&Ki(t,e.child,null,u),t.child.memoizedState=Ru(u),t.memoizedState=Du,o);if(0==(1&t.mode))return Iu(e,t,u,null);if(\"$!\"===a.data){if(r=a.nextSibling&&a.nextSibling.dataset)var l=r.dgst;return r=l,Iu(e,t,u,r=fu(o=Error(i(419)),r,void 0))}if(l=0!=(u&e.childLanes),_u||l){if(null!==(r=Pl)){switch(u&-u){case 4:a=2;break;case 16:a=8;break;case 64:case 128:case 256:case 512:case 1024:case 2048:case 4096:case 8192:case 16384:case 32768:case 65536:case 131072:case 262144:case 524288:case 1048576:case 2097152:case 4194304:case 8388608:case 16777216:case 33554432:case 67108864:a=32;break;case 536870912:a=268435456;break;default:a=0}0!==(a=0!=(a&(r.suspendedLanes|u))?0:a)&&a!==o.retryLane&&(o.retryLane=a,Ni(e,a),rs(r,e,a,-1))}return gs(),Iu(e,t,u,r=fu(Error(i(421))))}return\"$?\"===a.data?(t.flags|=128,t.child=e.child,t=Ms.bind(null,e),a._reactRetry=t,null):(e=o.treeContext,ri=sa(a.nextSibling),ni=t,ai=!0,ii=null,null!==e&&(Qa[Ya++]=Ka,Qa[Ya++]=Za,Qa[Ya++]=Ga,Ka=e.id,Za=e.overflow,Ga=t),(t=Uu(t,r.children)).flags|=4096,t)}(e,t,l,a,r,o,n);if(u){u=a.fallback,l=t.mode,r=(o=e.child).sibling;var s={mode:\"hidden\",children:a.children};return 0==(1&l)&&t.child!==o?((a=t.child).childLanes=0,a.pendingProps=s,t.deletions=null):(a=As(o,s)).subtreeFlags=14680064&o.subtreeFlags,null!==r?u=As(r,u):(u=Ds(u,l,n,null)).flags|=2,u.return=t,a.return=t,a.sibling=u,t.child=a,a=u,u=t.child,l=null===(l=e.child.memoizedState)?Ru(n):{baseLanes:l.baseLanes|n,cachePool:null,transitions:l.transitions},u.memoizedState=l,u.childLanes=e.childLanes&~n,t.memoizedState=Du,a}return e=(u=e.child).sibling,a=As(u,{mode:\"visible\",children:a.children}),0==(1&t.mode)&&(a.lanes=n),a.return=t,a.sibling=null,null!==e&&(null===(n=t.deletions)?(t.deletions=[e],t.flags|=16):n.push(e)),t.child=a,t.memoizedState=null,a}function Uu(e,t){return(t=Rs({mode:\"visible\",children:t},e.mode,0,null)).return=e,e.child=t}function Iu(e,t,n,r){return null!==r&&hi(r),Ki(t,e.child,null,n),(e=Uu(t,t.pendingProps.children)).flags|=2,t.memoizedState=null,e}function $u(e,t,n){e.lanes|=t;var r=e.alternate;null!==r&&(r.lanes|=t),ki(e.return,t,n)}function Bu(e,t,n,r,a){var i=e.memoizedState;null===i?e.memoizedState={isBackwards:t,rendering:null,renderingStartTime:0,last:r,tail:n,tailMode:a}:(i.isBackwards=t,i.rendering=null,i.renderingStartTime=0,i.last=r,i.tail=n,i.tailMode=a)}function Wu(e,t,n){var r=t.pendingProps,a=r.revealOrder,i=r.tail;if(wu(e,t,r.children,n),0!=(2&(r=uo.current)))r=1&r|2,t.flags|=128;else{if(null!==e&&0!=(128&e.flags))e:for(e=t.child;null!==e;){if(13===e.tag)null!==e.memoizedState&&$u(e,n,t);else if(19===e.tag)$u(e,n,t);else if(null!==e.child){e.child.return=e,e=e.child;continue}if(e===t)break e;for(;null===e.sibling;){if(null===e.return||e.return===t)break e;e=e.return}e.sibling.return=e.return,e=e.sibling}r&=1}if(Ca(uo,r),0==(1&t.mode))t.memoizedState=null;else switch(a){case\"forwards\":for(n=t.child,a=null;null!==n;)null!==(e=n.alternate)&&null===lo(e)&&(a=n),n=n.sibling;null===(n=a)?(a=t.child,t.child=null):(a=n.sibling,n.sibling=null),Bu(t,!1,a,n,i);break;case\"backwards\":for(n=null,a=t.child,t.child=null;null!==a;){if(null!==(e=a.alternate)&&null===lo(e)){t.child=a;break}e=a.sibling,a.sibling=n,n=a,a=e}Bu(t,!0,n,null,i);break;case\"together\":Bu(t,!1,null,null,void 0);break;default:t.memoizedState=null}return t.child}function Vu(e,t){0==(1&t.mode)&&null!==e&&(e.alternate=null,t.alternate=null,t.flags|=2)}function Hu(e,t,n){if(null!==e&&(t.dependencies=e.dependencies),Rl|=t.lanes,0==(n&t.childLanes))return null;if(null!==e&&t.child!==e.child)throw Error(i(153));if(null!==t.child){for(n=As(e=t.child,e.pendingProps),t.child=n,n.return=t;null!==e.sibling;)e=e.sibling,(n=n.sibling=As(e,e.pendingProps)).return=t;n.sibling=null}return t.child}function qu(e,t){if(!ai)switch(e.tailMode){case\"hidden\":t=e.tail;for(var n=null;null!==t;)null!==t.alternate&&(n=t),t=t.sibling;null===n?e.tail=null:n.sibling=null;break;case\"collapsed\":n=e.tail;for(var r=null;null!==n;)null!==n.alternate&&(r=n),n=n.sibling;null===r?t||null===e.tail?e.tail=null:e.tail.sibling=null:r.sibling=null}}function Qu(e){var t=null!==e.alternate&&e.alternate.child===e.child,n=0,r=0;if(t)for(var a=e.child;null!==a;)n|=a.lanes|a.childLanes,r|=14680064&a.subtreeFlags,r|=14680064&a.flags,a.return=e,a=a.sibling;else for(a=e.child;null!==a;)n|=a.lanes|a.childLanes,r|=a.subtreeFlags,r|=a.flags,a.return=e,a=a.sibling;return e.subtreeFlags|=r,e.childLanes=n,t}function Yu(e,t,n){var r=t.pendingProps;switch(ti(t),t.tag){case 2:case 16:case 15:case 0:case 11:case 7:case 8:case 12:case 9:case 14:return Qu(t),null;case 1:case 17:return La(t.type)&&Oa(),Qu(t),null;case 3:return r=t.stateNode,ao(),Ea(Na),Ea(Ma),co(),r.pendingContext&&(r.context=r.pendingContext,r.pendingContext=null),null!==e&&null!==e.child||(fi(t)?t.flags|=4:null===e||e.memoizedState.isDehydrated&&0==(256&t.flags)||(t.flags|=1024,null!==ii&&(us(ii),ii=null))),Ou(e,t),Qu(t),null;case 5:oo(t);var a=no(to.current);if(n=t.type,null!==e&&null!=t.stateNode)Au(e,t,n,r,a),e.ref!==t.ref&&(t.flags|=512,t.flags|=2097152);else{if(!r){if(null===t.stateNode)throw Error(i(166));return Qu(t),null}if(e=no(Ji.current),fi(t)){r=t.stateNode,n=t.type;var o=t.memoizedProps;switch(r[pa]=t,r[da]=o,e=0!=(1&t.mode),n){case\"dialog\":Ur(\"cancel\",r),Ur(\"close\",r);break;case\"iframe\":case\"object\":case\"embed\":Ur(\"load\",r);break;case\"video\":case\"audio\":for(a=0;a<Fr.length;a++)Ur(Fr[a],r);break;case\"source\":Ur(\"error\",r);break;case\"img\":case\"image\":case\"link\":Ur(\"error\",r),Ur(\"load\",r);break;case\"details\":Ur(\"toggle\",r);break;case\"input\":K(r,o),Ur(\"invalid\",r);break;case\"select\":r._wrapperState={wasMultiple:!!o.multiple},Ur(\"invalid\",r);break;case\"textarea\":ae(r,o),Ur(\"invalid\",r)}for(var l in me(n,o),a=null,o)if(o.hasOwnProperty(l)){var s=o[l];\"children\"===l?\"string\"==typeof s?r.textContent!==s&&(!0!==o.suppressHydrationWarning&&Xr(r.textContent,s,e),a=[\"children\",s]):\"number\"==typeof s&&r.textContent!==\"\"+s&&(!0!==o.suppressHydrationWarning&&Xr(r.textContent,s,e),a=[\"children\",\"\"+s]):u.hasOwnProperty(l)&&null!=s&&\"onScroll\"===l&&Ur(\"scroll\",r)}switch(n){case\"input\":q(r),J(r,o,!0);break;case\"textarea\":q(r),oe(r);break;case\"select\":case\"option\":break;default:\"function\"==typeof o.onClick&&(r.onclick=Jr)}r=a,t.updateQueue=r,null!==r&&(t.flags|=4)}else{l=9===a.nodeType?a:a.ownerDocument,\"http://www.w3.org/1999/xhtml\"===e&&(e=ue(n)),\"http://www.w3.org/1999/xhtml\"===e?\"script\"===n?((e=l.createElement(\"div\")).innerHTML=\"<script><\\/script>\",e=e.removeChild(e.firstChild)):\"string\"==typeof r.is?e=l.createElement(n,{is:r.is}):(e=l.createElement(n),\"select\"===n&&(l=e,r.multiple?l.multiple=!0:r.size&&(l.size=r.size))):e=l.createElementNS(e,n),e[pa]=t,e[da]=r,Lu(e,t,!1,!1),t.stateNode=e;e:{switch(l=be(n,r),n){case\"dialog\":Ur(\"cancel\",e),Ur(\"close\",e),a=r;break;case\"iframe\":case\"object\":case\"embed\":Ur(\"load\",e),a=r;break;case\"video\":case\"audio\":for(a=0;a<Fr.length;a++)Ur(Fr[a],e);a=r;break;case\"source\":Ur(\"error\",e),a=r;break;case\"img\":case\"image\":case\"link\":Ur(\"error\",e),Ur(\"load\",e),a=r;break;case\"details\":Ur(\"toggle\",e),a=r;break;case\"input\":K(e,r),a=G(e,r),Ur(\"invalid\",e);break;case\"option\":default:a=r;break;case\"select\":e._wrapperState={wasMultiple:!!r.multiple},a=R({},r,{value:void 0}),Ur(\"invalid\",e);break;case\"textarea\":ae(e,r),a=re(e,r),Ur(\"invalid\",e)}for(o in me(n,a),s=a)if(s.hasOwnProperty(o)){var c=s[o];\"style\"===o?ge(e,c):\"dangerouslySetInnerHTML\"===o?null!=(c=c?c.__html:void 0)&&fe(e,c):\"children\"===o?\"string\"==typeof c?(\"textarea\"!==n||\"\"!==c)&&pe(e,c):\"number\"==typeof c&&pe(e,\"\"+c):\"suppressContentEditableWarning\"!==o&&\"suppressHydrationWarning\"!==o&&\"autoFocus\"!==o&&(u.hasOwnProperty(o)?null!=c&&\"onScroll\"===o&&Ur(\"scroll\",e):null!=c&&b(e,o,c,l))}switch(n){case\"input\":q(e),J(e,r,!1);break;case\"textarea\":q(e),oe(e);break;case\"option\":null!=r.value&&e.setAttribute(\"value\",\"\"+V(r.value));break;case\"select\":e.multiple=!!r.multiple,null!=(o=r.value)?ne(e,!!r.multiple,o,!1):null!=r.defaultValue&&ne(e,!!r.multiple,r.defaultValue,!0);break;default:\"function\"==typeof a.onClick&&(e.onclick=Jr)}switch(n){case\"button\":case\"input\":case\"select\":case\"textarea\":r=!!r.autoFocus;break e;case\"img\":r=!0;break e;default:r=!1}}r&&(t.flags|=4)}null!==t.ref&&(t.flags|=512,t.flags|=2097152)}return Qu(t),null;case 6:if(e&&null!=t.stateNode)Fu(e,t,e.memoizedProps,r);else{if(\"string\"!=typeof r&&null===t.stateNode)throw Error(i(166));if(n=no(to.current),no(Ji.current),fi(t)){if(r=t.stateNode,n=t.memoizedProps,r[pa]=t,(o=r.nodeValue!==n)&&null!==(e=ni))switch(e.tag){case 3:Xr(r.nodeValue,n,0!=(1&e.mode));break;case 5:!0!==e.memoizedProps.suppressHydrationWarning&&Xr(r.nodeValue,n,0!=(1&e.mode))}o&&(t.flags|=4)}else(r=(9===n.nodeType?n:n.ownerDocument).createTextNode(r))[pa]=t,t.stateNode=r}return Qu(t),null;case 13:if(Ea(uo),r=t.memoizedState,null===e||null!==e.memoizedState&&null!==e.memoizedState.dehydrated){if(ai&&null!==ri&&0!=(1&t.mode)&&0==(128&t.flags))pi(),di(),t.flags|=98560,o=!1;else if(o=fi(t),null!==r&&null!==r.dehydrated){if(null===e){if(!o)throw Error(i(318));if(!(o=null!==(o=t.memoizedState)?o.dehydrated:null))throw Error(i(317));o[pa]=t}else di(),0==(128&t.flags)&&(t.memoizedState=null),t.flags|=4;Qu(t),o=!1}else null!==ii&&(us(ii),ii=null),o=!0;if(!o)return 65536&t.flags?t:null}return 0!=(128&t.flags)?(t.lanes=n,t):((r=null!==r)!=(null!==e&&null!==e.memoizedState)&&r&&(t.child.flags|=8192,0!=(1&t.mode)&&(null===e||0!=(1&uo.current)?0===Fl&&(Fl=3):gs())),null!==t.updateQueue&&(t.flags|=4),Qu(t),null);case 4:return ao(),Ou(e,t),null===e&&Br(t.stateNode.containerInfo),Qu(t),null;case 10:return xi(t.type._context),Qu(t),null;case 19:if(Ea(uo),null===(o=t.memoizedState))return Qu(t),null;if(r=0!=(128&t.flags),null===(l=o.rendering))if(r)qu(o,!1);else{if(0!==Fl||null!==e&&0!=(128&e.flags))for(e=t.child;null!==e;){if(null!==(l=lo(e))){for(t.flags|=128,qu(o,!1),null!==(r=l.updateQueue)&&(t.updateQueue=r,t.flags|=4),t.subtreeFlags=0,r=n,n=t.child;null!==n;)e=r,(o=n).flags&=14680066,null===(l=o.alternate)?(o.childLanes=0,o.lanes=e,o.child=null,o.subtreeFlags=0,o.memoizedProps=null,o.memoizedState=null,o.updateQueue=null,o.dependencies=null,o.stateNode=null):(o.childLanes=l.childLanes,o.lanes=l.lanes,o.child=l.child,o.subtreeFlags=0,o.deletions=null,o.memoizedProps=l.memoizedProps,o.memoizedState=l.memoizedState,o.updateQueue=l.updateQueue,o.type=l.type,e=l.dependencies,o.dependencies=null===e?null:{lanes:e.lanes,firstContext:e.firstContext}),n=n.sibling;return Ca(uo,1&uo.current|2),t.child}e=e.sibling}null!==o.tail&&Ze()>Wl&&(t.flags|=128,r=!0,qu(o,!1),t.lanes=4194304)}else{if(!r)if(null!==(e=lo(l))){if(t.flags|=128,r=!0,null!==(n=e.updateQueue)&&(t.updateQueue=n,t.flags|=4),qu(o,!0),null===o.tail&&\"hidden\"===o.tailMode&&!l.alternate&&!ai)return Qu(t),null}else 2*Ze()-o.renderingStartTime>Wl&&1073741824!==n&&(t.flags|=128,r=!0,qu(o,!1),t.lanes=4194304);o.isBackwards?(l.sibling=t.child,t.child=l):(null!==(n=o.last)?n.sibling=l:t.child=l,o.last=l)}return null!==o.tail?(t=o.tail,o.rendering=t,o.tail=t.sibling,o.renderingStartTime=Ze(),t.sibling=null,n=uo.current,Ca(uo,r?1&n|2:1&n),t):(Qu(t),null);case 22:case 23:return ps(),r=null!==t.memoizedState,null!==e&&null!==e.memoizedState!==r&&(t.flags|=8192),r&&0!=(1&t.mode)?0!=(1073741824&Ol)&&(Qu(t),6&t.subtreeFlags&&(t.flags|=8192)):Qu(t),null;case 24:case 25:return null}throw Error(i(156,t.tag))}function Gu(e,t){switch(ti(t),t.tag){case 1:return La(t.type)&&Oa(),65536&(e=t.flags)?(t.flags=-65537&e|128,t):null;case 3:return ao(),Ea(Na),Ea(Ma),co(),0!=(65536&(e=t.flags))&&0==(128&e)?(t.flags=-65537&e|128,t):null;case 5:return oo(t),null;case 13:if(Ea(uo),null!==(e=t.memoizedState)&&null!==e.dehydrated){if(null===t.alternate)throw Error(i(340));di()}return 65536&(e=t.flags)?(t.flags=-65537&e|128,t):null;case 19:return Ea(uo),null;case 4:return ao(),null;case 10:return xi(t.type._context),null;case 22:case 23:return ps(),null;default:return null}}Lu=function(e,t){for(var n=t.child;null!==n;){if(5===n.tag||6===n.tag)e.appendChild(n.stateNode);else if(4!==n.tag&&null!==n.child){n.child.return=n,n=n.child;continue}if(n===t)break;for(;null===n.sibling;){if(null===n.return||n.return===t)return;n=n.return}n.sibling.return=n.return,n=n.sibling}},Ou=function(){},Au=function(e,t,n,r){var a=e.memoizedProps;if(a!==r){e=t.stateNode,no(Ji.current);var i,o=null;switch(n){case\"input\":a=G(e,a),r=G(e,r),o=[];break;case\"select\":a=R({},a,{value:void 0}),r=R({},r,{value:void 0}),o=[];break;case\"textarea\":a=re(e,a),r=re(e,r),o=[];break;default:\"function\"!=typeof a.onClick&&\"function\"==typeof r.onClick&&(e.onclick=Jr)}for(c in me(n,r),n=null,a)if(!r.hasOwnProperty(c)&&a.hasOwnProperty(c)&&null!=a[c])if(\"style\"===c){var l=a[c];for(i in l)l.hasOwnProperty(i)&&(n||(n={}),n[i]=\"\")}else\"dangerouslySetInnerHTML\"!==c&&\"children\"!==c&&\"suppressContentEditableWarning\"!==c&&\"suppressHydrationWarning\"!==c&&\"autoFocus\"!==c&&(u.hasOwnProperty(c)?o||(o=[]):(o=o||[]).push(c,null));for(c in r){var s=r[c];if(l=null!=a?a[c]:void 0,r.hasOwnProperty(c)&&s!==l&&(null!=s||null!=l))if(\"style\"===c)if(l){for(i in l)!l.hasOwnProperty(i)||s&&s.hasOwnProperty(i)||(n||(n={}),n[i]=\"\");for(i in s)s.hasOwnProperty(i)&&l[i]!==s[i]&&(n||(n={}),n[i]=s[i])}else n||(o||(o=[]),o.push(c,n)),n=s;else\"dangerouslySetInnerHTML\"===c?(s=s?s.__html:void 0,l=l?l.__html:void 0,null!=s&&l!==s&&(o=o||[]).push(c,s)):\"children\"===c?\"string\"!=typeof s&&\"number\"!=typeof s||(o=o||[]).push(c,\"\"+s):\"suppressContentEditableWarning\"!==c&&\"suppressHydrationWarning\"!==c&&(u.hasOwnProperty(c)?(null!=s&&\"onScroll\"===c&&Ur(\"scroll\",e),o||l===s||(o=[])):(o=o||[]).push(c,s))}n&&(o=o||[]).push(\"style\",n);var c=o;(t.updateQueue=c)&&(t.flags|=4)}},Fu=function(e,t,n,r){n!==r&&(t.flags|=4)};var Ku=!1,Zu=!1,Xu=\"function\"==typeof WeakSet?WeakSet:Set,Ju=null;function el(e,t){var n=e.ref;if(null!==n)if(\"function\"==typeof n)try{n(null)}catch(n){Es(e,t,n)}else n.current=null}function tl(e,t,n){try{n()}catch(n){Es(e,t,n)}}var nl=!1;function rl(e,t,n){var r=t.updateQueue;if(null!==(r=null!==r?r.lastEffect:null)){var a=r=r.next;do{if((a.tag&e)===e){var i=a.destroy;a.destroy=void 0,void 0!==i&&tl(t,n,i)}a=a.next}while(a!==r)}}function al(e,t){if(null!==(t=null!==(t=t.updateQueue)?t.lastEffect:null)){var n=t=t.next;do{if((n.tag&e)===e){var r=n.create;n.destroy=r()}n=n.next}while(n!==t)}}function il(e){var t=e.ref;if(null!==t){var n=e.stateNode;e.tag,e=n,\"function\"==typeof t?t(e):t.current=e}}function ol(e){var t=e.alternate;null!==t&&(e.alternate=null,ol(t)),e.child=null,e.deletions=null,e.sibling=null,5===e.tag&&null!==(t=e.stateNode)&&(delete t[pa],delete t[da],delete t[va],delete t[ga],delete t[ya]),e.stateNode=null,e.return=null,e.dependencies=null,e.memoizedProps=null,e.memoizedState=null,e.pendingProps=null,e.stateNode=null,e.updateQueue=null}function ul(e){return 5===e.tag||3===e.tag||4===e.tag}function ll(e){e:for(;;){for(;null===e.sibling;){if(null===e.return||ul(e.return))return null;e=e.return}for(e.sibling.return=e.return,e=e.sibling;5!==e.tag&&6!==e.tag&&18!==e.tag;){if(2&e.flags)continue e;if(null===e.child||4===e.tag)continue e;e.child.return=e,e=e.child}if(!(2&e.flags))return e.stateNode}}function sl(e,t,n){var r=e.tag;if(5===r||6===r)e=e.stateNode,t?8===n.nodeType?n.parentNode.insertBefore(e,t):n.insertBefore(e,t):(8===n.nodeType?(t=n.parentNode).insertBefore(e,n):(t=n).appendChild(e),null!=(n=n._reactRootContainer)||null!==t.onclick||(t.onclick=Jr));else if(4!==r&&null!==(e=e.child))for(sl(e,t,n),e=e.sibling;null!==e;)sl(e,t,n),e=e.sibling}function cl(e,t,n){var r=e.tag;if(5===r||6===r)e=e.stateNode,t?n.insertBefore(e,t):n.appendChild(e);else if(4!==r&&null!==(e=e.child))for(cl(e,t,n),e=e.sibling;null!==e;)cl(e,t,n),e=e.sibling}var fl=null,pl=!1;function dl(e,t,n){for(n=n.child;null!==n;)hl(e,t,n),n=n.sibling}function hl(e,t,n){if(it&&\"function\"==typeof it.onCommitFiberUnmount)try{it.onCommitFiberUnmount(at,n)}catch(e){}switch(n.tag){case 5:Zu||el(n,t);case 6:var r=fl,a=pl;fl=null,dl(e,t,n),pl=a,null!==(fl=r)&&(pl?(e=fl,n=n.stateNode,8===e.nodeType?e.parentNode.removeChild(n):e.removeChild(n)):fl.removeChild(n.stateNode));break;case 18:null!==fl&&(pl?(e=fl,n=n.stateNode,8===e.nodeType?la(e.parentNode,n):1===e.nodeType&&la(e,n),Bt(e)):la(fl,n.stateNode));break;case 4:r=fl,a=pl,fl=n.stateNode.containerInfo,pl=!0,dl(e,t,n),fl=r,pl=a;break;case 0:case 11:case 14:case 15:if(!Zu&&null!==(r=n.updateQueue)&&null!==(r=r.lastEffect)){a=r=r.next;do{var i=a,o=i.destroy;i=i.tag,void 0!==o&&(0!=(2&i)||0!=(4&i))&&tl(n,t,o),a=a.next}while(a!==r)}dl(e,t,n);break;case 1:if(!Zu&&(el(n,t),\"function\"==typeof(r=n.stateNode).componentWillUnmount))try{r.props=n.memoizedProps,r.state=n.memoizedState,r.componentWillUnmount()}catch(e){Es(n,t,e)}dl(e,t,n);break;case 21:dl(e,t,n);break;case 22:1&n.mode?(Zu=(r=Zu)||null!==n.memoizedState,dl(e,t,n),Zu=r):dl(e,t,n);break;default:dl(e,t,n)}}function vl(e){var t=e.updateQueue;if(null!==t){e.updateQueue=null;var n=e.stateNode;null===n&&(n=e.stateNode=new Xu),t.forEach((function(t){var r=Ns.bind(null,e,t);n.has(t)||(n.add(t),t.then(r,r))}))}}function gl(e,t){var n=t.deletions;if(null!==n)for(var r=0;r<n.length;r++){var a=n[r];try{var o=e,u=t,l=u;e:for(;null!==l;){switch(l.tag){case 5:fl=l.stateNode,pl=!1;break e;case 3:case 4:fl=l.stateNode.containerInfo,pl=!0;break e}l=l.return}if(null===fl)throw Error(i(160));hl(o,u,a),fl=null,pl=!1;var s=a.alternate;null!==s&&(s.return=null),a.return=null}catch(e){Es(a,t,e)}}if(12854&t.subtreeFlags)for(t=t.child;null!==t;)yl(t,e),t=t.sibling}function yl(e,t){var n=e.alternate,r=e.flags;switch(e.tag){case 0:case 11:case 14:case 15:if(gl(t,e),ml(e),4&r){try{rl(3,e,e.return),al(3,e)}catch(t){Es(e,e.return,t)}try{rl(5,e,e.return)}catch(t){Es(e,e.return,t)}}break;case 1:gl(t,e),ml(e),512&r&&null!==n&&el(n,n.return);break;case 5:if(gl(t,e),ml(e),512&r&&null!==n&&el(n,n.return),32&e.flags){var a=e.stateNode;try{pe(a,\"\")}catch(t){Es(e,e.return,t)}}if(4&r&&null!=(a=e.stateNode)){var o=e.memoizedProps,u=null!==n?n.memoizedProps:o,l=e.type,s=e.updateQueue;if(e.updateQueue=null,null!==s)try{\"input\"===l&&\"radio\"===o.type&&null!=o.name&&Z(a,o),be(l,u);var c=be(l,o);for(u=0;u<s.length;u+=2){var f=s[u],p=s[u+1];\"style\"===f?ge(a,p):\"dangerouslySetInnerHTML\"===f?fe(a,p):\"children\"===f?pe(a,p):b(a,f,p,c)}switch(l){case\"input\":X(a,o);break;case\"textarea\":ie(a,o);break;case\"select\":var d=a._wrapperState.wasMultiple;a._wrapperState.wasMultiple=!!o.multiple;var h=o.value;null!=h?ne(a,!!o.multiple,h,!1):d!==!!o.multiple&&(null!=o.defaultValue?ne(a,!!o.multiple,o.defaultValue,!0):ne(a,!!o.multiple,o.multiple?[]:\"\",!1))}a[da]=o}catch(t){Es(e,e.return,t)}}break;case 6:if(gl(t,e),ml(e),4&r){if(null===e.stateNode)throw Error(i(162));a=e.stateNode,o=e.memoizedProps;try{a.nodeValue=o}catch(t){Es(e,e.return,t)}}break;case 3:if(gl(t,e),ml(e),4&r&&null!==n&&n.memoizedState.isDehydrated)try{Bt(t.containerInfo)}catch(t){Es(e,e.return,t)}break;case 4:default:gl(t,e),ml(e);break;case 13:gl(t,e),ml(e),8192&(a=e.child).flags&&(o=null!==a.memoizedState,a.stateNode.isHidden=o,!o||null!==a.alternate&&null!==a.alternate.memoizedState||(Bl=Ze())),4&r&&vl(e);break;case 22:if(f=null!==n&&null!==n.memoizedState,1&e.mode?(Zu=(c=Zu)||f,gl(t,e),Zu=c):gl(t,e),ml(e),8192&r){if(c=null!==e.memoizedState,(e.stateNode.isHidden=c)&&!f&&0!=(1&e.mode))for(Ju=e,f=e.child;null!==f;){for(p=Ju=f;null!==Ju;){switch(h=(d=Ju).child,d.tag){case 0:case 11:case 14:case 15:rl(4,d,d.return);break;case 1:el(d,d.return);var v=d.stateNode;if(\"function\"==typeof v.componentWillUnmount){r=d,n=d.return;try{t=r,v.props=t.memoizedProps,v.state=t.memoizedState,v.componentWillUnmount()}catch(e){Es(r,n,e)}}break;case 5:el(d,d.return);break;case 22:if(null!==d.memoizedState){xl(p);continue}}null!==h?(h.return=d,Ju=h):xl(p)}f=f.sibling}e:for(f=null,p=e;;){if(5===p.tag){if(null===f){f=p;try{a=p.stateNode,c?\"function\"==typeof(o=a.style).setProperty?o.setProperty(\"display\",\"none\",\"important\"):o.display=\"none\":(l=p.stateNode,u=null!=(s=p.memoizedProps.style)&&s.hasOwnProperty(\"display\")?s.display:null,l.style.display=ve(\"display\",u))}catch(t){Es(e,e.return,t)}}}else if(6===p.tag){if(null===f)try{p.stateNode.nodeValue=c?\"\":p.memoizedProps}catch(t){Es(e,e.return,t)}}else if((22!==p.tag&&23!==p.tag||null===p.memoizedState||p===e)&&null!==p.child){p.child.return=p,p=p.child;continue}if(p===e)break e;for(;null===p.sibling;){if(null===p.return||p.return===e)break e;f===p&&(f=null),p=p.return}f===p&&(f=null),p.sibling.return=p.return,p=p.sibling}}break;case 19:gl(t,e),ml(e),4&r&&vl(e);case 21:}}function ml(e){var t=e.flags;if(2&t){try{e:{for(var n=e.return;null!==n;){if(ul(n)){var r=n;break e}n=n.return}throw Error(i(160))}switch(r.tag){case 5:var a=r.stateNode;32&r.flags&&(pe(a,\"\"),r.flags&=-33),cl(e,ll(e),a);break;case 3:case 4:var o=r.stateNode.containerInfo;sl(e,ll(e),o);break;default:throw Error(i(161))}}catch(t){Es(e,e.return,t)}e.flags&=-3}4096&t&&(e.flags&=-4097)}function bl(e,t,n){Ju=e,_l(e,t,n)}function _l(e,t,n){for(var r=0!=(1&e.mode);null!==Ju;){var a=Ju,i=a.child;if(22===a.tag&&r){var o=null!==a.memoizedState||Ku;if(!o){var u=a.alternate,l=null!==u&&null!==u.memoizedState||Zu;u=Ku;var s=Zu;if(Ku=o,(Zu=l)&&!s)for(Ju=a;null!==Ju;)l=(o=Ju).child,22===o.tag&&null!==o.memoizedState?kl(a):null!==l?(l.return=o,Ju=l):kl(a);for(;null!==i;)Ju=i,_l(i,t,n),i=i.sibling;Ju=a,Ku=u,Zu=s}wl(e)}else 0!=(8772&a.subtreeFlags)&&null!==i?(i.return=a,Ju=i):wl(e)}}function wl(e){for(;null!==Ju;){var t=Ju;if(0!=(8772&t.flags)){var n=t.alternate;try{if(0!=(8772&t.flags))switch(t.tag){case 0:case 11:case 15:Zu||al(5,t);break;case 1:var r=t.stateNode;if(4&t.flags&&!Zu)if(null===n)r.componentDidMount();else{var a=t.elementType===t.type?n.memoizedProps:gi(t.type,n.memoizedProps);r.componentDidUpdate(a,n.memoizedState,r.__reactInternalSnapshotBeforeUpdate)}var o=t.updateQueue;null!==o&&ji(t,o,r);break;case 3:var u=t.updateQueue;if(null!==u){if(n=null,null!==t.child)switch(t.child.tag){case 5:case 1:n=t.child.stateNode}ji(t,u,n)}break;case 5:var l=t.stateNode;if(null===n&&4&t.flags){n=l;var s=t.memoizedProps;switch(t.type){case\"button\":case\"input\":case\"select\":case\"textarea\":s.autoFocus&&n.focus();break;case\"img\":s.src&&(n.src=s.src)}}break;case 6:case 4:case 12:case 19:case 17:case 21:case 22:case 23:case 25:break;case 13:if(null===t.memoizedState){var c=t.alternate;if(null!==c){var f=c.memoizedState;if(null!==f){var p=f.dehydrated;null!==p&&Bt(p)}}}break;default:throw Error(i(163))}Zu||512&t.flags&&il(t)}catch(e){Es(t,t.return,e)}}if(t===e){Ju=null;break}if(null!==(n=t.sibling)){n.return=t.return,Ju=n;break}Ju=t.return}}function xl(e){for(;null!==Ju;){var t=Ju;if(t===e){Ju=null;break}var n=t.sibling;if(null!==n){n.return=t.return,Ju=n;break}Ju=t.return}}function kl(e){for(;null!==Ju;){var t=Ju;try{switch(t.tag){case 0:case 11:case 15:var n=t.return;try{al(4,t)}catch(e){Es(t,n,e)}break;case 1:var r=t.stateNode;if(\"function\"==typeof r.componentDidMount){var a=t.return;try{r.componentDidMount()}catch(e){Es(t,a,e)}}var i=t.return;try{il(t)}catch(e){Es(t,i,e)}break;case 5:var o=t.return;try{il(t)}catch(e){Es(t,o,e)}}}catch(e){Es(t,t.return,e)}if(t===e){Ju=null;break}var u=t.sibling;if(null!==u){u.return=t.return,Ju=u;break}Ju=t.return}}var Sl,El=Math.ceil,Cl=_.ReactCurrentDispatcher,Tl=_.ReactCurrentOwner,Ml=_.ReactCurrentBatchConfig,Nl=0,Pl=null,zl=null,Ll=0,Ol=0,Al=Sa(0),Fl=0,Dl=null,Rl=0,jl=0,Ul=0,Il=null,$l=null,Bl=0,Wl=1/0,Vl=null,Hl=!1,ql=null,Ql=null,Yl=!1,Gl=null,Kl=0,Zl=0,Xl=null,Jl=-1,es=0;function ts(){return 0!=(6&Nl)?Ze():-1!==Jl?Jl:Jl=Ze()}function ns(e){return 0==(1&e.mode)?1:0!=(2&Nl)&&0!==Ll?Ll&-Ll:null!==vi.transition?(0===es&&(es=vt()),es):0!==(e=bt)?e:e=void 0===(e=window.event)?16:Kt(e.type)}function rs(e,t,n,r){if(50<Zl)throw Zl=0,Xl=null,Error(i(185));yt(e,n,r),0!=(2&Nl)&&e===Pl||(e===Pl&&(0==(2&Nl)&&(jl|=n),4===Fl&&ls(e,Ll)),as(e,r),1===n&&0===Nl&&0==(1&t.mode)&&(Wl=Ze()+500,Ua&&Ba()))}function as(e,t){var n=e.callbackNode;!function(e,t){for(var n=e.suspendedLanes,r=e.pingedLanes,a=e.expirationTimes,i=e.pendingLanes;0<i;){var o=31-ot(i),u=1<<o,l=a[o];-1===l?0!=(u&n)&&0==(u&r)||(a[o]=dt(u,t)):l<=t&&(e.expiredLanes|=u),i&=~u}}(e,t);var r=pt(e,e===Pl?Ll:0);if(0===r)null!==n&&Ye(n),e.callbackNode=null,e.callbackPriority=0;else if(t=r&-r,e.callbackPriority!==t){if(null!=n&&Ye(n),1===t)0===e.tag?function(e){Ua=!0,$a(e)}(ss.bind(null,e)):$a(ss.bind(null,e)),oa((function(){0==(6&Nl)&&Ba()})),n=null;else{switch(_t(r)){case 1:n=Je;break;case 4:n=et;break;case 16:default:n=tt;break;case 536870912:n=rt}n=Ps(n,is.bind(null,e))}e.callbackPriority=t,e.callbackNode=n}}function is(e,t){if(Jl=-1,es=0,0!=(6&Nl))throw Error(i(327));var n=e.callbackNode;if(ks()&&e.callbackNode!==n)return null;var r=pt(e,e===Pl?Ll:0);if(0===r)return null;if(0!=(30&r)||0!=(r&e.expiredLanes)||t)t=ys(e,r);else{t=r;var a=Nl;Nl|=2;var o=vs();for(Pl===e&&Ll===t||(Vl=null,Wl=Ze()+500,ds(e,t));;)try{bs();break}catch(t){hs(e,t)}wi(),Cl.current=o,Nl=a,null!==zl?t=0:(Pl=null,Ll=0,t=Fl)}if(0!==t){if(2===t&&0!==(a=ht(e))&&(r=a,t=os(e,a)),1===t)throw n=Dl,ds(e,0),ls(e,r),as(e,Ze()),n;if(6===t)ls(e,r);else{if(a=e.current.alternate,0==(30&r)&&!function(e){for(var t=e;;){if(16384&t.flags){var n=t.updateQueue;if(null!==n&&null!==(n=n.stores))for(var r=0;r<n.length;r++){var a=n[r],i=a.getSnapshot;a=a.value;try{if(!ur(i(),a))return!1}catch(e){return!1}}}if(n=t.child,16384&t.subtreeFlags&&null!==n)n.return=t,t=n;else{if(t===e)break;for(;null===t.sibling;){if(null===t.return||t.return===e)return!0;t=t.return}t.sibling.return=t.return,t=t.sibling}}return!0}(a)&&(2===(t=ys(e,r))&&0!==(o=ht(e))&&(r=o,t=os(e,o)),1===t))throw n=Dl,ds(e,0),ls(e,r),as(e,Ze()),n;switch(e.finishedWork=a,e.finishedLanes=r,t){case 0:case 1:throw Error(i(345));case 2:case 5:xs(e,$l,Vl);break;case 3:if(ls(e,r),(130023424&r)===r&&10<(t=Bl+500-Ze())){if(0!==pt(e,0))break;if(((a=e.suspendedLanes)&r)!==r){ts(),e.pingedLanes|=e.suspendedLanes&a;break}e.timeoutHandle=ra(xs.bind(null,e,$l,Vl),t);break}xs(e,$l,Vl);break;case 4:if(ls(e,r),(4194240&r)===r)break;for(t=e.eventTimes,a=-1;0<r;){var u=31-ot(r);o=1<<u,(u=t[u])>a&&(a=u),r&=~o}if(r=a,10<(r=(120>(r=Ze()-r)?120:480>r?480:1080>r?1080:1920>r?1920:3e3>r?3e3:4320>r?4320:1960*El(r/1960))-r)){e.timeoutHandle=ra(xs.bind(null,e,$l,Vl),r);break}xs(e,$l,Vl);break;default:throw Error(i(329))}}}return as(e,Ze()),e.callbackNode===n?is.bind(null,e):null}function os(e,t){var n=Il;return e.current.memoizedState.isDehydrated&&(ds(e,t).flags|=256),2!==(e=ys(e,t))&&(t=$l,$l=n,null!==t&&us(t)),e}function us(e){null===$l?$l=e:$l.push.apply($l,e)}function ls(e,t){for(t&=~Ul,t&=~jl,e.suspendedLanes|=t,e.pingedLanes&=~t,e=e.expirationTimes;0<t;){var n=31-ot(t),r=1<<n;e[n]=-1,t&=~r}}function ss(e){if(0!=(6&Nl))throw Error(i(327));ks();var t=pt(e,0);if(0==(1&t))return as(e,Ze()),null;var n=ys(e,t);if(0!==e.tag&&2===n){var r=ht(e);0!==r&&(t=r,n=os(e,r))}if(1===n)throw n=Dl,ds(e,0),ls(e,t),as(e,Ze()),n;if(6===n)throw Error(i(345));return e.finishedWork=e.current.alternate,e.finishedLanes=t,xs(e,$l,Vl),as(e,Ze()),null}function cs(e,t){var n=Nl;Nl|=1;try{return e(t)}finally{0===(Nl=n)&&(Wl=Ze()+500,Ua&&Ba())}}function fs(e){null!==Gl&&0===Gl.tag&&0==(6&Nl)&&ks();var t=Nl;Nl|=1;var n=Ml.transition,r=bt;try{if(Ml.transition=null,bt=1,e)return e()}finally{bt=r,Ml.transition=n,0==(6&(Nl=t))&&Ba()}}function ps(){Ol=Al.current,Ea(Al)}function ds(e,t){e.finishedWork=null,e.finishedLanes=0;var n=e.timeoutHandle;if(-1!==n&&(e.timeoutHandle=-1,aa(n)),null!==zl)for(n=zl.return;null!==n;){var r=n;switch(ti(r),r.tag){case 1:null!=(r=r.type.childContextTypes)&&Oa();break;case 3:ao(),Ea(Na),Ea(Ma),co();break;case 5:oo(r);break;case 4:ao();break;case 13:case 19:Ea(uo);break;case 10:xi(r.type._context);break;case 22:case 23:ps()}n=n.return}if(Pl=e,zl=e=As(e.current,null),Ll=Ol=t,Fl=0,Dl=null,Ul=jl=Rl=0,$l=Il=null,null!==Ci){for(t=0;t<Ci.length;t++)if(null!==(r=(n=Ci[t]).interleaved)){n.interleaved=null;var a=r.next,i=n.pending;if(null!==i){var o=i.next;i.next=a,r.next=o}n.pending=r}Ci=null}return e}function hs(e,t){for(;;){var n=zl;try{if(wi(),fo.current=ou,mo){for(var r=vo.memoizedState;null!==r;){var a=r.queue;null!==a&&(a.pending=null),r=r.next}mo=!1}if(ho=0,yo=go=vo=null,bo=!1,_o=0,Tl.current=null,null===n||null===n.return){Fl=1,Dl=t,zl=null;break}e:{var o=e,u=n.return,l=n,s=t;if(t=Ll,l.flags|=32768,null!==s&&\"object\"==typeof s&&\"function\"==typeof s.then){var c=s,f=l,p=f.tag;if(0==(1&f.mode)&&(0===p||11===p||15===p)){var d=f.alternate;d?(f.updateQueue=d.updateQueue,f.memoizedState=d.memoizedState,f.lanes=d.lanes):(f.updateQueue=null,f.memoizedState=null)}var h=yu(u);if(null!==h){h.flags&=-257,mu(h,u,l,0,t),1&h.mode&&gu(o,c,t),s=c;var v=(t=h).updateQueue;if(null===v){var g=new Set;g.add(s),t.updateQueue=g}else v.add(s);break e}if(0==(1&t)){gu(o,c,t),gs();break e}s=Error(i(426))}else if(ai&&1&l.mode){var y=yu(u);if(null!==y){0==(65536&y.flags)&&(y.flags|=256),mu(y,u,l,0,t),hi(cu(s,l));break e}}o=s=cu(s,l),4!==Fl&&(Fl=2),null===Il?Il=[o]:Il.push(o),o=u;do{switch(o.tag){case 3:o.flags|=65536,t&=-t,o.lanes|=t,Di(o,hu(0,s,t));break e;case 1:l=s;var m=o.type,b=o.stateNode;if(0==(128&o.flags)&&(\"function\"==typeof m.getDerivedStateFromError||null!==b&&\"function\"==typeof b.componentDidCatch&&(null===Ql||!Ql.has(b)))){o.flags|=65536,t&=-t,o.lanes|=t,Di(o,vu(o,l,t));break e}}o=o.return}while(null!==o)}ws(n)}catch(e){t=e,zl===n&&null!==n&&(zl=n=n.return);continue}break}}function vs(){var e=Cl.current;return Cl.current=ou,null===e?ou:e}function gs(){0!==Fl&&3!==Fl&&2!==Fl||(Fl=4),null===Pl||0==(268435455&Rl)&&0==(268435455&jl)||ls(Pl,Ll)}function ys(e,t){var n=Nl;Nl|=2;var r=vs();for(Pl===e&&Ll===t||(Vl=null,ds(e,t));;)try{ms();break}catch(t){hs(e,t)}if(wi(),Nl=n,Cl.current=r,null!==zl)throw Error(i(261));return Pl=null,Ll=0,Fl}function ms(){for(;null!==zl;)_s(zl)}function bs(){for(;null!==zl&&!Ge();)_s(zl)}function _s(e){var t=Sl(e.alternate,e,Ol);e.memoizedProps=e.pendingProps,null===t?ws(e):zl=t,Tl.current=null}function ws(e){var t=e;do{var n=t.alternate;if(e=t.return,0==(32768&t.flags)){if(null!==(n=Yu(n,t,Ol)))return void(zl=n)}else{if(null!==(n=Gu(n,t)))return n.flags&=32767,void(zl=n);if(null===e)return Fl=6,void(zl=null);e.flags|=32768,e.subtreeFlags=0,e.deletions=null}if(null!==(t=t.sibling))return void(zl=t);zl=t=e}while(null!==t);0===Fl&&(Fl=5)}function xs(e,t,n){var r=bt,a=Ml.transition;try{Ml.transition=null,bt=1,function(e,t,n,r){do{ks()}while(null!==Gl);if(0!=(6&Nl))throw Error(i(327));n=e.finishedWork;var a=e.finishedLanes;if(null===n)return null;if(e.finishedWork=null,e.finishedLanes=0,n===e.current)throw Error(i(177));e.callbackNode=null,e.callbackPriority=0;var o=n.lanes|n.childLanes;if(function(e,t){var n=e.pendingLanes&~t;e.pendingLanes=t,e.suspendedLanes=0,e.pingedLanes=0,e.expiredLanes&=t,e.mutableReadLanes&=t,e.entangledLanes&=t,t=e.entanglements;var r=e.eventTimes;for(e=e.expirationTimes;0<n;){var a=31-ot(n),i=1<<a;t[a]=0,r[a]=-1,e[a]=-1,n&=~i}}(e,o),e===Pl&&(zl=Pl=null,Ll=0),0==(2064&n.subtreeFlags)&&0==(2064&n.flags)||Yl||(Yl=!0,Ps(tt,(function(){return ks(),null}))),o=0!=(15990&n.flags),0!=(15990&n.subtreeFlags)||o){o=Ml.transition,Ml.transition=null;var u=bt;bt=1;var l=Nl;Nl|=4,Tl.current=null,function(e,t){if(ea=Vt,dr(e=pr())){if(\"selectionStart\"in e)var n={start:e.selectionStart,end:e.selectionEnd};else e:{var r=(n=(n=e.ownerDocument)&&n.defaultView||window).getSelection&&n.getSelection();if(r&&0!==r.rangeCount){n=r.anchorNode;var a=r.anchorOffset,o=r.focusNode;r=r.focusOffset;try{n.nodeType,o.nodeType}catch(e){n=null;break e}var u=0,l=-1,s=-1,c=0,f=0,p=e,d=null;t:for(;;){for(var h;p!==n||0!==a&&3!==p.nodeType||(l=u+a),p!==o||0!==r&&3!==p.nodeType||(s=u+r),3===p.nodeType&&(u+=p.nodeValue.length),null!==(h=p.firstChild);)d=p,p=h;for(;;){if(p===e)break t;if(d===n&&++c===a&&(l=u),d===o&&++f===r&&(s=u),null!==(h=p.nextSibling))break;d=(p=d).parentNode}p=h}n=-1===l||-1===s?null:{start:l,end:s}}else n=null}n=n||{start:0,end:0}}else n=null;for(ta={focusedElem:e,selectionRange:n},Vt=!1,Ju=t;null!==Ju;)if(e=(t=Ju).child,0!=(1028&t.subtreeFlags)&&null!==e)e.return=t,Ju=e;else for(;null!==Ju;){t=Ju;try{var v=t.alternate;if(0!=(1024&t.flags))switch(t.tag){case 0:case 11:case 15:case 5:case 6:case 4:case 17:break;case 1:if(null!==v){var g=v.memoizedProps,y=v.memoizedState,m=t.stateNode,b=m.getSnapshotBeforeUpdate(t.elementType===t.type?g:gi(t.type,g),y);m.__reactInternalSnapshotBeforeUpdate=b}break;case 3:var _=t.stateNode.containerInfo;1===_.nodeType?_.textContent=\"\":9===_.nodeType&&_.documentElement&&_.removeChild(_.documentElement);break;default:throw Error(i(163))}}catch(e){Es(t,t.return,e)}if(null!==(e=t.sibling)){e.return=t.return,Ju=e;break}Ju=t.return}v=nl,nl=!1}(e,n),yl(n,e),hr(ta),Vt=!!ea,ta=ea=null,e.current=n,bl(n,e,a),Ke(),Nl=l,bt=u,Ml.transition=o}else e.current=n;if(Yl&&(Yl=!1,Gl=e,Kl=a),0===(o=e.pendingLanes)&&(Ql=null),function(e){if(it&&\"function\"==typeof it.onCommitFiberRoot)try{it.onCommitFiberRoot(at,e,void 0,128==(128&e.current.flags))}catch(e){}}(n.stateNode),as(e,Ze()),null!==t)for(r=e.onRecoverableError,n=0;n<t.length;n++)r((a=t[n]).value,{componentStack:a.stack,digest:a.digest});if(Hl)throw Hl=!1,e=ql,ql=null,e;0!=(1&Kl)&&0!==e.tag&&ks(),0!=(1&(o=e.pendingLanes))?e===Xl?Zl++:(Zl=0,Xl=e):Zl=0,Ba()}(e,t,n,r)}finally{Ml.transition=a,bt=r}return null}function ks(){if(null!==Gl){var e=_t(Kl),t=Ml.transition,n=bt;try{if(Ml.transition=null,bt=16>e?16:e,null===Gl)var r=!1;else{if(e=Gl,Gl=null,Kl=0,0!=(6&Nl))throw Error(i(331));var a=Nl;for(Nl|=4,Ju=e.current;null!==Ju;){var o=Ju,u=o.child;if(0!=(16&Ju.flags)){var l=o.deletions;if(null!==l){for(var s=0;s<l.length;s++){var c=l[s];for(Ju=c;null!==Ju;){var f=Ju;switch(f.tag){case 0:case 11:case 15:rl(8,f,o)}var p=f.child;if(null!==p)p.return=f,Ju=p;else for(;null!==Ju;){var d=(f=Ju).sibling,h=f.return;if(ol(f),f===c){Ju=null;break}if(null!==d){d.return=h,Ju=d;break}Ju=h}}}var v=o.alternate;if(null!==v){var g=v.child;if(null!==g){v.child=null;do{var y=g.sibling;g.sibling=null,g=y}while(null!==g)}}Ju=o}}if(0!=(2064&o.subtreeFlags)&&null!==u)u.return=o,Ju=u;else e:for(;null!==Ju;){if(0!=(2048&(o=Ju).flags))switch(o.tag){case 0:case 11:case 15:rl(9,o,o.return)}var m=o.sibling;if(null!==m){m.return=o.return,Ju=m;break e}Ju=o.return}}var b=e.current;for(Ju=b;null!==Ju;){var _=(u=Ju).child;if(0!=(2064&u.subtreeFlags)&&null!==_)_.return=u,Ju=_;else e:for(u=b;null!==Ju;){if(0!=(2048&(l=Ju).flags))try{switch(l.tag){case 0:case 11:case 15:al(9,l)}}catch(e){Es(l,l.return,e)}if(l===u){Ju=null;break e}var w=l.sibling;if(null!==w){w.return=l.return,Ju=w;break e}Ju=l.return}}if(Nl=a,Ba(),it&&\"function\"==typeof it.onPostCommitFiberRoot)try{it.onPostCommitFiberRoot(at,e)}catch(e){}r=!0}return r}finally{bt=n,Ml.transition=t}}return!1}function Ss(e,t,n){e=Ai(e,t=hu(0,t=cu(n,t),1),1),t=ts(),null!==e&&(yt(e,1,t),as(e,t))}function Es(e,t,n){if(3===e.tag)Ss(e,e,n);else for(;null!==t;){if(3===t.tag){Ss(t,e,n);break}if(1===t.tag){var r=t.stateNode;if(\"function\"==typeof t.type.getDerivedStateFromError||\"function\"==typeof r.componentDidCatch&&(null===Ql||!Ql.has(r))){t=Ai(t,e=vu(t,e=cu(n,e),1),1),e=ts(),null!==t&&(yt(t,1,e),as(t,e));break}}t=t.return}}function Cs(e,t,n){var r=e.pingCache;null!==r&&r.delete(t),t=ts(),e.pingedLanes|=e.suspendedLanes&n,Pl===e&&(Ll&n)===n&&(4===Fl||3===Fl&&(130023424&Ll)===Ll&&500>Ze()-Bl?ds(e,0):Ul|=n),as(e,t)}function Ts(e,t){0===t&&(0==(1&e.mode)?t=1:(t=ct,0==(130023424&(ct<<=1))&&(ct=4194304)));var n=ts();null!==(e=Ni(e,t))&&(yt(e,t,n),as(e,n))}function Ms(e){var t=e.memoizedState,n=0;null!==t&&(n=t.retryLane),Ts(e,n)}function Ns(e,t){var n=0;switch(e.tag){case 13:var r=e.stateNode,a=e.memoizedState;null!==a&&(n=a.retryLane);break;case 19:r=e.stateNode;break;default:throw Error(i(314))}null!==r&&r.delete(t),Ts(e,n)}function Ps(e,t){return Qe(e,t)}function zs(e,t,n,r){this.tag=e,this.key=n,this.sibling=this.child=this.return=this.stateNode=this.type=this.elementType=null,this.index=0,this.ref=null,this.pendingProps=t,this.dependencies=this.memoizedState=this.updateQueue=this.memoizedProps=null,this.mode=r,this.subtreeFlags=this.flags=0,this.deletions=null,this.childLanes=this.lanes=0,this.alternate=null}function Ls(e,t,n,r){return new zs(e,t,n,r)}function Os(e){return!(!(e=e.prototype)||!e.isReactComponent)}function As(e,t){var n=e.alternate;return null===n?((n=Ls(e.tag,t,e.key,e.mode)).elementType=e.elementType,n.type=e.type,n.stateNode=e.stateNode,n.alternate=e,e.alternate=n):(n.pendingProps=t,n.type=e.type,n.flags=0,n.subtreeFlags=0,n.deletions=null),n.flags=14680064&e.flags,n.childLanes=e.childLanes,n.lanes=e.lanes,n.child=e.child,n.memoizedProps=e.memoizedProps,n.memoizedState=e.memoizedState,n.updateQueue=e.updateQueue,t=e.dependencies,n.dependencies=null===t?null:{lanes:t.lanes,firstContext:t.firstContext},n.sibling=e.sibling,n.index=e.index,n.ref=e.ref,n}function Fs(e,t,n,r,a,o){var u=2;if(r=e,\"function\"==typeof e)Os(e)&&(u=1);else if(\"string\"==typeof e)u=5;else e:switch(e){case k:return Ds(n.children,a,o,t);case S:u=8,a|=8;break;case E:return(e=Ls(12,n,t,2|a)).elementType=E,e.lanes=o,e;case N:return(e=Ls(13,n,t,a)).elementType=N,e.lanes=o,e;case P:return(e=Ls(19,n,t,a)).elementType=P,e.lanes=o,e;case O:return Rs(n,a,o,t);default:if(\"object\"==typeof e&&null!==e)switch(e.$$typeof){case C:u=10;break e;case T:u=9;break e;case M:u=11;break e;case z:u=14;break e;case L:u=16,r=null;break e}throw Error(i(130,null==e?e:typeof e,\"\"))}return(t=Ls(u,n,t,a)).elementType=e,t.type=r,t.lanes=o,t}function Ds(e,t,n,r){return(e=Ls(7,e,r,t)).lanes=n,e}function Rs(e,t,n,r){return(e=Ls(22,e,r,t)).elementType=O,e.lanes=n,e.stateNode={isHidden:!1},e}function js(e,t,n){return(e=Ls(6,e,null,t)).lanes=n,e}function Us(e,t,n){return(t=Ls(4,null!==e.children?e.children:[],e.key,t)).lanes=n,t.stateNode={containerInfo:e.containerInfo,pendingChildren:null,implementation:e.implementation},t}function Is(e,t,n,r,a){this.tag=t,this.containerInfo=e,this.finishedWork=this.pingCache=this.current=this.pendingChildren=null,this.timeoutHandle=-1,this.callbackNode=this.pendingContext=this.context=null,this.callbackPriority=0,this.eventTimes=gt(0),this.expirationTimes=gt(-1),this.entangledLanes=this.finishedLanes=this.mutableReadLanes=this.expiredLanes=this.pingedLanes=this.suspendedLanes=this.pendingLanes=0,this.entanglements=gt(0),this.identifierPrefix=r,this.onRecoverableError=a,this.mutableSourceEagerHydrationData=null}function $s(e,t,n,r,a,i,o,u,l){return e=new Is(e,t,n,u,l),1===t?(t=1,!0===i&&(t|=8)):t=0,i=Ls(3,null,null,t),e.current=i,i.stateNode=e,i.memoizedState={element:r,isDehydrated:n,cache:null,transitions:null,pendingSuspenseBoundaries:null},zi(i),e}function Bs(e){if(!e)return Ta;e:{if(Be(e=e._reactInternals)!==e||1!==e.tag)throw Error(i(170));var t=e;do{switch(t.tag){case 3:t=t.stateNode.context;break e;case 1:if(La(t.type)){t=t.stateNode.__reactInternalMemoizedMergedChildContext;break e}}t=t.return}while(null!==t);throw Error(i(171))}if(1===e.tag){var n=e.type;if(La(n))return Fa(e,n,t)}return t}function Ws(e,t,n,r,a,i,o,u,l){return(e=$s(n,r,!0,e,0,i,0,u,l)).context=Bs(null),n=e.current,(i=Oi(r=ts(),a=ns(n))).callback=null!=t?t:null,Ai(n,i,a),e.current.lanes=a,yt(e,a,r),as(e,r),e}function Vs(e,t,n,r){var a=t.current,i=ts(),o=ns(a);return n=Bs(n),null===t.context?t.context=n:t.pendingContext=n,(t=Oi(i,o)).payload={element:e},null!==(r=void 0===r?null:r)&&(t.callback=r),null!==(e=Ai(a,t,o))&&(rs(e,a,o,i),Fi(e,a,o)),o}function Hs(e){return(e=e.current).child?(e.child.tag,e.child.stateNode):null}function qs(e,t){if(null!==(e=e.memoizedState)&&null!==e.dehydrated){var n=e.retryLane;e.retryLane=0!==n&&n<t?n:t}}function Qs(e,t){qs(e,t),(e=e.alternate)&&qs(e,t)}Sl=function(e,t,n){if(null!==e)if(e.memoizedProps!==t.pendingProps||Na.current)_u=!0;else{if(0==(e.lanes&n)&&0==(128&t.flags))return _u=!1,function(e,t,n){switch(t.tag){case 3:Pu(t),di();break;case 5:io(t);break;case 1:La(t.type)&&Da(t);break;case 4:ro(t,t.stateNode.containerInfo);break;case 10:var r=t.type._context,a=t.memoizedProps.value;Ca(yi,r._currentValue),r._currentValue=a;break;case 13:if(null!==(r=t.memoizedState))return null!==r.dehydrated?(Ca(uo,1&uo.current),t.flags|=128,null):0!=(n&t.child.childLanes)?ju(e,t,n):(Ca(uo,1&uo.current),null!==(e=Hu(e,t,n))?e.sibling:null);Ca(uo,1&uo.current);break;case 19:if(r=0!=(n&t.childLanes),0!=(128&e.flags)){if(r)return Wu(e,t,n);t.flags|=128}if(null!==(a=t.memoizedState)&&(a.rendering=null,a.tail=null,a.lastEffect=null),Ca(uo,uo.current),r)break;return null;case 22:case 23:return t.lanes=0,Eu(e,t,n)}return Hu(e,t,n)}(e,t,n);_u=0!=(131072&e.flags)}else _u=!1,ai&&0!=(1048576&t.flags)&&Ja(t,qa,t.index);switch(t.lanes=0,t.tag){case 2:var r=t.type;Vu(e,t),e=t.pendingProps;var a=za(t,Ma.current);Si(t,n),a=So(null,t,r,e,a,n);var o=Eo();return t.flags|=1,\"object\"==typeof a&&null!==a&&\"function\"==typeof a.render&&void 0===a.$$typeof?(t.tag=1,t.memoizedState=null,t.updateQueue=null,La(r)?(o=!0,Da(t)):o=!1,t.memoizedState=null!==a.state&&void 0!==a.state?a.state:null,zi(t),a.updater=$i,t.stateNode=a,a._reactInternals=t,Hi(t,r,e,n),t=Nu(null,t,r,!0,o,n)):(t.tag=0,ai&&o&&ei(t),wu(null,t,a,n),t=t.child),t;case 16:r=t.elementType;e:{switch(Vu(e,t),e=t.pendingProps,r=(a=r._init)(r._payload),t.type=r,a=t.tag=function(e){if(\"function\"==typeof e)return Os(e)?1:0;if(null!=e){if((e=e.$$typeof)===M)return 11;if(e===z)return 14}return 2}(r),e=gi(r,e),a){case 0:t=Tu(null,t,r,e,n);break e;case 1:t=Mu(null,t,r,e,n);break e;case 11:t=xu(null,t,r,e,n);break e;case 14:t=ku(null,t,r,gi(r.type,e),n);break e}throw Error(i(306,r,\"\"))}return t;case 0:return r=t.type,a=t.pendingProps,Tu(e,t,r,a=t.elementType===r?a:gi(r,a),n);case 1:return r=t.type,a=t.pendingProps,Mu(e,t,r,a=t.elementType===r?a:gi(r,a),n);case 3:e:{if(Pu(t),null===e)throw Error(i(387));r=t.pendingProps,a=(o=t.memoizedState).element,Li(e,t),Ri(t,r,null,n);var u=t.memoizedState;if(r=u.element,o.isDehydrated){if(o={element:r,isDehydrated:!1,cache:u.cache,pendingSuspenseBoundaries:u.pendingSuspenseBoundaries,transitions:u.transitions},t.updateQueue.baseState=o,t.memoizedState=o,256&t.flags){t=zu(e,t,r,n,a=cu(Error(i(423)),t));break e}if(r!==a){t=zu(e,t,r,n,a=cu(Error(i(424)),t));break e}for(ri=sa(t.stateNode.containerInfo.firstChild),ni=t,ai=!0,ii=null,n=Zi(t,null,r,n),t.child=n;n;)n.flags=-3&n.flags|4096,n=n.sibling}else{if(di(),r===a){t=Hu(e,t,n);break e}wu(e,t,r,n)}t=t.child}return t;case 5:return io(t),null===e&&si(t),r=t.type,a=t.pendingProps,o=null!==e?e.memoizedProps:null,u=a.children,na(r,a)?u=null:null!==o&&na(r,o)&&(t.flags|=32),Cu(e,t),wu(e,t,u,n),t.child;case 6:return null===e&&si(t),null;case 13:return ju(e,t,n);case 4:return ro(t,t.stateNode.containerInfo),r=t.pendingProps,null===e?t.child=Ki(t,null,r,n):wu(e,t,r,n),t.child;case 11:return r=t.type,a=t.pendingProps,xu(e,t,r,a=t.elementType===r?a:gi(r,a),n);case 7:return wu(e,t,t.pendingProps,n),t.child;case 8:case 12:return wu(e,t,t.pendingProps.children,n),t.child;case 10:e:{if(r=t.type._context,a=t.pendingProps,o=t.memoizedProps,u=a.value,Ca(yi,r._currentValue),r._currentValue=u,null!==o)if(ur(o.value,u)){if(o.children===a.children&&!Na.current){t=Hu(e,t,n);break e}}else for(null!==(o=t.child)&&(o.return=t);null!==o;){var l=o.dependencies;if(null!==l){u=o.child;for(var s=l.firstContext;null!==s;){if(s.context===r){if(1===o.tag){(s=Oi(-1,n&-n)).tag=2;var c=o.updateQueue;if(null!==c){var f=(c=c.shared).pending;null===f?s.next=s:(s.next=f.next,f.next=s),c.pending=s}}o.lanes|=n,null!==(s=o.alternate)&&(s.lanes|=n),ki(o.return,n,t),l.lanes|=n;break}s=s.next}}else if(10===o.tag)u=o.type===t.type?null:o.child;else if(18===o.tag){if(null===(u=o.return))throw Error(i(341));u.lanes|=n,null!==(l=u.alternate)&&(l.lanes|=n),ki(u,n,t),u=o.sibling}else u=o.child;if(null!==u)u.return=o;else for(u=o;null!==u;){if(u===t){u=null;break}if(null!==(o=u.sibling)){o.return=u.return,u=o;break}u=u.return}o=u}wu(e,t,a.children,n),t=t.child}return t;case 9:return a=t.type,r=t.pendingProps.children,Si(t,n),r=r(a=Ei(a)),t.flags|=1,wu(e,t,r,n),t.child;case 14:return a=gi(r=t.type,t.pendingProps),ku(e,t,r,a=gi(r.type,a),n);case 15:return Su(e,t,t.type,t.pendingProps,n);case 17:return r=t.type,a=t.pendingProps,a=t.elementType===r?a:gi(r,a),Vu(e,t),t.tag=1,La(r)?(e=!0,Da(t)):e=!1,Si(t,n),Wi(t,r,a),Hi(t,r,a,n),Nu(null,t,r,!0,e,n);case 19:return Wu(e,t,n);case 22:return Eu(e,t,n)}throw Error(i(156,t.tag))};var Ys=\"function\"==typeof reportError?reportError:function(e){console.error(e)};function Gs(e){this._internalRoot=e}function Ks(e){this._internalRoot=e}function Zs(e){return!(!e||1!==e.nodeType&&9!==e.nodeType&&11!==e.nodeType)}function Xs(e){return!(!e||1!==e.nodeType&&9!==e.nodeType&&11!==e.nodeType&&(8!==e.nodeType||\" react-mount-point-unstable \"!==e.nodeValue))}function Js(){}function ec(e,t,n,r,a){var i=n._reactRootContainer;if(i){var o=i;if(\"function\"==typeof a){var u=a;a=function(){var e=Hs(o);u.call(e)}}Vs(t,o,e,a)}else o=function(e,t,n,r,a){if(a){if(\"function\"==typeof r){var i=r;r=function(){var e=Hs(o);i.call(e)}}var o=Ws(t,r,e,0,null,!1,0,\"\",Js);return e._reactRootContainer=o,e[ha]=o.current,Br(8===e.nodeType?e.parentNode:e),fs(),o}for(;a=e.lastChild;)e.removeChild(a);if(\"function\"==typeof r){var u=r;r=function(){var e=Hs(l);u.call(e)}}var l=$s(e,0,!1,null,0,!1,0,\"\",Js);return e._reactRootContainer=l,e[ha]=l.current,Br(8===e.nodeType?e.parentNode:e),fs((function(){Vs(t,l,n,r)})),l}(n,t,e,a,r);return Hs(o)}Ks.prototype.render=Gs.prototype.render=function(e){var t=this._internalRoot;if(null===t)throw Error(i(409));Vs(e,t,null,null)},Ks.prototype.unmount=Gs.prototype.unmount=function(){var e=this._internalRoot;if(null!==e){this._internalRoot=null;var t=e.containerInfo;fs((function(){Vs(null,e,null,null)})),t[ha]=null}},Ks.prototype.unstable_scheduleHydration=function(e){if(e){var t=St();e={blockedOn:null,target:e,priority:t};for(var n=0;n<Ot.length&&0!==t&&t<Ot[n].priority;n++);Ot.splice(n,0,e),0===n&&Rt(e)}},wt=function(e){switch(e.tag){case 3:var t=e.stateNode;if(t.current.memoizedState.isDehydrated){var n=ft(t.pendingLanes);0!==n&&(mt(t,1|n),as(t,Ze()),0==(6&Nl)&&(Wl=Ze()+500,Ba()))}break;case 13:fs((function(){var t=Ni(e,1);if(null!==t){var n=ts();rs(t,e,1,n)}})),Qs(e,1)}},xt=function(e){if(13===e.tag){var t=Ni(e,134217728);null!==t&&rs(t,e,134217728,ts()),Qs(e,134217728)}},kt=function(e){if(13===e.tag){var t=ns(e),n=Ni(e,t);null!==n&&rs(n,e,t,ts()),Qs(e,t)}},St=function(){return bt},Et=function(e,t){var n=bt;try{return bt=e,t()}finally{bt=n}},xe=function(e,t,n){switch(t){case\"input\":if(X(e,n),t=n.name,\"radio\"===n.type&&null!=t){for(n=e;n.parentNode;)n=n.parentNode;for(n=n.querySelectorAll(\"input[name=\"+JSON.stringify(\"\"+t)+'][type=\"radio\"]'),t=0;t<n.length;t++){var r=n[t];if(r!==e&&r.form===e.form){var a=wa(r);if(!a)throw Error(i(90));Q(r),X(r,a)}}}break;case\"textarea\":ie(e,n);break;case\"select\":null!=(t=n.value)&&ne(e,!!n.multiple,t,!1)}},Me=cs,Ne=fs;var tc={usingClientEntryPoint:!1,Events:[ba,_a,wa,Ce,Te,cs]},nc={findFiberByHostInstance:ma,bundleType:0,version:\"18.2.0\",rendererPackageName:\"react-dom\"},rc={bundleType:nc.bundleType,version:nc.version,rendererPackageName:nc.rendererPackageName,rendererConfig:nc.rendererConfig,overrideHookState:null,overrideHookStateDeletePath:null,overrideHookStateRenamePath:null,overrideProps:null,overridePropsDeletePath:null,overridePropsRenamePath:null,setErrorHandler:null,setSuspenseHandler:null,scheduleUpdate:null,currentDispatcherRef:_.ReactCurrentDispatcher,findHostInstanceByFiber:function(e){return null===(e=He(e))?null:e.stateNode},findFiberByHostInstance:nc.findFiberByHostInstance||function(){return null},findHostInstancesForRefresh:null,scheduleRefresh:null,scheduleRoot:null,setRefreshHandler:null,getCurrentFiber:null,reconcilerVersion:\"18.2.0-next-9e3b772b8-20220608\"};if(\"undefined\"!=typeof __REACT_DEVTOOLS_GLOBAL_HOOK__){var ac=__REACT_DEVTOOLS_GLOBAL_HOOK__;if(!ac.isDisabled&&ac.supportsFiber)try{at=ac.inject(rc),it=ac}catch(ce){}}t.__SECRET_INTERNALS_DO_NOT_USE_OR_YOU_WILL_BE_FIRED=tc,t.createPortal=function(e,t){var n=2<arguments.length&&void 0!==arguments[2]?arguments[2]:null;if(!Zs(t))throw Error(i(200));return function(e,t,n){var r=3<arguments.length&&void 0!==arguments[3]?arguments[3]:null;return{$$typeof:x,key:null==r?null:\"\"+r,children:e,containerInfo:t,implementation:n}}(e,t,null,n)},t.createRoot=function(e,t){if(!Zs(e))throw Error(i(299));var n=!1,r=\"\",a=Ys;return null!=t&&(!0===t.unstable_strictMode&&(n=!0),void 0!==t.identifierPrefix&&(r=t.identifierPrefix),void 0!==t.onRecoverableError&&(a=t.onRecoverableError)),t=$s(e,1,!1,null,0,n,0,r,a),e[ha]=t.current,Br(8===e.nodeType?e.parentNode:e),new Gs(t)},t.findDOMNode=function(e){if(null==e)return null;if(1===e.nodeType)return e;var t=e._reactInternals;if(void 0===t){if(\"function\"==typeof e.render)throw Error(i(188));throw e=Object.keys(e).join(\",\"),Error(i(268,e))}return null===(e=He(t))?null:e.stateNode},t.flushSync=function(e){return fs(e)},t.hydrate=function(e,t,n){if(!Xs(t))throw Error(i(200));return ec(null,e,t,!0,n)},t.hydrateRoot=function(e,t,n){if(!Zs(e))throw Error(i(405));var r=null!=n&&n.hydratedSources||null,a=!1,o=\"\",u=Ys;if(null!=n&&(!0===n.unstable_strictMode&&(a=!0),void 0!==n.identifierPrefix&&(o=n.identifierPrefix),void 0!==n.onRecoverableError&&(u=n.onRecoverableError)),t=Ws(t,null,e,1,null!=n?n:null,a,0,o,u),e[ha]=t.current,Br(e),r)for(e=0;e<r.length;e++)a=(a=(n=r[e])._getVersion)(n._source),null==t.mutableSourceEagerHydrationData?t.mutableSourceEagerHydrationData=[n,a]:t.mutableSourceEagerHydrationData.push(n,a);return new Ks(t)},t.render=function(e,t,n){if(!Xs(t))throw Error(i(200));return ec(null,e,t,!1,n)},t.unmountComponentAtNode=function(e){if(!Xs(e))throw Error(i(40));return!!e._reactRootContainer&&(fs((function(){ec(null,null,e,!1,(function(){e._reactRootContainer=null,e[ha]=null}))})),!0)},t.unstable_batchedUpdates=cs,t.unstable_renderSubtreeIntoContainer=function(e,t,n,r){if(!Xs(n))throw Error(i(200));if(null==e||void 0===e._reactInternals)throw Error(i(38));return ec(e,t,n,!1,r)},t.version=\"18.2.0-next-9e3b772b8-20220608\"},935:(e,t,n)=>{\"use strict\";!function e(){if(\"undefined\"!=typeof __REACT_DEVTOOLS_GLOBAL_HOOK__&&\"function\"==typeof __REACT_DEVTOOLS_GLOBAL_HOOK__.checkDCE)try{__REACT_DEVTOOLS_GLOBAL_HOOK__.checkDCE(e)}catch(e){console.error(e)}}(),e.exports=n(448)},408:(e,t)=>{\"use strict\";var n=Symbol.for(\"react.element\"),r=Symbol.for(\"react.portal\"),a=Symbol.for(\"react.fragment\"),i=Symbol.for(\"react.strict_mode\"),o=Symbol.for(\"react.profiler\"),u=Symbol.for(\"react.provider\"),l=Symbol.for(\"react.context\"),s=Symbol.for(\"react.forward_ref\"),c=Symbol.for(\"react.suspense\"),f=Symbol.for(\"react.memo\"),p=Symbol.for(\"react.lazy\"),d=Symbol.iterator,h={isMounted:function(){return!1},enqueueForceUpdate:function(){},enqueueReplaceState:function(){},enqueueSetState:function(){}},v=Object.assign,g={};function y(e,t,n){this.props=e,this.context=t,this.refs=g,this.updater=n||h}function m(){}function b(e,t,n){this.props=e,this.context=t,this.refs=g,this.updater=n||h}y.prototype.isReactComponent={},y.prototype.setState=function(e,t){if(\"object\"!=typeof e&&\"function\"!=typeof e&&null!=e)throw Error(\"setState(...): takes an object of state variables to update or a function which returns an object of state variables.\");this.updater.enqueueSetState(this,e,t,\"setState\")},y.prototype.forceUpdate=function(e){this.updater.enqueueForceUpdate(this,e,\"forceUpdate\")},m.prototype=y.prototype;var _=b.prototype=new m;_.constructor=b,v(_,y.prototype),_.isPureReactComponent=!0;var w=Array.isArray,x=Object.prototype.hasOwnProperty,k={current:null},S={key:!0,ref:!0,__self:!0,__source:!0};function E(e,t,r){var a,i={},o=null,u=null;if(null!=t)for(a in void 0!==t.ref&&(u=t.ref),void 0!==t.key&&(o=\"\"+t.key),t)x.call(t,a)&&!S.hasOwnProperty(a)&&(i[a]=t[a]);var l=arguments.length-2;if(1===l)i.children=r;else if(1<l){for(var s=Array(l),c=0;c<l;c++)s[c]=arguments[c+2];i.children=s}if(e&&e.defaultProps)for(a in l=e.defaultProps)void 0===i[a]&&(i[a]=l[a]);return{$$typeof:n,type:e,key:o,ref:u,props:i,_owner:k.current}}function C(e){return\"object\"==typeof e&&null!==e&&e.$$typeof===n}var T=/\\/+/g;function M(e,t){return\"object\"==typeof e&&null!==e&&null!=e.key?function(e){var t={\"=\":\"=0\",\":\":\"=2\"};return\"$\"+e.replace(/[=:]/g,(function(e){return t[e]}))}(\"\"+e.key):t.toString(36)}function N(e,t,a,i,o){var u=typeof e;\"undefined\"!==u&&\"boolean\"!==u||(e=null);var l=!1;if(null===e)l=!0;else switch(u){case\"string\":case\"number\":l=!0;break;case\"object\":switch(e.$$typeof){case n:case r:l=!0}}if(l)return o=o(l=e),e=\"\"===i?\".\"+M(l,0):i,w(o)?(a=\"\",null!=e&&(a=e.replace(T,\"$&/\")+\"/\"),N(o,t,a,\"\",(function(e){return e}))):null!=o&&(C(o)&&(o=function(e,t){return{$$typeof:n,type:e.type,key:t,ref:e.ref,props:e.props,_owner:e._owner}}(o,a+(!o.key||l&&l.key===o.key?\"\":(\"\"+o.key).replace(T,\"$&/\")+\"/\")+e)),t.push(o)),1;if(l=0,i=\"\"===i?\".\":i+\":\",w(e))for(var s=0;s<e.length;s++){var c=i+M(u=e[s],s);l+=N(u,t,a,c,o)}else if(c=function(e){return null===e||\"object\"!=typeof e?null:\"function\"==typeof(e=d&&e[d]||e[\"@@iterator\"])?e:null}(e),\"function\"==typeof c)for(e=c.call(e),s=0;!(u=e.next()).done;)l+=N(u=u.value,t,a,c=i+M(u,s++),o);else if(\"object\"===u)throw t=String(e),Error(\"Objects are not valid as a React child (found: \"+(\"[object Object]\"===t?\"object with keys {\"+Object.keys(e).join(\", \")+\"}\":t)+\"). If you meant to render a collection of children, use an array instead.\");return l}function P(e,t,n){if(null==e)return e;var r=[],a=0;return N(e,r,\"\",\"\",(function(e){return t.call(n,e,a++)})),r}function z(e){if(-1===e._status){var t=e._result;(t=t()).then((function(t){0!==e._status&&-1!==e._status||(e._status=1,e._result=t)}),(function(t){0!==e._status&&-1!==e._status||(e._status=2,e._result=t)})),-1===e._status&&(e._status=0,e._result=t)}if(1===e._status)return e._result.default;throw e._result}var L={current:null},O={transition:null},A={ReactCurrentDispatcher:L,ReactCurrentBatchConfig:O,ReactCurrentOwner:k};t.Children={map:P,forEach:function(e,t,n){P(e,(function(){t.apply(this,arguments)}),n)},count:function(e){var t=0;return P(e,(function(){t++})),t},toArray:function(e){return P(e,(function(e){return e}))||[]},only:function(e){if(!C(e))throw Error(\"React.Children.only expected to receive a single React element child.\");return e}},t.Component=y,t.Fragment=a,t.Profiler=o,t.PureComponent=b,t.StrictMode=i,t.Suspense=c,t.__SECRET_INTERNALS_DO_NOT_USE_OR_YOU_WILL_BE_FIRED=A,t.cloneElement=function(e,t,r){if(null==e)throw Error(\"React.cloneElement(...): The argument must be a React element, but you passed \"+e+\".\");var a=v({},e.props),i=e.key,o=e.ref,u=e._owner;if(null!=t){if(void 0!==t.ref&&(o=t.ref,u=k.current),void 0!==t.key&&(i=\"\"+t.key),e.type&&e.type.defaultProps)var l=e.type.defaultProps;for(s in t)x.call(t,s)&&!S.hasOwnProperty(s)&&(a[s]=void 0===t[s]&&void 0!==l?l[s]:t[s])}var s=arguments.length-2;if(1===s)a.children=r;else if(1<s){l=Array(s);for(var c=0;c<s;c++)l[c]=arguments[c+2];a.children=l}return{$$typeof:n,type:e.type,key:i,ref:o,props:a,_owner:u}},t.createContext=function(e){return(e={$$typeof:l,_currentValue:e,_currentValue2:e,_threadCount:0,Provider:null,Consumer:null,_defaultValue:null,_globalName:null}).Provider={$$typeof:u,_context:e},e.Consumer=e},t.createElement=E,t.createFactory=function(e){var t=E.bind(null,e);return t.type=e,t},t.createRef=function(){return{current:null}},t.forwardRef=function(e){return{$$typeof:s,render:e}},t.isValidElement=C,t.lazy=function(e){return{$$typeof:p,_payload:{_status:-1,_result:e},_init:z}},t.memo=function(e,t){return{$$typeof:f,type:e,compare:void 0===t?null:t}},t.startTransition=function(e){var t=O.transition;O.transition={};try{e()}finally{O.transition=t}},t.unstable_act=function(){throw Error(\"act(...) is not supported in production builds of React.\")},t.useCallback=function(e,t){return L.current.useCallback(e,t)},t.useContext=function(e){return L.current.useContext(e)},t.useDebugValue=function(){},t.useDeferredValue=function(e){return L.current.useDeferredValue(e)},t.useEffect=function(e,t){return L.current.useEffect(e,t)},t.useId=function(){return L.current.useId()},t.useImperativeHandle=function(e,t,n){return L.current.useImperativeHandle(e,t,n)},t.useInsertionEffect=function(e,t){return L.current.useInsertionEffect(e,t)},t.useLayoutEffect=function(e,t){return L.current.useLayoutEffect(e,t)},t.useMemo=function(e,t){return L.current.useMemo(e,t)},t.useReducer=function(e,t,n){return L.current.useReducer(e,t,n)},t.useRef=function(e){return L.current.useRef(e)},t.useState=function(e){return L.current.useState(e)},t.useSyncExternalStore=function(e,t,n){return L.current.useSyncExternalStore(e,t,n)},t.useTransition=function(){return L.current.useTransition()},t.version=\"18.2.0\"},294:(e,t,n)=>{\"use strict\";e.exports=n(408)},53:(e,t)=>{\"use strict\";function n(e,t){var n=e.length;e.push(t);e:for(;0<n;){var r=n-1>>>1,a=e[r];if(!(0<i(a,t)))break e;e[r]=t,e[n]=a,n=r}}function r(e){return 0===e.length?null:e[0]}function a(e){if(0===e.length)return null;var t=e[0],n=e.pop();if(n!==t){e[0]=n;e:for(var r=0,a=e.length,o=a>>>1;r<o;){var u=2*(r+1)-1,l=e[u],s=u+1,c=e[s];if(0>i(l,n))s<a&&0>i(c,l)?(e[r]=c,e[s]=n,r=s):(e[r]=l,e[u]=n,r=u);else{if(!(s<a&&0>i(c,n)))break e;e[r]=c,e[s]=n,r=s}}}return t}function i(e,t){var n=e.sortIndex-t.sortIndex;return 0!==n?n:e.id-t.id}if(\"object\"==typeof performance&&\"function\"==typeof performance.now){var o=performance;t.unstable_now=function(){return o.now()}}else{var u=Date,l=u.now();t.unstable_now=function(){return u.now()-l}}var s=[],c=[],f=1,p=null,d=3,h=!1,v=!1,g=!1,y=\"function\"==typeof setTimeout?setTimeout:null,m=\"function\"==typeof clearTimeout?clearTimeout:null,b=\"undefined\"!=typeof setImmediate?setImmediate:null;function _(e){for(var t=r(c);null!==t;){if(null===t.callback)a(c);else{if(!(t.startTime<=e))break;a(c),t.sortIndex=t.expirationTime,n(s,t)}t=r(c)}}function w(e){if(g=!1,_(e),!v)if(null!==r(s))v=!0,O(x);else{var t=r(c);null!==t&&A(w,t.startTime-e)}}function x(e,n){v=!1,g&&(g=!1,m(C),C=-1),h=!0;var i=d;try{for(_(n),p=r(s);null!==p&&(!(p.expirationTime>n)||e&&!N());){var o=p.callback;if(\"function\"==typeof o){p.callback=null,d=p.priorityLevel;var u=o(p.expirationTime<=n);n=t.unstable_now(),\"function\"==typeof u?p.callback=u:p===r(s)&&a(s),_(n)}else a(s);p=r(s)}if(null!==p)var l=!0;else{var f=r(c);null!==f&&A(w,f.startTime-n),l=!1}return l}finally{p=null,d=i,h=!1}}\"undefined\"!=typeof navigator&&void 0!==navigator.scheduling&&void 0!==navigator.scheduling.isInputPending&&navigator.scheduling.isInputPending.bind(navigator.scheduling);var k,S=!1,E=null,C=-1,T=5,M=-1;function N(){return!(t.unstable_now()-M<T)}function P(){if(null!==E){var e=t.unstable_now();M=e;var n=!0;try{n=E(!0,e)}finally{n?k():(S=!1,E=null)}}else S=!1}if(\"function\"==typeof b)k=function(){b(P)};else if(\"undefined\"!=typeof MessageChannel){var z=new MessageChannel,L=z.port2;z.port1.onmessage=P,k=function(){L.postMessage(null)}}else k=function(){y(P,0)};function O(e){E=e,S||(S=!0,k())}function A(e,n){C=y((function(){e(t.unstable_now())}),n)}t.unstable_IdlePriority=5,t.unstable_ImmediatePriority=1,t.unstable_LowPriority=4,t.unstable_NormalPriority=3,t.unstable_Profiling=null,t.unstable_UserBlockingPriority=2,t.unstable_cancelCallback=function(e){e.callback=null},t.unstable_continueExecution=function(){v||h||(v=!0,O(x))},t.unstable_forceFrameRate=function(e){0>e||125<e?console.error(\"forceFrameRate takes a positive int between 0 and 125, forcing frame rates higher than 125 fps is not supported\"):T=0<e?Math.floor(1e3/e):5},t.unstable_getCurrentPriorityLevel=function(){return d},t.unstable_getFirstCallbackNode=function(){return r(s)},t.unstable_next=function(e){switch(d){case 1:case 2:case 3:var t=3;break;default:t=d}var n=d;d=t;try{return e()}finally{d=n}},t.unstable_pauseExecution=function(){},t.unstable_requestPaint=function(){},t.unstable_runWithPriority=function(e,t){switch(e){case 1:case 2:case 3:case 4:case 5:break;default:e=3}var n=d;d=e;try{return t()}finally{d=n}},t.unstable_scheduleCallback=function(e,a,i){var o=t.unstable_now();switch(i=\"object\"==typeof i&&null!==i&&\"number\"==typeof(i=i.delay)&&0<i?o+i:o,e){case 1:var u=-1;break;case 2:u=250;break;case 5:u=1073741823;break;case 4:u=1e4;break;default:u=5e3}return e={id:f++,callback:a,priorityLevel:e,startTime:i,expirationTime:u=i+u,sortIndex:-1},i>o?(e.sortIndex=i,n(c,e),null===r(s)&&e===r(c)&&(g?(m(C),C=-1):g=!0,A(w,i-o))):(e.sortIndex=u,n(s,e),v||h||(v=!0,O(x))),e},t.unstable_shouldYield=N,t.unstable_wrapCallback=function(e){var t=d;return function(){var n=d;d=t;try{return e.apply(this,arguments)}finally{d=n}}}},840:(e,t,n)=>{\"use strict\";e.exports=n(53)}},t={};function n(r){var a=t[r];if(void 0!==a)return a.exports;var i=t[r]={id:r,loaded:!1,exports:{}};return e[r].call(i.exports,i,i.exports,n),i.loaded=!0,i.exports}n.g=function(){if(\"object\"==typeof globalThis)return globalThis;try{return this||new Function(\"return this\")()}catch(e){if(\"object\"==typeof window)return window}}(),n.nmd=e=>(e.paths=[],e.children||(e.children=[]),e),(()=>{\"use strict\";var e=n(294),t=n(935);const r=Math.sqrt(50),a=Math.sqrt(10),i=Math.sqrt(2);function o(e,t,n){const u=(t-e)/Math.max(0,n),l=Math.floor(Math.log10(u)),s=u/Math.pow(10,l),c=s>=r?10:s>=a?5:s>=i?2:1;let f,p,d;return l<0?(d=Math.pow(10,-l)/c,f=Math.round(e*d),p=Math.round(t*d),f/d<e&&++f,p/d>t&&--p,d=-d):(d=Math.pow(10,l)*c,f=Math.round(e/d),p=Math.round(t/d),f*d<e&&++f,p*d>t&&--p),p<f&&.5<=n&&n<2?o(e,t,2*n):[f,p,d]}function u(e,t,n){return o(e=+e,t=+t,n=+n)[2]}function l(e,t,n){n=+n;const r=(t=+t)<(e=+e),a=r?u(t,e,n):u(e,t,n);return(r?-1:1)*(a<0?1/-a:a)}function s(e,t){return null==e||null==t?NaN:e<t?-1:e>t?1:e>=t?0:NaN}function c(e,t){return null==e||null==t?NaN:t<e?-1:t>e?1:t>=e?0:NaN}function f(e){let t,n,r;function a(e,r,a=0,i=e.length){if(a<i){if(0!==t(r,r))return i;do{const t=a+i>>>1;n(e[t],r)<0?a=t+1:i=t}while(a<i)}return a}return 2!==e.length?(t=s,n=(t,n)=>s(e(t),n),r=(t,n)=>e(t)-n):(t=e===s||e===c?e:p,n=e,r=e),{left:a,center:function(e,t,n=0,i=e.length){const o=a(e,t,n,i-1);return o>n&&r(e[o-1],t)>-r(e[o],t)?o-1:o},right:function(e,r,a=0,i=e.length){if(a<i){if(0!==t(r,r))return i;do{const t=a+i>>>1;n(e[t],r)<=0?a=t+1:i=t}while(a<i)}return a}}}function p(){return 0}const d=f(s),h=d.right,v=(d.left,f((function(e){return null===e?NaN:+e})).center,h);function g(e,t,n){e.prototype=t.prototype=n,n.constructor=e}function y(e,t){var n=Object.create(e.prototype);for(var r in t)n[r]=t[r];return n}function m(){}var b=.7,_=1/b,w=\"\\\\s*([+-]?\\\\d+)\\\\s*\",x=\"\\\\s*([+-]?(?:\\\\d*\\\\.)?\\\\d+(?:[eE][+-]?\\\\d+)?)\\\\s*\",k=\"\\\\s*([+-]?(?:\\\\d*\\\\.)?\\\\d+(?:[eE][+-]?\\\\d+)?)%\\\\s*\",S=/^#([0-9a-f]{3,8})$/,E=new RegExp(`^rgb\\\\(${w},${w},${w}\\\\)$`),C=new RegExp(`^rgb\\\\(${k},${k},${k}\\\\)$`),T=new RegExp(`^rgba\\\\(${w},${w},${w},${x}\\\\)$`),M=new RegExp(`^rgba\\\\(${k},${k},${k},${x}\\\\)$`),N=new RegExp(`^hsl\\\\(${x},${k},${k}\\\\)$`),P=new RegExp(`^hsla\\\\(${x},${k},${k},${x}\\\\)$`),z={aliceblue:15792383,antiquewhite:16444375,aqua:65535,aquamarine:8388564,azure:15794175,beige:16119260,bisque:16770244,black:0,blanchedalmond:16772045,blue:255,blueviolet:9055202,brown:10824234,burlywood:14596231,cadetblue:6266528,chartreuse:8388352,chocolate:13789470,coral:16744272,cornflowerblue:6591981,cornsilk:16775388,crimson:14423100,cyan:65535,darkblue:139,darkcyan:35723,darkgoldenrod:12092939,darkgray:11119017,darkgreen:25600,darkgrey:11119017,darkkhaki:12433259,darkmagenta:9109643,darkolivegreen:5597999,darkorange:16747520,darkorchid:10040012,darkred:9109504,darksalmon:15308410,darkseagreen:9419919,darkslateblue:4734347,darkslategray:3100495,darkslategrey:3100495,darkturquoise:52945,darkviolet:9699539,deeppink:16716947,deepskyblue:49151,dimgray:6908265,dimgrey:6908265,dodgerblue:2003199,firebrick:11674146,floralwhite:16775920,forestgreen:2263842,fuchsia:16711935,gainsboro:14474460,ghostwhite:16316671,gold:16766720,goldenrod:14329120,gray:8421504,green:32768,greenyellow:11403055,grey:8421504,honeydew:15794160,hotpink:16738740,indianred:13458524,indigo:4915330,ivory:16777200,khaki:15787660,lavender:15132410,lavenderblush:16773365,lawngreen:8190976,lemonchiffon:16775885,lightblue:11393254,lightcoral:15761536,lightcyan:14745599,lightgoldenrodyellow:16448210,lightgray:13882323,lightgreen:9498256,lightgrey:13882323,lightpink:16758465,lightsalmon:16752762,lightseagreen:2142890,lightskyblue:8900346,lightslategray:7833753,lightslategrey:7833753,lightsteelblue:11584734,lightyellow:16777184,lime:65280,limegreen:3329330,linen:16445670,magenta:16711935,maroon:8388608,mediumaquamarine:6737322,mediumblue:205,mediumorchid:12211667,mediumpurple:9662683,mediumseagreen:3978097,mediumslateblue:8087790,mediumspringgreen:64154,mediumturquoise:4772300,mediumvioletred:13047173,midnightblue:1644912,mintcream:16121850,mistyrose:16770273,moccasin:16770229,navajowhite:16768685,navy:128,oldlace:16643558,olive:8421376,olivedrab:7048739,orange:16753920,orangered:16729344,orchid:14315734,palegoldenrod:15657130,palegreen:10025880,paleturquoise:11529966,palevioletred:14381203,papayawhip:16773077,peachpuff:16767673,peru:13468991,pink:16761035,plum:14524637,powderblue:11591910,purple:8388736,rebeccapurple:6697881,red:16711680,rosybrown:12357519,royalblue:4286945,saddlebrown:9127187,salmon:16416882,sandybrown:16032864,seagreen:3050327,seashell:16774638,sienna:10506797,silver:12632256,skyblue:8900331,slateblue:6970061,slategray:7372944,slategrey:7372944,snow:16775930,springgreen:65407,steelblue:4620980,tan:13808780,teal:32896,thistle:14204888,tomato:16737095,turquoise:4251856,violet:15631086,wheat:16113331,white:16777215,whitesmoke:16119285,yellow:16776960,yellowgreen:10145074};function L(){return this.rgb().formatHex()}function O(){return this.rgb().formatRgb()}function A(e){var t,n;return e=(e+\"\").trim().toLowerCase(),(t=S.exec(e))?(n=t[1].length,t=parseInt(t[1],16),6===n?F(t):3===n?new j(t>>8&15|t>>4&240,t>>4&15|240&t,(15&t)<<4|15&t,1):8===n?D(t>>24&255,t>>16&255,t>>8&255,(255&t)/255):4===n?D(t>>12&15|t>>8&240,t>>8&15|t>>4&240,t>>4&15|240&t,((15&t)<<4|15&t)/255):null):(t=E.exec(e))?new j(t[1],t[2],t[3],1):(t=C.exec(e))?new j(255*t[1]/100,255*t[2]/100,255*t[3]/100,1):(t=T.exec(e))?D(t[1],t[2],t[3],t[4]):(t=M.exec(e))?D(255*t[1]/100,255*t[2]/100,255*t[3]/100,t[4]):(t=N.exec(e))?V(t[1],t[2]/100,t[3]/100,1):(t=P.exec(e))?V(t[1],t[2]/100,t[3]/100,t[4]):z.hasOwnProperty(e)?F(z[e]):\"transparent\"===e?new j(NaN,NaN,NaN,0):null}function F(e){return new j(e>>16&255,e>>8&255,255&e,1)}function D(e,t,n,r){return r<=0&&(e=t=n=NaN),new j(e,t,n,r)}function R(e,t,n,r){return 1===arguments.length?((a=e)instanceof m||(a=A(a)),a?new j((a=a.rgb()).r,a.g,a.b,a.opacity):new j):new j(e,t,n,null==r?1:r);var a}function j(e,t,n,r){this.r=+e,this.g=+t,this.b=+n,this.opacity=+r}function U(){return`#${W(this.r)}${W(this.g)}${W(this.b)}`}function I(){const e=$(this.opacity);return`${1===e?\"rgb(\":\"rgba(\"}${B(this.r)}, ${B(this.g)}, ${B(this.b)}${1===e?\")\":`, ${e})`}`}function $(e){return isNaN(e)?1:Math.max(0,Math.min(1,e))}function B(e){return Math.max(0,Math.min(255,Math.round(e)||0))}function W(e){return((e=B(e))<16?\"0\":\"\")+e.toString(16)}function V(e,t,n,r){return r<=0?e=t=n=NaN:n<=0||n>=1?e=t=NaN:t<=0&&(e=NaN),new Q(e,t,n,r)}function H(e){if(e instanceof Q)return new Q(e.h,e.s,e.l,e.opacity);if(e instanceof m||(e=A(e)),!e)return new Q;if(e instanceof Q)return e;var t=(e=e.rgb()).r/255,n=e.g/255,r=e.b/255,a=Math.min(t,n,r),i=Math.max(t,n,r),o=NaN,u=i-a,l=(i+a)/2;return u?(o=t===i?(n-r)/u+6*(n<r):n===i?(r-t)/u+2:(t-n)/u+4,u/=l<.5?i+a:2-i-a,o*=60):u=l>0&&l<1?0:o,new Q(o,u,l,e.opacity)}function q(e,t,n,r){return 1===arguments.length?H(e):new Q(e,t,n,null==r?1:r)}function Q(e,t,n,r){this.h=+e,this.s=+t,this.l=+n,this.opacity=+r}function Y(e){return(e=(e||0)%360)<0?e+360:e}function G(e){return Math.max(0,Math.min(1,e||0))}function K(e,t,n){return 255*(e<60?t+(n-t)*e/60:e<180?n:e<240?t+(n-t)*(240-e)/60:t)}function Z(e,t,n,r,a){var i=e*e,o=i*e;return((1-3*e+3*i-o)*t+(4-6*i+3*o)*n+(1+3*e+3*i-3*o)*r+o*a)/6}g(m,A,{copy(e){return Object.assign(new this.constructor,this,e)},displayable(){return this.rgb().displayable()},hex:L,formatHex:L,formatHex8:function(){return this.rgb().formatHex8()},formatHsl:function(){return H(this).formatHsl()},formatRgb:O,toString:O}),g(j,R,y(m,{brighter(e){return e=null==e?_:Math.pow(_,e),new j(this.r*e,this.g*e,this.b*e,this.opacity)},darker(e){return e=null==e?b:Math.pow(b,e),new j(this.r*e,this.g*e,this.b*e,this.opacity)},rgb(){return this},clamp(){return new j(B(this.r),B(this.g),B(this.b),$(this.opacity))},displayable(){return-.5<=this.r&&this.r<255.5&&-.5<=this.g&&this.g<255.5&&-.5<=this.b&&this.b<255.5&&0<=this.opacity&&this.opacity<=1},hex:U,formatHex:U,formatHex8:function(){return`#${W(this.r)}${W(this.g)}${W(this.b)}${W(255*(isNaN(this.opacity)?1:this.opacity))}`},formatRgb:I,toString:I})),g(Q,q,y(m,{brighter(e){return e=null==e?_:Math.pow(_,e),new Q(this.h,this.s,this.l*e,this.opacity)},darker(e){return e=null==e?b:Math.pow(b,e),new Q(this.h,this.s,this.l*e,this.opacity)},rgb(){var e=this.h%360+360*(this.h<0),t=isNaN(e)||isNaN(this.s)?0:this.s,n=this.l,r=n+(n<.5?n:1-n)*t,a=2*n-r;return new j(K(e>=240?e-240:e+120,a,r),K(e,a,r),K(e<120?e+240:e-120,a,r),this.opacity)},clamp(){return new Q(Y(this.h),G(this.s),G(this.l),$(this.opacity))},displayable(){return(0<=this.s&&this.s<=1||isNaN(this.s))&&0<=this.l&&this.l<=1&&0<=this.opacity&&this.opacity<=1},formatHsl(){const e=$(this.opacity);return`${1===e?\"hsl(\":\"hsla(\"}${Y(this.h)}, ${100*G(this.s)}%, ${100*G(this.l)}%${1===e?\")\":`, ${e})`}`}}));const X=e=>()=>e;function J(e,t){var n=t-e;return n?function(e,t){return function(n){return e+n*t}}(e,n):X(isNaN(e)?t:e)}const ee=function e(t){var n=function(e){return 1==(e=+e)?J:function(t,n){return n-t?function(e,t,n){return e=Math.pow(e,n),t=Math.pow(t,n)-e,n=1/n,function(r){return Math.pow(e+r*t,n)}}(t,n,e):X(isNaN(t)?n:t)}}(t);function r(e,t){var r=n((e=R(e)).r,(t=R(t)).r),a=n(e.g,t.g),i=n(e.b,t.b),o=J(e.opacity,t.opacity);return function(t){return e.r=r(t),e.g=a(t),e.b=i(t),e.opacity=o(t),e+\"\"}}return r.gamma=e,r}(1);function te(e){return function(t){var n,r,a=t.length,i=new Array(a),o=new Array(a),u=new Array(a);for(n=0;n<a;++n)r=R(t[n]),i[n]=r.r||0,o[n]=r.g||0,u[n]=r.b||0;return i=e(i),o=e(o),u=e(u),r.opacity=1,function(e){return r.r=i(e),r.g=o(e),r.b=u(e),r+\"\"}}}function ne(e,t){var n,r=t?t.length:0,a=e?Math.min(r,e.length):0,i=new Array(a),o=new Array(r);for(n=0;n<a;++n)i[n]=ce(e[n],t[n]);for(;n<r;++n)o[n]=t[n];return function(e){for(n=0;n<a;++n)o[n]=i[n](e);return o}}function re(e,t){var n=new Date;return e=+e,t=+t,function(r){return n.setTime(e*(1-r)+t*r),n}}function ae(e,t){return e=+e,t=+t,function(n){return e*(1-n)+t*n}}function ie(e,t){var n,r={},a={};for(n in null!==e&&\"object\"==typeof e||(e={}),null!==t&&\"object\"==typeof t||(t={}),t)n in e?r[n]=ce(e[n],t[n]):a[n]=t[n];return function(e){for(n in r)a[n]=r[n](e);return a}}te((function(e){var t=e.length-1;return function(n){var r=n<=0?n=0:n>=1?(n=1,t-1):Math.floor(n*t),a=e[r],i=e[r+1],o=r>0?e[r-1]:2*a-i,u=r<t-1?e[r+2]:2*i-a;return Z((n-r/t)*t,o,a,i,u)}})),te((function(e){var t=e.length;return function(n){var r=Math.floor(((n%=1)<0?++n:n)*t),a=e[(r+t-1)%t],i=e[r%t],o=e[(r+1)%t],u=e[(r+2)%t];return Z((n-r/t)*t,a,i,o,u)}}));var oe=/[-+]?(?:\\d+\\.?\\d*|\\.?\\d+)(?:[eE][-+]?\\d+)?/g,ue=new RegExp(oe.source,\"g\");function le(e,t){var n,r,a,i=oe.lastIndex=ue.lastIndex=0,o=-1,u=[],l=[];for(e+=\"\",t+=\"\";(n=oe.exec(e))&&(r=ue.exec(t));)(a=r.index)>i&&(a=t.slice(i,a),u[o]?u[o]+=a:u[++o]=a),(n=n[0])===(r=r[0])?u[o]?u[o]+=r:u[++o]=r:(u[++o]=null,l.push({i:o,x:ae(n,r)})),i=ue.lastIndex;return i<t.length&&(a=t.slice(i),u[o]?u[o]+=a:u[++o]=a),u.length<2?l[0]?function(e){return function(t){return e(t)+\"\"}}(l[0].x):function(e){return function(){return e}}(t):(t=l.length,function(e){for(var n,r=0;r<t;++r)u[(n=l[r]).i]=n.x(e);return u.join(\"\")})}function se(e,t){t||(t=[]);var n,r=e?Math.min(t.length,e.length):0,a=t.slice();return function(i){for(n=0;n<r;++n)a[n]=e[n]*(1-i)+t[n]*i;return a}}function ce(e,t){var n,r,a=typeof t;return null==t||\"boolean\"===a?X(t):(\"number\"===a?ae:\"string\"===a?(n=A(t))?(t=n,ee):le:t instanceof A?ee:t instanceof Date?re:(r=t,!ArrayBuffer.isView(r)||r instanceof DataView?Array.isArray(t)?ne:\"function\"!=typeof t.valueOf&&\"function\"!=typeof t.toString||isNaN(t)?ie:ae:se))(e,t)}function fe(e,t){return e=+e,t=+t,function(n){return Math.round(e*(1-n)+t*n)}}function pe(e){return+e}var de=[0,1];function he(e){return e}function ve(e,t){return(t-=e=+e)?function(n){return(n-e)/t}:(n=isNaN(t)?NaN:.5,function(){return n});var n}function ge(e,t,n){var r=e[0],a=e[1],i=t[0],o=t[1];return a<r?(r=ve(a,r),i=n(o,i)):(r=ve(r,a),i=n(i,o)),function(e){return i(r(e))}}function ye(e,t,n){var r=Math.min(e.length,t.length)-1,a=new Array(r),i=new Array(r),o=-1;for(e[r]<e[0]&&(e=e.slice().reverse(),t=t.slice().reverse());++o<r;)a[o]=ve(e[o],e[o+1]),i[o]=n(t[o],t[o+1]);return function(t){var n=v(e,t,1,r)-1;return i[n](a[n](t))}}function me(e,t){return t.domain(e.domain()).range(e.range()).interpolate(e.interpolate()).clamp(e.clamp()).unknown(e.unknown())}function be(){return function(){var e,t,n,r,a,i,o=de,u=de,l=ce,s=he;function c(){var e,t,n,l=Math.min(o.length,u.length);return s!==he&&(e=o[0],t=o[l-1],e>t&&(n=e,e=t,t=n),s=function(n){return Math.max(e,Math.min(t,n))}),r=l>2?ye:ge,a=i=null,f}function f(t){return null==t||isNaN(t=+t)?n:(a||(a=r(o.map(e),u,l)))(e(s(t)))}return f.invert=function(n){return s(t((i||(i=r(u,o.map(e),ae)))(n)))},f.domain=function(e){return arguments.length?(o=Array.from(e,pe),c()):o.slice()},f.range=function(e){return arguments.length?(u=Array.from(e),c()):u.slice()},f.rangeRound=function(e){return u=Array.from(e),l=fe,c()},f.clamp=function(e){return arguments.length?(s=!!e||he,c()):s!==he},f.interpolate=function(e){return arguments.length?(l=e,c()):l},f.unknown=function(e){return arguments.length?(n=e,f):n},function(n,r){return e=n,t=r,c()}}()(he,he)}function _e(e,t){switch(arguments.length){case 0:break;case 1:this.range(e);break;default:this.range(t).domain(e)}return this}var we,xe=/^(?:(.)?([<>=^]))?([+\\-( ])?([$#])?(0)?(\\d+)?(,)?(\\.\\d+)?(~)?([a-z%])?$/i;function ke(e){if(!(t=xe.exec(e)))throw new Error(\"invalid format: \"+e);var t;return new Se({fill:t[1],align:t[2],sign:t[3],symbol:t[4],zero:t[5],width:t[6],comma:t[7],precision:t[8]&&t[8].slice(1),trim:t[9],type:t[10]})}function Se(e){this.fill=void 0===e.fill?\" \":e.fill+\"\",this.align=void 0===e.align?\">\":e.align+\"\",this.sign=void 0===e.sign?\"-\":e.sign+\"\",this.symbol=void 0===e.symbol?\"\":e.symbol+\"\",this.zero=!!e.zero,this.width=void 0===e.width?void 0:+e.width,this.comma=!!e.comma,this.precision=void 0===e.precision?void 0:+e.precision,this.trim=!!e.trim,this.type=void 0===e.type?\"\":e.type+\"\"}function Ee(e,t){if((n=(e=t?e.toExponential(t-1):e.toExponential()).indexOf(\"e\"))<0)return null;var n,r=e.slice(0,n);return[r.length>1?r[0]+r.slice(2):r,+e.slice(n+1)]}function Ce(e){return(e=Ee(Math.abs(e)))?e[1]:NaN}function Te(e,t){var n=Ee(e,t);if(!n)return e+\"\";var r=n[0],a=n[1];return a<0?\"0.\"+new Array(-a).join(\"0\")+r:r.length>a+1?r.slice(0,a+1)+\".\"+r.slice(a+1):r+new Array(a-r.length+2).join(\"0\")}ke.prototype=Se.prototype,Se.prototype.toString=function(){return this.fill+this.align+this.sign+this.symbol+(this.zero?\"0\":\"\")+(void 0===this.width?\"\":Math.max(1,0|this.width))+(this.comma?\",\":\"\")+(void 0===this.precision?\"\":\".\"+Math.max(0,0|this.precision))+(this.trim?\"~\":\"\")+this.type};const Me={\"%\":(e,t)=>(100*e).toFixed(t),b:e=>Math.round(e).toString(2),c:e=>e+\"\",d:function(e){return Math.abs(e=Math.round(e))>=1e21?e.toLocaleString(\"en\").replace(/,/g,\"\"):e.toString(10)},e:(e,t)=>e.toExponential(t),f:(e,t)=>e.toFixed(t),g:(e,t)=>e.toPrecision(t),o:e=>Math.round(e).toString(8),p:(e,t)=>Te(100*e,t),r:Te,s:function(e,t){var n=Ee(e,t);if(!n)return e+\"\";var r=n[0],a=n[1],i=a-(we=3*Math.max(-8,Math.min(8,Math.floor(a/3))))+1,o=r.length;return i===o?r:i>o?r+new Array(i-o+1).join(\"0\"):i>0?r.slice(0,i)+\".\"+r.slice(i):\"0.\"+new Array(1-i).join(\"0\")+Ee(e,Math.max(0,t+i-1))[0]},X:e=>Math.round(e).toString(16).toUpperCase(),x:e=>Math.round(e).toString(16)};function Ne(e){return e}var Pe,ze,Le,Oe=Array.prototype.map,Ae=[\"y\",\"z\",\"a\",\"f\",\"p\",\"n\",\"µ\",\"m\",\"\",\"k\",\"M\",\"G\",\"T\",\"P\",\"E\",\"Z\",\"Y\"];function Fe(e){var t=e.domain;return e.ticks=function(e){var n=t();return function(e,t,n){if(!((n=+n)>0))return[];if((e=+e)==(t=+t))return[e];const r=t<e,[a,i,u]=r?o(t,e,n):o(e,t,n);if(!(i>=a))return[];const l=i-a+1,s=new Array(l);if(r)if(u<0)for(let e=0;e<l;++e)s[e]=(i-e)/-u;else for(let e=0;e<l;++e)s[e]=(i-e)*u;else if(u<0)for(let e=0;e<l;++e)s[e]=(a+e)/-u;else for(let e=0;e<l;++e)s[e]=(a+e)*u;return s}(n[0],n[n.length-1],null==e?10:e)},e.tickFormat=function(e,n){var r=t();return function(e,t,n,r){var a,i=l(e,t,n);switch((r=ke(null==r?\",f\":r)).type){case\"s\":var o=Math.max(Math.abs(e),Math.abs(t));return null!=r.precision||isNaN(a=function(e,t){return Math.max(0,3*Math.max(-8,Math.min(8,Math.floor(Ce(t)/3)))-Ce(Math.abs(e)))}(i,o))||(r.precision=a),Le(r,o);case\"\":case\"e\":case\"g\":case\"p\":case\"r\":null!=r.precision||isNaN(a=function(e,t){return e=Math.abs(e),t=Math.abs(t)-e,Math.max(0,Ce(t)-Ce(e))+1}(i,Math.max(Math.abs(e),Math.abs(t))))||(r.precision=a-(\"e\"===r.type));break;case\"f\":case\"%\":null!=r.precision||isNaN(a=function(e){return Math.max(0,-Ce(Math.abs(e)))}(i))||(r.precision=a-2*(\"%\"===r.type))}return ze(r)}(r[0],r[r.length-1],null==e?10:e,n)},e.nice=function(n){null==n&&(n=10);var r,a,i=t(),o=0,l=i.length-1,s=i[o],c=i[l],f=10;for(c<s&&(a=s,s=c,c=a,a=o,o=l,l=a);f-- >0;){if((a=u(s,c,n))===r)return i[o]=s,i[l]=c,t(i);if(a>0)s=Math.floor(s/a)*a,c=Math.ceil(c/a)*a;else{if(!(a<0))break;s=Math.ceil(s*a)/a,c=Math.floor(c*a)/a}r=a}return e},e}function De(){var e=be();return e.copy=function(){return me(e,De())},_e.apply(e,arguments),Fe(e)}Pe=function(e){var t,n,r=void 0===e.grouping||void 0===e.thousands?Ne:(t=Oe.call(e.grouping,Number),n=e.thousands+\"\",function(e,r){for(var a=e.length,i=[],o=0,u=t[0],l=0;a>0&&u>0&&(l+u+1>r&&(u=Math.max(1,r-l)),i.push(e.substring(a-=u,a+u)),!((l+=u+1)>r));)u=t[o=(o+1)%t.length];return i.reverse().join(n)}),a=void 0===e.currency?\"\":e.currency[0]+\"\",i=void 0===e.currency?\"\":e.currency[1]+\"\",o=void 0===e.decimal?\".\":e.decimal+\"\",u=void 0===e.numerals?Ne:function(e){return function(t){return t.replace(/[0-9]/g,(function(t){return e[+t]}))}}(Oe.call(e.numerals,String)),l=void 0===e.percent?\"%\":e.percent+\"\",s=void 0===e.minus?\"−\":e.minus+\"\",c=void 0===e.nan?\"NaN\":e.nan+\"\";function f(e){var t=(e=ke(e)).fill,n=e.align,f=e.sign,p=e.symbol,d=e.zero,h=e.width,v=e.comma,g=e.precision,y=e.trim,m=e.type;\"n\"===m?(v=!0,m=\"g\"):Me[m]||(void 0===g&&(g=12),y=!0,m=\"g\"),(d||\"0\"===t&&\"=\"===n)&&(d=!0,t=\"0\",n=\"=\");var b=\"$\"===p?a:\"#\"===p&&/[boxX]/.test(m)?\"0\"+m.toLowerCase():\"\",_=\"$\"===p?i:/[%p]/.test(m)?l:\"\",w=Me[m],x=/[defgprs%]/.test(m);function k(e){var a,i,l,p=b,k=_;if(\"c\"===m)k=w(e)+k,e=\"\";else{var S=(e=+e)<0||1/e<0;if(e=isNaN(e)?c:w(Math.abs(e),g),y&&(e=function(e){e:for(var t,n=e.length,r=1,a=-1;r<n;++r)switch(e[r]){case\".\":a=t=r;break;case\"0\":0===a&&(a=r),t=r;break;default:if(!+e[r])break e;a>0&&(a=0)}return a>0?e.slice(0,a)+e.slice(t+1):e}(e)),S&&0==+e&&\"+\"!==f&&(S=!1),p=(S?\"(\"===f?f:s:\"-\"===f||\"(\"===f?\"\":f)+p,k=(\"s\"===m?Ae[8+we/3]:\"\")+k+(S&&\"(\"===f?\")\":\"\"),x)for(a=-1,i=e.length;++a<i;)if(48>(l=e.charCodeAt(a))||l>57){k=(46===l?o+e.slice(a+1):e.slice(a))+k,e=e.slice(0,a);break}}v&&!d&&(e=r(e,1/0));var E=p.length+e.length+k.length,C=E<h?new Array(h-E+1).join(t):\"\";switch(v&&d&&(e=r(C+e,C.length?h-k.length:1/0),C=\"\"),n){case\"<\":e=p+e+k+C;break;case\"=\":e=p+C+e+k;break;case\"^\":e=C.slice(0,E=C.length>>1)+p+e+k+C.slice(E);break;default:e=C+p+e+k}return u(e)}return g=void 0===g?6:/[gprs]/.test(m)?Math.max(1,Math.min(21,g)):Math.max(0,Math.min(20,g)),k.toString=function(){return e+\"\"},k}return{format:f,formatPrefix:function(e,t){var n=f(((e=ke(e)).type=\"f\",e)),r=3*Math.max(-8,Math.min(8,Math.floor(Ce(t)/3))),a=Math.pow(10,-r),i=Ae[8+r/3];return function(e){return n(a*e)+i}}}}({thousands:\",\",grouping:[3],currency:[\"$\",\"\"]}),ze=Pe.format,Le=Pe.formatPrefix;var Re=n(486);const je={colors:{RdBu:[\"rgb(255, 13, 87)\",\"rgb(30, 136, 229)\"],GnPR:[\"rgb(24, 196, 93)\",\"rgb(124, 82, 255)\"],CyPU:[\"#0099C6\",\"#990099\"],PkYg:[\"#DD4477\",\"#66AA00\"],DrDb:[\"#B82E2E\",\"#316395\"],LpLb:[\"#994499\",\"#22AA99\"],YlDp:[\"#AAAA11\",\"#6633CC\"],OrId:[\"#E67300\",\"#3E0099\"]},gray:\"#777\"};function Ue(e){return Ue=\"function\"==typeof Symbol&&\"symbol\"==typeof Symbol.iterator?function(e){return typeof e}:function(e){return e&&\"function\"==typeof Symbol&&e.constructor===Symbol&&e!==Symbol.prototype?\"symbol\":typeof e},Ue(e)}function Ie(e,t){for(var n=0;n<t.length;n++){var r=t[n];r.enumerable=r.enumerable||!1,r.configurable=!0,\"value\"in r&&(r.writable=!0),Object.defineProperty(e,(void 0,a=function(e,t){if(\"object\"!==Ue(e)||null===e)return e;var n=e[Symbol.toPrimitive];if(void 0!==n){var r=n.call(e,\"string\");if(\"object\"!==Ue(r))return r;throw new TypeError(\"@@toPrimitive must return a primitive value.\")}return String(e)}(r.key),\"symbol\"===Ue(a)?a:String(a)),r)}var a}function $e(e,t){return $e=Object.setPrototypeOf?Object.setPrototypeOf.bind():function(e,t){return e.__proto__=t,e},$e(e,t)}function Be(e){if(void 0===e)throw new ReferenceError(\"this hasn't been initialised - super() hasn't been called\");return e}function We(e){return We=Object.setPrototypeOf?Object.getPrototypeOf.bind():function(e){return e.__proto__||Object.getPrototypeOf(e)},We(e)}var Ve=function(t){!function(e,t){if(\"function\"!=typeof t&&null!==t)throw new TypeError(\"Super expression must either be null or a function\");e.prototype=Object.create(t&&t.prototype,{constructor:{value:e,writable:!0,configurable:!0}}),Object.defineProperty(e,\"prototype\",{writable:!1}),t&&$e(e,t)}(u,t);var n,r,a,i,o=(a=u,i=function(){if(\"undefined\"==typeof Reflect||!Reflect.construct)return!1;if(Reflect.construct.sham)return!1;if(\"function\"==typeof Proxy)return!0;try{return Boolean.prototype.valueOf.call(Reflect.construct(Boolean,[],(function(){}))),!0}catch(e){return!1}}(),function(){var e,t=We(a);if(i){var n=We(this).constructor;e=Reflect.construct(t,arguments,n)}else e=t.apply(this,arguments);return function(e,t){if(t&&(\"object\"===Ue(t)||\"function\"==typeof t))return t;if(void 0!==t)throw new TypeError(\"Derived constructors may only return object or undefined\");return Be(e)}(this,e)});function u(){var e;return function(e,t){if(!(e instanceof t))throw new TypeError(\"Cannot call a class as a function\")}(this,u),(e=o.call(this)).width=100,window.lastSimpleListInstance=Be(e),e.effectFormat=ze(\".2\"),e}return n=u,(r=[{key:\"render\",value:function(){var t=this,n=void 0;\"string\"==typeof this.props.plot_cmap?this.props.plot_cmap in je.colors?n=je.colors[this.props.plot_cmap]:(console.log(\"Invalid color map name, reverting to default.\"),n=je.colors.RdBu):Array.isArray(this.props.plot_cmap)&&(n=this.props.plot_cmap),console.log(this.props.features,this.props.features),this.scale=De().domain([0,(0,Re.max)((0,Re.map)(this.props.features,(function(e){return Math.abs(e.effect)})))]).range([0,this.width]);var r=(0,Re.reverse)((0,Re.sortBy)(Object.keys(this.props.features),(function(e){return Math.abs(t.props.features[e].effect)}))).map((function(r){var a,i,o=t.props.features[r],u=t.props.featureNames[r],l={width:t.scale(Math.abs(o.effect)),height:\"20px\",background:o.effect<0?n[0]:n[1],display:\"inline-block\"},s={lineHeight:\"20px\",display:\"inline-block\",width:t.width+40,verticalAlign:\"top\",marginRight:\"5px\",textAlign:\"right\"},c={lineHeight:\"20px\",display:\"inline-block\",width:t.width+40,verticalAlign:\"top\",marginLeft:\"5px\"};return o.effect<0?(i=e.createElement(\"span\",{style:c},u),s.width=40+t.width-t.scale(Math.abs(o.effect)),s.textAlign=\"right\",s.color=\"#999\",s.fontSize=\"13px\",a=e.createElement(\"span\",{style:s},t.effectFormat(o.effect))):(s.textAlign=\"right\",a=e.createElement(\"span\",{style:s},u),c.width=40,c.textAlign=\"left\",c.color=\"#999\",c.fontSize=\"13px\",i=e.createElement(\"span\",{style:c},t.effectFormat(o.effect))),e.createElement(\"div\",{key:r,style:{marginTop:\"2px\"}},a,e.createElement(\"div\",{style:l}),i)}));return e.createElement(\"span\",null,r)}}])&&Ie(n.prototype,r),Object.defineProperty(n,\"prototype\",{writable:!1}),u}(e.Component);Ve.defaultProps={plot_cmap:\"RdBu\"};const He=Ve;function qe(){}function Qe(e){return null==e?qe:function(){return this.querySelector(e)}}function Ye(){return[]}function Ge(e){return function(t){return t.matches(e)}}var Ke=Array.prototype.find;function Ze(){return this.firstElementChild}var Xe=Array.prototype.filter;function Je(){return Array.from(this.children)}function et(e){return new Array(e.length)}function tt(e,t){this.ownerDocument=e.ownerDocument,this.namespaceURI=e.namespaceURI,this._next=null,this._parent=e,this.__data__=t}function nt(e,t,n,r,a,i){for(var o,u=0,l=t.length,s=i.length;u<s;++u)(o=t[u])?(o.__data__=i[u],r[u]=o):n[u]=new tt(e,i[u]);for(;u<l;++u)(o=t[u])&&(a[u]=o)}function rt(e,t,n,r,a,i,o){var u,l,s,c=new Map,f=t.length,p=i.length,d=new Array(f);for(u=0;u<f;++u)(l=t[u])&&(d[u]=s=o.call(l,l.__data__,u,t)+\"\",c.has(s)?a[u]=l:c.set(s,l));for(u=0;u<p;++u)s=o.call(e,i[u],u,i)+\"\",(l=c.get(s))?(r[u]=l,l.__data__=i[u],c.delete(s)):n[u]=new tt(e,i[u]);for(u=0;u<f;++u)(l=t[u])&&c.get(d[u])===l&&(a[u]=l)}function at(e){return e.__data__}function it(e){return\"object\"==typeof e&&\"length\"in e?e:Array.from(e)}function ot(e,t){return e<t?-1:e>t?1:e>=t?0:NaN}tt.prototype={constructor:tt,appendChild:function(e){return this._parent.insertBefore(e,this._next)},insertBefore:function(e,t){return this._parent.insertBefore(e,t)},querySelector:function(e){return this._parent.querySelector(e)},querySelectorAll:function(e){return this._parent.querySelectorAll(e)}};var ut=\"http://www.w3.org/1999/xhtml\";const lt={svg:\"http://www.w3.org/2000/svg\",xhtml:ut,xlink:\"http://www.w3.org/1999/xlink\",xml:\"http://www.w3.org/XML/1998/namespace\",xmlns:\"http://www.w3.org/2000/xmlns/\"};function st(e){var t=e+=\"\",n=t.indexOf(\":\");return n>=0&&\"xmlns\"!==(t=e.slice(0,n))&&(e=e.slice(n+1)),lt.hasOwnProperty(t)?{space:lt[t],local:e}:e}function ct(e){return function(){this.removeAttribute(e)}}function ft(e){return function(){this.removeAttributeNS(e.space,e.local)}}function pt(e,t){return function(){this.setAttribute(e,t)}}function dt(e,t){return function(){this.setAttributeNS(e.space,e.local,t)}}function ht(e,t){return function(){var n=t.apply(this,arguments);null==n?this.removeAttribute(e):this.setAttribute(e,n)}}function vt(e,t){return function(){var n=t.apply(this,arguments);null==n?this.removeAttributeNS(e.space,e.local):this.setAttributeNS(e.space,e.local,n)}}function gt(e){return e.ownerDocument&&e.ownerDocument.defaultView||e.document&&e||e.defaultView}function yt(e){return function(){this.style.removeProperty(e)}}function mt(e,t,n){return function(){this.style.setProperty(e,t,n)}}function bt(e,t,n){return function(){var r=t.apply(this,arguments);null==r?this.style.removeProperty(e):this.style.setProperty(e,r,n)}}function _t(e){return function(){delete this[e]}}function wt(e,t){return function(){this[e]=t}}function xt(e,t){return function(){var n=t.apply(this,arguments);null==n?delete this[e]:this[e]=n}}function kt(e){return e.trim().split(/^|\\s+/)}function St(e){return e.classList||new Et(e)}function Et(e){this._node=e,this._names=kt(e.getAttribute(\"class\")||\"\")}function Ct(e,t){for(var n=St(e),r=-1,a=t.length;++r<a;)n.add(t[r])}function Tt(e,t){for(var n=St(e),r=-1,a=t.length;++r<a;)n.remove(t[r])}function Mt(e){return function(){Ct(this,e)}}function Nt(e){return function(){Tt(this,e)}}function Pt(e,t){return function(){(t.apply(this,arguments)?Ct:Tt)(this,e)}}function zt(){this.textContent=\"\"}function Lt(e){return function(){this.textContent=e}}function Ot(e){return function(){var t=e.apply(this,arguments);this.textContent=null==t?\"\":t}}function At(){this.innerHTML=\"\"}function Ft(e){return function(){this.innerHTML=e}}function Dt(e){return function(){var t=e.apply(this,arguments);this.innerHTML=null==t?\"\":t}}function Rt(){this.nextSibling&&this.parentNode.appendChild(this)}function jt(){this.previousSibling&&this.parentNode.insertBefore(this,this.parentNode.firstChild)}function Ut(e){return function(){var t=this.ownerDocument,n=this.namespaceURI;return n===ut&&t.documentElement.namespaceURI===ut?t.createElement(e):t.createElementNS(n,e)}}function It(e){return function(){return this.ownerDocument.createElementNS(e.space,e.local)}}function $t(e){var t=st(e);return(t.local?It:Ut)(t)}function Bt(){return null}function Wt(){var e=this.parentNode;e&&e.removeChild(this)}function Vt(){var e=this.cloneNode(!1),t=this.parentNode;return t?t.insertBefore(e,this.nextSibling):e}function Ht(){var e=this.cloneNode(!0),t=this.parentNode;return t?t.insertBefore(e,this.nextSibling):e}function qt(e){return function(){var t=this.__on;if(t){for(var n,r=0,a=-1,i=t.length;r<i;++r)n=t[r],e.type&&n.type!==e.type||n.name!==e.name?t[++a]=n:this.removeEventListener(n.type,n.listener,n.options);++a?t.length=a:delete this.__on}}}function Qt(e,t,n){return function(){var r,a=this.__on,i=function(e){return function(t){e.call(this,t,this.__data__)}}(t);if(a)for(var o=0,u=a.length;o<u;++o)if((r=a[o]).type===e.type&&r.name===e.name)return this.removeEventListener(r.type,r.listener,r.options),this.addEventListener(r.type,r.listener=i,r.options=n),void(r.value=t);this.addEventListener(e.type,i,n),r={type:e.type,name:e.name,value:t,listener:i,options:n},a?a.push(r):this.__on=[r]}}function Yt(e,t,n){var r=gt(e),a=r.CustomEvent;\"function\"==typeof a?a=new a(t,n):(a=r.document.createEvent(\"Event\"),n?(a.initEvent(t,n.bubbles,n.cancelable),a.detail=n.detail):a.initEvent(t,!1,!1)),e.dispatchEvent(a)}function Gt(e,t){return function(){return Yt(this,e,t)}}function Kt(e,t){return function(){return Yt(this,e,t.apply(this,arguments))}}Et.prototype={add:function(e){this._names.indexOf(e)<0&&(this._names.push(e),this._node.setAttribute(\"class\",this._names.join(\" \")))},remove:function(e){var t=this._names.indexOf(e);t>=0&&(this._names.splice(t,1),this._node.setAttribute(\"class\",this._names.join(\" \")))},contains:function(e){return this._names.indexOf(e)>=0}};var Zt=[null];function Xt(e,t){this._groups=e,this._parents=t}function Jt(e){return\"string\"==typeof e?new Xt([[document.querySelector(e)]],[document.documentElement]):new Xt([[e]],Zt)}function en(e){return e}Xt.prototype=function(){return new Xt([[document.documentElement]],Zt)}.prototype={constructor:Xt,select:function(e){\"function\"!=typeof e&&(e=Qe(e));for(var t=this._groups,n=t.length,r=new Array(n),a=0;a<n;++a)for(var i,o,u=t[a],l=u.length,s=r[a]=new Array(l),c=0;c<l;++c)(i=u[c])&&(o=e.call(i,i.__data__,c,u))&&(\"__data__\"in i&&(o.__data__=i.__data__),s[c]=o);return new Xt(r,this._parents)},selectAll:function(e){e=\"function\"==typeof e?function(e){return function(){return null==(t=e.apply(this,arguments))?[]:Array.isArray(t)?t:Array.from(t);var t}}(e):function(e){return null==e?Ye:function(){return this.querySelectorAll(e)}}(e);for(var t=this._groups,n=t.length,r=[],a=[],i=0;i<n;++i)for(var o,u=t[i],l=u.length,s=0;s<l;++s)(o=u[s])&&(r.push(e.call(o,o.__data__,s,u)),a.push(o));return new Xt(r,a)},selectChild:function(e){return this.select(null==e?Ze:function(e){return function(){return Ke.call(this.children,e)}}(\"function\"==typeof e?e:Ge(e)))},selectChildren:function(e){return this.selectAll(null==e?Je:function(e){return function(){return Xe.call(this.children,e)}}(\"function\"==typeof e?e:Ge(e)))},filter:function(e){\"function\"!=typeof e&&(e=function(e){return function(){return this.matches(e)}}(e));for(var t=this._groups,n=t.length,r=new Array(n),a=0;a<n;++a)for(var i,o=t[a],u=o.length,l=r[a]=[],s=0;s<u;++s)(i=o[s])&&e.call(i,i.__data__,s,o)&&l.push(i);return new Xt(r,this._parents)},data:function(e,t){if(!arguments.length)return Array.from(this,at);var n,r=t?rt:nt,a=this._parents,i=this._groups;\"function\"!=typeof e&&(n=e,e=function(){return n});for(var o=i.length,u=new Array(o),l=new Array(o),s=new Array(o),c=0;c<o;++c){var f=a[c],p=i[c],d=p.length,h=it(e.call(f,f&&f.__data__,c,a)),v=h.length,g=l[c]=new Array(v),y=u[c]=new Array(v);r(f,p,g,y,s[c]=new Array(d),h,t);for(var m,b,_=0,w=0;_<v;++_)if(m=g[_]){for(_>=w&&(w=_+1);!(b=y[w])&&++w<v;);m._next=b||null}}return(u=new Xt(u,a))._enter=l,u._exit=s,u},enter:function(){return new Xt(this._enter||this._groups.map(et),this._parents)},exit:function(){return new Xt(this._exit||this._groups.map(et),this._parents)},join:function(e,t,n){var r=this.enter(),a=this,i=this.exit();return\"function\"==typeof e?(r=e(r))&&(r=r.selection()):r=r.append(e+\"\"),null!=t&&(a=t(a))&&(a=a.selection()),null==n?i.remove():n(i),r&&a?r.merge(a).order():a},merge:function(e){for(var t=e.selection?e.selection():e,n=this._groups,r=t._groups,a=n.length,i=r.length,o=Math.min(a,i),u=new Array(a),l=0;l<o;++l)for(var s,c=n[l],f=r[l],p=c.length,d=u[l]=new Array(p),h=0;h<p;++h)(s=c[h]||f[h])&&(d[h]=s);for(;l<a;++l)u[l]=n[l];return new Xt(u,this._parents)},selection:function(){return this},order:function(){for(var e=this._groups,t=-1,n=e.length;++t<n;)for(var r,a=e[t],i=a.length-1,o=a[i];--i>=0;)(r=a[i])&&(o&&4^r.compareDocumentPosition(o)&&o.parentNode.insertBefore(r,o),o=r);return this},sort:function(e){function t(t,n){return t&&n?e(t.__data__,n.__data__):!t-!n}e||(e=ot);for(var n=this._groups,r=n.length,a=new Array(r),i=0;i<r;++i){for(var o,u=n[i],l=u.length,s=a[i]=new Array(l),c=0;c<l;++c)(o=u[c])&&(s[c]=o);s.sort(t)}return new Xt(a,this._parents).order()},call:function(){var e=arguments[0];return arguments[0]=this,e.apply(null,arguments),this},nodes:function(){return Array.from(this)},node:function(){for(var e=this._groups,t=0,n=e.length;t<n;++t)for(var r=e[t],a=0,i=r.length;a<i;++a){var o=r[a];if(o)return o}return null},size:function(){let e=0;for(const t of this)++e;return e},empty:function(){return!this.node()},each:function(e){for(var t=this._groups,n=0,r=t.length;n<r;++n)for(var a,i=t[n],o=0,u=i.length;o<u;++o)(a=i[o])&&e.call(a,a.__data__,o,i);return this},attr:function(e,t){var n=st(e);if(arguments.length<2){var r=this.node();return n.local?r.getAttributeNS(n.space,n.local):r.getAttribute(n)}return this.each((null==t?n.local?ft:ct:\"function\"==typeof t?n.local?vt:ht:n.local?dt:pt)(n,t))},style:function(e,t,n){return arguments.length>1?this.each((null==t?yt:\"function\"==typeof t?bt:mt)(e,t,null==n?\"\":n)):function(e,t){return e.style.getPropertyValue(t)||gt(e).getComputedStyle(e,null).getPropertyValue(t)}(this.node(),e)},property:function(e,t){return arguments.length>1?this.each((null==t?_t:\"function\"==typeof t?xt:wt)(e,t)):this.node()[e]},classed:function(e,t){var n=kt(e+\"\");if(arguments.length<2){for(var r=St(this.node()),a=-1,i=n.length;++a<i;)if(!r.contains(n[a]))return!1;return!0}return this.each((\"function\"==typeof t?Pt:t?Mt:Nt)(n,t))},text:function(e){return arguments.length?this.each(null==e?zt:(\"function\"==typeof e?Ot:Lt)(e)):this.node().textContent},html:function(e){return arguments.length?this.each(null==e?At:(\"function\"==typeof e?Dt:Ft)(e)):this.node().innerHTML},raise:function(){return this.each(Rt)},lower:function(){return this.each(jt)},append:function(e){var t=\"function\"==typeof e?e:$t(e);return this.select((function(){return this.appendChild(t.apply(this,arguments))}))},insert:function(e,t){var n=\"function\"==typeof e?e:$t(e),r=null==t?Bt:\"function\"==typeof t?t:Qe(t);return this.select((function(){return this.insertBefore(n.apply(this,arguments),r.apply(this,arguments)||null)}))},remove:function(){return this.each(Wt)},clone:function(e){return this.select(e?Ht:Vt)},datum:function(e){return arguments.length?this.property(\"__data__\",e):this.node().__data__},on:function(e,t,n){var r,a,i=function(e){return e.trim().split(/^|\\s+/).map((function(e){var t=\"\",n=e.indexOf(\".\");return n>=0&&(t=e.slice(n+1),e=e.slice(0,n)),{type:e,name:t}}))}(e+\"\"),o=i.length;if(!(arguments.length<2)){for(u=t?Qt:qt,r=0;r<o;++r)this.each(u(i[r],t,n));return this}var u=this.node().__on;if(u)for(var l,s=0,c=u.length;s<c;++s)for(r=0,l=u[s];r<o;++r)if((a=i[r]).type===l.type&&a.name===l.name)return l.value},dispatch:function(e,t){return this.each((\"function\"==typeof t?Kt:Gt)(e,t))},[Symbol.iterator]:function*(){for(var e=this._groups,t=0,n=e.length;t<n;++t)for(var r,a=e[t],i=0,o=a.length;i<o;++i)(r=a[i])&&(yield r)}};var tn=1,nn=2,rn=3,an=4,on=1e-6;function un(e){return\"translate(\"+e+\",0)\"}function ln(e){return\"translate(0,\"+e+\")\"}function sn(e){return t=>+e(t)}function cn(e,t){return t=Math.max(0,e.bandwidth()-2*t)/2,e.round()&&(t=Math.round(t)),n=>+e(n)+t}function fn(){return!this.__axis}function pn(e,t){var n=[],r=null,a=null,i=6,o=6,u=3,l=\"undefined\"!=typeof window&&window.devicePixelRatio>1?0:.5,s=e===tn||e===an?-1:1,c=e===an||e===nn?\"x\":\"y\",f=e===tn||e===rn?un:ln;function p(p){var d=null==r?t.ticks?t.ticks.apply(t,n):t.domain():r,h=null==a?t.tickFormat?t.tickFormat.apply(t,n):en:a,v=Math.max(i,0)+u,g=t.range(),y=+g[0]+l,m=+g[g.length-1]+l,b=(t.bandwidth?cn:sn)(t.copy(),l),_=p.selection?p.selection():p,w=_.selectAll(\".domain\").data([null]),x=_.selectAll(\".tick\").data(d,t).order(),k=x.exit(),S=x.enter().append(\"g\").attr(\"class\",\"tick\"),E=x.select(\"line\"),C=x.select(\"text\");w=w.merge(w.enter().insert(\"path\",\".tick\").attr(\"class\",\"domain\").attr(\"stroke\",\"currentColor\")),x=x.merge(S),E=E.merge(S.append(\"line\").attr(\"stroke\",\"currentColor\").attr(c+\"2\",s*i)),C=C.merge(S.append(\"text\").attr(\"fill\",\"currentColor\").attr(c,s*v).attr(\"dy\",e===tn?\"0em\":e===rn?\"0.71em\":\"0.32em\")),p!==_&&(w=w.transition(p),x=x.transition(p),E=E.transition(p),C=C.transition(p),k=k.transition(p).attr(\"opacity\",on).attr(\"transform\",(function(e){return isFinite(e=b(e))?f(e+l):this.getAttribute(\"transform\")})),S.attr(\"opacity\",on).attr(\"transform\",(function(e){var t=this.parentNode.__axis;return f((t&&isFinite(t=t(e))?t:b(e))+l)}))),k.remove(),w.attr(\"d\",e===an||e===nn?o?\"M\"+s*o+\",\"+y+\"H\"+l+\"V\"+m+\"H\"+s*o:\"M\"+l+\",\"+y+\"V\"+m:o?\"M\"+y+\",\"+s*o+\"V\"+l+\"H\"+m+\"V\"+s*o:\"M\"+y+\",\"+l+\"H\"+m),x.attr(\"opacity\",1).attr(\"transform\",(function(e){return f(b(e)+l)})),E.attr(c+\"2\",s*i),C.attr(c,s*v).text(h),_.filter(fn).attr(\"fill\",\"none\").attr(\"font-size\",10).attr(\"font-family\",\"sans-serif\").attr(\"text-anchor\",e===nn?\"start\":e===an?\"end\":\"middle\"),_.each((function(){this.__axis=b}))}return p.scale=function(e){return arguments.length?(t=e,p):t},p.ticks=function(){return n=Array.from(arguments),p},p.tickArguments=function(e){return arguments.length?(n=null==e?[]:Array.from(e),p):n.slice()},p.tickValues=function(e){return arguments.length?(r=null==e?null:Array.from(e),p):r&&r.slice()},p.tickFormat=function(e){return arguments.length?(a=e,p):a},p.tickSize=function(e){return arguments.length?(i=o=+e,p):i},p.tickSizeInner=function(e){return arguments.length?(i=+e,p):i},p.tickSizeOuter=function(e){return arguments.length?(o=+e,p):o},p.tickPadding=function(e){return arguments.length?(u=+e,p):u},p.offset=function(e){return arguments.length?(l=+e,p):l},p}function dn(e){return pn(rn,e)}function hn(e){return function(){return e}}function vn(e){this._context=e}function gn(e){return new vn(e)}Array.prototype.slice,vn.prototype={areaStart:function(){this._line=0},areaEnd:function(){this._line=NaN},lineStart:function(){this._point=0},lineEnd:function(){(this._line||0!==this._line&&1===this._point)&&this._context.closePath(),this._line=1-this._line},point:function(e,t){switch(e=+e,t=+t,this._point){case 0:this._point=1,this._line?this._context.lineTo(e,t):this._context.moveTo(e,t);break;case 1:this._point=2;default:this._context.lineTo(e,t)}}};const yn=Math.PI,mn=2*yn,bn=1e-6,_n=mn-bn;function wn(e){this._+=e[0];for(let t=1,n=e.length;t<n;++t)this._+=arguments[t]+e[t]}class xn{constructor(e){this._x0=this._y0=this._x1=this._y1=null,this._=\"\",this._append=null==e?wn:function(e){let t=Math.floor(e);if(!(t>=0))throw new Error(`invalid digits: ${e}`);if(t>15)return wn;const n=10**t;return function(e){this._+=e[0];for(let t=1,r=e.length;t<r;++t)this._+=Math.round(arguments[t]*n)/n+e[t]}}(e)}moveTo(e,t){this._append`M${this._x0=this._x1=+e},${this._y0=this._y1=+t}`}closePath(){null!==this._x1&&(this._x1=this._x0,this._y1=this._y0,this._append`Z`)}lineTo(e,t){this._append`L${this._x1=+e},${this._y1=+t}`}quadraticCurveTo(e,t,n,r){this._append`Q${+e},${+t},${this._x1=+n},${this._y1=+r}`}bezierCurveTo(e,t,n,r,a,i){this._append`C${+e},${+t},${+n},${+r},${this._x1=+a},${this._y1=+i}`}arcTo(e,t,n,r,a){if(e=+e,t=+t,n=+n,r=+r,(a=+a)<0)throw new Error(`negative radius: ${a}`);let i=this._x1,o=this._y1,u=n-e,l=r-t,s=i-e,c=o-t,f=s*s+c*c;if(null===this._x1)this._append`M${this._x1=e},${this._y1=t}`;else if(f>bn)if(Math.abs(c*u-l*s)>bn&&a){let p=n-i,d=r-o,h=u*u+l*l,v=p*p+d*d,g=Math.sqrt(h),y=Math.sqrt(f),m=a*Math.tan((yn-Math.acos((h+f-v)/(2*g*y)))/2),b=m/y,_=m/g;Math.abs(b-1)>bn&&this._append`L${e+b*s},${t+b*c}`,this._append`A${a},${a},0,0,${+(c*p>s*d)},${this._x1=e+_*u},${this._y1=t+_*l}`}else this._append`L${this._x1=e},${this._y1=t}`}arc(e,t,n,r,a,i){if(e=+e,t=+t,i=!!i,(n=+n)<0)throw new Error(`negative radius: ${n}`);let o=n*Math.cos(r),u=n*Math.sin(r),l=e+o,s=t+u,c=1^i,f=i?r-a:a-r;null===this._x1?this._append`M${l},${s}`:(Math.abs(this._x1-l)>bn||Math.abs(this._y1-s)>bn)&&this._append`L${l},${s}`,n&&(f<0&&(f=f%mn+mn),f>_n?this._append`A${n},${n},0,1,${c},${e-o},${t-u}A${n},${n},0,1,${c},${this._x1=l},${this._y1=s}`:f>bn&&this._append`A${n},${n},0,${+(f>=yn)},${c},${this._x1=e+n*Math.cos(a)},${this._y1=t+n*Math.sin(a)}`)}rect(e,t,n,r){this._append`M${this._x0=this._x1=+e},${this._y0=this._y1=+t}h${n=+n}v${+r}h${-n}Z`}toString(){return this._}}function kn(e){return e[0]}function Sn(e){return e[1]}function En(e,t){var n=hn(!0),r=null,a=gn,i=null,o=function(e){let t=3;return e.digits=function(n){if(!arguments.length)return t;if(null==n)t=null;else{const e=Math.floor(n);if(!(e>=0))throw new RangeError(`invalid digits: ${n}`);t=e}return e},()=>new xn(t)}(u);function u(u){var l,s,c,f=(u=function(e){return\"object\"==typeof e&&\"length\"in e?e:Array.from(e)}(u)).length,p=!1;for(null==r&&(i=a(c=o())),l=0;l<=f;++l)!(l<f&&n(s=u[l],l,u))===p&&((p=!p)?i.lineStart():i.lineEnd()),p&&i.point(+e(s,l,u),+t(s,l,u));if(c)return i=null,c+\"\"||null}return e=\"function\"==typeof e?e:void 0===e?kn:hn(e),t=\"function\"==typeof t?t:void 0===t?Sn:hn(t),u.x=function(t){return arguments.length?(e=\"function\"==typeof t?t:hn(+t),u):e},u.y=function(e){return arguments.length?(t=\"function\"==typeof e?e:hn(+e),u):t},u.defined=function(e){return arguments.length?(n=\"function\"==typeof e?e:hn(!!e),u):n},u.curve=function(e){return arguments.length?(a=e,null!=r&&(i=a(r)),u):a},u.context=function(e){return arguments.length?(null==e?r=i=null:i=a(r=e),u):r},u}function Cn(e){return Cn=\"function\"==typeof Symbol&&\"symbol\"==typeof Symbol.iterator?function(e){return typeof e}:function(e){return e&&\"function\"==typeof Symbol&&e.constructor===Symbol&&e!==Symbol.prototype?\"symbol\":typeof e},Cn(e)}function Tn(e,t){for(var n=0;n<t.length;n++){var r=t[n];r.enumerable=r.enumerable||!1,r.configurable=!0,\"value\"in r&&(r.writable=!0),Object.defineProperty(e,(void 0,a=function(e,t){if(\"object\"!==Cn(e)||null===e)return e;var n=e[Symbol.toPrimitive];if(void 0!==n){var r=n.call(e,\"string\");if(\"object\"!==Cn(r))return r;throw new TypeError(\"@@toPrimitive must return a primitive value.\")}return String(e)}(r.key),\"symbol\"===Cn(a)?a:String(a)),r)}var a}function Mn(e,t){return Mn=Object.setPrototypeOf?Object.setPrototypeOf.bind():function(e,t){return e.__proto__=t,e},Mn(e,t)}function Nn(e){if(void 0===e)throw new ReferenceError(\"this hasn't been initialised - super() hasn't been called\");return e}function Pn(e){return Pn=Object.setPrototypeOf?Object.getPrototypeOf.bind():function(e){return e.__proto__||Object.getPrototypeOf(e)},Pn(e)}var zn=function(t){!function(e,t){if(\"function\"!=typeof t&&null!==t)throw new TypeError(\"Super expression must either be null or a function\");e.prototype=Object.create(t&&t.prototype,{constructor:{value:e,writable:!0,configurable:!0}}),Object.defineProperty(e,\"prototype\",{writable:!1}),t&&Mn(e,t)}(u,t);var n,r,a,i,o=(a=u,i=function(){if(\"undefined\"==typeof Reflect||!Reflect.construct)return!1;if(Reflect.construct.sham)return!1;if(\"function\"==typeof Proxy)return!0;try{return Boolean.prototype.valueOf.call(Reflect.construct(Boolean,[],(function(){}))),!0}catch(e){return!1}}(),function(){var e,t=Pn(a);if(i){var n=Pn(this).constructor;e=Reflect.construct(t,arguments,n)}else e=t.apply(this,arguments);return function(e,t){if(t&&(\"object\"===Cn(t)||\"function\"==typeof t))return t;if(void 0!==t)throw new TypeError(\"Derived constructors may only return object or undefined\");return Nn(e)}(this,e)});function u(){var e;return function(e,t){if(!(e instanceof t))throw new TypeError(\"Cannot call a class as a function\")}(this,u),e=o.call(this),window.lastAdditiveForceVisualizer=Nn(e),e.effectFormat=ze(\".2\"),e.redraw=(0,Re.debounce)((function(){return e.draw()}),200),e}return n=u,(r=[{key:\"componentDidMount\",value:function(){var e=this;this.mainGroup=this.svg.append(\"g\"),this.axisElement=this.mainGroup.append(\"g\").attr(\"transform\",\"translate(0,35)\").attr(\"class\",\"force-bar-axis\"),this.onTopGroup=this.svg.append(\"g\"),this.baseValueTitle=this.svg.append(\"text\"),this.joinPointLine=this.svg.append(\"line\"),this.joinPointLabelOutline=this.svg.append(\"text\"),this.joinPointLabel=this.svg.append(\"text\"),this.joinPointTitleLeft=this.svg.append(\"text\"),this.joinPointTitleLeftArrow=this.svg.append(\"text\"),this.joinPointTitle=this.svg.append(\"text\"),this.joinPointTitleRightArrow=this.svg.append(\"text\"),this.joinPointTitleRight=this.svg.append(\"text\"),this.hoverLabelBacking=this.svg.append(\"text\").attr(\"x\",10).attr(\"y\",20).attr(\"text-anchor\",\"middle\").attr(\"font-size\",12).attr(\"stroke\",\"#fff\").attr(\"fill\",\"#fff\").attr(\"stroke-width\",\"4\").attr(\"stroke-linejoin\",\"round\").text(\"\").on(\"mouseover\",(function(){e.hoverLabel.attr(\"opacity\",1),e.hoverLabelBacking.attr(\"opacity\",1)})).on(\"mouseout\",(function(){e.hoverLabel.attr(\"opacity\",0),e.hoverLabelBacking.attr(\"opacity\",0)})),this.hoverLabel=this.svg.append(\"text\").attr(\"x\",10).attr(\"y\",20).attr(\"text-anchor\",\"middle\").attr(\"font-size\",12).attr(\"fill\",\"#0f0\").text(\"\").on(\"mouseover\",(function(){e.hoverLabel.attr(\"opacity\",1),e.hoverLabelBacking.attr(\"opacity\",1)})).on(\"mouseout\",(function(){e.hoverLabel.attr(\"opacity\",0),e.hoverLabelBacking.attr(\"opacity\",0)}));var t=void 0;\"string\"==typeof this.props.plot_cmap?this.props.plot_cmap in je.colors?t=je.colors[this.props.plot_cmap]:(console.log(\"Invalid color map name, reverting to default.\"),t=je.colors.RdBu):Array.isArray(this.props.plot_cmap)&&(t=this.props.plot_cmap),this.colors=t.map((function(e){return q(e)})),this.brighterColors=[1.45,1.6].map((function(t,n){return e.colors[n].brighter(t)})),this.colors.map((function(t,n){var r=e.svg.append(\"linearGradient\").attr(\"id\",\"linear-grad-\"+n).attr(\"x1\",\"0%\").attr(\"y1\",\"0%\").attr(\"x2\",\"0%\").attr(\"y2\",\"100%\");r.append(\"stop\").attr(\"offset\",\"0%\").attr(\"stop-color\",t).attr(\"stop-opacity\",.6),r.append(\"stop\").attr(\"offset\",\"100%\").attr(\"stop-color\",t).attr(\"stop-opacity\",0);var a=e.svg.append(\"linearGradient\").attr(\"id\",\"linear-backgrad-\"+n).attr(\"x1\",\"0%\").attr(\"y1\",\"0%\").attr(\"x2\",\"0%\").attr(\"y2\",\"100%\");a.append(\"stop\").attr(\"offset\",\"0%\").attr(\"stop-color\",t).attr(\"stop-opacity\",.5),a.append(\"stop\").attr(\"offset\",\"100%\").attr(\"stop-color\",t).attr(\"stop-opacity\",0)})),this.tickFormat=ze(\",.4\"),this.scaleCentered=De(),this.axis=dn().scale(this.scaleCentered).tickSizeInner(4).tickSizeOuter(0).tickFormat((function(t){return e.tickFormat(e.invLinkFunction(t))})).tickPadding(-18),window.addEventListener(\"resize\",this.redraw),window.setTimeout(this.redraw,50)}},{key:\"componentDidUpdate\",value:function(){this.draw()}},{key:\"draw\",value:function(){var e=this;(0,Re.each)(this.props.featureNames,(function(t,n){e.props.features[n]&&(e.props.features[n].name=t)})),\"identity\"===this.props.link?this.invLinkFunction=function(t){return e.props.baseValue+t}:\"logit\"===this.props.link?this.invLinkFunction=function(t){return 1/(1+Math.exp(-(e.props.baseValue+t)))}:console.log(\"ERROR: Unrecognized link function: \",this.props.link);var t=this.svg.node().parentNode.offsetWidth;if(0==t)return setTimeout((function(){return e.draw(e.props)}),500);this.svg.style(\"height\",\"150px\"),this.svg.style(\"width\",t+\"px\");var n=(0,Re.sortBy)(this.props.features,(function(e){return-1/(e.effect+1e-10)})),r=(0,Re.sum)((0,Re.map)(n,(function(e){return Math.abs(e.effect)}))),a=(0,Re.sum)((0,Re.map)((0,Re.filter)(n,(function(e){return e.effect>0})),(function(e){return e.effect})))||0,i=(0,Re.sum)((0,Re.map)((0,Re.filter)(n,(function(e){return e.effect<0})),(function(e){return-e.effect})))||0;this.domainSize=3*Math.max(a,i);var o=De().domain([0,this.domainSize]).range([0,t]),u=t/2-o(i);this.scaleCentered.domain([-this.domainSize/2,this.domainSize/2]).range([0,t]).clamp(!0),this.axisElement.attr(\"transform\",\"translate(0,50)\").call(this.axis);var l,s,c,f=0;for(l=0;l<n.length;++l)n[l].x=f,n[l].effect<0&&void 0===s&&(s=f,c=l),f+=Math.abs(n[l].effect);void 0===s&&(s=f,c=l);var p=En().x((function(e){return e[0]})).y((function(e){return e[1]})),d=function(t){return void 0!==t.value&&null!==t.value&&\"\"!==t.value?t.name+\" = \"+(isNaN(t.value)?t.value:e.tickFormat(t.value)):t.name};n=this.props.hideBars?[]:n;var h=this.mainGroup.selectAll(\".force-bar-blocks\").data(n);h.enter().append(\"path\").attr(\"class\",\"force-bar-blocks\").merge(h).attr(\"d\",(function(e,t){var n=o(e.x)+u,r=o(Math.abs(e.effect)),a=e.effect<0?-4:4,i=a;return t===c&&(a=0),t===c-1&&(i=0),p([[n,56],[n+r,56],[n+r+i,64.5],[n+r,73],[n,73],[n+a,64.5]])})).attr(\"fill\",(function(t){return t.effect>0?e.colors[0]:e.colors[1]})).on(\"mouseover\",(function(t){if(o(Math.abs(t.effect))<o(r)/50||o(Math.abs(t.effect))<10){var n=o(t.x)+u,a=o(Math.abs(t.effect));e.hoverLabel.attr(\"opacity\",1).attr(\"x\",n+a/2).attr(\"y\",50.5).attr(\"fill\",t.effect>0?e.colors[0]:e.colors[1]).text(d(t)),e.hoverLabelBacking.attr(\"opacity\",1).attr(\"x\",n+a/2).attr(\"y\",50.5).text(d(t))}})).on(\"mouseout\",(function(){e.hoverLabel.attr(\"opacity\",0),e.hoverLabelBacking.attr(\"opacity\",0)})),h.exit().remove();var v=(0,Re.filter)(n,(function(e){return o(Math.abs(e.effect))>o(r)/50&&o(Math.abs(e.effect))>10})),g=this.onTopGroup.selectAll(\".force-bar-labels\").data(v);if(g.exit().remove(),g=g.enter().append(\"text\").attr(\"class\",\"force-bar-labels\").attr(\"font-size\",\"12px\").attr(\"y\",98).merge(g).text((function(t){return void 0!==t.value&&null!==t.value&&\"\"!==t.value?t.name+\" = \"+(isNaN(t.value)?t.value:e.tickFormat(t.value)):t.name})).attr(\"fill\",(function(t){return t.effect>0?e.colors[0]:e.colors[1]})).attr(\"stroke\",(function(e){return e.textWidth=Math.max(this.getComputedTextLength(),o(Math.abs(e.effect))-10),e.innerTextWidth=this.getComputedTextLength(),\"none\"})),this.filteredData=v,n.length>0){f=s+o.invert(5);for(var y=c;y<n.length;++y)n[y].textx=f,f+=o.invert(n[y].textWidth+10);f=s-o.invert(5);for(var m=c-1;m>=0;--m)n[m].textx=f,f-=o.invert(n[m].textWidth+10)}g.attr(\"x\",(function(e){return o(e.textx)+u+(e.effect>0?-e.textWidth/2:e.textWidth/2)})).attr(\"text-anchor\",\"middle\"),v=(0,Re.filter)(v,(function(n){return o(n.textx)+u>e.props.labelMargin&&o(n.textx)+u<t-e.props.labelMargin})),this.filteredData2=v;var b=v.slice(),_=(0,Re.findIndex)(n,v[0])-1;_>=0&&b.unshift(n[_]);var w=this.mainGroup.selectAll(\".force-bar-labelBacking\").data(v);w.enter().append(\"path\").attr(\"class\",\"force-bar-labelBacking\").attr(\"stroke\",\"none\").attr(\"opacity\",.2).merge(w).attr(\"d\",(function(e){return p([[o(e.x)+o(Math.abs(e.effect))+u,73],[(e.effect>0?o(e.textx):o(e.textx)+e.textWidth)+u+5,83],[(e.effect>0?o(e.textx):o(e.textx)+e.textWidth)+u+5,104],[(e.effect>0?o(e.textx)-e.textWidth:o(e.textx))+u-5,104],[(e.effect>0?o(e.textx)-e.textWidth:o(e.textx))+u-5,83],[o(e.x)+u,73]])})).attr(\"fill\",(function(e){return\"url(#linear-backgrad-\".concat(e.effect>0?0:1,\")\")})),w.exit().remove();var x=this.mainGroup.selectAll(\".force-bar-labelDividers\").data(v.slice(0,-1));x.enter().append(\"rect\").attr(\"class\",\"force-bar-labelDividers\").attr(\"height\",\"21px\").attr(\"width\",\"1px\").attr(\"y\",83).merge(x).attr(\"x\",(function(e){return(e.effect>0?o(e.textx):o(e.textx)+e.textWidth)+u+4.5})).attr(\"fill\",(function(e){return\"url(#linear-grad-\".concat(e.effect>0?0:1,\")\")})),x.exit().remove();var k=this.mainGroup.selectAll(\".force-bar-labelLinks\").data(v.slice(0,-1));k.enter().append(\"line\").attr(\"class\",\"force-bar-labelLinks\").attr(\"y1\",73).attr(\"y2\",83).attr(\"stroke-opacity\",.5).attr(\"stroke-width\",1).merge(k).attr(\"x1\",(function(e){return o(e.x)+o(Math.abs(e.effect))+u})).attr(\"x2\",(function(e){return(e.effect>0?o(e.textx):o(e.textx)+e.textWidth)+u+5})).attr(\"stroke\",(function(t){return t.effect>0?e.colors[0]:e.colors[1]})),k.exit().remove();var S=this.mainGroup.selectAll(\".force-bar-blockDividers\").data(n.slice(0,-1));S.enter().append(\"path\").attr(\"class\",\"force-bar-blockDividers\").attr(\"stroke-width\",2).attr(\"fill\",\"none\").merge(S).attr(\"d\",(function(e){var t=o(e.x)+o(Math.abs(e.effect))+u;return p([[t,56],[t+(e.effect<0?-4:4),64.5],[t,73]])})).attr(\"stroke\",(function(t,n){return c===n+1||Math.abs(t.effect)<1e-8?\"#rgba(0,0,0,0)\":t.effect>0?e.brighterColors[0]:e.brighterColors[1]})),S.exit().remove(),this.joinPointLine.attr(\"x1\",o(s)+u).attr(\"x2\",o(s)+u).attr(\"y1\",50).attr(\"y2\",56).attr(\"stroke\",\"#F2F2F2\").attr(\"stroke-width\",1).attr(\"opacity\",1),this.joinPointLabelOutline.attr(\"x\",o(s)+u).attr(\"y\",45).attr(\"color\",\"#fff\").attr(\"text-anchor\",\"middle\").attr(\"font-weight\",\"bold\").attr(\"stroke\",\"#fff\").attr(\"stroke-width\",6).text(ze(\",.2f\")(this.invLinkFunction(s-i))).attr(\"opacity\",1),console.log(\"joinPoint\",s,u,50,i),this.joinPointLabel.attr(\"x\",o(s)+u).attr(\"y\",45).attr(\"text-anchor\",\"middle\").attr(\"font-weight\",\"bold\").attr(\"fill\",\"#000\").text(ze(\",.2f\")(this.invLinkFunction(s-i))).attr(\"opacity\",1),this.joinPointTitle.attr(\"x\",o(s)+u).attr(\"y\",28).attr(\"text-anchor\",\"middle\").attr(\"font-size\",\"12\").attr(\"fill\",\"#000\").text(this.props.outNames[0]).attr(\"opacity\",.5),this.props.hideBars||(this.joinPointTitleLeft.attr(\"x\",o(s)+u-16).attr(\"y\",12).attr(\"text-anchor\",\"end\").attr(\"font-size\",\"13\").attr(\"fill\",this.colors[0]).text(\"higher\").attr(\"opacity\",1),this.joinPointTitleRight.attr(\"x\",o(s)+u+16).attr(\"y\",12).attr(\"text-anchor\",\"start\").attr(\"font-size\",\"13\").attr(\"fill\",this.colors[1]).text(\"lower\").attr(\"opacity\",1),this.joinPointTitleLeftArrow.attr(\"x\",o(s)+u+7).attr(\"y\",8).attr(\"text-anchor\",\"end\").attr(\"font-size\",\"13\").attr(\"fill\",this.colors[0]).text(\"→\").attr(\"opacity\",1),this.joinPointTitleRightArrow.attr(\"x\",o(s)+u-7).attr(\"y\",14).attr(\"text-anchor\",\"start\").attr(\"font-size\",\"13\").attr(\"fill\",this.colors[1]).text(\"←\").attr(\"opacity\",1)),this.props.hideBaseValueLabel||this.baseValueTitle.attr(\"x\",this.scaleCentered(0)).attr(\"y\",28).attr(\"text-anchor\",\"middle\").attr(\"font-size\",\"12\").attr(\"fill\",\"#000\").text(\"base value\").attr(\"opacity\",.5)}},{key:\"componentWillUnmount\",value:function(){window.removeEventListener(\"resize\",this.redraw)}},{key:\"render\",value:function(){var t=this;return e.createElement(\"svg\",{ref:function(e){return t.svg=Jt(e)},style:{userSelect:\"none\",display:\"block\",fontFamily:\"arial\",sansSerif:!0}},e.createElement(\"style\",{dangerouslySetInnerHTML:{__html:\"\\n          .force-bar-axis path {\\n            fill: none;\\n            opacity: 0.4;\\n          }\\n          .force-bar-axis paths {\\n            display: none;\\n          }\\n          .tick line {\\n            stroke: #000;\\n            stroke-width: 1px;\\n            opacity: 0.4;\\n          }\\n          .tick text {\\n            fill: #000;\\n            opacity: 0.5;\\n            font-size: 12px;\\n            padding: 0px;\\n          }\"}}))}}])&&Tn(n.prototype,r),Object.defineProperty(n,\"prototype\",{writable:!1}),u}(e.Component);zn.defaultProps={plot_cmap:\"RdBu\"};const Ln=zn,On=1e3,An=6e4,Fn=36e5,Dn=864e5,Rn=6048e5,jn=31536e6,Un=new Date,In=new Date;function $n(e,t,n,r){function a(t){return e(t=0===arguments.length?new Date:new Date(+t)),t}return a.floor=t=>(e(t=new Date(+t)),t),a.ceil=n=>(e(n=new Date(n-1)),t(n,1),e(n),n),a.round=e=>{const t=a(e),n=a.ceil(e);return e-t<n-e?t:n},a.offset=(e,n)=>(t(e=new Date(+e),null==n?1:Math.floor(n)),e),a.range=(n,r,i)=>{const o=[];if(n=a.ceil(n),i=null==i?1:Math.floor(i),!(n<r&&i>0))return o;let u;do{o.push(u=new Date(+n)),t(n,i),e(n)}while(u<n&&n<r);return o},a.filter=n=>$n((t=>{if(t>=t)for(;e(t),!n(t);)t.setTime(t-1)}),((e,r)=>{if(e>=e)if(r<0)for(;++r<=0;)for(;t(e,-1),!n(e););else for(;--r>=0;)for(;t(e,1),!n(e););})),n&&(a.count=(t,r)=>(Un.setTime(+t),In.setTime(+r),e(Un),e(In),Math.floor(n(Un,In))),a.every=e=>(e=Math.floor(e),isFinite(e)&&e>0?e>1?a.filter(r?t=>r(t)%e==0:t=>a.count(0,t)%e==0):a:null)),a}const Bn=$n((()=>{}),((e,t)=>{e.setTime(+e+t)}),((e,t)=>t-e));Bn.every=e=>(e=Math.floor(e),isFinite(e)&&e>0?e>1?$n((t=>{t.setTime(Math.floor(t/e)*e)}),((t,n)=>{t.setTime(+t+n*e)}),((t,n)=>(n-t)/e)):Bn:null),Bn.range;const Wn=$n((e=>{e.setTime(e-e.getMilliseconds())}),((e,t)=>{e.setTime(+e+t*On)}),((e,t)=>(t-e)/On),(e=>e.getUTCSeconds())),Vn=(Wn.range,$n((e=>{e.setTime(e-e.getMilliseconds()-e.getSeconds()*On)}),((e,t)=>{e.setTime(+e+t*An)}),((e,t)=>(t-e)/An),(e=>e.getMinutes()))),Hn=(Vn.range,$n((e=>{e.setUTCSeconds(0,0)}),((e,t)=>{e.setTime(+e+t*An)}),((e,t)=>(t-e)/An),(e=>e.getUTCMinutes()))),qn=(Hn.range,$n((e=>{e.setTime(e-e.getMilliseconds()-e.getSeconds()*On-e.getMinutes()*An)}),((e,t)=>{e.setTime(+e+t*Fn)}),((e,t)=>(t-e)/Fn),(e=>e.getHours()))),Qn=(qn.range,$n((e=>{e.setUTCMinutes(0,0,0)}),((e,t)=>{e.setTime(+e+t*Fn)}),((e,t)=>(t-e)/Fn),(e=>e.getUTCHours()))),Yn=(Qn.range,$n((e=>e.setHours(0,0,0,0)),((e,t)=>e.setDate(e.getDate()+t)),((e,t)=>(t-e-(t.getTimezoneOffset()-e.getTimezoneOffset())*An)/Dn),(e=>e.getDate()-1))),Gn=(Yn.range,$n((e=>{e.setUTCHours(0,0,0,0)}),((e,t)=>{e.setUTCDate(e.getUTCDate()+t)}),((e,t)=>(t-e)/Dn),(e=>e.getUTCDate()-1))),Kn=(Gn.range,$n((e=>{e.setUTCHours(0,0,0,0)}),((e,t)=>{e.setUTCDate(e.getUTCDate()+t)}),((e,t)=>(t-e)/Dn),(e=>Math.floor(e/Dn))));function Zn(e){return $n((t=>{t.setDate(t.getDate()-(t.getDay()+7-e)%7),t.setHours(0,0,0,0)}),((e,t)=>{e.setDate(e.getDate()+7*t)}),((e,t)=>(t-e-(t.getTimezoneOffset()-e.getTimezoneOffset())*An)/Rn))}Kn.range;const Xn=Zn(0),Jn=Zn(1),er=Zn(2),tr=Zn(3),nr=Zn(4),rr=Zn(5),ar=Zn(6);function ir(e){return $n((t=>{t.setUTCDate(t.getUTCDate()-(t.getUTCDay()+7-e)%7),t.setUTCHours(0,0,0,0)}),((e,t)=>{e.setUTCDate(e.getUTCDate()+7*t)}),((e,t)=>(t-e)/Rn))}Xn.range,Jn.range,er.range,tr.range,nr.range,rr.range,ar.range;const or=ir(0),ur=ir(1),lr=ir(2),sr=ir(3),cr=ir(4),fr=ir(5),pr=ir(6),dr=(or.range,ur.range,lr.range,sr.range,cr.range,fr.range,pr.range,$n((e=>{e.setDate(1),e.setHours(0,0,0,0)}),((e,t)=>{e.setMonth(e.getMonth()+t)}),((e,t)=>t.getMonth()-e.getMonth()+12*(t.getFullYear()-e.getFullYear())),(e=>e.getMonth()))),hr=(dr.range,$n((e=>{e.setUTCDate(1),e.setUTCHours(0,0,0,0)}),((e,t)=>{e.setUTCMonth(e.getUTCMonth()+t)}),((e,t)=>t.getUTCMonth()-e.getUTCMonth()+12*(t.getUTCFullYear()-e.getUTCFullYear())),(e=>e.getUTCMonth()))),vr=(hr.range,$n((e=>{e.setMonth(0,1),e.setHours(0,0,0,0)}),((e,t)=>{e.setFullYear(e.getFullYear()+t)}),((e,t)=>t.getFullYear()-e.getFullYear()),(e=>e.getFullYear())));vr.every=e=>isFinite(e=Math.floor(e))&&e>0?$n((t=>{t.setFullYear(Math.floor(t.getFullYear()/e)*e),t.setMonth(0,1),t.setHours(0,0,0,0)}),((t,n)=>{t.setFullYear(t.getFullYear()+n*e)})):null,vr.range;const gr=$n((e=>{e.setUTCMonth(0,1),e.setUTCHours(0,0,0,0)}),((e,t)=>{e.setUTCFullYear(e.getUTCFullYear()+t)}),((e,t)=>t.getUTCFullYear()-e.getUTCFullYear()),(e=>e.getUTCFullYear()));function yr(e,t,n,r,a,i){const o=[[Wn,1,On],[Wn,5,5e3],[Wn,15,15e3],[Wn,30,3e4],[i,1,An],[i,5,3e5],[i,15,9e5],[i,30,18e5],[a,1,Fn],[a,3,108e5],[a,6,216e5],[a,12,432e5],[r,1,Dn],[r,2,1728e5],[n,1,Rn],[t,1,2592e6],[t,3,7776e6],[e,1,jn]];function u(t,n,r){const a=Math.abs(n-t)/r,i=f((([,,e])=>e)).right(o,a);if(i===o.length)return e.every(l(t/jn,n/jn,r));if(0===i)return Bn.every(Math.max(l(t,n,r),1));const[u,s]=o[a/o[i-1][2]<o[i][2]/a?i-1:i];return u.every(s)}return[function(e,t,n){const r=t<e;r&&([e,t]=[t,e]);const a=n&&\"function\"==typeof n.range?n:u(e,t,n),i=a?a.range(e,+t+1):[];return r?i.reverse():i},u]}gr.every=e=>isFinite(e=Math.floor(e))&&e>0?$n((t=>{t.setUTCFullYear(Math.floor(t.getUTCFullYear()/e)*e),t.setUTCMonth(0,1),t.setUTCHours(0,0,0,0)}),((t,n)=>{t.setUTCFullYear(t.getUTCFullYear()+n*e)})):null,gr.range;const[mr,br]=yr(gr,hr,or,Kn,Qn,Hn),[_r,wr]=yr(vr,dr,Xn,Yn,qn,Vn);function xr(e){if(0<=e.y&&e.y<100){var t=new Date(-1,e.m,e.d,e.H,e.M,e.S,e.L);return t.setFullYear(e.y),t}return new Date(e.y,e.m,e.d,e.H,e.M,e.S,e.L)}function kr(e){if(0<=e.y&&e.y<100){var t=new Date(Date.UTC(-1,e.m,e.d,e.H,e.M,e.S,e.L));return t.setUTCFullYear(e.y),t}return new Date(Date.UTC(e.y,e.m,e.d,e.H,e.M,e.S,e.L))}function Sr(e,t,n){return{y:e,m:t,d:n,H:0,M:0,S:0,L:0}}var Er,Cr,Tr,Mr={\"-\":\"\",_:\" \",0:\"0\"},Nr=/^\\s*\\d+/,Pr=/^%/,zr=/[\\\\^$*+?|[\\]().{}]/g;function Lr(e,t,n){var r=e<0?\"-\":\"\",a=(r?-e:e)+\"\",i=a.length;return r+(i<n?new Array(n-i+1).join(t)+a:a)}function Or(e){return e.replace(zr,\"\\\\$&\")}function Ar(e){return new RegExp(\"^(?:\"+e.map(Or).join(\"|\")+\")\",\"i\")}function Fr(e){return new Map(e.map(((e,t)=>[e.toLowerCase(),t])))}function Dr(e,t,n){var r=Nr.exec(t.slice(n,n+1));return r?(e.w=+r[0],n+r[0].length):-1}function Rr(e,t,n){var r=Nr.exec(t.slice(n,n+1));return r?(e.u=+r[0],n+r[0].length):-1}function jr(e,t,n){var r=Nr.exec(t.slice(n,n+2));return r?(e.U=+r[0],n+r[0].length):-1}function Ur(e,t,n){var r=Nr.exec(t.slice(n,n+2));return r?(e.V=+r[0],n+r[0].length):-1}function Ir(e,t,n){var r=Nr.exec(t.slice(n,n+2));return r?(e.W=+r[0],n+r[0].length):-1}function $r(e,t,n){var r=Nr.exec(t.slice(n,n+4));return r?(e.y=+r[0],n+r[0].length):-1}function Br(e,t,n){var r=Nr.exec(t.slice(n,n+2));return r?(e.y=+r[0]+(+r[0]>68?1900:2e3),n+r[0].length):-1}function Wr(e,t,n){var r=/^(Z)|([+-]\\d\\d)(?::?(\\d\\d))?/.exec(t.slice(n,n+6));return r?(e.Z=r[1]?0:-(r[2]+(r[3]||\"00\")),n+r[0].length):-1}function Vr(e,t,n){var r=Nr.exec(t.slice(n,n+1));return r?(e.q=3*r[0]-3,n+r[0].length):-1}function Hr(e,t,n){var r=Nr.exec(t.slice(n,n+2));return r?(e.m=r[0]-1,n+r[0].length):-1}function qr(e,t,n){var r=Nr.exec(t.slice(n,n+2));return r?(e.d=+r[0],n+r[0].length):-1}function Qr(e,t,n){var r=Nr.exec(t.slice(n,n+3));return r?(e.m=0,e.d=+r[0],n+r[0].length):-1}function Yr(e,t,n){var r=Nr.exec(t.slice(n,n+2));return r?(e.H=+r[0],n+r[0].length):-1}function Gr(e,t,n){var r=Nr.exec(t.slice(n,n+2));return r?(e.M=+r[0],n+r[0].length):-1}function Kr(e,t,n){var r=Nr.exec(t.slice(n,n+2));return r?(e.S=+r[0],n+r[0].length):-1}function Zr(e,t,n){var r=Nr.exec(t.slice(n,n+3));return r?(e.L=+r[0],n+r[0].length):-1}function Xr(e,t,n){var r=Nr.exec(t.slice(n,n+6));return r?(e.L=Math.floor(r[0]/1e3),n+r[0].length):-1}function Jr(e,t,n){var r=Pr.exec(t.slice(n,n+1));return r?n+r[0].length:-1}function ea(e,t,n){var r=Nr.exec(t.slice(n));return r?(e.Q=+r[0],n+r[0].length):-1}function ta(e,t,n){var r=Nr.exec(t.slice(n));return r?(e.s=+r[0],n+r[0].length):-1}function na(e,t){return Lr(e.getDate(),t,2)}function ra(e,t){return Lr(e.getHours(),t,2)}function aa(e,t){return Lr(e.getHours()%12||12,t,2)}function ia(e,t){return Lr(1+Yn.count(vr(e),e),t,3)}function oa(e,t){return Lr(e.getMilliseconds(),t,3)}function ua(e,t){return oa(e,t)+\"000\"}function la(e,t){return Lr(e.getMonth()+1,t,2)}function sa(e,t){return Lr(e.getMinutes(),t,2)}function ca(e,t){return Lr(e.getSeconds(),t,2)}function fa(e){var t=e.getDay();return 0===t?7:t}function pa(e,t){return Lr(Xn.count(vr(e)-1,e),t,2)}function da(e){var t=e.getDay();return t>=4||0===t?nr(e):nr.ceil(e)}function ha(e,t){return e=da(e),Lr(nr.count(vr(e),e)+(4===vr(e).getDay()),t,2)}function va(e){return e.getDay()}function ga(e,t){return Lr(Jn.count(vr(e)-1,e),t,2)}function ya(e,t){return Lr(e.getFullYear()%100,t,2)}function ma(e,t){return Lr((e=da(e)).getFullYear()%100,t,2)}function ba(e,t){return Lr(e.getFullYear()%1e4,t,4)}function _a(e,t){var n=e.getDay();return Lr((e=n>=4||0===n?nr(e):nr.ceil(e)).getFullYear()%1e4,t,4)}function wa(e){var t=e.getTimezoneOffset();return(t>0?\"-\":(t*=-1,\"+\"))+Lr(t/60|0,\"0\",2)+Lr(t%60,\"0\",2)}function xa(e,t){return Lr(e.getUTCDate(),t,2)}function ka(e,t){return Lr(e.getUTCHours(),t,2)}function Sa(e,t){return Lr(e.getUTCHours()%12||12,t,2)}function Ea(e,t){return Lr(1+Gn.count(gr(e),e),t,3)}function Ca(e,t){return Lr(e.getUTCMilliseconds(),t,3)}function Ta(e,t){return Ca(e,t)+\"000\"}function Ma(e,t){return Lr(e.getUTCMonth()+1,t,2)}function Na(e,t){return Lr(e.getUTCMinutes(),t,2)}function Pa(e,t){return Lr(e.getUTCSeconds(),t,2)}function za(e){var t=e.getUTCDay();return 0===t?7:t}function La(e,t){return Lr(or.count(gr(e)-1,e),t,2)}function Oa(e){var t=e.getUTCDay();return t>=4||0===t?cr(e):cr.ceil(e)}function Aa(e,t){return e=Oa(e),Lr(cr.count(gr(e),e)+(4===gr(e).getUTCDay()),t,2)}function Fa(e){return e.getUTCDay()}function Da(e,t){return Lr(ur.count(gr(e)-1,e),t,2)}function Ra(e,t){return Lr(e.getUTCFullYear()%100,t,2)}function ja(e,t){return Lr((e=Oa(e)).getUTCFullYear()%100,t,2)}function Ua(e,t){return Lr(e.getUTCFullYear()%1e4,t,4)}function Ia(e,t){var n=e.getUTCDay();return Lr((e=n>=4||0===n?cr(e):cr.ceil(e)).getUTCFullYear()%1e4,t,4)}function $a(){return\"+0000\"}function Ba(){return\"%\"}function Wa(e){return+e}function Va(e){return Math.floor(+e/1e3)}function Ha(e){return new Date(e)}function qa(e){return e instanceof Date?+e:+new Date(+e)}function Qa(e,t,n,r,a,i,o,u,l,s){var c=be(),f=c.invert,p=c.domain,d=s(\".%L\"),h=s(\":%S\"),v=s(\"%I:%M\"),g=s(\"%I %p\"),y=s(\"%a %d\"),m=s(\"%b %d\"),b=s(\"%B\"),_=s(\"%Y\");function w(e){return(l(e)<e?d:u(e)<e?h:o(e)<e?v:i(e)<e?g:r(e)<e?a(e)<e?y:m:n(e)<e?b:_)(e)}return c.invert=function(e){return new Date(f(e))},c.domain=function(e){return arguments.length?p(Array.from(e,qa)):p().map(Ha)},c.ticks=function(t){var n=p();return e(n[0],n[n.length-1],null==t?10:t)},c.tickFormat=function(e,t){return null==t?w:s(t)},c.nice=function(e){var n=p();return e&&\"function\"==typeof e.range||(e=t(n[0],n[n.length-1],null==e?10:e)),e?p(function(e,t){var n,r=0,a=(e=e.slice()).length-1,i=e[r],o=e[a];return o<i&&(n=r,r=a,a=n,n=i,i=o,o=n),e[r]=t.floor(i),e[a]=t.ceil(o),e}(n,e)):c},c.copy=function(){return me(c,Qa(e,t,n,r,a,i,o,u,l,s))},c}function Ya(){return _e.apply(Qa(_r,wr,vr,dr,Xn,Yn,qn,Vn,Wn,Cr).domain([new Date(2e3,0,1),new Date(2e3,0,2)]),arguments)}function Ga(e,t){var n=\"undefined\"!=typeof Symbol&&e[Symbol.iterator]||e[\"@@iterator\"];if(!n){if(Array.isArray(e)||(n=function(e,t){if(e){if(\"string\"==typeof e)return Ka(e,t);var n=Object.prototype.toString.call(e).slice(8,-1);return\"Object\"===n&&e.constructor&&(n=e.constructor.name),\"Map\"===n||\"Set\"===n?Array.from(e):\"Arguments\"===n||/^(?:Ui|I)nt(?:8|16|32)(?:Clamped)?Array$/.test(n)?Ka(e,t):void 0}}(e))||t&&e&&\"number\"==typeof e.length){n&&(e=n);var r=0,a=function(){};return{s:a,n:function(){return r>=e.length?{done:!0}:{done:!1,value:e[r++]}},e:function(e){throw e},f:a}}throw new TypeError(\"Invalid attempt to iterate non-iterable instance.\\nIn order to be iterable, non-array objects must have a [Symbol.iterator]() method.\")}var i,o=!0,u=!1;return{s:function(){n=n.call(e)},n:function(){var e=n.next();return o=e.done,e},e:function(e){u=!0,i=e},f:function(){try{o||null==n.return||n.return()}finally{if(u)throw i}}}}function Ka(e,t){(null==t||t>e.length)&&(t=e.length);for(var n=0,r=new Array(t);n<t;n++)r[n]=e[n];return r}function Za(e){return Za=\"function\"==typeof Symbol&&\"symbol\"==typeof Symbol.iterator?function(e){return typeof e}:function(e){return e&&\"function\"==typeof Symbol&&e.constructor===Symbol&&e!==Symbol.prototype?\"symbol\":typeof e},Za(e)}function Xa(e,t){for(var n=0;n<t.length;n++){var r=t[n];r.enumerable=r.enumerable||!1,r.configurable=!0,\"value\"in r&&(r.writable=!0),Object.defineProperty(e,(void 0,a=function(e,t){if(\"object\"!==Za(e)||null===e)return e;var n=e[Symbol.toPrimitive];if(void 0!==n){var r=n.call(e,\"string\");if(\"object\"!==Za(r))return r;throw new TypeError(\"@@toPrimitive must return a primitive value.\")}return String(e)}(r.key),\"symbol\"===Za(a)?a:String(a)),r)}var a}function Ja(e,t){return Ja=Object.setPrototypeOf?Object.setPrototypeOf.bind():function(e,t){return e.__proto__=t,e},Ja(e,t)}function ei(e){if(void 0===e)throw new ReferenceError(\"this hasn't been initialised - super() hasn't been called\");return e}function ti(e){return ti=Object.setPrototypeOf?Object.getPrototypeOf.bind():function(e){return e.__proto__||Object.getPrototypeOf(e)},ti(e)}Er=function(e){var t=e.dateTime,n=e.date,r=e.time,a=e.periods,i=e.days,o=e.shortDays,u=e.months,l=e.shortMonths,s=Ar(a),c=Fr(a),f=Ar(i),p=Fr(i),d=Ar(o),h=Fr(o),v=Ar(u),g=Fr(u),y=Ar(l),m=Fr(l),b={a:function(e){return o[e.getDay()]},A:function(e){return i[e.getDay()]},b:function(e){return l[e.getMonth()]},B:function(e){return u[e.getMonth()]},c:null,d:na,e:na,f:ua,g:ma,G:_a,H:ra,I:aa,j:ia,L:oa,m:la,M:sa,p:function(e){return a[+(e.getHours()>=12)]},q:function(e){return 1+~~(e.getMonth()/3)},Q:Wa,s:Va,S:ca,u:fa,U:pa,V:ha,w:va,W:ga,x:null,X:null,y:ya,Y:ba,Z:wa,\"%\":Ba},_={a:function(e){return o[e.getUTCDay()]},A:function(e){return i[e.getUTCDay()]},b:function(e){return l[e.getUTCMonth()]},B:function(e){return u[e.getUTCMonth()]},c:null,d:xa,e:xa,f:Ta,g:ja,G:Ia,H:ka,I:Sa,j:Ea,L:Ca,m:Ma,M:Na,p:function(e){return a[+(e.getUTCHours()>=12)]},q:function(e){return 1+~~(e.getUTCMonth()/3)},Q:Wa,s:Va,S:Pa,u:za,U:La,V:Aa,w:Fa,W:Da,x:null,X:null,y:Ra,Y:Ua,Z:$a,\"%\":Ba},w={a:function(e,t,n){var r=d.exec(t.slice(n));return r?(e.w=h.get(r[0].toLowerCase()),n+r[0].length):-1},A:function(e,t,n){var r=f.exec(t.slice(n));return r?(e.w=p.get(r[0].toLowerCase()),n+r[0].length):-1},b:function(e,t,n){var r=y.exec(t.slice(n));return r?(e.m=m.get(r[0].toLowerCase()),n+r[0].length):-1},B:function(e,t,n){var r=v.exec(t.slice(n));return r?(e.m=g.get(r[0].toLowerCase()),n+r[0].length):-1},c:function(e,n,r){return S(e,t,n,r)},d:qr,e:qr,f:Xr,g:Br,G:$r,H:Yr,I:Yr,j:Qr,L:Zr,m:Hr,M:Gr,p:function(e,t,n){var r=s.exec(t.slice(n));return r?(e.p=c.get(r[0].toLowerCase()),n+r[0].length):-1},q:Vr,Q:ea,s:ta,S:Kr,u:Rr,U:jr,V:Ur,w:Dr,W:Ir,x:function(e,t,r){return S(e,n,t,r)},X:function(e,t,n){return S(e,r,t,n)},y:Br,Y:$r,Z:Wr,\"%\":Jr};function x(e,t){return function(n){var r,a,i,o=[],u=-1,l=0,s=e.length;for(n instanceof Date||(n=new Date(+n));++u<s;)37===e.charCodeAt(u)&&(o.push(e.slice(l,u)),null!=(a=Mr[r=e.charAt(++u)])?r=e.charAt(++u):a=\"e\"===r?\" \":\"0\",(i=t[r])&&(r=i(n,a)),o.push(r),l=u+1);return o.push(e.slice(l,u)),o.join(\"\")}}function k(e,t){return function(n){var r,a,i=Sr(1900,void 0,1);if(S(i,e,n+=\"\",0)!=n.length)return null;if(\"Q\"in i)return new Date(i.Q);if(\"s\"in i)return new Date(1e3*i.s+(\"L\"in i?i.L:0));if(t&&!(\"Z\"in i)&&(i.Z=0),\"p\"in i&&(i.H=i.H%12+12*i.p),void 0===i.m&&(i.m=\"q\"in i?i.q:0),\"V\"in i){if(i.V<1||i.V>53)return null;\"w\"in i||(i.w=1),\"Z\"in i?(a=(r=kr(Sr(i.y,0,1))).getUTCDay(),r=a>4||0===a?ur.ceil(r):ur(r),r=Gn.offset(r,7*(i.V-1)),i.y=r.getUTCFullYear(),i.m=r.getUTCMonth(),i.d=r.getUTCDate()+(i.w+6)%7):(a=(r=xr(Sr(i.y,0,1))).getDay(),r=a>4||0===a?Jn.ceil(r):Jn(r),r=Yn.offset(r,7*(i.V-1)),i.y=r.getFullYear(),i.m=r.getMonth(),i.d=r.getDate()+(i.w+6)%7)}else(\"W\"in i||\"U\"in i)&&(\"w\"in i||(i.w=\"u\"in i?i.u%7:\"W\"in i?1:0),a=\"Z\"in i?kr(Sr(i.y,0,1)).getUTCDay():xr(Sr(i.y,0,1)).getDay(),i.m=0,i.d=\"W\"in i?(i.w+6)%7+7*i.W-(a+5)%7:i.w+7*i.U-(a+6)%7);return\"Z\"in i?(i.H+=i.Z/100|0,i.M+=i.Z%100,kr(i)):xr(i)}}function S(e,t,n,r){for(var a,i,o=0,u=t.length,l=n.length;o<u;){if(r>=l)return-1;if(37===(a=t.charCodeAt(o++))){if(a=t.charAt(o++),!(i=w[a in Mr?t.charAt(o++):a])||(r=i(e,n,r))<0)return-1}else if(a!=n.charCodeAt(r++))return-1}return r}return b.x=x(n,b),b.X=x(r,b),b.c=x(t,b),_.x=x(n,_),_.X=x(r,_),_.c=x(t,_),{format:function(e){var t=x(e+=\"\",b);return t.toString=function(){return e},t},parse:function(e){var t=k(e+=\"\",!1);return t.toString=function(){return e},t},utcFormat:function(e){var t=x(e+=\"\",_);return t.toString=function(){return e},t},utcParse:function(e){var t=k(e+=\"\",!0);return t.toString=function(){return e},t}}}({dateTime:\"%x, %X\",date:\"%-m/%-d/%Y\",time:\"%-I:%M:%S %p\",periods:[\"AM\",\"PM\"],days:[\"Sunday\",\"Monday\",\"Tuesday\",\"Wednesday\",\"Thursday\",\"Friday\",\"Saturday\"],shortDays:[\"Sun\",\"Mon\",\"Tue\",\"Wed\",\"Thu\",\"Fri\",\"Sat\"],months:[\"January\",\"February\",\"March\",\"April\",\"May\",\"June\",\"July\",\"August\",\"September\",\"October\",\"November\",\"December\"],shortMonths:[\"Jan\",\"Feb\",\"Mar\",\"Apr\",\"May\",\"Jun\",\"Jul\",\"Aug\",\"Sep\",\"Oct\",\"Nov\",\"Dec\"]}),Cr=Er.format,Tr=Er.parse,Er.utcFormat,Er.utcParse;var ni=function(t){!function(e,t){if(\"function\"!=typeof t&&null!==t)throw new TypeError(\"Super expression must either be null or a function\");e.prototype=Object.create(t&&t.prototype,{constructor:{value:e,writable:!0,configurable:!0}}),Object.defineProperty(e,\"prototype\",{writable:!1}),t&&Ja(e,t)}(u,t);var n,r,a,i,o=(a=u,i=function(){if(\"undefined\"==typeof Reflect||!Reflect.construct)return!1;if(Reflect.construct.sham)return!1;if(\"function\"==typeof Proxy)return!0;try{return Boolean.prototype.valueOf.call(Reflect.construct(Boolean,[],(function(){}))),!0}catch(e){return!1}}(),function(){var e,t=ti(a);if(i){var n=ti(this).constructor;e=Reflect.construct(t,arguments,n)}else e=t.apply(this,arguments);return function(e,t){if(t&&(\"object\"===Za(t)||\"function\"==typeof t))return t;if(void 0!==t)throw new TypeError(\"Derived constructors may only return object or undefined\");return ei(e)}(this,e)});function u(){var e;return function(e,t){if(!(e instanceof t))throw new TypeError(\"Cannot call a class as a function\")}(this,u),e=o.call(this),window.lastAdditiveForceArrayVisualizer=ei(e),e.topOffset=28,e.leftOffset=80,e.height=350,e.effectFormat=ze(\".2\"),e.redraw=(0,Re.debounce)((function(){return e.draw()}),200),e}return n=u,(r=[{key:\"componentDidMount\",value:function(){var e=this;this.mainGroup=this.svg.append(\"g\"),this.onTopGroup=this.svg.append(\"g\"),this.xaxisElement=this.onTopGroup.append(\"g\").attr(\"transform\",\"translate(0,35)\").attr(\"class\",\"force-bar-array-xaxis\"),this.yaxisElement=this.onTopGroup.append(\"g\").attr(\"transform\",\"translate(0,35)\").attr(\"class\",\"force-bar-array-yaxis\"),this.hoverGroup1=this.svg.append(\"g\"),this.hoverGroup2=this.svg.append(\"g\"),this.baseValueTitle=this.svg.append(\"text\"),this.hoverLine=this.svg.append(\"line\"),this.hoverxOutline=this.svg.append(\"text\").attr(\"text-anchor\",\"middle\").attr(\"font-weight\",\"bold\").attr(\"fill\",\"#fff\").attr(\"stroke\",\"#fff\").attr(\"stroke-width\",\"6\").attr(\"font-size\",\"12px\"),this.hoverx=this.svg.append(\"text\").attr(\"text-anchor\",\"middle\").attr(\"font-weight\",\"bold\").attr(\"fill\",\"#000\").attr(\"font-size\",\"12px\"),this.hoverxTitle=this.svg.append(\"text\").attr(\"text-anchor\",\"middle\").attr(\"opacity\",.6).attr(\"font-size\",\"12px\"),this.hoveryOutline=this.svg.append(\"text\").attr(\"text-anchor\",\"end\").attr(\"font-weight\",\"bold\").attr(\"fill\",\"#fff\").attr(\"stroke\",\"#fff\").attr(\"stroke-width\",\"6\").attr(\"font-size\",\"12px\"),this.hovery=this.svg.append(\"text\").attr(\"text-anchor\",\"end\").attr(\"font-weight\",\"bold\").attr(\"fill\",\"#000\").attr(\"font-size\",\"12px\"),this.xlabel=this.wrapper.select(\".additive-force-array-xlabel\"),this.ylabel=this.wrapper.select(\".additive-force-array-ylabel\");var t=void 0;\"string\"==typeof this.props.plot_cmap?this.props.plot_cmap in je.colors?t=je.colors[this.props.plot_cmap]:(console.log(\"Invalid color map name, reverting to default.\"),t=je.colors.RdBu):Array.isArray(this.props.plot_cmap)&&(t=this.props.plot_cmap),this.colors=t.map((function(e){return q(e)})),this.brighterColors=[1.45,1.6].map((function(t,n){return e.colors[n].brighter(t)}));var n=ze(\",.4\");null!=this.props.ordering_keys&&null!=this.props.ordering_keys_time_format?(this.parseTime=Tr(this.props.ordering_keys_time_format),this.formatTime=Cr(this.props.ordering_keys_time_format),this.xtickFormat=function(e){return\"object\"==Za(e)?this.formatTime(e):n(e)}):(this.parseTime=null,this.formatTime=null,this.xtickFormat=n),this.xscale=De(),this.xaxis=dn().scale(this.xscale).tickSizeInner(4).tickSizeOuter(0).tickFormat((function(t){return e.xtickFormat(t)})).tickPadding(-18),this.ytickFormat=n,this.yscale=De(),this.yaxis=pn(an,undefined).scale(this.yscale).tickSizeInner(4).tickSizeOuter(0).tickFormat((function(t){return e.ytickFormat(e.invLinkFunction(t))})).tickPadding(2),this.xlabel.node().onchange=function(){return e.internalDraw()},this.ylabel.node().onchange=function(){return e.internalDraw()},this.svg.on(\"mousemove\",(function(t){return e.mouseMoved(t)})),this.svg.on(\"click\",(function(){return alert(\"This original index of the sample you clicked is \"+e.nearestExpIndex)})),this.svg.on(\"mouseout\",(function(t){return e.mouseOut(t)})),window.addEventListener(\"resize\",this.redraw),window.setTimeout(this.redraw,50)}},{key:\"componentDidUpdate\",value:function(){this.draw()}},{key:\"mouseOut\",value:function(){this.hoverLine.attr(\"display\",\"none\"),this.hoverx.attr(\"display\",\"none\"),this.hoverxOutline.attr(\"display\",\"none\"),this.hoverxTitle.attr(\"display\",\"none\"),this.hovery.attr(\"display\",\"none\"),this.hoveryOutline.attr(\"display\",\"none\"),this.hoverGroup1.attr(\"display\",\"none\"),this.hoverGroup2.attr(\"display\",\"none\")}},{key:\"mouseMoved\",value:function(e){var t,n,r=this;this.hoverLine.attr(\"display\",\"\"),this.hoverx.attr(\"display\",\"\"),this.hoverxOutline.attr(\"display\",\"\"),this.hoverxTitle.attr(\"display\",\"\"),this.hovery.attr(\"display\",\"\"),this.hoveryOutline.attr(\"display\",\"\"),this.hoverGroup1.attr(\"display\",\"\"),this.hoverGroup2.attr(\"display\",\"\");var a=function(e,t){if(e=function(e){let t;for(;t=e.sourceEvent;)e=t;return e}(e),void 0===t&&(t=e.currentTarget),t){var n=t.ownerSVGElement||t;if(n.createSVGPoint){var r=n.createSVGPoint();return r.x=e.clientX,r.y=e.clientY,[(r=r.matrixTransform(t.getScreenCTM().inverse())).x,r.y]}if(t.getBoundingClientRect){var a=t.getBoundingClientRect();return[e.clientX-a.left-t.clientLeft,e.clientY-a.top-t.clientTop]}}return[e.pageX,e.pageY]}(e,this.svg.node())[0];if(this.props.explanations){for(t=0;t<this.currExplanations.length;++t)(!n||Math.abs(n.xmapScaled-a)>Math.abs(this.currExplanations[t].xmapScaled-a))&&(n=this.currExplanations[t]);this.nearestExpIndex=n.origInd,this.hoverLine.attr(\"x1\",n.xmapScaled).attr(\"x2\",n.xmapScaled).attr(\"y1\",0+this.topOffset).attr(\"y2\",this.height),this.hoverx.attr(\"x\",n.xmapScaled).attr(\"y\",this.topOffset-5).text(this.xtickFormat(n.xmap)),this.hoverxOutline.attr(\"x\",n.xmapScaled).attr(\"y\",this.topOffset-5).text(this.xtickFormat(n.xmap)),this.hoverxTitle.attr(\"x\",n.xmapScaled).attr(\"y\",this.topOffset-18).text(n.count>1?n.count+\" averaged samples\":\"\"),this.hovery.attr(\"x\",this.leftOffset-6).attr(\"y\",n.joinPointy).text(this.ytickFormat(this.invLinkFunction(n.joinPoint))),this.hoveryOutline.attr(\"x\",this.leftOffset-6).attr(\"y\",n.joinPointy).text(this.ytickFormat(this.invLinkFunction(n.joinPoint)));for(var i,o,u=[],l=this.currPosOrderedFeatures.length-1;l>=0;--l){var s=this.currPosOrderedFeatures[l],c=n.features[s];o=5+(c.posyTop+c.posyBottom)/2,(!i||o-i>=15)&&c.posyTop-c.posyBottom>=6&&(u.push(c),i=o)}var f=[];i=void 0;var p,d=Ga(this.currNegOrderedFeatures);try{for(d.s();!(p=d.n()).done;){var h=p.value,v=n.features[h];o=5+(v.negyTop+v.negyBottom)/2,(!i||i-o>=15)&&v.negyTop-v.negyBottom>=6&&(f.push(v),i=o)}}catch(e){d.e(e)}finally{d.f()}var g=function(e){var t=\"\";return null!==e.value&&void 0!==e.value&&(t=\" = \"+(isNaN(e.value)?e.value:r.ytickFormat(e.value))),n.count>1?\"mean(\"+r.props.featureNames[e.ind]+\")\"+t:r.props.featureNames[e.ind]+t},y=this.hoverGroup1.selectAll(\".pos-values\").data(u);y.enter().append(\"text\").attr(\"class\",\"pos-values\").merge(y).attr(\"x\",n.xmapScaled+5).attr(\"y\",(function(e){return 4+(e.posyTop+e.posyBottom)/2})).attr(\"text-anchor\",\"start\").attr(\"font-size\",12).attr(\"stroke\",\"#fff\").attr(\"fill\",\"#fff\").attr(\"stroke-width\",\"4\").attr(\"stroke-linejoin\",\"round\").attr(\"opacity\",1).text(g),y.exit().remove();var m=this.hoverGroup2.selectAll(\".pos-values\").data(u);m.enter().append(\"text\").attr(\"class\",\"pos-values\").merge(m).attr(\"x\",n.xmapScaled+5).attr(\"y\",(function(e){return 4+(e.posyTop+e.posyBottom)/2})).attr(\"text-anchor\",\"start\").attr(\"font-size\",12).attr(\"fill\",this.colors[0]).text(g),m.exit().remove();var b=this.hoverGroup1.selectAll(\".neg-values\").data(f);b.enter().append(\"text\").attr(\"class\",\"neg-values\").merge(b).attr(\"x\",n.xmapScaled+5).attr(\"y\",(function(e){return 4+(e.negyTop+e.negyBottom)/2})).attr(\"text-anchor\",\"start\").attr(\"font-size\",12).attr(\"stroke\",\"#fff\").attr(\"fill\",\"#fff\").attr(\"stroke-width\",\"4\").attr(\"stroke-linejoin\",\"round\").attr(\"opacity\",1).text(g),b.exit().remove();var _=this.hoverGroup2.selectAll(\".neg-values\").data(f);_.enter().append(\"text\").attr(\"class\",\"neg-values\").merge(_).attr(\"x\",n.xmapScaled+5).attr(\"y\",(function(e){return 4+(e.negyTop+e.negyBottom)/2})).attr(\"text-anchor\",\"start\").attr(\"font-size\",12).attr(\"fill\",this.colors[1]).text(g),_.exit().remove()}}},{key:\"draw\",value:function(){var e=this;if(this.props.explanations&&0!==this.props.explanations.length){(0,Re.each)(this.props.explanations,(function(e,t){return e.origInd=t}));var t,n={},r={},a={},i=Ga(this.props.explanations);try{for(i.s();!(t=i.n()).done;){var o=t.value;for(var u in o.features)void 0===n[u]&&(n[u]=0,r[u]=0,a[u]=0),o.features[u].effect>0?n[u]+=o.features[u].effect:r[u]-=o.features[u].effect,null!==o.features[u].value&&void 0!==o.features[u].value&&(a[u]+=1)}}catch(e){i.e(e)}finally{i.f()}this.usedFeatures=(0,Re.sortBy)((0,Re.keys)(n),(function(e){return-(n[e]+r[e])})),console.log(\"found \",this.usedFeatures.length,\" used features\"),this.posOrderedFeatures=(0,Re.sortBy)(this.usedFeatures,(function(e){return n[e]})),this.negOrderedFeatures=(0,Re.sortBy)(this.usedFeatures,(function(e){return-r[e]})),this.singleValueFeatures=(0,Re.filter)(this.usedFeatures,(function(e){return a[e]>0}));var l=[\"sample order by similarity\",\"sample order by output value\",\"original sample ordering\"].concat(this.singleValueFeatures.map((function(t){return e.props.featureNames[t]})));null!=this.props.ordering_keys&&l.unshift(\"sample order by key\");var s=this.xlabel.selectAll(\"option\").data(l);s.enter().append(\"option\").merge(s).attr(\"value\",(function(e){return e})).text((function(e){return e})),s.exit().remove();var c=this.props.outNames[0]?this.props.outNames[0]:\"model output value\";(l=(0,Re.map)(this.usedFeatures,(function(t){return[e.props.featureNames[t],e.props.featureNames[t]+\" effects\"]}))).unshift([\"model output value\",c]);var f=this.ylabel.selectAll(\"option\").data(l);f.enter().append(\"option\").merge(f).attr(\"value\",(function(e){return e[0]})).text((function(e){return e[1]})),f.exit().remove(),this.ylabel.style(\"top\",(this.height-10-this.topOffset)/2+this.topOffset+\"px\").style(\"left\",10-this.ylabel.node().offsetWidth/2+\"px\"),this.internalDraw()}}},{key:\"internalDraw\",value:function(){var e,t,n=this,r=Ga(this.props.explanations);try{for(r.s();!(e=r.n()).done;){var a,i=e.value,o=Ga(this.usedFeatures);try{for(o.s();!(a=o.n()).done;){var u=a.value;i.features.hasOwnProperty(u)||(i.features[u]={effect:0,value:0}),i.features[u].ind=u}}catch(e){o.e(e)}finally{o.f()}}}catch(e){r.e(e)}finally{r.f()}var l=this.xlabel.node().value,s=\"sample order by key\"===l&&null!=this.props.ordering_keys_time_format;if(this.xscale=s?Ya():De(),this.xaxis.scale(this.xscale),\"sample order by similarity\"===l)t=(0,Re.sortBy)(this.props.explanations,(function(e){return e.simIndex})),(0,Re.each)(t,(function(e,t){return e.xmap=t}));else if(\"sample order by output value\"===l)t=(0,Re.sortBy)(this.props.explanations,(function(e){return-e.outValue})),(0,Re.each)(t,(function(e,t){return e.xmap=t}));else if(\"original sample ordering\"===l)t=(0,Re.sortBy)(this.props.explanations,(function(e){return e.origInd})),(0,Re.each)(t,(function(e,t){return e.xmap=t}));else if(\"sample order by key\"===l)t=this.props.explanations,s?(0,Re.each)(t,(function(e,t){return e.xmap=n.parseTime(n.props.ordering_keys[t])})):(0,Re.each)(t,(function(e,t){return e.xmap=n.props.ordering_keys[t]})),t=(0,Re.sortBy)(t,(function(e){return e.xmap}));else{var c=(0,Re.findKey)(this.props.featureNames,(function(e){return e===l}));(0,Re.each)(this.props.explanations,(function(e,t){return e.xmap=e.features[c].value}));var f=(0,Re.sortBy)(this.props.explanations,(function(e){return e.xmap})),p=(0,Re.map)(f,(function(e){return e.xmap}));if(\"string\"==typeof p[0])return void alert(\"Ordering by category names is not yet supported.\");var d,h,v=(0,Re.min)(p),g=((0,Re.max)(p)-v)/100;t=[];for(var y=0;y<f.length;++y){var m=f[y];if(d&&!h&&m.xmap-d.xmap<=g||h&&m.xmap-h.xmap<=g){h||((h=(0,Re.cloneDeep)(d)).count=1);var b,_=Ga(this.usedFeatures);try{for(_.s();!(b=_.n()).done;){var w=b.value;h.features[w].effect+=m.features[w].effect,h.features[w].value+=m.features[w].value}}catch(e){_.e(e)}finally{_.f()}h.count+=1}else if(d)if(h){var x,k=Ga(this.usedFeatures);try{for(k.s();!(x=k.n()).done;){var S=x.value;h.features[S].effect/=h.count,h.features[S].value/=h.count}}catch(e){k.e(e)}finally{k.f()}t.push(h),h=void 0}else t.push(d);d=m}d.xmap-t[t.length-1].xmap>g&&t.push(d)}this.currUsedFeatures=this.usedFeatures,this.currPosOrderedFeatures=this.posOrderedFeatures,this.currNegOrderedFeatures=this.negOrderedFeatures;var E=this.ylabel.node().value;if(\"model output value\"!==E){var C=t;t=(0,Re.cloneDeep)(t);for(var T=(0,Re.findKey)(this.props.featureNames,(function(e){return e===E})),M=0;M<t.length;++M){var N=t[M].features[T];t[M].features={},t[M].features[T]=N,C[M].remapped_version=t[M]}this.currUsedFeatures=[T],this.currPosOrderedFeatures=[T],this.currNegOrderedFeatures=[T]}this.currExplanations=t,\"identity\"===this.props.link?this.invLinkFunction=function(e){return n.props.baseValue+e}:\"logit\"===this.props.link?this.invLinkFunction=function(e){return 1/(1+Math.exp(-(n.props.baseValue+e)))}:console.log(\"ERROR: Unrecognized link function: \",this.props.link),this.predValues=(0,Re.map)(t,(function(e){return(0,Re.sum)((0,Re.map)(e.features,(function(e){return e.effect})))}));var P=this.wrapper.node().offsetWidth;if(0==P)return setTimeout((function(){return n.draw(t)}),500);this.svg.style(\"height\",this.height+\"px\"),this.svg.style(\"width\",P+\"px\");var z=(0,Re.map)(t,(function(e){return e.xmap}));this.xscale.domain([(0,Re.min)(z),(0,Re.max)(z)]).range([this.leftOffset,P]).clamp(!0),this.xaxisElement.attr(\"transform\",\"translate(0,\"+this.topOffset+\")\").call(this.xaxis);for(var L=0;L<this.currExplanations.length;++L)this.currExplanations[L].xmapScaled=this.xscale(this.currExplanations[L].xmap);for(var O=t.length,A=0,F=0;F<O;++F){var D=t[F].features,R=(0,Re.sum)((0,Re.map)((0,Re.filter)(D,(function(e){return e.effect>0})),(function(e){return e.effect})))||0,j=(0,Re.sum)((0,Re.map)((0,Re.filter)(D,(function(e){return e.effect<0})),(function(e){return-e.effect})))||0;A=Math.max(A,2.2*Math.max(R,j))}this.yscale.domain([-A/2,A/2]).range([this.height-10,this.topOffset]),this.yaxisElement.attr(\"transform\",\"translate(\"+this.leftOffset+\",0)\").call(this.yaxis);for(var U=0;U<O;++U){var I,$=t[U].features,B=-((0,Re.sum)((0,Re.map)((0,Re.filter)($,(function(e){return e.effect<0})),(function(e){return-e.effect})))||0),W=void 0,V=Ga(this.currPosOrderedFeatures);try{for(V.s();!(I=V.n()).done;)$[W=I.value].posyTop=this.yscale(B),$[W].effect>0&&(B+=$[W].effect),$[W].posyBottom=this.yscale(B),$[W].ind=W}catch(e){V.e(e)}finally{V.f()}var H,q=B,Q=Ga(this.currNegOrderedFeatures);try{for(Q.s();!(H=Q.n()).done;)$[W=H.value].negyTop=this.yscale(B),$[W].effect<0&&(B-=$[W].effect),$[W].negyBottom=this.yscale(B)}catch(e){Q.e(e)}finally{Q.f()}t[U].joinPoint=q,t[U].joinPointy=this.yscale(q)}var Y=En().x((function(e){return e[0]})).y((function(e){return e[1]})),G=this.mainGroup.selectAll(\".force-bar-array-area-pos\").data(this.currUsedFeatures);G.enter().append(\"path\").attr(\"class\",\"force-bar-array-area-pos\").merge(G).attr(\"d\",(function(e){var n=(0,Re.map)((0,Re.range)(O),(function(n){return[t[n].xmapScaled,t[n].features[e].posyTop]})),r=(0,Re.map)((0,Re.rangeRight)(O),(function(n){return[t[n].xmapScaled,t[n].features[e].posyBottom]}));return Y(n.concat(r))})).attr(\"fill\",this.colors[0]),G.exit().remove();var K=this.mainGroup.selectAll(\".force-bar-array-area-neg\").data(this.currUsedFeatures);K.enter().append(\"path\").attr(\"class\",\"force-bar-array-area-neg\").merge(K).attr(\"d\",(function(e){var n=(0,Re.map)((0,Re.range)(O),(function(n){return[t[n].xmapScaled,t[n].features[e].negyTop]})),r=(0,Re.map)((0,Re.rangeRight)(O),(function(n){return[t[n].xmapScaled,t[n].features[e].negyBottom]}));return Y(n.concat(r))})).attr(\"fill\",this.colors[1]),K.exit().remove();var Z=this.mainGroup.selectAll(\".force-bar-array-divider-pos\").data(this.currUsedFeatures);Z.enter().append(\"path\").attr(\"class\",\"force-bar-array-divider-pos\").merge(Z).attr(\"d\",(function(e){var n=(0,Re.map)((0,Re.range)(O),(function(n){return[t[n].xmapScaled,t[n].features[e].posyBottom]}));return Y(n)})).attr(\"fill\",\"none\").attr(\"stroke-width\",1).attr(\"stroke\",(function(){return n.colors[0].brighter(1.2)})),Z.exit().remove();var X=this.mainGroup.selectAll(\".force-bar-array-divider-neg\").data(this.currUsedFeatures);X.enter().append(\"path\").attr(\"class\",\"force-bar-array-divider-neg\").merge(X).attr(\"d\",(function(e){var n=(0,Re.map)((0,Re.range)(O),(function(n){return[t[n].xmapScaled,t[n].features[e].negyTop]}));return Y(n)})).attr(\"fill\",\"none\").attr(\"stroke-width\",1).attr(\"stroke\",(function(){return n.colors[1].brighter(1.5)})),X.exit().remove();for(var J=function(e,t,n,r,a){var i,o,u,l;\"pos\"===a?(i=e[n].features[t].posyBottom,o=e[n].features[t].posyTop):(i=e[n].features[t].negyBottom,o=e[n].features[t].negyTop);for(var s=n+1;s<=r;++s)\"pos\"===a?(u=e[s].features[t].posyBottom,l=e[s].features[t].posyTop):(u=e[s].features[t].negyBottom,l=e[s].features[t].negyTop),u>i&&(i=u),l<o&&(o=l);return{top:i,bottom:o}},ee=[],te=0,ne=[\"pos\",\"neg\"];te<ne.length;te++){var re,ae=ne[te],ie=Ga(this.currUsedFeatures);try{for(ie.s();!(re=ie.n()).done;)for(var oe=re.value,ue=0,le=0,se=0,ce={top:0,bottom:0},fe=void 0;le<O-1;){for(;se<100&&le<O-1;)++le,se=t[le].xmapScaled-t[ue].xmapScaled;for(ce=J(t,oe,ue,le,ae);ce.bottom-ce.top<20&&ue<le;)++ue,ce=J(t,oe,ue,le,ae);if(se=t[le].xmapScaled-t[ue].xmapScaled,ce.bottom-ce.top>=20&&se>=100){for(;le<O-1;){if(++le,!((fe=J(t,oe,ue,le,ae)).bottom-fe.top>20)){--le;break}ce=fe}se=t[le].xmapScaled-t[ue].xmapScaled,ee.push([(t[le].xmapScaled+t[ue].xmapScaled)/2,(ce.top+ce.bottom)/2,this.props.featureNames[oe]]);var pe=t[le].xmapScaled;for(ue=le;pe+100>t[ue].xmapScaled&&ue<O-1;)++ue;le=ue}}}catch(e){ie.e(e)}finally{ie.f()}}var de=this.onTopGroup.selectAll(\".force-bar-array-flabels\").data(ee);de.enter().append(\"text\").attr(\"class\",\"force-bar-array-flabels\").merge(de).attr(\"x\",(function(e){return e[0]})).attr(\"y\",(function(e){return e[1]+4})).text((function(e){return e[2]})),de.exit().remove()}},{key:\"componentWillUnmount\",value:function(){window.removeEventListener(\"resize\",this.redraw)}},{key:\"render\",value:function(){var t=this;return e.createElement(\"div\",{ref:function(e){return t.wrapper=Jt(e)},style:{textAlign:\"center\"}},e.createElement(\"style\",{dangerouslySetInnerHTML:{__html:\"\\n          .force-bar-array-wrapper {\\n            text-align: center;\\n          }\\n          .force-bar-array-xaxis path {\\n            fill: none;\\n            opacity: 0.4;\\n          }\\n          .force-bar-array-xaxis .domain {\\n            opacity: 0;\\n          }\\n          .force-bar-array-xaxis paths {\\n            display: none;\\n          }\\n          .force-bar-array-yaxis path {\\n            fill: none;\\n            opacity: 0.4;\\n          }\\n          .force-bar-array-yaxis paths {\\n            display: none;\\n          }\\n          .tick line {\\n            stroke: #000;\\n            stroke-width: 1px;\\n            opacity: 0.4;\\n          }\\n          .tick text {\\n            fill: #000;\\n            opacity: 0.5;\\n            font-size: 12px;\\n            padding: 0px;\\n          }\\n          .force-bar-array-flabels {\\n            font-size: 12px;\\n            fill: #fff;\\n            text-anchor: middle;\\n          }\\n          .additive-force-array-xlabel {\\n            background: none;\\n            border: 1px solid #ccc;\\n            opacity: 0.5;\\n            margin-bottom: 0px;\\n            font-size: 12px;\\n            font-family: arial;\\n            margin-left: 80px;\\n            max-width: 300px;\\n          }\\n          .additive-force-array-xlabel:focus {\\n            outline: none;\\n          }\\n          .additive-force-array-ylabel {\\n            position: relative;\\n            top: 0px;\\n            left: 0px;\\n            transform: rotate(-90deg);\\n            background: none;\\n            border: 1px solid #ccc;\\n            opacity: 0.5;\\n            margin-bottom: 0px;\\n            font-size: 12px;\\n            font-family: arial;\\n            max-width: 150px;\\n          }\\n          .additive-force-array-ylabel:focus {\\n            outline: none;\\n          }\\n          .additive-force-array-hoverLine {\\n            stroke-width: 1px;\\n            stroke: #fff;\\n            opacity: 1;\\n          }\"}}),e.createElement(\"select\",{className:\"additive-force-array-xlabel\"}),e.createElement(\"div\",{style:{height:\"0px\",textAlign:\"left\"}},e.createElement(\"select\",{className:\"additive-force-array-ylabel\"})),e.createElement(\"svg\",{ref:function(e){return t.svg=Jt(e)},style:{userSelect:\"none\",display:\"block\",fontFamily:\"arial\",sansSerif:!0}}))}}])&&Xa(n.prototype,r),Object.defineProperty(n,\"prototype\",{writable:!1}),u}(e.Component);ni.defaultProps={plot_cmap:\"RdBu\",ordering_keys:null,ordering_keys_time_format:null};const ri=ni;window.SHAP={SimpleListVisualizer:He,AdditiveForceVisualizer:Ln,AdditiveForceArrayVisualizer:ri,React:e,ReactDom:t}})()})();\n",
       "</script>"
      ],
      "text/plain": [
       "<IPython.core.display.HTML object>"
      ]
     },
     "metadata": {},
     "output_type": "display_data"
    },
    {
     "data": {
      "image/png": "[encoded data removed]",
      "text/plain": [
       "<Figure size 800x650 with 1 Axes>"
      ]
     },
     "metadata": {},
     "output_type": "display_data"
    }
   ],
   "source": [
    "import xgboost\n",
    "import shap\n",
    "\n",
    "XG_train = df_train.drop([\"taxon_id\", \"media_id\"], axis=1)\n",
    "yG_train = df_train[\"taxon_id\"]\n",
    "\n",
    "df_test = df[bins]\n",
    "XG_test = df_test.drop([\"taxon_id\", \"media_id\"], axis=1)\n",
    "yG_test = df_test[\"taxon_id\"]\n",
    "\n",
    "# train an XGBoost model\n",
    "model = xgboost.XGBRegressor().fit(XG_train, yG_train)\n",
    "\n",
    "# explain the model's predictions using SHAP\n",
    "explainer = shap.Explainer(model)\n",
    "shap_values = explainer(XG_test)\n",
    "\n",
    "shap.plots.initjs()\n",
    "#shap.plots.beeswarm(shap_values, max_display=11)\n",
    "shap.plots.bar(shap_values, max_display=10)"
   ]
  },
  {
   "cell_type": "code",
   "execution_count": 22,
   "metadata": {},
   "outputs": [
    {
     "data": {
      "text/plain": [
       "[Text(0, 0, '   +305339.59'),\n",
       " Text(0, 0, '   +176391.19'),\n",
       " Text(0, 0, '   +155674.45'),\n",
       " Text(0, 0, '   +106727.88'),\n",
       " Text(0, 0, '   +60725.4'),\n",
       " Text(0, 0, '   +49780.04'),\n",
       " Text(0, 0, '   +44997.04'),\n",
       " Text(0, 0, '   +43649.41'),\n",
       " Text(0, 0, '   +43296.69'),\n",
       " Text(0, 0, '   +1747017.5')]"
      ]
     },
     "execution_count": 22,
     "metadata": {},
     "output_type": "execute_result"
    },
    {
     "data": {
      "image/png": "[encoded data removed]",
      "text/plain": [
       "<Figure size 640x480 with 1 Axes>"
      ]
     },
     "metadata": {},
     "output_type": "display_data"
    }
   ],
   "source": [
    "dict = {\n",
    "    \"features\": [\"1.21.98.3\",\"4.2.3.1\", \"1.20.4.1\", \"3.2.1.74\", \"2.6.1.51\", \"1.4.1.3\", \"1.1.1.18\", \"1.9.3.1\", \"3.6.1.7\", \"Sum of 3625 other features\"], #\"4.1.1.17\", \n",
    "    \"importance\": [305339.59, 176391.19, 155674.45, 106727.88, 60725.4, 49780.04, 44997.04, 43649.41, 43296.69, 1747017.5] #38625, 1708392.5\n",
    "}\n",
    "\n",
    "df = pd.DataFrame(dict)\n",
    "\n",
    "df[\"labels\"] = df[\"importance\"].astype(str)\n",
    "df[\"labels\"] = \"   +\" + df[\"labels\"]\n",
    "\n",
    "import seaborn as sns\n",
    "import matplotlib.pyplot as plt\n",
    "\n",
    "sns.set_theme(style=\"white\")\n",
    "f, ax = plt.subplots()\n",
    "\n",
    "sns.barplot(x=\"importance\", y=\"features\", data=df, color=\"#5c96a5\")\n",
    "\n",
    "ax.set(ylabel=\"\", xlabel=\"mean(|SHAP value|)\")\n",
    "sns.despine(left=True, bottom=True)\n",
    "ax.bar_label(ax.containers[0], labels=df[\"labels\"])"
   ]
  },
  {
   "cell_type": "markdown",
   "metadata": {},
   "source": [
    "# Media Model"
   ]
  },
  {
   "cell_type": "code",
   "execution_count": 23,
   "metadata": {},
   "outputs": [
    {
     "data": {
      "text/html": [
       "<div>\n",
       "<style scoped>\n",
       "    .dataframe tbody tr th:only-of-type {\n",
       "        vertical-align: middle;\n",
       "    }\n",
       "\n",
       "    .dataframe tbody tr th {\n",
       "        vertical-align: top;\n",
       "    }\n",
       "\n",
       "    .dataframe thead th {\n",
       "        text-align: right;\n",
       "    }\n",
       "</style>\n",
       "<table border=\"1\" class=\"dataframe\">\n",
       "  <thead>\n",
       "    <tr style=\"text-align: right;\">\n",
       "      <th>component_ids</th>\n",
       "      <th>media_id</th>\n",
       "      <th>1.0</th>\n",
       "      <th>2.0</th>\n",
       "      <th>3.0</th>\n",
       "      <th>5.0</th>\n",
       "      <th>6.0</th>\n",
       "      <th>7.0</th>\n",
       "      <th>8.0</th>\n",
       "      <th>9.0</th>\n",
       "      <th>10.0</th>\n",
       "      <th>...</th>\n",
       "      <th>2371.0</th>\n",
       "      <th>2375.0</th>\n",
       "      <th>2378.0</th>\n",
       "      <th>2384.0</th>\n",
       "      <th>2388.0</th>\n",
       "      <th>2389.0</th>\n",
       "      <th>2391.0</th>\n",
       "      <th>2394.0</th>\n",
       "      <th>2397.0</th>\n",
       "      <th>2398.0</th>\n",
       "    </tr>\n",
       "  </thead>\n",
       "  <tbody>\n",
       "    <tr>\n",
       "      <th>0</th>\n",
       "      <td>1</td>\n",
       "      <td>1.0</td>\n",
       "      <td>1.0</td>\n",
       "      <td>1.0</td>\n",
       "      <td>0.0</td>\n",
       "      <td>0.0</td>\n",
       "      <td>0.0</td>\n",
       "      <td>0.0</td>\n",
       "      <td>0.0</td>\n",
       "      <td>0.0</td>\n",
       "      <td>...</td>\n",
       "      <td>0.0</td>\n",
       "      <td>0.0</td>\n",
       "      <td>0.0</td>\n",
       "      <td>0.0</td>\n",
       "      <td>0.0</td>\n",
       "      <td>0.0</td>\n",
       "      <td>0.0</td>\n",
       "      <td>0.0</td>\n",
       "      <td>0.0</td>\n",
       "      <td>0.0</td>\n",
       "    </tr>\n",
       "    <tr>\n",
       "      <th>1</th>\n",
       "      <td>10</td>\n",
       "      <td>0.0</td>\n",
       "      <td>0.0</td>\n",
       "      <td>1.0</td>\n",
       "      <td>1.0</td>\n",
       "      <td>0.0</td>\n",
       "      <td>0.0</td>\n",
       "      <td>0.0</td>\n",
       "      <td>0.0</td>\n",
       "      <td>0.0</td>\n",
       "      <td>...</td>\n",
       "      <td>0.0</td>\n",
       "      <td>0.0</td>\n",
       "      <td>0.0</td>\n",
       "      <td>0.0</td>\n",
       "      <td>0.0</td>\n",
       "      <td>0.0</td>\n",
       "      <td>0.0</td>\n",
       "      <td>0.0</td>\n",
       "      <td>0.0</td>\n",
       "      <td>0.0</td>\n",
       "    </tr>\n",
       "    <tr>\n",
       "      <th>2</th>\n",
       "      <td>1000</td>\n",
       "      <td>0.0</td>\n",
       "      <td>0.0</td>\n",
       "      <td>0.0</td>\n",
       "      <td>0.0</td>\n",
       "      <td>0.0</td>\n",
       "      <td>1.0</td>\n",
       "      <td>1.0</td>\n",
       "      <td>1.0</td>\n",
       "      <td>1.0</td>\n",
       "      <td>...</td>\n",
       "      <td>0.0</td>\n",
       "      <td>0.0</td>\n",
       "      <td>0.0</td>\n",
       "      <td>0.0</td>\n",
       "      <td>0.0</td>\n",
       "      <td>0.0</td>\n",
       "      <td>0.0</td>\n",
       "      <td>0.0</td>\n",
       "      <td>0.0</td>\n",
       "      <td>0.0</td>\n",
       "    </tr>\n",
       "    <tr>\n",
       "      <th>3</th>\n",
       "      <td>1001</td>\n",
       "      <td>0.0</td>\n",
       "      <td>0.0</td>\n",
       "      <td>0.0</td>\n",
       "      <td>0.0</td>\n",
       "      <td>0.0</td>\n",
       "      <td>1.0</td>\n",
       "      <td>0.0</td>\n",
       "      <td>0.0</td>\n",
       "      <td>0.0</td>\n",
       "      <td>...</td>\n",
       "      <td>0.0</td>\n",
       "      <td>0.0</td>\n",
       "      <td>0.0</td>\n",
       "      <td>0.0</td>\n",
       "      <td>0.0</td>\n",
       "      <td>0.0</td>\n",
       "      <td>0.0</td>\n",
       "      <td>0.0</td>\n",
       "      <td>0.0</td>\n",
       "      <td>0.0</td>\n",
       "    </tr>\n",
       "    <tr>\n",
       "      <th>4</th>\n",
       "      <td>1002</td>\n",
       "      <td>0.0</td>\n",
       "      <td>0.0</td>\n",
       "      <td>0.0</td>\n",
       "      <td>0.0</td>\n",
       "      <td>0.0</td>\n",
       "      <td>0.0</td>\n",
       "      <td>0.0</td>\n",
       "      <td>1.0</td>\n",
       "      <td>0.0</td>\n",
       "      <td>...</td>\n",
       "      <td>0.0</td>\n",
       "      <td>0.0</td>\n",
       "      <td>0.0</td>\n",
       "      <td>0.0</td>\n",
       "      <td>0.0</td>\n",
       "      <td>0.0</td>\n",
       "      <td>0.0</td>\n",
       "      <td>0.0</td>\n",
       "      <td>0.0</td>\n",
       "      <td>0.0</td>\n",
       "    </tr>\n",
       "    <tr>\n",
       "      <th>...</th>\n",
       "      <td>...</td>\n",
       "      <td>...</td>\n",
       "      <td>...</td>\n",
       "      <td>...</td>\n",
       "      <td>...</td>\n",
       "      <td>...</td>\n",
       "      <td>...</td>\n",
       "      <td>...</td>\n",
       "      <td>...</td>\n",
       "      <td>...</td>\n",
       "      <td>...</td>\n",
       "      <td>...</td>\n",
       "      <td>...</td>\n",
       "      <td>...</td>\n",
       "      <td>...</td>\n",
       "      <td>...</td>\n",
       "      <td>...</td>\n",
       "      <td>...</td>\n",
       "      <td>...</td>\n",
       "      <td>...</td>\n",
       "      <td>...</td>\n",
       "    </tr>\n",
       "    <tr>\n",
       "      <th>3129</th>\n",
       "      <td>J994</td>\n",
       "      <td>0.0</td>\n",
       "      <td>0.0</td>\n",
       "      <td>0.0</td>\n",
       "      <td>0.0</td>\n",
       "      <td>0.0</td>\n",
       "      <td>1.0</td>\n",
       "      <td>1.0</td>\n",
       "      <td>1.0</td>\n",
       "      <td>1.0</td>\n",
       "      <td>...</td>\n",
       "      <td>0.0</td>\n",
       "      <td>0.0</td>\n",
       "      <td>0.0</td>\n",
       "      <td>0.0</td>\n",
       "      <td>0.0</td>\n",
       "      <td>0.0</td>\n",
       "      <td>0.0</td>\n",
       "      <td>0.0</td>\n",
       "      <td>0.0</td>\n",
       "      <td>0.0</td>\n",
       "    </tr>\n",
       "    <tr>\n",
       "      <th>3130</th>\n",
       "      <td>J995</td>\n",
       "      <td>0.0</td>\n",
       "      <td>0.0</td>\n",
       "      <td>0.0</td>\n",
       "      <td>0.0</td>\n",
       "      <td>0.0</td>\n",
       "      <td>1.0</td>\n",
       "      <td>1.0</td>\n",
       "      <td>0.0</td>\n",
       "      <td>0.0</td>\n",
       "      <td>...</td>\n",
       "      <td>0.0</td>\n",
       "      <td>0.0</td>\n",
       "      <td>0.0</td>\n",
       "      <td>0.0</td>\n",
       "      <td>0.0</td>\n",
       "      <td>0.0</td>\n",
       "      <td>0.0</td>\n",
       "      <td>0.0</td>\n",
       "      <td>0.0</td>\n",
       "      <td>0.0</td>\n",
       "    </tr>\n",
       "    <tr>\n",
       "      <th>3131</th>\n",
       "      <td>J997</td>\n",
       "      <td>0.0</td>\n",
       "      <td>0.0</td>\n",
       "      <td>0.0</td>\n",
       "      <td>1.0</td>\n",
       "      <td>0.0</td>\n",
       "      <td>0.0</td>\n",
       "      <td>0.0</td>\n",
       "      <td>0.0</td>\n",
       "      <td>0.0</td>\n",
       "      <td>...</td>\n",
       "      <td>0.0</td>\n",
       "      <td>0.0</td>\n",
       "      <td>0.0</td>\n",
       "      <td>0.0</td>\n",
       "      <td>0.0</td>\n",
       "      <td>0.0</td>\n",
       "      <td>0.0</td>\n",
       "      <td>0.0</td>\n",
       "      <td>0.0</td>\n",
       "      <td>0.0</td>\n",
       "    </tr>\n",
       "    <tr>\n",
       "      <th>3132</th>\n",
       "      <td>J998</td>\n",
       "      <td>0.0</td>\n",
       "      <td>0.0</td>\n",
       "      <td>0.0</td>\n",
       "      <td>0.0</td>\n",
       "      <td>0.0</td>\n",
       "      <td>1.0</td>\n",
       "      <td>0.0</td>\n",
       "      <td>1.0</td>\n",
       "      <td>0.0</td>\n",
       "      <td>...</td>\n",
       "      <td>0.0</td>\n",
       "      <td>0.0</td>\n",
       "      <td>0.0</td>\n",
       "      <td>0.0</td>\n",
       "      <td>0.0</td>\n",
       "      <td>0.0</td>\n",
       "      <td>0.0</td>\n",
       "      <td>0.0</td>\n",
       "      <td>0.0</td>\n",
       "      <td>0.0</td>\n",
       "    </tr>\n",
       "    <tr>\n",
       "      <th>3133</th>\n",
       "      <td>J999</td>\n",
       "      <td>0.0</td>\n",
       "      <td>0.0</td>\n",
       "      <td>1.0</td>\n",
       "      <td>1.0</td>\n",
       "      <td>0.0</td>\n",
       "      <td>0.0</td>\n",
       "      <td>0.0</td>\n",
       "      <td>0.0</td>\n",
       "      <td>0.0</td>\n",
       "      <td>...</td>\n",
       "      <td>0.0</td>\n",
       "      <td>0.0</td>\n",
       "      <td>0.0</td>\n",
       "      <td>0.0</td>\n",
       "      <td>0.0</td>\n",
       "      <td>0.0</td>\n",
       "      <td>0.0</td>\n",
       "      <td>0.0</td>\n",
       "      <td>0.0</td>\n",
       "      <td>0.0</td>\n",
       "    </tr>\n",
       "  </tbody>\n",
       "</table>\n",
       "<p>3134 rows × 1206 columns</p>\n",
       "</div>"
      ],
      "text/plain": [
       "component_ids media_id  1.0  2.0  3.0  5.0  6.0  7.0  8.0  9.0  10.0  ...  \\\n",
       "0                    1  1.0  1.0  1.0  0.0  0.0  0.0  0.0  0.0   0.0  ...   \n",
       "1                   10  0.0  0.0  1.0  1.0  0.0  0.0  0.0  0.0   0.0  ...   \n",
       "2                 1000  0.0  0.0  0.0  0.0  0.0  1.0  1.0  1.0   1.0  ...   \n",
       "3                 1001  0.0  0.0  0.0  0.0  0.0  1.0  0.0  0.0   0.0  ...   \n",
       "4                 1002  0.0  0.0  0.0  0.0  0.0  0.0  0.0  1.0   0.0  ...   \n",
       "...                ...  ...  ...  ...  ...  ...  ...  ...  ...   ...  ...   \n",
       "3129              J994  0.0  0.0  0.0  0.0  0.0  1.0  1.0  1.0   1.0  ...   \n",
       "3130              J995  0.0  0.0  0.0  0.0  0.0  1.0  1.0  0.0   0.0  ...   \n",
       "3131              J997  0.0  0.0  0.0  1.0  0.0  0.0  0.0  0.0   0.0  ...   \n",
       "3132              J998  0.0  0.0  0.0  0.0  0.0  1.0  0.0  1.0   0.0  ...   \n",
       "3133              J999  0.0  0.0  1.0  1.0  0.0  0.0  0.0  0.0   0.0  ...   \n",
       "\n",
       "component_ids  2371.0  2375.0  2378.0  2384.0  2388.0  2389.0  2391.0  2394.0  \\\n",
       "0                 0.0     0.0     0.0     0.0     0.0     0.0     0.0     0.0   \n",
       "1                 0.0     0.0     0.0     0.0     0.0     0.0     0.0     0.0   \n",
       "2                 0.0     0.0     0.0     0.0     0.0     0.0     0.0     0.0   \n",
       "3                 0.0     0.0     0.0     0.0     0.0     0.0     0.0     0.0   \n",
       "4                 0.0     0.0     0.0     0.0     0.0     0.0     0.0     0.0   \n",
       "...               ...     ...     ...     ...     ...     ...     ...     ...   \n",
       "3129              0.0     0.0     0.0     0.0     0.0     0.0     0.0     0.0   \n",
       "3130              0.0     0.0     0.0     0.0     0.0     0.0     0.0     0.0   \n",
       "3131              0.0     0.0     0.0     0.0     0.0     0.0     0.0     0.0   \n",
       "3132              0.0     0.0     0.0     0.0     0.0     0.0     0.0     0.0   \n",
       "3133              0.0     0.0     0.0     0.0     0.0     0.0     0.0     0.0   \n",
       "\n",
       "component_ids  2397.0  2398.0  \n",
       "0                 0.0     0.0  \n",
       "1                 0.0     0.0  \n",
       "2                 0.0     0.0  \n",
       "3                 0.0     0.0  \n",
       "4                 0.0     0.0  \n",
       "...               ...     ...  \n",
       "3129              0.0     0.0  \n",
       "3130              0.0     0.0  \n",
       "3131              0.0     0.0  \n",
       "3132              0.0     0.0  \n",
       "3133              0.0     0.0  \n",
       "\n",
       "[3134 rows x 1206 columns]"
      ]
     },
     "execution_count": 23,
     "metadata": {},
     "output_type": "execute_result"
    }
   ],
   "source": [
    "# Load dataframe\n",
    "media_df = pd.read_csv(os.path.join(DATA_DIR, \"mediadive\", \"mediadive-complete-explo.csv\"), low_memory=False)\n",
    "media_df = media_df[[\"media_id\", \"component_ids\"]]\n",
    "\n",
    "\n",
    "df = media_df[[\"media_id\", \"component_ids\"]].value_counts().reset_index()\n",
    "df = df.pivot(index=\"media_id\", columns=\"component_ids\", values=\"count\")\n",
    "df = df.fillna(0.0)\n",
    "df = df.map(lambda x: 1.0 if x > 0 else 0.0).reset_index() # make binary\n",
    "\n",
    "df = df.drop(4.0, axis=1) # drop water as an ingredient, consider other \"universal\" features, or use sklearn \"feature selection\"\n",
    "\n",
    "df"
   ]
  },
  {
   "cell_type": "code",
   "execution_count": 24,
   "metadata": {},
   "outputs": [],
   "source": [
    "import umap\n",
    "\n",
    "reducer = umap.UMAP(             \n",
    "    metric=\"euclidean\",\n",
    "    n_epochs=500, \n",
    "    random_state=RANDOM_SEED,\n",
    "    n_jobs=1,\n",
    "    n_components=2, #13\n",
    "    n_neighbors=73, #97\n",
    "    min_dist=0 #0\n",
    ")\n",
    "\n",
    "# Fit and transform\n",
    "X_train_transformed = reducer.fit_transform(df.drop(\"media_id\", axis=1)) "
   ]
  },
  {
   "cell_type": "code",
   "execution_count": 25,
   "metadata": {},
   "outputs": [
    {
     "name": "stdout",
     "output_type": "stream",
     "text": [
      "23 KMeans training clusters\n",
      "Average Silhouette Score on KMeans clusters: 0.5506554245948792\n",
      "3134 training points\n"
     ]
    },
    {
     "name": "stderr",
     "output_type": "stream",
     "text": [
      "c:\\Users\\jakel\\anaconda3\\envs\\media\\Lib\\site-packages\\sklearn\\cluster\\_kmeans.py:1426: UserWarning: KMeans is known to have a memory leak on Windows with MKL, when there are less chunks than available threads. You can avoid it by setting the environment variable OMP_NUM_THREADS=13.\n",
      "  warnings.warn(\n"
     ]
    }
   ],
   "source": [
    "# Cluster \n",
    "clusterer = KMeans(n_clusters=23, random_state=RANDOM_SEED)\n",
    "training_clusters = clusterer.fit_predict(X_train_transformed)\n",
    "silhouette_avg = silhouette_score(X_train_transformed, training_clusters)\n",
    "print(clusterer.labels_.max()+1, \"KMeans training clusters\")\n",
    "print(f\"Average Silhouette Score on KMeans clusters: {silhouette_avg}\")\n",
    "\n",
    "# Dataframe\n",
    "train_df = pd.DataFrame(X_train_transformed, columns=[f\"Component {i+1}\" for i in range(X_train_transformed.shape[1])])\n",
    "y_train_labels = list(df[\"media_id\"])\n",
    "train_df['Target'] = y_train_labels\n",
    "train_df['KMeans Cluster'] = training_clusters\n",
    "\n",
    "print(len(train_df), \"training points\")"
   ]
  },
  {
   "cell_type": "code",
   "execution_count": 26,
   "metadata": {},
   "outputs": [
    {
     "data": {
      "application/vnd.plotly.v1+json": {
       "config": {
        "plotlyServerURL": "https://plot.ly"
       },
       "data": [
        {
         "customdata": [
          [
           "1"
          ],
          [
           "10"
          ],
          [
           "1000"
          ],
          [
           "1001"
          ],
          [
           "1002"
          ],
          [
           "1003"
          ],
          [
           "1004"
          ],
          [
           "1005"
          ],
          [
           "1006"
          ],
          [
           "1007"
          ],
          [
           "1008"
          ],
          [
           "1009"
          ],
          [
           "101"
          ],
          [
           "1010"
          ],
          [
           "1011"
          ],
          [
           "1011a"
          ],
          [
           "1011b"
          ],
          [
           "1011c"
          ],
          [
           "1011d"
          ],
          [
           "1012"
          ],
          [
           "1012a"
          ],
          [
           "1012b"
          ],
          [
           "1013"
          ],
          [
           "1014"
          ],
          [
           "1015"
          ],
          [
           "1016"
          ],
          [
           "1017"
          ],
          [
           "1018"
          ],
          [
           "1019"
          ],
          [
           "102"
          ],
          [
           "1020"
          ],
          [
           "1021"
          ],
          [
           "1022"
          ],
          [
           "1023"
          ],
          [
           "1024"
          ],
          [
           "1025"
          ],
          [
           "1026"
          ],
          [
           "1027"
          ],
          [
           "1028"
          ],
          [
           "1029"
          ],
          [
           "1030"
          ],
          [
           "1031"
          ],
          [
           "1031a"
          ],
          [
           "1032"
          ],
          [
           "1033"
          ],
          [
           "1034"
          ],
          [
           "1035"
          ],
          [
           "1036"
          ],
          [
           "1037"
          ],
          [
           "1038"
          ],
          [
           "1039"
          ],
          [
           "104"
          ],
          [
           "1040"
          ],
          [
           "1041"
          ],
          [
           "1042"
          ],
          [
           "1043"
          ],
          [
           "1044"
          ],
          [
           "1045"
          ],
          [
           "1046"
          ],
          [
           "1047"
          ],
          [
           "1048"
          ],
          [
           "1049"
          ],
          [
           "104a"
          ],
          [
           "104b"
          ],
          [
           "104c"
          ],
          [
           "104d"
          ],
          [
           "105"
          ],
          [
           "1050"
          ],
          [
           "1051"
          ],
          [
           "1052"
          ],
          [
           "1053"
          ],
          [
           "1053a"
          ],
          [
           "1054"
          ],
          [
           "1055"
          ],
          [
           "1056"
          ],
          [
           "1057"
          ],
          [
           "1058"
          ],
          [
           "1058a"
          ],
          [
           "1058b"
          ],
          [
           "1058c"
          ],
          [
           "1058d"
          ],
          [
           "1058e"
          ],
          [
           "1059"
          ],
          [
           "1060"
          ],
          [
           "1061"
          ],
          [
           "1062"
          ],
          [
           "1063"
          ],
          [
           "1064"
          ],
          [
           "1065"
          ],
          [
           "1066"
          ],
          [
           "1068"
          ],
          [
           "1069"
          ],
          [
           "1070"
          ],
          [
           "1071"
          ],
          [
           "1072"
          ],
          [
           "1073"
          ],
          [
           "1074"
          ],
          [
           "1075"
          ],
          [
           "1076"
          ],
          [
           "1076a"
          ],
          [
           "1076b"
          ],
          [
           "1077"
          ],
          [
           "1078"
          ],
          [
           "1079"
          ],
          [
           "108"
          ],
          [
           "1080"
          ],
          [
           "1081"
          ],
          [
           "1081a"
          ],
          [
           "1082"
          ],
          [
           "1083"
          ],
          [
           "1084"
          ],
          [
           "1085"
          ],
          [
           "1086"
          ],
          [
           "1087"
          ],
          [
           "109"
          ],
          [
           "1090"
          ],
          [
           "1091"
          ],
          [
           "1092"
          ],
          [
           "1094"
          ],
          [
           "1095"
          ],
          [
           "1096"
          ],
          [
           "1097"
          ],
          [
           "1098"
          ],
          [
           "1099"
          ],
          [
           "11"
          ],
          [
           "110"
          ],
          [
           "1100"
          ],
          [
           "1101"
          ],
          [
           "1101a"
          ],
          [
           "1102"
          ],
          [
           "1104"
          ],
          [
           "1105"
          ],
          [
           "1106"
          ],
          [
           "1107"
          ],
          [
           "1108"
          ],
          [
           "1108a"
          ],
          [
           "1109"
          ],
          [
           "110a"
          ],
          [
           "111"
          ],
          [
           "1110"
          ],
          [
           "1111"
          ],
          [
           "1112"
          ],
          [
           "1113"
          ],
          [
           "1114"
          ],
          [
           "1115"
          ],
          [
           "1116"
          ],
          [
           "1117"
          ],
          [
           "1118"
          ],
          [
           "1119"
          ],
          [
           "1120"
          ],
          [
           "1121"
          ],
          [
           "1122"
          ],
          [
           "1122a"
          ],
          [
           "1123"
          ],
          [
           "1124"
          ],
          [
           "1125"
          ],
          [
           "1126"
          ],
          [
           "1127"
          ],
          [
           "1128"
          ],
          [
           "1129"
          ],
          [
           "113"
          ],
          [
           "1130"
          ],
          [
           "1131"
          ],
          [
           "1132"
          ],
          [
           "1133"
          ],
          [
           "1134"
          ],
          [
           "1135"
          ],
          [
           "1136"
          ],
          [
           "1137"
          ],
          [
           "1138"
          ],
          [
           "1139"
          ],
          [
           "113a"
          ],
          [
           "114"
          ],
          [
           "1140"
          ],
          [
           "1141"
          ],
          [
           "1142"
          ],
          [
           "1143"
          ],
          [
           "1144"
          ],
          [
           "1145"
          ],
          [
           "1146"
          ],
          [
           "1147"
          ],
          [
           "1148"
          ],
          [
           "1149"
          ],
          [
           "115"
          ],
          [
           "1150"
          ],
          [
           "1151"
          ],
          [
           "1152"
          ],
          [
           "1153"
          ],
          [
           "1154"
          ],
          [
           "1155"
          ],
          [
           "1156"
          ],
          [
           "1157"
          ],
          [
           "1158"
          ],
          [
           "1159"
          ],
          [
           "115a"
          ],
          [
           "1160"
          ],
          [
           "1161"
          ],
          [
           "1162"
          ],
          [
           "1163"
          ],
          [
           "1163a"
          ],
          [
           "1164"
          ],
          [
           "1165"
          ],
          [
           "1166"
          ],
          [
           "1166a"
          ],
          [
           "1167"
          ],
          [
           "1168"
          ],
          [
           "1169"
          ],
          [
           "1170"
          ],
          [
           "1171"
          ],
          [
           "1172"
          ],
          [
           "1173"
          ],
          [
           "1174"
          ],
          [
           "1175"
          ],
          [
           "1176"
          ],
          [
           "1177"
          ],
          [
           "1178"
          ],
          [
           "1179"
          ],
          [
           "118"
          ],
          [
           "1180"
          ],
          [
           "1181"
          ],
          [
           "1182"
          ],
          [
           "1183"
          ],
          [
           "1184"
          ],
          [
           "1185"
          ],
          [
           "1186"
          ],
          [
           "1187"
          ],
          [
           "1188"
          ],
          [
           "1188b"
          ],
          [
           "1189"
          ],
          [
           "119"
          ],
          [
           "1190"
          ],
          [
           "1191"
          ],
          [
           "1192"
          ],
          [
           "1193"
          ],
          [
           "1194"
          ],
          [
           "1195"
          ],
          [
           "1196"
          ],
          [
           "1197"
          ],
          [
           "1198"
          ],
          [
           "1199"
          ],
          [
           "119a"
          ],
          [
           "119b"
          ],
          [
           "119c"
          ],
          [
           "11a"
          ],
          [
           "11b"
          ],
          [
           "12"
          ],
          [
           "120"
          ],
          [
           "1200"
          ],
          [
           "1201"
          ],
          [
           "1202"
          ],
          [
           "1203"
          ],
          [
           "1203a"
          ],
          [
           "1204"
          ],
          [
           "1205"
          ],
          [
           "1206"
          ],
          [
           "1207"
          ],
          [
           "1208"
          ],
          [
           "1209"
          ],
          [
           "120a"
          ],
          [
           "120b"
          ],
          [
           "120c"
          ],
          [
           "120d"
          ],
          [
           "121"
          ],
          [
           "1210"
          ],
          [
           "1210a"
          ],
          [
           "1210b"
          ],
          [
           "1210c"
          ],
          [
           "1211"
          ],
          [
           "1212"
          ],
          [
           "1213"
          ],
          [
           "1214"
          ],
          [
           "1215"
          ],
          [
           "1216"
          ],
          [
           "1217"
          ],
          [
           "1218"
          ],
          [
           "1219"
          ],
          [
           "122"
          ],
          [
           "1220"
          ],
          [
           "1221"
          ],
          [
           "1222"
          ],
          [
           "1223"
          ],
          [
           "1224"
          ],
          [
           "1225"
          ],
          [
           "1226"
          ],
          [
           "1227"
          ],
          [
           "1228"
          ],
          [
           "1229"
          ],
          [
           "123"
          ],
          [
           "1230"
          ],
          [
           "1231"
          ],
          [
           "1232"
          ],
          [
           "1233"
          ],
          [
           "1234"
          ],
          [
           "1235"
          ],
          [
           "1236"
          ],
          [
           "1237"
          ],
          [
           "1238"
          ],
          [
           "1239"
          ],
          [
           "124"
          ],
          [
           "1240"
          ],
          [
           "1241"
          ],
          [
           "1242"
          ],
          [
           "1243"
          ],
          [
           "1244"
          ],
          [
           "1245"
          ],
          [
           "1246"
          ],
          [
           "1247"
          ],
          [
           "1248"
          ],
          [
           "1249"
          ],
          [
           "125"
          ],
          [
           "1250"
          ],
          [
           "1251"
          ],
          [
           "1252"
          ],
          [
           "1253"
          ],
          [
           "1255"
          ],
          [
           "1257"
          ],
          [
           "1258"
          ],
          [
           "1259"
          ],
          [
           "126"
          ],
          [
           "1260"
          ],
          [
           "1261"
          ],
          [
           "1262"
          ],
          [
           "1263"
          ],
          [
           "1264"
          ],
          [
           "1265"
          ],
          [
           "1266"
          ],
          [
           "1266a"
          ],
          [
           "1267"
          ],
          [
           "1267a"
          ],
          [
           "1267b"
          ],
          [
           "1269"
          ],
          [
           "127"
          ],
          [
           "1270"
          ],
          [
           "1271"
          ],
          [
           "1272"
          ],
          [
           "1273"
          ],
          [
           "1274"
          ],
          [
           "1275"
          ],
          [
           "1276"
          ],
          [
           "1277"
          ],
          [
           "1277a"
          ],
          [
           "1277b"
          ],
          [
           "1278"
          ],
          [
           "1279"
          ],
          [
           "1280"
          ],
          [
           "1281"
          ],
          [
           "1282"
          ],
          [
           "1283"
          ],
          [
           "1284"
          ],
          [
           "1285"
          ],
          [
           "1286"
          ],
          [
           "1288"
          ],
          [
           "1289"
          ],
          [
           "129"
          ],
          [
           "1290"
          ],
          [
           "1291"
          ],
          [
           "1292"
          ],
          [
           "1293"
          ],
          [
           "1294"
          ],
          [
           "1295"
          ],
          [
           "1296"
          ],
          [
           "1297"
          ],
          [
           "1298"
          ],
          [
           "1299"
          ],
          [
           "13"
          ],
          [
           "130"
          ],
          [
           "1300"
          ],
          [
           "1301"
          ],
          [
           "1302"
          ],
          [
           "1303"
          ],
          [
           "1304"
          ],
          [
           "1305"
          ],
          [
           "1306"
          ],
          [
           "1307"
          ],
          [
           "1308"
          ],
          [
           "1309"
          ],
          [
           "1310"
          ],
          [
           "1311"
          ],
          [
           "1312"
          ],
          [
           "1313"
          ],
          [
           "1314"
          ],
          [
           "1315"
          ],
          [
           "1317"
          ],
          [
           "1318"
          ],
          [
           "1320"
          ],
          [
           "1321"
          ],
          [
           "1322"
          ],
          [
           "1323"
          ],
          [
           "1324"
          ],
          [
           "1325"
          ],
          [
           "1326"
          ],
          [
           "1327"
          ],
          [
           "1328"
          ],
          [
           "1329"
          ],
          [
           "133"
          ],
          [
           "1330"
          ],
          [
           "1331"
          ],
          [
           "1332"
          ],
          [
           "1333"
          ],
          [
           "1334"
          ],
          [
           "1335"
          ],
          [
           "1336"
          ],
          [
           "1337"
          ],
          [
           "1338"
          ],
          [
           "1339"
          ],
          [
           "134"
          ],
          [
           "1340"
          ],
          [
           "1341"
          ],
          [
           "1342"
          ],
          [
           "1343"
          ],
          [
           "1344"
          ],
          [
           "1345"
          ],
          [
           "1346"
          ],
          [
           "1347"
          ],
          [
           "1348"
          ],
          [
           "1349"
          ],
          [
           "135"
          ],
          [
           "1350"
          ],
          [
           "1351"
          ],
          [
           "1352"
          ],
          [
           "1353"
          ],
          [
           "1354"
          ],
          [
           "1355"
          ],
          [
           "1356"
          ],
          [
           "1357"
          ],
          [
           "1358"
          ],
          [
           "1359"
          ],
          [
           "135a"
          ],
          [
           "135b"
          ],
          [
           "135c"
          ],
          [
           "136"
          ],
          [
           "1360"
          ],
          [
           "1361"
          ],
          [
           "1362"
          ],
          [
           "1363"
          ],
          [
           "1364"
          ],
          [
           "1365"
          ],
          [
           "1365a"
          ],
          [
           "1366"
          ],
          [
           "1367"
          ],
          [
           "1368"
          ],
          [
           "1369"
          ],
          [
           "137"
          ],
          [
           "1370"
          ],
          [
           "1371"
          ],
          [
           "1372"
          ],
          [
           "1373"
          ],
          [
           "1374"
          ],
          [
           "1375"
          ],
          [
           "1376"
          ],
          [
           "1377"
          ],
          [
           "1378"
          ],
          [
           "1379"
          ],
          [
           "138"
          ],
          [
           "1380"
          ],
          [
           "1381"
          ],
          [
           "1382"
          ],
          [
           "1383"
          ],
          [
           "1384"
          ],
          [
           "1385"
          ],
          [
           "1386"
          ],
          [
           "1387"
          ],
          [
           "1388"
          ],
          [
           "1389"
          ],
          [
           "139"
          ],
          [
           "1390"
          ],
          [
           "1391"
          ],
          [
           "1392"
          ],
          [
           "1393"
          ],
          [
           "1394"
          ],
          [
           "1395"
          ],
          [
           "1396"
          ],
          [
           "1397"
          ],
          [
           "1398"
          ],
          [
           "1399"
          ],
          [
           "14"
          ],
          [
           "140"
          ],
          [
           "1400"
          ],
          [
           "1401"
          ],
          [
           "1402"
          ],
          [
           "1403"
          ],
          [
           "1404"
          ],
          [
           "1405"
          ],
          [
           "1406"
          ],
          [
           "1407"
          ],
          [
           "1408"
          ],
          [
           "1409"
          ],
          [
           "141"
          ],
          [
           "1410"
          ],
          [
           "1411"
          ],
          [
           "1412"
          ],
          [
           "1413"
          ],
          [
           "1414"
          ],
          [
           "1415"
          ],
          [
           "1416"
          ],
          [
           "1417"
          ],
          [
           "1419"
          ],
          [
           "141a"
          ],
          [
           "141b"
          ],
          [
           "141c"
          ],
          [
           "142"
          ],
          [
           "1420"
          ],
          [
           "1421"
          ],
          [
           "1422"
          ],
          [
           "1423"
          ],
          [
           "1424"
          ],
          [
           "1425"
          ],
          [
           "1426"
          ],
          [
           "1427"
          ],
          [
           "1428"
          ],
          [
           "1429"
          ],
          [
           "142a"
          ],
          [
           "143"
          ],
          [
           "1430"
          ],
          [
           "1431"
          ],
          [
           "1432"
          ],
          [
           "1433"
          ],
          [
           "1434"
          ],
          [
           "1435"
          ],
          [
           "1436"
          ],
          [
           "1437"
          ],
          [
           "1438"
          ],
          [
           "1439"
          ],
          [
           "144"
          ],
          [
           "1440"
          ],
          [
           "1441"
          ],
          [
           "1442"
          ],
          [
           "1443"
          ],
          [
           "1444"
          ],
          [
           "1445"
          ],
          [
           "1446"
          ],
          [
           "1447"
          ],
          [
           "1448"
          ],
          [
           "1449"
          ],
          [
           "144a"
          ],
          [
           "144b"
          ],
          [
           "1450"
          ],
          [
           "1451"
          ],
          [
           "1452"
          ],
          [
           "1453"
          ],
          [
           "1454"
          ],
          [
           "1455"
          ],
          [
           "1456"
          ],
          [
           "1457"
          ],
          [
           "1458"
          ],
          [
           "1459"
          ],
          [
           "146"
          ],
          [
           "1460"
          ],
          [
           "1461"
          ],
          [
           "1462"
          ],
          [
           "1463"
          ],
          [
           "1464"
          ],
          [
           "1465"
          ],
          [
           "1466"
          ],
          [
           "1467"
          ],
          [
           "1468"
          ],
          [
           "1469"
          ],
          [
           "147"
          ],
          [
           "1470"
          ],
          [
           "1471"
          ],
          [
           "1472"
          ],
          [
           "1473"
          ],
          [
           "1474"
          ],
          [
           "1475"
          ],
          [
           "1476"
          ],
          [
           "1477"
          ],
          [
           "1478"
          ],
          [
           "1479"
          ],
          [
           "148"
          ],
          [
           "1480"
          ],
          [
           "1481"
          ],
          [
           "1482"
          ],
          [
           "1483"
          ],
          [
           "1484"
          ],
          [
           "1485"
          ],
          [
           "1486"
          ],
          [
           "1487"
          ],
          [
           "1488"
          ],
          [
           "1489"
          ],
          [
           "149"
          ],
          [
           "1490"
          ],
          [
           "1491"
          ],
          [
           "1492"
          ],
          [
           "1493"
          ],
          [
           "1494"
          ],
          [
           "1495"
          ],
          [
           "1496"
          ],
          [
           "1497"
          ],
          [
           "1498"
          ],
          [
           "1499"
          ],
          [
           "150"
          ],
          [
           "1500"
          ],
          [
           "1501"
          ],
          [
           "1502"
          ],
          [
           "1503"
          ],
          [
           "1504"
          ],
          [
           "1505"
          ],
          [
           "1505a"
          ],
          [
           "1506"
          ],
          [
           "1508"
          ],
          [
           "1509"
          ],
          [
           "150a"
          ],
          [
           "1510"
          ],
          [
           "1511"
          ],
          [
           "1512"
          ],
          [
           "1513"
          ],
          [
           "1514"
          ],
          [
           "1515"
          ],
          [
           "1516"
          ],
          [
           "1517"
          ],
          [
           "1518"
          ],
          [
           "1519"
          ],
          [
           "152"
          ],
          [
           "1520"
          ],
          [
           "1521"
          ],
          [
           "1522"
          ],
          [
           "1523"
          ],
          [
           "1524"
          ],
          [
           "1525"
          ],
          [
           "1526"
          ],
          [
           "1526a"
          ],
          [
           "1526b"
          ],
          [
           "1526c"
          ],
          [
           "1526d"
          ],
          [
           "1526e"
          ],
          [
           "1527"
          ],
          [
           "1527a"
          ],
          [
           "1528"
          ],
          [
           "1529"
          ],
          [
           "153"
          ],
          [
           "1530"
          ],
          [
           "1531"
          ],
          [
           "1532"
          ],
          [
           "1533"
          ],
          [
           "1534"
          ],
          [
           "1535"
          ],
          [
           "1536"
          ],
          [
           "1537"
          ],
          [
           "1538"
          ],
          [
           "1539"
          ],
          [
           "1540"
          ],
          [
           "1541"
          ],
          [
           "1542"
          ],
          [
           "1543"
          ],
          [
           "1544"
          ],
          [
           "1545"
          ],
          [
           "1546"
          ],
          [
           "1547"
          ],
          [
           "1548"
          ],
          [
           "1549"
          ],
          [
           "155"
          ],
          [
           "1550"
          ],
          [
           "1551"
          ],
          [
           "1552"
          ],
          [
           "1553"
          ],
          [
           "1555"
          ],
          [
           "1556"
          ],
          [
           "1557"
          ],
          [
           "1559"
          ],
          [
           "156"
          ],
          [
           "1560"
          ],
          [
           "1560a"
          ],
          [
           "1561"
          ],
          [
           "1562"
          ],
          [
           "1563"
          ],
          [
           "1564"
          ],
          [
           "1565"
          ],
          [
           "1566"
          ],
          [
           "1567"
          ],
          [
           "1568"
          ],
          [
           "1569"
          ],
          [
           "157"
          ],
          [
           "1570"
          ],
          [
           "1571"
          ],
          [
           "1572"
          ],
          [
           "1573"
          ],
          [
           "1577"
          ],
          [
           "1578"
          ],
          [
           "1579"
          ],
          [
           "158"
          ],
          [
           "1580"
          ],
          [
           "1581"
          ],
          [
           "1582"
          ],
          [
           "1583"
          ],
          [
           "1584"
          ],
          [
           "1585"
          ],
          [
           "1585a"
          ],
          [
           "1586"
          ],
          [
           "1587"
          ],
          [
           "1588"
          ],
          [
           "1589"
          ],
          [
           "159"
          ],
          [
           "1590"
          ],
          [
           "1592"
          ],
          [
           "1593"
          ],
          [
           "1593a"
          ],
          [
           "1594"
          ],
          [
           "1595"
          ],
          [
           "1596"
          ],
          [
           "1597"
          ],
          [
           "1597a"
          ],
          [
           "1597b"
          ],
          [
           "1598"
          ],
          [
           "1599"
          ],
          [
           "160"
          ],
          [
           "1600"
          ],
          [
           "1601"
          ],
          [
           "1602"
          ],
          [
           "1603"
          ],
          [
           "1604"
          ],
          [
           "1605"
          ],
          [
           "1606"
          ],
          [
           "1607"
          ],
          [
           "1608"
          ],
          [
           "1609"
          ],
          [
           "161"
          ],
          [
           "1610"
          ],
          [
           "1611"
          ],
          [
           "1613"
          ],
          [
           "1614"
          ],
          [
           "1615"
          ],
          [
           "1616"
          ],
          [
           "1617"
          ],
          [
           "1618"
          ],
          [
           "1619"
          ],
          [
           "162"
          ],
          [
           "1620"
          ],
          [
           "1621"
          ],
          [
           "1622"
          ],
          [
           "1623"
          ],
          [
           "1624"
          ],
          [
           "1625"
          ],
          [
           "1626"
          ],
          [
           "1627"
          ],
          [
           "1628"
          ],
          [
           "1629"
          ],
          [
           "163"
          ],
          [
           "1630"
          ],
          [
           "1630a"
          ],
          [
           "1630b"
          ],
          [
           "1630c"
          ],
          [
           "1630e"
          ],
          [
           "1631"
          ],
          [
           "1632"
          ],
          [
           "1633"
          ],
          [
           "1634"
          ],
          [
           "1635"
          ],
          [
           "1636"
          ],
          [
           "1637"
          ],
          [
           "1638"
          ],
          [
           "1639"
          ],
          [
           "1640"
          ],
          [
           "1641"
          ],
          [
           "1642"
          ],
          [
           "1643"
          ],
          [
           "1644"
          ],
          [
           "1645"
          ],
          [
           "1646"
          ],
          [
           "1647"
          ],
          [
           "1649"
          ],
          [
           "165"
          ],
          [
           "1650"
          ],
          [
           "1651"
          ],
          [
           "1652"
          ],
          [
           "1653"
          ],
          [
           "1654"
          ],
          [
           "1655"
          ],
          [
           "1656"
          ],
          [
           "1657"
          ],
          [
           "1658"
          ],
          [
           "1659"
          ],
          [
           "166"
          ],
          [
           "1660"
          ],
          [
           "1661"
          ],
          [
           "1662"
          ],
          [
           "1663"
          ],
          [
           "1664"
          ],
          [
           "1664a"
          ],
          [
           "1665"
          ],
          [
           "1666"
          ],
          [
           "1667"
          ],
          [
           "1668"
          ],
          [
           "1669"
          ],
          [
           "167"
          ],
          [
           "1670"
          ],
          [
           "1671"
          ],
          [
           "1672"
          ],
          [
           "1673"
          ],
          [
           "1674"
          ],
          [
           "1675"
          ],
          [
           "1676"
          ],
          [
           "1677"
          ],
          [
           "1678"
          ],
          [
           "1679"
          ],
          [
           "1680"
          ],
          [
           "1680a"
          ],
          [
           "1681"
          ],
          [
           "1682"
          ],
          [
           "1683"
          ],
          [
           "1684"
          ],
          [
           "1685"
          ],
          [
           "1686"
          ],
          [
           "1687"
          ],
          [
           "1688"
          ],
          [
           "1689"
          ],
          [
           "169"
          ],
          [
           "1690"
          ],
          [
           "1691"
          ],
          [
           "1692"
          ],
          [
           "1693"
          ],
          [
           "1694"
          ],
          [
           "1695"
          ],
          [
           "1696"
          ],
          [
           "1697"
          ],
          [
           "1698"
          ],
          [
           "1699"
          ],
          [
           "169b"
          ],
          [
           "170"
          ],
          [
           "1700"
          ],
          [
           "1701"
          ],
          [
           "1702"
          ],
          [
           "1703"
          ],
          [
           "1704"
          ],
          [
           "1705"
          ],
          [
           "1706"
          ],
          [
           "1707"
          ],
          [
           "1708"
          ],
          [
           "1709"
          ],
          [
           "171"
          ],
          [
           "1710"
          ],
          [
           "1712"
          ],
          [
           "1713"
          ],
          [
           "1714"
          ],
          [
           "1715"
          ],
          [
           "1716"
          ],
          [
           "1717"
          ],
          [
           "1718"
          ],
          [
           "1719"
          ],
          [
           "172"
          ],
          [
           "1720"
          ],
          [
           "1721"
          ],
          [
           "1722"
          ],
          [
           "1723"
          ],
          [
           "1723a"
          ],
          [
           "1724"
          ],
          [
           "1725"
          ],
          [
           "1726"
          ],
          [
           "1727"
          ],
          [
           "1728"
          ],
          [
           "1729"
          ],
          [
           "172a"
          ],
          [
           "173"
          ],
          [
           "1730"
          ],
          [
           "1731"
          ],
          [
           "1732"
          ],
          [
           "1733"
          ],
          [
           "1734"
          ],
          [
           "1735"
          ],
          [
           "1736"
          ],
          [
           "1737"
          ],
          [
           "1738"
          ],
          [
           "1739"
          ],
          [
           "174"
          ],
          [
           "1740"
          ],
          [
           "1741"
          ],
          [
           "1742"
          ],
          [
           "1743"
          ],
          [
           "1748"
          ],
          [
           "1749"
          ],
          [
           "1750"
          ],
          [
           "1752"
          ],
          [
           "1753"
          ],
          [
           "1755"
          ],
          [
           "1757"
          ],
          [
           "1761"
          ],
          [
           "1762"
          ],
          [
           "1763"
          ],
          [
           "1764"
          ],
          [
           "1765"
          ],
          [
           "1775"
          ],
          [
           "1778a"
          ],
          [
           "1790"
          ],
          [
           "1793"
          ],
          [
           "1794"
          ],
          [
           "1796"
          ],
          [
           "1797"
          ],
          [
           "1800"
          ],
          [
           "1801"
          ],
          [
           "1802"
          ],
          [
           "1805"
          ],
          [
           "1809"
          ],
          [
           "181"
          ],
          [
           "1810"
          ],
          [
           "1815"
          ],
          [
           "1816"
          ],
          [
           "1817"
          ],
          [
           "1818"
          ],
          [
           "182"
          ],
          [
           "1820"
          ],
          [
           "1825"
          ],
          [
           "1828"
          ],
          [
           "1829"
          ],
          [
           "182a"
          ],
          [
           "183"
          ],
          [
           "1830"
          ],
          [
           "1831"
          ],
          [
           "1831a"
          ],
          [
           "1832"
          ],
          [
           "1836"
          ],
          [
           "1837"
          ],
          [
           "1840"
          ],
          [
           "1841"
          ],
          [
           "185"
          ],
          [
           "186"
          ],
          [
           "187"
          ],
          [
           "188"
          ],
          [
           "189"
          ],
          [
           "190"
          ],
          [
           "191"
          ],
          [
           "192"
          ],
          [
           "193"
          ],
          [
           "193a"
          ],
          [
           "193b"
          ],
          [
           "194"
          ],
          [
           "194a"
          ],
          [
           "194b"
          ],
          [
           "195"
          ],
          [
           "195a"
          ],
          [
           "195b"
          ],
          [
           "195c"
          ],
          [
           "195d"
          ],
          [
           "196"
          ],
          [
           "198"
          ],
          [
           "1a"
          ],
          [
           "2"
          ],
          [
           "201"
          ],
          [
           "202"
          ],
          [
           "203"
          ],
          [
           "204"
          ],
          [
           "205"
          ],
          [
           "206"
          ],
          [
           "207"
          ],
          [
           "209"
          ],
          [
           "21"
          ],
          [
           "210"
          ],
          [
           "211"
          ],
          [
           "212"
          ],
          [
           "212a"
          ],
          [
           "213"
          ],
          [
           "214"
          ],
          [
           "215"
          ],
          [
           "215a"
          ],
          [
           "215b"
          ],
          [
           "215c"
          ],
          [
           "216"
          ],
          [
           "217"
          ],
          [
           "218"
          ],
          [
           "219"
          ],
          [
           "220"
          ],
          [
           "220a"
          ],
          [
           "221"
          ],
          [
           "222"
          ],
          [
           "223"
          ],
          [
           "224"
          ],
          [
           "225"
          ],
          [
           "226"
          ],
          [
           "227"
          ],
          [
           "228"
          ],
          [
           "229"
          ],
          [
           "230"
          ],
          [
           "231"
          ],
          [
           "232"
          ],
          [
           "232b"
          ],
          [
           "233"
          ],
          [
           "234"
          ],
          [
           "236"
          ],
          [
           "237"
          ],
          [
           "238"
          ],
          [
           "239"
          ],
          [
           "240"
          ],
          [
           "241"
          ],
          [
           "242"
          ],
          [
           "243"
          ],
          [
           "245"
          ],
          [
           "246"
          ],
          [
           "246a"
          ],
          [
           "248"
          ],
          [
           "249"
          ],
          [
           "25"
          ],
          [
           "250"
          ],
          [
           "251"
          ],
          [
           "252"
          ],
          [
           "253"
          ],
          [
           "254"
          ],
          [
           "255"
          ],
          [
           "256"
          ],
          [
           "257"
          ],
          [
           "258"
          ],
          [
           "259"
          ],
          [
           "26"
          ],
          [
           "260"
          ],
          [
           "261"
          ],
          [
           "262"
          ],
          [
           "263"
          ],
          [
           "264"
          ],
          [
           "265"
          ],
          [
           "266"
          ],
          [
           "267"
          ],
          [
           "268"
          ],
          [
           "269"
          ],
          [
           "27"
          ],
          [
           "271"
          ],
          [
           "274"
          ],
          [
           "275"
          ],
          [
           "276"
          ],
          [
           "277"
          ],
          [
           "28"
          ],
          [
           "280"
          ],
          [
           "281"
          ],
          [
           "282"
          ],
          [
           "282a"
          ],
          [
           "282b"
          ],
          [
           "283"
          ],
          [
           "284"
          ],
          [
           "286"
          ],
          [
           "287"
          ],
          [
           "288"
          ],
          [
           "289"
          ],
          [
           "28a"
          ],
          [
           "28b"
          ],
          [
           "29"
          ],
          [
           "291"
          ],
          [
           "292"
          ],
          [
           "293"
          ],
          [
           "294"
          ],
          [
           "295"
          ],
          [
           "298"
          ],
          [
           "298a"
          ],
          [
           "298b"
          ],
          [
           "29a"
          ],
          [
           "3"
          ],
          [
           "300"
          ],
          [
           "301"
          ],
          [
           "302"
          ],
          [
           "303"
          ],
          [
           "305"
          ],
          [
           "306"
          ],
          [
           "308"
          ],
          [
           "309"
          ],
          [
           "31"
          ],
          [
           "310"
          ],
          [
           "310a"
          ],
          [
           "311"
          ],
          [
           "311a"
          ],
          [
           "311b"
          ],
          [
           "311c"
          ],
          [
           "312"
          ],
          [
           "314"
          ],
          [
           "315"
          ],
          [
           "316"
          ],
          [
           "317"
          ],
          [
           "318"
          ],
          [
           "318a"
          ],
          [
           "318b"
          ],
          [
           "318c"
          ],
          [
           "319"
          ],
          [
           "32"
          ],
          [
           "320"
          ],
          [
           "321"
          ],
          [
           "322"
          ],
          [
           "323"
          ],
          [
           "325"
          ],
          [
           "326"
          ],
          [
           "328"
          ],
          [
           "329"
          ],
          [
           "330"
          ],
          [
           "331"
          ],
          [
           "332"
          ],
          [
           "333"
          ],
          [
           "334"
          ],
          [
           "334a"
          ],
          [
           "335"
          ],
          [
           "336"
          ],
          [
           "337"
          ],
          [
           "338"
          ],
          [
           "339"
          ],
          [
           "339a"
          ],
          [
           "34"
          ],
          [
           "340"
          ],
          [
           "342"
          ],
          [
           "343"
          ],
          [
           "343a"
          ],
          [
           "344"
          ],
          [
           "346"
          ],
          [
           "347"
          ],
          [
           "347a"
          ],
          [
           "348"
          ],
          [
           "35"
          ],
          [
           "350"
          ],
          [
           "351"
          ],
          [
           "352"
          ],
          [
           "353"
          ],
          [
           "354"
          ],
          [
           "356"
          ],
          [
           "357"
          ],
          [
           "358"
          ],
          [
           "358a"
          ],
          [
           "359"
          ],
          [
           "35a"
          ],
          [
           "36"
          ],
          [
           "360"
          ],
          [
           "361"
          ],
          [
           "362"
          ],
          [
           "363"
          ],
          [
           "364"
          ],
          [
           "365"
          ],
          [
           "366"
          ],
          [
           "367"
          ],
          [
           "368"
          ],
          [
           "369"
          ],
          [
           "37"
          ],
          [
           "370"
          ],
          [
           "371"
          ],
          [
           "372"
          ],
          [
           "373"
          ],
          [
           "374"
          ],
          [
           "375"
          ],
          [
           "376"
          ],
          [
           "377"
          ],
          [
           "377a"
          ],
          [
           "377b"
          ],
          [
           "378"
          ],
          [
           "379"
          ],
          [
           "38"
          ],
          [
           "380"
          ],
          [
           "380a"
          ],
          [
           "381"
          ],
          [
           "381a"
          ],
          [
           "382"
          ],
          [
           "383"
          ],
          [
           "383a"
          ],
          [
           "383b"
          ],
          [
           "385"
          ],
          [
           "386"
          ],
          [
           "388"
          ],
          [
           "389"
          ],
          [
           "39"
          ],
          [
           "390"
          ],
          [
           "391"
          ],
          [
           "392"
          ],
          [
           "393"
          ],
          [
           "394"
          ],
          [
           "395"
          ],
          [
           "395a"
          ],
          [
           "395b"
          ],
          [
           "396"
          ],
          [
           "397"
          ],
          [
           "398"
          ],
          [
           "399"
          ],
          [
           "399a"
          ],
          [
           "40"
          ],
          [
           "401"
          ],
          [
           "402"
          ],
          [
           "403"
          ],
          [
           "404"
          ],
          [
           "405"
          ],
          [
           "407"
          ],
          [
           "408"
          ],
          [
           "410"
          ],
          [
           "411"
          ],
          [
           "412"
          ],
          [
           "413"
          ],
          [
           "414"
          ],
          [
           "419"
          ],
          [
           "420"
          ],
          [
           "421"
          ],
          [
           "422"
          ],
          [
           "423"
          ],
          [
           "425"
          ],
          [
           "426"
          ],
          [
           "427"
          ],
          [
           "428"
          ],
          [
           "429"
          ],
          [
           "429a"
          ],
          [
           "429b"
          ],
          [
           "429c"
          ],
          [
           "429d"
          ],
          [
           "429e"
          ],
          [
           "43"
          ],
          [
           "430"
          ],
          [
           "431"
          ],
          [
           "432"
          ],
          [
           "434"
          ],
          [
           "435"
          ],
          [
           "436"
          ],
          [
           "437"
          ],
          [
           "438"
          ],
          [
           "439"
          ],
          [
           "440"
          ],
          [
           "441"
          ],
          [
           "442"
          ],
          [
           "443"
          ],
          [
           "444"
          ],
          [
           "445"
          ],
          [
           "446"
          ],
          [
           "447"
          ],
          [
           "448"
          ],
          [
           "449"
          ],
          [
           "450"
          ],
          [
           "451"
          ],
          [
           "452"
          ],
          [
           "453"
          ],
          [
           "454"
          ],
          [
           "455"
          ],
          [
           "456"
          ],
          [
           "457"
          ],
          [
           "457a"
          ],
          [
           "457b"
          ],
          [
           "457c"
          ],
          [
           "457d"
          ],
          [
           "457e"
          ],
          [
           "458"
          ],
          [
           "459"
          ],
          [
           "46"
          ],
          [
           "460"
          ],
          [
           "461"
          ],
          [
           "461a"
          ],
          [
           "461b"
          ],
          [
           "461c"
          ],
          [
           "462"
          ],
          [
           "462a"
          ],
          [
           "463"
          ],
          [
           "463a"
          ],
          [
           "464"
          ],
          [
           "464a"
          ],
          [
           "465"
          ],
          [
           "465a"
          ],
          [
           "465b"
          ],
          [
           "465c"
          ],
          [
           "465d"
          ],
          [
           "465e"
          ],
          [
           "465f"
          ],
          [
           "465g"
          ],
          [
           "465h"
          ],
          [
           "465i"
          ],
          [
           "466"
          ],
          [
           "467"
          ],
          [
           "468"
          ],
          [
           "469"
          ],
          [
           "470"
          ],
          [
           "471"
          ],
          [
           "472"
          ],
          [
           "473"
          ],
          [
           "474"
          ],
          [
           "477"
          ],
          [
           "479"
          ],
          [
           "479a"
          ],
          [
           "48"
          ],
          [
           "480"
          ],
          [
           "480a"
          ],
          [
           "480b"
          ],
          [
           "480c"
          ],
          [
           "480d"
          ],
          [
           "481"
          ],
          [
           "482"
          ],
          [
           "483"
          ],
          [
           "484"
          ],
          [
           "486"
          ],
          [
           "487"
          ],
          [
           "489"
          ],
          [
           "49"
          ],
          [
           "490"
          ],
          [
           "491"
          ],
          [
           "492"
          ],
          [
           "493"
          ],
          [
           "494"
          ],
          [
           "496"
          ],
          [
           "497"
          ],
          [
           "498"
          ],
          [
           "499"
          ],
          [
           "500"
          ],
          [
           "501"
          ],
          [
           "502"
          ],
          [
           "503"
          ],
          [
           "503a"
          ],
          [
           "503b"
          ],
          [
           "503c"
          ],
          [
           "503d"
          ],
          [
           "503e"
          ],
          [
           "503f"
          ],
          [
           "504"
          ],
          [
           "505"
          ],
          [
           "506"
          ],
          [
           "507"
          ],
          [
           "507a"
          ],
          [
           "507b"
          ],
          [
           "508"
          ],
          [
           "509"
          ],
          [
           "509a"
          ],
          [
           "51"
          ],
          [
           "511"
          ],
          [
           "513"
          ],
          [
           "514"
          ],
          [
           "514a"
          ],
          [
           "514b"
          ],
          [
           "514c"
          ],
          [
           "514d"
          ],
          [
           "514e"
          ],
          [
           "514f"
          ],
          [
           "514g"
          ],
          [
           "516"
          ],
          [
           "517"
          ],
          [
           "518"
          ],
          [
           "519"
          ],
          [
           "52"
          ],
          [
           "520"
          ],
          [
           "521"
          ],
          [
           "523"
          ],
          [
           "524"
          ],
          [
           "525"
          ],
          [
           "525a"
          ],
          [
           "526"
          ],
          [
           "527"
          ],
          [
           "528"
          ],
          [
           "529"
          ],
          [
           "53"
          ],
          [
           "530"
          ],
          [
           "531"
          ],
          [
           "533"
          ],
          [
           "534"
          ],
          [
           "535"
          ],
          [
           "535a"
          ],
          [
           "535b"
          ],
          [
           "535c"
          ],
          [
           "536"
          ],
          [
           "537"
          ],
          [
           "538"
          ],
          [
           "539"
          ],
          [
           "54"
          ],
          [
           "540"
          ],
          [
           "541"
          ],
          [
           "542"
          ],
          [
           "544"
          ],
          [
           "545"
          ],
          [
           "545a"
          ],
          [
           "545c"
          ],
          [
           "546"
          ],
          [
           "547"
          ],
          [
           "548"
          ],
          [
           "549"
          ],
          [
           "54a"
          ],
          [
           "54b"
          ],
          [
           "55"
          ],
          [
           "550"
          ],
          [
           "551"
          ],
          [
           "552"
          ],
          [
           "553"
          ],
          [
           "554"
          ],
          [
           "555"
          ],
          [
           "557"
          ],
          [
           "558"
          ],
          [
           "558a"
          ],
          [
           "559"
          ],
          [
           "56"
          ],
          [
           "561"
          ],
          [
           "563"
          ],
          [
           "569"
          ],
          [
           "57"
          ],
          [
           "570"
          ],
          [
           "572"
          ],
          [
           "573"
          ],
          [
           "574"
          ],
          [
           "576"
          ],
          [
           "577"
          ],
          [
           "578"
          ],
          [
           "579"
          ],
          [
           "58"
          ],
          [
           "581"
          ],
          [
           "582"
          ],
          [
           "583"
          ],
          [
           "584"
          ],
          [
           "585"
          ],
          [
           "585a"
          ],
          [
           "586"
          ],
          [
           "587"
          ],
          [
           "588"
          ],
          [
           "589"
          ],
          [
           "59"
          ],
          [
           "590"
          ],
          [
           "591"
          ],
          [
           "592"
          ],
          [
           "593"
          ],
          [
           "594"
          ],
          [
           "595"
          ],
          [
           "596"
          ],
          [
           "597"
          ],
          [
           "598"
          ],
          [
           "6"
          ],
          [
           "60"
          ],
          [
           "600"
          ],
          [
           "600a"
          ],
          [
           "600b"
          ],
          [
           "601"
          ],
          [
           "602"
          ],
          [
           "603"
          ],
          [
           "604"
          ],
          [
           "605"
          ],
          [
           "605a"
          ],
          [
           "606"
          ],
          [
           "607"
          ],
          [
           "607a"
          ],
          [
           "608"
          ],
          [
           "609"
          ],
          [
           "61"
          ],
          [
           "610"
          ],
          [
           "611"
          ],
          [
           "612"
          ],
          [
           "613"
          ],
          [
           "614"
          ],
          [
           "615"
          ],
          [
           "616"
          ],
          [
           "617"
          ],
          [
           "617a"
          ],
          [
           "618"
          ],
          [
           "619"
          ],
          [
           "620"
          ],
          [
           "621"
          ],
          [
           "621a"
          ],
          [
           "622"
          ],
          [
           "623"
          ],
          [
           "624"
          ],
          [
           "625"
          ],
          [
           "626"
          ],
          [
           "627"
          ],
          [
           "628"
          ],
          [
           "629"
          ],
          [
           "63"
          ],
          [
           "630"
          ],
          [
           "631"
          ],
          [
           "632"
          ],
          [
           "633"
          ],
          [
           "634"
          ],
          [
           "634a"
          ],
          [
           "634b"
          ],
          [
           "634c"
          ],
          [
           "635"
          ],
          [
           "636"
          ],
          [
           "637"
          ],
          [
           "638"
          ],
          [
           "639"
          ],
          [
           "63a"
          ],
          [
           "63b"
          ],
          [
           "63c"
          ],
          [
           "640"
          ],
          [
           "640a"
          ],
          [
           "641"
          ],
          [
           "643"
          ],
          [
           "644"
          ],
          [
           "645"
          ],
          [
           "645a"
          ],
          [
           "646"
          ],
          [
           "647"
          ],
          [
           "647a"
          ],
          [
           "648"
          ],
          [
           "649"
          ],
          [
           "65"
          ],
          [
           "650"
          ],
          [
           "651"
          ],
          [
           "652"
          ],
          [
           "653"
          ],
          [
           "654"
          ],
          [
           "655"
          ],
          [
           "656"
          ],
          [
           "657"
          ],
          [
           "658"
          ],
          [
           "659"
          ],
          [
           "660"
          ],
          [
           "661"
          ],
          [
           "662"
          ],
          [
           "663"
          ],
          [
           "664"
          ],
          [
           "664a"
          ],
          [
           "665"
          ],
          [
           "666"
          ],
          [
           "666a"
          ],
          [
           "666b"
          ],
          [
           "667"
          ],
          [
           "668"
          ],
          [
           "669"
          ],
          [
           "67"
          ],
          [
           "670"
          ],
          [
           "671"
          ],
          [
           "672"
          ],
          [
           "673"
          ],
          [
           "674"
          ],
          [
           "675"
          ],
          [
           "677"
          ],
          [
           "678"
          ],
          [
           "68"
          ],
          [
           "680"
          ],
          [
           "681"
          ],
          [
           "683"
          ],
          [
           "684"
          ],
          [
           "685"
          ],
          [
           "687"
          ],
          [
           "688"
          ],
          [
           "689"
          ],
          [
           "69"
          ],
          [
           "690"
          ],
          [
           "691"
          ],
          [
           "692"
          ],
          [
           "693"
          ],
          [
           "694"
          ],
          [
           "695"
          ],
          [
           "696"
          ],
          [
           "697"
          ],
          [
           "698"
          ],
          [
           "699"
          ],
          [
           "7"
          ],
          [
           "70"
          ],
          [
           "700"
          ],
          [
           "701"
          ],
          [
           "702"
          ],
          [
           "703"
          ],
          [
           "704"
          ],
          [
           "705"
          ],
          [
           "708"
          ],
          [
           "709"
          ],
          [
           "71"
          ],
          [
           "710"
          ],
          [
           "711"
          ],
          [
           "711a"
          ],
          [
           "712"
          ],
          [
           "713"
          ],
          [
           "714"
          ],
          [
           "715"
          ],
          [
           "716"
          ],
          [
           "717"
          ],
          [
           "718"
          ],
          [
           "718a"
          ],
          [
           "719"
          ],
          [
           "720"
          ],
          [
           "722"
          ],
          [
           "726"
          ],
          [
           "727"
          ],
          [
           "728"
          ],
          [
           "729"
          ],
          [
           "73"
          ],
          [
           "730"
          ],
          [
           "731"
          ],
          [
           "732"
          ],
          [
           "732a"
          ],
          [
           "733"
          ],
          [
           "734"
          ],
          [
           "734a"
          ],
          [
           "735"
          ],
          [
           "736"
          ],
          [
           "737"
          ],
          [
           "738"
          ],
          [
           "739"
          ],
          [
           "74"
          ],
          [
           "740"
          ],
          [
           "742"
          ],
          [
           "743"
          ],
          [
           "744"
          ],
          [
           "745"
          ],
          [
           "746"
          ],
          [
           "747"
          ],
          [
           "748"
          ],
          [
           "749"
          ],
          [
           "75"
          ],
          [
           "750"
          ],
          [
           "751"
          ],
          [
           "752"
          ],
          [
           "753"
          ],
          [
           "754"
          ],
          [
           "755"
          ],
          [
           "756"
          ],
          [
           "756a"
          ],
          [
           "756b"
          ],
          [
           "756c"
          ],
          [
           "756d"
          ],
          [
           "76"
          ],
          [
           "760"
          ],
          [
           "761"
          ],
          [
           "762"
          ],
          [
           "763"
          ],
          [
           "764"
          ],
          [
           "765"
          ],
          [
           "766"
          ],
          [
           "767"
          ],
          [
           "768"
          ],
          [
           "769"
          ],
          [
           "770"
          ],
          [
           "771"
          ],
          [
           "772"
          ],
          [
           "773"
          ],
          [
           "774"
          ],
          [
           "775"
          ],
          [
           "776"
          ],
          [
           "778"
          ],
          [
           "778a"
          ],
          [
           "778b"
          ],
          [
           "779"
          ],
          [
           "78"
          ],
          [
           "780"
          ],
          [
           "781"
          ],
          [
           "782"
          ],
          [
           "783"
          ],
          [
           "784"
          ],
          [
           "784a"
          ],
          [
           "785"
          ],
          [
           "786"
          ],
          [
           "788"
          ],
          [
           "789"
          ],
          [
           "78a"
          ],
          [
           "78b"
          ],
          [
           "78c"
          ],
          [
           "78d"
          ],
          [
           "79"
          ],
          [
           "790"
          ],
          [
           "791"
          ],
          [
           "792"
          ],
          [
           "792a"
          ],
          [
           "792b"
          ],
          [
           "792c"
          ],
          [
           "793"
          ],
          [
           "794"
          ],
          [
           "795"
          ],
          [
           "795a"
          ],
          [
           "796"
          ],
          [
           "797"
          ],
          [
           "798"
          ],
          [
           "8"
          ],
          [
           "80"
          ],
          [
           "800"
          ],
          [
           "801"
          ],
          [
           "802"
          ],
          [
           "803"
          ],
          [
           "804"
          ],
          [
           "805"
          ],
          [
           "806"
          ],
          [
           "807"
          ],
          [
           "808"
          ],
          [
           "809"
          ],
          [
           "81"
          ],
          [
           "810"
          ],
          [
           "811"
          ],
          [
           "812"
          ],
          [
           "813"
          ],
          [
           "813a"
          ],
          [
           "813b"
          ],
          [
           "814"
          ],
          [
           "815"
          ],
          [
           "815a"
          ],
          [
           "816"
          ],
          [
           "817"
          ],
          [
           "818"
          ],
          [
           "819"
          ],
          [
           "81a"
          ],
          [
           "82"
          ],
          [
           "821"
          ],
          [
           "822"
          ],
          [
           "823"
          ],
          [
           "824"
          ],
          [
           "825"
          ],
          [
           "825a"
          ],
          [
           "826"
          ],
          [
           "827"
          ],
          [
           "828"
          ],
          [
           "829"
          ],
          [
           "829a"
          ],
          [
           "829b"
          ],
          [
           "829c"
          ],
          [
           "829d"
          ],
          [
           "83"
          ],
          [
           "830"
          ],
          [
           "830a"
          ],
          [
           "830b"
          ],
          [
           "830c"
          ],
          [
           "830d"
          ],
          [
           "831"
          ],
          [
           "833"
          ],
          [
           "834"
          ],
          [
           "835"
          ],
          [
           "836"
          ],
          [
           "837"
          ],
          [
           "838"
          ],
          [
           "84"
          ],
          [
           "840"
          ],
          [
           "841"
          ],
          [
           "842"
          ],
          [
           "843"
          ],
          [
           "844"
          ],
          [
           "845"
          ],
          [
           "846"
          ],
          [
           "846a"
          ],
          [
           "847"
          ],
          [
           "848"
          ],
          [
           "849"
          ],
          [
           "85"
          ],
          [
           "850"
          ],
          [
           "851"
          ],
          [
           "852"
          ],
          [
           "853"
          ],
          [
           "853a"
          ],
          [
           "853b"
          ],
          [
           "854"
          ],
          [
           "855"
          ],
          [
           "856"
          ],
          [
           "857"
          ],
          [
           "858"
          ],
          [
           "859"
          ],
          [
           "86"
          ],
          [
           "860"
          ],
          [
           "861"
          ],
          [
           "861a"
          ],
          [
           "863"
          ],
          [
           "864"
          ],
          [
           "866"
          ],
          [
           "867"
          ],
          [
           "869"
          ],
          [
           "86a"
          ],
          [
           "87"
          ],
          [
           "870"
          ],
          [
           "871"
          ],
          [
           "872"
          ],
          [
           "873"
          ],
          [
           "874"
          ],
          [
           "875"
          ],
          [
           "876"
          ],
          [
           "877"
          ],
          [
           "878"
          ],
          [
           "879"
          ],
          [
           "87a"
          ],
          [
           "88"
          ],
          [
           "880"
          ],
          [
           "881"
          ],
          [
           "882"
          ],
          [
           "883"
          ],
          [
           "884"
          ],
          [
           "885"
          ],
          [
           "886"
          ],
          [
           "887"
          ],
          [
           "888"
          ],
          [
           "889"
          ],
          [
           "88a"
          ],
          [
           "88b"
          ],
          [
           "88c"
          ],
          [
           "890"
          ],
          [
           "891"
          ],
          [
           "892"
          ],
          [
           "893"
          ],
          [
           "894"
          ],
          [
           "895"
          ],
          [
           "896"
          ],
          [
           "897"
          ],
          [
           "898"
          ],
          [
           "898a"
          ],
          [
           "898b"
          ],
          [
           "899"
          ],
          [
           "9"
          ],
          [
           "90"
          ],
          [
           "900"
          ],
          [
           "901"
          ],
          [
           "901a"
          ],
          [
           "902"
          ],
          [
           "903"
          ],
          [
           "904"
          ],
          [
           "904a"
          ],
          [
           "905"
          ],
          [
           "906"
          ],
          [
           "907"
          ],
          [
           "908"
          ],
          [
           "909"
          ],
          [
           "91"
          ],
          [
           "910"
          ],
          [
           "911"
          ],
          [
           "912"
          ],
          [
           "913"
          ],
          [
           "914"
          ],
          [
           "915"
          ],
          [
           "916"
          ],
          [
           "917"
          ],
          [
           "918"
          ],
          [
           "919"
          ],
          [
           "92"
          ],
          [
           "920"
          ],
          [
           "921"
          ],
          [
           "921a"
          ],
          [
           "922"
          ],
          [
           "923"
          ],
          [
           "924"
          ],
          [
           "924a"
          ],
          [
           "924b"
          ],
          [
           "925"
          ],
          [
           "926"
          ],
          [
           "927"
          ],
          [
           "928"
          ],
          [
           "929"
          ],
          [
           "92a"
          ],
          [
           "93"
          ],
          [
           "930"
          ],
          [
           "931"
          ],
          [
           "932"
          ],
          [
           "933"
          ],
          [
           "934"
          ],
          [
           "935"
          ],
          [
           "935a"
          ],
          [
           "936"
          ],
          [
           "937"
          ],
          [
           "937a"
          ],
          [
           "938"
          ],
          [
           "939"
          ],
          [
           "940"
          ],
          [
           "941"
          ],
          [
           "942"
          ],
          [
           "943"
          ],
          [
           "944"
          ],
          [
           "944a"
          ],
          [
           "945"
          ],
          [
           "945a"
          ],
          [
           "946"
          ],
          [
           "946a"
          ],
          [
           "947"
          ],
          [
           "948"
          ],
          [
           "949"
          ],
          [
           "95"
          ],
          [
           "950"
          ],
          [
           "951"
          ],
          [
           "952"
          ],
          [
           "953"
          ],
          [
           "954"
          ],
          [
           "955"
          ],
          [
           "956"
          ],
          [
           "957"
          ],
          [
           "958"
          ],
          [
           "959"
          ],
          [
           "959a"
          ],
          [
           "960"
          ],
          [
           "961"
          ],
          [
           "962"
          ],
          [
           "962a"
          ],
          [
           "963"
          ],
          [
           "964"
          ],
          [
           "965"
          ],
          [
           "966"
          ],
          [
           "967"
          ],
          [
           "968"
          ],
          [
           "968b"
          ],
          [
           "969"
          ],
          [
           "97"
          ],
          [
           "970"
          ],
          [
           "971"
          ],
          [
           "972"
          ],
          [
           "973"
          ],
          [
           "974"
          ],
          [
           "975"
          ],
          [
           "976"
          ],
          [
           "977"
          ],
          [
           "978"
          ],
          [
           "979"
          ],
          [
           "98"
          ],
          [
           "981"
          ],
          [
           "982"
          ],
          [
           "983"
          ],
          [
           "984"
          ],
          [
           "985"
          ],
          [
           "986"
          ],
          [
           "987"
          ],
          [
           "988"
          ],
          [
           "989"
          ],
          [
           "990"
          ],
          [
           "991"
          ],
          [
           "992"
          ],
          [
           "993"
          ],
          [
           "993a"
          ],
          [
           "993b"
          ],
          [
           "993c"
          ],
          [
           "994"
          ],
          [
           "995"
          ],
          [
           "996"
          ],
          [
           "997"
          ],
          [
           "998"
          ],
          [
           "999"
          ],
          [
           "9a"
          ],
          [
           "C1"
          ],
          [
           "C10"
          ],
          [
           "C100"
          ],
          [
           "C101"
          ],
          [
           "C104"
          ],
          [
           "C105"
          ],
          [
           "C106"
          ],
          [
           "C107"
          ],
          [
           "C108"
          ],
          [
           "C11"
          ],
          [
           "C110"
          ],
          [
           "C12"
          ],
          [
           "C13"
          ],
          [
           "C14"
          ],
          [
           "C15"
          ],
          [
           "C16"
          ],
          [
           "C17"
          ],
          [
           "C18"
          ],
          [
           "C19"
          ],
          [
           "C2"
          ],
          [
           "C20"
          ],
          [
           "C21"
          ],
          [
           "C22"
          ],
          [
           "C23"
          ],
          [
           "C24"
          ],
          [
           "C25"
          ],
          [
           "C26"
          ],
          [
           "C27"
          ],
          [
           "C28"
          ],
          [
           "C29"
          ],
          [
           "C3"
          ],
          [
           "C30"
          ],
          [
           "C31"
          ],
          [
           "C32"
          ],
          [
           "C33"
          ],
          [
           "C34"
          ],
          [
           "C35"
          ],
          [
           "C36"
          ],
          [
           "C37"
          ],
          [
           "C38"
          ],
          [
           "C39"
          ],
          [
           "C4"
          ],
          [
           "C40"
          ],
          [
           "C41"
          ],
          [
           "C42"
          ],
          [
           "C43"
          ],
          [
           "C44"
          ],
          [
           "C45"
          ],
          [
           "C46"
          ],
          [
           "C47"
          ],
          [
           "C48"
          ],
          [
           "C49"
          ],
          [
           "C5"
          ],
          [
           "C50"
          ],
          [
           "C51"
          ],
          [
           "C52"
          ],
          [
           "C53"
          ],
          [
           "C54"
          ],
          [
           "C55"
          ],
          [
           "C56"
          ],
          [
           "C57"
          ],
          [
           "C58"
          ],
          [
           "C59"
          ],
          [
           "C6"
          ],
          [
           "C60"
          ],
          [
           "C61"
          ],
          [
           "C62"
          ],
          [
           "C63"
          ],
          [
           "C64"
          ],
          [
           "C65"
          ],
          [
           "C66"
          ],
          [
           "C67"
          ],
          [
           "C68"
          ],
          [
           "C69"
          ],
          [
           "C7"
          ],
          [
           "C71"
          ],
          [
           "C72"
          ],
          [
           "C73"
          ],
          [
           "C74"
          ],
          [
           "C75"
          ],
          [
           "C76"
          ],
          [
           "C77"
          ],
          [
           "C78"
          ],
          [
           "C79"
          ],
          [
           "C8"
          ],
          [
           "C80"
          ],
          [
           "C81"
          ],
          [
           "C82"
          ],
          [
           "C83"
          ],
          [
           "C84"
          ],
          [
           "C85"
          ],
          [
           "C86"
          ],
          [
           "C87"
          ],
          [
           "C88"
          ],
          [
           "C89"
          ],
          [
           "C9"
          ],
          [
           "C90"
          ],
          [
           "C91"
          ],
          [
           "C92"
          ],
          [
           "C93"
          ],
          [
           "C94"
          ],
          [
           "C95"
          ],
          [
           "C97"
          ],
          [
           "C98"
          ],
          [
           "C99"
          ],
          [
           "J100"
          ],
          [
           "J1000"
          ],
          [
           "J1002"
          ],
          [
           "J1003"
          ],
          [
           "J1004"
          ],
          [
           "J1005"
          ],
          [
           "J1006"
          ],
          [
           "J1009"
          ],
          [
           "J101"
          ],
          [
           "J1010"
          ],
          [
           "J1011"
          ],
          [
           "J1012"
          ],
          [
           "J1013"
          ],
          [
           "J1014"
          ],
          [
           "J1015"
          ],
          [
           "J1017"
          ],
          [
           "J1018"
          ],
          [
           "J1019"
          ],
          [
           "J102"
          ],
          [
           "J1020"
          ],
          [
           "J1021"
          ],
          [
           "J1022"
          ],
          [
           "J1023"
          ],
          [
           "J1024"
          ],
          [
           "J1025"
          ],
          [
           "J1026"
          ],
          [
           "J1027"
          ],
          [
           "J1028"
          ],
          [
           "J1029"
          ],
          [
           "J103"
          ],
          [
           "J1030"
          ],
          [
           "J1031"
          ],
          [
           "J1032"
          ],
          [
           "J1033"
          ],
          [
           "J1034"
          ],
          [
           "J1035"
          ],
          [
           "J1036"
          ],
          [
           "J1037"
          ],
          [
           "J1039"
          ],
          [
           "J104"
          ],
          [
           "J1040"
          ],
          [
           "J1041"
          ],
          [
           "J1042"
          ],
          [
           "J1043"
          ],
          [
           "J1044"
          ],
          [
           "J1045"
          ],
          [
           "J1046"
          ],
          [
           "J1047"
          ],
          [
           "J1048"
          ],
          [
           "J1049"
          ],
          [
           "J105"
          ],
          [
           "J1050"
          ],
          [
           "J1051"
          ],
          [
           "J1052"
          ],
          [
           "J1053"
          ],
          [
           "J1054"
          ],
          [
           "J1055"
          ],
          [
           "J1056"
          ],
          [
           "J1057"
          ],
          [
           "J1059"
          ],
          [
           "J106"
          ],
          [
           "J1060"
          ],
          [
           "J1061"
          ],
          [
           "J1062"
          ],
          [
           "J1063"
          ],
          [
           "J1064"
          ],
          [
           "J1065"
          ],
          [
           "J1066"
          ],
          [
           "J1067"
          ],
          [
           "J1068"
          ],
          [
           "J1069"
          ],
          [
           "J107"
          ],
          [
           "J1070"
          ],
          [
           "J1071"
          ],
          [
           "J1072"
          ],
          [
           "J1073"
          ],
          [
           "J1074"
          ],
          [
           "J1075"
          ],
          [
           "J1076"
          ],
          [
           "J1077"
          ],
          [
           "J1078"
          ],
          [
           "J1079"
          ],
          [
           "J108"
          ],
          [
           "J1081"
          ],
          [
           "J1082"
          ],
          [
           "J1083"
          ],
          [
           "J1084"
          ],
          [
           "J1085"
          ],
          [
           "J1086"
          ],
          [
           "J1088"
          ],
          [
           "J109"
          ],
          [
           "J1090"
          ],
          [
           "J1091"
          ],
          [
           "J1092"
          ],
          [
           "J1093"
          ],
          [
           "J1094"
          ],
          [
           "J1095"
          ],
          [
           "J1096"
          ],
          [
           "J1097"
          ],
          [
           "J1098"
          ],
          [
           "J1099"
          ],
          [
           "J11"
          ],
          [
           "J110"
          ],
          [
           "J1100"
          ],
          [
           "J1101"
          ],
          [
           "J1102"
          ],
          [
           "J1103"
          ],
          [
           "J1104"
          ],
          [
           "J1105"
          ],
          [
           "J1106"
          ],
          [
           "J1107"
          ],
          [
           "J1108"
          ],
          [
           "J1109"
          ],
          [
           "J111"
          ],
          [
           "J1111"
          ],
          [
           "J1112"
          ],
          [
           "J1113"
          ],
          [
           "J1114"
          ],
          [
           "J1115"
          ],
          [
           "J1116"
          ],
          [
           "J1118"
          ],
          [
           "J1119"
          ],
          [
           "J112"
          ],
          [
           "J1120"
          ],
          [
           "J1121"
          ],
          [
           "J1122"
          ],
          [
           "J1123"
          ],
          [
           "J1124"
          ],
          [
           "J1125"
          ],
          [
           "J1126"
          ],
          [
           "J1127"
          ],
          [
           "J1128"
          ],
          [
           "J1129"
          ],
          [
           "J113"
          ],
          [
           "J1130"
          ],
          [
           "J1131"
          ],
          [
           "J1132"
          ],
          [
           "J1133"
          ],
          [
           "J1134"
          ],
          [
           "J1135"
          ],
          [
           "J1136"
          ],
          [
           "J1137"
          ],
          [
           "J1138"
          ],
          [
           "J1139"
          ],
          [
           "J114"
          ],
          [
           "J1140"
          ],
          [
           "J1141"
          ],
          [
           "J1142"
          ],
          [
           "J1143"
          ],
          [
           "J1144"
          ],
          [
           "J1146"
          ],
          [
           "J1147"
          ],
          [
           "J1148"
          ],
          [
           "J1149"
          ],
          [
           "J115"
          ],
          [
           "J1150"
          ],
          [
           "J1151"
          ],
          [
           "J1152"
          ],
          [
           "J1153"
          ],
          [
           "J1154"
          ],
          [
           "J1155"
          ],
          [
           "J1156"
          ],
          [
           "J1157"
          ],
          [
           "J1158"
          ],
          [
           "J1159"
          ],
          [
           "J116"
          ],
          [
           "J1160"
          ],
          [
           "J1161"
          ],
          [
           "J1162"
          ],
          [
           "J1163"
          ],
          [
           "J1164"
          ],
          [
           "J1165"
          ],
          [
           "J1166"
          ],
          [
           "J1167"
          ],
          [
           "J1168"
          ],
          [
           "J1169"
          ],
          [
           "J117"
          ],
          [
           "J1170"
          ],
          [
           "J1171"
          ],
          [
           "J1172"
          ],
          [
           "J1173"
          ],
          [
           "J1175"
          ],
          [
           "J1176"
          ],
          [
           "J1177"
          ],
          [
           "J1178"
          ],
          [
           "J1179"
          ],
          [
           "J118"
          ],
          [
           "J1180"
          ],
          [
           "J1181"
          ],
          [
           "J1182"
          ],
          [
           "J1183"
          ],
          [
           "J1184"
          ],
          [
           "J1185"
          ],
          [
           "J1186"
          ],
          [
           "J1187"
          ],
          [
           "J1189"
          ],
          [
           "J119"
          ],
          [
           "J1190"
          ],
          [
           "J1191"
          ],
          [
           "J1192"
          ],
          [
           "J1193"
          ],
          [
           "J1194"
          ],
          [
           "J1196"
          ],
          [
           "J1197"
          ],
          [
           "J1198"
          ],
          [
           "J1199"
          ],
          [
           "J12"
          ],
          [
           "J120"
          ],
          [
           "J1200"
          ],
          [
           "J1201"
          ],
          [
           "J1202"
          ],
          [
           "J1203"
          ],
          [
           "J1204"
          ],
          [
           "J1205"
          ],
          [
           "J1206"
          ],
          [
           "J1207"
          ],
          [
           "J1208"
          ],
          [
           "J1209"
          ],
          [
           "J121"
          ],
          [
           "J1210"
          ],
          [
           "J1211"
          ],
          [
           "J1212"
          ],
          [
           "J1213"
          ],
          [
           "J1214"
          ],
          [
           "J1215"
          ],
          [
           "J1216"
          ],
          [
           "J1217"
          ],
          [
           "J1218"
          ],
          [
           "J1219"
          ],
          [
           "J122"
          ],
          [
           "J1220"
          ],
          [
           "J1221"
          ],
          [
           "J1222"
          ],
          [
           "J1223"
          ],
          [
           "J1226"
          ],
          [
           "J1227"
          ],
          [
           "J1228"
          ],
          [
           "J1229"
          ],
          [
           "J123"
          ],
          [
           "J1230"
          ],
          [
           "J1231"
          ],
          [
           "J1232"
          ],
          [
           "J1234"
          ],
          [
           "J1235"
          ],
          [
           "J1236"
          ],
          [
           "J1237"
          ],
          [
           "J1238"
          ],
          [
           "J1239"
          ],
          [
           "J124"
          ],
          [
           "J1240"
          ],
          [
           "J1241"
          ],
          [
           "J1242"
          ],
          [
           "J1243"
          ],
          [
           "J1244"
          ],
          [
           "J1245"
          ],
          [
           "J1246"
          ],
          [
           "J1247"
          ],
          [
           "J1248"
          ],
          [
           "J1249"
          ],
          [
           "J125"
          ],
          [
           "J1250"
          ],
          [
           "J1251"
          ],
          [
           "J1252"
          ],
          [
           "J1253"
          ],
          [
           "J1254"
          ],
          [
           "J1255"
          ],
          [
           "J1256"
          ],
          [
           "J1257"
          ],
          [
           "J1258"
          ],
          [
           "J1259"
          ],
          [
           "J126"
          ],
          [
           "J1260"
          ],
          [
           "J1261"
          ],
          [
           "J1262"
          ],
          [
           "J1263"
          ],
          [
           "J1264"
          ],
          [
           "J1265"
          ],
          [
           "J1266"
          ],
          [
           "J1267"
          ],
          [
           "J1268"
          ],
          [
           "J1269"
          ],
          [
           "J127"
          ],
          [
           "J1270"
          ],
          [
           "J1271"
          ],
          [
           "J1272"
          ],
          [
           "J1273"
          ],
          [
           "J1274"
          ],
          [
           "J1275"
          ],
          [
           "J1277"
          ],
          [
           "J1278"
          ],
          [
           "J1279"
          ],
          [
           "J128"
          ],
          [
           "J1280"
          ],
          [
           "J1282"
          ],
          [
           "J1283"
          ],
          [
           "J1284"
          ],
          [
           "J1285"
          ],
          [
           "J1286"
          ],
          [
           "J1287"
          ],
          [
           "J1288"
          ],
          [
           "J1289"
          ],
          [
           "J129"
          ],
          [
           "J1290"
          ],
          [
           "J1291"
          ],
          [
           "J1292"
          ],
          [
           "J1293"
          ],
          [
           "J1294"
          ],
          [
           "J1295"
          ],
          [
           "J1296"
          ],
          [
           "J1297"
          ],
          [
           "J1298"
          ],
          [
           "J1299"
          ],
          [
           "J13"
          ],
          [
           "J130"
          ],
          [
           "J1300"
          ],
          [
           "J1301"
          ],
          [
           "J1302"
          ],
          [
           "J1303"
          ],
          [
           "J1304"
          ],
          [
           "J1305"
          ],
          [
           "J1307"
          ],
          [
           "J1308"
          ],
          [
           "J1309"
          ],
          [
           "J131"
          ],
          [
           "J1310"
          ],
          [
           "J1312"
          ],
          [
           "J1313"
          ],
          [
           "J1314"
          ],
          [
           "J1315"
          ],
          [
           "J1316"
          ],
          [
           "J1317"
          ],
          [
           "J1319"
          ],
          [
           "J1320"
          ],
          [
           "J1321"
          ],
          [
           "J1322"
          ],
          [
           "J1323"
          ],
          [
           "J1325"
          ],
          [
           "J1326"
          ],
          [
           "J1327"
          ],
          [
           "J1328"
          ],
          [
           "J1329"
          ],
          [
           "J133"
          ],
          [
           "J134"
          ],
          [
           "J135"
          ],
          [
           "J136"
          ],
          [
           "J137"
          ],
          [
           "J138"
          ],
          [
           "J139"
          ],
          [
           "J14"
          ],
          [
           "J140"
          ],
          [
           "J141"
          ],
          [
           "J142"
          ],
          [
           "J143"
          ],
          [
           "J144"
          ],
          [
           "J145"
          ],
          [
           "J146"
          ],
          [
           "J147"
          ],
          [
           "J148"
          ],
          [
           "J149"
          ],
          [
           "J15"
          ],
          [
           "J150"
          ],
          [
           "J151"
          ],
          [
           "J152"
          ],
          [
           "J153"
          ],
          [
           "J154"
          ],
          [
           "J155"
          ],
          [
           "J156"
          ],
          [
           "J157"
          ],
          [
           "J158"
          ],
          [
           "J159"
          ],
          [
           "J16"
          ],
          [
           "J160"
          ],
          [
           "J162"
          ],
          [
           "J163"
          ],
          [
           "J164"
          ],
          [
           "J165"
          ],
          [
           "J166"
          ],
          [
           "J167"
          ],
          [
           "J168"
          ],
          [
           "J169"
          ],
          [
           "J17"
          ],
          [
           "J170"
          ],
          [
           "J171"
          ],
          [
           "J172"
          ],
          [
           "J173"
          ],
          [
           "J174"
          ],
          [
           "J175"
          ],
          [
           "J176"
          ],
          [
           "J177"
          ],
          [
           "J18"
          ],
          [
           "J180"
          ],
          [
           "J181"
          ],
          [
           "J182"
          ],
          [
           "J183"
          ],
          [
           "J184"
          ],
          [
           "J187"
          ],
          [
           "J188"
          ],
          [
           "J189"
          ],
          [
           "J19"
          ],
          [
           "J190"
          ],
          [
           "J191"
          ],
          [
           "J192"
          ],
          [
           "J193"
          ],
          [
           "J194"
          ],
          [
           "J195"
          ],
          [
           "J196"
          ],
          [
           "J197"
          ],
          [
           "J198"
          ],
          [
           "J2"
          ],
          [
           "J20"
          ],
          [
           "J201"
          ],
          [
           "J202"
          ],
          [
           "J203"
          ],
          [
           "J206"
          ],
          [
           "J207"
          ],
          [
           "J208"
          ],
          [
           "J209"
          ],
          [
           "J21"
          ],
          [
           "J211"
          ],
          [
           "J212"
          ],
          [
           "J213"
          ],
          [
           "J214"
          ],
          [
           "J215"
          ],
          [
           "J216"
          ],
          [
           "J217"
          ],
          [
           "J219"
          ],
          [
           "J22"
          ],
          [
           "J220"
          ],
          [
           "J221"
          ],
          [
           "J222"
          ],
          [
           "J223"
          ],
          [
           "J224"
          ],
          [
           "J225"
          ],
          [
           "J226"
          ],
          [
           "J227"
          ],
          [
           "J228"
          ],
          [
           "J229"
          ],
          [
           "J23"
          ],
          [
           "J230"
          ],
          [
           "J231"
          ],
          [
           "J232"
          ],
          [
           "J235"
          ],
          [
           "J236"
          ],
          [
           "J237"
          ],
          [
           "J238"
          ],
          [
           "J239"
          ],
          [
           "J24"
          ],
          [
           "J240"
          ],
          [
           "J242"
          ],
          [
           "J243"
          ],
          [
           "J244"
          ],
          [
           "J245"
          ],
          [
           "J246"
          ],
          [
           "J247"
          ],
          [
           "J248"
          ],
          [
           "J25"
          ],
          [
           "J250"
          ],
          [
           "J251"
          ],
          [
           "J252"
          ],
          [
           "J253"
          ],
          [
           "J254"
          ],
          [
           "J255"
          ],
          [
           "J257"
          ],
          [
           "J258"
          ],
          [
           "J259"
          ],
          [
           "J26"
          ],
          [
           "J263"
          ],
          [
           "J264"
          ],
          [
           "J265"
          ],
          [
           "J266"
          ],
          [
           "J267"
          ],
          [
           "J268"
          ],
          [
           "J27"
          ],
          [
           "J270"
          ],
          [
           "J271"
          ],
          [
           "J272"
          ],
          [
           "J273"
          ],
          [
           "J274"
          ],
          [
           "J275"
          ],
          [
           "J276"
          ],
          [
           "J277"
          ],
          [
           "J278"
          ],
          [
           "J279"
          ],
          [
           "J28"
          ],
          [
           "J280"
          ],
          [
           "J281"
          ],
          [
           "J283"
          ],
          [
           "J284"
          ],
          [
           "J285"
          ],
          [
           "J287"
          ],
          [
           "J288"
          ],
          [
           "J289"
          ],
          [
           "J29"
          ],
          [
           "J290"
          ],
          [
           "J291"
          ],
          [
           "J292"
          ],
          [
           "J293"
          ],
          [
           "J294"
          ],
          [
           "J295"
          ],
          [
           "J296"
          ],
          [
           "J298"
          ],
          [
           "J299"
          ],
          [
           "J30"
          ],
          [
           "J300"
          ],
          [
           "J301"
          ],
          [
           "J302"
          ],
          [
           "J303"
          ],
          [
           "J304"
          ],
          [
           "J306"
          ],
          [
           "J307"
          ],
          [
           "J308"
          ],
          [
           "J31"
          ],
          [
           "J310"
          ],
          [
           "J314"
          ],
          [
           "J315"
          ],
          [
           "J316"
          ],
          [
           "J317"
          ],
          [
           "J318"
          ],
          [
           "J319"
          ],
          [
           "J32"
          ],
          [
           "J320"
          ],
          [
           "J321"
          ],
          [
           "J322"
          ],
          [
           "J323"
          ],
          [
           "J324"
          ],
          [
           "J325"
          ],
          [
           "J326"
          ],
          [
           "J327"
          ],
          [
           "J328"
          ],
          [
           "J329"
          ],
          [
           "J33"
          ],
          [
           "J331"
          ],
          [
           "J332"
          ],
          [
           "J333"
          ],
          [
           "J334"
          ],
          [
           "J335"
          ],
          [
           "J336"
          ],
          [
           "J337"
          ],
          [
           "J338"
          ],
          [
           "J339"
          ],
          [
           "J34"
          ],
          [
           "J340"
          ],
          [
           "J341"
          ],
          [
           "J342"
          ],
          [
           "J343"
          ],
          [
           "J344"
          ],
          [
           "J345"
          ],
          [
           "J346"
          ],
          [
           "J347"
          ],
          [
           "J348"
          ],
          [
           "J349"
          ],
          [
           "J35"
          ],
          [
           "J350"
          ],
          [
           "J351"
          ],
          [
           "J354"
          ],
          [
           "J355"
          ],
          [
           "J356"
          ],
          [
           "J357"
          ],
          [
           "J358"
          ],
          [
           "J359"
          ],
          [
           "J360"
          ],
          [
           "J363"
          ],
          [
           "J365"
          ],
          [
           "J366"
          ],
          [
           "J368"
          ],
          [
           "J369"
          ],
          [
           "J37"
          ],
          [
           "J371"
          ],
          [
           "J372"
          ],
          [
           "J373"
          ],
          [
           "J375"
          ],
          [
           "J377"
          ],
          [
           "J378"
          ],
          [
           "J379"
          ],
          [
           "J38"
          ],
          [
           "J383"
          ],
          [
           "J384"
          ],
          [
           "J385"
          ],
          [
           "J386"
          ],
          [
           "J387"
          ],
          [
           "J388"
          ],
          [
           "J389"
          ],
          [
           "J39"
          ],
          [
           "J391"
          ],
          [
           "J392"
          ],
          [
           "J395"
          ],
          [
           "J397"
          ],
          [
           "J399"
          ],
          [
           "J40"
          ],
          [
           "J401"
          ],
          [
           "J402"
          ],
          [
           "J403"
          ],
          [
           "J404"
          ],
          [
           "J405"
          ],
          [
           "J406"
          ],
          [
           "J407"
          ],
          [
           "J408"
          ],
          [
           "J409"
          ],
          [
           "J41"
          ],
          [
           "J410"
          ],
          [
           "J411"
          ],
          [
           "J412"
          ],
          [
           "J414"
          ],
          [
           "J416"
          ],
          [
           "J417"
          ],
          [
           "J418"
          ],
          [
           "J419"
          ],
          [
           "J42"
          ],
          [
           "J420"
          ],
          [
           "J421"
          ],
          [
           "J423"
          ],
          [
           "J425"
          ],
          [
           "J427"
          ],
          [
           "J428"
          ],
          [
           "J429"
          ],
          [
           "J43"
          ],
          [
           "J430"
          ],
          [
           "J431"
          ],
          [
           "J432"
          ],
          [
           "J433"
          ],
          [
           "J437"
          ],
          [
           "J438"
          ],
          [
           "J439"
          ],
          [
           "J44"
          ],
          [
           "J441"
          ],
          [
           "J442"
          ],
          [
           "J443"
          ],
          [
           "J444"
          ],
          [
           "J445"
          ],
          [
           "J446"
          ],
          [
           "J447"
          ],
          [
           "J448"
          ],
          [
           "J449"
          ],
          [
           "J45"
          ],
          [
           "J451"
          ],
          [
           "J452"
          ],
          [
           "J453"
          ],
          [
           "J454"
          ],
          [
           "J455"
          ],
          [
           "J457"
          ],
          [
           "J458"
          ],
          [
           "J459"
          ],
          [
           "J46"
          ],
          [
           "J460"
          ],
          [
           "J461"
          ],
          [
           "J462"
          ],
          [
           "J464"
          ],
          [
           "J466"
          ],
          [
           "J467"
          ],
          [
           "J468"
          ],
          [
           "J47"
          ],
          [
           "J470"
          ],
          [
           "J475"
          ],
          [
           "J476"
          ],
          [
           "J478"
          ],
          [
           "J479"
          ],
          [
           "J48"
          ],
          [
           "J480"
          ],
          [
           "J481"
          ],
          [
           "J482"
          ],
          [
           "J483"
          ],
          [
           "J484"
          ],
          [
           "J485"
          ],
          [
           "J486"
          ],
          [
           "J487"
          ],
          [
           "J488"
          ],
          [
           "J489"
          ],
          [
           "J49"
          ],
          [
           "J491"
          ],
          [
           "J492"
          ],
          [
           "J493"
          ],
          [
           "J494"
          ],
          [
           "J495"
          ],
          [
           "J496"
          ],
          [
           "J497"
          ],
          [
           "J498"
          ],
          [
           "J499"
          ],
          [
           "J50"
          ],
          [
           "J500"
          ],
          [
           "J501"
          ],
          [
           "J502"
          ],
          [
           "J505"
          ],
          [
           "J506"
          ],
          [
           "J508"
          ],
          [
           "J509"
          ],
          [
           "J51"
          ],
          [
           "J510"
          ],
          [
           "J511"
          ],
          [
           "J512"
          ],
          [
           "J513"
          ],
          [
           "J514"
          ],
          [
           "J515"
          ],
          [
           "J516"
          ],
          [
           "J518"
          ],
          [
           "J519"
          ],
          [
           "J52"
          ],
          [
           "J520"
          ],
          [
           "J521"
          ],
          [
           "J523"
          ],
          [
           "J524"
          ],
          [
           "J525"
          ],
          [
           "J526"
          ],
          [
           "J527"
          ],
          [
           "J529"
          ],
          [
           "J53"
          ],
          [
           "J531"
          ],
          [
           "J532"
          ],
          [
           "J533"
          ],
          [
           "J534"
          ],
          [
           "J535"
          ],
          [
           "J536"
          ],
          [
           "J537"
          ],
          [
           "J538"
          ],
          [
           "J539"
          ],
          [
           "J54"
          ],
          [
           "J540"
          ],
          [
           "J542"
          ],
          [
           "J543"
          ],
          [
           "J544"
          ],
          [
           "J545"
          ],
          [
           "J546"
          ],
          [
           "J547"
          ],
          [
           "J548"
          ],
          [
           "J549"
          ],
          [
           "J55"
          ],
          [
           "J550"
          ],
          [
           "J552"
          ],
          [
           "J554"
          ],
          [
           "J556"
          ],
          [
           "J557"
          ],
          [
           "J558"
          ],
          [
           "J559"
          ],
          [
           "J56"
          ],
          [
           "J560"
          ],
          [
           "J561"
          ],
          [
           "J563"
          ],
          [
           "J565"
          ],
          [
           "J566"
          ],
          [
           "J567"
          ],
          [
           "J568"
          ],
          [
           "J569"
          ],
          [
           "J57"
          ],
          [
           "J571"
          ],
          [
           "J573"
          ],
          [
           "J574"
          ],
          [
           "J576"
          ],
          [
           "J579"
          ],
          [
           "J58"
          ],
          [
           "J580"
          ],
          [
           "J581"
          ],
          [
           "J582"
          ],
          [
           "J583"
          ],
          [
           "J584"
          ],
          [
           "J587"
          ],
          [
           "J588"
          ],
          [
           "J589"
          ],
          [
           "J59"
          ],
          [
           "J590"
          ],
          [
           "J591"
          ],
          [
           "J592"
          ],
          [
           "J593"
          ],
          [
           "J594"
          ],
          [
           "J595"
          ],
          [
           "J596"
          ],
          [
           "J597"
          ],
          [
           "J598"
          ],
          [
           "J599"
          ],
          [
           "J60"
          ],
          [
           "J600"
          ],
          [
           "J601"
          ],
          [
           "J602"
          ],
          [
           "J604"
          ],
          [
           "J605"
          ],
          [
           "J606"
          ],
          [
           "J607"
          ],
          [
           "J608"
          ],
          [
           "J609"
          ],
          [
           "J61"
          ],
          [
           "J610"
          ],
          [
           "J611"
          ],
          [
           "J612"
          ],
          [
           "J614"
          ],
          [
           "J615"
          ],
          [
           "J616"
          ],
          [
           "J618"
          ],
          [
           "J62"
          ],
          [
           "J620"
          ],
          [
           "J621"
          ],
          [
           "J622"
          ],
          [
           "J623"
          ],
          [
           "J624"
          ],
          [
           "J626"
          ],
          [
           "J628"
          ],
          [
           "J629"
          ],
          [
           "J63"
          ],
          [
           "J631"
          ],
          [
           "J632"
          ],
          [
           "J633"
          ],
          [
           "J634"
          ],
          [
           "J636"
          ],
          [
           "J638"
          ],
          [
           "J639"
          ],
          [
           "J64"
          ],
          [
           "J641"
          ],
          [
           "J642"
          ],
          [
           "J643"
          ],
          [
           "J644"
          ],
          [
           "J645"
          ],
          [
           "J646"
          ],
          [
           "J647"
          ],
          [
           "J648"
          ],
          [
           "J649"
          ],
          [
           "J65"
          ],
          [
           "J650"
          ],
          [
           "J651"
          ],
          [
           "J652"
          ],
          [
           "J653"
          ],
          [
           "J654"
          ],
          [
           "J655"
          ],
          [
           "J656"
          ],
          [
           "J657"
          ],
          [
           "J658"
          ],
          [
           "J659"
          ],
          [
           "J66"
          ],
          [
           "J660"
          ],
          [
           "J661"
          ],
          [
           "J662"
          ],
          [
           "J663"
          ],
          [
           "J665"
          ],
          [
           "J666"
          ],
          [
           "J667"
          ],
          [
           "J668"
          ],
          [
           "J669"
          ],
          [
           "J67"
          ],
          [
           "J670"
          ],
          [
           "J671"
          ],
          [
           "J672"
          ],
          [
           "J673"
          ],
          [
           "J674"
          ],
          [
           "J675"
          ],
          [
           "J676"
          ],
          [
           "J677"
          ],
          [
           "J678"
          ],
          [
           "J679"
          ],
          [
           "J68"
          ],
          [
           "J680"
          ],
          [
           "J681"
          ],
          [
           "J682"
          ],
          [
           "J683"
          ],
          [
           "J684"
          ],
          [
           "J685"
          ],
          [
           "J686"
          ],
          [
           "J687"
          ],
          [
           "J688"
          ],
          [
           "J69"
          ],
          [
           "J691"
          ],
          [
           "J692"
          ],
          [
           "J694"
          ],
          [
           "J695"
          ],
          [
           "J696"
          ],
          [
           "J697"
          ],
          [
           "J698"
          ],
          [
           "J699"
          ],
          [
           "J7"
          ],
          [
           "J700"
          ],
          [
           "J701"
          ],
          [
           "J702"
          ],
          [
           "J704"
          ],
          [
           "J705"
          ],
          [
           "J706"
          ],
          [
           "J707"
          ],
          [
           "J708"
          ],
          [
           "J709"
          ],
          [
           "J710"
          ],
          [
           "J711"
          ],
          [
           "J713"
          ],
          [
           "J715"
          ],
          [
           "J716"
          ],
          [
           "J717"
          ],
          [
           "J718"
          ],
          [
           "J719"
          ],
          [
           "J72"
          ],
          [
           "J720"
          ],
          [
           "J721"
          ],
          [
           "J722"
          ],
          [
           "J723"
          ],
          [
           "J724"
          ],
          [
           "J725"
          ],
          [
           "J728"
          ],
          [
           "J729"
          ],
          [
           "J73"
          ],
          [
           "J730"
          ],
          [
           "J731"
          ],
          [
           "J732"
          ],
          [
           "J733"
          ],
          [
           "J734"
          ],
          [
           "J735"
          ],
          [
           "J736"
          ],
          [
           "J737"
          ],
          [
           "J739"
          ],
          [
           "J74"
          ],
          [
           "J740"
          ],
          [
           "J741"
          ],
          [
           "J742"
          ],
          [
           "J743"
          ],
          [
           "J744"
          ],
          [
           "J745"
          ],
          [
           "J747"
          ],
          [
           "J748"
          ],
          [
           "J749"
          ],
          [
           "J75"
          ],
          [
           "J751"
          ],
          [
           "J753"
          ],
          [
           "J754"
          ],
          [
           "J755"
          ],
          [
           "J756"
          ],
          [
           "J757"
          ],
          [
           "J758"
          ],
          [
           "J759"
          ],
          [
           "J76"
          ],
          [
           "J760"
          ],
          [
           "J761"
          ],
          [
           "J762"
          ],
          [
           "J763"
          ],
          [
           "J764"
          ],
          [
           "J765"
          ],
          [
           "J766"
          ],
          [
           "J767"
          ],
          [
           "J768"
          ],
          [
           "J769"
          ],
          [
           "J77"
          ],
          [
           "J770"
          ],
          [
           "J771"
          ],
          [
           "J772"
          ],
          [
           "J774"
          ],
          [
           "J776"
          ],
          [
           "J778"
          ],
          [
           "J779"
          ],
          [
           "J78"
          ],
          [
           "J780"
          ],
          [
           "J781"
          ],
          [
           "J782"
          ],
          [
           "J783"
          ],
          [
           "J784"
          ],
          [
           "J785"
          ],
          [
           "J786"
          ],
          [
           "J787"
          ],
          [
           "J788"
          ],
          [
           "J79"
          ],
          [
           "J790"
          ],
          [
           "J791"
          ],
          [
           "J793"
          ],
          [
           "J794"
          ],
          [
           "J795"
          ],
          [
           "J796"
          ],
          [
           "J797"
          ],
          [
           "J798"
          ],
          [
           "J799"
          ],
          [
           "J80"
          ],
          [
           "J801"
          ],
          [
           "J802"
          ],
          [
           "J803"
          ],
          [
           "J804"
          ],
          [
           "J805"
          ],
          [
           "J807"
          ],
          [
           "J808"
          ],
          [
           "J809"
          ],
          [
           "J81"
          ],
          [
           "J811"
          ],
          [
           "J813"
          ],
          [
           "J814"
          ],
          [
           "J815"
          ],
          [
           "J817"
          ],
          [
           "J819"
          ],
          [
           "J820"
          ],
          [
           "J821"
          ],
          [
           "J822"
          ],
          [
           "J823"
          ],
          [
           "J824"
          ],
          [
           "J825"
          ],
          [
           "J826"
          ],
          [
           "J827"
          ],
          [
           "J828"
          ],
          [
           "J829"
          ],
          [
           "J83"
          ],
          [
           "J830"
          ],
          [
           "J831"
          ],
          [
           "J832"
          ],
          [
           "J833"
          ],
          [
           "J837"
          ],
          [
           "J838"
          ],
          [
           "J839"
          ],
          [
           "J84"
          ],
          [
           "J840"
          ],
          [
           "J841"
          ],
          [
           "J842"
          ],
          [
           "J843"
          ],
          [
           "J844"
          ],
          [
           "J845"
          ],
          [
           "J846"
          ],
          [
           "J847"
          ],
          [
           "J848"
          ],
          [
           "J849"
          ],
          [
           "J85"
          ],
          [
           "J850"
          ],
          [
           "J852"
          ],
          [
           "J853"
          ],
          [
           "J854"
          ],
          [
           "J859"
          ],
          [
           "J86"
          ],
          [
           "J860"
          ],
          [
           "J861"
          ],
          [
           "J862"
          ],
          [
           "J863"
          ],
          [
           "J864"
          ],
          [
           "J865"
          ],
          [
           "J866"
          ],
          [
           "J868"
          ],
          [
           "J869"
          ],
          [
           "J87"
          ],
          [
           "J870"
          ],
          [
           "J871"
          ],
          [
           "J872"
          ],
          [
           "J874"
          ],
          [
           "J875"
          ],
          [
           "J876"
          ],
          [
           "J877"
          ],
          [
           "J878"
          ],
          [
           "J879"
          ],
          [
           "J88"
          ],
          [
           "J880"
          ],
          [
           "J881"
          ],
          [
           "J882"
          ],
          [
           "J883"
          ],
          [
           "J884"
          ],
          [
           "J885"
          ],
          [
           "J886"
          ],
          [
           "J887"
          ],
          [
           "J888"
          ],
          [
           "J889"
          ],
          [
           "J89"
          ],
          [
           "J890"
          ],
          [
           "J891"
          ],
          [
           "J892"
          ],
          [
           "J893"
          ],
          [
           "J896"
          ],
          [
           "J897"
          ],
          [
           "J898"
          ],
          [
           "J899"
          ],
          [
           "J90"
          ],
          [
           "J900"
          ],
          [
           "J901"
          ],
          [
           "J902"
          ],
          [
           "J903"
          ],
          [
           "J904"
          ],
          [
           "J905"
          ],
          [
           "J906"
          ],
          [
           "J907"
          ],
          [
           "J908"
          ],
          [
           "J909"
          ],
          [
           "J91"
          ],
          [
           "J911"
          ],
          [
           "J912"
          ],
          [
           "J913"
          ],
          [
           "J915"
          ],
          [
           "J916"
          ],
          [
           "J917"
          ],
          [
           "J918"
          ],
          [
           "J919"
          ],
          [
           "J92"
          ],
          [
           "J920"
          ],
          [
           "J921"
          ],
          [
           "J922"
          ],
          [
           "J923"
          ],
          [
           "J924"
          ],
          [
           "J925"
          ],
          [
           "J928"
          ],
          [
           "J929"
          ],
          [
           "J93"
          ],
          [
           "J930"
          ],
          [
           "J931"
          ],
          [
           "J932"
          ],
          [
           "J933"
          ],
          [
           "J935"
          ],
          [
           "J936"
          ],
          [
           "J937"
          ],
          [
           "J940"
          ],
          [
           "J941"
          ],
          [
           "J943"
          ],
          [
           "J944"
          ],
          [
           "J945"
          ],
          [
           "J946"
          ],
          [
           "J947"
          ],
          [
           "J948"
          ],
          [
           "J95"
          ],
          [
           "J950"
          ],
          [
           "J951"
          ],
          [
           "J952"
          ],
          [
           "J953"
          ],
          [
           "J954"
          ],
          [
           "J955"
          ],
          [
           "J956"
          ],
          [
           "J957"
          ],
          [
           "J958"
          ],
          [
           "J959"
          ],
          [
           "J96"
          ],
          [
           "J961"
          ],
          [
           "J962"
          ],
          [
           "J963"
          ],
          [
           "J964"
          ],
          [
           "J965"
          ],
          [
           "J966"
          ],
          [
           "J967"
          ],
          [
           "J968"
          ],
          [
           "J969"
          ],
          [
           "J97"
          ],
          [
           "J970"
          ],
          [
           "J971"
          ],
          [
           "J973"
          ],
          [
           "J974"
          ],
          [
           "J975"
          ],
          [
           "J976"
          ],
          [
           "J977"
          ],
          [
           "J978"
          ],
          [
           "J979"
          ],
          [
           "J98"
          ],
          [
           "J980"
          ],
          [
           "J981"
          ],
          [
           "J983"
          ],
          [
           "J984"
          ],
          [
           "J985"
          ],
          [
           "J987"
          ],
          [
           "J988"
          ],
          [
           "J989"
          ],
          [
           "J99"
          ],
          [
           "J990"
          ],
          [
           "J992"
          ],
          [
           "J993"
          ],
          [
           "J994"
          ],
          [
           "J995"
          ],
          [
           "J997"
          ],
          [
           "J998"
          ],
          [
           "J999"
          ]
         ],
         "hovertemplate": "Component 1=%{x}<br>Component 2=%{y}<br>Target=%{customdata[0]}<br>KMeans Cluster=%{marker.color}<extra></extra>",
         "legendgroup": "",
         "marker": {
          "color": [
           9,
           19,
           5,
           2,
           11,
           18,
           14,
           14,
           10,
           22,
           17,
           17,
           9,
           14,
           2,
           2,
           14,
           2,
           2,
           20,
           20,
           3,
           5,
           11,
           19,
           19,
           9,
           17,
           14,
           1,
           22,
           12,
           14,
           10,
           2,
           9,
           19,
           19,
           2,
           19,
           2,
           1,
           1,
           10,
           20,
           20,
           13,
           21,
           1,
           10,
           19,
           10,
           2,
           2,
           2,
           5,
           19,
           17,
           20,
           17,
           18,
           7,
           10,
           10,
           10,
           10,
           19,
           1,
           14,
           19,
           2,
           2,
           19,
           14,
           14,
           14,
           0,
           0,
           0,
           0,
           0,
           0,
           21,
           1,
           22,
           5,
           0,
           10,
           9,
           20,
           14,
           21,
           1,
           20,
           12,
           21,
           2,
           12,
           17,
           17,
           19,
           17,
           12,
           17,
           10,
           17,
           1,
           1,
           5,
           5,
           12,
           17,
           14,
           9,
           22,
           17,
           12,
           2,
           14,
           14,
           17,
           14,
           2,
           21,
           1,
           19,
           21,
           14,
           0,
           22,
           14,
           10,
           12,
           17,
           20,
           20,
           19,
           1,
           1,
           14,
           1,
           14,
           3,
           2,
           2,
           7,
           17,
           22,
           21,
           12,
           8,
           10,
           10,
           17,
           19,
           12,
           3,
           1,
           21,
           21,
           22,
           12,
           2,
           21,
           17,
           22,
           19,
           21,
           6,
           12,
           20,
           7,
           9,
           19,
           10,
           22,
           20,
           6,
           21,
           21,
           21,
           14,
           7,
           9,
           20,
           7,
           21,
           6,
           1,
           12,
           10,
           9,
           12,
           9,
           9,
           12,
           1,
           21,
           2,
           2,
           12,
           7,
           14,
           14,
           22,
           9,
           9,
           22,
           22,
           9,
           16,
           20,
           20,
           22,
           19,
           9,
           22,
           9,
           22,
           22,
           1,
           11,
           12,
           20,
           19,
           14,
           5,
           5,
           4,
           21,
           10,
           10,
           15,
           3,
           12,
           12,
           6,
           21,
           3,
           9,
           21,
           21,
           21,
           1,
           1,
           15,
           14,
           7,
           10,
           14,
           3,
           3,
           12,
           15,
           2,
           17,
           14,
           15,
           14,
           14,
           14,
           14,
           21,
           14,
           14,
           14,
           14,
           14,
           21,
           12,
           12,
           10,
           12,
           21,
           21,
           22,
           10,
           22,
           12,
           21,
           5,
           21,
           11,
           21,
           21,
           11,
           11,
           20,
           11,
           12,
           2,
           12,
           5,
           1,
           2,
           2,
           9,
           11,
           14,
           18,
           18,
           20,
           2,
           6,
           19,
           11,
           20,
           10,
           21,
           18,
           14,
           5,
           19,
           3,
           14,
           14,
           9,
           9,
           9,
           15,
           19,
           12,
           2,
           22,
           10,
           7,
           21,
           2,
           2,
           2,
           9,
           19,
           10,
           14,
           11,
           2,
           19,
           7,
           22,
           14,
           14,
           0,
           2,
           3,
           14,
           10,
           7,
           17,
           1,
           10,
           10,
           10,
           9,
           15,
           2,
           0,
           5,
           20,
           14,
           9,
           1,
           14,
           0,
           14,
           10,
           1,
           20,
           14,
           17,
           12,
           14,
           15,
           7,
           1,
           10,
           1,
           10,
           3,
           1,
           7,
           19,
           7,
           9,
           14,
           6,
           10,
           22,
           22,
           22,
           21,
           12,
           6,
           21,
           14,
           22,
           9,
           15,
           0,
           17,
           1,
           17,
           20,
           12,
           20,
           12,
           22,
           5,
           10,
           17,
           21,
           21,
           9,
           20,
           22,
           19,
           19,
           2,
           15,
           6,
           14,
           12,
           16,
           10,
           12,
           8,
           21,
           21,
           2,
           2,
           2,
           17,
           4,
           7,
           15,
           19,
           9,
           6,
           6,
           1,
           6,
           10,
           11,
           10,
           22,
           17,
           22,
           5,
           7,
           5,
           22,
           6,
           7,
           20,
           17,
           20,
           21,
           21,
           7,
           20,
           22,
           21,
           12,
           12,
           11,
           13,
           21,
           2,
           12,
           20,
           6,
           12,
           21,
           2,
           10,
           12,
           22,
           10,
           1,
           21,
           19,
           22,
           8,
           9,
           7,
           21,
           20,
           22,
           2,
           5,
           12,
           8,
           11,
           22,
           21,
           21,
           6,
           6,
           2,
           2,
           2,
           10,
           6,
           1,
           20,
           22,
           19,
           7,
           7,
           15,
           20,
           15,
           0,
           20,
           9,
           12,
           6,
           10,
           10,
           10,
           6,
           6,
           6,
           6,
           14,
           6,
           6,
           6,
           6,
           6,
           10,
           21,
           15,
           1,
           12,
           14,
           14,
           1,
           14,
           17,
           20,
           20,
           8,
           21,
           7,
           1,
           5,
           15,
           12,
           12,
           9,
           17,
           11,
           11,
           1,
           17,
           12,
           21,
           10,
           20,
           3,
           13,
           14,
           14,
           2,
           21,
           14,
           11,
           11,
           0,
           15,
           20,
           12,
           22,
           2,
           11,
           22,
           14,
           22,
           15,
           0,
           21,
           11,
           6,
           13,
           1,
           22,
           17,
           21,
           10,
           15,
           10,
           19,
           22,
           10,
           3,
           12,
           21,
           0,
           20,
           14,
           15,
           10,
           15,
           14,
           19,
           14,
           3,
           21,
           14,
           16,
           15,
           12,
           10,
           12,
           12,
           9,
           0,
           6,
           2,
           2,
           2,
           2,
           2,
           5,
           2,
           2,
           2,
           12,
           14,
           19,
           15,
           6,
           9,
           21,
           7,
           12,
           18,
           12,
           21,
           14,
           12,
           17,
           1,
           19,
           6,
           1,
           20,
           17,
           12,
           20,
           1,
           1,
           17,
           20,
           1,
           3,
           15,
           6,
           15,
           20,
           6,
           6,
           2,
           19,
           20,
           21,
           5,
           7,
           2,
           10,
           11,
           10,
           2,
           7,
           12,
           5,
           5,
           6,
           14,
           4,
           9,
           12,
           19,
           10,
           14,
           10,
           21,
           7,
           10,
           12,
           18,
           10,
           18,
           18,
           18,
           18,
           15,
           9,
           14,
           14,
           14,
           14,
           22,
           21,
           19,
           3,
           6,
           22,
           19,
           4,
           8,
           22,
           19,
           19,
           15,
           2,
           22,
           10,
           15,
           1,
           11,
           14,
           15,
           12,
           3,
           10,
           20,
           12,
           21,
           20,
           18,
           1,
           1,
           10,
           1,
           22,
           1,
           14,
           14,
           14,
           21,
           11,
           6,
           19,
           6,
           8,
           14,
           2,
           20,
           3,
           21,
           3,
           6,
           12,
           12,
           18,
           18,
           9,
           7,
           7,
           2,
           7,
           6,
           6,
           21,
           19,
           20,
           12,
           20,
           15,
           10,
           10,
           18,
           14,
           5,
           14,
           10,
           10,
           2,
           1,
           0,
           8,
           15,
           1,
           3,
           21,
           18,
           18,
           18,
           14,
           18,
           18,
           18,
           18,
           3,
           3,
           2,
           19,
           7,
           10,
           19,
           19,
           21,
           10,
           7,
           10,
           21,
           7,
           6,
           18,
           0,
           6,
           11,
           7,
           6,
           2,
           0,
           19,
           21,
           21,
           21,
           15,
           9,
           7,
           22,
           7,
           21,
           19,
           5,
           22,
           22,
           3,
           4,
           3,
           15,
           2,
           14,
           6,
           12,
           21,
           5,
           17,
           13,
           3,
           12,
           20,
           1,
           18,
           6,
           7,
           10,
           17,
           12,
           2,
           18,
           22,
           10,
           9,
           10,
           9,
           22,
           22,
           9,
           1,
           22,
           15,
           14,
           12,
           1,
           13,
           19,
           16,
           1,
           10,
           21,
           19,
           1,
           17,
           15,
           3,
           11,
           19,
           3,
           18,
           10,
           12,
           7,
           14,
           18,
           19,
           10,
           17,
           12,
           19,
           15,
           15,
           19,
           4,
           19,
           13,
           18,
           19,
           21,
           20,
           19,
           18,
           3,
           19,
           2,
           3,
           11,
           14,
           4,
           19,
           19,
           1,
           15,
           1,
           15,
           1,
           14,
           14,
           0,
           14,
           0,
           14,
           14,
           14,
           14,
           14,
           14,
           21,
           14,
           9,
           9,
           14,
           14,
           2,
           1,
           12,
           14,
           14,
           19,
           9,
           14,
           14,
           0,
           0,
           0,
           9,
           3,
           3,
           3,
           3,
           17,
           17,
           3,
           19,
           15,
           15,
           10,
           1,
           1,
           20,
           17,
           1,
           1,
           10,
           19,
           20,
           1,
           1,
           1,
           2,
           10,
           1,
           9,
           9,
           15,
           19,
           9,
           10,
           12,
           15,
           12,
           12,
           18,
           20,
           22,
           15,
           15,
           18,
           21,
           19,
           10,
           19,
           17,
           9,
           1,
           22,
           22,
           22,
           17,
           3,
           17,
           4,
           4,
           3,
           3,
           10,
           22,
           10,
           2,
           10,
           20,
           15,
           21,
           2,
           17,
           2,
           2,
           2,
           5,
           2,
           20,
           2,
           2,
           10,
           13,
           13,
           11,
           4,
           14,
           21,
           0,
           14,
           21,
           0,
           14,
           21,
           1,
           21,
           3,
           9,
           20,
           9,
           9,
           12,
           9,
           9,
           15,
           15,
           14,
           14,
           14,
           14,
           19,
           14,
           2,
           2,
           5,
           14,
           14,
           14,
           14,
           2,
           17,
           21,
           5,
           2,
           10,
           14,
           14,
           10,
           14,
           10,
           14,
           20,
           10,
           14,
           14,
           0,
           0,
           0,
           20,
           3,
           3,
           1,
           17,
           5,
           2,
           5,
           19,
           14,
           0,
           0,
           21,
           12,
           10,
           21,
           1,
           17,
           3,
           21,
           21,
           4,
           4,
           19,
           12,
           10,
           9,
           9,
           9,
           10,
           9,
           19,
           9,
           9,
           17,
           22,
           15,
           1,
           21,
           12,
           2,
           21,
           21,
           13,
           5,
           2,
           5,
           10,
           21,
           20,
           5,
           2,
           20,
           9,
           13,
           14,
           14,
           14,
           14,
           0,
           14,
           10,
           12,
           4,
           5,
           10,
           9,
           17,
           14,
           14,
           14,
           5,
           0,
           10,
           5,
           14,
           12,
           1,
           22,
           3,
           2,
           12,
           0,
           5,
           1,
           3,
           2,
           19,
           17,
           21,
           9,
           13,
           3,
           9,
           15,
           9,
           19,
           22,
           15,
           9,
           9,
           15,
           15,
           9,
           12,
           21,
           21,
           8,
           12,
           9,
           10,
           10,
           9,
           3,
           1,
           22,
           3,
           3,
           3,
           3,
           3,
           3,
           3,
           17,
           13,
           13,
           1,
           20,
           21,
           17,
           15,
           22,
           22,
           22,
           22,
           22,
           22,
           22,
           3,
           12,
           1,
           7,
           13,
           13,
           13,
           22,
           22,
           7,
           7,
           17,
           17,
           22,
           22,
           22,
           22,
           22,
           22,
           22,
           7,
           22,
           22,
           12,
           17,
           17,
           1,
           7,
           22,
           15,
           22,
           22,
           5,
           5,
           5,
           1,
           14,
           14,
           14,
           14,
           14,
           5,
           21,
           5,
           10,
           10,
           14,
           10,
           1,
           5,
           5,
           8,
           5,
           2,
           14,
           14,
           5,
           21,
           14,
           4,
           14,
           0,
           0,
           2,
           14,
           0,
           14,
           14,
           0,
           14,
           2,
           14,
           14,
           14,
           14,
           14,
           14,
           15,
           2,
           1,
           16,
           16,
           16,
           16,
           15,
           16,
           16,
           16,
           14,
           14,
           10,
           5,
           0,
           21,
           14,
           10,
           12,
           2,
           2,
           10,
           10,
           22,
           1,
           19,
           9,
           19,
           10,
           5,
           15,
           15,
           15,
           15,
           21,
           18,
           1,
           21,
           19,
           2,
           21,
           3,
           20,
           15,
           15,
           15,
           20,
           18,
           19,
           12,
           15,
           19,
           22,
           19,
           19,
           9,
           19,
           9,
           19,
           14,
           2,
           2,
           14,
           19,
           5,
           17,
           18,
           20,
           9,
           17,
           1,
           10,
           21,
           17,
           20,
           2,
           10,
           17,
           12,
           19,
           3,
           19,
           19,
           7,
           19,
           12,
           12,
           17,
           6,
           14,
           4,
           12,
           18,
           19,
           17,
           5,
           7,
           1,
           10,
           6,
           6,
           6,
           17,
           6,
           6,
           3,
           9,
           9,
           10,
           6,
           6,
           20,
           18,
           20,
           17,
           5,
           21,
           2,
           2,
           10,
           17,
           9,
           9,
           1,
           15,
           10,
           6,
           6,
           12,
           12,
           12,
           20,
           9,
           9,
           6,
           6,
           1,
           20,
           9,
           22,
           10,
           3,
           3,
           3,
           3,
           2,
           19,
           15,
           17,
           10,
           1,
           1,
           1,
           21,
           21,
           14,
           2,
           22,
           15,
           3,
           3,
           0,
           0,
           3,
           0,
           19,
           17,
           10,
           12,
           19,
           9,
           22,
           1,
           15,
           19,
           17,
           21,
           1,
           17,
           14,
           5,
           5,
           10,
           10,
           10,
           10,
           14,
           15,
           1,
           1,
           10,
           2,
           3,
           4,
           10,
           20,
           12,
           5,
           10,
           17,
           20,
           14,
           14,
           2,
           15,
           2,
           8,
           10,
           2,
           14,
           5,
           15,
           3,
           17,
           1,
           13,
           17,
           19,
           9,
           10,
           2,
           5,
           14,
           19,
           10,
           21,
           14,
           10,
           10,
           14,
           14,
           14,
           8,
           2,
           19,
           15,
           5,
           2,
           2,
           2,
           21,
           14,
           0,
           15,
           14,
           0,
           19,
           20,
           2,
           2,
           14,
           14,
           5,
           0,
           0,
           19,
           19,
           22,
           2,
           14,
           20,
           2,
           2,
           10,
           10,
           21,
           21,
           21,
           21,
           2,
           13,
           9,
           1,
           12,
           20,
           20,
           20,
           10,
           10,
           10,
           10,
           10,
           21,
           16,
           5,
           18,
           17,
           5,
           21,
           5,
           22,
           6,
           8,
           12,
           14,
           10,
           6,
           9,
           20,
           10,
           14,
           14,
           14,
           19,
           19,
           3,
           15,
           12,
           5,
           14,
           14,
           1,
           5,
           0,
           9,
           19,
           19,
           8,
           19,
           20,
           1,
           10,
           5,
           5,
           5,
           2,
           14,
           5,
           5,
           2,
           5,
           19,
           14,
           9,
           9,
           3,
           15,
           21,
           19,
           17,
           1,
           2,
           21,
           1,
           12,
           22,
           15,
           22,
           10,
           14,
           14,
           14,
           5,
           21,
           21,
           21,
           8,
           14,
           5,
           0,
           19,
           12,
           6,
           12,
           14,
           2,
           2,
           2,
           14,
           0,
           0,
           12,
           0,
           2,
           2,
           1,
           6,
           6,
           21,
           6,
           6,
           9,
           14,
           14,
           14,
           21,
           2,
           21,
           18,
           3,
           10,
           21,
           0,
           20,
           0,
           14,
           14,
           0,
           9,
           9,
           19,
           19,
           10,
           9,
           5,
           5,
           5,
           2,
           14,
           18,
           3,
           7,
           17,
           20,
           21,
           14,
           14,
           15,
           21,
           14,
           12,
           3,
           20,
           22,
           2,
           19,
           21,
           14,
           4,
           0,
           14,
           9,
           20,
           2,
           0,
           4,
           14,
           0,
           22,
           4,
           9,
           10,
           11,
           5,
           22,
           5,
           4,
           4,
           4,
           5,
           5,
           14,
           19,
           19,
           2,
           2,
           12,
           14,
           14,
           14,
           5,
           15,
           15,
           0,
           14,
           14,
           14,
           0,
           17,
           17,
           5,
           21,
           15,
           7,
           19,
           19,
           12,
           15,
           14,
           2,
           17,
           2,
           14,
           12,
           10,
           6,
           19,
           19,
           22,
           22,
           22,
           1,
           2,
           2,
           2,
           11,
           5,
           21,
           11,
           11,
           19,
           1,
           2,
           5,
           2,
           5,
           12,
           14,
           2,
           12,
           19,
           19,
           1,
           10,
           1,
           14,
           15,
           0,
           7,
           7,
           12,
           12,
           2,
           2,
           14,
           17,
           12,
           21,
           12,
           21,
           9,
           9,
           12,
           9,
           10,
           10,
           22,
           12,
           12,
           14,
           12,
           2,
           2,
           14,
           9,
           5,
           6,
           15,
           21,
           14,
           10,
           12,
           20,
           1,
           10,
           5,
           17,
           2,
           10,
           2,
           18,
           2,
           19,
           14,
           19,
           12,
           9,
           14,
           8,
           19,
           9,
           19,
           17,
           4,
           12,
           18,
           18,
           18,
           18,
           7,
           1,
           21,
           2,
           21,
           21,
           15,
           18,
           18,
           3,
           3,
           3,
           18,
           18,
           17,
           18,
           3,
           18,
           3,
           18,
           18,
           18,
           18,
           18,
           18,
           18,
           18,
           18,
           18,
           13,
           3,
           17,
           18,
           17,
           18,
           18,
           18,
           3,
           18,
           18,
           18,
           12,
           18,
           18,
           18,
           18,
           18,
           13,
           3,
           18,
           18,
           18,
           18,
           18,
           18,
           18,
           18,
           18,
           17,
           3,
           17,
           13,
           18,
           18,
           1,
           18,
           15,
           18,
           3,
           18,
           12,
           19,
           3,
           3,
           18,
           18,
           18,
           18,
           18,
           15,
           18,
           12,
           3,
           13,
           13,
           3,
           18,
           18,
           18,
           20,
           1,
           12,
           13,
           17,
           18,
           18,
           18,
           18,
           18,
           3,
           3,
           18,
           3,
           3,
           3,
           18,
           18,
           18,
           3,
           3,
           18,
           3,
           9,
           10,
           8,
           12,
           7,
           18,
           7,
           7,
           10,
           7,
           12,
           5,
           21,
           4,
           13,
           7,
           17,
           5,
           9,
           7,
           10,
           12,
           19,
           20,
           10,
           11,
           7,
           13,
           10,
           19,
           7,
           7,
           7,
           7,
           11,
           21,
           10,
           10,
           7,
           19,
           20,
           5,
           8,
           11,
           20,
           15,
           5,
           17,
           8,
           3,
           15,
           12,
           21,
           10,
           7,
           15,
           10,
           10,
           8,
           8,
           15,
           20,
           22,
           7,
           17,
           8,
           7,
           5,
           8,
           8,
           8,
           19,
           7,
           7,
           19,
           7,
           8,
           21,
           11,
           11,
           11,
           11,
           19,
           11,
           20,
           7,
           5,
           21,
           21,
           10,
           1,
           8,
           6,
           20,
           8,
           1,
           7,
           9,
           7,
           7,
           15,
           17,
           1,
           8,
           8,
           17,
           7,
           7,
           12,
           8,
           7,
           7,
           17,
           3,
           3,
           8,
           8,
           12,
           5,
           11,
           12,
           12,
           10,
           12,
           21,
           21,
           21,
           21,
           21,
           7,
           3,
           12,
           21,
           13,
           10,
           8,
           12,
           9,
           9,
           7,
           11,
           8,
           12,
           11,
           1,
           20,
           17,
           7,
           7,
           8,
           7,
           21,
           21,
           11,
           12,
           7,
           7,
           13,
           13,
           10,
           8,
           13,
           7,
           8,
           8,
           17,
           7,
           7,
           4,
           1,
           3,
           15,
           7,
           7,
           20,
           1,
           3,
           10,
           7,
           7,
           8,
           7,
           7,
           8,
           19,
           18,
           3,
           7,
           7,
           10,
           7,
           21,
           20,
           7,
           7,
           8,
           3,
           11,
           15,
           7,
           21,
           7,
           10,
           10,
           11,
           22,
           15,
           20,
           7,
           10,
           15,
           10,
           7,
           8,
           7,
           7,
           12,
           5,
           20,
           17,
           8,
           10,
           10,
           8,
           12,
           19,
           17,
           8,
           7,
           9,
           12,
           7,
           12,
           7,
           12,
           4,
           7,
           11,
           17,
           22,
           18,
           3,
           15,
           13,
           20,
           7,
           7,
           10,
           1,
           20,
           12,
           10,
           11,
           3,
           7,
           21,
           12,
           7,
           17,
           9,
           8,
           3,
           12,
           22,
           12,
           22,
           7,
           7,
           7,
           15,
           3,
           8,
           19,
           3,
           13,
           12,
           7,
           22,
           8,
           10,
           12,
           10,
           3,
           10,
           7,
           3,
           10,
           4,
           11,
           8,
           8,
           10,
           13,
           5,
           5,
           7,
           7,
           7,
           7,
           7,
           7,
           10,
           21,
           10,
           21,
           5,
           8,
           9,
           19,
           5,
           7,
           10,
           1,
           1,
           10,
           8,
           8,
           17,
           7,
           3,
           7,
           22,
           21,
           10,
           7,
           7,
           21,
           3,
           8,
           8,
           22,
           8,
           8,
           10,
           4,
           3,
           6,
           7,
           7,
           8,
           3,
           10,
           10,
           10,
           7,
           19,
           17,
           9,
           19,
           17,
           19,
           10,
           17,
           17,
           17,
           1,
           15,
           15,
           6,
           17,
           3,
           5,
           19,
           19,
           10,
           1,
           3,
           17,
           15,
           4,
           1,
           4,
           20,
           3,
           10,
           4,
           12,
           22,
           12,
           12,
           19,
           12,
           4,
           4,
           19,
           4,
           4,
           10,
           19,
           1,
           10,
           1,
           1,
           4,
           4,
           7,
           9,
           12,
           17,
           21,
           19,
           21,
           21,
           21,
           4,
           4,
           7,
           7,
           20,
           19,
           3,
           19,
           5,
           5,
           13,
           19,
           10,
           1,
           10,
           12,
           5,
           5,
           5,
           8,
           17,
           19,
           9,
           1,
           8,
           1,
           19,
           17,
           12,
           1,
           17,
           5,
           8,
           9,
           7,
           8,
           8,
           12,
           4,
           5,
           1,
           18,
           9,
           15,
           8,
           7,
           5,
           15,
           12,
           17,
           15,
           9,
           1,
           8,
           12,
           15,
           1,
           8,
           15,
           3,
           9,
           19,
           15,
           19,
           8,
           8,
           13,
           5,
           3,
           21,
           1,
           7,
           20,
           12,
           12,
           20,
           12,
           3,
           5,
           15,
           8,
           9,
           10,
           7,
           8,
           12,
           12,
           5,
           1,
           3,
           3,
           3,
           3,
           21,
           10,
           10,
           10,
           12,
           15,
           12,
           7,
           15,
           10,
           8,
           12,
           12,
           7,
           9,
           11,
           11,
           7,
           5,
           7,
           19,
           10,
           9,
           8,
           20,
           12,
           1,
           8,
           8,
           1,
           19,
           19,
           12,
           19,
           19,
           1,
           15,
           1,
           7,
           10,
           10,
           17,
           8,
           19,
           11,
           15,
           15,
           1,
           8,
           13,
           6,
           12,
           12,
           9,
           1,
           8,
           13,
           8,
           8,
           8,
           13,
           21,
           15,
           5,
           19,
           8,
           8,
           8,
           8,
           1,
           5,
           9,
           22,
           12,
           12,
           7,
           8,
           15,
           7,
           15,
           5,
           3,
           6,
           7,
           1,
           1,
           7,
           3,
           21,
           7,
           8,
           1,
           8,
           12,
           7,
           12,
           8,
           13,
           9,
           12,
           13,
           3,
           13,
           8,
           8,
           10,
           8,
           8,
           3,
           8,
           19,
           8,
           8,
           20,
           8,
           12,
           1,
           20,
           19,
           7,
           7,
           22,
           7,
           9,
           12,
           7,
           19,
           1,
           12,
           20,
           12,
           12,
           11,
           7,
           8,
           9,
           19,
           7,
           19,
           15,
           8,
           15,
           12,
           19,
           17,
           19,
           19,
           1,
           7,
           20,
           19,
           17,
           17,
           9,
           8,
           15,
           17,
           8,
           3,
           9,
           8,
           15,
           15,
           20,
           8,
           15,
           15,
           15,
           15,
           17,
           19,
           15,
           8,
           8,
           12,
           12,
           21,
           21,
           9,
           7,
           18,
           4,
           7,
           7,
           3,
           4,
           8,
           15,
           17,
           22,
           7,
           8,
           8,
           10,
           21,
           21,
           15,
           7,
           1,
           21,
           17,
           8,
           8,
           4,
           10,
           13,
           3,
           1,
           12,
           13,
           21,
           17,
           20,
           7,
           0,
           17,
           7,
           15,
           7,
           4,
           5,
           11,
           11,
           12,
           9,
           17,
           11,
           15,
           5,
           21,
           21,
           7,
           20,
           12,
           12,
           19,
           21,
           21,
           10,
           11,
           8,
           5,
           21,
           19,
           19,
           20,
           5,
           7,
           7,
           5,
           18,
           21,
           19,
           19,
           15,
           21,
           1,
           21,
           10,
           12,
           12,
           15,
           8,
           21,
           7,
           10,
           15,
           19,
           9,
           12,
           18,
           7,
           6,
           7,
           7,
           3,
           20,
           8,
           20,
           17,
           1,
           17,
           12,
           15,
           10,
           1,
           7,
           20,
           15,
           12,
           8,
           8,
           12,
           20,
           4,
           10,
           12,
           1,
           6,
           12,
           17,
           10,
           7,
           10,
           10,
           1,
           10,
           8,
           7,
           15,
           12,
           1,
           21,
           21,
           12,
           1,
           21,
           12,
           12,
           20,
           10,
           3,
           20,
           21,
           21,
           12,
           15,
           1,
           21,
           9,
           9,
           8,
           9,
           13,
           20,
           8,
           3,
           21,
           7,
           21,
           8,
           10,
           10,
           10,
           3,
           5,
           21,
           17,
           5,
           21,
           7,
           21,
           7,
           10,
           19,
           5,
           3,
           13,
           4,
           4,
           5,
           5,
           8,
           3,
           10,
           0,
           15,
           12,
           12,
           8,
           21,
           10,
           11,
           7,
           21,
           19,
           19,
           10,
           7,
           21,
           21,
           7,
           7,
           3,
           13,
           17,
           7,
           20,
           3,
           12,
           12,
           5,
           5,
           1,
           3,
           7,
           13,
           13,
           20,
           19,
           12,
           21,
           17,
           9,
           10,
           8,
           10,
           7,
           12,
           8,
           7,
           10,
           7,
           3,
           5,
           21,
           7,
           8,
           21,
           21,
           21,
           5,
           13,
           11,
           19,
           13,
           3,
           8,
           21,
           20,
           20,
           3,
           6,
           17,
           7,
           12,
           21,
           22,
           21,
           5,
           8,
           1,
           3,
           11,
           5,
           5,
           11,
           8,
           5,
           12,
           12,
           10,
           17,
           5,
           12,
           8,
           3,
           12,
           12,
           19,
           19,
           15,
           3,
           19,
           3,
           15,
           3,
           7,
           7,
           9,
           18,
           12,
           20,
           7,
           22,
           22,
           7,
           10,
           17,
           5,
           7,
           21,
           7,
           21,
           7,
           22,
           12,
           3,
           11,
           21,
           12,
           21,
           5,
           1,
           6,
           15,
           9,
           21,
           20,
           11,
           11,
           15,
           7,
           5,
           12,
           12,
           9,
           7,
           7,
           3,
           10,
           5,
           19,
           10,
           10,
           8,
           13,
           20,
           11,
           7,
           11,
           13,
           17,
           20,
           21,
           21,
           11,
           5,
           21,
           13,
           12,
           18,
           3,
           19,
           7,
           5,
           8,
           10,
           13,
           10,
           11,
           15,
           8,
           10,
           9,
           9,
           5,
           4,
           19,
           12,
           2,
           7,
           10,
           6,
           15,
           8,
           10,
           12,
           12,
           22,
           7,
           0,
           5,
           3,
           7,
           13,
           3,
           8,
           15,
           10,
           8,
           3,
           10,
           7,
           13,
           13,
           7,
           7,
           15,
           8,
           5,
           10,
           13,
           15,
           7,
           7,
           7,
           7,
           5,
           7,
           11,
           13,
           7,
           8,
           13,
           21,
           8,
           10,
           21,
           21,
           10,
           11,
           12,
           5,
           12,
           7,
           5,
           12,
           9,
           12,
           11,
           8,
           11,
           10,
           21,
           8,
           21,
           19,
           19,
           21,
           8,
           12,
           22,
           12,
           7,
           8,
           12,
           6,
           1,
           12,
           7,
           7,
           8,
           7,
           11,
           7,
           11,
           1,
           7,
           22,
           11,
           8,
           6,
           17,
           7,
           9
          ],
          "coloraxis": "coloraxis",
          "symbol": "circle"
         },
         "mode": "markers",
         "name": "",
         "showlegend": false,
         "type": "scattergl",
         "x": [
          43.649269104003906,
          42.35094451904297,
          4.356818199157715,
          6.66705846786499,
          14.128700256347656,
          39.696495056152344,
          12.778663635253906,
          12.639077186584473,
          39.40815734863281,
          15.331156730651855,
          41.68080520629883,
          42.14554214477539,
          43.64801788330078,
          13.117444038391113,
          6.539723873138428,
          6.536015033721924,
          12.354066848754883,
          6.551257610321045,
          6.543240070343018,
          40.4397087097168,
          40.58761978149414,
          41.918033599853516,
          4.371116638183594,
          14.621391296386719,
          42.37192916870117,
          42.73361587524414,
          42.971920013427734,
          41.65250015258789,
          11.966769218444824,
          41.41566467285156,
          14.769769668579102,
          39.45672607421875,
          12.796418190002441,
          40.09824752807617,
          6.556217193603516,
          42.75699234008789,
          41.92528533935547,
          41.90186309814453,
          6.956603527069092,
          41.864540100097656,
          7.002839088439941,
          40.845252990722656,
          40.65739822387695,
          39.33084487915039,
          40.98625946044922,
          40.73427200317383,
          42.134647369384766,
          13.520281791687012,
          41.15229797363281,
          40.00343322753906,
          42.27895736694336,
          39.536827087402344,
          7.041770935058594,
          6.9972758293151855,
          7.046347618103027,
          4.26116943359375,
          42.38296890258789,
          41.931434631347656,
          41.537593841552734,
          42.13054656982422,
          40.503013610839844,
          12.492415428161621,
          39.544734954833984,
          39.526084899902344,
          39.56161117553711,
          39.571292877197266,
          42.64182662963867,
          41.02524948120117,
          12.552430152893066,
          41.96662902832031,
          6.542791366577148,
          6.518805503845215,
          42.060272216796875,
          12.96597671508789,
          12.925938606262207,
          12.599135398864746,
          14.10926628112793,
          14.10228443145752,
          14.098154067993164,
          14.104491233825684,
          14.11304759979248,
          14.10132884979248,
          13.542055130004883,
          40.65468215942383,
          14.715110778808594,
          4.374150276184082,
          13.81534194946289,
          39.72593307495117,
          42.9295539855957,
          40.83808517456055,
          12.465266227722168,
          14.111456871032715,
          40.48945999145508,
          40.738670349121094,
          40.16902542114258,
          13.742209434509277,
          6.916046142578125,
          39.795780181884766,
          42.11880111694336,
          42.49977493286133,
          42.30277633666992,
          41.66524124145508,
          39.98312759399414,
          41.894100189208984,
          40.04876708984375,
          41.69074630737305,
          40.872920989990234,
          40.951393127441406,
          4.282851696014404,
          4.536779403686523,
          39.88090133666992,
          41.57358932495117,
          12.98847770690918,
          43.05904769897461,
          14.620810508728027,
          41.4880485534668,
          39.702369689941406,
          7.0609636306762695,
          12.650110244750977,
          12.37186050415039,
          41.64073944091797,
          12.990446090698242,
          7.1705756187438965,
          13.88465404510498,
          41.14997863769531,
          41.650474548339844,
          13.46573257446289,
          12.007267951965332,
          14.010686874389648,
          14.713754653930664,
          12.026140213012695,
          40.20940399169922,
          39.8489990234375,
          42.24814224243164,
          41.004371643066406,
          41.00894546508789,
          42.34912109375,
          41.41785430908203,
          40.346858978271484,
          12.974607467651367,
          41.008819580078125,
          12.970651626586914,
          42.22951126098633,
          6.588202476501465,
          7.278402328491211,
          12.576667785644531,
          42.117679595947266,
          14.921974182128906,
          14.15636920928955,
          39.977928161621094,
          8.127291679382324,
          39.74943542480469,
          39.70956039428711,
          42.30723571777344,
          42.24601364135742,
          40.00043487548828,
          42.194679260253906,
          41.23044967651367,
          14.094522476196289,
          13.948155403137207,
          14.925152778625488,
          40.310211181640625,
          6.791852951049805,
          14.096575736999512,
          41.723899841308594,
          14.717386245727539,
          42.338706970214844,
          14.30005168914795,
          37.93470001220703,
          39.445133209228516,
          40.706356048583984,
          11.9679536819458,
          43.63896560668945,
          42.38471603393555,
          39.746395111083984,
          14.712496757507324,
          41.2254753112793,
          37.958370208740234,
          14.31258487701416,
          14.417405128479004,
          14.217329978942871,
          11.994705200195312,
          11.600513458251953,
          43.641361236572266,
          41.58372116088867,
          12.029084205627441,
          14.129653930664062,
          38.16803741455078,
          40.40123748779297,
          39.327884674072266,
          39.62316131591797,
          42.76885223388672,
          40.48581314086914,
          42.797000885009766,
          43.642005920410156,
          40.64348220825195,
          40.50210189819336,
          14.201311111450195,
          6.624591827392578,
          6.627715110778809,
          39.441158294677734,
          11.853606224060059,
          12.01160717010498,
          12.060998916625977,
          14.756988525390625,
          43.057395935058594,
          42.90814971923828,
          14.709736824035645,
          14.691020011901855,
          42.97677230834961,
          34.44478988647461,
          41.485538482666016,
          40.453468322753906,
          14.710618019104004,
          42.58644485473633,
          43.084712982177734,
          15.154180526733398,
          43.66490173339844,
          15.321269035339355,
          15.156664848327637,
          40.68702697753906,
          14.435946464538574,
          39.40955352783203,
          40.8765869140625,
          42.641109466552734,
          12.378009796142578,
          4.782806396484375,
          4.6924567222595215,
          16.723718643188477,
          13.708759307861328,
          40.034568786621094,
          39.703086853027344,
          41.97249984741211,
          41.99056625366211,
          39.44532012939453,
          39.43367004394531,
          38.089210510253906,
          13.93140983581543,
          42.01844024658203,
          42.71649932861328,
          13.658571243286133,
          13.595144271850586,
          13.718355178833008,
          41.07930374145508,
          41.11702346801758,
          42.06543731689453,
          12.501096725463867,
          11.855657577514648,
          40.107757568359375,
          12.926774978637695,
          41.49736022949219,
          41.409912109375,
          39.89898681640625,
          42.192569732666016,
          6.6901116371154785,
          42.23126983642578,
          12.644976615905762,
          41.79414367675781,
          12.449051856994629,
          12.443560600280762,
          12.550873756408691,
          12.394905090332031,
          13.978665351867676,
          12.971381187438965,
          13.011361122131348,
          12.998222351074219,
          12.969378471374512,
          12.62664794921875,
          14.085561752319336,
          39.437095642089844,
          39.99398422241211,
          40.153114318847656,
          40.551292419433594,
          13.820785522460938,
          13.906889915466309,
          15.436359405517578,
          39.82566833496094,
          15.423778533935547,
          40.28288269042969,
          14.22255802154541,
          4.327213287353516,
          13.72183895111084,
          14.582149505615234,
          14.068480491638184,
          13.847283363342285,
          14.586155891418457,
          14.600894927978516,
          40.68154525756836,
          14.607025146484375,
          39.390953063964844,
          6.700224876403809,
          40.119930267333984,
          4.3114752769470215,
          40.55475997924805,
          6.652444362640381,
          6.628745079040527,
          42.72733688354492,
          14.578824996948242,
          12.85933780670166,
          40.088375091552734,
          40.09238815307617,
          40.95905303955078,
          6.572532653808594,
          37.96510696411133,
          42.2127685546875,
          14.590046882629395,
          41.56635665893555,
          40.11662673950195,
          13.666971206665039,
          40.58245849609375,
          13.022974014282227,
          4.316701889038086,
          42.10819625854492,
          41.92283248901367,
          12.39166259765625,
          12.640307426452637,
          43.530033111572266,
          43.53373336791992,
          43.623233795166016,
          42.15964889526367,
          42.74347686767578,
          40.57242965698242,
          6.615166187286377,
          14.649646759033203,
          39.79167556762695,
          12.817290306091309,
          14.02112865447998,
          6.6465888023376465,
          6.992504119873047,
          6.95373010635376,
          43.078365325927734,
          42.69595718383789,
          40.03166580200195,
          12.829314231872559,
          14.601777076721191,
          6.633463382720947,
          41.91864776611328,
          12.316801071166992,
          14.835895538330078,
          12.97814655303955,
          12.956427574157715,
          13.810643196105957,
          6.597174644470215,
          42.2354736328125,
          12.489439964294434,
          39.56048583984375,
          11.781722068786621,
          41.65968704223633,
          41.12367248535156,
          39.70436096191406,
          39.765499114990234,
          39.46791458129883,
          43.63777160644531,
          42.12550354003906,
          6.608205318450928,
          13.926679611206055,
          4.27960729598999,
          41.388206481933594,
          13.174371719360352,
          43.03972244262695,
          40.989463806152344,
          12.11093521118164,
          14.078923225402832,
          12.370183944702148,
          39.75626754760742,
          40.518428802490234,
          41.16862869262695,
          12.94572639465332,
          42.153472900390625,
          39.48894500732422,
          12.872098922729492,
          42.11724853515625,
          12.109148979187012,
          40.893009185791016,
          39.480655670166016,
          40.689579010009766,
          39.4512939453125,
          42.1976203918457,
          40.633277893066406,
          12.203535079956055,
          41.91059875488281,
          12.600629806518555,
          43.63788986206055,
          13.210382461547852,
          38.11610412597656,
          40.07282257080078,
          15.422142028808594,
          15.394115447998047,
          14.94267463684082,
          14.117355346679688,
          40.61174774169922,
          37.980560302734375,
          13.525097846984863,
          12.635046005249023,
          14.922938346862793,
          42.93541717529297,
          42.7918586730957,
          14.102344512939453,
          41.70538330078125,
          40.85383605957031,
          42.054710388183594,
          40.76297378540039,
          39.99123001098633,
          41.52981948852539,
          40.06278991699219,
          14.888223648071289,
          4.313292980194092,
          39.411338806152344,
          42.33994674682617,
          13.998717308044434,
          14.185188293457031,
          43.6370964050293,
          41.53881072998047,
          15.403404235839844,
          41.889747619628906,
          42.05512237548828,
          6.673652172088623,
          42.11008071899414,
          38.115631103515625,
          12.074634552001953,
          39.37470245361328,
          34.44401931762695,
          39.453712463378906,
          40.11274719238281,
          8.284523963928223,
          14.15261173248291,
          14.124536514282227,
          6.735262870788574,
          6.600979804992676,
          6.73881196975708,
          42.25991439819336,
          16.62166404724121,
          11.490193367004395,
          43.20207977294922,
          42.362403869628906,
          43.635231018066406,
          38.12580108642578,
          38.114322662353516,
          40.62299728393555,
          37.76891326904297,
          39.8487548828125,
          14.346027374267578,
          39.255210876464844,
          14.77252197265625,
          41.93910217285156,
          14.796403884887695,
          4.316811561584473,
          11.749764442443848,
          4.288815498352051,
          15.236824035644531,
          38.37446594238281,
          11.606292724609375,
          41.222755432128906,
          41.6411247253418,
          40.6965217590332,
          14.21009349822998,
          14.013148307800293,
          12.814279556274414,
          41.242122650146484,
          14.96351146697998,
          13.786421775817871,
          39.75144958496094,
          40.039642333984375,
          14.162808418273926,
          41.84831619262695,
          13.623263359069824,
          6.572608470916748,
          40.404876708984375,
          41.55339431762695,
          38.12812042236328,
          39.45029067993164,
          14.349345207214355,
          6.743719577789307,
          39.61501693725586,
          39.427101135253906,
          14.853720664978027,
          39.44094467163086,
          40.9217529296875,
          14.264446258544922,
          41.79081726074219,
          15.134868621826172,
          8.483145713806152,
          42.991241455078125,
          12.008658409118652,
          14.200737953186035,
          41.5108528137207,
          15.390402793884277,
          6.671192646026611,
          4.285463333129883,
          39.41984558105469,
          8.15340805053711,
          14.59225845336914,
          14.565716743469238,
          14.1906099319458,
          14.08269214630127,
          37.82074737548828,
          37.777164459228516,
          6.60465669631958,
          6.7375898361206055,
          6.6422200202941895,
          39.13557052612305,
          37.769081115722656,
          40.311405181884766,
          40.83298110961914,
          15.2457914352417,
          42.37098693847656,
          12.006260871887207,
          11.92880630493164,
          42.319847106933594,
          41.1917724609375,
          42.03504180908203,
          13.951173782348633,
          40.99003982543945,
          42.98481750488281,
          40.561973571777344,
          38.17335510253906,
          39.763370513916016,
          39.72950744628906,
          39.75012969970703,
          37.75136184692383,
          37.7662467956543,
          37.72465133666992,
          37.755794525146484,
          12.560221672058105,
          37.72574234008789,
          37.794715881347656,
          37.637840270996094,
          37.64799118041992,
          37.67205810546875,
          39.95710754394531,
          13.971895217895508,
          42.046260833740234,
          40.381378173828125,
          40.63610076904297,
          12.567878723144531,
          12.622231483459473,
          40.92397689819336,
          12.942331314086914,
          42.16836929321289,
          41.56648254394531,
          40.97431945800781,
          9.52889347076416,
          13.536497116088867,
          12.174967765808105,
          40.491424560546875,
          4.309287071228027,
          41.949623107910156,
          39.68622970581055,
          40.58713912963867,
          43.052913665771484,
          42.64691925048828,
          14.713677406311035,
          14.708476066589355,
          41.08807373046875,
          42.12078857421875,
          40.122291564941406,
          14.2092924118042,
          39.45487976074219,
          40.94305419921875,
          42.21537399291992,
          42.24604034423828,
          12.145981788635254,
          12.51500129699707,
          6.999453544616699,
          13.550030708312988,
          12.596661567687988,
          14.714761734008789,
          14.756811141967773,
          13.827651977539062,
          42.189693450927734,
          40.7902946472168,
          39.788818359375,
          14.704319953918457,
          6.541760444641113,
          14.51993465423584,
          14.645695686340332,
          12.739420890808105,
          15.122091293334961,
          42.13526153564453,
          13.889795303344727,
          13.514422416687012,
          14.726874351501465,
          38.106834411621094,
          42.39116668701172,
          40.37938690185547,
          14.944148063659668,
          41.690025329589844,
          14.427579879760742,
          39.247657775878906,
          42.079586029052734,
          39.98251724243164,
          42.17234802246094,
          15.160043716430664,
          39.58991241455078,
          42.12994384765625,
          40.49291229248047,
          13.98266315460205,
          13.815732955932617,
          40.96315002441406,
          12.241755485534668,
          42.16938781738281,
          39.837364196777344,
          42.22111892700195,
          12.115113258361816,
          42.218162536621094,
          12.915148735046387,
          41.88489532470703,
          13.638047218322754,
          12.109878540039062,
          34.44434356689453,
          43.20167541503906,
          39.39214324951172,
          39.51470184326172,
          40.596675872802734,
          39.30257797241211,
          42.97831344604492,
          13.856643676757812,
          37.708065032958984,
          6.59552526473999,
          6.715620517730713,
          6.676142692565918,
          7.038288593292236,
          6.583932399749756,
          4.371254920959473,
          6.6374616622924805,
          6.644863128662109,
          6.663540363311768,
          39.9759635925293,
          12.490053176879883,
          42.370849609375,
          43.17414855957031,
          37.75421905517578,
          42.93041229248047,
          13.657833099365234,
          12.322606086730957,
          40.17580032348633,
          39.55978012084961,
          39.54145050048828,
          13.219632148742676,
          12.595513343811035,
          40.4288215637207,
          42.01873779296875,
          41.28004455566406,
          42.40733337402344,
          37.707008361816406,
          41.08509826660156,
          41.38328170776367,
          42.163700103759766,
          40.596839904785156,
          40.65612030029297,
          40.37183380126953,
          41.23919677734375,
          42.182579040527344,
          41.42914962768555,
          40.81357192993164,
          42.187049865722656,
          42.05662536621094,
          37.96172332763672,
          41.67003631591797,
          41.27560043334961,
          37.58536911010742,
          37.60546875,
          6.732047080993652,
          41.8454475402832,
          41.44828796386719,
          13.668181419372559,
          4.313124656677246,
          12.446090698242188,
          6.76884651184082,
          39.57597732543945,
          14.721075057983398,
          40.03251647949219,
          6.591005325317383,
          11.870806694030762,
          40.40906524658203,
          4.33929967880249,
          4.27775239944458,
          38.111534118652344,
          12.840765953063965,
          16.668733596801758,
          43.61070251464844,
          40.087947845458984,
          42.09226608276367,
          39.29264831542969,
          12.948027610778809,
          39.78899002075195,
          13.659510612487793,
          12.227779388427734,
          39.99940490722656,
          39.682884216308594,
          39.51845932006836,
          39.524471282958984,
          39.533607482910156,
          38.92983627319336,
          38.94871520996094,
          39.02511215209961,
          41.60987854003906,
          43.633235931396484,
          12.005902290344238,
          11.983123779296875,
          12.03637409210205,
          11.980080604553223,
          15.119819641113281,
          13.472795486450195,
          41.64938735961914,
          42.190399169921875,
          37.75727081298828,
          14.711532592773438,
          42.40520095825195,
          16.62824821472168,
          9.004606246948242,
          14.872211456298828,
          42.44655990600586,
          42.70596694946289,
          42.098087310791016,
          6.777801036834717,
          15.2581205368042,
          39.32340621948242,
          42.02705383300781,
          40.96491241455078,
          14.740609169006348,
          12.961175918579102,
          43.18721008300781,
          40.00885009765625,
          42.11289978027344,
          39.72920227050781,
          41.45823669433594,
          39.530853271484375,
          14.099584579467773,
          41.55820846557617,
          40.969818115234375,
          41.33932113647461,
          40.81222915649414,
          40.00076675415039,
          40.79256057739258,
          15.037332534790039,
          40.33734893798828,
          12.560216903686523,
          12.70058536529541,
          12.790305137634277,
          14.010513305664062,
          14.140520095825195,
          37.92325210571289,
          42.384395599365234,
          37.57810974121094,
          8.269110679626465,
          12.795774459838867,
          6.575090408325195,
          41.37620162963867,
          42.193355560302734,
          14.135518074035645,
          42.07685470581055,
          38.13818359375,
          39.359275817871094,
          39.42522048950195,
          38.900753021240234,
          38.90192794799805,
          42.823856353759766,
          11.506640434265137,
          12.195108413696289,
          6.708838939666748,
          12.02143669128418,
          37.59994888305664,
          38.109127044677734,
          13.774163246154785,
          42.581398010253906,
          41.381385803222656,
          40.43104934692383,
          40.52103042602539,
          42.48974609375,
          39.84374237060547,
          39.3756103515625,
          39.519527435302734,
          12.827614784240723,
          4.305324077606201,
          12.39704418182373,
          40.15541458129883,
          40.14384460449219,
          7.011463642120361,
          40.991798400878906,
          13.807424545288086,
          9.244328498840332,
          43.20157241821289,
          40.5141716003418,
          41.985801696777344,
          14.147031784057617,
          38.89928436279297,
          38.899879455566406,
          39.05029296875,
          12.870386123657227,
          38.89833068847656,
          38.89915466308594,
          38.901702880859375,
          38.87608337402344,
          42.20872497558594,
          42.20644760131836,
          6.693437099456787,
          42.38814926147461,
          12.513446807861328,
          39.747989654541016,
          42.5771598815918,
          42.358028411865234,
          13.551200866699219,
          39.9822998046875,
          11.65576457977295,
          39.59981155395508,
          13.846322059631348,
          12.191924095153809,
          38.262393951416016,
          40.194210052490234,
          13.711530685424805,
          37.583709716796875,
          14.460205078125,
          11.971907615661621,
          38.11105728149414,
          6.559144496917725,
          13.815412521362305,
          41.889163970947266,
          14.01709270477295,
          13.599782943725586,
          14.1194486618042,
          41.950199127197266,
          42.67292785644531,
          11.832091331481934,
          15.170482635498047,
          11.528570175170898,
          13.742242813110352,
          41.903751373291016,
          4.274970531463623,
          14.62489128112793,
          15.03604793548584,
          41.39048767089844,
          16.65313720703125,
          41.39222717285156,
          43.20943069458008,
          6.588943004608154,
          12.944329261779785,
          38.5909309387207,
          39.6335563659668,
          14.054667472839355,
          4.447319984436035,
          42.109615325927734,
          41.635440826416016,
          41.88719177246094,
          39.47355270385742,
          41.44207763671875,
          40.45680236816406,
          40.29060363769531,
          37.796939849853516,
          11.721447944641113,
          39.703529357910156,
          41.75312805175781,
          40.621517181396484,
          6.605271816253662,
          40.40800094604492,
          14.737698554992676,
          39.085453033447266,
          43.62701416015625,
          40.15445327758789,
          43.054256439208984,
          15.068001747131348,
          15.117486000061035,
          43.08165740966797,
          40.58074188232422,
          15.108556747436523,
          41.990840911865234,
          12.680198669433594,
          40.00942611694336,
          41.19950485229492,
          41.76303482055664,
          41.995567321777344,
          34.443851470947266,
          40.84287643432617,
          39.64986038208008,
          14.282979965209961,
          42.546417236328125,
          41.21276092529297,
          41.70501708984375,
          42.18362808227539,
          42.199974060058594,
          14.69058609008789,
          41.59385299682617,
          42.20078659057617,
          40.68431091308594,
          39.73900604248047,
          40.1335563659668,
          11.883610725402832,
          12.489307403564453,
          40.58379364013672,
          42.124427795410156,
          39.84334945678711,
          42.22487258911133,
          39.92089080810547,
          41.98521423339844,
          42.31984329223633,
          42.063621520996094,
          41.76156234741211,
          16.694963455200195,
          42.700172424316406,
          42.3907585144043,
          40.48435592651367,
          42.34507369995117,
          14.108504295349121,
          41.12572479248047,
          42.63703918457031,
          41.11083984375,
          41.06000518798828,
          42.75200653076172,
          6.700682640075684,
          41.83479690551758,
          14.72668743133545,
          12.275299072265625,
          16.701169967651367,
          42.762516021728516,
          42.666534423828125,
          40.677303314208984,
          42.061744689941406,
          40.890621185302734,
          41.99639129638672,
          40.837364196777344,
          12.966339111328125,
          13.009267807006836,
          13.833924293518066,
          13.035299301147461,
          13.825227737426758,
          13.031923294067383,
          12.9934720993042,
          13.056325912475586,
          13.040414810180664,
          13.022363662719727,
          13.056645393371582,
          13.670472145080566,
          13.029769897460938,
          43.65852737426758,
          43.6939697265625,
          12.503608703613281,
          12.997089385986328,
          6.686978340148926,
          40.459022521972656,
          40.50568389892578,
          12.594767570495605,
          12.472760200500488,
          41.62664794921875,
          42.712074279785156,
          12.582839012145996,
          12.533662796020508,
          13.832989692687988,
          13.839491844177246,
          13.830886840820312,
          42.80854034423828,
          42.205177307128906,
          42.00442123413086,
          41.86627197265625,
          41.8903923034668,
          41.66898727416992,
          42.00497055053711,
          41.96030807495117,
          41.690826416015625,
          42.8150520324707,
          43.19959259033203,
          40.02280807495117,
          41.28298568725586,
          40.934608459472656,
          41.41752243041992,
          41.78772735595703,
          40.48893737792969,
          41.10984420776367,
          39.553104400634766,
          42.31703186035156,
          41.07046127319336,
          41.27312469482422,
          41.25682830810547,
          41.25096893310547,
          6.6712565422058105,
          40.01102066040039,
          40.679344177246094,
          43.025882720947266,
          43.69171142578125,
          42.019134521484375,
          42.42498779296875,
          43.68156051635742,
          40.02790832519531,
          39.602943420410156,
          42.80729293823242,
          39.678619384765625,
          39.65443420410156,
          40.833045959472656,
          41.04301452636719,
          14.69194221496582,
          42.370243072509766,
          42.383628845214844,
          40.08846664428711,
          13.634515762329102,
          42.61369323730469,
          39.85080337524414,
          41.87981414794922,
          42.57033920288086,
          43.627376556396484,
          40.8315315246582,
          14.627269744873047,
          14.914280891418457,
          14.873636245727539,
          41.88676834106445,
          42.14958190917969,
          41.844913482666016,
          16.69124412536621,
          16.68381690979004,
          42.201229095458984,
          42.05433654785156,
          40.0923957824707,
          14.675085067749023,
          40.09347152709961,
          6.694912910461426,
          39.452091217041016,
          40.7725715637207,
          42.08081817626953,
          14.180817604064941,
          6.682394981384277,
          41.55556869506836,
          6.652021884918213,
          6.663053035736084,
          6.505472183227539,
          4.396642684936523,
          6.608107566833496,
          40.28580093383789,
          6.768766403198242,
          6.672076225280762,
          39.60373306274414,
          42.218910217285156,
          42.33158493041992,
          14.206871032714844,
          16.70929718017578,
          12.960411071777344,
          13.580798149108887,
          13.84127426147461,
          13.003862380981445,
          13.564080238342285,
          13.825302124023438,
          12.472480773925781,
          14.234197616577148,
          40.239505767822266,
          13.546500205993652,
          42.19209289550781,
          43.67938995361328,
          41.58137893676758,
          43.34132385253906,
          43.22496032714844,
          40.56018829345703,
          42.81886291503906,
          43.67490005493164,
          42.03599548339844,
          42.0223388671875,
          12.708874702453613,
          12.74467945098877,
          12.747130393981934,
          12.760249137878418,
          41.61027908325195,
          12.883768081665039,
          6.8129401206970215,
          6.696805477142334,
          4.288890838623047,
          12.628300666809082,
          12.58581829071045,
          12.578399658203125,
          12.579694747924805,
          6.62376594543457,
          41.84756851196289,
          13.540214538574219,
          4.292013168334961,
          6.72902774810791,
          39.36840057373047,
          12.561506271362305,
          12.325042724609375,
          39.37904739379883,
          12.403447151184082,
          39.45341873168945,
          12.510553359985352,
          40.23522186279297,
          39.24364471435547,
          12.71440315246582,
          12.672101020812988,
          13.756577491760254,
          13.831008911132812,
          13.87253189086914,
          41.58610534667969,
          41.983551025390625,
          42.0198860168457,
          40.79132080078125,
          42.285186767578125,
          4.278535842895508,
          6.569147109985352,
          4.388564586639404,
          42.25189971923828,
          12.86323356628418,
          13.830121040344238,
          13.843742370605469,
          13.506512641906738,
          39.91679000854492,
          39.70832443237305,
          13.6285982131958,
          40.74830627441406,
          41.69858932495117,
          41.97834777832031,
          14.148673057556152,
          14.1365385055542,
          16.71303367614746,
          16.699472427368164,
          42.66044998168945,
          40.11781311035156,
          39.97507095336914,
          43.07309341430664,
          42.84032440185547,
          43.66758346557617,
          39.78359603881836,
          43.082401275634766,
          42.2594108581543,
          43.609764099121094,
          43.05855941772461,
          42.58590316772461,
          14.835104942321777,
          41.27668380737305,
          40.73634719848633,
          14.133369445800781,
          40.641510009765625,
          6.63248348236084,
          13.635140419006348,
          13.535809516906738,
          42.56060028076172,
          4.447409629821777,
          6.550143718719482,
          4.417538642883301,
          40.04664993286133,
          14.196776390075684,
          41.01158905029297,
          4.416025638580322,
          6.570983409881592,
          41.59212875366211,
          43.11397933959961,
          42.268310546875,
          13.02696704864502,
          13.06955623626709,
          13.03017520904541,
          13.026769638061523,
          13.827543258666992,
          12.512892723083496,
          39.225868225097656,
          39.30040740966797,
          16.690921783447266,
          4.27108907699585,
          39.77418518066406,
          42.71187973022461,
          42.055450439453125,
          12.381301879882812,
          12.419920921325684,
          12.38676929473877,
          4.268928527832031,
          13.84703540802002,
          39.7476806640625,
          4.317558765411377,
          12.965496063232422,
          39.35776901245117,
          40.51931381225586,
          14.867525100708008,
          41.8104133605957,
          6.750051021575928,
          39.48582458496094,
          13.83253002166748,
          4.2847981452941895,
          40.34117126464844,
          41.923194885253906,
          6.73178243637085,
          41.64508819580078,
          42.14717483520508,
          13.735373497009277,
          43.52727508544922,
          42.546016693115234,
          42.194034576416016,
          43.0648193359375,
          41.971473693847656,
          43.16442108154297,
          42.71293640136719,
          14.908164978027344,
          43.356712341308594,
          43.43985366821289,
          43.53659439086914,
          42.921905517578125,
          42.904319763183594,
          43.366058349609375,
          39.29287338256836,
          13.624004364013672,
          13.661012649536133,
          9.510319709777832,
          39.50205612182617,
          43.13433074951172,
          39.6722412109375,
          39.4881477355957,
          43.53364181518555,
          42.044578552246094,
          40.929603576660156,
          14.914827346801758,
          39.88249969482422,
          39.84137725830078,
          39.87089538574219,
          39.8411979675293,
          39.841217041015625,
          39.889041900634766,
          39.84278106689453,
          41.57350540161133,
          42.54004669189453,
          42.53617858886719,
          40.6649284362793,
          41.549930572509766,
          13.677860260009766,
          41.992462158203125,
          42.11727523803711,
          15.169678688049316,
          15.22437858581543,
          15.002108573913574,
          15.204258918762207,
          15.218358993530273,
          15.225259780883789,
          14.867536544799805,
          41.83002471923828,
          39.30078125,
          40.63928985595703,
          12.577407836914062,
          42.523475646972656,
          42.53413772583008,
          42.52479934692383,
          15.148430824279785,
          15.176837921142578,
          12.59009075164795,
          12.587366104125977,
          41.7348747253418,
          41.72029495239258,
          15.334270477294922,
          15.320572853088379,
          15.3399658203125,
          14.899335861206055,
          14.792299270629883,
          15.331695556640625,
          15.332601547241211,
          12.649417877197266,
          15.343491554260254,
          15.330365180969238,
          39.75653839111328,
          42.628143310546875,
          42.22432327270508,
          40.83024597167969,
          12.293571472167969,
          14.86009693145752,
          42.32890701293945,
          14.939663887023926,
          15.231907844543457,
          4.319146156311035,
          4.3014092445373535,
          4.2305192947387695,
          40.41011047363281,
          12.442654609680176,
          12.386570930480957,
          12.393231391906738,
          12.351801872253418,
          12.376840591430664,
          4.326785087585449,
          13.605944633483887,
          4.278546333312988,
          39.08456802368164,
          39.10260772705078,
          12.789800643920898,
          39.487762451171875,
          41.42658996582031,
          4.268963813781738,
          4.360241413116455,
          9.528786659240723,
          4.292291641235352,
          6.621194839477539,
          13.036293983459473,
          13.036918640136719,
          4.403443336486816,
          13.538911819458008,
          12.705368041992188,
          16.691450119018555,
          12.453157424926758,
          13.832764625549316,
          13.783946990966797,
          6.56541109085083,
          13.016252517700195,
          13.825034141540527,
          13.030208587646484,
          13.03215503692627,
          13.83345890045166,
          12.968317031860352,
          6.711142539978027,
          12.409980773925781,
          12.045700073242188,
          12.261970520019531,
          12.347712516784668,
          12.998711585998535,
          13.022841453552246,
          42.2845573425293,
          6.566402435302734,
          41.101951599121094,
          34.443416595458984,
          34.44432830810547,
          34.444427490234375,
          34.444000244140625,
          42.228267669677734,
          34.44462585449219,
          34.4545783996582,
          34.44386672973633,
          12.410959243774414,
          12.99511432647705,
          39.18143844604492,
          4.256700038909912,
          13.830452919006348,
          13.759130477905273,
          12.815505027770996,
          39.491050720214844,
          39.59546661376953,
          6.661831378936768,
          6.679830551147461,
          39.66357421875,
          39.63209533691406,
          14.922286987304688,
          40.861244201660156,
          42.3123893737793,
          43.4005126953125,
          41.93190383911133,
          39.71620559692383,
          4.354124546051025,
          42.11621856689453,
          42.123802185058594,
          43.209510803222656,
          42.123512268066406,
          14.235593795776367,
          39.99304962158203,
          40.8604621887207,
          13.556047439575195,
          42.6100959777832,
          6.597809791564941,
          13.986065864562988,
          41.80923843383789,
          41.15004348754883,
          43.211036682128906,
          43.214942932128906,
          43.169334411621094,
          40.83845901489258,
          40.0740852355957,
          42.40796661376953,
          40.53965759277344,
          43.20670700073242,
          42.6135368347168,
          14.905652046203613,
          41.87738037109375,
          41.872196197509766,
          42.784698486328125,
          42.404319763183594,
          42.7772331237793,
          42.377803802490234,
          12.70644474029541,
          6.673389911651611,
          6.679409980773926,
          12.933768272399902,
          41.890647888183594,
          4.341226577758789,
          42.09028625488281,
          40.5828971862793,
          41.240821838378906,
          43.554378509521484,
          42.27231216430664,
          40.27028274536133,
          39.231231689453125,
          14.267892837524414,
          41.68486785888672,
          41.42238998413086,
          6.541896343231201,
          39.54509353637695,
          42.26118087768555,
          39.5334587097168,
          42.66377639770508,
          42.08407211303711,
          42.077457427978516,
          42.086082458496094,
          12.605533599853516,
          42.65690612792969,
          39.941001892089844,
          39.766902923583984,
          41.9887809753418,
          37.83547592163086,
          12.293946266174316,
          16.69454574584961,
          39.56071472167969,
          40.57772445678711,
          42.01948547363281,
          41.542335510253906,
          4.31456184387207,
          11.910842895507812,
          40.27878952026367,
          39.89802932739258,
          37.63146209716797,
          37.630714416503906,
          37.637611389160156,
          41.7496337890625,
          37.74561309814453,
          37.76622009277344,
          42.22502899169922,
          43.01799392700195,
          42.986473083496094,
          39.71198654174805,
          37.65303039550781,
          37.620853424072266,
          41.43830490112305,
          40.939727783203125,
          41.48394012451172,
          41.456626892089844,
          4.372244834899902,
          13.569640159606934,
          6.745314598083496,
          6.713230133056641,
          40.280677795410156,
          41.73878860473633,
          43.653202056884766,
          43.67207717895508,
          41.449615478515625,
          41.82758331298828,
          39.762176513671875,
          37.81415557861328,
          37.704368591308594,
          39.9104118347168,
          39.658226013183594,
          39.45326614379883,
          40.99448013305664,
          43.080013275146484,
          43.59592056274414,
          37.76356887817383,
          37.779109954833984,
          40.31910705566406,
          41.4676513671875,
          42.96480178833008,
          15.10720157623291,
          39.97665023803711,
          41.8737907409668,
          41.93758773803711,
          41.918914794921875,
          42.028160095214844,
          6.690608024597168,
          42.576229095458984,
          42.322635650634766,
          41.6826171875,
          39.768043518066406,
          40.382164001464844,
          40.32168960571289,
          40.33612823486328,
          13.7343168258667,
          13.6652250289917,
          12.955362319946289,
          6.689035415649414,
          14.805367469787598,
          42.266937255859375,
          42.18343734741211,
          42.1985969543457,
          13.840288162231445,
          13.835197448730469,
          41.60052490234375,
          13.843297958374023,
          42.74699020385742,
          41.575523376464844,
          39.91754913330078,
          40.00225830078125,
          41.98868942260742,
          42.69875717163086,
          14.812843322753906,
          40.85686111450195,
          42.06788635253906,
          42.105533599853516,
          41.4322509765625,
          13.75429916381836,
          40.81477737426758,
          42.31734848022461,
          12.565742492675781,
          4.265159606933594,
          4.250927925109863,
          40.114776611328125,
          39.500274658203125,
          39.433692932128906,
          39.50726318359375,
          13.03494644165039,
          41.920230865478516,
          40.90879440307617,
          41.48651885986328,
          40.07552719116211,
          6.627265930175781,
          42.20817184448242,
          16.692197799682617,
          39.73595428466797,
          41.47191619873047,
          39.87458419799805,
          4.267692565917969,
          39.25965881347656,
          42.077762603759766,
          41.453556060791016,
          12.870357513427734,
          13.052796363830566,
          6.588665008544922,
          42.25289535522461,
          6.622446537017822,
          9.242301940917969,
          39.20104217529297,
          6.613592147827148,
          12.777030944824219,
          4.311801910400391,
          43.33787155151367,
          42.190555572509766,
          42.43902587890625,
          40.6159553527832,
          42.66004180908203,
          42.093849182128906,
          42.32962417602539,
          42.9568977355957,
          39.86170196533203,
          6.561207294464111,
          4.301228046417236,
          12.31639575958252,
          42.329383850097656,
          39.432647705078125,
          13.857895851135254,
          13.162687301635742,
          40.12250900268555,
          39.76766586303711,
          12.43639850616455,
          12.398763656616211,
          12.355429649353027,
          9.48713207244873,
          6.634496688842773,
          42.717063903808594,
          42.20819091796875,
          4.280351638793945,
          6.556520938873291,
          6.496515274047852,
          6.634209632873535,
          13.648956298828125,
          12.695310592651367,
          13.84610366821289,
          41.76490783691406,
          12.930066108703613,
          13.842781066894531,
          42.20744323730469,
          41.340843200683594,
          6.519581317901611,
          6.606056213378906,
          12.725391387939453,
          12.834085464477539,
          4.337631702423096,
          13.830787658691406,
          13.808554649353027,
          42.43156051635742,
          42.3796272277832,
          15.196639060974121,
          6.515260219573975,
          13.030116081237793,
          41.52239990234375,
          6.753000259399414,
          6.590513706207275,
          39.77025604248047,
          39.76132583618164,
          14.196853637695312,
          14.166913986206055,
          13.933274269104004,
          14.138978004455566,
          6.496921539306641,
          42.542110443115234,
          43.64485549926758,
          40.74794387817383,
          40.591129302978516,
          41.51931381225586,
          40.63253402709961,
          40.90858459472656,
          39.88688659667969,
          39.83131790161133,
          39.83781433105469,
          39.987979888916016,
          39.90824508666992,
          13.92613410949707,
          34.444969177246094,
          4.270371437072754,
          41.29230880737305,
          41.494346618652344,
          4.246185779571533,
          14.144923210144043,
          4.320376396179199,
          14.754912376403809,
          37.61983871459961,
          9.537118911743164,
          40.37969207763672,
          12.788973808288574,
          39.67036056518555,
          37.99351119995117,
          42.96501922607422,
          41.25065994262695,
          40.014137268066406,
          12.858231544494629,
          12.756505012512207,
          12.89501667022705,
          42.30928421020508,
          41.64792251586914,
          42.14645004272461,
          42.33101272583008,
          39.501617431640625,
          4.375363826751709,
          12.435178756713867,
          12.450599670410156,
          40.66495132446289,
          4.2227888107299805,
          13.813828468322754,
          42.6913948059082,
          41.59459686279297,
          41.589752197265625,
          9.536534309387207,
          41.62041091918945,
          40.65447998046875,
          40.33906936645508,
          39.249755859375,
          4.635778903961182,
          4.5897216796875,
          4.572336196899414,
          6.990958213806152,
          12.93125057220459,
          4.254461288452148,
          4.4074320793151855,
          6.538978099822998,
          4.262840270996094,
          41.71955490112305,
          12.385668754577637,
          42.93513870239258,
          43.575111389160156,
          42.27229690551758,
          42.28041076660156,
          14.060400009155273,
          41.92961883544922,
          41.67862319946289,
          40.64120864868164,
          6.6713080406188965,
          13.680561065673828,
          40.390098571777344,
          39.782859802246094,
          14.901515007019043,
          42.11479949951172,
          14.921080589294434,
          39.9937744140625,
          12.382466316223145,
          12.332967758178711,
          12.976731300354004,
          4.366735935211182,
          13.50684642791748,
          13.563956260681152,
          13.542505264282227,
          9.458381652832031,
          12.468387603759766,
          4.260997295379639,
          14.136835098266602,
          42.32609939575195,
          39.770572662353516,
          38.393882751464844,
          40.21812438964844,
          13.047688484191895,
          6.651208877563477,
          6.715411186218262,
          6.5345258712768555,
          12.3969087600708,
          13.914915084838867,
          13.843536376953125,
          39.732383728027344,
          13.886250495910645,
          6.675453186035156,
          6.5836310386657715,
          40.51902389526367,
          38.11054611206055,
          38.10720443725586,
          14.13362979888916,
          38.110084533691406,
          38.124507904052734,
          43.54911422729492,
          13.177000045776367,
          12.961437225341797,
          12.427760124206543,
          13.52970027923584,
          6.545502185821533,
          13.86941146850586,
          40.92057418823242,
          42.068382263183594,
          39.877159118652344,
          13.161725044250488,
          13.82211971282959,
          40.50453186035156,
          13.954889297485352,
          12.918683052062988,
          12.914861679077148,
          13.964975357055664,
          42.9186897277832,
          43.00503158569336,
          42.52322006225586,
          42.455928802490234,
          40.08181381225586,
          42.842655181884766,
          4.256479263305664,
          4.241188049316406,
          4.251332759857178,
          6.634565830230713,
          13.014036178588867,
          40.11033248901367,
          42.2397575378418,
          12.580657958984375,
          41.66911315917969,
          40.96995162963867,
          13.524312019348145,
          13.05368423461914,
          13.056366920471191,
          42.016456604003906,
          14.10386848449707,
          12.38779067993164,
          39.29307174682617,
          42.22077178955078,
          40.96446990966797,
          14.775965690612793,
          6.67786979675293,
          42.761383056640625,
          13.472149848937988,
          12.351495742797852,
          16.68667984008789,
          13.875458717346191,
          13.179023742675781,
          42.733665466308594,
          41.394954681396484,
          6.711595058441162,
          14.296255111694336,
          16.698633193969727,
          12.730422973632812,
          13.82660961151123,
          14.510030746459961,
          16.637386322021484,
          43.64659118652344,
          39.88685607910156,
          14.173660278320312,
          4.323095321655273,
          15.013591766357422,
          4.318973064422607,
          16.68540382385254,
          16.697982788085938,
          16.68517303466797,
          4.345694541931152,
          4.354709625244141,
          12.59252643585205,
          42.459007263183594,
          42.69865036010742,
          6.697279453277588,
          6.551999568939209,
          39.34855651855469,
          12.322676658630371,
          12.352319717407227,
          12.365531921386719,
          4.216465950012207,
          41.77163314819336,
          42.236942291259766,
          13.808465957641602,
          12.377163887023926,
          12.396017074584961,
          12.405301094055176,
          13.866663932800293,
          41.814453125,
          41.786949157714844,
          4.289107322692871,
          13.830782890319824,
          41.9043083190918,
          12.601600646972656,
          42.37019729614258,
          42.04057693481445,
          40.53324508666992,
          42.173213958740234,
          12.74451732635498,
          6.549125671386719,
          42.55198287963867,
          6.743072032928467,
          13.135176658630371,
          39.80241012573242,
          39.258079528808594,
          38.184566497802734,
          41.97512435913086,
          42.14854049682617,
          15.17155933380127,
          15.111198425292969,
          15.43890380859375,
          40.7016487121582,
          6.684950828552246,
          6.637737274169922,
          6.636697769165039,
          14.596034049987793,
          4.364797592163086,
          14.074953079223633,
          14.616874694824219,
          14.222007751464844,
          41.74878692626953,
          41.18239212036133,
          6.557609558105469,
          4.274136543273926,
          6.519911766052246,
          4.253585338592529,
          39.98368453979492,
          12.879605293273926,
          6.523963451385498,
          39.424930572509766,
          42.02278137207031,
          41.955078125,
          41.06693649291992,
          39.33555603027344,
          40.60013961791992,
          12.509661674499512,
          41.79323196411133,
          13.858298301696777,
          12.533916473388672,
          12.539193153381348,
          39.78076934814453,
          39.76142883300781,
          6.510513782501221,
          6.515088081359863,
          12.8556547164917,
          42.25517272949219,
          39.65064239501953,
          13.586950302124023,
          39.587825775146484,
          13.98764419555664,
          43.659088134765625,
          43.66514205932617,
          40.01834487915039,
          42.92026138305664,
          39.697105407714844,
          39.99872970581055,
          14.72446346282959,
          39.71889877319336,
          39.70778274536133,
          12.58829116821289,
          39.291996002197266,
          6.518898963928223,
          6.648087501525879,
          12.607574462890625,
          43.0398063659668,
          4.2615861892700195,
          38.44054412841797,
          41.7775764465332,
          13.661981582641602,
          12.808377265930176,
          39.82358932495117,
          40.53326416015625,
          40.79490661621094,
          40.642234802246094,
          40.189456939697266,
          4.331053733825684,
          41.77861404418945,
          6.509385108947754,
          39.92561340332031,
          6.458050727844238,
          40.768455505371094,
          6.601271152496338,
          42.33662414550781,
          13.03419303894043,
          42.74697494506836,
          39.53911209106445,
          42.7933235168457,
          12.901702880859375,
          9.531366348266602,
          42.58280563354492,
          43.094764709472656,
          42.18925094604492,
          42.46957015991211,
          16.64769172668457,
          40.5714111328125,
          40.71685791015625,
          40.78606414794922,
          40.71355056762695,
          40.778743743896484,
          12.660865783691406,
          40.734249114990234,
          14.39835262298584,
          6.582446098327637,
          14.110485076904297,
          14.128868103027344,
          41.77025604248047,
          40.540130615234375,
          39.89540100097656,
          41.85519790649414,
          41.73931121826172,
          41.450714111328125,
          40.99363327026367,
          40.76801681518555,
          41.578861236572266,
          41.03681564331055,
          41.226409912109375,
          38.90730285644531,
          41.583038330078125,
          39.8581428527832,
          40.61452102661133,
          40.6153678894043,
          39.87307357788086,
          40.113929748535156,
          39.91314697265625,
          40.60780334472656,
          40.808197021484375,
          40.889652252197266,
          40.576515197753906,
          42.32896041870117,
          41.38594436645508,
          41.5833740234375,
          40.8531379699707,
          41.68202590942383,
          40.83156967163086,
          40.91876983642578,
          41.06819152832031,
          41.19050598144531,
          40.986473083496094,
          40.92518615722656,
          41.05858612060547,
          40.519718170166016,
          40.99985122680664,
          41.001953125,
          41.00326919555664,
          41.00286102294922,
          41.09126281738281,
          42.55572509765625,
          41.69865798950195,
          41.118770599365234,
          40.81486129760742,
          41.078392028808594,
          41.001705169677734,
          41.256534576416016,
          41.004520416259766,
          40.61602020263672,
          40.5960578918457,
          40.645469665527344,
          41.64739227294922,
          41.37545394897461,
          41.64040756225586,
          42.44466781616211,
          40.729671478271484,
          40.81167221069336,
          41.03671646118164,
          40.61156463623047,
          41.9772834777832,
          40.439937591552734,
          42.21333694458008,
          40.547359466552734,
          39.79100799560547,
          42.624351501464844,
          41.0506706237793,
          41.055267333984375,
          40.318382263183594,
          40.348236083984375,
          40.32006072998047,
          40.343143463134766,
          40.29743194580078,
          41.63749694824219,
          40.3135986328125,
          39.79152297973633,
          42.17290115356445,
          41.940128326416016,
          42.12368392944336,
          41.870853424072266,
          40.73997497558594,
          40.300392150878906,
          40.390830993652344,
          41.422054290771484,
          40.96821975708008,
          39.75912094116211,
          41.621761322021484,
          41.55825424194336,
          40.318782806396484,
          40.33273696899414,
          40.329345703125,
          40.328304290771484,
          40.32526779174805,
          41.053016662597656,
          41.05498123168945,
          40.7052001953125,
          41.88962173461914,
          42.18002700805664,
          41.67399215698242,
          40.742069244384766,
          40.3602409362793,
          40.39886474609375,
          41.056396484375,
          41.01784133911133,
          40.059959411621094,
          42.155696868896484,
          43.63949966430664,
          39.34741973876953,
          8.293224334716797,
          39.39794158935547,
          12.071661949157715,
          40.500999450683594,
          11.832928657531738,
          11.688124656677246,
          39.7220458984375,
          11.6896390914917,
          39.445457458496094,
          4.450179576873779,
          13.445301055908203,
          16.641408920288086,
          42.658966064453125,
          11.552206993103027,
          41.48740768432617,
          4.390660762786865,
          43.63167953491211,
          11.646206855773926,
          39.67093276977539,
          40.52971267700195,
          41.94145584106445,
          41.31078338623047,
          39.497314453125,
          13.733319282531738,
          11.542767524719238,
          42.662384033203125,
          39.3444938659668,
          42.37654113769531,
          11.736104011535645,
          11.766761779785156,
          11.762724876403809,
          11.746532440185547,
          13.74350357055664,
          13.908722877502441,
          39.579673767089844,
          39.59215545654297,
          11.748364448547363,
          42.543460845947266,
          41.524044036865234,
          4.419044494628906,
          8.311432838439941,
          13.757999420166016,
          41.45806121826172,
          42.66852951049805,
          4.562853813171387,
          42.07555389404297,
          8.327705383300781,
          42.17637634277344,
          42.062644958496094,
          39.769569396972656,
          13.343011856079102,
          39.73686218261719,
          12.012343406677246,
          42.024227142333984,
          39.483848571777344,
          39.46543502807617,
          8.311787605285645,
          8.563823699951172,
          41.99414825439453,
          41.239315032958984,
          14.629064559936523,
          11.72228717803955,
          41.9817008972168,
          8.30195140838623,
          11.749714851379395,
          4.592591762542725,
          8.284195899963379,
          8.290164947509766,
          8.282835006713867,
          42.74768829345703,
          11.482611656188965,
          11.473199844360352,
          42.15918731689453,
          11.760501861572266,
          8.327559471130371,
          14.429052352905273,
          13.805242538452148,
          13.82768726348877,
          13.829197883605957,
          14.51804256439209,
          41.90928268432617,
          14.55394172668457,
          41.367431640625,
          12.175880432128906,
          4.42769718170166,
          13.592865943908691,
          14.23312759399414,
          39.42792510986328,
          40.5615234375,
          8.247747421264648,
          38.365753173828125,
          41.36397933959961,
          8.2579345703125,
          40.857120513916016,
          11.851592063903809,
          42.96807098388672,
          11.084147453308105,
          11.769323348999023,
          42.05525588989258,
          42.1223030090332,
          40.869102478027344,
          8.823836326599121,
          8.57737922668457,
          41.96422576904297,
          11.717196464538574,
          12.202706336975098,
          40.541297912597656,
          9.190601348876953,
          11.390798568725586,
          12.270893096923828,
          41.64060974121094,
          42.19160079956055,
          42.174983978271484,
          8.554637908935547,
          8.495196342468262,
          39.409217834472656,
          4.3773322105407715,
          13.753769874572754,
          39.423805236816406,
          39.44847106933594,
          40.05819320678711,
          39.469871520996094,
          13.636805534362793,
          13.288369178771973,
          13.258892059326172,
          13.270365715026855,
          13.251619338989258,
          11.486074447631836,
          42.26594161987305,
          39.940006256103516,
          13.62342643737793,
          42.664512634277344,
          39.3683967590332,
          9.20119857788086,
          40.66121292114258,
          42.66377639770508,
          43.04255676269531,
          11.58495807647705,
          13.740071296691895,
          8.799386978149414,
          39.98899459838867,
          14.582185745239258,
          40.468162536621094,
          41.37617111206055,
          42.19599914550781,
          11.797818183898926,
          11.76516342163086,
          8.344664573669434,
          11.591595649719238,
          13.597094535827637,
          13.852215766906738,
          13.729211807250977,
          40.527557373046875,
          11.518649101257324,
          12.114051818847656,
          42.670223236083984,
          42.65345001220703,
          39.749324798583984,
          9.27070140838623,
          42.6598014831543,
          12.351362228393555,
          8.304558753967285,
          8.329471588134766,
          42.15086364746094,
          11.560022354125977,
          11.732617378234863,
          16.5871524810791,
          41.21586227416992,
          42.248748779296875,
          42.116024017333984,
          12.278877258300781,
          11.53668212890625,
          41.57479476928711,
          40.628944396972656,
          42.43074417114258,
          39.81962203979492,
          11.993762016296387,
          11.529328346252441,
          8.254600524902344,
          11.720354080200195,
          11.642526626586914,
          9.21139907836914,
          42.373722076416016,
          40.77623748779297,
          42.24864959716797,
          11.745375633239746,
          11.800174713134766,
          39.942684173583984,
          11.94261646270752,
          13.711679458618164,
          41.5751953125,
          11.59203815460205,
          11.537263870239258,
          9.280644416809082,
          42.20077896118164,
          13.73715591430664,
          42.074337005615234,
          11.958260536193848,
          13.452616691589355,
          11.639888763427734,
          40.07740783691406,
          39.9168815612793,
          14.138239860534668,
          15.043225288391113,
          42.72539138793945,
          41.40591049194336,
          12.428816795349121,
          39.45682144165039,
          42.091617584228516,
          39.34303283691406,
          11.633708000183105,
          9.33674144744873,
          11.76796817779541,
          11.768681526184082,
          39.82455062866211,
          4.544018745422363,
          41.19500732421875,
          42.021156311035156,
          8.29616641998291,
          39.44643020629883,
          39.55390930175781,
          8.278213500976562,
          40.59988784790039,
          42.75672149658203,
          41.876747131347656,
          8.304533958435059,
          11.545134544372559,
          43.00054931640625,
          39.44100570678711,
          12.07957649230957,
          39.87104797363281,
          12.261027336120605,
          40.240840911865234,
          16.68079376220703,
          11.643925666809082,
          14.544961929321289,
          42.29668426513672,
          14.73653507232666,
          39.947940826416016,
          42.1826171875,
          41.98353958129883,
          42.46889877319336,
          41.4660530090332,
          12.006807327270508,
          10.93885326385498,
          39.772865295410156,
          41.205322265625,
          41.573760986328125,
          40.649566650390625,
          39.61339569091797,
          13.789046287536621,
          42.09895324707031,
          11.801280975341797,
          13.69674015045166,
          39.402034759521484,
          11.788680076599121,
          41.67143630981445,
          43.04668045043945,
          8.328266143798828,
          42.164894104003906,
          40.045291900634766,
          14.681700706481934,
          40.20866012573242,
          14.605603218078613,
          11.930408477783203,
          11.866025924682617,
          11.855813980102539,
          42.16453170776367,
          42.20216751098633,
          9.23221206665039,
          41.69681930541992,
          41.99863052368164,
          42.12076950073242,
          40.0719108581543,
          11.682044982910156,
          14.638665199279785,
          8.060895919799805,
          39.755767822265625,
          39.3557014465332,
          39.53864669799805,
          42.11186981201172,
          40.08473205566406,
          11.668876647949219,
          42.25943374633789,
          39.84679412841797,
          16.663944244384766,
          13.720959663391113,
          8.262022018432617,
          8.321310043334961,
          39.7440299987793,
          42.65485382080078,
          4.451748371124268,
          4.551363468170166,
          11.809215545654297,
          11.803543090820312,
          11.790684700012207,
          11.8095064163208,
          11.80240535736084,
          11.800840377807617,
          40.0721321105957,
          13.432770729064941,
          39.86429214477539,
          13.816991806030273,
          4.42892599105835,
          8.31700611114502,
          42.7136116027832,
          42.13370132446289,
          4.429867744445801,
          12.28536605834961,
          39.83184051513672,
          41.08332443237305,
          40.73777770996094,
          39.815704345703125,
          9.181640625,
          8.298213005065918,
          41.68458938598633,
          12.250523567199707,
          42.25888442993164,
          12.267629623413086,
          14.71438217163086,
          14.265534400939941,
          40.08558654785156,
          11.671045303344727,
          11.84676456451416,
          13.30208683013916,
          42.10959243774414,
          8.141427040100098,
          8.11569595336914,
          15.060333251953125,
          8.322622299194336,
          8.259943008422852,
          40.107330322265625,
          16.640329360961914,
          42.25548553466797,
          38.3194694519043,
          11.734408378601074,
          11.652647018432617,
          9.24495792388916,
          42.174949645996094,
          39.30300521850586,
          39.440185546875,
          39.47848892211914,
          11.602701187133789,
          41.886444091796875,
          41.42963790893555,
          42.95115661621094,
          42.36281204223633,
          42.06591033935547,
          41.848209381103516,
          40.10200881958008,
          42.21730422973633,
          42.199851989746094,
          41.59439468383789,
          40.91230392456055,
          42.36570739746094,
          42.07073974609375,
          38.14142608642578,
          41.8121337890625,
          42.22689437866211,
          4.529687881469727,
          42.38806915283203,
          42.38926696777344,
          39.713008880615234,
          40.51560592651367,
          42.11426544189453,
          41.63201904296875,
          42.010009765625,
          16.68654441833496,
          41.06197738647461,
          16.68463134765625,
          41.37168884277344,
          41.94353485107422,
          39.77485275268555,
          16.671279907226562,
          40.499019622802734,
          14.69434642791748,
          40.6695556640625,
          40.592430114746094,
          42.34766387939453,
          39.71308898925781,
          16.70579719543457,
          16.6998291015625,
          42.53273391723633,
          16.6872615814209,
          16.69281578063965,
          39.97584915161133,
          42.31679153442383,
          41.080955505371094,
          39.74065017700195,
          40.843231201171875,
          40.977752685546875,
          16.663009643554688,
          16.68728256225586,
          11.757779121398926,
          43.057559967041016,
          40.2862548828125,
          41.948726654052734,
          14.191977500915527,
          42.24478530883789,
          14.182963371276855,
          14.166613578796387,
          14.165681838989258,
          16.668664932250977,
          16.697864532470703,
          11.566756248474121,
          11.559489250183105,
          41.10927200317383,
          41.89829635620117,
          41.81262969970703,
          41.89773941040039,
          4.543133735656738,
          4.50813102722168,
          42.660972595214844,
          42.325927734375,
          39.4190673828125,
          41.15932846069336,
          40.14521789550781,
          39.43810272216797,
          4.543078422546387,
          4.532135486602783,
          4.493260860443115,
          8.292729377746582,
          41.63546371459961,
          41.83957290649414,
          43.64223098754883,
          40.753448486328125,
          8.325748443603516,
          40.95176696777344,
          41.964439392089844,
          41.68917465209961,
          40.265987396240234,
          40.449581146240234,
          41.61962890625,
          4.55432653427124,
          8.376415252685547,
          43.64978790283203,
          11.583017349243164,
          8.188188552856445,
          8.340877532958984,
          40.00083923339844,
          16.646562576293945,
          4.518551826477051,
          40.95545959472656,
          40.770118713378906,
          43.64813995361328,
          42.187713623046875,
          8.304536819458008,
          11.48697566986084,
          4.525069236755371,
          42.0283088684082,
          39.87508773803711,
          42.08283233642578,
          42.09967041015625,
          43.006412506103516,
          40.77360916137695,
          8.274374008178711,
          40.366554260253906,
          42.32248306274414,
          40.558753967285156,
          8.276114463806152,
          42.17723846435547,
          42.218536376953125,
          42.95574188232422,
          42.34943771362305,
          42.17620086669922,
          42.39437484741211,
          8.271001815795898,
          8.285744667053223,
          42.48011016845703,
          4.413753509521484,
          42.17976760864258,
          14.187775611877441,
          40.44782257080078,
          11.456074714660645,
          41.0001220703125,
          39.66796875,
          40.53326416015625,
          41.19147491455078,
          39.74100112915039,
          42.09420394897461,
          4.4670939445495605,
          42.04161071777344,
          8.295165061950684,
          43.674861907958984,
          40.07435607910156,
          11.476107597351074,
          8.318120956420898,
          39.5868034362793,
          39.69921112060547,
          4.521725177764893,
          40.49359893798828,
          42.18217468261719,
          41.89070510864258,
          41.62895584106445,
          41.67902755737305,
          14.095124244689941,
          39.830078125,
          39.61855697631836,
          39.51332473754883,
          39.7303352355957,
          42.18632888793945,
          40.04514694213867,
          11.525077819824219,
          42.12335968017578,
          39.231468200683594,
          8.35463809967041,
          40.634483337402344,
          40.65902328491211,
          11.751296043395996,
          43.06494140625,
          14.587188720703125,
          14.63105583190918,
          11.56432819366455,
          4.445960998535156,
          11.427090644836426,
          42.26873779296875,
          39.34066390991211,
          43.00004196166992,
          8.275938987731934,
          41.42433547973633,
          39.303062438964844,
          41.148128509521484,
          8.287257194519043,
          9.146636962890625,
          40.67848587036133,
          42.19929122924805,
          42.33864974975586,
          40.567874908447266,
          42.63671112060547,
          42.11246109008789,
          40.792606353759766,
          42.15189743041992,
          40.88192367553711,
          11.487836837768555,
          39.36341094970703,
          39.367496490478516,
          41.478370666503906,
          8.297464370727539,
          42.632041931152344,
          14.275596618652344,
          41.959815979003906,
          41.98984909057617,
          40.694759368896484,
          9.155515670776367,
          42.65850830078125,
          38.363006591796875,
          39.29416275024414,
          40.54435729980469,
          42.97072219848633,
          40.71693801879883,
          8.279768943786621,
          42.66205978393555,
          9.237770080566406,
          8.287437438964844,
          9.148035049438477,
          42.651649475097656,
          13.660940170288086,
          41.91249084472656,
          4.463345527648926,
          42.09678268432617,
          8.315503120422363,
          8.342360496520996,
          8.256339073181152,
          9.151442527770996,
          40.7851448059082,
          4.536721706390381,
          43.12908935546875,
          14.719411849975586,
          39.70268630981445,
          40.67949295043945,
          11.102885246276855,
          8.496150970458984,
          42.35350799560547,
          11.76669979095459,
          42.699913024902344,
          4.54117488861084,
          42.17562484741211,
          37.8326416015625,
          11.773221015930176,
          40.29127883911133,
          40.4983024597168,
          12.265495300292969,
          42.17961120605469,
          13.5977783203125,
          11.765542984008789,
          8.33810043334961,
          41.22524642944336,
          8.328514099121094,
          40.06243133544922,
          12.082469940185547,
          40.54190444946289,
          9.141685485839844,
          42.66412353515625,
          43.62908172607422,
          39.432926177978516,
          42.68158721923828,
          42.25045394897461,
          42.66674041748047,
          9.209424018859863,
          9.241616249084473,
          39.287227630615234,
          9.19646167755127,
          9.142892837524414,
          42.06416320800781,
          8.283900260925293,
          41.83375549316406,
          9.164044380187988,
          9.138895034790039,
          40.7113151550293,
          9.18709659576416,
          39.74516296386719,
          40.6796875,
          40.900909423828125,
          42.7349739074707,
          11.79319953918457,
          11.799134254455566,
          14.913037300109863,
          12.3513765335083,
          42.761966705322266,
          39.82168960571289,
          12.269963264465332,
          42.48927688598633,
          40.495906829833984,
          39.7917366027832,
          41.54766845703125,
          39.41322708129883,
          40.55318832397461,
          14.397746086120605,
          11.663786888122559,
          8.321683883666992,
          42.716304779052734,
          42.51450729370117,
          12.431601524353027,
          42.523353576660156,
          42.732398986816406,
          8.602974891662598,
          42.055320739746094,
          39.73298645019531,
          42.104923248291016,
          42.32121276855469,
          42.69588088989258,
          42.3994255065918,
          41.45058059692383,
          12.22573471069336,
          40.97008514404297,
          41.61541748046875,
          41.99923324584961,
          42.208248138427734,
          42.777732849121094,
          8.042003631591797,
          42.14175033569336,
          41.95533752441406,
          8.224054336547852,
          42.23645782470703,
          43.647396087646484,
          9.205368041992188,
          42.02122116088867,
          42.0176887512207,
          41.29511260986328,
          8.251792907714844,
          42.03566360473633,
          42.1520881652832,
          42.16758346557617,
          42.16748809814453,
          41.540931701660156,
          41.83869552612305,
          42.17671585083008,
          8.2493314743042,
          9.148362159729004,
          39.686885833740234,
          39.6674919128418,
          14.313846588134766,
          14.301944732666016,
          42.857948303222656,
          12.192580223083496,
          41.02832794189453,
          16.71121597290039,
          12.298944473266602,
          12.293773651123047,
          42.02470779418945,
          16.708871841430664,
          9.12684154510498,
          42.17563247680664,
          41.671451568603516,
          15.004362106323242,
          11.769214630126953,
          8.204817771911621,
          8.313873291015625,
          39.97164535522461,
          14.115488052368164,
          13.989123344421387,
          42.378910064697266,
          12.255406379699707,
          41.2435302734375,
          14.12026596069336,
          42.09632110595703,
          8.275538444519043,
          8.259761810302734,
          16.70257568359375,
          40.034820556640625,
          42.667877197265625,
          42.23275375366211,
          40.41999435424805,
          40.70878219604492,
          42.65577697753906,
          14.126423835754395,
          41.802490234375,
          40.70918655395508,
          12.474488258361816,
          13.491623878479004,
          42.246971130371094,
          12.228484153747559,
          42.143856048583984,
          12.24958324432373,
          16.677339553833008,
          4.531838893890381,
          13.740375518798828,
          13.742687225341797,
          39.42881774902344,
          43.40386962890625,
          42.2990837097168,
          13.770234107971191,
          42.17020797729492,
          4.525459289550781,
          13.690666198730469,
          13.526137351989746,
          12.391977310180664,
          41.50333786010742,
          40.01303482055664,
          39.33018112182617,
          42.49763488769531,
          14.123929977416992,
          14.131041526794434,
          39.457481384277344,
          13.738624572753906,
          9.214860916137695,
          4.458201885223389,
          14.154146194458008,
          42.793758392333984,
          41.578609466552734,
          40.85806655883789,
          4.536534309387207,
          12.074710845947266,
          12.264871597290039,
          4.5042548179626465,
          40.09638595581055,
          14.01541805267334,
          41.90370178222656,
          42.34242630004883,
          41.968360900878906,
          14.01871395111084,
          40.32307052612305,
          13.892388343811035,
          39.66315460205078,
          40.53070068359375,
          39.34063720703125,
          42.079307556152344,
          9.117999076843262,
          14.127267837524414,
          12.298856735229492,
          39.90018844604492,
          42.18402099609375,
          42.51396179199219,
          43.089942932128906,
          39.398529052734375,
          40.70549774169922,
          11.746746063232422,
          37.74643325805664,
          12.266362190246582,
          11.723488807678223,
          41.903076171875,
          41.53871536254883,
          8.262526512145996,
          40.68577575683594,
          42.29096221923828,
          40.90357208251953,
          41.80342483520508,
          40.642539978027344,
          41.970821380615234,
          39.6893196105957,
          40.99131393432617,
          12.294583320617676,
          40.984806060791016,
          42.15790557861328,
          39.39286804199219,
          8.51968765258789,
          9.246024131774902,
          40.12059783935547,
          40.97514724731445,
          16.738454818725586,
          39.740875244140625,
          39.69102096557617,
          41.105224609375,
          37.780982971191406,
          39.42121887207031,
          42.34455871582031,
          39.49330139160156,
          11.762317657470703,
          39.62482833862305,
          39.46337890625,
          40.557987213134766,
          39.438167572021484,
          9.257308959960938,
          11.630006790161133,
          41.87351608276367,
          40.014076232910156,
          40.48677062988281,
          14.129121780395508,
          14.150773048400879,
          40.0615119934082,
          40.81999969482422,
          14.081282615661621,
          39.78348922729492,
          39.71859359741211,
          41.41713333129883,
          40.219844818115234,
          42.15959548950195,
          41.136417388916016,
          14.139620780944824,
          14.114763259887695,
          39.70419692993164,
          41.993263244628906,
          40.80996322631836,
          13.301253318786621,
          42.74496841430664,
          43.533294677734375,
          9.21413803100586,
          42.7177734375,
          42.68231201171875,
          41.00709915161133,
          9.052986145019531,
          41.942481994628906,
          13.820112228393555,
          11.509732246398926,
          14.127657890319824,
          8.201468467712402,
          39.44758987426758,
          39.59819793701172,
          39.53134536743164,
          42.018924713134766,
          4.477442741394043,
          13.448200225830078,
          41.37697219848633,
          4.519515514373779,
          14.001919746398926,
          11.409928321838379,
          13.764894485473633,
          11.517107963562012,
          40.157169342041016,
          41.97098922729492,
          4.600532531738281,
          42.22391128540039,
          42.65456771850586,
          16.69074821472168,
          16.685970306396484,
          4.548032283782959,
          4.536891460418701,
          8.356098175048828,
          42.18929672241211,
          40.12291717529297,
          13.954811096191406,
          42.78071975708008,
          39.60951614379883,
          40.103755950927734,
          8.331924438476562,
          14.168041229248047,
          39.45241165161133,
          13.731945037841797,
          11.514663696289062,
          13.831326484680176,
          42.31900405883789,
          42.54838180541992,
          39.48878479003906,
          11.589922904968262,
          13.86036491394043,
          13.744380950927734,
          11.460740089416504,
          11.451908111572266,
          41.83161163330078,
          42.69205856323242,
          42.11116409301758,
          12.372296333312988,
          40.9870719909668,
          41.8210334777832,
          39.71656036376953,
          39.686161041259766,
          4.447744846343994,
          4.433635711669922,
          40.931758880615234,
          42.001678466796875,
          11.632857322692871,
          42.67295455932617,
          42.65589904785156,
          40.58394241333008,
          42.72807312011719,
          39.408077239990234,
          13.513402938842773,
          41.75593948364258,
          43.609832763671875,
          39.40464401245117,
          8.235346794128418,
          39.443389892578125,
          11.472283363342285,
          39.39749526977539,
          9.174056053161621,
          12.276421546936035,
          39.78553771972656,
          11.776396751403809,
          42.30937957763672,
          4.515196800231934,
          13.439178466796875,
          11.67584228515625,
          9.17188835144043,
          13.461143493652344,
          13.663515090942383,
          13.83998966217041,
          4.571501731872559,
          42.67035675048828,
          14.561576843261719,
          41.93867111206055,
          42.690879821777344,
          42.179752349853516,
          8.55925178527832,
          13.274295806884766,
          41.470619201660156,
          41.45978927612305,
          42.273033142089844,
          38.370452880859375,
          41.92695617675781,
          11.578959465026855,
          40.641212463378906,
          13.429181098937988,
          14.808338165283203,
          14.282269477844238,
          4.55743932723999,
          8.343616485595703,
          40.42252731323242,
          42.184059143066406,
          13.705507278442383,
          4.5185933113098145,
          4.573422431945801,
          13.847352027893066,
          8.352974891662598,
          4.5666985511779785,
          40.68227767944336,
          40.68424987792969,
          39.51549530029297,
          41.88395690917969,
          4.5458984375,
          40.28837966918945,
          8.454927444458008,
          42.18592834472656,
          39.707664489746094,
          39.39617919921875,
          42.39523696899414,
          42.11082458496094,
          42.425148010253906,
          42.324710845947266,
          41.910701751708984,
          42.1366081237793,
          42.057281494140625,
          42.27595138549805,
          11.44163703918457,
          11.97531795501709,
          42.69407653808594,
          40.479732513427734,
          39.388710021972656,
          41.481082916259766,
          11.684224128723145,
          15.06460189819336,
          15.125162124633789,
          11.836917877197266,
          39.65294647216797,
          41.683433532714844,
          4.540668487548828,
          11.71546745300293,
          13.551508903503418,
          11.618764877319336,
          13.770548820495605,
          11.70529842376709,
          15.0400390625,
          40.441680908203125,
          42.209232330322266,
          13.732540130615234,
          13.280960083007812,
          39.546165466308594,
          13.401581764221191,
          4.754405975341797,
          40.85298538208008,
          38.337005615234375,
          42.003822326660156,
          43.02824020385742,
          13.642239570617676,
          41.53518295288086,
          13.732734680175781,
          13.729437828063965,
          42.08112335205078,
          11.435481071472168,
          4.5619587898254395,
          40.01619338989258,
          39.793060302734375,
          42.951515197753906,
          11.732759475708008,
          11.51811695098877,
          41.82802200317383,
          39.61716842651367,
          4.660510540008545,
          42.75310516357422,
          39.87464141845703,
          39.87675094604492,
          9.180658340454102,
          42.67102813720703,
          41.44218826293945,
          13.766165733337402,
          11.770792007446289,
          13.700411796569824,
          42.63193130493164,
          41.829254150390625,
          41.18584060668945,
          13.580260276794434,
          13.72945785522461,
          13.735387802124023,
          4.5591816902160645,
          13.462327003479004,
          42.67218780517578,
          40.02865982055664,
          40.42131805419922,
          42.239356994628906,
          42.42654800415039,
          11.411821365356445,
          4.566446781158447,
          8.434869766235352,
          39.36919403076172,
          42.452110290527344,
          39.54536437988281,
          14.579558372497559,
          42.2842903137207,
          8.102869987487793,
          39.293479919433594,
          42.97388458251953,
          43.02894592285156,
          4.47092866897583,
          16.68819808959961,
          42.53580093383789,
          39.995384216308594,
          7.305234909057617,
          11.574504852294922,
          39.690250396728516,
          37.807132720947266,
          42.070621490478516,
          9.170988082885742,
          39.04896545410156,
          40.5693359375,
          40.23293685913086,
          14.670398712158203,
          11.426036834716797,
          13.964920043945312,
          4.553821086883545,
          42.26358413696289,
          12.2446870803833,
          42.66908645629883,
          42.13715362548828,
          9.233834266662598,
          41.95943832397461,
          39.6358528137207,
          9.24713134765625,
          42.28811264038086,
          40.126190185546875,
          11.458253860473633,
          42.608154296875,
          42.670475006103516,
          11.224502563476562,
          11.29552936553955,
          42.19982147216797,
          8.260250091552734,
          4.556373119354248,
          39.69505310058594,
          42.66213607788086,
          42.18329620361328,
          12.113652229309082,
          11.011536598205566,
          11.800999641418457,
          11.444182395935059,
          4.553452968597412,
          12.523096084594727,
          14.622126579284668,
          42.68545150756836,
          11.372696876525879,
          8.323625564575195,
          42.2099494934082,
          13.765519142150879,
          8.293658256530762,
          39.901119232177734,
          13.57650375366211,
          13.83145523071289,
          39.87470245361328,
          13.761573791503906,
          39.977386474609375,
          4.571248531341553,
          40.04087448120117,
          11.869089126586914,
          4.77258825302124,
          39.730125427246094,
          42.962928771972656,
          39.393795013427734,
          13.700419425964355,
          9.271601676940918,
          13.805023193359375,
          39.833824157714844,
          13.622834205627441,
          8.201671600341797,
          13.74866008758545,
          42.372562408447266,
          42.67158508300781,
          14.462686538696289,
          8.254267692565918,
          40.02713394165039,
          14.838995933532715,
          40.59413146972656,
          11.62468433380127,
          8.70114517211914,
          39.671695709228516,
          37.88159942626953,
          40.90742492675781,
          39.44166946411133,
          12.281705856323242,
          12.055805206298828,
          8.560964584350586,
          11.881279945373535,
          13.74329948425293,
          11.823708534240723,
          13.6383056640625,
          40.86704635620117,
          11.73532772064209,
          15.057820320129395,
          13.755902290344238,
          8.368130683898926,
          37.747676849365234,
          42.07480239868164,
          11.784388542175293,
          42.854103088378906
         ],
         "xaxis": "x",
         "y": [
          3.993256092071533,
          4.026952743530273,
          6.354866027832031,
          2.482449769973755,
          1.245603322982788,
          2.6346490383148193,
          -2.2207136154174805,
          -2.6220574378967285,
          4.37949275970459,
          1.265897512435913,
          4.4610443115234375,
          4.523383617401123,
          3.9907491207122803,
          -2.22314453125,
          2.5575382709503174,
          2.5045015811920166,
          -2.1492512226104736,
          2.588632345199585,
          2.576420545578003,
          5.149176120758057,
          5.036378860473633,
          0.13289111852645874,
          6.190525531768799,
          1.3417034149169922,
          3.970209836959839,
          3.899965524673462,
          4.5836567878723145,
          4.977650165557861,
          -2.215451240539551,
          3.702798843383789,
          1.0763163566589355,
          6.150086402893066,
          -1.957253336906433,
          3.617704153060913,
          2.546666145324707,
          4.728135108947754,
          3.8658034801483154,
          3.769757032394409,
          2.3456244468688965,
          3.8285157680511475,
          2.321141004562378,
          4.159567356109619,
          3.9852285385131836,
          2.9061272144317627,
          5.054915904998779,
          5.78675651550293,
          1.0808444023132324,
          0.5939695835113525,
          4.08048677444458,
          3.6854748725891113,
          4.01571798324585,
          4.47549295425415,
          2.294802188873291,
          2.3206706047058105,
          2.2770328521728516,
          5.993444442749023,
          4.126799583435059,
          5.2185564041137695,
          5.228024482727051,
          4.583733558654785,
          2.8153843879699707,
          -1.024139165878296,
          4.411976337432861,
          4.407906532287598,
          4.406985759735107,
          4.4536967277526855,
          4.128937244415283,
          3.6055819988250732,
          -2.6215600967407227,
          3.8401834964752197,
          2.5580179691314697,
          2.540620803833008,
          3.8349530696868896,
          -2.1934173107147217,
          -2.261013984680176,
          -2.617814779281616,
          -0.458746999502182,
          -0.4626384675502777,
          -0.4700867235660553,
          -0.45826125144958496,
          -0.45508092641830444,
          -0.46047243475914,
          0.5317760705947876,
          4.158207416534424,
          0.9588940739631653,
          5.881487846374512,
          -0.7679799199104309,
          3.8010287284851074,
          4.363495826721191,
          5.260848045349121,
          -2.1409714221954346,
          0.6518756747245789,
          4.23289155960083,
          5.320517539978027,
          5.777800559997559,
          0.49141210317611694,
          2.4381730556488037,
          6.003984451293945,
          4.857406139373779,
          4.77214241027832,
          4.125034332275391,
          4.419841766357422,
          5.978503227233887,
          4.360052108764648,
          3.6003096103668213,
          4.376286029815674,
          3.766371965408325,
          3.8826470375061035,
          6.036546230316162,
          6.158942222595215,
          5.340518474578857,
          4.22381591796875,
          -2.2090811729431152,
          4.63065242767334,
          0.8700981140136719,
          4.721646785736084,
          5.8789191246032715,
          2.268073081970215,
          -2.2025794982910156,
          -2.119781970977783,
          4.398563385009766,
          -2.193600654602051,
          2.1695454120635986,
          0.589686930179596,
          4.3167877197265625,
          3.7491142749786377,
          0.6430306434631348,
          -1.780463457107544,
          -0.6001849174499512,
          1.14646315574646,
          -1.8047544956207275,
          3.5493223667144775,
          5.424023151397705,
          4.526369571685791,
          5.501158714294434,
          5.496068000793457,
          4.137613773345947,
          3.9858479499816895,
          3.1618919372558594,
          -2.240220546722412,
          3.263578176498413,
          -2.2199296951293945,
          -0.20419880747795105,
          2.6466124057769775,
          2.042606830596924,
          -1.037644863128662,
          5.094723224639893,
          1.0260213613510132,
          0.47862014174461365,
          6.025777816772461,
          1.0041354894638062,
          3.250373363494873,
          3.2200496196746826,
          4.398052215576172,
          4.18016242980957,
          5.414283752441406,
          -0.32799339294433594,
          3.8891422748565674,
          0.5945603847503662,
          0.6152672171592712,
          1.0950379371643066,
          5.392892360687256,
          2.192397356033325,
          0.5474109053611755,
          4.836965084075928,
          1.0963274240493774,
          4.152873516082764,
          0.6895012259483337,
          4.17672872543335,
          6.148463726043701,
          4.822930335998535,
          -1.6574593782424927,
          3.97902250289917,
          3.9568681716918945,
          3.935940980911255,
          0.9283005595207214,
          4.753836631774902,
          3.8847808837890625,
          0.6955525279045105,
          0.6858255863189697,
          0.6924922466278076,
          -1.7887706756591797,
          -0.8298793435096741,
          3.9818480014801025,
          5.097442626953125,
          -1.0672111511230469,
          0.5662575960159302,
          5.314197540283203,
          3.384873628616333,
          6.158812522888184,
          2.886535882949829,
          4.727693557739258,
          5.951857566833496,
          3.9098589420318604,
          3.9920718669891357,
          6.287813663482666,
          3.000129461288452,
          0.7191757559776306,
          2.717583417892456,
          2.742410898208618,
          6.238890647888184,
          -1.611706256866455,
          -1.7991191148757935,
          -1.8048505783081055,
          1.119638442993164,
          4.6557488441467285,
          4.567455768585205,
          1.1534409523010254,
          1.15400230884552,
          4.592545509338379,
          7.020649433135986,
          5.201085090637207,
          4.707594871520996,
          1.2240591049194336,
          4.268873691558838,
          4.663478374481201,
          1.155510663986206,
          4.01151704788208,
          1.2729283571243286,
          1.1537340879440308,
          4.127279758453369,
          1.1248970031738281,
          6.161560535430908,
          5.2852373123168945,
          4.145590782165527,
          -2.1019906997680664,
          6.213930606842041,
          6.157095432281494,
          5.0988850593566895,
          0.767295241355896,
          3.6649599075317383,
          3.7144386768341064,
          2.3505966663360596,
          -0.2696164846420288,
          6.177403450012207,
          6.160957336425781,
          3.931609869003296,
          0.5995509624481201,
          -0.2814011573791504,
          4.717263221740723,
          0.8750631809234619,
          0.8063478469848633,
          0.8014170527458191,
          4.3310370445251465,
          4.3165154457092285,
          2.4598264694213867,
          -2.288335084915161,
          -0.8994777798652649,
          3.6575958728790283,
          -2.2420425415039062,
          0.19400377571582794,
          0.2939792275428772,
          5.517996788024902,
          1.6609728336334229,
          2.7722585201263428,
          4.547939300537109,
          -1.9931519031524658,
          2.845690965652466,
          -2.244213104248047,
          -2.228426933288574,
          -2.298508882522583,
          -2.282703161239624,
          0.6361913084983826,
          -2.166867733001709,
          -2.1382532119750977,
          -2.204946756362915,
          -2.1610379219055176,
          -2.6164426803588867,
          0.6829699873924255,
          6.176501274108887,
          5.710636138916016,
          3.3668956756591797,
          5.5933380126953125,
          0.5640994906425476,
          0.7102735638618469,
          1.3221181631088257,
          4.271711826324463,
          1.3065180778503418,
          5.415187835693359,
          0.6166445016860962,
          6.199118614196777,
          0.6878601312637329,
          1.371666669845581,
          0.7466396689414978,
          0.6925097107887268,
          1.4235130548477173,
          1.4127986431121826,
          5.54490327835083,
          1.396127700805664,
          5.9947099685668945,
          2.7172718048095703,
          5.5743842124938965,
          6.235124111175537,
          3.4139633178710938,
          2.683393716812134,
          2.721674680709839,
          4.801395893096924,
          1.412602186203003,
          -2.0914206504821777,
          2.7131121158599854,
          2.7164978981018066,
          4.832104682922363,
          2.6241397857666016,
          3.8854072093963623,
          4.275245666503906,
          1.3616118431091309,
          5.210457801818848,
          4.536516189575195,
          0.5139009952545166,
          2.735741376876831,
          -2.186250686645508,
          6.137087821960449,
          3.8376622200012207,
          -0.18041470646858215,
          -2.154106616973877,
          -2.569793224334717,
          4.171806335449219,
          4.181254863739014,
          4.001611709594727,
          2.045358180999756,
          3.9180307388305664,
          6.108379364013672,
          2.6232247352600098,
          1.131216287612915,
          3.8792474269866943,
          -0.9878999590873718,
          0.5385897755622864,
          2.663665771484375,
          2.331273078918457,
          2.3779149055480957,
          4.647558212280273,
          4.069360733032227,
          3.808666229248047,
          -2.348109006881714,
          1.3560436964035034,
          2.724449872970581,
          3.7585418224334717,
          -1.0436006784439087,
          0.9935130476951599,
          -2.143173933029175,
          -2.0735440254211426,
          -0.9652278423309326,
          2.6717984676361084,
          -0.2719002962112427,
          -2.133838653564453,
          4.2788848876953125,
          -0.9551690220832825,
          4.8641767501831055,
          4.217712879180908,
          3.828990936279297,
          3.8700931072235107,
          4.313239097595215,
          3.617889404296875,
          2.8432846069335938,
          2.640263557434082,
          -0.5672069787979126,
          6.0339765548706055,
          5.298259258270264,
          -2.2618677616119385,
          4.617191791534424,
          3.3750975131988525,
          -1.8630403280258179,
          -0.48526084423065186,
          -2.129274845123291,
          3.8965728282928467,
          3.020112991333008,
          4.526374340057373,
          -2.294841766357422,
          4.763906002044678,
          6.147254467010498,
          -1.9509323835372925,
          2.053210735321045,
          -1.091511607170105,
          3.192615509033203,
          4.334982872009277,
          4.137770175933838,
          4.339796543121338,
          -0.29228675365448,
          4.161227703094482,
          -1.0595418214797974,
          3.77984881401062,
          -1.0374518632888794,
          3.9774222373962402,
          -2.2841947078704834,
          5.336572170257568,
          3.649331569671631,
          1.3113765716552734,
          1.295593500137329,
          1.0664023160934448,
          0.4719255864620209,
          5.793626308441162,
          3.8966615200042725,
          0.6419248580932617,
          -2.6227805614471436,
          0.9802271723747253,
          4.457250118255615,
          2.552297830581665,
          -0.48097458481788635,
          4.804131984710693,
          3.6626081466674805,
          4.5753350257873535,
          5.661874771118164,
          5.960548400878906,
          5.191491603851318,
          5.980686187744141,
          0.9287516474723816,
          6.286673069000244,
          2.94429874420166,
          4.595458030700684,
          0.7490338683128357,
          0.732873260974884,
          3.622420310974121,
          5.1990580558776855,
          1.2967783212661743,
          3.73533296585083,
          4.078442096710205,
          2.7335364818573,
          2.0565857887268066,
          5.337525367736816,
          -1.8185709714889526,
          6.098555088043213,
          7.020938873291016,
          2.9299566745758057,
          5.354127883911133,
          0.9828551411628723,
          0.6972850561141968,
          0.6852046251296997,
          2.642915725708008,
          2.8052406311035156,
          2.7989776134490967,
          4.516150951385498,
          5.004096508026123,
          -0.7878679633140564,
          2.6908786296844482,
          3.7735986709594727,
          3.620070695877075,
          5.332610607147217,
          5.338648319244385,
          2.902147054672241,
          3.8844680786132812,
          3.338688850402832,
          1.3263216018676758,
          2.8950119018554688,
          0.9205632209777832,
          4.421139717102051,
          1.0461981296539307,
          6.227344512939453,
          -1.037781834602356,
          6.155699729919434,
          1.1208174228668213,
          5.2332916259765625,
          -0.8593248128890991,
          4.760262966156006,
          4.415799617767334,
          4.568768501281738,
          0.7999731302261353,
          0.5479541420936584,
          -0.9625504016876221,
          4.780325889587402,
          1.0442103147506714,
          0.608163595199585,
          5.943199157714844,
          6.014678001403809,
          1.2795425653457642,
          1.0068535804748535,
          0.044980596750974655,
          2.5975828170776367,
          6.075584411621094,
          4.928172588348389,
          5.334283828735352,
          6.192043304443359,
          0.5281122922897339,
          2.2799034118652344,
          4.155285358428955,
          6.233434677124023,
          1.1988075971603394,
          4.3346943855285645,
          4.241333484649658,
          0.4244268536567688,
          3.694066047668457,
          1.1930147409439087,
          0.7103233337402344,
          4.559284687042236,
          -1.135701298713684,
          0.6250794529914856,
          5.246958255767822,
          1.2942711114883423,
          2.671447277069092,
          6.20569372177124,
          6.2006916999816895,
          0.9713244438171387,
          1.4154114723205566,
          1.0254669189453125,
          0.8298198580741882,
          0.5163061022758484,
          3.8811609745025635,
          3.8574581146240234,
          2.710575819015503,
          2.7090890407562256,
          2.577645778656006,
          2.901197671890259,
          3.850961446762085,
          3.6878511905670166,
          5.520431995391846,
          1.2376320362091064,
          4.11771821975708,
          -1.0949382781982422,
          -1.048861026763916,
          2.936023235321045,
          5.389021873474121,
          2.4660327434539795,
          -0.5213008522987366,
          4.710395812988281,
          4.716330528259277,
          6.1278462409973145,
          3.8460628986358643,
          3.9324698448181152,
          3.106586456298828,
          3.916400194168091,
          3.8694872856140137,
          3.8768527507781982,
          3.8957343101501465,
          3.875239372253418,
          -2.637688398361206,
          3.9040071964263916,
          3.844862699508667,
          3.9886817932128906,
          3.9873597621917725,
          4.005913257598877,
          3.8231070041656494,
          0.5690315961837769,
          2.484330415725708,
          3.4252498149871826,
          6.29709005355835,
          -2.6303911209106445,
          -2.481931447982788,
          4.389749050140381,
          -2.089012384414673,
          4.785127639770508,
          5.205840110778809,
          5.0699143409729,
          0.03842175379395485,
          0.6262155175209045,
          -1.116318702697754,
          3.0911149978637695,
          6.049330234527588,
          2.0676190853118896,
          6.332880020141602,
          6.090791702270508,
          4.655529022216797,
          4.789631366729736,
          1.642890453338623,
          1.6411815881729126,
          3.661285161972046,
          4.810847759246826,
          5.654938697814941,
          0.7392955422401428,
          4.376953125,
          5.047190189361572,
          -0.21602553129196167,
          1.3846434354782104,
          -1.8259999752044678,
          -2.6426682472229004,
          2.3203160762786865,
          0.7611879706382751,
          -2.6202800273895264,
          1.6435012817382812,
          1.6743714809417725,
          -0.9315333962440491,
          2.002387762069702,
          5.282694339752197,
          6.000696182250977,
          1.3038451671600342,
          2.6517457962036133,
          1.4275795221328735,
          1.1300448179244995,
          -2.546342372894287,
          1.1304148435592651,
          2.202850103378296,
          -0.8225166201591492,
          0.6190580725669861,
          1.6416503190994263,
          5.340022563934326,
          0.9258021116256714,
          3.9204115867614746,
          0.8486751914024353,
          4.868219375610352,
          0.6075674295425415,
          3.7845964431762695,
          2.219996213912964,
          3.6713526248931885,
          4.167277812957764,
          1.1551504135131836,
          2.8407161235809326,
          -0.2323748916387558,
          6.019242286682129,
          0.5720968246459961,
          -0.9453501105308533,
          5.4016432762146,
          -1.9819334745407104,
          2.0619053840637207,
          3.3666415214538574,
          2.699080467224121,
          -1.7973239421844482,
          4.2024641036987305,
          -2.0545034408569336,
          -0.18383751809597015,
          0.8222768306732178,
          -1.7913047075271606,
          7.020822525024414,
          2.688451051712036,
          6.223414897918701,
          4.413309097290039,
          6.164217472076416,
          5.593531131744385,
          4.752630233764648,
          -0.8589160442352295,
          4.106156826019287,
          2.6560792922973633,
          2.630110502243042,
          2.695516347885132,
          2.285795211791992,
          2.670484781265259,
          5.894215106964111,
          2.6624088287353516,
          2.657092809677124,
          2.724208354949951,
          5.856813430786133,
          -2.057460308074951,
          4.350679874420166,
          2.7134218215942383,
          3.876535415649414,
          4.448269367218018,
          1.1025608777999878,
          -0.5427685379981995,
          5.983930587768555,
          2.5609278678894043,
          6.112252712249756,
          0.2003924548625946,
          -2.639421224594116,
          5.902595043182373,
          4.646179676055908,
          3.7232916355133057,
          4.1250224113464355,
          3.8777549266815186,
          3.7600595951080322,
          5.249515533447266,
          5.160541534423828,
          5.9886322021484375,
          5.657846927642822,
          3.0056235790252686,
          4.084897041320801,
          5.141021728515625,
          5.115009307861328,
          3.759674310684204,
          -0.2679700553417206,
          2.423222780227661,
          3.8734359741210938,
          2.8090643882751465,
          4.6369547843933105,
          4.059078693389893,
          4.036455154418945,
          2.272177219390869,
          3.895108938217163,
          5.221999645233154,
          0.5622445940971375,
          6.182749271392822,
          -1.1855348348617554,
          2.2466025352478027,
          2.916337728500366,
          1.6317269802093506,
          4.119149208068848,
          2.6029555797576904,
          -0.872934103012085,
          5.355713367462158,
          6.188080787658691,
          6.021266937255859,
          5.339031219482422,
          -1.9633276462554932,
          5.044487476348877,
          3.6449344158172607,
          5.678556442260742,
          4.239060401916504,
          3.0169177055358887,
          -2.1463193893432617,
          3.5475735664367676,
          0.5218443274497986,
          -1.0751376152038574,
          3.6045477390289307,
          6.130307197570801,
          2.534186840057373,
          4.25390100479126,
          2.5519909858703613,
          1.5990289449691772,
          1.599024772644043,
          1.5610109567642212,
          3.0939953327178955,
          3.698537588119507,
          -1.799820065498352,
          -1.7919830083847046,
          -1.8489224910736084,
          -1.7690445184707642,
          1.090408444404602,
          0.6623555421829224,
          3.805866003036499,
          -0.20261387526988983,
          3.869797945022583,
          1.1711153984069824,
          4.100651264190674,
          5.026156425476074,
          0.4250169098377228,
          0.952063798904419,
          3.7685534954071045,
          3.820707321166992,
          2.3680617809295654,
          2.8081119060516357,
          1.2262541055679321,
          4.450911521911621,
          2.4708199501037598,
          3.3883702754974365,
          1.6194889545440674,
          -2.2668542861938477,
          2.501678228378296,
          5.975883960723877,
          -0.1968076229095459,
          3.81307053565979,
          5.227491855621338,
          6.103134632110596,
          0.46322113275527954,
          5.1757988929748535,
          2.01570463180542,
          3.6529622077941895,
          3.968827486038208,
          3.734402894973755,
          3.9477040767669678,
          1.081725001335144,
          4.205098628997803,
          -2.008720636367798,
          -1.9700666666030884,
          -1.922533392906189,
          0.9486142992973328,
          0.9510037899017334,
          3.941309690475464,
          3.989961862564087,
          4.0607452392578125,
          0.8852685689926147,
          -1.8954676389694214,
          2.7393910884857178,
          5.141723155975342,
          -0.201059952378273,
          0.8138617873191833,
          -0.2772640287876129,
          5.326786041259766,
          5.974765300750732,
          6.063266754150391,
          1.6035521030426025,
          1.6047736406326294,
          4.401507377624512,
          -0.7881019115447998,
          -1.0875388383865356,
          2.7421340942382812,
          -1.0358940362930298,
          4.038329124450684,
          5.340610027313232,
          0.04536314681172371,
          3.505913734436035,
          4.974871635437012,
          5.482819557189941,
          4.629848003387451,
          2.3633759021759033,
          3.402691125869751,
          2.925274133682251,
          2.604152202606201,
          -2.0268101692199707,
          6.091437339782715,
          -1.929612398147583,
          3.050874710083008,
          3.0809056758880615,
          2.3092308044433594,
          4.266694068908691,
          -0.8400782942771912,
          0.22736756503582,
          2.7069172859191895,
          3.085294008255005,
          -0.25194698572158813,
          0.4595220685005188,
          1.5945782661437988,
          1.5900911092758179,
          1.545210599899292,
          -1.986757755279541,
          1.5925512313842773,
          1.5878143310546875,
          1.620401382446289,
          1.5641260147094727,
          0.026994897052645683,
          0.05187802389264107,
          2.7121925354003906,
          4.19484806060791,
          -1.269490361213684,
          3.892094373703003,
          4.070217132568359,
          4.339382171630859,
          0.5441482067108154,
          3.7642226219177246,
          -0.9429401755332947,
          4.353767395019531,
          0.5385764241218567,
          -1.0487422943115234,
          5.273564338684082,
          2.8529367446899414,
          -0.6977388262748718,
          4.041860103607178,
          1.3099420070648193,
          -1.705759048461914,
          5.337717056274414,
          2.5960426330566406,
          -0.9288071990013123,
          3.8446598052978516,
          0.46212682127952576,
          0.544376790523529,
          0.4230422377586365,
          2.1888420581817627,
          4.364559650421143,
          -0.8389526605606079,
          1.2085758447647095,
          -0.7408652305603027,
          0.7665309309959412,
          3.6917426586151123,
          6.000384330749512,
          1.0786999464035034,
          1.058097004890442,
          0.31268560886383057,
          5.039392471313477,
          0.3132539987564087,
          2.6754140853881836,
          2.6400580406188965,
          -2.1657333374023438,
          5.567813396453857,
          6.084690093994141,
          0.5519387125968933,
          6.616643905639648,
          4.481338024139404,
          0.7899484038352966,
          0.4481818377971649,
          5.9991865158081055,
          5.229430198669434,
          2.895498752593994,
          2.859175682067871,
          3.8671507835388184,
          -1.0402638912200928,
          4.020183086395264,
          4.493796348571777,
          6.095762729644775,
          2.6573646068573,
          2.7325990200042725,
          0.9624305963516235,
          2.877916097640991,
          3.6773288249969482,
          3.084660291671753,
          4.696680068969727,
          0.8028599619865417,
          0.8228119611740112,
          4.665096759796143,
          4.446253299713135,
          0.8674044609069824,
          2.1526715755462646,
          -1.9049434661865234,
          6.013305187225342,
          3.0123372077941895,
          0.7751330733299255,
          4.033216953277588,
          7.02100133895874,
          3.2875585556030273,
          3.589850425720215,
          0.8224728107452393,
          3.8726677894592285,
          3.125833034515381,
          4.814250946044922,
          2.5903210639953613,
          -0.2130429446697235,
          1.6310189962387085,
          3.9114127159118652,
          -0.3925461769104004,
          2.598358154296875,
          3.4652984142303467,
          5.957544326782227,
          -1.0236480236053467,
          -2.1000256538391113,
          1.8468706607818604,
          3.9382336139678955,
          4.613384246826172,
          4.399139404296875,
          5.982819080352783,
          3.7081732749938965,
          2.9188575744628906,
          2.4389429092407227,
          3.6583571434020996,
          5.058746337890625,
          4.10251522064209,
          1.0703582763671875,
          1.779279351234436,
          4.111843585968018,
          0.43994012475013733,
          5.198312759399414,
          4.147852897644043,
          1.045432448387146,
          0.8989257216453552,
          3.905897617340088,
          2.7212913036346436,
          0.288372665643692,
          1.6500457525253296,
          -1.6046111583709717,
          5.071998596191406,
          3.83331298828125,
          3.497058629989624,
          3.2721054553985596,
          2.441117763519287,
          3.5749144554138184,
          2.494356393814087,
          3.594902992248535,
          -2.180887222290039,
          -2.176449775695801,
          -0.9373266100883484,
          -2.190279483795166,
          -0.9744105339050293,
          -2.2091214656829834,
          -2.1670172214508057,
          -2.1807432174682617,
          -2.191488265991211,
          -2.221184492111206,
          -2.218902111053467,
          0.6003519296646118,
          -2.1821863651275635,
          4.01540470123291,
          4.051121711730957,
          -2.195627450942993,
          -2.2065443992614746,
          2.750328540802002,
          3.0756309032440186,
          6.1163554191589355,
          -2.5615358352661133,
          -2.6312053203582764,
          3.749207019805908,
          4.734100341796875,
          -2.632417678833008,
          -2.613720417022705,
          -0.9276517033576965,
          -0.9277841448783875,
          -0.8756271004676819,
          3.9966742992401123,
          -0.19690905511379242,
          -0.29487302899360657,
          0.20476362109184265,
          -0.3085857927799225,
          4.391819477081299,
          4.470644474029541,
          -0.2148589789867401,
          3.849428176879883,
          2.566572904586792,
          2.6976282596588135,
          3.5687825679779053,
          3.0930731296539307,
          3.1020352840423584,
          5.250343322753906,
          4.372967720031738,
          4.196442604064941,
          4.277774333953857,
          4.496458053588867,
          4.3544230461120605,
          5.011693000793457,
          4.2375922203063965,
          4.219563007354736,
          4.244312286376953,
          2.65767240524292,
          3.1302289962768555,
          3.1033577919006348,
          4.396238803863525,
          4.004301071166992,
          2.380192995071411,
          4.266890048980713,
          4.024714469909668,
          3.519428014755249,
          6.1549391746521,
          2.577955961227417,
          6.13522481918335,
          6.142459392547607,
          2.5479543209075928,
          4.704965114593506,
          0.8980048298835754,
          2.812974214553833,
          2.8372106552124023,
          2.718125581741333,
          0.07362356036901474,
          3.4797263145446777,
          4.604281902313232,
          3.7323157787323,
          4.776505470275879,
          3.9925239086151123,
          3.58969783782959,
          0.8712553381919861,
          0.934836208820343,
          0.9289275407791138,
          4.6004557609558105,
          -0.2620234787464142,
          4.387576580047607,
          5.067269802093506,
          5.048330783843994,
          -0.22140981256961823,
          -0.394927442073822,
          3.6888267993927,
          0.8761757612228394,
          3.5530312061309814,
          2.6956748962402344,
          4.339969158172607,
          4.650457382202148,
          2.455321788787842,
          0.8202464580535889,
          2.679692506790161,
          4.209898948669434,
          2.619856834411621,
          2.632093906402588,
          2.5101571083068848,
          6.121078014373779,
          2.6218321323394775,
          4.93424129486084,
          2.784573793411255,
          2.7216858863830566,
          4.2636237144470215,
          0.7341443300247192,
          0.6612905859947205,
          0.9084877967834473,
          5.081283092498779,
          -2.168170690536499,
          0.5677787661552429,
          -0.9088863134384155,
          -2.211009979248047,
          0.5668157935142517,
          -0.9196292161941528,
          -2.1715915203094482,
          0.8345786333084106,
          3.249699354171753,
          0.546166718006134,
          -0.22185757756233215,
          4.006369590759277,
          4.96026086807251,
          4.305549144744873,
          4.542185306549072,
          5.580146312713623,
          4.600582122802734,
          3.999446153640747,
          2.492755174636841,
          2.5398573875427246,
          -2.4365289211273193,
          -2.4044342041015625,
          -2.3916211128234863,
          -2.399043321609497,
          3.951761245727539,
          -2.102241277694702,
          2.215330123901367,
          2.731226682662964,
          6.017266273498535,
          -2.6038553714752197,
          -2.6643152236938477,
          -2.676823139190674,
          -2.6631267070770264,
          2.660130023956299,
          4.76298713684082,
          0.5639494061470032,
          6.019094944000244,
          2.7458958625793457,
          4.3266191482543945,
          -2.1608657836914062,
          -2.1600875854492188,
          4.407435417175293,
          -2.0605642795562744,
          4.391332626342773,
          -2.600806713104248,
          4.97201681137085,
          2.8982059955596924,
          -2.542339324951172,
          -2.5840470790863037,
          -0.8193084597587585,
          -0.8756826519966125,
          -0.8381219506263733,
          5.162533760070801,
          -0.055020369589328766,
          -0.11320334672927856,
          3.5953779220581055,
          4.483178615570068,
          6.046630382537842,
          2.816220998764038,
          6.124607086181641,
          4.041889190673828,
          -2.1892879009246826,
          -0.8725499510765076,
          -0.9033764600753784,
          0.5385667681694031,
          5.177572727203369,
          4.4582953453063965,
          0.09154897928237915,
          3.1831977367401123,
          4.2913432121276855,
          -0.2924761176109314,
          0.4257495701313019,
          0.36431679129600525,
          5.08674430847168,
          5.073846340179443,
          4.106288433074951,
          5.001675128936768,
          3.572178363800049,
          4.656420707702637,
          4.4460930824279785,
          4.011228561401367,
          3.4445037841796875,
          4.6992363929748535,
          4.208020210266113,
          4.049408912658691,
          4.640357494354248,
          4.7413105964660645,
          0.9166873097419739,
          2.5836620330810547,
          3.7635819911956787,
          0.5867307782173157,
          6.294890403747559,
          2.6538071632385254,
          0.4872126281261444,
          0.5462086200714111,
          0.6676344871520996,
          6.161524772644043,
          2.8315811157226562,
          6.1350250244140625,
          3.218773126602173,
          0.7493526935577393,
          4.738041877746582,
          5.838125228881836,
          2.789930582046509,
          5.168115615844727,
          4.724544048309326,
          0.8080272674560547,
          -2.185955047607422,
          -2.1288905143737793,
          -2.215021848678589,
          -2.1961653232574463,
          -0.9531251192092896,
          -2.504030704498291,
          2.898210287094116,
          5.647819995880127,
          5.049565315246582,
          6.034414291381836,
          3.912970781326294,
          4.70711088180542,
          4.595529556274414,
          -2.111518144607544,
          -2.1061835289001465,
          -2.0730135440826416,
          6.025265693664551,
          -0.9183696508407593,
          3.866657018661499,
          6.081732749938965,
          -2.2337493896484375,
          5.658436298370361,
          4.100015640258789,
          0.9012913703918457,
          0.22449618577957153,
          2.77767014503479,
          6.220279693603516,
          -0.8853029012680054,
          6.0565361976623535,
          4.204280853271484,
          -0.21509712934494019,
          2.731401205062866,
          3.802098512649536,
          4.356942653656006,
          0.49226176738739014,
          3.437892198562622,
          0.6897005438804626,
          -0.21779121458530426,
          4.735315322875977,
          2.4774081707000732,
          4.703258037567139,
          3.8555076122283936,
          0.7516573667526245,
          3.023939609527588,
          3.333181858062744,
          3.443770408630371,
          3.1485626697540283,
          3.15482497215271,
          3.0356738567352295,
          5.656300067901611,
          0.04541795328259468,
          0.098895363509655,
          0.04590997099876404,
          6.236807346343994,
          4.579226016998291,
          4.290089130401611,
          4.470458507537842,
          3.5098679065704346,
          -0.30086350440979004,
          3.3799030780792236,
          0.7647459506988525,
          -0.3975202739238739,
          -0.42456477880477905,
          -0.40799441933631897,
          -0.42600542306900024,
          -0.42610979080200195,
          -0.39409539103507996,
          -0.4256855845451355,
          4.269522190093994,
          0.751842200756073,
          0.7527524828910828,
          4.1461405754089355,
          5.2259345054626465,
          0.6239334940910339,
          4.368912696838379,
          2.840268135070801,
          0.8558042049407959,
          0.8446310758590698,
          1.0499930381774902,
          0.8430307507514954,
          0.8410521149635315,
          0.8454071283340454,
          1.0554890632629395,
          -0.24971537292003632,
          5.653044700622559,
          4.050349235534668,
          -1.055901288986206,
          0.7366567254066467,
          0.725638210773468,
          0.7388092279434204,
          0.8599013090133667,
          0.8184772729873657,
          -1.0404582023620605,
          -1.0446854829788208,
          4.758472919464111,
          4.81070613861084,
          0.710243284702301,
          0.7197273373603821,
          0.7037715911865234,
          1.0639156103134155,
          1.096840739250183,
          0.7161776423454285,
          0.7147781252861023,
          -1.0096884965896606,
          0.7063798904418945,
          0.7160184979438782,
          5.7787675857543945,
          4.882096767425537,
          4.421725273132324,
          3.6371936798095703,
          -1.0510236024856567,
          1.1672792434692383,
          2.907953977584839,
          0.8677042126655579,
          0.838731050491333,
          6.165773868560791,
          6.088331699371338,
          6.0615234375,
          4.107657432556152,
          -2.040130615234375,
          -2.095959186553955,
          -2.1239707469940186,
          -2.103508234024048,
          -2.096182346343994,
          6.074670314788818,
          0.818436861038208,
          6.0232391357421875,
          2.883418321609497,
          2.8768205642700195,
          -2.2782340049743652,
          4.32170295715332,
          3.141338348388672,
          6.08567476272583,
          6.1315717697143555,
          0.030578017234802246,
          6.146426200866699,
          2.701679229736328,
          -2.1760311126708984,
          -2.195517063140869,
          6.157766342163086,
          0.6528965830802917,
          -2.4091334342956543,
          5.062166690826416,
          -2.1705162525177,
          -0.935936450958252,
          -0.9859093427658081,
          2.5876102447509766,
          -2.20097279548645,
          -0.9223646521568298,
          -2.1956989765167236,
          -2.156341075897217,
          -0.934351921081543,
          -2.142293930053711,
          2.7527785301208496,
          -2.1044259071350098,
          -1.7642146348953247,
          -1.957086443901062,
          -2.086216688156128,
          -2.2182271480560303,
          -2.200174570083618,
          2.6488590240478516,
          2.768388032913208,
          3.684508800506592,
          7.020761489868164,
          7.020648002624512,
          7.020625114440918,
          7.020908355712891,
          2.7210206985473633,
          7.02053689956665,
          7.0146050453186035,
          7.020969390869141,
          -2.157968521118164,
          -2.180945634841919,
          2.8804771900177,
          6.066386699676514,
          -0.934234082698822,
          0.4907345771789551,
          -1.9017125368118286,
          4.284000396728516,
          5.976410388946533,
          2.685396194458008,
          2.673661947250366,
          3.4009206295013428,
          4.298620223999023,
          1.0623447895050049,
          3.6923742294311523,
          4.310360431671143,
          3.744201898574829,
          3.8763630390167236,
          2.9610023498535156,
          6.25104284286499,
          2.219587802886963,
          2.2166738510131836,
          2.679949998855591,
          2.2304043769836426,
          0.7598468661308289,
          2.392909049987793,
          4.033400058746338,
          0.5168258547782898,
          4.144042491912842,
          2.666560173034668,
          0.5000541806221008,
          0.29208123683929443,
          5.138322830200195,
          2.678723096847534,
          2.678520441055298,
          2.5110158920288086,
          4.963106632232666,
          2.701897382736206,
          4.002713203430176,
          6.115286827087402,
          2.6810808181762695,
          4.113148212432861,
          0.9633718729019165,
          4.116777420043945,
          3.744947910308838,
          4.060719013214111,
          4.210723400115967,
          4.081641674041748,
          4.093851089477539,
          -2.370467185974121,
          2.764871597290039,
          2.7663350105285645,
          -2.0424296855926514,
          3.747297763824463,
          6.209852695465088,
          4.484462261199951,
          2.7715847492218018,
          4.685179233551025,
          3.644118547439575,
          4.449894905090332,
          3.004605770111084,
          2.8952741622924805,
          0.6518939733505249,
          4.44364070892334,
          5.226802825927734,
          2.583502769470215,
          4.4726080894470215,
          4.396744728088379,
          6.334783554077148,
          4.045609474182129,
          -0.3479546904563904,
          3.829962968826294,
          3.8202898502349854,
          -1.0543324947357178,
          4.124758243560791,
          5.738439559936523,
          6.000969886779785,
          4.378552436828613,
          4.09123420715332,
          -1.98600172996521,
          5.048894882202148,
          6.295265197753906,
          2.748501777648926,
          3.595998764038086,
          4.66943883895874,
          6.220196723937988,
          -1.359887957572937,
          3.180695056915283,
          4.212797164916992,
          3.972313165664673,
          3.996614456176758,
          3.988957166671753,
          4.315624713897705,
          3.864928960800171,
          3.864227294921875,
          -0.17390936613082886,
          4.849539279937744,
          4.841555118560791,
          3.0937798023223877,
          3.974475860595703,
          4.001247882843018,
          5.271671295166016,
          2.5152676105499268,
          4.7911224365234375,
          4.500985145568848,
          6.144442081451416,
          0.512984573841095,
          2.7640600204467773,
          2.7412524223327637,
          4.211191177368164,
          4.945423603057861,
          3.6280338764190674,
          3.6416218280792236,
          3.878006935119629,
          2.6458723545074463,
          3.2847628593444824,
          3.934290885925293,
          4.101555824279785,
          6.159510135650635,
          5.967092514038086,
          6.232324600219727,
          5.024899482727051,
          4.672081470489502,
          3.619699001312256,
          3.8502893447875977,
          3.855457305908203,
          4.2258806228637695,
          4.939333438873291,
          4.787160396575928,
          1.1202561855316162,
          4.0068840980529785,
          0.11707255244255066,
          -0.03829817473888397,
          -0.11445498466491699,
          -0.18279211223125458,
          2.7678914070129395,
          3.9218125343322754,
          2.8993356227874756,
          4.612462043762207,
          3.352904796600342,
          4.120187282562256,
          4.22564172744751,
          4.230907440185547,
          0.7038818597793579,
          0.7056026458740234,
          -2.159148931503296,
          2.7339186668395996,
          1.0830514430999756,
          1.9400397539138794,
          -0.34621116518974304,
          -0.20312903821468353,
          -0.9322539567947388,
          -0.943017303943634,
          -0.1740344762802124,
          -0.8767317533493042,
          3.931741714477539,
          4.336956024169922,
          3.8734352588653564,
          6.032645225524902,
          3.3644142150878906,
          4.4220871925354,
          0.9558736681938171,
          3.5821638107299805,
          2.448558807373047,
          3.915973663330078,
          4.279034614562988,
          0.5827464461326599,
          4.118928909301758,
          4.459288120269775,
          -2.663823366165161,
          6.020107269287109,
          5.998931884765625,
          3.582636594772339,
          4.367757320404053,
          4.347476959228516,
          4.334311008453369,
          -2.1941685676574707,
          3.18581485748291,
          3.7620365619659424,
          3.75350022315979,
          3.5372190475463867,
          2.77105712890625,
          -0.21308784186840057,
          5.06488561630249,
          3.901581287384033,
          5.256070613861084,
          4.992162704467773,
          6.058297157287598,
          2.8898983001708984,
          4.610375881195068,
          5.219681739807129,
          -2.1122794151306152,
          -2.203779697418213,
          2.777209520339966,
          2.183305501937866,
          2.6602447032928467,
          0.22895799577236176,
          2.8833396434783936,
          2.658564329147339,
          -1.8401330709457397,
          5.998434066772461,
          2.975628137588501,
          -0.3625223636627197,
          4.770869731903076,
          4.124854564666748,
          0.7110708355903625,
          4.443416118621826,
          4.142460823059082,
          4.576547145843506,
          3.5148069858551025,
          2.513880491256714,
          6.2259626388549805,
          -2.015073537826538,
          4.334476470947266,
          4.38658332824707,
          0.6018016934394836,
          -2.1882989406585693,
          3.6510322093963623,
          3.573131561279297,
          -2.214416265487671,
          -2.186446189880371,
          -2.171811103820801,
          0.06394057720899582,
          2.6982290744781494,
          4.07866907119751,
          2.0892035961151123,
          6.020205974578857,
          2.7491493225097656,
          2.5742201805114746,
          2.688084602355957,
          0.8849226832389832,
          -2.125969171524048,
          -0.88975989818573,
          2.9920434951782227,
          -2.280935764312744,
          -0.9312462210655212,
          4.001392364501953,
          5.310967922210693,
          2.5434932708740234,
          2.6797049045562744,
          -2.094000816345215,
          -2.0527231693267822,
          6.121862411499023,
          -0.9715461730957031,
          -0.9612599611282349,
          3.338834047317505,
          3.6954598426818848,
          1.12424898147583,
          2.5538082122802734,
          -2.2287962436676025,
          5.190996170043945,
          2.7803046703338623,
          2.636997699737549,
          3.0396008491516113,
          3.02927303314209,
          0.45269638299942017,
          0.4252091944217682,
          0.6284826397895813,
          0.6050835847854614,
          2.5943498611450195,
          1.0893315076828003,
          3.643974542617798,
          3.4501025676727295,
          5.978620529174805,
          5.261002063751221,
          5.07669734954834,
          4.974459171295166,
          3.263434648513794,
          3.1455342769622803,
          3.1146464347839355,
          2.8925509452819824,
          2.941422462463379,
          0.42235392332077026,
          7.020286560058594,
          6.2554826736450195,
          1.2115776538848877,
          4.672220706939697,
          6.254969120025635,
          0.31178018450737,
          6.210282802581787,
          0.9481489658355713,
          4.010371208190918,
          0.0282527357339859,
          5.559279918670654,
          -2.4151217937469482,
          3.501774311065674,
          3.8528478145599365,
          4.559901714324951,
          4.725737571716309,
          3.960601568222046,
          -1.9379143714904785,
          -1.8924964666366577,
          -2.056593418121338,
          3.951613426208496,
          3.753404378890991,
          -0.16462181508541107,
          3.0271880626678467,
          6.085831165313721,
          6.3868408203125,
          -2.1744225025177,
          -2.2055511474609375,
          4.173328876495361,
          5.960249423980713,
          -0.9409298300743103,
          4.7747931480407715,
          3.8260743618011475,
          3.823392868041992,
          0.028227854520082474,
          3.8550755977630615,
          5.5726423263549805,
          3.9519360065460205,
          3.7855842113494873,
          6.057663440704346,
          6.156539440155029,
          6.150221824645996,
          2.3337419033050537,
          -2.114957094192505,
          6.042907238006592,
          6.198940277099609,
          2.8199245929718018,
          6.068885326385498,
          3.7889792919158936,
          -2.1215598583221436,
          4.525019645690918,
          3.5641262531280518,
          -0.26134172081947327,
          2.8662896156311035,
          0.5809620022773743,
          3.6477210521698,
          4.450507640838623,
          3.177273988723755,
          2.689558982849121,
          0.913119912147522,
          2.9951324462890625,
          5.880896091461182,
          0.6970100402832031,
          2.843623399734497,
          0.9836781024932861,
          3.6973423957824707,
          -2.110628604888916,
          -2.1044719219207764,
          -2.1465227603912354,
          5.879699230194092,
          0.5220416784286499,
          0.5956597924232483,
          0.5232536196708679,
          0.07860782742500305,
          -2.1488559246063232,
          6.029231071472168,
          -0.4486144781112671,
          3.248472213745117,
          5.945927619934082,
          5.239670276641846,
          5.42673921585083,
          -2.2867751121520996,
          2.684821844100952,
          2.6935391426086426,
          2.5754506587982178,
          -2.1186423301696777,
          -0.5923584699630737,
          -0.9129244685173035,
          5.489594459533691,
          -0.869162917137146,
          2.6954565048217773,
          2.7138149738311768,
          3.0287129878997803,
          5.339263439178467,
          5.341163158416748,
          0.42814263701438904,
          5.339174747467041,
          5.329562664031982,
          3.430464506149292,
          -2.2636525630950928,
          -2.2673165798187256,
          -2.180929183959961,
          0.5529657602310181,
          2.6975607872009277,
          0.41950052976608276,
          2.477426767349243,
          0.0209965743124485,
          3.654608964920044,
          0.3701998293399811,
          -0.9456143975257874,
          5.062541484832764,
          -0.5695182681083679,
          -2.2858126163482666,
          -2.3028476238250732,
          -0.535603404045105,
          4.664677619934082,
          4.613685131072998,
          4.042463302612305,
          4.0932111740112305,
          3.7249014377593994,
          4.512518882751465,
          6.008164405822754,
          5.986759185791016,
          5.990945816040039,
          2.715669870376587,
          -2.0547232627868652,
          2.692563772201538,
          -0.34063491225242615,
          -1.050382375717163,
          4.69619083404541,
          5.02561092376709,
          0.61781245470047,
          -2.1797008514404297,
          -2.2089531421661377,
          2.453831434249878,
          0.4175775647163391,
          -2.1251933574676514,
          5.599698066711426,
          -0.3470456600189209,
          5.0466742515563965,
          0.8341392874717712,
          2.762357473373413,
          3.8742640018463135,
          0.6196417808532715,
          -2.1202938556671143,
          5.06158447265625,
          -0.8694108724594116,
          -2.2587356567382812,
          4.08399772644043,
          4.96490478515625,
          2.7204999923706055,
          -0.13539306819438934,
          5.063644886016846,
          -2.442472219467163,
          -0.9459320902824402,
          0.6055160164833069,
          5.020676136016846,
          3.9393985271453857,
          3.9091172218322754,
          1.251988172531128,
          6.284255504608154,
          1.0387940406799316,
          6.223355293273926,
          5.059263706207275,
          5.071872711181641,
          5.0570878982543945,
          6.321954250335693,
          6.311481475830078,
          -2.6687026023864746,
          3.855309247970581,
          4.052737712860107,
          2.764322519302368,
          2.7191123962402344,
          6.013779163360596,
          -2.146423101425171,
          -2.1189634799957275,
          -2.163680076599121,
          5.973241806030273,
          2.635531187057495,
          2.7328343391418457,
          -0.9388915300369263,
          -2.0800375938415527,
          -2.055981397628784,
          -2.080718517303467,
          -0.9359917640686035,
          4.9675164222717285,
          4.870097637176514,
          6.0655622482299805,
          0.5236800312995911,
          2.8375794887542725,
          -1.0505236387252808,
          4.109596252441406,
          3.9416863918304443,
          6.139532089233398,
          2.045295000076294,
          -2.359116315841675,
          2.8200128078460693,
          4.766176700592041,
          2.765913248062134,
          -2.1168103218078613,
          5.988080024719238,
          2.9004974365234375,
          5.30033016204834,
          3.8442625999450684,
          4.125983238220215,
          1.1539793014526367,
          1.094964623451233,
          1.3268481492996216,
          3.555931329727173,
          2.740255832672119,
          2.7086098194122314,
          2.689338207244873,
          1.3796100616455078,
          6.264450550079346,
          0.5259437561035156,
          1.4604034423828125,
          1.1558539867401123,
          3.3680663108825684,
          4.292352676391602,
          2.5999526977539062,
          6.070457935333252,
          2.6418185234069824,
          6.340230941772461,
          6.103312015533447,
          -2.127169609069824,
          2.5012309551239014,
          6.157021522521973,
          4.008059024810791,
          3.9992218017578125,
          3.556312084197998,
          2.8658952713012695,
          4.154414653778076,
          -2.0663418769836426,
          2.6537885665893555,
          -0.9145405292510986,
          -1.0901201963424683,
          -1.0758411884307861,
          5.365455627441406,
          5.353282451629639,
          2.8587188720703125,
          2.7987682819366455,
          -2.0545575618743896,
          5.159092903137207,
          6.150854587554932,
          0.6124541163444519,
          6.133401393890381,
          0.19036723673343658,
          4.024589538574219,
          4.003396034240723,
          5.683202266693115,
          4.327770709991455,
          3.2651631832122803,
          3.7906062602996826,
          1.1643019914627075,
          5.427760601043701,
          5.4264397621154785,
          -2.6469359397888184,
          6.060615539550781,
          2.5481836795806885,
          2.7085556983947754,
          -2.634258508682251,
          4.838318347930908,
          6.006482124328613,
          5.186602592468262,
          2.2728891372680664,
          0.515457034111023,
          -2.2973618507385254,
          3.8390378952026367,
          6.1392998695373535,
          5.552913188934326,
          4.177844047546387,
          3.8116369247436523,
          6.204051494598389,
          4.93515682220459,
          2.5315303802490234,
          2.889327049255371,
          2.4756879806518555,
          2.6606369018554688,
          2.6186275482177734,
          4.2170915603637695,
          -2.1058993339538574,
          3.8755578994750977,
          6.0751752853393555,
          4.010896682739258,
          -2.284248113632202,
          0.027639543637633324,
          3.5774896144866943,
          4.650395393371582,
          3.843386650085449,
          4.935659885406494,
          5.03095006942749,
          5.970839500427246,
          2.612253427505493,
          2.659907817840576,
          2.620065927505493,
          2.6272025108337402,
          -1.001297950744629,
          3.6509602069854736,
          0.7004820108413696,
          2.570934534072876,
          0.7493706941604614,
          0.8978090286254883,
          2.634629964828491,
          1.937577247619629,
          2.205048084259033,
          -0.1731119304895401,
          -0.14635296165943146,
          0.03746261075139046,
          1.4818130731582642,
          1.4088399410247803,
          4.3038201332092285,
          1.4747027158737183,
          0.56607985496521,
          1.6093616485595703,
          0.08594518899917603,
          2.7694649696350098,
          1.8332523107528687,
          1.8446332216262817,
          2.6736059188842773,
          2.333407163619995,
          2.179401397705078,
          1.8328500986099243,
          1.839104413986206,
          1.887701392173767,
          2.1374950408935547,
          0.8581215143203735,
          0.31129300594329834,
          4.300107955932617,
          1.7165189981460571,
          4.884740352630615,
          1.9736590385437012,
          1.1683751344680786,
          1.0033401250839233,
          0.7055345773696899,
          1.2031230926513672,
          1.1650304794311523,
          0.9399296641349792,
          5.560538291931152,
          1.457653522491455,
          1.4558169841766357,
          1.4566515684127808,
          1.448466181755066,
          1.2829457521438599,
          0.7737964391708374,
          0.1577526479959488,
          2.0035412311553955,
          1.850534200668335,
          1.4228745698928833,
          1.4480456113815308,
          1.6239142417907715,
          1.4523533582687378,
          1.8365235328674316,
          1.8419328927993774,
          1.8666712045669556,
          4.249698638916016,
          0.3582803010940552,
          4.250522613525391,
          0.8095086216926575,
          1.856376051902771,
          1.3091504573822021,
          3.0674829483032227,
          1.8425774574279785,
          2.256366491317749,
          2.0669376850128174,
          -0.20577453076839447,
          1.777910828590393,
          5.800255298614502,
          3.4664924144744873,
          0.4616211950778961,
          0.46499112248420715,
          2.2229909896850586,
          2.1862189769744873,
          2.2204227447509766,
          2.21040940284729,
          2.2405500411987305,
          1.8251014947891235,
          2.2209110260009766,
          5.808610916137695,
          -0.17546775937080383,
          0.9775155186653137,
          0.9746336936950684,
          -0.1651126593351364,
          1.4329763650894165,
          2.215865135192871,
          2.2279913425445557,
          4.751420497894287,
          3.0363759994506836,
          5.818283557891846,
          1.1134570837020874,
          4.300056457519531,
          2.212247848510742,
          2.1990177631378174,
          2.194932460784912,
          2.217780828475952,
          2.213602066040039,
          0.46360042691230774,
          0.46269088983535767,
          1.856937289237976,
          0.49776288866996765,
          -0.1990474909543991,
          0.12392085045576096,
          1.4380098581314087,
          2.171610116958618,
          2.100684881210327,
          0.4596872329711914,
          0.5009984970092773,
          2.014683246612549,
          -0.18194442987442017,
          3.6018810272216797,
          4.422805309295654,
          0.8671433925628662,
          5.991662502288818,
          -1.1412352323532104,
          2.76682186126709,
          -0.9705889225006104,
          -0.9674351811408997,
          3.851121425628662,
          -0.9687770009040833,
          6.1627631187438965,
          6.634147644042969,
          0.6549389362335205,
          5.028175354003906,
          0.7081698775291443,
          -0.8817144632339478,
          4.714468479156494,
          6.560862064361572,
          3.6001951694488525,
          -0.8495612144470215,
          3.0647573471069336,
          6.116833209991455,
          4.024145603179932,
          4.945409297943115,
          4.449965000152588,
          1.2792385816574097,
          -0.755686342716217,
          0.70469731092453,
          4.404399871826172,
          4.097158908843994,
          -1.047411561012268,
          -1.060585856437683,
          -1.0650484561920166,
          -1.0517642498016357,
          1.2894296646118164,
          0.42821452021598816,
          3.735898494720459,
          3.770090341567993,
          -0.7510093450546265,
          3.8370261192321777,
          5.222764492034912,
          6.555218696594238,
          0.8362416625022888,
          1.2943084239959717,
          5.320465087890625,
          2.705998182296753,
          6.775349140167236,
          4.949070930480957,
          0.8313223719596863,
          -0.18824833631515503,
          2.399549961090088,
          5.859536647796631,
          0.8188009262084961,
          3.8711419105529785,
          -1.0256239175796509,
          2.477938413619995,
          3.33362078666687,
          3.325531005859375,
          0.8389546871185303,
          0.7783452272415161,
          2.616896867752075,
          4.74268102645874,
          1.057642936706543,
          -0.9252027869224548,
          4.9108476638793945,
          0.87324458360672,
          -0.9495723843574524,
          6.788900375366211,
          0.8719542622566223,
          0.8582383990287781,
          0.8680192828178406,
          3.852266311645508,
          -0.7471369504928589,
          -0.7417986392974854,
          4.153927803039551,
          -0.9841046333312988,
          0.8454053401947021,
          0.6151043772697449,
          1.3396497964859009,
          1.3613845109939575,
          1.3775895833969116,
          1.417069673538208,
          3.780991554260254,
          1.393558144569397,
          5.425039768218994,
          -0.6880903840065002,
          6.604795932769775,
          0.8802333474159241,
          0.5614411234855652,
          2.963041305541992,
          3.0687971115112305,
          0.899555504322052,
          5.234853267669678,
          5.375311851501465,
          0.8870679140090942,
          3.6038763523101807,
          -0.8556668758392334,
          4.569113254547119,
          -0.6770576238632202,
          -1.0059844255447388,
          2.4339921474456787,
          4.679479122161865,
          3.886810541152954,
          0.5334903001785278,
          0.6508211493492126,
          5.003543376922607,
          -0.8177598714828491,
          -0.6921856999397278,
          5.910126209259033,
          0.26775190234184265,
          -0.7108252048492432,
          -0.5282922387123108,
          4.941471099853516,
          -0.21870310604572296,
          -0.19659483432769775,
          0.6681128740310669,
          0.7072597742080688,
          6.125988483428955,
          6.586209774017334,
          1.3258036375045776,
          5.937556743621826,
          5.912296295166016,
          3.738879442214966,
          5.8870439529418945,
          0.55169677734375,
          0.8649311065673828,
          0.8683095574378967,
          0.8684794306755066,
          0.8830589652061462,
          -0.739384114742279,
          0.11666847765445709,
          5.303772449493408,
          0.8784703612327576,
          0.7109241485595703,
          4.418973445892334,
          0.2592100203037262,
          6.305151462554932,
          4.7783403396606445,
          4.3083367347717285,
          -1.0236058235168457,
          1.2665878534317017,
          0.5503966212272644,
          5.918978691101074,
          1.414542317390442,
          2.9175667762756348,
          5.325575828552246,
          5.178171634674072,
          -0.8608039617538452,
          -0.8834792971611023,
          0.8079237341880798,
          -1.0643222332000732,
          0.9576322436332703,
          0.5358279943466187,
          1.1997196674346924,
          6.134776592254639,
          -0.722549557685852,
          -0.7071289420127869,
          0.7040097117424011,
          0.7266868352890015,
          3.217442274093628,
          0.2120184600353241,
          0.7142189741134644,
          -0.6725490093231201,
          0.8459060788154602,
          0.8239477872848511,
          4.4246110916137695,
          -0.7438791990280151,
          -1.5085623264312744,
          4.97207498550415,
          4.298080921173096,
          -0.14796552062034607,
          2.027031660079956,
          -0.5974578261375427,
          -1.0410712957382202,
          5.207651138305664,
          3.805408000946045,
          -0.10245012491941452,
          4.595159530639648,
          -1.0329911708831787,
          -0.7606931328773499,
          0.89167720079422,
          -0.9666157364845276,
          -1.0523329973220825,
          0.25573286414146423,
          4.1414642333984375,
          2.017218589782715,
          -0.16374623775482178,
          -1.5296276807785034,
          -1.4750986099243164,
          3.4973084926605225,
          -1.4358271360397339,
          0.8370063304901123,
          5.164860725402832,
          -0.76653653383255,
          -0.7606155872344971,
          0.20552442967891693,
          -0.19881685078144073,
          1.270423412322998,
          2.24280047416687,
          -0.9754581451416016,
          0.5983324646949768,
          -0.9731728434562683,
          3.603999137878418,
          3.271796464920044,
          0.9597009420394897,
          1.0732617378234863,
          2.752594232559204,
          4.759095668792725,
          -0.7259645462036133,
          4.359652042388916,
          2.4356889724731445,
          4.396459102630615,
          -1.0192434787750244,
          0.1462738960981369,
          -1.5446295738220215,
          -1.5391446352005005,
          5.883864402770996,
          6.76306676864624,
          4.7016096115112305,
          5.0041985511779785,
          0.8504484295845032,
          4.360611915588379,
          4.503338813781738,
          0.8709766268730164,
          6.1837921142578125,
          3.864713430404663,
          4.812844276428223,
          0.8437328934669495,
          -0.8303127288818359,
          4.477014541625977,
          6.175404071807861,
          -1.0562702417373657,
          5.889833450317383,
          -0.5719144344329834,
          5.9813385009765625,
          5.057224750518799,
          -0.9607706665992737,
          1.2396348714828491,
          4.524931907653809,
          1.3329074382781982,
          2.211247682571411,
          -0.16498878598213196,
          2.392169237136841,
          0.5985118746757507,
          5.224503040313721,
          -1.1520540714263916,
          -0.6176962852478027,
          3.7626590728759766,
          3.408341407775879,
          5.182552814483643,
          6.2975239753723145,
          4.455475330352783,
          1.178887963294983,
          -0.09482289105653763,
          -0.974321722984314,
          0.7422022819519043,
          6.166212558746338,
          -0.8427515029907227,
          4.688547611236572,
          4.316112995147705,
          0.8275874853134155,
          -0.15017645061016083,
          5.801021575927734,
          0.8958110213279724,
          5.7176995277404785,
          1.1603351831436157,
          -0.8994581699371338,
          -0.8982812762260437,
          -0.8395042419433594,
          2.0305233001708984,
          -0.20372475683689117,
          0.24459144473075867,
          3.926577091217041,
          0.291700541973114,
          0.4655955135822296,
          5.795903205871582,
          -1.4029513597488403,
          1.1046738624572754,
          1.1302236318588257,
          3.900176763534546,
          6.130093574523926,
          3.299098253250122,
          -0.3123467266559601,
          3.408686637878418,
          -1.3914992809295654,
          -0.12004035711288452,
          4.617989540100098,
          5.035431861877441,
          1.2282352447509766,
          0.8896926641464233,
          0.8273854851722717,
          3.0162196159362793,
          0.7181673645973206,
          6.651288986206055,
          6.7614054679870605,
          -1.602873682975769,
          -1.5991084575653076,
          -1.5862258672714233,
          -1.6097220182418823,
          -1.626122236251831,
          -1.614527702331543,
          3.6437618732452393,
          0.6445372700691223,
          4.608907222747803,
          0.8327114582061768,
          6.599600791931152,
          0.8353182077407837,
          4.637263298034668,
          3.7801990509033203,
          6.629724502563477,
          -0.7753310799598694,
          4.613677024841309,
          3.9317684173583984,
          3.7285265922546387,
          4.599984169006348,
          0.26886042952537537,
          0.8608309030532837,
          4.4264068603515625,
          -0.5762662291526794,
          -0.2944585978984833,
          -0.5317825078964233,
          0.8807575702667236,
          0.46111515164375305,
          3.7257473468780518,
          -1.2341573238372803,
          -0.8904972076416016,
          0.8206930160522461,
          -0.21815724670886993,
          1.0478956699371338,
          1.0708658695220947,
          1.0494722127914429,
          0.8296155333518982,
          0.8850960731506348,
          3.5563669204711914,
          5.015199661254883,
          -0.33096620440483093,
          5.241661071777344,
          -1.059093952178955,
          -1.420891284942627,
          0.23766683042049408,
          -0.19329670071601868,
          4.413592338562012,
          4.365158557891846,
          4.33236026763916,
          -0.7457956671714783,
          3.7508277893066406,
          4.631869792938232,
          4.572092056274414,
          3.969465732574463,
          4.623337745666504,
          3.8530309200286865,
          3.684108018875122,
          4.554551601409912,
          4.426054954528809,
          4.8760762214660645,
          3.8468141555786133,
          2.981522798538208,
          2.45115065574646,
          3.7344841957092285,
          4.887814521789551,
          -0.23207053542137146,
          6.662583351135254,
          3.338210105895996,
          3.9540562629699707,
          2.952089309692383,
          3.0249855518341064,
          -0.1300039142370224,
          4.427220344543457,
          2.3997340202331543,
          5.063605785369873,
          4.073077201843262,
          5.067052841186523,
          4.712702751159668,
          0.014405542053282261,
          3.077820062637329,
          5.050271511077881,
          6.204422473907471,
          0.8926684856414795,
          6.317373275756836,
          6.185502052307129,
          4.151344299316406,
          5.964385986328125,
          5.073660373687744,
          5.074249267578125,
          4.280216693878174,
          5.066903114318848,
          5.071601867675781,
          3.6656625270843506,
          3.6406118869781494,
          4.060914516448975,
          3.961535930633545,
          3.669625759124756,
          3.940704107284546,
          5.099690914154053,
          5.0682220458984375,
          -0.9761223196983337,
          4.46761417388916,
          5.367405414581299,
          4.367349147796631,
          0.396226167678833,
          3.782050371170044,
          0.4658864438533783,
          0.4139429032802582,
          0.38721874356269836,
          5.045533180236816,
          5.074349880218506,
          -0.987521767616272,
          -0.9374653697013855,
          4.572005271911621,
          3.869203567504883,
          0.4391512870788574,
          3.7351582050323486,
          6.590338706970215,
          6.694362163543701,
          0.7102688550949097,
          3.260406255722046,
          4.33705997467041,
          4.163708686828613,
          3.972001552581787,
          6.194884777069092,
          6.7592453956604,
          6.752615928649902,
          6.6868672370910645,
          0.8593019247055054,
          4.449561595916748,
          4.054986476898193,
          3.6156041622161865,
          3.4515957832336426,
          0.837594211101532,
          3.430595636367798,
          3.967496871948242,
          4.46950626373291,
          5.395646095275879,
          2.990971803665161,
          4.7527008056640625,
          6.770615100860596,
          0.7941612005233765,
          3.6287169456481934,
          -1.1131818294525146,
          0.9932560920715332,
          0.8140007257461548,
          6.030374050140381,
          5.030170440673828,
          6.663778305053711,
          3.6108100414276123,
          2.6508853435516357,
          3.623554229736328,
          2.033881425857544,
          0.8396797776222229,
          -0.830552339553833,
          6.664508819580078,
          2.4184582233428955,
          6.028123378753662,
          4.401143550872803,
          2.468085527420044,
          4.447165489196777,
          3.9511120319366455,
          0.8726138472557068,
          5.598033428192139,
          2.9199326038360596,
          4.057214260101318,
          0.8757655024528503,
          2.0525572299957275,
          -0.17446760833263397,
          4.549222946166992,
          3.732325792312622,
          2.095832109451294,
          4.098992347717285,
          0.8795737624168396,
          0.8581752181053162,
          0.7443280220031738,
          6.621983528137207,
          -0.16135676205158234,
          0.4189457893371582,
          2.9499478340148926,
          -0.8294782042503357,
          5.053279876708984,
          5.899289131164551,
          6.1223039627075195,
          5.162781238555908,
          5.814950466156006,
          -0.32884594798088074,
          6.670722484588623,
          2.424886703491211,
          0.8520474433898926,
          3.6439952850341797,
          3.6582982540130615,
          -0.73757004737854,
          0.8319456577301025,
          6.011283874511719,
          5.479297161102295,
          6.739872455596924,
          3.012476682662964,
          -0.19689396023750305,
          -0.32043007016181946,
          -0.27766749262809753,
          -0.30641090869903564,
          0.5293610095977783,
          4.183329105377197,
          3.730480432510376,
          3.3223702907562256,
          5.471743583679199,
          2.7950544357299805,
          5.539053916931152,
          -0.8913697600364685,
          2.3205909729003906,
          3.8033368587493896,
          0.823331892490387,
          6.234969139099121,
          6.313708305358887,
          -0.9782266020774841,
          4.2750959396362305,
          1.3985759019851685,
          1.374639868736267,
          -1.1448763608932495,
          6.635185241699219,
          -0.7722910642623901,
          4.099681854248047,
          3.853792667388916,
          4.44713830947876,
          0.875885009765625,
          5.26272439956665,
          6.060157775878906,
          3.666728973388672,
          0.8578000664710999,
          0.2979517877101898,
          4.170116424560547,
          3.9146978855133057,
          4.020144939422607,
          6.1576666831970215,
          3.5139811038970947,
          3.8129286766052246,
          3.1746222972869873,
          2.5560262203216553,
          3.555826425552368,
          -0.8557532429695129,
          3.8395533561706543,
          3.8586032390594482,
          4.739840030670166,
          0.857406735420227,
          3.4974513053894043,
          1.2248752117156982,
          2.360748291015625,
          2.395146369934082,
          3.212378740310669,
          0.2943498194217682,
          0.7115399241447449,
          5.259263515472412,
          6.056222438812256,
          5.854422569274902,
          4.570368766784668,
          3.2251338958740234,
          0.8668212890625,
          0.7194926738739014,
          0.23474717140197754,
          0.8339651823043823,
          0.2971053719520569,
          0.698848307132721,
          0.11055559664964676,
          2.7686100006103516,
          6.681552886962891,
          3.916499614715576,
          0.8416314125061035,
          0.8131517171859741,
          0.8853244185447693,
          0.29290008544921875,
          3.683488607406616,
          6.719000816345215,
          4.726207733154297,
          1.2003484964370728,
          5.4860076904296875,
          6.327159881591797,
          -0.6837530732154846,
          0.6999433636665344,
          2.9173524379730225,
          -0.9543591141700745,
          3.0646250247955322,
          6.75634765625,
          -0.18333108723163605,
          3.880831003189087,
          -1.089184045791626,
          4.225403785705566,
          3.0033462047576904,
          -0.5712053775787354,
          -0.24713045358657837,
          0.7377788424491882,
          -0.8987789154052734,
          0.8163914680480957,
          3.1420226097106934,
          0.8210305571556091,
          5.6634297370910645,
          -0.610821545124054,
          5.528782367706299,
          0.31127139925956726,
          0.7060579061508179,
          3.5970664024353027,
          6.232066631317139,
          0.7268025279045105,
          -0.15194320678710938,
          0.7100963592529297,
          0.2800520956516266,
          0.2334086149930954,
          2.965550661087036,
          0.27997761964797974,
          0.3058498799800873,
          -0.3910638988018036,
          0.8771860003471375,
          3.745082139968872,
          0.28469032049179077,
          0.3055429458618164,
          4.783057689666748,
          0.27982062101364136,
          5.79780387878418,
          3.7862277030944824,
          4.499332427978516,
          3.822260618209839,
          -0.9739095568656921,
          -0.8551064133644104,
          1.0011063814163208,
          -1.0591000318527222,
          4.091889381408691,
          5.562744140625,
          -0.556736171245575,
          4.042535781860352,
          3.010110378265381,
          5.857390880584717,
          5.219222545623779,
          6.251462459564209,
          5.979189872741699,
          0.8151324987411499,
          -0.7972468137741089,
          0.8289391994476318,
          4.709577560424805,
          3.811250686645508,
          -0.7195093631744385,
          3.3210697174072266,
          3.005767345428467,
          0.6336408853530884,
          2.4018373489379883,
          5.737244129180908,
          3.7810487747192383,
          4.419461727142334,
          4.100064754486084,
          4.325961589813232,
          4.006176948547363,
          -0.5904337763786316,
          5.007846355438232,
          3.8452327251434326,
          4.451254367828369,
          4.507349491119385,
          4.091358184814453,
          1.1492763757705688,
          2.187973737716675,
          5.23675012588501,
          0.9037790298461914,
          -0.20910954475402832,
          3.8392531871795654,
          0.2631421685218811,
          2.4736239910125732,
          2.4631872177124023,
          4.957327842712402,
          0.89034104347229,
          2.2693309783935547,
          2.1786446571350098,
          2.05611252784729,
          2.055213212966919,
          4.19731330871582,
          4.071549892425537,
          2.1854543685913086,
          0.8308421969413757,
          0.2877739369869232,
          5.843790054321289,
          5.8445210456848145,
          0.6652107238769531,
          0.7158832550048828,
          3.947035551071167,
          -0.6637111306190491,
          2.4583065509796143,
          5.082547664642334,
          -0.6294036507606506,
          -0.5994586944580078,
          0.08032172173261642,
          5.0829901695251465,
          0.3080402910709381,
          2.0686278343200684,
          4.417092323303223,
          1.1242061853408813,
          -0.9290056228637695,
          0.9525519609451294,
          0.8336390852928162,
          3.711423873901367,
          0.47915366291999817,
          0.6097674369812012,
          2.7789556980133057,
          -0.6406057476997375,
          2.9599297046661377,
          0.5877326726913452,
          5.017151832580566,
          0.8721486330032349,
          0.8856320977210999,
          5.073523998260498,
          3.7088568210601807,
          0.7122077345848083,
          -0.14066097140312195,
          2.958430528640747,
          5.8924241065979,
          0.699459433555603,
          0.6385416388511658,
          4.947422981262207,
          5.328770637512207,
          -0.7563000917434692,
          -0.8548917174339294,
          4.48822546005249,
          -0.6620618104934692,
          2.5058653354644775,
          -0.6584827899932861,
          5.053208351135254,
          6.748234272003174,
          1.3006409406661987,
          1.306606650352478,
          6.159111499786377,
          3.2456910610198975,
          4.961574554443359,
          1.3225456476211548,
          2.55791974067688,
          6.740245342254639,
          0.5924097895622253,
          0.63373202085495,
          -0.7450905442237854,
          5.26738977432251,
          5.077454566955566,
          6.045198440551758,
          4.109930515289307,
          0.6658398509025574,
          0.6742548942565918,
          4.388655662536621,
          1.3084187507629395,
          0.24806177616119385,
          6.665990829467773,
          0.6477540135383606,
          3.8768868446350098,
          3.6968445777893066,
          4.98518180847168,
          6.7538862228393555,
          -1.1606860160827637,
          -0.5672365427017212,
          6.729794025421143,
          2.7090461254119873,
          0.6134779453277588,
          3.8340485095977783,
          3.8963775634765625,
          2.3741672039031982,
          0.6588748693466187,
          4.090186595916748,
          0.6699658632278442,
          4.550849914550781,
          6.137357234954834,
          6.027935981750488,
          2.1767616271972656,
          0.3222939670085907,
          0.43852782249450684,
          -0.623354434967041,
          4.147098541259766,
          2.0287599563598633,
          4.041218280792236,
          4.678691387176514,
          6.239520072937012,
          2.6097705364227295,
          -0.9573891758918762,
          3.8643453121185303,
          -0.6400707960128784,
          -1.3702495098114014,
          0.24351666867733002,
          4.9131059646606445,
          0.8864108920097351,
          4.709685802459717,
          4.434655666351318,
          3.5510826110839844,
          4.814973831176758,
          6.271695137023926,
          2.4088900089263916,
          3.827667713165283,
          4.134433269500732,
          -0.5904157757759094,
          5.493963241577148,
          2.2087292671203613,
          6.16561222076416,
          0.649885356426239,
          0.22856110334396362,
          5.894810199737549,
          5.063154220581055,
          5.1059794425964355,
          3.8354713916778564,
          5.724375247955322,
          3.132291316986084,
          3.831882953643799,
          6.235550403594971,
          4.4142608642578125,
          4.324273109436035,
          -0.9711428284645081,
          4.507258415222168,
          4.278942108154297,
          3.032352924346924,
          4.382777690887451,
          0.20985431969165802,
          -0.8207170367240906,
          2.283116102218628,
          5.412797927856445,
          4.161017417907715,
          0.677447497844696,
          0.622128963470459,
          4.991481781005859,
          3.5447006225585938,
          0.6371968984603882,
          5.939761161804199,
          5.939622402191162,
          5.288769245147705,
          4.121903419494629,
          -0.14983655512332916,
          4.584641933441162,
          0.5993475317955017,
          0.6306418180465698,
          5.891286373138428,
          2.4615328311920166,
          3.6365537643432617,
          0.8240412473678589,
          4.794154167175293,
          3.4415009021759033,
          0.25525033473968506,
          4.736723899841309,
          0.6883966326713562,
          5.061686038970947,
          0.36977389454841614,
          0.23325134813785553,
          0.863533079624176,
          -0.9602117538452148,
          0.30417415499687195,
          0.92767733335495,
          4.345832347869873,
          4.278002738952637,
          4.519564628601074,
          -0.11795391142368317,
          6.698658466339111,
          1.1818865537643433,
          4.462141513824463,
          6.74130392074585,
          0.6816272735595703,
          -0.6940812468528748,
          0.6475236415863037,
          -1.018717885017395,
          3.6303048133850098,
          3.5415592193603516,
          6.829974174499512,
          -0.20937418937683105,
          0.6916776895523071,
          5.068812847137451,
          5.064899444580078,
          6.770486354827881,
          6.752143383026123,
          0.7968233227729797,
          0.10477215051651001,
          3.680554151535034,
          -0.6162117123603821,
          2.7834861278533936,
          5.880295753479004,
          5.931607723236084,
          0.8188591003417969,
          0.5753481388092041,
          4.336956024169922,
          1.2796282768249512,
          -1.3075275421142578,
          0.718203604221344,
          3.7601301670074463,
          3.7644052505493164,
          4.253960132598877,
          -0.7153723239898682,
          0.8135119676589966,
          0.8808996081352234,
          -1.0220392942428589,
          -1.0473138093948364,
          -0.3547900915145874,
          0.6960352659225464,
          4.593430995941162,
          -0.4698173403739929,
          5.416006088256836,
          -0.32560569047927856,
          5.540067195892334,
          5.5037360191345215,
          6.630517482757568,
          6.617175579071045,
          3.5046112537384033,
          -0.34211495518684387,
          -1.0291266441345215,
          0.7060322761535645,
          0.7014839053153992,
          5.0905961990356445,
          3.7934083938598633,
          5.997067451477051,
          0.5723397731781006,
          4.814301013946533,
          3.556344747543335,
          4.333213806152344,
          0.9114583134651184,
          4.3588337898254395,
          -1.0235179662704468,
          6.076789379119873,
          0.2773454189300537,
          -0.5601934790611267,
          3.369473934173584,
          -0.9448909759521484,
          -0.24246318638324738,
          6.72111701965332,
          0.9129684567451477,
          -0.9731453657150269,
          0.2733001112937927,
          1.1824853420257568,
          0.8513588905334473,
          0.6565855741500854,
          6.794711112976074,
          0.7075727581977844,
          1.4162054061889648,
          3.6989028453826904,
          0.7240630388259888,
          -0.22996403276920319,
          0.6554754972457886,
          0.8808556795120239,
          5.266420364379883,
          5.285266876220703,
          -0.23631474375724792,
          5.236184120178223,
          4.495337963104248,
          -0.717034637928009,
          6.26505708694458,
          1.121461033821106,
          0.9664868116378784,
          0.4536820650100708,
          6.780632495880127,
          0.8054826855659485,
          4.402482032775879,
          -0.24875770509243011,
          1.2827242612838745,
          6.748204231262207,
          6.8012614250183105,
          1.2445111274719238,
          0.7987840175628662,
          6.792118549346924,
          6.331837177276611,
          6.339881420135498,
          3.253384828567505,
          4.978784561157227,
          6.77402925491333,
          6.075077056884766,
          0.6956406831741333,
          -0.20284324884414673,
          5.476468086242676,
          6.149076461791992,
          4.141354560852051,
          3.82694935798645,
          2.785896062850952,
          0.16440489888191223,
          3.7626140117645264,
          -0.3966865837574005,
          2.3931777477264404,
          -0.2123698890209198,
          -0.7430009841918945,
          -0.9520800709724426,
          4.761415958404541,
          2.8158979415893555,
          5.934264659881592,
          5.277538299560547,
          -0.9777054786682129,
          1.0575863122940063,
          1.08696711063385,
          -0.9228641986846924,
          2.923090934753418,
          4.850153923034668,
          6.765736103057861,
          -1.0020211935043335,
          0.7612804770469666,
          -1.373435378074646,
          0.8253355026245117,
          -0.7926812767982483,
          1.1258670091629028,
          5.658143043518066,
          -0.20246466994285583,
          1.3036696910858154,
          0.8871737718582153,
          6.024188995361328,
          1.177770972251892,
          6.304807662963867,
          3.4812591075897217,
          5.239315509796143,
          2.39871883392334,
          4.655183792114258,
          0.7686336636543274,
          5.22071647644043,
          1.3038482666015625,
          1.3161697387695312,
          2.401221990585327,
          -0.7246845364570618,
          6.785797119140625,
          5.198702812194824,
          5.498328685760498,
          4.5990214347839355,
          -1.0264486074447632,
          -0.7480368614196777,
          -0.26128777861595154,
          4.483835697174072,
          6.337307453155518,
          3.8365046977996826,
          3.3356757164001465,
          3.2875008583068848,
          0.2932431697845459,
          0.7187796235084534,
          5.365462303161621,
          1.2929328680038452,
          -0.9253593683242798,
          1.3300732374191284,
          0.779485821723938,
          4.481260776519775,
          5.394354343414307,
          0.9704458117485046,
          1.007569432258606,
          1.2790842056274414,
          6.779882907867432,
          0.5374754071235657,
          0.7076653838157654,
          5.405381202697754,
          2.7937662601470947,
          -0.26965904235839844,
          4.371127128601074,
          -0.8228618502616882,
          6.787477016448975,
          0.7396350502967834,
          2.925408363342285,
          0.8471397757530212,
          3.3276028633117676,
          1.419468879699707,
          2.8665993213653564,
          1.0838730335235596,
          2.887178659439087,
          4.721171855926514,
          4.647216796875,
          6.680529594421387,
          5.07755184173584,
          4.301095008850098,
          6.031063079833984,
          2.007317543029785,
          -0.796416163444519,
          3.6298022270202637,
          3.828152894973755,
          2.3663666248321533,
          0.27032333612442017,
          2.8728203773498535,
          6.127644062042236,
          5.437621593475342,
          1.0390819311141968,
          -0.8125981092453003,
          -0.6239896416664124,
          6.7867889404296875,
          -0.2456287145614624,
          -0.5953425168991089,
          0.7176209092140198,
          -0.03680123761296272,
          0.2316865473985672,
          2.372804880142212,
          4.108788013458252,
          0.22162097692489624,
          -0.19705013930797577,
          3.5107595920562744,
          -0.7112521529197693,
          0.869590699672699,
          0.7117207050323486,
          -0.8789576292037964,
          -0.8665040135383606,
          2.0319910049438477,
          0.8889652490615845,
          6.778377532958984,
          3.691849708557129,
          0.7149713039398193,
          2.0384445190429688,
          -1.083680510520935,
          -0.6489267349243164,
          -0.992965817451477,
          -0.6948025226593018,
          6.779011249542236,
          -0.380562424659729,
          1.3579120635986328,
          0.6835119128227234,
          -0.6898133754730225,
          0.8336398601531982,
          1.0808038711547852,
          0.6941680312156677,
          0.8528755307197571,
          3.987467050552368,
          0.8834160566329956,
          0.803827166557312,
          3.468717098236084,
          1.348673939704895,
          5.863735675811768,
          6.801545143127441,
          6.058186054229736,
          -1.0802395343780518,
          6.2273383140563965,
          5.4563446044921875,
          4.75744104385376,
          6.248217582702637,
          1.275198221206665,
          0.20511959493160248,
          1.4172853231430054,
          4.619093894958496,
          0.9183930158615112,
          0.9497000575065613,
          0.7194608449935913,
          3.314068078994751,
          4.1153059005737305,
          0.6379380226135254,
          0.8987772464752197,
          5.619388103485107,
          0.8878961801528931,
          6.056133270263672,
          -1.401158332824707,
          0.5936664342880249,
          5.899604320526123,
          3.830441951751709,
          3.6465542316436768,
          6.175441741943359,
          -0.5971682071685791,
          -1.135622262954712,
          0.6752744317054749,
          -0.8609440922737122,
          1.318395972251892,
          -0.8053297400474548,
          1.299479603767395,
          3.617201805114746,
          -0.9543882012367249,
          1.086119532585144,
          1.3484394550323486,
          0.7827968001365662,
          3.8871304988861084,
          4.934519290924072,
          -0.9203723073005676,
          3.8941493034362793
         ],
         "yaxis": "y"
        }
       ],
       "layout": {
        "coloraxis": {
         "colorbar": {
          "title": {
           "text": "KMeans Cluster"
          }
         },
         "colorscale": [
          [
           0,
           "#0d0887"
          ],
          [
           0.1111111111111111,
           "#46039f"
          ],
          [
           0.2222222222222222,
           "#7201a8"
          ],
          [
           0.3333333333333333,
           "#9c179e"
          ],
          [
           0.4444444444444444,
           "#bd3786"
          ],
          [
           0.5555555555555556,
           "#d8576b"
          ],
          [
           0.6666666666666666,
           "#ed7953"
          ],
          [
           0.7777777777777778,
           "#fb9f3a"
          ],
          [
           0.8888888888888888,
           "#fdca26"
          ],
          [
           1,
           "#f0f921"
          ]
         ],
         "showscale": false
        },
        "legend": {
         "tracegroupgap": 0
        },
        "margin": {
         "t": 60
        },
        "showlegend": false,
        "template": {
         "data": {
          "bar": [
           {
            "error_x": {
             "color": "#2a3f5f"
            },
            "error_y": {
             "color": "#2a3f5f"
            },
            "marker": {
             "line": {
              "color": "white",
              "width": 0.5
             },
             "pattern": {
              "fillmode": "overlay",
              "size": 10,
              "solidity": 0.2
             }
            },
            "type": "bar"
           }
          ],
          "barpolar": [
           {
            "marker": {
             "line": {
              "color": "white",
              "width": 0.5
             },
             "pattern": {
              "fillmode": "overlay",
              "size": 10,
              "solidity": 0.2
             }
            },
            "type": "barpolar"
           }
          ],
          "carpet": [
           {
            "aaxis": {
             "endlinecolor": "#2a3f5f",
             "gridcolor": "#C8D4E3",
             "linecolor": "#C8D4E3",
             "minorgridcolor": "#C8D4E3",
             "startlinecolor": "#2a3f5f"
            },
            "baxis": {
             "endlinecolor": "#2a3f5f",
             "gridcolor": "#C8D4E3",
             "linecolor": "#C8D4E3",
             "minorgridcolor": "#C8D4E3",
             "startlinecolor": "#2a3f5f"
            },
            "type": "carpet"
           }
          ],
          "choropleth": [
           {
            "colorbar": {
             "outlinewidth": 0,
             "ticks": ""
            },
            "type": "choropleth"
           }
          ],
          "contour": [
           {
            "colorbar": {
             "outlinewidth": 0,
             "ticks": ""
            },
            "colorscale": [
             [
              0,
              "#0d0887"
             ],
             [
              0.1111111111111111,
              "#46039f"
             ],
             [
              0.2222222222222222,
              "#7201a8"
             ],
             [
              0.3333333333333333,
              "#9c179e"
             ],
             [
              0.4444444444444444,
              "#bd3786"
             ],
             [
              0.5555555555555556,
              "#d8576b"
             ],
             [
              0.6666666666666666,
              "#ed7953"
             ],
             [
              0.7777777777777778,
              "#fb9f3a"
             ],
             [
              0.8888888888888888,
              "#fdca26"
             ],
             [
              1,
              "#f0f921"
             ]
            ],
            "type": "contour"
           }
          ],
          "contourcarpet": [
           {
            "colorbar": {
             "outlinewidth": 0,
             "ticks": ""
            },
            "type": "contourcarpet"
           }
          ],
          "heatmap": [
           {
            "colorbar": {
             "outlinewidth": 0,
             "ticks": ""
            },
            "colorscale": [
             [
              0,
              "#0d0887"
             ],
             [
              0.1111111111111111,
              "#46039f"
             ],
             [
              0.2222222222222222,
              "#7201a8"
             ],
             [
              0.3333333333333333,
              "#9c179e"
             ],
             [
              0.4444444444444444,
              "#bd3786"
             ],
             [
              0.5555555555555556,
              "#d8576b"
             ],
             [
              0.6666666666666666,
              "#ed7953"
             ],
             [
              0.7777777777777778,
              "#fb9f3a"
             ],
             [
              0.8888888888888888,
              "#fdca26"
             ],
             [
              1,
              "#f0f921"
             ]
            ],
            "type": "heatmap"
           }
          ],
          "heatmapgl": [
           {
            "colorbar": {
             "outlinewidth": 0,
             "ticks": ""
            },
            "colorscale": [
             [
              0,
              "#0d0887"
             ],
             [
              0.1111111111111111,
              "#46039f"
             ],
             [
              0.2222222222222222,
              "#7201a8"
             ],
             [
              0.3333333333333333,
              "#9c179e"
             ],
             [
              0.4444444444444444,
              "#bd3786"
             ],
             [
              0.5555555555555556,
              "#d8576b"
             ],
             [
              0.6666666666666666,
              "#ed7953"
             ],
             [
              0.7777777777777778,
              "#fb9f3a"
             ],
             [
              0.8888888888888888,
              "#fdca26"
             ],
             [
              1,
              "#f0f921"
             ]
            ],
            "type": "heatmapgl"
           }
          ],
          "histogram": [
           {
            "marker": {
             "pattern": {
              "fillmode": "overlay",
              "size": 10,
              "solidity": 0.2
             }
            },
            "type": "histogram"
           }
          ],
          "histogram2d": [
           {
            "colorbar": {
             "outlinewidth": 0,
             "ticks": ""
            },
            "colorscale": [
             [
              0,
              "#0d0887"
             ],
             [
              0.1111111111111111,
              "#46039f"
             ],
             [
              0.2222222222222222,
              "#7201a8"
             ],
             [
              0.3333333333333333,
              "#9c179e"
             ],
             [
              0.4444444444444444,
              "#bd3786"
             ],
             [
              0.5555555555555556,
              "#d8576b"
             ],
             [
              0.6666666666666666,
              "#ed7953"
             ],
             [
              0.7777777777777778,
              "#fb9f3a"
             ],
             [
              0.8888888888888888,
              "#fdca26"
             ],
             [
              1,
              "#f0f921"
             ]
            ],
            "type": "histogram2d"
           }
          ],
          "histogram2dcontour": [
           {
            "colorbar": {
             "outlinewidth": 0,
             "ticks": ""
            },
            "colorscale": [
             [
              0,
              "#0d0887"
             ],
             [
              0.1111111111111111,
              "#46039f"
             ],
             [
              0.2222222222222222,
              "#7201a8"
             ],
             [
              0.3333333333333333,
              "#9c179e"
             ],
             [
              0.4444444444444444,
              "#bd3786"
             ],
             [
              0.5555555555555556,
              "#d8576b"
             ],
             [
              0.6666666666666666,
              "#ed7953"
             ],
             [
              0.7777777777777778,
              "#fb9f3a"
             ],
             [
              0.8888888888888888,
              "#fdca26"
             ],
             [
              1,
              "#f0f921"
             ]
            ],
            "type": "histogram2dcontour"
           }
          ],
          "mesh3d": [
           {
            "colorbar": {
             "outlinewidth": 0,
             "ticks": ""
            },
            "type": "mesh3d"
           }
          ],
          "parcoords": [
           {
            "line": {
             "colorbar": {
              "outlinewidth": 0,
              "ticks": ""
             }
            },
            "type": "parcoords"
           }
          ],
          "pie": [
           {
            "automargin": true,
            "type": "pie"
           }
          ],
          "scatter": [
           {
            "fillpattern": {
             "fillmode": "overlay",
             "size": 10,
             "solidity": 0.2
            },
            "type": "scatter"
           }
          ],
          "scatter3d": [
           {
            "line": {
             "colorbar": {
              "outlinewidth": 0,
              "ticks": ""
             }
            },
            "marker": {
             "colorbar": {
              "outlinewidth": 0,
              "ticks": ""
             }
            },
            "type": "scatter3d"
           }
          ],
          "scattercarpet": [
           {
            "marker": {
             "colorbar": {
              "outlinewidth": 0,
              "ticks": ""
             }
            },
            "type": "scattercarpet"
           }
          ],
          "scattergeo": [
           {
            "marker": {
             "colorbar": {
              "outlinewidth": 0,
              "ticks": ""
             }
            },
            "type": "scattergeo"
           }
          ],
          "scattergl": [
           {
            "marker": {
             "colorbar": {
              "outlinewidth": 0,
              "ticks": ""
             }
            },
            "type": "scattergl"
           }
          ],
          "scattermapbox": [
           {
            "marker": {
             "colorbar": {
              "outlinewidth": 0,
              "ticks": ""
             }
            },
            "type": "scattermapbox"
           }
          ],
          "scatterpolar": [
           {
            "marker": {
             "colorbar": {
              "outlinewidth": 0,
              "ticks": ""
             }
            },
            "type": "scatterpolar"
           }
          ],
          "scatterpolargl": [
           {
            "marker": {
             "colorbar": {
              "outlinewidth": 0,
              "ticks": ""
             }
            },
            "type": "scatterpolargl"
           }
          ],
          "scatterternary": [
           {
            "marker": {
             "colorbar": {
              "outlinewidth": 0,
              "ticks": ""
             }
            },
            "type": "scatterternary"
           }
          ],
          "surface": [
           {
            "colorbar": {
             "outlinewidth": 0,
             "ticks": ""
            },
            "colorscale": [
             [
              0,
              "#0d0887"
             ],
             [
              0.1111111111111111,
              "#46039f"
             ],
             [
              0.2222222222222222,
              "#7201a8"
             ],
             [
              0.3333333333333333,
              "#9c179e"
             ],
             [
              0.4444444444444444,
              "#bd3786"
             ],
             [
              0.5555555555555556,
              "#d8576b"
             ],
             [
              0.6666666666666666,
              "#ed7953"
             ],
             [
              0.7777777777777778,
              "#fb9f3a"
             ],
             [
              0.8888888888888888,
              "#fdca26"
             ],
             [
              1,
              "#f0f921"
             ]
            ],
            "type": "surface"
           }
          ],
          "table": [
           {
            "cells": {
             "fill": {
              "color": "#EBF0F8"
             },
             "line": {
              "color": "white"
             }
            },
            "header": {
             "fill": {
              "color": "#C8D4E3"
             },
             "line": {
              "color": "white"
             }
            },
            "type": "table"
           }
          ]
         },
         "layout": {
          "annotationdefaults": {
           "arrowcolor": "#2a3f5f",
           "arrowhead": 0,
           "arrowwidth": 1
          },
          "autotypenumbers": "strict",
          "coloraxis": {
           "colorbar": {
            "outlinewidth": 0,
            "ticks": ""
           }
          },
          "colorscale": {
           "diverging": [
            [
             0,
             "#8e0152"
            ],
            [
             0.1,
             "#c51b7d"
            ],
            [
             0.2,
             "#de77ae"
            ],
            [
             0.3,
             "#f1b6da"
            ],
            [
             0.4,
             "#fde0ef"
            ],
            [
             0.5,
             "#f7f7f7"
            ],
            [
             0.6,
             "#e6f5d0"
            ],
            [
             0.7,
             "#b8e186"
            ],
            [
             0.8,
             "#7fbc41"
            ],
            [
             0.9,
             "#4d9221"
            ],
            [
             1,
             "#276419"
            ]
           ],
           "sequential": [
            [
             0,
             "#0d0887"
            ],
            [
             0.1111111111111111,
             "#46039f"
            ],
            [
             0.2222222222222222,
             "#7201a8"
            ],
            [
             0.3333333333333333,
             "#9c179e"
            ],
            [
             0.4444444444444444,
             "#bd3786"
            ],
            [
             0.5555555555555556,
             "#d8576b"
            ],
            [
             0.6666666666666666,
             "#ed7953"
            ],
            [
             0.7777777777777778,
             "#fb9f3a"
            ],
            [
             0.8888888888888888,
             "#fdca26"
            ],
            [
             1,
             "#f0f921"
            ]
           ],
           "sequentialminus": [
            [
             0,
             "#0d0887"
            ],
            [
             0.1111111111111111,
             "#46039f"
            ],
            [
             0.2222222222222222,
             "#7201a8"
            ],
            [
             0.3333333333333333,
             "#9c179e"
            ],
            [
             0.4444444444444444,
             "#bd3786"
            ],
            [
             0.5555555555555556,
             "#d8576b"
            ],
            [
             0.6666666666666666,
             "#ed7953"
            ],
            [
             0.7777777777777778,
             "#fb9f3a"
            ],
            [
             0.8888888888888888,
             "#fdca26"
            ],
            [
             1,
             "#f0f921"
            ]
           ]
          },
          "colorway": [
           "#636efa",
           "#EF553B",
           "#00cc96",
           "#ab63fa",
           "#FFA15A",
           "#19d3f3",
           "#FF6692",
           "#B6E880",
           "#FF97FF",
           "#FECB52"
          ],
          "font": {
           "color": "#2a3f5f"
          },
          "geo": {
           "bgcolor": "white",
           "lakecolor": "white",
           "landcolor": "white",
           "showlakes": true,
           "showland": true,
           "subunitcolor": "#C8D4E3"
          },
          "hoverlabel": {
           "align": "left"
          },
          "hovermode": "closest",
          "mapbox": {
           "style": "light"
          },
          "paper_bgcolor": "white",
          "plot_bgcolor": "white",
          "polar": {
           "angularaxis": {
            "gridcolor": "#EBF0F8",
            "linecolor": "#EBF0F8",
            "ticks": ""
           },
           "bgcolor": "white",
           "radialaxis": {
            "gridcolor": "#EBF0F8",
            "linecolor": "#EBF0F8",
            "ticks": ""
           }
          },
          "scene": {
           "xaxis": {
            "backgroundcolor": "white",
            "gridcolor": "#DFE8F3",
            "gridwidth": 2,
            "linecolor": "#EBF0F8",
            "showbackground": true,
            "ticks": "",
            "zerolinecolor": "#EBF0F8"
           },
           "yaxis": {
            "backgroundcolor": "white",
            "gridcolor": "#DFE8F3",
            "gridwidth": 2,
            "linecolor": "#EBF0F8",
            "showbackground": true,
            "ticks": "",
            "zerolinecolor": "#EBF0F8"
           },
           "zaxis": {
            "backgroundcolor": "white",
            "gridcolor": "#DFE8F3",
            "gridwidth": 2,
            "linecolor": "#EBF0F8",
            "showbackground": true,
            "ticks": "",
            "zerolinecolor": "#EBF0F8"
           }
          },
          "shapedefaults": {
           "line": {
            "color": "#2a3f5f"
           }
          },
          "ternary": {
           "aaxis": {
            "gridcolor": "#DFE8F3",
            "linecolor": "#A2B1C6",
            "ticks": ""
           },
           "baxis": {
            "gridcolor": "#DFE8F3",
            "linecolor": "#A2B1C6",
            "ticks": ""
           },
           "bgcolor": "white",
           "caxis": {
            "gridcolor": "#DFE8F3",
            "linecolor": "#A2B1C6",
            "ticks": ""
           }
          },
          "title": {
           "x": 0.05
          },
          "xaxis": {
           "automargin": true,
           "gridcolor": "#EBF0F8",
           "linecolor": "#EBF0F8",
           "ticks": "",
           "title": {
            "standoff": 15
           },
           "zerolinecolor": "#EBF0F8",
           "zerolinewidth": 2
          },
          "yaxis": {
           "automargin": true,
           "gridcolor": "#EBF0F8",
           "linecolor": "#EBF0F8",
           "ticks": "",
           "title": {
            "standoff": 15
           },
           "zerolinecolor": "#EBF0F8",
           "zerolinewidth": 2
          }
         }
        },
        "xaxis": {
         "anchor": "y",
         "domain": [
          0,
          1
         ],
         "title": {
          "text": "Component 1"
         }
        },
        "yaxis": {
         "anchor": "x",
         "domain": [
          0,
          1
         ],
         "title": {
          "text": "Component 2"
         }
        }
       }
      }
     },
     "metadata": {},
     "output_type": "display_data"
    }
   ],
   "source": [
    "#palette=[\"#2BD8D8\", \"#FCB019\"]\n",
    "#palette=[\"#FC0B0B\", \"#F5B139\"] \n",
    "#palette=[\"#0772A7\", \"#F5B139\"] # palette for two clusters\n",
    "\n",
    "fig = px.scatter(\n",
    "    data_frame = train_df,\n",
    "    x = \"Component 1\",\n",
    "    y = \"Component 2\", \n",
    "    color = \"KMeans Cluster\",\n",
    "    hover_data = [\"Target\"],\n",
    "    #color_continuous_scale=px.colors.diverging.Picnic_r\n",
    "    #color_continuous_scale=palette\n",
    "    #opacity = 0.3\n",
    ") \n",
    "\n",
    "fig.update_coloraxes(showscale=False) # hide color bar\n",
    "fig.update_layout(\n",
    "    template=\"plotly_white\",\n",
    "    showlegend=False,\n",
    "    #width=500, \n",
    "    #height=500\n",
    ")\n",
    "\n",
    "fig.show()"
   ]
  },
  {
   "cell_type": "code",
   "execution_count": 27,
   "metadata": {},
   "outputs": [
    {
     "data": {
      "text/html": [
       "<div>\n",
       "<style scoped>\n",
       "    .dataframe tbody tr th:only-of-type {\n",
       "        vertical-align: middle;\n",
       "    }\n",
       "\n",
       "    .dataframe tbody tr th {\n",
       "        vertical-align: top;\n",
       "    }\n",
       "\n",
       "    .dataframe thead th {\n",
       "        text-align: right;\n",
       "    }\n",
       "</style>\n",
       "<table border=\"1\" class=\"dataframe\">\n",
       "  <thead>\n",
       "    <tr style=\"text-align: right;\">\n",
       "      <th></th>\n",
       "      <th>media_id</th>\n",
       "      <th>Media Cluster</th>\n",
       "    </tr>\n",
       "  </thead>\n",
       "  <tbody>\n",
       "    <tr>\n",
       "      <th>0</th>\n",
       "      <td>1</td>\n",
       "      <td>9</td>\n",
       "    </tr>\n",
       "    <tr>\n",
       "      <th>1</th>\n",
       "      <td>10</td>\n",
       "      <td>19</td>\n",
       "    </tr>\n",
       "    <tr>\n",
       "      <th>2</th>\n",
       "      <td>1000</td>\n",
       "      <td>5</td>\n",
       "    </tr>\n",
       "    <tr>\n",
       "      <th>3</th>\n",
       "      <td>1001</td>\n",
       "      <td>2</td>\n",
       "    </tr>\n",
       "    <tr>\n",
       "      <th>4</th>\n",
       "      <td>1002</td>\n",
       "      <td>11</td>\n",
       "    </tr>\n",
       "  </tbody>\n",
       "</table>\n",
       "</div>"
      ],
      "text/plain": [
       "  media_id  Media Cluster\n",
       "0        1              9\n",
       "1       10             19\n",
       "2     1000              5\n",
       "3     1001              2\n",
       "4     1002             11"
      ]
     },
     "execution_count": 27,
     "metadata": {},
     "output_type": "execute_result"
    }
   ],
   "source": [
    "# Saving the media clusters to a df for labeling other ml outputs\n",
    "train_df = train_df.rename(columns={\"Target\": \"media_id\", \"KMeans Cluster\": \"Media Cluster\"})\n",
    "train_df = train_df.drop([\"Component 1\", \"Component 2\"], axis=1)\n",
    "#train_df.to_csv(os.path.join(DATA_DIR, \"model\", \"media-clusters.csv\"), index=False)\n",
    "train_df.head()"
   ]
  }
 ],
 "metadata": {
  "kernelspec": {
   "display_name": "media",
   "language": "python",
   "name": "python3"
  },
  "language_info": {
   "codemirror_mode": {
    "name": "ipython",
    "version": 3
   },
   "file_extension": ".py",
   "mimetype": "text/x-python",
   "name": "python",
   "nbconvert_exporter": "python",
   "pygments_lexer": "ipython3",
   "version": "3.12.3"
  }
 },
 "nbformat": 4,
 "nbformat_minor": 2
}
