{
 "cells": [
  {
   "cell_type": "markdown",
   "id": "08b61789-a7a3-4738-aef2-aa7f7fc8fba3",
   "metadata": {},
   "source": [
    "https://bacdive.dsmz.de/tutorials\n",
    "\n",
    "0.1 Import packages, link to Bacdive Client (set up your own log-in from the bacdive website)"
   ]
  },
  {
   "cell_type": "code",
   "execution_count": 2,
   "id": "a5badfa6-5dd2-4ff1-98ca-1151f8949c01",
   "metadata": {
    "tags": []
   },
   "outputs": [
    {
     "name": "stdout",
     "output_type": "stream",
     "text": [
      "-- Authentication successful --\n"
     ]
    }
   ],
   "source": [
    "# Import packages\n",
    "import pandas as pd\n",
    "import bacdive\n",
    "# Initialize client\n",
    "client = bacdive.BacdiveClient('wjlowe03@gmail.com', 'UNINA_Bacdive')"
   ]
  },
  {
   "cell_type": "markdown",
   "id": "c4f0ad54-674f-46e1-9234-8f122a3fa045",
   "metadata": {},
   "source": [
    "1.1 Example on how to dump information from the api using the client"
   ]
  },
  {
   "cell_type": "code",
   "execution_count": 4,
   "id": "57ffbcf1-a373-4360-8fc8-0deb0db0ad30",
   "metadata": {
    "tags": []
   },
   "outputs": [
    {
     "name": "stdout",
     "output_type": "stream",
     "text": [
      "{'culture medium': [{'@ref': 1231, 'name': 'NUTRIENT AGAR (DSMZ Medium 1)', 'growth': 'yes', 'link': 'https://mediadive.dsmz.de/medium/1', 'composition': 'Name: NUTRIENT AGAR (DSMZ Medium 1)\\nComposition:\\nAgar 15.0 g/l\\nPeptone 5.0 g/l\\nMeat extract 3.0 g/l\\nDistilled water'}, {'@ref': 1231, 'name': 'CASO AGAR (MERCK 105458) (DSMZ Medium 220)', 'growth': 'yes', 'link': 'https://mediadive.dsmz.de/medium/220', 'composition': 'Name: CASO AGAR (Merck 105458) (DSMZ Medium 220)\\nComposition:\\nAgar 15.0 g/l\\nCasein peptone 15.0 g/l\\nNaCl 5.0 g/l\\nSoy peptone 5.0 g/l\\nDistilled water'}, {'@ref': 34912, 'name': 'MEDIUM 3 - Columbia agar', 'growth': 'yes', 'composition': 'Columbia agar (39.000 g);distilled water (1000.000 ml)'}, {'@ref': 121392, 'name': 'CIP Medium 3', 'growth': 'yes', 'link': 'https://catalogue-crbip.pasteur.fr/fiche_milieu.xhtml?crbip=3'}, {'@ref': 121392, 'name': 'CIP Medium 72', 'growth': 'yes', 'link': 'https://catalogue-crbip.pasteur.fr/fiche_milieu.xhtml?crbip=72'}], 'culture temp': [{'@ref': 1231, 'growth': 'positive', 'type': 'growth', 'temperature': '30'}, {'@ref': 34912, 'growth': 'positive', 'type': 'growth', 'temperature': '30'}, {'@ref': 67770, 'growth': 'positive', 'type': 'growth', 'temperature': '30'}]}\n",
      "{'oxygen tolerance': {'@ref': 121392, 'oxygen tolerance': 'obligate aerobe'}, 'observation': {'@ref': 67770, 'observation': 'quinones: MK-6'}, 'metabolite utilization': [{'@ref': 121392, 'Chebi-ID': 17632, 'metabolite': 'nitrate', 'utilization activity': '-', 'kind of utilization tested': 'reduction'}, {'@ref': 121392, 'Chebi-ID': 16301, 'metabolite': 'nitrite', 'utilization activity': '+', 'kind of utilization tested': 'reduction'}], 'metabolite production': {'@ref': 121392, 'Chebi-ID': 35581, 'metabolite': 'indole', 'production': 'no'}, 'enzymes': [{'@ref': 68382, 'value': 'alpha-fucosidase', 'activity': '-', 'ec': '3.2.1.51'}, {'@ref': 68382, 'value': 'alpha-mannosidase', 'activity': '-', 'ec': '3.2.1.24'}, {'@ref': 68382, 'value': 'N-acetyl-beta-glucosaminidase', 'activity': '-', 'ec': '3.2.1.52'}, {'@ref': 68382, 'value': 'beta-glucosidase', 'activity': '-', 'ec': '3.2.1.21'}, {'@ref': 68382, 'value': 'alpha-glucosidase', 'activity': '-', 'ec': '3.2.1.20'}, {'@ref': 68382, 'value': 'beta-glucuronidase', 'activity': '-', 'ec': '3.2.1.31'}, {'@ref': 68382, 'value': 'beta-galactosidase', 'activity': '-', 'ec': '3.2.1.23'}, {'@ref': 68382, 'value': 'alpha-galactosidase', 'activity': '-', 'ec': '3.2.1.22'}, {'@ref': 68382, 'value': 'naphthol-AS-BI-phosphohydrolase', 'activity': '+'}, {'@ref': 68382, 'value': 'acid phosphatase', 'activity': '+', 'ec': '3.1.3.2'}, {'@ref': 68382, 'value': 'alpha-chymotrypsin', 'activity': '-', 'ec': '3.4.21.1'}, {'@ref': 68382, 'value': 'trypsin', 'activity': '+', 'ec': '3.4.21.4'}, {'@ref': 68382, 'value': 'cystine arylamidase', 'activity': '-', 'ec': '3.4.11.3'}, {'@ref': 68382, 'value': 'valine arylamidase', 'activity': '-'}, {'@ref': 68382, 'value': 'leucine arylamidase', 'activity': '-', 'ec': '3.4.11.1'}, {'@ref': 68382, 'value': 'lipase (C 14)', 'activity': '-'}, {'@ref': 68382, 'value': 'esterase lipase (C 8)', 'activity': '+'}, {'@ref': 68382, 'value': 'esterase (C 4)', 'activity': '+'}, {'@ref': 68382, 'value': 'alkaline phosphatase', 'activity': '+', 'ec': '3.1.3.1'}, {'@ref': 121392, 'value': 'oxidase', 'activity': '+'}, {'@ref': 121392, 'value': 'catalase', 'activity': '+', 'ec': '1.11.1.6'}, {'@ref': 121392, 'value': 'urease', 'activity': '+', 'ec': '3.5.1.5'}], 'API zym': {'@ref': 121392, 'Control': '-', 'Alkaline phosphatase': '+', 'Esterase': '+', 'Esterase Lipase': '+', 'Lipase': '-', 'Leucine arylamidase': '-', 'Valine arylamidase': '-', 'Cystine arylamidase': '-', 'Trypsin': '+', 'alpha- Chymotrypsin': '-', 'Acid phosphatase': '+', 'Naphthol-AS-BI-phosphohydrolase': '+', 'alpha- Galactosidase': '-', 'beta- Galactosidase': '-', 'beta- Glucuronidase': '-', 'alpha- Glucosidase': '-', 'beta- Glucosidase': '-', 'N-acetyl-beta- glucosaminidase': '-', 'alpha- Mannosidase': '-', 'alpha- Fucosidase': '-'}}\n"
     ]
    }
   ],
   "source": [
    "client.search(id='5621')\n",
    "\n",
    "for strain in client.retrieve():\n",
    "    print(strain['Culture and growth conditions'])\n",
    "\n",
    "for strain in client.retrieve():\n",
    "    print(strain['Physiology and metabolism'])"
   ]
  },
  {
   "cell_type": "markdown",
   "id": "9fb8c771-a5c4-4d7e-9824-2de2135cd4ab",
   "metadata": {},
   "source": [
    "1.2 [Metabolite utilization ] Example on how to specify search fields (may be a better way to parse, but this is what GPT suggested)"
   ]
  },
  {
   "cell_type": "code",
   "execution_count": 6,
   "id": "8bd67625-0694-4e6d-8d29-3cb458dab596",
   "metadata": {
    "tags": []
   },
   "outputs": [],
   "source": [
    "client.search(id='5621')\n",
    "\n",
    "metu = [] #metabolite utilization\n",
    "# Extract 'Chebi-ID' and 'metabolite'\n",
    "for strain in client.retrieve(['metabolite utilization']):\n",
    "    metu.append(strain[list(strain)[0]][0]['metabolite utilization'])\n",
    "# Extract metabolite and Chebi-ID from the extracted information\n",
    "util = []\n",
    "for metabolite_utilization in metu:\n",
    "    for metabolite_info in metabolite_utilization:\n",
    "        metabolite = metabolite_info.get('metabolite')\n",
    "        chebi = metabolite_info.get('Chebi-ID')\n",
    "        util.append({'Metabolite': metabolite, 'Chebi-ID': chebi})\n",
    "# Create DataFrame from the list of dictionaries\n",
    "util_df = pd.DataFrame(util)\n",
    "#util_df"
   ]
  },
  {
   "cell_type": "markdown",
   "id": "e9691dff-28c9-47ce-b475-ed2e174de5ff",
   "metadata": {},
   "source": [
    "1.3 [Media information] Example on how to extract media information from bacdive (MediaDive api is preferred for this)"
   ]
  },
  {
   "cell_type": "code",
   "execution_count": 8,
   "id": "bedfa7af-8e27-4024-b50a-498ecd45a8d6",
   "metadata": {
    "tags": []
   },
   "outputs": [],
   "source": [
    "client.search(id='5621')\n",
    "\n",
    "media = []\n",
    "for strain in client.retrieve(['culture medium']):\n",
    "    media.append(strain[list(strain)[0]][0]['culture medium'])\n",
    "    \n",
    "media_data = []\n",
    "for medium_info in media[0]:  # Assuming the output is a list containing one nested list\n",
    "    if 'composition' in medium_info:  # Check if 'composition' key exists\n",
    "        name = medium_info['name']\n",
    "        composition = medium_info['composition']\n",
    "        media_data.append({'Name': name, 'Composition': composition})\n",
    "\n",
    "media_df = pd.DataFrame(media_data)\n",
    "#media_df"
   ]
  },
  {
   "cell_type": "markdown",
   "id": "461df17b-bb7e-44b5-a86e-9eb1b5ad967e",
   "metadata": {},
   "source": [
    "2.1 [Metabolism information] Extracting information from the 'Physiology and metabolism' field into a dataframe"
   ]
  },
  {
   "cell_type": "code",
   "execution_count": 10,
   "id": "a72a97bc-5d21-4160-8279-7dc99ef0e4f2",
   "metadata": {
    "tags": []
   },
   "outputs": [
    {
     "name": "stdout",
     "output_type": "stream",
     "text": [
      "Error processing strain ID 1000: list index out of range\n",
      "      @ref                            value activity        ec bacdive_id\n",
      "0    68382                 alpha-fucosidase        -  3.2.1.51       5621\n",
      "1    68382                alpha-mannosidase        -  3.2.1.24       5621\n",
      "2    68382    N-acetyl-beta-glucosaminidase        -  3.2.1.52       5621\n",
      "3    68382                 beta-glucosidase        -  3.2.1.21       5621\n",
      "4    68382                alpha-glucosidase        -  3.2.1.20       5621\n",
      "5    68382               beta-glucuronidase        -  3.2.1.31       5621\n",
      "6    68382               beta-galactosidase        -  3.2.1.23       5621\n",
      "7    68382              alpha-galactosidase        -  3.2.1.22       5621\n",
      "8    68382  naphthol-AS-BI-phosphohydrolase        +       NaN       5621\n",
      "9    68382                 acid phosphatase        +   3.1.3.2       5621\n",
      "10   68382               alpha-chymotrypsin        -  3.4.21.1       5621\n",
      "11   68382                          trypsin        +  3.4.21.4       5621\n",
      "12   68382              cystine arylamidase        -  3.4.11.3       5621\n",
      "13   68382               valine arylamidase        -       NaN       5621\n",
      "14   68382              leucine arylamidase        -  3.4.11.1       5621\n",
      "15   68382                    lipase (C 14)        -       NaN       5621\n",
      "16   68382            esterase lipase (C 8)        +       NaN       5621\n",
      "17   68382                   esterase (C 4)        +       NaN       5621\n",
      "18   68382             alkaline phosphatase        +   3.1.3.1       5621\n",
      "19  121392                          oxidase        +       NaN       5621\n",
      "20  121392                         catalase        +  1.11.1.6       5621\n",
      "21  121392                           urease        +   3.5.1.5       5621\n",
      "22   68369                       gelatinase        +       NaN     139709\n",
      "23   68369                 beta-glucosidase        -  3.2.1.21     139709\n",
      "24   68369                           urease        +   3.5.1.5     139709\n",
      "25   68369             arginine dihydrolase        -   3.5.3.6     139709\n"
     ]
    }
   ],
   "source": [
    "import pandas as pd\n",
    "\n",
    "# List of bacdive IDs\n",
    "strain_ids = ['5621', '139709','1000']\n",
    "\n",
    "ec = []\n",
    "for strain_id in strain_ids:\n",
    "    # Retrieve data for the current strain ID\n",
    "    client.search(id=strain_id)\n",
    "  \n",
    "    try:\n",
    "        retrieved_data = client.retrieve(['enzymes'])\n",
    "        if not retrieved_data:\n",
    "            print(f\"No data returned for strain ID {strain_id}\")\n",
    "            continue\n",
    "\n",
    "        for strain in retrieved_data:\n",
    "            strain_key = list(strain)[0]\n",
    "            if 'enzymes' in strain[strain_key][0]:\n",
    "                enzymes = strain[strain_key][0]['enzymes']\n",
    "                \n",
    "                # Flatten the list of enzyme information and add strain_id\n",
    "                if enzymes:  # Check if the enzymes list is not empty\n",
    "                    for enzyme_info in enzymes:\n",
    "                        enzyme_info['bacdive_id'] = strain_id\n",
    "                        ec.append(enzyme_info)\n",
    "            else:\n",
    "                print(f\"No enzymes data for strain ID {strain_id}\")\n",
    "\n",
    "    except IndexError as e:\n",
    "        print(f\"Error processing strain ID {strain_id}: {e}\")\n",
    "    except Exception as e:\n",
    "        print(f\"Unexpected error processing strain ID {strain_id}: {e}\")\n",
    "\n",
    "# Create DataFrame from enzyme information\n",
    "if ec:  # Check if there are any enzyme entries\n",
    "    ec_df = pd.DataFrame(ec)\n",
    "    # Display the DataFrame\n",
    "    print(ec_df)\n",
    "else:\n",
    "    print(\"No enzyme data found for the provided strain IDs.\")\n"
   ]
  },
  {
   "cell_type": "markdown",
   "id": "94d6c902-c637-486c-9ced-eb0f80475cd4",
   "metadata": {},
   "source": [
    "2.2 Formatting our dataframe for ec info"
   ]
  },
  {
   "cell_type": "code",
   "execution_count": 16,
   "id": "fd3a6317-6516-4bc7-8016-90226e9b008d",
   "metadata": {
    "tags": []
   },
   "outputs": [
    {
     "data": {
      "text/html": [
       "<div>\n",
       "<style scoped>\n",
       "    .dataframe tbody tr th:only-of-type {\n",
       "        vertical-align: middle;\n",
       "    }\n",
       "\n",
       "    .dataframe tbody tr th {\n",
       "        vertical-align: top;\n",
       "    }\n",
       "\n",
       "    .dataframe thead th {\n",
       "        text-align: right;\n",
       "    }\n",
       "</style>\n",
       "<table border=\"1\" class=\"dataframe\">\n",
       "  <thead>\n",
       "    <tr style=\"text-align: right;\">\n",
       "      <th></th>\n",
       "      <th>bacdive_id</th>\n",
       "      <th>ec</th>\n",
       "    </tr>\n",
       "  </thead>\n",
       "  <tbody>\n",
       "    <tr>\n",
       "      <th>0</th>\n",
       "      <td>139709</td>\n",
       "      <td>[3.2.1.21, 3.5.1.5, 3.5.3.6]</td>\n",
       "    </tr>\n",
       "    <tr>\n",
       "      <th>1</th>\n",
       "      <td>5621</td>\n",
       "      <td>[3.2.1.51, 3.2.1.24, 3.2.1.52, 3.2.1.21, 3.2.1...</td>\n",
       "    </tr>\n",
       "  </tbody>\n",
       "</table>\n",
       "</div>"
      ],
      "text/plain": [
       "  bacdive_id                                                 ec\n",
       "0     139709                       [3.2.1.21, 3.5.1.5, 3.5.3.6]\n",
       "1       5621  [3.2.1.51, 3.2.1.24, 3.2.1.52, 3.2.1.21, 3.2.1..."
      ]
     },
     "execution_count": 16,
     "metadata": {},
     "output_type": "execute_result"
    }
   ],
   "source": [
    "# Reformatting the retrieved data into a format that can be merged with the master table (MediaDive output)\n",
    "ec_subset = ec_df[['bacdive_id','ec']]\n",
    "ec_subset = ec_subset.dropna()\n",
    "ec_grouped = ec_subset.groupby('bacdive_id').agg(lambda x: list(x)).reset_index()\n",
    "ec_grouped"
   ]
  },
  {
   "cell_type": "code",
   "execution_count": null,
   "id": "77789c94-6d9b-4406-b312-5f2a452c894e",
   "metadata": {},
   "outputs": [],
   "source": []
  }
 ],
 "metadata": {
  "kernelspec": {
   "display_name": "Python 3 (ipykernel)",
   "language": "python",
   "name": "python3"
  },
  "language_info": {
   "codemirror_mode": {
    "name": "ipython",
    "version": 3
   },
   "file_extension": ".py",
   "mimetype": "text/x-python",
   "name": "python",
   "nbconvert_exporter": "python",
   "pygments_lexer": "ipython3",
   "version": "3.11.7"
  }
 },
 "nbformat": 4,
 "nbformat_minor": 5
}
